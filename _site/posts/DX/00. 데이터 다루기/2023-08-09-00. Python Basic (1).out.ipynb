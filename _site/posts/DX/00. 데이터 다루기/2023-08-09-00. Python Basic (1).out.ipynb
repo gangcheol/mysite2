{
  "cells": [
    {
      "cell_type": "markdown",
      "metadata": {},
      "source": [
        "# 00. Python Basic (1)\n",
        "\n",
        "GC  \n",
        "2023-08-09\n",
        "\n",
        "# 드라이브 마운트"
      ],
      "id": "8d1c9643-4490-485f-8498-fbf02214110b"
    },
    {
      "cell_type": "code",
      "execution_count": null,
      "metadata": {
        "executionInfo": {
          "elapsed": 1759,
          "status": "ok",
          "timestamp": 1691544162021,
          "user": {
            "displayName": "ccc flkwerkdai",
            "userId": "13507850890638580947"
          },
          "user_tz": -540
        },
        "outputId": "526bcdc8-d370-4c3f-db41-f16486b2e52e"
      },
      "outputs": [
        {
          "output_type": "stream",
          "name": "stdout",
          "text": [
            "Drive already mounted at /content/drive; to attempt to forcibly remount, call drive.mount(\"/content/drive\", force_remount=True)."
          ]
        }
      ],
      "source": [
        "from google.colab import drive\n",
        "drive.mount('/content/drive')"
      ],
      "id": "2a7b4d69-3bc8-46d1-8fdd-1b81a1972100"
    },
    {
      "cell_type": "code",
      "execution_count": null,
      "metadata": {
        "executionInfo": {
          "elapsed": 4,
          "status": "ok",
          "timestamp": 1691544170922,
          "user": {
            "displayName": "ccc flkwerkdai",
            "userId": "13507850890638580947"
          },
          "user_tz": -540
        },
        "outputId": "b189e686-a590-48dc-880a-e78ac860f1ee"
      },
      "outputs": [
        {
          "output_type": "stream",
          "name": "stdout",
          "text": [
            "/content/drive/MyDrive/Colab Notebooks/DX/1wk"
          ]
        }
      ],
      "source": [
        "cd /content/drive/MyDrive/Colab Notebooks/DX/1wk"
      ],
      "id": "cd39f174-c75e-4ece-8339-4596e9bb57c2"
    },
    {
      "cell_type": "markdown",
      "metadata": {},
      "source": [
        "# 1. 연산자\n",
        "\n",
        "`-` 더하기"
      ],
      "id": "6065a37a-5e5f-4320-870c-941ebcb54935"
    },
    {
      "cell_type": "code",
      "execution_count": null,
      "metadata": {
        "executionInfo": {
          "elapsed": 3,
          "status": "ok",
          "timestamp": 1691547646776,
          "user": {
            "displayName": "ccc flkwerkdai",
            "userId": "13507850890638580947"
          },
          "user_tz": -540
        },
        "outputId": "ad39613f-07d1-490d-9c94-1e0343dd248f"
      },
      "outputs": [],
      "source": [
        "21 + 6"
      ],
      "id": "200b936a-8a15-448e-9ea9-75c73f3d0b91"
    },
    {
      "cell_type": "markdown",
      "metadata": {},
      "source": [
        "`-` 뻬기"
      ],
      "id": "2fff049a-aaea-4144-85a1-4884c577e969"
    },
    {
      "cell_type": "code",
      "execution_count": null,
      "metadata": {
        "executionInfo": {
          "elapsed": 5,
          "status": "ok",
          "timestamp": 1691547654766,
          "user": {
            "displayName": "ccc flkwerkdai",
            "userId": "13507850890638580947"
          },
          "user_tz": -540
        },
        "outputId": "62992b56-44ae-477b-f0c7-cd6943dad989"
      },
      "outputs": [],
      "source": [
        "21-6"
      ],
      "id": "bd012eed-6fe9-48ed-b9aa-1c2591e42979"
    },
    {
      "cell_type": "markdown",
      "metadata": {},
      "source": [
        "`-` 곱하기"
      ],
      "id": "5d9b6ae8-f449-48f3-bfe8-cd294b5ebc4b"
    },
    {
      "cell_type": "code",
      "execution_count": null,
      "metadata": {
        "executionInfo": {
          "elapsed": 3,
          "status": "ok",
          "timestamp": 1691547670362,
          "user": {
            "displayName": "ccc flkwerkdai",
            "userId": "13507850890638580947"
          },
          "user_tz": -540
        },
        "outputId": "fa7864cf-a2e1-4171-b2de-f9846fb1d1d8"
      },
      "outputs": [],
      "source": [
        "21*6"
      ],
      "id": "2beb5545-dac0-434a-9192-efcdc5854f6f"
    },
    {
      "cell_type": "markdown",
      "metadata": {},
      "source": [
        "`-` 지수승"
      ],
      "id": "35cb8b1d-1eff-429e-acf8-d3cf022b2f07"
    },
    {
      "cell_type": "code",
      "execution_count": null,
      "metadata": {
        "executionInfo": {
          "elapsed": 4,
          "status": "ok",
          "timestamp": 1691547981993,
          "user": {
            "displayName": "ccc flkwerkdai",
            "userId": "13507850890638580947"
          },
          "user_tz": -540
        },
        "outputId": "0f5d6f59-a5f1-4f84-9e76-3bc9048e4d09"
      },
      "outputs": [],
      "source": [
        "2**10"
      ],
      "id": "e88fc3f9-8d48-47a0-8b63-06d9e2f587c3"
    },
    {
      "cell_type": "markdown",
      "metadata": {},
      "source": [
        "`-` 나누기"
      ],
      "id": "5799fb77-ea95-4540-a4a0-bf9105617045"
    },
    {
      "cell_type": "code",
      "execution_count": null,
      "metadata": {
        "executionInfo": {
          "elapsed": 2,
          "status": "ok",
          "timestamp": 1691547688592,
          "user": {
            "displayName": "ccc flkwerkdai",
            "userId": "13507850890638580947"
          },
          "user_tz": -540
        },
        "outputId": "791203a1-7503-4be6-cc83-6b71e51daad1"
      },
      "outputs": [],
      "source": [
        "21/6"
      ],
      "id": "cf93f5ef-e8d4-4d54-87d4-4c18c2751839"
    },
    {
      "cell_type": "markdown",
      "metadata": {},
      "source": [
        "`-` 나누기(몫)"
      ],
      "id": "c9a30459-4c47-48c8-8bab-b01d3ca1f8d5"
    },
    {
      "cell_type": "code",
      "execution_count": null,
      "metadata": {
        "executionInfo": {
          "elapsed": 3,
          "status": "ok",
          "timestamp": 1691547708173,
          "user": {
            "displayName": "ccc flkwerkdai",
            "userId": "13507850890638580947"
          },
          "user_tz": -540
        },
        "outputId": "5509a84b-cf93-4454-a992-7d55c4471adc"
      },
      "outputs": [],
      "source": [
        "21//6"
      ],
      "id": "48555c67-bc7a-4c63-b31d-60f3ee3da718"
    },
    {
      "cell_type": "markdown",
      "metadata": {},
      "source": [
        "`-` 나누기(나머지)"
      ],
      "id": "4bbd139e-837b-45a1-9f33-4f57e78432d5"
    },
    {
      "cell_type": "code",
      "execution_count": null,
      "metadata": {
        "executionInfo": {
          "elapsed": 410,
          "status": "ok",
          "timestamp": 1691547755502,
          "user": {
            "displayName": "ccc flkwerkdai",
            "userId": "13507850890638580947"
          },
          "user_tz": -540
        },
        "outputId": "bcbe4c72-f040-4489-f0cb-0cc0cb8351dc"
      },
      "outputs": [],
      "source": [
        "21%6"
      ],
      "id": "bcac3750-de6e-485b-ac73-5b3e27c2db9c"
    },
    {
      "cell_type": "markdown",
      "metadata": {},
      "source": [
        "## ex1) 홀수 짝수 구분"
      ],
      "id": "b004040d-3a5a-487a-811a-f715190e84fd"
    },
    {
      "cell_type": "code",
      "execution_count": null,
      "metadata": {
        "executionInfo": {
          "elapsed": 4,
          "status": "ok",
          "timestamp": 1691547820398,
          "user": {
            "displayName": "ccc flkwerkdai",
            "userId": "13507850890638580947"
          },
          "user_tz": -540
        },
        "outputId": "6775d48f-20c5-4025-b8dc-a102430f44ad"
      },
      "outputs": [],
      "source": [
        "lst = list(range(1,10))\n",
        "lst"
      ],
      "id": "47b0ab01-6ad8-4805-86c4-88148a1dcc41"
    },
    {
      "cell_type": "markdown",
      "metadata": {},
      "source": [
        "### sol"
      ],
      "id": "e2439a02-0d9a-4e2c-9f8c-e160c768726e"
    },
    {
      "cell_type": "code",
      "execution_count": null,
      "metadata": {},
      "outputs": [],
      "source": [
        "odd = [i for i in lst if i % 2 == 1]\n",
        "evn = [i for i in lst if i % 2 == 0]"
      ],
      "id": "97a5812e-e5bc-491e-8708-248412000cf0"
    },
    {
      "cell_type": "code",
      "execution_count": null,
      "metadata": {
        "executionInfo": {
          "elapsed": 5,
          "status": "ok",
          "timestamp": 1691547937553,
          "user": {
            "displayName": "ccc flkwerkdai",
            "userId": "13507850890638580947"
          },
          "user_tz": -540
        },
        "outputId": "2dabe8ab-69ad-47c0-bca8-e6c7bf1caf1a"
      },
      "outputs": [],
      "source": [
        "odd"
      ],
      "id": "4700d82d-61e0-418d-98b3-aceddc3cd631"
    },
    {
      "cell_type": "code",
      "execution_count": null,
      "metadata": {
        "executionInfo": {
          "elapsed": 3,
          "status": "ok",
          "timestamp": 1691547940540,
          "user": {
            "displayName": "ccc flkwerkdai",
            "userId": "13507850890638580947"
          },
          "user_tz": -540
        },
        "outputId": "6240f958-8bac-4194-efb1-e1333b821f42"
      },
      "outputs": [],
      "source": [
        "evn"
      ],
      "id": "511305b3-62c7-4eef-926d-9471b6a0551c"
    },
    {
      "cell_type": "markdown",
      "metadata": {},
      "source": [
        "## ex2) 특정 숫자가 입력되었을 때 각 자리의 숫자를 구하기\n",
        "\n",
        "### sol"
      ],
      "id": "b87d32e6-5086-4ce8-a5fb-be2acf57db25"
    },
    {
      "cell_type": "code",
      "execution_count": null,
      "metadata": {
        "executionInfo": {
          "elapsed": 1660,
          "status": "ok",
          "timestamp": 1691549409474,
          "user": {
            "displayName": "ccc flkwerkdai",
            "userId": "13507850890638580947"
          },
          "user_tz": -540
        },
        "outputId": "e0b60bc8-e224-4e0f-c0fa-9298cc76c781"
      },
      "outputs": [
        {
          "output_type": "stream",
          "name": "stdout",
          "text": [
            "254\n",
            "백의자리는 2, 십의자리는 5, 일의 자리는 4"
          ]
        }
      ],
      "source": [
        "num  = int(input())\n",
        "\n",
        "a = num // 100\n",
        "\n",
        "b = (num - a*100) // 10\n",
        "\n",
        "c = num-(a*100+b*10)\n",
        "\n",
        "print(\"백의자리는 {}, 십의자리는 {}, 일의 자리는 {}\".format(a,b,c))"
      ],
      "id": "3ccfe003-9485-4aff-ac40-aa9ce005a08b"
    },
    {
      "cell_type": "markdown",
      "metadata": {},
      "source": [
        "## ex3) 합과 평균\n",
        "\n",
        "### sol"
      ],
      "id": "6962cdc4-3557-403f-87ee-3b6e7424dc68"
    },
    {
      "cell_type": "code",
      "execution_count": null,
      "metadata": {},
      "outputs": [],
      "source": [
        "import numpy as np"
      ],
      "id": "35982978-2399-4ed5-8373-dcae4d1c4353"
    },
    {
      "cell_type": "code",
      "execution_count": null,
      "metadata": {},
      "outputs": [],
      "source": [
        "s = list(range(1,10))\n",
        "\n",
        "\n",
        "summ = sum(s)\n",
        "\n",
        "ave = np.mean(s)"
      ],
      "id": "323a7aaf-a699-4971-b0c0-909eb408a062"
    },
    {
      "cell_type": "code",
      "execution_count": null,
      "metadata": {
        "executionInfo": {
          "elapsed": 318,
          "status": "ok",
          "timestamp": 1691551031425,
          "user": {
            "displayName": "ccc flkwerkdai",
            "userId": "13507850890638580947"
          },
          "user_tz": -540
        },
        "outputId": "d46af06e-56f1-4002-b2eb-3b511c231aed"
      },
      "outputs": [
        {
          "output_type": "stream",
          "name": "stdout",
          "text": [
            "합 : 45, 평균: 5.0"
          ]
        }
      ],
      "source": [
        "print(\"합 : {}, 평균: {}\".format(summ,ave))"
      ],
      "id": "a6ee3ae2-64e8-4fe6-af84-49730f0c6923"
    },
    {
      "cell_type": "markdown",
      "metadata": {},
      "source": [
        "## ex4) 비교 연산자\n",
        "\n",
        "`-` 숫자 비교"
      ],
      "id": "ead14516-da6a-44a7-ac3d-d25a10db2d2e"
    },
    {
      "cell_type": "code",
      "execution_count": null,
      "metadata": {},
      "outputs": [],
      "source": [
        "a = list(range(1,11))\n",
        "b = list(range(11,21))"
      ],
      "id": "a34922f7-bdf9-4bd3-b511-8947348915f1"
    },
    {
      "cell_type": "code",
      "execution_count": null,
      "metadata": {
        "executionInfo": {
          "elapsed": 3,
          "status": "ok",
          "timestamp": 1691551523137,
          "user": {
            "displayName": "ccc flkwerkdai",
            "userId": "13507850890638580947"
          },
          "user_tz": -540
        },
        "outputId": "82f59d9f-1152-4a89-f3f5-9eced9e16797"
      },
      "outputs": [],
      "source": [
        "a, b"
      ],
      "id": "86cfc178-78b2-4cb0-bd63-ffb4175d79ba"
    },
    {
      "cell_type": "code",
      "execution_count": null,
      "metadata": {
        "executionInfo": {
          "elapsed": 275,
          "status": "ok",
          "timestamp": 1691551569624,
          "user": {
            "displayName": "ccc flkwerkdai",
            "userId": "13507850890638580947"
          },
          "user_tz": -540
        },
        "outputId": "b5b73602-287e-495e-c9b2-37ee583b1d64"
      },
      "outputs": [],
      "source": [
        "[a[i] == b[i] for i in range(10)]"
      ],
      "id": "7cc2e6c7-3ba5-4b12-aba3-d6dfca0230e6"
    },
    {
      "cell_type": "markdown",
      "metadata": {},
      "source": [
        "`-` 문자 비교"
      ],
      "id": "ee8147db-d0b2-4688-82a6-315995e0f00f"
    },
    {
      "cell_type": "code",
      "execution_count": null,
      "metadata": {
        "executionInfo": {
          "elapsed": 277,
          "status": "ok",
          "timestamp": 1691551647316,
          "user": {
            "displayName": "ccc flkwerkdai",
            "userId": "13507850890638580947"
          },
          "user_tz": -540
        },
        "outputId": "6fb7b824-1b39-4128-e4b8-bb3e6fb404d3"
      },
      "outputs": [],
      "source": [
        "(\"A\" == \"a\"), (\"A\" >\"a\")"
      ],
      "id": "e9ffd414-59f6-4a28-8948-f10a15ac31fd"
    },
    {
      "cell_type": "code",
      "execution_count": null,
      "metadata": {
        "executionInfo": {
          "elapsed": 277,
          "status": "ok",
          "timestamp": 1691551629272,
          "user": {
            "displayName": "ccc flkwerkdai",
            "userId": "13507850890638580947"
          },
          "user_tz": -540
        },
        "outputId": "4b4350f6-0e50-4616-b259-ee19e18b177c"
      },
      "outputs": [],
      "source": [
        "ord(\"A\"), ord(\"a\")"
      ],
      "id": "74321b2e-1e98-4b7a-bcdb-86273dbd5c9d"
    },
    {
      "cell_type": "markdown",
      "metadata": {},
      "source": [
        "# 2. 자료형\n",
        "\n",
        "## 대표적인 자료형\n",
        "\n",
        "| int |  float   | bool  |   str    | complex |\n",
        "|:---:|:--------:|:-----:|:--------:|:-------:|\n",
        "|  3  |   3.14   | True  |  “강철”  |  3+2j   |\n",
        "|  5  | 3.141551 | False | “이강철” |  2-2j   |\n",
        "\n",
        "## 형태변환\n",
        "\n",
        "### float $\\to$ int\n",
        "\n",
        "`-` 아래의 경우는 형태변환이 되었으나 정보의 손실이 발생한 것임"
      ],
      "id": "f083b0cb-f94b-4189-8d85-e226044955a9"
    },
    {
      "cell_type": "code",
      "execution_count": null,
      "metadata": {},
      "outputs": [],
      "source": [
        "a = 3.4\n",
        "\n",
        "_a = int(a)"
      ],
      "id": "61d2665c-7a57-4d1f-9c34-995c22e511f1"
    },
    {
      "cell_type": "code",
      "execution_count": null,
      "metadata": {
        "executionInfo": {
          "elapsed": 3,
          "status": "ok",
          "timestamp": 1691558125650,
          "user": {
            "displayName": "ccc flkwerkdai",
            "userId": "13507850890638580947"
          },
          "user_tz": -540
        },
        "outputId": "f39aa639-d604-4934-931e-2bcc43829157"
      },
      "outputs": [],
      "source": [
        "type(a), type(_a)"
      ],
      "id": "e4923273-c5ea-4307-a80b-dad4e9c54e9e"
    },
    {
      "cell_type": "markdown",
      "metadata": {},
      "source": [
        "### $\\text{bool} \\to \\text{(float, int)}\\,\\text{and}\\, \\text{(float, int)} \\to \\text{bool}$\n",
        "\n",
        "`-` bool $\\to$ int, float"
      ],
      "id": "b7fe3ab6-f296-4157-82ce-58b885501e5c"
    },
    {
      "cell_type": "code",
      "execution_count": null,
      "metadata": {},
      "outputs": [],
      "source": [
        "a = True\n",
        "_a1 = float(a)\n",
        "_a2 = int(a)"
      ],
      "id": "1b48d8ec-cdff-4682-8bd7-435e7067f6e3"
    },
    {
      "cell_type": "code",
      "execution_count": null,
      "metadata": {
        "executionInfo": {
          "elapsed": 276,
          "status": "ok",
          "timestamp": 1691558336572,
          "user": {
            "displayName": "ccc flkwerkdai",
            "userId": "13507850890638580947"
          },
          "user_tz": -540
        },
        "outputId": "3feee442-7915-4efc-b66f-e633bd2a52f5"
      },
      "outputs": [],
      "source": [
        "type(a), type(_a1), type(_a2)"
      ],
      "id": "726c2d91-1c4b-424a-b044-4a02051d0033"
    },
    {
      "cell_type": "markdown",
      "metadata": {},
      "source": [
        "`-` int, float $\\to$ bool"
      ],
      "id": "b4621719-69b6-4a29-aa4f-4d920c98380e"
    },
    {
      "cell_type": "code",
      "execution_count": null,
      "metadata": {},
      "outputs": [],
      "source": [
        "a1 = 1\n",
        "a2 = 1.0\n",
        "\n",
        "_a1 = bool(a1)\n",
        "_a2 = bool(a2)"
      ],
      "id": "236a9e15-98df-4c0e-a1a7-9260b3728258"
    },
    {
      "cell_type": "code",
      "execution_count": null,
      "metadata": {
        "executionInfo": {
          "elapsed": 4,
          "status": "ok",
          "timestamp": 1691558425532,
          "user": {
            "displayName": "ccc flkwerkdai",
            "userId": "13507850890638580947"
          },
          "user_tz": -540
        },
        "outputId": "36e36546-96b8-4cdd-a8d1-32cb4dac9e29"
      },
      "outputs": [],
      "source": [
        "_a1, _a2, type(_a1), type(_a2)"
      ],
      "id": "96b67a68-c2d8-45b3-a61c-a39c5166e2ee"
    },
    {
      "cell_type": "markdown",
      "metadata": {},
      "source": [
        "`-` str $\\to$ bool"
      ],
      "id": "7617d574-60d5-4209-a042-bba5486002c4"
    },
    {
      "cell_type": "code",
      "execution_count": null,
      "metadata": {
        "executionInfo": {
          "elapsed": 296,
          "status": "ok",
          "timestamp": 1691558648617,
          "user": {
            "displayName": "ccc flkwerkdai",
            "userId": "13507850890638580947"
          },
          "user_tz": -540
        },
        "outputId": "8ede7b6b-c4ec-42c5-f695-51e73bffd354"
      },
      "outputs": [],
      "source": [
        "bool(\"강철\")"
      ],
      "id": "b2eda7dc-2d39-484c-87a7-7a97c51c56c3"
    },
    {
      "cell_type": "code",
      "execution_count": null,
      "metadata": {
        "executionInfo": {
          "elapsed": 278,
          "status": "ok",
          "timestamp": 1691559790719,
          "user": {
            "displayName": "ccc flkwerkdai",
            "userId": "13507850890638580947"
          },
          "user_tz": -540
        },
        "outputId": "887ea293-15df-478b-ae89-ae972f7afc83"
      },
      "outputs": [],
      "source": [
        "bool(\"\")"
      ],
      "id": "d2ca4d74-f1f9-43a3-a80a-4b94dcc72dad"
    },
    {
      "cell_type": "markdown",
      "metadata": {},
      "source": [
        "### 암묵적 형변환"
      ],
      "id": "7a430836-b092-4051-8620-c9ce2ca5117e"
    },
    {
      "cell_type": "code",
      "execution_count": null,
      "metadata": {
        "executionInfo": {
          "elapsed": 2,
          "status": "ok",
          "timestamp": 1691558472241,
          "user": {
            "displayName": "ccc flkwerkdai",
            "userId": "13507850890638580947"
          },
          "user_tz": -540
        },
        "outputId": "8e2d3c07-a3e3-437f-9251-1d1302d90699"
      },
      "outputs": [],
      "source": [
        "True +1"
      ],
      "id": "b3c607cf-db33-4d6e-900f-f8deb5b2fc69"
    },
    {
      "cell_type": "code",
      "execution_count": null,
      "metadata": {
        "executionInfo": {
          "elapsed": 2,
          "status": "ok",
          "timestamp": 1691558477961,
          "user": {
            "displayName": "ccc flkwerkdai",
            "userId": "13507850890638580947"
          },
          "user_tz": -540
        },
        "outputId": "f177dfdf-6b31-4941-b07c-9762b32bff5d"
      },
      "outputs": [],
      "source": [
        "1*1.0"
      ],
      "id": "e35a78de-7ceb-4b10-b597-2690f00f0e74"
    },
    {
      "cell_type": "code",
      "execution_count": null,
      "metadata": {
        "executionInfo": {
          "elapsed": 3,
          "status": "ok",
          "timestamp": 1691558482990,
          "user": {
            "displayName": "ccc flkwerkdai",
            "userId": "13507850890638580947"
          },
          "user_tz": -540
        },
        "outputId": "52495ff7-9ad0-4bed-9965-cac98e06f2f9"
      },
      "outputs": [],
      "source": [
        "True + True"
      ],
      "id": "69a3c10c-c814-4223-83b9-d739de48d17e"
    },
    {
      "cell_type": "markdown",
      "metadata": {},
      "source": [
        "### 형태변환이 불가능한 경우"
      ],
      "id": "0835ebb9-5317-4e99-b72c-9cea84803cae"
    },
    {
      "cell_type": "code",
      "execution_count": null,
      "metadata": {
        "executionInfo": {
          "elapsed": 2,
          "status": "ok",
          "timestamp": 1691558517033,
          "user": {
            "displayName": "ccc flkwerkdai",
            "userId": "13507850890638580947"
          },
          "user_tz": -540
        },
        "outputId": "bf92501a-1238-4f11-d3ae-74e1f674fec2"
      },
      "outputs": [],
      "source": [
        "complex1 = 3+ 0j\n",
        "complex1"
      ],
      "id": "49b6d34f-ff93-47c8-8451-bf795b9e08c7"
    },
    {
      "cell_type": "markdown",
      "metadata": {},
      "source": [
        "``` python\n",
        "float(complex1) ## 에러 발생\n",
        "```\n",
        "\n",
        "### 문자열의 사칙연산(O)"
      ],
      "id": "ed850964-15b1-4baa-9e10-1e7653ebdf6e"
    },
    {
      "cell_type": "code",
      "execution_count": null,
      "metadata": {
        "executionInfo": {
          "elapsed": 321,
          "status": "ok",
          "timestamp": 1691558690069,
          "user": {
            "displayName": "ccc flkwerkdai",
            "userId": "13507850890638580947"
          },
          "user_tz": -540
        },
        "outputId": "aa211f41-9ce2-4fcf-ad75-7869913a5618"
      },
      "outputs": [],
      "source": [
        "\"X\" + \"2\""
      ],
      "id": "e89f2ca3-9610-4c4c-a603-a411e118d259"
    },
    {
      "cell_type": "code",
      "execution_count": null,
      "metadata": {
        "executionInfo": {
          "elapsed": 4,
          "status": "ok",
          "timestamp": 1691558709957,
          "user": {
            "displayName": "ccc flkwerkdai",
            "userId": "13507850890638580947"
          },
          "user_tz": -540
        },
        "outputId": "367667bb-4674-436a-f2bc-0d413a5b8632"
      },
      "outputs": [],
      "source": [
        "\"X\"*2"
      ],
      "id": "821d369a-777e-41b7-9059-15a1577279b7"
    },
    {
      "cell_type": "markdown",
      "metadata": {},
      "source": [
        "### 문자열의 사칙연산(x)\n",
        "\n",
        "``` python\n",
        "\"X\" * \"Y\"\n",
        "\n",
        "\"X\" - \"2\"\n",
        "\n",
        "\"X\" / \"y\"\n",
        "\n",
        "```\n",
        "\n",
        "`-` 즉 더하기를 제외한 나머지 사칙연산은 문자형 변수에 적용되지 않는다.\n",
        "\n",
        "## 날짜형 자료"
      ],
      "id": "5ccf8dcf-07e4-476d-8dd7-f57a97fd132e"
    },
    {
      "cell_type": "code",
      "execution_count": null,
      "metadata": {},
      "outputs": [],
      "source": [
        "from datetime import datetime"
      ],
      "id": "00da18e6-2160-4309-abab-4c64f231e4ef"
    },
    {
      "cell_type": "code",
      "execution_count": null,
      "metadata": {},
      "outputs": [],
      "source": [
        "now = datetime.now()"
      ],
      "id": "f3b3f8e5-ddba-4813-80c0-1d6cc5531125"
    },
    {
      "cell_type": "code",
      "execution_count": null,
      "metadata": {
        "executionInfo": {
          "elapsed": 2,
          "status": "ok",
          "timestamp": 1691559939281,
          "user": {
            "displayName": "ccc flkwerkdai",
            "userId": "13507850890638580947"
          },
          "user_tz": -540
        },
        "outputId": "a43b5832-933c-411f-e119-04c4acde9e7c"
      },
      "outputs": [],
      "source": [
        "now"
      ],
      "id": "720aef1a-91ad-4f59-bfac-2e2dbc7da09b"
    },
    {
      "cell_type": "code",
      "execution_count": null,
      "metadata": {
        "executionInfo": {
          "elapsed": 3,
          "status": "ok",
          "timestamp": 1691559960020,
          "user": {
            "displayName": "ccc flkwerkdai",
            "userId": "13507850890638580947"
          },
          "user_tz": -540
        },
        "outputId": "099a484d-18f6-46c1-99f2-04862c94e402"
      },
      "outputs": [
        {
          "output_type": "stream",
          "name": "stdout",
          "text": [
            "2023-08-09 05:45:24.616085"
          ]
        }
      ],
      "source": [
        "print(now)"
      ],
      "id": "87b832c7-b045-4f47-a8cb-bddb8e2af444"
    },
    {
      "cell_type": "code",
      "execution_count": null,
      "metadata": {
        "executionInfo": {
          "elapsed": 431,
          "status": "ok",
          "timestamp": 1691560066348,
          "user": {
            "displayName": "ccc flkwerkdai",
            "userId": "13507850890638580947"
          },
          "user_tz": -540
        },
        "outputId": "3c367313-df5d-4978-a06b-d5e88221c166"
      },
      "outputs": [
        {
          "output_type": "stream",
          "name": "stdout",
          "text": [
            "2023년 8월 9일 5시 45분 24초"
          ]
        }
      ],
      "source": [
        "print(\"{}년 {}월 {}일 {}시 {}분 {}초\".format(now.year,now.month,now.day,now.hour,now.minute,now.second))"
      ],
      "id": "424e7e43-c6a9-48f5-bee2-38fecce1e931"
    },
    {
      "cell_type": "markdown",
      "metadata": {},
      "source": [
        "## 기타 연산"
      ],
      "id": "065ddef5-0d0b-4e55-ad50-2d88b38e10cf"
    },
    {
      "cell_type": "code",
      "execution_count": null,
      "metadata": {},
      "outputs": [],
      "source": [
        "a = \"ABCD\"\n",
        "b = \"efgh\""
      ],
      "id": "6fdf937f-2186-43de-8506-b7f45bb8e8e0"
    },
    {
      "cell_type": "code",
      "execution_count": null,
      "metadata": {
        "executionInfo": {
          "elapsed": 3,
          "status": "ok",
          "timestamp": 1691560102101,
          "user": {
            "displayName": "ccc flkwerkdai",
            "userId": "13507850890638580947"
          },
          "user_tz": -540
        },
        "outputId": "400a7d48-3e0b-4cf7-9e27-5552a3fdfd5a"
      },
      "outputs": [],
      "source": [
        "a.lower(),b.upper()"
      ],
      "id": "8d24d73d-c87c-4b9b-93c2-bbe05a62cf33"
    },
    {
      "cell_type": "markdown",
      "metadata": {},
      "source": [
        "------------------------------------------------------------------------\n",
        "\n",
        "# 3. 문자열 다루기 고급\n",
        "\n",
        "## f-string(요즘 쓰는 방식)\n",
        "\n",
        "### ex1"
      ],
      "id": "95050a42-1b77-42c9-aa24-35f86cac173f"
    },
    {
      "cell_type": "code",
      "execution_count": 5,
      "metadata": {
        "executionInfo": {
          "elapsed": 3,
          "status": "ok",
          "timestamp": 1691567382348,
          "user": {
            "displayName": "ccc flkwerkdai",
            "userId": "13507850890638580947"
          },
          "user_tz": -540
        }
      },
      "outputs": [],
      "source": [
        "n = \"이강철\"\n",
        "a = 28\n",
        "s = 100.213141"
      ],
      "id": "53bf450f-1e56-4f2b-a92a-b6081deebdcb"
    },
    {
      "cell_type": "code",
      "execution_count": 7,
      "metadata": {
        "executionInfo": {
          "elapsed": 2,
          "status": "ok",
          "timestamp": 1691567462666,
          "user": {
            "displayName": "ccc flkwerkdai",
            "userId": "13507850890638580947"
          },
          "user_tz": -540
        },
        "outputId": "0eb5fdfe-4395-402f-91b3-0a0973d018f9"
      },
      "outputs": [
        {
          "output_type": "stream",
          "name": "stdout",
          "text": [
            "28살의 이강철의 점수는 100.00입니다. "
          ]
        }
      ],
      "source": [
        "print(f\"{a}살의 {n}의 점수는 {s:.2f}입니다. \")"
      ],
      "id": "eb6f043b-9dc8-4be5-a50f-50f243691e1c"
    },
    {
      "cell_type": "markdown",
      "metadata": {},
      "source": [
        "### ex2"
      ],
      "id": "417a4d03-a4dc-48fe-8e39-b509b33088b0"
    },
    {
      "cell_type": "code",
      "execution_count": 8,
      "metadata": {
        "executionInfo": {
          "elapsed": 2,
          "status": "ok",
          "timestamp": 1691567517633,
          "user": {
            "displayName": "ccc flkwerkdai",
            "userId": "13507850890638580947"
          },
          "user_tz": -540
        }
      },
      "outputs": [],
      "source": [
        "n = \"이강철\"\n",
        "a = 28\n",
        "s1 = 100.2\n",
        "s2 = 100.3\n",
        "s3 = 100.4\n",
        "s4 = 100.5\n",
        "s5 = 100.6"
      ],
      "id": "f199f99b-add0-40a3-ba78-399d1dc61b48"
    },
    {
      "cell_type": "code",
      "execution_count": 27,
      "metadata": {
        "executionInfo": {
          "elapsed": 2,
          "status": "ok",
          "timestamp": 1691567890633,
          "user": {
            "displayName": "ccc flkwerkdai",
            "userId": "13507850890638580947"
          },
          "user_tz": -540
        },
        "outputId": "1a48a342-309c-4a56-af75-dc92982c9952"
      },
      "outputs": [
        {
          "output_type": "stream",
          "name": "stdout",
          "text": [
            "\n",
            "이름 : 이강철\n",
            "\n",
            "연령대 : 20\n",
            "\n",
            "점수 : 100.2,100.3,100.4,100.5,100.6\n",
            "\n",
            "합계 : 502 /평균 : 100.40\n"
          ]
        }
      ],
      "source": [
        "txt= f'''\n",
        "이름 : {n}\n",
        "\n",
        "연령대 : {age}\n",
        "\n",
        "점수 : {s1},{s2},{s3},{s4},{s5}\n",
        "\n",
        "합계 : {ts:,.0f} /평균 : {avg:,.2f}\n",
        "'''`\n",
        "\n",
        "print(txt)"
      ],
      "id": "75bb7823-7191-43e9-9fe9-0a1d8bc8cde5"
    }
  ],
  "nbformat": 4,
  "nbformat_minor": 5,
  "metadata": {
    "colab": {
      "authorship_tag": "ABX9TyNaUaZPXKv83n8WDUCvBWvx",
      "provenance": [],
      "toc_visible": true
    },
    "kernelspec": {
      "name": "python3",
      "display_name": "Python 3 (ipykernel)",
      "language": "python"
    },
    "language_info": {
      "name": "python",
      "codemirror_mode": {
        "name": "ipython",
        "version": "3"
      },
      "file_extension": ".py",
      "mimetype": "text/x-python",
      "nbconvert_exporter": "python",
      "pygments_lexer": "ipython3",
      "version": "3.11.4"
    }
  }
}