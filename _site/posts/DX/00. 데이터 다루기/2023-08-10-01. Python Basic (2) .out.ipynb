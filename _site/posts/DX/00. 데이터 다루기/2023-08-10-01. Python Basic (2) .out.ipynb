{
  "cells": [
    {
      "cell_type": "markdown",
      "metadata": {},
      "source": [
        "# 01. Python Basic (2)\n",
        "\n",
        "GC  \n",
        "2023-08-10\n",
        "\n",
        "# 드라이브 마운트 및 import"
      ],
      "id": "74539421-d068-4277-a723-9153e7c2617e"
    },
    {
      "cell_type": "code",
      "execution_count": 1,
      "metadata": {
        "executionInfo": {
          "elapsed": 24394,
          "status": "ok",
          "timestamp": 1691628715100,
          "user": {
            "displayName": "ccc flkwerkdai",
            "userId": "13507850890638580947"
          },
          "user_tz": -540
        },
        "outputId": "c206cf58-2e0b-4db7-f100-e866b567504b"
      },
      "outputs": [
        {
          "output_type": "stream",
          "name": "stdout",
          "text": [
            "Mounted at /content/drive"
          ]
        }
      ],
      "source": [
        "from google.colab import drive\n",
        "drive.mount('/content/drive')"
      ],
      "id": "9881a75d-4e09-47d6-aa61-159d2f4d33b2"
    },
    {
      "cell_type": "code",
      "execution_count": 3,
      "metadata": {
        "executionInfo": {
          "elapsed": 281,
          "status": "ok",
          "timestamp": 1691628759373,
          "user": {
            "displayName": "ccc flkwerkdai",
            "userId": "13507850890638580947"
          },
          "user_tz": -540
        },
        "outputId": "ef76c98c-d6ff-49b9-adff-cd302c2e1880"
      },
      "outputs": [
        {
          "output_type": "stream",
          "name": "stdout",
          "text": [
            "/content/drive/MyDrive/Colab Notebooks/DX/1wk"
          ]
        }
      ],
      "source": [
        "cd /content/drive/MyDrive/Colab Notebooks/DX/1wk"
      ],
      "id": "420243f9-c255-4db4-bad4-d6c570eaee00"
    },
    {
      "cell_type": "code",
      "execution_count": 4,
      "metadata": {
        "executionInfo": {
          "elapsed": 746,
          "status": "ok",
          "timestamp": 1691628782357,
          "user": {
            "displayName": "ccc flkwerkdai",
            "userId": "13507850890638580947"
          },
          "user_tz": -540
        }
      },
      "outputs": [],
      "source": [
        "import pandas as pd\n",
        "import numpy as np\n",
        "import matplotlib.pyplot as plt"
      ],
      "id": "c78259c3-2632-4974-b97c-6882da601f7e"
    },
    {
      "cell_type": "markdown",
      "metadata": {},
      "source": [
        "# 1. 문자열 슬라이싱"
      ],
      "id": "f4ddefbd-0c9e-474e-b8eb-42a1f208dbb4"
    },
    {
      "cell_type": "code",
      "execution_count": 14,
      "metadata": {
        "executionInfo": {
          "elapsed": 432,
          "status": "ok",
          "timestamp": 1691632587435,
          "user": {
            "displayName": "ccc flkwerkdai",
            "userId": "13507850890638580947"
          },
          "user_tz": -540
        }
      },
      "outputs": [],
      "source": [
        "txt = \"나의 이름은 이강철입니다.\""
      ],
      "id": "e868dd9d-f950-40fd-937e-30856b3c44d5"
    },
    {
      "cell_type": "markdown",
      "metadata": {},
      "source": [
        "## 슬라이싱 1"
      ],
      "id": "355f250e-50dc-4253-a867-99792324385b"
    },
    {
      "cell_type": "code",
      "execution_count": 29,
      "metadata": {
        "executionInfo": {
          "elapsed": 482,
          "status": "ok",
          "timestamp": 1691632885130,
          "user": {
            "displayName": "ccc flkwerkdai",
            "userId": "13507850890638580947"
          },
          "user_tz": -540
        },
        "outputId": "0dbed38e-feb2-4624-b296-696477db3a37"
      },
      "outputs": [],
      "source": [
        "n = len(txt)\n",
        "txt[2:n]"
      ],
      "id": "8f72416b-a662-47c6-9099-12e139ff4ed9"
    },
    {
      "cell_type": "markdown",
      "metadata": {},
      "source": [
        "`-` 참고 역슬레시는 인데싱에서 제외된다."
      ],
      "id": "7bbe7bc6-e4bd-4460-9715-be5de64e3ea9"
    },
    {
      "cell_type": "code",
      "execution_count": 56,
      "metadata": {
        "executionInfo": {
          "elapsed": 461,
          "status": "ok",
          "timestamp": 1691633340090,
          "user": {
            "displayName": "ccc flkwerkdai",
            "userId": "13507850890638580947"
          },
          "user_tz": -540
        },
        "outputId": "eae9ce3d-a685-43ca-f299-787ad9ec7218"
      },
      "outputs": [
        {
          "output_type": "stream",
          "name": "stdout",
          "text": [
            "he's\n",
            "he's"
          ]
        }
      ],
      "source": [
        "print(\"he's\")\n",
        "print(\"he\\'s\")"
      ],
      "id": "18618fda-7f58-46e6-a8ef-9adf7da83f69"
    },
    {
      "cell_type": "markdown",
      "metadata": {},
      "source": [
        "## 슬라이싱 2\n",
        "\n",
        "`-` 구조 : txt\\[start : end : stride\\]"
      ],
      "id": "3658bbca-701b-4538-bb80-79b31f1438e4"
    },
    {
      "cell_type": "code",
      "execution_count": 37,
      "metadata": {
        "executionInfo": {
          "elapsed": 448,
          "status": "ok",
          "timestamp": 1691633001945,
          "user": {
            "displayName": "ccc flkwerkdai",
            "userId": "13507850890638580947"
          },
          "user_tz": -540
        },
        "outputId": "fcdeac46-ad4c-4985-8949-e4e1b4f0c175"
      },
      "outputs": [],
      "source": [
        "txt"
      ],
      "id": "f141eb45-f051-4b79-98b0-570a7c747d4b"
    },
    {
      "cell_type": "code",
      "execution_count": 43,
      "metadata": {
        "executionInfo": {
          "elapsed": 443,
          "status": "ok",
          "timestamp": 1691633063282,
          "user": {
            "displayName": "ccc flkwerkdai",
            "userId": "13507850890638580947"
          },
          "user_tz": -540
        },
        "outputId": "8999f8bf-f713-4a82-dfea-8977998df530"
      },
      "outputs": [
        {
          "output_type": "stream",
          "name": "stdout",
          "text": [
            "나 름 강입다\n",
            "나 름 강입다\n",
            "나이 철다\n",
            ".다니입철강이 은름이 의나\n",
            ".니철이은이의"
          ]
        }
      ],
      "source": [
        "print(txt[0:n:2])\n",
        "print(txt[::2])\n",
        "print(txt[::3])\n",
        "print(txt[::-1])\n",
        "print(txt[::-2])"
      ],
      "id": "675a0757-80a6-4e91-abb6-48a93104d396"
    },
    {
      "cell_type": "markdown",
      "metadata": {},
      "source": [
        "# 2. 문자열 메소드\n",
        "\n",
        "## Count"
      ],
      "id": "22530e18-6426-49ec-864a-599913cfc677"
    },
    {
      "cell_type": "code",
      "execution_count": 44,
      "metadata": {
        "executionInfo": {
          "elapsed": 447,
          "status": "ok",
          "timestamp": 1691633129903,
          "user": {
            "displayName": "ccc flkwerkdai",
            "userId": "13507850890638580947"
          },
          "user_tz": -540
        },
        "outputId": "e4a89c45-c67d-48d6-e8a2-ca60129b036a"
      },
      "outputs": [],
      "source": [
        "txt"
      ],
      "id": "0e5d812d-7441-4161-843b-6a8c607d8760"
    },
    {
      "cell_type": "markdown",
      "metadata": {},
      "source": [
        "`-` 공백 세기"
      ],
      "id": "22a8a8fb-ee26-49ff-9f32-6a93ad3405d1"
    },
    {
      "cell_type": "code",
      "execution_count": 46,
      "metadata": {
        "executionInfo": {
          "elapsed": 296,
          "status": "ok",
          "timestamp": 1691633143928,
          "user": {
            "displayName": "ccc flkwerkdai",
            "userId": "13507850890638580947"
          },
          "user_tz": -540
        },
        "outputId": "c01667ad-3690-41de-b2c5-ca0928adc7b4"
      },
      "outputs": [],
      "source": [
        "txt.count(\" \")"
      ],
      "id": "adf0b475-7af5-402c-937a-12d915828617"
    },
    {
      "cell_type": "markdown",
      "metadata": {},
      "source": [
        "`-` 특장 문자 세기"
      ],
      "id": "be5f9700-f7e8-46ae-8dd5-9276b5eb5317"
    },
    {
      "cell_type": "code",
      "execution_count": 50,
      "metadata": {
        "executionInfo": {
          "elapsed": 467,
          "status": "ok",
          "timestamp": 1691633209733,
          "user": {
            "displayName": "ccc flkwerkdai",
            "userId": "13507850890638580947"
          },
          "user_tz": -540
        },
        "outputId": "feb44b3b-f686-4e46-bdc2-5bbacfdddafa"
      },
      "outputs": [],
      "source": [
        "txt.count(\"이\")"
      ],
      "id": "766d1766-098d-4655-9bfe-93ee62eff3b6"
    },
    {
      "cell_type": "markdown",
      "metadata": {},
      "source": [
        "`-` 리스트나 튜플로 넘겨주면 에러가 발생"
      ],
      "id": "13ec988e-8731-403f-aec9-06c5a2ec3b74"
    },
    {
      "cell_type": "code",
      "execution_count": 55,
      "metadata": {
        "executionInfo": {
          "elapsed": 425,
          "status": "error",
          "timestamp": 1691633258022,
          "user": {
            "displayName": "ccc flkwerkdai",
            "userId": "13507850890638580947"
          },
          "user_tz": -540
        },
        "outputId": "4ed70a41-c0c8-4ca4-eeb6-9169a5c582fe"
      },
      "outputs": [],
      "source": [
        "txt.count((\"이\",\" \"))"
      ],
      "id": "2ce1ffc4-b59c-4bda-a093-8b28dbcea10b"
    },
    {
      "cell_type": "markdown",
      "metadata": {},
      "source": [
        "`-` 문자가 아닌 문자열 카운트"
      ],
      "id": "a64ef773-bb0b-47b9-9421-6a0177a0f659"
    },
    {
      "cell_type": "code",
      "execution_count": 57,
      "metadata": {
        "executionInfo": {
          "elapsed": 432,
          "status": "ok",
          "timestamp": 1691633392244,
          "user": {
            "displayName": "ccc flkwerkdai",
            "userId": "13507850890638580947"
          },
          "user_tz": -540
        },
        "outputId": "4cbbb537-98ee-4f49-cd1d-336ff8e7b43d"
      },
      "outputs": [
        {
          "output_type": "stream",
          "name": "stdout",
          "text": [
            "나의 이름은 이강철입니다.\n",
            "1"
          ]
        }
      ],
      "source": [
        "print(txt)\n",
        "print(txt.count(\"이강철\"))"
      ],
      "id": "aed9de0f-b173-493f-8cae-981bbf15e8eb"
    },
    {
      "cell_type": "markdown",
      "metadata": {},
      "source": [
        "## find\n",
        "\n",
        "`-` 특정 문자의 인덱싱을 반환"
      ],
      "id": "e9f0ed94-9903-460e-b14d-f362bed9e990"
    },
    {
      "cell_type": "code",
      "execution_count": 60,
      "metadata": {
        "executionInfo": {
          "elapsed": 445,
          "status": "ok",
          "timestamp": 1691633453598,
          "user": {
            "displayName": "ccc flkwerkdai",
            "userId": "13507850890638580947"
          },
          "user_tz": -540
        },
        "outputId": "54371193-49d3-4930-a544-fa8191eb8bc8"
      },
      "outputs": [
        {
          "output_type": "stream",
          "name": "stdout",
          "text": [
            "나의 이름은 이강철입니다.\n",
            "3\n",
            "7"
          ]
        }
      ],
      "source": [
        "print(txt)\n",
        "print(txt.find(\"이\"))\n",
        "print(txt.find(\"이강철\"))"
      ],
      "id": "f90fd659-f37a-4e99-990e-18e5d10adf72"
    },
    {
      "cell_type": "markdown",
      "metadata": {},
      "source": [
        "`-` find함수에 문제점은 범위를 지정해주지 않으면 찾고자 하는 문자의 첫\n",
        "인덱스만 반환한다.\n",
        "\n",
        "`-` 특정 문자열을 찾을때 문자열 시작지점과 끝지점을 정해서 인덱싱"
      ],
      "id": "24dec548-c8fc-43e7-bbf6-d6ae8fb16d9f"
    },
    {
      "cell_type": "code",
      "execution_count": 63,
      "metadata": {
        "executionInfo": {
          "elapsed": 458,
          "status": "ok",
          "timestamp": 1691633557615,
          "user": {
            "displayName": "ccc flkwerkdai",
            "userId": "13507850890638580947"
          },
          "user_tz": -540
        },
        "outputId": "5f96503b-f0c1-4b1d-c30a-73ad2786fb82"
      },
      "outputs": [
        {
          "output_type": "stream",
          "name": "stdout",
          "text": [
            "나의 이름은 이강철입니다.\n",
            "7"
          ]
        }
      ],
      "source": [
        "print(txt)\n",
        "print(txt.find(\"이\",6,n))"
      ],
      "id": "f177609b-a9be-4f53-8ce5-dc76d8a672a9"
    },
    {
      "cell_type": "markdown",
      "metadata": {},
      "source": [
        "## 잠깐 다른 이야기!\n",
        "\n",
        "`-` 아래를 잘 살펴보자."
      ],
      "id": "2959027b-422d-4832-9f6f-4266bb5e74e1"
    },
    {
      "cell_type": "code",
      "execution_count": 75,
      "metadata": {
        "executionInfo": {
          "elapsed": 487,
          "status": "ok",
          "timestamp": 1691634651845,
          "user": {
            "displayName": "ccc flkwerkdai",
            "userId": "13507850890638580947"
          },
          "user_tz": -540
        },
        "outputId": "d102a927-a7ae-494d-cae1-1affb59ee59d"
      },
      "outputs": [
        {
          "output_type": "stream",
          "name": "stdout",
          "text": [
            "138123241308464 138123241308464\n",
            "138123241308496\n",
            "138123241308624\n",
            "138123241308464"
          ]
        }
      ],
      "source": [
        "a = 3\n",
        "b = 3\n",
        "print(id(a),id(b))\n",
        "a +=1\n",
        "print(id(a))\n",
        "a *=2\n",
        "print(id(a))\n",
        "a =a-5\n",
        "print(id(a))"
      ],
      "id": "1ec62b30-0a8c-4b27-8bd5-db6e1797d317"
    },
    {
      "cell_type": "markdown",
      "metadata": {},
      "source": [
        "`-` a변수와 b변수에 3이라는 값을 할당하고, 각 메모리 주소를 출력하였다.\n",
        "\n",
        "`-` 질문 1 : 사칙 연산시 메모리 주소가 바뀐다?\n",
        "\n",
        "`-` 질문 2 : 그런데 동일한 값을 할당하면 같은 주소가 할당된다?\n",
        "\n",
        "`-` 질문 3 : 그런데 마지막에 a에서 5를 빼서 처음에 할당한 3과 동일하게\n",
        "했더니 처음과 동일한 주소가 나왔다?\n",
        "\n",
        "`-` 내 생각 : **각각의 값(할당한 정수)들은 이미 각자의 고유한 주소를\n",
        "가지고 있고, 변수들은 그 값들을 참조하는 포인터 역할을 하는 것 같다.\n",
        "또한, 이는 정수 뿐이 아니라 단일 값을 가지는 모든 형태의 해당된다.**\n",
        "\n",
        "### 문자열 주소확인"
      ],
      "id": "0271c46d-e193-423a-a247-df2379157863"
    },
    {
      "cell_type": "code",
      "execution_count": 78,
      "metadata": {
        "executionInfo": {
          "elapsed": 291,
          "status": "ok",
          "timestamp": 1691635354799,
          "user": {
            "displayName": "ccc flkwerkdai",
            "userId": "13507850890638580947"
          },
          "user_tz": -540
        },
        "outputId": "0334bf83-72d5-4a57-f10b-c03ee9026cdc"
      },
      "outputs": [
        {
          "output_type": "stream",
          "name": "stdout",
          "text": [
            "apple\n",
            "138121951987056\n",
            "APPLE\n",
            "138121951989872"
          ]
        }
      ],
      "source": [
        "s = \"apple\"\n",
        "print(s)\n",
        "print(id(s))\n",
        "\n",
        "print(s.upper())\n",
        "print(id(s.upper()))"
      ],
      "id": "3c6a1bc0-45d2-4b91-b6f8-a41f419620dc"
    },
    {
      "cell_type": "markdown",
      "metadata": {},
      "source": [
        "### 그렇다면 리스트도?"
      ],
      "id": "681d27fa-669c-434e-9f04-4b2d2dc51704"
    },
    {
      "cell_type": "code",
      "execution_count": 85,
      "metadata": {
        "executionInfo": {
          "elapsed": 484,
          "status": "ok",
          "timestamp": 1691635540098,
          "user": {
            "displayName": "ccc flkwerkdai",
            "userId": "13507850890638580947"
          },
          "user_tz": -540
        },
        "outputId": "b92039b5-65f1-45a1-e9c7-81951874f409"
      },
      "outputs": [
        {
          "output_type": "stream",
          "name": "stdout",
          "text": [
            "[0, 1, 2, 3, 4]\n",
            "138121952117504\n",
            "[0, 100, 2, 3, 4]\n",
            "138121952117504"
          ]
        }
      ],
      "source": [
        "a = list(range(5))\n",
        "print(a)\n",
        "print(id(a))\n",
        "a[1] = 100\n",
        "print(a)\n",
        "print(id(a))"
      ],
      "id": "e13aeec8-e04e-408e-9bde-694b5da24de8"
    },
    {
      "cell_type": "markdown",
      "metadata": {},
      "source": [
        "`-` 리스트는 바뀌지 않았다!!\n",
        "\n",
        "## capitalize & title\n",
        "\n",
        "`-` 첫글자만 대문자로 변환"
      ],
      "id": "5621c39a-5e2a-482d-9b64-0dd6feecf5af"
    },
    {
      "cell_type": "code",
      "execution_count": 92,
      "metadata": {
        "executionInfo": {
          "elapsed": 453,
          "status": "ok",
          "timestamp": 1691635738550,
          "user": {
            "displayName": "ccc flkwerkdai",
            "userId": "13507850890638580947"
          },
          "user_tz": -540
        },
        "outputId": "17ca4ccd-b6d9-4ede-cbeb-3cf5d66c723d"
      },
      "outputs": [
        {
          "output_type": "stream",
          "name": "stdout",
          "text": [
            "I like apple\n",
            "I Like Apple"
          ]
        }
      ],
      "source": [
        "a=\"i like apple\"\n",
        "\n",
        "print(a.capitalize())\n",
        "print(a.title())"
      ],
      "id": "2ed59749-c058-43da-8782-8da2c63d5af6"
    },
    {
      "cell_type": "markdown",
      "metadata": {},
      "source": [
        "## rjust, ljust, center\n",
        "\n",
        "`-` 각각, 오른쪽, 왼쪽, 중앙정렬을 하고 공백을 만든다"
      ],
      "id": "a30f5632-09cc-4107-a954-b8c0c936a95e"
    },
    {
      "cell_type": "code",
      "execution_count": 103,
      "metadata": {
        "executionInfo": {
          "elapsed": 482,
          "status": "ok",
          "timestamp": 1691636063260,
          "user": {
            "displayName": "ccc flkwerkdai",
            "userId": "13507850890638580947"
          },
          "user_tz": -540
        },
        "outputId": "431fd696-9c3e-4203-a457-4eaf23116f63"
      },
      "outputs": [
        {
          "output_type": "stream",
          "name": "stdout",
          "text": [
            "[  apple]\n",
            "[apple  ]\n",
            "[ apple ]"
          ]
        }
      ],
      "source": [
        "a = \"apple\"\n",
        "print(\"[\"+a.rjust(7)+\"]\",sep=\"\")\n",
        "print(\"[\",a.ljust(7),\"]\",sep=\"\")\n",
        "print(\"[\",a.center(7),\"]\",sep=\"\")"
      ],
      "id": "2ea5095a-cf79-4e4c-b1a9-193f5a22524e"
    },
    {
      "cell_type": "markdown",
      "metadata": {},
      "source": [
        "`-` 근데 문장 단위로는 적용되지 않는다…."
      ],
      "id": "c5377f29-0120-4b9a-8d42-6ceab45e0dcb"
    },
    {
      "cell_type": "code",
      "execution_count": 107,
      "metadata": {
        "executionInfo": {
          "elapsed": 275,
          "status": "ok",
          "timestamp": 1691636123978,
          "user": {
            "displayName": "ccc flkwerkdai",
            "userId": "13507850890638580947"
          },
          "user_tz": -540
        },
        "outputId": "237aca84-58b6-4f58-9e1c-e1aed8301c65"
      },
      "outputs": [
        {
          "output_type": "stream",
          "name": "stdout",
          "text": [
            "[I like apple]\n",
            "[I like apple]\n",
            "[I like apple]"
          ]
        }
      ],
      "source": [
        "a = \"I like apple\"\n",
        "print(\"[\"+a.rjust(7)+\"]\",sep=\"\")\n",
        "print(\"[\",a.ljust(7),\"]\",sep=\"\")\n",
        "print(\"[\",a.center(7),\"]\",sep=\"\")"
      ],
      "id": "25212ca8-9933-4f54-9b6d-08f050e0f273"
    },
    {
      "cell_type": "markdown",
      "metadata": {},
      "source": [
        "`-` 핳 근데 문장길이가 7보다 커서 그런거였당"
      ],
      "id": "141d3b38-fd60-41ec-a8c9-e63658526e7f"
    },
    {
      "cell_type": "code",
      "execution_count": 108,
      "metadata": {
        "executionInfo": {
          "elapsed": 442,
          "status": "ok",
          "timestamp": 1691636156617,
          "user": {
            "displayName": "ccc flkwerkdai",
            "userId": "13507850890638580947"
          },
          "user_tz": -540
        },
        "outputId": "678cc364-1f3a-4c64-fb8e-a9092f3b8678"
      },
      "outputs": [
        {
          "output_type": "stream",
          "name": "stdout",
          "text": [
            "[       I like apple]\n",
            "[I like apple       ]\n",
            "[    I like apple   ]"
          ]
        }
      ],
      "source": [
        "a = \"I like apple\"\n",
        "print(\"[\"+a.rjust(19)+\"]\",sep=\"\")\n",
        "print(\"[\",a.ljust(19),\"]\",sep=\"\")\n",
        "print(\"[\",a.center(19),\"]\",sep=\"\")"
      ],
      "id": "8169d0f1-767e-4cb2-8b25-33b90c845571"
    },
    {
      "cell_type": "markdown",
      "metadata": {},
      "source": [
        "`-` 즉, 전달되는 매개변수는 전체공간을 의미하고, 각각의 메소드는 어디로\n",
        "정렬할지 정해준다!\n",
        "\n",
        "## replace\n",
        "\n",
        "`-` 값을 바꾼다고 객체가 변환되지는 않는다."
      ],
      "id": "6ff7d1d4-df1d-478e-b887-1124dd2e9416"
    },
    {
      "cell_type": "code",
      "execution_count": 110,
      "metadata": {
        "executionInfo": {
          "elapsed": 473,
          "status": "ok",
          "timestamp": 1691636369582,
          "user": {
            "displayName": "ccc flkwerkdai",
            "userId": "13507850890638580947"
          },
          "user_tz": -540
        },
        "outputId": "1a19271c-0e2d-4220-c245-a2ee4e0531f5"
      },
      "outputs": [
        {
          "output_type": "stream",
          "name": "stdout",
          "text": [
            "바나나\n",
            "사과"
          ]
        }
      ],
      "source": [
        "txt = \"사과\"\n",
        "print(txt.replace(\"사과\",\"바나나\"))\n",
        "print(txt)"
      ],
      "id": "f9cf761b-69e1-4e8b-8b8f-8c084dd30aec"
    },
    {
      "cell_type": "markdown",
      "metadata": {},
      "source": [
        "`-` **replace** 함수를 자주 사용하는 이유!\n",
        "\n",
        "`-` 실제 데이터 전처리 시 아래와 같은 구조가 많다.\n",
        "\n",
        "``` pyton\n",
        "number = \"123,456\"\n",
        "```\n",
        "\n",
        "이러한 상황이 발생했을 때 `replace` 함수를 사용"
      ],
      "id": "a0ef85f4-3f7b-410c-bc22-d913860557d5"
    },
    {
      "cell_type": "code",
      "execution_count": 124,
      "metadata": {
        "executionInfo": {
          "elapsed": 455,
          "status": "ok",
          "timestamp": 1691636835389,
          "user": {
            "displayName": "ccc flkwerkdai",
            "userId": "13507850890638580947"
          },
          "user_tz": -540
        },
        "outputId": "4999c28d-c7d3-4a97-a080-3ef11b93efd3"
      },
      "outputs": [],
      "source": [
        "number =\"123,456\"\n",
        "\n",
        "int(number.replace(\",\",\"\"))"
      ],
      "id": "7902829a-b5c7-4c18-8ab1-4f1297b514ce"
    },
    {
      "cell_type": "markdown",
      "metadata": {},
      "source": [
        "## strip\n",
        "\n",
        "`-` 텍스트 문자열에서 양쪽 끝에 특정 문자(공백포함)를 제거"
      ],
      "id": "583b7814-6f0d-4ab1-9d41-cca441e4fb81"
    },
    {
      "cell_type": "code",
      "execution_count": 119,
      "metadata": {
        "executionInfo": {
          "elapsed": 447,
          "status": "ok",
          "timestamp": 1691636603132,
          "user": {
            "displayName": "ccc flkwerkdai",
            "userId": "13507850890638580947"
          },
          "user_tz": -540
        },
        "outputId": "3b7804de-c32f-4813-80ab-e07002c18043"
      },
      "outputs": [
        {
          "output_type": "stream",
          "name": "stdout",
          "text": [
            "  ###사과%%%%  \n",
            "###사과%%%%\n",
            "  ###사과%%%%  \n",
            "사과"
          ]
        }
      ],
      "source": [
        "txt = \"  ###사과%%%%  \"\n",
        "print(txt)\n",
        "print(txt.strip(\" \"))\n",
        "print(txt.strip(\"#%\"))  ## 공백이 포함되어 있어서 지워지지 않는 것 같다.\n",
        "print(txt.strip(\" #%\")) ## 공백을 포함하니 깔끔하게 지워졌다."
      ],
      "id": "805ac731-9a9e-4711-b481-9ac69672d5a4"
    },
    {
      "cell_type": "markdown",
      "metadata": {},
      "source": [
        "## split"
      ],
      "id": "ff09266e-72c4-4565-be47-5c5403ffaa35"
    },
    {
      "cell_type": "code",
      "execution_count": 160,
      "metadata": {
        "executionInfo": {
          "elapsed": 454,
          "status": "ok",
          "timestamp": 1691637498197,
          "user": {
            "displayName": "ccc flkwerkdai",
            "userId": "13507850890638580947"
          },
          "user_tz": -540
        }
      },
      "outputs": [],
      "source": [
        "df = pd.read_csv(\"https://raw.githubusercontent.com/guebin/2021DV/master/_notebooks/covid19_20211202.csv\").iloc[1:,:]\n",
        "df = df.set_index(\"일자\").iloc[:,1:18]\n",
        "\n",
        "df = df.reset_index()\n",
        "dt = df[\"일자\"].tolist()"
      ],
      "id": "585f18c5-bed8-4263-bdd6-a884c71604ec"
    },
    {
      "cell_type": "code",
      "execution_count": 174,
      "metadata": {
        "executionInfo": {
          "elapsed": 456,
          "status": "ok",
          "timestamp": 1691637691872,
          "user": {
            "displayName": "ccc flkwerkdai",
            "userId": "13507850890638580947"
          },
          "user_tz": -540
        },
        "outputId": "17b30a65-8652-4420-9de4-d3c3f5cace62"
      },
      "outputs": [],
      "source": [
        "dt[:5]"
      ],
      "id": "bd3c4b0a-0467-481c-977f-d7b3d570a753"
    },
    {
      "cell_type": "code",
      "execution_count": 166,
      "metadata": {
        "executionInfo": {
          "elapsed": 454,
          "status": "ok",
          "timestamp": 1691637591239,
          "user": {
            "displayName": "ccc flkwerkdai",
            "userId": "13507850890638580947"
          },
          "user_tz": -540
        }
      },
      "outputs": [],
      "source": [
        "year = [i.split(\"-\")[0] for i in dt]\n",
        "month = [i.split(\"-\")[1] for i in dt]\n",
        "day = [i.split(\"-\")[2] for i in dt]"
      ],
      "id": "dc27ae0f-cd66-4313-9d74-0f937a5f1029"
    },
    {
      "cell_type": "code",
      "execution_count": 172,
      "metadata": {
        "executionInfo": {
          "elapsed": 664,
          "status": "ok",
          "timestamp": 1691637672170,
          "user": {
            "displayName": "ccc flkwerkdai",
            "userId": "13507850890638580947"
          },
          "user_tz": -540
        },
        "outputId": "0e5844da-a11f-41dd-fa95-6f6579d72dc0"
      },
      "outputs": [],
      "source": [
        "new_df = pd.DataFrame({\"year\": year,\n",
        "                       \"month\": month,\n",
        "                       \"day\" : day})\n",
        "new_df.head()"
      ],
      "id": "c2965853-1343-4ba8-bad6-7b134ab6aecd"
    },
    {
      "cell_type": "markdown",
      "metadata": {},
      "source": [
        "## join"
      ],
      "id": "b5310c50-3498-4241-950d-5d5a87a0d456"
    },
    {
      "cell_type": "code",
      "execution_count": 180,
      "metadata": {
        "executionInfo": {
          "elapsed": 301,
          "status": "ok",
          "timestamp": 1691637971675,
          "user": {
            "displayName": "ccc flkwerkdai",
            "userId": "13507850890638580947"
          },
          "user_tz": -540
        }
      },
      "outputs": [],
      "source": [
        "date = [(\"-\").join([year[i],month[i],day[i]]) for i in range(len(dt))]"
      ],
      "id": "ca732660-ded9-4502-a939-9e8d4d192582"
    },
    {
      "cell_type": "code",
      "execution_count": 181,
      "metadata": {
        "executionInfo": {
          "elapsed": 466,
          "status": "ok",
          "timestamp": 1691637978726,
          "user": {
            "displayName": "ccc flkwerkdai",
            "userId": "13507850890638580947"
          },
          "user_tz": -540
        },
        "outputId": "7bfdbeaf-0f7a-4516-da92-1131fb8282da"
      },
      "outputs": [],
      "source": [
        "date[:5]"
      ],
      "id": "c3554339-5459-46c5-a4e2-f1ae1ce92570"
    },
    {
      "cell_type": "markdown",
      "metadata": {},
      "source": [
        "------------------------------------------------------------------------\n",
        "\n",
        "# 3. 리스트\n",
        "\n",
        "## 리스트 Basic\n",
        "\n",
        "-   `[], list(), list(range(start,end))` 방법으로 리스트를 선언할 수\n",
        "    있다.\n",
        "\n",
        "### 리스트 선언 & 기본 method"
      ],
      "id": "95bfecc7-5a14-45e5-b510-83d33cecfa47"
    },
    {
      "cell_type": "code",
      "execution_count": 3,
      "metadata": {
        "executionInfo": {
          "elapsed": 312,
          "status": "ok",
          "timestamp": 1691647573900,
          "user": {
            "displayName": "ccc flkwerkdai",
            "userId": "13507850890638580947"
          },
          "user_tz": -540
        }
      },
      "outputs": [],
      "source": [
        "a = [1,2,3,4,5]\n",
        "b = list((1,2,3,4,5))\n",
        "c = list(range(1,6))"
      ],
      "id": "f7bf818d-81c0-4328-85fe-b3f6a2427e1c"
    },
    {
      "cell_type": "code",
      "execution_count": 4,
      "metadata": {
        "executionInfo": {
          "elapsed": 278,
          "status": "ok",
          "timestamp": 1691647621924,
          "user": {
            "displayName": "ccc flkwerkdai",
            "userId": "13507850890638580947"
          },
          "user_tz": -540
        },
        "outputId": "97f24423-afae-4d51-d1d7-807562b23d87"
      },
      "outputs": [
        {
          "output_type": "stream",
          "name": "stdout",
          "text": [
            "\n",
            "  a= [1, 2, 3, 4, 5]\n",
            "  b= [1, 2, 3, 4, 5]\n",
            "  c= [1, 2, 3, 4, 5]    \n"
          ]
        }
      ],
      "source": [
        "print(f'''\n",
        "  a= {a}\n",
        "  b= {b}\n",
        "  c= {c}\n",
        "''')"
      ],
      "id": "9d6cbbb8-0216-412d-8331-6a3dd0aa9966"
    },
    {
      "cell_type": "markdown",
      "metadata": {},
      "source": [
        "`-` 선언한 리스트의 합을 구하기"
      ],
      "id": "68fa50dc-89ae-4fc9-88f2-b6a77d403ebf"
    },
    {
      "cell_type": "code",
      "execution_count": 8,
      "metadata": {
        "executionInfo": {
          "elapsed": 265,
          "status": "ok",
          "timestamp": 1691647709028,
          "user": {
            "displayName": "ccc flkwerkdai",
            "userId": "13507850890638580947"
          },
          "user_tz": -540
        },
        "outputId": "0173e2a4-8577-40d6-82c9-6701842ea010"
      },
      "outputs": [],
      "source": [
        "sum(a)"
      ],
      "id": "75db901d-6a8c-4f06-881c-541128ea403f"
    },
    {
      "cell_type": "markdown",
      "metadata": {},
      "source": [
        "`-` 최대값과 최소값"
      ],
      "id": "476b3cb3-be90-42e8-b2b1-847e46147669"
    },
    {
      "cell_type": "code",
      "execution_count": 9,
      "metadata": {
        "executionInfo": {
          "elapsed": 367,
          "status": "ok",
          "timestamp": 1691647743918,
          "user": {
            "displayName": "ccc flkwerkdai",
            "userId": "13507850890638580947"
          },
          "user_tz": -540
        },
        "outputId": "cc3b916f-143c-4cf0-b227-d3761355a8f5"
      },
      "outputs": [],
      "source": [
        "min(a), max(a)"
      ],
      "id": "2da4b443-68b3-4348-a606-e3c5d1433937"
    },
    {
      "cell_type": "markdown",
      "metadata": {},
      "source": [
        "`-` 특정 요소 카운트"
      ],
      "id": "9fd72bab-94f8-4d0e-b0c1-1e4833d6d857"
    },
    {
      "cell_type": "code",
      "execution_count": 116,
      "metadata": {
        "executionInfo": {
          "elapsed": 414,
          "status": "ok",
          "timestamp": 1691650665736,
          "user": {
            "displayName": "ccc flkwerkdai",
            "userId": "13507850890638580947"
          },
          "user_tz": -540
        },
        "outputId": "5d0c4804-13a0-43c2-d426-1f5208aed216"
      },
      "outputs": [],
      "source": [
        "lst =  np.concatenate([np.ones(2), np.zeros(2)]).tolist()\n",
        "lst"
      ],
      "id": "337787da-e639-4867-b346-bc5deb9e84a9"
    },
    {
      "cell_type": "code",
      "execution_count": 117,
      "metadata": {
        "executionInfo": {
          "elapsed": 357,
          "status": "ok",
          "timestamp": 1691650668600,
          "user": {
            "displayName": "ccc flkwerkdai",
            "userId": "13507850890638580947"
          },
          "user_tz": -540
        },
        "outputId": "bf00a7fa-6034-49cd-938a-2909169b4c16"
      },
      "outputs": [],
      "source": [
        "lst.count(0),lst.count(1)"
      ],
      "id": "774ea737-2fe5-44fb-8cbb-815edcc4d2e4"
    },
    {
      "cell_type": "markdown",
      "metadata": {},
      "source": [
        "`-` 인덱스 반환\n",
        "\n",
        "-   리스트는 인덱스 반환 시, 맨 처음 인덱스만 반환한다 $\\to$\n",
        "    `문자열.find` 함수와 동일!"
      ],
      "id": "7c0142a1-70a3-4e39-b41f-b396ddc396cd"
    },
    {
      "cell_type": "code",
      "execution_count": 143,
      "metadata": {
        "executionInfo": {
          "elapsed": 472,
          "status": "ok",
          "timestamp": 1691651536345,
          "user": {
            "displayName": "ccc flkwerkdai",
            "userId": "13507850890638580947"
          },
          "user_tz": -540
        },
        "outputId": "1ff2fe78-c2d4-466d-aba1-14a11b5703e8"
      },
      "outputs": [],
      "source": [
        "lst.index(0)"
      ],
      "id": "d331a311-47d1-440b-acc0-e06bd8da463e"
    },
    {
      "cell_type": "markdown",
      "metadata": {},
      "source": [
        "-   그럼 다른 범위에 있는 **“원소”** 찾을때도 방법이 같지 않을까…???"
      ],
      "id": "9e087aac-e671-4a9d-aeb6-c04e520a5719"
    },
    {
      "cell_type": "code",
      "execution_count": 148,
      "metadata": {
        "executionInfo": {
          "elapsed": 534,
          "status": "ok",
          "timestamp": 1691651654732,
          "user": {
            "displayName": "ccc flkwerkdai",
            "userId": "13507850890638580947"
          },
          "user_tz": -540
        },
        "outputId": "e8aff456-b3d8-47fd-c997-cdeb0288f3d7"
      },
      "outputs": [],
      "source": [
        "lst.index(0,3,5)"
      ],
      "id": "db24897a-e196-4f81-8882-f45975873f14"
    },
    {
      "cell_type": "markdown",
      "metadata": {},
      "source": [
        "`-` 또한, 리스트는 자료형이 같지 않아도 다양한 자료형을 가질 수 있다."
      ],
      "id": "72d532d2-89ce-420b-beb2-fb534a98d4b7"
    },
    {
      "cell_type": "code",
      "execution_count": 10,
      "metadata": {
        "executionInfo": {
          "elapsed": 450,
          "status": "ok",
          "timestamp": 1691647812390,
          "user": {
            "displayName": "ccc flkwerkdai",
            "userId": "13507850890638580947"
          },
          "user_tz": -540
        }
      },
      "outputs": [],
      "source": [
        "_lst = [True, 3.14, 1, \"에이블\"]"
      ],
      "id": "e9b347a5-58ac-4b92-968e-bd5b8f12107d"
    },
    {
      "cell_type": "code",
      "execution_count": 12,
      "metadata": {
        "executionInfo": {
          "elapsed": 279,
          "status": "ok",
          "timestamp": 1691647829521,
          "user": {
            "displayName": "ccc flkwerkdai",
            "userId": "13507850890638580947"
          },
          "user_tz": -540
        },
        "outputId": "905731eb-a20a-45a3-cbe5-659fe5375986"
      },
      "outputs": [],
      "source": [
        "[type(i) for i in _lst]"
      ],
      "id": "66f36420-838c-4ed6-a029-255be640d67c"
    },
    {
      "cell_type": "markdown",
      "metadata": {},
      "source": [
        "### 리스트 중첩\n",
        "\n",
        "`-` 리스트안에 리스트를 집어넣을 수 있다."
      ],
      "id": "3ff874c5-937d-416e-9ff6-9bfc7a54bd30"
    },
    {
      "cell_type": "code",
      "execution_count": 14,
      "metadata": {
        "executionInfo": {
          "elapsed": 271,
          "status": "ok",
          "timestamp": 1691647902384,
          "user": {
            "displayName": "ccc flkwerkdai",
            "userId": "13507850890638580947"
          },
          "user_tz": -540
        }
      },
      "outputs": [],
      "source": [
        "import numpy as np"
      ],
      "id": "bf898ccd-d066-467a-adde-44b3a6084103"
    },
    {
      "cell_type": "code",
      "execution_count": 57,
      "metadata": {
        "executionInfo": {
          "elapsed": 322,
          "status": "ok",
          "timestamp": 1691648357046,
          "user": {
            "displayName": "ccc flkwerkdai",
            "userId": "13507850890638580947"
          },
          "user_tz": -540
        },
        "outputId": "35a9bbd0-4f80-4d14-8f94-4d6c0d891b20"
      },
      "outputs": [
        {
          "output_type": "stream",
          "name": "stdout",
          "text": [
            "\n",
            "    X.shape = (5, 3)\n",
            "    listX = [[1, 2, 3], [4, 5, 6], [7, 8, 9], [10, 11, 12], [13, 14, 15]]\n",
            "   "
          ]
        }
      ],
      "source": [
        "X = np.arange(1,16).reshape(5,-1)\n",
        "print(\n",
        "    f'''\n",
        "    X.shape = {X.shape}\n",
        "    listX = {X.tolist()}\n",
        "   '''\n",
        ")"
      ],
      "id": "f542c3f8-cbbb-4762-a8fb-10da73a5fe73"
    },
    {
      "cell_type": "code",
      "execution_count": 58,
      "metadata": {
        "executionInfo": {
          "elapsed": 263,
          "status": "ok",
          "timestamp": 1691648360513,
          "user": {
            "displayName": "ccc flkwerkdai",
            "userId": "13507850890638580947"
          },
          "user_tz": -540
        }
      },
      "outputs": [],
      "source": [
        "_X = X.tolist()"
      ],
      "id": "d5ba2f27-9827-4465-821e-eab21aef00f4"
    },
    {
      "cell_type": "code",
      "execution_count": 66,
      "metadata": {
        "executionInfo": {
          "elapsed": 419,
          "status": "ok",
          "timestamp": 1691649094879,
          "user": {
            "displayName": "ccc flkwerkdai",
            "userId": "13507850890638580947"
          },
          "user_tz": -540
        },
        "outputId": "9f016dc0-2d87-45ea-da27-c3042cc8ac91"
      },
      "outputs": [],
      "source": [
        "len(_X) ## 길이가 5인리스트로 인식됌"
      ],
      "id": "dac7cabf-3d11-46d0-b324-c5964b541384"
    },
    {
      "cell_type": "markdown",
      "metadata": {},
      "source": [
        "### 중첩된 리스트 flatten\n",
        "\n",
        "`1` 리스트 컴프리헨션"
      ],
      "id": "f6d83f63-ba01-483a-b183-07d4a6552651"
    },
    {
      "cell_type": "code",
      "execution_count": 70,
      "metadata": {
        "executionInfo": {
          "elapsed": 471,
          "status": "ok",
          "timestamp": 1691649277200,
          "user": {
            "displayName": "ccc flkwerkdai",
            "userId": "13507850890638580947"
          },
          "user_tz": -540
        },
        "outputId": "a5a75b03-59ca-4e09-98ba-0e71207df9b6"
      },
      "outputs": [],
      "source": [
        "[ j for i in _X for j in i ]"
      ],
      "id": "203e324f-ec33-4daf-a38f-cca023463c94"
    },
    {
      "cell_type": "markdown",
      "metadata": {},
      "source": [
        "`2` numpy 이용"
      ],
      "id": "56e66222-7206-4bf8-8fab-15c0b9444f41"
    },
    {
      "cell_type": "code",
      "execution_count": 73,
      "metadata": {
        "executionInfo": {
          "elapsed": 416,
          "status": "ok",
          "timestamp": 1691649314692,
          "user": {
            "displayName": "ccc flkwerkdai",
            "userId": "13507850890638580947"
          },
          "user_tz": -540
        },
        "outputId": "5afaadb2-dd0b-450f-f53e-aea59c2be9f3"
      },
      "outputs": [],
      "source": [
        "np.array(_X).flatten().tolist()"
      ],
      "id": "a0cb319d-fac8-4c92-ab41-001f3022f3c3"
    },
    {
      "cell_type": "markdown",
      "metadata": {},
      "source": [
        "## 리스트 연산\n",
        "\n",
        "`-` 리스트의 연산은 더하기와 곱하기만 지원한다.\n",
        "\n",
        "-   `+` : 2개의 리스트를 이어붙임, R에서 처럼 브로드캐스팅이 수행되지\n",
        "    않음"
      ],
      "id": "54499a1c-83a0-49ef-9a42-b466f85f804e"
    },
    {
      "cell_type": "code",
      "execution_count": 186,
      "metadata": {
        "executionInfo": {
          "elapsed": 462,
          "status": "ok",
          "timestamp": 1691647202453,
          "user": {
            "displayName": "ccc flkwerkdai",
            "userId": "13507850890638580947"
          },
          "user_tz": -540
        }
      },
      "outputs": [],
      "source": [
        "a = [1,2]\n",
        "b = [3,4]"
      ],
      "id": "109d4e23-cb04-4c5d-96fb-6830bb81a93c"
    },
    {
      "cell_type": "code",
      "execution_count": 188,
      "metadata": {
        "executionInfo": {
          "elapsed": 470,
          "status": "ok",
          "timestamp": 1691647209086,
          "user": {
            "displayName": "ccc flkwerkdai",
            "userId": "13507850890638580947"
          },
          "user_tz": -540
        },
        "outputId": "ea68a668-42f1-4c78-ddaa-df574465c1e3"
      },
      "outputs": [],
      "source": [
        "a+b"
      ],
      "id": "bbb1d056-7989-4590-a6c2-1b680e1c4224"
    },
    {
      "cell_type": "markdown",
      "metadata": {},
      "source": [
        "-   $\\times$ 는 특정 리스트를 얼마나 반복할지 결정해줌"
      ],
      "id": "cfa7152d-60e4-41c5-a67a-6d961b6f47c0"
    },
    {
      "cell_type": "code",
      "execution_count": 189,
      "metadata": {
        "executionInfo": {
          "elapsed": 469,
          "status": "ok",
          "timestamp": 1691647263098,
          "user": {
            "displayName": "ccc flkwerkdai",
            "userId": "13507850890638580947"
          },
          "user_tz": -540
        },
        "outputId": "45f84dd2-31c0-42cd-a1b7-dfde01a78d22"
      },
      "outputs": [],
      "source": [
        "a*2"
      ],
      "id": "eb94995a-8fb7-4146-917e-e76a37b4c118"
    },
    {
      "cell_type": "code",
      "execution_count": 194,
      "metadata": {
        "executionInfo": {
          "elapsed": 300,
          "status": "ok",
          "timestamp": 1691647282337,
          "user": {
            "displayName": "ccc flkwerkdai",
            "userId": "13507850890638580947"
          },
          "user_tz": -540
        },
        "outputId": "12c15379-3dad-459a-d58e-d881cd22cdc1"
      },
      "outputs": [],
      "source": [
        "a*0"
      ],
      "id": "74a83515-465d-4411-9221-8ccec9e29b7a"
    },
    {
      "cell_type": "code",
      "execution_count": 193,
      "metadata": {
        "executionInfo": {
          "elapsed": 451,
          "status": "ok",
          "timestamp": 1691647279176,
          "user": {
            "displayName": "ccc flkwerkdai",
            "userId": "13507850890638580947"
          },
          "user_tz": -540
        },
        "outputId": "6529c7de-921c-41c1-c8b5-0d07536ee2e5"
      },
      "outputs": [],
      "source": [
        "a*(-2)"
      ],
      "id": "f7f0d6e5-9214-4a14-85a6-c4120eeec9e6"
    },
    {
      "cell_type": "markdown",
      "metadata": {},
      "source": [
        "## 리스트 원소 추가\n",
        "\n",
        "### append"
      ],
      "id": "ff7ab573-2f81-4009-aa29-d58b4c38f1fb"
    },
    {
      "cell_type": "code",
      "execution_count": 74,
      "metadata": {
        "executionInfo": {
          "elapsed": 397,
          "status": "ok",
          "timestamp": 1691649748063,
          "user": {
            "displayName": "ccc flkwerkdai",
            "userId": "13507850890638580947"
          },
          "user_tz": -540
        },
        "outputId": "8d3e0f24-7786-41cc-cdb2-f8a437599664"
      },
      "outputs": [],
      "source": [
        "a=[]\n",
        "\n",
        "for i in range(3):\n",
        "    a += [i]\n",
        "\n",
        "a"
      ],
      "id": "c6b2c408-30c0-4c12-9c06-1c2400a54d78"
    },
    {
      "cell_type": "markdown",
      "metadata": {},
      "source": [
        "#### append 주의!\n",
        "\n",
        "`-` 아래와 같은 연산은 수행되지 않는다."
      ],
      "id": "8f2995ca-77a3-4adf-a50d-1ad8fbf24530"
    },
    {
      "cell_type": "code",
      "execution_count": 75,
      "metadata": {
        "executionInfo": {
          "elapsed": 290,
          "status": "error",
          "timestamp": 1691649767479,
          "user": {
            "displayName": "ccc flkwerkdai",
            "userId": "13507850890638580947"
          },
          "user_tz": -540
        },
        "outputId": "55189970-58e3-4b3b-ea24-3249f065f97b"
      },
      "outputs": [],
      "source": [
        "a.append(0).append(1).append(2)"
      ],
      "id": "42b59ac6-9f4c-473d-ad3d-f414e073b31f"
    },
    {
      "cell_type": "markdown",
      "metadata": {},
      "source": [
        "`-` 또한, 매개변수로 리스트를 전달 시 아래처럼 수행된다."
      ],
      "id": "854381cc-e837-4451-a7df-05336288f6ce"
    },
    {
      "cell_type": "code",
      "execution_count": 2,
      "metadata": {},
      "outputs": [],
      "source": [
        "a = [1,2,3]\n",
        "b = [4,5]\n",
        "a.append(b)\n",
        "a"
      ],
      "id": "9a8533d4-c41c-4cf0-8ad8-8257eeee3c60"
    },
    {
      "cell_type": "markdown",
      "metadata": {},
      "source": [
        "#### append를 쓰지않고…"
      ],
      "id": "f8f3d288-8634-44c9-aec0-c5dd43b85aee"
    },
    {
      "cell_type": "code",
      "execution_count": 77,
      "metadata": {
        "executionInfo": {
          "elapsed": 3,
          "status": "ok",
          "timestamp": 1691649825390,
          "user": {
            "displayName": "ccc flkwerkdai",
            "userId": "13507850890638580947"
          },
          "user_tz": -540
        },
        "outputId": "9e3dbaa1-51e4-4127-ee58-bb12c1a9b92b"
      },
      "outputs": [],
      "source": [
        "a=[]\n",
        "\n",
        "for i in range(3):\n",
        "    a += [i]\n",
        "a"
      ],
      "id": "814c112e-323c-4357-8418-e3f2f9824bcd"
    },
    {
      "cell_type": "markdown",
      "metadata": {},
      "source": [
        "#### `+` 와 `.append`의 차이\n",
        "\n",
        "`-` append 함수의 경우 연산 수행 후 연산 대상 객체가 변화한다."
      ],
      "id": "b8ec72a5-2d25-4e9a-9c4a-eaaa6ae75ea7"
    },
    {
      "cell_type": "code",
      "execution_count": 78,
      "metadata": {
        "executionInfo": {
          "elapsed": 3,
          "status": "ok",
          "timestamp": 1691649885504,
          "user": {
            "displayName": "ccc flkwerkdai",
            "userId": "13507850890638580947"
          },
          "user_tz": -540
        },
        "outputId": "62acdfe1-0bf4-45dd-f82e-a1c32a0a939f"
      },
      "outputs": [],
      "source": [
        "a = []\n",
        "a.append(1)\n",
        "a"
      ],
      "id": "6a9dd20e-b660-4274-92c1-9cffc057b609"
    },
    {
      "cell_type": "markdown",
      "metadata": {},
      "source": [
        "`-` +는 그렇지 않음"
      ],
      "id": "9f636b30-c010-4063-a963-4a0e7c7ccd0f"
    },
    {
      "cell_type": "code",
      "execution_count": 80,
      "metadata": {
        "executionInfo": {
          "elapsed": 433,
          "status": "ok",
          "timestamp": 1691649910359,
          "user": {
            "displayName": "ccc flkwerkdai",
            "userId": "13507850890638580947"
          },
          "user_tz": -540
        },
        "outputId": "e60f538c-4885-49ad-d736-959a8b02f4bb"
      },
      "outputs": [],
      "source": [
        "a = []\n",
        "a + [1]\n",
        "a"
      ],
      "id": "ca7d9909-8bfc-412b-885b-07500c428214"
    },
    {
      "cell_type": "markdown",
      "metadata": {},
      "source": [
        "### extend\n",
        "\n",
        "`-` 두개의 리스트를 더할 때 extend함수를 사용한다. (append는 리스트 오브\n",
        "리스트로 붙여준다는점에서 차이가 명확함)\n",
        "\n",
        "`-` append처럼 `+`와의 차이가 같음."
      ],
      "id": "728724ac-da1e-42a5-ad91-2459ff5caf28"
    },
    {
      "cell_type": "code",
      "execution_count": 105,
      "metadata": {
        "executionInfo": {
          "elapsed": 744,
          "status": "ok",
          "timestamp": 1691650387882,
          "user": {
            "displayName": "ccc flkwerkdai",
            "userId": "13507850890638580947"
          },
          "user_tz": -540
        },
        "outputId": "445c298e-b50a-45c3-f874-27964629ef00"
      },
      "outputs": [
        {
          "output_type": "stream",
          "name": "stdout",
          "text": [
            "\n",
            "      a.extend(b) = [1, 2, 3, 4]\n",
            "      a = [1, 2, 3, 4]\n",
            "      "
          ]
        }
      ],
      "source": [
        "a = [1,2]\n",
        "b = [3,4]\n",
        "a.extend(b)\n",
        "print(f'''\n",
        "      a.extend(b) = {a}\n",
        "      a = {a}\n",
        "      ''')"
      ],
      "id": "789cc289-b0ff-486b-b055-dc3714aced4d"
    },
    {
      "cell_type": "code",
      "execution_count": 106,
      "metadata": {
        "executionInfo": {
          "elapsed": 450,
          "status": "ok",
          "timestamp": 1691650390697,
          "user": {
            "displayName": "ccc flkwerkdai",
            "userId": "13507850890638580947"
          },
          "user_tz": -540
        },
        "outputId": "3ff02132-108a-4158-d3bf-7aadcff6c092"
      },
      "outputs": [
        {
          "output_type": "stream",
          "name": "stdout",
          "text": [
            "\n",
            "      a + b = [1, 2]\n",
            "      a = [1, 2]\n",
            "      "
          ]
        }
      ],
      "source": [
        "a = [1,2]\n",
        "b = [3,4]\n",
        "a+b\n",
        "print(f'''\n",
        "      a + b = {a}\n",
        "      a = {a}\n",
        "      ''')"
      ],
      "id": "869f6232-85df-4d6b-a0cb-080240030ef2"
    },
    {
      "cell_type": "markdown",
      "metadata": {},
      "source": [
        "### insert\n",
        "\n",
        "`-` 원하는 인덱스의 요소를 추가한다."
      ],
      "id": "f99d95a8-6675-46ee-bc6f-c53557d9e063"
    },
    {
      "cell_type": "code",
      "execution_count": 112,
      "metadata": {
        "executionInfo": {
          "elapsed": 428,
          "status": "ok",
          "timestamp": 1691650506478,
          "user": {
            "displayName": "ccc flkwerkdai",
            "userId": "13507850890638580947"
          },
          "user_tz": -540
        },
        "outputId": "77953fcb-6a66-481a-fe77-4b9dac9af67e"
      },
      "outputs": [],
      "source": [
        "a = list(np.round(np.random.normal(size=10),2))\n",
        "a"
      ],
      "id": "2191aaac-7fea-4f62-befc-d447ff6be8e8"
    },
    {
      "cell_type": "markdown",
      "metadata": {},
      "source": [
        "`-` 0과 2인덱스의 해당 값을 추가"
      ],
      "id": "1804acc8-72a0-49cd-a708-e9775b79f61f"
    },
    {
      "cell_type": "code",
      "execution_count": 113,
      "metadata": {
        "executionInfo": {
          "elapsed": 2,
          "status": "ok",
          "timestamp": 1691650507776,
          "user": {
            "displayName": "ccc flkwerkdai",
            "userId": "13507850890638580947"
          },
          "user_tz": -540
        }
      },
      "outputs": [],
      "source": [
        "a.insert(0,100)\n",
        "a.insert(2,77)"
      ],
      "id": "7e3eb959-1210-407d-b07d-083607cb96e4"
    },
    {
      "cell_type": "code",
      "execution_count": 115,
      "metadata": {
        "executionInfo": {
          "elapsed": 323,
          "status": "ok",
          "timestamp": 1691650555990,
          "user": {
            "displayName": "ccc flkwerkdai",
            "userId": "13507850890638580947"
          },
          "user_tz": -540
        },
        "outputId": "97f23e21-2416-4fc7-a0cf-a89517f2de05"
      },
      "outputs": [
        {
          "output_type": "stream",
          "name": "stdout",
          "text": [
            "index : 0,  value : 100\n",
            "index : 1,  value : 0.51\n",
            "index : 2,  value : 77\n",
            "index : 3,  value : -0.52\n",
            "index : 4,  value : -0.57\n",
            "index : 5,  value : -1.48\n",
            "index : 6,  value : 0.57\n",
            "index : 7,  value : -1.32\n",
            "index : 8,  value : 1.71\n",
            "index : 9,  value : 0.03\n",
            "index : 10,  value : 0.18\n",
            "index : 11,  value : 0.97"
          ]
        }
      ],
      "source": [
        "for i in range(len(a)) :\n",
        "    print(f\"index : {i},  value : {a[i]}\")"
      ],
      "id": "bf84f80a-adac-41af-8411-7baede5149c3"
    },
    {
      "cell_type": "markdown",
      "metadata": {},
      "source": [
        "## 리스트 원소 삭제"
      ],
      "id": "9ba358c5-833a-46e8-8326-d0cc03ec7323"
    },
    {
      "cell_type": "code",
      "execution_count": 118,
      "metadata": {
        "executionInfo": {
          "elapsed": 322,
          "status": "ok",
          "timestamp": 1691650875643,
          "user": {
            "displayName": "ccc flkwerkdai",
            "userId": "13507850890638580947"
          },
          "user_tz": -540
        },
        "outputId": "753504ca-7a9b-4886-acb4-149aa13f267c"
      },
      "outputs": [],
      "source": [
        "a = list(range(5))\n",
        "a"
      ],
      "id": "fbff3f11-9657-4b3c-b233-1398ed29ebde"
    },
    {
      "cell_type": "markdown",
      "metadata": {},
      "source": [
        "### 단일 원소삭제"
      ],
      "id": "d812dff6-7b8e-44f5-b19a-e6869e370efd"
    },
    {
      "cell_type": "code",
      "execution_count": 122,
      "metadata": {
        "executionInfo": {
          "elapsed": 288,
          "status": "ok",
          "timestamp": 1691650937366,
          "user": {
            "displayName": "ccc flkwerkdai",
            "userId": "13507850890638580947"
          },
          "user_tz": -540
        }
      },
      "outputs": [],
      "source": [
        "a = list(range(5))\n",
        "a\n",
        "\n",
        "del a[0]"
      ],
      "id": "8485d31a-73ee-4da8-b866-9711c423df81"
    },
    {
      "cell_type": "code",
      "execution_count": 123,
      "metadata": {
        "executionInfo": {
          "elapsed": 281,
          "status": "ok",
          "timestamp": 1691650940268,
          "user": {
            "displayName": "ccc flkwerkdai",
            "userId": "13507850890638580947"
          },
          "user_tz": -540
        },
        "outputId": "a076e5d7-ee12-481f-d1ad-1b0b763e67f6"
      },
      "outputs": [],
      "source": [
        "a"
      ],
      "id": "0f49c432-890b-4a5c-9cc3-4e7babec9313"
    },
    {
      "cell_type": "markdown",
      "metadata": {},
      "source": [
        "### 범위 삭제"
      ],
      "id": "9ccac4db-91cc-4b57-abf0-6a33f9020f4e"
    },
    {
      "cell_type": "code",
      "execution_count": 126,
      "metadata": {
        "executionInfo": {
          "elapsed": 431,
          "status": "ok",
          "timestamp": 1691650965097,
          "user": {
            "displayName": "ccc flkwerkdai",
            "userId": "13507850890638580947"
          },
          "user_tz": -540
        },
        "outputId": "493c97a3-5f99-4205-e259-b1c0a7e501b3"
      },
      "outputs": [],
      "source": [
        "a = list(range(5))\n",
        "a\n",
        "\n",
        "del a[0:2]\n",
        "a"
      ],
      "id": "646d929f-4484-4cba-ab00-757e104213a5"
    },
    {
      "cell_type": "markdown",
      "metadata": {},
      "source": [
        "### remove\n",
        "\n",
        "`-` 특정 원소를 삭제"
      ],
      "id": "5e5b9947-2202-4668-a98b-7e8492b6898e"
    },
    {
      "cell_type": "code",
      "execution_count": 127,
      "metadata": {
        "executionInfo": {
          "elapsed": 290,
          "status": "ok",
          "timestamp": 1691651038257,
          "user": {
            "displayName": "ccc flkwerkdai",
            "userId": "13507850890638580947"
          },
          "user_tz": -540
        },
        "outputId": "919118aa-de62-40c0-db3a-0d03f884f8c0"
      },
      "outputs": [],
      "source": [
        "a = list(range(5))\n",
        "a"
      ],
      "id": "8e0d416f-22de-46f2-a027-730b0da719c4"
    },
    {
      "cell_type": "code",
      "execution_count": 128,
      "metadata": {
        "executionInfo": {
          "elapsed": 294,
          "status": "ok",
          "timestamp": 1691651052941,
          "user": {
            "displayName": "ccc flkwerkdai",
            "userId": "13507850890638580947"
          },
          "user_tz": -540
        }
      },
      "outputs": [],
      "source": [
        "a.remove(3)"
      ],
      "id": "93e609a2-7d98-4be4-b74d-2b3b7f127d38"
    },
    {
      "cell_type": "code",
      "execution_count": 129,
      "metadata": {
        "executionInfo": {
          "elapsed": 479,
          "status": "ok",
          "timestamp": 1691651055068,
          "user": {
            "displayName": "ccc flkwerkdai",
            "userId": "13507850890638580947"
          },
          "user_tz": -540
        },
        "outputId": "948444f5-bfc7-4b4b-f40a-be45cfdf953f"
      },
      "outputs": [],
      "source": [
        "a"
      ],
      "id": "bf903dba-e26f-41dd-928e-78305b55f0ce"
    },
    {
      "cell_type": "markdown",
      "metadata": {},
      "source": [
        "### pop\n",
        "\n",
        "`-` 특정 index값을 받아 해당 인덱스의 값을 출력하고, 리스트에서\n",
        "제거된다. $\\to$ 나머지 원소들은 자동으로 인덱스가 앞으로 땅겨짐"
      ],
      "id": "0b4a2a5f-418c-4963-97bc-09f390af118d"
    },
    {
      "cell_type": "code",
      "execution_count": 138,
      "metadata": {
        "executionInfo": {
          "elapsed": 449,
          "status": "ok",
          "timestamp": 1691651234233,
          "user": {
            "displayName": "ccc flkwerkdai",
            "userId": "13507850890638580947"
          },
          "user_tz": -540
        }
      },
      "outputs": [],
      "source": [
        "a = [1,2,3,4]"
      ],
      "id": "36b3f20b-d862-4d17-b837-72f4e447d85f"
    },
    {
      "cell_type": "code",
      "execution_count": 139,
      "metadata": {
        "executionInfo": {
          "elapsed": 2,
          "status": "ok",
          "timestamp": 1691651235785,
          "user": {
            "displayName": "ccc flkwerkdai",
            "userId": "13507850890638580947"
          },
          "user_tz": -540
        },
        "outputId": "09c0f5c6-327a-4ec6-d4ef-0949e7f6cc91"
      },
      "outputs": [],
      "source": [
        "a.pop(0)"
      ],
      "id": "e55ec6d2-3952-42d7-8784-fc2ccc9d7e2a"
    },
    {
      "cell_type": "code",
      "execution_count": 140,
      "metadata": {
        "executionInfo": {
          "elapsed": 486,
          "status": "ok",
          "timestamp": 1691651242614,
          "user": {
            "displayName": "ccc flkwerkdai",
            "userId": "13507850890638580947"
          },
          "user_tz": -540
        },
        "outputId": "40642a6e-cb14-403c-f104-b6149fad795c"
      },
      "outputs": [],
      "source": [
        "a.pop(0)"
      ],
      "id": "dd1d7e77-1611-4c0d-b537-a53f5edd8280"
    },
    {
      "cell_type": "markdown",
      "metadata": {},
      "source": [
        "### clear\n",
        "\n",
        "`-` 전체 원소 삭제"
      ],
      "id": "2a1e989a-6d3d-47f2-80a5-4a19b36bb3b4"
    },
    {
      "cell_type": "code",
      "execution_count": 141,
      "metadata": {
        "executionInfo": {
          "elapsed": 324,
          "status": "ok",
          "timestamp": 1691651287615,
          "user": {
            "displayName": "ccc flkwerkdai",
            "userId": "13507850890638580947"
          },
          "user_tz": -540
        },
        "outputId": "0c1cbf0d-0670-4643-eb1c-414dfab43f6d"
      },
      "outputs": [],
      "source": [
        "a = [1,2,3,4]\n",
        "a"
      ],
      "id": "1e3da4c3-329a-4408-9be5-e76c1ed870d5"
    },
    {
      "cell_type": "code",
      "execution_count": 142,
      "metadata": {
        "executionInfo": {
          "elapsed": 270,
          "status": "ok",
          "timestamp": 1691651291561,
          "user": {
            "displayName": "ccc flkwerkdai",
            "userId": "13507850890638580947"
          },
          "user_tz": -540
        },
        "outputId": "8a73b491-78d6-4a49-b3cd-40881df3b70b"
      },
      "outputs": [],
      "source": [
        "a.clear()\n",
        "a"
      ],
      "id": "06d3dda4-292b-4f08-ae61-2732f15dc977"
    },
    {
      "cell_type": "markdown",
      "metadata": {},
      "source": [
        "## 리스트 정렬"
      ],
      "id": "39184abb-fb0e-47ab-bf4c-646576e637a9"
    },
    {
      "cell_type": "code",
      "execution_count": 162,
      "metadata": {
        "executionInfo": {
          "elapsed": 371,
          "status": "ok",
          "timestamp": 1691651894680,
          "user": {
            "displayName": "ccc flkwerkdai",
            "userId": "13507850890638580947"
          },
          "user_tz": -540
        },
        "outputId": "df3da9a2-be5e-4f85-e88c-9f083077f0d1"
      },
      "outputs": [],
      "source": [
        "a = [1,3,2,4]\n",
        "a"
      ],
      "id": "1eebfd44-f670-4587-a366-fea62bd8ccc6"
    },
    {
      "cell_type": "code",
      "execution_count": 163,
      "metadata": {
        "executionInfo": {
          "elapsed": 307,
          "status": "ok",
          "timestamp": 1691651896623,
          "user": {
            "displayName": "ccc flkwerkdai",
            "userId": "13507850890638580947"
          },
          "user_tz": -540
        },
        "outputId": "620306ac-ce3d-4795-87d5-813edabbeaaa"
      },
      "outputs": [],
      "source": [
        "a.sort()\n",
        "a"
      ],
      "id": "7e1cc279-77d6-4271-a788-b5cd7907266e"
    },
    {
      "cell_type": "code",
      "execution_count": 164,
      "metadata": {
        "executionInfo": {
          "elapsed": 335,
          "status": "ok",
          "timestamp": 1691651898530,
          "user": {
            "displayName": "ccc flkwerkdai",
            "userId": "13507850890638580947"
          },
          "user_tz": -540
        },
        "outputId": "37bb0669-89fa-4be9-ad23-6b20b5273fc6"
      },
      "outputs": [],
      "source": [
        "a.sort(reverse= True)\n",
        "a"
      ],
      "id": "9f70175c-d42a-412c-9344-9468b4e0cb6c"
    },
    {
      "cell_type": "code",
      "execution_count": 165,
      "metadata": {
        "executionInfo": {
          "elapsed": 297,
          "status": "ok",
          "timestamp": 1691651900599,
          "user": {
            "displayName": "ccc flkwerkdai",
            "userId": "13507850890638580947"
          },
          "user_tz": -540
        },
        "outputId": "a95f678d-ed4e-4ffb-d633-675fa53fe403"
      },
      "outputs": [],
      "source": [
        "a.reverse()\n",
        "a"
      ],
      "id": "a620b563-4259-45bd-b6f9-fab8b9ffc59a"
    },
    {
      "cell_type": "markdown",
      "metadata": {},
      "source": [
        "리스트 카피\n",
        "\n",
        "`-` 카피함수를 사용하는 이유는 아래와 같은 경우를 방지하기 위함이다."
      ],
      "id": "569b206e-c65c-4ac2-b153-eaeb08342845"
    },
    {
      "cell_type": "code",
      "execution_count": 166,
      "metadata": {
        "executionInfo": {
          "elapsed": 420,
          "status": "ok",
          "timestamp": 1691652661328,
          "user": {
            "displayName": "ccc flkwerkdai",
            "userId": "13507850890638580947"
          },
          "user_tz": -540
        }
      },
      "outputs": [],
      "source": [
        "a = list(range(4))\n",
        "b = a"
      ],
      "id": "9d7c24f3-e3a7-454e-9feb-f962e9c66653"
    },
    {
      "cell_type": "code",
      "execution_count": 168,
      "metadata": {
        "executionInfo": {
          "elapsed": 309,
          "status": "ok",
          "timestamp": 1691652673769,
          "user": {
            "displayName": "ccc flkwerkdai",
            "userId": "13507850890638580947"
          },
          "user_tz": -540
        },
        "outputId": "b4174d4a-7c4b-4254-8221-cdd50d78e76d"
      },
      "outputs": [],
      "source": [
        "id(a) == id(b)"
      ],
      "id": "b1cb8996-e49c-425b-8447-be9c9e3856fe"
    },
    {
      "cell_type": "markdown",
      "metadata": {},
      "source": [
        "`-` 위와 같이 같은 메모리 공간을 참조하고 있으면…."
      ],
      "id": "0efe8705-7ee3-4d21-b688-b60ef0d9b3c9"
    },
    {
      "cell_type": "code",
      "execution_count": 169,
      "metadata": {
        "executionInfo": {
          "elapsed": 359,
          "status": "ok",
          "timestamp": 1691652696665,
          "user": {
            "displayName": "ccc flkwerkdai",
            "userId": "13507850890638580947"
          },
          "user_tz": -540
        }
      },
      "outputs": [],
      "source": [
        "a.append(5)"
      ],
      "id": "5dd5d0e0-ee97-445a-b2d5-f4f37e6656e6"
    },
    {
      "cell_type": "code",
      "execution_count": 170,
      "metadata": {
        "executionInfo": {
          "elapsed": 314,
          "status": "ok",
          "timestamp": 1691652698338,
          "user": {
            "displayName": "ccc flkwerkdai",
            "userId": "13507850890638580947"
          },
          "user_tz": -540
        },
        "outputId": "f11c7b57-93b6-488f-b7cb-183fc8fc40f8"
      },
      "outputs": [],
      "source": [
        "a"
      ],
      "id": "7f6c5eef-017b-4d60-b030-30101b7039a3"
    },
    {
      "cell_type": "code",
      "execution_count": 171,
      "metadata": {
        "executionInfo": {
          "elapsed": 279,
          "status": "ok",
          "timestamp": 1691652700424,
          "user": {
            "displayName": "ccc flkwerkdai",
            "userId": "13507850890638580947"
          },
          "user_tz": -540
        },
        "outputId": "6715a842-0fc0-4cb8-afdc-1634f07fc587"
      },
      "outputs": [],
      "source": [
        "b"
      ],
      "id": "00688fd3-eb03-435f-8e87-e198bb084cb7"
    },
    {
      "cell_type": "markdown",
      "metadata": {},
      "source": [
        "`-` 이러한 경우를 방지하기 위해 `copy`함수를 사용"
      ],
      "id": "d0b3dbc8-30fa-42ad-805a-f99945d8900f"
    },
    {
      "cell_type": "code",
      "execution_count": 172,
      "metadata": {
        "executionInfo": {
          "elapsed": 403,
          "status": "ok",
          "timestamp": 1691652727826,
          "user": {
            "displayName": "ccc flkwerkdai",
            "userId": "13507850890638580947"
          },
          "user_tz": -540
        },
        "outputId": "e6d4efdd-a034-48c7-ceb2-5ff4c02d2789"
      },
      "outputs": [],
      "source": [
        "a = list(range(4))\n",
        "b = a.copy()\n",
        "\n",
        "id(a) == id(b)"
      ],
      "id": "d76155c5-f688-4436-8464-874708758eb2"
    },
    {
      "cell_type": "code",
      "execution_count": 173,
      "metadata": {
        "executionInfo": {
          "elapsed": 400,
          "status": "ok",
          "timestamp": 1691652734618,
          "user": {
            "displayName": "ccc flkwerkdai",
            "userId": "13507850890638580947"
          },
          "user_tz": -540
        }
      },
      "outputs": [],
      "source": [
        "a.append(5)"
      ],
      "id": "ce99a011-d93c-4eb1-8c65-4fb24b1cc948"
    },
    {
      "cell_type": "code",
      "execution_count": 174,
      "metadata": {
        "executionInfo": {
          "elapsed": 290,
          "status": "ok",
          "timestamp": 1691652738563,
          "user": {
            "displayName": "ccc flkwerkdai",
            "userId": "13507850890638580947"
          },
          "user_tz": -540
        },
        "outputId": "5b68e680-6c0c-4a89-ac9c-6e9d2144b998"
      },
      "outputs": [
        {
          "output_type": "stream",
          "name": "stdout",
          "text": [
            "[0, 1, 2, 3, 5] [0, 1, 2, 3]"
          ]
        }
      ],
      "source": [
        "print(a,b)"
      ],
      "id": "61e562d6-7c31-4c12-bdf6-70c1b4aa1ad5"
    },
    {
      "cell_type": "markdown",
      "metadata": {},
      "source": [
        "## exercise Link\n",
        "\n",
        "`-` [exercise\n",
        "1](https://gangcheol.github.io/mysite/post/Lecture/IP/2023-08-02-02wk.html#excercise1)\n",
        "\n",
        "`-` [exercise\n",
        "2](https://gangcheol.github.io/mysite/post/Lecture/IP/2023-08-02-02wk.html#exercise2)"
      ],
      "id": "ccd2c29f-9a8f-4641-867e-39dd601ca4c5"
    }
  ],
  "nbformat": 4,
  "nbformat_minor": 5,
  "metadata": {
    "colab": {
      "authorship_tag": "ABX9TyOZqjP/kEd7L4v5+khSR5qs",
      "provenance": [],
      "toc_visible": true
    },
    "kernelspec": {
      "name": "python3",
      "display_name": "Python 3 (ipykernel)",
      "language": "python"
    },
    "language_info": {
      "name": "python",
      "codemirror_mode": {
        "name": "ipython",
        "version": "3"
      },
      "file_extension": ".py",
      "mimetype": "text/x-python",
      "nbconvert_exporter": "python",
      "pygments_lexer": "ipython3",
      "version": "3.11.4"
    }
  }
}