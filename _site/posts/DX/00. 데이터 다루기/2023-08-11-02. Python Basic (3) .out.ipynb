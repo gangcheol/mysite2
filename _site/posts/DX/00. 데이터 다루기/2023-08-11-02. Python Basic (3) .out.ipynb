{
  "cells": [
    {
      "cell_type": "markdown",
      "metadata": {},
      "source": [
        "# 02. Python Basic (3)\n",
        "\n",
        "GC  \n",
        "2023-08-11\n",
        "\n",
        "# import"
      ],
      "id": "1d59b590-8fab-4bbf-9b2b-80f8595f9828"
    },
    {
      "cell_type": "code",
      "execution_count": 1,
      "metadata": {},
      "outputs": [],
      "source": [
        "import numpy as np\n",
        "import pandas as pd\n",
        "import matplotlib.pyplot as plt"
      ],
      "id": "ca20543a-ab07-4839-8190-6b8079b66068"
    },
    {
      "cell_type": "markdown",
      "metadata": {},
      "source": [
        "# 튜플\n",
        "\n",
        "## why use(1)?\n",
        "\n",
        "`-` 빠르고 다중 작업에 유리\n",
        "\n",
        "`-` 메모리 관리측면에서도 좋음, 또한 소괄호 생략이 가능하다.\n",
        "\n",
        "## 예제 1 : 여러개의 변수를 동시 출력 및 할당"
      ],
      "id": "7c83973c-3c5f-4569-b40b-1ae24c874f14"
    },
    {
      "cell_type": "code",
      "execution_count": 2,
      "metadata": {},
      "outputs": [],
      "source": [
        "n,a,s,h,w = 1,2,3,4,5"
      ],
      "id": "3576d7b9-74a2-47fc-a190-5027811a9c6d"
    },
    {
      "cell_type": "code",
      "execution_count": 3,
      "metadata": {},
      "outputs": [],
      "source": [
        "n,a,s,h,w"
      ],
      "id": "233cd90a-b506-466f-8734-670833d5d9d5"
    },
    {
      "cell_type": "code",
      "execution_count": 4,
      "metadata": {},
      "outputs": [],
      "source": [
        "a = 3.1,\n",
        "a"
      ],
      "id": "78cbe207-0c33-4616-9f40-1154ac5c1287"
    },
    {
      "cell_type": "markdown",
      "metadata": {},
      "source": [
        "## 예제 2. 서로 다른 타입의 원소들로 튜플?"
      ],
      "id": "f47de62a-d84d-4ee3-8235-7cc9d826ced6"
    },
    {
      "cell_type": "code",
      "execution_count": 9,
      "metadata": {},
      "outputs": [],
      "source": [
        "s = 90,80,70,\"A\",\"B\"\n",
        "s"
      ],
      "id": "1075e7a2-6df6-4dfa-8b76-ae8da52c9ab2"
    },
    {
      "cell_type": "markdown",
      "metadata": {},
      "source": [
        "## 예제 3: 튜플 중첩"
      ],
      "id": "1aac6240-4525-4490-a245-b644967dae31"
    },
    {
      "cell_type": "code",
      "execution_count": 10,
      "metadata": {},
      "outputs": [],
      "source": [
        "s = 90,80,70,(\"A\",\"B\")\n",
        "s"
      ],
      "id": "58df3a84-0993-40b1-ae9a-639a66532ea7"
    },
    {
      "cell_type": "markdown",
      "metadata": {},
      "source": [
        "## 예제 4 : 두 변수의 값을 교환"
      ],
      "id": "6e6d9c04-5a70-4b16-8221-2e111219e3a8"
    },
    {
      "cell_type": "code",
      "execution_count": 11,
      "metadata": {},
      "outputs": [],
      "source": [
        "a,b = 1,2"
      ],
      "id": "3efb284e-55aa-4447-84a0-98530acfc228"
    },
    {
      "cell_type": "code",
      "execution_count": 12,
      "metadata": {},
      "outputs": [],
      "source": [
        "a,b"
      ],
      "id": "a92103ef-2fda-4b60-ae37-3bb7fb7de91b"
    },
    {
      "cell_type": "code",
      "execution_count": 13,
      "metadata": {},
      "outputs": [],
      "source": [
        "a,b = b,a"
      ],
      "id": "a7607ee9-5d5f-4017-bfde-874fa3c940b2"
    },
    {
      "cell_type": "code",
      "execution_count": 14,
      "metadata": {},
      "outputs": [],
      "source": [
        "a,b"
      ],
      "id": "3e2cd171-a5bd-41ef-b973-e022561e7365"
    },
    {
      "cell_type": "markdown",
      "metadata": {},
      "source": [
        "## 예제 5: for문"
      ],
      "id": "fead0607-cbd0-4934-9277-6ff8da4393ce"
    },
    {
      "cell_type": "code",
      "execution_count": 15,
      "metadata": {},
      "outputs": [],
      "source": [
        "lst = [['gc', 2021502565, 'M'],\n",
        "       ['iu',202254321, 'F'],\n",
        "       ['hodong', 202011223, 'M']]\n",
        "lst"
      ],
      "id": "ba1cf9cb-fac5-419f-a816-fee0c2ffcbf9"
    },
    {
      "cell_type": "code",
      "execution_count": 26,
      "metadata": {},
      "outputs": [
        {
          "output_type": "stream",
          "name": "stdout",
          "text": [
            "gc 2021502565 M\n",
            "iu 202254321 F\n",
            "hodong 202011223 M"
          ]
        }
      ],
      "source": [
        "for name, s, sex in lst :\n",
        "    print(name,s,sex)"
      ],
      "id": "7c60925c-1804-42c5-a03a-64f4ebc9bf9f"
    },
    {
      "cell_type": "markdown",
      "metadata": {},
      "source": [
        "## 예제 6 : range 함수를 사용해 만들기"
      ],
      "id": "61bd2742-7d91-4d79-bfd8-c132868ea316"
    },
    {
      "cell_type": "code",
      "execution_count": 37,
      "metadata": {},
      "outputs": [],
      "source": [
        "test = tuple(range(1,11))\n",
        "test"
      ],
      "id": "3d2a4ff5-2ec1-4f23-ab76-a4aacbe7fcdd"
    },
    {
      "cell_type": "markdown",
      "metadata": {},
      "source": [
        "## 예제 7 : `for +  tuple + \"_\"`"
      ],
      "id": "c9c1ba77-9b0b-4b9d-88e5-3fd6701026fe"
    },
    {
      "cell_type": "code",
      "execution_count": 45,
      "metadata": {},
      "outputs": [],
      "source": [
        "lst"
      ],
      "id": "44b50cec-572b-4852-8e6a-408700b2de92"
    },
    {
      "cell_type": "code",
      "execution_count": 43,
      "metadata": {},
      "outputs": [
        {
          "output_type": "stream",
          "name": "stdout",
          "text": [
            "2021502565\n",
            "202254321\n",
            "202011223"
          ]
        }
      ],
      "source": [
        "for _,s,_ in lst :\n",
        "    print(s)"
      ],
      "id": "9c0fc449-c8cd-4dba-a53a-24ff6729d8f4"
    },
    {
      "cell_type": "code",
      "execution_count": 44,
      "metadata": {},
      "outputs": [
        {
          "output_type": "stream",
          "name": "stdout",
          "text": [
            "M\n",
            "F\n",
            "M"
          ]
        }
      ],
      "source": [
        "for _,_,s in lst :\n",
        "    print(s)"
      ],
      "id": "d894f7ee-d245-43fd-aac1-7693bb490fa3"
    },
    {
      "cell_type": "markdown",
      "metadata": {},
      "source": [
        "## 예제 8 : `언패킹 연산자(*) + for` ($\\star\\star$)\n",
        "\n",
        "-   `*`는 특정하지 않은 여러개의 인자를 튜플 형태로 받는다."
      ],
      "id": "7eac7043-b9f2-4adc-ab51-42fa9f098e6c"
    },
    {
      "cell_type": "code",
      "execution_count": 53,
      "metadata": {},
      "outputs": [
        {
          "output_type": "stream",
          "name": "stdout",
          "text": [
            "gc 2021502565 M\n",
            "iu 202254321 F\n",
            "hodong 202011223 M"
          ]
        }
      ],
      "source": [
        "for n,*a in lst :\n",
        "    print(n,*a)"
      ],
      "id": "7b73c3f9-3064-4ba7-bd0e-22b9abb2e7cd"
    },
    {
      "cell_type": "code",
      "execution_count": 54,
      "metadata": {},
      "outputs": [
        {
          "output_type": "stream",
          "name": "stdout",
          "text": [
            "gc [2021502565, 'M']\n",
            "iu [202254321, 'F']\n",
            "hodong [202011223, 'M']"
          ]
        }
      ],
      "source": [
        "for n,*a in lst :\n",
        "    print(n,a)"
      ],
      "id": "9551fcd7-502e-47af-a467-317ebd2825c4"
    },
    {
      "cell_type": "code",
      "execution_count": 55,
      "metadata": {},
      "outputs": [
        {
          "output_type": "stream",
          "name": "stdout",
          "text": [
            "gc\n",
            "iu\n",
            "hodong"
          ]
        }
      ],
      "source": [
        "for n,*a in lst :\n",
        "    print(n)"
      ],
      "id": "1c75fb9a-3312-4cee-9e00-d5461aa961e1"
    },
    {
      "cell_type": "code",
      "execution_count": 56,
      "metadata": {},
      "outputs": [],
      "source": [
        "h,b,*t = range(1,11)"
      ],
      "id": "e0d00304-3ebf-4514-96b5-8f953378344d"
    },
    {
      "cell_type": "code",
      "execution_count": 57,
      "metadata": {},
      "outputs": [],
      "source": [
        "h,b,t"
      ],
      "id": "dee54e9e-8c4b-4082-9582-bdd9639aacad"
    },
    {
      "cell_type": "code",
      "execution_count": 59,
      "metadata": {},
      "outputs": [],
      "source": [
        "h,b,*t"
      ],
      "id": "68ed7c6e-7f21-43b8-a222-45f759ec4ede"
    },
    {
      "cell_type": "code",
      "execution_count": 62,
      "metadata": {},
      "outputs": [],
      "source": [
        "t"
      ],
      "id": "46a07057-6a97-48b3-ac1f-8737b6dd66e0"
    },
    {
      "cell_type": "markdown",
      "metadata": {},
      "source": [
        "`-` 언패킹 연산자를 아래처럼 단일값으로 쓸수는 없다. 대신 print문을\n",
        "이욯아여 출력!"
      ],
      "id": "8b9a8705-378a-481e-9965-80aa2452b9da"
    },
    {
      "cell_type": "code",
      "execution_count": 60,
      "metadata": {},
      "outputs": [],
      "source": [
        "*t"
      ],
      "id": "f5c09a88-5d1b-4912-9989-2fc9ba8f8f7d"
    },
    {
      "cell_type": "code",
      "execution_count": 61,
      "metadata": {},
      "outputs": [
        {
          "output_type": "stream",
          "name": "stdout",
          "text": [
            "3 4 5 6 7 8 9 10"
          ]
        }
      ],
      "source": [
        "print(*t)"
      ],
      "id": "81d6a0f0-64d1-464f-8856-93025c00751c"
    },
    {
      "cell_type": "code",
      "execution_count": 66,
      "metadata": {},
      "outputs": [],
      "source": [
        "temp = h,b,t"
      ],
      "id": "c77ae05b-3407-4de8-88c7-b9e6d5f40079"
    },
    {
      "cell_type": "code",
      "execution_count": 67,
      "metadata": {},
      "outputs": [],
      "source": [
        "temp"
      ],
      "id": "84999835-40e2-4757-9ada-aa312ae89dc5"
    },
    {
      "cell_type": "markdown",
      "metadata": {},
      "source": [
        "`-` **튜플안에 선언한 리스트는 수정할 수 있다!**"
      ],
      "id": "5d9ab5a7-d5d6-4ce3-af70-c6f3f063bdbf"
    },
    {
      "cell_type": "code",
      "execution_count": 72,
      "metadata": {},
      "outputs": [],
      "source": [
        "temp[2][1]=4"
      ],
      "id": "7d73a17e-1de1-486b-afd5-6267a80ced38"
    },
    {
      "cell_type": "code",
      "execution_count": 73,
      "metadata": {},
      "outputs": [],
      "source": [
        "temp"
      ],
      "id": "bba87d4f-ba13-493c-a43c-c2dd8207f09a"
    },
    {
      "cell_type": "markdown",
      "metadata": {},
      "source": [
        "`-` 단, 튜플안에 선언된 리스트 통째?로는 바꿀 수 없음"
      ],
      "id": "508d53ca-b42b-41e5-8704-1addcb4ab0a4"
    },
    {
      "cell_type": "code",
      "execution_count": 76,
      "metadata": {},
      "outputs": [],
      "source": [
        "temp[2] = d"
      ],
      "id": "852f7c37-7f84-4cc9-bdae-d5f763db9bbd"
    },
    {
      "cell_type": "code",
      "execution_count": 78,
      "metadata": {},
      "outputs": [],
      "source": [
        "temp[2] = [1,2,3]"
      ],
      "id": "d42f3179-4354-4a4d-91b0-b4111a5474da"
    },
    {
      "cell_type": "markdown",
      "metadata": {},
      "source": [
        "## 예제 9 : 함수\n",
        "\n",
        "-   아래의 함수는 여러개의 값을 리턴하는 것처럼 보이나 사실은 길이가\n",
        "    4인, 튜플 1개만을 return한다.\n",
        "\n",
        "## 왜 튜플만이 괄호를 생략?\n",
        "\n",
        "1.  튜플을 먼저 만들고, 괄호를 생략하는 문법을 추가한 것은 아닐것이다.\n",
        "\n",
        "2.  원래는 괄호없이 벡터를 만들고 싶었을 것임\n",
        "\n",
        "3.  차피 벡터는 한,두번 쓰고 버리는 경우가 많고, 대부분 이름도 필요없음\n",
        "    $\\to$ (즉, 원소에 접근해서 sorting하고… 순서를 바꿀 필요가 없다는\n",
        "    것임)\n",
        "\n",
        "4.  데이터를 분석하면서 우리에게 필요한것은, 데이터가 벡터 형태로 모여,\n",
        "    하나이 **DataFrame**을 구축하기만 하면된다.\n",
        "\n",
        "------------------------------------------------------------------------\n",
        "\n",
        "# 집합\n",
        "\n",
        "`-` 중복을 허용하지 않음 $\\to$ 즉, 어떠한 객체의 유니크한 값을 찾을때\n",
        "사용\n",
        "\n",
        "`-` **또한, 원소의 순서가 의마가 없어 인덱스 값을 얻을 수\n",
        "없음**($\\star\\star\\star$)\n",
        "\n",
        "`-` 리스트, 튜플 ㅓ럼 다양한 형태의 자료형 집합을 가질 수 있다.\n",
        "\n",
        "## 원소 추가"
      ],
      "id": "1f555250-98c5-4d16-8bb4-746a1fd00d92"
    },
    {
      "cell_type": "code",
      "execution_count": 79,
      "metadata": {},
      "outputs": [],
      "source": [
        "s = {\"a\",\"b\"}"
      ],
      "id": "05c32340-761e-400a-96dc-d6c2d97d21bf"
    },
    {
      "cell_type": "code",
      "execution_count": 80,
      "metadata": {},
      "outputs": [],
      "source": [
        "s.add(\"c\")\n",
        "s"
      ],
      "id": "310f3bef-783a-46c6-92ff-622157bf672a"
    },
    {
      "cell_type": "code",
      "execution_count": 101,
      "metadata": {},
      "outputs": [],
      "source": [
        "s.update([\"c\",\"d\"])\n",
        "s"
      ],
      "id": "09cae0f4-2963-4441-9350-0e71c43119ba"
    },
    {
      "cell_type": "markdown",
      "metadata": {},
      "source": [
        "## 원소 삭제"
      ],
      "id": "e8e9f20b-c379-41d0-8764-9c06c63fcde1"
    },
    {
      "cell_type": "code",
      "execution_count": 102,
      "metadata": {},
      "outputs": [],
      "source": [
        "s"
      ],
      "id": "d0544aa6-241d-4983-9a00-8c0d404a5709"
    },
    {
      "cell_type": "code",
      "execution_count": 103,
      "metadata": {},
      "outputs": [],
      "source": [
        "s.remove(\"c\")"
      ],
      "id": "86e7c57a-c19c-40ed-8538-48c1d575a347"
    },
    {
      "cell_type": "code",
      "execution_count": 104,
      "metadata": {},
      "outputs": [],
      "source": [
        "s"
      ],
      "id": "a69ae29b-8a07-4960-af0f-6d0c883ae833"
    },
    {
      "cell_type": "markdown",
      "metadata": {},
      "source": [
        "`-` **discard**로 삭제시 에러메세지를 반환하지 않음"
      ],
      "id": "079fd9f5-8358-46ee-9579-6dd467efb44a"
    },
    {
      "cell_type": "code",
      "execution_count": 106,
      "metadata": {},
      "outputs": [],
      "source": [
        "s.remove(\"z\")"
      ],
      "id": "160609d8-3968-4aa8-88f7-7b240d7b1d4c"
    },
    {
      "cell_type": "code",
      "execution_count": 105,
      "metadata": {},
      "outputs": [],
      "source": [
        "s.discard(\"z\")"
      ],
      "id": "bb2576ec-a6a2-4043-8433-0b0748ff010d"
    },
    {
      "cell_type": "markdown",
      "metadata": {},
      "source": [
        "`-` 모든 원소 삭제"
      ],
      "id": "b5b141b7-ef73-4bb6-b548-2dcd3c0cc709"
    },
    {
      "cell_type": "code",
      "execution_count": 107,
      "metadata": {},
      "outputs": [],
      "source": [
        "s.clear()"
      ],
      "id": "9b29af9c-2579-4079-b302-78ad3445db29"
    },
    {
      "cell_type": "code",
      "execution_count": 108,
      "metadata": {},
      "outputs": [],
      "source": [
        "s"
      ],
      "id": "a69d0e2b-7b0d-455b-9811-03c0801c805d"
    },
    {
      "cell_type": "markdown",
      "metadata": {},
      "source": [
        "## in"
      ],
      "id": "c13a4a04-b5f2-4feb-b7ee-d59e924f5c48"
    },
    {
      "cell_type": "code",
      "execution_count": 84,
      "metadata": {},
      "outputs": [],
      "source": [
        "\"a\" in s"
      ],
      "id": "efbce6c0-25a5-41a9-85bd-3a1dcdcb7f6c"
    },
    {
      "cell_type": "markdown",
      "metadata": {},
      "source": [
        "### 합,교,차 집합"
      ],
      "id": "bdfc8e45-659c-41eb-8763-32e2ffb20215"
    },
    {
      "cell_type": "code",
      "execution_count": 85,
      "metadata": {},
      "outputs": [],
      "source": [
        "set1 = {\"a\",\"b\",\"c\"}\n",
        "set2 = {\"b\",\"c\",\"d\"}"
      ],
      "id": "5f2a15d6-7d42-496d-8a4b-0e6dbe43bb25"
    },
    {
      "cell_type": "markdown",
      "metadata": {},
      "source": [
        "`-` 합집합"
      ],
      "id": "344ef80f-6796-495d-b729-9b1ca13b3faf"
    },
    {
      "cell_type": "code",
      "execution_count": 86,
      "metadata": {},
      "outputs": [],
      "source": [
        "set1|set2"
      ],
      "id": "865dcd54-8df5-4af5-b668-ea6df7168904"
    },
    {
      "cell_type": "code",
      "execution_count": 87,
      "metadata": {},
      "outputs": [],
      "source": [
        "set1.union(set2)"
      ],
      "id": "9ac2abcb-a8d0-4bf9-92b9-c2d94a733b8a"
    },
    {
      "cell_type": "markdown",
      "metadata": {},
      "source": [
        "`-` 교집합"
      ],
      "id": "316b9cd3-3555-474d-8c5d-a8d26992ee2a"
    },
    {
      "cell_type": "code",
      "execution_count": 88,
      "metadata": {},
      "outputs": [],
      "source": [
        "set1 & set2"
      ],
      "id": "771e5fe1-31bb-4ff7-bc05-bb26923c81ba"
    },
    {
      "cell_type": "code",
      "execution_count": 89,
      "metadata": {},
      "outputs": [],
      "source": [
        "set1.intersection(set2)"
      ],
      "id": "ff017432-9756-4d17-a1b8-bdc8ef63bae0"
    },
    {
      "cell_type": "markdown",
      "metadata": {},
      "source": [
        "`-` 차집합"
      ],
      "id": "9a893f41-a094-43e2-8120-5b8e1cb6b156"
    },
    {
      "cell_type": "code",
      "execution_count": 93,
      "metadata": {},
      "outputs": [],
      "source": [
        "set1,set2"
      ],
      "id": "e6944b86-fb27-4a18-acfd-262c1fc233b8"
    },
    {
      "cell_type": "code",
      "execution_count": 94,
      "metadata": {},
      "outputs": [],
      "source": [
        "set2-set1"
      ],
      "id": "f5402172-7978-4133-8220-612547ff15f2"
    },
    {
      "cell_type": "markdown",
      "metadata": {},
      "source": [
        "### 부분 집합"
      ],
      "id": "47451d85-0148-422e-812f-a2f34a333ee7"
    },
    {
      "cell_type": "code",
      "execution_count": 95,
      "metadata": {},
      "outputs": [],
      "source": [
        "set3 = set1|set2"
      ],
      "id": "32bfd6a0-c8e5-4c8e-acd1-23cff996eb77"
    },
    {
      "cell_type": "code",
      "execution_count": 96,
      "metadata": {},
      "outputs": [],
      "source": [
        "set2<set3"
      ],
      "id": "d13e40c4-0e78-44b4-b7a0-3c46a6c35aca"
    },
    {
      "cell_type": "markdown",
      "metadata": {},
      "source": [
        "## for문\n",
        "\n",
        "`-` 다음에 `txt`에서 각 알파벳이 몇 번 사용됬는지 구하기"
      ],
      "id": "74d7ea98-f18d-4ec6-b1b3-764e47419b5b"
    },
    {
      "cell_type": "code",
      "execution_count": 97,
      "metadata": {},
      "outputs": [],
      "source": [
        "txt = 'asdkflkjahsdlkjfhlaksglkjdhflkgjhlskdfjhglkajhsdlkfjhalsdkf'\n",
        "txt"
      ],
      "id": "f44f3be7-a2af-46a2-a6c9-1cfd448be0d1"
    },
    {
      "cell_type": "code",
      "execution_count": 98,
      "metadata": {},
      "outputs": [],
      "source": [
        "{i : list(txt).count(i) for i in set(txt)}"
      ],
      "id": "c1ff85ff-924f-4bb9-bdb3-490de046ff7d"
    },
    {
      "cell_type": "markdown",
      "metadata": {},
      "source": [
        "------------------------------------------------------------------------\n",
        "\n",
        "# 딕셔너리\n",
        "\n",
        "`-` 딕셔너리는 `key`값과 `value`로 구성되어 있다.\n",
        "\n",
        "`-` 딕셔너리의 키는 중복을 허용하지 않는다."
      ],
      "id": "b3796f19-63e3-4bb0-af36-610bcc93da5e"
    },
    {
      "cell_type": "code",
      "execution_count": 187,
      "metadata": {},
      "outputs": [],
      "source": [
        "{\"a\" : [1,2],\"a\" : [3,4],\"b\" : [5,6] }"
      ],
      "id": "4fb2e37d-c3c1-4a92-b3df-4b80d3198308"
    },
    {
      "cell_type": "markdown",
      "metadata": {},
      "source": [
        "`-` 또한,`리스트,dict,set`는 딕셔너리의 키값이 될 수 없음"
      ],
      "id": "7a19f918-8d6a-4c3c-9b62-5d2eaaa7924a"
    },
    {
      "cell_type": "code",
      "execution_count": 191,
      "metadata": {},
      "outputs": [],
      "source": [
        "dct = {[10,20,30,40]: 'guebin', [10,20,25,40]: 'hanni'} \n",
        "dct"
      ],
      "id": "af14f60e-7e66-481e-a7f0-429a452df55e"
    },
    {
      "cell_type": "code",
      "execution_count": 196,
      "metadata": {},
      "outputs": [],
      "source": [
        "dct = {{\"a\":1}: 'guebin', {\"b\":1}: 'hanni'} \n",
        "dct"
      ],
      "id": "56768488-c316-4880-adb4-dbbef17b2475"
    },
    {
      "cell_type": "code",
      "execution_count": 195,
      "metadata": {},
      "outputs": [],
      "source": [
        "dct = {{'샌드위치','딸기우유'}:'점심', {'불고기','된장찌개','김','콩자반'}: '저녁'}\n",
        "dct"
      ],
      "id": "3a0bb86b-a45e-457c-9f2f-76f6f6946b76"
    },
    {
      "cell_type": "markdown",
      "metadata": {},
      "source": [
        "`-` 튜플은 가능!"
      ],
      "id": "99f6d56d-c939-4813-ac30-af84e856301b"
    },
    {
      "cell_type": "code",
      "execution_count": 194,
      "metadata": {},
      "outputs": [],
      "source": [
        "dct = {(10,20,30,40): 'guebin', (10,20,25,40): 'hanni'} \n",
        "dct"
      ],
      "id": "c096ad22-8d05-4864-8040-ca0f962e8e25"
    },
    {
      "cell_type": "markdown",
      "metadata": {},
      "source": [
        "`-` 순서대로 정리된 자료를 검색할 때는 시퀀스(리스트,튜플,문자열)이\n",
        "유리하나, 키워드로 검색하고 싶을때는 딕셔너리 타입이 유리하다.\n",
        "\n",
        "`-` 순서가 의미가 없어, 인덱싱과 슬라이싱이 의미가 없다.\n",
        "\n",
        "## 선언\n",
        "\n",
        "### 방법 1. 가장 일반적"
      ],
      "id": "62d5e167-4060-435e-9722-89e97bb781f0"
    },
    {
      "cell_type": "code",
      "execution_count": 111,
      "metadata": {},
      "outputs": [],
      "source": [
        "dct=  {\"a\" : 1, \"b\":2}\n",
        "dct"
      ],
      "id": "34fd178d-b3de-432a-b07e-2d4aa442342e"
    },
    {
      "cell_type": "markdown",
      "metadata": {},
      "source": [
        "### 방법 2. dict($\\star\\star$)"
      ],
      "id": "339dbf19-c665-42b8-bd6b-1d64fb9dc757"
    },
    {
      "cell_type": "code",
      "execution_count": 112,
      "metadata": {},
      "outputs": [],
      "source": [
        "dct = dict(a=1, b=2)\n",
        "dct"
      ],
      "id": "628a9020-d1f4-42e8-8281-2e206948cd9b"
    },
    {
      "cell_type": "markdown",
      "metadata": {},
      "source": [
        "### 방법 3. 중첩된 리스트"
      ],
      "id": "243b006f-8fe0-41a9-94d9-801bd8fec52f"
    },
    {
      "cell_type": "code",
      "execution_count": 113,
      "metadata": {},
      "outputs": [],
      "source": [
        "dct = dict([[\"a\",1],[\"b\",2]])\n",
        "dct"
      ],
      "id": "7276a4ab-088f-4ef3-972c-229e288d7af0"
    },
    {
      "cell_type": "markdown",
      "metadata": {},
      "source": [
        "### 방법 4. 튜플"
      ],
      "id": "43c510c8-b884-4881-8eb1-4c45d5ee4aa1"
    },
    {
      "cell_type": "code",
      "execution_count": 114,
      "metadata": {},
      "outputs": [],
      "source": [
        "dct = (\"a\",1),(\"b\",2)\n",
        "dict(dct)"
      ],
      "id": "ee083ac6-fff9-4683-850a-deffab3fcdee"
    },
    {
      "cell_type": "markdown",
      "metadata": {},
      "source": [
        "## 원소 추출\n",
        "\n",
        "`-` 딕셔너리는 key값을 이용해서 추출해야한다. **(value로 key를 찾는 것은\n",
        "불가!)**"
      ],
      "id": "b8151d02-d752-4320-bc7c-52cb22dfec89"
    },
    {
      "cell_type": "code",
      "execution_count": 115,
      "metadata": {},
      "outputs": [],
      "source": [
        "dct =dict(dct)"
      ],
      "id": "d322393e-0bd0-4fca-b7c7-1303e8b206d3"
    },
    {
      "cell_type": "code",
      "execution_count": 117,
      "metadata": {},
      "outputs": [],
      "source": [
        "dct[\"a\"], dct[\"b\"]"
      ],
      "id": "712d09e3-2570-4780-a373-9094694d8c19"
    },
    {
      "cell_type": "markdown",
      "metadata": {},
      "source": [
        "### ex1. 딕셔너리를 쓰는 이유?\n",
        "\n",
        "`-` 아래와 같은 구조가 있다고 하자."
      ],
      "id": "febab0dc-280a-4a62-aafd-0a4183adebca"
    },
    {
      "cell_type": "code",
      "execution_count": 118,
      "metadata": {},
      "outputs": [],
      "source": [
        "lst = [[\"a\",1],[\"b\",2]]\n",
        "lst"
      ],
      "id": "24670791-f634-44a8-b95b-72a799cd6697"
    },
    {
      "cell_type": "markdown",
      "metadata": {},
      "source": [
        "`-` 여기에서 a의 값을 알려면?"
      ],
      "id": "9af23a01-c37e-4700-a841-8222ca2bf063"
    },
    {
      "cell_type": "code",
      "execution_count": 119,
      "metadata": {},
      "outputs": [],
      "source": [
        "[s for n,s in lst if n==\"a\"]"
      ],
      "id": "acd0b5b0-cfc3-482b-9090-2ff682bb5741"
    },
    {
      "cell_type": "markdown",
      "metadata": {},
      "source": [
        "`-` 딕셔너리를 이용한 풀이"
      ],
      "id": "8098e44d-ef02-4907-ac93-298cf16284f3"
    },
    {
      "cell_type": "code",
      "execution_count": 120,
      "metadata": {},
      "outputs": [],
      "source": [
        "dict(lst)[\"a\"]"
      ],
      "id": "8c5306fc-2de9-432c-bc70-3473004b837f"
    },
    {
      "cell_type": "markdown",
      "metadata": {},
      "source": [
        "## 원소 추가"
      ],
      "id": "5ec0d115-d253-4085-990e-e96668369375"
    },
    {
      "cell_type": "code",
      "execution_count": 122,
      "metadata": {},
      "outputs": [],
      "source": [
        "dct"
      ],
      "id": "9432a029-3052-4e7a-bfc5-4adbc7455deb"
    },
    {
      "cell_type": "code",
      "execution_count": 123,
      "metadata": {},
      "outputs": [],
      "source": [
        "dct[\"c\"]=3"
      ],
      "id": "73adb9d5-9b59-4376-858b-b1569d963cea"
    },
    {
      "cell_type": "code",
      "execution_count": 124,
      "metadata": {},
      "outputs": [],
      "source": [
        "dct"
      ],
      "id": "c7f211e6-0a11-43f9-ab6a-f0b72a25dead"
    },
    {
      "cell_type": "markdown",
      "metadata": {},
      "source": [
        "## 원소 삭제\n",
        "\n",
        "`-` 방법 1"
      ],
      "id": "59a86e20-d077-4cdb-8129-890f7486ad1e"
    },
    {
      "cell_type": "code",
      "execution_count": 125,
      "metadata": {},
      "outputs": [],
      "source": [
        "del dct[\"a\"]"
      ],
      "id": "5eb3eed7-5ace-4fb2-8243-f583d715de9d"
    },
    {
      "cell_type": "code",
      "execution_count": 126,
      "metadata": {},
      "outputs": [],
      "source": [
        "dct"
      ],
      "id": "5b00a91b-659a-4a2f-9558-a7f30b4b0634"
    },
    {
      "cell_type": "markdown",
      "metadata": {},
      "source": [
        "`-` 방법 2"
      ],
      "id": "d357a935-544d-4866-8d4a-b42987f5e761"
    },
    {
      "cell_type": "code",
      "execution_count": 127,
      "metadata": {},
      "outputs": [],
      "source": [
        "dct.pop(\"b\")"
      ],
      "id": "2cee638f-f1aa-4caa-9ca2-1a725a3d8b07"
    },
    {
      "cell_type": "code",
      "execution_count": 128,
      "metadata": {},
      "outputs": [],
      "source": [
        "dct"
      ],
      "id": "c2a85cca-1e86-40f4-835a-12b86ea24819"
    },
    {
      "cell_type": "markdown",
      "metadata": {},
      "source": [
        "## 연산"
      ],
      "id": "5f9f5350-83ea-4bfb-959f-76af5b1da7fd"
    },
    {
      "cell_type": "code",
      "execution_count": 130,
      "metadata": {},
      "outputs": [],
      "source": [
        "dct = dict(a=1,b=2,c=3)"
      ],
      "id": "b59d591a-bae1-4d55-9412-5d575da9deca"
    },
    {
      "cell_type": "code",
      "execution_count": 131,
      "metadata": {},
      "outputs": [],
      "source": [
        "dct"
      ],
      "id": "8bda4478-6730-4fb4-9d03-adf6cf6e35d9"
    },
    {
      "cell_type": "code",
      "execution_count": 132,
      "metadata": {},
      "outputs": [],
      "source": [
        "\"a\" in dct"
      ],
      "id": "ed3387c3-6494-4223-986d-04a79d983557"
    },
    {
      "cell_type": "markdown",
      "metadata": {},
      "source": [
        "## 특수 기능"
      ],
      "id": "55f922dc-2476-4559-8fa1-f315bea96bec"
    },
    {
      "cell_type": "code",
      "execution_count": 133,
      "metadata": {},
      "outputs": [],
      "source": [
        "dct"
      ],
      "id": "a36defa1-019f-4eb9-aafd-78b7bf721545"
    },
    {
      "cell_type": "code",
      "execution_count": 137,
      "metadata": {},
      "outputs": [],
      "source": [
        "dct.keys()"
      ],
      "id": "df9b165f-efea-4010-8943-b96d2df2c76a"
    },
    {
      "cell_type": "code",
      "execution_count": 138,
      "metadata": {},
      "outputs": [],
      "source": [
        "dct.values()"
      ],
      "id": "95c86d88-eae0-47b1-95cb-fa9086edae4e"
    },
    {
      "cell_type": "code",
      "execution_count": 139,
      "metadata": {},
      "outputs": [],
      "source": [
        "dct.items()"
      ],
      "id": "f0ed7e3a-ff40-4277-8e3e-f7cdc62c42db"
    },
    {
      "cell_type": "markdown",
      "metadata": {},
      "source": [
        "## for + dict($\\star\\star$)"
      ],
      "id": "1df1dfb9-bf7e-4812-9a1e-5c83fdb71a5b"
    },
    {
      "cell_type": "code",
      "execution_count": 140,
      "metadata": {},
      "outputs": [
        {
          "output_type": "stream",
          "name": "stdout",
          "text": [
            "a\n",
            "b\n",
            "c"
          ]
        }
      ],
      "source": [
        "for k in dct.keys() :\n",
        "    print(k)"
      ],
      "id": "9e1c2e53-cbf4-45e6-90f4-d4f138813331"
    },
    {
      "cell_type": "markdown",
      "metadata": {},
      "source": [
        "`-` 아 딕셔너리는 루프에서 객체 자체로 전달시 key값을 반환한다."
      ],
      "id": "fed174cf-5637-4e77-9c2c-a5a85455e09e"
    },
    {
      "cell_type": "code",
      "execution_count": 142,
      "metadata": {},
      "outputs": [
        {
          "output_type": "stream",
          "name": "stdout",
          "text": [
            "a\n",
            "b\n",
            "c"
          ]
        }
      ],
      "source": [
        "for k in dct:\n",
        "    print(k)"
      ],
      "id": "7893c53a-ba3e-40d9-8965-1ed7e96b8310"
    },
    {
      "cell_type": "markdown",
      "metadata": {},
      "source": [
        "`-` value 접근"
      ],
      "id": "6ce8f431-cf9d-4937-a39b-cdd39c08208b"
    },
    {
      "cell_type": "code",
      "execution_count": 143,
      "metadata": {},
      "outputs": [
        {
          "output_type": "stream",
          "name": "stdout",
          "text": [
            "1\n",
            "2\n",
            "3"
          ]
        }
      ],
      "source": [
        "for i in dct.values():\n",
        "    print(i)"
      ],
      "id": "cad11b5b-6daf-45d0-b9b0-f5df570fccdb"
    },
    {
      "cell_type": "markdown",
      "metadata": {},
      "source": [
        "`-` key,value 동시 접근"
      ],
      "id": "926c4390-0961-4da9-a80e-ec1de0691d15"
    },
    {
      "cell_type": "code",
      "execution_count": 144,
      "metadata": {},
      "outputs": [
        {
          "output_type": "stream",
          "name": "stdout",
          "text": [
            "a 1\n",
            "b 2\n",
            "c 3"
          ]
        }
      ],
      "source": [
        "for i,j in dct.items():\n",
        "    print(i,j)"
      ],
      "id": "08457a74-dd67-48aa-be8c-f667c31c2ce4"
    },
    {
      "cell_type": "markdown",
      "metadata": {},
      "source": [
        "## list $\\to$ dict.values\n",
        "\n",
        "`-` 아래와 같은 원핫인코딩을 생각\n",
        "\n",
        "| 변환전 |   변환후    |\n",
        "|:------:|:-----------:|\n",
        "|   a    | \\[1,0,0,0\\] |\n",
        "|   b    | \\[0,1,0,0\\] |\n",
        "|   c    | \\[0,0,1,0\\] |\n",
        "|   d    | \\[0,0,0,1\\] |\n",
        "\n",
        "`-` 주어진 리스트를 원핫인코딩하여라"
      ],
      "id": "14c5b84f-f9e0-4d96-a976-d7da605afa66"
    },
    {
      "cell_type": "code",
      "execution_count": 173,
      "metadata": {},
      "outputs": [],
      "source": [
        "lst = list(\"abcd\")*2\n",
        "lst"
      ],
      "id": "17847fd6-2145-4496-96a4-7d6df2308bc4"
    },
    {
      "cell_type": "markdown",
      "metadata": {},
      "source": [
        "### sol"
      ],
      "id": "5f705c83-df76-4bf7-b96d-e23ca0d54807"
    },
    {
      "cell_type": "code",
      "execution_count": 174,
      "metadata": {},
      "outputs": [],
      "source": [
        "dct = {\"a\": [1,0,0,0],\n",
        "      \"b\": [0,1,0,0],\n",
        "      \"c\": [0,0,1,0],\n",
        "      \"d\": [0,0,0,1]}"
      ],
      "id": "5594d89f-72c7-41ae-8b0b-db9cd66f362d"
    },
    {
      "cell_type": "code",
      "execution_count": 175,
      "metadata": {},
      "outputs": [],
      "source": [
        "dct"
      ],
      "id": "43607940-54bf-4578-b5c2-63bf80a16a0e"
    },
    {
      "cell_type": "markdown",
      "metadata": {},
      "source": [
        "## dict.values $\\to$ list\n",
        "\n",
        "`-` 위 원핫인코딩을 다시 변환\n",
        "\n",
        "### sol"
      ],
      "id": "2c6a3808-1085-466d-8c3a-4b8d700252ff"
    },
    {
      "cell_type": "code",
      "execution_count": 179,
      "metadata": {},
      "outputs": [],
      "source": [
        "value = [v for v in dct.values()] *2\n",
        "value"
      ],
      "id": "f791036b-3f8b-4bc3-80f3-d3403389000e"
    },
    {
      "cell_type": "code",
      "execution_count": 185,
      "metadata": {},
      "outputs": [],
      "source": [
        "[i for v in value for i,j in dct.items() if j == v]"
      ],
      "id": "24afd5ca-a0a1-410c-b8e5-bfdc9cc95dce"
    },
    {
      "cell_type": "markdown",
      "metadata": {},
      "source": [
        "# Exercise Link\n",
        "\n",
        "`-`\n",
        "[tuple](https://gangcheol.github.io/mysite/post/Lecture/IP/2023-08-03-03.%ED%8A%9C%ED%94%8C.html#excersise)\n",
        "\n",
        "`-`\n",
        "[set](https://gangcheol.github.io/mysite/post/Lecture/IP/2023-08-04-05.%20%EC%A7%91%ED%95%A9.html#exercise)\n",
        "\n",
        "`-`\n",
        "[dictionary1](https://gangcheol.github.io/mysite/post/Lecture/IP/2023-08-04-04.%EB%94%95%EC%85%94%EB%84%88%EB%A6%AC.html#exercise)\n",
        "\n",
        "`-`\n",
        "[dictionary2](https://gangcheol.github.io/mysite/post/Lecture/IP/2023-08-04-04.%EB%94%95%EC%85%94%EB%84%88%EB%A6%AC.html#ex1)"
      ],
      "id": "b5ba4ed6-3831-4326-8470-a780c13cd82c"
    }
  ],
  "nbformat": 4,
  "nbformat_minor": 5,
  "metadata": {
    "kernelspec": {
      "name": "python3",
      "display_name": "Python 3 (ipykernel)",
      "language": "python"
    },
    "language_info": {
      "name": "python",
      "codemirror_mode": {
        "name": "ipython",
        "version": "3"
      },
      "file_extension": ".py",
      "mimetype": "text/x-python",
      "nbconvert_exporter": "python",
      "pygments_lexer": "ipython3",
      "version": "3.11.4"
    }
  }
}