{
  "cells": [
    {
      "cell_type": "markdown",
      "metadata": {},
      "source": [
        "# 03. Python Basic (4)\n",
        "\n",
        "GC  \n",
        "2023-08-14\n",
        "\n",
        "# import"
      ],
      "id": "4260f741-919b-4341-8196-650b7ee1f409"
    },
    {
      "cell_type": "code",
      "execution_count": 94,
      "metadata": {},
      "outputs": [],
      "source": [
        "import numpy as np\n",
        "import pandas as pd\n",
        "import matplotlib.pyplot as plt"
      ],
      "id": "86d4c0d0-2aca-4cc0-94b9-ede008feca15"
    },
    {
      "cell_type": "markdown",
      "metadata": {},
      "source": [
        "# if\n",
        "\n",
        "## ex1. 특정 수보다 크거나 같으면 10 더하기"
      ],
      "id": "e4495c42-89c2-489a-985c-6598bfe1ed86"
    },
    {
      "cell_type": "code",
      "execution_count": 10,
      "metadata": {},
      "outputs": [
        {
          "output_type": "stream",
          "name": "stdout",
          "text": [
            "입력값 70보다 작은 숫자입니다."
          ]
        }
      ],
      "source": [
        "v = int(input(\"기준값을 입력하시오 : \"))\n",
        "s = int(input(\"비교값을 입력하시오 : \"))\n",
        "if s>= v:\n",
        "    s1 = s+10\n",
        "    print(f\"입력값 {v}보다 크거나 같은 숫자가 입력되었습니다. {s}에 10을 더한값은 {s1}입니다.\")\n",
        "else:\n",
        "    print(f\"입력값 {v}보다 작은 숫자입니다.\")"
      ],
      "id": "2edb5a1a-4028-46c7-8b1d-38263266b773"
    },
    {
      "cell_type": "code",
      "execution_count": 15,
      "metadata": {},
      "outputs": [
        {
          "output_type": "stream",
          "name": "stdout",
          "text": [
            "입력값 70보다 크거나 같은 숫자가 입력되었습니다. 70에 10을 더한값은 80입니다."
          ]
        }
      ],
      "source": [
        "v = int(input(\"기준값을 입력하시오 : \"))\n",
        "s = int(input(\"비교값을 입력하시오 : \"))\n",
        "if s>= v:\n",
        "    s1 = s+10\n",
        "    print(f\"입력값 {v}보다 크거나 같은 숫자가 입력되었습니다. {s}에 10을 더한값은 {s1}입니다.\")\n",
        "else:\n",
        "    print(f\"입력값 {v}보다 작은 숫자입니다.\")"
      ],
      "id": "32c2b4b8-a644-4ab7-a5bc-18fd1ccabb95"
    },
    {
      "cell_type": "markdown",
      "metadata": {},
      "source": [
        "## ex2. 리스트 요소 확인"
      ],
      "id": "a6dae3a6-7c18-41b4-885f-c558b62ec648"
    },
    {
      "cell_type": "code",
      "execution_count": 20,
      "metadata": {},
      "outputs": [
        {
          "output_type": "stream",
          "name": "stdout",
          "text": [
            "[1, 2, 3, 4, 5]"
          ]
        }
      ],
      "source": [
        "s = [1,2,3,4,5]\n",
        "if s :\n",
        "    print(s)\n",
        "else :\n",
        "    print(\"요소 없음\")"
      ],
      "id": "1b7862ef-1200-4579-b41c-16b0485d3679"
    },
    {
      "cell_type": "code",
      "execution_count": 21,
      "metadata": {},
      "outputs": [
        {
          "output_type": "stream",
          "name": "stdout",
          "text": [
            "요소 없음"
          ]
        }
      ],
      "source": [
        "s = []\n",
        "if s :\n",
        "    print(s)\n",
        "else :\n",
        "    print(\"요소 없음\")"
      ],
      "id": "3dc87e66-e734-40da-bf0e-76a2e87eabb5"
    },
    {
      "cell_type": "code",
      "execution_count": 22,
      "metadata": {},
      "outputs": [],
      "source": [
        "s = [1,2,3,4,5]\n",
        "if s :\n",
        "    pass ## 나중에 먼가 내가 조건문일 때 정의를 남기려고 `pass`!\n",
        "else :\n",
        "    print(\"요소 없음\")"
      ],
      "id": "d27423ea-edb1-4c03-92af-a2b5b382ce18"
    },
    {
      "cell_type": "markdown",
      "metadata": {},
      "source": [
        "------------------------------------------------------------------------\n",
        "\n",
        "# if, elif, else\n",
        "\n",
        "## ex1. 학점"
      ],
      "id": "d0291940-d19f-4da5-a3c6-4c35bd05ab5f"
    },
    {
      "cell_type": "code",
      "execution_count": 23,
      "metadata": {},
      "outputs": [],
      "source": [
        "import numpy as np"
      ],
      "id": "a14f4533-df69-418c-95ec-b2871590bb08"
    },
    {
      "cell_type": "code",
      "execution_count": 35,
      "metadata": {},
      "outputs": [],
      "source": [
        "s = list(range(0,100,10))"
      ],
      "id": "f8e169f6-9d4e-4781-8a39-ee7fd323de38"
    },
    {
      "cell_type": "code",
      "execution_count": 36,
      "metadata": {},
      "outputs": [],
      "source": [
        "def grade(s) :\n",
        "    if s >= 90:\n",
        "        return \"A\"\n",
        "    elif s>=80:\n",
        "        return \"B\"\n",
        "    elif s>=70:\n",
        "        return \"C\"\n",
        "    elif s>=60:\n",
        "        return \"D\"\n",
        "    else :\n",
        "        return \"F\"        "
      ],
      "id": "4bb3151f-e62f-4d7c-b509-dc585a1c26c7"
    },
    {
      "cell_type": "code",
      "execution_count": 38,
      "metadata": {},
      "outputs": [],
      "source": [
        "s"
      ],
      "id": "4e76c704-659b-4d1f-9d49-a667ab65a01f"
    },
    {
      "cell_type": "code",
      "execution_count": 39,
      "metadata": {},
      "outputs": [],
      "source": [
        "[grade(i) for i in s]"
      ],
      "id": "aa5df29d-4e06-4053-8b6e-9db7af31b8c2"
    },
    {
      "cell_type": "markdown",
      "metadata": {},
      "source": [
        "## ex2. 아래 인코딩을 수행\n",
        "\n",
        "| 숫자 |  요일  |\n",
        "|:----:|:------:|\n",
        "|  0   | 월요일 |\n",
        "|  1   | 화요일 |\n",
        "|  2   | 수요일 |\n",
        "|  3   | 목요일 |\n",
        "|  4   | 금요일 |\n",
        "|  5   | 토요일 |\n",
        "|  6   | 일요일 |"
      ],
      "id": "6d36500f-0349-4e28-a531-43051c00c28b"
    },
    {
      "cell_type": "code",
      "execution_count": 50,
      "metadata": {},
      "outputs": [],
      "source": [
        "num = list(np.random.randint(0,7,20))"
      ],
      "id": "1880ce30-5e4d-4c86-82a5-d22b346460e7"
    },
    {
      "cell_type": "code",
      "execution_count": 52,
      "metadata": {},
      "outputs": [],
      "source": [
        "def days(n) :\n",
        "    if n == 0 :\n",
        "        return \"월\"\n",
        "    elif n == 1 :\n",
        "        return \"화\"\n",
        "    elif n == 2 :\n",
        "        return \"수\"\n",
        "    elif n == 3 :\n",
        "        return \"목\"\n",
        "    elif n == 4 :\n",
        "        return \"금\"\n",
        "    elif n == 5 :\n",
        "        return \"토\"\n",
        "    else :\n",
        "        return \"일\""
      ],
      "id": "cef9558a-5411-462c-ac26-f78712e7f819"
    },
    {
      "cell_type": "code",
      "execution_count": 56,
      "metadata": {},
      "outputs": [],
      "source": [
        "week = [days(n) for n in num]"
      ],
      "id": "42dafb7e-989b-4d0f-9825-26a0fbf2f045"
    },
    {
      "cell_type": "code",
      "execution_count": 57,
      "metadata": {},
      "outputs": [
        {
          "output_type": "stream",
          "name": "stdout",
          "text": [
            "['월', '일', '토', '수', '월', '금', '일', '목', '월', '월', '토', '금', '일', '수', '화', '월', '수', '목', '일', '일']"
          ]
        }
      ],
      "source": [
        "print(week)"
      ],
      "id": "e642f423-f16f-48c0-a76b-6c1735dcea46"
    },
    {
      "cell_type": "markdown",
      "metadata": {},
      "source": [
        "## ex3. 60점 이하 과락"
      ],
      "id": "49913b12-9663-4e70-b121-3900cbc4708c"
    },
    {
      "cell_type": "code",
      "execution_count": 71,
      "metadata": {},
      "outputs": [],
      "source": [
        "s = [62,59,70]"
      ],
      "id": "6a09cdeb-8f42-4a8d-b9cf-4efc1366d7e9"
    },
    {
      "cell_type": "code",
      "execution_count": 76,
      "metadata": {},
      "outputs": [
        {
          "output_type": "stream",
          "name": "stdout",
          "text": [
            "62\n",
            "59 과락\n",
            "70"
          ]
        }
      ],
      "source": [
        "for i in s :\n",
        "    if i <60 :\n",
        "        print (i,\"과락\")\n",
        "    else :\n",
        "        print(i)"
      ],
      "id": "b7d0de8c-5efa-4a81-baea-fc5c3c56d3b3"
    },
    {
      "cell_type": "markdown",
      "metadata": {},
      "source": [
        "------------------------------------------------------------------------\n",
        "\n",
        "------------------------------------------------------------------------\n",
        "\n",
        "# for문\n",
        "\n",
        "## ex1) for + if $\\to$ 짝수만 출력"
      ],
      "id": "92612d55-fbc5-4618-a588-a70ff4ffcc33"
    },
    {
      "cell_type": "code",
      "execution_count": 80,
      "metadata": {},
      "outputs": [],
      "source": [
        "s = list(np.random.randint(1,100,size=10))\n",
        "s"
      ],
      "id": "804d488d-75f0-45a8-98e6-80d550ff2df6"
    },
    {
      "cell_type": "code",
      "execution_count": 82,
      "metadata": {},
      "outputs": [],
      "source": [
        "s2 = [i for i in s if i%2==0]"
      ],
      "id": "dec1c9d5-0072-4758-bf12-bb1c4b238d00"
    },
    {
      "cell_type": "code",
      "execution_count": 93,
      "metadata": {},
      "outputs": [
        {
          "output_type": "stream",
          "name": "stdout",
          "text": [
            "짝수 list는 [10, 70, 28, 40, 74], 합은 222"
          ]
        }
      ],
      "source": [
        "print(f\"짝수 list는 {s2}, 합은 {sum(s2)}\")"
      ],
      "id": "1971991b-e388-4df8-89ab-32987079043e"
    },
    {
      "cell_type": "markdown",
      "metadata": {},
      "source": [
        "## ex2) 리스트안에 원소 출력"
      ],
      "id": "4e02da10-cc5e-4820-ae91-dfce21cdaaee"
    },
    {
      "cell_type": "code",
      "execution_count": 85,
      "metadata": {},
      "outputs": [],
      "source": [
        "lst = [1,2, \"강철\",True, 1+2j]"
      ],
      "id": "647503a5-1a06-4e27-8fa9-5032bbf8212e"
    },
    {
      "cell_type": "code",
      "execution_count": 86,
      "metadata": {},
      "outputs": [],
      "source": [
        "[i for i in lst]"
      ],
      "id": "174a71d0-05cb-4777-8331-d9033c7f898e"
    },
    {
      "cell_type": "markdown",
      "metadata": {},
      "source": [
        "## ex3) 문자열 리스트 출력"
      ],
      "id": "22ed1ebe-4c63-4d9a-86f9-02382f21f272"
    },
    {
      "cell_type": "code",
      "execution_count": 98,
      "metadata": {},
      "outputs": [
        {
          "output_type": "stream",
          "name": "stdout",
          "text": [
            "a\n",
            "b\n",
            "c"
          ]
        }
      ],
      "source": [
        "l = list(\"abc\")\n",
        "\n",
        "for i in l:\n",
        "    print(i)"
      ],
      "id": "f8debd73-34bb-4af7-a92c-e98e851df820"
    },
    {
      "cell_type": "markdown",
      "metadata": {},
      "source": [
        "## ex4) 구구단 구현"
      ],
      "id": "ce28eee8-6ab0-4684-bf22-40d07e094daa"
    },
    {
      "cell_type": "code",
      "execution_count": 103,
      "metadata": {},
      "outputs": [],
      "source": [
        "lst = list(range(2,10))"
      ],
      "id": "351e7fb8-5c0e-4b9d-bdc6-a4d071e6d8a9"
    },
    {
      "cell_type": "code",
      "execution_count": 104,
      "metadata": {},
      "outputs": [
        {
          "output_type": "stream",
          "name": "stdout",
          "text": [
            "2 x 1 = 2\n",
            "2 x 2 = 4\n",
            "2 x 3 = 6\n",
            "2 x 4 = 8\n",
            "2 x 5 = 10\n",
            "2 x 6 = 12\n",
            "2 x 7 = 14\n",
            "2 x 8 = 16\n",
            "2 x 9 = 18\n",
            "3 x 1 = 3\n",
            "3 x 2 = 6\n",
            "3 x 3 = 9\n",
            "3 x 4 = 12\n",
            "3 x 5 = 15\n",
            "3 x 6 = 18\n",
            "3 x 7 = 21\n",
            "3 x 8 = 24\n",
            "3 x 9 = 27\n",
            "4 x 1 = 4\n",
            "4 x 2 = 8\n",
            "4 x 3 = 12\n",
            "4 x 4 = 16\n",
            "4 x 5 = 20\n",
            "4 x 6 = 24\n",
            "4 x 7 = 28\n",
            "4 x 8 = 32\n",
            "4 x 9 = 36\n",
            "5 x 1 = 5\n",
            "5 x 2 = 10\n",
            "5 x 3 = 15\n",
            "5 x 4 = 20\n",
            "5 x 5 = 25\n",
            "5 x 6 = 30\n",
            "5 x 7 = 35\n",
            "5 x 8 = 40\n",
            "5 x 9 = 45\n",
            "6 x 1 = 6\n",
            "6 x 2 = 12\n",
            "6 x 3 = 18\n",
            "6 x 4 = 24\n",
            "6 x 5 = 30\n",
            "6 x 6 = 36\n",
            "6 x 7 = 42\n",
            "6 x 8 = 48\n",
            "6 x 9 = 54\n",
            "7 x 1 = 7\n",
            "7 x 2 = 14\n",
            "7 x 3 = 21\n",
            "7 x 4 = 28\n",
            "7 x 5 = 35\n",
            "7 x 6 = 42\n",
            "7 x 7 = 49\n",
            "7 x 8 = 56\n",
            "7 x 9 = 63\n",
            "8 x 1 = 8\n",
            "8 x 2 = 16\n",
            "8 x 3 = 24\n",
            "8 x 4 = 32\n",
            "8 x 5 = 40\n",
            "8 x 6 = 48\n",
            "8 x 7 = 56\n",
            "8 x 8 = 64\n",
            "8 x 9 = 72\n",
            "9 x 1 = 9\n",
            "9 x 2 = 18\n",
            "9 x 3 = 27\n",
            "9 x 4 = 36\n",
            "9 x 5 = 45\n",
            "9 x 6 = 54\n",
            "9 x 7 = 63\n",
            "9 x 8 = 72\n",
            "9 x 9 = 81"
          ]
        }
      ],
      "source": [
        "for i in lst :\n",
        "    for j in range(1,10) : \n",
        "        print (f\"{i} x {j} = {i*j}\")"
      ],
      "id": "cb3c4118-7fcb-4921-8f78-b5cc0d3e00b0"
    },
    {
      "cell_type": "markdown",
      "metadata": {},
      "source": [
        "## ex5) enumerate $\\to$ 짝수번째 인덱스만 출력\n",
        "\n",
        "`-` 컨테이너 자료형(문자열(str), 튜플(tuple), 리스트(list),\n",
        "딕셔터리(dictionary), 집합(set))을 입력받아, 순번과 요소를 포함하는\n",
        "오브젝트를 출력"
      ],
      "id": "cf86c6bd-2b88-49f0-bc5e-ef6b80ae3034"
    },
    {
      "cell_type": "code",
      "execution_count": 112,
      "metadata": {},
      "outputs": [],
      "source": [
        "lst = list(\"abcdefghi\")"
      ],
      "id": "78ce433e-4e62-4e3d-b8be-f6b3ad1521fa"
    },
    {
      "cell_type": "code",
      "execution_count": 113,
      "metadata": {},
      "outputs": [],
      "source": [
        "list(enumerate(lst))"
      ],
      "id": "312972e1-ec79-4f09-8579-27f4e709248b"
    },
    {
      "cell_type": "code",
      "execution_count": 115,
      "metadata": {},
      "outputs": [
        {
          "output_type": "stream",
          "name": "stdout",
          "text": [
            "index : 0, str = a\n",
            "index : 2, str = c\n",
            "index : 4, str = e\n",
            "index : 6, str = g\n",
            "index : 8, str = i"
          ]
        }
      ],
      "source": [
        "for i,j in enumerate(lst) :\n",
        "    if i%2==0 :\n",
        "        print(f\"index : {i}, str = {j}\")"
      ],
      "id": "de795112-173f-4260-b19d-43588dd2ff89"
    },
    {
      "cell_type": "markdown",
      "metadata": {},
      "source": [
        "## ex6) 여러개의 값을 입력받아 짝수들의 제곱을 구하기"
      ],
      "id": "13ffca06-c0d8-4a7c-85b5-b72b14055034"
    },
    {
      "cell_type": "code",
      "execution_count": 132,
      "metadata": {},
      "outputs": [],
      "source": [
        "num_list = list(map(int, input(\"숫자를 입력하세요 : \").split()))\n",
        "\n",
        "\n",
        "s_list = [i**2 for i in num_list if i % 2 == 0]\n",
        "\n",
        "s_list"
      ],
      "id": "163b1bc5-474f-48c1-b9b5-efb0e1f4c240"
    },
    {
      "cell_type": "markdown",
      "metadata": {},
      "source": [
        "# for + dict\n",
        "\n",
        "## ex1) 기본 반복문"
      ],
      "id": "e62939fb-e0c5-4738-9bfe-62e99ab81a87"
    },
    {
      "cell_type": "code",
      "execution_count": 145,
      "metadata": {},
      "outputs": [],
      "source": [
        "s = dict(a=100,b=55,c=74,d=87)\n",
        "s.items()"
      ],
      "id": "9338f362-ea63-431b-a025-e90a99dce187"
    },
    {
      "cell_type": "code",
      "execution_count": 146,
      "metadata": {},
      "outputs": [
        {
          "output_type": "stream",
          "name": "stdout",
          "text": [
            "a 100\n",
            "b 55\n",
            "c 74\n",
            "d 87"
          ]
        }
      ],
      "source": [
        "for i,j in s.items() :\n",
        "    print(i,j)"
      ],
      "id": "4e3c3898-da05-410f-8bd7-40ce63740060"
    },
    {
      "cell_type": "markdown",
      "metadata": {},
      "source": [
        "## ex2) 기준값을 입력받은후 특정값보다 큰 key,value를 추출"
      ],
      "id": "02947473-308a-4f8c-b71c-a56be3d27304"
    },
    {
      "cell_type": "code",
      "execution_count": 147,
      "metadata": {},
      "outputs": [
        {
          "output_type": "stream",
          "name": "stdout",
          "text": [
            "a 100\n",
            "c 74\n",
            "d 87"
          ]
        }
      ],
      "source": [
        "num = int(input(\"숫자를 입력하시오 : \"))\n",
        "\n",
        "for i,j in s.items() :\n",
        "    if j>num :\n",
        "        print (i,j)"
      ],
      "id": "59198abb-c0ca-4d49-8d91-e44fb3c5a364"
    },
    {
      "cell_type": "markdown",
      "metadata": {},
      "source": [
        "## ex3) 합구하기"
      ],
      "id": "84dc9213-3c8e-4e50-abe6-de0e4d7ca576"
    },
    {
      "cell_type": "code",
      "execution_count": 150,
      "metadata": {},
      "outputs": [],
      "source": [
        "s = {\"a\" : [1,2,3,4],\n",
        "     \"b\" : [5,6,7,8],\n",
        "     \"c\" : [6,7,8,9]}"
      ],
      "id": "e90f0b9d-f192-432e-85f5-9e918d709498"
    },
    {
      "cell_type": "code",
      "execution_count": 152,
      "metadata": {},
      "outputs": [],
      "source": [
        "{i : sum(j) for i,j in s.items()}"
      ],
      "id": "191d6376-dd3b-47fa-a26e-0a6542d615e3"
    },
    {
      "cell_type": "markdown",
      "metadata": {},
      "source": [
        "------------------------------------------------------------------------\n",
        "\n",
        "# while\n",
        "\n",
        "`-` 내 생각 : 먼가 위험하니(무한루프 등) 살면서 거의 안 쓸 것 같다.\n",
        "\n",
        "# ex1. 기본 출력"
      ],
      "id": "635766f6-a526-4232-bcc9-1aa72532520f"
    },
    {
      "cell_type": "code",
      "execution_count": 158,
      "metadata": {},
      "outputs": [
        {
          "output_type": "stream",
          "name": "stdout",
          "text": [
            "a\n",
            "b\n",
            "c"
          ]
        }
      ],
      "source": [
        "lst = list(\"abc\")\n",
        "\n",
        "i = 0\n",
        "while i < len(lst) :\n",
        "    print(lst[i])\n",
        "    i = i+1"
      ],
      "id": "45e7c916-3592-4b73-899a-efac0c312f0d"
    },
    {
      "cell_type": "markdown",
      "metadata": {},
      "source": [
        "## ex2. break\n",
        "\n",
        "`-` 짝수합 구하기"
      ],
      "id": "fddef24b-d7fc-4ba7-82ca-cd1a61b29d54"
    },
    {
      "cell_type": "code",
      "execution_count": 164,
      "metadata": {},
      "outputs": [],
      "source": [
        "s,i =0,0\n",
        "\n",
        "while True :\n",
        "    i+=1\n",
        "    if i>100 :\n",
        "        break ## 100d을 넘어가면 break\n",
        "    if i%2==0 :\n",
        "        s += i\n",
        "    else :\n",
        "        continue ## 다시 처음으로"
      ],
      "id": "fc2dfd90-4a5c-492e-9305-ff1250101a03"
    }
  ],
  "nbformat": 4,
  "nbformat_minor": 5,
  "metadata": {
    "kernelspec": {
      "name": "python3",
      "display_name": "Python 3 (ipykernel)",
      "language": "python"
    },
    "language_info": {
      "name": "python",
      "codemirror_mode": {
        "name": "ipython",
        "version": "3"
      },
      "file_extension": ".py",
      "mimetype": "text/x-python",
      "nbconvert_exporter": "python",
      "pygments_lexer": "ipython3",
      "version": "3.11.4"
    }
  }
}