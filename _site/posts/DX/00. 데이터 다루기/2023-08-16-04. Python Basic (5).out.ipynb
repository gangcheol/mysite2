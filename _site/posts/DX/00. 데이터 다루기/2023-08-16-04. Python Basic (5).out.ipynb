{
  "cells": [
    {
      "cell_type": "markdown",
      "metadata": {},
      "source": [
        "# 04. Python Basic (5)\n",
        "\n",
        "GC  \n",
        "2023-08-16\n",
        "\n",
        "# 함수\n",
        "\n",
        "## ex1. 여러개 인수를 입력받아 처리하는 함수\n",
        "\n",
        "-   `*`은 여러개의 인수를 튜플로 입력받아 처리해주는 메소드이다."
      ],
      "id": "4c64ddab-c15d-451d-92f2-d35bdb4d2836"
    },
    {
      "cell_type": "code",
      "execution_count": 7,
      "metadata": {},
      "outputs": [],
      "source": [
        "def a(*alpha) :\n",
        "    for a in alpha : \n",
        "        print(f\"입력된 문자는 {a}입니다.\")"
      ],
      "id": "cf2e8882-3fd5-4c77-a43b-d071171d4ad4"
    },
    {
      "cell_type": "code",
      "execution_count": 8,
      "metadata": {},
      "outputs": [
        {
          "output_type": "stream",
          "name": "stdout",
          "text": [
            "입력된 문자는 A입니다.\n",
            "입력된 문자는 B입니다."
          ]
        }
      ],
      "source": [
        "a(\"A\",\"B\")"
      ],
      "id": "95893727-b427-4bd5-bc42-e66d0cbb360d"
    },
    {
      "cell_type": "markdown",
      "metadata": {},
      "source": [
        "`-` 또한, 임의의 매개변수를 여러개 전달받고, 고정변수를 따로 전달받아\n",
        "아래와 같이 작성할 수 있다."
      ],
      "id": "1f89528a-46c2-4fb8-9d68-68f50576e650"
    },
    {
      "cell_type": "code",
      "execution_count": 10,
      "metadata": {},
      "outputs": [],
      "source": [
        "def a(*alpha,v) :\n",
        "    for a in alpha : \n",
        "        print(f\"입력된 문자는 {a}이며 종류는 {v}입니다.\")"
      ],
      "id": "475f0174-cc7e-4733-a25f-94fcb2d9d778"
    },
    {
      "cell_type": "code",
      "execution_count": 11,
      "metadata": {},
      "outputs": [
        {
          "output_type": "stream",
          "name": "stdout",
          "text": [
            "입력된 문자는 A이며 종류는 알파벳입니다.\n",
            "입력된 문자는 B이며 종류는 알파벳입니다."
          ]
        }
      ],
      "source": [
        "a(\"A\",\"B\",v = \"알파벳\")"
      ],
      "id": "eda7305b-0d91-4c87-8277-a23af7ef7af9"
    },
    {
      "cell_type": "markdown",
      "metadata": {},
      "source": [
        "-   단 고정값은 맨뒤에 전달해주어야 한다."
      ],
      "id": "914bb852-f0bc-46a3-8d5e-14353c9194e1"
    },
    {
      "cell_type": "code",
      "execution_count": 17,
      "metadata": {},
      "outputs": [],
      "source": [
        "a(v = \"알파벳\",\"A\",\"B\")"
      ],
      "id": "2c9f1040-2aa5-4509-bfaf-2d395ac7647c"
    },
    {
      "cell_type": "markdown",
      "metadata": {},
      "source": [
        "## ex2. 아래를 만족하는 함수를 작성하라.\n",
        "\n",
        "$$\\text{result} = \\sum_{i=1}^{n} x^2$$"
      ],
      "id": "38a518d5-21a6-400b-a168-7ea3923ef187"
    },
    {
      "cell_type": "code",
      "execution_count": 19,
      "metadata": {},
      "outputs": [],
      "source": [
        "def a(*a) :\n",
        "    result = sum([i**2 for i in a])\n",
        "    return result"
      ],
      "id": "6acdbc86-60e1-4b09-b04c-0ef737f1361e"
    },
    {
      "cell_type": "code",
      "execution_count": 21,
      "metadata": {},
      "outputs": [],
      "source": [
        "a(1,2,3,4,5)"
      ],
      "id": "907adae2-e9ac-442a-b6f6-85af8be1fe50"
    },
    {
      "cell_type": "code",
      "execution_count": 24,
      "metadata": {},
      "outputs": [],
      "source": [
        "lst= [2,10,4]"
      ],
      "id": "9abb97a2-2c6e-4a0c-b588-124795a536df"
    },
    {
      "cell_type": "code",
      "execution_count": 43,
      "metadata": {},
      "outputs": [],
      "source": [
        "def solution(sides):\n",
        "    sides.sort()\n",
        "    if sides[-1] < sum(sides[:-1]) :\n",
        "        return 1\n",
        "    else :\n",
        "        return 2"
      ],
      "id": "f0fb60cc-cb0d-4a73-8563-cdf7f396eeaf"
    },
    {
      "cell_type": "code",
      "execution_count": 44,
      "metadata": {},
      "outputs": [],
      "source": [
        "solution(lst)"
      ],
      "id": "1e89a489-5518-4ab1-a776-adb37d72eac6"
    },
    {
      "cell_type": "markdown",
      "metadata": {},
      "source": [
        "## ex3. 여러 개의 값 return\n",
        "\n",
        "`-` 분수 덧셈후 결과의 기약분수의 분모와 분자를 출력"
      ],
      "id": "eb875ed6-0d58-4e35-913c-516a2595342e"
    },
    {
      "cell_type": "code",
      "execution_count": 47,
      "metadata": {},
      "outputs": [],
      "source": [
        "import math"
      ],
      "id": "3fa1400d-e207-4f94-a71b-e6450a2fc51e"
    },
    {
      "cell_type": "code",
      "execution_count": 48,
      "metadata": {},
      "outputs": [],
      "source": [
        "def sol(n1,d1,n2,d2) :\n",
        "    d = d1*d2 ## 분모 \n",
        "    n = n1*d2 + n2*d1 ##분자\n",
        "\n",
        "    gcd = math.gcd(d,n) ## 최대공약수\n",
        "\n",
        "    return n//gcd,d//gcd"
      ],
      "id": "0a10e223-4752-4dfd-9e29-ae9fe2dc092f"
    },
    {
      "cell_type": "code",
      "execution_count": 50,
      "metadata": {},
      "outputs": [],
      "source": [
        "n,d = sol(1,2,3,4)"
      ],
      "id": "49976993-cebd-4bb8-b9ed-91234113cf51"
    },
    {
      "cell_type": "code",
      "execution_count": 54,
      "metadata": {},
      "outputs": [],
      "source": [
        "n"
      ],
      "id": "bed49a0b-f714-4cb4-80a3-699c362fe9f9"
    },
    {
      "cell_type": "code",
      "execution_count": 55,
      "metadata": {},
      "outputs": [],
      "source": [
        "d"
      ],
      "id": "005022c8-b3f4-42c2-adf3-2d4408148310"
    },
    {
      "cell_type": "markdown",
      "metadata": {},
      "source": [
        "## 내장함수\n",
        "\n",
        "### `abs` : 절대값 return"
      ],
      "id": "10fbe99a-d496-482c-b963-9c13500177e1"
    },
    {
      "cell_type": "code",
      "execution_count": 56,
      "metadata": {},
      "outputs": [],
      "source": [
        "a = 1\n",
        "b = -a\n",
        "\n",
        "a == abs(b)"
      ],
      "id": "6b43fe54-d3f3-4e15-bd24-1f8e211c562e"
    },
    {
      "cell_type": "markdown",
      "metadata": {},
      "source": [
        "### `all` : `x`의 요소가 모두 참이면 `True`"
      ],
      "id": "0ba2e682-e688-4e64-a593-c99698882bfb"
    },
    {
      "cell_type": "code",
      "execution_count": 65,
      "metadata": {},
      "outputs": [],
      "source": [
        "a = list(\"abcd\")\n",
        "\n",
        "all(a)"
      ],
      "id": "3cb3ff6b-8259-4c82-ac59-8a54d579f3e0"
    },
    {
      "cell_type": "markdown",
      "metadata": {},
      "source": [
        "`-` 0은 `False`와 같음"
      ],
      "id": "ca14b8d9-43b5-4735-b06c-0011b401660e"
    },
    {
      "cell_type": "code",
      "execution_count": 68,
      "metadata": {},
      "outputs": [],
      "source": [
        "0 == False"
      ],
      "id": "7e996bd9-587d-40c7-a0af-20823a84ef88"
    },
    {
      "cell_type": "code",
      "execution_count": 66,
      "metadata": {},
      "outputs": [],
      "source": [
        "a.append(0)\n",
        "a"
      ],
      "id": "3206c2a8-5c60-43c7-84db-634d4b8e9118"
    },
    {
      "cell_type": "code",
      "execution_count": 67,
      "metadata": {},
      "outputs": [],
      "source": [
        "all(a)"
      ],
      "id": "1acfefdb-5d4a-4b96-9c1d-9fbabcf541b3"
    },
    {
      "cell_type": "markdown",
      "metadata": {},
      "source": [
        "### `any` : 요소 중 하나라도 참이면 `True`"
      ],
      "id": "93de0c25-1913-40b0-b361-b6f66d204264"
    },
    {
      "cell_type": "code",
      "execution_count": 70,
      "metadata": {},
      "outputs": [],
      "source": [
        "a"
      ],
      "id": "4f69afbb-a41f-48a3-9d22-02610283f27a"
    },
    {
      "cell_type": "code",
      "execution_count": 71,
      "metadata": {},
      "outputs": [],
      "source": [
        "any(a)"
      ],
      "id": "5dd769b4-1814-44a8-8bd7-2dadf29f97ee"
    },
    {
      "cell_type": "markdown",
      "metadata": {},
      "source": [
        "### `dir` : 객체 x가 가지고 있는 변수 및 메소드 목록 return"
      ],
      "id": "ed5936fa-bf4d-4969-afba-1356c3f9e23e"
    },
    {
      "cell_type": "code",
      "execution_count": 73,
      "metadata": {},
      "outputs": [],
      "source": [
        "a"
      ],
      "id": "a4085ce5-2cf1-46fb-8b1a-8b85284db586"
    },
    {
      "cell_type": "code",
      "execution_count": 74,
      "metadata": {},
      "outputs": [],
      "source": [
        "dir(a)"
      ],
      "id": "b5f85b53-dfab-4840-b42a-0326b0091a2f"
    },
    {
      "cell_type": "markdown",
      "metadata": {},
      "source": [
        "`-` 오리지날 메소드만 출력"
      ],
      "id": "b285f4e4-0026-49da-95ef-9d4243549ca8"
    },
    {
      "cell_type": "code",
      "execution_count": 82,
      "metadata": {},
      "outputs": [],
      "source": [
        "b = [i for i in dir(a) if i[0] != \"_\"]"
      ],
      "id": "ad560695-8ebf-47d9-be41-8b80095b1180"
    },
    {
      "cell_type": "code",
      "execution_count": 83,
      "metadata": {},
      "outputs": [],
      "source": [
        "b"
      ],
      "id": "4cefec5b-1cc0-4f06-813c-0c87903d8a65"
    },
    {
      "cell_type": "markdown",
      "metadata": {},
      "source": [
        "### `divmod(x,y)`\n",
        "\n",
        "`-` `x`를 `y`로 나눈 몫과 나머지를 튜플로 반환"
      ],
      "id": "1b6cb993-96d2-4d66-9e77-b8d588d182c7"
    },
    {
      "cell_type": "code",
      "execution_count": 84,
      "metadata": {},
      "outputs": [],
      "source": [
        "divmod(5,2)"
      ],
      "id": "a5d0de6b-3a93-43b1-9c50-8168bd3ebaf8"
    },
    {
      "cell_type": "markdown",
      "metadata": {},
      "source": [
        "### `eval`\n",
        "\n",
        "`-` 코드의 실행을 입력받아 결과를 받음."
      ],
      "id": "8915accc-ccc1-427b-89f2-6f999ccad304"
    },
    {
      "cell_type": "code",
      "execution_count": 86,
      "metadata": {},
      "outputs": [],
      "source": [
        "eval('10+20')"
      ],
      "id": "04764c3c-7791-4a29-bfe8-169a2102a738"
    },
    {
      "cell_type": "markdown",
      "metadata": {},
      "source": [
        "### filter\n",
        "\n",
        "`-` 함수에 매개변수를 전달해 참인 경우만 결과를 반환 $\\to$ `filter(f,a)`\n",
        "\n",
        "`-` ex1\n",
        "\n",
        "#### ver1. `def`"
      ],
      "id": "38620f2d-a131-4821-a00c-a5305bfb58a6"
    },
    {
      "cell_type": "code",
      "execution_count": 87,
      "metadata": {},
      "outputs": [],
      "source": [
        "def f(x) :\n",
        "    if x % 2 == 0 :\n",
        "        return x"
      ],
      "id": "da0570ab-75b5-44fd-aaaf-1a33460eca27"
    },
    {
      "cell_type": "code",
      "execution_count": 88,
      "metadata": {},
      "outputs": [],
      "source": [
        "a = [1,2,3,4,5]"
      ],
      "id": "23a88be6-7b2c-4cdb-bca8-0b8fdc82718f"
    },
    {
      "cell_type": "code",
      "execution_count": 90,
      "metadata": {},
      "outputs": [],
      "source": [
        "list(filter(f,a))"
      ],
      "id": "b2084f63-a6f8-4888-8c98-18f0727b57e0"
    },
    {
      "cell_type": "markdown",
      "metadata": {},
      "source": [
        "#### ver2. `lambda`"
      ],
      "id": "89c3d575-4600-42bc-af4f-bd759a19da18"
    },
    {
      "cell_type": "code",
      "execution_count": 92,
      "metadata": {},
      "outputs": [],
      "source": [
        "list(filter(lambda x : x % 2==0,a))"
      ],
      "id": "23243ce0-ad00-4db9-bbf4-257c3f04dd5f"
    },
    {
      "cell_type": "markdown",
      "metadata": {},
      "source": [
        "### ord\n",
        "\n",
        "`-` 문자의 아스키 코드반환"
      ],
      "id": "06c7b89d-9550-4ee6-b824-dd21f8597e31"
    },
    {
      "cell_type": "code",
      "execution_count": 93,
      "metadata": {},
      "outputs": [],
      "source": [
        "ord(\"A\")"
      ],
      "id": "2af1f494-8b3a-487a-b58c-ee750fdd3dac"
    },
    {
      "cell_type": "markdown",
      "metadata": {},
      "source": [
        "### map(lambda) $(\\star\\star\\star)$\n",
        "\n",
        "`-` 짝수 선택 예제"
      ],
      "id": "a1e09851-c1f9-4a05-95b8-08fce6a3f4fb"
    },
    {
      "cell_type": "code",
      "execution_count": 138,
      "metadata": {},
      "outputs": [],
      "source": [
        "import numpy as np\n",
        "import pandas as pd"
      ],
      "id": "46162d58-3b11-4cfe-a24d-8a4773a3caef"
    },
    {
      "cell_type": "code",
      "execution_count": 140,
      "metadata": {},
      "outputs": [],
      "source": [
        "np.random.seed(1)\n",
        "df2= pd.DataFrame(np.random.normal(size=(10,4)),columns=list('ABCD'))\n",
        "df2.head()"
      ],
      "id": "c7707d72-a49a-4127-b9aa-1a12fcb08033"
    },
    {
      "cell_type": "markdown",
      "metadata": {},
      "source": [
        "`-` A열에서 0보다 큰값들만 출력"
      ],
      "id": "619f4be2-8ae0-4574-947f-6641fab7aa10"
    },
    {
      "cell_type": "code",
      "execution_count": 141,
      "metadata": {},
      "outputs": [],
      "source": [
        "df2.iloc[map(lambda x : x>0, df2.A),:]"
      ],
      "id": "32d75b03-3dca-4ab0-bbcd-73f20944a931"
    },
    {
      "cell_type": "markdown",
      "metadata": {},
      "source": [
        "`-` A,C열에서 둘다 0보다 큰값들만 출력"
      ],
      "id": "b68387ba-4d91-4633-96d8-e24f979d5f40"
    },
    {
      "cell_type": "code",
      "execution_count": 142,
      "metadata": {},
      "outputs": [],
      "source": [
        "df2.loc[ map(lambda x,y : (x>0) & (y>0) , df2.A,df2.C),:]"
      ],
      "id": "43855da6-6930-488a-85e5-b4d4c6771ea7"
    },
    {
      "cell_type": "markdown",
      "metadata": {},
      "source": [
        "`-` 짝수에는 곱하기2, 홀수에는 곱하기 3"
      ],
      "id": "d0822dad-8526-4757-9845-45b555da769c"
    },
    {
      "cell_type": "code",
      "execution_count": 155,
      "metadata": {},
      "outputs": [],
      "source": [
        "a = list(range(1,11))\n",
        "a"
      ],
      "id": "f3583f02-fab8-4e81-ba0e-a63c298d3d52"
    },
    {
      "cell_type": "code",
      "execution_count": 156,
      "metadata": {},
      "outputs": [],
      "source": [
        "list(map(lambda x : x*2 if x%2 ==0 else x*3,a))"
      ],
      "id": "314f8135-a8d9-447a-a97d-0cac7a2eee8b"
    },
    {
      "cell_type": "markdown",
      "metadata": {},
      "source": [
        "### isinstance\n",
        "\n",
        "`-` 객체가 해당 자료형의 해당하는 객체인지 확인"
      ],
      "id": "2512659c-4c8e-4c07-8bac-d8ea9b92125b"
    },
    {
      "cell_type": "code",
      "execution_count": 145,
      "metadata": {},
      "outputs": [
        {
          "output_type": "stream",
          "name": "stdout",
          "text": [
            "True\n",
            "True"
          ]
        }
      ],
      "source": [
        "a = list(\"abcd\")\n",
        "b = 1\n",
        "\n",
        "print(isinstance(a,list))\n",
        "print(isinstance(b,int))"
      ],
      "id": "a9fe14b4-e6db-46a6-874a-e5d081543190"
    },
    {
      "cell_type": "markdown",
      "metadata": {},
      "source": [
        "### zip($\\star\\star\\star$)\n",
        "\n",
        "`-` 두 객체의 요소들을 쌍으로 묶어서 반환해줌"
      ],
      "id": "6864dc34-dbd3-41f5-bbee-e1e81d1943e0"
    },
    {
      "cell_type": "code",
      "execution_count": 148,
      "metadata": {},
      "outputs": [],
      "source": [
        "a = [1,2,3,4]\n",
        "b = [2,4,6,8]\n",
        "list(zip(a,b))"
      ],
      "id": "1e5123c9-4179-4889-9c6d-59fc4723df21"
    },
    {
      "cell_type": "markdown",
      "metadata": {},
      "source": [
        "`-` 아래와 같이 인덱스 범위를 넘어가면 그냥 무시한다."
      ],
      "id": "9fd71aea-f66c-4992-a76e-bde18daf3a1b"
    },
    {
      "cell_type": "code",
      "execution_count": 149,
      "metadata": {},
      "outputs": [],
      "source": [
        "a = [1,2,3,4]\n",
        "b = [2,4,6,8,9]\n",
        "list(zip(a,b))"
      ],
      "id": "ae414325-e4bf-4bb5-8ad0-3bcedbfe32f4"
    },
    {
      "cell_type": "markdown",
      "metadata": {},
      "source": [
        "------------------------------------------------------------------------\n",
        "\n",
        "# 정규식\n",
        "\n",
        "## sub"
      ],
      "id": "b97ba631-e4b6-4b1d-a02b-84a63923067a"
    },
    {
      "cell_type": "code",
      "execution_count": 162,
      "metadata": {},
      "outputs": [],
      "source": [
        "p = \"강철 : 961230-1111111 호연 : 961231-1111111\" "
      ],
      "id": "7a366a77-a365-4abd-b96c-c7fee228257f"
    },
    {
      "cell_type": "code",
      "execution_count": 159,
      "metadata": {},
      "outputs": [],
      "source": [
        "import re"
      ],
      "id": "9439d2b0-6a45-4d05-8299-541b7be3e957"
    },
    {
      "cell_type": "markdown",
      "metadata": {},
      "source": [
        "`-` 해당 패턴을 아래와 같이 기억"
      ],
      "id": "2bbb6c46-40b0-4363-beab-529f8a2c586f"
    },
    {
      "cell_type": "code",
      "execution_count": 171,
      "metadata": {},
      "outputs": [],
      "source": [
        "mask = re.compile(\"(\\d{6})[-]\\d{7}\")"
      ],
      "id": "42aaff34-3540-4504-92f5-e6abe0d8d02c"
    },
    {
      "cell_type": "markdown",
      "metadata": {},
      "source": [
        "`-` g\\<?\\> : 그룹을 의미하며 위 컴파일에서 `()`로 구분한다. $\\to$\n",
        "`g<0>`은 전체 패턴을 의미\n",
        "\n",
        "`-` () : g\\<1\\>"
      ],
      "id": "06db6558-7a21-4e00-81be-b18028bdb967"
    },
    {
      "cell_type": "code",
      "execution_count": 179,
      "metadata": {},
      "outputs": [],
      "source": [
        "mask.sub(\"\\g<1>-XXXXXXX\",p)"
      ],
      "id": "ecb5df81-8987-41d2-bdfd-38d7bd953139"
    },
    {
      "cell_type": "markdown",
      "metadata": {},
      "source": [
        "`-` ()\\[-\\] : g\\<0\\>"
      ],
      "id": "921f1b65-dae8-4c51-a0dc-fb08b79391d2"
    },
    {
      "cell_type": "code",
      "execution_count": 180,
      "metadata": {},
      "outputs": [],
      "source": [
        "mask.sub(\"\\g<0>-XXXXXXX\",p)"
      ],
      "id": "0bbc0222-02df-41fb-b0db-f10a6140c633"
    },
    {
      "cell_type": "markdown",
      "metadata": {},
      "source": [
        "`-` 아래와 같이 1명만 바꿀 수 있음"
      ],
      "id": "64b9f76b-04d0-444f-b107-8bed6f207e4b"
    },
    {
      "cell_type": "code",
      "execution_count": 178,
      "metadata": {},
      "outputs": [],
      "source": [
        "mask.sub(\"\\g<1>-XXXXXXX\",p,count=1)"
      ],
      "id": "cebd16be-cd44-4de3-bedc-4425d98f77dc"
    },
    {
      "cell_type": "markdown",
      "metadata": {},
      "source": [
        "## basic"
      ],
      "id": "79052ff4-4862-494e-b366-19c25d854841"
    },
    {
      "cell_type": "code",
      "execution_count": 181,
      "metadata": {},
      "outputs": [],
      "source": [
        "import re"
      ],
      "id": "4a37ffeb-e71d-4187-8715-c5959c0a34e4"
    },
    {
      "cell_type": "markdown",
      "metadata": {},
      "source": [
        "### match\n",
        "\n",
        "`-` 문자열의 첫 글자가 정규식과 일치하는지 확인"
      ],
      "id": "08b249bc-20df-469b-ac89-0bf17034c654"
    },
    {
      "cell_type": "code",
      "execution_count": 182,
      "metadata": {},
      "outputs": [],
      "source": [
        "s = \"I am gc\""
      ],
      "id": "8757c6bb-2a22-451d-8033-0f998983b896"
    },
    {
      "cell_type": "code",
      "execution_count": 194,
      "metadata": {},
      "outputs": [
        {
          "output_type": "stream",
          "name": "stdout",
          "text": [
            "o"
          ]
        }
      ],
      "source": [
        "result = re.match(\"I\",s)\n",
        "if result:\n",
        "    print(\"o\")\n",
        "else :\n",
        "    print(\"x\")"
      ],
      "id": "d67c9403-61b2-49ab-9521-d0e1f7117ddd"
    },
    {
      "cell_type": "markdown",
      "metadata": {},
      "source": [
        "### search\n",
        "\n",
        "`-` 문자열 전체에서 정규식과 일치하는 확인"
      ],
      "id": "1ffdc8ed-e3e5-48d3-b6db-b26aaeae4180"
    },
    {
      "cell_type": "code",
      "execution_count": 216,
      "metadata": {},
      "outputs": [],
      "source": [
        "s = \"I am gcg\""
      ],
      "id": "0d5ae98a-945d-4287-ae8c-4a38fd5f90a5"
    },
    {
      "cell_type": "code",
      "execution_count": 200,
      "metadata": {},
      "outputs": [],
      "source": [
        "result = re.search(\"gc\",s)"
      ],
      "id": "94cc32aa-5b9a-40c0-9316-4970d627b03c"
    },
    {
      "cell_type": "code",
      "execution_count": 201,
      "metadata": {},
      "outputs": [
        {
          "output_type": "stream",
          "name": "stdout",
          "text": [
            "o"
          ]
        }
      ],
      "source": [
        "if result:\n",
        "    print(\"o\")\n",
        "else :\n",
        "    print(\"x\")"
      ],
      "id": "6977a151-d5d8-42ba-bf94-5c855ced3045"
    },
    {
      "cell_type": "markdown",
      "metadata": {},
      "source": [
        "`-` 매치된 결과를 다음과 같은 메소드로 확인할 수 있다."
      ],
      "id": "509b1743-47ad-433c-922f-f7ea111c86ad"
    },
    {
      "cell_type": "code",
      "execution_count": 226,
      "metadata": {},
      "outputs": [],
      "source": [
        "s = \"I am gc\"\n",
        "result = re.search(\"g\",s)"
      ],
      "id": "ac3becd9-5061-4f13-85f4-3579ae031c8e"
    },
    {
      "cell_type": "markdown",
      "metadata": {},
      "source": [
        "-   group() : 매치된 문자열을 반환"
      ],
      "id": "838dcd5e-52f0-46f8-b548-680eed2208b9"
    },
    {
      "cell_type": "code",
      "execution_count": 227,
      "metadata": {},
      "outputs": [],
      "source": [
        "result.group()"
      ],
      "id": "48b8b799-5cd6-4da4-836f-b88af6b2a57e"
    },
    {
      "cell_type": "markdown",
      "metadata": {},
      "source": [
        "-   start(),end() : 매치된 문자열의 시작과 끝의 위치를 반환\n",
        "    -   end() : `끝위치-1`을 반환한다."
      ],
      "id": "fad8cf40-7d04-46c7-98d8-6a3b5e80ed16"
    },
    {
      "cell_type": "code",
      "execution_count": 228,
      "metadata": {},
      "outputs": [],
      "source": [
        "result.start()"
      ],
      "id": "37a93be9-cc91-4863-9884-a9bc55ffa659"
    },
    {
      "cell_type": "code",
      "execution_count": 229,
      "metadata": {},
      "outputs": [],
      "source": [
        "result.end()"
      ],
      "id": "f6893686-427a-492d-adb3-226849ead5dd"
    },
    {
      "cell_type": "code",
      "execution_count": 230,
      "metadata": {},
      "outputs": [],
      "source": [
        "s[5]"
      ],
      "id": "944a2a96-fa0e-4e73-b31f-dcdcfcf03217"
    },
    {
      "cell_type": "code",
      "execution_count": 232,
      "metadata": {},
      "outputs": [],
      "source": [
        "s[6]"
      ],
      "id": "709d0f17-6c78-4253-82ca-414d26f70b8a"
    },
    {
      "cell_type": "markdown",
      "metadata": {},
      "source": [
        "-   span() : 매치된 문자열의 시작, 끝을 튜플로 반환"
      ],
      "id": "635f5b20-87da-4a4e-8356-492631001dd6"
    },
    {
      "cell_type": "code",
      "execution_count": 233,
      "metadata": {},
      "outputs": [],
      "source": [
        "result.span()"
      ],
      "id": "958341e8-be9d-4ab6-9438-504f5a26725c"
    },
    {
      "cell_type": "markdown",
      "metadata": {},
      "source": [
        "### findall\n",
        "\n",
        "`-` 정규식과 매치되는 모든 문자열을 리스트로 반환"
      ],
      "id": "67961860-7707-4080-9761-681d97a72a31"
    },
    {
      "cell_type": "code",
      "execution_count": 237,
      "metadata": {},
      "outputs": [],
      "source": [
        "s= 'I am gc gc'"
      ],
      "id": "7e66af39-48eb-445b-aeef-870ade6dce42"
    },
    {
      "cell_type": "code",
      "execution_count": 238,
      "metadata": {},
      "outputs": [],
      "source": [
        "re.findall(\"g\",s)"
      ],
      "id": "a3071768-76ae-4db5-ba66-b9d73dbd5493"
    },
    {
      "cell_type": "code",
      "execution_count": 239,
      "metadata": {},
      "outputs": [],
      "source": [
        "re.findall(\"gc\",s)"
      ],
      "id": "ff986eb4-739b-4034-ad99-56a66ad9bb8a"
    },
    {
      "cell_type": "markdown",
      "metadata": {},
      "source": [
        "### finditer\n",
        "\n",
        "`-` 정규식과 매치되는 모든 문자열을 반복 가능한 객체로 변환"
      ],
      "id": "f85c01b3-74e4-432e-9d59-62ca08234bdc"
    },
    {
      "cell_type": "code",
      "execution_count": 240,
      "metadata": {},
      "outputs": [],
      "source": [
        "s"
      ],
      "id": "810f172c-2915-42d6-99de-d7fa8706896f"
    },
    {
      "cell_type": "code",
      "execution_count": 241,
      "metadata": {},
      "outputs": [],
      "source": [
        "result = re.finditer(\"gc\",s)"
      ],
      "id": "a6a9e62b-2abb-43ae-868e-3a680b2cefc1"
    },
    {
      "cell_type": "code",
      "execution_count": 243,
      "metadata": {},
      "outputs": [
        {
          "output_type": "stream",
          "name": "stdout",
          "text": [
            "<re.Match object; span=(5, 7), match='gc'>\n",
            "<re.Match object; span=(8, 10), match='gc'>"
          ]
        }
      ],
      "source": [
        "for i in result : \n",
        "    print(i)"
      ],
      "id": "0d361b9c-dc36-4c5e-aa20-ff1171892e37"
    },
    {
      "cell_type": "markdown",
      "metadata": {},
      "source": [
        "### 나열된 문자 포함여부 확인"
      ],
      "id": "dadb8138-4375-4233-af68-9fbfb810916a"
    },
    {
      "cell_type": "code",
      "execution_count": 246,
      "metadata": {},
      "outputs": [],
      "source": [
        "s"
      ],
      "id": "e867d0c4-98b7-49d7-b9b2-52af06be1e8d"
    },
    {
      "cell_type": "code",
      "execution_count": 247,
      "metadata": {},
      "outputs": [],
      "source": [
        "re.findall(\"[gc]\",s)"
      ],
      "id": "9ad65f1e-75d8-4d9f-bdf7-b8ea5e64729f"
    },
    {
      "cell_type": "markdown",
      "metadata": {},
      "source": [
        "`-` 같은 문자 한번만 표시"
      ],
      "id": "6a56d540-7a5a-4dee-bd53-1e43548515a6"
    },
    {
      "cell_type": "code",
      "execution_count": 249,
      "metadata": {},
      "outputs": [],
      "source": [
        "list(set(re.findall(\"[gc]\",s)))"
      ],
      "id": "8a4e561f-ff2c-4293-be0c-d7cfeffd1495"
    },
    {
      "cell_type": "markdown",
      "metadata": {},
      "source": [
        "-   `^` : 해당 문자열을 제외한 문자들을 리스트로 출력"
      ],
      "id": "107494b6-f1a0-441e-ad2b-03e2ec258146"
    },
    {
      "cell_type": "code",
      "execution_count": 252,
      "metadata": {},
      "outputs": [],
      "source": [
        "s"
      ],
      "id": "6a6c1eb7-d88c-403b-8f31-3e990c8348db"
    },
    {
      "cell_type": "code",
      "execution_count": 253,
      "metadata": {},
      "outputs": [],
      "source": [
        "list(set(re.findall(\"[^gc]\",s)))"
      ],
      "id": "276f5f06-b4c4-4607-a3ab-a6c2c62f7c37"
    },
    {
      "cell_type": "code",
      "execution_count": 255,
      "metadata": {},
      "outputs": [],
      "source": [
        "list(set(re.findall(\"[^ gc]\",s))) ## 공백 제거"
      ],
      "id": "00d70045-d946-4fc1-a6ed-ddfa35bc245e"
    },
    {
      "cell_type": "markdown",
      "metadata": {},
      "source": [
        "### 범위안에 문자 포함여부확인"
      ],
      "id": "459b456c-9bda-4af6-80b5-fdf732c3a1ed"
    },
    {
      "cell_type": "code",
      "execution_count": 256,
      "metadata": {},
      "outputs": [],
      "source": [
        "s"
      ],
      "id": "54145e4e-8a46-416e-a45a-362490a7d73f"
    },
    {
      "cell_type": "markdown",
      "metadata": {},
      "source": [
        "`-` 소문자만 출력"
      ],
      "id": "ff7801e0-33ba-46dd-a06f-eaaf79384cdc"
    },
    {
      "cell_type": "code",
      "execution_count": 257,
      "metadata": {},
      "outputs": [],
      "source": [
        "re.findall(\"[a-z]\",s)"
      ],
      "id": "a1b46f54-b0ab-4bda-87c8-bed79bbefdb6"
    },
    {
      "cell_type": "markdown",
      "metadata": {},
      "source": [
        "`-` 대문자만 출력"
      ],
      "id": "b5a2b3be-97b0-4fc6-8897-daee3651ea7c"
    },
    {
      "cell_type": "code",
      "execution_count": 259,
      "metadata": {},
      "outputs": [],
      "source": [
        "re.findall(\"[A-Z]\",s)"
      ],
      "id": "8301c812-0ef4-4fdd-966b-ba8ce0d00d60"
    },
    {
      "cell_type": "markdown",
      "metadata": {},
      "source": [
        "`-` 대,소문자 둘다 출력"
      ],
      "id": "89b77e93-9da3-404a-bbdf-b167971b3826"
    },
    {
      "cell_type": "code",
      "execution_count": 260,
      "metadata": {},
      "outputs": [],
      "source": [
        "re.findall(\"[A-Za-z]\",s)"
      ],
      "id": "35cfb191-3f54-462a-885a-8652d5341f93"
    },
    {
      "cell_type": "markdown",
      "metadata": {},
      "source": [
        "`-` 숫자 찾기"
      ],
      "id": "0b9dc6fe-72c8-44b1-98de-d178160fb327"
    },
    {
      "cell_type": "code",
      "execution_count": 261,
      "metadata": {},
      "outputs": [],
      "source": [
        "s = \"gc is 28 years\""
      ],
      "id": "63fd9a01-c50f-4e7e-9569-3bac1a613486"
    },
    {
      "cell_type": "code",
      "execution_count": 262,
      "metadata": {},
      "outputs": [],
      "source": [
        "re.findall(\"[0-9]\",s)"
      ],
      "id": "8ac79149-a6ef-4d10-a430-5ae6e158be7f"
    },
    {
      "cell_type": "markdown",
      "metadata": {},
      "source": [
        "### 두 문자 사이의 포함 여부 확인"
      ],
      "id": "be2e2989-815e-486f-9d31-9d29a073adf1"
    },
    {
      "cell_type": "code",
      "execution_count": 285,
      "metadata": {},
      "outputs": [],
      "source": [
        "s = \"sabe\""
      ],
      "id": "540cb8de-6999-44e0-8991-6674c27f3954"
    },
    {
      "cell_type": "markdown",
      "metadata": {},
      "source": [
        "-   `.`은 한글자를 대체하는 단어로 다음과 같은 패턴으로 활용할 수 있다."
      ],
      "id": "48decf1f-8119-40ae-9861-1b3d7e8ca3e0"
    },
    {
      "cell_type": "code",
      "execution_count": 287,
      "metadata": {},
      "outputs": [],
      "source": [
        "s"
      ],
      "id": "61372c5c-797c-4b04-aa45-64ed0817c540"
    },
    {
      "cell_type": "code",
      "execution_count": 288,
      "metadata": {},
      "outputs": [],
      "source": [
        "re.findall(\"a.e\",s) "
      ],
      "id": "74a143e0-9f1b-4425-961d-d32ea5d33caf"
    },
    {
      "cell_type": "markdown",
      "metadata": {},
      "source": [
        "### 문자 반복 확인\n",
        "\n",
        "`-` 일정한 패턴이 얼마나 반복되는지 아래와 같은 형식으로 확인할 수 있다."
      ],
      "id": "db225197-8ea3-4083-bbca-d6e86d223cbb"
    },
    {
      "cell_type": "code",
      "execution_count": 292,
      "metadata": {},
      "outputs": [],
      "source": [
        "s = \"gc gcc\""
      ],
      "id": "ce45a9a6-66db-4ee4-8ff1-49df49598e92"
    },
    {
      "cell_type": "code",
      "execution_count": 294,
      "metadata": {},
      "outputs": [],
      "source": [
        "s"
      ],
      "id": "5b4d1ae6-bca8-4a8d-bb88-20b55cfdf7ea"
    },
    {
      "cell_type": "markdown",
      "metadata": {},
      "source": [
        "-   `c`가 0회이상 반복"
      ],
      "id": "fb78b637-ef27-4984-a852-76e490f88c18"
    },
    {
      "cell_type": "code",
      "execution_count": 295,
      "metadata": {},
      "outputs": [],
      "source": [
        "re.findall(\"g*c\",s)"
      ],
      "id": "eef0d19d-6fa6-4e86-8cae-5a8a577e9160"
    },
    {
      "cell_type": "markdown",
      "metadata": {},
      "source": [
        "-   `c`가 1회 이상 반복"
      ],
      "id": "4395ea07-47f5-40e2-87e6-59ccd5f38bcd"
    },
    {
      "cell_type": "code",
      "execution_count": 298,
      "metadata": {},
      "outputs": [],
      "source": [
        "re.findall(\"gc{1}\",s)"
      ],
      "id": "c385b6e4-97c4-4bd7-80ba-7c52d09be9ed"
    },
    {
      "cell_type": "markdown",
      "metadata": {},
      "source": [
        "-   `c`가 1~2회 반복"
      ],
      "id": "7f687989-d4ed-4f94-8c90-d860e182b48c"
    },
    {
      "cell_type": "code",
      "execution_count": 299,
      "metadata": {},
      "outputs": [],
      "source": [
        "re.findall(\"gc{1,2}\",s)"
      ],
      "id": "07c82546-f815-4296-a5e6-8de5ed8c16a2"
    },
    {
      "cell_type": "markdown",
      "metadata": {},
      "source": [
        "-   `c`가 0에서 1회 반복"
      ],
      "id": "b7d91b9b-7448-4e70-9c75-c4984b8e7149"
    },
    {
      "cell_type": "code",
      "execution_count": 302,
      "metadata": {},
      "outputs": [],
      "source": [
        "re.findall(\"gc?\",s)"
      ],
      "id": "7f73f298-5512-4e30-9d10-034301bfd0e5"
    }
  ],
  "nbformat": 4,
  "nbformat_minor": 5,
  "metadata": {
    "kernelspec": {
      "name": "python3",
      "display_name": "Python 3 (ipykernel)",
      "language": "python"
    },
    "language_info": {
      "name": "python",
      "codemirror_mode": {
        "name": "ipython",
        "version": "3"
      },
      "file_extension": ".py",
      "mimetype": "text/x-python",
      "nbconvert_exporter": "python",
      "pygments_lexer": "ipython3",
      "version": "3.11.4"
    }
  }
}