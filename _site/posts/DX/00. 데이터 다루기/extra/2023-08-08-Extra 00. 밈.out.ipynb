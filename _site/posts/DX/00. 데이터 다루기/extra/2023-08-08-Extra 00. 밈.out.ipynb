{
  "cells": [
    {
      "cell_type": "markdown",
      "metadata": {},
      "source": [
        "# Extra 00. 밈\n",
        "\n",
        "GC  \n",
        "2023-08-08\n",
        "\n",
        "# 클래스 정의\n",
        "\n",
        "`-` 점프투파이썬 : 클래스는 과자틀과 비슷하다. 클래스란 똑같은\n",
        "무엇인가를 계속 만들어 낼 수도 잇는 설계도면이고 객체란 클래스로 만든\n",
        "피조물을 뜻한다.\n",
        "\n",
        "`-` 위키피디아 : 객체지향 프로그래밍에서 클래스는 상태(멤버 변수) 및\n",
        "동작 구현(멤버 함수 또는 메서드)에 대한 초기값을 제공하는 객체 생성을\n",
        "위한 확장 가능한 프로그램 코드 템플릿이다.\n",
        "\n",
        "`-` TCP 스쿨 : 클래스란 객체를 정의하는 틀 또는 설계도와 같은 의미로\n",
        "사용\n",
        "\n",
        "`-` **교수님 생각** : 클래스는 복제, 변형, 재생산을 용이하게 하기 위해\n",
        "만들어진 확장가능한 프로그램이 코드 단위(**extensible\n",
        "program-code-template**)이다.\n",
        "\n",
        "------------------------------------------------------------------------"
      ],
      "id": "173f3799-78fb-4383-962f-2fdb46d404f3"
    },
    {
      "cell_type": "code",
      "execution_count": 1,
      "metadata": {},
      "outputs": [],
      "source": [
        "from IPython.core.display import HTML"
      ],
      "id": "b3181b25-6eae-48df-b44c-5951ec76700c"
    },
    {
      "cell_type": "markdown",
      "metadata": {},
      "source": [
        "# 예비학습\n",
        "\n",
        "## $\\sum_{i=1}^{5} a^{i} \\quad a=0.5$\n",
        "\n",
        "`-` 방법1"
      ],
      "id": "79a687f2-8939-4246-ab6a-94fd35eb5edf"
    },
    {
      "cell_type": "code",
      "execution_count": 3,
      "metadata": {},
      "outputs": [],
      "source": [
        "a = 0.5"
      ],
      "id": "2e6aedf3-e22f-4466-aa07-4de2119a3878"
    },
    {
      "cell_type": "code",
      "execution_count": 4,
      "metadata": {},
      "outputs": [],
      "source": [
        "a + a**2 + a**3 + a**4 +a**5"
      ],
      "id": "3719a894-4a1a-4a88-8d7d-65cac996b1d7"
    },
    {
      "cell_type": "markdown",
      "metadata": {},
      "source": [
        "`-` 방법2"
      ],
      "id": "c1969b51-81d5-4782-a727-2b3d41e2df5b"
    },
    {
      "cell_type": "code",
      "execution_count": 6,
      "metadata": {},
      "outputs": [],
      "source": [
        "a + \\\n",
        "a**2 \\\n",
        "+ a**3 \\\n",
        "+ a**4\\\n",
        "+a**5"
      ],
      "id": "97fd5d37-cb17-4cd8-ad0b-acb4537e8d85"
    },
    {
      "cell_type": "markdown",
      "metadata": {},
      "source": [
        "### \\`\\`\\`으로 선언하는 문자열\n",
        "\n",
        "`-` 에시 1"
      ],
      "id": "38712def-8cd9-4869-9978-eae38f675a70"
    },
    {
      "cell_type": "code",
      "execution_count": 7,
      "metadata": {},
      "outputs": [
        {
          "output_type": "stream",
          "name": "stdout",
          "text": [
            "\n",
            "1. asdf\n",
            "2. sdfa\n",
            "3. dfas\n",
            "4. fasd\n"
          ]
        }
      ],
      "source": [
        "string = '\\n1. asdf\\n2. sdfa\\n3. dfas\\n4. fasd\\n'\n",
        "print(string)"
      ],
      "id": "45bb9a6a-ebaf-4275-910f-158462fcbb93"
    },
    {
      "cell_type": "code",
      "execution_count": 8,
      "metadata": {},
      "outputs": [
        {
          "output_type": "stream",
          "name": "stdout",
          "text": [
            "\n",
            "1. asdf\n",
            "2. sdfa\n",
            "3. dfas\n",
            "4. fasd\n"
          ]
        }
      ],
      "source": [
        "string = \\\n",
        "'''\n",
        "1. asdf\n",
        "2. sdfa\n",
        "3. dfas\n",
        "4. fasd\n",
        "'''\n",
        "print(string)"
      ],
      "id": "1160da76-25d7-4b1b-b1ef-c5c19bd958ff"
    },
    {
      "cell_type": "markdown",
      "metadata": {},
      "source": [
        "`-` 예시 2"
      ],
      "id": "20dc4851-a698-4cb0-a775-37efc805cd6e"
    },
    {
      "cell_type": "code",
      "execution_count": 11,
      "metadata": {},
      "outputs": [],
      "source": [
        "string = \\\n",
        "'''\n",
        "1. asdf\n",
        "2. sdfa\n",
        "3. dfas\n",
        "4. fasd\n",
        "5. {}\n",
        "6. {}\n",
        "'''"
      ],
      "id": "9f7eb5f9-cb8b-4962-9980-261aa2382a45"
    },
    {
      "cell_type": "code",
      "execution_count": 12,
      "metadata": {},
      "outputs": [
        {
          "output_type": "stream",
          "name": "stdout",
          "text": [
            "\n",
            "1. asdf\n",
            "2. sdfa\n",
            "3. dfas\n",
            "4. fasd\n",
            "5. aaa\n",
            "6. bbb\n"
          ]
        }
      ],
      "source": [
        "print(string.format(\"aaa\",\"bbb\"))"
      ],
      "id": "96011585-ba80-4ed5-b863-c3ea1d7097cb"
    },
    {
      "cell_type": "markdown",
      "metadata": {},
      "source": [
        "### HTML\n",
        "\n",
        "`-` 예제1. 텍스트 출력"
      ],
      "id": "ee13acee-985b-4b88-bb4b-8023da4022b8"
    },
    {
      "cell_type": "code",
      "execution_count": 27,
      "metadata": {},
      "outputs": [],
      "source": [
        "html_str = '''\n",
        "<p> 파이썬 프로그래밍 </p>\n",
        "'''"
      ],
      "id": "b05c50d4-1d82-446f-8270-d0f3450c17ac"
    },
    {
      "cell_type": "code",
      "execution_count": 28,
      "metadata": {},
      "outputs": [],
      "source": [
        "HTML(html_str)"
      ],
      "id": "3cc643d9-0c38-4381-b5f2-3b09def584bd"
    },
    {
      "cell_type": "markdown",
      "metadata": {},
      "source": [
        "`-` 예제 2 : 스타일 변경"
      ],
      "id": "2b7b6773-9029-484f-bacd-7876ab46bb68"
    },
    {
      "cell_type": "code",
      "execution_count": 56,
      "metadata": {},
      "outputs": [],
      "source": [
        "html_str = '''\n",
        "<style>\n",
        "    .title {\n",
        "         font-family : \"Times New Roman\", sefif;\n",
        "         font-size : 30px;\n",
        "         font-weight : 900;\n",
        "        }\n",
        "</style>\n",
        "<p class=\"title\"> 파이썬 프로그래밍 </p>\n",
        "'''"
      ],
      "id": "9c1542f9-d8ba-411c-bd53-7d405c86532f"
    },
    {
      "cell_type": "code",
      "execution_count": 57,
      "metadata": {},
      "outputs": [],
      "source": [
        "HTML(html_str)"
      ],
      "id": "011b90d3-2941-4224-8720-62b9eb80de84"
    },
    {
      "cell_type": "markdown",
      "metadata": {},
      "source": [
        "`-` 예제 3 : 이미지 삽입"
      ],
      "id": "d98b1646-3f49-4249-a000-23814c7c8c53"
    },
    {
      "cell_type": "code",
      "execution_count": 69,
      "metadata": {},
      "outputs": [],
      "source": [
        "html_str = '''\n",
        "\n",
        "<img src = \"hani.jpeg\" width = 300>\n",
        "'''"
      ],
      "id": "6730d4f3-cac8-4f34-bfc7-99be15f56d6d"
    },
    {
      "cell_type": "code",
      "execution_count": 70,
      "metadata": {},
      "outputs": [],
      "source": [
        "HTML(html_str)"
      ],
      "id": "6abd8445-e1b5-47ad-9a78-a635be64f126"
    },
    {
      "cell_type": "code",
      "execution_count": 71,
      "metadata": {},
      "outputs": [],
      "source": [
        "display(HTML(html_str))"
      ],
      "id": "e3a935ec-3e32-48a8-97f5-670d3e2db280"
    },
    {
      "cell_type": "markdown",
      "metadata": {},
      "source": [
        "# 밈 구현\n",
        "\n",
        "## 1단계 : 밈의 구상\n",
        "\n",
        "-   title : 타이틀에 해당하는 텍스트\n",
        "\n",
        "-   img : 데프트의 인터뷰 이미지\n",
        "\n",
        "-   Q : 인터뷰 질문에 해당하는 텍스트 **(.text)**\n",
        "\n",
        "-   A : 인터뷰 답변에 해당하는 텍스트 **(.text)**\n",
        "\n",
        "-   highlight : “마음”"
      ],
      "id": "d816ab0f-3908-4f9e-9894-3be78d24402f"
    },
    {
      "cell_type": "code",
      "execution_count": 72,
      "metadata": {},
      "outputs": [],
      "source": [
        "html_str = '''\n",
        "<style>\n",
        "    .title {\n",
        "        font-family: \"Times New Roman\", serif;\n",
        "        font-size: 30px;\n",
        "        font-weight: 900;\n",
        "    }\n",
        "    .text {\n",
        "        font-family: \"Arial\", sans-serif;\n",
        "        font-size: 20px;\n",
        "        font-style: italic;\n",
        "    }\n",
        "    .highlight {\n",
        "        font-family: \"Montserrat\", monospace;\n",
        "        font-size: 35px;\n",
        "        font-weight: 900;\n",
        "        text-decoration: underline; ## 밑줄\n",
        "        font-style: normal;\n",
        "        color: darkblue;\n",
        "        background-color: #FFFF00;\n",
        "    }\n",
        "</style>\n",
        "\n",
        "<p class=\"title\">RGE전 패배는 괜찮다.</p>\n",
        "<img src=https://github.com/guebin/PP2023/blob/main/posts/03_Class/JungGGuckMa.jpg?raw=true width=\"600\">\n",
        "<p> \\n </p>\n",
        "<p class=\"text\"> Q: 로그와 2라운드 재대결, 어떤 점에 유의해야 할까?</p>\n",
        "<p class=\"text\"> A: 상대팀에 대해서 더 분석할 건 없는 것 같고, 저희가 저희 플레이 잘하는 게 제일 중요한 것 같고 오늘 지긴 했지만 저희끼리만 안 무너지면 충분히 이길 수 있을 것 같아요.\n",
        "<p class=\"title\">중요한 것은 꺾이지 않는 <span class=\"highlight\">마음</span></p>\n",
        "'''"
      ],
      "id": "767db2fd-fa0f-4e77-98a2-fce8351e1e60"
    },
    {
      "cell_type": "code",
      "execution_count": 74,
      "metadata": {},
      "outputs": [],
      "source": [
        "display(HTML(html_str))"
      ],
      "id": "5517daae-2e73-44e1-b896-9a7481e15729"
    },
    {
      "cell_type": "markdown",
      "metadata": {},
      "source": [
        "## 2단계 : 양식틀의 완성(함수 이용)"
      ],
      "id": "cf6df961-fe11-4ea8-92b1-340a50955a9b"
    },
    {
      "cell_type": "code",
      "execution_count": 91,
      "metadata": {},
      "outputs": [],
      "source": [
        "html_str = '''\n",
        "<style>\n",
        "    .title {{\n",
        "        font-family: \"Times New Roman\", serif;\n",
        "        font-size: 30px;\n",
        "        font-weight: 900;\n",
        "    }}\n",
        "    .text {{\n",
        "        font-family: \"Arial\", sans-serif;\n",
        "        font-size: 20px;\n",
        "        font-style: italic;\n",
        "    }}\n",
        "    .highlight {{\n",
        "        font-family: \"Montserrat\", monospace;\n",
        "        font-size: 35px;\n",
        "        font-weight: 900;\n",
        "        text-decoration: underline; ## 밑줄\n",
        "        font-style: normal;\n",
        "        color: darkblue;\n",
        "        background-color: #FFFF00;\n",
        "    }}\n",
        "</style>\n",
        "\n",
        "<p class=\"title\">{tt1}</p>\n",
        "<img src={url} width=\"600\">\n",
        "<p> \\n </p>\n",
        "<p class=\"text\"> {Q}</p>\n",
        "<p class=\"text\"> {A}: 상대팀에 대해서 더 분석할 건 없는 것 같고, 저희가 저희 플레이 잘하는 게 제일 중요한 것 같고 오늘 지긴 했지만 저희끼리만 안 무너지면 충분히 이길 수 있을 것 같아요.\n",
        "<p class=\"title\">중요한 것은 꺾이지 않는 <span class=\"highlight\"> {h1} </span></p>\n",
        "'''"
      ],
      "id": "d03bc831-2a69-4f83-b02b-08c24a90ae8e"
    },
    {
      "cell_type": "code",
      "execution_count": 99,
      "metadata": {},
      "outputs": [],
      "source": [
        "title = \"중요한건 꺽이지 않는 마음\"\n",
        "\n",
        "url = \"https://github.com/guebin/PP2023/blob/main/posts/03_Class/JungGGuckMa.jpg?raw=true\"\n",
        "\n",
        "Q = \"Q: 로그와 2라운드 재대결, 어떤 점에 유의해야 할까\"\n",
        "\n",
        "A = \"A: 상대팀에 대해서 더 분석할 건 없는 것 같고, 저희가 저희 플레이 잘하는 게 제일 중요한 것 같고 오늘 지긴 했지만 저희끼리만 안 무너지면 충분히 이길 수 있을 것 같아요.\"\n",
        "\n",
        "h1 = \"마음\""
      ],
      "id": "90064674-6d28-4a77-a9c1-bdbad0963ea6"
    },
    {
      "cell_type": "code",
      "execution_count": 100,
      "metadata": {},
      "outputs": [],
      "source": [
        "_str = html_str.format(\n",
        "    tt1 = title,\n",
        "    url = url,\n",
        "    Q = Q,\n",
        "    A = A,\n",
        "    h1 = h1\n",
        ")\n",
        "display(HTML(_str))"
      ],
      "id": "1bec93ac-2d85-4b99-8c59-c4b0e93969ef"
    },
    {
      "cell_type": "markdown",
      "metadata": {},
      "source": [
        "## 3단계 : 밈놀이(함수)"
      ],
      "id": "221f6916-c183-49a6-a47b-36ca07099165"
    },
    {
      "cell_type": "code",
      "execution_count": 106,
      "metadata": {},
      "outputs": [],
      "source": [
        "def JM (html_str,title,url,Q,A,h1) : \n",
        "    _str = html_str.format(\n",
        "        tt1 = title,\n",
        "        url = url,\n",
        "        Q = Q,\n",
        "        A = A,\n",
        "        h1 = h1\n",
        "    )\n",
        "    display(HTML(_str))"
      ],
      "id": "f91ef9a9-bb15-45da-a55a-5f4f82b7ab88"
    },
    {
      "cell_type": "code",
      "execution_count": 108,
      "metadata": {},
      "outputs": [],
      "source": [
        "JM(html_str,title,url,Q,A,h1)"
      ],
      "id": "08908101-dd06-4450-be19-8eb15731d042"
    },
    {
      "cell_type": "markdown",
      "metadata": {},
      "source": [
        "### 이러한 코드들의 비판\n",
        "\n",
        "`-` 변수들이 정리가 되어있지 않고 산만함\n",
        "\n",
        "## 4단계 밈놀이 (클래스)\n",
        "\n",
        "`-` 클래스 선언 : 도화지 만들기"
      ],
      "id": "f1b8a91a-61ad-4abc-af57-0aadc573d64f"
    },
    {
      "cell_type": "code",
      "execution_count": 110,
      "metadata": {},
      "outputs": [],
      "source": [
        "class jkm :\n",
        "     pass"
      ],
      "id": "7fec6131-d81b-4de6-969f-2157622284a7"
    },
    {
      "cell_type": "code",
      "execution_count": 112,
      "metadata": {},
      "outputs": [],
      "source": [
        "test = jkm()\n",
        "test"
      ],
      "id": "1b5511c8-f978-4b42-badc-d3e217332615"
    },
    {
      "cell_type": "markdown",
      "metadata": {},
      "source": [
        "### 뼈대 생성"
      ],
      "id": "23654770-1a63-4a24-be9e-955afdebbcb7"
    },
    {
      "cell_type": "code",
      "execution_count": 113,
      "metadata": {},
      "outputs": [],
      "source": [
        "test.title = \"중요한건 꺽이지 않는 마음\"\n",
        "\n",
        "test.url = \"https://github.com/guebin/PP2023/blob/main/posts/03_Class/JungGGuckMa.jpg?raw=true\"\n",
        "\n",
        "test.Q = \"Q: 로그와 2라운드 재대결, 어떤 점에 유의해야 할까\"\n",
        "\n",
        "test.A = \"A: 상대팀에 대해서 더 분석할 건 없는 것 같고, 저희가 저희 플레이 잘하는 게 제일 중요한 것 같고 오늘 지긴 했지만 저희끼리만 안 무너지면 충분히 이길 수 있을 것 같아요.\"\n",
        "\n",
        "test.h1 = \"마음\"\n",
        "\n",
        "test.html_str =  '''\n",
        "<style>\n",
        "    .title {{\n",
        "        font-family: \"Times New Roman\", serif;\n",
        "        font-size: 30px;\n",
        "        font-weight: 900;\n",
        "    }}\n",
        "    .text {{\n",
        "        font-family: \"Arial\", sans-serif;\n",
        "        font-size: 20px;\n",
        "        font-style: italic;\n",
        "    }}\n",
        "    .highlight {{\n",
        "        font-family: \"Montserrat\", monospace;\n",
        "        font-size: 35px;\n",
        "        font-weight: 900;\n",
        "        text-decoration: underline; ## 밑줄\n",
        "        font-style: normal;\n",
        "        color: darkblue;\n",
        "        background-color: #FFFF00;\n",
        "    }}\n",
        "</style>\n",
        "\n",
        "<p class=\"title\">{tt1}</p>\n",
        "<img src={url} width=\"600\">\n",
        "<p> \\n </p>\n",
        "<p class=\"text\"> {Q}</p>\n",
        "<p class=\"text\"> {A}: 상대팀에 대해서 더 분석할 건 없는 것 같고, 저희가 저희 플레이 잘하는 게 제일 중요한 것 같고 오늘 지긴 했지만 저희끼리만 안 무너지면 충분히 이길 수 있을 것 같아요.\n",
        "<p class=\"title\">중요한 것은 꺾이지 않는 <span class=\"highlight\"> {h1} </span></p>\n",
        "'''"
      ],
      "id": "a6613ecf-1926-4e2f-b378-5428a962f9cb"
    },
    {
      "cell_type": "markdown",
      "metadata": {},
      "source": [
        "### show 함수선언"
      ],
      "id": "1c53bbe2-4eb7-42a0-baaf-a4520d5e4c20"
    },
    {
      "cell_type": "code",
      "execution_count": 117,
      "metadata": {},
      "outputs": [],
      "source": [
        "def show(test):\n",
        "    _str = test.html_str.format(\n",
        "        tt1 = test.title,\n",
        "        url = test.url,\n",
        "        Q = test.Q,\n",
        "        A = test.A,\n",
        "        h1 = test.h1\n",
        "    )\n",
        "    display(HTML(_str))"
      ],
      "id": "8fefacb1-255b-4eb2-b445-21ab329b83d5"
    },
    {
      "cell_type": "code",
      "execution_count": 118,
      "metadata": {},
      "outputs": [],
      "source": [
        "show(test)"
      ],
      "id": "5b4f0efb-1f49-4da4-8935-2010705796d4"
    }
  ],
  "nbformat": 4,
  "nbformat_minor": 5,
  "metadata": {
    "kernelspec": {
      "name": "python3",
      "display_name": "Python 3 (ipykernel)",
      "language": "python"
    },
    "language_info": {
      "name": "python",
      "codemirror_mode": {
        "name": "ipython",
        "version": "3"
      },
      "file_extension": ".py",
      "mimetype": "text/x-python",
      "nbconvert_exporter": "python",
      "pygments_lexer": "ipython3",
      "version": "3.11.4"
    }
  }
}