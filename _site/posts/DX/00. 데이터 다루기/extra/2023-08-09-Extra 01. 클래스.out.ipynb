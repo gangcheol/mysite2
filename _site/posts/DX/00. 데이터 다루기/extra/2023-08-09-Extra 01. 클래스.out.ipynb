{
  "cells": [
    {
      "cell_type": "markdown",
      "metadata": {},
      "source": [
        "# Extra 01. 클래스\n",
        "\n",
        "GC  \n",
        "2023-08-09\n",
        "\n",
        "# 복기"
      ],
      "id": "41d05863-a3e2-4266-a631-4713296ce656"
    },
    {
      "cell_type": "code",
      "execution_count": 6,
      "metadata": {},
      "outputs": [],
      "source": [
        "from IPython.core.display import HTML"
      ],
      "id": "6a814041-3c1f-4d69-a0c5-129a0f521749"
    },
    {
      "cell_type": "markdown",
      "metadata": {},
      "source": [
        "## 1단계 : 도화지 생성"
      ],
      "id": "2a116d63-5800-46ad-9f70-c4d5fa25142e"
    },
    {
      "cell_type": "code",
      "execution_count": 1,
      "metadata": {},
      "outputs": [],
      "source": [
        "class jkm :\n",
        "     pass"
      ],
      "id": "e222999b-c937-42ae-842a-af099f6bd8af"
    },
    {
      "cell_type": "code",
      "execution_count": 2,
      "metadata": {},
      "outputs": [],
      "source": [
        "test = jkm()\n",
        "test"
      ],
      "id": "825ea71c-9620-4553-9c74-adf30c00bcc2"
    },
    {
      "cell_type": "markdown",
      "metadata": {},
      "source": [
        "## 2단계 : 뼈대 생성"
      ],
      "id": "f92fb457-96f0-4249-b569-303b76b6b799"
    },
    {
      "cell_type": "code",
      "execution_count": 3,
      "metadata": {},
      "outputs": [],
      "source": [
        "test.title = \"중요한건 꺽이지 않는 마음\"\n",
        "\n",
        "test.url = \"https://github.com/guebin/PP2023/blob/main/posts/03_Class/JungGGuckMa.jpg?raw=true\"\n",
        "\n",
        "test.Q = \"Q: 로그와 2라운드 재대결, 어떤 점에 유의해야 할까\"\n",
        "\n",
        "test.A = \"A: 상대팀에 대해서 더 분석할 건 없는 것 같고, 저희가 저희 플레이 잘하는 게 제일 중요한 것 같고 오늘 지긴 했지만 저희끼리만 안 무너지면 충분히 이길 수 있을 것 같아요.\"\n",
        "\n",
        "test.h1 = \"마음\"\n",
        "\n",
        "test.html_str =  '''\n",
        "<style>\n",
        "    .title {{\n",
        "        font-family: \"Times New Roman\", serif;\n",
        "        font-size: 30px;\n",
        "        font-weight: 900;\n",
        "    }}\n",
        "    .text {{\n",
        "        font-family: \"Arial\", sans-serif;\n",
        "        font-size: 20px;\n",
        "        font-style: italic;\n",
        "    }}\n",
        "    .highlight {{\n",
        "        font-family: \"Montserrat\", monospace;\n",
        "        font-size: 35px;\n",
        "        font-weight: 900;\n",
        "        text-decoration: underline; ## 밑줄\n",
        "        font-style: normal;\n",
        "        color: darkblue;\n",
        "        background-color: #FFFF00;\n",
        "    }}\n",
        "</style>\n",
        "\n",
        "<p class=\"title\">{tt1}</p>\n",
        "<img src={url} width=\"600\">\n",
        "<p> \\n </p>\n",
        "<p class=\"text\"> {Q}</p>\n",
        "<p class=\"text\"> {A}: 상대팀에 대해서 더 분석할 건 없는 것 같고, 저희가 저희 플레이 잘하는 게 제일 중요한 것 같고 오늘 지긴 했지만 저희끼리만 안 무너지면 충분히 이길 수 있을 것 같아요.\n",
        "<p class=\"title\">중요한 것은 꺾이지 않는 <span class=\"highlight\"> {h1} </span></p>\n",
        "'''"
      ],
      "id": "e81c2ed7-02c1-439c-b0e2-9b269488adf0"
    },
    {
      "cell_type": "markdown",
      "metadata": {},
      "source": [
        "## 3단계 : show 함수 작성"
      ],
      "id": "f7452cba-a9ed-493f-90da-c9ef4a8796b6"
    },
    {
      "cell_type": "code",
      "execution_count": 4,
      "metadata": {},
      "outputs": [],
      "source": [
        "def show(test):\n",
        "    _str = test.html_str.format(\n",
        "        tt1 = test.title,\n",
        "        url = test.url,\n",
        "        Q = test.Q,\n",
        "        A = test.A,\n",
        "        h1 = test.h1\n",
        "    )\n",
        "    display(HTML(_str))"
      ],
      "id": "a104c389-e3b3-4037-8544-ff07262e7b01"
    },
    {
      "cell_type": "code",
      "execution_count": 7,
      "metadata": {},
      "outputs": [],
      "source": [
        "show(test)"
      ],
      "id": "1779ff92-b06e-49ee-a4c1-a8d48e611f18"
    },
    {
      "cell_type": "markdown",
      "metadata": {},
      "source": [
        "------------------------------------------------------------------------\n",
        "\n",
        "# 함수를 클래스에 종속\n",
        "\n",
        "`-` 현재 show라는 함수는 클래스 외부에 독립적으로 존재하는 함수이다.\n",
        "\n",
        "`-` 어차피 show는 우리가 생성한 `밈` 객체를 입력받으므로 클래스안에\n",
        "종속시키는 것이 더 좋을 것 같다.\n",
        "\n",
        "## self\n",
        "\n",
        "`-` `self`는 `밈` 클래스에서 생성할 인스턴스의 이름을 대신한다.\n",
        "\n",
        "`-` jkm이라는 클래스에 다음과 같이 `show`함수를 종속 시키자"
      ],
      "id": "3bd09cb3-30fe-4f42-bb68-a2360a5caf48"
    },
    {
      "cell_type": "code",
      "execution_count": 26,
      "metadata": {},
      "outputs": [],
      "source": [
        "class jkm:\n",
        "    def show(self):\n",
        "        _str = self.html_str.format(\n",
        "            tt1 = self.title,\n",
        "            url = self.url,\n",
        "            Q = self.Q,\n",
        "            A = self.A,\n",
        "            h1 = self.h1 )\n",
        "        display(HTML(_str))"
      ],
      "id": "f57e1232-4f7f-4f98-80f9-6d92e3cd7c83"
    },
    {
      "cell_type": "code",
      "execution_count": 27,
      "metadata": {},
      "outputs": [],
      "source": [
        "test  = jkm()"
      ],
      "id": "6d52b1c0-f296-4372-a036-51273268d841"
    },
    {
      "cell_type": "code",
      "execution_count": 28,
      "metadata": {},
      "outputs": [],
      "source": [
        "test.title = \"중요한건 꺽이지 않는 마음\"\n",
        "\n",
        "test.url = \"https://github.com/guebin/PP2023/blob/main/posts/03_Class/JungGGuckMa.jpg?raw=true\"\n",
        "\n",
        "test.Q = \"Q: 로그와 2라운드 재대결, 어떤 점에 유의해야 할까\"\n",
        "\n",
        "test.A = \"A: 상대팀에 대해서 더 분석할 건 없는 것 같고, 저희가 저희 플레이 잘하는 게 제일 중요한 것 같고 오늘 지긴 했지만 저희끼리만 안 무너지면 충분히 이길 수 있을 것 같아요.\"\n",
        "\n",
        "test.h1 = \"마음\"\n",
        "\n",
        "test.html_str =  '''\n",
        "<style>\n",
        "    .title {{\n",
        "        font-family: \"Times New Roman\", serif;\n",
        "        font-size: 30px;\n",
        "        font-weight: 900;\n",
        "    }}\n",
        "    .text {{\n",
        "        font-family: \"Arial\", sans-serif;\n",
        "        font-size: 20px;\n",
        "        font-style: italic;\n",
        "    }}\n",
        "    .highlight {{\n",
        "        font-family: \"Montserrat\", monospace;\n",
        "        font-size: 35px;\n",
        "        font-weight: 900;\n",
        "        text-decoration: underline; ## 밑줄\n",
        "        font-style: normal;\n",
        "        color: darkblue;\n",
        "        background-color: #FFFF00;\n",
        "    }}\n",
        "</style>\n",
        "\n",
        "<p class=\"title\">{tt1}</p>\n",
        "<img src={url} width=\"600\">\n",
        "<p> \\n </p>\n",
        "<p class=\"text\"> {Q}</p>\n",
        "<p class=\"text\"> {A}: 상대팀에 대해서 더 분석할 건 없는 것 같고, 저희가 저희 플레이 잘하는 게 제일 중요한 것 같고 오늘 지긴 했지만 저희끼리만 안 무너지면 충분히 이길 수 있을 것 같아요.\n",
        "<p class=\"title\">중요한 것은 꺾이지 않는 <span class=\"highlight\"> {h1} </span></p>\n",
        "'''"
      ],
      "id": "416d6f95-94f3-44d9-b80b-89a5c3e443b2"
    },
    {
      "cell_type": "code",
      "execution_count": 29,
      "metadata": {},
      "outputs": [],
      "source": [
        "test.show()"
      ],
      "id": "769d4bd0-287c-4845-8bf5-aaa01c0ed54d"
    },
    {
      "cell_type": "markdown",
      "metadata": {},
      "source": [
        "------------------------------------------------------------------------\n",
        "\n",
        "## init\n",
        "\n",
        "### 모티브\n",
        "\n",
        "`-` 인스턴스를 생성할 떄마다 변수를 선언하는 것이 귀찮음….\n",
        "\n",
        "`-` 초기값을 정의하는 함수 또한 클래스안에 정의해주자\n",
        "\n",
        "### 뼈대 작성"
      ],
      "id": "34d5301d-ad8f-4f17-8216-8ff802fd913c"
    },
    {
      "cell_type": "code",
      "execution_count": 31,
      "metadata": {},
      "outputs": [],
      "source": [
        "class jkm:\n",
        "    def __init__(self) :\n",
        "        self.title = \"중요한건 꺽이지 않는 마음\"\n",
        "\n",
        "        self.url = \"https://github.com/guebin/PP2023/blob/main/posts/03_Class/JungGGuckMa.jpg?raw=true\"\n",
        "\n",
        "        self.Q = \"Q: 로그와 2라운드 재대결, 어떤 점에 유의해야 할까\"\n",
        "\n",
        "        self.A = \"A: 상대팀에 대해서 더 분석할 건 없는 것 같고, 저희가 저희 플레이 잘하는 게 제일 중요한 것 같고 오늘 지긴 했지만 저희끼리만 안 무너지면 충분히 이길 수 있을 것 같아요.\"\n",
        "\n",
        "        self.h1 = \"마음\"\n",
        "\n",
        "        self.html_str =  '''\n",
        "                    <style>\n",
        "                        .title {{\n",
        "                            font-family: \"Times New Roman\", serif;\n",
        "                            font-size: 30px;\n",
        "                            font-weight: 900;\n",
        "                        }}\n",
        "                        .text {{\n",
        "                            font-family: \"Arial\", sans-serif;\n",
        "                            font-size: 20px;\n",
        "                            font-style: italic;\n",
        "                        }}\n",
        "                        .highlight {{\n",
        "                            font-family: \"Montserrat\", monospace;\n",
        "                            font-size: 35px;\n",
        "                            font-weight: 900;\n",
        "                            text-decoration: underline; ## 밑줄\n",
        "                            font-style: normal;\n",
        "                            color: darkblue;\n",
        "                            background-color: #FFFF00;\n",
        "                        }}\n",
        "                    </style>\n",
        "\n",
        "                    <p class=\"title\">{tt1}</p>\n",
        "                    <img src={url} width=\"600\">\n",
        "                    <p> \\n </p>\n",
        "                    <p class=\"text\"> {Q}</p>\n",
        "                    <p class=\"text\"> {A}: 상대팀에 대해서 더 분석할 건 없는 것 같고, 저희가 저희 플레이 잘하는 게 제일 중요한 것 같고 오늘 지긴 했지만 저희끼리만 안 무너지면 충분히 이길 수 있을 것 같아요.\n",
        "                    <p class=\"title\">중요한 것은 꺾이지 않는 <span class=\"highlight\"> {h1} </span></p>\n",
        "                    '''\n",
        "        \n",
        "    def show(self):\n",
        "        _str = self.html_str.format(\n",
        "            tt1 = self.title,\n",
        "            url = self.url,\n",
        "            Q = self.Q,\n",
        "            A = self.A,\n",
        "            h1 = self.h1 )\n",
        "        display(HTML(_str))"
      ],
      "id": "c0d9cf34-4d6f-4348-8a44-bdf923e75441"
    },
    {
      "cell_type": "code",
      "execution_count": 32,
      "metadata": {},
      "outputs": [],
      "source": [
        "test = jkm()"
      ],
      "id": "b9d66f11-8390-41f4-8d63-47eb5c7b1f7b"
    },
    {
      "cell_type": "markdown",
      "metadata": {},
      "source": [
        "### SHOW"
      ],
      "id": "f9207382-0358-4bce-9f5d-1a5f359fd0e7"
    },
    {
      "cell_type": "code",
      "execution_count": 35,
      "metadata": {},
      "outputs": [],
      "source": [
        "test.show()"
      ],
      "id": "0e723885-510a-4dc1-80df-9b3b51c70eb8"
    },
    {
      "cell_type": "markdown",
      "metadata": {},
      "source": [
        "------------------------------------------------------------------------\n",
        "\n",
        "# Excercise\n",
        "\n",
        "## ex1.클래스 내에 hello라는 메소드를 정의하고 출력하라"
      ],
      "id": "73a06c60-934c-4163-b7d0-f70f3d09ac49"
    },
    {
      "cell_type": "code",
      "execution_count": 36,
      "metadata": {},
      "outputs": [],
      "source": [
        "class ex1 :\n",
        "    def hello(self):\n",
        "        print(\"안녕하세요\")\n",
        "        \n",
        "ex1 = ex1()"
      ],
      "id": "73ebc935-5e6b-49ec-8406-578530931243"
    },
    {
      "cell_type": "code",
      "execution_count": 38,
      "metadata": {},
      "outputs": [
        {
          "output_type": "stream",
          "name": "stdout",
          "text": [
            "안녕하세요"
          ]
        }
      ],
      "source": [
        "ex1.hello()"
      ],
      "id": "3ad42040-dae7-4f2f-b085-4c765da1cfa0"
    },
    {
      "cell_type": "markdown",
      "metadata": {},
      "source": [
        "## ex2. 아래의 조건에 맞는 클래스를 구현\n",
        "\n",
        "`1` “클래스 $\\to$ 인스턴스”의 과정에서 변수 `a`가 `True`로 초기설정된다.\n",
        "\n",
        "`2` 클래스에는 show()라는 메소드가 정의되어 있으며, show()의 기능은 a의\n",
        "값을 print하는 기능을 한다."
      ],
      "id": "5bdd3741-904e-4b10-8924-8737d8407905"
    },
    {
      "cell_type": "code",
      "execution_count": 41,
      "metadata": {},
      "outputs": [],
      "source": [
        "class ex2 :\n",
        "     def __init__(self) :\n",
        "            self.a = True\n",
        "     def show(self) :\n",
        "         print(self.a)"
      ],
      "id": "3fbfb1da-56ee-45b0-a2d6-c36f5395006f"
    },
    {
      "cell_type": "code",
      "execution_count": 42,
      "metadata": {},
      "outputs": [],
      "source": [
        "ex2 = ex2()"
      ],
      "id": "1ecbd278-4ddd-4d58-8ac4-6cd7e9ed796e"
    },
    {
      "cell_type": "code",
      "execution_count": 43,
      "metadata": {},
      "outputs": [
        {
          "output_type": "stream",
          "name": "stdout",
          "text": [
            "True"
          ]
        }
      ],
      "source": [
        "ex2.show()"
      ],
      "id": "d79def21-95fe-489e-9d0a-d5f260b5ab87"
    },
    {
      "cell_type": "markdown",
      "metadata": {},
      "source": [
        "## ex3. 아래에 조건에 맞는 클래스를 구현하라.\n",
        "\n",
        "`1` “클래스 $\\to$인스턴스”의 과정에서 변수 a가 True 로 초기설정된다.\n",
        "\n",
        "`2`. 클래스에는 toggle() 이라는 메소드가 정의되어 있다. 이 기능은 변수\n",
        "a의 값이 True 이면 False 로, False 이면 True 로 바꾸는 역할을 한다.\n",
        "\n",
        "`3`. 클래스에는 show()라는 메소드가 정의되어 있다. 이 기능은 a의 값을\n",
        "print 하는 기능을 한다."
      ],
      "id": "6cfee5e3-bbcb-4e95-9d3f-7154552c5e8c"
    },
    {
      "cell_type": "code",
      "execution_count": 68,
      "metadata": {},
      "outputs": [],
      "source": [
        "class ex3: \n",
        "    def __init__(self) :\n",
        "        self.a = True\n",
        "    def toggle(self):\n",
        "        self.a = not self.a\n",
        "    def show(self) :\n",
        "        print(self.a)"
      ],
      "id": "e2c15eb2-a567-44f9-a968-4bc9f823e469"
    },
    {
      "cell_type": "code",
      "execution_count": 71,
      "metadata": {},
      "outputs": [],
      "source": [
        "test = ex3()"
      ],
      "id": "8be22f1e-c32c-47cb-a605-1870e32a8a06"
    },
    {
      "cell_type": "code",
      "execution_count": 72,
      "metadata": {},
      "outputs": [],
      "source": [
        "test.a"
      ],
      "id": "7cbbe661-3f95-43bc-ae57-e8f4774880f4"
    },
    {
      "cell_type": "code",
      "execution_count": 74,
      "metadata": {},
      "outputs": [],
      "source": [
        "test.toggle()"
      ],
      "id": "802c76b4-cf7b-4320-92e7-b9beb8b33523"
    },
    {
      "cell_type": "code",
      "execution_count": 75,
      "metadata": {},
      "outputs": [],
      "source": [
        "test.a"
      ],
      "id": "ab05c34f-53b0-4ee1-a116-4ec768b57705"
    },
    {
      "cell_type": "code",
      "execution_count": 76,
      "metadata": {},
      "outputs": [
        {
          "output_type": "stream",
          "name": "stdout",
          "text": [
            "False"
          ]
        }
      ],
      "source": [
        "test.show()"
      ],
      "id": "4b0fe1ad-481f-4713-9cee-8673f2605ebc"
    },
    {
      "cell_type": "markdown",
      "metadata": {},
      "source": [
        "## ex4. 아래 조건에 맞는 클래스를 구현\n",
        "\n",
        "`1` “클래스 $\\to$ 인스턴스”의 과정에서 변수 a가 0으로 초기설정된다.\n",
        "\n",
        "`2` 클래스에는 `up()`이라는 메소드가 정의되어 있따. `up()`의 기능은 a의\n",
        "값을 1증가 시키는 기능을 한다.\n",
        "\n",
        "`3` 클래스에는 `show()`라는 메소드가 정의되어 있다. `show()`의 기능은\n",
        "a의값을 print하다."
      ],
      "id": "3e080023-e8d5-42b8-b92d-d212652af30e"
    },
    {
      "cell_type": "code",
      "execution_count": 110,
      "metadata": {},
      "outputs": [],
      "source": [
        "class ex4: \n",
        "    def __init__(self) :\n",
        "        self.a = 1\n",
        "    def up(self):\n",
        "        self.a += 1\n",
        "    def show(self) :\n",
        "        print(self.a)"
      ],
      "id": "4817e010-0d7c-4b18-96f6-a563d9253b25"
    },
    {
      "cell_type": "code",
      "execution_count": 111,
      "metadata": {},
      "outputs": [],
      "source": [
        "ex4 = ex4()"
      ],
      "id": "4b9911fd-90c2-4e2a-a9d9-e8cee532b8a3"
    },
    {
      "cell_type": "code",
      "execution_count": 112,
      "metadata": {},
      "outputs": [],
      "source": [
        "ex4.up()"
      ],
      "id": "7cadd1f6-cba7-41eb-b68a-3fbbcd66f1d7"
    },
    {
      "cell_type": "code",
      "execution_count": 113,
      "metadata": {},
      "outputs": [],
      "source": [
        "ex4.a"
      ],
      "id": "b2260d1b-5f0f-44be-afc7-c26c83b52e76"
    },
    {
      "cell_type": "code",
      "execution_count": 86,
      "metadata": {},
      "outputs": [
        {
          "output_type": "stream",
          "name": "stdout",
          "text": [
            "1"
          ]
        }
      ],
      "source": [
        "ex4.show()"
      ],
      "id": "d39ccdc0-600a-4d5c-a0f1-1c5d3b455081"
    },
    {
      "cell_type": "markdown",
      "metadata": {},
      "source": [
        "## ex5. 아래 조건에 맞는 클래스를 구현하라.\n",
        "\n",
        "`1` 클래스 $\\to$ 인스턴스” 과정에서 변수 a의 값이 사용자가 입력한 값으로\n",
        "초기 설정된다.\n",
        "\n",
        "`2` 클래스에는 `show()`라는 메소드가 정의되어 있다. `show()`의 기능은\n",
        "a의 값을 print한다."
      ],
      "id": "2f21960e-ef57-4a3c-9693-7f5269dd1619"
    },
    {
      "cell_type": "code",
      "execution_count": 87,
      "metadata": {},
      "outputs": [],
      "source": [
        "class ex5 :\n",
        "    def __init__(self,value):\n",
        "         self.a = value\n",
        "    def show(self) :\n",
        "         print(self.a)"
      ],
      "id": "4cd3ef87-50c1-4782-a2b7-958103819d7b"
    },
    {
      "cell_type": "code",
      "execution_count": 89,
      "metadata": {},
      "outputs": [],
      "source": [
        "ex5 = ex5(1)"
      ],
      "id": "ac4ec795-bd12-4b24-a4f3-9a791e16e5c3"
    },
    {
      "cell_type": "code",
      "execution_count": 90,
      "metadata": {},
      "outputs": [
        {
          "output_type": "stream",
          "name": "stdout",
          "text": [
            "1"
          ]
        }
      ],
      "source": [
        "ex5.show()"
      ],
      "id": "f424648e-f0ff-4b08-974c-3d9d65875312"
    },
    {
      "cell_type": "markdown",
      "metadata": {},
      "source": [
        "## ex6. 다음 조건을 만족하는 클래스를 구현하라.\n",
        "\n",
        "1.  “클래스 인스턴스”의 과정에서 변수 a가 0으로 초기설정된다.\n",
        "\n",
        "2.  클래스에는 up()라는 메소드가 정의되어 있다. up()의 기능은 a의 값을\n",
        "    1증가시키는 기능을 한다.\n",
        "\n",
        "3.  클래스에는 jump()라는 메소드가 정의되어 있다. jump()는 jump_size 를\n",
        "    입력으로 받으며 a의 값을 jump_size 만큼 증가시키는 기능을 한다.\n",
        "\n",
        "4.  클래스에는 show()라는 메소드가 정의되어 있다. show()의 기능은 a의\n",
        "    값을 print 하는 기능을 한다."
      ],
      "id": "85ec4033-d0b5-4b84-bf66-60d4d9eada09"
    },
    {
      "cell_type": "code",
      "execution_count": 127,
      "metadata": {},
      "outputs": [],
      "source": [
        "class ex6:\n",
        "    def __init__(self):\n",
        "        self.a = 0\n",
        "    def up(self):\n",
        "        self.a += 1\n",
        "    def jump(self,js) :\n",
        "        self.a += js\n",
        "    def show(self) :\n",
        "        print(self.a)"
      ],
      "id": "d5877e3f-b431-42bd-92d4-8b4430062ba0"
    },
    {
      "cell_type": "code",
      "execution_count": 128,
      "metadata": {},
      "outputs": [],
      "source": [
        "ex6 = ex6()"
      ],
      "id": "daf7586b-cd8f-4eb1-80a7-09eb5c328f07"
    },
    {
      "cell_type": "code",
      "execution_count": 129,
      "metadata": {},
      "outputs": [],
      "source": [
        "ex6.up()"
      ],
      "id": "07c034ef-29a7-40a5-b7c8-7e09d14d0684"
    },
    {
      "cell_type": "code",
      "execution_count": 130,
      "metadata": {},
      "outputs": [],
      "source": [
        "ex6.a"
      ],
      "id": "a7d3d8f8-78d7-4d37-b461-e0caa0a452ac"
    },
    {
      "cell_type": "code",
      "execution_count": 131,
      "metadata": {},
      "outputs": [],
      "source": [
        "ex6.jump(100)"
      ],
      "id": "26654f0b-1f63-46cf-a8ef-17c7ec964853"
    },
    {
      "cell_type": "code",
      "execution_count": 132,
      "metadata": {},
      "outputs": [],
      "source": [
        "ex6.a"
      ],
      "id": "b0423a21-7f63-48d9-8039-2bf57e92ffaa"
    },
    {
      "cell_type": "code",
      "execution_count": 133,
      "metadata": {},
      "outputs": [
        {
          "output_type": "stream",
          "name": "stdout",
          "text": [
            "101"
          ]
        }
      ],
      "source": [
        "ex6.show()"
      ],
      "id": "bbf5aa1b-e42f-449d-ac24-df59cd58b5b7"
    },
    {
      "cell_type": "markdown",
      "metadata": {},
      "source": [
        "## ex7. 아래 조건에 맞는 클래스를 구현\n",
        "\n",
        "1.  “클래스 인스턴스”의 과정에서 변수 a가 0으로 초기설정된다.\n",
        "\n",
        "2.  클래스에는 up()라는 메소드가 정의되어 있다. up()의 기능은 a의 값을\n",
        "    1증가시키는 기능을 한다.\n",
        "\n",
        "3.  클래스에는 jump()라는 메소드가 정의되어 있다. jump()는 jump_size 를\n",
        "    입력으로 받으며 a의 값을 jump_size 만큼 증가시키는 기능을 한다.\n",
        "\n",
        "4.  클래스에는 reset()이라는 메소드가 정의되어 있다. reset()는 a의 값을\n",
        "    0으로 초기화하는 역할을 한다.\n",
        "\n",
        "5.  클래스에는 show()라는 메소드가 정의되어 있다. show()의 기능은 a의\n",
        "    값을 print 하는 기능을 한다."
      ],
      "id": "6f96e874-e8a9-4252-8944-9ff3129bcb43"
    },
    {
      "cell_type": "code",
      "execution_count": 134,
      "metadata": {},
      "outputs": [],
      "source": [
        "class ex7:\n",
        "    def __init__(self):\n",
        "        self.a = 0\n",
        "    def up(self):\n",
        "        self.a += 1\n",
        "    def jump(self,js) :\n",
        "        self.a += js\n",
        "    def reset(self) :\n",
        "        self.a = 0\n",
        "    def show(self) :\n",
        "        print(self.a)"
      ],
      "id": "290eb6d3-90d7-423e-9fe9-6607f66ac452"
    },
    {
      "cell_type": "code",
      "execution_count": 135,
      "metadata": {},
      "outputs": [],
      "source": [
        "ex7 = ex7()"
      ],
      "id": "0310c15a-89c8-4b18-a330-9e8eaa3ac636"
    },
    {
      "cell_type": "code",
      "execution_count": 136,
      "metadata": {},
      "outputs": [],
      "source": [
        "ex7.up()"
      ],
      "id": "ebacaa52-be58-4d6d-a6c8-06ef899b8090"
    },
    {
      "cell_type": "code",
      "execution_count": 137,
      "metadata": {},
      "outputs": [],
      "source": [
        "ex7.a"
      ],
      "id": "133fa098-920e-414d-b592-4800ebe64567"
    },
    {
      "cell_type": "code",
      "execution_count": 138,
      "metadata": {},
      "outputs": [],
      "source": [
        "ex7.reset()"
      ],
      "id": "075ace0b-c880-4032-904e-c8f149ca1593"
    },
    {
      "cell_type": "code",
      "execution_count": 139,
      "metadata": {},
      "outputs": [],
      "source": [
        "ex7.a"
      ],
      "id": "be211db4-94df-4042-a713-ee73702e0dea"
    },
    {
      "cell_type": "markdown",
      "metadata": {},
      "source": [
        "## ex8. 이미지 출력"
      ],
      "id": "3ae16604-9da3-4c9b-8ccf-ecf5ad7dc7e8"
    },
    {
      "cell_type": "code",
      "execution_count": 140,
      "metadata": {},
      "outputs": [],
      "source": [
        "url = 'https://github.com/guebin/PP2023/blob/main/posts/03_Class/burgerking.png?raw=true'\n",
        "html_str = '<img src={url} width=\"600\">'.format(url=url)\n",
        "display(HTML(html_str))"
      ],
      "id": "e1556556-78a7-4898-9e51-a40bae96fce8"
    },
    {
      "cell_type": "markdown",
      "metadata": {},
      "source": [
        "1.  “클래스 $\\to$ 인스턴스”의 과정에서 변수 url이 위에서 제시된 값으로\n",
        "    초기화된다.\n",
        "\n",
        "2.  클래스에는 show()라는 함수가 있어서 url에 해당하는 이미지를\n",
        "    출력해주는 기능을 가진다."
      ],
      "id": "940ee082-cc89-431d-a3a2-b0454f41ac55"
    },
    {
      "cell_type": "code",
      "execution_count": 142,
      "metadata": {},
      "outputs": [],
      "source": [
        "class ex8:\n",
        "    def __init_(self) :\n",
        "        self.url = 'https://github.com/guebin/PP2023/blob/main/posts/03_Class/burgerking.png?raw=true'\n",
        "    def show(self):\n",
        "        self.html_str = '<img src={url} width=\"600\">'.format(url=url)\n",
        "        display(HTML(self.html_str))"
      ],
      "id": "cc2d42ca-c49a-4e1f-99d3-f4c74920a420"
    },
    {
      "cell_type": "code",
      "execution_count": 143,
      "metadata": {},
      "outputs": [],
      "source": [
        "ex8= ex8()"
      ],
      "id": "2d4e056c-1c49-4c6a-81af-867657691233"
    },
    {
      "cell_type": "code",
      "execution_count": 144,
      "metadata": {},
      "outputs": [],
      "source": [
        "ex8.show()"
      ],
      "id": "76e650ad-988d-4969-ab24-f7eaf7fe0faf"
    },
    {
      "cell_type": "markdown",
      "metadata": {},
      "source": [
        "## ex9. 이미지 출력 + 횟수기록\n",
        "\n",
        "1.  “클래스 $\\to$인스턴스”의 과정에서 변수 url이 위에서 제시된 값으로\n",
        "    초기화된다.\n",
        "\n",
        "2.  클래스에는 show()라는 함수가 있어서 (1) url에 해당하는 이미지를\n",
        "    출력하고 (2) “당신은 이 그림을 $n$번 보았습니다” 를 출력하는 기능을\n",
        "    한다. 여기에서 $n$은 그림을 본 횟수"
      ],
      "id": "81e6ca18-0b94-4723-86e0-b1d5fc20238c"
    },
    {
      "cell_type": "code",
      "execution_count": 219,
      "metadata": {},
      "outputs": [],
      "source": [
        "class ex9:\n",
        "    def __init__(self) :\n",
        "        self.n = 0\n",
        "        self.url = 'https://github.com/guebin/PP2023/blob/main/posts/03_Class/burgerking.png?raw=true'\n",
        "    def show(self):\n",
        "        self.html_str = '<img src={url} width=\"600\">'.format(url=self.url)\n",
        "        display(HTML(self.html_str))\n",
        "        self.n += 1\n",
        "        print(\"당신은 이 그림을 {}번 보았습니다.\".format(self.n))"
      ],
      "id": "9f6c7a00-c28c-400e-ad06-239fda0696a7"
    },
    {
      "cell_type": "code",
      "execution_count": 176,
      "metadata": {},
      "outputs": [],
      "source": [
        "ex9 = ex9()"
      ],
      "id": "d79b2484-e019-48a1-804c-4faa7a29df99"
    },
    {
      "cell_type": "code",
      "execution_count": 177,
      "metadata": {},
      "outputs": [
        {
          "output_type": "stream",
          "name": "stdout",
          "text": [
            "당신은 이 그림을 1번 보았습니다."
          ]
        }
      ],
      "source": [
        "ex9.show()"
      ],
      "id": "47c076b4-560e-4e86-bff1-53fa13df5bfc"
    },
    {
      "cell_type": "markdown",
      "metadata": {},
      "source": [
        "## ex10. 예제 9에서 만든 클래스를 이용하여 아래의 url에 해당하는 이미지를 출려가하라."
      ],
      "id": "fd8adcf8-22cd-4ded-9df3-1b54a1b2022f"
    },
    {
      "cell_type": "code",
      "execution_count": 220,
      "metadata": {},
      "outputs": [],
      "source": [
        "i1 =  ex9()\n",
        "i2 =  ex9()"
      ],
      "id": "05c542b1-de42-4959-b5fd-9b14a9a71a30"
    },
    {
      "cell_type": "code",
      "execution_count": 221,
      "metadata": {},
      "outputs": [],
      "source": [
        "i2.url = \"https://github.com/guebin/PP2023/blob/main/posts/03_Class/JungGGuckMa.jpg?raw=true\""
      ],
      "id": "977d22f5-961c-4f31-9a2d-2271d103efa7"
    },
    {
      "cell_type": "code",
      "execution_count": 222,
      "metadata": {},
      "outputs": [
        {
          "output_type": "stream",
          "name": "stdout",
          "text": [
            "당신은 이 그림을 1번 보았습니다."
          ]
        }
      ],
      "source": [
        "i1.show()"
      ],
      "id": "a8a29e53-7735-475b-86a3-3121a3f96085"
    },
    {
      "cell_type": "code",
      "execution_count": 223,
      "metadata": {},
      "outputs": [
        {
          "output_type": "stream",
          "name": "stdout",
          "text": [
            "당신은 이 그림을 1번 보았습니다."
          ]
        }
      ],
      "source": [
        "i2.show()"
      ],
      "id": "708b5b1b-a208-4a5d-bce2-2b05295c031b"
    },
    {
      "cell_type": "markdown",
      "metadata": {},
      "source": [
        "## ex11. Stock 이라는 이름의 클래스를 만들고 아래의 기능을 넣어라"
      ],
      "id": "1fcbeb0e-b252-4636-9f96-59403e0651ea"
    },
    {
      "cell_type": "code",
      "execution_count": 225,
      "metadata": {},
      "outputs": [],
      "source": [
        "import numpy as np\n",
        "import matplotlib.pyplot as plt\n",
        "import yfinance as yf"
      ],
      "id": "9b40b2d0-6ad5-4710-a7e8-4f3a0b4d8ddf"
    },
    {
      "cell_type": "markdown",
      "metadata": {},
      "source": [
        "**(1) crawling 메소드**: crawling 메소드는 start_date, end_date, code 를\n",
        "입력으로 받는 함수이며, code 에 대응하는 주식의 주가를 크롤링하는 기능을\n",
        "가진다. 크롤링된 주식의 가격은 numpy array 형태로 저장되어 있다.\n",
        "\n",
        "**hint**"
      ],
      "id": "05f8803c-570f-47bc-a22c-0aef7e1ae76f"
    },
    {
      "cell_type": "code",
      "execution_count": 226,
      "metadata": {},
      "outputs": [
        {
          "output_type": "stream",
          "name": "stdout",
          "text": [
            "[*********************100%***********************]  1 of 1 completed"
          ]
        }
      ],
      "source": [
        "start_date = \"2023-01-01\"\n",
        "end_date = \"2023-05-02\"\n",
        "code = \"005930.KS\"\n",
        "y = yf.download(code, start=start_date, end=end_date)['Adj Close'].to_numpy()"
      ],
      "id": "a4fa60c4-a688-439d-a617-d4d069b44076"
    },
    {
      "cell_type": "markdown",
      "metadata": {},
      "source": [
        "**(2) smoothing 메소드** : smoothing는 크롤링된 주가를 아래의 수식을\n",
        "통하여 $n$회 변환하는 기능을 한다.\n",
        "\n",
        "-   $\\overset{\\sim}{y_1} : \\frac 14(3y_1 + y_2)$\n",
        "\n",
        "-   $\\overset{\\sim}{y_i} : \\frac 14(y_{i-1} + 2y_i + y_{i+1})\\quad i=2,3 \\dots, n-1$\n",
        "\n",
        "-   $\\overset{\\sim}{y_n} : \\frac 14(y_{n-1} + 3y_n)$\n",
        "\n",
        "**hint**"
      ],
      "id": "f2df2c20-6ce5-49ce-9400-fcb5ace6534a"
    },
    {
      "cell_type": "code",
      "execution_count": 230,
      "metadata": {},
      "outputs": [],
      "source": [
        "T = len(y)\n",
        "M = (np.eye(T) + np.array([abs(i-j)<2 for i in range(T) for j in range(T)]).reshape(T,T))/4\n",
        "M[0,0] = 3/4; M[-1,-1]= 3/4 \n",
        "#np.linalg.matrix_power(M,50)@y"
      ],
      "id": "6b0c80d8-2eec-4f5a-a769-99c940b85cbb"
    },
    {
      "cell_type": "markdown",
      "metadata": {},
      "source": [
        "### 풀이"
      ],
      "id": "27384390-58a2-4667-a46c-46744880a937"
    },
    {
      "cell_type": "code",
      "execution_count": 277,
      "metadata": {},
      "outputs": [],
      "source": [
        "class stock :\n",
        "    def __init__(self) :\n",
        "        self.y = None\n",
        "        self.sy = None\n",
        "    def crawling(self,code, start_date,end_date):\n",
        "        self.y = yf.download(code, start_date,end_date)['Adj Close'].to_numpy()\n",
        "    def smoothing(self,n):\n",
        "        T = len(self.y)\n",
        "        self.n = n\n",
        "        M = (np.eye(T) + np.array([abs(i-j)<2 for i in range(T) for j in range(T)]).reshape(T,T))/4\n",
        "        M[0,0] = 3/4; M[-1,-1]= 3/4\n",
        "        self.sy = np.linalg.matrix_power(M,50)@self.y\n",
        "    def plot(self) : \n",
        "        plt.plot(self.y,label=r\"$y$\")\n",
        "        plt.plot(self.sy,\"--\",label =f\"$M^{self.n}@y$\")\n",
        "        plt.legend()"
      ],
      "id": "de0a638b-edbb-480b-aad4-624af1272672"
    },
    {
      "cell_type": "code",
      "execution_count": 278,
      "metadata": {},
      "outputs": [],
      "source": [
        "ex11 = stock()"
      ],
      "id": "9474c68c-80e1-4c7d-82cf-eaa2f2cf3a70"
    },
    {
      "cell_type": "code",
      "execution_count": 279,
      "metadata": {},
      "outputs": [
        {
          "output_type": "stream",
          "name": "stdout",
          "text": [
            "[*********************100%***********************]  1 of 1 completed"
          ]
        }
      ],
      "source": [
        "start_date = \"2023-01-01\"\n",
        "end_date = \"2023-05-02\"\n",
        "code = \"005930.KS\"\n",
        "ex11.crawling(code, start_date,end_date)"
      ],
      "id": "1430d67c-c043-4386-9198-27414856919b"
    },
    {
      "cell_type": "code",
      "execution_count": 280,
      "metadata": {},
      "outputs": [],
      "source": [
        "ex11.smoothing(50)"
      ],
      "id": "7a376417-ee88-413b-83ab-ad0ef0eba728"
    },
    {
      "cell_type": "code",
      "execution_count": 281,
      "metadata": {},
      "outputs": [
        {
          "output_type": "display_data",
          "metadata": {},
          "data": {
            "image/png": "[encoded data removed]"
          }
        }
      ],
      "source": [
        "ex11.plot()"
      ],
      "id": "749f7b56-daef-47fe-8925-521ef7cb6f3d"
    },
    {
      "cell_type": "markdown",
      "metadata": {},
      "source": [
        "## ex12. ex11에서 만든 Stock 클래스에서 kakao 인스턴스를 생성하라. 생성된 kakao 인스턴스에서 crawling 메소드를 이용하여 아래의 조건에 맞는 주식을 긁어오라.\n",
        "\n",
        "-   code: ‘035720.KS’ (카카오)\n",
        "-   start_date = “2023-01-01”\n",
        "-   end_date = “2023-05-26”\n",
        "\n",
        "이후 .smoothing 메소드를 이용하여 $n=50$회 스무딩하고 .plot 메소드를\n",
        "이용하여 결과를 시각화하라.\n",
        "\n",
        "### 풀이"
      ],
      "id": "6a7ed7d2-9360-4318-8200-4c265874bef6"
    },
    {
      "cell_type": "code",
      "execution_count": 282,
      "metadata": {},
      "outputs": [],
      "source": [
        "kakao = stock()"
      ],
      "id": "6f16119c-0ed0-4d21-a768-dc4fb54fe5b4"
    },
    {
      "cell_type": "code",
      "execution_count": 284,
      "metadata": {},
      "outputs": [],
      "source": [
        "code = \"035720.KS\"\n",
        "start_date = \"2023-01-01\"\n",
        "end_date = \"2023-05-26\""
      ],
      "id": "ac8dcc38-9432-47d1-ad3f-81ea3c45282e"
    },
    {
      "cell_type": "code",
      "execution_count": 285,
      "metadata": {},
      "outputs": [
        {
          "output_type": "stream",
          "name": "stdout",
          "text": [
            "[*********************100%***********************]  1 of 1 completed"
          ]
        }
      ],
      "source": [
        "kakao.crawling(code,start_date, end_date)"
      ],
      "id": "2dea14a0-4848-4b1a-b7ed-cf0e1040bcef"
    },
    {
      "cell_type": "code",
      "execution_count": 286,
      "metadata": {},
      "outputs": [],
      "source": [
        "kakao.smoothing(50)"
      ],
      "id": "2fff015f-1904-4dea-a123-bfea61960b1a"
    },
    {
      "cell_type": "code",
      "execution_count": 287,
      "metadata": {},
      "outputs": [
        {
          "output_type": "display_data",
          "metadata": {},
          "data": {
            "image/png": "[encoded data removed]"
          }
        }
      ],
      "source": [
        "kakao.plot()"
      ],
      "id": "d3bbe60f-df83-461d-bfd4-53409923424e"
    },
    {
      "cell_type": "markdown",
      "metadata": {},
      "source": [
        "## ex13. LinearRegression이라는 이름의 클래스를 만들고 아래의 기능을 넣어라\n",
        "\n",
        "**(1)** “클래스 $\\to$ 인스턴스” 인 시점에 길이가 $n$인 numpy array\n",
        "$\\bf{x} = (x_1\\dots, x_n),\\bf{y} = (y_1\\dots, y_n)$ 을 입력으로 받아\n",
        "내부에 저장한다.\n",
        "\n",
        "**(2)** fit 메소드 : fit은 내부에 저장된 $\\bf{x,y}$를 이용하여 아래의\n",
        "수식을 계산한다.\n",
        "\n",
        "$$\\bf{\\hat{y}} = X(X^{T}X)^{-1}X^{T}y,\\quad X = \\begin{bmatrix}1 & x_1 \\\\ \\dots & \\dots \\\\ 1 & x_n \\end{bmatrix}$$\n",
        "\n",
        "**(3)** plot 메소드 작성\n",
        "\n",
        "### 풀이"
      ],
      "id": "519ca2b1-48c3-40f0-bfc2-f25bcae5aa4d"
    },
    {
      "cell_type": "code",
      "execution_count": 319,
      "metadata": {},
      "outputs": [],
      "source": [
        "class LinearRegression:\n",
        "        def __init__(self,x,y):\n",
        "            self.x = x\n",
        "            self.y = y\n",
        "        def fit(self):\n",
        "            n = len(self.x)\n",
        "            self.X = np.stack([np.ones(n),self.x],axis=1)\n",
        "            self.yhat = self.X@np.linalg.inv(self.X.T@self.X)@self.X.T@self.y     \n",
        "        \n",
        "        def plot(self) :\n",
        "            plt.plot(self.x,self.y,\"o\",label = r\"$(x,y)$\")\n",
        "            plt.plot(self.x,self.yhat,\"--\",label = r\"$(x,\\hat y)$\")\n",
        "            plt.legend()"
      ],
      "id": "c08650a1-2896-4e44-850f-994326a90031"
    },
    {
      "cell_type": "code",
      "execution_count": 320,
      "metadata": {},
      "outputs": [],
      "source": [
        "x =  np.array([0.00983, 0.01098, 0.02951, 0.0384 , 0.03973, 0.04178, 0.0533 ,\n",
        "               0.058  , 0.09454, 0.1103 , 0.1328 , 0.1412 , 0.1497 , 0.1664 ,\n",
        "               0.1906 , 0.1923 , 0.198  , 0.2141 , 0.2393 , 0.2433 , 0.3157 ,\n",
        "               0.3228 , 0.3418 , 0.3552 , 0.3918 , 0.3962 , 0.4    , 0.4482 ,\n",
        "               0.496  , 0.507  , 0.53   , 0.5654 , 0.582  , 0.5854 , 0.5854 ,\n",
        "               0.6606 , 0.7007 , 0.723  , 0.7305 , 0.7383 , 0.7656 , 0.7725 ,\n",
        "               0.831  , 0.8896 , 0.9053 , 0.914  , 0.949  , 0.952  , 0.9727 ,\n",
        "               0.982  ])\n",
        "y =  np.array([0.7381, 0.7043, 0.3937, 0.1365, 0.3784, 0.3028, 0.1037, 0.3846,\n",
        "               0.706 , 0.7572, 0.2421, 0.232 , 0.9855, 1.162 , 0.4653, 0.6791,\n",
        "               0.6905, 0.6865, 0.9757, 0.7665, 0.9522, 0.4641, 0.5498, 1.1509,\n",
        "               0.5288, 1.1195, 1.1659, 1.4341, 1.2779, 1.1648, 1.4002, 0.7472,\n",
        "               0.9142, 0.9658, 1.0707, 1.4501, 1.6758, 0.8778, 1.3384, 0.7476,\n",
        "               1.3086, 1.7537, 1.5559, 1.2928, 1.3832, 1.3115, 1.3382, 1.536 ,           \n",
        "               1.9177, 1.2069])"
      ],
      "id": "7026ac62-f07f-4c37-a7dd-ba327438e146"
    },
    {
      "cell_type": "code",
      "execution_count": 321,
      "metadata": {},
      "outputs": [],
      "source": [
        "ex13 = LinearRegression(x,y)"
      ],
      "id": "81e09231-f316-4fd8-ada5-ab3f86dc96de"
    },
    {
      "cell_type": "code",
      "execution_count": 322,
      "metadata": {},
      "outputs": [],
      "source": [
        "ex13.fit()"
      ],
      "id": "a3988d17-ee26-4efc-b658-8e6d34482121"
    },
    {
      "cell_type": "code",
      "execution_count": 323,
      "metadata": {},
      "outputs": [
        {
          "output_type": "display_data",
          "metadata": {},
          "data": {
            "image/png": "[encoded data removed]"
          }
        }
      ],
      "source": [
        "ex13.plot()"
      ],
      "id": "2e5506a8-24d3-4452-8775-ea91687a11c9"
    },
    {
      "cell_type": "markdown",
      "metadata": {},
      "source": [
        "## ex14. ex13에서 작성한 클래스를 이용하여 아래의 자료를 분석하고 시각화해라."
      ],
      "id": "bd6b7770-8a7e-4a9e-baa3-fa96df24f4e0"
    },
    {
      "cell_type": "code",
      "execution_count": 324,
      "metadata": {},
      "outputs": [],
      "source": [
        "x = np.array(\n",
        "    [0.007, 0.008, 0.008, 0.011, 0.037, 0.047, 0.059, 0.07 , 0.072,\n",
        "     0.075, 0.078, 0.08 , 0.082, 0.11 , 0.114, 0.117, 0.133, 0.15 ,\n",
        "     0.161, 0.163, 0.172, 0.208, 0.209, 0.221, 0.229, 0.231, 0.234,\n",
        "     0.235, 0.249, 0.251, 0.256, 0.269, 0.269, 0.273, 0.275, 0.298,\n",
        "     0.305, 0.309, 0.34 , 0.362, 0.371, 0.374, 0.382, 0.387, 0.388,\n",
        "     0.394, 0.395, 0.397, 0.401, 0.404, 0.419, 0.433, 0.436, 0.466,\n",
        "     0.481, 0.492, 0.495, 0.508, 0.511, 0.512, 0.554, 0.57 , 0.574,\n",
        "     0.575, 0.584, 0.6  , 0.601, 0.615, 0.618, 0.623, 0.629, 0.633,\n",
        "     0.646, 0.65 , 0.654, 0.662, 0.673, 0.686, 0.702, 0.744, 0.754,\n",
        "     0.766, 0.772, 0.781, 0.798, 0.8  , 0.807, 0.836, 0.837, 0.871,\n",
        "     0.873, 0.877, 0.879, 0.889, 0.891, 0.902, 0.904, 0.923, 0.952,\n",
        "     0.981]\n",
        ")\n",
        "\n",
        "\n",
        "y = np.array(\n",
        "    [4.004, 4.189, 5.483, 4.902, 5.174, 4.468, 4.95 , 4.463, 5.476,\n",
        "     4.446, 4.764, 5.244, 4.357, 4.796, 5.464, 4.196, 5.244, 4.868,\n",
        "     5.358, 4.493, 4.831, 4.716, 4.929, 4.588, 4.718, 4.389, 4.985,\n",
        "     4.266, 4.291, 3.697, 4.248, 4.88 , 5.126, 4.563, 4.131, 4.728,\n",
        "     4.168, 4.584, 3.953, 4.747, 3.592, 5.023, 4.601, 3.904, 4.092,\n",
        "     4.37 , 3.922, 4.145, 4.576, 4.25 , 4.051, 3.616, 4.634, 3.496,\n",
        "     4.631, 4.025, 4.197, 4.226, 4.808, 3.676, 3.834, 3.197, 4.36 ,\n",
        "     3.547, 3.956, 3.522, 4.26 , 3.443, 3.97 , 4.068, 4.186, 3.262,\n",
        "     3.452, 3.946, 3.875, 3.444, 3.501, 3.959, 3.843, 2.679, 3.266,\n",
        "     3.506, 2.916, 3.714, 4.007, 2.795, 3.329, 2.756, 3.72 , 2.381,\n",
        "     2.798, 3.035, 3.492, 3.22 , 3.073, 3.85 , 3.233, 3.396, 3.264,\n",
        "     2.986]\n",
        ")    "
      ],
      "id": "c2f255cd-919c-41f7-89e6-55f5419494f1"
    },
    {
      "cell_type": "code",
      "execution_count": 325,
      "metadata": {},
      "outputs": [
        {
          "output_type": "display_data",
          "metadata": {},
          "data": {
            "image/png": "[encoded data removed]"
          }
        }
      ],
      "source": [
        "ex14 = LinearRegression(x,y)\n",
        "ex14.fit()\n",
        "ex14.plot()"
      ],
      "id": "a701d964-e900-40fe-b8ec-0b3ac7c20b72"
    }
  ],
  "nbformat": 4,
  "nbformat_minor": 5,
  "metadata": {
    "kernelspec": {
      "name": "python3",
      "display_name": "Python 3 (ipykernel)",
      "language": "python"
    },
    "language_info": {
      "name": "python",
      "codemirror_mode": {
        "name": "ipython",
        "version": "3"
      },
      "file_extension": ".py",
      "mimetype": "text/x-python",
      "nbconvert_exporter": "python",
      "pygments_lexer": "ipython3",
      "version": "3.11.4"
    }
  }
}