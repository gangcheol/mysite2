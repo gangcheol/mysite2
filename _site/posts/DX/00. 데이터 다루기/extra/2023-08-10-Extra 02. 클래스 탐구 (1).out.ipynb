{
  "cells": [
    {
      "cell_type": "markdown",
      "metadata": {},
      "source": [
        "# Extra 02. 클래스 탐구 (1)\n",
        "\n",
        "GC  \n",
        "2023-08-10\n",
        "\n",
        "# import"
      ],
      "id": "4949bdc1-f31f-4b94-bb61-afda74aea4f9"
    },
    {
      "cell_type": "code",
      "execution_count": 1,
      "metadata": {},
      "outputs": [],
      "source": [
        "from IPython.core.display import HTML\n",
        "import numpy as np\n",
        "import pandas as pd\n",
        "import matplotlib.pyplot as plt"
      ],
      "id": "c0a75eea-b261-4429-a31a-7ec87471128c"
    },
    {
      "cell_type": "markdown",
      "metadata": {},
      "source": [
        "## 작성한 class 등록"
      ],
      "id": "716cc381-30b1-4069-9ecd-3a423229152c"
    },
    {
      "cell_type": "code",
      "execution_count": 5,
      "metadata": {},
      "outputs": [],
      "source": [
        "class jkm:\n",
        "    def __init__(self) :\n",
        "        self.title = \"중요한건 꺽이지 않는 마음\"\n",
        "\n",
        "        self.url = \"https://github.com/guebin/PP2023/blob/main/posts/03_Class/JungGGuckMa.jpg?raw=true\"\n",
        "\n",
        "        self.Q = \"Q: 로그와 2라운드 재대결, 어떤 점에 유의해야 할까\"\n",
        "\n",
        "        self.A = \"A: 상대팀에 대해서 더 분석할 건 없는 것 같고, 저희가 저희 플레이 잘하는 게 제일 중요한 것 같고 오늘 지긴 했지만 저희끼리만 안 무너지면 충분히 이길 수 있을 것 같아요.\"\n",
        "\n",
        "        self.h1 = \"마음\"\n",
        "\n",
        "        self.html_str =  '''\n",
        "                    <style>\n",
        "                        .title {{\n",
        "                            font-family: \"Times New Roman\", serif;\n",
        "                            font-size: 30px;\n",
        "                            font-weight: 900;\n",
        "                        }}\n",
        "                        .text {{\n",
        "                            font-family: \"Arial\", sans-serif;\n",
        "                            font-size: 20px;\n",
        "                            font-style: italic;\n",
        "                        }}\n",
        "                        .highlight {{\n",
        "                            font-family: \"Montserrat\", monospace;\n",
        "                            font-size: 35px;\n",
        "                            font-weight: 900;\n",
        "                            text-decoration: underline; ## 밑줄\n",
        "                            font-style: normal;\n",
        "                            color: darkblue;\n",
        "                            background-color: #FFFF00;\n",
        "                        }}\n",
        "                    </style>\n",
        "\n",
        "                    <p class=\"title\">{tt1}</p>\n",
        "                    <img src={url} width=\"600\">\n",
        "                    <p> \\n </p>\n",
        "                    <p class=\"text\"> {Q}</p>\n",
        "                    <p class=\"text\"> {A}: 상대팀에 대해서 더 분석할 건 없는 것 같고, 저희가 저희 플레이 잘하는 게 제일 중요한 것 같고 오늘 지긴 했지만 저희끼리만 안 무너지면 충분히 이길 수 있을 것 같아요.\n",
        "                    <p class=\"title\">중요한 것은 꺾이지 않는 <span class=\"highlight\"> {h1} </span></p>\n",
        "                    '''\n",
        "        \n",
        "    def show(self):\n",
        "        _str = self.html_str.format(\n",
        "            tt1 = self.title,\n",
        "            url = self.url,\n",
        "            Q = self.Q,\n",
        "            A = self.A,\n",
        "            h1 = self.h1 )\n",
        "        display(HTML(_str))"
      ],
      "id": "30fa70a8-caa6-4254-98cc-950386d95fe5"
    },
    {
      "cell_type": "code",
      "execution_count": 6,
      "metadata": {},
      "outputs": [],
      "source": [
        "test = jkm()"
      ],
      "id": "8e966eb3-f988-4fac-9b1b-7d619ccb08e9"
    },
    {
      "cell_type": "code",
      "execution_count": 8,
      "metadata": {},
      "outputs": [],
      "source": [
        "test.show()"
      ],
      "id": "6a09a192-58f8-4931-b894-b146ab92129e"
    },
    {
      "cell_type": "markdown",
      "metadata": {},
      "source": [
        "## 깨달음 1. type == class?\n",
        "\n",
        "`-` 아래처럼 우리가 생성한 `test`의 타입을 확인하니 type 이 `jkm` 으로\n",
        "나온다."
      ],
      "id": "62d32af7-49b5-4822-8eee-8dbd18b22795"
    },
    {
      "cell_type": "code",
      "execution_count": 11,
      "metadata": {},
      "outputs": [],
      "source": [
        "test?"
      ],
      "id": "4e9a9283-b9c8-40aa-b0c4-d16388886898"
    },
    {
      "cell_type": "markdown",
      "metadata": {},
      "source": [
        "`-` 아래의 리스트, 튜플, 리스트(튜플)의 타입을 확인해보자."
      ],
      "id": "1a165e42-ddb6-4247-a3a4-bb1cee3cbc32"
    },
    {
      "cell_type": "code",
      "execution_count": 12,
      "metadata": {},
      "outputs": [],
      "source": [
        "type([1,2,3])"
      ],
      "id": "65fec081-ed5a-4248-8fcf-aa2a450950df"
    },
    {
      "cell_type": "code",
      "execution_count": 13,
      "metadata": {},
      "outputs": [],
      "source": [
        "type((1,2,3))"
      ],
      "id": "5f383913-ea4d-4987-936b-731e44f4dd17"
    },
    {
      "cell_type": "code",
      "execution_count": 16,
      "metadata": {},
      "outputs": [],
      "source": [
        "type(list((1,2,3)))"
      ],
      "id": "05d75a5b-d350-4a16-b001-6a034055c8ce"
    },
    {
      "cell_type": "markdown",
      "metadata": {},
      "source": [
        "`-` **깨달음1. 우리가 어떤 인스턴스 객체를 생성할 떄 그 자료형은 파이썬\n",
        "내부, 혹은 우리가 작성한 클래스의 이름이다.**\n",
        "\n",
        "## 깨달음 2. `__init__`"
      ],
      "id": "f1d4dad1-2b52-4d7b-b8cd-267015975da1"
    },
    {
      "cell_type": "code",
      "execution_count": 19,
      "metadata": {},
      "outputs": [],
      "source": [
        "a = \"123\"\n",
        "list(a)"
      ],
      "id": "d8a3fdae-e5f0-47e3-92b9-f91a46eab451"
    },
    {
      "cell_type": "code",
      "execution_count": 21,
      "metadata": {},
      "outputs": [],
      "source": [
        "a = list()\n",
        "\n",
        "a.__init__(\"123\")\n",
        "a"
      ],
      "id": "9bb6be9b-d83d-4908-882f-cc817e76cd5d"
    },
    {
      "cell_type": "code",
      "execution_count": 24,
      "metadata": {},
      "outputs": [],
      "source": [
        "a = list()\n",
        "a.__init__('123') \n",
        "a.__init__() # 리스트 최기화\n",
        "a"
      ],
      "id": "98ac6e2b-ccb3-43cb-82c4-25d9f9b00494"
    },
    {
      "cell_type": "markdown",
      "metadata": {},
      "source": [
        "`-` 깨달음 2. 우리가 `list(\"123\")` 과 같은 메소드를 입력할 때 사실\n",
        "자료형을 변환하는 것이 아니라, `list` 라는 클래스의 `__init__()`으로\n",
        "인스턴스를 생성하는 것이었다.\n",
        "\n",
        "## 깨달음 3. `__str__`\n",
        "\n",
        "`-` 아래의 클래스를 관찰하자"
      ],
      "id": "ebbf3951-f175-4ca6-bd97-16c657452bf2"
    },
    {
      "cell_type": "code",
      "execution_count": 27,
      "metadata": {},
      "outputs": [],
      "source": [
        "class UpJump:\n",
        "    def __init__(self):\n",
        "        self.reset()\n",
        "    def up(self):\n",
        "        self.a = self.a + 1  \n",
        "        print(\"a의 값이 1 증가합니다.\")\n",
        "    def jump(self,jump_size):\n",
        "        self.a = self.a + jump_size      \n",
        "        print(\"a의 값이 {} 증가합니다.\".format(jump_size))\n",
        "    def show(self):\n",
        "        print('a={}'.format(self.a))\n",
        "    def reset(self):\n",
        "        self.a = 0\n",
        "        print(\"a의 값이 0으로 초기화 되었습니다.\")"
      ],
      "id": "dd72aab2-8b42-4f43-ab72-f1298bf6c844"
    },
    {
      "cell_type": "code",
      "execution_count": 28,
      "metadata": {},
      "outputs": [
        {
          "output_type": "stream",
          "name": "stdout",
          "text": [
            "a의 값이 0으로 초기화 되었습니다."
          ]
        }
      ],
      "source": [
        "a = UpJump()"
      ],
      "id": "63711717-9218-4cb4-a91f-bc060ea7f889"
    },
    {
      "cell_type": "code",
      "execution_count": 29,
      "metadata": {},
      "outputs": [],
      "source": [
        "a?"
      ],
      "id": "bae3a8ef-31e3-47b3-925c-538651cb95e2"
    },
    {
      "cell_type": "code",
      "execution_count": 30,
      "metadata": {},
      "outputs": [
        {
          "output_type": "stream",
          "name": "stdout",
          "text": [
            "a의 값이 1 증가합니다."
          ]
        }
      ],
      "source": [
        "a.up()"
      ],
      "id": "b667b954-3042-4af4-81b9-d3dd4a91e981"
    },
    {
      "cell_type": "code",
      "execution_count": 33,
      "metadata": {},
      "outputs": [
        {
          "output_type": "stream",
          "name": "stdout",
          "text": [
            "a의 값이 -2 증가합니다."
          ]
        }
      ],
      "source": [
        "a.jump(-2)"
      ],
      "id": "dc851ccb-3c38-44f0-9ef7-1376e597141a"
    },
    {
      "cell_type": "code",
      "execution_count": 35,
      "metadata": {},
      "outputs": [
        {
          "output_type": "stream",
          "name": "stdout",
          "text": [
            "a의 값이 0으로 초기화 되었습니다."
          ]
        }
      ],
      "source": [
        "a.reset()"
      ],
      "id": "0b93fb63-ba35-448c-8cbb-32bce5e35661"
    },
    {
      "cell_type": "code",
      "execution_count": 36,
      "metadata": {},
      "outputs": [
        {
          "output_type": "stream",
          "name": "stdout",
          "text": [
            "a=0"
          ]
        }
      ],
      "source": [
        "a.show()"
      ],
      "id": "a4709ae8-354c-4815-82bd-0b13c4a887ba"
    },
    {
      "cell_type": "markdown",
      "metadata": {},
      "source": [
        "`-` show 함수를 살펴보자.\n",
        "\n",
        "-   show 함수는 print와 비슷하다 $\\to$ 그렇다면….?\n",
        "\n",
        "-   `print(a)`를 하면 `a.show()` 와 동일한 효과를 내도록 만들 수 있을까?"
      ],
      "id": "16918319-347e-4e7d-ad8b-43230623c132"
    },
    {
      "cell_type": "code",
      "execution_count": 37,
      "metadata": {},
      "outputs": [
        {
          "output_type": "stream",
          "name": "stdout",
          "text": [
            "<__main__.UpJump object at 0x000001E17A4FE650>"
          ]
        }
      ],
      "source": [
        "print(a)"
      ],
      "id": "1c687fb3-b13c-4b3f-a229-0a263ba05812"
    },
    {
      "cell_type": "markdown",
      "metadata": {},
      "source": [
        "-   print는 파이썬의 내장기능이다. 내장기능을 우리가 마음대로 변환해서\n",
        "    사용하면 많은 문제들이 생긴다.\n",
        "\n",
        "$\\divideontimes$ **그런데 `a`의 자료형에 해당하는 인스턴스들에 한정하여\n",
        "print를 수정하는 방법이 있다면?**\n",
        "\n",
        "-   즉, 다른 클래스 오브젝트들은 영향을 받지 않고, `UpJump`로 생성된\n",
        "    오브젝트들만 가능하게끔 하는 것이다.\n",
        "\n",
        "### 관찰1 : `__str__`\n",
        "\n",
        "`-` 아래둘은 같은 역할을 한다. $\\to$ 즉, print(“a”)는\n",
        "`print(\"a\".__str__())`의 축약 버전이다."
      ],
      "id": "49b336f7-e29c-40ac-b1f8-e06c65fd67ae"
    },
    {
      "cell_type": "code",
      "execution_count": 44,
      "metadata": {},
      "outputs": [
        {
          "output_type": "stream",
          "name": "stdout",
          "text": [
            "a"
          ]
        }
      ],
      "source": [
        " print(\"a\")"
      ],
      "id": "a294a4a4-2157-439d-8c9f-2a898b65b27d"
    },
    {
      "cell_type": "code",
      "execution_count": 45,
      "metadata": {},
      "outputs": [
        {
          "output_type": "stream",
          "name": "stdout",
          "text": [
            "a"
          ]
        }
      ],
      "source": [
        "print(\"a\".__str__())"
      ],
      "id": "cdb31814-137c-456c-9f2f-ec24f94e563e"
    },
    {
      "cell_type": "markdown",
      "metadata": {},
      "source": [
        "`-` 우리가 정의한 show함수는 다음과 같다.\n",
        "\n",
        "``` python\n",
        "def show(self):\n",
        "        print('a={}'.format(self.a))\n",
        "```\n",
        "\n",
        "`-` 즉, 작성한 show함수는 단지 print문을 호출하는 함수이므로,\n",
        "`a.__str__()`의 기능을 재정의하면? `print(a)`의 결과도 바뀌지 않을까?\n",
        "\n",
        "### 관찰 2: 함수 덧씌우기"
      ],
      "id": "aa9609ea-ab6f-43ee-bdbf-74dc190908cf"
    },
    {
      "cell_type": "code",
      "execution_count": 41,
      "metadata": {},
      "outputs": [
        {
          "output_type": "stream",
          "name": "stdout",
          "text": [
            "강철"
          ]
        }
      ],
      "source": [
        "def f():\n",
        "    print(\"강철\")\n",
        "    \n",
        "f()"
      ],
      "id": "c6f5406b-f020-49cd-9d1b-11e14a40335c"
    },
    {
      "cell_type": "code",
      "execution_count": 42,
      "metadata": {},
      "outputs": [
        {
          "output_type": "stream",
          "name": "stdout",
          "text": [
            "DX 강철"
          ]
        }
      ],
      "source": [
        "def f() :\n",
        "    print(\"DX 강철\")\n",
        "f()"
      ],
      "id": "dd9e02c3-785f-4954-99a5-cd06b4e50269"
    },
    {
      "cell_type": "markdown",
      "metadata": {},
      "source": [
        "`-` 함수를 덮어씌울 수 있다는 것을 확인하였다.\n",
        "\n",
        "### 관찰3 : 실제 적용\n",
        "\n",
        "-   `def show()` $\\to$ `def __str__()`, `print` $\\to$ `return`"
      ],
      "id": "7638e642-2c2a-4125-9bcd-1f6a1ed1afca"
    },
    {
      "cell_type": "code",
      "execution_count": 68,
      "metadata": {},
      "outputs": [],
      "source": [
        "class UpJump:\n",
        "    def __init__(self):\n",
        "        self.reset()\n",
        "    def up(self):\n",
        "        self.a = self.a + 1  \n",
        "        print(\"a의 값이 1 증가합니다.\")\n",
        "    def jump(self,jump_size):\n",
        "        self.a = self.a + jump_size      \n",
        "        print(\"a의 값이 {} 증가합니다.\".format(jump_size))\n",
        "    def __str__(self):\n",
        "        return 'a={}'.format(self.a)\n",
        "    def reset(self):\n",
        "        self.a = 0\n",
        "        print(\"a의 값이 0으로 초기화 되었습니다.\")"
      ],
      "id": "be1431d0-2d79-4acc-ac53-2fb5d708f601"
    },
    {
      "cell_type": "code",
      "execution_count": 70,
      "metadata": {},
      "outputs": [
        {
          "output_type": "stream",
          "name": "stdout",
          "text": [
            "a의 값이 0으로 초기화 되었습니다."
          ]
        }
      ],
      "source": [
        "a = UpJump()"
      ],
      "id": "50474da8-5d3c-4b20-ba5e-434e0c331e97"
    },
    {
      "cell_type": "code",
      "execution_count": 71,
      "metadata": {},
      "outputs": [],
      "source": [
        "a.__str__()"
      ],
      "id": "330183ad-eeea-4b4f-a584-6a11a91bd55b"
    },
    {
      "cell_type": "code",
      "execution_count": 74,
      "metadata": {},
      "outputs": [
        {
          "output_type": "stream",
          "name": "stdout",
          "text": [
            "a=0"
          ]
        }
      ],
      "source": [
        "print(a) ## 성공했다!!"
      ],
      "id": "a724dd77-e59a-4b89-8563-3ef6892e0887"
    },
    {
      "cell_type": "markdown",
      "metadata": {},
      "source": [
        "## 깨달음 4. `__repr__`\n",
        "\n",
        "`-` 우리가 어떤 변수를 할당하고 실행할때 사용되는 내장 함수는\n",
        "`__repr__()` $\\to$ representation의 약자이다.\n",
        "\n",
        "`-` 그러면 `__repr__`도 우리가 정의할 수 있지 않을까?\n",
        "\n",
        "`-` `__str()__` 과 비교해보자."
      ],
      "id": "f30c697a-17c4-420e-ba28-4dbbfd4b52c6"
    },
    {
      "cell_type": "code",
      "execution_count": 81,
      "metadata": {},
      "outputs": [],
      "source": [
        "a = np.arange(4).reshape(2,2)"
      ],
      "id": "9d3eed8d-8abe-40cd-9745-63ada62d72ec"
    },
    {
      "cell_type": "code",
      "execution_count": 82,
      "metadata": {},
      "outputs": [],
      "source": [
        "a.__str__()"
      ],
      "id": "a82bc57b-26fe-4bc4-94b3-72a4912aa9ac"
    },
    {
      "cell_type": "code",
      "execution_count": 83,
      "metadata": {},
      "outputs": [],
      "source": [
        "a.__repr__()"
      ],
      "id": "0117e566-f5db-4fdf-9d02-26beac2733a8"
    },
    {
      "cell_type": "markdown",
      "metadata": {},
      "source": [
        "`-` print 문을 사용한 비교."
      ],
      "id": "5d312db1-df16-455a-88e2-7aead14f8604"
    },
    {
      "cell_type": "code",
      "execution_count": 84,
      "metadata": {},
      "outputs": [
        {
          "output_type": "stream",
          "name": "stdout",
          "text": [
            "[[0 1]\n",
            " [2 3]]"
          ]
        }
      ],
      "source": [
        "print(a.__str__())"
      ],
      "id": "e4fd7896-88c9-4b04-8cd2-56a22764bfd3"
    },
    {
      "cell_type": "code",
      "execution_count": 87,
      "metadata": {},
      "outputs": [
        {
          "output_type": "stream",
          "name": "stdout",
          "text": [
            "array([[0, 1],\n",
            "       [2, 3]])"
          ]
        }
      ],
      "source": [
        "print(a.__repr__())"
      ],
      "id": "0b4bae01-9fff-42e9-afc8-fbfc38bc5857"
    },
    {
      "cell_type": "markdown",
      "metadata": {},
      "source": [
        "### class의 적용\n",
        "\n",
        "``` python\n",
        "def __repr__(self):\n",
        "    return 'a={}'.format(self.a)\n",
        "```"
      ],
      "id": "7eab247a-b085-4c0e-b22d-5635f913f3b2"
    },
    {
      "cell_type": "code",
      "execution_count": 89,
      "metadata": {},
      "outputs": [],
      "source": [
        "class UpJump:\n",
        "    def __init__(self):\n",
        "        self.reset()\n",
        "    def up(self):\n",
        "        self.a = self.a + 1  \n",
        "        print(\"a의 값이 1 증가합니다.\")\n",
        "    def jump(self,jump_size):\n",
        "        self.a = self.a + jump_size      \n",
        "        print(\"a의 값이 {} 증가합니다.\".format(jump_size))\n",
        "    def __str__(self):\n",
        "        return 'a의 값은 {}입니다.'.format(self.a)\n",
        "    def reset(self):\n",
        "        self.a = 0\n",
        "        print(\"a의 값이 0으로 초기화 되었습니다.\")\n",
        "    def __repr__(self):\n",
        "        return 'a={}'.format(self.a)  "
      ],
      "id": "05a246e4-3381-4525-96ba-a4107494899c"
    },
    {
      "cell_type": "code",
      "execution_count": 90,
      "metadata": {},
      "outputs": [
        {
          "output_type": "stream",
          "name": "stdout",
          "text": [
            "a의 값이 0으로 초기화 되었습니다."
          ]
        }
      ],
      "source": [
        "a = UpJump()"
      ],
      "id": "757cbd00-8595-46b3-93d9-6d071f398f28"
    },
    {
      "cell_type": "code",
      "execution_count": 91,
      "metadata": {},
      "outputs": [
        {
          "output_type": "stream",
          "name": "stdout",
          "text": [
            "a의 값은 0입니다."
          ]
        }
      ],
      "source": [
        "print(a)"
      ],
      "id": "73d8062e-0427-4679-a66a-46cfb7db5c9c"
    },
    {
      "cell_type": "code",
      "execution_count": 92,
      "metadata": {},
      "outputs": [],
      "source": [
        "a"
      ],
      "id": "7efe8eda-eec0-42d4-89fe-8b319c07731b"
    },
    {
      "cell_type": "markdown",
      "metadata": {},
      "source": [
        "### 주의!!!! ($\\star \\star$)\n",
        "\n",
        "`-` 만약 `__repr__()`만 정의되어 있고 `__str__()`이 정의되있지 않았다면\n",
        "`__repr__()`의 내용이 `__str__()`의 내용을 대신한다. **(단, 역은\n",
        "성립하지 않음)**"
      ],
      "id": "5f659f6f-505b-4b21-b0ef-573b4923937c"
    },
    {
      "cell_type": "code",
      "execution_count": 97,
      "metadata": {},
      "outputs": [],
      "source": [
        "class UpJump:\n",
        "    def __init__(self):\n",
        "        self.reset()\n",
        "    def up(self):\n",
        "        self.a = self.a + 1  \n",
        "        print(\"a의 값이 1 증가합니다.\")\n",
        "    def jump(self,jump_size):\n",
        "        self.a = self.a + jump_size      \n",
        "        print(\"a의 값이 {} 증가합니다.\".format(jump_size))\n",
        "   # def __str__(self):\n",
        "    #    return 'a의 값은 {}입니다.'.format(self.a)\n",
        "    def reset(self):\n",
        "        self.a = 0\n",
        "        print(\"a의 값이 0으로 초기화 되었습니다.\")\n",
        "    def __repr__(self):\n",
        "        return 'a={}'.format(self.a)  "
      ],
      "id": "7a4d2a35-19e0-4de7-ae7a-0742707380be"
    },
    {
      "cell_type": "code",
      "execution_count": 98,
      "metadata": {},
      "outputs": [
        {
          "output_type": "stream",
          "name": "stdout",
          "text": [
            "a의 값이 0으로 초기화 되었습니다."
          ]
        }
      ],
      "source": [
        "a = UpJump()"
      ],
      "id": "567a3bb6-8f87-4429-83bc-e1821c62c338"
    },
    {
      "cell_type": "code",
      "execution_count": 99,
      "metadata": {},
      "outputs": [],
      "source": [
        "a"
      ],
      "id": "38e41b33-642a-464a-8997-a2d390a70dae"
    },
    {
      "cell_type": "code",
      "execution_count": 100,
      "metadata": {},
      "outputs": [],
      "source": [
        "class UpJump:\n",
        "    def __init__(self):\n",
        "        self.reset()\n",
        "    def up(self):\n",
        "        self.a = self.a + 1  \n",
        "        print(\"a의 값이 1 증가합니다.\")\n",
        "    def jump(self,jump_size):\n",
        "        self.a = self.a + jump_size      \n",
        "        print(\"a의 값이 {} 증가합니다.\".format(jump_size))\n",
        "    def __str__(self):\n",
        "        return 'a의 값은 {}입니다.'.format(self.a)\n",
        "    def reset(self):\n",
        "        self.a = 0\n",
        "        print(\"a의 값이 0으로 초기화 되었습니다.\")\n",
        "   # def __repr__(self):\n",
        "    #    return 'a={}'.format(self.a)  "
      ],
      "id": "ec6c8e2f-f9df-4b15-ae72-d9be6c63ee5d"
    },
    {
      "cell_type": "code",
      "execution_count": 101,
      "metadata": {},
      "outputs": [
        {
          "output_type": "stream",
          "name": "stdout",
          "text": [
            "a의 값이 0으로 초기화 되었습니다."
          ]
        }
      ],
      "source": [
        "a = UpJump()"
      ],
      "id": "ed46a7da-ad19-4da5-88ea-029234279cfe"
    },
    {
      "cell_type": "code",
      "execution_count": 102,
      "metadata": {},
      "outputs": [],
      "source": [
        "a"
      ],
      "id": "e4491f37-0acb-4633-ac77-89ded02d9190"
    },
    {
      "cell_type": "markdown",
      "metadata": {},
      "source": [
        "## 깨달음 5. `_repr_html_`\n",
        "\n",
        "### 데이터프레임 출력의 비밀"
      ],
      "id": "5bf210d3-399e-42ef-b3bf-96bb3dfdf4c5"
    },
    {
      "cell_type": "code",
      "execution_count": 105,
      "metadata": {},
      "outputs": [],
      "source": [
        "df = pd.DataFrame({'a':[1,2,3],'b':[2,3,4]})\n",
        "df"
      ],
      "id": "a5ea949d-b16d-46c6-b100-08150196059f"
    },
    {
      "cell_type": "code",
      "execution_count": 106,
      "metadata": {},
      "outputs": [
        {
          "output_type": "stream",
          "name": "stdout",
          "text": [
            "   a  b\n",
            "0  1  2\n",
            "1  2  3\n",
            "2  3  4"
          ]
        }
      ],
      "source": [
        "print(df.__repr__())"
      ],
      "id": "9ecbbce2-e67e-46ce-ab53-ffe200cfa480"
    },
    {
      "cell_type": "code",
      "execution_count": 107,
      "metadata": {},
      "outputs": [
        {
          "output_type": "stream",
          "name": "stdout",
          "text": [
            "   a  b\n",
            "0  1  2\n",
            "1  2  3\n",
            "2  3  4"
          ]
        }
      ],
      "source": [
        "print(df.__str__())"
      ],
      "id": "21a514ac-b5f2-4c01-91b7-310c18d13a10"
    },
    {
      "cell_type": "markdown",
      "metadata": {},
      "source": [
        "`-` 뭔가 이상하다. 앞서 배운대로라면 코드를 실행할 때 나오는 표처럼\n",
        "예쁘게 나와야 하는데 그렇지 않다…\n",
        "\n",
        "`-` 아래를 살펴보자."
      ],
      "id": "01b8c13a-57b1-416a-b5e8-4098f1a0a625"
    },
    {
      "cell_type": "code",
      "execution_count": 109,
      "metadata": {},
      "outputs": [],
      "source": [
        "df._repr_html_()"
      ],
      "id": "f0dbebd1-ff58-4fa9-b4de-8afc6afa4c8c"
    },
    {
      "cell_type": "code",
      "execution_count": 110,
      "metadata": {},
      "outputs": [],
      "source": [
        "HTML(df._repr_html_())"
      ],
      "id": "168bd2b9-b22f-4428-a4f8-61d24fbad36f"
    },
    {
      "cell_type": "markdown",
      "metadata": {},
      "source": [
        "`-` **깨달음5. 데이터 프레임은 `html`로 작성되어 있으며\n",
        "`_repr_html_()`은 html 구조를 확인할 수 있는 명령어이다!!**\n",
        "\n",
        "`-` 그러면 `df.__repr__()`의 역할은?\n",
        "\n",
        "-   아 우리가 대화형 콘솔(anaconda prompt)에서 작성하면 나오는\n",
        "    출력형식을 지원한다!\n",
        "\n",
        "<img src= \"repr.png\" width=250>\n",
        "\n",
        "### 적용\n",
        "\n",
        "`-` 초기\n",
        "\n",
        "``` python\n",
        "def show(self):\n",
        "        _str = self.html_str.format(\n",
        "            tt1 = self.title,\n",
        "            url = self.url,\n",
        "            Q = self.Q,\n",
        "            A = self.A,\n",
        "            h1 = self.h1 )\n",
        "        display(HTML(_str))\n",
        "```\n",
        "\n",
        "`-` 수정후\n",
        "\n",
        "``` python\n",
        "def _repr_html_(self):\n",
        "        _str = self.html_str.format(\n",
        "            tt1 = self.title,\n",
        "            url = self.url,\n",
        "            Q = self.Q,\n",
        "            A = self.A,\n",
        "            h1 = self.h1 )\n",
        "        return _str\n",
        "```"
      ],
      "id": "3f6d4724-8263-4266-8183-1c7183bada45"
    },
    {
      "cell_type": "code",
      "execution_count": 124,
      "metadata": {},
      "outputs": [],
      "source": [
        "class jkm:\n",
        "    def __init__(self) :\n",
        "        self.title = \"중요한건 꺽이지 않는 마음\"\n",
        "\n",
        "        self.url = \"https://github.com/guebin/PP2023/blob/main/posts/03_Class/JungGGuckMa.jpg?raw=true\"\n",
        "\n",
        "        self.Q = \"Q: 로그와 2라운드 재대결, 어떤 점에 유의해야 할까\"\n",
        "\n",
        "        self.A = \"A: 상대팀에 대해서 더 분석할 건 없는 것 같고, 저희가 저희 플레이 잘하는 게 제일 중요한 것 같고 오늘 지긴 했지만 저희끼리만 안 무너지면 충분히 이길 수 있을 것 같아요.\"\n",
        "\n",
        "        self.h1 = \"마음\"\n",
        "\n",
        "        self.html_str =  '''\n",
        "                    <style>\n",
        "                        .title {{\n",
        "                            font-family: \"Times New Roman\", serif;\n",
        "                            font-size: 30px;\n",
        "                            font-weight: 900;\n",
        "                        }}\n",
        "                        .text {{\n",
        "                            font-family: \"Arial\", sans-serif;\n",
        "                            font-size: 20px;\n",
        "                            font-style: italic;\n",
        "                        }}\n",
        "                        .highlight {{\n",
        "                            font-family: \"Montserrat\", monospace;\n",
        "                            font-size: 35px;\n",
        "                            font-weight: 900;\n",
        "                            text-decoration: underline; ## 밑줄\n",
        "                            font-style: normal;\n",
        "                            color: darkblue;\n",
        "                            background-color: #FFFF00;\n",
        "                        }}\n",
        "                    </style>\n",
        "\n",
        "                    <p class=\"title\">{tt1}</p>\n",
        "                    <img src={url} width=\"600\">\n",
        "                    <p> \\n </p>\n",
        "                    <p class=\"text\"> {Q}</p>\n",
        "                    <p class=\"text\"> {A}: 상대팀에 대해서 더 분석할 건 없는 것 같고, 저희가 저희 플레이 잘하는 게 제일 중요한 것 같고 오늘 지긴 했지만 저희끼리만 안 무너지면 충분히 이길 수 있을 것 같아요.\n",
        "                    <p class=\"title\">중요한 것은 꺾이지 않는 <span class=\"highlight\"> {h1} </span></p>\n",
        "                    '''\n",
        "        \n",
        "    def _repr_html_(self):\n",
        "                _str = self.html_str.format(\n",
        "                    tt1 = self.title,\n",
        "                    url = self.url,\n",
        "                    Q = self.Q,\n",
        "                    A = self.A,\n",
        "                    h1 = self.h1)\n",
        "                return _str"
      ],
      "id": "3380e8d8-0e14-44d6-9f67-d994168d9958"
    },
    {
      "cell_type": "code",
      "execution_count": 125,
      "metadata": {},
      "outputs": [],
      "source": [
        "a = jkm()\n",
        "a"
      ],
      "id": "5e905eba-8825-4c0d-8046-83915a0124f8"
    }
  ],
  "nbformat": 4,
  "nbformat_minor": 5,
  "metadata": {
    "kernelspec": {
      "name": "python3",
      "display_name": "Python 3 (ipykernel)",
      "language": "python"
    },
    "language_info": {
      "name": "python",
      "codemirror_mode": {
        "name": "ipython",
        "version": "3"
      },
      "file_extension": ".py",
      "mimetype": "text/x-python",
      "nbconvert_exporter": "python",
      "pygments_lexer": "ipython3",
      "version": "3.11.4"
    }
  }
}