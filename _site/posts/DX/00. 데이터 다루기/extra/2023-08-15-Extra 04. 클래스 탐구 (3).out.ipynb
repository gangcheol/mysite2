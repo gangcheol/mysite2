{
  "cells": [
    {
      "cell_type": "markdown",
      "metadata": {},
      "source": [
        "# Extra 04. 클래스 탐구 (3)\n",
        "\n",
        "GC  \n",
        "2023-08-15\n",
        "\n",
        "# 지난 챕터 복기\n",
        "\n",
        "`-` 클래스를 조금 수정하고 싶을때, 아래와 같은 문법을 이용하면\n",
        "편리하다.(지난 챕터 복기!!)\n",
        "\n",
        "``` python\n",
        "class 새로운클래스 (수정할 클래스) :\n",
        "    def 수정 및 추가 함수 : \n",
        "        return ...\n",
        "```\n",
        "\n",
        "## ex1"
      ],
      "id": "4b8ab119-3ac8-41fa-b3ee-21e40e755412"
    },
    {
      "cell_type": "code",
      "execution_count": 1,
      "metadata": {},
      "outputs": [],
      "source": [
        "class a1 :\n",
        "    def __init__(self,v) :\n",
        "        ## 여기는 a1클래스\n",
        "        print(\"init 클래스에서 정의된 __init__을 실행합니다.\")\n",
        "        self.v = v"
      ],
      "id": "9649bec9-35a4-4a2f-8aaa-d398ddc1adad"
    },
    {
      "cell_type": "code",
      "execution_count": 2,
      "metadata": {},
      "outputs": [],
      "source": [
        "class a2 (a1):\n",
        "    def show(self) :\n",
        "        ## 여기는 a2클래스\n",
        "        print(\"a2 클래스에서 정의한 show를 실행합니다.\")\n",
        "        print(f\"value = {self.v}\")"
      ],
      "id": "20a5a4cb-4eb2-4381-969c-b01544910dd1"
    },
    {
      "cell_type": "code",
      "execution_count": 3,
      "metadata": {},
      "outputs": [
        {
          "output_type": "stream",
          "name": "stdout",
          "text": [
            "init 클래스에서 정의된 __init__을 실행합니다."
          ]
        }
      ],
      "source": [
        "a = a2(5)"
      ],
      "id": "ac0b387b-a9ba-41a6-89e7-94e47e7f7600"
    },
    {
      "cell_type": "code",
      "execution_count": 4,
      "metadata": {},
      "outputs": [
        {
          "output_type": "stream",
          "name": "stdout",
          "text": [
            "a2 클래스에서 정의한 show를 실행합니다.\n",
            "value = 5"
          ]
        }
      ],
      "source": [
        "a.show()"
      ],
      "id": "73f46c4a-771a-469c-b293-334e3bb8772c"
    },
    {
      "cell_type": "code",
      "execution_count": 5,
      "metadata": {},
      "outputs": [],
      "source": [
        "a.show??"
      ],
      "id": "4a37f81e-bcd2-418f-9288-edb0e0f06e3d"
    },
    {
      "cell_type": "code",
      "execution_count": 6,
      "metadata": {},
      "outputs": [],
      "source": [
        "a.__init__??"
      ],
      "id": "71966429-6626-4118-9906-92b12de45251"
    },
    {
      "cell_type": "markdown",
      "metadata": {},
      "source": [
        "# 상속\n",
        "\n",
        "## 수퍼클래스\n",
        "\n",
        "### 방법 1 : 직접 수퍼클래스 명시"
      ],
      "id": "626c1249-94dd-4fb7-b372-dbf049ef3be9"
    },
    {
      "cell_type": "code",
      "execution_count": 7,
      "metadata": {
        "tags": []
      },
      "outputs": [],
      "source": [
        "class a3(a2) :\n",
        "    def __init__(self,v) :\n",
        "        ## a3클래스 명시\n",
        "        print(\"짠~!\")\n",
        "        a2.__init__(self,v)\n",
        "        print(\"짠짠~!!\")"
      ],
      "id": "a744083f-df8c-4491-8711-56f4747c9b5f"
    },
    {
      "cell_type": "code",
      "execution_count": 8,
      "metadata": {},
      "outputs": [
        {
          "output_type": "stream",
          "name": "stdout",
          "text": [
            "짠~!\n",
            "init 클래스에서 정의된 __init__을 실행합니다.\n",
            "짠짠~!!"
          ]
        }
      ],
      "source": [
        "deco = a3(5)"
      ],
      "id": "648f5571-5ecc-4632-b10f-e0cafbfacae8"
    },
    {
      "cell_type": "code",
      "execution_count": 9,
      "metadata": {},
      "outputs": [],
      "source": [
        "deco.show??"
      ],
      "id": "0789c8e5-3005-4e97-9c6c-731bba8e0757"
    },
    {
      "cell_type": "code",
      "execution_count": 10,
      "metadata": {},
      "outputs": [],
      "source": [
        "deco.__init__??"
      ],
      "id": "51dd09ca-e949-444e-b1c3-99d7e0cea19a"
    },
    {
      "cell_type": "markdown",
      "metadata": {},
      "source": [
        "### 방법 2 : super 이용, 생략 x)"
      ],
      "id": "a85db283-e37e-4bfa-91e5-c02880867862"
    },
    {
      "cell_type": "code",
      "execution_count": 11,
      "metadata": {},
      "outputs": [],
      "source": [
        "class a3(a2) :\n",
        "    def __init__(self,v) :\n",
        "        ## a3클래스 명시\n",
        "        print(\"짠~!\")\n",
        "        super(a3,self).__init__(v)\n",
        "        print(\"짠짠~!!\")"
      ],
      "id": "5f7a80f3-11a5-4e12-9a30-8ba6391644ea"
    },
    {
      "cell_type": "code",
      "execution_count": 12,
      "metadata": {},
      "outputs": [
        {
          "output_type": "stream",
          "name": "stdout",
          "text": [
            "짠~!\n",
            "init 클래스에서 정의된 __init__을 실행합니다.\n",
            "짠짠~!!"
          ]
        }
      ],
      "source": [
        "a = a3(5)"
      ],
      "id": "78be4fff-88f7-45c4-8c0b-1d383e33914e"
    },
    {
      "cell_type": "code",
      "execution_count": 13,
      "metadata": {},
      "outputs": [],
      "source": [
        "a.show??"
      ],
      "id": "67987183-4f85-4379-90f8-9535ee486999"
    },
    {
      "cell_type": "code",
      "execution_count": 14,
      "metadata": {},
      "outputs": [],
      "source": [
        "a.__init__??"
      ],
      "id": "b1a7f23f-de67-44e4-875b-6e612a5491b2"
    },
    {
      "cell_type": "markdown",
      "metadata": {},
      "source": [
        "### 방법 3 : super 이용, 생략 o) ($\\star\\star\\star$)"
      ],
      "id": "6133072b-3240-4642-8320-a33d7567c6ab"
    },
    {
      "cell_type": "code",
      "execution_count": 15,
      "metadata": {},
      "outputs": [],
      "source": [
        "class a3(a2) :\n",
        "    def __init__(self,v) :\n",
        "        ## a3클래스 명시\n",
        "        print(\"짠~!\")\n",
        "        super().__init__(v)  ## 생략전 -> super(a3,self).__init__(v)\n",
        "        print(\"짠짠~!!\")"
      ],
      "id": "9f80f8b3-34c8-4280-a856-cf0cfcd16618"
    },
    {
      "cell_type": "code",
      "execution_count": 16,
      "metadata": {},
      "outputs": [
        {
          "output_type": "stream",
          "name": "stdout",
          "text": [
            "짠~!\n",
            "init 클래스에서 정의된 __init__을 실행합니다.\n",
            "짠짠~!!"
          ]
        }
      ],
      "source": [
        "a = a3(5)"
      ],
      "id": "694c34a7-63b9-4fd8-a408-fb002350072d"
    },
    {
      "cell_type": "code",
      "execution_count": 17,
      "metadata": {},
      "outputs": [],
      "source": [
        "a3.show??"
      ],
      "id": "ec06529a-0c2a-4191-9216-b9a82374627f"
    },
    {
      "cell_type": "code",
      "execution_count": 18,
      "metadata": {},
      "outputs": [],
      "source": [
        "a3.__init__??"
      ],
      "id": "8bcac5a1-c62f-43d5-a41d-b32f29d8e31a"
    },
    {
      "cell_type": "markdown",
      "metadata": {},
      "source": [
        "### 방법 4 : super()이용, 방법 3을 이해하기위한 코드"
      ],
      "id": "1158248f-0756-4f0c-958b-84ef24eb4e25"
    },
    {
      "cell_type": "code",
      "execution_count": 19,
      "metadata": {},
      "outputs": [],
      "source": [
        "class a4(a2) :\n",
        "    def __init__(self,v) :\n",
        "        ## a4클래스 \n",
        "        print(\"짠~!\")\n",
        "        super(__class__,self).__init__(v)  ## 생략전 -> super(a3,self).__init__(v)\n",
        "        print(\"짠짠~!!\")"
      ],
      "id": "7381aa13-7b2d-4d41-a811-9aae648e19f6"
    },
    {
      "cell_type": "code",
      "execution_count": 20,
      "metadata": {},
      "outputs": [
        {
          "output_type": "stream",
          "name": "stdout",
          "text": [
            "짠~!\n",
            "init 클래스에서 정의된 __init__을 실행합니다.\n",
            "짠짠~!!"
          ]
        }
      ],
      "source": [
        "a = a4(5)"
      ],
      "id": "b3661ff3-251f-46f7-892b-4fcd51528063"
    },
    {
      "cell_type": "code",
      "execution_count": 21,
      "metadata": {},
      "outputs": [
        {
          "output_type": "stream",
          "name": "stdout",
          "text": [
            "a2 클래스에서 정의한 show를 실행합니다.\n",
            "value = 5"
          ]
        }
      ],
      "source": [
        "a.show()"
      ],
      "id": "3a120038-bed5-4abc-8a66-b67ae1428977"
    },
    {
      "cell_type": "code",
      "execution_count": 22,
      "metadata": {},
      "outputs": [],
      "source": [
        "a.show??"
      ],
      "id": "0f7d243a-f486-474a-94b4-96a4b1109f36"
    },
    {
      "cell_type": "code",
      "execution_count": 23,
      "metadata": {},
      "outputs": [],
      "source": [
        "a.__init__??"
      ],
      "id": "5045f0f8-86b9-44c8-9e19-020d7fe97d22"
    },
    {
      "cell_type": "markdown",
      "metadata": {},
      "source": [
        "## 다중상속 (super X)\n",
        "\n",
        "### 일반적인 다중 상속\n",
        "\n",
        "`-` Add 클래스 선언"
      ],
      "id": "9c637242-4c3e-4f2a-997b-2a07a9596f02"
    },
    {
      "cell_type": "code",
      "execution_count": 24,
      "metadata": {},
      "outputs": [],
      "source": [
        "class Add:\n",
        "    def __init__(self,value):\n",
        "        self.value = value \n",
        "    def __add__(self,value2):\n",
        "        return self.value + value2"
      ],
      "id": "b3c4383f-5931-4d28-a129-d5adf93e4604"
    },
    {
      "cell_type": "markdown",
      "metadata": {},
      "source": [
        "`-` 초기화"
      ],
      "id": "59538fdf-ed54-4a8a-b884-372a939606c5"
    },
    {
      "cell_type": "code",
      "execution_count": 25,
      "metadata": {},
      "outputs": [],
      "source": [
        "a = Add(2)"
      ],
      "id": "d066dd32-ec96-42bd-b82f-c4edb6a427a9"
    },
    {
      "cell_type": "code",
      "execution_count": 26,
      "metadata": {},
      "outputs": [],
      "source": [
        "a.value"
      ],
      "id": "c1849276-0134-425d-8c9a-48243456a494"
    },
    {
      "cell_type": "code",
      "execution_count": 27,
      "metadata": {},
      "outputs": [],
      "source": [
        "a + 5 "
      ],
      "id": "806c1633-d24d-4e69-8bd9-8ab614a9ad7d"
    },
    {
      "cell_type": "markdown",
      "metadata": {},
      "source": [
        "`-` Mul 클래스 선언"
      ],
      "id": "e4d8509f-a372-419c-8fb4-be6c37946cdb"
    },
    {
      "cell_type": "code",
      "execution_count": 28,
      "metadata": {},
      "outputs": [],
      "source": [
        "class Mul:\n",
        "    def __init__(self,value):\n",
        "        self.value = value \n",
        "    def __mul__(self,value2):\n",
        "        return self.value * value2"
      ],
      "id": "ced9bf59-14d7-4ed9-a8f0-d0ca438e88af"
    },
    {
      "cell_type": "code",
      "execution_count": 29,
      "metadata": {},
      "outputs": [],
      "source": [
        "a = Mul(5)"
      ],
      "id": "215ecad2-019c-4b5c-8802-448bef899d3e"
    },
    {
      "cell_type": "code",
      "execution_count": 30,
      "metadata": {},
      "outputs": [],
      "source": [
        "a.value"
      ],
      "id": "34604ce9-26a8-4b62-bff8-dd48c3a44279"
    },
    {
      "cell_type": "markdown",
      "metadata": {},
      "source": [
        "`-` 더하기는 위에서 정의한적 없음"
      ],
      "id": "9f42b96f-7886-4f35-9b33-5ad93d48ed48"
    },
    {
      "cell_type": "code",
      "execution_count": 31,
      "metadata": {},
      "outputs": [],
      "source": [
        "a+2"
      ],
      "id": "b0455673-9bc3-447d-9197-62e539252246"
    },
    {
      "cell_type": "markdown",
      "metadata": {},
      "source": [
        "`-` 곱하기 수행"
      ],
      "id": "2ae9633f-babd-4cd7-91dc-6befc12a19e2"
    },
    {
      "cell_type": "code",
      "execution_count": 32,
      "metadata": {},
      "outputs": [],
      "source": [
        "a*2"
      ],
      "id": "f79d8fe1-a6fd-4eaa-8aca-a8125fbcaf6f"
    },
    {
      "cell_type": "markdown",
      "metadata": {},
      "source": [
        "`-` 위 2개의 클래스를 상속"
      ],
      "id": "f1320fa7-7704-4f6a-a087-30cbbdf97e45"
    },
    {
      "cell_type": "code",
      "execution_count": 33,
      "metadata": {},
      "outputs": [],
      "source": [
        "class am(Add,Mul) :\n",
        "      pass"
      ],
      "id": "e7b3e9a7-98e9-40f3-ab84-302c4f1d8fb4"
    },
    {
      "cell_type": "code",
      "execution_count": 34,
      "metadata": {},
      "outputs": [],
      "source": [
        "a = am(5)\n",
        "a.value"
      ],
      "id": "ee6ec2cc-08ed-4bf7-9636-ad3013d2bf75"
    },
    {
      "cell_type": "code",
      "execution_count": 35,
      "metadata": {},
      "outputs": [],
      "source": [
        "a + 2"
      ],
      "id": "97f75046-1c46-4e0d-9b0a-f3f0512766ee"
    },
    {
      "cell_type": "code",
      "execution_count": 36,
      "metadata": {},
      "outputs": [],
      "source": [
        "a*5"
      ],
      "id": "4cd3bb7c-85ac-4468-8526-946745649575"
    },
    {
      "cell_type": "markdown",
      "metadata": {},
      "source": [
        "### 다중상속(`__init__`이 겹친다…)"
      ],
      "id": "7c095f76-f256-41cd-b918-c117f993cb14"
    },
    {
      "cell_type": "code",
      "execution_count": 37,
      "metadata": {},
      "outputs": [],
      "source": [
        "class Add:\n",
        "    def __init__(self,value):\n",
        "        print(\"Add클래스에서 정의된 __init__ 메소드가 실행됩니다\")\n",
        "        self.value = value \n",
        "    def __add__(self,value2):\n",
        "        return self.value + value2\n",
        "              \n",
        "class Mul:\n",
        "    def __init__(self,value):\n",
        "        print(\"Mul클래스에서 정의된 __init__ 메소드가 실행됩니다\")        \n",
        "        self.value = value \n",
        "    def __mul__(self,value2):\n",
        "        return self.value * value2        \n",
        "    \n",
        "class am(Add,Mul):\n",
        "    pass     "
      ],
      "id": "05d1a6ca-ef3a-4a7a-b7ff-967d4ca45c60"
    },
    {
      "cell_type": "markdown",
      "metadata": {},
      "source": [
        "`-` 현재 `Add`클래스가 우선 순위인 것 같다."
      ],
      "id": "c93cab16-b810-420d-8107-b5c1890945c6"
    },
    {
      "cell_type": "code",
      "execution_count": 38,
      "metadata": {},
      "outputs": [
        {
          "output_type": "stream",
          "name": "stdout",
          "text": [
            "Add클래스에서 정의된 __init__ 메소드가 실행됩니다"
          ]
        }
      ],
      "source": [
        "a = am(5)"
      ],
      "id": "58329bf3-6570-445a-b1b9-79981262bc3d"
    },
    {
      "cell_type": "markdown",
      "metadata": {},
      "source": [
        "### 믹스인 클래스($\\star\\star\\star$)"
      ],
      "id": "2d38b92b-1aa4-4216-9253-b6df1d72dcf1"
    },
    {
      "cell_type": "code",
      "execution_count": 39,
      "metadata": {},
      "outputs": [],
      "source": [
        "class Init:\n",
        "    def __init__(self,value):\n",
        "        ## 여기는 Init 클래스야 \n",
        "        print(\"Init클래스에서 정의된 __init__메소드를 실행합니다\")        \n",
        "        self.value = value\n",
        "\n",
        "class Add(Init):\n",
        "    def __add__(self,value2):\n",
        "        return self.value + value2\n",
        "              \n",
        "class Mul(Init):\n",
        "    def __mul__(self,value2):\n",
        "        return self.value * value2        \n",
        "    \n",
        "class am(Add,Mul):\n",
        "    pass     "
      ],
      "id": "739ca08d-5ca6-405d-ba83-c317811cda11"
    },
    {
      "cell_type": "code",
      "execution_count": 40,
      "metadata": {},
      "outputs": [
        {
          "output_type": "stream",
          "name": "stdout",
          "text": [
            "Init클래스에서 정의된 __init__메소드를 실행합니다"
          ]
        }
      ],
      "source": [
        "a = am(5)"
      ],
      "id": "07896594-db2a-40d0-bdb0-42128432d96a"
    },
    {
      "cell_type": "code",
      "execution_count": 41,
      "metadata": {},
      "outputs": [],
      "source": [
        "a + 2"
      ],
      "id": "e543f1ed-2971-42ff-9dac-18df4dc3bec9"
    },
    {
      "cell_type": "code",
      "execution_count": 42,
      "metadata": {},
      "outputs": [],
      "source": [
        "a*5"
      ],
      "id": "d71ff245-c1f6-4e61-929a-0577594c959d"
    },
    {
      "cell_type": "markdown",
      "metadata": {},
      "source": [
        "## 다중상속 (super O)\n",
        "\n",
        "### super를 쓰지 않는 좋지 못한 예시"
      ],
      "id": "6a229158-90d6-4623-8ee4-6c6504308b59"
    },
    {
      "cell_type": "code",
      "execution_count": 43,
      "metadata": {},
      "outputs": [],
      "source": [
        "class Init:\n",
        "    def __init__(self,value):\n",
        "        ## 여기는 Init 클래스야 \n",
        "        print(\"Init클래스에서 정의된 __init__메소드를 실행합니다\")        \n",
        "        self.value = value"
      ],
      "id": "9e691a8e-58a6-4724-aa9b-384e126d6bf7"
    },
    {
      "cell_type": "markdown",
      "metadata": {},
      "source": [
        "`-` 위 intit을 상속 받아서\n",
        "\n",
        "-   초기값 = 초기값 x 2\n",
        "\n",
        "-   초기값 = 초기값 + 5\n",
        "\n",
        "를 객채 생성과 동시 에 수행하는 클래스를 각각 만듬"
      ],
      "id": "edafb738-30f3-431b-86e3-b57c1936b1e5"
    },
    {
      "cell_type": "code",
      "execution_count": 45,
      "metadata": {},
      "outputs": [],
      "source": [
        "class a1(Init):\n",
        "    def __init__(self,value):\n",
        "        Init.__init__(self,value)\n",
        "        self.value = self.value * 2"
      ],
      "id": "229b1424-4c92-4d66-b7a0-288be73b5789"
    },
    {
      "cell_type": "code",
      "execution_count": 47,
      "metadata": {},
      "outputs": [
        {
          "output_type": "stream",
          "name": "stdout",
          "text": [
            "Init클래스에서 정의된 __init__메소드를 실행합니다"
          ]
        }
      ],
      "source": [
        "a = a1(5)\n",
        "a.value"
      ],
      "id": "98256803-6860-428f-b287-44232a675580"
    },
    {
      "cell_type": "code",
      "execution_count": 48,
      "metadata": {},
      "outputs": [],
      "source": [
        "class a2(Init):\n",
        "    def __init__(self,value):\n",
        "        Init.__init__(self,value)\n",
        "        self.value = self.value + 5"
      ],
      "id": "f6695e8a-9a58-4f13-a9fd-a97ef1c9da46"
    },
    {
      "cell_type": "code",
      "execution_count": 52,
      "metadata": {},
      "outputs": [
        {
          "output_type": "stream",
          "name": "stdout",
          "text": [
            "Init클래스에서 정의된 __init__메소드를 실행합니다"
          ]
        }
      ],
      "source": [
        "a = a2(4)\n",
        "a.value"
      ],
      "id": "66bc2164-d037-4b08-bd91-4a3e2177ee8d"
    },
    {
      "cell_type": "markdown",
      "metadata": {},
      "source": [
        "`-` 근데 `초기값 = 초기갑 x 2 + 5`를 객체 생성과 동시에 수행해주는\n",
        "클래스를 만들고 싶음."
      ],
      "id": "6f9b6e9f-df12-4dcf-ac42-863eb2227d71"
    },
    {
      "cell_type": "code",
      "execution_count": 56,
      "metadata": {},
      "outputs": [
        {
          "output_type": "stream",
          "name": "stdout",
          "text": [
            "초기값 = 초기값 x2 + 5를 수행ㅎ는 클래스입니다."
          ]
        }
      ],
      "source": [
        "class a3(a1,a2) :\n",
        "    print(\"초기값 = 초기값 x2 + 5를 수행ㅎ는 클래스입니다.\")\n",
        "    def __init__(self,value) :\n",
        "        a1.__init__(self,value)\n",
        "        a2.__init__(self,self.value)"
      ],
      "id": "ae35749d-6f2e-46de-9c26-5f2b423f8b7f"
    },
    {
      "cell_type": "code",
      "execution_count": 57,
      "metadata": {},
      "outputs": [
        {
          "output_type": "stream",
          "name": "stdout",
          "text": [
            "Init클래스에서 정의된 __init__메소드를 실행합니다\n",
            "Init클래스에서 정의된 __init__메소드를 실행합니다"
          ]
        }
      ],
      "source": [
        "a = a3(5)"
      ],
      "id": "91d4f5be-287c-477c-b33e-6a74c0afbe66"
    },
    {
      "cell_type": "code",
      "execution_count": 58,
      "metadata": {},
      "outputs": [],
      "source": [
        "a.value"
      ],
      "id": "fa815b70-1cda-4c62-9aaf-d1f11c896428"
    },
    {
      "cell_type": "markdown",
      "metadata": {},
      "source": [
        "#### 싫은 이유\n",
        "\n",
        "1.  코드가 지저분함\n",
        "\n",
        "2.  먼가 상속이란 단어의 진정성이 없음\n",
        "\n",
        "------------------------------------------------------------------------\n",
        "\n",
        "### super()을 활용한 좋은 예시"
      ],
      "id": "4eff252a-5adf-445a-b065-269035f69d03"
    },
    {
      "cell_type": "code",
      "execution_count": 65,
      "metadata": {},
      "outputs": [],
      "source": [
        "class Init(object):\n",
        "    def __init__(self,value):\n",
        "        ## 여기는 Init 클래스야 \n",
        "        print(\"Init클래스에서 정의된 __init__메소드를 실행합니다\")        \n",
        "        self.value = value\n",
        "        \n",
        "class a1(Init):\n",
        "    def __init__(self,value):\n",
        "        super().__init__(value)\n",
        "        self.value = self.value * 2\n",
        "        \n",
        "class a2(Init):\n",
        "    def __init__(self,value):\n",
        "        super().__init__(value)\n",
        "        self.value = self.value + 5\n",
        "        \n",
        "class a3(a2,a1):\n",
        "    def __init__(self,value):\n",
        "        super().__init__(value)"
      ],
      "id": "82e4943b-03d1-4de3-8a18-26e09d78d501"
    },
    {
      "cell_type": "code",
      "execution_count": 67,
      "metadata": {},
      "outputs": [
        {
          "output_type": "stream",
          "name": "stdout",
          "text": [
            "Init클래스에서 정의된 __init__메소드를 실행합니다"
          ]
        }
      ],
      "source": [
        "a = a3(5)"
      ],
      "id": "64afb6c3-b95f-4d7a-b7a1-81776944f7eb"
    },
    {
      "cell_type": "code",
      "execution_count": 68,
      "metadata": {},
      "outputs": [],
      "source": [
        "a.value"
      ],
      "id": "fdebc298-6821-4386-86f1-540282ea7898"
    },
    {
      "cell_type": "markdown",
      "metadata": {},
      "source": [
        "### super의 사용방법\n",
        "\n",
        "`-` **(“초기값 x 2 + 5) x 2”** 를 수행해주는 클래스를 만들고 싶음."
      ],
      "id": "c85a5330-1fe7-4b1c-8a66-033cd24258b9"
    },
    {
      "cell_type": "code",
      "execution_count": 90,
      "metadata": {},
      "outputs": [],
      "source": [
        "class Init(object):\n",
        "    def __init__(self,value):\n",
        "        ## 여기는 Init 클래스야 \n",
        "        print(\"Init클래스에서 정의된 __init__메소드를 실행합니다\")        \n",
        "        self.value = value\n",
        "        \n",
        "class a1(Init):\n",
        "    def __init__(self,value):\n",
        "        super().__init__(value)\n",
        "        self.value = self.value * 2\n",
        "        \n",
        "class a2(Init):\n",
        "    def __init__(self,value):\n",
        "        super().__init__(value)\n",
        "        self.value = self.value + 5\n",
        "        \n",
        "class a3(a2,a1): ## 파라미터 순서에 따라 mro 상속 순서가 달라짐\n",
        "    def __init__(self,value):\n",
        "        super().__init__(value)\n",
        "        super(a2,self).__init__(self.value)"
      ],
      "id": "92b723e6-e74b-48d7-a08c-07d5be1e0554"
    },
    {
      "cell_type": "markdown",
      "metadata": {},
      "source": [
        "`-` `super().__init__(value)` : 상위 클래스인 `init,a1,a2`의\n",
        "`__init__`를 순서대로 실행하되 중복실행하지 않는다.\n",
        "\n",
        "`-` `super(a2,self).__init__(self.value)` : `a2`보다 상위 클래스인\n",
        "`init, a1`의 `__init__`을 순서대로 실행하되 중복실행은 하지 않음."
      ],
      "id": "6f273187-83d9-430a-9b27-f3eab6685128"
    },
    {
      "cell_type": "code",
      "execution_count": 88,
      "metadata": {},
      "outputs": [
        {
          "output_type": "stream",
          "name": "stdout",
          "text": [
            "Init클래스에서 정의된 __init__메소드를 실행합니다\n",
            "Init클래스에서 정의된 __init__메소드를 실행합니다"
          ]
        }
      ],
      "source": [
        "a = a3(5)\n",
        "a.value"
      ],
      "id": "97d1b0ad-3155-45c6-b989-2763b71fe3b7"
    },
    {
      "cell_type": "code",
      "execution_count": 89,
      "metadata": {},
      "outputs": [],
      "source": [
        "a3.mro()"
      ],
      "id": "5c4cc56a-fbf8-428e-98b2-e77b6ae764e0"
    },
    {
      "cell_type": "markdown",
      "metadata": {},
      "source": [
        "`-` 그냥 이게 더 낫지 않나?"
      ],
      "id": "4e55b773-f4bd-4607-9de6-83625eca6510"
    },
    {
      "cell_type": "code",
      "execution_count": 129,
      "metadata": {},
      "outputs": [],
      "source": [
        "class Init(object):\n",
        "    def __init__(self,value):\n",
        "        ## 여기는 Init 클래스야 \n",
        "        print(\"Init클래스에서 정의된 __init__메소드를 실행합니다\")        \n",
        "        self.value = value\n",
        "        \n",
        "class a1(Init):\n",
        "    def aa1(self):\n",
        "        self.value = self.value * 2\n",
        "        \n",
        "class a2(Init):\n",
        "    def aa2(self):\n",
        "        self.value = self.value + 5\n",
        "        \n",
        "class a3(a2,a1):\n",
        "    def aa3(self):\n",
        "        self.aa1()\n",
        "        self.aa2()\n",
        "        self.aa1()"
      ],
      "id": "0bc70e01-8f23-400c-abe3-4dfa29643b06"
    },
    {
      "cell_type": "code",
      "execution_count": 130,
      "metadata": {},
      "outputs": [
        {
          "output_type": "stream",
          "name": "stdout",
          "text": [
            "Init클래스에서 정의된 __init__메소드를 실행합니다"
          ]
        }
      ],
      "source": [
        "a = a3(5)"
      ],
      "id": "a7dcc0e1-9c0a-452c-a6ab-7077c1dadbbf"
    },
    {
      "cell_type": "code",
      "execution_count": 132,
      "metadata": {},
      "outputs": [],
      "source": [
        "a.value"
      ],
      "id": "7c6b23fb-3d98-41f4-b186-a3ec3f9a192b"
    },
    {
      "cell_type": "code",
      "execution_count": 133,
      "metadata": {},
      "outputs": [],
      "source": [
        "a.aa3()"
      ],
      "id": "5f027253-b9bb-4887-89d8-798c97e9e71d"
    },
    {
      "cell_type": "code",
      "execution_count": 134,
      "metadata": {},
      "outputs": [],
      "source": [
        "a.value"
      ],
      "id": "cc4f6e8b-cda8-49b3-a468-b24323ebee8d"
    },
    {
      "cell_type": "markdown",
      "metadata": {},
      "source": [
        "`-` 그래도 이전 방법들을 잘 알아야한다.\n",
        "\n",
        "-   어떠한 클래스를 상속 받을때는 “내가 만든 클래스”가 아닐 경우가\n",
        "    대부분이다. 따라서 “애초부터 메소드가 겹치지 않게 클래스들을\n",
        "    깔끔하게 디자인을 하는것”은 불가능한 경우가 많다.\n",
        "\n",
        "## 리스트의 상속\n",
        "\n",
        "`-` list와 비슷하면서… 멤버들의 빈도가 계산되는 메소드를 갖는 나만의\n",
        "list 클래스를 만들고 싶다."
      ],
      "id": "51aa3e87-9bec-4703-ad3f-520ad0edb019"
    },
    {
      "cell_type": "code",
      "execution_count": 135,
      "metadata": {},
      "outputs": [],
      "source": [
        "lst = list('asdfasssdfa')\n",
        "lst "
      ],
      "id": "06184720-a48e-4dd0-9e7f-71c7cecd226e"
    },
    {
      "cell_type": "markdown",
      "metadata": {},
      "source": [
        "`-` 각 원소들의 빈도"
      ],
      "id": "6dfb209f-4c0e-4b9f-bd44-709122765ca3"
    },
    {
      "cell_type": "code",
      "execution_count": 136,
      "metadata": {},
      "outputs": [],
      "source": [
        "{i : lst.count(i) for i in set(lst)}"
      ],
      "id": "c0933a07-8d81-41a1-bcf4-051f1bd637e3"
    },
    {
      "cell_type": "markdown",
      "metadata": {},
      "source": [
        "-   `lst.freq()`를 수행하면 위의 결과가 나왔으면 좋겠음"
      ],
      "id": "70460575-7e7a-467a-b579-f88e2ddaa240"
    },
    {
      "cell_type": "code",
      "execution_count": 138,
      "metadata": {},
      "outputs": [],
      "source": [
        "class List(list) :\n",
        "    def freq(self) :\n",
        "        return {i : self.count(i) for i in set(self)}"
      ],
      "id": "a00176ea-7dcd-4efe-9f89-056a6b96e6c8"
    },
    {
      "cell_type": "code",
      "execution_count": 139,
      "metadata": {},
      "outputs": [],
      "source": [
        "lst2 = List('asdfasssdfa')"
      ],
      "id": "b892f596-67be-486f-9761-16753c578a4a"
    },
    {
      "cell_type": "code",
      "execution_count": 140,
      "metadata": {},
      "outputs": [],
      "source": [
        "lst2"
      ],
      "id": "21494665-dd19-4ada-a07d-708e76f54a6e"
    },
    {
      "cell_type": "code",
      "execution_count": 141,
      "metadata": {},
      "outputs": [],
      "source": [
        "lst2.freq()"
      ],
      "id": "1fa383fb-febb-4380-abd3-3424553e9d36"
    }
  ],
  "nbformat": 4,
  "nbformat_minor": 5,
  "metadata": {
    "kernelspec": {
      "name": "python3",
      "display_name": "Python 3 (ipykernel)",
      "language": "python"
    },
    "language_info": {
      "name": "python",
      "codemirror_mode": {
        "name": "ipython",
        "version": "3"
      },
      "file_extension": ".py",
      "mimetype": "text/x-python",
      "nbconvert_exporter": "python",
      "pygments_lexer": "ipython3",
      "version": "3.11.4"
    }
  }
}