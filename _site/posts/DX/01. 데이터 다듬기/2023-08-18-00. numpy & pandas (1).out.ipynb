{
  "cells": [
    {
      "cell_type": "markdown",
      "metadata": {},
      "source": [
        "# 00. numpy & pandas (1)\n",
        "\n",
        "GC  \n",
        "2023-08-18\n",
        "\n",
        "# import"
      ],
      "id": "7f9dd106-6829-4f4b-b333-520056756164"
    },
    {
      "cell_type": "code",
      "execution_count": 4,
      "metadata": {},
      "outputs": [],
      "source": [
        "import pandas as pd\n",
        "import numpy as np\n",
        "import matplotlib.pyplot as plt"
      ],
      "id": "9585b03c-b8a5-4978-8361-dfbb7da9654c"
    },
    {
      "cell_type": "markdown",
      "metadata": {},
      "source": [
        "# 0. 용어 정의\n",
        "\n",
        "1.  axis : 배열의 각 축을 의미\n",
        "\n",
        "2.  rank : 축의 개수\n",
        "\n",
        "3.  shape : (3,4) $\\to (3 \\times 4 \\,\\text{by matrix})$\n",
        "\n",
        "# 1. 배열 선언\n",
        "\n",
        "## (1) 1차원 배열의 선언\n",
        "\n",
        "`-` 튜플"
      ],
      "id": "a90210a0-ce52-481b-8d5f-81519466c5f4"
    },
    {
      "cell_type": "code",
      "execution_count": 36,
      "metadata": {},
      "outputs": [],
      "source": [
        "np.array((1,2,3))"
      ],
      "id": "137388ca-3b22-444a-9d1e-aa42614c7e66"
    },
    {
      "cell_type": "markdown",
      "metadata": {},
      "source": [
        "`-` 리스트"
      ],
      "id": "85040bba-2eb5-49dc-aa9a-1a408d9e8025"
    },
    {
      "cell_type": "code",
      "execution_count": 37,
      "metadata": {},
      "outputs": [],
      "source": [
        "np.array([1,2,3])"
      ],
      "id": "8da36176-53cc-4bfb-b801-57e3d47313c8"
    },
    {
      "cell_type": "markdown",
      "metadata": {},
      "source": [
        "`-` range"
      ],
      "id": "93abee2a-1473-48ca-94c9-d3fa0100840e"
    },
    {
      "cell_type": "code",
      "execution_count": 39,
      "metadata": {},
      "outputs": [],
      "source": [
        "np.array(range(10))"
      ],
      "id": "bc0b5feb-4355-454f-b083-d53fe9d51ae1"
    },
    {
      "cell_type": "markdown",
      "metadata": {},
      "source": [
        "### 알아두면 좋은 1차원 배열 선언"
      ],
      "id": "34d59fd2-af85-482a-82a6-1718100cbfae"
    },
    {
      "cell_type": "code",
      "execution_count": 40,
      "metadata": {},
      "outputs": [],
      "source": [
        "np.zeros(3)"
      ],
      "id": "98c9fa83-8541-4356-84e4-c7f1c6df2b1e"
    },
    {
      "cell_type": "code",
      "execution_count": 41,
      "metadata": {},
      "outputs": [],
      "source": [
        "np.ones(3)"
      ],
      "id": "082f733f-04a7-4c22-8a8d-4ad2cb1584f6"
    },
    {
      "cell_type": "markdown",
      "metadata": {},
      "source": [
        "`-` `np.linspace(2,8,4)` : 2~8까지, 4개의 원소를 생성"
      ],
      "id": "fa984ce8-9c64-400b-8f5d-36e652d79bfa"
    },
    {
      "cell_type": "code",
      "execution_count": 42,
      "metadata": {},
      "outputs": [],
      "source": [
        "np.linspace(2,8,4)"
      ],
      "id": "363d36b5-b68f-42d1-baf7-4ee7b47ccb0e"
    },
    {
      "cell_type": "markdown",
      "metadata": {},
      "source": [
        "`-` `np.arange(start,end)` : nump버전 range라고 생각하자!"
      ],
      "id": "44aa2967-9dff-40f0-a1f4-45eae48a76f5"
    },
    {
      "cell_type": "code",
      "execution_count": 45,
      "metadata": {},
      "outputs": [],
      "source": [
        "np.arange(5), np.arange(1,6)"
      ],
      "id": "9f9e2d66-fdb6-4305-aed4-cedbdb29be3a"
    },
    {
      "cell_type": "markdown",
      "metadata": {},
      "source": [
        "### 주의 1. 배열의 자료형\n",
        "\n",
        "`-` 숫자 $\\to$ 문자"
      ],
      "id": "f35d4cb8-a130-46bf-ab95-7d3a3049d0d3"
    },
    {
      "cell_type": "code",
      "execution_count": 85,
      "metadata": {},
      "outputs": [],
      "source": [
        "a = np.array([1,\"A\",3.0])\n",
        "a"
      ],
      "id": "43092f69-6113-40f8-89aa-4d2fed40f07f"
    },
    {
      "cell_type": "markdown",
      "metadata": {},
      "source": [
        "`-` 정수 $\\to$ 실수"
      ],
      "id": "f7573d4a-80db-4c4e-9cea-c7f7b0c9d098"
    },
    {
      "cell_type": "code",
      "execution_count": 86,
      "metadata": {},
      "outputs": [],
      "source": [
        "a = np.array([1,2,3.0])\n",
        "a"
      ],
      "id": "792d9bbe-3099-4933-bf07-7ef437569722"
    },
    {
      "cell_type": "markdown",
      "metadata": {},
      "source": [
        "## (2) 2차원 배열의 선언\n",
        "\n",
        "### list"
      ],
      "id": "ed068725-50cb-45ce-80fe-722b9a6f6cde"
    },
    {
      "cell_type": "code",
      "execution_count": 58,
      "metadata": {},
      "outputs": [],
      "source": [
        "a1 = [[1,2,3],\n",
        "     [4,5,6]]\n",
        "\n",
        "np.array(a1)"
      ],
      "id": "f08fc378-e591-4ec5-99ec-b80e8c034031"
    },
    {
      "cell_type": "markdown",
      "metadata": {},
      "source": [
        "### stack"
      ],
      "id": "60c2acff-2d86-48a1-a7d2-0f8137e3c604"
    },
    {
      "cell_type": "code",
      "execution_count": 60,
      "metadata": {},
      "outputs": [],
      "source": [
        "a1 = np.random.randint(0,9,3)\n",
        "a2 = np.random.randint(0,9,3)\n",
        "\n",
        "A1 = np.stack([a1,a2],axis=0) \n",
        "A1, A1.shape"
      ],
      "id": "2d7de67b-6eb0-49ce-b54d-b684cfb84241"
    },
    {
      "cell_type": "code",
      "execution_count": 62,
      "metadata": {},
      "outputs": [],
      "source": [
        "A2 = np.stack([a1,a2],axis=1) \n",
        "A2, A2.shape"
      ],
      "id": "3d3e3680-fe05-4cea-b52d-855c3e957717"
    },
    {
      "cell_type": "markdown",
      "metadata": {},
      "source": [
        "## (3) 3차원 배열의 선언\n",
        "\n",
        "### list"
      ],
      "id": "822b2440-ca21-4f44-9323-25480e0961d6"
    },
    {
      "cell_type": "code",
      "execution_count": 72,
      "metadata": {},
      "outputs": [],
      "source": [
        "a = [[[1,2],[3,4]],[[5,6],[7,8]]]\n",
        "np.array(a), np.array(a).shape"
      ],
      "id": "7e633d7d-9921-4849-b9b5-434840b74579"
    },
    {
      "cell_type": "markdown",
      "metadata": {},
      "source": [
        "### stack + reshape"
      ],
      "id": "5379ac38-ec62-4445-aba8-eedeb6ff9af0"
    },
    {
      "cell_type": "code",
      "execution_count": 118,
      "metadata": {},
      "outputs": [],
      "source": [
        "a1 = np.random.randint(0,9,4)\n",
        "a2 = np.random.randint(0,9,4)\n",
        "a3 = np.random.randint(0,9,4)\n",
        "\n",
        "A1 = np.stack([a1,a2,a3],axis=0).reshape(2,3,2)\n",
        "A1, A1.shape"
      ],
      "id": "3f7127d4-1138-419c-9973-c53a8832960d"
    },
    {
      "cell_type": "code",
      "execution_count": 125,
      "metadata": {},
      "outputs": [],
      "source": [
        "A1.dtype"
      ],
      "id": "b83edfdd-5878-4757-8617-78dc0da75a4d"
    },
    {
      "cell_type": "markdown",
      "metadata": {},
      "source": [
        "------------------------------------------------------------------------\n",
        "\n",
        "# 2. 인덱싱 & 슬라이싱"
      ],
      "id": "221ac69f-bcbe-4e2b-8478-75c08f4feb61"
    },
    {
      "cell_type": "code",
      "execution_count": 154,
      "metadata": {},
      "outputs": [],
      "source": [
        "a1 = np.random.randint(0,9,3)\n",
        "a2 = np.random.randint(0,9,3)\n",
        "a3 = np.random.randint(0,9,3)\n",
        "a4 = np.random.randint(0,9,3)\n",
        "\n",
        "A1 = np.stack([a1,a2,a3,a4],axis=0) \n",
        "A1"
      ],
      "id": "1e4aff31-be60-4a18-8d32-06d68302fa4c"
    },
    {
      "cell_type": "markdown",
      "metadata": {},
      "source": [
        "## 행 조회"
      ],
      "id": "5f6d7e17-c09a-4c8b-bc40-2db8ac7cf488"
    },
    {
      "cell_type": "code",
      "execution_count": 155,
      "metadata": {},
      "outputs": [],
      "source": [
        "A1[0:2,]"
      ],
      "id": "19861302-c5d7-4004-bf4c-db367f27b9cb"
    },
    {
      "cell_type": "code",
      "execution_count": 156,
      "metadata": {},
      "outputs": [],
      "source": [
        "A1[[0,1,2]]"
      ],
      "id": "18ea686e-e0f3-447c-8de4-9054af9fe9ea"
    },
    {
      "cell_type": "code",
      "execution_count": 157,
      "metadata": {},
      "outputs": [],
      "source": [
        "A1[[0,1,2], : ]"
      ],
      "id": "8025f1a6-fd07-4b05-91a3-516946962e8e"
    },
    {
      "cell_type": "markdown",
      "metadata": {},
      "source": [
        "## 열 조회"
      ],
      "id": "4238162b-2b39-41b7-a546-5b152348e98f"
    },
    {
      "cell_type": "code",
      "execution_count": 158,
      "metadata": {},
      "outputs": [],
      "source": [
        "A1[:,0:2]"
      ],
      "id": "c17390c3-ec6a-4445-ab1a-fdf23361c83f"
    },
    {
      "cell_type": "code",
      "execution_count": 159,
      "metadata": {},
      "outputs": [],
      "source": [
        "A1[:,[0,1,2]]"
      ],
      "id": "f0dd9242-3be0-4c0d-af07-3d4329d0fe1e"
    },
    {
      "cell_type": "markdown",
      "metadata": {},
      "source": [
        "## 행,열 조회"
      ],
      "id": "ddac4c77-799e-4362-92a2-60b98bdb4253"
    },
    {
      "cell_type": "code",
      "execution_count": 160,
      "metadata": {},
      "outputs": [],
      "source": [
        "A1[0:2,0:2]"
      ],
      "id": "03618835-f884-4ea8-9376-8f64a6136a86"
    },
    {
      "cell_type": "markdown",
      "metadata": {},
      "source": [
        "## `stride( start :end : interval)`"
      ],
      "id": "967b24b6-7cae-4f02-a47a-02f8faa90a90"
    },
    {
      "cell_type": "code",
      "execution_count": 162,
      "metadata": {},
      "outputs": [],
      "source": [
        "A1"
      ],
      "id": "6b0963c4-754c-4131-94ad-78fd20d46283"
    },
    {
      "cell_type": "code",
      "execution_count": 161,
      "metadata": {},
      "outputs": [],
      "source": [
        "A1[::2, ::2]"
      ],
      "id": "82de65c6-6dba-48c9-929a-551be6c3f163"
    },
    {
      "cell_type": "markdown",
      "metadata": {},
      "source": [
        "## 특정값을 지정하여 접근"
      ],
      "id": "0cf30371-d28f-4b46-a7c8-f0ab70a584f7"
    },
    {
      "cell_type": "code",
      "execution_count": 164,
      "metadata": {},
      "outputs": [],
      "source": [
        "A1"
      ],
      "id": "7c7c6cfb-1a07-42a5-ac29-b94686f69bff"
    },
    {
      "cell_type": "code",
      "execution_count": 170,
      "metadata": {},
      "outputs": [],
      "source": [
        "A1[A1==1]"
      ],
      "id": "a3aab0f1-a6e9-49e4-928f-44ea9f0df1c0"
    },
    {
      "cell_type": "code",
      "execution_count": 173,
      "metadata": {},
      "outputs": [],
      "source": [
        "A1[A1==7]"
      ],
      "id": "42a39900-341e-477d-b024-e1fe11959075"
    },
    {
      "cell_type": "markdown",
      "metadata": {},
      "source": [
        "------------------------------------------------------------------------\n",
        "\n",
        "# 3. 넘파이 연산\n",
        "\n",
        "## 기본 연산"
      ],
      "id": "e9e09b48-f763-4807-982f-7422c147ec40"
    },
    {
      "cell_type": "code",
      "execution_count": 6,
      "metadata": {},
      "outputs": [],
      "source": [
        "a = np.array([1,2,3])"
      ],
      "id": "f0f8d233-18dd-442e-8bd0-45ee2f811e07"
    },
    {
      "cell_type": "code",
      "execution_count": 27,
      "metadata": {},
      "outputs": [
        {
          "output_type": "stream",
          "name": "stdout",
          "text": [
            "\n",
            "1. 사칙연산 \n",
            "\n",
            "a + 1 = [2 3 4]\n",
            "a - 2 = [-1  0  1]\n",
            "a x 2 = [2 4 6]\n",
            "a / 2 = [0.5 1.  1.5]\n",
            "a // 2 = [0 1 1]\n",
            "a % 2 = [1 0 1]\n",
            "\n",
            "=======================================\n",
            "\n",
            "2. 거듭제곱, 로그, 지수, 삼각함수\n",
            "\n",
            "a^2 = [1 4 9]\n",
            "sqrt(a) = [1.   1.41 1.73]\n",
            "log(a) = [0.   0.69 1.1 ]\n",
            "exp(a) = [ 2.72  7.39 20.09]\n",
            "sin(a),cos(a) = (array([0.84, 0.91, 0.14]), array([ 0.54, -0.42, -0.99]))\n"
          ]
        }
      ],
      "source": [
        "print(f'''\n",
        "1. 사칙연산 \n",
        "\n",
        "a + 1 = {a+1}\n",
        "a - 2 = {a-2}\n",
        "a x 2 = {a*2}\n",
        "a / 2 = {a/2}\n",
        "a // 2 = {a//2}\n",
        "a % 2 = {a % 2}\n",
        "\n",
        "=======================================\n",
        "\n",
        "2. 거듭제곱, 로그, 지수, 삼각함수\n",
        "\n",
        "a^2 = {a**2}\n",
        "sqrt(a) = {np.round(np.sqrt(a),2)}\n",
        "log(a) = {np.round(np.log(a),2)}\n",
        "exp(a) = {np.round(np.exp(a),2)}\n",
        "sin(a),cos(a) = {np.round(np.sin(a),2),np.round(np.cos(a),2)}\n",
        "''')"
      ],
      "id": "bf65f65f-9414-41a9-8450-5b8d90a30340"
    },
    {
      "cell_type": "markdown",
      "metadata": {},
      "source": [
        "## 기타 연산(전치행렬,역행렬)"
      ],
      "id": "bdc03980-fcf2-4d83-bbba-348ce2a6a569"
    },
    {
      "cell_type": "code",
      "execution_count": 186,
      "metadata": {},
      "outputs": [],
      "source": [
        "a1 = np.random.randint(0,9,3)\n",
        "a2 = np.random.randint(0,9,3)\n",
        "a3 = np.random.randint(0,9,3)\n",
        "\n",
        "A1 = np.stack([a1,a2,a3],axis=0) \n",
        "A1"
      ],
      "id": "6e27e6c4-f9c4-41d7-ad95-07635729b338"
    },
    {
      "cell_type": "markdown",
      "metadata": {},
      "source": [
        "`-` 전치행렬"
      ],
      "id": "7f06d7af-e24d-4856-969d-f18fbbd1c169"
    },
    {
      "cell_type": "code",
      "execution_count": 187,
      "metadata": {},
      "outputs": [],
      "source": [
        "A1.T"
      ],
      "id": "0cab9f6a-f5a0-482c-acbf-e8c5cfd8f41e"
    },
    {
      "cell_type": "markdown",
      "metadata": {},
      "source": [
        "`-` 역행렬"
      ],
      "id": "0849044e-1ab2-4cce-b1a4-d1f990817e3e"
    },
    {
      "cell_type": "code",
      "execution_count": 188,
      "metadata": {},
      "outputs": [],
      "source": [
        "np.linalg.inv(A1)"
      ],
      "id": "4e31cff3-714a-4cda-b3c8-65f2219205f0"
    },
    {
      "cell_type": "markdown",
      "metadata": {},
      "source": [
        "`-` 행렬연산\n",
        "\n",
        "$$\\bf A^{-1} \\times A = {I}$$\n",
        "\n",
        "$$\\bf {I} = \\begin{bmatrix} 1 & 0 & \\dots & 0 \\\\\n",
        "                                                     0 & 1 & \\dots & 0 \\\\\n",
        "                                                     \\dots &\\dots &\\dots &\\dots \\\\\n",
        "                                                     0 & 0 & \\dots & 1\n",
        "                                                        \\end{bmatrix}$$"
      ],
      "id": "c1555abb-92d9-4759-8dc2-d79bdfbcbbd7"
    },
    {
      "cell_type": "code",
      "execution_count": 196,
      "metadata": {},
      "outputs": [],
      "source": [
        "np.round(A1 @ np.linalg.inv(A1),2)"
      ],
      "id": "35443de9-79d4-4f97-8097-b3eaf4ae950a"
    },
    {
      "cell_type": "markdown",
      "metadata": {},
      "source": [
        "------------------------------------------------------------------------\n",
        "\n",
        "# 연습문제\n",
        "\n",
        "`-`\n",
        "[excercise1](https://gangcheol.github.io/mysite/posts/Lecture/IP/2023-08-04-06.%20numpy.html#exercise-1)\n",
        "\n",
        "`-`\n",
        "[excercise2](https://gangcheol.github.io/mysite/posts/Lecture/IP/2023-08-04-06.%20numpy.html#exercise)\n",
        "\n",
        "`-`\n",
        "[excercise3](https://gangcheol.github.io/mysite/posts/Lecture/IP/2023-08-04-07.%20Numpy%20%ED%99%9C%EC%9A%A9.html#%EB%84%98%ED%8C%8C%EC%9D%B4-%ED%99%9C%EC%9A%A9-1)\n",
        "\n",
        "`-`\n",
        "[excercise4](https://gangcheol.github.io/mysite/posts/Lecture/IP/2023-08-04-07.%20Numpy%20%ED%99%9C%EC%9A%A9.html#%EB%84%98%ED%8C%8C%EC%9D%B4-%ED%99%9C%EC%9A%A9-2)\n",
        "\n",
        "------------------------------------------------------------------------\n",
        "\n",
        "# ref\n",
        "\n",
        "`-` [numpy\n",
        "basic](https://gangcheol.github.io/mysite/posts/Lecture/IP/2023-08-04-06.%20numpy.html)\n",
        "\n",
        "`-` [numpy\n",
        "활용](https://gangcheol.github.io/mysite/posts/Lecture/IP/2023-08-04-06.%20numpy.html)"
      ],
      "id": "55861d84-b01c-4d8a-a3ee-82c57439e832"
    }
  ],
  "nbformat": 4,
  "nbformat_minor": 5,
  "metadata": {
    "kernelspec": {
      "name": "python3",
      "display_name": "Python 3 (ipykernel)",
      "language": "python"
    },
    "language_info": {
      "name": "python",
      "codemirror_mode": {
        "name": "ipython",
        "version": "3"
      },
      "file_extension": ".py",
      "mimetype": "text/x-python",
      "nbconvert_exporter": "python",
      "pygments_lexer": "ipython3",
      "version": "3.11.4"
    }
  }
}