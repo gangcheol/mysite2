{
  "cells": [
    {
      "cell_type": "markdown",
      "metadata": {},
      "source": [
        "# 01. numpy & pandas (2)\n",
        "\n",
        "GC  \n",
        "2023-08-18\n",
        "\n",
        "# import"
      ],
      "id": "43c058d6-5e7e-44a7-a8d3-7391835a7bc1"
    },
    {
      "cell_type": "code",
      "execution_count": 9,
      "metadata": {},
      "outputs": [],
      "source": [
        "import pandas as pd\n",
        "import numpy as np\n",
        "import matplotlib.pyplot as plt"
      ],
      "id": "3402ea78-34c2-40c2-808a-0da0bf21abd8"
    },
    {
      "cell_type": "markdown",
      "metadata": {},
      "source": [
        "# df 만들기\n",
        "\n",
        "## list $\\to$ df"
      ],
      "id": "be1c70a9-7a21-4646-8b92-746916f0d289"
    },
    {
      "cell_type": "code",
      "execution_count": 26,
      "metadata": {},
      "outputs": [],
      "source": [
        "a1 = list(np.random.randint(0,100,10))\n",
        "a2 = list(np.random.randint(0,100,10))\n",
        "a3 = list(np.random.randint(0,100,10))\n",
        "a4= list(np.random.randint(0,100,10))\n",
        "\n",
        "df = pd.DataFrame([a1,a2,a3,a4]).T"
      ],
      "id": "9945c002-fb6c-4574-880b-71c6af47ed5a"
    },
    {
      "cell_type": "code",
      "execution_count": 27,
      "metadata": {},
      "outputs": [],
      "source": [
        "df.head()"
      ],
      "id": "a6220d08-ffc9-419c-a6d6-3e697650643f"
    },
    {
      "cell_type": "markdown",
      "metadata": {},
      "source": [
        "### 날짜 데이터 $\\to$ df.index"
      ],
      "id": "0826ac25-a7a3-46ae-9513-66b4d11085dc"
    },
    {
      "cell_type": "code",
      "execution_count": 29,
      "metadata": {},
      "outputs": [],
      "source": [
        "date = pd.date_range(\"2023-08-18\",\"2023-08-27\",freq =\"D\")"
      ],
      "id": "a573989c-72e7-4043-85ed-3f02fe38bb15"
    },
    {
      "cell_type": "code",
      "execution_count": 32,
      "metadata": {},
      "outputs": [],
      "source": [
        "df.index = date"
      ],
      "id": "9361fa18-29a8-47bc-af86-e127d634a274"
    },
    {
      "cell_type": "markdown",
      "metadata": {},
      "source": [
        "### 컬럼 이름 생성"
      ],
      "id": "23802377-fc5b-4cfc-b3b3-da447354ec4e"
    },
    {
      "cell_type": "code",
      "execution_count": 38,
      "metadata": {},
      "outputs": [],
      "source": [
        "name = [\"a\" + str(i) for i in range(len(df.columns))]"
      ],
      "id": "05ad3f56-089e-4df8-9d6a-16a3d36f8e95"
    },
    {
      "cell_type": "code",
      "execution_count": 41,
      "metadata": {},
      "outputs": [],
      "source": [
        "df.columns= name"
      ],
      "id": "4add240e-9675-473d-aa99-4e6670cb5895"
    },
    {
      "cell_type": "code",
      "execution_count": 42,
      "metadata": {},
      "outputs": [],
      "source": [
        "df.head()"
      ],
      "id": "1d76e896-c1a8-4744-9077-05cf48a8a78c"
    },
    {
      "cell_type": "markdown",
      "metadata": {},
      "source": [
        "------------------------------------------------------------------------\n",
        "\n",
        "## dict $\\to$ df ($\\star\\star\\star$)"
      ],
      "id": "0df455af-ad62-492f-b075-b833ac7c4fcb"
    },
    {
      "cell_type": "code",
      "execution_count": 158,
      "metadata": {},
      "outputs": [],
      "source": [
        "import random"
      ],
      "id": "5b29f8bf-ad22-4053-9531-c5128cc735e1"
    },
    {
      "cell_type": "code",
      "execution_count": 157,
      "metadata": {},
      "outputs": [],
      "source": [
        "code = [\"a\" + str(i) for i in range(10)]\n",
        "height = np.linspace(160,180,10)\n",
        "weight = np.linspace(60,80,10)\n",
        "smoke = random.choices([True, False],k=10) ## 복원 추출\n",
        "date = pd.date_range(\"2023-08-18\",\"2023-08-27\",freq =\"D\")\n",
        "\n",
        "dic = {\"code\" : code,\n",
        "      \"height\" : height,\n",
        "      \"weight\" : weight,\n",
        "      \"smoke\" : smoke}\n",
        "\n",
        "df = pd.DataFrame(dic,index= date)"
      ],
      "id": "9bc9f7ef-3c15-400e-91e5-59aa119319b2"
    },
    {
      "cell_type": "code",
      "execution_count": 159,
      "metadata": {},
      "outputs": [],
      "source": [
        "df.head()"
      ],
      "id": "94a98d92-eb73-4786-94da-64e4d8a78e36"
    },
    {
      "cell_type": "markdown",
      "metadata": {},
      "source": [
        "------------------------------------------------------------------------\n",
        "\n",
        "# csv 파일 로드\n",
        "\n",
        "`-` mpg 데이터 로드"
      ],
      "id": "2116ac7d-7781-457f-9556-42af7aaf4e48"
    },
    {
      "cell_type": "code",
      "execution_count": 88,
      "metadata": {},
      "outputs": [],
      "source": [
        "df = pd.read_csv(\"https://raw.githubusercontent.com/guebin/DV2022/main/posts/mpg.csv\")"
      ],
      "id": "b5e63dc9-986a-4de7-ab09-991823ec3756"
    },
    {
      "cell_type": "code",
      "execution_count": 89,
      "metadata": {},
      "outputs": [],
      "source": [
        "df.head()"
      ],
      "id": "1f8eaa24-dd51-4cd4-8ade-d6d4afb65710"
    },
    {
      "cell_type": "markdown",
      "metadata": {},
      "source": [
        "## 인덱스 정의"
      ],
      "id": "858f9e32-50e8-4ae7-9df1-2b778e0a83e2"
    },
    {
      "cell_type": "code",
      "execution_count": 115,
      "metadata": {},
      "outputs": [],
      "source": [
        "_lst = random.choices(\"ABC\",k= len(df)) ## 중복허용\n",
        "_n = list(np.random.choice(range(1, len(df)+1), len(df), replace=False)) ## 중복 허용 안함"
      ],
      "id": "47d00676-2786-4899-9250-c6761fb3011a"
    },
    {
      "cell_type": "code",
      "execution_count": 117,
      "metadata": {},
      "outputs": [],
      "source": [
        "index = [i + str(j) for i,j in zip(_lst,_n)]"
      ],
      "id": "c0c6d6b2-d095-4775-b006-846e13aae27c"
    },
    {
      "cell_type": "code",
      "execution_count": 119,
      "metadata": {},
      "outputs": [],
      "source": [
        "df.index = index"
      ],
      "id": "cc04650a-759d-4ea2-996f-ecd69ebb1295"
    },
    {
      "cell_type": "markdown",
      "metadata": {},
      "source": [
        "## 인덱스 중복 확인"
      ],
      "id": "f50aca6a-bf81-4222-bc53-25c06db70889"
    },
    {
      "cell_type": "code",
      "execution_count": 126,
      "metadata": {},
      "outputs": [],
      "source": [
        "len(df) == len(df.index.unique())"
      ],
      "id": "d99b5215-f8a5-40bb-884e-cdb52a023d6e"
    },
    {
      "cell_type": "markdown",
      "metadata": {},
      "source": [
        "## 인덱스 생성확인"
      ],
      "id": "079371c9-87f3-452f-afd9-2706bcafea20"
    },
    {
      "cell_type": "code",
      "execution_count": 122,
      "metadata": {},
      "outputs": [],
      "source": [
        "df.head()"
      ],
      "id": "c026874e-2d20-41eb-bfb4-9e651a6da97f"
    },
    {
      "cell_type": "code",
      "execution_count": 123,
      "metadata": {},
      "outputs": [
        {
          "output_type": "stream",
          "name": "stdout",
          "text": [
            "<class 'pandas.core.frame.DataFrame'>\n",
            "Index: 234 entries, A115 to C75\n",
            "Data columns (total 11 columns):\n",
            " #   Column        Non-Null Count  Dtype  \n",
            "---  ------        --------------  -----  \n",
            " 0   manufacturer  234 non-null    object \n",
            " 1   model         234 non-null    object \n",
            " 2   displ         234 non-null    float64\n",
            " 3   year          234 non-null    int64  \n",
            " 4   cyl           234 non-null    int64  \n",
            " 5   trans         234 non-null    object \n",
            " 6   drv           234 non-null    object \n",
            " 7   cty           234 non-null    int64  \n",
            " 8   hwy           234 non-null    int64  \n",
            " 9   fl            234 non-null    object \n",
            " 10  class         234 non-null    object \n",
            "dtypes: float64(1), int64(4), object(6)\n",
            "memory usage: 21.9+ KB"
          ]
        }
      ],
      "source": [
        "df.info()"
      ],
      "id": "7d74bbbf-4691-4bcd-ac03-7376024638b9"
    },
    {
      "cell_type": "markdown",
      "metadata": {},
      "source": [
        "## df load + index (1)"
      ],
      "id": "c9ad1855-9793-47da-a823-09f8d0f09d2f"
    },
    {
      "cell_type": "code",
      "execution_count": 127,
      "metadata": {},
      "outputs": [],
      "source": [
        "df = pd.read_csv(\"https://raw.githubusercontent.com/guebin/DV2022/main/posts/mpg.csv\",\n",
        "                 index_col=\"manufacturer\")"
      ],
      "id": "0e1b8ed9-785e-4c53-ab89-b31aefe63487"
    },
    {
      "cell_type": "code",
      "execution_count": 128,
      "metadata": {},
      "outputs": [],
      "source": [
        "df.head()"
      ],
      "id": "58c8fb76-3b85-438e-8731-c0155937d688"
    },
    {
      "cell_type": "markdown",
      "metadata": {},
      "source": [
        "## df load + index (2)"
      ],
      "id": "254e263a-7d46-4a6d-9e3d-9ed1dfd8e511"
    },
    {
      "cell_type": "code",
      "execution_count": 146,
      "metadata": {},
      "outputs": [],
      "source": [
        "df = pd.read_csv(\"https://raw.githubusercontent.com/guebin/DV2022/main/posts/mpg.csv\")\n",
        "df = df.set_index(\"manufacturer\") # == df.set_index(\"manufacturer\",inplace= True)"
      ],
      "id": "73bb3d96-2a8a-4d14-842b-bbf2ddad92d0"
    },
    {
      "cell_type": "code",
      "execution_count": 149,
      "metadata": {},
      "outputs": [],
      "source": [
        "df.head()"
      ],
      "id": "2095a370-89ca-4f3a-8dfb-b15c01bd4cff"
    },
    {
      "cell_type": "markdown",
      "metadata": {},
      "source": [
        "`-` 인덱스 이름 삭제"
      ],
      "id": "6f8a1d8c-d70b-44a5-b800-cf86eedd1ee0"
    },
    {
      "cell_type": "code",
      "execution_count": 154,
      "metadata": {},
      "outputs": [],
      "source": [
        "df.index.name = None\n",
        "df.head()"
      ],
      "id": "f314a4bc-5e8f-4a99-ae69-5c183d06c940"
    },
    {
      "cell_type": "markdown",
      "metadata": {},
      "source": [
        "## 인덱스 삭제(index 버리기 x)"
      ],
      "id": "58abf8a3-cf61-482e-9718-542481b9fa27"
    },
    {
      "cell_type": "code",
      "execution_count": 155,
      "metadata": {},
      "outputs": [],
      "source": [
        "_df = df.reset_index()\n",
        "_df.head()"
      ],
      "id": "6bd4abdb-557d-4123-a81d-25f1ab01817d"
    },
    {
      "cell_type": "markdown",
      "metadata": {},
      "source": [
        "## 인덱스 삭제(index 버리기 o)"
      ],
      "id": "d5edd9df-8edf-4215-83a1-f9e3126fc9fc"
    },
    {
      "cell_type": "code",
      "execution_count": 156,
      "metadata": {},
      "outputs": [],
      "source": [
        "_df = df.reset_index(drop=True)\n",
        "_df.head()"
      ],
      "id": "ce4e92f4-d8ea-4bc2-b0ab-f2cdc4f44e02"
    },
    {
      "cell_type": "markdown",
      "metadata": {},
      "source": [
        "------------------------------------------------------------------------\n",
        "\n",
        "# 탐색적 자료 분석(EDA)\n",
        "\n",
        "## import"
      ],
      "id": "69175c22-a382-40de-aace-8166b5564025"
    },
    {
      "cell_type": "code",
      "execution_count": 13,
      "metadata": {},
      "outputs": [],
      "source": [
        "import random\n",
        "import pandas as pd\n",
        "import plotly.express as px"
      ],
      "id": "e023854f-d911-483d-a896-e19e7ec78a4a"
    },
    {
      "cell_type": "markdown",
      "metadata": {},
      "source": [
        "`-` tip 데이터는 `plotly` 모듈에서 제공한다."
      ],
      "id": "3a612558-1e6d-445c-9c99-3b506b8c577d"
    },
    {
      "cell_type": "code",
      "execution_count": 2,
      "metadata": {},
      "outputs": [],
      "source": [
        "tip = px.data.tips()"
      ],
      "id": "e45da6e4-36fc-45f0-8910-754fcbd349f8"
    },
    {
      "cell_type": "code",
      "execution_count": 3,
      "metadata": {},
      "outputs": [
        {
          "output_type": "stream",
          "name": "stdout",
          "text": [
            "<class 'pandas.core.frame.DataFrame'>\n",
            "RangeIndex: 244 entries, 0 to 243\n",
            "Data columns (total 7 columns):\n",
            " #   Column      Non-Null Count  Dtype  \n",
            "---  ------      --------------  -----  \n",
            " 0   total_bill  244 non-null    float64\n",
            " 1   tip         244 non-null    float64\n",
            " 2   sex         244 non-null    object \n",
            " 3   smoker      244 non-null    object \n",
            " 4   day         244 non-null    object \n",
            " 5   time        244 non-null    object \n",
            " 6   size        244 non-null    int64  \n",
            "dtypes: float64(2), int64(1), object(4)\n",
            "memory usage: 13.5+ KB"
          ]
        }
      ],
      "source": [
        "tip.info()"
      ],
      "id": "a0fa7844-4f95-4da8-bb45-761647a66b9c"
    },
    {
      "cell_type": "code",
      "execution_count": 4,
      "metadata": {},
      "outputs": [],
      "source": [
        "tip.shape"
      ],
      "id": "24fcb51d-d096-47ca-99ae-533be15141e5"
    },
    {
      "cell_type": "code",
      "execution_count": 5,
      "metadata": {},
      "outputs": [],
      "source": [
        "tip.index"
      ],
      "id": "0b01a77b-5941-42a5-8045-4a235979d491"
    },
    {
      "cell_type": "markdown",
      "metadata": {},
      "source": [
        "`-` 값 확인"
      ],
      "id": "dd77b1e6-935f-4055-9c2d-d95728b4ffb6"
    },
    {
      "cell_type": "code",
      "execution_count": 6,
      "metadata": {},
      "outputs": [],
      "source": [
        "tip.values"
      ],
      "id": "c1230813-7e01-4959-8e83-3f0c6978a845"
    },
    {
      "cell_type": "markdown",
      "metadata": {},
      "source": [
        "`-` 기초통계정보 확인"
      ],
      "id": "d2c0b223-fe8b-4347-9fd6-64de3014ac87"
    },
    {
      "cell_type": "code",
      "execution_count": 7,
      "metadata": {},
      "outputs": [],
      "source": [
        "tip.describe()"
      ],
      "id": "ff5d6f1f-9fe2-4b38-b658-85853efe8822"
    },
    {
      "cell_type": "code",
      "execution_count": 8,
      "metadata": {},
      "outputs": [],
      "source": [
        "tip.head()"
      ],
      "id": "f9d97cfa-836b-4227-a60b-ccfb6e3efab8"
    },
    {
      "cell_type": "markdown",
      "metadata": {},
      "source": [
        "## sort\n",
        "\n",
        "`-` total_bill 기준 오름차순 정렬"
      ],
      "id": "c1c887d6-3ad2-43ab-a99d-592ea389aa20"
    },
    {
      "cell_type": "code",
      "execution_count": 8,
      "metadata": {},
      "outputs": [],
      "source": [
        "tip.sort_values(by = \"total_bill\").head()"
      ],
      "id": "12e25750-e7d2-47fd-b187-1d081450f643"
    },
    {
      "cell_type": "markdown",
      "metadata": {},
      "source": [
        "`-` 내림차순 정렬"
      ],
      "id": "d1264df2-9bd3-403a-8bdc-9b9e2293601d"
    },
    {
      "cell_type": "code",
      "execution_count": 10,
      "metadata": {},
      "outputs": [],
      "source": [
        "tip.sort_values(by = \"total_bill\",ascending=False).head()"
      ],
      "id": "7a9ec0f1-a4e0-4587-b186-8e0df11ab36e"
    },
    {
      "cell_type": "markdown",
      "metadata": {},
      "source": [
        "`-` 복합열 정렬 : total_bill은 오름차순, tip은 내림차순 기준으로 정렬"
      ],
      "id": "03bdde0f-67c4-48fd-884b-2e35c622b64c"
    },
    {
      "cell_type": "code",
      "execution_count": 12,
      "metadata": {},
      "outputs": [],
      "source": [
        "tip.sort_values(by = [\"total_bill\",\"tip\"],ascending=[False,True])"
      ],
      "id": "6dc0b6c6-4005-48f7-b2be-134b9152f670"
    },
    {
      "cell_type": "markdown",
      "metadata": {},
      "source": [
        "## unique값 확인 (범주형 데이터)\n",
        "\n",
        "`-` day열의 unique값 확인"
      ],
      "id": "310baa04-abd2-4b4b-b268-65daa708a2e5"
    },
    {
      "cell_type": "code",
      "execution_count": 24,
      "metadata": {},
      "outputs": [],
      "source": [
        "#tip.day"
      ],
      "id": "20b81e8b-0bd7-44dd-91c9-3a7a8ed3e6e0"
    },
    {
      "cell_type": "code",
      "execution_count": 22,
      "metadata": {},
      "outputs": [],
      "source": [
        "tip.day.unique()"
      ],
      "id": "8544b653-fc7b-4ac6-a4e8-715a98cef054"
    },
    {
      "cell_type": "markdown",
      "metadata": {},
      "source": [
        "`-` unique값 개수 확인"
      ],
      "id": "94de4a9d-deb5-453b-ac8e-0cf1a06e4229"
    },
    {
      "cell_type": "code",
      "execution_count": 40,
      "metadata": {},
      "outputs": [],
      "source": [
        "tip.day.value_counts()"
      ],
      "id": "92738db9-2fbe-4c78-a74a-a824382bbc7d"
    },
    {
      "cell_type": "markdown",
      "metadata": {},
      "source": [
        "`-` 시각화"
      ],
      "id": "875d0c24-ab73-424b-86a6-7ceab4d1b4d7"
    },
    {
      "cell_type": "code",
      "execution_count": 50,
      "metadata": {},
      "outputs": [
        {
          "output_type": "display_data",
          "metadata": {},
          "data": {
            "image/png": "[encoded data removed]"
          }
        }
      ],
      "source": [
        "tip.day.value_counts().plot(kind=\"barh\",title=\"count of day\",figsize = (4,4))"
      ],
      "id": "444f5bd8-2972-4b0f-afea-db014b210514"
    },
    {
      "cell_type": "markdown",
      "metadata": {},
      "source": [
        "`-` smoker 몇 명이나 있는지 확인"
      ],
      "id": "b287ffb9-ccdd-4e7b-910f-1b6714a9b563"
    },
    {
      "cell_type": "code",
      "execution_count": 53,
      "metadata": {},
      "outputs": [],
      "source": [
        "tip.smoker.value_counts()"
      ],
      "id": "204215b2-4caa-46e5-9fa6-c5537fbadc49"
    },
    {
      "cell_type": "markdown",
      "metadata": {},
      "source": [
        "`-` 비율 확인"
      ],
      "id": "37112213-3e47-4c18-a851-f747174b00da"
    },
    {
      "cell_type": "code",
      "execution_count": 54,
      "metadata": {},
      "outputs": [],
      "source": [
        "tip.smoker.value_counts() / len(tip) # = tip.smoker.value_counts(normalize = True)"
      ],
      "id": "9fd22884-cf40-4287-8aad-4bc59c013807"
    },
    {
      "cell_type": "markdown",
      "metadata": {},
      "source": [
        "`-` 비율 시각화"
      ],
      "id": "1b40c61b-d8cf-40cc-ad94-7037ddc03107"
    },
    {
      "cell_type": "code",
      "execution_count": 57,
      "metadata": {},
      "outputs": [
        {
          "output_type": "display_data",
          "metadata": {},
          "data": {
            "image/png": "[encoded data removed]"
          }
        }
      ],
      "source": [
        "(tip.smoker.value_counts() / len(tip)).plot(kind=\"bar\",title=\"count of smoker\",figsize = (4,4))"
      ],
      "id": "eb2bea8b-1ee3-4bc0-8a49-73d09cc9bb62"
    },
    {
      "cell_type": "markdown",
      "metadata": {},
      "source": [
        "`-` total_bill의 lineplot 확인"
      ],
      "id": "319b0142-8e6b-478d-9c67-67c2708cc753"
    },
    {
      "cell_type": "code",
      "execution_count": 37,
      "metadata": {},
      "outputs": [
        {
          "output_type": "display_data",
          "metadata": {},
          "data": {
            "image/png": "[encoded data removed]"
          }
        }
      ],
      "source": [
        "tip.total_bill.plot(figsize=(4,4))"
      ],
      "id": "e22a4dd7-3f10-4da4-96d4-6e470f7c1b0d"
    },
    {
      "cell_type": "markdown",
      "metadata": {},
      "source": [
        "## 최빈값"
      ],
      "id": "97f34a1f-3db8-4132-a8ae-14d6c4d0b0dd"
    },
    {
      "cell_type": "code",
      "execution_count": 61,
      "metadata": {},
      "outputs": [],
      "source": [
        "tip.day.value_counts()"
      ],
      "id": "9951049f-8aec-413e-b317-2e8a4df11505"
    },
    {
      "cell_type": "code",
      "execution_count": 60,
      "metadata": {},
      "outputs": [],
      "source": [
        "tip.day.mode()"
      ],
      "id": "16899588-fa70-45a5-b607-453e6c04cb41"
    },
    {
      "cell_type": "code",
      "execution_count": 63,
      "metadata": {},
      "outputs": [],
      "source": [
        "tip.smoker.mode()"
      ],
      "id": "389cdee1-a6b6-487f-b840-1287e455d6ea"
    },
    {
      "cell_type": "markdown",
      "metadata": {},
      "source": [
        "## `df.sum`\n",
        "\n",
        "### axis=0 (개별 컬럼의 합을 계산)"
      ],
      "id": "34e2b62f-b0ef-413f-b12a-cb1f490f7dd0"
    },
    {
      "cell_type": "code",
      "execution_count": 71,
      "metadata": {},
      "outputs": [],
      "source": [
        "tip.head()"
      ],
      "id": "7a2b6a6c-7a62-4b80-8576-23668900a2dc"
    },
    {
      "cell_type": "code",
      "execution_count": 93,
      "metadata": {},
      "outputs": [],
      "source": [
        "tip.sum(axis=0)"
      ],
      "id": "02c6be07-17e0-4036-bb70-0a914d07e630"
    },
    {
      "cell_type": "markdown",
      "metadata": {},
      "source": [
        "### 평균과 중앙값"
      ],
      "id": "65e0e326-d7db-46f5-868a-08c99b875d82"
    },
    {
      "cell_type": "code",
      "execution_count": 95,
      "metadata": {},
      "outputs": [],
      "source": [
        "tip[[\"total_bill\",\"tip\"]].mean()"
      ],
      "id": "2be90253-05c0-4d9e-8639-52ee33669d0c"
    },
    {
      "cell_type": "code",
      "execution_count": 96,
      "metadata": {},
      "outputs": [],
      "source": [
        "tip[[\"total_bill\",\"tip\"]].median()"
      ],
      "id": "733f3867-4982-4222-ade1-34b3f58c20c4"
    }
  ],
  "nbformat": 4,
  "nbformat_minor": 5,
  "metadata": {
    "kernelspec": {
      "name": "python3",
      "display_name": "Python 3 (ipykernel)",
      "language": "python"
    },
    "language_info": {
      "name": "python",
      "codemirror_mode": {
        "name": "ipython",
        "version": "3"
      },
      "file_extension": ".py",
      "mimetype": "text/x-python",
      "nbconvert_exporter": "python",
      "pygments_lexer": "ipython3",
      "version": "3.11.4"
    }
  }
}