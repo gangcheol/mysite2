{
 "cells": [
  {
   "cell_type": "raw",
   "id": "bb84119c",
   "metadata": {},
   "source": [
    "---\n",
    "title : \"00. Intro & setting\"\n",
    "author : \"GC\"\n",
    "date : \"07/31/23\"\n",
    "categories : [\"DX\"]\n",
    "---"
   ]
  },
  {
   "cell_type": "markdown",
   "id": "beeb050b",
   "metadata": {},
   "source": [
    "# 1. Quarto"
   ]
  },
  {
   "cell_type": "markdown",
   "id": "6257581c",
   "metadata": {},
   "source": [
    "`-` 어... 일단 평소에도 quarto를 이용해서 웹사이트를 관리했지만... 뭔가 처음 깃허브를 접하구 하시는 분들은 이 플랫폼을 사용할 때 되게 난항이 있을것 같다... (내가 그랬다...)"
   ]
  },
  {
   "cell_type": "markdown",
   "id": "cea702b2",
   "metadata": {},
   "source": [
    "`-` 이참에 절차를 확실히 내가 적어두자!"
   ]
  },
  {
   "cell_type": "markdown",
   "id": "0a2d4e05",
   "metadata": {},
   "source": [
    "## (1) install "
   ]
  },
  {
   "cell_type": "markdown",
   "id": "393ec144",
   "metadata": {},
   "source": [
    "`-` [quarto download link](https://quarto.org/docs/get-started/) : 여기서 quarto를 다운받자!"
   ]
  },
  {
   "cell_type": "markdown",
   "id": "71b8f420",
   "metadata": {},
   "source": [
    "## (2) website 생성"
   ]
  },
  {
   "cell_type": "markdown",
   "id": "0762e8d5",
   "metadata": {},
   "source": [
    "`-` Terminal을 켠다음에 아래와 같은 명령어를 입력한다!"
   ]
  },
  {
   "cell_type": "markdown",
   "id": "e408a1a0",
   "metadata": {},
   "source": [
    "(그.. 명령어 입력할 때 현재 자기 주피터 킬때 켜지는 폴더로 옮긴 다음에 수행하자... 골치 아프다ㅜㅜ)"
   ]
  },
  {
   "cell_type": "markdown",
   "id": "08e05428",
   "metadata": {},
   "source": [
    "**quarto create project website gcsite**"
   ]
  },
  {
   "cell_type": "markdown",
   "id": "7162cf0e",
   "metadata": {},
   "source": [
    "`-` 그러면 다음과 같은 이미지가 보인다"
   ]
  },
  {
   "cell_type": "markdown",
   "id": "dbb2b2e2",
   "metadata": {},
   "source": [
    "<img src =\"quarto1.png\" width=350>"
   ]
  },
  {
   "cell_type": "markdown",
   "id": "7db92061",
   "metadata": {},
   "source": [
    "`-` 저기 open with 어찌고 보이는데 d버튼 누르면 (don't open)으로 넘어가니 그걸 선택한 후 엔터를 눌러준다!"
   ]
  },
  {
   "cell_type": "markdown",
   "id": "9a194604",
   "metadata": {},
   "source": [
    "`-` 그러면 아래 이미지처럼 맨 밑에 gcsite라는 폴더가 생긴 것을 볼 수 있다."
   ]
  },
  {
   "cell_type": "markdown",
   "id": "84a734a9",
   "metadata": {},
   "source": [
    "<img src = \"quarto2.png\" width = 150>"
   ]
  },
  {
   "cell_type": "markdown",
   "id": "0deff71d",
   "metadata": {},
   "source": [
    "## (3) 깃허브 & 로컬 연결"
   ]
  },
  {
   "cell_type": "markdown",
   "id": "6f32fe7a",
   "metadata": {},
   "source": [
    "`-` git bash 쓰는 사람들 많던데 난 github desktop이 훨씬 편하다."
   ]
  },
  {
   "cell_type": "markdown",
   "id": "80cb1414",
   "metadata": {},
   "source": [
    "`-` git 알못이기 때문에 많은 것을 알기 위해 괴롭고 싶지 않다."
   ]
  },
  {
   "cell_type": "markdown",
   "id": "fb0aaf25",
   "metadata": {},
   "source": [
    "`-` 뭐 여튼 깃허브 데스크탑을 킨다."
   ]
  },
  {
   "cell_type": "markdown",
   "id": "ab58b1d1",
   "metadata": {},
   "source": [
    "`-` 상단 메뉴바 $\\to$ File $\\to$  Add local repository"
   ]
  },
  {
   "cell_type": "markdown",
   "id": "1002c2ae",
   "metadata": {},
   "source": [
    "`-` 그러면 아래와 같은 경고문이 뜬다."
   ]
  },
  {
   "cell_type": "markdown",
   "id": "950be593",
   "metadata": {},
   "source": [
    "<img src = \"quarto3.png\" width=250>"
   ]
  },
  {
   "cell_type": "markdown",
   "id": "5ecb0e1e",
   "metadata": {},
   "source": [
    "`-` local하고 연결하고 싶은데 깃허브에는 gcsite가 없으니 대충 만들어 달라는 것임 **\"create a repository\"** 를 눌러주자."
   ]
  },
  {
   "cell_type": "markdown",
   "id": "6c055e2f",
   "metadata": {},
   "source": [
    "<img src = \"quarto4.png\" width=250>"
   ]
  },
  {
   "cell_type": "markdown",
   "id": "e59a7b3b",
   "metadata": {},
   "source": [
    "`-` 무시, 걍 create repository ㄱㄱ"
   ]
  },
  {
   "cell_type": "markdown",
   "id": "8d5fb8dd",
   "metadata": {},
   "source": [
    "`-` 그러면 깃허브 데스크탑에서 너 방금 만든거 너꺼 깃허브에 Publish 할거냐고 물어봄"
   ]
  },
  {
   "cell_type": "markdown",
   "id": "e2676de6",
   "metadata": {},
   "source": [
    "<img src = \"quarto5.png\" width=300>"
   ]
  },
  {
   "cell_type": "markdown",
   "id": "fbd3b05d",
   "metadata": {},
   "source": [
    "`-` Publish repository 눌러주면 끝~~ (단, publish할 때 private 체크박스는 해제하구 하자!)"
   ]
  },
  {
   "cell_type": "markdown",
   "id": "d360eeb4",
   "metadata": {},
   "source": [
    "`-` 그 다음 내가 생성산 `gcsite` 저장소 setting으로 넘어가서 **pages**를 클릭!"
   ]
  },
  {
   "cell_type": "markdown",
   "id": "b60a5806",
   "metadata": {},
   "source": [
    "`-` 아래와 같이 branch를 수정 후 save 버튼 눌러주자"
   ]
  },
  {
   "cell_type": "markdown",
   "id": "f06aef5c",
   "metadata": {},
   "source": [
    "<img src = \"quarto6.png\" width=450>"
   ]
  },
  {
   "cell_type": "markdown",
   "id": "7bbb6f3f",
   "metadata": {},
   "source": [
    "## (4) 문서 생성"
   ]
  },
  {
   "cell_type": "markdown",
   "id": "5655ed7d",
   "metadata": {},
   "source": [
    "`-` quarto 원리 : 작성한 ipynb파일 html파일로 출력해서 그 html파일들로 웹사이트를 구성하는 것1"
   ]
  },
  {
   "cell_type": "markdown",
   "id": "3022d705",
   "metadata": {},
   "source": [
    "`-` step1. posts와 docs라는 폴더를 만들자"
   ]
  },
  {
   "cell_type": "markdown",
   "id": "789940b3",
   "metadata": {},
   "source": [
    "* posts는 내가 작성하는 ipynb파일들이 들어갈거고, docs에는 html파일이 들어갈 것이다."
   ]
  },
  {
   "cell_type": "markdown",
   "id": "15525490",
   "metadata": {},
   "source": [
    "`-` step2. index 파일 수정"
   ]
  },
  {
   "cell_type": "markdown",
   "id": "d144bb1c",
   "metadata": {},
   "source": [
    "* index파일은 뭐랄까 네비게이터 역할이랄까 아래와 같이 바꿔주자"
   ]
  },
  {
   "cell_type": "markdown",
   "id": "a664a21f",
   "metadata": {},
   "source": [
    "```\n",
    "---\n",
    "title: \"GC site\"\n",
    "listing:\n",
    "  contents: posts\n",
    "  sort: [date desc, title]\n",
    "  type: table\n",
    "  categories: true\n",
    "  sort-ui: true\n",
    "  filter-ui: true\n",
    "page-layout: full\n",
    "title-block-banner: true\n",
    "---\n",
    "```"
   ]
  },
  {
   "cell_type": "markdown",
   "id": "8bb2d2a3",
   "metadata": {},
   "source": [
    "`-` step3. _quarto.uml 파일 수정 $\\to$ 템플릿이랑 디자인 이쁜거 많으니 본인 입맛에 맞게 수정하면 됩니당"
   ]
  },
  {
   "cell_type": "markdown",
   "id": "d48202c7",
   "metadata": {},
   "source": [
    "```\n",
    "project:\n",
    "  type: website\n",
    "  output-dir : docs  \n",
    "website:\n",
    "  title: \"GC site\"\n",
    "  page-navigation: true\n",
    "  navbar:\n",
    "    right:\n",
    "      - icon : github\n",
    "        href : https://github.com/gangcheol/\n",
    "  sidebar:\n",
    "    style: \"docked\"\n",
    "    search: True\n",
    "    contents: auto\n",
    "    \n",
    "format:\n",
    "  html:\n",
    "    css: styles.css\n",
    "    toc: true\n",
    "    code-fold : False\n",
    "    code-line-numbers : True\n",
    "    code-copy : True\n",
    "\n",
    "theme :\n",
    "  light : flatly\n",
    "  \n",
    "editor : visual\n",
    "```"
   ]
  },
  {
   "cell_type": "markdown",
   "id": "a6bf7bab",
   "metadata": {},
   "source": [
    "`-` step4. 앞서 만든 posts폴더에 아무 파일이나 만들어보자"
   ]
  },
  {
   "cell_type": "markdown",
   "id": "3d31a43f",
   "metadata": {},
   "source": [
    "<img src = \"quarto8.png\" width = 200>"
   ]
  },
  {
   "cell_type": "markdown",
   "id": "ef1f58fa",
   "metadata": {},
   "source": [
    "`-` step5. 그 후 다시 터미널에서 내가 생성한 폴더로 이동"
   ]
  },
  {
   "cell_type": "markdown",
   "id": "48943af8",
   "metadata": {},
   "source": [
    "필자의 경우는 `cd gcsite`"
   ]
  },
  {
   "cell_type": "markdown",
   "id": "ac5a6e5a",
   "metadata": {},
   "source": [
    "`-` step6. quarto render 입력"
   ]
  },
  {
   "cell_type": "markdown",
   "id": "30ca06a5",
   "metadata": {},
   "source": [
    "`-` step7. github desktop보면 난리가 났을 것이다. 막 일을 좀 많이 했음."
   ]
  },
  {
   "cell_type": "markdown",
   "id": "6090a7a4",
   "metadata": {},
   "source": [
    "* 로컬하고 연결되어 있으니 로컬이 하고 있는 걸 다적어서 그럼"
   ]
  },
  {
   "cell_type": "markdown",
   "id": "a0dcd19f",
   "metadata": {},
   "source": [
    "<img src = \"quarto9.png\" width = 200>"
   ]
  },
  {
   "cell_type": "markdown",
   "id": "bcdb4b26",
   "metadata": {},
   "source": [
    "* 저기 내가 밑에 이러한 기록을 init이라고 써놨다. 저건 내가 로컬에서 한 행동을 내 깃허브 로컬에 저장할 건데, 그 행동을 init이라고 쓴거"
   ]
  },
  {
   "cell_type": "markdown",
   "id": "23ce4d70",
   "metadata": {},
   "source": [
    "* 이제 저 Commit to main 버튼을 눌러주고 가운데 화면에 뜨는 push origin을 눌러주자!"
   ]
  },
  {
   "cell_type": "markdown",
   "id": "e1a16881",
   "metadata": {},
   "source": [
    "`-` 마지막!! 아까 깃허브 로컬 셋팅에서 pases란에 잠시 후에 들어가보면 다음과 같은 것을 볼 수 있다."
   ]
  },
  {
   "cell_type": "markdown",
   "id": "7001e684",
   "metadata": {},
   "source": [
    "<img src = \"quarto10.png\" width = 500>"
   ]
  },
  {
   "cell_type": "markdown",
   "id": "48335a0c",
   "metadata": {},
   "source": [
    "`-` 저 링크로 들어가면 내가 만든 웹사이트 초안을 볼 수 있다."
   ]
  },
  {
   "cell_type": "markdown",
   "id": "0ed67bb8",
   "metadata": {},
   "source": [
    "`-` [링크](https://gangcheol.github.io/gcsite/)"
   ]
  }
 ],
 "metadata": {
  "kernelspec": {
   "display_name": "Python 3 (ipykernel)",
   "language": "python",
   "name": "python3"
  },
  "language_info": {
   "codemirror_mode": {
    "name": "ipython",
    "version": 3
   },
   "file_extension": ".py",
   "mimetype": "text/x-python",
   "name": "python",
   "nbconvert_exporter": "python",
   "pygments_lexer": "ipython3",
   "version": "3.9.12"
  },
  "toc": {
   "base_numbering": 1,
   "nav_menu": {},
   "number_sections": false,
   "sideBar": true,
   "skip_h1_title": false,
   "title_cell": "Table of Contents",
   "title_sidebar": "Contents",
   "toc_cell": false,
   "toc_position": {},
   "toc_section_display": true,
   "toc_window_display": true
  }
 },
 "nbformat": 4,
 "nbformat_minor": 5
}
