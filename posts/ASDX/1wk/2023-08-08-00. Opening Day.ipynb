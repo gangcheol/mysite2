{
 "cells": [
  {
   "cell_type": "raw",
   "id": "442db185-dc40-442c-81a2-66cbb5767d16",
   "metadata": {},
   "source": [
    "---\n",
    "title : \"00. Opening Day\"\n",
    "author : \"GC\"\n",
    "date : \"08/08/23\"\n",
    "categories : [\"AIVLE\"]\n",
    "---"
   ]
  }
 ],
 "metadata": {
  "kernelspec": {
   "display_name": "Python 3 (ipykernel)",
   "language": "python",
   "name": "python3"
  },
  "language_info": {
   "codemirror_mode": {
    "name": "ipython",
    "version": 3
   },
   "file_extension": ".py",
   "mimetype": "text/x-python",
   "name": "python",
   "nbconvert_exporter": "python",
   "pygments_lexer": "ipython3",
   "version": "3.11.4"
  }
 },
 "nbformat": 4,
 "nbformat_minor": 5
}
