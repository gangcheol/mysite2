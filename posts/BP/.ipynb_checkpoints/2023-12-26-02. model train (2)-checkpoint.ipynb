{
 "cells": [
  {
   "cell_type": "raw",
   "metadata": {},
   "source": [
    "---\n",
    "title : \"02. model train (2)\"\n",
    "author : \"gc\"\n",
    "date : \"12/26/23\"\n",
    "categories : [BP]\n",
    "---"
   ]
  },
  {
   "cell_type": "markdown",
   "metadata": {
    "id": "hzLc4Lk8nZjJ"
   },
   "source": [
    "# 드라이브 마운트"
   ]
  },
  {
   "cell_type": "code",
   "execution_count": 1,
   "metadata": {
    "colab": {
     "base_uri": "https://localhost:8080/"
    },
    "executionInfo": {
     "elapsed": 8098,
     "status": "ok",
     "timestamp": 1703576933359,
     "user": {
      "displayName": "ccc flkwerkdai",
      "userId": "13507850890638580947"
     },
     "user_tz": -540
    },
    "id": "L0Ti9BfInKuM",
    "outputId": "96b2be7f-2bc1-4377-b3da-0882918c65c3"
   },
   "outputs": [
    {
     "name": "stdout",
     "output_type": "stream",
     "text": [
      "Drive already mounted at /content/drive; to attempt to forcibly remount, call drive.mount(\"/content/drive\", force_remount=True).\n"
     ]
    }
   ],
   "source": [
    "from google.colab import drive\n",
    "drive.mount('/content/drive')"
   ]
  },
  {
   "cell_type": "markdown",
   "metadata": {
    "id": "puJEWqUmwxw4"
   },
   "source": [
    "# import"
   ]
  },
  {
   "cell_type": "code",
   "execution_count": 2,
   "metadata": {
    "colab": {
     "base_uri": "https://localhost:8080/",
     "height": 1000
    },
    "executionInfo": {
     "elapsed": 10671,
     "status": "ok",
     "timestamp": 1703576978116,
     "user": {
      "displayName": "ccc flkwerkdai",
      "userId": "13507850890638580947"
     },
     "user_tz": -540
    },
    "id": "Yrcq735yw4Wu",
    "outputId": "40ef2c5d-9627-4740-bd42-8fffe8f3a5be"
   },
   "outputs": [
    {
     "name": "stdout",
     "output_type": "stream",
     "text": [
      "Collecting roboflow\n",
      "  Downloading roboflow-1.1.14-py3-none-any.whl (68 kB)\n",
      "\u001b[2K     \u001b[90m━━━━━━━━━━━━━━━━━━━━━━━━━━━━━━━━━━━━━━━━\u001b[0m \u001b[32m69.0/69.0 kB\u001b[0m \u001b[31m2.4 MB/s\u001b[0m eta \u001b[36m0:00:00\u001b[0m\n",
      "\u001b[?25hCollecting certifi==2023.7.22 (from roboflow)\n",
      "  Downloading certifi-2023.7.22-py3-none-any.whl (158 kB)\n",
      "\u001b[2K     \u001b[90m━━━━━━━━━━━━━━━━━━━━━━━━━━━━━━━━━━━━━━━━\u001b[0m \u001b[32m158.3/158.3 kB\u001b[0m \u001b[31m6.8 MB/s\u001b[0m eta \u001b[36m0:00:00\u001b[0m\n",
      "\u001b[?25hCollecting chardet==4.0.0 (from roboflow)\n",
      "  Downloading chardet-4.0.0-py2.py3-none-any.whl (178 kB)\n",
      "\u001b[2K     \u001b[90m━━━━━━━━━━━━━━━━━━━━━━━━━━━━━━━━━━━━━━━━\u001b[0m \u001b[32m178.7/178.7 kB\u001b[0m \u001b[31m8.8 MB/s\u001b[0m eta \u001b[36m0:00:00\u001b[0m\n",
      "\u001b[?25hCollecting cycler==0.10.0 (from roboflow)\n",
      "  Downloading cycler-0.10.0-py2.py3-none-any.whl (6.5 kB)\n",
      "Collecting idna==2.10 (from roboflow)\n",
      "  Downloading idna-2.10-py2.py3-none-any.whl (58 kB)\n",
      "\u001b[2K     \u001b[90m━━━━━━━━━━━━━━━━━━━━━━━━━━━━━━━━━━━━━━━━\u001b[0m \u001b[32m58.8/58.8 kB\u001b[0m \u001b[31m8.3 MB/s\u001b[0m eta \u001b[36m0:00:00\u001b[0m\n",
      "\u001b[?25hRequirement already satisfied: kiwisolver>=1.3.1 in /usr/local/lib/python3.10/dist-packages (from roboflow) (1.4.5)\n",
      "Requirement already satisfied: matplotlib in /usr/local/lib/python3.10/dist-packages (from roboflow) (3.7.1)\n",
      "Requirement already satisfied: numpy>=1.18.5 in /usr/local/lib/python3.10/dist-packages (from roboflow) (1.23.5)\n",
      "Collecting opencv-python-headless==4.8.0.74 (from roboflow)\n",
      "  Downloading opencv_python_headless-4.8.0.74-cp37-abi3-manylinux_2_17_x86_64.manylinux2014_x86_64.whl (49.1 MB)\n",
      "\u001b[2K     \u001b[90m━━━━━━━━━━━━━━━━━━━━━━━━━━━━━━━━━━━━━━━━\u001b[0m \u001b[32m49.1/49.1 MB\u001b[0m \u001b[31m34.1 MB/s\u001b[0m eta \u001b[36m0:00:00\u001b[0m\n",
      "\u001b[?25hRequirement already satisfied: Pillow>=7.1.2 in /usr/local/lib/python3.10/dist-packages (from roboflow) (9.4.0)\n",
      "Collecting pyparsing==2.4.7 (from roboflow)\n",
      "  Downloading pyparsing-2.4.7-py2.py3-none-any.whl (67 kB)\n",
      "\u001b[2K     \u001b[90m━━━━━━━━━━━━━━━━━━━━━━━━━━━━━━━━━━━━━━━━\u001b[0m \u001b[32m67.8/67.8 kB\u001b[0m \u001b[31m9.7 MB/s\u001b[0m eta \u001b[36m0:00:00\u001b[0m\n",
      "\u001b[?25hRequirement already satisfied: python-dateutil in /usr/local/lib/python3.10/dist-packages (from roboflow) (2.8.2)\n",
      "Collecting python-dotenv (from roboflow)\n",
      "  Downloading python_dotenv-1.0.0-py3-none-any.whl (19 kB)\n",
      "Requirement already satisfied: requests in /usr/local/lib/python3.10/dist-packages (from roboflow) (2.31.0)\n",
      "Requirement already satisfied: six in /usr/local/lib/python3.10/dist-packages (from roboflow) (1.16.0)\n",
      "Collecting supervision (from roboflow)\n",
      "  Downloading supervision-0.17.1-py3-none-any.whl (77 kB)\n",
      "\u001b[2K     \u001b[90m━━━━━━━━━━━━━━━━━━━━━━━━━━━━━━━━━━━━━━━━\u001b[0m \u001b[32m77.5/77.5 kB\u001b[0m \u001b[31m11.1 MB/s\u001b[0m eta \u001b[36m0:00:00\u001b[0m\n",
      "\u001b[?25hRequirement already satisfied: urllib3>=1.26.6 in /usr/local/lib/python3.10/dist-packages (from roboflow) (2.0.7)\n",
      "Requirement already satisfied: tqdm>=4.41.0 in /usr/local/lib/python3.10/dist-packages (from roboflow) (4.66.1)\n",
      "Requirement already satisfied: PyYAML>=5.3.1 in /usr/local/lib/python3.10/dist-packages (from roboflow) (6.0.1)\n",
      "Collecting requests-toolbelt (from roboflow)\n",
      "  Downloading requests_toolbelt-1.0.0-py2.py3-none-any.whl (54 kB)\n",
      "\u001b[2K     \u001b[90m━━━━━━━━━━━━━━━━━━━━━━━━━━━━━━━━━━━━━━━━\u001b[0m \u001b[32m54.5/54.5 kB\u001b[0m \u001b[31m8.2 MB/s\u001b[0m eta \u001b[36m0:00:00\u001b[0m\n",
      "\u001b[?25hCollecting python-magic (from roboflow)\n",
      "  Downloading python_magic-0.4.27-py2.py3-none-any.whl (13 kB)\n",
      "Requirement already satisfied: contourpy>=1.0.1 in /usr/local/lib/python3.10/dist-packages (from matplotlib->roboflow) (1.2.0)\n",
      "Requirement already satisfied: fonttools>=4.22.0 in /usr/local/lib/python3.10/dist-packages (from matplotlib->roboflow) (4.46.0)\n",
      "Requirement already satisfied: packaging>=20.0 in /usr/local/lib/python3.10/dist-packages (from matplotlib->roboflow) (23.2)\n",
      "Requirement already satisfied: charset-normalizer<4,>=2 in /usr/local/lib/python3.10/dist-packages (from requests->roboflow) (3.3.2)\n",
      "Requirement already satisfied: scipy>=1.9.0 in /usr/local/lib/python3.10/dist-packages (from supervision->roboflow) (1.11.4)\n",
      "Installing collected packages: python-magic, python-dotenv, pyparsing, opencv-python-headless, idna, cycler, chardet, certifi, supervision, requests-toolbelt, roboflow\n",
      "  Attempting uninstall: pyparsing\n",
      "    Found existing installation: pyparsing 3.1.1\n",
      "    Uninstalling pyparsing-3.1.1:\n",
      "      Successfully uninstalled pyparsing-3.1.1\n",
      "  Attempting uninstall: opencv-python-headless\n",
      "    Found existing installation: opencv-python-headless 4.8.1.78\n",
      "    Uninstalling opencv-python-headless-4.8.1.78:\n",
      "      Successfully uninstalled opencv-python-headless-4.8.1.78\n",
      "  Attempting uninstall: idna\n",
      "    Found existing installation: idna 3.6\n",
      "    Uninstalling idna-3.6:\n",
      "      Successfully uninstalled idna-3.6\n",
      "  Attempting uninstall: cycler\n",
      "    Found existing installation: cycler 0.12.1\n",
      "    Uninstalling cycler-0.12.1:\n",
      "      Successfully uninstalled cycler-0.12.1\n",
      "  Attempting uninstall: chardet\n",
      "    Found existing installation: chardet 5.2.0\n",
      "    Uninstalling chardet-5.2.0:\n",
      "      Successfully uninstalled chardet-5.2.0\n",
      "  Attempting uninstall: certifi\n",
      "    Found existing installation: certifi 2023.11.17\n",
      "    Uninstalling certifi-2023.11.17:\n",
      "      Successfully uninstalled certifi-2023.11.17\n",
      "\u001b[31mERROR: pip's dependency resolver does not currently take into account all the packages that are installed. This behaviour is the source of the following dependency conflicts.\n",
      "lida 0.0.10 requires fastapi, which is not installed.\n",
      "lida 0.0.10 requires kaleido, which is not installed.\n",
      "lida 0.0.10 requires python-multipart, which is not installed.\n",
      "lida 0.0.10 requires uvicorn, which is not installed.\u001b[0m\u001b[31m\n",
      "\u001b[0mSuccessfully installed certifi-2023.7.22 chardet-4.0.0 cycler-0.10.0 idna-2.10 opencv-python-headless-4.8.0.74 pyparsing-2.4.7 python-dotenv-1.0.0 python-magic-0.4.27 requests-toolbelt-1.0.0 roboflow-1.1.14 supervision-0.17.1\n"
     ]
    },
    {
     "data": {
      "application/vnd.colab-display-data+json": {
       "pip_warning": {
        "packages": [
         "certifi",
         "cycler",
         "pyparsing"
        ]
       }
      }
     },
     "metadata": {},
     "output_type": "display_data"
    }
   ],
   "source": [
    "!pip install roboflow"
   ]
  },
  {
   "cell_type": "code",
   "execution_count": 3,
   "metadata": {
    "executionInfo": {
     "elapsed": 737,
     "status": "ok",
     "timestamp": 1703576978849,
     "user": {
      "displayName": "ccc flkwerkdai",
      "userId": "13507850890638580947"
     },
     "user_tz": -540
    },
    "id": "sxTAJoOow5mv"
   },
   "outputs": [],
   "source": [
    "from roboflow import Roboflow\n",
    "import glob"
   ]
  },
  {
   "cell_type": "markdown",
   "metadata": {
    "id": "I7MQYSaIx7hO"
   },
   "source": [
    "# 데이터 및 Yolov8 로드"
   ]
  },
  {
   "cell_type": "code",
   "execution_count": 4,
   "metadata": {
    "colab": {
     "base_uri": "https://localhost:8080/"
    },
    "executionInfo": {
     "elapsed": 7236,
     "status": "ok",
     "timestamp": 1703576986082,
     "user": {
      "displayName": "ccc flkwerkdai",
      "userId": "13507850890638580947"
     },
     "user_tz": -540
    },
    "id": "ZwYsrgNRxAb_",
    "outputId": "65246d74-fb0a-4e81-e63a-8ec2f5c939d1"
   },
   "outputs": [
    {
     "name": "stdout",
     "output_type": "stream",
     "text": [
      "loading Roboflow workspace...\n",
      "loading Roboflow project...\n",
      "[WARNING] we noticed you are downloading a `yolov8` datasets but you don't have `ultralytics` installed. Roboflow `.deploy` supports only models trained with `ultralytics==8.0.196`, to intall it `pip install ultralytics==8.0.196`.\n"
     ]
    },
    {
     "name": "stderr",
     "output_type": "stream",
     "text": [
      "Downloading Dataset Version Zip in Airport-CCTV-Detection-1 to yolov8:: 100%|██████████| 54462/54462 [00:00<00:00, 63364.75it/s]"
     ]
    },
    {
     "name": "stdout",
     "output_type": "stream",
     "text": [
      "\n"
     ]
    },
    {
     "name": "stderr",
     "output_type": "stream",
     "text": [
      "\n",
      "Extracting Dataset Version Zip to Airport-CCTV-Detection-1 in yolov8:: 100%|██████████| 1332/1332 [00:00<00:00, 4866.27it/s]\n"
     ]
    }
   ],
   "source": [
    "rf = Roboflow(api_key=\"W8hTFjdqqLf0FkkahK5h\")\n",
    "project = rf.workspace(\"hanyang-university-korea\").project(\"airport-cctv-detection\")\n",
    "dataset = project.version(1).download(\"yolov8\")"
   ]
  },
  {
   "cell_type": "markdown",
   "metadata": {
    "id": "k3_EUvC8yN2f"
   },
   "source": [
    "# 테스트, 학습 파일 리스트 전체 Path를 저장"
   ]
  },
  {
   "cell_type": "code",
   "execution_count": 5,
   "metadata": {
    "executionInfo": {
     "elapsed": 6,
     "status": "ok",
     "timestamp": 1703576986083,
     "user": {
      "displayName": "ccc flkwerkdai",
      "userId": "13507850890638580947"
     },
     "user_tz": -540
    },
    "id": "2GbVqeYUybIm"
   },
   "outputs": [],
   "source": [
    "DATA_PATH = \"/content/Airport-CCTV-Detection-1\"\n",
    "TRAIN_PATH = DATA_PATH +\"/train\"\n",
    "VALIDATION_PATH =  DATA_PATH +\"/test\"\n",
    "\n",
    "train_image_list = glob.glob(TRAIN_PATH + \"/images/*.jpg\")\n",
    "validation_image_list = glob.glob(VALIDATION_PATH + \"/images/*.jpg\")"
   ]
  },
  {
   "cell_type": "code",
   "execution_count": 6,
   "metadata": {
    "colab": {
     "base_uri": "https://localhost:8080/"
    },
    "executionInfo": {
     "elapsed": 6,
     "status": "ok",
     "timestamp": 1703576986083,
     "user": {
      "displayName": "ccc flkwerkdai",
      "userId": "13507850890638580947"
     },
     "user_tz": -540
    },
    "id": "Pct4wOCnyRSu",
    "outputId": "caa95be3-4062-4e0d-b0b8-507e0024cbe9"
   },
   "outputs": [
    {
     "name": "stdout",
     "output_type": "stream",
     "text": [
      "학습 데이터(이미지) 개수 : 330\n",
      "검증 데이터(이미지) 개수 : 130\n"
     ]
    }
   ],
   "source": [
    "#전체 갯수 확인하기\n",
    "\n",
    "print(\"학습 데이터(이미지) 개수 : \" + str(len(train_image_list)))\n",
    "print(\"검증 데이터(이미지) 개수 : \" + str(len(validation_image_list)))"
   ]
  },
  {
   "cell_type": "markdown",
   "metadata": {
    "id": "aKQ4HgpzysFe"
   },
   "source": [
    "# train, valid 이미들의 경로를 txt 파일로 저장"
   ]
  },
  {
   "cell_type": "code",
   "execution_count": 7,
   "metadata": {
    "executionInfo": {
     "elapsed": 5,
     "status": "ok",
     "timestamp": 1703576986083,
     "user": {
      "displayName": "ccc flkwerkdai",
      "userId": "13507850890638580947"
     },
     "user_tz": -540
    },
    "id": "X9L-jv4Zy2TF"
   },
   "outputs": [],
   "source": [
    "with open(DATA_PATH + '/train.txt', 'w') as f:\n",
    "    f.write('\\n'.join(train_image_list) + '\\n')\n",
    "\n",
    "with open(DATA_PATH + '/validation.txt', 'w') as f:\n",
    "    f.write('\\n'.join(validation_image_list) + '\\n')"
   ]
  },
  {
   "cell_type": "code",
   "execution_count": 8,
   "metadata": {
    "colab": {
     "base_uri": "https://localhost:8080/"
    },
    "executionInfo": {
     "elapsed": 5,
     "status": "ok",
     "timestamp": 1703576986083,
     "user": {
      "displayName": "ccc flkwerkdai",
      "userId": "13507850890638580947"
     },
     "user_tz": -540
    },
    "id": "iUzqG3uVy3qX",
    "outputId": "fe4ab9e7-6813-4197-9ad7-5ac40253c9b8"
   },
   "outputs": [
    {
     "name": "stdout",
     "output_type": "stream",
     "text": [
      "['/content/Airport-CCTV-Detection-1/train/images/-_0910_F_-_CAM2_20_masking-mp4_245_jpg.rf.faa4eedc526e3e1d33f89380ed0d237e.jpg\\n', '/content/Airport-CCTV-Detection-1/train/images/-_0910_F_-_CAM1_28_masking-mp4_243_jpg.rf.917ce2e18360de52d3975e26f8e10e19.jpg\\n', '/content/Airport-CCTV-Detection-1/train/images/-_0910_F_-_CAM3_25_masking-mp4_297_jpg.rf.20da9e2142196b841d8e5763925c5b85.jpg\\n', '/content/Airport-CCTV-Detection-1/train/images/-_0910_F_-_CAM1_26_masking-mp4_132_jpg.rf.95844b8a8e5ec93ce81a2e3889e1d7d7.jpg\\n', '/content/Airport-CCTV-Detection-1/train/images/-_0910_F_-_CAM6_18_masking-mp4_306_jpg.rf.b58820bb23c4396b9338f52b5857e5c0.jpg\\n', '/content/Airport-CCTV-Detection-1/train/images/0917_H_faint_01_193_masking-mp4_240_jpg.rf.c34b5541909fe04a63dcd77d26de060e.jpg\\n', '/content/Airport-CCTV-Detection-1/train/images/-_0910_F_-_CAM2_22_masking-mp4_128_jpg.rf.0f796a9565e4834cb0a7719514fdf626.jpg\\n', '/content/Airport-CCTV-Detection-1/train/images/-_0910_F_-_CAM6_18_masking-mp4_238_jpg.rf.f77ede345a26f634055c13dfeabed260.jpg\\n', '/content/Airport-CCTV-Detection-1/train/images/0917_H_faint_01_188_masking-mp4_217_jpg.rf.37064c88a3e63463e72e2852a2c368e6.jpg\\n', '/content/Airport-CCTV-Detection-1/train/images/0917_H_faint_01_200_masking-mp4_310_jpg.rf.9216ae5a63e7ba46fc6cc026ffcfb31e.jpg\\n', '/content/Airport-CCTV-Detection-1/train/images/-_0910_F_-_CAM3_20_masking-mp4_320_jpg.rf.ccecb3e45d3d2210f6a41fcc4ce320e3.jpg\\n', '/content/Airport-CCTV-Detection-1/train/images/0917_H_faint_01_194_masking-mp4_272_jpg.rf.848e761d8ad29213d64c4d38a585de2c.jpg\\n', '/content/Airport-CCTV-Detection-1/train/images/0917_H_faint_01_197_masking-mp4_280_jpg.rf.c79355406addb8e513fcda91651baba2.jpg\\n', '/content/Airport-CCTV-Detection-1/train/images/-_0910_F_-_CAM2_19_masking-mp4_185_jpg.rf.ea02310f80475dd032b5922d5e1e8222.jpg\\n', '/content/Airport-CCTV-Detection-1/train/images/-_0910_F_-_CAM3_19_masking-mp4_136_jpg.rf.1ecdfb3124da7bb7b88c08868d30be72.jpg\\n', '/content/Airport-CCTV-Detection-1/train/images/-_0910_F_-_CAM6_26_masking-mp4_272_jpg.rf.aa2b9ca37a9f8e5183ecc217832cc711.jpg\\n', '/content/Airport-CCTV-Detection-1/train/images/0917_H_faint_01_193_masking-mp4_270_jpg.rf.a3b19b69c7fbe6a8fe1d84de9da35097.jpg\\n', '/content/Airport-CCTV-Detection-1/train/images/0917_H_faint_01_203_masking-mp4_168_jpg.rf.c933a030840eccd6ccb60bce4c91ec41.jpg\\n', '/content/Airport-CCTV-Detection-1/train/images/-_0910_F_-_CAM3_27_masking-mp4_165_jpg.rf.c9ed5cd40135a48c16713a2440325fb1.jpg\\n', '/content/Airport-CCTV-Detection-1/train/images/0917_H_faint_01_190_masking-mp4_231_jpg.rf.6c97f2f3460eca43563bcab37e9831de.jpg\\n', '/content/Airport-CCTV-Detection-1/train/images/-_0910_F_-_CAM3_19_masking-mp4_204_jpg.rf.c3853171db6892b2aeccdc59c6df7590.jpg\\n', '/content/Airport-CCTV-Detection-1/train/images/0917_H_faint_01_198_masking-mp4_297_jpg.rf.5d5df686eed4085ed6c308e3212cfda2.jpg\\n', '/content/Airport-CCTV-Detection-1/train/images/-_0910_F_-_CAM3_20_masking-mp4_96_jpg.rf.faf63fe052dd70623321967b8df3004e.jpg\\n', '/content/Airport-CCTV-Detection-1/train/images/-_0910_F_-_CAM6_20_masking-mp4_204_jpg.rf.4b01b818bc3ba9af8ec2f192b7c0ab89.jpg\\n', '/content/Airport-CCTV-Detection-1/train/images/-_0910_F_-_CAM6_20_masking-mp4_170_jpg.rf.4b95236c6e7ac29c0bfac1bbbbb78899.jpg\\n', '/content/Airport-CCTV-Detection-1/train/images/-_0910_F_-_CAM6_24_masking-mp4_231_jpg.rf.7dae9964687ffa6799f53d5758513a09.jpg\\n', '/content/Airport-CCTV-Detection-1/train/images/-_0910_F_-_CAM2_21_masking-mp4_126_jpg.rf.8c823584e4f61495d27f8368442f761e.jpg\\n', '/content/Airport-CCTV-Detection-1/train/images/-_0910_F_-_CAM2_21_masking-mp4_252_jpg.rf.f0a8a109b93bb287d9f38e0d936fb4db.jpg\\n', '/content/Airport-CCTV-Detection-1/train/images/-_0910_F_-_CAM6_27_masking-mp4_170_jpg.rf.b4c3d5e8b08779678e3e279e141df665.jpg\\n', '/content/Airport-CCTV-Detection-1/train/images/-_0910_F_-_CAM2_17_masking-mp4_180_jpg.rf.6bdf641ff3ed1fe0e3f9c7edb17bd2b5.jpg\\n', '/content/Airport-CCTV-Detection-1/train/images/-_0910_F_-_CAM3_27_masking-mp4_66_jpg.rf.9c82b1eb40f6c2891f30f27c5a20b878.jpg\\n', '/content/Airport-CCTV-Detection-1/train/images/-_0910_F_-_CAM2_24_masking-mp4_351_jpg.rf.4c6a86eb623bccb3414a5bd965e02a9d.jpg\\n', '/content/Airport-CCTV-Detection-1/train/images/-_0910_F_-_CAM3_24_masking-mp4_200_jpg.rf.388e83132250dac860691d7c551bd7f3.jpg\\n', '/content/Airport-CCTV-Detection-1/train/images/-_0910_F_-_CAM6_28_masking-mp4_165_jpg.rf.a6ade13048aa30062b343df5d85bef08.jpg\\n', '/content/Airport-CCTV-Detection-1/train/images/0917_H_faint_01_196_masking-mp4_330_jpg.rf.4fdb37ed9110780096ca5dbe3b9a37e3.jpg\\n', '/content/Airport-CCTV-Detection-1/train/images/0917_H_faint_01_195_masking-mp4_192_jpg.rf.8caef6c67f38f28d9925e6fc886ea725.jpg\\n', '/content/Airport-CCTV-Detection-1/train/images/-_0910_F_-_CAM3_26_masking-mp4_297_jpg.rf.d2650eecdc766bdcdb375106afb0e8fe.jpg\\n', '/content/Airport-CCTV-Detection-1/train/images/-_0910_F_-_CAM3_22_masking-mp4_256_jpg.rf.408627b4ae7b5856fb805c253be923b6.jpg\\n', '/content/Airport-CCTV-Detection-1/train/images/0917_H_faint_01_204_masking-mp4_145_jpg.rf.43395ff4538967a7ec462618ed477a36.jpg\\n', '/content/Airport-CCTV-Detection-1/train/images/-_0910_F_-_CAM3_21_masking-mp4_320_jpg.rf.bbd4b47ca0ce4f5c22834b5e54671e6c.jpg\\n', '/content/Airport-CCTV-Detection-1/train/images/0917_H_faint_01_197_masking-mp4_245_jpg.rf.6519dd6299ead55d60f5325a1aad258d.jpg\\n', '/content/Airport-CCTV-Detection-1/train/images/0917_H_faint_01_202_masking-mp4_186_jpg.rf.f1573773822e8eb6aa207a90caa695fb.jpg\\n', '/content/Airport-CCTV-Detection-1/train/images/0917_H_faint_01_190_masking-mp4_330_jpg.rf.e53176565b41432edde724b825d54ebf.jpg\\n', '/content/Airport-CCTV-Detection-1/train/images/0917_H_faint_01_204_masking-mp4_174_jpg.rf.4d1a1de89b5e317652000e2e56ed267a.jpg\\n', '/content/Airport-CCTV-Detection-1/train/images/-_0910_F_-_CAM2_20_masking-mp4_280_jpg.rf.f948203d845ad4d8a79a6e180136e03d.jpg\\n', '/content/Airport-CCTV-Detection-1/train/images/-_0910_F_-_CAM1_26_masking-mp4_165_jpg.rf.db6f8421097c07748d380166f9f17fac.jpg\\n', '/content/Airport-CCTV-Detection-1/train/images/0917_H_faint_01_186_masking-mp4_248_jpg.rf.67fefe1f9310cbd1da03e99402f3c726.jpg\\n', '/content/Airport-CCTV-Detection-1/train/images/0917_H_faint_01_198_masking-mp4_198_jpg.rf.2ae5b4928793f523d961358f295c7741.jpg\\n', '/content/Airport-CCTV-Detection-1/train/images/0917_H_faint_01_189_masking-mp4_264_jpg.rf.8b06fdb5678a843fa0c378c0ccb8b4c3.jpg\\n', '/content/Airport-CCTV-Detection-1/train/images/-_0910_F_-_CAM2_24_masking-mp4_234_jpg.rf.2ae33e04344a5c577f0f9a2ee4b40b75.jpg\\n', '/content/Airport-CCTV-Detection-1/train/images/-_0910_F_-_CAM1_27_masking-mp4_222_jpg.rf.2c9ccbde54447192e55f379f61aac69b.jpg\\n', '/content/Airport-CCTV-Detection-1/train/images/-_0910_F_-_CAM3_25_masking-mp4_66_jpg.rf.9aa7660df4be175af9e6aeb9b0a41d22.jpg\\n', '/content/Airport-CCTV-Detection-1/train/images/0917_H_faint_01_188_masking-mp4_186_jpg.rf.c3f0f6c52013fd8f79dd5d1008c290a9.jpg\\n', '/content/Airport-CCTV-Detection-1/train/images/-_0910_F_-_CAM6_19_masking-mp4_140_jpg.rf.d26a626b02447efbd14a040ed9f80226.jpg\\n', '/content/Airport-CCTV-Detection-1/train/images/-_0910_F_-_CAM6_17_masking-mp4_186_jpg.rf.bf42b546ad39758070043db05d6b075e.jpg\\n', '/content/Airport-CCTV-Detection-1/train/images/-_0910_F_-_CAM2_20_masking-mp4_140_jpg.rf.b79d6331f26c2ab6ca09d944db439fd2.jpg\\n', '/content/Airport-CCTV-Detection-1/train/images/0917_H_faint_01_202_masking-mp4_279_jpg.rf.b94901efd7fe8c7224ad2043a6d4aa05.jpg\\n', '/content/Airport-CCTV-Detection-1/train/images/0917_H_faint_01_189_masking-mp4_198_jpg.rf.20e389ee95276c82f2859300c308024a.jpg\\n', '/content/Airport-CCTV-Detection-1/train/images/-_0910_F_-_CAM3_23_masking-mp4_144_jpg.rf.5be415a06be3ebf0a8637917340cbfa5.jpg\\n', '/content/Airport-CCTV-Detection-1/train/images/-_0910_F_-_CAM6_24_masking-mp4_264_jpg.rf.0c9688fd9a407c142470283e550a5557.jpg\\n', '/content/Airport-CCTV-Detection-1/train/images/-_0910_F_-_CAM6_23_masking-mp4_160_jpg.rf.ff57977d331bf602ca4ab4e3364b0521.jpg\\n', '/content/Airport-CCTV-Detection-1/train/images/-_0910_F_-_CAM3_28_masking-mp4_180_jpg.rf.9cfc5c0898791050ed60974b35d27726.jpg\\n', '/content/Airport-CCTV-Detection-1/train/images/0917_H_faint_01_186_masking-mp4_279_jpg.rf.29573129d6d52a9dfc1a9b2c565f39e4.jpg\\n', '/content/Airport-CCTV-Detection-1/train/images/0917_H_faint_01_196_masking-mp4_264_jpg.rf.45ca0ead2805738bdbb61bb0b1c49eb6.jpg\\n', '/content/Airport-CCTV-Detection-1/train/images/-_0910_F_-_CAM3_28_masking-mp4_150_jpg.rf.60916400d85f1f13c4bd37fcdba003bd.jpg\\n', '/content/Airport-CCTV-Detection-1/train/images/-_0910_F_-_CAM2_23_masking-mp4_175_jpg.rf.19e6c3782f69837f0b887d820608de05.jpg\\n', '/content/Airport-CCTV-Detection-1/train/images/0917_H_faint_01_203_masking-mp4_112_jpg.rf.58ce67e097d2f281ae96f5fb26b715aa.jpg\\n', '/content/Airport-CCTV-Detection-1/train/images/-_0910_F_-_CAM6_28_masking-mp4_264_jpg.rf.c0e5cd49389fb787b76d7ee293ad2c36.jpg\\n', '/content/Airport-CCTV-Detection-1/train/images/-_0910_F_-_CAM3_19_masking-mp4_238_jpg.rf.7f6e699c601d2af27162123464809c67.jpg\\n', '/content/Airport-CCTV-Detection-1/train/images/-_0910_F_-_CAM1_28_masking-mp4_135_jpg.rf.52fbc3b83da8479c95da0912b5d349b6.jpg\\n', '/content/Airport-CCTV-Detection-1/train/images/-_0910_F_-_CAM3_25_masking-mp4_264_jpg.rf.c018c5300075fafc4d6717a4f1ea31dd.jpg\\n', '/content/Airport-CCTV-Detection-1/train/images/-_0910_F_-_CAM6_28_masking-mp4_198_jpg.rf.66efd592babab8f11b0cf87786faa284.jpg\\n', '/content/Airport-CCTV-Detection-1/train/images/0917_H_faint_01_190_masking-mp4_165_jpg.rf.ad61ae72c2aa616d6c65555c0ac4fde2.jpg\\n', '/content/Airport-CCTV-Detection-1/train/images/-_0910_F_-_CAM6_24_masking-mp4_165_jpg.rf.c2079f68785fa78d8dbf41d2ad9fc854.jpg\\n', '/content/Airport-CCTV-Detection-1/train/images/-_0910_F_-_CAM6_23_masking-mp4_288_jpg.rf.0403296349be3b2ab82ce0592e4a3cf9.jpg\\n', '/content/Airport-CCTV-Detection-1/train/images/-_0910_F_-_CAM6_19_masking-mp4_245_jpg.rf.1c99246a0b1cd08f5620f545a12eb3f9.jpg\\n', '/content/Airport-CCTV-Detection-1/train/images/-_0910_F_-_CAM6_28_masking-mp4_231_jpg.rf.b4a07fdb5f9d57e5e21b3cfe49cb2ed0.jpg\\n', '/content/Airport-CCTV-Detection-1/train/images/-_0910_F_-_CAM3_19_masking-mp4_306_jpg.rf.f2bb75de084324f96f67025416568993.jpg\\n', '/content/Airport-CCTV-Detection-1/train/images/-_0910_F_-_CAM3_24_masking-mp4_160_jpg.rf.684b458827ebb9818ff4c21cbcdae9ae.jpg\\n', '/content/Airport-CCTV-Detection-1/train/images/-_0910_F_-_CAM3_19_masking-mp4_68_jpg.rf.82c8099381f2d2b3e54f2505d95bb224.jpg\\n', '/content/Airport-CCTV-Detection-1/train/images/0917_H_faint_01_185_masking-mp4_217_jpg.rf.566f9ca1be843cb077d09585326a54b5.jpg\\n', '/content/Airport-CCTV-Detection-1/train/images/-_0910_F_-_CAM6_17_masking-mp4_217_jpg.rf.1b12e1ebf34bfc09e9a72d8b34835c3c.jpg\\n', '/content/Airport-CCTV-Detection-1/train/images/-_0910_F_-_CAM2_20_masking-mp4_70_jpg.rf.3c439dae773f51799108a6785b490cb1.jpg\\n', '/content/Airport-CCTV-Detection-1/train/images/-_0910_F_-_CAM2_27_masking-mp4_333_jpg.rf.686c21c86b27fd2395d5ede09a33dc17.jpg\\n', '/content/Airport-CCTV-Detection-1/train/images/-_0910_F_-_CAM1_26_masking-mp4_264_jpg.rf.7af3b5f365e8d84a4511952650a2b633.jpg\\n', '/content/Airport-CCTV-Detection-1/train/images/-_0910_F_-_CAM6_22_masking-mp4_150_jpg.rf.1256b882c3cb291963436acb636b48ee.jpg\\n', '/content/Airport-CCTV-Detection-1/train/images/-_0910_F_-_CAM6_20_masking-mp4_272_jpg.rf.9f72d1eeddbf9f01dd38b85a6baac3fe.jpg\\n', '/content/Airport-CCTV-Detection-1/train/images/-_0910_F_-_CAM6_23_masking-mp4_64_jpg.rf.df3c72e714d8c755b6c7bd9b1efaba44.jpg\\n', '/content/Airport-CCTV-Detection-1/train/images/0917_H_faint_01_188_masking-mp4_248_jpg.rf.fbf01d750f143a5284bdc22d083d3121.jpg\\n', '/content/Airport-CCTV-Detection-1/train/images/0917_H_faint_01_199_masking-mp4_231_jpg.rf.442bc6bad8aafb1c168d841a85354c93.jpg\\n', '/content/Airport-CCTV-Detection-1/train/images/0917_H_faint_01_198_masking-mp4_330_jpg.rf.f69e0291581dcfd89adcf9bf6a037b8d.jpg\\n', '/content/Airport-CCTV-Detection-1/train/images/-_0910_F_-_CAM1_26_masking-mp4_66_jpg.rf.db2befbf783d336f74bb67437facf0f9.jpg\\n', '/content/Airport-CCTV-Detection-1/train/images/-_0910_F_-_CAM2_24_masking-mp4_273_jpg.rf.f932a58d6fe9e28318ded6af5ca57f34.jpg\\n', '/content/Airport-CCTV-Detection-1/train/images/0917_H_faint_01_185_masking-mp4_310_jpg.rf.12f2bcc1fcf97d89b63da04d663494ad.jpg\\n', '/content/Airport-CCTV-Detection-1/train/images/0917_H_faint_01_201_masking-mp4_290_jpg.rf.6c6b4f5e2f51c38fce4a543ded75e27a.jpg\\n', '/content/Airport-CCTV-Detection-1/train/images/-_0910_F_-_CAM2_23_masking-mp4_70_jpg.rf.2eaaf8fbcde7ebdafa2832e6b76f01d1.jpg\\n', '/content/Airport-CCTV-Detection-1/train/images/-_0910_F_-_CAM2_20_masking-mp4_105_jpg.rf.d8672702462678bd55ea1d8d63e24404.jpg\\n', '/content/Airport-CCTV-Detection-1/train/images/0917_H_faint_01_200_masking-mp4_186_jpg.rf.10262270a748a68f98d4d13d7d7cab9e.jpg\\n', '/content/Airport-CCTV-Detection-1/train/images/-_0910_F_-_CAM2_23_masking-mp4_245_jpg.rf.f9cc9a388b3949b4ec8d83f4c8b9e018.jpg\\n', '/content/Airport-CCTV-Detection-1/train/images/-_0910_F_-_CAM3_17_masking-mp4_150_jpg.rf.90fe83038c2b9a8f7b74328f247a6c08.jpg\\n', '/content/Airport-CCTV-Detection-1/train/images/-_0910_F_-_CAM2_25_masking-mp4_351_jpg.rf.acb851ea32b74a7b8669016fc66c5b10.jpg\\n', '/content/Airport-CCTV-Detection-1/train/images/-_0910_F_-_CAM3_18_masking-mp4_128_jpg.rf.2ab6fe89cb969c3cf6e1bb4642dee6af.jpg\\n', '/content/Airport-CCTV-Detection-1/train/images/0917_H_faint_01_191_masking-mp4_330_jpg.rf.06f81f02f873d7f19d25a6e401149313.jpg\\n', '/content/Airport-CCTV-Detection-1/train/images/-_0910_F_-_CAM3_20_masking-mp4_192_jpg.rf.ffb55cc88d30b71c9f2b8e9bdecf1ed4.jpg\\n', '/content/Airport-CCTV-Detection-1/train/images/-_0910_F_-_CAM2_21_masking-mp4_294_jpg.rf.32f7138fc99f0e10b76175cd2ae381fd.jpg\\n', '/content/Airport-CCTV-Detection-1/train/images/0917_H_faint_01_197_masking-mp4_315_jpg.rf.7a034dfa2e068a7bb706ed5cb5affdf8.jpg\\n', '/content/Airport-CCTV-Detection-1/train/images/-_0910_F_-_CAM3_24_masking-mp4_400_jpg.rf.c502d3d8440091b64bc99368e5bf8e47.jpg\\n', '/content/Airport-CCTV-Detection-1/train/images/-_0910_F_-_CAM3_27_masking-mp4_231_jpg.rf.40301d7869988e7fb7e85d331bb6cfbc.jpg\\n', '/content/Airport-CCTV-Detection-1/train/images/-_0910_F_-_CAM3_23_masking-mp4_360_jpg.rf.97185a27c321892d734fa5e978bf9818.jpg\\n', '/content/Airport-CCTV-Detection-1/train/images/0917_H_faint_01_190_masking-mp4_297_jpg.rf.183785bf48c4c4cf44f91cbc8c295f1b.jpg\\n', '/content/Airport-CCTV-Detection-1/train/images/-_0910_F_-_CAM3_21_masking-mp4_256_jpg.rf.4640b741aada873ebff0c6c0cbebe695.jpg\\n', '/content/Airport-CCTV-Detection-1/train/images/0917_H_faint_01_197_masking-mp4_210_jpg.rf.2502f61ac8c2de87d39cdcfc6269485d.jpg\\n', '/content/Airport-CCTV-Detection-1/train/images/-_0910_F_-_CAM3_25_masking-mp4_231_jpg.rf.f9a788a0c7d32bd005554319644dcd8f.jpg\\n', '/content/Airport-CCTV-Detection-1/train/images/-_0910_F_-_CAM1_27_masking-mp4_296_jpg.rf.80b100b4dd4fa1fd064e36c4e866f75c.jpg\\n', '/content/Airport-CCTV-Detection-1/train/images/-_0910_F_-_CAM6_20_masking-mp4_306_jpg.rf.b631c64d708fa48f18d08912ac03d425.jpg\\n', '/content/Airport-CCTV-Detection-1/train/images/0917_H_faint_01_194_masking-mp4_340_jpg.rf.dac02137f05389ed3e1eaabf2cabed75.jpg\\n', '/content/Airport-CCTV-Detection-1/train/images/-_0910_F_-_CAM6_19_masking-mp4_105_jpg.rf.bb7786bb0ead8adac1cd906255097ad6.jpg\\n', '/content/Airport-CCTV-Detection-1/train/images/-_0910_F_-_CAM3_21_masking-mp4_192_jpg.rf.4ed95da0c02c2bc39471a2fec9ccccd1.jpg\\n', '/content/Airport-CCTV-Detection-1/train/images/-_0910_F_-_CAM6_25_masking-mp4_297_jpg.rf.2c82b9d06f54791e19787ecfb603f18c.jpg\\n', '/content/Airport-CCTV-Detection-1/train/images/-_0910_F_-_CAM6_26_masking-mp4_102_jpg.rf.b5637c4e851fbb98243146e33f068c10.jpg\\n', '/content/Airport-CCTV-Detection-1/train/images/-_0910_F_-_CAM1_26_masking-mp4_297_jpg.rf.fdf8cdd5666e83d393cd9f8a2136a669.jpg\\n', '/content/Airport-CCTV-Detection-1/train/images/0917_H_faint_01_199_masking-mp4_330_jpg.rf.4b989814e1d5017aaf465a3d02083cd4.jpg\\n', '/content/Airport-CCTV-Detection-1/train/images/-_0910_F_-_CAM6_17_masking-mp4_155_jpg.rf.5f246aa7e2274c66e82316aa58e4ef1b.jpg\\n', '/content/Airport-CCTV-Detection-1/train/images/-_0910_F_-_CAM2_20_masking-mp4_175_jpg.rf.1b27ba5a8a48519537bbf727fbfc9a4f.jpg\\n', '/content/Airport-CCTV-Detection-1/train/images/-_0910_F_-_CAM2_23_masking-mp4_105_jpg.rf.01634c63405862e6b06d98344289950b.jpg\\n', '/content/Airport-CCTV-Detection-1/train/images/-_0910_F_-_CAM6_23_masking-mp4_320_jpg.rf.f9ba97f96eba1892733d439555f2866d.jpg\\n', '/content/Airport-CCTV-Detection-1/train/images/-_0910_F_-_CAM1_25_masking-mp4_340_jpg.rf.258d6cceb9bcfd8021a20c6b1246b9fe.jpg\\n', '/content/Airport-CCTV-Detection-1/train/images/-_0910_F_-_CAM2_26_masking-mp4_217_jpg.rf.cb9afc3c572232ff90a89f24c4e8a902.jpg\\n', '/content/Airport-CCTV-Detection-1/train/images/-_0910_F_-_CAM3_26_masking-mp4_99_jpg.rf.86f9266f71af4d7fcb5107f7f36d3903.jpg\\n', '/content/Airport-CCTV-Detection-1/train/images/-_0910_F_-_CAM1_27_masking-mp4_185_jpg.rf.3482406f23da71041af3a67a8a26012f.jpg\\n', '/content/Airport-CCTV-Detection-1/train/images/-_0910_F_-_CAM6_23_masking-mp4_192_jpg.rf.610c53257a2b466472e2efc2ff0ff33b.jpg\\n', '/content/Airport-CCTV-Detection-1/train/images/-_0910_F_-_CAM2_28_masking-mp4_217_jpg.rf.ca486a04db2760cfa208f94d9ea8d178.jpg\\n', '/content/Airport-CCTV-Detection-1/train/images/-_0910_F_-_CAM3_24_masking-mp4_280_jpg.rf.3d7861d03aa0909f7e00ef0da5092d3e.jpg\\n', '/content/Airport-CCTV-Detection-1/train/images/0917_H_faint_01_192_masking-mp4_333_jpg.rf.e25c3b1d3afdab977d2eba5674807f74.jpg\\n', '/content/Airport-CCTV-Detection-1/train/images/-_0910_F_-_CAM6_20_masking-mp4_136_jpg.rf.f5a68c7c419b9ab2c51d402747ef3c18.jpg\\n', '/content/Airport-CCTV-Detection-1/train/images/0917_H_faint_01_200_masking-mp4_279_jpg.rf.f2d769b86caf089f46182b9c4bb9bf55.jpg\\n', '/content/Airport-CCTV-Detection-1/train/images/-_0910_F_-_CAM2_27_masking-mp4_259_jpg.rf.8e29eb764c0995e283256884129d343b.jpg\\n', '/content/Airport-CCTV-Detection-1/train/images/-_0910_F_-_CAM6_23_masking-mp4_256_jpg.rf.59e463bea1e22b373633e7bea4ef024c.jpg\\n', '/content/Airport-CCTV-Detection-1/train/images/-_0910_F_-_CAM2_18_masking-mp4_222_jpg.rf.1e3ae26529117c04c47cd4a2b6e6e18a.jpg\\n', '/content/Airport-CCTV-Detection-1/train/images/-_0910_F_-_CAM3_19_masking-mp4_102_jpg.rf.ea3ecdb96558103000a2a00148995947.jpg\\n', '/content/Airport-CCTV-Detection-1/train/images/-_0910_F_-_CAM6_24_masking-mp4_198_jpg.rf.57cb76141f553be597e05383e23f8707.jpg\\n', '/content/Airport-CCTV-Detection-1/train/images/0917_H_faint_01_192_masking-mp4_222_jpg.rf.97082dc897b0992cd41ca2c9e55662d3.jpg\\n', '/content/Airport-CCTV-Detection-1/train/images/0917_H_faint_01_198_masking-mp4_264_jpg.rf.6fb1fbd00fb32661f63f220f7e198c49.jpg\\n', '/content/Airport-CCTV-Detection-1/train/images/0917_H_faint_01_200_masking-mp4_248_jpg.rf.e65a2492383b533be9c10172e87829b7.jpg\\n', '/content/Airport-CCTV-Detection-1/train/images/-_0910_F_-_CAM3_26_masking-mp4_231_jpg.rf.8d009eacfd41a9eb483f346066db6cce.jpg\\n', '/content/Airport-CCTV-Detection-1/train/images/-_0910_F_-_CAM3_24_masking-mp4_360_jpg.rf.820d084a311fe66acee95fb247dd5ead.jpg\\n', '/content/Airport-CCTV-Detection-1/train/images/0917_H_faint_01_201_masking-mp4_261_jpg.rf.71f669153b6596ffd2aa27d9b43b5105.jpg\\n', '/content/Airport-CCTV-Detection-1/train/images/-_0910_F_-_CAM1_26_masking-mp4_198_jpg.rf.6bdcfe0fa7acdd8ae1041f1328be5ef2.jpg\\n', '/content/Airport-CCTV-Detection-1/train/images/-_0910_F_-_CAM1_25_masking-mp4_102_jpg.rf.f3b60b02bf91ddc6e6383a336fab746a.jpg\\n', '/content/Airport-CCTV-Detection-1/train/images/0917_H_faint_01_202_masking-mp4_310_jpg.rf.c5a2cd2136ece148d62efbeef0d06f6c.jpg\\n', '/content/Airport-CCTV-Detection-1/train/images/-_0910_F_-_CAM2_19_masking-mp4_296_jpg.rf.595714c3548478a18657e4a7dbdfa380.jpg\\n', '/content/Airport-CCTV-Detection-1/train/images/-_0910_F_-_CAM2_19_masking-mp4_259_jpg.rf.c37ad453471d13c1f2bb6de6e2452a7e.jpg\\n', '/content/Airport-CCTV-Detection-1/train/images/-_0910_F_-_CAM2_27_masking-mp4_222_jpg.rf.832783446ce4df1ce2a6ff59e61b2ce2.jpg\\n', '/content/Airport-CCTV-Detection-1/train/images/-_0910_F_-_CAM6_27_masking-mp4_204_jpg.rf.a70158cf45e49ce38199c4f10b2655dc.jpg\\n', '/content/Airport-CCTV-Detection-1/train/images/-_0910_F_-_CAM2_26_masking-mp4_310_jpg.rf.683a92faf87298a28a233a36f066bfc4.jpg\\n', '/content/Airport-CCTV-Detection-1/train/images/-_0910_F_-_CAM2_20_masking-mp4_315_jpg.rf.d83e552bdba7a0750b5fac2f0da9d37c.jpg\\n', '/content/Airport-CCTV-Detection-1/train/images/-_0910_F_-_CAM2_28_masking-mp4_124_jpg.rf.31971f05aaaa424abd0232374ecf0ce7.jpg\\n', '/content/Airport-CCTV-Detection-1/train/images/-_0910_F_-_CAM3_20_masking-mp4_128_jpg.rf.9a8ebd41d2fccc2d14022ff53845337d.jpg\\n', '/content/Airport-CCTV-Detection-1/train/images/-_0910_F_-_CAM3_25_masking-mp4_132_jpg.rf.3de64cb8c8a8a97d068500264f068cd4.jpg\\n', '/content/Airport-CCTV-Detection-1/train/images/-_0910_F_-_CAM1_25_masking-mp4_238_jpg.rf.fc03a5269cf9fcabf70534373bcf3fad.jpg\\n', '/content/Airport-CCTV-Detection-1/train/images/-_0910_F_-_CAM3_24_masking-mp4_320_jpg.rf.5bc8a8d8b123534ac5fa1d7b00ce0a83.jpg\\n', '/content/Airport-CCTV-Detection-1/train/images/0917_H_faint_01_202_masking-mp4_248_jpg.rf.fc9250fcc2a7a7e3f9426176cdfb5c8b.jpg\\n', '/content/Airport-CCTV-Detection-1/train/images/-_0910_F_-_CAM6_27_masking-mp4_272_jpg.rf.e418986df3c5528ccb42dd339e377663.jpg\\n', '/content/Airport-CCTV-Detection-1/train/images/-_0910_F_-_CAM2_27_masking-mp4_185_jpg.rf.f01d70de48cc3597a8f2597f0549dff9.jpg\\n', '/content/Airport-CCTV-Detection-1/train/images/-_0910_F_-_CAM3_21_masking-mp4_224_jpg.rf.051f6ea90f3114b3d5aa7117e5064d20.jpg\\n', '/content/Airport-CCTV-Detection-1/train/images/-_0910_F_-_CAM3_24_masking-mp4_120_jpg.rf.77783a070104319e4a8bcad8e6d2ccfe.jpg\\n', '/content/Airport-CCTV-Detection-1/train/images/-_0910_F_-_CAM3_20_masking-mp4_224_jpg.rf.b6f0fd5d7c993eedc5fbff9f4830c351.jpg\\n', '/content/Airport-CCTV-Detection-1/train/images/-_0910_F_-_CAM3_17_masking-mp4_240_jpg.rf.a3c01469b11839b64a02775d0baea7eb.jpg\\n', '/content/Airport-CCTV-Detection-1/train/images/0917_H_faint_01_187_masking-mp4_224_jpg.rf.c20c4139adb200f135ee5c6f3a80ae95.jpg\\n', '/content/Airport-CCTV-Detection-1/train/images/-_0910_F_-_CAM6_26_masking-mp4_204_jpg.rf.dceb1396939c1a7ecf67fc32697ea39a.jpg\\n', '/content/Airport-CCTV-Detection-1/train/images/0917_H_faint_01_192_masking-mp4_370_jpg.rf.69abaf8eae647ef45e91f200de02217f.jpg\\n', '/content/Airport-CCTV-Detection-1/train/images/-_0910_F_-_CAM6_26_masking-mp4_306_jpg.rf.204b1e57e2d4654a727dc76833e56eb9.jpg\\n', '/content/Airport-CCTV-Detection-1/train/images/-_0910_F_-_CAM3_23_masking-mp4_180_jpg.rf.17620c21cf3e98cfc0f5c5c84b7a8169.jpg\\n', '/content/Airport-CCTV-Detection-1/train/images/-_0910_F_-_CAM2_24_masking-mp4_390_jpg.rf.6c698599fd520a95214d0c7ba776b97e.jpg\\n', '/content/Airport-CCTV-Detection-1/train/images/-_0910_F_-_CAM2_23_masking-mp4_140_jpg.rf.9440fdbb813672a3468eaa404d4105d4.jpg\\n', '/content/Airport-CCTV-Detection-1/train/images/-_0910_F_-_CAM2_28_masking-mp4_248_jpg.rf.bd0a805afd3b15500abad2236dc6a266.jpg\\n', '/content/Airport-CCTV-Detection-1/train/images/0917_H_faint_01_195_masking-mp4_288_jpg.rf.d63cf620eb18b007aee14f5e23eca5db.jpg\\n', '/content/Airport-CCTV-Detection-1/train/images/0917_H_faint_01_198_masking-mp4_231_jpg.rf.6c9b7f90024c59ad09d96e3798e9c733.jpg\\n', '/content/Airport-CCTV-Detection-1/train/images/-_0910_F_-_CAM6_22_masking-mp4_240_jpg.rf.99f5cda4ed9e8c5ba37aa11ba41c7551.jpg\\n', '/content/Airport-CCTV-Detection-1/train/images/0917_H_faint_01_193_masking-mp4_180_jpg.rf.c78c37ce759dc7fa363ba13e8861c168.jpg\\n', '/content/Airport-CCTV-Detection-1/train/images/-_0910_F_-_CAM1_26_masking-mp4_330_jpg.rf.b04ddd736648b4d7a1f6d85c059a90b0.jpg\\n', '/content/Airport-CCTV-Detection-1/train/images/-_0910_F_-_CAM1_28_masking-mp4_270_jpg.rf.00b29e829f70db7f3993a3332870453c.jpg\\n', '/content/Airport-CCTV-Detection-1/train/images/-_0910_F_-_CAM3_19_masking-mp4_170_jpg.rf.77d324f8b7aaf7adeb46d9e46b7ea328.jpg\\n', '/content/Airport-CCTV-Detection-1/train/images/-_0910_F_-_CAM1_27_masking-mp4_333_jpg.rf.b5995ca62ff736d20cf1be35d1643980.jpg\\n', '/content/Airport-CCTV-Detection-1/train/images/-_0910_F_-_CAM2_23_masking-mp4_315_jpg.rf.7fa1a5ab84306a610e495069292c37e3.jpg\\n', '/content/Airport-CCTV-Detection-1/train/images/0917_H_faint_01_188_masking-mp4_310_jpg.rf.77fc12b571ca9e2a9f2697df9acb424c.jpg\\n', '/content/Airport-CCTV-Detection-1/train/images/0917_H_faint_01_195_masking-mp4_224_jpg.rf.ade17f139d3e78d97aea4a433ccef04c.jpg\\n', '/content/Airport-CCTV-Detection-1/train/images/-_0910_F_-_CAM6_27_masking-mp4_238_jpg.rf.59a1d41578d1bc4592d0a063100c52de.jpg\\n', '/content/Airport-CCTV-Detection-1/train/images/-_0910_F_-_CAM6_22_masking-mp4_90_jpg.rf.2c1b049f5b58e3a6ce05bcaac9b306b6.jpg\\n', '/content/Airport-CCTV-Detection-1/train/images/0917_H_faint_01_185_masking-mp4_248_jpg.rf.26fffa745dc95b3aff7d2d4960c3d637.jpg\\n', '/content/Airport-CCTV-Detection-1/train/images/-_0910_F_-_CAM3_18_masking-mp4_192_jpg.rf.c99256422d50f37ed1b5a9a58e709e74.jpg\\n', '/content/Airport-CCTV-Detection-1/train/images/-_0910_F_-_CAM6_19_masking-mp4_210_jpg.rf.ff52edc8b5f58ee9ac4ec38747421b5a.jpg\\n', '/content/Airport-CCTV-Detection-1/train/images/0917_H_faint_01_187_masking-mp4_192_jpg.rf.6fcf4f56663c8f744a6b7b55b940fca2.jpg\\n', '/content/Airport-CCTV-Detection-1/train/images/-_0910_F_-_CAM3_27_masking-mp4_297_jpg.rf.d96d035ace5cc086df0f61bf03ed7084.jpg\\n', '/content/Airport-CCTV-Detection-1/train/images/-_0910_F_-_CAM2_24_masking-mp4_312_jpg.rf.5c2f74da6f9d16832b805edd92ead8da.jpg\\n', '/content/Airport-CCTV-Detection-1/train/images/-_0910_F_-_CAM3_27_masking-mp4_264_jpg.rf.9f2ce942026a58c9c786c8695d7c5dd3.jpg\\n', '/content/Airport-CCTV-Detection-1/train/images/-_0910_F_-_CAM3_21_masking-mp4_160_jpg.rf.110b7645ee9b85a18d116de49d187116.jpg\\n', '/content/Airport-CCTV-Detection-1/train/images/-_0910_F_-_CAM6_19_masking-mp4_175_jpg.rf.9c4556f10aaeac5926b0160071a80ad3.jpg\\n', '/content/Airport-CCTV-Detection-1/train/images/-_0910_F_-_CAM2_19_masking-mp4_148_jpg.rf.a0d1ff4f252fe6b93c7ff947b11d710b.jpg\\n', '/content/Airport-CCTV-Detection-1/train/images/-_0910_F_-_CAM3_18_masking-mp4_96_jpg.rf.b1b996f74cef0e7d9a3f32a72c65b4d5.jpg\\n', '/content/Airport-CCTV-Detection-1/train/images/0917_H_faint_01_187_masking-mp4_160_jpg.rf.9626e9e25ca3039bf4516532535e2097.jpg\\n', '/content/Airport-CCTV-Detection-1/train/images/-_0910_F_-_CAM6_22_masking-mp4_120_jpg.rf.35191488b6a4c518616bb935c567b30b.jpg\\n', '/content/Airport-CCTV-Detection-1/train/images/-_0910_F_-_CAM3_20_masking-mp4_256_jpg.rf.49ee0e0f5618b2de1b1e7870d8189165.jpg\\n', '/content/Airport-CCTV-Detection-1/train/images/-_0910_F_-_CAM3_28_masking-mp4_240_jpg.rf.9c3a435d0c97b3cc773e880178c1d681.jpg\\n', '/content/Airport-CCTV-Detection-1/train/images/0917_H_faint_01_200_masking-mp4_217_jpg.rf.9965d73d1289c765d52bef949ab7a5d8.jpg\\n', '/content/Airport-CCTV-Detection-1/train/images/0917_H_faint_01_189_masking-mp4_231_jpg.rf.4713b0682d068b1dbb9e48b13dda1d8a.jpg\\n', '/content/Airport-CCTV-Detection-1/train/images/-_0910_F_-_CAM3_17_masking-mp4_180_jpg.rf.73752c3c24b86f96b3a88bd349004642.jpg\\n', '/content/Airport-CCTV-Detection-1/train/images/-_0910_F_-_CAM6_21_masking-mp4_264_jpg.rf.0b8d10b9341e7b22af84438dc7d2db78.jpg\\n', '/content/Airport-CCTV-Detection-1/train/images/-_0910_F_-_CAM6_24_masking-mp4_132_jpg.rf.2e015bfbd757606a1b7dc57672afc778.jpg\\n', '/content/Airport-CCTV-Detection-1/train/images/-_0910_F_-_CAM6_21_masking-mp4_231_jpg.rf.7a0b258d460555c39efcfea6cad94cc3.jpg\\n', '/content/Airport-CCTV-Detection-1/train/images/-_0910_F_-_CAM6_21_masking-mp4_297_jpg.rf.47ebd25e3829931190aab37322a9cbff.jpg\\n', '/content/Airport-CCTV-Detection-1/train/images/-_0910_F_-_CAM6_26_masking-mp4_238_jpg.rf.bb34290b55ea06c75c5655bdf69dc701.jpg\\n', '/content/Airport-CCTV-Detection-1/train/images/0917_H_faint_01_202_masking-mp4_155_jpg.rf.e5851a5d5c4805c24067381bbdf79666.jpg\\n', '/content/Airport-CCTV-Detection-1/train/images/0917_H_faint_01_204_masking-mp4_290_jpg.rf.30bfac9a594c5ccca46c9d02801c2b27.jpg\\n', '/content/Airport-CCTV-Detection-1/train/images/-_0910_F_-_CAM6_21_masking-mp4_330_jpg.rf.75b4dc7ece9aa65e56419a6e9e537b67.jpg\\n', '/content/Airport-CCTV-Detection-1/train/images/0917_H_faint_01_196_masking-mp4_231_jpg.rf.9b9377285050ce38137d307d5672db2c.jpg\\n', '/content/Airport-CCTV-Detection-1/train/images/0917_H_faint_01_189_masking-mp4_165_jpg.rf.3c430fba385ae1fb246205acfd973471.jpg\\n', '/content/Airport-CCTV-Detection-1/train/images/0917_H_faint_01_187_masking-mp4_320_jpg.rf.779a361b32074cb2dce9747e15e64906.jpg\\n', '/content/Airport-CCTV-Detection-1/train/images/-_0910_F_-_CAM1_25_masking-mp4_204_jpg.rf.3c57ac552d940553e4ea3de12e8322a3.jpg\\n', '/content/Airport-CCTV-Detection-1/train/images/0917_H_faint_01_188_masking-mp4_279_jpg.rf.0f33f34c6d169eed0567fcb811b35433.jpg\\n', '/content/Airport-CCTV-Detection-1/train/images/0917_H_faint_01_193_masking-mp4_210_jpg.rf.7c1117f606a7781ec6e480ec6c568212.jpg\\n', '/content/Airport-CCTV-Detection-1/train/images/-_0910_F_-_CAM3_26_masking-mp4_66_jpg.rf.730b96ceb01243a6f57bb0191334ea17.jpg\\n', '/content/Airport-CCTV-Detection-1/train/images/0917_H_faint_01_197_masking-mp4_175_jpg.rf.5edac190697ee4ffe64e85e7354a61df.jpg\\n', '/content/Airport-CCTV-Detection-1/train/images/0917_H_faint_01_192_masking-mp4_296_jpg.rf.6a007fccd02a92610edc268c5b130769.jpg\\n', '/content/Airport-CCTV-Detection-1/train/images/0917_H_faint_01_196_masking-mp4_297_jpg.rf.8fc14635c519f63d4e988f12c6f2cdcf.jpg\\n', '/content/Airport-CCTV-Detection-1/train/images/-_0910_F_-_CAM3_22_masking-mp4_128_jpg.rf.b858bc8b9f8ddaacd01c5246e9c6a843.jpg\\n', '/content/Airport-CCTV-Detection-1/train/images/0917_H_faint_01_198_masking-mp4_165_jpg.rf.1cfa960dbf8528e714f89794bfe0f930.jpg\\n', '/content/Airport-CCTV-Detection-1/train/images/-_0910_F_-_CAM2_22_masking-mp4_160_jpg.rf.b3eef433cd255f3645a563bef5812b96.jpg\\n', '/content/Airport-CCTV-Detection-1/train/images/-_0910_F_-_CAM3_26_masking-mp4_198_jpg.rf.16e568274451efb72516f9f238b61ba8.jpg\\n', '/content/Airport-CCTV-Detection-1/train/images/-_0910_F_-_CAM6_27_masking-mp4_136_jpg.rf.36e3500dc44e82e2ed38accf22a8899c.jpg\\n', '/content/Airport-CCTV-Detection-1/train/images/-_0910_F_-_CAM2_22_masking-mp4_192_jpg.rf.a85861aa5b60044717ad80311e7d7ccd.jpg\\n', '/content/Airport-CCTV-Detection-1/train/images/-_0910_F_-_CAM6_23_masking-mp4_96_jpg.rf.f168370b3be5313be55e5bdc7cadfef1.jpg\\n', '/content/Airport-CCTV-Detection-1/train/images/0917_H_faint_01_190_masking-mp4_198_jpg.rf.6532244e22f75ae0e7612a2e7a9fa5ec.jpg\\n', '/content/Airport-CCTV-Detection-1/train/images/-_0910_F_-_CAM2_28_masking-mp4_186_jpg.rf.d1d278af674aaf7fc51830e8b5d5ab4f.jpg\\n', '/content/Airport-CCTV-Detection-1/train/images/-_0910_F_-_CAM2_19_masking-mp4_222_jpg.rf.62a7fb98a1269e4b13c290969821009d.jpg\\n', '/content/Airport-CCTV-Detection-1/train/images/0917_H_faint_01_190_masking-mp4_264_jpg.rf.7baeecc1089ad309fcd3f40d74854dcc.jpg\\n', '/content/Airport-CCTV-Detection-1/train/images/-_0910_F_-_CAM3_27_masking-mp4_132_jpg.rf.7d6472b3c8e7dbd2ddfc42965b6a02b8.jpg\\n', '/content/Airport-CCTV-Detection-1/train/images/-_0910_F_-_CAM3_28_masking-mp4_300_jpg.rf.2189a78295df4aa59305a37950001849.jpg\\n', '/content/Airport-CCTV-Detection-1/train/images/0917_H_faint_01_201_masking-mp4_203_jpg.rf.5968042eb069b69848b3443afe54d4eb.jpg\\n', '/content/Airport-CCTV-Detection-1/train/images/-_0910_F_-_CAM2_17_masking-mp4_210_jpg.rf.88afddfb5fc75e9a86386857b162744e.jpg\\n', '/content/Airport-CCTV-Detection-1/train/images/-_0910_F_-_CAM1_27_masking-mp4_259_jpg.rf.9c5de8c870ca172301a499b546881fe9.jpg\\n', '/content/Airport-CCTV-Detection-1/train/images/-_0910_F_-_CAM3_27_masking-mp4_198_jpg.rf.7efa7d771bc88e174c7c04da5a407d6d.jpg\\n', '/content/Airport-CCTV-Detection-1/train/images/0917_H_faint_01_195_masking-mp4_160_jpg.rf.776ef40eb664ab2d30e3d1f26075d930.jpg\\n', '/content/Airport-CCTV-Detection-1/train/images/-_0910_F_-_CAM3_19_masking-mp4_272_jpg.rf.1f7a13db5cb4522639a3e3896eabe0cf.jpg\\n', '/content/Airport-CCTV-Detection-1/train/images/-_0910_F_-_CAM2_20_masking-mp4_210_jpg.rf.a3e0c95d58465781f51efc437dcaa2c1.jpg\\n', '/content/Airport-CCTV-Detection-1/train/images/-_0910_F_-_CAM2_28_masking-mp4_155_jpg.rf.9315d15c3b70b2a8e6819c0f0e3ce01d.jpg\\n', '/content/Airport-CCTV-Detection-1/train/images/-_0910_F_-_CAM6_18_masking-mp4_136_jpg.rf.f018919a010c56321c6cc057fec413f0.jpg\\n', '/content/Airport-CCTV-Detection-1/train/images/-_0910_F_-_CAM6_20_masking-mp4_238_jpg.rf.9b353ebd08ff653807e5365d6901090a.jpg\\n', '/content/Airport-CCTV-Detection-1/train/images/-_0910_F_-_CAM6_25_masking-mp4_330_jpg.rf.eebe24858bfc86f8cba40b1154a6fb2a.jpg\\n', '/content/Airport-CCTV-Detection-1/train/images/0917_H_faint_01_195_masking-mp4_320_jpg.rf.1f2ff5023cfa4c5900d5a6709fcd75d5.jpg\\n', '/content/Airport-CCTV-Detection-1/train/images/-_0910_F_-_CAM2_28_masking-mp4_93_jpg.rf.72e66273d27b6bd6034f858141b27e24.jpg\\n', '/content/Airport-CCTV-Detection-1/train/images/-_0910_F_-_CAM2_27_masking-mp4_296_jpg.rf.f8b6d2b23971ed521cba5031a6403b61.jpg\\n', '/content/Airport-CCTV-Detection-1/train/images/-_0910_F_-_CAM3_24_masking-mp4_40_jpg.rf.f9684e4bcecc465c1291972c4273d70a.jpg\\n', '/content/Airport-CCTV-Detection-1/train/images/0917_H_faint_01_187_masking-mp4_256_jpg.rf.f4a69b84abdfb3eb20a8e537ce0aaeea.jpg\\n', '/content/Airport-CCTV-Detection-1/train/images/0917_H_faint_01_196_masking-mp4_198_jpg.rf.109fea657311c7204332be3fdd0e4748.jpg\\n', '/content/Airport-CCTV-Detection-1/train/images/-_0910_F_-_CAM6_27_masking-mp4_340_jpg.rf.f065afec6102b20c321062e0c39ab461.jpg\\n', '/content/Airport-CCTV-Detection-1/train/images/-_0910_F_-_CAM3_25_masking-mp4_33_jpg.rf.817aa0bca275e71395786921fd52ca41.jpg\\n', '/content/Airport-CCTV-Detection-1/train/images/-_0910_F_-_CAM2_21_masking-mp4_210_jpg.rf.964ba6c94d410b8c8462413cf4b35e61.jpg\\n', '/content/Airport-CCTV-Detection-1/train/images/-_0910_F_-_CAM6_24_masking-mp4_297_jpg.rf.be3020a996821520ffcd42db31d60073.jpg\\n', '/content/Airport-CCTV-Detection-1/train/images/-_0910_F_-_CAM6_19_masking-mp4_280_jpg.rf.58e6843da65da97eb11a3fadb698600e.jpg\\n', '/content/Airport-CCTV-Detection-1/train/images/0917_H_faint_01_202_masking-mp4_217_jpg.rf.94cc23b427e8b6dd533ec6180c4a3274.jpg\\n', '/content/Airport-CCTV-Detection-1/train/images/0917_H_faint_01_185_masking-mp4_279_jpg.rf.502bd27f50ff78a1427fd3852182042e.jpg\\n', '/content/Airport-CCTV-Detection-1/train/images/0917_H_faint_01_186_masking-mp4_217_jpg.rf.08fa0145ed621fba4e8fb1fdfa5b83e3.jpg\\n', '/content/Airport-CCTV-Detection-1/train/images/-_0910_F_-_CAM3_28_masking-mp4_120_jpg.rf.0012bb94b09fea82c3a741588ebc8df1.jpg\\n', '/content/Airport-CCTV-Detection-1/train/images/-_0910_F_-_CAM2_18_masking-mp4_296_jpg.rf.ba1fb5a6d373a5efbe6262789afa7523.jpg\\n', '/content/Airport-CCTV-Detection-1/train/images/-_0910_F_-_CAM6_25_masking-mp4_132_jpg.rf.c556766e418dd82fe8f664e9ea53dbce.jpg\\n', '/content/Airport-CCTV-Detection-1/train/images/-_0910_F_-_CAM2_27_masking-mp4_370_jpg.rf.539304f13da0e40c40d477605492f0eb.jpg\\n', '/content/Airport-CCTV-Detection-1/train/images/0917_H_faint_01_186_masking-mp4_186_jpg.rf.bd337247a132bbdb8f9be8e36969a9c4.jpg\\n', '/content/Airport-CCTV-Detection-1/train/images/-_0910_F_-_CAM2_17_masking-mp4_120_jpg.rf.d36c5b734765ae970979d52a2024b063.jpg\\n', '/content/Airport-CCTV-Detection-1/train/images/-_0910_F_-_CAM2_21_masking-mp4_336_jpg.rf.30abb1a6107328114decf74658d3d818.jpg\\n', '/content/Airport-CCTV-Detection-1/train/images/-_0910_F_-_CAM3_20_masking-mp4_288_jpg.rf.7b661f79e73cfff0f5cb16bf0c0eca01.jpg\\n', '/content/Airport-CCTV-Detection-1/train/images/-_0910_F_-_CAM2_24_masking-mp4_195_jpg.rf.eb35d00b7381814aae55e95be6f76a0b.jpg\\n', '/content/Airport-CCTV-Detection-1/train/images/0917_H_faint_01_192_masking-mp4_259_jpg.rf.991ebc1c3dcc87b747a2e9896919925f.jpg\\n', '/content/Airport-CCTV-Detection-1/train/images/-_0910_F_-_CAM3_26_masking-mp4_264_jpg.rf.4f978aaaf264f259abaca225f4bf3a3b.jpg\\n', '/content/Airport-CCTV-Detection-1/train/images/-_0910_F_-_CAM2_19_masking-mp4_111_jpg.rf.b287df1750c0fc1c01eb6dcfbb40b2cf.jpg\\n', '/content/Airport-CCTV-Detection-1/train/images/-_0910_F_-_CAM1_28_masking-mp4_189_jpg.rf.4fe5ee75b6e12827cd0553993cef6ddf.jpg\\n', '/content/Airport-CCTV-Detection-1/train/images/-_0910_F_-_CAM6_21_masking-mp4_198_jpg.rf.53423181334b63ee07e17d866bcf29da.jpg\\n', '/content/Airport-CCTV-Detection-1/train/images/-_0910_F_-_CAM6_28_masking-mp4_132_jpg.rf.83c66346bd4a66a2ae28b4b32e0ca754.jpg\\n', '/content/Airport-CCTV-Detection-1/train/images/-_0910_F_-_CAM3_22_masking-mp4_224_jpg.rf.f1a901be343a3b4ebac829a9197fed90.jpg\\n', '/content/Airport-CCTV-Detection-1/train/images/0917_H_faint_01_196_masking-mp4_165_jpg.rf.b013b8df0a495013ce66f6c01ccd890d.jpg\\n', '/content/Airport-CCTV-Detection-1/train/images/0917_H_faint_01_189_masking-mp4_330_jpg.rf.d4c0a0da0aa4dd4b52b7a092cbb01ec8.jpg\\n', '/content/Airport-CCTV-Detection-1/train/images/-_0910_F_-_CAM2_23_masking-mp4_280_jpg.rf.bbee1aacc1572226364d51011467861c.jpg\\n', '/content/Airport-CCTV-Detection-1/train/images/-_0910_F_-_CAM3_23_masking-mp4_72_jpg.rf.37f974ffbf8713b6987cf8790ec172f3.jpg\\n', '/content/Airport-CCTV-Detection-1/train/images/0917_H_faint_01_187_masking-mp4_288_jpg.rf.c739b05ad78ea98fea318ec7e4651364.jpg\\n', '/content/Airport-CCTV-Detection-1/train/images/0917_H_faint_01_189_masking-mp4_297_jpg.rf.a8981ed025bc12f0b14cee0141fbdb7a.jpg\\n', '/content/Airport-CCTV-Detection-1/train/images/-_0910_F_-_CAM1_25_masking-mp4_306_jpg.rf.3def55b8f6cdb6078e9eed99e8a3f2fb.jpg\\n', '/content/Airport-CCTV-Detection-1/train/images/-_0910_F_-_CAM3_24_masking-mp4_80_jpg.rf.b0e113e9c7835924c58913f478fbee3d.jpg\\n', '/content/Airport-CCTV-Detection-1/train/images/-_0910_F_-_CAM3_21_masking-mp4_288_jpg.rf.4873da7f0d8f103e66416009748efdec.jpg\\n', '/content/Airport-CCTV-Detection-1/train/images/-_0910_F_-_CAM6_17_masking-mp4_248_jpg.rf.03320d64be1f56de6fe2a96db0ebfba0.jpg\\n', '/content/Airport-CCTV-Detection-1/train/images/-_0910_F_-_CAM2_21_masking-mp4_168_jpg.rf.4c0759518c0d93a643eb5bb3d6c23165.jpg\\n', '/content/Airport-CCTV-Detection-1/train/images/0917_H_faint_01_194_masking-mp4_238_jpg.rf.c71c5bbd820aebe962d1126cea8985ee.jpg\\n', '/content/Airport-CCTV-Detection-1/train/images/0917_H_faint_01_186_masking-mp4_310_jpg.rf.80391fc25cd01d47b4dffae721f7fb4c.jpg\\n', '/content/Airport-CCTV-Detection-1/train/images/-_0910_F_-_CAM1_27_masking-mp4_370_jpg.rf.58aa662c01b1348987cc6b916312267b.jpg\\n', '/content/Airport-CCTV-Detection-1/train/images/-_0910_F_-_CAM3_23_masking-mp4_216_jpg.rf.c63ad1d13a6301d5c0d002c97b593339.jpg\\n', '/content/Airport-CCTV-Detection-1/train/images/-_0910_F_-_CAM3_26_masking-mp4_165_jpg.rf.e2a2ccddb0d3b1579ec8f62cc42e7271.jpg\\n', '/content/Airport-CCTV-Detection-1/train/images/-_0910_F_-_CAM3_20_masking-mp4_160_jpg.rf.e24f1ce7bf7a3bf95b88097b0c7e0476.jpg\\n', '/content/Airport-CCTV-Detection-1/train/images/-_0910_F_-_CAM3_24_masking-mp4_240_jpg.rf.b06c0fedda7e346f1e310e3447f3f3f3.jpg\\n', '/content/Airport-CCTV-Detection-1/train/images/-_0910_F_-_CAM2_19_masking-mp4_333_jpg.rf.6567e7789f3b48cc47415638ff2f66ad.jpg\\n', '/content/Airport-CCTV-Detection-1/train/images/-_0910_F_-_CAM3_17_masking-mp4_210_jpg.rf.2a084ab1ed9dcc173617c889195b457a.jpg\\n', '/content/Airport-CCTV-Detection-1/train/images/0917_H_faint_01_197_masking-mp4_350_jpg.rf.d3c087f266a126d3e636d0f4de5d7dfb.jpg\\n', '/content/Airport-CCTV-Detection-1/train/images/-_0910_F_-_CAM3_23_masking-mp4_108_jpg.rf.5b6a5b913050ae47aeb43da6b56b42c0.jpg\\n', '/content/Airport-CCTV-Detection-1/train/images/-_0910_F_-_CAM3_18_masking-mp4_64_jpg.rf.469008c28650f19f40760347d3606dd3.jpg\\n', '/content/Airport-CCTV-Detection-1/train/images/-_0910_F_-_CAM2_23_masking-mp4_210_jpg.rf.f3d531c373a6fb735a3c4d0accb54201.jpg\\n', '/content/Airport-CCTV-Detection-1/train/images/-_0910_F_-_CAM2_24_masking-mp4_156_jpg.rf.e31287d85d9dcf8a16aa37a376d9f61a.jpg\\n', '/content/Airport-CCTV-Detection-1/train/images/-_0910_F_-_CAM2_17_masking-mp4_240_jpg.rf.7b61a6c43ea3227a4a741e2b7ae9ed42.jpg\\n', '/content/Airport-CCTV-Detection-1/train/images/-_0910_F_-_CAM1_26_masking-mp4_231_jpg.rf.e9f9a8bac0d9652faaf09d9016b97980.jpg\\n', '/content/Airport-CCTV-Detection-1/train/images/0917_H_faint_01_195_masking-mp4_256_jpg.rf.21cdaeca9ca9165135197986101d8530.jpg\\n', '/content/Airport-CCTV-Detection-1/train/images/0917_H_faint_01_191_masking-mp4_297_jpg.rf.8657389518c0286a0cb2dfdbc14dd9ac.jpg\\n', '/content/Airport-CCTV-Detection-1/train/images/-_0910_F_-_CAM6_19_masking-mp4_70_jpg.rf.884b1bfb0a00cb29efcd99a21c7801a1.jpg\\n', '/content/Airport-CCTV-Detection-1/train/images/-_0910_F_-_CAM6_28_masking-mp4_297_jpg.rf.12a8749274fd9b40ed6ad07e7aff2ed0.jpg\\n', '/content/Airport-CCTV-Detection-1/train/images/-_0910_F_-_CAM6_20_masking-mp4_102_jpg.rf.b091f0b404be4957aadea66cbae306ad.jpg\\n', '/content/Airport-CCTV-Detection-1/train/images/-_0910_F_-_CAM6_18_masking-mp4_170_jpg.rf.9ce806fbe2ef40413f8864603d2abae1.jpg\\n', '/content/Airport-CCTV-Detection-1/train/images/-_0910_F_-_CAM2_21_masking-mp4_378_jpg.rf.9b8e81e445dc6f1b57a77ef4c41106ff.jpg\\n', '/content/Airport-CCTV-Detection-1/train/images/0917_H_faint_01_199_masking-mp4_297_jpg.rf.5ea8bc577f561be5ff81014edd839ddc.jpg\\n', '/content/Airport-CCTV-Detection-1/train/images/-_0910_F_-_CAM3_23_masking-mp4_324_jpg.rf.49f072784a369ed7662569b208a4920e.jpg\\n', '/content/Airport-CCTV-Detection-1/train/images/-_0910_F_-_CAM6_28_masking-mp4_330_jpg.rf.d33cdde993474d31469f71fe7b1a714e.jpg\\n', '/content/Airport-CCTV-Detection-1/train/images/0917_H_faint_01_193_masking-mp4_300_jpg.rf.a0ed23c241d68fc71c5c0886f1f82469.jpg\\n', '/content/Airport-CCTV-Detection-1/train/images/-_0910_F_-_CAM6_23_masking-mp4_224_jpg.rf.3f9f77eea13a65c95daa4043b3d26ef4.jpg\\n', '/content/Airport-CCTV-Detection-1/train/images/-_0910_F_-_CAM6_26_masking-mp4_340_jpg.rf.25ca8fb935ccd6f7fc2e8a338feaae2b.jpg\\n', '/content/Airport-CCTV-Detection-1/train/images/-_0910_F_-_CAM6_27_masking-mp4_306_jpg.rf.e7ab0ef4fa1f7789a6ede13d7b0e1a63.jpg\\n', '/content/Airport-CCTV-Detection-1/train/images/0917_H_faint_01_191_masking-mp4_264_jpg.rf.915fc5d17d4b598ba20c94083fb498e2.jpg\\n', '/content/Airport-CCTV-Detection-1/train/images/0917_H_faint_01_199_masking-mp4_264_jpg.rf.e104098e8c89e9d5dc2a969b2accf091.jpg\\n', '/content/Airport-CCTV-Detection-1/train/images/-_0910_F_-_CAM2_23_masking-mp4_350_jpg.rf.c812cb464d04b08e69a8aa03fa76c1c4.jpg\\n', '/content/Airport-CCTV-Detection-1/train/images/-_0910_F_-_CAM2_24_masking-mp4_117_jpg.rf.2983022615be347417701af9d14fc859.jpg\\n', '/content/Airport-CCTV-Detection-1/train/images/-_0910_F_-_CAM2_17_masking-mp4_150_jpg.rf.a704e2dfc865f41e242f99b5a17fb527.jpg\\n', '/content/Airport-CCTV-Detection-1/train/images/-_0910_F_-_CAM3_22_masking-mp4_96_jpg.rf.116990ada194dbcd2593139b87e4f7c5.jpg\\n', '/content/Airport-CCTV-Detection-1/train/images/0917_H_faint_01_185_masking-mp4_186_jpg.rf.98c8174a4d8e5ce6ca392b3e77ebf78a.jpg\\n', '/content/Airport-CCTV-Detection-1/train/images/0917_H_faint_01_204_masking-mp4_261_jpg.rf.6e1ed408950f4533b11bc17ff07dfa0c.jpg\\n', '/content/Airport-CCTV-Detection-1/train/images/0917_H_faint_01_194_masking-mp4_306_jpg.rf.54db9082a3749016264038d5b68cdbe4.jpg\\n', '/content/Airport-CCTV-Detection-1/train/images/-_0910_F_-_CAM2_28_masking-mp4_279_jpg.rf.5d66b47f55a1c3e3e8b1fd6947b951ab.jpg\\n']\n"
     ]
    }
   ],
   "source": [
    "# [참조] 파일에의 리스트를 확인 하는 다른 방법\n",
    "with open(DATA_PATH + '/train.txt', 'r') as f:\n",
    "  a = f.readlines()\n",
    "  print(a)"
   ]
  },
  {
   "cell_type": "markdown",
   "metadata": {
    "id": "Cl2gbvH7zAdu"
   },
   "source": [
    "# `data.yaml` 데이터 설정 파일 수정"
   ]
  },
  {
   "cell_type": "markdown",
   "metadata": {
    "id": "ZLRnApd1zJyW"
   },
   "source": [
    " 환경 정도는 다음과 같이 들어가 있습니다.(names, nc, train과 val)\n",
    "\n",
    "  - [정보] ① names : class이름, ② nc : class종류수 ③ train/validation 경로\n",
    "\n",
    "  - **여기서 주의 사항은 train/val 경로는 Full Path가 들어간 이미지 리스트 파일(train.txt, validation.txt)로 연결이 되어야 합니다. 그래서, 앞서 생성된 리스트 파일이 필요합니다..**"
   ]
  },
  {
   "cell_type": "code",
   "execution_count": 9,
   "metadata": {
    "colab": {
     "base_uri": "https://localhost:8080/"
    },
    "executionInfo": {
     "elapsed": 457,
     "status": "ok",
     "timestamp": 1703576986537,
     "user": {
      "displayName": "ccc flkwerkdai",
      "userId": "13507850890638580947"
     },
     "user_tz": -540
    },
    "id": "YGiQIRqTzMB-",
    "outputId": "03308476-43dc-478f-9a1b-92bc54d29578"
   },
   "outputs": [
    {
     "name": "stdout",
     "output_type": "stream",
     "text": [
      "{'names': ['fall', 'fight'], 'nc': 2, 'roboflow': {'license': 'Public Domain', 'project': 'airport-cctv-detection', 'url': 'https://universe.roboflow.com/hanyang-university-korea/airport-cctv-detection/dataset/1', 'version': 1, 'workspace': 'hanyang-university-korea'}, 'test': '../test/images', 'train': 'Airport-CCTV-Detection-1/train/images', 'val': 'Airport-CCTV-Detection-1/valid/images'}\n",
      "<class 'dict'>\n"
     ]
    }
   ],
   "source": [
    "# 필요 yaml 라이브러리 불러오기\n",
    "import yaml\n",
    "\n",
    "# yaml 데이터를 열어서(로딩) data라는 변수에 정보를 딕셔너리 형태로 저장\n",
    "with open('/content/Airport-CCTV-Detection-1/data.yaml', 'r') as f:\n",
    "  data = yaml.load(f, Loader=yaml.FullLoader)\n",
    "\n",
    "print(data)\n",
    "print(type(data))"
   ]
  },
  {
   "cell_type": "code",
   "execution_count": 10,
   "metadata": {
    "executionInfo": {
     "elapsed": 4,
     "status": "ok",
     "timestamp": 1703576986537,
     "user": {
      "displayName": "ccc flkwerkdai",
      "userId": "13507850890638580947"
     },
     "user_tz": -540
    },
    "id": "v0C9m_pEzh-W"
   },
   "outputs": [],
   "source": [
    "# train Key값에는 train.txt 파일을 val key 값네는 validation.txt를 넣어 주세요\n",
    "data[\"train\"] = \"/content/Airport-CCTV-Detection-1/train.txt\"\n",
    "data[\"val\"] = \"/content/Airport-CCTV-Detection-1/validation.txt\""
   ]
  },
  {
   "cell_type": "code",
   "execution_count": 11,
   "metadata": {
    "executionInfo": {
     "elapsed": 3,
     "status": "ok",
     "timestamp": 1703576986537,
     "user": {
      "displayName": "ccc flkwerkdai",
      "userId": "13507850890638580947"
     },
     "user_tz": -540
    },
    "id": "soPBc_RTzvLd"
   },
   "outputs": [],
   "source": [
    "with open(DATA_PATH + '/data.yaml', 'w') as f:\n",
    "  yaml.dump(data, f)"
   ]
  },
  {
   "cell_type": "markdown",
   "metadata": {
    "id": "Fnb3P0n8z1IH"
   },
   "source": [
    "***"
   ]
  },
  {
   "cell_type": "markdown",
   "metadata": {
    "id": "qdekyOoZzxTG"
   },
   "source": [
    "# Yolov8 사용 준비"
   ]
  },
  {
   "cell_type": "code",
   "execution_count": 12,
   "metadata": {
    "colab": {
     "base_uri": "https://localhost:8080/"
    },
    "executionInfo": {
     "elapsed": 5656,
     "status": "ok",
     "timestamp": 1703576992190,
     "user": {
      "displayName": "ccc flkwerkdai",
      "userId": "13507850890638580947"
     },
     "user_tz": -540
    },
    "id": "Xa3IFh6I0rxf",
    "outputId": "fc5dbf58-278b-46b2-8df5-bf824f76c0b5"
   },
   "outputs": [
    {
     "name": "stdout",
     "output_type": "stream",
     "text": [
      "Collecting ultralytics\n",
      "  Downloading ultralytics-8.0.229-py3-none-any.whl (663 kB)\n",
      "\u001b[2K     \u001b[90m━━━━━━━━━━━━━━━━━━━━━━━━━━━━━━━━━━━━━━━━\u001b[0m \u001b[32m663.2/663.2 kB\u001b[0m \u001b[31m7.9 MB/s\u001b[0m eta \u001b[36m0:00:00\u001b[0m\n",
      "\u001b[?25hRequirement already satisfied: matplotlib>=3.3.0 in /usr/local/lib/python3.10/dist-packages (from ultralytics) (3.7.1)\n",
      "Requirement already satisfied: numpy>=1.22.2 in /usr/local/lib/python3.10/dist-packages (from ultralytics) (1.23.5)\n",
      "Requirement already satisfied: opencv-python>=4.6.0 in /usr/local/lib/python3.10/dist-packages (from ultralytics) (4.8.0.76)\n",
      "Requirement already satisfied: pillow>=7.1.2 in /usr/local/lib/python3.10/dist-packages (from ultralytics) (9.4.0)\n",
      "Requirement already satisfied: pyyaml>=5.3.1 in /usr/local/lib/python3.10/dist-packages (from ultralytics) (6.0.1)\n",
      "Requirement already satisfied: requests>=2.23.0 in /usr/local/lib/python3.10/dist-packages (from ultralytics) (2.31.0)\n",
      "Requirement already satisfied: scipy>=1.4.1 in /usr/local/lib/python3.10/dist-packages (from ultralytics) (1.11.4)\n",
      "Requirement already satisfied: torch>=1.8.0 in /usr/local/lib/python3.10/dist-packages (from ultralytics) (2.1.0+cu121)\n",
      "Requirement already satisfied: torchvision>=0.9.0 in /usr/local/lib/python3.10/dist-packages (from ultralytics) (0.16.0+cu121)\n",
      "Requirement already satisfied: tqdm>=4.64.0 in /usr/local/lib/python3.10/dist-packages (from ultralytics) (4.66.1)\n",
      "Requirement already satisfied: pandas>=1.1.4 in /usr/local/lib/python3.10/dist-packages (from ultralytics) (1.5.3)\n",
      "Requirement already satisfied: seaborn>=0.11.0 in /usr/local/lib/python3.10/dist-packages (from ultralytics) (0.12.2)\n",
      "Requirement already satisfied: psutil in /usr/local/lib/python3.10/dist-packages (from ultralytics) (5.9.5)\n",
      "Requirement already satisfied: py-cpuinfo in /usr/local/lib/python3.10/dist-packages (from ultralytics) (9.0.0)\n",
      "Collecting thop>=0.1.1 (from ultralytics)\n",
      "  Downloading thop-0.1.1.post2209072238-py3-none-any.whl (15 kB)\n",
      "Requirement already satisfied: contourpy>=1.0.1 in /usr/local/lib/python3.10/dist-packages (from matplotlib>=3.3.0->ultralytics) (1.2.0)\n",
      "Requirement already satisfied: cycler>=0.10 in /usr/local/lib/python3.10/dist-packages (from matplotlib>=3.3.0->ultralytics) (0.10.0)\n",
      "Requirement already satisfied: fonttools>=4.22.0 in /usr/local/lib/python3.10/dist-packages (from matplotlib>=3.3.0->ultralytics) (4.46.0)\n",
      "Requirement already satisfied: kiwisolver>=1.0.1 in /usr/local/lib/python3.10/dist-packages (from matplotlib>=3.3.0->ultralytics) (1.4.5)\n",
      "Requirement already satisfied: packaging>=20.0 in /usr/local/lib/python3.10/dist-packages (from matplotlib>=3.3.0->ultralytics) (23.2)\n",
      "Requirement already satisfied: pyparsing>=2.3.1 in /usr/local/lib/python3.10/dist-packages (from matplotlib>=3.3.0->ultralytics) (2.4.7)\n",
      "Requirement already satisfied: python-dateutil>=2.7 in /usr/local/lib/python3.10/dist-packages (from matplotlib>=3.3.0->ultralytics) (2.8.2)\n",
      "Requirement already satisfied: pytz>=2020.1 in /usr/local/lib/python3.10/dist-packages (from pandas>=1.1.4->ultralytics) (2023.3.post1)\n",
      "Requirement already satisfied: charset-normalizer<4,>=2 in /usr/local/lib/python3.10/dist-packages (from requests>=2.23.0->ultralytics) (3.3.2)\n",
      "Requirement already satisfied: idna<4,>=2.5 in /usr/local/lib/python3.10/dist-packages (from requests>=2.23.0->ultralytics) (2.10)\n",
      "Requirement already satisfied: urllib3<3,>=1.21.1 in /usr/local/lib/python3.10/dist-packages (from requests>=2.23.0->ultralytics) (2.0.7)\n",
      "Requirement already satisfied: certifi>=2017.4.17 in /usr/local/lib/python3.10/dist-packages (from requests>=2.23.0->ultralytics) (2023.7.22)\n",
      "Requirement already satisfied: filelock in /usr/local/lib/python3.10/dist-packages (from torch>=1.8.0->ultralytics) (3.13.1)\n",
      "Requirement already satisfied: typing-extensions in /usr/local/lib/python3.10/dist-packages (from torch>=1.8.0->ultralytics) (4.5.0)\n",
      "Requirement already satisfied: sympy in /usr/local/lib/python3.10/dist-packages (from torch>=1.8.0->ultralytics) (1.12)\n",
      "Requirement already satisfied: networkx in /usr/local/lib/python3.10/dist-packages (from torch>=1.8.0->ultralytics) (3.2.1)\n",
      "Requirement already satisfied: jinja2 in /usr/local/lib/python3.10/dist-packages (from torch>=1.8.0->ultralytics) (3.1.2)\n",
      "Requirement already satisfied: fsspec in /usr/local/lib/python3.10/dist-packages (from torch>=1.8.0->ultralytics) (2023.6.0)\n",
      "Requirement already satisfied: triton==2.1.0 in /usr/local/lib/python3.10/dist-packages (from torch>=1.8.0->ultralytics) (2.1.0)\n",
      "Requirement already satisfied: six in /usr/local/lib/python3.10/dist-packages (from cycler>=0.10->matplotlib>=3.3.0->ultralytics) (1.16.0)\n",
      "Requirement already satisfied: MarkupSafe>=2.0 in /usr/local/lib/python3.10/dist-packages (from jinja2->torch>=1.8.0->ultralytics) (2.1.3)\n",
      "Requirement already satisfied: mpmath>=0.19 in /usr/local/lib/python3.10/dist-packages (from sympy->torch>=1.8.0->ultralytics) (1.3.0)\n",
      "Installing collected packages: thop, ultralytics\n",
      "Successfully installed thop-0.1.1.post2209072238 ultralytics-8.0.229\n"
     ]
    }
   ],
   "source": [
    "!pip install ultralytics"
   ]
  },
  {
   "cell_type": "code",
   "execution_count": 13,
   "metadata": {
    "executionInfo": {
     "elapsed": 4843,
     "status": "ok",
     "timestamp": 1703576997496,
     "user": {
      "displayName": "ccc flkwerkdai",
      "userId": "13507850890638580947"
     },
     "user_tz": -540
    },
    "id": "hccBYwmTz2O2"
   },
   "outputs": [],
   "source": [
    "from ultralytics import YOLO"
   ]
  },
  {
   "cell_type": "code",
   "execution_count": 14,
   "metadata": {
    "colab": {
     "base_uri": "https://localhost:8080/"
    },
    "executionInfo": {
     "elapsed": 1806,
     "status": "ok",
     "timestamp": 1703576999297,
     "user": {
      "displayName": "ccc flkwerkdai",
      "userId": "13507850890638580947"
     },
     "user_tz": -540
    },
    "id": "8pbob2Jt1FAO",
    "outputId": "845dd6ab-e4b7-488c-d3a1-b44f3533a5c5"
   },
   "outputs": [
    {
     "name": "stdout",
     "output_type": "stream",
     "text": [
      "\n",
      "                   from  n    params  module                                       arguments                     \n",
      "  0                  -1  1       928  ultralytics.nn.modules.conv.Conv             [3, 32, 3, 2]                 \n",
      "  1                  -1  1     18560  ultralytics.nn.modules.conv.Conv             [32, 64, 3, 2]                \n",
      "  2                  -1  1     29056  ultralytics.nn.modules.block.C2f             [64, 64, 1, True]             \n",
      "  3                  -1  1     73984  ultralytics.nn.modules.conv.Conv             [64, 128, 3, 2]               \n",
      "  4                  -1  2    197632  ultralytics.nn.modules.block.C2f             [128, 128, 2, True]           \n",
      "  5                  -1  1    295424  ultralytics.nn.modules.conv.Conv             [128, 256, 3, 2]              \n",
      "  6                  -1  2    788480  ultralytics.nn.modules.block.C2f             [256, 256, 2, True]           \n",
      "  7                  -1  1   1180672  ultralytics.nn.modules.conv.Conv             [256, 512, 3, 2]              \n",
      "  8                  -1  1   1838080  ultralytics.nn.modules.block.C2f             [512, 512, 1, True]           \n",
      "  9                  -1  1    656896  ultralytics.nn.modules.block.SPPF            [512, 512, 5]                 \n",
      " 10                  -1  1         0  torch.nn.modules.upsampling.Upsample         [None, 2, 'nearest']          \n",
      " 11             [-1, 6]  1         0  ultralytics.nn.modules.conv.Concat           [1]                           \n",
      " 12                  -1  1    591360  ultralytics.nn.modules.block.C2f             [768, 256, 1]                 \n",
      " 13                  -1  1         0  torch.nn.modules.upsampling.Upsample         [None, 2, 'nearest']          \n",
      " 14             [-1, 4]  1         0  ultralytics.nn.modules.conv.Concat           [1]                           \n",
      " 15                  -1  1    148224  ultralytics.nn.modules.block.C2f             [384, 128, 1]                 \n",
      " 16                  -1  1    147712  ultralytics.nn.modules.conv.Conv             [128, 128, 3, 2]              \n",
      " 17            [-1, 12]  1         0  ultralytics.nn.modules.conv.Concat           [1]                           \n",
      " 18                  -1  1    493056  ultralytics.nn.modules.block.C2f             [384, 256, 1]                 \n",
      " 19                  -1  1    590336  ultralytics.nn.modules.conv.Conv             [256, 256, 3, 2]              \n",
      " 20             [-1, 9]  1         0  ultralytics.nn.modules.conv.Concat           [1]                           \n",
      " 21                  -1  1   1969152  ultralytics.nn.modules.block.C2f             [768, 512, 1]                 \n",
      " 22        [15, 18, 21]  1   2147008  ultralytics.nn.modules.head.Detect           [80, [128, 256, 512]]         \n",
      "YOLOv8s summary: 225 layers, 11166560 parameters, 11166544 gradients, 28.8 GFLOPs\n",
      "\n",
      "Downloading https://github.com/ultralytics/assets/releases/download/v0.0.0/yolov8s.pt to 'yolov8s.pt'...\n"
     ]
    },
    {
     "name": "stderr",
     "output_type": "stream",
     "text": [
      "100%|██████████| 21.5M/21.5M [00:00<00:00, 252MB/s]\n"
     ]
    }
   ],
   "source": [
    "# Load a model\n",
    "model = YOLO(\"yolov8s.yaml\")  # build a new model from scratch\n",
    "model = YOLO(\"yolov8s.pt\")  # load a pretrained model (recommended for training)"
   ]
  },
  {
   "cell_type": "markdown",
   "metadata": {
    "id": "zTyLiiC89RhM"
   },
   "source": [
    "##  모델 학습"
   ]
  },
  {
   "cell_type": "code",
   "execution_count": 15,
   "metadata": {
    "colab": {
     "base_uri": "https://localhost:8080/"
    },
    "executionInfo": {
     "elapsed": 98223,
     "status": "ok",
     "timestamp": 1703577097515,
     "user": {
      "displayName": "ccc flkwerkdai",
      "userId": "13507850890638580947"
     },
     "user_tz": -540
    },
    "id": "Jq9atsLU1H-d",
    "outputId": "8459da2b-d474-4dfa-defe-547263f3968f"
   },
   "outputs": [
    {
     "name": "stdout",
     "output_type": "stream",
     "text": [
      "Ultralytics YOLOv8.0.229 🚀 Python-3.10.12 torch-2.1.0+cu121 CUDA:0 (Tesla T4, 15102MiB)\n",
      "\u001b[34m\u001b[1mengine/trainer: \u001b[0mtask=detect, mode=train, model=yolov8s.pt, data=/content/Airport-CCTV-Detection-1/data.yaml, epochs=10, time=None, patience=50, batch=24, imgsz=640, save=True, save_period=-1, cache=False, device=None, workers=8, project=None, name=train, exist_ok=False, pretrained=True, optimizer=auto, verbose=True, seed=0, deterministic=True, single_cls=False, rect=False, cos_lr=False, close_mosaic=10, resume=False, amp=True, fraction=1.0, profile=False, freeze=None, overlap_mask=True, mask_ratio=4, dropout=0.0, val=True, split=val, save_json=False, save_hybrid=False, conf=None, iou=0.7, max_det=300, half=False, dnn=False, plots=True, source=None, vid_stride=1, stream_buffer=False, visualize=False, augment=False, agnostic_nms=False, classes=None, retina_masks=False, embed=None, show=False, save_frames=False, save_txt=False, save_conf=False, save_crop=False, show_labels=True, show_conf=True, show_boxes=True, line_width=None, format=torchscript, keras=False, optimize=False, int8=False, dynamic=False, simplify=False, opset=None, workspace=4, nms=False, lr0=0.01, lrf=0.01, momentum=0.937, weight_decay=0.0005, warmup_epochs=3.0, warmup_momentum=0.8, warmup_bias_lr=0.1, box=7.5, cls=0.5, dfl=1.5, pose=12.0, kobj=1.0, label_smoothing=0.0, nbs=64, hsv_h=0.015, hsv_s=0.7, hsv_v=0.4, degrees=0.0, translate=0.1, scale=0.5, shear=0.0, perspective=0.0, flipud=0.0, fliplr=0.5, mosaic=1.0, mixup=0.0, copy_paste=0.0, cfg=None, tracker=botsort.yaml, save_dir=runs/detect/train\n",
      "Downloading https://ultralytics.com/assets/Arial.ttf to '/root/.config/Ultralytics/Arial.ttf'...\n"
     ]
    },
    {
     "name": "stderr",
     "output_type": "stream",
     "text": [
      "100%|██████████| 755k/755k [00:00<00:00, 26.3MB/s]\n"
     ]
    },
    {
     "name": "stdout",
     "output_type": "stream",
     "text": [
      "Overriding model.yaml nc=80 with nc=2\n",
      "\n",
      "                   from  n    params  module                                       arguments                     \n",
      "  0                  -1  1       928  ultralytics.nn.modules.conv.Conv             [3, 32, 3, 2]                 \n",
      "  1                  -1  1     18560  ultralytics.nn.modules.conv.Conv             [32, 64, 3, 2]                \n",
      "  2                  -1  1     29056  ultralytics.nn.modules.block.C2f             [64, 64, 1, True]             \n",
      "  3                  -1  1     73984  ultralytics.nn.modules.conv.Conv             [64, 128, 3, 2]               \n",
      "  4                  -1  2    197632  ultralytics.nn.modules.block.C2f             [128, 128, 2, True]           \n",
      "  5                  -1  1    295424  ultralytics.nn.modules.conv.Conv             [128, 256, 3, 2]              \n",
      "  6                  -1  2    788480  ultralytics.nn.modules.block.C2f             [256, 256, 2, True]           \n",
      "  7                  -1  1   1180672  ultralytics.nn.modules.conv.Conv             [256, 512, 3, 2]              \n",
      "  8                  -1  1   1838080  ultralytics.nn.modules.block.C2f             [512, 512, 1, True]           \n",
      "  9                  -1  1    656896  ultralytics.nn.modules.block.SPPF            [512, 512, 5]                 \n",
      " 10                  -1  1         0  torch.nn.modules.upsampling.Upsample         [None, 2, 'nearest']          \n",
      " 11             [-1, 6]  1         0  ultralytics.nn.modules.conv.Concat           [1]                           \n",
      " 12                  -1  1    591360  ultralytics.nn.modules.block.C2f             [768, 256, 1]                 \n",
      " 13                  -1  1         0  torch.nn.modules.upsampling.Upsample         [None, 2, 'nearest']          \n",
      " 14             [-1, 4]  1         0  ultralytics.nn.modules.conv.Concat           [1]                           \n",
      " 15                  -1  1    148224  ultralytics.nn.modules.block.C2f             [384, 128, 1]                 \n",
      " 16                  -1  1    147712  ultralytics.nn.modules.conv.Conv             [128, 128, 3, 2]              \n",
      " 17            [-1, 12]  1         0  ultralytics.nn.modules.conv.Concat           [1]                           \n",
      " 18                  -1  1    493056  ultralytics.nn.modules.block.C2f             [384, 256, 1]                 \n",
      " 19                  -1  1    590336  ultralytics.nn.modules.conv.Conv             [256, 256, 3, 2]              \n",
      " 20             [-1, 9]  1         0  ultralytics.nn.modules.conv.Concat           [1]                           \n",
      " 21                  -1  1   1969152  ultralytics.nn.modules.block.C2f             [768, 512, 1]                 \n",
      " 22        [15, 18, 21]  1   2116822  ultralytics.nn.modules.head.Detect           [2, [128, 256, 512]]          \n",
      "Model summary: 225 layers, 11136374 parameters, 11136358 gradients, 28.6 GFLOPs\n",
      "\n",
      "Transferred 349/355 items from pretrained weights\n",
      "\u001b[34m\u001b[1mTensorBoard: \u001b[0mStart with 'tensorboard --logdir runs/detect/train', view at http://localhost:6006/\n",
      "Freezing layer 'model.22.dfl.conv.weight'\n",
      "\u001b[34m\u001b[1mAMP: \u001b[0mrunning Automatic Mixed Precision (AMP) checks with YOLOv8n...\n",
      "Downloading https://github.com/ultralytics/assets/releases/download/v0.0.0/yolov8n.pt to 'yolov8n.pt'...\n"
     ]
    },
    {
     "name": "stderr",
     "output_type": "stream",
     "text": [
      "100%|██████████| 6.23M/6.23M [00:00<00:00, 118MB/s]\n"
     ]
    },
    {
     "name": "stdout",
     "output_type": "stream",
     "text": [
      "WARNING ⚠️ NMS time limit 0.550s exceeded\n",
      "\u001b[34m\u001b[1mAMP: \u001b[0mchecks passed ✅\n"
     ]
    },
    {
     "name": "stderr",
     "output_type": "stream",
     "text": [
      "\u001b[34m\u001b[1mtrain: \u001b[0mScanning /content/Airport-CCTV-Detection-1/train/labels... 330 images, 6 backgrounds, 0 corrupt: 100%|██████████| 330/330 [00:00<00:00, 1230.19it/s]"
     ]
    },
    {
     "name": "stdout",
     "output_type": "stream",
     "text": [
      "\u001b[34m\u001b[1mtrain: \u001b[0mNew cache created: /content/Airport-CCTV-Detection-1/train/labels.cache\n"
     ]
    },
    {
     "name": "stderr",
     "output_type": "stream",
     "text": [
      "\n"
     ]
    },
    {
     "name": "stdout",
     "output_type": "stream",
     "text": [
      "\u001b[34m\u001b[1malbumentations: \u001b[0mBlur(p=0.01, blur_limit=(3, 7)), MedianBlur(p=0.01, blur_limit=(3, 7)), ToGray(p=0.01), CLAHE(p=0.01, clip_limit=(1, 4.0), tile_grid_size=(8, 8))\n"
     ]
    },
    {
     "name": "stderr",
     "output_type": "stream",
     "text": [
      "\u001b[34m\u001b[1mval: \u001b[0mScanning /content/Airport-CCTV-Detection-1/test/labels... 130 images, 1 backgrounds, 0 corrupt: 100%|██████████| 130/130 [00:00<00:00, 1565.32it/s]"
     ]
    },
    {
     "name": "stdout",
     "output_type": "stream",
     "text": [
      "\u001b[34m\u001b[1mval: \u001b[0mNew cache created: /content/Airport-CCTV-Detection-1/test/labels.cache\n"
     ]
    },
    {
     "name": "stderr",
     "output_type": "stream",
     "text": [
      "\n"
     ]
    },
    {
     "name": "stdout",
     "output_type": "stream",
     "text": [
      "Plotting labels to runs/detect/train/labels.jpg... \n",
      "\u001b[34m\u001b[1moptimizer:\u001b[0m 'optimizer=auto' found, ignoring 'lr0=0.01' and 'momentum=0.937' and determining best 'optimizer', 'lr0' and 'momentum' automatically... \n",
      "\u001b[34m\u001b[1moptimizer:\u001b[0m AdamW(lr=0.001667, momentum=0.9) with parameter groups 57 weight(decay=0.0), 64 weight(decay=0.0005625000000000001), 63 bias(decay=0.0)\n",
      "10 epochs...\n",
      "Closing dataloader mosaic\n",
      "\u001b[34m\u001b[1malbumentations: \u001b[0mBlur(p=0.01, blur_limit=(3, 7)), MedianBlur(p=0.01, blur_limit=(3, 7)), ToGray(p=0.01), CLAHE(p=0.01, clip_limit=(1, 4.0), tile_grid_size=(8, 8))\n",
      "\n",
      "      Epoch    GPU_mem   box_loss   cls_loss   dfl_loss  Instances       Size\n"
     ]
    },
    {
     "name": "stderr",
     "output_type": "stream",
     "text": [
      "       1/10      5.98G      1.423      7.565      1.294         18        640: 100%|██████████| 14/14 [00:07<00:00,  1.83it/s]\n",
      "                 Class     Images  Instances      Box(P          R      mAP50  mAP50-95): 100%|██████████| 3/3 [00:02<00:00,  1.28it/s]"
     ]
    },
    {
     "name": "stdout",
     "output_type": "stream",
     "text": [
      "                   all        130        129      0.471      0.675      0.727      0.497\n"
     ]
    },
    {
     "name": "stderr",
     "output_type": "stream",
     "text": [
      "\n"
     ]
    },
    {
     "name": "stdout",
     "output_type": "stream",
     "text": [
      "\n",
      "      Epoch    GPU_mem   box_loss   cls_loss   dfl_loss  Instances       Size\n"
     ]
    },
    {
     "name": "stderr",
     "output_type": "stream",
     "text": [
      "       2/10      5.97G      1.099      1.534      1.041         18        640: 100%|██████████| 14/14 [00:04<00:00,  2.96it/s]\n",
      "                 Class     Images  Instances      Box(P          R      mAP50  mAP50-95): 100%|██████████| 3/3 [00:01<00:00,  2.60it/s]"
     ]
    },
    {
     "name": "stdout",
     "output_type": "stream",
     "text": [
      "                   all        130        129       0.72      0.606      0.815      0.541\n"
     ]
    },
    {
     "name": "stderr",
     "output_type": "stream",
     "text": [
      "\n"
     ]
    },
    {
     "name": "stdout",
     "output_type": "stream",
     "text": [
      "\n",
      "      Epoch    GPU_mem   box_loss   cls_loss   dfl_loss  Instances       Size\n"
     ]
    },
    {
     "name": "stderr",
     "output_type": "stream",
     "text": [
      "       3/10      5.99G     0.9922     0.9351       1.01         16        640: 100%|██████████| 14/14 [00:04<00:00,  3.05it/s]\n",
      "                 Class     Images  Instances      Box(P          R      mAP50  mAP50-95): 100%|██████████| 3/3 [00:01<00:00,  2.60it/s]"
     ]
    },
    {
     "name": "stdout",
     "output_type": "stream",
     "text": [
      "                   all        130        129      0.852      0.534      0.751      0.453\n"
     ]
    },
    {
     "name": "stderr",
     "output_type": "stream",
     "text": [
      "\n"
     ]
    },
    {
     "name": "stdout",
     "output_type": "stream",
     "text": [
      "\n",
      "      Epoch    GPU_mem   box_loss   cls_loss   dfl_loss  Instances       Size\n"
     ]
    },
    {
     "name": "stderr",
     "output_type": "stream",
     "text": [
      "       4/10      5.99G      1.001     0.7777      1.045         18        640: 100%|██████████| 14/14 [00:04<00:00,  3.08it/s]\n",
      "                 Class     Images  Instances      Box(P          R      mAP50  mAP50-95): 100%|██████████| 3/3 [00:01<00:00,  2.67it/s]"
     ]
    },
    {
     "name": "stdout",
     "output_type": "stream",
     "text": [
      "                   all        130        129      0.964      0.625        0.8      0.505\n"
     ]
    },
    {
     "name": "stderr",
     "output_type": "stream",
     "text": [
      "\n"
     ]
    },
    {
     "name": "stdout",
     "output_type": "stream",
     "text": [
      "\n",
      "      Epoch    GPU_mem   box_loss   cls_loss   dfl_loss  Instances       Size\n"
     ]
    },
    {
     "name": "stderr",
     "output_type": "stream",
     "text": [
      "       5/10      5.99G      1.009     0.7911      1.105         18        640: 100%|██████████| 14/14 [00:04<00:00,  3.06it/s]\n",
      "                 Class     Images  Instances      Box(P          R      mAP50  mAP50-95): 100%|██████████| 3/3 [00:01<00:00,  2.65it/s]"
     ]
    },
    {
     "name": "stdout",
     "output_type": "stream",
     "text": [
      "                   all        130        129       0.91      0.864      0.921      0.616\n"
     ]
    },
    {
     "name": "stderr",
     "output_type": "stream",
     "text": [
      "\n"
     ]
    },
    {
     "name": "stdout",
     "output_type": "stream",
     "text": [
      "\n",
      "      Epoch    GPU_mem   box_loss   cls_loss   dfl_loss  Instances       Size\n"
     ]
    },
    {
     "name": "stderr",
     "output_type": "stream",
     "text": [
      "       6/10      5.98G      0.919     0.6598      1.055         16        640: 100%|██████████| 14/14 [00:04<00:00,  3.05it/s]\n",
      "                 Class     Images  Instances      Box(P          R      mAP50  mAP50-95): 100%|██████████| 3/3 [00:01<00:00,  2.71it/s]"
     ]
    },
    {
     "name": "stdout",
     "output_type": "stream",
     "text": [
      "                   all        130        129      0.839      0.681      0.872       0.57\n"
     ]
    },
    {
     "name": "stderr",
     "output_type": "stream",
     "text": [
      "\n"
     ]
    },
    {
     "name": "stdout",
     "output_type": "stream",
     "text": [
      "\n",
      "      Epoch    GPU_mem   box_loss   cls_loss   dfl_loss  Instances       Size\n"
     ]
    },
    {
     "name": "stderr",
     "output_type": "stream",
     "text": [
      "       7/10      5.99G     0.9592     0.6607      1.029         18        640: 100%|██████████| 14/14 [00:04<00:00,  3.08it/s]\n",
      "                 Class     Images  Instances      Box(P          R      mAP50  mAP50-95): 100%|██████████| 3/3 [00:01<00:00,  2.66it/s]"
     ]
    },
    {
     "name": "stdout",
     "output_type": "stream",
     "text": [
      "                   all        130        129      0.922      0.809      0.913      0.621\n"
     ]
    },
    {
     "name": "stderr",
     "output_type": "stream",
     "text": [
      "\n"
     ]
    },
    {
     "name": "stdout",
     "output_type": "stream",
     "text": [
      "\n",
      "      Epoch    GPU_mem   box_loss   cls_loss   dfl_loss  Instances       Size\n"
     ]
    },
    {
     "name": "stderr",
     "output_type": "stream",
     "text": [
      "       8/10      6.08G     0.9548      0.616      1.029         18        640: 100%|██████████| 14/14 [00:04<00:00,  3.06it/s]\n",
      "                 Class     Images  Instances      Box(P          R      mAP50  mAP50-95): 100%|██████████| 3/3 [00:01<00:00,  2.73it/s]"
     ]
    },
    {
     "name": "stdout",
     "output_type": "stream",
     "text": [
      "                   all        130        129      0.869      0.929      0.954      0.641\n"
     ]
    },
    {
     "name": "stderr",
     "output_type": "stream",
     "text": [
      "\n"
     ]
    },
    {
     "name": "stdout",
     "output_type": "stream",
     "text": [
      "\n",
      "      Epoch    GPU_mem   box_loss   cls_loss   dfl_loss  Instances       Size\n"
     ]
    },
    {
     "name": "stderr",
     "output_type": "stream",
     "text": [
      "       9/10         6G      0.884     0.5631     0.9963         18        640: 100%|██████████| 14/14 [00:04<00:00,  3.06it/s]\n",
      "                 Class     Images  Instances      Box(P          R      mAP50  mAP50-95): 100%|██████████| 3/3 [00:01<00:00,  2.67it/s]"
     ]
    },
    {
     "name": "stdout",
     "output_type": "stream",
     "text": [
      "                   all        130        129      0.943       0.91       0.94      0.672\n"
     ]
    },
    {
     "name": "stderr",
     "output_type": "stream",
     "text": [
      "\n"
     ]
    },
    {
     "name": "stdout",
     "output_type": "stream",
     "text": [
      "\n",
      "      Epoch    GPU_mem   box_loss   cls_loss   dfl_loss  Instances       Size\n"
     ]
    },
    {
     "name": "stderr",
     "output_type": "stream",
     "text": [
      "      10/10      5.99G      0.891     0.5218      1.003         18        640: 100%|██████████| 14/14 [00:04<00:00,  3.08it/s]\n",
      "                 Class     Images  Instances      Box(P          R      mAP50  mAP50-95): 100%|██████████| 3/3 [00:01<00:00,  2.70it/s]"
     ]
    },
    {
     "name": "stdout",
     "output_type": "stream",
     "text": [
      "                   all        130        129      0.668      0.891      0.913      0.658\n"
     ]
    },
    {
     "name": "stderr",
     "output_type": "stream",
     "text": [
      "\n"
     ]
    },
    {
     "name": "stdout",
     "output_type": "stream",
     "text": [
      "\n",
      "10 epochs completed in 0.020 hours.\n",
      "Optimizer stripped from runs/detect/train/weights/last.pt, 22.5MB\n",
      "Optimizer stripped from runs/detect/train/weights/best.pt, 22.5MB\n",
      "\n",
      "Validating runs/detect/train/weights/best.pt...\n",
      "Ultralytics YOLOv8.0.229 🚀 Python-3.10.12 torch-2.1.0+cu121 CUDA:0 (Tesla T4, 15102MiB)\n",
      "Model summary (fused): 168 layers, 11126358 parameters, 0 gradients, 28.4 GFLOPs\n"
     ]
    },
    {
     "name": "stderr",
     "output_type": "stream",
     "text": [
      "                 Class     Images  Instances      Box(P          R      mAP50  mAP50-95): 100%|██████████| 3/3 [00:02<00:00,  1.27it/s]\n"
     ]
    },
    {
     "name": "stdout",
     "output_type": "stream",
     "text": [
      "                   all        130        129      0.943      0.909       0.94      0.671\n",
      "                  fall        130         29      0.964      0.918      0.951      0.668\n",
      "                 fight        130        100      0.922        0.9       0.93      0.674\n",
      "Speed: 0.2ms preprocess, 6.0ms inference, 0.0ms loss, 8.3ms postprocess per image\n",
      "Results saved to \u001b[1mruns/detect/train\u001b[0m\n"
     ]
    },
    {
     "data": {
      "text/plain": [
       "ultralytics.utils.metrics.DetMetrics object with attributes:\n",
       "\n",
       "ap_class_index: array([0, 1])\n",
       "box: ultralytics.utils.metrics.Metric object\n",
       "confusion_matrix: <ultralytics.utils.metrics.ConfusionMatrix object at 0x7a0fc1f8a4a0>\n",
       "curves: ['Precision-Recall(B)', 'F1-Confidence(B)', 'Precision-Confidence(B)', 'Recall-Confidence(B)']\n",
       "curves_results: [[array([          0,    0.001001,    0.002002,    0.003003,    0.004004,    0.005005,    0.006006,    0.007007,    0.008008,    0.009009,     0.01001,    0.011011,    0.012012,    0.013013,    0.014014,    0.015015,    0.016016,    0.017017,    0.018018,    0.019019,     0.02002,    0.021021,    0.022022,    0.023023,\n",
       "          0.024024,    0.025025,    0.026026,    0.027027,    0.028028,    0.029029,     0.03003,    0.031031,    0.032032,    0.033033,    0.034034,    0.035035,    0.036036,    0.037037,    0.038038,    0.039039,     0.04004,    0.041041,    0.042042,    0.043043,    0.044044,    0.045045,    0.046046,    0.047047,\n",
       "          0.048048,    0.049049,     0.05005,    0.051051,    0.052052,    0.053053,    0.054054,    0.055055,    0.056056,    0.057057,    0.058058,    0.059059,     0.06006,    0.061061,    0.062062,    0.063063,    0.064064,    0.065065,    0.066066,    0.067067,    0.068068,    0.069069,     0.07007,    0.071071,\n",
       "          0.072072,    0.073073,    0.074074,    0.075075,    0.076076,    0.077077,    0.078078,    0.079079,     0.08008,    0.081081,    0.082082,    0.083083,    0.084084,    0.085085,    0.086086,    0.087087,    0.088088,    0.089089,     0.09009,    0.091091,    0.092092,    0.093093,    0.094094,    0.095095,\n",
       "          0.096096,    0.097097,    0.098098,    0.099099,      0.1001,      0.1011,      0.1021,      0.1031,      0.1041,     0.10511,     0.10611,     0.10711,     0.10811,     0.10911,     0.11011,     0.11111,     0.11211,     0.11311,     0.11411,     0.11512,     0.11612,     0.11712,     0.11812,     0.11912,\n",
       "           0.12012,     0.12112,     0.12212,     0.12312,     0.12412,     0.12513,     0.12613,     0.12713,     0.12813,     0.12913,     0.13013,     0.13113,     0.13213,     0.13313,     0.13413,     0.13514,     0.13614,     0.13714,     0.13814,     0.13914,     0.14014,     0.14114,     0.14214,     0.14314,\n",
       "           0.14414,     0.14515,     0.14615,     0.14715,     0.14815,     0.14915,     0.15015,     0.15115,     0.15215,     0.15315,     0.15415,     0.15516,     0.15616,     0.15716,     0.15816,     0.15916,     0.16016,     0.16116,     0.16216,     0.16316,     0.16416,     0.16517,     0.16617,     0.16717,\n",
       "           0.16817,     0.16917,     0.17017,     0.17117,     0.17217,     0.17317,     0.17417,     0.17518,     0.17618,     0.17718,     0.17818,     0.17918,     0.18018,     0.18118,     0.18218,     0.18318,     0.18418,     0.18519,     0.18619,     0.18719,     0.18819,     0.18919,     0.19019,     0.19119,\n",
       "           0.19219,     0.19319,     0.19419,      0.1952,      0.1962,      0.1972,      0.1982,      0.1992,      0.2002,      0.2012,      0.2022,      0.2032,      0.2042,     0.20521,     0.20621,     0.20721,     0.20821,     0.20921,     0.21021,     0.21121,     0.21221,     0.21321,     0.21421,     0.21522,\n",
       "           0.21622,     0.21722,     0.21822,     0.21922,     0.22022,     0.22122,     0.22222,     0.22322,     0.22422,     0.22523,     0.22623,     0.22723,     0.22823,     0.22923,     0.23023,     0.23123,     0.23223,     0.23323,     0.23423,     0.23524,     0.23624,     0.23724,     0.23824,     0.23924,\n",
       "           0.24024,     0.24124,     0.24224,     0.24324,     0.24424,     0.24525,     0.24625,     0.24725,     0.24825,     0.24925,     0.25025,     0.25125,     0.25225,     0.25325,     0.25425,     0.25526,     0.25626,     0.25726,     0.25826,     0.25926,     0.26026,     0.26126,     0.26226,     0.26326,\n",
       "           0.26426,     0.26527,     0.26627,     0.26727,     0.26827,     0.26927,     0.27027,     0.27127,     0.27227,     0.27327,     0.27427,     0.27528,     0.27628,     0.27728,     0.27828,     0.27928,     0.28028,     0.28128,     0.28228,     0.28328,     0.28428,     0.28529,     0.28629,     0.28729,\n",
       "           0.28829,     0.28929,     0.29029,     0.29129,     0.29229,     0.29329,     0.29429,      0.2953,      0.2963,      0.2973,      0.2983,      0.2993,      0.3003,      0.3013,      0.3023,      0.3033,      0.3043,     0.30531,     0.30631,     0.30731,     0.30831,     0.30931,     0.31031,     0.31131,\n",
       "           0.31231,     0.31331,     0.31431,     0.31532,     0.31632,     0.31732,     0.31832,     0.31932,     0.32032,     0.32132,     0.32232,     0.32332,     0.32432,     0.32533,     0.32633,     0.32733,     0.32833,     0.32933,     0.33033,     0.33133,     0.33233,     0.33333,     0.33433,     0.33534,\n",
       "           0.33634,     0.33734,     0.33834,     0.33934,     0.34034,     0.34134,     0.34234,     0.34334,     0.34434,     0.34535,     0.34635,     0.34735,     0.34835,     0.34935,     0.35035,     0.35135,     0.35235,     0.35335,     0.35435,     0.35536,     0.35636,     0.35736,     0.35836,     0.35936,\n",
       "           0.36036,     0.36136,     0.36236,     0.36336,     0.36436,     0.36537,     0.36637,     0.36737,     0.36837,     0.36937,     0.37037,     0.37137,     0.37237,     0.37337,     0.37437,     0.37538,     0.37638,     0.37738,     0.37838,     0.37938,     0.38038,     0.38138,     0.38238,     0.38338,\n",
       "           0.38438,     0.38539,     0.38639,     0.38739,     0.38839,     0.38939,     0.39039,     0.39139,     0.39239,     0.39339,     0.39439,      0.3954,      0.3964,      0.3974,      0.3984,      0.3994,      0.4004,      0.4014,      0.4024,      0.4034,      0.4044,     0.40541,     0.40641,     0.40741,\n",
       "           0.40841,     0.40941,     0.41041,     0.41141,     0.41241,     0.41341,     0.41441,     0.41542,     0.41642,     0.41742,     0.41842,     0.41942,     0.42042,     0.42142,     0.42242,     0.42342,     0.42442,     0.42543,     0.42643,     0.42743,     0.42843,     0.42943,     0.43043,     0.43143,\n",
       "           0.43243,     0.43343,     0.43443,     0.43544,     0.43644,     0.43744,     0.43844,     0.43944,     0.44044,     0.44144,     0.44244,     0.44344,     0.44444,     0.44545,     0.44645,     0.44745,     0.44845,     0.44945,     0.45045,     0.45145,     0.45245,     0.45345,     0.45445,     0.45546,\n",
       "           0.45646,     0.45746,     0.45846,     0.45946,     0.46046,     0.46146,     0.46246,     0.46346,     0.46446,     0.46547,     0.46647,     0.46747,     0.46847,     0.46947,     0.47047,     0.47147,     0.47247,     0.47347,     0.47447,     0.47548,     0.47648,     0.47748,     0.47848,     0.47948,\n",
       "           0.48048,     0.48148,     0.48248,     0.48348,     0.48448,     0.48549,     0.48649,     0.48749,     0.48849,     0.48949,     0.49049,     0.49149,     0.49249,     0.49349,     0.49449,      0.4955,      0.4965,      0.4975,      0.4985,      0.4995,      0.5005,      0.5015,      0.5025,      0.5035,\n",
       "            0.5045,     0.50551,     0.50651,     0.50751,     0.50851,     0.50951,     0.51051,     0.51151,     0.51251,     0.51351,     0.51451,     0.51552,     0.51652,     0.51752,     0.51852,     0.51952,     0.52052,     0.52152,     0.52252,     0.52352,     0.52452,     0.52553,     0.52653,     0.52753,\n",
       "           0.52853,     0.52953,     0.53053,     0.53153,     0.53253,     0.53353,     0.53453,     0.53554,     0.53654,     0.53754,     0.53854,     0.53954,     0.54054,     0.54154,     0.54254,     0.54354,     0.54454,     0.54555,     0.54655,     0.54755,     0.54855,     0.54955,     0.55055,     0.55155,\n",
       "           0.55255,     0.55355,     0.55455,     0.55556,     0.55656,     0.55756,     0.55856,     0.55956,     0.56056,     0.56156,     0.56256,     0.56356,     0.56456,     0.56557,     0.56657,     0.56757,     0.56857,     0.56957,     0.57057,     0.57157,     0.57257,     0.57357,     0.57457,     0.57558,\n",
       "           0.57658,     0.57758,     0.57858,     0.57958,     0.58058,     0.58158,     0.58258,     0.58358,     0.58458,     0.58559,     0.58659,     0.58759,     0.58859,     0.58959,     0.59059,     0.59159,     0.59259,     0.59359,     0.59459,      0.5956,      0.5966,      0.5976,      0.5986,      0.5996,\n",
       "            0.6006,      0.6016,      0.6026,      0.6036,      0.6046,     0.60561,     0.60661,     0.60761,     0.60861,     0.60961,     0.61061,     0.61161,     0.61261,     0.61361,     0.61461,     0.61562,     0.61662,     0.61762,     0.61862,     0.61962,     0.62062,     0.62162,     0.62262,     0.62362,\n",
       "           0.62462,     0.62563,     0.62663,     0.62763,     0.62863,     0.62963,     0.63063,     0.63163,     0.63263,     0.63363,     0.63463,     0.63564,     0.63664,     0.63764,     0.63864,     0.63964,     0.64064,     0.64164,     0.64264,     0.64364,     0.64464,     0.64565,     0.64665,     0.64765,\n",
       "           0.64865,     0.64965,     0.65065,     0.65165,     0.65265,     0.65365,     0.65465,     0.65566,     0.65666,     0.65766,     0.65866,     0.65966,     0.66066,     0.66166,     0.66266,     0.66366,     0.66466,     0.66567,     0.66667,     0.66767,     0.66867,     0.66967,     0.67067,     0.67167,\n",
       "           0.67267,     0.67367,     0.67467,     0.67568,     0.67668,     0.67768,     0.67868,     0.67968,     0.68068,     0.68168,     0.68268,     0.68368,     0.68468,     0.68569,     0.68669,     0.68769,     0.68869,     0.68969,     0.69069,     0.69169,     0.69269,     0.69369,     0.69469,      0.6957,\n",
       "            0.6967,      0.6977,      0.6987,      0.6997,      0.7007,      0.7017,      0.7027,      0.7037,      0.7047,     0.70571,     0.70671,     0.70771,     0.70871,     0.70971,     0.71071,     0.71171,     0.71271,     0.71371,     0.71471,     0.71572,     0.71672,     0.71772,     0.71872,     0.71972,\n",
       "           0.72072,     0.72172,     0.72272,     0.72372,     0.72472,     0.72573,     0.72673,     0.72773,     0.72873,     0.72973,     0.73073,     0.73173,     0.73273,     0.73373,     0.73473,     0.73574,     0.73674,     0.73774,     0.73874,     0.73974,     0.74074,     0.74174,     0.74274,     0.74374,\n",
       "           0.74474,     0.74575,     0.74675,     0.74775,     0.74875,     0.74975,     0.75075,     0.75175,     0.75275,     0.75375,     0.75475,     0.75576,     0.75676,     0.75776,     0.75876,     0.75976,     0.76076,     0.76176,     0.76276,     0.76376,     0.76476,     0.76577,     0.76677,     0.76777,\n",
       "           0.76877,     0.76977,     0.77077,     0.77177,     0.77277,     0.77377,     0.77477,     0.77578,     0.77678,     0.77778,     0.77878,     0.77978,     0.78078,     0.78178,     0.78278,     0.78378,     0.78478,     0.78579,     0.78679,     0.78779,     0.78879,     0.78979,     0.79079,     0.79179,\n",
       "           0.79279,     0.79379,     0.79479,      0.7958,      0.7968,      0.7978,      0.7988,      0.7998,      0.8008,      0.8018,      0.8028,      0.8038,      0.8048,     0.80581,     0.80681,     0.80781,     0.80881,     0.80981,     0.81081,     0.81181,     0.81281,     0.81381,     0.81481,     0.81582,\n",
       "           0.81682,     0.81782,     0.81882,     0.81982,     0.82082,     0.82182,     0.82282,     0.82382,     0.82482,     0.82583,     0.82683,     0.82783,     0.82883,     0.82983,     0.83083,     0.83183,     0.83283,     0.83383,     0.83483,     0.83584,     0.83684,     0.83784,     0.83884,     0.83984,\n",
       "           0.84084,     0.84184,     0.84284,     0.84384,     0.84484,     0.84585,     0.84685,     0.84785,     0.84885,     0.84985,     0.85085,     0.85185,     0.85285,     0.85385,     0.85485,     0.85586,     0.85686,     0.85786,     0.85886,     0.85986,     0.86086,     0.86186,     0.86286,     0.86386,\n",
       "           0.86486,     0.86587,     0.86687,     0.86787,     0.86887,     0.86987,     0.87087,     0.87187,     0.87287,     0.87387,     0.87487,     0.87588,     0.87688,     0.87788,     0.87888,     0.87988,     0.88088,     0.88188,     0.88288,     0.88388,     0.88488,     0.88589,     0.88689,     0.88789,\n",
       "           0.88889,     0.88989,     0.89089,     0.89189,     0.89289,     0.89389,     0.89489,      0.8959,      0.8969,      0.8979,      0.8989,      0.8999,      0.9009,      0.9019,      0.9029,      0.9039,      0.9049,     0.90591,     0.90691,     0.90791,     0.90891,     0.90991,     0.91091,     0.91191,\n",
       "           0.91291,     0.91391,     0.91491,     0.91592,     0.91692,     0.91792,     0.91892,     0.91992,     0.92092,     0.92192,     0.92292,     0.92392,     0.92492,     0.92593,     0.92693,     0.92793,     0.92893,     0.92993,     0.93093,     0.93193,     0.93293,     0.93393,     0.93493,     0.93594,\n",
       "           0.93694,     0.93794,     0.93894,     0.93994,     0.94094,     0.94194,     0.94294,     0.94394,     0.94494,     0.94595,     0.94695,     0.94795,     0.94895,     0.94995,     0.95095,     0.95195,     0.95295,     0.95395,     0.95495,     0.95596,     0.95696,     0.95796,     0.95896,     0.95996,\n",
       "           0.96096,     0.96196,     0.96296,     0.96396,     0.96496,     0.96597,     0.96697,     0.96797,     0.96897,     0.96997,     0.97097,     0.97197,     0.97297,     0.97397,     0.97497,     0.97598,     0.97698,     0.97798,     0.97898,     0.97998,     0.98098,     0.98198,     0.98298,     0.98398,\n",
       "           0.98498,     0.98599,     0.98699,     0.98799,     0.98899,     0.98999,     0.99099,     0.99199,     0.99299,     0.99399,     0.99499,       0.996,       0.997,       0.998,       0.999,           1]), array([[          1,           1,           1, ...,     0.63043,     0.63043,           0],\n",
       "       [          1,           1,           1, ...,     0.19531,     0.19531,           0]]), 'Recall', 'Precision'], [array([          0,    0.001001,    0.002002,    0.003003,    0.004004,    0.005005,    0.006006,    0.007007,    0.008008,    0.009009,     0.01001,    0.011011,    0.012012,    0.013013,    0.014014,    0.015015,    0.016016,    0.017017,    0.018018,    0.019019,     0.02002,    0.021021,    0.022022,    0.023023,\n",
       "          0.024024,    0.025025,    0.026026,    0.027027,    0.028028,    0.029029,     0.03003,    0.031031,    0.032032,    0.033033,    0.034034,    0.035035,    0.036036,    0.037037,    0.038038,    0.039039,     0.04004,    0.041041,    0.042042,    0.043043,    0.044044,    0.045045,    0.046046,    0.047047,\n",
       "          0.048048,    0.049049,     0.05005,    0.051051,    0.052052,    0.053053,    0.054054,    0.055055,    0.056056,    0.057057,    0.058058,    0.059059,     0.06006,    0.061061,    0.062062,    0.063063,    0.064064,    0.065065,    0.066066,    0.067067,    0.068068,    0.069069,     0.07007,    0.071071,\n",
       "          0.072072,    0.073073,    0.074074,    0.075075,    0.076076,    0.077077,    0.078078,    0.079079,     0.08008,    0.081081,    0.082082,    0.083083,    0.084084,    0.085085,    0.086086,    0.087087,    0.088088,    0.089089,     0.09009,    0.091091,    0.092092,    0.093093,    0.094094,    0.095095,\n",
       "          0.096096,    0.097097,    0.098098,    0.099099,      0.1001,      0.1011,      0.1021,      0.1031,      0.1041,     0.10511,     0.10611,     0.10711,     0.10811,     0.10911,     0.11011,     0.11111,     0.11211,     0.11311,     0.11411,     0.11512,     0.11612,     0.11712,     0.11812,     0.11912,\n",
       "           0.12012,     0.12112,     0.12212,     0.12312,     0.12412,     0.12513,     0.12613,     0.12713,     0.12813,     0.12913,     0.13013,     0.13113,     0.13213,     0.13313,     0.13413,     0.13514,     0.13614,     0.13714,     0.13814,     0.13914,     0.14014,     0.14114,     0.14214,     0.14314,\n",
       "           0.14414,     0.14515,     0.14615,     0.14715,     0.14815,     0.14915,     0.15015,     0.15115,     0.15215,     0.15315,     0.15415,     0.15516,     0.15616,     0.15716,     0.15816,     0.15916,     0.16016,     0.16116,     0.16216,     0.16316,     0.16416,     0.16517,     0.16617,     0.16717,\n",
       "           0.16817,     0.16917,     0.17017,     0.17117,     0.17217,     0.17317,     0.17417,     0.17518,     0.17618,     0.17718,     0.17818,     0.17918,     0.18018,     0.18118,     0.18218,     0.18318,     0.18418,     0.18519,     0.18619,     0.18719,     0.18819,     0.18919,     0.19019,     0.19119,\n",
       "           0.19219,     0.19319,     0.19419,      0.1952,      0.1962,      0.1972,      0.1982,      0.1992,      0.2002,      0.2012,      0.2022,      0.2032,      0.2042,     0.20521,     0.20621,     0.20721,     0.20821,     0.20921,     0.21021,     0.21121,     0.21221,     0.21321,     0.21421,     0.21522,\n",
       "           0.21622,     0.21722,     0.21822,     0.21922,     0.22022,     0.22122,     0.22222,     0.22322,     0.22422,     0.22523,     0.22623,     0.22723,     0.22823,     0.22923,     0.23023,     0.23123,     0.23223,     0.23323,     0.23423,     0.23524,     0.23624,     0.23724,     0.23824,     0.23924,\n",
       "           0.24024,     0.24124,     0.24224,     0.24324,     0.24424,     0.24525,     0.24625,     0.24725,     0.24825,     0.24925,     0.25025,     0.25125,     0.25225,     0.25325,     0.25425,     0.25526,     0.25626,     0.25726,     0.25826,     0.25926,     0.26026,     0.26126,     0.26226,     0.26326,\n",
       "           0.26426,     0.26527,     0.26627,     0.26727,     0.26827,     0.26927,     0.27027,     0.27127,     0.27227,     0.27327,     0.27427,     0.27528,     0.27628,     0.27728,     0.27828,     0.27928,     0.28028,     0.28128,     0.28228,     0.28328,     0.28428,     0.28529,     0.28629,     0.28729,\n",
       "           0.28829,     0.28929,     0.29029,     0.29129,     0.29229,     0.29329,     0.29429,      0.2953,      0.2963,      0.2973,      0.2983,      0.2993,      0.3003,      0.3013,      0.3023,      0.3033,      0.3043,     0.30531,     0.30631,     0.30731,     0.30831,     0.30931,     0.31031,     0.31131,\n",
       "           0.31231,     0.31331,     0.31431,     0.31532,     0.31632,     0.31732,     0.31832,     0.31932,     0.32032,     0.32132,     0.32232,     0.32332,     0.32432,     0.32533,     0.32633,     0.32733,     0.32833,     0.32933,     0.33033,     0.33133,     0.33233,     0.33333,     0.33433,     0.33534,\n",
       "           0.33634,     0.33734,     0.33834,     0.33934,     0.34034,     0.34134,     0.34234,     0.34334,     0.34434,     0.34535,     0.34635,     0.34735,     0.34835,     0.34935,     0.35035,     0.35135,     0.35235,     0.35335,     0.35435,     0.35536,     0.35636,     0.35736,     0.35836,     0.35936,\n",
       "           0.36036,     0.36136,     0.36236,     0.36336,     0.36436,     0.36537,     0.36637,     0.36737,     0.36837,     0.36937,     0.37037,     0.37137,     0.37237,     0.37337,     0.37437,     0.37538,     0.37638,     0.37738,     0.37838,     0.37938,     0.38038,     0.38138,     0.38238,     0.38338,\n",
       "           0.38438,     0.38539,     0.38639,     0.38739,     0.38839,     0.38939,     0.39039,     0.39139,     0.39239,     0.39339,     0.39439,      0.3954,      0.3964,      0.3974,      0.3984,      0.3994,      0.4004,      0.4014,      0.4024,      0.4034,      0.4044,     0.40541,     0.40641,     0.40741,\n",
       "           0.40841,     0.40941,     0.41041,     0.41141,     0.41241,     0.41341,     0.41441,     0.41542,     0.41642,     0.41742,     0.41842,     0.41942,     0.42042,     0.42142,     0.42242,     0.42342,     0.42442,     0.42543,     0.42643,     0.42743,     0.42843,     0.42943,     0.43043,     0.43143,\n",
       "           0.43243,     0.43343,     0.43443,     0.43544,     0.43644,     0.43744,     0.43844,     0.43944,     0.44044,     0.44144,     0.44244,     0.44344,     0.44444,     0.44545,     0.44645,     0.44745,     0.44845,     0.44945,     0.45045,     0.45145,     0.45245,     0.45345,     0.45445,     0.45546,\n",
       "           0.45646,     0.45746,     0.45846,     0.45946,     0.46046,     0.46146,     0.46246,     0.46346,     0.46446,     0.46547,     0.46647,     0.46747,     0.46847,     0.46947,     0.47047,     0.47147,     0.47247,     0.47347,     0.47447,     0.47548,     0.47648,     0.47748,     0.47848,     0.47948,\n",
       "           0.48048,     0.48148,     0.48248,     0.48348,     0.48448,     0.48549,     0.48649,     0.48749,     0.48849,     0.48949,     0.49049,     0.49149,     0.49249,     0.49349,     0.49449,      0.4955,      0.4965,      0.4975,      0.4985,      0.4995,      0.5005,      0.5015,      0.5025,      0.5035,\n",
       "            0.5045,     0.50551,     0.50651,     0.50751,     0.50851,     0.50951,     0.51051,     0.51151,     0.51251,     0.51351,     0.51451,     0.51552,     0.51652,     0.51752,     0.51852,     0.51952,     0.52052,     0.52152,     0.52252,     0.52352,     0.52452,     0.52553,     0.52653,     0.52753,\n",
       "           0.52853,     0.52953,     0.53053,     0.53153,     0.53253,     0.53353,     0.53453,     0.53554,     0.53654,     0.53754,     0.53854,     0.53954,     0.54054,     0.54154,     0.54254,     0.54354,     0.54454,     0.54555,     0.54655,     0.54755,     0.54855,     0.54955,     0.55055,     0.55155,\n",
       "           0.55255,     0.55355,     0.55455,     0.55556,     0.55656,     0.55756,     0.55856,     0.55956,     0.56056,     0.56156,     0.56256,     0.56356,     0.56456,     0.56557,     0.56657,     0.56757,     0.56857,     0.56957,     0.57057,     0.57157,     0.57257,     0.57357,     0.57457,     0.57558,\n",
       "           0.57658,     0.57758,     0.57858,     0.57958,     0.58058,     0.58158,     0.58258,     0.58358,     0.58458,     0.58559,     0.58659,     0.58759,     0.58859,     0.58959,     0.59059,     0.59159,     0.59259,     0.59359,     0.59459,      0.5956,      0.5966,      0.5976,      0.5986,      0.5996,\n",
       "            0.6006,      0.6016,      0.6026,      0.6036,      0.6046,     0.60561,     0.60661,     0.60761,     0.60861,     0.60961,     0.61061,     0.61161,     0.61261,     0.61361,     0.61461,     0.61562,     0.61662,     0.61762,     0.61862,     0.61962,     0.62062,     0.62162,     0.62262,     0.62362,\n",
       "           0.62462,     0.62563,     0.62663,     0.62763,     0.62863,     0.62963,     0.63063,     0.63163,     0.63263,     0.63363,     0.63463,     0.63564,     0.63664,     0.63764,     0.63864,     0.63964,     0.64064,     0.64164,     0.64264,     0.64364,     0.64464,     0.64565,     0.64665,     0.64765,\n",
       "           0.64865,     0.64965,     0.65065,     0.65165,     0.65265,     0.65365,     0.65465,     0.65566,     0.65666,     0.65766,     0.65866,     0.65966,     0.66066,     0.66166,     0.66266,     0.66366,     0.66466,     0.66567,     0.66667,     0.66767,     0.66867,     0.66967,     0.67067,     0.67167,\n",
       "           0.67267,     0.67367,     0.67467,     0.67568,     0.67668,     0.67768,     0.67868,     0.67968,     0.68068,     0.68168,     0.68268,     0.68368,     0.68468,     0.68569,     0.68669,     0.68769,     0.68869,     0.68969,     0.69069,     0.69169,     0.69269,     0.69369,     0.69469,      0.6957,\n",
       "            0.6967,      0.6977,      0.6987,      0.6997,      0.7007,      0.7017,      0.7027,      0.7037,      0.7047,     0.70571,     0.70671,     0.70771,     0.70871,     0.70971,     0.71071,     0.71171,     0.71271,     0.71371,     0.71471,     0.71572,     0.71672,     0.71772,     0.71872,     0.71972,\n",
       "           0.72072,     0.72172,     0.72272,     0.72372,     0.72472,     0.72573,     0.72673,     0.72773,     0.72873,     0.72973,     0.73073,     0.73173,     0.73273,     0.73373,     0.73473,     0.73574,     0.73674,     0.73774,     0.73874,     0.73974,     0.74074,     0.74174,     0.74274,     0.74374,\n",
       "           0.74474,     0.74575,     0.74675,     0.74775,     0.74875,     0.74975,     0.75075,     0.75175,     0.75275,     0.75375,     0.75475,     0.75576,     0.75676,     0.75776,     0.75876,     0.75976,     0.76076,     0.76176,     0.76276,     0.76376,     0.76476,     0.76577,     0.76677,     0.76777,\n",
       "           0.76877,     0.76977,     0.77077,     0.77177,     0.77277,     0.77377,     0.77477,     0.77578,     0.77678,     0.77778,     0.77878,     0.77978,     0.78078,     0.78178,     0.78278,     0.78378,     0.78478,     0.78579,     0.78679,     0.78779,     0.78879,     0.78979,     0.79079,     0.79179,\n",
       "           0.79279,     0.79379,     0.79479,      0.7958,      0.7968,      0.7978,      0.7988,      0.7998,      0.8008,      0.8018,      0.8028,      0.8038,      0.8048,     0.80581,     0.80681,     0.80781,     0.80881,     0.80981,     0.81081,     0.81181,     0.81281,     0.81381,     0.81481,     0.81582,\n",
       "           0.81682,     0.81782,     0.81882,     0.81982,     0.82082,     0.82182,     0.82282,     0.82382,     0.82482,     0.82583,     0.82683,     0.82783,     0.82883,     0.82983,     0.83083,     0.83183,     0.83283,     0.83383,     0.83483,     0.83584,     0.83684,     0.83784,     0.83884,     0.83984,\n",
       "           0.84084,     0.84184,     0.84284,     0.84384,     0.84484,     0.84585,     0.84685,     0.84785,     0.84885,     0.84985,     0.85085,     0.85185,     0.85285,     0.85385,     0.85485,     0.85586,     0.85686,     0.85786,     0.85886,     0.85986,     0.86086,     0.86186,     0.86286,     0.86386,\n",
       "           0.86486,     0.86587,     0.86687,     0.86787,     0.86887,     0.86987,     0.87087,     0.87187,     0.87287,     0.87387,     0.87487,     0.87588,     0.87688,     0.87788,     0.87888,     0.87988,     0.88088,     0.88188,     0.88288,     0.88388,     0.88488,     0.88589,     0.88689,     0.88789,\n",
       "           0.88889,     0.88989,     0.89089,     0.89189,     0.89289,     0.89389,     0.89489,      0.8959,      0.8969,      0.8979,      0.8989,      0.8999,      0.9009,      0.9019,      0.9029,      0.9039,      0.9049,     0.90591,     0.90691,     0.90791,     0.90891,     0.90991,     0.91091,     0.91191,\n",
       "           0.91291,     0.91391,     0.91491,     0.91592,     0.91692,     0.91792,     0.91892,     0.91992,     0.92092,     0.92192,     0.92292,     0.92392,     0.92492,     0.92593,     0.92693,     0.92793,     0.92893,     0.92993,     0.93093,     0.93193,     0.93293,     0.93393,     0.93493,     0.93594,\n",
       "           0.93694,     0.93794,     0.93894,     0.93994,     0.94094,     0.94194,     0.94294,     0.94394,     0.94494,     0.94595,     0.94695,     0.94795,     0.94895,     0.94995,     0.95095,     0.95195,     0.95295,     0.95395,     0.95495,     0.95596,     0.95696,     0.95796,     0.95896,     0.95996,\n",
       "           0.96096,     0.96196,     0.96296,     0.96396,     0.96496,     0.96597,     0.96697,     0.96797,     0.96897,     0.96997,     0.97097,     0.97197,     0.97297,     0.97397,     0.97497,     0.97598,     0.97698,     0.97798,     0.97898,     0.97998,     0.98098,     0.98198,     0.98298,     0.98398,\n",
       "           0.98498,     0.98599,     0.98699,     0.98799,     0.98899,     0.98999,     0.99099,     0.99199,     0.99299,     0.99399,     0.99499,       0.996,       0.997,       0.998,       0.999,           1]), array([[   0.077748,    0.077748,     0.15302, ...,           0,           0,           0],\n",
       "       [    0.07249,     0.07249,      0.1077, ...,           0,           0,           0]]), 'Confidence', 'F1'], [array([          0,    0.001001,    0.002002,    0.003003,    0.004004,    0.005005,    0.006006,    0.007007,    0.008008,    0.009009,     0.01001,    0.011011,    0.012012,    0.013013,    0.014014,    0.015015,    0.016016,    0.017017,    0.018018,    0.019019,     0.02002,    0.021021,    0.022022,    0.023023,\n",
       "          0.024024,    0.025025,    0.026026,    0.027027,    0.028028,    0.029029,     0.03003,    0.031031,    0.032032,    0.033033,    0.034034,    0.035035,    0.036036,    0.037037,    0.038038,    0.039039,     0.04004,    0.041041,    0.042042,    0.043043,    0.044044,    0.045045,    0.046046,    0.047047,\n",
       "          0.048048,    0.049049,     0.05005,    0.051051,    0.052052,    0.053053,    0.054054,    0.055055,    0.056056,    0.057057,    0.058058,    0.059059,     0.06006,    0.061061,    0.062062,    0.063063,    0.064064,    0.065065,    0.066066,    0.067067,    0.068068,    0.069069,     0.07007,    0.071071,\n",
       "          0.072072,    0.073073,    0.074074,    0.075075,    0.076076,    0.077077,    0.078078,    0.079079,     0.08008,    0.081081,    0.082082,    0.083083,    0.084084,    0.085085,    0.086086,    0.087087,    0.088088,    0.089089,     0.09009,    0.091091,    0.092092,    0.093093,    0.094094,    0.095095,\n",
       "          0.096096,    0.097097,    0.098098,    0.099099,      0.1001,      0.1011,      0.1021,      0.1031,      0.1041,     0.10511,     0.10611,     0.10711,     0.10811,     0.10911,     0.11011,     0.11111,     0.11211,     0.11311,     0.11411,     0.11512,     0.11612,     0.11712,     0.11812,     0.11912,\n",
       "           0.12012,     0.12112,     0.12212,     0.12312,     0.12412,     0.12513,     0.12613,     0.12713,     0.12813,     0.12913,     0.13013,     0.13113,     0.13213,     0.13313,     0.13413,     0.13514,     0.13614,     0.13714,     0.13814,     0.13914,     0.14014,     0.14114,     0.14214,     0.14314,\n",
       "           0.14414,     0.14515,     0.14615,     0.14715,     0.14815,     0.14915,     0.15015,     0.15115,     0.15215,     0.15315,     0.15415,     0.15516,     0.15616,     0.15716,     0.15816,     0.15916,     0.16016,     0.16116,     0.16216,     0.16316,     0.16416,     0.16517,     0.16617,     0.16717,\n",
       "           0.16817,     0.16917,     0.17017,     0.17117,     0.17217,     0.17317,     0.17417,     0.17518,     0.17618,     0.17718,     0.17818,     0.17918,     0.18018,     0.18118,     0.18218,     0.18318,     0.18418,     0.18519,     0.18619,     0.18719,     0.18819,     0.18919,     0.19019,     0.19119,\n",
       "           0.19219,     0.19319,     0.19419,      0.1952,      0.1962,      0.1972,      0.1982,      0.1992,      0.2002,      0.2012,      0.2022,      0.2032,      0.2042,     0.20521,     0.20621,     0.20721,     0.20821,     0.20921,     0.21021,     0.21121,     0.21221,     0.21321,     0.21421,     0.21522,\n",
       "           0.21622,     0.21722,     0.21822,     0.21922,     0.22022,     0.22122,     0.22222,     0.22322,     0.22422,     0.22523,     0.22623,     0.22723,     0.22823,     0.22923,     0.23023,     0.23123,     0.23223,     0.23323,     0.23423,     0.23524,     0.23624,     0.23724,     0.23824,     0.23924,\n",
       "           0.24024,     0.24124,     0.24224,     0.24324,     0.24424,     0.24525,     0.24625,     0.24725,     0.24825,     0.24925,     0.25025,     0.25125,     0.25225,     0.25325,     0.25425,     0.25526,     0.25626,     0.25726,     0.25826,     0.25926,     0.26026,     0.26126,     0.26226,     0.26326,\n",
       "           0.26426,     0.26527,     0.26627,     0.26727,     0.26827,     0.26927,     0.27027,     0.27127,     0.27227,     0.27327,     0.27427,     0.27528,     0.27628,     0.27728,     0.27828,     0.27928,     0.28028,     0.28128,     0.28228,     0.28328,     0.28428,     0.28529,     0.28629,     0.28729,\n",
       "           0.28829,     0.28929,     0.29029,     0.29129,     0.29229,     0.29329,     0.29429,      0.2953,      0.2963,      0.2973,      0.2983,      0.2993,      0.3003,      0.3013,      0.3023,      0.3033,      0.3043,     0.30531,     0.30631,     0.30731,     0.30831,     0.30931,     0.31031,     0.31131,\n",
       "           0.31231,     0.31331,     0.31431,     0.31532,     0.31632,     0.31732,     0.31832,     0.31932,     0.32032,     0.32132,     0.32232,     0.32332,     0.32432,     0.32533,     0.32633,     0.32733,     0.32833,     0.32933,     0.33033,     0.33133,     0.33233,     0.33333,     0.33433,     0.33534,\n",
       "           0.33634,     0.33734,     0.33834,     0.33934,     0.34034,     0.34134,     0.34234,     0.34334,     0.34434,     0.34535,     0.34635,     0.34735,     0.34835,     0.34935,     0.35035,     0.35135,     0.35235,     0.35335,     0.35435,     0.35536,     0.35636,     0.35736,     0.35836,     0.35936,\n",
       "           0.36036,     0.36136,     0.36236,     0.36336,     0.36436,     0.36537,     0.36637,     0.36737,     0.36837,     0.36937,     0.37037,     0.37137,     0.37237,     0.37337,     0.37437,     0.37538,     0.37638,     0.37738,     0.37838,     0.37938,     0.38038,     0.38138,     0.38238,     0.38338,\n",
       "           0.38438,     0.38539,     0.38639,     0.38739,     0.38839,     0.38939,     0.39039,     0.39139,     0.39239,     0.39339,     0.39439,      0.3954,      0.3964,      0.3974,      0.3984,      0.3994,      0.4004,      0.4014,      0.4024,      0.4034,      0.4044,     0.40541,     0.40641,     0.40741,\n",
       "           0.40841,     0.40941,     0.41041,     0.41141,     0.41241,     0.41341,     0.41441,     0.41542,     0.41642,     0.41742,     0.41842,     0.41942,     0.42042,     0.42142,     0.42242,     0.42342,     0.42442,     0.42543,     0.42643,     0.42743,     0.42843,     0.42943,     0.43043,     0.43143,\n",
       "           0.43243,     0.43343,     0.43443,     0.43544,     0.43644,     0.43744,     0.43844,     0.43944,     0.44044,     0.44144,     0.44244,     0.44344,     0.44444,     0.44545,     0.44645,     0.44745,     0.44845,     0.44945,     0.45045,     0.45145,     0.45245,     0.45345,     0.45445,     0.45546,\n",
       "           0.45646,     0.45746,     0.45846,     0.45946,     0.46046,     0.46146,     0.46246,     0.46346,     0.46446,     0.46547,     0.46647,     0.46747,     0.46847,     0.46947,     0.47047,     0.47147,     0.47247,     0.47347,     0.47447,     0.47548,     0.47648,     0.47748,     0.47848,     0.47948,\n",
       "           0.48048,     0.48148,     0.48248,     0.48348,     0.48448,     0.48549,     0.48649,     0.48749,     0.48849,     0.48949,     0.49049,     0.49149,     0.49249,     0.49349,     0.49449,      0.4955,      0.4965,      0.4975,      0.4985,      0.4995,      0.5005,      0.5015,      0.5025,      0.5035,\n",
       "            0.5045,     0.50551,     0.50651,     0.50751,     0.50851,     0.50951,     0.51051,     0.51151,     0.51251,     0.51351,     0.51451,     0.51552,     0.51652,     0.51752,     0.51852,     0.51952,     0.52052,     0.52152,     0.52252,     0.52352,     0.52452,     0.52553,     0.52653,     0.52753,\n",
       "           0.52853,     0.52953,     0.53053,     0.53153,     0.53253,     0.53353,     0.53453,     0.53554,     0.53654,     0.53754,     0.53854,     0.53954,     0.54054,     0.54154,     0.54254,     0.54354,     0.54454,     0.54555,     0.54655,     0.54755,     0.54855,     0.54955,     0.55055,     0.55155,\n",
       "           0.55255,     0.55355,     0.55455,     0.55556,     0.55656,     0.55756,     0.55856,     0.55956,     0.56056,     0.56156,     0.56256,     0.56356,     0.56456,     0.56557,     0.56657,     0.56757,     0.56857,     0.56957,     0.57057,     0.57157,     0.57257,     0.57357,     0.57457,     0.57558,\n",
       "           0.57658,     0.57758,     0.57858,     0.57958,     0.58058,     0.58158,     0.58258,     0.58358,     0.58458,     0.58559,     0.58659,     0.58759,     0.58859,     0.58959,     0.59059,     0.59159,     0.59259,     0.59359,     0.59459,      0.5956,      0.5966,      0.5976,      0.5986,      0.5996,\n",
       "            0.6006,      0.6016,      0.6026,      0.6036,      0.6046,     0.60561,     0.60661,     0.60761,     0.60861,     0.60961,     0.61061,     0.61161,     0.61261,     0.61361,     0.61461,     0.61562,     0.61662,     0.61762,     0.61862,     0.61962,     0.62062,     0.62162,     0.62262,     0.62362,\n",
       "           0.62462,     0.62563,     0.62663,     0.62763,     0.62863,     0.62963,     0.63063,     0.63163,     0.63263,     0.63363,     0.63463,     0.63564,     0.63664,     0.63764,     0.63864,     0.63964,     0.64064,     0.64164,     0.64264,     0.64364,     0.64464,     0.64565,     0.64665,     0.64765,\n",
       "           0.64865,     0.64965,     0.65065,     0.65165,     0.65265,     0.65365,     0.65465,     0.65566,     0.65666,     0.65766,     0.65866,     0.65966,     0.66066,     0.66166,     0.66266,     0.66366,     0.66466,     0.66567,     0.66667,     0.66767,     0.66867,     0.66967,     0.67067,     0.67167,\n",
       "           0.67267,     0.67367,     0.67467,     0.67568,     0.67668,     0.67768,     0.67868,     0.67968,     0.68068,     0.68168,     0.68268,     0.68368,     0.68468,     0.68569,     0.68669,     0.68769,     0.68869,     0.68969,     0.69069,     0.69169,     0.69269,     0.69369,     0.69469,      0.6957,\n",
       "            0.6967,      0.6977,      0.6987,      0.6997,      0.7007,      0.7017,      0.7027,      0.7037,      0.7047,     0.70571,     0.70671,     0.70771,     0.70871,     0.70971,     0.71071,     0.71171,     0.71271,     0.71371,     0.71471,     0.71572,     0.71672,     0.71772,     0.71872,     0.71972,\n",
       "           0.72072,     0.72172,     0.72272,     0.72372,     0.72472,     0.72573,     0.72673,     0.72773,     0.72873,     0.72973,     0.73073,     0.73173,     0.73273,     0.73373,     0.73473,     0.73574,     0.73674,     0.73774,     0.73874,     0.73974,     0.74074,     0.74174,     0.74274,     0.74374,\n",
       "           0.74474,     0.74575,     0.74675,     0.74775,     0.74875,     0.74975,     0.75075,     0.75175,     0.75275,     0.75375,     0.75475,     0.75576,     0.75676,     0.75776,     0.75876,     0.75976,     0.76076,     0.76176,     0.76276,     0.76376,     0.76476,     0.76577,     0.76677,     0.76777,\n",
       "           0.76877,     0.76977,     0.77077,     0.77177,     0.77277,     0.77377,     0.77477,     0.77578,     0.77678,     0.77778,     0.77878,     0.77978,     0.78078,     0.78178,     0.78278,     0.78378,     0.78478,     0.78579,     0.78679,     0.78779,     0.78879,     0.78979,     0.79079,     0.79179,\n",
       "           0.79279,     0.79379,     0.79479,      0.7958,      0.7968,      0.7978,      0.7988,      0.7998,      0.8008,      0.8018,      0.8028,      0.8038,      0.8048,     0.80581,     0.80681,     0.80781,     0.80881,     0.80981,     0.81081,     0.81181,     0.81281,     0.81381,     0.81481,     0.81582,\n",
       "           0.81682,     0.81782,     0.81882,     0.81982,     0.82082,     0.82182,     0.82282,     0.82382,     0.82482,     0.82583,     0.82683,     0.82783,     0.82883,     0.82983,     0.83083,     0.83183,     0.83283,     0.83383,     0.83483,     0.83584,     0.83684,     0.83784,     0.83884,     0.83984,\n",
       "           0.84084,     0.84184,     0.84284,     0.84384,     0.84484,     0.84585,     0.84685,     0.84785,     0.84885,     0.84985,     0.85085,     0.85185,     0.85285,     0.85385,     0.85485,     0.85586,     0.85686,     0.85786,     0.85886,     0.85986,     0.86086,     0.86186,     0.86286,     0.86386,\n",
       "           0.86486,     0.86587,     0.86687,     0.86787,     0.86887,     0.86987,     0.87087,     0.87187,     0.87287,     0.87387,     0.87487,     0.87588,     0.87688,     0.87788,     0.87888,     0.87988,     0.88088,     0.88188,     0.88288,     0.88388,     0.88488,     0.88589,     0.88689,     0.88789,\n",
       "           0.88889,     0.88989,     0.89089,     0.89189,     0.89289,     0.89389,     0.89489,      0.8959,      0.8969,      0.8979,      0.8989,      0.8999,      0.9009,      0.9019,      0.9029,      0.9039,      0.9049,     0.90591,     0.90691,     0.90791,     0.90891,     0.90991,     0.91091,     0.91191,\n",
       "           0.91291,     0.91391,     0.91491,     0.91592,     0.91692,     0.91792,     0.91892,     0.91992,     0.92092,     0.92192,     0.92292,     0.92392,     0.92492,     0.92593,     0.92693,     0.92793,     0.92893,     0.92993,     0.93093,     0.93193,     0.93293,     0.93393,     0.93493,     0.93594,\n",
       "           0.93694,     0.93794,     0.93894,     0.93994,     0.94094,     0.94194,     0.94294,     0.94394,     0.94494,     0.94595,     0.94695,     0.94795,     0.94895,     0.94995,     0.95095,     0.95195,     0.95295,     0.95395,     0.95495,     0.95596,     0.95696,     0.95796,     0.95896,     0.95996,\n",
       "           0.96096,     0.96196,     0.96296,     0.96396,     0.96496,     0.96597,     0.96697,     0.96797,     0.96897,     0.96997,     0.97097,     0.97197,     0.97297,     0.97397,     0.97497,     0.97598,     0.97698,     0.97798,     0.97898,     0.97998,     0.98098,     0.98198,     0.98298,     0.98398,\n",
       "           0.98498,     0.98599,     0.98699,     0.98799,     0.98899,     0.98999,     0.99099,     0.99199,     0.99299,     0.99399,     0.99499,       0.996,       0.997,       0.998,       0.999,           1]), array([[   0.040446,    0.040446,    0.082846, ...,           1,           1,           1],\n",
       "       [   0.037608,    0.037608,    0.056912, ...,           1,           1,           1]]), 'Confidence', 'Precision'], [array([          0,    0.001001,    0.002002,    0.003003,    0.004004,    0.005005,    0.006006,    0.007007,    0.008008,    0.009009,     0.01001,    0.011011,    0.012012,    0.013013,    0.014014,    0.015015,    0.016016,    0.017017,    0.018018,    0.019019,     0.02002,    0.021021,    0.022022,    0.023023,\n",
       "          0.024024,    0.025025,    0.026026,    0.027027,    0.028028,    0.029029,     0.03003,    0.031031,    0.032032,    0.033033,    0.034034,    0.035035,    0.036036,    0.037037,    0.038038,    0.039039,     0.04004,    0.041041,    0.042042,    0.043043,    0.044044,    0.045045,    0.046046,    0.047047,\n",
       "          0.048048,    0.049049,     0.05005,    0.051051,    0.052052,    0.053053,    0.054054,    0.055055,    0.056056,    0.057057,    0.058058,    0.059059,     0.06006,    0.061061,    0.062062,    0.063063,    0.064064,    0.065065,    0.066066,    0.067067,    0.068068,    0.069069,     0.07007,    0.071071,\n",
       "          0.072072,    0.073073,    0.074074,    0.075075,    0.076076,    0.077077,    0.078078,    0.079079,     0.08008,    0.081081,    0.082082,    0.083083,    0.084084,    0.085085,    0.086086,    0.087087,    0.088088,    0.089089,     0.09009,    0.091091,    0.092092,    0.093093,    0.094094,    0.095095,\n",
       "          0.096096,    0.097097,    0.098098,    0.099099,      0.1001,      0.1011,      0.1021,      0.1031,      0.1041,     0.10511,     0.10611,     0.10711,     0.10811,     0.10911,     0.11011,     0.11111,     0.11211,     0.11311,     0.11411,     0.11512,     0.11612,     0.11712,     0.11812,     0.11912,\n",
       "           0.12012,     0.12112,     0.12212,     0.12312,     0.12412,     0.12513,     0.12613,     0.12713,     0.12813,     0.12913,     0.13013,     0.13113,     0.13213,     0.13313,     0.13413,     0.13514,     0.13614,     0.13714,     0.13814,     0.13914,     0.14014,     0.14114,     0.14214,     0.14314,\n",
       "           0.14414,     0.14515,     0.14615,     0.14715,     0.14815,     0.14915,     0.15015,     0.15115,     0.15215,     0.15315,     0.15415,     0.15516,     0.15616,     0.15716,     0.15816,     0.15916,     0.16016,     0.16116,     0.16216,     0.16316,     0.16416,     0.16517,     0.16617,     0.16717,\n",
       "           0.16817,     0.16917,     0.17017,     0.17117,     0.17217,     0.17317,     0.17417,     0.17518,     0.17618,     0.17718,     0.17818,     0.17918,     0.18018,     0.18118,     0.18218,     0.18318,     0.18418,     0.18519,     0.18619,     0.18719,     0.18819,     0.18919,     0.19019,     0.19119,\n",
       "           0.19219,     0.19319,     0.19419,      0.1952,      0.1962,      0.1972,      0.1982,      0.1992,      0.2002,      0.2012,      0.2022,      0.2032,      0.2042,     0.20521,     0.20621,     0.20721,     0.20821,     0.20921,     0.21021,     0.21121,     0.21221,     0.21321,     0.21421,     0.21522,\n",
       "           0.21622,     0.21722,     0.21822,     0.21922,     0.22022,     0.22122,     0.22222,     0.22322,     0.22422,     0.22523,     0.22623,     0.22723,     0.22823,     0.22923,     0.23023,     0.23123,     0.23223,     0.23323,     0.23423,     0.23524,     0.23624,     0.23724,     0.23824,     0.23924,\n",
       "           0.24024,     0.24124,     0.24224,     0.24324,     0.24424,     0.24525,     0.24625,     0.24725,     0.24825,     0.24925,     0.25025,     0.25125,     0.25225,     0.25325,     0.25425,     0.25526,     0.25626,     0.25726,     0.25826,     0.25926,     0.26026,     0.26126,     0.26226,     0.26326,\n",
       "           0.26426,     0.26527,     0.26627,     0.26727,     0.26827,     0.26927,     0.27027,     0.27127,     0.27227,     0.27327,     0.27427,     0.27528,     0.27628,     0.27728,     0.27828,     0.27928,     0.28028,     0.28128,     0.28228,     0.28328,     0.28428,     0.28529,     0.28629,     0.28729,\n",
       "           0.28829,     0.28929,     0.29029,     0.29129,     0.29229,     0.29329,     0.29429,      0.2953,      0.2963,      0.2973,      0.2983,      0.2993,      0.3003,      0.3013,      0.3023,      0.3033,      0.3043,     0.30531,     0.30631,     0.30731,     0.30831,     0.30931,     0.31031,     0.31131,\n",
       "           0.31231,     0.31331,     0.31431,     0.31532,     0.31632,     0.31732,     0.31832,     0.31932,     0.32032,     0.32132,     0.32232,     0.32332,     0.32432,     0.32533,     0.32633,     0.32733,     0.32833,     0.32933,     0.33033,     0.33133,     0.33233,     0.33333,     0.33433,     0.33534,\n",
       "           0.33634,     0.33734,     0.33834,     0.33934,     0.34034,     0.34134,     0.34234,     0.34334,     0.34434,     0.34535,     0.34635,     0.34735,     0.34835,     0.34935,     0.35035,     0.35135,     0.35235,     0.35335,     0.35435,     0.35536,     0.35636,     0.35736,     0.35836,     0.35936,\n",
       "           0.36036,     0.36136,     0.36236,     0.36336,     0.36436,     0.36537,     0.36637,     0.36737,     0.36837,     0.36937,     0.37037,     0.37137,     0.37237,     0.37337,     0.37437,     0.37538,     0.37638,     0.37738,     0.37838,     0.37938,     0.38038,     0.38138,     0.38238,     0.38338,\n",
       "           0.38438,     0.38539,     0.38639,     0.38739,     0.38839,     0.38939,     0.39039,     0.39139,     0.39239,     0.39339,     0.39439,      0.3954,      0.3964,      0.3974,      0.3984,      0.3994,      0.4004,      0.4014,      0.4024,      0.4034,      0.4044,     0.40541,     0.40641,     0.40741,\n",
       "           0.40841,     0.40941,     0.41041,     0.41141,     0.41241,     0.41341,     0.41441,     0.41542,     0.41642,     0.41742,     0.41842,     0.41942,     0.42042,     0.42142,     0.42242,     0.42342,     0.42442,     0.42543,     0.42643,     0.42743,     0.42843,     0.42943,     0.43043,     0.43143,\n",
       "           0.43243,     0.43343,     0.43443,     0.43544,     0.43644,     0.43744,     0.43844,     0.43944,     0.44044,     0.44144,     0.44244,     0.44344,     0.44444,     0.44545,     0.44645,     0.44745,     0.44845,     0.44945,     0.45045,     0.45145,     0.45245,     0.45345,     0.45445,     0.45546,\n",
       "           0.45646,     0.45746,     0.45846,     0.45946,     0.46046,     0.46146,     0.46246,     0.46346,     0.46446,     0.46547,     0.46647,     0.46747,     0.46847,     0.46947,     0.47047,     0.47147,     0.47247,     0.47347,     0.47447,     0.47548,     0.47648,     0.47748,     0.47848,     0.47948,\n",
       "           0.48048,     0.48148,     0.48248,     0.48348,     0.48448,     0.48549,     0.48649,     0.48749,     0.48849,     0.48949,     0.49049,     0.49149,     0.49249,     0.49349,     0.49449,      0.4955,      0.4965,      0.4975,      0.4985,      0.4995,      0.5005,      0.5015,      0.5025,      0.5035,\n",
       "            0.5045,     0.50551,     0.50651,     0.50751,     0.50851,     0.50951,     0.51051,     0.51151,     0.51251,     0.51351,     0.51451,     0.51552,     0.51652,     0.51752,     0.51852,     0.51952,     0.52052,     0.52152,     0.52252,     0.52352,     0.52452,     0.52553,     0.52653,     0.52753,\n",
       "           0.52853,     0.52953,     0.53053,     0.53153,     0.53253,     0.53353,     0.53453,     0.53554,     0.53654,     0.53754,     0.53854,     0.53954,     0.54054,     0.54154,     0.54254,     0.54354,     0.54454,     0.54555,     0.54655,     0.54755,     0.54855,     0.54955,     0.55055,     0.55155,\n",
       "           0.55255,     0.55355,     0.55455,     0.55556,     0.55656,     0.55756,     0.55856,     0.55956,     0.56056,     0.56156,     0.56256,     0.56356,     0.56456,     0.56557,     0.56657,     0.56757,     0.56857,     0.56957,     0.57057,     0.57157,     0.57257,     0.57357,     0.57457,     0.57558,\n",
       "           0.57658,     0.57758,     0.57858,     0.57958,     0.58058,     0.58158,     0.58258,     0.58358,     0.58458,     0.58559,     0.58659,     0.58759,     0.58859,     0.58959,     0.59059,     0.59159,     0.59259,     0.59359,     0.59459,      0.5956,      0.5966,      0.5976,      0.5986,      0.5996,\n",
       "            0.6006,      0.6016,      0.6026,      0.6036,      0.6046,     0.60561,     0.60661,     0.60761,     0.60861,     0.60961,     0.61061,     0.61161,     0.61261,     0.61361,     0.61461,     0.61562,     0.61662,     0.61762,     0.61862,     0.61962,     0.62062,     0.62162,     0.62262,     0.62362,\n",
       "           0.62462,     0.62563,     0.62663,     0.62763,     0.62863,     0.62963,     0.63063,     0.63163,     0.63263,     0.63363,     0.63463,     0.63564,     0.63664,     0.63764,     0.63864,     0.63964,     0.64064,     0.64164,     0.64264,     0.64364,     0.64464,     0.64565,     0.64665,     0.64765,\n",
       "           0.64865,     0.64965,     0.65065,     0.65165,     0.65265,     0.65365,     0.65465,     0.65566,     0.65666,     0.65766,     0.65866,     0.65966,     0.66066,     0.66166,     0.66266,     0.66366,     0.66466,     0.66567,     0.66667,     0.66767,     0.66867,     0.66967,     0.67067,     0.67167,\n",
       "           0.67267,     0.67367,     0.67467,     0.67568,     0.67668,     0.67768,     0.67868,     0.67968,     0.68068,     0.68168,     0.68268,     0.68368,     0.68468,     0.68569,     0.68669,     0.68769,     0.68869,     0.68969,     0.69069,     0.69169,     0.69269,     0.69369,     0.69469,      0.6957,\n",
       "            0.6967,      0.6977,      0.6987,      0.6997,      0.7007,      0.7017,      0.7027,      0.7037,      0.7047,     0.70571,     0.70671,     0.70771,     0.70871,     0.70971,     0.71071,     0.71171,     0.71271,     0.71371,     0.71471,     0.71572,     0.71672,     0.71772,     0.71872,     0.71972,\n",
       "           0.72072,     0.72172,     0.72272,     0.72372,     0.72472,     0.72573,     0.72673,     0.72773,     0.72873,     0.72973,     0.73073,     0.73173,     0.73273,     0.73373,     0.73473,     0.73574,     0.73674,     0.73774,     0.73874,     0.73974,     0.74074,     0.74174,     0.74274,     0.74374,\n",
       "           0.74474,     0.74575,     0.74675,     0.74775,     0.74875,     0.74975,     0.75075,     0.75175,     0.75275,     0.75375,     0.75475,     0.75576,     0.75676,     0.75776,     0.75876,     0.75976,     0.76076,     0.76176,     0.76276,     0.76376,     0.76476,     0.76577,     0.76677,     0.76777,\n",
       "           0.76877,     0.76977,     0.77077,     0.77177,     0.77277,     0.77377,     0.77477,     0.77578,     0.77678,     0.77778,     0.77878,     0.77978,     0.78078,     0.78178,     0.78278,     0.78378,     0.78478,     0.78579,     0.78679,     0.78779,     0.78879,     0.78979,     0.79079,     0.79179,\n",
       "           0.79279,     0.79379,     0.79479,      0.7958,      0.7968,      0.7978,      0.7988,      0.7998,      0.8008,      0.8018,      0.8028,      0.8038,      0.8048,     0.80581,     0.80681,     0.80781,     0.80881,     0.80981,     0.81081,     0.81181,     0.81281,     0.81381,     0.81481,     0.81582,\n",
       "           0.81682,     0.81782,     0.81882,     0.81982,     0.82082,     0.82182,     0.82282,     0.82382,     0.82482,     0.82583,     0.82683,     0.82783,     0.82883,     0.82983,     0.83083,     0.83183,     0.83283,     0.83383,     0.83483,     0.83584,     0.83684,     0.83784,     0.83884,     0.83984,\n",
       "           0.84084,     0.84184,     0.84284,     0.84384,     0.84484,     0.84585,     0.84685,     0.84785,     0.84885,     0.84985,     0.85085,     0.85185,     0.85285,     0.85385,     0.85485,     0.85586,     0.85686,     0.85786,     0.85886,     0.85986,     0.86086,     0.86186,     0.86286,     0.86386,\n",
       "           0.86486,     0.86587,     0.86687,     0.86787,     0.86887,     0.86987,     0.87087,     0.87187,     0.87287,     0.87387,     0.87487,     0.87588,     0.87688,     0.87788,     0.87888,     0.87988,     0.88088,     0.88188,     0.88288,     0.88388,     0.88488,     0.88589,     0.88689,     0.88789,\n",
       "           0.88889,     0.88989,     0.89089,     0.89189,     0.89289,     0.89389,     0.89489,      0.8959,      0.8969,      0.8979,      0.8989,      0.8999,      0.9009,      0.9019,      0.9029,      0.9039,      0.9049,     0.90591,     0.90691,     0.90791,     0.90891,     0.90991,     0.91091,     0.91191,\n",
       "           0.91291,     0.91391,     0.91491,     0.91592,     0.91692,     0.91792,     0.91892,     0.91992,     0.92092,     0.92192,     0.92292,     0.92392,     0.92492,     0.92593,     0.92693,     0.92793,     0.92893,     0.92993,     0.93093,     0.93193,     0.93293,     0.93393,     0.93493,     0.93594,\n",
       "           0.93694,     0.93794,     0.93894,     0.93994,     0.94094,     0.94194,     0.94294,     0.94394,     0.94494,     0.94595,     0.94695,     0.94795,     0.94895,     0.94995,     0.95095,     0.95195,     0.95295,     0.95395,     0.95495,     0.95596,     0.95696,     0.95796,     0.95896,     0.95996,\n",
       "           0.96096,     0.96196,     0.96296,     0.96396,     0.96496,     0.96597,     0.96697,     0.96797,     0.96897,     0.96997,     0.97097,     0.97197,     0.97297,     0.97397,     0.97497,     0.97598,     0.97698,     0.97798,     0.97898,     0.97998,     0.98098,     0.98198,     0.98298,     0.98398,\n",
       "           0.98498,     0.98599,     0.98699,     0.98799,     0.98899,     0.98999,     0.99099,     0.99199,     0.99299,     0.99399,     0.99499,       0.996,       0.997,       0.998,       0.999,           1]), array([[          1,           1,           1, ...,           0,           0,           0],\n",
       "       [          1,           1,           1, ...,           0,           0,           0]]), 'Confidence', 'Recall']]\n",
       "fitness: 0.6981209823519262\n",
       "keys: ['metrics/precision(B)', 'metrics/recall(B)', 'metrics/mAP50(B)', 'metrics/mAP50-95(B)']\n",
       "maps: array([    0.66846,     0.67394])\n",
       "names: {0: 'fall', 1: 'fight'}\n",
       "plot: True\n",
       "results_dict: {'metrics/precision(B)': 0.9428218243605313, 'metrics/recall(B)': 0.9090820950566609, 'metrics/mAP50(B)': 0.9404218170905418, 'metrics/mAP50-95(B)': 0.6711986673809689, 'fitness': 0.6981209823519262}\n",
       "save_dir: PosixPath('runs/detect/train')\n",
       "speed: {'preprocess': 0.1918205848106971, 'inference': 6.0418459085317755, 'loss': 0.00035762786865234375, 'postprocess': 8.338583432711088}\n",
       "task: 'detect'"
      ]
     },
     "execution_count": 15,
     "metadata": {},
     "output_type": "execute_result"
    }
   ],
   "source": [
    "model.train(data = \"/content/Airport-CCTV-Detection-1/data.yaml\", epochs = 10, batch = 24)"
   ]
  },
  {
   "cell_type": "markdown",
   "metadata": {
    "id": "K_3BzBsc9Uek"
   },
   "source": [
    "## confusion matrix 확인"
   ]
  },
  {
   "cell_type": "code",
   "execution_count": 16,
   "metadata": {
    "executionInfo": {
     "elapsed": 19,
     "status": "ok",
     "timestamp": 1703577097516,
     "user": {
      "displayName": "ccc flkwerkdai",
      "userId": "13507850890638580947"
     },
     "user_tz": -540
    },
    "id": "u3mzc4DI9sCL"
   },
   "outputs": [],
   "source": [
    "import matplotlib.pyplot as plt\n",
    "import cv2"
   ]
  },
  {
   "cell_type": "code",
   "execution_count": 17,
   "metadata": {
    "executionInfo": {
     "elapsed": 10,
     "status": "ok",
     "timestamp": 1703577097516,
     "user": {
      "displayName": "ccc flkwerkdai",
      "userId": "13507850890638580947"
     },
     "user_tz": -540
    },
    "id": "LIsXXgOR-MQs"
   },
   "outputs": [],
   "source": [
    "img = cv2.imread(\"/content/runs/detect/train/confusion_matrix.png\")\n",
    "img = cv2.cvtColor(img, cv2.COLOR_BGR2RGB)"
   ]
  },
  {
   "cell_type": "code",
   "execution_count": 18,
   "metadata": {
    "colab": {
     "base_uri": "https://localhost:8080/",
     "height": 926
    },
    "executionInfo": {
     "elapsed": 1421,
     "status": "ok",
     "timestamp": 1703577098928,
     "user": {
      "displayName": "ccc flkwerkdai",
      "userId": "13507850890638580947"
     },
     "user_tz": -540
    },
    "id": "bWRcGkTj9mkW",
    "outputId": "979970c1-35d9-4d51-8a81-906c97fa187c"
   },
   "outputs": [
    {
     "data": {
      "text/plain": [
       "<matplotlib.image.AxesImage at 0x7a1036c624a0>"
      ]
     },
     "execution_count": 18,
     "metadata": {},
     "output_type": "execute_result"
    },
    {
     "data": {
      "image/png": "[encoded data removed]",
      "text/plain": [
       "<Figure size 1500x1500 with 1 Axes>"
      ]
     },
     "metadata": {},
     "output_type": "display_data"
    }
   ],
   "source": [
    "plt.figure(figsize = (15, 15))\n",
    "plt.axis('off')\n",
    "plt.imshow(img)"
   ]
  },
  {
   "cell_type": "markdown",
   "metadata": {
    "id": "dsixwFMWCBVM"
   },
   "source": [
    "# 실제 데이터를 가지고 test"
   ]
  },
  {
   "cell_type": "code",
   "execution_count": 19,
   "metadata": {
    "executionInfo": {
     "elapsed": 399,
     "status": "ok",
     "timestamp": 1703577199040,
     "user": {
      "displayName": "ccc flkwerkdai",
      "userId": "13507850890638580947"
     },
     "user_tz": -540
    },
    "id": "aWa0Cey0CESL"
   },
   "outputs": [],
   "source": [
    "TEST_VIDEO_PATH = \"/content/drive/MyDrive/Colab Notebooks/big project/test(20231226)/폭행/완료_0909_F_폭행_CAM6_10_masking.mp4\""
   ]
  },
  {
   "cell_type": "code",
   "execution_count": 23,
   "metadata": {
    "colab": {
     "base_uri": "https://localhost:8080/"
    },
    "executionInfo": {
     "elapsed": 18470,
     "status": "ok",
     "timestamp": 1703577844035,
     "user": {
      "displayName": "ccc flkwerkdai",
      "userId": "13507850890638580947"
     },
     "user_tz": -540
    },
    "id": "RlHYgqZDCK3q",
    "outputId": "9a9d97b6-367b-434c-a589-ea7d6bec54d8"
   },
   "outputs": [
    {
     "name": "stdout",
     "output_type": "stream",
     "text": [
      "\n",
      "\n",
      "WARNING ⚠️ inference results will accumulate in RAM unless `stream=True` is passed, causing potential out-of-memory\n",
      "errors for large sources or long-running streams and videos. See https://docs.ultralytics.com/modes/predict/ for help.\n",
      "\n",
      "Example:\n",
      "    results = model(source=..., stream=True)  # generator of Results objects\n",
      "    for r in results:\n",
      "        boxes = r.boxes  # Boxes object for bbox outputs\n",
      "        masks = r.masks  # Masks object for segment masks outputs\n",
      "        probs = r.probs  # Class probabilities for classification outputs\n",
      "\n",
      "video 1/1 (1/343) /content/drive/MyDrive/Colab Notebooks/big project/test(20231226)/폭행/완료_0909_F_폭행_CAM6_10_masking.mp4: 192x320 1 fight, 68.4ms\n",
      "video 1/1 (2/343) /content/drive/MyDrive/Colab Notebooks/big project/test(20231226)/폭행/완료_0909_F_폭행_CAM6_10_masking.mp4: 192x320 2 fights, 9.8ms\n",
      "video 1/1 (3/343) /content/drive/MyDrive/Colab Notebooks/big project/test(20231226)/폭행/완료_0909_F_폭행_CAM6_10_masking.mp4: 192x320 1 fight, 10.5ms\n",
      "video 1/1 (4/343) /content/drive/MyDrive/Colab Notebooks/big project/test(20231226)/폭행/완료_0909_F_폭행_CAM6_10_masking.mp4: 192x320 2 fights, 9.8ms\n",
      "video 1/1 (5/343) /content/drive/MyDrive/Colab Notebooks/big project/test(20231226)/폭행/완료_0909_F_폭행_CAM6_10_masking.mp4: 192x320 2 fights, 9.3ms\n",
      "video 1/1 (6/343) /content/drive/MyDrive/Colab Notebooks/big project/test(20231226)/폭행/완료_0909_F_폭행_CAM6_10_masking.mp4: 192x320 2 fights, 9.7ms\n",
      "video 1/1 (7/343) /content/drive/MyDrive/Colab Notebooks/big project/test(20231226)/폭행/완료_0909_F_폭행_CAM6_10_masking.mp4: 192x320 2 fights, 12.3ms\n",
      "video 1/1 (8/343) /content/drive/MyDrive/Colab Notebooks/big project/test(20231226)/폭행/완료_0909_F_폭행_CAM6_10_masking.mp4: 192x320 2 fights, 15.2ms\n",
      "video 1/1 (9/343) /content/drive/MyDrive/Colab Notebooks/big project/test(20231226)/폭행/완료_0909_F_폭행_CAM6_10_masking.mp4: 192x320 1 fight, 9.8ms\n",
      "video 1/1 (10/343) /content/drive/MyDrive/Colab Notebooks/big project/test(20231226)/폭행/완료_0909_F_폭행_CAM6_10_masking.mp4: 192x320 1 fight, 16.6ms\n",
      "video 1/1 (11/343) /content/drive/MyDrive/Colab Notebooks/big project/test(20231226)/폭행/완료_0909_F_폭행_CAM6_10_masking.mp4: 192x320 1 fight, 19.2ms\n",
      "video 1/1 (12/343) /content/drive/MyDrive/Colab Notebooks/big project/test(20231226)/폭행/완료_0909_F_폭행_CAM6_10_masking.mp4: 192x320 2 fights, 14.5ms\n",
      "video 1/1 (13/343) /content/drive/MyDrive/Colab Notebooks/big project/test(20231226)/폭행/완료_0909_F_폭행_CAM6_10_masking.mp4: 192x320 1 fight, 11.5ms\n",
      "video 1/1 (14/343) /content/drive/MyDrive/Colab Notebooks/big project/test(20231226)/폭행/완료_0909_F_폭행_CAM6_10_masking.mp4: 192x320 2 fights, 11.4ms\n",
      "video 1/1 (15/343) /content/drive/MyDrive/Colab Notebooks/big project/test(20231226)/폭행/완료_0909_F_폭행_CAM6_10_masking.mp4: 192x320 2 fights, 10.6ms\n",
      "video 1/1 (16/343) /content/drive/MyDrive/Colab Notebooks/big project/test(20231226)/폭행/완료_0909_F_폭행_CAM6_10_masking.mp4: 192x320 3 fights, 9.9ms\n",
      "video 1/1 (17/343) /content/drive/MyDrive/Colab Notebooks/big project/test(20231226)/폭행/완료_0909_F_폭행_CAM6_10_masking.mp4: 192x320 4 fights, 20.5ms\n",
      "video 1/1 (18/343) /content/drive/MyDrive/Colab Notebooks/big project/test(20231226)/폭행/완료_0909_F_폭행_CAM6_10_masking.mp4: 192x320 5 fights, 10.4ms\n",
      "video 1/1 (19/343) /content/drive/MyDrive/Colab Notebooks/big project/test(20231226)/폭행/완료_0909_F_폭행_CAM6_10_masking.mp4: 192x320 3 fights, 11.9ms\n",
      "video 1/1 (20/343) /content/drive/MyDrive/Colab Notebooks/big project/test(20231226)/폭행/완료_0909_F_폭행_CAM6_10_masking.mp4: 192x320 5 fights, 12.0ms\n",
      "video 1/1 (21/343) /content/drive/MyDrive/Colab Notebooks/big project/test(20231226)/폭행/완료_0909_F_폭행_CAM6_10_masking.mp4: 192x320 5 fights, 16.2ms\n",
      "video 1/1 (22/343) /content/drive/MyDrive/Colab Notebooks/big project/test(20231226)/폭행/완료_0909_F_폭행_CAM6_10_masking.mp4: 192x320 2 fights, 13.1ms\n",
      "video 1/1 (23/343) /content/drive/MyDrive/Colab Notebooks/big project/test(20231226)/폭행/완료_0909_F_폭행_CAM6_10_masking.mp4: 192x320 1 fight, 10.8ms\n",
      "video 1/1 (24/343) /content/drive/MyDrive/Colab Notebooks/big project/test(20231226)/폭행/완료_0909_F_폭행_CAM6_10_masking.mp4: 192x320 2 fights, 9.4ms\n",
      "video 1/1 (25/343) /content/drive/MyDrive/Colab Notebooks/big project/test(20231226)/폭행/완료_0909_F_폭행_CAM6_10_masking.mp4: 192x320 2 fights, 11.4ms\n",
      "video 1/1 (26/343) /content/drive/MyDrive/Colab Notebooks/big project/test(20231226)/폭행/완료_0909_F_폭행_CAM6_10_masking.mp4: 192x320 4 fights, 10.0ms\n",
      "video 1/1 (27/343) /content/drive/MyDrive/Colab Notebooks/big project/test(20231226)/폭행/완료_0909_F_폭행_CAM6_10_masking.mp4: 192x320 1 fight, 10.0ms\n",
      "video 1/1 (28/343) /content/drive/MyDrive/Colab Notebooks/big project/test(20231226)/폭행/완료_0909_F_폭행_CAM6_10_masking.mp4: 192x320 1 fight, 10.5ms\n",
      "video 1/1 (29/343) /content/drive/MyDrive/Colab Notebooks/big project/test(20231226)/폭행/완료_0909_F_폭행_CAM6_10_masking.mp4: 192x320 1 fight, 10.7ms\n",
      "video 1/1 (30/343) /content/drive/MyDrive/Colab Notebooks/big project/test(20231226)/폭행/완료_0909_F_폭행_CAM6_10_masking.mp4: 192x320 1 fight, 9.4ms\n",
      "video 1/1 (31/343) /content/drive/MyDrive/Colab Notebooks/big project/test(20231226)/폭행/완료_0909_F_폭행_CAM6_10_masking.mp4: 192x320 1 fight, 9.7ms\n",
      "video 1/1 (32/343) /content/drive/MyDrive/Colab Notebooks/big project/test(20231226)/폭행/완료_0909_F_폭행_CAM6_10_masking.mp4: 192x320 1 fight, 9.5ms\n",
      "video 1/1 (33/343) /content/drive/MyDrive/Colab Notebooks/big project/test(20231226)/폭행/완료_0909_F_폭행_CAM6_10_masking.mp4: 192x320 1 fight, 10.0ms\n",
      "video 1/1 (34/343) /content/drive/MyDrive/Colab Notebooks/big project/test(20231226)/폭행/완료_0909_F_폭행_CAM6_10_masking.mp4: 192x320 1 fight, 9.3ms\n",
      "video 1/1 (35/343) /content/drive/MyDrive/Colab Notebooks/big project/test(20231226)/폭행/완료_0909_F_폭행_CAM6_10_masking.mp4: 192x320 1 fight, 9.2ms\n",
      "video 1/1 (36/343) /content/drive/MyDrive/Colab Notebooks/big project/test(20231226)/폭행/완료_0909_F_폭행_CAM6_10_masking.mp4: 192x320 1 fight, 10.2ms\n",
      "video 1/1 (37/343) /content/drive/MyDrive/Colab Notebooks/big project/test(20231226)/폭행/완료_0909_F_폭행_CAM6_10_masking.mp4: 192x320 1 fight, 9.6ms\n",
      "video 1/1 (38/343) /content/drive/MyDrive/Colab Notebooks/big project/test(20231226)/폭행/완료_0909_F_폭행_CAM6_10_masking.mp4: 192x320 1 fight, 9.5ms\n",
      "video 1/1 (39/343) /content/drive/MyDrive/Colab Notebooks/big project/test(20231226)/폭행/완료_0909_F_폭행_CAM6_10_masking.mp4: 192x320 1 fight, 9.2ms\n",
      "video 1/1 (40/343) /content/drive/MyDrive/Colab Notebooks/big project/test(20231226)/폭행/완료_0909_F_폭행_CAM6_10_masking.mp4: 192x320 1 fall, 1 fight, 9.1ms\n",
      "video 1/1 (41/343) /content/drive/MyDrive/Colab Notebooks/big project/test(20231226)/폭행/완료_0909_F_폭행_CAM6_10_masking.mp4: 192x320 1 fight, 9.5ms\n",
      "video 1/1 (42/343) /content/drive/MyDrive/Colab Notebooks/big project/test(20231226)/폭행/완료_0909_F_폭행_CAM6_10_masking.mp4: 192x320 1 fall, 1 fight, 9.6ms\n",
      "video 1/1 (43/343) /content/drive/MyDrive/Colab Notebooks/big project/test(20231226)/폭행/완료_0909_F_폭행_CAM6_10_masking.mp4: 192x320 1 fall, 1 fight, 10.4ms\n",
      "video 1/1 (44/343) /content/drive/MyDrive/Colab Notebooks/big project/test(20231226)/폭행/완료_0909_F_폭행_CAM6_10_masking.mp4: 192x320 1 fight, 9.7ms\n",
      "video 1/1 (45/343) /content/drive/MyDrive/Colab Notebooks/big project/test(20231226)/폭행/완료_0909_F_폭행_CAM6_10_masking.mp4: 192x320 1 fight, 10.3ms\n",
      "video 1/1 (46/343) /content/drive/MyDrive/Colab Notebooks/big project/test(20231226)/폭행/완료_0909_F_폭행_CAM6_10_masking.mp4: 192x320 1 fight, 9.5ms\n",
      "video 1/1 (47/343) /content/drive/MyDrive/Colab Notebooks/big project/test(20231226)/폭행/완료_0909_F_폭행_CAM6_10_masking.mp4: 192x320 1 fight, 10.1ms\n",
      "video 1/1 (48/343) /content/drive/MyDrive/Colab Notebooks/big project/test(20231226)/폭행/완료_0909_F_폭행_CAM6_10_masking.mp4: 192x320 1 fight, 10.2ms\n",
      "video 1/1 (49/343) /content/drive/MyDrive/Colab Notebooks/big project/test(20231226)/폭행/완료_0909_F_폭행_CAM6_10_masking.mp4: 192x320 1 fight, 11.9ms\n",
      "video 1/1 (50/343) /content/drive/MyDrive/Colab Notebooks/big project/test(20231226)/폭행/완료_0909_F_폭행_CAM6_10_masking.mp4: 192x320 1 fight, 9.7ms\n",
      "video 1/1 (51/343) /content/drive/MyDrive/Colab Notebooks/big project/test(20231226)/폭행/완료_0909_F_폭행_CAM6_10_masking.mp4: 192x320 1 fight, 9.2ms\n",
      "video 1/1 (52/343) /content/drive/MyDrive/Colab Notebooks/big project/test(20231226)/폭행/완료_0909_F_폭행_CAM6_10_masking.mp4: 192x320 1 fight, 10.4ms\n",
      "video 1/1 (53/343) /content/drive/MyDrive/Colab Notebooks/big project/test(20231226)/폭행/완료_0909_F_폭행_CAM6_10_masking.mp4: 192x320 1 fight, 10.1ms\n",
      "video 1/1 (54/343) /content/drive/MyDrive/Colab Notebooks/big project/test(20231226)/폭행/완료_0909_F_폭행_CAM6_10_masking.mp4: 192x320 1 fall, 1 fight, 10.4ms\n",
      "video 1/1 (55/343) /content/drive/MyDrive/Colab Notebooks/big project/test(20231226)/폭행/완료_0909_F_폭행_CAM6_10_masking.mp4: 192x320 1 fall, 1 fight, 9.8ms\n",
      "video 1/1 (56/343) /content/drive/MyDrive/Colab Notebooks/big project/test(20231226)/폭행/완료_0909_F_폭행_CAM6_10_masking.mp4: 192x320 1 fall, 1 fight, 10.1ms\n",
      "video 1/1 (57/343) /content/drive/MyDrive/Colab Notebooks/big project/test(20231226)/폭행/완료_0909_F_폭행_CAM6_10_masking.mp4: 192x320 1 fall, 1 fight, 11.5ms\n",
      "video 1/1 (58/343) /content/drive/MyDrive/Colab Notebooks/big project/test(20231226)/폭행/완료_0909_F_폭행_CAM6_10_masking.mp4: 192x320 1 fall, 1 fight, 9.4ms\n",
      "video 1/1 (59/343) /content/drive/MyDrive/Colab Notebooks/big project/test(20231226)/폭행/완료_0909_F_폭행_CAM6_10_masking.mp4: 192x320 1 fall, 9.2ms\n",
      "video 1/1 (60/343) /content/drive/MyDrive/Colab Notebooks/big project/test(20231226)/폭행/완료_0909_F_폭행_CAM6_10_masking.mp4: 192x320 1 fall, 1 fight, 9.4ms\n",
      "video 1/1 (61/343) /content/drive/MyDrive/Colab Notebooks/big project/test(20231226)/폭행/완료_0909_F_폭행_CAM6_10_masking.mp4: 192x320 1 fall, 1 fight, 9.5ms\n",
      "video 1/1 (62/343) /content/drive/MyDrive/Colab Notebooks/big project/test(20231226)/폭행/완료_0909_F_폭행_CAM6_10_masking.mp4: 192x320 1 fall, 1 fight, 9.5ms\n",
      "video 1/1 (63/343) /content/drive/MyDrive/Colab Notebooks/big project/test(20231226)/폭행/완료_0909_F_폭행_CAM6_10_masking.mp4: 192x320 1 fight, 9.8ms\n",
      "video 1/1 (64/343) /content/drive/MyDrive/Colab Notebooks/big project/test(20231226)/폭행/완료_0909_F_폭행_CAM6_10_masking.mp4: 192x320 1 fight, 9.5ms\n",
      "video 1/1 (65/343) /content/drive/MyDrive/Colab Notebooks/big project/test(20231226)/폭행/완료_0909_F_폭행_CAM6_10_masking.mp4: 192x320 1 fight, 9.5ms\n",
      "video 1/1 (66/343) /content/drive/MyDrive/Colab Notebooks/big project/test(20231226)/폭행/완료_0909_F_폭행_CAM6_10_masking.mp4: 192x320 1 fight, 9.5ms\n",
      "video 1/1 (67/343) /content/drive/MyDrive/Colab Notebooks/big project/test(20231226)/폭행/완료_0909_F_폭행_CAM6_10_masking.mp4: 192x320 1 fall, 1 fight, 9.4ms\n",
      "video 1/1 (68/343) /content/drive/MyDrive/Colab Notebooks/big project/test(20231226)/폭행/완료_0909_F_폭행_CAM6_10_masking.mp4: 192x320 1 fall, 1 fight, 9.9ms\n",
      "video 1/1 (69/343) /content/drive/MyDrive/Colab Notebooks/big project/test(20231226)/폭행/완료_0909_F_폭행_CAM6_10_masking.mp4: 192x320 1 fall, 2 fights, 9.6ms\n",
      "video 1/1 (70/343) /content/drive/MyDrive/Colab Notebooks/big project/test(20231226)/폭행/완료_0909_F_폭행_CAM6_10_masking.mp4: 192x320 1 fall, 2 fights, 10.4ms\n",
      "video 1/1 (71/343) /content/drive/MyDrive/Colab Notebooks/big project/test(20231226)/폭행/완료_0909_F_폭행_CAM6_10_masking.mp4: 192x320 1 fall, 2 fights, 10.1ms\n",
      "video 1/1 (72/343) /content/drive/MyDrive/Colab Notebooks/big project/test(20231226)/폭행/완료_0909_F_폭행_CAM6_10_masking.mp4: 192x320 1 fall, 2 fights, 10.1ms\n",
      "video 1/1 (73/343) /content/drive/MyDrive/Colab Notebooks/big project/test(20231226)/폭행/완료_0909_F_폭행_CAM6_10_masking.mp4: 192x320 1 fall, 2 fights, 9.7ms\n",
      "video 1/1 (74/343) /content/drive/MyDrive/Colab Notebooks/big project/test(20231226)/폭행/완료_0909_F_폭행_CAM6_10_masking.mp4: 192x320 1 fall, 2 fights, 11.0ms\n",
      "video 1/1 (75/343) /content/drive/MyDrive/Colab Notebooks/big project/test(20231226)/폭행/완료_0909_F_폭행_CAM6_10_masking.mp4: 192x320 1 fall, 1 fight, 10.2ms\n",
      "video 1/1 (76/343) /content/drive/MyDrive/Colab Notebooks/big project/test(20231226)/폭행/완료_0909_F_폭행_CAM6_10_masking.mp4: 192x320 1 fall, 1 fight, 10.2ms\n",
      "video 1/1 (77/343) /content/drive/MyDrive/Colab Notebooks/big project/test(20231226)/폭행/완료_0909_F_폭행_CAM6_10_masking.mp4: 192x320 1 fall, 2 fights, 10.5ms\n",
      "video 1/1 (78/343) /content/drive/MyDrive/Colab Notebooks/big project/test(20231226)/폭행/완료_0909_F_폭행_CAM6_10_masking.mp4: 192x320 2 fights, 10.2ms\n",
      "video 1/1 (79/343) /content/drive/MyDrive/Colab Notebooks/big project/test(20231226)/폭행/완료_0909_F_폭행_CAM6_10_masking.mp4: 192x320 1 fight, 10.2ms\n",
      "video 1/1 (80/343) /content/drive/MyDrive/Colab Notebooks/big project/test(20231226)/폭행/완료_0909_F_폭행_CAM6_10_masking.mp4: 192x320 1 fight, 10.3ms\n",
      "video 1/1 (81/343) /content/drive/MyDrive/Colab Notebooks/big project/test(20231226)/폭행/완료_0909_F_폭행_CAM6_10_masking.mp4: 192x320 1 fall, 1 fight, 12.8ms\n",
      "video 1/1 (82/343) /content/drive/MyDrive/Colab Notebooks/big project/test(20231226)/폭행/완료_0909_F_폭행_CAM6_10_masking.mp4: 192x320 1 fall, 1 fight, 9.4ms\n",
      "video 1/1 (83/343) /content/drive/MyDrive/Colab Notebooks/big project/test(20231226)/폭행/완료_0909_F_폭행_CAM6_10_masking.mp4: 192x320 1 fall, 1 fight, 14.2ms\n",
      "video 1/1 (84/343) /content/drive/MyDrive/Colab Notebooks/big project/test(20231226)/폭행/완료_0909_F_폭행_CAM6_10_masking.mp4: 192x320 1 fall, 1 fight, 9.2ms\n",
      "video 1/1 (85/343) /content/drive/MyDrive/Colab Notebooks/big project/test(20231226)/폭행/완료_0909_F_폭행_CAM6_10_masking.mp4: 192x320 1 fall, 1 fight, 9.9ms\n",
      "video 1/1 (86/343) /content/drive/MyDrive/Colab Notebooks/big project/test(20231226)/폭행/완료_0909_F_폭행_CAM6_10_masking.mp4: 192x320 1 fall, 1 fight, 10.5ms\n",
      "video 1/1 (87/343) /content/drive/MyDrive/Colab Notebooks/big project/test(20231226)/폭행/완료_0909_F_폭행_CAM6_10_masking.mp4: 192x320 1 fall, 1 fight, 10.7ms\n",
      "video 1/1 (88/343) /content/drive/MyDrive/Colab Notebooks/big project/test(20231226)/폭행/완료_0909_F_폭행_CAM6_10_masking.mp4: 192x320 1 fall, 1 fight, 10.4ms\n",
      "video 1/1 (89/343) /content/drive/MyDrive/Colab Notebooks/big project/test(20231226)/폭행/완료_0909_F_폭행_CAM6_10_masking.mp4: 192x320 1 fall, 1 fight, 10.2ms\n",
      "video 1/1 (90/343) /content/drive/MyDrive/Colab Notebooks/big project/test(20231226)/폭행/완료_0909_F_폭행_CAM6_10_masking.mp4: 192x320 1 fall, 1 fight, 11.6ms\n",
      "video 1/1 (91/343) /content/drive/MyDrive/Colab Notebooks/big project/test(20231226)/폭행/완료_0909_F_폭행_CAM6_10_masking.mp4: 192x320 1 fall, 1 fight, 13.4ms\n",
      "video 1/1 (92/343) /content/drive/MyDrive/Colab Notebooks/big project/test(20231226)/폭행/완료_0909_F_폭행_CAM6_10_masking.mp4: 192x320 1 fall, 1 fight, 10.4ms\n",
      "video 1/1 (93/343) /content/drive/MyDrive/Colab Notebooks/big project/test(20231226)/폭행/완료_0909_F_폭행_CAM6_10_masking.mp4: 192x320 1 fall, 1 fight, 10.1ms\n",
      "video 1/1 (94/343) /content/drive/MyDrive/Colab Notebooks/big project/test(20231226)/폭행/완료_0909_F_폭행_CAM6_10_masking.mp4: 192x320 1 fall, 1 fight, 10.1ms\n",
      "video 1/1 (95/343) /content/drive/MyDrive/Colab Notebooks/big project/test(20231226)/폭행/완료_0909_F_폭행_CAM6_10_masking.mp4: 192x320 1 fall, 1 fight, 9.9ms\n",
      "video 1/1 (96/343) /content/drive/MyDrive/Colab Notebooks/big project/test(20231226)/폭행/완료_0909_F_폭행_CAM6_10_masking.mp4: 192x320 1 fight, 11.4ms\n",
      "video 1/1 (97/343) /content/drive/MyDrive/Colab Notebooks/big project/test(20231226)/폭행/완료_0909_F_폭행_CAM6_10_masking.mp4: 192x320 1 fight, 10.3ms\n",
      "video 1/1 (98/343) /content/drive/MyDrive/Colab Notebooks/big project/test(20231226)/폭행/완료_0909_F_폭행_CAM6_10_masking.mp4: 192x320 1 fight, 9.8ms\n",
      "video 1/1 (99/343) /content/drive/MyDrive/Colab Notebooks/big project/test(20231226)/폭행/완료_0909_F_폭행_CAM6_10_masking.mp4: 192x320 1 fight, 12.6ms\n",
      "video 1/1 (100/343) /content/drive/MyDrive/Colab Notebooks/big project/test(20231226)/폭행/완료_0909_F_폭행_CAM6_10_masking.mp4: 192x320 1 fight, 9.6ms\n",
      "video 1/1 (101/343) /content/drive/MyDrive/Colab Notebooks/big project/test(20231226)/폭행/완료_0909_F_폭행_CAM6_10_masking.mp4: 192x320 1 fight, 9.9ms\n",
      "video 1/1 (102/343) /content/drive/MyDrive/Colab Notebooks/big project/test(20231226)/폭행/완료_0909_F_폭행_CAM6_10_masking.mp4: 192x320 1 fight, 10.4ms\n",
      "video 1/1 (103/343) /content/drive/MyDrive/Colab Notebooks/big project/test(20231226)/폭행/완료_0909_F_폭행_CAM6_10_masking.mp4: 192x320 1 fight, 9.3ms\n",
      "video 1/1 (104/343) /content/drive/MyDrive/Colab Notebooks/big project/test(20231226)/폭행/완료_0909_F_폭행_CAM6_10_masking.mp4: 192x320 1 fight, 9.3ms\n",
      "video 1/1 (105/343) /content/drive/MyDrive/Colab Notebooks/big project/test(20231226)/폭행/완료_0909_F_폭행_CAM6_10_masking.mp4: 192x320 1 fall, 1 fight, 11.3ms\n",
      "video 1/1 (106/343) /content/drive/MyDrive/Colab Notebooks/big project/test(20231226)/폭행/완료_0909_F_폭행_CAM6_10_masking.mp4: 192x320 1 fight, 9.3ms\n",
      "video 1/1 (107/343) /content/drive/MyDrive/Colab Notebooks/big project/test(20231226)/폭행/완료_0909_F_폭행_CAM6_10_masking.mp4: 192x320 2 fights, 12.8ms\n",
      "video 1/1 (108/343) /content/drive/MyDrive/Colab Notebooks/big project/test(20231226)/폭행/완료_0909_F_폭행_CAM6_10_masking.mp4: 192x320 1 fight, 9.5ms\n",
      "video 1/1 (109/343) /content/drive/MyDrive/Colab Notebooks/big project/test(20231226)/폭행/완료_0909_F_폭행_CAM6_10_masking.mp4: 192x320 1 fight, 9.8ms\n",
      "video 1/1 (110/343) /content/drive/MyDrive/Colab Notebooks/big project/test(20231226)/폭행/완료_0909_F_폭행_CAM6_10_masking.mp4: 192x320 1 fight, 9.5ms\n",
      "video 1/1 (111/343) /content/drive/MyDrive/Colab Notebooks/big project/test(20231226)/폭행/완료_0909_F_폭행_CAM6_10_masking.mp4: 192x320 1 fight, 9.7ms\n",
      "video 1/1 (112/343) /content/drive/MyDrive/Colab Notebooks/big project/test(20231226)/폭행/완료_0909_F_폭행_CAM6_10_masking.mp4: 192x320 1 fight, 9.5ms\n",
      "video 1/1 (113/343) /content/drive/MyDrive/Colab Notebooks/big project/test(20231226)/폭행/완료_0909_F_폭행_CAM6_10_masking.mp4: 192x320 (no detections), 9.3ms\n",
      "video 1/1 (114/343) /content/drive/MyDrive/Colab Notebooks/big project/test(20231226)/폭행/완료_0909_F_폭행_CAM6_10_masking.mp4: 192x320 (no detections), 9.2ms\n",
      "video 1/1 (115/343) /content/drive/MyDrive/Colab Notebooks/big project/test(20231226)/폭행/완료_0909_F_폭행_CAM6_10_masking.mp4: 192x320 (no detections), 11.6ms\n",
      "video 1/1 (116/343) /content/drive/MyDrive/Colab Notebooks/big project/test(20231226)/폭행/완료_0909_F_폭행_CAM6_10_masking.mp4: 192x320 (no detections), 9.4ms\n",
      "video 1/1 (117/343) /content/drive/MyDrive/Colab Notebooks/big project/test(20231226)/폭행/완료_0909_F_폭행_CAM6_10_masking.mp4: 192x320 1 fight, 9.5ms\n",
      "video 1/1 (118/343) /content/drive/MyDrive/Colab Notebooks/big project/test(20231226)/폭행/완료_0909_F_폭행_CAM6_10_masking.mp4: 192x320 1 fight, 9.5ms\n",
      "video 1/1 (119/343) /content/drive/MyDrive/Colab Notebooks/big project/test(20231226)/폭행/완료_0909_F_폭행_CAM6_10_masking.mp4: 192x320 1 fight, 9.9ms\n",
      "video 1/1 (120/343) /content/drive/MyDrive/Colab Notebooks/big project/test(20231226)/폭행/완료_0909_F_폭행_CAM6_10_masking.mp4: 192x320 1 fight, 10.2ms\n",
      "video 1/1 (121/343) /content/drive/MyDrive/Colab Notebooks/big project/test(20231226)/폭행/완료_0909_F_폭행_CAM6_10_masking.mp4: 192x320 1 fight, 9.4ms\n",
      "video 1/1 (122/343) /content/drive/MyDrive/Colab Notebooks/big project/test(20231226)/폭행/완료_0909_F_폭행_CAM6_10_masking.mp4: 192x320 1 fight, 10.0ms\n",
      "video 1/1 (123/343) /content/drive/MyDrive/Colab Notebooks/big project/test(20231226)/폭행/완료_0909_F_폭행_CAM6_10_masking.mp4: 192x320 1 fight, 11.7ms\n",
      "video 1/1 (124/343) /content/drive/MyDrive/Colab Notebooks/big project/test(20231226)/폭행/완료_0909_F_폭행_CAM6_10_masking.mp4: 192x320 1 fight, 9.9ms\n",
      "video 1/1 (125/343) /content/drive/MyDrive/Colab Notebooks/big project/test(20231226)/폭행/완료_0909_F_폭행_CAM6_10_masking.mp4: 192x320 1 fight, 9.5ms\n",
      "video 1/1 (126/343) /content/drive/MyDrive/Colab Notebooks/big project/test(20231226)/폭행/완료_0909_F_폭행_CAM6_10_masking.mp4: 192x320 1 fight, 9.8ms\n",
      "video 1/1 (127/343) /content/drive/MyDrive/Colab Notebooks/big project/test(20231226)/폭행/완료_0909_F_폭행_CAM6_10_masking.mp4: 192x320 1 fight, 9.6ms\n",
      "video 1/1 (128/343) /content/drive/MyDrive/Colab Notebooks/big project/test(20231226)/폭행/완료_0909_F_폭행_CAM6_10_masking.mp4: 192x320 1 fight, 9.9ms\n",
      "video 1/1 (129/343) /content/drive/MyDrive/Colab Notebooks/big project/test(20231226)/폭행/완료_0909_F_폭행_CAM6_10_masking.mp4: 192x320 1 fight, 11.4ms\n",
      "video 1/1 (130/343) /content/drive/MyDrive/Colab Notebooks/big project/test(20231226)/폭행/완료_0909_F_폭행_CAM6_10_masking.mp4: 192x320 1 fight, 9.4ms\n",
      "video 1/1 (131/343) /content/drive/MyDrive/Colab Notebooks/big project/test(20231226)/폭행/완료_0909_F_폭행_CAM6_10_masking.mp4: 192x320 1 fight, 9.3ms\n",
      "video 1/1 (132/343) /content/drive/MyDrive/Colab Notebooks/big project/test(20231226)/폭행/완료_0909_F_폭행_CAM6_10_masking.mp4: 192x320 1 fight, 9.6ms\n",
      "video 1/1 (133/343) /content/drive/MyDrive/Colab Notebooks/big project/test(20231226)/폭행/완료_0909_F_폭행_CAM6_10_masking.mp4: 192x320 1 fight, 9.5ms\n",
      "video 1/1 (134/343) /content/drive/MyDrive/Colab Notebooks/big project/test(20231226)/폭행/완료_0909_F_폭행_CAM6_10_masking.mp4: 192x320 1 fight, 9.4ms\n",
      "video 1/1 (135/343) /content/drive/MyDrive/Colab Notebooks/big project/test(20231226)/폭행/완료_0909_F_폭행_CAM6_10_masking.mp4: 192x320 1 fall, 9.7ms\n",
      "video 1/1 (136/343) /content/drive/MyDrive/Colab Notebooks/big project/test(20231226)/폭행/완료_0909_F_폭행_CAM6_10_masking.mp4: 192x320 1 fall, 9.3ms\n",
      "video 1/1 (137/343) /content/drive/MyDrive/Colab Notebooks/big project/test(20231226)/폭행/완료_0909_F_폭행_CAM6_10_masking.mp4: 192x320 1 fall, 1 fight, 9.8ms\n",
      "video 1/1 (138/343) /content/drive/MyDrive/Colab Notebooks/big project/test(20231226)/폭행/완료_0909_F_폭행_CAM6_10_masking.mp4: 192x320 1 fight, 9.6ms\n",
      "video 1/1 (139/343) /content/drive/MyDrive/Colab Notebooks/big project/test(20231226)/폭행/완료_0909_F_폭행_CAM6_10_masking.mp4: 192x320 1 fight, 11.2ms\n",
      "video 1/1 (140/343) /content/drive/MyDrive/Colab Notebooks/big project/test(20231226)/폭행/완료_0909_F_폭행_CAM6_10_masking.mp4: 192x320 1 fight, 9.2ms\n",
      "video 1/1 (141/343) /content/drive/MyDrive/Colab Notebooks/big project/test(20231226)/폭행/완료_0909_F_폭행_CAM6_10_masking.mp4: 192x320 1 fall, 1 fight, 9.6ms\n",
      "video 1/1 (142/343) /content/drive/MyDrive/Colab Notebooks/big project/test(20231226)/폭행/완료_0909_F_폭행_CAM6_10_masking.mp4: 192x320 1 fall, 1 fight, 9.8ms\n",
      "video 1/1 (143/343) /content/drive/MyDrive/Colab Notebooks/big project/test(20231226)/폭행/완료_0909_F_폭행_CAM6_10_masking.mp4: 192x320 1 fall, 1 fight, 9.6ms\n",
      "video 1/1 (144/343) /content/drive/MyDrive/Colab Notebooks/big project/test(20231226)/폭행/완료_0909_F_폭행_CAM6_10_masking.mp4: 192x320 1 fall, 9.8ms\n",
      "video 1/1 (145/343) /content/drive/MyDrive/Colab Notebooks/big project/test(20231226)/폭행/완료_0909_F_폭행_CAM6_10_masking.mp4: 192x320 1 fall, 9.9ms\n",
      "video 1/1 (146/343) /content/drive/MyDrive/Colab Notebooks/big project/test(20231226)/폭행/완료_0909_F_폭행_CAM6_10_masking.mp4: 192x320 1 fall, 12.1ms\n",
      "video 1/1 (147/343) /content/drive/MyDrive/Colab Notebooks/big project/test(20231226)/폭행/완료_0909_F_폭행_CAM6_10_masking.mp4: 192x320 1 fall, 9.9ms\n",
      "video 1/1 (148/343) /content/drive/MyDrive/Colab Notebooks/big project/test(20231226)/폭행/완료_0909_F_폭행_CAM6_10_masking.mp4: 192x320 1 fall, 9.6ms\n",
      "video 1/1 (149/343) /content/drive/MyDrive/Colab Notebooks/big project/test(20231226)/폭행/완료_0909_F_폭행_CAM6_10_masking.mp4: 192x320 1 fall, 9.4ms\n",
      "video 1/1 (150/343) /content/drive/MyDrive/Colab Notebooks/big project/test(20231226)/폭행/완료_0909_F_폭행_CAM6_10_masking.mp4: 192x320 1 fall, 10.1ms\n",
      "video 1/1 (151/343) /content/drive/MyDrive/Colab Notebooks/big project/test(20231226)/폭행/완료_0909_F_폭행_CAM6_10_masking.mp4: 192x320 1 fall, 9.8ms\n",
      "video 1/1 (152/343) /content/drive/MyDrive/Colab Notebooks/big project/test(20231226)/폭행/완료_0909_F_폭행_CAM6_10_masking.mp4: 192x320 1 fall, 10.6ms\n",
      "video 1/1 (153/343) /content/drive/MyDrive/Colab Notebooks/big project/test(20231226)/폭행/완료_0909_F_폭행_CAM6_10_masking.mp4: 192x320 1 fall, 9.2ms\n",
      "video 1/1 (154/343) /content/drive/MyDrive/Colab Notebooks/big project/test(20231226)/폭행/완료_0909_F_폭행_CAM6_10_masking.mp4: 192x320 1 fall, 9.0ms\n",
      "video 1/1 (155/343) /content/drive/MyDrive/Colab Notebooks/big project/test(20231226)/폭행/완료_0909_F_폭행_CAM6_10_masking.mp4: 192x320 1 fall, 9.1ms\n",
      "video 1/1 (156/343) /content/drive/MyDrive/Colab Notebooks/big project/test(20231226)/폭행/완료_0909_F_폭행_CAM6_10_masking.mp4: 192x320 1 fall, 11.2ms\n",
      "video 1/1 (157/343) /content/drive/MyDrive/Colab Notebooks/big project/test(20231226)/폭행/완료_0909_F_폭행_CAM6_10_masking.mp4: 192x320 1 fall, 9.3ms\n",
      "video 1/1 (158/343) /content/drive/MyDrive/Colab Notebooks/big project/test(20231226)/폭행/완료_0909_F_폭행_CAM6_10_masking.mp4: 192x320 1 fall, 9.6ms\n",
      "video 1/1 (159/343) /content/drive/MyDrive/Colab Notebooks/big project/test(20231226)/폭행/완료_0909_F_폭행_CAM6_10_masking.mp4: 192x320 1 fall, 9.6ms\n",
      "video 1/1 (160/343) /content/drive/MyDrive/Colab Notebooks/big project/test(20231226)/폭행/완료_0909_F_폭행_CAM6_10_masking.mp4: 192x320 1 fall, 11.2ms\n",
      "video 1/1 (161/343) /content/drive/MyDrive/Colab Notebooks/big project/test(20231226)/폭행/완료_0909_F_폭행_CAM6_10_masking.mp4: 192x320 1 fall, 9.3ms\n",
      "video 1/1 (162/343) /content/drive/MyDrive/Colab Notebooks/big project/test(20231226)/폭행/완료_0909_F_폭행_CAM6_10_masking.mp4: 192x320 1 fall, 9.9ms\n",
      "video 1/1 (163/343) /content/drive/MyDrive/Colab Notebooks/big project/test(20231226)/폭행/완료_0909_F_폭행_CAM6_10_masking.mp4: 192x320 1 fall, 9.7ms\n",
      "video 1/1 (164/343) /content/drive/MyDrive/Colab Notebooks/big project/test(20231226)/폭행/완료_0909_F_폭행_CAM6_10_masking.mp4: 192x320 1 fall, 9.7ms\n",
      "video 1/1 (165/343) /content/drive/MyDrive/Colab Notebooks/big project/test(20231226)/폭행/완료_0909_F_폭행_CAM6_10_masking.mp4: 192x320 1 fall, 10.0ms\n",
      "video 1/1 (166/343) /content/drive/MyDrive/Colab Notebooks/big project/test(20231226)/폭행/완료_0909_F_폭행_CAM6_10_masking.mp4: 192x320 1 fight, 9.4ms\n",
      "video 1/1 (167/343) /content/drive/MyDrive/Colab Notebooks/big project/test(20231226)/폭행/완료_0909_F_폭행_CAM6_10_masking.mp4: 192x320 1 fight, 9.9ms\n",
      "video 1/1 (168/343) /content/drive/MyDrive/Colab Notebooks/big project/test(20231226)/폭행/완료_0909_F_폭행_CAM6_10_masking.mp4: 192x320 1 fight, 9.8ms\n",
      "video 1/1 (169/343) /content/drive/MyDrive/Colab Notebooks/big project/test(20231226)/폭행/완료_0909_F_폭행_CAM6_10_masking.mp4: 192x320 1 fall, 11.1ms\n",
      "video 1/1 (170/343) /content/drive/MyDrive/Colab Notebooks/big project/test(20231226)/폭행/완료_0909_F_폭행_CAM6_10_masking.mp4: 192x320 1 fall, 14.3ms\n",
      "video 1/1 (171/343) /content/drive/MyDrive/Colab Notebooks/big project/test(20231226)/폭행/완료_0909_F_폭행_CAM6_10_masking.mp4: 192x320 1 fall, 9.7ms\n",
      "video 1/1 (172/343) /content/drive/MyDrive/Colab Notebooks/big project/test(20231226)/폭행/완료_0909_F_폭행_CAM6_10_masking.mp4: 192x320 1 fall, 11.1ms\n",
      "video 1/1 (173/343) /content/drive/MyDrive/Colab Notebooks/big project/test(20231226)/폭행/완료_0909_F_폭행_CAM6_10_masking.mp4: 192x320 1 fall, 11.0ms\n",
      "video 1/1 (174/343) /content/drive/MyDrive/Colab Notebooks/big project/test(20231226)/폭행/완료_0909_F_폭행_CAM6_10_masking.mp4: 192x320 1 fall, 9.3ms\n",
      "video 1/1 (175/343) /content/drive/MyDrive/Colab Notebooks/big project/test(20231226)/폭행/완료_0909_F_폭행_CAM6_10_masking.mp4: 192x320 1 fall, 9.5ms\n",
      "video 1/1 (176/343) /content/drive/MyDrive/Colab Notebooks/big project/test(20231226)/폭행/완료_0909_F_폭행_CAM6_10_masking.mp4: 192x320 1 fall, 10.2ms\n",
      "video 1/1 (177/343) /content/drive/MyDrive/Colab Notebooks/big project/test(20231226)/폭행/완료_0909_F_폭행_CAM6_10_masking.mp4: 192x320 1 fall, 11.2ms\n",
      "video 1/1 (178/343) /content/drive/MyDrive/Colab Notebooks/big project/test(20231226)/폭행/완료_0909_F_폭행_CAM6_10_masking.mp4: 192x320 1 fall, 11.0ms\n",
      "video 1/1 (179/343) /content/drive/MyDrive/Colab Notebooks/big project/test(20231226)/폭행/완료_0909_F_폭행_CAM6_10_masking.mp4: 192x320 1 fall, 9.8ms\n",
      "video 1/1 (180/343) /content/drive/MyDrive/Colab Notebooks/big project/test(20231226)/폭행/완료_0909_F_폭행_CAM6_10_masking.mp4: 192x320 1 fall, 12.2ms\n",
      "video 1/1 (181/343) /content/drive/MyDrive/Colab Notebooks/big project/test(20231226)/폭행/완료_0909_F_폭행_CAM6_10_masking.mp4: 192x320 1 fall, 11.0ms\n",
      "video 1/1 (182/343) /content/drive/MyDrive/Colab Notebooks/big project/test(20231226)/폭행/완료_0909_F_폭행_CAM6_10_masking.mp4: 192x320 1 fall, 9.7ms\n",
      "video 1/1 (183/343) /content/drive/MyDrive/Colab Notebooks/big project/test(20231226)/폭행/완료_0909_F_폭행_CAM6_10_masking.mp4: 192x320 1 fall, 9.5ms\n",
      "video 1/1 (184/343) /content/drive/MyDrive/Colab Notebooks/big project/test(20231226)/폭행/완료_0909_F_폭행_CAM6_10_masking.mp4: 192x320 1 fall, 9.6ms\n",
      "video 1/1 (185/343) /content/drive/MyDrive/Colab Notebooks/big project/test(20231226)/폭행/완료_0909_F_폭행_CAM6_10_masking.mp4: 192x320 1 fall, 11.1ms\n",
      "video 1/1 (186/343) /content/drive/MyDrive/Colab Notebooks/big project/test(20231226)/폭행/완료_0909_F_폭행_CAM6_10_masking.mp4: 192x320 1 fall, 9.4ms\n",
      "video 1/1 (187/343) /content/drive/MyDrive/Colab Notebooks/big project/test(20231226)/폭행/완료_0909_F_폭행_CAM6_10_masking.mp4: 192x320 1 fall, 9.9ms\n",
      "video 1/1 (188/343) /content/drive/MyDrive/Colab Notebooks/big project/test(20231226)/폭행/완료_0909_F_폭행_CAM6_10_masking.mp4: 192x320 1 fall, 9.9ms\n",
      "video 1/1 (189/343) /content/drive/MyDrive/Colab Notebooks/big project/test(20231226)/폭행/완료_0909_F_폭행_CAM6_10_masking.mp4: 192x320 1 fall, 10.2ms\n",
      "video 1/1 (190/343) /content/drive/MyDrive/Colab Notebooks/big project/test(20231226)/폭행/완료_0909_F_폭행_CAM6_10_masking.mp4: 192x320 1 fall, 13.7ms\n",
      "video 1/1 (191/343) /content/drive/MyDrive/Colab Notebooks/big project/test(20231226)/폭행/완료_0909_F_폭행_CAM6_10_masking.mp4: 192x320 1 fall, 10.2ms\n",
      "video 1/1 (192/343) /content/drive/MyDrive/Colab Notebooks/big project/test(20231226)/폭행/완료_0909_F_폭행_CAM6_10_masking.mp4: 192x320 1 fall, 9.2ms\n",
      "video 1/1 (193/343) /content/drive/MyDrive/Colab Notebooks/big project/test(20231226)/폭행/완료_0909_F_폭행_CAM6_10_masking.mp4: 192x320 1 fall, 10.9ms\n",
      "video 1/1 (194/343) /content/drive/MyDrive/Colab Notebooks/big project/test(20231226)/폭행/완료_0909_F_폭행_CAM6_10_masking.mp4: 192x320 1 fall, 9.0ms\n",
      "video 1/1 (195/343) /content/drive/MyDrive/Colab Notebooks/big project/test(20231226)/폭행/완료_0909_F_폭행_CAM6_10_masking.mp4: 192x320 1 fall, 10.8ms\n",
      "video 1/1 (196/343) /content/drive/MyDrive/Colab Notebooks/big project/test(20231226)/폭행/완료_0909_F_폭행_CAM6_10_masking.mp4: 192x320 (no detections), 10.8ms\n",
      "video 1/1 (197/343) /content/drive/MyDrive/Colab Notebooks/big project/test(20231226)/폭행/완료_0909_F_폭행_CAM6_10_masking.mp4: 192x320 (no detections), 9.8ms\n",
      "video 1/1 (198/343) /content/drive/MyDrive/Colab Notebooks/big project/test(20231226)/폭행/완료_0909_F_폭행_CAM6_10_masking.mp4: 192x320 (no detections), 9.6ms\n",
      "video 1/1 (199/343) /content/drive/MyDrive/Colab Notebooks/big project/test(20231226)/폭행/완료_0909_F_폭행_CAM6_10_masking.mp4: 192x320 (no detections), 9.7ms\n",
      "video 1/1 (200/343) /content/drive/MyDrive/Colab Notebooks/big project/test(20231226)/폭행/완료_0909_F_폭행_CAM6_10_masking.mp4: 192x320 (no detections), 9.8ms\n",
      "video 1/1 (201/343) /content/drive/MyDrive/Colab Notebooks/big project/test(20231226)/폭행/완료_0909_F_폭행_CAM6_10_masking.mp4: 192x320 (no detections), 10.4ms\n",
      "video 1/1 (202/343) /content/drive/MyDrive/Colab Notebooks/big project/test(20231226)/폭행/완료_0909_F_폭행_CAM6_10_masking.mp4: 192x320 (no detections), 10.5ms\n",
      "video 1/1 (203/343) /content/drive/MyDrive/Colab Notebooks/big project/test(20231226)/폭행/완료_0909_F_폭행_CAM6_10_masking.mp4: 192x320 (no detections), 10.4ms\n",
      "video 1/1 (204/343) /content/drive/MyDrive/Colab Notebooks/big project/test(20231226)/폭행/완료_0909_F_폭행_CAM6_10_masking.mp4: 192x320 (no detections), 10.2ms\n",
      "video 1/1 (205/343) /content/drive/MyDrive/Colab Notebooks/big project/test(20231226)/폭행/완료_0909_F_폭행_CAM6_10_masking.mp4: 192x320 1 fall, 10.1ms\n",
      "video 1/1 (206/343) /content/drive/MyDrive/Colab Notebooks/big project/test(20231226)/폭행/완료_0909_F_폭행_CAM6_10_masking.mp4: 192x320 1 fall, 10.3ms\n",
      "video 1/1 (207/343) /content/drive/MyDrive/Colab Notebooks/big project/test(20231226)/폭행/완료_0909_F_폭행_CAM6_10_masking.mp4: 192x320 1 fall, 9.7ms\n",
      "video 1/1 (208/343) /content/drive/MyDrive/Colab Notebooks/big project/test(20231226)/폭행/완료_0909_F_폭행_CAM6_10_masking.mp4: 192x320 1 fall, 9.6ms\n",
      "video 1/1 (209/343) /content/drive/MyDrive/Colab Notebooks/big project/test(20231226)/폭행/완료_0909_F_폭행_CAM6_10_masking.mp4: 192x320 1 fall, 9.6ms\n",
      "video 1/1 (210/343) /content/drive/MyDrive/Colab Notebooks/big project/test(20231226)/폭행/완료_0909_F_폭행_CAM6_10_masking.mp4: 192x320 1 fall, 9.8ms\n",
      "video 1/1 (211/343) /content/drive/MyDrive/Colab Notebooks/big project/test(20231226)/폭행/완료_0909_F_폭행_CAM6_10_masking.mp4: 192x320 1 fall, 9.5ms\n",
      "video 1/1 (212/343) /content/drive/MyDrive/Colab Notebooks/big project/test(20231226)/폭행/완료_0909_F_폭행_CAM6_10_masking.mp4: 192x320 1 fall, 10.3ms\n",
      "video 1/1 (213/343) /content/drive/MyDrive/Colab Notebooks/big project/test(20231226)/폭행/완료_0909_F_폭행_CAM6_10_masking.mp4: 192x320 1 fall, 9.6ms\n",
      "video 1/1 (214/343) /content/drive/MyDrive/Colab Notebooks/big project/test(20231226)/폭행/완료_0909_F_폭행_CAM6_10_masking.mp4: 192x320 (no detections), 14.1ms\n",
      "video 1/1 (215/343) /content/drive/MyDrive/Colab Notebooks/big project/test(20231226)/폭행/완료_0909_F_폭행_CAM6_10_masking.mp4: 192x320 (no detections), 9.5ms\n",
      "video 1/1 (216/343) /content/drive/MyDrive/Colab Notebooks/big project/test(20231226)/폭행/완료_0909_F_폭행_CAM6_10_masking.mp4: 192x320 (no detections), 10.8ms\n",
      "video 1/1 (217/343) /content/drive/MyDrive/Colab Notebooks/big project/test(20231226)/폭행/완료_0909_F_폭행_CAM6_10_masking.mp4: 192x320 (no detections), 9.6ms\n",
      "video 1/1 (218/343) /content/drive/MyDrive/Colab Notebooks/big project/test(20231226)/폭행/완료_0909_F_폭행_CAM6_10_masking.mp4: 192x320 (no detections), 11.9ms\n",
      "video 1/1 (219/343) /content/drive/MyDrive/Colab Notebooks/big project/test(20231226)/폭행/완료_0909_F_폭행_CAM6_10_masking.mp4: 192x320 (no detections), 10.1ms\n",
      "video 1/1 (220/343) /content/drive/MyDrive/Colab Notebooks/big project/test(20231226)/폭행/완료_0909_F_폭행_CAM6_10_masking.mp4: 192x320 (no detections), 9.9ms\n",
      "video 1/1 (221/343) /content/drive/MyDrive/Colab Notebooks/big project/test(20231226)/폭행/완료_0909_F_폭행_CAM6_10_masking.mp4: 192x320 (no detections), 10.3ms\n",
      "video 1/1 (222/343) /content/drive/MyDrive/Colab Notebooks/big project/test(20231226)/폭행/완료_0909_F_폭행_CAM6_10_masking.mp4: 192x320 (no detections), 13.7ms\n",
      "video 1/1 (223/343) /content/drive/MyDrive/Colab Notebooks/big project/test(20231226)/폭행/완료_0909_F_폭행_CAM6_10_masking.mp4: 192x320 (no detections), 9.7ms\n",
      "video 1/1 (224/343) /content/drive/MyDrive/Colab Notebooks/big project/test(20231226)/폭행/완료_0909_F_폭행_CAM6_10_masking.mp4: 192x320 (no detections), 9.3ms\n",
      "video 1/1 (225/343) /content/drive/MyDrive/Colab Notebooks/big project/test(20231226)/폭행/완료_0909_F_폭행_CAM6_10_masking.mp4: 192x320 1 fall, 10.3ms\n",
      "video 1/1 (226/343) /content/drive/MyDrive/Colab Notebooks/big project/test(20231226)/폭행/완료_0909_F_폭행_CAM6_10_masking.mp4: 192x320 1 fall, 10.1ms\n",
      "video 1/1 (227/343) /content/drive/MyDrive/Colab Notebooks/big project/test(20231226)/폭행/완료_0909_F_폭행_CAM6_10_masking.mp4: 192x320 (no detections), 10.3ms\n",
      "video 1/1 (228/343) /content/drive/MyDrive/Colab Notebooks/big project/test(20231226)/폭행/완료_0909_F_폭행_CAM6_10_masking.mp4: 192x320 1 fall, 9.7ms\n",
      "video 1/1 (229/343) /content/drive/MyDrive/Colab Notebooks/big project/test(20231226)/폭행/완료_0909_F_폭행_CAM6_10_masking.mp4: 192x320 (no detections), 9.8ms\n",
      "video 1/1 (230/343) /content/drive/MyDrive/Colab Notebooks/big project/test(20231226)/폭행/완료_0909_F_폭행_CAM6_10_masking.mp4: 192x320 (no detections), 12.6ms\n",
      "video 1/1 (231/343) /content/drive/MyDrive/Colab Notebooks/big project/test(20231226)/폭행/완료_0909_F_폭행_CAM6_10_masking.mp4: 192x320 (no detections), 12.2ms\n",
      "video 1/1 (232/343) /content/drive/MyDrive/Colab Notebooks/big project/test(20231226)/폭행/완료_0909_F_폭행_CAM6_10_masking.mp4: 192x320 (no detections), 13.0ms\n",
      "video 1/1 (233/343) /content/drive/MyDrive/Colab Notebooks/big project/test(20231226)/폭행/완료_0909_F_폭행_CAM6_10_masking.mp4: 192x320 (no detections), 9.6ms\n",
      "video 1/1 (234/343) /content/drive/MyDrive/Colab Notebooks/big project/test(20231226)/폭행/완료_0909_F_폭행_CAM6_10_masking.mp4: 192x320 (no detections), 11.2ms\n",
      "video 1/1 (235/343) /content/drive/MyDrive/Colab Notebooks/big project/test(20231226)/폭행/완료_0909_F_폭행_CAM6_10_masking.mp4: 192x320 1 fall, 10.1ms\n",
      "video 1/1 (236/343) /content/drive/MyDrive/Colab Notebooks/big project/test(20231226)/폭행/완료_0909_F_폭행_CAM6_10_masking.mp4: 192x320 (no detections), 10.0ms\n",
      "video 1/1 (237/343) /content/drive/MyDrive/Colab Notebooks/big project/test(20231226)/폭행/완료_0909_F_폭행_CAM6_10_masking.mp4: 192x320 1 fall, 12.1ms\n",
      "video 1/1 (238/343) /content/drive/MyDrive/Colab Notebooks/big project/test(20231226)/폭행/완료_0909_F_폭행_CAM6_10_masking.mp4: 192x320 1 fall, 9.8ms\n",
      "video 1/1 (239/343) /content/drive/MyDrive/Colab Notebooks/big project/test(20231226)/폭행/완료_0909_F_폭행_CAM6_10_masking.mp4: 192x320 1 fall, 9.9ms\n",
      "video 1/1 (240/343) /content/drive/MyDrive/Colab Notebooks/big project/test(20231226)/폭행/완료_0909_F_폭행_CAM6_10_masking.mp4: 192x320 1 fall, 10.2ms\n",
      "video 1/1 (241/343) /content/drive/MyDrive/Colab Notebooks/big project/test(20231226)/폭행/완료_0909_F_폭행_CAM6_10_masking.mp4: 192x320 1 fall, 10.4ms\n",
      "video 1/1 (242/343) /content/drive/MyDrive/Colab Notebooks/big project/test(20231226)/폭행/완료_0909_F_폭행_CAM6_10_masking.mp4: 192x320 1 fall, 10.7ms\n",
      "video 1/1 (243/343) /content/drive/MyDrive/Colab Notebooks/big project/test(20231226)/폭행/완료_0909_F_폭행_CAM6_10_masking.mp4: 192x320 (no detections), 10.1ms\n",
      "video 1/1 (244/343) /content/drive/MyDrive/Colab Notebooks/big project/test(20231226)/폭행/완료_0909_F_폭행_CAM6_10_masking.mp4: 192x320 (no detections), 9.9ms\n",
      "video 1/1 (245/343) /content/drive/MyDrive/Colab Notebooks/big project/test(20231226)/폭행/완료_0909_F_폭행_CAM6_10_masking.mp4: 192x320 1 fall, 9.9ms\n",
      "video 1/1 (246/343) /content/drive/MyDrive/Colab Notebooks/big project/test(20231226)/폭행/완료_0909_F_폭행_CAM6_10_masking.mp4: 192x320 1 fall, 9.5ms\n",
      "video 1/1 (247/343) /content/drive/MyDrive/Colab Notebooks/big project/test(20231226)/폭행/완료_0909_F_폭행_CAM6_10_masking.mp4: 192x320 1 fall, 10.0ms\n",
      "video 1/1 (248/343) /content/drive/MyDrive/Colab Notebooks/big project/test(20231226)/폭행/완료_0909_F_폭행_CAM6_10_masking.mp4: 192x320 1 fall, 9.5ms\n",
      "video 1/1 (249/343) /content/drive/MyDrive/Colab Notebooks/big project/test(20231226)/폭행/완료_0909_F_폭행_CAM6_10_masking.mp4: 192x320 (no detections), 9.7ms\n",
      "video 1/1 (250/343) /content/drive/MyDrive/Colab Notebooks/big project/test(20231226)/폭행/완료_0909_F_폭행_CAM6_10_masking.mp4: 192x320 (no detections), 9.4ms\n",
      "video 1/1 (251/343) /content/drive/MyDrive/Colab Notebooks/big project/test(20231226)/폭행/완료_0909_F_폭행_CAM6_10_masking.mp4: 192x320 (no detections), 9.8ms\n",
      "video 1/1 (252/343) /content/drive/MyDrive/Colab Notebooks/big project/test(20231226)/폭행/완료_0909_F_폭행_CAM6_10_masking.mp4: 192x320 (no detections), 9.9ms\n",
      "video 1/1 (253/343) /content/drive/MyDrive/Colab Notebooks/big project/test(20231226)/폭행/완료_0909_F_폭행_CAM6_10_masking.mp4: 192x320 (no detections), 10.1ms\n",
      "video 1/1 (254/343) /content/drive/MyDrive/Colab Notebooks/big project/test(20231226)/폭행/완료_0909_F_폭행_CAM6_10_masking.mp4: 192x320 (no detections), 9.4ms\n",
      "video 1/1 (255/343) /content/drive/MyDrive/Colab Notebooks/big project/test(20231226)/폭행/완료_0909_F_폭행_CAM6_10_masking.mp4: 192x320 (no detections), 11.8ms\n",
      "video 1/1 (256/343) /content/drive/MyDrive/Colab Notebooks/big project/test(20231226)/폭행/완료_0909_F_폭행_CAM6_10_masking.mp4: 192x320 (no detections), 9.8ms\n",
      "video 1/1 (257/343) /content/drive/MyDrive/Colab Notebooks/big project/test(20231226)/폭행/완료_0909_F_폭행_CAM6_10_masking.mp4: 192x320 1 fall, 9.5ms\n",
      "video 1/1 (258/343) /content/drive/MyDrive/Colab Notebooks/big project/test(20231226)/폭행/완료_0909_F_폭행_CAM6_10_masking.mp4: 192x320 1 fall, 9.4ms\n",
      "video 1/1 (259/343) /content/drive/MyDrive/Colab Notebooks/big project/test(20231226)/폭행/완료_0909_F_폭행_CAM6_10_masking.mp4: 192x320 1 fall, 9.9ms\n",
      "video 1/1 (260/343) /content/drive/MyDrive/Colab Notebooks/big project/test(20231226)/폭행/완료_0909_F_폭행_CAM6_10_masking.mp4: 192x320 (no detections), 9.9ms\n",
      "video 1/1 (261/343) /content/drive/MyDrive/Colab Notebooks/big project/test(20231226)/폭행/완료_0909_F_폭행_CAM6_10_masking.mp4: 192x320 1 fall, 10.0ms\n",
      "video 1/1 (262/343) /content/drive/MyDrive/Colab Notebooks/big project/test(20231226)/폭행/완료_0909_F_폭행_CAM6_10_masking.mp4: 192x320 (no detections), 10.1ms\n",
      "video 1/1 (263/343) /content/drive/MyDrive/Colab Notebooks/big project/test(20231226)/폭행/완료_0909_F_폭행_CAM6_10_masking.mp4: 192x320 (no detections), 9.6ms\n",
      "video 1/1 (264/343) /content/drive/MyDrive/Colab Notebooks/big project/test(20231226)/폭행/완료_0909_F_폭행_CAM6_10_masking.mp4: 192x320 (no detections), 9.7ms\n",
      "video 1/1 (265/343) /content/drive/MyDrive/Colab Notebooks/big project/test(20231226)/폭행/완료_0909_F_폭행_CAM6_10_masking.mp4: 192x320 (no detections), 9.7ms\n",
      "video 1/1 (266/343) /content/drive/MyDrive/Colab Notebooks/big project/test(20231226)/폭행/완료_0909_F_폭행_CAM6_10_masking.mp4: 192x320 (no detections), 9.5ms\n",
      "video 1/1 (267/343) /content/drive/MyDrive/Colab Notebooks/big project/test(20231226)/폭행/완료_0909_F_폭행_CAM6_10_masking.mp4: 192x320 (no detections), 9.5ms\n",
      "video 1/1 (268/343) /content/drive/MyDrive/Colab Notebooks/big project/test(20231226)/폭행/완료_0909_F_폭행_CAM6_10_masking.mp4: 192x320 (no detections), 9.2ms\n",
      "video 1/1 (269/343) /content/drive/MyDrive/Colab Notebooks/big project/test(20231226)/폭행/완료_0909_F_폭행_CAM6_10_masking.mp4: 192x320 (no detections), 9.2ms\n",
      "video 1/1 (270/343) /content/drive/MyDrive/Colab Notebooks/big project/test(20231226)/폭행/완료_0909_F_폭행_CAM6_10_masking.mp4: 192x320 (no detections), 9.6ms\n",
      "video 1/1 (271/343) /content/drive/MyDrive/Colab Notebooks/big project/test(20231226)/폭행/완료_0909_F_폭행_CAM6_10_masking.mp4: 192x320 (no detections), 9.7ms\n",
      "video 1/1 (272/343) /content/drive/MyDrive/Colab Notebooks/big project/test(20231226)/폭행/완료_0909_F_폭행_CAM6_10_masking.mp4: 192x320 (no detections), 9.7ms\n",
      "video 1/1 (273/343) /content/drive/MyDrive/Colab Notebooks/big project/test(20231226)/폭행/완료_0909_F_폭행_CAM6_10_masking.mp4: 192x320 (no detections), 10.2ms\n",
      "video 1/1 (274/343) /content/drive/MyDrive/Colab Notebooks/big project/test(20231226)/폭행/완료_0909_F_폭행_CAM6_10_masking.mp4: 192x320 (no detections), 10.1ms\n",
      "video 1/1 (275/343) /content/drive/MyDrive/Colab Notebooks/big project/test(20231226)/폭행/완료_0909_F_폭행_CAM6_10_masking.mp4: 192x320 (no detections), 9.7ms\n",
      "video 1/1 (276/343) /content/drive/MyDrive/Colab Notebooks/big project/test(20231226)/폭행/완료_0909_F_폭행_CAM6_10_masking.mp4: 192x320 (no detections), 9.3ms\n",
      "video 1/1 (277/343) /content/drive/MyDrive/Colab Notebooks/big project/test(20231226)/폭행/완료_0909_F_폭행_CAM6_10_masking.mp4: 192x320 (no detections), 9.5ms\n",
      "video 1/1 (278/343) /content/drive/MyDrive/Colab Notebooks/big project/test(20231226)/폭행/완료_0909_F_폭행_CAM6_10_masking.mp4: 192x320 (no detections), 9.7ms\n",
      "video 1/1 (279/343) /content/drive/MyDrive/Colab Notebooks/big project/test(20231226)/폭행/완료_0909_F_폭행_CAM6_10_masking.mp4: 192x320 (no detections), 9.6ms\n",
      "video 1/1 (280/343) /content/drive/MyDrive/Colab Notebooks/big project/test(20231226)/폭행/완료_0909_F_폭행_CAM6_10_masking.mp4: 192x320 (no detections), 9.6ms\n",
      "video 1/1 (281/343) /content/drive/MyDrive/Colab Notebooks/big project/test(20231226)/폭행/완료_0909_F_폭행_CAM6_10_masking.mp4: 192x320 (no detections), 9.6ms\n",
      "video 1/1 (282/343) /content/drive/MyDrive/Colab Notebooks/big project/test(20231226)/폭행/완료_0909_F_폭행_CAM6_10_masking.mp4: 192x320 (no detections), 9.7ms\n",
      "video 1/1 (283/343) /content/drive/MyDrive/Colab Notebooks/big project/test(20231226)/폭행/완료_0909_F_폭행_CAM6_10_masking.mp4: 192x320 1 fall, 9.4ms\n",
      "video 1/1 (284/343) /content/drive/MyDrive/Colab Notebooks/big project/test(20231226)/폭행/완료_0909_F_폭행_CAM6_10_masking.mp4: 192x320 1 fall, 9.5ms\n",
      "video 1/1 (285/343) /content/drive/MyDrive/Colab Notebooks/big project/test(20231226)/폭행/완료_0909_F_폭행_CAM6_10_masking.mp4: 192x320 1 fall, 10.2ms\n",
      "video 1/1 (286/343) /content/drive/MyDrive/Colab Notebooks/big project/test(20231226)/폭행/완료_0909_F_폭행_CAM6_10_masking.mp4: 192x320 1 fall, 9.5ms\n",
      "video 1/1 (287/343) /content/drive/MyDrive/Colab Notebooks/big project/test(20231226)/폭행/완료_0909_F_폭행_CAM6_10_masking.mp4: 192x320 1 fall, 9.8ms\n",
      "video 1/1 (288/343) /content/drive/MyDrive/Colab Notebooks/big project/test(20231226)/폭행/완료_0909_F_폭행_CAM6_10_masking.mp4: 192x320 1 fall, 9.6ms\n",
      "video 1/1 (289/343) /content/drive/MyDrive/Colab Notebooks/big project/test(20231226)/폭행/완료_0909_F_폭행_CAM6_10_masking.mp4: 192x320 1 fall, 9.0ms\n",
      "video 1/1 (290/343) /content/drive/MyDrive/Colab Notebooks/big project/test(20231226)/폭행/완료_0909_F_폭행_CAM6_10_masking.mp4: 192x320 1 fall, 9.3ms\n",
      "video 1/1 (291/343) /content/drive/MyDrive/Colab Notebooks/big project/test(20231226)/폭행/완료_0909_F_폭행_CAM6_10_masking.mp4: 192x320 1 fall, 10.1ms\n",
      "video 1/1 (292/343) /content/drive/MyDrive/Colab Notebooks/big project/test(20231226)/폭행/완료_0909_F_폭행_CAM6_10_masking.mp4: 192x320 1 fall, 10.0ms\n",
      "video 1/1 (293/343) /content/drive/MyDrive/Colab Notebooks/big project/test(20231226)/폭행/완료_0909_F_폭행_CAM6_10_masking.mp4: 192x320 1 fall, 9.8ms\n",
      "video 1/1 (294/343) /content/drive/MyDrive/Colab Notebooks/big project/test(20231226)/폭행/완료_0909_F_폭행_CAM6_10_masking.mp4: 192x320 1 fall, 11.2ms\n",
      "video 1/1 (295/343) /content/drive/MyDrive/Colab Notebooks/big project/test(20231226)/폭행/완료_0909_F_폭행_CAM6_10_masking.mp4: 192x320 1 fall, 9.8ms\n",
      "video 1/1 (296/343) /content/drive/MyDrive/Colab Notebooks/big project/test(20231226)/폭행/완료_0909_F_폭행_CAM6_10_masking.mp4: 192x320 (no detections), 9.9ms\n",
      "video 1/1 (297/343) /content/drive/MyDrive/Colab Notebooks/big project/test(20231226)/폭행/완료_0909_F_폭행_CAM6_10_masking.mp4: 192x320 (no detections), 10.1ms\n",
      "video 1/1 (298/343) /content/drive/MyDrive/Colab Notebooks/big project/test(20231226)/폭행/완료_0909_F_폭행_CAM6_10_masking.mp4: 192x320 1 fall, 11.2ms\n",
      "video 1/1 (299/343) /content/drive/MyDrive/Colab Notebooks/big project/test(20231226)/폭행/완료_0909_F_폭행_CAM6_10_masking.mp4: 192x320 1 fall, 9.3ms\n",
      "video 1/1 (300/343) /content/drive/MyDrive/Colab Notebooks/big project/test(20231226)/폭행/완료_0909_F_폭행_CAM6_10_masking.mp4: 192x320 (no detections), 9.5ms\n",
      "video 1/1 (301/343) /content/drive/MyDrive/Colab Notebooks/big project/test(20231226)/폭행/완료_0909_F_폭행_CAM6_10_masking.mp4: 192x320 (no detections), 9.7ms\n",
      "video 1/1 (302/343) /content/drive/MyDrive/Colab Notebooks/big project/test(20231226)/폭행/완료_0909_F_폭행_CAM6_10_masking.mp4: 192x320 (no detections), 10.9ms\n",
      "video 1/1 (303/343) /content/drive/MyDrive/Colab Notebooks/big project/test(20231226)/폭행/완료_0909_F_폭행_CAM6_10_masking.mp4: 192x320 (no detections), 9.9ms\n",
      "video 1/1 (304/343) /content/drive/MyDrive/Colab Notebooks/big project/test(20231226)/폭행/완료_0909_F_폭행_CAM6_10_masking.mp4: 192x320 (no detections), 13.3ms\n",
      "video 1/1 (305/343) /content/drive/MyDrive/Colab Notebooks/big project/test(20231226)/폭행/완료_0909_F_폭행_CAM6_10_masking.mp4: 192x320 (no detections), 9.7ms\n",
      "video 1/1 (306/343) /content/drive/MyDrive/Colab Notebooks/big project/test(20231226)/폭행/완료_0909_F_폭행_CAM6_10_masking.mp4: 192x320 (no detections), 9.4ms\n",
      "video 1/1 (307/343) /content/drive/MyDrive/Colab Notebooks/big project/test(20231226)/폭행/완료_0909_F_폭행_CAM6_10_masking.mp4: 192x320 (no detections), 9.2ms\n",
      "video 1/1 (308/343) /content/drive/MyDrive/Colab Notebooks/big project/test(20231226)/폭행/완료_0909_F_폭행_CAM6_10_masking.mp4: 192x320 (no detections), 9.3ms\n",
      "video 1/1 (309/343) /content/drive/MyDrive/Colab Notebooks/big project/test(20231226)/폭행/완료_0909_F_폭행_CAM6_10_masking.mp4: 192x320 (no detections), 12.4ms\n",
      "video 1/1 (310/343) /content/drive/MyDrive/Colab Notebooks/big project/test(20231226)/폭행/완료_0909_F_폭행_CAM6_10_masking.mp4: 192x320 (no detections), 9.5ms\n",
      "video 1/1 (311/343) /content/drive/MyDrive/Colab Notebooks/big project/test(20231226)/폭행/완료_0909_F_폭행_CAM6_10_masking.mp4: 192x320 (no detections), 9.3ms\n",
      "video 1/1 (312/343) /content/drive/MyDrive/Colab Notebooks/big project/test(20231226)/폭행/완료_0909_F_폭행_CAM6_10_masking.mp4: 192x320 (no detections), 10.8ms\n",
      "video 1/1 (313/343) /content/drive/MyDrive/Colab Notebooks/big project/test(20231226)/폭행/완료_0909_F_폭행_CAM6_10_masking.mp4: 192x320 (no detections), 13.8ms\n",
      "video 1/1 (314/343) /content/drive/MyDrive/Colab Notebooks/big project/test(20231226)/폭행/완료_0909_F_폭행_CAM6_10_masking.mp4: 192x320 (no detections), 9.4ms\n",
      "video 1/1 (315/343) /content/drive/MyDrive/Colab Notebooks/big project/test(20231226)/폭행/완료_0909_F_폭행_CAM6_10_masking.mp4: 192x320 (no detections), 10.3ms\n",
      "video 1/1 (316/343) /content/drive/MyDrive/Colab Notebooks/big project/test(20231226)/폭행/완료_0909_F_폭행_CAM6_10_masking.mp4: 192x320 (no detections), 9.7ms\n",
      "video 1/1 (317/343) /content/drive/MyDrive/Colab Notebooks/big project/test(20231226)/폭행/완료_0909_F_폭행_CAM6_10_masking.mp4: 192x320 (no detections), 11.7ms\n",
      "video 1/1 (318/343) /content/drive/MyDrive/Colab Notebooks/big project/test(20231226)/폭행/완료_0909_F_폭행_CAM6_10_masking.mp4: 192x320 (no detections), 9.5ms\n",
      "video 1/1 (319/343) /content/drive/MyDrive/Colab Notebooks/big project/test(20231226)/폭행/완료_0909_F_폭행_CAM6_10_masking.mp4: 192x320 (no detections), 11.2ms\n",
      "video 1/1 (320/343) /content/drive/MyDrive/Colab Notebooks/big project/test(20231226)/폭행/완료_0909_F_폭행_CAM6_10_masking.mp4: 192x320 (no detections), 9.7ms\n",
      "video 1/1 (321/343) /content/drive/MyDrive/Colab Notebooks/big project/test(20231226)/폭행/완료_0909_F_폭행_CAM6_10_masking.mp4: 192x320 (no detections), 13.7ms\n",
      "video 1/1 (322/343) /content/drive/MyDrive/Colab Notebooks/big project/test(20231226)/폭행/완료_0909_F_폭행_CAM6_10_masking.mp4: 192x320 1 fall, 9.8ms\n",
      "video 1/1 (323/343) /content/drive/MyDrive/Colab Notebooks/big project/test(20231226)/폭행/완료_0909_F_폭행_CAM6_10_masking.mp4: 192x320 1 fall, 1 fight, 11.5ms\n",
      "video 1/1 (324/343) /content/drive/MyDrive/Colab Notebooks/big project/test(20231226)/폭행/완료_0909_F_폭행_CAM6_10_masking.mp4: 192x320 1 fall, 1 fight, 10.4ms\n",
      "video 1/1 (325/343) /content/drive/MyDrive/Colab Notebooks/big project/test(20231226)/폭행/완료_0909_F_폭행_CAM6_10_masking.mp4: 192x320 1 fall, 1 fight, 10.7ms\n",
      "video 1/1 (326/343) /content/drive/MyDrive/Colab Notebooks/big project/test(20231226)/폭행/완료_0909_F_폭행_CAM6_10_masking.mp4: 192x320 1 fall, 1 fight, 9.8ms\n",
      "video 1/1 (327/343) /content/drive/MyDrive/Colab Notebooks/big project/test(20231226)/폭행/완료_0909_F_폭행_CAM6_10_masking.mp4: 192x320 1 fall, 1 fight, 9.7ms\n",
      "video 1/1 (328/343) /content/drive/MyDrive/Colab Notebooks/big project/test(20231226)/폭행/완료_0909_F_폭행_CAM6_10_masking.mp4: 192x320 1 fall, 1 fight, 10.0ms\n",
      "video 1/1 (329/343) /content/drive/MyDrive/Colab Notebooks/big project/test(20231226)/폭행/완료_0909_F_폭행_CAM6_10_masking.mp4: 192x320 1 fall, 1 fight, 11.2ms\n",
      "video 1/1 (330/343) /content/drive/MyDrive/Colab Notebooks/big project/test(20231226)/폭행/완료_0909_F_폭행_CAM6_10_masking.mp4: 192x320 1 fight, 9.6ms\n",
      "video 1/1 (331/343) /content/drive/MyDrive/Colab Notebooks/big project/test(20231226)/폭행/완료_0909_F_폭행_CAM6_10_masking.mp4: 192x320 1 fight, 11.7ms\n",
      "video 1/1 (332/343) /content/drive/MyDrive/Colab Notebooks/big project/test(20231226)/폭행/완료_0909_F_폭행_CAM6_10_masking.mp4: 192x320 1 fight, 10.9ms\n",
      "video 1/1 (333/343) /content/drive/MyDrive/Colab Notebooks/big project/test(20231226)/폭행/완료_0909_F_폭행_CAM6_10_masking.mp4: 192x320 1 fight, 10.4ms\n",
      "video 1/1 (334/343) /content/drive/MyDrive/Colab Notebooks/big project/test(20231226)/폭행/완료_0909_F_폭행_CAM6_10_masking.mp4: 192x320 1 fall, 1 fight, 9.7ms\n",
      "video 1/1 (335/343) /content/drive/MyDrive/Colab Notebooks/big project/test(20231226)/폭행/완료_0909_F_폭행_CAM6_10_masking.mp4: 192x320 1 fall, 1 fight, 9.8ms\n",
      "video 1/1 (336/343) /content/drive/MyDrive/Colab Notebooks/big project/test(20231226)/폭행/완료_0909_F_폭행_CAM6_10_masking.mp4: 192x320 1 fall, 1 fight, 9.6ms\n",
      "video 1/1 (337/343) /content/drive/MyDrive/Colab Notebooks/big project/test(20231226)/폭행/완료_0909_F_폭행_CAM6_10_masking.mp4: 192x320 1 fight, 9.5ms\n",
      "video 1/1 (338/343) /content/drive/MyDrive/Colab Notebooks/big project/test(20231226)/폭행/완료_0909_F_폭행_CAM6_10_masking.mp4: 192x320 1 fight, 9.5ms\n",
      "video 1/1 (339/343) /content/drive/MyDrive/Colab Notebooks/big project/test(20231226)/폭행/완료_0909_F_폭행_CAM6_10_masking.mp4: 192x320 1 fight, 9.4ms\n",
      "video 1/1 (340/343) /content/drive/MyDrive/Colab Notebooks/big project/test(20231226)/폭행/완료_0909_F_폭행_CAM6_10_masking.mp4: 192x320 1 fight, 9.3ms\n",
      "video 1/1 (341/343) /content/drive/MyDrive/Colab Notebooks/big project/test(20231226)/폭행/완료_0909_F_폭행_CAM6_10_masking.mp4: 192x320 1 fight, 9.6ms\n",
      "video 1/1 (342/343) /content/drive/MyDrive/Colab Notebooks/big project/test(20231226)/폭행/완료_0909_F_폭행_CAM6_10_masking.mp4: 192x320 1 fight, 10.2ms\n",
      "video 1/1 (343/343) /content/drive/MyDrive/Colab Notebooks/big project/test(20231226)/폭행/완료_0909_F_폭행_CAM6_10_masking.mp4: 192x320 1 fight, 9.6ms\n",
      "Speed: 1.0ms preprocess, 10.5ms inference, 1.9ms postprocess per image at shape (1, 3, 192, 320)\n",
      "Results saved to \u001b[1mruns/detect/train4\u001b[0m\n"
     ]
    }
   ],
   "source": [
    "result = model.predict(source = TEST_VIDEO_PATH , save = True, conf = 0.1, imgsz = 320)"
   ]
  }
 ],
 "metadata": {
  "accelerator": "GPU",
  "colab": {
   "authorship_tag": "ABX9TyPT25SjcqGx41EmLlnG3xOp",
   "gpuType": "T4",
   "machine_shape": "hm",
   "mount_file_id": "11gTnTnX9ysAsKCzDMld7tG6LIHxSaeW-",
   "provenance": []
  },
  "kernelspec": {
   "display_name": "Python 3 (ipykernel)",
   "language": "python",
   "name": "python3"
  },
  "language_info": {
   "codemirror_mode": {
    "name": "ipython",
    "version": 3
   },
   "file_extension": ".py",
   "mimetype": "text/x-python",
   "name": "python",
   "nbconvert_exporter": "python",
   "pygments_lexer": "ipython3",
   "version": "3.11.4"
  }
 },
 "nbformat": 4,
 "nbformat_minor": 4
}
