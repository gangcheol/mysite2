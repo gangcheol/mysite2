{
 "cells": [
  {
   "cell_type": "raw",
   "id": "e5f3d736-689d-4424-b18d-d1e03b1a648a",
   "metadata": {},
   "source": [
    "---\n",
    "title : \"04. Python Basic (5)\"\n",
    "author : \"GC\"\n",
    "date : \"08/16/23\"\n",
    "categories : [python, 데이터 다루기]\n",
    "---"
   ]
  },
  {
   "cell_type": "markdown",
   "id": "4efc9ce9-a739-4dc1-a728-a0babc489cea",
   "metadata": {},
   "source": [
    "# 함수"
   ]
  },
  {
   "cell_type": "markdown",
   "id": "1cd80465-6b1f-46dc-82a5-7996350a8308",
   "metadata": {},
   "source": [
    "## ex1. 여러개 인수를 입력받아 처리하는 함수"
   ]
  },
  {
   "cell_type": "markdown",
   "id": "2b19204a-a715-4310-9a8f-f64d31206d44",
   "metadata": {},
   "source": [
    "* `*`은 여러개의 인수를 튜플로 입력받아 처리해주는 메소드이다."
   ]
  },
  {
   "cell_type": "code",
   "execution_count": 7,
   "id": "cf2e8882-3fd5-4c77-a43b-d071171d4ad4",
   "metadata": {},
   "outputs": [],
   "source": [
    "def a(*alpha) :\n",
    "    for a in alpha : \n",
    "        print(f\"입력된 문자는 {a}입니다.\")"
   ]
  },
  {
   "cell_type": "code",
   "execution_count": 8,
   "id": "95893727-b427-4bd5-bc42-e66d0cbb360d",
   "metadata": {},
   "outputs": [
    {
     "name": "stdout",
     "output_type": "stream",
     "text": [
      "입력된 문자는 A입니다.\n",
      "입력된 문자는 B입니다.\n"
     ]
    }
   ],
   "source": [
    "a(\"A\",\"B\")"
   ]
  },
  {
   "cell_type": "markdown",
   "id": "71a3b35a-5669-4908-95c2-c4d708775ec5",
   "metadata": {},
   "source": [
    "`-` 또한, 임의의 매개변수를 여러개 전달받고, 고정변수를 따로 전달받아 아래와 같이 작성할 수 있다."
   ]
  },
  {
   "cell_type": "code",
   "execution_count": 10,
   "id": "475f0174-cc7e-4733-a25f-94fcb2d9d778",
   "metadata": {},
   "outputs": [],
   "source": [
    "def a(*alpha,v) :\n",
    "    for a in alpha : \n",
    "        print(f\"입력된 문자는 {a}이며 종류는 {v}입니다.\")"
   ]
  },
  {
   "cell_type": "code",
   "execution_count": 11,
   "id": "eda7305b-0d91-4c87-8277-a23af7ef7af9",
   "metadata": {},
   "outputs": [
    {
     "name": "stdout",
     "output_type": "stream",
     "text": [
      "입력된 문자는 A이며 종류는 알파벳입니다.\n",
      "입력된 문자는 B이며 종류는 알파벳입니다.\n"
     ]
    }
   ],
   "source": [
    "a(\"A\",\"B\",v = \"알파벳\")"
   ]
  },
  {
   "cell_type": "markdown",
   "id": "38ed5abd-7970-41f1-bed5-baf05416857a",
   "metadata": {},
   "source": [
    "* 단 고정값은 맨뒤에 전달해주어야 한다."
   ]
  },
  {
   "cell_type": "code",
   "execution_count": 17,
   "id": "2c9f1040-2aa5-4509-bfaf-2d395ac7647c",
   "metadata": {},
   "outputs": [
    {
     "ename": "SyntaxError",
     "evalue": "positional argument follows keyword argument (1027399463.py, line 1)",
     "output_type": "error",
     "traceback": [
      "\u001b[1;36m  Cell \u001b[1;32mIn[17], line 1\u001b[1;36m\u001b[0m\n\u001b[1;33m    a(v = \"알파벳\",\"A\",\"B\")\u001b[0m\n\u001b[1;37m                       ^\u001b[0m\n\u001b[1;31mSyntaxError\u001b[0m\u001b[1;31m:\u001b[0m positional argument follows keyword argument\n"
     ]
    }
   ],
   "source": [
    "a(v = \"알파벳\",\"A\",\"B\")"
   ]
  },
  {
   "cell_type": "markdown",
   "id": "11e126e6-7fc1-43c1-be9b-68d4385d26fa",
   "metadata": {},
   "source": [
    "## ex2. 아래를 만족하는 함수를 작성하라."
   ]
  },
  {
   "cell_type": "markdown",
   "id": "7b1c019d-32de-42aa-ad34-6349dfc4f906",
   "metadata": {},
   "source": [
    "$$\\text{result} = \\sum_{i=1}^{n} x^2$$"
   ]
  },
  {
   "cell_type": "code",
   "execution_count": 19,
   "id": "6acdbc86-60e1-4b09-b04c-0ef737f1361e",
   "metadata": {},
   "outputs": [],
   "source": [
    "def a(*a) :\n",
    "    result = sum([i**2 for i in a])\n",
    "    return result"
   ]
  },
  {
   "cell_type": "code",
   "execution_count": 21,
   "id": "907adae2-e9ac-442a-b6f6-85af8be1fe50",
   "metadata": {},
   "outputs": [
    {
     "data": {
      "text/plain": [
       "55"
      ]
     },
     "execution_count": 21,
     "metadata": {},
     "output_type": "execute_result"
    }
   ],
   "source": [
    "a(1,2,3,4,5)"
   ]
  },
  {
   "cell_type": "code",
   "execution_count": 24,
   "id": "9abb97a2-2c6e-4a0c-b588-124795a536df",
   "metadata": {},
   "outputs": [],
   "source": [
    "lst= [2,10,4]"
   ]
  },
  {
   "cell_type": "code",
   "execution_count": 43,
   "id": "f0fb60cc-cb0d-4a73-8563-cdf7f396eeaf",
   "metadata": {},
   "outputs": [],
   "source": [
    "def solution(sides):\n",
    "    sides.sort()\n",
    "    if sides[-1] < sum(sides[:-1]) :\n",
    "        return 1\n",
    "    else :\n",
    "        return 2"
   ]
  },
  {
   "cell_type": "code",
   "execution_count": 44,
   "id": "1e89a489-5518-4ab1-a776-adb37d72eac6",
   "metadata": {},
   "outputs": [
    {
     "data": {
      "text/plain": [
       "2"
      ]
     },
     "execution_count": 44,
     "metadata": {},
     "output_type": "execute_result"
    }
   ],
   "source": [
    "solution(lst)"
   ]
  },
  {
   "cell_type": "markdown",
   "id": "005a1ba2-f42b-4cc8-b956-173f21506f40",
   "metadata": {},
   "source": [
    "## ex3. 여러 개의 값 return"
   ]
  },
  {
   "cell_type": "markdown",
   "id": "fb5f066b-19d5-4253-88cf-1b43931d46d5",
   "metadata": {},
   "source": [
    "`-` 분수 덧셈후 결과의 기약분수의 분모와 분자를 출력"
   ]
  },
  {
   "cell_type": "code",
   "execution_count": 47,
   "id": "3fa1400d-e207-4f94-a71b-e6450a2fc51e",
   "metadata": {},
   "outputs": [],
   "source": [
    "import math"
   ]
  },
  {
   "cell_type": "code",
   "execution_count": 48,
   "id": "0a10e223-4752-4dfd-9e29-ae9fe2dc092f",
   "metadata": {},
   "outputs": [],
   "source": [
    "def sol(n1,d1,n2,d2) :\n",
    "    d = d1*d2 ## 분모 \n",
    "    n = n1*d2 + n2*d1 ##분자\n",
    "\n",
    "    gcd = math.gcd(d,n) ## 최대공약수\n",
    "\n",
    "    return n//gcd,d//gcd"
   ]
  },
  {
   "cell_type": "code",
   "execution_count": 50,
   "id": "49976993-cebd-4bb8-b9ed-91234113cf51",
   "metadata": {},
   "outputs": [],
   "source": [
    "n,d = sol(1,2,3,4)"
   ]
  },
  {
   "cell_type": "code",
   "execution_count": 54,
   "id": "bed49a0b-f714-4cb4-80a3-699c362fe9f9",
   "metadata": {},
   "outputs": [
    {
     "data": {
      "text/plain": [
       "5"
      ]
     },
     "execution_count": 54,
     "metadata": {},
     "output_type": "execute_result"
    }
   ],
   "source": [
    "n"
   ]
  },
  {
   "cell_type": "code",
   "execution_count": 55,
   "id": "005022c8-b3f4-42c2-adf3-2d4408148310",
   "metadata": {},
   "outputs": [
    {
     "data": {
      "text/plain": [
       "4"
      ]
     },
     "execution_count": 55,
     "metadata": {},
     "output_type": "execute_result"
    }
   ],
   "source": [
    "d"
   ]
  }
 ],
 "metadata": {
  "kernelspec": {
   "display_name": "Python 3 (ipykernel)",
   "language": "python",
   "name": "python3"
  },
  "language_info": {
   "codemirror_mode": {
    "name": "ipython",
    "version": 3
   },
   "file_extension": ".py",
   "mimetype": "text/x-python",
   "name": "python",
   "nbconvert_exporter": "python",
   "pygments_lexer": "ipython3",
   "version": "3.11.4"
  }
 },
 "nbformat": 4,
 "nbformat_minor": 5
}
