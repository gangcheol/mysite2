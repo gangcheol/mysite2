{
 "cells": [
  {
   "cell_type": "raw",
   "id": "e83c2711-bcc7-4c26-9461-6bd4505f974b",
   "metadata": {},
   "source": [
    "---\n",
    "title : \"03. Python Basic (4)\"\n",
    "author : \"GC\"\n",
    "date : \"08/14/23\"\n",
    "categories : [데이터 다루기, python, 제어문]\n",
    "---"
   ]
  },
  {
   "cell_type": "markdown",
   "id": "60242081-74c0-4395-b25f-702fb1e6554d",
   "metadata": {},
   "source": [
    "# import"
   ]
  },
  {
   "cell_type": "code",
   "execution_count": 94,
   "id": "86d4c0d0-2aca-4cc0-94b9-ede008feca15",
   "metadata": {},
   "outputs": [],
   "source": [
    "import numpy as np\n",
    "import pandas as pd\n",
    "import matplotlib.pyplot as plt"
   ]
  },
  {
   "cell_type": "markdown",
   "id": "ae750552-61eb-4703-9a79-2d95bc125b76",
   "metadata": {},
   "source": [
    "# if"
   ]
  },
  {
   "cell_type": "markdown",
   "id": "154d956f-02ef-4b2f-95ec-d2326e474b9d",
   "metadata": {},
   "source": [
    "## ex1. 특정 수보다 크거나 같으면 10 더하기"
   ]
  },
  {
   "cell_type": "code",
   "execution_count": 10,
   "id": "2edb5a1a-4028-46c7-8b1d-38263266b773",
   "metadata": {},
   "outputs": [
    {
     "name": "stdin",
     "output_type": "stream",
     "text": [
      "기준값을 입력하시오 :  70\n",
      "비교값을 입력하시오 :  60\n"
     ]
    },
    {
     "name": "stdout",
     "output_type": "stream",
     "text": [
      "입력값 70보다 작은 숫자입니다.\n"
     ]
    }
   ],
   "source": [
    "v = int(input(\"기준값을 입력하시오 : \"))\n",
    "s = int(input(\"비교값을 입력하시오 : \"))\n",
    "if s>= v:\n",
    "    s1 = s+10\n",
    "    print(f\"입력값 {v}보다 크거나 같은 숫자가 입력되었습니다. {s}에 10을 더한값은 {s1}입니다.\")\n",
    "else:\n",
    "    print(f\"입력값 {v}보다 작은 숫자입니다.\")"
   ]
  },
  {
   "cell_type": "code",
   "execution_count": 15,
   "id": "32c2b4b8-a644-4ab7-a5bc-18fd1ccabb95",
   "metadata": {},
   "outputs": [
    {
     "name": "stdin",
     "output_type": "stream",
     "text": [
      "기준값을 입력하시오 :  70\n",
      "비교값을 입력하시오 :  70\n"
     ]
    },
    {
     "name": "stdout",
     "output_type": "stream",
     "text": [
      "입력값 70보다 크거나 같은 숫자가 입력되었습니다. 70에 10을 더한값은 80입니다.\n"
     ]
    }
   ],
   "source": [
    "v = int(input(\"기준값을 입력하시오 : \"))\n",
    "s = int(input(\"비교값을 입력하시오 : \"))\n",
    "if s>= v:\n",
    "    s1 = s+10\n",
    "    print(f\"입력값 {v}보다 크거나 같은 숫자가 입력되었습니다. {s}에 10을 더한값은 {s1}입니다.\")\n",
    "else:\n",
    "    print(f\"입력값 {v}보다 작은 숫자입니다.\")"
   ]
  },
  {
   "cell_type": "markdown",
   "id": "c00e93c0-3f99-416d-bd3b-042f22304391",
   "metadata": {},
   "source": [
    "## ex2. 리스트 요소 확인"
   ]
  },
  {
   "cell_type": "code",
   "execution_count": 20,
   "id": "1b7862ef-1200-4579-b41c-16b0485d3679",
   "metadata": {},
   "outputs": [
    {
     "name": "stdout",
     "output_type": "stream",
     "text": [
      "[1, 2, 3, 4, 5]\n"
     ]
    }
   ],
   "source": [
    "s = [1,2,3,4,5]\n",
    "if s :\n",
    "    print(s)\n",
    "else :\n",
    "    print(\"요소 없음\")"
   ]
  },
  {
   "cell_type": "code",
   "execution_count": 21,
   "id": "3dc87e66-e734-40da-bf0e-76a2e87eabb5",
   "metadata": {},
   "outputs": [
    {
     "name": "stdout",
     "output_type": "stream",
     "text": [
      "요소 없음\n"
     ]
    }
   ],
   "source": [
    "s = []\n",
    "if s :\n",
    "    print(s)\n",
    "else :\n",
    "    print(\"요소 없음\")"
   ]
  },
  {
   "cell_type": "code",
   "execution_count": 22,
   "id": "d27423ea-edb1-4c03-92af-a2b5b382ce18",
   "metadata": {},
   "outputs": [],
   "source": [
    "s = [1,2,3,4,5]\n",
    "if s :\n",
    "    pass ## 나중에 먼가 내가 조건문일 때 정의를 남기려고 `pass`!\n",
    "else :\n",
    "    print(\"요소 없음\")"
   ]
  },
  {
   "cell_type": "markdown",
   "id": "57c81ca3-4008-41dd-a5aa-f1233f17ece5",
   "metadata": {},
   "source": [
    "***"
   ]
  },
  {
   "cell_type": "markdown",
   "id": "d8dedad9-db2e-4b9d-be96-185d6d3ec0d2",
   "metadata": {},
   "source": [
    "# if, elif, else"
   ]
  },
  {
   "cell_type": "markdown",
   "id": "562c08d6-6094-4fe6-8faa-bd626a598491",
   "metadata": {},
   "source": [
    "## ex1. 학점"
   ]
  },
  {
   "cell_type": "code",
   "execution_count": 23,
   "id": "a14f4533-df69-418c-95ec-b2871590bb08",
   "metadata": {},
   "outputs": [],
   "source": [
    "import numpy as np"
   ]
  },
  {
   "cell_type": "code",
   "execution_count": 35,
   "id": "f8e169f6-9d4e-4781-8a39-ee7fd323de38",
   "metadata": {},
   "outputs": [],
   "source": [
    "s = list(range(0,100,10))"
   ]
  },
  {
   "cell_type": "code",
   "execution_count": 36,
   "id": "4bb3151f-e62f-4d7c-b509-dc585a1c26c7",
   "metadata": {},
   "outputs": [],
   "source": [
    "def grade(s) :\n",
    "    if s >= 90:\n",
    "        return \"A\"\n",
    "    elif s>=80:\n",
    "        return \"B\"\n",
    "    elif s>=70:\n",
    "        return \"C\"\n",
    "    elif s>=60:\n",
    "        return \"D\"\n",
    "    else :\n",
    "        return \"F\"        "
   ]
  },
  {
   "cell_type": "code",
   "execution_count": 38,
   "id": "4e76c704-659b-4d1f-9d49-a667ab65a01f",
   "metadata": {},
   "outputs": [
    {
     "data": {
      "text/plain": [
       "[0, 10, 20, 30, 40, 50, 60, 70, 80, 90]"
      ]
     },
     "execution_count": 38,
     "metadata": {},
     "output_type": "execute_result"
    }
   ],
   "source": [
    "s"
   ]
  },
  {
   "cell_type": "code",
   "execution_count": 39,
   "id": "aa5df29d-4e06-4053-8b6e-9db7af31b8c2",
   "metadata": {},
   "outputs": [
    {
     "data": {
      "text/plain": [
       "['F', 'F', 'F', 'F', 'F', 'F', 'D', 'C', 'B', 'A']"
      ]
     },
     "execution_count": 39,
     "metadata": {},
     "output_type": "execute_result"
    }
   ],
   "source": [
    "[grade(i) for i in s]"
   ]
  },
  {
   "cell_type": "markdown",
   "id": "f6713248-a8f6-4320-a4f6-c52ab846a874",
   "metadata": {},
   "source": [
    "## ex2. 아래 인코딩을 수행"
   ]
  },
  {
   "cell_type": "markdown",
   "id": "41c7e997-dd4c-4a0c-8c44-2de5736dbaa5",
   "metadata": {},
   "source": [
    "|숫자|요일|\n",
    "|:---:|:---:|\n",
    "|0|월요일|\n",
    "|1|화요일|\n",
    "|2|수요일|\n",
    "|3|목요일|\n",
    "|4|금요일|\n",
    "|5|토요일|\n",
    "|6|일요일|"
   ]
  },
  {
   "cell_type": "code",
   "execution_count": 50,
   "id": "1880ce30-5e4d-4c86-82a5-d22b346460e7",
   "metadata": {},
   "outputs": [],
   "source": [
    "num = list(np.random.randint(0,7,20))"
   ]
  },
  {
   "cell_type": "code",
   "execution_count": 52,
   "id": "cef9558a-5411-462c-ac26-f78712e7f819",
   "metadata": {},
   "outputs": [],
   "source": [
    "def days(n) :\n",
    "    if n == 0 :\n",
    "        return \"월\"\n",
    "    elif n == 1 :\n",
    "        return \"화\"\n",
    "    elif n == 2 :\n",
    "        return \"수\"\n",
    "    elif n == 3 :\n",
    "        return \"목\"\n",
    "    elif n == 4 :\n",
    "        return \"금\"\n",
    "    elif n == 5 :\n",
    "        return \"토\"\n",
    "    else :\n",
    "        return \"일\""
   ]
  },
  {
   "cell_type": "code",
   "execution_count": 56,
   "id": "42dafb7e-989b-4d0f-9825-26a0fbf2f045",
   "metadata": {},
   "outputs": [],
   "source": [
    "week = [days(n) for n in num]"
   ]
  },
  {
   "cell_type": "code",
   "execution_count": 57,
   "id": "e642f423-f16f-48c0-a76b-6c1735dcea46",
   "metadata": {},
   "outputs": [
    {
     "name": "stdout",
     "output_type": "stream",
     "text": [
      "['월', '일', '토', '수', '월', '금', '일', '목', '월', '월', '토', '금', '일', '수', '화', '월', '수', '목', '일', '일']\n"
     ]
    }
   ],
   "source": [
    "print(week)"
   ]
  },
  {
   "cell_type": "markdown",
   "id": "dc39ff91-7926-4bfb-8238-10f41147bc78",
   "metadata": {},
   "source": [
    "## ex3. 60점 이하 과락"
   ]
  },
  {
   "cell_type": "code",
   "execution_count": 71,
   "id": "6a09cdeb-8f42-4a8d-b9cf-4efc1366d7e9",
   "metadata": {},
   "outputs": [],
   "source": [
    "s = [62,59,70]"
   ]
  },
  {
   "cell_type": "code",
   "execution_count": 76,
   "id": "b7d0de8c-5efa-4a81-baea-fc5c3c56d3b3",
   "metadata": {},
   "outputs": [
    {
     "name": "stdout",
     "output_type": "stream",
     "text": [
      "62\n",
      "59 과락\n",
      "70\n"
     ]
    }
   ],
   "source": [
    "for i in s :\n",
    "    if i <60 :\n",
    "        print (i,\"과락\")\n",
    "    else :\n",
    "        print(i)"
   ]
  },
  {
   "cell_type": "markdown",
   "id": "0c5cb82d-4d06-4ad3-9926-ba7014039be6",
   "metadata": {},
   "source": [
    "***"
   ]
  },
  {
   "cell_type": "markdown",
   "id": "de0ebcd2-8e82-4c46-8080-4bb95532330b",
   "metadata": {},
   "source": [
    "***"
   ]
  },
  {
   "cell_type": "markdown",
   "id": "96a7a396-b1a7-491e-a34b-ba707778efc4",
   "metadata": {},
   "source": [
    "# for문"
   ]
  },
  {
   "cell_type": "markdown",
   "id": "cd565c54-b096-43d1-a9fe-960be2254190",
   "metadata": {},
   "source": [
    "## ex1) for + if $\\to$ 짝수만 출력"
   ]
  },
  {
   "cell_type": "code",
   "execution_count": 80,
   "id": "804d488d-75f0-45a8-98e6-80d550ff2df6",
   "metadata": {},
   "outputs": [
    {
     "data": {
      "text/plain": [
       "[37, 10, 35, 31, 70, 28, 40, 74, 69, 55]"
      ]
     },
     "execution_count": 80,
     "metadata": {},
     "output_type": "execute_result"
    }
   ],
   "source": [
    "s = list(np.random.randint(1,100,size=10))\n",
    "s"
   ]
  },
  {
   "cell_type": "code",
   "execution_count": 82,
   "id": "dec1c9d5-0072-4758-bf12-bb1c4b238d00",
   "metadata": {},
   "outputs": [],
   "source": [
    "s2 = [i for i in s if i%2==0]"
   ]
  },
  {
   "cell_type": "code",
   "execution_count": 93,
   "id": "1971991b-e388-4df8-89ab-32987079043e",
   "metadata": {},
   "outputs": [
    {
     "name": "stdout",
     "output_type": "stream",
     "text": [
      "짝수 list는 [10, 70, 28, 40, 74], 합은 222\n"
     ]
    }
   ],
   "source": [
    "print(f\"짝수 list는 {s2}, 합은 {sum(s2)}\")"
   ]
  },
  {
   "cell_type": "markdown",
   "id": "41992ca8-e982-4f08-a9fc-5ccb6dd02069",
   "metadata": {},
   "source": [
    "## ex2) 리스트안에 원소 출력"
   ]
  },
  {
   "cell_type": "code",
   "execution_count": 85,
   "id": "647503a5-1a06-4e27-8fa9-5032bbf8212e",
   "metadata": {},
   "outputs": [],
   "source": [
    "lst = [1,2, \"강철\",True, 1+2j]"
   ]
  },
  {
   "cell_type": "code",
   "execution_count": 86,
   "id": "174a71d0-05cb-4777-8331-d9033c7f898e",
   "metadata": {},
   "outputs": [
    {
     "data": {
      "text/plain": [
       "[1, 2, '강철', True, (1+2j)]"
      ]
     },
     "execution_count": 86,
     "metadata": {},
     "output_type": "execute_result"
    }
   ],
   "source": [
    "[i for i in lst]"
   ]
  },
  {
   "cell_type": "markdown",
   "id": "5e3801c6-8846-42da-a601-13b539262801",
   "metadata": {},
   "source": [
    "## ex3) 문자열 리스트 출력"
   ]
  },
  {
   "cell_type": "code",
   "execution_count": 98,
   "id": "f8debd73-34bb-4af7-a92c-e98e851df820",
   "metadata": {},
   "outputs": [
    {
     "name": "stdout",
     "output_type": "stream",
     "text": [
      "a\n",
      "b\n",
      "c\n"
     ]
    }
   ],
   "source": [
    "l = list(\"abc\")\n",
    "\n",
    "for i in l:\n",
    "    print(i)"
   ]
  },
  {
   "cell_type": "markdown",
   "id": "f1a3a27c-bb6c-47ef-9bb2-b7c445dfdd82",
   "metadata": {},
   "source": [
    "## ex4) 구구단 구현"
   ]
  },
  {
   "cell_type": "code",
   "execution_count": 103,
   "id": "351e7fb8-5c0e-4b9d-bdc6-a4d071e6d8a9",
   "metadata": {},
   "outputs": [],
   "source": [
    "lst = list(range(2,10))"
   ]
  },
  {
   "cell_type": "code",
   "execution_count": 104,
   "id": "cb3c4118-7fcb-4921-8f78-b5cc0d3e00b0",
   "metadata": {},
   "outputs": [
    {
     "name": "stdout",
     "output_type": "stream",
     "text": [
      "2 x 1 = 2\n",
      "2 x 2 = 4\n",
      "2 x 3 = 6\n",
      "2 x 4 = 8\n",
      "2 x 5 = 10\n",
      "2 x 6 = 12\n",
      "2 x 7 = 14\n",
      "2 x 8 = 16\n",
      "2 x 9 = 18\n",
      "3 x 1 = 3\n",
      "3 x 2 = 6\n",
      "3 x 3 = 9\n",
      "3 x 4 = 12\n",
      "3 x 5 = 15\n",
      "3 x 6 = 18\n",
      "3 x 7 = 21\n",
      "3 x 8 = 24\n",
      "3 x 9 = 27\n",
      "4 x 1 = 4\n",
      "4 x 2 = 8\n",
      "4 x 3 = 12\n",
      "4 x 4 = 16\n",
      "4 x 5 = 20\n",
      "4 x 6 = 24\n",
      "4 x 7 = 28\n",
      "4 x 8 = 32\n",
      "4 x 9 = 36\n",
      "5 x 1 = 5\n",
      "5 x 2 = 10\n",
      "5 x 3 = 15\n",
      "5 x 4 = 20\n",
      "5 x 5 = 25\n",
      "5 x 6 = 30\n",
      "5 x 7 = 35\n",
      "5 x 8 = 40\n",
      "5 x 9 = 45\n",
      "6 x 1 = 6\n",
      "6 x 2 = 12\n",
      "6 x 3 = 18\n",
      "6 x 4 = 24\n",
      "6 x 5 = 30\n",
      "6 x 6 = 36\n",
      "6 x 7 = 42\n",
      "6 x 8 = 48\n",
      "6 x 9 = 54\n",
      "7 x 1 = 7\n",
      "7 x 2 = 14\n",
      "7 x 3 = 21\n",
      "7 x 4 = 28\n",
      "7 x 5 = 35\n",
      "7 x 6 = 42\n",
      "7 x 7 = 49\n",
      "7 x 8 = 56\n",
      "7 x 9 = 63\n",
      "8 x 1 = 8\n",
      "8 x 2 = 16\n",
      "8 x 3 = 24\n",
      "8 x 4 = 32\n",
      "8 x 5 = 40\n",
      "8 x 6 = 48\n",
      "8 x 7 = 56\n",
      "8 x 8 = 64\n",
      "8 x 9 = 72\n",
      "9 x 1 = 9\n",
      "9 x 2 = 18\n",
      "9 x 3 = 27\n",
      "9 x 4 = 36\n",
      "9 x 5 = 45\n",
      "9 x 6 = 54\n",
      "9 x 7 = 63\n",
      "9 x 8 = 72\n",
      "9 x 9 = 81\n"
     ]
    }
   ],
   "source": [
    "for i in lst :\n",
    "    for j in range(1,10) : \n",
    "        print (f\"{i} x {j} = {i*j}\")"
   ]
  },
  {
   "cell_type": "markdown",
   "id": "12faa138-cfdd-4d66-ba0e-ad442d6646e6",
   "metadata": {},
   "source": [
    "## ex5) enumerate $\\to$ 짝수번째 인덱스만 출력"
   ]
  },
  {
   "cell_type": "markdown",
   "id": "9a39e850-33ad-4d22-ad6f-bc16f1f99be0",
   "metadata": {},
   "source": [
    "`-` 컨테이너 자료형(문자열(str), 튜플(tuple), 리스트(list), 딕셔터리(dictionary), 집합(set))을 입력받아, 순번과 요소를 포함하는 오브젝트를 출력"
   ]
  },
  {
   "cell_type": "code",
   "execution_count": 112,
   "id": "78ce433e-4e62-4e3d-b8be-f6b3ad1521fa",
   "metadata": {},
   "outputs": [],
   "source": [
    "lst = list(\"abcdefghi\")"
   ]
  },
  {
   "cell_type": "code",
   "execution_count": 113,
   "id": "312972e1-ec79-4f09-8579-27f4e709248b",
   "metadata": {},
   "outputs": [
    {
     "data": {
      "text/plain": [
       "[(0, 'a'),\n",
       " (1, 'b'),\n",
       " (2, 'c'),\n",
       " (3, 'd'),\n",
       " (4, 'e'),\n",
       " (5, 'f'),\n",
       " (6, 'g'),\n",
       " (7, 'h'),\n",
       " (8, 'i')]"
      ]
     },
     "execution_count": 113,
     "metadata": {},
     "output_type": "execute_result"
    }
   ],
   "source": [
    "list(enumerate(lst))"
   ]
  },
  {
   "cell_type": "code",
   "execution_count": 115,
   "id": "de795112-173f-4260-b19d-43588dd2ff89",
   "metadata": {},
   "outputs": [
    {
     "name": "stdout",
     "output_type": "stream",
     "text": [
      "index : 0, str = a\n",
      "index : 2, str = c\n",
      "index : 4, str = e\n",
      "index : 6, str = g\n",
      "index : 8, str = i\n"
     ]
    }
   ],
   "source": [
    "for i,j in enumerate(lst) :\n",
    "    if i%2==0 :\n",
    "        print(f\"index : {i}, str = {j}\")"
   ]
  },
  {
   "cell_type": "markdown",
   "id": "96069320-fa49-473a-9df7-49242380d7de",
   "metadata": {},
   "source": [
    "## ex6) 여러개의 값을 입력받아 짝수들의 제곱을 구하기"
   ]
  },
  {
   "cell_type": "code",
   "execution_count": 132,
   "id": "163b1bc5-474f-48c1-b9b5-efb0e1f4c240",
   "metadata": {},
   "outputs": [
    {
     "name": "stdin",
     "output_type": "stream",
     "text": [
      "숫자를 입력하세요 :  1 2 3 4 5 6\n"
     ]
    },
    {
     "data": {
      "text/plain": [
       "[4, 16, 36]"
      ]
     },
     "execution_count": 132,
     "metadata": {},
     "output_type": "execute_result"
    }
   ],
   "source": [
    "num_list = list(map(int, input(\"숫자를 입력하세요 : \").split()))\n",
    "\n",
    "\n",
    "s_list = [i**2 for i in num_list if i % 2 == 0]\n",
    "\n",
    "s_list"
   ]
  },
  {
   "cell_type": "markdown",
   "id": "738e7f85-d0b9-4750-8e79-18f502a967c2",
   "metadata": {},
   "source": [
    "# for + dict"
   ]
  },
  {
   "cell_type": "markdown",
   "id": "c04645ab-b8d2-4dea-bcf3-78977623fbce",
   "metadata": {},
   "source": [
    "## ex1) 기본 반복문"
   ]
  },
  {
   "cell_type": "code",
   "execution_count": 145,
   "id": "9338f362-ea63-431b-a025-e90a99dce187",
   "metadata": {},
   "outputs": [
    {
     "data": {
      "text/plain": [
       "dict_items([('a', 100), ('b', 55), ('c', 74), ('d', 87)])"
      ]
     },
     "execution_count": 145,
     "metadata": {},
     "output_type": "execute_result"
    }
   ],
   "source": [
    "s = dict(a=100,b=55,c=74,d=87)\n",
    "s.items()"
   ]
  },
  {
   "cell_type": "code",
   "execution_count": 146,
   "id": "4e3c3898-da05-410f-8bd7-40ce63740060",
   "metadata": {},
   "outputs": [
    {
     "name": "stdout",
     "output_type": "stream",
     "text": [
      "a 100\n",
      "b 55\n",
      "c 74\n",
      "d 87\n"
     ]
    }
   ],
   "source": [
    "for i,j in s.items() :\n",
    "    print(i,j)"
   ]
  },
  {
   "cell_type": "markdown",
   "id": "f76cc243-e00c-477b-8fcf-f353786ad114",
   "metadata": {},
   "source": [
    "## ex2) 기준값을 입력받은후 특정값보다 큰 key,value를 추출"
   ]
  },
  {
   "cell_type": "code",
   "execution_count": 147,
   "id": "59198abb-c0ca-4d49-8d91-e44fb3c5a364",
   "metadata": {},
   "outputs": [
    {
     "name": "stdin",
     "output_type": "stream",
     "text": [
      "숫자를 입력하시오 :  60\n"
     ]
    },
    {
     "name": "stdout",
     "output_type": "stream",
     "text": [
      "a 100\n",
      "c 74\n",
      "d 87\n"
     ]
    }
   ],
   "source": [
    "num = int(input(\"숫자를 입력하시오 : \"))\n",
    "\n",
    "for i,j in s.items() :\n",
    "    if j>num :\n",
    "        print (i,j)"
   ]
  },
  {
   "cell_type": "markdown",
   "id": "a545c970-fbdb-4158-86b5-9a29b1fe29ca",
   "metadata": {},
   "source": [
    "## ex3) 합구하기"
   ]
  },
  {
   "cell_type": "code",
   "execution_count": 150,
   "id": "e90f0b9d-f192-432e-85f5-9e918d709498",
   "metadata": {},
   "outputs": [],
   "source": [
    "s = {\"a\" : [1,2,3,4],\n",
    "     \"b\" : [5,6,7,8],\n",
    "     \"c\" : [6,7,8,9]}"
   ]
  },
  {
   "cell_type": "code",
   "execution_count": 152,
   "id": "191d6376-dd3b-47fa-a26e-0a6542d615e3",
   "metadata": {},
   "outputs": [
    {
     "data": {
      "text/plain": [
       "{'a': 10, 'b': 26, 'c': 30}"
      ]
     },
     "execution_count": 152,
     "metadata": {},
     "output_type": "execute_result"
    }
   ],
   "source": [
    "{i : sum(j) for i,j in s.items()}"
   ]
  },
  {
   "cell_type": "markdown",
   "id": "02d9af2a-139b-47da-9568-432c22545926",
   "metadata": {},
   "source": [
    "***"
   ]
  },
  {
   "cell_type": "markdown",
   "id": "c5d89bea-5fd6-4ea7-a248-48ea7ef53ce7",
   "metadata": {},
   "source": [
    "# while"
   ]
  },
  {
   "cell_type": "markdown",
   "id": "162a6db7-180a-474f-a5b0-e02577d18ebc",
   "metadata": {},
   "source": [
    "`-` 내 생각 : 먼가 위험하니(무한루프 등) 살면서 거의 안 쓸 것 같다."
   ]
  },
  {
   "cell_type": "markdown",
   "id": "2aeca733-42ca-4b25-9f63-43dc6437df1e",
   "metadata": {},
   "source": [
    "# ex1. 기본 출력"
   ]
  },
  {
   "cell_type": "code",
   "execution_count": 158,
   "id": "45e7c916-3592-4b73-899a-efac0c312f0d",
   "metadata": {},
   "outputs": [
    {
     "name": "stdout",
     "output_type": "stream",
     "text": [
      "a\n",
      "b\n",
      "c\n"
     ]
    }
   ],
   "source": [
    "lst = list(\"abc\")\n",
    "\n",
    "i = 0\n",
    "while i < len(lst) :\n",
    "    print(lst[i])\n",
    "    i = i+1"
   ]
  },
  {
   "cell_type": "markdown",
   "id": "267782d7-6231-45ad-a08f-bc29841ce3cd",
   "metadata": {},
   "source": [
    "## ex2. break"
   ]
  },
  {
   "cell_type": "markdown",
   "id": "2c30eed4-a889-4a3b-b61a-20684d722398",
   "metadata": {},
   "source": [
    "`-` 짝수합 구하기"
   ]
  },
  {
   "cell_type": "code",
   "execution_count": 164,
   "id": "fc2dfd90-4a5c-492e-9305-ff1250101a03",
   "metadata": {},
   "outputs": [],
   "source": [
    "s,i =0,0\n",
    "\n",
    "while True :\n",
    "    i+=1\n",
    "    if i>100 :\n",
    "        break ## 100d을 넘어가면 break\n",
    "    if i%2==0 :\n",
    "        s += i\n",
    "    else :\n",
    "        continue ## 다시 처음으로"
   ]
  }
 ],
 "metadata": {
  "kernelspec": {
   "display_name": "Python 3 (ipykernel)",
   "language": "python",
   "name": "python3"
  },
  "language_info": {
   "codemirror_mode": {
    "name": "ipython",
    "version": 3
   },
   "file_extension": ".py",
   "mimetype": "text/x-python",
   "name": "python",
   "nbconvert_exporter": "python",
   "pygments_lexer": "ipython3",
   "version": "3.11.4"
  }
 },
 "nbformat": 4,
 "nbformat_minor": 5
}
