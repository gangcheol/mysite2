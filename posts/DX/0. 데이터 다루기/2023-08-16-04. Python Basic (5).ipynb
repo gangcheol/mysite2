{
 "cells": [
  {
   "cell_type": "raw",
   "id": "e5f3d736-689d-4424-b18d-d1e03b1a648a",
   "metadata": {},
   "source": [
    "---\n",
    "title : \"04. Python Basic (5)\"\n",
    "author : \"GC\"\n",
    "date : \"08/16/23\"\n",
    "categories : [python, 데이터 다루기, 정규표현식]\n",
    "---"
   ]
  },
  {
   "cell_type": "markdown",
   "id": "4efc9ce9-a739-4dc1-a728-a0babc489cea",
   "metadata": {},
   "source": [
    "# 함수"
   ]
  },
  {
   "cell_type": "markdown",
   "id": "1cd80465-6b1f-46dc-82a5-7996350a8308",
   "metadata": {},
   "source": [
    "## ex1. 여러개 인수를 입력받아 처리하는 함수"
   ]
  },
  {
   "cell_type": "markdown",
   "id": "2b19204a-a715-4310-9a8f-f64d31206d44",
   "metadata": {},
   "source": [
    "* `*`은 여러개의 인수를 튜플로 입력받아 처리해주는 메소드이다."
   ]
  },
  {
   "cell_type": "code",
   "execution_count": 7,
   "id": "cf2e8882-3fd5-4c77-a43b-d071171d4ad4",
   "metadata": {},
   "outputs": [],
   "source": [
    "def a(*alpha) :\n",
    "    for a in alpha : \n",
    "        print(f\"입력된 문자는 {a}입니다.\")"
   ]
  },
  {
   "cell_type": "code",
   "execution_count": 8,
   "id": "95893727-b427-4bd5-bc42-e66d0cbb360d",
   "metadata": {},
   "outputs": [
    {
     "name": "stdout",
     "output_type": "stream",
     "text": [
      "입력된 문자는 A입니다.\n",
      "입력된 문자는 B입니다.\n"
     ]
    }
   ],
   "source": [
    "a(\"A\",\"B\")"
   ]
  },
  {
   "cell_type": "markdown",
   "id": "71a3b35a-5669-4908-95c2-c4d708775ec5",
   "metadata": {},
   "source": [
    "`-` 또한, 임의의 매개변수를 여러개 전달받고, 고정변수를 따로 전달받아 아래와 같이 작성할 수 있다."
   ]
  },
  {
   "cell_type": "code",
   "execution_count": 10,
   "id": "475f0174-cc7e-4733-a25f-94fcb2d9d778",
   "metadata": {},
   "outputs": [],
   "source": [
    "def a(*alpha,v) :\n",
    "    for a in alpha : \n",
    "        print(f\"입력된 문자는 {a}이며 종류는 {v}입니다.\")"
   ]
  },
  {
   "cell_type": "code",
   "execution_count": 11,
   "id": "eda7305b-0d91-4c87-8277-a23af7ef7af9",
   "metadata": {},
   "outputs": [
    {
     "name": "stdout",
     "output_type": "stream",
     "text": [
      "입력된 문자는 A이며 종류는 알파벳입니다.\n",
      "입력된 문자는 B이며 종류는 알파벳입니다.\n"
     ]
    }
   ],
   "source": [
    "a(\"A\",\"B\",v = \"알파벳\")"
   ]
  },
  {
   "cell_type": "markdown",
   "id": "38ed5abd-7970-41f1-bed5-baf05416857a",
   "metadata": {},
   "source": [
    "* 단 고정값은 맨뒤에 전달해주어야 한다."
   ]
  },
  {
   "cell_type": "code",
   "execution_count": 17,
   "id": "2c9f1040-2aa5-4509-bfaf-2d395ac7647c",
   "metadata": {},
   "outputs": [
    {
     "ename": "SyntaxError",
     "evalue": "positional argument follows keyword argument (1027399463.py, line 1)",
     "output_type": "error",
     "traceback": [
      "\u001b[1;36m  Cell \u001b[1;32mIn[17], line 1\u001b[1;36m\u001b[0m\n\u001b[1;33m    a(v = \"알파벳\",\"A\",\"B\")\u001b[0m\n\u001b[1;37m                       ^\u001b[0m\n\u001b[1;31mSyntaxError\u001b[0m\u001b[1;31m:\u001b[0m positional argument follows keyword argument\n"
     ]
    }
   ],
   "source": [
    "a(v = \"알파벳\",\"A\",\"B\")"
   ]
  },
  {
   "cell_type": "markdown",
   "id": "11e126e6-7fc1-43c1-be9b-68d4385d26fa",
   "metadata": {},
   "source": [
    "## ex2. 아래를 만족하는 함수를 작성하라."
   ]
  },
  {
   "cell_type": "markdown",
   "id": "7b1c019d-32de-42aa-ad34-6349dfc4f906",
   "metadata": {},
   "source": [
    "$$\\text{result} = \\sum_{i=1}^{n} x^2$$"
   ]
  },
  {
   "cell_type": "code",
   "execution_count": 19,
   "id": "6acdbc86-60e1-4b09-b04c-0ef737f1361e",
   "metadata": {},
   "outputs": [],
   "source": [
    "def a(*a) :\n",
    "    result = sum([i**2 for i in a])\n",
    "    return result"
   ]
  },
  {
   "cell_type": "code",
   "execution_count": 21,
   "id": "907adae2-e9ac-442a-b6f6-85af8be1fe50",
   "metadata": {},
   "outputs": [
    {
     "data": {
      "text/plain": [
       "55"
      ]
     },
     "execution_count": 21,
     "metadata": {},
     "output_type": "execute_result"
    }
   ],
   "source": [
    "a(1,2,3,4,5)"
   ]
  },
  {
   "cell_type": "code",
   "execution_count": 24,
   "id": "9abb97a2-2c6e-4a0c-b588-124795a536df",
   "metadata": {},
   "outputs": [],
   "source": [
    "lst= [2,10,4]"
   ]
  },
  {
   "cell_type": "code",
   "execution_count": 43,
   "id": "f0fb60cc-cb0d-4a73-8563-cdf7f396eeaf",
   "metadata": {},
   "outputs": [],
   "source": [
    "def solution(sides):\n",
    "    sides.sort()\n",
    "    if sides[-1] < sum(sides[:-1]) :\n",
    "        return 1\n",
    "    else :\n",
    "        return 2"
   ]
  },
  {
   "cell_type": "code",
   "execution_count": 44,
   "id": "1e89a489-5518-4ab1-a776-adb37d72eac6",
   "metadata": {},
   "outputs": [
    {
     "data": {
      "text/plain": [
       "2"
      ]
     },
     "execution_count": 44,
     "metadata": {},
     "output_type": "execute_result"
    }
   ],
   "source": [
    "solution(lst)"
   ]
  },
  {
   "cell_type": "markdown",
   "id": "005a1ba2-f42b-4cc8-b956-173f21506f40",
   "metadata": {},
   "source": [
    "## ex3. 여러 개의 값 return"
   ]
  },
  {
   "cell_type": "markdown",
   "id": "fb5f066b-19d5-4253-88cf-1b43931d46d5",
   "metadata": {},
   "source": [
    "`-` 분수 덧셈후 결과의 기약분수의 분모와 분자를 출력"
   ]
  },
  {
   "cell_type": "code",
   "execution_count": 47,
   "id": "3fa1400d-e207-4f94-a71b-e6450a2fc51e",
   "metadata": {},
   "outputs": [],
   "source": [
    "import math"
   ]
  },
  {
   "cell_type": "code",
   "execution_count": 48,
   "id": "0a10e223-4752-4dfd-9e29-ae9fe2dc092f",
   "metadata": {},
   "outputs": [],
   "source": [
    "def sol(n1,d1,n2,d2) :\n",
    "    d = d1*d2 ## 분모 \n",
    "    n = n1*d2 + n2*d1 ##분자\n",
    "\n",
    "    gcd = math.gcd(d,n) ## 최대공약수\n",
    "\n",
    "    return n//gcd,d//gcd"
   ]
  },
  {
   "cell_type": "code",
   "execution_count": 50,
   "id": "49976993-cebd-4bb8-b9ed-91234113cf51",
   "metadata": {},
   "outputs": [],
   "source": [
    "n,d = sol(1,2,3,4)"
   ]
  },
  {
   "cell_type": "code",
   "execution_count": 54,
   "id": "bed49a0b-f714-4cb4-80a3-699c362fe9f9",
   "metadata": {},
   "outputs": [
    {
     "data": {
      "text/plain": [
       "5"
      ]
     },
     "execution_count": 54,
     "metadata": {},
     "output_type": "execute_result"
    }
   ],
   "source": [
    "n"
   ]
  },
  {
   "cell_type": "code",
   "execution_count": 55,
   "id": "005022c8-b3f4-42c2-adf3-2d4408148310",
   "metadata": {},
   "outputs": [
    {
     "data": {
      "text/plain": [
       "4"
      ]
     },
     "execution_count": 55,
     "metadata": {},
     "output_type": "execute_result"
    }
   ],
   "source": [
    "d"
   ]
  },
  {
   "cell_type": "markdown",
   "id": "4d7fe2e5-92d9-49e5-87a1-cc88c011cd23",
   "metadata": {},
   "source": [
    "## 내장함수"
   ]
  },
  {
   "cell_type": "markdown",
   "id": "4ff80d0b-fa21-457a-ac55-b1fb98516bd8",
   "metadata": {},
   "source": [
    "### `abs` : 절대값 return"
   ]
  },
  {
   "cell_type": "code",
   "execution_count": 56,
   "id": "6b43fe54-d3f3-4e15-bd24-1f8e211c562e",
   "metadata": {},
   "outputs": [
    {
     "data": {
      "text/plain": [
       "True"
      ]
     },
     "execution_count": 56,
     "metadata": {},
     "output_type": "execute_result"
    }
   ],
   "source": [
    "a = 1\n",
    "b = -a\n",
    "\n",
    "a == abs(b)"
   ]
  },
  {
   "cell_type": "markdown",
   "id": "5a64ff4e-0856-4063-8b62-7908663f69e6",
   "metadata": {},
   "source": [
    "### `all` : `x`의 요소가 모두 참이면 `True`"
   ]
  },
  {
   "cell_type": "code",
   "execution_count": 65,
   "id": "3cb3ff6b-8259-4c82-ac59-8a54d579f3e0",
   "metadata": {},
   "outputs": [
    {
     "data": {
      "text/plain": [
       "True"
      ]
     },
     "execution_count": 65,
     "metadata": {},
     "output_type": "execute_result"
    }
   ],
   "source": [
    "a = list(\"abcd\")\n",
    "\n",
    "all(a)"
   ]
  },
  {
   "cell_type": "markdown",
   "id": "52568cff-4986-4bc8-9948-035ab8ba7214",
   "metadata": {},
   "source": [
    "`-` 0은 `False`와 같음"
   ]
  },
  {
   "cell_type": "code",
   "execution_count": 68,
   "id": "7e996bd9-587d-40c7-a0af-20823a84ef88",
   "metadata": {},
   "outputs": [
    {
     "data": {
      "text/plain": [
       "True"
      ]
     },
     "execution_count": 68,
     "metadata": {},
     "output_type": "execute_result"
    }
   ],
   "source": [
    "0 == False"
   ]
  },
  {
   "cell_type": "code",
   "execution_count": 66,
   "id": "3206c2a8-5c60-43c7-84db-634d4b8e9118",
   "metadata": {},
   "outputs": [
    {
     "data": {
      "text/plain": [
       "['a', 'b', 'c', 'd', 0]"
      ]
     },
     "execution_count": 66,
     "metadata": {},
     "output_type": "execute_result"
    }
   ],
   "source": [
    "a.append(0)\n",
    "a"
   ]
  },
  {
   "cell_type": "code",
   "execution_count": 67,
   "id": "1acfefdb-5d4a-4b96-9c1d-9fbabcf541b3",
   "metadata": {},
   "outputs": [
    {
     "data": {
      "text/plain": [
       "False"
      ]
     },
     "execution_count": 67,
     "metadata": {},
     "output_type": "execute_result"
    }
   ],
   "source": [
    "all(a)"
   ]
  },
  {
   "cell_type": "markdown",
   "id": "10be601c-eac7-4d3f-b063-4ea70863ea76",
   "metadata": {},
   "source": [
    "### `any` : 요소 중 하나라도 참이면 `True`"
   ]
  },
  {
   "cell_type": "code",
   "execution_count": 70,
   "id": "4f69afbb-a41f-48a3-9d22-02610283f27a",
   "metadata": {},
   "outputs": [
    {
     "data": {
      "text/plain": [
       "['a', 'b', 'c', 'd', 0]"
      ]
     },
     "execution_count": 70,
     "metadata": {},
     "output_type": "execute_result"
    }
   ],
   "source": [
    "a"
   ]
  },
  {
   "cell_type": "code",
   "execution_count": 71,
   "id": "5dd769b4-1814-44a8-8bd7-2dadf29f97ee",
   "metadata": {},
   "outputs": [
    {
     "data": {
      "text/plain": [
       "True"
      ]
     },
     "execution_count": 71,
     "metadata": {},
     "output_type": "execute_result"
    }
   ],
   "source": [
    "any(a)"
   ]
  },
  {
   "cell_type": "markdown",
   "id": "36983e6b-3bfd-4ecc-a07a-151dc971a75a",
   "metadata": {},
   "source": [
    "### `dir` : 객체 x가 가지고 있는 변수 및 메소드 목록 return"
   ]
  },
  {
   "cell_type": "code",
   "execution_count": 73,
   "id": "a4085ce5-2cf1-46fb-8b1a-8b85284db586",
   "metadata": {},
   "outputs": [
    {
     "data": {
      "text/plain": [
       "['a', 'b', 'c', 'd', 0]"
      ]
     },
     "execution_count": 73,
     "metadata": {},
     "output_type": "execute_result"
    }
   ],
   "source": [
    "a"
   ]
  },
  {
   "cell_type": "code",
   "execution_count": 74,
   "id": "b5f85b53-dfab-4840-b42a-0326b0091a2f",
   "metadata": {},
   "outputs": [
    {
     "data": {
      "text/plain": [
       "['__add__',\n",
       " '__class__',\n",
       " '__class_getitem__',\n",
       " '__contains__',\n",
       " '__delattr__',\n",
       " '__delitem__',\n",
       " '__dir__',\n",
       " '__doc__',\n",
       " '__eq__',\n",
       " '__format__',\n",
       " '__ge__',\n",
       " '__getattribute__',\n",
       " '__getitem__',\n",
       " '__getstate__',\n",
       " '__gt__',\n",
       " '__hash__',\n",
       " '__iadd__',\n",
       " '__imul__',\n",
       " '__init__',\n",
       " '__init_subclass__',\n",
       " '__iter__',\n",
       " '__le__',\n",
       " '__len__',\n",
       " '__lt__',\n",
       " '__mul__',\n",
       " '__ne__',\n",
       " '__new__',\n",
       " '__reduce__',\n",
       " '__reduce_ex__',\n",
       " '__repr__',\n",
       " '__reversed__',\n",
       " '__rmul__',\n",
       " '__setattr__',\n",
       " '__setitem__',\n",
       " '__sizeof__',\n",
       " '__str__',\n",
       " '__subclasshook__',\n",
       " 'append',\n",
       " 'clear',\n",
       " 'copy',\n",
       " 'count',\n",
       " 'extend',\n",
       " 'index',\n",
       " 'insert',\n",
       " 'pop',\n",
       " 'remove',\n",
       " 'reverse',\n",
       " 'sort']"
      ]
     },
     "execution_count": 74,
     "metadata": {},
     "output_type": "execute_result"
    }
   ],
   "source": [
    "dir(a)"
   ]
  },
  {
   "cell_type": "markdown",
   "id": "cb59fd5d-1844-4116-803c-ab07e6e17bdd",
   "metadata": {},
   "source": [
    "`-` 오리지날 메소드만 출력"
   ]
  },
  {
   "cell_type": "code",
   "execution_count": 82,
   "id": "ad560695-8ebf-47d9-be41-8b80095b1180",
   "metadata": {},
   "outputs": [],
   "source": [
    "b = [i for i in dir(a) if i[0] != \"_\"]"
   ]
  },
  {
   "cell_type": "code",
   "execution_count": 83,
   "id": "4cefec5b-1cc0-4f06-813c-0c87903d8a65",
   "metadata": {},
   "outputs": [
    {
     "data": {
      "text/plain": [
       "['append',\n",
       " 'clear',\n",
       " 'copy',\n",
       " 'count',\n",
       " 'extend',\n",
       " 'index',\n",
       " 'insert',\n",
       " 'pop',\n",
       " 'remove',\n",
       " 'reverse',\n",
       " 'sort']"
      ]
     },
     "execution_count": 83,
     "metadata": {},
     "output_type": "execute_result"
    }
   ],
   "source": [
    "b"
   ]
  },
  {
   "cell_type": "markdown",
   "id": "372c48a6-7c1e-4e32-9ebd-fa39088525ad",
   "metadata": {},
   "source": [
    "### `divmod(x,y)`"
   ]
  },
  {
   "cell_type": "markdown",
   "id": "95400a67-bf12-4165-9a59-6df686f4216b",
   "metadata": {},
   "source": [
    "`-` `x`를 `y`로 나눈 몫과 나머지를 튜플로 반환"
   ]
  },
  {
   "cell_type": "code",
   "execution_count": 84,
   "id": "a5d0de6b-3a93-43b1-9c50-8168bd3ebaf8",
   "metadata": {},
   "outputs": [
    {
     "data": {
      "text/plain": [
       "(2, 1)"
      ]
     },
     "execution_count": 84,
     "metadata": {},
     "output_type": "execute_result"
    }
   ],
   "source": [
    "divmod(5,2)"
   ]
  },
  {
   "cell_type": "markdown",
   "id": "635d4030-025e-4796-afa0-8478c208613f",
   "metadata": {},
   "source": [
    "### `eval`"
   ]
  },
  {
   "cell_type": "markdown",
   "id": "955bfdeb-3c14-4ce8-9f26-0f4051839496",
   "metadata": {},
   "source": [
    "`-` 코드의 실행을 입력받아 결과를 받음."
   ]
  },
  {
   "cell_type": "code",
   "execution_count": 86,
   "id": "04764c3c-7791-4a29-bfe8-169a2102a738",
   "metadata": {},
   "outputs": [
    {
     "data": {
      "text/plain": [
       "30"
      ]
     },
     "execution_count": 86,
     "metadata": {},
     "output_type": "execute_result"
    }
   ],
   "source": [
    "eval('10+20')"
   ]
  },
  {
   "cell_type": "markdown",
   "id": "8405d6d5-5828-44c0-aeb4-3d7edd2cd5d3",
   "metadata": {},
   "source": [
    "### filter"
   ]
  },
  {
   "cell_type": "markdown",
   "id": "e573bcd7-28c0-4512-8d7b-9721f4310334",
   "metadata": {},
   "source": [
    "`-` 함수에 매개변수를 전달해 참인 경우만 결과를 반환 $\\to$ `filter(f,a)`"
   ]
  },
  {
   "cell_type": "markdown",
   "id": "6a2f69a7-e3c2-4448-b9c9-3cbd120f90b1",
   "metadata": {},
   "source": [
    "`-` ex1"
   ]
  },
  {
   "cell_type": "markdown",
   "id": "b60ff30f-96b3-4692-b58d-493683d018b5",
   "metadata": {},
   "source": [
    "#### ver1. `def`"
   ]
  },
  {
   "cell_type": "code",
   "execution_count": 87,
   "id": "da0570ab-75b5-44fd-aaaf-1a33460eca27",
   "metadata": {},
   "outputs": [],
   "source": [
    "def f(x) :\n",
    "    if x % 2 == 0 :\n",
    "        return x"
   ]
  },
  {
   "cell_type": "code",
   "execution_count": 88,
   "id": "23a88be6-7b2c-4cdb-bca8-0b8fdc82718f",
   "metadata": {},
   "outputs": [],
   "source": [
    "a = [1,2,3,4,5]"
   ]
  },
  {
   "cell_type": "code",
   "execution_count": 90,
   "id": "b2084f63-a6f8-4888-8c98-18f0727b57e0",
   "metadata": {},
   "outputs": [
    {
     "data": {
      "text/plain": [
       "[2, 4]"
      ]
     },
     "execution_count": 90,
     "metadata": {},
     "output_type": "execute_result"
    }
   ],
   "source": [
    "list(filter(f,a))"
   ]
  },
  {
   "cell_type": "markdown",
   "id": "f854ba15-e793-48f5-bac5-46b47d0b17ca",
   "metadata": {},
   "source": [
    "#### ver2. `lambda`"
   ]
  },
  {
   "cell_type": "code",
   "execution_count": 92,
   "id": "23243ce0-ad00-4db9-bbf4-257c3f04dd5f",
   "metadata": {},
   "outputs": [
    {
     "data": {
      "text/plain": [
       "[2, 4]"
      ]
     },
     "execution_count": 92,
     "metadata": {},
     "output_type": "execute_result"
    }
   ],
   "source": [
    "list(filter(lambda x : x % 2==0,a))"
   ]
  },
  {
   "cell_type": "markdown",
   "id": "a3e4e3b0-3e14-484c-a00d-f670bc6e1028",
   "metadata": {},
   "source": [
    "### ord"
   ]
  },
  {
   "cell_type": "markdown",
   "id": "c64f9f37-39ac-4a77-8c35-4390e3e4698f",
   "metadata": {},
   "source": [
    "`-` 문자의 아스키 코드반환"
   ]
  },
  {
   "cell_type": "code",
   "execution_count": 93,
   "id": "2af1f494-8b3a-487a-b58c-ee750fdd3dac",
   "metadata": {},
   "outputs": [
    {
     "data": {
      "text/plain": [
       "65"
      ]
     },
     "execution_count": 93,
     "metadata": {},
     "output_type": "execute_result"
    }
   ],
   "source": [
    "ord(\"A\")"
   ]
  },
  {
   "cell_type": "markdown",
   "id": "f087f52f-7b1b-4673-a70e-467c76d95818",
   "metadata": {},
   "source": [
    "### map(lambda) $(\\star\\star\\star)$ "
   ]
  },
  {
   "cell_type": "markdown",
   "id": "d223202e-eb76-41a4-9129-3ddf8bdffe2f",
   "metadata": {},
   "source": [
    "`-` 짝수 선택 예제"
   ]
  },
  {
   "cell_type": "code",
   "execution_count": 138,
   "id": "46162d58-3b11-4cfe-a24d-8a4773a3caef",
   "metadata": {},
   "outputs": [],
   "source": [
    "import numpy as np\n",
    "import pandas as pd"
   ]
  },
  {
   "cell_type": "code",
   "execution_count": 140,
   "id": "c7707d72-a49a-4127-b9aa-1a12fcb08033",
   "metadata": {},
   "outputs": [
    {
     "data": {
      "text/html": [
       "<div>\n",
       "<style scoped>\n",
       "    .dataframe tbody tr th:only-of-type {\n",
       "        vertical-align: middle;\n",
       "    }\n",
       "\n",
       "    .dataframe tbody tr th {\n",
       "        vertical-align: top;\n",
       "    }\n",
       "\n",
       "    .dataframe thead th {\n",
       "        text-align: right;\n",
       "    }\n",
       "</style>\n",
       "<table border=\"1\" class=\"dataframe\">\n",
       "  <thead>\n",
       "    <tr style=\"text-align: right;\">\n",
       "      <th></th>\n",
       "      <th>A</th>\n",
       "      <th>B</th>\n",
       "      <th>C</th>\n",
       "      <th>D</th>\n",
       "    </tr>\n",
       "  </thead>\n",
       "  <tbody>\n",
       "    <tr>\n",
       "      <th>0</th>\n",
       "      <td>1.624345</td>\n",
       "      <td>-0.611756</td>\n",
       "      <td>-0.528172</td>\n",
       "      <td>-1.072969</td>\n",
       "    </tr>\n",
       "    <tr>\n",
       "      <th>1</th>\n",
       "      <td>0.865408</td>\n",
       "      <td>-2.301539</td>\n",
       "      <td>1.744812</td>\n",
       "      <td>-0.761207</td>\n",
       "    </tr>\n",
       "    <tr>\n",
       "      <th>2</th>\n",
       "      <td>0.319039</td>\n",
       "      <td>-0.249370</td>\n",
       "      <td>1.462108</td>\n",
       "      <td>-2.060141</td>\n",
       "    </tr>\n",
       "    <tr>\n",
       "      <th>3</th>\n",
       "      <td>-0.322417</td>\n",
       "      <td>-0.384054</td>\n",
       "      <td>1.133769</td>\n",
       "      <td>-1.099891</td>\n",
       "    </tr>\n",
       "    <tr>\n",
       "      <th>4</th>\n",
       "      <td>-0.172428</td>\n",
       "      <td>-0.877858</td>\n",
       "      <td>0.042214</td>\n",
       "      <td>0.582815</td>\n",
       "    </tr>\n",
       "  </tbody>\n",
       "</table>\n",
       "</div>"
      ],
      "text/plain": [
       "          A         B         C         D\n",
       "0  1.624345 -0.611756 -0.528172 -1.072969\n",
       "1  0.865408 -2.301539  1.744812 -0.761207\n",
       "2  0.319039 -0.249370  1.462108 -2.060141\n",
       "3 -0.322417 -0.384054  1.133769 -1.099891\n",
       "4 -0.172428 -0.877858  0.042214  0.582815"
      ]
     },
     "execution_count": 140,
     "metadata": {},
     "output_type": "execute_result"
    }
   ],
   "source": [
    "np.random.seed(1)\n",
    "df2= pd.DataFrame(np.random.normal(size=(10,4)),columns=list('ABCD'))\n",
    "df2.head()"
   ]
  },
  {
   "cell_type": "markdown",
   "id": "0d6c81be-59bd-4f7e-bd3d-808dcb015ec6",
   "metadata": {},
   "source": [
    "`-` A열에서  0보다 큰값들만 출력"
   ]
  },
  {
   "cell_type": "code",
   "execution_count": 141,
   "id": "32d75b03-3dca-4ab0-bbcd-73f20944a931",
   "metadata": {},
   "outputs": [
    {
     "data": {
      "text/html": [
       "<div>\n",
       "<style scoped>\n",
       "    .dataframe tbody tr th:only-of-type {\n",
       "        vertical-align: middle;\n",
       "    }\n",
       "\n",
       "    .dataframe tbody tr th {\n",
       "        vertical-align: top;\n",
       "    }\n",
       "\n",
       "    .dataframe thead th {\n",
       "        text-align: right;\n",
       "    }\n",
       "</style>\n",
       "<table border=\"1\" class=\"dataframe\">\n",
       "  <thead>\n",
       "    <tr style=\"text-align: right;\">\n",
       "      <th></th>\n",
       "      <th>A</th>\n",
       "      <th>B</th>\n",
       "      <th>C</th>\n",
       "      <th>D</th>\n",
       "    </tr>\n",
       "  </thead>\n",
       "  <tbody>\n",
       "    <tr>\n",
       "      <th>0</th>\n",
       "      <td>1.624345</td>\n",
       "      <td>-0.611756</td>\n",
       "      <td>-0.528172</td>\n",
       "      <td>-1.072969</td>\n",
       "    </tr>\n",
       "    <tr>\n",
       "      <th>1</th>\n",
       "      <td>0.865408</td>\n",
       "      <td>-2.301539</td>\n",
       "      <td>1.744812</td>\n",
       "      <td>-0.761207</td>\n",
       "    </tr>\n",
       "    <tr>\n",
       "      <th>2</th>\n",
       "      <td>0.319039</td>\n",
       "      <td>-0.249370</td>\n",
       "      <td>1.462108</td>\n",
       "      <td>-2.060141</td>\n",
       "    </tr>\n",
       "    <tr>\n",
       "      <th>6</th>\n",
       "      <td>0.900856</td>\n",
       "      <td>-0.683728</td>\n",
       "      <td>-0.122890</td>\n",
       "      <td>-0.935769</td>\n",
       "    </tr>\n",
       "  </tbody>\n",
       "</table>\n",
       "</div>"
      ],
      "text/plain": [
       "          A         B         C         D\n",
       "0  1.624345 -0.611756 -0.528172 -1.072969\n",
       "1  0.865408 -2.301539  1.744812 -0.761207\n",
       "2  0.319039 -0.249370  1.462108 -2.060141\n",
       "6  0.900856 -0.683728 -0.122890 -0.935769"
      ]
     },
     "execution_count": 141,
     "metadata": {},
     "output_type": "execute_result"
    }
   ],
   "source": [
    "df2.iloc[map(lambda x : x>0, df2.A),:]"
   ]
  },
  {
   "cell_type": "markdown",
   "id": "a1c0e007-c295-4038-83cf-585f0b8eb4b1",
   "metadata": {},
   "source": [
    "`-` A,C열에서 둘다 0보다 큰값들만 출력"
   ]
  },
  {
   "cell_type": "code",
   "execution_count": 142,
   "id": "43855da6-6930-488a-85e5-b4d4c6771ea7",
   "metadata": {},
   "outputs": [
    {
     "data": {
      "text/html": [
       "<div>\n",
       "<style scoped>\n",
       "    .dataframe tbody tr th:only-of-type {\n",
       "        vertical-align: middle;\n",
       "    }\n",
       "\n",
       "    .dataframe tbody tr th {\n",
       "        vertical-align: top;\n",
       "    }\n",
       "\n",
       "    .dataframe thead th {\n",
       "        text-align: right;\n",
       "    }\n",
       "</style>\n",
       "<table border=\"1\" class=\"dataframe\">\n",
       "  <thead>\n",
       "    <tr style=\"text-align: right;\">\n",
       "      <th></th>\n",
       "      <th>A</th>\n",
       "      <th>B</th>\n",
       "      <th>C</th>\n",
       "      <th>D</th>\n",
       "    </tr>\n",
       "  </thead>\n",
       "  <tbody>\n",
       "    <tr>\n",
       "      <th>1</th>\n",
       "      <td>0.865408</td>\n",
       "      <td>-2.301539</td>\n",
       "      <td>1.744812</td>\n",
       "      <td>-0.761207</td>\n",
       "    </tr>\n",
       "    <tr>\n",
       "      <th>2</th>\n",
       "      <td>0.319039</td>\n",
       "      <td>-0.249370</td>\n",
       "      <td>1.462108</td>\n",
       "      <td>-2.060141</td>\n",
       "    </tr>\n",
       "  </tbody>\n",
       "</table>\n",
       "</div>"
      ],
      "text/plain": [
       "          A         B         C         D\n",
       "1  0.865408 -2.301539  1.744812 -0.761207\n",
       "2  0.319039 -0.249370  1.462108 -2.060141"
      ]
     },
     "execution_count": 142,
     "metadata": {},
     "output_type": "execute_result"
    }
   ],
   "source": [
    "df2.loc[ map(lambda x,y : (x>0) & (y>0) , df2.A,df2.C),:]"
   ]
  },
  {
   "cell_type": "markdown",
   "id": "d8017d45-c21f-4505-8053-fa1a7f139663",
   "metadata": {},
   "source": [
    "`-` 짝수에는 곱하기2, 홀수에는 곱하기 3"
   ]
  },
  {
   "cell_type": "code",
   "execution_count": 155,
   "id": "f3583f02-fab8-4e81-ba0e-a63c298d3d52",
   "metadata": {},
   "outputs": [
    {
     "data": {
      "text/plain": [
       "[1, 2, 3, 4, 5, 6, 7, 8, 9, 10]"
      ]
     },
     "execution_count": 155,
     "metadata": {},
     "output_type": "execute_result"
    }
   ],
   "source": [
    "a = list(range(1,11))\n",
    "a"
   ]
  },
  {
   "cell_type": "code",
   "execution_count": 156,
   "id": "314f8135-a8d9-447a-a97d-0cac7a2eee8b",
   "metadata": {},
   "outputs": [
    {
     "data": {
      "text/plain": [
       "[3, 4, 9, 8, 15, 12, 21, 16, 27, 20]"
      ]
     },
     "execution_count": 156,
     "metadata": {},
     "output_type": "execute_result"
    }
   ],
   "source": [
    "list(map(lambda x : x*2 if x%2 ==0 else x*3,a))"
   ]
  },
  {
   "cell_type": "markdown",
   "id": "862dfed1-482d-4576-9972-50c5c9622104",
   "metadata": {},
   "source": [
    "### isinstance"
   ]
  },
  {
   "cell_type": "markdown",
   "id": "15b98b07-3a2f-4a8e-a24f-a79173d3ff7c",
   "metadata": {},
   "source": [
    "`-` 객체가 해당 자료형의 해당하는 객체인지 확인"
   ]
  },
  {
   "cell_type": "code",
   "execution_count": 145,
   "id": "a9fe14b4-e6db-46a6-874a-e5d081543190",
   "metadata": {},
   "outputs": [
    {
     "name": "stdout",
     "output_type": "stream",
     "text": [
      "True\n",
      "True\n"
     ]
    }
   ],
   "source": [
    "a = list(\"abcd\")\n",
    "b = 1\n",
    "\n",
    "print(isinstance(a,list))\n",
    "print(isinstance(b,int))"
   ]
  },
  {
   "cell_type": "markdown",
   "id": "8409a475-8a92-4cdd-9ad2-272767269b1a",
   "metadata": {},
   "source": [
    "### zip($\\star\\star\\star$)"
   ]
  },
  {
   "cell_type": "markdown",
   "id": "754ba988-a2a6-4a1c-a1ab-cbaf4ac50ef9",
   "metadata": {},
   "source": [
    "`-` 두 객체의 요소들을 쌍으로 묶어서 반환해줌"
   ]
  },
  {
   "cell_type": "code",
   "execution_count": 148,
   "id": "1e5123c9-4179-4889-9c6d-59fc4723df21",
   "metadata": {},
   "outputs": [
    {
     "data": {
      "text/plain": [
       "[(1, 2), (2, 4), (3, 6), (4, 8)]"
      ]
     },
     "execution_count": 148,
     "metadata": {},
     "output_type": "execute_result"
    }
   ],
   "source": [
    "a = [1,2,3,4]\n",
    "b = [2,4,6,8]\n",
    "list(zip(a,b))"
   ]
  },
  {
   "cell_type": "markdown",
   "id": "e7ed9571-b919-40a8-919f-00dfbc6007ce",
   "metadata": {},
   "source": [
    "`-` 아래와 같이 인덱스 범위를 넘어가면 그냥 무시한다."
   ]
  },
  {
   "cell_type": "code",
   "execution_count": 149,
   "id": "ae414325-e4bf-4bb5-8ad0-3bcedbfe32f4",
   "metadata": {},
   "outputs": [
    {
     "data": {
      "text/plain": [
       "[(1, 2), (2, 4), (3, 6), (4, 8)]"
      ]
     },
     "execution_count": 149,
     "metadata": {},
     "output_type": "execute_result"
    }
   ],
   "source": [
    "a = [1,2,3,4]\n",
    "b = [2,4,6,8,9]\n",
    "list(zip(a,b))"
   ]
  },
  {
   "cell_type": "markdown",
   "id": "e2768df2-9f9e-4362-93bf-120347cf3fc3",
   "metadata": {},
   "source": [
    "***"
   ]
  },
  {
   "cell_type": "markdown",
   "id": "736062e8-0d77-4ae0-a5ae-e0747e496710",
   "metadata": {},
   "source": [
    "# 정규식"
   ]
  },
  {
   "cell_type": "markdown",
   "id": "96e2c69e-339a-4227-a05f-be75642bd046",
   "metadata": {},
   "source": [
    "## sub"
   ]
  },
  {
   "cell_type": "code",
   "execution_count": 162,
   "id": "7a366a77-a365-4abd-b96c-c7fee228257f",
   "metadata": {},
   "outputs": [],
   "source": [
    "p = \"강철 : 961230-1111111 호연 : 961231-1111111\" "
   ]
  },
  {
   "cell_type": "code",
   "execution_count": 159,
   "id": "9439d2b0-6a45-4d05-8299-541b7be3e957",
   "metadata": {},
   "outputs": [],
   "source": [
    "import re"
   ]
  },
  {
   "cell_type": "markdown",
   "id": "99bbd27d-3af4-41ab-809e-14e1d036b2e7",
   "metadata": {},
   "source": [
    "`-` 해당 패턴을 아래와 같이 기억"
   ]
  },
  {
   "cell_type": "code",
   "execution_count": 171,
   "id": "42aaff34-3540-4504-92f5-e6abe0d8d02c",
   "metadata": {},
   "outputs": [],
   "source": [
    "mask = re.compile(\"(\\d{6})[-]\\d{7}\")"
   ]
  },
  {
   "cell_type": "markdown",
   "id": "dafa4dac-9b65-4ddc-a66f-fd0393ec48df",
   "metadata": {},
   "source": [
    "`-` g<?> : 그룹을 의미하며 위 컴파일에서 `()`로 구분한다. $\\to$ `g<0>`은 전체 패턴을 의미"
   ]
  },
  {
   "cell_type": "markdown",
   "id": "b931ebf2-ca08-4050-9950-22a6a7a14d31",
   "metadata": {},
   "source": [
    "`-` (\\d{6}) : g<1>"
   ]
  },
  {
   "cell_type": "code",
   "execution_count": 179,
   "id": "ecb5df81-8987-41d2-bdfd-38d7bd953139",
   "metadata": {},
   "outputs": [
    {
     "data": {
      "text/plain": [
       "'강철 : 961230-XXXXXXX 호연 : 961231-XXXXXXX'"
      ]
     },
     "execution_count": 179,
     "metadata": {},
     "output_type": "execute_result"
    }
   ],
   "source": [
    "mask.sub(\"\\g<1>-XXXXXXX\",p)"
   ]
  },
  {
   "cell_type": "markdown",
   "id": "dd76807b-a41c-47b4-b535-fb0071f34778",
   "metadata": {},
   "source": [
    "`-` (\\d{6})[-]\\d{7} : g<0>"
   ]
  },
  {
   "cell_type": "code",
   "execution_count": 180,
   "id": "0bbc0222-02df-41fb-b0db-f10a6140c633",
   "metadata": {},
   "outputs": [
    {
     "data": {
      "text/plain": [
       "'강철 : 961230-1111111-XXXXXXX 호연 : 961231-1111111-XXXXXXX'"
      ]
     },
     "execution_count": 180,
     "metadata": {},
     "output_type": "execute_result"
    }
   ],
   "source": [
    "mask.sub(\"\\g<0>-XXXXXXX\",p)"
   ]
  },
  {
   "cell_type": "markdown",
   "id": "a2addb5d-bcb4-4dd9-bdc3-2aa6d18cae3e",
   "metadata": {},
   "source": [
    "`-` 아래와 같이 1명만 바꿀 수 있음"
   ]
  },
  {
   "cell_type": "code",
   "execution_count": 178,
   "id": "cebd16be-cd44-4de3-bedc-4425d98f77dc",
   "metadata": {},
   "outputs": [
    {
     "data": {
      "text/plain": [
       "'강철 : 961230-XXXXXXX 호연 : 961231-1111111'"
      ]
     },
     "execution_count": 178,
     "metadata": {},
     "output_type": "execute_result"
    }
   ],
   "source": [
    "mask.sub(\"\\g<1>-XXXXXXX\",p,count=1)"
   ]
  },
  {
   "cell_type": "markdown",
   "id": "5bd168db-2750-4144-b338-aa12e384ca41",
   "metadata": {},
   "source": [
    "## basic"
   ]
  },
  {
   "cell_type": "code",
   "execution_count": 181,
   "id": "4a37ffeb-e71d-4187-8715-c5959c0a34e4",
   "metadata": {},
   "outputs": [],
   "source": [
    "import re"
   ]
  },
  {
   "cell_type": "markdown",
   "id": "b1575098-e596-44db-8b54-c9e476417cce",
   "metadata": {},
   "source": [
    "### match"
   ]
  },
  {
   "cell_type": "markdown",
   "id": "ce479945-dea8-445b-9157-cbfbbef2d3f7",
   "metadata": {},
   "source": [
    "`-` 문자열의 첫 글자가 정규식과 일치하는지 확인"
   ]
  },
  {
   "cell_type": "code",
   "execution_count": 182,
   "id": "8757c6bb-2a22-451d-8033-0f998983b896",
   "metadata": {},
   "outputs": [],
   "source": [
    "s = \"I am gc\""
   ]
  },
  {
   "cell_type": "code",
   "execution_count": 194,
   "id": "d67c9403-61b2-49ab-9521-d0e1f7117ddd",
   "metadata": {},
   "outputs": [
    {
     "name": "stdout",
     "output_type": "stream",
     "text": [
      "o\n"
     ]
    }
   ],
   "source": [
    "result = re.match(\"I\",s)\n",
    "if result:\n",
    "    print(\"o\")\n",
    "else :\n",
    "    print(\"x\")"
   ]
  },
  {
   "cell_type": "markdown",
   "id": "5ab3e9fc-15ca-4815-94e5-fa725edc3786",
   "metadata": {},
   "source": [
    "### search"
   ]
  },
  {
   "cell_type": "markdown",
   "id": "ada71615-dfe9-47cf-a91e-cd1c8ac282e6",
   "metadata": {},
   "source": [
    "`-` 문자열 전체에서 정규식과 일치하는 확인"
   ]
  },
  {
   "cell_type": "code",
   "execution_count": 216,
   "id": "0d5ae98a-945d-4287-ae8c-4a38fd5f90a5",
   "metadata": {},
   "outputs": [],
   "source": [
    "s = \"I am gcg\""
   ]
  },
  {
   "cell_type": "code",
   "execution_count": 200,
   "id": "94cc32aa-5b9a-40c0-9316-4970d627b03c",
   "metadata": {},
   "outputs": [],
   "source": [
    "result = re.search(\"gc\",s)"
   ]
  },
  {
   "cell_type": "code",
   "execution_count": 201,
   "id": "6977a151-d5d8-42ba-bf94-5c855ced3045",
   "metadata": {},
   "outputs": [
    {
     "name": "stdout",
     "output_type": "stream",
     "text": [
      "o\n"
     ]
    }
   ],
   "source": [
    "if result:\n",
    "    print(\"o\")\n",
    "else :\n",
    "    print(\"x\")"
   ]
  },
  {
   "cell_type": "markdown",
   "id": "02b15d69-bb08-4e25-8453-56f67990fdba",
   "metadata": {},
   "source": [
    "`-`  매치된 결과를 다음과 같은 메소드로 확인할 수 있다."
   ]
  },
  {
   "cell_type": "code",
   "execution_count": 226,
   "id": "ac3becd9-5061-4f13-85f4-3579ae031c8e",
   "metadata": {},
   "outputs": [],
   "source": [
    "s = \"I am gc\"\n",
    "result = re.search(\"g\",s)"
   ]
  },
  {
   "cell_type": "markdown",
   "id": "ce892f75-a30c-4fcf-a23a-764c3b0ac67b",
   "metadata": {},
   "source": [
    "* group() : 매치된 문자열을 반환"
   ]
  },
  {
   "cell_type": "code",
   "execution_count": 227,
   "id": "48b8b799-5cd6-4da4-836f-b88af6b2a57e",
   "metadata": {},
   "outputs": [
    {
     "data": {
      "text/plain": [
       "'g'"
      ]
     },
     "execution_count": 227,
     "metadata": {},
     "output_type": "execute_result"
    }
   ],
   "source": [
    "result.group()"
   ]
  },
  {
   "cell_type": "markdown",
   "id": "695b959b-1c84-4335-849c-b39339a29493",
   "metadata": {},
   "source": [
    "* start(),end() : 매치된 문자열의 시작과 끝의 위치를 반환\n",
    "    * end() : `끝위치-1`을 반환한다."
   ]
  },
  {
   "cell_type": "code",
   "execution_count": 228,
   "id": "37a93be9-cc91-4863-9884-a9bc55ffa659",
   "metadata": {},
   "outputs": [
    {
     "data": {
      "text/plain": [
       "5"
      ]
     },
     "execution_count": 228,
     "metadata": {},
     "output_type": "execute_result"
    }
   ],
   "source": [
    "result.start()"
   ]
  },
  {
   "cell_type": "code",
   "execution_count": 229,
   "id": "f6893686-427a-492d-adb3-226849ead5dd",
   "metadata": {},
   "outputs": [
    {
     "data": {
      "text/plain": [
       "6"
      ]
     },
     "execution_count": 229,
     "metadata": {},
     "output_type": "execute_result"
    }
   ],
   "source": [
    "result.end()"
   ]
  },
  {
   "cell_type": "code",
   "execution_count": 230,
   "id": "944a2a96-fa0e-4e73-b31f-dcdcfcf03217",
   "metadata": {},
   "outputs": [
    {
     "data": {
      "text/plain": [
       "'g'"
      ]
     },
     "execution_count": 230,
     "metadata": {},
     "output_type": "execute_result"
    }
   ],
   "source": [
    "s[5]"
   ]
  },
  {
   "cell_type": "code",
   "execution_count": 232,
   "id": "709d0f17-6c78-4253-82ca-414d26f70b8a",
   "metadata": {},
   "outputs": [
    {
     "data": {
      "text/plain": [
       "'c'"
      ]
     },
     "execution_count": 232,
     "metadata": {},
     "output_type": "execute_result"
    }
   ],
   "source": [
    "s[6]"
   ]
  },
  {
   "cell_type": "markdown",
   "id": "51fa0a29-c12e-464d-95d2-f6760f3b9ebb",
   "metadata": {},
   "source": [
    "* span() : 매치된 문자열의 시작, 끝을 튜플로 반환"
   ]
  },
  {
   "cell_type": "code",
   "execution_count": 233,
   "id": "958341e8-be9d-4ab6-9438-504f5a26725c",
   "metadata": {},
   "outputs": [
    {
     "data": {
      "text/plain": [
       "(5, 6)"
      ]
     },
     "execution_count": 233,
     "metadata": {},
     "output_type": "execute_result"
    }
   ],
   "source": [
    "result.span()"
   ]
  },
  {
   "cell_type": "markdown",
   "id": "b9903dd7-e43e-4f46-90ac-841095e9da38",
   "metadata": {},
   "source": [
    "### findall"
   ]
  },
  {
   "cell_type": "markdown",
   "id": "06ecfa77-c294-49b1-9d5b-7f9921c42031",
   "metadata": {},
   "source": [
    "`-` 정규식과 매치되는 모든 문자열을 리스트로 반환"
   ]
  },
  {
   "cell_type": "code",
   "execution_count": 237,
   "id": "7e66af39-48eb-445b-aeef-870ade6dce42",
   "metadata": {},
   "outputs": [],
   "source": [
    "s= 'I am gc gc'"
   ]
  },
  {
   "cell_type": "code",
   "execution_count": 238,
   "id": "a3071768-76ae-4db5-ba66-b9d73dbd5493",
   "metadata": {},
   "outputs": [
    {
     "data": {
      "text/plain": [
       "['g', 'g']"
      ]
     },
     "execution_count": 238,
     "metadata": {},
     "output_type": "execute_result"
    }
   ],
   "source": [
    "re.findall(\"g\",s)"
   ]
  },
  {
   "cell_type": "code",
   "execution_count": 239,
   "id": "ff986eb4-739b-4034-ad99-56a66ad9bb8a",
   "metadata": {},
   "outputs": [
    {
     "data": {
      "text/plain": [
       "['gc', 'gc']"
      ]
     },
     "execution_count": 239,
     "metadata": {},
     "output_type": "execute_result"
    }
   ],
   "source": [
    "re.findall(\"gc\",s)"
   ]
  },
  {
   "cell_type": "markdown",
   "id": "dfe1eedb-1e91-44e6-809b-c9843d980c85",
   "metadata": {},
   "source": [
    "### finditer"
   ]
  },
  {
   "cell_type": "markdown",
   "id": "0e2b8507-f288-4a71-bf18-d35d9c770f7d",
   "metadata": {},
   "source": [
    "`-` 정규식과 매치되는 모든 문자열을 반복 가능한 객체로 변환"
   ]
  },
  {
   "cell_type": "code",
   "execution_count": 240,
   "id": "810f172c-2915-42d6-99de-d7fa8706896f",
   "metadata": {},
   "outputs": [
    {
     "data": {
      "text/plain": [
       "'I am gc gc'"
      ]
     },
     "execution_count": 240,
     "metadata": {},
     "output_type": "execute_result"
    }
   ],
   "source": [
    "s"
   ]
  },
  {
   "cell_type": "code",
   "execution_count": 241,
   "id": "a6a9e62b-2abb-43ae-868e-3a680b2cefc1",
   "metadata": {},
   "outputs": [],
   "source": [
    "result = re.finditer(\"gc\",s)"
   ]
  },
  {
   "cell_type": "code",
   "execution_count": 243,
   "id": "0d361b9c-dc36-4c5e-aa20-ff1171892e37",
   "metadata": {},
   "outputs": [
    {
     "name": "stdout",
     "output_type": "stream",
     "text": [
      "<re.Match object; span=(5, 7), match='gc'>\n",
      "<re.Match object; span=(8, 10), match='gc'>\n"
     ]
    }
   ],
   "source": [
    "for i in result : \n",
    "    print(i)"
   ]
  },
  {
   "cell_type": "markdown",
   "id": "65d2f2dc-3f32-4456-84e0-9151772f78aa",
   "metadata": {},
   "source": [
    "### 나열된 문자 포함여부 확인"
   ]
  },
  {
   "cell_type": "code",
   "execution_count": 246,
   "id": "e867d0c4-98b7-49d7-b9b2-52af06be1e8d",
   "metadata": {},
   "outputs": [
    {
     "data": {
      "text/plain": [
       "'I am gc gc'"
      ]
     },
     "execution_count": 246,
     "metadata": {},
     "output_type": "execute_result"
    }
   ],
   "source": [
    "s"
   ]
  },
  {
   "cell_type": "code",
   "execution_count": 247,
   "id": "9ad65f1e-75d8-4d9f-bdf7-b8ea5e64729f",
   "metadata": {},
   "outputs": [
    {
     "data": {
      "text/plain": [
       "['g', 'c', 'g', 'c']"
      ]
     },
     "execution_count": 247,
     "metadata": {},
     "output_type": "execute_result"
    }
   ],
   "source": [
    "re.findall(\"[gc]\",s)"
   ]
  },
  {
   "cell_type": "markdown",
   "id": "7da31fad-c5b1-4706-a4a3-478990c3193a",
   "metadata": {},
   "source": [
    "`-` 같은 문자 한번만 표시"
   ]
  },
  {
   "cell_type": "code",
   "execution_count": 249,
   "id": "8a4e561f-ff2c-4293-be0c-d7cfeffd1495",
   "metadata": {},
   "outputs": [
    {
     "data": {
      "text/plain": [
       "['c', 'g']"
      ]
     },
     "execution_count": 249,
     "metadata": {},
     "output_type": "execute_result"
    }
   ],
   "source": [
    "list(set(re.findall(\"[gc]\",s)))"
   ]
  },
  {
   "cell_type": "markdown",
   "id": "51f79cd7-9e30-4337-b700-f3945d222ad2",
   "metadata": {},
   "source": [
    "* `^` : 해당 문자열을 제외한 문자들을 리스트로 출력"
   ]
  },
  {
   "cell_type": "code",
   "execution_count": 252,
   "id": "6a6c1eb7-d88c-403b-8f31-3e990c8348db",
   "metadata": {},
   "outputs": [
    {
     "data": {
      "text/plain": [
       "'I am gc gc'"
      ]
     },
     "execution_count": 252,
     "metadata": {},
     "output_type": "execute_result"
    }
   ],
   "source": [
    "s"
   ]
  },
  {
   "cell_type": "code",
   "execution_count": 253,
   "id": "276f5f06-b4c4-4607-a3ab-a6c2c62f7c37",
   "metadata": {},
   "outputs": [
    {
     "data": {
      "text/plain": [
       "[' ', 'm', 'a', 'I']"
      ]
     },
     "execution_count": 253,
     "metadata": {},
     "output_type": "execute_result"
    }
   ],
   "source": [
    "list(set(re.findall(\"[^gc]\",s)))"
   ]
  },
  {
   "cell_type": "code",
   "execution_count": 255,
   "id": "00d70045-d946-4fc1-a6ed-ddfa35bc245e",
   "metadata": {},
   "outputs": [
    {
     "data": {
      "text/plain": [
       "['m', 'a', 'I']"
      ]
     },
     "execution_count": 255,
     "metadata": {},
     "output_type": "execute_result"
    }
   ],
   "source": [
    "list(set(re.findall(\"[^ gc]\",s))) ## 공백 제거"
   ]
  },
  {
   "cell_type": "markdown",
   "id": "ff19903c-59c0-4829-b2b5-921dc73e634e",
   "metadata": {},
   "source": [
    "### 범위안에 문자 포함여부확인"
   ]
  },
  {
   "cell_type": "code",
   "execution_count": 256,
   "id": "54145e4e-8a46-416e-a45a-362490a7d73f",
   "metadata": {},
   "outputs": [
    {
     "data": {
      "text/plain": [
       "'I am gc gc'"
      ]
     },
     "execution_count": 256,
     "metadata": {},
     "output_type": "execute_result"
    }
   ],
   "source": [
    "s"
   ]
  },
  {
   "cell_type": "markdown",
   "id": "984b06ae-0b35-4930-8bcc-1973e39f9491",
   "metadata": {},
   "source": [
    "`-` 소문자만 출력"
   ]
  },
  {
   "cell_type": "code",
   "execution_count": 257,
   "id": "a1b46f54-b0ab-4bda-87c8-bed79bbefdb6",
   "metadata": {},
   "outputs": [
    {
     "data": {
      "text/plain": [
       "['a', 'm', 'g', 'c', 'g', 'c']"
      ]
     },
     "execution_count": 257,
     "metadata": {},
     "output_type": "execute_result"
    }
   ],
   "source": [
    "re.findall(\"[a-z]\",s)"
   ]
  },
  {
   "cell_type": "markdown",
   "id": "3f922f64-2311-497f-81a4-b54a9abbdae2",
   "metadata": {},
   "source": [
    "`-` 대문자만 출력"
   ]
  },
  {
   "cell_type": "code",
   "execution_count": 259,
   "id": "8301c812-0ef4-4fdd-966b-ba8ce0d00d60",
   "metadata": {},
   "outputs": [
    {
     "data": {
      "text/plain": [
       "['I']"
      ]
     },
     "execution_count": 259,
     "metadata": {},
     "output_type": "execute_result"
    }
   ],
   "source": [
    "re.findall(\"[A-Z]\",s)"
   ]
  },
  {
   "cell_type": "markdown",
   "id": "90e0d0bf-9cab-4146-8452-b7edc229dc69",
   "metadata": {},
   "source": [
    "`-` 대,소문자 둘다 출력"
   ]
  },
  {
   "cell_type": "code",
   "execution_count": 260,
   "id": "35cfb191-3f54-462a-885a-8652d5341f93",
   "metadata": {},
   "outputs": [
    {
     "data": {
      "text/plain": [
       "['I', 'a', 'm', 'g', 'c', 'g', 'c']"
      ]
     },
     "execution_count": 260,
     "metadata": {},
     "output_type": "execute_result"
    }
   ],
   "source": [
    "re.findall(\"[A-Za-z]\",s)"
   ]
  },
  {
   "cell_type": "markdown",
   "id": "6c1e7b41-a1bb-4d98-b37a-a11d4aedc1bf",
   "metadata": {},
   "source": [
    "`-` 숫자 찾기"
   ]
  },
  {
   "cell_type": "code",
   "execution_count": 261,
   "id": "63fd9a01-c50f-4e7e-9569-3bac1a613486",
   "metadata": {},
   "outputs": [],
   "source": [
    "s = \"gc is 28 years\""
   ]
  },
  {
   "cell_type": "code",
   "execution_count": 262,
   "id": "8ac79149-a6ef-4d10-a430-5ae6e158be7f",
   "metadata": {},
   "outputs": [
    {
     "data": {
      "text/plain": [
       "['2', '8']"
      ]
     },
     "execution_count": 262,
     "metadata": {},
     "output_type": "execute_result"
    }
   ],
   "source": [
    "re.findall(\"[0-9]\",s)"
   ]
  },
  {
   "cell_type": "markdown",
   "id": "5865d99c-ba9a-4281-98df-394f716a7bff",
   "metadata": {},
   "source": [
    "### 두 문자 사이의 포함 여부 확인"
   ]
  },
  {
   "cell_type": "code",
   "execution_count": 285,
   "id": "540cb8de-6999-44e0-8991-6674c27f3954",
   "metadata": {},
   "outputs": [],
   "source": [
    "s = \"sabe\""
   ]
  },
  {
   "cell_type": "markdown",
   "id": "d0c5595e-797c-48b1-9f89-b34cd7ab7989",
   "metadata": {},
   "source": [
    "* `.`은 한글자를 대체하는 단어로 다음과 같은 패턴으로 활용할 수 있다. "
   ]
  },
  {
   "cell_type": "code",
   "execution_count": 287,
   "id": "61372c5c-797c-4b04-aa45-64ed0817c540",
   "metadata": {},
   "outputs": [
    {
     "data": {
      "text/plain": [
       "'sabe'"
      ]
     },
     "execution_count": 287,
     "metadata": {},
     "output_type": "execute_result"
    }
   ],
   "source": [
    "s"
   ]
  },
  {
   "cell_type": "code",
   "execution_count": 288,
   "id": "74a143e0-9f1b-4425-961d-d32ea5d33caf",
   "metadata": {},
   "outputs": [
    {
     "data": {
      "text/plain": [
       "['abe']"
      ]
     },
     "execution_count": 288,
     "metadata": {},
     "output_type": "execute_result"
    }
   ],
   "source": [
    "re.findall(\"a.e\",s) "
   ]
  },
  {
   "cell_type": "markdown",
   "id": "a2b770b3-a453-4ef7-8a63-ee1da56c724a",
   "metadata": {},
   "source": [
    "### 문자 반복 확인"
   ]
  },
  {
   "cell_type": "markdown",
   "id": "5c765392-e8e4-48e0-b2c9-baafc924c9c5",
   "metadata": {},
   "source": [
    "`-` 일정한 패턴이 얼마나 반복되는지 아래와 같은 형식으로 확인할 수 있다."
   ]
  },
  {
   "cell_type": "code",
   "execution_count": 292,
   "id": "ce45a9a6-66db-4ee4-8ff1-49df49598e92",
   "metadata": {},
   "outputs": [],
   "source": [
    "s = \"gc gcc\""
   ]
  },
  {
   "cell_type": "code",
   "execution_count": 294,
   "id": "5b4d1ae6-bca8-4a8d-bb88-20b55cfdf7ea",
   "metadata": {},
   "outputs": [
    {
     "data": {
      "text/plain": [
       "'gc gcc'"
      ]
     },
     "execution_count": 294,
     "metadata": {},
     "output_type": "execute_result"
    }
   ],
   "source": [
    "s"
   ]
  },
  {
   "cell_type": "markdown",
   "id": "e8182754-9b81-413f-be41-c874de95b328",
   "metadata": {},
   "source": [
    "* `c`가 0회이상 반복"
   ]
  },
  {
   "cell_type": "code",
   "execution_count": 295,
   "id": "eef0d19d-6fa6-4e86-8cae-5a8a577e9160",
   "metadata": {},
   "outputs": [
    {
     "data": {
      "text/plain": [
       "['gc', 'gc', 'c']"
      ]
     },
     "execution_count": 295,
     "metadata": {},
     "output_type": "execute_result"
    }
   ],
   "source": [
    "re.findall(\"g*c\",s)"
   ]
  },
  {
   "cell_type": "markdown",
   "id": "60639741-a3d6-422e-a683-9cb1282af491",
   "metadata": {},
   "source": [
    "* `c`가 1회 이상 반복"
   ]
  },
  {
   "cell_type": "code",
   "execution_count": 298,
   "id": "c385b6e4-97c4-4bd7-80ba-7c52d09be9ed",
   "metadata": {},
   "outputs": [
    {
     "data": {
      "text/plain": [
       "['gc', 'gc']"
      ]
     },
     "execution_count": 298,
     "metadata": {},
     "output_type": "execute_result"
    }
   ],
   "source": [
    "re.findall(\"gc{1}\",s)"
   ]
  },
  {
   "cell_type": "markdown",
   "id": "8be7dfda-3ee8-4586-afaf-ddf6d5e64394",
   "metadata": {},
   "source": [
    "* `c`가 1~2회 반복"
   ]
  },
  {
   "cell_type": "code",
   "execution_count": 299,
   "id": "07c82546-f815-4296-a5e6-8de5ed8c16a2",
   "metadata": {},
   "outputs": [
    {
     "data": {
      "text/plain": [
       "['gc', 'gcc']"
      ]
     },
     "execution_count": 299,
     "metadata": {},
     "output_type": "execute_result"
    }
   ],
   "source": [
    "re.findall(\"gc{1,2}\",s)"
   ]
  },
  {
   "cell_type": "markdown",
   "id": "73cb9f09-908c-4587-a78d-b1ec4c796fa2",
   "metadata": {},
   "source": [
    "* `c`가 0에서 1회 반복"
   ]
  },
  {
   "cell_type": "code",
   "execution_count": 302,
   "id": "7f73f298-5512-4e30-9d10-034301bfd0e5",
   "metadata": {},
   "outputs": [
    {
     "data": {
      "text/plain": [
       "['gc', 'gc']"
      ]
     },
     "execution_count": 302,
     "metadata": {},
     "output_type": "execute_result"
    }
   ],
   "source": [
    "re.findall(\"gc?\",s)"
   ]
  }
 ],
 "metadata": {
  "kernelspec": {
   "display_name": "Python 3 (ipykernel)",
   "language": "python",
   "name": "python3"
  },
  "language_info": {
   "codemirror_mode": {
    "name": "ipython",
    "version": 3
   },
   "file_extension": ".py",
   "mimetype": "text/x-python",
   "name": "python",
   "nbconvert_exporter": "python",
   "pygments_lexer": "ipython3",
   "version": "3.11.4"
  }
 },
 "nbformat": 4,
 "nbformat_minor": 5
}
