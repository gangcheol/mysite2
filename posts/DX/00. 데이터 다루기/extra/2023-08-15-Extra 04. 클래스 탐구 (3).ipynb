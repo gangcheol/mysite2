{
 "cells": [
  {
   "cell_type": "raw",
   "id": "b30a8bbf-282c-43ec-a978-68fc4d1aaf4b",
   "metadata": {},
   "source": [
    "---\n",
    "title : \"Extra 04. 클래스 탐구 (3)\"\n",
    "author : \"GC\"\n",
    "date : \"08/15/23\"\n",
    "categories : [extra, class]\n",
    "---"
   ]
  },
  {
   "cell_type": "markdown",
   "id": "daad5958-d5c0-4d2b-af59-67fb0e346d1b",
   "metadata": {
    "tags": []
   },
   "source": [
    "# 지난 챕터 복기"
   ]
  },
  {
   "cell_type": "markdown",
   "id": "8223e47b-e6ca-4b6d-9222-707795f77e7b",
   "metadata": {},
   "source": [
    "`-` 클래스를 조금 수정하고 싶을때, 아래와 같은 문법을 이용하면 편리하다.(지난 챕터 복기!!)"
   ]
  },
  {
   "cell_type": "markdown",
   "id": "c241c506-8d39-43fa-8246-72f65250519b",
   "metadata": {},
   "source": [
    "```python\n",
    "class 새로운클래스 (수정할 클래스) :\n",
    "    def 수정 및 추가 함수 : \n",
    "        return ...\n",
    "```"
   ]
  },
  {
   "cell_type": "markdown",
   "id": "017ed275-4e38-48ad-b098-ff28d5ed357d",
   "metadata": {},
   "source": [
    "## ex1"
   ]
  },
  {
   "cell_type": "code",
   "execution_count": 1,
   "id": "9649bec9-35a4-4a2f-8aaa-d398ddc1adad",
   "metadata": {},
   "outputs": [],
   "source": [
    "class a1 :\n",
    "    def __init__(self,v) :\n",
    "        ## 여기는 a1클래스\n",
    "        print(\"init 클래스에서 정의된 __init__을 실행합니다.\")\n",
    "        self.v = v"
   ]
  },
  {
   "cell_type": "code",
   "execution_count": 2,
   "id": "20a5a4cb-4eb2-4381-969c-b01544910dd1",
   "metadata": {},
   "outputs": [],
   "source": [
    "class a2 (a1):\n",
    "    def show(self) :\n",
    "        ## 여기는 a2클래스\n",
    "        print(\"a2 클래스에서 정의한 show를 실행합니다.\")\n",
    "        print(f\"value = {self.v}\")"
   ]
  },
  {
   "cell_type": "code",
   "execution_count": 3,
   "id": "ac0b387b-a9ba-41a6-89e7-94e47e7f7600",
   "metadata": {},
   "outputs": [
    {
     "name": "stdout",
     "output_type": "stream",
     "text": [
      "init 클래스에서 정의된 __init__을 실행합니다.\n"
     ]
    }
   ],
   "source": [
    "a = a2(5)"
   ]
  },
  {
   "cell_type": "code",
   "execution_count": 4,
   "id": "73f46c4a-771a-469c-b293-334e3bb8772c",
   "metadata": {},
   "outputs": [
    {
     "name": "stdout",
     "output_type": "stream",
     "text": [
      "a2 클래스에서 정의한 show를 실행합니다.\n",
      "value = 5\n"
     ]
    }
   ],
   "source": [
    "a.show()"
   ]
  },
  {
   "cell_type": "code",
   "execution_count": 5,
   "id": "4a37f81e-bcd2-418f-9288-edb0e0f06e3d",
   "metadata": {},
   "outputs": [
    {
     "data": {
      "text/plain": [
       "\u001b[1;31mSignature:\u001b[0m \u001b[0ma\u001b[0m\u001b[1;33m.\u001b[0m\u001b[0mshow\u001b[0m\u001b[1;33m(\u001b[0m\u001b[1;33m)\u001b[0m\u001b[1;33m\u001b[0m\u001b[1;33m\u001b[0m\u001b[0m\n",
       "\u001b[1;31mDocstring:\u001b[0m <no docstring>\n",
       "\u001b[1;31mSource:\u001b[0m   \n",
       "    \u001b[1;32mdef\u001b[0m \u001b[0mshow\u001b[0m\u001b[1;33m(\u001b[0m\u001b[0mself\u001b[0m\u001b[1;33m)\u001b[0m \u001b[1;33m:\u001b[0m\u001b[1;33m\n",
       "\u001b[0m        \u001b[1;31m## 여기는 a2클래스\u001b[0m\u001b[1;33m\n",
       "\u001b[0m        \u001b[0mprint\u001b[0m\u001b[1;33m(\u001b[0m\u001b[1;34m\"a2 클래스에서 정의한 show를 실행합니다.\"\u001b[0m\u001b[1;33m)\u001b[0m\u001b[1;33m\n",
       "\u001b[0m        \u001b[0mprint\u001b[0m\u001b[1;33m(\u001b[0m\u001b[1;34mf\"value = {self.v}\"\u001b[0m\u001b[1;33m)\u001b[0m\u001b[1;33m\u001b[0m\u001b[1;33m\u001b[0m\u001b[0m\n",
       "\u001b[1;31mFile:\u001b[0m      c:\\users\\user\\appdata\\local\\temp\\ipykernel_15308\\1064789111.py\n",
       "\u001b[1;31mType:\u001b[0m      method"
      ]
     },
     "metadata": {},
     "output_type": "display_data"
    }
   ],
   "source": [
    "a.show??"
   ]
  },
  {
   "cell_type": "code",
   "execution_count": 6,
   "id": "71966429-6626-4118-9906-92b12de45251",
   "metadata": {},
   "outputs": [
    {
     "data": {
      "text/plain": [
       "\u001b[1;31mSignature:\u001b[0m \u001b[0ma\u001b[0m\u001b[1;33m.\u001b[0m\u001b[0m__init__\u001b[0m\u001b[1;33m(\u001b[0m\u001b[0mv\u001b[0m\u001b[1;33m)\u001b[0m\u001b[1;33m\u001b[0m\u001b[1;33m\u001b[0m\u001b[0m\n",
       "\u001b[1;31mDocstring:\u001b[0m Initialize self.  See help(type(self)) for accurate signature.\n",
       "\u001b[1;31mSource:\u001b[0m   \n",
       "    \u001b[1;32mdef\u001b[0m \u001b[0m__init__\u001b[0m\u001b[1;33m(\u001b[0m\u001b[0mself\u001b[0m\u001b[1;33m,\u001b[0m\u001b[0mv\u001b[0m\u001b[1;33m)\u001b[0m \u001b[1;33m:\u001b[0m\u001b[1;33m\n",
       "\u001b[0m        \u001b[1;31m## 여기는 a1클래스\u001b[0m\u001b[1;33m\n",
       "\u001b[0m        \u001b[0mprint\u001b[0m\u001b[1;33m(\u001b[0m\u001b[1;34m\"init 클래스에서 정의된 __init__을 실행합니다.\"\u001b[0m\u001b[1;33m)\u001b[0m\u001b[1;33m\n",
       "\u001b[0m        \u001b[0mself\u001b[0m\u001b[1;33m.\u001b[0m\u001b[0mv\u001b[0m \u001b[1;33m=\u001b[0m \u001b[0mv\u001b[0m\u001b[1;33m\u001b[0m\u001b[1;33m\u001b[0m\u001b[0m\n",
       "\u001b[1;31mFile:\u001b[0m      c:\\users\\user\\appdata\\local\\temp\\ipykernel_15308\\3688838073.py\n",
       "\u001b[1;31mType:\u001b[0m      method"
      ]
     },
     "metadata": {},
     "output_type": "display_data"
    }
   ],
   "source": [
    "a.__init__??"
   ]
  },
  {
   "cell_type": "markdown",
   "id": "c43913e6-9c5a-4f3b-a662-ef788c3e1160",
   "metadata": {},
   "source": [
    "# 상속"
   ]
  },
  {
   "cell_type": "markdown",
   "id": "ece8df8c-82af-4781-be65-de8c36fd706b",
   "metadata": {},
   "source": [
    "## 수퍼클래스"
   ]
  },
  {
   "cell_type": "markdown",
   "id": "97cdf057-9317-467b-bec3-2b554ff10002",
   "metadata": {},
   "source": [
    "### 방법 1 : 직접 수퍼클래스 명시"
   ]
  },
  {
   "cell_type": "code",
   "execution_count": 7,
   "id": "a744083f-df8c-4491-8711-56f4747c9b5f",
   "metadata": {
    "tags": []
   },
   "outputs": [],
   "source": [
    "class a3(a2) :\n",
    "    def __init__(self,v) :\n",
    "        ## a3클래스 명시\n",
    "        print(\"짠~!\")\n",
    "        a2.__init__(self,v)\n",
    "        print(\"짠짠~!!\")"
   ]
  },
  {
   "cell_type": "code",
   "execution_count": 8,
   "id": "648f5571-5ecc-4632-b10f-e0cafbfacae8",
   "metadata": {},
   "outputs": [
    {
     "name": "stdout",
     "output_type": "stream",
     "text": [
      "짠~!\n",
      "init 클래스에서 정의된 __init__을 실행합니다.\n",
      "짠짠~!!\n"
     ]
    }
   ],
   "source": [
    "deco = a3(5)"
   ]
  },
  {
   "cell_type": "code",
   "execution_count": 9,
   "id": "0789c8e5-3005-4e97-9c6c-731bba8e0757",
   "metadata": {},
   "outputs": [
    {
     "data": {
      "text/plain": [
       "\u001b[1;31mSignature:\u001b[0m \u001b[0mdeco\u001b[0m\u001b[1;33m.\u001b[0m\u001b[0mshow\u001b[0m\u001b[1;33m(\u001b[0m\u001b[1;33m)\u001b[0m\u001b[1;33m\u001b[0m\u001b[1;33m\u001b[0m\u001b[0m\n",
       "\u001b[1;31mDocstring:\u001b[0m <no docstring>\n",
       "\u001b[1;31mSource:\u001b[0m   \n",
       "    \u001b[1;32mdef\u001b[0m \u001b[0mshow\u001b[0m\u001b[1;33m(\u001b[0m\u001b[0mself\u001b[0m\u001b[1;33m)\u001b[0m \u001b[1;33m:\u001b[0m\u001b[1;33m\n",
       "\u001b[0m        \u001b[1;31m## 여기는 a2클래스\u001b[0m\u001b[1;33m\n",
       "\u001b[0m        \u001b[0mprint\u001b[0m\u001b[1;33m(\u001b[0m\u001b[1;34m\"a2 클래스에서 정의한 show를 실행합니다.\"\u001b[0m\u001b[1;33m)\u001b[0m\u001b[1;33m\n",
       "\u001b[0m        \u001b[0mprint\u001b[0m\u001b[1;33m(\u001b[0m\u001b[1;34mf\"value = {self.v}\"\u001b[0m\u001b[1;33m)\u001b[0m\u001b[1;33m\u001b[0m\u001b[1;33m\u001b[0m\u001b[0m\n",
       "\u001b[1;31mFile:\u001b[0m      c:\\users\\user\\appdata\\local\\temp\\ipykernel_15308\\1064789111.py\n",
       "\u001b[1;31mType:\u001b[0m      method"
      ]
     },
     "metadata": {},
     "output_type": "display_data"
    }
   ],
   "source": [
    "deco.show??"
   ]
  },
  {
   "cell_type": "code",
   "execution_count": 10,
   "id": "51dd09ca-e949-444e-b1c3-99d7e0cea19a",
   "metadata": {},
   "outputs": [
    {
     "data": {
      "text/plain": [
       "\u001b[1;31mSignature:\u001b[0m \u001b[0mdeco\u001b[0m\u001b[1;33m.\u001b[0m\u001b[0m__init__\u001b[0m\u001b[1;33m(\u001b[0m\u001b[0mv\u001b[0m\u001b[1;33m)\u001b[0m\u001b[1;33m\u001b[0m\u001b[1;33m\u001b[0m\u001b[0m\n",
       "\u001b[1;31mDocstring:\u001b[0m Initialize self.  See help(type(self)) for accurate signature.\n",
       "\u001b[1;31mSource:\u001b[0m   \n",
       "    \u001b[1;32mdef\u001b[0m \u001b[0m__init__\u001b[0m\u001b[1;33m(\u001b[0m\u001b[0mself\u001b[0m\u001b[1;33m,\u001b[0m\u001b[0mv\u001b[0m\u001b[1;33m)\u001b[0m \u001b[1;33m:\u001b[0m\u001b[1;33m\n",
       "\u001b[0m        \u001b[1;31m## a3클래스 명시\u001b[0m\u001b[1;33m\n",
       "\u001b[0m        \u001b[0mprint\u001b[0m\u001b[1;33m(\u001b[0m\u001b[1;34m\"짠~!\"\u001b[0m\u001b[1;33m)\u001b[0m\u001b[1;33m\n",
       "\u001b[0m        \u001b[0ma2\u001b[0m\u001b[1;33m.\u001b[0m\u001b[0m__init__\u001b[0m\u001b[1;33m(\u001b[0m\u001b[0mself\u001b[0m\u001b[1;33m,\u001b[0m\u001b[0mv\u001b[0m\u001b[1;33m)\u001b[0m\u001b[1;33m\n",
       "\u001b[0m        \u001b[0mprint\u001b[0m\u001b[1;33m(\u001b[0m\u001b[1;34m\"짠짠~!!\"\u001b[0m\u001b[1;33m)\u001b[0m\u001b[1;33m\u001b[0m\u001b[1;33m\u001b[0m\u001b[0m\n",
       "\u001b[1;31mFile:\u001b[0m      c:\\users\\user\\appdata\\local\\temp\\ipykernel_15308\\1708323518.py\n",
       "\u001b[1;31mType:\u001b[0m      method"
      ]
     },
     "metadata": {},
     "output_type": "display_data"
    }
   ],
   "source": [
    "deco.__init__??"
   ]
  },
  {
   "cell_type": "markdown",
   "id": "e3eb2147-ce21-41d2-908c-3f00995eba09",
   "metadata": {},
   "source": [
    "### 방법 2 : super 이용, 생략 x)"
   ]
  },
  {
   "cell_type": "code",
   "execution_count": 11,
   "id": "5f7a80f3-11a5-4e12-9a30-8ba6391644ea",
   "metadata": {},
   "outputs": [],
   "source": [
    "class a3(a2) :\n",
    "    def __init__(self,v) :\n",
    "        ## a3클래스 명시\n",
    "        print(\"짠~!\")\n",
    "        super(a3,self).__init__(v)\n",
    "        print(\"짠짠~!!\")"
   ]
  },
  {
   "cell_type": "code",
   "execution_count": 12,
   "id": "78be4fff-88f7-45c4-8c0b-1d383e33914e",
   "metadata": {},
   "outputs": [
    {
     "name": "stdout",
     "output_type": "stream",
     "text": [
      "짠~!\n",
      "init 클래스에서 정의된 __init__을 실행합니다.\n",
      "짠짠~!!\n"
     ]
    }
   ],
   "source": [
    "a = a3(5)"
   ]
  },
  {
   "cell_type": "code",
   "execution_count": 13,
   "id": "67987183-4f85-4379-90f8-9535ee486999",
   "metadata": {},
   "outputs": [
    {
     "data": {
      "text/plain": [
       "\u001b[1;31mSignature:\u001b[0m \u001b[0ma\u001b[0m\u001b[1;33m.\u001b[0m\u001b[0mshow\u001b[0m\u001b[1;33m(\u001b[0m\u001b[1;33m)\u001b[0m\u001b[1;33m\u001b[0m\u001b[1;33m\u001b[0m\u001b[0m\n",
       "\u001b[1;31mDocstring:\u001b[0m <no docstring>\n",
       "\u001b[1;31mSource:\u001b[0m   \n",
       "    \u001b[1;32mdef\u001b[0m \u001b[0mshow\u001b[0m\u001b[1;33m(\u001b[0m\u001b[0mself\u001b[0m\u001b[1;33m)\u001b[0m \u001b[1;33m:\u001b[0m\u001b[1;33m\n",
       "\u001b[0m        \u001b[1;31m## 여기는 a2클래스\u001b[0m\u001b[1;33m\n",
       "\u001b[0m        \u001b[0mprint\u001b[0m\u001b[1;33m(\u001b[0m\u001b[1;34m\"a2 클래스에서 정의한 show를 실행합니다.\"\u001b[0m\u001b[1;33m)\u001b[0m\u001b[1;33m\n",
       "\u001b[0m        \u001b[0mprint\u001b[0m\u001b[1;33m(\u001b[0m\u001b[1;34mf\"value = {self.v}\"\u001b[0m\u001b[1;33m)\u001b[0m\u001b[1;33m\u001b[0m\u001b[1;33m\u001b[0m\u001b[0m\n",
       "\u001b[1;31mFile:\u001b[0m      c:\\users\\user\\appdata\\local\\temp\\ipykernel_15308\\1064789111.py\n",
       "\u001b[1;31mType:\u001b[0m      method"
      ]
     },
     "metadata": {},
     "output_type": "display_data"
    }
   ],
   "source": [
    "a.show??"
   ]
  },
  {
   "cell_type": "code",
   "execution_count": 14,
   "id": "b1a7f23f-de67-44e4-875b-6e612a5491b2",
   "metadata": {},
   "outputs": [
    {
     "data": {
      "text/plain": [
       "\u001b[1;31mSignature:\u001b[0m \u001b[0ma\u001b[0m\u001b[1;33m.\u001b[0m\u001b[0m__init__\u001b[0m\u001b[1;33m(\u001b[0m\u001b[0mv\u001b[0m\u001b[1;33m)\u001b[0m\u001b[1;33m\u001b[0m\u001b[1;33m\u001b[0m\u001b[0m\n",
       "\u001b[1;31mDocstring:\u001b[0m Initialize self.  See help(type(self)) for accurate signature.\n",
       "\u001b[1;31mSource:\u001b[0m   \n",
       "    \u001b[1;32mdef\u001b[0m \u001b[0m__init__\u001b[0m\u001b[1;33m(\u001b[0m\u001b[0mself\u001b[0m\u001b[1;33m,\u001b[0m\u001b[0mv\u001b[0m\u001b[1;33m)\u001b[0m \u001b[1;33m:\u001b[0m\u001b[1;33m\n",
       "\u001b[0m        \u001b[1;31m## a3클래스 명시\u001b[0m\u001b[1;33m\n",
       "\u001b[0m        \u001b[0mprint\u001b[0m\u001b[1;33m(\u001b[0m\u001b[1;34m\"짠~!\"\u001b[0m\u001b[1;33m)\u001b[0m\u001b[1;33m\n",
       "\u001b[0m        \u001b[0msuper\u001b[0m\u001b[1;33m(\u001b[0m\u001b[0ma3\u001b[0m\u001b[1;33m,\u001b[0m\u001b[0mself\u001b[0m\u001b[1;33m)\u001b[0m\u001b[1;33m.\u001b[0m\u001b[0m__init__\u001b[0m\u001b[1;33m(\u001b[0m\u001b[0mv\u001b[0m\u001b[1;33m)\u001b[0m\u001b[1;33m\n",
       "\u001b[0m        \u001b[0mprint\u001b[0m\u001b[1;33m(\u001b[0m\u001b[1;34m\"짠짠~!!\"\u001b[0m\u001b[1;33m)\u001b[0m\u001b[1;33m\u001b[0m\u001b[1;33m\u001b[0m\u001b[0m\n",
       "\u001b[1;31mFile:\u001b[0m      c:\\users\\user\\appdata\\local\\temp\\ipykernel_15308\\2997847713.py\n",
       "\u001b[1;31mType:\u001b[0m      method"
      ]
     },
     "metadata": {},
     "output_type": "display_data"
    }
   ],
   "source": [
    "a.__init__??"
   ]
  },
  {
   "cell_type": "markdown",
   "id": "459d5fe7-d32f-4e0f-a5aa-ccdd57784af3",
   "metadata": {},
   "source": [
    "### 방법 3 : super 이용, 생략 o) ($\\star\\star\\star$)"
   ]
  },
  {
   "cell_type": "code",
   "execution_count": 15,
   "id": "9f80f8b3-34c8-4280-a856-cf0cfcd16618",
   "metadata": {},
   "outputs": [],
   "source": [
    "class a3(a2) :\n",
    "    def __init__(self,v) :\n",
    "        ## a3클래스 명시\n",
    "        print(\"짠~!\")\n",
    "        super().__init__(v)  ## 생략전 -> super(a3,self).__init__(v)\n",
    "        print(\"짠짠~!!\")"
   ]
  },
  {
   "cell_type": "code",
   "execution_count": 16,
   "id": "694c34a7-63b9-4fd8-a408-fb002350072d",
   "metadata": {},
   "outputs": [
    {
     "name": "stdout",
     "output_type": "stream",
     "text": [
      "짠~!\n",
      "init 클래스에서 정의된 __init__을 실행합니다.\n",
      "짠짠~!!\n"
     ]
    }
   ],
   "source": [
    "a = a3(5)"
   ]
  },
  {
   "cell_type": "code",
   "execution_count": 17,
   "id": "ec06529a-0c2a-4191-9216-b9a82374627f",
   "metadata": {},
   "outputs": [
    {
     "data": {
      "text/plain": [
       "\u001b[1;31mSignature:\u001b[0m \u001b[0ma3\u001b[0m\u001b[1;33m.\u001b[0m\u001b[0mshow\u001b[0m\u001b[1;33m(\u001b[0m\u001b[0mself\u001b[0m\u001b[1;33m)\u001b[0m\u001b[1;33m\u001b[0m\u001b[1;33m\u001b[0m\u001b[0m\n",
       "\u001b[1;31mDocstring:\u001b[0m <no docstring>\n",
       "\u001b[1;31mSource:\u001b[0m   \n",
       "    \u001b[1;32mdef\u001b[0m \u001b[0mshow\u001b[0m\u001b[1;33m(\u001b[0m\u001b[0mself\u001b[0m\u001b[1;33m)\u001b[0m \u001b[1;33m:\u001b[0m\u001b[1;33m\n",
       "\u001b[0m        \u001b[1;31m## 여기는 a2클래스\u001b[0m\u001b[1;33m\n",
       "\u001b[0m        \u001b[0mprint\u001b[0m\u001b[1;33m(\u001b[0m\u001b[1;34m\"a2 클래스에서 정의한 show를 실행합니다.\"\u001b[0m\u001b[1;33m)\u001b[0m\u001b[1;33m\n",
       "\u001b[0m        \u001b[0mprint\u001b[0m\u001b[1;33m(\u001b[0m\u001b[1;34mf\"value = {self.v}\"\u001b[0m\u001b[1;33m)\u001b[0m\u001b[1;33m\u001b[0m\u001b[1;33m\u001b[0m\u001b[0m\n",
       "\u001b[1;31mFile:\u001b[0m      c:\\users\\user\\appdata\\local\\temp\\ipykernel_15308\\1064789111.py\n",
       "\u001b[1;31mType:\u001b[0m      function"
      ]
     },
     "metadata": {},
     "output_type": "display_data"
    }
   ],
   "source": [
    "a3.show??"
   ]
  },
  {
   "cell_type": "code",
   "execution_count": 18,
   "id": "8bcac5a1-c62f-43d5-a41d-b32f29d8e31a",
   "metadata": {},
   "outputs": [
    {
     "data": {
      "text/plain": [
       "\u001b[1;31mSignature:\u001b[0m \u001b[0ma3\u001b[0m\u001b[1;33m.\u001b[0m\u001b[0m__init__\u001b[0m\u001b[1;33m(\u001b[0m\u001b[0mself\u001b[0m\u001b[1;33m,\u001b[0m \u001b[0mv\u001b[0m\u001b[1;33m)\u001b[0m\u001b[1;33m\u001b[0m\u001b[1;33m\u001b[0m\u001b[0m\n",
       "\u001b[1;31mDocstring:\u001b[0m Initialize self.  See help(type(self)) for accurate signature.\n",
       "\u001b[1;31mSource:\u001b[0m   \n",
       "    \u001b[1;32mdef\u001b[0m \u001b[0m__init__\u001b[0m\u001b[1;33m(\u001b[0m\u001b[0mself\u001b[0m\u001b[1;33m,\u001b[0m\u001b[0mv\u001b[0m\u001b[1;33m)\u001b[0m \u001b[1;33m:\u001b[0m\u001b[1;33m\n",
       "\u001b[0m        \u001b[1;31m## a3클래스 명시\u001b[0m\u001b[1;33m\n",
       "\u001b[0m        \u001b[0mprint\u001b[0m\u001b[1;33m(\u001b[0m\u001b[1;34m\"짠~!\"\u001b[0m\u001b[1;33m)\u001b[0m\u001b[1;33m\n",
       "\u001b[0m        \u001b[0msuper\u001b[0m\u001b[1;33m(\u001b[0m\u001b[1;33m)\u001b[0m\u001b[1;33m.\u001b[0m\u001b[0m__init__\u001b[0m\u001b[1;33m(\u001b[0m\u001b[0mv\u001b[0m\u001b[1;33m)\u001b[0m  \u001b[1;31m## 생략전 -> super(a3,self).__init__(v)\u001b[0m\u001b[1;33m\n",
       "\u001b[0m        \u001b[0mprint\u001b[0m\u001b[1;33m(\u001b[0m\u001b[1;34m\"짠짠~!!\"\u001b[0m\u001b[1;33m)\u001b[0m\u001b[1;33m\u001b[0m\u001b[1;33m\u001b[0m\u001b[0m\n",
       "\u001b[1;31mFile:\u001b[0m      c:\\users\\user\\appdata\\local\\temp\\ipykernel_15308\\2474030909.py\n",
       "\u001b[1;31mType:\u001b[0m      function"
      ]
     },
     "metadata": {},
     "output_type": "display_data"
    }
   ],
   "source": [
    "a3.__init__??"
   ]
  },
  {
   "cell_type": "markdown",
   "id": "9dcb8533-806e-4215-8cef-5275fc31638d",
   "metadata": {},
   "source": [
    "### 방법 4 : super()이용, 방법 3을 이해하기위한 코드"
   ]
  },
  {
   "cell_type": "code",
   "execution_count": 19,
   "id": "7381aa13-7b2d-4d41-a811-9aae648e19f6",
   "metadata": {},
   "outputs": [],
   "source": [
    "class a4(a2) :\n",
    "    def __init__(self,v) :\n",
    "        ## a4클래스 \n",
    "        print(\"짠~!\")\n",
    "        super(__class__,self).__init__(v)  ## 생략전 -> super(a3,self).__init__(v)\n",
    "        print(\"짠짠~!!\")"
   ]
  },
  {
   "cell_type": "code",
   "execution_count": 20,
   "id": "b3661ff3-251f-46f7-892b-4fcd51528063",
   "metadata": {},
   "outputs": [
    {
     "name": "stdout",
     "output_type": "stream",
     "text": [
      "짠~!\n",
      "init 클래스에서 정의된 __init__을 실행합니다.\n",
      "짠짠~!!\n"
     ]
    }
   ],
   "source": [
    "a = a4(5)"
   ]
  },
  {
   "cell_type": "code",
   "execution_count": 21,
   "id": "3a120038-bed5-4abc-8a66-b67ae1428977",
   "metadata": {},
   "outputs": [
    {
     "name": "stdout",
     "output_type": "stream",
     "text": [
      "a2 클래스에서 정의한 show를 실행합니다.\n",
      "value = 5\n"
     ]
    }
   ],
   "source": [
    "a.show()"
   ]
  },
  {
   "cell_type": "code",
   "execution_count": 22,
   "id": "0f7d243a-f486-474a-94b4-96a4b1109f36",
   "metadata": {},
   "outputs": [
    {
     "data": {
      "text/plain": [
       "\u001b[1;31mSignature:\u001b[0m \u001b[0ma\u001b[0m\u001b[1;33m.\u001b[0m\u001b[0mshow\u001b[0m\u001b[1;33m(\u001b[0m\u001b[1;33m)\u001b[0m\u001b[1;33m\u001b[0m\u001b[1;33m\u001b[0m\u001b[0m\n",
       "\u001b[1;31mDocstring:\u001b[0m <no docstring>\n",
       "\u001b[1;31mSource:\u001b[0m   \n",
       "    \u001b[1;32mdef\u001b[0m \u001b[0mshow\u001b[0m\u001b[1;33m(\u001b[0m\u001b[0mself\u001b[0m\u001b[1;33m)\u001b[0m \u001b[1;33m:\u001b[0m\u001b[1;33m\n",
       "\u001b[0m        \u001b[1;31m## 여기는 a2클래스\u001b[0m\u001b[1;33m\n",
       "\u001b[0m        \u001b[0mprint\u001b[0m\u001b[1;33m(\u001b[0m\u001b[1;34m\"a2 클래스에서 정의한 show를 실행합니다.\"\u001b[0m\u001b[1;33m)\u001b[0m\u001b[1;33m\n",
       "\u001b[0m        \u001b[0mprint\u001b[0m\u001b[1;33m(\u001b[0m\u001b[1;34mf\"value = {self.v}\"\u001b[0m\u001b[1;33m)\u001b[0m\u001b[1;33m\u001b[0m\u001b[1;33m\u001b[0m\u001b[0m\n",
       "\u001b[1;31mFile:\u001b[0m      c:\\users\\user\\appdata\\local\\temp\\ipykernel_15308\\1064789111.py\n",
       "\u001b[1;31mType:\u001b[0m      method"
      ]
     },
     "metadata": {},
     "output_type": "display_data"
    }
   ],
   "source": [
    "a.show??"
   ]
  },
  {
   "cell_type": "code",
   "execution_count": 23,
   "id": "5045f0f8-86b9-44c8-9e19-020d7fe97d22",
   "metadata": {},
   "outputs": [
    {
     "data": {
      "text/plain": [
       "\u001b[1;31mSignature:\u001b[0m \u001b[0ma\u001b[0m\u001b[1;33m.\u001b[0m\u001b[0m__init__\u001b[0m\u001b[1;33m(\u001b[0m\u001b[0mv\u001b[0m\u001b[1;33m)\u001b[0m\u001b[1;33m\u001b[0m\u001b[1;33m\u001b[0m\u001b[0m\n",
       "\u001b[1;31mDocstring:\u001b[0m Initialize self.  See help(type(self)) for accurate signature.\n",
       "\u001b[1;31mSource:\u001b[0m   \n",
       "    \u001b[1;32mdef\u001b[0m \u001b[0m__init__\u001b[0m\u001b[1;33m(\u001b[0m\u001b[0mself\u001b[0m\u001b[1;33m,\u001b[0m\u001b[0mv\u001b[0m\u001b[1;33m)\u001b[0m \u001b[1;33m:\u001b[0m\u001b[1;33m\n",
       "\u001b[0m        \u001b[1;31m## a4클래스 \u001b[0m\u001b[1;33m\n",
       "\u001b[0m        \u001b[0mprint\u001b[0m\u001b[1;33m(\u001b[0m\u001b[1;34m\"짠~!\"\u001b[0m\u001b[1;33m)\u001b[0m\u001b[1;33m\n",
       "\u001b[0m        \u001b[0msuper\u001b[0m\u001b[1;33m(\u001b[0m\u001b[0m__class__\u001b[0m\u001b[1;33m,\u001b[0m\u001b[0mself\u001b[0m\u001b[1;33m)\u001b[0m\u001b[1;33m.\u001b[0m\u001b[0m__init__\u001b[0m\u001b[1;33m(\u001b[0m\u001b[0mv\u001b[0m\u001b[1;33m)\u001b[0m  \u001b[1;31m## 생략전 -> super(a3,self).__init__(v)\u001b[0m\u001b[1;33m\n",
       "\u001b[0m        \u001b[0mprint\u001b[0m\u001b[1;33m(\u001b[0m\u001b[1;34m\"짠짠~!!\"\u001b[0m\u001b[1;33m)\u001b[0m\u001b[1;33m\u001b[0m\u001b[1;33m\u001b[0m\u001b[0m\n",
       "\u001b[1;31mFile:\u001b[0m      c:\\users\\user\\appdata\\local\\temp\\ipykernel_15308\\1093371131.py\n",
       "\u001b[1;31mType:\u001b[0m      method"
      ]
     },
     "metadata": {},
     "output_type": "display_data"
    }
   ],
   "source": [
    "a.__init__??"
   ]
  },
  {
   "cell_type": "markdown",
   "id": "dc72b89b-30bc-4cd8-ac17-e27cea4484b8",
   "metadata": {},
   "source": [
    "## 다중상속 (super X)"
   ]
  },
  {
   "cell_type": "markdown",
   "id": "1ba483ec-afe2-422f-909a-e8995c34e317",
   "metadata": {},
   "source": [
    "### 일반적인 다중 상속"
   ]
  },
  {
   "cell_type": "markdown",
   "id": "91b4b80e-d355-4f65-b135-09ff890f7a17",
   "metadata": {},
   "source": [
    "`-` Add 클래스 선언"
   ]
  },
  {
   "cell_type": "code",
   "execution_count": 24,
   "id": "b3c4383f-5931-4d28-a129-d5adf93e4604",
   "metadata": {},
   "outputs": [],
   "source": [
    "class Add:\n",
    "    def __init__(self,value):\n",
    "        self.value = value \n",
    "    def __add__(self,value2):\n",
    "        return self.value + value2"
   ]
  },
  {
   "cell_type": "markdown",
   "id": "c9183235-346e-46c2-8c2b-b88cc734ff85",
   "metadata": {},
   "source": [
    "`-` 초기화"
   ]
  },
  {
   "cell_type": "code",
   "execution_count": 25,
   "id": "d066dd32-ec96-42bd-b82f-c4edb6a427a9",
   "metadata": {},
   "outputs": [],
   "source": [
    "a = Add(2)"
   ]
  },
  {
   "cell_type": "code",
   "execution_count": 26,
   "id": "c1849276-0134-425d-8c9a-48243456a494",
   "metadata": {},
   "outputs": [
    {
     "data": {
      "text/plain": [
       "2"
      ]
     },
     "execution_count": 26,
     "metadata": {},
     "output_type": "execute_result"
    }
   ],
   "source": [
    "a.value"
   ]
  },
  {
   "cell_type": "code",
   "execution_count": 27,
   "id": "806c1633-d24d-4e69-8bd9-8ab614a9ad7d",
   "metadata": {},
   "outputs": [
    {
     "data": {
      "text/plain": [
       "7"
      ]
     },
     "execution_count": 27,
     "metadata": {},
     "output_type": "execute_result"
    }
   ],
   "source": [
    "a + 5 "
   ]
  },
  {
   "cell_type": "markdown",
   "id": "60d8d0f5-489a-4259-b03a-56d21159ac6d",
   "metadata": {},
   "source": [
    "`-` Mul 클래스 선언"
   ]
  },
  {
   "cell_type": "code",
   "execution_count": 28,
   "id": "ced9bf59-14d7-4ed9-a8f0-d0ca438e88af",
   "metadata": {},
   "outputs": [],
   "source": [
    "class Mul:\n",
    "    def __init__(self,value):\n",
    "        self.value = value \n",
    "    def __mul__(self,value2):\n",
    "        return self.value * value2"
   ]
  },
  {
   "cell_type": "code",
   "execution_count": 29,
   "id": "215ecad2-019c-4b5c-8802-448bef899d3e",
   "metadata": {},
   "outputs": [],
   "source": [
    "a = Mul(5)"
   ]
  },
  {
   "cell_type": "code",
   "execution_count": 30,
   "id": "34604ce9-26a8-4b62-bff8-dd48c3a44279",
   "metadata": {},
   "outputs": [
    {
     "data": {
      "text/plain": [
       "5"
      ]
     },
     "execution_count": 30,
     "metadata": {},
     "output_type": "execute_result"
    }
   ],
   "source": [
    "a.value"
   ]
  },
  {
   "cell_type": "markdown",
   "id": "59e87244-3a3e-4432-8b34-a8c862570694",
   "metadata": {},
   "source": [
    "`-` 더하기는 위에서 정의한적 없음"
   ]
  },
  {
   "cell_type": "code",
   "execution_count": 31,
   "id": "b0455673-9bc3-447d-9197-62e539252246",
   "metadata": {},
   "outputs": [
    {
     "ename": "TypeError",
     "evalue": "unsupported operand type(s) for +: 'Mul' and 'int'",
     "output_type": "error",
     "traceback": [
      "\u001b[1;31m---------------------------------------------------------------------------\u001b[0m",
      "\u001b[1;31mTypeError\u001b[0m                                 Traceback (most recent call last)",
      "Cell \u001b[1;32mIn[31], line 1\u001b[0m\n\u001b[1;32m----> 1\u001b[0m a\u001b[38;5;241m+\u001b[39m\u001b[38;5;241m2\u001b[39m\n",
      "\u001b[1;31mTypeError\u001b[0m: unsupported operand type(s) for +: 'Mul' and 'int'"
     ]
    }
   ],
   "source": [
    "a+2"
   ]
  },
  {
   "cell_type": "markdown",
   "id": "1c0ccff1-88c0-4d5a-8e4f-483e693705fb",
   "metadata": {},
   "source": [
    "`-` 곱하기 수행"
   ]
  },
  {
   "cell_type": "code",
   "execution_count": 32,
   "id": "f79d8fe1-a6fd-4eaa-8aca-a8125fbcaf6f",
   "metadata": {},
   "outputs": [
    {
     "data": {
      "text/plain": [
       "10"
      ]
     },
     "execution_count": 32,
     "metadata": {},
     "output_type": "execute_result"
    }
   ],
   "source": [
    "a*2"
   ]
  },
  {
   "cell_type": "markdown",
   "id": "dfa9ab29-52c3-4955-8a38-14369c13c788",
   "metadata": {},
   "source": [
    "`-` 위 2개의 클래스를 상속"
   ]
  },
  {
   "cell_type": "code",
   "execution_count": 33,
   "id": "e7b3e9a7-98e9-40f3-ab84-302c4f1d8fb4",
   "metadata": {},
   "outputs": [],
   "source": [
    "class am(Add,Mul) :\n",
    "      pass"
   ]
  },
  {
   "cell_type": "code",
   "execution_count": 34,
   "id": "ee6ec2cc-08ed-4bf7-9636-ad3013d2bf75",
   "metadata": {},
   "outputs": [
    {
     "data": {
      "text/plain": [
       "5"
      ]
     },
     "execution_count": 34,
     "metadata": {},
     "output_type": "execute_result"
    }
   ],
   "source": [
    "a = am(5)\n",
    "a.value"
   ]
  },
  {
   "cell_type": "code",
   "execution_count": 35,
   "id": "97f75046-1c46-4e0d-9b0a-f3f0512766ee",
   "metadata": {},
   "outputs": [
    {
     "data": {
      "text/plain": [
       "7"
      ]
     },
     "execution_count": 35,
     "metadata": {},
     "output_type": "execute_result"
    }
   ],
   "source": [
    "a + 2"
   ]
  },
  {
   "cell_type": "code",
   "execution_count": 36,
   "id": "4cd3bb7c-85ac-4468-8526-946745649575",
   "metadata": {},
   "outputs": [
    {
     "data": {
      "text/plain": [
       "25"
      ]
     },
     "execution_count": 36,
     "metadata": {},
     "output_type": "execute_result"
    }
   ],
   "source": [
    "a*5"
   ]
  },
  {
   "cell_type": "markdown",
   "id": "75c975e6-3fdd-4b53-849a-f753aed6cc36",
   "metadata": {},
   "source": [
    "### 다중상속(`__init__`이 겹친다...)"
   ]
  },
  {
   "cell_type": "code",
   "execution_count": 37,
   "id": "05d1a6ca-ef3a-4a7a-b7ff-967d4ca45c60",
   "metadata": {},
   "outputs": [],
   "source": [
    "class Add:\n",
    "    def __init__(self,value):\n",
    "        print(\"Add클래스에서 정의된 __init__ 메소드가 실행됩니다\")\n",
    "        self.value = value \n",
    "    def __add__(self,value2):\n",
    "        return self.value + value2\n",
    "              \n",
    "class Mul:\n",
    "    def __init__(self,value):\n",
    "        print(\"Mul클래스에서 정의된 __init__ 메소드가 실행됩니다\")        \n",
    "        self.value = value \n",
    "    def __mul__(self,value2):\n",
    "        return self.value * value2        \n",
    "    \n",
    "class am(Add,Mul):\n",
    "    pass     "
   ]
  },
  {
   "cell_type": "markdown",
   "id": "ab335efd-6619-4164-8f5f-5c97df28cfe3",
   "metadata": {},
   "source": [
    "`-` 현재 `Add`클래스가 우선 순위인 것 같다."
   ]
  },
  {
   "cell_type": "code",
   "execution_count": 38,
   "id": "58329bf3-6570-445a-b1b9-79981262bc3d",
   "metadata": {},
   "outputs": [
    {
     "name": "stdout",
     "output_type": "stream",
     "text": [
      "Add클래스에서 정의된 __init__ 메소드가 실행됩니다\n"
     ]
    }
   ],
   "source": [
    "a = am(5)"
   ]
  },
  {
   "cell_type": "markdown",
   "id": "4417c610-9f24-41df-9400-852a13ae9ded",
   "metadata": {},
   "source": [
    "### 믹스인 클래스($\\star\\star\\star$)"
   ]
  },
  {
   "cell_type": "code",
   "execution_count": 39,
   "id": "739ca08d-5ca6-405d-ba83-c317811cda11",
   "metadata": {},
   "outputs": [],
   "source": [
    "class Init:\n",
    "    def __init__(self,value):\n",
    "        ## 여기는 Init 클래스야 \n",
    "        print(\"Init클래스에서 정의된 __init__메소드를 실행합니다\")        \n",
    "        self.value = value\n",
    "\n",
    "class Add(Init):\n",
    "    def __add__(self,value2):\n",
    "        return self.value + value2\n",
    "              \n",
    "class Mul(Init):\n",
    "    def __mul__(self,value2):\n",
    "        return self.value * value2        \n",
    "    \n",
    "class am(Add,Mul):\n",
    "    pass     "
   ]
  },
  {
   "cell_type": "code",
   "execution_count": 40,
   "id": "07896594-db2a-40d0-bdb0-42128432d96a",
   "metadata": {},
   "outputs": [
    {
     "name": "stdout",
     "output_type": "stream",
     "text": [
      "Init클래스에서 정의된 __init__메소드를 실행합니다\n"
     ]
    }
   ],
   "source": [
    "a = am(5)"
   ]
  },
  {
   "cell_type": "code",
   "execution_count": 41,
   "id": "e543f1ed-2971-42ff-9dac-18df4dc3bec9",
   "metadata": {},
   "outputs": [
    {
     "data": {
      "text/plain": [
       "7"
      ]
     },
     "execution_count": 41,
     "metadata": {},
     "output_type": "execute_result"
    }
   ],
   "source": [
    "a + 2"
   ]
  },
  {
   "cell_type": "code",
   "execution_count": 42,
   "id": "d71ff245-c1f6-4e61-929a-0577594c959d",
   "metadata": {},
   "outputs": [
    {
     "data": {
      "text/plain": [
       "25"
      ]
     },
     "execution_count": 42,
     "metadata": {},
     "output_type": "execute_result"
    }
   ],
   "source": [
    "a*5"
   ]
  },
  {
   "cell_type": "markdown",
   "id": "19790928-76aa-4ae1-a21a-aa85954e993f",
   "metadata": {},
   "source": [
    "## 다중상속 (super O)"
   ]
  },
  {
   "cell_type": "markdown",
   "id": "9db314e2-3d55-43a1-8b71-1a93b58734ce",
   "metadata": {},
   "source": [
    "### super를 쓰지 않는 좋지 못한 예시"
   ]
  },
  {
   "cell_type": "code",
   "execution_count": 43,
   "id": "9e691a8e-58a6-4724-aa9b-384e126d6bf7",
   "metadata": {},
   "outputs": [],
   "source": [
    "class Init:\n",
    "    def __init__(self,value):\n",
    "        ## 여기는 Init 클래스야 \n",
    "        print(\"Init클래스에서 정의된 __init__메소드를 실행합니다\")        \n",
    "        self.value = value"
   ]
  },
  {
   "cell_type": "markdown",
   "id": "81696b49-5630-4e45-82ad-dc9e9613ca4b",
   "metadata": {},
   "source": [
    "`-` 위 intit을 상속 받아서"
   ]
  },
  {
   "cell_type": "markdown",
   "id": "70621952-6dc9-4e74-99e4-ec72983cbfe1",
   "metadata": {},
   "source": [
    "* 초기값 = 초기값 x 2"
   ]
  },
  {
   "cell_type": "markdown",
   "id": "bf6a4287-f070-4230-8504-195204f2ae80",
   "metadata": {},
   "source": [
    "* 초기값 = 초기값 + 5"
   ]
  },
  {
   "cell_type": "markdown",
   "id": "3c9219f3-803d-470f-898f-74428fdbf573",
   "metadata": {},
   "source": [
    "를 객채 생성과 동시 에 수행하는 클래스를 각각 만듬"
   ]
  },
  {
   "cell_type": "code",
   "execution_count": 45,
   "id": "229b1424-4c92-4d66-b7a0-288be73b5789",
   "metadata": {},
   "outputs": [],
   "source": [
    "class a1(Init):\n",
    "    def __init__(self,value):\n",
    "        Init.__init__(self,value)\n",
    "        self.value = self.value * 2"
   ]
  },
  {
   "cell_type": "code",
   "execution_count": 47,
   "id": "98256803-6860-428f-b287-44232a675580",
   "metadata": {},
   "outputs": [
    {
     "name": "stdout",
     "output_type": "stream",
     "text": [
      "Init클래스에서 정의된 __init__메소드를 실행합니다\n"
     ]
    },
    {
     "data": {
      "text/plain": [
       "10"
      ]
     },
     "execution_count": 47,
     "metadata": {},
     "output_type": "execute_result"
    }
   ],
   "source": [
    "a = a1(5)\n",
    "a.value"
   ]
  },
  {
   "cell_type": "code",
   "execution_count": 48,
   "id": "f6695e8a-9a58-4f13-a9fd-a97ef1c9da46",
   "metadata": {},
   "outputs": [],
   "source": [
    "class a2(Init):\n",
    "    def __init__(self,value):\n",
    "        Init.__init__(self,value)\n",
    "        self.value = self.value + 5"
   ]
  },
  {
   "cell_type": "code",
   "execution_count": 52,
   "id": "66bc2164-d037-4b08-bd91-4a3e2177ee8d",
   "metadata": {},
   "outputs": [
    {
     "name": "stdout",
     "output_type": "stream",
     "text": [
      "Init클래스에서 정의된 __init__메소드를 실행합니다\n"
     ]
    },
    {
     "data": {
      "text/plain": [
       "9"
      ]
     },
     "execution_count": 52,
     "metadata": {},
     "output_type": "execute_result"
    }
   ],
   "source": [
    "a = a2(4)\n",
    "a.value"
   ]
  },
  {
   "cell_type": "markdown",
   "id": "d414335b-87f4-488e-9d43-ea4bd9623de6",
   "metadata": {},
   "source": [
    "`-` 근데 `초기값 = 초기갑 x 2 + 5`를 객체 생성과 동시에 수행해주는 클래스를 만들고 싶음."
   ]
  },
  {
   "cell_type": "code",
   "execution_count": 56,
   "id": "ae35749d-6f2e-46de-9c26-5f2b423f8b7f",
   "metadata": {},
   "outputs": [
    {
     "name": "stdout",
     "output_type": "stream",
     "text": [
      "초기값 = 초기값 x2 + 5를 수행ㅎ는 클래스입니다.\n"
     ]
    }
   ],
   "source": [
    "class a3(a1,a2) :\n",
    "    print(\"초기값 = 초기값 x2 + 5를 수행ㅎ는 클래스입니다.\")\n",
    "    def __init__(self,value) :\n",
    "        a1.__init__(self,value)\n",
    "        a2.__init__(self,self.value)"
   ]
  },
  {
   "cell_type": "code",
   "execution_count": 57,
   "id": "91d4f5be-287c-477c-b33e-6a74c0afbe66",
   "metadata": {},
   "outputs": [
    {
     "name": "stdout",
     "output_type": "stream",
     "text": [
      "Init클래스에서 정의된 __init__메소드를 실행합니다\n",
      "Init클래스에서 정의된 __init__메소드를 실행합니다\n"
     ]
    }
   ],
   "source": [
    "a = a3(5)"
   ]
  },
  {
   "cell_type": "code",
   "execution_count": 58,
   "id": "fa815b70-1cda-4c62-9aaf-d1f11c896428",
   "metadata": {},
   "outputs": [
    {
     "data": {
      "text/plain": [
       "15"
      ]
     },
     "execution_count": 58,
     "metadata": {},
     "output_type": "execute_result"
    }
   ],
   "source": [
    "a.value"
   ]
  },
  {
   "cell_type": "markdown",
   "id": "b39975ea-5f2b-4ba6-b181-667e982cd4fd",
   "metadata": {},
   "source": [
    "#### 싫은 이유"
   ]
  },
  {
   "cell_type": "markdown",
   "id": "288fcbea-6340-428c-9917-22061f6165b6",
   "metadata": {},
   "source": [
    "1. 코드가 지저분함\n",
    "\n",
    "2. 먼가 상속이란 단어의 진정성이 없음"
   ]
  },
  {
   "cell_type": "markdown",
   "id": "e48b5c66-3ef4-4468-83bb-9e7cdac14cb3",
   "metadata": {},
   "source": [
    "***"
   ]
  },
  {
   "cell_type": "markdown",
   "id": "a1d93043-ff87-47f9-b7e0-377e3a173115",
   "metadata": {},
   "source": [
    "### super()을 활용한 좋은 예시"
   ]
  },
  {
   "cell_type": "code",
   "execution_count": 65,
   "id": "82e4943b-03d1-4de3-8a18-26e09d78d501",
   "metadata": {},
   "outputs": [],
   "source": [
    "class Init(object):\n",
    "    def __init__(self,value):\n",
    "        ## 여기는 Init 클래스야 \n",
    "        print(\"Init클래스에서 정의된 __init__메소드를 실행합니다\")        \n",
    "        self.value = value\n",
    "        \n",
    "class a1(Init):\n",
    "    def __init__(self,value):\n",
    "        super().__init__(value)\n",
    "        self.value = self.value * 2\n",
    "        \n",
    "class a2(Init):\n",
    "    def __init__(self,value):\n",
    "        super().__init__(value)\n",
    "        self.value = self.value + 5\n",
    "        \n",
    "class a3(a2,a1):\n",
    "    def __init__(self,value):\n",
    "        super().__init__(value)"
   ]
  },
  {
   "cell_type": "code",
   "execution_count": 67,
   "id": "64afb6c3-b95f-4d7a-b7a1-81776944f7eb",
   "metadata": {},
   "outputs": [
    {
     "name": "stdout",
     "output_type": "stream",
     "text": [
      "Init클래스에서 정의된 __init__메소드를 실행합니다\n"
     ]
    }
   ],
   "source": [
    "a = a3(5)"
   ]
  },
  {
   "cell_type": "code",
   "execution_count": 68,
   "id": "fdebc298-6821-4386-86f1-540282ea7898",
   "metadata": {},
   "outputs": [
    {
     "data": {
      "text/plain": [
       "15"
      ]
     },
     "execution_count": 68,
     "metadata": {},
     "output_type": "execute_result"
    }
   ],
   "source": [
    "a.value"
   ]
  },
  {
   "cell_type": "markdown",
   "id": "fff1e525-a19a-42ea-b966-4a75668660e5",
   "metadata": {},
   "source": [
    "### super의 사용방법"
   ]
  },
  {
   "cell_type": "markdown",
   "id": "675ee599-8e5c-4c32-9609-14b87ebacba3",
   "metadata": {},
   "source": [
    "`-` **(\"초기값 x 2 + 5) x 2\"** 를 수행해주는 클래스를 만들고 싶음."
   ]
  },
  {
   "cell_type": "code",
   "execution_count": 90,
   "id": "92b723e6-e74b-48d7-a08c-07d5be1e0554",
   "metadata": {},
   "outputs": [],
   "source": [
    "class Init(object):\n",
    "    def __init__(self,value):\n",
    "        ## 여기는 Init 클래스야 \n",
    "        print(\"Init클래스에서 정의된 __init__메소드를 실행합니다\")        \n",
    "        self.value = value\n",
    "        \n",
    "class a1(Init):\n",
    "    def __init__(self,value):\n",
    "        super().__init__(value)\n",
    "        self.value = self.value * 2\n",
    "        \n",
    "class a2(Init):\n",
    "    def __init__(self,value):\n",
    "        super().__init__(value)\n",
    "        self.value = self.value + 5\n",
    "        \n",
    "class a3(a2,a1): ## 파라미터 순서에 따라 mro 상속 순서가 달라짐\n",
    "    def __init__(self,value):\n",
    "        super().__init__(value)\n",
    "        super(a2,self).__init__(self.value)"
   ]
  },
  {
   "cell_type": "markdown",
   "id": "4017402a-6d02-4ec0-a943-6eb54350b2d0",
   "metadata": {},
   "source": [
    "`-` `super().__init__(value)` :  상위 클래스인 `init,a1,a2`의 `__init__`를 순서대로 실행하되 중복실행하지 않는다."
   ]
  },
  {
   "cell_type": "markdown",
   "id": "1d7ec659-e45d-4234-9122-ddc961575fba",
   "metadata": {},
   "source": [
    "`-` `super(a2,self).__init__(self.value)` :  `a2`보다 상위 클래스인 `init, a1`의 `__init__`을 순서대로 실행하되 중복실행은 하지 않음."
   ]
  },
  {
   "cell_type": "code",
   "execution_count": 88,
   "id": "97d1b0ad-3155-45c6-b989-2763b71fe3b7",
   "metadata": {},
   "outputs": [
    {
     "name": "stdout",
     "output_type": "stream",
     "text": [
      "Init클래스에서 정의된 __init__메소드를 실행합니다\n",
      "Init클래스에서 정의된 __init__메소드를 실행합니다\n"
     ]
    },
    {
     "data": {
      "text/plain": [
       "30"
      ]
     },
     "execution_count": 88,
     "metadata": {},
     "output_type": "execute_result"
    }
   ],
   "source": [
    "a = a3(5)\n",
    "a.value"
   ]
  },
  {
   "cell_type": "code",
   "execution_count": 89,
   "id": "5c4cc56a-fbf8-428e-98b2-e77b6ae764e0",
   "metadata": {},
   "outputs": [
    {
     "data": {
      "text/plain": [
       "[__main__.a3, __main__.a2, __main__.a1, __main__.Init, object]"
      ]
     },
     "execution_count": 89,
     "metadata": {},
     "output_type": "execute_result"
    }
   ],
   "source": [
    "a3.mro()"
   ]
  },
  {
   "cell_type": "markdown",
   "id": "7ee962e5-4bdd-4f2b-902d-f28254d5d88a",
   "metadata": {},
   "source": [
    "`-` 그냥 이게 더 낫지 않나?"
   ]
  },
  {
   "cell_type": "code",
   "execution_count": 129,
   "id": "0bc70e01-8f23-400c-abe3-4dfa29643b06",
   "metadata": {},
   "outputs": [],
   "source": [
    "class Init(object):\n",
    "    def __init__(self,value):\n",
    "        ## 여기는 Init 클래스야 \n",
    "        print(\"Init클래스에서 정의된 __init__메소드를 실행합니다\")        \n",
    "        self.value = value\n",
    "        \n",
    "class a1(Init):\n",
    "    def aa1(self):\n",
    "        self.value = self.value * 2\n",
    "        \n",
    "class a2(Init):\n",
    "    def aa2(self):\n",
    "        self.value = self.value + 5\n",
    "        \n",
    "class a3(a2,a1):\n",
    "    def aa3(self):\n",
    "        self.aa1()\n",
    "        self.aa2()\n",
    "        self.aa1()"
   ]
  },
  {
   "cell_type": "code",
   "execution_count": 130,
   "id": "a7dcc0e1-9c0a-452c-a6ab-7077c1dadbbf",
   "metadata": {},
   "outputs": [
    {
     "name": "stdout",
     "output_type": "stream",
     "text": [
      "Init클래스에서 정의된 __init__메소드를 실행합니다\n"
     ]
    }
   ],
   "source": [
    "a = a3(5)"
   ]
  },
  {
   "cell_type": "code",
   "execution_count": 132,
   "id": "7c6b23fb-3d98-41f4-b186-a3ec3f9a192b",
   "metadata": {},
   "outputs": [
    {
     "data": {
      "text/plain": [
       "5"
      ]
     },
     "execution_count": 132,
     "metadata": {},
     "output_type": "execute_result"
    }
   ],
   "source": [
    "a.value"
   ]
  },
  {
   "cell_type": "code",
   "execution_count": 133,
   "id": "5f027253-b9bb-4887-89d8-798c97e9e71d",
   "metadata": {},
   "outputs": [],
   "source": [
    "a.aa3()"
   ]
  },
  {
   "cell_type": "code",
   "execution_count": 134,
   "id": "cc4f6e8b-cda8-49b3-a468-b24323ebee8d",
   "metadata": {},
   "outputs": [
    {
     "data": {
      "text/plain": [
       "30"
      ]
     },
     "execution_count": 134,
     "metadata": {},
     "output_type": "execute_result"
    }
   ],
   "source": [
    "a.value"
   ]
  },
  {
   "cell_type": "markdown",
   "id": "1d4ded06-3606-49c2-b4c9-b7338ae75478",
   "metadata": {},
   "source": [
    "`-` 그래도 이전 방법들을 잘 알아야한다.\n",
    "\n",
    "* 어떠한 클래스를 상속 받을때는 \"내가 만든 클래스\"가 아닐 경우가 대부분이다. 따라서 \"애초부터 메소드가 겹치지 않게 클래스들을 깔끔하게 디자인을 하는것\"은 불가능한 경우가 많다."
   ]
  },
  {
   "cell_type": "markdown",
   "id": "fb7866b4-534d-4221-b5c6-3789c90308ac",
   "metadata": {},
   "source": [
    "## 리스트의 상속"
   ]
  },
  {
   "cell_type": "markdown",
   "id": "28ead202-7906-43d2-847a-34f0513a567e",
   "metadata": {},
   "source": [
    "`-` list와 비슷하면서... 멤버들의 빈도가 계산되는 메소드를 갖는 나만의 list 클래스를 만들고 싶다."
   ]
  },
  {
   "cell_type": "code",
   "execution_count": 135,
   "id": "06184720-a48e-4dd0-9e7f-71c7cecd226e",
   "metadata": {},
   "outputs": [
    {
     "data": {
      "text/plain": [
       "['a', 's', 'd', 'f', 'a', 's', 's', 's', 'd', 'f', 'a']"
      ]
     },
     "execution_count": 135,
     "metadata": {},
     "output_type": "execute_result"
    }
   ],
   "source": [
    "lst = list('asdfasssdfa')\n",
    "lst "
   ]
  },
  {
   "cell_type": "markdown",
   "id": "e574e3fa-3970-4f82-8b85-887e32b04c62",
   "metadata": {},
   "source": [
    "`-` 각 원소들의 빈도"
   ]
  },
  {
   "cell_type": "code",
   "execution_count": 136,
   "id": "c0933a07-8d81-41a1-bcf4-051f1bd637e3",
   "metadata": {},
   "outputs": [
    {
     "data": {
      "text/plain": [
       "{'d': 2, 's': 4, 'f': 2, 'a': 3}"
      ]
     },
     "execution_count": 136,
     "metadata": {},
     "output_type": "execute_result"
    }
   ],
   "source": [
    "{i : lst.count(i) for i in set(lst)}"
   ]
  },
  {
   "cell_type": "markdown",
   "id": "b9811841-28e5-4273-9059-2528ffe31cf6",
   "metadata": {},
   "source": [
    "* `lst.freq()`를 수행하면 위의 결과가 나왔으면 좋겠음"
   ]
  },
  {
   "cell_type": "code",
   "execution_count": 138,
   "id": "a00176ea-7dcd-4efe-9f89-056a6b96e6c8",
   "metadata": {},
   "outputs": [],
   "source": [
    "class List(list) :\n",
    "    def freq(self) :\n",
    "        return {i : self.count(i) for i in set(self)}"
   ]
  },
  {
   "cell_type": "code",
   "execution_count": 139,
   "id": "b892f596-67be-486f-9761-16753c578a4a",
   "metadata": {},
   "outputs": [],
   "source": [
    "lst2 = List('asdfasssdfa')"
   ]
  },
  {
   "cell_type": "code",
   "execution_count": 140,
   "id": "21494665-dd19-4ada-a07d-708e76f54a6e",
   "metadata": {},
   "outputs": [
    {
     "data": {
      "text/plain": [
       "['a', 's', 'd', 'f', 'a', 's', 's', 's', 'd', 'f', 'a']"
      ]
     },
     "execution_count": 140,
     "metadata": {},
     "output_type": "execute_result"
    }
   ],
   "source": [
    "lst2"
   ]
  },
  {
   "cell_type": "code",
   "execution_count": 141,
   "id": "1fa383fb-febb-4380-abd3-3424553e9d36",
   "metadata": {},
   "outputs": [
    {
     "data": {
      "text/plain": [
       "{'d': 2, 's': 4, 'f': 2, 'a': 3}"
      ]
     },
     "execution_count": 141,
     "metadata": {},
     "output_type": "execute_result"
    }
   ],
   "source": [
    "lst2.freq()"
   ]
  }
 ],
 "metadata": {
  "kernelspec": {
   "display_name": "Python 3 (ipykernel)",
   "language": "python",
   "name": "python3"
  },
  "language_info": {
   "codemirror_mode": {
    "name": "ipython",
    "version": 3
   },
   "file_extension": ".py",
   "mimetype": "text/x-python",
   "name": "python",
   "nbconvert_exporter": "python",
   "pygments_lexer": "ipython3",
   "version": "3.11.4"
  }
 },
 "nbformat": 4,
 "nbformat_minor": 5
}
