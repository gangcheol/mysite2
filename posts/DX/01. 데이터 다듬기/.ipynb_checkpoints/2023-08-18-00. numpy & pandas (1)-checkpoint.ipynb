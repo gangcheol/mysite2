{
 "cells": [
  {
   "cell_type": "raw",
   "id": "fb404d06-8611-4e94-aba0-362ed642baf3",
   "metadata": {},
   "source": [
    "---\n",
    "title : \"00. numpy & pandas (1)\"\n",
    "authot : \"GC\"\n",
    "date : \"08/18/23\"\n",
    "categories : [데이터 다듬기, numpy, pandas]\n",
    "---"
   ]
  },
  {
   "cell_type": "markdown",
   "id": "80e6feba-24ff-40bc-add1-fde22ebf0319",
   "metadata": {},
   "source": [
    "# import"
   ]
  },
  {
   "cell_type": "code",
   "execution_count": 4,
   "id": "9585b03c-b8a5-4978-8361-dfbb7da9654c",
   "metadata": {},
   "outputs": [],
   "source": [
    "import pandas as pd\n",
    "import numpy as np\n",
    "import matplotlib.pyplot as plt"
   ]
  },
  {
   "cell_type": "markdown",
   "id": "f0184d9f-24b5-41fd-8f6f-61f9a224ed62",
   "metadata": {},
   "source": [
    "# 0. 용어 정의"
   ]
  },
  {
   "cell_type": "markdown",
   "id": "b492c57e-e3a2-45d0-b8a8-90488d42b4e0",
   "metadata": {},
   "source": [
    "1. axis : 배열의 각 축을 의미\n",
    "\n",
    "2. rank : 축의 개수\n",
    "\n",
    "3. shape : (3,4) $\\to (3 \\times 4 \\,\\text{by matrix})$ "
   ]
  },
  {
   "cell_type": "markdown",
   "id": "e44ea5de-d4a3-4fff-8f32-a7c7fe5f59f9",
   "metadata": {},
   "source": [
    "# 1. 배열 선언"
   ]
  },
  {
   "cell_type": "markdown",
   "id": "9aebe6c6-93af-4298-87f7-b918cafcea1b",
   "metadata": {},
   "source": [
    "## (1) 1차원 배열의 선언"
   ]
  },
  {
   "cell_type": "markdown",
   "id": "44642915-af3f-42eb-99c8-89e0caef0746",
   "metadata": {},
   "source": [
    "`-` 튜플"
   ]
  },
  {
   "cell_type": "code",
   "execution_count": 36,
   "id": "137388ca-3b22-444a-9d1e-aa42614c7e66",
   "metadata": {},
   "outputs": [
    {
     "data": {
      "text/plain": [
       "array([1, 2, 3])"
      ]
     },
     "execution_count": 36,
     "metadata": {},
     "output_type": "execute_result"
    }
   ],
   "source": [
    "np.array((1,2,3))"
   ]
  },
  {
   "cell_type": "markdown",
   "id": "51bb6e01-8b0c-49a9-9828-7cc364e72684",
   "metadata": {},
   "source": [
    "`-` 리스트"
   ]
  },
  {
   "cell_type": "code",
   "execution_count": 37,
   "id": "8da36176-53cc-4bfb-b801-57e3d47313c8",
   "metadata": {},
   "outputs": [
    {
     "data": {
      "text/plain": [
       "array([1, 2, 3])"
      ]
     },
     "execution_count": 37,
     "metadata": {},
     "output_type": "execute_result"
    }
   ],
   "source": [
    "np.array([1,2,3])"
   ]
  },
  {
   "cell_type": "markdown",
   "id": "8ae0770a-3e2e-4813-bf85-328142ef0e7b",
   "metadata": {},
   "source": [
    "`-` range"
   ]
  },
  {
   "cell_type": "code",
   "execution_count": 39,
   "id": "bc0b5feb-4355-454f-b083-d53fe9d51ae1",
   "metadata": {},
   "outputs": [
    {
     "data": {
      "text/plain": [
       "array([0, 1, 2, 3, 4, 5, 6, 7, 8, 9])"
      ]
     },
     "execution_count": 39,
     "metadata": {},
     "output_type": "execute_result"
    }
   ],
   "source": [
    "np.array(range(10))"
   ]
  },
  {
   "cell_type": "markdown",
   "id": "4e1051c4-3fe8-4e8c-9899-716c9836eddc",
   "metadata": {},
   "source": [
    "### 알아두면 좋은 1차원 배열 선언"
   ]
  },
  {
   "cell_type": "code",
   "execution_count": 40,
   "id": "98c9fa83-8541-4356-84e4-c7f1c6df2b1e",
   "metadata": {},
   "outputs": [
    {
     "data": {
      "text/plain": [
       "array([0., 0., 0.])"
      ]
     },
     "execution_count": 40,
     "metadata": {},
     "output_type": "execute_result"
    }
   ],
   "source": [
    "np.zeros(3)"
   ]
  },
  {
   "cell_type": "code",
   "execution_count": 41,
   "id": "082f733f-04a7-4c22-8a8d-4ad2cb1584f6",
   "metadata": {},
   "outputs": [
    {
     "data": {
      "text/plain": [
       "array([1., 1., 1.])"
      ]
     },
     "execution_count": 41,
     "metadata": {},
     "output_type": "execute_result"
    }
   ],
   "source": [
    "np.ones(3)"
   ]
  },
  {
   "cell_type": "markdown",
   "id": "aba2de37-38de-41a3-944c-dfbe17c6decd",
   "metadata": {},
   "source": [
    "`-` `np.linspace(2,8,4)` : 2~8까지, 4개의 원소를 생성"
   ]
  },
  {
   "cell_type": "code",
   "execution_count": 42,
   "id": "363d36b5-b68f-42d1-baf7-4ee7b47ccb0e",
   "metadata": {},
   "outputs": [
    {
     "data": {
      "text/plain": [
       "array([2., 4., 6., 8.])"
      ]
     },
     "execution_count": 42,
     "metadata": {},
     "output_type": "execute_result"
    }
   ],
   "source": [
    "np.linspace(2,8,4)"
   ]
  },
  {
   "cell_type": "markdown",
   "id": "d5768757-60aa-4875-a172-8373bd07d979",
   "metadata": {},
   "source": [
    "`-` `np.arange(start,end)` : nump버전 range라고 생각하자!"
   ]
  },
  {
   "cell_type": "code",
   "execution_count": 45,
   "id": "9f9e2d66-fdb6-4305-aed4-cedbdb29be3a",
   "metadata": {},
   "outputs": [
    {
     "data": {
      "text/plain": [
       "(array([0, 1, 2, 3, 4]), array([1, 2, 3, 4, 5]))"
      ]
     },
     "execution_count": 45,
     "metadata": {},
     "output_type": "execute_result"
    }
   ],
   "source": [
    "np.arange(5), np.arange(1,6)"
   ]
  },
  {
   "cell_type": "markdown",
   "id": "49c5af68-4200-4827-9e5e-3cf683bd6f13",
   "metadata": {},
   "source": [
    "### 주의 1. 배열의 자료형"
   ]
  },
  {
   "cell_type": "markdown",
   "id": "249af534-0d23-4981-959c-c655db78e3cd",
   "metadata": {},
   "source": [
    "`-` 숫자 $\\to$ 문자"
   ]
  },
  {
   "cell_type": "code",
   "execution_count": 85,
   "id": "43092f69-6113-40f8-89aa-4d2fed40f07f",
   "metadata": {},
   "outputs": [
    {
     "data": {
      "text/plain": [
       "array(['1', 'A', '3'], dtype='<U11')"
      ]
     },
     "execution_count": 85,
     "metadata": {},
     "output_type": "execute_result"
    }
   ],
   "source": [
    "a = np.array([1,\"A\",3.0])\n",
    "a"
   ]
  },
  {
   "cell_type": "markdown",
   "id": "93c034d5-4d38-4528-95b2-54537873b7e6",
   "metadata": {},
   "source": [
    "`-` 정수 $\\to$ 실수"
   ]
  },
  {
   "cell_type": "code",
   "execution_count": 86,
   "id": "792d9bbe-3099-4933-bf07-7ef437569722",
   "metadata": {},
   "outputs": [
    {
     "data": {
      "text/plain": [
       "array([1., 2., 3.])"
      ]
     },
     "execution_count": 86,
     "metadata": {},
     "output_type": "execute_result"
    }
   ],
   "source": [
    "a = np.array([1,2,3.0])\n",
    "a"
   ]
  },
  {
   "cell_type": "markdown",
   "id": "c131e956-57ad-4ffd-96e5-ef1d39eb3945",
   "metadata": {},
   "source": [
    "## (2) 2차원 배열의 선언"
   ]
  },
  {
   "cell_type": "markdown",
   "id": "0acf4e71-180f-40b9-b0b2-173be9d7be92",
   "metadata": {},
   "source": [
    "### list"
   ]
  },
  {
   "cell_type": "code",
   "execution_count": 58,
   "id": "f08fc378-e591-4ec5-99ec-b80e8c034031",
   "metadata": {},
   "outputs": [
    {
     "data": {
      "text/plain": [
       "array([[1, 2, 3],\n",
       "       [4, 5, 6]])"
      ]
     },
     "execution_count": 58,
     "metadata": {},
     "output_type": "execute_result"
    }
   ],
   "source": [
    "a1 = [[1,2,3],\n",
    "     [4,5,6]]\n",
    "\n",
    "np.array(a1)"
   ]
  },
  {
   "cell_type": "markdown",
   "id": "0cd3522f-5dac-4650-ac43-57143b60eeda",
   "metadata": {},
   "source": [
    "### stack"
   ]
  },
  {
   "cell_type": "code",
   "execution_count": 60,
   "id": "2d7de67b-6eb0-49ce-b54d-b684cfb84241",
   "metadata": {},
   "outputs": [
    {
     "data": {
      "text/plain": [
       "(array([[0, 4, 2],\n",
       "        [3, 2, 3]]),\n",
       " (2, 3))"
      ]
     },
     "execution_count": 60,
     "metadata": {},
     "output_type": "execute_result"
    }
   ],
   "source": [
    "a1 = np.random.randint(0,9,3)\n",
    "a2 = np.random.randint(0,9,3)\n",
    "\n",
    "A1 = np.stack([a1,a2],axis=0) \n",
    "A1, A1.shape"
   ]
  },
  {
   "cell_type": "code",
   "execution_count": 62,
   "id": "3d3e3680-fe05-4cea-b52d-855c3e957717",
   "metadata": {},
   "outputs": [
    {
     "data": {
      "text/plain": [
       "(array([[0, 3],\n",
       "        [4, 2],\n",
       "        [2, 3]]),\n",
       " (3, 2))"
      ]
     },
     "execution_count": 62,
     "metadata": {},
     "output_type": "execute_result"
    }
   ],
   "source": [
    "A2 = np.stack([a1,a2],axis=1) \n",
    "A2, A2.shape"
   ]
  },
  {
   "cell_type": "markdown",
   "id": "862af274-a2d7-4554-96e3-f84729034ed1",
   "metadata": {},
   "source": [
    "## (3) 3차원 배열의 선언"
   ]
  },
  {
   "cell_type": "markdown",
   "id": "587b310a-6572-4e5c-b263-ff53c4428fcd",
   "metadata": {},
   "source": [
    "### list"
   ]
  },
  {
   "cell_type": "code",
   "execution_count": 72,
   "id": "7e633d7d-9921-4849-b9b5-434840b74579",
   "metadata": {},
   "outputs": [
    {
     "data": {
      "text/plain": [
       "(array([[[1, 2],\n",
       "         [3, 4]],\n",
       " \n",
       "        [[5, 6],\n",
       "         [7, 8]]]),\n",
       " (2, 2, 2))"
      ]
     },
     "execution_count": 72,
     "metadata": {},
     "output_type": "execute_result"
    }
   ],
   "source": [
    "a = [[[1,2],[3,4]],[[5,6],[7,8]]]\n",
    "np.array(a), np.array(a).shape"
   ]
  },
  {
   "cell_type": "markdown",
   "id": "cd55c93e-2143-4bca-b8a7-91cd83f25ff8",
   "metadata": {},
   "source": [
    "### stack + reshape"
   ]
  },
  {
   "cell_type": "code",
   "execution_count": 118,
   "id": "3f7127d4-1138-419c-9973-c53a8832960d",
   "metadata": {},
   "outputs": [
    {
     "data": {
      "text/plain": [
       "(array([[[8, 8],\n",
       "         [4, 0],\n",
       "         [6, 8]],\n",
       " \n",
       "        [[8, 4],\n",
       "         [0, 1],\n",
       "         [1, 6]]]),\n",
       " (2, 3, 2))"
      ]
     },
     "execution_count": 118,
     "metadata": {},
     "output_type": "execute_result"
    }
   ],
   "source": [
    "a1 = np.random.randint(0,9,4)\n",
    "a2 = np.random.randint(0,9,4)\n",
    "a3 = np.random.randint(0,9,4)\n",
    "\n",
    "A1 = np.stack([a1,a2,a3],axis=0).reshape(2,3,2)\n",
    "A1, A1.shape"
   ]
  },
  {
   "cell_type": "code",
   "execution_count": 125,
   "id": "b83edfdd-5878-4757-8617-78dc0da75a4d",
   "metadata": {},
   "outputs": [
    {
     "data": {
      "text/plain": [
       "dtype('int32')"
      ]
     },
     "execution_count": 125,
     "metadata": {},
     "output_type": "execute_result"
    }
   ],
   "source": [
    "A1.dtype"
   ]
  },
  {
   "cell_type": "markdown",
   "id": "9271288f-9867-4521-8702-28797e4ca7f2",
   "metadata": {},
   "source": [
    "***"
   ]
  },
  {
   "cell_type": "markdown",
   "id": "c00cae61-2340-4c1d-84c5-07f7c3534738",
   "metadata": {},
   "source": [
    "# 2. 인덱싱 & 슬라이싱"
   ]
  },
  {
   "cell_type": "code",
   "execution_count": 154,
   "id": "1e4aff31-be60-4a18-8d32-06d68302fa4c",
   "metadata": {},
   "outputs": [
    {
     "data": {
      "text/plain": [
       "array([[8, 8, 7],\n",
       "       [3, 1, 1],\n",
       "       [3, 5, 7],\n",
       "       [7, 8, 6]])"
      ]
     },
     "execution_count": 154,
     "metadata": {},
     "output_type": "execute_result"
    }
   ],
   "source": [
    "a1 = np.random.randint(0,9,3)\n",
    "a2 = np.random.randint(0,9,3)\n",
    "a3 = np.random.randint(0,9,3)\n",
    "a4 = np.random.randint(0,9,3)\n",
    "\n",
    "A1 = np.stack([a1,a2,a3,a4],axis=0) \n",
    "A1"
   ]
  },
  {
   "cell_type": "markdown",
   "id": "3b085b7c-db40-46e2-8efa-2ccf5d520a6f",
   "metadata": {},
   "source": [
    "## 행 조회"
   ]
  },
  {
   "cell_type": "code",
   "execution_count": 155,
   "id": "19861302-c5d7-4004-bf4c-db367f27b9cb",
   "metadata": {},
   "outputs": [
    {
     "data": {
      "text/plain": [
       "array([[8, 8, 7],\n",
       "       [3, 1, 1]])"
      ]
     },
     "execution_count": 155,
     "metadata": {},
     "output_type": "execute_result"
    }
   ],
   "source": [
    "A1[0:2,]"
   ]
  },
  {
   "cell_type": "code",
   "execution_count": 156,
   "id": "18ea686e-e0f3-447c-8de4-9054af9fe9ea",
   "metadata": {},
   "outputs": [
    {
     "data": {
      "text/plain": [
       "array([[8, 8, 7],\n",
       "       [3, 1, 1],\n",
       "       [3, 5, 7]])"
      ]
     },
     "execution_count": 156,
     "metadata": {},
     "output_type": "execute_result"
    }
   ],
   "source": [
    "A1[[0,1,2]]"
   ]
  },
  {
   "cell_type": "code",
   "execution_count": 157,
   "id": "8025f1a6-fd07-4b05-91a3-516946962e8e",
   "metadata": {},
   "outputs": [
    {
     "data": {
      "text/plain": [
       "array([[8, 8, 7],\n",
       "       [3, 1, 1],\n",
       "       [3, 5, 7]])"
      ]
     },
     "execution_count": 157,
     "metadata": {},
     "output_type": "execute_result"
    }
   ],
   "source": [
    "A1[[0,1,2], : ]"
   ]
  },
  {
   "cell_type": "markdown",
   "id": "394d9099-7b3a-4398-b762-b98cb44b2457",
   "metadata": {},
   "source": [
    "## 열 조회"
   ]
  },
  {
   "cell_type": "code",
   "execution_count": 158,
   "id": "c17390c3-ec6a-4445-ab1a-fdf23361c83f",
   "metadata": {},
   "outputs": [
    {
     "data": {
      "text/plain": [
       "array([[8, 8],\n",
       "       [3, 1],\n",
       "       [3, 5],\n",
       "       [7, 8]])"
      ]
     },
     "execution_count": 158,
     "metadata": {},
     "output_type": "execute_result"
    }
   ],
   "source": [
    "A1[:,0:2]"
   ]
  },
  {
   "cell_type": "code",
   "execution_count": 159,
   "id": "f0dd9242-3be0-4c0d-af07-3d4329d0fe1e",
   "metadata": {},
   "outputs": [
    {
     "data": {
      "text/plain": [
       "array([[8, 8, 7],\n",
       "       [3, 1, 1],\n",
       "       [3, 5, 7],\n",
       "       [7, 8, 6]])"
      ]
     },
     "execution_count": 159,
     "metadata": {},
     "output_type": "execute_result"
    }
   ],
   "source": [
    "A1[:,[0,1,2]]"
   ]
  },
  {
   "cell_type": "markdown",
   "id": "acea3bb4-1732-468a-abb0-e893e05193e1",
   "metadata": {},
   "source": [
    "## 행,열 조회"
   ]
  },
  {
   "cell_type": "code",
   "execution_count": 160,
   "id": "03618835-f884-4ea8-9376-8f64a6136a86",
   "metadata": {},
   "outputs": [
    {
     "data": {
      "text/plain": [
       "array([[8, 8],\n",
       "       [3, 1]])"
      ]
     },
     "execution_count": 160,
     "metadata": {},
     "output_type": "execute_result"
    }
   ],
   "source": [
    "A1[0:2,0:2]"
   ]
  },
  {
   "cell_type": "markdown",
   "id": "e982ddb2-94ae-4152-beb6-fc20988cd895",
   "metadata": {},
   "source": [
    "## `stride( start :end : interval)`"
   ]
  },
  {
   "cell_type": "code",
   "execution_count": 162,
   "id": "6b0963c4-754c-4131-94ad-78fd20d46283",
   "metadata": {},
   "outputs": [
    {
     "data": {
      "text/plain": [
       "array([[8, 8, 7],\n",
       "       [3, 1, 1],\n",
       "       [3, 5, 7],\n",
       "       [7, 8, 6]])"
      ]
     },
     "execution_count": 162,
     "metadata": {},
     "output_type": "execute_result"
    }
   ],
   "source": [
    "A1"
   ]
  },
  {
   "cell_type": "code",
   "execution_count": 161,
   "id": "82de65c6-6dba-48c9-929a-551be6c3f163",
   "metadata": {},
   "outputs": [
    {
     "data": {
      "text/plain": [
       "array([[8, 7],\n",
       "       [3, 7]])"
      ]
     },
     "execution_count": 161,
     "metadata": {},
     "output_type": "execute_result"
    }
   ],
   "source": [
    "A1[::2, ::2]"
   ]
  },
  {
   "cell_type": "markdown",
   "id": "a7cbf2a0-80f4-4326-b660-55bb5acf1dca",
   "metadata": {},
   "source": [
    "## 특정값을 지정하여 접근"
   ]
  },
  {
   "cell_type": "code",
   "execution_count": 164,
   "id": "7c7c6cfb-1a07-42a5-ac29-b94686f69bff",
   "metadata": {},
   "outputs": [
    {
     "data": {
      "text/plain": [
       "array([[8, 8, 7],\n",
       "       [3, 1, 1],\n",
       "       [3, 5, 7],\n",
       "       [7, 8, 6]])"
      ]
     },
     "execution_count": 164,
     "metadata": {},
     "output_type": "execute_result"
    }
   ],
   "source": [
    "A1"
   ]
  },
  {
   "cell_type": "code",
   "execution_count": 170,
   "id": "a3aab0f1-a6e9-49e4-928f-44ea9f0df1c0",
   "metadata": {},
   "outputs": [
    {
     "data": {
      "text/plain": [
       "array([1, 1])"
      ]
     },
     "execution_count": 170,
     "metadata": {},
     "output_type": "execute_result"
    }
   ],
   "source": [
    "A1[A1==1]"
   ]
  },
  {
   "cell_type": "code",
   "execution_count": 173,
   "id": "42a39900-341e-477d-b024-e1fe11959075",
   "metadata": {},
   "outputs": [
    {
     "data": {
      "text/plain": [
       "array([7, 7, 7])"
      ]
     },
     "execution_count": 173,
     "metadata": {},
     "output_type": "execute_result"
    }
   ],
   "source": [
    "A1[A1==7]"
   ]
  },
  {
   "cell_type": "markdown",
   "id": "a5949409-e8ca-4398-a1eb-d892a48d8ca1",
   "metadata": {},
   "source": [
    "***"
   ]
  },
  {
   "cell_type": "markdown",
   "id": "d1050f4c-2c63-4cb2-82c3-2d9d3306168a",
   "metadata": {},
   "source": [
    "# 3. 넘파이 연산"
   ]
  },
  {
   "cell_type": "markdown",
   "id": "476da25b-bf2f-4103-a67b-84aafd438cff",
   "metadata": {},
   "source": [
    "## 기본 연산"
   ]
  },
  {
   "cell_type": "code",
   "execution_count": 6,
   "id": "f0f8d233-18dd-442e-8bd0-45ee2f811e07",
   "metadata": {},
   "outputs": [],
   "source": [
    "a = np.array([1,2,3])"
   ]
  },
  {
   "cell_type": "code",
   "execution_count": 27,
   "id": "bf65f65f-9414-41a9-8450-5b8d90a30340",
   "metadata": {},
   "outputs": [
    {
     "name": "stdout",
     "output_type": "stream",
     "text": [
      "\n",
      "1. 사칙연산 \n",
      "\n",
      "a + 1 = [2 3 4]\n",
      "a - 2 = [-1  0  1]\n",
      "a x 2 = [2 4 6]\n",
      "a / 2 = [0.5 1.  1.5]\n",
      "a // 2 = [0 1 1]\n",
      "a % 2 = [1 0 1]\n",
      "\n",
      "=======================================\n",
      "\n",
      "2. 거듭제곱, 로그, 지수, 삼각함수\n",
      "\n",
      "a^2 = [1 4 9]\n",
      "sqrt(a) = [1.   1.41 1.73]\n",
      "log(a) = [0.   0.69 1.1 ]\n",
      "exp(a) = [ 2.72  7.39 20.09]\n",
      "sin(a),cos(a) = (array([0.84, 0.91, 0.14]), array([ 0.54, -0.42, -0.99]))\n",
      "\n"
     ]
    }
   ],
   "source": [
    "# | code-fold : true\n",
    "print(f'''\n",
    "1. 사칙연산 \n",
    "\n",
    "a + 1 = {a+1}\n",
    "a - 2 = {a-2}\n",
    "a x 2 = {a*2}\n",
    "a / 2 = {a/2}\n",
    "a // 2 = {a//2}\n",
    "a % 2 = {a % 2}\n",
    "\n",
    "=======================================\n",
    "\n",
    "2. 거듭제곱, 로그, 지수, 삼각함수\n",
    "\n",
    "a^2 = {a**2}\n",
    "sqrt(a) = {np.round(np.sqrt(a),2)}\n",
    "log(a) = {np.round(np.log(a),2)}\n",
    "exp(a) = {np.round(np.exp(a),2)}\n",
    "sin(a),cos(a) = {np.round(np.sin(a),2),np.round(np.cos(a),2)}\n",
    "''')"
   ]
  },
  {
   "cell_type": "markdown",
   "id": "09bf2f30-800a-4258-8d6f-b83b6917b603",
   "metadata": {},
   "source": [
    "## 기타 연산(전치행렬,역행렬)"
   ]
  },
  {
   "cell_type": "code",
   "execution_count": 186,
   "id": "6e27e6c4-f9c4-41d7-ad95-07635729b338",
   "metadata": {},
   "outputs": [
    {
     "data": {
      "text/plain": [
       "array([[8, 1, 1],\n",
       "       [2, 1, 4],\n",
       "       [4, 4, 1]])"
      ]
     },
     "execution_count": 186,
     "metadata": {},
     "output_type": "execute_result"
    }
   ],
   "source": [
    "a1 = np.random.randint(0,9,3)\n",
    "a2 = np.random.randint(0,9,3)\n",
    "a3 = np.random.randint(0,9,3)\n",
    "\n",
    "A1 = np.stack([a1,a2,a3],axis=0) \n",
    "A1"
   ]
  },
  {
   "cell_type": "markdown",
   "id": "6a453a13-f4b8-493f-9dba-3aebc6e21951",
   "metadata": {},
   "source": [
    "`-` 전치행렬"
   ]
  },
  {
   "cell_type": "code",
   "execution_count": 187,
   "id": "0cab9f6a-f5a0-482c-acbf-e8c5cfd8f41e",
   "metadata": {},
   "outputs": [
    {
     "data": {
      "text/plain": [
       "array([[8, 2, 4],\n",
       "       [1, 1, 4],\n",
       "       [1, 4, 1]])"
      ]
     },
     "execution_count": 187,
     "metadata": {},
     "output_type": "execute_result"
    }
   ],
   "source": [
    "A1.T"
   ]
  },
  {
   "cell_type": "markdown",
   "id": "c9cc8335-976f-4d38-9f70-ccae4d92af9c",
   "metadata": {},
   "source": [
    "`-` 역행렬"
   ]
  },
  {
   "cell_type": "code",
   "execution_count": 188,
   "id": "4e31cff3-714a-4cda-b3c8-65f2219205f0",
   "metadata": {},
   "outputs": [
    {
     "data": {
      "text/plain": [
       "array([[ 0.14705882, -0.02941176, -0.02941176],\n",
       "       [-0.1372549 , -0.03921569,  0.29411765],\n",
       "       [-0.03921569,  0.2745098 , -0.05882353]])"
      ]
     },
     "execution_count": 188,
     "metadata": {},
     "output_type": "execute_result"
    }
   ],
   "source": [
    "np.linalg.inv(A1)"
   ]
  },
  {
   "cell_type": "markdown",
   "id": "000a7d73-1c8c-4ad7-8a1b-23de92458410",
   "metadata": {},
   "source": [
    "`-` 행렬연산"
   ]
  },
  {
   "cell_type": "markdown",
   "id": "4c7b431c-37ab-4515-b8cf-01c93a2be4a8",
   "metadata": {},
   "source": [
    "$$\\bf A^{-1} \\times A = {I}$$"
   ]
  },
  {
   "cell_type": "markdown",
   "id": "8b1c6b3c-e8a2-40c4-ad1d-3d7627a2e483",
   "metadata": {},
   "source": [
    "$$\\bf {I} = \\begin{bmatrix} 1 & 0 & \\dots & 0 \\\\\n",
    "                                                     0 & 1 & \\dots & 0 \\\\\n",
    "                                                     \\dots &\\dots &\\dots &\\dots \\\\\n",
    "                                                     0 & 0 & \\dots & 1\n",
    "                                                        \\end{bmatrix}$$"
   ]
  },
  {
   "cell_type": "code",
   "execution_count": 196,
   "id": "35443de9-79d4-4f97-8097-b3eaf4ae950a",
   "metadata": {},
   "outputs": [
    {
     "data": {
      "text/plain": [
       "array([[ 1.,  0.,  0.],\n",
       "       [ 0.,  1., -0.],\n",
       "       [ 0.,  0.,  1.]])"
      ]
     },
     "execution_count": 196,
     "metadata": {},
     "output_type": "execute_result"
    }
   ],
   "source": [
    "np.round(A1 @ np.linalg.inv(A1),2)"
   ]
  },
  {
   "cell_type": "markdown",
   "id": "4b57f5ff-1768-4d8a-b347-2b750d32626e",
   "metadata": {},
   "source": [
    "***"
   ]
  },
  {
   "cell_type": "markdown",
   "id": "736e2804-c350-41fc-8a57-7cf7fd58b0f3",
   "metadata": {},
   "source": [
    "# 연습문제"
   ]
  },
  {
   "cell_type": "markdown",
   "id": "43a3f3a9-1696-4253-b406-cbb9f503fde1",
   "metadata": {},
   "source": [
    "`-` [excercise1](https://gangcheol.github.io/mysite/posts/Lecture/IP/2023-08-04-06.%20numpy.html#exercise-1)\n",
    "\n",
    "`-` [excercise2](https://gangcheol.github.io/mysite/posts/Lecture/IP/2023-08-04-06.%20numpy.html#exercise)\n",
    "\n",
    "`-` [excercise3](https://gangcheol.github.io/mysite/posts/Lecture/IP/2023-08-04-07.%20Numpy%20%ED%99%9C%EC%9A%A9.html#%EB%84%98%ED%8C%8C%EC%9D%B4-%ED%99%9C%EC%9A%A9-1) \n",
    "\n",
    "`-` [excercise4](https://gangcheol.github.io/mysite/posts/Lecture/IP/2023-08-04-07.%20Numpy%20%ED%99%9C%EC%9A%A9.html#%EB%84%98%ED%8C%8C%EC%9D%B4-%ED%99%9C%EC%9A%A9-2)"
   ]
  },
  {
   "cell_type": "markdown",
   "id": "49b9119d-3c83-4fb4-9e86-d53ec0c1970d",
   "metadata": {},
   "source": [
    "***"
   ]
  },
  {
   "cell_type": "markdown",
   "id": "30895dd7-d5a3-4dca-bf82-13408343aec9",
   "metadata": {},
   "source": [
    "# ref\n",
    "\n",
    "`-` [numpy basic](https://gangcheol.github.io/mysite/posts/Lecture/IP/2023-08-04-06.%20numpy.html)\n",
    "\n",
    "`-` [numpy 활용](https://gangcheol.github.io/mysite/posts/Lecture/IP/2023-08-04-06.%20numpy.html)\n",
    "\n",
    "`-` [pandas 데이터 핸들링](https://gangcheol.github.io/mysite/posts/Lecture/STDV/2023-05-06-7wk.html#pandas-%EB%8D%B0%EC%9D%B4%ED%84%B0-%ED%95%B8%EB%93%A4%EB%A7%81)\n",
    "\n",
    "`-` [집계함수 & tidydata](https://gangcheol.github.io/mysite/posts/Lecture/STDV/2023-05-13-8wk.html)\n",
    "\n",
    "`-` KT aivle school dx track"
   ]
  }
 ],
 "metadata": {
  "kernelspec": {
   "display_name": "Python 3 (ipykernel)",
   "language": "python",
   "name": "python3"
  },
  "language_info": {
   "codemirror_mode": {
    "name": "ipython",
    "version": 3
   },
   "file_extension": ".py",
   "mimetype": "text/x-python",
   "name": "python",
   "nbconvert_exporter": "python",
   "pygments_lexer": "ipython3",
   "version": "3.11.4"
  }
 },
 "nbformat": 4,
 "nbformat_minor": 5
}
