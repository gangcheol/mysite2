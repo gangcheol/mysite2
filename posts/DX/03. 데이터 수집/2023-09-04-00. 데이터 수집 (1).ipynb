{
 "cells": [
  {
   "cell_type": "raw",
   "id": "c130f0e8-981c-4448-8e8a-4e0764dd0b70",
   "metadata": {},
   "source": [
    "---\n",
    "title : \"00. 데이터 수집 (1)\"\n",
    "author : \"GC\"\n",
    "date : \"09/04/23\"\n",
    "categories : [데이터 수집]\n",
    "---"
   ]
  },
  {
   "cell_type": "markdown",
   "id": "457fed00",
   "metadata": {},
   "source": [
    "# review"
   ]
  },
  {
   "cell_type": "markdown",
   "id": "952d55a1-8f45-4f76-bf9c-ae6a09191e66",
   "metadata": {},
   "source": [
    "##  1. 변수 선언 및 삭제"
   ]
  },
  {
   "cell_type": "code",
   "execution_count": 1,
   "id": "2e123e41-77ed-4b1d-b27d-d0e9d4a32252",
   "metadata": {
    "tags": []
   },
   "outputs": [],
   "source": [
    "a = 1\n",
    "\n",
    "b,c = 2,3\n",
    "\n",
    "d = e = 4"
   ]
  },
  {
   "cell_type": "code",
   "execution_count": 2,
   "id": "96ea1316-2b96-497a-b5c2-d4dd4e8ac34e",
   "metadata": {
    "tags": []
   },
   "outputs": [
    {
     "name": "stdout",
     "output_type": "stream",
     "text": [
      "Variable   Type    Data/Info\n",
      "----------------------------\n",
      "a          int     1\n",
      "b          int     2\n",
      "c          int     3\n",
      "d          int     4\n",
      "e          int     4\n"
     ]
    }
   ],
   "source": [
    "%whos"
   ]
  },
  {
   "cell_type": "markdown",
   "id": "b86de114-09e2-451a-8e37-1c32f1f85570",
   "metadata": {
    "tags": []
   },
   "source": [
    "`-` 생성한 변수 reset"
   ]
  },
  {
   "cell_type": "code",
   "execution_count": 3,
   "id": "0c6894e6-9624-4e11-832e-b45023252dfe",
   "metadata": {
    "tags": []
   },
   "outputs": [
    {
     "name": "stdin",
     "output_type": "stream",
     "text": [
      "Once deleted, variables cannot be recovered. Proceed (y/[n])?  y\n"
     ]
    }
   ],
   "source": [
    "%reset"
   ]
  },
  {
   "cell_type": "code",
   "execution_count": 4,
   "id": "837b94b4-1b31-429c-8427-472f6f926078",
   "metadata": {
    "tags": []
   },
   "outputs": [
    {
     "name": "stdout",
     "output_type": "stream",
     "text": [
      "Interactive namespace is empty.\n"
     ]
    }
   ],
   "source": [
    "%whos"
   ]
  },
  {
   "cell_type": "markdown",
   "id": "6059a4ef-389d-43a7-be8e-6f68b725b526",
   "metadata": {},
   "source": [
    "## 2. 데이터 타입"
   ]
  },
  {
   "cell_type": "markdown",
   "id": "56085876-1f80-4c06-880b-63585290213f",
   "metadata": {},
   "source": [
    "`-` 기본 : int, float, bool, str"
   ]
  },
  {
   "cell_type": "code",
   "execution_count": 5,
   "id": "0953c680-6329-4f7f-a423-b8da5212ddc7",
   "metadata": {
    "tags": []
   },
   "outputs": [
    {
     "name": "stdout",
     "output_type": "stream",
     "text": [
      "Variable   Type     Data/Info\n",
      "-----------------------------\n",
      "a          int      -3\n",
      "b          float    1.2\n",
      "c          bool     True\n",
      "d          str      py\n"
     ]
    }
   ],
   "source": [
    "a,b,c,d = -3,1.2,True, \"py\"\n",
    "%whos"
   ]
  },
  {
   "cell_type": "markdown",
   "id": "91af746a-7348-4791-bb18-9b7cad9c10de",
   "metadata": {},
   "source": [
    "`-` 컬렉션 : list, tuple, dict, set $\\to$ 변수 1개가 여러 개의 데이터를 가지고 있는 형태"
   ]
  },
  {
   "cell_type": "markdown",
   "id": "0fb3d815-ee08-433a-8352-98551260f301",
   "metadata": {},
   "source": [
    "* 데이터를 다룰 때 중요 개념 : create, read, update, delete (CRUD)"
   ]
  },
  {
   "cell_type": "markdown",
   "id": "ca9ec2fc-0a57-446d-8fec-e2687b2bf8fd",
   "metadata": {},
   "source": [
    "`1` create"
   ]
  },
  {
   "cell_type": "code",
   "execution_count": 6,
   "id": "be67c6d5-6e33-4e56-bc99-a120b42bf610",
   "metadata": {
    "tags": []
   },
   "outputs": [
    {
     "name": "stdout",
     "output_type": "stream",
     "text": [
      "Variable   Type     Data/Info\n",
      "-----------------------------\n",
      "a          int      -3\n",
      "b          float    1.2\n",
      "c          bool     True\n",
      "d          str      py\n",
      "d5         list     n=4\n",
      "d6         tuple    n=4\n",
      "d7         dict     n=2\n"
     ]
    }
   ],
   "source": [
    "d5, d6, d7 = [1, 2, \"A\", \"B\"], (1, 2, \"A\", \"B\"), {\"A\" : 1, 2 : \"B\"}\n",
    "%whos"
   ]
  },
  {
   "cell_type": "markdown",
   "id": "d00041ef-aa2c-44f7-9b90-721a3914b7a7",
   "metadata": {},
   "source": [
    "`2` read : masking 문법(`:`)"
   ]
  },
  {
   "cell_type": "code",
   "execution_count": 7,
   "id": "beb22455-e4a2-4e5f-a339-9d94318b3837",
   "metadata": {
    "tags": []
   },
   "outputs": [
    {
     "data": {
      "text/plain": [
       "'A'"
      ]
     },
     "execution_count": 7,
     "metadata": {},
     "output_type": "execute_result"
    }
   ],
   "source": [
    "d5[2] ## data[idx]"
   ]
  },
  {
   "cell_type": "code",
   "execution_count": 8,
   "id": "25dddb85-9f50-47f5-899a-658eb48b6a28",
   "metadata": {
    "tags": []
   },
   "outputs": [
    {
     "data": {
      "text/plain": [
       "1"
      ]
     },
     "execution_count": 8,
     "metadata": {},
     "output_type": "execute_result"
    }
   ],
   "source": [
    "d7[\"A\"] ## data[key]"
   ]
  },
  {
   "cell_type": "code",
   "execution_count": 9,
   "id": "2f0b7880-6e74-4e1f-92c6-2528cbd843b9",
   "metadata": {
    "tags": []
   },
   "outputs": [
    {
     "data": {
      "text/plain": [
       "[2, 'A']"
      ]
     },
     "execution_count": 9,
     "metadata": {},
     "output_type": "execute_result"
    }
   ],
   "source": [
    "d5[1:3] ## slice"
   ]
  },
  {
   "cell_type": "code",
   "execution_count": 10,
   "id": "4ebed0ea-12ef-43cb-9ec4-4f168ebb4785",
   "metadata": {
    "tags": []
   },
   "outputs": [
    {
     "data": {
      "text/plain": [
       "[1, 'A']"
      ]
     },
     "execution_count": 10,
     "metadata": {},
     "output_type": "execute_result"
    }
   ],
   "source": [
    "d5[::2] ## stride"
   ]
  },
  {
   "cell_type": "markdown",
   "id": "0e33660a-2555-4102-926e-1150138bfda7",
   "metadata": {},
   "source": [
    "`3` update : 데이터 선택 = 수정할 데이터"
   ]
  },
  {
   "cell_type": "code",
   "execution_count": 11,
   "id": "d44d3142-a03e-4821-929c-a8a5389716cd",
   "metadata": {
    "tags": []
   },
   "outputs": [
    {
     "data": {
      "text/plain": [
       "[1, 2, 'C', 'B']"
      ]
     },
     "execution_count": 11,
     "metadata": {},
     "output_type": "execute_result"
    }
   ],
   "source": [
    "d5[2] = \"C\" \n",
    "d5"
   ]
  },
  {
   "cell_type": "markdown",
   "id": "7d4e9a81-22b2-47cd-b750-831989c28f00",
   "metadata": {},
   "source": [
    "`4` delete : del 데이터 선택"
   ]
  },
  {
   "cell_type": "code",
   "execution_count": 12,
   "id": "091ddbc3-bee8-4388-86a5-339576428b20",
   "metadata": {
    "tags": []
   },
   "outputs": [
    {
     "data": {
      "text/plain": [
       "[1, 2, 'B']"
      ]
     },
     "execution_count": 12,
     "metadata": {},
     "output_type": "execute_result"
    }
   ],
   "source": [
    "del d5[2]\n",
    "\n",
    "d5"
   ]
  },
  {
   "cell_type": "markdown",
   "id": "7dda84dc-04d2-4d45-9ba0-daf29784c1c6",
   "metadata": {},
   "source": [
    "## 3. 변수 속성값 함수"
   ]
  },
  {
   "cell_type": "code",
   "execution_count": 13,
   "id": "5921d8ab-3398-4ab9-8163-9220a0ccc84f",
   "metadata": {
    "tags": []
   },
   "outputs": [],
   "source": [
    "d1, d2 = [1, 2, 3], (1, 2, 4)"
   ]
  },
  {
   "cell_type": "code",
   "execution_count": 14,
   "id": "2c42ebc8-9f27-43a1-b0a4-734583eef77d",
   "metadata": {
    "tags": []
   },
   "outputs": [
    {
     "name": "stdout",
     "output_type": "stream",
     "text": [
      "[1, 2, 3] (1, 2, 4)\n"
     ]
    }
   ],
   "source": [
    "print(d1,d2)"
   ]
  },
  {
   "cell_type": "code",
   "execution_count": 15,
   "id": "44509b1f-8f11-42ad-a4be-7b697394edb1",
   "metadata": {
    "tags": []
   },
   "outputs": [
    {
     "name": "stdout",
     "output_type": "stream",
     "text": [
      "<class 'list'> <class 'tuple'>\n"
     ]
    }
   ],
   "source": [
    "print(type(d1),type(d2)) ## type 출력"
   ]
  },
  {
   "cell_type": "code",
   "execution_count": 16,
   "id": "31d9591e-e7e2-4349-a612-f959ceacc794",
   "metadata": {
    "tags": []
   },
   "outputs": [
    {
     "name": "stdout",
     "output_type": "stream",
     "text": [
      "2444525537280 2444526172864\n"
     ]
    }
   ],
   "source": [
    "print(id(d1),id(d2)) ## 주소값 출력"
   ]
  },
  {
   "cell_type": "code",
   "execution_count": 17,
   "id": "5d17f912-ea46-4045-b31b-0f940b73800a",
   "metadata": {
    "tags": []
   },
   "outputs": [],
   "source": [
    "import sys"
   ]
  },
  {
   "cell_type": "markdown",
   "id": "cb3bf8f6-5bb6-4361-be65-c0b2d727d685",
   "metadata": {},
   "source": [
    "`-` 수정할 필요가 없는 데이터는 리스트보다 튜플이 메모리 효율적으로 좋다."
   ]
  },
  {
   "cell_type": "code",
   "execution_count": 18,
   "id": "dc6afb98-897e-488e-9679-96f69ac616c6",
   "metadata": {
    "tags": []
   },
   "outputs": [
    {
     "name": "stdout",
     "output_type": "stream",
     "text": [
      "88 64\n"
     ]
    }
   ],
   "source": [
    "print(sys.getsizeof(d1),sys.getsizeof(d2))"
   ]
  },
  {
   "cell_type": "markdown",
   "id": "22542435-7036-4e98-a3b7-de732ac170a4",
   "metadata": {},
   "source": [
    "## 4. 연산자"
   ]
  },
  {
   "cell_type": "markdown",
   "id": "df8469e8-98ee-4be4-96ee-b25c109bbc98",
   "metadata": {},
   "source": [
    "`-` 산술 : (+, -) < `(*, /, //, %)` << ** "
   ]
  },
  {
   "cell_type": "markdown",
   "id": "d1391049-85ad-4807-85c5-98971722f3dc",
   "metadata": {},
   "source": [
    "`-` 비교 : ==, !=, >, <, >=, <= : 조건 1개"
   ]
  },
  {
   "cell_type": "markdown",
   "id": "282f4296-97cc-4aa9-8e87-a11c71258907",
   "metadata": {},
   "source": [
    "`-` 논리 : not, and, or"
   ]
  },
  {
   "cell_type": "markdown",
   "id": "f0754454-e314-4452-a4a5-8bcd1942789d",
   "metadata": {},
   "source": [
    "## 5. `_` : row dash (변수를 사용하지 않음)"
   ]
  },
  {
   "cell_type": "code",
   "execution_count": 19,
   "id": "844969f2-76fd-42a3-bd5b-1db5cc566432",
   "metadata": {
    "tags": []
   },
   "outputs": [
    {
     "name": "stdout",
     "output_type": "stream",
     "text": [
      "py\n",
      "py\n",
      "py\n"
     ]
    }
   ],
   "source": [
    "for _ in range(3) : \n",
    "    print(\"py\")"
   ]
  },
  {
   "cell_type": "code",
   "execution_count": 20,
   "id": "4b48219d-b9ab-4740-82ca-75873803bd8c",
   "metadata": {
    "tags": []
   },
   "outputs": [
    {
     "name": "stdout",
     "output_type": "stream",
     "text": [
      "Variable   Type      Data/Info\n",
      "------------------------------\n",
      "a          int       -3\n",
      "b          float     1.2\n",
      "c          bool      True\n",
      "d          str       py\n",
      "d1         list      n=3\n",
      "d2         tuple     n=3\n",
      "d5         list      n=3\n",
      "d6         tuple     n=4\n",
      "d7         dict      n=2\n",
      "sys        module    <module 'sys' (built-in)>\n"
     ]
    }
   ],
   "source": [
    "%whos"
   ]
  },
  {
   "cell_type": "markdown",
   "id": "5334f281-80eb-4227-b422-39d232aea242",
   "metadata": {},
   "source": [
    "## 6. 함수 : 코드 작성의 효율을 높임"
   ]
  },
  {
   "cell_type": "markdown",
   "id": "627b483a-f88e-45d1-ab3a-51925bdf367f",
   "metadata": {},
   "source": [
    "### `1` 함수 작성 : 코드가 작성되고 실행되지는 않는다!"
   ]
  },
  {
   "cell_type": "code",
   "execution_count": 21,
   "id": "29985097-b9e4-4664-95fe-16ebd978ecc7",
   "metadata": {
    "tags": []
   },
   "outputs": [],
   "source": [
    "def plus(a = 1, b = 2) :\n",
    "    print(a + b)"
   ]
  },
  {
   "cell_type": "markdown",
   "id": "b92f6f77-8dc3-4234-80fc-419fb1f257fd",
   "metadata": {},
   "source": [
    "`-` data type이 function이다."
   ]
  },
  {
   "cell_type": "code",
   "execution_count": 22,
   "id": "81ab3f59-c307-4c4e-a9a4-5a9f92ec93c7",
   "metadata": {
    "tags": []
   },
   "outputs": [
    {
     "name": "stdout",
     "output_type": "stream",
     "text": [
      "Variable   Type        Data/Info\n",
      "--------------------------------\n",
      "a          int         -3\n",
      "b          float       1.2\n",
      "c          bool        True\n",
      "d          str         py\n",
      "d1         list        n=3\n",
      "d2         tuple       n=3\n",
      "d5         list        n=3\n",
      "d6         tuple       n=4\n",
      "d7         dict        n=2\n",
      "plus       function    <function plus at 0x00000239291E2B60>\n",
      "sys        module      <module 'sys' (built-in)>\n"
     ]
    }
   ],
   "source": [
    "%whos"
   ]
  },
  {
   "cell_type": "markdown",
   "id": "c8d00b19-766c-4933-a7a5-842e5b4b54d2",
   "metadata": {
    "tags": []
   },
   "source": [
    "### `2` 함수 호출 (코드 실행)"
   ]
  },
  {
   "cell_type": "code",
   "execution_count": 23,
   "id": "cc9d1a59-0535-4c7d-b84b-8208be55f23f",
   "metadata": {
    "tags": []
   },
   "outputs": [
    {
     "name": "stdout",
     "output_type": "stream",
     "text": [
      "3\n",
      "4\n"
     ]
    }
   ],
   "source": [
    "plus() ## 디퐅트값\n",
    "plus(1,3) ## 값을 전달"
   ]
  },
  {
   "cell_type": "markdown",
   "id": "50074023-a0a2-484d-abd8-dae797797c5c",
   "metadata": {},
   "source": [
    "### `3` return 추가"
   ]
  },
  {
   "cell_type": "markdown",
   "id": "08861632-27b2-49af-a48c-17f513f2cad2",
   "metadata": {},
   "source": [
    "* return을 추가하지 않아 아래처럼 `None`으로 결과를 뱉는다. "
   ]
  },
  {
   "cell_type": "code",
   "execution_count": 24,
   "id": "3fdd5dd0-647e-438a-812d-b7d646b934fd",
   "metadata": {
    "tags": []
   },
   "outputs": [
    {
     "name": "stdout",
     "output_type": "stream",
     "text": [
      "52\n",
      "result None\n"
     ]
    }
   ],
   "source": [
    "def plus(a,b = 1, c = 2) :\n",
    "    print(a + b + c)\n",
    "    \n",
    "result = plus(1, c = 50)\n",
    "print(\"result\", result)"
   ]
  },
  {
   "cell_type": "code",
   "execution_count": 25,
   "id": "4fd120fa-33a1-45fe-b602-16adce1aed7c",
   "metadata": {
    "tags": []
   },
   "outputs": [
    {
     "name": "stdout",
     "output_type": "stream",
     "text": [
      "result 52\n"
     ]
    }
   ],
   "source": [
    "def plus(a,b = 1, c = 2) :\n",
    "    return(a + b + c)\n",
    "    \n",
    "result = plus(1, c = 50)\n",
    "print(\"result\", result)"
   ]
  },
  {
   "cell_type": "markdown",
   "id": "a71f8736-e1f9-4d8c-b6fe-9b1d58c93b9b",
   "metadata": {},
   "source": [
    "### `4` dostring : 함수의 설명글, `help()`를 이용\n",
    "\n",
    "* 함수를 작성한 사람이, 함수를 어떻게 사용하면 되는지 남겨둔 것!"
   ]
  },
  {
   "cell_type": "code",
   "execution_count": 26,
   "id": "c4e8000e-10c2-4bdb-9c7e-fa4f1f9e4bca",
   "metadata": {
    "tags": []
   },
   "outputs": [
    {
     "data": {
      "text/plain": [
       "\u001b[1;31mSignature:\u001b[0m \u001b[0mprint\u001b[0m\u001b[1;33m(\u001b[0m\u001b[1;33m*\u001b[0m\u001b[0margs\u001b[0m\u001b[1;33m,\u001b[0m \u001b[0msep\u001b[0m\u001b[1;33m=\u001b[0m\u001b[1;34m' '\u001b[0m\u001b[1;33m,\u001b[0m \u001b[0mend\u001b[0m\u001b[1;33m=\u001b[0m\u001b[1;34m'\\n'\u001b[0m\u001b[1;33m,\u001b[0m \u001b[0mfile\u001b[0m\u001b[1;33m=\u001b[0m\u001b[1;32mNone\u001b[0m\u001b[1;33m,\u001b[0m \u001b[0mflush\u001b[0m\u001b[1;33m=\u001b[0m\u001b[1;32mFalse\u001b[0m\u001b[1;33m)\u001b[0m\u001b[1;33m\u001b[0m\u001b[1;33m\u001b[0m\u001b[0m\n",
       "\u001b[1;31mDocstring:\u001b[0m\n",
       "Prints the values to a stream, or to sys.stdout by default.\n",
       "\n",
       "sep\n",
       "  string inserted between values, default a space.\n",
       "end\n",
       "  string appended after the last value, default a newline.\n",
       "file\n",
       "  a file-like object (stream); defaults to the current sys.stdout.\n",
       "flush\n",
       "  whether to forcibly flush the stream.\n",
       "\u001b[1;31mType:\u001b[0m      builtin_function_or_method"
      ]
     },
     "metadata": {},
     "output_type": "display_data"
    }
   ],
   "source": [
    "?print"
   ]
  },
  {
   "cell_type": "code",
   "execution_count": 27,
   "id": "893bfd5a-1353-42e1-a6ed-96e42c371bc9",
   "metadata": {
    "tags": []
   },
   "outputs": [
    {
     "name": "stdout",
     "output_type": "stream",
     "text": [
      "A B\n",
      "C\n"
     ]
    }
   ],
   "source": [
    "print(\"A\",\"B\")\n",
    "print(\"C\")"
   ]
  },
  {
   "cell_type": "code",
   "execution_count": 28,
   "id": "ee818815-df5e-475c-bd47-e5035a6480ff",
   "metadata": {
    "tags": []
   },
   "outputs": [
    {
     "name": "stdout",
     "output_type": "stream",
     "text": [
      "A,B:C\n"
     ]
    }
   ],
   "source": [
    "print(\"A\",\"B\",sep=\",\", end = \":\")\n",
    "print(\"C\")"
   ]
  },
  {
   "cell_type": "markdown",
   "id": "04990b2e-8bf5-48e3-8889-ea702144ba9b",
   "metadata": {},
   "source": [
    "***"
   ]
  },
  {
   "cell_type": "markdown",
   "id": "0f8c861f-4b03-4595-9eb3-da706d8be4c4",
   "metadata": {},
   "source": [
    "## 7. 클래스"
   ]
  },
  {
   "cell_type": "markdown",
   "id": "81d670cc-dd49-45b8-8c1c-0c4362397d45",
   "metadata": {},
   "source": [
    "`-` 변수, 함수를 묶어서 코드 작성 실행\n",
    "\n",
    "`-` 객체 지향 문법을 구현한 방법 : 실제 세계를 모델링하여 프로그램을 개발하는 방법론 (사전적 의미)\n",
    "\n",
    "* `교수님 생각` : **클래스는 복제, 변형, 재생산을 용이하게 하기 위해 만들어진 확장가능한 프로그램이 코드 단위(extensible program-code-template)이다.**\n",
    "\n",
    "`-` 사용법 : 클래스 선언 (코드 작성) -> 객체 생성(메모리에 탑재`(사용)`) -> 메소드 호출 (코드 실행)\n",
    "\n",
    "`-` 클래스 식별자 컨벤션 : PascalCase(O), snake_case(X)"
   ]
  },
  {
   "cell_type": "markdown",
   "id": "b0c9ac66-3321-44fa-88a4-ba3aedc4fd67",
   "metadata": {},
   "source": [
    "### (1) 클래스 선언"
   ]
  },
  {
   "cell_type": "code",
   "execution_count": 29,
   "id": "d90ab3bc-01c6-4c77-b758-5a74933c53e2",
   "metadata": {
    "tags": []
   },
   "outputs": [],
   "source": [
    "class Marine : \n",
    "    health, ap = 40, 5\n",
    "    def attack(self, target) :\n",
    "        target.health -=self.ap"
   ]
  },
  {
   "cell_type": "markdown",
   "id": "734292cb-9c2a-42bd-bcff-6df5297c68e2",
   "metadata": {},
   "source": [
    "### (2) 객체 선언"
   ]
  },
  {
   "cell_type": "code",
   "execution_count": 30,
   "id": "4c0f6368-1594-4745-9a1e-c5bfcc516873",
   "metadata": {
    "tags": []
   },
   "outputs": [
    {
     "data": {
      "text/plain": [
       "(40, 5, 40, 5)"
      ]
     },
     "execution_count": 30,
     "metadata": {},
     "output_type": "execute_result"
    }
   ],
   "source": [
    "m1, m2 = Marine(), Marine()\n",
    "m1.health, m1.ap, m2.health, m2.ap"
   ]
  },
  {
   "cell_type": "markdown",
   "id": "c122dbe0-8485-4e65-ac36-b53fbee91225",
   "metadata": {},
   "source": [
    "`-` dir() : 객체에 저장되어 있는 변수(함수포함) 출력"
   ]
  },
  {
   "cell_type": "code",
   "execution_count": 31,
   "id": "809b43e9-50b3-43ea-9a8c-9292b4a856a3",
   "metadata": {
    "tags": []
   },
   "outputs": [
    {
     "data": {
      "text/plain": [
       "['ap', 'attack', 'health']"
      ]
     },
     "execution_count": 31,
     "metadata": {},
     "output_type": "execute_result"
    }
   ],
   "source": [
    "dir(m1)[-3 : ]"
   ]
  },
  {
   "cell_type": "markdown",
   "id": "4e62f5c3-62e2-48dd-8783-40fb42277883",
   "metadata": {},
   "source": [
    "`-` 값 변경"
   ]
  },
  {
   "cell_type": "code",
   "execution_count": 32,
   "id": "f0b3ec36-5d9a-49a5-b26c-ca5f09f7a286",
   "metadata": {
    "tags": []
   },
   "outputs": [
    {
     "data": {
      "text/plain": [
       "(60, 7)"
      ]
     },
     "execution_count": 32,
     "metadata": {},
     "output_type": "execute_result"
    }
   ],
   "source": [
    "m2.health, m2.ap =  60, 7\n",
    "\n",
    "m2.health, m2.ap"
   ]
  },
  {
   "cell_type": "markdown",
   "id": "37e4fb49-d754-4819-910b-ecb7467812bb",
   "metadata": {},
   "source": [
    "### (3) 메소드 호출"
   ]
  },
  {
   "cell_type": "code",
   "execution_count": 33,
   "id": "4c20a9ed-8dea-4ae9-b621-d35384a4e81d",
   "metadata": {
    "tags": []
   },
   "outputs": [],
   "source": [
    "m2.attack(m1)"
   ]
  },
  {
   "cell_type": "code",
   "execution_count": 34,
   "id": "2c9427bf-5de8-4a1c-9141-7513c2c70718",
   "metadata": {
    "tags": []
   },
   "outputs": [
    {
     "data": {
      "text/plain": [
       "33"
      ]
     },
     "execution_count": 34,
     "metadata": {},
     "output_type": "execute_result"
    }
   ],
   "source": [
    "m1.health"
   ]
  },
  {
   "cell_type": "markdown",
   "id": "052e08e5-1fe1-48bc-80a1-51b565f3738e",
   "metadata": {
    "tags": []
   },
   "source": [
    "`-` m1의 피가 깍여버린 원리"
   ]
  },
  {
   "cell_type": "markdown",
   "id": "be553d4d-68de-4a33-9e1c-3e1ffd1aa8b6",
   "metadata": {},
   "source": [
    "```python\n",
    "class Marine : \n",
    "    health, ap = 40, 5\n",
    "    def attack(self, target) : ## self : 생성된 객체 자신\n",
    "        target.health -=self.ap ## 여기에서 target이 공격당한 대상이 m1, 따라서 m2의 공격력 7만큼 감소\n",
    "```"
   ]
  },
  {
   "cell_type": "markdown",
   "id": "99e71fae-da13-4d59-a3c2-dbab9ecdea1f",
   "metadata": {},
   "source": [
    "### (4) 생성자 메서드"
   ]
  },
  {
   "cell_type": "markdown",
   "id": "a549cda1-3a7f-45ba-9efd-822be09d9210",
   "metadata": {},
   "source": [
    "`-` 스페셜 메서드 중 하나 (`__init__()`)"
   ]
  },
  {
   "cell_type": "code",
   "execution_count": 35,
   "id": "ca282a06-d8eb-42a5-8085-a7020ee80fd3",
   "metadata": {
    "tags": []
   },
   "outputs": [],
   "source": [
    "class Marine : \n",
    "    #health, ap = 40, 5\n",
    "    def attack(self, target) : ## self : 생성된 객체 자신\n",
    "        target.health -=self.ap ## 여기에서 target이 공격당한 대상이 m1, 따라서 m2의 공격력 7만큼 감소"
   ]
  },
  {
   "cell_type": "code",
   "execution_count": 36,
   "id": "c6f788be-af5d-4cfb-96e7-832bdbcf0c56",
   "metadata": {
    "tags": []
   },
   "outputs": [],
   "source": [
    "m1, m2 = Marine(), Marine()"
   ]
  },
  {
   "cell_type": "markdown",
   "id": "7612e80a-ceac-40a2-ac22-3837d44de519",
   "metadata": {},
   "source": [
    "`-` 객체는 생성이 되었으나 피와 공격력이 없어서 메소드 호출 시 에러가 발생한다."
   ]
  },
  {
   "cell_type": "markdown",
   "id": "411446f2-aa90-437f-8212-702a164c4880",
   "metadata": {},
   "source": [
    "* `'Marine' object has no attribute 'health'`"
   ]
  },
  {
   "cell_type": "code",
   "execution_count": 37,
   "id": "6ebfb6c5-f315-466f-88d7-f46422ef6e01",
   "metadata": {
    "tags": []
   },
   "outputs": [
    {
     "ename": "AttributeError",
     "evalue": "'Marine' object has no attribute 'health'",
     "output_type": "error",
     "traceback": [
      "\u001b[1;31m---------------------------------------------------------------------------\u001b[0m",
      "\u001b[1;31mAttributeError\u001b[0m                            Traceback (most recent call last)",
      "Cell \u001b[1;32mIn[37], line 1\u001b[0m\n\u001b[1;32m----> 1\u001b[0m m2\u001b[38;5;241m.\u001b[39mattack(m1)\n",
      "Cell \u001b[1;32mIn[35], line 4\u001b[0m, in \u001b[0;36mMarine.attack\u001b[1;34m(self, target)\u001b[0m\n\u001b[0;32m      3\u001b[0m \u001b[38;5;28;01mdef\u001b[39;00m \u001b[38;5;21mattack\u001b[39m(\u001b[38;5;28mself\u001b[39m, target) : \u001b[38;5;66;03m## self : 생성된 객체 자신\u001b[39;00m\n\u001b[1;32m----> 4\u001b[0m     target\u001b[38;5;241m.\u001b[39mhealth \u001b[38;5;241m-\u001b[39m\u001b[38;5;241m=\u001b[39m\u001b[38;5;28mself\u001b[39m\u001b[38;5;241m.\u001b[39map\n",
      "\u001b[1;31mAttributeError\u001b[0m: 'Marine' object has no attribute 'health'"
     ]
    }
   ],
   "source": [
    "m2.attack(m1)"
   ]
  },
  {
   "cell_type": "markdown",
   "id": "dbfe7e02-442b-4051-8d9a-925e63918a44",
   "metadata": {},
   "source": [
    "`-` 위를 방지하는 방법 중 하나가 생성자 메소드이다.\n",
    "\n",
    "* 제품을 만들 때, 메소드에서 사용하는 변수들이 있는지 한번 다 확인하는 것!"
   ]
  },
  {
   "cell_type": "code",
   "execution_count": 38,
   "id": "d4160fd6-1b5f-4e9f-b450-5bfb5c740561",
   "metadata": {
    "tags": []
   },
   "outputs": [],
   "source": [
    "class Marine : \n",
    "    #health, ap = 40, 5\n",
    "    def __init__(self,health,ap) : ## 생성자 작성\n",
    "        self.health, self.ap = health, ap\n",
    "    def attack(self, target) : ## self : 생성된 객체 자신\n",
    "        target.health -=self.ap ## 여기에서 target이 공격당한 대상이 m1, 따라서 m2의 공격력 7만큼 감소"
   ]
  },
  {
   "cell_type": "markdown",
   "id": "6974cad4-240b-4d12-9ecc-dea5219f8779",
   "metadata": {},
   "source": [
    "`-` 이제 메서드가 제대로 실행된다."
   ]
  },
  {
   "cell_type": "code",
   "execution_count": 39,
   "id": "2d22c2be-4659-4fac-bb94-7268336fea1d",
   "metadata": {
    "tags": []
   },
   "outputs": [
    {
     "data": {
      "text/plain": [
       "(40, 35)"
      ]
     },
     "execution_count": 39,
     "metadata": {},
     "output_type": "execute_result"
    }
   ],
   "source": [
    "m1, m2 = Marine(40,5), Marine(40,5)\n",
    "m2.attack(m1)\n",
    "m2.health, m1.health"
   ]
  },
  {
   "cell_type": "markdown",
   "id": "b2ee1ff4-5b03-4b55-bcc2-f54309825b0d",
   "metadata": {},
   "source": [
    "`-` 요약 : 생성자는 객체 생성시 변수의 초기값을 검사 및 설정한다.\n",
    "\n",
    "* 디폴트 값도 사용가능"
   ]
  },
  {
   "cell_type": "code",
   "execution_count": 40,
   "id": "fb8b37bb-dc78-42e8-9ab2-f192745a8fcd",
   "metadata": {
    "tags": []
   },
   "outputs": [],
   "source": [
    "class Marine : \n",
    "    #health, ap = 40, 5\n",
    "    def __init__(self,health,ap = 5) : ## 생성자 작성\n",
    "        self.health, self.ap = health, ap\n",
    "    def attack(self, target) : ## self : 생성된 객체 자신\n",
    "        target.health -=self.ap ## 여기에서 target이 공격당한 대상이 m1, 따라서 m2의 공격력 7만큼 감소"
   ]
  },
  {
   "cell_type": "code",
   "execution_count": 41,
   "id": "a7e754b7-981a-453e-a391-db1b14d431c8",
   "metadata": {
    "tags": []
   },
   "outputs": [
    {
     "data": {
      "text/plain": [
       "(40, 35)"
      ]
     },
     "execution_count": 41,
     "metadata": {},
     "output_type": "execute_result"
    }
   ],
   "source": [
    "m1, m2 = Marine(40,5), Marine(40)\n",
    "m2.attack(m1)\n",
    "m2.health, m1.health"
   ]
  },
  {
   "cell_type": "markdown",
   "id": "b175b288-c576-4925-ad44-cbceeb8d6d55",
   "metadata": {},
   "source": [
    "### Extra. 01 클래스 이후에 DF..."
   ]
  },
  {
   "cell_type": "code",
   "execution_count": 42,
   "id": "6779c1a0-c636-4205-919d-93c63592c94c",
   "metadata": {
    "tags": []
   },
   "outputs": [
    {
     "data": {
      "text/html": [
       "<div>\n",
       "<style scoped>\n",
       "    .dataframe tbody tr th:only-of-type {\n",
       "        vertical-align: middle;\n",
       "    }\n",
       "\n",
       "    .dataframe tbody tr th {\n",
       "        vertical-align: top;\n",
       "    }\n",
       "\n",
       "    .dataframe thead th {\n",
       "        text-align: right;\n",
       "    }\n",
       "</style>\n",
       "<table border=\"1\" class=\"dataframe\">\n",
       "  <thead>\n",
       "    <tr style=\"text-align: right;\">\n",
       "      <th></th>\n",
       "      <th>kospi</th>\n",
       "      <th>usd</th>\n",
       "    </tr>\n",
       "  </thead>\n",
       "  <tbody>\n",
       "    <tr>\n",
       "      <th>0</th>\n",
       "      <td>3</td>\n",
       "      <td>9</td>\n",
       "    </tr>\n",
       "    <tr>\n",
       "      <th>1</th>\n",
       "      <td>4</td>\n",
       "      <td>2</td>\n",
       "    </tr>\n",
       "    <tr>\n",
       "      <th>2</th>\n",
       "      <td>5</td>\n",
       "      <td>1</td>\n",
       "    </tr>\n",
       "  </tbody>\n",
       "</table>\n",
       "</div>"
      ],
      "text/plain": [
       "   kospi  usd\n",
       "0      3    9\n",
       "1      4    2\n",
       "2      5    1"
      ]
     },
     "execution_count": 42,
     "metadata": {},
     "output_type": "execute_result"
    }
   ],
   "source": [
    "import pandas as pd \n",
    "df = pd.DataFrame({\"kospi\" : [3, 4, 5], \"usd\" : [9, 2, 1]})\n",
    "df"
   ]
  },
  {
   "cell_type": "markdown",
   "id": "a90963ba-b18a-44f3-b585-9498a121f3f4",
   "metadata": {
    "tags": []
   },
   "source": [
    "`1` 아래 코드는 다른사람이 만든 클래스(모듈) 코드를 우리가 불러오는 것!\n",
    "\n",
    "```python\n",
    "import pandas as pd \n",
    "```"
   ]
  },
  {
   "cell_type": "markdown",
   "id": "835bc83f-e1e7-4213-9d6f-3f21a4b4f046",
   "metadata": {},
   "source": [
    "`2` 생성자 메서드를 이용하여 초기값을 설정하는 것! (메모리가 사용됨)\n",
    "\n",
    "```python\n",
    "df = pd.DataFrame({\"kospi\" : [3, 4, 5], \"usd\" : [9, 2, 1]})\n",
    "```"
   ]
  },
  {
   "cell_type": "markdown",
   "id": "7bd46ffd-b9f3-4e47-9b84-f1de2cd52c86",
   "metadata": {},
   "source": [
    "`3` 객체(df) 안에는 `pandas`안에 작성된 다양한 메서드들이 존재하며 다음과 같이 사용할 수 있다."
   ]
  },
  {
   "cell_type": "code",
   "execution_count": 43,
   "id": "0f426ddc-2518-4f8a-ad30-cfea53829437",
   "metadata": {
    "tags": []
   },
   "outputs": [
    {
     "data": {
      "text/html": [
       "<div>\n",
       "<style scoped>\n",
       "    .dataframe tbody tr th:only-of-type {\n",
       "        vertical-align: middle;\n",
       "    }\n",
       "\n",
       "    .dataframe tbody tr th {\n",
       "        vertical-align: top;\n",
       "    }\n",
       "\n",
       "    .dataframe thead th {\n",
       "        text-align: right;\n",
       "    }\n",
       "</style>\n",
       "<table border=\"1\" class=\"dataframe\">\n",
       "  <thead>\n",
       "    <tr style=\"text-align: right;\">\n",
       "      <th></th>\n",
       "      <th>kospi</th>\n",
       "      <th>usd</th>\n",
       "    </tr>\n",
       "  </thead>\n",
       "  <tbody>\n",
       "    <tr>\n",
       "      <th>kospi</th>\n",
       "      <td>1.000000</td>\n",
       "      <td>-0.917663</td>\n",
       "    </tr>\n",
       "    <tr>\n",
       "      <th>usd</th>\n",
       "      <td>-0.917663</td>\n",
       "      <td>1.000000</td>\n",
       "    </tr>\n",
       "  </tbody>\n",
       "</table>\n",
       "</div>"
      ],
      "text/plain": [
       "          kospi       usd\n",
       "kospi  1.000000 -0.917663\n",
       "usd   -0.917663  1.000000"
      ]
     },
     "execution_count": 43,
     "metadata": {},
     "output_type": "execute_result"
    }
   ],
   "source": [
    "df.corr()"
   ]
  },
  {
   "cell_type": "markdown",
   "id": "1349a2f5-da1a-4a06-9d9e-7013dbba2209",
   "metadata": {
    "tags": []
   },
   "source": [
    "`4`. 가장 중요 : dir을 통해 객체안에서 쓸 수 있는 `method`를 잘 살펴보자!"
   ]
  },
  {
   "cell_type": "markdown",
   "id": "bf48d35a-dfc5-4554-9fb1-6ea0f39d869e",
   "metadata": {},
   "source": [
    "`5` 클래스는 데이터 타입이다!! ($\\star\\star$)"
   ]
  },
  {
   "cell_type": "markdown",
   "id": "5864c0a5-2fc2-4d5d-ac4b-fe8edfe106c9",
   "metadata": {},
   "source": [
    "* m1 객체는 우리가 만든 marine이라는 클래스의 객체이다.\n",
    "    * 커스터마이징, 즉, 클래스는 사용자 정의 데이터 타입이다."
   ]
  },
  {
   "cell_type": "code",
   "execution_count": 46,
   "id": "ba2801e5-0765-4a0e-bfb0-57eb2a4506f7",
   "metadata": {},
   "outputs": [
    {
     "data": {
      "text/plain": [
       "__main__.Marine"
      ]
     },
     "execution_count": 46,
     "metadata": {},
     "output_type": "execute_result"
    }
   ],
   "source": [
    "m1 = Marine(40)\n",
    "type(m1)"
   ]
  },
  {
   "cell_type": "markdown",
   "id": "f593ba3c-83c8-4d2a-bc2b-3ab89bb0e66b",
   "metadata": {},
   "source": [
    "`6` d1, d2 객체에서 사용가능한 변수와 메서드는 `str, list` 클래스, 정의되어 있다.\n",
    " \n",
    " * **파이썬 문법으로 만들어진 내장 클래스는 앞글자를 소문자로 쓴다.**"
   ]
  },
  {
   "cell_type": "code",
   "execution_count": 47,
   "id": "4e92fec2-a1e3-497d-91b4-4b75aafae1ca",
   "metadata": {},
   "outputs": [],
   "source": [
    "d1 = \"python\"\n",
    "d2 = [1, 3, 2]"
   ]
  },
  {
   "cell_type": "code",
   "execution_count": 48,
   "id": "98ddd622-2f29-4482-9ff0-ec2d258e5df3",
   "metadata": {},
   "outputs": [
    {
     "data": {
      "text/plain": [
       "(str, list)"
      ]
     },
     "execution_count": 48,
     "metadata": {},
     "output_type": "execute_result"
    }
   ],
   "source": [
    "type(d1), type(d2)"
   ]
  },
  {
   "cell_type": "markdown",
   "id": "dc9b1b51-1823-4c0f-a6d1-7fbd055c6d6d",
   "metadata": {},
   "source": [
    "`7` 최종 결론\n",
    "\n",
    "* 사실 우리가 하는 변수 생성은 객체를 생성, 즉 클래스 객체를 생성한 것이다.\n",
    "\n",
    "* 따라서, 데이터 타입에 따라서 변수에서 사용가능한 변수, 메서드가 다르다."
   ]
  },
  {
   "cell_type": "markdown",
   "id": "8e6086ff-2d59-4569-87ce-3bc1f586c6d2",
   "metadata": {},
   "source": [
    "***"
   ]
  },
  {
   "cell_type": "markdown",
   "id": "054b2870-9033-4dfc-a551-5d24e8182086",
   "metadata": {},
   "source": [
    "# Web"
   ]
  },
  {
   "cell_type": "markdown",
   "id": "cbbdddd4-b892-4c1d-bfb6-334f6d50d301",
   "metadata": {},
   "source": [
    "## 종류"
   ]
  },
  {
   "cell_type": "markdown",
   "id": "e9f09ee8-cb6e-464a-9e08-f94c0a837661",
   "metadata": {},
   "source": [
    "`-` 동적 페이지 : 웹 브라우저에서 이벤트가 발생하면 서버에서 데이터를 가져와 화면을 변경하는 페이지 (`url 변경 x`)\n",
    "\n",
    "* 동적 페이지는 데이터를 가져올 때 `json` 포맷에서 데이터를 가져온다.\n",
    "\n",
    "    * 위 경우는 리스트나 딕셔너리로 가져오기 편함\n",
    "    \n",
    "    * 데이터를 가져오기 위해 추가적인 request, response가 발생함.\n",
    "    \n",
    "    * 이 때, json 포맷의 데이터를 가져온다!!\n",
    "    \n",
    "    * 이말은 우리가 파이썬 코드로 해당 url을 요청했을 때 json포맷에 데이터를 가져오는 것이다!"
   ]
  },
  {
   "cell_type": "markdown",
   "id": "528c3e7e-ba3b-46e4-9411-c1d37f52000a",
   "metadata": {},
   "source": [
    "`-` 정적 페이지 : url이 바뀌어야만 화면이 바뀌는 페이지\n",
    "\n",
    "* 정적 페이지는 `html` 포맷에서 데이터를 가져옴\n",
    "\n",
    "    * 이 경우는 리스트나 딕셔너리로 가져오기 어려움\n",
    "    \n",
    "    * request, response 시 html 포맷의 데이터를 가져옴\n",
    "    \n",
    "    * 파이썬 코드로 데이터 수집 시 해당 이벤트의 url을 찾고 requset, response를 한다!"
   ]
  },
  {
   "cell_type": "markdown",
   "id": "01c5c3cf-3e32-4d8b-ac75-1c6b6e0cbea9",
   "metadata": {},
   "source": [
    "$\\divideontimes$ 즉, 페이지 방식에 따라 url 접근 방식이 달라지고, 이에 따라 format이 달라져 크롤링 방식이 달라진다."
   ]
  },
  {
   "cell_type": "markdown",
   "id": "665485c2-e441-46a7-9f3c-722f54fb67ae",
   "metadata": {},
   "source": [
    "## import"
   ]
  },
  {
   "cell_type": "code",
   "execution_count": 54,
   "id": "8007d453-d2ee-4250-abac-a336f65bef33",
   "metadata": {},
   "outputs": [],
   "source": [
    "import warnings\n",
    "warnings.filterwarnings(\"ignore\")\n",
    "import pandas as pd\n",
    "import requests ## 크롤링을 위한 모듈"
   ]
  },
  {
   "cell_type": "markdown",
   "id": "86173d44-3831-4fbc-9bf5-64ece70299a7",
   "metadata": {},
   "source": [
    "## step 1. url 찾기 $\\to$ 웹 페이지 분석"
   ]
  },
  {
   "cell_type": "markdown",
   "id": "92444287-9aca-458a-a660-ad31c0adc3b7",
   "metadata": {},
   "source": [
    "`-` 크롬 개발자 도구를 이용하여 url을 찾기"
   ]
  },
  {
   "cell_type": "markdown",
   "id": "cf58be7f-ddbe-4564-8334-9118d86831ee",
   "metadata": {},
   "source": [
    "`1` 네이버의 코스피 주가데이터를 크롤링 (크롤링 할때는 모바일을 이용하자!)"
   ]
  },
  {
   "cell_type": "markdown",
   "id": "9894c09e-6a1e-40fd-8341-5aa7ed590f7f",
   "metadata": {},
   "source": [
    "[네이버 코스피 주가 데이터](https://m.stock.naver.com/domestic/index/KOSPI/enrollstocks) : 해당 페이지는 동적 페이지"
   ]
  },
  {
   "cell_type": "code",
   "execution_count": 58,
   "id": "62aa4741-154a-4d74-8ba9-1785561e5997",
   "metadata": {},
   "outputs": [
    {
     "name": "stdout",
     "output_type": "stream",
     "text": [
      "https://m.stock.naver.com/api/index/KOSPI/price?pageSize=20&page=1\n"
     ]
    }
   ],
   "source": [
    "page, pagesize = 1, 20 \n",
    "url = f'https://m.stock.naver.com/api/index/KOSPI/price?pageSize={pagesize}&page={page}' \n",
    "print(url)"
   ]
  },
  {
   "cell_type": "markdown",
   "id": "65433d4f-77a0-45a6-b0e3-92211a226bb2",
   "metadata": {},
   "source": [
    "## step 2. response"
   ]
  },
  {
   "cell_type": "markdown",
   "id": "69250c9c-23ef-48d7-9413-367165c1cc53",
   "metadata": {},
   "source": [
    "`2` response"
   ]
  },
  {
   "cell_type": "code",
   "execution_count": 59,
   "id": "176230a5-601e-4693-8278-2136b1794e54",
   "metadata": {},
   "outputs": [
    {
     "data": {
      "text/plain": [
       "<Response [200]>"
      ]
     },
     "execution_count": 59,
     "metadata": {},
     "output_type": "execute_result"
    }
   ],
   "source": [
    "response = requests.get(url)\n",
    "response"
   ]
  },
  {
   "cell_type": "code",
   "execution_count": 61,
   "id": "d8ce4d3a-79c4-4916-98de-2261be2e74fd",
   "metadata": {},
   "outputs": [
    {
     "data": {
      "text/plain": [
       "'[{\"localTradedAt\":\"2023-09-04\",\"closePrice\":\"2,579.39\",\"compareToPreviousClosePrice\":\"15.68\",\"compareToPreviousPrice\":{\"code\":\"2\",\"text\":\"상승\",\"name\":\"RISING\"},\"fluctuationsRatio\":\"0.61\",\"openPrice\":\"2'"
      ]
     },
     "execution_count": 61,
     "metadata": {},
     "output_type": "execute_result"
    }
   ],
   "source": [
    "response.text[:200]"
   ]
  },
  {
   "cell_type": "code",
   "execution_count": 62,
   "id": "adba1e98-7168-4f3e-87f4-9d554b559599",
   "metadata": {},
   "outputs": [
    {
     "data": {
      "text/plain": [
       "requests.models.Response"
      ]
     },
     "execution_count": 62,
     "metadata": {},
     "output_type": "execute_result"
    }
   ],
   "source": [
    "type(response)"
   ]
  },
  {
   "cell_type": "markdown",
   "id": "662560a1-cc6a-4584-bbd0-d28c2b25c3d5",
   "metadata": {},
   "source": [
    "***"
   ]
  },
  {
   "cell_type": "markdown",
   "id": "e1855ef6-e1ca-4e18-9c7c-dff606aed828",
   "metadata": {},
   "source": [
    "## step 3. 데이터 파싱"
   ]
  },
  {
   "cell_type": "markdown",
   "id": "0a791d56-6f03-4197-9d59-c048b6b6b0f1",
   "metadata": {},
   "source": [
    "`3`. data(json(str)) $\\to$ list,dict $\\to$ dataframe : 파싱을 수행"
   ]
  },
  {
   "cell_type": "code",
   "execution_count": 63,
   "id": "1ca451eb-91ef-4f91-9052-7073b2df03c7",
   "metadata": {},
   "outputs": [
    {
     "data": {
      "text/plain": [
       "(str, list)"
      ]
     },
     "execution_count": 63,
     "metadata": {},
     "output_type": "execute_result"
    }
   ],
   "source": [
    "type(response.text), type(response.json())"
   ]
  },
  {
   "cell_type": "code",
   "execution_count": 71,
   "id": "6de7fc25-0e14-45e3-8387-e88dd5b5263c",
   "metadata": {},
   "outputs": [
    {
     "data": {
      "text/html": [
       "<div>\n",
       "<style scoped>\n",
       "    .dataframe tbody tr th:only-of-type {\n",
       "        vertical-align: middle;\n",
       "    }\n",
       "\n",
       "    .dataframe tbody tr th {\n",
       "        vertical-align: top;\n",
       "    }\n",
       "\n",
       "    .dataframe thead th {\n",
       "        text-align: right;\n",
       "    }\n",
       "</style>\n",
       "<table border=\"1\" class=\"dataframe\">\n",
       "  <thead>\n",
       "    <tr style=\"text-align: right;\">\n",
       "      <th></th>\n",
       "      <th>localTradedAt</th>\n",
       "      <th>closePrice</th>\n",
       "    </tr>\n",
       "  </thead>\n",
       "  <tbody>\n",
       "    <tr>\n",
       "      <th>0</th>\n",
       "      <td>2023-09-04</td>\n",
       "      <td>2,579.39</td>\n",
       "    </tr>\n",
       "    <tr>\n",
       "      <th>1</th>\n",
       "      <td>2023-09-01</td>\n",
       "      <td>2,563.71</td>\n",
       "    </tr>\n",
       "    <tr>\n",
       "      <th>2</th>\n",
       "      <td>2023-08-31</td>\n",
       "      <td>2,556.27</td>\n",
       "    </tr>\n",
       "    <tr>\n",
       "      <th>3</th>\n",
       "      <td>2023-08-30</td>\n",
       "      <td>2,561.22</td>\n",
       "    </tr>\n",
       "    <tr>\n",
       "      <th>4</th>\n",
       "      <td>2023-08-29</td>\n",
       "      <td>2,552.16</td>\n",
       "    </tr>\n",
       "  </tbody>\n",
       "</table>\n",
       "</div>"
      ],
      "text/plain": [
       "  localTradedAt closePrice\n",
       "0    2023-09-04   2,579.39\n",
       "1    2023-09-01   2,563.71\n",
       "2    2023-08-31   2,556.27\n",
       "3    2023-08-30   2,561.22\n",
       "4    2023-08-29   2,552.16"
      ]
     },
     "execution_count": 71,
     "metadata": {},
     "output_type": "execute_result"
    }
   ],
   "source": [
    "data = response.json()\n",
    "\n",
    "kospi = pd.DataFrame(data)[[\"localTradedAt\",\"closePrice\"]]\n",
    "kospi.head()"
   ]
  },
  {
   "cell_type": "markdown",
   "id": "53174626-5f79-4ac9-ad61-8d27ea2efed2",
   "metadata": {},
   "source": [
    "## step 4. 위 과정을 함수로 작성"
   ]
  },
  {
   "cell_type": "code",
   "execution_count": 113,
   "id": "f813bd3e-4e7d-4172-afe4-84c7da766328",
   "metadata": {},
   "outputs": [],
   "source": [
    "def stock_crawling(page=1, pagesize=60) :\n",
    "    url = f'https://m.stock.naver.com/api/index/KOSPI/price?pageSize={pagesize}&page={page}'\n",
    "    response = requests.get(url)\n",
    "    data = response.json()\n",
    "    kospi = pd.DataFrame(data)[[\"localTradedAt\",\"closePrice\"]]\n",
    "    return kospi"
   ]
  },
  {
   "cell_type": "code",
   "execution_count": 114,
   "id": "0a3f2489-6631-4efa-9761-2f8e5f25dcbc",
   "metadata": {},
   "outputs": [],
   "source": [
    "kospi = stock_crawling()"
   ]
  },
  {
   "cell_type": "markdown",
   "id": "a735ebcb-eeb1-47dc-9b86-fa2487419ca4",
   "metadata": {},
   "source": [
    "## Extra : 코스닥 데이터 가져오기"
   ]
  },
  {
   "cell_type": "code",
   "execution_count": 78,
   "id": "1005666a-62c5-4c3c-b14a-c958e1ca83fd",
   "metadata": {},
   "outputs": [],
   "source": [
    "def stock_crawling2(code = \"KOSPI\",page=1, pagesize=60) :\n",
    "    url = f'https://m.stock.naver.com/api/index/{code}/price?pageSize={pagesize}&page={page}'\n",
    "    response = requests.get(url)\n",
    "    data = response.json()\n",
    "    kospi = pd.DataFrame(data)[[\"localTradedAt\",\"closePrice\"]]\n",
    "    return kospi"
   ]
  },
  {
   "cell_type": "code",
   "execution_count": 115,
   "id": "d904e525-0f44-495b-9ed9-3f7b6dddfcc7",
   "metadata": {},
   "outputs": [],
   "source": [
    "kosdaq = stock_crawling2(code = \"KOSDAQ\")"
   ]
  },
  {
   "cell_type": "markdown",
   "id": "b23ad74d-08cf-4f87-9ca0-5d8a7ad293c4",
   "metadata": {},
   "source": [
    "## step 5. 원달러 환율 데이터 수집하기"
   ]
  },
  {
   "cell_type": "markdown",
   "id": "bee235be-1768-449c-874f-041eb6e5fd6f",
   "metadata": {},
   "source": [
    "`-` 뼈대"
   ]
  },
  {
   "cell_type": "code",
   "execution_count": 105,
   "id": "a5d808b7-a229-41f5-b5bf-eab8c2443a91",
   "metadata": {},
   "outputs": [
    {
     "data": {
      "text/html": [
       "<div>\n",
       "<style scoped>\n",
       "    .dataframe tbody tr th:only-of-type {\n",
       "        vertical-align: middle;\n",
       "    }\n",
       "\n",
       "    .dataframe tbody tr th {\n",
       "        vertical-align: top;\n",
       "    }\n",
       "\n",
       "    .dataframe thead th {\n",
       "        text-align: right;\n",
       "    }\n",
       "</style>\n",
       "<table border=\"1\" class=\"dataframe\">\n",
       "  <thead>\n",
       "    <tr style=\"text-align: right;\">\n",
       "      <th></th>\n",
       "      <th>localTradedAt</th>\n",
       "      <th>closePrice</th>\n",
       "    </tr>\n",
       "  </thead>\n",
       "  <tbody>\n",
       "    <tr>\n",
       "      <th>5</th>\n",
       "      <td>2023-08-28</td>\n",
       "      <td>1,326.00</td>\n",
       "    </tr>\n",
       "    <tr>\n",
       "      <th>6</th>\n",
       "      <td>2023-08-25</td>\n",
       "      <td>1,327.00</td>\n",
       "    </tr>\n",
       "    <tr>\n",
       "      <th>7</th>\n",
       "      <td>2023-08-24</td>\n",
       "      <td>1,325.00</td>\n",
       "    </tr>\n",
       "    <tr>\n",
       "      <th>8</th>\n",
       "      <td>2023-08-23</td>\n",
       "      <td>1,335.00</td>\n",
       "    </tr>\n",
       "    <tr>\n",
       "      <th>9</th>\n",
       "      <td>2023-08-22</td>\n",
       "      <td>1,339.50</td>\n",
       "    </tr>\n",
       "  </tbody>\n",
       "</table>\n",
       "</div>"
      ],
      "text/plain": [
       "  localTradedAt closePrice\n",
       "5    2023-08-28   1,326.00\n",
       "6    2023-08-25   1,327.00\n",
       "7    2023-08-24   1,325.00\n",
       "8    2023-08-23   1,335.00\n",
       "9    2023-08-22   1,339.50"
      ]
     },
     "execution_count": 105,
     "metadata": {},
     "output_type": "execute_result"
    }
   ],
   "source": [
    "page = 1\n",
    "url = f\"https://m.stock.naver.com/front-api/v1/marketIndex/prices?page={page}&category=exchange&reutersCode=FX_USDKRW\"\n",
    "\n",
    "response = requests.get(url)\n",
    "\n",
    "usd = pd.DataFrame(response.json()[\"result\"])[[\"localTradedAt\",\"closePrice\"]]\n",
    "usd.tail()"
   ]
  },
  {
   "cell_type": "markdown",
   "id": "c72f2279-cb0d-4bb8-8ff4-113bc6c9e037",
   "metadata": {},
   "source": [
    "`-` `pagesize = 60` 설정"
   ]
  },
  {
   "cell_type": "code",
   "execution_count": 110,
   "id": "45848654-9a03-442a-9113-aefc251c3d8e",
   "metadata": {},
   "outputs": [
    {
     "data": {
      "text/html": [
       "<div>\n",
       "<style scoped>\n",
       "    .dataframe tbody tr th:only-of-type {\n",
       "        vertical-align: middle;\n",
       "    }\n",
       "\n",
       "    .dataframe tbody tr th {\n",
       "        vertical-align: top;\n",
       "    }\n",
       "\n",
       "    .dataframe thead th {\n",
       "        text-align: right;\n",
       "    }\n",
       "</style>\n",
       "<table border=\"1\" class=\"dataframe\">\n",
       "  <thead>\n",
       "    <tr style=\"text-align: right;\">\n",
       "      <th></th>\n",
       "      <th>localTradedAt</th>\n",
       "      <th>closePrice</th>\n",
       "    </tr>\n",
       "  </thead>\n",
       "  <tbody>\n",
       "    <tr>\n",
       "      <th>55</th>\n",
       "      <td>2023-06-16</td>\n",
       "      <td>1,280.00</td>\n",
       "    </tr>\n",
       "    <tr>\n",
       "      <th>56</th>\n",
       "      <td>2023-06-15</td>\n",
       "      <td>1,277.00</td>\n",
       "    </tr>\n",
       "    <tr>\n",
       "      <th>57</th>\n",
       "      <td>2023-06-14</td>\n",
       "      <td>1,275.00</td>\n",
       "    </tr>\n",
       "    <tr>\n",
       "      <th>58</th>\n",
       "      <td>2023-06-13</td>\n",
       "      <td>1,272.00</td>\n",
       "    </tr>\n",
       "    <tr>\n",
       "      <th>59</th>\n",
       "      <td>2023-06-12</td>\n",
       "      <td>1,290.00</td>\n",
       "    </tr>\n",
       "  </tbody>\n",
       "</table>\n",
       "</div>"
      ],
      "text/plain": [
       "   localTradedAt closePrice\n",
       "55    2023-06-16   1,280.00\n",
       "56    2023-06-15   1,277.00\n",
       "57    2023-06-14   1,275.00\n",
       "58    2023-06-13   1,272.00\n",
       "59    2023-06-12   1,290.00"
      ]
     },
     "execution_count": 110,
     "metadata": {},
     "output_type": "execute_result"
    }
   ],
   "source": [
    "page = 1\n",
    "pagesize = 60\n",
    "url = f\"https://m.stock.naver.com/front-api/v1/marketIndex/prices?page={page}&category=exchange&reutersCode=FX_USDKRW&pageSize={pagesize}\"\n",
    "\n",
    "response = requests.get(url)\n",
    "\n",
    "usd = pd.DataFrame(response.json()[\"result\"])[[\"localTradedAt\",\"closePrice\"]]\n",
    "usd.tail()"
   ]
  },
  {
   "cell_type": "markdown",
   "id": "48dd2775-9145-4144-ab51-3f7723d603d5",
   "metadata": {},
   "source": [
    "## step 6. 시각화"
   ]
  },
  {
   "cell_type": "markdown",
   "id": "9043e95f-99d0-46ab-a10b-b31ee1ac8779",
   "metadata": {},
   "source": [
    "### (1) 데이터 전처리"
   ]
  },
  {
   "cell_type": "code",
   "execution_count": 124,
   "id": "80ccbd82-a6a9-40a6-9ad4-7498d4b06ca8",
   "metadata": {},
   "outputs": [
    {
     "data": {
      "text/html": [
       "<div>\n",
       "<style scoped>\n",
       "    .dataframe tbody tr th:only-of-type {\n",
       "        vertical-align: middle;\n",
       "    }\n",
       "\n",
       "    .dataframe tbody tr th {\n",
       "        vertical-align: top;\n",
       "    }\n",
       "\n",
       "    .dataframe thead th {\n",
       "        text-align: right;\n",
       "    }\n",
       "</style>\n",
       "<table border=\"1\" class=\"dataframe\">\n",
       "  <thead>\n",
       "    <tr style=\"text-align: right;\">\n",
       "      <th></th>\n",
       "      <th>date</th>\n",
       "      <th>kospi</th>\n",
       "      <th>kosdaq</th>\n",
       "      <th>usd</th>\n",
       "    </tr>\n",
       "  </thead>\n",
       "  <tbody>\n",
       "    <tr>\n",
       "      <th>0</th>\n",
       "      <td>2023-09-04</td>\n",
       "      <td>2,584.55</td>\n",
       "      <td>919.16</td>\n",
       "      <td>1,320.50</td>\n",
       "    </tr>\n",
       "    <tr>\n",
       "      <th>1</th>\n",
       "      <td>2023-09-01</td>\n",
       "      <td>2,563.71</td>\n",
       "      <td>919.74</td>\n",
       "      <td>1,321.50</td>\n",
       "    </tr>\n",
       "    <tr>\n",
       "      <th>2</th>\n",
       "      <td>2023-08-31</td>\n",
       "      <td>2,556.27</td>\n",
       "      <td>928.40</td>\n",
       "      <td>1,325.00</td>\n",
       "    </tr>\n",
       "    <tr>\n",
       "      <th>3</th>\n",
       "      <td>2023-08-30</td>\n",
       "      <td>2,561.22</td>\n",
       "      <td>923.81</td>\n",
       "      <td>1,322.00</td>\n",
       "    </tr>\n",
       "    <tr>\n",
       "      <th>4</th>\n",
       "      <td>2023-08-29</td>\n",
       "      <td>2,552.16</td>\n",
       "      <td>916.24</td>\n",
       "      <td>1,325.00</td>\n",
       "    </tr>\n",
       "  </tbody>\n",
       "</table>\n",
       "</div>"
      ],
      "text/plain": [
       "         date     kospi  kosdaq       usd\n",
       "0  2023-09-04  2,584.55  919.16  1,320.50\n",
       "1  2023-09-01  2,563.71  919.74  1,321.50\n",
       "2  2023-08-31  2,556.27  928.40  1,325.00\n",
       "3  2023-08-30  2,561.22  923.81  1,322.00\n",
       "4  2023-08-29  2,552.16  916.24  1,325.00"
      ]
     },
     "execution_count": 124,
     "metadata": {},
     "output_type": "execute_result"
    }
   ],
   "source": [
    "df = kospi.copy()\n",
    "df.columns = [\"date\",\"kospi\"]\n",
    "df[\"kosdaq\"] = kosdaq[\"closePrice\"]\n",
    "df[\"usd\"] = usd[\"closePrice\"]\n",
    "df.head()"
   ]
  },
  {
   "cell_type": "code",
   "execution_count": 162,
   "id": "622432e3-1dd8-4afd-85bf-0a0155da603c",
   "metadata": {},
   "outputs": [
    {
     "name": "stdout",
     "output_type": "stream",
     "text": [
      "<class 'pandas.core.frame.DataFrame'>\n",
      "RangeIndex: 60 entries, 0 to 59\n",
      "Data columns (total 4 columns):\n",
      " #   Column  Non-Null Count  Dtype  \n",
      "---  ------  --------------  -----  \n",
      " 0   date    60 non-null     object \n",
      " 1   kospi   60 non-null     float64\n",
      " 2   kosdaq  60 non-null     float64\n",
      " 3   usd     60 non-null     float64\n",
      "dtypes: float64(3), object(1)\n",
      "memory usage: 2.0+ KB\n"
     ]
    }
   ],
   "source": [
    "temp = df.iloc[:,1:].applymap(lambda x : float(x.replace(\",\",\"\")))\n",
    "_df = pd.concat([df[\"date\"],temp],axis=1)\n",
    "_df.info()"
   ]
  },
  {
   "cell_type": "code",
   "execution_count": 164,
   "id": "b4e592f8-8c1c-46b7-83be-6ffdbc69df19",
   "metadata": {},
   "outputs": [
    {
     "data": {
      "text/html": [
       "<div>\n",
       "<style scoped>\n",
       "    .dataframe tbody tr th:only-of-type {\n",
       "        vertical-align: middle;\n",
       "    }\n",
       "\n",
       "    .dataframe tbody tr th {\n",
       "        vertical-align: top;\n",
       "    }\n",
       "\n",
       "    .dataframe thead th {\n",
       "        text-align: right;\n",
       "    }\n",
       "</style>\n",
       "<table border=\"1\" class=\"dataframe\">\n",
       "  <thead>\n",
       "    <tr style=\"text-align: right;\">\n",
       "      <th></th>\n",
       "      <th>date</th>\n",
       "      <th>kospi</th>\n",
       "      <th>kosdaq</th>\n",
       "      <th>usd</th>\n",
       "    </tr>\n",
       "  </thead>\n",
       "  <tbody>\n",
       "    <tr>\n",
       "      <th>0</th>\n",
       "      <td>2023-09-04</td>\n",
       "      <td>2584.55</td>\n",
       "      <td>919.16</td>\n",
       "      <td>1320.5</td>\n",
       "    </tr>\n",
       "    <tr>\n",
       "      <th>1</th>\n",
       "      <td>2023-09-01</td>\n",
       "      <td>2563.71</td>\n",
       "      <td>919.74</td>\n",
       "      <td>1321.5</td>\n",
       "    </tr>\n",
       "    <tr>\n",
       "      <th>2</th>\n",
       "      <td>2023-08-31</td>\n",
       "      <td>2556.27</td>\n",
       "      <td>928.40</td>\n",
       "      <td>1325.0</td>\n",
       "    </tr>\n",
       "    <tr>\n",
       "      <th>3</th>\n",
       "      <td>2023-08-30</td>\n",
       "      <td>2561.22</td>\n",
       "      <td>923.81</td>\n",
       "      <td>1322.0</td>\n",
       "    </tr>\n",
       "    <tr>\n",
       "      <th>4</th>\n",
       "      <td>2023-08-29</td>\n",
       "      <td>2552.16</td>\n",
       "      <td>916.24</td>\n",
       "      <td>1325.0</td>\n",
       "    </tr>\n",
       "  </tbody>\n",
       "</table>\n",
       "</div>"
      ],
      "text/plain": [
       "         date    kospi  kosdaq     usd\n",
       "0  2023-09-04  2584.55  919.16  1320.5\n",
       "1  2023-09-01  2563.71  919.74  1321.5\n",
       "2  2023-08-31  2556.27  928.40  1325.0\n",
       "3  2023-08-30  2561.22  923.81  1322.0\n",
       "4  2023-08-29  2552.16  916.24  1325.0"
      ]
     },
     "execution_count": 164,
     "metadata": {},
     "output_type": "execute_result"
    }
   ],
   "source": [
    "_df.head()"
   ]
  },
  {
   "cell_type": "markdown",
   "id": "96fdc78e-79ca-4600-a62c-4b5fbc3d5472",
   "metadata": {},
   "source": [
    "### (2) 시각화 "
   ]
  },
  {
   "cell_type": "code",
   "execution_count": 156,
   "id": "1b98bc18-c57c-43ef-8309-618888459ac1",
   "metadata": {},
   "outputs": [],
   "source": [
    "import matplotlib.pyplot as plt"
   ]
  },
  {
   "cell_type": "code",
   "execution_count": 187,
   "id": "40f7e41c-136a-45ad-bdee-295881469cf1",
   "metadata": {},
   "outputs": [
    {
     "data": {
      "image/png": "[encoded data removed]",
      "text/plain": [
       "<Figure size 1400x500 with 1 Axes>"
      ]
     },
     "metadata": {},
     "output_type": "display_data"
    }
   ],
   "source": [
    "plt.figure(figsize=(14,5))\n",
    "plt.plot(_df[\"date\"], _df.kospi)\n",
    "plt.plot(_df[\"date\"], _df.kosdaq)\n",
    "plt.plot(_df[\"date\"], _df.usd)\n",
    "plt.xticks(_df[\"date\"].values[::5])\n",
    "plt.show()"
   ]
  },
  {
   "cell_type": "markdown",
   "id": "addbbc4d-9536-4ddd-b8b7-46b518ee4bc9",
   "metadata": {},
   "source": [
    "### (3) 데이터 스케일링 + 시각화"
   ]
  },
  {
   "cell_type": "code",
   "execution_count": 184,
   "id": "a05bba3d-02d3-4e92-be0a-14199f140d86",
   "metadata": {},
   "outputs": [],
   "source": [
    "from sklearn.preprocessing import minmax_scale"
   ]
  },
  {
   "cell_type": "code",
   "execution_count": 186,
   "id": "e063baca-0e96-46e2-b487-a5c024d5383a",
   "metadata": {},
   "outputs": [
    {
     "data": {
      "image/png": "[encoded data removed]",
      "text/plain": [
       "<Figure size 1400x500 with 1 Axes>"
      ]
     },
     "metadata": {},
     "output_type": "display_data"
    }
   ],
   "source": [
    "plt.figure(figsize=(14,5))\n",
    "plt.plot(_df[\"date\"], minmax_scale(_df.kospi))\n",
    "plt.plot(_df[\"date\"], minmax_scale(_df.kosdaq))\n",
    "plt.plot(_df[\"date\"], minmax_scale(_df.usd))\n",
    "plt.xticks(_df[\"date\"].values[::5])\n",
    "plt.show()"
   ]
  },
  {
   "cell_type": "markdown",
   "id": "f6008be2-9cd6-4d75-a574-5dba4140cfef",
   "metadata": {},
   "source": [
    "## step 7. 상관분석"
   ]
  },
  {
   "cell_type": "code",
   "execution_count": 188,
   "id": "910ea920-4e96-470c-9c77-828046fbd741",
   "metadata": {},
   "outputs": [
    {
     "data": {
      "text/html": [
       "<div>\n",
       "<style scoped>\n",
       "    .dataframe tbody tr th:only-of-type {\n",
       "        vertical-align: middle;\n",
       "    }\n",
       "\n",
       "    .dataframe tbody tr th {\n",
       "        vertical-align: top;\n",
       "    }\n",
       "\n",
       "    .dataframe thead th {\n",
       "        text-align: right;\n",
       "    }\n",
       "</style>\n",
       "<table border=\"1\" class=\"dataframe\">\n",
       "  <thead>\n",
       "    <tr style=\"text-align: right;\">\n",
       "      <th></th>\n",
       "      <th>kospi</th>\n",
       "      <th>kosdaq</th>\n",
       "      <th>usd</th>\n",
       "    </tr>\n",
       "  </thead>\n",
       "  <tbody>\n",
       "    <tr>\n",
       "      <th>kospi</th>\n",
       "      <td>1.000000</td>\n",
       "      <td>0.435544</td>\n",
       "      <td>-0.777496</td>\n",
       "    </tr>\n",
       "    <tr>\n",
       "      <th>kosdaq</th>\n",
       "      <td>0.435544</td>\n",
       "      <td>1.000000</td>\n",
       "      <td>-0.163426</td>\n",
       "    </tr>\n",
       "    <tr>\n",
       "      <th>usd</th>\n",
       "      <td>-0.777496</td>\n",
       "      <td>-0.163426</td>\n",
       "      <td>1.000000</td>\n",
       "    </tr>\n",
       "  </tbody>\n",
       "</table>\n",
       "</div>"
      ],
      "text/plain": [
       "           kospi    kosdaq       usd\n",
       "kospi   1.000000  0.435544 -0.777496\n",
       "kosdaq  0.435544  1.000000 -0.163426\n",
       "usd    -0.777496 -0.163426  1.000000"
      ]
     },
     "execution_count": 188,
     "metadata": {},
     "output_type": "execute_result"
    }
   ],
   "source": [
    "_df.corr()"
   ]
  },
  {
   "cell_type": "markdown",
   "id": "23d8d53d-b2eb-48a7-928c-3c5f46396d2d",
   "metadata": {},
   "source": [
    "## 다음 환율 조사"
   ]
  },
  {
   "cell_type": "code",
   "execution_count": 1,
   "id": "4768f92a-ab01-4167-b9da-18a7f34bfbcf",
   "metadata": {
    "tags": []
   },
   "outputs": [],
   "source": [
    "import warnings\n",
    "warnings.filterwarnings(\"ignore\")\n",
    "import pandas as pd\n",
    "import requests"
   ]
  },
  {
   "cell_type": "markdown",
   "id": "36da620b-d698-43e7-85ce-85d0759fa52f",
   "metadata": {},
   "source": [
    "### 1. 웹서비스 분석 : URL 찾기"
   ]
  },
  {
   "cell_type": "code",
   "execution_count": 2,
   "id": "16cd9f95-cb6d-4b15-95c0-e3c5291dc6d4",
   "metadata": {
    "tags": []
   },
   "outputs": [],
   "source": [
    "url = \"https://finance.daum.net/api/exchanges/summaries\""
   ]
  },
  {
   "cell_type": "markdown",
   "id": "36a787fd-de92-4b11-9dd7-e04fb1c76152",
   "metadata": {},
   "source": [
    "### 2. response"
   ]
  },
  {
   "cell_type": "markdown",
   "id": "92ff412a-cee3-4119-a36f-7c3bf2e6654e",
   "metadata": {},
   "source": [
    "`-` 403 error가 뜬다? 현재 user-agent가 python으로 찍혀서 그럼"
   ]
  },
  {
   "cell_type": "raw",
   "id": "ae9908ac-c5e4-484a-8c5f-0023aea16169",
   "metadata": {
    "tags": []
   },
   "source": [
    "response = requests.get(url)\n",
    "response"
   ]
  },
  {
   "cell_type": "markdown",
   "id": "432364c8-be19-4b16-be87-b875d23558b4",
   "metadata": {},
   "source": [
    "`-` `User-Agent`를 같이 보내주어야 한다! (크롤링 소스를 잘보자....)"
   ]
  },
  {
   "cell_type": "markdown",
   "id": "3165e093-223f-43d4-88b9-aa900274ef85",
   "metadata": {},
   "source": [
    "`-` 근데도 403 error가 뜬다...."
   ]
  },
  {
   "cell_type": "code",
   "execution_count": 6,
   "id": "81d450c3-92d1-4ae8-8690-5d2c1f6e99c8",
   "metadata": {
    "tags": []
   },
   "outputs": [
    {
     "data": {
      "text/plain": [
       "<Response [403]>"
      ]
     },
     "execution_count": 6,
     "metadata": {},
     "output_type": "execute_result"
    }
   ],
   "source": [
    "headers = {\n",
    "\"User-Agent\" : \"Mozilla/5.0 (Windows NT 10.0; Win64; x64) AppleWebKit/537.36 (KHTML, like Gecko)\\\n",
    "                Chrome/116.0.0.0 Safari/537.36\",}\n",
    "\n",
    "response = requests.get(url, headers = headers)\n",
    "response"
   ]
  },
  {
   "cell_type": "markdown",
   "id": "a419f2e3-c0df-44bb-babe-613b32339d25",
   "metadata": {},
   "source": [
    "`-` Referer도 추가해야한다. 근데 이런 방법을 알려면 노가다로 다 넣어서 찾아야한다."
   ]
  },
  {
   "cell_type": "code",
   "execution_count": 7,
   "id": "ae1fb90c-7c37-48cb-986b-68975977970b",
   "metadata": {
    "tags": []
   },
   "outputs": [
    {
     "data": {
      "text/plain": [
       "<Response [200]>"
      ]
     },
     "execution_count": 7,
     "metadata": {},
     "output_type": "execute_result"
    }
   ],
   "source": [
    "headers = {\n",
    "\"User-Agent\" : \"Mozilla/5.0 (Windows NT 10.0; Win64; x64) AppleWebKit/537.36 (KHTML, like Gecko)\\\n",
    "                Chrome/116.0.0.0 Safari/537.36\",\n",
    "\"Referer\" : \"https://finance.daum.net/exchanges\" }\n",
    "\n",
    "response = requests.get(url, headers = headers)\n",
    "response"
   ]
  },
  {
   "cell_type": "markdown",
   "id": "39dd645c-d56c-4bca-8a6b-3ef16a1fe886",
   "metadata": {},
   "source": [
    "`-` 드디어 성공 !"
   ]
  },
  {
   "cell_type": "code",
   "execution_count": 8,
   "id": "734bc014-f061-416c-b8e2-d00cb96e3ad5",
   "metadata": {
    "tags": []
   },
   "outputs": [
    {
     "data": {
      "text/plain": [
       "'{\"data\":[{\"symbolCode\":\"FRX.KRWUSD\",\"date\":\"2023-09-04 16:53:55\",\"currencyCode\":\"USD\",\"currencyName\":\"달러\",\"currencyUnit\":1,\"country\":\"미국\",\"region\":{\"korName\":\"아메리카\",\"engName\":\"America\"},\"name\":\"미국 (USD/KRW)\",\"recurrenceCount\":372,\"basePrice\":1320.5,\"change\":\"FALL\",\"changePrice\":1.0,\"changeRate\":0.0007567159,\"cashBuyingPrice\":1343.6,\"cashSellingPrice\":1297.4,\"ttBuyingPrice\":1307.6,\"ttSellingPrice\":1333.4,\"tcBuyingPrice\":null,\"fcSellingPrice\":null,\"exchangeCommission\":7.1789,\"usDollarRate\":1.0,\"ch'"
      ]
     },
     "execution_count": 8,
     "metadata": {},
     "output_type": "execute_result"
    }
   ],
   "source": [
    "response.text[:500]"
   ]
  },
  {
   "cell_type": "markdown",
   "id": "3f12e93d-513d-49f0-aafd-c9286791ab32",
   "metadata": {},
   "source": [
    "### 3. 데이터 파싱"
   ]
  },
  {
   "cell_type": "code",
   "execution_count": 27,
   "id": "eed929e9-d1ec-408c-bb31-51000f81b4be",
   "metadata": {
    "tags": []
   },
   "outputs": [
    {
     "data": {
      "text/html": [
       "<div>\n",
       "<style scoped>\n",
       "    .dataframe tbody tr th:only-of-type {\n",
       "        vertical-align: middle;\n",
       "    }\n",
       "\n",
       "    .dataframe tbody tr th {\n",
       "        vertical-align: top;\n",
       "    }\n",
       "\n",
       "    .dataframe thead th {\n",
       "        text-align: right;\n",
       "    }\n",
       "</style>\n",
       "<table border=\"1\" class=\"dataframe\">\n",
       "  <thead>\n",
       "    <tr style=\"text-align: right;\">\n",
       "      <th></th>\n",
       "      <th>symbolCode</th>\n",
       "      <th>currencyCode</th>\n",
       "      <th>basePrice</th>\n",
       "    </tr>\n",
       "  </thead>\n",
       "  <tbody>\n",
       "    <tr>\n",
       "      <th>0</th>\n",
       "      <td>FRX.KRWUSD</td>\n",
       "      <td>USD</td>\n",
       "      <td>1320.50</td>\n",
       "    </tr>\n",
       "    <tr>\n",
       "      <th>1</th>\n",
       "      <td>FRX.KRWJPY</td>\n",
       "      <td>JPY</td>\n",
       "      <td>901.70</td>\n",
       "    </tr>\n",
       "    <tr>\n",
       "      <th>2</th>\n",
       "      <td>FRX.KRWCNY</td>\n",
       "      <td>CNY</td>\n",
       "      <td>181.52</td>\n",
       "    </tr>\n",
       "    <tr>\n",
       "      <th>3</th>\n",
       "      <td>FRX.KRWEUR</td>\n",
       "      <td>EUR</td>\n",
       "      <td>1426.14</td>\n",
       "    </tr>\n",
       "    <tr>\n",
       "      <th>4</th>\n",
       "      <td>FRX.KRWGBP</td>\n",
       "      <td>GBP</td>\n",
       "      <td>1667.00</td>\n",
       "    </tr>\n",
       "  </tbody>\n",
       "</table>\n",
       "</div>"
      ],
      "text/plain": [
       "   symbolCode currencyCode  basePrice\n",
       "0  FRX.KRWUSD          USD    1320.50\n",
       "1  FRX.KRWJPY          JPY     901.70\n",
       "2  FRX.KRWCNY          CNY     181.52\n",
       "3  FRX.KRWEUR          EUR    1426.14\n",
       "4  FRX.KRWGBP          GBP    1667.00"
      ]
     },
     "execution_count": 27,
     "metadata": {},
     "output_type": "execute_result"
    }
   ],
   "source": [
    "df = pd.DataFrame(response.json()[\"data\"])[[\"symbolCode\",\"currencyCode\",\"basePrice\"]]\n",
    "df.head()"
   ]
  }
 ],
 "metadata": {
  "kernelspec": {
   "display_name": "Python 3 (ipykernel)",
   "language": "python",
   "name": "python3"
  },
  "language_info": {
   "codemirror_mode": {
    "name": "ipython",
    "version": 3
   },
   "file_extension": ".py",
   "mimetype": "text/x-python",
   "name": "python",
   "nbconvert_exporter": "python",
   "pygments_lexer": "ipython3",
   "version": "3.11.4"
  },
  "toc": {
   "base_numbering": 1,
   "nav_menu": {},
   "number_sections": false,
   "sideBar": true,
   "skip_h1_title": false,
   "title_cell": "Table of Contents",
   "title_sidebar": "Contents",
   "toc_cell": false,
   "toc_position": {
    "height": "calc(100% - 180px)",
    "left": "10px",
    "top": "150px",
    "width": "276.292px"
   },
   "toc_section_display": true,
   "toc_window_display": true
  }
 },
 "nbformat": 4,
 "nbformat_minor": 5
}
