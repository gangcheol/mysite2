{
 "cells": [
  {
   "cell_type": "raw",
   "id": "99cdef77-da50-4d79-b265-4af93f81b098",
   "metadata": {},
   "source": [
    "---\n",
    "title : \"01. 머신러닝 (1)\"\n",
    "authr : \"GC\"\n",
    "date : \"09/12/23\"\n",
    "categories : [머신러닝, 모형 평가]\n",
    "---"
   ]
  },
  {
   "cell_type": "markdown",
   "id": "e5602b8e-53c6-4996-9dd4-68e00e662685",
   "metadata": {},
   "source": [
    "# import"
   ]
  },
  {
   "cell_type": "code",
   "execution_count": 310,
   "id": "2e302129-0d20-42ce-8743-aed5554fcfd6",
   "metadata": {
    "tags": []
   },
   "outputs": [],
   "source": [
    "# | code-fold : true\n",
    "import numpy as np\n",
    "import pandas as pd\n",
    "import matplotlib.pyplot as plt\n",
    "import seaborn as sns\n",
    "import warnings\n",
    "import plotly.express as px\n",
    "import plotly.io as pio\n",
    "pio.renderers.default = \"plotly_mimetype+notebook_connected\"\n",
    "from sklearn.model_selection import train_test_split\n",
    "\n",
    "warnings.filterwarnings(action='ignore')\n",
    "%config InlineBackend.figure_format = 'retina'"
   ]
  },
  {
   "cell_type": "markdown",
   "id": "23de15a2-aea2-47ed-a085-d388c2da231a",
   "metadata": {},
   "source": [
    "# Review. 데이터 셋 분할"
   ]
  },
  {
   "cell_type": "code",
   "execution_count": 311,
   "id": "fee5e928-c38f-486b-92aa-8bdfee2978ca",
   "metadata": {
    "tags": []
   },
   "outputs": [],
   "source": [
    "path = 'https://raw.githubusercontent.com/Jangrae/csv/master/iris.csv'\n",
    "data = pd.read_csv(path)\n",
    "\n",
    "y = data[[\"Species\"]]\n",
    "x = data.drop(\"Species\", axis=1)"
   ]
  },
  {
   "cell_type": "markdown",
   "id": "d2fba863-8c61-45e6-bd62-f27b015cd416",
   "metadata": {
    "tags": []
   },
   "source": [
    "`-` shuffle를 `False`를 주니 클래스가 제대로 섞이지 않는다.."
   ]
  },
  {
   "cell_type": "code",
   "execution_count": 312,
   "id": "26ba22be-211a-4d83-82ba-efe9e4cc41a6",
   "metadata": {
    "tags": []
   },
   "outputs": [
    {
     "data": {
      "text/plain": [
       "Species   \n",
       "setosa        50\n",
       "versicolor    50\n",
       "virginica      5\n",
       "Name: count, dtype: int64"
      ]
     },
     "execution_count": 312,
     "metadata": {},
     "output_type": "execute_result"
    }
   ],
   "source": [
    "x_train, x_test, y_train, y_test = train_test_split(x,y, test_size = 0.3, shuffle = False, random_state=1)\n",
    "y_train.value_counts()"
   ]
  },
  {
   "cell_type": "markdown",
   "id": "e357a6f2-cf72-49b2-93d5-7fa71a694df6",
   "metadata": {},
   "source": [
    "`-` 적당히 분배되었지만 그래도 뭔가 애매함"
   ]
  },
  {
   "cell_type": "code",
   "execution_count": 313,
   "id": "a6a47b8c-950e-45cc-a277-09758b9f29f5",
   "metadata": {
    "tags": []
   },
   "outputs": [
    {
     "data": {
      "text/plain": [
       "Species   \n",
       "virginica     37\n",
       "setosa        36\n",
       "versicolor    32\n",
       "Name: count, dtype: int64"
      ]
     },
     "execution_count": 313,
     "metadata": {},
     "output_type": "execute_result"
    }
   ],
   "source": [
    "x_train, x_test, y_train, y_test = train_test_split(x,y, test_size = 0.3, shuffle = True, random_state=1)\n",
    "y_train.value_counts()"
   ]
  },
  {
   "cell_type": "markdown",
   "id": "d8a2c13b-aa76-4763-a8ee-3333b3ff2e48",
   "metadata": {},
   "source": [
    "*  `stratify=y`로 인자를 전달하니 동일한 비율로 test data set이 만들어졌다."
   ]
  },
  {
   "cell_type": "code",
   "execution_count": 314,
   "id": "e9de18d7-d798-4603-987a-7614d871fe16",
   "metadata": {
    "tags": []
   },
   "outputs": [
    {
     "data": {
      "text/plain": [
       "Species   \n",
       "setosa        35\n",
       "versicolor    35\n",
       "virginica     35\n",
       "Name: count, dtype: int64"
      ]
     },
     "execution_count": 314,
     "metadata": {},
     "output_type": "execute_result"
    }
   ],
   "source": [
    "x_train, x_test, y_train, y_test = train_test_split(x,y, test_size = 0.3, shuffle = True, random_state=1,  stratify=y)\n",
    "y_train.value_counts()"
   ]
  },
  {
   "cell_type": "markdown",
   "id": "2bf2b222-c10a-42bf-ac06-ffa868e558f9",
   "metadata": {},
   "source": [
    "***"
   ]
  },
  {
   "cell_type": "markdown",
   "id": "3120288e-f016-4cf1-971e-d24c24c333e5",
   "metadata": {},
   "source": [
    "# 모델 성능평가"
   ]
  },
  {
   "cell_type": "markdown",
   "id": "4847de01-4ad8-4da3-a973-a3ab278ec0ce",
   "metadata": {},
   "source": [
    "## 데이터로드"
   ]
  },
  {
   "cell_type": "code",
   "execution_count": 315,
   "id": "266449fd-418e-457f-affd-a8dcbf72e984",
   "metadata": {},
   "outputs": [],
   "source": [
    "path = 'https://raw.githubusercontent.com/Jangrae/csv/master/airquality_simple.csv'\n",
    "data = pd.read_csv(path)"
   ]
  },
  {
   "cell_type": "markdown",
   "id": "3ea2502a-fc13-48da-a39f-ee444e35c981",
   "metadata": {},
   "source": [
    "## 데이터 준비"
   ]
  },
  {
   "cell_type": "markdown",
   "id": "093afd23-fc3c-4b63-ae84-89608484b815",
   "metadata": {},
   "source": [
    "`-` 결측치 체우기"
   ]
  },
  {
   "cell_type": "code",
   "execution_count": 316,
   "id": "14b8443d-8584-4c3e-9f7d-28ab687ad7ff",
   "metadata": {
    "tags": []
   },
   "outputs": [
    {
     "data": {
      "text/plain": [
       "Ozone      0\n",
       "Solar.R    0\n",
       "Wind       0\n",
       "Temp       0\n",
       "Month      0\n",
       "Day        0\n",
       "dtype: int64"
      ]
     },
     "execution_count": 316,
     "metadata": {},
     "output_type": "execute_result"
    }
   ],
   "source": [
    "# 전날 값으로 결측치 채우기\n",
    "data.fillna(method='ffill', inplace=True)\n",
    "\n",
    "# 확인\n",
    "data.isnull().sum()"
   ]
  },
  {
   "cell_type": "markdown",
   "id": "43a31da7-917a-4614-ba6b-20b8d914b9b5",
   "metadata": {},
   "source": [
    "`-` 변수제거"
   ]
  },
  {
   "cell_type": "code",
   "execution_count": 317,
   "id": "09c86285-537a-4931-a653-51d85963e008",
   "metadata": {
    "tags": []
   },
   "outputs": [
    {
     "data": {
      "text/html": [
       "<div>\n",
       "<style scoped>\n",
       "    .dataframe tbody tr th:only-of-type {\n",
       "        vertical-align: middle;\n",
       "    }\n",
       "\n",
       "    .dataframe tbody tr th {\n",
       "        vertical-align: top;\n",
       "    }\n",
       "\n",
       "    .dataframe thead th {\n",
       "        text-align: right;\n",
       "    }\n",
       "</style>\n",
       "<table border=\"1\" class=\"dataframe\">\n",
       "  <thead>\n",
       "    <tr style=\"text-align: right;\">\n",
       "      <th></th>\n",
       "      <th>Ozone</th>\n",
       "      <th>Solar.R</th>\n",
       "      <th>Wind</th>\n",
       "      <th>Temp</th>\n",
       "    </tr>\n",
       "  </thead>\n",
       "  <tbody>\n",
       "    <tr>\n",
       "      <th>0</th>\n",
       "      <td>41</td>\n",
       "      <td>190.0</td>\n",
       "      <td>7.4</td>\n",
       "      <td>67</td>\n",
       "    </tr>\n",
       "    <tr>\n",
       "      <th>1</th>\n",
       "      <td>36</td>\n",
       "      <td>118.0</td>\n",
       "      <td>8.0</td>\n",
       "      <td>72</td>\n",
       "    </tr>\n",
       "    <tr>\n",
       "      <th>2</th>\n",
       "      <td>12</td>\n",
       "      <td>149.0</td>\n",
       "      <td>12.6</td>\n",
       "      <td>74</td>\n",
       "    </tr>\n",
       "    <tr>\n",
       "      <th>3</th>\n",
       "      <td>18</td>\n",
       "      <td>313.0</td>\n",
       "      <td>11.5</td>\n",
       "      <td>62</td>\n",
       "    </tr>\n",
       "    <tr>\n",
       "      <th>4</th>\n",
       "      <td>19</td>\n",
       "      <td>313.0</td>\n",
       "      <td>14.3</td>\n",
       "      <td>56</td>\n",
       "    </tr>\n",
       "  </tbody>\n",
       "</table>\n",
       "</div>"
      ],
      "text/plain": [
       "   Ozone  Solar.R  Wind  Temp\n",
       "0     41    190.0   7.4    67\n",
       "1     36    118.0   8.0    72\n",
       "2     12    149.0  12.6    74\n",
       "3     18    313.0  11.5    62\n",
       "4     19    313.0  14.3    56"
      ]
     },
     "execution_count": 317,
     "metadata": {},
     "output_type": "execute_result"
    }
   ],
   "source": [
    "# 변수 제거\n",
    "drop_cols = ['Month', 'Day']\n",
    "data.drop(drop_cols, axis=1, inplace=True)\n",
    "\n",
    "# 확인\n",
    "data.head()"
   ]
  },
  {
   "cell_type": "markdown",
   "id": "dd786d9a-37c8-4e76-b63d-89595e7698b1",
   "metadata": {},
   "source": [
    "`-` $(x,y)$ 분리"
   ]
  },
  {
   "cell_type": "code",
   "execution_count": 318,
   "id": "83e5023d-a5e1-4d07-9f0a-d580b68ee2ef",
   "metadata": {
    "tags": []
   },
   "outputs": [],
   "source": [
    "# target 확인\n",
    "target = 'Ozone'\n",
    "\n",
    "# 데이터 분리\n",
    "x = data.drop(target, axis=1)\n",
    "y = data.loc[:, target]"
   ]
  },
  {
   "cell_type": "markdown",
   "id": "839318cb-ee0c-44b9-a3a1-c6d7eb0ac59f",
   "metadata": {},
   "source": [
    "`-` 학습용, 평가용 데이터 분리"
   ]
  },
  {
   "cell_type": "code",
   "execution_count": 319,
   "id": "758a1cdb-1639-413f-a7cf-c19ca6917952",
   "metadata": {
    "tags": []
   },
   "outputs": [],
   "source": [
    "# 모듈 불러오기\n",
    "from sklearn.model_selection import train_test_split\n",
    "\n",
    "# 7:3으로 분리\n",
    "x_train, x_test, y_train, y_test = train_test_split(x, y, test_size=0.3, random_state=1)"
   ]
  },
  {
   "cell_type": "markdown",
   "id": "6b29083b-3535-4ccd-9283-21fe162b461d",
   "metadata": {},
   "source": [
    "## 모델링"
   ]
  },
  {
   "cell_type": "code",
   "execution_count": 320,
   "id": "3bc17313-5b66-4b3d-949c-28bd8550c145",
   "metadata": {
    "tags": []
   },
   "outputs": [],
   "source": [
    "# 1단계: 불러오기\n",
    "from sklearn.linear_model import LinearRegression\n",
    "\n",
    "# 2단계 : 모델선언\n",
    "model = LinearRegression()\n",
    "\n",
    "# 3단계 : 학습하기\n",
    "\n",
    "model.fit(x_train, y_train)\n",
    "\n",
    "# 4단계 : 예측하기\n",
    "y_pred = model.predict(x_test)"
   ]
  },
  {
   "cell_type": "markdown",
   "id": "324f4a71-6ce9-4ef6-8731-6d98d37732a4",
   "metadata": {},
   "source": [
    "## 모형 평가"
   ]
  },
  {
   "cell_type": "code",
   "execution_count": 321,
   "id": "29337423-450a-488c-8d5a-607e5d1ce2f3",
   "metadata": {
    "tags": []
   },
   "outputs": [
    {
     "name": "stdout",
     "output_type": "stream",
     "text": [
      "MAE : 13.976843190385711\n",
      "MSE : 341.678874066819\n",
      "RMSE : 18.484557718993955\n",
      "MAPE : 0.47185976988482603\n",
      "R2 0.5744131358040061\n"
     ]
    }
   ],
   "source": [
    "from sklearn.metrics import *\n",
    "\n",
    "\n",
    "print(\"MAE :\", mean_absolute_error(y_test,y_pred))\n",
    "print(\"MSE :\", mean_squared_error(y_test,y_pred))\n",
    "print(\"RMSE :\", mean_squared_error(y_test,y_pred)**(1/2))\n",
    "print(\"MAPE :\", mean_absolute_percentage_error(y_test,y_pred))\n",
    "print(\"R2\", r2_score(y_test,y_pred))"
   ]
  },
  {
   "cell_type": "code",
   "execution_count": 322,
   "id": "9ec75e6b-5c5e-4895-b958-7078db41be2d",
   "metadata": {
    "tags": []
   },
   "outputs": [
    {
     "name": "stdout",
     "output_type": "stream",
     "text": [
      "MAE :  13.976843190385711\n"
     ]
    }
   ],
   "source": [
    "print(\"MAE : \", mean_absolute_error(y_test,y_pred))"
   ]
  },
  {
   "cell_type": "markdown",
   "id": "bfe77321-fd13-4fe6-8e87-fa3fc4d8576b",
   "metadata": {},
   "source": [
    "# Extra. ISLP"
   ]
  },
  {
   "cell_type": "markdown",
   "id": "37cc581d-94ce-461c-848d-482f957bc7ff",
   "metadata": {},
   "source": [
    "## step0. import"
   ]
  },
  {
   "cell_type": "code",
   "execution_count": 323,
   "id": "25c1f2ab-d268-4105-afda-0706c0cb1a13",
   "metadata": {
    "tags": []
   },
   "outputs": [],
   "source": [
    "import statsmodels.api as sm\n",
    "from ISLP.models import (ModelSpec as MS,\n",
    "summarize,poly)\n",
    "from sklearn.metrics import * ## 모델 평가지표\n",
    "from sklearn.model_selection import train_test_split"
   ]
  },
  {
   "cell_type": "markdown",
   "id": "6000a6ea-36ec-4f68-957a-0fb5b5a7ecf5",
   "metadata": {},
   "source": [
    "## step 1. $(X,y)$ 분리 및 훈련데이터와 평가 데이터 분리"
   ]
  },
  {
   "cell_type": "code",
   "execution_count": 324,
   "id": "6e6b857f-c820-4608-9216-fc0662f7b5be",
   "metadata": {
    "tags": []
   },
   "outputs": [],
   "source": [
    "target = \"Ozone\"\n",
    "\n",
    "x = data.drop(target, axis=1)\n",
    "X = MS(x).fit_transform(data)\n",
    "y = data[target]\n",
    "\n",
    "x_train, x_test, y_train, y_test = train_test_split(X, y, test_size=0.3, random_state=1)"
   ]
  },
  {
   "cell_type": "markdown",
   "id": "94d0f9e4-e3b3-4b8f-96b1-c3b65c3e4f0d",
   "metadata": {},
   "source": [
    "## step 2. 최소제곱법을 이용하여 모델을 적합하겠다고 선언"
   ]
  },
  {
   "cell_type": "code",
   "execution_count": 325,
   "id": "f5e75d82-d4fb-40dc-a406-35f64869e5b3",
   "metadata": {
    "tags": []
   },
   "outputs": [],
   "source": [
    "model = sm.OLS(y_train,x_train)"
   ]
  },
  {
   "cell_type": "markdown",
   "id": "62466c2c-db8f-4652-8ae3-88175964cb5d",
   "metadata": {},
   "source": [
    "## step 3. 모형에 대한 유의성 확인"
   ]
  },
  {
   "cell_type": "code",
   "execution_count": 326,
   "id": "24bf668f-41ed-405b-a5f8-3a3129f1abb7",
   "metadata": {
    "tags": []
   },
   "outputs": [
    {
     "data": {
      "text/html": [
       "<table class=\"simpletable\">\n",
       "<caption>OLS Regression Results</caption>\n",
       "<tr>\n",
       "  <th>Dep. Variable:</th>          <td>Ozone</td>      <th>  R-squared:         </th> <td>   0.576</td>\n",
       "</tr>\n",
       "<tr>\n",
       "  <th>Model:</th>                   <td>OLS</td>       <th>  Adj. R-squared:    </th> <td>   0.564</td>\n",
       "</tr>\n",
       "<tr>\n",
       "  <th>Method:</th>             <td>Least Squares</td>  <th>  F-statistic:       </th> <td>   46.73</td>\n",
       "</tr>\n",
       "<tr>\n",
       "  <th>Date:</th>             <td>Tue, 12 Sep 2023</td> <th>  Prob (F-statistic):</th> <td>3.80e-19</td>\n",
       "</tr>\n",
       "<tr>\n",
       "  <th>Time:</th>                 <td>12:20:53</td>     <th>  Log-Likelihood:    </th> <td> -469.88</td>\n",
       "</tr>\n",
       "<tr>\n",
       "  <th>No. Observations:</th>      <td>   107</td>      <th>  AIC:               </th> <td>   947.8</td>\n",
       "</tr>\n",
       "<tr>\n",
       "  <th>Df Residuals:</th>          <td>   103</td>      <th>  BIC:               </th> <td>   958.5</td>\n",
       "</tr>\n",
       "<tr>\n",
       "  <th>Df Model:</th>              <td>     3</td>      <th>                     </th>     <td> </td>   \n",
       "</tr>\n",
       "<tr>\n",
       "  <th>Covariance Type:</th>      <td>nonrobust</td>    <th>                     </th>     <td> </td>   \n",
       "</tr>\n",
       "</table>"
      ],
      "text/latex": [
       "\\begin{center}\n",
       "\\begin{tabular}{lclc}\n",
       "\\toprule\n",
       "\\textbf{Dep. Variable:}    &      Ozone       & \\textbf{  R-squared:         } &    0.576  \\\\\n",
       "\\textbf{Model:}            &       OLS        & \\textbf{  Adj. R-squared:    } &    0.564  \\\\\n",
       "\\textbf{Method:}           &  Least Squares   & \\textbf{  F-statistic:       } &    46.73  \\\\\n",
       "\\textbf{Date:}             & Tue, 12 Sep 2023 & \\textbf{  Prob (F-statistic):} & 3.80e-19  \\\\\n",
       "\\textbf{Time:}             &     12:20:53     & \\textbf{  Log-Likelihood:    } &  -469.88  \\\\\n",
       "\\textbf{No. Observations:} &         107      & \\textbf{  AIC:               } &    947.8  \\\\\n",
       "\\textbf{Df Residuals:}     &         103      & \\textbf{  BIC:               } &    958.5  \\\\\n",
       "\\textbf{Df Model:}         &           3      & \\textbf{                     } &           \\\\\n",
       "\\textbf{Covariance Type:}  &    nonrobust     & \\textbf{                     } &           \\\\\n",
       "\\bottomrule\n",
       "\\end{tabular}\n",
       "%\\caption{OLS Regression Results}\n",
       "\\end{center}"
      ],
      "text/plain": [
       "<class 'statsmodels.iolib.table.SimpleTable'>"
      ]
     },
     "execution_count": 326,
     "metadata": {},
     "output_type": "execute_result"
    }
   ],
   "source": [
    "model.fit().summary().tables[0]"
   ]
  },
  {
   "cell_type": "markdown",
   "id": "96537f20-206d-4004-a828-19797a8db4e7",
   "metadata": {},
   "source": [
    "## step 4. 개별 회귀 계수에 대한 유의성 확인"
   ]
  },
  {
   "cell_type": "code",
   "execution_count": 327,
   "id": "2c739a4b-683d-4f25-80ca-63178ec5a44b",
   "metadata": {
    "tags": []
   },
   "outputs": [
    {
     "data": {
      "text/html": [
       "<table class=\"simpletable\">\n",
       "<tr>\n",
       "      <td></td>         <th>coef</th>     <th>std err</th>      <th>t</th>      <th>P>|t|</th>  <th>[0.025</th>    <th>0.975]</th>  \n",
       "</tr>\n",
       "<tr>\n",
       "  <th>intercept</th> <td>  -59.5062</td> <td>   20.882</td> <td>   -2.850</td> <td> 0.005</td> <td> -100.920</td> <td>  -18.092</td>\n",
       "</tr>\n",
       "<tr>\n",
       "  <th>Solar.R</th>   <td>    0.0560</td> <td>    0.022</td> <td>    2.555</td> <td> 0.012</td> <td>    0.013</td> <td>    0.099</td>\n",
       "</tr>\n",
       "<tr>\n",
       "  <th>Wind</th>      <td>   -3.3585</td> <td>    0.604</td> <td>   -5.564</td> <td> 0.000</td> <td>   -4.556</td> <td>   -2.161</td>\n",
       "</tr>\n",
       "<tr>\n",
       "  <th>Temp</th>      <td>    1.5799</td> <td>    0.234</td> <td>    6.760</td> <td> 0.000</td> <td>    1.116</td> <td>    2.043</td>\n",
       "</tr>\n",
       "</table>"
      ],
      "text/latex": [
       "\\begin{center}\n",
       "\\begin{tabular}{lcccccc}\n",
       "\\toprule\n",
       "                   & \\textbf{coef} & \\textbf{std err} & \\textbf{t} & \\textbf{P$> |$t$|$} & \\textbf{[0.025} & \\textbf{0.975]}  \\\\\n",
       "\\midrule\n",
       "\\textbf{intercept} &     -59.5062  &       20.882     &    -2.850  &         0.005        &     -100.920    &      -18.092     \\\\\n",
       "\\textbf{Solar.R}   &       0.0560  &        0.022     &     2.555  &         0.012        &        0.013    &        0.099     \\\\\n",
       "\\textbf{Wind}      &      -3.3585  &        0.604     &    -5.564  &         0.000        &       -4.556    &       -2.161     \\\\\n",
       "\\textbf{Temp}      &       1.5799  &        0.234     &     6.760  &         0.000        &        1.116    &        2.043     \\\\\n",
       "\\bottomrule\n",
       "\\end{tabular}\n",
       "\\end{center}"
      ],
      "text/plain": [
       "<class 'statsmodels.iolib.table.SimpleTable'>"
      ]
     },
     "execution_count": 327,
     "metadata": {},
     "output_type": "execute_result"
    }
   ],
   "source": [
    "model.fit().summary().tables[1]"
   ]
  },
  {
   "cell_type": "markdown",
   "id": "a3d497a8-a3fc-4656-b46f-fc3acb74e7aa",
   "metadata": {},
   "source": [
    "## step 5. 평가 데이터에 대한 모형 평가"
   ]
  },
  {
   "cell_type": "code",
   "execution_count": 328,
   "id": "d0e3a480-90ad-43d6-8211-eb149168a567",
   "metadata": {
    "tags": []
   },
   "outputs": [],
   "source": [
    "l_model = model.fit()\n",
    "\n",
    "y_pred = l_model.predict(x_test)"
   ]
  },
  {
   "cell_type": "code",
   "execution_count": 329,
   "id": "bc8ffb1e-8767-495b-a5ad-be918dea4af5",
   "metadata": {
    "tags": []
   },
   "outputs": [
    {
     "name": "stdout",
     "output_type": "stream",
     "text": [
      "MAE : 13.976843190385711\n",
      "MSE : 341.6788740668187\n",
      "RMSE : 18.484557718993948\n",
      "MAPE : 0.4718597698848258\n",
      "R2 0.5744131358040064\n"
     ]
    }
   ],
   "source": [
    "print(\"MAE :\", mean_absolute_error(y_test,y_pred))\n",
    "print(\"MSE :\", mean_squared_error(y_test,y_pred))\n",
    "print(\"RMSE :\", mean_squared_error(y_test,y_pred)**(1/2))\n",
    "print(\"MAPE :\", mean_absolute_percentage_error(y_test,y_pred))\n",
    "print(\"R2\", r2_score(y_test,y_pred))"
   ]
  },
  {
   "cell_type": "markdown",
   "id": "e40bb40f-2f48-4b97-8561-caf4efcfea60",
   "metadata": {},
   "source": [
    "***"
   ]
  },
  {
   "cell_type": "markdown",
   "id": "c8ca87ec-c390-4c96-a880-4efeefe0daa8",
   "metadata": {},
   "source": [
    "# Excercise"
   ]
  },
  {
   "cell_type": "markdown",
   "id": "47c9956f-7a44-46bf-97fe-b6f9d5d16dee",
   "metadata": {},
   "source": [
    "## 0. import"
   ]
  },
  {
   "cell_type": "code",
   "execution_count": 330,
   "id": "98ad6196-0764-4e23-a5e1-6fe66f506b9f",
   "metadata": {
    "tags": []
   },
   "outputs": [],
   "source": [
    "# | code-fold : true\n",
    "import numpy as np\n",
    "import pandas as pd\n",
    "\n",
    "import warnings\n",
    "import plotly.express as px\n",
    "import plotly.io as pio\n",
    "pio.renderers.default = \"plotly_mimetype+notebook_connected\"\n",
    "\n",
    "import statsmodels.api as sm\n",
    "from ISLP.models import (ModelSpec as MS,\n",
    "summarize,poly)\n",
    "from sklearn.metrics import * ## 모델 평가지표\n",
    "from sklearn.model_selection import train_test_split"
   ]
  },
  {
   "cell_type": "markdown",
   "id": "76587c1d-5fd2-4283-854a-649616677a19",
   "metadata": {},
   "source": [
    "## 1. 데이터 로드"
   ]
  },
  {
   "cell_type": "code",
   "execution_count": 331,
   "id": "942e848f-e5cc-47ee-b7cc-87593fc82511",
   "metadata": {
    "tags": []
   },
   "outputs": [],
   "source": [
    "# 데이터 읽어오기\n",
    "path = 'https://raw.githubusercontent.com/Jangrae/csv/master/income_happy.csv'\n",
    "data = pd.read_csv(path)"
   ]
  },
  {
   "cell_type": "markdown",
   "id": "afd6e578-bc06-42e6-8ad7-496df37e13c4",
   "metadata": {},
   "source": [
    "## 2. 데이터 이해"
   ]
  },
  {
   "cell_type": "markdown",
   "id": "b1117047-a9d5-4900-aad4-ffd87b5b7d45",
   "metadata": {},
   "source": [
    "`-` income : 수입 (단위 : 10,000$)\n",
    "\n",
    "`-` happiness : 행복정도 (1 ~ 10)"
   ]
  },
  {
   "cell_type": "code",
   "execution_count": 332,
   "id": "0a70a88e-b9a5-4e59-a931-004409da7e2b",
   "metadata": {
    "tags": []
   },
   "outputs": [
    {
     "data": {
      "text/plain": [
       "(498, 2)"
      ]
     },
     "execution_count": 332,
     "metadata": {},
     "output_type": "execute_result"
    }
   ],
   "source": [
    "data.shape"
   ]
  },
  {
   "cell_type": "code",
   "execution_count": 333,
   "id": "ae3fbec8-85cb-4724-8916-17657135ec6b",
   "metadata": {
    "tags": []
   },
   "outputs": [
    {
     "name": "stdout",
     "output_type": "stream",
     "text": [
      "<class 'pandas.core.frame.DataFrame'>\n",
      "RangeIndex: 498 entries, 0 to 497\n",
      "Data columns (total 2 columns):\n",
      " #   Column     Non-Null Count  Dtype  \n",
      "---  ------     --------------  -----  \n",
      " 0   income     498 non-null    float64\n",
      " 1   happiness  498 non-null    float64\n",
      "dtypes: float64(2)\n",
      "memory usage: 7.9 KB\n"
     ]
    }
   ],
   "source": [
    "data.info()"
   ]
  },
  {
   "cell_type": "markdown",
   "id": "0dc239aa-e42d-4b31-a48c-8a48f1d7a0c1",
   "metadata": {},
   "source": [
    "`-` 기술통계 확인"
   ]
  },
  {
   "cell_type": "code",
   "execution_count": 334,
   "id": "6a06b81a-81c7-4197-aff3-d7f05993f6c0",
   "metadata": {
    "tags": []
   },
   "outputs": [
    {
     "data": {
      "text/html": [
       "<div>\n",
       "<style scoped>\n",
       "    .dataframe tbody tr th:only-of-type {\n",
       "        vertical-align: middle;\n",
       "    }\n",
       "\n",
       "    .dataframe tbody tr th {\n",
       "        vertical-align: top;\n",
       "    }\n",
       "\n",
       "    .dataframe thead th {\n",
       "        text-align: right;\n",
       "    }\n",
       "</style>\n",
       "<table border=\"1\" class=\"dataframe\">\n",
       "  <thead>\n",
       "    <tr style=\"text-align: right;\">\n",
       "      <th></th>\n",
       "      <th>count</th>\n",
       "      <th>mean</th>\n",
       "      <th>std</th>\n",
       "      <th>min</th>\n",
       "      <th>25%</th>\n",
       "      <th>50%</th>\n",
       "      <th>75%</th>\n",
       "      <th>max</th>\n",
       "    </tr>\n",
       "  </thead>\n",
       "  <tbody>\n",
       "    <tr>\n",
       "      <th>income</th>\n",
       "      <td>498.0</td>\n",
       "      <td>4.466902</td>\n",
       "      <td>1.737527</td>\n",
       "      <td>1.506275</td>\n",
       "      <td>3.006256</td>\n",
       "      <td>4.423710</td>\n",
       "      <td>5.991913</td>\n",
       "      <td>7.481521</td>\n",
       "    </tr>\n",
       "    <tr>\n",
       "      <th>happiness</th>\n",
       "      <td>498.0</td>\n",
       "      <td>3.392859</td>\n",
       "      <td>1.432813</td>\n",
       "      <td>0.266044</td>\n",
       "      <td>2.265864</td>\n",
       "      <td>3.472536</td>\n",
       "      <td>4.502621</td>\n",
       "      <td>6.863388</td>\n",
       "    </tr>\n",
       "  </tbody>\n",
       "</table>\n",
       "</div>"
      ],
      "text/plain": [
       "           count      mean       std       min       25%       50%       75%  \\\n",
       "income     498.0  4.466902  1.737527  1.506275  3.006256  4.423710  5.991913   \n",
       "happiness  498.0  3.392859  1.432813  0.266044  2.265864  3.472536  4.502621   \n",
       "\n",
       "                max  \n",
       "income     7.481521  \n",
       "happiness  6.863388  "
      ]
     },
     "execution_count": 334,
     "metadata": {},
     "output_type": "execute_result"
    }
   ],
   "source": [
    "data.describe().T"
   ]
  },
  {
   "cell_type": "code",
   "execution_count": 335,
   "id": "ec8d6b63-06d4-4500-b198-0ab13bd48700",
   "metadata": {
    "tags": []
   },
   "outputs": [
    {
     "data": {
      "text/html": [
       "<div>\n",
       "<style scoped>\n",
       "    .dataframe tbody tr th:only-of-type {\n",
       "        vertical-align: middle;\n",
       "    }\n",
       "\n",
       "    .dataframe tbody tr th {\n",
       "        vertical-align: top;\n",
       "    }\n",
       "\n",
       "    .dataframe thead th {\n",
       "        text-align: right;\n",
       "    }\n",
       "</style>\n",
       "<table border=\"1\" class=\"dataframe\">\n",
       "  <thead>\n",
       "    <tr style=\"text-align: right;\">\n",
       "      <th></th>\n",
       "      <th>income</th>\n",
       "      <th>happiness</th>\n",
       "    </tr>\n",
       "  </thead>\n",
       "  <tbody>\n",
       "    <tr>\n",
       "      <th>income</th>\n",
       "      <td>1.000000</td>\n",
       "      <td>0.865634</td>\n",
       "    </tr>\n",
       "    <tr>\n",
       "      <th>happiness</th>\n",
       "      <td>0.865634</td>\n",
       "      <td>1.000000</td>\n",
       "    </tr>\n",
       "  </tbody>\n",
       "</table>\n",
       "</div>"
      ],
      "text/plain": [
       "             income  happiness\n",
       "income     1.000000   0.865634\n",
       "happiness  0.865634   1.000000"
      ]
     },
     "execution_count": 335,
     "metadata": {},
     "output_type": "execute_result"
    }
   ],
   "source": [
    "data.corr()"
   ]
  },
  {
   "cell_type": "markdown",
   "id": "e43689f7-1182-4305-be58-94f793b4c7a1",
   "metadata": {},
   "source": [
    "## 모델링1 : 강의"
   ]
  },
  {
   "cell_type": "markdown",
   "id": "6c21beec-e55b-4741-8a92-e211adbc2e0f",
   "metadata": {},
   "source": [
    "### step 1. 데이터셋 분리"
   ]
  },
  {
   "cell_type": "code",
   "execution_count": 336,
   "id": "d3079a4f-936b-4f0e-9fe7-cedc24888c4f",
   "metadata": {
    "tags": []
   },
   "outputs": [],
   "source": [
    "target = \"income\"\n",
    "x = data.drop(target, axis = 1)\n",
    "y = data[target]\n",
    "\n",
    "x_train, x_test, y_train, y_test = train_test_split(x,y, random_state=1, test_size = 0.3)"
   ]
  },
  {
   "cell_type": "markdown",
   "id": "c706f11e-1409-44dc-b926-31f66cd7b22d",
   "metadata": {},
   "source": [
    "### step 2. 모델 선언"
   ]
  },
  {
   "cell_type": "code",
   "execution_count": 337,
   "id": "9ba9dc98-96c0-4770-b9e1-def012717671",
   "metadata": {
    "tags": []
   },
   "outputs": [],
   "source": [
    "model1 = LinearRegression()"
   ]
  },
  {
   "cell_type": "markdown",
   "id": "7eac7af5-df24-4682-aff2-79552c9613ab",
   "metadata": {},
   "source": [
    "### step 3. 모델 fit"
   ]
  },
  {
   "cell_type": "code",
   "execution_count": 338,
   "id": "f8bfbcc7-74fa-4220-9a11-f238e2c1a549",
   "metadata": {
    "tags": []
   },
   "outputs": [
    {
     "data": {
      "text/html": [
       "<style>#sk-container-id-2 {color: black;}#sk-container-id-2 pre{padding: 0;}#sk-container-id-2 div.sk-toggleable {background-color: white;}#sk-container-id-2 label.sk-toggleable__label {cursor: pointer;display: block;width: 100%;margin-bottom: 0;padding: 0.3em;box-sizing: border-box;text-align: center;}#sk-container-id-2 label.sk-toggleable__label-arrow:before {content: \"▸\";float: left;margin-right: 0.25em;color: #696969;}#sk-container-id-2 label.sk-toggleable__label-arrow:hover:before {color: black;}#sk-container-id-2 div.sk-estimator:hover label.sk-toggleable__label-arrow:before {color: black;}#sk-container-id-2 div.sk-toggleable__content {max-height: 0;max-width: 0;overflow: hidden;text-align: left;background-color: #f0f8ff;}#sk-container-id-2 div.sk-toggleable__content pre {margin: 0.2em;color: black;border-radius: 0.25em;background-color: #f0f8ff;}#sk-container-id-2 input.sk-toggleable__control:checked~div.sk-toggleable__content {max-height: 200px;max-width: 100%;overflow: auto;}#sk-container-id-2 input.sk-toggleable__control:checked~label.sk-toggleable__label-arrow:before {content: \"▾\";}#sk-container-id-2 div.sk-estimator input.sk-toggleable__control:checked~label.sk-toggleable__label {background-color: #d4ebff;}#sk-container-id-2 div.sk-label input.sk-toggleable__control:checked~label.sk-toggleable__label {background-color: #d4ebff;}#sk-container-id-2 input.sk-hidden--visually {border: 0;clip: rect(1px 1px 1px 1px);clip: rect(1px, 1px, 1px, 1px);height: 1px;margin: -1px;overflow: hidden;padding: 0;position: absolute;width: 1px;}#sk-container-id-2 div.sk-estimator {font-family: monospace;background-color: #f0f8ff;border: 1px dotted black;border-radius: 0.25em;box-sizing: border-box;margin-bottom: 0.5em;}#sk-container-id-2 div.sk-estimator:hover {background-color: #d4ebff;}#sk-container-id-2 div.sk-parallel-item::after {content: \"\";width: 100%;border-bottom: 1px solid gray;flex-grow: 1;}#sk-container-id-2 div.sk-label:hover label.sk-toggleable__label {background-color: #d4ebff;}#sk-container-id-2 div.sk-serial::before {content: \"\";position: absolute;border-left: 1px solid gray;box-sizing: border-box;top: 0;bottom: 0;left: 50%;z-index: 0;}#sk-container-id-2 div.sk-serial {display: flex;flex-direction: column;align-items: center;background-color: white;padding-right: 0.2em;padding-left: 0.2em;position: relative;}#sk-container-id-2 div.sk-item {position: relative;z-index: 1;}#sk-container-id-2 div.sk-parallel {display: flex;align-items: stretch;justify-content: center;background-color: white;position: relative;}#sk-container-id-2 div.sk-item::before, #sk-container-id-2 div.sk-parallel-item::before {content: \"\";position: absolute;border-left: 1px solid gray;box-sizing: border-box;top: 0;bottom: 0;left: 50%;z-index: -1;}#sk-container-id-2 div.sk-parallel-item {display: flex;flex-direction: column;z-index: 1;position: relative;background-color: white;}#sk-container-id-2 div.sk-parallel-item:first-child::after {align-self: flex-end;width: 50%;}#sk-container-id-2 div.sk-parallel-item:last-child::after {align-self: flex-start;width: 50%;}#sk-container-id-2 div.sk-parallel-item:only-child::after {width: 0;}#sk-container-id-2 div.sk-dashed-wrapped {border: 1px dashed gray;margin: 0 0.4em 0.5em 0.4em;box-sizing: border-box;padding-bottom: 0.4em;background-color: white;}#sk-container-id-2 div.sk-label label {font-family: monospace;font-weight: bold;display: inline-block;line-height: 1.2em;}#sk-container-id-2 div.sk-label-container {text-align: center;}#sk-container-id-2 div.sk-container {/* jupyter's `normalize.less` sets `[hidden] { display: none; }` but bootstrap.min.css set `[hidden] { display: none !important; }` so we also need the `!important` here to be able to override the default hidden behavior on the sphinx rendered scikit-learn.org. See: https://github.com/scikit-learn/scikit-learn/issues/21755 */display: inline-block !important;position: relative;}#sk-container-id-2 div.sk-text-repr-fallback {display: none;}</style><div id=\"sk-container-id-2\" class=\"sk-top-container\"><div class=\"sk-text-repr-fallback\"><pre>LinearRegression()</pre><b>In a Jupyter environment, please rerun this cell to show the HTML representation or trust the notebook. <br />On GitHub, the HTML representation is unable to render, please try loading this page with nbviewer.org.</b></div><div class=\"sk-container\" hidden><div class=\"sk-item\"><div class=\"sk-estimator sk-toggleable\"><input class=\"sk-toggleable__control sk-hidden--visually\" id=\"sk-estimator-id-2\" type=\"checkbox\" checked><label for=\"sk-estimator-id-2\" class=\"sk-toggleable__label sk-toggleable__label-arrow\">LinearRegression</label><div class=\"sk-toggleable__content\"><pre>LinearRegression()</pre></div></div></div></div></div>"
      ],
      "text/plain": [
       "LinearRegression()"
      ]
     },
     "execution_count": 338,
     "metadata": {},
     "output_type": "execute_result"
    }
   ],
   "source": [
    "model1.fit(x_train,y_train)"
   ]
  },
  {
   "cell_type": "markdown",
   "id": "4b50bdde-fb7b-45e4-b888-7ef8359e4470",
   "metadata": {},
   "source": [
    "### step 4. predict"
   ]
  },
  {
   "cell_type": "code",
   "execution_count": 339,
   "id": "1f828019-d074-4b00-b118-c4dd30b6b830",
   "metadata": {
    "tags": []
   },
   "outputs": [],
   "source": [
    "y_pred = model1.predict(x_test)"
   ]
  },
  {
   "cell_type": "markdown",
   "id": "0aaa8f25-7f25-4114-83fc-cdb83bcc3797",
   "metadata": {},
   "source": [
    "### step 5. 성능 평가"
   ]
  },
  {
   "cell_type": "code",
   "execution_count": 340,
   "id": "3aa02fe4-d9a0-4c4b-9ec3-fca7d6de5d7d",
   "metadata": {
    "tags": []
   },
   "outputs": [
    {
     "name": "stdout",
     "output_type": "stream",
     "text": [
      "MAE : 0.6968383731427477\n",
      "MSE : 0.7812638184683306\n",
      "RMSE : 0.8838912933547488\n",
      "MAPE : 0.20292339169383194\n",
      "R2 0.7540887980989224\n"
     ]
    }
   ],
   "source": [
    "print(\"MAE :\", mean_absolute_error(y_test,y_pred))\n",
    "print(\"MSE :\", mean_squared_error(y_test,y_pred))\n",
    "print(\"RMSE :\", mean_squared_error(y_test,y_pred)**(1/2))\n",
    "print(\"MAPE :\", mean_absolute_percentage_error(y_test,y_pred))\n",
    "print(\"R2\", r2_score(y_test,y_pred))"
   ]
  },
  {
   "cell_type": "markdown",
   "id": "1731df3c-03fe-4e47-b6f3-f10e99c752e8",
   "metadata": {},
   "source": [
    "### step 5. 시각화"
   ]
  },
  {
   "cell_type": "code",
   "execution_count": 341,
   "id": "7bd39608-39ba-4296-a734-bcc3267ed0e3",
   "metadata": {
    "tags": []
   },
   "outputs": [
    {
     "data": {
      "text/plain": [
       "<matplotlib.legend.Legend at 0x2062015d350>"
      ]
     },
     "execution_count": 341,
     "metadata": {},
     "output_type": "execute_result"
    },
    {
     "data": {
      "image/png": "[encoded data removed]",
      "text/plain": [
       "<Figure size 640x480 with 1 Axes>"
      ]
     },
     "metadata": {
      "image/png": {
       "height": 413,
       "width": 534
      }
     },
     "output_type": "display_data"
    }
   ],
   "source": [
    "plt.plot(x_test,y_test,\".r\",alpha = 0.3,label =r\"$(x,y)$\")\n",
    "plt.plot(x_test,y_pred,\".b\",alpha = 0.3,label =r\"$(x,\\hat {y})$\" )\n",
    "plt.legend()"
   ]
  },
  {
   "cell_type": "markdown",
   "id": "3b3ed8d4-531e-4b49-b817-93a42fdcfd96",
   "metadata": {},
   "source": [
    "## 모델링 2 : ISLP"
   ]
  },
  {
   "cell_type": "code",
   "execution_count": 342,
   "id": "55ea6a6e-dabd-445e-8d30-92c76e47409c",
   "metadata": {
    "tags": []
   },
   "outputs": [],
   "source": [
    "import statsmodels.api as sm\n",
    "from ISLP.models import (ModelSpec as MS,\n",
    "summarize,poly)\n",
    "from sklearn.metrics import * ## 모델 평가지표\n",
    "from sklearn.model_selection import train_test_split\n",
    "import pandas as pd"
   ]
  },
  {
   "cell_type": "code",
   "execution_count": 343,
   "id": "17bf0066-1243-4f89-8d89-f8c806e26c4b",
   "metadata": {
    "tags": []
   },
   "outputs": [],
   "source": [
    "# 데이터 읽어오기\n",
    "path = 'https://raw.githubusercontent.com/Jangrae/csv/master/income_happy.csv'\n",
    "data = pd.read_csv(path)"
   ]
  },
  {
   "cell_type": "markdown",
   "id": "31db6ea8-d038-4196-b581-65cc5f12979a",
   "metadata": {},
   "source": [
    "### step 1. 데이터셋 분리"
   ]
  },
  {
   "cell_type": "code",
   "execution_count": 344,
   "id": "4ee647f6-06d1-4409-bd32-6ea1439306da",
   "metadata": {
    "tags": []
   },
   "outputs": [],
   "source": [
    "target = \"income\"\n",
    "\n",
    "x = data.drop(target, axis=1)\n",
    "X = MS(x).fit_transform(data)\n",
    "y = data[target]\n",
    "\n",
    "x_train, x_test, y_train, y_test = train_test_split(X, y, test_size=0.3, random_state=1)"
   ]
  },
  {
   "cell_type": "markdown",
   "id": "5ca3c9ef-f986-40ba-8cc4-45ef23e03d4d",
   "metadata": {},
   "source": [
    "### step 2. 모델 선언"
   ]
  },
  {
   "cell_type": "code",
   "execution_count": 345,
   "id": "26ac785f-5391-4f3d-8ec1-820f231db57a",
   "metadata": {
    "tags": []
   },
   "outputs": [],
   "source": [
    "model2 = sm.OLS(y_train, x_train).fit()"
   ]
  },
  {
   "cell_type": "markdown",
   "id": "3ff148db-a9c9-4e01-9a84-14236bf41d89",
   "metadata": {},
   "source": [
    "### step 3. 모델 report 확인"
   ]
  },
  {
   "cell_type": "code",
   "execution_count": 346,
   "id": "d9c89a8d-162e-46da-b72b-c9b9aec104a9",
   "metadata": {
    "tags": []
   },
   "outputs": [],
   "source": [
    "results = model2.summary()"
   ]
  },
  {
   "cell_type": "code",
   "execution_count": 347,
   "id": "4ccc9e6d-18f2-4c8f-b05d-bdfee2d428fa",
   "metadata": {
    "tags": []
   },
   "outputs": [
    {
     "data": {
      "text/html": [
       "<table class=\"simpletable\">\n",
       "<caption>OLS Regression Results</caption>\n",
       "<tr>\n",
       "  <th>Dep. Variable:</th>         <td>income</td>      <th>  R-squared:         </th> <td>   0.747</td> \n",
       "</tr>\n",
       "<tr>\n",
       "  <th>Model:</th>                   <td>OLS</td>       <th>  Adj. R-squared:    </th> <td>   0.746</td> \n",
       "</tr>\n",
       "<tr>\n",
       "  <th>Method:</th>             <td>Least Squares</td>  <th>  F-statistic:       </th> <td>   1020.</td> \n",
       "</tr>\n",
       "<tr>\n",
       "  <th>Date:</th>             <td>Tue, 12 Sep 2023</td> <th>  Prob (F-statistic):</th> <td>3.14e-105</td>\n",
       "</tr>\n",
       "<tr>\n",
       "  <th>Time:</th>                 <td>12:20:53</td>     <th>  Log-Likelihood:    </th> <td> -442.54</td> \n",
       "</tr>\n",
       "<tr>\n",
       "  <th>No. Observations:</th>      <td>   348</td>      <th>  AIC:               </th> <td>   889.1</td> \n",
       "</tr>\n",
       "<tr>\n",
       "  <th>Df Residuals:</th>          <td>   346</td>      <th>  BIC:               </th> <td>   896.8</td> \n",
       "</tr>\n",
       "<tr>\n",
       "  <th>Df Model:</th>              <td>     1</td>      <th>                     </th>     <td> </td>    \n",
       "</tr>\n",
       "<tr>\n",
       "  <th>Covariance Type:</th>      <td>nonrobust</td>    <th>                     </th>     <td> </td>    \n",
       "</tr>\n",
       "</table>"
      ],
      "text/latex": [
       "\\begin{center}\n",
       "\\begin{tabular}{lclc}\n",
       "\\toprule\n",
       "\\textbf{Dep. Variable:}    &      income      & \\textbf{  R-squared:         } &     0.747  \\\\\n",
       "\\textbf{Model:}            &       OLS        & \\textbf{  Adj. R-squared:    } &     0.746  \\\\\n",
       "\\textbf{Method:}           &  Least Squares   & \\textbf{  F-statistic:       } &     1020.  \\\\\n",
       "\\textbf{Date:}             & Tue, 12 Sep 2023 & \\textbf{  Prob (F-statistic):} & 3.14e-105  \\\\\n",
       "\\textbf{Time:}             &     12:20:53     & \\textbf{  Log-Likelihood:    } &   -442.54  \\\\\n",
       "\\textbf{No. Observations:} &         348      & \\textbf{  AIC:               } &     889.1  \\\\\n",
       "\\textbf{Df Residuals:}     &         346      & \\textbf{  BIC:               } &     896.8  \\\\\n",
       "\\textbf{Df Model:}         &           1      & \\textbf{                     } &            \\\\\n",
       "\\textbf{Covariance Type:}  &    nonrobust     & \\textbf{                     } &            \\\\\n",
       "\\bottomrule\n",
       "\\end{tabular}\n",
       "%\\caption{OLS Regression Results}\n",
       "\\end{center}"
      ],
      "text/plain": [
       "<class 'statsmodels.iolib.table.SimpleTable'>"
      ]
     },
     "execution_count": 347,
     "metadata": {},
     "output_type": "execute_result"
    }
   ],
   "source": [
    "results.tables[0]"
   ]
  },
  {
   "cell_type": "code",
   "execution_count": 348,
   "id": "1aa026c8-93e0-4959-a73e-7cb4d21b071a",
   "metadata": {
    "tags": []
   },
   "outputs": [
    {
     "data": {
      "text/html": [
       "<table class=\"simpletable\">\n",
       "<tr>\n",
       "      <td></td>         <th>coef</th>     <th>std err</th>      <th>t</th>      <th>P>|t|</th>  <th>[0.025</th>    <th>0.975]</th>  \n",
       "</tr>\n",
       "<tr>\n",
       "  <th>intercept</th> <td>    0.9640</td> <td>    0.119</td> <td>    8.121</td> <td> 0.000</td> <td>    0.731</td> <td>    1.197</td>\n",
       "</tr>\n",
       "<tr>\n",
       "  <th>happiness</th> <td>    1.0337</td> <td>    0.032</td> <td>   31.945</td> <td> 0.000</td> <td>    0.970</td> <td>    1.097</td>\n",
       "</tr>\n",
       "</table>"
      ],
      "text/latex": [
       "\\begin{center}\n",
       "\\begin{tabular}{lcccccc}\n",
       "\\toprule\n",
       "                   & \\textbf{coef} & \\textbf{std err} & \\textbf{t} & \\textbf{P$> |$t$|$} & \\textbf{[0.025} & \\textbf{0.975]}  \\\\\n",
       "\\midrule\n",
       "\\textbf{intercept} &       0.9640  &        0.119     &     8.121  &         0.000        &        0.731    &        1.197     \\\\\n",
       "\\textbf{happiness} &       1.0337  &        0.032     &    31.945  &         0.000        &        0.970    &        1.097     \\\\\n",
       "\\bottomrule\n",
       "\\end{tabular}\n",
       "\\end{center}"
      ],
      "text/plain": [
       "<class 'statsmodels.iolib.table.SimpleTable'>"
      ]
     },
     "execution_count": 348,
     "metadata": {},
     "output_type": "execute_result"
    }
   ],
   "source": [
    "results.tables[1]"
   ]
  },
  {
   "cell_type": "markdown",
   "id": "9e09a5ab-e0f0-49bd-8663-503b30e47e07",
   "metadata": {},
   "source": [
    "### step 4. 평가 데이터에 대한 모형 평가"
   ]
  },
  {
   "cell_type": "code",
   "execution_count": 349,
   "id": "6446bf78-649e-42e2-b671-1fa271a98a62",
   "metadata": {
    "tags": []
   },
   "outputs": [],
   "source": [
    "y_pred = model2.predict(x_test)"
   ]
  },
  {
   "cell_type": "code",
   "execution_count": 350,
   "id": "56737d85-4bf3-4239-a6db-d6e559181990",
   "metadata": {
    "tags": []
   },
   "outputs": [],
   "source": [
    "from sklearn.metrics import *"
   ]
  },
  {
   "cell_type": "code",
   "execution_count": 351,
   "id": "873eb4ee-b115-4ee0-af6f-a60eec3713f1",
   "metadata": {
    "tags": []
   },
   "outputs": [
    {
     "name": "stdout",
     "output_type": "stream",
     "text": [
      "MAE : 0.6968383731427479\n",
      "MSE : 0.7812638184683306\n",
      "RMSE : 0.8838912933547488\n",
      "MAPE : 0.2029233916938319\n",
      "R2 0.7540887980989224\n"
     ]
    }
   ],
   "source": [
    "print(\"MAE :\", mean_absolute_error(y_test,y_pred))\n",
    "print(\"MSE :\", mean_squared_error(y_test,y_pred))\n",
    "print(\"RMSE :\", mean_squared_error(y_test,y_pred)**(1/2))\n",
    "print(\"MAPE :\", mean_absolute_percentage_error(y_test,y_pred))\n",
    "print(\"R2\", r2_score(y_test,y_pred))"
   ]
  },
  {
   "cell_type": "markdown",
   "id": "f1827cc5-4499-4d11-9820-bb9b4f4f2ad6",
   "metadata": {},
   "source": [
    "### step 5. 결과 시각화"
   ]
  },
  {
   "cell_type": "code",
   "execution_count": 355,
   "id": "99a3a45e-ba76-4637-bd6d-f37ff608eafa",
   "metadata": {
    "tags": []
   },
   "outputs": [
    {
     "data": {
      "text/plain": [
       "<matplotlib.legend.Legend at 0x20620fcf290>"
      ]
     },
     "execution_count": 355,
     "metadata": {},
     "output_type": "execute_result"
    },
    {
     "data": {
      "image/png": "[encoded data removed]",
      "text/plain": [
       "<Figure size 640x480 with 1 Axes>"
      ]
     },
     "metadata": {
      "image/png": {
       "height": 413,
       "width": 534
      }
     },
     "output_type": "display_data"
    }
   ],
   "source": [
    "plt.plot(x_test[\"happiness\"],y_test,\".r\",alpha = 0.3,label =r\"$(x,y)$\")\n",
    "plt.plot(x_test[\"happiness\"],y_pred,\".b\",alpha = 0.3,label =r\"$(x,\\hat {y})$\" )\n",
    "plt.legend()"
   ]
  }
 ],
 "metadata": {
  "kernelspec": {
   "display_name": "Python 3 (ipykernel)",
   "language": "python",
   "name": "python3"
  },
  "language_info": {
   "codemirror_mode": {
    "name": "ipython",
    "version": 3
   },
   "file_extension": ".py",
   "mimetype": "text/x-python",
   "name": "python",
   "nbconvert_exporter": "python",
   "pygments_lexer": "ipython3",
   "version": "3.11.4"
  }
 },
 "nbformat": 4,
 "nbformat_minor": 5
}
