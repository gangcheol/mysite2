{
 "cells": [
  {
   "cell_type": "raw",
   "id": "99cdef77-da50-4d79-b265-4af93f81b098",
   "metadata": {},
   "source": [
    "---\n",
    "title : \"01. 머신러닝 (1)\"\n",
    "author : \"GC\"\n",
    "date : \"09/12/23\"\n",
    "categories : [머신러닝, 모형 평가, 정규표현식 복기, transform, KNN]\n",
    "---"
   ]
  },
  {
   "cell_type": "markdown",
   "id": "e5602b8e-53c6-4996-9dd4-68e00e662685",
   "metadata": {},
   "source": [
    "# import"
   ]
  },
  {
   "cell_type": "code",
   "execution_count": 825,
   "id": "2e302129-0d20-42ce-8743-aed5554fcfd6",
   "metadata": {
    "tags": []
   },
   "outputs": [],
   "source": [
    "# | code-fold : true\n",
    "import numpy as np\n",
    "import pandas as pd\n",
    "import matplotlib.pyplot as plt\n",
    "import seaborn as sns\n",
    "import warnings\n",
    "import plotly.express as px\n",
    "import plotly.io as pio\n",
    "pio.renderers.default = \"plotly_mimetype+notebook_connected\"\n",
    "from sklearn.model_selection import train_test_split\n",
    "\n",
    "warnings.filterwarnings(action='ignore')\n",
    "%config InlineBackend.figure_format = 'retina'"
   ]
  },
  {
   "cell_type": "markdown",
   "id": "23de15a2-aea2-47ed-a085-d388c2da231a",
   "metadata": {},
   "source": [
    "# Review. 데이터 셋 분할"
   ]
  },
  {
   "cell_type": "code",
   "execution_count": 826,
   "id": "fee5e928-c38f-486b-92aa-8bdfee2978ca",
   "metadata": {
    "tags": []
   },
   "outputs": [],
   "source": [
    "path = 'https://raw.githubusercontent.com/Jangrae/csv/master/iris.csv'\n",
    "data = pd.read_csv(path)\n",
    "\n",
    "y = data[[\"Species\"]]\n",
    "x = data.drop(\"Species\", axis=1)"
   ]
  },
  {
   "cell_type": "markdown",
   "id": "d2fba863-8c61-45e6-bd62-f27b015cd416",
   "metadata": {
    "tags": []
   },
   "source": [
    "`-` shuffle를 `False`를 주니 클래스가 제대로 섞이지 않는다.."
   ]
  },
  {
   "cell_type": "code",
   "execution_count": 827,
   "id": "26ba22be-211a-4d83-82ba-efe9e4cc41a6",
   "metadata": {
    "tags": []
   },
   "outputs": [
    {
     "data": {
      "text/plain": [
       "Species   \n",
       "setosa        50\n",
       "versicolor    50\n",
       "virginica      5\n",
       "Name: count, dtype: int64"
      ]
     },
     "execution_count": 827,
     "metadata": {},
     "output_type": "execute_result"
    }
   ],
   "source": [
    "x_train, x_test, y_train, y_test = train_test_split(x,y, test_size = 0.3, shuffle = False, random_state=1)\n",
    "y_train.value_counts()"
   ]
  },
  {
   "cell_type": "markdown",
   "id": "e357a6f2-cf72-49b2-93d5-7fa71a694df6",
   "metadata": {},
   "source": [
    "`-` 적당히 분배되었지만 그래도 뭔가 애매함"
   ]
  },
  {
   "cell_type": "code",
   "execution_count": 828,
   "id": "a6a47b8c-950e-45cc-a277-09758b9f29f5",
   "metadata": {
    "tags": []
   },
   "outputs": [
    {
     "data": {
      "text/plain": [
       "Species   \n",
       "virginica     37\n",
       "setosa        36\n",
       "versicolor    32\n",
       "Name: count, dtype: int64"
      ]
     },
     "execution_count": 828,
     "metadata": {},
     "output_type": "execute_result"
    }
   ],
   "source": [
    "x_train, x_test, y_train, y_test = train_test_split(x,y, test_size = 0.3, shuffle = True, random_state=1)\n",
    "y_train.value_counts()"
   ]
  },
  {
   "cell_type": "markdown",
   "id": "d8a2c13b-aa76-4763-a8ee-3333b3ff2e48",
   "metadata": {},
   "source": [
    "*  `stratify=y`로 인자를 전달하니 동일한 비율로 test data set이 만들어졌다."
   ]
  },
  {
   "cell_type": "code",
   "execution_count": 829,
   "id": "e9de18d7-d798-4603-987a-7614d871fe16",
   "metadata": {
    "tags": []
   },
   "outputs": [
    {
     "data": {
      "text/plain": [
       "Species   \n",
       "setosa        35\n",
       "versicolor    35\n",
       "virginica     35\n",
       "Name: count, dtype: int64"
      ]
     },
     "execution_count": 829,
     "metadata": {},
     "output_type": "execute_result"
    }
   ],
   "source": [
    "x_train, x_test, y_train, y_test = train_test_split(x,y, test_size = 0.3, shuffle = True, random_state=1,  stratify=y)\n",
    "y_train.value_counts()"
   ]
  },
  {
   "cell_type": "markdown",
   "id": "2bf2b222-c10a-42bf-ac06-ffa868e558f9",
   "metadata": {},
   "source": [
    "***"
   ]
  },
  {
   "cell_type": "markdown",
   "id": "3120288e-f016-4cf1-971e-d24c24c333e5",
   "metadata": {},
   "source": [
    "# 모델 성능평가 1. 회귀"
   ]
  },
  {
   "cell_type": "markdown",
   "id": "4847de01-4ad8-4da3-a973-a3ab278ec0ce",
   "metadata": {},
   "source": [
    "## 데이터로드"
   ]
  },
  {
   "cell_type": "code",
   "execution_count": 830,
   "id": "266449fd-418e-457f-affd-a8dcbf72e984",
   "metadata": {},
   "outputs": [],
   "source": [
    "path = 'https://raw.githubusercontent.com/Jangrae/csv/master/airquality_simple.csv'\n",
    "data = pd.read_csv(path)"
   ]
  },
  {
   "cell_type": "markdown",
   "id": "3ea2502a-fc13-48da-a39f-ee444e35c981",
   "metadata": {},
   "source": [
    "## 데이터 준비"
   ]
  },
  {
   "cell_type": "markdown",
   "id": "093afd23-fc3c-4b63-ae84-89608484b815",
   "metadata": {},
   "source": [
    "`-` 결측치 체우기"
   ]
  },
  {
   "cell_type": "code",
   "execution_count": 831,
   "id": "14b8443d-8584-4c3e-9f7d-28ab687ad7ff",
   "metadata": {
    "tags": []
   },
   "outputs": [
    {
     "data": {
      "text/plain": [
       "Ozone      0\n",
       "Solar.R    0\n",
       "Wind       0\n",
       "Temp       0\n",
       "Month      0\n",
       "Day        0\n",
       "dtype: int64"
      ]
     },
     "execution_count": 831,
     "metadata": {},
     "output_type": "execute_result"
    }
   ],
   "source": [
    "# 전날 값으로 결측치 채우기\n",
    "data.fillna(method='ffill', inplace=True)\n",
    "\n",
    "# 확인\n",
    "data.isnull().sum()"
   ]
  },
  {
   "cell_type": "markdown",
   "id": "43a31da7-917a-4614-ba6b-20b8d914b9b5",
   "metadata": {},
   "source": [
    "`-` 변수제거"
   ]
  },
  {
   "cell_type": "code",
   "execution_count": 832,
   "id": "09c86285-537a-4931-a653-51d85963e008",
   "metadata": {
    "tags": []
   },
   "outputs": [
    {
     "data": {
      "text/html": [
       "<div>\n",
       "<style scoped>\n",
       "    .dataframe tbody tr th:only-of-type {\n",
       "        vertical-align: middle;\n",
       "    }\n",
       "\n",
       "    .dataframe tbody tr th {\n",
       "        vertical-align: top;\n",
       "    }\n",
       "\n",
       "    .dataframe thead th {\n",
       "        text-align: right;\n",
       "    }\n",
       "</style>\n",
       "<table border=\"1\" class=\"dataframe\">\n",
       "  <thead>\n",
       "    <tr style=\"text-align: right;\">\n",
       "      <th></th>\n",
       "      <th>Ozone</th>\n",
       "      <th>Solar.R</th>\n",
       "      <th>Wind</th>\n",
       "      <th>Temp</th>\n",
       "    </tr>\n",
       "  </thead>\n",
       "  <tbody>\n",
       "    <tr>\n",
       "      <th>0</th>\n",
       "      <td>41</td>\n",
       "      <td>190.0</td>\n",
       "      <td>7.4</td>\n",
       "      <td>67</td>\n",
       "    </tr>\n",
       "    <tr>\n",
       "      <th>1</th>\n",
       "      <td>36</td>\n",
       "      <td>118.0</td>\n",
       "      <td>8.0</td>\n",
       "      <td>72</td>\n",
       "    </tr>\n",
       "    <tr>\n",
       "      <th>2</th>\n",
       "      <td>12</td>\n",
       "      <td>149.0</td>\n",
       "      <td>12.6</td>\n",
       "      <td>74</td>\n",
       "    </tr>\n",
       "    <tr>\n",
       "      <th>3</th>\n",
       "      <td>18</td>\n",
       "      <td>313.0</td>\n",
       "      <td>11.5</td>\n",
       "      <td>62</td>\n",
       "    </tr>\n",
       "    <tr>\n",
       "      <th>4</th>\n",
       "      <td>19</td>\n",
       "      <td>313.0</td>\n",
       "      <td>14.3</td>\n",
       "      <td>56</td>\n",
       "    </tr>\n",
       "  </tbody>\n",
       "</table>\n",
       "</div>"
      ],
      "text/plain": [
       "   Ozone  Solar.R  Wind  Temp\n",
       "0     41    190.0   7.4    67\n",
       "1     36    118.0   8.0    72\n",
       "2     12    149.0  12.6    74\n",
       "3     18    313.0  11.5    62\n",
       "4     19    313.0  14.3    56"
      ]
     },
     "execution_count": 832,
     "metadata": {},
     "output_type": "execute_result"
    }
   ],
   "source": [
    "# 변수 제거\n",
    "drop_cols = ['Month', 'Day']\n",
    "data.drop(drop_cols, axis=1, inplace=True)\n",
    "\n",
    "# 확인\n",
    "data.head()"
   ]
  },
  {
   "cell_type": "markdown",
   "id": "dd786d9a-37c8-4e76-b63d-89595e7698b1",
   "metadata": {},
   "source": [
    "`-` $(x,y)$ 분리"
   ]
  },
  {
   "cell_type": "code",
   "execution_count": 833,
   "id": "83e5023d-a5e1-4d07-9f0a-d580b68ee2ef",
   "metadata": {
    "tags": []
   },
   "outputs": [],
   "source": [
    "# target 확인\n",
    "target = 'Ozone'\n",
    "\n",
    "# 데이터 분리\n",
    "x = data.drop(target, axis=1)\n",
    "y = data.loc[:, target]"
   ]
  },
  {
   "cell_type": "markdown",
   "id": "839318cb-ee0c-44b9-a3a1-c6d7eb0ac59f",
   "metadata": {},
   "source": [
    "`-` 학습용, 평가용 데이터 분리"
   ]
  },
  {
   "cell_type": "code",
   "execution_count": 834,
   "id": "758a1cdb-1639-413f-a7cf-c19ca6917952",
   "metadata": {
    "tags": []
   },
   "outputs": [],
   "source": [
    "# 모듈 불러오기\n",
    "from sklearn.model_selection import train_test_split\n",
    "\n",
    "# 7:3으로 분리\n",
    "x_train, x_test, y_train, y_test = train_test_split(x, y, test_size=0.3, random_state=1)"
   ]
  },
  {
   "cell_type": "markdown",
   "id": "6b29083b-3535-4ccd-9283-21fe162b461d",
   "metadata": {},
   "source": [
    "## 모델링"
   ]
  },
  {
   "cell_type": "code",
   "execution_count": 835,
   "id": "3bc17313-5b66-4b3d-949c-28bd8550c145",
   "metadata": {
    "tags": []
   },
   "outputs": [],
   "source": [
    "# 1단계: 불러오기\n",
    "from sklearn.linear_model import LinearRegression\n",
    "\n",
    "# 2단계 : 모델선언\n",
    "model = LinearRegression()\n",
    "\n",
    "# 3단계 : 학습하기\n",
    "\n",
    "model.fit(x_train, y_train)\n",
    "\n",
    "# 4단계 : 예측하기\n",
    "y_pred = model.predict(x_test)"
   ]
  },
  {
   "cell_type": "markdown",
   "id": "324f4a71-6ce9-4ef6-8731-6d98d37732a4",
   "metadata": {},
   "source": [
    "## 모형 평가"
   ]
  },
  {
   "cell_type": "code",
   "execution_count": 836,
   "id": "29337423-450a-488c-8d5a-607e5d1ce2f3",
   "metadata": {
    "tags": []
   },
   "outputs": [
    {
     "name": "stdout",
     "output_type": "stream",
     "text": [
      "MAE : 13.976843190385711\n",
      "MSE : 341.678874066819\n",
      "RMSE : 18.484557718993955\n",
      "MAPE : 0.47185976988482603\n",
      "R2 0.5744131358040061\n"
     ]
    }
   ],
   "source": [
    "# | code-fold : true\n",
    "from sklearn.metrics import *\n",
    "\n",
    "\n",
    "print(\"MAE :\", mean_absolute_error(y_test,y_pred))\n",
    "print(\"MSE :\", mean_squared_error(y_test,y_pred))\n",
    "print(\"RMSE :\", mean_squared_error(y_test,y_pred)**(1/2))\n",
    "print(\"MAPE :\", mean_absolute_percentage_error(y_test,y_pred))\n",
    "print(\"R2\", r2_score(y_test,y_pred))"
   ]
  },
  {
   "cell_type": "code",
   "execution_count": 837,
   "id": "9ec75e6b-5c5e-4895-b958-7078db41be2d",
   "metadata": {
    "tags": []
   },
   "outputs": [
    {
     "name": "stdout",
     "output_type": "stream",
     "text": [
      "MAE :  13.976843190385711\n"
     ]
    }
   ],
   "source": [
    "print(\"MAE : \", mean_absolute_error(y_test,y_pred))"
   ]
  },
  {
   "cell_type": "markdown",
   "id": "bfe77321-fd13-4fe6-8e87-fa3fc4d8576b",
   "metadata": {},
   "source": [
    "# Extra. ISLP"
   ]
  },
  {
   "cell_type": "markdown",
   "id": "37cc581d-94ce-461c-848d-482f957bc7ff",
   "metadata": {},
   "source": [
    "## step0. import"
   ]
  },
  {
   "cell_type": "code",
   "execution_count": 838,
   "id": "25c1f2ab-d268-4105-afda-0706c0cb1a13",
   "metadata": {
    "tags": []
   },
   "outputs": [],
   "source": [
    "import statsmodels.api as sm\n",
    "from ISLP.models import (ModelSpec as MS,\n",
    "summarize,poly)\n",
    "from sklearn.metrics import * ## 모델 평가지표\n",
    "from sklearn.model_selection import train_test_split"
   ]
  },
  {
   "cell_type": "markdown",
   "id": "6000a6ea-36ec-4f68-957a-0fb5b5a7ecf5",
   "metadata": {},
   "source": [
    "## step 1. $(X,y)$ 분리 및 훈련데이터와 평가 데이터 분리"
   ]
  },
  {
   "cell_type": "code",
   "execution_count": 839,
   "id": "6e6b857f-c820-4608-9216-fc0662f7b5be",
   "metadata": {
    "tags": []
   },
   "outputs": [],
   "source": [
    "target = \"Ozone\"\n",
    "\n",
    "x = data.drop(target, axis=1)\n",
    "X = MS(x).fit_transform(data)\n",
    "y = data[target]\n",
    "\n",
    "x_train, x_test, y_train, y_test = train_test_split(X, y, test_size=0.3, random_state=1)"
   ]
  },
  {
   "cell_type": "markdown",
   "id": "94d0f9e4-e3b3-4b8f-96b1-c3b65c3e4f0d",
   "metadata": {},
   "source": [
    "## step 2. 최소제곱법을 이용하여 모델을 적합하겠다고 선언"
   ]
  },
  {
   "cell_type": "code",
   "execution_count": 840,
   "id": "f5e75d82-d4fb-40dc-a406-35f64869e5b3",
   "metadata": {
    "tags": []
   },
   "outputs": [],
   "source": [
    "model = sm.OLS(y_train,x_train)"
   ]
  },
  {
   "cell_type": "markdown",
   "id": "62466c2c-db8f-4652-8ae3-88175964cb5d",
   "metadata": {},
   "source": [
    "## step 3. 모형에 대한 유의성 확인"
   ]
  },
  {
   "cell_type": "code",
   "execution_count": 841,
   "id": "24bf668f-41ed-405b-a5f8-3a3129f1abb7",
   "metadata": {
    "tags": []
   },
   "outputs": [
    {
     "data": {
      "text/html": [
       "<table class=\"simpletable\">\n",
       "<caption>OLS Regression Results</caption>\n",
       "<tr>\n",
       "  <th>Dep. Variable:</th>          <td>Ozone</td>      <th>  R-squared:         </th> <td>   0.576</td>\n",
       "</tr>\n",
       "<tr>\n",
       "  <th>Model:</th>                   <td>OLS</td>       <th>  Adj. R-squared:    </th> <td>   0.564</td>\n",
       "</tr>\n",
       "<tr>\n",
       "  <th>Method:</th>             <td>Least Squares</td>  <th>  F-statistic:       </th> <td>   46.73</td>\n",
       "</tr>\n",
       "<tr>\n",
       "  <th>Date:</th>             <td>Tue, 12 Sep 2023</td> <th>  Prob (F-statistic):</th> <td>3.80e-19</td>\n",
       "</tr>\n",
       "<tr>\n",
       "  <th>Time:</th>                 <td>16:51:34</td>     <th>  Log-Likelihood:    </th> <td> -469.88</td>\n",
       "</tr>\n",
       "<tr>\n",
       "  <th>No. Observations:</th>      <td>   107</td>      <th>  AIC:               </th> <td>   947.8</td>\n",
       "</tr>\n",
       "<tr>\n",
       "  <th>Df Residuals:</th>          <td>   103</td>      <th>  BIC:               </th> <td>   958.5</td>\n",
       "</tr>\n",
       "<tr>\n",
       "  <th>Df Model:</th>              <td>     3</td>      <th>                     </th>     <td> </td>   \n",
       "</tr>\n",
       "<tr>\n",
       "  <th>Covariance Type:</th>      <td>nonrobust</td>    <th>                     </th>     <td> </td>   \n",
       "</tr>\n",
       "</table>"
      ],
      "text/latex": [
       "\\begin{center}\n",
       "\\begin{tabular}{lclc}\n",
       "\\toprule\n",
       "\\textbf{Dep. Variable:}    &      Ozone       & \\textbf{  R-squared:         } &    0.576  \\\\\n",
       "\\textbf{Model:}            &       OLS        & \\textbf{  Adj. R-squared:    } &    0.564  \\\\\n",
       "\\textbf{Method:}           &  Least Squares   & \\textbf{  F-statistic:       } &    46.73  \\\\\n",
       "\\textbf{Date:}             & Tue, 12 Sep 2023 & \\textbf{  Prob (F-statistic):} & 3.80e-19  \\\\\n",
       "\\textbf{Time:}             &     16:51:34     & \\textbf{  Log-Likelihood:    } &  -469.88  \\\\\n",
       "\\textbf{No. Observations:} &         107      & \\textbf{  AIC:               } &    947.8  \\\\\n",
       "\\textbf{Df Residuals:}     &         103      & \\textbf{  BIC:               } &    958.5  \\\\\n",
       "\\textbf{Df Model:}         &           3      & \\textbf{                     } &           \\\\\n",
       "\\textbf{Covariance Type:}  &    nonrobust     & \\textbf{                     } &           \\\\\n",
       "\\bottomrule\n",
       "\\end{tabular}\n",
       "%\\caption{OLS Regression Results}\n",
       "\\end{center}"
      ],
      "text/plain": [
       "<class 'statsmodels.iolib.table.SimpleTable'>"
      ]
     },
     "execution_count": 841,
     "metadata": {},
     "output_type": "execute_result"
    }
   ],
   "source": [
    "model.fit().summary().tables[0]"
   ]
  },
  {
   "cell_type": "markdown",
   "id": "96537f20-206d-4004-a828-19797a8db4e7",
   "metadata": {},
   "source": [
    "## step 4. 개별 회귀 계수에 대한 유의성 확인"
   ]
  },
  {
   "cell_type": "code",
   "execution_count": 842,
   "id": "2c739a4b-683d-4f25-80ca-63178ec5a44b",
   "metadata": {
    "tags": []
   },
   "outputs": [
    {
     "data": {
      "text/html": [
       "<table class=\"simpletable\">\n",
       "<tr>\n",
       "      <td></td>         <th>coef</th>     <th>std err</th>      <th>t</th>      <th>P>|t|</th>  <th>[0.025</th>    <th>0.975]</th>  \n",
       "</tr>\n",
       "<tr>\n",
       "  <th>intercept</th> <td>  -59.5062</td> <td>   20.882</td> <td>   -2.850</td> <td> 0.005</td> <td> -100.920</td> <td>  -18.092</td>\n",
       "</tr>\n",
       "<tr>\n",
       "  <th>Solar.R</th>   <td>    0.0560</td> <td>    0.022</td> <td>    2.555</td> <td> 0.012</td> <td>    0.013</td> <td>    0.099</td>\n",
       "</tr>\n",
       "<tr>\n",
       "  <th>Wind</th>      <td>   -3.3585</td> <td>    0.604</td> <td>   -5.564</td> <td> 0.000</td> <td>   -4.556</td> <td>   -2.161</td>\n",
       "</tr>\n",
       "<tr>\n",
       "  <th>Temp</th>      <td>    1.5799</td> <td>    0.234</td> <td>    6.760</td> <td> 0.000</td> <td>    1.116</td> <td>    2.043</td>\n",
       "</tr>\n",
       "</table>"
      ],
      "text/latex": [
       "\\begin{center}\n",
       "\\begin{tabular}{lcccccc}\n",
       "\\toprule\n",
       "                   & \\textbf{coef} & \\textbf{std err} & \\textbf{t} & \\textbf{P$> |$t$|$} & \\textbf{[0.025} & \\textbf{0.975]}  \\\\\n",
       "\\midrule\n",
       "\\textbf{intercept} &     -59.5062  &       20.882     &    -2.850  &         0.005        &     -100.920    &      -18.092     \\\\\n",
       "\\textbf{Solar.R}   &       0.0560  &        0.022     &     2.555  &         0.012        &        0.013    &        0.099     \\\\\n",
       "\\textbf{Wind}      &      -3.3585  &        0.604     &    -5.564  &         0.000        &       -4.556    &       -2.161     \\\\\n",
       "\\textbf{Temp}      &       1.5799  &        0.234     &     6.760  &         0.000        &        1.116    &        2.043     \\\\\n",
       "\\bottomrule\n",
       "\\end{tabular}\n",
       "\\end{center}"
      ],
      "text/plain": [
       "<class 'statsmodels.iolib.table.SimpleTable'>"
      ]
     },
     "execution_count": 842,
     "metadata": {},
     "output_type": "execute_result"
    }
   ],
   "source": [
    "model.fit().summary().tables[1]"
   ]
  },
  {
   "cell_type": "markdown",
   "id": "a3d497a8-a3fc-4656-b46f-fc3acb74e7aa",
   "metadata": {},
   "source": [
    "## step 5. 평가 데이터에 대한 모형 평가"
   ]
  },
  {
   "cell_type": "code",
   "execution_count": 843,
   "id": "d0e3a480-90ad-43d6-8211-eb149168a567",
   "metadata": {
    "tags": []
   },
   "outputs": [],
   "source": [
    "l_model = model.fit()\n",
    "\n",
    "y_pred = l_model.predict(x_test)"
   ]
  },
  {
   "cell_type": "code",
   "execution_count": 844,
   "id": "bc8ffb1e-8767-495b-a5ad-be918dea4af5",
   "metadata": {
    "tags": []
   },
   "outputs": [
    {
     "name": "stdout",
     "output_type": "stream",
     "text": [
      "MAE : 13.976843190385711\n",
      "MSE : 341.6788740668187\n",
      "RMSE : 18.484557718993948\n",
      "MAPE : 0.4718597698848258\n",
      "R2 0.5744131358040064\n"
     ]
    }
   ],
   "source": [
    "# | code-fold : true\n",
    "print(\"MAE :\", mean_absolute_error(y_test,y_pred))\n",
    "print(\"MSE :\", mean_squared_error(y_test,y_pred))\n",
    "print(\"RMSE :\", mean_squared_error(y_test,y_pred)**(1/2))\n",
    "print(\"MAPE :\", mean_absolute_percentage_error(y_test,y_pred))\n",
    "print(\"R2\", r2_score(y_test,y_pred))"
   ]
  },
  {
   "cell_type": "markdown",
   "id": "e40bb40f-2f48-4b97-8561-caf4efcfea60",
   "metadata": {},
   "source": [
    "***"
   ]
  },
  {
   "cell_type": "markdown",
   "id": "c8ca87ec-c390-4c96-a880-4efeefe0daa8",
   "metadata": {},
   "source": [
    "# Excercise. 1"
   ]
  },
  {
   "cell_type": "markdown",
   "id": "47c9956f-7a44-46bf-97fe-b6f9d5d16dee",
   "metadata": {},
   "source": [
    "## 0. import"
   ]
  },
  {
   "cell_type": "code",
   "execution_count": 845,
   "id": "98ad6196-0764-4e23-a5e1-6fe66f506b9f",
   "metadata": {
    "tags": []
   },
   "outputs": [],
   "source": [
    "# | code-fold : true\n",
    "import numpy as np\n",
    "import pandas as pd\n",
    "\n",
    "import warnings\n",
    "import plotly.express as px\n",
    "import plotly.io as pio\n",
    "pio.renderers.default = \"plotly_mimetype+notebook_connected\"\n",
    "\n",
    "import statsmodels.api as sm\n",
    "from ISLP.models import (ModelSpec as MS,\n",
    "summarize,poly)\n",
    "from sklearn.metrics import * ## 모델 평가지표\n",
    "from sklearn.model_selection import train_test_split"
   ]
  },
  {
   "cell_type": "markdown",
   "id": "76587c1d-5fd2-4283-854a-649616677a19",
   "metadata": {},
   "source": [
    "## 1. 데이터 로드"
   ]
  },
  {
   "cell_type": "code",
   "execution_count": 846,
   "id": "942e848f-e5cc-47ee-b7cc-87593fc82511",
   "metadata": {
    "tags": []
   },
   "outputs": [],
   "source": [
    "# 데이터 읽어오기\n",
    "path = 'https://raw.githubusercontent.com/Jangrae/csv/master/income_happy.csv'\n",
    "data = pd.read_csv(path)"
   ]
  },
  {
   "cell_type": "markdown",
   "id": "afd6e578-bc06-42e6-8ad7-496df37e13c4",
   "metadata": {},
   "source": [
    "## 2. 데이터 이해"
   ]
  },
  {
   "cell_type": "markdown",
   "id": "b1117047-a9d5-4900-aad4-ffd87b5b7d45",
   "metadata": {},
   "source": [
    "`-` income : 수입 (단위 : 10,000$)\n",
    "\n",
    "`-` happiness : 행복정도 (1 ~ 10)"
   ]
  },
  {
   "cell_type": "code",
   "execution_count": 847,
   "id": "0a70a88e-b9a5-4e59-a931-004409da7e2b",
   "metadata": {
    "tags": []
   },
   "outputs": [
    {
     "data": {
      "text/plain": [
       "(498, 2)"
      ]
     },
     "execution_count": 847,
     "metadata": {},
     "output_type": "execute_result"
    }
   ],
   "source": [
    "data.shape"
   ]
  },
  {
   "cell_type": "code",
   "execution_count": 848,
   "id": "ae3fbec8-85cb-4724-8916-17657135ec6b",
   "metadata": {
    "tags": []
   },
   "outputs": [
    {
     "name": "stdout",
     "output_type": "stream",
     "text": [
      "<class 'pandas.core.frame.DataFrame'>\n",
      "RangeIndex: 498 entries, 0 to 497\n",
      "Data columns (total 2 columns):\n",
      " #   Column     Non-Null Count  Dtype  \n",
      "---  ------     --------------  -----  \n",
      " 0   income     498 non-null    float64\n",
      " 1   happiness  498 non-null    float64\n",
      "dtypes: float64(2)\n",
      "memory usage: 7.9 KB\n"
     ]
    }
   ],
   "source": [
    "data.info()"
   ]
  },
  {
   "cell_type": "markdown",
   "id": "0dc239aa-e42d-4b31-a48c-8a48f1d7a0c1",
   "metadata": {},
   "source": [
    "`-` 기술통계 확인"
   ]
  },
  {
   "cell_type": "code",
   "execution_count": 849,
   "id": "6a06b81a-81c7-4197-aff3-d7f05993f6c0",
   "metadata": {
    "tags": []
   },
   "outputs": [
    {
     "data": {
      "text/html": [
       "<div>\n",
       "<style scoped>\n",
       "    .dataframe tbody tr th:only-of-type {\n",
       "        vertical-align: middle;\n",
       "    }\n",
       "\n",
       "    .dataframe tbody tr th {\n",
       "        vertical-align: top;\n",
       "    }\n",
       "\n",
       "    .dataframe thead th {\n",
       "        text-align: right;\n",
       "    }\n",
       "</style>\n",
       "<table border=\"1\" class=\"dataframe\">\n",
       "  <thead>\n",
       "    <tr style=\"text-align: right;\">\n",
       "      <th></th>\n",
       "      <th>count</th>\n",
       "      <th>mean</th>\n",
       "      <th>std</th>\n",
       "      <th>min</th>\n",
       "      <th>25%</th>\n",
       "      <th>50%</th>\n",
       "      <th>75%</th>\n",
       "      <th>max</th>\n",
       "    </tr>\n",
       "  </thead>\n",
       "  <tbody>\n",
       "    <tr>\n",
       "      <th>income</th>\n",
       "      <td>498.0</td>\n",
       "      <td>4.466902</td>\n",
       "      <td>1.737527</td>\n",
       "      <td>1.506275</td>\n",
       "      <td>3.006256</td>\n",
       "      <td>4.423710</td>\n",
       "      <td>5.991913</td>\n",
       "      <td>7.481521</td>\n",
       "    </tr>\n",
       "    <tr>\n",
       "      <th>happiness</th>\n",
       "      <td>498.0</td>\n",
       "      <td>3.392859</td>\n",
       "      <td>1.432813</td>\n",
       "      <td>0.266044</td>\n",
       "      <td>2.265864</td>\n",
       "      <td>3.472536</td>\n",
       "      <td>4.502621</td>\n",
       "      <td>6.863388</td>\n",
       "    </tr>\n",
       "  </tbody>\n",
       "</table>\n",
       "</div>"
      ],
      "text/plain": [
       "           count      mean       std       min       25%       50%       75%  \\\n",
       "income     498.0  4.466902  1.737527  1.506275  3.006256  4.423710  5.991913   \n",
       "happiness  498.0  3.392859  1.432813  0.266044  2.265864  3.472536  4.502621   \n",
       "\n",
       "                max  \n",
       "income     7.481521  \n",
       "happiness  6.863388  "
      ]
     },
     "execution_count": 849,
     "metadata": {},
     "output_type": "execute_result"
    }
   ],
   "source": [
    "data.describe().T"
   ]
  },
  {
   "cell_type": "code",
   "execution_count": 850,
   "id": "ec8d6b63-06d4-4500-b198-0ab13bd48700",
   "metadata": {
    "tags": []
   },
   "outputs": [
    {
     "data": {
      "text/html": [
       "<div>\n",
       "<style scoped>\n",
       "    .dataframe tbody tr th:only-of-type {\n",
       "        vertical-align: middle;\n",
       "    }\n",
       "\n",
       "    .dataframe tbody tr th {\n",
       "        vertical-align: top;\n",
       "    }\n",
       "\n",
       "    .dataframe thead th {\n",
       "        text-align: right;\n",
       "    }\n",
       "</style>\n",
       "<table border=\"1\" class=\"dataframe\">\n",
       "  <thead>\n",
       "    <tr style=\"text-align: right;\">\n",
       "      <th></th>\n",
       "      <th>income</th>\n",
       "      <th>happiness</th>\n",
       "    </tr>\n",
       "  </thead>\n",
       "  <tbody>\n",
       "    <tr>\n",
       "      <th>income</th>\n",
       "      <td>1.000000</td>\n",
       "      <td>0.865634</td>\n",
       "    </tr>\n",
       "    <tr>\n",
       "      <th>happiness</th>\n",
       "      <td>0.865634</td>\n",
       "      <td>1.000000</td>\n",
       "    </tr>\n",
       "  </tbody>\n",
       "</table>\n",
       "</div>"
      ],
      "text/plain": [
       "             income  happiness\n",
       "income     1.000000   0.865634\n",
       "happiness  0.865634   1.000000"
      ]
     },
     "execution_count": 850,
     "metadata": {},
     "output_type": "execute_result"
    }
   ],
   "source": [
    "data.corr()"
   ]
  },
  {
   "cell_type": "markdown",
   "id": "e43689f7-1182-4305-be58-94f793b4c7a1",
   "metadata": {},
   "source": [
    "## 모델링1 : 강의"
   ]
  },
  {
   "cell_type": "markdown",
   "id": "6c21beec-e55b-4741-8a92-e211adbc2e0f",
   "metadata": {},
   "source": [
    "### step 1. 데이터셋 분리"
   ]
  },
  {
   "cell_type": "code",
   "execution_count": 851,
   "id": "d3079a4f-936b-4f0e-9fe7-cedc24888c4f",
   "metadata": {
    "tags": []
   },
   "outputs": [],
   "source": [
    "target = \"income\"\n",
    "x = data.drop(target, axis = 1)\n",
    "y = data[target]\n",
    "\n",
    "x_train, x_test, y_train, y_test = train_test_split(x,y, random_state=1, test_size = 0.3)"
   ]
  },
  {
   "cell_type": "markdown",
   "id": "c706f11e-1409-44dc-b926-31f66cd7b22d",
   "metadata": {},
   "source": [
    "### step 2. 모델 선언"
   ]
  },
  {
   "cell_type": "code",
   "execution_count": 852,
   "id": "9ba9dc98-96c0-4770-b9e1-def012717671",
   "metadata": {
    "tags": []
   },
   "outputs": [],
   "source": [
    "model1 = LinearRegression()"
   ]
  },
  {
   "cell_type": "markdown",
   "id": "7eac7af5-df24-4682-aff2-79552c9613ab",
   "metadata": {},
   "source": [
    "### step 3. 모델 fit"
   ]
  },
  {
   "cell_type": "code",
   "execution_count": 853,
   "id": "f8bfbcc7-74fa-4220-9a11-f238e2c1a549",
   "metadata": {
    "tags": []
   },
   "outputs": [
    {
     "data": {
      "text/html": [
       "<style>#sk-container-id-7 {color: black;}#sk-container-id-7 pre{padding: 0;}#sk-container-id-7 div.sk-toggleable {background-color: white;}#sk-container-id-7 label.sk-toggleable__label {cursor: pointer;display: block;width: 100%;margin-bottom: 0;padding: 0.3em;box-sizing: border-box;text-align: center;}#sk-container-id-7 label.sk-toggleable__label-arrow:before {content: \"▸\";float: left;margin-right: 0.25em;color: #696969;}#sk-container-id-7 label.sk-toggleable__label-arrow:hover:before {color: black;}#sk-container-id-7 div.sk-estimator:hover label.sk-toggleable__label-arrow:before {color: black;}#sk-container-id-7 div.sk-toggleable__content {max-height: 0;max-width: 0;overflow: hidden;text-align: left;background-color: #f0f8ff;}#sk-container-id-7 div.sk-toggleable__content pre {margin: 0.2em;color: black;border-radius: 0.25em;background-color: #f0f8ff;}#sk-container-id-7 input.sk-toggleable__control:checked~div.sk-toggleable__content {max-height: 200px;max-width: 100%;overflow: auto;}#sk-container-id-7 input.sk-toggleable__control:checked~label.sk-toggleable__label-arrow:before {content: \"▾\";}#sk-container-id-7 div.sk-estimator input.sk-toggleable__control:checked~label.sk-toggleable__label {background-color: #d4ebff;}#sk-container-id-7 div.sk-label input.sk-toggleable__control:checked~label.sk-toggleable__label {background-color: #d4ebff;}#sk-container-id-7 input.sk-hidden--visually {border: 0;clip: rect(1px 1px 1px 1px);clip: rect(1px, 1px, 1px, 1px);height: 1px;margin: -1px;overflow: hidden;padding: 0;position: absolute;width: 1px;}#sk-container-id-7 div.sk-estimator {font-family: monospace;background-color: #f0f8ff;border: 1px dotted black;border-radius: 0.25em;box-sizing: border-box;margin-bottom: 0.5em;}#sk-container-id-7 div.sk-estimator:hover {background-color: #d4ebff;}#sk-container-id-7 div.sk-parallel-item::after {content: \"\";width: 100%;border-bottom: 1px solid gray;flex-grow: 1;}#sk-container-id-7 div.sk-label:hover label.sk-toggleable__label {background-color: #d4ebff;}#sk-container-id-7 div.sk-serial::before {content: \"\";position: absolute;border-left: 1px solid gray;box-sizing: border-box;top: 0;bottom: 0;left: 50%;z-index: 0;}#sk-container-id-7 div.sk-serial {display: flex;flex-direction: column;align-items: center;background-color: white;padding-right: 0.2em;padding-left: 0.2em;position: relative;}#sk-container-id-7 div.sk-item {position: relative;z-index: 1;}#sk-container-id-7 div.sk-parallel {display: flex;align-items: stretch;justify-content: center;background-color: white;position: relative;}#sk-container-id-7 div.sk-item::before, #sk-container-id-7 div.sk-parallel-item::before {content: \"\";position: absolute;border-left: 1px solid gray;box-sizing: border-box;top: 0;bottom: 0;left: 50%;z-index: -1;}#sk-container-id-7 div.sk-parallel-item {display: flex;flex-direction: column;z-index: 1;position: relative;background-color: white;}#sk-container-id-7 div.sk-parallel-item:first-child::after {align-self: flex-end;width: 50%;}#sk-container-id-7 div.sk-parallel-item:last-child::after {align-self: flex-start;width: 50%;}#sk-container-id-7 div.sk-parallel-item:only-child::after {width: 0;}#sk-container-id-7 div.sk-dashed-wrapped {border: 1px dashed gray;margin: 0 0.4em 0.5em 0.4em;box-sizing: border-box;padding-bottom: 0.4em;background-color: white;}#sk-container-id-7 div.sk-label label {font-family: monospace;font-weight: bold;display: inline-block;line-height: 1.2em;}#sk-container-id-7 div.sk-label-container {text-align: center;}#sk-container-id-7 div.sk-container {/* jupyter's `normalize.less` sets `[hidden] { display: none; }` but bootstrap.min.css set `[hidden] { display: none !important; }` so we also need the `!important` here to be able to override the default hidden behavior on the sphinx rendered scikit-learn.org. See: https://github.com/scikit-learn/scikit-learn/issues/21755 */display: inline-block !important;position: relative;}#sk-container-id-7 div.sk-text-repr-fallback {display: none;}</style><div id=\"sk-container-id-7\" class=\"sk-top-container\"><div class=\"sk-text-repr-fallback\"><pre>LinearRegression()</pre><b>In a Jupyter environment, please rerun this cell to show the HTML representation or trust the notebook. <br />On GitHub, the HTML representation is unable to render, please try loading this page with nbviewer.org.</b></div><div class=\"sk-container\" hidden><div class=\"sk-item\"><div class=\"sk-estimator sk-toggleable\"><input class=\"sk-toggleable__control sk-hidden--visually\" id=\"sk-estimator-id-7\" type=\"checkbox\" checked><label for=\"sk-estimator-id-7\" class=\"sk-toggleable__label sk-toggleable__label-arrow\">LinearRegression</label><div class=\"sk-toggleable__content\"><pre>LinearRegression()</pre></div></div></div></div></div>"
      ],
      "text/plain": [
       "LinearRegression()"
      ]
     },
     "execution_count": 853,
     "metadata": {},
     "output_type": "execute_result"
    }
   ],
   "source": [
    "model1.fit(x_train,y_train)"
   ]
  },
  {
   "cell_type": "markdown",
   "id": "4b50bdde-fb7b-45e4-b888-7ef8359e4470",
   "metadata": {},
   "source": [
    "### step 4. predict"
   ]
  },
  {
   "cell_type": "code",
   "execution_count": 854,
   "id": "1f828019-d074-4b00-b118-c4dd30b6b830",
   "metadata": {
    "tags": []
   },
   "outputs": [],
   "source": [
    "y_pred = model1.predict(x_test)"
   ]
  },
  {
   "cell_type": "markdown",
   "id": "0aaa8f25-7f25-4114-83fc-cdb83bcc3797",
   "metadata": {},
   "source": [
    "### step 5. 성능 평가"
   ]
  },
  {
   "cell_type": "code",
   "execution_count": 855,
   "id": "3aa02fe4-d9a0-4c4b-9ec3-fca7d6de5d7d",
   "metadata": {
    "tags": []
   },
   "outputs": [
    {
     "name": "stdout",
     "output_type": "stream",
     "text": [
      "MAE : 0.6968383731427477\n",
      "MSE : 0.7812638184683306\n",
      "RMSE : 0.8838912933547488\n",
      "MAPE : 0.20292339169383194\n",
      "R2 0.7540887980989224\n"
     ]
    }
   ],
   "source": [
    "# | code-fold : true\n",
    "print(\"MAE :\", mean_absolute_error(y_test,y_pred))\n",
    "print(\"MSE :\", mean_squared_error(y_test,y_pred))\n",
    "print(\"RMSE :\", mean_squared_error(y_test,y_pred)**(1/2))\n",
    "print(\"MAPE :\", mean_absolute_percentage_error(y_test,y_pred))\n",
    "print(\"R2\", r2_score(y_test,y_pred))"
   ]
  },
  {
   "cell_type": "markdown",
   "id": "1731df3c-03fe-4e47-b6f3-f10e99c752e8",
   "metadata": {},
   "source": [
    "### step 5. 시각화"
   ]
  },
  {
   "cell_type": "code",
   "execution_count": 856,
   "id": "7bd39608-39ba-4296-a734-bcc3267ed0e3",
   "metadata": {
    "tags": []
   },
   "outputs": [
    {
     "data": {
      "text/plain": [
       "<matplotlib.legend.Legend at 0x20636f2d350>"
      ]
     },
     "execution_count": 856,
     "metadata": {},
     "output_type": "execute_result"
    },
    {
     "data": {
      "image/png": "[encoded data removed]",
      "text/plain": [
       "<Figure size 400x400 with 1 Axes>"
      ]
     },
     "metadata": {
      "image/png": {
       "height": 351,
       "width": 348
      }
     },
     "output_type": "display_data"
    }
   ],
   "source": [
    "plt.figure(figsize = (4,4))\n",
    "plt.plot(x_test,y_test,\".r\",alpha = 0.3,label =r\"$(x,y)$\")\n",
    "plt.plot(x_test,y_pred,\".b\",alpha = 0.3,label =r\"$(x,\\hat {y})$\" )\n",
    "plt.legend()"
   ]
  },
  {
   "cell_type": "markdown",
   "id": "3b3ed8d4-531e-4b49-b817-93a42fdcfd96",
   "metadata": {},
   "source": [
    "## 모델링 2 : ISLP"
   ]
  },
  {
   "cell_type": "code",
   "execution_count": 857,
   "id": "55ea6a6e-dabd-445e-8d30-92c76e47409c",
   "metadata": {
    "tags": []
   },
   "outputs": [],
   "source": [
    "# | code-fold : true\n",
    "import statsmodels.api as sm\n",
    "from ISLP.models import (ModelSpec as MS,\n",
    "summarize,poly)\n",
    "from sklearn.metrics import * ## 모델 평가지표\n",
    "from sklearn.model_selection import train_test_split\n",
    "import pandas as pd"
   ]
  },
  {
   "cell_type": "code",
   "execution_count": 858,
   "id": "17bf0066-1243-4f89-8d89-f8c806e26c4b",
   "metadata": {
    "tags": []
   },
   "outputs": [],
   "source": [
    "# 데이터 읽어오기\n",
    "path = 'https://raw.githubusercontent.com/Jangrae/csv/master/income_happy.csv'\n",
    "data = pd.read_csv(path)"
   ]
  },
  {
   "cell_type": "markdown",
   "id": "31db6ea8-d038-4196-b581-65cc5f12979a",
   "metadata": {},
   "source": [
    "### step 1. 데이터셋 분리"
   ]
  },
  {
   "cell_type": "code",
   "execution_count": 859,
   "id": "4ee647f6-06d1-4409-bd32-6ea1439306da",
   "metadata": {
    "tags": []
   },
   "outputs": [],
   "source": [
    "target = \"income\"\n",
    "\n",
    "x = data.drop(target, axis=1)\n",
    "X = MS(x).fit_transform(data)\n",
    "y = data[target]\n",
    "\n",
    "x_train, x_test, y_train, y_test = train_test_split(X, y, test_size=0.3, random_state=1)"
   ]
  },
  {
   "cell_type": "markdown",
   "id": "5ca3c9ef-f986-40ba-8cc4-45ef23e03d4d",
   "metadata": {},
   "source": [
    "### step 2. 모델 선언"
   ]
  },
  {
   "cell_type": "code",
   "execution_count": 860,
   "id": "26ac785f-5391-4f3d-8ec1-820f231db57a",
   "metadata": {
    "tags": []
   },
   "outputs": [],
   "source": [
    "model2 = sm.OLS(y_train, x_train).fit()"
   ]
  },
  {
   "cell_type": "markdown",
   "id": "3ff148db-a9c9-4e01-9a84-14236bf41d89",
   "metadata": {},
   "source": [
    "### step 3. 모델 report 확인"
   ]
  },
  {
   "cell_type": "code",
   "execution_count": 861,
   "id": "d9c89a8d-162e-46da-b72b-c9b9aec104a9",
   "metadata": {
    "tags": []
   },
   "outputs": [],
   "source": [
    "results = model2.summary()"
   ]
  },
  {
   "cell_type": "code",
   "execution_count": 862,
   "id": "4ccc9e6d-18f2-4c8f-b05d-bdfee2d428fa",
   "metadata": {
    "tags": []
   },
   "outputs": [
    {
     "data": {
      "text/html": [
       "<table class=\"simpletable\">\n",
       "<caption>OLS Regression Results</caption>\n",
       "<tr>\n",
       "  <th>Dep. Variable:</th>         <td>income</td>      <th>  R-squared:         </th> <td>   0.747</td> \n",
       "</tr>\n",
       "<tr>\n",
       "  <th>Model:</th>                   <td>OLS</td>       <th>  Adj. R-squared:    </th> <td>   0.746</td> \n",
       "</tr>\n",
       "<tr>\n",
       "  <th>Method:</th>             <td>Least Squares</td>  <th>  F-statistic:       </th> <td>   1020.</td> \n",
       "</tr>\n",
       "<tr>\n",
       "  <th>Date:</th>             <td>Tue, 12 Sep 2023</td> <th>  Prob (F-statistic):</th> <td>3.14e-105</td>\n",
       "</tr>\n",
       "<tr>\n",
       "  <th>Time:</th>                 <td>16:51:35</td>     <th>  Log-Likelihood:    </th> <td> -442.54</td> \n",
       "</tr>\n",
       "<tr>\n",
       "  <th>No. Observations:</th>      <td>   348</td>      <th>  AIC:               </th> <td>   889.1</td> \n",
       "</tr>\n",
       "<tr>\n",
       "  <th>Df Residuals:</th>          <td>   346</td>      <th>  BIC:               </th> <td>   896.8</td> \n",
       "</tr>\n",
       "<tr>\n",
       "  <th>Df Model:</th>              <td>     1</td>      <th>                     </th>     <td> </td>    \n",
       "</tr>\n",
       "<tr>\n",
       "  <th>Covariance Type:</th>      <td>nonrobust</td>    <th>                     </th>     <td> </td>    \n",
       "</tr>\n",
       "</table>"
      ],
      "text/latex": [
       "\\begin{center}\n",
       "\\begin{tabular}{lclc}\n",
       "\\toprule\n",
       "\\textbf{Dep. Variable:}    &      income      & \\textbf{  R-squared:         } &     0.747  \\\\\n",
       "\\textbf{Model:}            &       OLS        & \\textbf{  Adj. R-squared:    } &     0.746  \\\\\n",
       "\\textbf{Method:}           &  Least Squares   & \\textbf{  F-statistic:       } &     1020.  \\\\\n",
       "\\textbf{Date:}             & Tue, 12 Sep 2023 & \\textbf{  Prob (F-statistic):} & 3.14e-105  \\\\\n",
       "\\textbf{Time:}             &     16:51:35     & \\textbf{  Log-Likelihood:    } &   -442.54  \\\\\n",
       "\\textbf{No. Observations:} &         348      & \\textbf{  AIC:               } &     889.1  \\\\\n",
       "\\textbf{Df Residuals:}     &         346      & \\textbf{  BIC:               } &     896.8  \\\\\n",
       "\\textbf{Df Model:}         &           1      & \\textbf{                     } &            \\\\\n",
       "\\textbf{Covariance Type:}  &    nonrobust     & \\textbf{                     } &            \\\\\n",
       "\\bottomrule\n",
       "\\end{tabular}\n",
       "%\\caption{OLS Regression Results}\n",
       "\\end{center}"
      ],
      "text/plain": [
       "<class 'statsmodels.iolib.table.SimpleTable'>"
      ]
     },
     "execution_count": 862,
     "metadata": {},
     "output_type": "execute_result"
    }
   ],
   "source": [
    "results.tables[0]"
   ]
  },
  {
   "cell_type": "code",
   "execution_count": 863,
   "id": "1aa026c8-93e0-4959-a73e-7cb4d21b071a",
   "metadata": {
    "tags": []
   },
   "outputs": [
    {
     "data": {
      "text/html": [
       "<table class=\"simpletable\">\n",
       "<tr>\n",
       "      <td></td>         <th>coef</th>     <th>std err</th>      <th>t</th>      <th>P>|t|</th>  <th>[0.025</th>    <th>0.975]</th>  \n",
       "</tr>\n",
       "<tr>\n",
       "  <th>intercept</th> <td>    0.9640</td> <td>    0.119</td> <td>    8.121</td> <td> 0.000</td> <td>    0.731</td> <td>    1.197</td>\n",
       "</tr>\n",
       "<tr>\n",
       "  <th>happiness</th> <td>    1.0337</td> <td>    0.032</td> <td>   31.945</td> <td> 0.000</td> <td>    0.970</td> <td>    1.097</td>\n",
       "</tr>\n",
       "</table>"
      ],
      "text/latex": [
       "\\begin{center}\n",
       "\\begin{tabular}{lcccccc}\n",
       "\\toprule\n",
       "                   & \\textbf{coef} & \\textbf{std err} & \\textbf{t} & \\textbf{P$> |$t$|$} & \\textbf{[0.025} & \\textbf{0.975]}  \\\\\n",
       "\\midrule\n",
       "\\textbf{intercept} &       0.9640  &        0.119     &     8.121  &         0.000        &        0.731    &        1.197     \\\\\n",
       "\\textbf{happiness} &       1.0337  &        0.032     &    31.945  &         0.000        &        0.970    &        1.097     \\\\\n",
       "\\bottomrule\n",
       "\\end{tabular}\n",
       "\\end{center}"
      ],
      "text/plain": [
       "<class 'statsmodels.iolib.table.SimpleTable'>"
      ]
     },
     "execution_count": 863,
     "metadata": {},
     "output_type": "execute_result"
    }
   ],
   "source": [
    "results.tables[1]"
   ]
  },
  {
   "cell_type": "markdown",
   "id": "9e09a5ab-e0f0-49bd-8663-503b30e47e07",
   "metadata": {},
   "source": [
    "### step 4. 평가 데이터에 대한 모형 평가"
   ]
  },
  {
   "cell_type": "code",
   "execution_count": 864,
   "id": "6446bf78-649e-42e2-b671-1fa271a98a62",
   "metadata": {
    "tags": []
   },
   "outputs": [],
   "source": [
    "y_pred = model2.predict(x_test)"
   ]
  },
  {
   "cell_type": "code",
   "execution_count": 865,
   "id": "56737d85-4bf3-4239-a6db-d6e559181990",
   "metadata": {
    "tags": []
   },
   "outputs": [],
   "source": [
    "from sklearn.metrics import *"
   ]
  },
  {
   "cell_type": "code",
   "execution_count": 866,
   "id": "873eb4ee-b115-4ee0-af6f-a60eec3713f1",
   "metadata": {
    "tags": []
   },
   "outputs": [
    {
     "name": "stdout",
     "output_type": "stream",
     "text": [
      "MAE : 0.6968383731427479\n",
      "MSE : 0.7812638184683306\n",
      "RMSE : 0.8838912933547488\n",
      "MAPE : 0.2029233916938319\n",
      "R2 0.7540887980989224\n"
     ]
    }
   ],
   "source": [
    "print(\"MAE :\", mean_absolute_error(y_test,y_pred))\n",
    "print(\"MSE :\", mean_squared_error(y_test,y_pred))\n",
    "print(\"RMSE :\", mean_squared_error(y_test,y_pred)**(1/2))\n",
    "print(\"MAPE :\", mean_absolute_percentage_error(y_test,y_pred))\n",
    "print(\"R2\", r2_score(y_test,y_pred))"
   ]
  },
  {
   "cell_type": "markdown",
   "id": "f1827cc5-4499-4d11-9820-bb9b4f4f2ad6",
   "metadata": {},
   "source": [
    "### step 5. 결과 시각화"
   ]
  },
  {
   "cell_type": "code",
   "execution_count": 867,
   "id": "99a3a45e-ba76-4637-bd6d-f37ff608eafa",
   "metadata": {
    "tags": []
   },
   "outputs": [
    {
     "data": {
      "text/plain": [
       "<matplotlib.legend.Legend at 0x2063232d350>"
      ]
     },
     "execution_count": 867,
     "metadata": {},
     "output_type": "execute_result"
    },
    {
     "data": {
      "image/png": "[encoded data removed]",
      "text/plain": [
       "<Figure size 400x400 with 1 Axes>"
      ]
     },
     "metadata": {
      "image/png": {
       "height": 351,
       "width": 348
      }
     },
     "output_type": "display_data"
    }
   ],
   "source": [
    "plt.figure(figsize = (4,4))\n",
    "plt.plot(x_test[\"happiness\"],y_test,\".r\",alpha = 0.3,label =r\"$(x,y)$\")\n",
    "plt.plot(x_test[\"happiness\"],y_pred,\".b\",alpha = 0.3,label =r\"$(x,\\hat {y})$\" )\n",
    "plt.legend()"
   ]
  },
  {
   "cell_type": "markdown",
   "id": "312037b7-49e9-455d-8b00-a5c5bc4a9fe9",
   "metadata": {},
   "source": [
    "## summary 1"
   ]
  },
  {
   "cell_type": "markdown",
   "id": "97f35f03-cbf7-457e-8d19-dd50c77f06ba",
   "metadata": {},
   "source": [
    "`-` 강의에서 다룬 `sklearn.linear_model`에서는  model fitting 시 다음과 같은 구조로 입력해야 한다.\n",
    "\n",
    "* 예측변수가 첫 번째인자, 반응변수가 두 번째 인자"
   ]
  },
  {
   "cell_type": "markdown",
   "id": "cca51992-7822-4d0b-a3ee-773d8252999a",
   "metadata": {},
   "source": [
    "```python\n",
    "from sklearn.linear_model import LinearRegression\n",
    "\n",
    "model1.fit(x_train,y_train)\n",
    "```"
   ]
  },
  {
   "cell_type": "markdown",
   "id": "7bfe4120-4ba8-4965-9f18-a67f95c754b5",
   "metadata": {},
   "source": [
    "`-` **ISLP**에서는 위와 반대!"
   ]
  },
  {
   "cell_type": "code",
   "execution_count": 868,
   "id": "cf58383d-fc6f-400f-8fe1-55c8292aa6d7",
   "metadata": {
    "tags": []
   },
   "outputs": [
    {
     "data": {
      "text/plain": [
       "\u001b[1;31mSignature:\u001b[0m \u001b[0mmodel1\u001b[0m\u001b[1;33m.\u001b[0m\u001b[0mfit\u001b[0m\u001b[1;33m(\u001b[0m\u001b[0mX\u001b[0m\u001b[1;33m,\u001b[0m \u001b[0my\u001b[0m\u001b[1;33m,\u001b[0m \u001b[0msample_weight\u001b[0m\u001b[1;33m=\u001b[0m\u001b[1;32mNone\u001b[0m\u001b[1;33m)\u001b[0m\u001b[1;33m\u001b[0m\u001b[1;33m\u001b[0m\u001b[0m\n",
       "\u001b[1;31mDocstring:\u001b[0m\n",
       "Fit linear model.\n",
       "\n",
       "Parameters\n",
       "----------\n",
       "X : {array-like, sparse matrix} of shape (n_samples, n_features)\n",
       "    Training data.\n",
       "\n",
       "y : array-like of shape (n_samples,) or (n_samples, n_targets)\n",
       "    Target values. Will be cast to X's dtype if necessary.\n",
       "\n",
       "sample_weight : array-like of shape (n_samples,), default=None\n",
       "    Individual weights for each sample.\n",
       "\n",
       "    .. versionadded:: 0.17\n",
       "       parameter *sample_weight* support to LinearRegression.\n",
       "\n",
       "Returns\n",
       "-------\n",
       "self : object\n",
       "    Fitted Estimator.\n",
       "\u001b[1;31mFile:\u001b[0m      c:\\users\\rkdcj\\anaconda3\\envs\\dx\\lib\\site-packages\\sklearn\\linear_model\\_base.py\n",
       "\u001b[1;31mType:\u001b[0m      method"
      ]
     },
     "metadata": {},
     "output_type": "display_data"
    }
   ],
   "source": [
    "model1.fit?"
   ]
  },
  {
   "cell_type": "markdown",
   "id": "dcfe7f26-da8d-4983-9b2f-42614d27493c",
   "metadata": {},
   "source": [
    "```python\n",
    "import statsmodels.api as sm\n",
    "from ISLP.models import (ModelSpec as MS, summarize, poly)\n",
    "model2 = sm.OLS(y_train, x_train).fit()\n",
    "```"
   ]
  },
  {
   "cell_type": "code",
   "execution_count": 869,
   "id": "a5b35e4b-56af-4a07-977e-e23cf3fa74e0",
   "metadata": {
    "tags": []
   },
   "outputs": [
    {
     "data": {
      "text/plain": [
       "\u001b[1;31mInit signature:\u001b[0m \u001b[0msm\u001b[0m\u001b[1;33m.\u001b[0m\u001b[0mOLS\u001b[0m\u001b[1;33m(\u001b[0m\u001b[0mendog\u001b[0m\u001b[1;33m,\u001b[0m \u001b[0mexog\u001b[0m\u001b[1;33m=\u001b[0m\u001b[1;32mNone\u001b[0m\u001b[1;33m,\u001b[0m \u001b[0mmissing\u001b[0m\u001b[1;33m=\u001b[0m\u001b[1;34m'none'\u001b[0m\u001b[1;33m,\u001b[0m \u001b[0mhasconst\u001b[0m\u001b[1;33m=\u001b[0m\u001b[1;32mNone\u001b[0m\u001b[1;33m,\u001b[0m \u001b[1;33m**\u001b[0m\u001b[0mkwargs\u001b[0m\u001b[1;33m)\u001b[0m\u001b[1;33m\u001b[0m\u001b[1;33m\u001b[0m\u001b[0m\n",
       "\u001b[1;31mDocstring:\u001b[0m     \n",
       "Ordinary Least Squares\n",
       "\n",
       "Parameters\n",
       "----------\n",
       "endog : array_like\n",
       "    A 1-d endogenous response variable. The dependent variable.\n",
       "exog : array_like\n",
       "    A nobs x k array where `nobs` is the number of observations and `k`\n",
       "    is the number of regressors. An intercept is not included by default\n",
       "    and should be added by the user. See\n",
       "    :func:`statsmodels.tools.add_constant`.\n",
       "missing : str\n",
       "    Available options are 'none', 'drop', and 'raise'. If 'none', no nan\n",
       "    checking is done. If 'drop', any observations with nans are dropped.\n",
       "    If 'raise', an error is raised. Default is 'none'.\n",
       "hasconst : None or bool\n",
       "    Indicates whether the RHS includes a user-supplied constant. If True,\n",
       "    a constant is not checked for and k_constant is set to 1 and all\n",
       "    result statistics are calculated as if a constant is present. If\n",
       "    False, a constant is not checked for and k_constant is set to 0.\n",
       "**kwargs\n",
       "    Extra arguments that are used to set model properties when using the\n",
       "    formula interface.\n",
       "\n",
       "Attributes\n",
       "----------\n",
       "weights : scalar\n",
       "    Has an attribute weights = array(1.0) due to inheritance from WLS.\n",
       "\n",
       "See Also\n",
       "--------\n",
       "WLS : Fit a linear model using Weighted Least Squares.\n",
       "GLS : Fit a linear model using Generalized Least Squares.\n",
       "\n",
       "Notes\n",
       "-----\n",
       "No constant is added by the model unless you are using formulas.\n",
       "\n",
       "Examples\n",
       "--------\n",
       ">>> import statsmodels.api as sm\n",
       ">>> import numpy as np\n",
       ">>> duncan_prestige = sm.datasets.get_rdataset(\"Duncan\", \"carData\")\n",
       ">>> Y = duncan_prestige.data['income']\n",
       ">>> X = duncan_prestige.data['education']\n",
       ">>> X = sm.add_constant(X)\n",
       ">>> model = sm.OLS(Y,X)\n",
       ">>> results = model.fit()\n",
       ">>> results.params\n",
       "const        10.603498\n",
       "education     0.594859\n",
       "dtype: float64\n",
       "\n",
       ">>> results.tvalues\n",
       "const        2.039813\n",
       "education    6.892802\n",
       "dtype: float64\n",
       "\n",
       ">>> print(results.t_test([1, 0]))\n",
       "                             Test for Constraints\n",
       "==============================================================================\n",
       "                 coef    std err          t      P>|t|      [0.025      0.975]\n",
       "------------------------------------------------------------------------------\n",
       "c0            10.6035      5.198      2.040      0.048       0.120      21.087\n",
       "==============================================================================\n",
       "\n",
       ">>> print(results.f_test(np.identity(2)))\n",
       "<F test: F=array([[159.63031026]]), p=1.2607168903696672e-20,\n",
       " df_denom=43, df_num=2>\n",
       "\u001b[1;31mFile:\u001b[0m           c:\\users\\rkdcj\\anaconda3\\envs\\dx\\lib\\site-packages\\statsmodels\\regression\\linear_model.py\n",
       "\u001b[1;31mType:\u001b[0m           type\n",
       "\u001b[1;31mSubclasses:\u001b[0m     "
      ]
     },
     "metadata": {},
     "output_type": "display_data"
    }
   ],
   "source": [
    "sm.OLS?"
   ]
  },
  {
   "cell_type": "markdown",
   "id": "99d0e6bf-a8a5-4173-8ca9-458868b40dfa",
   "metadata": {},
   "source": [
    "`-` 인자값을 명시해주고 전달하면 상관이 없으나, 귀찮으니 그냥 바꿔가면서 쓰자 핳"
   ]
  },
  {
   "cell_type": "markdown",
   "id": "0377c577-78bd-4918-aa5d-71a10b457a62",
   "metadata": {},
   "source": [
    "***"
   ]
  },
  {
   "cell_type": "markdown",
   "id": "e6eb875f-68e0-49fb-806c-7715aef392f5",
   "metadata": {},
   "source": [
    "# 모델 성능평가 2. 분류"
   ]
  },
  {
   "cell_type": "markdown",
   "id": "3c33e2b5-0dcc-4013-ae0c-ac73f75bd938",
   "metadata": {},
   "source": [
    "## 1. 데이터 로드 및 확인"
   ]
  },
  {
   "cell_type": "code",
   "execution_count": 870,
   "id": "cee69bfb-5ea9-493b-b197-16f2cd1067bb",
   "metadata": {
    "tags": []
   },
   "outputs": [],
   "source": [
    "# 데이터 읽어오기\n",
    "path = 'https://raw.githubusercontent.com/Jangrae/csv/master/admission_simple.csv'\n",
    "data = pd.read_csv(path)"
   ]
  },
  {
   "cell_type": "code",
   "execution_count": 871,
   "id": "5e50b94d-a01b-4461-b94d-16d73791cf69",
   "metadata": {
    "tags": []
   },
   "outputs": [
    {
     "data": {
      "text/html": [
       "<div>\n",
       "<style scoped>\n",
       "    .dataframe tbody tr th:only-of-type {\n",
       "        vertical-align: middle;\n",
       "    }\n",
       "\n",
       "    .dataframe tbody tr th {\n",
       "        vertical-align: top;\n",
       "    }\n",
       "\n",
       "    .dataframe thead th {\n",
       "        text-align: right;\n",
       "    }\n",
       "</style>\n",
       "<table border=\"1\" class=\"dataframe\">\n",
       "  <thead>\n",
       "    <tr style=\"text-align: right;\">\n",
       "      <th></th>\n",
       "      <th>GRE</th>\n",
       "      <th>TOEFL</th>\n",
       "      <th>RANK</th>\n",
       "      <th>SOP</th>\n",
       "      <th>LOR</th>\n",
       "      <th>GPA</th>\n",
       "      <th>RESEARCH</th>\n",
       "      <th>ADMIT</th>\n",
       "    </tr>\n",
       "  </thead>\n",
       "  <tbody>\n",
       "    <tr>\n",
       "      <th>0</th>\n",
       "      <td>337</td>\n",
       "      <td>118</td>\n",
       "      <td>4</td>\n",
       "      <td>4.5</td>\n",
       "      <td>4.5</td>\n",
       "      <td>9.65</td>\n",
       "      <td>1</td>\n",
       "      <td>1</td>\n",
       "    </tr>\n",
       "    <tr>\n",
       "      <th>1</th>\n",
       "      <td>324</td>\n",
       "      <td>107</td>\n",
       "      <td>4</td>\n",
       "      <td>4.0</td>\n",
       "      <td>4.5</td>\n",
       "      <td>8.87</td>\n",
       "      <td>1</td>\n",
       "      <td>1</td>\n",
       "    </tr>\n",
       "    <tr>\n",
       "      <th>2</th>\n",
       "      <td>316</td>\n",
       "      <td>104</td>\n",
       "      <td>3</td>\n",
       "      <td>3.0</td>\n",
       "      <td>3.5</td>\n",
       "      <td>8.00</td>\n",
       "      <td>1</td>\n",
       "      <td>0</td>\n",
       "    </tr>\n",
       "    <tr>\n",
       "      <th>3</th>\n",
       "      <td>322</td>\n",
       "      <td>110</td>\n",
       "      <td>3</td>\n",
       "      <td>3.5</td>\n",
       "      <td>2.5</td>\n",
       "      <td>8.67</td>\n",
       "      <td>1</td>\n",
       "      <td>1</td>\n",
       "    </tr>\n",
       "    <tr>\n",
       "      <th>4</th>\n",
       "      <td>314</td>\n",
       "      <td>103</td>\n",
       "      <td>2</td>\n",
       "      <td>2.0</td>\n",
       "      <td>3.0</td>\n",
       "      <td>8.21</td>\n",
       "      <td>0</td>\n",
       "      <td>0</td>\n",
       "    </tr>\n",
       "  </tbody>\n",
       "</table>\n",
       "</div>"
      ],
      "text/plain": [
       "   GRE  TOEFL  RANK  SOP  LOR   GPA  RESEARCH  ADMIT\n",
       "0  337    118     4  4.5  4.5  9.65         1      1\n",
       "1  324    107     4  4.0  4.5  8.87         1      1\n",
       "2  316    104     3  3.0  3.5  8.00         1      0\n",
       "3  322    110     3  3.5  2.5  8.67         1      1\n",
       "4  314    103     2  2.0  3.0  8.21         0      0"
      ]
     },
     "execution_count": 871,
     "metadata": {},
     "output_type": "execute_result"
    }
   ],
   "source": [
    "# 상/하위 몇 개 행 확인\n",
    "data.head()"
   ]
  },
  {
   "cell_type": "code",
   "execution_count": 872,
   "id": "37787c41-b5e9-426d-9ac9-ee8250f6a387",
   "metadata": {
    "tags": []
   },
   "outputs": [
    {
     "name": "stdout",
     "output_type": "stream",
     "text": [
      "<class 'pandas.core.frame.DataFrame'>\n",
      "RangeIndex: 500 entries, 0 to 499\n",
      "Data columns (total 8 columns):\n",
      " #   Column    Non-Null Count  Dtype  \n",
      "---  ------    --------------  -----  \n",
      " 0   GRE       500 non-null    int64  \n",
      " 1   TOEFL     500 non-null    int64  \n",
      " 2   RANK      500 non-null    int64  \n",
      " 3   SOP       500 non-null    float64\n",
      " 4   LOR       500 non-null    float64\n",
      " 5   GPA       500 non-null    float64\n",
      " 6   RESEARCH  500 non-null    int64  \n",
      " 7   ADMIT     500 non-null    int64  \n",
      "dtypes: float64(3), int64(5)\n",
      "memory usage: 31.4 KB\n"
     ]
    }
   ],
   "source": [
    "# 변수 확인\n",
    "data.info()"
   ]
  },
  {
   "cell_type": "code",
   "execution_count": 873,
   "id": "3a476794-bfea-487d-8aa7-3b7117b4b676",
   "metadata": {
    "tags": []
   },
   "outputs": [
    {
     "data": {
      "text/html": [
       "<div>\n",
       "<style scoped>\n",
       "    .dataframe tbody tr th:only-of-type {\n",
       "        vertical-align: middle;\n",
       "    }\n",
       "\n",
       "    .dataframe tbody tr th {\n",
       "        vertical-align: top;\n",
       "    }\n",
       "\n",
       "    .dataframe thead th {\n",
       "        text-align: right;\n",
       "    }\n",
       "</style>\n",
       "<table border=\"1\" class=\"dataframe\">\n",
       "  <thead>\n",
       "    <tr style=\"text-align: right;\">\n",
       "      <th></th>\n",
       "      <th>GRE</th>\n",
       "      <th>TOEFL</th>\n",
       "      <th>RANK</th>\n",
       "      <th>SOP</th>\n",
       "      <th>LOR</th>\n",
       "      <th>GPA</th>\n",
       "      <th>RESEARCH</th>\n",
       "      <th>ADMIT</th>\n",
       "    </tr>\n",
       "  </thead>\n",
       "  <tbody>\n",
       "    <tr>\n",
       "      <th>count</th>\n",
       "      <td>500.000000</td>\n",
       "      <td>500.000000</td>\n",
       "      <td>500.000000</td>\n",
       "      <td>500.000000</td>\n",
       "      <td>500.00000</td>\n",
       "      <td>500.000000</td>\n",
       "      <td>500.000000</td>\n",
       "      <td>500.000000</td>\n",
       "    </tr>\n",
       "    <tr>\n",
       "      <th>mean</th>\n",
       "      <td>316.472000</td>\n",
       "      <td>107.192000</td>\n",
       "      <td>3.114000</td>\n",
       "      <td>3.374000</td>\n",
       "      <td>3.48400</td>\n",
       "      <td>8.576440</td>\n",
       "      <td>0.560000</td>\n",
       "      <td>0.436000</td>\n",
       "    </tr>\n",
       "    <tr>\n",
       "      <th>std</th>\n",
       "      <td>11.295148</td>\n",
       "      <td>6.081868</td>\n",
       "      <td>1.143512</td>\n",
       "      <td>0.991004</td>\n",
       "      <td>0.92545</td>\n",
       "      <td>0.604813</td>\n",
       "      <td>0.496884</td>\n",
       "      <td>0.496384</td>\n",
       "    </tr>\n",
       "    <tr>\n",
       "      <th>min</th>\n",
       "      <td>290.000000</td>\n",
       "      <td>92.000000</td>\n",
       "      <td>1.000000</td>\n",
       "      <td>1.000000</td>\n",
       "      <td>1.00000</td>\n",
       "      <td>6.800000</td>\n",
       "      <td>0.000000</td>\n",
       "      <td>0.000000</td>\n",
       "    </tr>\n",
       "    <tr>\n",
       "      <th>25%</th>\n",
       "      <td>308.000000</td>\n",
       "      <td>103.000000</td>\n",
       "      <td>2.000000</td>\n",
       "      <td>2.500000</td>\n",
       "      <td>3.00000</td>\n",
       "      <td>8.127500</td>\n",
       "      <td>0.000000</td>\n",
       "      <td>0.000000</td>\n",
       "    </tr>\n",
       "    <tr>\n",
       "      <th>50%</th>\n",
       "      <td>317.000000</td>\n",
       "      <td>107.000000</td>\n",
       "      <td>3.000000</td>\n",
       "      <td>3.500000</td>\n",
       "      <td>3.50000</td>\n",
       "      <td>8.560000</td>\n",
       "      <td>1.000000</td>\n",
       "      <td>0.000000</td>\n",
       "    </tr>\n",
       "    <tr>\n",
       "      <th>75%</th>\n",
       "      <td>325.000000</td>\n",
       "      <td>112.000000</td>\n",
       "      <td>4.000000</td>\n",
       "      <td>4.000000</td>\n",
       "      <td>4.00000</td>\n",
       "      <td>9.040000</td>\n",
       "      <td>1.000000</td>\n",
       "      <td>1.000000</td>\n",
       "    </tr>\n",
       "    <tr>\n",
       "      <th>max</th>\n",
       "      <td>340.000000</td>\n",
       "      <td>120.000000</td>\n",
       "      <td>5.000000</td>\n",
       "      <td>5.000000</td>\n",
       "      <td>5.00000</td>\n",
       "      <td>9.920000</td>\n",
       "      <td>1.000000</td>\n",
       "      <td>1.000000</td>\n",
       "    </tr>\n",
       "  </tbody>\n",
       "</table>\n",
       "</div>"
      ],
      "text/plain": [
       "              GRE       TOEFL        RANK         SOP        LOR         GPA  \\\n",
       "count  500.000000  500.000000  500.000000  500.000000  500.00000  500.000000   \n",
       "mean   316.472000  107.192000    3.114000    3.374000    3.48400    8.576440   \n",
       "std     11.295148    6.081868    1.143512    0.991004    0.92545    0.604813   \n",
       "min    290.000000   92.000000    1.000000    1.000000    1.00000    6.800000   \n",
       "25%    308.000000  103.000000    2.000000    2.500000    3.00000    8.127500   \n",
       "50%    317.000000  107.000000    3.000000    3.500000    3.50000    8.560000   \n",
       "75%    325.000000  112.000000    4.000000    4.000000    4.00000    9.040000   \n",
       "max    340.000000  120.000000    5.000000    5.000000    5.00000    9.920000   \n",
       "\n",
       "         RESEARCH       ADMIT  \n",
       "count  500.000000  500.000000  \n",
       "mean     0.560000    0.436000  \n",
       "std      0.496884    0.496384  \n",
       "min      0.000000    0.000000  \n",
       "25%      0.000000    0.000000  \n",
       "50%      1.000000    0.000000  \n",
       "75%      1.000000    1.000000  \n",
       "max      1.000000    1.000000  "
      ]
     },
     "execution_count": 873,
     "metadata": {},
     "output_type": "execute_result"
    }
   ],
   "source": [
    "# 기술통계 확인\n",
    "data.describe()"
   ]
  },
  {
   "cell_type": "markdown",
   "id": "e2b7f57d-0145-457a-8d25-0918c17a6215",
   "metadata": {},
   "source": [
    "## 2. 데이터 셋 분리"
   ]
  },
  {
   "cell_type": "code",
   "execution_count": 874,
   "id": "0ceb8818-4872-4fe9-9864-b36a9f53994c",
   "metadata": {
    "tags": []
   },
   "outputs": [],
   "source": [
    "target = 'ADMIT'\n",
    "\n",
    "# 데이터 분리\n",
    "x = data.drop(target, axis=1)\n",
    "y = data.loc[:, target]\n",
    "\n",
    "# 모듈 불러오기\n",
    "from sklearn.model_selection import train_test_split\n",
    "\n",
    "# 7:3으로 분리\n",
    "x_train, x_test, y_train, y_test = train_test_split(x, y, test_size=0.3, random_state=1)"
   ]
  },
  {
   "cell_type": "markdown",
   "id": "b0046fa2-a2a9-45f4-8de7-e9690a81d41a",
   "metadata": {},
   "source": [
    "## 3. 모델링"
   ]
  },
  {
   "cell_type": "code",
   "execution_count": 875,
   "id": "b2dafa69-b7e8-45d3-86f8-7f47ada7c54b",
   "metadata": {
    "tags": []
   },
   "outputs": [],
   "source": [
    "# 1단계: 불러오기\n",
    "from sklearn.neighbors import KNeighborsClassifier\n",
    "\n",
    "# 2단계: 선언하기\n",
    "model = KNeighborsClassifier()\n",
    "\n",
    "# 3단계: 학습하기\n",
    "model.fit(x_train, y_train)\n",
    "\n",
    "# 4단계: 예측하기\n",
    "y_pred = model.predict(x_test)"
   ]
  },
  {
   "cell_type": "markdown",
   "id": "cf141376-ff64-4a12-8b6a-ba0b5d8f60a9",
   "metadata": {},
   "source": [
    "## 4. 예측결과 시각화"
   ]
  },
  {
   "cell_type": "code",
   "execution_count": 876,
   "id": "379fabeb-6687-4108-af73-57f9ef3e15d1",
   "metadata": {
    "tags": []
   },
   "outputs": [
    {
     "name": "stdout",
     "output_type": "stream",
     "text": [
      "[[76  8]\n",
      " [16 50]]\n"
     ]
    }
   ],
   "source": [
    "from sklearn.metrics import confusion_matrix\n",
    "\n",
    "print(confusion_matrix(y_test,y_pred))"
   ]
  },
  {
   "cell_type": "code",
   "execution_count": 877,
   "id": "7e9000a9-ed71-41ca-8084-c06f205159ef",
   "metadata": {
    "tags": []
   },
   "outputs": [
    {
     "data": {
      "text/plain": [
       "<Axes: >"
      ]
     },
     "execution_count": 877,
     "metadata": {},
     "output_type": "execute_result"
    },
    {
     "data": {
      "image/png": "[encoded data removed]",
      "text/plain": [
       "<Figure size 400x400 with 1 Axes>"
      ]
     },
     "metadata": {
      "image/png": {
       "height": 351,
       "width": 353
      }
     },
     "output_type": "display_data"
    }
   ],
   "source": [
    "plt.figure(figsize = (4,4))\n",
    "sns.heatmap(confusion_matrix(y_test,y_pred),\n",
    "            annot = True,\n",
    "            cmap = \"Blues\",\n",
    "            cbar = False)"
   ]
  },
  {
   "cell_type": "markdown",
   "id": "033c4877-28d9-416f-bf37-285da357f69c",
   "metadata": {},
   "source": [
    "### 5. 정확도, 정밀도, 재현율 계산"
   ]
  },
  {
   "cell_type": "code",
   "execution_count": 878,
   "id": "1be664d5-8a9a-40d8-99fc-5e6b0cc84d1b",
   "metadata": {
    "tags": []
   },
   "outputs": [
    {
     "name": "stdout",
     "output_type": "stream",
     "text": [
      "accuarcy : 0.84\n",
      "precision : 0.86\n",
      "precision of 0 : 0.83, precision of 0 :  0.86\n",
      "recall of 0: 0.90, recall of 1: 0.76\n",
      "F1-score of 0: 0.86, F1-score of 1: 0.81\n"
     ]
    }
   ],
   "source": [
    "print(f\"accuarcy : {accuracy_score(y_test,y_pred):.2f}\")\n",
    "pre = precision_score(y_test,y_pred,average=\"binary\")\n",
    "pre2 = precision_score(y_test,y_pred,average=None)\n",
    "print(f\"precision : {pre :.2f}\")\n",
    "print(f\"precision of 0 : {pre2[0] :.2f}, precision of 0 : {pre2[1] : .2f}\")\n",
    "print(f\"recall of 0: {recall_score(y_test,y_pred,average=None)[0]:.2f}, recall of 1: {recall_score(y_test,y_pred,average=None)[1]:.2f}\")\n",
    "print(f\"F1-score of 0: {f1_score(y_test,y_pred,average=None)[0]:.2f}, F1-score of 1: {f1_score(y_test,y_pred,average=None)[1]:.2f}\")"
   ]
  },
  {
   "cell_type": "markdown",
   "id": "3e96531c-fd32-47f5-a807-6849ea2a2ce5",
   "metadata": {},
   "source": [
    "***"
   ]
  },
  {
   "cell_type": "markdown",
   "id": "c3fa08da-6b80-4467-a8c4-a16b00fa1dba",
   "metadata": {},
   "source": [
    "# Excercise. 2"
   ]
  },
  {
   "cell_type": "markdown",
   "id": "f699512b-cffb-49ef-9c9f-94b4ecc358d7",
   "metadata": {},
   "source": [
    "## 0. import"
   ]
  },
  {
   "cell_type": "code",
   "execution_count": 879,
   "id": "a7f65a2d-1b8b-4f8d-83b2-5f703fa36df6",
   "metadata": {
    "tags": []
   },
   "outputs": [],
   "source": [
    "# | code-fold : true\n",
    "import numpy as np\n",
    "import pandas as pd\n",
    "\n",
    "import warnings\n",
    "import plotly.express as px\n",
    "import plotly.io as pio\n",
    "pio.renderers.default = \"plotly_mimetype+notebook_connected\"\n",
    "\n",
    "import statsmodels.api as sm\n",
    "from ISLP.models import (ModelSpec as MS,\n",
    "summarize,poly)\n",
    "from sklearn.metrics import * ## 모델 평가지표\n",
    "from sklearn.model_selection import train_test_split"
   ]
  },
  {
   "cell_type": "markdown",
   "id": "0bd72f20-d924-49aa-b020-f22e15bdfb22",
   "metadata": {},
   "source": [
    "## 1. 데이터 로드 및 EDA"
   ]
  },
  {
   "cell_type": "code",
   "execution_count": 880,
   "id": "aba7d2e3-fbef-4021-b2be-0a52f28e79b6",
   "metadata": {
    "tags": []
   },
   "outputs": [],
   "source": [
    "# 데이터 읽어오기\n",
    "path = 'https://raw.githubusercontent.com/Jangrae/csv/master/titanic.csv'\n",
    "data = pd.read_csv(path)"
   ]
  },
  {
   "cell_type": "code",
   "execution_count": 881,
   "id": "cecdaac5-a3ec-467a-82f1-7352700e3013",
   "metadata": {
    "tags": []
   },
   "outputs": [
    {
     "name": "stdout",
     "output_type": "stream",
     "text": [
      "<class 'pandas.core.frame.DataFrame'>\n",
      "RangeIndex: 891 entries, 0 to 890\n",
      "Data columns (total 12 columns):\n",
      " #   Column       Non-Null Count  Dtype  \n",
      "---  ------       --------------  -----  \n",
      " 0   PassengerId  891 non-null    int64  \n",
      " 1   Survived     891 non-null    int64  \n",
      " 2   Pclass       891 non-null    int64  \n",
      " 3   Name         891 non-null    object \n",
      " 4   Sex          891 non-null    object \n",
      " 5   Age          714 non-null    float64\n",
      " 6   SibSp        891 non-null    int64  \n",
      " 7   Parch        891 non-null    int64  \n",
      " 8   Ticket       891 non-null    object \n",
      " 9   Fare         891 non-null    float64\n",
      " 10  Cabin        204 non-null    object \n",
      " 11  Embarked     889 non-null    object \n",
      "dtypes: float64(2), int64(5), object(5)\n",
      "memory usage: 83.7+ KB\n"
     ]
    }
   ],
   "source": [
    "data.info()"
   ]
  },
  {
   "cell_type": "code",
   "execution_count": 882,
   "id": "d1623134-e2a4-4622-a41d-4d77115e3c1a",
   "metadata": {
    "tags": []
   },
   "outputs": [
    {
     "data": {
      "text/plain": [
       "PassengerId      0\n",
       "Survived         0\n",
       "Pclass           0\n",
       "Name             0\n",
       "Sex              0\n",
       "Age            177\n",
       "SibSp            0\n",
       "Parch            0\n",
       "Ticket           0\n",
       "Fare             0\n",
       "Cabin          687\n",
       "Embarked         2\n",
       "dtype: int64"
      ]
     },
     "execution_count": 882,
     "metadata": {},
     "output_type": "execute_result"
    }
   ],
   "source": [
    "data.isna().sum()"
   ]
  },
  {
   "cell_type": "markdown",
   "id": "5fb26a48-2aaa-4442-9de5-9208b3b4c340",
   "metadata": {},
   "source": [
    "## 2. 데이터 전처리"
   ]
  },
  {
   "cell_type": "markdown",
   "id": "588f3beb-5aea-4a73-9918-ac8708c2dfe6",
   "metadata": {},
   "source": [
    "`-` 필요없는 변수 제거"
   ]
  },
  {
   "cell_type": "code",
   "execution_count": 883,
   "id": "cc0a6238-5d10-4728-8664-0f8837f010e6",
   "metadata": {
    "tags": []
   },
   "outputs": [],
   "source": [
    "# Title  열 추가 (이름에서 Mr, Mrs)만 뽑기\n",
    "\n",
    "data[\"Title\"] = data[\"Name\"].str.extract(\"([a-zA-z]+)\\.\")"
   ]
  },
  {
   "cell_type": "markdown",
   "id": "3d159e98-ff04-4a32-ba3e-a8c763f41e4d",
   "metadata": {},
   "source": [
    "`-` Master까지만 자르고 나머지를 others로 묶어버리자"
   ]
  },
  {
   "cell_type": "code",
   "execution_count": 884,
   "id": "208eef2a-3f3a-486a-92fc-71c482f4aef8",
   "metadata": {
    "tags": []
   },
   "outputs": [
    {
     "data": {
      "text/plain": [
       "Title\n",
       "Mr          517\n",
       "Miss        182\n",
       "Mrs         125\n",
       "Master       40\n",
       "Dr            7\n",
       "Rev           6\n",
       "Mlle          2\n",
       "Major         2\n",
       "Col           2\n",
       "Countess      1\n",
       "Capt          1\n",
       "Ms            1\n",
       "Sir           1\n",
       "Lady          1\n",
       "Mme           1\n",
       "Don           1\n",
       "Jonkheer      1\n",
       "Name: count, dtype: int64"
      ]
     },
     "execution_count": 884,
     "metadata": {},
     "output_type": "execute_result"
    }
   ],
   "source": [
    "data.Title.value_counts()"
   ]
  },
  {
   "cell_type": "code",
   "execution_count": 885,
   "id": "a02eb13d-b497-4534-a14d-9aa8eda26147",
   "metadata": {
    "tags": []
   },
   "outputs": [],
   "source": [
    "main_title = [\"Mr\",\"Miss\",\"Mrs\",\"Master\"]\n",
    "\n",
    "\n",
    "data.loc[data['Title'].isin(main_title)==False, 'Title'] = 'Others'"
   ]
  },
  {
   "cell_type": "code",
   "execution_count": 886,
   "id": "62671863-567b-4197-8763-bd452630f92b",
   "metadata": {
    "tags": []
   },
   "outputs": [
    {
     "data": {
      "text/plain": [
       "Title\n",
       "Mr        517\n",
       "Miss      182\n",
       "Mrs       125\n",
       "Master     40\n",
       "Others     27\n",
       "Name: count, dtype: int64"
      ]
     },
     "execution_count": 886,
     "metadata": {},
     "output_type": "execute_result"
    }
   ],
   "source": [
    "data.Title.value_counts()"
   ]
  },
  {
   "cell_type": "markdown",
   "id": "647ec568-d401-4d98-b782-d7abe936a388",
   "metadata": {},
   "source": [
    "`-` 삭제할 컬럼 지정"
   ]
  },
  {
   "cell_type": "code",
   "execution_count": 887,
   "id": "0135ee01-7737-428e-9ab8-8047176bdeea",
   "metadata": {
    "tags": []
   },
   "outputs": [
    {
     "data": {
      "text/html": [
       "<div>\n",
       "<style scoped>\n",
       "    .dataframe tbody tr th:only-of-type {\n",
       "        vertical-align: middle;\n",
       "    }\n",
       "\n",
       "    .dataframe tbody tr th {\n",
       "        vertical-align: top;\n",
       "    }\n",
       "\n",
       "    .dataframe thead th {\n",
       "        text-align: right;\n",
       "    }\n",
       "</style>\n",
       "<table border=\"1\" class=\"dataframe\">\n",
       "  <thead>\n",
       "    <tr style=\"text-align: right;\">\n",
       "      <th></th>\n",
       "      <th>Survived</th>\n",
       "      <th>Pclass</th>\n",
       "      <th>Sex</th>\n",
       "      <th>Age</th>\n",
       "      <th>SibSp</th>\n",
       "      <th>Parch</th>\n",
       "      <th>Fare</th>\n",
       "      <th>Embarked</th>\n",
       "      <th>Title</th>\n",
       "    </tr>\n",
       "  </thead>\n",
       "  <tbody>\n",
       "    <tr>\n",
       "      <th>0</th>\n",
       "      <td>0</td>\n",
       "      <td>3</td>\n",
       "      <td>male</td>\n",
       "      <td>22.0</td>\n",
       "      <td>1</td>\n",
       "      <td>0</td>\n",
       "      <td>7.2500</td>\n",
       "      <td>S</td>\n",
       "      <td>Mr</td>\n",
       "    </tr>\n",
       "    <tr>\n",
       "      <th>1</th>\n",
       "      <td>1</td>\n",
       "      <td>1</td>\n",
       "      <td>female</td>\n",
       "      <td>38.0</td>\n",
       "      <td>1</td>\n",
       "      <td>0</td>\n",
       "      <td>71.2833</td>\n",
       "      <td>C</td>\n",
       "      <td>Mrs</td>\n",
       "    </tr>\n",
       "    <tr>\n",
       "      <th>2</th>\n",
       "      <td>1</td>\n",
       "      <td>3</td>\n",
       "      <td>female</td>\n",
       "      <td>26.0</td>\n",
       "      <td>0</td>\n",
       "      <td>0</td>\n",
       "      <td>7.9250</td>\n",
       "      <td>S</td>\n",
       "      <td>Miss</td>\n",
       "    </tr>\n",
       "    <tr>\n",
       "      <th>3</th>\n",
       "      <td>1</td>\n",
       "      <td>1</td>\n",
       "      <td>female</td>\n",
       "      <td>35.0</td>\n",
       "      <td>1</td>\n",
       "      <td>0</td>\n",
       "      <td>53.1000</td>\n",
       "      <td>S</td>\n",
       "      <td>Mrs</td>\n",
       "    </tr>\n",
       "    <tr>\n",
       "      <th>4</th>\n",
       "      <td>0</td>\n",
       "      <td>3</td>\n",
       "      <td>male</td>\n",
       "      <td>35.0</td>\n",
       "      <td>0</td>\n",
       "      <td>0</td>\n",
       "      <td>8.0500</td>\n",
       "      <td>S</td>\n",
       "      <td>Mr</td>\n",
       "    </tr>\n",
       "  </tbody>\n",
       "</table>\n",
       "</div>"
      ],
      "text/plain": [
       "   Survived  Pclass     Sex   Age  SibSp  Parch     Fare Embarked Title\n",
       "0         0       3    male  22.0      1      0   7.2500        S    Mr\n",
       "1         1       1  female  38.0      1      0  71.2833        C   Mrs\n",
       "2         1       3  female  26.0      0      0   7.9250        S  Miss\n",
       "3         1       1  female  35.0      1      0  53.1000        S   Mrs\n",
       "4         0       3    male  35.0      0      0   8.0500        S    Mr"
      ]
     },
     "execution_count": 887,
     "metadata": {},
     "output_type": "execute_result"
    }
   ],
   "source": [
    "d_cols = [\"PassengerId\", \"Name\", \"Ticket\", \"Cabin\"]\n",
    "\n",
    "data.drop(d_cols, axis=1,inplace=True)\n",
    "data.head()"
   ]
  },
  {
   "cell_type": "markdown",
   "id": "bde53881-8f1f-4162-98c0-e8793e1ed7e7",
   "metadata": {},
   "source": [
    "`-` 결측치 채우기"
   ]
  },
  {
   "cell_type": "code",
   "execution_count": 888,
   "id": "317c4710-0d0f-420c-8e22-c6f8f846bb63",
   "metadata": {
    "tags": []
   },
   "outputs": [],
   "source": [
    "## 탑승자 Title별, 나이의 중앙값.\n",
    "## 4개의 값을 transform을 이용하여 전체의 행의 개수로 맞추고 결측치를 채운다.\n",
    "title_age_median = data.groupby(\"Title\")[\"Age\"].transform(\"median\")"
   ]
  },
  {
   "cell_type": "code",
   "execution_count": 889,
   "id": "c8bbf987-fc1b-483f-bcc5-ac9be9003d42",
   "metadata": {
    "tags": []
   },
   "outputs": [
    {
     "data": {
      "text/plain": [
       "array([30. , 35. , 21. ,  3.5, 44.5])"
      ]
     },
     "execution_count": 889,
     "metadata": {},
     "output_type": "execute_result"
    }
   ],
   "source": [
    "title_age_median.unique()"
   ]
  },
  {
   "cell_type": "code",
   "execution_count": 890,
   "id": "0c601f4d-1a1d-4c8e-acce-af0baa839493",
   "metadata": {
    "tags": []
   },
   "outputs": [],
   "source": [
    "# Age 결측치를 각 title의 중앙값으로 바꾸기\n",
    "\n",
    "data.Age.fillna(title_age_median, inplace=True)\n",
    "\n",
    "# Embarked 최빈값 'S'로 채우기\n",
    "\n",
    "data.Embarked.fillna(value = \"S\", inplace=True)"
   ]
  },
  {
   "cell_type": "code",
   "execution_count": 891,
   "id": "d2c33c83-46e7-45ad-89f7-5e29ad240a63",
   "metadata": {
    "tags": []
   },
   "outputs": [
    {
     "data": {
      "text/plain": [
       "Survived    0\n",
       "Pclass      0\n",
       "Sex         0\n",
       "Age         0\n",
       "SibSp       0\n",
       "Parch       0\n",
       "Fare        0\n",
       "Embarked    0\n",
       "Title       0\n",
       "dtype: int64"
      ]
     },
     "execution_count": 891,
     "metadata": {},
     "output_type": "execute_result"
    }
   ],
   "source": [
    "data.isna().sum()"
   ]
  },
  {
   "cell_type": "markdown",
   "id": "761157f5-0796-4cec-bc45-eaf02b7ea773",
   "metadata": {
    "tags": []
   },
   "source": [
    "## 3. 데이터 분리 및 가변수화"
   ]
  },
  {
   "cell_type": "code",
   "execution_count": 892,
   "id": "9560d784-347a-4372-a7a5-026b6cbeeec2",
   "metadata": {
    "tags": []
   },
   "outputs": [],
   "source": [
    "target = \"Survived\"\n",
    "\n",
    "x = data.drop(target, axis=1)\n",
    "y = data[target]\n",
    "\n",
    "d_cols = [\"Pclass\", \"Sex\", \"Embarked\", \"Title\"]\n",
    "\n",
    "x = pd.get_dummies(x, columns = d_cols, drop_first = True, dtype=float)"
   ]
  },
  {
   "cell_type": "markdown",
   "id": "9fe3c44a-8d21-48e6-9bcf-92ad1e76b859",
   "metadata": {},
   "source": [
    "## 4. 훈련 및 평가"
   ]
  },
  {
   "cell_type": "code",
   "execution_count": 893,
   "id": "8c2466a7-391e-410e-8ad1-43c177172382",
   "metadata": {
    "tags": []
   },
   "outputs": [],
   "source": [
    "x_train, x_test, y_train, y_test = train_test_split(x,y, random_state=1, test_size=0.3)"
   ]
  },
  {
   "cell_type": "markdown",
   "id": "7d2db2b8-2116-4062-b5c6-0503ffdf329f",
   "metadata": {},
   "source": [
    "## 5. 모델링 KNN"
   ]
  },
  {
   "cell_type": "code",
   "execution_count": 894,
   "id": "f6e0e427-5226-48f9-aca4-b00118ce65e4",
   "metadata": {
    "tags": []
   },
   "outputs": [
    {
     "name": "stdout",
     "output_type": "stream",
     "text": [
      "<class 'pandas.core.frame.DataFrame'>\n",
      "Index: 623 entries, 114 to 37\n",
      "Data columns (total 13 columns):\n",
      " #   Column        Non-Null Count  Dtype  \n",
      "---  ------        --------------  -----  \n",
      " 0   Age           623 non-null    float64\n",
      " 1   SibSp         623 non-null    int64  \n",
      " 2   Parch         623 non-null    int64  \n",
      " 3   Fare          623 non-null    float64\n",
      " 4   Pclass_2      623 non-null    float64\n",
      " 5   Pclass_3      623 non-null    float64\n",
      " 6   Sex_male      623 non-null    float64\n",
      " 7   Embarked_Q    623 non-null    float64\n",
      " 8   Embarked_S    623 non-null    float64\n",
      " 9   Title_Miss    623 non-null    float64\n",
      " 10  Title_Mr      623 non-null    float64\n",
      " 11  Title_Mrs     623 non-null    float64\n",
      " 12  Title_Others  623 non-null    float64\n",
      "dtypes: float64(11), int64(2)\n",
      "memory usage: 68.1 KB\n"
     ]
    }
   ],
   "source": [
    "x_train.info()"
   ]
  },
  {
   "cell_type": "code",
   "execution_count": 895,
   "id": "714e7071-9566-41e9-a75e-fa83ccbc3fec",
   "metadata": {
    "tags": []
   },
   "outputs": [],
   "source": [
    "# 1단계: 불러오기\n",
    "from sklearn.neighbors import KNeighborsClassifier\n",
    "\n",
    "# 2단계: 선언하기\n",
    "model = KNeighborsClassifier()\n",
    "\n",
    "# 3단계: 학습하기\n",
    "model.fit(x_train, y_train)\n",
    "\n",
    "# 4단계: 예측하기\n",
    "y_pred = model.predict(x_test.values)"
   ]
  },
  {
   "cell_type": "markdown",
   "id": "9a9edf8a-2cd2-4346-8bc3-d683cbdfd6ac",
   "metadata": {},
   "source": [
    "## 6. 분류 성능 평가"
   ]
  },
  {
   "cell_type": "code",
   "execution_count": 896,
   "id": "6b2db5c4-d9cb-4955-9658-729da84278ff",
   "metadata": {
    "tags": []
   },
   "outputs": [],
   "source": [
    "from sklearn.metrics import *\n",
    "\n",
    "\n",
    "acc = accuracy_score(y_pred, y_test)\n",
    "pre = precision_score(y_pred,y_test,average = None)\n",
    "re = recall_score(y_pred,y_test,average = None)\n",
    "f = f1_score(y_pred,y_test,average = None)"
   ]
  },
  {
   "cell_type": "code",
   "execution_count": 897,
   "id": "8ec1108d-c3e1-47c5-a4b7-5a6b25a1281c",
   "metadata": {
    "tags": []
   },
   "outputs": [],
   "source": [
    "died = pd.DataFrame({\"measure\" : [\"acc\",\"precision\",\"recall\",\"f1-score\"],\n",
    "              \"value\" : [acc, pre[0], re[0], f[0]],\n",
    "              \"label\" : [\"died\"]*4})\n",
    "\n",
    "survived = pd.DataFrame({\"measure\" : [\"acc\",\"precision\",\"recall\",\"f1-score\"],\n",
    "              \"value\" : [acc, pre[1], re[1], f[1]],\n",
    "              \"label\" : [\"Survived\"]*4})"
   ]
  },
  {
   "cell_type": "code",
   "execution_count": 898,
   "id": "e1d4939d-b87e-4c0b-a89e-fef27b990568",
   "metadata": {
    "tags": []
   },
   "outputs": [
    {
     "data": {
      "text/html": [
       "<div>\n",
       "<style scoped>\n",
       "    .dataframe tbody tr th:only-of-type {\n",
       "        vertical-align: middle;\n",
       "    }\n",
       "\n",
       "    .dataframe tbody tr th {\n",
       "        vertical-align: top;\n",
       "    }\n",
       "\n",
       "    .dataframe thead th {\n",
       "        text-align: right;\n",
       "    }\n",
       "</style>\n",
       "<table border=\"1\" class=\"dataframe\">\n",
       "  <thead>\n",
       "    <tr style=\"text-align: right;\">\n",
       "      <th></th>\n",
       "      <th>measure</th>\n",
       "      <th>value</th>\n",
       "      <th>label</th>\n",
       "    </tr>\n",
       "  </thead>\n",
       "  <tbody>\n",
       "    <tr>\n",
       "      <th>0</th>\n",
       "      <td>acc</td>\n",
       "      <td>0.686567</td>\n",
       "      <td>died</td>\n",
       "    </tr>\n",
       "    <tr>\n",
       "      <th>1</th>\n",
       "      <td>precision</td>\n",
       "      <td>0.823529</td>\n",
       "      <td>died</td>\n",
       "    </tr>\n",
       "    <tr>\n",
       "      <th>2</th>\n",
       "      <td>recall</td>\n",
       "      <td>0.688525</td>\n",
       "      <td>died</td>\n",
       "    </tr>\n",
       "    <tr>\n",
       "      <th>3</th>\n",
       "      <td>f1-score</td>\n",
       "      <td>0.750000</td>\n",
       "      <td>died</td>\n",
       "    </tr>\n",
       "    <tr>\n",
       "      <th>0</th>\n",
       "      <td>acc</td>\n",
       "      <td>0.686567</td>\n",
       "      <td>Survived</td>\n",
       "    </tr>\n",
       "    <tr>\n",
       "      <th>1</th>\n",
       "      <td>precision</td>\n",
       "      <td>0.504348</td>\n",
       "      <td>Survived</td>\n",
       "    </tr>\n",
       "    <tr>\n",
       "      <th>2</th>\n",
       "      <td>recall</td>\n",
       "      <td>0.682353</td>\n",
       "      <td>Survived</td>\n",
       "    </tr>\n",
       "    <tr>\n",
       "      <th>3</th>\n",
       "      <td>f1-score</td>\n",
       "      <td>0.580000</td>\n",
       "      <td>Survived</td>\n",
       "    </tr>\n",
       "  </tbody>\n",
       "</table>\n",
       "</div>"
      ],
      "text/plain": [
       "     measure     value     label\n",
       "0        acc  0.686567      died\n",
       "1  precision  0.823529      died\n",
       "2     recall  0.688525      died\n",
       "3   f1-score  0.750000      died\n",
       "0        acc  0.686567  Survived\n",
       "1  precision  0.504348  Survived\n",
       "2     recall  0.682353  Survived\n",
       "3   f1-score  0.580000  Survived"
      ]
     },
     "execution_count": 898,
     "metadata": {},
     "output_type": "execute_result"
    }
   ],
   "source": [
    "pd.concat([died, survived],axis=0)"
   ]
  },
  {
   "cell_type": "code",
   "execution_count": 899,
   "id": "530c46ea-b244-45a1-9964-220c60a411a0",
   "metadata": {
    "tags": []
   },
   "outputs": [
    {
     "data": {
      "text/html": [
       "        <script type=\"text/javascript\">\n",
       "        window.PlotlyConfig = {MathJaxConfig: 'local'};\n",
       "        if (window.MathJax && window.MathJax.Hub && window.MathJax.Hub.Config) {window.MathJax.Hub.Config({SVG: {font: \"STIX-Web\"}});}\n",
       "        if (typeof require !== 'undefined') {\n",
       "        require.undef(\"plotly\");\n",
       "        requirejs.config({\n",
       "            paths: {\n",
       "                'plotly': ['https://cdn.plot.ly/plotly-2.25.2.min']\n",
       "            }\n",
       "        });\n",
       "        require(['plotly'], function(Plotly) {\n",
       "            window._Plotly = Plotly;\n",
       "        });\n",
       "        }\n",
       "        </script>\n",
       "        "
      ]
     },
     "metadata": {},
     "output_type": "display_data"
    },
    {
     "data": {
      "application/vnd.plotly.v1+json": {
       "config": {
        "plotlyServerURL": "https://plot.ly"
       },
       "data": [
        {
         "alignmentgroup": "True",
         "hovertemplate": "label=%{x}<br>measure=acc<br>value=%{y}<extra></extra>",
         "legendgroup": "died",
         "marker": {
          "color": "#636efa",
          "pattern": {
           "shape": ""
          }
         },
         "name": "died",
         "offsetgroup": "died",
         "orientation": "v",
         "showlegend": true,
         "textposition": "auto",
         "type": "bar",
         "x": [
          "died"
         ],
         "xaxis": "x3",
         "y": [
          0.6865671641791045
         ],
         "yaxis": "y3"
        },
        {
         "alignmentgroup": "True",
         "hovertemplate": "label=%{x}<br>measure=precision<br>value=%{y}<extra></extra>",
         "legendgroup": "died",
         "marker": {
          "color": "#636efa",
          "pattern": {
           "shape": ""
          }
         },
         "name": "died",
         "offsetgroup": "died",
         "orientation": "v",
         "showlegend": false,
         "textposition": "auto",
         "type": "bar",
         "x": [
          "died"
         ],
         "xaxis": "x4",
         "y": [
          0.8235294117647058
         ],
         "yaxis": "y4"
        },
        {
         "alignmentgroup": "True",
         "hovertemplate": "label=%{x}<br>measure=recall<br>value=%{y}<extra></extra>",
         "legendgroup": "died",
         "marker": {
          "color": "#636efa",
          "pattern": {
           "shape": ""
          }
         },
         "name": "died",
         "offsetgroup": "died",
         "orientation": "v",
         "showlegend": false,
         "textposition": "auto",
         "type": "bar",
         "x": [
          "died"
         ],
         "xaxis": "x",
         "y": [
          0.6885245901639344
         ],
         "yaxis": "y"
        },
        {
         "alignmentgroup": "True",
         "hovertemplate": "label=%{x}<br>measure=f1-score<br>value=%{y}<extra></extra>",
         "legendgroup": "died",
         "marker": {
          "color": "#636efa",
          "pattern": {
           "shape": ""
          }
         },
         "name": "died",
         "offsetgroup": "died",
         "orientation": "v",
         "showlegend": false,
         "textposition": "auto",
         "type": "bar",
         "x": [
          "died"
         ],
         "xaxis": "x2",
         "y": [
          0.7499999999999999
         ],
         "yaxis": "y2"
        },
        {
         "alignmentgroup": "True",
         "hovertemplate": "label=%{x}<br>measure=acc<br>value=%{y}<extra></extra>",
         "legendgroup": "Survived",
         "marker": {
          "color": "#EF553B",
          "pattern": {
           "shape": ""
          }
         },
         "name": "Survived",
         "offsetgroup": "Survived",
         "orientation": "v",
         "showlegend": true,
         "textposition": "auto",
         "type": "bar",
         "visible": true,
         "x": [
          "Survived"
         ],
         "xaxis": "x3",
         "y": [
          0.6865671641791045
         ],
         "yaxis": "y3"
        },
        {
         "alignmentgroup": "True",
         "hovertemplate": "label=%{x}<br>measure=precision<br>value=%{y}<extra></extra>",
         "legendgroup": "Survived",
         "marker": {
          "color": "#EF553B",
          "pattern": {
           "shape": ""
          }
         },
         "name": "Survived",
         "offsetgroup": "Survived",
         "orientation": "v",
         "showlegend": false,
         "textposition": "auto",
         "type": "bar",
         "visible": true,
         "x": [
          "Survived"
         ],
         "xaxis": "x4",
         "y": [
          0.5043478260869565
         ],
         "yaxis": "y4"
        },
        {
         "alignmentgroup": "True",
         "hovertemplate": "label=%{x}<br>measure=recall<br>value=%{y}<extra></extra>",
         "legendgroup": "Survived",
         "marker": {
          "color": "#EF553B",
          "pattern": {
           "shape": ""
          }
         },
         "name": "Survived",
         "offsetgroup": "Survived",
         "orientation": "v",
         "showlegend": false,
         "textposition": "auto",
         "type": "bar",
         "visible": true,
         "x": [
          "Survived"
         ],
         "xaxis": "x",
         "y": [
          0.6823529411764706
         ],
         "yaxis": "y"
        },
        {
         "alignmentgroup": "True",
         "hovertemplate": "label=%{x}<br>measure=f1-score<br>value=%{y}<extra></extra>",
         "legendgroup": "Survived",
         "marker": {
          "color": "#EF553B",
          "pattern": {
           "shape": ""
          }
         },
         "name": "Survived",
         "offsetgroup": "Survived",
         "orientation": "v",
         "showlegend": false,
         "textposition": "auto",
         "type": "bar",
         "visible": true,
         "x": [
          "Survived"
         ],
         "xaxis": "x2",
         "y": [
          0.58
         ],
         "yaxis": "y2"
        }
       ],
       "layout": {
        "annotations": [
         {
          "font": {},
          "showarrow": false,
          "text": "measure=recall",
          "x": 0.245,
          "xanchor": "center",
          "xref": "paper",
          "y": 0.46499999999999997,
          "yanchor": "bottom",
          "yref": "paper"
         },
         {
          "font": {},
          "showarrow": false,
          "text": "measure=f1-score",
          "x": 0.755,
          "xanchor": "center",
          "xref": "paper",
          "y": 0.46499999999999997,
          "yanchor": "bottom",
          "yref": "paper"
         },
         {
          "font": {},
          "showarrow": false,
          "text": "measure=acc",
          "x": 0.245,
          "xanchor": "center",
          "xref": "paper",
          "y": 0.9999999999999999,
          "yanchor": "bottom",
          "yref": "paper"
         },
         {
          "font": {},
          "showarrow": false,
          "text": "measure=precision",
          "x": 0.755,
          "xanchor": "center",
          "xref": "paper",
          "y": 0.9999999999999999,
          "yanchor": "bottom",
          "yref": "paper"
         }
        ],
        "barmode": "relative",
        "height": 500,
        "legend": {
         "title": {
          "text": "label"
         },
         "tracegroupgap": 0
        },
        "margin": {
         "t": 60
        },
        "template": {
         "data": {
          "bar": [
           {
            "error_x": {
             "color": "#2a3f5f"
            },
            "error_y": {
             "color": "#2a3f5f"
            },
            "marker": {
             "line": {
              "color": "#E5ECF6",
              "width": 0.5
             },
             "pattern": {
              "fillmode": "overlay",
              "size": 10,
              "solidity": 0.2
             }
            },
            "type": "bar"
           }
          ],
          "barpolar": [
           {
            "marker": {
             "line": {
              "color": "#E5ECF6",
              "width": 0.5
             },
             "pattern": {
              "fillmode": "overlay",
              "size": 10,
              "solidity": 0.2
             }
            },
            "type": "barpolar"
           }
          ],
          "carpet": [
           {
            "aaxis": {
             "endlinecolor": "#2a3f5f",
             "gridcolor": "white",
             "linecolor": "white",
             "minorgridcolor": "white",
             "startlinecolor": "#2a3f5f"
            },
            "baxis": {
             "endlinecolor": "#2a3f5f",
             "gridcolor": "white",
             "linecolor": "white",
             "minorgridcolor": "white",
             "startlinecolor": "#2a3f5f"
            },
            "type": "carpet"
           }
          ],
          "choropleth": [
           {
            "colorbar": {
             "outlinewidth": 0,
             "ticks": ""
            },
            "type": "choropleth"
           }
          ],
          "contour": [
           {
            "colorbar": {
             "outlinewidth": 0,
             "ticks": ""
            },
            "colorscale": [
             [
              0,
              "#0d0887"
             ],
             [
              0.1111111111111111,
              "#46039f"
             ],
             [
              0.2222222222222222,
              "#7201a8"
             ],
             [
              0.3333333333333333,
              "#9c179e"
             ],
             [
              0.4444444444444444,
              "#bd3786"
             ],
             [
              0.5555555555555556,
              "#d8576b"
             ],
             [
              0.6666666666666666,
              "#ed7953"
             ],
             [
              0.7777777777777778,
              "#fb9f3a"
             ],
             [
              0.8888888888888888,
              "#fdca26"
             ],
             [
              1,
              "#f0f921"
             ]
            ],
            "type": "contour"
           }
          ],
          "contourcarpet": [
           {
            "colorbar": {
             "outlinewidth": 0,
             "ticks": ""
            },
            "type": "contourcarpet"
           }
          ],
          "heatmap": [
           {
            "colorbar": {
             "outlinewidth": 0,
             "ticks": ""
            },
            "colorscale": [
             [
              0,
              "#0d0887"
             ],
             [
              0.1111111111111111,
              "#46039f"
             ],
             [
              0.2222222222222222,
              "#7201a8"
             ],
             [
              0.3333333333333333,
              "#9c179e"
             ],
             [
              0.4444444444444444,
              "#bd3786"
             ],
             [
              0.5555555555555556,
              "#d8576b"
             ],
             [
              0.6666666666666666,
              "#ed7953"
             ],
             [
              0.7777777777777778,
              "#fb9f3a"
             ],
             [
              0.8888888888888888,
              "#fdca26"
             ],
             [
              1,
              "#f0f921"
             ]
            ],
            "type": "heatmap"
           }
          ],
          "heatmapgl": [
           {
            "colorbar": {
             "outlinewidth": 0,
             "ticks": ""
            },
            "colorscale": [
             [
              0,
              "#0d0887"
             ],
             [
              0.1111111111111111,
              "#46039f"
             ],
             [
              0.2222222222222222,
              "#7201a8"
             ],
             [
              0.3333333333333333,
              "#9c179e"
             ],
             [
              0.4444444444444444,
              "#bd3786"
             ],
             [
              0.5555555555555556,
              "#d8576b"
             ],
             [
              0.6666666666666666,
              "#ed7953"
             ],
             [
              0.7777777777777778,
              "#fb9f3a"
             ],
             [
              0.8888888888888888,
              "#fdca26"
             ],
             [
              1,
              "#f0f921"
             ]
            ],
            "type": "heatmapgl"
           }
          ],
          "histogram": [
           {
            "marker": {
             "pattern": {
              "fillmode": "overlay",
              "size": 10,
              "solidity": 0.2
             }
            },
            "type": "histogram"
           }
          ],
          "histogram2d": [
           {
            "colorbar": {
             "outlinewidth": 0,
             "ticks": ""
            },
            "colorscale": [
             [
              0,
              "#0d0887"
             ],
             [
              0.1111111111111111,
              "#46039f"
             ],
             [
              0.2222222222222222,
              "#7201a8"
             ],
             [
              0.3333333333333333,
              "#9c179e"
             ],
             [
              0.4444444444444444,
              "#bd3786"
             ],
             [
              0.5555555555555556,
              "#d8576b"
             ],
             [
              0.6666666666666666,
              "#ed7953"
             ],
             [
              0.7777777777777778,
              "#fb9f3a"
             ],
             [
              0.8888888888888888,
              "#fdca26"
             ],
             [
              1,
              "#f0f921"
             ]
            ],
            "type": "histogram2d"
           }
          ],
          "histogram2dcontour": [
           {
            "colorbar": {
             "outlinewidth": 0,
             "ticks": ""
            },
            "colorscale": [
             [
              0,
              "#0d0887"
             ],
             [
              0.1111111111111111,
              "#46039f"
             ],
             [
              0.2222222222222222,
              "#7201a8"
             ],
             [
              0.3333333333333333,
              "#9c179e"
             ],
             [
              0.4444444444444444,
              "#bd3786"
             ],
             [
              0.5555555555555556,
              "#d8576b"
             ],
             [
              0.6666666666666666,
              "#ed7953"
             ],
             [
              0.7777777777777778,
              "#fb9f3a"
             ],
             [
              0.8888888888888888,
              "#fdca26"
             ],
             [
              1,
              "#f0f921"
             ]
            ],
            "type": "histogram2dcontour"
           }
          ],
          "mesh3d": [
           {
            "colorbar": {
             "outlinewidth": 0,
             "ticks": ""
            },
            "type": "mesh3d"
           }
          ],
          "parcoords": [
           {
            "line": {
             "colorbar": {
              "outlinewidth": 0,
              "ticks": ""
             }
            },
            "type": "parcoords"
           }
          ],
          "pie": [
           {
            "automargin": true,
            "type": "pie"
           }
          ],
          "scatter": [
           {
            "fillpattern": {
             "fillmode": "overlay",
             "size": 10,
             "solidity": 0.2
            },
            "type": "scatter"
           }
          ],
          "scatter3d": [
           {
            "line": {
             "colorbar": {
              "outlinewidth": 0,
              "ticks": ""
             }
            },
            "marker": {
             "colorbar": {
              "outlinewidth": 0,
              "ticks": ""
             }
            },
            "type": "scatter3d"
           }
          ],
          "scattercarpet": [
           {
            "marker": {
             "colorbar": {
              "outlinewidth": 0,
              "ticks": ""
             }
            },
            "type": "scattercarpet"
           }
          ],
          "scattergeo": [
           {
            "marker": {
             "colorbar": {
              "outlinewidth": 0,
              "ticks": ""
             }
            },
            "type": "scattergeo"
           }
          ],
          "scattergl": [
           {
            "marker": {
             "colorbar": {
              "outlinewidth": 0,
              "ticks": ""
             }
            },
            "type": "scattergl"
           }
          ],
          "scattermapbox": [
           {
            "marker": {
             "colorbar": {
              "outlinewidth": 0,
              "ticks": ""
             }
            },
            "type": "scattermapbox"
           }
          ],
          "scatterpolar": [
           {
            "marker": {
             "colorbar": {
              "outlinewidth": 0,
              "ticks": ""
             }
            },
            "type": "scatterpolar"
           }
          ],
          "scatterpolargl": [
           {
            "marker": {
             "colorbar": {
              "outlinewidth": 0,
              "ticks": ""
             }
            },
            "type": "scatterpolargl"
           }
          ],
          "scatterternary": [
           {
            "marker": {
             "colorbar": {
              "outlinewidth": 0,
              "ticks": ""
             }
            },
            "type": "scatterternary"
           }
          ],
          "surface": [
           {
            "colorbar": {
             "outlinewidth": 0,
             "ticks": ""
            },
            "colorscale": [
             [
              0,
              "#0d0887"
             ],
             [
              0.1111111111111111,
              "#46039f"
             ],
             [
              0.2222222222222222,
              "#7201a8"
             ],
             [
              0.3333333333333333,
              "#9c179e"
             ],
             [
              0.4444444444444444,
              "#bd3786"
             ],
             [
              0.5555555555555556,
              "#d8576b"
             ],
             [
              0.6666666666666666,
              "#ed7953"
             ],
             [
              0.7777777777777778,
              "#fb9f3a"
             ],
             [
              0.8888888888888888,
              "#fdca26"
             ],
             [
              1,
              "#f0f921"
             ]
            ],
            "type": "surface"
           }
          ],
          "table": [
           {
            "cells": {
             "fill": {
              "color": "#EBF0F8"
             },
             "line": {
              "color": "white"
             }
            },
            "header": {
             "fill": {
              "color": "#C8D4E3"
             },
             "line": {
              "color": "white"
             }
            },
            "type": "table"
           }
          ]
         },
         "layout": {
          "annotationdefaults": {
           "arrowcolor": "#2a3f5f",
           "arrowhead": 0,
           "arrowwidth": 1
          },
          "autotypenumbers": "strict",
          "coloraxis": {
           "colorbar": {
            "outlinewidth": 0,
            "ticks": ""
           }
          },
          "colorscale": {
           "diverging": [
            [
             0,
             "#8e0152"
            ],
            [
             0.1,
             "#c51b7d"
            ],
            [
             0.2,
             "#de77ae"
            ],
            [
             0.3,
             "#f1b6da"
            ],
            [
             0.4,
             "#fde0ef"
            ],
            [
             0.5,
             "#f7f7f7"
            ],
            [
             0.6,
             "#e6f5d0"
            ],
            [
             0.7,
             "#b8e186"
            ],
            [
             0.8,
             "#7fbc41"
            ],
            [
             0.9,
             "#4d9221"
            ],
            [
             1,
             "#276419"
            ]
           ],
           "sequential": [
            [
             0,
             "#0d0887"
            ],
            [
             0.1111111111111111,
             "#46039f"
            ],
            [
             0.2222222222222222,
             "#7201a8"
            ],
            [
             0.3333333333333333,
             "#9c179e"
            ],
            [
             0.4444444444444444,
             "#bd3786"
            ],
            [
             0.5555555555555556,
             "#d8576b"
            ],
            [
             0.6666666666666666,
             "#ed7953"
            ],
            [
             0.7777777777777778,
             "#fb9f3a"
            ],
            [
             0.8888888888888888,
             "#fdca26"
            ],
            [
             1,
             "#f0f921"
            ]
           ],
           "sequentialminus": [
            [
             0,
             "#0d0887"
            ],
            [
             0.1111111111111111,
             "#46039f"
            ],
            [
             0.2222222222222222,
             "#7201a8"
            ],
            [
             0.3333333333333333,
             "#9c179e"
            ],
            [
             0.4444444444444444,
             "#bd3786"
            ],
            [
             0.5555555555555556,
             "#d8576b"
            ],
            [
             0.6666666666666666,
             "#ed7953"
            ],
            [
             0.7777777777777778,
             "#fb9f3a"
            ],
            [
             0.8888888888888888,
             "#fdca26"
            ],
            [
             1,
             "#f0f921"
            ]
           ]
          },
          "colorway": [
           "#636efa",
           "#EF553B",
           "#00cc96",
           "#ab63fa",
           "#FFA15A",
           "#19d3f3",
           "#FF6692",
           "#B6E880",
           "#FF97FF",
           "#FECB52"
          ],
          "font": {
           "color": "#2a3f5f"
          },
          "geo": {
           "bgcolor": "white",
           "lakecolor": "white",
           "landcolor": "#E5ECF6",
           "showlakes": true,
           "showland": true,
           "subunitcolor": "white"
          },
          "hoverlabel": {
           "align": "left"
          },
          "hovermode": "closest",
          "mapbox": {
           "style": "light"
          },
          "paper_bgcolor": "white",
          "plot_bgcolor": "#E5ECF6",
          "polar": {
           "angularaxis": {
            "gridcolor": "white",
            "linecolor": "white",
            "ticks": ""
           },
           "bgcolor": "#E5ECF6",
           "radialaxis": {
            "gridcolor": "white",
            "linecolor": "white",
            "ticks": ""
           }
          },
          "scene": {
           "xaxis": {
            "backgroundcolor": "#E5ECF6",
            "gridcolor": "white",
            "gridwidth": 2,
            "linecolor": "white",
            "showbackground": true,
            "ticks": "",
            "zerolinecolor": "white"
           },
           "yaxis": {
            "backgroundcolor": "#E5ECF6",
            "gridcolor": "white",
            "gridwidth": 2,
            "linecolor": "white",
            "showbackground": true,
            "ticks": "",
            "zerolinecolor": "white"
           },
           "zaxis": {
            "backgroundcolor": "#E5ECF6",
            "gridcolor": "white",
            "gridwidth": 2,
            "linecolor": "white",
            "showbackground": true,
            "ticks": "",
            "zerolinecolor": "white"
           }
          },
          "shapedefaults": {
           "line": {
            "color": "#2a3f5f"
           }
          },
          "ternary": {
           "aaxis": {
            "gridcolor": "white",
            "linecolor": "white",
            "ticks": ""
           },
           "baxis": {
            "gridcolor": "white",
            "linecolor": "white",
            "ticks": ""
           },
           "bgcolor": "#E5ECF6",
           "caxis": {
            "gridcolor": "white",
            "linecolor": "white",
            "ticks": ""
           }
          },
          "title": {
           "x": 0.05
          },
          "xaxis": {
           "automargin": true,
           "gridcolor": "white",
           "linecolor": "white",
           "ticks": "",
           "title": {
            "standoff": 15
           },
           "zerolinecolor": "white",
           "zerolinewidth": 2
          },
          "yaxis": {
           "automargin": true,
           "gridcolor": "white",
           "linecolor": "white",
           "ticks": "",
           "title": {
            "standoff": 15
           },
           "zerolinecolor": "white",
           "zerolinewidth": 2
          }
         }
        },
        "width": 500,
        "xaxis": {
         "anchor": "y",
         "autorange": true,
         "categoryarray": [
          "died",
          "Survived"
         ],
         "categoryorder": "array",
         "domain": [
          0,
          0.49
         ],
         "range": [
          -0.5,
          1.5
         ],
         "showspikes": false,
         "title": {
          "text": "label"
         },
         "type": "category"
        },
        "xaxis2": {
         "anchor": "y2",
         "autorange": true,
         "categoryarray": [
          "died",
          "Survived"
         ],
         "categoryorder": "array",
         "domain": [
          0.51,
          1
         ],
         "matches": "x",
         "range": [
          -0.5,
          1.5
         ],
         "showspikes": false,
         "title": {
          "text": "label"
         },
         "type": "category"
        },
        "xaxis3": {
         "anchor": "y3",
         "autorange": true,
         "domain": [
          0,
          0.49
         ],
         "matches": "x",
         "range": [
          -0.5,
          1.5
         ],
         "showspikes": false,
         "showticklabels": false,
         "type": "category"
        },
        "xaxis4": {
         "anchor": "y4",
         "autorange": true,
         "domain": [
          0.51,
          1
         ],
         "matches": "x",
         "range": [
          -0.5,
          1.5
         ],
         "showspikes": false,
         "showticklabels": false,
         "type": "category"
        },
        "yaxis": {
         "anchor": "x",
         "autorange": false,
         "domain": [
          0,
          0.46499999999999997
         ],
         "range": [
          0.45,
          0.85
         ],
         "showspikes": false,
         "title": {
          "text": "value"
         },
         "type": "linear"
        },
        "yaxis2": {
         "anchor": "x2",
         "autorange": false,
         "domain": [
          0,
          0.46499999999999997
         ],
         "matches": "y",
         "range": [
          0.45,
          0.85
         ],
         "showspikes": false,
         "showticklabels": false,
         "type": "linear"
        },
        "yaxis3": {
         "anchor": "x3",
         "autorange": false,
         "domain": [
          0.5349999999999999,
          0.9999999999999999
         ],
         "matches": "y",
         "range": [
          0.45,
          0.85
         ],
         "showspikes": false,
         "title": {
          "text": "value"
         },
         "type": "linear"
        },
        "yaxis4": {
         "anchor": "x4",
         "autorange": false,
         "domain": [
          0.5349999999999999,
          0.9999999999999999
         ],
         "matches": "y",
         "range": [
          0.45,
          0.85
         ],
         "showspikes": false,
         "showticklabels": false,
         "type": "linear"
        }
       }
      },
      "image/png": "[encoded data removed]",
      "text/html": [
       "<div>                            <div id=\"c69cf8fb-e763-4b94-8389-491c5a97a24f\" class=\"plotly-graph-div\" style=\"height:500px; width:500px;\"></div>            <script type=\"text/javascript\">                require([\"plotly\"], function(Plotly) {                    window.PLOTLYENV=window.PLOTLYENV || {};                                    if (document.getElementById(\"c69cf8fb-e763-4b94-8389-491c5a97a24f\")) {                    Plotly.newPlot(                        \"c69cf8fb-e763-4b94-8389-491c5a97a24f\",                        [{\"alignmentgroup\":\"True\",\"hovertemplate\":\"label=%{x}\\u003cbr\\u003emeasure=acc\\u003cbr\\u003evalue=%{y}\\u003cextra\\u003e\\u003c\\u002fextra\\u003e\",\"legendgroup\":\"died\",\"marker\":{\"color\":\"#636efa\",\"pattern\":{\"shape\":\"\"}},\"name\":\"died\",\"offsetgroup\":\"died\",\"orientation\":\"v\",\"showlegend\":true,\"textposition\":\"auto\",\"x\":[\"died\"],\"xaxis\":\"x3\",\"y\":[0.6865671641791045],\"yaxis\":\"y3\",\"type\":\"bar\"},{\"alignmentgroup\":\"True\",\"hovertemplate\":\"label=%{x}\\u003cbr\\u003emeasure=precision\\u003cbr\\u003evalue=%{y}\\u003cextra\\u003e\\u003c\\u002fextra\\u003e\",\"legendgroup\":\"died\",\"marker\":{\"color\":\"#636efa\",\"pattern\":{\"shape\":\"\"}},\"name\":\"died\",\"offsetgroup\":\"died\",\"orientation\":\"v\",\"showlegend\":false,\"textposition\":\"auto\",\"x\":[\"died\"],\"xaxis\":\"x4\",\"y\":[0.8235294117647058],\"yaxis\":\"y4\",\"type\":\"bar\"},{\"alignmentgroup\":\"True\",\"hovertemplate\":\"label=%{x}\\u003cbr\\u003emeasure=recall\\u003cbr\\u003evalue=%{y}\\u003cextra\\u003e\\u003c\\u002fextra\\u003e\",\"legendgroup\":\"died\",\"marker\":{\"color\":\"#636efa\",\"pattern\":{\"shape\":\"\"}},\"name\":\"died\",\"offsetgroup\":\"died\",\"orientation\":\"v\",\"showlegend\":false,\"textposition\":\"auto\",\"x\":[\"died\"],\"xaxis\":\"x\",\"y\":[0.6885245901639344],\"yaxis\":\"y\",\"type\":\"bar\"},{\"alignmentgroup\":\"True\",\"hovertemplate\":\"label=%{x}\\u003cbr\\u003emeasure=f1-score\\u003cbr\\u003evalue=%{y}\\u003cextra\\u003e\\u003c\\u002fextra\\u003e\",\"legendgroup\":\"died\",\"marker\":{\"color\":\"#636efa\",\"pattern\":{\"shape\":\"\"}},\"name\":\"died\",\"offsetgroup\":\"died\",\"orientation\":\"v\",\"showlegend\":false,\"textposition\":\"auto\",\"x\":[\"died\"],\"xaxis\":\"x2\",\"y\":[0.7499999999999999],\"yaxis\":\"y2\",\"type\":\"bar\"},{\"alignmentgroup\":\"True\",\"hovertemplate\":\"label=%{x}\\u003cbr\\u003emeasure=acc\\u003cbr\\u003evalue=%{y}\\u003cextra\\u003e\\u003c\\u002fextra\\u003e\",\"legendgroup\":\"Survived\",\"marker\":{\"color\":\"#EF553B\",\"pattern\":{\"shape\":\"\"}},\"name\":\"Survived\",\"offsetgroup\":\"Survived\",\"orientation\":\"v\",\"showlegend\":true,\"textposition\":\"auto\",\"x\":[\"Survived\"],\"xaxis\":\"x3\",\"y\":[0.6865671641791045],\"yaxis\":\"y3\",\"type\":\"bar\"},{\"alignmentgroup\":\"True\",\"hovertemplate\":\"label=%{x}\\u003cbr\\u003emeasure=precision\\u003cbr\\u003evalue=%{y}\\u003cextra\\u003e\\u003c\\u002fextra\\u003e\",\"legendgroup\":\"Survived\",\"marker\":{\"color\":\"#EF553B\",\"pattern\":{\"shape\":\"\"}},\"name\":\"Survived\",\"offsetgroup\":\"Survived\",\"orientation\":\"v\",\"showlegend\":false,\"textposition\":\"auto\",\"x\":[\"Survived\"],\"xaxis\":\"x4\",\"y\":[0.5043478260869565],\"yaxis\":\"y4\",\"type\":\"bar\"},{\"alignmentgroup\":\"True\",\"hovertemplate\":\"label=%{x}\\u003cbr\\u003emeasure=recall\\u003cbr\\u003evalue=%{y}\\u003cextra\\u003e\\u003c\\u002fextra\\u003e\",\"legendgroup\":\"Survived\",\"marker\":{\"color\":\"#EF553B\",\"pattern\":{\"shape\":\"\"}},\"name\":\"Survived\",\"offsetgroup\":\"Survived\",\"orientation\":\"v\",\"showlegend\":false,\"textposition\":\"auto\",\"x\":[\"Survived\"],\"xaxis\":\"x\",\"y\":[0.6823529411764706],\"yaxis\":\"y\",\"type\":\"bar\"},{\"alignmentgroup\":\"True\",\"hovertemplate\":\"label=%{x}\\u003cbr\\u003emeasure=f1-score\\u003cbr\\u003evalue=%{y}\\u003cextra\\u003e\\u003c\\u002fextra\\u003e\",\"legendgroup\":\"Survived\",\"marker\":{\"color\":\"#EF553B\",\"pattern\":{\"shape\":\"\"}},\"name\":\"Survived\",\"offsetgroup\":\"Survived\",\"orientation\":\"v\",\"showlegend\":false,\"textposition\":\"auto\",\"x\":[\"Survived\"],\"xaxis\":\"x2\",\"y\":[0.58],\"yaxis\":\"y2\",\"type\":\"bar\"}],                        {\"template\":{\"data\":{\"histogram2dcontour\":[{\"type\":\"histogram2dcontour\",\"colorbar\":{\"outlinewidth\":0,\"ticks\":\"\"},\"colorscale\":[[0.0,\"#0d0887\"],[0.1111111111111111,\"#46039f\"],[0.2222222222222222,\"#7201a8\"],[0.3333333333333333,\"#9c179e\"],[0.4444444444444444,\"#bd3786\"],[0.5555555555555556,\"#d8576b\"],[0.6666666666666666,\"#ed7953\"],[0.7777777777777778,\"#fb9f3a\"],[0.8888888888888888,\"#fdca26\"],[1.0,\"#f0f921\"]]}],\"choropleth\":[{\"type\":\"choropleth\",\"colorbar\":{\"outlinewidth\":0,\"ticks\":\"\"}}],\"histogram2d\":[{\"type\":\"histogram2d\",\"colorbar\":{\"outlinewidth\":0,\"ticks\":\"\"},\"colorscale\":[[0.0,\"#0d0887\"],[0.1111111111111111,\"#46039f\"],[0.2222222222222222,\"#7201a8\"],[0.3333333333333333,\"#9c179e\"],[0.4444444444444444,\"#bd3786\"],[0.5555555555555556,\"#d8576b\"],[0.6666666666666666,\"#ed7953\"],[0.7777777777777778,\"#fb9f3a\"],[0.8888888888888888,\"#fdca26\"],[1.0,\"#f0f921\"]]}],\"heatmap\":[{\"type\":\"heatmap\",\"colorbar\":{\"outlinewidth\":0,\"ticks\":\"\"},\"colorscale\":[[0.0,\"#0d0887\"],[0.1111111111111111,\"#46039f\"],[0.2222222222222222,\"#7201a8\"],[0.3333333333333333,\"#9c179e\"],[0.4444444444444444,\"#bd3786\"],[0.5555555555555556,\"#d8576b\"],[0.6666666666666666,\"#ed7953\"],[0.7777777777777778,\"#fb9f3a\"],[0.8888888888888888,\"#fdca26\"],[1.0,\"#f0f921\"]]}],\"heatmapgl\":[{\"type\":\"heatmapgl\",\"colorbar\":{\"outlinewidth\":0,\"ticks\":\"\"},\"colorscale\":[[0.0,\"#0d0887\"],[0.1111111111111111,\"#46039f\"],[0.2222222222222222,\"#7201a8\"],[0.3333333333333333,\"#9c179e\"],[0.4444444444444444,\"#bd3786\"],[0.5555555555555556,\"#d8576b\"],[0.6666666666666666,\"#ed7953\"],[0.7777777777777778,\"#fb9f3a\"],[0.8888888888888888,\"#fdca26\"],[1.0,\"#f0f921\"]]}],\"contourcarpet\":[{\"type\":\"contourcarpet\",\"colorbar\":{\"outlinewidth\":0,\"ticks\":\"\"}}],\"contour\":[{\"type\":\"contour\",\"colorbar\":{\"outlinewidth\":0,\"ticks\":\"\"},\"colorscale\":[[0.0,\"#0d0887\"],[0.1111111111111111,\"#46039f\"],[0.2222222222222222,\"#7201a8\"],[0.3333333333333333,\"#9c179e\"],[0.4444444444444444,\"#bd3786\"],[0.5555555555555556,\"#d8576b\"],[0.6666666666666666,\"#ed7953\"],[0.7777777777777778,\"#fb9f3a\"],[0.8888888888888888,\"#fdca26\"],[1.0,\"#f0f921\"]]}],\"surface\":[{\"type\":\"surface\",\"colorbar\":{\"outlinewidth\":0,\"ticks\":\"\"},\"colorscale\":[[0.0,\"#0d0887\"],[0.1111111111111111,\"#46039f\"],[0.2222222222222222,\"#7201a8\"],[0.3333333333333333,\"#9c179e\"],[0.4444444444444444,\"#bd3786\"],[0.5555555555555556,\"#d8576b\"],[0.6666666666666666,\"#ed7953\"],[0.7777777777777778,\"#fb9f3a\"],[0.8888888888888888,\"#fdca26\"],[1.0,\"#f0f921\"]]}],\"mesh3d\":[{\"type\":\"mesh3d\",\"colorbar\":{\"outlinewidth\":0,\"ticks\":\"\"}}],\"scatter\":[{\"fillpattern\":{\"fillmode\":\"overlay\",\"size\":10,\"solidity\":0.2},\"type\":\"scatter\"}],\"parcoords\":[{\"type\":\"parcoords\",\"line\":{\"colorbar\":{\"outlinewidth\":0,\"ticks\":\"\"}}}],\"scatterpolargl\":[{\"type\":\"scatterpolargl\",\"marker\":{\"colorbar\":{\"outlinewidth\":0,\"ticks\":\"\"}}}],\"bar\":[{\"error_x\":{\"color\":\"#2a3f5f\"},\"error_y\":{\"color\":\"#2a3f5f\"},\"marker\":{\"line\":{\"color\":\"#E5ECF6\",\"width\":0.5},\"pattern\":{\"fillmode\":\"overlay\",\"size\":10,\"solidity\":0.2}},\"type\":\"bar\"}],\"scattergeo\":[{\"type\":\"scattergeo\",\"marker\":{\"colorbar\":{\"outlinewidth\":0,\"ticks\":\"\"}}}],\"scatterpolar\":[{\"type\":\"scatterpolar\",\"marker\":{\"colorbar\":{\"outlinewidth\":0,\"ticks\":\"\"}}}],\"histogram\":[{\"marker\":{\"pattern\":{\"fillmode\":\"overlay\",\"size\":10,\"solidity\":0.2}},\"type\":\"histogram\"}],\"scattergl\":[{\"type\":\"scattergl\",\"marker\":{\"colorbar\":{\"outlinewidth\":0,\"ticks\":\"\"}}}],\"scatter3d\":[{\"type\":\"scatter3d\",\"line\":{\"colorbar\":{\"outlinewidth\":0,\"ticks\":\"\"}},\"marker\":{\"colorbar\":{\"outlinewidth\":0,\"ticks\":\"\"}}}],\"scattermapbox\":[{\"type\":\"scattermapbox\",\"marker\":{\"colorbar\":{\"outlinewidth\":0,\"ticks\":\"\"}}}],\"scatterternary\":[{\"type\":\"scatterternary\",\"marker\":{\"colorbar\":{\"outlinewidth\":0,\"ticks\":\"\"}}}],\"scattercarpet\":[{\"type\":\"scattercarpet\",\"marker\":{\"colorbar\":{\"outlinewidth\":0,\"ticks\":\"\"}}}],\"carpet\":[{\"aaxis\":{\"endlinecolor\":\"#2a3f5f\",\"gridcolor\":\"white\",\"linecolor\":\"white\",\"minorgridcolor\":\"white\",\"startlinecolor\":\"#2a3f5f\"},\"baxis\":{\"endlinecolor\":\"#2a3f5f\",\"gridcolor\":\"white\",\"linecolor\":\"white\",\"minorgridcolor\":\"white\",\"startlinecolor\":\"#2a3f5f\"},\"type\":\"carpet\"}],\"table\":[{\"cells\":{\"fill\":{\"color\":\"#EBF0F8\"},\"line\":{\"color\":\"white\"}},\"header\":{\"fill\":{\"color\":\"#C8D4E3\"},\"line\":{\"color\":\"white\"}},\"type\":\"table\"}],\"barpolar\":[{\"marker\":{\"line\":{\"color\":\"#E5ECF6\",\"width\":0.5},\"pattern\":{\"fillmode\":\"overlay\",\"size\":10,\"solidity\":0.2}},\"type\":\"barpolar\"}],\"pie\":[{\"automargin\":true,\"type\":\"pie\"}]},\"layout\":{\"autotypenumbers\":\"strict\",\"colorway\":[\"#636efa\",\"#EF553B\",\"#00cc96\",\"#ab63fa\",\"#FFA15A\",\"#19d3f3\",\"#FF6692\",\"#B6E880\",\"#FF97FF\",\"#FECB52\"],\"font\":{\"color\":\"#2a3f5f\"},\"hovermode\":\"closest\",\"hoverlabel\":{\"align\":\"left\"},\"paper_bgcolor\":\"white\",\"plot_bgcolor\":\"#E5ECF6\",\"polar\":{\"bgcolor\":\"#E5ECF6\",\"angularaxis\":{\"gridcolor\":\"white\",\"linecolor\":\"white\",\"ticks\":\"\"},\"radialaxis\":{\"gridcolor\":\"white\",\"linecolor\":\"white\",\"ticks\":\"\"}},\"ternary\":{\"bgcolor\":\"#E5ECF6\",\"aaxis\":{\"gridcolor\":\"white\",\"linecolor\":\"white\",\"ticks\":\"\"},\"baxis\":{\"gridcolor\":\"white\",\"linecolor\":\"white\",\"ticks\":\"\"},\"caxis\":{\"gridcolor\":\"white\",\"linecolor\":\"white\",\"ticks\":\"\"}},\"coloraxis\":{\"colorbar\":{\"outlinewidth\":0,\"ticks\":\"\"}},\"colorscale\":{\"sequential\":[[0.0,\"#0d0887\"],[0.1111111111111111,\"#46039f\"],[0.2222222222222222,\"#7201a8\"],[0.3333333333333333,\"#9c179e\"],[0.4444444444444444,\"#bd3786\"],[0.5555555555555556,\"#d8576b\"],[0.6666666666666666,\"#ed7953\"],[0.7777777777777778,\"#fb9f3a\"],[0.8888888888888888,\"#fdca26\"],[1.0,\"#f0f921\"]],\"sequentialminus\":[[0.0,\"#0d0887\"],[0.1111111111111111,\"#46039f\"],[0.2222222222222222,\"#7201a8\"],[0.3333333333333333,\"#9c179e\"],[0.4444444444444444,\"#bd3786\"],[0.5555555555555556,\"#d8576b\"],[0.6666666666666666,\"#ed7953\"],[0.7777777777777778,\"#fb9f3a\"],[0.8888888888888888,\"#fdca26\"],[1.0,\"#f0f921\"]],\"diverging\":[[0,\"#8e0152\"],[0.1,\"#c51b7d\"],[0.2,\"#de77ae\"],[0.3,\"#f1b6da\"],[0.4,\"#fde0ef\"],[0.5,\"#f7f7f7\"],[0.6,\"#e6f5d0\"],[0.7,\"#b8e186\"],[0.8,\"#7fbc41\"],[0.9,\"#4d9221\"],[1,\"#276419\"]]},\"xaxis\":{\"gridcolor\":\"white\",\"linecolor\":\"white\",\"ticks\":\"\",\"title\":{\"standoff\":15},\"zerolinecolor\":\"white\",\"automargin\":true,\"zerolinewidth\":2},\"yaxis\":{\"gridcolor\":\"white\",\"linecolor\":\"white\",\"ticks\":\"\",\"title\":{\"standoff\":15},\"zerolinecolor\":\"white\",\"automargin\":true,\"zerolinewidth\":2},\"scene\":{\"xaxis\":{\"backgroundcolor\":\"#E5ECF6\",\"gridcolor\":\"white\",\"linecolor\":\"white\",\"showbackground\":true,\"ticks\":\"\",\"zerolinecolor\":\"white\",\"gridwidth\":2},\"yaxis\":{\"backgroundcolor\":\"#E5ECF6\",\"gridcolor\":\"white\",\"linecolor\":\"white\",\"showbackground\":true,\"ticks\":\"\",\"zerolinecolor\":\"white\",\"gridwidth\":2},\"zaxis\":{\"backgroundcolor\":\"#E5ECF6\",\"gridcolor\":\"white\",\"linecolor\":\"white\",\"showbackground\":true,\"ticks\":\"\",\"zerolinecolor\":\"white\",\"gridwidth\":2}},\"shapedefaults\":{\"line\":{\"color\":\"#2a3f5f\"}},\"annotationdefaults\":{\"arrowcolor\":\"#2a3f5f\",\"arrowhead\":0,\"arrowwidth\":1},\"geo\":{\"bgcolor\":\"white\",\"landcolor\":\"#E5ECF6\",\"subunitcolor\":\"white\",\"showland\":true,\"showlakes\":true,\"lakecolor\":\"white\"},\"title\":{\"x\":0.05},\"mapbox\":{\"style\":\"light\"}}},\"xaxis\":{\"anchor\":\"y\",\"domain\":[0.0,0.49],\"title\":{\"text\":\"label\"},\"categoryorder\":\"array\",\"categoryarray\":[\"died\",\"Survived\"]},\"yaxis\":{\"anchor\":\"x\",\"domain\":[0.0,0.46499999999999997],\"title\":{\"text\":\"value\"},\"range\":[0.45,0.85]},\"xaxis2\":{\"anchor\":\"y2\",\"domain\":[0.51,1.0],\"matches\":\"x\",\"title\":{\"text\":\"label\"},\"categoryorder\":\"array\",\"categoryarray\":[\"died\",\"Survived\"]},\"yaxis2\":{\"anchor\":\"x2\",\"domain\":[0.0,0.46499999999999997],\"matches\":\"y\",\"showticklabels\":false,\"range\":[0.45,0.85]},\"xaxis3\":{\"anchor\":\"y3\",\"domain\":[0.0,0.49],\"matches\":\"x\",\"showticklabels\":false},\"yaxis3\":{\"anchor\":\"x3\",\"domain\":[0.5349999999999999,0.9999999999999999],\"matches\":\"y\",\"title\":{\"text\":\"value\"},\"range\":[0.45,0.85]},\"xaxis4\":{\"anchor\":\"y4\",\"domain\":[0.51,1.0],\"matches\":\"x\",\"showticklabels\":false},\"yaxis4\":{\"anchor\":\"x4\",\"domain\":[0.5349999999999999,0.9999999999999999],\"matches\":\"y\",\"showticklabels\":false,\"range\":[0.45,0.85]},\"annotations\":[{\"font\":{},\"showarrow\":false,\"text\":\"measure=recall\",\"x\":0.245,\"xanchor\":\"center\",\"xref\":\"paper\",\"y\":0.46499999999999997,\"yanchor\":\"bottom\",\"yref\":\"paper\"},{\"font\":{},\"showarrow\":false,\"text\":\"measure=f1-score\",\"x\":0.755,\"xanchor\":\"center\",\"xref\":\"paper\",\"y\":0.46499999999999997,\"yanchor\":\"bottom\",\"yref\":\"paper\"},{\"font\":{},\"showarrow\":false,\"text\":\"measure=acc\",\"x\":0.245,\"xanchor\":\"center\",\"xref\":\"paper\",\"y\":0.9999999999999999,\"yanchor\":\"bottom\",\"yref\":\"paper\"},{\"font\":{},\"showarrow\":false,\"text\":\"measure=precision\",\"x\":0.755,\"xanchor\":\"center\",\"xref\":\"paper\",\"y\":0.9999999999999999,\"yanchor\":\"bottom\",\"yref\":\"paper\"}],\"legend\":{\"title\":{\"text\":\"label\"},\"tracegroupgap\":0},\"margin\":{\"t\":60},\"barmode\":\"relative\",\"height\":500,\"width\":500},                        {\"responsive\": true}                    ).then(function(){\n",
       "                            \n",
       "var gd = document.getElementById('c69cf8fb-e763-4b94-8389-491c5a97a24f');\n",
       "var x = new MutationObserver(function (mutations, observer) {{\n",
       "        var display = window.getComputedStyle(gd).display;\n",
       "        if (!display || display === 'none') {{\n",
       "            console.log([gd, 'removed!']);\n",
       "            Plotly.purge(gd);\n",
       "            observer.disconnect();\n",
       "        }}\n",
       "}});\n",
       "\n",
       "// Listen for the removal of the full notebook cells\n",
       "var notebookContainer = gd.closest('#notebook-container');\n",
       "if (notebookContainer) {{\n",
       "    x.observe(notebookContainer, {childList: true});\n",
       "}}\n",
       "\n",
       "// Listen for the clearing of the current output cell\n",
       "var outputEl = gd.closest('.output');\n",
       "if (outputEl) {{\n",
       "    x.observe(outputEl, {childList: true});\n",
       "}}\n",
       "\n",
       "                        })                };                });            </script>        </div>"
      ]
     },
     "metadata": {},
     "output_type": "display_data"
    }
   ],
   "source": [
    "fig = pd.concat([died, survived],axis=0).\\\n",
    "            plot(x= \"label\", y = \"value\", color= \"label\", kind= \"bar\",\n",
    "                facet_col = \"measure\",facet_col_wrap = 2, backend= \"plotly\",width=500,height=500)\n",
    "\n",
    "fig.update_yaxes(range = [0.45, 0.85])"
   ]
  }
 ],
 "metadata": {
  "kernelspec": {
   "display_name": "Python 3 (ipykernel)",
   "language": "python",
   "name": "python3"
  },
  "language_info": {
   "codemirror_mode": {
    "name": "ipython",
    "version": 3
   },
   "file_extension": ".py",
   "mimetype": "text/x-python",
   "name": "python",
   "nbconvert_exporter": "python",
   "pygments_lexer": "ipython3",
   "version": "3.11.4"
  }
 },
 "nbformat": 4,
 "nbformat_minor": 5
}
