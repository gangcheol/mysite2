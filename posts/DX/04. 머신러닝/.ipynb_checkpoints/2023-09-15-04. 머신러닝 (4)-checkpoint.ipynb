{
 "cells": [
  {
   "cell_type": "raw",
   "id": "e09e4545",
   "metadata": {},
   "source": [
    "---\n",
    "title : \"04. 머신러닝 (4)\"\n",
    "author : \"GC\"\n",
    "date : \"09/15/23\"\n",
    "categories : [머신러닝, 하이퍼파라미터]\n",
    "---"
   ]
  },
  {
   "cell_type": "markdown",
   "id": "c3c9e7a8",
   "metadata": {},
   "source": [
    "# Hyper Parameter"
   ]
  },
  {
   "cell_type": "markdown",
   "id": "c9c4a3e4",
   "metadata": {},
   "source": [
    "`-` 알고리즘을 사영해 모델링을 수행할 때 모델 성능을 최적화하기 위해 조절할 수 있는 매개변수"
   ]
  },
  {
   "cell_type": "markdown",
   "id": "96657cfb",
   "metadata": {},
   "source": [
    "* KNN의 `n_neighbors`, tree의 `max_depth` 등"
   ]
  },
  {
   "cell_type": "markdown",
   "id": "608ce3cc",
   "metadata": {},
   "source": [
    "`-` 모델의 성능 향상을 위해선 최선의 하이퍼파라미터 값을 찾는 **다양한 시도**를 해야함"
   ]
  },
  {
   "cell_type": "markdown",
   "id": "31d07dd0",
   "metadata": {},
   "source": [
    "## Grid Search"
   ]
  },
  {
   "cell_type": "markdown",
   "id": "99cf79da",
   "metadata": {},
   "source": [
    "`-` 모든 경우의 수를 고려"
   ]
  },
  {
   "cell_type": "markdown",
   "id": "0a01be5b",
   "metadata": {},
   "source": [
    "### KNN"
   ]
  },
  {
   "cell_type": "markdown",
   "id": "5c9e72ae",
   "metadata": {},
   "source": [
    "`-` 1부터 $n$까지 주변 이웃수를 바꾸어구며 가장 최적의 모델을 찾음 $\\to$ $n$이 커질수록 엄청난 시간이 소요됨"
   ]
  },
  {
   "cell_type": "markdown",
   "id": "82376fe0",
   "metadata": {},
   "source": [
    "* KNN은 주변의 이웃수인 $k$값이 작을수록 복잡한 모델, 클수록 단순한 모델이된다."
   ]
  },
  {
   "cell_type": "markdown",
   "id": "b76ba85c",
   "metadata": {},
   "source": [
    "* 보통 데이터 건수의 제곱근으로 결정하는 경우가 종종 있음"
   ]
  },
  {
   "cell_type": "markdown",
   "id": "ffb1fe55",
   "metadata": {},
   "source": [
    "`-` 또한, 거리 계산법에 따라 성능이 달라질 수 있으나. 참고만 해두자"
   ]
  },
  {
   "cell_type": "markdown",
   "id": "f605449d",
   "metadata": {},
   "source": [
    "### tree"
   ]
  },
  {
   "cell_type": "markdown",
   "id": "207d6116",
   "metadata": {},
   "source": [
    "`-` max_depth : 트리의 최대 깊이로 **작을수록** 모형이 단순해짐"
   ]
  },
  {
   "cell_type": "markdown",
   "id": "a1df8eac",
   "metadata": {},
   "source": [
    "`-` min_samples_leaf \n",
    "* leaf가 되기 위한 최소한의 샘플 데이터 수\n",
    "* 이 값이 클 수록 모델이 단순해 짐 "
   ]
  },
  {
   "cell_type": "markdown",
   "id": "2ef6cd53",
   "metadata": {},
   "source": [
    "`-`  min_ samples_split : 분리하려면 최소 몇 명은 되어야한다.~~\n",
    "\n",
    "* 노드를 분할하기 위한 최소한의 샘플 데이터 수\n",
    "\n",
    "* 해당 값이 클 수록 모델이 단순해 짐 "
   ]
  },
  {
   "cell_type": "markdown",
   "id": "a2934c33",
   "metadata": {},
   "source": [
    "`-` 위 값을을 적절히 조잘하여 과적합을 막을 수 있다."
   ]
  },
  {
   "cell_type": "markdown",
   "id": "d905c8ea",
   "metadata": {},
   "source": [
    "## Random Search"
   ]
  },
  {
   "cell_type": "markdown",
   "id": "690c676c",
   "metadata": {},
   "source": [
    "`-` 1부터 n구간의 정수 중 무작위로 $m$개를 골라 최적의 모델을 선태그\n",
    "\n",
    "* 임의의 $m$개만 골라 수행하니 시간 소모는 적을 것임\n",
    "\n",
    "* 그러나 선택되지 못한 값중에서 **더 좋은 성능이 보이는 값이 있을까** 걱정됨."
   ]
  },
  {
   "cell_type": "markdown",
   "id": "b455c1f9",
   "metadata": {},
   "source": [
    "`-` 근데 우리는 Random Search와 Grid Search를 함께 사용할 수 있음!"
   ]
  },
  {
   "cell_type": "markdown",
   "id": "5c3d9b58",
   "metadata": {},
   "source": [
    "1. 일단 random search 수행\n",
    "\n",
    "2. **그 다음 산출된 최적의 파라미터 주변 파라미터들에 대해서 grid search를 수행!**"
   ]
  }
 ],
 "metadata": {
  "kernelspec": {
   "display_name": "Python 3 (ipykernel)",
   "language": "python",
   "name": "python3"
  },
  "language_info": {
   "codemirror_mode": {
    "name": "ipython",
    "version": 3
   },
   "file_extension": ".py",
   "mimetype": "text/x-python",
   "name": "python",
   "nbconvert_exporter": "python",
   "pygments_lexer": "ipython3",
   "version": "3.11.4"
  },
  "toc": {
   "base_numbering": 1,
   "nav_menu": {},
   "number_sections": false,
   "sideBar": true,
   "skip_h1_title": false,
   "title_cell": "Table of Contents",
   "title_sidebar": "Contents",
   "toc_cell": false,
   "toc_position": {
    "height": "calc(100% - 180px)",
    "left": "10px",
    "top": "150px",
    "width": "341.333px"
   },
   "toc_section_display": true,
   "toc_window_display": true
  }
 },
 "nbformat": 4,
 "nbformat_minor": 5
}
