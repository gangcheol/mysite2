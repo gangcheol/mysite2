{
 "cells": [
  {
   "cell_type": "raw",
   "id": "870344c5",
   "metadata": {},
   "source": [
    "---\n",
    "title : \"03. 머신러닝 (3)\"\n",
    "author : \"GC\"\n",
    "date : \"09/14/23\"\n",
    "categories : [머신러닝, 교차검증]\n",
    "---"
   ]
  },
  {
   "cell_type": "markdown",
   "id": "c836c439",
   "metadata": {},
   "source": [
    "# K-fold 교차검증"
   ]
  },
  {
   "cell_type": "markdown",
   "id": "0f3e73df",
   "metadata": {},
   "source": [
    "`=` 지금까지 모델을 선언하고 학습한 후 바로 평가를 진행함\n",
    "\n",
    "* 일반화 성능, 즉 이후 새로운 데이터에 대한 모델의 성능을 예측하지 못한 상태에서 최종 평가를 수행\n",
    "\n",
    "* 검증용 데이터가 모델의 일반화된 성능을 예측할 수 있게 도와 줌\n",
    "\n",
    "* 지만 이것 역시 단 하나의 데이터 셋에 대한 추정일 뿐\n",
    "\n",
    "*  하나의 데이터 셋에서 얻은 성능으로 정확도에 확신을 가질 수 없음\n",
    "\n",
    "* 국 더욱 정교한 평가 절차가 필요함"
   ]
  },
  {
   "cell_type": "markdown",
   "id": "135f7fec",
   "metadata": {},
   "source": [
    "## 개념"
   ]
  },
  {
   "cell_type": "markdown",
   "id": "44f3b9b9",
   "metadata": {},
   "source": [
    "*  모든 데이터가 평가에 한 번, 학습에 k-1번 사용\n",
    "\n",
    "* K개의 분할(Fold)에 대한 성능을 예측 → 평균과 표준편차 계산 → 일반화 성능\n",
    "\n",
    "* 단, k는 2 이상이 되어야 함(최소한 한 개씩의 학습용, 검증용 데이터가 필요)\n",
    "\n",
    "\n",
    "\n"
   ]
  },
  {
   "cell_type": "markdown",
   "id": "4a464977",
   "metadata": {},
   "source": [
    "## 장단점"
   ]
  },
  {
   "cell_type": "markdown",
   "id": "8cb05af7",
   "metadata": {},
   "source": [
    "1. 장점\n",
    "\n",
    "*  모든 데이터를 학습과 평가에 사용할 수 있음\n",
    "\n",
    "* 반복 학습과 평가를 통해 정확도를 향상시킬 수 있음\n",
    "\n",
    "* 데이터가 부족해서 발생하는 과소적합 문제를 방지할 수 있음\n",
    "\n",
    "* 평가에 사용되는 데이터의 편향을 막을 수 있음\n",
    "\n",
    "* 좀 더 일반화된 모델을 만들 수 있음\n",
    "\n",
    "2. 단점\n",
    "\n",
    "* 반복 횟수가 많아서 모델 학습과 평가에 많은 시간이 소요됨"
   ]
  },
  {
   "cell_type": "markdown",
   "id": "54934584",
   "metadata": {},
   "source": [
    "## 실습"
   ]
  },
  {
   "cell_type": "code",
   "execution_count": 200,
   "id": "7a936ef3",
   "metadata": {},
   "outputs": [],
   "source": [
    "# 라이브러리 불러오기\n",
    "import numpy as np\n",
    "import pandas as pd\n",
    "import matplotlib.pyplot as plt\n",
    "import seaborn as sns\n",
    "import warnings\n",
    "import plotly.express as px\n",
    "import plotly.io as pio\n",
    "pio.renderers.default = \"plotly_mimetype+notebook_connected\"\n",
    "\n",
    "warnings.filterwarnings(action='ignore')\n",
    "%config InlineBackend.figure_format='retina'"
   ]
  },
  {
   "cell_type": "markdown",
   "id": "fc3511fb",
   "metadata": {},
   "source": [
    "### (1) 데이터 이해"
   ]
  },
  {
   "cell_type": "markdown",
   "id": "cf5a8cc7",
   "metadata": {},
   "source": [
    "**데이터설명**\n",
    "\n",
    "- Pregnancies: 임신 횟수\n",
    "- Glucose: 포도당 부하 검사 수치\n",
    "- BloodPressure: 혈압(mm Hg)\n",
    "- SkinThickness: 팔 삼두근 뒤쪽의 피하지방 측정값(mm)\n",
    "- Insulin: 혈청 인슐린(mu U/ml)\n",
    "- BMI: 체질량지수(체중(kg)/키(m))^2\n",
    "- DiabetesPedigreeFunction: 당뇨 내력 가중치 값\n",
    "- Age: 나이\n",
    "- Outcome: 클래스 결정 값(0 또는 1)"
   ]
  },
  {
   "cell_type": "code",
   "execution_count": 201,
   "id": "83698bc8",
   "metadata": {},
   "outputs": [],
   "source": [
    "# 데이터 읽어오기\n",
    "path = 'https://raw.githubusercontent.com/Jangrae/csv/master/diabetes.csv'\n",
    "data = pd.read_csv(path)"
   ]
  },
  {
   "cell_type": "code",
   "execution_count": 202,
   "id": "4de43bd9",
   "metadata": {},
   "outputs": [
    {
     "data": {
      "text/html": [
       "<div>\n",
       "<style scoped>\n",
       "    .dataframe tbody tr th:only-of-type {\n",
       "        vertical-align: middle;\n",
       "    }\n",
       "\n",
       "    .dataframe tbody tr th {\n",
       "        vertical-align: top;\n",
       "    }\n",
       "\n",
       "    .dataframe thead th {\n",
       "        text-align: right;\n",
       "    }\n",
       "</style>\n",
       "<table border=\"1\" class=\"dataframe\">\n",
       "  <thead>\n",
       "    <tr style=\"text-align: right;\">\n",
       "      <th></th>\n",
       "      <th>Pregnancies</th>\n",
       "      <th>Glucose</th>\n",
       "      <th>BloodPressure</th>\n",
       "      <th>SkinThickness</th>\n",
       "      <th>Insulin</th>\n",
       "      <th>BMI</th>\n",
       "      <th>DiabetesPedigreeFunction</th>\n",
       "      <th>Age</th>\n",
       "      <th>Outcome</th>\n",
       "    </tr>\n",
       "  </thead>\n",
       "  <tbody>\n",
       "    <tr>\n",
       "      <th>0</th>\n",
       "      <td>6</td>\n",
       "      <td>148</td>\n",
       "      <td>72</td>\n",
       "      <td>35</td>\n",
       "      <td>0</td>\n",
       "      <td>33.6</td>\n",
       "      <td>0.627</td>\n",
       "      <td>50</td>\n",
       "      <td>1</td>\n",
       "    </tr>\n",
       "    <tr>\n",
       "      <th>1</th>\n",
       "      <td>1</td>\n",
       "      <td>85</td>\n",
       "      <td>66</td>\n",
       "      <td>29</td>\n",
       "      <td>0</td>\n",
       "      <td>26.6</td>\n",
       "      <td>0.351</td>\n",
       "      <td>31</td>\n",
       "      <td>0</td>\n",
       "    </tr>\n",
       "    <tr>\n",
       "      <th>2</th>\n",
       "      <td>8</td>\n",
       "      <td>183</td>\n",
       "      <td>64</td>\n",
       "      <td>0</td>\n",
       "      <td>0</td>\n",
       "      <td>23.3</td>\n",
       "      <td>0.672</td>\n",
       "      <td>32</td>\n",
       "      <td>1</td>\n",
       "    </tr>\n",
       "    <tr>\n",
       "      <th>3</th>\n",
       "      <td>1</td>\n",
       "      <td>89</td>\n",
       "      <td>66</td>\n",
       "      <td>23</td>\n",
       "      <td>94</td>\n",
       "      <td>28.1</td>\n",
       "      <td>0.167</td>\n",
       "      <td>21</td>\n",
       "      <td>0</td>\n",
       "    </tr>\n",
       "    <tr>\n",
       "      <th>4</th>\n",
       "      <td>0</td>\n",
       "      <td>137</td>\n",
       "      <td>40</td>\n",
       "      <td>35</td>\n",
       "      <td>168</td>\n",
       "      <td>43.1</td>\n",
       "      <td>2.288</td>\n",
       "      <td>33</td>\n",
       "      <td>1</td>\n",
       "    </tr>\n",
       "  </tbody>\n",
       "</table>\n",
       "</div>"
      ],
      "text/plain": [
       "   Pregnancies  Glucose  BloodPressure  SkinThickness  Insulin   BMI  \\\n",
       "0            6      148             72             35        0  33.6   \n",
       "1            1       85             66             29        0  26.6   \n",
       "2            8      183             64              0        0  23.3   \n",
       "3            1       89             66             23       94  28.1   \n",
       "4            0      137             40             35      168  43.1   \n",
       "\n",
       "   DiabetesPedigreeFunction  Age  Outcome  \n",
       "0                     0.627   50        1  \n",
       "1                     0.351   31        0  \n",
       "2                     0.672   32        1  \n",
       "3                     0.167   21        0  \n",
       "4                     2.288   33        1  "
      ]
     },
     "execution_count": 202,
     "metadata": {},
     "output_type": "execute_result"
    }
   ],
   "source": [
    "# 데이터 살펴보기\n",
    "data.head()"
   ]
  },
  {
   "cell_type": "code",
   "execution_count": 203,
   "id": "bca88ac7",
   "metadata": {},
   "outputs": [
    {
     "data": {
      "text/html": [
       "<div>\n",
       "<style scoped>\n",
       "    .dataframe tbody tr th:only-of-type {\n",
       "        vertical-align: middle;\n",
       "    }\n",
       "\n",
       "    .dataframe tbody tr th {\n",
       "        vertical-align: top;\n",
       "    }\n",
       "\n",
       "    .dataframe thead th {\n",
       "        text-align: right;\n",
       "    }\n",
       "</style>\n",
       "<table border=\"1\" class=\"dataframe\">\n",
       "  <thead>\n",
       "    <tr style=\"text-align: right;\">\n",
       "      <th></th>\n",
       "      <th>Pregnancies</th>\n",
       "      <th>Glucose</th>\n",
       "      <th>BloodPressure</th>\n",
       "      <th>SkinThickness</th>\n",
       "      <th>Insulin</th>\n",
       "      <th>BMI</th>\n",
       "      <th>DiabetesPedigreeFunction</th>\n",
       "      <th>Age</th>\n",
       "      <th>Outcome</th>\n",
       "    </tr>\n",
       "  </thead>\n",
       "  <tbody>\n",
       "    <tr>\n",
       "      <th>count</th>\n",
       "      <td>768.000000</td>\n",
       "      <td>768.000000</td>\n",
       "      <td>768.000000</td>\n",
       "      <td>768.000000</td>\n",
       "      <td>768.000000</td>\n",
       "      <td>768.000000</td>\n",
       "      <td>768.000000</td>\n",
       "      <td>768.000000</td>\n",
       "      <td>768.000000</td>\n",
       "    </tr>\n",
       "    <tr>\n",
       "      <th>mean</th>\n",
       "      <td>3.845052</td>\n",
       "      <td>120.894531</td>\n",
       "      <td>69.105469</td>\n",
       "      <td>20.536458</td>\n",
       "      <td>79.799479</td>\n",
       "      <td>31.992578</td>\n",
       "      <td>0.471876</td>\n",
       "      <td>33.240885</td>\n",
       "      <td>0.348958</td>\n",
       "    </tr>\n",
       "    <tr>\n",
       "      <th>std</th>\n",
       "      <td>3.369578</td>\n",
       "      <td>31.972618</td>\n",
       "      <td>19.355807</td>\n",
       "      <td>15.952218</td>\n",
       "      <td>115.244002</td>\n",
       "      <td>7.884160</td>\n",
       "      <td>0.331329</td>\n",
       "      <td>11.760232</td>\n",
       "      <td>0.476951</td>\n",
       "    </tr>\n",
       "    <tr>\n",
       "      <th>min</th>\n",
       "      <td>0.000000</td>\n",
       "      <td>0.000000</td>\n",
       "      <td>0.000000</td>\n",
       "      <td>0.000000</td>\n",
       "      <td>0.000000</td>\n",
       "      <td>0.000000</td>\n",
       "      <td>0.078000</td>\n",
       "      <td>21.000000</td>\n",
       "      <td>0.000000</td>\n",
       "    </tr>\n",
       "    <tr>\n",
       "      <th>25%</th>\n",
       "      <td>1.000000</td>\n",
       "      <td>99.000000</td>\n",
       "      <td>62.000000</td>\n",
       "      <td>0.000000</td>\n",
       "      <td>0.000000</td>\n",
       "      <td>27.300000</td>\n",
       "      <td>0.243750</td>\n",
       "      <td>24.000000</td>\n",
       "      <td>0.000000</td>\n",
       "    </tr>\n",
       "    <tr>\n",
       "      <th>50%</th>\n",
       "      <td>3.000000</td>\n",
       "      <td>117.000000</td>\n",
       "      <td>72.000000</td>\n",
       "      <td>23.000000</td>\n",
       "      <td>30.500000</td>\n",
       "      <td>32.000000</td>\n",
       "      <td>0.372500</td>\n",
       "      <td>29.000000</td>\n",
       "      <td>0.000000</td>\n",
       "    </tr>\n",
       "    <tr>\n",
       "      <th>75%</th>\n",
       "      <td>6.000000</td>\n",
       "      <td>140.250000</td>\n",
       "      <td>80.000000</td>\n",
       "      <td>32.000000</td>\n",
       "      <td>127.250000</td>\n",
       "      <td>36.600000</td>\n",
       "      <td>0.626250</td>\n",
       "      <td>41.000000</td>\n",
       "      <td>1.000000</td>\n",
       "    </tr>\n",
       "    <tr>\n",
       "      <th>max</th>\n",
       "      <td>17.000000</td>\n",
       "      <td>199.000000</td>\n",
       "      <td>122.000000</td>\n",
       "      <td>99.000000</td>\n",
       "      <td>846.000000</td>\n",
       "      <td>67.100000</td>\n",
       "      <td>2.420000</td>\n",
       "      <td>81.000000</td>\n",
       "      <td>1.000000</td>\n",
       "    </tr>\n",
       "  </tbody>\n",
       "</table>\n",
       "</div>"
      ],
      "text/plain": [
       "       Pregnancies     Glucose  BloodPressure  SkinThickness     Insulin  \\\n",
       "count   768.000000  768.000000     768.000000     768.000000  768.000000   \n",
       "mean      3.845052  120.894531      69.105469      20.536458   79.799479   \n",
       "std       3.369578   31.972618      19.355807      15.952218  115.244002   \n",
       "min       0.000000    0.000000       0.000000       0.000000    0.000000   \n",
       "25%       1.000000   99.000000      62.000000       0.000000    0.000000   \n",
       "50%       3.000000  117.000000      72.000000      23.000000   30.500000   \n",
       "75%       6.000000  140.250000      80.000000      32.000000  127.250000   \n",
       "max      17.000000  199.000000     122.000000      99.000000  846.000000   \n",
       "\n",
       "              BMI  DiabetesPedigreeFunction         Age     Outcome  \n",
       "count  768.000000                768.000000  768.000000  768.000000  \n",
       "mean    31.992578                  0.471876   33.240885    0.348958  \n",
       "std      7.884160                  0.331329   11.760232    0.476951  \n",
       "min      0.000000                  0.078000   21.000000    0.000000  \n",
       "25%     27.300000                  0.243750   24.000000    0.000000  \n",
       "50%     32.000000                  0.372500   29.000000    0.000000  \n",
       "75%     36.600000                  0.626250   41.000000    1.000000  \n",
       "max     67.100000                  2.420000   81.000000    1.000000  "
      ]
     },
     "execution_count": 203,
     "metadata": {},
     "output_type": "execute_result"
    }
   ],
   "source": [
    "# 기술통계 확인\n",
    "data.describe()"
   ]
  },
  {
   "cell_type": "markdown",
   "id": "61d90685",
   "metadata": {},
   "source": [
    "### (2) 데이터 준비"
   ]
  },
  {
   "cell_type": "code",
   "execution_count": 204,
   "id": "fed56d69",
   "metadata": {},
   "outputs": [],
   "source": [
    "# Target 확인\n",
    "target = 'Outcome'\n",
    "\n",
    "# 데이터 분리\n",
    "x = data.drop(target, axis=1)\n",
    "y = data.loc[:, target]"
   ]
  },
  {
   "cell_type": "code",
   "execution_count": 205,
   "id": "607676a7",
   "metadata": {},
   "outputs": [],
   "source": [
    "# 라이브러리 불러오기\n",
    "from sklearn.model_selection import train_test_split\n",
    "\n",
    "# 학습용, 평가용 데이터 7:3으로 분리\n",
    "x_train, x_test, y_train, y_test = train_test_split(x, y, test_size=0.3, random_state=1)"
   ]
  },
  {
   "cell_type": "markdown",
   "id": "b572d02d",
   "metadata": {},
   "source": [
    "`-` 정규화\n",
    "\n",
    "* KNN 알고리즘을 사용하기 위해 정규화를 진행"
   ]
  },
  {
   "cell_type": "code",
   "execution_count": null,
   "id": "7ed03f70",
   "metadata": {},
   "outputs": [],
   "source": [
    "# 모듈 불러오기\n",
    "from sklearn.preprocessing import MinMaxScaler\n",
    "\n",
    "# 정규화\n",
    "scaler = MinMaxScaler()\n",
    "scaler.fit(x_train)\n",
    "x_train_s = scaler.transform(x_train)\n",
    "x_test_s = scaler.transform(x_test)"
   ]
  },
  {
   "cell_type": "markdown",
   "id": "0038101e",
   "metadata": {},
   "source": [
    "### (3) 최적의 모델을 찾기 위한 모델링"
   ]
  },
  {
   "cell_type": "markdown",
   "id": "46a19e66",
   "metadata": {},
   "source": [
    "`-` 의사결정나무"
   ]
  },
  {
   "cell_type": "code",
   "execution_count": null,
   "id": "67ce8cc7",
   "metadata": {},
   "outputs": [],
   "source": [
    "# 불러오기\n",
    "from sklearn.tree import DecisionTreeClassifier\n",
    "from sklearn.model_selection import cross_val_score\n",
    "\n",
    "# 선언하기\n",
    "model = DecisionTreeClassifier(max_depth=5,  random_state=1)\n",
    "\n",
    "# 검증하기\n",
    "cv_score = cross_val_score(model, x_train, y_train, cv=10)\n",
    "\n",
    "# 확인\n",
    "print(cv_score)\n",
    "print('평균:', cv_score.mean())\n",
    "print('표준편차:', cv_score.std())\n",
    "\n",
    "# 기록\n",
    "result = {}\n",
    "result[\"Decision Tree\"] = cv_score.mean()"
   ]
  },
  {
   "cell_type": "markdown",
   "id": "03539627",
   "metadata": {},
   "source": [
    "`-` KNN"
   ]
  },
  {
   "cell_type": "code",
   "execution_count": null,
   "id": "0a4c0aad",
   "metadata": {},
   "outputs": [],
   "source": [
    "from sklearn.neighbors import KNeighborsClassifier\n",
    "\n",
    "model2 = KNeighborsClassifier(n_neighbors=5)\n",
    "\n",
    "cv_score = cross_val_score(model2, x_train_s, y_train,cv=10)\n",
    "\n",
    "# 확인\n",
    "print(cv_score)\n",
    "print('평균:', cv_score.mean())\n",
    "print('표준편차:', cv_score.std())\n",
    "result[\"KNN\"] = cv_score.mean()"
   ]
  },
  {
   "cell_type": "markdown",
   "id": "ff4504e6",
   "metadata": {},
   "source": [
    "`-` 로지스틱"
   ]
  },
  {
   "cell_type": "code",
   "execution_count": null,
   "id": "a92a7390",
   "metadata": {},
   "outputs": [],
   "source": [
    "from sklearn.linear_model  import LogisticRegression\n",
    "\n",
    "model3 = LogisticRegression()\n",
    "\n",
    "cv_score = cross_val_score(model3, x_train, y_train, cv = 10)\n",
    "\n",
    "result[\"Logistic\"] = cv_score.mean()"
   ]
  },
  {
   "cell_type": "markdown",
   "id": "f0b0f759",
   "metadata": {},
   "source": [
    "`-` 결과\n",
    "\n",
    "* k-fold 교차검증결과 : Logisitc 모형이 성능이 가장 좋아보인다."
   ]
  },
  {
   "cell_type": "code",
   "execution_count": null,
   "id": "9181ae24",
   "metadata": {},
   "outputs": [],
   "source": [
    "result"
   ]
  },
  {
   "cell_type": "markdown",
   "id": "7284cc68",
   "metadata": {},
   "source": [
    "### (4) 성능비교 시각화"
   ]
  },
  {
   "cell_type": "code",
   "execution_count": null,
   "id": "13e656d4",
   "metadata": {},
   "outputs": [],
   "source": [
    "plt.figure(figsize = (4,4))\n",
    "plt.barh(y=list(result), width = result.values(), height = 0.5)"
   ]
  },
  {
   "cell_type": "markdown",
   "id": "34d6439e",
   "metadata": {},
   "source": [
    "### (5) test data 평가 (logistic)"
   ]
  },
  {
   "cell_type": "markdown",
   "id": "141b6d91",
   "metadata": {},
   "source": [
    "`-`  fitting을 다시 하는 이유 \n",
    "\n",
    "- train data set의 전체 데이터로 학습한 적은 없음......"
   ]
  },
  {
   "cell_type": "code",
   "execution_count": null,
   "id": "20f8b6cd",
   "metadata": {},
   "outputs": [],
   "source": [
    "def score(range = [0.5, 0.71]) : \n",
    "            fig = pd.DataFrame({\"score\" : [acc,pre,recall,f1_score],\n",
    "                            \"measure\" : [\"acc\",\"precision\",\"recall\",\"f1_score\"]}).\\\n",
    "                                    plot(x = \"measure\", y = \"score\",  color = \"measure\",\n",
    "                                            backend = \"plotly\", kind =  \"bar\",height = 500, width = 600)\n",
    "            fig.update_yaxes(range = range)\n",
    "            return fig"
   ]
  },
  {
   "cell_type": "code",
   "execution_count": null,
   "id": "0097d129",
   "metadata": {},
   "outputs": [],
   "source": [
    "model3.fit(x_train, y_train)\n",
    "\n",
    "y_pred = model3.predict(x_test)\n",
    "\n",
    "from sklearn.metrics import * \n",
    "\n",
    "acc = accuracy_score(y_test,y_pred)\n",
    "pre = precision_score(y_test,y_pred)\n",
    "recall = recall_score(y_test,y_pred)\n",
    "f1_score = f1_score(y_test,y_pred)"
   ]
  },
  {
   "cell_type": "code",
   "execution_count": null,
   "id": "db05d198",
   "metadata": {},
   "outputs": [],
   "source": [
    "score(range = [0.5,0.8])"
   ]
  },
  {
   "cell_type": "markdown",
   "id": "ca1a61a4",
   "metadata": {},
   "source": [
    "## exercise. 1"
   ]
  },
  {
   "cell_type": "markdown",
   "id": "8db746f3",
   "metadata": {},
   "source": [
    "### (1) 데이터 이해"
   ]
  },
  {
   "cell_type": "code",
   "execution_count": null,
   "id": "08b1f1ab",
   "metadata": {},
   "outputs": [],
   "source": [
    "# 데이터 읽어오기\n",
    "path = 'https://raw.githubusercontent.com/Jangrae/csv/master/boston.csv'\n",
    "data = pd.read_csv(path)"
   ]
  },
  {
   "cell_type": "code",
   "execution_count": null,
   "id": "3ab5bad2",
   "metadata": {},
   "outputs": [],
   "source": [
    "data.info()"
   ]
  },
  {
   "cell_type": "code",
   "execution_count": null,
   "id": "a7b87220",
   "metadata": {},
   "outputs": [],
   "source": [
    "data.head()"
   ]
  },
  {
   "cell_type": "code",
   "execution_count": null,
   "id": "3fa71981",
   "metadata": {},
   "outputs": [],
   "source": [
    "data.isna().sum()"
   ]
  },
  {
   "cell_type": "markdown",
   "id": "79eebc46",
   "metadata": {},
   "source": [
    "### (2) 데이터 준비"
   ]
  },
  {
   "cell_type": "code",
   "execution_count": null,
   "id": "1b1190ca",
   "metadata": {},
   "outputs": [],
   "source": [
    "target = \"medv\"\n",
    "\n",
    "x = data.drop(target, axis = 1)\n",
    "y = data[[target]]\n",
    "\n",
    "from sklearn.preprocessing import MinMaxScaler\n",
    "# 정규화\n",
    "x_train, x_test, y_train, y_test = train_test_split(x, y, random_state = 1, test_size = 0.3)\n",
    "\n",
    "scaler = MinMaxScaler()\n",
    "scaler.fit(x_train)\n",
    "x_train_s = scaler.transform(x_train)\n",
    "x_test_s = scaler.transform(x_test)"
   ]
  },
  {
   "cell_type": "markdown",
   "id": "d4fed537",
   "metadata": {},
   "source": [
    "### (3) 성능 예측"
   ]
  },
  {
   "cell_type": "code",
   "execution_count": null,
   "id": "1842b630",
   "metadata": {},
   "outputs": [],
   "source": [
    "from sklearn.tree import DecisionTreeRegressor\n",
    "from sklearn.linear_model import LinearRegression\n",
    "from sklearn.neighbors import KNeighborsRegressor\n",
    "\n",
    "\n",
    "model1 = DecisionTreeRegressor(max_depth = 5)\n",
    "model2 = KNeighborsRegressor(n_neighbors=5)\n",
    "model3 = LinearRegression()\n",
    "\n",
    "cv_score1 = cross_val_score(model1, x_train, y_train, cv = 10, scoring = \"r2\")\n",
    "cv_score2 = cross_val_score(model2, x_train_s, y_train, cv = 10, scoring = \"r2\")\n",
    "cv_score3 = cross_val_score(model3, x_train, y_train, cv = 10, scoring = \"r2\")\n",
    "\n",
    "result = pd.DataFrame({\"model\" : [\"tree\", \"knn\", \"linear reg\"],\n",
    "                            \"score\" : [cv_score1.mean(),cv_score2.mean(), cv_score3.mean()]})"
   ]
  },
  {
   "cell_type": "code",
   "execution_count": null,
   "id": "19641af8",
   "metadata": {},
   "outputs": [],
   "source": [
    "result.sort_values(\"score\", ascending = False).\\\n",
    "                    plot(y = \"model\", x= \"score\", kind =\"barh\",\n",
    "                            backend = \"plotly\", color = \"model\")"
   ]
  },
  {
   "cell_type": "markdown",
   "id": "ab54412a",
   "metadata": {},
   "source": [
    "### (4) test data 평가 (tree)"
   ]
  },
  {
   "cell_type": "code",
   "execution_count": null,
   "id": "b12e73c2",
   "metadata": {},
   "outputs": [],
   "source": [
    "model = DecisionTreeRegressor()\n",
    "\n",
    "model.fit(x_train, y_train)\n",
    "\n",
    "y_pred = model.predict(x_test)\n",
    "\n",
    "measure = [\"MAE\", \"R2\"]\n",
    "score = [mean_absolute_error(y_test, y_pred) ,r2_score(y_test, y_pred)]"
   ]
  },
  {
   "cell_type": "code",
   "execution_count": null,
   "id": "20646d71",
   "metadata": {},
   "outputs": [],
   "source": [
    "pd.DataFrame({ \"measure\" : measure, \n",
    "                             \"score\" : score}).sort_values(\"score\", ascending = False).\\\n",
    "                                        plot( y= \"measure\", x=\"score\", kind = \"barh\", backend =\"plotly\", color = \"measure\")"
   ]
  },
  {
   "cell_type": "markdown",
   "id": "99f99dc8",
   "metadata": {},
   "source": [
    "## exercise. 2"
   ]
  },
  {
   "cell_type": "markdown",
   "id": "d03d8f4b",
   "metadata": {},
   "source": [
    "### (1) 데이터 이해"
   ]
  },
  {
   "cell_type": "markdown",
   "id": "4a4fc371",
   "metadata": {},
   "source": [
    "**데이터 설명**\n",
    "\n",
    "- COLLEGE: 대학 졸업여부\n",
    "- INCOME: 연수입\n",
    "- OVERAGE: 월평균 초과사용 시간(분)\n",
    "- LEFTOVER: 월평균 잔여시간비율(%)\n",
    "- HOUSE: 집값\n",
    "- HANDSET_PRICE: 스마트폰 가격\n",
    "- OVER_15MINS_CALLS_PER_MONTH: 월평균 장기통화(15분이상) 횟수\n",
    "- AVERAGE_CALL_DURATION: 평균 통화 시간\n",
    "- REPORTED_SATISFACTION: 만족도 설문조사 결과\n",
    "- REPORTED_USAGE_LEVEL: 사용도 자가진단 결과\n",
    "- CONSIDERING_CHANGE_OF_PLAN: 향후 변경계획 설문조사 결과\n",
    "- CHURN: 이탈(번호이동) 여부 (Target 변수)"
   ]
  },
  {
   "cell_type": "code",
   "execution_count": null,
   "id": "cd2430cd",
   "metadata": {},
   "outputs": [],
   "source": [
    "# 데이터 읽어오기\n",
    "path = 'https://raw.githubusercontent.com/Jangrae/csv/master/mobile_cust_churn.csv'\n",
    "data = pd.read_csv(path)"
   ]
  },
  {
   "cell_type": "code",
   "execution_count": null,
   "id": "1d16f096",
   "metadata": {},
   "outputs": [],
   "source": [
    "# 데이터 살펴보기\n",
    "data.head()"
   ]
  },
  {
   "cell_type": "markdown",
   "id": "d4bb9c9f",
   "metadata": {},
   "source": [
    "### (2) 데이터 준비"
   ]
  },
  {
   "cell_type": "code",
   "execution_count": null,
   "id": "9593a49d",
   "metadata": {},
   "outputs": [],
   "source": [
    "data.drop(\"id\", axis = 1, inplace =True)\n",
    "data.head()"
   ]
  },
  {
   "cell_type": "markdown",
   "id": "45d15818",
   "metadata": {},
   "source": [
    "`-` x, y 분리"
   ]
  },
  {
   "cell_type": "code",
   "execution_count": null,
   "id": "7e23d445",
   "metadata": {},
   "outputs": [],
   "source": [
    "target = \"CHURN\"\n",
    "\n",
    "x = data.drop(target, axis = 1)\n",
    "y = [1 if i == \"LEAVE\" else 0 for i in data[target]]"
   ]
  },
  {
   "cell_type": "markdown",
   "id": "9c19d00f",
   "metadata": {},
   "source": [
    "`-` 가변수화"
   ]
  },
  {
   "cell_type": "code",
   "execution_count": null,
   "id": "163a1109",
   "metadata": {},
   "outputs": [],
   "source": [
    "d_cols = [\"REPORTED_SATISFACTION\", \"REPORTED_USAGE_LEVEL\", \"CONSIDERING_CHANGE_OF_PLAN\"]\n",
    "\n",
    "x = pd.get_dummies(x, columns= d_cols, drop_first = True, dtype = float)\n",
    "x.head()"
   ]
  },
  {
   "cell_type": "markdown",
   "id": "69664b7c",
   "metadata": {},
   "source": [
    "`-` 학습용 평가 데이터 분리"
   ]
  },
  {
   "cell_type": "code",
   "execution_count": null,
   "id": "a40877db",
   "metadata": {},
   "outputs": [],
   "source": [
    "x_train, x_test, y_train, y_test = train_test_split(x, y, random_state = 1, test_size = 0.3)"
   ]
  },
  {
   "cell_type": "markdown",
   "id": "09b36380",
   "metadata": {},
   "source": [
    "`-` 정규화"
   ]
  },
  {
   "cell_type": "code",
   "execution_count": null,
   "id": "51bf2d4f",
   "metadata": {},
   "outputs": [],
   "source": [
    "from sklearn.preprocessing import MinMaxScaler\n",
    "# 정규화\n",
    "x_train, x_test, y_train, y_test = train_test_split(x, y, random_state = 1, test_size = 0.3)\n",
    "\n",
    "scaler = MinMaxScaler()\n",
    "scaler.fit(x_train)\n",
    "x_train_s = scaler.transform(x_train)\n",
    "x_test_s = scaler.transform(x_test)"
   ]
  },
  {
   "cell_type": "markdown",
   "id": "f15e47fa",
   "metadata": {},
   "source": [
    "### (3) 성능 예측"
   ]
  },
  {
   "cell_type": "code",
   "execution_count": null,
   "id": "996a4819",
   "metadata": {},
   "outputs": [],
   "source": [
    "from sklearn.tree import DecisionTreeClassifier\n",
    "from sklearn.neighbors import KNeighborsClassifier\n",
    "from sklearn.linear_model import LogisticRegression\n",
    "\n",
    "model1 = DecisionTreeClassifier(max_depth= 5, random_state = 1)\n",
    "model2 = KNeighborsClassifier(n_neighbors=5)\n",
    "model3 = LogisticRegression(random_state = 1)\n",
    "\n",
    "cvs1 = cross_val_score(model1, x_train, y_train, cv = 10).mean()\n",
    "cvs2 = cross_val_score(model2, x_train_s, y_train, cv = 10).mean()\n",
    "cvs3 = cross_val_score(model3, x_train, y_train, cv = 10).mean()\n",
    "\n",
    "result = pd.DataFrame({\"model\" : [\"tree\", \"knn\", \"logistic\"],\n",
    "                                           \"score\" : [cvs1, cvs2, cvs3]})"
   ]
  },
  {
   "cell_type": "code",
   "execution_count": null,
   "id": "77a53513",
   "metadata": {},
   "outputs": [],
   "source": [
    "result.sort_values(\"score\", ascending = False).\\\n",
    "                        plot(x = \"score\", y = \"model\", kind = \"barh\",\n",
    "                                backend = \"plotly\",color = \"model\")"
   ]
  },
  {
   "cell_type": "markdown",
   "id": "b44c98f6",
   "metadata": {},
   "source": [
    "### (4) test data 평가 (tree)"
   ]
  },
  {
   "cell_type": "code",
   "execution_count": null,
   "id": "af5ee418",
   "metadata": {},
   "outputs": [],
   "source": [
    "model = DecisionTreeClassifier()\n",
    "\n",
    "model.fit(x_train, y_train)\n",
    "\n",
    "y_pred = model.predict(x_test)\n",
    "\n",
    "from sklearn import metrics\n",
    "acc, pre, recall, f1_score = accuracy_score(y_test, y_pred), precision_score(y_test, y_pred), recall_score(y_test, y_pred), metrics.f1_score(y_test, y_pred)"
   ]
  },
  {
   "cell_type": "code",
   "execution_count": null,
   "id": "e34a1dec",
   "metadata": {},
   "outputs": [],
   "source": [
    "def score(range = [0.5, 0.71]) : \n",
    "            fig = pd.DataFrame({\"score\" : [acc,pre,recall,f1_score],\n",
    "                            \"measure\" : [\"acc\",\"precision\",\"recall\",\"f1_score\"]}).\\\n",
    "                                    plot(x = \"measure\", y = \"score\",  color = \"measure\",\n",
    "                                            backend = \"plotly\", kind =  \"bar\",height = 500, width = 600)\n",
    "            fig.update_yaxes(range = range)\n",
    "            return fig"
   ]
  },
  {
   "cell_type": "code",
   "execution_count": null,
   "id": "2dd80b13",
   "metadata": {},
   "outputs": [],
   "source": [
    "score([0.5,0.65])"
   ]
  }
 ],
 "metadata": {
  "kernelspec": {
   "display_name": "Python 3 (ipykernel)",
   "language": "python",
   "name": "python3"
  },
  "language_info": {
   "codemirror_mode": {
    "name": "ipython",
    "version": 3
   },
   "file_extension": ".py",
   "mimetype": "text/x-python",
   "name": "python",
   "nbconvert_exporter": "python",
   "pygments_lexer": "ipython3",
   "version": "3.11.4"
  },
  "toc": {
   "base_numbering": 1,
   "nav_menu": {},
   "number_sections": false,
   "sideBar": true,
   "skip_h1_title": false,
   "title_cell": "Table of Contents",
   "title_sidebar": "Contents",
   "toc_cell": false,
   "toc_position": {
    "height": "calc(100% - 180px)",
    "left": "10px",
    "top": "150px",
    "width": "341.333px"
   },
   "toc_section_display": true,
   "toc_window_display": true
  }
 },
 "nbformat": 4,
 "nbformat_minor": 5
}
