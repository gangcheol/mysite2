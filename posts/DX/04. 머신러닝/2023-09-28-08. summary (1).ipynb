{
 "cells": [
  {
   "cell_type": "raw",
   "id": "1e72347b-57ae-44db-a9e3-340d48fb79ba",
   "metadata": {},
   "source": [
    "---\n",
    "title : \"08. summary (1)\"\n",
    "author : \"GC\"\n",
    "date : \"09/28/23\"\n",
    "categories : [머신러닝, summary, 지도학습]\n",
    "---"
   ]
  },
  {
   "cell_type": "markdown",
   "id": "6a90d5d1-b17a-4775-a7ab-ef473c765a4d",
   "metadata": {},
   "source": [
    "# Supervised learning"
   ]
  },
  {
   "cell_type": "markdown",
   "id": "cd5edf98-e4c6-4f3b-b7f6-c616c66e52ce",
   "metadata": {},
   "source": [
    "## 00. 모델링 단계"
   ]
  },
  {
   "cell_type": "markdown",
   "id": "83394822-bf5d-4fec-a2a6-ffb8bf75ab0a",
   "metadata": {},
   "source": [
    "### step1. 데이터 이해 및 준비"
   ]
  },
  {
   "cell_type": "markdown",
   "id": "d41d6942-5931-43eb-8a66-84fd8b81360f",
   "metadata": {
    "tags": []
   },
   "source": [
    "`-` knn의 경우 필요하다면 스케일링 단계가 필요"
   ]
  },
  {
   "cell_type": "markdown",
   "id": "d382c6e7-ae7f-4dd8-83d9-263267f2bc5c",
   "metadata": {},
   "source": [
    "`-` 이산형 변수, 즉 범주형 변수를 모델의 예측변수로 사용할 경우 더미변수로 변환해주어야한다.\n",
    "\n",
    "```python\n",
    "pd.get_dummies(data, columns = 더미화할컬럼리스트, dtype = (int or float))\n",
    "```"
   ]
  },
  {
   "cell_type": "markdown",
   "id": "0487ed79-e74a-43c4-a975-2c550e302d28",
   "metadata": {},
   "source": [
    "`-` 결측치 처리 : 히스토그램, boxplot, 시계열 데이터인 경우 등등을 고려하여 각 case에 맞게 적절히 결측치를 처리해준다.\n",
    "\n",
    "* misforest, EM 알고리즘을 통한 결측치 처리를 한다지만, 개인적인 생각으로는 좀 과한 결측치 처리가 아닌지 싶음\n",
    "\n",
    "* 이유는 즉슨, 결측치를 처리하기위해 결측치 처리 단계에서 모델링을 한번 더 수행하는데 이 때 시간이 생각보다 오래 걸림"
   ]
  },
  {
   "cell_type": "markdown",
   "id": "ebeea9f5-1d62-4c3a-9fed-c2bcdcb2a4f7",
   "metadata": {},
   "source": [
    "### step2. cross-validation을 통한 최적의 모델 선택"
   ]
  },
  {
   "cell_type": "markdown",
   "id": "07674b2c-7f3b-486b-bfed-f5ed0c0d39a9",
   "metadata": {},
   "source": [
    "`-` 아래와 같이 여러개의 모델을 생성한다음 `cross-validation` 통해 최적의 모델을 선택하였다."
   ]
  },
  {
   "cell_type": "markdown",
   "id": "24a49e56-5baf-4b19-9cb2-bd9fa32b6fcc",
   "metadata": {},
   "source": [
    "> example \n",
    "\n",
    "\n",
    "```python\n",
    "\n",
    "# 1. knn\n",
    "from sklearn.neighbors import KNeighborsClassifier\n",
    "from sklearn.model_selection import cross_val_score\n",
    "knn = KNeighborsClassifier(n_neighbors=5)\n",
    "\n",
    "knn.cv = cross_val_score(knn, x_train_s, y_train, cv = 5)\n",
    "\n",
    "knn.cv_m = knn.cv.mean()\n",
    "\n",
    "# 2. tree\n",
    "from sklearn.tree import DecisionTreeClassifier\n",
    "tree = DecisionTreeClassifier(max_depth = 5, random_state = 1)\n",
    "\n",
    "tree.cv = cross_val_score(tree, x_train, y_train, cv = 5)\n",
    "\n",
    "tree.cv_m = tree.cv.mean()\n",
    "\n",
    "# 3. logistic\n",
    "from sklearn.linear_model import LogisticRegression\n",
    "logit = LogisticRegression()\n",
    "logit.cv = cross_val_score(logit, x_train, y_train, cv = 5)\n",
    "\n",
    "logit.cv_m = logit.cv.mean()\n",
    "\n",
    "# 4. RF\n",
    "from sklearn.ensemble import RandomForestClassifier\n",
    "\n",
    "rf = RandomForestClassifier(max_depth = 5,  random_state = 1)\n",
    "\n",
    "rf.cv = cross_val_score(rf, x_train,y_train)\n",
    "\n",
    "rf.cv_m = rf.cv.mean()\n",
    "\n",
    "# 5. XGBoost\n",
    "from xgboost import XGBClassifier\n",
    "xgb =  XGBClassifier(max_depth = 5, random_state = 1)\n",
    "\n",
    "xgb.cv = cross_val_score(xgb, x_train, y_train, cv = 5)\n",
    "\n",
    "xgb.cv_m  = xgb.cv.mean()\n",
    "\n",
    "from lightgbm import LGBMClassifier\n",
    "\n",
    "lgbm = LGBMClassifier(max_depth = 5, random_state = 1,verbose = -100) \n",
    "\n",
    "lgbm.cv = cross_val_score(lgbm, x_train, y_train, cv = 5)\n",
    "\n",
    "lgbm.cv_m = lgbm.cv.mean()\n",
    "\n",
    "```"
   ]
  },
  {
   "cell_type": "markdown",
   "id": "e43b7998-89fe-41ac-b6a1-a4bcdd1c75c2",
   "metadata": {},
   "source": [
    "### step 3. 모델 튜닝"
   ]
  },
  {
   "cell_type": "markdown",
   "id": "430e45dc-1acb-4473-9fed-4235a3ffc4d5",
   "metadata": {},
   "source": [
    "`-` 그 후 선택한 최종 모델을 튜닝해 최종 모델을 select"
   ]
  },
  {
   "cell_type": "markdown",
   "id": "c1bc3a75-0c9f-4165-9630-c77b6bb25b5e",
   "metadata": {},
   "source": [
    "```python\n",
    "from sklearn.model_selection import GridSearchCV\n",
    "model = XGBClassifier(max_depth= 5, random_state = 1)\n",
    "\n",
    "params=  {\"max_depth\" : range(1,21)}\n",
    "\n",
    "model = GridSearchCV(model,\n",
    "                     params,\n",
    "                     cv=5,\n",
    "                     scoring='r2')\n",
    "\n",
    "```"
   ]
  },
  {
   "cell_type": "markdown",
   "id": "bb56d6e6-1e1e-4bfb-987d-6dba3191fe85",
   "metadata": {},
   "source": [
    "***"
   ]
  },
  {
   "cell_type": "markdown",
   "id": "c34d370f-a7a1-480f-871c-e1422502f4ae",
   "metadata": {},
   "source": [
    "## 01. 각 모델 소개"
   ]
  },
  {
   "cell_type": "markdown",
   "id": "06275c40-5deb-417d-9315-123e2de1095e",
   "metadata": {},
   "source": [
    "### (1) regression model"
   ]
  },
  {
   "cell_type": "markdown",
   "id": "54d673fd-0428-401b-94a6-7ff61ed8bf91",
   "metadata": {},
   "source": [
    "`-` 아래 링크를 참조해서 까먹을때 마다 보자~~"
   ]
  },
  {
   "cell_type": "markdown",
   "id": "6ad7ea6c-2b1c-419a-87af-ac08afe28656",
   "metadata": {},
   "source": [
    "`-` [ISLP2023-00.Linear Regression](https://gangcheol.github.io/ISLP2023/posts/2023-09-09-00.%20Linear%20Regression.html)"
   ]
  },
  {
   "cell_type": "markdown",
   "id": "4d949d65",
   "metadata": {},
   "source": [
    "### (2) 판별분석, 베이즈 분류기"
   ]
  },
  {
   "cell_type": "markdown",
   "id": "d6d54d47",
   "metadata": {},
   "source": [
    "`-` 이것두 아래 링크를 참조하자."
   ]
  },
  {
   "cell_type": "markdown",
   "id": "f77f77d3",
   "metadata": {},
   "source": [
    "`-` [ISLP2023-01. Classification](https://gangcheol.github.io/ISLP2023/posts/2023-09-09-01.%20classification.html#%ED%8C%90%EB%B3%84%EB%B6%84%EC%84%9Ddiscriminant-analysis)"
   ]
  },
  {
   "cell_type": "markdown",
   "id": "c40f56cb",
   "metadata": {},
   "source": [
    "### (3) KNN (K-nearest neighbors)"
   ]
  },
  {
   "cell_type": "markdown",
   "id": "377f43db",
   "metadata": {},
   "source": [
    "`-` 학습을 안함, 그냥 그 근처 K개의 녀석들을 보고 값을 할당"
   ]
  },
  {
   "cell_type": "markdown",
   "id": "ce472271",
   "metadata": {},
   "source": [
    "$$P(y= j | X = x_0) = \\frac {1}{K}  \\sum_{i\\in N_0} I(y_i = j)$$"
   ]
  },
  {
   "cell_type": "markdown",
   "id": "f5eba3c6",
   "metadata": {},
   "source": [
    "$$N_0  : x_0\\text {와 가장 가까운  K개의 자료의 집합}$$"
   ]
  },
  {
   "cell_type": "markdown",
   "id": "36d32e9c",
   "metadata": {},
   "source": [
    "`-` $k$가 작을수록 모델은 복잡해지고, 클수록 단순해짐\n",
    "\n",
    "* 솔직히 와닿지 않지만, 내 방식대로 이해해보자."
   ]
  },
  {
   "cell_type": "markdown",
   "id": "21cdc698",
   "metadata": {},
   "source": [
    "* 이전에 선형회귀분석에서 모델 복잡도를 생각해보자, 모델을 일직선으로 예측한 경우 단순선형회귀분석이다."
   ]
  },
  {
   "cell_type": "markdown",
   "id": "4994d8d1",
   "metadata": {},
   "source": [
    "* 즉, 모델 하나하나의 포인트를 고려하지 않고 전체 평균적인 선형회귀식을 하나 구한 것이다."
   ]
  },
  {
   "cell_type": "markdown",
   "id": "9a653c35",
   "metadata": {},
   "source": [
    "* 이를 다시 KNN예제로 생각해 $K$가 클경우 생각해보변, 주변 녀석들의 하나하나 개인적은 특성을 고려하기보단 전체적인 특성에 기반하여 주어진$x_0$에 대한 $y$를 예측하는 것이다."
   ]
  },
  {
   "cell_type": "markdown",
   "id": "c284fdbc",
   "metadata": {},
   "source": [
    "* 따라서, $k$가 작을수록 주변 녀석들의 특징을 하나하나 잘 고려해서 모델이 복잡한 것이고, $k$가 크면 전체적인 평균을 고려한 것이기 때문에 모델이 단순해진다...\n",
    "$\\to$ 사실 이것도 그렇게 와닿지 않음 나중에 더 찾아보자..."
   ]
  },
  {
   "cell_type": "markdown",
   "id": "92b1aac6",
   "metadata": {},
   "source": [
    "### (4) Decsion Tree"
   ]
  },
  {
   "cell_type": "markdown",
   "id": "2b11a509",
   "metadata": {},
   "source": [
    ">  나무모형은 간단하고 해석상에 장점이 있으나 다른 방법들에 비해 좋은 성능을 보이지 못하는 경우가 있음"
   ]
  },
  {
   "cell_type": "markdown",
   "id": "f59c4ed2",
   "metadata": {},
   "source": [
    "#### 형성단계\n",
    "\n",
    "`1`  설명변수들의 가능한 조합을 이용하여 예측공간을 $J$개의 겹치지 않는(non-overlaping)구역으로 분할"
   ]
  },
  {
   "cell_type": "markdown",
   "id": "79444b87",
   "metadata": {},
   "source": [
    "`2` 각 관측값은 $R_j$ 구역에 포함되며, $R_j$ 구역에 포함된 training data의 반응변수 ($y$)의 평균  (분류문제에선 voting방식)을 이용하여 예측"
   ]
  },
  {
   "cell_type": "markdown",
   "id": "eb5bad32",
   "metadata": {},
   "source": [
    "$$\\hat {y}_{R_j} = \\frac {1}{n_j} \\sum_{k\\in R_J} y_k $$"
   ]
  },
  {
   "cell_type": "markdown",
   "id": "e5cd6bb5",
   "metadata": {},
   "source": [
    "`3` 목표 : 다음의 RSS를 최소화 하는 구역 $R_1,R_2, R_J$를 찾는 것"
   ]
  },
  {
   "cell_type": "markdown",
   "id": "011106ca",
   "metadata": {},
   "source": [
    "$$RSS = \\sum_{j=1}^{J} \\sum_{i \\in R_j} (y_i - \\hat {y}_{R_{j}})^2$$"
   ]
  },
  {
   "cell_type": "markdown",
   "id": "45c3908c",
   "metadata": {},
   "source": [
    "`4` 모든 조합을 확인하는 것은 불가능...(사실 가능하다. tree를 무한정 쪼개면)\n",
    "\n",
    "* 근데  tree를 무한정 쪼갤경우 과적합문제가 무조건 발생"
   ]
  },
  {
   "cell_type": "markdown",
   "id": "8c7ce02c",
   "metadata": {},
   "source": [
    "`5`  정지규칙 (stopping rule)\n",
    "\n",
    "* 모든 자료가 한 범주에 속할 때\n",
    "\n",
    "* 노드에 속하는 자료가 일정 수 이하일 떄 \n",
    "\n",
    "* MSE의 감소량이 아주 작을 떄 \n",
    "\n",
    "* 뿌리마디로부터의 깊이가 일정 수 이상일 떄 등 (max_depth)"
   ]
  },
  {
   "cell_type": "markdown",
   "id": "13410cc3",
   "metadata": {},
   "source": [
    "`6` 가지치기 : 과적합을 막기위한 방법"
   ]
  },
  {
   "cell_type": "markdown",
   "id": "b18ece93",
   "metadata": {},
   "source": [
    "* 사실 정지규칙도 이에 포함됨, 따라서 위에거 + 빠진 내용을 적겠음\n",
    "\n",
    "*  **min_samples_leaf(default = 1)** : leaf노드가 되기 위한 최소한의 샘플 수\n",
    "\n",
    "*  **min_samples_split(default = 20** : 노드를 분할하기 위한 최소한의 샘플 수 (값을 적게 설정할수록 계순 분할되어, 과적합 발생 위험 증가)\n",
    "\n",
    "* **max_feature** : 최선의 분할을 위해 고려할 변수(feature) 개수\n",
    "\n",
    "    * sqrt : 전체 변수 개수의 루트\n",
    "    \n",
    "    * auto :  sqrt와 같은 의미\n",
    "    \n",
    "    * log : $\\log_{2}$ (전체 변수의 수)"
   ]
  },
  {
   "cell_type": "markdown",
   "id": "23e84433",
   "metadata": {},
   "source": [
    "*  max_leaf_node : 리프 노드의 최대 개수 $\\to$ $\\text{Cost complexity Pruning}$\n",
    "\n",
    "     * $|T|$는 터미널도드로 리프노드의 개수를 뜻한다.\n",
    "     \n",
    "     *  $R_{\\alpha}(T)$는 변하지 않는 비용함수로 $R(T)$는 우리가 알고 있는 $RSS$와 같다.\n",
    "     \n",
    "     * 아래식이 뜻하는 바는  리프노드의 개수가 클수록  $R(T)$ 훈련 데이터 셋에대한 $RSS$가 작아져 과적합 문제가 발생할 수 있기 때문에 적절한 리프노드의 개수를 설정해야한다는 의미이다.\n",
    "     \n",
    "     * $\\alpha$는 $\\text {tuning parameter}$로 복잡도를 조절한다. 만약 $\\alpha$가 0이라면 기존의 비용함수와 같고 1에 가까워질수록 $R(T)$값이 작아진다.\n",
    "     \n",
    "     * 따라서 우리는 적절한 $\\alpha$값과 $|T|$값을 교차검증 기법을 통해 찾아내어 가지치기를 수행하여야한다."
   ]
  },
  {
   "cell_type": "markdown",
   "id": "c462a81e",
   "metadata": {},
   "source": [
    "$$\\begin {align}R_{\\alpha}(T) &= \\sum R(T) + \\alpha |T|  \\\\ \\\\\n",
    "                                                          &= \\sum_{m=1}^{|T|} \\sum_{x_i \\in R_m} (y_i - \\hat {y}_{R_m})^2 +  \\alpha |T|  \\end {align}$$"
   ]
  },
  {
   "cell_type": "markdown",
   "id": "dec1676d",
   "metadata": {},
   "source": [
    "`7` 비용함수"
   ]
  },
  {
   "cell_type": "markdown",
   "id": "3034ca24",
   "metadata": {},
   "source": [
    "(1) 지니 지수 (Gini Index)"
   ]
  },
  {
   "cell_type": "markdown",
   "id": "dcdd2f01",
   "metadata": {},
   "source": [
    "$$Gini (D) = 1- \\sum_{k=1}^{K}p_{k}^2 = \\sum_{k=1}^{K} p_k(1-p_k)$$"
   ]
  },
  {
   "cell_type": "markdown",
   "id": "2a2aac0c",
   "metadata": {},
   "source": [
    "$$p_k : \\text{Node D에서 k번째 범주에 속하는 관측 비율}$$"
   ]
  },
  {
   "cell_type": "markdown",
   "id": "9200e0b9",
   "metadata": {},
   "source": [
    "<center><img src = \"GINI.png\" width= 500> </center>"
   ]
  },
  {
   "cell_type": "markdown",
   "id": "0d79ede9",
   "metadata": {},
   "source": [
    "* 순수하게 분류되면 값은 0이다."
   ]
  },
  {
   "cell_type": "markdown",
   "id": "749affcd",
   "metadata": {},
   "source": [
    "* 만약 분리규칙 $A$에 의해서 **Node D**가 $D_1, D_2$로 분리된다면, 분리규칙 $A$에서 Ginin지수는 다음과 같다."
   ]
  },
  {
   "cell_type": "markdown",
   "id": "ed1d18b0",
   "metadata": {},
   "source": [
    "$$Gini_A(D) =\\frac {|D_1|}{|D|}Gini(D_1) +\\frac {|D_2|}{|D|}Gini(D_2) $$"
   ]
  },
  {
   "cell_type": "markdown",
   "id": "13eb2487",
   "metadata": {},
   "source": [
    "* 위에 근거하여 분리규칙 A에서 발생한 **불순도 감소량**은 다음과 같이 정의할 수 있다."
   ]
  },
  {
   "cell_type": "markdown",
   "id": "a82fba4b",
   "metadata": {},
   "source": [
    "$$\\Delta Gini(A) = Gini(D) - Gini_{A}(D)$$"
   ]
  },
  {
   "cell_type": "markdown",
   "id": "447f229c",
   "metadata": {},
   "source": [
    "* 따라서, $Gini_{A}(D)$를 가장 작게 하거나 $\\Delta Gini(A)$를 가장 크게 하는 분리 규칙을 선택!"
   ]
  },
  {
   "cell_type": "markdown",
   "id": "f80eafdb",
   "metadata": {},
   "source": [
    "***"
   ]
  },
  {
   "cell_type": "markdown",
   "id": "30789c20",
   "metadata": {},
   "source": [
    "(2)  엔트로피(Entropy)"
   ]
  },
  {
   "cell_type": "markdown",
   "id": "ec1d1740",
   "metadata": {},
   "source": [
    "$$\\text {Entropy}  = -\\sum_{i=1}^m p_i\\log_{2} p_i$$"
   ]
  },
  {
   "cell_type": "markdown",
   "id": "7745ae80",
   "metadata": {},
   "source": [
    "* 순수하게 분류되면 0"
   ]
  },
  {
   "cell_type": "markdown",
   "id": "b94a9ed9",
   "metadata": {},
   "source": [
    "(3) 정보 이득"
   ]
  },
  {
   "cell_type": "markdown",
   "id": "4ac4032b",
   "metadata": {},
   "source": [
    "* 엔트로피와 지니지수는 단지 속성의 불순도를 표현한다."
   ]
  },
  {
   "cell_type": "markdown",
   "id": "2f58260f",
   "metadata": {},
   "source": [
    "* 우리가 알고 싶은 것은 **\"어떠한 속성이 얼마나 많은 정보를 제공하는가!\"** 이다."
   ]
  },
  {
   "cell_type": "markdown",
   "id": "1bec7ded",
   "metadata": {},
   "source": [
    "$$\\text {Gain}(T,X)= \\text{Entropy}(T)-\\text{Entropy}(T,X)$$"
   ]
  },
  {
   "cell_type": "markdown",
   "id": "72a7147e",
   "metadata": {},
   "source": [
    "* 위 식을 살펴보니 지니지수에서 했던 불순도 감소량과 비슷하지 않은가?"
   ]
  },
  {
   "cell_type": "markdown",
   "id": "6df0baee",
   "metadata": {},
   "source": [
    " $$\\Delta Gini(A) = Gini(D) - Gini_{A}(D)$$"
   ]
  },
  {
   "cell_type": "markdown",
   "id": "9a1d39a7",
   "metadata": {},
   "source": [
    "### (5) Ensemble"
   ]
  },
  {
   "cell_type": "markdown",
   "id": "76cc5e1d",
   "metadata": {},
   "source": [
    "* 앞서 언급한 tree는 과대적합의 위험이 큰 모형임 $\\to$ `max_depth`를 무작정 깊게 하면 과대적합이 발생하므로"
   ]
  },
  {
   "cell_type": "markdown",
   "id": "b1f63a4b",
   "metadata": {},
   "source": [
    "* 앙상블의 아이디어 : 이러한 test데이터 셋에 예측력이 약한 모델을 결합해서 성능이 좋은 모델을 만들자!"
   ]
  },
  {
   "cell_type": "markdown",
   "id": "dd229c48",
   "metadata": {},
   "source": [
    "#### Voting"
   ]
  },
  {
   "cell_type": "markdown",
   "id": "1b038404",
   "metadata": {},
   "source": [
    "`-` 여러 모델들의 예측결과를 투표를 통해 최종 예측결과를 결정\n",
    "\n",
    "* 하드 보팅 : 다수 모델이 예측한 값이 최종 결과값\n",
    "\n",
    "* 소프트 보팅 : 모든 모델이 예측한 레이블 값의 **결정 확률 평균을 구한 뒤 가장 확률이 높은 값을 최종 선택**"
   ]
  },
  {
   "cell_type": "markdown",
   "id": "86f2949f",
   "metadata": {},
   "source": [
    "#### Bagging"
   ]
  },
  {
   "cell_type": "markdown",
   "id": "0fa25eca",
   "metadata": {},
   "source": [
    "`-` Boostrap Aggregating"
   ]
  },
  {
   "cell_type": "markdown",
   "id": "ac211d4a",
   "metadata": {},
   "source": [
    "`-` 아이디어 : 모형의 분산을 줄여 과적합을 방지하자."
   ]
  },
  {
   "cell_type": "markdown",
   "id": "ec67de0c",
   "metadata": {},
   "source": [
    "* 만약, 모집단으로부터 여러개의 훈련자료를 얻을 수 있고 이로부터 여러개의 모형 $\\hat{f}_1(x)\\dots \\hat{f}_b(x)$를 얻을 수 있다면, 다음과 같이 분산을 줄일 수 있다."
   ]
  },
  {
   "cell_type": "markdown",
   "id": "56ee10d7",
   "metadata": {},
   "source": [
    "$$\\hat{f}_{avg}(x) = \\frac {1}{B} \\sum_{i=1}^{B} \\hat{f}_b(x)$$"
   ]
  },
  {
   "cell_type": "markdown",
   "id": "14c86be5",
   "metadata": {},
   "source": [
    "* 보통은 한 set의 자료만이 주어지게 되므로 위 방식은 직접 적용이 불가능"
   ]
  },
  {
   "cell_type": "markdown",
   "id": "2b5b8cc5",
   "metadata": {},
   "source": [
    "* 그래서 우리는 복원추출을 기반으로  같은 size의 표본을 추출해 각각의 모델링을 수행한다. **(Bootstrap sample)**"
   ]
  },
  {
   "cell_type": "markdown",
   "id": "a0dbf944",
   "metadata": {},
   "source": [
    "$$X_1^{*}\\dots X_B^{*}$$"
   ]
  },
  {
   "cell_type": "markdown",
   "id": "3aad4d9e",
   "metadata": {},
   "source": [
    "$$\\hat{f}_{\\text{bag}}(x) = \\frac {1}{B} \\sum_{i=1}^{B} \\hat{f}^{*}_b(x)$$"
   ]
  },
  {
   "cell_type": "markdown",
   "id": "359d23cc",
   "metadata": {},
   "source": [
    "* 보팅과 다른점은 보팅은 여러개의 예측모델, 배깅은 동일한 예측모델 여러개를 앙상블하는 것임!"
   ]
  },
  {
   "cell_type": "markdown",
   "id": "1f11afec",
   "metadata": {},
   "source": [
    "* 대표적인 모델 : Randoms Forest"
   ]
  },
  {
   "cell_type": "markdown",
   "id": "0ae99cca",
   "metadata": {},
   "source": [
    "##### random Forest"
   ]
  },
  {
   "cell_type": "markdown",
   "id": "5b9581b8",
   "metadata": {},
   "source": [
    "`-` 여러 tree모델이 전체 데이터에서 배깅 방식으로 각자의 데이터를 샘플링\n",
    "\n",
    "* 모델들이 개별적으로 학습을 수행한 뒤 모든 결과를 집계하여 최종 결과를 결정"
   ]
  },
  {
   "cell_type": "markdown",
   "id": "898a68ed",
   "metadata": {},
   "source": [
    "```python\n",
    "# 불러오기\n",
    "from sklearn.ensemble import RandomForestClassifier\n",
    "from sklearn.metrics import *\n",
    "\n",
    "# 선언하기\n",
    "model = RandomForestClassifier(max_depth=5, random_state=1)\n",
    "\n",
    "# 학습하기\n",
    "model.fit(x_train, y_train)\n",
    "\n",
    "# 예측하기\n",
    "y_pred = model.predict(x_test)\n",
    "\n",
    "```"
   ]
  },
  {
   "cell_type": "markdown",
   "id": "f200bcad",
   "metadata": {},
   "source": [
    "`-` Out-of-Bag은 생략 (ISLP 교재참고)"
   ]
  },
  {
   "cell_type": "markdown",
   "id": "4d583de5",
   "metadata": {},
   "source": [
    "`-` RF 모델의 변수 선택\n",
    "\n",
    "* 하나의 트리를 형성하는 과정에서, 각 노드에서 전체 $p$개의 설명변수 중 $m$개만을 임의로 추출하여 분리 규칙을 생성한다.\n",
    "\n",
    "    * 일반적으로 $m \\approx \\sqrt {p}$\n",
    "\n",
    "``` python\n",
    "RandomForestClassifier( max_features='sqrt') ## default\n",
    "```"
   ]
  },
  {
   "cell_type": "markdown",
   "id": "4ef666a8",
   "metadata": {},
   "source": [
    "`-` 변수 중요도 (Variable Importance measur)\n",
    "\n",
    "* 사실 여러 형태의 나무를 결합하여 산출된 모델은.... 해석이 거의 불가능해진다.\n",
    "\n",
    "* 대안적으로, 나무들을 생성할 떄 어떠한 변수들이 `RSS` 혹은  `Gini index` 등에 큰 감소를 가져왔는지를 요약한 값으로 변수의 중요도를 파악할 수 있음.\n",
    "\n",
    "* $B$개의 모형에 대한 평균적인 기여 정도로 변수의 중요도를 평가하게 된다!\n",
    "\n",
    "*  [scikit-learn 참고링크](https://scikit-learn.org/stable/auto_examples/ensemble/plot_forest_importances.html)"
   ]
  },
  {
   "cell_type": "markdown",
   "id": "a093e438",
   "metadata": {},
   "source": [
    "<center> <img src = \"변수중요도.png\" width = 500> </center>"
   ]
  },
  {
   "cell_type": "markdown",
   "id": "69fc24da",
   "metadata": {},
   "source": [
    "### (6) Boosting"
   ]
  },
  {
   "cell_type": "markdown",
   "id": "a1023c07",
   "metadata": {},
   "source": [
    "* 같은 유형의 약한 예측 모형을 결합하여 매우 정확한 예측 모형을 만드는 방법\n",
    "\n",
    "* 예측 모형을 순차적으로(Sequentially) 학습하여 먼저 학습된 모형의 결과가 다음 모형의 학습 시 정보를 제공\n",
    "\n",
    "* 즉, 이전 모형의 약점(잔차)를 학습하여 보완한다."
   ]
  },
  {
   "cell_type": "markdown",
   "id": "95068305",
   "metadata": {},
   "source": [
    "<center> <img src = \"부스팅.png\" width = 500> </center>"
   ]
  },
  {
   "cell_type": "markdown",
   "id": "2121e2b7",
   "metadata": {},
   "source": [
    "*  배깅에 비해 성능이 좋지만,  속도가 느리고 과적합 발생 가능성이 있음."
   ]
  },
  {
   "cell_type": "markdown",
   "id": "8a451718",
   "metadata": {},
   "source": [
    "* 대표적인 부스팅 알고리즘 : XGBoost, LightGBM"
   ]
  },
  {
   "cell_type": "markdown",
   "id": "9366efd1",
   "metadata": {},
   "source": [
    "`-` Boosting의 원리 (ISLP 기준)"
   ]
  },
  {
   "cell_type": "markdown",
   "id": "1c0c00d2",
   "metadata": {},
   "source": [
    "1. 초기값 셋팅 $\\hat{f}(x) = 0, r_1 = y_1$\n",
    "\n",
    "2.  For  $b = 1, 2\\dots B , repaet$ :"
   ]
  },
  {
   "cell_type": "markdown",
   "id": "53009b1c",
   "metadata": {},
   "source": [
    "$$\\hat {f}(x)_{i+1} = \\hat {f}(x)_{i} + \\lambda \\hat {f}^{b}(x)$$"
   ]
  },
  {
   "cell_type": "markdown",
   "id": "b1219bb8",
   "metadata": {},
   "source": [
    "3. update the residual,\n",
    "\n",
    "\n",
    "$$r_{i+1} = r_{i}- \\lambda \\hat{f}^{b} (x) $$"
   ]
  },
  {
   "cell_type": "markdown",
   "id": "5699d9b9",
   "metadata": {},
   "source": [
    "4. 초기 셋팅된 $\\hat {f}_1 = 0$ 이므로"
   ]
  },
  {
   "cell_type": "markdown",
   "id": "cca819e4",
   "metadata": {},
   "source": [
    "$$\\hat {f}(x)_{\\text{final}} = \\sum_{i=1}^{B} \\lambda \\hat {f}^{b}(x)$$"
   ]
  },
  {
   "cell_type": "markdown",
   "id": "00aed32f",
   "metadata": {},
   "source": [
    "`-` 위 같은 방식의 문제점  $\\to$ 과적합발생... 당연하다. 예측 모형을 순차적으로 학습한다는 것은 모형간 자기 상관성이 존재하고 모형의 분산이 증가하기 때문에 과적합이 발생할 수 밖에 없다..."
   ]
  },
  {
   "cell_type": "markdown",
   "id": "ddba11c5",
   "metadata": {},
   "source": [
    "`-` 이를 막기위해 나온 모델이 XGBoost!"
   ]
  },
  {
   "cell_type": "markdown",
   "id": "8876c686",
   "metadata": {},
   "source": [
    "#### XGBoost"
   ]
  },
  {
   "cell_type": "markdown",
   "id": "b1ab56e4",
   "metadata": {},
   "source": [
    "`-` [Extreme Gradient Boost](https://zephyrus1111.tistory.com/232)"
   ]
  },
  {
   "cell_type": "markdown",
   "id": "b56251f1",
   "metadata": {},
   "source": [
    "* review :  방금 정리했던 `Boosting`기법과 같이 기본 학습기를 의사결정나무로 하며, 잔차를 이용해 이전 모형의 약점을 보완하는 방식으로 학습한다."
   ]
  },
  {
   "cell_type": "markdown",
   "id": "37d41a09",
   "metadata": {},
   "source": [
    "* +$\\alpha$ : 기존의 Graident Tree Boosting에 과적합 방지를 위한 파라미터$(\\lambda, \\gamma)$가 추가된 알고리즘이다."
   ]
  },
  {
   "cell_type": "markdown",
   "id": "b28f49db",
   "metadata": {},
   "source": [
    "##### 알고리즘"
   ]
  },
  {
   "cell_type": "markdown",
   "id": "b5114913",
   "metadata": {},
   "source": [
    "`0` parameter \n",
    "\n",
    "* $L$  : 손실함수\n",
    "\n",
    "* $M$ : 개별 모형의 최대 개수\n",
    "\n",
    "* $l$ : 학습률\n",
    "\n",
    "* $\\gamma, \\lambda$ : 과적합 방지를 위한 파라미터"
   ]
  },
  {
   "cell_type": "markdown",
   "id": "d1f4d2e5",
   "metadata": {},
   "source": [
    " `1`. 초기 모형은 상수로 설정하며 다음과 같이 손실함수를 최소화 하는 모형으로 설정한다.\n",
    " \n",
    " - 초기 모형(상수값)을 아무렇게나 설정해도 된다고 하지만... 최적화 관점에서 아래처럼 잡아주는게 적절한 듯 하다."
   ]
  },
  {
   "cell_type": "markdown",
   "id": "c8bbc710",
   "metadata": {},
   "source": [
    "$$F_{0}(x) = \\underset {c}{\\text{arg min}}  \\sum_{i=1}^{n} L(y_i,c)  $$"
   ]
  },
  {
   "cell_type": "markdown",
   "id": "f4caed84",
   "metadata": {},
   "source": [
    "`2` $m = 1,\\dots M$에 대하여 다음을 반복"
   ]
  },
  {
   "cell_type": "markdown",
   "id": "287fde1e",
   "metadata": {},
   "source": [
    "* (a) Gradient $g_i$와 Hessian $h_i$를 계산"
   ]
  },
  {
   "cell_type": "markdown",
   "id": "23e80486",
   "metadata": {},
   "source": [
    "$$g_i = \\left[ \\frac {\\partial L(y_i, F(x_i))}{\\partial  F(x_i)}\\right],\\quad F(x_i) = \\hat {F}_{m-1}(x)$$"
   ]
  },
  {
   "cell_type": "markdown",
   "id": "9fb043db",
   "metadata": {},
   "source": [
    "$$h_i = \\left[ \\frac {\\partial^2 L(y_i, F(x_i))}{\\partial  F(x_i)^2}\\right],\\quad F(x_i) = \\hat {F}_{m-1}(x)$$"
   ]
  },
  {
   "cell_type": "markdown",
   "id": "d8347456",
   "metadata": {},
   "source": [
    "* (b) 회귀나무  $\\phi_m$을 다음과 같이 적합"
   ]
  },
  {
   "cell_type": "markdown",
   "id": "39f67f2b",
   "metadata": {},
   "source": [
    "$$l = \\sum_{i=1}^{n} \\frac {1}{2}h_i \\left [ - \\frac {g_i}{h_i} - \\phi(x_i) \\right ]  + \\gamma T + \\frac {1}{2} \\lambda ||\\phi||^2$$"
   ]
  },
  {
   "cell_type": "markdown",
   "id": "8748e9ef",
   "metadata": {},
   "source": [
    "$$\\phi_m = \\underset {\\phi} {\\text{arg min}} \\sum_{i=1}^{n} \\frac {1}{2}h_i \\left [ - \\frac {g_i}{h_i} - \\phi(x_i) \\right ]  + \\gamma T + \\frac {1}{2} \\lambda ||\\phi||^2$$"
   ]
  },
  {
   "cell_type": "markdown",
   "id": "2b32eb08",
   "metadata": {},
   "source": [
    "* 여기서 $T$는 $\\phi$의 끝마디 개수, $||\\phi||^2 = \\sum_{j=1}^{T} w_j^2$ 이며 $w_j$는 $j$번째 끝마디에서의 출력값이다.\n",
    "\n",
    "    * 잘 살펴보면 릿지회귀분석에  L2 penalty와 비슷한데, L1 penalty 방식도 지원하는 것 같다."
   ]
  },
  {
   "cell_type": "markdown",
   "id": "d202ce5e",
   "metadata": {},
   "source": [
    "* (c) 다음과 같이 업데이트 한다."
   ]
  },
  {
   "cell_type": "markdown",
   "id": "25bfe927",
   "metadata": {},
   "source": [
    "$$ F_{m}(x) = F_{m-1}(x) + l\\cdot \\phi_m(x)$$"
   ]
  },
  {
   "cell_type": "markdown",
   "id": "18644213",
   "metadata": {},
   "source": [
    "`3` 최종모형은?"
   ]
  },
  {
   "cell_type": "markdown",
   "id": "1d65eec5",
   "metadata": {},
   "source": [
    "$$F_M(x) =  \\sum_{m=0}^{M} F_m(x)$$"
   ]
  },
  {
   "cell_type": "markdown",
   "id": "0907050c",
   "metadata": {},
   "source": [
    "`4` summary"
   ]
  },
  {
   "cell_type": "markdown",
   "id": "46e8de81",
   "metadata": {},
   "source": [
    "* XGBoost는 기존 Gradient Boosting기법에 문제인 과적합문제를 해결하기 위해 $\\gamma, \\lambda$ 파라미터를 사용한다.(규제)"
   ]
  },
  {
   "cell_type": "markdown",
   "id": "9663fea6",
   "metadata": {},
   "source": [
    "* 손실함수를 살펴보면 터미널 노드(끝마디 노드)의 수와 끝마디에서의 출력값에 대한 패널티 파라미터가 들어가있다,"
   ]
  },
  {
   "cell_type": "markdown",
   "id": "54887950",
   "metadata": {},
   "source": [
    "* 의사결정나무에 가지치기 과정에서 터미널 노드의 개수에 따라 panelty를 부여하는 방식을 생각해보면 비슷한 방식이다."
   ]
  },
  {
   "cell_type": "markdown",
   "id": "3fe0d3e6",
   "metadata": {},
   "source": [
    "* 또한, 내장된 교차 검증? (이거는 이론적으로 구현되어있다기보단 사이킷런에서 내부적으로 동작하게 만든것 같음)\n",
    "\n",
    "    * 여튼 여기서 조기 중단을 가능하게끔 지원해준다."
   ]
  },
  {
   "cell_type": "markdown",
   "id": "bf28b90d",
   "metadata": {},
   "source": [
    "* 결측치 자체 처리 : 알아서 결측치를 고려해서 학습을 한다.(결측치 여부를 노드 분기를 위한 질문에 포함시킴)\n",
    "\n",
    "    * 이것도 사이킷런에서 내부적으로 구현한듯\n",
    "    \n",
    "    * 그래도 명시적으로 결측치에 대한 처리를 진행하기를 권고..."
   ]
  },
  {
   "cell_type": "markdown",
   "id": "684adfc4",
   "metadata": {},
   "source": [
    "`5` 실습 코드\n",
    "\n",
    "```python\n",
    "# 불러오기\n",
    "from xgboost import XGBRegressor\n",
    "from sklearn.metrics import mean_absolute_error, r2_score\n",
    "\n",
    "# 선언하기\n",
    "model = XGBRegressor(max_depth=5, n_estimators=100, random_state=1)\n",
    "\n",
    "# 학습하기\n",
    "model.fit(x_train, y_train)\n",
    "\n",
    "# 예측하기\n",
    "y_pred = model.predict(x_test)\n",
    "\n",
    "# 평가하기\n",
    "print(mean_absolute_error(y_test, y_pred))\n",
    "print(r2_score(y_test, y_pred))\n",
    "```"
   ]
  },
  {
   "cell_type": "markdown",
   "id": "0eb7a84e",
   "metadata": {},
   "source": [
    "`6` 주요 파라미터\n",
    "\n",
    "* learning_rate : 학습률(default = 0.1)\n",
    "\n",
    "* n_estimators : 나무의 개수 (default = 100)\n",
    "\n",
    "* mid_child_weight : 트리에서 추가적으로 분할할 지를 결정하기 위해 필요한 데이터들의 weight($w_i$)들의 총함 (default = 1)\n",
    "\n",
    "* gamma : 트리에서 추가적으로 분할할지를 결정하기 위한 값 $\\gamma T$ (default = 0)\n",
    "\n",
    "* max_depth : 나무의 깊이 (default = 6)\n",
    "\n",
    "* sub_sample : weak learner가 학습에 사용되는 데이터 샘플링 비율\n",
    "    * 과적합이 염려되는 경우 1보다 작은 값으로 설정, (default = 1)\n",
    "\n",
    "* colsample_bytree : 트리 생성에 필요한 변수 선택 비율\n",
    "    * 변수가 많은 경우 과적합을 조절하기 위해서 사용, 기본값 = 1\n",
    " \n",
    "* reg_lambda :  L2규제 적용값 ($\\lambda \\sum_{j=1}^{T} w_j^2$, 기본값 $\\lambda =  1$)\n",
    "\n",
    "* reg_alpha : L1규제 적용값 ($\\alpha \\sum_{j=1}^{T} |w|$, 기본값 $\\alpha = 0$)\n",
    "\n",
    "* early_stopping_rounds :  `n_estimators`만큼 학습을 반복하지 않더라도 조기 종료 가능(default = 10, 10번 동안 성능 향상이 없으면 학습 중단.)"
   ]
  },
  {
   "cell_type": "markdown",
   "id": "7dc82bb8",
   "metadata": {},
   "source": [
    "***"
   ]
  },
  {
   "cell_type": "markdown",
   "id": "0af82eac",
   "metadata": {},
   "source": [
    "### (7) SVM (분류)"
   ]
  },
  {
   "cell_type": "markdown",
   "id": "86ce6311",
   "metadata": {},
   "source": [
    "`-` 기본 아이디어 : 두 클래스 사이에 가장 넓은 도로를 내는 것"
   ]
  },
  {
   "cell_type": "markdown",
   "id": "e530497a",
   "metadata": {},
   "source": [
    "`-` 용어 정리"
   ]
  },
  {
   "cell_type": "markdown",
   "id": "e23deefd",
   "metadata": {},
   "source": [
    "*  결정 경계 (Decision Boundary) or 초평면\n",
    "    * 클래스를 구분하는 경계선\n",
    "    * 결정 경계가 바로 모델 (Hyper plane)이라고 부름"
   ]
  },
  {
   "cell_type": "markdown",
   "id": "419da7d8",
   "metadata": {},
   "source": [
    "* 벡터 : 모든 데이터 포인트"
   ]
  },
  {
   "cell_type": "markdown",
   "id": "d1752445",
   "metadata": {},
   "source": [
    "*  서포트 벡터 : 결정경계와 가끼운 데이터 포인트\n",
    "    * 마진의 크기와 결정경계에 영향을 미침"
   ]
  },
  {
   "cell_type": "markdown",
   "id": "eb25baa3",
   "metadata": {},
   "source": [
    "* 마진(margin) : 서포트 벡터와 결정경계 사이의 거리\n",
    "\n",
    "    * 폭이 가장 넓은 도로를 찾는 것이 SVM의 목표\n",
    "    \n",
    "    * 마진이 클수록 새로운 데이터에 대해 안정적인 분류가 가능해지는 것임"
   ]
  },
  {
   "cell_type": "markdown",
   "id": "d533f184",
   "metadata": {},
   "source": [
    "*  잘 생각해보면 마진의 크기가 좁을수록 정확한 분류가 일어나나 과적합 문제가 발생하므로 \n",
    "\n",
    "* **마진의 크기**와 **오류에 대한 허용 정도**는 Trade-off 관계에 있는 것을 알 수 있다.\n",
    "\n",
    "* 이것을 조절하는 파라미터 $\\to$ 비용(C)"
   ]
  },
  {
   "cell_type": "markdown",
   "id": "57c1711c",
   "metadata": {},
   "source": [
    "`-` 이를 이해하기 위해서!"
   ]
  },
  {
   "cell_type": "markdown",
   "id": "2b9698db",
   "metadata": {},
   "source": [
    "> Support vector classifier의 decision boundary는 다음과 같은 최적화 문제의 해로 정의된다."
   ]
  },
  {
   "cell_type": "markdown",
   "id": "da6d2642",
   "metadata": {},
   "source": [
    "* 만약, label = {1,-1}이라 하면 초평면은 다음과 같은 성질을 가진다."
   ]
  },
  {
   "cell_type": "markdown",
   "id": "3cb4ff21",
   "metadata": {},
   "source": [
    "$$\\text {Hyper plane}=  \\beta_0+ \\beta_1x_{i1}+\\dots \\beta_1x_{ip} = 0$$"
   ]
  },
  {
   "cell_type": "markdown",
   "id": "fc17f1c9",
   "metadata": {},
   "source": [
    "$$\\beta_0+ \\beta_1x_{i1}+\\dots \\beta_1x_{ip} > 0, \\quad \\text{if }  y_i=1$$"
   ]
  },
  {
   "cell_type": "markdown",
   "id": "1fb68eca",
   "metadata": {},
   "source": [
    "$$\\beta_0+ \\beta_1x_{i1}+\\dots \\beta_1x_{ip} < 0, \\quad \\text{if }  y_i=-1$$"
   ]
  },
  {
   "cell_type": "markdown",
   "id": "ceb9bbd1",
   "metadata": {},
   "source": [
    "* 이는 다음과 같이 간단히 표현할 수 있다."
   ]
  },
  {
   "cell_type": "markdown",
   "id": "fa7188e5",
   "metadata": {},
   "source": [
    "$$y_i(\\beta_0+ \\beta_1x_{i1}+\\dots \\beta_1x_{ip}) > 0$$"
   ]
  },
  {
   "cell_type": "markdown",
   "id": "e8ee826e",
   "metadata": {},
   "source": [
    "* 아래의 두 식은 관측치가 초평면을 중심으로 두 class를 정확히 구분되고, 관측치와 초평면사이의 직교거리가 최소 $M$이상이 되도록 보장해 주는 조건이다."
   ]
  },
  {
   "cell_type": "markdown",
   "id": "38ef260c",
   "metadata": {},
   "source": [
    "$$\\underset{\\beta_0,\\beta_1 \\dots \\beta_p, M}{\\text {maximize} M} $$"
   ]
  },
  {
   "cell_type": "markdown",
   "id": "5f799fcd",
   "metadata": {},
   "source": [
    "$$ \\sum_{i=1}^{p} \\beta_j^2 =  1$$"
   ]
  },
  {
   "cell_type": "markdown",
   "id": "fc9f8628",
   "metadata": {},
   "source": [
    "$$y_i(\\beta_0+ \\beta_1x_{i1}+\\dots \\beta_1x_{ip}) > M$$"
   ]
  },
  {
   "cell_type": "markdown",
   "id": "02cb4216",
   "metadata": {},
   "source": [
    "* 그러나  실제로 관측치는 두 개의 class로 정확히 구분되지 않은 경우가 더 많으며 한 두개의 관측치에 큰 영향을 받을 수 있다,(**Not robust**)"
   ]
  },
  {
   "cell_type": "markdown",
   "id": "b73946aa",
   "metadata": {},
   "source": [
    "> **관측치에 영향을 받아 초평면이 영향을 받은 예시** "
   ]
  },
  {
   "cell_type": "markdown",
   "id": "65bdc48f",
   "metadata": {},
   "source": [
    "<center><img src = \"초평면.png\"></center>"
   ]
  },
  {
   "cell_type": "markdown",
   "id": "b38e9d77",
   "metadata": {},
   "source": [
    "* 이를 해결하기 위해 $C>0$, tuning parameter와 $\\epsilon_i$(slack bariable)를 사용"
   ]
  },
  {
   "cell_type": "markdown",
   "id": "756fc2df",
   "metadata": {},
   "source": [
    "$$\\underset{\\beta_0,\\beta_1 \\dots \\beta_p, M}{\\text {maximize} M}, \\sum_{i=1}^{p} \\beta_j^2 =  1 $$"
   ]
  },
  {
   "cell_type": "markdown",
   "id": "5b2f4a07",
   "metadata": {},
   "source": [
    "$$y_i(\\beta_0+ \\beta_1x_{i1}+\\dots \\beta_1x_{ip}) > M(1-\\epsilon_i) \\quad  (\\epsilon_i > 0,  \\sum_{i=1}^n \\epsilon_i \\leq C)$$"
   ]
  },
  {
   "cell_type": "markdown",
   "id": "53b65cba",
   "metadata": {},
   "source": [
    "* $C$가 커질수록 margin이 넓어짐"
   ]
  },
  {
   "cell_type": "markdown",
   "id": "319ef866",
   "metadata": {},
   "source": [
    "* $C$를 작게하면 현 데이터의 정확한 분류에 더 집중하게 되므로 자료 적합성이 좋아짐, 즉 bias는 감소하고 variance는 증가"
   ]
  },
  {
   "cell_type": "markdown",
   "id": "2e1920d8",
   "metadata": {},
   "source": [
    "* margin 위 혹은 안쪽에 위치한 관측치들을 일컬어 **support vector**라고 한다."
   ]
  },
  {
   "cell_type": "markdown",
   "id": "b0df07d6",
   "metadata": {},
   "source": [
    "> C값에 따른 margin 변화"
   ]
  },
  {
   "cell_type": "markdown",
   "id": "52671bfe",
   "metadata": {},
   "source": [
    "<center> <img src = \"C.png\"  width = 400> </center>"
   ]
  },
  {
   "cell_type": "markdown",
   "id": "8e2682d7",
   "metadata": {},
   "source": [
    "* 여기에서 $C$값이 가장 큰 것은 왼쪽 맨위 그림이다. $\\to$ 직관적으로 $C$는 허용한계이므로 $M$즉, 마진의 넓이를 넓힌다고 생각하자."
   ]
  },
  {
   "cell_type": "markdown",
   "id": "868c7be1",
   "metadata": {},
   "source": [
    "* 잠깐 생각해야될 문제"
   ]
  },
  {
   "cell_type": "markdown",
   "id": "08b019a1",
   "metadata": {},
   "source": [
    "<center> <img src = \"nonlinear.png\"  width = 500> </center>"
   ]
  },
  {
   "cell_type": "markdown",
   "id": "0918abdb",
   "metadata": {},
   "source": [
    "* 우리는 여태껏 직선의 경우인 `Support vector classifier`를 생각했다. 근데 위에 처럼 생긴다면...."
   ]
  },
  {
   "cell_type": "markdown",
   "id": "4467dbad",
   "metadata": {},
   "source": [
    "`-` 그래서 고안된 방법이 본격적인 SVM(support vector machine)이다."
   ]
  },
  {
   "cell_type": "markdown",
   "id": "b3801692",
   "metadata": {},
   "source": [
    "* 고차원의 decision boundary를 고려함. $\\to$ 예를 들어, 2차항까지 고려한 최적화 문제의 해로써 decision boundary를 정의할 수 있음..."
   ]
  },
  {
   "cell_type": "markdown",
   "id": "31ce825c",
   "metadata": {},
   "source": [
    "$$\\underset{\\beta_0,\\beta_{11},\\dots,\\beta_{p1},\\beta_{12},\\dots,\\beta_{p2},\\varepsilon_1,\\dots ,\\varepsilon_n,M} {\\text {maximize}}M$$"
   ]
  },
  {
   "cell_type": "markdown",
   "id": "39709cfb",
   "metadata": {},
   "source": [
    "$$\\sum_{i=1}^{p}\\sum_{k=1}^2 \\beta_{jk}^2 = 1$$"
   ]
  },
  {
   "cell_type": "markdown",
   "id": "af72f84d",
   "metadata": {},
   "source": [
    "$$y_i \\left( \\beta_0 + \\sum_{j=1}^{p} \\beta_{j1}x_{ij} + \\sum_{j=1}^{p}\\beta_{i2}x_{ij}^2\\right) > M(1-\\varepsilon_i)$$"
   ]
  },
  {
   "cell_type": "markdown",
   "id": "4224fe10",
   "metadata": {},
   "source": [
    "$$\\epsilon_i > 0,  \\sum_{i=1}^n \\epsilon_i \\leq C$$"
   ]
  },
  {
   "cell_type": "markdown",
   "id": "fc651164",
   "metadata": {},
   "source": [
    "`-` 단순히 확장한 것에 불과하지 않은가???"
   ]
  },
  {
   "cell_type": "markdown",
   "id": "34775fa4",
   "metadata": {},
   "source": [
    "* support vector classifier을 찾기 위해서는 관측치들간의 내적(inner product)을 계산하는 것으로 충분함이 알려져 있음\n",
    "\n",
    "* 이러한 내적을 여러 방면으로 일반화하여 표현할 수 있는데 이를 규정해 주는 함수를 `kernel` 이라 한다. (이 부분은 설명 생략!)"
   ]
  },
  {
   "cell_type": "markdown",
   "id": "ee4c1590",
   "metadata": {},
   "source": [
    "`-` kernel 종류"
   ]
  },
  {
   "cell_type": "markdown",
   "id": "4a7ba64b",
   "metadata": {},
   "source": [
    "* poly(다항), rbf(Radial Basis Function), sigmoid, linear"
   ]
  },
  {
   "cell_type": "markdown",
   "id": "f22670ed",
   "metadata": {},
   "source": [
    "#### C값에 따른 margin 변화"
   ]
  },
  {
   "cell_type": "markdown",
   "id": "a9324590",
   "metadata": {},
   "source": [
    "`-` 걍 넘어가려고 했는데 안되겠음 $\\to$ ㅅㅂ... 결과를 납득할 수 없다. 진짜 다시보자"
   ]
  },
  {
   "cell_type": "code",
   "execution_count": 55,
   "id": "82fe6089",
   "metadata": {},
   "outputs": [
    {
     "data": {
      "image/png": "[encoded data removed]",
      "text/plain": [
       "<Figure size 400x300 with 1 Axes>"
      ]
     },
     "metadata": {
      "image/png": {
       "height": 296,
       "width": 360
      }
     },
     "output_type": "display_data"
    },
    {
     "data": {
      "image/png": "[encoded data removed]",
      "text/plain": [
       "<Figure size 400x300 with 1 Axes>"
      ]
     },
     "metadata": {
      "image/png": {
       "height": 296,
       "width": 360
      }
     },
     "output_type": "display_data"
    }
   ],
   "source": [
    "# | code-fold : true\n",
    "import matplotlib.pyplot as plt\n",
    "import numpy as np\n",
    "\n",
    "from sklearn import svm\n",
    "\n",
    "# we create 40 separable points\n",
    "np.random.seed(0)\n",
    "X = np.r_[np.random.randn(20, 2) - [2, 2], np.random.randn(20, 2) + [2, 2]]\n",
    "Y = [0] * 20 + [1] * 20\n",
    "\n",
    "# figure number\n",
    "fignum = 1\n",
    "\n",
    "# fit the model\n",
    "for name, penalty in ((\"unreg\", 1), (\"reg\", 0.05)):\n",
    "    clf = svm.SVC(kernel=\"linear\", C=penalty)\n",
    "    clf.fit(X, Y)\n",
    "\n",
    "    # get the separating hyperplane\n",
    "    w = clf.coef_[0]\n",
    "    a = -w[0] / w[1]\n",
    "    xx = np.linspace(-5, 5)\n",
    "    yy = a * xx - (clf.intercept_[0]) / w[1]\n",
    "\n",
    "    # plot the parallels to the separating hyperplane that pass through the\n",
    "    # support vectors (margin away from hyperplane in direction\n",
    "    # perpendicular to hyperplane). This is sqrt(1+a^2) away vertically in\n",
    "    # 2-d.\n",
    "    margin = 1 / np.sqrt(np.sum(clf.coef_**2))\n",
    "    yy_down = yy - np.sqrt(1 + a**2) * margin\n",
    "    yy_up = yy + np.sqrt(1 + a**2) * margin\n",
    "\n",
    "    # plot the line, the points, and the nearest vectors to the plane\n",
    "    plt.figure(fignum, figsize=(4, 3))\n",
    "    plt.clf()\n",
    "    plt.plot(xx, yy, \"k-\")\n",
    "    plt.plot(xx, yy_down, \"k--\")\n",
    "    plt.plot(xx, yy_up, \"k--\")\n",
    "    plt.title(f\"C={penalty}\")\n",
    "    plt.scatter(\n",
    "        clf.support_vectors_[:, 0],\n",
    "        clf.support_vectors_[:, 1],\n",
    "        s=80,\n",
    "        facecolors=\"none\",\n",
    "        zorder=10,\n",
    "        edgecolors=\"k\",\n",
    "    )\n",
    "    plt.scatter(\n",
    "        X[:, 0], X[:, 1], c=Y, zorder=10, cmap=plt.get_cmap(\"RdBu\"), edgecolors=\"k\"\n",
    "    )\n",
    "\n",
    "    plt.axis(\"tight\")\n",
    "    x_min = -4.8\n",
    "    x_max = 4.2\n",
    "    y_min = -6\n",
    "    y_max = 6\n",
    "\n",
    "    YY, XX = np.meshgrid(yy, xx)\n",
    "    xy = np.vstack([XX.ravel(), YY.ravel()]).T\n",
    "    Z = clf.decision_function(xy).reshape(XX.shape)\n",
    "\n",
    "    # Put the result into a contour plot\n",
    "    plt.contourf(XX, YY, Z, cmap=plt.get_cmap(\"RdBu\"), alpha=0.5, linestyles=[\"-\"])\n",
    "\n",
    "    plt.xlim(x_min, x_max)\n",
    "    plt.ylim(y_min, y_max)\n",
    "    fignum = fignum + 1\n",
    "\n",
    "plt.show()"
   ]
  },
  {
   "cell_type": "markdown",
   "id": "08b7d2ee",
   "metadata": {},
   "source": [
    "## 02. K-fold Cross Validation"
   ]
  },
  {
   "cell_type": "markdown",
   "id": "4bcd66a9",
   "metadata": {},
   "source": [
    "`-` 우리가 기존의 하던 방식"
   ]
  },
  {
   "cell_type": "markdown",
   "id": "7147d23d",
   "metadata": {},
   "source": [
    "```python\n",
    "\n",
    "from sklearn.model_selection import train_test_split\n",
    "\n",
    "x_train, x_test, y_train, y_test = train_test_split(x, y, test_size = 0.3, random_state = 2023)\n",
    "\n",
    "```"
   ]
  },
  {
   "cell_type": "markdown",
   "id": "823d18ec",
   "metadata": {},
   "source": [
    "`-` 단점\n",
    "\n",
    "1.  랜덤하게 자료를 분할하기 때문에 분할결과에 따라 추정의 변동성이 크다....\n",
    "\n",
    "2. 특히 자료위 크기가 작거나 이상/영향치들이 포함되어 있는 경우에 더더욱 그러함.\n",
    "\n",
    "3. 또한, 원 자료의 크기 보다 작은 집합의 훈련자료가 모형적합에 사용되기 때문에 test error가 과대추정될 수 있음."
   ]
  },
  {
   "cell_type": "markdown",
   "id": "e356ae58",
   "metadata": {},
   "source": [
    "* 이러한 방법을 $\\text {Validation set Approach}$라고 한다...."
   ]
  },
  {
   "cell_type": "markdown",
   "id": "ec63d82e",
   "metadata": {},
   "source": [
    "`-` K-fold Cross Validation 방식"
   ]
  },
  {
   "cell_type": "markdown",
   "id": "24eafa75",
   "metadata": {},
   "source": [
    "<center><img src = \"kfold.png\" width = 500></center>"
   ]
  },
  {
   "cell_type": "markdown",
   "id": "4c41c940",
   "metadata": {},
   "source": [
    "* 전체 자료를 $k$개의 집합으로 분할한 후그 중 하나의 집합 ($i$)번째 집합을 평가자료롤 설정(위 그림의 경우 $i=1,2 \\dots 5$)"
   ]
  },
  {
   "cell_type": "markdown",
   "id": "5a25738c",
   "metadata": {},
   "source": [
    "* 그 후 각 정확도를 평균냄 (교제에서는 $MSE$를 평균 냈는데, 이번 강의에서는 정확도를 평균내더라...)"
   ]
  },
  {
   "cell_type": "markdown",
   "id": "aa9359c6",
   "metadata": {},
   "source": [
    "$$\\text {CV}_{5} = \\frac {1}{5} \\sum_{i=1}^{5} \\text{Accuracy}_{i}$$"
   ]
  },
  {
   "cell_type": "markdown",
   "id": "810fa58f",
   "metadata": {},
   "source": [
    "```python\n",
    "# 1단계: 불러오기\n",
    "from sklearn.tree import DecisionTreeClassifier\n",
    "from sklearn.model_selection import cross_val_score\n",
    "\n",
    "# 2단계: 선언하기\n",
    "model = DecisionTreeClassifier(max_depth=3)\n",
    "\n",
    "# 3단계: 검증하기\n",
    "cv_score = cross_val_score(model, x_train, y_train, cv=10)\n",
    "\n",
    "# 확인\n",
    "print(cv_score)\n",
    "print(cv_score.mean())\n",
    "\n",
    "```"
   ]
  },
  {
   "cell_type": "markdown",
   "id": "3243ab25",
   "metadata": {},
   "source": [
    "`=` 장점\n",
    "\n",
    "* 모든 데이터가 학습과 평가에 사용됨\n",
    "\n",
    "*  데이터가 부족해서 발생하는 과소적합 문제을 방지할 수 있음\n",
    "\n",
    "*  <font color = \"red\"> 좀 더 일반화된 모델</font> 을 만들 수 있음\n",
    "\n",
    "* test error의 과대추정을 방지"
   ]
  },
  {
   "cell_type": "markdown",
   "id": "089a1fb1",
   "metadata": {},
   "source": [
    "`-`  단점"
   ]
  },
  {
   "cell_type": "markdown",
   "id": "c10cae01",
   "metadata": {},
   "source": [
    "* 반복 횟수가 많아서 모델 학습과 평가에 많은 시간이 소요"
   ]
  },
  {
   "cell_type": "markdown",
   "id": "c6f2ee8c",
   "metadata": {},
   "source": [
    "***"
   ]
  },
  {
   "cell_type": "markdown",
   "id": "a88dd507",
   "metadata": {},
   "source": [
    "## 03. Search"
   ]
  },
  {
   "cell_type": "markdown",
   "id": "552e0a6a",
   "metadata": {},
   "source": [
    "### (1) Grid search"
   ]
  },
  {
   "cell_type": "markdown",
   "id": "25cbe354",
   "metadata": {},
   "source": [
    "`-` 일단, 튜닝 시 모델들의 각 파라미터들에 값을 어떻게 하느냐에 따라 성능이 달라지는 것을 확인할 수 있었음"
   ]
  },
  {
   "cell_type": "markdown",
   "id": "0a740f0b",
   "metadata": {},
   "source": [
    "`-` grid search의 아이디어는 가능한 파라미터 값 범위를 지정해 해당 범위에서의 값을 모두 사용하는 것이다.\n",
    "\n",
    "* 당연히 정확도는 높으나....시간이 오래 걸리겠지라는 생각을 해볼 수 있다."
   ]
  },
  {
   "cell_type": "markdown",
   "id": "3ce63fda",
   "metadata": {},
   "source": [
    "> 요런느낌\n",
    "``` python\n",
    "# 함수 불러오기\n",
    "from sklearn.neighbors import KNeighborsClassifier\n",
    "from sklearn.model_selection import GridSearchCV\n",
    "\n",
    "# 파라미터 선언\n",
    "param = {'n_neighbors': range(1, 500, 10), 'metric': ['euclidean', 'manhattan']}\n",
    "\n",
    "# 기본모델 선언\n",
    "knn_model = KNeighborsClassifier()\n",
    "\n",
    "# Grid Search 선언\n",
    "model = GridSearchCV(knn_model, param, cv=3)\n",
    "\n",
    "```"
   ]
  },
  {
   "cell_type": "markdown",
   "id": "9d6d12a2",
   "metadata": {},
   "source": [
    "### (2) random search"
   ]
  },
  {
   "cell_type": "markdown",
   "id": "d4246b95",
   "metadata": {},
   "source": [
    "`-` 그리드 서치처럼 파라미터 범위를 지정하는 것은 동일"
   ]
  },
  {
   "cell_type": "markdown",
   "id": "6ff8e9ee",
   "metadata": {},
   "source": [
    "`-` 설정한 파라미터 값 범위에서 몇 개를 선택할지를 정하여 `Random Search` 모델 선언 후 학습"
   ]
  },
  {
   "cell_type": "markdown",
   "id": "c4cfc541",
   "metadata": {},
   "source": [
    "`-` 학습 데이터에 대해 가장 좋은 성능을 보인 파라미터 값으로 자동 학습함."
   ]
  },
  {
   "cell_type": "markdown",
   "id": "c4cacebc",
   "metadata": {},
   "source": [
    "* 참고로 Grid Search, Random Search를 사용할 때 내부적으로 **K-Fold Cross Validation**을 위해 cv값을 지정하므로!"
   ]
  },
  {
   "cell_type": "markdown",
   "id": "5733c7ac",
   "metadata": {},
   "source": [
    "* 실제 수행되는 횟수는 <font color =\"red\"> 파라미터 조합 수 x CV값</font>이 된다."
   ]
  },
  {
   "cell_type": "markdown",
   "id": "c5fa131c",
   "metadata": {},
   "source": [
    "> code\n",
    "\n",
    "\n",
    "```python\n",
    "# 함수 불러오기\n",
    "from sklearn.neighbors import KNeighborsClassifier\n",
    "from sklearn.model_selection import RandomizedSearchCV\n",
    "\n",
    "\n",
    "# 파라미터 선언\n",
    "param = {'n_neighbors': range(1, 500, 10),\n",
    "'metric': ['euclidean', 'manhattan']}\n",
    "\n",
    "# 기본모델 선언\n",
    "knn_model = KNeighborsClassifier()\n",
    "# Random Search 선언\n",
    "model = RandomizedSearchCV(knn_model, \n",
    "                                                       param, cv=3, # (default = 5)\n",
    "                                                           n_iter=20) ### 전체 파라미터 범위에서 몇 개를 뽑을 것인지 (default = 10)\n",
    "```"
   ]
  },
  {
   "cell_type": "markdown",
   "id": "45b4456f",
   "metadata": {},
   "source": [
    "* 또한, 두 가지 기법을 섞어서 사용할 수 있음! (강의자료 참고)"
   ]
  },
  {
   "cell_type": "markdown",
   "id": "916c7116",
   "metadata": {},
   "source": [
    "***"
   ]
  },
  {
   "cell_type": "markdown",
   "id": "403ebbde",
   "metadata": {},
   "source": [
    "## 04. 클래스 불균형"
   ]
  },
  {
   "cell_type": "markdown",
   "id": "ed9efc4a",
   "metadata": {},
   "source": [
    "`-` 머신러닝 알고리즘은 데이터가 클래스 간에 균형 있게 분포되어 있다고 가정함"
   ]
  },
  {
   "cell_type": "markdown",
   "id": "6a183040",
   "metadata": {},
   "source": [
    "> example : 생존자와 사망자 수가 거의 같을 것이다~~"
   ]
  },
  {
   "cell_type": "markdown",
   "id": "da717295",
   "metadata": {},
   "source": [
    "`-` 클래스 불균형으로 인한 재현율이 형편없어지는 경우는 아래 링크를 참고!\n",
    "\n",
    "* [재현율](https://gangcheol.github.io/ISLP2023/posts/study/2023-09-03-00.%20%EB%8B%A8%EC%88%9C%EC%84%A0%ED%98%95%ED%9A%8C%EA%B7%80%EB%B6%84%EC%84%9D.html#extra-2.-%ED%8F%89%EA%B0%80%EC%A7%80%ED%91%9C)"
   ]
  },
  {
   "cell_type": "markdown",
   "id": "78835fef",
   "metadata": {},
   "source": [
    "#### 해결방법 (1) Resampling"
   ]
  },
  {
   "cell_type": "markdown",
   "id": "344e4739",
   "metadata": {},
   "source": [
    "`-` under sampling"
   ]
  },
  {
   "cell_type": "markdown",
   "id": "f17e5330",
   "metadata": {},
   "source": [
    "* 다수 클래스 데이터를 소수 클래스 수 만큼 랜덤 샘플링"
   ]
  },
  {
   "cell_type": "markdown",
   "id": "7dee3add",
   "metadata": {},
   "source": [
    "`-` over sampling"
   ]
  },
  {
   "cell_type": "markdown",
   "id": "5ddd8405",
   "metadata": {},
   "source": [
    "* 소수의 클래스 데이터를 다수 클래스 수 만큼 랜덤 샘플링"
   ]
  },
  {
   "cell_type": "markdown",
   "id": "2ff4abcb",
   "metadata": {},
   "source": [
    "```python\n",
    "# pip install imbalanced-learn\n",
    "# 불러오기\n",
    "from imblearn.under_sampling import RandomUnderSampler\n",
    "\n",
    "# Under Sampling\n",
    "under_sample = RandomUnderSampler()\n",
    "u_x_train, u_y_train = under_sample.fit_resample(x_train, y_train)\n",
    "\n",
    "# 확인\n",
    "print('전:', np.bincount(y_train))\n",
    "print('후:', np.bincount(u_y_train))\n",
    "\n",
    "# 불러오기\n",
    "from imblearn.over_sampling import RandomOverSampler\n",
    "\n",
    "# Over Sampling\n",
    "over_sample = RandomOverSampler()\n",
    "o_x_train, o_y_train = over_sample.fit_resample(x_train, y_train)\n",
    "\n",
    "# 확인\n",
    "print('전:', np.bincount(y_train))\n",
    "print('후:', np.bincount(o_y_train))\n",
    "```"
   ]
  },
  {
   "cell_type": "markdown",
   "id": "be96f260",
   "metadata": {},
   "source": [
    "`-` over sampling (2)"
   ]
  },
  {
   "cell_type": "markdown",
   "id": "1bae3698",
   "metadata": {},
   "source": [
    "```python\n",
    "# 불러오기\n",
    "from imblearn.over_sampling import SMOTE\n",
    "\n",
    "# Over Sampling\n",
    "smote = SMOTE()\n",
    "s_x_train, s_y_train = smote.fit_resample(x_train, y_train)\n",
    "\n",
    "# 확인\n",
    "print('전:', np.bincount(y_train))\n",
    "print('후:', np.bincount(s_y_train))\n",
    "```"
   ]
  },
  {
   "cell_type": "markdown",
   "id": "8a38751f",
   "metadata": {},
   "source": [
    "#### 해결방법 (2) Class weight"
   ]
  },
  {
   "cell_type": "markdown",
   "id": "91df3c8f",
   "metadata": {},
   "source": [
    "`-` resampling 없이 클래스에 가중치를 부여하여 클래스 불균형 문제를 해결해줌"
   ]
  },
  {
   "cell_type": "markdown",
   "id": "e6bd4434",
   "metadata": {},
   "source": [
    "* 학습하는 동안 알고리즘의 비용함수에서 소수 클래스에 더 많은 가중치를 부여하여 소수 클래스에 더 높은 패널티를 제공함으로써, 소수 클래스에 대한 오류를 줄이게 됨"
   ]
  },
  {
   "cell_type": "markdown",
   "id": "63e28df4",
   "metadata": {},
   "source": [
    "* sklearn에서 제공하는 알고리즘 대부분 `class_weight`라는 하이퍼 파라미터를 제공한다.\n",
    "\n",
    "    * class_weight = 'None' : 기본값\n",
    "\n",
    "    * class_weight = 'balanced': y_train의 class 비율을 역으로 적용\n",
    "\n",
    "    * class_weight={0:0.2, 1:0.8}: 비율 지정, 단 비율의 합은 1\n"
   ]
  },
  {
   "cell_type": "markdown",
   "id": "0051bfa6",
   "metadata": {},
   "source": [
    "* 주의! $\\to$ 전반적인 성능을 높이기 위한 작업이 아니라, 소수 클래스 성능을 높이기 위한 작업임!"
   ]
  },
  {
   "cell_type": "markdown",
   "id": "394ba76a",
   "metadata": {},
   "source": [
    "***"
   ]
  },
  {
   "cell_type": "markdown",
   "id": "b2a6e6c0",
   "metadata": {},
   "source": [
    "##  06. excersise"
   ]
  },
  {
   "cell_type": "markdown",
   "id": "26268228",
   "metadata": {},
   "source": [
    "### 0. import"
   ]
  },
  {
   "cell_type": "code",
   "execution_count": 56,
   "id": "19811d3f",
   "metadata": {},
   "outputs": [],
   "source": [
    "# 라이브러리 불러오기\n",
    "import numpy as np\n",
    "import pandas as pd\n",
    "import matplotlib.pyplot as plt\n",
    "import seaborn as sns\n",
    "import warnings\n",
    "import plotly.io as pio\n",
    "pio.renderers.default = \"plotly_mimetype+notebook_connected\"\n",
    "\n",
    "warnings.filterwarnings(action='ignore')\n",
    "%config InlineBackend.figure_format = 'retina'"
   ]
  },
  {
   "cell_type": "markdown",
   "id": "5883f02e",
   "metadata": {},
   "source": [
    "### 1. 데이터 이해 및 준비"
   ]
  },
  {
   "cell_type": "code",
   "execution_count": 57,
   "id": "720770da",
   "metadata": {},
   "outputs": [],
   "source": [
    "# 데이터 불러오기\n",
    "path = 'https://raw.githubusercontent.com/jangrae/csv/master/airline_satisfaction_small.csv'\n",
    "data = pd.read_csv(path)"
   ]
  },
  {
   "cell_type": "code",
   "execution_count": 58,
   "id": "7671e9a2",
   "metadata": {},
   "outputs": [
    {
     "data": {
      "text/html": [
       "<div>\n",
       "<style scoped>\n",
       "    .dataframe tbody tr th:only-of-type {\n",
       "        vertical-align: middle;\n",
       "    }\n",
       "\n",
       "    .dataframe tbody tr th {\n",
       "        vertical-align: top;\n",
       "    }\n",
       "\n",
       "    .dataframe thead th {\n",
       "        text-align: right;\n",
       "    }\n",
       "</style>\n",
       "<table border=\"1\" class=\"dataframe\">\n",
       "  <thead>\n",
       "    <tr style=\"text-align: right;\">\n",
       "      <th></th>\n",
       "      <th>id</th>\n",
       "      <th>gender</th>\n",
       "      <th>customer_type</th>\n",
       "      <th>age</th>\n",
       "      <th>type_of_travel</th>\n",
       "      <th>class</th>\n",
       "      <th>flight_distance</th>\n",
       "      <th>inflight_wifi_service</th>\n",
       "      <th>departure/arrival_time_convenient</th>\n",
       "      <th>ease_of_online_booking</th>\n",
       "      <th>...</th>\n",
       "      <th>inflight_entertainment</th>\n",
       "      <th>on-board_service</th>\n",
       "      <th>leg_room_service</th>\n",
       "      <th>baggage_handling</th>\n",
       "      <th>checkin_service</th>\n",
       "      <th>inflight_service</th>\n",
       "      <th>cleanliness</th>\n",
       "      <th>departure_delay_in_minutes</th>\n",
       "      <th>arrival_delay_in_minutes</th>\n",
       "      <th>satisfaction</th>\n",
       "    </tr>\n",
       "  </thead>\n",
       "  <tbody>\n",
       "    <tr>\n",
       "      <th>0</th>\n",
       "      <td>70172</td>\n",
       "      <td>Male</td>\n",
       "      <td>Loyal Customer</td>\n",
       "      <td>13</td>\n",
       "      <td>Personal Travel</td>\n",
       "      <td>Eco Plus</td>\n",
       "      <td>460</td>\n",
       "      <td>3</td>\n",
       "      <td>4</td>\n",
       "      <td>3</td>\n",
       "      <td>...</td>\n",
       "      <td>5</td>\n",
       "      <td>4</td>\n",
       "      <td>3</td>\n",
       "      <td>4</td>\n",
       "      <td>4</td>\n",
       "      <td>5</td>\n",
       "      <td>5</td>\n",
       "      <td>25</td>\n",
       "      <td>18.0</td>\n",
       "      <td>0</td>\n",
       "    </tr>\n",
       "    <tr>\n",
       "      <th>1</th>\n",
       "      <td>5047</td>\n",
       "      <td>Male</td>\n",
       "      <td>disloyal Customer</td>\n",
       "      <td>25</td>\n",
       "      <td>Business travel</td>\n",
       "      <td>Business</td>\n",
       "      <td>235</td>\n",
       "      <td>3</td>\n",
       "      <td>2</td>\n",
       "      <td>3</td>\n",
       "      <td>...</td>\n",
       "      <td>1</td>\n",
       "      <td>1</td>\n",
       "      <td>5</td>\n",
       "      <td>3</td>\n",
       "      <td>1</td>\n",
       "      <td>4</td>\n",
       "      <td>1</td>\n",
       "      <td>1</td>\n",
       "      <td>6.0</td>\n",
       "      <td>0</td>\n",
       "    </tr>\n",
       "    <tr>\n",
       "      <th>2</th>\n",
       "      <td>110028</td>\n",
       "      <td>Female</td>\n",
       "      <td>Loyal Customer</td>\n",
       "      <td>26</td>\n",
       "      <td>Business travel</td>\n",
       "      <td>Business</td>\n",
       "      <td>1142</td>\n",
       "      <td>2</td>\n",
       "      <td>2</td>\n",
       "      <td>2</td>\n",
       "      <td>...</td>\n",
       "      <td>5</td>\n",
       "      <td>4</td>\n",
       "      <td>3</td>\n",
       "      <td>4</td>\n",
       "      <td>4</td>\n",
       "      <td>4</td>\n",
       "      <td>5</td>\n",
       "      <td>0</td>\n",
       "      <td>0.0</td>\n",
       "      <td>1</td>\n",
       "    </tr>\n",
       "    <tr>\n",
       "      <th>3</th>\n",
       "      <td>24026</td>\n",
       "      <td>Female</td>\n",
       "      <td>Loyal Customer</td>\n",
       "      <td>25</td>\n",
       "      <td>Business travel</td>\n",
       "      <td>Business</td>\n",
       "      <td>562</td>\n",
       "      <td>2</td>\n",
       "      <td>5</td>\n",
       "      <td>5</td>\n",
       "      <td>...</td>\n",
       "      <td>2</td>\n",
       "      <td>2</td>\n",
       "      <td>5</td>\n",
       "      <td>3</td>\n",
       "      <td>1</td>\n",
       "      <td>4</td>\n",
       "      <td>2</td>\n",
       "      <td>11</td>\n",
       "      <td>9.0</td>\n",
       "      <td>0</td>\n",
       "    </tr>\n",
       "    <tr>\n",
       "      <th>4</th>\n",
       "      <td>119299</td>\n",
       "      <td>Male</td>\n",
       "      <td>Loyal Customer</td>\n",
       "      <td>61</td>\n",
       "      <td>Business travel</td>\n",
       "      <td>Business</td>\n",
       "      <td>214</td>\n",
       "      <td>3</td>\n",
       "      <td>3</td>\n",
       "      <td>3</td>\n",
       "      <td>...</td>\n",
       "      <td>3</td>\n",
       "      <td>3</td>\n",
       "      <td>4</td>\n",
       "      <td>4</td>\n",
       "      <td>3</td>\n",
       "      <td>3</td>\n",
       "      <td>3</td>\n",
       "      <td>0</td>\n",
       "      <td>0.0</td>\n",
       "      <td>1</td>\n",
       "    </tr>\n",
       "  </tbody>\n",
       "</table>\n",
       "<p>5 rows × 24 columns</p>\n",
       "</div>"
      ],
      "text/plain": [
       "       id  gender      customer_type  age   type_of_travel     class  \\\n",
       "0   70172    Male     Loyal Customer   13  Personal Travel  Eco Plus   \n",
       "1    5047    Male  disloyal Customer   25  Business travel  Business   \n",
       "2  110028  Female     Loyal Customer   26  Business travel  Business   \n",
       "3   24026  Female     Loyal Customer   25  Business travel  Business   \n",
       "4  119299    Male     Loyal Customer   61  Business travel  Business   \n",
       "\n",
       "   flight_distance  inflight_wifi_service  departure/arrival_time_convenient  \\\n",
       "0              460                      3                                  4   \n",
       "1              235                      3                                  2   \n",
       "2             1142                      2                                  2   \n",
       "3              562                      2                                  5   \n",
       "4              214                      3                                  3   \n",
       "\n",
       "   ease_of_online_booking  ...  inflight_entertainment  on-board_service  \\\n",
       "0                       3  ...                       5                 4   \n",
       "1                       3  ...                       1                 1   \n",
       "2                       2  ...                       5                 4   \n",
       "3                       5  ...                       2                 2   \n",
       "4                       3  ...                       3                 3   \n",
       "\n",
       "   leg_room_service  baggage_handling  checkin_service  inflight_service  \\\n",
       "0                 3                 4                4                 5   \n",
       "1                 5                 3                1                 4   \n",
       "2                 3                 4                4                 4   \n",
       "3                 5                 3                1                 4   \n",
       "4                 4                 4                3                 3   \n",
       "\n",
       "   cleanliness  departure_delay_in_minutes  arrival_delay_in_minutes  \\\n",
       "0            5                          25                      18.0   \n",
       "1            1                           1                       6.0   \n",
       "2            5                           0                       0.0   \n",
       "3            2                          11                       9.0   \n",
       "4            3                           0                       0.0   \n",
       "\n",
       "   satisfaction  \n",
       "0             0  \n",
       "1             0  \n",
       "2             1  \n",
       "3             0  \n",
       "4             1  \n",
       "\n",
       "[5 rows x 24 columns]"
      ]
     },
     "execution_count": 58,
     "metadata": {},
     "output_type": "execute_result"
    }
   ],
   "source": [
    "data.head()"
   ]
  },
  {
   "cell_type": "code",
   "execution_count": 59,
   "id": "f7cd52db",
   "metadata": {},
   "outputs": [
    {
     "name": "stdout",
     "output_type": "stream",
     "text": [
      "<class 'pandas.core.frame.DataFrame'>\n",
      "RangeIndex: 2580 entries, 0 to 2579\n",
      "Data columns (total 24 columns):\n",
      " #   Column                             Non-Null Count  Dtype  \n",
      "---  ------                             --------------  -----  \n",
      " 0   id                                 2580 non-null   int64  \n",
      " 1   gender                             2580 non-null   object \n",
      " 2   customer_type                      2580 non-null   object \n",
      " 3   age                                2580 non-null   int64  \n",
      " 4   type_of_travel                     2580 non-null   object \n",
      " 5   class                              2580 non-null   object \n",
      " 6   flight_distance                    2580 non-null   int64  \n",
      " 7   inflight_wifi_service              2580 non-null   int64  \n",
      " 8   departure/arrival_time_convenient  2580 non-null   int64  \n",
      " 9   ease_of_online_booking             2580 non-null   int64  \n",
      " 10  gate_location                      2580 non-null   int64  \n",
      " 11  food_and_drink                     2580 non-null   int64  \n",
      " 12  online_boarding                    2580 non-null   int64  \n",
      " 13  seat_comfort                       2580 non-null   int64  \n",
      " 14  inflight_entertainment             2580 non-null   int64  \n",
      " 15  on-board_service                   2580 non-null   int64  \n",
      " 16  leg_room_service                   2580 non-null   int64  \n",
      " 17  baggage_handling                   2580 non-null   int64  \n",
      " 18  checkin_service                    2580 non-null   int64  \n",
      " 19  inflight_service                   2580 non-null   int64  \n",
      " 20  cleanliness                        2580 non-null   int64  \n",
      " 21  departure_delay_in_minutes         2580 non-null   int64  \n",
      " 22  arrival_delay_in_minutes           2574 non-null   float64\n",
      " 23  satisfaction                       2580 non-null   int64  \n",
      "dtypes: float64(1), int64(19), object(4)\n",
      "memory usage: 483.9+ KB\n"
     ]
    }
   ],
   "source": [
    "data.info()"
   ]
  },
  {
   "cell_type": "markdown",
   "id": "9fe708ef",
   "metadata": {},
   "source": [
    "`-` 쓸모없는 변수 제거"
   ]
  },
  {
   "cell_type": "code",
   "execution_count": 60,
   "id": "0c88525d",
   "metadata": {},
   "outputs": [
    {
     "data": {
      "text/html": [
       "<div>\n",
       "<style scoped>\n",
       "    .dataframe tbody tr th:only-of-type {\n",
       "        vertical-align: middle;\n",
       "    }\n",
       "\n",
       "    .dataframe tbody tr th {\n",
       "        vertical-align: top;\n",
       "    }\n",
       "\n",
       "    .dataframe thead th {\n",
       "        text-align: right;\n",
       "    }\n",
       "</style>\n",
       "<table border=\"1\" class=\"dataframe\">\n",
       "  <thead>\n",
       "    <tr style=\"text-align: right;\">\n",
       "      <th></th>\n",
       "      <th>gender</th>\n",
       "      <th>customer_type</th>\n",
       "      <th>age</th>\n",
       "      <th>type_of_travel</th>\n",
       "      <th>class</th>\n",
       "      <th>flight_distance</th>\n",
       "      <th>inflight_wifi_service</th>\n",
       "      <th>ease_of_online_booking</th>\n",
       "      <th>food_and_drink</th>\n",
       "      <th>online_boarding</th>\n",
       "      <th>seat_comfort</th>\n",
       "      <th>inflight_entertainment</th>\n",
       "      <th>on-board_service</th>\n",
       "      <th>leg_room_service</th>\n",
       "      <th>baggage_handling</th>\n",
       "      <th>checkin_service</th>\n",
       "      <th>inflight_service</th>\n",
       "      <th>cleanliness</th>\n",
       "      <th>arrival_delay_in_minutes</th>\n",
       "      <th>satisfaction</th>\n",
       "    </tr>\n",
       "  </thead>\n",
       "  <tbody>\n",
       "    <tr>\n",
       "      <th>0</th>\n",
       "      <td>Male</td>\n",
       "      <td>Loyal Customer</td>\n",
       "      <td>13</td>\n",
       "      <td>Personal Travel</td>\n",
       "      <td>Eco Plus</td>\n",
       "      <td>460</td>\n",
       "      <td>3</td>\n",
       "      <td>3</td>\n",
       "      <td>5</td>\n",
       "      <td>3</td>\n",
       "      <td>5</td>\n",
       "      <td>5</td>\n",
       "      <td>4</td>\n",
       "      <td>3</td>\n",
       "      <td>4</td>\n",
       "      <td>4</td>\n",
       "      <td>5</td>\n",
       "      <td>5</td>\n",
       "      <td>18.0</td>\n",
       "      <td>0</td>\n",
       "    </tr>\n",
       "    <tr>\n",
       "      <th>1</th>\n",
       "      <td>Male</td>\n",
       "      <td>disloyal Customer</td>\n",
       "      <td>25</td>\n",
       "      <td>Business travel</td>\n",
       "      <td>Business</td>\n",
       "      <td>235</td>\n",
       "      <td>3</td>\n",
       "      <td>3</td>\n",
       "      <td>1</td>\n",
       "      <td>3</td>\n",
       "      <td>1</td>\n",
       "      <td>1</td>\n",
       "      <td>1</td>\n",
       "      <td>5</td>\n",
       "      <td>3</td>\n",
       "      <td>1</td>\n",
       "      <td>4</td>\n",
       "      <td>1</td>\n",
       "      <td>6.0</td>\n",
       "      <td>0</td>\n",
       "    </tr>\n",
       "    <tr>\n",
       "      <th>2</th>\n",
       "      <td>Female</td>\n",
       "      <td>Loyal Customer</td>\n",
       "      <td>26</td>\n",
       "      <td>Business travel</td>\n",
       "      <td>Business</td>\n",
       "      <td>1142</td>\n",
       "      <td>2</td>\n",
       "      <td>2</td>\n",
       "      <td>5</td>\n",
       "      <td>5</td>\n",
       "      <td>5</td>\n",
       "      <td>5</td>\n",
       "      <td>4</td>\n",
       "      <td>3</td>\n",
       "      <td>4</td>\n",
       "      <td>4</td>\n",
       "      <td>4</td>\n",
       "      <td>5</td>\n",
       "      <td>0.0</td>\n",
       "      <td>1</td>\n",
       "    </tr>\n",
       "    <tr>\n",
       "      <th>3</th>\n",
       "      <td>Female</td>\n",
       "      <td>Loyal Customer</td>\n",
       "      <td>25</td>\n",
       "      <td>Business travel</td>\n",
       "      <td>Business</td>\n",
       "      <td>562</td>\n",
       "      <td>2</td>\n",
       "      <td>5</td>\n",
       "      <td>2</td>\n",
       "      <td>2</td>\n",
       "      <td>2</td>\n",
       "      <td>2</td>\n",
       "      <td>2</td>\n",
       "      <td>5</td>\n",
       "      <td>3</td>\n",
       "      <td>1</td>\n",
       "      <td>4</td>\n",
       "      <td>2</td>\n",
       "      <td>9.0</td>\n",
       "      <td>0</td>\n",
       "    </tr>\n",
       "    <tr>\n",
       "      <th>4</th>\n",
       "      <td>Male</td>\n",
       "      <td>Loyal Customer</td>\n",
       "      <td>61</td>\n",
       "      <td>Business travel</td>\n",
       "      <td>Business</td>\n",
       "      <td>214</td>\n",
       "      <td>3</td>\n",
       "      <td>3</td>\n",
       "      <td>4</td>\n",
       "      <td>5</td>\n",
       "      <td>5</td>\n",
       "      <td>3</td>\n",
       "      <td>3</td>\n",
       "      <td>4</td>\n",
       "      <td>4</td>\n",
       "      <td>3</td>\n",
       "      <td>3</td>\n",
       "      <td>3</td>\n",
       "      <td>0.0</td>\n",
       "      <td>1</td>\n",
       "    </tr>\n",
       "  </tbody>\n",
       "</table>\n",
       "</div>"
      ],
      "text/plain": [
       "   gender      customer_type  age   type_of_travel     class  flight_distance  \\\n",
       "0    Male     Loyal Customer   13  Personal Travel  Eco Plus              460   \n",
       "1    Male  disloyal Customer   25  Business travel  Business              235   \n",
       "2  Female     Loyal Customer   26  Business travel  Business             1142   \n",
       "3  Female     Loyal Customer   25  Business travel  Business              562   \n",
       "4    Male     Loyal Customer   61  Business travel  Business              214   \n",
       "\n",
       "   inflight_wifi_service  ease_of_online_booking  food_and_drink  \\\n",
       "0                      3                       3               5   \n",
       "1                      3                       3               1   \n",
       "2                      2                       2               5   \n",
       "3                      2                       5               2   \n",
       "4                      3                       3               4   \n",
       "\n",
       "   online_boarding  seat_comfort  inflight_entertainment  on-board_service  \\\n",
       "0                3             5                       5                 4   \n",
       "1                3             1                       1                 1   \n",
       "2                5             5                       5                 4   \n",
       "3                2             2                       2                 2   \n",
       "4                5             5                       3                 3   \n",
       "\n",
       "   leg_room_service  baggage_handling  checkin_service  inflight_service  \\\n",
       "0                 3                 4                4                 5   \n",
       "1                 5                 3                1                 4   \n",
       "2                 3                 4                4                 4   \n",
       "3                 5                 3                1                 4   \n",
       "4                 4                 4                3                 3   \n",
       "\n",
       "   cleanliness  arrival_delay_in_minutes  satisfaction  \n",
       "0            5                      18.0             0  \n",
       "1            1                       6.0             0  \n",
       "2            5                       0.0             1  \n",
       "3            2                       9.0             0  \n",
       "4            3                       0.0             1  "
      ]
     },
     "execution_count": 60,
     "metadata": {},
     "output_type": "execute_result"
    }
   ],
   "source": [
    "# 변수 제거\n",
    "d_cols = [\"id\", \"departure/arrival_time_convenient\", \"gate_location\", \"departure_delay_in_minutes\"]\n",
    "\n",
    "\n",
    "data.drop(d_cols,axis=1, inplace = True)\n",
    "data.head()"
   ]
  },
  {
   "cell_type": "markdown",
   "id": "162f1034",
   "metadata": {},
   "source": [
    "`-` 결측치 확인"
   ]
  },
  {
   "cell_type": "code",
   "execution_count": 61,
   "id": "6ccf7257",
   "metadata": {},
   "outputs": [
    {
     "name": "stdout",
     "output_type": "stream",
     "text": [
      "Index(['arrival_delay_in_minutes'], dtype='object')\n"
     ]
    }
   ],
   "source": [
    "print(data.columns[data.isna().sum() !=0])"
   ]
  },
  {
   "cell_type": "code",
   "execution_count": 62,
   "id": "d7a0a1a8",
   "metadata": {},
   "outputs": [
    {
     "data": {
      "text/plain": [
       "6"
      ]
     },
     "execution_count": 62,
     "metadata": {},
     "output_type": "execute_result"
    }
   ],
   "source": [
    "data.arrival_delay_in_minutes.isna().sum()"
   ]
  },
  {
   "cell_type": "markdown",
   "id": "3cbc6c27",
   "metadata": {},
   "source": [
    "`-` 현재 `arrival_delay_in_minutes`의 6개 결측치가 확인된다."
   ]
  },
  {
   "cell_type": "markdown",
   "id": "33912b37",
   "metadata": {},
   "source": [
    "* 결측치 제거를 위해 해당 변수의 분포를 확인하자."
   ]
  },
  {
   "cell_type": "code",
   "execution_count": 63,
   "id": "77a612ab",
   "metadata": {},
   "outputs": [
    {
     "data": {
      "text/html": [
       "        <script type=\"text/javascript\">\n",
       "        window.PlotlyConfig = {MathJaxConfig: 'local'};\n",
       "        if (window.MathJax && window.MathJax.Hub && window.MathJax.Hub.Config) {window.MathJax.Hub.Config({SVG: {font: \"STIX-Web\"}});}\n",
       "        if (typeof require !== 'undefined') {\n",
       "        require.undef(\"plotly\");\n",
       "        requirejs.config({\n",
       "            paths: {\n",
       "                'plotly': ['https://cdn.plot.ly/plotly-2.25.2.min']\n",
       "            }\n",
       "        });\n",
       "        require(['plotly'], function(Plotly) {\n",
       "            window._Plotly = Plotly;\n",
       "        });\n",
       "        }\n",
       "        </script>\n",
       "        "
      ]
     },
     "metadata": {},
     "output_type": "display_data"
    },
    {
     "data": {
      "application/vnd.plotly.v1+json": {
       "config": {
        "plotlyServerURL": "https://plot.ly"
       },
       "data": [
        {
         "alignmentgroup": "True",
         "bingroup": "x",
         "hovertemplate": "arrival_delay_in_minutes=%{x}<br>count=%{y}<extra></extra>",
         "legendgroup": "",
         "marker": {
          "color": "#636efa",
          "pattern": {
           "shape": ""
          }
         },
         "name": "",
         "nbinsx": 100,
         "offsetgroup": "",
         "orientation": "v",
         "showlegend": false,
         "type": "histogram",
         "x": [
          18,
          6,
          0,
          9,
          0,
          0,
          23,
          0,
          0,
          0,
          0,
          0,
          8,
          0,
          35,
          0,
          51,
          10,
          5,
          18,
          4,
          0,
          29,
          0,
          44,
          28,
          0,
          8,
          12,
          0,
          0,
          0,
          120,
          24,
          0,
          1,
          0,
          20,
          31,
          0,
          0,
          23,
          0,
          0,
          15,
          0,
          0,
          0,
          0,
          0,
          8,
          1,
          0,
          0,
          10,
          48,
          5,
          0,
          26,
          0,
          0,
          0,
          1,
          0,
          15,
          0,
          0,
          0,
          12,
          0,
          0,
          49,
          2,
          37,
          0,
          1,
          6,
          5,
          0,
          0,
          48,
          0,
          8,
          0,
          50,
          3,
          0,
          0,
          0,
          0,
          0,
          19,
          72,
          0,
          11,
          34,
          18,
          0,
          62,
          27,
          52,
          0,
          0,
          0,
          0,
          0,
          0,
          23,
          0,
          0,
          3,
          13,
          0,
          82,
          0,
          10,
          0,
          0,
          23,
          0,
          9,
          0,
          0,
          9,
          30,
          0,
          8,
          16,
          0,
          0,
          11,
          3,
          0,
          0,
          0,
          0,
          0,
          0,
          0,
          0,
          10,
          0,
          0,
          0,
          6,
          6,
          7,
          7,
          0,
          0,
          10,
          15,
          0,
          0,
          0,
          27,
          122,
          0,
          0,
          3,
          0,
          11,
          0,
          0,
          0,
          27,
          30,
          2,
          179,
          15,
          0,
          0,
          1,
          20,
          0,
          0,
          0,
          7,
          125,
          0,
          0,
          26,
          0,
          0,
          9,
          0,
          0,
          26,
          0,
          0,
          19,
          0,
          0,
          4,
          0,
          0,
          0,
          17,
          0,
          18,
          0,
          0,
          17,
          3,
          0,
          8,
          0,
          0,
          2,
          2,
          0,
          0,
          0,
          null,
          89,
          0,
          34,
          0,
          0,
          4,
          0,
          0,
          0,
          0,
          0,
          0,
          0,
          0,
          6,
          0,
          0,
          5,
          0,
          9,
          28,
          0,
          101,
          11,
          0,
          4,
          0,
          0,
          3,
          14,
          20,
          0,
          61,
          48,
          6,
          3,
          0,
          0,
          0,
          11,
          0,
          0,
          0,
          0,
          18,
          0,
          28,
          0,
          0,
          32,
          0,
          6,
          0,
          6,
          13,
          16,
          0,
          0,
          15,
          0,
          33,
          41,
          0,
          0,
          191,
          2,
          37,
          1,
          138,
          13,
          4,
          53,
          14,
          0,
          7,
          22,
          0,
          57,
          7,
          28,
          0,
          65,
          4,
          44,
          0,
          0,
          0,
          0,
          0,
          0,
          76,
          107,
          12,
          0,
          11,
          28,
          0,
          92,
          32,
          0,
          0,
          0,
          0,
          0,
          0,
          0,
          8,
          2,
          0,
          12,
          0,
          7,
          16,
          0,
          0,
          0,
          0,
          0,
          0,
          0,
          11,
          13,
          1,
          0,
          8,
          0,
          164,
          28,
          0,
          0,
          0,
          0,
          0,
          5,
          5,
          24,
          0,
          0,
          34,
          6,
          3,
          9,
          0,
          32,
          22,
          8,
          0,
          5,
          2,
          0,
          5,
          0,
          0,
          0,
          0,
          6,
          0,
          0,
          5,
          0,
          21,
          0,
          0,
          7,
          0,
          0,
          62,
          0,
          52,
          0,
          15,
          0,
          0,
          4,
          0,
          40,
          0,
          0,
          49,
          3,
          7,
          0,
          0,
          4,
          0,
          0,
          0,
          0,
          55,
          1,
          185,
          63,
          0,
          0,
          77,
          0,
          89,
          23,
          0,
          0,
          0,
          86,
          5,
          2,
          5,
          0,
          91,
          0,
          0,
          0,
          52,
          0,
          0,
          0,
          0,
          100,
          0,
          0,
          6,
          0,
          54,
          0,
          24,
          17,
          0,
          40,
          36,
          1,
          24,
          70,
          139,
          33,
          92,
          0,
          0,
          14,
          0,
          67,
          0,
          7,
          0,
          0,
          0,
          4,
          163,
          8,
          0,
          0,
          6,
          0,
          0,
          0,
          0,
          0,
          0,
          0,
          0,
          0,
          52,
          0,
          21,
          128,
          0,
          0,
          21,
          3,
          0,
          4,
          180,
          3,
          1,
          37,
          23,
          13,
          5,
          0,
          0,
          0,
          0,
          0,
          0,
          93,
          0,
          0,
          0,
          0,
          8,
          0,
          121,
          30,
          6,
          4,
          33,
          52,
          9,
          0,
          17,
          7,
          0,
          0,
          2,
          0,
          0,
          2,
          3,
          6,
          22,
          0,
          0,
          17,
          0,
          0,
          9,
          0,
          0,
          26,
          0,
          0,
          0,
          0,
          0,
          0,
          45,
          51,
          105,
          126,
          0,
          0,
          56,
          0,
          0,
          31,
          100,
          0,
          0,
          0,
          18,
          5,
          0,
          8,
          0,
          45,
          27,
          4,
          40,
          19,
          0,
          73,
          10,
          0,
          0,
          0,
          0,
          0,
          0,
          1,
          0,
          11,
          4,
          24,
          0,
          0,
          6,
          0,
          5,
          11,
          0,
          0,
          212,
          0,
          14,
          3,
          0,
          126,
          0,
          0,
          0,
          0,
          8,
          27,
          0,
          0,
          18,
          0,
          3,
          88,
          4,
          4,
          0,
          241,
          30,
          0,
          0,
          51,
          0,
          0,
          172,
          0,
          15,
          0,
          4,
          0,
          0,
          6,
          12,
          175,
          23,
          0,
          0,
          0,
          44,
          6,
          111,
          0,
          16,
          0,
          0,
          0,
          0,
          88,
          61,
          0,
          3,
          0,
          13,
          27,
          99,
          0,
          0,
          0,
          0,
          0,
          0,
          1,
          111,
          25,
          42,
          0,
          0,
          76,
          0,
          6,
          0,
          0,
          0,
          0,
          5,
          0,
          6,
          10,
          0,
          226,
          0,
          0,
          0,
          0,
          0,
          46,
          0,
          0,
          131,
          0,
          12,
          4,
          0,
          0,
          0,
          0,
          10,
          0,
          6,
          14,
          1,
          0,
          33,
          45,
          0,
          21,
          0,
          0,
          100,
          5,
          4,
          2,
          31,
          15,
          0,
          0,
          0,
          260,
          56,
          32,
          7,
          6,
          0,
          0,
          0,
          22,
          0,
          5,
          0,
          0,
          0,
          86,
          0,
          0,
          0,
          20,
          0,
          92,
          6,
          26,
          0,
          0,
          0,
          1,
          0,
          11,
          0,
          0,
          0,
          0,
          0,
          5,
          0,
          3,
          0,
          0,
          9,
          0,
          6,
          0,
          26,
          0,
          0,
          0,
          0,
          0,
          0,
          0,
          0,
          0,
          0,
          27,
          0,
          19,
          0,
          0,
          0,
          0,
          16,
          33,
          0,
          0,
          0,
          33,
          0,
          0,
          5,
          0,
          69,
          0,
          0,
          5,
          0,
          49,
          26,
          0,
          0,
          0,
          0,
          0,
          0,
          0,
          45,
          0,
          27,
          0,
          142,
          0,
          2,
          58,
          0,
          1,
          100,
          0,
          8,
          0,
          0,
          3,
          0,
          75,
          0,
          0,
          0,
          61,
          0,
          0,
          0,
          27,
          23,
          38,
          6,
          33,
          0,
          0,
          22,
          5,
          0,
          0,
          34,
          3,
          0,
          0,
          0,
          66,
          100,
          14,
          0,
          12,
          0,
          0,
          0,
          0,
          0,
          0,
          7,
          0,
          18,
          0,
          0,
          2,
          39,
          1,
          0,
          0,
          22,
          56,
          36,
          20,
          0,
          0,
          0,
          0,
          12,
          103,
          0,
          13,
          13,
          0,
          55,
          1,
          93,
          46,
          86,
          0,
          0,
          0,
          0,
          8,
          0,
          4,
          44,
          0,
          0,
          0,
          27,
          1,
          0,
          0,
          31,
          0,
          20,
          44,
          0,
          0,
          3,
          17,
          0,
          0,
          0,
          307,
          0,
          0,
          0,
          0,
          0,
          156,
          3,
          0,
          0,
          0,
          0,
          25,
          0,
          2,
          0,
          19,
          74,
          0,
          2,
          7,
          0,
          0,
          0,
          76,
          91,
          0,
          9,
          0,
          0,
          0,
          109,
          10,
          4,
          0,
          109,
          0,
          0,
          0,
          0,
          22,
          0,
          33,
          0,
          5,
          77,
          25,
          9,
          0,
          0,
          51,
          0,
          33,
          9,
          0,
          15,
          0,
          65,
          11,
          0,
          101,
          0,
          3,
          0,
          0,
          34,
          155,
          0,
          1,
          0,
          2,
          16,
          2,
          0,
          0,
          0,
          0,
          0,
          11,
          0,
          4,
          0,
          1,
          0,
          0,
          21,
          19,
          7,
          38,
          14,
          0,
          2,
          0,
          0,
          13,
          0,
          60,
          0,
          0,
          0,
          0,
          19,
          0,
          0,
          0,
          7,
          0,
          0,
          12,
          32,
          0,
          0,
          0,
          0,
          32,
          32,
          0,
          0,
          0,
          0,
          0,
          13,
          1,
          19,
          0,
          45,
          0,
          0,
          0,
          0,
          0,
          0,
          0,
          0,
          17,
          154,
          0,
          33,
          7,
          0,
          0,
          29,
          15,
          0,
          0,
          41,
          0,
          0,
          0,
          3,
          20,
          43,
          5,
          0,
          0,
          0,
          43,
          0,
          0,
          2,
          0,
          0,
          0,
          147,
          2,
          0,
          53,
          1,
          1,
          2,
          11,
          0,
          18,
          5,
          60,
          62,
          0,
          13,
          0,
          0,
          39,
          217,
          4,
          60,
          0,
          0,
          0,
          3,
          0,
          0,
          0,
          0,
          124,
          0,
          48,
          0,
          1,
          0,
          0,
          0,
          0,
          0,
          3,
          0,
          0,
          30,
          53,
          0,
          0,
          0,
          0,
          9,
          0,
          0,
          0,
          47,
          0,
          150,
          40,
          0,
          0,
          9,
          0,
          116,
          39,
          0,
          4,
          0,
          0,
          null,
          1,
          0,
          0,
          4,
          171,
          0,
          0,
          0,
          105,
          0,
          0,
          22,
          5,
          0,
          73,
          84,
          15,
          0,
          40,
          22,
          0,
          15,
          0,
          11,
          30,
          0,
          123,
          7,
          0,
          0,
          0,
          165,
          0,
          0,
          0,
          11,
          0,
          29,
          41,
          56,
          39,
          39,
          0,
          165,
          0,
          0,
          0,
          0,
          6,
          5,
          0,
          0,
          0,
          0,
          0,
          27,
          6,
          0,
          0,
          0,
          0,
          0,
          1,
          94,
          0,
          0,
          0,
          51,
          0,
          0,
          0,
          83,
          20,
          6,
          0,
          0,
          39,
          0,
          336,
          44,
          0,
          0,
          0,
          0,
          0,
          17,
          0,
          14,
          17,
          0,
          0,
          0,
          0,
          124,
          155,
          0,
          0,
          59,
          219,
          13,
          42,
          0,
          15,
          0,
          0,
          0,
          12,
          34,
          0,
          82,
          8,
          0,
          0,
          0,
          0,
          1,
          0,
          0,
          11,
          0,
          37,
          46,
          0,
          0,
          87,
          39,
          0,
          1,
          4,
          0,
          0,
          35,
          0,
          0,
          40,
          0,
          3,
          116,
          5,
          459,
          0,
          0,
          31,
          2,
          0,
          0,
          0,
          4,
          10,
          89,
          33,
          13,
          41,
          11,
          23,
          0,
          53,
          0,
          0,
          0,
          0,
          28,
          49,
          0,
          15,
          54,
          0,
          0,
          0,
          0,
          0,
          24,
          11,
          0,
          12,
          175,
          0,
          2,
          0,
          4,
          6,
          0,
          0,
          4,
          0,
          31,
          0,
          0,
          68,
          0,
          0,
          0,
          0,
          19,
          0,
          0,
          11,
          6,
          0,
          8,
          25,
          0,
          0,
          0,
          0,
          0,
          0,
          0,
          0,
          22,
          175,
          0,
          0,
          3,
          2,
          0,
          0,
          0,
          31,
          2,
          0,
          50,
          0,
          9,
          5,
          4,
          62,
          0,
          21,
          0,
          38,
          1,
          0,
          104,
          0,
          0,
          0,
          18,
          0,
          0,
          2,
          60,
          0,
          0,
          0,
          133,
          17,
          0,
          1,
          0,
          0,
          52,
          8,
          0,
          7,
          6,
          16,
          46,
          10,
          0,
          3,
          0,
          9,
          0,
          6,
          32,
          49,
          0,
          134,
          1,
          43,
          0,
          0,
          81,
          259,
          0,
          77,
          80,
          12,
          0,
          0,
          79,
          0,
          3,
          0,
          16,
          0,
          16,
          0,
          6,
          1,
          4,
          0,
          68,
          0,
          3,
          0,
          222,
          0,
          0,
          15,
          0,
          0,
          0,
          6,
          6,
          0,
          2,
          0,
          0,
          0,
          203,
          0,
          6,
          2,
          24,
          0,
          0,
          0,
          0,
          9,
          0,
          0,
          0,
          0,
          47,
          12,
          28,
          11,
          0,
          22,
          1,
          0,
          0,
          0,
          0,
          0,
          19,
          0,
          154,
          3,
          0,
          354,
          24,
          6,
          0,
          0,
          14,
          0,
          0,
          0,
          16,
          0,
          9,
          0,
          0,
          1,
          6,
          7,
          0,
          0,
          1,
          7,
          0,
          0,
          40,
          1,
          37,
          5,
          20,
          19,
          0,
          52,
          5,
          0,
          0,
          0,
          138,
          0,
          0,
          0,
          0,
          7,
          0,
          0,
          0,
          0,
          16,
          0,
          93,
          0,
          0,
          2,
          22,
          0,
          21,
          23,
          0,
          0,
          0,
          0,
          0,
          0,
          17,
          null,
          61,
          0,
          0,
          0,
          2,
          0,
          27,
          0,
          0,
          0,
          0,
          0,
          0,
          28,
          32,
          0,
          8,
          1,
          0,
          3,
          4,
          75,
          24,
          0,
          22,
          17,
          0,
          9,
          5,
          0,
          5,
          0,
          0,
          12,
          80,
          16,
          0,
          0,
          0,
          0,
          8,
          11,
          2,
          39,
          0,
          0,
          0,
          0,
          41,
          31,
          26,
          0,
          33,
          15,
          23,
          214,
          0,
          17,
          14,
          0,
          1,
          83,
          17,
          4,
          0,
          2,
          0,
          0,
          0,
          0,
          0,
          0,
          8,
          8,
          0,
          0,
          10,
          0,
          38,
          0,
          78,
          0,
          0,
          0,
          31,
          0,
          0,
          0,
          8,
          0,
          0,
          0,
          10,
          0,
          12,
          4,
          8,
          9,
          0,
          18,
          0,
          0,
          0,
          0,
          0,
          0,
          0,
          133,
          0,
          14,
          0,
          2,
          7,
          0,
          14,
          3,
          12,
          0,
          0,
          18,
          9,
          7,
          0,
          10,
          0,
          0,
          0,
          0,
          0,
          0,
          2,
          32,
          69,
          0,
          0,
          47,
          9,
          0,
          20,
          0,
          19,
          41,
          6,
          31,
          7,
          8,
          0,
          0,
          0,
          27,
          0,
          0,
          17,
          0,
          31,
          3,
          0,
          0,
          0,
          19,
          30,
          0,
          0,
          0,
          0,
          0,
          40,
          0,
          0,
          0,
          4,
          0,
          0,
          0,
          11,
          18,
          14,
          5,
          9,
          0,
          0,
          0,
          23,
          18,
          22,
          4,
          17,
          125,
          0,
          0,
          4,
          3,
          12,
          10,
          0,
          0,
          5,
          3,
          0,
          17,
          0,
          0,
          41,
          0,
          21,
          0,
          0,
          1,
          27,
          3,
          0,
          38,
          15,
          0,
          0,
          0,
          78,
          0,
          0,
          0,
          1,
          0,
          0,
          31,
          2,
          0,
          0,
          0,
          0,
          2,
          0,
          120,
          0,
          0,
          0,
          95,
          0,
          2,
          24,
          0,
          214,
          7,
          0,
          0,
          0,
          50,
          125,
          0,
          54,
          0,
          1,
          5,
          1,
          38,
          7,
          164,
          10,
          0,
          0,
          0,
          0,
          7,
          6,
          5,
          4,
          0,
          0,
          0,
          4,
          0,
          15,
          0,
          0,
          2,
          0,
          10,
          0,
          0,
          0,
          71,
          16,
          0,
          0,
          4,
          0,
          0,
          59,
          7,
          0,
          0,
          43,
          70,
          40,
          0,
          5,
          0,
          9,
          1,
          0,
          0,
          110,
          0,
          7,
          4,
          29,
          0,
          0,
          0,
          60,
          104,
          21,
          0,
          0,
          0,
          0,
          2,
          0,
          0,
          0,
          0,
          0,
          0,
          0,
          0,
          0,
          13,
          0,
          85,
          43,
          73,
          0,
          0,
          10,
          12,
          5,
          0,
          0,
          23,
          6,
          3,
          0,
          0,
          68,
          0,
          20,
          0,
          41,
          0,
          3,
          15,
          0,
          0,
          22,
          37,
          0,
          12,
          21,
          0,
          0,
          37,
          0,
          13,
          0,
          0,
          11,
          33,
          13,
          3,
          0,
          12,
          0,
          0,
          0,
          0,
          0,
          0,
          9,
          10,
          25,
          0,
          0,
          0,
          0,
          0,
          0,
          0,
          0,
          0,
          2,
          16,
          4,
          2,
          0,
          146,
          4,
          0,
          0,
          0,
          0,
          0,
          0,
          0,
          22,
          4,
          40,
          0,
          0,
          3,
          0,
          4,
          9,
          0,
          0,
          18,
          0,
          75,
          0,
          0,
          34,
          0,
          22,
          0,
          0,
          0,
          24,
          0,
          0,
          0,
          6,
          0,
          0,
          0,
          0,
          0,
          0,
          0,
          9,
          29,
          0,
          0,
          0,
          63,
          0,
          5,
          0,
          0,
          2,
          9,
          9,
          16,
          13,
          0,
          92,
          74,
          66,
          6,
          0,
          0,
          0,
          0,
          0,
          42,
          0,
          5,
          6,
          0,
          0,
          0,
          0,
          0,
          0,
          0,
          0,
          0,
          null,
          44,
          0,
          44,
          0,
          0,
          0,
          0,
          22,
          9,
          20,
          6,
          63,
          4,
          9,
          0,
          0,
          0,
          122,
          7,
          21,
          196,
          29,
          14,
          0,
          0,
          23,
          24,
          5,
          0,
          0,
          0,
          0,
          0,
          0,
          0,
          1,
          10,
          0,
          0,
          0,
          20,
          0,
          0,
          18,
          4,
          17,
          7,
          1,
          50,
          4,
          0,
          0,
          40,
          0,
          14,
          0,
          55,
          0,
          0,
          26,
          0,
          0,
          7,
          98,
          0,
          0,
          7,
          0,
          0,
          0,
          470,
          0,
          264,
          0,
          16,
          25,
          0,
          33,
          0,
          0,
          0,
          40,
          0,
          12,
          9,
          9,
          0,
          0,
          0,
          0,
          7,
          0,
          0,
          9,
          0,
          0,
          0,
          0,
          2,
          0,
          20,
          0,
          0,
          null,
          0,
          0,
          0,
          0,
          3,
          0,
          149,
          38,
          0,
          0,
          0,
          110,
          2,
          17,
          0,
          0,
          0,
          0,
          18,
          0,
          4,
          10,
          8,
          78,
          10,
          0,
          0,
          0,
          0,
          7,
          53,
          53,
          45,
          50,
          0,
          10,
          0,
          0,
          0,
          6,
          1,
          27,
          14,
          0,
          0,
          0,
          35,
          0,
          3,
          0,
          0,
          0,
          0,
          29,
          0,
          0,
          5,
          47,
          0,
          9,
          0,
          0,
          6,
          0,
          0,
          0,
          0,
          0,
          0,
          36,
          0,
          26,
          0,
          0,
          22,
          13,
          42,
          0,
          67,
          30,
          0,
          0,
          0,
          0,
          0,
          5,
          0,
          0,
          0,
          113,
          0,
          0,
          0,
          0,
          0,
          7,
          0,
          0,
          38,
          0,
          0,
          0,
          134,
          0,
          4,
          0,
          58,
          0,
          0,
          21,
          0,
          0,
          10,
          119,
          0,
          0,
          0,
          110,
          12,
          0,
          10,
          0,
          17,
          0,
          0,
          0,
          13,
          0,
          65,
          5,
          0,
          5,
          0,
          0,
          0,
          0,
          0,
          1,
          34,
          0,
          4,
          12,
          3,
          0,
          0,
          0,
          9,
          0,
          6,
          0,
          0,
          0,
          0,
          0,
          14,
          0,
          0,
          0,
          30,
          6,
          4,
          32,
          5,
          0,
          0,
          0,
          0,
          11,
          0,
          106,
          0,
          0,
          0,
          3,
          36,
          0,
          0,
          67,
          6,
          0,
          0,
          5,
          8,
          0,
          0,
          26,
          0,
          34,
          3,
          0,
          0,
          0,
          216,
          0,
          21,
          160,
          0,
          0,
          71,
          8,
          0,
          0,
          0,
          72,
          0,
          0,
          0,
          0,
          25,
          0,
          0,
          48,
          0,
          23,
          0,
          0,
          35,
          0,
          22,
          0,
          30,
          0,
          0,
          48,
          0,
          0,
          35,
          2,
          30,
          10,
          0,
          0,
          49,
          0,
          0,
          0,
          0,
          0,
          0,
          38,
          0,
          0,
          0,
          0,
          0,
          0,
          47,
          41,
          285,
          1,
          0,
          0,
          0,
          0,
          39,
          0,
          0,
          0,
          0,
          0,
          5,
          12,
          0,
          0,
          43,
          0,
          0,
          32,
          3,
          2,
          0,
          0,
          0,
          3,
          0,
          0,
          58,
          40,
          0,
          11,
          2,
          0,
          0,
          0,
          0,
          22,
          0,
          0,
          0,
          93,
          0,
          27,
          0,
          13,
          0,
          0,
          0,
          0,
          0,
          0,
          0,
          35,
          88,
          0,
          36,
          30,
          0,
          0,
          0,
          20,
          0,
          3,
          0,
          18,
          9,
          0,
          0,
          0,
          0,
          0,
          17,
          0,
          48,
          33,
          0,
          0,
          16,
          115,
          24,
          43,
          0,
          0,
          0,
          75,
          10,
          60,
          4,
          11,
          20,
          0,
          0,
          0,
          6,
          0,
          1,
          0,
          0,
          0,
          0,
          5,
          81,
          0,
          0,
          0,
          27,
          0,
          2,
          0,
          100,
          0,
          4,
          0,
          0,
          89,
          0,
          0,
          0,
          0,
          0,
          49,
          13,
          0,
          0,
          0,
          125,
          6,
          null,
          0,
          0,
          0,
          1,
          0,
          40,
          0,
          0,
          66,
          20,
          2,
          0,
          15,
          0,
          0,
          19,
          12,
          0,
          0,
          0,
          75,
          24,
          0,
          0,
          0,
          14,
          0,
          0,
          0,
          0,
          30,
          0,
          18,
          0,
          0,
          2,
          46,
          20,
          0,
          0,
          46,
          0,
          0,
          13,
          0,
          4,
          0,
          0,
          5,
          0,
          18,
          8,
          14,
          0,
          14,
          29,
          0,
          0,
          5,
          0,
          0,
          1,
          14,
          0,
          10,
          18,
          2,
          9,
          42,
          0,
          8,
          19,
          13,
          0,
          6,
          0,
          0,
          0,
          0,
          0,
          0,
          119,
          0,
          54,
          0,
          0,
          54,
          10,
          0,
          8,
          0,
          24,
          0,
          4
         ],
         "xaxis": "x",
         "yaxis": "y"
        }
       ],
       "layout": {
        "barmode": "relative",
        "height": 400,
        "legend": {
         "tracegroupgap": 0
        },
        "margin": {
         "t": 60
        },
        "template": {
         "data": {
          "bar": [
           {
            "error_x": {
             "color": "#2a3f5f"
            },
            "error_y": {
             "color": "#2a3f5f"
            },
            "marker": {
             "line": {
              "color": "#E5ECF6",
              "width": 0.5
             },
             "pattern": {
              "fillmode": "overlay",
              "size": 10,
              "solidity": 0.2
             }
            },
            "type": "bar"
           }
          ],
          "barpolar": [
           {
            "marker": {
             "line": {
              "color": "#E5ECF6",
              "width": 0.5
             },
             "pattern": {
              "fillmode": "overlay",
              "size": 10,
              "solidity": 0.2
             }
            },
            "type": "barpolar"
           }
          ],
          "carpet": [
           {
            "aaxis": {
             "endlinecolor": "#2a3f5f",
             "gridcolor": "white",
             "linecolor": "white",
             "minorgridcolor": "white",
             "startlinecolor": "#2a3f5f"
            },
            "baxis": {
             "endlinecolor": "#2a3f5f",
             "gridcolor": "white",
             "linecolor": "white",
             "minorgridcolor": "white",
             "startlinecolor": "#2a3f5f"
            },
            "type": "carpet"
           }
          ],
          "choropleth": [
           {
            "colorbar": {
             "outlinewidth": 0,
             "ticks": ""
            },
            "type": "choropleth"
           }
          ],
          "contour": [
           {
            "colorbar": {
             "outlinewidth": 0,
             "ticks": ""
            },
            "colorscale": [
             [
              0,
              "#0d0887"
             ],
             [
              0.1111111111111111,
              "#46039f"
             ],
             [
              0.2222222222222222,
              "#7201a8"
             ],
             [
              0.3333333333333333,
              "#9c179e"
             ],
             [
              0.4444444444444444,
              "#bd3786"
             ],
             [
              0.5555555555555556,
              "#d8576b"
             ],
             [
              0.6666666666666666,
              "#ed7953"
             ],
             [
              0.7777777777777778,
              "#fb9f3a"
             ],
             [
              0.8888888888888888,
              "#fdca26"
             ],
             [
              1,
              "#f0f921"
             ]
            ],
            "type": "contour"
           }
          ],
          "contourcarpet": [
           {
            "colorbar": {
             "outlinewidth": 0,
             "ticks": ""
            },
            "type": "contourcarpet"
           }
          ],
          "heatmap": [
           {
            "colorbar": {
             "outlinewidth": 0,
             "ticks": ""
            },
            "colorscale": [
             [
              0,
              "#0d0887"
             ],
             [
              0.1111111111111111,
              "#46039f"
             ],
             [
              0.2222222222222222,
              "#7201a8"
             ],
             [
              0.3333333333333333,
              "#9c179e"
             ],
             [
              0.4444444444444444,
              "#bd3786"
             ],
             [
              0.5555555555555556,
              "#d8576b"
             ],
             [
              0.6666666666666666,
              "#ed7953"
             ],
             [
              0.7777777777777778,
              "#fb9f3a"
             ],
             [
              0.8888888888888888,
              "#fdca26"
             ],
             [
              1,
              "#f0f921"
             ]
            ],
            "type": "heatmap"
           }
          ],
          "heatmapgl": [
           {
            "colorbar": {
             "outlinewidth": 0,
             "ticks": ""
            },
            "colorscale": [
             [
              0,
              "#0d0887"
             ],
             [
              0.1111111111111111,
              "#46039f"
             ],
             [
              0.2222222222222222,
              "#7201a8"
             ],
             [
              0.3333333333333333,
              "#9c179e"
             ],
             [
              0.4444444444444444,
              "#bd3786"
             ],
             [
              0.5555555555555556,
              "#d8576b"
             ],
             [
              0.6666666666666666,
              "#ed7953"
             ],
             [
              0.7777777777777778,
              "#fb9f3a"
             ],
             [
              0.8888888888888888,
              "#fdca26"
             ],
             [
              1,
              "#f0f921"
             ]
            ],
            "type": "heatmapgl"
           }
          ],
          "histogram": [
           {
            "marker": {
             "pattern": {
              "fillmode": "overlay",
              "size": 10,
              "solidity": 0.2
             }
            },
            "type": "histogram"
           }
          ],
          "histogram2d": [
           {
            "colorbar": {
             "outlinewidth": 0,
             "ticks": ""
            },
            "colorscale": [
             [
              0,
              "#0d0887"
             ],
             [
              0.1111111111111111,
              "#46039f"
             ],
             [
              0.2222222222222222,
              "#7201a8"
             ],
             [
              0.3333333333333333,
              "#9c179e"
             ],
             [
              0.4444444444444444,
              "#bd3786"
             ],
             [
              0.5555555555555556,
              "#d8576b"
             ],
             [
              0.6666666666666666,
              "#ed7953"
             ],
             [
              0.7777777777777778,
              "#fb9f3a"
             ],
             [
              0.8888888888888888,
              "#fdca26"
             ],
             [
              1,
              "#f0f921"
             ]
            ],
            "type": "histogram2d"
           }
          ],
          "histogram2dcontour": [
           {
            "colorbar": {
             "outlinewidth": 0,
             "ticks": ""
            },
            "colorscale": [
             [
              0,
              "#0d0887"
             ],
             [
              0.1111111111111111,
              "#46039f"
             ],
             [
              0.2222222222222222,
              "#7201a8"
             ],
             [
              0.3333333333333333,
              "#9c179e"
             ],
             [
              0.4444444444444444,
              "#bd3786"
             ],
             [
              0.5555555555555556,
              "#d8576b"
             ],
             [
              0.6666666666666666,
              "#ed7953"
             ],
             [
              0.7777777777777778,
              "#fb9f3a"
             ],
             [
              0.8888888888888888,
              "#fdca26"
             ],
             [
              1,
              "#f0f921"
             ]
            ],
            "type": "histogram2dcontour"
           }
          ],
          "mesh3d": [
           {
            "colorbar": {
             "outlinewidth": 0,
             "ticks": ""
            },
            "type": "mesh3d"
           }
          ],
          "parcoords": [
           {
            "line": {
             "colorbar": {
              "outlinewidth": 0,
              "ticks": ""
             }
            },
            "type": "parcoords"
           }
          ],
          "pie": [
           {
            "automargin": true,
            "type": "pie"
           }
          ],
          "scatter": [
           {
            "fillpattern": {
             "fillmode": "overlay",
             "size": 10,
             "solidity": 0.2
            },
            "type": "scatter"
           }
          ],
          "scatter3d": [
           {
            "line": {
             "colorbar": {
              "outlinewidth": 0,
              "ticks": ""
             }
            },
            "marker": {
             "colorbar": {
              "outlinewidth": 0,
              "ticks": ""
             }
            },
            "type": "scatter3d"
           }
          ],
          "scattercarpet": [
           {
            "marker": {
             "colorbar": {
              "outlinewidth": 0,
              "ticks": ""
             }
            },
            "type": "scattercarpet"
           }
          ],
          "scattergeo": [
           {
            "marker": {
             "colorbar": {
              "outlinewidth": 0,
              "ticks": ""
             }
            },
            "type": "scattergeo"
           }
          ],
          "scattergl": [
           {
            "marker": {
             "colorbar": {
              "outlinewidth": 0,
              "ticks": ""
             }
            },
            "type": "scattergl"
           }
          ],
          "scattermapbox": [
           {
            "marker": {
             "colorbar": {
              "outlinewidth": 0,
              "ticks": ""
             }
            },
            "type": "scattermapbox"
           }
          ],
          "scatterpolar": [
           {
            "marker": {
             "colorbar": {
              "outlinewidth": 0,
              "ticks": ""
             }
            },
            "type": "scatterpolar"
           }
          ],
          "scatterpolargl": [
           {
            "marker": {
             "colorbar": {
              "outlinewidth": 0,
              "ticks": ""
             }
            },
            "type": "scatterpolargl"
           }
          ],
          "scatterternary": [
           {
            "marker": {
             "colorbar": {
              "outlinewidth": 0,
              "ticks": ""
             }
            },
            "type": "scatterternary"
           }
          ],
          "surface": [
           {
            "colorbar": {
             "outlinewidth": 0,
             "ticks": ""
            },
            "colorscale": [
             [
              0,
              "#0d0887"
             ],
             [
              0.1111111111111111,
              "#46039f"
             ],
             [
              0.2222222222222222,
              "#7201a8"
             ],
             [
              0.3333333333333333,
              "#9c179e"
             ],
             [
              0.4444444444444444,
              "#bd3786"
             ],
             [
              0.5555555555555556,
              "#d8576b"
             ],
             [
              0.6666666666666666,
              "#ed7953"
             ],
             [
              0.7777777777777778,
              "#fb9f3a"
             ],
             [
              0.8888888888888888,
              "#fdca26"
             ],
             [
              1,
              "#f0f921"
             ]
            ],
            "type": "surface"
           }
          ],
          "table": [
           {
            "cells": {
             "fill": {
              "color": "#EBF0F8"
             },
             "line": {
              "color": "white"
             }
            },
            "header": {
             "fill": {
              "color": "#C8D4E3"
             },
             "line": {
              "color": "white"
             }
            },
            "type": "table"
           }
          ]
         },
         "layout": {
          "annotationdefaults": {
           "arrowcolor": "#2a3f5f",
           "arrowhead": 0,
           "arrowwidth": 1
          },
          "autotypenumbers": "strict",
          "coloraxis": {
           "colorbar": {
            "outlinewidth": 0,
            "ticks": ""
           }
          },
          "colorscale": {
           "diverging": [
            [
             0,
             "#8e0152"
            ],
            [
             0.1,
             "#c51b7d"
            ],
            [
             0.2,
             "#de77ae"
            ],
            [
             0.3,
             "#f1b6da"
            ],
            [
             0.4,
             "#fde0ef"
            ],
            [
             0.5,
             "#f7f7f7"
            ],
            [
             0.6,
             "#e6f5d0"
            ],
            [
             0.7,
             "#b8e186"
            ],
            [
             0.8,
             "#7fbc41"
            ],
            [
             0.9,
             "#4d9221"
            ],
            [
             1,
             "#276419"
            ]
           ],
           "sequential": [
            [
             0,
             "#0d0887"
            ],
            [
             0.1111111111111111,
             "#46039f"
            ],
            [
             0.2222222222222222,
             "#7201a8"
            ],
            [
             0.3333333333333333,
             "#9c179e"
            ],
            [
             0.4444444444444444,
             "#bd3786"
            ],
            [
             0.5555555555555556,
             "#d8576b"
            ],
            [
             0.6666666666666666,
             "#ed7953"
            ],
            [
             0.7777777777777778,
             "#fb9f3a"
            ],
            [
             0.8888888888888888,
             "#fdca26"
            ],
            [
             1,
             "#f0f921"
            ]
           ],
           "sequentialminus": [
            [
             0,
             "#0d0887"
            ],
            [
             0.1111111111111111,
             "#46039f"
            ],
            [
             0.2222222222222222,
             "#7201a8"
            ],
            [
             0.3333333333333333,
             "#9c179e"
            ],
            [
             0.4444444444444444,
             "#bd3786"
            ],
            [
             0.5555555555555556,
             "#d8576b"
            ],
            [
             0.6666666666666666,
             "#ed7953"
            ],
            [
             0.7777777777777778,
             "#fb9f3a"
            ],
            [
             0.8888888888888888,
             "#fdca26"
            ],
            [
             1,
             "#f0f921"
            ]
           ]
          },
          "colorway": [
           "#636efa",
           "#EF553B",
           "#00cc96",
           "#ab63fa",
           "#FFA15A",
           "#19d3f3",
           "#FF6692",
           "#B6E880",
           "#FF97FF",
           "#FECB52"
          ],
          "font": {
           "color": "#2a3f5f"
          },
          "geo": {
           "bgcolor": "white",
           "lakecolor": "white",
           "landcolor": "#E5ECF6",
           "showlakes": true,
           "showland": true,
           "subunitcolor": "white"
          },
          "hoverlabel": {
           "align": "left"
          },
          "hovermode": "closest",
          "mapbox": {
           "style": "light"
          },
          "paper_bgcolor": "white",
          "plot_bgcolor": "#E5ECF6",
          "polar": {
           "angularaxis": {
            "gridcolor": "white",
            "linecolor": "white",
            "ticks": ""
           },
           "bgcolor": "#E5ECF6",
           "radialaxis": {
            "gridcolor": "white",
            "linecolor": "white",
            "ticks": ""
           }
          },
          "scene": {
           "xaxis": {
            "backgroundcolor": "#E5ECF6",
            "gridcolor": "white",
            "gridwidth": 2,
            "linecolor": "white",
            "showbackground": true,
            "ticks": "",
            "zerolinecolor": "white"
           },
           "yaxis": {
            "backgroundcolor": "#E5ECF6",
            "gridcolor": "white",
            "gridwidth": 2,
            "linecolor": "white",
            "showbackground": true,
            "ticks": "",
            "zerolinecolor": "white"
           },
           "zaxis": {
            "backgroundcolor": "#E5ECF6",
            "gridcolor": "white",
            "gridwidth": 2,
            "linecolor": "white",
            "showbackground": true,
            "ticks": "",
            "zerolinecolor": "white"
           }
          },
          "shapedefaults": {
           "line": {
            "color": "#2a3f5f"
           }
          },
          "ternary": {
           "aaxis": {
            "gridcolor": "white",
            "linecolor": "white",
            "ticks": ""
           },
           "baxis": {
            "gridcolor": "white",
            "linecolor": "white",
            "ticks": ""
           },
           "bgcolor": "#E5ECF6",
           "caxis": {
            "gridcolor": "white",
            "linecolor": "white",
            "ticks": ""
           }
          },
          "title": {
           "x": 0.05
          },
          "xaxis": {
           "automargin": true,
           "gridcolor": "white",
           "linecolor": "white",
           "ticks": "",
           "title": {
            "standoff": 15
           },
           "zerolinecolor": "white",
           "zerolinewidth": 2
          },
          "yaxis": {
           "automargin": true,
           "gridcolor": "white",
           "linecolor": "white",
           "ticks": "",
           "title": {
            "standoff": 15
           },
           "zerolinecolor": "white",
           "zerolinewidth": 2
          }
         }
        },
        "width": 1000,
        "xaxis": {
         "anchor": "y",
         "domain": [
          0,
          1
         ],
         "title": {
          "text": "arrival_delay_in_minutes"
         }
        },
        "yaxis": {
         "anchor": "x",
         "domain": [
          0,
          1
         ],
         "title": {
          "text": "count"
         }
        }
       }
      },
      "text/html": [
       "<div>                            <div id=\"84a585a8-a38e-45ff-8ef4-81aaf494c173\" class=\"plotly-graph-div\" style=\"height:400px; width:1000px;\"></div>            <script type=\"text/javascript\">                require([\"plotly\"], function(Plotly) {                    window.PLOTLYENV=window.PLOTLYENV || {};                                    if (document.getElementById(\"84a585a8-a38e-45ff-8ef4-81aaf494c173\")) {                    Plotly.newPlot(                        \"84a585a8-a38e-45ff-8ef4-81aaf494c173\",                        [{\"alignmentgroup\":\"True\",\"bingroup\":\"x\",\"hovertemplate\":\"arrival_delay_in_minutes=%{x}\\u003cbr\\u003ecount=%{y}\\u003cextra\\u003e\\u003c\\u002fextra\\u003e\",\"legendgroup\":\"\",\"marker\":{\"color\":\"#636efa\",\"pattern\":{\"shape\":\"\"}},\"name\":\"\",\"nbinsx\":100,\"offsetgroup\":\"\",\"orientation\":\"v\",\"showlegend\":false,\"x\":[18.0,6.0,0.0,9.0,0.0,0.0,23.0,0.0,0.0,0.0,0.0,0.0,8.0,0.0,35.0,0.0,51.0,10.0,5.0,18.0,4.0,0.0,29.0,0.0,44.0,28.0,0.0,8.0,12.0,0.0,0.0,0.0,120.0,24.0,0.0,1.0,0.0,20.0,31.0,0.0,0.0,23.0,0.0,0.0,15.0,0.0,0.0,0.0,0.0,0.0,8.0,1.0,0.0,0.0,10.0,48.0,5.0,0.0,26.0,0.0,0.0,0.0,1.0,0.0,15.0,0.0,0.0,0.0,12.0,0.0,0.0,49.0,2.0,37.0,0.0,1.0,6.0,5.0,0.0,0.0,48.0,0.0,8.0,0.0,50.0,3.0,0.0,0.0,0.0,0.0,0.0,19.0,72.0,0.0,11.0,34.0,18.0,0.0,62.0,27.0,52.0,0.0,0.0,0.0,0.0,0.0,0.0,23.0,0.0,0.0,3.0,13.0,0.0,82.0,0.0,10.0,0.0,0.0,23.0,0.0,9.0,0.0,0.0,9.0,30.0,0.0,8.0,16.0,0.0,0.0,11.0,3.0,0.0,0.0,0.0,0.0,0.0,0.0,0.0,0.0,10.0,0.0,0.0,0.0,6.0,6.0,7.0,7.0,0.0,0.0,10.0,15.0,0.0,0.0,0.0,27.0,122.0,0.0,0.0,3.0,0.0,11.0,0.0,0.0,0.0,27.0,30.0,2.0,179.0,15.0,0.0,0.0,1.0,20.0,0.0,0.0,0.0,7.0,125.0,0.0,0.0,26.0,0.0,0.0,9.0,0.0,0.0,26.0,0.0,0.0,19.0,0.0,0.0,4.0,0.0,0.0,0.0,17.0,0.0,18.0,0.0,0.0,17.0,3.0,0.0,8.0,0.0,0.0,2.0,2.0,0.0,0.0,0.0,null,89.0,0.0,34.0,0.0,0.0,4.0,0.0,0.0,0.0,0.0,0.0,0.0,0.0,0.0,6.0,0.0,0.0,5.0,0.0,9.0,28.0,0.0,101.0,11.0,0.0,4.0,0.0,0.0,3.0,14.0,20.0,0.0,61.0,48.0,6.0,3.0,0.0,0.0,0.0,11.0,0.0,0.0,0.0,0.0,18.0,0.0,28.0,0.0,0.0,32.0,0.0,6.0,0.0,6.0,13.0,16.0,0.0,0.0,15.0,0.0,33.0,41.0,0.0,0.0,191.0,2.0,37.0,1.0,138.0,13.0,4.0,53.0,14.0,0.0,7.0,22.0,0.0,57.0,7.0,28.0,0.0,65.0,4.0,44.0,0.0,0.0,0.0,0.0,0.0,0.0,76.0,107.0,12.0,0.0,11.0,28.0,0.0,92.0,32.0,0.0,0.0,0.0,0.0,0.0,0.0,0.0,8.0,2.0,0.0,12.0,0.0,7.0,16.0,0.0,0.0,0.0,0.0,0.0,0.0,0.0,11.0,13.0,1.0,0.0,8.0,0.0,164.0,28.0,0.0,0.0,0.0,0.0,0.0,5.0,5.0,24.0,0.0,0.0,34.0,6.0,3.0,9.0,0.0,32.0,22.0,8.0,0.0,5.0,2.0,0.0,5.0,0.0,0.0,0.0,0.0,6.0,0.0,0.0,5.0,0.0,21.0,0.0,0.0,7.0,0.0,0.0,62.0,0.0,52.0,0.0,15.0,0.0,0.0,4.0,0.0,40.0,0.0,0.0,49.0,3.0,7.0,0.0,0.0,4.0,0.0,0.0,0.0,0.0,55.0,1.0,185.0,63.0,0.0,0.0,77.0,0.0,89.0,23.0,0.0,0.0,0.0,86.0,5.0,2.0,5.0,0.0,91.0,0.0,0.0,0.0,52.0,0.0,0.0,0.0,0.0,100.0,0.0,0.0,6.0,0.0,54.0,0.0,24.0,17.0,0.0,40.0,36.0,1.0,24.0,70.0,139.0,33.0,92.0,0.0,0.0,14.0,0.0,67.0,0.0,7.0,0.0,0.0,0.0,4.0,163.0,8.0,0.0,0.0,6.0,0.0,0.0,0.0,0.0,0.0,0.0,0.0,0.0,0.0,52.0,0.0,21.0,128.0,0.0,0.0,21.0,3.0,0.0,4.0,180.0,3.0,1.0,37.0,23.0,13.0,5.0,0.0,0.0,0.0,0.0,0.0,0.0,93.0,0.0,0.0,0.0,0.0,8.0,0.0,121.0,30.0,6.0,4.0,33.0,52.0,9.0,0.0,17.0,7.0,0.0,0.0,2.0,0.0,0.0,2.0,3.0,6.0,22.0,0.0,0.0,17.0,0.0,0.0,9.0,0.0,0.0,26.0,0.0,0.0,0.0,0.0,0.0,0.0,45.0,51.0,105.0,126.0,0.0,0.0,56.0,0.0,0.0,31.0,100.0,0.0,0.0,0.0,18.0,5.0,0.0,8.0,0.0,45.0,27.0,4.0,40.0,19.0,0.0,73.0,10.0,0.0,0.0,0.0,0.0,0.0,0.0,1.0,0.0,11.0,4.0,24.0,0.0,0.0,6.0,0.0,5.0,11.0,0.0,0.0,212.0,0.0,14.0,3.0,0.0,126.0,0.0,0.0,0.0,0.0,8.0,27.0,0.0,0.0,18.0,0.0,3.0,88.0,4.0,4.0,0.0,241.0,30.0,0.0,0.0,51.0,0.0,0.0,172.0,0.0,15.0,0.0,4.0,0.0,0.0,6.0,12.0,175.0,23.0,0.0,0.0,0.0,44.0,6.0,111.0,0.0,16.0,0.0,0.0,0.0,0.0,88.0,61.0,0.0,3.0,0.0,13.0,27.0,99.0,0.0,0.0,0.0,0.0,0.0,0.0,1.0,111.0,25.0,42.0,0.0,0.0,76.0,0.0,6.0,0.0,0.0,0.0,0.0,5.0,0.0,6.0,10.0,0.0,226.0,0.0,0.0,0.0,0.0,0.0,46.0,0.0,0.0,131.0,0.0,12.0,4.0,0.0,0.0,0.0,0.0,10.0,0.0,6.0,14.0,1.0,0.0,33.0,45.0,0.0,21.0,0.0,0.0,100.0,5.0,4.0,2.0,31.0,15.0,0.0,0.0,0.0,260.0,56.0,32.0,7.0,6.0,0.0,0.0,0.0,22.0,0.0,5.0,0.0,0.0,0.0,86.0,0.0,0.0,0.0,20.0,0.0,92.0,6.0,26.0,0.0,0.0,0.0,1.0,0.0,11.0,0.0,0.0,0.0,0.0,0.0,5.0,0.0,3.0,0.0,0.0,9.0,0.0,6.0,0.0,26.0,0.0,0.0,0.0,0.0,0.0,0.0,0.0,0.0,0.0,0.0,27.0,0.0,19.0,0.0,0.0,0.0,0.0,16.0,33.0,0.0,0.0,0.0,33.0,0.0,0.0,5.0,0.0,69.0,0.0,0.0,5.0,0.0,49.0,26.0,0.0,0.0,0.0,0.0,0.0,0.0,0.0,45.0,0.0,27.0,0.0,142.0,0.0,2.0,58.0,0.0,1.0,100.0,0.0,8.0,0.0,0.0,3.0,0.0,75.0,0.0,0.0,0.0,61.0,0.0,0.0,0.0,27.0,23.0,38.0,6.0,33.0,0.0,0.0,22.0,5.0,0.0,0.0,34.0,3.0,0.0,0.0,0.0,66.0,100.0,14.0,0.0,12.0,0.0,0.0,0.0,0.0,0.0,0.0,7.0,0.0,18.0,0.0,0.0,2.0,39.0,1.0,0.0,0.0,22.0,56.0,36.0,20.0,0.0,0.0,0.0,0.0,12.0,103.0,0.0,13.0,13.0,0.0,55.0,1.0,93.0,46.0,86.0,0.0,0.0,0.0,0.0,8.0,0.0,4.0,44.0,0.0,0.0,0.0,27.0,1.0,0.0,0.0,31.0,0.0,20.0,44.0,0.0,0.0,3.0,17.0,0.0,0.0,0.0,307.0,0.0,0.0,0.0,0.0,0.0,156.0,3.0,0.0,0.0,0.0,0.0,25.0,0.0,2.0,0.0,19.0,74.0,0.0,2.0,7.0,0.0,0.0,0.0,76.0,91.0,0.0,9.0,0.0,0.0,0.0,109.0,10.0,4.0,0.0,109.0,0.0,0.0,0.0,0.0,22.0,0.0,33.0,0.0,5.0,77.0,25.0,9.0,0.0,0.0,51.0,0.0,33.0,9.0,0.0,15.0,0.0,65.0,11.0,0.0,101.0,0.0,3.0,0.0,0.0,34.0,155.0,0.0,1.0,0.0,2.0,16.0,2.0,0.0,0.0,0.0,0.0,0.0,11.0,0.0,4.0,0.0,1.0,0.0,0.0,21.0,19.0,7.0,38.0,14.0,0.0,2.0,0.0,0.0,13.0,0.0,60.0,0.0,0.0,0.0,0.0,19.0,0.0,0.0,0.0,7.0,0.0,0.0,12.0,32.0,0.0,0.0,0.0,0.0,32.0,32.0,0.0,0.0,0.0,0.0,0.0,13.0,1.0,19.0,0.0,45.0,0.0,0.0,0.0,0.0,0.0,0.0,0.0,0.0,17.0,154.0,0.0,33.0,7.0,0.0,0.0,29.0,15.0,0.0,0.0,41.0,0.0,0.0,0.0,3.0,20.0,43.0,5.0,0.0,0.0,0.0,43.0,0.0,0.0,2.0,0.0,0.0,0.0,147.0,2.0,0.0,53.0,1.0,1.0,2.0,11.0,0.0,18.0,5.0,60.0,62.0,0.0,13.0,0.0,0.0,39.0,217.0,4.0,60.0,0.0,0.0,0.0,3.0,0.0,0.0,0.0,0.0,124.0,0.0,48.0,0.0,1.0,0.0,0.0,0.0,0.0,0.0,3.0,0.0,0.0,30.0,53.0,0.0,0.0,0.0,0.0,9.0,0.0,0.0,0.0,47.0,0.0,150.0,40.0,0.0,0.0,9.0,0.0,116.0,39.0,0.0,4.0,0.0,0.0,null,1.0,0.0,0.0,4.0,171.0,0.0,0.0,0.0,105.0,0.0,0.0,22.0,5.0,0.0,73.0,84.0,15.0,0.0,40.0,22.0,0.0,15.0,0.0,11.0,30.0,0.0,123.0,7.0,0.0,0.0,0.0,165.0,0.0,0.0,0.0,11.0,0.0,29.0,41.0,56.0,39.0,39.0,0.0,165.0,0.0,0.0,0.0,0.0,6.0,5.0,0.0,0.0,0.0,0.0,0.0,27.0,6.0,0.0,0.0,0.0,0.0,0.0,1.0,94.0,0.0,0.0,0.0,51.0,0.0,0.0,0.0,83.0,20.0,6.0,0.0,0.0,39.0,0.0,336.0,44.0,0.0,0.0,0.0,0.0,0.0,17.0,0.0,14.0,17.0,0.0,0.0,0.0,0.0,124.0,155.0,0.0,0.0,59.0,219.0,13.0,42.0,0.0,15.0,0.0,0.0,0.0,12.0,34.0,0.0,82.0,8.0,0.0,0.0,0.0,0.0,1.0,0.0,0.0,11.0,0.0,37.0,46.0,0.0,0.0,87.0,39.0,0.0,1.0,4.0,0.0,0.0,35.0,0.0,0.0,40.0,0.0,3.0,116.0,5.0,459.0,0.0,0.0,31.0,2.0,0.0,0.0,0.0,4.0,10.0,89.0,33.0,13.0,41.0,11.0,23.0,0.0,53.0,0.0,0.0,0.0,0.0,28.0,49.0,0.0,15.0,54.0,0.0,0.0,0.0,0.0,0.0,24.0,11.0,0.0,12.0,175.0,0.0,2.0,0.0,4.0,6.0,0.0,0.0,4.0,0.0,31.0,0.0,0.0,68.0,0.0,0.0,0.0,0.0,19.0,0.0,0.0,11.0,6.0,0.0,8.0,25.0,0.0,0.0,0.0,0.0,0.0,0.0,0.0,0.0,22.0,175.0,0.0,0.0,3.0,2.0,0.0,0.0,0.0,31.0,2.0,0.0,50.0,0.0,9.0,5.0,4.0,62.0,0.0,21.0,0.0,38.0,1.0,0.0,104.0,0.0,0.0,0.0,18.0,0.0,0.0,2.0,60.0,0.0,0.0,0.0,133.0,17.0,0.0,1.0,0.0,0.0,52.0,8.0,0.0,7.0,6.0,16.0,46.0,10.0,0.0,3.0,0.0,9.0,0.0,6.0,32.0,49.0,0.0,134.0,1.0,43.0,0.0,0.0,81.0,259.0,0.0,77.0,80.0,12.0,0.0,0.0,79.0,0.0,3.0,0.0,16.0,0.0,16.0,0.0,6.0,1.0,4.0,0.0,68.0,0.0,3.0,0.0,222.0,0.0,0.0,15.0,0.0,0.0,0.0,6.0,6.0,0.0,2.0,0.0,0.0,0.0,203.0,0.0,6.0,2.0,24.0,0.0,0.0,0.0,0.0,9.0,0.0,0.0,0.0,0.0,47.0,12.0,28.0,11.0,0.0,22.0,1.0,0.0,0.0,0.0,0.0,0.0,19.0,0.0,154.0,3.0,0.0,354.0,24.0,6.0,0.0,0.0,14.0,0.0,0.0,0.0,16.0,0.0,9.0,0.0,0.0,1.0,6.0,7.0,0.0,0.0,1.0,7.0,0.0,0.0,40.0,1.0,37.0,5.0,20.0,19.0,0.0,52.0,5.0,0.0,0.0,0.0,138.0,0.0,0.0,0.0,0.0,7.0,0.0,0.0,0.0,0.0,16.0,0.0,93.0,0.0,0.0,2.0,22.0,0.0,21.0,23.0,0.0,0.0,0.0,0.0,0.0,0.0,17.0,null,61.0,0.0,0.0,0.0,2.0,0.0,27.0,0.0,0.0,0.0,0.0,0.0,0.0,28.0,32.0,0.0,8.0,1.0,0.0,3.0,4.0,75.0,24.0,0.0,22.0,17.0,0.0,9.0,5.0,0.0,5.0,0.0,0.0,12.0,80.0,16.0,0.0,0.0,0.0,0.0,8.0,11.0,2.0,39.0,0.0,0.0,0.0,0.0,41.0,31.0,26.0,0.0,33.0,15.0,23.0,214.0,0.0,17.0,14.0,0.0,1.0,83.0,17.0,4.0,0.0,2.0,0.0,0.0,0.0,0.0,0.0,0.0,8.0,8.0,0.0,0.0,10.0,0.0,38.0,0.0,78.0,0.0,0.0,0.0,31.0,0.0,0.0,0.0,8.0,0.0,0.0,0.0,10.0,0.0,12.0,4.0,8.0,9.0,0.0,18.0,0.0,0.0,0.0,0.0,0.0,0.0,0.0,133.0,0.0,14.0,0.0,2.0,7.0,0.0,14.0,3.0,12.0,0.0,0.0,18.0,9.0,7.0,0.0,10.0,0.0,0.0,0.0,0.0,0.0,0.0,2.0,32.0,69.0,0.0,0.0,47.0,9.0,0.0,20.0,0.0,19.0,41.0,6.0,31.0,7.0,8.0,0.0,0.0,0.0,27.0,0.0,0.0,17.0,0.0,31.0,3.0,0.0,0.0,0.0,19.0,30.0,0.0,0.0,0.0,0.0,0.0,40.0,0.0,0.0,0.0,4.0,0.0,0.0,0.0,11.0,18.0,14.0,5.0,9.0,0.0,0.0,0.0,23.0,18.0,22.0,4.0,17.0,125.0,0.0,0.0,4.0,3.0,12.0,10.0,0.0,0.0,5.0,3.0,0.0,17.0,0.0,0.0,41.0,0.0,21.0,0.0,0.0,1.0,27.0,3.0,0.0,38.0,15.0,0.0,0.0,0.0,78.0,0.0,0.0,0.0,1.0,0.0,0.0,31.0,2.0,0.0,0.0,0.0,0.0,2.0,0.0,120.0,0.0,0.0,0.0,95.0,0.0,2.0,24.0,0.0,214.0,7.0,0.0,0.0,0.0,50.0,125.0,0.0,54.0,0.0,1.0,5.0,1.0,38.0,7.0,164.0,10.0,0.0,0.0,0.0,0.0,7.0,6.0,5.0,4.0,0.0,0.0,0.0,4.0,0.0,15.0,0.0,0.0,2.0,0.0,10.0,0.0,0.0,0.0,71.0,16.0,0.0,0.0,4.0,0.0,0.0,59.0,7.0,0.0,0.0,43.0,70.0,40.0,0.0,5.0,0.0,9.0,1.0,0.0,0.0,110.0,0.0,7.0,4.0,29.0,0.0,0.0,0.0,60.0,104.0,21.0,0.0,0.0,0.0,0.0,2.0,0.0,0.0,0.0,0.0,0.0,0.0,0.0,0.0,0.0,13.0,0.0,85.0,43.0,73.0,0.0,0.0,10.0,12.0,5.0,0.0,0.0,23.0,6.0,3.0,0.0,0.0,68.0,0.0,20.0,0.0,41.0,0.0,3.0,15.0,0.0,0.0,22.0,37.0,0.0,12.0,21.0,0.0,0.0,37.0,0.0,13.0,0.0,0.0,11.0,33.0,13.0,3.0,0.0,12.0,0.0,0.0,0.0,0.0,0.0,0.0,9.0,10.0,25.0,0.0,0.0,0.0,0.0,0.0,0.0,0.0,0.0,0.0,2.0,16.0,4.0,2.0,0.0,146.0,4.0,0.0,0.0,0.0,0.0,0.0,0.0,0.0,22.0,4.0,40.0,0.0,0.0,3.0,0.0,4.0,9.0,0.0,0.0,18.0,0.0,75.0,0.0,0.0,34.0,0.0,22.0,0.0,0.0,0.0,24.0,0.0,0.0,0.0,6.0,0.0,0.0,0.0,0.0,0.0,0.0,0.0,9.0,29.0,0.0,0.0,0.0,63.0,0.0,5.0,0.0,0.0,2.0,9.0,9.0,16.0,13.0,0.0,92.0,74.0,66.0,6.0,0.0,0.0,0.0,0.0,0.0,42.0,0.0,5.0,6.0,0.0,0.0,0.0,0.0,0.0,0.0,0.0,0.0,0.0,null,44.0,0.0,44.0,0.0,0.0,0.0,0.0,22.0,9.0,20.0,6.0,63.0,4.0,9.0,0.0,0.0,0.0,122.0,7.0,21.0,196.0,29.0,14.0,0.0,0.0,23.0,24.0,5.0,0.0,0.0,0.0,0.0,0.0,0.0,0.0,1.0,10.0,0.0,0.0,0.0,20.0,0.0,0.0,18.0,4.0,17.0,7.0,1.0,50.0,4.0,0.0,0.0,40.0,0.0,14.0,0.0,55.0,0.0,0.0,26.0,0.0,0.0,7.0,98.0,0.0,0.0,7.0,0.0,0.0,0.0,470.0,0.0,264.0,0.0,16.0,25.0,0.0,33.0,0.0,0.0,0.0,40.0,0.0,12.0,9.0,9.0,0.0,0.0,0.0,0.0,7.0,0.0,0.0,9.0,0.0,0.0,0.0,0.0,2.0,0.0,20.0,0.0,0.0,null,0.0,0.0,0.0,0.0,3.0,0.0,149.0,38.0,0.0,0.0,0.0,110.0,2.0,17.0,0.0,0.0,0.0,0.0,18.0,0.0,4.0,10.0,8.0,78.0,10.0,0.0,0.0,0.0,0.0,7.0,53.0,53.0,45.0,50.0,0.0,10.0,0.0,0.0,0.0,6.0,1.0,27.0,14.0,0.0,0.0,0.0,35.0,0.0,3.0,0.0,0.0,0.0,0.0,29.0,0.0,0.0,5.0,47.0,0.0,9.0,0.0,0.0,6.0,0.0,0.0,0.0,0.0,0.0,0.0,36.0,0.0,26.0,0.0,0.0,22.0,13.0,42.0,0.0,67.0,30.0,0.0,0.0,0.0,0.0,0.0,5.0,0.0,0.0,0.0,113.0,0.0,0.0,0.0,0.0,0.0,7.0,0.0,0.0,38.0,0.0,0.0,0.0,134.0,0.0,4.0,0.0,58.0,0.0,0.0,21.0,0.0,0.0,10.0,119.0,0.0,0.0,0.0,110.0,12.0,0.0,10.0,0.0,17.0,0.0,0.0,0.0,13.0,0.0,65.0,5.0,0.0,5.0,0.0,0.0,0.0,0.0,0.0,1.0,34.0,0.0,4.0,12.0,3.0,0.0,0.0,0.0,9.0,0.0,6.0,0.0,0.0,0.0,0.0,0.0,14.0,0.0,0.0,0.0,30.0,6.0,4.0,32.0,5.0,0.0,0.0,0.0,0.0,11.0,0.0,106.0,0.0,0.0,0.0,3.0,36.0,0.0,0.0,67.0,6.0,0.0,0.0,5.0,8.0,0.0,0.0,26.0,0.0,34.0,3.0,0.0,0.0,0.0,216.0,0.0,21.0,160.0,0.0,0.0,71.0,8.0,0.0,0.0,0.0,72.0,0.0,0.0,0.0,0.0,25.0,0.0,0.0,48.0,0.0,23.0,0.0,0.0,35.0,0.0,22.0,0.0,30.0,0.0,0.0,48.0,0.0,0.0,35.0,2.0,30.0,10.0,0.0,0.0,49.0,0.0,0.0,0.0,0.0,0.0,0.0,38.0,0.0,0.0,0.0,0.0,0.0,0.0,47.0,41.0,285.0,1.0,0.0,0.0,0.0,0.0,39.0,0.0,0.0,0.0,0.0,0.0,5.0,12.0,0.0,0.0,43.0,0.0,0.0,32.0,3.0,2.0,0.0,0.0,0.0,3.0,0.0,0.0,58.0,40.0,0.0,11.0,2.0,0.0,0.0,0.0,0.0,22.0,0.0,0.0,0.0,93.0,0.0,27.0,0.0,13.0,0.0,0.0,0.0,0.0,0.0,0.0,0.0,35.0,88.0,0.0,36.0,30.0,0.0,0.0,0.0,20.0,0.0,3.0,0.0,18.0,9.0,0.0,0.0,0.0,0.0,0.0,17.0,0.0,48.0,33.0,0.0,0.0,16.0,115.0,24.0,43.0,0.0,0.0,0.0,75.0,10.0,60.0,4.0,11.0,20.0,0.0,0.0,0.0,6.0,0.0,1.0,0.0,0.0,0.0,0.0,5.0,81.0,0.0,0.0,0.0,27.0,0.0,2.0,0.0,100.0,0.0,4.0,0.0,0.0,89.0,0.0,0.0,0.0,0.0,0.0,49.0,13.0,0.0,0.0,0.0,125.0,6.0,null,0.0,0.0,0.0,1.0,0.0,40.0,0.0,0.0,66.0,20.0,2.0,0.0,15.0,0.0,0.0,19.0,12.0,0.0,0.0,0.0,75.0,24.0,0.0,0.0,0.0,14.0,0.0,0.0,0.0,0.0,30.0,0.0,18.0,0.0,0.0,2.0,46.0,20.0,0.0,0.0,46.0,0.0,0.0,13.0,0.0,4.0,0.0,0.0,5.0,0.0,18.0,8.0,14.0,0.0,14.0,29.0,0.0,0.0,5.0,0.0,0.0,1.0,14.0,0.0,10.0,18.0,2.0,9.0,42.0,0.0,8.0,19.0,13.0,0.0,6.0,0.0,0.0,0.0,0.0,0.0,0.0,119.0,0.0,54.0,0.0,0.0,54.0,10.0,0.0,8.0,0.0,24.0,0.0,4.0],\"xaxis\":\"x\",\"yaxis\":\"y\",\"type\":\"histogram\"}],                        {\"template\":{\"data\":{\"histogram2dcontour\":[{\"type\":\"histogram2dcontour\",\"colorbar\":{\"outlinewidth\":0,\"ticks\":\"\"},\"colorscale\":[[0.0,\"#0d0887\"],[0.1111111111111111,\"#46039f\"],[0.2222222222222222,\"#7201a8\"],[0.3333333333333333,\"#9c179e\"],[0.4444444444444444,\"#bd3786\"],[0.5555555555555556,\"#d8576b\"],[0.6666666666666666,\"#ed7953\"],[0.7777777777777778,\"#fb9f3a\"],[0.8888888888888888,\"#fdca26\"],[1.0,\"#f0f921\"]]}],\"choropleth\":[{\"type\":\"choropleth\",\"colorbar\":{\"outlinewidth\":0,\"ticks\":\"\"}}],\"histogram2d\":[{\"type\":\"histogram2d\",\"colorbar\":{\"outlinewidth\":0,\"ticks\":\"\"},\"colorscale\":[[0.0,\"#0d0887\"],[0.1111111111111111,\"#46039f\"],[0.2222222222222222,\"#7201a8\"],[0.3333333333333333,\"#9c179e\"],[0.4444444444444444,\"#bd3786\"],[0.5555555555555556,\"#d8576b\"],[0.6666666666666666,\"#ed7953\"],[0.7777777777777778,\"#fb9f3a\"],[0.8888888888888888,\"#fdca26\"],[1.0,\"#f0f921\"]]}],\"heatmap\":[{\"type\":\"heatmap\",\"colorbar\":{\"outlinewidth\":0,\"ticks\":\"\"},\"colorscale\":[[0.0,\"#0d0887\"],[0.1111111111111111,\"#46039f\"],[0.2222222222222222,\"#7201a8\"],[0.3333333333333333,\"#9c179e\"],[0.4444444444444444,\"#bd3786\"],[0.5555555555555556,\"#d8576b\"],[0.6666666666666666,\"#ed7953\"],[0.7777777777777778,\"#fb9f3a\"],[0.8888888888888888,\"#fdca26\"],[1.0,\"#f0f921\"]]}],\"heatmapgl\":[{\"type\":\"heatmapgl\",\"colorbar\":{\"outlinewidth\":0,\"ticks\":\"\"},\"colorscale\":[[0.0,\"#0d0887\"],[0.1111111111111111,\"#46039f\"],[0.2222222222222222,\"#7201a8\"],[0.3333333333333333,\"#9c179e\"],[0.4444444444444444,\"#bd3786\"],[0.5555555555555556,\"#d8576b\"],[0.6666666666666666,\"#ed7953\"],[0.7777777777777778,\"#fb9f3a\"],[0.8888888888888888,\"#fdca26\"],[1.0,\"#f0f921\"]]}],\"contourcarpet\":[{\"type\":\"contourcarpet\",\"colorbar\":{\"outlinewidth\":0,\"ticks\":\"\"}}],\"contour\":[{\"type\":\"contour\",\"colorbar\":{\"outlinewidth\":0,\"ticks\":\"\"},\"colorscale\":[[0.0,\"#0d0887\"],[0.1111111111111111,\"#46039f\"],[0.2222222222222222,\"#7201a8\"],[0.3333333333333333,\"#9c179e\"],[0.4444444444444444,\"#bd3786\"],[0.5555555555555556,\"#d8576b\"],[0.6666666666666666,\"#ed7953\"],[0.7777777777777778,\"#fb9f3a\"],[0.8888888888888888,\"#fdca26\"],[1.0,\"#f0f921\"]]}],\"surface\":[{\"type\":\"surface\",\"colorbar\":{\"outlinewidth\":0,\"ticks\":\"\"},\"colorscale\":[[0.0,\"#0d0887\"],[0.1111111111111111,\"#46039f\"],[0.2222222222222222,\"#7201a8\"],[0.3333333333333333,\"#9c179e\"],[0.4444444444444444,\"#bd3786\"],[0.5555555555555556,\"#d8576b\"],[0.6666666666666666,\"#ed7953\"],[0.7777777777777778,\"#fb9f3a\"],[0.8888888888888888,\"#fdca26\"],[1.0,\"#f0f921\"]]}],\"mesh3d\":[{\"type\":\"mesh3d\",\"colorbar\":{\"outlinewidth\":0,\"ticks\":\"\"}}],\"scatter\":[{\"fillpattern\":{\"fillmode\":\"overlay\",\"size\":10,\"solidity\":0.2},\"type\":\"scatter\"}],\"parcoords\":[{\"type\":\"parcoords\",\"line\":{\"colorbar\":{\"outlinewidth\":0,\"ticks\":\"\"}}}],\"scatterpolargl\":[{\"type\":\"scatterpolargl\",\"marker\":{\"colorbar\":{\"outlinewidth\":0,\"ticks\":\"\"}}}],\"bar\":[{\"error_x\":{\"color\":\"#2a3f5f\"},\"error_y\":{\"color\":\"#2a3f5f\"},\"marker\":{\"line\":{\"color\":\"#E5ECF6\",\"width\":0.5},\"pattern\":{\"fillmode\":\"overlay\",\"size\":10,\"solidity\":0.2}},\"type\":\"bar\"}],\"scattergeo\":[{\"type\":\"scattergeo\",\"marker\":{\"colorbar\":{\"outlinewidth\":0,\"ticks\":\"\"}}}],\"scatterpolar\":[{\"type\":\"scatterpolar\",\"marker\":{\"colorbar\":{\"outlinewidth\":0,\"ticks\":\"\"}}}],\"histogram\":[{\"marker\":{\"pattern\":{\"fillmode\":\"overlay\",\"size\":10,\"solidity\":0.2}},\"type\":\"histogram\"}],\"scattergl\":[{\"type\":\"scattergl\",\"marker\":{\"colorbar\":{\"outlinewidth\":0,\"ticks\":\"\"}}}],\"scatter3d\":[{\"type\":\"scatter3d\",\"line\":{\"colorbar\":{\"outlinewidth\":0,\"ticks\":\"\"}},\"marker\":{\"colorbar\":{\"outlinewidth\":0,\"ticks\":\"\"}}}],\"scattermapbox\":[{\"type\":\"scattermapbox\",\"marker\":{\"colorbar\":{\"outlinewidth\":0,\"ticks\":\"\"}}}],\"scatterternary\":[{\"type\":\"scatterternary\",\"marker\":{\"colorbar\":{\"outlinewidth\":0,\"ticks\":\"\"}}}],\"scattercarpet\":[{\"type\":\"scattercarpet\",\"marker\":{\"colorbar\":{\"outlinewidth\":0,\"ticks\":\"\"}}}],\"carpet\":[{\"aaxis\":{\"endlinecolor\":\"#2a3f5f\",\"gridcolor\":\"white\",\"linecolor\":\"white\",\"minorgridcolor\":\"white\",\"startlinecolor\":\"#2a3f5f\"},\"baxis\":{\"endlinecolor\":\"#2a3f5f\",\"gridcolor\":\"white\",\"linecolor\":\"white\",\"minorgridcolor\":\"white\",\"startlinecolor\":\"#2a3f5f\"},\"type\":\"carpet\"}],\"table\":[{\"cells\":{\"fill\":{\"color\":\"#EBF0F8\"},\"line\":{\"color\":\"white\"}},\"header\":{\"fill\":{\"color\":\"#C8D4E3\"},\"line\":{\"color\":\"white\"}},\"type\":\"table\"}],\"barpolar\":[{\"marker\":{\"line\":{\"color\":\"#E5ECF6\",\"width\":0.5},\"pattern\":{\"fillmode\":\"overlay\",\"size\":10,\"solidity\":0.2}},\"type\":\"barpolar\"}],\"pie\":[{\"automargin\":true,\"type\":\"pie\"}]},\"layout\":{\"autotypenumbers\":\"strict\",\"colorway\":[\"#636efa\",\"#EF553B\",\"#00cc96\",\"#ab63fa\",\"#FFA15A\",\"#19d3f3\",\"#FF6692\",\"#B6E880\",\"#FF97FF\",\"#FECB52\"],\"font\":{\"color\":\"#2a3f5f\"},\"hovermode\":\"closest\",\"hoverlabel\":{\"align\":\"left\"},\"paper_bgcolor\":\"white\",\"plot_bgcolor\":\"#E5ECF6\",\"polar\":{\"bgcolor\":\"#E5ECF6\",\"angularaxis\":{\"gridcolor\":\"white\",\"linecolor\":\"white\",\"ticks\":\"\"},\"radialaxis\":{\"gridcolor\":\"white\",\"linecolor\":\"white\",\"ticks\":\"\"}},\"ternary\":{\"bgcolor\":\"#E5ECF6\",\"aaxis\":{\"gridcolor\":\"white\",\"linecolor\":\"white\",\"ticks\":\"\"},\"baxis\":{\"gridcolor\":\"white\",\"linecolor\":\"white\",\"ticks\":\"\"},\"caxis\":{\"gridcolor\":\"white\",\"linecolor\":\"white\",\"ticks\":\"\"}},\"coloraxis\":{\"colorbar\":{\"outlinewidth\":0,\"ticks\":\"\"}},\"colorscale\":{\"sequential\":[[0.0,\"#0d0887\"],[0.1111111111111111,\"#46039f\"],[0.2222222222222222,\"#7201a8\"],[0.3333333333333333,\"#9c179e\"],[0.4444444444444444,\"#bd3786\"],[0.5555555555555556,\"#d8576b\"],[0.6666666666666666,\"#ed7953\"],[0.7777777777777778,\"#fb9f3a\"],[0.8888888888888888,\"#fdca26\"],[1.0,\"#f0f921\"]],\"sequentialminus\":[[0.0,\"#0d0887\"],[0.1111111111111111,\"#46039f\"],[0.2222222222222222,\"#7201a8\"],[0.3333333333333333,\"#9c179e\"],[0.4444444444444444,\"#bd3786\"],[0.5555555555555556,\"#d8576b\"],[0.6666666666666666,\"#ed7953\"],[0.7777777777777778,\"#fb9f3a\"],[0.8888888888888888,\"#fdca26\"],[1.0,\"#f0f921\"]],\"diverging\":[[0,\"#8e0152\"],[0.1,\"#c51b7d\"],[0.2,\"#de77ae\"],[0.3,\"#f1b6da\"],[0.4,\"#fde0ef\"],[0.5,\"#f7f7f7\"],[0.6,\"#e6f5d0\"],[0.7,\"#b8e186\"],[0.8,\"#7fbc41\"],[0.9,\"#4d9221\"],[1,\"#276419\"]]},\"xaxis\":{\"gridcolor\":\"white\",\"linecolor\":\"white\",\"ticks\":\"\",\"title\":{\"standoff\":15},\"zerolinecolor\":\"white\",\"automargin\":true,\"zerolinewidth\":2},\"yaxis\":{\"gridcolor\":\"white\",\"linecolor\":\"white\",\"ticks\":\"\",\"title\":{\"standoff\":15},\"zerolinecolor\":\"white\",\"automargin\":true,\"zerolinewidth\":2},\"scene\":{\"xaxis\":{\"backgroundcolor\":\"#E5ECF6\",\"gridcolor\":\"white\",\"linecolor\":\"white\",\"showbackground\":true,\"ticks\":\"\",\"zerolinecolor\":\"white\",\"gridwidth\":2},\"yaxis\":{\"backgroundcolor\":\"#E5ECF6\",\"gridcolor\":\"white\",\"linecolor\":\"white\",\"showbackground\":true,\"ticks\":\"\",\"zerolinecolor\":\"white\",\"gridwidth\":2},\"zaxis\":{\"backgroundcolor\":\"#E5ECF6\",\"gridcolor\":\"white\",\"linecolor\":\"white\",\"showbackground\":true,\"ticks\":\"\",\"zerolinecolor\":\"white\",\"gridwidth\":2}},\"shapedefaults\":{\"line\":{\"color\":\"#2a3f5f\"}},\"annotationdefaults\":{\"arrowcolor\":\"#2a3f5f\",\"arrowhead\":0,\"arrowwidth\":1},\"geo\":{\"bgcolor\":\"white\",\"landcolor\":\"#E5ECF6\",\"subunitcolor\":\"white\",\"showland\":true,\"showlakes\":true,\"lakecolor\":\"white\"},\"title\":{\"x\":0.05},\"mapbox\":{\"style\":\"light\"}}},\"xaxis\":{\"anchor\":\"y\",\"domain\":[0.0,1.0],\"title\":{\"text\":\"arrival_delay_in_minutes\"}},\"yaxis\":{\"anchor\":\"x\",\"domain\":[0.0,1.0],\"title\":{\"text\":\"count\"}},\"legend\":{\"tracegroupgap\":0},\"margin\":{\"t\":60},\"barmode\":\"relative\",\"height\":400,\"width\":1000},                        {\"responsive\": true}                    ).then(function(){\n",
       "                            \n",
       "var gd = document.getElementById('84a585a8-a38e-45ff-8ef4-81aaf494c173');\n",
       "var x = new MutationObserver(function (mutations, observer) {{\n",
       "        var display = window.getComputedStyle(gd).display;\n",
       "        if (!display || display === 'none') {{\n",
       "            console.log([gd, 'removed!']);\n",
       "            Plotly.purge(gd);\n",
       "            observer.disconnect();\n",
       "        }}\n",
       "}});\n",
       "\n",
       "// Listen for the removal of the full notebook cells\n",
       "var notebookContainer = gd.closest('#notebook-container');\n",
       "if (notebookContainer) {{\n",
       "    x.observe(notebookContainer, {childList: true});\n",
       "}}\n",
       "\n",
       "// Listen for the clearing of the current output cell\n",
       "var outputEl = gd.closest('.output');\n",
       "if (outputEl) {{\n",
       "    x.observe(outputEl, {childList: true});\n",
       "}}\n",
       "\n",
       "                        })                };                });            </script>        </div>"
      ]
     },
     "metadata": {},
     "output_type": "display_data"
    }
   ],
   "source": [
    "data.plot(x=\"arrival_delay_in_minutes\",  kind = \"hist\", backend  = \"plotly\",\n",
    "                  width = 1000, height = 400,nbins=100)"
   ]
  },
  {
   "cell_type": "markdown",
   "id": "67863f34",
   "metadata": {},
   "source": [
    "`-` 대부분의 값들이 0값 근처에 몰려있으니 결측값을 0으로 대체하자."
   ]
  },
  {
   "cell_type": "code",
   "execution_count": 64,
   "id": "94c3b98d",
   "metadata": {},
   "outputs": [
    {
     "name": "stdout",
     "output_type": "stream",
     "text": [
      "Index([], dtype='object')\n"
     ]
    }
   ],
   "source": [
    "data.arrival_delay_in_minutes.fillna(0, inplace = True)\n",
    "print(data.columns[data.isna().sum() !=0])"
   ]
  },
  {
   "cell_type": "markdown",
   "id": "b096e27d",
   "metadata": {},
   "source": [
    "`-` x, y 분리"
   ]
  },
  {
   "cell_type": "code",
   "execution_count": 65,
   "id": "10229524",
   "metadata": {},
   "outputs": [],
   "source": [
    "target = \"satisfaction\"\n",
    "\n",
    "x = data.drop(target, axis = 1)\n",
    "y = data[target]"
   ]
  },
  {
   "cell_type": "markdown",
   "id": "128a62d9",
   "metadata": {},
   "source": [
    "`-` 가변수화"
   ]
  },
  {
   "cell_type": "code",
   "execution_count": 66,
   "id": "4afd1612",
   "metadata": {},
   "outputs": [
    {
     "data": {
      "text/html": [
       "<div>\n",
       "<style scoped>\n",
       "    .dataframe tbody tr th:only-of-type {\n",
       "        vertical-align: middle;\n",
       "    }\n",
       "\n",
       "    .dataframe tbody tr th {\n",
       "        vertical-align: top;\n",
       "    }\n",
       "\n",
       "    .dataframe thead th {\n",
       "        text-align: right;\n",
       "    }\n",
       "</style>\n",
       "<table border=\"1\" class=\"dataframe\">\n",
       "  <thead>\n",
       "    <tr style=\"text-align: right;\">\n",
       "      <th></th>\n",
       "      <th>age</th>\n",
       "      <th>flight_distance</th>\n",
       "      <th>inflight_wifi_service</th>\n",
       "      <th>ease_of_online_booking</th>\n",
       "      <th>food_and_drink</th>\n",
       "      <th>online_boarding</th>\n",
       "      <th>seat_comfort</th>\n",
       "      <th>inflight_entertainment</th>\n",
       "      <th>on-board_service</th>\n",
       "      <th>leg_room_service</th>\n",
       "      <th>baggage_handling</th>\n",
       "      <th>checkin_service</th>\n",
       "      <th>inflight_service</th>\n",
       "      <th>cleanliness</th>\n",
       "      <th>arrival_delay_in_minutes</th>\n",
       "      <th>gender_Male</th>\n",
       "      <th>customer_type_disloyal Customer</th>\n",
       "      <th>type_of_travel_Personal Travel</th>\n",
       "      <th>class_Eco</th>\n",
       "      <th>class_Eco Plus</th>\n",
       "    </tr>\n",
       "  </thead>\n",
       "  <tbody>\n",
       "    <tr>\n",
       "      <th>0</th>\n",
       "      <td>13</td>\n",
       "      <td>460</td>\n",
       "      <td>3</td>\n",
       "      <td>3</td>\n",
       "      <td>5</td>\n",
       "      <td>3</td>\n",
       "      <td>5</td>\n",
       "      <td>5</td>\n",
       "      <td>4</td>\n",
       "      <td>3</td>\n",
       "      <td>4</td>\n",
       "      <td>4</td>\n",
       "      <td>5</td>\n",
       "      <td>5</td>\n",
       "      <td>18.0</td>\n",
       "      <td>1.0</td>\n",
       "      <td>0.0</td>\n",
       "      <td>1.0</td>\n",
       "      <td>0.0</td>\n",
       "      <td>1.0</td>\n",
       "    </tr>\n",
       "    <tr>\n",
       "      <th>1</th>\n",
       "      <td>25</td>\n",
       "      <td>235</td>\n",
       "      <td>3</td>\n",
       "      <td>3</td>\n",
       "      <td>1</td>\n",
       "      <td>3</td>\n",
       "      <td>1</td>\n",
       "      <td>1</td>\n",
       "      <td>1</td>\n",
       "      <td>5</td>\n",
       "      <td>3</td>\n",
       "      <td>1</td>\n",
       "      <td>4</td>\n",
       "      <td>1</td>\n",
       "      <td>6.0</td>\n",
       "      <td>1.0</td>\n",
       "      <td>1.0</td>\n",
       "      <td>0.0</td>\n",
       "      <td>0.0</td>\n",
       "      <td>0.0</td>\n",
       "    </tr>\n",
       "    <tr>\n",
       "      <th>2</th>\n",
       "      <td>26</td>\n",
       "      <td>1142</td>\n",
       "      <td>2</td>\n",
       "      <td>2</td>\n",
       "      <td>5</td>\n",
       "      <td>5</td>\n",
       "      <td>5</td>\n",
       "      <td>5</td>\n",
       "      <td>4</td>\n",
       "      <td>3</td>\n",
       "      <td>4</td>\n",
       "      <td>4</td>\n",
       "      <td>4</td>\n",
       "      <td>5</td>\n",
       "      <td>0.0</td>\n",
       "      <td>0.0</td>\n",
       "      <td>0.0</td>\n",
       "      <td>0.0</td>\n",
       "      <td>0.0</td>\n",
       "      <td>0.0</td>\n",
       "    </tr>\n",
       "    <tr>\n",
       "      <th>3</th>\n",
       "      <td>25</td>\n",
       "      <td>562</td>\n",
       "      <td>2</td>\n",
       "      <td>5</td>\n",
       "      <td>2</td>\n",
       "      <td>2</td>\n",
       "      <td>2</td>\n",
       "      <td>2</td>\n",
       "      <td>2</td>\n",
       "      <td>5</td>\n",
       "      <td>3</td>\n",
       "      <td>1</td>\n",
       "      <td>4</td>\n",
       "      <td>2</td>\n",
       "      <td>9.0</td>\n",
       "      <td>0.0</td>\n",
       "      <td>0.0</td>\n",
       "      <td>0.0</td>\n",
       "      <td>0.0</td>\n",
       "      <td>0.0</td>\n",
       "    </tr>\n",
       "    <tr>\n",
       "      <th>4</th>\n",
       "      <td>61</td>\n",
       "      <td>214</td>\n",
       "      <td>3</td>\n",
       "      <td>3</td>\n",
       "      <td>4</td>\n",
       "      <td>5</td>\n",
       "      <td>5</td>\n",
       "      <td>3</td>\n",
       "      <td>3</td>\n",
       "      <td>4</td>\n",
       "      <td>4</td>\n",
       "      <td>3</td>\n",
       "      <td>3</td>\n",
       "      <td>3</td>\n",
       "      <td>0.0</td>\n",
       "      <td>1.0</td>\n",
       "      <td>0.0</td>\n",
       "      <td>0.0</td>\n",
       "      <td>0.0</td>\n",
       "      <td>0.0</td>\n",
       "    </tr>\n",
       "  </tbody>\n",
       "</table>\n",
       "</div>"
      ],
      "text/plain": [
       "   age  flight_distance  inflight_wifi_service  ease_of_online_booking  \\\n",
       "0   13              460                      3                       3   \n",
       "1   25              235                      3                       3   \n",
       "2   26             1142                      2                       2   \n",
       "3   25              562                      2                       5   \n",
       "4   61              214                      3                       3   \n",
       "\n",
       "   food_and_drink  online_boarding  seat_comfort  inflight_entertainment  \\\n",
       "0               5                3             5                       5   \n",
       "1               1                3             1                       1   \n",
       "2               5                5             5                       5   \n",
       "3               2                2             2                       2   \n",
       "4               4                5             5                       3   \n",
       "\n",
       "   on-board_service  leg_room_service  baggage_handling  checkin_service  \\\n",
       "0                 4                 3                 4                4   \n",
       "1                 1                 5                 3                1   \n",
       "2                 4                 3                 4                4   \n",
       "3                 2                 5                 3                1   \n",
       "4                 3                 4                 4                3   \n",
       "\n",
       "   inflight_service  cleanliness  arrival_delay_in_minutes  gender_Male  \\\n",
       "0                 5            5                      18.0          1.0   \n",
       "1                 4            1                       6.0          1.0   \n",
       "2                 4            5                       0.0          0.0   \n",
       "3                 4            2                       9.0          0.0   \n",
       "4                 3            3                       0.0          1.0   \n",
       "\n",
       "   customer_type_disloyal Customer  type_of_travel_Personal Travel  class_Eco  \\\n",
       "0                              0.0                             1.0        0.0   \n",
       "1                              1.0                             0.0        0.0   \n",
       "2                              0.0                             0.0        0.0   \n",
       "3                              0.0                             0.0        0.0   \n",
       "4                              0.0                             0.0        0.0   \n",
       "\n",
       "   class_Eco Plus  \n",
       "0             1.0  \n",
       "1             0.0  \n",
       "2             0.0  \n",
       "3             0.0  \n",
       "4             0.0  "
      ]
     },
     "execution_count": 66,
     "metadata": {},
     "output_type": "execute_result"
    }
   ],
   "source": [
    "d = [\"gender\", \"customer_type\", \"type_of_travel\", \"class\"]\n",
    "\n",
    "x = pd.get_dummies(x, columns = d, drop_first = True, dtype = float)\n",
    "x.head()"
   ]
  },
  {
   "cell_type": "markdown",
   "id": "e6b3d614",
   "metadata": {},
   "source": [
    "`-` 학습, 평가용 데이터 분리"
   ]
  },
  {
   "cell_type": "code",
   "execution_count": 67,
   "id": "69e891c1",
   "metadata": {},
   "outputs": [],
   "source": [
    "from sklearn.model_selection import train_test_split\n",
    "\n",
    "x_train, x_test, y_train, y_test = train_test_split(x, y, random_state = 1, test_size = 0.3)"
   ]
  },
  {
   "cell_type": "markdown",
   "id": "b4637951",
   "metadata": {},
   "source": [
    "### 2. cv를 통한 최적의 모델 선택"
   ]
  },
  {
   "cell_type": "code",
   "execution_count": 68,
   "id": "5cec004e",
   "metadata": {},
   "outputs": [],
   "source": [
    "# | code-fold : true\n",
    "\n",
    "from sklearn.tree import DecisionTreeClassifier\n",
    "from sklearn.model_selection import cross_val_score\n",
    "# 1. tree\n",
    "tree = DecisionTreeClassifier(max_depth = 5, random_state = 1)\n",
    "tree.cv = cross_val_score(tree, x_train, y_train, cv = 5)\n",
    "tree.cv_m = tree.cv.mean()\n",
    "\n",
    "# 2. logistic\n",
    "from sklearn.linear_model import LogisticRegression\n",
    "logit = LogisticRegression()\n",
    "logit.cv = cross_val_score(logit, x_train, y_train, cv = 5)\n",
    "logit.cv_m = logit.cv.mean()\n",
    "\n",
    "# 3. RF\n",
    "from sklearn.ensemble import RandomForestClassifier\n",
    "\n",
    "rf = RandomForestClassifier(max_depth = 5,  random_state = 1)\n",
    "rf.cv = cross_val_score(rf, x_train,y_train)\n",
    "rf.cv_m = rf.cv.mean()\n",
    "\n",
    "# 4. XGBoost\n",
    "\n",
    "from xgboost import XGBClassifier\n",
    "xgb =  XGBClassifier(max_depth = 5, random_state = 1)\n",
    "xgb.cv = cross_val_score(xgb, x_train, y_train, cv = 5)\n",
    "xgb.cv_m  = xgb.cv.mean()"
   ]
  },
  {
   "cell_type": "code",
   "execution_count": 69,
   "id": "05aa45ff",
   "metadata": {},
   "outputs": [
    {
     "data": {
      "application/vnd.plotly.v1+json": {
       "config": {
        "plotlyServerURL": "https://plot.ly"
       },
       "data": [
        {
         "alignmentgroup": "True",
         "hovertemplate": "model=%{y}<br>result=%{x}<extra></extra>",
         "legendgroup": "xgb",
         "marker": {
          "color": "#636efa",
          "pattern": {
           "shape": ""
          }
         },
         "name": "xgb",
         "offsetgroup": "xgb",
         "orientation": "h",
         "showlegend": true,
         "textposition": "auto",
         "type": "bar",
         "x": [
          0.9329976584380404
         ],
         "xaxis": "x",
         "y": [
          "xgb"
         ],
         "yaxis": "y"
        },
        {
         "alignmentgroup": "True",
         "hovertemplate": "model=%{y}<br>result=%{x}<extra></extra>",
         "legendgroup": "rf",
         "marker": {
          "color": "#EF553B",
          "pattern": {
           "shape": ""
          }
         },
         "name": "rf",
         "offsetgroup": "rf",
         "orientation": "h",
         "showlegend": true,
         "textposition": "auto",
         "type": "bar",
         "x": [
          0.915290552639231
         ],
         "xaxis": "x",
         "y": [
          "rf"
         ],
         "yaxis": "y"
        },
        {
         "alignmentgroup": "True",
         "hovertemplate": "model=%{y}<br>result=%{x}<extra></extra>",
         "legendgroup": "tree",
         "marker": {
          "color": "#00cc96",
          "pattern": {
           "shape": ""
          }
         },
         "name": "tree",
         "offsetgroup": "tree",
         "orientation": "h",
         "showlegend": true,
         "textposition": "auto",
         "type": "bar",
         "x": [
          0.8881513903980656
         ],
         "xaxis": "x",
         "y": [
          "tree"
         ],
         "yaxis": "y"
        },
        {
         "alignmentgroup": "True",
         "hovertemplate": "model=%{y}<br>result=%{x}<extra></extra>",
         "legendgroup": "logit",
         "marker": {
          "color": "#ab63fa",
          "pattern": {
           "shape": ""
          }
         },
         "name": "logit",
         "offsetgroup": "logit",
         "orientation": "h",
         "showlegend": true,
         "textposition": "auto",
         "type": "bar",
         "x": [
          0.8266968672043588
         ],
         "xaxis": "x",
         "y": [
          "logit"
         ],
         "yaxis": "y"
        }
       ],
       "layout": {
        "barmode": "relative",
        "legend": {
         "title": {
          "text": "model"
         },
         "tracegroupgap": 0
        },
        "margin": {
         "t": 60
        },
        "template": {
         "data": {
          "bar": [
           {
            "error_x": {
             "color": "#2a3f5f"
            },
            "error_y": {
             "color": "#2a3f5f"
            },
            "marker": {
             "line": {
              "color": "#E5ECF6",
              "width": 0.5
             },
             "pattern": {
              "fillmode": "overlay",
              "size": 10,
              "solidity": 0.2
             }
            },
            "type": "bar"
           }
          ],
          "barpolar": [
           {
            "marker": {
             "line": {
              "color": "#E5ECF6",
              "width": 0.5
             },
             "pattern": {
              "fillmode": "overlay",
              "size": 10,
              "solidity": 0.2
             }
            },
            "type": "barpolar"
           }
          ],
          "carpet": [
           {
            "aaxis": {
             "endlinecolor": "#2a3f5f",
             "gridcolor": "white",
             "linecolor": "white",
             "minorgridcolor": "white",
             "startlinecolor": "#2a3f5f"
            },
            "baxis": {
             "endlinecolor": "#2a3f5f",
             "gridcolor": "white",
             "linecolor": "white",
             "minorgridcolor": "white",
             "startlinecolor": "#2a3f5f"
            },
            "type": "carpet"
           }
          ],
          "choropleth": [
           {
            "colorbar": {
             "outlinewidth": 0,
             "ticks": ""
            },
            "type": "choropleth"
           }
          ],
          "contour": [
           {
            "colorbar": {
             "outlinewidth": 0,
             "ticks": ""
            },
            "colorscale": [
             [
              0,
              "#0d0887"
             ],
             [
              0.1111111111111111,
              "#46039f"
             ],
             [
              0.2222222222222222,
              "#7201a8"
             ],
             [
              0.3333333333333333,
              "#9c179e"
             ],
             [
              0.4444444444444444,
              "#bd3786"
             ],
             [
              0.5555555555555556,
              "#d8576b"
             ],
             [
              0.6666666666666666,
              "#ed7953"
             ],
             [
              0.7777777777777778,
              "#fb9f3a"
             ],
             [
              0.8888888888888888,
              "#fdca26"
             ],
             [
              1,
              "#f0f921"
             ]
            ],
            "type": "contour"
           }
          ],
          "contourcarpet": [
           {
            "colorbar": {
             "outlinewidth": 0,
             "ticks": ""
            },
            "type": "contourcarpet"
           }
          ],
          "heatmap": [
           {
            "colorbar": {
             "outlinewidth": 0,
             "ticks": ""
            },
            "colorscale": [
             [
              0,
              "#0d0887"
             ],
             [
              0.1111111111111111,
              "#46039f"
             ],
             [
              0.2222222222222222,
              "#7201a8"
             ],
             [
              0.3333333333333333,
              "#9c179e"
             ],
             [
              0.4444444444444444,
              "#bd3786"
             ],
             [
              0.5555555555555556,
              "#d8576b"
             ],
             [
              0.6666666666666666,
              "#ed7953"
             ],
             [
              0.7777777777777778,
              "#fb9f3a"
             ],
             [
              0.8888888888888888,
              "#fdca26"
             ],
             [
              1,
              "#f0f921"
             ]
            ],
            "type": "heatmap"
           }
          ],
          "heatmapgl": [
           {
            "colorbar": {
             "outlinewidth": 0,
             "ticks": ""
            },
            "colorscale": [
             [
              0,
              "#0d0887"
             ],
             [
              0.1111111111111111,
              "#46039f"
             ],
             [
              0.2222222222222222,
              "#7201a8"
             ],
             [
              0.3333333333333333,
              "#9c179e"
             ],
             [
              0.4444444444444444,
              "#bd3786"
             ],
             [
              0.5555555555555556,
              "#d8576b"
             ],
             [
              0.6666666666666666,
              "#ed7953"
             ],
             [
              0.7777777777777778,
              "#fb9f3a"
             ],
             [
              0.8888888888888888,
              "#fdca26"
             ],
             [
              1,
              "#f0f921"
             ]
            ],
            "type": "heatmapgl"
           }
          ],
          "histogram": [
           {
            "marker": {
             "pattern": {
              "fillmode": "overlay",
              "size": 10,
              "solidity": 0.2
             }
            },
            "type": "histogram"
           }
          ],
          "histogram2d": [
           {
            "colorbar": {
             "outlinewidth": 0,
             "ticks": ""
            },
            "colorscale": [
             [
              0,
              "#0d0887"
             ],
             [
              0.1111111111111111,
              "#46039f"
             ],
             [
              0.2222222222222222,
              "#7201a8"
             ],
             [
              0.3333333333333333,
              "#9c179e"
             ],
             [
              0.4444444444444444,
              "#bd3786"
             ],
             [
              0.5555555555555556,
              "#d8576b"
             ],
             [
              0.6666666666666666,
              "#ed7953"
             ],
             [
              0.7777777777777778,
              "#fb9f3a"
             ],
             [
              0.8888888888888888,
              "#fdca26"
             ],
             [
              1,
              "#f0f921"
             ]
            ],
            "type": "histogram2d"
           }
          ],
          "histogram2dcontour": [
           {
            "colorbar": {
             "outlinewidth": 0,
             "ticks": ""
            },
            "colorscale": [
             [
              0,
              "#0d0887"
             ],
             [
              0.1111111111111111,
              "#46039f"
             ],
             [
              0.2222222222222222,
              "#7201a8"
             ],
             [
              0.3333333333333333,
              "#9c179e"
             ],
             [
              0.4444444444444444,
              "#bd3786"
             ],
             [
              0.5555555555555556,
              "#d8576b"
             ],
             [
              0.6666666666666666,
              "#ed7953"
             ],
             [
              0.7777777777777778,
              "#fb9f3a"
             ],
             [
              0.8888888888888888,
              "#fdca26"
             ],
             [
              1,
              "#f0f921"
             ]
            ],
            "type": "histogram2dcontour"
           }
          ],
          "mesh3d": [
           {
            "colorbar": {
             "outlinewidth": 0,
             "ticks": ""
            },
            "type": "mesh3d"
           }
          ],
          "parcoords": [
           {
            "line": {
             "colorbar": {
              "outlinewidth": 0,
              "ticks": ""
             }
            },
            "type": "parcoords"
           }
          ],
          "pie": [
           {
            "automargin": true,
            "type": "pie"
           }
          ],
          "scatter": [
           {
            "fillpattern": {
             "fillmode": "overlay",
             "size": 10,
             "solidity": 0.2
            },
            "type": "scatter"
           }
          ],
          "scatter3d": [
           {
            "line": {
             "colorbar": {
              "outlinewidth": 0,
              "ticks": ""
             }
            },
            "marker": {
             "colorbar": {
              "outlinewidth": 0,
              "ticks": ""
             }
            },
            "type": "scatter3d"
           }
          ],
          "scattercarpet": [
           {
            "marker": {
             "colorbar": {
              "outlinewidth": 0,
              "ticks": ""
             }
            },
            "type": "scattercarpet"
           }
          ],
          "scattergeo": [
           {
            "marker": {
             "colorbar": {
              "outlinewidth": 0,
              "ticks": ""
             }
            },
            "type": "scattergeo"
           }
          ],
          "scattergl": [
           {
            "marker": {
             "colorbar": {
              "outlinewidth": 0,
              "ticks": ""
             }
            },
            "type": "scattergl"
           }
          ],
          "scattermapbox": [
           {
            "marker": {
             "colorbar": {
              "outlinewidth": 0,
              "ticks": ""
             }
            },
            "type": "scattermapbox"
           }
          ],
          "scatterpolar": [
           {
            "marker": {
             "colorbar": {
              "outlinewidth": 0,
              "ticks": ""
             }
            },
            "type": "scatterpolar"
           }
          ],
          "scatterpolargl": [
           {
            "marker": {
             "colorbar": {
              "outlinewidth": 0,
              "ticks": ""
             }
            },
            "type": "scatterpolargl"
           }
          ],
          "scatterternary": [
           {
            "marker": {
             "colorbar": {
              "outlinewidth": 0,
              "ticks": ""
             }
            },
            "type": "scatterternary"
           }
          ],
          "surface": [
           {
            "colorbar": {
             "outlinewidth": 0,
             "ticks": ""
            },
            "colorscale": [
             [
              0,
              "#0d0887"
             ],
             [
              0.1111111111111111,
              "#46039f"
             ],
             [
              0.2222222222222222,
              "#7201a8"
             ],
             [
              0.3333333333333333,
              "#9c179e"
             ],
             [
              0.4444444444444444,
              "#bd3786"
             ],
             [
              0.5555555555555556,
              "#d8576b"
             ],
             [
              0.6666666666666666,
              "#ed7953"
             ],
             [
              0.7777777777777778,
              "#fb9f3a"
             ],
             [
              0.8888888888888888,
              "#fdca26"
             ],
             [
              1,
              "#f0f921"
             ]
            ],
            "type": "surface"
           }
          ],
          "table": [
           {
            "cells": {
             "fill": {
              "color": "#EBF0F8"
             },
             "line": {
              "color": "white"
             }
            },
            "header": {
             "fill": {
              "color": "#C8D4E3"
             },
             "line": {
              "color": "white"
             }
            },
            "type": "table"
           }
          ]
         },
         "layout": {
          "annotationdefaults": {
           "arrowcolor": "#2a3f5f",
           "arrowhead": 0,
           "arrowwidth": 1
          },
          "autotypenumbers": "strict",
          "coloraxis": {
           "colorbar": {
            "outlinewidth": 0,
            "ticks": ""
           }
          },
          "colorscale": {
           "diverging": [
            [
             0,
             "#8e0152"
            ],
            [
             0.1,
             "#c51b7d"
            ],
            [
             0.2,
             "#de77ae"
            ],
            [
             0.3,
             "#f1b6da"
            ],
            [
             0.4,
             "#fde0ef"
            ],
            [
             0.5,
             "#f7f7f7"
            ],
            [
             0.6,
             "#e6f5d0"
            ],
            [
             0.7,
             "#b8e186"
            ],
            [
             0.8,
             "#7fbc41"
            ],
            [
             0.9,
             "#4d9221"
            ],
            [
             1,
             "#276419"
            ]
           ],
           "sequential": [
            [
             0,
             "#0d0887"
            ],
            [
             0.1111111111111111,
             "#46039f"
            ],
            [
             0.2222222222222222,
             "#7201a8"
            ],
            [
             0.3333333333333333,
             "#9c179e"
            ],
            [
             0.4444444444444444,
             "#bd3786"
            ],
            [
             0.5555555555555556,
             "#d8576b"
            ],
            [
             0.6666666666666666,
             "#ed7953"
            ],
            [
             0.7777777777777778,
             "#fb9f3a"
            ],
            [
             0.8888888888888888,
             "#fdca26"
            ],
            [
             1,
             "#f0f921"
            ]
           ],
           "sequentialminus": [
            [
             0,
             "#0d0887"
            ],
            [
             0.1111111111111111,
             "#46039f"
            ],
            [
             0.2222222222222222,
             "#7201a8"
            ],
            [
             0.3333333333333333,
             "#9c179e"
            ],
            [
             0.4444444444444444,
             "#bd3786"
            ],
            [
             0.5555555555555556,
             "#d8576b"
            ],
            [
             0.6666666666666666,
             "#ed7953"
            ],
            [
             0.7777777777777778,
             "#fb9f3a"
            ],
            [
             0.8888888888888888,
             "#fdca26"
            ],
            [
             1,
             "#f0f921"
            ]
           ]
          },
          "colorway": [
           "#636efa",
           "#EF553B",
           "#00cc96",
           "#ab63fa",
           "#FFA15A",
           "#19d3f3",
           "#FF6692",
           "#B6E880",
           "#FF97FF",
           "#FECB52"
          ],
          "font": {
           "color": "#2a3f5f"
          },
          "geo": {
           "bgcolor": "white",
           "lakecolor": "white",
           "landcolor": "#E5ECF6",
           "showlakes": true,
           "showland": true,
           "subunitcolor": "white"
          },
          "hoverlabel": {
           "align": "left"
          },
          "hovermode": "closest",
          "mapbox": {
           "style": "light"
          },
          "paper_bgcolor": "white",
          "plot_bgcolor": "#E5ECF6",
          "polar": {
           "angularaxis": {
            "gridcolor": "white",
            "linecolor": "white",
            "ticks": ""
           },
           "bgcolor": "#E5ECF6",
           "radialaxis": {
            "gridcolor": "white",
            "linecolor": "white",
            "ticks": ""
           }
          },
          "scene": {
           "xaxis": {
            "backgroundcolor": "#E5ECF6",
            "gridcolor": "white",
            "gridwidth": 2,
            "linecolor": "white",
            "showbackground": true,
            "ticks": "",
            "zerolinecolor": "white"
           },
           "yaxis": {
            "backgroundcolor": "#E5ECF6",
            "gridcolor": "white",
            "gridwidth": 2,
            "linecolor": "white",
            "showbackground": true,
            "ticks": "",
            "zerolinecolor": "white"
           },
           "zaxis": {
            "backgroundcolor": "#E5ECF6",
            "gridcolor": "white",
            "gridwidth": 2,
            "linecolor": "white",
            "showbackground": true,
            "ticks": "",
            "zerolinecolor": "white"
           }
          },
          "shapedefaults": {
           "line": {
            "color": "#2a3f5f"
           }
          },
          "ternary": {
           "aaxis": {
            "gridcolor": "white",
            "linecolor": "white",
            "ticks": ""
           },
           "baxis": {
            "gridcolor": "white",
            "linecolor": "white",
            "ticks": ""
           },
           "bgcolor": "#E5ECF6",
           "caxis": {
            "gridcolor": "white",
            "linecolor": "white",
            "ticks": ""
           }
          },
          "title": {
           "x": 0.05
          },
          "xaxis": {
           "automargin": true,
           "gridcolor": "white",
           "linecolor": "white",
           "ticks": "",
           "title": {
            "standoff": 15
           },
           "zerolinecolor": "white",
           "zerolinewidth": 2
          },
          "yaxis": {
           "automargin": true,
           "gridcolor": "white",
           "linecolor": "white",
           "ticks": "",
           "title": {
            "standoff": 15
           },
           "zerolinecolor": "white",
           "zerolinewidth": 2
          }
         }
        },
        "xaxis": {
         "anchor": "y",
         "domain": [
          0,
          1
         ],
         "range": [
          0.7,
          1
         ],
         "title": {
          "text": "result"
         }
        },
        "yaxis": {
         "anchor": "x",
         "categoryarray": [
          "logit",
          "tree",
          "rf",
          "xgb"
         ],
         "categoryorder": "array",
         "domain": [
          0,
          1
         ],
         "title": {
          "text": "model"
         }
        }
       }
      },
      "text/html": [
       "<div>                            <div id=\"bf1e2d4a-df61-4ce7-abec-9f1798f9009c\" class=\"plotly-graph-div\" style=\"height:525px; width:100%;\"></div>            <script type=\"text/javascript\">                require([\"plotly\"], function(Plotly) {                    window.PLOTLYENV=window.PLOTLYENV || {};                                    if (document.getElementById(\"bf1e2d4a-df61-4ce7-abec-9f1798f9009c\")) {                    Plotly.newPlot(                        \"bf1e2d4a-df61-4ce7-abec-9f1798f9009c\",                        [{\"alignmentgroup\":\"True\",\"hovertemplate\":\"model=%{y}\\u003cbr\\u003eresult=%{x}\\u003cextra\\u003e\\u003c\\u002fextra\\u003e\",\"legendgroup\":\"xgb\",\"marker\":{\"color\":\"#636efa\",\"pattern\":{\"shape\":\"\"}},\"name\":\"xgb\",\"offsetgroup\":\"xgb\",\"orientation\":\"h\",\"showlegend\":true,\"textposition\":\"auto\",\"x\":[0.9329976584380404],\"xaxis\":\"x\",\"y\":[\"xgb\"],\"yaxis\":\"y\",\"type\":\"bar\"},{\"alignmentgroup\":\"True\",\"hovertemplate\":\"model=%{y}\\u003cbr\\u003eresult=%{x}\\u003cextra\\u003e\\u003c\\u002fextra\\u003e\",\"legendgroup\":\"rf\",\"marker\":{\"color\":\"#EF553B\",\"pattern\":{\"shape\":\"\"}},\"name\":\"rf\",\"offsetgroup\":\"rf\",\"orientation\":\"h\",\"showlegend\":true,\"textposition\":\"auto\",\"x\":[0.915290552639231],\"xaxis\":\"x\",\"y\":[\"rf\"],\"yaxis\":\"y\",\"type\":\"bar\"},{\"alignmentgroup\":\"True\",\"hovertemplate\":\"model=%{y}\\u003cbr\\u003eresult=%{x}\\u003cextra\\u003e\\u003c\\u002fextra\\u003e\",\"legendgroup\":\"tree\",\"marker\":{\"color\":\"#00cc96\",\"pattern\":{\"shape\":\"\"}},\"name\":\"tree\",\"offsetgroup\":\"tree\",\"orientation\":\"h\",\"showlegend\":true,\"textposition\":\"auto\",\"x\":[0.8881513903980656],\"xaxis\":\"x\",\"y\":[\"tree\"],\"yaxis\":\"y\",\"type\":\"bar\"},{\"alignmentgroup\":\"True\",\"hovertemplate\":\"model=%{y}\\u003cbr\\u003eresult=%{x}\\u003cextra\\u003e\\u003c\\u002fextra\\u003e\",\"legendgroup\":\"logit\",\"marker\":{\"color\":\"#ab63fa\",\"pattern\":{\"shape\":\"\"}},\"name\":\"logit\",\"offsetgroup\":\"logit\",\"orientation\":\"h\",\"showlegend\":true,\"textposition\":\"auto\",\"x\":[0.8266968672043588],\"xaxis\":\"x\",\"y\":[\"logit\"],\"yaxis\":\"y\",\"type\":\"bar\"}],                        {\"template\":{\"data\":{\"histogram2dcontour\":[{\"type\":\"histogram2dcontour\",\"colorbar\":{\"outlinewidth\":0,\"ticks\":\"\"},\"colorscale\":[[0.0,\"#0d0887\"],[0.1111111111111111,\"#46039f\"],[0.2222222222222222,\"#7201a8\"],[0.3333333333333333,\"#9c179e\"],[0.4444444444444444,\"#bd3786\"],[0.5555555555555556,\"#d8576b\"],[0.6666666666666666,\"#ed7953\"],[0.7777777777777778,\"#fb9f3a\"],[0.8888888888888888,\"#fdca26\"],[1.0,\"#f0f921\"]]}],\"choropleth\":[{\"type\":\"choropleth\",\"colorbar\":{\"outlinewidth\":0,\"ticks\":\"\"}}],\"histogram2d\":[{\"type\":\"histogram2d\",\"colorbar\":{\"outlinewidth\":0,\"ticks\":\"\"},\"colorscale\":[[0.0,\"#0d0887\"],[0.1111111111111111,\"#46039f\"],[0.2222222222222222,\"#7201a8\"],[0.3333333333333333,\"#9c179e\"],[0.4444444444444444,\"#bd3786\"],[0.5555555555555556,\"#d8576b\"],[0.6666666666666666,\"#ed7953\"],[0.7777777777777778,\"#fb9f3a\"],[0.8888888888888888,\"#fdca26\"],[1.0,\"#f0f921\"]]}],\"heatmap\":[{\"type\":\"heatmap\",\"colorbar\":{\"outlinewidth\":0,\"ticks\":\"\"},\"colorscale\":[[0.0,\"#0d0887\"],[0.1111111111111111,\"#46039f\"],[0.2222222222222222,\"#7201a8\"],[0.3333333333333333,\"#9c179e\"],[0.4444444444444444,\"#bd3786\"],[0.5555555555555556,\"#d8576b\"],[0.6666666666666666,\"#ed7953\"],[0.7777777777777778,\"#fb9f3a\"],[0.8888888888888888,\"#fdca26\"],[1.0,\"#f0f921\"]]}],\"heatmapgl\":[{\"type\":\"heatmapgl\",\"colorbar\":{\"outlinewidth\":0,\"ticks\":\"\"},\"colorscale\":[[0.0,\"#0d0887\"],[0.1111111111111111,\"#46039f\"],[0.2222222222222222,\"#7201a8\"],[0.3333333333333333,\"#9c179e\"],[0.4444444444444444,\"#bd3786\"],[0.5555555555555556,\"#d8576b\"],[0.6666666666666666,\"#ed7953\"],[0.7777777777777778,\"#fb9f3a\"],[0.8888888888888888,\"#fdca26\"],[1.0,\"#f0f921\"]]}],\"contourcarpet\":[{\"type\":\"contourcarpet\",\"colorbar\":{\"outlinewidth\":0,\"ticks\":\"\"}}],\"contour\":[{\"type\":\"contour\",\"colorbar\":{\"outlinewidth\":0,\"ticks\":\"\"},\"colorscale\":[[0.0,\"#0d0887\"],[0.1111111111111111,\"#46039f\"],[0.2222222222222222,\"#7201a8\"],[0.3333333333333333,\"#9c179e\"],[0.4444444444444444,\"#bd3786\"],[0.5555555555555556,\"#d8576b\"],[0.6666666666666666,\"#ed7953\"],[0.7777777777777778,\"#fb9f3a\"],[0.8888888888888888,\"#fdca26\"],[1.0,\"#f0f921\"]]}],\"surface\":[{\"type\":\"surface\",\"colorbar\":{\"outlinewidth\":0,\"ticks\":\"\"},\"colorscale\":[[0.0,\"#0d0887\"],[0.1111111111111111,\"#46039f\"],[0.2222222222222222,\"#7201a8\"],[0.3333333333333333,\"#9c179e\"],[0.4444444444444444,\"#bd3786\"],[0.5555555555555556,\"#d8576b\"],[0.6666666666666666,\"#ed7953\"],[0.7777777777777778,\"#fb9f3a\"],[0.8888888888888888,\"#fdca26\"],[1.0,\"#f0f921\"]]}],\"mesh3d\":[{\"type\":\"mesh3d\",\"colorbar\":{\"outlinewidth\":0,\"ticks\":\"\"}}],\"scatter\":[{\"fillpattern\":{\"fillmode\":\"overlay\",\"size\":10,\"solidity\":0.2},\"type\":\"scatter\"}],\"parcoords\":[{\"type\":\"parcoords\",\"line\":{\"colorbar\":{\"outlinewidth\":0,\"ticks\":\"\"}}}],\"scatterpolargl\":[{\"type\":\"scatterpolargl\",\"marker\":{\"colorbar\":{\"outlinewidth\":0,\"ticks\":\"\"}}}],\"bar\":[{\"error_x\":{\"color\":\"#2a3f5f\"},\"error_y\":{\"color\":\"#2a3f5f\"},\"marker\":{\"line\":{\"color\":\"#E5ECF6\",\"width\":0.5},\"pattern\":{\"fillmode\":\"overlay\",\"size\":10,\"solidity\":0.2}},\"type\":\"bar\"}],\"scattergeo\":[{\"type\":\"scattergeo\",\"marker\":{\"colorbar\":{\"outlinewidth\":0,\"ticks\":\"\"}}}],\"scatterpolar\":[{\"type\":\"scatterpolar\",\"marker\":{\"colorbar\":{\"outlinewidth\":0,\"ticks\":\"\"}}}],\"histogram\":[{\"marker\":{\"pattern\":{\"fillmode\":\"overlay\",\"size\":10,\"solidity\":0.2}},\"type\":\"histogram\"}],\"scattergl\":[{\"type\":\"scattergl\",\"marker\":{\"colorbar\":{\"outlinewidth\":0,\"ticks\":\"\"}}}],\"scatter3d\":[{\"type\":\"scatter3d\",\"line\":{\"colorbar\":{\"outlinewidth\":0,\"ticks\":\"\"}},\"marker\":{\"colorbar\":{\"outlinewidth\":0,\"ticks\":\"\"}}}],\"scattermapbox\":[{\"type\":\"scattermapbox\",\"marker\":{\"colorbar\":{\"outlinewidth\":0,\"ticks\":\"\"}}}],\"scatterternary\":[{\"type\":\"scatterternary\",\"marker\":{\"colorbar\":{\"outlinewidth\":0,\"ticks\":\"\"}}}],\"scattercarpet\":[{\"type\":\"scattercarpet\",\"marker\":{\"colorbar\":{\"outlinewidth\":0,\"ticks\":\"\"}}}],\"carpet\":[{\"aaxis\":{\"endlinecolor\":\"#2a3f5f\",\"gridcolor\":\"white\",\"linecolor\":\"white\",\"minorgridcolor\":\"white\",\"startlinecolor\":\"#2a3f5f\"},\"baxis\":{\"endlinecolor\":\"#2a3f5f\",\"gridcolor\":\"white\",\"linecolor\":\"white\",\"minorgridcolor\":\"white\",\"startlinecolor\":\"#2a3f5f\"},\"type\":\"carpet\"}],\"table\":[{\"cells\":{\"fill\":{\"color\":\"#EBF0F8\"},\"line\":{\"color\":\"white\"}},\"header\":{\"fill\":{\"color\":\"#C8D4E3\"},\"line\":{\"color\":\"white\"}},\"type\":\"table\"}],\"barpolar\":[{\"marker\":{\"line\":{\"color\":\"#E5ECF6\",\"width\":0.5},\"pattern\":{\"fillmode\":\"overlay\",\"size\":10,\"solidity\":0.2}},\"type\":\"barpolar\"}],\"pie\":[{\"automargin\":true,\"type\":\"pie\"}]},\"layout\":{\"autotypenumbers\":\"strict\",\"colorway\":[\"#636efa\",\"#EF553B\",\"#00cc96\",\"#ab63fa\",\"#FFA15A\",\"#19d3f3\",\"#FF6692\",\"#B6E880\",\"#FF97FF\",\"#FECB52\"],\"font\":{\"color\":\"#2a3f5f\"},\"hovermode\":\"closest\",\"hoverlabel\":{\"align\":\"left\"},\"paper_bgcolor\":\"white\",\"plot_bgcolor\":\"#E5ECF6\",\"polar\":{\"bgcolor\":\"#E5ECF6\",\"angularaxis\":{\"gridcolor\":\"white\",\"linecolor\":\"white\",\"ticks\":\"\"},\"radialaxis\":{\"gridcolor\":\"white\",\"linecolor\":\"white\",\"ticks\":\"\"}},\"ternary\":{\"bgcolor\":\"#E5ECF6\",\"aaxis\":{\"gridcolor\":\"white\",\"linecolor\":\"white\",\"ticks\":\"\"},\"baxis\":{\"gridcolor\":\"white\",\"linecolor\":\"white\",\"ticks\":\"\"},\"caxis\":{\"gridcolor\":\"white\",\"linecolor\":\"white\",\"ticks\":\"\"}},\"coloraxis\":{\"colorbar\":{\"outlinewidth\":0,\"ticks\":\"\"}},\"colorscale\":{\"sequential\":[[0.0,\"#0d0887\"],[0.1111111111111111,\"#46039f\"],[0.2222222222222222,\"#7201a8\"],[0.3333333333333333,\"#9c179e\"],[0.4444444444444444,\"#bd3786\"],[0.5555555555555556,\"#d8576b\"],[0.6666666666666666,\"#ed7953\"],[0.7777777777777778,\"#fb9f3a\"],[0.8888888888888888,\"#fdca26\"],[1.0,\"#f0f921\"]],\"sequentialminus\":[[0.0,\"#0d0887\"],[0.1111111111111111,\"#46039f\"],[0.2222222222222222,\"#7201a8\"],[0.3333333333333333,\"#9c179e\"],[0.4444444444444444,\"#bd3786\"],[0.5555555555555556,\"#d8576b\"],[0.6666666666666666,\"#ed7953\"],[0.7777777777777778,\"#fb9f3a\"],[0.8888888888888888,\"#fdca26\"],[1.0,\"#f0f921\"]],\"diverging\":[[0,\"#8e0152\"],[0.1,\"#c51b7d\"],[0.2,\"#de77ae\"],[0.3,\"#f1b6da\"],[0.4,\"#fde0ef\"],[0.5,\"#f7f7f7\"],[0.6,\"#e6f5d0\"],[0.7,\"#b8e186\"],[0.8,\"#7fbc41\"],[0.9,\"#4d9221\"],[1,\"#276419\"]]},\"xaxis\":{\"gridcolor\":\"white\",\"linecolor\":\"white\",\"ticks\":\"\",\"title\":{\"standoff\":15},\"zerolinecolor\":\"white\",\"automargin\":true,\"zerolinewidth\":2},\"yaxis\":{\"gridcolor\":\"white\",\"linecolor\":\"white\",\"ticks\":\"\",\"title\":{\"standoff\":15},\"zerolinecolor\":\"white\",\"automargin\":true,\"zerolinewidth\":2},\"scene\":{\"xaxis\":{\"backgroundcolor\":\"#E5ECF6\",\"gridcolor\":\"white\",\"linecolor\":\"white\",\"showbackground\":true,\"ticks\":\"\",\"zerolinecolor\":\"white\",\"gridwidth\":2},\"yaxis\":{\"backgroundcolor\":\"#E5ECF6\",\"gridcolor\":\"white\",\"linecolor\":\"white\",\"showbackground\":true,\"ticks\":\"\",\"zerolinecolor\":\"white\",\"gridwidth\":2},\"zaxis\":{\"backgroundcolor\":\"#E5ECF6\",\"gridcolor\":\"white\",\"linecolor\":\"white\",\"showbackground\":true,\"ticks\":\"\",\"zerolinecolor\":\"white\",\"gridwidth\":2}},\"shapedefaults\":{\"line\":{\"color\":\"#2a3f5f\"}},\"annotationdefaults\":{\"arrowcolor\":\"#2a3f5f\",\"arrowhead\":0,\"arrowwidth\":1},\"geo\":{\"bgcolor\":\"white\",\"landcolor\":\"#E5ECF6\",\"subunitcolor\":\"white\",\"showland\":true,\"showlakes\":true,\"lakecolor\":\"white\"},\"title\":{\"x\":0.05},\"mapbox\":{\"style\":\"light\"}}},\"xaxis\":{\"anchor\":\"y\",\"domain\":[0.0,1.0],\"title\":{\"text\":\"result\"},\"range\":[0.7,1.0]},\"yaxis\":{\"anchor\":\"x\",\"domain\":[0.0,1.0],\"title\":{\"text\":\"model\"},\"categoryorder\":\"array\",\"categoryarray\":[\"logit\",\"tree\",\"rf\",\"xgb\"]},\"legend\":{\"title\":{\"text\":\"model\"},\"tracegroupgap\":0},\"margin\":{\"t\":60},\"barmode\":\"relative\"},                        {\"responsive\": true}                    ).then(function(){\n",
       "                            \n",
       "var gd = document.getElementById('bf1e2d4a-df61-4ce7-abec-9f1798f9009c');\n",
       "var x = new MutationObserver(function (mutations, observer) {{\n",
       "        var display = window.getComputedStyle(gd).display;\n",
       "        if (!display || display === 'none') {{\n",
       "            console.log([gd, 'removed!']);\n",
       "            Plotly.purge(gd);\n",
       "            observer.disconnect();\n",
       "        }}\n",
       "}});\n",
       "\n",
       "// Listen for the removal of the full notebook cells\n",
       "var notebookContainer = gd.closest('#notebook-container');\n",
       "if (notebookContainer) {{\n",
       "    x.observe(notebookContainer, {childList: true});\n",
       "}}\n",
       "\n",
       "// Listen for the clearing of the current output cell\n",
       "var outputEl = gd.closest('.output');\n",
       "if (outputEl) {{\n",
       "    x.observe(outputEl, {childList: true});\n",
       "}}\n",
       "\n",
       "                        })                };                });            </script>        </div>"
      ]
     },
     "metadata": {},
     "output_type": "display_data"
    }
   ],
   "source": [
    "result = [tree.cv_m, logit.cv_m, rf.cv_m,  xgb.cv_m]\n",
    "model = [\"tree\",\"logit\", \"rf\", \"xgb\"]\n",
    "\n",
    "fig = pd.DataFrame({\"model\" : model, \"result\" : result}).\\\n",
    "            sort_values(\"result\", ascending = False).plot(x = \"result\", y = \"model\", kind = \"bar\", backend = \"plotly\",color = \"model\")\n",
    "\n",
    "fig.update_xaxes(range = [0.7, 1.0])"
   ]
  },
  {
   "cell_type": "markdown",
   "id": "ce033eb2",
   "metadata": {},
   "source": [
    "`-`  cv를 기준으로 XGB 모델이 최적의 모델인 것 같다."
   ]
  },
  {
   "cell_type": "markdown",
   "id": "938f6eb6",
   "metadata": {},
   "source": [
    "* grid search기법을 이용하여 모델 튜닝"
   ]
  },
  {
   "cell_type": "code",
   "execution_count": 71,
   "id": "1abd6572",
   "metadata": {},
   "outputs": [],
   "source": [
    "from sklearn.model_selection import GridSearchCV\n",
    "model = XGBClassifier(max_depth= 5, random_state = 1)\n",
    "\n",
    "params=  {\"max_depth\" : range(1,21)}\n",
    "\n",
    "model = GridSearchCV(model,\n",
    "                     params,\n",
    "                     cv=5,\n",
    "                     scoring=\"accuracy\")"
   ]
  },
  {
   "cell_type": "code",
   "execution_count": 72,
   "id": "4d5ccb87",
   "metadata": {},
   "outputs": [
    {
     "data": {
      "text/html": [
       "<style>#sk-container-id-2 {color: black;background-color: white;}#sk-container-id-2 pre{padding: 0;}#sk-container-id-2 div.sk-toggleable {background-color: white;}#sk-container-id-2 label.sk-toggleable__label {cursor: pointer;display: block;width: 100%;margin-bottom: 0;padding: 0.3em;box-sizing: border-box;text-align: center;}#sk-container-id-2 label.sk-toggleable__label-arrow:before {content: \"▸\";float: left;margin-right: 0.25em;color: #696969;}#sk-container-id-2 label.sk-toggleable__label-arrow:hover:before {color: black;}#sk-container-id-2 div.sk-estimator:hover label.sk-toggleable__label-arrow:before {color: black;}#sk-container-id-2 div.sk-toggleable__content {max-height: 0;max-width: 0;overflow: hidden;text-align: left;background-color: #f0f8ff;}#sk-container-id-2 div.sk-toggleable__content pre {margin: 0.2em;color: black;border-radius: 0.25em;background-color: #f0f8ff;}#sk-container-id-2 input.sk-toggleable__control:checked~div.sk-toggleable__content {max-height: 200px;max-width: 100%;overflow: auto;}#sk-container-id-2 input.sk-toggleable__control:checked~label.sk-toggleable__label-arrow:before {content: \"▾\";}#sk-container-id-2 div.sk-estimator input.sk-toggleable__control:checked~label.sk-toggleable__label {background-color: #d4ebff;}#sk-container-id-2 div.sk-label input.sk-toggleable__control:checked~label.sk-toggleable__label {background-color: #d4ebff;}#sk-container-id-2 input.sk-hidden--visually {border: 0;clip: rect(1px 1px 1px 1px);clip: rect(1px, 1px, 1px, 1px);height: 1px;margin: -1px;overflow: hidden;padding: 0;position: absolute;width: 1px;}#sk-container-id-2 div.sk-estimator {font-family: monospace;background-color: #f0f8ff;border: 1px dotted black;border-radius: 0.25em;box-sizing: border-box;margin-bottom: 0.5em;}#sk-container-id-2 div.sk-estimator:hover {background-color: #d4ebff;}#sk-container-id-2 div.sk-parallel-item::after {content: \"\";width: 100%;border-bottom: 1px solid gray;flex-grow: 1;}#sk-container-id-2 div.sk-label:hover label.sk-toggleable__label {background-color: #d4ebff;}#sk-container-id-2 div.sk-serial::before {content: \"\";position: absolute;border-left: 1px solid gray;box-sizing: border-box;top: 0;bottom: 0;left: 50%;z-index: 0;}#sk-container-id-2 div.sk-serial {display: flex;flex-direction: column;align-items: center;background-color: white;padding-right: 0.2em;padding-left: 0.2em;position: relative;}#sk-container-id-2 div.sk-item {position: relative;z-index: 1;}#sk-container-id-2 div.sk-parallel {display: flex;align-items: stretch;justify-content: center;background-color: white;position: relative;}#sk-container-id-2 div.sk-item::before, #sk-container-id-2 div.sk-parallel-item::before {content: \"\";position: absolute;border-left: 1px solid gray;box-sizing: border-box;top: 0;bottom: 0;left: 50%;z-index: -1;}#sk-container-id-2 div.sk-parallel-item {display: flex;flex-direction: column;z-index: 1;position: relative;background-color: white;}#sk-container-id-2 div.sk-parallel-item:first-child::after {align-self: flex-end;width: 50%;}#sk-container-id-2 div.sk-parallel-item:last-child::after {align-self: flex-start;width: 50%;}#sk-container-id-2 div.sk-parallel-item:only-child::after {width: 0;}#sk-container-id-2 div.sk-dashed-wrapped {border: 1px dashed gray;margin: 0 0.4em 0.5em 0.4em;box-sizing: border-box;padding-bottom: 0.4em;background-color: white;}#sk-container-id-2 div.sk-label label {font-family: monospace;font-weight: bold;display: inline-block;line-height: 1.2em;}#sk-container-id-2 div.sk-label-container {text-align: center;}#sk-container-id-2 div.sk-container {/* jupyter's `normalize.less` sets `[hidden] { display: none; }` but bootstrap.min.css set `[hidden] { display: none !important; }` so we also need the `!important` here to be able to override the default hidden behavior on the sphinx rendered scikit-learn.org. See: https://github.com/scikit-learn/scikit-learn/issues/21755 */display: inline-block !important;position: relative;}#sk-container-id-2 div.sk-text-repr-fallback {display: none;}</style><div id=\"sk-container-id-2\" class=\"sk-top-container\"><div class=\"sk-text-repr-fallback\"><pre>GridSearchCV(cv=5,\n",
       "             estimator=XGBClassifier(base_score=None, booster=None,\n",
       "                                     callbacks=None, colsample_bylevel=None,\n",
       "                                     colsample_bynode=None,\n",
       "                                     colsample_bytree=None, device=None,\n",
       "                                     early_stopping_rounds=None,\n",
       "                                     enable_categorical=False, eval_metric=None,\n",
       "                                     feature_types=None, gamma=None,\n",
       "                                     grow_policy=None, importance_type=None,\n",
       "                                     interaction_constraints=None,\n",
       "                                     learning_rate=None, max_bin=None,\n",
       "                                     max_cat_threshold=None,\n",
       "                                     max_cat_to_onehot=None,\n",
       "                                     max_delta_step=None, max_depth=5,\n",
       "                                     max_leaves=None, min_child_weight=None,\n",
       "                                     missing=nan, monotone_constraints=None,\n",
       "                                     multi_strategy=None, n_estimators=None,\n",
       "                                     n_jobs=None, num_parallel_tree=None,\n",
       "                                     random_state=1, ...),\n",
       "             param_grid={&#x27;max_depth&#x27;: range(1, 21)}, scoring=&#x27;accuracy&#x27;)</pre><b>In a Jupyter environment, please rerun this cell to show the HTML representation or trust the notebook. <br />On GitHub, the HTML representation is unable to render, please try loading this page with nbviewer.org.</b></div><div class=\"sk-container\" hidden><div class=\"sk-item sk-dashed-wrapped\"><div class=\"sk-label-container\"><div class=\"sk-label sk-toggleable\"><input class=\"sk-toggleable__control sk-hidden--visually\" id=\"sk-estimator-id-4\" type=\"checkbox\" ><label for=\"sk-estimator-id-4\" class=\"sk-toggleable__label sk-toggleable__label-arrow\">GridSearchCV</label><div class=\"sk-toggleable__content\"><pre>GridSearchCV(cv=5,\n",
       "             estimator=XGBClassifier(base_score=None, booster=None,\n",
       "                                     callbacks=None, colsample_bylevel=None,\n",
       "                                     colsample_bynode=None,\n",
       "                                     colsample_bytree=None, device=None,\n",
       "                                     early_stopping_rounds=None,\n",
       "                                     enable_categorical=False, eval_metric=None,\n",
       "                                     feature_types=None, gamma=None,\n",
       "                                     grow_policy=None, importance_type=None,\n",
       "                                     interaction_constraints=None,\n",
       "                                     learning_rate=None, max_bin=None,\n",
       "                                     max_cat_threshold=None,\n",
       "                                     max_cat_to_onehot=None,\n",
       "                                     max_delta_step=None, max_depth=5,\n",
       "                                     max_leaves=None, min_child_weight=None,\n",
       "                                     missing=nan, monotone_constraints=None,\n",
       "                                     multi_strategy=None, n_estimators=None,\n",
       "                                     n_jobs=None, num_parallel_tree=None,\n",
       "                                     random_state=1, ...),\n",
       "             param_grid={&#x27;max_depth&#x27;: range(1, 21)}, scoring=&#x27;accuracy&#x27;)</pre></div></div></div><div class=\"sk-parallel\"><div class=\"sk-parallel-item\"><div class=\"sk-item\"><div class=\"sk-label-container\"><div class=\"sk-label sk-toggleable\"><input class=\"sk-toggleable__control sk-hidden--visually\" id=\"sk-estimator-id-5\" type=\"checkbox\" ><label for=\"sk-estimator-id-5\" class=\"sk-toggleable__label sk-toggleable__label-arrow\">estimator: XGBClassifier</label><div class=\"sk-toggleable__content\"><pre>XGBClassifier(base_score=None, booster=None, callbacks=None,\n",
       "              colsample_bylevel=None, colsample_bynode=None,\n",
       "              colsample_bytree=None, device=None, early_stopping_rounds=None,\n",
       "              enable_categorical=False, eval_metric=None, feature_types=None,\n",
       "              gamma=None, grow_policy=None, importance_type=None,\n",
       "              interaction_constraints=None, learning_rate=None, max_bin=None,\n",
       "              max_cat_threshold=None, max_cat_to_onehot=None,\n",
       "              max_delta_step=None, max_depth=5, max_leaves=None,\n",
       "              min_child_weight=None, missing=nan, monotone_constraints=None,\n",
       "              multi_strategy=None, n_estimators=None, n_jobs=None,\n",
       "              num_parallel_tree=None, random_state=1, ...)</pre></div></div></div><div class=\"sk-serial\"><div class=\"sk-item\"><div class=\"sk-estimator sk-toggleable\"><input class=\"sk-toggleable__control sk-hidden--visually\" id=\"sk-estimator-id-6\" type=\"checkbox\" ><label for=\"sk-estimator-id-6\" class=\"sk-toggleable__label sk-toggleable__label-arrow\">XGBClassifier</label><div class=\"sk-toggleable__content\"><pre>XGBClassifier(base_score=None, booster=None, callbacks=None,\n",
       "              colsample_bylevel=None, colsample_bynode=None,\n",
       "              colsample_bytree=None, device=None, early_stopping_rounds=None,\n",
       "              enable_categorical=False, eval_metric=None, feature_types=None,\n",
       "              gamma=None, grow_policy=None, importance_type=None,\n",
       "              interaction_constraints=None, learning_rate=None, max_bin=None,\n",
       "              max_cat_threshold=None, max_cat_to_onehot=None,\n",
       "              max_delta_step=None, max_depth=5, max_leaves=None,\n",
       "              min_child_weight=None, missing=nan, monotone_constraints=None,\n",
       "              multi_strategy=None, n_estimators=None, n_jobs=None,\n",
       "              num_parallel_tree=None, random_state=1, ...)</pre></div></div></div></div></div></div></div></div></div></div>"
      ],
      "text/plain": [
       "GridSearchCV(cv=5,\n",
       "             estimator=XGBClassifier(base_score=None, booster=None,\n",
       "                                     callbacks=None, colsample_bylevel=None,\n",
       "                                     colsample_bynode=None,\n",
       "                                     colsample_bytree=None, device=None,\n",
       "                                     early_stopping_rounds=None,\n",
       "                                     enable_categorical=False, eval_metric=None,\n",
       "                                     feature_types=None, gamma=None,\n",
       "                                     grow_policy=None, importance_type=None,\n",
       "                                     interaction_constraints=None,\n",
       "                                     learning_rate=None, max_bin=None,\n",
       "                                     max_cat_threshold=None,\n",
       "                                     max_cat_to_onehot=None,\n",
       "                                     max_delta_step=None, max_depth=5,\n",
       "                                     max_leaves=None, min_child_weight=None,\n",
       "                                     missing=nan, monotone_constraints=None,\n",
       "                                     multi_strategy=None, n_estimators=None,\n",
       "                                     n_jobs=None, num_parallel_tree=None,\n",
       "                                     random_state=1, ...),\n",
       "             param_grid={'max_depth': range(1, 21)}, scoring='accuracy')"
      ]
     },
     "execution_count": 72,
     "metadata": {},
     "output_type": "execute_result"
    }
   ],
   "source": [
    "model.fit(x_train, y_train)"
   ]
  },
  {
   "cell_type": "code",
   "execution_count": 73,
   "id": "96662184",
   "metadata": {},
   "outputs": [],
   "source": [
    "y_pred = model.predict(x_test)"
   ]
  },
  {
   "cell_type": "code",
   "execution_count": 74,
   "id": "57ff4b38",
   "metadata": {},
   "outputs": [
    {
     "name": "stdout",
     "output_type": "stream",
     "text": [
      "{'max_depth': 3}\n",
      "0.9363202277283789\n"
     ]
    }
   ],
   "source": [
    "# 예측 결과 확인\n",
    "print(model.best_params_)\n",
    "print(model.best_score_)"
   ]
  },
  {
   "cell_type": "code",
   "execution_count": 75,
   "id": "f0879cd2",
   "metadata": {},
   "outputs": [
    {
     "data": {
      "application/vnd.plotly.v1+json": {
       "config": {
        "plotlyServerURL": "https://plot.ly"
       },
       "data": [
        {
         "alignmentgroup": "True",
         "hovertemplate": "feature=%{y}<br>importance=%{x}<extra></extra>",
         "legendgroup": "online_boarding",
         "marker": {
          "color": "#636efa",
          "pattern": {
           "shape": ""
          }
         },
         "name": "online_boarding",
         "offsetgroup": "online_boarding",
         "orientation": "h",
         "showlegend": true,
         "textposition": "auto",
         "type": "bar",
         "x": [
          0.22564299404621124
         ],
         "xaxis": "x",
         "y": [
          "online_boarding"
         ],
         "yaxis": "y"
        },
        {
         "alignmentgroup": "True",
         "hovertemplate": "feature=%{y}<br>importance=%{x}<extra></extra>",
         "legendgroup": "type_of_travel_Personal Travel",
         "marker": {
          "color": "#EF553B",
          "pattern": {
           "shape": ""
          }
         },
         "name": "type_of_travel_Personal Travel",
         "offsetgroup": "type_of_travel_Personal Travel",
         "orientation": "h",
         "showlegend": true,
         "textposition": "auto",
         "type": "bar",
         "x": [
          0.15922212600708008
         ],
         "xaxis": "x",
         "y": [
          "type_of_travel_Personal Travel"
         ],
         "yaxis": "y"
        },
        {
         "alignmentgroup": "True",
         "hovertemplate": "feature=%{y}<br>importance=%{x}<extra></extra>",
         "legendgroup": "class_Eco",
         "marker": {
          "color": "#00cc96",
          "pattern": {
           "shape": ""
          }
         },
         "name": "class_Eco",
         "offsetgroup": "class_Eco",
         "orientation": "h",
         "showlegend": true,
         "textposition": "auto",
         "type": "bar",
         "x": [
          0.13337698578834534
         ],
         "xaxis": "x",
         "y": [
          "class_Eco"
         ],
         "yaxis": "y"
        },
        {
         "alignmentgroup": "True",
         "hovertemplate": "feature=%{y}<br>importance=%{x}<extra></extra>",
         "legendgroup": "inflight_wifi_service",
         "marker": {
          "color": "#ab63fa",
          "pattern": {
           "shape": ""
          }
         },
         "name": "inflight_wifi_service",
         "offsetgroup": "inflight_wifi_service",
         "orientation": "h",
         "showlegend": true,
         "textposition": "auto",
         "type": "bar",
         "x": [
          0.07475382834672928
         ],
         "xaxis": "x",
         "y": [
          "inflight_wifi_service"
         ],
         "yaxis": "y"
        },
        {
         "alignmentgroup": "True",
         "hovertemplate": "feature=%{y}<br>importance=%{x}<extra></extra>",
         "legendgroup": "customer_type_disloyal Customer",
         "marker": {
          "color": "#FFA15A",
          "pattern": {
           "shape": ""
          }
         },
         "name": "customer_type_disloyal Customer",
         "offsetgroup": "customer_type_disloyal Customer",
         "orientation": "h",
         "showlegend": true,
         "textposition": "auto",
         "type": "bar",
         "x": [
          0.0741087794303894
         ],
         "xaxis": "x",
         "y": [
          "customer_type_disloyal Customer"
         ],
         "yaxis": "y"
        },
        {
         "alignmentgroup": "True",
         "hovertemplate": "feature=%{y}<br>importance=%{x}<extra></extra>",
         "legendgroup": "inflight_entertainment",
         "marker": {
          "color": "#19d3f3",
          "pattern": {
           "shape": ""
          }
         },
         "name": "inflight_entertainment",
         "offsetgroup": "inflight_entertainment",
         "orientation": "h",
         "showlegend": true,
         "textposition": "auto",
         "type": "bar",
         "x": [
          0.055811457335948944
         ],
         "xaxis": "x",
         "y": [
          "inflight_entertainment"
         ],
         "yaxis": "y"
        },
        {
         "alignmentgroup": "True",
         "hovertemplate": "feature=%{y}<br>importance=%{x}<extra></extra>",
         "legendgroup": "on-board_service",
         "marker": {
          "color": "#FF6692",
          "pattern": {
           "shape": ""
          }
         },
         "name": "on-board_service",
         "offsetgroup": "on-board_service",
         "orientation": "h",
         "showlegend": true,
         "textposition": "auto",
         "type": "bar",
         "x": [
          0.041111283004283905
         ],
         "xaxis": "x",
         "y": [
          "on-board_service"
         ],
         "yaxis": "y"
        },
        {
         "alignmentgroup": "True",
         "hovertemplate": "feature=%{y}<br>importance=%{x}<extra></extra>",
         "legendgroup": "baggage_handling",
         "marker": {
          "color": "#B6E880",
          "pattern": {
           "shape": ""
          }
         },
         "name": "baggage_handling",
         "offsetgroup": "baggage_handling",
         "orientation": "h",
         "showlegend": true,
         "textposition": "auto",
         "type": "bar",
         "x": [
          0.040066227316856384
         ],
         "xaxis": "x",
         "y": [
          "baggage_handling"
         ],
         "yaxis": "y"
        },
        {
         "alignmentgroup": "True",
         "hovertemplate": "feature=%{y}<br>importance=%{x}<extra></extra>",
         "legendgroup": "leg_room_service",
         "marker": {
          "color": "#FF97FF",
          "pattern": {
           "shape": ""
          }
         },
         "name": "leg_room_service",
         "offsetgroup": "leg_room_service",
         "orientation": "h",
         "showlegend": true,
         "textposition": "auto",
         "type": "bar",
         "x": [
          0.03848354518413544
         ],
         "xaxis": "x",
         "y": [
          "leg_room_service"
         ],
         "yaxis": "y"
        },
        {
         "alignmentgroup": "True",
         "hovertemplate": "feature=%{y}<br>importance=%{x}<extra></extra>",
         "legendgroup": "checkin_service",
         "marker": {
          "color": "#FECB52",
          "pattern": {
           "shape": ""
          }
         },
         "name": "checkin_service",
         "offsetgroup": "checkin_service",
         "orientation": "h",
         "showlegend": true,
         "textposition": "auto",
         "type": "bar",
         "x": [
          0.03633427619934082
         ],
         "xaxis": "x",
         "y": [
          "checkin_service"
         ],
         "yaxis": "y"
        },
        {
         "alignmentgroup": "True",
         "hovertemplate": "feature=%{y}<br>importance=%{x}<extra></extra>",
         "legendgroup": "seat_comfort",
         "marker": {
          "color": "#636efa",
          "pattern": {
           "shape": ""
          }
         },
         "name": "seat_comfort",
         "offsetgroup": "seat_comfort",
         "orientation": "h",
         "showlegend": true,
         "textposition": "auto",
         "type": "bar",
         "x": [
          0.02717609517276287
         ],
         "xaxis": "x",
         "y": [
          "seat_comfort"
         ],
         "yaxis": "y"
        },
        {
         "alignmentgroup": "True",
         "hovertemplate": "feature=%{y}<br>importance=%{x}<extra></extra>",
         "legendgroup": "cleanliness",
         "marker": {
          "color": "#EF553B",
          "pattern": {
           "shape": ""
          }
         },
         "name": "cleanliness",
         "offsetgroup": "cleanliness",
         "orientation": "h",
         "showlegend": true,
         "textposition": "auto",
         "type": "bar",
         "x": [
          0.018183153122663498
         ],
         "xaxis": "x",
         "y": [
          "cleanliness"
         ],
         "yaxis": "y"
        },
        {
         "alignmentgroup": "True",
         "hovertemplate": "feature=%{y}<br>importance=%{x}<extra></extra>",
         "legendgroup": "inflight_service",
         "marker": {
          "color": "#00cc96",
          "pattern": {
           "shape": ""
          }
         },
         "name": "inflight_service",
         "offsetgroup": "inflight_service",
         "orientation": "h",
         "showlegend": true,
         "textposition": "auto",
         "type": "bar",
         "x": [
          0.014780553057789803
         ],
         "xaxis": "x",
         "y": [
          "inflight_service"
         ],
         "yaxis": "y"
        },
        {
         "alignmentgroup": "True",
         "hovertemplate": "feature=%{y}<br>importance=%{x}<extra></extra>",
         "legendgroup": "arrival_delay_in_minutes",
         "marker": {
          "color": "#ab63fa",
          "pattern": {
           "shape": ""
          }
         },
         "name": "arrival_delay_in_minutes",
         "offsetgroup": "arrival_delay_in_minutes",
         "orientation": "h",
         "showlegend": true,
         "textposition": "auto",
         "type": "bar",
         "x": [
          0.013551350682973862
         ],
         "xaxis": "x",
         "y": [
          "arrival_delay_in_minutes"
         ],
         "yaxis": "y"
        },
        {
         "alignmentgroup": "True",
         "hovertemplate": "feature=%{y}<br>importance=%{x}<extra></extra>",
         "legendgroup": "flight_distance",
         "marker": {
          "color": "#FFA15A",
          "pattern": {
           "shape": ""
          }
         },
         "name": "flight_distance",
         "offsetgroup": "flight_distance",
         "orientation": "h",
         "showlegend": true,
         "textposition": "auto",
         "type": "bar",
         "x": [
          0.011597882024943829
         ],
         "xaxis": "x",
         "y": [
          "flight_distance"
         ],
         "yaxis": "y"
        },
        {
         "alignmentgroup": "True",
         "hovertemplate": "feature=%{y}<br>importance=%{x}<extra></extra>",
         "legendgroup": "age",
         "marker": {
          "color": "#19d3f3",
          "pattern": {
           "shape": ""
          }
         },
         "name": "age",
         "offsetgroup": "age",
         "orientation": "h",
         "showlegend": true,
         "textposition": "auto",
         "type": "bar",
         "x": [
          0.011377164162695408
         ],
         "xaxis": "x",
         "y": [
          "age"
         ],
         "yaxis": "y"
        },
        {
         "alignmentgroup": "True",
         "hovertemplate": "feature=%{y}<br>importance=%{x}<extra></extra>",
         "legendgroup": "ease_of_online_booking",
         "marker": {
          "color": "#FF6692",
          "pattern": {
           "shape": ""
          }
         },
         "name": "ease_of_online_booking",
         "offsetgroup": "ease_of_online_booking",
         "orientation": "h",
         "showlegend": true,
         "textposition": "auto",
         "type": "bar",
         "x": [
          0.007220280822366476
         ],
         "xaxis": "x",
         "y": [
          "ease_of_online_booking"
         ],
         "yaxis": "y"
        },
        {
         "alignmentgroup": "True",
         "hovertemplate": "feature=%{y}<br>importance=%{x}<extra></extra>",
         "legendgroup": "gender_Male",
         "marker": {
          "color": "#B6E880",
          "pattern": {
           "shape": ""
          }
         },
         "name": "gender_Male",
         "offsetgroup": "gender_Male",
         "orientation": "h",
         "showlegend": true,
         "textposition": "auto",
         "type": "bar",
         "x": [
          0.006526453886181116
         ],
         "xaxis": "x",
         "y": [
          "gender_Male"
         ],
         "yaxis": "y"
        },
        {
         "alignmentgroup": "True",
         "hovertemplate": "feature=%{y}<br>importance=%{x}<extra></extra>",
         "legendgroup": "food_and_drink",
         "marker": {
          "color": "#FF97FF",
          "pattern": {
           "shape": ""
          }
         },
         "name": "food_and_drink",
         "offsetgroup": "food_and_drink",
         "orientation": "h",
         "showlegend": true,
         "textposition": "auto",
         "type": "bar",
         "x": [
          0.005737321451306343
         ],
         "xaxis": "x",
         "y": [
          "food_and_drink"
         ],
         "yaxis": "y"
        },
        {
         "alignmentgroup": "True",
         "hovertemplate": "feature=%{y}<br>importance=%{x}<extra></extra>",
         "legendgroup": "class_Eco Plus",
         "marker": {
          "color": "#FECB52",
          "pattern": {
           "shape": ""
          }
         },
         "name": "class_Eco Plus",
         "offsetgroup": "class_Eco Plus",
         "orientation": "h",
         "showlegend": true,
         "textposition": "auto",
         "type": "bar",
         "x": [
          0.00493836821988225
         ],
         "xaxis": "x",
         "y": [
          "class_Eco Plus"
         ],
         "yaxis": "y"
        }
       ],
       "layout": {
        "barmode": "relative",
        "legend": {
         "title": {
          "text": "feature"
         },
         "tracegroupgap": 0
        },
        "margin": {
         "t": 60
        },
        "showlegend": false,
        "template": {
         "data": {
          "bar": [
           {
            "error_x": {
             "color": "#2a3f5f"
            },
            "error_y": {
             "color": "#2a3f5f"
            },
            "marker": {
             "line": {
              "color": "#E5ECF6",
              "width": 0.5
             },
             "pattern": {
              "fillmode": "overlay",
              "size": 10,
              "solidity": 0.2
             }
            },
            "type": "bar"
           }
          ],
          "barpolar": [
           {
            "marker": {
             "line": {
              "color": "#E5ECF6",
              "width": 0.5
             },
             "pattern": {
              "fillmode": "overlay",
              "size": 10,
              "solidity": 0.2
             }
            },
            "type": "barpolar"
           }
          ],
          "carpet": [
           {
            "aaxis": {
             "endlinecolor": "#2a3f5f",
             "gridcolor": "white",
             "linecolor": "white",
             "minorgridcolor": "white",
             "startlinecolor": "#2a3f5f"
            },
            "baxis": {
             "endlinecolor": "#2a3f5f",
             "gridcolor": "white",
             "linecolor": "white",
             "minorgridcolor": "white",
             "startlinecolor": "#2a3f5f"
            },
            "type": "carpet"
           }
          ],
          "choropleth": [
           {
            "colorbar": {
             "outlinewidth": 0,
             "ticks": ""
            },
            "type": "choropleth"
           }
          ],
          "contour": [
           {
            "colorbar": {
             "outlinewidth": 0,
             "ticks": ""
            },
            "colorscale": [
             [
              0,
              "#0d0887"
             ],
             [
              0.1111111111111111,
              "#46039f"
             ],
             [
              0.2222222222222222,
              "#7201a8"
             ],
             [
              0.3333333333333333,
              "#9c179e"
             ],
             [
              0.4444444444444444,
              "#bd3786"
             ],
             [
              0.5555555555555556,
              "#d8576b"
             ],
             [
              0.6666666666666666,
              "#ed7953"
             ],
             [
              0.7777777777777778,
              "#fb9f3a"
             ],
             [
              0.8888888888888888,
              "#fdca26"
             ],
             [
              1,
              "#f0f921"
             ]
            ],
            "type": "contour"
           }
          ],
          "contourcarpet": [
           {
            "colorbar": {
             "outlinewidth": 0,
             "ticks": ""
            },
            "type": "contourcarpet"
           }
          ],
          "heatmap": [
           {
            "colorbar": {
             "outlinewidth": 0,
             "ticks": ""
            },
            "colorscale": [
             [
              0,
              "#0d0887"
             ],
             [
              0.1111111111111111,
              "#46039f"
             ],
             [
              0.2222222222222222,
              "#7201a8"
             ],
             [
              0.3333333333333333,
              "#9c179e"
             ],
             [
              0.4444444444444444,
              "#bd3786"
             ],
             [
              0.5555555555555556,
              "#d8576b"
             ],
             [
              0.6666666666666666,
              "#ed7953"
             ],
             [
              0.7777777777777778,
              "#fb9f3a"
             ],
             [
              0.8888888888888888,
              "#fdca26"
             ],
             [
              1,
              "#f0f921"
             ]
            ],
            "type": "heatmap"
           }
          ],
          "heatmapgl": [
           {
            "colorbar": {
             "outlinewidth": 0,
             "ticks": ""
            },
            "colorscale": [
             [
              0,
              "#0d0887"
             ],
             [
              0.1111111111111111,
              "#46039f"
             ],
             [
              0.2222222222222222,
              "#7201a8"
             ],
             [
              0.3333333333333333,
              "#9c179e"
             ],
             [
              0.4444444444444444,
              "#bd3786"
             ],
             [
              0.5555555555555556,
              "#d8576b"
             ],
             [
              0.6666666666666666,
              "#ed7953"
             ],
             [
              0.7777777777777778,
              "#fb9f3a"
             ],
             [
              0.8888888888888888,
              "#fdca26"
             ],
             [
              1,
              "#f0f921"
             ]
            ],
            "type": "heatmapgl"
           }
          ],
          "histogram": [
           {
            "marker": {
             "pattern": {
              "fillmode": "overlay",
              "size": 10,
              "solidity": 0.2
             }
            },
            "type": "histogram"
           }
          ],
          "histogram2d": [
           {
            "colorbar": {
             "outlinewidth": 0,
             "ticks": ""
            },
            "colorscale": [
             [
              0,
              "#0d0887"
             ],
             [
              0.1111111111111111,
              "#46039f"
             ],
             [
              0.2222222222222222,
              "#7201a8"
             ],
             [
              0.3333333333333333,
              "#9c179e"
             ],
             [
              0.4444444444444444,
              "#bd3786"
             ],
             [
              0.5555555555555556,
              "#d8576b"
             ],
             [
              0.6666666666666666,
              "#ed7953"
             ],
             [
              0.7777777777777778,
              "#fb9f3a"
             ],
             [
              0.8888888888888888,
              "#fdca26"
             ],
             [
              1,
              "#f0f921"
             ]
            ],
            "type": "histogram2d"
           }
          ],
          "histogram2dcontour": [
           {
            "colorbar": {
             "outlinewidth": 0,
             "ticks": ""
            },
            "colorscale": [
             [
              0,
              "#0d0887"
             ],
             [
              0.1111111111111111,
              "#46039f"
             ],
             [
              0.2222222222222222,
              "#7201a8"
             ],
             [
              0.3333333333333333,
              "#9c179e"
             ],
             [
              0.4444444444444444,
              "#bd3786"
             ],
             [
              0.5555555555555556,
              "#d8576b"
             ],
             [
              0.6666666666666666,
              "#ed7953"
             ],
             [
              0.7777777777777778,
              "#fb9f3a"
             ],
             [
              0.8888888888888888,
              "#fdca26"
             ],
             [
              1,
              "#f0f921"
             ]
            ],
            "type": "histogram2dcontour"
           }
          ],
          "mesh3d": [
           {
            "colorbar": {
             "outlinewidth": 0,
             "ticks": ""
            },
            "type": "mesh3d"
           }
          ],
          "parcoords": [
           {
            "line": {
             "colorbar": {
              "outlinewidth": 0,
              "ticks": ""
             }
            },
            "type": "parcoords"
           }
          ],
          "pie": [
           {
            "automargin": true,
            "type": "pie"
           }
          ],
          "scatter": [
           {
            "fillpattern": {
             "fillmode": "overlay",
             "size": 10,
             "solidity": 0.2
            },
            "type": "scatter"
           }
          ],
          "scatter3d": [
           {
            "line": {
             "colorbar": {
              "outlinewidth": 0,
              "ticks": ""
             }
            },
            "marker": {
             "colorbar": {
              "outlinewidth": 0,
              "ticks": ""
             }
            },
            "type": "scatter3d"
           }
          ],
          "scattercarpet": [
           {
            "marker": {
             "colorbar": {
              "outlinewidth": 0,
              "ticks": ""
             }
            },
            "type": "scattercarpet"
           }
          ],
          "scattergeo": [
           {
            "marker": {
             "colorbar": {
              "outlinewidth": 0,
              "ticks": ""
             }
            },
            "type": "scattergeo"
           }
          ],
          "scattergl": [
           {
            "marker": {
             "colorbar": {
              "outlinewidth": 0,
              "ticks": ""
             }
            },
            "type": "scattergl"
           }
          ],
          "scattermapbox": [
           {
            "marker": {
             "colorbar": {
              "outlinewidth": 0,
              "ticks": ""
             }
            },
            "type": "scattermapbox"
           }
          ],
          "scatterpolar": [
           {
            "marker": {
             "colorbar": {
              "outlinewidth": 0,
              "ticks": ""
             }
            },
            "type": "scatterpolar"
           }
          ],
          "scatterpolargl": [
           {
            "marker": {
             "colorbar": {
              "outlinewidth": 0,
              "ticks": ""
             }
            },
            "type": "scatterpolargl"
           }
          ],
          "scatterternary": [
           {
            "marker": {
             "colorbar": {
              "outlinewidth": 0,
              "ticks": ""
             }
            },
            "type": "scatterternary"
           }
          ],
          "surface": [
           {
            "colorbar": {
             "outlinewidth": 0,
             "ticks": ""
            },
            "colorscale": [
             [
              0,
              "#0d0887"
             ],
             [
              0.1111111111111111,
              "#46039f"
             ],
             [
              0.2222222222222222,
              "#7201a8"
             ],
             [
              0.3333333333333333,
              "#9c179e"
             ],
             [
              0.4444444444444444,
              "#bd3786"
             ],
             [
              0.5555555555555556,
              "#d8576b"
             ],
             [
              0.6666666666666666,
              "#ed7953"
             ],
             [
              0.7777777777777778,
              "#fb9f3a"
             ],
             [
              0.8888888888888888,
              "#fdca26"
             ],
             [
              1,
              "#f0f921"
             ]
            ],
            "type": "surface"
           }
          ],
          "table": [
           {
            "cells": {
             "fill": {
              "color": "#EBF0F8"
             },
             "line": {
              "color": "white"
             }
            },
            "header": {
             "fill": {
              "color": "#C8D4E3"
             },
             "line": {
              "color": "white"
             }
            },
            "type": "table"
           }
          ]
         },
         "layout": {
          "annotationdefaults": {
           "arrowcolor": "#2a3f5f",
           "arrowhead": 0,
           "arrowwidth": 1
          },
          "autotypenumbers": "strict",
          "coloraxis": {
           "colorbar": {
            "outlinewidth": 0,
            "ticks": ""
           }
          },
          "colorscale": {
           "diverging": [
            [
             0,
             "#8e0152"
            ],
            [
             0.1,
             "#c51b7d"
            ],
            [
             0.2,
             "#de77ae"
            ],
            [
             0.3,
             "#f1b6da"
            ],
            [
             0.4,
             "#fde0ef"
            ],
            [
             0.5,
             "#f7f7f7"
            ],
            [
             0.6,
             "#e6f5d0"
            ],
            [
             0.7,
             "#b8e186"
            ],
            [
             0.8,
             "#7fbc41"
            ],
            [
             0.9,
             "#4d9221"
            ],
            [
             1,
             "#276419"
            ]
           ],
           "sequential": [
            [
             0,
             "#0d0887"
            ],
            [
             0.1111111111111111,
             "#46039f"
            ],
            [
             0.2222222222222222,
             "#7201a8"
            ],
            [
             0.3333333333333333,
             "#9c179e"
            ],
            [
             0.4444444444444444,
             "#bd3786"
            ],
            [
             0.5555555555555556,
             "#d8576b"
            ],
            [
             0.6666666666666666,
             "#ed7953"
            ],
            [
             0.7777777777777778,
             "#fb9f3a"
            ],
            [
             0.8888888888888888,
             "#fdca26"
            ],
            [
             1,
             "#f0f921"
            ]
           ],
           "sequentialminus": [
            [
             0,
             "#0d0887"
            ],
            [
             0.1111111111111111,
             "#46039f"
            ],
            [
             0.2222222222222222,
             "#7201a8"
            ],
            [
             0.3333333333333333,
             "#9c179e"
            ],
            [
             0.4444444444444444,
             "#bd3786"
            ],
            [
             0.5555555555555556,
             "#d8576b"
            ],
            [
             0.6666666666666666,
             "#ed7953"
            ],
            [
             0.7777777777777778,
             "#fb9f3a"
            ],
            [
             0.8888888888888888,
             "#fdca26"
            ],
            [
             1,
             "#f0f921"
            ]
           ]
          },
          "colorway": [
           "#636efa",
           "#EF553B",
           "#00cc96",
           "#ab63fa",
           "#FFA15A",
           "#19d3f3",
           "#FF6692",
           "#B6E880",
           "#FF97FF",
           "#FECB52"
          ],
          "font": {
           "color": "#2a3f5f"
          },
          "geo": {
           "bgcolor": "white",
           "lakecolor": "white",
           "landcolor": "#E5ECF6",
           "showlakes": true,
           "showland": true,
           "subunitcolor": "white"
          },
          "hoverlabel": {
           "align": "left"
          },
          "hovermode": "closest",
          "mapbox": {
           "style": "light"
          },
          "paper_bgcolor": "white",
          "plot_bgcolor": "#E5ECF6",
          "polar": {
           "angularaxis": {
            "gridcolor": "white",
            "linecolor": "white",
            "ticks": ""
           },
           "bgcolor": "#E5ECF6",
           "radialaxis": {
            "gridcolor": "white",
            "linecolor": "white",
            "ticks": ""
           }
          },
          "scene": {
           "xaxis": {
            "backgroundcolor": "#E5ECF6",
            "gridcolor": "white",
            "gridwidth": 2,
            "linecolor": "white",
            "showbackground": true,
            "ticks": "",
            "zerolinecolor": "white"
           },
           "yaxis": {
            "backgroundcolor": "#E5ECF6",
            "gridcolor": "white",
            "gridwidth": 2,
            "linecolor": "white",
            "showbackground": true,
            "ticks": "",
            "zerolinecolor": "white"
           },
           "zaxis": {
            "backgroundcolor": "#E5ECF6",
            "gridcolor": "white",
            "gridwidth": 2,
            "linecolor": "white",
            "showbackground": true,
            "ticks": "",
            "zerolinecolor": "white"
           }
          },
          "shapedefaults": {
           "line": {
            "color": "#2a3f5f"
           }
          },
          "ternary": {
           "aaxis": {
            "gridcolor": "white",
            "linecolor": "white",
            "ticks": ""
           },
           "baxis": {
            "gridcolor": "white",
            "linecolor": "white",
            "ticks": ""
           },
           "bgcolor": "#E5ECF6",
           "caxis": {
            "gridcolor": "white",
            "linecolor": "white",
            "ticks": ""
           }
          },
          "title": {
           "x": 0.05
          },
          "xaxis": {
           "automargin": true,
           "gridcolor": "white",
           "linecolor": "white",
           "ticks": "",
           "title": {
            "standoff": 15
           },
           "zerolinecolor": "white",
           "zerolinewidth": 2
          },
          "yaxis": {
           "automargin": true,
           "gridcolor": "white",
           "linecolor": "white",
           "ticks": "",
           "title": {
            "standoff": 15
           },
           "zerolinecolor": "white",
           "zerolinewidth": 2
          }
         }
        },
        "xaxis": {
         "anchor": "y",
         "domain": [
          0,
          1
         ],
         "title": {
          "text": "importance"
         }
        },
        "yaxis": {
         "anchor": "x",
         "categoryarray": [
          "class_Eco Plus",
          "food_and_drink",
          "gender_Male",
          "ease_of_online_booking",
          "age",
          "flight_distance",
          "arrival_delay_in_minutes",
          "inflight_service",
          "cleanliness",
          "seat_comfort",
          "checkin_service",
          "leg_room_service",
          "baggage_handling",
          "on-board_service",
          "inflight_entertainment",
          "customer_type_disloyal Customer",
          "inflight_wifi_service",
          "class_Eco",
          "type_of_travel_Personal Travel",
          "online_boarding"
         ],
         "categoryorder": "array",
         "domain": [
          0,
          1
         ],
         "title": {
          "text": "feature"
         }
        }
       }
      },
      "text/html": [
       "<div>                            <div id=\"8f749f73-ecdb-41dd-9f57-d5c29827c886\" class=\"plotly-graph-div\" style=\"height:525px; width:100%;\"></div>            <script type=\"text/javascript\">                require([\"plotly\"], function(Plotly) {                    window.PLOTLYENV=window.PLOTLYENV || {};                                    if (document.getElementById(\"8f749f73-ecdb-41dd-9f57-d5c29827c886\")) {                    Plotly.newPlot(                        \"8f749f73-ecdb-41dd-9f57-d5c29827c886\",                        [{\"alignmentgroup\":\"True\",\"hovertemplate\":\"feature=%{y}\\u003cbr\\u003eimportance=%{x}\\u003cextra\\u003e\\u003c\\u002fextra\\u003e\",\"legendgroup\":\"online_boarding\",\"marker\":{\"color\":\"#636efa\",\"pattern\":{\"shape\":\"\"}},\"name\":\"online_boarding\",\"offsetgroup\":\"online_boarding\",\"orientation\":\"h\",\"showlegend\":true,\"textposition\":\"auto\",\"x\":[0.22564299404621124],\"xaxis\":\"x\",\"y\":[\"online_boarding\"],\"yaxis\":\"y\",\"type\":\"bar\"},{\"alignmentgroup\":\"True\",\"hovertemplate\":\"feature=%{y}\\u003cbr\\u003eimportance=%{x}\\u003cextra\\u003e\\u003c\\u002fextra\\u003e\",\"legendgroup\":\"type_of_travel_Personal Travel\",\"marker\":{\"color\":\"#EF553B\",\"pattern\":{\"shape\":\"\"}},\"name\":\"type_of_travel_Personal Travel\",\"offsetgroup\":\"type_of_travel_Personal Travel\",\"orientation\":\"h\",\"showlegend\":true,\"textposition\":\"auto\",\"x\":[0.15922212600708008],\"xaxis\":\"x\",\"y\":[\"type_of_travel_Personal Travel\"],\"yaxis\":\"y\",\"type\":\"bar\"},{\"alignmentgroup\":\"True\",\"hovertemplate\":\"feature=%{y}\\u003cbr\\u003eimportance=%{x}\\u003cextra\\u003e\\u003c\\u002fextra\\u003e\",\"legendgroup\":\"class_Eco\",\"marker\":{\"color\":\"#00cc96\",\"pattern\":{\"shape\":\"\"}},\"name\":\"class_Eco\",\"offsetgroup\":\"class_Eco\",\"orientation\":\"h\",\"showlegend\":true,\"textposition\":\"auto\",\"x\":[0.13337698578834534],\"xaxis\":\"x\",\"y\":[\"class_Eco\"],\"yaxis\":\"y\",\"type\":\"bar\"},{\"alignmentgroup\":\"True\",\"hovertemplate\":\"feature=%{y}\\u003cbr\\u003eimportance=%{x}\\u003cextra\\u003e\\u003c\\u002fextra\\u003e\",\"legendgroup\":\"inflight_wifi_service\",\"marker\":{\"color\":\"#ab63fa\",\"pattern\":{\"shape\":\"\"}},\"name\":\"inflight_wifi_service\",\"offsetgroup\":\"inflight_wifi_service\",\"orientation\":\"h\",\"showlegend\":true,\"textposition\":\"auto\",\"x\":[0.07475382834672928],\"xaxis\":\"x\",\"y\":[\"inflight_wifi_service\"],\"yaxis\":\"y\",\"type\":\"bar\"},{\"alignmentgroup\":\"True\",\"hovertemplate\":\"feature=%{y}\\u003cbr\\u003eimportance=%{x}\\u003cextra\\u003e\\u003c\\u002fextra\\u003e\",\"legendgroup\":\"customer_type_disloyal Customer\",\"marker\":{\"color\":\"#FFA15A\",\"pattern\":{\"shape\":\"\"}},\"name\":\"customer_type_disloyal Customer\",\"offsetgroup\":\"customer_type_disloyal Customer\",\"orientation\":\"h\",\"showlegend\":true,\"textposition\":\"auto\",\"x\":[0.0741087794303894],\"xaxis\":\"x\",\"y\":[\"customer_type_disloyal Customer\"],\"yaxis\":\"y\",\"type\":\"bar\"},{\"alignmentgroup\":\"True\",\"hovertemplate\":\"feature=%{y}\\u003cbr\\u003eimportance=%{x}\\u003cextra\\u003e\\u003c\\u002fextra\\u003e\",\"legendgroup\":\"inflight_entertainment\",\"marker\":{\"color\":\"#19d3f3\",\"pattern\":{\"shape\":\"\"}},\"name\":\"inflight_entertainment\",\"offsetgroup\":\"inflight_entertainment\",\"orientation\":\"h\",\"showlegend\":true,\"textposition\":\"auto\",\"x\":[0.055811457335948944],\"xaxis\":\"x\",\"y\":[\"inflight_entertainment\"],\"yaxis\":\"y\",\"type\":\"bar\"},{\"alignmentgroup\":\"True\",\"hovertemplate\":\"feature=%{y}\\u003cbr\\u003eimportance=%{x}\\u003cextra\\u003e\\u003c\\u002fextra\\u003e\",\"legendgroup\":\"on-board_service\",\"marker\":{\"color\":\"#FF6692\",\"pattern\":{\"shape\":\"\"}},\"name\":\"on-board_service\",\"offsetgroup\":\"on-board_service\",\"orientation\":\"h\",\"showlegend\":true,\"textposition\":\"auto\",\"x\":[0.041111283004283905],\"xaxis\":\"x\",\"y\":[\"on-board_service\"],\"yaxis\":\"y\",\"type\":\"bar\"},{\"alignmentgroup\":\"True\",\"hovertemplate\":\"feature=%{y}\\u003cbr\\u003eimportance=%{x}\\u003cextra\\u003e\\u003c\\u002fextra\\u003e\",\"legendgroup\":\"baggage_handling\",\"marker\":{\"color\":\"#B6E880\",\"pattern\":{\"shape\":\"\"}},\"name\":\"baggage_handling\",\"offsetgroup\":\"baggage_handling\",\"orientation\":\"h\",\"showlegend\":true,\"textposition\":\"auto\",\"x\":[0.040066227316856384],\"xaxis\":\"x\",\"y\":[\"baggage_handling\"],\"yaxis\":\"y\",\"type\":\"bar\"},{\"alignmentgroup\":\"True\",\"hovertemplate\":\"feature=%{y}\\u003cbr\\u003eimportance=%{x}\\u003cextra\\u003e\\u003c\\u002fextra\\u003e\",\"legendgroup\":\"leg_room_service\",\"marker\":{\"color\":\"#FF97FF\",\"pattern\":{\"shape\":\"\"}},\"name\":\"leg_room_service\",\"offsetgroup\":\"leg_room_service\",\"orientation\":\"h\",\"showlegend\":true,\"textposition\":\"auto\",\"x\":[0.03848354518413544],\"xaxis\":\"x\",\"y\":[\"leg_room_service\"],\"yaxis\":\"y\",\"type\":\"bar\"},{\"alignmentgroup\":\"True\",\"hovertemplate\":\"feature=%{y}\\u003cbr\\u003eimportance=%{x}\\u003cextra\\u003e\\u003c\\u002fextra\\u003e\",\"legendgroup\":\"checkin_service\",\"marker\":{\"color\":\"#FECB52\",\"pattern\":{\"shape\":\"\"}},\"name\":\"checkin_service\",\"offsetgroup\":\"checkin_service\",\"orientation\":\"h\",\"showlegend\":true,\"textposition\":\"auto\",\"x\":[0.03633427619934082],\"xaxis\":\"x\",\"y\":[\"checkin_service\"],\"yaxis\":\"y\",\"type\":\"bar\"},{\"alignmentgroup\":\"True\",\"hovertemplate\":\"feature=%{y}\\u003cbr\\u003eimportance=%{x}\\u003cextra\\u003e\\u003c\\u002fextra\\u003e\",\"legendgroup\":\"seat_comfort\",\"marker\":{\"color\":\"#636efa\",\"pattern\":{\"shape\":\"\"}},\"name\":\"seat_comfort\",\"offsetgroup\":\"seat_comfort\",\"orientation\":\"h\",\"showlegend\":true,\"textposition\":\"auto\",\"x\":[0.02717609517276287],\"xaxis\":\"x\",\"y\":[\"seat_comfort\"],\"yaxis\":\"y\",\"type\":\"bar\"},{\"alignmentgroup\":\"True\",\"hovertemplate\":\"feature=%{y}\\u003cbr\\u003eimportance=%{x}\\u003cextra\\u003e\\u003c\\u002fextra\\u003e\",\"legendgroup\":\"cleanliness\",\"marker\":{\"color\":\"#EF553B\",\"pattern\":{\"shape\":\"\"}},\"name\":\"cleanliness\",\"offsetgroup\":\"cleanliness\",\"orientation\":\"h\",\"showlegend\":true,\"textposition\":\"auto\",\"x\":[0.018183153122663498],\"xaxis\":\"x\",\"y\":[\"cleanliness\"],\"yaxis\":\"y\",\"type\":\"bar\"},{\"alignmentgroup\":\"True\",\"hovertemplate\":\"feature=%{y}\\u003cbr\\u003eimportance=%{x}\\u003cextra\\u003e\\u003c\\u002fextra\\u003e\",\"legendgroup\":\"inflight_service\",\"marker\":{\"color\":\"#00cc96\",\"pattern\":{\"shape\":\"\"}},\"name\":\"inflight_service\",\"offsetgroup\":\"inflight_service\",\"orientation\":\"h\",\"showlegend\":true,\"textposition\":\"auto\",\"x\":[0.014780553057789803],\"xaxis\":\"x\",\"y\":[\"inflight_service\"],\"yaxis\":\"y\",\"type\":\"bar\"},{\"alignmentgroup\":\"True\",\"hovertemplate\":\"feature=%{y}\\u003cbr\\u003eimportance=%{x}\\u003cextra\\u003e\\u003c\\u002fextra\\u003e\",\"legendgroup\":\"arrival_delay_in_minutes\",\"marker\":{\"color\":\"#ab63fa\",\"pattern\":{\"shape\":\"\"}},\"name\":\"arrival_delay_in_minutes\",\"offsetgroup\":\"arrival_delay_in_minutes\",\"orientation\":\"h\",\"showlegend\":true,\"textposition\":\"auto\",\"x\":[0.013551350682973862],\"xaxis\":\"x\",\"y\":[\"arrival_delay_in_minutes\"],\"yaxis\":\"y\",\"type\":\"bar\"},{\"alignmentgroup\":\"True\",\"hovertemplate\":\"feature=%{y}\\u003cbr\\u003eimportance=%{x}\\u003cextra\\u003e\\u003c\\u002fextra\\u003e\",\"legendgroup\":\"flight_distance\",\"marker\":{\"color\":\"#FFA15A\",\"pattern\":{\"shape\":\"\"}},\"name\":\"flight_distance\",\"offsetgroup\":\"flight_distance\",\"orientation\":\"h\",\"showlegend\":true,\"textposition\":\"auto\",\"x\":[0.011597882024943829],\"xaxis\":\"x\",\"y\":[\"flight_distance\"],\"yaxis\":\"y\",\"type\":\"bar\"},{\"alignmentgroup\":\"True\",\"hovertemplate\":\"feature=%{y}\\u003cbr\\u003eimportance=%{x}\\u003cextra\\u003e\\u003c\\u002fextra\\u003e\",\"legendgroup\":\"age\",\"marker\":{\"color\":\"#19d3f3\",\"pattern\":{\"shape\":\"\"}},\"name\":\"age\",\"offsetgroup\":\"age\",\"orientation\":\"h\",\"showlegend\":true,\"textposition\":\"auto\",\"x\":[0.011377164162695408],\"xaxis\":\"x\",\"y\":[\"age\"],\"yaxis\":\"y\",\"type\":\"bar\"},{\"alignmentgroup\":\"True\",\"hovertemplate\":\"feature=%{y}\\u003cbr\\u003eimportance=%{x}\\u003cextra\\u003e\\u003c\\u002fextra\\u003e\",\"legendgroup\":\"ease_of_online_booking\",\"marker\":{\"color\":\"#FF6692\",\"pattern\":{\"shape\":\"\"}},\"name\":\"ease_of_online_booking\",\"offsetgroup\":\"ease_of_online_booking\",\"orientation\":\"h\",\"showlegend\":true,\"textposition\":\"auto\",\"x\":[0.007220280822366476],\"xaxis\":\"x\",\"y\":[\"ease_of_online_booking\"],\"yaxis\":\"y\",\"type\":\"bar\"},{\"alignmentgroup\":\"True\",\"hovertemplate\":\"feature=%{y}\\u003cbr\\u003eimportance=%{x}\\u003cextra\\u003e\\u003c\\u002fextra\\u003e\",\"legendgroup\":\"gender_Male\",\"marker\":{\"color\":\"#B6E880\",\"pattern\":{\"shape\":\"\"}},\"name\":\"gender_Male\",\"offsetgroup\":\"gender_Male\",\"orientation\":\"h\",\"showlegend\":true,\"textposition\":\"auto\",\"x\":[0.006526453886181116],\"xaxis\":\"x\",\"y\":[\"gender_Male\"],\"yaxis\":\"y\",\"type\":\"bar\"},{\"alignmentgroup\":\"True\",\"hovertemplate\":\"feature=%{y}\\u003cbr\\u003eimportance=%{x}\\u003cextra\\u003e\\u003c\\u002fextra\\u003e\",\"legendgroup\":\"food_and_drink\",\"marker\":{\"color\":\"#FF97FF\",\"pattern\":{\"shape\":\"\"}},\"name\":\"food_and_drink\",\"offsetgroup\":\"food_and_drink\",\"orientation\":\"h\",\"showlegend\":true,\"textposition\":\"auto\",\"x\":[0.005737321451306343],\"xaxis\":\"x\",\"y\":[\"food_and_drink\"],\"yaxis\":\"y\",\"type\":\"bar\"},{\"alignmentgroup\":\"True\",\"hovertemplate\":\"feature=%{y}\\u003cbr\\u003eimportance=%{x}\\u003cextra\\u003e\\u003c\\u002fextra\\u003e\",\"legendgroup\":\"class_Eco Plus\",\"marker\":{\"color\":\"#FECB52\",\"pattern\":{\"shape\":\"\"}},\"name\":\"class_Eco Plus\",\"offsetgroup\":\"class_Eco Plus\",\"orientation\":\"h\",\"showlegend\":true,\"textposition\":\"auto\",\"x\":[0.00493836821988225],\"xaxis\":\"x\",\"y\":[\"class_Eco Plus\"],\"yaxis\":\"y\",\"type\":\"bar\"}],                        {\"template\":{\"data\":{\"histogram2dcontour\":[{\"type\":\"histogram2dcontour\",\"colorbar\":{\"outlinewidth\":0,\"ticks\":\"\"},\"colorscale\":[[0.0,\"#0d0887\"],[0.1111111111111111,\"#46039f\"],[0.2222222222222222,\"#7201a8\"],[0.3333333333333333,\"#9c179e\"],[0.4444444444444444,\"#bd3786\"],[0.5555555555555556,\"#d8576b\"],[0.6666666666666666,\"#ed7953\"],[0.7777777777777778,\"#fb9f3a\"],[0.8888888888888888,\"#fdca26\"],[1.0,\"#f0f921\"]]}],\"choropleth\":[{\"type\":\"choropleth\",\"colorbar\":{\"outlinewidth\":0,\"ticks\":\"\"}}],\"histogram2d\":[{\"type\":\"histogram2d\",\"colorbar\":{\"outlinewidth\":0,\"ticks\":\"\"},\"colorscale\":[[0.0,\"#0d0887\"],[0.1111111111111111,\"#46039f\"],[0.2222222222222222,\"#7201a8\"],[0.3333333333333333,\"#9c179e\"],[0.4444444444444444,\"#bd3786\"],[0.5555555555555556,\"#d8576b\"],[0.6666666666666666,\"#ed7953\"],[0.7777777777777778,\"#fb9f3a\"],[0.8888888888888888,\"#fdca26\"],[1.0,\"#f0f921\"]]}],\"heatmap\":[{\"type\":\"heatmap\",\"colorbar\":{\"outlinewidth\":0,\"ticks\":\"\"},\"colorscale\":[[0.0,\"#0d0887\"],[0.1111111111111111,\"#46039f\"],[0.2222222222222222,\"#7201a8\"],[0.3333333333333333,\"#9c179e\"],[0.4444444444444444,\"#bd3786\"],[0.5555555555555556,\"#d8576b\"],[0.6666666666666666,\"#ed7953\"],[0.7777777777777778,\"#fb9f3a\"],[0.8888888888888888,\"#fdca26\"],[1.0,\"#f0f921\"]]}],\"heatmapgl\":[{\"type\":\"heatmapgl\",\"colorbar\":{\"outlinewidth\":0,\"ticks\":\"\"},\"colorscale\":[[0.0,\"#0d0887\"],[0.1111111111111111,\"#46039f\"],[0.2222222222222222,\"#7201a8\"],[0.3333333333333333,\"#9c179e\"],[0.4444444444444444,\"#bd3786\"],[0.5555555555555556,\"#d8576b\"],[0.6666666666666666,\"#ed7953\"],[0.7777777777777778,\"#fb9f3a\"],[0.8888888888888888,\"#fdca26\"],[1.0,\"#f0f921\"]]}],\"contourcarpet\":[{\"type\":\"contourcarpet\",\"colorbar\":{\"outlinewidth\":0,\"ticks\":\"\"}}],\"contour\":[{\"type\":\"contour\",\"colorbar\":{\"outlinewidth\":0,\"ticks\":\"\"},\"colorscale\":[[0.0,\"#0d0887\"],[0.1111111111111111,\"#46039f\"],[0.2222222222222222,\"#7201a8\"],[0.3333333333333333,\"#9c179e\"],[0.4444444444444444,\"#bd3786\"],[0.5555555555555556,\"#d8576b\"],[0.6666666666666666,\"#ed7953\"],[0.7777777777777778,\"#fb9f3a\"],[0.8888888888888888,\"#fdca26\"],[1.0,\"#f0f921\"]]}],\"surface\":[{\"type\":\"surface\",\"colorbar\":{\"outlinewidth\":0,\"ticks\":\"\"},\"colorscale\":[[0.0,\"#0d0887\"],[0.1111111111111111,\"#46039f\"],[0.2222222222222222,\"#7201a8\"],[0.3333333333333333,\"#9c179e\"],[0.4444444444444444,\"#bd3786\"],[0.5555555555555556,\"#d8576b\"],[0.6666666666666666,\"#ed7953\"],[0.7777777777777778,\"#fb9f3a\"],[0.8888888888888888,\"#fdca26\"],[1.0,\"#f0f921\"]]}],\"mesh3d\":[{\"type\":\"mesh3d\",\"colorbar\":{\"outlinewidth\":0,\"ticks\":\"\"}}],\"scatter\":[{\"fillpattern\":{\"fillmode\":\"overlay\",\"size\":10,\"solidity\":0.2},\"type\":\"scatter\"}],\"parcoords\":[{\"type\":\"parcoords\",\"line\":{\"colorbar\":{\"outlinewidth\":0,\"ticks\":\"\"}}}],\"scatterpolargl\":[{\"type\":\"scatterpolargl\",\"marker\":{\"colorbar\":{\"outlinewidth\":0,\"ticks\":\"\"}}}],\"bar\":[{\"error_x\":{\"color\":\"#2a3f5f\"},\"error_y\":{\"color\":\"#2a3f5f\"},\"marker\":{\"line\":{\"color\":\"#E5ECF6\",\"width\":0.5},\"pattern\":{\"fillmode\":\"overlay\",\"size\":10,\"solidity\":0.2}},\"type\":\"bar\"}],\"scattergeo\":[{\"type\":\"scattergeo\",\"marker\":{\"colorbar\":{\"outlinewidth\":0,\"ticks\":\"\"}}}],\"scatterpolar\":[{\"type\":\"scatterpolar\",\"marker\":{\"colorbar\":{\"outlinewidth\":0,\"ticks\":\"\"}}}],\"histogram\":[{\"marker\":{\"pattern\":{\"fillmode\":\"overlay\",\"size\":10,\"solidity\":0.2}},\"type\":\"histogram\"}],\"scattergl\":[{\"type\":\"scattergl\",\"marker\":{\"colorbar\":{\"outlinewidth\":0,\"ticks\":\"\"}}}],\"scatter3d\":[{\"type\":\"scatter3d\",\"line\":{\"colorbar\":{\"outlinewidth\":0,\"ticks\":\"\"}},\"marker\":{\"colorbar\":{\"outlinewidth\":0,\"ticks\":\"\"}}}],\"scattermapbox\":[{\"type\":\"scattermapbox\",\"marker\":{\"colorbar\":{\"outlinewidth\":0,\"ticks\":\"\"}}}],\"scatterternary\":[{\"type\":\"scatterternary\",\"marker\":{\"colorbar\":{\"outlinewidth\":0,\"ticks\":\"\"}}}],\"scattercarpet\":[{\"type\":\"scattercarpet\",\"marker\":{\"colorbar\":{\"outlinewidth\":0,\"ticks\":\"\"}}}],\"carpet\":[{\"aaxis\":{\"endlinecolor\":\"#2a3f5f\",\"gridcolor\":\"white\",\"linecolor\":\"white\",\"minorgridcolor\":\"white\",\"startlinecolor\":\"#2a3f5f\"},\"baxis\":{\"endlinecolor\":\"#2a3f5f\",\"gridcolor\":\"white\",\"linecolor\":\"white\",\"minorgridcolor\":\"white\",\"startlinecolor\":\"#2a3f5f\"},\"type\":\"carpet\"}],\"table\":[{\"cells\":{\"fill\":{\"color\":\"#EBF0F8\"},\"line\":{\"color\":\"white\"}},\"header\":{\"fill\":{\"color\":\"#C8D4E3\"},\"line\":{\"color\":\"white\"}},\"type\":\"table\"}],\"barpolar\":[{\"marker\":{\"line\":{\"color\":\"#E5ECF6\",\"width\":0.5},\"pattern\":{\"fillmode\":\"overlay\",\"size\":10,\"solidity\":0.2}},\"type\":\"barpolar\"}],\"pie\":[{\"automargin\":true,\"type\":\"pie\"}]},\"layout\":{\"autotypenumbers\":\"strict\",\"colorway\":[\"#636efa\",\"#EF553B\",\"#00cc96\",\"#ab63fa\",\"#FFA15A\",\"#19d3f3\",\"#FF6692\",\"#B6E880\",\"#FF97FF\",\"#FECB52\"],\"font\":{\"color\":\"#2a3f5f\"},\"hovermode\":\"closest\",\"hoverlabel\":{\"align\":\"left\"},\"paper_bgcolor\":\"white\",\"plot_bgcolor\":\"#E5ECF6\",\"polar\":{\"bgcolor\":\"#E5ECF6\",\"angularaxis\":{\"gridcolor\":\"white\",\"linecolor\":\"white\",\"ticks\":\"\"},\"radialaxis\":{\"gridcolor\":\"white\",\"linecolor\":\"white\",\"ticks\":\"\"}},\"ternary\":{\"bgcolor\":\"#E5ECF6\",\"aaxis\":{\"gridcolor\":\"white\",\"linecolor\":\"white\",\"ticks\":\"\"},\"baxis\":{\"gridcolor\":\"white\",\"linecolor\":\"white\",\"ticks\":\"\"},\"caxis\":{\"gridcolor\":\"white\",\"linecolor\":\"white\",\"ticks\":\"\"}},\"coloraxis\":{\"colorbar\":{\"outlinewidth\":0,\"ticks\":\"\"}},\"colorscale\":{\"sequential\":[[0.0,\"#0d0887\"],[0.1111111111111111,\"#46039f\"],[0.2222222222222222,\"#7201a8\"],[0.3333333333333333,\"#9c179e\"],[0.4444444444444444,\"#bd3786\"],[0.5555555555555556,\"#d8576b\"],[0.6666666666666666,\"#ed7953\"],[0.7777777777777778,\"#fb9f3a\"],[0.8888888888888888,\"#fdca26\"],[1.0,\"#f0f921\"]],\"sequentialminus\":[[0.0,\"#0d0887\"],[0.1111111111111111,\"#46039f\"],[0.2222222222222222,\"#7201a8\"],[0.3333333333333333,\"#9c179e\"],[0.4444444444444444,\"#bd3786\"],[0.5555555555555556,\"#d8576b\"],[0.6666666666666666,\"#ed7953\"],[0.7777777777777778,\"#fb9f3a\"],[0.8888888888888888,\"#fdca26\"],[1.0,\"#f0f921\"]],\"diverging\":[[0,\"#8e0152\"],[0.1,\"#c51b7d\"],[0.2,\"#de77ae\"],[0.3,\"#f1b6da\"],[0.4,\"#fde0ef\"],[0.5,\"#f7f7f7\"],[0.6,\"#e6f5d0\"],[0.7,\"#b8e186\"],[0.8,\"#7fbc41\"],[0.9,\"#4d9221\"],[1,\"#276419\"]]},\"xaxis\":{\"gridcolor\":\"white\",\"linecolor\":\"white\",\"ticks\":\"\",\"title\":{\"standoff\":15},\"zerolinecolor\":\"white\",\"automargin\":true,\"zerolinewidth\":2},\"yaxis\":{\"gridcolor\":\"white\",\"linecolor\":\"white\",\"ticks\":\"\",\"title\":{\"standoff\":15},\"zerolinecolor\":\"white\",\"automargin\":true,\"zerolinewidth\":2},\"scene\":{\"xaxis\":{\"backgroundcolor\":\"#E5ECF6\",\"gridcolor\":\"white\",\"linecolor\":\"white\",\"showbackground\":true,\"ticks\":\"\",\"zerolinecolor\":\"white\",\"gridwidth\":2},\"yaxis\":{\"backgroundcolor\":\"#E5ECF6\",\"gridcolor\":\"white\",\"linecolor\":\"white\",\"showbackground\":true,\"ticks\":\"\",\"zerolinecolor\":\"white\",\"gridwidth\":2},\"zaxis\":{\"backgroundcolor\":\"#E5ECF6\",\"gridcolor\":\"white\",\"linecolor\":\"white\",\"showbackground\":true,\"ticks\":\"\",\"zerolinecolor\":\"white\",\"gridwidth\":2}},\"shapedefaults\":{\"line\":{\"color\":\"#2a3f5f\"}},\"annotationdefaults\":{\"arrowcolor\":\"#2a3f5f\",\"arrowhead\":0,\"arrowwidth\":1},\"geo\":{\"bgcolor\":\"white\",\"landcolor\":\"#E5ECF6\",\"subunitcolor\":\"white\",\"showland\":true,\"showlakes\":true,\"lakecolor\":\"white\"},\"title\":{\"x\":0.05},\"mapbox\":{\"style\":\"light\"}}},\"xaxis\":{\"anchor\":\"y\",\"domain\":[0.0,1.0],\"title\":{\"text\":\"importance\"}},\"yaxis\":{\"anchor\":\"x\",\"domain\":[0.0,1.0],\"title\":{\"text\":\"feature\"},\"categoryorder\":\"array\",\"categoryarray\":[\"class_Eco Plus\",\"food_and_drink\",\"gender_Male\",\"ease_of_online_booking\",\"age\",\"flight_distance\",\"arrival_delay_in_minutes\",\"inflight_service\",\"cleanliness\",\"seat_comfort\",\"checkin_service\",\"leg_room_service\",\"baggage_handling\",\"on-board_service\",\"inflight_entertainment\",\"customer_type_disloyal Customer\",\"inflight_wifi_service\",\"class_Eco\",\"type_of_travel_Personal Travel\",\"online_boarding\"]},\"legend\":{\"title\":{\"text\":\"feature\"},\"tracegroupgap\":0},\"margin\":{\"t\":60},\"barmode\":\"relative\",\"showlegend\":false},                        {\"responsive\": true}                    ).then(function(){\n",
       "                            \n",
       "var gd = document.getElementById('8f749f73-ecdb-41dd-9f57-d5c29827c886');\n",
       "var x = new MutationObserver(function (mutations, observer) {{\n",
       "        var display = window.getComputedStyle(gd).display;\n",
       "        if (!display || display === 'none') {{\n",
       "            console.log([gd, 'removed!']);\n",
       "            Plotly.purge(gd);\n",
       "            observer.disconnect();\n",
       "        }}\n",
       "}});\n",
       "\n",
       "// Listen for the removal of the full notebook cells\n",
       "var notebookContainer = gd.closest('#notebook-container');\n",
       "if (notebookContainer) {{\n",
       "    x.observe(notebookContainer, {childList: true});\n",
       "}}\n",
       "\n",
       "// Listen for the clearing of the current output cell\n",
       "var outputEl = gd.closest('.output');\n",
       "if (outputEl) {{\n",
       "    x.observe(outputEl, {childList: true});\n",
       "}}\n",
       "\n",
       "                        })                };                });            </script>        </div>"
      ]
     },
     "metadata": {},
     "output_type": "display_data"
    }
   ],
   "source": [
    "fig = pd.DataFrame([model.best_estimator_.feature_names_in_,model.best_estimator_.feature_importances_]).T.\\\n",
    "        rename(columns = {0 : \"feature\", 1 : \"importance\"}).sort_values(\"importance\", ascending = False).\\\n",
    "            plot(y = \"feature\", x=  \"importance\", kind = \"barh\",\n",
    "                    backend = \"plotly\",color = \"feature\")\n",
    "\n",
    "fig.update_layout(showlegend = False)"
   ]
  },
  {
   "cell_type": "code",
   "execution_count": 76,
   "id": "c5a410c4",
   "metadata": {},
   "outputs": [],
   "source": [
    "from sklearn.metrics import accuracy_score, precision_score, recall_score, f1_score\n",
    "\n",
    "measure = [\"accuracy\", \"precision\", \"reacll\", \"f1-score\"]\n",
    "\n",
    "acc = accuracy_score(y_test, y_pred)\n",
    "pre = precision_score(y_test, y_pred)\n",
    "re = recall_score(y_test, y_pred)\n",
    "f1_score = f1_score(y_test, y_pred)"
   ]
  },
  {
   "cell_type": "code",
   "execution_count": 77,
   "id": "92137e1e",
   "metadata": {},
   "outputs": [
    {
     "data": {
      "text/html": [
       "<div>\n",
       "<style scoped>\n",
       "    .dataframe tbody tr th:only-of-type {\n",
       "        vertical-align: middle;\n",
       "    }\n",
       "\n",
       "    .dataframe tbody tr th {\n",
       "        vertical-align: top;\n",
       "    }\n",
       "\n",
       "    .dataframe thead th {\n",
       "        text-align: right;\n",
       "    }\n",
       "</style>\n",
       "<table border=\"1\" class=\"dataframe\">\n",
       "  <thead>\n",
       "    <tr style=\"text-align: right;\">\n",
       "      <th></th>\n",
       "      <th>measure</th>\n",
       "      <th>score</th>\n",
       "    </tr>\n",
       "  </thead>\n",
       "  <tbody>\n",
       "    <tr>\n",
       "      <th>0</th>\n",
       "      <td>accuracy</td>\n",
       "      <td>0.931525</td>\n",
       "    </tr>\n",
       "    <tr>\n",
       "      <th>1</th>\n",
       "      <td>precision</td>\n",
       "      <td>0.949102</td>\n",
       "    </tr>\n",
       "    <tr>\n",
       "      <th>2</th>\n",
       "      <td>reacll</td>\n",
       "      <td>0.898017</td>\n",
       "    </tr>\n",
       "    <tr>\n",
       "      <th>3</th>\n",
       "      <td>f1-score</td>\n",
       "      <td>0.922853</td>\n",
       "    </tr>\n",
       "  </tbody>\n",
       "</table>\n",
       "</div>"
      ],
      "text/plain": [
       "     measure     score\n",
       "0   accuracy  0.931525\n",
       "1  precision  0.949102\n",
       "2     reacll  0.898017\n",
       "3   f1-score  0.922853"
      ]
     },
     "execution_count": 77,
     "metadata": {},
     "output_type": "execute_result"
    }
   ],
   "source": [
    "pd.DataFrame({\"measure\" : measure, \"score\" : [acc, pre, re, f1_score]})"
   ]
  }
 ],
 "metadata": {
  "kernelspec": {
   "display_name": "Python 3 (ipykernel)",
   "language": "python",
   "name": "python3"
  },
  "language_info": {
   "codemirror_mode": {
    "name": "ipython",
    "version": 3
   },
   "file_extension": ".py",
   "mimetype": "text/x-python",
   "name": "python",
   "nbconvert_exporter": "python",
   "pygments_lexer": "ipython3",
   "version": "3.11.4"
  },
  "toc": {
   "base_numbering": 1,
   "nav_menu": {},
   "number_sections": false,
   "sideBar": true,
   "skip_h1_title": false,
   "title_cell": "Table of Contents",
   "title_sidebar": "Contents",
   "toc_cell": false,
   "toc_position": {
    "height": "calc(100% - 180px)",
    "left": "10px",
    "top": "150px",
    "width": "341.325px"
   },
   "toc_section_display": true,
   "toc_window_display": true
  }
 },
 "nbformat": 4,
 "nbformat_minor": 5
}
