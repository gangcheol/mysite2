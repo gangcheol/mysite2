{
 "cells": [
  {
   "cell_type": "raw",
   "metadata": {},
   "source": [
    "---\n",
    "title : \"00. 딥러닝 (1)\"\n",
    "author : \"GC\"\n",
    "date : \"10/03/23\"\n",
    "categories : [딥러닝]\n",
    "---"
   ]
  },
  {
   "cell_type": "markdown",
   "metadata": {
    "id": "3O_xG3kFnlch"
   },
   "source": [
    "# import"
   ]
  },
  {
   "cell_type": "code",
   "execution_count": 65,
   "metadata": {
    "executionInfo": {
     "elapsed": 2,
     "status": "ok",
     "timestamp": 1696306138587,
     "user": {
      "displayName": "ccc flkwerkdai",
      "userId": "13507850890638580947"
     },
     "user_tz": -540
    },
    "id": "XLk6B8Mvn-Ci"
   },
   "outputs": [],
   "source": [
    "# | code-fold : true\n",
    "import pandas as pd\n",
    "import numpy as np\n",
    "import matplotlib.pyplot as plt\n",
    "import seaborn as sns\n",
    "\n",
    "from sklearn.model_selection import train_test_split\n",
    "from sklearn.metrics import *\n",
    "from sklearn.preprocessing import StandardScaler, MinMaxScaler\n",
    "\n",
    "from keras.models import Sequential\n",
    "from keras.layers import Dense\n",
    "from keras.backend import clear_session\n",
    "\n",
    "import plotly.express as px"
   ]
  },
  {
   "cell_type": "markdown",
   "metadata": {
    "id": "B7Jmop6RoYCh"
   },
   "source": [
    "# 데이터 준비 및 이해"
   ]
  },
  {
   "cell_type": "code",
   "execution_count": 6,
   "metadata": {
    "executionInfo": {
     "elapsed": 487,
     "status": "ok",
     "timestamp": 1696304595835,
     "user": {
      "displayName": "ccc flkwerkdai",
      "userId": "13507850890638580947"
     },
     "user_tz": -540
    },
    "id": "ze8h0n4xoaGY"
   },
   "outputs": [],
   "source": [
    "path = 'https://raw.githubusercontent.com/DA4BAM/dataset/master/advertising.csv'\n",
    "adv = pd.read_csv(path)"
   ]
  },
  {
   "cell_type": "code",
   "execution_count": 9,
   "metadata": {
    "colab": {
     "base_uri": "https://localhost:8080/"
    },
    "executionInfo": {
     "elapsed": 5,
     "status": "ok",
     "timestamp": 1696304666236,
     "user": {
      "displayName": "ccc flkwerkdai",
      "userId": "13507850890638580947"
     },
     "user_tz": -540
    },
    "id": "Uwf7Ucd7owS1",
    "outputId": "a85fd9fe-f582-4ff5-e0a2-c9c417b6dd9e"
   },
   "outputs": [
    {
     "name": "stdout",
     "output_type": "stream",
     "text": [
      "<class 'pandas.core.frame.DataFrame'>\n",
      "RangeIndex: 200 entries, 0 to 199\n",
      "Data columns (total 4 columns):\n",
      " #   Column     Non-Null Count  Dtype  \n",
      "---  ------     --------------  -----  \n",
      " 0   TV         200 non-null    float64\n",
      " 1   Radio      200 non-null    float64\n",
      " 2   Newspaper  200 non-null    float64\n",
      " 3   Sales      200 non-null    float64\n",
      "dtypes: float64(4)\n",
      "memory usage: 6.4 KB\n"
     ]
    }
   ],
   "source": [
    "adv.info()"
   ]
  },
  {
   "cell_type": "markdown",
   "metadata": {
    "id": "MQFok0ZEozRy"
   },
   "source": [
    "`-` 모든 feature들이 연속형 변수로 가변수화는 필요없다."
   ]
  },
  {
   "cell_type": "code",
   "execution_count": 10,
   "metadata": {
    "colab": {
     "base_uri": "https://localhost:8080/",
     "height": 206
    },
    "executionInfo": {
     "elapsed": 3,
     "status": "ok",
     "timestamp": 1696304671841,
     "user": {
      "displayName": "ccc flkwerkdai",
      "userId": "13507850890638580947"
     },
     "user_tz": -540
    },
    "id": "pQTeUf7Ioxgl",
    "outputId": "130bd30e-e5f4-43f4-95a8-6ce0b3c74143"
   },
   "outputs": [
    {
     "data": {
      "text/html": [
       "\n",
       "  <div id=\"df-c377e7e8-4c48-4f99-82a2-30b164145018\" class=\"colab-df-container\">\n",
       "    <div>\n",
       "<style scoped>\n",
       "    .dataframe tbody tr th:only-of-type {\n",
       "        vertical-align: middle;\n",
       "    }\n",
       "\n",
       "    .dataframe tbody tr th {\n",
       "        vertical-align: top;\n",
       "    }\n",
       "\n",
       "    .dataframe thead th {\n",
       "        text-align: right;\n",
       "    }\n",
       "</style>\n",
       "<table border=\"1\" class=\"dataframe\">\n",
       "  <thead>\n",
       "    <tr style=\"text-align: right;\">\n",
       "      <th></th>\n",
       "      <th>TV</th>\n",
       "      <th>Radio</th>\n",
       "      <th>Newspaper</th>\n",
       "      <th>Sales</th>\n",
       "    </tr>\n",
       "  </thead>\n",
       "  <tbody>\n",
       "    <tr>\n",
       "      <th>0</th>\n",
       "      <td>230.1</td>\n",
       "      <td>37.8</td>\n",
       "      <td>69.2</td>\n",
       "      <td>22.1</td>\n",
       "    </tr>\n",
       "    <tr>\n",
       "      <th>1</th>\n",
       "      <td>44.5</td>\n",
       "      <td>39.3</td>\n",
       "      <td>45.1</td>\n",
       "      <td>10.4</td>\n",
       "    </tr>\n",
       "    <tr>\n",
       "      <th>2</th>\n",
       "      <td>17.2</td>\n",
       "      <td>45.9</td>\n",
       "      <td>69.3</td>\n",
       "      <td>9.3</td>\n",
       "    </tr>\n",
       "    <tr>\n",
       "      <th>3</th>\n",
       "      <td>151.5</td>\n",
       "      <td>41.3</td>\n",
       "      <td>58.5</td>\n",
       "      <td>18.5</td>\n",
       "    </tr>\n",
       "    <tr>\n",
       "      <th>4</th>\n",
       "      <td>180.8</td>\n",
       "      <td>10.8</td>\n",
       "      <td>58.4</td>\n",
       "      <td>12.9</td>\n",
       "    </tr>\n",
       "  </tbody>\n",
       "</table>\n",
       "</div>\n",
       "    <div class=\"colab-df-buttons\">\n",
       "\n",
       "  <div class=\"colab-df-container\">\n",
       "    <button class=\"colab-df-convert\" onclick=\"convertToInteractive('df-c377e7e8-4c48-4f99-82a2-30b164145018')\"\n",
       "            title=\"Convert this dataframe to an interactive table.\"\n",
       "            style=\"display:none;\">\n",
       "\n",
       "  <svg xmlns=\"http://www.w3.org/2000/svg\" height=\"24px\" viewBox=\"0 -960 960 960\">\n",
       "    <path d=\"M120-120v-720h720v720H120Zm60-500h600v-160H180v160Zm220 220h160v-160H400v160Zm0 220h160v-160H400v160ZM180-400h160v-160H180v160Zm440 0h160v-160H620v160ZM180-180h160v-160H180v160Zm440 0h160v-160H620v160Z\"/>\n",
       "  </svg>\n",
       "    </button>\n",
       "\n",
       "  <style>\n",
       "    .colab-df-container {\n",
       "      display:flex;\n",
       "      gap: 12px;\n",
       "    }\n",
       "\n",
       "    .colab-df-convert {\n",
       "      background-color: #E8F0FE;\n",
       "      border: none;\n",
       "      border-radius: 50%;\n",
       "      cursor: pointer;\n",
       "      display: none;\n",
       "      fill: #1967D2;\n",
       "      height: 32px;\n",
       "      padding: 0 0 0 0;\n",
       "      width: 32px;\n",
       "    }\n",
       "\n",
       "    .colab-df-convert:hover {\n",
       "      background-color: #E2EBFA;\n",
       "      box-shadow: 0px 1px 2px rgba(60, 64, 67, 0.3), 0px 1px 3px 1px rgba(60, 64, 67, 0.15);\n",
       "      fill: #174EA6;\n",
       "    }\n",
       "\n",
       "    .colab-df-buttons div {\n",
       "      margin-bottom: 4px;\n",
       "    }\n",
       "\n",
       "    [theme=dark] .colab-df-convert {\n",
       "      background-color: #3B4455;\n",
       "      fill: #D2E3FC;\n",
       "    }\n",
       "\n",
       "    [theme=dark] .colab-df-convert:hover {\n",
       "      background-color: #434B5C;\n",
       "      box-shadow: 0px 1px 3px 1px rgba(0, 0, 0, 0.15);\n",
       "      filter: drop-shadow(0px 1px 2px rgba(0, 0, 0, 0.3));\n",
       "      fill: #FFFFFF;\n",
       "    }\n",
       "  </style>\n",
       "\n",
       "    <script>\n",
       "      const buttonEl =\n",
       "        document.querySelector('#df-c377e7e8-4c48-4f99-82a2-30b164145018 button.colab-df-convert');\n",
       "      buttonEl.style.display =\n",
       "        google.colab.kernel.accessAllowed ? 'block' : 'none';\n",
       "\n",
       "      async function convertToInteractive(key) {\n",
       "        const element = document.querySelector('#df-c377e7e8-4c48-4f99-82a2-30b164145018');\n",
       "        const dataTable =\n",
       "          await google.colab.kernel.invokeFunction('convertToInteractive',\n",
       "                                                    [key], {});\n",
       "        if (!dataTable) return;\n",
       "\n",
       "        const docLinkHtml = 'Like what you see? Visit the ' +\n",
       "          '<a target=\"_blank\" href=https://colab.research.google.com/notebooks/data_table.ipynb>data table notebook</a>'\n",
       "          + ' to learn more about interactive tables.';\n",
       "        element.innerHTML = '';\n",
       "        dataTable['output_type'] = 'display_data';\n",
       "        await google.colab.output.renderOutput(dataTable, element);\n",
       "        const docLink = document.createElement('div');\n",
       "        docLink.innerHTML = docLinkHtml;\n",
       "        element.appendChild(docLink);\n",
       "      }\n",
       "    </script>\n",
       "  </div>\n",
       "\n",
       "\n",
       "<div id=\"df-48dbeecc-ce77-40dd-9a1c-52a4ffa458f6\">\n",
       "  <button class=\"colab-df-quickchart\" onclick=\"quickchart('df-48dbeecc-ce77-40dd-9a1c-52a4ffa458f6')\"\n",
       "            title=\"Suggest charts.\"\n",
       "            style=\"display:none;\">\n",
       "\n",
       "<svg xmlns=\"http://www.w3.org/2000/svg\" height=\"24px\"viewBox=\"0 0 24 24\"\n",
       "     width=\"24px\">\n",
       "    <g>\n",
       "        <path d=\"M19 3H5c-1.1 0-2 .9-2 2v14c0 1.1.9 2 2 2h14c1.1 0 2-.9 2-2V5c0-1.1-.9-2-2-2zM9 17H7v-7h2v7zm4 0h-2V7h2v10zm4 0h-2v-4h2v4z\"/>\n",
       "    </g>\n",
       "</svg>\n",
       "  </button>\n",
       "\n",
       "<style>\n",
       "  .colab-df-quickchart {\n",
       "      --bg-color: #E8F0FE;\n",
       "      --fill-color: #1967D2;\n",
       "      --hover-bg-color: #E2EBFA;\n",
       "      --hover-fill-color: #174EA6;\n",
       "      --disabled-fill-color: #AAA;\n",
       "      --disabled-bg-color: #DDD;\n",
       "  }\n",
       "\n",
       "  [theme=dark] .colab-df-quickchart {\n",
       "      --bg-color: #3B4455;\n",
       "      --fill-color: #D2E3FC;\n",
       "      --hover-bg-color: #434B5C;\n",
       "      --hover-fill-color: #FFFFFF;\n",
       "      --disabled-bg-color: #3B4455;\n",
       "      --disabled-fill-color: #666;\n",
       "  }\n",
       "\n",
       "  .colab-df-quickchart {\n",
       "    background-color: var(--bg-color);\n",
       "    border: none;\n",
       "    border-radius: 50%;\n",
       "    cursor: pointer;\n",
       "    display: none;\n",
       "    fill: var(--fill-color);\n",
       "    height: 32px;\n",
       "    padding: 0;\n",
       "    width: 32px;\n",
       "  }\n",
       "\n",
       "  .colab-df-quickchart:hover {\n",
       "    background-color: var(--hover-bg-color);\n",
       "    box-shadow: 0 1px 2px rgba(60, 64, 67, 0.3), 0 1px 3px 1px rgba(60, 64, 67, 0.15);\n",
       "    fill: var(--button-hover-fill-color);\n",
       "  }\n",
       "\n",
       "  .colab-df-quickchart-complete:disabled,\n",
       "  .colab-df-quickchart-complete:disabled:hover {\n",
       "    background-color: var(--disabled-bg-color);\n",
       "    fill: var(--disabled-fill-color);\n",
       "    box-shadow: none;\n",
       "  }\n",
       "\n",
       "  .colab-df-spinner {\n",
       "    border: 2px solid var(--fill-color);\n",
       "    border-color: transparent;\n",
       "    border-bottom-color: var(--fill-color);\n",
       "    animation:\n",
       "      spin 1s steps(1) infinite;\n",
       "  }\n",
       "\n",
       "  @keyframes spin {\n",
       "    0% {\n",
       "      border-color: transparent;\n",
       "      border-bottom-color: var(--fill-color);\n",
       "      border-left-color: var(--fill-color);\n",
       "    }\n",
       "    20% {\n",
       "      border-color: transparent;\n",
       "      border-left-color: var(--fill-color);\n",
       "      border-top-color: var(--fill-color);\n",
       "    }\n",
       "    30% {\n",
       "      border-color: transparent;\n",
       "      border-left-color: var(--fill-color);\n",
       "      border-top-color: var(--fill-color);\n",
       "      border-right-color: var(--fill-color);\n",
       "    }\n",
       "    40% {\n",
       "      border-color: transparent;\n",
       "      border-right-color: var(--fill-color);\n",
       "      border-top-color: var(--fill-color);\n",
       "    }\n",
       "    60% {\n",
       "      border-color: transparent;\n",
       "      border-right-color: var(--fill-color);\n",
       "    }\n",
       "    80% {\n",
       "      border-color: transparent;\n",
       "      border-right-color: var(--fill-color);\n",
       "      border-bottom-color: var(--fill-color);\n",
       "    }\n",
       "    90% {\n",
       "      border-color: transparent;\n",
       "      border-bottom-color: var(--fill-color);\n",
       "    }\n",
       "  }\n",
       "</style>\n",
       "\n",
       "  <script>\n",
       "    async function quickchart(key) {\n",
       "      const quickchartButtonEl =\n",
       "        document.querySelector('#' + key + ' button');\n",
       "      quickchartButtonEl.disabled = true;  // To prevent multiple clicks.\n",
       "      quickchartButtonEl.classList.add('colab-df-spinner');\n",
       "      try {\n",
       "        const charts = await google.colab.kernel.invokeFunction(\n",
       "            'suggestCharts', [key], {});\n",
       "      } catch (error) {\n",
       "        console.error('Error during call to suggestCharts:', error);\n",
       "      }\n",
       "      quickchartButtonEl.classList.remove('colab-df-spinner');\n",
       "      quickchartButtonEl.classList.add('colab-df-quickchart-complete');\n",
       "    }\n",
       "    (() => {\n",
       "      let quickchartButtonEl =\n",
       "        document.querySelector('#df-48dbeecc-ce77-40dd-9a1c-52a4ffa458f6 button');\n",
       "      quickchartButtonEl.style.display =\n",
       "        google.colab.kernel.accessAllowed ? 'block' : 'none';\n",
       "    })();\n",
       "  </script>\n",
       "</div>\n",
       "    </div>\n",
       "  </div>\n"
      ],
      "text/plain": [
       "      TV  Radio  Newspaper  Sales\n",
       "0  230.1   37.8       69.2   22.1\n",
       "1   44.5   39.3       45.1   10.4\n",
       "2   17.2   45.9       69.3    9.3\n",
       "3  151.5   41.3       58.5   18.5\n",
       "4  180.8   10.8       58.4   12.9"
      ]
     },
     "execution_count": 10,
     "metadata": {},
     "output_type": "execute_result"
    }
   ],
   "source": [
    "adv.head()"
   ]
  },
  {
   "cell_type": "markdown",
   "metadata": {
    "id": "VVg77jWhof7k"
   },
   "source": [
    "`-` x,y 분리"
   ]
  },
  {
   "cell_type": "code",
   "execution_count": 7,
   "metadata": {
    "executionInfo": {
     "elapsed": 1,
     "status": "ok",
     "timestamp": 1696304645834,
     "user": {
      "displayName": "ccc flkwerkdai",
      "userId": "13507850890638580947"
     },
     "user_tz": -540
    },
    "id": "5OUwJRPcoive"
   },
   "outputs": [],
   "source": [
    "target = \"Sales\"\n",
    "\n",
    "x = adv.drop(target, axis = 1)\n",
    "y = adv[target]"
   ]
  },
  {
   "cell_type": "markdown",
   "metadata": {
    "id": "UNdVb0CsosZb"
   },
   "source": [
    "# ML review : linear regreesion"
   ]
  },
  {
   "cell_type": "code",
   "execution_count": 11,
   "metadata": {
    "executionInfo": {
     "elapsed": 1,
     "status": "ok",
     "timestamp": 1696304734047,
     "user": {
      "displayName": "ccc flkwerkdai",
      "userId": "13507850890638580947"
     },
     "user_tz": -540
    },
    "id": "qNlpQf3Zo94M"
   },
   "outputs": [],
   "source": [
    "from sklearn.linear_model import LinearRegression"
   ]
  },
  {
   "cell_type": "markdown",
   "metadata": {
    "id": "pOrNb-f6pB82"
   },
   "source": [
    "`-` 전과정은 이제 한번에 쓰자."
   ]
  },
  {
   "cell_type": "code",
   "execution_count": 14,
   "metadata": {
    "executionInfo": {
     "elapsed": 3,
     "status": "ok",
     "timestamp": 1696304919413,
     "user": {
      "displayName": "ccc flkwerkdai",
      "userId": "13507850890638580947"
     },
     "user_tz": -540
    },
    "id": "SB4l_v_npMTV"
   },
   "outputs": [],
   "source": [
    "# step 0. 데이터 셋 분할\n",
    "x_train, x_test, y_train, y_test = train_test_split(x, y, test_size = 0.3, random_state = 2023)\n",
    "\n",
    "# step 1. 모델 선언\n",
    "lm = LinearRegression()\n",
    "\n",
    "# step 2. 모델 fit\n",
    "lm.fit(x_train, y_train)\n",
    "\n",
    "# step 3. 모델 predict\n",
    "lm.pred = lm.predict(x_test)"
   ]
  },
  {
   "cell_type": "markdown",
   "metadata": {
    "id": "sVh47cKApWWZ"
   },
   "source": [
    "`-` 결과 요약"
   ]
  },
  {
   "cell_type": "code",
   "execution_count": 19,
   "metadata": {
    "colab": {
     "base_uri": "https://localhost:8080/"
    },
    "executionInfo": {
     "elapsed": 4,
     "status": "ok",
     "timestamp": 1696304994554,
     "user": {
      "displayName": "ccc flkwerkdai",
      "userId": "13507850890638580947"
     },
     "user_tz": -540
    },
    "id": "83DhJu7Qp7qI",
    "outputId": "6fa77536-271a-431e-ca90-5608a8466364"
   },
   "outputs": [
    {
     "data": {
      "text/plain": [
       "(13.871666666666668, 14.059021420299166)"
      ]
     },
     "execution_count": 19,
     "metadata": {},
     "output_type": "execute_result"
    }
   ],
   "source": [
    "np.mean(y_test), np.mean(lm.pred)"
   ]
  },
  {
   "cell_type": "code",
   "execution_count": 20,
   "metadata": {
    "colab": {
     "base_uri": "https://localhost:8080/"
    },
    "executionInfo": {
     "elapsed": 2,
     "status": "ok",
     "timestamp": 1696304997603,
     "user": {
      "displayName": "ccc flkwerkdai",
      "userId": "13507850890638580947"
     },
     "user_tz": -540
    },
    "id": "O4J0BsFfpxE9",
    "outputId": "ac48beb5-8b97-4072-9850-bac1022f8219"
   },
   "outputs": [
    {
     "data": {
      "text/plain": [
       "2.417343095034177"
      ]
     },
     "execution_count": 20,
     "metadata": {},
     "output_type": "execute_result"
    }
   ],
   "source": [
    "np.mean((y_test-lm.pred)**2)"
   ]
  },
  {
   "cell_type": "markdown",
   "metadata": {
    "id": "nMhpWgW-qCcm"
   },
   "source": [
    "`-` 결과 시각화"
   ]
  },
  {
   "cell_type": "code",
   "execution_count": 44,
   "metadata": {
    "colab": {
     "base_uri": "https://localhost:8080/",
     "height": 206
    },
    "executionInfo": {
     "elapsed": 6,
     "status": "ok",
     "timestamp": 1696305439723,
     "user": {
      "displayName": "ccc flkwerkdai",
      "userId": "13507850890638580947"
     },
     "user_tz": -540
    },
    "id": "5LgRzE6pq0lE",
    "outputId": "9d19cea5-6665-4882-81ee-34acd61a33e3"
   },
   "outputs": [
    {
     "data": {
      "text/html": [
       "\n",
       "  <div id=\"df-77281207-47f0-4dce-b001-e2218901a454\" class=\"colab-df-container\">\n",
       "    <div>\n",
       "<style scoped>\n",
       "    .dataframe tbody tr th:only-of-type {\n",
       "        vertical-align: middle;\n",
       "    }\n",
       "\n",
       "    .dataframe tbody tr th {\n",
       "        vertical-align: top;\n",
       "    }\n",
       "\n",
       "    .dataframe thead th {\n",
       "        text-align: right;\n",
       "    }\n",
       "</style>\n",
       "<table border=\"1\" class=\"dataframe\">\n",
       "  <thead>\n",
       "    <tr style=\"text-align: right;\">\n",
       "      <th></th>\n",
       "      <th>TV</th>\n",
       "      <th>Radio</th>\n",
       "      <th>Newspaper</th>\n",
       "      <th>Sales</th>\n",
       "      <th>Sales_pred</th>\n",
       "    </tr>\n",
       "  </thead>\n",
       "  <tbody>\n",
       "    <tr>\n",
       "      <th>0</th>\n",
       "      <td>97.5</td>\n",
       "      <td>7.6</td>\n",
       "      <td>7.2</td>\n",
       "      <td>9.7</td>\n",
       "      <td>8.882060</td>\n",
       "    </tr>\n",
       "    <tr>\n",
       "      <th>1</th>\n",
       "      <td>286.0</td>\n",
       "      <td>13.9</td>\n",
       "      <td>3.7</td>\n",
       "      <td>15.9</td>\n",
       "      <td>19.000003</td>\n",
       "    </tr>\n",
       "    <tr>\n",
       "      <th>2</th>\n",
       "      <td>197.6</td>\n",
       "      <td>3.5</td>\n",
       "      <td>5.9</td>\n",
       "      <td>11.7</td>\n",
       "      <td>12.871302</td>\n",
       "    </tr>\n",
       "    <tr>\n",
       "      <th>3</th>\n",
       "      <td>224.0</td>\n",
       "      <td>2.4</td>\n",
       "      <td>15.6</td>\n",
       "      <td>11.6</td>\n",
       "      <td>13.893769</td>\n",
       "    </tr>\n",
       "    <tr>\n",
       "      <th>4</th>\n",
       "      <td>193.2</td>\n",
       "      <td>18.4</td>\n",
       "      <td>65.7</td>\n",
       "      <td>15.2</td>\n",
       "      <td>15.273020</td>\n",
       "    </tr>\n",
       "  </tbody>\n",
       "</table>\n",
       "</div>\n",
       "    <div class=\"colab-df-buttons\">\n",
       "\n",
       "  <div class=\"colab-df-container\">\n",
       "    <button class=\"colab-df-convert\" onclick=\"convertToInteractive('df-77281207-47f0-4dce-b001-e2218901a454')\"\n",
       "            title=\"Convert this dataframe to an interactive table.\"\n",
       "            style=\"display:none;\">\n",
       "\n",
       "  <svg xmlns=\"http://www.w3.org/2000/svg\" height=\"24px\" viewBox=\"0 -960 960 960\">\n",
       "    <path d=\"M120-120v-720h720v720H120Zm60-500h600v-160H180v160Zm220 220h160v-160H400v160Zm0 220h160v-160H400v160ZM180-400h160v-160H180v160Zm440 0h160v-160H620v160ZM180-180h160v-160H180v160Zm440 0h160v-160H620v160Z\"/>\n",
       "  </svg>\n",
       "    </button>\n",
       "\n",
       "  <style>\n",
       "    .colab-df-container {\n",
       "      display:flex;\n",
       "      gap: 12px;\n",
       "    }\n",
       "\n",
       "    .colab-df-convert {\n",
       "      background-color: #E8F0FE;\n",
       "      border: none;\n",
       "      border-radius: 50%;\n",
       "      cursor: pointer;\n",
       "      display: none;\n",
       "      fill: #1967D2;\n",
       "      height: 32px;\n",
       "      padding: 0 0 0 0;\n",
       "      width: 32px;\n",
       "    }\n",
       "\n",
       "    .colab-df-convert:hover {\n",
       "      background-color: #E2EBFA;\n",
       "      box-shadow: 0px 1px 2px rgba(60, 64, 67, 0.3), 0px 1px 3px 1px rgba(60, 64, 67, 0.15);\n",
       "      fill: #174EA6;\n",
       "    }\n",
       "\n",
       "    .colab-df-buttons div {\n",
       "      margin-bottom: 4px;\n",
       "    }\n",
       "\n",
       "    [theme=dark] .colab-df-convert {\n",
       "      background-color: #3B4455;\n",
       "      fill: #D2E3FC;\n",
       "    }\n",
       "\n",
       "    [theme=dark] .colab-df-convert:hover {\n",
       "      background-color: #434B5C;\n",
       "      box-shadow: 0px 1px 3px 1px rgba(0, 0, 0, 0.15);\n",
       "      filter: drop-shadow(0px 1px 2px rgba(0, 0, 0, 0.3));\n",
       "      fill: #FFFFFF;\n",
       "    }\n",
       "  </style>\n",
       "\n",
       "    <script>\n",
       "      const buttonEl =\n",
       "        document.querySelector('#df-77281207-47f0-4dce-b001-e2218901a454 button.colab-df-convert');\n",
       "      buttonEl.style.display =\n",
       "        google.colab.kernel.accessAllowed ? 'block' : 'none';\n",
       "\n",
       "      async function convertToInteractive(key) {\n",
       "        const element = document.querySelector('#df-77281207-47f0-4dce-b001-e2218901a454');\n",
       "        const dataTable =\n",
       "          await google.colab.kernel.invokeFunction('convertToInteractive',\n",
       "                                                    [key], {});\n",
       "        if (!dataTable) return;\n",
       "\n",
       "        const docLinkHtml = 'Like what you see? Visit the ' +\n",
       "          '<a target=\"_blank\" href=https://colab.research.google.com/notebooks/data_table.ipynb>data table notebook</a>'\n",
       "          + ' to learn more about interactive tables.';\n",
       "        element.innerHTML = '';\n",
       "        dataTable['output_type'] = 'display_data';\n",
       "        await google.colab.output.renderOutput(dataTable, element);\n",
       "        const docLink = document.createElement('div');\n",
       "        docLink.innerHTML = docLinkHtml;\n",
       "        element.appendChild(docLink);\n",
       "      }\n",
       "    </script>\n",
       "  </div>\n",
       "\n",
       "\n",
       "<div id=\"df-323efdd9-5f19-478f-ab30-98dac6124cc0\">\n",
       "  <button class=\"colab-df-quickchart\" onclick=\"quickchart('df-323efdd9-5f19-478f-ab30-98dac6124cc0')\"\n",
       "            title=\"Suggest charts.\"\n",
       "            style=\"display:none;\">\n",
       "\n",
       "<svg xmlns=\"http://www.w3.org/2000/svg\" height=\"24px\"viewBox=\"0 0 24 24\"\n",
       "     width=\"24px\">\n",
       "    <g>\n",
       "        <path d=\"M19 3H5c-1.1 0-2 .9-2 2v14c0 1.1.9 2 2 2h14c1.1 0 2-.9 2-2V5c0-1.1-.9-2-2-2zM9 17H7v-7h2v7zm4 0h-2V7h2v10zm4 0h-2v-4h2v4z\"/>\n",
       "    </g>\n",
       "</svg>\n",
       "  </button>\n",
       "\n",
       "<style>\n",
       "  .colab-df-quickchart {\n",
       "      --bg-color: #E8F0FE;\n",
       "      --fill-color: #1967D2;\n",
       "      --hover-bg-color: #E2EBFA;\n",
       "      --hover-fill-color: #174EA6;\n",
       "      --disabled-fill-color: #AAA;\n",
       "      --disabled-bg-color: #DDD;\n",
       "  }\n",
       "\n",
       "  [theme=dark] .colab-df-quickchart {\n",
       "      --bg-color: #3B4455;\n",
       "      --fill-color: #D2E3FC;\n",
       "      --hover-bg-color: #434B5C;\n",
       "      --hover-fill-color: #FFFFFF;\n",
       "      --disabled-bg-color: #3B4455;\n",
       "      --disabled-fill-color: #666;\n",
       "  }\n",
       "\n",
       "  .colab-df-quickchart {\n",
       "    background-color: var(--bg-color);\n",
       "    border: none;\n",
       "    border-radius: 50%;\n",
       "    cursor: pointer;\n",
       "    display: none;\n",
       "    fill: var(--fill-color);\n",
       "    height: 32px;\n",
       "    padding: 0;\n",
       "    width: 32px;\n",
       "  }\n",
       "\n",
       "  .colab-df-quickchart:hover {\n",
       "    background-color: var(--hover-bg-color);\n",
       "    box-shadow: 0 1px 2px rgba(60, 64, 67, 0.3), 0 1px 3px 1px rgba(60, 64, 67, 0.15);\n",
       "    fill: var(--button-hover-fill-color);\n",
       "  }\n",
       "\n",
       "  .colab-df-quickchart-complete:disabled,\n",
       "  .colab-df-quickchart-complete:disabled:hover {\n",
       "    background-color: var(--disabled-bg-color);\n",
       "    fill: var(--disabled-fill-color);\n",
       "    box-shadow: none;\n",
       "  }\n",
       "\n",
       "  .colab-df-spinner {\n",
       "    border: 2px solid var(--fill-color);\n",
       "    border-color: transparent;\n",
       "    border-bottom-color: var(--fill-color);\n",
       "    animation:\n",
       "      spin 1s steps(1) infinite;\n",
       "  }\n",
       "\n",
       "  @keyframes spin {\n",
       "    0% {\n",
       "      border-color: transparent;\n",
       "      border-bottom-color: var(--fill-color);\n",
       "      border-left-color: var(--fill-color);\n",
       "    }\n",
       "    20% {\n",
       "      border-color: transparent;\n",
       "      border-left-color: var(--fill-color);\n",
       "      border-top-color: var(--fill-color);\n",
       "    }\n",
       "    30% {\n",
       "      border-color: transparent;\n",
       "      border-left-color: var(--fill-color);\n",
       "      border-top-color: var(--fill-color);\n",
       "      border-right-color: var(--fill-color);\n",
       "    }\n",
       "    40% {\n",
       "      border-color: transparent;\n",
       "      border-right-color: var(--fill-color);\n",
       "      border-top-color: var(--fill-color);\n",
       "    }\n",
       "    60% {\n",
       "      border-color: transparent;\n",
       "      border-right-color: var(--fill-color);\n",
       "    }\n",
       "    80% {\n",
       "      border-color: transparent;\n",
       "      border-right-color: var(--fill-color);\n",
       "      border-bottom-color: var(--fill-color);\n",
       "    }\n",
       "    90% {\n",
       "      border-color: transparent;\n",
       "      border-bottom-color: var(--fill-color);\n",
       "    }\n",
       "  }\n",
       "</style>\n",
       "\n",
       "  <script>\n",
       "    async function quickchart(key) {\n",
       "      const quickchartButtonEl =\n",
       "        document.querySelector('#' + key + ' button');\n",
       "      quickchartButtonEl.disabled = true;  // To prevent multiple clicks.\n",
       "      quickchartButtonEl.classList.add('colab-df-spinner');\n",
       "      try {\n",
       "        const charts = await google.colab.kernel.invokeFunction(\n",
       "            'suggestCharts', [key], {});\n",
       "      } catch (error) {\n",
       "        console.error('Error during call to suggestCharts:', error);\n",
       "      }\n",
       "      quickchartButtonEl.classList.remove('colab-df-spinner');\n",
       "      quickchartButtonEl.classList.add('colab-df-quickchart-complete');\n",
       "    }\n",
       "    (() => {\n",
       "      let quickchartButtonEl =\n",
       "        document.querySelector('#df-323efdd9-5f19-478f-ab30-98dac6124cc0 button');\n",
       "      quickchartButtonEl.style.display =\n",
       "        google.colab.kernel.accessAllowed ? 'block' : 'none';\n",
       "    })();\n",
       "  </script>\n",
       "</div>\n",
       "    </div>\n",
       "  </div>\n"
      ],
      "text/plain": [
       "      TV  Radio  Newspaper  Sales  Sales_pred\n",
       "0   97.5    7.6        7.2    9.7    8.882060\n",
       "1  286.0   13.9        3.7   15.9   19.000003\n",
       "2  197.6    3.5        5.9   11.7   12.871302\n",
       "3  224.0    2.4       15.6   11.6   13.893769\n",
       "4  193.2   18.4       65.7   15.2   15.273020"
      ]
     },
     "execution_count": 44,
     "metadata": {},
     "output_type": "execute_result"
    }
   ],
   "source": [
    "x_test = x_test.reset_index(drop=True)\n",
    "y_test = y_test.reset_index(drop=True)\n",
    "\n",
    "lm.pred_data = pd.concat([x_test,y_test], axis= 1)\n",
    "\n",
    "lm.pred_data[\"Sales_pred\"] = lm.pred\n",
    "lm.pred_data.head()"
   ]
  },
  {
   "cell_type": "code",
   "execution_count": 64,
   "metadata": {
    "colab": {
     "base_uri": "https://localhost:8080/",
     "height": 301
    },
    "executionInfo": {
     "elapsed": 790,
     "status": "ok",
     "timestamp": 1696306131777,
     "user": {
      "displayName": "ccc flkwerkdai",
      "userId": "13507850890638580947"
     },
     "user_tz": -540
    },
    "id": "M7LctqQUrvSx",
    "outputId": "0b6c0b3a-01da-4b99-f426-a2cfffc910d6"
   },
   "outputs": [
    {
     "data": {
      "image/png": "[encoded data removed]",
      "text/plain": [
       "<Figure size 1200x400 with 3 Axes>"
      ]
     },
     "metadata": {},
     "output_type": "display_data"
    }
   ],
   "source": [
    "# | code-fold : true\n",
    "fig, axes = plt.subplots(1,3, figsize =(12,4))\n",
    "\n",
    "x_col = lm.pred_data.columns[0:3].tolist()\n",
    "for i in range(3) :\n",
    "    axes[i].plot(lm.pred_data[x_col[i]], y_test, \".r\", label = r\"$(x,y)$\",alpha=0.3)\n",
    "    axes[i].plot(lm.pred_data[x_col[i]], lm.pred, \".b\", label = r\"$(x,\\hat y)$\")\n",
    "    axes[i].set_title(x_col[i] + \", Sales\")\n",
    "    axes[i].legend()"
   ]
  },
  {
   "cell_type": "markdown",
   "metadata": {
    "id": "ZDdZtFC9uSKz"
   },
   "source": [
    "`-` 결과 요약"
   ]
  },
  {
   "cell_type": "code",
   "execution_count": 66,
   "metadata": {
    "colab": {
     "base_uri": "https://localhost:8080/"
    },
    "executionInfo": {
     "elapsed": 5,
     "status": "ok",
     "timestamp": 1696306195219,
     "user": {
      "displayName": "ccc flkwerkdai",
      "userId": "13507850890638580947"
     },
     "user_tz": -540
    },
    "id": "DYV_s8G5ugFb",
    "outputId": "39e0f2ac-e959-4e05-8730-b45c03fea681"
   },
   "outputs": [
    {
     "name": "stdout",
     "output_type": "stream",
     "text": [
      "RMSE  : 1.5547807224924604\n",
      "MAE   : 1.2573619368638342\n",
      "MAPE  : 0.11717490489730135\n"
     ]
    }
   ],
   "source": [
    "print(f'RMSE  : {mean_squared_error(y_test, lm.pred, squared=False)}')\n",
    "print(f'MAE   : {mean_absolute_error(y_test, lm.pred)}')\n",
    "print(f'MAPE  : {mean_absolute_percentage_error(y_test, lm.pred)}')"
   ]
  },
  {
   "cell_type": "markdown",
   "metadata": {
    "id": "SNn8JyMauruc"
   },
   "source": [
    "***"
   ]
  },
  {
   "cell_type": "markdown",
   "metadata": {
    "id": "dcDHtzHAuqrB"
   },
   "source": [
    "# 딥러닝 모델링"
   ]
  },
  {
   "cell_type": "markdown",
   "metadata": {
    "id": "hfy-Sd14uv-_"
   },
   "source": [
    "## (1) 전처리"
   ]
  },
  {
   "cell_type": "code",
   "execution_count": 68,
   "metadata": {
    "executionInfo": {
     "elapsed": 2,
     "status": "ok",
     "timestamp": 1696306274989,
     "user": {
      "displayName": "ccc flkwerkdai",
      "userId": "13507850890638580947"
     },
     "user_tz": -540
    },
    "id": "teto_WzPux9x"
   },
   "outputs": [],
   "source": [
    "scaler = MinMaxScaler()\n",
    "x_train = scaler.fit_transform(x_train)\n",
    "x_test = scaler.fit_transform(x_test)"
   ]
  },
  {
   "cell_type": "markdown",
   "metadata": {
    "id": "Mpj_Q83wu6PS"
   },
   "source": [
    "## (2) import"
   ]
  },
  {
   "cell_type": "code",
   "execution_count": 69,
   "metadata": {
    "executionInfo": {
     "elapsed": 2,
     "status": "ok",
     "timestamp": 1696306291356,
     "user": {
      "displayName": "ccc flkwerkdai",
      "userId": "13507850890638580947"
     },
     "user_tz": -540
    },
    "id": "xs4lUz7ju82u"
   },
   "outputs": [],
   "source": [
    "from keras.models import Sequential\n",
    "from keras.layers import Dense\n",
    "from keras.backend import clear_session"
   ]
  },
  {
   "cell_type": "markdown",
   "metadata": {
    "id": "-lRrdLlOu94W"
   },
   "source": [
    "## (3) 모델 선언"
   ]
  },
  {
   "cell_type": "code",
   "execution_count": 70,
   "metadata": {
    "executionInfo": {
     "elapsed": 2,
     "status": "ok",
     "timestamp": 1696306319694,
     "user": {
      "displayName": "ccc flkwerkdai",
      "userId": "13507850890638580947"
     },
     "user_tz": -540
    },
    "id": "EGdfVpawu_0L"
   },
   "outputs": [],
   "source": [
    "n_features = x_train.shape[1] ## 컬럼 개수"
   ]
  },
  {
   "cell_type": "code",
   "execution_count": 71,
   "metadata": {
    "colab": {
     "base_uri": "https://localhost:8080/"
    },
    "executionInfo": {
     "elapsed": 3501,
     "status": "ok",
     "timestamp": 1696306377925,
     "user": {
      "displayName": "ccc flkwerkdai",
      "userId": "13507850890638580947"
     },
     "user_tz": -540
    },
    "id": "_W6xXn6zvE_q",
    "outputId": "ab5b631a-2e37-4170-b161-3c5a2ebd24c8"
   },
   "outputs": [
    {
     "name": "stdout",
     "output_type": "stream",
     "text": [
      "Model: \"sequential\"\n",
      "_________________________________________________________________\n",
      " Layer (type)                Output Shape              Param #   \n",
      "=================================================================\n",
      " dense (Dense)               (None, 1)                 4         \n",
      "                                                                 \n",
      "=================================================================\n",
      "Total params: 4 (16.00 Byte)\n",
      "Trainable params: 4 (16.00 Byte)\n",
      "Non-trainable params: 0 (0.00 Byte)\n",
      "_________________________________________________________________\n"
     ]
    }
   ],
   "source": [
    "# 메모리 정리\n",
    "clear_session()\n",
    "\n",
    "# Sequential 타입 모델 선언\n",
    "model = Sequential(Dense(1, input_shape = (n_features,)))\n",
    "\n",
    "model.summary()"
   ]
  },
  {
   "cell_type": "markdown",
   "metadata": {
    "id": "CPy5F4wLvZsa"
   },
   "source": [
    "`-` 초기 셋팅된 파라미터 값을 살펴보자.\n",
    "\n",
    "* 일단 아래와 같은 값으로 기본 셋팅이 되어있다..."
   ]
  },
  {
   "cell_type": "code",
   "execution_count": 134,
   "metadata": {
    "colab": {
     "base_uri": "https://localhost:8080/"
    },
    "executionInfo": {
     "elapsed": 3,
     "status": "ok",
     "timestamp": 1696307425988,
     "user": {
      "displayName": "ccc flkwerkdai",
      "userId": "13507850890638580947"
     },
     "user_tz": -540
    },
    "id": "H6Rg2Ta8zRG8",
    "outputId": "22390dd2-f419-446c-dcc8-1df6ea83c099"
   },
   "outputs": [
    {
     "data": {
      "text/plain": [
       "[<tf.Variable 'dense/kernel:0' shape=(3, 1) dtype=float32, numpy=\n",
       " array([[ 0.21143973],\n",
       "        [-0.36714107],\n",
       "        [ 1.0211834 ]], dtype=float32)>,\n",
       " <tf.Variable 'dense/bias:0' shape=(1,) dtype=float32, numpy=array([0.], dtype=float32)>]"
      ]
     },
     "execution_count": 134,
     "metadata": {},
     "output_type": "execute_result"
    }
   ],
   "source": [
    "model.weights"
   ]
  },
  {
   "cell_type": "markdown",
   "metadata": {
    "id": "WJUnYgBy0Jxs"
   },
   "source": [
    "`-` 일단 초기셋팅한값으로 test data를 적합시 얼만큼 잘 예측하는지 시각화 해보자.."
   ]
  },
  {
   "cell_type": "code",
   "execution_count": 109,
   "metadata": {
    "executionInfo": {
     "elapsed": 2,
     "status": "ok",
     "timestamp": 1696307156330,
     "user": {
      "displayName": "ccc flkwerkdai",
      "userId": "13507850890638580947"
     },
     "user_tz": -540
    },
    "id": "NBQIGfEgyQYa"
   },
   "outputs": [],
   "source": [
    "import tensorflow.experimental.numpy as tnp\n",
    "tnp.experimental_enable_numpy_behavior() ## tnf 를 numpy 처럼 사용할 수 있도록 해줌"
   ]
  },
  {
   "cell_type": "markdown",
   "metadata": {
    "id": "8Mly5MWQ0WNA"
   },
   "source": [
    "`-` 일단 $X$를 우리가 잘 알고 있는 회귀 분석 형태로 바꿔주고 $y_{init}$를 예측"
   ]
  },
  {
   "cell_type": "markdown",
   "metadata": {
    "id": "dnY4YyJK0dVJ"
   },
   "source": [
    "$$\\bf \\hat {y}_{init} = X \\bf{\\hat {\\beta}_{init}}$$"
   ]
  },
  {
   "cell_type": "code",
   "execution_count": 138,
   "metadata": {
    "executionInfo": {
     "elapsed": 2,
     "status": "ok",
     "timestamp": 1696307485720,
     "user": {
      "displayName": "ccc flkwerkdai",
      "userId": "13507850890638580947"
     },
     "user_tz": -540
    },
    "id": "VwFOfnmqvTmE"
   },
   "outputs": [],
   "source": [
    "w_init = np.concatenate([tnp.array(model.weights[1]).reshape(1,1),\n",
    "                         tnp.array(model.weights[0])],axis = 0)\n",
    "\n",
    "x_test_matrix = np.concatenate([np.ones(x_test.shape[0]).reshape(-1,1),\n",
    "                                 x_test],axis = 1)\n",
    "\n",
    "y_pred_init = x_test_matrix @ w_init"
   ]
  },
  {
   "cell_type": "code",
   "execution_count": 139,
   "metadata": {
    "executionInfo": {
     "elapsed": 3,
     "status": "ok",
     "timestamp": 1696307490367,
     "user": {
      "displayName": "ccc flkwerkdai",
      "userId": "13507850890638580947"
     },
     "user_tz": -540
    },
    "id": "O2LyJ8gWxuKk"
   },
   "outputs": [],
   "source": [
    "y_pred_init = x_test_matrix @ w_init"
   ]
  },
  {
   "cell_type": "markdown",
   "metadata": {
    "id": "ETmtMJgS0tFN"
   },
   "source": [
    "`-` 초기값이라 그런지 잘 예측하는 것 같지는 않음"
   ]
  },
  {
   "cell_type": "code",
   "execution_count": 147,
   "metadata": {
    "colab": {
     "base_uri": "https://localhost:8080/",
     "height": 395
    },
    "executionInfo": {
     "elapsed": 730,
     "status": "ok",
     "timestamp": 1696307688137,
     "user": {
      "displayName": "ccc flkwerkdai",
      "userId": "13507850890638580947"
     },
     "user_tz": -540
    },
    "id": "Tx5_gzpbzHtf",
    "outputId": "241f8e1e-ccbb-426c-bfb7-b8d63bd5c266"
   },
   "outputs": [
    {
     "data": {
      "image/png": "[encoded data removed]",
      "text/plain": [
       "<Figure size 400x400 with 1 Axes>"
      ]
     },
     "metadata": {},
     "output_type": "display_data"
    }
   ],
   "source": [
    "# | code-fold : true\n",
    "plt.figure(figsize = (4,4))\n",
    "plt.plot(y_test,label = r\"$(y_{test})$\",alpha = 0.5)\n",
    "plt.plot(y_pred_init,label = r\"$(\\hat {y}_{init})$\",alpha = 0.6)\n",
    "plt.title(r\"($y_{test}, \\hat {y}_{init}$)\")\n",
    "plt.legend()\n",
    "plt.show()"
   ]
  },
  {
   "cell_type": "markdown",
   "metadata": {
    "id": "Vwkc9Lem0yhm"
   },
   "source": [
    "`-` 이제 keras에서 제공하는 compile과 fit을 이용하여 모델 적합후 비교해보자"
   ]
  },
  {
   "cell_type": "code",
   "execution_count": 148,
   "metadata": {
    "colab": {
     "base_uri": "https://localhost:8080/"
    },
    "executionInfo": {
     "elapsed": 7300,
     "status": "ok",
     "timestamp": 1696307916884,
     "user": {
      "displayName": "ccc flkwerkdai",
      "userId": "13507850890638580947"
     },
     "user_tz": -540
    },
    "id": "zdkR6d1009z9",
    "outputId": "274259e4-7a7d-4f4c-c124-9987988cd4fa"
   },
   "outputs": [
    {
     "name": "stdout",
     "output_type": "stream",
     "text": [
      "5/5 [==============================] - 6s 5ms/step - loss: 219.7330\n"
     ]
    },
    {
     "data": {
      "text/plain": [
       "<keras.src.callbacks.History at 0x7ddedaf4cac0>"
      ]
     },
     "execution_count": 148,
     "metadata": {},
     "output_type": "execute_result"
    }
   ],
   "source": [
    "## compile\n",
    "model.compile(optimizer = \"adam\", loss = \"mse\")\n",
    "\n",
    "## fit\n",
    "model.fit(x_train, y_train)"
   ]
  },
  {
   "cell_type": "markdown",
   "metadata": {
    "id": "ZuG5a8bS1M4D"
   },
   "source": [
    "`-` 예측값 저장 (기본 epoch = 5 이므로 y_pred_5라고 저장)"
   ]
  },
  {
   "cell_type": "code",
   "execution_count": 149,
   "metadata": {
    "colab": {
     "base_uri": "https://localhost:8080/"
    },
    "executionInfo": {
     "elapsed": 4,
     "status": "ok",
     "timestamp": 1696307979822,
     "user": {
      "displayName": "ccc flkwerkdai",
      "userId": "13507850890638580947"
     },
     "user_tz": -540
    },
    "id": "2kbBgHlv1PkS",
    "outputId": "344858c4-fe8c-4035-b85e-e5dfc3a6c771"
   },
   "outputs": [
    {
     "name": "stdout",
     "output_type": "stream",
     "text": [
      "2/2 [==============================] - 0s 9ms/step\n"
     ]
    }
   ],
   "source": [
    "y_pred_5 = model.predict(x_test)"
   ]
  },
  {
   "cell_type": "code",
   "execution_count": 152,
   "metadata": {
    "executionInfo": {
     "elapsed": 2,
     "status": "ok",
     "timestamp": 1696308104492,
     "user": {
      "displayName": "ccc flkwerkdai",
      "userId": "13507850890638580947"
     },
     "user_tz": -540
    },
    "id": "J2aZwcuM1eFX"
   },
   "outputs": [],
   "source": [
    "#model.predict?"
   ]
  },
  {
   "cell_type": "markdown",
   "metadata": {
    "id": "ZYqcxBZh2FJ0"
   },
   "source": [
    "`-` 여전히 성능이 쓰레기임"
   ]
  },
  {
   "cell_type": "code",
   "execution_count": 153,
   "metadata": {
    "colab": {
     "base_uri": "https://localhost:8080/",
     "height": 395
    },
    "executionInfo": {
     "elapsed": 5,
     "status": "ok",
     "timestamp": 1696308136423,
     "user": {
      "displayName": "ccc flkwerkdai",
      "userId": "13507850890638580947"
     },
     "user_tz": -540
    },
    "id": "izfc1hH81aMp",
    "outputId": "801f8401-74a2-45ef-f72d-a1509b434c83"
   },
   "outputs": [
    {
     "data": {
      "image/png": "[encoded data removed]",
      "text/plain": [
       "<Figure size 400x400 with 1 Axes>"
      ]
     },
     "metadata": {},
     "output_type": "display_data"
    }
   ],
   "source": [
    "# | code-fold : true\n",
    "plt.figure(figsize = (4,4))\n",
    "plt.plot(y_test,label = r\"$(y_{test})$\",alpha = 0.5)\n",
    "plt.plot(y_pred_init,label = r\"$(\\hat {y}_{init})$\",alpha = 0.6)\n",
    "plt.plot(y_pred_5,label = r\"$(\\hat {y}_{5})$\",alpha = 0.6)\n",
    "plt.title(r\"($y_{test}, \\hat {y}_{init}, \\hat {y}_{5}$)\")\n",
    "plt.legend()\n",
    "plt.show()"
   ]
  },
  {
   "cell_type": "markdown",
   "metadata": {
    "id": "Pr80hDgl2I4v"
   },
   "source": [
    "`-` epochs를 늘려서 다시 예측해보자"
   ]
  },
  {
   "cell_type": "code",
   "execution_count": 160,
   "metadata": {
    "executionInfo": {
     "elapsed": 3,
     "status": "ok",
     "timestamp": 1696308339309,
     "user": {
      "displayName": "ccc flkwerkdai",
      "userId": "13507850890638580947"
     },
     "user_tz": -540
    },
    "id": "Bk_b4Y5o2w3P"
   },
   "outputs": [],
   "source": [
    "model.fit?"
   ]
  },
  {
   "cell_type": "code",
   "execution_count": 161,
   "metadata": {
    "executionInfo": {
     "elapsed": 3,
     "status": "ok",
     "timestamp": 1696308383128,
     "user": {
      "displayName": "ccc flkwerkdai",
      "userId": "13507850890638580947"
     },
     "user_tz": -540
    },
    "id": "OVJdIW5x27a5"
   },
   "outputs": [],
   "source": [
    "model.compile?"
   ]
  },
  {
   "cell_type": "code",
   "execution_count": 162,
   "metadata": {
    "colab": {
     "base_uri": "https://localhost:8080/"
    },
    "executionInfo": {
     "elapsed": 41703,
     "status": "ok",
     "timestamp": 1696308493344,
     "user": {
      "displayName": "ccc flkwerkdai",
      "userId": "13507850890638580947"
     },
     "user_tz": -540
    },
    "id": "C-HTilrF2G90",
    "outputId": "b043d670-a7e1-456c-cd7d-5c32a46e9108"
   },
   "outputs": [
    {
     "name": "stdout",
     "output_type": "stream",
     "text": [
      "Epoch 1/1000\n",
      "5/5 [==============================] - 1s 6ms/step - loss: 109.4172\n",
      "Epoch 2/1000\n",
      "5/5 [==============================] - 0s 5ms/step - loss: 109.1868\n",
      "Epoch 3/1000\n",
      "5/5 [==============================] - 0s 5ms/step - loss: 108.9626\n",
      "Epoch 4/1000\n",
      "5/5 [==============================] - 0s 5ms/step - loss: 108.7299\n",
      "Epoch 5/1000\n",
      "5/5 [==============================] - 0s 5ms/step - loss: 108.4981\n",
      "Epoch 6/1000\n",
      "5/5 [==============================] - 0s 5ms/step - loss: 108.2746\n",
      "Epoch 7/1000\n",
      "5/5 [==============================] - 0s 5ms/step - loss: 108.0486\n",
      "Epoch 8/1000\n",
      "5/5 [==============================] - 0s 7ms/step - loss: 107.8185\n",
      "Epoch 9/1000\n",
      "5/5 [==============================] - 0s 7ms/step - loss: 107.6013\n",
      "Epoch 10/1000\n",
      "5/5 [==============================] - 0s 6ms/step - loss: 107.3712\n",
      "Epoch 11/1000\n",
      "5/5 [==============================] - 0s 5ms/step - loss: 107.1475\n",
      "Epoch 12/1000\n",
      "5/5 [==============================] - 0s 5ms/step - loss: 106.9191\n",
      "Epoch 13/1000\n",
      "5/5 [==============================] - 0s 5ms/step - loss: 106.6953\n",
      "Epoch 14/1000\n",
      "5/5 [==============================] - 0s 4ms/step - loss: 106.4616\n",
      "Epoch 15/1000\n",
      "5/5 [==============================] - 0s 5ms/step - loss: 106.2446\n",
      "Epoch 16/1000\n",
      "5/5 [==============================] - 0s 7ms/step - loss: 106.0105\n",
      "Epoch 17/1000\n",
      "5/5 [==============================] - 0s 6ms/step - loss: 105.7884\n",
      "Epoch 18/1000\n",
      "5/5 [==============================] - 0s 5ms/step - loss: 105.5647\n",
      "Epoch 19/1000\n",
      "5/5 [==============================] - 0s 5ms/step - loss: 105.3465\n",
      "Epoch 20/1000\n",
      "5/5 [==============================] - 0s 5ms/step - loss: 105.1217\n",
      "Epoch 21/1000\n",
      "5/5 [==============================] - 0s 5ms/step - loss: 104.8943\n",
      "Epoch 22/1000\n",
      "5/5 [==============================] - 0s 6ms/step - loss: 104.6774\n",
      "Epoch 23/1000\n",
      "5/5 [==============================] - 0s 7ms/step - loss: 104.4532\n",
      "Epoch 24/1000\n",
      "5/5 [==============================] - 0s 5ms/step - loss: 104.2285\n",
      "Epoch 25/1000\n",
      "5/5 [==============================] - 0s 6ms/step - loss: 104.0009\n",
      "Epoch 26/1000\n",
      "5/5 [==============================] - 0s 8ms/step - loss: 103.7801\n",
      "Epoch 27/1000\n",
      "5/5 [==============================] - 0s 5ms/step - loss: 103.5532\n",
      "Epoch 28/1000\n",
      "5/5 [==============================] - 0s 5ms/step - loss: 103.3343\n",
      "Epoch 29/1000\n",
      "5/5 [==============================] - 0s 5ms/step - loss: 103.1174\n",
      "Epoch 30/1000\n",
      "5/5 [==============================] - 0s 5ms/step - loss: 102.8944\n",
      "Epoch 31/1000\n",
      "5/5 [==============================] - 0s 4ms/step - loss: 102.6777\n",
      "Epoch 32/1000\n",
      "5/5 [==============================] - 0s 4ms/step - loss: 102.4613\n",
      "Epoch 33/1000\n",
      "5/5 [==============================] - 0s 6ms/step - loss: 102.2449\n",
      "Epoch 34/1000\n",
      "5/5 [==============================] - 0s 7ms/step - loss: 102.0379\n",
      "Epoch 35/1000\n",
      "5/5 [==============================] - 0s 6ms/step - loss: 101.8212\n",
      "Epoch 36/1000\n",
      "5/5 [==============================] - 0s 8ms/step - loss: 101.6037\n",
      "Epoch 37/1000\n",
      "5/5 [==============================] - 0s 6ms/step - loss: 101.4005\n",
      "Epoch 38/1000\n",
      "5/5 [==============================] - 0s 6ms/step - loss: 101.1897\n",
      "Epoch 39/1000\n",
      "5/5 [==============================] - 0s 5ms/step - loss: 100.9803\n",
      "Epoch 40/1000\n",
      "5/5 [==============================] - 0s 7ms/step - loss: 100.7659\n",
      "Epoch 41/1000\n",
      "5/5 [==============================] - 0s 7ms/step - loss: 100.5528\n",
      "Epoch 42/1000\n",
      "5/5 [==============================] - 0s 7ms/step - loss: 100.3409\n",
      "Epoch 43/1000\n",
      "5/5 [==============================] - 0s 6ms/step - loss: 100.1284\n",
      "Epoch 44/1000\n",
      "5/5 [==============================] - 0s 7ms/step - loss: 99.9098\n",
      "Epoch 45/1000\n",
      "5/5 [==============================] - 0s 7ms/step - loss: 99.7002\n",
      "Epoch 46/1000\n",
      "5/5 [==============================] - 0s 7ms/step - loss: 99.4929\n",
      "Epoch 47/1000\n",
      "5/5 [==============================] - 0s 6ms/step - loss: 99.2754\n",
      "Epoch 48/1000\n",
      "5/5 [==============================] - 0s 6ms/step - loss: 99.0601\n",
      "Epoch 49/1000\n",
      "5/5 [==============================] - 0s 7ms/step - loss: 98.8559\n",
      "Epoch 50/1000\n",
      "5/5 [==============================] - 0s 7ms/step - loss: 98.6416\n",
      "Epoch 51/1000\n",
      "5/5 [==============================] - 0s 8ms/step - loss: 98.4370\n",
      "Epoch 52/1000\n",
      "5/5 [==============================] - 0s 6ms/step - loss: 98.2309\n",
      "Epoch 53/1000\n",
      "5/5 [==============================] - 0s 6ms/step - loss: 98.0138\n",
      "Epoch 54/1000\n",
      "5/5 [==============================] - 0s 6ms/step - loss: 97.8093\n",
      "Epoch 55/1000\n",
      "5/5 [==============================] - 0s 6ms/step - loss: 97.6044\n",
      "Epoch 56/1000\n",
      "5/5 [==============================] - 0s 6ms/step - loss: 97.3957\n",
      "Epoch 57/1000\n",
      "5/5 [==============================] - 0s 6ms/step - loss: 97.1901\n",
      "Epoch 58/1000\n",
      "5/5 [==============================] - 0s 4ms/step - loss: 96.9841\n",
      "Epoch 59/1000\n",
      "5/5 [==============================] - 0s 5ms/step - loss: 96.7849\n",
      "Epoch 60/1000\n",
      "5/5 [==============================] - 0s 6ms/step - loss: 96.5910\n",
      "Epoch 61/1000\n",
      "5/5 [==============================] - 0s 7ms/step - loss: 96.3754\n",
      "Epoch 62/1000\n",
      "5/5 [==============================] - 0s 5ms/step - loss: 96.1752\n",
      "Epoch 63/1000\n",
      "5/5 [==============================] - 0s 7ms/step - loss: 95.9621\n",
      "Epoch 64/1000\n",
      "5/5 [==============================] - 0s 6ms/step - loss: 95.7588\n",
      "Epoch 65/1000\n",
      "5/5 [==============================] - 0s 6ms/step - loss: 95.5547\n",
      "Epoch 66/1000\n",
      "5/5 [==============================] - 0s 7ms/step - loss: 95.3460\n",
      "Epoch 67/1000\n",
      "5/5 [==============================] - 0s 6ms/step - loss: 95.1421\n",
      "Epoch 68/1000\n",
      "5/5 [==============================] - 0s 6ms/step - loss: 94.9393\n",
      "Epoch 69/1000\n",
      "5/5 [==============================] - 0s 8ms/step - loss: 94.7284\n",
      "Epoch 70/1000\n",
      "5/5 [==============================] - 0s 6ms/step - loss: 94.5297\n",
      "Epoch 71/1000\n",
      "5/5 [==============================] - 0s 7ms/step - loss: 94.3307\n",
      "Epoch 72/1000\n",
      "5/5 [==============================] - 0s 8ms/step - loss: 94.1278\n",
      "Epoch 73/1000\n",
      "5/5 [==============================] - 0s 7ms/step - loss: 93.9289\n",
      "Epoch 74/1000\n",
      "5/5 [==============================] - 0s 6ms/step - loss: 93.7272\n",
      "Epoch 75/1000\n",
      "5/5 [==============================] - 0s 7ms/step - loss: 93.5285\n",
      "Epoch 76/1000\n",
      "5/5 [==============================] - 0s 6ms/step - loss: 93.3294\n",
      "Epoch 77/1000\n",
      "5/5 [==============================] - 0s 7ms/step - loss: 93.1322\n",
      "Epoch 78/1000\n",
      "5/5 [==============================] - 0s 7ms/step - loss: 92.9389\n",
      "Epoch 79/1000\n",
      "5/5 [==============================] - 0s 6ms/step - loss: 92.7353\n",
      "Epoch 80/1000\n",
      "5/5 [==============================] - 0s 8ms/step - loss: 92.5323\n",
      "Epoch 81/1000\n",
      "5/5 [==============================] - 0s 11ms/step - loss: 92.3321\n",
      "Epoch 82/1000\n",
      "5/5 [==============================] - 0s 7ms/step - loss: 92.1339\n",
      "Epoch 83/1000\n",
      "5/5 [==============================] - 0s 8ms/step - loss: 91.9349\n",
      "Epoch 84/1000\n",
      "5/5 [==============================] - 0s 6ms/step - loss: 91.7386\n",
      "Epoch 85/1000\n",
      "5/5 [==============================] - 0s 9ms/step - loss: 91.5411\n",
      "Epoch 86/1000\n",
      "5/5 [==============================] - 0s 6ms/step - loss: 91.3418\n",
      "Epoch 87/1000\n",
      "5/5 [==============================] - 0s 5ms/step - loss: 91.1438\n",
      "Epoch 88/1000\n",
      "5/5 [==============================] - 0s 5ms/step - loss: 90.9459\n",
      "Epoch 89/1000\n",
      "5/5 [==============================] - 0s 7ms/step - loss: 90.7521\n",
      "Epoch 90/1000\n",
      "5/5 [==============================] - 0s 9ms/step - loss: 90.5549\n",
      "Epoch 91/1000\n",
      "5/5 [==============================] - 0s 8ms/step - loss: 90.3532\n",
      "Epoch 92/1000\n",
      "5/5 [==============================] - 0s 6ms/step - loss: 90.1659\n",
      "Epoch 93/1000\n",
      "5/5 [==============================] - 0s 5ms/step - loss: 89.9669\n",
      "Epoch 94/1000\n",
      "5/5 [==============================] - 0s 4ms/step - loss: 89.7709\n",
      "Epoch 95/1000\n",
      "5/5 [==============================] - 0s 4ms/step - loss: 89.5775\n",
      "Epoch 96/1000\n",
      "5/5 [==============================] - 0s 4ms/step - loss: 89.3882\n",
      "Epoch 97/1000\n",
      "5/5 [==============================] - 0s 9ms/step - loss: 89.1998\n",
      "Epoch 98/1000\n",
      "5/5 [==============================] - 0s 4ms/step - loss: 89.0053\n",
      "Epoch 99/1000\n",
      "5/5 [==============================] - 0s 5ms/step - loss: 88.8156\n",
      "Epoch 100/1000\n",
      "5/5 [==============================] - 0s 6ms/step - loss: 88.6220\n",
      "Epoch 101/1000\n",
      "5/5 [==============================] - 0s 5ms/step - loss: 88.4300\n",
      "Epoch 102/1000\n",
      "5/5 [==============================] - 0s 7ms/step - loss: 88.2422\n",
      "Epoch 103/1000\n",
      "5/5 [==============================] - 0s 13ms/step - loss: 88.0466\n",
      "Epoch 104/1000\n",
      "5/5 [==============================] - 0s 5ms/step - loss: 87.8566\n",
      "Epoch 105/1000\n",
      "5/5 [==============================] - 0s 5ms/step - loss: 87.6699\n",
      "Epoch 106/1000\n",
      "5/5 [==============================] - 0s 5ms/step - loss: 87.4792\n",
      "Epoch 107/1000\n",
      "5/5 [==============================] - 0s 6ms/step - loss: 87.2927\n",
      "Epoch 108/1000\n",
      "5/5 [==============================] - 0s 4ms/step - loss: 87.1079\n",
      "Epoch 109/1000\n",
      "5/5 [==============================] - 0s 9ms/step - loss: 86.9185\n",
      "Epoch 110/1000\n",
      "5/5 [==============================] - 0s 5ms/step - loss: 86.7362\n",
      "Epoch 111/1000\n",
      "5/5 [==============================] - 0s 5ms/step - loss: 86.5498\n",
      "Epoch 112/1000\n",
      "5/5 [==============================] - 0s 5ms/step - loss: 86.3623\n",
      "Epoch 113/1000\n",
      "5/5 [==============================] - 0s 5ms/step - loss: 86.1762\n",
      "Epoch 114/1000\n",
      "5/5 [==============================] - 0s 8ms/step - loss: 85.9827\n",
      "Epoch 115/1000\n",
      "5/5 [==============================] - 0s 9ms/step - loss: 85.8061\n",
      "Epoch 116/1000\n",
      "5/5 [==============================] - 0s 6ms/step - loss: 85.6136\n",
      "Epoch 117/1000\n",
      "5/5 [==============================] - 0s 4ms/step - loss: 85.4308\n",
      "Epoch 118/1000\n",
      "5/5 [==============================] - 0s 5ms/step - loss: 85.2473\n",
      "Epoch 119/1000\n",
      "5/5 [==============================] - 0s 4ms/step - loss: 85.0604\n",
      "Epoch 120/1000\n",
      "5/5 [==============================] - 0s 5ms/step - loss: 84.8720\n",
      "Epoch 121/1000\n",
      "5/5 [==============================] - 0s 4ms/step - loss: 84.6853\n",
      "Epoch 122/1000\n",
      "5/5 [==============================] - 0s 5ms/step - loss: 84.4953\n",
      "Epoch 123/1000\n",
      "5/5 [==============================] - 0s 4ms/step - loss: 84.3089\n",
      "Epoch 124/1000\n",
      "5/5 [==============================] - 0s 5ms/step - loss: 84.1167\n",
      "Epoch 125/1000\n",
      "5/5 [==============================] - 0s 4ms/step - loss: 83.9305\n",
      "Epoch 126/1000\n",
      "5/5 [==============================] - 0s 5ms/step - loss: 83.7400\n",
      "Epoch 127/1000\n",
      "5/5 [==============================] - 0s 6ms/step - loss: 83.5551\n",
      "Epoch 128/1000\n",
      "5/5 [==============================] - 0s 4ms/step - loss: 83.3687\n",
      "Epoch 129/1000\n",
      "5/5 [==============================] - 0s 4ms/step - loss: 83.1797\n",
      "Epoch 130/1000\n",
      "5/5 [==============================] - 0s 5ms/step - loss: 82.9989\n",
      "Epoch 131/1000\n",
      "5/5 [==============================] - 0s 4ms/step - loss: 82.8167\n",
      "Epoch 132/1000\n",
      "5/5 [==============================] - 0s 4ms/step - loss: 82.6315\n",
      "Epoch 133/1000\n",
      "5/5 [==============================] - 0s 6ms/step - loss: 82.4512\n",
      "Epoch 134/1000\n",
      "5/5 [==============================] - 0s 4ms/step - loss: 82.2664\n",
      "Epoch 135/1000\n",
      "5/5 [==============================] - 0s 4ms/step - loss: 82.0849\n",
      "Epoch 136/1000\n",
      "5/5 [==============================] - 0s 5ms/step - loss: 81.9010\n",
      "Epoch 137/1000\n",
      "5/5 [==============================] - 0s 5ms/step - loss: 81.7232\n",
      "Epoch 138/1000\n",
      "5/5 [==============================] - 0s 5ms/step - loss: 81.5365\n",
      "Epoch 139/1000\n",
      "5/5 [==============================] - 0s 4ms/step - loss: 81.3612\n",
      "Epoch 140/1000\n",
      "5/5 [==============================] - 0s 5ms/step - loss: 81.1757\n",
      "Epoch 141/1000\n",
      "5/5 [==============================] - 0s 4ms/step - loss: 80.9972\n",
      "Epoch 142/1000\n",
      "5/5 [==============================] - 0s 4ms/step - loss: 80.8143\n",
      "Epoch 143/1000\n",
      "5/5 [==============================] - 0s 4ms/step - loss: 80.6310\n",
      "Epoch 144/1000\n",
      "5/5 [==============================] - 0s 5ms/step - loss: 80.4510\n",
      "Epoch 145/1000\n",
      "5/5 [==============================] - 0s 5ms/step - loss: 80.2664\n",
      "Epoch 146/1000\n",
      "5/5 [==============================] - 0s 4ms/step - loss: 80.0901\n",
      "Epoch 147/1000\n",
      "5/5 [==============================] - 0s 5ms/step - loss: 79.9080\n",
      "Epoch 148/1000\n",
      "5/5 [==============================] - 0s 4ms/step - loss: 79.7365\n",
      "Epoch 149/1000\n",
      "5/5 [==============================] - 0s 5ms/step - loss: 79.5604\n",
      "Epoch 150/1000\n",
      "5/5 [==============================] - 0s 7ms/step - loss: 79.3853\n",
      "Epoch 151/1000\n",
      "5/5 [==============================] - 0s 5ms/step - loss: 79.2035\n",
      "Epoch 152/1000\n",
      "5/5 [==============================] - 0s 5ms/step - loss: 79.0299\n",
      "Epoch 153/1000\n",
      "5/5 [==============================] - 0s 5ms/step - loss: 78.8572\n",
      "Epoch 154/1000\n",
      "5/5 [==============================] - 0s 8ms/step - loss: 78.6763\n",
      "Epoch 155/1000\n",
      "5/5 [==============================] - 0s 6ms/step - loss: 78.5045\n",
      "Epoch 156/1000\n",
      "5/5 [==============================] - 0s 5ms/step - loss: 78.3235\n",
      "Epoch 157/1000\n",
      "5/5 [==============================] - 0s 5ms/step - loss: 78.1519\n",
      "Epoch 158/1000\n",
      "5/5 [==============================] - 0s 5ms/step - loss: 77.9853\n",
      "Epoch 159/1000\n",
      "5/5 [==============================] - 0s 6ms/step - loss: 77.8087\n",
      "Epoch 160/1000\n",
      "5/5 [==============================] - 0s 5ms/step - loss: 77.6422\n",
      "Epoch 161/1000\n",
      "5/5 [==============================] - 0s 8ms/step - loss: 77.4701\n",
      "Epoch 162/1000\n",
      "5/5 [==============================] - 0s 6ms/step - loss: 77.3006\n",
      "Epoch 163/1000\n",
      "5/5 [==============================] - 0s 5ms/step - loss: 77.1299\n",
      "Epoch 164/1000\n",
      "5/5 [==============================] - 0s 5ms/step - loss: 76.9655\n",
      "Epoch 165/1000\n",
      "5/5 [==============================] - 0s 5ms/step - loss: 76.7956\n",
      "Epoch 166/1000\n",
      "5/5 [==============================] - 0s 4ms/step - loss: 76.6254\n",
      "Epoch 167/1000\n",
      "5/5 [==============================] - 0s 4ms/step - loss: 76.4598\n",
      "Epoch 168/1000\n",
      "5/5 [==============================] - 0s 6ms/step - loss: 76.2882\n",
      "Epoch 169/1000\n",
      "5/5 [==============================] - 0s 6ms/step - loss: 76.1207\n",
      "Epoch 170/1000\n",
      "5/5 [==============================] - 0s 6ms/step - loss: 75.9494\n",
      "Epoch 171/1000\n",
      "5/5 [==============================] - 0s 6ms/step - loss: 75.7812\n",
      "Epoch 172/1000\n",
      "5/5 [==============================] - 0s 6ms/step - loss: 75.6123\n",
      "Epoch 173/1000\n",
      "5/5 [==============================] - 0s 6ms/step - loss: 75.4423\n",
      "Epoch 174/1000\n",
      "5/5 [==============================] - 0s 5ms/step - loss: 75.2715\n",
      "Epoch 175/1000\n",
      "5/5 [==============================] - 0s 5ms/step - loss: 75.1068\n",
      "Epoch 176/1000\n",
      "5/5 [==============================] - 0s 8ms/step - loss: 74.9383\n",
      "Epoch 177/1000\n",
      "5/5 [==============================] - 0s 6ms/step - loss: 74.7736\n",
      "Epoch 178/1000\n",
      "5/5 [==============================] - 0s 5ms/step - loss: 74.6112\n",
      "Epoch 179/1000\n",
      "5/5 [==============================] - 0s 5ms/step - loss: 74.4437\n",
      "Epoch 180/1000\n",
      "5/5 [==============================] - 0s 5ms/step - loss: 74.2781\n",
      "Epoch 181/1000\n",
      "5/5 [==============================] - 0s 5ms/step - loss: 74.1164\n",
      "Epoch 182/1000\n",
      "5/5 [==============================] - 0s 5ms/step - loss: 73.9501\n",
      "Epoch 183/1000\n",
      "5/5 [==============================] - 0s 4ms/step - loss: 73.7829\n",
      "Epoch 184/1000\n",
      "5/5 [==============================] - 0s 6ms/step - loss: 73.6218\n",
      "Epoch 185/1000\n",
      "5/5 [==============================] - 0s 5ms/step - loss: 73.4603\n",
      "Epoch 186/1000\n",
      "5/5 [==============================] - 0s 5ms/step - loss: 73.2937\n",
      "Epoch 187/1000\n",
      "5/5 [==============================] - 0s 5ms/step - loss: 73.1317\n",
      "Epoch 188/1000\n",
      "5/5 [==============================] - 0s 5ms/step - loss: 72.9703\n",
      "Epoch 189/1000\n",
      "5/5 [==============================] - 0s 9ms/step - loss: 72.8072\n",
      "Epoch 190/1000\n",
      "5/5 [==============================] - 0s 7ms/step - loss: 72.6443\n",
      "Epoch 191/1000\n",
      "5/5 [==============================] - 0s 5ms/step - loss: 72.4829\n",
      "Epoch 192/1000\n",
      "5/5 [==============================] - 0s 5ms/step - loss: 72.3209\n",
      "Epoch 193/1000\n",
      "5/5 [==============================] - 0s 7ms/step - loss: 72.1542\n",
      "Epoch 194/1000\n",
      "5/5 [==============================] - 0s 6ms/step - loss: 71.9928\n",
      "Epoch 195/1000\n",
      "5/5 [==============================] - 0s 5ms/step - loss: 71.8223\n",
      "Epoch 196/1000\n",
      "5/5 [==============================] - 0s 5ms/step - loss: 71.6613\n",
      "Epoch 197/1000\n",
      "5/5 [==============================] - 0s 5ms/step - loss: 71.4974\n",
      "Epoch 198/1000\n",
      "5/5 [==============================] - 0s 4ms/step - loss: 71.3324\n",
      "Epoch 199/1000\n",
      "5/5 [==============================] - 0s 5ms/step - loss: 71.1688\n",
      "Epoch 200/1000\n",
      "5/5 [==============================] - 0s 5ms/step - loss: 71.0114\n",
      "Epoch 201/1000\n",
      "5/5 [==============================] - 0s 5ms/step - loss: 70.8453\n",
      "Epoch 202/1000\n",
      "5/5 [==============================] - 0s 5ms/step - loss: 70.6870\n",
      "Epoch 203/1000\n",
      "5/5 [==============================] - 0s 5ms/step - loss: 70.5309\n",
      "Epoch 204/1000\n",
      "5/5 [==============================] - 0s 5ms/step - loss: 70.3735\n",
      "Epoch 205/1000\n",
      "5/5 [==============================] - 0s 4ms/step - loss: 70.2070\n",
      "Epoch 206/1000\n",
      "5/5 [==============================] - 0s 3ms/step - loss: 70.0521\n",
      "Epoch 207/1000\n",
      "5/5 [==============================] - 0s 4ms/step - loss: 69.8928\n",
      "Epoch 208/1000\n",
      "5/5 [==============================] - 0s 3ms/step - loss: 69.7288\n",
      "Epoch 209/1000\n",
      "5/5 [==============================] - 0s 4ms/step - loss: 69.5711\n",
      "Epoch 210/1000\n",
      "5/5 [==============================] - 0s 4ms/step - loss: 69.4174\n",
      "Epoch 211/1000\n",
      "5/5 [==============================] - 0s 6ms/step - loss: 69.2545\n",
      "Epoch 212/1000\n",
      "5/5 [==============================] - 0s 3ms/step - loss: 69.0938\n",
      "Epoch 213/1000\n",
      "5/5 [==============================] - 0s 3ms/step - loss: 68.9379\n",
      "Epoch 214/1000\n",
      "5/5 [==============================] - 0s 4ms/step - loss: 68.7842\n",
      "Epoch 215/1000\n",
      "5/5 [==============================] - 0s 4ms/step - loss: 68.6311\n",
      "Epoch 216/1000\n",
      "5/5 [==============================] - 0s 4ms/step - loss: 68.4770\n",
      "Epoch 217/1000\n",
      "5/5 [==============================] - 0s 3ms/step - loss: 68.3204\n",
      "Epoch 218/1000\n",
      "5/5 [==============================] - 0s 4ms/step - loss: 68.1703\n",
      "Epoch 219/1000\n",
      "5/5 [==============================] - 0s 4ms/step - loss: 68.0143\n",
      "Epoch 220/1000\n",
      "5/5 [==============================] - 0s 3ms/step - loss: 67.8609\n",
      "Epoch 221/1000\n",
      "5/5 [==============================] - 0s 4ms/step - loss: 67.7008\n",
      "Epoch 222/1000\n",
      "5/5 [==============================] - 0s 4ms/step - loss: 67.5489\n",
      "Epoch 223/1000\n",
      "5/5 [==============================] - 0s 4ms/step - loss: 67.3931\n",
      "Epoch 224/1000\n",
      "5/5 [==============================] - 0s 4ms/step - loss: 67.2387\n",
      "Epoch 225/1000\n",
      "5/5 [==============================] - 0s 6ms/step - loss: 67.0818\n",
      "Epoch 226/1000\n",
      "5/5 [==============================] - 0s 4ms/step - loss: 66.9349\n",
      "Epoch 227/1000\n",
      "5/5 [==============================] - 0s 3ms/step - loss: 66.7776\n",
      "Epoch 228/1000\n",
      "5/5 [==============================] - 0s 4ms/step - loss: 66.6269\n",
      "Epoch 229/1000\n",
      "5/5 [==============================] - 0s 4ms/step - loss: 66.4755\n",
      "Epoch 230/1000\n",
      "5/5 [==============================] - 0s 4ms/step - loss: 66.3197\n",
      "Epoch 231/1000\n",
      "5/5 [==============================] - 0s 4ms/step - loss: 66.1673\n",
      "Epoch 232/1000\n",
      "5/5 [==============================] - 0s 4ms/step - loss: 66.0209\n",
      "Epoch 233/1000\n",
      "5/5 [==============================] - 0s 4ms/step - loss: 65.8644\n",
      "Epoch 234/1000\n",
      "5/5 [==============================] - 0s 4ms/step - loss: 65.7159\n",
      "Epoch 235/1000\n",
      "5/5 [==============================] - 0s 5ms/step - loss: 65.5645\n",
      "Epoch 236/1000\n",
      "5/5 [==============================] - 0s 4ms/step - loss: 65.4146\n",
      "Epoch 237/1000\n",
      "5/5 [==============================] - 0s 4ms/step - loss: 65.2609\n",
      "Epoch 238/1000\n",
      "5/5 [==============================] - 0s 4ms/step - loss: 65.1096\n",
      "Epoch 239/1000\n",
      "5/5 [==============================] - 0s 4ms/step - loss: 64.9635\n",
      "Epoch 240/1000\n",
      "5/5 [==============================] - 0s 4ms/step - loss: 64.8139\n",
      "Epoch 241/1000\n",
      "5/5 [==============================] - 0s 4ms/step - loss: 64.6613\n",
      "Epoch 242/1000\n",
      "5/5 [==============================] - 0s 5ms/step - loss: 64.5168\n",
      "Epoch 243/1000\n",
      "5/5 [==============================] - 0s 4ms/step - loss: 64.3741\n",
      "Epoch 244/1000\n",
      "5/5 [==============================] - 0s 4ms/step - loss: 64.2218\n",
      "Epoch 245/1000\n",
      "5/5 [==============================] - 0s 4ms/step - loss: 64.0745\n",
      "Epoch 246/1000\n",
      "5/5 [==============================] - 0s 4ms/step - loss: 63.9305\n",
      "Epoch 247/1000\n",
      "5/5 [==============================] - 0s 4ms/step - loss: 63.7846\n",
      "Epoch 248/1000\n",
      "5/5 [==============================] - 0s 4ms/step - loss: 63.6388\n",
      "Epoch 249/1000\n",
      "5/5 [==============================] - 0s 4ms/step - loss: 63.4942\n",
      "Epoch 250/1000\n",
      "5/5 [==============================] - 0s 5ms/step - loss: 63.3476\n",
      "Epoch 251/1000\n",
      "5/5 [==============================] - 0s 4ms/step - loss: 63.1938\n",
      "Epoch 252/1000\n",
      "5/5 [==============================] - 0s 4ms/step - loss: 63.0518\n",
      "Epoch 253/1000\n",
      "5/5 [==============================] - 0s 4ms/step - loss: 62.9031\n",
      "Epoch 254/1000\n",
      "5/5 [==============================] - 0s 4ms/step - loss: 62.7571\n",
      "Epoch 255/1000\n",
      "5/5 [==============================] - 0s 4ms/step - loss: 62.6089\n",
      "Epoch 256/1000\n",
      "5/5 [==============================] - 0s 4ms/step - loss: 62.4629\n",
      "Epoch 257/1000\n",
      "5/5 [==============================] - 0s 4ms/step - loss: 62.3235\n",
      "Epoch 258/1000\n",
      "5/5 [==============================] - 0s 6ms/step - loss: 62.1681\n",
      "Epoch 259/1000\n",
      "5/5 [==============================] - 0s 4ms/step - loss: 62.0225\n",
      "Epoch 260/1000\n",
      "5/5 [==============================] - 0s 4ms/step - loss: 61.8753\n",
      "Epoch 261/1000\n",
      "5/5 [==============================] - 0s 4ms/step - loss: 61.7347\n",
      "Epoch 262/1000\n",
      "5/5 [==============================] - 0s 4ms/step - loss: 61.5874\n",
      "Epoch 263/1000\n",
      "5/5 [==============================] - 0s 7ms/step - loss: 61.4472\n",
      "Epoch 264/1000\n",
      "5/5 [==============================] - 0s 6ms/step - loss: 61.3046\n",
      "Epoch 265/1000\n",
      "5/5 [==============================] - 0s 4ms/step - loss: 61.1633\n",
      "Epoch 266/1000\n",
      "5/5 [==============================] - 0s 4ms/step - loss: 61.0200\n",
      "Epoch 267/1000\n",
      "5/5 [==============================] - 0s 5ms/step - loss: 60.8783\n",
      "Epoch 268/1000\n",
      "5/5 [==============================] - 0s 4ms/step - loss: 60.7334\n",
      "Epoch 269/1000\n",
      "5/5 [==============================] - 0s 4ms/step - loss: 60.5928\n",
      "Epoch 270/1000\n",
      "5/5 [==============================] - 0s 4ms/step - loss: 60.4547\n",
      "Epoch 271/1000\n",
      "5/5 [==============================] - 0s 4ms/step - loss: 60.3142\n",
      "Epoch 272/1000\n",
      "5/5 [==============================] - 0s 4ms/step - loss: 60.1754\n",
      "Epoch 273/1000\n",
      "5/5 [==============================] - 0s 4ms/step - loss: 60.0314\n",
      "Epoch 274/1000\n",
      "5/5 [==============================] - 0s 4ms/step - loss: 59.8938\n",
      "Epoch 275/1000\n",
      "5/5 [==============================] - 0s 4ms/step - loss: 59.7521\n",
      "Epoch 276/1000\n",
      "5/5 [==============================] - 0s 4ms/step - loss: 59.6135\n",
      "Epoch 277/1000\n",
      "5/5 [==============================] - 0s 4ms/step - loss: 59.4678\n",
      "Epoch 278/1000\n",
      "5/5 [==============================] - 0s 4ms/step - loss: 59.3272\n",
      "Epoch 279/1000\n",
      "5/5 [==============================] - 0s 4ms/step - loss: 59.1913\n",
      "Epoch 280/1000\n",
      "5/5 [==============================] - 0s 4ms/step - loss: 59.0542\n",
      "Epoch 281/1000\n",
      "5/5 [==============================] - 0s 4ms/step - loss: 58.9133\n",
      "Epoch 282/1000\n",
      "5/5 [==============================] - 0s 4ms/step - loss: 58.7831\n",
      "Epoch 283/1000\n",
      "5/5 [==============================] - 0s 4ms/step - loss: 58.6413\n",
      "Epoch 284/1000\n",
      "5/5 [==============================] - 0s 4ms/step - loss: 58.5093\n",
      "Epoch 285/1000\n",
      "5/5 [==============================] - 0s 4ms/step - loss: 58.3760\n",
      "Epoch 286/1000\n",
      "5/5 [==============================] - 0s 4ms/step - loss: 58.2422\n",
      "Epoch 287/1000\n",
      "5/5 [==============================] - 0s 4ms/step - loss: 58.1078\n",
      "Epoch 288/1000\n",
      "5/5 [==============================] - 0s 4ms/step - loss: 57.9742\n",
      "Epoch 289/1000\n",
      "5/5 [==============================] - 0s 4ms/step - loss: 57.8433\n",
      "Epoch 290/1000\n",
      "5/5 [==============================] - 0s 4ms/step - loss: 57.7075\n",
      "Epoch 291/1000\n",
      "5/5 [==============================] - 0s 4ms/step - loss: 57.5726\n",
      "Epoch 292/1000\n",
      "5/5 [==============================] - 0s 4ms/step - loss: 57.4412\n",
      "Epoch 293/1000\n",
      "5/5 [==============================] - 0s 4ms/step - loss: 57.3087\n",
      "Epoch 294/1000\n",
      "5/5 [==============================] - 0s 3ms/step - loss: 57.1790\n",
      "Epoch 295/1000\n",
      "5/5 [==============================] - 0s 4ms/step - loss: 57.0443\n",
      "Epoch 296/1000\n",
      "5/5 [==============================] - 0s 4ms/step - loss: 56.9131\n",
      "Epoch 297/1000\n",
      "5/5 [==============================] - 0s 4ms/step - loss: 56.7780\n",
      "Epoch 298/1000\n",
      "5/5 [==============================] - 0s 4ms/step - loss: 56.6474\n",
      "Epoch 299/1000\n",
      "5/5 [==============================] - 0s 4ms/step - loss: 56.5108\n",
      "Epoch 300/1000\n",
      "5/5 [==============================] - 0s 5ms/step - loss: 56.3796\n",
      "Epoch 301/1000\n",
      "5/5 [==============================] - 0s 4ms/step - loss: 56.2542\n",
      "Epoch 302/1000\n",
      "5/5 [==============================] - 0s 4ms/step - loss: 56.1182\n",
      "Epoch 303/1000\n",
      "5/5 [==============================] - 0s 3ms/step - loss: 55.9865\n",
      "Epoch 304/1000\n",
      "5/5 [==============================] - 0s 4ms/step - loss: 55.8526\n",
      "Epoch 305/1000\n",
      "5/5 [==============================] - 0s 4ms/step - loss: 55.7226\n",
      "Epoch 306/1000\n",
      "5/5 [==============================] - 0s 5ms/step - loss: 55.5918\n",
      "Epoch 307/1000\n",
      "5/5 [==============================] - 0s 4ms/step - loss: 55.4582\n",
      "Epoch 308/1000\n",
      "5/5 [==============================] - 0s 4ms/step - loss: 55.3261\n",
      "Epoch 309/1000\n",
      "5/5 [==============================] - 0s 4ms/step - loss: 55.1961\n",
      "Epoch 310/1000\n",
      "5/5 [==============================] - 0s 4ms/step - loss: 55.0635\n",
      "Epoch 311/1000\n",
      "5/5 [==============================] - 0s 4ms/step - loss: 54.9340\n",
      "Epoch 312/1000\n",
      "5/5 [==============================] - 0s 4ms/step - loss: 54.8050\n",
      "Epoch 313/1000\n",
      "5/5 [==============================] - 0s 4ms/step - loss: 54.6801\n",
      "Epoch 314/1000\n",
      "5/5 [==============================] - 0s 5ms/step - loss: 54.5537\n",
      "Epoch 315/1000\n",
      "5/5 [==============================] - 0s 4ms/step - loss: 54.4235\n",
      "Epoch 316/1000\n",
      "5/5 [==============================] - 0s 4ms/step - loss: 54.2932\n",
      "Epoch 317/1000\n",
      "5/5 [==============================] - 0s 4ms/step - loss: 54.1632\n",
      "Epoch 318/1000\n",
      "5/5 [==============================] - 0s 4ms/step - loss: 54.0377\n",
      "Epoch 319/1000\n",
      "5/5 [==============================] - 0s 4ms/step - loss: 53.9120\n",
      "Epoch 320/1000\n",
      "5/5 [==============================] - 0s 4ms/step - loss: 53.7802\n",
      "Epoch 321/1000\n",
      "5/5 [==============================] - 0s 4ms/step - loss: 53.6514\n",
      "Epoch 322/1000\n",
      "5/5 [==============================] - 0s 4ms/step - loss: 53.5197\n",
      "Epoch 323/1000\n",
      "5/5 [==============================] - 0s 4ms/step - loss: 53.3958\n",
      "Epoch 324/1000\n",
      "5/5 [==============================] - 0s 4ms/step - loss: 53.2674\n",
      "Epoch 325/1000\n",
      "5/5 [==============================] - 0s 5ms/step - loss: 53.1462\n",
      "Epoch 326/1000\n",
      "5/5 [==============================] - 0s 4ms/step - loss: 53.0176\n",
      "Epoch 327/1000\n",
      "5/5 [==============================] - 0s 4ms/step - loss: 52.8951\n",
      "Epoch 328/1000\n",
      "5/5 [==============================] - 0s 5ms/step - loss: 52.7723\n",
      "Epoch 329/1000\n",
      "5/5 [==============================] - 0s 4ms/step - loss: 52.6477\n",
      "Epoch 330/1000\n",
      "5/5 [==============================] - 0s 4ms/step - loss: 52.5222\n",
      "Epoch 331/1000\n",
      "5/5 [==============================] - 0s 4ms/step - loss: 52.3993\n",
      "Epoch 332/1000\n",
      "5/5 [==============================] - 0s 4ms/step - loss: 52.2694\n",
      "Epoch 333/1000\n",
      "5/5 [==============================] - 0s 5ms/step - loss: 52.1483\n",
      "Epoch 334/1000\n",
      "5/5 [==============================] - 0s 4ms/step - loss: 52.0245\n",
      "Epoch 335/1000\n",
      "5/5 [==============================] - 0s 4ms/step - loss: 51.9006\n",
      "Epoch 336/1000\n",
      "5/5 [==============================] - 0s 4ms/step - loss: 51.7825\n",
      "Epoch 337/1000\n",
      "5/5 [==============================] - 0s 6ms/step - loss: 51.6610\n",
      "Epoch 338/1000\n",
      "5/5 [==============================] - 0s 4ms/step - loss: 51.5370\n",
      "Epoch 339/1000\n",
      "5/5 [==============================] - 0s 4ms/step - loss: 51.4139\n",
      "Epoch 340/1000\n",
      "5/5 [==============================] - 0s 5ms/step - loss: 51.2943\n",
      "Epoch 341/1000\n",
      "5/5 [==============================] - 0s 4ms/step - loss: 51.1699\n",
      "Epoch 342/1000\n",
      "5/5 [==============================] - 0s 4ms/step - loss: 51.0519\n",
      "Epoch 343/1000\n",
      "5/5 [==============================] - 0s 4ms/step - loss: 50.9301\n",
      "Epoch 344/1000\n",
      "5/5 [==============================] - 0s 3ms/step - loss: 50.8085\n",
      "Epoch 345/1000\n",
      "5/5 [==============================] - 0s 4ms/step - loss: 50.6923\n",
      "Epoch 346/1000\n",
      "5/5 [==============================] - 0s 4ms/step - loss: 50.5699\n",
      "Epoch 347/1000\n",
      "5/5 [==============================] - 0s 4ms/step - loss: 50.4486\n",
      "Epoch 348/1000\n",
      "5/5 [==============================] - 0s 4ms/step - loss: 50.3319\n",
      "Epoch 349/1000\n",
      "5/5 [==============================] - 0s 4ms/step - loss: 50.2106\n",
      "Epoch 350/1000\n",
      "5/5 [==============================] - 0s 4ms/step - loss: 50.0934\n",
      "Epoch 351/1000\n",
      "5/5 [==============================] - 0s 5ms/step - loss: 49.9753\n",
      "Epoch 352/1000\n",
      "5/5 [==============================] - 0s 6ms/step - loss: 49.8542\n",
      "Epoch 353/1000\n",
      "5/5 [==============================] - 0s 4ms/step - loss: 49.7329\n",
      "Epoch 354/1000\n",
      "5/5 [==============================] - 0s 5ms/step - loss: 49.6102\n",
      "Epoch 355/1000\n",
      "5/5 [==============================] - 0s 5ms/step - loss: 49.4957\n",
      "Epoch 356/1000\n",
      "5/5 [==============================] - 0s 4ms/step - loss: 49.3757\n",
      "Epoch 357/1000\n",
      "5/5 [==============================] - 0s 4ms/step - loss: 49.2565\n",
      "Epoch 358/1000\n",
      "5/5 [==============================] - 0s 4ms/step - loss: 49.1384\n",
      "Epoch 359/1000\n",
      "5/5 [==============================] - 0s 4ms/step - loss: 49.0170\n",
      "Epoch 360/1000\n",
      "5/5 [==============================] - 0s 4ms/step - loss: 48.8998\n",
      "Epoch 361/1000\n",
      "5/5 [==============================] - 0s 5ms/step - loss: 48.7802\n",
      "Epoch 362/1000\n",
      "5/5 [==============================] - 0s 4ms/step - loss: 48.6622\n",
      "Epoch 363/1000\n",
      "5/5 [==============================] - 0s 4ms/step - loss: 48.5403\n",
      "Epoch 364/1000\n",
      "5/5 [==============================] - 0s 4ms/step - loss: 48.4258\n",
      "Epoch 365/1000\n",
      "5/5 [==============================] - 0s 4ms/step - loss: 48.3085\n",
      "Epoch 366/1000\n",
      "5/5 [==============================] - 0s 4ms/step - loss: 48.1905\n",
      "Epoch 367/1000\n",
      "5/5 [==============================] - 0s 4ms/step - loss: 48.0724\n",
      "Epoch 368/1000\n",
      "5/5 [==============================] - 0s 4ms/step - loss: 47.9572\n",
      "Epoch 369/1000\n",
      "5/5 [==============================] - 0s 5ms/step - loss: 47.8384\n",
      "Epoch 370/1000\n",
      "5/5 [==============================] - 0s 4ms/step - loss: 47.7237\n",
      "Epoch 371/1000\n",
      "5/5 [==============================] - 0s 4ms/step - loss: 47.6069\n",
      "Epoch 372/1000\n",
      "5/5 [==============================] - 0s 4ms/step - loss: 47.4938\n",
      "Epoch 373/1000\n",
      "5/5 [==============================] - 0s 5ms/step - loss: 47.3777\n",
      "Epoch 374/1000\n",
      "5/5 [==============================] - 0s 4ms/step - loss: 47.2671\n",
      "Epoch 375/1000\n",
      "5/5 [==============================] - 0s 4ms/step - loss: 47.1494\n",
      "Epoch 376/1000\n",
      "5/5 [==============================] - 0s 4ms/step - loss: 47.0368\n",
      "Epoch 377/1000\n",
      "5/5 [==============================] - 0s 4ms/step - loss: 46.9225\n",
      "Epoch 378/1000\n",
      "5/5 [==============================] - 0s 4ms/step - loss: 46.8118\n",
      "Epoch 379/1000\n",
      "5/5 [==============================] - 0s 6ms/step - loss: 46.6949\n",
      "Epoch 380/1000\n",
      "5/5 [==============================] - 0s 4ms/step - loss: 46.5846\n",
      "Epoch 381/1000\n",
      "5/5 [==============================] - 0s 4ms/step - loss: 46.4744\n",
      "Epoch 382/1000\n",
      "5/5 [==============================] - 0s 4ms/step - loss: 46.3639\n",
      "Epoch 383/1000\n",
      "5/5 [==============================] - 0s 4ms/step - loss: 46.2491\n",
      "Epoch 384/1000\n",
      "5/5 [==============================] - 0s 4ms/step - loss: 46.1356\n",
      "Epoch 385/1000\n",
      "5/5 [==============================] - 0s 4ms/step - loss: 46.0280\n",
      "Epoch 386/1000\n",
      "5/5 [==============================] - 0s 4ms/step - loss: 45.9145\n",
      "Epoch 387/1000\n",
      "5/5 [==============================] - 0s 4ms/step - loss: 45.8056\n",
      "Epoch 388/1000\n",
      "5/5 [==============================] - 0s 4ms/step - loss: 45.6956\n",
      "Epoch 389/1000\n",
      "5/5 [==============================] - 0s 4ms/step - loss: 45.5848\n",
      "Epoch 390/1000\n",
      "5/5 [==============================] - 0s 4ms/step - loss: 45.4730\n",
      "Epoch 391/1000\n",
      "5/5 [==============================] - 0s 4ms/step - loss: 45.3627\n",
      "Epoch 392/1000\n",
      "5/5 [==============================] - 0s 4ms/step - loss: 45.2467\n",
      "Epoch 393/1000\n",
      "5/5 [==============================] - 0s 4ms/step - loss: 45.1336\n",
      "Epoch 394/1000\n",
      "5/5 [==============================] - 0s 4ms/step - loss: 45.0182\n",
      "Epoch 395/1000\n",
      "5/5 [==============================] - 0s 3ms/step - loss: 44.9069\n",
      "Epoch 396/1000\n",
      "5/5 [==============================] - 0s 4ms/step - loss: 44.7960\n",
      "Epoch 397/1000\n",
      "5/5 [==============================] - 0s 4ms/step - loss: 44.6828\n",
      "Epoch 398/1000\n",
      "5/5 [==============================] - 0s 4ms/step - loss: 44.5724\n",
      "Epoch 399/1000\n",
      "5/5 [==============================] - 0s 4ms/step - loss: 44.4627\n",
      "Epoch 400/1000\n",
      "5/5 [==============================] - 0s 4ms/step - loss: 44.3568\n",
      "Epoch 401/1000\n",
      "5/5 [==============================] - 0s 4ms/step - loss: 44.2480\n",
      "Epoch 402/1000\n",
      "5/5 [==============================] - 0s 5ms/step - loss: 44.1431\n",
      "Epoch 403/1000\n",
      "5/5 [==============================] - 0s 4ms/step - loss: 44.0344\n",
      "Epoch 404/1000\n",
      "5/5 [==============================] - 0s 4ms/step - loss: 43.9286\n",
      "Epoch 405/1000\n",
      "5/5 [==============================] - 0s 4ms/step - loss: 43.8260\n",
      "Epoch 406/1000\n",
      "5/5 [==============================] - 0s 4ms/step - loss: 43.7172\n",
      "Epoch 407/1000\n",
      "5/5 [==============================] - 0s 5ms/step - loss: 43.6140\n",
      "Epoch 408/1000\n",
      "5/5 [==============================] - 0s 4ms/step - loss: 43.5114\n",
      "Epoch 409/1000\n",
      "5/5 [==============================] - 0s 4ms/step - loss: 43.4022\n",
      "Epoch 410/1000\n",
      "5/5 [==============================] - 0s 4ms/step - loss: 43.2967\n",
      "Epoch 411/1000\n",
      "5/5 [==============================] - 0s 5ms/step - loss: 43.1923\n",
      "Epoch 412/1000\n",
      "5/5 [==============================] - 0s 4ms/step - loss: 43.0855\n",
      "Epoch 413/1000\n",
      "5/5 [==============================] - 0s 4ms/step - loss: 42.9789\n",
      "Epoch 414/1000\n",
      "5/5 [==============================] - 0s 4ms/step - loss: 42.8722\n",
      "Epoch 415/1000\n",
      "5/5 [==============================] - 0s 3ms/step - loss: 42.7677\n",
      "Epoch 416/1000\n",
      "5/5 [==============================] - 0s 4ms/step - loss: 42.6625\n",
      "Epoch 417/1000\n",
      "5/5 [==============================] - 0s 3ms/step - loss: 42.5556\n",
      "Epoch 418/1000\n",
      "5/5 [==============================] - 0s 3ms/step - loss: 42.4544\n",
      "Epoch 419/1000\n",
      "5/5 [==============================] - 0s 4ms/step - loss: 42.3536\n",
      "Epoch 420/1000\n",
      "5/5 [==============================] - 0s 4ms/step - loss: 42.2517\n",
      "Epoch 421/1000\n",
      "5/5 [==============================] - 0s 4ms/step - loss: 42.1512\n",
      "Epoch 422/1000\n",
      "5/5 [==============================] - 0s 4ms/step - loss: 42.0489\n",
      "Epoch 423/1000\n",
      "5/5 [==============================] - 0s 4ms/step - loss: 41.9487\n",
      "Epoch 424/1000\n",
      "5/5 [==============================] - 0s 4ms/step - loss: 41.8482\n",
      "Epoch 425/1000\n",
      "5/5 [==============================] - 0s 5ms/step - loss: 41.7451\n",
      "Epoch 426/1000\n",
      "5/5 [==============================] - 0s 4ms/step - loss: 41.6453\n",
      "Epoch 427/1000\n",
      "5/5 [==============================] - 0s 4ms/step - loss: 41.5382\n",
      "Epoch 428/1000\n",
      "5/5 [==============================] - 0s 4ms/step - loss: 41.4426\n",
      "Epoch 429/1000\n",
      "5/5 [==============================] - 0s 4ms/step - loss: 41.3368\n",
      "Epoch 430/1000\n",
      "5/5 [==============================] - 0s 4ms/step - loss: 41.2396\n",
      "Epoch 431/1000\n",
      "5/5 [==============================] - 0s 4ms/step - loss: 41.1349\n",
      "Epoch 432/1000\n",
      "5/5 [==============================] - 0s 4ms/step - loss: 41.0359\n",
      "Epoch 433/1000\n",
      "5/5 [==============================] - 0s 3ms/step - loss: 40.9330\n",
      "Epoch 434/1000\n",
      "5/5 [==============================] - 0s 4ms/step - loss: 40.8305\n",
      "Epoch 435/1000\n",
      "5/5 [==============================] - 0s 4ms/step - loss: 40.7265\n",
      "Epoch 436/1000\n",
      "5/5 [==============================] - 0s 6ms/step - loss: 40.6280\n",
      "Epoch 437/1000\n",
      "5/5 [==============================] - 0s 4ms/step - loss: 40.5216\n",
      "Epoch 438/1000\n",
      "5/5 [==============================] - 0s 4ms/step - loss: 40.4232\n",
      "Epoch 439/1000\n",
      "5/5 [==============================] - 0s 4ms/step - loss: 40.3209\n",
      "Epoch 440/1000\n",
      "5/5 [==============================] - 0s 5ms/step - loss: 40.2173\n",
      "Epoch 441/1000\n",
      "5/5 [==============================] - 0s 5ms/step - loss: 40.1160\n",
      "Epoch 442/1000\n",
      "5/5 [==============================] - 0s 5ms/step - loss: 40.0195\n",
      "Epoch 443/1000\n",
      "5/5 [==============================] - 0s 5ms/step - loss: 39.9192\n",
      "Epoch 444/1000\n",
      "5/5 [==============================] - 0s 5ms/step - loss: 39.8198\n",
      "Epoch 445/1000\n",
      "5/5 [==============================] - 0s 4ms/step - loss: 39.7249\n",
      "Epoch 446/1000\n",
      "5/5 [==============================] - 0s 4ms/step - loss: 39.6241\n",
      "Epoch 447/1000\n",
      "5/5 [==============================] - 0s 4ms/step - loss: 39.5308\n",
      "Epoch 448/1000\n",
      "5/5 [==============================] - 0s 4ms/step - loss: 39.4315\n",
      "Epoch 449/1000\n",
      "5/5 [==============================] - 0s 4ms/step - loss: 39.3370\n",
      "Epoch 450/1000\n",
      "5/5 [==============================] - 0s 4ms/step - loss: 39.2424\n",
      "Epoch 451/1000\n",
      "5/5 [==============================] - 0s 5ms/step - loss: 39.1430\n",
      "Epoch 452/1000\n",
      "5/5 [==============================] - 0s 5ms/step - loss: 39.0463\n",
      "Epoch 453/1000\n",
      "5/5 [==============================] - 0s 5ms/step - loss: 38.9474\n",
      "Epoch 454/1000\n",
      "5/5 [==============================] - 0s 5ms/step - loss: 38.8517\n",
      "Epoch 455/1000\n",
      "5/5 [==============================] - 0s 6ms/step - loss: 38.7598\n",
      "Epoch 456/1000\n",
      "5/5 [==============================] - 0s 5ms/step - loss: 38.6580\n",
      "Epoch 457/1000\n",
      "5/5 [==============================] - 0s 5ms/step - loss: 38.5671\n",
      "Epoch 458/1000\n",
      "5/5 [==============================] - 0s 6ms/step - loss: 38.4681\n",
      "Epoch 459/1000\n",
      "5/5 [==============================] - 0s 6ms/step - loss: 38.3767\n",
      "Epoch 460/1000\n",
      "5/5 [==============================] - 0s 5ms/step - loss: 38.2845\n",
      "Epoch 461/1000\n",
      "5/5 [==============================] - 0s 5ms/step - loss: 38.1909\n",
      "Epoch 462/1000\n",
      "5/5 [==============================] - 0s 5ms/step - loss: 38.0949\n",
      "Epoch 463/1000\n",
      "5/5 [==============================] - 0s 4ms/step - loss: 38.0021\n",
      "Epoch 464/1000\n",
      "5/5 [==============================] - 0s 4ms/step - loss: 37.9094\n",
      "Epoch 465/1000\n",
      "5/5 [==============================] - 0s 6ms/step - loss: 37.8159\n",
      "Epoch 466/1000\n",
      "5/5 [==============================] - 0s 6ms/step - loss: 37.7213\n",
      "Epoch 467/1000\n",
      "5/5 [==============================] - 0s 5ms/step - loss: 37.6292\n",
      "Epoch 468/1000\n",
      "5/5 [==============================] - 0s 5ms/step - loss: 37.5367\n",
      "Epoch 469/1000\n",
      "5/5 [==============================] - 0s 5ms/step - loss: 37.4457\n",
      "Epoch 470/1000\n",
      "5/5 [==============================] - 0s 4ms/step - loss: 37.3529\n",
      "Epoch 471/1000\n",
      "5/5 [==============================] - 0s 6ms/step - loss: 37.2637\n",
      "Epoch 472/1000\n",
      "5/5 [==============================] - 0s 6ms/step - loss: 37.1712\n",
      "Epoch 473/1000\n",
      "5/5 [==============================] - 0s 4ms/step - loss: 37.0785\n",
      "Epoch 474/1000\n",
      "5/5 [==============================] - 0s 4ms/step - loss: 36.9892\n",
      "Epoch 475/1000\n",
      "5/5 [==============================] - 0s 5ms/step - loss: 36.8996\n",
      "Epoch 476/1000\n",
      "5/5 [==============================] - 0s 6ms/step - loss: 36.8071\n",
      "Epoch 477/1000\n",
      "5/5 [==============================] - 0s 5ms/step - loss: 36.7154\n",
      "Epoch 478/1000\n",
      "5/5 [==============================] - 0s 5ms/step - loss: 36.6271\n",
      "Epoch 479/1000\n",
      "5/5 [==============================] - 0s 6ms/step - loss: 36.5370\n",
      "Epoch 480/1000\n",
      "5/5 [==============================] - 0s 5ms/step - loss: 36.4459\n",
      "Epoch 481/1000\n",
      "5/5 [==============================] - 0s 5ms/step - loss: 36.3619\n",
      "Epoch 482/1000\n",
      "5/5 [==============================] - 0s 5ms/step - loss: 36.2655\n",
      "Epoch 483/1000\n",
      "5/5 [==============================] - 0s 5ms/step - loss: 36.1804\n",
      "Epoch 484/1000\n",
      "5/5 [==============================] - 0s 5ms/step - loss: 36.0937\n",
      "Epoch 485/1000\n",
      "5/5 [==============================] - 0s 5ms/step - loss: 36.0053\n",
      "Epoch 486/1000\n",
      "5/5 [==============================] - 0s 5ms/step - loss: 35.9187\n",
      "Epoch 487/1000\n",
      "5/5 [==============================] - 0s 5ms/step - loss: 35.8312\n",
      "Epoch 488/1000\n",
      "5/5 [==============================] - 0s 7ms/step - loss: 35.7396\n",
      "Epoch 489/1000\n",
      "5/5 [==============================] - 0s 6ms/step - loss: 35.6515\n",
      "Epoch 490/1000\n",
      "5/5 [==============================] - 0s 6ms/step - loss: 35.5634\n",
      "Epoch 491/1000\n",
      "5/5 [==============================] - 0s 5ms/step - loss: 35.4748\n",
      "Epoch 492/1000\n",
      "5/5 [==============================] - 0s 5ms/step - loss: 35.3852\n",
      "Epoch 493/1000\n",
      "5/5 [==============================] - 0s 5ms/step - loss: 35.2970\n",
      "Epoch 494/1000\n",
      "5/5 [==============================] - 0s 4ms/step - loss: 35.2093\n",
      "Epoch 495/1000\n",
      "5/5 [==============================] - 0s 4ms/step - loss: 35.1211\n",
      "Epoch 496/1000\n",
      "5/5 [==============================] - 0s 4ms/step - loss: 35.0373\n",
      "Epoch 497/1000\n",
      "5/5 [==============================] - 0s 4ms/step - loss: 34.9543\n",
      "Epoch 498/1000\n",
      "5/5 [==============================] - 0s 4ms/step - loss: 34.8651\n",
      "Epoch 499/1000\n",
      "5/5 [==============================] - 0s 5ms/step - loss: 34.7807\n",
      "Epoch 500/1000\n",
      "5/5 [==============================] - 0s 4ms/step - loss: 34.6964\n",
      "Epoch 501/1000\n",
      "5/5 [==============================] - 0s 4ms/step - loss: 34.6105\n",
      "Epoch 502/1000\n",
      "5/5 [==============================] - 0s 4ms/step - loss: 34.5256\n",
      "Epoch 503/1000\n",
      "5/5 [==============================] - 0s 4ms/step - loss: 34.4368\n",
      "Epoch 504/1000\n",
      "5/5 [==============================] - 0s 4ms/step - loss: 34.3538\n",
      "Epoch 505/1000\n",
      "5/5 [==============================] - 0s 5ms/step - loss: 34.2686\n",
      "Epoch 506/1000\n",
      "5/5 [==============================] - 0s 4ms/step - loss: 34.1831\n",
      "Epoch 507/1000\n",
      "5/5 [==============================] - 0s 4ms/step - loss: 34.1008\n",
      "Epoch 508/1000\n",
      "5/5 [==============================] - 0s 4ms/step - loss: 34.0150\n",
      "Epoch 509/1000\n",
      "5/5 [==============================] - 0s 4ms/step - loss: 33.9333\n",
      "Epoch 510/1000\n",
      "5/5 [==============================] - 0s 4ms/step - loss: 33.8483\n",
      "Epoch 511/1000\n",
      "5/5 [==============================] - 0s 5ms/step - loss: 33.7659\n",
      "Epoch 512/1000\n",
      "5/5 [==============================] - 0s 4ms/step - loss: 33.6827\n",
      "Epoch 513/1000\n",
      "5/5 [==============================] - 0s 4ms/step - loss: 33.5989\n",
      "Epoch 514/1000\n",
      "5/5 [==============================] - 0s 4ms/step - loss: 33.5174\n",
      "Epoch 515/1000\n",
      "5/5 [==============================] - 0s 4ms/step - loss: 33.4336\n",
      "Epoch 516/1000\n",
      "5/5 [==============================] - 0s 7ms/step - loss: 33.3516\n",
      "Epoch 517/1000\n",
      "5/5 [==============================] - 0s 5ms/step - loss: 33.2701\n",
      "Epoch 518/1000\n",
      "5/5 [==============================] - 0s 6ms/step - loss: 33.1877\n",
      "Epoch 519/1000\n",
      "5/5 [==============================] - 0s 6ms/step - loss: 33.1066\n",
      "Epoch 520/1000\n",
      "5/5 [==============================] - 0s 5ms/step - loss: 33.0231\n",
      "Epoch 521/1000\n",
      "5/5 [==============================] - 0s 6ms/step - loss: 32.9393\n",
      "Epoch 522/1000\n",
      "5/5 [==============================] - 0s 6ms/step - loss: 32.8592\n",
      "Epoch 523/1000\n",
      "5/5 [==============================] - 0s 5ms/step - loss: 32.7752\n",
      "Epoch 524/1000\n",
      "5/5 [==============================] - 0s 5ms/step - loss: 32.6948\n",
      "Epoch 525/1000\n",
      "5/5 [==============================] - 0s 5ms/step - loss: 32.6120\n",
      "Epoch 526/1000\n",
      "5/5 [==============================] - 0s 5ms/step - loss: 32.5309\n",
      "Epoch 527/1000\n",
      "5/5 [==============================] - 0s 5ms/step - loss: 32.4440\n",
      "Epoch 528/1000\n",
      "5/5 [==============================] - 0s 5ms/step - loss: 32.3647\n",
      "Epoch 529/1000\n",
      "5/5 [==============================] - 0s 3ms/step - loss: 32.2823\n",
      "Epoch 530/1000\n",
      "5/5 [==============================] - 0s 5ms/step - loss: 32.2004\n",
      "Epoch 531/1000\n",
      "5/5 [==============================] - 0s 5ms/step - loss: 32.1229\n",
      "Epoch 532/1000\n",
      "5/5 [==============================] - 0s 5ms/step - loss: 32.0423\n",
      "Epoch 533/1000\n",
      "5/5 [==============================] - 0s 5ms/step - loss: 31.9624\n",
      "Epoch 534/1000\n",
      "5/5 [==============================] - 0s 6ms/step - loss: 31.8825\n",
      "Epoch 535/1000\n",
      "5/5 [==============================] - 0s 4ms/step - loss: 31.8034\n",
      "Epoch 536/1000\n",
      "5/5 [==============================] - 0s 5ms/step - loss: 31.7254\n",
      "Epoch 537/1000\n",
      "5/5 [==============================] - 0s 5ms/step - loss: 31.6465\n",
      "Epoch 538/1000\n",
      "5/5 [==============================] - 0s 5ms/step - loss: 31.5661\n",
      "Epoch 539/1000\n",
      "5/5 [==============================] - 0s 5ms/step - loss: 31.4873\n",
      "Epoch 540/1000\n",
      "5/5 [==============================] - 0s 4ms/step - loss: 31.4104\n",
      "Epoch 541/1000\n",
      "5/5 [==============================] - 0s 5ms/step - loss: 31.3303\n",
      "Epoch 542/1000\n",
      "5/5 [==============================] - 0s 5ms/step - loss: 31.2503\n",
      "Epoch 543/1000\n",
      "5/5 [==============================] - 0s 5ms/step - loss: 31.1750\n",
      "Epoch 544/1000\n",
      "5/5 [==============================] - 0s 5ms/step - loss: 31.0955\n",
      "Epoch 545/1000\n",
      "5/5 [==============================] - 0s 5ms/step - loss: 31.0163\n",
      "Epoch 546/1000\n",
      "5/5 [==============================] - 0s 5ms/step - loss: 30.9374\n",
      "Epoch 547/1000\n",
      "5/5 [==============================] - 0s 5ms/step - loss: 30.8584\n",
      "Epoch 548/1000\n",
      "5/5 [==============================] - 0s 7ms/step - loss: 30.7822\n",
      "Epoch 549/1000\n",
      "5/5 [==============================] - 0s 5ms/step - loss: 30.7001\n",
      "Epoch 550/1000\n",
      "5/5 [==============================] - 0s 5ms/step - loss: 30.6283\n",
      "Epoch 551/1000\n",
      "5/5 [==============================] - 0s 5ms/step - loss: 30.5488\n",
      "Epoch 552/1000\n",
      "5/5 [==============================] - 0s 5ms/step - loss: 30.4735\n",
      "Epoch 553/1000\n",
      "5/5 [==============================] - 0s 6ms/step - loss: 30.3945\n",
      "Epoch 554/1000\n",
      "5/5 [==============================] - 0s 4ms/step - loss: 30.3201\n",
      "Epoch 555/1000\n",
      "5/5 [==============================] - 0s 6ms/step - loss: 30.2444\n",
      "Epoch 556/1000\n",
      "5/5 [==============================] - 0s 4ms/step - loss: 30.1680\n",
      "Epoch 557/1000\n",
      "5/5 [==============================] - 0s 5ms/step - loss: 30.0925\n",
      "Epoch 558/1000\n",
      "5/5 [==============================] - 0s 5ms/step - loss: 30.0174\n",
      "Epoch 559/1000\n",
      "5/5 [==============================] - 0s 5ms/step - loss: 29.9458\n",
      "Epoch 560/1000\n",
      "5/5 [==============================] - 0s 6ms/step - loss: 29.8712\n",
      "Epoch 561/1000\n",
      "5/5 [==============================] - 0s 5ms/step - loss: 29.7962\n",
      "Epoch 562/1000\n",
      "5/5 [==============================] - 0s 4ms/step - loss: 29.7245\n",
      "Epoch 563/1000\n",
      "5/5 [==============================] - 0s 5ms/step - loss: 29.6522\n",
      "Epoch 564/1000\n",
      "5/5 [==============================] - 0s 4ms/step - loss: 29.5799\n",
      "Epoch 565/1000\n",
      "5/5 [==============================] - 0s 4ms/step - loss: 29.5083\n",
      "Epoch 566/1000\n",
      "5/5 [==============================] - 0s 5ms/step - loss: 29.4381\n",
      "Epoch 567/1000\n",
      "5/5 [==============================] - 0s 5ms/step - loss: 29.3650\n",
      "Epoch 568/1000\n",
      "5/5 [==============================] - 0s 5ms/step - loss: 29.2906\n",
      "Epoch 569/1000\n",
      "5/5 [==============================] - 0s 4ms/step - loss: 29.2215\n",
      "Epoch 570/1000\n",
      "5/5 [==============================] - 0s 4ms/step - loss: 29.1483\n",
      "Epoch 571/1000\n",
      "5/5 [==============================] - 0s 6ms/step - loss: 29.0739\n",
      "Epoch 572/1000\n",
      "5/5 [==============================] - 0s 5ms/step - loss: 29.0021\n",
      "Epoch 573/1000\n",
      "5/5 [==============================] - 0s 4ms/step - loss: 28.9290\n",
      "Epoch 574/1000\n",
      "5/5 [==============================] - 0s 4ms/step - loss: 28.8564\n",
      "Epoch 575/1000\n",
      "5/5 [==============================] - 0s 4ms/step - loss: 28.7855\n",
      "Epoch 576/1000\n",
      "5/5 [==============================] - 0s 5ms/step - loss: 28.7110\n",
      "Epoch 577/1000\n",
      "5/5 [==============================] - 0s 4ms/step - loss: 28.6394\n",
      "Epoch 578/1000\n",
      "5/5 [==============================] - 0s 5ms/step - loss: 28.5659\n",
      "Epoch 579/1000\n",
      "5/5 [==============================] - 0s 5ms/step - loss: 28.4939\n",
      "Epoch 580/1000\n",
      "5/5 [==============================] - 0s 5ms/step - loss: 28.4196\n",
      "Epoch 581/1000\n",
      "5/5 [==============================] - 0s 5ms/step - loss: 28.3451\n",
      "Epoch 582/1000\n",
      "5/5 [==============================] - 0s 6ms/step - loss: 28.2769\n",
      "Epoch 583/1000\n",
      "5/5 [==============================] - 0s 5ms/step - loss: 28.2060\n",
      "Epoch 584/1000\n",
      "5/5 [==============================] - 0s 5ms/step - loss: 28.1330\n",
      "Epoch 585/1000\n",
      "5/5 [==============================] - 0s 5ms/step - loss: 28.0656\n",
      "Epoch 586/1000\n",
      "5/5 [==============================] - 0s 5ms/step - loss: 27.9918\n",
      "Epoch 587/1000\n",
      "5/5 [==============================] - 0s 8ms/step - loss: 27.9268\n",
      "Epoch 588/1000\n",
      "5/5 [==============================] - 0s 6ms/step - loss: 27.8551\n",
      "Epoch 589/1000\n",
      "5/5 [==============================] - 0s 5ms/step - loss: 27.7834\n",
      "Epoch 590/1000\n",
      "5/5 [==============================] - 0s 5ms/step - loss: 27.7162\n",
      "Epoch 591/1000\n",
      "5/5 [==============================] - 0s 5ms/step - loss: 27.6466\n",
      "Epoch 592/1000\n",
      "5/5 [==============================] - 0s 5ms/step - loss: 27.5792\n",
      "Epoch 593/1000\n",
      "5/5 [==============================] - 0s 4ms/step - loss: 27.5096\n",
      "Epoch 594/1000\n",
      "5/5 [==============================] - 0s 4ms/step - loss: 27.4396\n",
      "Epoch 595/1000\n",
      "5/5 [==============================] - 0s 4ms/step - loss: 27.3770\n",
      "Epoch 596/1000\n",
      "5/5 [==============================] - 0s 5ms/step - loss: 27.3092\n",
      "Epoch 597/1000\n",
      "5/5 [==============================] - 0s 5ms/step - loss: 27.2382\n",
      "Epoch 598/1000\n",
      "5/5 [==============================] - 0s 4ms/step - loss: 27.1730\n",
      "Epoch 599/1000\n",
      "5/5 [==============================] - 0s 5ms/step - loss: 27.1056\n",
      "Epoch 600/1000\n",
      "5/5 [==============================] - 0s 4ms/step - loss: 27.0381\n",
      "Epoch 601/1000\n",
      "5/5 [==============================] - 0s 4ms/step - loss: 26.9691\n",
      "Epoch 602/1000\n",
      "5/5 [==============================] - 0s 5ms/step - loss: 26.9043\n",
      "Epoch 603/1000\n",
      "5/5 [==============================] - 0s 5ms/step - loss: 26.8376\n",
      "Epoch 604/1000\n",
      "5/5 [==============================] - 0s 4ms/step - loss: 26.7712\n",
      "Epoch 605/1000\n",
      "5/5 [==============================] - 0s 4ms/step - loss: 26.7014\n",
      "Epoch 606/1000\n",
      "5/5 [==============================] - 0s 5ms/step - loss: 26.6381\n",
      "Epoch 607/1000\n",
      "5/5 [==============================] - 0s 5ms/step - loss: 26.5720\n",
      "Epoch 608/1000\n",
      "5/5 [==============================] - 0s 6ms/step - loss: 26.5011\n",
      "Epoch 609/1000\n",
      "5/5 [==============================] - 0s 4ms/step - loss: 26.4388\n",
      "Epoch 610/1000\n",
      "5/5 [==============================] - 0s 4ms/step - loss: 26.3725\n",
      "Epoch 611/1000\n",
      "5/5 [==============================] - 0s 4ms/step - loss: 26.3077\n",
      "Epoch 612/1000\n",
      "5/5 [==============================] - 0s 4ms/step - loss: 26.2456\n",
      "Epoch 613/1000\n",
      "5/5 [==============================] - 0s 5ms/step - loss: 26.1798\n",
      "Epoch 614/1000\n",
      "5/5 [==============================] - 0s 4ms/step - loss: 26.1112\n",
      "Epoch 615/1000\n",
      "5/5 [==============================] - 0s 4ms/step - loss: 26.0461\n",
      "Epoch 616/1000\n",
      "5/5 [==============================] - 0s 5ms/step - loss: 25.9779\n",
      "Epoch 617/1000\n",
      "5/5 [==============================] - 0s 4ms/step - loss: 25.9133\n",
      "Epoch 618/1000\n",
      "5/5 [==============================] - 0s 4ms/step - loss: 25.8432\n",
      "Epoch 619/1000\n",
      "5/5 [==============================] - 0s 4ms/step - loss: 25.7800\n",
      "Epoch 620/1000\n",
      "5/5 [==============================] - 0s 4ms/step - loss: 25.7182\n",
      "Epoch 621/1000\n",
      "5/5 [==============================] - 0s 4ms/step - loss: 25.6539\n",
      "Epoch 622/1000\n",
      "5/5 [==============================] - 0s 4ms/step - loss: 25.5888\n",
      "Epoch 623/1000\n",
      "5/5 [==============================] - 0s 4ms/step - loss: 25.5322\n",
      "Epoch 624/1000\n",
      "5/5 [==============================] - 0s 5ms/step - loss: 25.4698\n",
      "Epoch 625/1000\n",
      "5/5 [==============================] - 0s 4ms/step - loss: 25.4075\n",
      "Epoch 626/1000\n",
      "5/5 [==============================] - 0s 4ms/step - loss: 25.3453\n",
      "Epoch 627/1000\n",
      "5/5 [==============================] - 0s 4ms/step - loss: 25.2828\n",
      "Epoch 628/1000\n",
      "5/5 [==============================] - 0s 4ms/step - loss: 25.2210\n",
      "Epoch 629/1000\n",
      "5/5 [==============================] - 0s 4ms/step - loss: 25.1583\n",
      "Epoch 630/1000\n",
      "5/5 [==============================] - 0s 6ms/step - loss: 25.0965\n",
      "Epoch 631/1000\n",
      "5/5 [==============================] - 0s 5ms/step - loss: 25.0364\n",
      "Epoch 632/1000\n",
      "5/5 [==============================] - 0s 4ms/step - loss: 24.9744\n",
      "Epoch 633/1000\n",
      "5/5 [==============================] - 0s 4ms/step - loss: 24.9118\n",
      "Epoch 634/1000\n",
      "5/5 [==============================] - 0s 4ms/step - loss: 24.8497\n",
      "Epoch 635/1000\n",
      "5/5 [==============================] - 0s 5ms/step - loss: 24.7894\n",
      "Epoch 636/1000\n",
      "5/5 [==============================] - 0s 4ms/step - loss: 24.7274\n",
      "Epoch 637/1000\n",
      "5/5 [==============================] - 0s 4ms/step - loss: 24.6661\n",
      "Epoch 638/1000\n",
      "5/5 [==============================] - 0s 4ms/step - loss: 24.6014\n",
      "Epoch 639/1000\n",
      "5/5 [==============================] - 0s 5ms/step - loss: 24.5450\n",
      "Epoch 640/1000\n",
      "5/5 [==============================] - 0s 4ms/step - loss: 24.4826\n",
      "Epoch 641/1000\n",
      "5/5 [==============================] - 0s 4ms/step - loss: 24.4204\n",
      "Epoch 642/1000\n",
      "5/5 [==============================] - 0s 4ms/step - loss: 24.3599\n",
      "Epoch 643/1000\n",
      "5/5 [==============================] - 0s 4ms/step - loss: 24.2974\n",
      "Epoch 644/1000\n",
      "5/5 [==============================] - 0s 4ms/step - loss: 24.2401\n",
      "Epoch 645/1000\n",
      "5/5 [==============================] - 0s 5ms/step - loss: 24.1785\n",
      "Epoch 646/1000\n",
      "5/5 [==============================] - 0s 4ms/step - loss: 24.1187\n",
      "Epoch 647/1000\n",
      "5/5 [==============================] - 0s 5ms/step - loss: 24.0647\n",
      "Epoch 648/1000\n",
      "5/5 [==============================] - 0s 4ms/step - loss: 23.9968\n",
      "Epoch 649/1000\n",
      "5/5 [==============================] - 0s 4ms/step - loss: 23.9405\n",
      "Epoch 650/1000\n",
      "5/5 [==============================] - 0s 4ms/step - loss: 23.8835\n",
      "Epoch 651/1000\n",
      "5/5 [==============================] - 0s 4ms/step - loss: 23.8229\n",
      "Epoch 652/1000\n",
      "5/5 [==============================] - 0s 4ms/step - loss: 23.7650\n",
      "Epoch 653/1000\n",
      "5/5 [==============================] - 0s 4ms/step - loss: 23.7102\n",
      "Epoch 654/1000\n",
      "5/5 [==============================] - 0s 4ms/step - loss: 23.6512\n",
      "Epoch 655/1000\n",
      "5/5 [==============================] - 0s 4ms/step - loss: 23.5948\n",
      "Epoch 656/1000\n",
      "5/5 [==============================] - 0s 4ms/step - loss: 23.5357\n",
      "Epoch 657/1000\n",
      "5/5 [==============================] - 0s 4ms/step - loss: 23.4748\n",
      "Epoch 658/1000\n",
      "5/5 [==============================] - 0s 4ms/step - loss: 23.4178\n",
      "Epoch 659/1000\n",
      "5/5 [==============================] - 0s 4ms/step - loss: 23.3566\n",
      "Epoch 660/1000\n",
      "5/5 [==============================] - 0s 4ms/step - loss: 23.2999\n",
      "Epoch 661/1000\n",
      "5/5 [==============================] - 0s 4ms/step - loss: 23.2418\n",
      "Epoch 662/1000\n",
      "5/5 [==============================] - 0s 4ms/step - loss: 23.1838\n",
      "Epoch 663/1000\n",
      "5/5 [==============================] - 0s 4ms/step - loss: 23.1242\n",
      "Epoch 664/1000\n",
      "5/5 [==============================] - 0s 4ms/step - loss: 23.0704\n",
      "Epoch 665/1000\n",
      "5/5 [==============================] - 0s 4ms/step - loss: 23.0129\n",
      "Epoch 666/1000\n",
      "5/5 [==============================] - 0s 4ms/step - loss: 22.9543\n",
      "Epoch 667/1000\n",
      "5/5 [==============================] - 0s 4ms/step - loss: 22.9018\n",
      "Epoch 668/1000\n",
      "5/5 [==============================] - 0s 4ms/step - loss: 22.8433\n",
      "Epoch 669/1000\n",
      "5/5 [==============================] - 0s 4ms/step - loss: 22.7890\n",
      "Epoch 670/1000\n",
      "5/5 [==============================] - 0s 4ms/step - loss: 22.7336\n",
      "Epoch 671/1000\n",
      "5/5 [==============================] - 0s 3ms/step - loss: 22.6772\n",
      "Epoch 672/1000\n",
      "5/5 [==============================] - 0s 5ms/step - loss: 22.6222\n",
      "Epoch 673/1000\n",
      "5/5 [==============================] - 0s 4ms/step - loss: 22.5660\n",
      "Epoch 674/1000\n",
      "5/5 [==============================] - 0s 5ms/step - loss: 22.5096\n",
      "Epoch 675/1000\n",
      "5/5 [==============================] - 0s 4ms/step - loss: 22.4520\n",
      "Epoch 676/1000\n",
      "5/5 [==============================] - 0s 4ms/step - loss: 22.3993\n",
      "Epoch 677/1000\n",
      "5/5 [==============================] - 0s 5ms/step - loss: 22.3445\n",
      "Epoch 678/1000\n",
      "5/5 [==============================] - 0s 4ms/step - loss: 22.2849\n",
      "Epoch 679/1000\n",
      "5/5 [==============================] - 0s 5ms/step - loss: 22.2329\n",
      "Epoch 680/1000\n",
      "5/5 [==============================] - 0s 4ms/step - loss: 22.1730\n",
      "Epoch 681/1000\n",
      "5/5 [==============================] - 0s 4ms/step - loss: 22.1222\n",
      "Epoch 682/1000\n",
      "5/5 [==============================] - 0s 4ms/step - loss: 22.0637\n",
      "Epoch 683/1000\n",
      "5/5 [==============================] - 0s 4ms/step - loss: 22.0129\n",
      "Epoch 684/1000\n",
      "5/5 [==============================] - 0s 4ms/step - loss: 21.9549\n",
      "Epoch 685/1000\n",
      "5/5 [==============================] - 0s 4ms/step - loss: 21.9017\n",
      "Epoch 686/1000\n",
      "5/5 [==============================] - 0s 4ms/step - loss: 21.8466\n",
      "Epoch 687/1000\n",
      "5/5 [==============================] - 0s 4ms/step - loss: 21.7943\n",
      "Epoch 688/1000\n",
      "5/5 [==============================] - 0s 4ms/step - loss: 21.7382\n",
      "Epoch 689/1000\n",
      "5/5 [==============================] - 0s 4ms/step - loss: 21.6870\n",
      "Epoch 690/1000\n",
      "5/5 [==============================] - 0s 4ms/step - loss: 21.6327\n",
      "Epoch 691/1000\n",
      "5/5 [==============================] - 0s 4ms/step - loss: 21.5814\n",
      "Epoch 692/1000\n",
      "5/5 [==============================] - 0s 4ms/step - loss: 21.5298\n",
      "Epoch 693/1000\n",
      "5/5 [==============================] - 0s 4ms/step - loss: 21.4793\n",
      "Epoch 694/1000\n",
      "5/5 [==============================] - 0s 4ms/step - loss: 21.4253\n",
      "Epoch 695/1000\n",
      "5/5 [==============================] - 0s 4ms/step - loss: 21.3740\n",
      "Epoch 696/1000\n",
      "5/5 [==============================] - 0s 4ms/step - loss: 21.3258\n",
      "Epoch 697/1000\n",
      "5/5 [==============================] - 0s 3ms/step - loss: 21.2724\n",
      "Epoch 698/1000\n",
      "5/5 [==============================] - 0s 4ms/step - loss: 21.2199\n",
      "Epoch 699/1000\n",
      "5/5 [==============================] - 0s 4ms/step - loss: 21.1677\n",
      "Epoch 700/1000\n",
      "5/5 [==============================] - 0s 4ms/step - loss: 21.1189\n",
      "Epoch 701/1000\n",
      "5/5 [==============================] - 0s 4ms/step - loss: 21.0677\n",
      "Epoch 702/1000\n",
      "5/5 [==============================] - 0s 4ms/step - loss: 21.0157\n",
      "Epoch 703/1000\n",
      "5/5 [==============================] - 0s 4ms/step - loss: 20.9669\n",
      "Epoch 704/1000\n",
      "5/5 [==============================] - 0s 4ms/step - loss: 20.9148\n",
      "Epoch 705/1000\n",
      "5/5 [==============================] - 0s 4ms/step - loss: 20.8642\n",
      "Epoch 706/1000\n",
      "5/5 [==============================] - 0s 4ms/step - loss: 20.8117\n",
      "Epoch 707/1000\n",
      "5/5 [==============================] - 0s 4ms/step - loss: 20.7637\n",
      "Epoch 708/1000\n",
      "5/5 [==============================] - 0s 4ms/step - loss: 20.7118\n",
      "Epoch 709/1000\n",
      "5/5 [==============================] - 0s 4ms/step - loss: 20.6631\n",
      "Epoch 710/1000\n",
      "5/5 [==============================] - 0s 4ms/step - loss: 20.6139\n",
      "Epoch 711/1000\n",
      "5/5 [==============================] - 0s 4ms/step - loss: 20.5660\n",
      "Epoch 712/1000\n",
      "5/5 [==============================] - 0s 4ms/step - loss: 20.5182\n",
      "Epoch 713/1000\n",
      "5/5 [==============================] - 0s 4ms/step - loss: 20.4726\n",
      "Epoch 714/1000\n",
      "5/5 [==============================] - 0s 4ms/step - loss: 20.4229\n",
      "Epoch 715/1000\n",
      "5/5 [==============================] - 0s 5ms/step - loss: 20.3765\n",
      "Epoch 716/1000\n",
      "5/5 [==============================] - 0s 4ms/step - loss: 20.3263\n",
      "Epoch 717/1000\n",
      "5/5 [==============================] - 0s 4ms/step - loss: 20.2788\n",
      "Epoch 718/1000\n",
      "5/5 [==============================] - 0s 4ms/step - loss: 20.2285\n",
      "Epoch 719/1000\n",
      "5/5 [==============================] - 0s 5ms/step - loss: 20.1772\n",
      "Epoch 720/1000\n",
      "5/5 [==============================] - 0s 4ms/step - loss: 20.1296\n",
      "Epoch 721/1000\n",
      "5/5 [==============================] - 0s 4ms/step - loss: 20.0787\n",
      "Epoch 722/1000\n",
      "5/5 [==============================] - 0s 5ms/step - loss: 20.0297\n",
      "Epoch 723/1000\n",
      "5/5 [==============================] - 0s 4ms/step - loss: 19.9842\n",
      "Epoch 724/1000\n",
      "5/5 [==============================] - 0s 4ms/step - loss: 19.9311\n",
      "Epoch 725/1000\n",
      "5/5 [==============================] - 0s 4ms/step - loss: 19.8837\n",
      "Epoch 726/1000\n",
      "5/5 [==============================] - 0s 5ms/step - loss: 19.8337\n",
      "Epoch 727/1000\n",
      "5/5 [==============================] - 0s 5ms/step - loss: 19.7892\n",
      "Epoch 728/1000\n",
      "5/5 [==============================] - 0s 4ms/step - loss: 19.7411\n",
      "Epoch 729/1000\n",
      "5/5 [==============================] - 0s 4ms/step - loss: 19.6975\n",
      "Epoch 730/1000\n",
      "5/5 [==============================] - 0s 4ms/step - loss: 19.6529\n",
      "Epoch 731/1000\n",
      "5/5 [==============================] - 0s 4ms/step - loss: 19.6085\n",
      "Epoch 732/1000\n",
      "5/5 [==============================] - 0s 4ms/step - loss: 19.5596\n",
      "Epoch 733/1000\n",
      "5/5 [==============================] - 0s 4ms/step - loss: 19.5153\n",
      "Epoch 734/1000\n",
      "5/5 [==============================] - 0s 4ms/step - loss: 19.4715\n",
      "Epoch 735/1000\n",
      "5/5 [==============================] - 0s 4ms/step - loss: 19.4245\n",
      "Epoch 736/1000\n",
      "5/5 [==============================] - 0s 4ms/step - loss: 19.3801\n",
      "Epoch 737/1000\n",
      "5/5 [==============================] - 0s 4ms/step - loss: 19.3360\n",
      "Epoch 738/1000\n",
      "5/5 [==============================] - 0s 4ms/step - loss: 19.2912\n",
      "Epoch 739/1000\n",
      "5/5 [==============================] - 0s 4ms/step - loss: 19.2477\n",
      "Epoch 740/1000\n",
      "5/5 [==============================] - 0s 4ms/step - loss: 19.2046\n",
      "Epoch 741/1000\n",
      "5/5 [==============================] - 0s 4ms/step - loss: 19.1574\n",
      "Epoch 742/1000\n",
      "5/5 [==============================] - 0s 5ms/step - loss: 19.1171\n",
      "Epoch 743/1000\n",
      "5/5 [==============================] - 0s 4ms/step - loss: 19.0719\n",
      "Epoch 744/1000\n",
      "5/5 [==============================] - 0s 4ms/step - loss: 19.0285\n",
      "Epoch 745/1000\n",
      "5/5 [==============================] - 0s 5ms/step - loss: 18.9849\n",
      "Epoch 746/1000\n",
      "5/5 [==============================] - 0s 4ms/step - loss: 18.9404\n",
      "Epoch 747/1000\n",
      "5/5 [==============================] - 0s 5ms/step - loss: 18.8968\n",
      "Epoch 748/1000\n",
      "5/5 [==============================] - 0s 4ms/step - loss: 18.8528\n",
      "Epoch 749/1000\n",
      "5/5 [==============================] - 0s 4ms/step - loss: 18.8114\n",
      "Epoch 750/1000\n",
      "5/5 [==============================] - 0s 4ms/step - loss: 18.7648\n",
      "Epoch 751/1000\n",
      "5/5 [==============================] - 0s 4ms/step - loss: 18.7215\n",
      "Epoch 752/1000\n",
      "5/5 [==============================] - 0s 4ms/step - loss: 18.6781\n",
      "Epoch 753/1000\n",
      "5/5 [==============================] - 0s 4ms/step - loss: 18.6329\n",
      "Epoch 754/1000\n",
      "5/5 [==============================] - 0s 4ms/step - loss: 18.5904\n",
      "Epoch 755/1000\n",
      "5/5 [==============================] - 0s 4ms/step - loss: 18.5466\n",
      "Epoch 756/1000\n",
      "5/5 [==============================] - 0s 4ms/step - loss: 18.5034\n",
      "Epoch 757/1000\n",
      "5/5 [==============================] - 0s 4ms/step - loss: 18.4576\n",
      "Epoch 758/1000\n",
      "5/5 [==============================] - 0s 4ms/step - loss: 18.4149\n",
      "Epoch 759/1000\n",
      "5/5 [==============================] - 0s 4ms/step - loss: 18.3709\n",
      "Epoch 760/1000\n",
      "5/5 [==============================] - 0s 5ms/step - loss: 18.3308\n",
      "Epoch 761/1000\n",
      "5/5 [==============================] - 0s 6ms/step - loss: 18.2876\n",
      "Epoch 762/1000\n",
      "5/5 [==============================] - 0s 5ms/step - loss: 18.2470\n",
      "Epoch 763/1000\n",
      "5/5 [==============================] - 0s 4ms/step - loss: 18.2037\n",
      "Epoch 764/1000\n",
      "5/5 [==============================] - 0s 4ms/step - loss: 18.1628\n",
      "Epoch 765/1000\n",
      "5/5 [==============================] - 0s 4ms/step - loss: 18.1210\n",
      "Epoch 766/1000\n",
      "5/5 [==============================] - 0s 4ms/step - loss: 18.0808\n",
      "Epoch 767/1000\n",
      "5/5 [==============================] - 0s 6ms/step - loss: 18.0376\n",
      "Epoch 768/1000\n",
      "5/5 [==============================] - 0s 4ms/step - loss: 17.9990\n",
      "Epoch 769/1000\n",
      "5/5 [==============================] - 0s 5ms/step - loss: 17.9573\n",
      "Epoch 770/1000\n",
      "5/5 [==============================] - 0s 4ms/step - loss: 17.9145\n",
      "Epoch 771/1000\n",
      "5/5 [==============================] - 0s 4ms/step - loss: 17.8727\n",
      "Epoch 772/1000\n",
      "5/5 [==============================] - 0s 4ms/step - loss: 17.8322\n",
      "Epoch 773/1000\n",
      "5/5 [==============================] - 0s 4ms/step - loss: 17.7922\n",
      "Epoch 774/1000\n",
      "5/5 [==============================] - 0s 4ms/step - loss: 17.7527\n",
      "Epoch 775/1000\n",
      "5/5 [==============================] - 0s 5ms/step - loss: 17.7128\n",
      "Epoch 776/1000\n",
      "5/5 [==============================] - 0s 4ms/step - loss: 17.6747\n",
      "Epoch 777/1000\n",
      "5/5 [==============================] - 0s 4ms/step - loss: 17.6327\n",
      "Epoch 778/1000\n",
      "5/5 [==============================] - 0s 4ms/step - loss: 17.5915\n",
      "Epoch 779/1000\n",
      "5/5 [==============================] - 0s 4ms/step - loss: 17.5535\n",
      "Epoch 780/1000\n",
      "5/5 [==============================] - 0s 5ms/step - loss: 17.5148\n",
      "Epoch 781/1000\n",
      "5/5 [==============================] - 0s 4ms/step - loss: 17.4732\n",
      "Epoch 782/1000\n",
      "5/5 [==============================] - 0s 4ms/step - loss: 17.4351\n",
      "Epoch 783/1000\n",
      "5/5 [==============================] - 0s 4ms/step - loss: 17.3966\n",
      "Epoch 784/1000\n",
      "5/5 [==============================] - 0s 4ms/step - loss: 17.3589\n",
      "Epoch 785/1000\n",
      "5/5 [==============================] - 0s 4ms/step - loss: 17.3195\n",
      "Epoch 786/1000\n",
      "5/5 [==============================] - 0s 4ms/step - loss: 17.2806\n",
      "Epoch 787/1000\n",
      "5/5 [==============================] - 0s 4ms/step - loss: 17.2435\n",
      "Epoch 788/1000\n",
      "5/5 [==============================] - 0s 4ms/step - loss: 17.2042\n",
      "Epoch 789/1000\n",
      "5/5 [==============================] - 0s 4ms/step - loss: 17.1644\n",
      "Epoch 790/1000\n",
      "5/5 [==============================] - 0s 7ms/step - loss: 17.1272\n",
      "Epoch 791/1000\n",
      "5/5 [==============================] - 0s 4ms/step - loss: 17.0902\n",
      "Epoch 792/1000\n",
      "5/5 [==============================] - 0s 4ms/step - loss: 17.0499\n",
      "Epoch 793/1000\n",
      "5/5 [==============================] - 0s 5ms/step - loss: 17.0135\n",
      "Epoch 794/1000\n",
      "5/5 [==============================] - 0s 5ms/step - loss: 16.9723\n",
      "Epoch 795/1000\n",
      "5/5 [==============================] - 0s 5ms/step - loss: 16.9364\n",
      "Epoch 796/1000\n",
      "5/5 [==============================] - 0s 4ms/step - loss: 16.8968\n",
      "Epoch 797/1000\n",
      "5/5 [==============================] - 0s 4ms/step - loss: 16.8590\n",
      "Epoch 798/1000\n",
      "5/5 [==============================] - 0s 5ms/step - loss: 16.8213\n",
      "Epoch 799/1000\n",
      "5/5 [==============================] - 0s 5ms/step - loss: 16.7827\n",
      "Epoch 800/1000\n",
      "5/5 [==============================] - 0s 6ms/step - loss: 16.7473\n",
      "Epoch 801/1000\n",
      "5/5 [==============================] - 0s 4ms/step - loss: 16.7087\n",
      "Epoch 802/1000\n",
      "5/5 [==============================] - 0s 5ms/step - loss: 16.6713\n",
      "Epoch 803/1000\n",
      "5/5 [==============================] - 0s 5ms/step - loss: 16.6355\n",
      "Epoch 804/1000\n",
      "5/5 [==============================] - 0s 5ms/step - loss: 16.5973\n",
      "Epoch 805/1000\n",
      "5/5 [==============================] - 0s 4ms/step - loss: 16.5621\n",
      "Epoch 806/1000\n",
      "5/5 [==============================] - 0s 4ms/step - loss: 16.5261\n",
      "Epoch 807/1000\n",
      "5/5 [==============================] - 0s 4ms/step - loss: 16.4891\n",
      "Epoch 808/1000\n",
      "5/5 [==============================] - 0s 4ms/step - loss: 16.4557\n",
      "Epoch 809/1000\n",
      "5/5 [==============================] - 0s 4ms/step - loss: 16.4184\n",
      "Epoch 810/1000\n",
      "5/5 [==============================] - 0s 4ms/step - loss: 16.3851\n",
      "Epoch 811/1000\n",
      "5/5 [==============================] - 0s 4ms/step - loss: 16.3494\n",
      "Epoch 812/1000\n",
      "5/5 [==============================] - 0s 4ms/step - loss: 16.3170\n",
      "Epoch 813/1000\n",
      "5/5 [==============================] - 0s 4ms/step - loss: 16.2836\n",
      "Epoch 814/1000\n",
      "5/5 [==============================] - 0s 4ms/step - loss: 16.2497\n",
      "Epoch 815/1000\n",
      "5/5 [==============================] - 0s 4ms/step - loss: 16.2143\n",
      "Epoch 816/1000\n",
      "5/5 [==============================] - 0s 4ms/step - loss: 16.1805\n",
      "Epoch 817/1000\n",
      "5/5 [==============================] - 0s 4ms/step - loss: 16.1487\n",
      "Epoch 818/1000\n",
      "5/5 [==============================] - 0s 5ms/step - loss: 16.1131\n",
      "Epoch 819/1000\n",
      "5/5 [==============================] - 0s 5ms/step - loss: 16.0810\n",
      "Epoch 820/1000\n",
      "5/5 [==============================] - 0s 5ms/step - loss: 16.0450\n",
      "Epoch 821/1000\n",
      "5/5 [==============================] - 0s 5ms/step - loss: 16.0117\n",
      "Epoch 822/1000\n",
      "5/5 [==============================] - 0s 4ms/step - loss: 15.9790\n",
      "Epoch 823/1000\n",
      "5/5 [==============================] - 0s 4ms/step - loss: 15.9432\n",
      "Epoch 824/1000\n",
      "5/5 [==============================] - 0s 5ms/step - loss: 15.9103\n",
      "Epoch 825/1000\n",
      "5/5 [==============================] - 0s 4ms/step - loss: 15.8774\n",
      "Epoch 826/1000\n",
      "5/5 [==============================] - 0s 5ms/step - loss: 15.8420\n",
      "Epoch 827/1000\n",
      "5/5 [==============================] - 0s 5ms/step - loss: 15.8084\n",
      "Epoch 828/1000\n",
      "5/5 [==============================] - 0s 5ms/step - loss: 15.7753\n",
      "Epoch 829/1000\n",
      "5/5 [==============================] - 0s 4ms/step - loss: 15.7433\n",
      "Epoch 830/1000\n",
      "5/5 [==============================] - 0s 4ms/step - loss: 15.7075\n",
      "Epoch 831/1000\n",
      "5/5 [==============================] - 0s 4ms/step - loss: 15.6762\n",
      "Epoch 832/1000\n",
      "5/5 [==============================] - 0s 4ms/step - loss: 15.6431\n",
      "Epoch 833/1000\n",
      "5/5 [==============================] - 0s 5ms/step - loss: 15.6102\n",
      "Epoch 834/1000\n",
      "5/5 [==============================] - 0s 4ms/step - loss: 15.5775\n",
      "Epoch 835/1000\n",
      "5/5 [==============================] - 0s 4ms/step - loss: 15.5461\n",
      "Epoch 836/1000\n",
      "5/5 [==============================] - 0s 4ms/step - loss: 15.5122\n",
      "Epoch 837/1000\n",
      "5/5 [==============================] - 0s 5ms/step - loss: 15.4812\n",
      "Epoch 838/1000\n",
      "5/5 [==============================] - 0s 4ms/step - loss: 15.4486\n",
      "Epoch 839/1000\n",
      "5/5 [==============================] - 0s 5ms/step - loss: 15.4148\n",
      "Epoch 840/1000\n",
      "5/5 [==============================] - 0s 5ms/step - loss: 15.3823\n",
      "Epoch 841/1000\n",
      "5/5 [==============================] - 0s 4ms/step - loss: 15.3497\n",
      "Epoch 842/1000\n",
      "5/5 [==============================] - 0s 4ms/step - loss: 15.3188\n",
      "Epoch 843/1000\n",
      "5/5 [==============================] - 0s 4ms/step - loss: 15.2887\n",
      "Epoch 844/1000\n",
      "5/5 [==============================] - 0s 5ms/step - loss: 15.2593\n",
      "Epoch 845/1000\n",
      "5/5 [==============================] - 0s 5ms/step - loss: 15.2279\n",
      "Epoch 846/1000\n",
      "5/5 [==============================] - 0s 4ms/step - loss: 15.1976\n",
      "Epoch 847/1000\n",
      "5/5 [==============================] - 0s 5ms/step - loss: 15.1683\n",
      "Epoch 848/1000\n",
      "5/5 [==============================] - 0s 4ms/step - loss: 15.1384\n",
      "Epoch 849/1000\n",
      "5/5 [==============================] - 0s 4ms/step - loss: 15.1088\n",
      "Epoch 850/1000\n",
      "5/5 [==============================] - 0s 4ms/step - loss: 15.0790\n",
      "Epoch 851/1000\n",
      "5/5 [==============================] - 0s 4ms/step - loss: 15.0501\n",
      "Epoch 852/1000\n",
      "5/5 [==============================] - 0s 4ms/step - loss: 15.0181\n",
      "Epoch 853/1000\n",
      "5/5 [==============================] - 0s 5ms/step - loss: 14.9893\n",
      "Epoch 854/1000\n",
      "5/5 [==============================] - 0s 5ms/step - loss: 14.9603\n",
      "Epoch 855/1000\n",
      "5/5 [==============================] - 0s 4ms/step - loss: 14.9315\n",
      "Epoch 856/1000\n",
      "5/5 [==============================] - 0s 5ms/step - loss: 14.9007\n",
      "Epoch 857/1000\n",
      "5/5 [==============================] - 0s 4ms/step - loss: 14.8717\n",
      "Epoch 858/1000\n",
      "5/5 [==============================] - 0s 5ms/step - loss: 14.8432\n",
      "Epoch 859/1000\n",
      "5/5 [==============================] - 0s 4ms/step - loss: 14.8141\n",
      "Epoch 860/1000\n",
      "5/5 [==============================] - 0s 5ms/step - loss: 14.7878\n",
      "Epoch 861/1000\n",
      "5/5 [==============================] - 0s 4ms/step - loss: 14.7549\n",
      "Epoch 862/1000\n",
      "5/5 [==============================] - 0s 4ms/step - loss: 14.7251\n",
      "Epoch 863/1000\n",
      "5/5 [==============================] - 0s 4ms/step - loss: 14.6958\n",
      "Epoch 864/1000\n",
      "5/5 [==============================] - 0s 4ms/step - loss: 14.6679\n",
      "Epoch 865/1000\n",
      "5/5 [==============================] - 0s 4ms/step - loss: 14.6372\n",
      "Epoch 866/1000\n",
      "5/5 [==============================] - 0s 4ms/step - loss: 14.6066\n",
      "Epoch 867/1000\n",
      "5/5 [==============================] - 0s 4ms/step - loss: 14.5777\n",
      "Epoch 868/1000\n",
      "5/5 [==============================] - 0s 5ms/step - loss: 14.5464\n",
      "Epoch 869/1000\n",
      "5/5 [==============================] - 0s 5ms/step - loss: 14.5178\n",
      "Epoch 870/1000\n",
      "5/5 [==============================] - 0s 5ms/step - loss: 14.4886\n",
      "Epoch 871/1000\n",
      "5/5 [==============================] - 0s 5ms/step - loss: 14.4583\n",
      "Epoch 872/1000\n",
      "5/5 [==============================] - 0s 4ms/step - loss: 14.4269\n",
      "Epoch 873/1000\n",
      "5/5 [==============================] - 0s 5ms/step - loss: 14.4006\n",
      "Epoch 874/1000\n",
      "5/5 [==============================] - 0s 5ms/step - loss: 14.3709\n",
      "Epoch 875/1000\n",
      "5/5 [==============================] - 0s 4ms/step - loss: 14.3406\n",
      "Epoch 876/1000\n",
      "5/5 [==============================] - 0s 5ms/step - loss: 14.3137\n",
      "Epoch 877/1000\n",
      "5/5 [==============================] - 0s 4ms/step - loss: 14.2828\n",
      "Epoch 878/1000\n",
      "5/5 [==============================] - 0s 5ms/step - loss: 14.2540\n",
      "Epoch 879/1000\n",
      "5/5 [==============================] - 0s 5ms/step - loss: 14.2294\n",
      "Epoch 880/1000\n",
      "5/5 [==============================] - 0s 5ms/step - loss: 14.2012\n",
      "Epoch 881/1000\n",
      "5/5 [==============================] - 0s 5ms/step - loss: 14.1744\n",
      "Epoch 882/1000\n",
      "5/5 [==============================] - 0s 4ms/step - loss: 14.1492\n",
      "Epoch 883/1000\n",
      "5/5 [==============================] - 0s 4ms/step - loss: 14.1223\n",
      "Epoch 884/1000\n",
      "5/5 [==============================] - 0s 4ms/step - loss: 14.0976\n",
      "Epoch 885/1000\n",
      "5/5 [==============================] - 0s 4ms/step - loss: 14.0702\n",
      "Epoch 886/1000\n",
      "5/5 [==============================] - 0s 4ms/step - loss: 14.0455\n",
      "Epoch 887/1000\n",
      "5/5 [==============================] - 0s 4ms/step - loss: 14.0173\n",
      "Epoch 888/1000\n",
      "5/5 [==============================] - 0s 5ms/step - loss: 13.9909\n",
      "Epoch 889/1000\n",
      "5/5 [==============================] - 0s 4ms/step - loss: 13.9662\n",
      "Epoch 890/1000\n",
      "5/5 [==============================] - 0s 5ms/step - loss: 13.9401\n",
      "Epoch 891/1000\n",
      "5/5 [==============================] - 0s 4ms/step - loss: 13.9123\n",
      "Epoch 892/1000\n",
      "5/5 [==============================] - 0s 4ms/step - loss: 13.8879\n",
      "Epoch 893/1000\n",
      "5/5 [==============================] - 0s 5ms/step - loss: 13.8615\n",
      "Epoch 894/1000\n",
      "5/5 [==============================] - 0s 4ms/step - loss: 13.8345\n",
      "Epoch 895/1000\n",
      "5/5 [==============================] - 0s 5ms/step - loss: 13.8085\n",
      "Epoch 896/1000\n",
      "5/5 [==============================] - 0s 4ms/step - loss: 13.7844\n",
      "Epoch 897/1000\n",
      "5/5 [==============================] - 0s 5ms/step - loss: 13.7580\n",
      "Epoch 898/1000\n",
      "5/5 [==============================] - 0s 4ms/step - loss: 13.7312\n",
      "Epoch 899/1000\n",
      "5/5 [==============================] - 0s 4ms/step - loss: 13.7062\n",
      "Epoch 900/1000\n",
      "5/5 [==============================] - 0s 4ms/step - loss: 13.6777\n",
      "Epoch 901/1000\n",
      "5/5 [==============================] - 0s 4ms/step - loss: 13.6538\n",
      "Epoch 902/1000\n",
      "5/5 [==============================] - 0s 4ms/step - loss: 13.6265\n",
      "Epoch 903/1000\n",
      "5/5 [==============================] - 0s 5ms/step - loss: 13.6034\n",
      "Epoch 904/1000\n",
      "5/5 [==============================] - 0s 4ms/step - loss: 13.5778\n",
      "Epoch 905/1000\n",
      "5/5 [==============================] - 0s 5ms/step - loss: 13.5521\n",
      "Epoch 906/1000\n",
      "5/5 [==============================] - 0s 4ms/step - loss: 13.5253\n",
      "Epoch 907/1000\n",
      "5/5 [==============================] - 0s 4ms/step - loss: 13.5041\n",
      "Epoch 908/1000\n",
      "5/5 [==============================] - 0s 5ms/step - loss: 13.4790\n",
      "Epoch 909/1000\n",
      "5/5 [==============================] - 0s 4ms/step - loss: 13.4532\n",
      "Epoch 910/1000\n",
      "5/5 [==============================] - 0s 4ms/step - loss: 13.4305\n",
      "Epoch 911/1000\n",
      "5/5 [==============================] - 0s 4ms/step - loss: 13.4080\n",
      "Epoch 912/1000\n",
      "5/5 [==============================] - 0s 4ms/step - loss: 13.3839\n",
      "Epoch 913/1000\n",
      "5/5 [==============================] - 0s 4ms/step - loss: 13.3604\n",
      "Epoch 914/1000\n",
      "5/5 [==============================] - 0s 4ms/step - loss: 13.3384\n",
      "Epoch 915/1000\n",
      "5/5 [==============================] - 0s 4ms/step - loss: 13.3132\n",
      "Epoch 916/1000\n",
      "5/5 [==============================] - 0s 5ms/step - loss: 13.2904\n",
      "Epoch 917/1000\n",
      "5/5 [==============================] - 0s 5ms/step - loss: 13.2656\n",
      "Epoch 918/1000\n",
      "5/5 [==============================] - 0s 5ms/step - loss: 13.2435\n",
      "Epoch 919/1000\n",
      "5/5 [==============================] - 0s 5ms/step - loss: 13.2204\n",
      "Epoch 920/1000\n",
      "5/5 [==============================] - 0s 5ms/step - loss: 13.1998\n",
      "Epoch 921/1000\n",
      "5/5 [==============================] - 0s 4ms/step - loss: 13.1765\n",
      "Epoch 922/1000\n",
      "5/5 [==============================] - 0s 5ms/step - loss: 13.1545\n",
      "Epoch 923/1000\n",
      "5/5 [==============================] - 0s 5ms/step - loss: 13.1336\n",
      "Epoch 924/1000\n",
      "5/5 [==============================] - 0s 6ms/step - loss: 13.1085\n",
      "Epoch 925/1000\n",
      "5/5 [==============================] - 0s 5ms/step - loss: 13.0871\n",
      "Epoch 926/1000\n",
      "5/5 [==============================] - 0s 5ms/step - loss: 13.0648\n",
      "Epoch 927/1000\n",
      "5/5 [==============================] - 0s 4ms/step - loss: 13.0433\n",
      "Epoch 928/1000\n",
      "5/5 [==============================] - 0s 4ms/step - loss: 13.0205\n",
      "Epoch 929/1000\n",
      "5/5 [==============================] - 0s 4ms/step - loss: 13.0012\n",
      "Epoch 930/1000\n",
      "5/5 [==============================] - 0s 4ms/step - loss: 12.9775\n",
      "Epoch 931/1000\n",
      "5/5 [==============================] - 0s 4ms/step - loss: 12.9545\n",
      "Epoch 932/1000\n",
      "5/5 [==============================] - 0s 4ms/step - loss: 12.9339\n",
      "Epoch 933/1000\n",
      "5/5 [==============================] - 0s 4ms/step - loss: 12.9135\n",
      "Epoch 934/1000\n",
      "5/5 [==============================] - 0s 4ms/step - loss: 12.8928\n",
      "Epoch 935/1000\n",
      "5/5 [==============================] - 0s 5ms/step - loss: 12.8698\n",
      "Epoch 936/1000\n",
      "5/5 [==============================] - 0s 5ms/step - loss: 12.8485\n",
      "Epoch 937/1000\n",
      "5/5 [==============================] - 0s 5ms/step - loss: 12.8285\n",
      "Epoch 938/1000\n",
      "5/5 [==============================] - 0s 5ms/step - loss: 12.8063\n",
      "Epoch 939/1000\n",
      "5/5 [==============================] - 0s 4ms/step - loss: 12.7837\n",
      "Epoch 940/1000\n",
      "5/5 [==============================] - 0s 4ms/step - loss: 12.7615\n",
      "Epoch 941/1000\n",
      "5/5 [==============================] - 0s 4ms/step - loss: 12.7387\n",
      "Epoch 942/1000\n",
      "5/5 [==============================] - 0s 5ms/step - loss: 12.7165\n",
      "Epoch 943/1000\n",
      "5/5 [==============================] - 0s 4ms/step - loss: 12.6954\n",
      "Epoch 944/1000\n",
      "5/5 [==============================] - 0s 4ms/step - loss: 12.6738\n",
      "Epoch 945/1000\n",
      "5/5 [==============================] - 0s 5ms/step - loss: 12.6491\n",
      "Epoch 946/1000\n",
      "5/5 [==============================] - 0s 5ms/step - loss: 12.6287\n",
      "Epoch 947/1000\n",
      "5/5 [==============================] - 0s 5ms/step - loss: 12.6080\n",
      "Epoch 948/1000\n",
      "5/5 [==============================] - 0s 4ms/step - loss: 12.5878\n",
      "Epoch 949/1000\n",
      "5/5 [==============================] - 0s 4ms/step - loss: 12.5661\n",
      "Epoch 950/1000\n",
      "5/5 [==============================] - 0s 4ms/step - loss: 12.5463\n",
      "Epoch 951/1000\n",
      "5/5 [==============================] - 0s 5ms/step - loss: 12.5268\n",
      "Epoch 952/1000\n",
      "5/5 [==============================] - 0s 4ms/step - loss: 12.5058\n",
      "Epoch 953/1000\n",
      "5/5 [==============================] - 0s 4ms/step - loss: 12.4866\n",
      "Epoch 954/1000\n",
      "5/5 [==============================] - 0s 6ms/step - loss: 12.4691\n",
      "Epoch 955/1000\n",
      "5/5 [==============================] - 0s 6ms/step - loss: 12.4456\n",
      "Epoch 956/1000\n",
      "5/5 [==============================] - 0s 4ms/step - loss: 12.4269\n",
      "Epoch 957/1000\n",
      "5/5 [==============================] - 0s 5ms/step - loss: 12.4066\n",
      "Epoch 958/1000\n",
      "5/5 [==============================] - 0s 5ms/step - loss: 12.3865\n",
      "Epoch 959/1000\n",
      "5/5 [==============================] - 0s 5ms/step - loss: 12.3668\n",
      "Epoch 960/1000\n",
      "5/5 [==============================] - 0s 5ms/step - loss: 12.3471\n",
      "Epoch 961/1000\n",
      "5/5 [==============================] - 0s 4ms/step - loss: 12.3278\n",
      "Epoch 962/1000\n",
      "5/5 [==============================] - 0s 5ms/step - loss: 12.3070\n",
      "Epoch 963/1000\n",
      "5/5 [==============================] - 0s 4ms/step - loss: 12.2914\n",
      "Epoch 964/1000\n",
      "5/5 [==============================] - 0s 4ms/step - loss: 12.2710\n",
      "Epoch 965/1000\n",
      "5/5 [==============================] - 0s 4ms/step - loss: 12.2539\n",
      "Epoch 966/1000\n",
      "5/5 [==============================] - 0s 4ms/step - loss: 12.2342\n",
      "Epoch 967/1000\n",
      "5/5 [==============================] - 0s 4ms/step - loss: 12.2169\n",
      "Epoch 968/1000\n",
      "5/5 [==============================] - 0s 4ms/step - loss: 12.1991\n",
      "Epoch 969/1000\n",
      "5/5 [==============================] - 0s 4ms/step - loss: 12.1802\n",
      "Epoch 970/1000\n",
      "5/5 [==============================] - 0s 4ms/step - loss: 12.1609\n",
      "Epoch 971/1000\n",
      "5/5 [==============================] - 0s 4ms/step - loss: 12.1426\n",
      "Epoch 972/1000\n",
      "5/5 [==============================] - 0s 4ms/step - loss: 12.1249\n",
      "Epoch 973/1000\n",
      "5/5 [==============================] - 0s 5ms/step - loss: 12.1083\n",
      "Epoch 974/1000\n",
      "5/5 [==============================] - 0s 4ms/step - loss: 12.0897\n",
      "Epoch 975/1000\n",
      "5/5 [==============================] - 0s 5ms/step - loss: 12.0725\n",
      "Epoch 976/1000\n",
      "5/5 [==============================] - 0s 5ms/step - loss: 12.0546\n",
      "Epoch 977/1000\n",
      "5/5 [==============================] - 0s 5ms/step - loss: 12.0373\n",
      "Epoch 978/1000\n",
      "5/5 [==============================] - 0s 5ms/step - loss: 12.0178\n",
      "Epoch 979/1000\n",
      "5/5 [==============================] - 0s 6ms/step - loss: 12.0016\n",
      "Epoch 980/1000\n",
      "5/5 [==============================] - 0s 6ms/step - loss: 11.9824\n",
      "Epoch 981/1000\n",
      "5/5 [==============================] - 0s 6ms/step - loss: 11.9669\n",
      "Epoch 982/1000\n",
      "5/5 [==============================] - 0s 5ms/step - loss: 11.9476\n",
      "Epoch 983/1000\n",
      "5/5 [==============================] - 0s 5ms/step - loss: 11.9313\n",
      "Epoch 984/1000\n",
      "5/5 [==============================] - 0s 4ms/step - loss: 11.9138\n",
      "Epoch 985/1000\n",
      "5/5 [==============================] - 0s 4ms/step - loss: 11.8972\n",
      "Epoch 986/1000\n",
      "5/5 [==============================] - 0s 6ms/step - loss: 11.8816\n",
      "Epoch 987/1000\n",
      "5/5 [==============================] - 0s 5ms/step - loss: 11.8637\n",
      "Epoch 988/1000\n",
      "5/5 [==============================] - 0s 6ms/step - loss: 11.8482\n",
      "Epoch 989/1000\n",
      "5/5 [==============================] - 0s 5ms/step - loss: 11.8293\n",
      "Epoch 990/1000\n",
      "5/5 [==============================] - 0s 5ms/step - loss: 11.8132\n",
      "Epoch 991/1000\n",
      "5/5 [==============================] - 0s 5ms/step - loss: 11.7973\n",
      "Epoch 992/1000\n",
      "5/5 [==============================] - 0s 6ms/step - loss: 11.7813\n",
      "Epoch 993/1000\n",
      "5/5 [==============================] - 0s 5ms/step - loss: 11.7659\n",
      "Epoch 994/1000\n",
      "5/5 [==============================] - 0s 6ms/step - loss: 11.7494\n",
      "Epoch 995/1000\n",
      "5/5 [==============================] - 0s 5ms/step - loss: 11.7349\n",
      "Epoch 996/1000\n",
      "5/5 [==============================] - 0s 5ms/step - loss: 11.7208\n",
      "Epoch 997/1000\n",
      "5/5 [==============================] - 0s 4ms/step - loss: 11.7033\n",
      "Epoch 998/1000\n",
      "5/5 [==============================] - 0s 5ms/step - loss: 11.6881\n",
      "Epoch 999/1000\n",
      "5/5 [==============================] - 0s 5ms/step - loss: 11.6716\n",
      "Epoch 1000/1000\n",
      "5/5 [==============================] - 0s 5ms/step - loss: 11.6556\n"
     ]
    },
    {
     "name": "stderr",
     "output_type": "stream",
     "text": [
      "WARNING:tensorflow:6 out of the last 11 calls to <function Model.make_predict_function.<locals>.predict_function at 0x7dde4c3111b0> triggered tf.function retracing. Tracing is expensive and the excessive number of tracings could be due to (1) creating @tf.function repeatedly in a loop, (2) passing tensors with different shapes, (3) passing Python objects instead of tensors. For (1), please define your @tf.function outside of the loop. For (2), @tf.function has reduce_retracing=True option that can avoid unnecessary retracing. For (3), please refer to https://www.tensorflow.org/guide/function#controlling_retracing and https://www.tensorflow.org/api_docs/python/tf/function for  more details.\n"
     ]
    }
   ],
   "source": [
    "## compile\n",
    "model.compile(optimizer = \"adam\", loss = \"mse\")\n",
    "\n",
    "## fit\n",
    "model.fit(x_train, y_train, epochs = 1000)\n",
    "\n",
    "y_pred_final = model.predict(x_test,verbose = 0)"
   ]
  },
  {
   "cell_type": "markdown",
   "metadata": {
    "id": "D1A3-ZXG3nCi"
   },
   "source": [
    "`-` epoch을 1000번쯤 셋팅하니 잘 예측한다.."
   ]
  },
  {
   "cell_type": "code",
   "execution_count": 165,
   "metadata": {
    "colab": {
     "base_uri": "https://localhost:8080/",
     "height": 304
    },
    "executionInfo": {
     "elapsed": 1183,
     "status": "ok",
     "timestamp": 1696308539742,
     "user": {
      "displayName": "ccc flkwerkdai",
      "userId": "13507850890638580947"
     },
     "user_tz": -540
    },
    "id": "kcVq1Us22piI",
    "outputId": "5aff9e07-d308-4d07-bb3f-966fec97c203"
   },
   "outputs": [
    {
     "data": {
      "image/png": "[encoded data removed]",
      "text/plain": [
       "<Figure size 1200x400 with 1 Axes>"
      ]
     },
     "metadata": {},
     "output_type": "display_data"
    }
   ],
   "source": [
    "# | code-fold : true\n",
    "plt.figure(figsize = (12,4))\n",
    "plt.plot(y_test,label = r\"$y_{test}$\",alpha = 0.5)\n",
    "plt.plot(y_pred_init,label = r\"$\\hat {y}_{init}$\",alpha = 0.6)\n",
    "plt.plot(y_pred_5,label = r\"$\\hat {y}_{5}$\",alpha = 0.6)\n",
    "plt.plot(y_pred_final,label = r\"$\\hat {y}_{final}$\",alpha = 0.6)\n",
    "plt.title(r\"($y_{test}, \\hat {y}_{init}, \\hat {y}_{5},\\hat {y}_{final}$)\")\n",
    "plt.legend()\n",
    "plt.show()"
   ]
  },
  {
   "cell_type": "markdown",
   "metadata": {
    "id": "GfeRCaSP3lQK"
   },
   "source": [
    "`-` 검증해보자"
   ]
  },
  {
   "cell_type": "markdown",
   "metadata": {
    "id": "bkNs9GbQ367X"
   },
   "source": [
    "*  검증결과 이런 간단한 회귀 문제는 시간을 들여서 딥러닝 모델을 사용할 필요가 없어보인다.\n",
    "\n",
    "* 비교해보니, 걸리는 시간은 딥러닝 모델이 훨씬 길고, 예측 성능도 떨어진다."
   ]
  },
  {
   "cell_type": "code",
   "execution_count": 168,
   "metadata": {
    "colab": {
     "base_uri": "https://localhost:8080/"
    },
    "executionInfo": {
     "elapsed": 3,
     "status": "ok",
     "timestamp": 1696308705913,
     "user": {
      "displayName": "ccc flkwerkdai",
      "userId": "13507850890638580947"
     },
     "user_tz": -540
    },
    "id": "mId_n0Ca35mv",
    "outputId": "0eae2d2b-6536-4421-920e-709d596f7f0c"
   },
   "outputs": [
    {
     "name": "stdout",
     "output_type": "stream",
     "text": [
      "ML model\n",
      "RMSE  : 1.5547807224924604\n",
      "MAE   : 1.2573619368638342\n",
      "MAPE  : 0.11717490489730135\n"
     ]
    }
   ],
   "source": [
    "print(\"ML model\")\n",
    "print(f'RMSE  : {mean_squared_error(y_test, lm.pred, squared=False)}')\n",
    "print(f'MAE   : {mean_absolute_error(y_test, lm.pred)}')\n",
    "print(f'MAPE  : {mean_absolute_percentage_error(y_test, lm.pred)}')"
   ]
  },
  {
   "cell_type": "code",
   "execution_count": 169,
   "metadata": {
    "colab": {
     "base_uri": "https://localhost:8080/"
    },
    "executionInfo": {
     "elapsed": 487,
     "status": "ok",
     "timestamp": 1696308714915,
     "user": {
      "displayName": "ccc flkwerkdai",
      "userId": "13507850890638580947"
     },
     "user_tz": -540
    },
    "id": "A0iGe4fZ3vQe",
    "outputId": "c80cf561-8c11-4108-e917-af02c489b7fe"
   },
   "outputs": [
    {
     "name": "stdout",
     "output_type": "stream",
     "text": [
      "DL model\n",
      "RMSE  : 2.895100478652866\n",
      "MAE   : 2.1337850681940713\n",
      "MAPE  : 0.15886854745380438\n"
     ]
    }
   ],
   "source": [
    "print(\"DL model\")\n",
    "print(f'RMSE  : {mean_squared_error(y_test, y_pred_final, squared=False)}')\n",
    "print(f'MAE   : {mean_absolute_error(y_test, y_pred_final)}')\n",
    "print(f'MAPE  : {mean_absolute_percentage_error(y_test, y_pred_final)}')"
   ]
  },
  {
   "cell_type": "markdown",
   "metadata": {
    "id": "bTbvNEQS4ONz"
   },
   "source": [
    "---"
   ]
  },
  {
   "cell_type": "markdown",
   "metadata": {
    "id": "3robh_Q14Wca"
   },
   "source": [
    "## exercise 1. Carseat (회귀)"
   ]
  },
  {
   "cell_type": "markdown",
   "metadata": {
    "id": "lp0m08t_4bWu"
   },
   "source": [
    "### (1) 데이터 준비 및 이해"
   ]
  },
  {
   "cell_type": "code",
   "execution_count": 170,
   "metadata": {
    "colab": {
     "base_uri": "https://localhost:8080/",
     "height": 226
    },
    "executionInfo": {
     "elapsed": 6,
     "status": "ok",
     "timestamp": 1696308822810,
     "user": {
      "displayName": "ccc flkwerkdai",
      "userId": "13507850890638580947"
     },
     "user_tz": -540
    },
    "id": "6cNwM4if4lRe",
    "outputId": "f75e8944-ed03-4aae-8133-bb205d0197d8"
   },
   "outputs": [
    {
     "data": {
      "text/html": [
       "\n",
       "  <div id=\"df-a3468791-4719-430c-a53b-4034cfea3d4b\" class=\"colab-df-container\">\n",
       "    <div>\n",
       "<style scoped>\n",
       "    .dataframe tbody tr th:only-of-type {\n",
       "        vertical-align: middle;\n",
       "    }\n",
       "\n",
       "    .dataframe tbody tr th {\n",
       "        vertical-align: top;\n",
       "    }\n",
       "\n",
       "    .dataframe thead th {\n",
       "        text-align: right;\n",
       "    }\n",
       "</style>\n",
       "<table border=\"1\" class=\"dataframe\">\n",
       "  <thead>\n",
       "    <tr style=\"text-align: right;\">\n",
       "      <th></th>\n",
       "      <th>Sales</th>\n",
       "      <th>CompPrice</th>\n",
       "      <th>Income</th>\n",
       "      <th>Advertising</th>\n",
       "      <th>Population</th>\n",
       "      <th>Price</th>\n",
       "      <th>ShelveLoc</th>\n",
       "      <th>Age</th>\n",
       "      <th>Education</th>\n",
       "      <th>Urban</th>\n",
       "      <th>US</th>\n",
       "    </tr>\n",
       "  </thead>\n",
       "  <tbody>\n",
       "    <tr>\n",
       "      <th>0</th>\n",
       "      <td>9.50</td>\n",
       "      <td>138</td>\n",
       "      <td>73</td>\n",
       "      <td>11</td>\n",
       "      <td>276</td>\n",
       "      <td>120</td>\n",
       "      <td>Bad</td>\n",
       "      <td>42</td>\n",
       "      <td>17</td>\n",
       "      <td>Yes</td>\n",
       "      <td>Yes</td>\n",
       "    </tr>\n",
       "    <tr>\n",
       "      <th>1</th>\n",
       "      <td>11.22</td>\n",
       "      <td>111</td>\n",
       "      <td>48</td>\n",
       "      <td>16</td>\n",
       "      <td>260</td>\n",
       "      <td>83</td>\n",
       "      <td>Good</td>\n",
       "      <td>65</td>\n",
       "      <td>10</td>\n",
       "      <td>Yes</td>\n",
       "      <td>Yes</td>\n",
       "    </tr>\n",
       "    <tr>\n",
       "      <th>2</th>\n",
       "      <td>10.06</td>\n",
       "      <td>113</td>\n",
       "      <td>35</td>\n",
       "      <td>10</td>\n",
       "      <td>269</td>\n",
       "      <td>80</td>\n",
       "      <td>Medium</td>\n",
       "      <td>59</td>\n",
       "      <td>12</td>\n",
       "      <td>Yes</td>\n",
       "      <td>Yes</td>\n",
       "    </tr>\n",
       "    <tr>\n",
       "      <th>3</th>\n",
       "      <td>7.40</td>\n",
       "      <td>117</td>\n",
       "      <td>100</td>\n",
       "      <td>4</td>\n",
       "      <td>466</td>\n",
       "      <td>97</td>\n",
       "      <td>Medium</td>\n",
       "      <td>55</td>\n",
       "      <td>14</td>\n",
       "      <td>Yes</td>\n",
       "      <td>Yes</td>\n",
       "    </tr>\n",
       "    <tr>\n",
       "      <th>4</th>\n",
       "      <td>4.15</td>\n",
       "      <td>141</td>\n",
       "      <td>64</td>\n",
       "      <td>3</td>\n",
       "      <td>340</td>\n",
       "      <td>128</td>\n",
       "      <td>Bad</td>\n",
       "      <td>38</td>\n",
       "      <td>13</td>\n",
       "      <td>Yes</td>\n",
       "      <td>No</td>\n",
       "    </tr>\n",
       "  </tbody>\n",
       "</table>\n",
       "</div>\n",
       "    <div class=\"colab-df-buttons\">\n",
       "\n",
       "  <div class=\"colab-df-container\">\n",
       "    <button class=\"colab-df-convert\" onclick=\"convertToInteractive('df-a3468791-4719-430c-a53b-4034cfea3d4b')\"\n",
       "            title=\"Convert this dataframe to an interactive table.\"\n",
       "            style=\"display:none;\">\n",
       "\n",
       "  <svg xmlns=\"http://www.w3.org/2000/svg\" height=\"24px\" viewBox=\"0 -960 960 960\">\n",
       "    <path d=\"M120-120v-720h720v720H120Zm60-500h600v-160H180v160Zm220 220h160v-160H400v160Zm0 220h160v-160H400v160ZM180-400h160v-160H180v160Zm440 0h160v-160H620v160ZM180-180h160v-160H180v160Zm440 0h160v-160H620v160Z\"/>\n",
       "  </svg>\n",
       "    </button>\n",
       "\n",
       "  <style>\n",
       "    .colab-df-container {\n",
       "      display:flex;\n",
       "      gap: 12px;\n",
       "    }\n",
       "\n",
       "    .colab-df-convert {\n",
       "      background-color: #E8F0FE;\n",
       "      border: none;\n",
       "      border-radius: 50%;\n",
       "      cursor: pointer;\n",
       "      display: none;\n",
       "      fill: #1967D2;\n",
       "      height: 32px;\n",
       "      padding: 0 0 0 0;\n",
       "      width: 32px;\n",
       "    }\n",
       "\n",
       "    .colab-df-convert:hover {\n",
       "      background-color: #E2EBFA;\n",
       "      box-shadow: 0px 1px 2px rgba(60, 64, 67, 0.3), 0px 1px 3px 1px rgba(60, 64, 67, 0.15);\n",
       "      fill: #174EA6;\n",
       "    }\n",
       "\n",
       "    .colab-df-buttons div {\n",
       "      margin-bottom: 4px;\n",
       "    }\n",
       "\n",
       "    [theme=dark] .colab-df-convert {\n",
       "      background-color: #3B4455;\n",
       "      fill: #D2E3FC;\n",
       "    }\n",
       "\n",
       "    [theme=dark] .colab-df-convert:hover {\n",
       "      background-color: #434B5C;\n",
       "      box-shadow: 0px 1px 3px 1px rgba(0, 0, 0, 0.15);\n",
       "      filter: drop-shadow(0px 1px 2px rgba(0, 0, 0, 0.3));\n",
       "      fill: #FFFFFF;\n",
       "    }\n",
       "  </style>\n",
       "\n",
       "    <script>\n",
       "      const buttonEl =\n",
       "        document.querySelector('#df-a3468791-4719-430c-a53b-4034cfea3d4b button.colab-df-convert');\n",
       "      buttonEl.style.display =\n",
       "        google.colab.kernel.accessAllowed ? 'block' : 'none';\n",
       "\n",
       "      async function convertToInteractive(key) {\n",
       "        const element = document.querySelector('#df-a3468791-4719-430c-a53b-4034cfea3d4b');\n",
       "        const dataTable =\n",
       "          await google.colab.kernel.invokeFunction('convertToInteractive',\n",
       "                                                    [key], {});\n",
       "        if (!dataTable) return;\n",
       "\n",
       "        const docLinkHtml = 'Like what you see? Visit the ' +\n",
       "          '<a target=\"_blank\" href=https://colab.research.google.com/notebooks/data_table.ipynb>data table notebook</a>'\n",
       "          + ' to learn more about interactive tables.';\n",
       "        element.innerHTML = '';\n",
       "        dataTable['output_type'] = 'display_data';\n",
       "        await google.colab.output.renderOutput(dataTable, element);\n",
       "        const docLink = document.createElement('div');\n",
       "        docLink.innerHTML = docLinkHtml;\n",
       "        element.appendChild(docLink);\n",
       "      }\n",
       "    </script>\n",
       "  </div>\n",
       "\n",
       "\n",
       "<div id=\"df-c8a7fe96-d501-41c4-a2e9-111dbc70ab98\">\n",
       "  <button class=\"colab-df-quickchart\" onclick=\"quickchart('df-c8a7fe96-d501-41c4-a2e9-111dbc70ab98')\"\n",
       "            title=\"Suggest charts.\"\n",
       "            style=\"display:none;\">\n",
       "\n",
       "<svg xmlns=\"http://www.w3.org/2000/svg\" height=\"24px\"viewBox=\"0 0 24 24\"\n",
       "     width=\"24px\">\n",
       "    <g>\n",
       "        <path d=\"M19 3H5c-1.1 0-2 .9-2 2v14c0 1.1.9 2 2 2h14c1.1 0 2-.9 2-2V5c0-1.1-.9-2-2-2zM9 17H7v-7h2v7zm4 0h-2V7h2v10zm4 0h-2v-4h2v4z\"/>\n",
       "    </g>\n",
       "</svg>\n",
       "  </button>\n",
       "\n",
       "<style>\n",
       "  .colab-df-quickchart {\n",
       "      --bg-color: #E8F0FE;\n",
       "      --fill-color: #1967D2;\n",
       "      --hover-bg-color: #E2EBFA;\n",
       "      --hover-fill-color: #174EA6;\n",
       "      --disabled-fill-color: #AAA;\n",
       "      --disabled-bg-color: #DDD;\n",
       "  }\n",
       "\n",
       "  [theme=dark] .colab-df-quickchart {\n",
       "      --bg-color: #3B4455;\n",
       "      --fill-color: #D2E3FC;\n",
       "      --hover-bg-color: #434B5C;\n",
       "      --hover-fill-color: #FFFFFF;\n",
       "      --disabled-bg-color: #3B4455;\n",
       "      --disabled-fill-color: #666;\n",
       "  }\n",
       "\n",
       "  .colab-df-quickchart {\n",
       "    background-color: var(--bg-color);\n",
       "    border: none;\n",
       "    border-radius: 50%;\n",
       "    cursor: pointer;\n",
       "    display: none;\n",
       "    fill: var(--fill-color);\n",
       "    height: 32px;\n",
       "    padding: 0;\n",
       "    width: 32px;\n",
       "  }\n",
       "\n",
       "  .colab-df-quickchart:hover {\n",
       "    background-color: var(--hover-bg-color);\n",
       "    box-shadow: 0 1px 2px rgba(60, 64, 67, 0.3), 0 1px 3px 1px rgba(60, 64, 67, 0.15);\n",
       "    fill: var(--button-hover-fill-color);\n",
       "  }\n",
       "\n",
       "  .colab-df-quickchart-complete:disabled,\n",
       "  .colab-df-quickchart-complete:disabled:hover {\n",
       "    background-color: var(--disabled-bg-color);\n",
       "    fill: var(--disabled-fill-color);\n",
       "    box-shadow: none;\n",
       "  }\n",
       "\n",
       "  .colab-df-spinner {\n",
       "    border: 2px solid var(--fill-color);\n",
       "    border-color: transparent;\n",
       "    border-bottom-color: var(--fill-color);\n",
       "    animation:\n",
       "      spin 1s steps(1) infinite;\n",
       "  }\n",
       "\n",
       "  @keyframes spin {\n",
       "    0% {\n",
       "      border-color: transparent;\n",
       "      border-bottom-color: var(--fill-color);\n",
       "      border-left-color: var(--fill-color);\n",
       "    }\n",
       "    20% {\n",
       "      border-color: transparent;\n",
       "      border-left-color: var(--fill-color);\n",
       "      border-top-color: var(--fill-color);\n",
       "    }\n",
       "    30% {\n",
       "      border-color: transparent;\n",
       "      border-left-color: var(--fill-color);\n",
       "      border-top-color: var(--fill-color);\n",
       "      border-right-color: var(--fill-color);\n",
       "    }\n",
       "    40% {\n",
       "      border-color: transparent;\n",
       "      border-right-color: var(--fill-color);\n",
       "      border-top-color: var(--fill-color);\n",
       "    }\n",
       "    60% {\n",
       "      border-color: transparent;\n",
       "      border-right-color: var(--fill-color);\n",
       "    }\n",
       "    80% {\n",
       "      border-color: transparent;\n",
       "      border-right-color: var(--fill-color);\n",
       "      border-bottom-color: var(--fill-color);\n",
       "    }\n",
       "    90% {\n",
       "      border-color: transparent;\n",
       "      border-bottom-color: var(--fill-color);\n",
       "    }\n",
       "  }\n",
       "</style>\n",
       "\n",
       "  <script>\n",
       "    async function quickchart(key) {\n",
       "      const quickchartButtonEl =\n",
       "        document.querySelector('#' + key + ' button');\n",
       "      quickchartButtonEl.disabled = true;  // To prevent multiple clicks.\n",
       "      quickchartButtonEl.classList.add('colab-df-spinner');\n",
       "      try {\n",
       "        const charts = await google.colab.kernel.invokeFunction(\n",
       "            'suggestCharts', [key], {});\n",
       "      } catch (error) {\n",
       "        console.error('Error during call to suggestCharts:', error);\n",
       "      }\n",
       "      quickchartButtonEl.classList.remove('colab-df-spinner');\n",
       "      quickchartButtonEl.classList.add('colab-df-quickchart-complete');\n",
       "    }\n",
       "    (() => {\n",
       "      let quickchartButtonEl =\n",
       "        document.querySelector('#df-c8a7fe96-d501-41c4-a2e9-111dbc70ab98 button');\n",
       "      quickchartButtonEl.style.display =\n",
       "        google.colab.kernel.accessAllowed ? 'block' : 'none';\n",
       "    })();\n",
       "  </script>\n",
       "</div>\n",
       "    </div>\n",
       "  </div>\n"
      ],
      "text/plain": [
       "   Sales  CompPrice  Income  Advertising  Population  Price ShelveLoc  Age  \\\n",
       "0   9.50        138      73           11         276    120       Bad   42   \n",
       "1  11.22        111      48           16         260     83      Good   65   \n",
       "2  10.06        113      35           10         269     80    Medium   59   \n",
       "3   7.40        117     100            4         466     97    Medium   55   \n",
       "4   4.15        141      64            3         340    128       Bad   38   \n",
       "\n",
       "   Education Urban   US  \n",
       "0         17   Yes  Yes  \n",
       "1         10   Yes  Yes  \n",
       "2         12   Yes  Yes  \n",
       "3         14   Yes  Yes  \n",
       "4         13   Yes   No  "
      ]
     },
     "execution_count": 170,
     "metadata": {},
     "output_type": "execute_result"
    }
   ],
   "source": [
    "path = 'https://raw.githubusercontent.com/DA4BAM/dataset/master/Carseats.csv'\n",
    "carseat = pd.read_csv(path)\n",
    "carseat.head()"
   ]
  },
  {
   "cell_type": "markdown",
   "metadata": {
    "id": "QyYS324M4zhm"
   },
   "source": [
    "`-` x, y 분리"
   ]
  },
  {
   "cell_type": "code",
   "execution_count": 171,
   "metadata": {
    "executionInfo": {
     "elapsed": 2,
     "status": "ok",
     "timestamp": 1696308868024,
     "user": {
      "displayName": "ccc flkwerkdai",
      "userId": "13507850890638580947"
     },
     "user_tz": -540
    },
    "id": "Gk2XHc__4n-v"
   },
   "outputs": [],
   "source": [
    "target = \"Sales\"\n",
    "\n",
    "x = carseat.drop(target, axis = 1)\n",
    "y = carseat[target]"
   ]
  },
  {
   "cell_type": "markdown",
   "metadata": {
    "id": "AdyIUDwN41qO"
   },
   "source": [
    "`-` 가변수화"
   ]
  },
  {
   "cell_type": "code",
   "execution_count": 172,
   "metadata": {
    "executionInfo": {
     "elapsed": 1,
     "status": "ok",
     "timestamp": 1696308904800,
     "user": {
      "displayName": "ccc flkwerkdai",
      "userId": "13507850890638580947"
     },
     "user_tz": -540
    },
    "id": "ZM7dXf2N46nP"
   },
   "outputs": [],
   "source": [
    "cat_cols = ['ShelveLoc', 'Education', 'US', 'Urban']\n",
    "x = pd.get_dummies(x, columns = cat_cols, drop_first = True)"
   ]
  },
  {
   "cell_type": "markdown",
   "metadata": {
    "id": "dJH7NfKa49pw"
   },
   "source": [
    "`-` 데이터셋 분할"
   ]
  },
  {
   "cell_type": "code",
   "execution_count": 173,
   "metadata": {
    "executionInfo": {
     "elapsed": 2,
     "status": "ok",
     "timestamp": 1696308917380,
     "user": {
      "displayName": "ccc flkwerkdai",
      "userId": "13507850890638580947"
     },
     "user_tz": -540
    },
    "id": "xFGmDtlL48dX"
   },
   "outputs": [],
   "source": [
    "x_train, x_val, y_train, y_val = train_test_split(x, y, test_size=.2, random_state = 20)"
   ]
  },
  {
   "cell_type": "markdown",
   "metadata": {
    "id": "v-Hj1BnA4_Y6"
   },
   "source": [
    "`-` scaling"
   ]
  },
  {
   "cell_type": "code",
   "execution_count": 174,
   "metadata": {
    "executionInfo": {
     "elapsed": 3,
     "status": "ok",
     "timestamp": 1696308930848,
     "user": {
      "displayName": "ccc flkwerkdai",
      "userId": "13507850890638580947"
     },
     "user_tz": -540
    },
    "id": "rv6avqim5BOK"
   },
   "outputs": [],
   "source": [
    "scaler = MinMaxScaler()\n",
    "x_train = scaler.fit_transform(x_train)\n",
    "x_val = scaler.transform(x_val)"
   ]
  },
  {
   "cell_type": "markdown",
   "metadata": {
    "id": "_TCnq-F05CfS"
   },
   "source": [
    "### (2) 모델링"
   ]
  },
  {
   "cell_type": "code",
   "execution_count": 175,
   "metadata": {
    "executionInfo": {
     "elapsed": 2,
     "status": "ok",
     "timestamp": 1696308961064,
     "user": {
      "displayName": "ccc flkwerkdai",
      "userId": "13507850890638580947"
     },
     "user_tz": -540
    },
    "id": "6itZkRXQ5I5h"
   },
   "outputs": [],
   "source": [
    "from keras.models import Sequential\n",
    "from keras.layers import Dense\n",
    "from keras.backend import clear_session"
   ]
  },
  {
   "cell_type": "code",
   "execution_count": 177,
   "metadata": {
    "executionInfo": {
     "elapsed": 2,
     "status": "ok",
     "timestamp": 1696308980835,
     "user": {
      "displayName": "ccc flkwerkdai",
      "userId": "13507850890638580947"
     },
     "user_tz": -540
    },
    "id": "fXPZNSmW5J1A"
   },
   "outputs": [],
   "source": [
    "n_f = x_train.shape[1]"
   ]
  },
  {
   "cell_type": "markdown",
   "metadata": {
    "id": "EvE7ImPw5cQQ"
   },
   "source": [
    "`-` 일단 비교를 위해 `epochs = 5, 1000` 으로 셋팅"
   ]
  },
  {
   "cell_type": "markdown",
   "metadata": {
    "id": "Oy2HsE8-6GD3"
   },
   "source": [
    "* gpu name을 확인하고 돌리기"
   ]
  },
  {
   "cell_type": "code",
   "execution_count": 180,
   "metadata": {
    "colab": {
     "base_uri": "https://localhost:8080/",
     "height": 36
    },
    "executionInfo": {
     "elapsed": 6,
     "status": "ok",
     "timestamp": 1696309154847,
     "user": {
      "displayName": "ccc flkwerkdai",
      "userId": "13507850890638580947"
     },
     "user_tz": -540
    },
    "id": "hbo67av_535h",
    "outputId": "3b2a7a09-c6f5-4e04-f14c-121688475649"
   },
   "outputs": [
    {
     "data": {
      "application/vnd.google.colaboratory.intrinsic+json": {
       "type": "string"
      },
      "text/plain": [
       "'/device:GPU:0'"
      ]
     },
     "execution_count": 180,
     "metadata": {},
     "output_type": "execute_result"
    }
   ],
   "source": [
    "import tensorflow as tf\n",
    "device_name = tf.test.gpu_device_name()\n",
    "device_name"
   ]
  },
  {
   "cell_type": "code",
   "execution_count": 188,
   "metadata": {
    "executionInfo": {
     "elapsed": 20602,
     "status": "ok",
     "timestamp": 1696309488204,
     "user": {
      "displayName": "ccc flkwerkdai",
      "userId": "13507850890638580947"
     },
     "user_tz": -540
    },
    "id": "Vc6qQbhx5OnO"
   },
   "outputs": [],
   "source": [
    "with tf.device('/device:GPU:0'):\n",
    "  model1 = Sequential( Dense(1, input_shape = (n_f,)) )\n",
    "\n",
    "  model1.compile(optimizer = \"adam\", loss = \"mse\")\n",
    "  model1.fit(x_train, y_train, epochs = 5, verbose=0)\n",
    "\n",
    "with tf.device('/device:GPU:0'):\n",
    "  model2 = Sequential( Dense(1, input_shape = (n_f,)) )\n",
    "\n",
    "  model2.compile(optimizer = \"adam\", loss = \"mse\")\n",
    "  model2.fit(x_train, y_train, epochs = 1000,verbose=0)"
   ]
  },
  {
   "cell_type": "markdown",
   "metadata": {
    "id": "eF_65Xm36UEI"
   },
   "source": [
    "`-` 결과 시각화"
   ]
  },
  {
   "cell_type": "code",
   "execution_count": 191,
   "metadata": {
    "colab": {
     "base_uri": "https://localhost:8080/",
     "height": 261
    },
    "executionInfo": {
     "elapsed": 2162,
     "status": "ok",
     "timestamp": 1696309515429,
     "user": {
      "displayName": "ccc flkwerkdai",
      "userId": "13507850890638580947"
     },
     "user_tz": -540
    },
    "id": "sYmO0gis6Js5",
    "outputId": "9a64feb6-4385-48cc-87e6-fd3737db98cd"
   },
   "outputs": [
    {
     "name": "stdout",
     "output_type": "stream",
     "text": [
      "3/3 [==============================] - 0s 13ms/step\n",
      "3/3 [==============================] - 0s 6ms/step\n"
     ]
    },
    {
     "data": {
      "image/png": "[encoded data removed]",
      "text/plain": [
       "<Figure size 1200x400 with 2 Axes>"
      ]
     },
     "metadata": {},
     "output_type": "display_data"
    }
   ],
   "source": [
    "# | code-fold : true\n",
    "y_pred_5 = model1.predict(x_val)\n",
    "y_pred_1000 = model2.predict(x_val)\n",
    "\n",
    "fig, axes = plt.subplots(1,2,figsize = (12, 4))\n",
    "\n",
    "ax1, ax2 = axes\n",
    "\n",
    "ax1.plot(y_test, label = r\"$y$\")\n",
    "ax1.plot(y_pred_5, label = r\"$\\hat y_{5}$\")\n",
    "ax1.legend()\n",
    "\n",
    "ax2.plot(y_test, label = r\"$y$\")\n",
    "ax2.plot(y_pred_1000, label = r\"$\\hat y_{1000}$\")\n",
    "ax2.legend()\n",
    "\n",
    "fig.tight_layout()\n",
    "plt.show()\n"
   ]
  },
  {
   "cell_type": "markdown",
   "metadata": {
    "id": "aLboZoT37R59"
   },
   "source": [
    "`-` 뭐 epoch를 1000번으로 해도 딱히 성능이 좋아보이지 않음"
   ]
  },
  {
   "cell_type": "markdown",
   "metadata": {
    "id": "M72I4SBQ7XEk"
   },
   "source": [
    "* 일단 두 model의 성능을 비교해보자"
   ]
  },
  {
   "cell_type": "code",
   "execution_count": 194,
   "metadata": {
    "colab": {
     "base_uri": "https://localhost:8080/"
    },
    "executionInfo": {
     "elapsed": 3,
     "status": "ok",
     "timestamp": 1696309606530,
     "user": {
      "displayName": "ccc flkwerkdai",
      "userId": "13507850890638580947"
     },
     "user_tz": -540
    },
    "id": "jaJVcQqh7ZaT",
    "outputId": "c86b6bf9-3284-41b4-88e7-a77e4929c064"
   },
   "outputs": [
    {
     "name": "stdout",
     "output_type": "stream",
     "text": [
      "model1 : epochs = 5\n",
      "RMSE  : 7.343708509578071\n",
      "MAE   : 6.769834949548357\n",
      "\n",
      "-------------------------\n",
      "\n",
      "model1 : epochs = 1000\n",
      "RMSE  : 2.216046941057742\n",
      "MAE   : 1.7544673845767975\n"
     ]
    }
   ],
   "source": [
    "print(\"model1 : epochs = 5\")\n",
    "print(f'RMSE  : {mean_squared_error(y_val, y_pred_5, squared=False)}')\n",
    "print(f'MAE   : {mean_absolute_error(y_val, y_pred_5)}')\n",
    "print(\"\\n-------------------------\\n\")\n",
    "print(\"model1 : epochs = 1000\")\n",
    "print(f'RMSE  : {mean_squared_error(y_val, y_pred_1000, squared=False)}')\n",
    "print(f'MAE   : {mean_absolute_error(y_val, y_pred_1000)}')"
   ]
  },
  {
   "cell_type": "markdown",
   "metadata": {
    "id": "qFVTuOGK7uNM"
   },
   "source": [
    "****"
   ]
  },
  {
   "cell_type": "markdown",
   "metadata": {
    "id": "x5WtYJO97vc-"
   },
   "source": [
    "## excercise 2. mobile (분류)"
   ]
  },
  {
   "cell_type": "markdown",
   "metadata": {
    "id": "VA6LtqNm7_Dn"
   },
   "source": [
    "### (1) 데이터 이해 및 준비"
   ]
  },
  {
   "cell_type": "code",
   "execution_count": 195,
   "metadata": {
    "colab": {
     "base_uri": "https://localhost:8080/",
     "height": 226
    },
    "executionInfo": {
     "elapsed": 1226,
     "status": "ok",
     "timestamp": 1696309749380,
     "user": {
      "displayName": "ccc flkwerkdai",
      "userId": "13507850890638580947"
     },
     "user_tz": -540
    },
    "id": "GQ-i-jut8JG7",
    "outputId": "8907f4ba-33e9-47e5-807f-263990e152b2"
   },
   "outputs": [
    {
     "data": {
      "text/html": [
       "\n",
       "  <div id=\"df-2b7a6bcd-e3bb-41aa-951f-2043a785d787\" class=\"colab-df-container\">\n",
       "    <div>\n",
       "<style scoped>\n",
       "    .dataframe tbody tr th:only-of-type {\n",
       "        vertical-align: middle;\n",
       "    }\n",
       "\n",
       "    .dataframe tbody tr th {\n",
       "        vertical-align: top;\n",
       "    }\n",
       "\n",
       "    .dataframe thead th {\n",
       "        text-align: right;\n",
       "    }\n",
       "</style>\n",
       "<table border=\"1\" class=\"dataframe\">\n",
       "  <thead>\n",
       "    <tr style=\"text-align: right;\">\n",
       "      <th></th>\n",
       "      <th>INCOME</th>\n",
       "      <th>OVERAGE</th>\n",
       "      <th>LEFTOVER</th>\n",
       "      <th>HOUSE</th>\n",
       "      <th>HANDSET_PRICE</th>\n",
       "      <th>OVER_15MINS_CALLS_PER_MONTH</th>\n",
       "      <th>AVERAGE_CALL_DURATION</th>\n",
       "      <th>CHURN</th>\n",
       "    </tr>\n",
       "  </thead>\n",
       "  <tbody>\n",
       "    <tr>\n",
       "      <th>0</th>\n",
       "      <td>31953</td>\n",
       "      <td>0</td>\n",
       "      <td>6</td>\n",
       "      <td>313378</td>\n",
       "      <td>161</td>\n",
       "      <td>0</td>\n",
       "      <td>4</td>\n",
       "      <td>0</td>\n",
       "    </tr>\n",
       "    <tr>\n",
       "      <th>1</th>\n",
       "      <td>36147</td>\n",
       "      <td>0</td>\n",
       "      <td>13</td>\n",
       "      <td>800586</td>\n",
       "      <td>244</td>\n",
       "      <td>0</td>\n",
       "      <td>6</td>\n",
       "      <td>0</td>\n",
       "    </tr>\n",
       "    <tr>\n",
       "      <th>2</th>\n",
       "      <td>27273</td>\n",
       "      <td>230</td>\n",
       "      <td>0</td>\n",
       "      <td>305049</td>\n",
       "      <td>201</td>\n",
       "      <td>16</td>\n",
       "      <td>15</td>\n",
       "      <td>0</td>\n",
       "    </tr>\n",
       "    <tr>\n",
       "      <th>3</th>\n",
       "      <td>120070</td>\n",
       "      <td>38</td>\n",
       "      <td>33</td>\n",
       "      <td>788235</td>\n",
       "      <td>780</td>\n",
       "      <td>3</td>\n",
       "      <td>2</td>\n",
       "      <td>1</td>\n",
       "    </tr>\n",
       "    <tr>\n",
       "      <th>4</th>\n",
       "      <td>29215</td>\n",
       "      <td>208</td>\n",
       "      <td>85</td>\n",
       "      <td>224784</td>\n",
       "      <td>241</td>\n",
       "      <td>21</td>\n",
       "      <td>1</td>\n",
       "      <td>0</td>\n",
       "    </tr>\n",
       "  </tbody>\n",
       "</table>\n",
       "</div>\n",
       "    <div class=\"colab-df-buttons\">\n",
       "\n",
       "  <div class=\"colab-df-container\">\n",
       "    <button class=\"colab-df-convert\" onclick=\"convertToInteractive('df-2b7a6bcd-e3bb-41aa-951f-2043a785d787')\"\n",
       "            title=\"Convert this dataframe to an interactive table.\"\n",
       "            style=\"display:none;\">\n",
       "\n",
       "  <svg xmlns=\"http://www.w3.org/2000/svg\" height=\"24px\" viewBox=\"0 -960 960 960\">\n",
       "    <path d=\"M120-120v-720h720v720H120Zm60-500h600v-160H180v160Zm220 220h160v-160H400v160Zm0 220h160v-160H400v160ZM180-400h160v-160H180v160Zm440 0h160v-160H620v160ZM180-180h160v-160H180v160Zm440 0h160v-160H620v160Z\"/>\n",
       "  </svg>\n",
       "    </button>\n",
       "\n",
       "  <style>\n",
       "    .colab-df-container {\n",
       "      display:flex;\n",
       "      gap: 12px;\n",
       "    }\n",
       "\n",
       "    .colab-df-convert {\n",
       "      background-color: #E8F0FE;\n",
       "      border: none;\n",
       "      border-radius: 50%;\n",
       "      cursor: pointer;\n",
       "      display: none;\n",
       "      fill: #1967D2;\n",
       "      height: 32px;\n",
       "      padding: 0 0 0 0;\n",
       "      width: 32px;\n",
       "    }\n",
       "\n",
       "    .colab-df-convert:hover {\n",
       "      background-color: #E2EBFA;\n",
       "      box-shadow: 0px 1px 2px rgba(60, 64, 67, 0.3), 0px 1px 3px 1px rgba(60, 64, 67, 0.15);\n",
       "      fill: #174EA6;\n",
       "    }\n",
       "\n",
       "    .colab-df-buttons div {\n",
       "      margin-bottom: 4px;\n",
       "    }\n",
       "\n",
       "    [theme=dark] .colab-df-convert {\n",
       "      background-color: #3B4455;\n",
       "      fill: #D2E3FC;\n",
       "    }\n",
       "\n",
       "    [theme=dark] .colab-df-convert:hover {\n",
       "      background-color: #434B5C;\n",
       "      box-shadow: 0px 1px 3px 1px rgba(0, 0, 0, 0.15);\n",
       "      filter: drop-shadow(0px 1px 2px rgba(0, 0, 0, 0.3));\n",
       "      fill: #FFFFFF;\n",
       "    }\n",
       "  </style>\n",
       "\n",
       "    <script>\n",
       "      const buttonEl =\n",
       "        document.querySelector('#df-2b7a6bcd-e3bb-41aa-951f-2043a785d787 button.colab-df-convert');\n",
       "      buttonEl.style.display =\n",
       "        google.colab.kernel.accessAllowed ? 'block' : 'none';\n",
       "\n",
       "      async function convertToInteractive(key) {\n",
       "        const element = document.querySelector('#df-2b7a6bcd-e3bb-41aa-951f-2043a785d787');\n",
       "        const dataTable =\n",
       "          await google.colab.kernel.invokeFunction('convertToInteractive',\n",
       "                                                    [key], {});\n",
       "        if (!dataTable) return;\n",
       "\n",
       "        const docLinkHtml = 'Like what you see? Visit the ' +\n",
       "          '<a target=\"_blank\" href=https://colab.research.google.com/notebooks/data_table.ipynb>data table notebook</a>'\n",
       "          + ' to learn more about interactive tables.';\n",
       "        element.innerHTML = '';\n",
       "        dataTable['output_type'] = 'display_data';\n",
       "        await google.colab.output.renderOutput(dataTable, element);\n",
       "        const docLink = document.createElement('div');\n",
       "        docLink.innerHTML = docLinkHtml;\n",
       "        element.appendChild(docLink);\n",
       "      }\n",
       "    </script>\n",
       "  </div>\n",
       "\n",
       "\n",
       "<div id=\"df-6b537820-fbeb-4cb0-ba2b-45a3ac5b30dd\">\n",
       "  <button class=\"colab-df-quickchart\" onclick=\"quickchart('df-6b537820-fbeb-4cb0-ba2b-45a3ac5b30dd')\"\n",
       "            title=\"Suggest charts.\"\n",
       "            style=\"display:none;\">\n",
       "\n",
       "<svg xmlns=\"http://www.w3.org/2000/svg\" height=\"24px\"viewBox=\"0 0 24 24\"\n",
       "     width=\"24px\">\n",
       "    <g>\n",
       "        <path d=\"M19 3H5c-1.1 0-2 .9-2 2v14c0 1.1.9 2 2 2h14c1.1 0 2-.9 2-2V5c0-1.1-.9-2-2-2zM9 17H7v-7h2v7zm4 0h-2V7h2v10zm4 0h-2v-4h2v4z\"/>\n",
       "    </g>\n",
       "</svg>\n",
       "  </button>\n",
       "\n",
       "<style>\n",
       "  .colab-df-quickchart {\n",
       "      --bg-color: #E8F0FE;\n",
       "      --fill-color: #1967D2;\n",
       "      --hover-bg-color: #E2EBFA;\n",
       "      --hover-fill-color: #174EA6;\n",
       "      --disabled-fill-color: #AAA;\n",
       "      --disabled-bg-color: #DDD;\n",
       "  }\n",
       "\n",
       "  [theme=dark] .colab-df-quickchart {\n",
       "      --bg-color: #3B4455;\n",
       "      --fill-color: #D2E3FC;\n",
       "      --hover-bg-color: #434B5C;\n",
       "      --hover-fill-color: #FFFFFF;\n",
       "      --disabled-bg-color: #3B4455;\n",
       "      --disabled-fill-color: #666;\n",
       "  }\n",
       "\n",
       "  .colab-df-quickchart {\n",
       "    background-color: var(--bg-color);\n",
       "    border: none;\n",
       "    border-radius: 50%;\n",
       "    cursor: pointer;\n",
       "    display: none;\n",
       "    fill: var(--fill-color);\n",
       "    height: 32px;\n",
       "    padding: 0;\n",
       "    width: 32px;\n",
       "  }\n",
       "\n",
       "  .colab-df-quickchart:hover {\n",
       "    background-color: var(--hover-bg-color);\n",
       "    box-shadow: 0 1px 2px rgba(60, 64, 67, 0.3), 0 1px 3px 1px rgba(60, 64, 67, 0.15);\n",
       "    fill: var(--button-hover-fill-color);\n",
       "  }\n",
       "\n",
       "  .colab-df-quickchart-complete:disabled,\n",
       "  .colab-df-quickchart-complete:disabled:hover {\n",
       "    background-color: var(--disabled-bg-color);\n",
       "    fill: var(--disabled-fill-color);\n",
       "    box-shadow: none;\n",
       "  }\n",
       "\n",
       "  .colab-df-spinner {\n",
       "    border: 2px solid var(--fill-color);\n",
       "    border-color: transparent;\n",
       "    border-bottom-color: var(--fill-color);\n",
       "    animation:\n",
       "      spin 1s steps(1) infinite;\n",
       "  }\n",
       "\n",
       "  @keyframes spin {\n",
       "    0% {\n",
       "      border-color: transparent;\n",
       "      border-bottom-color: var(--fill-color);\n",
       "      border-left-color: var(--fill-color);\n",
       "    }\n",
       "    20% {\n",
       "      border-color: transparent;\n",
       "      border-left-color: var(--fill-color);\n",
       "      border-top-color: var(--fill-color);\n",
       "    }\n",
       "    30% {\n",
       "      border-color: transparent;\n",
       "      border-left-color: var(--fill-color);\n",
       "      border-top-color: var(--fill-color);\n",
       "      border-right-color: var(--fill-color);\n",
       "    }\n",
       "    40% {\n",
       "      border-color: transparent;\n",
       "      border-right-color: var(--fill-color);\n",
       "      border-top-color: var(--fill-color);\n",
       "    }\n",
       "    60% {\n",
       "      border-color: transparent;\n",
       "      border-right-color: var(--fill-color);\n",
       "    }\n",
       "    80% {\n",
       "      border-color: transparent;\n",
       "      border-right-color: var(--fill-color);\n",
       "      border-bottom-color: var(--fill-color);\n",
       "    }\n",
       "    90% {\n",
       "      border-color: transparent;\n",
       "      border-bottom-color: var(--fill-color);\n",
       "    }\n",
       "  }\n",
       "</style>\n",
       "\n",
       "  <script>\n",
       "    async function quickchart(key) {\n",
       "      const quickchartButtonEl =\n",
       "        document.querySelector('#' + key + ' button');\n",
       "      quickchartButtonEl.disabled = true;  // To prevent multiple clicks.\n",
       "      quickchartButtonEl.classList.add('colab-df-spinner');\n",
       "      try {\n",
       "        const charts = await google.colab.kernel.invokeFunction(\n",
       "            'suggestCharts', [key], {});\n",
       "      } catch (error) {\n",
       "        console.error('Error during call to suggestCharts:', error);\n",
       "      }\n",
       "      quickchartButtonEl.classList.remove('colab-df-spinner');\n",
       "      quickchartButtonEl.classList.add('colab-df-quickchart-complete');\n",
       "    }\n",
       "    (() => {\n",
       "      let quickchartButtonEl =\n",
       "        document.querySelector('#df-6b537820-fbeb-4cb0-ba2b-45a3ac5b30dd button');\n",
       "      quickchartButtonEl.style.display =\n",
       "        google.colab.kernel.accessAllowed ? 'block' : 'none';\n",
       "    })();\n",
       "  </script>\n",
       "</div>\n",
       "    </div>\n",
       "  </div>\n"
      ],
      "text/plain": [
       "   INCOME  OVERAGE  LEFTOVER   HOUSE  HANDSET_PRICE  \\\n",
       "0   31953        0         6  313378            161   \n",
       "1   36147        0        13  800586            244   \n",
       "2   27273      230         0  305049            201   \n",
       "3  120070       38        33  788235            780   \n",
       "4   29215      208        85  224784            241   \n",
       "\n",
       "   OVER_15MINS_CALLS_PER_MONTH  AVERAGE_CALL_DURATION  CHURN  \n",
       "0                            0                      4      0  \n",
       "1                            0                      6      0  \n",
       "2                           16                     15      0  \n",
       "3                            3                      2      1  \n",
       "4                           21                      1      0  "
      ]
     },
     "execution_count": 195,
     "metadata": {},
     "output_type": "execute_result"
    }
   ],
   "source": [
    "path = \"https://raw.githubusercontent.com/DA4BAM/dataset/master/mobile_churn_simple.csv\"\n",
    "data = pd.read_csv(path)\n",
    "data['CHURN'] = data['CHURN'].map({'STAY':0, 'LEAVE':1})\n",
    "data.head()"
   ]
  },
  {
   "cell_type": "code",
   "execution_count": 197,
   "metadata": {
    "executionInfo": {
     "elapsed": 3,
     "status": "ok",
     "timestamp": 1696309763366,
     "user": {
      "displayName": "ccc flkwerkdai",
      "userId": "13507850890638580947"
     },
     "user_tz": -540
    },
    "id": "JeG1ltbM8J5Z"
   },
   "outputs": [],
   "source": [
    "target = 'CHURN'\n",
    "x = data.drop(target, axis=1)\n",
    "y = data[target]"
   ]
  },
  {
   "cell_type": "markdown",
   "metadata": {
    "id": "0Y8tuAcr8LOt"
   },
   "source": [
    "`-` 데이터 분할"
   ]
  },
  {
   "cell_type": "code",
   "execution_count": 198,
   "metadata": {
    "executionInfo": {
     "elapsed": 2,
     "status": "ok",
     "timestamp": 1696309805331,
     "user": {
      "displayName": "ccc flkwerkdai",
      "userId": "13507850890638580947"
     },
     "user_tz": -540
    },
    "id": "Vny_B9Bc8RFK"
   },
   "outputs": [],
   "source": [
    "x_train, x_val, y_train, y_val = train_test_split(x,y, test_size = .2)"
   ]
  },
  {
   "cell_type": "markdown",
   "metadata": {
    "id": "fTRCk-vw8X5k"
   },
   "source": [
    "`-` scaling"
   ]
  },
  {
   "cell_type": "code",
   "execution_count": 201,
   "metadata": {
    "executionInfo": {
     "elapsed": 2,
     "status": "ok",
     "timestamp": 1696309873641,
     "user": {
      "displayName": "ccc flkwerkdai",
      "userId": "13507850890638580947"
     },
     "user_tz": -540
    },
    "id": "kE7ljcII8Zv4"
   },
   "outputs": [],
   "source": [
    "scaler = MinMaxScaler()\n",
    "x_train = scaler.fit_transform(x_train)\n",
    "x_val = scaler.fit_transform(x_val)"
   ]
  },
  {
   "cell_type": "markdown",
   "metadata": {
    "id": "MuVGUXKi8o--"
   },
   "source": [
    "### (2) 모델링"
   ]
  },
  {
   "cell_type": "code",
   "execution_count": 203,
   "metadata": {
    "executionInfo": {
     "elapsed": 1,
     "status": "ok",
     "timestamp": 1696309962570,
     "user": {
      "displayName": "ccc flkwerkdai",
      "userId": "13507850890638580947"
     },
     "user_tz": -540
    },
    "id": "lVSXLXXE8rnb"
   },
   "outputs": [],
   "source": [
    "from keras.models import Sequential\n",
    "from keras.layers import Dense\n",
    "from keras.backend import clear_session"
   ]
  },
  {
   "cell_type": "code",
   "execution_count": 207,
   "metadata": {
    "executionInfo": {
     "elapsed": 3,
     "status": "ok",
     "timestamp": 1696310077811,
     "user": {
      "displayName": "ccc flkwerkdai",
      "userId": "13507850890638580947"
     },
     "user_tz": -540
    },
    "id": "M7s3JPbl9Z2U"
   },
   "outputs": [],
   "source": [
    "nf = x_train.shape[1]"
   ]
  },
  {
   "cell_type": "code",
   "execution_count": 209,
   "metadata": {
    "colab": {
     "base_uri": "https://localhost:8080/"
    },
    "executionInfo": {
     "elapsed": 3,
     "status": "ok",
     "timestamp": 1696310104045,
     "user": {
      "displayName": "ccc flkwerkdai",
      "userId": "13507850890638580947"
     },
     "user_tz": -540
    },
    "id": "21QJ-rxq9dzG",
    "outputId": "6a7d8bef-c16c-4915-c43c-60dd36116884"
   },
   "outputs": [
    {
     "data": {
      "text/plain": [
       "array([0, 1])"
      ]
     },
     "execution_count": 209,
     "metadata": {},
     "output_type": "execute_result"
    }
   ],
   "source": [
    "y_train.unique()"
   ]
  },
  {
   "cell_type": "markdown",
   "metadata": {
    "id": "9Quv4oaD960m"
   },
   "source": [
    "`-` 여기서도 epochs에 따른 모델들 사이 성능 차이 비교"
   ]
  },
  {
   "cell_type": "code",
   "execution_count": 216,
   "metadata": {
    "colab": {
     "base_uri": "https://localhost:8080/",
     "height": 36
    },
    "executionInfo": {
     "elapsed": 503,
     "status": "ok",
     "timestamp": 1696310505891,
     "user": {
      "displayName": "ccc flkwerkdai",
      "userId": "13507850890638580947"
     },
     "user_tz": -540
    },
    "id": "qaFtu6V3_Cas",
    "outputId": "0afcc9b8-1f25-4f92-bfc0-5549cb74b587"
   },
   "outputs": [
    {
     "data": {
      "application/vnd.google.colaboratory.intrinsic+json": {
       "type": "string"
      },
      "text/plain": [
       "'/device:GPU:0'"
      ]
     },
     "execution_count": 216,
     "metadata": {},
     "output_type": "execute_result"
    }
   ],
   "source": [
    "import tensorflow as tf\n",
    "device_name = tf.test.gpu_device_name()\n",
    "device_name"
   ]
  },
  {
   "cell_type": "code",
   "execution_count": 220,
   "metadata": {
    "colab": {
     "base_uri": "https://localhost:8080/"
    },
    "executionInfo": {
     "elapsed": 126312,
     "status": "ok",
     "timestamp": 1696311295582,
     "user": {
      "displayName": "ccc flkwerkdai",
      "userId": "13507850890638580947"
     },
     "user_tz": -540
    },
    "id": "ZvJjViyl8-W2",
    "outputId": "16c22a42-765c-4107-8051-d8d0178c8a2f"
   },
   "outputs": [
    {
     "name": "stdout",
     "output_type": "stream",
     "text": [
      "Epoch 1/5\n",
      "500/500 [==============================] - 3s 4ms/step - loss: 0.7537\n",
      "Epoch 2/5\n",
      "500/500 [==============================] - 1s 2ms/step - loss: 0.7043\n",
      "Epoch 3/5\n",
      "500/500 [==============================] - 1s 2ms/step - loss: 0.6776\n",
      "Epoch 4/5\n",
      "500/500 [==============================] - 1s 2ms/step - loss: 0.6612\n",
      "Epoch 5/5\n",
      "500/500 [==============================] - 1s 2ms/step - loss: 0.6513\n",
      "Epoch 1/100\n",
      "500/500 [==============================] - 2s 3ms/step - loss: 0.6921\n",
      "Epoch 2/100\n",
      "500/500 [==============================] - 2s 3ms/step - loss: 0.6716\n",
      "Epoch 3/100\n",
      "500/500 [==============================] - 1s 2ms/step - loss: 0.6589\n",
      "Epoch 4/100\n",
      "500/500 [==============================] - 1s 2ms/step - loss: 0.6509\n",
      "Epoch 5/100\n",
      "500/500 [==============================] - 1s 2ms/step - loss: 0.6457\n",
      "Epoch 6/100\n",
      "500/500 [==============================] - 1s 2ms/step - loss: 0.6423\n",
      "Epoch 7/100\n",
      "500/500 [==============================] - 1s 2ms/step - loss: 0.6399\n",
      "Epoch 8/100\n",
      "500/500 [==============================] - 1s 2ms/step - loss: 0.6383\n",
      "Epoch 9/100\n",
      "500/500 [==============================] - 1s 2ms/step - loss: 0.6372\n",
      "Epoch 10/100\n",
      "500/500 [==============================] - 1s 2ms/step - loss: 0.6363\n",
      "Epoch 11/100\n",
      "500/500 [==============================] - 1s 2ms/step - loss: 0.6358\n",
      "Epoch 12/100\n",
      "500/500 [==============================] - 1s 3ms/step - loss: 0.6354\n",
      "Epoch 13/100\n",
      "500/500 [==============================] - 1s 3ms/step - loss: 0.6351\n",
      "Epoch 14/100\n",
      "500/500 [==============================] - 1s 2ms/step - loss: 0.6348\n",
      "Epoch 15/100\n",
      "500/500 [==============================] - 1s 2ms/step - loss: 0.6346\n",
      "Epoch 16/100\n",
      "500/500 [==============================] - 1s 2ms/step - loss: 0.6344\n",
      "Epoch 17/100\n",
      "500/500 [==============================] - 1s 2ms/step - loss: 0.6343\n",
      "Epoch 18/100\n",
      "500/500 [==============================] - 1s 2ms/step - loss: 0.6341\n",
      "Epoch 19/100\n",
      "500/500 [==============================] - 1s 2ms/step - loss: 0.6341\n",
      "Epoch 20/100\n",
      "500/500 [==============================] - 1s 2ms/step - loss: 0.6340\n",
      "Epoch 21/100\n",
      "500/500 [==============================] - 1s 2ms/step - loss: 0.6339\n",
      "Epoch 22/100\n",
      "500/500 [==============================] - 1s 3ms/step - loss: 0.6339\n",
      "Epoch 23/100\n",
      "500/500 [==============================] - 2s 3ms/step - loss: 0.6338\n",
      "Epoch 24/100\n",
      "500/500 [==============================] - 1s 3ms/step - loss: 0.6338\n",
      "Epoch 25/100\n",
      "500/500 [==============================] - 1s 2ms/step - loss: 0.6337\n",
      "Epoch 26/100\n",
      "500/500 [==============================] - 1s 2ms/step - loss: 0.6337\n",
      "Epoch 27/100\n",
      "500/500 [==============================] - 1s 2ms/step - loss: 0.6337\n",
      "Epoch 28/100\n",
      "500/500 [==============================] - 1s 2ms/step - loss: 0.6336\n",
      "Epoch 29/100\n",
      "500/500 [==============================] - 1s 2ms/step - loss: 0.6336\n",
      "Epoch 30/100\n",
      "500/500 [==============================] - 1s 2ms/step - loss: 0.6336\n",
      "Epoch 31/100\n",
      "500/500 [==============================] - 1s 2ms/step - loss: 0.6336\n",
      "Epoch 32/100\n",
      "500/500 [==============================] - 1s 2ms/step - loss: 0.6336\n",
      "Epoch 33/100\n",
      "500/500 [==============================] - 1s 3ms/step - loss: 0.6335\n",
      "Epoch 34/100\n",
      "500/500 [==============================] - 2s 3ms/step - loss: 0.6335\n",
      "Epoch 35/100\n",
      "500/500 [==============================] - 1s 2ms/step - loss: 0.6335\n",
      "Epoch 36/100\n",
      "500/500 [==============================] - 1s 2ms/step - loss: 0.6336\n",
      "Epoch 37/100\n",
      "500/500 [==============================] - 1s 2ms/step - loss: 0.6335\n",
      "Epoch 38/100\n",
      "500/500 [==============================] - 1s 2ms/step - loss: 0.6335\n",
      "Epoch 39/100\n",
      "500/500 [==============================] - 1s 2ms/step - loss: 0.6334\n",
      "Epoch 40/100\n",
      "500/500 [==============================] - 1s 2ms/step - loss: 0.6335\n",
      "Epoch 41/100\n",
      "500/500 [==============================] - 1s 2ms/step - loss: 0.6335\n",
      "Epoch 42/100\n",
      "500/500 [==============================] - 1s 2ms/step - loss: 0.6335\n",
      "Epoch 43/100\n",
      "500/500 [==============================] - 1s 2ms/step - loss: 0.6335\n",
      "Epoch 44/100\n",
      "500/500 [==============================] - 2s 3ms/step - loss: 0.6335\n",
      "Epoch 45/100\n",
      "500/500 [==============================] - 1s 3ms/step - loss: 0.6335\n",
      "Epoch 46/100\n",
      "500/500 [==============================] - 1s 2ms/step - loss: 0.6335\n",
      "Epoch 47/100\n",
      "500/500 [==============================] - 1s 2ms/step - loss: 0.6334\n",
      "Epoch 48/100\n",
      "500/500 [==============================] - 1s 2ms/step - loss: 0.6335\n",
      "Epoch 49/100\n",
      "500/500 [==============================] - 1s 2ms/step - loss: 0.6335\n",
      "Epoch 50/100\n",
      "500/500 [==============================] - 1s 2ms/step - loss: 0.6335\n",
      "Epoch 51/100\n",
      "500/500 [==============================] - 1s 2ms/step - loss: 0.6334\n",
      "Epoch 52/100\n",
      "500/500 [==============================] - 1s 2ms/step - loss: 0.6334\n",
      "Epoch 53/100\n",
      "500/500 [==============================] - 1s 2ms/step - loss: 0.6334\n",
      "Epoch 54/100\n",
      "500/500 [==============================] - 1s 3ms/step - loss: 0.6335\n",
      "Epoch 55/100\n",
      "500/500 [==============================] - 2s 3ms/step - loss: 0.6335\n",
      "Epoch 56/100\n",
      "500/500 [==============================] - 1s 2ms/step - loss: 0.6334\n",
      "Epoch 57/100\n",
      "500/500 [==============================] - 1s 2ms/step - loss: 0.6334\n",
      "Epoch 58/100\n",
      "500/500 [==============================] - 1s 3ms/step - loss: 0.6335\n",
      "Epoch 59/100\n",
      "500/500 [==============================] - 2s 3ms/step - loss: 0.6335\n",
      "Epoch 60/100\n",
      "500/500 [==============================] - 1s 2ms/step - loss: 0.6335\n",
      "Epoch 61/100\n",
      "500/500 [==============================] - 1s 2ms/step - loss: 0.6334\n",
      "Epoch 62/100\n",
      "500/500 [==============================] - 1s 2ms/step - loss: 0.6334\n",
      "Epoch 63/100\n",
      "500/500 [==============================] - 1s 2ms/step - loss: 0.6335\n",
      "Epoch 64/100\n",
      "500/500 [==============================] - 1s 3ms/step - loss: 0.6335\n",
      "Epoch 65/100\n",
      "500/500 [==============================] - 2s 3ms/step - loss: 0.6335\n",
      "Epoch 66/100\n",
      "500/500 [==============================] - 1s 2ms/step - loss: 0.6334\n",
      "Epoch 67/100\n",
      "500/500 [==============================] - 1s 2ms/step - loss: 0.6335\n",
      "Epoch 68/100\n",
      "500/500 [==============================] - 1s 2ms/step - loss: 0.6334\n",
      "Epoch 69/100\n",
      "500/500 [==============================] - 1s 2ms/step - loss: 0.6335\n",
      "Epoch 70/100\n",
      "500/500 [==============================] - 1s 2ms/step - loss: 0.6335\n",
      "Epoch 71/100\n",
      "500/500 [==============================] - 1s 2ms/step - loss: 0.6335\n",
      "Epoch 72/100\n",
      "500/500 [==============================] - 1s 2ms/step - loss: 0.6335\n",
      "Epoch 73/100\n",
      "500/500 [==============================] - 1s 2ms/step - loss: 0.6335\n",
      "Epoch 74/100\n",
      "500/500 [==============================] - 1s 2ms/step - loss: 0.6334\n",
      "Epoch 75/100\n",
      "500/500 [==============================] - 1s 3ms/step - loss: 0.6335\n",
      "Epoch 76/100\n",
      "500/500 [==============================] - 1s 3ms/step - loss: 0.6334\n",
      "Epoch 77/100\n",
      "500/500 [==============================] - 1s 2ms/step - loss: 0.6334\n",
      "Epoch 78/100\n",
      "500/500 [==============================] - 1s 2ms/step - loss: 0.6334\n",
      "Epoch 79/100\n",
      "500/500 [==============================] - 1s 2ms/step - loss: 0.6335\n",
      "Epoch 80/100\n",
      "500/500 [==============================] - 1s 2ms/step - loss: 0.6334\n",
      "Epoch 81/100\n",
      "500/500 [==============================] - 1s 2ms/step - loss: 0.6334\n",
      "Epoch 82/100\n",
      "500/500 [==============================] - 1s 2ms/step - loss: 0.6334\n",
      "Epoch 83/100\n",
      "500/500 [==============================] - 1s 2ms/step - loss: 0.6334\n",
      "Epoch 84/100\n",
      "500/500 [==============================] - 1s 2ms/step - loss: 0.6335\n",
      "Epoch 85/100\n",
      "500/500 [==============================] - 1s 3ms/step - loss: 0.6335\n",
      "Epoch 86/100\n",
      "500/500 [==============================] - 2s 3ms/step - loss: 0.6334\n",
      "Epoch 87/100\n",
      "500/500 [==============================] - 1s 2ms/step - loss: 0.6335\n",
      "Epoch 88/100\n",
      "500/500 [==============================] - 1s 2ms/step - loss: 0.6334\n",
      "Epoch 89/100\n",
      "500/500 [==============================] - 1s 2ms/step - loss: 0.6335\n",
      "Epoch 90/100\n",
      "500/500 [==============================] - 1s 2ms/step - loss: 0.6334\n",
      "Epoch 91/100\n",
      "500/500 [==============================] - 1s 2ms/step - loss: 0.6335\n",
      "Epoch 92/100\n",
      "500/500 [==============================] - 1s 2ms/step - loss: 0.6334\n",
      "Epoch 93/100\n",
      "500/500 [==============================] - 1s 2ms/step - loss: 0.6335\n",
      "Epoch 94/100\n",
      "500/500 [==============================] - 1s 2ms/step - loss: 0.6334\n",
      "Epoch 95/100\n",
      "500/500 [==============================] - 1s 2ms/step - loss: 0.6335\n",
      "Epoch 96/100\n",
      "500/500 [==============================] - 2s 3ms/step - loss: 0.6334\n",
      "Epoch 97/100\n",
      "500/500 [==============================] - 1s 3ms/step - loss: 0.6334\n",
      "Epoch 98/100\n",
      "500/500 [==============================] - 1s 2ms/step - loss: 0.6334\n",
      "Epoch 99/100\n",
      "500/500 [==============================] - 1s 2ms/step - loss: 0.6334\n",
      "Epoch 100/100\n",
      "500/500 [==============================] - 1s 2ms/step - loss: 0.6335\n"
     ]
    }
   ],
   "source": [
    "e = [5,100]\n",
    "\n",
    "for i in range(2) :\n",
    "  with tf.device('/device:GPU:0'):\n",
    "    exec(f\"model{i} = Sequential([ Dense(1, input_shape = (nf,), activation = 'sigmoid') ])\")\n",
    "    exec(f\"model{i}.compile(optimizer='adam', loss='binary_crossentropy')\")\n",
    "    exec(f\"model{i}.fit(x_train,y_train,epochs = {e[i]},verbose=1)\")"
   ]
  },
  {
   "cell_type": "code",
   "execution_count": 238,
   "metadata": {
    "executionInfo": {
     "elapsed": 3,
     "status": "ok",
     "timestamp": 1696311754651,
     "user": {
      "displayName": "ccc flkwerkdai",
      "userId": "13507850890638580947"
     },
     "user_tz": -540
    },
    "id": "aBUVAFBn90fy"
   },
   "outputs": [],
   "source": [
    "train_error_5 = model0.history.history[\"loss\"]\n",
    "train_error_100  = model1.history.history[\"loss\"]"
   ]
  },
  {
   "cell_type": "markdown",
   "metadata": {
    "id": "XSLPkg1eEhMT"
   },
   "source": [
    "`-` epoch에 따른 train loss를 살펴본 결과 특정 epoch이후에는 loss값이 변화가 미비하다..."
   ]
  },
  {
   "cell_type": "markdown",
   "metadata": {
    "id": "CYBCgN3JEoBU"
   },
   "source": [
    "* 대충보니 `epoch = 10`정도만 해도 될 것같음.."
   ]
  },
  {
   "cell_type": "code",
   "execution_count": 248,
   "metadata": {
    "colab": {
     "base_uri": "https://localhost:8080/",
     "height": 368
    },
    "executionInfo": {
     "elapsed": 601,
     "status": "ok",
     "timestamp": 1696312028963,
     "user": {
      "displayName": "ccc flkwerkdai",
      "userId": "13507850890638580947"
     },
     "user_tz": -540
    },
    "id": "35H009QND0Po",
    "outputId": "33d4b98f-121f-4acb-db02-984579243d2d"
   },
   "outputs": [
    {
     "data": {
      "image/png": "[encoded data removed]",
      "text/plain": [
       "<Figure size 400x400 with 1 Axes>"
      ]
     },
     "metadata": {},
     "output_type": "display_data"
    }
   ],
   "source": [
    "plt.figure(figsize = (4,4))\n",
    "plt.plot(train_error_5,label = \"epochs = 5\")\n",
    "plt.plot(train_error_100,label = \"epochs = 100\")\n",
    "plt.legend()\n",
    "plt.show()"
   ]
  },
  {
   "cell_type": "markdown",
   "metadata": {
    "id": "_Ugey58aE3KU"
   },
   "source": [
    "`-` epoch = 10으로 셋팅 후 결과 리포트 작성"
   ]
  },
  {
   "cell_type": "code",
   "execution_count": 249,
   "metadata": {
    "colab": {
     "base_uri": "https://localhost:8080/"
    },
    "executionInfo": {
     "elapsed": 12624,
     "status": "ok",
     "timestamp": 1696312105654,
     "user": {
      "displayName": "ccc flkwerkdai",
      "userId": "13507850890638580947"
     },
     "user_tz": -540
    },
    "id": "LWmOWzeoEzUj",
    "outputId": "c272b813-ae36-44ec-b3cd-932e850d824a"
   },
   "outputs": [
    {
     "name": "stdout",
     "output_type": "stream",
     "text": [
      "Epoch 1/10\n",
      "500/500 [==============================] - 2s 2ms/step - loss: 0.7028\n",
      "Epoch 2/10\n",
      "500/500 [==============================] - 1s 3ms/step - loss: 0.6771\n",
      "Epoch 3/10\n",
      "500/500 [==============================] - 1s 2ms/step - loss: 0.6625\n",
      "Epoch 4/10\n",
      "500/500 [==============================] - 1s 2ms/step - loss: 0.6532\n",
      "Epoch 5/10\n",
      "500/500 [==============================] - 1s 2ms/step - loss: 0.6472\n",
      "Epoch 6/10\n",
      "500/500 [==============================] - 1s 3ms/step - loss: 0.6431\n",
      "Epoch 7/10\n",
      "500/500 [==============================] - 1s 3ms/step - loss: 0.6403\n",
      "Epoch 8/10\n",
      "500/500 [==============================] - 1s 2ms/step - loss: 0.6384\n",
      "Epoch 9/10\n",
      "500/500 [==============================] - 1s 2ms/step - loss: 0.6371\n",
      "Epoch 10/10\n",
      "500/500 [==============================] - 1s 2ms/step - loss: 0.6362\n"
     ]
    },
    {
     "data": {
      "text/plain": [
       "<keras.src.callbacks.History at 0x7dddd9705c00>"
      ]
     },
     "execution_count": 249,
     "metadata": {},
     "output_type": "execute_result"
    }
   ],
   "source": [
    "model2 = Sequential([ Dense(1, input_shape = (nf,), activation = 'sigmoid') ])\n",
    "model2.compile(optimizer='adam', loss='binary_crossentropy')\n",
    "model2.fit(x_train,y_train,epochs = 10,verbose=1)"
   ]
  },
  {
   "cell_type": "code",
   "execution_count": 252,
   "metadata": {
    "colab": {
     "base_uri": "https://localhost:8080/",
     "height": 391
    },
    "executionInfo": {
     "elapsed": 711,
     "status": "ok",
     "timestamp": 1696312186056,
     "user": {
      "displayName": "ccc flkwerkdai",
      "userId": "13507850890638580947"
     },
     "user_tz": -540
    },
    "id": "0xshTr4dFK9R",
    "outputId": "3cc47c9d-fda4-4eff-ee74-179e195e2bbc"
   },
   "outputs": [
    {
     "data": {
      "image/png": "[encoded data removed]",
      "text/plain": [
       "<Figure size 400x400 with 1 Axes>"
      ]
     },
     "metadata": {},
     "output_type": "display_data"
    }
   ],
   "source": [
    "plt.figure(figsize = (4,4))\n",
    "plt.title(\"logistic model with DL (epochs = 10)\")\n",
    "plt.plot(model2.history.history[\"loss\"])\n",
    "plt.show()"
   ]
  },
  {
   "cell_type": "code",
   "execution_count": 256,
   "metadata": {
    "colab": {
     "base_uri": "https://localhost:8080/"
    },
    "executionInfo": {
     "elapsed": 718,
     "status": "ok",
     "timestamp": 1696312295414,
     "user": {
      "displayName": "ccc flkwerkdai",
      "userId": "13507850890638580947"
     },
     "user_tz": -540
    },
    "id": "ZAlpdG0zFeP3",
    "outputId": "fcfe9a66-efd2-49ec-9e8c-e5840c4b4a7f"
   },
   "outputs": [
    {
     "name": "stdout",
     "output_type": "stream",
     "text": [
      "125/125 [==============================] - 0s 2ms/step\n",
      "[[1320  727]\n",
      " [ 729 1224]]\n",
      "--------------------------------------------------\n",
      "              precision    recall  f1-score   support\n",
      "\n",
      "           0       0.64      0.64      0.64      2047\n",
      "           1       0.63      0.63      0.63      1953\n",
      "\n",
      "    accuracy                           0.64      4000\n",
      "   macro avg       0.64      0.64      0.64      4000\n",
      "weighted avg       0.64      0.64      0.64      4000\n",
      "\n"
     ]
    }
   ],
   "source": [
    "y_pred = np.where(model2.predict(x_val)>= 0.5, 1, 0)\n",
    "\n",
    "print(confusion_matrix(y_val, y_pred))\n",
    "print('-'*50)\n",
    "print(classification_report(y_val, y_pred))"
   ]
  },
  {
   "cell_type": "markdown",
   "metadata": {
    "id": "fwfKUmzeF4ia"
   },
   "source": [
    "`-` 최종 결과 시각화"
   ]
  },
  {
   "cell_type": "code",
   "execution_count": 257,
   "metadata": {
    "executionInfo": {
     "elapsed": 4,
     "status": "ok",
     "timestamp": 1696312402937,
     "user": {
      "displayName": "ccc flkwerkdai",
      "userId": "13507850890638580947"
     },
     "user_tz": -540
    },
    "id": "C8Z0QUdYF6TF"
   },
   "outputs": [],
   "source": [
    "from sklearn.metrics import *\n",
    "pre = precision_score(y_val, y_pred)\n",
    "recall = recall_score(y_val, y_pred)\n",
    "f1 = f1_score(y_val, y_pred)\n",
    "acc = accuracy_score(y_val, y_pred)"
   ]
  },
  {
   "cell_type": "code",
   "execution_count": 268,
   "metadata": {
    "colab": {
     "base_uri": "https://localhost:8080/",
     "height": 542
    },
    "executionInfo": {
     "elapsed": 7,
     "status": "ok",
     "timestamp": 1696312589692,
     "user": {
      "displayName": "ccc flkwerkdai",
      "userId": "13507850890638580947"
     },
     "user_tz": -540
    },
    "id": "KIASolyiGSyy",
    "outputId": "06642096-93a4-46f9-fdfd-ec9986df16f3"
   },
   "outputs": [
    {
     "data": {
      "text/html": [
       "<html>\n",
       "<head><meta charset=\"utf-8\" /></head>\n",
       "<body>\n",
       "    <div>            <script src=\"https://cdnjs.cloudflare.com/ajax/libs/mathjax/2.7.5/MathJax.js?config=TeX-AMS-MML_SVG\"></script><script type=\"text/javascript\">if (window.MathJax && window.MathJax.Hub && window.MathJax.Hub.Config) {window.MathJax.Hub.Config({SVG: {font: \"STIX-Web\"}});}</script>                <script type=\"text/javascript\">window.PlotlyConfig = {MathJaxConfig: 'local'};</script>\n",
       "        <script charset=\"utf-8\" src=\"https://cdn.plot.ly/plotly-2.24.1.min.js\"></script>                <div id=\"36b2f65c-863c-42e9-859b-841c43df91b5\" class=\"plotly-graph-div\" style=\"height:525px; width:100%;\"></div>            <script type=\"text/javascript\">                                    window.PLOTLYENV=window.PLOTLYENV || {};                                    if (document.getElementById(\"36b2f65c-863c-42e9-859b-841c43df91b5\")) {                    Plotly.newPlot(                        \"36b2f65c-863c-42e9-859b-841c43df91b5\",                        [{\"alignmentgroup\":\"True\",\"hovertemplate\":\"measure=%{x}\\u003cbr\\u003evalue=%{y}\\u003cextra\\u003e\\u003c\\u002fextra\\u003e\",\"legendgroup\":\"precision\",\"marker\":{\"color\":\"#636efa\",\"pattern\":{\"shape\":\"\"}},\"name\":\"precision\",\"offsetgroup\":\"precision\",\"orientation\":\"v\",\"showlegend\":true,\"textposition\":\"auto\",\"x\":[\"precision\"],\"xaxis\":\"x\",\"y\":[0.6273705791901589],\"yaxis\":\"y\",\"type\":\"bar\"},{\"alignmentgroup\":\"True\",\"hovertemplate\":\"measure=%{x}\\u003cbr\\u003evalue=%{y}\\u003cextra\\u003e\\u003c\\u002fextra\\u003e\",\"legendgroup\":\"recall\",\"marker\":{\"color\":\"#EF553B\",\"pattern\":{\"shape\":\"\"}},\"name\":\"recall\",\"offsetgroup\":\"recall\",\"orientation\":\"v\",\"showlegend\":true,\"textposition\":\"auto\",\"x\":[\"recall\"],\"xaxis\":\"x\",\"y\":[0.6267281105990783],\"yaxis\":\"y\",\"type\":\"bar\"},{\"alignmentgroup\":\"True\",\"hovertemplate\":\"measure=%{x}\\u003cbr\\u003evalue=%{y}\\u003cextra\\u003e\\u003c\\u002fextra\\u003e\",\"legendgroup\":\"F1-score\",\"marker\":{\"color\":\"#00cc96\",\"pattern\":{\"shape\":\"\"}},\"name\":\"F1-score\",\"offsetgroup\":\"F1-score\",\"orientation\":\"v\",\"showlegend\":true,\"textposition\":\"auto\",\"x\":[\"F1-score\"],\"xaxis\":\"x\",\"y\":[0.6270491803278688],\"yaxis\":\"y\",\"type\":\"bar\"},{\"alignmentgroup\":\"True\",\"hovertemplate\":\"measure=%{x}\\u003cbr\\u003evalue=%{y}\\u003cextra\\u003e\\u003c\\u002fextra\\u003e\",\"legendgroup\":\"accuracy\",\"marker\":{\"color\":\"#ab63fa\",\"pattern\":{\"shape\":\"\"}},\"name\":\"accuracy\",\"offsetgroup\":\"accuracy\",\"orientation\":\"v\",\"showlegend\":true,\"textposition\":\"auto\",\"x\":[\"accuracy\"],\"xaxis\":\"x\",\"y\":[0.636],\"yaxis\":\"y\",\"type\":\"bar\"}],                        {\"template\":{\"data\":{\"histogram2dcontour\":[{\"type\":\"histogram2dcontour\",\"colorbar\":{\"outlinewidth\":0,\"ticks\":\"\"},\"colorscale\":[[0.0,\"#0d0887\"],[0.1111111111111111,\"#46039f\"],[0.2222222222222222,\"#7201a8\"],[0.3333333333333333,\"#9c179e\"],[0.4444444444444444,\"#bd3786\"],[0.5555555555555556,\"#d8576b\"],[0.6666666666666666,\"#ed7953\"],[0.7777777777777778,\"#fb9f3a\"],[0.8888888888888888,\"#fdca26\"],[1.0,\"#f0f921\"]]}],\"choropleth\":[{\"type\":\"choropleth\",\"colorbar\":{\"outlinewidth\":0,\"ticks\":\"\"}}],\"histogram2d\":[{\"type\":\"histogram2d\",\"colorbar\":{\"outlinewidth\":0,\"ticks\":\"\"},\"colorscale\":[[0.0,\"#0d0887\"],[0.1111111111111111,\"#46039f\"],[0.2222222222222222,\"#7201a8\"],[0.3333333333333333,\"#9c179e\"],[0.4444444444444444,\"#bd3786\"],[0.5555555555555556,\"#d8576b\"],[0.6666666666666666,\"#ed7953\"],[0.7777777777777778,\"#fb9f3a\"],[0.8888888888888888,\"#fdca26\"],[1.0,\"#f0f921\"]]}],\"heatmap\":[{\"type\":\"heatmap\",\"colorbar\":{\"outlinewidth\":0,\"ticks\":\"\"},\"colorscale\":[[0.0,\"#0d0887\"],[0.1111111111111111,\"#46039f\"],[0.2222222222222222,\"#7201a8\"],[0.3333333333333333,\"#9c179e\"],[0.4444444444444444,\"#bd3786\"],[0.5555555555555556,\"#d8576b\"],[0.6666666666666666,\"#ed7953\"],[0.7777777777777778,\"#fb9f3a\"],[0.8888888888888888,\"#fdca26\"],[1.0,\"#f0f921\"]]}],\"heatmapgl\":[{\"type\":\"heatmapgl\",\"colorbar\":{\"outlinewidth\":0,\"ticks\":\"\"},\"colorscale\":[[0.0,\"#0d0887\"],[0.1111111111111111,\"#46039f\"],[0.2222222222222222,\"#7201a8\"],[0.3333333333333333,\"#9c179e\"],[0.4444444444444444,\"#bd3786\"],[0.5555555555555556,\"#d8576b\"],[0.6666666666666666,\"#ed7953\"],[0.7777777777777778,\"#fb9f3a\"],[0.8888888888888888,\"#fdca26\"],[1.0,\"#f0f921\"]]}],\"contourcarpet\":[{\"type\":\"contourcarpet\",\"colorbar\":{\"outlinewidth\":0,\"ticks\":\"\"}}],\"contour\":[{\"type\":\"contour\",\"colorbar\":{\"outlinewidth\":0,\"ticks\":\"\"},\"colorscale\":[[0.0,\"#0d0887\"],[0.1111111111111111,\"#46039f\"],[0.2222222222222222,\"#7201a8\"],[0.3333333333333333,\"#9c179e\"],[0.4444444444444444,\"#bd3786\"],[0.5555555555555556,\"#d8576b\"],[0.6666666666666666,\"#ed7953\"],[0.7777777777777778,\"#fb9f3a\"],[0.8888888888888888,\"#fdca26\"],[1.0,\"#f0f921\"]]}],\"surface\":[{\"type\":\"surface\",\"colorbar\":{\"outlinewidth\":0,\"ticks\":\"\"},\"colorscale\":[[0.0,\"#0d0887\"],[0.1111111111111111,\"#46039f\"],[0.2222222222222222,\"#7201a8\"],[0.3333333333333333,\"#9c179e\"],[0.4444444444444444,\"#bd3786\"],[0.5555555555555556,\"#d8576b\"],[0.6666666666666666,\"#ed7953\"],[0.7777777777777778,\"#fb9f3a\"],[0.8888888888888888,\"#fdca26\"],[1.0,\"#f0f921\"]]}],\"mesh3d\":[{\"type\":\"mesh3d\",\"colorbar\":{\"outlinewidth\":0,\"ticks\":\"\"}}],\"scatter\":[{\"fillpattern\":{\"fillmode\":\"overlay\",\"size\":10,\"solidity\":0.2},\"type\":\"scatter\"}],\"parcoords\":[{\"type\":\"parcoords\",\"line\":{\"colorbar\":{\"outlinewidth\":0,\"ticks\":\"\"}}}],\"scatterpolargl\":[{\"type\":\"scatterpolargl\",\"marker\":{\"colorbar\":{\"outlinewidth\":0,\"ticks\":\"\"}}}],\"bar\":[{\"error_x\":{\"color\":\"#2a3f5f\"},\"error_y\":{\"color\":\"#2a3f5f\"},\"marker\":{\"line\":{\"color\":\"#E5ECF6\",\"width\":0.5},\"pattern\":{\"fillmode\":\"overlay\",\"size\":10,\"solidity\":0.2}},\"type\":\"bar\"}],\"scattergeo\":[{\"type\":\"scattergeo\",\"marker\":{\"colorbar\":{\"outlinewidth\":0,\"ticks\":\"\"}}}],\"scatterpolar\":[{\"type\":\"scatterpolar\",\"marker\":{\"colorbar\":{\"outlinewidth\":0,\"ticks\":\"\"}}}],\"histogram\":[{\"marker\":{\"pattern\":{\"fillmode\":\"overlay\",\"size\":10,\"solidity\":0.2}},\"type\":\"histogram\"}],\"scattergl\":[{\"type\":\"scattergl\",\"marker\":{\"colorbar\":{\"outlinewidth\":0,\"ticks\":\"\"}}}],\"scatter3d\":[{\"type\":\"scatter3d\",\"line\":{\"colorbar\":{\"outlinewidth\":0,\"ticks\":\"\"}},\"marker\":{\"colorbar\":{\"outlinewidth\":0,\"ticks\":\"\"}}}],\"scattermapbox\":[{\"type\":\"scattermapbox\",\"marker\":{\"colorbar\":{\"outlinewidth\":0,\"ticks\":\"\"}}}],\"scatterternary\":[{\"type\":\"scatterternary\",\"marker\":{\"colorbar\":{\"outlinewidth\":0,\"ticks\":\"\"}}}],\"scattercarpet\":[{\"type\":\"scattercarpet\",\"marker\":{\"colorbar\":{\"outlinewidth\":0,\"ticks\":\"\"}}}],\"carpet\":[{\"aaxis\":{\"endlinecolor\":\"#2a3f5f\",\"gridcolor\":\"white\",\"linecolor\":\"white\",\"minorgridcolor\":\"white\",\"startlinecolor\":\"#2a3f5f\"},\"baxis\":{\"endlinecolor\":\"#2a3f5f\",\"gridcolor\":\"white\",\"linecolor\":\"white\",\"minorgridcolor\":\"white\",\"startlinecolor\":\"#2a3f5f\"},\"type\":\"carpet\"}],\"table\":[{\"cells\":{\"fill\":{\"color\":\"#EBF0F8\"},\"line\":{\"color\":\"white\"}},\"header\":{\"fill\":{\"color\":\"#C8D4E3\"},\"line\":{\"color\":\"white\"}},\"type\":\"table\"}],\"barpolar\":[{\"marker\":{\"line\":{\"color\":\"#E5ECF6\",\"width\":0.5},\"pattern\":{\"fillmode\":\"overlay\",\"size\":10,\"solidity\":0.2}},\"type\":\"barpolar\"}],\"pie\":[{\"automargin\":true,\"type\":\"pie\"}]},\"layout\":{\"autotypenumbers\":\"strict\",\"colorway\":[\"#636efa\",\"#EF553B\",\"#00cc96\",\"#ab63fa\",\"#FFA15A\",\"#19d3f3\",\"#FF6692\",\"#B6E880\",\"#FF97FF\",\"#FECB52\"],\"font\":{\"color\":\"#2a3f5f\"},\"hovermode\":\"closest\",\"hoverlabel\":{\"align\":\"left\"},\"paper_bgcolor\":\"white\",\"plot_bgcolor\":\"#E5ECF6\",\"polar\":{\"bgcolor\":\"#E5ECF6\",\"angularaxis\":{\"gridcolor\":\"white\",\"linecolor\":\"white\",\"ticks\":\"\"},\"radialaxis\":{\"gridcolor\":\"white\",\"linecolor\":\"white\",\"ticks\":\"\"}},\"ternary\":{\"bgcolor\":\"#E5ECF6\",\"aaxis\":{\"gridcolor\":\"white\",\"linecolor\":\"white\",\"ticks\":\"\"},\"baxis\":{\"gridcolor\":\"white\",\"linecolor\":\"white\",\"ticks\":\"\"},\"caxis\":{\"gridcolor\":\"white\",\"linecolor\":\"white\",\"ticks\":\"\"}},\"coloraxis\":{\"colorbar\":{\"outlinewidth\":0,\"ticks\":\"\"}},\"colorscale\":{\"sequential\":[[0.0,\"#0d0887\"],[0.1111111111111111,\"#46039f\"],[0.2222222222222222,\"#7201a8\"],[0.3333333333333333,\"#9c179e\"],[0.4444444444444444,\"#bd3786\"],[0.5555555555555556,\"#d8576b\"],[0.6666666666666666,\"#ed7953\"],[0.7777777777777778,\"#fb9f3a\"],[0.8888888888888888,\"#fdca26\"],[1.0,\"#f0f921\"]],\"sequentialminus\":[[0.0,\"#0d0887\"],[0.1111111111111111,\"#46039f\"],[0.2222222222222222,\"#7201a8\"],[0.3333333333333333,\"#9c179e\"],[0.4444444444444444,\"#bd3786\"],[0.5555555555555556,\"#d8576b\"],[0.6666666666666666,\"#ed7953\"],[0.7777777777777778,\"#fb9f3a\"],[0.8888888888888888,\"#fdca26\"],[1.0,\"#f0f921\"]],\"diverging\":[[0,\"#8e0152\"],[0.1,\"#c51b7d\"],[0.2,\"#de77ae\"],[0.3,\"#f1b6da\"],[0.4,\"#fde0ef\"],[0.5,\"#f7f7f7\"],[0.6,\"#e6f5d0\"],[0.7,\"#b8e186\"],[0.8,\"#7fbc41\"],[0.9,\"#4d9221\"],[1,\"#276419\"]]},\"xaxis\":{\"gridcolor\":\"white\",\"linecolor\":\"white\",\"ticks\":\"\",\"title\":{\"standoff\":15},\"zerolinecolor\":\"white\",\"automargin\":true,\"zerolinewidth\":2},\"yaxis\":{\"gridcolor\":\"white\",\"linecolor\":\"white\",\"ticks\":\"\",\"title\":{\"standoff\":15},\"zerolinecolor\":\"white\",\"automargin\":true,\"zerolinewidth\":2},\"scene\":{\"xaxis\":{\"backgroundcolor\":\"#E5ECF6\",\"gridcolor\":\"white\",\"linecolor\":\"white\",\"showbackground\":true,\"ticks\":\"\",\"zerolinecolor\":\"white\",\"gridwidth\":2},\"yaxis\":{\"backgroundcolor\":\"#E5ECF6\",\"gridcolor\":\"white\",\"linecolor\":\"white\",\"showbackground\":true,\"ticks\":\"\",\"zerolinecolor\":\"white\",\"gridwidth\":2},\"zaxis\":{\"backgroundcolor\":\"#E5ECF6\",\"gridcolor\":\"white\",\"linecolor\":\"white\",\"showbackground\":true,\"ticks\":\"\",\"zerolinecolor\":\"white\",\"gridwidth\":2}},\"shapedefaults\":{\"line\":{\"color\":\"#2a3f5f\"}},\"annotationdefaults\":{\"arrowcolor\":\"#2a3f5f\",\"arrowhead\":0,\"arrowwidth\":1},\"geo\":{\"bgcolor\":\"white\",\"landcolor\":\"#E5ECF6\",\"subunitcolor\":\"white\",\"showland\":true,\"showlakes\":true,\"lakecolor\":\"white\"},\"title\":{\"x\":0.05},\"mapbox\":{\"style\":\"light\"}}},\"xaxis\":{\"anchor\":\"y\",\"domain\":[0.0,1.0],\"title\":{\"text\":\"measure\"},\"categoryorder\":\"array\",\"categoryarray\":[\"precision\",\"recall\",\"F1-score\",\"accuracy\"]},\"yaxis\":{\"anchor\":\"x\",\"domain\":[0.0,1.0],\"title\":{\"text\":\"value\"},\"range\":[0.62,0.64]},\"legend\":{\"title\":{\"text\":\"measure\"},\"tracegroupgap\":0},\"margin\":{\"t\":60},\"barmode\":\"relative\"},                        {\"responsive\": true}                    ).then(function(){\n",
       "                            \n",
       "var gd = document.getElementById('36b2f65c-863c-42e9-859b-841c43df91b5');\n",
       "var x = new MutationObserver(function (mutations, observer) {{\n",
       "        var display = window.getComputedStyle(gd).display;\n",
       "        if (!display || display === 'none') {{\n",
       "            console.log([gd, 'removed!']);\n",
       "            Plotly.purge(gd);\n",
       "            observer.disconnect();\n",
       "        }}\n",
       "}});\n",
       "\n",
       "// Listen for the removal of the full notebook cells\n",
       "var notebookContainer = gd.closest('#notebook-container');\n",
       "if (notebookContainer) {{\n",
       "    x.observe(notebookContainer, {childList: true});\n",
       "}}\n",
       "\n",
       "// Listen for the clearing of the current output cell\n",
       "var outputEl = gd.closest('.output');\n",
       "if (outputEl) {{\n",
       "    x.observe(outputEl, {childList: true});\n",
       "}}\n",
       "\n",
       "                        })                };                            </script>        </div>\n",
       "</body>\n",
       "</html>"
      ]
     },
     "metadata": {},
     "output_type": "display_data"
    }
   ],
   "source": [
    "measure = [\"precision\", \"recall\", \"F1-score\", \"accuracy\"]\n",
    "value = [pre,recall,f1,acc]\n",
    "\n",
    "result = pd.DataFrame(value,columns = [\"value\"])\n",
    "result[\"measure\"] = measure\n",
    "fig = result.plot(x = \"measure\", y = \"value\", kind = \"bar\",\n",
    "            backend = \"plotly\",color = \"measure\")\n",
    "\n",
    "fig.update_yaxes(range = [0.62,0.64])"
   ]
  },
  {
   "cell_type": "markdown",
   "metadata": {
    "id": "lO7mby8BHOvV"
   },
   "source": [
    "### summary"
   ]
  },
  {
   "cell_type": "markdown",
   "metadata": {
    "id": "9sNmnLN0HR79"
   },
   "source": [
    "`1` epoch을 늘려도 성능이 그렇게 좋지 않음"
   ]
  },
  {
   "cell_type": "code",
   "execution_count": 272,
   "metadata": {
    "executionInfo": {
     "elapsed": 2,
     "status": "ok",
     "timestamp": 1696312745259,
     "user": {
      "displayName": "ccc flkwerkdai",
      "userId": "13507850890638580947"
     },
     "user_tz": -540
    },
    "id": "B8zf_DxiHZwJ"
   },
   "outputs": [],
   "source": [
    "from keras.optimizers import Adam\n",
    "Adam?"
   ]
  },
  {
   "cell_type": "markdown",
   "metadata": {
    "id": "a3ehDpDsHVCF"
   },
   "source": [
    "`2` 아마도 기존에 제공하는 학습률이 너무 작아서 로컬 미니멈에 빠지는 것 같음\n",
    "\n",
    "* 아래를 통해서 `Adam`에서 기본적으로 제공하는 학습률이 `0.001`임을 확인 가능\n",
    "\n",
    "```python\n",
    "from keras.optimizers import Adam\n",
    "Adam?\n",
    "```"
   ]
  },
  {
   "cell_type": "markdown",
   "metadata": {
    "id": "TIsCMWz-H9PI"
   },
   "source": [
    "`3` 또한, 모델 적합시 검증용 데이터를 이용하지 않아 학습시 잘못된 학습을 한 경우에도 그냥 반영하는 것 같음"
   ]
  },
  {
   "cell_type": "markdown",
   "metadata": {
    "id": "9dTHhbWUISFr"
   },
   "source": [
    "`4` 생각해볼 수 있는 접근법\n",
    "\n",
    "* 그렇다면, 학습 시 검증용 데이터를 이용\n",
    "\n",
    "* 그리고, `epoch`와 `learning_rate`를 적절히 이용한다면..모델 성능을 높일 수 있지 않을까??\n",
    "\n",
    "* 그리고 은닉층을 여러개 추가한다면???"
   ]
  },
  {
   "cell_type": "markdown",
   "metadata": {
    "id": "t4OF4792HBfY"
   },
   "source": [
    "***"
   ]
  },
  {
   "cell_type": "markdown",
   "metadata": {
    "id": "W7osegcaHCCS"
   },
   "source": [
    "## excercise 3. Boston (회귀)"
   ]
  },
  {
   "cell_type": "markdown",
   "metadata": {
    "id": "QQfip9I4JaJN"
   },
   "source": [
    "### (1) 데이터 이해 및 준비"
   ]
  },
  {
   "cell_type": "code",
   "execution_count": 273,
   "metadata": {
    "colab": {
     "base_uri": "https://localhost:8080/",
     "height": 226
    },
    "executionInfo": {
     "elapsed": 5,
     "status": "ok",
     "timestamp": 1696313237188,
     "user": {
      "displayName": "ccc flkwerkdai",
      "userId": "13507850890638580947"
     },
     "user_tz": -540
    },
    "id": "wLdUQ5qBJdAP",
    "outputId": "5ae3785e-1959-43ee-89c7-f4fbffb54efc"
   },
   "outputs": [
    {
     "data": {
      "text/html": [
       "\n",
       "  <div id=\"df-41752826-86f5-41fe-b727-54eb437be64e\" class=\"colab-df-container\">\n",
       "    <div>\n",
       "<style scoped>\n",
       "    .dataframe tbody tr th:only-of-type {\n",
       "        vertical-align: middle;\n",
       "    }\n",
       "\n",
       "    .dataframe tbody tr th {\n",
       "        vertical-align: top;\n",
       "    }\n",
       "\n",
       "    .dataframe thead th {\n",
       "        text-align: right;\n",
       "    }\n",
       "</style>\n",
       "<table border=\"1\" class=\"dataframe\">\n",
       "  <thead>\n",
       "    <tr style=\"text-align: right;\">\n",
       "      <th></th>\n",
       "      <th>crim</th>\n",
       "      <th>zn</th>\n",
       "      <th>indus</th>\n",
       "      <th>chas</th>\n",
       "      <th>nox</th>\n",
       "      <th>rm</th>\n",
       "      <th>age</th>\n",
       "      <th>dis</th>\n",
       "      <th>rad</th>\n",
       "      <th>tax</th>\n",
       "      <th>ptratio</th>\n",
       "      <th>lstat</th>\n",
       "      <th>medv</th>\n",
       "    </tr>\n",
       "  </thead>\n",
       "  <tbody>\n",
       "    <tr>\n",
       "      <th>0</th>\n",
       "      <td>0.00632</td>\n",
       "      <td>18.0</td>\n",
       "      <td>2.31</td>\n",
       "      <td>0</td>\n",
       "      <td>0.538</td>\n",
       "      <td>6.575</td>\n",
       "      <td>65.2</td>\n",
       "      <td>4.0900</td>\n",
       "      <td>1</td>\n",
       "      <td>296</td>\n",
       "      <td>15.3</td>\n",
       "      <td>4.98</td>\n",
       "      <td>24.0</td>\n",
       "    </tr>\n",
       "    <tr>\n",
       "      <th>1</th>\n",
       "      <td>0.02731</td>\n",
       "      <td>0.0</td>\n",
       "      <td>7.07</td>\n",
       "      <td>0</td>\n",
       "      <td>0.469</td>\n",
       "      <td>6.421</td>\n",
       "      <td>78.9</td>\n",
       "      <td>4.9671</td>\n",
       "      <td>2</td>\n",
       "      <td>242</td>\n",
       "      <td>17.8</td>\n",
       "      <td>9.14</td>\n",
       "      <td>21.6</td>\n",
       "    </tr>\n",
       "    <tr>\n",
       "      <th>2</th>\n",
       "      <td>0.02729</td>\n",
       "      <td>0.0</td>\n",
       "      <td>7.07</td>\n",
       "      <td>0</td>\n",
       "      <td>0.469</td>\n",
       "      <td>7.185</td>\n",
       "      <td>61.1</td>\n",
       "      <td>4.9671</td>\n",
       "      <td>2</td>\n",
       "      <td>242</td>\n",
       "      <td>17.8</td>\n",
       "      <td>4.03</td>\n",
       "      <td>34.7</td>\n",
       "    </tr>\n",
       "    <tr>\n",
       "      <th>3</th>\n",
       "      <td>0.03237</td>\n",
       "      <td>0.0</td>\n",
       "      <td>2.18</td>\n",
       "      <td>0</td>\n",
       "      <td>0.458</td>\n",
       "      <td>6.998</td>\n",
       "      <td>45.8</td>\n",
       "      <td>6.0622</td>\n",
       "      <td>3</td>\n",
       "      <td>222</td>\n",
       "      <td>18.7</td>\n",
       "      <td>2.94</td>\n",
       "      <td>33.4</td>\n",
       "    </tr>\n",
       "    <tr>\n",
       "      <th>4</th>\n",
       "      <td>0.06905</td>\n",
       "      <td>0.0</td>\n",
       "      <td>2.18</td>\n",
       "      <td>0</td>\n",
       "      <td>0.458</td>\n",
       "      <td>7.147</td>\n",
       "      <td>54.2</td>\n",
       "      <td>6.0622</td>\n",
       "      <td>3</td>\n",
       "      <td>222</td>\n",
       "      <td>18.7</td>\n",
       "      <td>5.33</td>\n",
       "      <td>36.2</td>\n",
       "    </tr>\n",
       "  </tbody>\n",
       "</table>\n",
       "</div>\n",
       "    <div class=\"colab-df-buttons\">\n",
       "\n",
       "  <div class=\"colab-df-container\">\n",
       "    <button class=\"colab-df-convert\" onclick=\"convertToInteractive('df-41752826-86f5-41fe-b727-54eb437be64e')\"\n",
       "            title=\"Convert this dataframe to an interactive table.\"\n",
       "            style=\"display:none;\">\n",
       "\n",
       "  <svg xmlns=\"http://www.w3.org/2000/svg\" height=\"24px\" viewBox=\"0 -960 960 960\">\n",
       "    <path d=\"M120-120v-720h720v720H120Zm60-500h600v-160H180v160Zm220 220h160v-160H400v160Zm0 220h160v-160H400v160ZM180-400h160v-160H180v160Zm440 0h160v-160H620v160ZM180-180h160v-160H180v160Zm440 0h160v-160H620v160Z\"/>\n",
       "  </svg>\n",
       "    </button>\n",
       "\n",
       "  <style>\n",
       "    .colab-df-container {\n",
       "      display:flex;\n",
       "      gap: 12px;\n",
       "    }\n",
       "\n",
       "    .colab-df-convert {\n",
       "      background-color: #E8F0FE;\n",
       "      border: none;\n",
       "      border-radius: 50%;\n",
       "      cursor: pointer;\n",
       "      display: none;\n",
       "      fill: #1967D2;\n",
       "      height: 32px;\n",
       "      padding: 0 0 0 0;\n",
       "      width: 32px;\n",
       "    }\n",
       "\n",
       "    .colab-df-convert:hover {\n",
       "      background-color: #E2EBFA;\n",
       "      box-shadow: 0px 1px 2px rgba(60, 64, 67, 0.3), 0px 1px 3px 1px rgba(60, 64, 67, 0.15);\n",
       "      fill: #174EA6;\n",
       "    }\n",
       "\n",
       "    .colab-df-buttons div {\n",
       "      margin-bottom: 4px;\n",
       "    }\n",
       "\n",
       "    [theme=dark] .colab-df-convert {\n",
       "      background-color: #3B4455;\n",
       "      fill: #D2E3FC;\n",
       "    }\n",
       "\n",
       "    [theme=dark] .colab-df-convert:hover {\n",
       "      background-color: #434B5C;\n",
       "      box-shadow: 0px 1px 3px 1px rgba(0, 0, 0, 0.15);\n",
       "      filter: drop-shadow(0px 1px 2px rgba(0, 0, 0, 0.3));\n",
       "      fill: #FFFFFF;\n",
       "    }\n",
       "  </style>\n",
       "\n",
       "    <script>\n",
       "      const buttonEl =\n",
       "        document.querySelector('#df-41752826-86f5-41fe-b727-54eb437be64e button.colab-df-convert');\n",
       "      buttonEl.style.display =\n",
       "        google.colab.kernel.accessAllowed ? 'block' : 'none';\n",
       "\n",
       "      async function convertToInteractive(key) {\n",
       "        const element = document.querySelector('#df-41752826-86f5-41fe-b727-54eb437be64e');\n",
       "        const dataTable =\n",
       "          await google.colab.kernel.invokeFunction('convertToInteractive',\n",
       "                                                    [key], {});\n",
       "        if (!dataTable) return;\n",
       "\n",
       "        const docLinkHtml = 'Like what you see? Visit the ' +\n",
       "          '<a target=\"_blank\" href=https://colab.research.google.com/notebooks/data_table.ipynb>data table notebook</a>'\n",
       "          + ' to learn more about interactive tables.';\n",
       "        element.innerHTML = '';\n",
       "        dataTable['output_type'] = 'display_data';\n",
       "        await google.colab.output.renderOutput(dataTable, element);\n",
       "        const docLink = document.createElement('div');\n",
       "        docLink.innerHTML = docLinkHtml;\n",
       "        element.appendChild(docLink);\n",
       "      }\n",
       "    </script>\n",
       "  </div>\n",
       "\n",
       "\n",
       "<div id=\"df-fe213977-fc27-420e-9742-95af9e54e2d5\">\n",
       "  <button class=\"colab-df-quickchart\" onclick=\"quickchart('df-fe213977-fc27-420e-9742-95af9e54e2d5')\"\n",
       "            title=\"Suggest charts.\"\n",
       "            style=\"display:none;\">\n",
       "\n",
       "<svg xmlns=\"http://www.w3.org/2000/svg\" height=\"24px\"viewBox=\"0 0 24 24\"\n",
       "     width=\"24px\">\n",
       "    <g>\n",
       "        <path d=\"M19 3H5c-1.1 0-2 .9-2 2v14c0 1.1.9 2 2 2h14c1.1 0 2-.9 2-2V5c0-1.1-.9-2-2-2zM9 17H7v-7h2v7zm4 0h-2V7h2v10zm4 0h-2v-4h2v4z\"/>\n",
       "    </g>\n",
       "</svg>\n",
       "  </button>\n",
       "\n",
       "<style>\n",
       "  .colab-df-quickchart {\n",
       "      --bg-color: #E8F0FE;\n",
       "      --fill-color: #1967D2;\n",
       "      --hover-bg-color: #E2EBFA;\n",
       "      --hover-fill-color: #174EA6;\n",
       "      --disabled-fill-color: #AAA;\n",
       "      --disabled-bg-color: #DDD;\n",
       "  }\n",
       "\n",
       "  [theme=dark] .colab-df-quickchart {\n",
       "      --bg-color: #3B4455;\n",
       "      --fill-color: #D2E3FC;\n",
       "      --hover-bg-color: #434B5C;\n",
       "      --hover-fill-color: #FFFFFF;\n",
       "      --disabled-bg-color: #3B4455;\n",
       "      --disabled-fill-color: #666;\n",
       "  }\n",
       "\n",
       "  .colab-df-quickchart {\n",
       "    background-color: var(--bg-color);\n",
       "    border: none;\n",
       "    border-radius: 50%;\n",
       "    cursor: pointer;\n",
       "    display: none;\n",
       "    fill: var(--fill-color);\n",
       "    height: 32px;\n",
       "    padding: 0;\n",
       "    width: 32px;\n",
       "  }\n",
       "\n",
       "  .colab-df-quickchart:hover {\n",
       "    background-color: var(--hover-bg-color);\n",
       "    box-shadow: 0 1px 2px rgba(60, 64, 67, 0.3), 0 1px 3px 1px rgba(60, 64, 67, 0.15);\n",
       "    fill: var(--button-hover-fill-color);\n",
       "  }\n",
       "\n",
       "  .colab-df-quickchart-complete:disabled,\n",
       "  .colab-df-quickchart-complete:disabled:hover {\n",
       "    background-color: var(--disabled-bg-color);\n",
       "    fill: var(--disabled-fill-color);\n",
       "    box-shadow: none;\n",
       "  }\n",
       "\n",
       "  .colab-df-spinner {\n",
       "    border: 2px solid var(--fill-color);\n",
       "    border-color: transparent;\n",
       "    border-bottom-color: var(--fill-color);\n",
       "    animation:\n",
       "      spin 1s steps(1) infinite;\n",
       "  }\n",
       "\n",
       "  @keyframes spin {\n",
       "    0% {\n",
       "      border-color: transparent;\n",
       "      border-bottom-color: var(--fill-color);\n",
       "      border-left-color: var(--fill-color);\n",
       "    }\n",
       "    20% {\n",
       "      border-color: transparent;\n",
       "      border-left-color: var(--fill-color);\n",
       "      border-top-color: var(--fill-color);\n",
       "    }\n",
       "    30% {\n",
       "      border-color: transparent;\n",
       "      border-left-color: var(--fill-color);\n",
       "      border-top-color: var(--fill-color);\n",
       "      border-right-color: var(--fill-color);\n",
       "    }\n",
       "    40% {\n",
       "      border-color: transparent;\n",
       "      border-right-color: var(--fill-color);\n",
       "      border-top-color: var(--fill-color);\n",
       "    }\n",
       "    60% {\n",
       "      border-color: transparent;\n",
       "      border-right-color: var(--fill-color);\n",
       "    }\n",
       "    80% {\n",
       "      border-color: transparent;\n",
       "      border-right-color: var(--fill-color);\n",
       "      border-bottom-color: var(--fill-color);\n",
       "    }\n",
       "    90% {\n",
       "      border-color: transparent;\n",
       "      border-bottom-color: var(--fill-color);\n",
       "    }\n",
       "  }\n",
       "</style>\n",
       "\n",
       "  <script>\n",
       "    async function quickchart(key) {\n",
       "      const quickchartButtonEl =\n",
       "        document.querySelector('#' + key + ' button');\n",
       "      quickchartButtonEl.disabled = true;  // To prevent multiple clicks.\n",
       "      quickchartButtonEl.classList.add('colab-df-spinner');\n",
       "      try {\n",
       "        const charts = await google.colab.kernel.invokeFunction(\n",
       "            'suggestCharts', [key], {});\n",
       "      } catch (error) {\n",
       "        console.error('Error during call to suggestCharts:', error);\n",
       "      }\n",
       "      quickchartButtonEl.classList.remove('colab-df-spinner');\n",
       "      quickchartButtonEl.classList.add('colab-df-quickchart-complete');\n",
       "    }\n",
       "    (() => {\n",
       "      let quickchartButtonEl =\n",
       "        document.querySelector('#df-fe213977-fc27-420e-9742-95af9e54e2d5 button');\n",
       "      quickchartButtonEl.style.display =\n",
       "        google.colab.kernel.accessAllowed ? 'block' : 'none';\n",
       "    })();\n",
       "  </script>\n",
       "</div>\n",
       "    </div>\n",
       "  </div>\n"
      ],
      "text/plain": [
       "      crim    zn  indus  chas    nox     rm   age     dis  rad  tax  ptratio  \\\n",
       "0  0.00632  18.0   2.31     0  0.538  6.575  65.2  4.0900    1  296     15.3   \n",
       "1  0.02731   0.0   7.07     0  0.469  6.421  78.9  4.9671    2  242     17.8   \n",
       "2  0.02729   0.0   7.07     0  0.469  7.185  61.1  4.9671    2  242     17.8   \n",
       "3  0.03237   0.0   2.18     0  0.458  6.998  45.8  6.0622    3  222     18.7   \n",
       "4  0.06905   0.0   2.18     0  0.458  7.147  54.2  6.0622    3  222     18.7   \n",
       "\n",
       "   lstat  medv  \n",
       "0   4.98  24.0  \n",
       "1   9.14  21.6  \n",
       "2   4.03  34.7  \n",
       "3   2.94  33.4  \n",
       "4   5.33  36.2  "
      ]
     },
     "execution_count": 273,
     "metadata": {},
     "output_type": "execute_result"
    }
   ],
   "source": [
    "path = 'https://raw.githubusercontent.com/DA4BAM/dataset/master/boston.csv'\n",
    "data = pd.read_csv(path)\n",
    "data.head()"
   ]
  },
  {
   "cell_type": "code",
   "execution_count": 282,
   "metadata": {
    "executionInfo": {
     "elapsed": 3,
     "status": "ok",
     "timestamp": 1696313625540,
     "user": {
      "displayName": "ccc flkwerkdai",
      "userId": "13507850890638580947"
     },
     "user_tz": -540
    },
    "id": "3hVXhCn7Jle6"
   },
   "outputs": [],
   "source": [
    "target = \"medv\"\n",
    "\n",
    "x = data.drop(target, axis = 1)\n",
    "y= data[target]"
   ]
  },
  {
   "cell_type": "markdown",
   "metadata": {
    "id": "dMi-TWKqJ4Fh"
   },
   "source": [
    "`-` 데이터 분할"
   ]
  },
  {
   "cell_type": "code",
   "execution_count": 283,
   "metadata": {
    "executionInfo": {
     "elapsed": 3,
     "status": "ok",
     "timestamp": 1696313629382,
     "user": {
      "displayName": "ccc flkwerkdai",
      "userId": "13507850890638580947"
     },
     "user_tz": -540
    },
    "id": "uRkkpsdQJ84-"
   },
   "outputs": [],
   "source": [
    "x_train, x_val, y_train, y_val = train_test_split(x, y, test_size=.2, random_state = 20)"
   ]
  },
  {
   "cell_type": "markdown",
   "metadata": {
    "id": "scUqHcy2J-eR"
   },
   "source": [
    "`-` scaling"
   ]
  },
  {
   "cell_type": "code",
   "execution_count": 284,
   "metadata": {
    "executionInfo": {
     "elapsed": 3,
     "status": "ok",
     "timestamp": 1696313630668,
     "user": {
      "displayName": "ccc flkwerkdai",
      "userId": "13507850890638580947"
     },
     "user_tz": -540
    },
    "id": "2UOIfezZKA1T"
   },
   "outputs": [],
   "source": [
    "# 스케일러 선언\n",
    "scaler = MinMaxScaler()\n",
    "\n",
    "# train 셋으로 fitting & 적용\n",
    "x_train = scaler.fit_transform(x_train)\n",
    "\n",
    "# validation 셋은 적용만!\n",
    "x_val = scaler.transform(x_val)"
   ]
  },
  {
   "cell_type": "markdown",
   "metadata": {
    "id": "Dmizrb_PKCVb"
   },
   "source": [
    "### (2) 모델링"
   ]
  },
  {
   "cell_type": "markdown",
   "metadata": {
    "id": "CWrb5FkVLmyN"
   },
   "source": [
    "`-` 이번시간에 알아볼 것!\n",
    "\n",
    "* 학습률은 `0.01`, `activation = \"relu\"`, `optimizer = \"adam\"`, `epochs = 50` 고정!\n",
    "\n",
    "* `validation_split = 0.2로 고정`\n",
    "\n",
    "* 은닉층과 은닉노드 개수에 따라 어떻게 모델 성능이 변화하는지 비교해보자."
   ]
  },
  {
   "cell_type": "markdown",
   "metadata": {
    "id": "UnP3XtGwLnSi"
   },
   "source": [
    "|model|은닉층|각 층에서 은닉노드의 개수|params|\n",
    "|:---:|:---:|:---:|:---:|\n",
    "|model1|2|(2,1)|26 + 3 = 29|\n",
    "|model2|2|(8,1)|104 + 9 = 113|\n",
    "|model3|2|(8,4,1)|104 + 36 + 5 = 145|\n",
    "\n"
   ]
  },
  {
   "cell_type": "markdown",
   "metadata": {
    "id": "JUAyz7AJOLuY"
   },
   "source": [
    "#### import"
   ]
  },
  {
   "cell_type": "code",
   "execution_count": 288,
   "metadata": {
    "executionInfo": {
     "elapsed": 3,
     "status": "ok",
     "timestamp": 1696314605405,
     "user": {
      "displayName": "ccc flkwerkdai",
      "userId": "13507850890638580947"
     },
     "user_tz": -540
    },
    "id": "5Zk6tLxvKKz-"
   },
   "outputs": [],
   "source": [
    "from keras.models import Sequential\n",
    "from keras.layers import Dense\n",
    "from keras.backend import clear_session\n",
    "from keras.optimizers import Adam"
   ]
  },
  {
   "cell_type": "markdown",
   "metadata": {
    "id": "8VMvw-lZSyuE"
   },
   "source": [
    "#### `model1` 설계"
   ]
  },
  {
   "cell_type": "code",
   "execution_count": 297,
   "metadata": {
    "executionInfo": {
     "elapsed": 1,
     "status": "ok",
     "timestamp": 1696315060236,
     "user": {
      "displayName": "ccc flkwerkdai",
      "userId": "13507850890638580947"
     },
     "user_tz": -540
    },
    "id": "LZS_8qvVPAgI"
   },
   "outputs": [],
   "source": [
    "nf = x_train.shape[1]\n",
    "lr = 0.01\n",
    "at = \"relu\" ## 활성화 함수\n",
    "e = 50 ## epochs"
   ]
  },
  {
   "cell_type": "markdown",
   "metadata": {
    "id": "_LgxML7rPHgg"
   },
   "source": [
    "|model|은닉층|각 층에서 은닉노드의 개수|params|\n",
    "|:---:|:---:|:---:|:---:|\n",
    "|model1|2|(2,1)|26 + 3 = 29|\n",
    "|model2|2|(8,1)|104 + 9 = 113|\n",
    "|model3|2|(8,4,1)|104 + 36 + 5 = 145|\n",
    "\n"
   ]
  },
  {
   "cell_type": "code",
   "execution_count": 357,
   "metadata": {
    "colab": {
     "base_uri": "https://localhost:8080/"
    },
    "executionInfo": {
     "elapsed": 3,
     "status": "ok",
     "timestamp": 1696316529270,
     "user": {
      "displayName": "ccc flkwerkdai",
      "userId": "13507850890638580947"
     },
     "user_tz": -540
    },
    "id": "GMLNsEO8OvVJ",
    "outputId": "e5e4f2ee-8c24-4ed2-9673-047aac8c89e8"
   },
   "outputs": [
    {
     "name": "stdout",
     "output_type": "stream",
     "text": [
      "Model: \"sequential\"\n",
      "_________________________________________________________________\n",
      " Layer (type)                Output Shape              Param #   \n",
      "=================================================================\n",
      " dense (Dense)               (None, 2)                 26        \n",
      "                                                                 \n",
      " dense_1 (Dense)             (None, 1)                 3         \n",
      "                                                                 \n",
      "=================================================================\n",
      "Total params: 29 (116.00 Byte)\n",
      "Trainable params: 29 (116.00 Byte)\n",
      "Non-trainable params: 0 (0.00 Byte)\n",
      "_________________________________________________________________\n"
     ]
    }
   ],
   "source": [
    "clear_session()\n",
    "model1 = Sequential(Dense(2, input_shape =(nf,),activation=at)) ## 첫 번째 은닉층\n",
    "model1.add(Dense(1,activation=at))\n",
    "\n",
    "model1.summary() ## 각 층에서 param 개수와 전체 param 개수 확인"
   ]
  },
  {
   "cell_type": "markdown",
   "metadata": {
    "id": "Xw4kFVniPoqE"
   },
   "source": [
    "`-`  compile & fit"
   ]
  },
  {
   "cell_type": "code",
   "execution_count": 358,
   "metadata": {
    "executionInfo": {
     "elapsed": 2,
     "status": "ok",
     "timestamp": 1696316533323,
     "user": {
      "displayName": "ccc flkwerkdai",
      "userId": "13507850890638580947"
     },
     "user_tz": -540
    },
    "id": "-mtZOCikQKbO"
   },
   "outputs": [],
   "source": [
    "model1.compile(optimizer = Adam(learning_rate = lr), loss = \"mse\")"
   ]
  },
  {
   "cell_type": "code",
   "execution_count": 359,
   "metadata": {
    "colab": {
     "base_uri": "https://localhost:8080/",
     "height": 36
    },
    "executionInfo": {
     "elapsed": 3,
     "status": "ok",
     "timestamp": 1696316534966,
     "user": {
      "displayName": "ccc flkwerkdai",
      "userId": "13507850890638580947"
     },
     "user_tz": -540
    },
    "id": "BAPlv-tyQ_Yl",
    "outputId": "119deeb8-39a5-47c5-99f4-97a5f907628c"
   },
   "outputs": [
    {
     "data": {
      "application/vnd.google.colaboratory.intrinsic+json": {
       "type": "string"
      },
      "text/plain": [
       "'/device:GPU:0'"
      ]
     },
     "execution_count": 359,
     "metadata": {},
     "output_type": "execute_result"
    }
   ],
   "source": [
    "import tensorflow as tf\n",
    "device_name = tf.test.gpu_device_name()\n",
    "device_name"
   ]
  },
  {
   "cell_type": "code",
   "execution_count": 360,
   "metadata": {
    "executionInfo": {
     "elapsed": 5542,
     "status": "ok",
     "timestamp": 1696316541931,
     "user": {
      "displayName": "ccc flkwerkdai",
      "userId": "13507850890638580947"
     },
     "user_tz": -540
    },
    "id": "ugeEJD95QzLU"
   },
   "outputs": [],
   "source": [
    "with tf.device('/device:GPU:0') :\n",
    "     model1.fit(x_train,y_train,epochs = e, validation_split = 0.2, verbose = 0)"
   ]
  },
  {
   "cell_type": "markdown",
   "metadata": {
    "id": "RngMPUApPBNH"
   },
   "source": [
    "`-` train 및 val error 저장"
   ]
  },
  {
   "cell_type": "code",
   "execution_count": 361,
   "metadata": {
    "executionInfo": {
     "elapsed": 5,
     "status": "ok",
     "timestamp": 1696316541931,
     "user": {
      "displayName": "ccc flkwerkdai",
      "userId": "13507850890638580947"
     },
     "user_tz": -540
    },
    "id": "0KY1yV7HRgt1"
   },
   "outputs": [],
   "source": [
    "total_train = pd.DataFrame()\n",
    "total_val = pd.DataFrame()\n",
    "model1_train_loss = model1.history.history[\"loss\"]\n",
    "model1_val_loss = model1.history.history[\"val_loss\"]\n",
    "\n",
    "total_train.loc[:,0] = model1_train_loss\n",
    "total_val.loc[:,0] = model1_val_loss"
   ]
  },
  {
   "cell_type": "markdown",
   "metadata": {
    "id": "ucalSmCtRvh6"
   },
   "source": [
    "`-` predict"
   ]
  },
  {
   "cell_type": "code",
   "execution_count": 362,
   "metadata": {
    "colab": {
     "base_uri": "https://localhost:8080/"
    },
    "executionInfo": {
     "elapsed": 5,
     "status": "ok",
     "timestamp": 1696316541932,
     "user": {
      "displayName": "ccc flkwerkdai",
      "userId": "13507850890638580947"
     },
     "user_tz": -540
    },
    "id": "SYQtN0qtRxEY",
    "outputId": "6f548fd6-66cc-43f6-fd5f-71447fe9212d"
   },
   "outputs": [
    {
     "name": "stdout",
     "output_type": "stream",
     "text": [
      "4/4 [==============================] - 0s 2ms/step\n"
     ]
    }
   ],
   "source": [
    "total_pred = pd.DataFrame()\n",
    "model1_pred = model1.predict(x_val).reshape(-1)\n",
    "total_pred.loc[:,0] = model1_pred\n",
    "#total_pred"
   ]
  },
  {
   "cell_type": "markdown",
   "metadata": {
    "id": "-nkns2OuSv4i"
   },
   "source": [
    "#### model2 설계"
   ]
  },
  {
   "cell_type": "markdown",
   "metadata": {
    "id": "dLRNW-k3S5Dv"
   },
   "source": [
    "|model|은닉층|각 층에서 은닉노드의 개수|params|\n",
    "|:---:|:---:|:---:|:---:|\n",
    "|model1|2|(2,1)|26 + 3 = 29|\n",
    "|model2|2|(8,1)|104 + 9 = 113|\n",
    "|model3|2|(8,4,1)|104 + 36 + 5 = 145|\n",
    "\n"
   ]
  },
  {
   "cell_type": "code",
   "execution_count": 363,
   "metadata": {
    "colab": {
     "base_uri": "https://localhost:8080/"
    },
    "executionInfo": {
     "elapsed": 5,
     "status": "ok",
     "timestamp": 1696316541932,
     "user": {
      "displayName": "ccc flkwerkdai",
      "userId": "13507850890638580947"
     },
     "user_tz": -540
    },
    "id": "Yl-EwfnoS8Om",
    "outputId": "6ed41ac3-8ff9-4ef2-94ad-e104ec0bbecb"
   },
   "outputs": [
    {
     "name": "stdout",
     "output_type": "stream",
     "text": [
      "Model: \"sequential_1\"\n",
      "_________________________________________________________________\n",
      " Layer (type)                Output Shape              Param #   \n",
      "=================================================================\n",
      " dense_2 (Dense)             (None, 8)                 104       \n",
      "                                                                 \n",
      " dense_3 (Dense)             (None, 1)                 9         \n",
      "                                                                 \n",
      "=================================================================\n",
      "Total params: 113 (452.00 Byte)\n",
      "Trainable params: 113 (452.00 Byte)\n",
      "Non-trainable params: 0 (0.00 Byte)\n",
      "_________________________________________________________________\n"
     ]
    }
   ],
   "source": [
    "model2 = Sequential(Dense(8, input_shape = (nf,), activation = at))\n",
    "\n",
    "model2.add(Dense(1,activation = at))\n",
    "\n",
    "model2.summary()"
   ]
  },
  {
   "cell_type": "markdown",
   "metadata": {
    "id": "2hKkyYsiTTA_"
   },
   "source": [
    "`-` compile & fit"
   ]
  },
  {
   "cell_type": "code",
   "execution_count": 364,
   "metadata": {
    "executionInfo": {
     "elapsed": 3,
     "status": "ok",
     "timestamp": 1696316542462,
     "user": {
      "displayName": "ccc flkwerkdai",
      "userId": "13507850890638580947"
     },
     "user_tz": -540
    },
    "id": "VlTnkYZYTUxB"
   },
   "outputs": [],
   "source": [
    "model2.compile(optimizer = Adam(learning_rate = lr), loss = \"mse\")"
   ]
  },
  {
   "cell_type": "code",
   "execution_count": 365,
   "metadata": {
    "executionInfo": {
     "elapsed": 5002,
     "status": "ok",
     "timestamp": 1696316548235,
     "user": {
      "displayName": "ccc flkwerkdai",
      "userId": "13507850890638580947"
     },
     "user_tz": -540
    },
    "id": "ClNWBJ73TY9-"
   },
   "outputs": [],
   "source": [
    "with tf.device('/device:GPU:0') :\n",
    "     model2.fit(x_train,y_train,epochs = e, validation_split = 0.2, verbose = 0)"
   ]
  },
  {
   "cell_type": "code",
   "execution_count": 366,
   "metadata": {
    "executionInfo": {
     "elapsed": 3,
     "status": "ok",
     "timestamp": 1696316548235,
     "user": {
      "displayName": "ccc flkwerkdai",
      "userId": "13507850890638580947"
     },
     "user_tz": -540
    },
    "id": "wRyQNOOJTmTq"
   },
   "outputs": [],
   "source": [
    "model2_train_loss = model2.history.history[\"loss\"]\n",
    "model2_val_loss = model2.history.history[\"val_loss\"]\n",
    "\n",
    "total_train.loc[:,1] = model2_train_loss\n",
    "total_val.loc[:,1] = model2_val_loss"
   ]
  },
  {
   "cell_type": "code",
   "execution_count": 367,
   "metadata": {
    "colab": {
     "base_uri": "https://localhost:8080/"
    },
    "executionInfo": {
     "elapsed": 801,
     "status": "ok",
     "timestamp": 1696316549034,
     "user": {
      "displayName": "ccc flkwerkdai",
      "userId": "13507850890638580947"
     },
     "user_tz": -540
    },
    "id": "xQNzSY0FTdnJ",
    "outputId": "aec28e43-4696-41ce-aa42-503cf943bbba"
   },
   "outputs": [
    {
     "name": "stdout",
     "output_type": "stream",
     "text": [
      "4/4 [==============================] - 0s 3ms/step\n"
     ]
    }
   ],
   "source": [
    "model2_pred = model2.predict(x_val).reshape(-1)\n",
    "total_pred.loc[:,1] = model2_pred"
   ]
  },
  {
   "cell_type": "markdown",
   "metadata": {
    "id": "rSS42TwUUFgX"
   },
   "source": [
    "#### model3 설계"
   ]
  },
  {
   "cell_type": "markdown",
   "metadata": {
    "id": "YokVhfRGUKOd"
   },
   "source": [
    "|model|은닉층|각 층에서 은닉노드의 개수|params|\n",
    "|:---:|:---:|:---:|:---:|\n",
    "|model1|2|(2,1)|26 + 3 = 29|\n",
    "|model2|2|(8,1)|104 + 9 = 113|\n",
    "|model3|3|(8,4,1)|104 + 36 + 5 = 145|"
   ]
  },
  {
   "cell_type": "code",
   "execution_count": 368,
   "metadata": {
    "colab": {
     "base_uri": "https://localhost:8080/"
    },
    "executionInfo": {
     "elapsed": 3,
     "status": "ok",
     "timestamp": 1696316549750,
     "user": {
      "displayName": "ccc flkwerkdai",
      "userId": "13507850890638580947"
     },
     "user_tz": -540
    },
    "id": "FDleRyMUUNf9",
    "outputId": "ca368983-a052-405e-9958-c41c3fb119e6"
   },
   "outputs": [
    {
     "name": "stdout",
     "output_type": "stream",
     "text": [
      "Model: \"sequential_2\"\n",
      "_________________________________________________________________\n",
      " Layer (type)                Output Shape              Param #   \n",
      "=================================================================\n",
      " dense_4 (Dense)             (None, 8)                 104       \n",
      "                                                                 \n",
      " dense_5 (Dense)             (None, 4)                 36        \n",
      "                                                                 \n",
      " dense_6 (Dense)             (None, 1)                 5         \n",
      "                                                                 \n",
      "=================================================================\n",
      "Total params: 145 (580.00 Byte)\n",
      "Trainable params: 145 (580.00 Byte)\n",
      "Non-trainable params: 0 (0.00 Byte)\n",
      "_________________________________________________________________\n"
     ]
    }
   ],
   "source": [
    "model3 = Sequential(Dense(8, input_shape = (nf,), activation = at))\n",
    "\n",
    "model3.add(Dense(4, activation = at))\n",
    "\n",
    "model3.add(Dense(1, activation = at))\n",
    "model3.summary()"
   ]
  },
  {
   "cell_type": "code",
   "execution_count": 369,
   "metadata": {
    "executionInfo": {
     "elapsed": 1,
     "status": "ok",
     "timestamp": 1696316551188,
     "user": {
      "displayName": "ccc flkwerkdai",
      "userId": "13507850890638580947"
     },
     "user_tz": -540
    },
    "id": "Ka9r6OevU7Zm"
   },
   "outputs": [],
   "source": [
    "model3.compile(optimizer=Adam(learning_rate=lr), loss = \"mse\")"
   ]
  },
  {
   "cell_type": "code",
   "execution_count": 370,
   "metadata": {
    "executionInfo": {
     "elapsed": 5617,
     "status": "ok",
     "timestamp": 1696316557784,
     "user": {
      "displayName": "ccc flkwerkdai",
      "userId": "13507850890638580947"
     },
     "user_tz": -540
    },
    "id": "-TgwtYTNVExI"
   },
   "outputs": [],
   "source": [
    "with tf.device('/device:GPU:0') :\n",
    "     model3.fit(x_train,y_train,epochs = e, validation_split = 0.2, verbose = 0)"
   ]
  },
  {
   "cell_type": "code",
   "execution_count": 371,
   "metadata": {
    "colab": {
     "base_uri": "https://localhost:8080/"
    },
    "executionInfo": {
     "elapsed": 4,
     "status": "ok",
     "timestamp": 1696316557784,
     "user": {
      "displayName": "ccc flkwerkdai",
      "userId": "13507850890638580947"
     },
     "user_tz": -540
    },
    "id": "AEQT46bVVMCE",
    "outputId": "c561206a-8854-439d-e04f-dbfc93e8c53d"
   },
   "outputs": [
    {
     "name": "stdout",
     "output_type": "stream",
     "text": [
      "4/4 [==============================] - 0s 3ms/step\n"
     ]
    }
   ],
   "source": [
    "model3_train_loss = model3.history.history[\"loss\"]\n",
    "model3_val_loss = model3.history.history[\"val_loss\"]\n",
    "\n",
    "total_train.loc[:,2] = model3_train_loss\n",
    "total_val.loc[:,2] = model3_val_loss\n",
    "\n",
    "model3_pred = model3.predict(x_val).reshape(-1)\n",
    "total_pred.loc[:,2] = model3_pred"
   ]
  },
  {
   "cell_type": "markdown",
   "metadata": {
    "id": "H2JP4jKDVW14"
   },
   "source": [
    "`-`결과 시각화"
   ]
  },
  {
   "cell_type": "markdown",
   "metadata": {
    "id": "aEdfrrKzVaPh"
   },
   "source": [
    "|model|은닉층|각 층에서 은닉노드의 개수|params|\n",
    "|:---:|:---:|:---:|:---:|\n",
    "|model1|2|(2,1)|26 + 3 = 29|\n",
    "|model2|2|(8,1)|104 + 9 = 113|\n",
    "|model3|3|(8,4,1)|104 + 36 + 5 = 145|"
   ]
  },
  {
   "cell_type": "code",
   "execution_count": 393,
   "metadata": {
    "executionInfo": {
     "elapsed": 2,
     "status": "ok",
     "timestamp": 1696317048223,
     "user": {
      "displayName": "ccc flkwerkdai",
      "userId": "13507850890638580947"
     },
     "user_tz": -540
    },
    "id": "QkgydCLrVnuZ"
   },
   "outputs": [],
   "source": [
    "total_train.columns = [\"model1\", \"model2\",\"model3\"]\n",
    "total_val.columns = [\"model1\", \"model2\",\"model3\"]\n",
    "total_pred.columns = [\"model1\", \"model2\",\"model3\"]"
   ]
  },
  {
   "cell_type": "markdown",
   "metadata": {
    "id": "u5090lsRY8wF"
   },
   "source": [
    "`-` tidydata 생성"
   ]
  },
  {
   "cell_type": "code",
   "execution_count": 409,
   "metadata": {
    "executionInfo": {
     "elapsed": 1103,
     "status": "ok",
     "timestamp": 1696317376363,
     "user": {
      "displayName": "ccc flkwerkdai",
      "userId": "13507850890638580947"
     },
     "user_tz": -540
    },
    "id": "E2DbWfesVdBV"
   },
   "outputs": [],
   "source": [
    "# | code-fold : true\n",
    "total_train2 = total_train.melt(var_name = \"model\",\n",
    "                 value_name =\"loss\")\n",
    "total_train2[\"label\"] = \"train\"\n",
    "total_train2[\"epochs\"] = list(range(1,51))*3\n",
    "\n",
    "\n",
    "total_val2 = total_val.melt(var_name = \"model\",\n",
    "                 value_name =\"loss\")\n",
    "total_val2[\"label\"] = \"val\"\n",
    "total_val2[\"epochs\"] = list(range(1,51))*3\n",
    "\n",
    "\n",
    "total1 = pd.concat([total_train2, total_val2],axis = 0)"
   ]
  },
  {
   "cell_type": "markdown",
   "metadata": {
    "id": "C9c-8PwNZZ2Q"
   },
   "source": [
    "`-` train, val loss 시각화"
   ]
  },
  {
   "cell_type": "code",
   "execution_count": 422,
   "metadata": {
    "colab": {
     "base_uri": "https://localhost:8080/",
     "height": 437
    },
    "executionInfo": {
     "elapsed": 564,
     "status": "ok",
     "timestamp": 1696317788459,
     "user": {
      "displayName": "ccc flkwerkdai",
      "userId": "13507850890638580947"
     },
     "user_tz": -540
    },
    "id": "X-L4UEMCY-2-",
    "outputId": "15f75d2d-4ad8-4768-b1dc-eb8e70901cf9"
   },
   "outputs": [
    {
     "data": {
      "text/html": [
       "<html>\n",
       "<head><meta charset=\"utf-8\" /></head>\n",
       "<body>\n",
       "    <div>            <script src=\"https://cdnjs.cloudflare.com/ajax/libs/mathjax/2.7.5/MathJax.js?config=TeX-AMS-MML_SVG\"></script><script type=\"text/javascript\">if (window.MathJax && window.MathJax.Hub && window.MathJax.Hub.Config) {window.MathJax.Hub.Config({SVG: {font: \"STIX-Web\"}});}</script>                <script type=\"text/javascript\">window.PlotlyConfig = {MathJaxConfig: 'local'};</script>\n",
       "        <script charset=\"utf-8\" src=\"https://cdn.plot.ly/plotly-2.24.1.min.js\"></script>                <div id=\"5aec7018-358d-4347-8283-24a833bede8c\" class=\"plotly-graph-div\" style=\"height:400px; width:1200px;\"></div>            <script type=\"text/javascript\">                                    window.PLOTLYENV=window.PLOTLYENV || {};                                    if (document.getElementById(\"5aec7018-358d-4347-8283-24a833bede8c\")) {                    Plotly.newPlot(                        \"5aec7018-358d-4347-8283-24a833bede8c\",                        [{\"hovertemplate\":\"label=train\\u003cbr\\u003emodel=model1\\u003cbr\\u003eepochs=%{x}\\u003cbr\\u003eloss=%{y}\\u003cextra\\u003e\\u003c\\u002fextra\\u003e\",\"legendgroup\":\"train\",\"marker\":{\"color\":\"#636efa\",\"opacity\":0.5,\"symbol\":\"circle\"},\"mode\":\"markers\",\"name\":\"train\",\"orientation\":\"v\",\"showlegend\":true,\"x\":[1,2,3,4,5,6,7,8,9,10,11,12,13,14,15,16,17,18,19,20,21,22,23,24,25,26,27,28,29,30,31,32,33,34,35,36,37,38,39,40,41,42,43,44,45,46,47,48,49,50],\"xaxis\":\"x\",\"y\":[588.3671875,564.5887451171875,535.0449829101562,499.7142028808594,457.7481689453125,412.3114318847656,364.2822570800781,316.9623107910156,273.6578369140625,236.1331024169922,206.0424041748047,184.97779846191406,168.77171325683594,159.07167053222656,152.2201690673828,145.8559112548828,140.6610565185547,135.817626953125,131.44015502929688,127.4608383178711,123.51642608642578,119.42896270751953,115.94258117675781,112.06487274169922,108.33552551269531,104.8267593383789,101.44517517089844,98.12740325927734,95.16477966308594,92.4450912475586,89.38923645019531,85.40888214111328,82.1517105102539,77.12019348144531,72.90023040771484,68.59927368164062,64.48526763916016,61.131439208984375,58.62015151977539,56.58134078979492,54.66424560546875,52.7150993347168,50.593109130859375,48.885231018066406,47.273712158203125,45.699249267578125,44.28995132446289,43.329166412353516,42.29775619506836,41.22629165649414],\"yaxis\":\"y\",\"type\":\"scatter\"},{\"hovertemplate\":\"label=train\\u003cbr\\u003emodel=model2\\u003cbr\\u003eepochs=%{x}\\u003cbr\\u003eloss=%{y}\\u003cextra\\u003e\\u003c\\u002fextra\\u003e\",\"legendgroup\":\"train\",\"marker\":{\"color\":\"#636efa\",\"opacity\":0.5,\"symbol\":\"circle\"},\"mode\":\"markers\",\"name\":\"train\",\"orientation\":\"v\",\"showlegend\":false,\"x\":[1,2,3,4,5,6,7,8,9,10,11,12,13,14,15,16,17,18,19,20,21,22,23,24,25,26,27,28,29,30,31,32,33,34,35,36,37,38,39,40,41,42,43,44,45,46,47,48,49,50],\"xaxis\":\"x2\",\"y\":[568.6937255859375,525.255126953125,461.0907897949219,370.0251159667969,276.9706115722656,206.15530395507812,169.4698944091797,153.23275756835938,143.6080322265625,132.70863342285156,124.26922607421875,115.19477081298828,107.60102081298828,100.62480926513672,94.28861999511719,88.2003173828125,83.1274185180664,78.54823303222656,74.83384704589844,71.41387176513672,68.59848022460938,65.87916564941406,64.20378112792969,63.004661560058594,61.21358108520508,59.97818374633789,58.56559753417969,57.60926055908203,56.303314208984375,55.49462890625,54.59100341796875,53.38821792602539,52.450199127197266,51.5242919921875,50.494998931884766,49.740203857421875,48.66935348510742,47.75958251953125,47.18976593017578,46.069271087646484,45.48316192626953,45.01009750366211,43.10610580444336,42.41312789916992,41.68061447143555,40.96101379394531,40.431461334228516,39.50993728637695,38.97520446777344,38.21408462524414],\"yaxis\":\"y2\",\"type\":\"scatter\"},{\"hovertemplate\":\"label=train\\u003cbr\\u003emodel=model3\\u003cbr\\u003eepochs=%{x}\\u003cbr\\u003eloss=%{y}\\u003cextra\\u003e\\u003c\\u002fextra\\u003e\",\"legendgroup\":\"train\",\"marker\":{\"color\":\"#636efa\",\"opacity\":0.5,\"symbol\":\"circle\"},\"mode\":\"markers\",\"name\":\"train\",\"orientation\":\"v\",\"showlegend\":false,\"x\":[1,2,3,4,5,6,7,8,9,10,11,12,13,14,15,16,17,18,19,20,21,22,23,24,25,26,27,28,29,30,31,32,33,34,35,36,37,38,39,40,41,42,43,44,45,46,47,48,49,50],\"xaxis\":\"x3\",\"y\":[528.1237182617188,367.9937744140625,207.1160430908203,151.3037872314453,122.30812072753906,100.86581420898438,82.0274658203125,70.4297866821289,61.795345306396484,57.78582000732422,53.71626663208008,51.00015640258789,48.484230041503906,46.223609924316406,43.885597229003906,41.64697265625,39.818641662597656,38.273834228515625,36.19548034667969,34.1076545715332,33.10211181640625,30.400556564331055,29.30601692199707,28.68189811706543,27.257909774780273,27.077707290649414,27.198572158813477,25.108360290527344,24.43914031982422,25.29930877685547,24.103736877441406,23.761409759521484,23.808372497558594,23.8420467376709,23.455448150634766,22.559131622314453,22.248279571533203,22.455398559570312,21.457077026367188,22.299571990966797,21.260971069335938,20.83519744873047,20.323760986328125,20.462060928344727,19.875259399414062,19.62991714477539,24.13567352294922,19.47357177734375,18.226449966430664,17.68700408935547],\"yaxis\":\"y3\",\"type\":\"scatter\"},{\"hovertemplate\":\"label=val\\u003cbr\\u003emodel=model1\\u003cbr\\u003eepochs=%{x}\\u003cbr\\u003eloss=%{y}\\u003cextra\\u003e\\u003c\\u002fextra\\u003e\",\"legendgroup\":\"val\",\"marker\":{\"color\":\"#EF553B\",\"opacity\":0.5,\"symbol\":\"circle\"},\"mode\":\"markers\",\"name\":\"val\",\"orientation\":\"v\",\"showlegend\":true,\"x\":[1,2,3,4,5,6,7,8,9,10,11,12,13,14,15,16,17,18,19,20,21,22,23,24,25,26,27,28,29,30,31,32,33,34,35,36,37,38,39,40,41,42,43,44,45,46,47,48,49,50],\"xaxis\":\"x\",\"y\":[632.5967407226562,604.491943359375,570.4749145507812,529.7796630859375,483.4343566894531,433.413818359375,382.62481689453125,334.7388000488281,292.56439208984375,257.4813232421875,229.4046630859375,209.4788818359375,195.5582275390625,186.1837615966797,178.7000732421875,171.21888732910156,164.1680908203125,158.13031005859375,152.35406494140625,147.3336181640625,142.34136962890625,137.31729125976562,132.31661987304688,126.9315185546875,122.39741516113281,118.13980865478516,113.76080322265625,109.23855590820312,104.6856689453125,100.92227172851562,96.85335540771484,91.7296371459961,86.4291000366211,80.19831085205078,74.11271667480469,68.21316528320312,62.85672378540039,58.50381088256836,55.792171478271484,53.365455627441406,50.43592834472656,47.21078109741211,44.63618850708008,43.67142105102539,41.78681182861328,40.42890167236328,39.07493209838867,38.282474517822266,36.921165466308594,37.19845199584961],\"yaxis\":\"y\",\"type\":\"scatter\"},{\"hovertemplate\":\"label=val\\u003cbr\\u003emodel=model2\\u003cbr\\u003eepochs=%{x}\\u003cbr\\u003eloss=%{y}\\u003cextra\\u003e\\u003c\\u002fextra\\u003e\",\"legendgroup\":\"val\",\"marker\":{\"color\":\"#EF553B\",\"opacity\":0.5,\"symbol\":\"circle\"},\"mode\":\"markers\",\"name\":\"val\",\"orientation\":\"v\",\"showlegend\":false,\"x\":[1,2,3,4,5,6,7,8,9,10,11,12,13,14,15,16,17,18,19,20,21,22,23,24,25,26,27,28,29,30,31,32,33,34,35,36,37,38,39,40,41,42,43,44,45,46,47,48,49,50],\"xaxis\":\"x2\",\"y\":[601.425048828125,546.0784301757812,458.8454895019531,357.87969970703125,270.44281005859375,212.93321228027344,187.29127502441406,174.21792602539062,161.14663696289062,148.29190063476562,137.2145233154297,126.24430084228516,116.4673843383789,107.99946594238281,99.1494140625,91.21533966064453,84.086669921875,78.0074234008789,72.97051239013672,68.29438018798828,63.82099914550781,61.295013427734375,59.85700607299805,56.56626892089844,54.74696731567383,54.011695861816406,51.40992736816406,49.844852447509766,49.199153900146484,48.58934783935547,47.17330551147461,45.587249755859375,44.2573356628418,43.3407096862793,42.73908615112305,41.34574890136719,41.00569534301758,39.988521575927734,39.940940856933594,37.941253662109375,36.88066482543945,36.109039306640625,35.751182556152344,35.18441390991211,34.57558059692383,34.272117614746094,33.10518264770508,32.18994140625,31.26651382446289,31.269084930419922],\"yaxis\":\"y2\",\"type\":\"scatter\"},{\"hovertemplate\":\"label=val\\u003cbr\\u003emodel=model3\\u003cbr\\u003eepochs=%{x}\\u003cbr\\u003eloss=%{y}\\u003cextra\\u003e\\u003c\\u002fextra\\u003e\",\"legendgroup\":\"val\",\"marker\":{\"color\":\"#EF553B\",\"opacity\":0.5,\"symbol\":\"circle\"},\"mode\":\"markers\",\"name\":\"val\",\"orientation\":\"v\",\"showlegend\":false,\"x\":[1,2,3,4,5,6,7,8,9,10,11,12,13,14,15,16,17,18,19,20,21,22,23,24,25,26,27,28,29,30,31,32,33,34,35,36,37,38,39,40,41,42,43,44,45,46,47,48,49,50],\"xaxis\":\"x3\",\"y\":[496.4258728027344,303.5113830566406,187.9069061279297,158.30718994140625,125.67039489746094,96.04783630371094,75.47361755371094,60.39219665527344,53.820045471191406,45.852386474609375,42.374149322509766,40.36226272583008,37.12623596191406,34.863197326660156,33.51593780517578,30.171600341796875,27.97578239440918,27.972002029418945,23.656309127807617,22.142391204833984,21.18473243713379,18.426424026489258,18.074064254760742,16.353992462158203,15.047327041625977,17.136146545410156,14.28102970123291,13.868989944458008,15.503846168518066,13.047779083251953,12.561248779296875,12.034578323364258,12.167716026306152,12.443278312683105,12.161230087280273,13.448431015014648,11.61343002319336,12.142644882202148,11.203574180603027,12.668275833129883,10.947221755981445,12.5856351852417,10.591748237609863,12.052739143371582,11.113462448120117,10.803330421447754,15.226274490356445,10.51226806640625,11.124387741088867,10.630871772766113],\"yaxis\":\"y3\",\"type\":\"scatter\"}],                        {\"template\":{\"data\":{\"histogram2dcontour\":[{\"type\":\"histogram2dcontour\",\"colorbar\":{\"outlinewidth\":0,\"ticks\":\"\"},\"colorscale\":[[0.0,\"#0d0887\"],[0.1111111111111111,\"#46039f\"],[0.2222222222222222,\"#7201a8\"],[0.3333333333333333,\"#9c179e\"],[0.4444444444444444,\"#bd3786\"],[0.5555555555555556,\"#d8576b\"],[0.6666666666666666,\"#ed7953\"],[0.7777777777777778,\"#fb9f3a\"],[0.8888888888888888,\"#fdca26\"],[1.0,\"#f0f921\"]]}],\"choropleth\":[{\"type\":\"choropleth\",\"colorbar\":{\"outlinewidth\":0,\"ticks\":\"\"}}],\"histogram2d\":[{\"type\":\"histogram2d\",\"colorbar\":{\"outlinewidth\":0,\"ticks\":\"\"},\"colorscale\":[[0.0,\"#0d0887\"],[0.1111111111111111,\"#46039f\"],[0.2222222222222222,\"#7201a8\"],[0.3333333333333333,\"#9c179e\"],[0.4444444444444444,\"#bd3786\"],[0.5555555555555556,\"#d8576b\"],[0.6666666666666666,\"#ed7953\"],[0.7777777777777778,\"#fb9f3a\"],[0.8888888888888888,\"#fdca26\"],[1.0,\"#f0f921\"]]}],\"heatmap\":[{\"type\":\"heatmap\",\"colorbar\":{\"outlinewidth\":0,\"ticks\":\"\"},\"colorscale\":[[0.0,\"#0d0887\"],[0.1111111111111111,\"#46039f\"],[0.2222222222222222,\"#7201a8\"],[0.3333333333333333,\"#9c179e\"],[0.4444444444444444,\"#bd3786\"],[0.5555555555555556,\"#d8576b\"],[0.6666666666666666,\"#ed7953\"],[0.7777777777777778,\"#fb9f3a\"],[0.8888888888888888,\"#fdca26\"],[1.0,\"#f0f921\"]]}],\"heatmapgl\":[{\"type\":\"heatmapgl\",\"colorbar\":{\"outlinewidth\":0,\"ticks\":\"\"},\"colorscale\":[[0.0,\"#0d0887\"],[0.1111111111111111,\"#46039f\"],[0.2222222222222222,\"#7201a8\"],[0.3333333333333333,\"#9c179e\"],[0.4444444444444444,\"#bd3786\"],[0.5555555555555556,\"#d8576b\"],[0.6666666666666666,\"#ed7953\"],[0.7777777777777778,\"#fb9f3a\"],[0.8888888888888888,\"#fdca26\"],[1.0,\"#f0f921\"]]}],\"contourcarpet\":[{\"type\":\"contourcarpet\",\"colorbar\":{\"outlinewidth\":0,\"ticks\":\"\"}}],\"contour\":[{\"type\":\"contour\",\"colorbar\":{\"outlinewidth\":0,\"ticks\":\"\"},\"colorscale\":[[0.0,\"#0d0887\"],[0.1111111111111111,\"#46039f\"],[0.2222222222222222,\"#7201a8\"],[0.3333333333333333,\"#9c179e\"],[0.4444444444444444,\"#bd3786\"],[0.5555555555555556,\"#d8576b\"],[0.6666666666666666,\"#ed7953\"],[0.7777777777777778,\"#fb9f3a\"],[0.8888888888888888,\"#fdca26\"],[1.0,\"#f0f921\"]]}],\"surface\":[{\"type\":\"surface\",\"colorbar\":{\"outlinewidth\":0,\"ticks\":\"\"},\"colorscale\":[[0.0,\"#0d0887\"],[0.1111111111111111,\"#46039f\"],[0.2222222222222222,\"#7201a8\"],[0.3333333333333333,\"#9c179e\"],[0.4444444444444444,\"#bd3786\"],[0.5555555555555556,\"#d8576b\"],[0.6666666666666666,\"#ed7953\"],[0.7777777777777778,\"#fb9f3a\"],[0.8888888888888888,\"#fdca26\"],[1.0,\"#f0f921\"]]}],\"mesh3d\":[{\"type\":\"mesh3d\",\"colorbar\":{\"outlinewidth\":0,\"ticks\":\"\"}}],\"scatter\":[{\"fillpattern\":{\"fillmode\":\"overlay\",\"size\":10,\"solidity\":0.2},\"type\":\"scatter\"}],\"parcoords\":[{\"type\":\"parcoords\",\"line\":{\"colorbar\":{\"outlinewidth\":0,\"ticks\":\"\"}}}],\"scatterpolargl\":[{\"type\":\"scatterpolargl\",\"marker\":{\"colorbar\":{\"outlinewidth\":0,\"ticks\":\"\"}}}],\"bar\":[{\"error_x\":{\"color\":\"#2a3f5f\"},\"error_y\":{\"color\":\"#2a3f5f\"},\"marker\":{\"line\":{\"color\":\"#E5ECF6\",\"width\":0.5},\"pattern\":{\"fillmode\":\"overlay\",\"size\":10,\"solidity\":0.2}},\"type\":\"bar\"}],\"scattergeo\":[{\"type\":\"scattergeo\",\"marker\":{\"colorbar\":{\"outlinewidth\":0,\"ticks\":\"\"}}}],\"scatterpolar\":[{\"type\":\"scatterpolar\",\"marker\":{\"colorbar\":{\"outlinewidth\":0,\"ticks\":\"\"}}}],\"histogram\":[{\"marker\":{\"pattern\":{\"fillmode\":\"overlay\",\"size\":10,\"solidity\":0.2}},\"type\":\"histogram\"}],\"scattergl\":[{\"type\":\"scattergl\",\"marker\":{\"colorbar\":{\"outlinewidth\":0,\"ticks\":\"\"}}}],\"scatter3d\":[{\"type\":\"scatter3d\",\"line\":{\"colorbar\":{\"outlinewidth\":0,\"ticks\":\"\"}},\"marker\":{\"colorbar\":{\"outlinewidth\":0,\"ticks\":\"\"}}}],\"scattermapbox\":[{\"type\":\"scattermapbox\",\"marker\":{\"colorbar\":{\"outlinewidth\":0,\"ticks\":\"\"}}}],\"scatterternary\":[{\"type\":\"scatterternary\",\"marker\":{\"colorbar\":{\"outlinewidth\":0,\"ticks\":\"\"}}}],\"scattercarpet\":[{\"type\":\"scattercarpet\",\"marker\":{\"colorbar\":{\"outlinewidth\":0,\"ticks\":\"\"}}}],\"carpet\":[{\"aaxis\":{\"endlinecolor\":\"#2a3f5f\",\"gridcolor\":\"white\",\"linecolor\":\"white\",\"minorgridcolor\":\"white\",\"startlinecolor\":\"#2a3f5f\"},\"baxis\":{\"endlinecolor\":\"#2a3f5f\",\"gridcolor\":\"white\",\"linecolor\":\"white\",\"minorgridcolor\":\"white\",\"startlinecolor\":\"#2a3f5f\"},\"type\":\"carpet\"}],\"table\":[{\"cells\":{\"fill\":{\"color\":\"#EBF0F8\"},\"line\":{\"color\":\"white\"}},\"header\":{\"fill\":{\"color\":\"#C8D4E3\"},\"line\":{\"color\":\"white\"}},\"type\":\"table\"}],\"barpolar\":[{\"marker\":{\"line\":{\"color\":\"#E5ECF6\",\"width\":0.5},\"pattern\":{\"fillmode\":\"overlay\",\"size\":10,\"solidity\":0.2}},\"type\":\"barpolar\"}],\"pie\":[{\"automargin\":true,\"type\":\"pie\"}]},\"layout\":{\"autotypenumbers\":\"strict\",\"colorway\":[\"#636efa\",\"#EF553B\",\"#00cc96\",\"#ab63fa\",\"#FFA15A\",\"#19d3f3\",\"#FF6692\",\"#B6E880\",\"#FF97FF\",\"#FECB52\"],\"font\":{\"color\":\"#2a3f5f\"},\"hovermode\":\"closest\",\"hoverlabel\":{\"align\":\"left\"},\"paper_bgcolor\":\"white\",\"plot_bgcolor\":\"#E5ECF6\",\"polar\":{\"bgcolor\":\"#E5ECF6\",\"angularaxis\":{\"gridcolor\":\"white\",\"linecolor\":\"white\",\"ticks\":\"\"},\"radialaxis\":{\"gridcolor\":\"white\",\"linecolor\":\"white\",\"ticks\":\"\"}},\"ternary\":{\"bgcolor\":\"#E5ECF6\",\"aaxis\":{\"gridcolor\":\"white\",\"linecolor\":\"white\",\"ticks\":\"\"},\"baxis\":{\"gridcolor\":\"white\",\"linecolor\":\"white\",\"ticks\":\"\"},\"caxis\":{\"gridcolor\":\"white\",\"linecolor\":\"white\",\"ticks\":\"\"}},\"coloraxis\":{\"colorbar\":{\"outlinewidth\":0,\"ticks\":\"\"}},\"colorscale\":{\"sequential\":[[0.0,\"#0d0887\"],[0.1111111111111111,\"#46039f\"],[0.2222222222222222,\"#7201a8\"],[0.3333333333333333,\"#9c179e\"],[0.4444444444444444,\"#bd3786\"],[0.5555555555555556,\"#d8576b\"],[0.6666666666666666,\"#ed7953\"],[0.7777777777777778,\"#fb9f3a\"],[0.8888888888888888,\"#fdca26\"],[1.0,\"#f0f921\"]],\"sequentialminus\":[[0.0,\"#0d0887\"],[0.1111111111111111,\"#46039f\"],[0.2222222222222222,\"#7201a8\"],[0.3333333333333333,\"#9c179e\"],[0.4444444444444444,\"#bd3786\"],[0.5555555555555556,\"#d8576b\"],[0.6666666666666666,\"#ed7953\"],[0.7777777777777778,\"#fb9f3a\"],[0.8888888888888888,\"#fdca26\"],[1.0,\"#f0f921\"]],\"diverging\":[[0,\"#8e0152\"],[0.1,\"#c51b7d\"],[0.2,\"#de77ae\"],[0.3,\"#f1b6da\"],[0.4,\"#fde0ef\"],[0.5,\"#f7f7f7\"],[0.6,\"#e6f5d0\"],[0.7,\"#b8e186\"],[0.8,\"#7fbc41\"],[0.9,\"#4d9221\"],[1,\"#276419\"]]},\"xaxis\":{\"gridcolor\":\"white\",\"linecolor\":\"white\",\"ticks\":\"\",\"title\":{\"standoff\":15},\"zerolinecolor\":\"white\",\"automargin\":true,\"zerolinewidth\":2},\"yaxis\":{\"gridcolor\":\"white\",\"linecolor\":\"white\",\"ticks\":\"\",\"title\":{\"standoff\":15},\"zerolinecolor\":\"white\",\"automargin\":true,\"zerolinewidth\":2},\"scene\":{\"xaxis\":{\"backgroundcolor\":\"#E5ECF6\",\"gridcolor\":\"white\",\"linecolor\":\"white\",\"showbackground\":true,\"ticks\":\"\",\"zerolinecolor\":\"white\",\"gridwidth\":2},\"yaxis\":{\"backgroundcolor\":\"#E5ECF6\",\"gridcolor\":\"white\",\"linecolor\":\"white\",\"showbackground\":true,\"ticks\":\"\",\"zerolinecolor\":\"white\",\"gridwidth\":2},\"zaxis\":{\"backgroundcolor\":\"#E5ECF6\",\"gridcolor\":\"white\",\"linecolor\":\"white\",\"showbackground\":true,\"ticks\":\"\",\"zerolinecolor\":\"white\",\"gridwidth\":2}},\"shapedefaults\":{\"line\":{\"color\":\"#2a3f5f\"}},\"annotationdefaults\":{\"arrowcolor\":\"#2a3f5f\",\"arrowhead\":0,\"arrowwidth\":1},\"geo\":{\"bgcolor\":\"white\",\"landcolor\":\"#E5ECF6\",\"subunitcolor\":\"white\",\"showland\":true,\"showlakes\":true,\"lakecolor\":\"white\"},\"title\":{\"x\":0.05},\"mapbox\":{\"style\":\"light\"}}},\"xaxis\":{\"anchor\":\"y\",\"domain\":[0.0,0.31999999999999995],\"title\":{\"text\":\"epochs\"}},\"yaxis\":{\"anchor\":\"x\",\"domain\":[0.0,1.0],\"title\":{\"text\":\"loss\"}},\"xaxis2\":{\"anchor\":\"y2\",\"domain\":[0.33999999999999997,0.6599999999999999],\"matches\":\"x\",\"title\":{\"text\":\"epochs\"}},\"yaxis2\":{\"anchor\":\"x2\",\"domain\":[0.0,1.0],\"matches\":\"y\",\"showticklabels\":false},\"xaxis3\":{\"anchor\":\"y3\",\"domain\":[0.6799999999999999,0.9999999999999999],\"matches\":\"x\",\"title\":{\"text\":\"epochs\"}},\"yaxis3\":{\"anchor\":\"x3\",\"domain\":[0.0,1.0],\"matches\":\"y\",\"showticklabels\":false},\"annotations\":[{\"font\":{},\"showarrow\":false,\"text\":\"model=model1\",\"x\":0.15999999999999998,\"xanchor\":\"center\",\"xref\":\"paper\",\"y\":1.0,\"yanchor\":\"bottom\",\"yref\":\"paper\"},{\"font\":{},\"showarrow\":false,\"text\":\"model=model2\",\"x\":0.49999999999999994,\"xanchor\":\"center\",\"xref\":\"paper\",\"y\":1.0,\"yanchor\":\"bottom\",\"yref\":\"paper\"},{\"font\":{},\"showarrow\":false,\"text\":\"model=model3\",\"x\":0.8399999999999999,\"xanchor\":\"center\",\"xref\":\"paper\",\"y\":1.0,\"yanchor\":\"bottom\",\"yref\":\"paper\"}],\"legend\":{\"title\":{\"text\":\"label\"},\"tracegroupgap\":0},\"margin\":{\"t\":60},\"height\":400,\"width\":1200},                        {\"responsive\": true}                    ).then(function(){\n",
       "                            \n",
       "var gd = document.getElementById('5aec7018-358d-4347-8283-24a833bede8c');\n",
       "var x = new MutationObserver(function (mutations, observer) {{\n",
       "        var display = window.getComputedStyle(gd).display;\n",
       "        if (!display || display === 'none') {{\n",
       "            console.log([gd, 'removed!']);\n",
       "            Plotly.purge(gd);\n",
       "            observer.disconnect();\n",
       "        }}\n",
       "}});\n",
       "\n",
       "// Listen for the removal of the full notebook cells\n",
       "var notebookContainer = gd.closest('#notebook-container');\n",
       "if (notebookContainer) {{\n",
       "    x.observe(notebookContainer, {childList: true});\n",
       "}}\n",
       "\n",
       "// Listen for the clearing of the current output cell\n",
       "var outputEl = gd.closest('.output');\n",
       "if (outputEl) {{\n",
       "    x.observe(outputEl, {childList: true});\n",
       "}}\n",
       "\n",
       "                        })                };                            </script>        </div>\n",
       "</body>\n",
       "</html>"
      ]
     },
     "metadata": {},
     "output_type": "display_data"
    }
   ],
   "source": [
    "fig = total1.plot(x= \"epochs\", y = \"loss\",\n",
    "            color = \"label\", facet_col = \"model\",kind = \"scatter\",\n",
    "            backend = \"plotly\", width = 1200, height = 400, opacity=0.5)\n",
    "fig.show()"
   ]
  },
  {
   "cell_type": "markdown",
   "metadata": {
    "id": "OjAGtzHLctqe"
   },
   "source": [
    "`-` train, val loss만 보면 `model2`가 가장 잘 적합된 모델인 것 같다."
   ]
  },
  {
   "cell_type": "markdown",
   "metadata": {
    "id": "zwSq88dzaqzT"
   },
   "source": [
    "`-` test data 예측결과 시각화"
   ]
  },
  {
   "cell_type": "code",
   "execution_count": 434,
   "metadata": {
    "executionInfo": {
     "elapsed": 2,
     "status": "ok",
     "timestamp": 1696318092694,
     "user": {
      "displayName": "ccc flkwerkdai",
      "userId": "13507850890638580947"
     },
     "user_tz": -540
    },
    "id": "Ha_Z-AwTb-bt"
   },
   "outputs": [],
   "source": [
    "total_pred[\"y_true\"] = y_val.reset_index(drop=True)"
   ]
  },
  {
   "cell_type": "code",
   "execution_count": 445,
   "metadata": {
    "colab": {
     "base_uri": "https://localhost:8080/",
     "height": 427
    },
    "executionInfo": {
     "elapsed": 1304,
     "status": "ok",
     "timestamp": 1696318281534,
     "user": {
      "displayName": "ccc flkwerkdai",
      "userId": "13507850890638580947"
     },
     "user_tz": -540
    },
    "id": "-bqte4nBa8nK",
    "outputId": "ed895ad1-0310-430a-c599-0ac790b5333e"
   },
   "outputs": [
    {
     "data": {
      "image/png": "[encoded data removed]",
      "text/plain": [
       "<Figure size 1200x400 with 3 Axes>"
      ]
     },
     "metadata": {},
     "output_type": "display_data"
    }
   ],
   "source": [
    "# | code-fold : true\n",
    "fig, axes = plt.subplots(1,3,figsize = (12,4))\n",
    "\n",
    "ax1, ax2, ax3 = axes\n",
    "ax1.plot(total_pred[\"y_true\"], label =  r\"$y_{true}$\", alpha = 0.5)\n",
    "ax1.plot(total_pred[\"model1\"],\"--g\", label =  r\"$y_{model1}$\")\n",
    "ax1.legend()\n",
    "\n",
    "ax2.plot(total_pred[\"y_true\"], label =  r\"$y_{true}$\", alpha = 0.5)\n",
    "ax2.plot(total_pred[\"model2\"],\"--r\", label =  r\"$y_{model2}$\")\n",
    "ax2.legend()\n",
    "\n",
    "ax3.plot(total_pred[\"y_true\"], label =  r\"$y_{true}$\", alpha = 0.5)\n",
    "ax3.plot(total_pred[\"model3\"],\"--b\", label =  r\"$y_{model3}$\")\n",
    "ax3.legend()\n",
    "\n",
    "fig.tight_layout()"
   ]
  },
  {
   "cell_type": "markdown",
   "metadata": {
    "id": "v2cpgQ_Bc1pI"
   },
   "source": [
    "`-` test data에 대한 예측결과 `model3`가 가장 잘 예측하고 있는것 같다."
   ]
  },
  {
   "cell_type": "markdown",
   "metadata": {
    "id": "u2oWFQhNc92T"
   },
   "source": [
    "* 근데 이것을 수치적으로 확인하기 위해 `MAE` 수치만 비교해보자."
   ]
  },
  {
   "cell_type": "code",
   "execution_count": 449,
   "metadata": {
    "colab": {
     "base_uri": "https://localhost:8080/",
     "height": 417
    },
    "executionInfo": {
     "elapsed": 757,
     "status": "ok",
     "timestamp": 1696318650613,
     "user": {
      "displayName": "ccc flkwerkdai",
      "userId": "13507850890638580947"
     },
     "user_tz": -540
    },
    "id": "8pZZ2MildGpd",
    "outputId": "57889995-b007-40ec-b69c-c836e3d0dafc"
   },
   "outputs": [
    {
     "data": {
      "text/html": [
       "<html>\n",
       "<head><meta charset=\"utf-8\" /></head>\n",
       "<body>\n",
       "    <div>            <script src=\"https://cdnjs.cloudflare.com/ajax/libs/mathjax/2.7.5/MathJax.js?config=TeX-AMS-MML_SVG\"></script><script type=\"text/javascript\">if (window.MathJax && window.MathJax.Hub && window.MathJax.Hub.Config) {window.MathJax.Hub.Config({SVG: {font: \"STIX-Web\"}});}</script>                <script type=\"text/javascript\">window.PlotlyConfig = {MathJaxConfig: 'local'};</script>\n",
       "        <script charset=\"utf-8\" src=\"https://cdn.plot.ly/plotly-2.24.1.min.js\"></script>                <div id=\"a5de88ba-2e31-4744-95da-c996a064a022\" class=\"plotly-graph-div\" style=\"height:400px; width:400px;\"></div>            <script type=\"text/javascript\">                                    window.PLOTLYENV=window.PLOTLYENV || {};                                    if (document.getElementById(\"a5de88ba-2e31-4744-95da-c996a064a022\")) {                    Plotly.newPlot(                        \"a5de88ba-2e31-4744-95da-c996a064a022\",                        [{\"alignmentgroup\":\"True\",\"hovertemplate\":\"model=%{x}\\u003cbr\\u003emae=%{y}\\u003cextra\\u003e\\u003c\\u002fextra\\u003e\",\"legendgroup\":\"model1\",\"marker\":{\"color\":\"#636efa\",\"pattern\":{\"shape\":\"\"}},\"name\":\"model1\",\"offsetgroup\":\"model1\",\"orientation\":\"v\",\"showlegend\":true,\"textposition\":\"auto\",\"x\":[\"model1\"],\"xaxis\":\"x\",\"y\":[4.155901571348602],\"yaxis\":\"y\",\"type\":\"bar\"},{\"alignmentgroup\":\"True\",\"hovertemplate\":\"model=%{x}\\u003cbr\\u003emae=%{y}\\u003cextra\\u003e\\u003c\\u002fextra\\u003e\",\"legendgroup\":\"model2\",\"marker\":{\"color\":\"#EF553B\",\"pattern\":{\"shape\":\"\"}},\"name\":\"model2\",\"offsetgroup\":\"model2\",\"orientation\":\"v\",\"showlegend\":true,\"textposition\":\"auto\",\"x\":[\"model2\"],\"xaxis\":\"x\",\"y\":[4.15302646487367],\"yaxis\":\"y\",\"type\":\"bar\"},{\"alignmentgroup\":\"True\",\"hovertemplate\":\"model=%{x}\\u003cbr\\u003emae=%{y}\\u003cextra\\u003e\\u003c\\u002fextra\\u003e\",\"legendgroup\":\"model3\",\"marker\":{\"color\":\"#00cc96\",\"pattern\":{\"shape\":\"\"}},\"name\":\"model3\",\"offsetgroup\":\"model3\",\"orientation\":\"v\",\"showlegend\":true,\"textposition\":\"auto\",\"x\":[\"model3\"],\"xaxis\":\"x\",\"y\":[3.083148829142253],\"yaxis\":\"y\",\"type\":\"bar\"}],                        {\"template\":{\"data\":{\"histogram2dcontour\":[{\"type\":\"histogram2dcontour\",\"colorbar\":{\"outlinewidth\":0,\"ticks\":\"\"},\"colorscale\":[[0.0,\"#0d0887\"],[0.1111111111111111,\"#46039f\"],[0.2222222222222222,\"#7201a8\"],[0.3333333333333333,\"#9c179e\"],[0.4444444444444444,\"#bd3786\"],[0.5555555555555556,\"#d8576b\"],[0.6666666666666666,\"#ed7953\"],[0.7777777777777778,\"#fb9f3a\"],[0.8888888888888888,\"#fdca26\"],[1.0,\"#f0f921\"]]}],\"choropleth\":[{\"type\":\"choropleth\",\"colorbar\":{\"outlinewidth\":0,\"ticks\":\"\"}}],\"histogram2d\":[{\"type\":\"histogram2d\",\"colorbar\":{\"outlinewidth\":0,\"ticks\":\"\"},\"colorscale\":[[0.0,\"#0d0887\"],[0.1111111111111111,\"#46039f\"],[0.2222222222222222,\"#7201a8\"],[0.3333333333333333,\"#9c179e\"],[0.4444444444444444,\"#bd3786\"],[0.5555555555555556,\"#d8576b\"],[0.6666666666666666,\"#ed7953\"],[0.7777777777777778,\"#fb9f3a\"],[0.8888888888888888,\"#fdca26\"],[1.0,\"#f0f921\"]]}],\"heatmap\":[{\"type\":\"heatmap\",\"colorbar\":{\"outlinewidth\":0,\"ticks\":\"\"},\"colorscale\":[[0.0,\"#0d0887\"],[0.1111111111111111,\"#46039f\"],[0.2222222222222222,\"#7201a8\"],[0.3333333333333333,\"#9c179e\"],[0.4444444444444444,\"#bd3786\"],[0.5555555555555556,\"#d8576b\"],[0.6666666666666666,\"#ed7953\"],[0.7777777777777778,\"#fb9f3a\"],[0.8888888888888888,\"#fdca26\"],[1.0,\"#f0f921\"]]}],\"heatmapgl\":[{\"type\":\"heatmapgl\",\"colorbar\":{\"outlinewidth\":0,\"ticks\":\"\"},\"colorscale\":[[0.0,\"#0d0887\"],[0.1111111111111111,\"#46039f\"],[0.2222222222222222,\"#7201a8\"],[0.3333333333333333,\"#9c179e\"],[0.4444444444444444,\"#bd3786\"],[0.5555555555555556,\"#d8576b\"],[0.6666666666666666,\"#ed7953\"],[0.7777777777777778,\"#fb9f3a\"],[0.8888888888888888,\"#fdca26\"],[1.0,\"#f0f921\"]]}],\"contourcarpet\":[{\"type\":\"contourcarpet\",\"colorbar\":{\"outlinewidth\":0,\"ticks\":\"\"}}],\"contour\":[{\"type\":\"contour\",\"colorbar\":{\"outlinewidth\":0,\"ticks\":\"\"},\"colorscale\":[[0.0,\"#0d0887\"],[0.1111111111111111,\"#46039f\"],[0.2222222222222222,\"#7201a8\"],[0.3333333333333333,\"#9c179e\"],[0.4444444444444444,\"#bd3786\"],[0.5555555555555556,\"#d8576b\"],[0.6666666666666666,\"#ed7953\"],[0.7777777777777778,\"#fb9f3a\"],[0.8888888888888888,\"#fdca26\"],[1.0,\"#f0f921\"]]}],\"surface\":[{\"type\":\"surface\",\"colorbar\":{\"outlinewidth\":0,\"ticks\":\"\"},\"colorscale\":[[0.0,\"#0d0887\"],[0.1111111111111111,\"#46039f\"],[0.2222222222222222,\"#7201a8\"],[0.3333333333333333,\"#9c179e\"],[0.4444444444444444,\"#bd3786\"],[0.5555555555555556,\"#d8576b\"],[0.6666666666666666,\"#ed7953\"],[0.7777777777777778,\"#fb9f3a\"],[0.8888888888888888,\"#fdca26\"],[1.0,\"#f0f921\"]]}],\"mesh3d\":[{\"type\":\"mesh3d\",\"colorbar\":{\"outlinewidth\":0,\"ticks\":\"\"}}],\"scatter\":[{\"fillpattern\":{\"fillmode\":\"overlay\",\"size\":10,\"solidity\":0.2},\"type\":\"scatter\"}],\"parcoords\":[{\"type\":\"parcoords\",\"line\":{\"colorbar\":{\"outlinewidth\":0,\"ticks\":\"\"}}}],\"scatterpolargl\":[{\"type\":\"scatterpolargl\",\"marker\":{\"colorbar\":{\"outlinewidth\":0,\"ticks\":\"\"}}}],\"bar\":[{\"error_x\":{\"color\":\"#2a3f5f\"},\"error_y\":{\"color\":\"#2a3f5f\"},\"marker\":{\"line\":{\"color\":\"#E5ECF6\",\"width\":0.5},\"pattern\":{\"fillmode\":\"overlay\",\"size\":10,\"solidity\":0.2}},\"type\":\"bar\"}],\"scattergeo\":[{\"type\":\"scattergeo\",\"marker\":{\"colorbar\":{\"outlinewidth\":0,\"ticks\":\"\"}}}],\"scatterpolar\":[{\"type\":\"scatterpolar\",\"marker\":{\"colorbar\":{\"outlinewidth\":0,\"ticks\":\"\"}}}],\"histogram\":[{\"marker\":{\"pattern\":{\"fillmode\":\"overlay\",\"size\":10,\"solidity\":0.2}},\"type\":\"histogram\"}],\"scattergl\":[{\"type\":\"scattergl\",\"marker\":{\"colorbar\":{\"outlinewidth\":0,\"ticks\":\"\"}}}],\"scatter3d\":[{\"type\":\"scatter3d\",\"line\":{\"colorbar\":{\"outlinewidth\":0,\"ticks\":\"\"}},\"marker\":{\"colorbar\":{\"outlinewidth\":0,\"ticks\":\"\"}}}],\"scattermapbox\":[{\"type\":\"scattermapbox\",\"marker\":{\"colorbar\":{\"outlinewidth\":0,\"ticks\":\"\"}}}],\"scatterternary\":[{\"type\":\"scatterternary\",\"marker\":{\"colorbar\":{\"outlinewidth\":0,\"ticks\":\"\"}}}],\"scattercarpet\":[{\"type\":\"scattercarpet\",\"marker\":{\"colorbar\":{\"outlinewidth\":0,\"ticks\":\"\"}}}],\"carpet\":[{\"aaxis\":{\"endlinecolor\":\"#2a3f5f\",\"gridcolor\":\"white\",\"linecolor\":\"white\",\"minorgridcolor\":\"white\",\"startlinecolor\":\"#2a3f5f\"},\"baxis\":{\"endlinecolor\":\"#2a3f5f\",\"gridcolor\":\"white\",\"linecolor\":\"white\",\"minorgridcolor\":\"white\",\"startlinecolor\":\"#2a3f5f\"},\"type\":\"carpet\"}],\"table\":[{\"cells\":{\"fill\":{\"color\":\"#EBF0F8\"},\"line\":{\"color\":\"white\"}},\"header\":{\"fill\":{\"color\":\"#C8D4E3\"},\"line\":{\"color\":\"white\"}},\"type\":\"table\"}],\"barpolar\":[{\"marker\":{\"line\":{\"color\":\"#E5ECF6\",\"width\":0.5},\"pattern\":{\"fillmode\":\"overlay\",\"size\":10,\"solidity\":0.2}},\"type\":\"barpolar\"}],\"pie\":[{\"automargin\":true,\"type\":\"pie\"}]},\"layout\":{\"autotypenumbers\":\"strict\",\"colorway\":[\"#636efa\",\"#EF553B\",\"#00cc96\",\"#ab63fa\",\"#FFA15A\",\"#19d3f3\",\"#FF6692\",\"#B6E880\",\"#FF97FF\",\"#FECB52\"],\"font\":{\"color\":\"#2a3f5f\"},\"hovermode\":\"closest\",\"hoverlabel\":{\"align\":\"left\"},\"paper_bgcolor\":\"white\",\"plot_bgcolor\":\"#E5ECF6\",\"polar\":{\"bgcolor\":\"#E5ECF6\",\"angularaxis\":{\"gridcolor\":\"white\",\"linecolor\":\"white\",\"ticks\":\"\"},\"radialaxis\":{\"gridcolor\":\"white\",\"linecolor\":\"white\",\"ticks\":\"\"}},\"ternary\":{\"bgcolor\":\"#E5ECF6\",\"aaxis\":{\"gridcolor\":\"white\",\"linecolor\":\"white\",\"ticks\":\"\"},\"baxis\":{\"gridcolor\":\"white\",\"linecolor\":\"white\",\"ticks\":\"\"},\"caxis\":{\"gridcolor\":\"white\",\"linecolor\":\"white\",\"ticks\":\"\"}},\"coloraxis\":{\"colorbar\":{\"outlinewidth\":0,\"ticks\":\"\"}},\"colorscale\":{\"sequential\":[[0.0,\"#0d0887\"],[0.1111111111111111,\"#46039f\"],[0.2222222222222222,\"#7201a8\"],[0.3333333333333333,\"#9c179e\"],[0.4444444444444444,\"#bd3786\"],[0.5555555555555556,\"#d8576b\"],[0.6666666666666666,\"#ed7953\"],[0.7777777777777778,\"#fb9f3a\"],[0.8888888888888888,\"#fdca26\"],[1.0,\"#f0f921\"]],\"sequentialminus\":[[0.0,\"#0d0887\"],[0.1111111111111111,\"#46039f\"],[0.2222222222222222,\"#7201a8\"],[0.3333333333333333,\"#9c179e\"],[0.4444444444444444,\"#bd3786\"],[0.5555555555555556,\"#d8576b\"],[0.6666666666666666,\"#ed7953\"],[0.7777777777777778,\"#fb9f3a\"],[0.8888888888888888,\"#fdca26\"],[1.0,\"#f0f921\"]],\"diverging\":[[0,\"#8e0152\"],[0.1,\"#c51b7d\"],[0.2,\"#de77ae\"],[0.3,\"#f1b6da\"],[0.4,\"#fde0ef\"],[0.5,\"#f7f7f7\"],[0.6,\"#e6f5d0\"],[0.7,\"#b8e186\"],[0.8,\"#7fbc41\"],[0.9,\"#4d9221\"],[1,\"#276419\"]]},\"xaxis\":{\"gridcolor\":\"white\",\"linecolor\":\"white\",\"ticks\":\"\",\"title\":{\"standoff\":15},\"zerolinecolor\":\"white\",\"automargin\":true,\"zerolinewidth\":2},\"yaxis\":{\"gridcolor\":\"white\",\"linecolor\":\"white\",\"ticks\":\"\",\"title\":{\"standoff\":15},\"zerolinecolor\":\"white\",\"automargin\":true,\"zerolinewidth\":2},\"scene\":{\"xaxis\":{\"backgroundcolor\":\"#E5ECF6\",\"gridcolor\":\"white\",\"linecolor\":\"white\",\"showbackground\":true,\"ticks\":\"\",\"zerolinecolor\":\"white\",\"gridwidth\":2},\"yaxis\":{\"backgroundcolor\":\"#E5ECF6\",\"gridcolor\":\"white\",\"linecolor\":\"white\",\"showbackground\":true,\"ticks\":\"\",\"zerolinecolor\":\"white\",\"gridwidth\":2},\"zaxis\":{\"backgroundcolor\":\"#E5ECF6\",\"gridcolor\":\"white\",\"linecolor\":\"white\",\"showbackground\":true,\"ticks\":\"\",\"zerolinecolor\":\"white\",\"gridwidth\":2}},\"shapedefaults\":{\"line\":{\"color\":\"#2a3f5f\"}},\"annotationdefaults\":{\"arrowcolor\":\"#2a3f5f\",\"arrowhead\":0,\"arrowwidth\":1},\"geo\":{\"bgcolor\":\"white\",\"landcolor\":\"#E5ECF6\",\"subunitcolor\":\"white\",\"showland\":true,\"showlakes\":true,\"lakecolor\":\"white\"},\"title\":{\"x\":0.05},\"mapbox\":{\"style\":\"light\"}}},\"xaxis\":{\"anchor\":\"y\",\"domain\":[0.0,1.0],\"title\":{\"text\":\"model\"},\"categoryorder\":\"array\",\"categoryarray\":[\"model1\",\"model2\",\"model3\"]},\"yaxis\":{\"anchor\":\"x\",\"domain\":[0.0,1.0],\"title\":{\"text\":\"mae\"},\"range\":[3,4.5]},\"legend\":{\"title\":{\"text\":\"model\"},\"tracegroupgap\":0},\"title\":{\"text\":\"Mean Absolute error by model\"},\"barmode\":\"relative\",\"height\":400,\"width\":400},                        {\"responsive\": true}                    ).then(function(){\n",
       "                            \n",
       "var gd = document.getElementById('a5de88ba-2e31-4744-95da-c996a064a022');\n",
       "var x = new MutationObserver(function (mutations, observer) {{\n",
       "        var display = window.getComputedStyle(gd).display;\n",
       "        if (!display || display === 'none') {{\n",
       "            console.log([gd, 'removed!']);\n",
       "            Plotly.purge(gd);\n",
       "            observer.disconnect();\n",
       "        }}\n",
       "}});\n",
       "\n",
       "// Listen for the removal of the full notebook cells\n",
       "var notebookContainer = gd.closest('#notebook-container');\n",
       "if (notebookContainer) {{\n",
       "    x.observe(notebookContainer, {childList: true});\n",
       "}}\n",
       "\n",
       "// Listen for the clearing of the current output cell\n",
       "var outputEl = gd.closest('.output');\n",
       "if (outputEl) {{\n",
       "    x.observe(outputEl, {childList: true});\n",
       "}}\n",
       "\n",
       "                        })                };                            </script>        </div>\n",
       "</body>\n",
       "</html>"
      ]
     },
     "metadata": {},
     "output_type": "display_data"
    }
   ],
   "source": [
    "model1_mae = mean_absolute_error(y_val, model1_pred)\n",
    "model2_mae = mean_absolute_error(y_val, model2_pred)\n",
    "model3_mae = mean_absolute_error(y_val, model3_pred)\n",
    "\n",
    "mae = [model1_mae, model2_mae, model3_mae]\n",
    "model = [\"model1\", \"model2\",\"model3\"]\n",
    "\n",
    "fig = pd.DataFrame({\"model\": model,\"mae\" : mae}).\\\n",
    "      plot(kind = \"bar\",backend = \"plotly\",\n",
    "           x = \"model\", y= \"mae\",color = \"model\",width = 400, height = 400,\n",
    "              title = \"Mean Absolute error by model\")\n",
    "fig.update_yaxes(range = (3,4.5))"
   ]
  },
  {
   "cell_type": "markdown",
   "metadata": {
    "id": "pfM_wDILeJBU"
   },
   "source": [
    "### (3) summary"
   ]
  },
  {
   "cell_type": "markdown",
   "metadata": {
    "id": "-LfAcUQ_eL6K"
   },
   "source": [
    "|model|은닉층|각 층에서 은닉노드의 개수|params|\n",
    "|:---:|:---:|:---:|:---:|\n",
    "|model1|2|(2,1)|26 + 3 = 29|\n",
    "|model2|2|(8,1)|104 + 9 = 113|\n",
    "|model3|3|(8,4,1)|104 + 36 + 5 = 145|"
   ]
  },
  {
   "cell_type": "markdown",
   "metadata": {
    "id": "ns6y11XEeP1i"
   },
   "source": [
    "* `epochs, activation, learning_rate, optimizer`를 고정시켜놓고 은닉층의 수와 노드의 수에 따라 예측 성능을 비교해봤음"
   ]
  },
  {
   "cell_type": "markdown",
   "metadata": {
    "id": "q063zSIkedFm"
   },
   "source": [
    "* 비교결과 `model2`가 가장 학습 데이터에 적합했으나 실제로는 `model3`와 비교해보면 과적합 문제가 의심됨."
   ]
  },
  {
   "cell_type": "markdown",
   "metadata": {
    "id": "pqy4URZVewVh"
   },
   "source": [
    "* insight1 : 은닉층의 수와 노드의 수 즉, 파라미터 수를 어떻게 조절하냐에 따라서도 모델 성능이 달라질 수 있음!!"
   ]
  }
 ],
 "metadata": {
  "accelerator": "GPU",
  "colab": {
   "authorship_tag": "ABX9TyP+KbhXVK0F2J3Z8hAZQina",
   "gpuType": "T4",
   "provenance": []
  },
  "kernelspec": {
   "display_name": "Python 3 (ipykernel)",
   "language": "python",
   "name": "python3"
  },
  "language_info": {
   "codemirror_mode": {
    "name": "ipython",
    "version": 3
   },
   "file_extension": ".py",
   "mimetype": "text/x-python",
   "name": "python",
   "nbconvert_exporter": "python",
   "pygments_lexer": "ipython3",
   "version": "3.11.4"
  },
  "toc": {
   "base_numbering": 1,
   "nav_menu": {},
   "number_sections": false,
   "sideBar": true,
   "skip_h1_title": false,
   "title_cell": "Table of Contents",
   "title_sidebar": "Contents",
   "toc_cell": false,
   "toc_position": {},
   "toc_section_display": true,
   "toc_window_display": true
  }
 },
 "nbformat": 4,
 "nbformat_minor": 1
}
