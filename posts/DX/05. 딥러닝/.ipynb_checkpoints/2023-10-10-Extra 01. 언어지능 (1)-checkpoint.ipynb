{
 "cells": [
  {
   "cell_type": "raw",
   "metadata": {
    "id": "2ScRjMR8_EQH"
   },
   "source": [
    "---\n",
    "title : \"Extra 01. 언어지능\"\n",
    "author : \"GC\"\n",
    "date : \"10/10/23\"\n",
    "categories : [딥러닝, 언어지능]\n",
    "---"
   ]
  },
  {
   "cell_type": "code",
   "execution_count": null,
   "metadata": {
    "colab": {
     "base_uri": "https://localhost:8080/"
    },
    "executionInfo": {
     "elapsed": 278,
     "status": "ok",
     "timestamp": 1696983424751,
     "user": {
      "displayName": "ccc flkwerkdai",
      "userId": "13507850890638580947"
     },
     "user_tz": -540
    },
    "id": "BWXP_lUqICDp",
    "outputId": "59afb784-5d36-4931-a8d7-80553c1d0f53"
   },
   "outputs": [
    {
     "name": "stdout",
     "output_type": "stream",
     "text": [
      "/content/drive/MyDrive/Colab Notebooks/ISLP\n"
     ]
    }
   ],
   "source": [
    "cd /content/drive/MyDrive/Colab Notebooks/ISLP/"
   ]
  },
  {
   "cell_type": "markdown",
   "metadata": {
    "id": "uwkqYTNT_sHJ"
   },
   "source": [
    "# 1.review"
   ]
  },
  {
   "cell_type": "markdown",
   "metadata": {
    "id": "nF5VmI4LIdFa"
   },
   "source": [
    "`-` 이번엔  Sequential이 아닌 함수형으로 모델 구조를 생성"
   ]
  },
  {
   "cell_type": "markdown",
   "metadata": {
    "id": "8zMGjzH5KJ5J"
   },
   "source": [
    "## ex1.레모네이드"
   ]
  },
  {
   "cell_type": "markdown",
   "metadata": {
    "id": "ZZj2ZQRFG-JS"
   },
   "source": [
    "`0` import"
   ]
  },
  {
   "cell_type": "code",
   "execution_count": null,
   "metadata": {
    "id": "hagqWl9I_2a4"
   },
   "outputs": [],
   "source": [
    "import pandas as pd\n",
    "import tensorflow as tf"
   ]
  },
  {
   "cell_type": "markdown",
   "metadata": {
    "id": "UpybjPgyG8hS"
   },
   "source": [
    "`1` 데이터 준비"
   ]
  },
  {
   "cell_type": "code",
   "execution_count": null,
   "metadata": {
    "id": "oEo9ZKOmGNHD"
   },
   "outputs": [],
   "source": [
    "레모네이드 = pd.read_csv(\"https://raw.githubusercontent.com/blackdew/tensorflow1/master/csv/lemonade.csv\")\n",
    "독립 = 레모네이드[[\"온도\"]]\n",
    "종속 = 레모네이드[[\"판매량\"]]"
   ]
  },
  {
   "cell_type": "markdown",
   "metadata": {
    "id": "-ar5hxRVHBUS"
   },
   "source": [
    "`2` 모델 구조 생성"
   ]
  },
  {
   "cell_type": "code",
   "execution_count": null,
   "metadata": {
    "id": "heEDQ6eSGaJh"
   },
   "outputs": [],
   "source": [
    "X = tf.keras.Input(shape = [1])\n",
    "Y = tf.keras.layers.Dense(1)(X)\n",
    "\n",
    "model = tf.keras.Model(X,Y)\n",
    "model.compile(loss = \"mse\")"
   ]
  },
  {
   "cell_type": "markdown",
   "metadata": {
    "id": "x98B8-H_HEWy"
   },
   "source": [
    "`3` 모델학습"
   ]
  },
  {
   "cell_type": "code",
   "execution_count": null,
   "metadata": {
    "colab": {
     "base_uri": "https://localhost:8080/"
    },
    "executionInfo": {
     "elapsed": 5843,
     "status": "ok",
     "timestamp": 1696983443151,
     "user": {
      "displayName": "ccc flkwerkdai",
      "userId": "13507850890638580947"
     },
     "user_tz": -540
    },
    "id": "seZ5rEJ-GqVC",
    "outputId": "32724866-109a-4a41-ecd6-596cbdbc6026"
   },
   "outputs": [
    {
     "name": "stdout",
     "output_type": "stream",
     "text": [
      "Epoch 1/10\n",
      "1/1 [==============================] - 5s 5s/step - loss: 2335.1794\n",
      "Epoch 2/10\n",
      "1/1 [==============================] - 0s 11ms/step - loss: 2327.9836\n",
      "Epoch 3/10\n",
      "1/1 [==============================] - 0s 9ms/step - loss: 2322.7744\n",
      "Epoch 4/10\n",
      "1/1 [==============================] - 0s 10ms/step - loss: 2318.4187\n",
      "Epoch 5/10\n",
      "1/1 [==============================] - 0s 8ms/step - loss: 2314.5571\n",
      "Epoch 6/10\n",
      "1/1 [==============================] - 0s 10ms/step - loss: 2311.0217\n",
      "Epoch 7/10\n",
      "1/1 [==============================] - 0s 8ms/step - loss: 2307.7200\n",
      "Epoch 8/10\n",
      "1/1 [==============================] - 0s 8ms/step - loss: 2304.5938\n",
      "Epoch 9/10\n",
      "1/1 [==============================] - 0s 7ms/step - loss: 2301.6042\n",
      "Epoch 10/10\n",
      "1/1 [==============================] - 0s 10ms/step - loss: 2298.7239\n"
     ]
    },
    {
     "data": {
      "text/plain": [
       "<keras.src.callbacks.History at 0x7870c810c700>"
      ]
     },
     "execution_count": 5,
     "metadata": {},
     "output_type": "execute_result"
    }
   ],
   "source": [
    "model.fit(독립, 종속, epochs  = 10)"
   ]
  },
  {
   "cell_type": "markdown",
   "metadata": {
    "id": "NZLZZf_UHzXh"
   },
   "source": [
    "`4` 모델학습2. epochs를 많이 줘보자"
   ]
  },
  {
   "cell_type": "code",
   "execution_count": null,
   "metadata": {
    "colab": {
     "base_uri": "https://localhost:8080/"
    },
    "executionInfo": {
     "elapsed": 5128,
     "status": "ok",
     "timestamp": 1696983448275,
     "user": {
      "displayName": "ccc flkwerkdai",
      "userId": "13507850890638580947"
     },
     "user_tz": -540
    },
    "id": "3VLG6AJAH45R",
    "outputId": "697b2a0d-b01f-48e6-826e-1f6668d9c2a8"
   },
   "outputs": [
    {
     "data": {
      "text/plain": [
       "<keras.src.callbacks.History at 0x7870b7fc15a0>"
      ]
     },
     "execution_count": 6,
     "metadata": {},
     "output_type": "execute_result"
    }
   ],
   "source": [
    "model.fit(독립, 종속, epochs  = 1000, verbose = 0)"
   ]
  },
  {
   "cell_type": "code",
   "execution_count": null,
   "metadata": {
    "colab": {
     "base_uri": "https://localhost:8080/"
    },
    "executionInfo": {
     "elapsed": 16,
     "status": "ok",
     "timestamp": 1696983448275,
     "user": {
      "displayName": "ccc flkwerkdai",
      "userId": "13507850890638580947"
     },
     "user_tz": -540
    },
    "id": "gOm9P0J9IL5K",
    "outputId": "9fb007e2-b7d2-43f0-c315-ad8d6ff0ef05"
   },
   "outputs": [
    {
     "data": {
      "text/plain": [
       "[609.4378051757812,\n",
       " 608.2850341796875,\n",
       " 607.1331787109375,\n",
       " 605.982421875,\n",
       " 604.8328247070312,\n",
       " 603.6843872070312,\n",
       " 602.5370483398438,\n",
       " 601.3908081054688,\n",
       " 600.2455444335938,\n",
       " 599.1014404296875]"
      ]
     },
     "execution_count": 7,
     "metadata": {},
     "output_type": "execute_result"
    }
   ],
   "source": [
    "model.history.history[\"loss\"][-10:]"
   ]
  },
  {
   "cell_type": "markdown",
   "metadata": {
    "id": "uOaTIh3kI056"
   },
   "source": [
    "`5` predict"
   ]
  },
  {
   "cell_type": "code",
   "execution_count": null,
   "metadata": {
    "colab": {
     "base_uri": "https://localhost:8080/",
     "height": 237
    },
    "executionInfo": {
     "elapsed": 13,
     "status": "ok",
     "timestamp": 1696983448275,
     "user": {
      "displayName": "ccc flkwerkdai",
      "userId": "13507850890638580947"
     },
     "user_tz": -540
    },
    "id": "NWcJH7q2I9-I",
    "outputId": "e3ad81ab-7cb1-4cbb-a21a-c2d5e2bf3256"
   },
   "outputs": [
    {
     "data": {
      "text/html": [
       "\n",
       "  <div id=\"df-f072125a-99d8-4490-8b09-3112dc83604b\" class=\"colab-df-container\">\n",
       "    <div>\n",
       "<style scoped>\n",
       "    .dataframe tbody tr th:only-of-type {\n",
       "        vertical-align: middle;\n",
       "    }\n",
       "\n",
       "    .dataframe tbody tr th {\n",
       "        vertical-align: top;\n",
       "    }\n",
       "\n",
       "    .dataframe thead th {\n",
       "        text-align: right;\n",
       "    }\n",
       "</style>\n",
       "<table border=\"1\" class=\"dataframe\">\n",
       "  <thead>\n",
       "    <tr style=\"text-align: right;\">\n",
       "      <th></th>\n",
       "      <th>온도</th>\n",
       "      <th>판매량</th>\n",
       "    </tr>\n",
       "  </thead>\n",
       "  <tbody>\n",
       "    <tr>\n",
       "      <th>0</th>\n",
       "      <td>20</td>\n",
       "      <td>40</td>\n",
       "    </tr>\n",
       "    <tr>\n",
       "      <th>1</th>\n",
       "      <td>21</td>\n",
       "      <td>42</td>\n",
       "    </tr>\n",
       "    <tr>\n",
       "      <th>2</th>\n",
       "      <td>22</td>\n",
       "      <td>44</td>\n",
       "    </tr>\n",
       "    <tr>\n",
       "      <th>3</th>\n",
       "      <td>23</td>\n",
       "      <td>46</td>\n",
       "    </tr>\n",
       "    <tr>\n",
       "      <th>4</th>\n",
       "      <td>24</td>\n",
       "      <td>48</td>\n",
       "    </tr>\n",
       "    <tr>\n",
       "      <th>5</th>\n",
       "      <td>25</td>\n",
       "      <td>50</td>\n",
       "    </tr>\n",
       "  </tbody>\n",
       "</table>\n",
       "</div>\n",
       "    <div class=\"colab-df-buttons\">\n",
       "\n",
       "  <div class=\"colab-df-container\">\n",
       "    <button class=\"colab-df-convert\" onclick=\"convertToInteractive('df-f072125a-99d8-4490-8b09-3112dc83604b')\"\n",
       "            title=\"Convert this dataframe to an interactive table.\"\n",
       "            style=\"display:none;\">\n",
       "\n",
       "  <svg xmlns=\"http://www.w3.org/2000/svg\" height=\"24px\" viewBox=\"0 -960 960 960\">\n",
       "    <path d=\"M120-120v-720h720v720H120Zm60-500h600v-160H180v160Zm220 220h160v-160H400v160Zm0 220h160v-160H400v160ZM180-400h160v-160H180v160Zm440 0h160v-160H620v160ZM180-180h160v-160H180v160Zm440 0h160v-160H620v160Z\"/>\n",
       "  </svg>\n",
       "    </button>\n",
       "\n",
       "  <style>\n",
       "    .colab-df-container {\n",
       "      display:flex;\n",
       "      gap: 12px;\n",
       "    }\n",
       "\n",
       "    .colab-df-convert {\n",
       "      background-color: #E8F0FE;\n",
       "      border: none;\n",
       "      border-radius: 50%;\n",
       "      cursor: pointer;\n",
       "      display: none;\n",
       "      fill: #1967D2;\n",
       "      height: 32px;\n",
       "      padding: 0 0 0 0;\n",
       "      width: 32px;\n",
       "    }\n",
       "\n",
       "    .colab-df-convert:hover {\n",
       "      background-color: #E2EBFA;\n",
       "      box-shadow: 0px 1px 2px rgba(60, 64, 67, 0.3), 0px 1px 3px 1px rgba(60, 64, 67, 0.15);\n",
       "      fill: #174EA6;\n",
       "    }\n",
       "\n",
       "    .colab-df-buttons div {\n",
       "      margin-bottom: 4px;\n",
       "    }\n",
       "\n",
       "    [theme=dark] .colab-df-convert {\n",
       "      background-color: #3B4455;\n",
       "      fill: #D2E3FC;\n",
       "    }\n",
       "\n",
       "    [theme=dark] .colab-df-convert:hover {\n",
       "      background-color: #434B5C;\n",
       "      box-shadow: 0px 1px 3px 1px rgba(0, 0, 0, 0.15);\n",
       "      filter: drop-shadow(0px 1px 2px rgba(0, 0, 0, 0.3));\n",
       "      fill: #FFFFFF;\n",
       "    }\n",
       "  </style>\n",
       "\n",
       "    <script>\n",
       "      const buttonEl =\n",
       "        document.querySelector('#df-f072125a-99d8-4490-8b09-3112dc83604b button.colab-df-convert');\n",
       "      buttonEl.style.display =\n",
       "        google.colab.kernel.accessAllowed ? 'block' : 'none';\n",
       "\n",
       "      async function convertToInteractive(key) {\n",
       "        const element = document.querySelector('#df-f072125a-99d8-4490-8b09-3112dc83604b');\n",
       "        const dataTable =\n",
       "          await google.colab.kernel.invokeFunction('convertToInteractive',\n",
       "                                                    [key], {});\n",
       "        if (!dataTable) return;\n",
       "\n",
       "        const docLinkHtml = 'Like what you see? Visit the ' +\n",
       "          '<a target=\"_blank\" href=https://colab.research.google.com/notebooks/data_table.ipynb>data table notebook</a>'\n",
       "          + ' to learn more about interactive tables.';\n",
       "        element.innerHTML = '';\n",
       "        dataTable['output_type'] = 'display_data';\n",
       "        await google.colab.output.renderOutput(dataTable, element);\n",
       "        const docLink = document.createElement('div');\n",
       "        docLink.innerHTML = docLinkHtml;\n",
       "        element.appendChild(docLink);\n",
       "      }\n",
       "    </script>\n",
       "  </div>\n",
       "\n",
       "\n",
       "<div id=\"df-d97f5783-bc6e-43bf-a956-f5b7aad24026\">\n",
       "  <button class=\"colab-df-quickchart\" onclick=\"quickchart('df-d97f5783-bc6e-43bf-a956-f5b7aad24026')\"\n",
       "            title=\"Suggest charts.\"\n",
       "            style=\"display:none;\">\n",
       "\n",
       "<svg xmlns=\"http://www.w3.org/2000/svg\" height=\"24px\"viewBox=\"0 0 24 24\"\n",
       "     width=\"24px\">\n",
       "    <g>\n",
       "        <path d=\"M19 3H5c-1.1 0-2 .9-2 2v14c0 1.1.9 2 2 2h14c1.1 0 2-.9 2-2V5c0-1.1-.9-2-2-2zM9 17H7v-7h2v7zm4 0h-2V7h2v10zm4 0h-2v-4h2v4z\"/>\n",
       "    </g>\n",
       "</svg>\n",
       "  </button>\n",
       "\n",
       "<style>\n",
       "  .colab-df-quickchart {\n",
       "      --bg-color: #E8F0FE;\n",
       "      --fill-color: #1967D2;\n",
       "      --hover-bg-color: #E2EBFA;\n",
       "      --hover-fill-color: #174EA6;\n",
       "      --disabled-fill-color: #AAA;\n",
       "      --disabled-bg-color: #DDD;\n",
       "  }\n",
       "\n",
       "  [theme=dark] .colab-df-quickchart {\n",
       "      --bg-color: #3B4455;\n",
       "      --fill-color: #D2E3FC;\n",
       "      --hover-bg-color: #434B5C;\n",
       "      --hover-fill-color: #FFFFFF;\n",
       "      --disabled-bg-color: #3B4455;\n",
       "      --disabled-fill-color: #666;\n",
       "  }\n",
       "\n",
       "  .colab-df-quickchart {\n",
       "    background-color: var(--bg-color);\n",
       "    border: none;\n",
       "    border-radius: 50%;\n",
       "    cursor: pointer;\n",
       "    display: none;\n",
       "    fill: var(--fill-color);\n",
       "    height: 32px;\n",
       "    padding: 0;\n",
       "    width: 32px;\n",
       "  }\n",
       "\n",
       "  .colab-df-quickchart:hover {\n",
       "    background-color: var(--hover-bg-color);\n",
       "    box-shadow: 0 1px 2px rgba(60, 64, 67, 0.3), 0 1px 3px 1px rgba(60, 64, 67, 0.15);\n",
       "    fill: var(--button-hover-fill-color);\n",
       "  }\n",
       "\n",
       "  .colab-df-quickchart-complete:disabled,\n",
       "  .colab-df-quickchart-complete:disabled:hover {\n",
       "    background-color: var(--disabled-bg-color);\n",
       "    fill: var(--disabled-fill-color);\n",
       "    box-shadow: none;\n",
       "  }\n",
       "\n",
       "  .colab-df-spinner {\n",
       "    border: 2px solid var(--fill-color);\n",
       "    border-color: transparent;\n",
       "    border-bottom-color: var(--fill-color);\n",
       "    animation:\n",
       "      spin 1s steps(1) infinite;\n",
       "  }\n",
       "\n",
       "  @keyframes spin {\n",
       "    0% {\n",
       "      border-color: transparent;\n",
       "      border-bottom-color: var(--fill-color);\n",
       "      border-left-color: var(--fill-color);\n",
       "    }\n",
       "    20% {\n",
       "      border-color: transparent;\n",
       "      border-left-color: var(--fill-color);\n",
       "      border-top-color: var(--fill-color);\n",
       "    }\n",
       "    30% {\n",
       "      border-color: transparent;\n",
       "      border-left-color: var(--fill-color);\n",
       "      border-top-color: var(--fill-color);\n",
       "      border-right-color: var(--fill-color);\n",
       "    }\n",
       "    40% {\n",
       "      border-color: transparent;\n",
       "      border-right-color: var(--fill-color);\n",
       "      border-top-color: var(--fill-color);\n",
       "    }\n",
       "    60% {\n",
       "      border-color: transparent;\n",
       "      border-right-color: var(--fill-color);\n",
       "    }\n",
       "    80% {\n",
       "      border-color: transparent;\n",
       "      border-right-color: var(--fill-color);\n",
       "      border-bottom-color: var(--fill-color);\n",
       "    }\n",
       "    90% {\n",
       "      border-color: transparent;\n",
       "      border-bottom-color: var(--fill-color);\n",
       "    }\n",
       "  }\n",
       "</style>\n",
       "\n",
       "  <script>\n",
       "    async function quickchart(key) {\n",
       "      const quickchartButtonEl =\n",
       "        document.querySelector('#' + key + ' button');\n",
       "      quickchartButtonEl.disabled = true;  // To prevent multiple clicks.\n",
       "      quickchartButtonEl.classList.add('colab-df-spinner');\n",
       "      try {\n",
       "        const charts = await google.colab.kernel.invokeFunction(\n",
       "            'suggestCharts', [key], {});\n",
       "      } catch (error) {\n",
       "        console.error('Error during call to suggestCharts:', error);\n",
       "      }\n",
       "      quickchartButtonEl.classList.remove('colab-df-spinner');\n",
       "      quickchartButtonEl.classList.add('colab-df-quickchart-complete');\n",
       "    }\n",
       "    (() => {\n",
       "      let quickchartButtonEl =\n",
       "        document.querySelector('#df-d97f5783-bc6e-43bf-a956-f5b7aad24026 button');\n",
       "      quickchartButtonEl.style.display =\n",
       "        google.colab.kernel.accessAllowed ? 'block' : 'none';\n",
       "    })();\n",
       "  </script>\n",
       "</div>\n",
       "    </div>\n",
       "  </div>\n"
      ],
      "text/plain": [
       "   온도  판매량\n",
       "0  20   40\n",
       "1  21   42\n",
       "2  22   44\n",
       "3  23   46\n",
       "4  24   48\n",
       "5  25   50"
      ]
     },
     "execution_count": 8,
     "metadata": {},
     "output_type": "execute_result"
    }
   ],
   "source": [
    "레모네이드"
   ]
  },
  {
   "cell_type": "code",
   "execution_count": null,
   "metadata": {
    "colab": {
     "base_uri": "https://localhost:8080/"
    },
    "executionInfo": {
     "elapsed": 434,
     "status": "ok",
     "timestamp": 1696983448706,
     "user": {
      "displayName": "ccc flkwerkdai",
      "userId": "13507850890638580947"
     },
     "user_tz": -540
    },
    "id": "bIx-5Io8I5Nh",
    "outputId": "0f8369c2-aed3-4b59-d947-04d63146de71"
   },
   "outputs": [
    {
     "name": "stdout",
     "output_type": "stream",
     "text": [
      "1/1 [==============================] - 0s 133ms/step\n"
     ]
    },
    {
     "data": {
      "text/plain": [
       "array([[18.444012]], dtype=float32)"
      ]
     },
     "execution_count": 9,
     "metadata": {},
     "output_type": "execute_result"
    }
   ],
   "source": [
    "model.predict([20])"
   ]
  },
  {
   "cell_type": "markdown",
   "metadata": {
    "id": "AiKlu3IXI8D5"
   },
   "source": [
    "`-` 음 대충 엇비슷한 결과 나온다."
   ]
  },
  {
   "cell_type": "markdown",
   "metadata": {
    "id": "USmquGRHJGx5"
   },
   "source": [
    "`-` weights 확인"
   ]
  },
  {
   "cell_type": "code",
   "execution_count": null,
   "metadata": {
    "colab": {
     "base_uri": "https://localhost:8080/"
    },
    "executionInfo": {
     "elapsed": 6,
     "status": "ok",
     "timestamp": 1696983448706,
     "user": {
      "displayName": "ccc flkwerkdai",
      "userId": "13507850890638580947"
     },
     "user_tz": -540
    },
    "id": "2V8i-KYJJI8Z",
    "outputId": "f3456558-e5ae-480d-b329-d105ada28dcf"
   },
   "outputs": [
    {
     "data": {
      "text/plain": [
       "[<tf.Variable 'dense/kernel:0' shape=(1, 1) dtype=float32, numpy=array([[0.8715454]], dtype=float32)>,\n",
       " <tf.Variable 'dense/bias:0' shape=(1,) dtype=float32, numpy=array([1.0131029], dtype=float32)>]"
      ]
     },
     "execution_count": 10,
     "metadata": {},
     "output_type": "execute_result"
    }
   ],
   "source": [
    "model.weights"
   ]
  },
  {
   "cell_type": "markdown",
   "metadata": {
    "id": "FxdTSUb0KT74"
   },
   "source": [
    "***"
   ]
  },
  {
   "cell_type": "markdown",
   "metadata": {
    "id": "Po6k_k3lJsvY"
   },
   "source": [
    "## ex2. iris"
   ]
  },
  {
   "cell_type": "markdown",
   "metadata": {
    "id": "FX5yZN4SKUuY"
   },
   "source": [
    "`-` 아이리스 품종분류"
   ]
  },
  {
   "cell_type": "markdown",
   "metadata": {
    "id": "9XerpCTSRC7d"
   },
   "source": [
    "`1` 데이터 이해 및 전처리"
   ]
  },
  {
   "cell_type": "code",
   "execution_count": null,
   "metadata": {
    "colab": {
     "base_uri": "https://localhost:8080/",
     "height": 206
    },
    "executionInfo": {
     "elapsed": 5,
     "status": "ok",
     "timestamp": 1696983448707,
     "user": {
      "displayName": "ccc flkwerkdai",
      "userId": "13507850890638580947"
     },
     "user_tz": -540
    },
    "id": "5AeSbMj7QObM",
    "outputId": "2daadb4b-8498-452e-db1c-490f9aa5a711"
   },
   "outputs": [
    {
     "data": {
      "text/html": [
       "\n",
       "  <div id=\"df-04e64be5-3319-4feb-8a9e-68e8cd4f67c9\" class=\"colab-df-container\">\n",
       "    <div>\n",
       "<style scoped>\n",
       "    .dataframe tbody tr th:only-of-type {\n",
       "        vertical-align: middle;\n",
       "    }\n",
       "\n",
       "    .dataframe tbody tr th {\n",
       "        vertical-align: top;\n",
       "    }\n",
       "\n",
       "    .dataframe thead th {\n",
       "        text-align: right;\n",
       "    }\n",
       "</style>\n",
       "<table border=\"1\" class=\"dataframe\">\n",
       "  <thead>\n",
       "    <tr style=\"text-align: right;\">\n",
       "      <th></th>\n",
       "      <th>꽃잎길이</th>\n",
       "      <th>꽃잎폭</th>\n",
       "      <th>꽃받침길이</th>\n",
       "      <th>꽃받침폭</th>\n",
       "      <th>품종_setosa</th>\n",
       "      <th>품종_versicolor</th>\n",
       "      <th>품종_virginica</th>\n",
       "    </tr>\n",
       "  </thead>\n",
       "  <tbody>\n",
       "    <tr>\n",
       "      <th>0</th>\n",
       "      <td>5.1</td>\n",
       "      <td>3.5</td>\n",
       "      <td>1.4</td>\n",
       "      <td>0.2</td>\n",
       "      <td>1</td>\n",
       "      <td>0</td>\n",
       "      <td>0</td>\n",
       "    </tr>\n",
       "    <tr>\n",
       "      <th>1</th>\n",
       "      <td>4.9</td>\n",
       "      <td>3.0</td>\n",
       "      <td>1.4</td>\n",
       "      <td>0.2</td>\n",
       "      <td>1</td>\n",
       "      <td>0</td>\n",
       "      <td>0</td>\n",
       "    </tr>\n",
       "    <tr>\n",
       "      <th>2</th>\n",
       "      <td>4.7</td>\n",
       "      <td>3.2</td>\n",
       "      <td>1.3</td>\n",
       "      <td>0.2</td>\n",
       "      <td>1</td>\n",
       "      <td>0</td>\n",
       "      <td>0</td>\n",
       "    </tr>\n",
       "    <tr>\n",
       "      <th>3</th>\n",
       "      <td>4.6</td>\n",
       "      <td>3.1</td>\n",
       "      <td>1.5</td>\n",
       "      <td>0.2</td>\n",
       "      <td>1</td>\n",
       "      <td>0</td>\n",
       "      <td>0</td>\n",
       "    </tr>\n",
       "    <tr>\n",
       "      <th>4</th>\n",
       "      <td>5.0</td>\n",
       "      <td>3.6</td>\n",
       "      <td>1.4</td>\n",
       "      <td>0.2</td>\n",
       "      <td>1</td>\n",
       "      <td>0</td>\n",
       "      <td>0</td>\n",
       "    </tr>\n",
       "  </tbody>\n",
       "</table>\n",
       "</div>\n",
       "    <div class=\"colab-df-buttons\">\n",
       "\n",
       "  <div class=\"colab-df-container\">\n",
       "    <button class=\"colab-df-convert\" onclick=\"convertToInteractive('df-04e64be5-3319-4feb-8a9e-68e8cd4f67c9')\"\n",
       "            title=\"Convert this dataframe to an interactive table.\"\n",
       "            style=\"display:none;\">\n",
       "\n",
       "  <svg xmlns=\"http://www.w3.org/2000/svg\" height=\"24px\" viewBox=\"0 -960 960 960\">\n",
       "    <path d=\"M120-120v-720h720v720H120Zm60-500h600v-160H180v160Zm220 220h160v-160H400v160Zm0 220h160v-160H400v160ZM180-400h160v-160H180v160Zm440 0h160v-160H620v160ZM180-180h160v-160H180v160Zm440 0h160v-160H620v160Z\"/>\n",
       "  </svg>\n",
       "    </button>\n",
       "\n",
       "  <style>\n",
       "    .colab-df-container {\n",
       "      display:flex;\n",
       "      gap: 12px;\n",
       "    }\n",
       "\n",
       "    .colab-df-convert {\n",
       "      background-color: #E8F0FE;\n",
       "      border: none;\n",
       "      border-radius: 50%;\n",
       "      cursor: pointer;\n",
       "      display: none;\n",
       "      fill: #1967D2;\n",
       "      height: 32px;\n",
       "      padding: 0 0 0 0;\n",
       "      width: 32px;\n",
       "    }\n",
       "\n",
       "    .colab-df-convert:hover {\n",
       "      background-color: #E2EBFA;\n",
       "      box-shadow: 0px 1px 2px rgba(60, 64, 67, 0.3), 0px 1px 3px 1px rgba(60, 64, 67, 0.15);\n",
       "      fill: #174EA6;\n",
       "    }\n",
       "\n",
       "    .colab-df-buttons div {\n",
       "      margin-bottom: 4px;\n",
       "    }\n",
       "\n",
       "    [theme=dark] .colab-df-convert {\n",
       "      background-color: #3B4455;\n",
       "      fill: #D2E3FC;\n",
       "    }\n",
       "\n",
       "    [theme=dark] .colab-df-convert:hover {\n",
       "      background-color: #434B5C;\n",
       "      box-shadow: 0px 1px 3px 1px rgba(0, 0, 0, 0.15);\n",
       "      filter: drop-shadow(0px 1px 2px rgba(0, 0, 0, 0.3));\n",
       "      fill: #FFFFFF;\n",
       "    }\n",
       "  </style>\n",
       "\n",
       "    <script>\n",
       "      const buttonEl =\n",
       "        document.querySelector('#df-04e64be5-3319-4feb-8a9e-68e8cd4f67c9 button.colab-df-convert');\n",
       "      buttonEl.style.display =\n",
       "        google.colab.kernel.accessAllowed ? 'block' : 'none';\n",
       "\n",
       "      async function convertToInteractive(key) {\n",
       "        const element = document.querySelector('#df-04e64be5-3319-4feb-8a9e-68e8cd4f67c9');\n",
       "        const dataTable =\n",
       "          await google.colab.kernel.invokeFunction('convertToInteractive',\n",
       "                                                    [key], {});\n",
       "        if (!dataTable) return;\n",
       "\n",
       "        const docLinkHtml = 'Like what you see? Visit the ' +\n",
       "          '<a target=\"_blank\" href=https://colab.research.google.com/notebooks/data_table.ipynb>data table notebook</a>'\n",
       "          + ' to learn more about interactive tables.';\n",
       "        element.innerHTML = '';\n",
       "        dataTable['output_type'] = 'display_data';\n",
       "        await google.colab.output.renderOutput(dataTable, element);\n",
       "        const docLink = document.createElement('div');\n",
       "        docLink.innerHTML = docLinkHtml;\n",
       "        element.appendChild(docLink);\n",
       "      }\n",
       "    </script>\n",
       "  </div>\n",
       "\n",
       "\n",
       "<div id=\"df-3c088972-0bf0-429e-b08d-3a54b590b678\">\n",
       "  <button class=\"colab-df-quickchart\" onclick=\"quickchart('df-3c088972-0bf0-429e-b08d-3a54b590b678')\"\n",
       "            title=\"Suggest charts.\"\n",
       "            style=\"display:none;\">\n",
       "\n",
       "<svg xmlns=\"http://www.w3.org/2000/svg\" height=\"24px\"viewBox=\"0 0 24 24\"\n",
       "     width=\"24px\">\n",
       "    <g>\n",
       "        <path d=\"M19 3H5c-1.1 0-2 .9-2 2v14c0 1.1.9 2 2 2h14c1.1 0 2-.9 2-2V5c0-1.1-.9-2-2-2zM9 17H7v-7h2v7zm4 0h-2V7h2v10zm4 0h-2v-4h2v4z\"/>\n",
       "    </g>\n",
       "</svg>\n",
       "  </button>\n",
       "\n",
       "<style>\n",
       "  .colab-df-quickchart {\n",
       "      --bg-color: #E8F0FE;\n",
       "      --fill-color: #1967D2;\n",
       "      --hover-bg-color: #E2EBFA;\n",
       "      --hover-fill-color: #174EA6;\n",
       "      --disabled-fill-color: #AAA;\n",
       "      --disabled-bg-color: #DDD;\n",
       "  }\n",
       "\n",
       "  [theme=dark] .colab-df-quickchart {\n",
       "      --bg-color: #3B4455;\n",
       "      --fill-color: #D2E3FC;\n",
       "      --hover-bg-color: #434B5C;\n",
       "      --hover-fill-color: #FFFFFF;\n",
       "      --disabled-bg-color: #3B4455;\n",
       "      --disabled-fill-color: #666;\n",
       "  }\n",
       "\n",
       "  .colab-df-quickchart {\n",
       "    background-color: var(--bg-color);\n",
       "    border: none;\n",
       "    border-radius: 50%;\n",
       "    cursor: pointer;\n",
       "    display: none;\n",
       "    fill: var(--fill-color);\n",
       "    height: 32px;\n",
       "    padding: 0;\n",
       "    width: 32px;\n",
       "  }\n",
       "\n",
       "  .colab-df-quickchart:hover {\n",
       "    background-color: var(--hover-bg-color);\n",
       "    box-shadow: 0 1px 2px rgba(60, 64, 67, 0.3), 0 1px 3px 1px rgba(60, 64, 67, 0.15);\n",
       "    fill: var(--button-hover-fill-color);\n",
       "  }\n",
       "\n",
       "  .colab-df-quickchart-complete:disabled,\n",
       "  .colab-df-quickchart-complete:disabled:hover {\n",
       "    background-color: var(--disabled-bg-color);\n",
       "    fill: var(--disabled-fill-color);\n",
       "    box-shadow: none;\n",
       "  }\n",
       "\n",
       "  .colab-df-spinner {\n",
       "    border: 2px solid var(--fill-color);\n",
       "    border-color: transparent;\n",
       "    border-bottom-color: var(--fill-color);\n",
       "    animation:\n",
       "      spin 1s steps(1) infinite;\n",
       "  }\n",
       "\n",
       "  @keyframes spin {\n",
       "    0% {\n",
       "      border-color: transparent;\n",
       "      border-bottom-color: var(--fill-color);\n",
       "      border-left-color: var(--fill-color);\n",
       "    }\n",
       "    20% {\n",
       "      border-color: transparent;\n",
       "      border-left-color: var(--fill-color);\n",
       "      border-top-color: var(--fill-color);\n",
       "    }\n",
       "    30% {\n",
       "      border-color: transparent;\n",
       "      border-left-color: var(--fill-color);\n",
       "      border-top-color: var(--fill-color);\n",
       "      border-right-color: var(--fill-color);\n",
       "    }\n",
       "    40% {\n",
       "      border-color: transparent;\n",
       "      border-right-color: var(--fill-color);\n",
       "      border-top-color: var(--fill-color);\n",
       "    }\n",
       "    60% {\n",
       "      border-color: transparent;\n",
       "      border-right-color: var(--fill-color);\n",
       "    }\n",
       "    80% {\n",
       "      border-color: transparent;\n",
       "      border-right-color: var(--fill-color);\n",
       "      border-bottom-color: var(--fill-color);\n",
       "    }\n",
       "    90% {\n",
       "      border-color: transparent;\n",
       "      border-bottom-color: var(--fill-color);\n",
       "    }\n",
       "  }\n",
       "</style>\n",
       "\n",
       "  <script>\n",
       "    async function quickchart(key) {\n",
       "      const quickchartButtonEl =\n",
       "        document.querySelector('#' + key + ' button');\n",
       "      quickchartButtonEl.disabled = true;  // To prevent multiple clicks.\n",
       "      quickchartButtonEl.classList.add('colab-df-spinner');\n",
       "      try {\n",
       "        const charts = await google.colab.kernel.invokeFunction(\n",
       "            'suggestCharts', [key], {});\n",
       "      } catch (error) {\n",
       "        console.error('Error during call to suggestCharts:', error);\n",
       "      }\n",
       "      quickchartButtonEl.classList.remove('colab-df-spinner');\n",
       "      quickchartButtonEl.classList.add('colab-df-quickchart-complete');\n",
       "    }\n",
       "    (() => {\n",
       "      let quickchartButtonEl =\n",
       "        document.querySelector('#df-3c088972-0bf0-429e-b08d-3a54b590b678 button');\n",
       "      quickchartButtonEl.style.display =\n",
       "        google.colab.kernel.accessAllowed ? 'block' : 'none';\n",
       "    })();\n",
       "  </script>\n",
       "</div>\n",
       "    </div>\n",
       "  </div>\n"
      ],
      "text/plain": [
       "   꽃잎길이  꽃잎폭  꽃받침길이  꽃받침폭  품종_setosa  품종_versicolor  품종_virginica\n",
       "0   5.1  3.5    1.4   0.2          1              0             0\n",
       "1   4.9  3.0    1.4   0.2          1              0             0\n",
       "2   4.7  3.2    1.3   0.2          1              0             0\n",
       "3   4.6  3.1    1.5   0.2          1              0             0\n",
       "4   5.0  3.6    1.4   0.2          1              0             0"
      ]
     },
     "execution_count": 11,
     "metadata": {},
     "output_type": "execute_result"
    }
   ],
   "source": [
    "df = pd.read_csv(\"https://raw.githubusercontent.com/blackdew/tensorflow1/master/csv/iris.csv\")\n",
    "\n",
    "df = pd.get_dummies(df)\n",
    "df.head()"
   ]
  },
  {
   "cell_type": "code",
   "execution_count": null,
   "metadata": {
    "colab": {
     "base_uri": "https://localhost:8080/"
    },
    "executionInfo": {
     "elapsed": 4,
     "status": "ok",
     "timestamp": 1696983448707,
     "user": {
      "displayName": "ccc flkwerkdai",
      "userId": "13507850890638580947"
     },
     "user_tz": -540
    },
    "id": "3ztaW3ALQryM",
    "outputId": "f78ed7ec-2b49-4674-8cb7-1bcab56237d6"
   },
   "outputs": [
    {
     "name": "stdout",
     "output_type": "stream",
     "text": [
      "(150, 4) (150, 3)\n"
     ]
    }
   ],
   "source": [
    "x_input = df[df.columns.values[:4]]\n",
    "y_label = df[df.columns.values[4:]]\n",
    "\n",
    "print(x_input.shape, y_label.shape)"
   ]
  },
  {
   "cell_type": "markdown",
   "metadata": {
    "id": "FGS2RRPwRALM"
   },
   "source": [
    "`2`  모델 설계"
   ]
  },
  {
   "cell_type": "code",
   "execution_count": null,
   "metadata": {
    "id": "eSaXLDx9RHSU"
   },
   "outputs": [],
   "source": [
    "X = tf.keras.Input(shape = [4])\n",
    "Y = tf.keras.layers.Dense(3, activation = \"softmax\")(X)\n",
    "\n",
    "model = tf.keras.Model(X, Y)\n",
    "model.compile(loss = tf.losses.categorical_crossentropy, metrics = \"accuracy\")"
   ]
  },
  {
   "cell_type": "markdown",
   "metadata": {
    "id": "0fR_bPpoSnAz"
   },
   "source": [
    "* 컴퓨터는 loss만 보고 loss가 낮아지는 방향으로 `weight`를 조절해 간다."
   ]
  },
  {
   "cell_type": "markdown",
   "metadata": {
    "id": "Tt3VW-J-StVE"
   },
   "source": [
    "*  metrics는 사람이 보려고 만들어준거 컴퓨터는 상관안함."
   ]
  },
  {
   "cell_type": "markdown",
   "metadata": {
    "id": "ThWmhidKRZbt"
   },
   "source": [
    "`3` 모델 학습"
   ]
  },
  {
   "cell_type": "code",
   "execution_count": null,
   "metadata": {
    "colab": {
     "base_uri": "https://localhost:8080/"
    },
    "executionInfo": {
     "elapsed": 3229,
     "status": "ok",
     "timestamp": 1696983451933,
     "user": {
      "displayName": "ccc flkwerkdai",
      "userId": "13507850890638580947"
     },
     "user_tz": -540
    },
    "id": "j38O8moiRbI8",
    "outputId": "f58a6d20-35e2-4298-9b68-07d7bac5d577"
   },
   "outputs": [
    {
     "data": {
      "text/plain": [
       "<keras.src.callbacks.History at 0x78707b9b3f40>"
      ]
     },
     "execution_count": 14,
     "metadata": {},
     "output_type": "execute_result"
    }
   ],
   "source": [
    "model.fit(x_input, y_label, epochs = 100, verbose = 0)"
   ]
  },
  {
   "cell_type": "markdown",
   "metadata": {
    "id": "LIqnweudRuxc"
   },
   "source": [
    "*  history의 keys값 확인"
   ]
  },
  {
   "cell_type": "code",
   "execution_count": null,
   "metadata": {
    "colab": {
     "base_uri": "https://localhost:8080/"
    },
    "executionInfo": {
     "elapsed": 6,
     "status": "ok",
     "timestamp": 1696983451933,
     "user": {
      "displayName": "ccc flkwerkdai",
      "userId": "13507850890638580947"
     },
     "user_tz": -540
    },
    "id": "cPoSWeSKRiCc",
    "outputId": "a50838a8-c565-4a9b-e2f3-51c6b3025f03"
   },
   "outputs": [
    {
     "data": {
      "text/plain": [
       "dict_keys(['loss', 'accuracy'])"
      ]
     },
     "execution_count": 15,
     "metadata": {},
     "output_type": "execute_result"
    }
   ],
   "source": [
    "model.history.history.keys()"
   ]
  },
  {
   "cell_type": "code",
   "execution_count": null,
   "metadata": {
    "colab": {
     "base_uri": "https://localhost:8080/",
     "height": 206
    },
    "executionInfo": {
     "elapsed": 5,
     "status": "ok",
     "timestamp": 1696983451933,
     "user": {
      "displayName": "ccc flkwerkdai",
      "userId": "13507850890638580947"
     },
     "user_tz": -540
    },
    "id": "9YLczWzmRytk",
    "outputId": "e014db00-9fca-4e76-e7ac-7a54acd1faef"
   },
   "outputs": [
    {
     "data": {
      "text/html": [
       "\n",
       "  <div id=\"df-f72ce11e-08e0-42a7-9989-dc81ba5351d9\" class=\"colab-df-container\">\n",
       "    <div>\n",
       "<style scoped>\n",
       "    .dataframe tbody tr th:only-of-type {\n",
       "        vertical-align: middle;\n",
       "    }\n",
       "\n",
       "    .dataframe tbody tr th {\n",
       "        vertical-align: top;\n",
       "    }\n",
       "\n",
       "    .dataframe thead th {\n",
       "        text-align: right;\n",
       "    }\n",
       "</style>\n",
       "<table border=\"1\" class=\"dataframe\">\n",
       "  <thead>\n",
       "    <tr style=\"text-align: right;\">\n",
       "      <th></th>\n",
       "      <th>loss</th>\n",
       "      <th>accuracy</th>\n",
       "    </tr>\n",
       "  </thead>\n",
       "  <tbody>\n",
       "    <tr>\n",
       "      <th>0</th>\n",
       "      <td>1.739628</td>\n",
       "      <td>0.333333</td>\n",
       "    </tr>\n",
       "    <tr>\n",
       "      <th>1</th>\n",
       "      <td>1.619714</td>\n",
       "      <td>0.333333</td>\n",
       "    </tr>\n",
       "    <tr>\n",
       "      <th>2</th>\n",
       "      <td>1.542850</td>\n",
       "      <td>0.333333</td>\n",
       "    </tr>\n",
       "    <tr>\n",
       "      <th>3</th>\n",
       "      <td>1.476537</td>\n",
       "      <td>0.333333</td>\n",
       "    </tr>\n",
       "    <tr>\n",
       "      <th>4</th>\n",
       "      <td>1.420134</td>\n",
       "      <td>0.340000</td>\n",
       "    </tr>\n",
       "  </tbody>\n",
       "</table>\n",
       "</div>\n",
       "    <div class=\"colab-df-buttons\">\n",
       "\n",
       "  <div class=\"colab-df-container\">\n",
       "    <button class=\"colab-df-convert\" onclick=\"convertToInteractive('df-f72ce11e-08e0-42a7-9989-dc81ba5351d9')\"\n",
       "            title=\"Convert this dataframe to an interactive table.\"\n",
       "            style=\"display:none;\">\n",
       "\n",
       "  <svg xmlns=\"http://www.w3.org/2000/svg\" height=\"24px\" viewBox=\"0 -960 960 960\">\n",
       "    <path d=\"M120-120v-720h720v720H120Zm60-500h600v-160H180v160Zm220 220h160v-160H400v160Zm0 220h160v-160H400v160ZM180-400h160v-160H180v160Zm440 0h160v-160H620v160ZM180-180h160v-160H180v160Zm440 0h160v-160H620v160Z\"/>\n",
       "  </svg>\n",
       "    </button>\n",
       "\n",
       "  <style>\n",
       "    .colab-df-container {\n",
       "      display:flex;\n",
       "      gap: 12px;\n",
       "    }\n",
       "\n",
       "    .colab-df-convert {\n",
       "      background-color: #E8F0FE;\n",
       "      border: none;\n",
       "      border-radius: 50%;\n",
       "      cursor: pointer;\n",
       "      display: none;\n",
       "      fill: #1967D2;\n",
       "      height: 32px;\n",
       "      padding: 0 0 0 0;\n",
       "      width: 32px;\n",
       "    }\n",
       "\n",
       "    .colab-df-convert:hover {\n",
       "      background-color: #E2EBFA;\n",
       "      box-shadow: 0px 1px 2px rgba(60, 64, 67, 0.3), 0px 1px 3px 1px rgba(60, 64, 67, 0.15);\n",
       "      fill: #174EA6;\n",
       "    }\n",
       "\n",
       "    .colab-df-buttons div {\n",
       "      margin-bottom: 4px;\n",
       "    }\n",
       "\n",
       "    [theme=dark] .colab-df-convert {\n",
       "      background-color: #3B4455;\n",
       "      fill: #D2E3FC;\n",
       "    }\n",
       "\n",
       "    [theme=dark] .colab-df-convert:hover {\n",
       "      background-color: #434B5C;\n",
       "      box-shadow: 0px 1px 3px 1px rgba(0, 0, 0, 0.15);\n",
       "      filter: drop-shadow(0px 1px 2px rgba(0, 0, 0, 0.3));\n",
       "      fill: #FFFFFF;\n",
       "    }\n",
       "  </style>\n",
       "\n",
       "    <script>\n",
       "      const buttonEl =\n",
       "        document.querySelector('#df-f72ce11e-08e0-42a7-9989-dc81ba5351d9 button.colab-df-convert');\n",
       "      buttonEl.style.display =\n",
       "        google.colab.kernel.accessAllowed ? 'block' : 'none';\n",
       "\n",
       "      async function convertToInteractive(key) {\n",
       "        const element = document.querySelector('#df-f72ce11e-08e0-42a7-9989-dc81ba5351d9');\n",
       "        const dataTable =\n",
       "          await google.colab.kernel.invokeFunction('convertToInteractive',\n",
       "                                                    [key], {});\n",
       "        if (!dataTable) return;\n",
       "\n",
       "        const docLinkHtml = 'Like what you see? Visit the ' +\n",
       "          '<a target=\"_blank\" href=https://colab.research.google.com/notebooks/data_table.ipynb>data table notebook</a>'\n",
       "          + ' to learn more about interactive tables.';\n",
       "        element.innerHTML = '';\n",
       "        dataTable['output_type'] = 'display_data';\n",
       "        await google.colab.output.renderOutput(dataTable, element);\n",
       "        const docLink = document.createElement('div');\n",
       "        docLink.innerHTML = docLinkHtml;\n",
       "        element.appendChild(docLink);\n",
       "      }\n",
       "    </script>\n",
       "  </div>\n",
       "\n",
       "\n",
       "<div id=\"df-a8378eee-c046-4717-882f-6f5fc52e1eb2\">\n",
       "  <button class=\"colab-df-quickchart\" onclick=\"quickchart('df-a8378eee-c046-4717-882f-6f5fc52e1eb2')\"\n",
       "            title=\"Suggest charts.\"\n",
       "            style=\"display:none;\">\n",
       "\n",
       "<svg xmlns=\"http://www.w3.org/2000/svg\" height=\"24px\"viewBox=\"0 0 24 24\"\n",
       "     width=\"24px\">\n",
       "    <g>\n",
       "        <path d=\"M19 3H5c-1.1 0-2 .9-2 2v14c0 1.1.9 2 2 2h14c1.1 0 2-.9 2-2V5c0-1.1-.9-2-2-2zM9 17H7v-7h2v7zm4 0h-2V7h2v10zm4 0h-2v-4h2v4z\"/>\n",
       "    </g>\n",
       "</svg>\n",
       "  </button>\n",
       "\n",
       "<style>\n",
       "  .colab-df-quickchart {\n",
       "      --bg-color: #E8F0FE;\n",
       "      --fill-color: #1967D2;\n",
       "      --hover-bg-color: #E2EBFA;\n",
       "      --hover-fill-color: #174EA6;\n",
       "      --disabled-fill-color: #AAA;\n",
       "      --disabled-bg-color: #DDD;\n",
       "  }\n",
       "\n",
       "  [theme=dark] .colab-df-quickchart {\n",
       "      --bg-color: #3B4455;\n",
       "      --fill-color: #D2E3FC;\n",
       "      --hover-bg-color: #434B5C;\n",
       "      --hover-fill-color: #FFFFFF;\n",
       "      --disabled-bg-color: #3B4455;\n",
       "      --disabled-fill-color: #666;\n",
       "  }\n",
       "\n",
       "  .colab-df-quickchart {\n",
       "    background-color: var(--bg-color);\n",
       "    border: none;\n",
       "    border-radius: 50%;\n",
       "    cursor: pointer;\n",
       "    display: none;\n",
       "    fill: var(--fill-color);\n",
       "    height: 32px;\n",
       "    padding: 0;\n",
       "    width: 32px;\n",
       "  }\n",
       "\n",
       "  .colab-df-quickchart:hover {\n",
       "    background-color: var(--hover-bg-color);\n",
       "    box-shadow: 0 1px 2px rgba(60, 64, 67, 0.3), 0 1px 3px 1px rgba(60, 64, 67, 0.15);\n",
       "    fill: var(--button-hover-fill-color);\n",
       "  }\n",
       "\n",
       "  .colab-df-quickchart-complete:disabled,\n",
       "  .colab-df-quickchart-complete:disabled:hover {\n",
       "    background-color: var(--disabled-bg-color);\n",
       "    fill: var(--disabled-fill-color);\n",
       "    box-shadow: none;\n",
       "  }\n",
       "\n",
       "  .colab-df-spinner {\n",
       "    border: 2px solid var(--fill-color);\n",
       "    border-color: transparent;\n",
       "    border-bottom-color: var(--fill-color);\n",
       "    animation:\n",
       "      spin 1s steps(1) infinite;\n",
       "  }\n",
       "\n",
       "  @keyframes spin {\n",
       "    0% {\n",
       "      border-color: transparent;\n",
       "      border-bottom-color: var(--fill-color);\n",
       "      border-left-color: var(--fill-color);\n",
       "    }\n",
       "    20% {\n",
       "      border-color: transparent;\n",
       "      border-left-color: var(--fill-color);\n",
       "      border-top-color: var(--fill-color);\n",
       "    }\n",
       "    30% {\n",
       "      border-color: transparent;\n",
       "      border-left-color: var(--fill-color);\n",
       "      border-top-color: var(--fill-color);\n",
       "      border-right-color: var(--fill-color);\n",
       "    }\n",
       "    40% {\n",
       "      border-color: transparent;\n",
       "      border-right-color: var(--fill-color);\n",
       "      border-top-color: var(--fill-color);\n",
       "    }\n",
       "    60% {\n",
       "      border-color: transparent;\n",
       "      border-right-color: var(--fill-color);\n",
       "    }\n",
       "    80% {\n",
       "      border-color: transparent;\n",
       "      border-right-color: var(--fill-color);\n",
       "      border-bottom-color: var(--fill-color);\n",
       "    }\n",
       "    90% {\n",
       "      border-color: transparent;\n",
       "      border-bottom-color: var(--fill-color);\n",
       "    }\n",
       "  }\n",
       "</style>\n",
       "\n",
       "  <script>\n",
       "    async function quickchart(key) {\n",
       "      const quickchartButtonEl =\n",
       "        document.querySelector('#' + key + ' button');\n",
       "      quickchartButtonEl.disabled = true;  // To prevent multiple clicks.\n",
       "      quickchartButtonEl.classList.add('colab-df-spinner');\n",
       "      try {\n",
       "        const charts = await google.colab.kernel.invokeFunction(\n",
       "            'suggestCharts', [key], {});\n",
       "      } catch (error) {\n",
       "        console.error('Error during call to suggestCharts:', error);\n",
       "      }\n",
       "      quickchartButtonEl.classList.remove('colab-df-spinner');\n",
       "      quickchartButtonEl.classList.add('colab-df-quickchart-complete');\n",
       "    }\n",
       "    (() => {\n",
       "      let quickchartButtonEl =\n",
       "        document.querySelector('#df-a8378eee-c046-4717-882f-6f5fc52e1eb2 button');\n",
       "      quickchartButtonEl.style.display =\n",
       "        google.colab.kernel.accessAllowed ? 'block' : 'none';\n",
       "    })();\n",
       "  </script>\n",
       "</div>\n",
       "    </div>\n",
       "  </div>\n"
      ],
      "text/plain": [
       "       loss  accuracy\n",
       "0  1.739628  0.333333\n",
       "1  1.619714  0.333333\n",
       "2  1.542850  0.333333\n",
       "3  1.476537  0.333333\n",
       "4  1.420134  0.340000"
      ]
     },
     "execution_count": 16,
     "metadata": {},
     "output_type": "execute_result"
    }
   ],
   "source": [
    "h1 = pd.DataFrame(model.history.history)\n",
    "h1.head()"
   ]
  },
  {
   "cell_type": "markdown",
   "metadata": {
    "id": "9Gjgg_LeSjbT"
   },
   "source": [
    "`4` loss, accuracy 시각화"
   ]
  },
  {
   "cell_type": "code",
   "execution_count": null,
   "metadata": {
    "id": "JjWCn7Y0SUWi"
   },
   "outputs": [],
   "source": [
    "import matplotlib.pyplot  as plt"
   ]
  },
  {
   "cell_type": "code",
   "execution_count": null,
   "metadata": {
    "colab": {
     "base_uri": "https://localhost:8080/",
     "height": 391
    },
    "executionInfo": {
     "elapsed": 603,
     "status": "ok",
     "timestamp": 1696983452532,
     "user": {
      "displayName": "ccc flkwerkdai",
      "userId": "13507850890638580947"
     },
     "user_tz": -540
    },
    "id": "B8u95EpfSDc8",
    "outputId": "456289d1-df55-4a26-bae0-7cf7ee60805f"
   },
   "outputs": [
    {
     "data": {
      "image/png": "[encoded data removed]",
      "text/plain": [
       "<Figure size 800x400 with 1 Axes>"
      ]
     },
     "metadata": {},
     "output_type": "display_data"
    }
   ],
   "source": [
    "#| code-fold : true\n",
    "plt.figure(figsize = (8, 4))\n",
    "plt.plot(h1[\"loss\"],\".-b\", label = \"loss\", alpha = 0.5)\n",
    "plt.plot(h1[\"accuracy\"],\".-r\", label = \"accuracy\", alpha = 0.5)\n",
    "plt.title(\"train loss & accuracy\")\n",
    "plt.legend()\n",
    "plt.show()"
   ]
  },
  {
   "cell_type": "markdown",
   "metadata": {
    "id": "r2uqJbyPTEGN"
   },
   "source": [
    "***"
   ]
  },
  {
   "cell_type": "markdown",
   "metadata": {
    "id": "MXpVtmp3kYCp"
   },
   "source": [
    "# 언어지능"
   ]
  },
  {
   "cell_type": "markdown",
   "metadata": {
    "id": "6JViNgJllWPx"
   },
   "source": [
    "## 주식예측"
   ]
  },
  {
   "cell_type": "code",
   "execution_count": null,
   "metadata": {
    "colab": {
     "base_uri": "https://localhost:8080/",
     "height": 760
    },
    "executionInfo": {
     "elapsed": 15158,
     "status": "ok",
     "timestamp": 1696983657418,
     "user": {
      "displayName": "ccc flkwerkdai",
      "userId": "13507850890638580947"
     },
     "user_tz": -540
    },
    "id": "CuoPphToka4h",
    "outputId": "2765e27f-f319-4ad8-d04c-7d7a8fdffa2f"
   },
   "outputs": [
    {
     "name": "stdout",
     "output_type": "stream",
     "text": [
      "Found existing installation: bokeh 3.2.2\n",
      "Uninstalling bokeh-3.2.2:\n",
      "  Successfully uninstalled bokeh-3.2.2\n",
      "Collecting bokeh==2.4.3\n",
      "  Downloading bokeh-2.4.3-py3-none-any.whl (18.5 MB)\n",
      "\u001b[2K     \u001b[90m━━━━━━━━━━━━━━━━━━━━━━━━━━━━━━━━━━━━━━━━\u001b[0m \u001b[32m18.5/18.5 MB\u001b[0m \u001b[31m45.7 MB/s\u001b[0m eta \u001b[36m0:00:00\u001b[0m\n",
      "\u001b[?25hRequirement already satisfied: Jinja2>=2.9 in /usr/local/lib/python3.10/dist-packages (from bokeh==2.4.3) (3.1.2)\n",
      "Requirement already satisfied: numpy>=1.11.3 in /usr/local/lib/python3.10/dist-packages (from bokeh==2.4.3) (1.23.5)\n",
      "Requirement already satisfied: packaging>=16.8 in /usr/local/lib/python3.10/dist-packages (from bokeh==2.4.3) (23.2)\n",
      "Requirement already satisfied: pillow>=7.1.0 in /usr/local/lib/python3.10/dist-packages (from bokeh==2.4.3) (9.4.0)\n",
      "Requirement already satisfied: PyYAML>=3.10 in /usr/local/lib/python3.10/dist-packages (from bokeh==2.4.3) (6.0.1)\n",
      "Requirement already satisfied: tornado>=5.1 in /usr/local/lib/python3.10/dist-packages (from bokeh==2.4.3) (6.3.2)\n",
      "Requirement already satisfied: typing-extensions>=3.10.0 in /usr/local/lib/python3.10/dist-packages (from bokeh==2.4.3) (4.5.0)\n",
      "Requirement already satisfied: MarkupSafe>=2.0 in /usr/local/lib/python3.10/dist-packages (from Jinja2>=2.9->bokeh==2.4.3) (2.1.3)\n",
      "Installing collected packages: bokeh\n",
      "\u001b[31mERROR: pip's dependency resolver does not currently take into account all the packages that are installed. This behaviour is the source of the following dependency conflicts.\n",
      "panel 1.2.3 requires bokeh<3.3.0,>=3.1.1, but you have bokeh 2.4.3 which is incompatible.\u001b[0m\u001b[31m\n",
      "\u001b[0mSuccessfully installed bokeh-2.4.3\n"
     ]
    },
    {
     "data": {
      "application/vnd.colab-display-data+json": {
       "pip_warning": {
        "packages": [
         "bokeh"
        ]
       }
      }
     },
     "metadata": {},
     "output_type": "display_data"
    },
    {
     "name": "stdout",
     "output_type": "stream",
     "text": [
      "Collecting finance-datareader\n",
      "  Downloading finance_datareader-0.9.50-py3-none-any.whl (19 kB)\n",
      "Requirement already satisfied: pandas>=0.19.2 in /usr/local/lib/python3.10/dist-packages (from finance-datareader) (1.5.3)\n",
      "Requirement already satisfied: requests>=2.3.0 in /usr/local/lib/python3.10/dist-packages (from finance-datareader) (2.31.0)\n",
      "Collecting requests-file (from finance-datareader)\n",
      "  Downloading requests_file-1.5.1-py2.py3-none-any.whl (3.7 kB)\n",
      "Requirement already satisfied: lxml in /usr/local/lib/python3.10/dist-packages (from finance-datareader) (4.9.3)\n",
      "Requirement already satisfied: tqdm in /usr/local/lib/python3.10/dist-packages (from finance-datareader) (4.66.1)\n",
      "Requirement already satisfied: python-dateutil>=2.8.1 in /usr/local/lib/python3.10/dist-packages (from pandas>=0.19.2->finance-datareader) (2.8.2)\n",
      "Requirement already satisfied: pytz>=2020.1 in /usr/local/lib/python3.10/dist-packages (from pandas>=0.19.2->finance-datareader) (2023.3.post1)\n",
      "Requirement already satisfied: numpy>=1.21.0 in /usr/local/lib/python3.10/dist-packages (from pandas>=0.19.2->finance-datareader) (1.23.5)\n",
      "Requirement already satisfied: charset-normalizer<4,>=2 in /usr/local/lib/python3.10/dist-packages (from requests>=2.3.0->finance-datareader) (3.3.0)\n",
      "Requirement already satisfied: idna<4,>=2.5 in /usr/local/lib/python3.10/dist-packages (from requests>=2.3.0->finance-datareader) (3.4)\n",
      "Requirement already satisfied: urllib3<3,>=1.21.1 in /usr/local/lib/python3.10/dist-packages (from requests>=2.3.0->finance-datareader) (2.0.6)\n",
      "Requirement already satisfied: certifi>=2017.4.17 in /usr/local/lib/python3.10/dist-packages (from requests>=2.3.0->finance-datareader) (2023.7.22)\n",
      "Requirement already satisfied: six in /usr/local/lib/python3.10/dist-packages (from requests-file->finance-datareader) (1.16.0)\n",
      "Installing collected packages: requests-file, finance-datareader\n",
      "Successfully installed finance-datareader-0.9.50 requests-file-1.5.1\n"
     ]
    }
   ],
   "source": [
    "!pip uninstall bokeh -y\n",
    "!pip install bokeh==2.4.3\n",
    "!pip install finance-datareader"
   ]
  },
  {
   "cell_type": "code",
   "execution_count": null,
   "metadata": {
    "colab": {
     "base_uri": "https://localhost:8080/"
    },
    "executionInfo": {
     "elapsed": 4,
     "status": "ok",
     "timestamp": 1696983657418,
     "user": {
      "displayName": "ccc flkwerkdai",
      "userId": "13507850890638580947"
     },
     "user_tz": -540
    },
    "id": "R885G9YVlR1g",
    "outputId": "115803d5-aae7-4027-e1f2-9a06a7f99be2"
   },
   "outputs": [
    {
     "name": "stdout",
     "output_type": "stream",
     "text": [
      "3.2.2\n"
     ]
    }
   ],
   "source": [
    "import bokeh\n",
    "print(bokeh.__version__)"
   ]
  },
  {
   "cell_type": "code",
   "execution_count": null,
   "metadata": {
    "id": "D7B-Oeb4lP0p"
   },
   "outputs": [],
   "source": [
    "import FinanceDataReader as fdr\n",
    "import numpy as np"
   ]
  },
  {
   "cell_type": "markdown",
   "metadata": {
    "id": "llXjhmLtlZjQ"
   },
   "source": [
    "### 데이터 로드 및 준비"
   ]
  },
  {
   "cell_type": "markdown",
   "metadata": {
    "id": "3QSVhzXe7pez"
   },
   "source": [
    "`-` [데이터 상세정보](https://github.com/FinanceData/FinanceDataReader/blob/master/README.md)"
   ]
  },
  {
   "cell_type": "code",
   "execution_count": null,
   "metadata": {
    "colab": {
     "base_uri": "https://localhost:8080/"
    },
    "executionInfo": {
     "elapsed": 1822,
     "status": "ok",
     "timestamp": 1696983659237,
     "user": {
      "displayName": "ccc flkwerkdai",
      "userId": "13507850890638580947"
     },
     "user_tz": -540
    },
    "id": "dIp_0hbRlTeg",
    "outputId": "17a57012-3a42-480b-f961-1a86a3454dd7"
   },
   "outputs": [
    {
     "name": "stdout",
     "output_type": "stream",
     "text": [
      "(6000, 5)\n",
      "(5100, 5) (300, 5) (600, 5)\n"
     ]
    }
   ],
   "source": [
    "# KT(030200) 전체 (1999-05-31 ~ 현재)\n",
    "df = fdr.DataReader('030200')\n",
    "data = df.values[ : ,  : -1]\n",
    "print(data.shape)\n",
    "\n",
    "# train, val, test 분리\n",
    "train, val, test = data[:-900], data[-900:-600], data[-600:]\n",
    "print(train.shape, val.shape, test.shape)\n",
    "\n",
    "# normailze - 표준화\n",
    "norm = {'std': train.std(axis=0), 'mean': train.mean(axis=0)}\n",
    "train = (train - norm['mean']) / norm['std']\n",
    "val = (val - norm['mean']) / norm['std']\n",
    "test = (test - norm['mean']) / norm['std']"
   ]
  },
  {
   "cell_type": "markdown",
   "metadata": {
    "id": "LWgFQFYZ5au8"
   },
   "source": [
    "`-` 잎에 데이터 10개의 흐름을 보고 다음날의 종가를 예측"
   ]
  },
  {
   "cell_type": "code",
   "execution_count": null,
   "metadata": {
    "colab": {
     "base_uri": "https://localhost:8080/"
    },
    "executionInfo": {
     "elapsed": 4,
     "status": "ok",
     "timestamp": 1696983659237,
     "user": {
      "displayName": "ccc flkwerkdai",
      "userId": "13507850890638580947"
     },
     "user_tz": -540
    },
    "id": "61IL9OXZlbfz",
    "outputId": "2b2bf301-0bd7-46d7-9574-8dc7829f415c"
   },
   "outputs": [
    {
     "name": "stdout",
     "output_type": "stream",
     "text": [
      "(5090, 10, 5) (5090,)\n",
      "(290, 10, 5) (290,)\n",
      "(590, 10, 5) (590,)\n"
     ]
    }
   ],
   "source": [
    "x_train = np.array([train[i:i+10] for i in range(len(train) - 10)])\n",
    "y_train = np.array([train[i+0, 3] for i in range(len(train) - 10)])\n",
    "print(x_train.shape, y_train.shape)\n",
    "\n",
    "x_val = np.array([val[i:i+10] for i in range(len(val) - 10)])\n",
    "y_val = np.array([val[i+10, 3] for i in range(len(val) - 10)])\n",
    "print(x_val.shape, y_val.shape)\n",
    "\n",
    "x_test = np.array([test[i:i+10] for i in range(len(test) - 10)])\n",
    "y_test = np.array([test[i+10, 3] for i in range(len(test) - 10)])\n",
    "print(x_test.shape, y_test.shape)"
   ]
  },
  {
   "cell_type": "markdown",
   "metadata": {
    "id": "brD42KU93TNH"
   },
   "source": [
    "### Vanilla RNN 모델"
   ]
  },
  {
   "cell_type": "code",
   "execution_count": null,
   "metadata": {
    "id": "berX-l8fBNNP"
   },
   "outputs": [],
   "source": [
    "import tensorflow as tf"
   ]
  },
  {
   "cell_type": "markdown",
   "metadata": {
    "id": "uGyvvXc6FrFe"
   },
   "source": [
    "`1` 모델 설계"
   ]
  },
  {
   "cell_type": "code",
   "execution_count": null,
   "metadata": {
    "id": "BJmrPSma3cD-"
   },
   "outputs": [],
   "source": [
    "X = tf.keras.layers.Input(shape=[10, 5])\n",
    "H = tf.keras.layers.SimpleRNN(8)(X)\n",
    "Y = tf.keras.layers.Dense(1)(H)\n",
    "\n",
    "model = tf.keras.models.Model(X, Y)\n",
    "model.compile(loss='mse')"
   ]
  },
  {
   "cell_type": "code",
   "execution_count": null,
   "metadata": {
    "colab": {
     "base_uri": "https://localhost:8080/"
    },
    "executionInfo": {
     "elapsed": 7,
     "status": "ok",
     "timestamp": 1696983659653,
     "user": {
      "displayName": "ccc flkwerkdai",
      "userId": "13507850890638580947"
     },
     "user_tz": -540
    },
    "id": "83UNMICMKcNp",
    "outputId": "fd37f24f-6f7f-4d2e-e3e2-71c08ae271a3"
   },
   "outputs": [
    {
     "name": "stdout",
     "output_type": "stream",
     "text": [
      "Model: \"model_2\"\n",
      "_________________________________________________________________\n",
      " Layer (type)                Output Shape              Param #   \n",
      "=================================================================\n",
      " input_3 (InputLayer)        [(None, 10, 5)]           0         \n",
      "                                                                 \n",
      " simple_rnn (SimpleRNN)      (None, 8)                 112       \n",
      "                                                                 \n",
      " dense_2 (Dense)             (None, 1)                 9         \n",
      "                                                                 \n",
      "=================================================================\n",
      "Total params: 121 (484.00 Byte)\n",
      "Trainable params: 121 (484.00 Byte)\n",
      "Non-trainable params: 0 (0.00 Byte)\n",
      "_________________________________________________________________\n"
     ]
    }
   ],
   "source": [
    "model.summary()"
   ]
  },
  {
   "cell_type": "markdown",
   "metadata": {
    "id": "yTPugy7JFt78"
   },
   "source": [
    "`2` 모델 학습"
   ]
  },
  {
   "cell_type": "code",
   "execution_count": null,
   "metadata": {
    "colab": {
     "base_uri": "https://localhost:8080/"
    },
    "executionInfo": {
     "elapsed": 29272,
     "status": "ok",
     "timestamp": 1696983688921,
     "user": {
      "displayName": "ccc flkwerkdai",
      "userId": "13507850890638580947"
     },
     "user_tz": -540
    },
    "id": "tqrHQT1bBsIr",
    "outputId": "0e306528-4dea-4f01-de52-c9595dff46c8"
   },
   "outputs": [
    {
     "data": {
      "text/plain": [
       "<keras.src.callbacks.History at 0x7870c947c7f0>"
      ]
     },
     "execution_count": 33,
     "metadata": {},
     "output_type": "execute_result"
    }
   ],
   "source": [
    "model.fit(x_train, y_train, epochs = 10, validation_data = (x_val, y_val), verbose = 0)"
   ]
  },
  {
   "cell_type": "markdown",
   "metadata": {
    "id": "OiNGknaYFvg9"
   },
   "source": [
    "`3` 예측"
   ]
  },
  {
   "cell_type": "code",
   "execution_count": null,
   "metadata": {
    "colab": {
     "base_uri": "https://localhost:8080/"
    },
    "executionInfo": {
     "elapsed": 746,
     "status": "ok",
     "timestamp": 1696983689658,
     "user": {
      "displayName": "ccc flkwerkdai",
      "userId": "13507850890638580947"
     },
     "user_tz": -540
    },
    "id": "gvZchOIOFkr1",
    "outputId": "831a7146-fa82-4f01-bbc8-10a636ae7cc3"
   },
   "outputs": [
    {
     "name": "stdout",
     "output_type": "stream",
     "text": [
      "19/19 [==============================] - 0s 5ms/step\n"
     ]
    }
   ],
   "source": [
    "y_pred = model.predict(x_test)"
   ]
  },
  {
   "cell_type": "code",
   "execution_count": null,
   "metadata": {
    "colab": {
     "base_uri": "https://localhost:8080/",
     "height": 385
    },
    "executionInfo": {
     "elapsed": 1640,
     "status": "ok",
     "timestamp": 1696983691295,
     "user": {
      "displayName": "ccc flkwerkdai",
      "userId": "13507850890638580947"
     },
     "user_tz": -540
    },
    "id": "awmkQyfYFxEN",
    "outputId": "10c88529-0a7a-421e-867b-919ae42cdb72"
   },
   "outputs": [
    {
     "data": {
      "text/plain": [
       "<matplotlib.legend.Legend at 0x7870781f2d40>"
      ]
     },
     "execution_count": 35,
     "metadata": {},
     "output_type": "execute_result"
    },
    {
     "data": {
      "image/png": "[encoded data removed]",
      "text/plain": [
       "<Figure size 1200x400 with 1 Axes>"
      ]
     },
     "metadata": {},
     "output_type": "display_data"
    }
   ],
   "source": [
    "plt.figure(figsize = (12, 4))\n",
    "plt.plot(y_pred,label = r\"$\\hat y$\", alpha = 0.5)\n",
    "plt.plot(y_test ,label = r\"$y$\", alpha = 0.5)\n",
    "plt.legend()"
   ]
  },
  {
   "cell_type": "markdown",
   "metadata": {
    "id": "zGuTuh3ZLnc3"
   },
   "source": [
    "***"
   ]
  },
  {
   "cell_type": "markdown",
   "metadata": {
    "id": "W1_xZ44jLoRq"
   },
   "source": [
    "## 이미지 분류 모델"
   ]
  },
  {
   "cell_type": "code",
   "execution_count": null,
   "metadata": {
    "colab": {
     "base_uri": "https://localhost:8080/"
    },
    "executionInfo": {
     "elapsed": 744,
     "status": "ok",
     "timestamp": 1696983692035,
     "user": {
      "displayName": "ccc flkwerkdai",
      "userId": "13507850890638580947"
     },
     "user_tz": -540
    },
    "id": "k8g9EF7SLpdp",
    "outputId": "5c164000-82bc-44ac-a19f-3eee10832861"
   },
   "outputs": [
    {
     "name": "stdout",
     "output_type": "stream",
     "text": [
      "Downloading data from https://storage.googleapis.com/tensorflow/tf-keras-datasets/mnist.npz\n",
      "11490434/11490434 [==============================] - 0s 0us/step\n",
      "(60000, 28, 28) (60000,)\n"
     ]
    }
   ],
   "source": [
    "import tensorflow as tf\n",
    "\n",
    "# MNIST\n",
    "(x_train, y_train), (x_test, y_test) = tf.keras.datasets.mnist.load_data()\n",
    "print(x_train.shape, y_train.shape)\n",
    "# (60000, 28, 28) (60000,)"
   ]
  },
  {
   "cell_type": "markdown",
   "metadata": {
    "id": "x0_pGpR4LwMD"
   },
   "source": [
    "### 모델 1. RNN"
   ]
  },
  {
   "cell_type": "code",
   "execution_count": null,
   "metadata": {
    "colab": {
     "base_uri": "https://localhost:8080/"
    },
    "executionInfo": {
     "elapsed": 285,
     "status": "ok",
     "timestamp": 1696983692727,
     "user": {
      "displayName": "ccc flkwerkdai",
      "userId": "13507850890638580947"
     },
     "user_tz": -540
    },
    "id": "5oVJhJaELyb8",
    "outputId": "4e30bd13-39c9-4864-ea2b-99cffea98800"
   },
   "outputs": [
    {
     "name": "stdout",
     "output_type": "stream",
     "text": [
      "Model: \"model_3\"\n",
      "_________________________________________________________________\n",
      " Layer (type)                Output Shape              Param #   \n",
      "=================================================================\n",
      " input_4 (InputLayer)        [(None, 28, 28)]          0         \n",
      "                                                                 \n",
      " simple_rnn_1 (SimpleRNN)    (None, 32)                1952      \n",
      "                                                                 \n",
      " dense_3 (Dense)             (None, 10)                330       \n",
      "                                                                 \n",
      "=================================================================\n",
      "Total params: 2282 (8.91 KB)\n",
      "Trainable params: 2282 (8.91 KB)\n",
      "Non-trainable params: 0 (0.00 Byte)\n",
      "_________________________________________________________________\n"
     ]
    }
   ],
   "source": [
    "# 모델 생성\n",
    "X = tf.keras.layers.Input(shape=[28, 28])\n",
    "H = tf.keras.layers.SimpleRNN(32)(X)\n",
    "Y = tf.keras.layers.Dense(10, activation=\"softmax\")(H)\n",
    "\n",
    "model = tf.keras.Model(X, Y)\n",
    "model.compile(loss=\"sparse_categorical_crossentropy\",\n",
    "              metrics=\"accuracy\")\n",
    "model.summary()"
   ]
  },
  {
   "cell_type": "markdown",
   "metadata": {
    "id": "6yVYoQUxTfK9"
   },
   "source": [
    "`-` 은닉층에서 가중치 개수"
   ]
  },
  {
   "cell_type": "code",
   "execution_count": null,
   "metadata": {
    "colab": {
     "base_uri": "https://localhost:8080/"
    },
    "executionInfo": {
     "elapsed": 279,
     "status": "ok",
     "timestamp": 1696983693006,
     "user": {
      "displayName": "ccc flkwerkdai",
      "userId": "13507850890638580947"
     },
     "user_tz": -540
    },
    "id": "jXx7MUBgTGQ9",
    "outputId": "5e10f436-60a9-420e-c265-050ec220ef62"
   },
   "outputs": [
    {
     "data": {
      "text/plain": [
       "1952"
      ]
     },
     "execution_count": 42,
     "metadata": {},
     "output_type": "execute_result"
    }
   ],
   "source": [
    "32*((28+32)+1)"
   ]
  },
  {
   "cell_type": "markdown",
   "metadata": {
    "id": "pA9Qa-HjUskc"
   },
   "source": [
    "### 모델 2. RNN(`return_sqeuences = True`)"
   ]
  },
  {
   "cell_type": "markdown",
   "metadata": {
    "id": "gF-e10GyV6-l"
   },
   "source": [
    "* `many to many` : ppt 60 pages"
   ]
  },
  {
   "cell_type": "code",
   "execution_count": null,
   "metadata": {
    "colab": {
     "base_uri": "https://localhost:8080/"
    },
    "executionInfo": {
     "elapsed": 582,
     "status": "ok",
     "timestamp": 1696983693586,
     "user": {
      "displayName": "ccc flkwerkdai",
      "userId": "13507850890638580947"
     },
     "user_tz": -540
    },
    "id": "99w1Ja2tU0-0",
    "outputId": "2c077cb1-e7ca-4df5-b75f-b188bd2701c7"
   },
   "outputs": [
    {
     "name": "stdout",
     "output_type": "stream",
     "text": [
      "Model: \"model_4\"\n",
      "_________________________________________________________________\n",
      " Layer (type)                Output Shape              Param #   \n",
      "=================================================================\n",
      " input_5 (InputLayer)        [(None, 28, 28)]          0         \n",
      "                                                                 \n",
      " simple_rnn_2 (SimpleRNN)    (None, 28, 32)            1952      \n",
      "                                                                 \n",
      " dense_4 (Dense)             (None, 28, 10)            330       \n",
      "                                                                 \n",
      "=================================================================\n",
      "Total params: 2282 (8.91 KB)\n",
      "Trainable params: 2282 (8.91 KB)\n",
      "Non-trainable params: 0 (0.00 Byte)\n",
      "_________________________________________________________________\n"
     ]
    }
   ],
   "source": [
    "# 모델 생성\n",
    "X = tf.keras.layers.Input(shape=[28, 28])\n",
    "H = tf.keras.layers.SimpleRNN(32, return_sequences = True)(X) ## 마지막 32번쩨가 아닌 전체 1~32번쨰까지  모두 꺼냄\n",
    "Y = tf.keras.layers.Dense(10, activation=\"softmax\")(H)\n",
    "\n",
    "model = tf.keras.Model(X, Y)\n",
    "model.compile(loss=\"sparse_categorical_crossentropy\",\n",
    "              metrics=\"accuracy\")\n",
    "model.summary()"
   ]
  },
  {
   "cell_type": "code",
   "execution_count": null,
   "metadata": {
    "colab": {
     "base_uri": "https://localhost:8080/",
     "height": 810
    },
    "executionInfo": {
     "elapsed": 1442,
     "status": "error",
     "timestamp": 1696983695027,
     "user": {
      "displayName": "ccc flkwerkdai",
      "userId": "13507850890638580947"
     },
     "user_tz": -540
    },
    "id": "IBPL3fAAXr8C",
    "outputId": "c11a5e44-af9d-4cf3-9cca-99f5651dab2f"
   },
   "outputs": [
    {
     "name": "stdout",
     "output_type": "stream",
     "text": [
      "Epoch 1/10\n"
     ]
    },
    {
     "ename": "ValueError",
     "evalue": "ignored",
     "output_type": "error",
     "traceback": [
      "\u001b[0;31m---------------------------------------------------------------------------\u001b[0m",
      "\u001b[0;31mValueError\u001b[0m                                Traceback (most recent call last)",
      "\u001b[0;32m<ipython-input-44-2adcfe9bbe07>\u001b[0m in \u001b[0;36m<cell line: 2>\u001b[0;34m()\u001b[0m\n\u001b[1;32m      1\u001b[0m \u001b[0;31m# 학습\u001b[0m\u001b[0;34m\u001b[0m\u001b[0;34m\u001b[0m\u001b[0m\n\u001b[0;32m----> 2\u001b[0;31m model.fit(x_train, y_train, epochs=10,\n\u001b[0m\u001b[1;32m      3\u001b[0m           batch_size=128, validation_split=0.2)\n\u001b[1;32m      4\u001b[0m \u001b[0;34m\u001b[0m\u001b[0m\n\u001b[1;32m      5\u001b[0m \u001b[0;31m# 평가\u001b[0m\u001b[0;34m\u001b[0m\u001b[0;34m\u001b[0m\u001b[0m\n",
      "\u001b[0;32m/usr/local/lib/python3.10/dist-packages/keras/src/utils/traceback_utils.py\u001b[0m in \u001b[0;36merror_handler\u001b[0;34m(*args, **kwargs)\u001b[0m\n\u001b[1;32m     68\u001b[0m             \u001b[0;31m# To get the full stack trace, call:\u001b[0m\u001b[0;34m\u001b[0m\u001b[0;34m\u001b[0m\u001b[0m\n\u001b[1;32m     69\u001b[0m             \u001b[0;31m# `tf.debugging.disable_traceback_filtering()`\u001b[0m\u001b[0;34m\u001b[0m\u001b[0;34m\u001b[0m\u001b[0m\n\u001b[0;32m---> 70\u001b[0;31m             \u001b[0;32mraise\u001b[0m \u001b[0me\u001b[0m\u001b[0;34m.\u001b[0m\u001b[0mwith_traceback\u001b[0m\u001b[0;34m(\u001b[0m\u001b[0mfiltered_tb\u001b[0m\u001b[0;34m)\u001b[0m \u001b[0;32mfrom\u001b[0m \u001b[0;32mNone\u001b[0m\u001b[0;34m\u001b[0m\u001b[0;34m\u001b[0m\u001b[0m\n\u001b[0m\u001b[1;32m     71\u001b[0m         \u001b[0;32mfinally\u001b[0m\u001b[0;34m:\u001b[0m\u001b[0;34m\u001b[0m\u001b[0;34m\u001b[0m\u001b[0m\n\u001b[1;32m     72\u001b[0m             \u001b[0;32mdel\u001b[0m \u001b[0mfiltered_tb\u001b[0m\u001b[0;34m\u001b[0m\u001b[0;34m\u001b[0m\u001b[0m\n",
      "\u001b[0;32m/usr/local/lib/python3.10/dist-packages/keras/src/engine/training.py\u001b[0m in \u001b[0;36mtf__train_function\u001b[0;34m(iterator)\u001b[0m\n\u001b[1;32m     13\u001b[0m                 \u001b[0;32mtry\u001b[0m\u001b[0;34m:\u001b[0m\u001b[0;34m\u001b[0m\u001b[0;34m\u001b[0m\u001b[0m\n\u001b[1;32m     14\u001b[0m                     \u001b[0mdo_return\u001b[0m \u001b[0;34m=\u001b[0m \u001b[0;32mTrue\u001b[0m\u001b[0;34m\u001b[0m\u001b[0;34m\u001b[0m\u001b[0m\n\u001b[0;32m---> 15\u001b[0;31m                     \u001b[0mretval_\u001b[0m \u001b[0;34m=\u001b[0m \u001b[0mag__\u001b[0m\u001b[0;34m.\u001b[0m\u001b[0mconverted_call\u001b[0m\u001b[0;34m(\u001b[0m\u001b[0mag__\u001b[0m\u001b[0;34m.\u001b[0m\u001b[0mld\u001b[0m\u001b[0;34m(\u001b[0m\u001b[0mstep_function\u001b[0m\u001b[0;34m)\u001b[0m\u001b[0;34m,\u001b[0m \u001b[0;34m(\u001b[0m\u001b[0mag__\u001b[0m\u001b[0;34m.\u001b[0m\u001b[0mld\u001b[0m\u001b[0;34m(\u001b[0m\u001b[0mself\u001b[0m\u001b[0;34m)\u001b[0m\u001b[0;34m,\u001b[0m \u001b[0mag__\u001b[0m\u001b[0;34m.\u001b[0m\u001b[0mld\u001b[0m\u001b[0;34m(\u001b[0m\u001b[0miterator\u001b[0m\u001b[0;34m)\u001b[0m\u001b[0;34m)\u001b[0m\u001b[0;34m,\u001b[0m \u001b[0;32mNone\u001b[0m\u001b[0;34m,\u001b[0m \u001b[0mfscope\u001b[0m\u001b[0;34m)\u001b[0m\u001b[0;34m\u001b[0m\u001b[0;34m\u001b[0m\u001b[0m\n\u001b[0m\u001b[1;32m     16\u001b[0m                 \u001b[0;32mexcept\u001b[0m\u001b[0;34m:\u001b[0m\u001b[0;34m\u001b[0m\u001b[0;34m\u001b[0m\u001b[0m\n\u001b[1;32m     17\u001b[0m                     \u001b[0mdo_return\u001b[0m \u001b[0;34m=\u001b[0m \u001b[0;32mFalse\u001b[0m\u001b[0;34m\u001b[0m\u001b[0;34m\u001b[0m\u001b[0m\n",
      "\u001b[0;31mValueError\u001b[0m: in user code:\n\n    File \"/usr/local/lib/python3.10/dist-packages/keras/src/engine/training.py\", line 1338, in train_function  *\n        return step_function(self, iterator)\n    File \"/usr/local/lib/python3.10/dist-packages/keras/src/engine/training.py\", line 1322, in step_function  **\n        outputs = model.distribute_strategy.run(run_step, args=(data,))\n    File \"/usr/local/lib/python3.10/dist-packages/keras/src/engine/training.py\", line 1303, in run_step  **\n        outputs = model.train_step(data)\n    File \"/usr/local/lib/python3.10/dist-packages/keras/src/engine/training.py\", line 1081, in train_step\n        loss = self.compute_loss(x, y, y_pred, sample_weight)\n    File \"/usr/local/lib/python3.10/dist-packages/keras/src/engine/training.py\", line 1139, in compute_loss\n        return self.compiled_loss(\n    File \"/usr/local/lib/python3.10/dist-packages/keras/src/engine/compile_utils.py\", line 265, in __call__\n        loss_value = loss_obj(y_t, y_p, sample_weight=sw)\n    File \"/usr/local/lib/python3.10/dist-packages/keras/src/losses.py\", line 142, in __call__\n        losses = call_fn(y_true, y_pred)\n    File \"/usr/local/lib/python3.10/dist-packages/keras/src/losses.py\", line 268, in call  **\n        return ag_fn(y_true, y_pred, **self._fn_kwargs)\n    File \"/usr/local/lib/python3.10/dist-packages/keras/src/losses.py\", line 2354, in sparse_categorical_crossentropy\n        return backend.sparse_categorical_crossentropy(\n    File \"/usr/local/lib/python3.10/dist-packages/keras/src/backend.py\", line 5762, in sparse_categorical_crossentropy\n        res = tf.nn.sparse_softmax_cross_entropy_with_logits(\n\n    ValueError: `labels.shape` must equal `logits.shape` except for the last dimension. Received: labels.shape=(128,) and logits.shape=(3584, 10)\n"
     ]
    }
   ],
   "source": [
    "# 학습\n",
    "model.fit(x_train, y_train, epochs=10,\n",
    "          batch_size=128, validation_split=0.2)\n",
    "\n",
    "# 평가\n",
    "model.evaluate(x_test, y_test)"
   ]
  },
  {
   "cell_type": "markdown",
   "metadata": {
    "id": "la1j7UfYWIN0"
   },
   "source": [
    "`-` 학습시 에러가 나는 이유는 현재 many to many 형태이기 때문임. 따라서 다음과 같은 은닉층을 추가"
   ]
  },
  {
   "cell_type": "code",
   "execution_count": null,
   "metadata": {
    "colab": {
     "base_uri": "https://localhost:8080/"
    },
    "executionInfo": {
     "elapsed": 4,
     "status": "ok",
     "timestamp": 1696983767010,
     "user": {
      "displayName": "ccc flkwerkdai",
      "userId": "13507850890638580947"
     },
     "user_tz": -540
    },
    "id": "V8X9edlZaP5R",
    "outputId": "cdc467e4-e9fd-482c-c590-91b914428835"
   },
   "outputs": [
    {
     "data": {
      "text/plain": [
       "(60000, 28, 28)"
      ]
     },
     "execution_count": 45,
     "metadata": {},
     "output_type": "execute_result"
    }
   ],
   "source": [
    "x_train.shape"
   ]
  },
  {
   "cell_type": "code",
   "execution_count": null,
   "metadata": {
    "colab": {
     "base_uri": "https://localhost:8080/"
    },
    "executionInfo": {
     "elapsed": 440,
     "status": "ok",
     "timestamp": 1696983769494,
     "user": {
      "displayName": "ccc flkwerkdai",
      "userId": "13507850890638580947"
     },
     "user_tz": -540
    },
    "id": "nR-Uv68HWVSE",
    "outputId": "29083736-b594-4ff3-8f3d-ea12787e634a"
   },
   "outputs": [
    {
     "name": "stdout",
     "output_type": "stream",
     "text": [
      "Model: \"model_5\"\n",
      "_________________________________________________________________\n",
      " Layer (type)                Output Shape              Param #   \n",
      "=================================================================\n",
      " input_6 (InputLayer)        [(None, 28, 28)]          0         \n",
      "                                                                 \n",
      " simple_rnn_3 (SimpleRNN)    (None, 28, 32)            1952      \n",
      "                                                                 \n",
      " global_average_pooling1d (  (None, 32)                0         \n",
      " GlobalAveragePooling1D)                                         \n",
      "                                                                 \n",
      " dense_5 (Dense)             (None, 10)                330       \n",
      "                                                                 \n",
      "=================================================================\n",
      "Total params: 2282 (8.91 KB)\n",
      "Trainable params: 2282 (8.91 KB)\n",
      "Non-trainable params: 0 (0.00 Byte)\n",
      "_________________________________________________________________\n"
     ]
    }
   ],
   "source": [
    "# 모델 생성\n",
    "X = tf.keras.layers.Input(shape=[28, 28])\n",
    "H = tf.keras.layers.SimpleRNN(32, return_sequences = True)(X) ## 마지막 28일 차가 아닌 전체 1~28일 을 모두 꺼냄\n",
    "H = tf.keras.layers.GlobalAveragePooling1D()(H) ## 꺼낸 28일차 데이터를 평균내줌\n",
    "Y = tf.keras.layers.Dense(10, activation=\"softmax\")(H)\n",
    "\n",
    "model = tf.keras.Model(X, Y)\n",
    "model.compile(loss=\"sparse_categorical_crossentropy\",\n",
    "              metrics=\"accuracy\")\n",
    "model.summary()"
   ]
  },
  {
   "cell_type": "code",
   "execution_count": null,
   "metadata": {
    "colab": {
     "base_uri": "https://localhost:8080/"
    },
    "executionInfo": {
     "elapsed": 85250,
     "status": "ok",
     "timestamp": 1696983856718,
     "user": {
      "displayName": "ccc flkwerkdai",
      "userId": "13507850890638580947"
     },
     "user_tz": -540
    },
    "id": "pIiIBvyJWGtV",
    "outputId": "3373bab0-5408-4cad-8fea-4a2eccfadae7"
   },
   "outputs": [
    {
     "name": "stdout",
     "output_type": "stream",
     "text": [
      "Epoch 1/10\n",
      "375/375 [==============================] - 9s 20ms/step - loss: 1.7922 - accuracy: 0.4506 - val_loss: 1.4524 - val_accuracy: 0.5940\n",
      "Epoch 2/10\n",
      "375/375 [==============================] - 6s 17ms/step - loss: 1.3072 - accuracy: 0.6311 - val_loss: 1.1465 - val_accuracy: 0.6837\n",
      "Epoch 3/10\n",
      "375/375 [==============================] - 6s 15ms/step - loss: 1.0861 - accuracy: 0.6901 - val_loss: 0.9764 - val_accuracy: 0.7306\n",
      "Epoch 4/10\n",
      "375/375 [==============================] - 7s 18ms/step - loss: 0.9554 - accuracy: 0.7231 - val_loss: 0.8709 - val_accuracy: 0.7572\n",
      "Epoch 5/10\n",
      "375/375 [==============================] - 6s 16ms/step - loss: 0.8694 - accuracy: 0.7439 - val_loss: 0.8000 - val_accuracy: 0.7725\n",
      "Epoch 6/10\n",
      "375/375 [==============================] - 6s 15ms/step - loss: 0.8092 - accuracy: 0.7583 - val_loss: 0.7491 - val_accuracy: 0.7807\n",
      "Epoch 7/10\n",
      "375/375 [==============================] - 7s 19ms/step - loss: 0.7634 - accuracy: 0.7705 - val_loss: 0.7104 - val_accuracy: 0.7936\n",
      "Epoch 8/10\n",
      "375/375 [==============================] - 6s 15ms/step - loss: 0.7286 - accuracy: 0.7811 - val_loss: 0.6843 - val_accuracy: 0.7949\n",
      "Epoch 9/10\n",
      "375/375 [==============================] - 7s 18ms/step - loss: 0.7004 - accuracy: 0.7873 - val_loss: 0.6561 - val_accuracy: 0.8032\n",
      "Epoch 10/10\n",
      "375/375 [==============================] - 6s 16ms/step - loss: 0.6782 - accuracy: 0.7938 - val_loss: 0.6352 - val_accuracy: 0.8084\n",
      "313/313 [==============================] - 2s 6ms/step - loss: 0.6648 - accuracy: 0.7976\n"
     ]
    },
    {
     "data": {
      "text/plain": [
       "[0.6647534370422363, 0.7975999712944031]"
      ]
     },
     "execution_count": 47,
     "metadata": {},
     "output_type": "execute_result"
    }
   ],
   "source": [
    "# 학습\n",
    "model.fit(x_train, y_train, epochs=10,\n",
    "          batch_size=128, validation_split=0.2)\n",
    "\n",
    "# 평가\n",
    "model.evaluate(x_test, y_test)"
   ]
  },
  {
   "cell_type": "markdown",
   "metadata": {
    "id": "uL_x4wXzVOWv"
   },
   "source": [
    "`-` return_sequences = True"
   ]
  },
  {
   "cell_type": "markdown",
   "metadata": {
    "id": "2x5D3KnvVYC0"
   },
   "source": [
    "*  `simple_rnn_6 (SimpleRNN)    (None, 28, 32)`"
   ]
  },
  {
   "cell_type": "markdown",
   "metadata": {
    "id": "311G9MMnVanU"
   },
   "source": [
    "`-` return_sequences = False"
   ]
  },
  {
   "cell_type": "markdown",
   "metadata": {
    "id": "yTKIQ5TgVcu0"
   },
   "source": [
    "*  `simple_rnn_3 (SimpleRNN)    (None, 32)`"
   ]
  },
  {
   "cell_type": "markdown",
   "metadata": {
    "id": "lRdK1Kencobf"
   },
   "source": [
    "### 모델3. LSTM"
   ]
  },
  {
   "cell_type": "code",
   "execution_count": null,
   "metadata": {
    "colab": {
     "base_uri": "https://localhost:8080/"
    },
    "executionInfo": {
     "elapsed": 590,
     "status": "ok",
     "timestamp": 1696983857306,
     "user": {
      "displayName": "ccc flkwerkdai",
      "userId": "13507850890638580947"
     },
     "user_tz": -540
    },
    "id": "M6IjMGolcqn_",
    "outputId": "25fbcf1b-092f-4b59-c322-bfadfb32a948"
   },
   "outputs": [
    {
     "name": "stdout",
     "output_type": "stream",
     "text": [
      "Model: \"model_6\"\n",
      "_________________________________________________________________\n",
      " Layer (type)                Output Shape              Param #   \n",
      "=================================================================\n",
      " input_7 (InputLayer)        [(None, 28, 28)]          0         \n",
      "                                                                 \n",
      " lstm (LSTM)                 (None, 32)                7808      \n",
      "                                                                 \n",
      " dense_6 (Dense)             (None, 10)                330       \n",
      "                                                                 \n",
      "=================================================================\n",
      "Total params: 8138 (31.79 KB)\n",
      "Trainable params: 8138 (31.79 KB)\n",
      "Non-trainable params: 0 (0.00 Byte)\n",
      "_________________________________________________________________\n"
     ]
    }
   ],
   "source": [
    "# 모델 생성\n",
    "X = tf.keras.layers.Input(shape=[28, 28])\n",
    "H = tf.keras.layers.LSTM(32)(X)\n",
    "Y = tf.keras.layers.Dense(10, activation=\"softmax\")(H)\n",
    "\n",
    "model = tf.keras.Model(X, Y)\n",
    "model.compile(loss=\"sparse_categorical_crossentropy\",\n",
    "              metrics=\"accuracy\")\n",
    "model.summary()"
   ]
  },
  {
   "cell_type": "code",
   "execution_count": null,
   "metadata": {
    "colab": {
     "base_uri": "https://localhost:8080/"
    },
    "executionInfo": {
     "elapsed": 28011,
     "status": "ok",
     "timestamp": 1696983885315,
     "user": {
      "displayName": "ccc flkwerkdai",
      "userId": "13507850890638580947"
     },
     "user_tz": -540
    },
    "id": "GNjiRzcpcuFf",
    "outputId": "98231665-78a8-496b-91a3-9e53d0fa9d3d"
   },
   "outputs": [
    {
     "name": "stdout",
     "output_type": "stream",
     "text": [
      "Epoch 1/10\n",
      "375/375 [==============================] - 5s 6ms/step - loss: 1.2481 - accuracy: 0.6010 - val_loss: 0.6712 - val_accuracy: 0.7987\n",
      "Epoch 2/10\n",
      "375/375 [==============================] - 2s 5ms/step - loss: 0.5351 - accuracy: 0.8384 - val_loss: 0.3981 - val_accuracy: 0.8808\n",
      "Epoch 3/10\n",
      "375/375 [==============================] - 2s 6ms/step - loss: 0.3515 - accuracy: 0.8941 - val_loss: 0.2863 - val_accuracy: 0.9165\n",
      "Epoch 4/10\n",
      "375/375 [==============================] - 2s 6ms/step - loss: 0.2719 - accuracy: 0.9174 - val_loss: 0.2208 - val_accuracy: 0.9338\n",
      "Epoch 5/10\n",
      "375/375 [==============================] - 2s 5ms/step - loss: 0.2232 - accuracy: 0.9331 - val_loss: 0.1885 - val_accuracy: 0.9453\n",
      "Epoch 6/10\n",
      "375/375 [==============================] - 3s 7ms/step - loss: 0.1875 - accuracy: 0.9447 - val_loss: 0.1703 - val_accuracy: 0.9510\n",
      "Epoch 7/10\n",
      "375/375 [==============================] - 2s 6ms/step - loss: 0.1632 - accuracy: 0.9518 - val_loss: 0.2068 - val_accuracy: 0.9398\n",
      "Epoch 8/10\n",
      "375/375 [==============================] - 3s 8ms/step - loss: 0.1455 - accuracy: 0.9561 - val_loss: 0.1381 - val_accuracy: 0.9596\n",
      "Epoch 9/10\n",
      "375/375 [==============================] - 4s 11ms/step - loss: 0.1310 - accuracy: 0.9616 - val_loss: 0.1301 - val_accuracy: 0.9607\n",
      "Epoch 10/10\n",
      "375/375 [==============================] - 2s 6ms/step - loss: 0.1178 - accuracy: 0.9651 - val_loss: 0.1160 - val_accuracy: 0.9662\n"
     ]
    },
    {
     "data": {
      "text/plain": [
       "<keras.src.callbacks.History at 0x7870280f2350>"
      ]
     },
     "execution_count": 49,
     "metadata": {},
     "output_type": "execute_result"
    }
   ],
   "source": [
    "# 학습\n",
    "x_train = x_train / 255\n",
    "x_test = x_test / 255\n",
    "\n",
    "model.fit(x_train, y_train, epochs=10,\n",
    "          batch_size=128, validation_split=0.2)"
   ]
  },
  {
   "cell_type": "code",
   "execution_count": null,
   "metadata": {
    "colab": {
     "base_uri": "https://localhost:8080/"
    },
    "executionInfo": {
     "elapsed": 1631,
     "status": "ok",
     "timestamp": 1696983886943,
     "user": {
      "displayName": "ccc flkwerkdai",
      "userId": "13507850890638580947"
     },
     "user_tz": -540
    },
    "id": "T909tAivdXIY",
    "outputId": "a061cea7-5de2-4038-aab3-1532951c56bd"
   },
   "outputs": [
    {
     "name": "stdout",
     "output_type": "stream",
     "text": [
      "313/313 [==============================] - 1s 3ms/step - loss: 0.1152 - accuracy: 0.9651\n"
     ]
    },
    {
     "data": {
      "text/plain": [
       "[0.11523875594139099, 0.9650999903678894]"
      ]
     },
     "execution_count": 50,
     "metadata": {},
     "output_type": "execute_result"
    }
   ],
   "source": [
    "model.evaluate(x_test, y_test)"
   ]
  },
  {
   "cell_type": "markdown",
   "metadata": {
    "id": "xSPfo03ZksFS"
   },
   "source": [
    "***"
   ]
  },
  {
   "cell_type": "markdown",
   "metadata": {
    "id": "h1999KMvHX3C"
   },
   "source": [
    "## 텍스트 분류"
   ]
  },
  {
   "cell_type": "markdown",
   "metadata": {
    "id": "-AaA3RF3cEw6"
   },
   "source": [
    "### 데이터 이해 및 정리"
   ]
  },
  {
   "cell_type": "markdown",
   "metadata": {
    "id": "PM3yeBp8Mdhc"
   },
   "source": [
    "`-` IMDB 영화 리뷰 데이터"
   ]
  },
  {
   "cell_type": "code",
   "execution_count": 3,
   "metadata": {
    "colab": {
     "base_uri": "https://localhost:8080/"
    },
    "executionInfo": {
     "elapsed": 10321,
     "status": "ok",
     "timestamp": 1696998581583,
     "user": {
      "displayName": "ccc flkwerkdai",
      "userId": "13507850890638580947"
     },
     "user_tz": -540
    },
    "id": "Lc_g-9-9Hvzz",
    "outputId": "98984957-7616-4f72-d111-d9dbc055edca"
   },
   "outputs": [
    {
     "name": "stdout",
     "output_type": "stream",
     "text": [
      "(25000,) (25000,)\n",
      "(25000,) (25000,)\n",
      "(25000, 20) (25000,)\n",
      "(25000, 20) (25000,)\n"
     ]
    }
   ],
   "source": [
    "import tensorflow as tf\n",
    "import numpy as np\n",
    "\n",
    "(x_train, y_train), (x_test, y_test) = tf.keras.datasets.imdb.load_data()\n",
    "\n",
    "print(x_train.shape, y_train.shape)\n",
    "print(x_test.shape, y_test.shape)\n",
    "\n",
    "x_train = tf.keras.utils.pad_sequences(x_train, maxlen=20)\n",
    "x_test = tf.keras.utils.pad_sequences(x_test, maxlen=20)\n",
    "\n",
    "print(x_train.shape, y_train.shape)\n",
    "print(x_test.shape, y_test.shape)"
   ]
  },
  {
   "cell_type": "code",
   "execution_count": 4,
   "metadata": {
    "colab": {
     "base_uri": "https://localhost:8080/"
    },
    "executionInfo": {
     "elapsed": 374,
     "status": "ok",
     "timestamp": 1696998589849,
     "user": {
      "displayName": "ccc flkwerkdai",
      "userId": "13507850890638580947"
     },
     "user_tz": -540
    },
    "id": "GedTBSB0MgrD",
    "outputId": "66e04902-3892-4189-b264-12eecff8fd39"
   },
   "outputs": [
    {
     "data": {
      "text/plain": [
       "(array([0, 1]), array([12500, 12500]))"
      ]
     },
     "execution_count": 4,
     "metadata": {},
     "output_type": "execute_result"
    }
   ],
   "source": [
    "np.unique(y_train, return_counts = True)"
   ]
  },
  {
   "cell_type": "markdown",
   "metadata": {
    "id": "NblDZwR9QZZt"
   },
   "source": [
    "`-` 데이터는 이미 정수 인코딩 되어있음."
   ]
  },
  {
   "cell_type": "code",
   "execution_count": 5,
   "metadata": {
    "colab": {
     "base_uri": "https://localhost:8080/"
    },
    "executionInfo": {
     "elapsed": 4,
     "status": "ok",
     "timestamp": 1696998590552,
     "user": {
      "displayName": "ccc flkwerkdai",
      "userId": "13507850890638580947"
     },
     "user_tz": -540
    },
    "id": "dPQ8e8_qNkt8",
    "outputId": "b9b48daf-a4b0-488e-9ac7-98318150c175"
   },
   "outputs": [
    {
     "data": {
      "text/plain": [
       "array([  65,   16,   38, 1334,   88,   12,   16,  283,    5,   16, 4472,\n",
       "        113,  103,   32,   15,   16, 5345,   19,  178,   32], dtype=int32)"
      ]
     },
     "execution_count": 5,
     "metadata": {},
     "output_type": "execute_result"
    }
   ],
   "source": [
    "x_train[0]"
   ]
  },
  {
   "cell_type": "markdown",
   "metadata": {
    "id": "7S4GvLtoaKWZ"
   },
   "source": [
    "`-` word2index $\\to$ index2word"
   ]
  },
  {
   "cell_type": "code",
   "execution_count": 6,
   "metadata": {
    "colab": {
     "base_uri": "https://localhost:8080/",
     "height": 71
    },
    "executionInfo": {
     "elapsed": 651,
     "status": "ok",
     "timestamp": 1696998593200,
     "user": {
      "displayName": "ccc flkwerkdai",
      "userId": "13507850890638580947"
     },
     "user_tz": -540
    },
    "id": "SydFBS2RaL5p",
    "outputId": "d85f4eed-8d98-4e1a-f409-3b212ed53597"
   },
   "outputs": [
    {
     "name": "stdout",
     "output_type": "stream",
     "text": [
      "Downloading data from https://storage.googleapis.com/tensorflow/tf-keras-datasets/imdb_word_index.json\n",
      "1641221/1641221 [==============================] - 0s 0us/step\n"
     ]
    },
    {
     "data": {
      "application/vnd.google.colaboratory.intrinsic+json": {
       "type": "string"
      },
      "text/plain": [
       "'to'"
      ]
     },
     "execution_count": 6,
     "metadata": {},
     "output_type": "execute_result"
    }
   ],
   "source": [
    "word2index =  tf.keras.datasets.imdb.get_word_index() ## tensorflow에 내장된 단어 사전 이용\n",
    "index2word = { i  : w  for w, i in  word2index.items()}\n",
    "index2word[5]"
   ]
  },
  {
   "cell_type": "markdown",
   "metadata": {
    "id": "8My1Inymb2qZ"
   },
   "source": [
    "`-` 리뷰글 출력 (그냥 확인을 위해)"
   ]
  },
  {
   "cell_type": "code",
   "execution_count": 7,
   "metadata": {
    "colab": {
     "base_uri": "https://localhost:8080/"
    },
    "executionInfo": {
     "elapsed": 298,
     "status": "ok",
     "timestamp": 1696998594882,
     "user": {
      "displayName": "ccc flkwerkdai",
      "userId": "13507850890638580947"
     },
     "user_tz": -540
    },
    "id": "evIjL9Ncap7p",
    "outputId": "0499d3a8-f917-4383-abc6-651325add99d"
   },
   "outputs": [
    {
     "name": "stdout",
     "output_type": "stream",
     "text": [
      "['their', 'with', 'her', 'nobody', 'most', 'that', 'with', \"wasn't\", 'to', 'with', 'armed', 'acting', 'watch', 'an', 'for', 'with', 'heartfelt', 'film', 'want', 'an']\n",
      "their with her nobody most that with wasn't to with armed acting watch an for with heartfelt film want an\n"
     ]
    }
   ],
   "source": [
    "words = [index2word[i] for i in x_train[0]]\n",
    "print(words) ## 단어 확인\n",
    "print(\" \".join(words)) ## 단어를 공백 기준으로 붙임"
   ]
  },
  {
   "cell_type": "markdown",
   "metadata": {
    "id": "kYoDr_vOb9uj"
   },
   "source": [
    "### 모델링 1. `SimpleRNN` + `Embedding`"
   ]
  },
  {
   "cell_type": "code",
   "execution_count": 8,
   "metadata": {
    "colab": {
     "base_uri": "https://localhost:8080/"
    },
    "executionInfo": {
     "elapsed": 2851,
     "status": "ok",
     "timestamp": 1696998599566,
     "user": {
      "displayName": "ccc flkwerkdai",
      "userId": "13507850890638580947"
     },
     "user_tz": -540
    },
    "id": "LGbGN-qucMTS",
    "outputId": "2793cd56-4114-4ae5-ed8b-ac0f73256208"
   },
   "outputs": [
    {
     "name": "stdout",
     "output_type": "stream",
     "text": [
      "Model: \"model\"\n",
      "_________________________________________________________________\n",
      " Layer (type)                Output Shape              Param #   \n",
      "=================================================================\n",
      " input_1 (InputLayer)        [(None, 20)]              0         \n",
      "                                                                 \n",
      " embedding (Embedding)       (None, 20, 28)            2480380   \n",
      "                                                                 \n",
      " simple_rnn (SimpleRNN)      (None, 32)                1952      \n",
      "                                                                 \n",
      " dense (Dense)               (None, 1)                 33        \n",
      "                                                                 \n",
      "=================================================================\n",
      "Total params: 2482365 (9.47 MB)\n",
      "Trainable params: 2482365 (9.47 MB)\n",
      "Non-trainable params: 0 (0.00 Byte)\n",
      "_________________________________________________________________\n"
     ]
    }
   ],
   "source": [
    "import tensorflow as tf\n",
    "\n",
    "X = tf.keras.Input(shape = [20])\n",
    "H = tf.keras.layers.Embedding(88585, 28)(X) ## 88,584개의 단어인데 1개 더 추가한 이유는 패딩에서 비어있는 값을 0으로 표현하기 때문\n",
    "H = tf.keras.layers.SimpleRNN(32)(H)\n",
    "Y = tf.keras.layers.Dense(1, activation=\"sigmoid\")(H)\n",
    "\n",
    "model = tf.keras.Model(X, Y)\n",
    "model.compile(loss=\"binary_crossentropy\", metrics=\"accuracy\")\n",
    "\n",
    "model.summary()"
   ]
  },
  {
   "cell_type": "markdown",
   "metadata": {
    "id": "fUVikXPojIaN"
   },
   "source": [
    "`-` 잠깐 임베딩 파라미터 계산"
   ]
  },
  {
   "cell_type": "code",
   "execution_count": 9,
   "metadata": {
    "colab": {
     "base_uri": "https://localhost:8080/"
    },
    "executionInfo": {
     "elapsed": 5,
     "status": "ok",
     "timestamp": 1696998599566,
     "user": {
      "displayName": "ccc flkwerkdai",
      "userId": "13507850890638580947"
     },
     "user_tz": -540
    },
    "id": "QaZ-69ApjJns",
    "outputId": "eadc2f5b-445f-4700-c03b-44d45f36da6b"
   },
   "outputs": [
    {
     "data": {
      "text/plain": [
       "2480380"
      ]
     },
     "execution_count": 9,
     "metadata": {},
     "output_type": "execute_result"
    }
   ],
   "source": [
    "88585*28 # 아걍 고유 단어 수 x 임베딩 차원 수"
   ]
  },
  {
   "cell_type": "markdown",
   "metadata": {
    "id": "zR_K-Z5Nj12G"
   },
   "source": [
    "`-` RNN 파라미터 계산"
   ]
  },
  {
   "cell_type": "markdown",
   "metadata": {
    "id": "sYQSqY7vj321"
   },
   "source": [
    "* 시계열 데이터라고 생각하면 20일치 데이터를 28개의 차원으로 전달하는 것임"
   ]
  },
  {
   "cell_type": "code",
   "execution_count": 10,
   "metadata": {
    "colab": {
     "base_uri": "https://localhost:8080/"
    },
    "executionInfo": {
     "elapsed": 3,
     "status": "ok",
     "timestamp": 1696998599566,
     "user": {
      "displayName": "ccc flkwerkdai",
      "userId": "13507850890638580947"
     },
     "user_tz": -540
    },
    "id": "yEhQRFtDkD51",
    "outputId": "9f6ffee7-d6eb-41be-f57b-8e8c3db62485"
   },
   "outputs": [
    {
     "data": {
      "text/plain": [
       "1952"
      ]
     },
     "execution_count": 10,
     "metadata": {},
     "output_type": "execute_result"
    }
   ],
   "source": [
    "32*((28+32)+1)"
   ]
  },
  {
   "cell_type": "code",
   "execution_count": 11,
   "metadata": {
    "colab": {
     "base_uri": "https://localhost:8080/"
    },
    "executionInfo": {
     "elapsed": 203214,
     "status": "ok",
     "timestamp": 1696998802779,
     "user": {
      "displayName": "ccc flkwerkdai",
      "userId": "13507850890638580947"
     },
     "user_tz": -540
    },
    "id": "7W7XVNa6hKBE",
    "outputId": "79de653c-0b11-4f79-ffab-0012346c2552"
   },
   "outputs": [
    {
     "name": "stdout",
     "output_type": "stream",
     "text": [
      "Epoch 1/10\n",
      "625/625 [==============================] - 30s 38ms/step - loss: 0.5854 - accuracy: 0.6722 - val_loss: 0.5137 - val_accuracy: 0.7438\n",
      "Epoch 2/10\n",
      "625/625 [==============================] - 18s 29ms/step - loss: 0.4192 - accuracy: 0.8105 - val_loss: 0.5079 - val_accuracy: 0.7494\n",
      "Epoch 3/10\n",
      "625/625 [==============================] - 13s 21ms/step - loss: 0.3187 - accuracy: 0.8665 - val_loss: 0.5537 - val_accuracy: 0.7392\n",
      "Epoch 4/10\n",
      "625/625 [==============================] - 11s 18ms/step - loss: 0.2163 - accuracy: 0.9176 - val_loss: 0.6442 - val_accuracy: 0.7280\n",
      "Epoch 5/10\n",
      "625/625 [==============================] - 13s 21ms/step - loss: 0.1323 - accuracy: 0.9513 - val_loss: 0.8045 - val_accuracy: 0.7280\n",
      "Epoch 6/10\n",
      "625/625 [==============================] - 15s 23ms/step - loss: 0.0766 - accuracy: 0.9726 - val_loss: 0.9050 - val_accuracy: 0.7040\n",
      "Epoch 7/10\n",
      "625/625 [==============================] - 12s 20ms/step - loss: 0.0431 - accuracy: 0.9858 - val_loss: 1.1525 - val_accuracy: 0.6764\n",
      "Epoch 8/10\n",
      "625/625 [==============================] - 12s 20ms/step - loss: 0.0217 - accuracy: 0.9934 - val_loss: 1.3006 - val_accuracy: 0.6826\n",
      "Epoch 9/10\n",
      "625/625 [==============================] - 12s 19ms/step - loss: 0.0103 - accuracy: 0.9969 - val_loss: 1.4636 - val_accuracy: 0.6828\n",
      "Epoch 10/10\n",
      "625/625 [==============================] - 11s 18ms/step - loss: 0.0064 - accuracy: 0.9982 - val_loss: 1.7729 - val_accuracy: 0.6620\n"
     ]
    }
   ],
   "source": [
    "h1 = model.fit(x_train, y_train, epochs = 10,  validation_split = 0.2)"
   ]
  },
  {
   "cell_type": "markdown",
   "metadata": {
    "id": "RwzyLKjL_qzJ"
   },
   "source": [
    "***"
   ]
  },
  {
   "cell_type": "markdown",
   "metadata": {
    "id": "w-IRETZh_7mI"
   },
   "source": [
    "### 잡담.  `batchNormalization`"
   ]
  },
  {
   "cell_type": "markdown",
   "metadata": {
    "id": "rfNkprWrDEd3"
   },
   "source": [
    "#### (1) 데이터 이해"
   ]
  },
  {
   "cell_type": "code",
   "execution_count": 13,
   "metadata": {
    "colab": {
     "base_uri": "https://localhost:8080/"
    },
    "executionInfo": {
     "elapsed": 1605,
     "status": "ok",
     "timestamp": 1696999372901,
     "user": {
      "displayName": "ccc flkwerkdai",
      "userId": "13507850890638580947"
     },
     "user_tz": -540
    },
    "id": "qSdqXr_6AGv2",
    "outputId": "ad05e195-53cc-400e-fcb2-0fffa1d0c0d9"
   },
   "outputs": [
    {
     "name": "stdout",
     "output_type": "stream",
     "text": [
      "Downloading data from https://storage.googleapis.com/tensorflow/tf-keras-datasets/train-labels-idx1-ubyte.gz\n",
      "29515/29515 [==============================] - 0s 0us/step\n",
      "Downloading data from https://storage.googleapis.com/tensorflow/tf-keras-datasets/train-images-idx3-ubyte.gz\n",
      "26421880/26421880 [==============================] - 0s 0us/step\n",
      "Downloading data from https://storage.googleapis.com/tensorflow/tf-keras-datasets/t10k-labels-idx1-ubyte.gz\n",
      "5148/5148 [==============================] - 0s 0us/step\n",
      "Downloading data from https://storage.googleapis.com/tensorflow/tf-keras-datasets/t10k-images-idx3-ubyte.gz\n",
      "4422102/4422102 [==============================] - 0s 0us/step\n"
     ]
    }
   ],
   "source": [
    "import tensorflow as tf\n",
    "\n",
    "(x_train, y_train), (x_test, y_test) = tf.keras.datasets.fashion_mnist.load_data()"
   ]
  },
  {
   "cell_type": "code",
   "execution_count": 14,
   "metadata": {
    "colab": {
     "base_uri": "https://localhost:8080/"
    },
    "executionInfo": {
     "elapsed": 2,
     "status": "ok",
     "timestamp": 1696999408743,
     "user": {
      "displayName": "ccc flkwerkdai",
      "userId": "13507850890638580947"
     },
     "user_tz": -540
    },
    "id": "7ngQJMbIC74o",
    "outputId": "52bd4241-c965-43f7-9601-421ec96477d9"
   },
   "outputs": [
    {
     "name": "stdout",
     "output_type": "stream",
     "text": [
      "(60000, 28, 28) (60000,)\n",
      "(10000, 28, 28) (10000,)\n"
     ]
    }
   ],
   "source": [
    "print(x_train.shape, y_train.shape)\n",
    "print(x_test.shape, y_test.shape)"
   ]
  },
  {
   "cell_type": "markdown",
   "metadata": {
    "id": "luzE8w99DSCn"
   },
   "source": [
    "`-` 각각의 이미지 데이터가 인코딩 되어있음."
   ]
  },
  {
   "cell_type": "code",
   "execution_count": 19,
   "metadata": {
    "colab": {
     "base_uri": "https://localhost:8080/",
     "height": 386
    },
    "executionInfo": {
     "elapsed": 515,
     "status": "ok",
     "timestamp": 1696999477588,
     "user": {
      "displayName": "ccc flkwerkdai",
      "userId": "13507850890638580947"
     },
     "user_tz": -540
    },
    "id": "kwrFMiTRC344",
    "outputId": "d7f2c4d3-5109-40e7-dba9-d2cfe4ebeaca"
   },
   "outputs": [
    {
     "data": {
      "image/png": "[encoded data removed]",
      "text/plain": [
       "<Figure size 400x400 with 1 Axes>"
      ]
     },
     "metadata": {},
     "output_type": "display_data"
    },
    {
     "name": "stdout",
     "output_type": "stream",
     "text": [
      "9\n"
     ]
    }
   ],
   "source": [
    "import matplotlib.pyplot as plt\n",
    "\n",
    "plt.figure(figsize = (4,4))\n",
    "plt.imshow(x_train[0], cmap = \"gray\")\n",
    "plt.show()\n",
    "print(y_train[0])"
   ]
  },
  {
   "cell_type": "markdown",
   "metadata": {
    "id": "nsGKUSWKDVKI"
   },
   "source": [
    "#### (2) 모델학습"
   ]
  },
  {
   "cell_type": "code",
   "execution_count": 21,
   "metadata": {
    "colab": {
     "base_uri": "https://localhost:8080/"
    },
    "executionInfo": {
     "elapsed": 294,
     "status": "ok",
     "timestamp": 1696999686878,
     "user": {
      "displayName": "ccc flkwerkdai",
      "userId": "13507850890638580947"
     },
     "user_tz": -540
    },
    "id": "4pTa2kZ4DXVX",
    "outputId": "c3e3d424-262e-4eed-a58b-d2179d52c5ff"
   },
   "outputs": [
    {
     "name": "stdout",
     "output_type": "stream",
     "text": [
      "Model: \"model_2\"\n",
      "_________________________________________________________________\n",
      " Layer (type)                Output Shape              Param #   \n",
      "=================================================================\n",
      " input_3 (InputLayer)        [(None, 28, 28)]          0         \n",
      "                                                                 \n",
      " flatten_1 (Flatten)         (None, 784)               0         \n",
      "                                                                 \n",
      " dense_4 (Dense)             (None, 64)                50240     \n",
      "                                                                 \n",
      " dense_5 (Dense)             (None, 32)                2080      \n",
      "                                                                 \n",
      " dense_6 (Dense)             (None, 10)                330       \n",
      "                                                                 \n",
      "=================================================================\n",
      "Total params: 52650 (205.66 KB)\n",
      "Trainable params: 52650 (205.66 KB)\n",
      "Non-trainable params: 0 (0.00 Byte)\n",
      "_________________________________________________________________\n"
     ]
    }
   ],
   "source": [
    "import tensorflow as tf\n",
    "\n",
    "X = tf.keras.Input(shape = [28, 28])\n",
    "H = tf.keras.layers.Flatten()(X)\n",
    "H = tf.keras.layers.Dense(64, activation = \"swish\")(H)\n",
    "H = tf.keras.layers.Dense(32, activation = \"swish\")(H)\n",
    "Y = tf.keras.layers.Dense(10, activation = \"softmax\")(H)\n",
    "\n",
    "model = tf.keras.Model(X, Y)\n",
    "model.compile(loss = tf.keras.losses.sparse_categorical_crossentropy, metrics = \"accuracy\")\n",
    "model.summary()"
   ]
  },
  {
   "cell_type": "code",
   "execution_count": 22,
   "metadata": {
    "colab": {
     "base_uri": "https://localhost:8080/"
    },
    "executionInfo": {
     "elapsed": 83440,
     "status": "ok",
     "timestamp": 1696999805271,
     "user": {
      "displayName": "ccc flkwerkdai",
      "userId": "13507850890638580947"
     },
     "user_tz": -540
    },
    "id": "ydLF8C2-EFWg",
    "outputId": "948e9be8-e622-4a3f-bacd-4c990cfa8741"
   },
   "outputs": [
    {
     "name": "stdout",
     "output_type": "stream",
     "text": [
      "Epoch 1/10\n",
      "1500/1500 [==============================] - 9s 4ms/step - loss: 2.4305 - accuracy: 0.4121 - val_loss: 1.4045 - val_accuracy: 0.4848\n",
      "Epoch 2/10\n",
      "1500/1500 [==============================] - 6s 4ms/step - loss: 1.3273 - accuracy: 0.5452 - val_loss: 1.0820 - val_accuracy: 0.5848\n",
      "Epoch 3/10\n",
      "1500/1500 [==============================] - 5s 3ms/step - loss: 1.0889 - accuracy: 0.6066 - val_loss: 1.0017 - val_accuracy: 0.6120\n",
      "Epoch 4/10\n",
      "1500/1500 [==============================] - 5s 3ms/step - loss: 1.0031 - accuracy: 0.6505 - val_loss: 1.0787 - val_accuracy: 0.5946\n",
      "Epoch 5/10\n",
      "1500/1500 [==============================] - 6s 4ms/step - loss: 0.9876 - accuracy: 0.6540 - val_loss: 0.9953 - val_accuracy: 0.6647\n",
      "Epoch 6/10\n",
      "1500/1500 [==============================] - 5s 4ms/step - loss: 0.9904 - accuracy: 0.6639 - val_loss: 0.9663 - val_accuracy: 0.6608\n",
      "Epoch 7/10\n",
      "1500/1500 [==============================] - 5s 3ms/step - loss: 1.0046 - accuracy: 0.6620 - val_loss: 0.9973 - val_accuracy: 0.6436\n",
      "Epoch 8/10\n",
      "1500/1500 [==============================] - 6s 4ms/step - loss: 1.0068 - accuracy: 0.6617 - val_loss: 0.9530 - val_accuracy: 0.6842\n",
      "Epoch 9/10\n",
      "1500/1500 [==============================] - 5s 3ms/step - loss: 1.0003 - accuracy: 0.6595 - val_loss: 1.0946 - val_accuracy: 0.6669\n",
      "Epoch 10/10\n",
      "1500/1500 [==============================] - 6s 4ms/step - loss: 0.9964 - accuracy: 0.6655 - val_loss: 1.0111 - val_accuracy: 0.6254\n"
     ]
    },
    {
     "data": {
      "text/plain": [
       "<keras.src.callbacks.History at 0x7e1db80a81c0>"
      ]
     },
     "execution_count": 22,
     "metadata": {},
     "output_type": "execute_result"
    }
   ],
   "source": [
    "model.fit(x_train, y_train, validation_split = 0.2, epochs = 10)"
   ]
  },
  {
   "cell_type": "code",
   "execution_count": 25,
   "metadata": {
    "executionInfo": {
     "elapsed": 274,
     "status": "ok",
     "timestamp": 1696999840717,
     "user": {
      "displayName": "ccc flkwerkdai",
      "userId": "13507850890638580947"
     },
     "user_tz": -540
    },
    "id": "8COy75uXEhhI"
   },
   "outputs": [],
   "source": [
    "h1 = model.history.history"
   ]
  },
  {
   "cell_type": "code",
   "execution_count": 27,
   "metadata": {
    "colab": {
     "base_uri": "https://localhost:8080/"
    },
    "executionInfo": {
     "elapsed": 1911,
     "status": "ok",
     "timestamp": 1696999869003,
     "user": {
      "displayName": "ccc flkwerkdai",
      "userId": "13507850890638580947"
     },
     "user_tz": -540
    },
    "id": "IhApBJadEo0x",
    "outputId": "fb38658c-5eb1-4f91-c755-b462eaecb6ed"
   },
   "outputs": [
    {
     "name": "stdout",
     "output_type": "stream",
     "text": [
      "313/313 [==============================] - 1s 4ms/step\n"
     ]
    }
   ],
   "source": [
    "pred1 = model.predict(x_test).argmax(axis = 1)"
   ]
  },
  {
   "cell_type": "code",
   "execution_count": 44,
   "metadata": {
    "colab": {
     "base_uri": "https://localhost:8080/",
     "height": 449
    },
    "executionInfo": {
     "elapsed": 962,
     "status": "ok",
     "timestamp": 1697000196918,
     "user": {
      "displayName": "ccc flkwerkdai",
      "userId": "13507850890638580947"
     },
     "user_tz": -540
    },
    "id": "pvhLE4L3Ewwg",
    "outputId": "5fcedede-09fd-49d9-8ae6-c67d606a3ea9"
   },
   "outputs": [
    {
     "data": {
      "image/png": "[encoded data removed]",
      "text/plain": [
       "<Figure size 640x480 with 1 Axes>"
      ]
     },
     "metadata": {},
     "output_type": "display_data"
    }
   ],
   "source": [
    "import pandas as pd\n",
    "import seaborn as sns\n",
    "class_table = pd.DataFrame({\"y_true\" : y_test, \"y_pred\" : pred1}).melt(var_name = \"y_?\", value_name = \"label\")\n",
    "sns.countplot(x= class_table[\"label\"], hue = class_table[\"y_?\"])\n",
    "plt.show()"
   ]
  },
  {
   "cell_type": "markdown",
   "metadata": {
    "id": "GkweqjL5HY4h"
   },
   "source": [
    "`-` 학습이 잘안된다.."
   ]
  },
  {
   "cell_type": "code",
   "execution_count": 46,
   "metadata": {
    "colab": {
     "base_uri": "https://localhost:8080/",
     "height": 467
    },
    "executionInfo": {
     "elapsed": 5604,
     "status": "ok",
     "timestamp": 1697000644885,
     "user": {
      "displayName": "ccc flkwerkdai",
      "userId": "13507850890638580947"
     },
     "user_tz": -540
    },
    "id": "a-PeV41gHaya",
    "outputId": "ff0906e9-1d41-4b9d-d3b3-466af0c656dd"
   },
   "outputs": [
    {
     "name": "stdout",
     "output_type": "stream",
     "text": [
      "1875/1875 [==============================] - 4s 2ms/step\n"
     ]
    },
    {
     "data": {
      "image/png": "[encoded data removed]",
      "text/plain": [
       "<Figure size 640x480 with 1 Axes>"
      ]
     },
     "metadata": {},
     "output_type": "display_data"
    }
   ],
   "source": [
    "pred2 = model.predict(x_train).argmax(axis = 1)\n",
    "\n",
    "class_table2 = pd.DataFrame({\"y_train\" : y_train, \"y_pred\" : pred2}).melt(var_name = \"y_?\", value_name = \"label\")\n",
    "sns.countplot(x= class_table2[\"label\"], hue = class_table2[\"y_?\"])\n",
    "plt.show()"
   ]
  },
  {
   "cell_type": "markdown",
   "metadata": {
    "id": "gv2KADueH5u5"
   },
   "source": [
    "`-` 그렇다고 오버피팅 된것도 아님\n",
    "\n",
    "`-` 일단 train data에 대한 학습이 더 필요함, 근데 깊이가 깊어질 수록 학습하는게 당연히 어려워짐"
   ]
  },
  {
   "cell_type": "markdown",
   "metadata": {
    "id": "G1CrjFU3H7Yy"
   },
   "source": [
    "* 이를 위해서 `Nomalize layer`을 추가 $\\to$ 요약하자면 학습이 잘 되도록 도와줌"
   ]
  },
  {
   "cell_type": "markdown",
   "metadata": {
    "id": "YmBh-Oh1JG3b"
   },
   "source": [
    "#### (3) +`batchNormalization`"
   ]
  },
  {
   "cell_type": "code",
   "execution_count": 48,
   "metadata": {
    "colab": {
     "base_uri": "https://localhost:8080/"
    },
    "executionInfo": {
     "elapsed": 481,
     "status": "ok",
     "timestamp": 1697000826737,
     "user": {
      "displayName": "ccc flkwerkdai",
      "userId": "13507850890638580947"
     },
     "user_tz": -540
    },
    "id": "bo52xMaUIESS",
    "outputId": "2233fa38-8b52-40e9-e3b1-36b838090cf7"
   },
   "outputs": [
    {
     "name": "stdout",
     "output_type": "stream",
     "text": [
      "Model: \"model_4\"\n",
      "_________________________________________________________________\n",
      " Layer (type)                Output Shape              Param #   \n",
      "=================================================================\n",
      " input_5 (InputLayer)        [(None, 28, 28)]          0         \n",
      "                                                                 \n",
      " flatten_3 (Flatten)         (None, 784)               0         \n",
      "                                                                 \n",
      " dense_10 (Dense)            (None, 64)                50240     \n",
      "                                                                 \n",
      " batch_normalization_1 (Bat  (None, 64)                256       \n",
      " chNormalization)                                                \n",
      "                                                                 \n",
      " dense_11 (Dense)            (None, 32)                2080      \n",
      "                                                                 \n",
      " dense_12 (Dense)            (None, 10)                330       \n",
      "                                                                 \n",
      "=================================================================\n",
      "Total params: 52906 (206.66 KB)\n",
      "Trainable params: 52778 (206.16 KB)\n",
      "Non-trainable params: 128 (512.00 Byte)\n",
      "_________________________________________________________________\n"
     ]
    }
   ],
   "source": [
    "import tensorflow as tf\n",
    "\n",
    "X = tf.keras.Input(shape = [28, 28])\n",
    "H = tf.keras.layers.Flatten()(X)\n",
    "H = tf.keras.layers.Dense(64, activation = \"swish\")(H)\n",
    "H = tf.keras.layers.BatchNormalization()(H) ##\n",
    "H = tf.keras.layers.Dense(32, activation = \"swish\")(H)\n",
    "Y = tf.keras.layers.Dense(10, activation = \"softmax\")(H)\n",
    "\n",
    "model = tf.keras.Model(X, Y)\n",
    "model.compile(loss = tf.keras.losses.sparse_categorical_crossentropy, metrics = \"accuracy\")\n",
    "model.summary()"
   ]
  },
  {
   "cell_type": "code",
   "execution_count": 49,
   "metadata": {
    "colab": {
     "base_uri": "https://localhost:8080/"
    },
    "executionInfo": {
     "elapsed": 93986,
     "status": "ok",
     "timestamp": 1697000941883,
     "user": {
      "displayName": "ccc flkwerkdai",
      "userId": "13507850890638580947"
     },
     "user_tz": -540
    },
    "id": "EhDj0OmvIdLp",
    "outputId": "c9b3dcf4-a325-4067-d5d1-49abd3343929"
   },
   "outputs": [
    {
     "name": "stdout",
     "output_type": "stream",
     "text": [
      "Epoch 1/10\n",
      "1500/1500 [==============================] - 13s 8ms/step - loss: 0.5162 - accuracy: 0.8203 - val_loss: 0.5449 - val_accuracy: 0.8217\n",
      "Epoch 2/10\n",
      "1500/1500 [==============================] - 8s 5ms/step - loss: 0.4035 - accuracy: 0.8566 - val_loss: 0.3995 - val_accuracy: 0.8611\n",
      "Epoch 3/10\n",
      "1500/1500 [==============================] - 8s 5ms/step - loss: 0.3682 - accuracy: 0.8661 - val_loss: 0.4471 - val_accuracy: 0.8572\n",
      "Epoch 4/10\n",
      "1500/1500 [==============================] - 10s 7ms/step - loss: 0.3505 - accuracy: 0.8719 - val_loss: 0.4714 - val_accuracy: 0.8605\n",
      "Epoch 5/10\n",
      "1500/1500 [==============================] - 7s 5ms/step - loss: 0.3383 - accuracy: 0.8780 - val_loss: 0.3993 - val_accuracy: 0.8587\n",
      "Epoch 6/10\n",
      "1500/1500 [==============================] - 11s 7ms/step - loss: 0.3239 - accuracy: 0.8827 - val_loss: 0.5136 - val_accuracy: 0.8654\n",
      "Epoch 7/10\n",
      "1500/1500 [==============================] - 8s 6ms/step - loss: 0.3153 - accuracy: 0.8842 - val_loss: 0.4233 - val_accuracy: 0.8583\n",
      "Epoch 8/10\n",
      "1500/1500 [==============================] - 9s 6ms/step - loss: 0.3085 - accuracy: 0.8889 - val_loss: 0.4091 - val_accuracy: 0.8754\n",
      "Epoch 9/10\n",
      "1500/1500 [==============================] - 10s 7ms/step - loss: 0.3017 - accuracy: 0.8897 - val_loss: 0.4520 - val_accuracy: 0.8712\n",
      "Epoch 10/10\n",
      "1500/1500 [==============================] - 9s 6ms/step - loss: 0.2932 - accuracy: 0.8944 - val_loss: 0.4376 - val_accuracy: 0.8745\n"
     ]
    },
    {
     "data": {
      "text/plain": [
       "<keras.src.callbacks.History at 0x7e1db8075c60>"
      ]
     },
     "execution_count": 49,
     "metadata": {},
     "output_type": "execute_result"
    }
   ],
   "source": [
    "model.fit(x_train, y_train, validation_split = 0.2, epochs = 10)"
   ]
  },
  {
   "cell_type": "code",
   "execution_count": 50,
   "metadata": {
    "executionInfo": {
     "elapsed": 9,
     "status": "ok",
     "timestamp": 1697000941883,
     "user": {
      "displayName": "ccc flkwerkdai",
      "userId": "13507850890638580947"
     },
     "user_tz": -540
    },
    "id": "KB-biDFdIhIC"
   },
   "outputs": [],
   "source": [
    "h2 = model.history.history"
   ]
  },
  {
   "cell_type": "markdown",
   "metadata": {
    "id": "NXB5OU9lJNRp"
   },
   "source": [
    "`-` loss가 확실히 줄어들었음을 확인"
   ]
  },
  {
   "cell_type": "code",
   "execution_count": 54,
   "metadata": {
    "colab": {
     "base_uri": "https://localhost:8080/",
     "height": 387
    },
    "executionInfo": {
     "elapsed": 1058,
     "status": "ok",
     "timestamp": 1697000993465,
     "user": {
      "displayName": "ccc flkwerkdai",
      "userId": "13507850890638580947"
     },
     "user_tz": -540
    },
    "id": "WC5C573fIlZj",
    "outputId": "9c3d4025-0c99-4f9c-e627-af68515ab47c"
   },
   "outputs": [
    {
     "data": {
      "text/plain": [
       "<matplotlib.legend.Legend at 0x7e1db652fdf0>"
      ]
     },
     "execution_count": 54,
     "metadata": {},
     "output_type": "execute_result"
    },
    {
     "data": {
      "image/png": "[encoded data removed]",
      "text/plain": [
       "<Figure size 1200x400 with 1 Axes>"
      ]
     },
     "metadata": {},
     "output_type": "display_data"
    }
   ],
   "source": [
    "plt.figure(figsize = (12,4))\n",
    "plt.plot(h1[\"loss\"], label = \"train_loss\")\n",
    "plt.plot(h1[\"val_loss\"],label = \"val_loss\")\n",
    "plt.plot(h2[\"loss\"],label = \"+batch_train_loss\")\n",
    "plt.plot(h2[\"val_loss\"],label = \"+batch_val_loss\")\n",
    "plt.legend()"
   ]
  },
  {
   "cell_type": "code",
   "execution_count": 56,
   "metadata": {
    "colab": {
     "base_uri": "https://localhost:8080/"
    },
    "executionInfo": {
     "elapsed": 3132,
     "status": "ok",
     "timestamp": 1697001076915,
     "user": {
      "displayName": "ccc flkwerkdai",
      "userId": "13507850890638580947"
     },
     "user_tz": -540
    },
    "id": "gX9zr5QtJMpz",
    "outputId": "226b302b-695b-4182-a372-eaab6b6a230e"
   },
   "outputs": [
    {
     "name": "stdout",
     "output_type": "stream",
     "text": [
      "313/313 [==============================] - 2s 5ms/step\n"
     ]
    }
   ],
   "source": [
    "pred3 = model.predict(x_test).argmax(axis=1)"
   ]
  },
  {
   "cell_type": "markdown",
   "metadata": {
    "id": "JrfEiYyVJeI7"
   },
   "source": [
    "`-` 오 확실히 아까보다 예측성능이 훨씬 낫다!!"
   ]
  },
  {
   "cell_type": "code",
   "execution_count": 57,
   "metadata": {
    "colab": {
     "base_uri": "https://localhost:8080/",
     "height": 449
    },
    "executionInfo": {
     "elapsed": 602,
     "status": "ok",
     "timestamp": 1697001102133,
     "user": {
      "displayName": "ccc flkwerkdai",
      "userId": "13507850890638580947"
     },
     "user_tz": -540
    },
    "id": "nfSn22ZyJWzp",
    "outputId": "c0ac46bc-6990-4b23-a214-9c0344cc96ce"
   },
   "outputs": [
    {
     "data": {
      "image/png": "[encoded data removed]",
      "text/plain": [
       "<Figure size 640x480 with 1 Axes>"
      ]
     },
     "metadata": {},
     "output_type": "display_data"
    }
   ],
   "source": [
    "class_table3 = pd.DataFrame({\"y_train\" : y_test, \"y_pred\" : pred3}).melt(var_name = \"y_?\", value_name = \"label\")\n",
    "sns.countplot(x= class_table3[\"label\"], hue = class_table3[\"y_?\"])\n",
    "plt.show()"
   ]
  },
  {
   "cell_type": "markdown",
   "metadata": {
    "id": "2UqNZzCjJqOa"
   },
   "source": [
    "#### (4) summary"
   ]
  },
  {
   "cell_type": "markdown",
   "metadata": {
    "id": "Diei3zjzKZzC"
   },
   "source": [
    "`-` 딥러닝 모델에서 학습이 안되는 이유\n",
    "\n",
    "1. 입력값에 대한 weight값이 랜덤하게 잡힘\n",
    "\n",
    "2. 각각의 은닉층에서도 랜덤하게 잡힘\n",
    "\n",
    "3. 이런식이면 은닉층이 깊어질 수록 scale이 각 은닉층에서 계속 깨질수 밖에 없음\n",
    "\n",
    "4. 당연히 scale이 깨지니 학습이 안됨"
   ]
  },
  {
   "cell_type": "markdown",
   "metadata": {
    "id": "ChnWbyNzK5wL"
   },
   "source": [
    "`-` 그래서 은닉층에 입력전에 스케일을 맞춰주기 위해서 사용하는 것이 `배치 정규화임`\n",
    "\n",
    "* KNN처럼 각 컬럼에 스케일을 맞춘다고 생각하자."
   ]
  },
  {
   "cell_type": "markdown",
   "metadata": {
    "id": "VCRQgoSNJsqS"
   },
   "source": [
    "* 이제 앞으로 은닉층과 은닉층 사이에 `Nomalize layer`을 무조건 추가하자...\n",
    "\n",
    "* 심지어 정규화 레이어를 여러 개 쌓을수 도 있음"
   ]
  },
  {
   "cell_type": "markdown",
   "metadata": {
    "id": "zV0I7HzTKNnq"
   },
   "source": [
    "```python\n",
    "import tensorflow as tf\n",
    "\n",
    "X = tf.keras.Input(shape = [28, 28])\n",
    "H = tf.keras.layers.Flatten()(X)\n",
    "H = tf.keras.layers.Dense(64, activation = \"swish\")(H)\n",
    "H = tf.keras.layers.BatchNormalization()(H) ## 첫 번째 정규레이어\n",
    "H = tf.keras.layers.Dense(32, activation = \"swish\")(H)\n",
    "H = tf.keras.layers.BatchNormalization()(H) ## 두 번째 정규레이어\n",
    "Y = tf.keras.layers.Dense(10, activation = \"softmax\")(H)\n",
    "\n",
    "model = tf.keras.Model(X, Y)\n",
    "model.compile(loss = tf.keras.losses.sparse_categorical_crossentropy, metrics = \"accuracy\")\n",
    "model.summary()\n",
    "```"
   ]
  },
  {
   "cell_type": "markdown",
   "metadata": {
    "id": "LcE96g_oLTjr"
   },
   "source": [
    "### 모델링 2. Transformer"
   ]
  },
  {
   "cell_type": "code",
   "execution_count": 58,
   "metadata": {
    "executionInfo": {
     "elapsed": 9535,
     "status": "ok",
     "timestamp": 1697006442060,
     "user": {
      "displayName": "ccc flkwerkdai",
      "userId": "13507850890638580947"
     },
     "user_tz": -540
    },
    "id": "lcB0ltz2dwjL"
   },
   "outputs": [],
   "source": [
    "import tensorflow as tf\n",
    "import numpy as np\n",
    "\n",
    "(x_train, y_train), (x_test, y_test) = tf.keras.datasets.imdb.load_data()\n",
    "\n",
    "x_train = tf.keras.utils.pad_sequences(x_train, maxlen=20)\n",
    "x_test = tf.keras.utils.pad_sequences(x_test, maxlen=20)\n"
   ]
  },
  {
   "cell_type": "code",
   "execution_count": 60,
   "metadata": {
    "colab": {
     "base_uri": "https://localhost:8080/"
    },
    "executionInfo": {
     "elapsed": 710,
     "status": "ok",
     "timestamp": 1697006451461,
     "user": {
      "displayName": "ccc flkwerkdai",
      "userId": "13507850890638580947"
     },
     "user_tz": -540
    },
    "id": "yuVrIKBhduRT",
    "outputId": "a1a75ba0-bf2d-4f1f-f95c-f122fcef9b54"
   },
   "outputs": [
    {
     "name": "stdout",
     "output_type": "stream",
     "text": [
      "Model: \"model_6\"\n",
      "__________________________________________________________________________________________________\n",
      " Layer (type)                Output Shape                 Param #   Connected to                  \n",
      "==================================================================================================\n",
      " input_7 (InputLayer)        [(None, 20)]                 0         []                            \n",
      "                                                                                                  \n",
      " embedding_2 (Embedding)     (None, 20, 28)               2480380   ['input_7[0][0]']             \n",
      "                                                                                                  \n",
      " simple_rnn_2 (SimpleRNN)    (None, 20, 32)               1952      ['embedding_2[0][0]']         \n",
      "                                                                                                  \n",
      " multi_head_attention_1 (Mu  (None, 20, 32)               4224      ['simple_rnn_2[0][0]',        \n",
      " ltiHeadAttention)                                                   'simple_rnn_2[0][0]']        \n",
      "                                                                                                  \n",
      " tf.__operators__.add_2 (TF  (None, 20, 32)               0         ['simple_rnn_2[0][0]',        \n",
      " OpLambda)                                                           'multi_head_attention_1[0][0]\n",
      "                                                                    ']                            \n",
      "                                                                                                  \n",
      " batch_normalization_4 (Bat  (None, 20, 32)               128       ['tf.__operators__.add_2[0][0]\n",
      " chNormalization)                                                   ']                            \n",
      "                                                                                                  \n",
      " dense_15 (Dense)            (None, 20, 32)               1056      ['batch_normalization_4[0][0]'\n",
      "                                                                    ]                             \n",
      "                                                                                                  \n",
      " tf.__operators__.add_3 (TF  (None, 20, 32)               0         ['batch_normalization_4[0][0]'\n",
      " OpLambda)                                                          , 'dense_15[0][0]']           \n",
      "                                                                                                  \n",
      " batch_normalization_5 (Bat  (None, 20, 32)               128       ['tf.__operators__.add_3[0][0]\n",
      " chNormalization)                                                   ']                            \n",
      "                                                                                                  \n",
      " global_average_pooling1d_1  (None, 32)                   0         ['batch_normalization_5[0][0]'\n",
      "  (GlobalAveragePooling1D)                                          ]                             \n",
      "                                                                                                  \n",
      " dense_16 (Dense)            (None, 1)                    33        ['global_average_pooling1d_1[0\n",
      "                                                                    ][0]']                        \n",
      "                                                                                                  \n",
      "==================================================================================================\n",
      "Total params: 2487901 (9.49 MB)\n",
      "Trainable params: 2487773 (9.49 MB)\n",
      "Non-trainable params: 128 (512.00 Byte)\n",
      "__________________________________________________________________________________________________\n"
     ]
    }
   ],
   "source": [
    "import tensorflow as tf\n",
    "\n",
    "X = tf.keras.Input(shape=[20])\n",
    "\n",
    "H = tf.keras.layers.Embedding(88585, 28)(X)\n",
    "H = tf.keras.layers.SimpleRNN(32, return_sequences=True)(H)\n",
    "\n",
    "# Transformer::self-attentions\n",
    "H1 = tf.keras.layers.MultiHeadAttention(2, 16)(H, H)\n",
    "H = tf.keras.layers.BatchNormalization()(H + H1)\n",
    "\n",
    "# Transformer::feed-forward\n",
    "H1 = tf.keras.layers.Dense(32, activation='swish')(H)\n",
    "H = tf.keras.layers.BatchNormalization()(H + H1)\n",
    "\n",
    "H = tf.keras.layers.GlobalAveragePooling1D()(H)\n",
    "Y = tf.keras.layers.Dense(1, activation=\"sigmoid\")(H)\n",
    "\n",
    "model = tf.keras.Model(X, Y)\n",
    "model.compile(loss=\"binary_crossentropy\", metrics=\"accuracy\")\n",
    "\n",
    "model.summary()"
   ]
  },
  {
   "cell_type": "code",
   "execution_count": 61,
   "metadata": {
    "colab": {
     "base_uri": "https://localhost:8080/"
    },
    "executionInfo": {
     "elapsed": 144208,
     "status": "ok",
     "timestamp": 1697006597288,
     "user": {
      "displayName": "ccc flkwerkdai",
      "userId": "13507850890638580947"
     },
     "user_tz": -540
    },
    "id": "MFwzzjTld1iD",
    "outputId": "1569dbd6-c561-4c2c-f372-7a445107428a"
   },
   "outputs": [
    {
     "name": "stdout",
     "output_type": "stream",
     "text": [
      "Epoch 1/10\n",
      "157/157 [==============================] - 40s 232ms/step - loss: 0.5601 - accuracy: 0.7021 - val_loss: 0.6164 - val_accuracy: 0.7194\n",
      "Epoch 2/10\n",
      "157/157 [==============================] - 8s 51ms/step - loss: 0.4087 - accuracy: 0.8120 - val_loss: 0.5232 - val_accuracy: 0.7470\n",
      "Epoch 3/10\n",
      "157/157 [==============================] - 8s 49ms/step - loss: 0.3237 - accuracy: 0.8620 - val_loss: 0.5408 - val_accuracy: 0.7218\n",
      "Epoch 4/10\n",
      "157/157 [==============================] - 5s 33ms/step - loss: 0.2433 - accuracy: 0.9029 - val_loss: 0.5935 - val_accuracy: 0.7378\n",
      "Epoch 5/10\n",
      "157/157 [==============================] - 7s 47ms/step - loss: 0.1615 - accuracy: 0.9401 - val_loss: 0.7722 - val_accuracy: 0.7094\n",
      "Epoch 6/10\n",
      "157/157 [==============================] - 5s 33ms/step - loss: 0.0965 - accuracy: 0.9655 - val_loss: 1.1340 - val_accuracy: 0.6932\n",
      "Epoch 7/10\n",
      "157/157 [==============================] - 6s 38ms/step - loss: 0.0556 - accuracy: 0.9818 - val_loss: 3.5060 - val_accuracy: 0.5690\n",
      "Epoch 8/10\n",
      "157/157 [==============================] - 6s 39ms/step - loss: 0.0289 - accuracy: 0.9914 - val_loss: 1.7923 - val_accuracy: 0.6898\n",
      "Epoch 9/10\n",
      "157/157 [==============================] - 4s 28ms/step - loss: 0.0169 - accuracy: 0.9949 - val_loss: 2.3478 - val_accuracy: 0.6732\n",
      "Epoch 10/10\n",
      "157/157 [==============================] - 7s 43ms/step - loss: 0.0144 - accuracy: 0.9956 - val_loss: 1.9380 - val_accuracy: 0.7124\n"
     ]
    },
    {
     "data": {
      "text/plain": [
       "<keras.src.callbacks.History at 0x7e1db802c1c0>"
      ]
     },
     "execution_count": 61,
     "metadata": {},
     "output_type": "execute_result"
    }
   ],
   "source": [
    "model.fit(x_train, y_train, epochs=10, batch_size=128, validation_split=0.2)"
   ]
  },
  {
   "cell_type": "code",
   "execution_count": 62,
   "metadata": {
    "colab": {
     "base_uri": "https://localhost:8080/"
    },
    "executionInfo": {
     "elapsed": 15063,
     "status": "ok",
     "timestamp": 1697006630986,
     "user": {
      "displayName": "ccc flkwerkdai",
      "userId": "13507850890638580947"
     },
     "user_tz": -540
    },
    "id": "p5tSkiD1ebn0",
    "outputId": "a95d20f5-c472-4f9b-bf6b-bb241e1e6374"
   },
   "outputs": [
    {
     "name": "stdout",
     "output_type": "stream",
     "text": [
      "782/782 [==============================] - 6s 7ms/step\n",
      "782/782 [==============================] - 4s 5ms/step\n"
     ]
    }
   ],
   "source": [
    "pred1 = model.predict(x_test).argmax(axis = 1)\n",
    "pred2 = model.predict(x_train).argmax(axis = 1)"
   ]
  },
  {
   "cell_type": "code",
   "execution_count": 71,
   "metadata": {
    "colab": {
     "base_uri": "https://localhost:8080/"
    },
    "executionInfo": {
     "elapsed": 3,
     "status": "ok",
     "timestamp": 1697006824588,
     "user": {
      "displayName": "ccc flkwerkdai",
      "userId": "13507850890638580947"
     },
     "user_tz": -540
    },
    "id": "QDvNVmdpfQd9",
    "outputId": "8aa3ce06-c0d4-4b96-b263-db4da70ce303"
   },
   "outputs": [
    {
     "data": {
      "text/plain": [
       "((25000,), (25000,))"
      ]
     },
     "execution_count": 71,
     "metadata": {},
     "output_type": "execute_result"
    }
   ],
   "source": [
    "pred1.shape, pred2.shape"
   ]
  },
  {
   "cell_type": "code",
   "execution_count": 68,
   "metadata": {
    "colab": {
     "base_uri": "https://localhost:8080/",
     "height": 388
    },
    "executionInfo": {
     "elapsed": 1385,
     "status": "ok",
     "timestamp": 1697006796497,
     "user": {
      "displayName": "ccc flkwerkdai",
      "userId": "13507850890638580947"
     },
     "user_tz": -540
    },
    "id": "jWkPbNZ3eZns",
    "outputId": "43c17793-54ff-4608-d5f5-e9b49576f243"
   },
   "outputs": [
    {
     "data": {
      "image/png": "[encoded data removed]",
      "text/plain": [
       "<Figure size 1200x400 with 2 Axes>"
      ]
     },
     "metadata": {},
     "output_type": "display_data"
    }
   ],
   "source": [
    "import pandas as pd\n",
    "import seaborn as sns\n",
    "\n",
    "class_table = pd.DataFrame({\"y_true\" : y_test, \"y_pred\" : pred1}).melt(var_name = \"y_?\", value_name = \"label\")\n",
    "class_table2 = pd.DataFrame({\"y_train\" : y_train, \"y_pred\" : pred2}).melt(var_name = \"y_?\", value_name = \"label\")\n",
    "\n",
    "fig, axes = plt.subplots(1,2, figsize = (12,4))\n",
    "ax1, ax2 = axes\n",
    "\n",
    "sns.countplot(x = class_table[\"label\"], hue = class_table[\"y_?\"],ax = ax1)\n",
    "sns.countplot(x = class_table2[\"label\"], hue = class_table2[\"y_?\"], ax = ax2)\n",
    "\n",
    "plt.show()"
   ]
  },
  {
   "cell_type": "markdown",
   "metadata": {
    "id": "LLx1SSywfb0D"
   },
   "source": [
    "`-` 딱히 잘 적합된 것 같지 않음.."
   ]
  },
  {
   "cell_type": "markdown",
   "metadata": {
    "id": "8U8tz1vygS7f"
   },
   "source": [
    "### 잡담. 텍스트 전처리"
   ]
  },
  {
   "cell_type": "markdown",
   "metadata": {
    "id": "JeOajFNegWKU"
   },
   "source": [
    "#### (1) 코랩 한글 이용"
   ]
  },
  {
   "cell_type": "markdown",
   "metadata": {
    "id": "OLFJy65vgpgL"
   },
   "source": [
    "`-` 라이브러리 및 폰트 설치"
   ]
  },
  {
   "cell_type": "code",
   "execution_count": 72,
   "metadata": {
    "colab": {
     "base_uri": "https://localhost:8080/"
    },
    "executionInfo": {
     "elapsed": 19120,
     "status": "ok",
     "timestamp": 1697007191424,
     "user": {
      "displayName": "ccc flkwerkdai",
      "userId": "13507850890638580947"
     },
     "user_tz": -540
    },
    "id": "csklBB8YgmOk",
    "outputId": "23bc9ffe-c3f8-4e76-adf4-334cb12c18ce"
   },
   "outputs": [
    {
     "name": "stdout",
     "output_type": "stream",
     "text": [
      "Collecting konlpy\n",
      "  Downloading konlpy-0.6.0-py2.py3-none-any.whl (19.4 MB)\n",
      "\u001b[2K     \u001b[90m━━━━━━━━━━━━━━━━━━━━━━━━━━━━━━━━━━━━━━━━\u001b[0m \u001b[32m19.4/19.4 MB\u001b[0m \u001b[31m42.2 MB/s\u001b[0m eta \u001b[36m0:00:00\u001b[0m\n",
      "\u001b[?25hCollecting JPype1>=0.7.0 (from konlpy)\n",
      "  Downloading JPype1-1.4.1-cp310-cp310-manylinux_2_12_x86_64.manylinux2010_x86_64.whl (465 kB)\n",
      "\u001b[2K     \u001b[90m━━━━━━━━━━━━━━━━━━━━━━━━━━━━━━━━━━━━━━\u001b[0m \u001b[32m465.3/465.3 kB\u001b[0m \u001b[31m45.9 MB/s\u001b[0m eta \u001b[36m0:00:00\u001b[0m\n",
      "\u001b[?25hRequirement already satisfied: lxml>=4.1.0 in /usr/local/lib/python3.10/dist-packages (from konlpy) (4.9.3)\n",
      "Requirement already satisfied: numpy>=1.6 in /usr/local/lib/python3.10/dist-packages (from konlpy) (1.23.5)\n",
      "Requirement already satisfied: packaging in /usr/local/lib/python3.10/dist-packages (from JPype1>=0.7.0->konlpy) (23.2)\n",
      "Installing collected packages: JPype1, konlpy\n",
      "Successfully installed JPype1-1.4.1 konlpy-0.6.0\n",
      "Reading package lists... Done\n",
      "Building dependency tree... Done\n",
      "Reading state information... Done\n",
      "The following NEW packages will be installed:\n",
      "  fonts-nanum\n",
      "0 upgraded, 1 newly installed, 0 to remove and 18 not upgraded.\n",
      "Need to get 10.3 MB of archives.\n",
      "After this operation, 34.1 MB of additional disk space will be used.\n",
      "Get:1 http://archive.ubuntu.com/ubuntu jammy/universe amd64 fonts-nanum all 20200506-1 [10.3 MB]\n",
      "Fetched 10.3 MB in 2s (5,802 kB/s)\n",
      "debconf: unable to initialize frontend: Dialog\n",
      "debconf: (No usable dialog-like program is installed, so the dialog based frontend cannot be used. at /usr/share/perl5/Debconf/FrontEnd/Dialog.pm line 78, <> line 1.)\n",
      "debconf: falling back to frontend: Readline\n",
      "debconf: unable to initialize frontend: Readline\n",
      "debconf: (This frontend requires a controlling tty.)\n",
      "debconf: falling back to frontend: Teletype\n",
      "dpkg-preconfigure: unable to re-open stdin: \n",
      "Selecting previously unselected package fonts-nanum.\n",
      "(Reading database ... 120875 files and directories currently installed.)\n",
      "Preparing to unpack .../fonts-nanum_20200506-1_all.deb ...\n",
      "Unpacking fonts-nanum (20200506-1) ...\n",
      "Setting up fonts-nanum (20200506-1) ...\n",
      "Processing triggers for fontconfig (2.13.1-4.2ubuntu5) ...\n",
      "/usr/share/fonts: caching, new cache contents: 0 fonts, 1 dirs\n",
      "/usr/share/fonts/truetype: caching, new cache contents: 0 fonts, 3 dirs\n",
      "/usr/share/fonts/truetype/humor-sans: caching, new cache contents: 1 fonts, 0 dirs\n",
      "/usr/share/fonts/truetype/liberation: caching, new cache contents: 16 fonts, 0 dirs\n",
      "/usr/share/fonts/truetype/nanum: caching, new cache contents: 12 fonts, 0 dirs\n",
      "/usr/local/share/fonts: caching, new cache contents: 0 fonts, 0 dirs\n",
      "/root/.local/share/fonts: skipping, no such directory\n",
      "/root/.fonts: skipping, no such directory\n",
      "/usr/share/fonts/truetype: skipping, looped directory detected\n",
      "/usr/share/fonts/truetype/humor-sans: skipping, looped directory detected\n",
      "/usr/share/fonts/truetype/liberation: skipping, looped directory detected\n",
      "/usr/share/fonts/truetype/nanum: skipping, looped directory detected\n",
      "/var/cache/fontconfig: cleaning cache directory\n",
      "/root/.cache/fontconfig: not cleaning non-existent cache directory\n",
      "/root/.fontconfig: not cleaning non-existent cache directory\n",
      "fc-cache: succeeded\n"
     ]
    }
   ],
   "source": [
    "!pip install konlpy\n",
    "!sudo apt-get install -y fonts-nanum\n",
    "!sudo fc-cache -fv\n",
    "!rm ~/.cache/matplotlib -rf"
   ]
  },
  {
   "cell_type": "code",
   "execution_count": 73,
   "metadata": {
    "colab": {
     "base_uri": "https://localhost:8080/"
    },
    "executionInfo": {
     "elapsed": 461,
     "status": "ok",
     "timestamp": 1697007192908,
     "user": {
      "displayName": "ccc flkwerkdai",
      "userId": "13507850890638580947"
     },
     "user_tz": -540
    },
    "id": "1fY9pb_-goI8",
    "outputId": "17ed6773-dd40-4432-dfb1-2b26ec87b80d"
   },
   "outputs": [
    {
     "name": "stdout",
     "output_type": "stream",
     "text": [
      "NanumBarunGothicBold.ttf   NanumGothicCoding.ttf  NanumSquareB.ttf\n",
      "NanumBarunGothic.ttf\t   NanumGothic.ttf\t  NanumSquareRoundB.ttf\n",
      "NanumGothicBold.ttf\t   NanumMyeongjoBold.ttf  NanumSquareRoundR.ttf\n",
      "NanumGothicCodingBold.ttf  NanumMyeongjo.ttf\t  NanumSquareR.ttf\n"
     ]
    }
   ],
   "source": [
    "!ls /usr/share/fonts/truetype/nanum/"
   ]
  },
  {
   "cell_type": "markdown",
   "metadata": {
    "id": "MZL38tyoguD0"
   },
   "source": [
    "`-` 이후 런타임 다시 시작"
   ]
  },
  {
   "cell_type": "code",
   "execution_count": 1,
   "metadata": {
    "executionInfo": {
     "elapsed": 3203,
     "status": "ok",
     "timestamp": 1697007245981,
     "user": {
      "displayName": "ccc flkwerkdai",
      "userId": "13507850890638580947"
     },
     "user_tz": -540
    },
    "id": "fqcHu2Npgv0t"
   },
   "outputs": [],
   "source": [
    "import nltk"
   ]
  },
  {
   "cell_type": "markdown",
   "metadata": {
    "id": "aqUJpiMsiYj9"
   },
   "source": [
    "#### (2) 토큰화"
   ]
  },
  {
   "cell_type": "code",
   "execution_count": 10,
   "metadata": {
    "colab": {
     "base_uri": "https://localhost:8080/"
    },
    "executionInfo": {
     "elapsed": 261,
     "status": "ok",
     "timestamp": 1697007698190,
     "user": {
      "displayName": "ccc flkwerkdai",
      "userId": "13507850890638580947"
     },
     "user_tz": -540
    },
    "id": "qZa3WGtcg5jc",
    "outputId": "cbdc9dde-3027-4b1a-eaf0-1c751189bfdf"
   },
   "outputs": [
    {
     "name": "stdout",
     "output_type": "stream",
     "text": [
      "['자연어', '처리', '(', 'Natural', 'Language', '\\n', 'Processing', ',', 'NLP', ')', '늘다', '인간', '의', '언어', '현상', '을', '\\n', '컴퓨터', '와', '같다', '기계', '를', '이용', '하다', '모사', '하다', '수', '있다', '\\n', '하다', '인공', '지능', '의', '하위', '분야', '중', '하나', '이다', '.']\n"
     ]
    },
    {
     "name": "stderr",
     "output_type": "stream",
     "text": [
      "[nltk_data] Downloading package punkt to /root/nltk_data...\n",
      "[nltk_data]   Package punkt is already up-to-date!\n"
     ]
    }
   ],
   "source": [
    "# 말뭉치 다운로드\n",
    "nltk.download('punkt')\n",
    "# 텍스트 토큰화 (Tokenization)\n",
    "\n",
    "text1 = \"\"\"Natural language processing (NLP)\n",
    "is a field of computer science, artificial\n",
    "intelligence, and computational linguistics\n",
    "concerned with the interactions between\n",
    "computers and human (natural) languages.\"\"\"\n",
    "\n",
    "tokens1 = nltk.tokenize.word_tokenize(text1)\n",
    "print(tokens)"
   ]
  },
  {
   "cell_type": "code",
   "execution_count": 11,
   "metadata": {
    "executionInfo": {
     "elapsed": 1,
     "status": "ok",
     "timestamp": 1697007699053,
     "user": {
      "displayName": "ccc flkwerkdai",
      "userId": "13507850890638580947"
     },
     "user_tz": -540
    },
    "id": "vwI926xXhGHN"
   },
   "outputs": [],
   "source": [
    "text2 = \"\"\"자연어 처리(Natural Language\n",
    "Processing, NLP)는 인간의 언어 현상을\n",
    "컴퓨터와 같은 기계를 이용하여 모사할 수 있도록\n",
    "하는 인공 지능의 하위 분야 중 하나입니다.\"\"\""
   ]
  },
  {
   "cell_type": "code",
   "execution_count": 12,
   "metadata": {
    "colab": {
     "base_uri": "https://localhost:8080/"
    },
    "executionInfo": {
     "elapsed": 3,
     "status": "ok",
     "timestamp": 1697007699896,
     "user": {
      "displayName": "ccc flkwerkdai",
      "userId": "13507850890638580947"
     },
     "user_tz": -540
    },
    "id": "nxHJrKiChBrm",
    "outputId": "ad7733b0-6cf3-4c11-d0ec-d0a0bdef1498"
   },
   "outputs": [
    {
     "name": "stdout",
     "output_type": "stream",
     "text": [
      "['자연어', '처리', '(', 'Natural', 'Language', '\\n', 'Processing', ',', 'NLP', ')', '늘다', '인간', '의', '언어', '현상', '을', '\\n', '컴퓨터', '와', '같다', '기계', '를', '이용', '하다', '모사', '하다', '수', '있다', '\\n', '하다', '인공', '지능', '의', '하위', '분야', '중', '하나', '이다', '.']\n"
     ]
    }
   ],
   "source": [
    "from konlpy.tag import Okt\n",
    "# KoNLPy에서 Okt 형태소 분석기를 사용\n",
    "\n",
    "okt = Okt()\n",
    "\n",
    "# 텍스트 토큰화 (Tokenization)\n",
    "tokens2 = okt.morphs(text2, stem=True)\n",
    "print(tokens)"
   ]
  },
  {
   "cell_type": "markdown",
   "metadata": {
    "id": "unt1Wy6BibUw"
   },
   "source": [
    "#### (3) 데이터 전처리"
   ]
  },
  {
   "cell_type": "code",
   "execution_count": 15,
   "metadata": {
    "colab": {
     "base_uri": "https://localhost:8080/"
    },
    "executionInfo": {
     "elapsed": 257,
     "status": "ok",
     "timestamp": 1697007716511,
     "user": {
      "displayName": "ccc flkwerkdai",
      "userId": "13507850890638580947"
     },
     "user_tz": -540
    },
    "id": "K90WUcwLievF",
    "outputId": "5e2c54ee-fdf6-477d-e4dc-07b016672359"
   },
   "outputs": [
    {
     "name": "stdout",
     "output_type": "stream",
     "text": [
      "['natural', 'language', 'processing', 'nlp', 'is', 'a', 'field', 'of', 'computer', 'science', 'artificial', 'intelligence', 'and', 'computational', 'linguistics', 'concerned', 'with', 'the', 'interactions', 'between', 'computers', 'and', 'human', 'natural', 'languages']\n",
      "['자연어', '처리', 'Natural', 'Language', 'Processing', 'NLP', '늘다', '인간', '의', '언어', '현상', '을', '컴퓨터', '와', '같다', '기계', '를', '이용', '하다', '모사', '하다', '수', '있다', '하다', '인공', '지능', '의', '하위', '분야', '중', '하나', '이다']\n"
     ]
    }
   ],
   "source": [
    "# 정제 (Cleaning) 및 정규화 (Normalization) : 모든 단어 소문자 변환, 어간추출 ,원형 복원\n",
    "cleaned_tokens1 = [token.lower() for token in tokens1 if token.isalnum()]\n",
    "print(cleaned_tokens1)\n",
    "\n",
    "cleaned_tokens2 = [token for token in tokens2 if token.isalnum()]\n",
    "print(cleaned_tokens2)"
   ]
  },
  {
   "cell_type": "code",
   "execution_count": 16,
   "metadata": {
    "colab": {
     "base_uri": "https://localhost:8080/"
    },
    "executionInfo": {
     "elapsed": 2674,
     "status": "ok",
     "timestamp": 1697007731040,
     "user": {
      "displayName": "ccc flkwerkdai",
      "userId": "13507850890638580947"
     },
     "user_tz": -540
    },
    "id": "FBIdOeQTistN",
    "outputId": "8056b48d-9277-4384-ec9e-d336d4052708"
   },
   "outputs": [
    {
     "name": "stdout",
     "output_type": "stream",
     "text": [
      "['natur', 'languag', 'process', 'nlp', 'is', 'a', 'field', 'of', 'comput', 'scienc', 'artifici', 'intellig', 'and', 'comput', 'linguist', 'concern', 'with', 'the', 'interact', 'between', 'comput', 'and', 'human', 'natur', 'languag']\n"
     ]
    },
    {
     "name": "stderr",
     "output_type": "stream",
     "text": [
      "[nltk_data] Downloading package wordnet to /root/nltk_data...\n"
     ]
    },
    {
     "name": "stdout",
     "output_type": "stream",
     "text": [
      "<WordNetLemmatizer>\n"
     ]
    }
   ],
   "source": [
    "# 어간 추출 (Stemming)\n",
    "stemmer1 = nltk.stem.PorterStemmer()\n",
    "stemmed_tokens1 = [stemmer1.stem(token) for token in cleaned_tokens1]\n",
    "print(stemmed_tokens1)\n",
    "\n",
    "# 표제어 추출 (Lemmatization)\n",
    "nltk.download('wordnet')\n",
    "lemmatizer1 = nltk.stem.WordNetLemmatizer()\n",
    "lemmatized_tokens1 = [lemmatizer1.lemmatize(token) for token in cleaned_tokens1]\n",
    "print(lemmatizer1)"
   ]
  },
  {
   "cell_type": "code",
   "execution_count": 17,
   "metadata": {
    "colab": {
     "base_uri": "https://localhost:8080/"
    },
    "executionInfo": {
     "elapsed": 267,
     "status": "ok",
     "timestamp": 1697007766244,
     "user": {
      "displayName": "ccc flkwerkdai",
      "userId": "13507850890638580947"
     },
     "user_tz": -540
    },
    "id": "oyuYlon6i2_e",
    "outputId": "09b5f5b2-0074-4b18-d4a6-b9567d7ccad4"
   },
   "outputs": [
    {
     "name": "stdout",
     "output_type": "stream",
     "text": [
      "['natural', 'language', 'processing', 'nlp', 'field', 'computer', 'science', 'artificial', 'intelligence', 'computational', 'linguistics', 'concerned', 'interaction', 'computer', 'human', 'natural', 'language']\n",
      "['자연어', '처리', 'Natural', 'Language', 'Processing', 'NLP', '늘다', '인간', '의', '언어', '현상', '컴퓨터', '와', '같다', '기계', '이용', '하다', '모사', '하다', '수', '있다', '하다', '인공', '지능', '의', '하위', '분야', '중', '하나', '이다']\n"
     ]
    },
    {
     "name": "stderr",
     "output_type": "stream",
     "text": [
      "[nltk_data] Downloading package stopwords to /root/nltk_data...\n",
      "[nltk_data]   Unzipping corpora/stopwords.zip.\n"
     ]
    }
   ],
   "source": [
    "# 불용어 (Stopword) 제거\n",
    "\n",
    "nltk.download('stopwords')\n",
    "\n",
    "stop_words1 = set(nltk.corpus.stopwords.words('english'))\n",
    "filtered_tokens1 = [token for token in lemmatized_tokens1 if token not in stop_words1]\n",
    "print(filtered_tokens1)\n",
    "\n",
    "stop_words2 = set([\"은\", \"는\", \"이\", \"가\", \"을\", \"를\"])\n",
    "filtered_tokens2 = [token for token in cleaned_tokens2 if token not in stop_words2]\n",
    "print(filtered_tokens2)\n"
   ]
  },
  {
   "cell_type": "markdown",
   "metadata": {
    "id": "HwNEV528i572"
   },
   "source": [
    "#### (4) 워드클라우드 생성"
   ]
  },
  {
   "cell_type": "code",
   "execution_count": 18,
   "metadata": {
    "colab": {
     "base_uri": "https://localhost:8080/"
    },
    "executionInfo": {
     "elapsed": 768,
     "status": "ok",
     "timestamp": 1697007807428,
     "user": {
      "displayName": "ccc flkwerkdai",
      "userId": "13507850890638580947"
     },
     "user_tz": -540
    },
    "id": "GqvL37a9i8Ct",
    "outputId": "247c56cf-106e-4b0b-9ac5-010435db2bad"
   },
   "outputs": [
    {
     "data": {
      "text/plain": [
       "<wordcloud.wordcloud.WordCloud at 0x7ce6ca897460>"
      ]
     },
     "execution_count": 18,
     "metadata": {},
     "output_type": "execute_result"
    }
   ],
   "source": [
    "from wordcloud import WordCloud\n",
    "\n",
    "# 워드클라우드 생성\n",
    "wordcloud = WordCloud(width=800, height=400, background_color='white')\n",
    "\n",
    "# 폰트 변경\n",
    "wordcloud.font_path = '/usr/share/fonts/truetype/nanum/NanumBarunGothic.ttf'\n",
    "wordcloud.generate(' '.join(filtered_tokens1))\n",
    "wordcloud.to_file(\"wordcloud1.png\")\n",
    "\n",
    "wordcloud.generate(' '.join(filtered_tokens2))\n",
    "wordcloud.to_file(\"wordcloud2.png\")"
   ]
  },
  {
   "cell_type": "code",
   "execution_count": 19,
   "metadata": {
    "colab": {
     "base_uri": "https://localhost:8080/",
     "height": 285
    },
    "executionInfo": {
     "elapsed": 817,
     "status": "ok",
     "timestamp": 1697008422689,
     "user": {
      "displayName": "ccc flkwerkdai",
      "userId": "13507850890638580947"
     },
     "user_tz": -540
    },
    "id": "xJdR6iHojiX-",
    "outputId": "d548f0fb-ffc8-479d-8a53-ae9b13e9f142"
   },
   "outputs": [
    {
     "data": {
      "image/png": "[encoded data removed]",
      "text/plain": [
       "<Figure size 640x480 with 1 Axes>"
      ]
     },
     "metadata": {},
     "output_type": "display_data"
    }
   ],
   "source": [
    "import matplotlib as mpl\n",
    "import matplotlib.pyplot as plt\n",
    "# Colab 의 한글 폰트 설정\n",
    "plt.rc('font', family='NanumBarunGothic')\n",
    "mpl.rc('axes', unicode_minus=False)\n",
    "# 워드클라우드 출력\n",
    "plt.axis('off')\n",
    "plt.imshow(wordcloud)\n",
    "plt.show()"
   ]
  },
  {
   "cell_type": "markdown",
   "metadata": {
    "id": "Z4Lonx5LlZRX"
   },
   "source": [
    "`1` 텍스트자체의전처리\n",
    "\n",
    "*  토큰화(Tokenization)\n",
    "* 정제(Cleaning)and정규화(Normalization)\n",
    "* 어간추출(Stemming)and원형복원(Lemmatization)\n",
    "* 불용어(Stopword)"
   ]
  },
  {
   "cell_type": "markdown",
   "metadata": {
    "id": "hSMawn0GlizX"
   },
   "source": [
    "`2`  학습을위한전처리\n",
    "\n",
    "*  라벨인코딩&원핫인코딩\n",
    "* 시퀀스패딩\n",
    "* 워드임베딩(WordEmbedding)\n",
    "* 학습/검증/테스트데이터분리\n",
    "\n"
   ]
  }
 ],
 "metadata": {
  "accelerator": "GPU",
  "colab": {
   "authorship_tag": "ABX9TyNhHYyDl8sWjjHPxvmGokrM",
   "gpuType": "T4",
   "mount_file_id": "1XnO1ljPm099rNI7VY2msFJPU19AWTRxP",
   "provenance": [],
   "toc_visible": true
  },
  "kernelspec": {
   "display_name": "Python 3 (ipykernel)",
   "language": "python",
   "name": "python3"
  },
  "language_info": {
   "codemirror_mode": {
    "name": "ipython",
    "version": 3
   },
   "file_extension": ".py",
   "mimetype": "text/x-python",
   "name": "python",
   "nbconvert_exporter": "python",
   "pygments_lexer": "ipython3",
   "version": "3.11.4"
  }
 },
 "nbformat": 4,
 "nbformat_minor": 4
}
