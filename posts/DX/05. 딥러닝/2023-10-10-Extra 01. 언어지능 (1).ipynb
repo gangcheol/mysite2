{
 "cells": [
  {
   "cell_type": "raw",
   "metadata": {
    "id": "2ScRjMR8_EQH"
   },
   "source": [
    "---\n",
    "title : \"Extra 01. 언어지능 (1)\"\n",
    "author : \"GC\"\n",
    "date : \"10/10/23\"\n",
    "categories : [딥러닝, 언어지능]\n",
    "---"
   ]
  },
  {
   "cell_type": "code",
   "execution_count": 1,
   "metadata": {
    "colab": {
     "base_uri": "https://localhost:8080/"
    },
    "executionInfo": {
     "elapsed": 348,
     "status": "ok",
     "timestamp": 1696913691776,
     "user": {
      "displayName": "ccc flkwerkdai",
      "userId": "13507850890638580947"
     },
     "user_tz": -540
    },
    "id": "BWXP_lUqICDp",
    "outputId": "ca768a9a-a097-47e3-ba60-a539a3b14a6b"
   },
   "outputs": [
    {
     "name": "stdout",
     "output_type": "stream",
     "text": [
      "/content/drive/MyDrive/Colab Notebooks/ISLP\n"
     ]
    }
   ],
   "source": [
    "cd /content/drive/MyDrive/Colab Notebooks/ISLP/"
   ]
  },
  {
   "cell_type": "markdown",
   "metadata": {
    "id": "uwkqYTNT_sHJ"
   },
   "source": [
    "# 1.review"
   ]
  },
  {
   "cell_type": "markdown",
   "metadata": {
    "id": "nF5VmI4LIdFa"
   },
   "source": [
    "`-` 이번엔  Sequential이 아닌 함수형으로 모델 구조를 생성함!\n",
    "\n",
    "* 먼가 이 표현이 훨씬 아름답다..."
   ]
  },
  {
   "cell_type": "markdown",
   "metadata": {
    "id": "8zMGjzH5KJ5J"
   },
   "source": [
    "## ex1.레모네이드"
   ]
  },
  {
   "cell_type": "markdown",
   "metadata": {
    "id": "ZZj2ZQRFG-JS"
   },
   "source": [
    "`0` import"
   ]
  },
  {
   "cell_type": "code",
   "execution_count": 2,
   "metadata": {
    "executionInfo": {
     "elapsed": 3746,
     "status": "ok",
     "timestamp": 1696913696122,
     "user": {
      "displayName": "ccc flkwerkdai",
      "userId": "13507850890638580947"
     },
     "user_tz": -540
    },
    "id": "hagqWl9I_2a4"
   },
   "outputs": [],
   "source": [
    "import pandas as pd\n",
    "import tensorflow as tf"
   ]
  },
  {
   "cell_type": "markdown",
   "metadata": {
    "id": "UpybjPgyG8hS"
   },
   "source": [
    "`1` 데이터 준비"
   ]
  },
  {
   "cell_type": "code",
   "execution_count": 3,
   "metadata": {
    "executionInfo": {
     "elapsed": 2,
     "status": "ok",
     "timestamp": 1696913696122,
     "user": {
      "displayName": "ccc flkwerkdai",
      "userId": "13507850890638580947"
     },
     "user_tz": -540
    },
    "id": "oEo9ZKOmGNHD"
   },
   "outputs": [],
   "source": [
    "레모네이드 = pd.read_csv(\"https://raw.githubusercontent.com/blackdew/tensorflow1/master/csv/lemonade.csv\")\n",
    "독립 = 레모네이드[[\"온도\"]]\n",
    "종속 = 레모네이드[[\"판매량\"]]"
   ]
  },
  {
   "cell_type": "markdown",
   "metadata": {
    "id": "-ar5hxRVHBUS"
   },
   "source": [
    "`2` 모델 구조 생성"
   ]
  },
  {
   "cell_type": "code",
   "execution_count": 4,
   "metadata": {
    "executionInfo": {
     "elapsed": 2120,
     "status": "ok",
     "timestamp": 1696913698241,
     "user": {
      "displayName": "ccc flkwerkdai",
      "userId": "13507850890638580947"
     },
     "user_tz": -540
    },
    "id": "heEDQ6eSGaJh"
   },
   "outputs": [],
   "source": [
    "X = tf.keras.Input(shape = [1])\n",
    "Y = tf.keras.layers.Dense(1)(X)\n",
    "\n",
    "model = tf.keras.Model(X,Y)\n",
    "model.compile(loss = \"mse\")"
   ]
  },
  {
   "cell_type": "markdown",
   "metadata": {
    "id": "x98B8-H_HEWy"
   },
   "source": [
    "`3` 모델학습"
   ]
  },
  {
   "cell_type": "code",
   "execution_count": 5,
   "metadata": {
    "colab": {
     "base_uri": "https://localhost:8080/"
    },
    "executionInfo": {
     "elapsed": 2682,
     "status": "ok",
     "timestamp": 1696913700921,
     "user": {
      "displayName": "ccc flkwerkdai",
      "userId": "13507850890638580947"
     },
     "user_tz": -540
    },
    "id": "seZ5rEJ-GqVC",
    "outputId": "46753b6d-9fb2-451d-c98e-43e7f285a6f6"
   },
   "outputs": [
    {
     "name": "stdout",
     "output_type": "stream",
     "text": [
      "Epoch 1/10\n",
      "1/1 [==============================] - 2s 2s/step - loss: 3555.6960\n",
      "Epoch 2/10\n",
      "1/1 [==============================] - 0s 18ms/step - loss: 3546.8157\n",
      "Epoch 3/10\n",
      "1/1 [==============================] - 0s 12ms/step - loss: 3540.3838\n",
      "Epoch 4/10\n",
      "1/1 [==============================] - 0s 13ms/step - loss: 3535.0046\n",
      "Epoch 5/10\n",
      "1/1 [==============================] - 0s 13ms/step - loss: 3530.2344\n",
      "Epoch 6/10\n",
      "1/1 [==============================] - 0s 13ms/step - loss: 3525.8665\n",
      "Epoch 7/10\n",
      "1/1 [==============================] - 0s 20ms/step - loss: 3521.7869\n",
      "Epoch 8/10\n",
      "1/1 [==============================] - 0s 15ms/step - loss: 3517.9229\n",
      "Epoch 9/10\n",
      "1/1 [==============================] - 0s 13ms/step - loss: 3514.2273\n",
      "Epoch 10/10\n",
      "1/1 [==============================] - 0s 12ms/step - loss: 3510.6660\n"
     ]
    },
    {
     "data": {
      "text/plain": [
       "<keras.src.callbacks.History at 0x7e4414cd8970>"
      ]
     },
     "execution_count": 5,
     "metadata": {},
     "output_type": "execute_result"
    }
   ],
   "source": [
    "model.fit(독립, 종속, epochs  = 10)"
   ]
  },
  {
   "cell_type": "markdown",
   "metadata": {
    "id": "NZLZZf_UHzXh"
   },
   "source": [
    "`4` 모델학습2. epochs를 많이 줘보자"
   ]
  },
  {
   "cell_type": "code",
   "execution_count": 6,
   "metadata": {
    "colab": {
     "base_uri": "https://localhost:8080/"
    },
    "executionInfo": {
     "elapsed": 10305,
     "status": "ok",
     "timestamp": 1696913711224,
     "user": {
      "displayName": "ccc flkwerkdai",
      "userId": "13507850890638580947"
     },
     "user_tz": -540
    },
    "id": "3VLG6AJAH45R",
    "outputId": "ef6ff991-61d3-4dcc-99c9-3d6a5b201555"
   },
   "outputs": [
    {
     "data": {
      "text/plain": [
       "<keras.src.callbacks.History at 0x7e4406742410>"
      ]
     },
     "execution_count": 6,
     "metadata": {},
     "output_type": "execute_result"
    }
   ],
   "source": [
    "model.fit(독립, 종속, epochs  = 1000, verbose = 0)"
   ]
  },
  {
   "cell_type": "code",
   "execution_count": 7,
   "metadata": {
    "colab": {
     "base_uri": "https://localhost:8080/"
    },
    "executionInfo": {
     "elapsed": 6,
     "status": "ok",
     "timestamp": 1696913711224,
     "user": {
      "displayName": "ccc flkwerkdai",
      "userId": "13507850890638580947"
     },
     "user_tz": -540
    },
    "id": "gOm9P0J9IL5K",
    "outputId": "86cbe5f2-8061-476e-a4a1-f57091e663d6"
   },
   "outputs": [
    {
     "data": {
      "text/plain": [
       "[1292.983642578125,\n",
       " 1291.2996826171875,\n",
       " 1289.6168212890625,\n",
       " 1287.9349365234375,\n",
       " 1286.2542724609375,\n",
       " 1284.57470703125,\n",
       " 1282.8961181640625,\n",
       " 1281.21875,\n",
       " 1279.54248046875,\n",
       " 1277.8675537109375]"
      ]
     },
     "execution_count": 7,
     "metadata": {},
     "output_type": "execute_result"
    }
   ],
   "source": [
    "model.history.history[\"loss\"][-10:]"
   ]
  },
  {
   "cell_type": "markdown",
   "metadata": {
    "id": "uOaTIh3kI056"
   },
   "source": [
    "`5` predict"
   ]
  },
  {
   "cell_type": "code",
   "execution_count": 8,
   "metadata": {
    "colab": {
     "base_uri": "https://localhost:8080/",
     "height": 237
    },
    "executionInfo": {
     "elapsed": 5,
     "status": "ok",
     "timestamp": 1696913711224,
     "user": {
      "displayName": "ccc flkwerkdai",
      "userId": "13507850890638580947"
     },
     "user_tz": -540
    },
    "id": "NWcJH7q2I9-I",
    "outputId": "abb3345f-914c-41b6-937a-05ae40247804"
   },
   "outputs": [
    {
     "data": {
      "text/html": [
       "\n",
       "  <div id=\"df-5362e618-321d-4545-b6d7-a4dba6c6563d\" class=\"colab-df-container\">\n",
       "    <div>\n",
       "<style scoped>\n",
       "    .dataframe tbody tr th:only-of-type {\n",
       "        vertical-align: middle;\n",
       "    }\n",
       "\n",
       "    .dataframe tbody tr th {\n",
       "        vertical-align: top;\n",
       "    }\n",
       "\n",
       "    .dataframe thead th {\n",
       "        text-align: right;\n",
       "    }\n",
       "</style>\n",
       "<table border=\"1\" class=\"dataframe\">\n",
       "  <thead>\n",
       "    <tr style=\"text-align: right;\">\n",
       "      <th></th>\n",
       "      <th>온도</th>\n",
       "      <th>판매량</th>\n",
       "    </tr>\n",
       "  </thead>\n",
       "  <tbody>\n",
       "    <tr>\n",
       "      <th>0</th>\n",
       "      <td>20</td>\n",
       "      <td>40</td>\n",
       "    </tr>\n",
       "    <tr>\n",
       "      <th>1</th>\n",
       "      <td>21</td>\n",
       "      <td>42</td>\n",
       "    </tr>\n",
       "    <tr>\n",
       "      <th>2</th>\n",
       "      <td>22</td>\n",
       "      <td>44</td>\n",
       "    </tr>\n",
       "    <tr>\n",
       "      <th>3</th>\n",
       "      <td>23</td>\n",
       "      <td>46</td>\n",
       "    </tr>\n",
       "    <tr>\n",
       "      <th>4</th>\n",
       "      <td>24</td>\n",
       "      <td>48</td>\n",
       "    </tr>\n",
       "    <tr>\n",
       "      <th>5</th>\n",
       "      <td>25</td>\n",
       "      <td>50</td>\n",
       "    </tr>\n",
       "  </tbody>\n",
       "</table>\n",
       "</div>\n",
       "    <div class=\"colab-df-buttons\">\n",
       "\n",
       "  <div class=\"colab-df-container\">\n",
       "    <button class=\"colab-df-convert\" onclick=\"convertToInteractive('df-5362e618-321d-4545-b6d7-a4dba6c6563d')\"\n",
       "            title=\"Convert this dataframe to an interactive table.\"\n",
       "            style=\"display:none;\">\n",
       "\n",
       "  <svg xmlns=\"http://www.w3.org/2000/svg\" height=\"24px\" viewBox=\"0 -960 960 960\">\n",
       "    <path d=\"M120-120v-720h720v720H120Zm60-500h600v-160H180v160Zm220 220h160v-160H400v160Zm0 220h160v-160H400v160ZM180-400h160v-160H180v160Zm440 0h160v-160H620v160ZM180-180h160v-160H180v160Zm440 0h160v-160H620v160Z\"/>\n",
       "  </svg>\n",
       "    </button>\n",
       "\n",
       "  <style>\n",
       "    .colab-df-container {\n",
       "      display:flex;\n",
       "      gap: 12px;\n",
       "    }\n",
       "\n",
       "    .colab-df-convert {\n",
       "      background-color: #E8F0FE;\n",
       "      border: none;\n",
       "      border-radius: 50%;\n",
       "      cursor: pointer;\n",
       "      display: none;\n",
       "      fill: #1967D2;\n",
       "      height: 32px;\n",
       "      padding: 0 0 0 0;\n",
       "      width: 32px;\n",
       "    }\n",
       "\n",
       "    .colab-df-convert:hover {\n",
       "      background-color: #E2EBFA;\n",
       "      box-shadow: 0px 1px 2px rgba(60, 64, 67, 0.3), 0px 1px 3px 1px rgba(60, 64, 67, 0.15);\n",
       "      fill: #174EA6;\n",
       "    }\n",
       "\n",
       "    .colab-df-buttons div {\n",
       "      margin-bottom: 4px;\n",
       "    }\n",
       "\n",
       "    [theme=dark] .colab-df-convert {\n",
       "      background-color: #3B4455;\n",
       "      fill: #D2E3FC;\n",
       "    }\n",
       "\n",
       "    [theme=dark] .colab-df-convert:hover {\n",
       "      background-color: #434B5C;\n",
       "      box-shadow: 0px 1px 3px 1px rgba(0, 0, 0, 0.15);\n",
       "      filter: drop-shadow(0px 1px 2px rgba(0, 0, 0, 0.3));\n",
       "      fill: #FFFFFF;\n",
       "    }\n",
       "  </style>\n",
       "\n",
       "    <script>\n",
       "      const buttonEl =\n",
       "        document.querySelector('#df-5362e618-321d-4545-b6d7-a4dba6c6563d button.colab-df-convert');\n",
       "      buttonEl.style.display =\n",
       "        google.colab.kernel.accessAllowed ? 'block' : 'none';\n",
       "\n",
       "      async function convertToInteractive(key) {\n",
       "        const element = document.querySelector('#df-5362e618-321d-4545-b6d7-a4dba6c6563d');\n",
       "        const dataTable =\n",
       "          await google.colab.kernel.invokeFunction('convertToInteractive',\n",
       "                                                    [key], {});\n",
       "        if (!dataTable) return;\n",
       "\n",
       "        const docLinkHtml = 'Like what you see? Visit the ' +\n",
       "          '<a target=\"_blank\" href=https://colab.research.google.com/notebooks/data_table.ipynb>data table notebook</a>'\n",
       "          + ' to learn more about interactive tables.';\n",
       "        element.innerHTML = '';\n",
       "        dataTable['output_type'] = 'display_data';\n",
       "        await google.colab.output.renderOutput(dataTable, element);\n",
       "        const docLink = document.createElement('div');\n",
       "        docLink.innerHTML = docLinkHtml;\n",
       "        element.appendChild(docLink);\n",
       "      }\n",
       "    </script>\n",
       "  </div>\n",
       "\n",
       "\n",
       "<div id=\"df-735e6412-e1ea-4645-b4e3-aa1567de7e03\">\n",
       "  <button class=\"colab-df-quickchart\" onclick=\"quickchart('df-735e6412-e1ea-4645-b4e3-aa1567de7e03')\"\n",
       "            title=\"Suggest charts.\"\n",
       "            style=\"display:none;\">\n",
       "\n",
       "<svg xmlns=\"http://www.w3.org/2000/svg\" height=\"24px\"viewBox=\"0 0 24 24\"\n",
       "     width=\"24px\">\n",
       "    <g>\n",
       "        <path d=\"M19 3H5c-1.1 0-2 .9-2 2v14c0 1.1.9 2 2 2h14c1.1 0 2-.9 2-2V5c0-1.1-.9-2-2-2zM9 17H7v-7h2v7zm4 0h-2V7h2v10zm4 0h-2v-4h2v4z\"/>\n",
       "    </g>\n",
       "</svg>\n",
       "  </button>\n",
       "\n",
       "<style>\n",
       "  .colab-df-quickchart {\n",
       "      --bg-color: #E8F0FE;\n",
       "      --fill-color: #1967D2;\n",
       "      --hover-bg-color: #E2EBFA;\n",
       "      --hover-fill-color: #174EA6;\n",
       "      --disabled-fill-color: #AAA;\n",
       "      --disabled-bg-color: #DDD;\n",
       "  }\n",
       "\n",
       "  [theme=dark] .colab-df-quickchart {\n",
       "      --bg-color: #3B4455;\n",
       "      --fill-color: #D2E3FC;\n",
       "      --hover-bg-color: #434B5C;\n",
       "      --hover-fill-color: #FFFFFF;\n",
       "      --disabled-bg-color: #3B4455;\n",
       "      --disabled-fill-color: #666;\n",
       "  }\n",
       "\n",
       "  .colab-df-quickchart {\n",
       "    background-color: var(--bg-color);\n",
       "    border: none;\n",
       "    border-radius: 50%;\n",
       "    cursor: pointer;\n",
       "    display: none;\n",
       "    fill: var(--fill-color);\n",
       "    height: 32px;\n",
       "    padding: 0;\n",
       "    width: 32px;\n",
       "  }\n",
       "\n",
       "  .colab-df-quickchart:hover {\n",
       "    background-color: var(--hover-bg-color);\n",
       "    box-shadow: 0 1px 2px rgba(60, 64, 67, 0.3), 0 1px 3px 1px rgba(60, 64, 67, 0.15);\n",
       "    fill: var(--button-hover-fill-color);\n",
       "  }\n",
       "\n",
       "  .colab-df-quickchart-complete:disabled,\n",
       "  .colab-df-quickchart-complete:disabled:hover {\n",
       "    background-color: var(--disabled-bg-color);\n",
       "    fill: var(--disabled-fill-color);\n",
       "    box-shadow: none;\n",
       "  }\n",
       "\n",
       "  .colab-df-spinner {\n",
       "    border: 2px solid var(--fill-color);\n",
       "    border-color: transparent;\n",
       "    border-bottom-color: var(--fill-color);\n",
       "    animation:\n",
       "      spin 1s steps(1) infinite;\n",
       "  }\n",
       "\n",
       "  @keyframes spin {\n",
       "    0% {\n",
       "      border-color: transparent;\n",
       "      border-bottom-color: var(--fill-color);\n",
       "      border-left-color: var(--fill-color);\n",
       "    }\n",
       "    20% {\n",
       "      border-color: transparent;\n",
       "      border-left-color: var(--fill-color);\n",
       "      border-top-color: var(--fill-color);\n",
       "    }\n",
       "    30% {\n",
       "      border-color: transparent;\n",
       "      border-left-color: var(--fill-color);\n",
       "      border-top-color: var(--fill-color);\n",
       "      border-right-color: var(--fill-color);\n",
       "    }\n",
       "    40% {\n",
       "      border-color: transparent;\n",
       "      border-right-color: var(--fill-color);\n",
       "      border-top-color: var(--fill-color);\n",
       "    }\n",
       "    60% {\n",
       "      border-color: transparent;\n",
       "      border-right-color: var(--fill-color);\n",
       "    }\n",
       "    80% {\n",
       "      border-color: transparent;\n",
       "      border-right-color: var(--fill-color);\n",
       "      border-bottom-color: var(--fill-color);\n",
       "    }\n",
       "    90% {\n",
       "      border-color: transparent;\n",
       "      border-bottom-color: var(--fill-color);\n",
       "    }\n",
       "  }\n",
       "</style>\n",
       "\n",
       "  <script>\n",
       "    async function quickchart(key) {\n",
       "      const quickchartButtonEl =\n",
       "        document.querySelector('#' + key + ' button');\n",
       "      quickchartButtonEl.disabled = true;  // To prevent multiple clicks.\n",
       "      quickchartButtonEl.classList.add('colab-df-spinner');\n",
       "      try {\n",
       "        const charts = await google.colab.kernel.invokeFunction(\n",
       "            'suggestCharts', [key], {});\n",
       "      } catch (error) {\n",
       "        console.error('Error during call to suggestCharts:', error);\n",
       "      }\n",
       "      quickchartButtonEl.classList.remove('colab-df-spinner');\n",
       "      quickchartButtonEl.classList.add('colab-df-quickchart-complete');\n",
       "    }\n",
       "    (() => {\n",
       "      let quickchartButtonEl =\n",
       "        document.querySelector('#df-735e6412-e1ea-4645-b4e3-aa1567de7e03 button');\n",
       "      quickchartButtonEl.style.display =\n",
       "        google.colab.kernel.accessAllowed ? 'block' : 'none';\n",
       "    })();\n",
       "  </script>\n",
       "</div>\n",
       "    </div>\n",
       "  </div>\n"
      ],
      "text/plain": [
       "   온도  판매량\n",
       "0  20   40\n",
       "1  21   42\n",
       "2  22   44\n",
       "3  23   46\n",
       "4  24   48\n",
       "5  25   50"
      ]
     },
     "execution_count": 8,
     "metadata": {},
     "output_type": "execute_result"
    }
   ],
   "source": [
    "레모네이드"
   ]
  },
  {
   "cell_type": "code",
   "execution_count": 9,
   "metadata": {
    "colab": {
     "base_uri": "https://localhost:8080/"
    },
    "executionInfo": {
     "elapsed": 583,
     "status": "ok",
     "timestamp": 1696913711803,
     "user": {
      "displayName": "ccc flkwerkdai",
      "userId": "13507850890638580947"
     },
     "user_tz": -540
    },
    "id": "bIx-5Io8I5Nh",
    "outputId": "76d94526-1902-48ec-90ba-c2235e673617"
   },
   "outputs": [
    {
     "name": "stdout",
     "output_type": "stream",
     "text": [
      "1/1 [==============================] - 0s 242ms/step\n"
     ]
    },
    {
     "data": {
      "text/plain": [
       "array([[8.454521]], dtype=float32)"
      ]
     },
     "execution_count": 9,
     "metadata": {},
     "output_type": "execute_result"
    }
   ],
   "source": [
    "model.predict([20])"
   ]
  },
  {
   "cell_type": "markdown",
   "metadata": {
    "id": "AiKlu3IXI8D5"
   },
   "source": [
    "`-` 음 대충 엇비슷한 결과 나온다."
   ]
  },
  {
   "cell_type": "markdown",
   "metadata": {
    "id": "USmquGRHJGx5"
   },
   "source": [
    "`-` weights 확인"
   ]
  },
  {
   "cell_type": "code",
   "execution_count": 10,
   "metadata": {
    "colab": {
     "base_uri": "https://localhost:8080/"
    },
    "executionInfo": {
     "elapsed": 5,
     "status": "ok",
     "timestamp": 1696913711803,
     "user": {
      "displayName": "ccc flkwerkdai",
      "userId": "13507850890638580947"
     },
     "user_tz": -540
    },
    "id": "2V8i-KYJJI8Z",
    "outputId": "f745f742-d1a5-426e-a8ae-072330cd608a"
   },
   "outputs": [
    {
     "data": {
      "text/plain": [
       "[<tf.Variable 'dense/kernel:0' shape=(1, 1) dtype=float32, numpy=array([[0.37199605]], dtype=float32)>,\n",
       " <tf.Variable 'dense/bias:0' shape=(1,) dtype=float32, numpy=array([1.0146004], dtype=float32)>]"
      ]
     },
     "execution_count": 10,
     "metadata": {},
     "output_type": "execute_result"
    }
   ],
   "source": [
    "model.weights"
   ]
  },
  {
   "cell_type": "markdown",
   "metadata": {
    "id": "FxdTSUb0KT74"
   },
   "source": [
    "***"
   ]
  },
  {
   "cell_type": "markdown",
   "metadata": {
    "id": "Po6k_k3lJsvY"
   },
   "source": [
    "## ex2. iris"
   ]
  },
  {
   "cell_type": "markdown",
   "metadata": {
    "id": "FX5yZN4SKUuY"
   },
   "source": [
    "`-` 아이리스 품종분류"
   ]
  },
  {
   "cell_type": "markdown",
   "metadata": {
    "id": "9XerpCTSRC7d"
   },
   "source": [
    "`1` 데이터 이해 및 전처리"
   ]
  },
  {
   "cell_type": "code",
   "execution_count": 11,
   "metadata": {
    "colab": {
     "base_uri": "https://localhost:8080/",
     "height": 206
    },
    "executionInfo": {
     "elapsed": 387,
     "status": "ok",
     "timestamp": 1696913712187,
     "user": {
      "displayName": "ccc flkwerkdai",
      "userId": "13507850890638580947"
     },
     "user_tz": -540
    },
    "id": "5AeSbMj7QObM",
    "outputId": "be656a3f-4dc3-4612-dc3a-ad8a3c0005e6"
   },
   "outputs": [
    {
     "data": {
      "text/html": [
       "\n",
       "  <div id=\"df-cf43aa85-b491-4fd3-a221-ae73de878bd3\" class=\"colab-df-container\">\n",
       "    <div>\n",
       "<style scoped>\n",
       "    .dataframe tbody tr th:only-of-type {\n",
       "        vertical-align: middle;\n",
       "    }\n",
       "\n",
       "    .dataframe tbody tr th {\n",
       "        vertical-align: top;\n",
       "    }\n",
       "\n",
       "    .dataframe thead th {\n",
       "        text-align: right;\n",
       "    }\n",
       "</style>\n",
       "<table border=\"1\" class=\"dataframe\">\n",
       "  <thead>\n",
       "    <tr style=\"text-align: right;\">\n",
       "      <th></th>\n",
       "      <th>꽃잎길이</th>\n",
       "      <th>꽃잎폭</th>\n",
       "      <th>꽃받침길이</th>\n",
       "      <th>꽃받침폭</th>\n",
       "      <th>품종_setosa</th>\n",
       "      <th>품종_versicolor</th>\n",
       "      <th>품종_virginica</th>\n",
       "    </tr>\n",
       "  </thead>\n",
       "  <tbody>\n",
       "    <tr>\n",
       "      <th>0</th>\n",
       "      <td>5.1</td>\n",
       "      <td>3.5</td>\n",
       "      <td>1.4</td>\n",
       "      <td>0.2</td>\n",
       "      <td>1</td>\n",
       "      <td>0</td>\n",
       "      <td>0</td>\n",
       "    </tr>\n",
       "    <tr>\n",
       "      <th>1</th>\n",
       "      <td>4.9</td>\n",
       "      <td>3.0</td>\n",
       "      <td>1.4</td>\n",
       "      <td>0.2</td>\n",
       "      <td>1</td>\n",
       "      <td>0</td>\n",
       "      <td>0</td>\n",
       "    </tr>\n",
       "    <tr>\n",
       "      <th>2</th>\n",
       "      <td>4.7</td>\n",
       "      <td>3.2</td>\n",
       "      <td>1.3</td>\n",
       "      <td>0.2</td>\n",
       "      <td>1</td>\n",
       "      <td>0</td>\n",
       "      <td>0</td>\n",
       "    </tr>\n",
       "    <tr>\n",
       "      <th>3</th>\n",
       "      <td>4.6</td>\n",
       "      <td>3.1</td>\n",
       "      <td>1.5</td>\n",
       "      <td>0.2</td>\n",
       "      <td>1</td>\n",
       "      <td>0</td>\n",
       "      <td>0</td>\n",
       "    </tr>\n",
       "    <tr>\n",
       "      <th>4</th>\n",
       "      <td>5.0</td>\n",
       "      <td>3.6</td>\n",
       "      <td>1.4</td>\n",
       "      <td>0.2</td>\n",
       "      <td>1</td>\n",
       "      <td>0</td>\n",
       "      <td>0</td>\n",
       "    </tr>\n",
       "  </tbody>\n",
       "</table>\n",
       "</div>\n",
       "    <div class=\"colab-df-buttons\">\n",
       "\n",
       "  <div class=\"colab-df-container\">\n",
       "    <button class=\"colab-df-convert\" onclick=\"convertToInteractive('df-cf43aa85-b491-4fd3-a221-ae73de878bd3')\"\n",
       "            title=\"Convert this dataframe to an interactive table.\"\n",
       "            style=\"display:none;\">\n",
       "\n",
       "  <svg xmlns=\"http://www.w3.org/2000/svg\" height=\"24px\" viewBox=\"0 -960 960 960\">\n",
       "    <path d=\"M120-120v-720h720v720H120Zm60-500h600v-160H180v160Zm220 220h160v-160H400v160Zm0 220h160v-160H400v160ZM180-400h160v-160H180v160Zm440 0h160v-160H620v160ZM180-180h160v-160H180v160Zm440 0h160v-160H620v160Z\"/>\n",
       "  </svg>\n",
       "    </button>\n",
       "\n",
       "  <style>\n",
       "    .colab-df-container {\n",
       "      display:flex;\n",
       "      gap: 12px;\n",
       "    }\n",
       "\n",
       "    .colab-df-convert {\n",
       "      background-color: #E8F0FE;\n",
       "      border: none;\n",
       "      border-radius: 50%;\n",
       "      cursor: pointer;\n",
       "      display: none;\n",
       "      fill: #1967D2;\n",
       "      height: 32px;\n",
       "      padding: 0 0 0 0;\n",
       "      width: 32px;\n",
       "    }\n",
       "\n",
       "    .colab-df-convert:hover {\n",
       "      background-color: #E2EBFA;\n",
       "      box-shadow: 0px 1px 2px rgba(60, 64, 67, 0.3), 0px 1px 3px 1px rgba(60, 64, 67, 0.15);\n",
       "      fill: #174EA6;\n",
       "    }\n",
       "\n",
       "    .colab-df-buttons div {\n",
       "      margin-bottom: 4px;\n",
       "    }\n",
       "\n",
       "    [theme=dark] .colab-df-convert {\n",
       "      background-color: #3B4455;\n",
       "      fill: #D2E3FC;\n",
       "    }\n",
       "\n",
       "    [theme=dark] .colab-df-convert:hover {\n",
       "      background-color: #434B5C;\n",
       "      box-shadow: 0px 1px 3px 1px rgba(0, 0, 0, 0.15);\n",
       "      filter: drop-shadow(0px 1px 2px rgba(0, 0, 0, 0.3));\n",
       "      fill: #FFFFFF;\n",
       "    }\n",
       "  </style>\n",
       "\n",
       "    <script>\n",
       "      const buttonEl =\n",
       "        document.querySelector('#df-cf43aa85-b491-4fd3-a221-ae73de878bd3 button.colab-df-convert');\n",
       "      buttonEl.style.display =\n",
       "        google.colab.kernel.accessAllowed ? 'block' : 'none';\n",
       "\n",
       "      async function convertToInteractive(key) {\n",
       "        const element = document.querySelector('#df-cf43aa85-b491-4fd3-a221-ae73de878bd3');\n",
       "        const dataTable =\n",
       "          await google.colab.kernel.invokeFunction('convertToInteractive',\n",
       "                                                    [key], {});\n",
       "        if (!dataTable) return;\n",
       "\n",
       "        const docLinkHtml = 'Like what you see? Visit the ' +\n",
       "          '<a target=\"_blank\" href=https://colab.research.google.com/notebooks/data_table.ipynb>data table notebook</a>'\n",
       "          + ' to learn more about interactive tables.';\n",
       "        element.innerHTML = '';\n",
       "        dataTable['output_type'] = 'display_data';\n",
       "        await google.colab.output.renderOutput(dataTable, element);\n",
       "        const docLink = document.createElement('div');\n",
       "        docLink.innerHTML = docLinkHtml;\n",
       "        element.appendChild(docLink);\n",
       "      }\n",
       "    </script>\n",
       "  </div>\n",
       "\n",
       "\n",
       "<div id=\"df-0154f842-eb44-4415-8017-671e24dbebea\">\n",
       "  <button class=\"colab-df-quickchart\" onclick=\"quickchart('df-0154f842-eb44-4415-8017-671e24dbebea')\"\n",
       "            title=\"Suggest charts.\"\n",
       "            style=\"display:none;\">\n",
       "\n",
       "<svg xmlns=\"http://www.w3.org/2000/svg\" height=\"24px\"viewBox=\"0 0 24 24\"\n",
       "     width=\"24px\">\n",
       "    <g>\n",
       "        <path d=\"M19 3H5c-1.1 0-2 .9-2 2v14c0 1.1.9 2 2 2h14c1.1 0 2-.9 2-2V5c0-1.1-.9-2-2-2zM9 17H7v-7h2v7zm4 0h-2V7h2v10zm4 0h-2v-4h2v4z\"/>\n",
       "    </g>\n",
       "</svg>\n",
       "  </button>\n",
       "\n",
       "<style>\n",
       "  .colab-df-quickchart {\n",
       "      --bg-color: #E8F0FE;\n",
       "      --fill-color: #1967D2;\n",
       "      --hover-bg-color: #E2EBFA;\n",
       "      --hover-fill-color: #174EA6;\n",
       "      --disabled-fill-color: #AAA;\n",
       "      --disabled-bg-color: #DDD;\n",
       "  }\n",
       "\n",
       "  [theme=dark] .colab-df-quickchart {\n",
       "      --bg-color: #3B4455;\n",
       "      --fill-color: #D2E3FC;\n",
       "      --hover-bg-color: #434B5C;\n",
       "      --hover-fill-color: #FFFFFF;\n",
       "      --disabled-bg-color: #3B4455;\n",
       "      --disabled-fill-color: #666;\n",
       "  }\n",
       "\n",
       "  .colab-df-quickchart {\n",
       "    background-color: var(--bg-color);\n",
       "    border: none;\n",
       "    border-radius: 50%;\n",
       "    cursor: pointer;\n",
       "    display: none;\n",
       "    fill: var(--fill-color);\n",
       "    height: 32px;\n",
       "    padding: 0;\n",
       "    width: 32px;\n",
       "  }\n",
       "\n",
       "  .colab-df-quickchart:hover {\n",
       "    background-color: var(--hover-bg-color);\n",
       "    box-shadow: 0 1px 2px rgba(60, 64, 67, 0.3), 0 1px 3px 1px rgba(60, 64, 67, 0.15);\n",
       "    fill: var(--button-hover-fill-color);\n",
       "  }\n",
       "\n",
       "  .colab-df-quickchart-complete:disabled,\n",
       "  .colab-df-quickchart-complete:disabled:hover {\n",
       "    background-color: var(--disabled-bg-color);\n",
       "    fill: var(--disabled-fill-color);\n",
       "    box-shadow: none;\n",
       "  }\n",
       "\n",
       "  .colab-df-spinner {\n",
       "    border: 2px solid var(--fill-color);\n",
       "    border-color: transparent;\n",
       "    border-bottom-color: var(--fill-color);\n",
       "    animation:\n",
       "      spin 1s steps(1) infinite;\n",
       "  }\n",
       "\n",
       "  @keyframes spin {\n",
       "    0% {\n",
       "      border-color: transparent;\n",
       "      border-bottom-color: var(--fill-color);\n",
       "      border-left-color: var(--fill-color);\n",
       "    }\n",
       "    20% {\n",
       "      border-color: transparent;\n",
       "      border-left-color: var(--fill-color);\n",
       "      border-top-color: var(--fill-color);\n",
       "    }\n",
       "    30% {\n",
       "      border-color: transparent;\n",
       "      border-left-color: var(--fill-color);\n",
       "      border-top-color: var(--fill-color);\n",
       "      border-right-color: var(--fill-color);\n",
       "    }\n",
       "    40% {\n",
       "      border-color: transparent;\n",
       "      border-right-color: var(--fill-color);\n",
       "      border-top-color: var(--fill-color);\n",
       "    }\n",
       "    60% {\n",
       "      border-color: transparent;\n",
       "      border-right-color: var(--fill-color);\n",
       "    }\n",
       "    80% {\n",
       "      border-color: transparent;\n",
       "      border-right-color: var(--fill-color);\n",
       "      border-bottom-color: var(--fill-color);\n",
       "    }\n",
       "    90% {\n",
       "      border-color: transparent;\n",
       "      border-bottom-color: var(--fill-color);\n",
       "    }\n",
       "  }\n",
       "</style>\n",
       "\n",
       "  <script>\n",
       "    async function quickchart(key) {\n",
       "      const quickchartButtonEl =\n",
       "        document.querySelector('#' + key + ' button');\n",
       "      quickchartButtonEl.disabled = true;  // To prevent multiple clicks.\n",
       "      quickchartButtonEl.classList.add('colab-df-spinner');\n",
       "      try {\n",
       "        const charts = await google.colab.kernel.invokeFunction(\n",
       "            'suggestCharts', [key], {});\n",
       "      } catch (error) {\n",
       "        console.error('Error during call to suggestCharts:', error);\n",
       "      }\n",
       "      quickchartButtonEl.classList.remove('colab-df-spinner');\n",
       "      quickchartButtonEl.classList.add('colab-df-quickchart-complete');\n",
       "    }\n",
       "    (() => {\n",
       "      let quickchartButtonEl =\n",
       "        document.querySelector('#df-0154f842-eb44-4415-8017-671e24dbebea button');\n",
       "      quickchartButtonEl.style.display =\n",
       "        google.colab.kernel.accessAllowed ? 'block' : 'none';\n",
       "    })();\n",
       "  </script>\n",
       "</div>\n",
       "    </div>\n",
       "  </div>\n"
      ],
      "text/plain": [
       "   꽃잎길이  꽃잎폭  꽃받침길이  꽃받침폭  품종_setosa  품종_versicolor  품종_virginica\n",
       "0   5.1  3.5    1.4   0.2          1              0             0\n",
       "1   4.9  3.0    1.4   0.2          1              0             0\n",
       "2   4.7  3.2    1.3   0.2          1              0             0\n",
       "3   4.6  3.1    1.5   0.2          1              0             0\n",
       "4   5.0  3.6    1.4   0.2          1              0             0"
      ]
     },
     "execution_count": 11,
     "metadata": {},
     "output_type": "execute_result"
    }
   ],
   "source": [
    "df = pd.read_csv(\"https://raw.githubusercontent.com/blackdew/tensorflow1/master/csv/iris.csv\")\n",
    "\n",
    "df = pd.get_dummies(df)\n",
    "df.head()"
   ]
  },
  {
   "cell_type": "code",
   "execution_count": 12,
   "metadata": {
    "colab": {
     "base_uri": "https://localhost:8080/"
    },
    "executionInfo": {
     "elapsed": 3,
     "status": "ok",
     "timestamp": 1696913712187,
     "user": {
      "displayName": "ccc flkwerkdai",
      "userId": "13507850890638580947"
     },
     "user_tz": -540
    },
    "id": "3ztaW3ALQryM",
    "outputId": "09eaf2e6-f661-488b-ba92-6e835bb39ba7"
   },
   "outputs": [
    {
     "name": "stdout",
     "output_type": "stream",
     "text": [
      "(150, 4) (150, 3)\n"
     ]
    }
   ],
   "source": [
    "x_input = df[df.columns.values[:4]]\n",
    "y_label = df[df.columns.values[4:]]\n",
    "\n",
    "print(x_input.shape, y_label.shape)"
   ]
  },
  {
   "cell_type": "markdown",
   "metadata": {
    "id": "FGS2RRPwRALM"
   },
   "source": [
    "`2`  모델 설계"
   ]
  },
  {
   "cell_type": "code",
   "execution_count": 13,
   "metadata": {
    "executionInfo": {
     "elapsed": 2,
     "status": "ok",
     "timestamp": 1696913712187,
     "user": {
      "displayName": "ccc flkwerkdai",
      "userId": "13507850890638580947"
     },
     "user_tz": -540
    },
    "id": "eSaXLDx9RHSU"
   },
   "outputs": [],
   "source": [
    "X = tf.keras.Input(shape = [4])\n",
    "Y = tf.keras.layers.Dense(3, activation = \"softmax\")(X)\n",
    "\n",
    "model = tf.keras.Model(X, Y)\n",
    "model.compile(loss = tf.losses.categorical_crossentropy, metrics = \"accuracy\")"
   ]
  },
  {
   "cell_type": "markdown",
   "metadata": {
    "id": "0fR_bPpoSnAz"
   },
   "source": [
    "* 컴퓨터는 loss만 보고 loss가 낮아지는 방향으로 `weight`를 조절해 간다."
   ]
  },
  {
   "cell_type": "markdown",
   "metadata": {
    "id": "Tt3VW-J-StVE"
   },
   "source": [
    "*  metrics는 사람이 보려고 만들어준거 컴퓨터는 상관안함."
   ]
  },
  {
   "cell_type": "markdown",
   "metadata": {
    "id": "ThWmhidKRZbt"
   },
   "source": [
    "`3` 모델 학습"
   ]
  },
  {
   "cell_type": "code",
   "execution_count": 14,
   "metadata": {
    "colab": {
     "base_uri": "https://localhost:8080/"
    },
    "executionInfo": {
     "elapsed": 6309,
     "status": "ok",
     "timestamp": 1696913718494,
     "user": {
      "displayName": "ccc flkwerkdai",
      "userId": "13507850890638580947"
     },
     "user_tz": -540
    },
    "id": "j38O8moiRbI8",
    "outputId": "a980e1fa-c8ca-4c73-fa8a-730c186b9242"
   },
   "outputs": [
    {
     "data": {
      "text/plain": [
       "<keras.src.callbacks.History at 0x7e4400f3f250>"
      ]
     },
     "execution_count": 14,
     "metadata": {},
     "output_type": "execute_result"
    }
   ],
   "source": [
    "model.fit(x_input, y_label, epochs = 100, verbose = 0)"
   ]
  },
  {
   "cell_type": "markdown",
   "metadata": {
    "id": "LIqnweudRuxc"
   },
   "source": [
    "*  history의 keys값 확인"
   ]
  },
  {
   "cell_type": "code",
   "execution_count": 15,
   "metadata": {
    "colab": {
     "base_uri": "https://localhost:8080/"
    },
    "executionInfo": {
     "elapsed": 13,
     "status": "ok",
     "timestamp": 1696913718494,
     "user": {
      "displayName": "ccc flkwerkdai",
      "userId": "13507850890638580947"
     },
     "user_tz": -540
    },
    "id": "cPoSWeSKRiCc",
    "outputId": "3e6a6ef8-d4c8-4fb1-e156-954329b86660"
   },
   "outputs": [
    {
     "data": {
      "text/plain": [
       "dict_keys(['loss', 'accuracy'])"
      ]
     },
     "execution_count": 15,
     "metadata": {},
     "output_type": "execute_result"
    }
   ],
   "source": [
    "model.history.history.keys()"
   ]
  },
  {
   "cell_type": "code",
   "execution_count": 16,
   "metadata": {
    "colab": {
     "base_uri": "https://localhost:8080/",
     "height": 206
    },
    "executionInfo": {
     "elapsed": 11,
     "status": "ok",
     "timestamp": 1696913718494,
     "user": {
      "displayName": "ccc flkwerkdai",
      "userId": "13507850890638580947"
     },
     "user_tz": -540
    },
    "id": "9YLczWzmRytk",
    "outputId": "1329134e-2b44-47b9-b505-a0eded29fe42"
   },
   "outputs": [
    {
     "data": {
      "text/html": [
       "\n",
       "  <div id=\"df-b01e1514-2939-4dd8-8f04-7d882424ef6b\" class=\"colab-df-container\">\n",
       "    <div>\n",
       "<style scoped>\n",
       "    .dataframe tbody tr th:only-of-type {\n",
       "        vertical-align: middle;\n",
       "    }\n",
       "\n",
       "    .dataframe tbody tr th {\n",
       "        vertical-align: top;\n",
       "    }\n",
       "\n",
       "    .dataframe thead th {\n",
       "        text-align: right;\n",
       "    }\n",
       "</style>\n",
       "<table border=\"1\" class=\"dataframe\">\n",
       "  <thead>\n",
       "    <tr style=\"text-align: right;\">\n",
       "      <th></th>\n",
       "      <th>loss</th>\n",
       "      <th>accuracy</th>\n",
       "    </tr>\n",
       "  </thead>\n",
       "  <tbody>\n",
       "    <tr>\n",
       "      <th>0</th>\n",
       "      <td>1.455366</td>\n",
       "      <td>0.333333</td>\n",
       "    </tr>\n",
       "    <tr>\n",
       "      <th>1</th>\n",
       "      <td>1.385790</td>\n",
       "      <td>0.333333</td>\n",
       "    </tr>\n",
       "    <tr>\n",
       "      <th>2</th>\n",
       "      <td>1.340312</td>\n",
       "      <td>0.333333</td>\n",
       "    </tr>\n",
       "    <tr>\n",
       "      <th>3</th>\n",
       "      <td>1.300962</td>\n",
       "      <td>0.333333</td>\n",
       "    </tr>\n",
       "    <tr>\n",
       "      <th>4</th>\n",
       "      <td>1.263706</td>\n",
       "      <td>0.333333</td>\n",
       "    </tr>\n",
       "  </tbody>\n",
       "</table>\n",
       "</div>\n",
       "    <div class=\"colab-df-buttons\">\n",
       "\n",
       "  <div class=\"colab-df-container\">\n",
       "    <button class=\"colab-df-convert\" onclick=\"convertToInteractive('df-b01e1514-2939-4dd8-8f04-7d882424ef6b')\"\n",
       "            title=\"Convert this dataframe to an interactive table.\"\n",
       "            style=\"display:none;\">\n",
       "\n",
       "  <svg xmlns=\"http://www.w3.org/2000/svg\" height=\"24px\" viewBox=\"0 -960 960 960\">\n",
       "    <path d=\"M120-120v-720h720v720H120Zm60-500h600v-160H180v160Zm220 220h160v-160H400v160Zm0 220h160v-160H400v160ZM180-400h160v-160H180v160Zm440 0h160v-160H620v160ZM180-180h160v-160H180v160Zm440 0h160v-160H620v160Z\"/>\n",
       "  </svg>\n",
       "    </button>\n",
       "\n",
       "  <style>\n",
       "    .colab-df-container {\n",
       "      display:flex;\n",
       "      gap: 12px;\n",
       "    }\n",
       "\n",
       "    .colab-df-convert {\n",
       "      background-color: #E8F0FE;\n",
       "      border: none;\n",
       "      border-radius: 50%;\n",
       "      cursor: pointer;\n",
       "      display: none;\n",
       "      fill: #1967D2;\n",
       "      height: 32px;\n",
       "      padding: 0 0 0 0;\n",
       "      width: 32px;\n",
       "    }\n",
       "\n",
       "    .colab-df-convert:hover {\n",
       "      background-color: #E2EBFA;\n",
       "      box-shadow: 0px 1px 2px rgba(60, 64, 67, 0.3), 0px 1px 3px 1px rgba(60, 64, 67, 0.15);\n",
       "      fill: #174EA6;\n",
       "    }\n",
       "\n",
       "    .colab-df-buttons div {\n",
       "      margin-bottom: 4px;\n",
       "    }\n",
       "\n",
       "    [theme=dark] .colab-df-convert {\n",
       "      background-color: #3B4455;\n",
       "      fill: #D2E3FC;\n",
       "    }\n",
       "\n",
       "    [theme=dark] .colab-df-convert:hover {\n",
       "      background-color: #434B5C;\n",
       "      box-shadow: 0px 1px 3px 1px rgba(0, 0, 0, 0.15);\n",
       "      filter: drop-shadow(0px 1px 2px rgba(0, 0, 0, 0.3));\n",
       "      fill: #FFFFFF;\n",
       "    }\n",
       "  </style>\n",
       "\n",
       "    <script>\n",
       "      const buttonEl =\n",
       "        document.querySelector('#df-b01e1514-2939-4dd8-8f04-7d882424ef6b button.colab-df-convert');\n",
       "      buttonEl.style.display =\n",
       "        google.colab.kernel.accessAllowed ? 'block' : 'none';\n",
       "\n",
       "      async function convertToInteractive(key) {\n",
       "        const element = document.querySelector('#df-b01e1514-2939-4dd8-8f04-7d882424ef6b');\n",
       "        const dataTable =\n",
       "          await google.colab.kernel.invokeFunction('convertToInteractive',\n",
       "                                                    [key], {});\n",
       "        if (!dataTable) return;\n",
       "\n",
       "        const docLinkHtml = 'Like what you see? Visit the ' +\n",
       "          '<a target=\"_blank\" href=https://colab.research.google.com/notebooks/data_table.ipynb>data table notebook</a>'\n",
       "          + ' to learn more about interactive tables.';\n",
       "        element.innerHTML = '';\n",
       "        dataTable['output_type'] = 'display_data';\n",
       "        await google.colab.output.renderOutput(dataTable, element);\n",
       "        const docLink = document.createElement('div');\n",
       "        docLink.innerHTML = docLinkHtml;\n",
       "        element.appendChild(docLink);\n",
       "      }\n",
       "    </script>\n",
       "  </div>\n",
       "\n",
       "\n",
       "<div id=\"df-2021129d-ed37-43c9-9ed1-5a635d4af155\">\n",
       "  <button class=\"colab-df-quickchart\" onclick=\"quickchart('df-2021129d-ed37-43c9-9ed1-5a635d4af155')\"\n",
       "            title=\"Suggest charts.\"\n",
       "            style=\"display:none;\">\n",
       "\n",
       "<svg xmlns=\"http://www.w3.org/2000/svg\" height=\"24px\"viewBox=\"0 0 24 24\"\n",
       "     width=\"24px\">\n",
       "    <g>\n",
       "        <path d=\"M19 3H5c-1.1 0-2 .9-2 2v14c0 1.1.9 2 2 2h14c1.1 0 2-.9 2-2V5c0-1.1-.9-2-2-2zM9 17H7v-7h2v7zm4 0h-2V7h2v10zm4 0h-2v-4h2v4z\"/>\n",
       "    </g>\n",
       "</svg>\n",
       "  </button>\n",
       "\n",
       "<style>\n",
       "  .colab-df-quickchart {\n",
       "      --bg-color: #E8F0FE;\n",
       "      --fill-color: #1967D2;\n",
       "      --hover-bg-color: #E2EBFA;\n",
       "      --hover-fill-color: #174EA6;\n",
       "      --disabled-fill-color: #AAA;\n",
       "      --disabled-bg-color: #DDD;\n",
       "  }\n",
       "\n",
       "  [theme=dark] .colab-df-quickchart {\n",
       "      --bg-color: #3B4455;\n",
       "      --fill-color: #D2E3FC;\n",
       "      --hover-bg-color: #434B5C;\n",
       "      --hover-fill-color: #FFFFFF;\n",
       "      --disabled-bg-color: #3B4455;\n",
       "      --disabled-fill-color: #666;\n",
       "  }\n",
       "\n",
       "  .colab-df-quickchart {\n",
       "    background-color: var(--bg-color);\n",
       "    border: none;\n",
       "    border-radius: 50%;\n",
       "    cursor: pointer;\n",
       "    display: none;\n",
       "    fill: var(--fill-color);\n",
       "    height: 32px;\n",
       "    padding: 0;\n",
       "    width: 32px;\n",
       "  }\n",
       "\n",
       "  .colab-df-quickchart:hover {\n",
       "    background-color: var(--hover-bg-color);\n",
       "    box-shadow: 0 1px 2px rgba(60, 64, 67, 0.3), 0 1px 3px 1px rgba(60, 64, 67, 0.15);\n",
       "    fill: var(--button-hover-fill-color);\n",
       "  }\n",
       "\n",
       "  .colab-df-quickchart-complete:disabled,\n",
       "  .colab-df-quickchart-complete:disabled:hover {\n",
       "    background-color: var(--disabled-bg-color);\n",
       "    fill: var(--disabled-fill-color);\n",
       "    box-shadow: none;\n",
       "  }\n",
       "\n",
       "  .colab-df-spinner {\n",
       "    border: 2px solid var(--fill-color);\n",
       "    border-color: transparent;\n",
       "    border-bottom-color: var(--fill-color);\n",
       "    animation:\n",
       "      spin 1s steps(1) infinite;\n",
       "  }\n",
       "\n",
       "  @keyframes spin {\n",
       "    0% {\n",
       "      border-color: transparent;\n",
       "      border-bottom-color: var(--fill-color);\n",
       "      border-left-color: var(--fill-color);\n",
       "    }\n",
       "    20% {\n",
       "      border-color: transparent;\n",
       "      border-left-color: var(--fill-color);\n",
       "      border-top-color: var(--fill-color);\n",
       "    }\n",
       "    30% {\n",
       "      border-color: transparent;\n",
       "      border-left-color: var(--fill-color);\n",
       "      border-top-color: var(--fill-color);\n",
       "      border-right-color: var(--fill-color);\n",
       "    }\n",
       "    40% {\n",
       "      border-color: transparent;\n",
       "      border-right-color: var(--fill-color);\n",
       "      border-top-color: var(--fill-color);\n",
       "    }\n",
       "    60% {\n",
       "      border-color: transparent;\n",
       "      border-right-color: var(--fill-color);\n",
       "    }\n",
       "    80% {\n",
       "      border-color: transparent;\n",
       "      border-right-color: var(--fill-color);\n",
       "      border-bottom-color: var(--fill-color);\n",
       "    }\n",
       "    90% {\n",
       "      border-color: transparent;\n",
       "      border-bottom-color: var(--fill-color);\n",
       "    }\n",
       "  }\n",
       "</style>\n",
       "\n",
       "  <script>\n",
       "    async function quickchart(key) {\n",
       "      const quickchartButtonEl =\n",
       "        document.querySelector('#' + key + ' button');\n",
       "      quickchartButtonEl.disabled = true;  // To prevent multiple clicks.\n",
       "      quickchartButtonEl.classList.add('colab-df-spinner');\n",
       "      try {\n",
       "        const charts = await google.colab.kernel.invokeFunction(\n",
       "            'suggestCharts', [key], {});\n",
       "      } catch (error) {\n",
       "        console.error('Error during call to suggestCharts:', error);\n",
       "      }\n",
       "      quickchartButtonEl.classList.remove('colab-df-spinner');\n",
       "      quickchartButtonEl.classList.add('colab-df-quickchart-complete');\n",
       "    }\n",
       "    (() => {\n",
       "      let quickchartButtonEl =\n",
       "        document.querySelector('#df-2021129d-ed37-43c9-9ed1-5a635d4af155 button');\n",
       "      quickchartButtonEl.style.display =\n",
       "        google.colab.kernel.accessAllowed ? 'block' : 'none';\n",
       "    })();\n",
       "  </script>\n",
       "</div>\n",
       "    </div>\n",
       "  </div>\n"
      ],
      "text/plain": [
       "       loss  accuracy\n",
       "0  1.455366  0.333333\n",
       "1  1.385790  0.333333\n",
       "2  1.340312  0.333333\n",
       "3  1.300962  0.333333\n",
       "4  1.263706  0.333333"
      ]
     },
     "execution_count": 16,
     "metadata": {},
     "output_type": "execute_result"
    }
   ],
   "source": [
    "h1 = pd.DataFrame(model.history.history)\n",
    "h1.head()"
   ]
  },
  {
   "cell_type": "markdown",
   "metadata": {
    "id": "9Gjgg_LeSjbT"
   },
   "source": [
    "`4` loss, accuracy 시각화"
   ]
  },
  {
   "cell_type": "code",
   "execution_count": 17,
   "metadata": {
    "executionInfo": {
     "elapsed": 11,
     "status": "ok",
     "timestamp": 1696913718494,
     "user": {
      "displayName": "ccc flkwerkdai",
      "userId": "13507850890638580947"
     },
     "user_tz": -540
    },
    "id": "JjWCn7Y0SUWi"
   },
   "outputs": [],
   "source": [
    "import matplotlib.pyplot  as plt"
   ]
  },
  {
   "cell_type": "code",
   "execution_count": 18,
   "metadata": {
    "colab": {
     "base_uri": "https://localhost:8080/",
     "height": 391
    },
    "executionInfo": {
     "elapsed": 1425,
     "status": "ok",
     "timestamp": 1696913719909,
     "user": {
      "displayName": "ccc flkwerkdai",
      "userId": "13507850890638580947"
     },
     "user_tz": -540
    },
    "id": "B8u95EpfSDc8",
    "outputId": "b3c44ff0-ecfa-41da-f326-3ff951751c6a"
   },
   "outputs": [
    {
     "data": {
      "image/png": "[encoded data removed]",
      "text/plain": [
       "<Figure size 800x400 with 1 Axes>"
      ]
     },
     "metadata": {},
     "output_type": "display_data"
    }
   ],
   "source": [
    "#| code-fold : true\n",
    "plt.figure(figsize = (8, 4))\n",
    "plt.plot(h1[\"loss\"],\".-b\", label = \"loss\", alpha = 0.5)\n",
    "plt.plot(h1[\"accuracy\"],\".-r\", label = \"accuracy\", alpha = 0.5)\n",
    "plt.title(\"train loss & accuracy\")\n",
    "plt.legend()\n",
    "plt.show()"
   ]
  },
  {
   "cell_type": "markdown",
   "metadata": {
    "id": "r2uqJbyPTEGN"
   },
   "source": [
    "***"
   ]
  },
  {
   "cell_type": "markdown",
   "metadata": {
    "id": "MXpVtmp3kYCp"
   },
   "source": [
    "# 언어지능"
   ]
  },
  {
   "cell_type": "markdown",
   "metadata": {
    "id": "6JViNgJllWPx"
   },
   "source": [
    "## 주식예측"
   ]
  },
  {
   "cell_type": "markdown",
   "metadata": {
    "id": "CuoPphToka4h"
   },
   "source": [
    "```python\n",
    "!pip uninstall bokeh -y\n",
    "!pip install bokeh==2.4.3\n",
    "!pip install finance-datareader\n",
    "```"
   ]
  },
  {
   "cell_type": "code",
   "execution_count": 19,
   "metadata": {
    "colab": {
     "base_uri": "https://localhost:8080/"
    },
    "executionInfo": {
     "elapsed": 3,
     "status": "ok",
     "timestamp": 1696913719910,
     "user": {
      "displayName": "ccc flkwerkdai",
      "userId": "13507850890638580947"
     },
     "user_tz": -540
    },
    "id": "R885G9YVlR1g",
    "outputId": "4c4329e0-bf76-4776-c2b3-51fa72d4b978"
   },
   "outputs": [
    {
     "name": "stdout",
     "output_type": "stream",
     "text": [
      "2.4.3\n"
     ]
    }
   ],
   "source": [
    "import bokeh\n",
    "print(bokeh.__version__)"
   ]
  },
  {
   "cell_type": "code",
   "execution_count": 20,
   "metadata": {
    "executionInfo": {
     "elapsed": 674,
     "status": "ok",
     "timestamp": 1696913720581,
     "user": {
      "displayName": "ccc flkwerkdai",
      "userId": "13507850890638580947"
     },
     "user_tz": -540
    },
    "id": "D7B-Oeb4lP0p"
   },
   "outputs": [],
   "source": [
    "import FinanceDataReader as fdr\n",
    "import numpy as np"
   ]
  },
  {
   "cell_type": "markdown",
   "metadata": {
    "id": "llXjhmLtlZjQ"
   },
   "source": [
    "### 데이터 로드 및 준비"
   ]
  },
  {
   "cell_type": "markdown",
   "metadata": {
    "id": "3QSVhzXe7pez"
   },
   "source": [
    "`-` [데이터 상세정보](https://github.com/FinanceData/FinanceDataReader/blob/master/README.md)"
   ]
  },
  {
   "cell_type": "code",
   "execution_count": 21,
   "metadata": {
    "colab": {
     "base_uri": "https://localhost:8080/"
    },
    "executionInfo": {
     "elapsed": 2030,
     "status": "ok",
     "timestamp": 1696913722609,
     "user": {
      "displayName": "ccc flkwerkdai",
      "userId": "13507850890638580947"
     },
     "user_tz": -540
    },
    "id": "dIp_0hbRlTeg",
    "outputId": "04f30943-3c64-46bd-cc5d-0f47bcf33d8a"
   },
   "outputs": [
    {
     "name": "stdout",
     "output_type": "stream",
     "text": [
      "(6000, 5)\n",
      "(5100, 5) (300, 5) (600, 5)\n"
     ]
    }
   ],
   "source": [
    "# KT(030200) 전체 (1999-05-31 ~ 현재)\n",
    "df = fdr.DataReader('030200')\n",
    "data = df.values[ : ,  : -1]\n",
    "print(data.shape)\n",
    "\n",
    "# train, val, test 분리\n",
    "train, val, test = data[:-900], data[-900:-600], data[-600:]\n",
    "print(train.shape, val.shape, test.shape)\n",
    "\n",
    "# normailze - 표준화\n",
    "norm = {'std': train.std(axis=0), 'mean': train.mean(axis=0)}\n",
    "train = (train - norm['mean']) / norm['std']\n",
    "val = (val - norm['mean']) / norm['std']\n",
    "test = (test - norm['mean']) / norm['std']"
   ]
  },
  {
   "cell_type": "markdown",
   "metadata": {
    "id": "LWgFQFYZ5au8"
   },
   "source": [
    "`-` 잎에 데이터 10개의 흐름을 보고 다음날의 종가를 예측"
   ]
  },
  {
   "cell_type": "code",
   "execution_count": 22,
   "metadata": {
    "colab": {
     "base_uri": "https://localhost:8080/"
    },
    "executionInfo": {
     "elapsed": 3,
     "status": "ok",
     "timestamp": 1696913722609,
     "user": {
      "displayName": "ccc flkwerkdai",
      "userId": "13507850890638580947"
     },
     "user_tz": -540
    },
    "id": "61IL9OXZlbfz",
    "outputId": "42c27e57-267e-4c20-dd3a-03e62cd4ca4c"
   },
   "outputs": [
    {
     "name": "stdout",
     "output_type": "stream",
     "text": [
      "(5090, 10, 5) (5090,)\n",
      "(290, 10, 5) (290,)\n",
      "(590, 10, 5) (590,)\n"
     ]
    }
   ],
   "source": [
    "x_train = np.array([train[i:i+10] for i in range(len(train) - 10)])\n",
    "y_train = np.array([train[i+0, 3] for i in range(len(train) - 10)])\n",
    "print(x_train.shape, y_train.shape)\n",
    "\n",
    "x_val = np.array([val[i:i+10] for i in range(len(val) - 10)])\n",
    "y_val = np.array([val[i+10, 3] for i in range(len(val) - 10)])\n",
    "print(x_val.shape, y_val.shape)\n",
    "\n",
    "x_test = np.array([test[i:i+10] for i in range(len(test) - 10)])\n",
    "y_test = np.array([test[i+10, 3] for i in range(len(test) - 10)])\n",
    "print(x_test.shape, y_test.shape)"
   ]
  },
  {
   "cell_type": "markdown",
   "metadata": {
    "id": "brD42KU93TNH"
   },
   "source": [
    "### Vanilla RNN 모델"
   ]
  },
  {
   "cell_type": "code",
   "execution_count": 24,
   "metadata": {
    "executionInfo": {
     "elapsed": 477,
     "status": "ok",
     "timestamp": 1696915059514,
     "user": {
      "displayName": "ccc flkwerkdai",
      "userId": "13507850890638580947"
     },
     "user_tz": -540
    },
    "id": "berX-l8fBNNP"
   },
   "outputs": [],
   "source": [
    "import tensorflow as tf"
   ]
  },
  {
   "cell_type": "markdown",
   "metadata": {
    "id": "uGyvvXc6FrFe"
   },
   "source": [
    "`1` 모델 설계"
   ]
  },
  {
   "cell_type": "code",
   "execution_count": 40,
   "metadata": {
    "executionInfo": {
     "elapsed": 241,
     "status": "ok",
     "timestamp": 1696917486467,
     "user": {
      "displayName": "ccc flkwerkdai",
      "userId": "13507850890638580947"
     },
     "user_tz": -540
    },
    "id": "BJmrPSma3cD-"
   },
   "outputs": [],
   "source": [
    "X = tf.keras.layers.Input(shape=[10, 5])\n",
    "H = tf.keras.layers.SimpleRNN(8)(X)\n",
    "Y = tf.keras.layers.Dense(1)(H)\n",
    "\n",
    "model = tf.keras.models.Model(X, Y)\n",
    "model.compile(loss='mse')"
   ]
  },
  {
   "cell_type": "code",
   "execution_count": 41,
   "metadata": {
    "colab": {
     "base_uri": "https://localhost:8080/"
    },
    "executionInfo": {
     "elapsed": 267,
     "status": "ok",
     "timestamp": 1696917488877,
     "user": {
      "displayName": "ccc flkwerkdai",
      "userId": "13507850890638580947"
     },
     "user_tz": -540
    },
    "id": "83UNMICMKcNp",
    "outputId": "fba41bec-fcd6-48d3-f172-df74958f1957"
   },
   "outputs": [
    {
     "name": "stdout",
     "output_type": "stream",
     "text": [
      "Model: \"model_3\"\n",
      "_________________________________________________________________\n",
      " Layer (type)                Output Shape              Param #   \n",
      "=================================================================\n",
      " input_4 (InputLayer)        [(None, 10, 5)]           0         \n",
      "                                                                 \n",
      " simple_rnn_2 (SimpleRNN)    (None, 8)                 112       \n",
      "                                                                 \n",
      " dense_3 (Dense)             (None, 1)                 9         \n",
      "                                                                 \n",
      "=================================================================\n",
      "Total params: 121 (484.00 Byte)\n",
      "Trainable params: 121 (484.00 Byte)\n",
      "Non-trainable params: 0 (0.00 Byte)\n",
      "_________________________________________________________________\n"
     ]
    }
   ],
   "source": [
    "model.summary()"
   ]
  },
  {
   "cell_type": "markdown",
   "metadata": {
    "id": "yTPugy7JFt78"
   },
   "source": [
    "`2` 모델 학습"
   ]
  },
  {
   "cell_type": "code",
   "execution_count": 32,
   "metadata": {
    "colab": {
     "base_uri": "https://localhost:8080/"
    },
    "executionInfo": {
     "elapsed": 20264,
     "status": "ok",
     "timestamp": 1696916437096,
     "user": {
      "displayName": "ccc flkwerkdai",
      "userId": "13507850890638580947"
     },
     "user_tz": -540
    },
    "id": "tqrHQT1bBsIr",
    "outputId": "7cf0b19b-2261-4c95-c1ca-14c4c4f547c1"
   },
   "outputs": [
    {
     "data": {
      "text/plain": [
       "<keras.src.callbacks.History at 0x7e439a18b3d0>"
      ]
     },
     "execution_count": 32,
     "metadata": {},
     "output_type": "execute_result"
    }
   ],
   "source": [
    "model.fit(x_train, y_train, epochs = 10, validation_data = (x_val, y_val), verbose = 0)"
   ]
  },
  {
   "cell_type": "markdown",
   "metadata": {
    "id": "OiNGknaYFvg9"
   },
   "source": [
    "`3` 예측"
   ]
  },
  {
   "cell_type": "code",
   "execution_count": 33,
   "metadata": {
    "colab": {
     "base_uri": "https://localhost:8080/"
    },
    "executionInfo": {
     "elapsed": 269,
     "status": "ok",
     "timestamp": 1696916439903,
     "user": {
      "displayName": "ccc flkwerkdai",
      "userId": "13507850890638580947"
     },
     "user_tz": -540
    },
    "id": "gvZchOIOFkr1",
    "outputId": "45ad80ba-1ccd-4e38-d3d9-bcb87681bdb7"
   },
   "outputs": [
    {
     "name": "stdout",
     "output_type": "stream",
     "text": [
      "19/19 [==============================] - 0s 2ms/step\n"
     ]
    }
   ],
   "source": [
    "y_pred = model.predict(x_test)"
   ]
  },
  {
   "cell_type": "code",
   "execution_count": 37,
   "metadata": {
    "colab": {
     "base_uri": "https://localhost:8080/",
     "height": 386
    },
    "executionInfo": {
     "elapsed": 1046,
     "status": "ok",
     "timestamp": 1696916485526,
     "user": {
      "displayName": "ccc flkwerkdai",
      "userId": "13507850890638580947"
     },
     "user_tz": -540
    },
    "id": "awmkQyfYFxEN",
    "outputId": "f9a14d57-b984-4974-c5e6-d5968cc9862c"
   },
   "outputs": [
    {
     "data": {
      "text/plain": [
       "<matplotlib.legend.Legend at 0x7e43882bebf0>"
      ]
     },
     "execution_count": 37,
     "metadata": {},
     "output_type": "execute_result"
    },
    {
     "data": {
      "image/png": "[encoded data removed]",
      "text/plain": [
       "<Figure size 1200x400 with 1 Axes>"
      ]
     },
     "metadata": {},
     "output_type": "display_data"
    }
   ],
   "source": [
    "plt.figure(figsize = (12, 4))\n",
    "plt.plot(y_pred,label = r\"$\\hat y$\", alpha = 0.5)\n",
    "plt.plot(y_test ,label = r\"$y$\", alpha = 0.5)\n",
    "plt.legend()"
   ]
  },
  {
   "cell_type": "markdown",
   "metadata": {
    "id": "zGuTuh3ZLnc3"
   },
   "source": [
    "***"
   ]
  },
  {
   "cell_type": "markdown",
   "metadata": {
    "id": "W1_xZ44jLoRq"
   },
   "source": [
    "## 이미지 분류 모델"
   ]
  },
  {
   "cell_type": "code",
   "execution_count": 106,
   "metadata": {
    "colab": {
     "base_uri": "https://localhost:8080/"
    },
    "executionInfo": {
     "elapsed": 685,
     "status": "ok",
     "timestamp": 1696924397555,
     "user": {
      "displayName": "ccc flkwerkdai",
      "userId": "13507850890638580947"
     },
     "user_tz": -540
    },
    "id": "k8g9EF7SLpdp",
    "outputId": "031d599e-bd53-4d72-f876-623613351e82"
   },
   "outputs": [
    {
     "name": "stdout",
     "output_type": "stream",
     "text": [
      "(60000, 28, 28) (60000,)\n"
     ]
    }
   ],
   "source": [
    "import tensorflow as tf\n",
    "\n",
    "# MNIST\n",
    "(x_train, y_train), (x_test, y_test) = tf.keras.datasets.mnist.load_data()\n",
    "print(x_train.shape, y_train.shape)\n",
    "# (60000, 28, 28) (60000,)"
   ]
  },
  {
   "cell_type": "code",
   "execution_count": 102,
   "metadata": {
    "colab": {
     "base_uri": "https://localhost:8080/"
    },
    "executionInfo": {
     "elapsed": 256,
     "status": "ok",
     "timestamp": 1696923138405,
     "user": {
      "displayName": "ccc flkwerkdai",
      "userId": "13507850890638580947"
     },
     "user_tz": -540
    },
    "id": "0JUsWleNgCXu",
    "outputId": "eb65774c-983f-436d-fc6f-ee160ec901ec"
   },
   "outputs": [
    {
     "data": {
      "text/plain": [
       "(10000, 28, 28)"
      ]
     },
     "execution_count": 102,
     "metadata": {},
     "output_type": "execute_result"
    }
   ],
   "source": [
    "x_test.shape"
   ]
  },
  {
   "cell_type": "code",
   "execution_count": 103,
   "metadata": {
    "colab": {
     "base_uri": "https://localhost:8080/"
    },
    "executionInfo": {
     "elapsed": 317,
     "status": "ok",
     "timestamp": 1696923144890,
     "user": {
      "displayName": "ccc flkwerkdai",
      "userId": "13507850890638580947"
     },
     "user_tz": -540
    },
    "id": "KTUDHGzggD12",
    "outputId": "e2895a9f-a494-47fe-90e4-07bd0efd2fb2"
   },
   "outputs": [
    {
     "data": {
      "text/plain": [
       "(10000,)"
      ]
     },
     "execution_count": 103,
     "metadata": {},
     "output_type": "execute_result"
    }
   ],
   "source": [
    "y_test.shape"
   ]
  },
  {
   "cell_type": "code",
   "execution_count": 45,
   "metadata": {
    "colab": {
     "base_uri": "https://localhost:8080/"
    },
    "executionInfo": {
     "elapsed": 971,
     "status": "ok",
     "timestamp": 1696918195711,
     "user": {
      "displayName": "ccc flkwerkdai",
      "userId": "13507850890638580947"
     },
     "user_tz": -540
    },
    "id": "oSkfZad0NLFB",
    "outputId": "5a2d031d-874c-4771-ecf9-81c06230448e"
   },
   "outputs": [
    {
     "data": {
      "text/plain": [
       "(60000, 28, 28)"
      ]
     },
     "execution_count": 45,
     "metadata": {},
     "output_type": "execute_result"
    }
   ],
   "source": [
    "x_train.shape"
   ]
  },
  {
   "cell_type": "code",
   "execution_count": 46,
   "metadata": {
    "colab": {
     "base_uri": "https://localhost:8080/"
    },
    "executionInfo": {
     "elapsed": 256,
     "status": "ok",
     "timestamp": 1696918206610,
     "user": {
      "displayName": "ccc flkwerkdai",
      "userId": "13507850890638580947"
     },
     "user_tz": -540
    },
    "id": "mcdSPHKPNMlh",
    "outputId": "17ffca73-3762-487a-9714-02f35f27ae32"
   },
   "outputs": [
    {
     "data": {
      "text/plain": [
       "(28, 28)"
      ]
     },
     "execution_count": 46,
     "metadata": {},
     "output_type": "execute_result"
    }
   ],
   "source": [
    "x_train[0].shape"
   ]
  },
  {
   "cell_type": "markdown",
   "metadata": {
    "id": "x0_pGpR4LwMD"
   },
   "source": [
    "### 모델 1. RNN"
   ]
  },
  {
   "cell_type": "code",
   "execution_count": 100,
   "metadata": {
    "colab": {
     "base_uri": "https://localhost:8080/"
    },
    "executionInfo": {
     "elapsed": 272,
     "status": "ok",
     "timestamp": 1696923130817,
     "user": {
      "displayName": "ccc flkwerkdai",
      "userId": "13507850890638580947"
     },
     "user_tz": -540
    },
    "id": "5oVJhJaELyb8",
    "outputId": "3cfcfd3f-45a7-42da-fc28-19734d00bfd7"
   },
   "outputs": [
    {
     "name": "stdout",
     "output_type": "stream",
     "text": [
      "Model: \"model_19\"\n",
      "_________________________________________________________________\n",
      " Layer (type)                Output Shape              Param #   \n",
      "=================================================================\n",
      " input_20 (InputLayer)       [(None, 28, 28)]          0         \n",
      "                                                                 \n",
      " simple_rnn_16 (SimpleRNN)   (None, 32)                1952      \n",
      "                                                                 \n",
      " dense_19 (Dense)            (None, 10)                330       \n",
      "                                                                 \n",
      "=================================================================\n",
      "Total params: 2282 (8.91 KB)\n",
      "Trainable params: 2282 (8.91 KB)\n",
      "Non-trainable params: 0 (0.00 Byte)\n",
      "_________________________________________________________________\n"
     ]
    }
   ],
   "source": [
    "# 모델 생성\n",
    "X = tf.keras.layers.Input(shape=[28, 28])\n",
    "H = tf.keras.layers.SimpleRNN(32)(X)\n",
    "Y = tf.keras.layers.Dense(10, activation=\"softmax\")(H)\n",
    "\n",
    "model = tf.keras.Model(X, Y)\n",
    "model.compile(loss=\"sparse_categorical_crossentropy\",\n",
    "              metrics=\"accuracy\")\n",
    "model.summary()"
   ]
  },
  {
   "cell_type": "markdown",
   "metadata": {
    "id": "6yVYoQUxTfK9"
   },
   "source": [
    "`-` 은닉층에서 가중치 개수"
   ]
  },
  {
   "cell_type": "code",
   "execution_count": 60,
   "metadata": {
    "colab": {
     "base_uri": "https://localhost:8080/"
    },
    "executionInfo": {
     "elapsed": 264,
     "status": "ok",
     "timestamp": 1696919957475,
     "user": {
      "displayName": "ccc flkwerkdai",
      "userId": "13507850890638580947"
     },
     "user_tz": -540
    },
    "id": "jXx7MUBgTGQ9",
    "outputId": "f58cd584-8d82-455a-fc53-40118708fb63"
   },
   "outputs": [
    {
     "data": {
      "text/plain": [
       "1952"
      ]
     },
     "execution_count": 60,
     "metadata": {},
     "output_type": "execute_result"
    }
   ],
   "source": [
    "32*((28+32)+1)"
   ]
  },
  {
   "cell_type": "markdown",
   "metadata": {
    "id": "pA9Qa-HjUskc"
   },
   "source": [
    "### 모델 2. RNN(`return_sqeuences = True`)"
   ]
  },
  {
   "cell_type": "markdown",
   "metadata": {
    "id": "gF-e10GyV6-l"
   },
   "source": [
    "* `many to many` : ppt 60 pages"
   ]
  },
  {
   "cell_type": "code",
   "execution_count": 74,
   "metadata": {
    "colab": {
     "base_uri": "https://localhost:8080/"
    },
    "executionInfo": {
     "elapsed": 885,
     "status": "ok",
     "timestamp": 1696921267353,
     "user": {
      "displayName": "ccc flkwerkdai",
      "userId": "13507850890638580947"
     },
     "user_tz": -540
    },
    "id": "99w1Ja2tU0-0",
    "outputId": "0e89b6da-102a-4c39-e93e-58e25bd370f0"
   },
   "outputs": [
    {
     "name": "stdout",
     "output_type": "stream",
     "text": [
      "Model: \"model_13\"\n",
      "_________________________________________________________________\n",
      " Layer (type)                Output Shape              Param #   \n",
      "=================================================================\n",
      " input_14 (InputLayer)       [(None, 28, 28)]          0         \n",
      "                                                                 \n",
      " simple_rnn_12 (SimpleRNN)   (None, 28, 32)            1952      \n",
      "                                                                 \n",
      " dense_13 (Dense)            (None, 28, 10)            330       \n",
      "                                                                 \n",
      "=================================================================\n",
      "Total params: 2282 (8.91 KB)\n",
      "Trainable params: 2282 (8.91 KB)\n",
      "Non-trainable params: 0 (0.00 Byte)\n",
      "_________________________________________________________________\n"
     ]
    }
   ],
   "source": [
    "# 모델 생성\n",
    "X = tf.keras.layers.Input(shape=[28, 28])\n",
    "H = tf.keras.layers.SimpleRNN(32, return_sequences = True)(X) ## 마지막 28번쩨가 아닌 전체 1~28번쨰까지  모두 꺼냄\n",
    "Y = tf.keras.layers.Dense(10, activation=\"softmax\")(H)\n",
    "\n",
    "model = tf.keras.Model(X, Y)\n",
    "model.compile(loss=\"sparse_categorical_crossentropy\",\n",
    "              metrics=\"accuracy\")\n",
    "model.summary()"
   ]
  },
  {
   "cell_type": "code",
   "execution_count": 75,
   "metadata": {
    "colab": {
     "base_uri": "https://localhost:8080/",
     "height": 837
    },
    "executionInfo": {
     "elapsed": 281,
     "status": "error",
     "timestamp": 1696921481432,
     "user": {
      "displayName": "ccc flkwerkdai",
      "userId": "13507850890638580947"
     },
     "user_tz": -540
    },
    "id": "IBPL3fAAXr8C",
    "outputId": "008c2928-7303-4e84-c62e-85c03865b753"
   },
   "outputs": [
    {
     "name": "stdout",
     "output_type": "stream",
     "text": [
      "Epoch 1/10\n"
     ]
    },
    {
     "ename": "ValueError",
     "evalue": "ignored",
     "output_type": "error",
     "traceback": [
      "\u001b[0;31m---------------------------------------------------------------------------\u001b[0m",
      "\u001b[0;31mValueError\u001b[0m                                Traceback (most recent call last)",
      "\u001b[0;32m<ipython-input-75-2adcfe9bbe07>\u001b[0m in \u001b[0;36m<cell line: 2>\u001b[0;34m()\u001b[0m\n\u001b[1;32m      1\u001b[0m \u001b[0;31m# 학습\u001b[0m\u001b[0;34m\u001b[0m\u001b[0;34m\u001b[0m\u001b[0m\n\u001b[0;32m----> 2\u001b[0;31m model.fit(x_train, y_train, epochs=10,\n\u001b[0m\u001b[1;32m      3\u001b[0m           batch_size=128, validation_split=0.2)\n\u001b[1;32m      4\u001b[0m \u001b[0;34m\u001b[0m\u001b[0m\n\u001b[1;32m      5\u001b[0m \u001b[0;31m# 평가\u001b[0m\u001b[0;34m\u001b[0m\u001b[0;34m\u001b[0m\u001b[0m\n",
      "\u001b[0;32m/usr/local/lib/python3.10/dist-packages/keras/src/utils/traceback_utils.py\u001b[0m in \u001b[0;36merror_handler\u001b[0;34m(*args, **kwargs)\u001b[0m\n\u001b[1;32m     68\u001b[0m             \u001b[0;31m# To get the full stack trace, call:\u001b[0m\u001b[0;34m\u001b[0m\u001b[0;34m\u001b[0m\u001b[0m\n\u001b[1;32m     69\u001b[0m             \u001b[0;31m# `tf.debugging.disable_traceback_filtering()`\u001b[0m\u001b[0;34m\u001b[0m\u001b[0;34m\u001b[0m\u001b[0m\n\u001b[0;32m---> 70\u001b[0;31m             \u001b[0;32mraise\u001b[0m \u001b[0me\u001b[0m\u001b[0;34m.\u001b[0m\u001b[0mwith_traceback\u001b[0m\u001b[0;34m(\u001b[0m\u001b[0mfiltered_tb\u001b[0m\u001b[0;34m)\u001b[0m \u001b[0;32mfrom\u001b[0m \u001b[0;32mNone\u001b[0m\u001b[0;34m\u001b[0m\u001b[0;34m\u001b[0m\u001b[0m\n\u001b[0m\u001b[1;32m     71\u001b[0m         \u001b[0;32mfinally\u001b[0m\u001b[0;34m:\u001b[0m\u001b[0;34m\u001b[0m\u001b[0;34m\u001b[0m\u001b[0m\n\u001b[1;32m     72\u001b[0m             \u001b[0;32mdel\u001b[0m \u001b[0mfiltered_tb\u001b[0m\u001b[0;34m\u001b[0m\u001b[0;34m\u001b[0m\u001b[0m\n",
      "\u001b[0;32m/usr/local/lib/python3.10/dist-packages/keras/src/engine/training.py\u001b[0m in \u001b[0;36mtf__train_function\u001b[0;34m(iterator)\u001b[0m\n\u001b[1;32m     13\u001b[0m                 \u001b[0;32mtry\u001b[0m\u001b[0;34m:\u001b[0m\u001b[0;34m\u001b[0m\u001b[0;34m\u001b[0m\u001b[0m\n\u001b[1;32m     14\u001b[0m                     \u001b[0mdo_return\u001b[0m \u001b[0;34m=\u001b[0m \u001b[0;32mTrue\u001b[0m\u001b[0;34m\u001b[0m\u001b[0;34m\u001b[0m\u001b[0m\n\u001b[0;32m---> 15\u001b[0;31m                     \u001b[0mretval_\u001b[0m \u001b[0;34m=\u001b[0m \u001b[0mag__\u001b[0m\u001b[0;34m.\u001b[0m\u001b[0mconverted_call\u001b[0m\u001b[0;34m(\u001b[0m\u001b[0mag__\u001b[0m\u001b[0;34m.\u001b[0m\u001b[0mld\u001b[0m\u001b[0;34m(\u001b[0m\u001b[0mstep_function\u001b[0m\u001b[0;34m)\u001b[0m\u001b[0;34m,\u001b[0m \u001b[0;34m(\u001b[0m\u001b[0mag__\u001b[0m\u001b[0;34m.\u001b[0m\u001b[0mld\u001b[0m\u001b[0;34m(\u001b[0m\u001b[0mself\u001b[0m\u001b[0;34m)\u001b[0m\u001b[0;34m,\u001b[0m \u001b[0mag__\u001b[0m\u001b[0;34m.\u001b[0m\u001b[0mld\u001b[0m\u001b[0;34m(\u001b[0m\u001b[0miterator\u001b[0m\u001b[0;34m)\u001b[0m\u001b[0;34m)\u001b[0m\u001b[0;34m,\u001b[0m \u001b[0;32mNone\u001b[0m\u001b[0;34m,\u001b[0m \u001b[0mfscope\u001b[0m\u001b[0;34m)\u001b[0m\u001b[0;34m\u001b[0m\u001b[0;34m\u001b[0m\u001b[0m\n\u001b[0m\u001b[1;32m     16\u001b[0m                 \u001b[0;32mexcept\u001b[0m\u001b[0;34m:\u001b[0m\u001b[0;34m\u001b[0m\u001b[0;34m\u001b[0m\u001b[0m\n\u001b[1;32m     17\u001b[0m                     \u001b[0mdo_return\u001b[0m \u001b[0;34m=\u001b[0m \u001b[0;32mFalse\u001b[0m\u001b[0;34m\u001b[0m\u001b[0;34m\u001b[0m\u001b[0m\n",
      "\u001b[0;31mValueError\u001b[0m: in user code:\n\n    File \"/usr/local/lib/python3.10/dist-packages/keras/src/engine/training.py\", line 1338, in train_function  *\n        return step_function(self, iterator)\n    File \"/usr/local/lib/python3.10/dist-packages/keras/src/engine/training.py\", line 1322, in step_function  **\n        outputs = model.distribute_strategy.run(run_step, args=(data,))\n    File \"/usr/local/lib/python3.10/dist-packages/keras/src/engine/training.py\", line 1303, in run_step  **\n        outputs = model.train_step(data)\n    File \"/usr/local/lib/python3.10/dist-packages/keras/src/engine/training.py\", line 1081, in train_step\n        loss = self.compute_loss(x, y, y_pred, sample_weight)\n    File \"/usr/local/lib/python3.10/dist-packages/keras/src/engine/training.py\", line 1139, in compute_loss\n        return self.compiled_loss(\n    File \"/usr/local/lib/python3.10/dist-packages/keras/src/engine/compile_utils.py\", line 265, in __call__\n        loss_value = loss_obj(y_t, y_p, sample_weight=sw)\n    File \"/usr/local/lib/python3.10/dist-packages/keras/src/losses.py\", line 142, in __call__\n        losses = call_fn(y_true, y_pred)\n    File \"/usr/local/lib/python3.10/dist-packages/keras/src/losses.py\", line 268, in call  **\n        return ag_fn(y_true, y_pred, **self._fn_kwargs)\n    File \"/usr/local/lib/python3.10/dist-packages/keras/src/losses.py\", line 2354, in sparse_categorical_crossentropy\n        return backend.sparse_categorical_crossentropy(\n    File \"/usr/local/lib/python3.10/dist-packages/keras/src/backend.py\", line 5762, in sparse_categorical_crossentropy\n        res = tf.nn.sparse_softmax_cross_entropy_with_logits(\n\n    ValueError: `labels.shape` must equal `logits.shape` except for the last dimension. Received: labels.shape=(128,) and logits.shape=(3584, 10)\n"
     ]
    }
   ],
   "source": [
    "# 학습\n",
    "model.fit(x_train, y_train, epochs=10,\n",
    "          batch_size=128, validation_split=0.2)\n",
    "\n",
    "# 평가\n",
    "model.evaluate(x_test, y_test)"
   ]
  },
  {
   "cell_type": "markdown",
   "metadata": {
    "id": "la1j7UfYWIN0"
   },
   "source": [
    "`-` 학습시 에러가 나는 이유는 현재 many to many 형태이기 때문임. 따라서 다음과 같은 은닉층을 추가"
   ]
  },
  {
   "cell_type": "code",
   "execution_count": 79,
   "metadata": {
    "colab": {
     "base_uri": "https://localhost:8080/"
    },
    "executionInfo": {
     "elapsed": 469,
     "status": "ok",
     "timestamp": 1696921653264,
     "user": {
      "displayName": "ccc flkwerkdai",
      "userId": "13507850890638580947"
     },
     "user_tz": -540
    },
    "id": "V8X9edlZaP5R",
    "outputId": "610bff27-4426-4da7-b5a2-147893a2d0b7"
   },
   "outputs": [
    {
     "data": {
      "text/plain": [
       "(60000, 28, 28)"
      ]
     },
     "execution_count": 79,
     "metadata": {},
     "output_type": "execute_result"
    }
   ],
   "source": [
    "x_train.shape"
   ]
  },
  {
   "cell_type": "code",
   "execution_count": 65,
   "metadata": {
    "executionInfo": {
     "elapsed": 305,
     "status": "ok",
     "timestamp": 1696920665945,
     "user": {
      "displayName": "ccc flkwerkdai",
      "userId": "13507850890638580947"
     },
     "user_tz": -540
    },
    "id": "DGOZFmXcWncC"
   },
   "outputs": [],
   "source": [
    "tf.keras.layers.GlobalAveragePooling1D?"
   ]
  },
  {
   "cell_type": "code",
   "execution_count": 66,
   "metadata": {
    "colab": {
     "base_uri": "https://localhost:8080/"
    },
    "executionInfo": {
     "elapsed": 851,
     "status": "ok",
     "timestamp": 1696920679029,
     "user": {
      "displayName": "ccc flkwerkdai",
      "userId": "13507850890638580947"
     },
     "user_tz": -540
    },
    "id": "nR-Uv68HWVSE",
    "outputId": "9f129bbb-0d58-4960-a751-0aa4b6f1324e"
   },
   "outputs": [
    {
     "name": "stdout",
     "output_type": "stream",
     "text": [
      "Model: \"model_8\"\n",
      "_________________________________________________________________\n",
      " Layer (type)                Output Shape              Param #   \n",
      "=================================================================\n",
      " input_9 (InputLayer)        [(None, 28, 28)]          0         \n",
      "                                                                 \n",
      " simple_rnn_7 (SimpleRNN)    (None, 28, 32)            1952      \n",
      "                                                                 \n",
      " global_average_pooling1d (  (None, 32)                0         \n",
      " GlobalAveragePooling1D)                                         \n",
      "                                                                 \n",
      " dense_8 (Dense)             (None, 10)                330       \n",
      "                                                                 \n",
      "=================================================================\n",
      "Total params: 2282 (8.91 KB)\n",
      "Trainable params: 2282 (8.91 KB)\n",
      "Non-trainable params: 0 (0.00 Byte)\n",
      "_________________________________________________________________\n"
     ]
    }
   ],
   "source": [
    "# 모델 생성\n",
    "X = tf.keras.layers.Input(shape=[28, 28])\n",
    "H = tf.keras.layers.SimpleRNN(32, return_sequences = True)(X) ## 마지막 10일 차가 아닌 전체 1~10일 을 모두 꺼냄\n",
    "H = tf.keras.layers.GlobalAveragePooling1D()(H) ## 꺼낸 10일차 데이터를 평균내줌\n",
    "Y = tf.keras.layers.Dense(10, activation=\"softmax\")(H)\n",
    "\n",
    "model = tf.keras.Model(X, Y)\n",
    "model.compile(loss=\"sparse_categorical_crossentropy\",\n",
    "              metrics=\"accuracy\")\n",
    "model.summary()"
   ]
  },
  {
   "cell_type": "code",
   "execution_count": 67,
   "metadata": {
    "colab": {
     "base_uri": "https://localhost:8080/"
    },
    "executionInfo": {
     "elapsed": 69898,
     "status": "ok",
     "timestamp": 1696920752314,
     "user": {
      "displayName": "ccc flkwerkdai",
      "userId": "13507850890638580947"
     },
     "user_tz": -540
    },
    "id": "pIiIBvyJWGtV",
    "outputId": "89e2c082-a06e-4800-b540-30c7bbfb2cb3"
   },
   "outputs": [
    {
     "name": "stdout",
     "output_type": "stream",
     "text": [
      "Epoch 1/10\n",
      "375/375 [==============================] - 8s 18ms/step - loss: 1.7680 - accuracy: 0.4382 - val_loss: 1.4436 - val_accuracy: 0.5693\n",
      "Epoch 2/10\n",
      "375/375 [==============================] - 8s 21ms/step - loss: 1.3206 - accuracy: 0.6000 - val_loss: 1.1751 - val_accuracy: 0.6533\n",
      "Epoch 3/10\n",
      "375/375 [==============================] - 7s 19ms/step - loss: 1.1249 - accuracy: 0.6596 - val_loss: 1.0220 - val_accuracy: 0.6938\n",
      "Epoch 4/10\n",
      "375/375 [==============================] - 7s 19ms/step - loss: 1.0040 - accuracy: 0.6984 - val_loss: 0.9216 - val_accuracy: 0.7309\n",
      "Epoch 5/10\n",
      "375/375 [==============================] - 7s 18ms/step - loss: 0.9185 - accuracy: 0.7225 - val_loss: 0.8460 - val_accuracy: 0.7479\n",
      "Epoch 6/10\n",
      "375/375 [==============================] - 7s 19ms/step - loss: 0.8521 - accuracy: 0.7395 - val_loss: 0.7886 - val_accuracy: 0.7650\n",
      "Epoch 7/10\n",
      "375/375 [==============================] - 6s 16ms/step - loss: 0.8024 - accuracy: 0.7550 - val_loss: 0.7444 - val_accuracy: 0.7771\n",
      "Epoch 8/10\n",
      "375/375 [==============================] - 6s 16ms/step - loss: 0.7609 - accuracy: 0.7675 - val_loss: 0.7061 - val_accuracy: 0.7903\n",
      "Epoch 9/10\n",
      "375/375 [==============================] - 6s 16ms/step - loss: 0.7251 - accuracy: 0.7771 - val_loss: 0.6798 - val_accuracy: 0.7935\n",
      "Epoch 10/10\n",
      "375/375 [==============================] - 6s 15ms/step - loss: 0.6960 - accuracy: 0.7836 - val_loss: 0.6483 - val_accuracy: 0.8053\n",
      "313/313 [==============================] - 2s 7ms/step - loss: 0.6764 - accuracy: 0.7902\n"
     ]
    },
    {
     "data": {
      "text/plain": [
       "[0.6763749122619629, 0.7901999950408936]"
      ]
     },
     "execution_count": 67,
     "metadata": {},
     "output_type": "execute_result"
    }
   ],
   "source": [
    "# 학습\n",
    "model.fit(x_train, y_train, epochs=10,\n",
    "          batch_size=128, validation_split=0.2)\n",
    "\n",
    "# 평가\n",
    "model.evaluate(x_test, y_test)"
   ]
  },
  {
   "cell_type": "markdown",
   "metadata": {
    "id": "uL_x4wXzVOWv"
   },
   "source": [
    "`-` return_sequences = True"
   ]
  },
  {
   "cell_type": "markdown",
   "metadata": {
    "id": "2x5D3KnvVYC0"
   },
   "source": [
    "*  `simple_rnn_6 (SimpleRNN)    (None, 28, 32)`"
   ]
  },
  {
   "cell_type": "markdown",
   "metadata": {
    "id": "311G9MMnVanU"
   },
   "source": [
    "`-` return_sequences = False"
   ]
  },
  {
   "cell_type": "markdown",
   "metadata": {
    "id": "yTKIQ5TgVcu0"
   },
   "source": [
    "*  `simple_rnn_3 (SimpleRNN)    (None, 32)`"
   ]
  },
  {
   "cell_type": "markdown",
   "metadata": {
    "id": "lRdK1Kencobf"
   },
   "source": [
    "### 모델3. LSTM"
   ]
  },
  {
   "cell_type": "code",
   "execution_count": 94,
   "metadata": {
    "colab": {
     "base_uri": "https://localhost:8080/"
    },
    "executionInfo": {
     "elapsed": 744,
     "status": "ok",
     "timestamp": 1696922381901,
     "user": {
      "displayName": "ccc flkwerkdai",
      "userId": "13507850890638580947"
     },
     "user_tz": -540
    },
    "id": "M6IjMGolcqn_",
    "outputId": "0e18fe4b-023c-43be-a8eb-a5321d764cc6"
   },
   "outputs": [
    {
     "name": "stdout",
     "output_type": "stream",
     "text": [
      "Model: \"model_18\"\n",
      "_________________________________________________________________\n",
      " Layer (type)                Output Shape              Param #   \n",
      "=================================================================\n",
      " input_19 (InputLayer)       [(None, 28, 28)]          0         \n",
      "                                                                 \n",
      " lstm_1 (LSTM)               (None, 32)                7808      \n",
      "                                                                 \n",
      " dense_18 (Dense)            (None, 10)                330       \n",
      "                                                                 \n",
      "=================================================================\n",
      "Total params: 8138 (31.79 KB)\n",
      "Trainable params: 8138 (31.79 KB)\n",
      "Non-trainable params: 0 (0.00 Byte)\n",
      "_________________________________________________________________\n"
     ]
    }
   ],
   "source": [
    "# 모델 생성\n",
    "X = tf.keras.layers.Input(shape=[28, 28])\n",
    "H = tf.keras.layers.LSTM(32)(X)\n",
    "Y = tf.keras.layers.Dense(10, activation=\"softmax\")(H)\n",
    "\n",
    "model = tf.keras.Model(X, Y)\n",
    "model.compile(loss=\"sparse_categorical_crossentropy\",\n",
    "              metrics=\"accuracy\")\n",
    "model.summary()"
   ]
  },
  {
   "cell_type": "code",
   "execution_count": 107,
   "metadata": {
    "colab": {
     "base_uri": "https://localhost:8080/"
    },
    "executionInfo": {
     "elapsed": 42214,
     "status": "ok",
     "timestamp": 1696924441602,
     "user": {
      "displayName": "ccc flkwerkdai",
      "userId": "13507850890638580947"
     },
     "user_tz": -540
    },
    "id": "GNjiRzcpcuFf",
    "outputId": "0befda52-bdd1-4c89-daf1-c576bc977418"
   },
   "outputs": [
    {
     "name": "stdout",
     "output_type": "stream",
     "text": [
      "Epoch 1/10\n",
      "375/375 [==============================] - 4s 10ms/step - loss: 0.2514 - accuracy: 0.9273 - val_loss: 0.2298 - val_accuracy: 0.9347\n",
      "Epoch 2/10\n",
      "375/375 [==============================] - 4s 11ms/step - loss: 0.2443 - accuracy: 0.9290 - val_loss: 0.2207 - val_accuracy: 0.9358\n",
      "Epoch 3/10\n",
      "375/375 [==============================] - 4s 12ms/step - loss: 0.2362 - accuracy: 0.9322 - val_loss: 0.2344 - val_accuracy: 0.9323\n",
      "Epoch 4/10\n",
      "375/375 [==============================] - 4s 10ms/step - loss: 0.2299 - accuracy: 0.9333 - val_loss: 0.2196 - val_accuracy: 0.9362\n",
      "Epoch 5/10\n",
      "375/375 [==============================] - 3s 9ms/step - loss: 0.2218 - accuracy: 0.9366 - val_loss: 0.2033 - val_accuracy: 0.9432\n",
      "Epoch 6/10\n",
      "375/375 [==============================] - 5s 13ms/step - loss: 0.2177 - accuracy: 0.9374 - val_loss: 0.1968 - val_accuracy: 0.9451\n",
      "Epoch 7/10\n",
      "375/375 [==============================] - 4s 10ms/step - loss: 0.2118 - accuracy: 0.9391 - val_loss: 0.1904 - val_accuracy: 0.9460\n",
      "Epoch 8/10\n",
      "375/375 [==============================] - 4s 10ms/step - loss: 0.2072 - accuracy: 0.9405 - val_loss: 0.1831 - val_accuracy: 0.9491\n",
      "Epoch 9/10\n",
      "375/375 [==============================] - 4s 11ms/step - loss: 0.2020 - accuracy: 0.9431 - val_loss: 0.2069 - val_accuracy: 0.9411\n",
      "Epoch 10/10\n",
      "375/375 [==============================] - 4s 11ms/step - loss: 0.2012 - accuracy: 0.9417 - val_loss: 0.2068 - val_accuracy: 0.9400\n"
     ]
    },
    {
     "data": {
      "text/plain": [
       "<keras.src.callbacks.History at 0x7e43858b2020>"
      ]
     },
     "execution_count": 107,
     "metadata": {},
     "output_type": "execute_result"
    }
   ],
   "source": [
    "# 학습\n",
    "x_train = x_train / 255\n",
    "x_test = x_test / 255\n",
    "\n",
    "model.fit(x_train, y_train, epochs=10,\n",
    "          batch_size=128, validation_split=0.2)"
   ]
  },
  {
   "cell_type": "code",
   "execution_count": 108,
   "metadata": {
    "colab": {
     "base_uri": "https://localhost:8080/"
    },
    "executionInfo": {
     "elapsed": 2439,
     "status": "ok",
     "timestamp": 1696924444031,
     "user": {
      "displayName": "ccc flkwerkdai",
      "userId": "13507850890638580947"
     },
     "user_tz": -540
    },
    "id": "T909tAivdXIY",
    "outputId": "f344a97a-b3b9-4cc4-bf40-16c224349124"
   },
   "outputs": [
    {
     "name": "stdout",
     "output_type": "stream",
     "text": [
      "313/313 [==============================] - 1s 5ms/step - loss: 0.2227 - accuracy: 0.9342\n"
     ]
    },
    {
     "data": {
      "text/plain": [
       "[0.22268007695674896, 0.9341999888420105]"
      ]
     },
     "execution_count": 108,
     "metadata": {},
     "output_type": "execute_result"
    }
   ],
   "source": [
    "model.evaluate(x_test, y_test)"
   ]
  },
  {
   "cell_type": "code",
   "execution_count": null,
   "metadata": {
    "id": "xSPfo03ZksFS"
   },
   "outputs": [],
   "source": []
  }
 ],
 "metadata": {
  "accelerator": "GPU",
  "colab": {
   "authorship_tag": "ABX9TyPM1TxjLVroUVpz/7vKP7nY",
   "gpuType": "T4",
   "mount_file_id": "1XnO1ljPm099rNI7VY2msFJPU19AWTRxP",
   "provenance": [],
   "toc_visible": true
  },
  "kernelspec": {
   "display_name": "Python 3 (ipykernel)",
   "language": "python",
   "name": "python3"
  },
  "language_info": {
   "codemirror_mode": {
    "name": "ipython",
    "version": 3
   },
   "file_extension": ".py",
   "mimetype": "text/x-python",
   "name": "python",
   "nbconvert_exporter": "python",
   "pygments_lexer": "ipython3",
   "version": "3.11.4"
  }
 },
 "nbformat": 4,
 "nbformat_minor": 4
}
