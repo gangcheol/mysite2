{
 "cells": [
  {
   "cell_type": "raw",
   "metadata": {},
   "source": [
    "---\n",
    "title : \"summary 02. LSTM\"\n",
    "author : \"GC\"\n",
    "date : \"10/18/23\"\n",
    "categories : [LSTM, 딥러닝, 언어지능]\n",
    "---"
   ]
  },
  {
   "cell_type": "markdown",
   "metadata": {
    "id": "MOFQpVypq0yR"
   },
   "source": [
    "# TPU setting"
   ]
  },
  {
   "cell_type": "code",
   "execution_count": 1,
   "metadata": {
    "colab": {
     "base_uri": "https://localhost:8080/"
    },
    "executionInfo": {
     "elapsed": 14190,
     "status": "ok",
     "timestamp": 1697462943409,
     "user": {
      "displayName": "ccc flkwerkdai",
      "userId": "13507850890638580947"
     },
     "user_tz": -540
    },
    "id": "XmkZ3McGq-f5",
    "outputId": "2f325ad6-38ce-47c3-aa6c-ecd872539df1"
   },
   "outputs": [
    {
     "data": {
      "text/plain": [
       "<tensorflow.python.tpu.topology.Topology at 0x79268336a2c0>"
      ]
     },
     "execution_count": 1,
     "metadata": {},
     "output_type": "execute_result"
    }
   ],
   "source": [
    "import tensorflow as tf\n",
    "import os\n",
    "\n",
    "resolver = tf.distribute.cluster_resolver.TPUClusterResolver(tpu='grpc://' + os.environ['COLAB_TPU_ADDR'])\n",
    "\n",
    "tf.config.experimental_connect_to_cluster(resolver)\n",
    "tf.tpu.experimental.initialize_tpu_system(resolver)"
   ]
  },
  {
   "cell_type": "code",
   "execution_count": 2,
   "metadata": {
    "executionInfo": {
     "elapsed": 288,
     "status": "ok",
     "timestamp": 1697462945458,
     "user": {
      "displayName": "ccc flkwerkdai",
      "userId": "13507850890638580947"
     },
     "user_tz": -540
    },
    "id": "fY8vEERXrNx7"
   },
   "outputs": [],
   "source": [
    "strategy = tf.distribute.TPUStrategy(resolver)"
   ]
  },
  {
   "cell_type": "markdown",
   "metadata": {
    "id": "rgmE31omrQ7D"
   },
   "source": [
    "# LSTM"
   ]
  },
  {
   "cell_type": "markdown",
   "metadata": {
    "id": "OiU3a3ufrsR_"
   },
   "source": [
    "`-` 이하 Long Short Term Memory"
   ]
  },
  {
   "cell_type": "markdown",
   "metadata": {
    "id": "Z3EpA8pkrvf_"
   },
   "source": [
    "* 앞서  RNN에서는 기울기 소실 문제가 발생한다고 언급하였다."
   ]
  },
  {
   "cell_type": "markdown",
   "metadata": {
    "id": "7yqTuuzlsHPo"
   },
   "source": [
    "* 즉, 문장의 길이가 길어지거나, 긴 기간 동안의 정보를 유지하고 활용하는데 어려움이 발생한다."
   ]
  },
  {
   "cell_type": "markdown",
   "metadata": {
    "id": "xZlU5VxGsPBZ"
   },
   "source": [
    "* LSTM은 다음과 같은 아이디어를 제시하며 문제를 극복하였음."
   ]
  },
  {
   "cell_type": "markdown",
   "metadata": {
    "id": "J6Kz9YqbsUnJ"
   },
   "source": [
    "`1` cell state\n",
    "\n",
    "* 현재 셀 상태\n",
    "\n",
    "* `cell state`는  `Input Gate`와 `Forget Gate`를 통해서 업데이트 됨\n",
    "\n",
    "* 중요한 점은 과거 정보 중 불필요한 정보는 잊고, 중요한 정보만 뽑아내는 셀 상태를 업데이트 하는 것이다.\n",
    "\n",
    "* Forget Gate ($C_t$ : t시점의 셀상태)"
   ]
  },
  {
   "cell_type": "markdown",
   "metadata": {
    "id": "LbbDGp3kttvY"
   },
   "source": [
    "$$f_t = \\sigma(w_{f}\\cdot[h_{t-1}, x_t] + b_{f})$$"
   ]
  },
  {
   "cell_type": "markdown",
   "metadata": {
    "id": "xyFsrehmt3Yw"
   },
   "source": [
    "$$C_{t} = f_t \\times C_{t-1}$$"
   ]
  },
  {
   "cell_type": "markdown",
   "metadata": {
    "id": "f0peHoIHuHER"
   },
   "source": [
    "* input gate"
   ]
  },
  {
   "cell_type": "markdown",
   "metadata": {
    "id": "sL7Cdce6uP0I"
   },
   "source": [
    "$$i_t = \\sigma(W_i \\cdot[h_{t-1},x_t]+ b)$$"
   ]
  },
  {
   "cell_type": "markdown",
   "metadata": {
    "id": "IYGL8X8ZuWdx"
   },
   "source": [
    "$$\\tilde {C}_t = \\text{tanh}(W_c \\cdot [h_{t-1}, x_t] + b_{c`})$$"
   ]
  },
  {
   "cell_type": "markdown",
   "metadata": {
    "id": "OREEDPiFunu0"
   },
   "source": [
    "* **Update cell state**"
   ]
  },
  {
   "cell_type": "markdown",
   "metadata": {
    "id": "YfFauNWzu3Ux"
   },
   "source": [
    "$$C_t = (f_t  \\times C_{t-1}) + (i_t \\times \\tilde {C}_t)$$"
   ]
  },
  {
   "cell_type": "markdown",
   "metadata": {
    "id": "6lE5DTX0s2jk"
   },
   "source": [
    "`2`  Hidden State 업데이트"
   ]
  },
  {
   "cell_type": "markdown",
   "metadata": {
    "id": "ySSP9Q15tMRZ"
   },
   "source": [
    "* 업데이트된  Cell state와 input,  $h_{t-1}$의 정보를 이용하여 $h_t$ 업데이트"
   ]
  },
  {
   "cell_type": "markdown",
   "metadata": {
    "id": "gu1_fskjv3dy"
   },
   "source": [
    "* output gate"
   ]
  },
  {
   "cell_type": "markdown",
   "metadata": {
    "id": "G9y73Ksivta-"
   },
   "source": [
    "$$o_{t} =  \\sigma(W_{o}[h_{t-1}, x_t] + b_0)$$"
   ]
  },
  {
   "cell_type": "markdown",
   "metadata": {
    "id": "yZlpN0nev8b5"
   },
   "source": [
    "* Hidden state 업데이트"
   ]
  },
  {
   "cell_type": "markdown",
   "metadata": {
    "id": "kMbbCUKmv-t4"
   },
   "source": [
    "$$h_t = o_t \\times \\text{tanh} (C_t)$$"
   ]
  },
  {
   "cell_type": "markdown",
   "metadata": {
    "id": "REZOzn5XwOlA"
   },
   "source": [
    "`3` 이를 도식화하면!"
   ]
  },
  {
   "cell_type": "markdown",
   "metadata": {
    "id": "mxFvNat5wQ6A"
   },
   "source": [
    "<center><img src=\"https://wikidocs.net/images/page/152773/2.JPG\"  widht=250></center>"
   ]
  },
  {
   "cell_type": "markdown",
   "metadata": {
    "id": "WZ1P_6f3wmXz"
   },
   "source": [
    "## 실습 . IMDB 데이터"
   ]
  },
  {
   "cell_type": "code",
   "execution_count": 5,
   "metadata": {
    "executionInfo": {
     "elapsed": 4,
     "status": "ok",
     "timestamp": 1697464419219,
     "user": {
      "displayName": "ccc flkwerkdai",
      "userId": "13507850890638580947"
     },
     "user_tz": -540
    },
    "id": "TiF7r25qw1nP"
   },
   "outputs": [],
   "source": [
    "import tensorflow as tf"
   ]
  },
  {
   "cell_type": "code",
   "execution_count": 9,
   "metadata": {
    "executionInfo": {
     "elapsed": 281,
     "status": "ok",
     "timestamp": 1697464566120,
     "user": {
      "displayName": "ccc flkwerkdai",
      "userId": "13507850890638580947"
     },
     "user_tz": -540
    },
    "id": "O6nxacrrw4TS"
   },
   "outputs": [],
   "source": [
    "from tensorflow.keras.layers import Dense, Input, LSTM, Embedding\n",
    "from tensorflow.keras.models import Model\n",
    "from tensorflow.keras.optimizers import Adam"
   ]
  },
  {
   "cell_type": "markdown",
   "metadata": {
    "id": "K_H5dYEqxJkb"
   },
   "source": [
    "### (1) 데이터 로드 및 전처리"
   ]
  },
  {
   "cell_type": "code",
   "execution_count": 13,
   "metadata": {
    "executionInfo": {
     "elapsed": 4023,
     "status": "ok",
     "timestamp": 1697464671072,
     "user": {
      "displayName": "ccc flkwerkdai",
      "userId": "13507850890638580947"
     },
     "user_tz": -540
    },
    "id": "Az12jb0gxLgd"
   },
   "outputs": [],
   "source": [
    "(x_train, y_train), (x_test, y_test) = tf.keras.datasets.imdb.load_data()"
   ]
  },
  {
   "cell_type": "markdown",
   "metadata": {
    "id": "ztxeRmT9xorX"
   },
   "source": [
    "`-` 주어진 데이터는 정수인코딩이 되어 있으므로 일단 maxlen을 세어보자"
   ]
  },
  {
   "cell_type": "code",
   "execution_count": 15,
   "metadata": {
    "colab": {
     "base_uri": "https://localhost:8080/"
    },
    "executionInfo": {
     "elapsed": 4,
     "status": "ok",
     "timestamp": 1697464677959,
     "user": {
      "displayName": "ccc flkwerkdai",
      "userId": "13507850890638580947"
     },
     "user_tz": -540
    },
    "id": "Ox4unpxnxukx",
    "outputId": "a80d5d68-ad51-42b2-b0d5-fb459bf40c87"
   },
   "outputs": [
    {
     "data": {
      "text/plain": [
       "(2494, 2315)"
      ]
     },
     "execution_count": 15,
     "metadata": {},
     "output_type": "execute_result"
    }
   ],
   "source": [
    "max([len(i) for i in x_train]), max([len(i) for i in x_test])"
   ]
  },
  {
   "cell_type": "markdown",
   "metadata": {
    "id": "aWZHMwejx3uA"
   },
   "source": [
    "`-` 이전에 RNN 모형에서 `maxlen`을  20으로 설정했는데 위에 수치를 보니 그러면 안될 것 같다. 적당히 500정도로 잡자.."
   ]
  },
  {
   "cell_type": "code",
   "execution_count": 18,
   "metadata": {
    "executionInfo": {
     "elapsed": 1021,
     "status": "ok",
     "timestamp": 1697464778703,
     "user": {
      "displayName": "ccc flkwerkdai",
      "userId": "13507850890638580947"
     },
     "user_tz": -540
    },
    "id": "BP1cSDrXyB7I"
   },
   "outputs": [],
   "source": [
    "x_train = tf.keras.preprocessing.sequence.pad_sequences(x_train, maxlen = 500)\n",
    "x_test = tf.keras.preprocessing.sequence.pad_sequences(x_test, maxlen = 500)"
   ]
  },
  {
   "cell_type": "markdown",
   "metadata": {
    "id": "ghxA9V-eyQ1R"
   },
   "source": [
    "`-` shape 확인"
   ]
  },
  {
   "cell_type": "code",
   "execution_count": 20,
   "metadata": {
    "colab": {
     "base_uri": "https://localhost:8080/"
    },
    "executionInfo": {
     "elapsed": 281,
     "status": "ok",
     "timestamp": 1697464802215,
     "user": {
      "displayName": "ccc flkwerkdai",
      "userId": "13507850890638580947"
     },
     "user_tz": -540
    },
    "id": "CRglOhsByTiw",
    "outputId": "c19e3c0b-d03e-46d7-eaf4-36168004dcc1"
   },
   "outputs": [
    {
     "data": {
      "text/plain": [
       "((25000, 500), (25000, 500))"
      ]
     },
     "execution_count": 20,
     "metadata": {},
     "output_type": "execute_result"
    }
   ],
   "source": [
    "x_train.shape, x_test.shape"
   ]
  },
  {
   "cell_type": "markdown",
   "metadata": {
    "id": "HVqBQ9O5y6Io"
   },
   "source": [
    "`-` 고유단어개수 확인"
   ]
  },
  {
   "cell_type": "code",
   "execution_count": 23,
   "metadata": {
    "colab": {
     "base_uri": "https://localhost:8080/"
    },
    "executionInfo": {
     "elapsed": 1648,
     "status": "ok",
     "timestamp": 1697465009296,
     "user": {
      "displayName": "ccc flkwerkdai",
      "userId": "13507850890638580947"
     },
     "user_tz": -540
    },
    "id": "jRYov6Noy7tQ",
    "outputId": "6c53dcbb-20b7-4a62-d506-212415c89eee"
   },
   "outputs": [
    {
     "data": {
      "text/plain": [
       "85524"
      ]
     },
     "execution_count": 23,
     "metadata": {},
     "output_type": "execute_result"
    }
   ],
   "source": [
    "len(set([j for i in x_train for j in i]))"
   ]
  },
  {
   "cell_type": "markdown",
   "metadata": {
    "id": "3yYO_vY3yVkg"
   },
   "source": [
    "### (2) LSTM 모델링"
   ]
  },
  {
   "cell_type": "code",
   "execution_count": 25,
   "metadata": {
    "executionInfo": {
     "elapsed": 696,
     "status": "ok",
     "timestamp": 1697465181281,
     "user": {
      "displayName": "ccc flkwerkdai",
      "userId": "13507850890638580947"
     },
     "user_tz": -540
    },
    "id": "A3XncuNlyeOK"
   },
   "outputs": [],
   "source": [
    "tf.keras.backend.clear_session()\n",
    "\n",
    "with strategy.scope() :\n",
    "        X = Input(shape = [500])\n",
    "\n",
    "        h1 = Embedding(input_dim = 85524, output_dim = 120)(X)\n",
    "        h2 = LSTM(120)(h1)\n",
    "\n",
    "        Y = Dense(1, activation = \"sigmoid\")(h2)\n",
    "\n",
    "        model = Model(X, Y)\n",
    "        model.compile(loss = tf.keras.losses.binary_crossentropy,\n",
    "                                    optimizer = Adam(0.01))"
   ]
  },
  {
   "cell_type": "markdown",
   "metadata": {
    "id": "IF_5PpnpzyhJ"
   },
   "source": [
    "### (3) 모델 학습"
   ]
  },
  {
   "cell_type": "code",
   "execution_count": 27,
   "metadata": {
    "executionInfo": {
     "elapsed": 165494,
     "status": "ok",
     "timestamp": 1697465416424,
     "user": {
      "displayName": "ccc flkwerkdai",
      "userId": "13507850890638580947"
     },
     "user_tz": -540
    },
    "id": "MgFDd4aNz0dq"
   },
   "outputs": [],
   "source": [
    "h=model.fit(x_train, y_train, epochs= 10, validation_split = 0.2,\n",
    "                  verbose = 0).history"
   ]
  },
  {
   "cell_type": "markdown",
   "metadata": {
    "id": "UdwUBETgz7WD"
   },
   "source": [
    "### (4) train, val loss 확인"
   ]
  },
  {
   "cell_type": "code",
   "execution_count": 28,
   "metadata": {
    "executionInfo": {
     "elapsed": 286,
     "status": "ok",
     "timestamp": 1697465419202,
     "user": {
      "displayName": "ccc flkwerkdai",
      "userId": "13507850890638580947"
     },
     "user_tz": -540
    },
    "id": "KJqhWv1Yz9xB"
   },
   "outputs": [],
   "source": [
    "import matplotlib.pyplot as plt"
   ]
  },
  {
   "cell_type": "code",
   "execution_count": 29,
   "metadata": {
    "colab": {
     "base_uri": "https://localhost:8080/",
     "height": 368
    },
    "executionInfo": {
     "elapsed": 628,
     "status": "ok",
     "timestamp": 1697465420962,
     "user": {
      "displayName": "ccc flkwerkdai",
      "userId": "13507850890638580947"
     },
     "user_tz": -540
    },
    "id": "Ov-R8GVY0AMX",
    "outputId": "c920203b-8f90-42e7-84be-e7d408dbee62"
   },
   "outputs": [
    {
     "data": {
      "image/png": "[encoded data removed]",
      "text/plain": [
       "<Figure size 1000x400 with 1 Axes>"
      ]
     },
     "metadata": {},
     "output_type": "display_data"
    }
   ],
   "source": [
    "plt.figure(figsize = (10,4))\n",
    "plt.plot(h[\"loss\"], label = \"train\")\n",
    "plt.plot(h[\"val_loss\"], label = \"val\")\n",
    "plt.legend()\n",
    "plt.show()"
   ]
  },
  {
   "cell_type": "markdown",
   "metadata": {
    "id": "S4cwKAYZ0to3"
   },
   "source": [
    "### (5) 예측"
   ]
  },
  {
   "cell_type": "code",
   "execution_count": 30,
   "metadata": {
    "colab": {
     "base_uri": "https://localhost:8080/"
    },
    "executionInfo": {
     "elapsed": 15980,
     "status": "ok",
     "timestamp": 1697465456931,
     "user": {
      "displayName": "ccc flkwerkdai",
      "userId": "13507850890638580947"
     },
     "user_tz": -540
    },
    "id": "F1eeXxww0vPf",
    "outputId": "2f7d7865-9924-4196-9a20-ea340f1a5217"
   },
   "outputs": [
    {
     "name": "stdout",
     "output_type": "stream",
     "text": [
      "782/782 [==============================] - 15s 17ms/step\n"
     ]
    }
   ],
   "source": [
    "pred = model.predict(x_test)"
   ]
  },
  {
   "cell_type": "code",
   "execution_count": 32,
   "metadata": {
    "executionInfo": {
     "elapsed": 4,
     "status": "ok",
     "timestamp": 1697465466472,
     "user": {
      "displayName": "ccc flkwerkdai",
      "userId": "13507850890638580947"
     },
     "user_tz": -540
    },
    "id": "ofi09qgd02nI"
   },
   "outputs": [],
   "source": [
    "import numpy as np"
   ]
  },
  {
   "cell_type": "code",
   "execution_count": 34,
   "metadata": {
    "executionInfo": {
     "elapsed": 261,
     "status": "ok",
     "timestamp": 1697465470132,
     "user": {
      "displayName": "ccc flkwerkdai",
      "userId": "13507850890638580947"
     },
     "user_tz": -540
    },
    "id": "XGFHyFbY0xof"
   },
   "outputs": [],
   "source": [
    "y_pred = np.where(pred>=0.5, 1, 0)"
   ]
  },
  {
   "cell_type": "code",
   "execution_count": 35,
   "metadata": {
    "executionInfo": {
     "elapsed": 808,
     "status": "ok",
     "timestamp": 1697465479753,
     "user": {
      "displayName": "ccc flkwerkdai",
      "userId": "13507850890638580947"
     },
     "user_tz": -540
    },
    "id": "xmF8wOYP02VH"
   },
   "outputs": [],
   "source": [
    "from sklearn.metrics import *"
   ]
  },
  {
   "cell_type": "code",
   "execution_count": 36,
   "metadata": {
    "colab": {
     "base_uri": "https://localhost:8080/"
    },
    "executionInfo": {
     "elapsed": 5,
     "status": "ok",
     "timestamp": 1697465493332,
     "user": {
      "displayName": "ccc flkwerkdai",
      "userId": "13507850890638580947"
     },
     "user_tz": -540
    },
    "id": "P-HBReyk061O",
    "outputId": "bc0a5ae7-5717-4d50-929c-286644846abf"
   },
   "outputs": [
    {
     "name": "stdout",
     "output_type": "stream",
     "text": [
      "              precision    recall  f1-score   support\n",
      "\n",
      "           0       0.82      0.83      0.82     12500\n",
      "           1       0.83      0.82      0.82     12500\n",
      "\n",
      "    accuracy                           0.82     25000\n",
      "   macro avg       0.82      0.82      0.82     25000\n",
      "weighted avg       0.82      0.82      0.82     25000\n",
      "\n"
     ]
    }
   ],
   "source": [
    "print(classification_report(y_test, y_pred))"
   ]
  },
  {
   "cell_type": "markdown",
   "metadata": {
    "id": "gXaSbytA0_Hv"
   },
   "source": [
    "`-` 오 아까 RNN보다 성능이 좋게 나왔다"
   ]
  },
  {
   "cell_type": "markdown",
   "metadata": {},
   "source": [
    "## ref"
   ]
  },
  {
   "cell_type": "markdown",
   "metadata": {},
   "source": [
    "[ratsgo's NLPBOOK](https://ratsgo.github.io/nlpbook/) : Copyright © 2020 Gichang LEE."
   ]
  }
 ],
 "metadata": {
  "accelerator": "TPU",
  "colab": {
   "authorship_tag": "ABX9TyNhO7rTeB5gOuofSKzfwWwe",
   "machine_shape": "hm",
   "provenance": [],
   "toc_visible": true
  },
  "kernelspec": {
   "display_name": "Python 3 (ipykernel)",
   "language": "python",
   "name": "python3"
  },
  "language_info": {
   "codemirror_mode": {
    "name": "ipython",
    "version": 3
   },
   "file_extension": ".py",
   "mimetype": "text/x-python",
   "name": "python",
   "nbconvert_exporter": "python",
   "pygments_lexer": "ipython3",
   "version": "3.11.4"
  }
 },
 "nbformat": 4,
 "nbformat_minor": 4
}
