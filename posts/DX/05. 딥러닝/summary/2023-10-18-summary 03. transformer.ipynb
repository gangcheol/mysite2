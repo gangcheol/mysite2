{
 "cells": [
  {
   "cell_type": "raw",
   "metadata": {},
   "source": [
    "---\n",
    "title : \"summary 03. Transformer\"\n",
    "author : \"GC\"\n",
    "date : \"10/18/23\"\n",
    "categories : [Transformer, 딥러닝, 언어지능]\n",
    "---"
   ]
  },
  {
   "cell_type": "markdown",
   "metadata": {
    "id": "MV2ZELF65Xab"
   },
   "source": [
    "# TPU setting"
   ]
  },
  {
   "cell_type": "code",
   "execution_count": 1,
   "metadata": {
    "colab": {
     "base_uri": "https://localhost:8080/"
    },
    "executionInfo": {
     "elapsed": 33559,
     "status": "ok",
     "timestamp": 1697466750687,
     "user": {
      "displayName": "ccc flkwerkdai",
      "userId": "13507850890638580947"
     },
     "user_tz": -540
    },
    "id": "WBo3_XUe5iip",
    "outputId": "54597a01-06c3-42fb-f4df-6f965faaa45a"
   },
   "outputs": [
    {
     "data": {
      "text/plain": [
       "<tensorflow.python.tpu.topology.Topology at 0x7a04d3af47f0>"
      ]
     },
     "execution_count": 1,
     "metadata": {},
     "output_type": "execute_result"
    }
   ],
   "source": [
    "import tensorflow as tf\n",
    "import os\n",
    "\n",
    "resolver = tf.distribute.cluster_resolver.TPUClusterResolver(tpu='grpc://' + os.environ['COLAB_TPU_ADDR'])\n",
    "\n",
    "tf.config.experimental_connect_to_cluster(resolver)\n",
    "tf.tpu.experimental.initialize_tpu_system(resolver)"
   ]
  },
  {
   "cell_type": "code",
   "execution_count": 2,
   "metadata": {
    "executionInfo": {
     "elapsed": 6,
     "status": "ok",
     "timestamp": 1697466750688,
     "user": {
      "displayName": "ccc flkwerkdai",
      "userId": "13507850890638580947"
     },
     "user_tz": -540
    },
    "id": "Z5JF7iNz5pv_"
   },
   "outputs": [],
   "source": [
    "strategy = tf.distribute.TPUStrategy(resolver)"
   ]
  },
  {
   "cell_type": "markdown",
   "metadata": {
    "id": "KbVcQI947Bao"
   },
   "source": [
    "# 1. self-attention"
   ]
  },
  {
   "cell_type": "markdown",
   "metadata": {
    "id": "puYOAZ9h9Ko4"
   },
   "source": [
    "`-` RNN은 이전 시각에 계산한 결과를 이용하여 순서대로 출력한다."
   ]
  },
  {
   "cell_type": "markdown",
   "metadata": {
    "id": "o1_7O6HP9WUn"
   },
   "source": [
    "` -`  따라서 RNN의 계산을 시간 방향으로 병렬  계산하기란 기본적으로 불가능하다."
   ]
  },
  {
   "cell_type": "markdown",
   "metadata": {
    "id": "jpts5v9f9f5f"
   },
   "source": [
    "`-` 이 점은 딥러닝 학습이 GPU를 사용한 병렬  계산환경에서 이뤄진다는 점을 생각하면 큰 병목이 아닐 수 없음.."
   ]
  },
  {
   "cell_type": "markdown",
   "metadata": {
    "id": "fimtCIY39nZd"
   },
   "source": [
    "`-` `Attention is all you need` 라는 논문에서는 RNN을 사용하지 않는 대표적인 연구임 (나중에 꼭 읽어보자)"
   ]
  },
  {
   "cell_type": "markdown",
   "metadata": {
    "id": "xhI967-6A47f"
   },
   "source": [
    "## 구조"
   ]
  },
  {
   "cell_type": "markdown",
   "metadata": {
    "id": "fXi7Lv7QA6lo"
   },
   "source": [
    "`-` 쉽게 풀어보자면 Query, key, value라는 변수를 설정 후 학습하는 것이다."
   ]
  },
  {
   "cell_type": "markdown",
   "metadata": {
    "id": "zNDUTPlqBEy3"
   },
   "source": [
    "`-` step1. Query, key, value"
   ]
  },
  {
   "cell_type": "markdown",
   "metadata": {
    "id": "fkuFIyXQBX1n"
   },
   "source": [
    "<center><img src=\"https://blog.kakaocdn.net/dn/VIoFm/btrTBJi1fIw/rv8FoLiFSaifvGR7uLMNi1/img.png\"  width = 300></center>"
   ]
  },
  {
   "cell_type": "markdown",
   "metadata": {
    "id": "JXWhrrRuBjC3"
   },
   "source": [
    "* 3가지 변수의 초기 시작 값은 동일하다. 그러나 위의 학습과정을 통해 최종 값은 달라진다."
   ]
  },
  {
   "cell_type": "markdown",
   "metadata": {
    "id": "PfcVHWUFB7kA"
   },
   "source": [
    "`-` step 2. Attention Layer"
   ]
  },
  {
   "cell_type": "markdown",
   "metadata": {
    "id": "hKGh9AdYDGQ-"
   },
   "source": [
    "* 주어진 text가 \"I am a student\"이고 \"i\"라는 단어에 대한 $Q, K, V$"
   ]
  },
  {
   "cell_type": "markdown",
   "metadata": {
    "id": "L8caCZDiCJNO"
   },
   "source": [
    "<center><img src=\"https://blog.kakaocdn.net/dn/ONq3A/btrTA6Tyae8/Qvk4WUckcas3PXDiBg1zg0/img.png\" width = 400></center>"
   ]
  },
  {
   "cell_type": "markdown",
   "metadata": {
    "id": "V3ZUEW5GCeSf"
   },
   "source": [
    "\n",
    "$$\\text{Attention}(Q,K,V) = \\text{softmax}\\left (\\frac {QK^{\\top}}{\\sqrt{d_k}}V \\right )= \\frac {3}{2} = 1.5$$"
   ]
  },
  {
   "cell_type": "markdown",
   "metadata": {
    "id": "fzCWPlOVC5rf"
   },
   "source": [
    "`-` step3. 이를 모든 단어에 대해 수행하면?"
   ]
  },
  {
   "cell_type": "markdown",
   "metadata": {
    "id": "NnfeQCqkDhBm"
   },
   "source": [
    "<center><img src = \"https://blog.kakaocdn.net/dn/yt8W5/btrTzCenX8v/n1gjS3MTuhktj0xDDsox20/img.png\", width = 500></center>"
   ]
  },
  {
   "cell_type": "markdown",
   "metadata": {
    "id": "V9z8eIvgEKmJ"
   },
   "source": [
    "## 중간 정리"
   ]
  },
  {
   "cell_type": "markdown",
   "metadata": {
    "id": "dw3_xxWAENIf"
   },
   "source": [
    "`1` 기존의 RNN 모델을 은닉노두 $h_t$가 이전 시점의 결과를 순차적으로 학습하였음"
   ]
  },
  {
   "cell_type": "markdown",
   "metadata": {
    "id": "XAZTM5yUElTH"
   },
   "source": [
    "`2`  이는 연산 효율이 떨어지는 병목현상을 유발함"
   ]
  },
  {
   "cell_type": "markdown",
   "metadata": {
    "id": "5bdEvY5CEpSv"
   },
   "source": [
    "`3` attention 매커니즘은 주목해야할 정보에만 집중(softmax)하면서 모델의 성능 향상을 야기함."
   ]
  },
  {
   "cell_type": "markdown",
   "metadata": {
    "id": "xXA-lgigExnH"
   },
   "source": [
    "`4` 그 중, `self-attettion`은 자기 자신에게 Attention 매커니즘을 행하는 방식임\n",
    "\n",
    "  * 이를 하는 이유는 단어들의 연관성을 파악하기 위함"
   ]
  },
  {
   "cell_type": "markdown",
   "metadata": {
    "id": "Md3XE971FzOf"
   },
   "source": [
    "# 2. Multihead-Attention"
   ]
  },
  {
   "cell_type": "markdown",
   "metadata": {
    "id": "I0Uvgp3EF282"
   },
   "source": [
    "<center><img src = \"https://blog.kakaocdn.net/dn/cx6fS9/btrTFmhGL1b/liEpkqd2KPl2qwvXHPPYD0/img.png\" width  = 500> </center>"
   ]
  },
  {
   "cell_type": "markdown",
   "metadata": {
    "id": "_jWHFFn1GBqP"
   },
   "source": [
    "<center><img src = \"https://blog.kakaocdn.net/dn/cyB5SH/btrTDmwgt1P/ydDiUHQjW39fUD07xYMrD1/img.png\" width = 300> </center>"
   ]
  },
  {
   "cell_type": "markdown",
   "metadata": {
    "id": "YFEnaVw3GQfA"
   },
   "source": [
    "`1` 팀 프로젝트가 더 효과적인 결정적인 이유는 다른 사람과 생각을 공유한다는 점이다.\n",
    "\n",
    "`2` 다른 사람들과 생각을 공유하다 보면 내가 놓쳤거나 미처 생각하지 못한 부분을 발견할 수 있고 때로는 해야 하는 일의 양이 줄어들어 더욱 효율적으로 프로젝트를 진행할 수 있습니다.\n",
    "\n",
    "`3` 이러한 아이디어를 Attention 메커니즘에 적용한 사례가 바로 \"Multihead Attention\" 메커니즘이다.\n",
    "\n",
    "`4` 그림에서 볼 수 있듰이 `num_head`수만큼 `Attention`을 각각 병렬로 나누어 계산한다.\n",
    "\n",
    "`5` 그 후, 도출된  Attention Value들을 마지막에 `concatenate`를 통해 하나로 합침"
   ]
  },
  {
   "cell_type": "markdown",
   "metadata": {
    "id": "OIWOaCQGGtIH"
   },
   "source": [
    "## 비교"
   ]
  },
  {
   "cell_type": "markdown",
   "metadata": {
    "id": "BDnK2DiQHN7J"
   },
   "source": [
    "* 일반적인 Attention 메커니즘"
   ]
  },
  {
   "cell_type": "markdown",
   "metadata": {
    "id": "gkogR5hqHYf_"
   },
   "source": [
    "<center><img src = \"https://blog.kakaocdn.net/dn/cgI7XL/btrTHPRvyVx/dukzxTN7p8zS1tKokwZ23k/img.png\" width = 500></center>"
   ]
  },
  {
   "cell_type": "markdown",
   "metadata": {
    "id": "mx27oKGNHSNJ"
   },
   "source": [
    "* Multi-head Attention 메커니즘"
   ]
  },
  {
   "cell_type": "markdown",
   "metadata": {
    "id": "HIYzeatsHln_"
   },
   "source": [
    "<center><img src= \"https://blog.kakaocdn.net/dn/PrYWZ/btrTGZz0eAH/KhrIxmbrDlU8CueeztcEJK/img.png\" width = 500 ></center>"
   ]
  },
  {
   "cell_type": "markdown",
   "metadata": {
    "id": "BrBh2MhjHujn"
   },
   "source": [
    "* 자! 멀티헤드 어텐션을 이용하면 기존의 `4 x 8` 이었던 $Q, K, V$를 4등분하여 병렬처리 하는 것을 볼 수 있다!!"
   ]
  },
  {
   "cell_type": "markdown",
   "metadata": {
    "id": "ELxG1nUEIByG"
   },
   "source": [
    "* 앞서 설명했듯이 사람들이 회의를 하듯이 여러 부분에서 도출된 결과를 통해 서로 정보를 상호보완하여 더 좋은 성능을 야기할 수 있다!"
   ]
  },
  {
   "cell_type": "markdown",
   "metadata": {
    "id": "JNkV0yeAJz8v"
   },
   "source": [
    "***"
   ]
  },
  {
   "cell_type": "markdown",
   "metadata": {
    "id": "cyQVaC3cJ1c4"
   },
   "source": [
    "# 3. Positional Encoding"
   ]
  },
  {
   "cell_type": "markdown",
   "metadata": {
    "id": "7hiUuVOpJ574"
   },
   "source": [
    "`-` 앞선 단계들의 문제점은 문장을 한번에 병렬 처리 했기 떄문에 **단어간 순서가 반영되지 않았다는 것이다.**"
   ]
  },
  {
   "cell_type": "markdown",
   "metadata": {
    "id": "VU93FvQOKQkt"
   },
   "source": [
    "`-` 따라서 아래와 같이 embedding 벡터에 각 단어들의 `position embedding`을 더해주자."
   ]
  },
  {
   "cell_type": "markdown",
   "metadata": {
    "id": "nLpiCKrrKbTn"
   },
   "source": [
    "<center><img src = \"https://blog.kakaocdn.net/dn/bTRJGq/btrTWNr7cwq/FqefWFksQtR2ncKcvieokk/img.png\" width = 500></center>"
   ]
  },
  {
   "cell_type": "markdown",
   "metadata": {
    "id": "JOYyv82_KvUm"
   },
   "source": [
    "## positional embedding의 조건"
   ]
  },
  {
   "cell_type": "markdown",
   "metadata": {
    "id": "GcacarflKzeY"
   },
   "source": [
    "`1` 모델의 효율적인 학습을 위해 스케일이 어느 정도 범위 안에 있어야 한다.\n",
    "\n",
    "* 만약, positional embedding의 스케일 범위가 너무 크면 이 자체 값의 영향력이 너무 커져 다른 값이 무시되어 학습되지 않음,."
   ]
  },
  {
   "cell_type": "markdown",
   "metadata": {
    "id": "yOe5wulRLB9g"
   },
   "source": [
    "`2` input data의 크기에 상관없이 output을 도출해야된다.\n",
    "\n",
    "* 만약, input data의 크기가 10일 때에 대해서만 output을 도출할 수 있다면, 다른 사이즈의 input data에 대해서는 output을 도출할 수 없다.."
   ]
  },
  {
   "cell_type": "markdown",
   "metadata": {
    "id": "Z-sLbYoGLpC9"
   },
   "source": [
    "* 위 조건을 모두 만족하는 함수가 삼각함수인데  주기적으로 반복돼서 정보가 겹친다는 점을 해결하위해 임베딩 차원이 짝수, 홀수에 따라 다음과 같이 정의한다."
   ]
  },
  {
   "cell_type": "markdown",
   "metadata": {
    "id": "gBaGiRxSL53e"
   },
   "source": [
    "$$PE_{pos, 2i} =  \\text{sin}\\left(\\frac {pos}{10000^{2i/d_{model}}}\\right )$$"
   ]
  },
  {
   "cell_type": "markdown",
   "metadata": {
    "id": "8jLm6X-9M70o"
   },
   "source": [
    "$$PE_{pos, 2i+1} =  \\text{cos}\\left(\\frac {pos}{10000^{2i/d_{model}}}\\right )$$"
   ]
  },
  {
   "cell_type": "markdown",
   "metadata": {
    "id": "84V88tMCIJnt"
   },
   "source": [
    "# Transformer"
   ]
  },
  {
   "cell_type": "markdown",
   "metadata": {
    "id": "_V_e_fJ8IO7I"
   },
   "source": [
    "`-` 그래서 Transformer가 뭐냐?"
   ]
  },
  {
   "cell_type": "markdown",
   "metadata": {
    "id": "UuW4uDPWISCy"
   },
   "source": [
    "* 위 처럼 RNN의 문제점을 해결한 Attention 메커니즘으로만 이루어진 encoder-decoder 구조의 모델이다."
   ]
  },
  {
   "cell_type": "markdown",
   "metadata": {
    "id": "i5C4g2OWOG38"
   },
   "source": [
    "* 또한, 병렬처리를 할 떄 단어의 순서 정보를 기록하기위해 Positional Encoding 방법을 사용한다."
   ]
  },
  {
   "cell_type": "markdown",
   "metadata": {
    "id": "MwYK1NYUOTaW"
   },
   "source": [
    "* 이를 도식화하면"
   ]
  },
  {
   "cell_type": "markdown",
   "metadata": {
    "id": "AVVLAa3IOWH2"
   },
   "source": [
    "<center><img src = \"https://blog.kakaocdn.net/dn/z84El/btrTy4IOk9s/0qN9z3EPxX9bNoGsULLXuK/img.png\" width = 400></center>"
   ]
  },
  {
   "cell_type": "markdown",
   "metadata": {
    "id": "3xSVdtLGO-2R"
   },
   "source": [
    "## 실습. imdb 데이터"
   ]
  },
  {
   "cell_type": "markdown",
   "metadata": {
    "id": "z7ewz-2cPC3X"
   },
   "source": [
    "### (1) 데이터 로드 및 전처리"
   ]
  },
  {
   "cell_type": "code",
   "execution_count": 6,
   "metadata": {
    "colab": {
     "base_uri": "https://localhost:8080/"
    },
    "executionInfo": {
     "elapsed": 3756,
     "status": "ok",
     "timestamp": 1697472434997,
     "user": {
      "displayName": "ccc flkwerkdai",
      "userId": "13507850890638580947"
     },
     "user_tz": -540
    },
    "id": "YpR-OK9SPF3f",
    "outputId": "5d9745f0-751f-4962-cfb4-800e140eaba1"
   },
   "outputs": [
    {
     "name": "stdout",
     "output_type": "stream",
     "text": [
      "Downloading data from https://storage.googleapis.com/tensorflow/tf-keras-datasets/imdb.npz\n",
      "17464789/17464789 [==============================] - 0s 0us/step\n"
     ]
    }
   ],
   "source": [
    "import tensorflow as tf\n",
    "(x_train, y_train), (x_test, y_test) = tf.keras.datasets.imdb.load_data()"
   ]
  },
  {
   "cell_type": "code",
   "execution_count": 8,
   "metadata": {
    "executionInfo": {
     "elapsed": 430,
     "status": "ok",
     "timestamp": 1697472483044,
     "user": {
      "displayName": "ccc flkwerkdai",
      "userId": "13507850890638580947"
     },
     "user_tz": -540
    },
    "id": "9HAD66JNPdsh"
   },
   "outputs": [],
   "source": [
    "max_len = 500\n",
    "vocab_size = len(set([j for i in x_train for j in i]))"
   ]
  },
  {
   "cell_type": "markdown",
   "metadata": {
    "id": "PU5_-kKGPsbO"
   },
   "source": [
    "`-` 패딩"
   ]
  },
  {
   "cell_type": "code",
   "execution_count": 9,
   "metadata": {
    "executionInfo": {
     "elapsed": 856,
     "status": "ok",
     "timestamp": 1697472498062,
     "user": {
      "displayName": "ccc flkwerkdai",
      "userId": "13507850890638580947"
     },
     "user_tz": -540
    },
    "id": "aU2BO70jPpEm"
   },
   "outputs": [],
   "source": [
    "x_train = tf.keras.preprocessing.sequence.pad_sequences(x_train, maxlen = 500)\n",
    "x_test = tf.keras.preprocessing.sequence.pad_sequences(x_test, maxlen = 500)"
   ]
  },
  {
   "cell_type": "markdown",
   "metadata": {
    "id": "WRSlmRXdPtmB"
   },
   "source": [
    "### (2) 멀티 헤드 엍켄션 클래스 구현"
   ]
  },
  {
   "cell_type": "markdown",
   "metadata": {
    "id": "auJv5mXqQNaE"
   },
   "source": [
    "`-` `num_heads` = 8로 설정"
   ]
  },
  {
   "cell_type": "code",
   "execution_count": 11,
   "metadata": {
    "executionInfo": {
     "elapsed": 714,
     "status": "ok",
     "timestamp": 1697472662127,
     "user": {
      "displayName": "ccc flkwerkdai",
      "userId": "13507850890638580947"
     },
     "user_tz": -540
    },
    "id": "-rWN8GdsQGgW"
   },
   "outputs": [],
   "source": [
    "# | code-fold : true\n",
    "class MultiHeadAttention(tf.keras.layers.Layer):\n",
    "    def __init__(self, embedding_dim, num_heads=8):\n",
    "        super(MultiHeadAttention, self).__init__()\n",
    "        self.embedding_dim = embedding_dim # d_model\n",
    "        self.num_heads = num_heads\n",
    "\n",
    "        assert embedding_dim % self.num_heads == 0\n",
    "\n",
    "        self.projection_dim = embedding_dim // num_heads\n",
    "        self.query_dense = tf.keras.layers.Dense(embedding_dim)\n",
    "        self.key_dense = tf.keras.layers.Dense(embedding_dim)\n",
    "        self.value_dense = tf.keras.layers.Dense(embedding_dim)\n",
    "        self.dense = tf.keras.layers.Dense(embedding_dim)\n",
    "\n",
    "    def scaled_dot_product_attention(self, query, key, value):\n",
    "        matmul_qk = tf.matmul(query, key, transpose_b=True)\n",
    "        depth = tf.cast(tf.shape(key)[-1], tf.float32)\n",
    "        logits = matmul_qk / tf.math.sqrt(depth)\n",
    "        attention_weights = tf.nn.softmax(logits, axis=-1)\n",
    "        output = tf.matmul(attention_weights, value)\n",
    "        return output, attention_weights\n",
    "\n",
    "    def split_heads(self, x, batch_size):\n",
    "        x = tf.reshape(x, (batch_size, -1, self.num_heads, self.projection_dim))\n",
    "        return tf.transpose(x, perm=[0, 2, 1, 3])\n",
    "\n",
    "    def call(self, inputs):\n",
    "        # x.shape = [batch_size, seq_len, embedding_dim]\n",
    "        batch_size = tf.shape(inputs)[0]\n",
    "\n",
    "        # (batch_size, seq_len, embedding_dim)\n",
    "        query = self.query_dense(inputs)\n",
    "        key = self.key_dense(inputs)\n",
    "        value = self.value_dense(inputs)\n",
    "\n",
    "        # (batch_size, num_heads, seq_len, projection_dim)\n",
    "        query = self.split_heads(query, batch_size)\n",
    "        key = self.split_heads(key, batch_size)\n",
    "        value = self.split_heads(value, batch_size)\n",
    "\n",
    "        scaled_attention, _ = self.scaled_dot_product_attention(query, key, value)\n",
    "        # (batch_size, seq_len, num_heads, projection_dim)\n",
    "        scaled_attention = tf.transpose(scaled_attention, perm=[0, 2, 1, 3])\n",
    "\n",
    "        # (batch_size, seq_len, embedding_dim)\n",
    "        concat_attention = tf.reshape(scaled_attention, (batch_size, -1, self.embedding_dim))\n",
    "        outputs = self.dense(concat_attention)\n",
    "        return outputs"
   ]
  },
  {
   "cell_type": "markdown",
   "metadata": {
    "id": "O2s0RiPGQU2F"
   },
   "source": [
    "### (3) 인코더 설계"
   ]
  },
  {
   "cell_type": "markdown",
   "metadata": {
    "id": "J9wswUm-QX3N"
   },
   "source": [
    "`-` 멀티 헤드 어텐션에 두 번쨰 서브층, 포지션 와이즈 피드 포워드 신경망을 추가하여 인코더 클래스를 설계"
   ]
  },
  {
   "cell_type": "code",
   "execution_count": 12,
   "metadata": {
    "executionInfo": {
     "elapsed": 265,
     "status": "ok",
     "timestamp": 1697472704037,
     "user": {
      "displayName": "ccc flkwerkdai",
      "userId": "13507850890638580947"
     },
     "user_tz": -540
    },
    "id": "4UjSU1KNQd0N"
   },
   "outputs": [],
   "source": [
    "class TransformerBlock(tf.keras.layers.Layer):\n",
    "    def __init__(self, embedding_dim, num_heads, dff, rate=0.1):\n",
    "        super(TransformerBlock, self).__init__()\n",
    "        self.att = MultiHeadAttention(embedding_dim, num_heads)\n",
    "        self.ffn = tf.keras.Sequential(\n",
    "            [tf.keras.layers.Dense(dff, activation=\"relu\"),\n",
    "             tf.keras.layers.Dense(embedding_dim),]\n",
    "        )\n",
    "        self.layernorm1 = tf.keras.layers.LayerNormalization(epsilon=1e-6)\n",
    "        self.layernorm2 = tf.keras.layers.LayerNormalization(epsilon=1e-6)\n",
    "        self.dropout1 = tf.keras.layers.Dropout(rate)\n",
    "        self.dropout2 = tf.keras.layers.Dropout(rate)\n",
    "\n",
    "    def call(self, inputs, training):\n",
    "        attn_output = self.att(inputs) # 첫번째 서브층 : 멀티 헤드 어텐션\n",
    "        attn_output = self.dropout1(attn_output, training=training)\n",
    "        out1 = self.layernorm1(inputs + attn_output) # Add & Norm\n",
    "        ffn_output = self.ffn(out1) # 두번째 서브층 : 포지션 와이즈 피드 포워드 신경망\n",
    "        ffn_output = self.dropout2(ffn_output, training=training)\n",
    "        return self.layernorm2(out1 + ffn_output) # Add & Norm\n"
   ]
  },
  {
   "cell_type": "markdown",
   "metadata": {
    "id": "yzb7Mzx6QfUe"
   },
   "source": [
    "### (4) 포지션 임베딩 설계"
   ]
  },
  {
   "cell_type": "code",
   "execution_count": 13,
   "metadata": {
    "executionInfo": {
     "elapsed": 303,
     "status": "ok",
     "timestamp": 1697472729304,
     "user": {
      "displayName": "ccc flkwerkdai",
      "userId": "13507850890638580947"
     },
     "user_tz": -540
    },
    "id": "Cmt5yEf_Qkfm"
   },
   "outputs": [],
   "source": [
    "class TokenAndPositionEmbedding(tf.keras.layers.Layer):\n",
    "    def __init__(self, max_len, vocab_size, embedding_dim):\n",
    "        super(TokenAndPositionEmbedding, self).__init__()\n",
    "        self.token_emb = tf.keras.layers.Embedding(vocab_size, embedding_dim)\n",
    "        self.pos_emb = tf.keras.layers.Embedding(max_len, embedding_dim)\n",
    "\n",
    "    def call(self, x):\n",
    "        max_len = tf.shape(x)[-1]\n",
    "        positions = tf.range(start=0, limit=max_len, delta=1)\n",
    "        positions = self.pos_emb(positions)\n",
    "        x = self.token_emb(x)\n",
    "        return x + positions"
   ]
  },
  {
   "cell_type": "markdown",
   "metadata": {
    "id": "phJBMeSPQnV-"
   },
   "source": [
    "### (5) 모델링"
   ]
  },
  {
   "cell_type": "code",
   "execution_count": 26,
   "metadata": {
    "executionInfo": {
     "elapsed": 848,
     "status": "ok",
     "timestamp": 1697473237581,
     "user": {
      "displayName": "ccc flkwerkdai",
      "userId": "13507850890638580947"
     },
     "user_tz": -540
    },
    "id": "DYaozrtEQp1m"
   },
   "outputs": [],
   "source": [
    "embedding_dim = 120  # 각 단어의 임베딩 벡터의 차원\n",
    "num_heads = 8  # 어텐션 헤드의 수\n",
    "dff = 120  # 포지션 와이즈 피드 포워드 신경망의 은닉층의 크기\n",
    "\n",
    "with strategy.scope() :\n",
    "          inputs = tf.keras.layers.Input(shape=(max_len,))\n",
    "          embedding_layer = TokenAndPositionEmbedding(max_len, vocab_size, embedding_dim)\n",
    "          x = embedding_layer(inputs)\n",
    "          transformer_block = TransformerBlock(embedding_dim, num_heads, dff)\n",
    "          x = transformer_block(x)\n",
    "          x = tf.keras.layers.GlobalAveragePooling1D()(x)\n",
    "          x = tf.keras.layers.Dropout(0.1)(x)\n",
    "          x = tf.keras.layers.Dense(20, activation=\"relu\")(x)\n",
    "          x = tf.keras.layers.Dropout(0.1)(x)\n",
    "          outputs = tf.keras.layers.Dense(1, activation=\"sigmoid\")(x)\n",
    "\n",
    "          model = tf.keras.Model(inputs=inputs, outputs=outputs)\n",
    "          model.compile(optimizer = tf.keras.optimizers.Adam(0.001),\n",
    "                                      loss = tf.keras.losses.binary_crossentropy)"
   ]
  },
  {
   "cell_type": "markdown",
   "metadata": {
    "id": "xsxGY6qjQ_4G"
   },
   "source": [
    "### (6) 모델 학습"
   ]
  },
  {
   "cell_type": "code",
   "execution_count": 27,
   "metadata": {
    "colab": {
     "base_uri": "https://localhost:8080/"
    },
    "executionInfo": {
     "elapsed": 131655,
     "status": "ok",
     "timestamp": 1697473370312,
     "user": {
      "displayName": "ccc flkwerkdai",
      "userId": "13507850890638580947"
     },
     "user_tz": -540
    },
    "id": "qEBhDhkPRLVc",
    "outputId": "add3d247-92fb-492b-9126-6b53fa7a88a3"
   },
   "outputs": [
    {
     "name": "stdout",
     "output_type": "stream",
     "text": [
      "Epoch 1/10\n",
      "625/625 [==============================] - 23s 23ms/step - loss: 0.6950 - val_loss: 0.6932\n",
      "Epoch 2/10\n",
      "625/625 [==============================] - 12s 19ms/step - loss: 0.6932 - val_loss: 0.6931\n",
      "Epoch 3/10\n",
      "625/625 [==============================] - 12s 19ms/step - loss: 0.6932 - val_loss: 0.6932\n",
      "Epoch 4/10\n",
      "625/625 [==============================] - 12s 19ms/step - loss: 0.4739 - val_loss: 0.2822\n",
      "Epoch 5/10\n",
      "625/625 [==============================] - 12s 19ms/step - loss: 0.1884 - val_loss: 0.2648\n",
      "Epoch 6/10\n",
      "625/625 [==============================] - 12s 19ms/step - loss: 0.0955 - val_loss: 0.3670\n",
      "Epoch 7/10\n",
      "625/625 [==============================] - 12s 19ms/step - loss: 0.0428 - val_loss: 0.5349\n",
      "Epoch 8/10\n",
      "625/625 [==============================] - 12s 19ms/step - loss: 0.0252 - val_loss: 0.6099\n",
      "Epoch 9/10\n",
      "625/625 [==============================] - 12s 20ms/step - loss: 0.0134 - val_loss: 0.6918\n",
      "Epoch 10/10\n",
      "625/625 [==============================] - 12s 19ms/step - loss: 0.0103 - val_loss: 0.7428\n"
     ]
    }
   ],
   "source": [
    "h = model.fit(x_train, y_train, epochs = 10,\n",
    "                          validation_split = 0.2).history"
   ]
  },
  {
   "cell_type": "code",
   "execution_count": 28,
   "metadata": {
    "executionInfo": {
     "elapsed": 4,
     "status": "ok",
     "timestamp": 1697473371792,
     "user": {
      "displayName": "ccc flkwerkdai",
      "userId": "13507850890638580947"
     },
     "user_tz": -540
    },
    "id": "oHXWe47lR9F2"
   },
   "outputs": [],
   "source": [
    "import matplotlib.pyplot as plt"
   ]
  },
  {
   "cell_type": "code",
   "execution_count": 29,
   "metadata": {
    "colab": {
     "base_uri": "https://localhost:8080/",
     "height": 368
    },
    "executionInfo": {
     "elapsed": 501,
     "status": "ok",
     "timestamp": 1697473373412,
     "user": {
      "displayName": "ccc flkwerkdai",
      "userId": "13507850890638580947"
     },
     "user_tz": -540
    },
    "id": "FZAwqQGBRtSm",
    "outputId": "d8cd0f0b-f393-470d-b34d-317f4485b286"
   },
   "outputs": [
    {
     "data": {
      "image/png": "[encoded data removed]",
      "text/plain": [
       "<Figure size 1000x400 with 1 Axes>"
      ]
     },
     "metadata": {},
     "output_type": "display_data"
    }
   ],
   "source": [
    "plt.figure(figsize = (10,4))\n",
    "plt.plot(h[\"loss\"], label = \"train\")\n",
    "plt.plot(h[\"val_loss\"], label = \"val\")\n",
    "plt.legend()\n",
    "plt.show()"
   ]
  },
  {
   "cell_type": "markdown",
   "metadata": {
    "id": "OlxPXE_ESAn9"
   },
   "source": [
    "### (7) 예측"
   ]
  },
  {
   "cell_type": "code",
   "execution_count": 30,
   "metadata": {
    "executionInfo": {
     "elapsed": 263,
     "status": "ok",
     "timestamp": 1697473376393,
     "user": {
      "displayName": "ccc flkwerkdai",
      "userId": "13507850890638580947"
     },
     "user_tz": -540
    },
    "id": "ePrz0KqMSEX1"
   },
   "outputs": [],
   "source": [
    "import numpy as np\n",
    "from sklearn.metrics import *"
   ]
  },
  {
   "cell_type": "code",
   "execution_count": 31,
   "metadata": {
    "colab": {
     "base_uri": "https://localhost:8080/"
    },
    "executionInfo": {
     "elapsed": 9652,
     "status": "ok",
     "timestamp": 1697473386309,
     "user": {
      "displayName": "ccc flkwerkdai",
      "userId": "13507850890638580947"
     },
     "user_tz": -540
    },
    "id": "8YE5hP6pSCcd",
    "outputId": "e8983014-9546-4937-85bb-c353798fc797"
   },
   "outputs": [
    {
     "name": "stdout",
     "output_type": "stream",
     "text": [
      "782/782 [==============================] - 8s 10ms/step\n"
     ]
    }
   ],
   "source": [
    "pred = model.predict(x_test)\n",
    "y_pred = np.where(pred>=0.5, 1, 0)"
   ]
  },
  {
   "cell_type": "code",
   "execution_count": 32,
   "metadata": {
    "colab": {
     "base_uri": "https://localhost:8080/"
    },
    "executionInfo": {
     "elapsed": 3,
     "status": "ok",
     "timestamp": 1697473386560,
     "user": {
      "displayName": "ccc flkwerkdai",
      "userId": "13507850890638580947"
     },
     "user_tz": -540
    },
    "id": "F8egYV0xSGsV",
    "outputId": "1badcfec-5cd2-4d00-a1c0-9aa6d78ee488"
   },
   "outputs": [
    {
     "name": "stdout",
     "output_type": "stream",
     "text": [
      "              precision    recall  f1-score   support\n",
      "\n",
      "           0       0.85      0.86      0.86     12500\n",
      "           1       0.86      0.85      0.86     12500\n",
      "\n",
      "    accuracy                           0.86     25000\n",
      "   macro avg       0.86      0.86      0.86     25000\n",
      "weighted avg       0.86      0.86      0.86     25000\n",
      "\n"
     ]
    }
   ],
   "source": [
    "print(classification_report(y_test, y_pred))"
   ]
  },
  {
   "cell_type": "markdown",
   "metadata": {
    "id": "sQngkrHiRop-"
   },
   "source": [
    "`-` 방금전 LSTM으로 0.82의 test 정확도가 나왔는데..."
   ]
  },
  {
   "cell_type": "markdown",
   "metadata": {
    "id": "EN9CYjM9SLXl"
   },
   "source": [
    "`-` 오, 0.04이나 개선되었다!"
   ]
  },
  {
   "cell_type": "markdown",
   "metadata": {
    "id": "dzz2YI7791Gg"
   },
   "source": [
    "## ref"
   ]
  },
  {
   "cell_type": "markdown",
   "metadata": {
    "id": "9zRt1QS1_OUP"
   },
   "source": [
    "1. [ratsgo's NLPBOOK](https://ratsgo.github.io/nlpbook/) : Copyright © 2020 Gichang LEE."
   ]
  },
  {
   "cell_type": "markdown",
   "metadata": {
    "id": "NRYSKpmhAUz3"
   },
   "source": [
    "2. [코딩 오페라](https://codingopera.tistory.com/43)"
   ]
  },
  {
   "cell_type": "markdown",
   "metadata": {
    "id": "neAqFNv1UHXH"
   },
   "source": [
    "3. [딥러닝을 이용한 자연어 처리 입문](https://wikidocs.net/103802) (안상준, 유원준)"
   ]
  }
 ],
 "metadata": {
  "accelerator": "TPU",
  "colab": {
   "authorship_tag": "ABX9TyMmp8TaXixpMSbsLPMq0FAk",
   "machine_shape": "hm",
   "provenance": [],
   "toc_visible": true
  },
  "kernelspec": {
   "display_name": "Python 3 (ipykernel)",
   "language": "python",
   "name": "python3"
  },
  "language_info": {
   "codemirror_mode": {
    "name": "ipython",
    "version": 3
   },
   "file_extension": ".py",
   "mimetype": "text/x-python",
   "name": "python",
   "nbconvert_exporter": "python",
   "pygments_lexer": "ipython3",
   "version": "3.11.4"
  }
 },
 "nbformat": 4,
 "nbformat_minor": 4
}
