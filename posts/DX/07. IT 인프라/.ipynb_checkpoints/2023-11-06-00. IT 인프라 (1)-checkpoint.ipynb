{
 "cells": [
  {
   "cell_type": "raw",
   "id": "11301b15-8d05-40c8-bd74-5fbcf3ceafd0",
   "metadata": {},
   "source": [
    "---\n",
    "title : \"00. IT 인프라 (1)\"\n",
    "author : \"GC\"\n",
    "date : \"11/06/23\"\n",
    "categories : [IT 인프라]\n",
    "---"
   ]
  },
  {
   "cell_type": "markdown",
   "id": "e763f3b5-1645-42cc-8944-73449f0de6ba",
   "metadata": {},
   "source": [
    "# 1. IT 인프라 이해"
   ]
  },
  {
   "cell_type": "markdown",
   "id": "32bbb157-38b7-46bb-961b-b5f52e873bc7",
   "metadata": {
    "tags": []
   },
   "source": [
    "`-` 인프라 : 기반 시설, 또는 인프라스트럭처는 경제 활동의 기반을 형성하는 기초적인 시설과 시스템을 말하며, 도로나 하천, 항만, 공항 등과 같이 경제 활동에 밀접한 사회 자본"
   ]
  },
  {
   "cell_type": "markdown",
   "id": "db4eea08-73ff-4dfd-afaa-3a95a36f5919",
   "metadata": {},
   "source": [
    "`-` IT 인프라란?\n",
    "\n",
    "* 네트워크, 서버, 데이터베이스, 정보보안, 시스템 소프트웨어 및 기반시설 등 IT 서비스의 기반이 되는 시스템 및 구조 "
   ]
  },
  {
   "cell_type": "markdown",
   "id": "4b9b0d5f-57a2-4593-b4f3-1c439377eeae",
   "metadata": {},
   "source": [
    "`-` 우리가 사용하는 개발언어(python, R)들을 컴퓨터 서버에 설치하고 분석을 하게끔 도와주고, 활용 및 공유하고 이점을 가질 수 있도록 해주는 것이 전부 IT인프라 구성도에 포함되어 있다. "
   ]
  },
  {
   "cell_type": "markdown",
   "id": "712d6993-2f56-45f3-8a3d-0707e6944659",
   "metadata": {},
   "source": [
    "`-` 이번 시간에 스토리지, 네트워크 등 인프라 구성도에 관한 요소들을 학습한다."
   ]
  },
  {
   "cell_type": "markdown",
   "id": "4d663cd4-a509-44f7-ab09-70f80c3d1839",
   "metadata": {},
   "source": [
    "## (1) 주요 구성요소"
   ]
  },
  {
   "cell_type": "markdown",
   "id": "d14bf09b-daee-4079-8951-d2b305b5d547",
   "metadata": {},
   "source": [
    "`1` 하드웨어 : 눈에 보이는 물리적 장비\n",
    "\n",
    "* PC, 모니터, 하드디스크, CPU, MEMORY, 서버, 스토리지, 라우터, 스위치 등"
   ]
  },
  {
   "cell_type": "markdown",
   "id": "5c5ae8d1-65e0-481a-82ed-ab2a875d7a75",
   "metadata": {},
   "source": [
    "`2` 소프트웨어 : 하드웨어를 움직이게 하는 눈에 보이지 않는 프로그램\n",
    "\n",
    "* OS, Database, Microsofrt Office, Photoshop 등"
   ]
  },
  {
   "cell_type": "markdown",
   "id": "5aa81849-090a-47bf-821c-835c35394e8a",
   "metadata": {},
   "source": [
    "`3` 네트워크 : 컴퓨터 같은 장비들이 그물망처럼 연결된 형태 또는 장비"
   ]
  },
  {
   "cell_type": "markdown",
   "id": "faec1819-efad-42be-b9d8-0e3fa63ef61c",
   "metadata": {},
   "source": [
    "* 공유기(Router), 스위치, 방화벽, 케이블 등 "
   ]
  },
  {
   "cell_type": "markdown",
   "id": "5e2adf52-e43b-43ff-8860-2d678dc2a3f8",
   "metadata": {},
   "source": [
    "## (2) 데이터 센터"
   ]
  },
  {
   "cell_type": "markdown",
   "id": "25e497a2-2786-4329-9d57-4cef6b32c9c3",
   "metadata": {},
   "source": [
    "`-` 서버, 네트워크, 스토리지와 같은 기업의 IT인프라 구성 요소들이 모여 있는 시설"
   ]
  },
  {
   "cell_type": "markdown",
   "id": "3575ce4a-842b-4513-abd8-53920fe17824",
   "metadata": {},
   "source": [
    "## (3) IT 인프라 유형"
   ]
  },
  {
   "cell_type": "markdown",
   "id": "59ad21ab-527f-4050-ba05-349c1849a75e",
   "metadata": {},
   "source": [
    "`-`기존 `인프라(On-Premise)`와 `클라우드` 인프라로 구분"
   ]
  },
  {
   "cell_type": "markdown",
   "id": "3ca3a83e-e13e-4d02-9155-73f3242cc59e",
   "metadata": {},
   "source": [
    "### 온 프레미스"
   ]
  },
  {
   "cell_type": "markdown",
   "id": "66c68a74-398f-40ae-b992-67023a955bdf",
   "metadata": {},
   "source": [
    "`1` 서버, 스토리지, 네트워크 등을 기업 자체적으로 보유하여 운영하는 방식"
   ]
  },
  {
   "cell_type": "markdown",
   "id": "f638ba65-89be-492e-8f29-24f5331d5617",
   "metadata": {},
   "source": [
    "`2` 클라우드 컴퓨팅의 발전 이전까지 사용하던 일반적이고 전통적인 인프라 유형"
   ]
  },
  {
   "cell_type": "markdown",
   "id": "2cc896cf-8b92-4f69-b1a2-b2e38697caf2",
   "metadata": {},
   "source": [
    "`3` **기업이 데이터 센터를 직접 만들어 운영하는 방식**"
   ]
  },
  {
   "cell_type": "markdown",
   "id": "ee5f903a-f97a-4a56-b594-0edcadd82470",
   "metadata": {},
   "source": [
    "### 클라우드"
   ]
  },
  {
   "cell_type": "markdown",
   "id": "e75adb26-89e7-44ec-a4dc-8073befd306d",
   "metadata": {},
   "source": [
    "`1` 퍼블릭 클라우드\n",
    "\n",
    "- 클라우드 컴퓨팅 서비스를 제공해주는 업체(CSP, Cloud Service Provider)에게 인프라에 필요한 자원들을 대여하여 사용하는 방식\n",
    "\n",
    "- ex : AWS, Azure, GCP, KT 클라우드, 네이버 클라우드"
   ]
  },
  {
   "cell_type": "markdown",
   "id": "e080bee0-ee21-4b02-8ebf-76bb1d4309e1",
   "metadata": {},
   "source": [
    "`2` 프라이빗 클라우드\n",
    "\n",
    "- 기업이 직접 클라우드 환경을 구축, 이를 기업내부에서 활용, 계열사에 공개\n",
    "\n",
    "- 특정 기업, 특정 사용자만 사용하는 방식\n",
    "\n",
    "- 서비스 자원과 데이터는 기업의 데이터 센터에 저장"
   ]
  },
  {
   "cell_type": "markdown",
   "id": "8403a6a3-8e5d-45f8-97f0-c23acf98981f",
   "metadata": {},
   "source": [
    "`3` 하이브리드 유형"
   ]
  },
  {
   "cell_type": "markdown",
   "id": "e83e3980-edb9-4676-a147-6708ada61a04",
   "metadata": {},
   "source": [
    "- 기존 `On-premise`에 구성되어 있는 인프라와 `Public Cloud`를 혼용하여 함께 사용하는 방식"
   ]
  },
  {
   "cell_type": "markdown",
   "id": "17d872a9-8a23-4c32-8065-ec0662cf4d56",
   "metadata": {},
   "source": [
    "*  또는, 프라이빗 클라우드 + 퍼블릭 클라우드"
   ]
  },
  {
   "cell_type": "markdown",
   "id": "ca99a992-5185-4406-9f93-2f7983efd711",
   "metadata": {},
   "source": [
    "`4` 멀티 클라우드"
   ]
  },
  {
   "cell_type": "markdown",
   "id": "c0858c01-ec06-4571-8176-734ccd34ee0d",
   "metadata": {},
   "source": [
    "- 2개 이상의 서로 다른 퍼블릭 클라우드를 함께 사용하는 방식\n",
    "\n",
    "- AWS + Azure, AWS + KT\n",
    "\n",
    "- 하나의 CSP에 종속되지 않게 하여, 기능 이상 시 하나의 클라우드를 통해 가동하는 방식"
   ]
  },
  {
   "cell_type": "markdown",
   "id": "84a79ceb-8b6d-47a4-86db-8ef76f12aa9b",
   "metadata": {},
   "source": [
    "## (4) summary 1"
   ]
  },
  {
   "cell_type": "markdown",
   "id": "d430f056-1af4-45b4-9465-51e9fc25052b",
   "metadata": {},
   "source": [
    "`-` 온프레미스 : 서버, 스토리지, 네트워크, 데이터 센터 등을 기업 자체적으로 보유하여 운영하는 방식"
   ]
  },
  {
   "cell_type": "markdown",
   "id": "bef9a857-8775-4f4b-a201-a4d562dd819e",
   "metadata": {},
   "source": [
    "`-` 하이브리드 클라우드 : 기존 `On-premise`에 구성되어 있는 인프라와 `Public Cloud`를 혼용하여 함께 사용하는 방식\n",
    "\n",
    "* 또는, 프라이빗 클라우드 + 퍼블릭 클라우 "
   ]
  },
  {
   "cell_type": "markdown",
   "id": "5d1d1fee-2258-4eec-96ce-50d6f0769323",
   "metadata": {},
   "source": [
    "`-` IT 인프라 구성도 : IT 인프라 구성 등을 한 눈에 알아볼 수 있는 다이어그램 또는 구성도\n",
    "\n",
    "* 시스템의 배치 연결관계를 아이콘, 선으로 구조화"
   ]
  },
  {
   "cell_type": "markdown",
   "id": "ce491adc-c26f-49e6-bca1-b07973cedaa2",
   "metadata": {},
   "source": [
    "# 2. 스위치 네트워크 구성"
   ]
  },
  {
   "cell_type": "markdown",
   "id": "a1994c67-aa45-45bf-a6a9-6bbcab3be204",
   "metadata": {},
   "source": [
    "## (1) 네트워크"
   ]
  },
  {
   "cell_type": "markdown",
   "id": "63f02fb7-0086-46ad-ab41-46bb65c2a04b",
   "metadata": {},
   "source": [
    "`-` Net + Work의 합성어"
   ]
  },
  {
   "cell_type": "markdown",
   "id": "69d6b628-4ac8-4b17-a76d-e47ddf095eaa",
   "metadata": {},
   "source": [
    "`-` 컴퓨터 같은 노드들이 통신 기술을 이용하여 그물망처럼 연결된 통신형태"
   ]
  },
  {
   "cell_type": "markdown",
   "id": "5ac05108-a996-4644-b62c-0b90cccaccdd",
   "metadata": {},
   "source": [
    "`-` 종류"
   ]
  },
  {
   "cell_type": "markdown",
   "id": "a0116b8a-aba2-4ed5-91d7-0af1a3e75a20",
   "metadata": {},
   "source": [
    "1. PAN(Personal Area Network) : 가장 작은 규모\n",
    "\n",
    "2. LAN(Local Area Network) : 근거리 영역\n",
    "\n",
    "3. MAN(Metropolitan Area Network) : 대도시 영역\n",
    "\n",
    "4. WAN(Wide Area Network) : 광대역 등등"
   ]
  },
  {
   "cell_type": "markdown",
   "id": "36de5b34-3ae5-4da0-8b5f-b262ef99782e",
   "metadata": {},
   "source": [
    "`-` 네트워크 사용시 장점"
   ]
  },
  {
   "cell_type": "markdown",
   "id": "dfa7eb74-2fad-41ab-894e-175270187f87",
   "metadata": {},
   "source": [
    "* 통신의 유용성\n",
    "\n",
    "* 효율적이고 데이터 전송이 쉬움"
   ]
  },
  {
   "cell_type": "markdown",
   "id": "11a2ceab-b535-471b-9ac5-deb6506c2d28",
   "metadata": {},
   "source": [
    "`-` 단점"
   ]
  },
  {
   "cell_type": "markdown",
   "id": "b7de9774-e68e-4be8-ad4d-4db372a504bf",
   "metadata": {},
   "source": [
    "* 정보 보안을 많이 신경써야한다.\n",
    "\n",
    "* 디도스, 랜섬웨어 등에 대한 방안을 면밀하게 세워야함"
   ]
  },
  {
   "cell_type": "markdown",
   "id": "08fbd3fc-f3ac-4512-b529-6b218d0a47bd",
   "metadata": {},
   "source": [
    "## (2) 구성요소"
   ]
  },
  {
   "cell_type": "markdown",
   "id": "bf0c1eeb-196d-4b1b-81e4-f600f6ea2174",
   "metadata": {},
   "source": [
    "### 전송 단말기"
   ]
  },
  {
   "cell_type": "markdown",
   "id": "9ae0bd44-12fe-4524-bdbf-b97e0c6592d4",
   "metadata": {
    "tags": []
   },
   "source": [
    "`-` 정보를 주고 받는 장치 : PC, 휴대폰, 노트북, 서버 등"
   ]
  },
  {
   "cell_type": "markdown",
   "id": "07b661c6-ea42-4a33-9edd-567ffe75e517",
   "metadata": {},
   "source": [
    "### 전송 매체"
   ]
  },
  {
   "cell_type": "markdown",
   "id": "4f02eb66-9aae-4435-9fad-aaf01ff3c1c7",
   "metadata": {},
   "source": [
    "`-` 정보를 전달할 수 있는 수단"
   ]
  },
  {
   "cell_type": "markdown",
   "id": "f743ad1e-610a-436c-9c02-df477c246da8",
   "metadata": {
    "tags": []
   },
   "source": [
    "`-` 유선케이블 : 동축케이블, 광케이블, LAN 케이블 등"
   ]
  },
  {
   "cell_type": "markdown",
   "id": "d9dafada-d958-4d0a-859d-1fe9d8899b2a",
   "metadata": {},
   "source": [
    "`-` 무선기술 : Wifi, 5G, LTE, 블루투스 등"
   ]
  },
  {
   "cell_type": "markdown",
   "id": "bb71506a-1578-4bac-abca-0ce96372e3bf",
   "metadata": {},
   "source": [
    "### 전송 프로토콜"
   ]
  },
  {
   "cell_type": "markdown",
   "id": "8c383c8b-dcc0-47b3-83f5-121fd0f3aea0",
   "metadata": {},
   "source": [
    "`-` 전송 단말기간 정보를 주고받기 위한 일종의 규칙, 약속, 규약 "
   ]
  },
  {
   "cell_type": "markdown",
   "id": "a78ec78e-fac1-42d1-83e8-fcf6af09bc01",
   "metadata": {},
   "source": [
    "### 네트워크 장비"
   ]
  },
  {
   "cell_type": "markdown",
   "id": "cce0ff79-4e2f-4aba-946f-16506e22711a",
   "metadata": {},
   "source": [
    "`-` 정보를 전달하기 위해 목적지를 찾고 길을 결정하는 장비(허브, 스위치, 라우터 등)"
   ]
  },
  {
   "cell_type": "markdown",
   "id": "98b0cd2d-967e-4f47-a06b-e0a7eebdfb6e",
   "metadata": {},
   "source": [
    "## (3) OSI 7계층 모델"
   ]
  },
  {
   "cell_type": "markdown",
   "id": "030e7a0b-df09-4989-a82e-70c7fbc113f6",
   "metadata": {},
   "source": [
    "### 각 계층 설명"
   ]
  },
  {
   "cell_type": "markdown",
   "id": "443e0d0e-881d-4975-96c5-a9bc6cee0765",
   "metadata": {},
   "source": [
    "`-` 7계층 : 응용(Application)\n",
    "\n",
    "- 사용자에게 다양한 Network 서비스를 제공(email-SMTP, FTP, 가상터미널...)\n",
    "\n",
    "- 사용자가 크롬같은 브라우저 등을 켰을 때 가장 먼저 보이는 화면 (`https`)\n",
    "\n",
    "- 사용자가 눈으로 볼 수 있는 화면"
   ]
  },
  {
   "cell_type": "markdown",
   "id": "bcc4596b-1aef-4bfd-8dff-2dbb1392f93f",
   "metadata": {},
   "source": [
    "`-` 6계층 : 표현(Presentation)\n",
    "\n",
    "- App, Layer에 대한 Date 전송, Syntax 협의\n",
    "\n",
    "- Data Format 결정, 구성 : `jpg, png, mp4, mp3` 등등\n",
    "\n",
    "- Code 변환\n",
    "\n",
    "- 구축변환\n",
    "\n",
    "- 압축 및 압축 해제\n",
    "\n",
    "- 7계층에서 사용되는 데이터를 암호화, 5계층에 보내기 위한 데이터를 번역해줌"
   ]
  },
  {
   "cell_type": "markdown",
   "id": "ff4423e9-cf0f-4d39-9086-3c250be4d64e",
   "metadata": {},
   "source": [
    "`-` 5계층 : 세션(Session)\n",
    "\n",
    "- Interhost Communication\n",
    "\n",
    "- Application 사이의 대화를 시작, 유지, 끝을 맺는 계층"
   ]
  },
  {
   "cell_type": "markdown",
   "id": "624657ce-d2cf-4209-a953-bab22373c038",
   "metadata": {},
   "source": [
    "`-` 4계층 : 전송(Transport)\n",
    "\n",
    "-  데이터를 어디로 보낼지 결정하는 단계 (ex, 아파트 동 호수)\n",
    "\n",
    "- Application 사이의 논리적인 통로 제공\n",
    "\n",
    "- 전송 문제 관리 및 신뢰성 있는 전송 보장"
   ]
  },
  {
   "cell_type": "markdown",
   "id": "c08d21dc-c2af-4d74-b36e-8609ebd0501f",
   "metadata": {},
   "source": [
    "`-` 3계층 : 네트워크(Network)\n",
    "\n",
    "- 논리적인 주소를 사용(IP주소)\n",
    "\n",
    "- 경로 관리, 최적 경로 선정\n",
    "\n",
    "- 사용자 Date(Packet) 전송"
   ]
  },
  {
   "cell_type": "markdown",
   "id": "951fc300-195a-4301-948e-51101ceca3db",
   "metadata": {},
   "source": [
    "`-` 2계층 : 데이터 링크(Date Link)\n",
    "\n",
    "- IP주소를 읽어 하드웨어 주소인 MAC을 사용\n",
    "\n",
    "- 3계층에서 IP주소를 받아서 하드웨어 주소인 MAC주소와 연결"
   ]
  },
  {
   "cell_type": "markdown",
   "id": "0189d871-036a-4ec9-843d-b02d92fea53b",
   "metadata": {},
   "source": [
    "`-` 1계층 : 물리(Physical)\n",
    "\n",
    "- 물리적인 연결\n",
    "\n",
    "- 전기적, 기계적, 기능적 절차적인 수단을 제공"
   ]
  },
  {
   "cell_type": "markdown",
   "id": "9ceca662-c53e-4c26-a1da-2ec297f364ea",
   "metadata": {},
   "source": [
    "## summary2"
   ]
  },
  {
   "cell_type": "markdown",
   "id": "1530b656-69ab-4a0b-b7b3-4ca52d7d31ee",
   "metadata": {},
   "source": [
    "`-` 스위치 :"
   ]
  },
  {
   "cell_type": "markdown",
   "id": "7e5edfc1-9a1b-4340-ba6d-63d5ecf5471a",
   "metadata": {
    "tags": []
   },
   "source": [
    "`-` MAC주소 : "
   ]
  },
  {
   "cell_type": "markdown",
   "id": "f2091c0d-ecb5-485f-9c71-d8a0f44a46d9",
   "metadata": {},
   "source": [
    "`-` 캡슐화 : "
   ]
  }
 ],
 "metadata": {
  "kernelspec": {
   "display_name": "Python 3 (ipykernel)",
   "language": "python",
   "name": "python3"
  },
  "language_info": {
   "codemirror_mode": {
    "name": "ipython",
    "version": 3
   },
   "file_extension": ".py",
   "mimetype": "text/x-python",
   "name": "python",
   "nbconvert_exporter": "python",
   "pygments_lexer": "ipython3",
   "version": "3.11.4"
  }
 },
 "nbformat": 4,
 "nbformat_minor": 5
}
