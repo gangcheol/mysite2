{
 "cells": [
  {
   "cell_type": "raw",
   "id": "12a45f24",
   "metadata": {},
   "source": [
    "---\n",
    "title : \"01. 환경분석 기법의 이해\"\n",
    "author : \"gc\"\n",
    "date : \"11/24/23\"\n",
    "categories : [제안전략수립]\n",
    "---"
   ]
  },
  {
   "cell_type": "markdown",
   "id": "5af1cbb1",
   "metadata": {},
   "source": [
    "# ch1. 환경분석"
   ]
  },
  {
   "cell_type": "markdown",
   "id": "0c40a682",
   "metadata": {},
   "source": [
    "## 분석 프레임"
   ]
  },
  {
   "cell_type": "markdown",
   "id": "945a1c83",
   "metadata": {},
   "source": [
    "`1` 무엇을 분석할 것인가?"
   ]
  },
  {
   "cell_type": "markdown",
   "id": "1852b3b0",
   "metadata": {},
   "source": [
    "`2` 분석의 범위는 어느 정도가지 봐야 하는가?"
   ]
  },
  {
   "cell_type": "markdown",
   "id": "faf18952",
   "metadata": {},
   "source": [
    "`3` 어떻게 분석할 것인가?"
   ]
  },
  {
   "cell_type": "markdown",
   "id": "fb8ebd90",
   "metadata": {},
   "source": [
    "###  B2B(G) 환경분석 구조"
   ]
  },
  {
   "cell_type": "markdown",
   "id": "e8c4988b",
   "metadata": {},
   "source": [
    "`-` 우리가 공급업체라면 고객과 고객의 기업까지 보아야한다."
   ]
  },
  {
   "cell_type": "markdown",
   "id": "e415f263",
   "metadata": {},
   "source": [
    "> example : 공급기업(KT) $\\to$ 고객사/정부 $\\to$ 소비자/이용자"
   ]
  },
  {
   "cell_type": "markdown",
   "id": "f483358b",
   "metadata": {},
   "source": [
    "### B2B 특성의 이해"
   ]
  },
  {
   "cell_type": "markdown",
   "id": "1d743c37",
   "metadata": {},
   "source": [
    "#### (1) 파생수요"
   ]
  },
  {
   "cell_type": "markdown",
   "id": "86666fea",
   "metadata": {},
   "source": [
    "`-` 최종재의수요의 결과로 생겨나는 간접적인 요소, 즉 생산요소(산업재)에 대한 수요"
   ]
  },
  {
   "cell_type": "markdown",
   "id": "a8150cca",
   "metadata": {},
   "source": [
    "*  산업재(원자재) $\\to$ 산업재(부품1) $\\to$ 산업재(부품2) $\\to$ 최종재 $\\to$ 고객"
   ]
  },
  {
   "cell_type": "markdown",
   "id": "f8d99c16",
   "metadata": {},
   "source": [
    "* 일반적으로 생산 연쇄 과정이 길수록 가속효과는 두드러짐"
   ]
  },
  {
   "cell_type": "markdown",
   "id": "91685f5f",
   "metadata": {},
   "source": [
    "`-` 발생하는 현상"
   ]
  },
  {
   "cell_type": "markdown",
   "id": "33839409",
   "metadata": {},
   "source": [
    "* 최종고객에 비하여 산업재의 수요 변동폭이 크게 나타남 $\\to$ 이러한 가속효과는 수요예측의 어려음을 가속시킴"
   ]
  },
  {
   "cell_type": "markdown",
   "id": "584d6e74",
   "metadata": {},
   "source": [
    "`-` 그래서!! 최종고객 니즈 변화에 대한 예측이 필요하고, 최종고객에 대한 마케팅활동의 수정이 필요하다!!"
   ]
  },
  {
   "cell_type": "markdown",
   "id": "92962212",
   "metadata": {},
   "source": [
    "* 즉, B2B 뿐만 아니라 B2C 모니터링도 지속적으로 이루어져야 한다."
   ]
  },
  {
   "cell_type": "markdown",
   "id": "f3b2359b",
   "metadata": {},
   "source": [
    "#### (2) 결합수요"
   ]
  },
  {
   "cell_type": "markdown",
   "id": "d665fefe",
   "metadata": {},
   "source": [
    "`-` 구매자의 필요나 기호에 의하여 함께 사용되는 둘 이상의 생산물에 대한 수요\n",
    "\n",
    "* 어떤 상품을 구입할 때 그에 따른 다른 상품도 반드시 구입해야 하는 경우에 나타남"
   ]
  },
  {
   "cell_type": "markdown",
   "id": "8e32c870",
   "metadata": {},
   "source": [
    "#### (3) 구매센터(Buying Center)"
   ]
  },
  {
   "cell_type": "markdown",
   "id": "9f698508",
   "metadata": {},
   "source": [
    "`-` 기업 내에서 제품이나 서비스를 구매하기 위한 의사 결정 과정에서 관여하는 조직 내의 직원들의 그룹"
   ]
  },
  {
   "cell_type": "markdown",
   "id": "3e08e8cf",
   "metadata": {},
   "source": [
    "* 구성원 : 구매 관리자, 기술 전문가, 운영 전문가 등"
   ]
  },
  {
   "cell_type": "markdown",
   "id": "8caa16ad",
   "metadata": {},
   "source": [
    "***"
   ]
  },
  {
   "cell_type": "markdown",
   "id": "b19e7b7a",
   "metadata": {},
   "source": [
    "## example. 고객산업의 변화와 시장형성"
   ]
  },
  {
   "cell_type": "markdown",
   "id": "cd083ba3",
   "metadata": {},
   "source": [
    "<center><img src = \"양식 2.png\" width = 600></center>"
   ]
  },
  {
   "cell_type": "markdown",
   "id": "27ebe978",
   "metadata": {},
   "source": [
    "***"
   ]
  },
  {
   "cell_type": "markdown",
   "id": "5f97bbaf",
   "metadata": {},
   "source": [
    "# ch2. 조사방법"
   ]
  },
  {
   "cell_type": "markdown",
   "id": "7d253168",
   "metadata": {},
   "source": [
    "## 가설지향 프로세스"
   ]
  },
  {
   "cell_type": "markdown",
   "id": "6d1cfaf9",
   "metadata": {},
   "source": [
    "`-` 설정한 가설과 관련된 Data 분석 등을 통해 수정하는 활동을 거쳐 정확한 가설로서 결론에 도달함"
   ]
  },
  {
   "cell_type": "markdown",
   "id": "6822d1c0",
   "metadata": {},
   "source": [
    "* 핵심이슈 $\\to$ 가설설정 $\\to$ 가설수정 $\\to$ 가설설정 $\\to$ 가설수정 $\\dots$ $\\to$ 가설수정 $\\to$ 결론"
   ]
  },
  {
   "cell_type": "markdown",
   "id": "029f27fd",
   "metadata": {},
   "source": [
    "## 전략요소"
   ]
  },
  {
   "cell_type": "markdown",
   "id": "df839a9c",
   "metadata": {},
   "source": [
    "`1` 전략적 의사결정을 수행하기  위해 파악해야 하는 요소들\n",
    "\n",
    "`2` 그 요소들의 변화에 큰 영향을 주는 핵심 환경 요소를 의미"
   ]
  },
  {
   "cell_type": "markdown",
   "id": "05d476cd",
   "metadata": {},
   "source": [
    "`3` 산업/고객의 변화에 따른 전략요소 정의"
   ]
  },
  {
   "cell_type": "markdown",
   "id": "1c3449ea",
   "metadata": {},
   "source": [
    "> example : 전통시장 활성화 전략 \n",
    "\n",
    "* 전통시장의 매출감소량 및 매출이 유지되는 곳 파악\n",
    "\n",
    "* 고객과 관련된 내용 파악 $\\to$ 니즈 파악\n",
    "\n",
    "* 경쟁사의 전략을 파악 $\\to$ 대형마트에서 파는  상품, 전략 등"
   ]
  },
  {
   "cell_type": "markdown",
   "id": "c223aa33",
   "metadata": {},
   "source": [
    "## 자료 정리 및 추정"
   ]
  },
  {
   "cell_type": "markdown",
   "id": "10ed084c",
   "metadata": {},
   "source": [
    "`1` 연역법 : 일반적인 전제로부터 특정한 결론을 도출하는 방법\n",
    "\n",
    "* 모든 사람은 죽는다. 존은 사람이다. 존은 죽는다."
   ]
  },
  {
   "cell_type": "markdown",
   "id": "69c161fc",
   "metadata": {},
   "source": [
    "`2` 귀납법 : 특별한 사례나 관찰로부터 일반적인 규칙이나 법칙을 도출\n",
    "\n",
    "* 지금까지의 관측에서 모든 사람은 물을 마시고 있다. 따라서 미래에도 모든 사람은 물을 마실 것이다."
   ]
  },
  {
   "cell_type": "markdown",
   "id": "98a7d4cd",
   "metadata": {},
   "source": [
    "`3` 가추법 : 주어진 사실이나 현상을 설명할 수 있는 여러 가능성 중에서 가장 타당한 설명을 찾는 추론 방법"
   ]
  },
  {
   "cell_type": "markdown",
   "id": "5843ed95",
   "metadata": {},
   "source": [
    "* 창문이 열려 있고 비가 온다. 지면이 젖어 있으며 물기가 많다. 따라서 비가 내린 것이다."
   ]
  },
  {
   "cell_type": "markdown",
   "id": "bf9b4258",
   "metadata": {},
   "source": [
    "`4` 규모추정 : 특정 프로젝트, 작업 도는 일련의 활동에 대한 크기 또는 양을 평가\n",
    "\n",
    "* 페르미 추정 : 대략적인 수량을 어림잡아 추정 $\\to$ 오래된 자료와 시장에 영향을 미치는 요소들을 중심으로 페르미 추정 실시"
   ]
  },
  {
   "cell_type": "markdown",
   "id": "fdd5ef07",
   "metadata": {},
   "source": [
    "`5` 전략추정 : 조직이나 기업이 비즈니스 전략을 수립하고 실행하기 위해 미래의 상황이나 변수에 대해 평가하고 예측하는 과정"
   ]
  },
  {
   "cell_type": "markdown",
   "id": "73674b87",
   "metadata": {},
   "source": [
    "* Why 추정: 전략 추정에서 \"Why\" 추정은 특정 전략이나 목표를 설정한 이유, 그 목표를 달성하기 위한 비전 및 이유를 설명하는 단계. \n",
    "\n",
    "    * 전략의 근본적인 목적을 이해하고, 그 목적이 조직의 장기적인 비전과 어떻게 연결되는지 이해하는 것이 중요"
   ]
  },
  {
   "cell_type": "markdown",
   "id": "d189a03e",
   "metadata": {},
   "source": [
    "* How 추정: 전략이나 목표를 달성하는 데 필요한 구체적인 행동 계획을 설계하는 것. \n",
    "\n",
    "     * 이는 전략의 실행 방법, 필요한 리소스, 프로젝트 일정 등을 정의하는 과정을 포함"
   ]
  },
  {
   "cell_type": "markdown",
   "id": "9da2bf09",
   "metadata": {},
   "source": [
    "## 환경분석과 정보원"
   ]
  },
  {
   "cell_type": "markdown",
   "id": "38211ab8",
   "metadata": {},
   "source": [
    "|환경분석|정보원|\n",
    "|:---:|:---:|\n",
    "|소비자의 소비 변화|카드사 발표자료 등|\n",
    "|소비자의 소비 변화와 관련된 파생공급자|파생공급자 협회 등|\n",
    "|정부의 지원 정책 변화|주요 부처의 홍보 자료|\n",
    "|산업 변화|경제기관 애널리스트|\n",
    "|고객사내 변화|논문/전문잡지 검색|"
   ]
  },
  {
   "cell_type": "markdown",
   "id": "2e6b4e26",
   "metadata": {},
   "source": [
    "## example. 전략요소 정의"
   ]
  },
  {
   "cell_type": "markdown",
   "id": "33f3ffb1",
   "metadata": {},
   "source": [
    "<center><img src = \"양식 3.png\" width = 600></center>"
   ]
  },
  {
   "cell_type": "markdown",
   "id": "24ac8609",
   "metadata": {},
   "source": [
    "## 인터뷰시 유의점"
   ]
  },
  {
   "cell_type": "markdown",
   "id": "dafdcc3f",
   "metadata": {},
   "source": [
    "`1` 확인 질문에서 시작해서 새로운 정보 파악을 위한 질문으로 넘기기\n",
    "\n",
    "`2` Yes/No로 답할 수 있는 질문은  삼가\n",
    "\n",
    "`3` 왜 why를 묻지 않고 속성 attribute를 중심으로 질문"
   ]
  },
  {
   "cell_type": "markdown",
   "id": "7e2d9532",
   "metadata": {},
   "source": [
    "## 조사 자료에 대한 평가"
   ]
  },
  {
   "cell_type": "markdown",
   "id": "00ce283e",
   "metadata": {},
   "source": [
    "`1` 이미 알고 있던 정보는 무엇인가?\n",
    "\n",
    "`2` 모호하게 알고 있었던 정보는 무엇인가?\n",
    "\n",
    "`3` 전혀 몰랐던 정보는 무엇인가?\n",
    "\n",
    "`4` 전략요소가 명확하게 정의 되었는가?\n",
    "\n",
    "`5` 정보원이 믿을만 한가?\n",
    "\n",
    "`6` 선입관은 배제 되었는가?"
   ]
  },
  {
   "cell_type": "markdown",
   "id": "9ded22dd",
   "metadata": {},
   "source": [
    "***"
   ]
  },
  {
   "cell_type": "markdown",
   "id": "330489e6",
   "metadata": {},
   "source": [
    "# ch3. 고객분석"
   ]
  },
  {
   "cell_type": "markdown",
   "id": "a5dbfeab",
   "metadata": {},
   "source": [
    "## 고객 니즈 구조"
   ]
  },
  {
   "cell_type": "markdown",
   "id": "1593cde9",
   "metadata": {},
   "source": [
    "`1`  고객이 표현하는 니즈\n",
    "\n",
    "`2` 고객이 표현하지 않는 니즈\n",
    "\n",
    "*  고객이 아는 니즈\n",
    "\n",
    "* 고객도 모르는 니즈"
   ]
  },
  {
   "cell_type": "markdown",
   "id": "5a31cba4",
   "metadata": {},
   "source": [
    "## B2B(G) 구매의 특성"
   ]
  },
  {
   "cell_type": "markdown",
   "id": "5f05bf57",
   "metadata": {},
   "source": [
    "`-` 조직 구매자는 구매를 위해 집단 의사결정 또는 의사결정을 조율함 (B2C와의 차이점)"
   ]
  },
  {
   "cell_type": "markdown",
   "id": "1a6f912c",
   "metadata": {},
   "source": [
    "`-` 즉, 구매센터의 경계가 없음 (B2C와의 차이점)"
   ]
  },
  {
   "cell_type": "markdown",
   "id": "e3c57947",
   "metadata": {},
   "source": [
    "`-` 구매센터의 규모와 구조(ppt101, 102 참고)"
   ]
  },
  {
   "cell_type": "markdown",
   "id": "fa5ac131",
   "metadata": {},
   "source": [
    "## 고객 니즈 정의 요소"
   ]
  },
  {
   "cell_type": "markdown",
   "id": "6775bc79",
   "metadata": {},
   "source": [
    "`1` Quality (품질):\n",
    "\n",
    "* 품질은 제품이나 서비스가 기대치를 충족하거나 초과하는 정도를 의미하며, 신뢰성, 내구성, 성능 등이 중요한 평가 요소\n",
    "\n",
    "`2` Cost (비용):\n",
    "\n",
    "* 고객은 합리적인 가격대에서 원하는 가치를 얻을 수 있는지에 대해 관심을 가짐\n",
    "\n",
    "`3` Delivery (납품):\n",
    "\n",
    "*  고객은 빠르고 정확한 납품이 기업과의 협력을 강화하는 중요한 요소로 인식\n",
    "\n",
    "`4` Technology (기술):\n",
    "\n",
    "* 고객은 혁신적이고 최신 기술을 활용한 제품이나 서비스를 원함. 기술적인 우위는 경쟁 우위로 이어질 수 있습니다."
   ]
  }
 ],
 "metadata": {
  "kernelspec": {
   "display_name": "Python 3 (ipykernel)",
   "language": "python",
   "name": "python3"
  },
  "language_info": {
   "codemirror_mode": {
    "name": "ipython",
    "version": 3
   },
   "file_extension": ".py",
   "mimetype": "text/x-python",
   "name": "python",
   "nbconvert_exporter": "python",
   "pygments_lexer": "ipython3",
   "version": "3.11.4"
  },
  "toc": {
   "base_numbering": 1,
   "nav_menu": {},
   "number_sections": false,
   "sideBar": true,
   "skip_h1_title": false,
   "title_cell": "Table of Contents",
   "title_sidebar": "Contents",
   "toc_cell": false,
   "toc_position": {
    "height": "calc(100% - 180px)",
    "left": "10px",
    "top": "150px",
    "width": "256px"
   },
   "toc_section_display": true,
   "toc_window_display": true
  }
 },
 "nbformat": 4,
 "nbformat_minor": 5
}
