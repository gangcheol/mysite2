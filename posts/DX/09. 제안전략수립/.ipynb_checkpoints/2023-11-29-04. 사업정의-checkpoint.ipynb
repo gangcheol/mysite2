{
 "cells": [
  {
   "cell_type": "raw",
   "id": "3ad0c30a-1703-44b1-acc5-f4896ad88929",
   "metadata": {},
   "source": [
    "---\n",
    "title : \"04. 사업정의\"\n",
    "author : \"gc\"\n",
    "date : \"11/29/23\"\n",
    "categories : [제안전략수립]\n",
    "---"
   ]
  },
  {
   "cell_type": "code",
   "execution_count": null,
   "id": "fc0e0ed7-f13f-4d43-a4a6-fdf5b371cc31",
   "metadata": {},
   "outputs": [],
   "source": []
  }
 ],
 "metadata": {
  "kernelspec": {
   "display_name": "Python 3 (ipykernel)",
   "language": "python",
   "name": "python3"
  },
  "language_info": {
   "codemirror_mode": {
    "name": "ipython",
    "version": 3
   },
   "file_extension": ".py",
   "mimetype": "text/x-python",
   "name": "python",
   "nbconvert_exporter": "python",
   "pygments_lexer": "ipython3",
   "version": "3.11.4"
  }
 },
 "nbformat": 4,
 "nbformat_minor": 5
}
