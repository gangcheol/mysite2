{
 "cells": [
  {
   "cell_type": "raw",
   "id": "3ad0c30a-1703-44b1-acc5-f4896ad88929",
   "metadata": {},
   "source": [
    "---\n",
    "title : \"04. 사업정의\"\n",
    "author : \"gc\"\n",
    "date : \"11/29/23\"\n",
    "categories : [제안전략수립]\n",
    "---"
   ]
  },
  {
   "cell_type": "markdown",
   "id": "065d12a1-0752-4b52-a161-f9a4b74cb93a",
   "metadata": {},
   "source": [
    "# ch1. 비즈니스 모델의 이해"
   ]
  },
  {
   "cell_type": "markdown",
   "id": "ee6b496e-5f32-4e36-9adf-59105ccf1e6a",
   "metadata": {},
   "source": [
    "`-` 사업의 본질"
   ]
  },
  {
   "cell_type": "markdown",
   "id": "8fe7dece-22c2-4e35-9ab8-d18a5075cbea",
   "metadata": {},
   "source": [
    "* 식당에서는 음식을 파는 것이 본질이 아닌 **가족(사람)과 행복한 시간을 보내는 것이 본질이다.**"
   ]
  },
  {
   "cell_type": "markdown",
   "id": "34e07c63-95ec-4127-b653-ba144bc71979",
   "metadata": {},
   "source": [
    "* 즉, 위 예시처럼 사업의 본질을 파악하는 것이 비즈니스 모델을 이해하는데 중요하다."
   ]
  },
  {
   "cell_type": "markdown",
   "id": "cac6c5aa-53b3-4e42-a2b5-b4d246f13f7a",
   "metadata": {},
   "source": [
    "## 고객가치"
   ]
  },
  {
   "cell_type": "markdown",
   "id": "3b287691-673f-4efd-a9e9-90146788f937",
   "metadata": {},
   "source": [
    "`-` 고객가치 = 필요성 $\\times$ 차별성 "
   ]
  },
  {
   "cell_type": "markdown",
   "id": "7bf892bd-a8df-427c-816b-2e06b590edf0",
   "metadata": {},
   "source": [
    "* 고객가치를 잘 찾으려면 3c분석이 중요(후에 따로 설명)\n",
    "\n",
    "* 즉, **3c 분석에서 고객과 자사 분석을 통해 필요성**을 찾고, **경쟁사 분석을 통해 차별성**을 찾아 **고객이 인지**할 수 있도록 솔루션을 만들어야 한다\n",
    "\n",
    "* 필요성 : 표현된 니즈 중심\n",
    "\n",
    "* 차별성 : 표현하지 않은 니즈 중심\n",
    "    * 조사결과 내가 몰랐던 사실을 발견하면 조사를 잘한 것임"
   ]
  },
  {
   "cell_type": "markdown",
   "id": "ef32341a-51bb-45ac-8e53-8e0b706656aa",
   "metadata": {},
   "source": [
    "`-` 현재 가치는 단순한 가치에서 복잡한 가치로 변했음. $\\to$ ex) 맥심에서 캡슐커피, 무색커피 등등 \n",
    "\n",
    "* 그러나 이 또한 어떻게 바뀔지 모른다... 가치는 항상 변하기 때문!"
   ]
  },
  {
   "cell_type": "markdown",
   "id": "16d3b989-d708-4a57-99c3-f78ab0138fe4",
   "metadata": {},
   "source": [
    "***"
   ]
  },
  {
   "cell_type": "markdown",
   "id": "fd02cd2c-7644-4334-93d3-428935cb98f6",
   "metadata": {},
   "source": [
    "## Biz Model의 구조"
   ]
  },
  {
   "cell_type": "markdown",
   "id": "5026d94e-c126-4c71-9b4e-15f6caa10d5d",
   "metadata": {},
   "source": [
    "`-` biz 모델 : 수익 모델을 설게해서 고객이 추구하는 가치모델을 창출\n",
    "\n",
    "* 일반적으로 수익 모델 설계는 비용은 적게 매출은 크게 설계함"
   ]
  },
  {
   "cell_type": "markdown",
   "id": "2f09f169-5c58-49bc-9023-a6695664fdb8",
   "metadata": {},
   "source": [
    "## Biz Model의 구성요소"
   ]
  },
  {
   "cell_type": "markdown",
   "id": "ee46460b-f910-4afd-966e-58501d4f272b",
   "metadata": {},
   "source": [
    "1. 목표 고객\n",
    "\n",
    "2. 가치 제안 : 어떤 가치, 솔루션을?\n",
    "\n",
    "3. 가치사슬/조직 : 어떻게 창출할 것인가?\n",
    "\n",
    "4. 전달방식 : 어떻게 유통할 것인지\n",
    "\n",
    "5. 수익 흐름 : 어떻게 기업의 수익으로 연결할 것인가?"
   ]
  },
  {
   "cell_type": "markdown",
   "id": "95f3133f-d7ec-444e-b89a-767b9a37d01d",
   "metadata": {},
   "source": [
    "## Biz Model별 to-be 요소"
   ]
  },
  {
   "cell_type": "markdown",
   "id": "71760819-e20d-447a-8c74-b4908728e13c",
   "metadata": {
    "tags": []
   },
   "source": [
    "`1` 혁신자(Rule breaker) : 특정 사업의 모델이나 게임 룰을 파괴하여 자신 나름대로 독특한 모델을 만드는 기업 (ex : amazon)"
   ]
  },
  {
   "cell_type": "markdown",
   "id": "d44fe948-2342-4994-87a6-b78b3b3c8b6f",
   "metadata": {},
   "source": [
    "`2` 선도자(Rule maker) : 처음 사적을 개척한 기업 (Airbnb)"
   ]
  },
  {
   "cell_type": "markdown",
   "id": "e607e5bf-f42a-4f1f-9690-b79d06d053e0",
   "metadata": {},
   "source": [
    "`3` 모방자(Rule taker) : 선도 기업이 만든 비즈니스 모델을 따라하는 기업 (디즈니+)"
   ]
  },
  {
   "cell_type": "markdown",
   "id": "bb27a8b3-a9e6-4b38-84c2-fc96908ab77c",
   "metadata": {},
   "source": [
    "## 성공적인 Biz Model 조건"
   ]
  },
  {
   "cell_type": "markdown",
   "id": "221f48a4-9fe7-4ddd-83b5-d81cacf8ac6c",
   "metadata": {},
   "source": [
    "### 경쟁력 요소"
   ]
  },
  {
   "cell_type": "markdown",
   "id": "767ceb4d-9d60-464b-a447-aa54d9d68da0",
   "metadata": {},
   "source": [
    "`1` 명확한 고객가치 제안"
   ]
  },
  {
   "cell_type": "markdown",
   "id": "c505529a-3662-4a24-b48b-502ea23a5344",
   "metadata": {
    "tags": []
   },
   "source": [
    "`2` 수익 메커니즘"
   ]
  },
  {
   "cell_type": "markdown",
   "id": "61d6e014-2142-444d-a2f0-b89906a1cb4a",
   "metadata": {},
   "source": [
    "* 일반적으로 프렌차이즈 매장은 수익 메커니즘(cash flow pipline)이 여러개임 $\\to$ 가맹비, 원재료 공급, 부자재, 일부 마케팅"
   ]
  },
  {
   "cell_type": "markdown",
   "id": "01e03625-f2fd-43cd-af6e-f646eecb8a7b",
   "metadata": {},
   "source": [
    "* 그래서 동네 매장에 비해 유지가 잘됨"
   ]
  },
  {
   "cell_type": "markdown",
   "id": "b5b67749-ff7d-4f58-8289-fd9edbc75129",
   "metadata": {},
   "source": [
    "### 지속성 요소"
   ]
  },
  {
   "cell_type": "markdown",
   "id": "e1845ecf-f482-41c7-8f19-a4e808f427b5",
   "metadata": {},
   "source": [
    "`3` 선순환 구조"
   ]
  },
  {
   "cell_type": "markdown",
   "id": "c8bf8fa2-799b-4eb4-a233-22263710cdb2",
   "metadata": {},
   "source": [
    "`4` 모방 불가능"
   ]
  },
  {
   "cell_type": "markdown",
   "id": "2712a9b3-bcb3-41ca-bb7d-9eda2b4a5ddd",
   "metadata": {},
   "source": [
    "***"
   ]
  },
  {
   "cell_type": "markdown",
   "id": "060b5246-61aa-4504-a620-327a91d37401",
   "metadata": {},
   "source": [
    "# ch 2. 협력구조 정의"
   ]
  },
  {
   "cell_type": "markdown",
   "id": "ae97113c-22c6-42cb-a866-c78c52024259",
   "metadata": {},
   "source": [
    "## Partenership breadth"
   ]
  },
  {
   "cell_type": "markdown",
   "id": "6be45124-06f8-4d64-8cfc-be858ddac2d1",
   "metadata": {},
   "source": [
    "`1` Employees (직원들): 기업이나 조직의 일부로서 일하는 개인들을 나타냄."
   ]
  },
  {
   "cell_type": "markdown",
   "id": "54a25290-23b2-4ff8-8bdf-bf9e2fe18408",
   "metadata": {},
   "source": [
    "`2` Volunteering(자원봉사) : 개인이나 그룹이 비영리적인 목적으로 시간, 노력, 또는 기술을 기부하는 활동\n",
    "\n",
    "* 업은 종종 직원들을 독려하여 지역사회나 사회적인 문제에 대한 자원봉사 활동에 참여하게 하고, 이는 기업의 사회적 책임 활동 중 하나임"
   ]
  },
  {
   "cell_type": "markdown",
   "id": "6d11dca1-c120-4fc3-b3fe-731cadcdd5eb",
   "metadata": {},
   "source": [
    "`3` Programmatic : 광고 소재의 구매와 판매를 자동화하고 최적화하는 기술적인 접근\n",
    "\n",
    "* 대개 실시간으로 이루아지며, 데이타와 알고리즘을 활용하여 효율적인 디지털광고 캠페인 실행을 목표로함."
   ]
  },
  {
   "cell_type": "markdown",
   "id": "b67f8f91-c728-418f-8034-10d1f6ffca2d",
   "metadata": {},
   "source": [
    "`4` Marketing : 제품이나 서비스를 소비자에게 홍보하고 판매하기 위한 전략적인 활동"
   ]
  },
  {
   "cell_type": "markdown",
   "id": "8edeea01-cb17-4f07-b2d3-cbaa9abf7bab",
   "metadata": {},
   "source": [
    "`5` Commercial : 이윤을 창출하거나 사업 목적을 달성하기 위한 활동\n",
    "\n",
    "* 제품이나 서비스의 판매, 이익 창출 등을 목표로 함"
   ]
  },
  {
   "cell_type": "markdown",
   "id": "f2a589b1-c159-43e4-8182-8522a4fef7ef",
   "metadata": {},
   "source": [
    "## 가치창출 유형"
   ]
  },
  {
   "cell_type": "markdown",
   "id": "d7879597-72b7-4bca-900d-870f34335a5c",
   "metadata": {},
   "source": [
    "`1` 자사 - **가치** - 고객"
   ]
  },
  {
   "cell_type": "markdown",
   "id": "028132b7-4de5-4354-befb-f4e97ae3da93",
   "metadata": {},
   "source": [
    "`2` 자사 + 파트너 핵심가치 - 가치 $\\to$ 고객"
   ]
  },
  {
   "cell_type": "markdown",
   "id": "941dca2f-ee82-4d90-a558-c037eb18feee",
   "metadata": {},
   "source": [
    " `3` 자사 - 가치(<-  파트너 부가가치) $\\to$ 고객"
   ]
  },
  {
   "cell_type": "markdown",
   "id": "cf791fa7-1b62-41b2-8f46-d3c2e63dbe94",
   "metadata": {
    "tags": []
   },
   "source": [
    "`4` 자사 - 가치(<- 고객) $\\to$ 고객 : 고객이 더 가치를 의미있게 만들어줌"
   ]
  }
 ],
 "metadata": {
  "kernelspec": {
   "display_name": "Python 3 (ipykernel)",
   "language": "python",
   "name": "python3"
  },
  "language_info": {
   "codemirror_mode": {
    "name": "ipython",
    "version": 3
   },
   "file_extension": ".py",
   "mimetype": "text/x-python",
   "name": "python",
   "nbconvert_exporter": "python",
   "pygments_lexer": "ipython3",
   "version": "3.11.4"
  }
 },
 "nbformat": 4,
 "nbformat_minor": 5
}
