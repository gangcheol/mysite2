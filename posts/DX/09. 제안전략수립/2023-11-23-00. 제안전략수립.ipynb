{
 "cells": [
  {
   "cell_type": "raw",
   "id": "1b29ec86-11c3-47e7-8c6a-8440444fdd73",
   "metadata": {},
   "source": [
    "---\n",
    "title : \"00. 제안전략수립\"\n",
    "author : \"gc\"\n",
    "date : \"11/23/23\"\n",
    "categories : [제안전략수립]\n",
    "---"
   ]
  },
  {
   "cell_type": "markdown",
   "id": "fded5923",
   "metadata": {},
   "source": [
    "# intro"
   ]
  },
  {
   "cell_type": "markdown",
   "id": "ae6aab7f",
   "metadata": {},
   "source": [
    "## 제안컨설팅을 위한 사업화 프로세스"
   ]
  },
  {
   "cell_type": "markdown",
   "id": "07e36ea5",
   "metadata": {},
   "source": [
    "### (1) 사업의 이해\n",
    "\n",
    "`-` 사업의 개념과 도메인 지식이 필요"
   ]
  },
  {
   "cell_type": "markdown",
   "id": "e0a5ceba",
   "metadata": {},
   "source": [
    "`-` 문제정의"
   ]
  },
  {
   "cell_type": "markdown",
   "id": "24bd58c8",
   "metadata": {},
   "source": [
    "### (2) 환경분석"
   ]
  },
  {
   "cell_type": "markdown",
   "id": "796fbcb5",
   "metadata": {},
   "source": [
    "B2B 산업의 환경구조 $\\to$ 환경분석 프레임"
   ]
  },
  {
   "cell_type": "markdown",
   "id": "e1e9f07e",
   "metadata": {},
   "source": [
    "### (3)  표본  고객 pain point 분석"
   ]
  },
  {
   "cell_type": "markdown",
   "id": "fdf863d2",
   "metadata": {},
   "source": [
    "`-` 고객사에 대한 충분한 이해가 필요"
   ]
  },
  {
   "cell_type": "markdown",
   "id": "3c16074a",
   "metadata": {},
   "source": [
    "* 고객정의(구매센터) $\\to$ 니즈 정의"
   ]
  },
  {
   "cell_type": "markdown",
   "id": "a6bedc14",
   "metadata": {},
   "source": [
    "### (4) 전략수립"
   ]
  },
  {
   "cell_type": "markdown",
   "id": "126dcbaf",
   "metadata": {},
   "source": [
    "* 세분화 타겟팅 $\\to$ 포지셔닝"
   ]
  },
  {
   "cell_type": "markdown",
   "id": "bf5ef59c",
   "metadata": {},
   "source": [
    "* 아이디어 도출"
   ]
  },
  {
   "cell_type": "markdown",
   "id": "1a0b196b",
   "metadata": {},
   "source": [
    "### (5) 가치 제안"
   ]
  },
  {
   "cell_type": "markdown",
   "id": "10b715e5",
   "metadata": {},
   "source": [
    "* 가치제안서/실행전략 $\\to$ 비즈니스 모델"
   ]
  },
  {
   "cell_type": "markdown",
   "id": "1859f6aa-8a17-4aa5-9186-54613a395ab3",
   "metadata": {},
   "source": [
    "# ch1. 비즈니스의 이해"
   ]
  },
  {
   "cell_type": "markdown",
   "id": "4cd2baeb-d06c-47b1-8b0b-e487f503c055",
   "metadata": {},
   "source": [
    "## Biz 체계의 이해"
   ]
  },
  {
   "cell_type": "markdown",
   "id": "403724ca-c29d-49fb-8778-51bbd48cae2d",
   "metadata": {},
   "source": [
    "`-` `biz`는 `Business`의 약자로 상품이나 서비스를 생산하고 판매하며, 수익을 얻는 활동을 의미함"
   ]
  },
  {
   "cell_type": "markdown",
   "id": "ebb35be6-58d0-4bfa-b028-34207fbb2adc",
   "metadata": {
    "tags": []
   },
   "source": [
    "`-` biz 체계\n",
    "\n",
    "* 비즈니스의 전반적인 구조와 기능을 나타냄\n",
    "\n",
    "* 기업이 제품이나 서비스를 제공하고, 조직 구조, 프로세스, 기술, 인력 등을 포함한 다양한 요소를 통합하여 운영하는 방식을 의미한다"
   ]
  },
  {
   "cell_type": "markdown",
   "id": "3d96da12-d211-4f6f-9ec7-69a138f334ff",
   "metadata": {},
   "source": [
    "`-` biz체게는 일반적으로 처음에는 고객중심으로 시작했다가 관리 중심으로 변환함"
   ]
  },
  {
   "cell_type": "markdown",
   "id": "c1124161-1826-40ab-b8c8-80adf00c28ad",
   "metadata": {},
   "source": [
    "* **관리 중심으로 시작한 기업은... 결과가 좋지않음 (관리가 고객의 이익을 침해하면 안됨...)**"
   ]
  },
  {
   "cell_type": "markdown",
   "id": "d2a790f3-e2eb-46d0-b9c8-c3564804e2ec",
   "metadata": {},
   "source": [
    "*기업의 존재 이유는 고객이고 기업의 목적은 시장을 창조하는 것이다 -피터 드리커-*"
   ]
  },
  {
   "cell_type": "markdown",
   "id": "82f841c9-4d00-49e1-9401-0652dab0064a",
   "metadata": {},
   "source": [
    "***"
   ]
  },
  {
   "cell_type": "markdown",
   "id": "a1b99130-8d4e-4827-8a81-e6676c6f346b",
   "metadata": {},
   "source": [
    "# ch2. 비즈니스 발굴을 위한 고객문제 정의"
   ]
  },
  {
   "cell_type": "markdown",
   "id": "70b6fe23-ae28-44e1-9135-3a8a0d9912ca",
   "metadata": {},
   "source": [
    "## B2B 사업의 본질"
   ]
  },
  {
   "cell_type": "markdown",
   "id": "b4c1212a-08ac-46e6-bb54-61f901f6e602",
   "metadata": {},
   "source": [
    "`-` B2B : `Bussiness-to-Bussiness`의 약어로, 기업 간에 이루어지는 거래를 나타냄"
   ]
  },
  {
   "cell_type": "markdown",
   "id": "dc633175-d31b-485d-ab89-2bd3eadae906",
   "metadata": {},
   "source": [
    "* B2B 비즈니스는 B2B 고객의 **성공적인 전략실행을 위한 솔루션을 제시**하는 것이다."
   ]
  },
  {
   "cell_type": "markdown",
   "id": "b6a0aaad",
   "metadata": {},
   "source": [
    "##  문제의 종류"
   ]
  },
  {
   "cell_type": "markdown",
   "id": "f8c4d874",
   "metadata": {},
   "source": [
    "### (1) 탐색형"
   ]
  },
  {
   "cell_type": "markdown",
   "id": "a1afd096",
   "metadata": {},
   "source": [
    "`-` 시간축 : 과거"
   ]
  },
  {
   "cell_type": "markdown",
   "id": "d82edd81",
   "metadata": {},
   "source": [
    "`-` 발생원인 : 기준이탈 $\\cdot$ 미달"
   ]
  },
  {
   "cell_type": "markdown",
   "id": "601c71b7",
   "metadata": {},
   "source": [
    "`-` 성격 : 이미 일어나버린 문제"
   ]
  },
  {
   "cell_type": "markdown",
   "id": "d803fb2e",
   "metadata": {},
   "source": [
    "### (2) 탐색형"
   ]
  },
  {
   "cell_type": "markdown",
   "id": "2886671a",
   "metadata": {},
   "source": [
    "`-` 시간축 : 현재"
   ]
  },
  {
   "cell_type": "markdown",
   "id": "eed83bca",
   "metadata": {},
   "source": [
    "`-` 발생원인 : 개선 $\\cdot$ 개량 $\\cdot$ 강화"
   ]
  },
  {
   "cell_type": "markdown",
   "id": "a872e1ab",
   "metadata": {},
   "source": [
    "`-` 성격 : 더 잘해보고 싶은 문제"
   ]
  },
  {
   "cell_type": "markdown",
   "id": "06894662",
   "metadata": {},
   "source": [
    "### (3) 설정형"
   ]
  },
  {
   "cell_type": "markdown",
   "id": "3ffc10b8",
   "metadata": {},
   "source": [
    "`-` 시간축 : 미래"
   ]
  },
  {
   "cell_type": "markdown",
   "id": "a5e28a7f",
   "metadata": {},
   "source": [
    "`-` 발생원인 : 개발 $\\cdot$ 기획 $\\cdot$ 리스크 회피"
   ]
  },
  {
   "cell_type": "markdown",
   "id": "e1b0b3b4",
   "metadata": {},
   "source": [
    "`-` 성격 : 앞으로 어떻게 할 것인가의 문제"
   ]
  },
  {
   "cell_type": "markdown",
   "id": "e56d2bb6",
   "metadata": {},
   "source": [
    "$\\divideontimes$ **우리는 일반적으로 설정형으로 문제를 정의하고 해결할 줄 알아야 한다.**"
   ]
  },
  {
   "cell_type": "markdown",
   "id": "43a5d3ef",
   "metadata": {},
   "source": [
    "### (4) 요약"
   ]
  },
  {
   "cell_type": "markdown",
   "id": "7ec8a70e",
   "metadata": {},
   "source": [
    "<center><img src=\"https://t1.daumcdn.net/cfile/tistory/114637504DD7B3D014\" width=\"547\" height=\"417\"></center>"
   ]
  },
  {
   "cell_type": "markdown",
   "id": "889d6ffe",
   "metadata": {},
   "source": [
    "## example. 문제정의"
   ]
  },
  {
   "cell_type": "markdown",
   "id": "dc1707b5",
   "metadata": {},
   "source": [
    "<center><img src = \"양식1.png\" width = 700></center>"
   ]
  },
  {
   "cell_type": "markdown",
   "id": "148b6a9b",
   "metadata": {},
   "source": [
    "***"
   ]
  },
  {
   "cell_type": "markdown",
   "id": "b57db8ae",
   "metadata": {},
   "source": [
    "# ch3. To-Be 설정을 위한 사고법"
   ]
  },
  {
   "cell_type": "markdown",
   "id": "81303f25",
   "metadata": {},
   "source": [
    "## Forecasting"
   ]
  },
  {
   "cell_type": "markdown",
   "id": "20042346",
   "metadata": {},
   "source": [
    "`-` 현재 시점에서 미래를 보는 사고법"
   ]
  },
  {
   "cell_type": "markdown",
   "id": "e55457f9",
   "metadata": {},
   "source": [
    "* 활용 가능 자료 수집 $\\to$ 자료분석 $\\to$ Ouput 도출"
   ]
  },
  {
   "cell_type": "markdown",
   "id": "49b98360",
   "metadata": {},
   "source": [
    "`-` 자료 분석에 많은 시간을 들이고 정작 전략 수집에는 소홀하게 됨, 특히 기존 유사 프로젝트와 비슷한 결론이 나올 가능성이 높음"
   ]
  },
  {
   "cell_type": "markdown",
   "id": "efd629d5",
   "metadata": {},
   "source": [
    "## Backcasting"
   ]
  },
  {
   "cell_type": "markdown",
   "id": "cc6755e8",
   "metadata": {},
   "source": [
    "`-` 미래 시점에서 현재를 보는 사고법"
   ]
  },
  {
   "cell_type": "markdown",
   "id": "04ec4954",
   "metadata": {},
   "source": [
    "* Ouput 추론/상상 $\\to$ Output 실현을 위한 조건과 가정 정의 $\\to$ 조건과 가정을 구현하기 위한 방법 정의"
   ]
  },
  {
   "cell_type": "markdown",
   "id": "39762914",
   "metadata": {},
   "source": [
    "`-` 역가치사슬분석, 보도자료기반 가치정의"
   ]
  },
  {
   "cell_type": "markdown",
   "id": "abb123a1",
   "metadata": {},
   "source": [
    "### Process"
   ]
  },
  {
   "cell_type": "markdown",
   "id": "1d8a5e3b",
   "metadata": {},
   "source": [
    "`1` Awarensss : 이상상황 정의"
   ]
  },
  {
   "cell_type": "markdown",
   "id": "8e71bf12",
   "metadata": {},
   "source": [
    "* 주요 참여자 정의\n",
    "\n",
    "* 이상적 가치 정의 $\\to$ 전체 최적화를 고려 (풍선효과 등을 막기 위한 방안)\n",
    "\n",
    "$\\divideontimes$ 풍선효과 : 풍선의 한쪽을 누르면 다른 쪽이 불룩 튀어나오는 모습을 빗댄 표현으로, 어떤 현상이나 문제를 억제하면 다른 현상이나 문제가 새로이 불거져 나오는 상황"
   ]
  },
  {
   "cell_type": "markdown",
   "id": "700c5e62",
   "metadata": {},
   "source": [
    "`2` interests : 이해관계자 정의"
   ]
  },
  {
   "cell_type": "markdown",
   "id": "4a2ee9fa",
   "metadata": {},
   "source": [
    "* 이상적 가치 제공 및 운영 시 참여/고려 되는 이해관계자 도출\n",
    "\n",
    "* 이해관계자 니즈 정의"
   ]
  },
  {
   "cell_type": "markdown",
   "id": "9c1dcb7a",
   "metadata": {},
   "source": [
    "`3` Down to Action : 목표 도달을 위한 활동/조건 정의"
   ]
  },
  {
   "cell_type": "markdown",
   "id": "72c92a10",
   "metadata": {},
   "source": [
    "* 이상목표 달성을 위한 세부활동 정의 : 참여자/조건 별"
   ]
  },
  {
   "cell_type": "markdown",
   "id": "fd6792eb",
   "metadata": {},
   "source": [
    "`4` Baseline : 현 상황 정의"
   ]
  },
  {
   "cell_type": "markdown",
   "id": "0c88d570",
   "metadata": {},
   "source": [
    "`5` Gap Analysis : Gap 및 장애요소 도출"
   ]
  },
  {
   "cell_type": "markdown",
   "id": "a18de22d",
   "metadata": {},
   "source": [
    "`6` 핵심 성공요소 정의 및 세부 실행계획 정의"
   ]
  },
  {
   "cell_type": "markdown",
   "id": "012b592f",
   "metadata": {},
   "source": [
    "## SIC"
   ]
  },
  {
   "cell_type": "markdown",
   "id": "526eb66d",
   "metadata": {},
   "source": [
    "`-` success image canvas"
   ]
  },
  {
   "cell_type": "markdown",
   "id": "0595cf2b",
   "metadata": {},
   "source": [
    "`-` 고려사항 : 사람, 기술, 재료, 방법 등"
   ]
  },
  {
   "cell_type": "markdown",
   "id": "6a928248",
   "metadata": {},
   "source": [
    "`-` 주요요소"
   ]
  },
  {
   "cell_type": "markdown",
   "id": "e6f2b727",
   "metadata": {},
   "source": [
    "* 경쟁사/대체재의 미래 제시가치\n",
    "\n",
    "* 필요 인프라 (H/W 및 S/W)\n",
    "\n",
    "* 이해관계자 : 보안/협력자, 관련기관 등\n",
    "\n",
    "* 필요자원"
   ]
  }
 ],
 "metadata": {
  "kernelspec": {
   "display_name": "Python 3 (ipykernel)",
   "language": "python",
   "name": "python3"
  },
  "language_info": {
   "codemirror_mode": {
    "name": "ipython",
    "version": 3
   },
   "file_extension": ".py",
   "mimetype": "text/x-python",
   "name": "python",
   "nbconvert_exporter": "python",
   "pygments_lexer": "ipython3",
   "version": "3.11.4"
  },
  "toc": {
   "base_numbering": 1,
   "nav_menu": {},
   "number_sections": false,
   "sideBar": true,
   "skip_h1_title": false,
   "title_cell": "Table of Contents",
   "title_sidebar": "Contents",
   "toc_cell": false,
   "toc_position": {
    "height": "calc(100% - 180px)",
    "left": "10px",
    "top": "150px",
    "width": "256px"
   },
   "toc_section_display": true,
   "toc_window_display": true
  }
 },
 "nbformat": 4,
 "nbformat_minor": 5
}
