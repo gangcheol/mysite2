{
 "cells": [
  {
   "cell_type": "raw",
   "id": "363de578",
   "metadata": {},
   "source": [
    "---\n",
    "title : \"02. 고객가치정의 및 아이디어 도출\"\n",
    "author : \"gc\"\n",
    "date : \"11/27/23\"\n",
    "categories : [제안전략수립]\n",
    "---"
   ]
  },
  {
   "cell_type": "markdown",
   "id": "a6583b13",
   "metadata": {},
   "source": [
    "`-` 이번장에서는 STP전략에 대해 세밀하게 배움"
   ]
  },
  {
   "cell_type": "markdown",
   "id": "03350d7b",
   "metadata": {},
   "source": [
    "`-` 3c : customer, company, competitor\n",
    "\n",
    "`-` STP : segmentation, targeting, positioning\n",
    "\n",
    "`-` 4p : product, price, place, promotion"
   ]
  },
  {
   "cell_type": "markdown",
   "id": "4848d3af",
   "metadata": {},
   "source": [
    "# ch1. 세분화(Segmentation)"
   ]
  },
  {
   "cell_type": "markdown",
   "id": "27ae0ecd",
   "metadata": {},
   "source": [
    "`-` 고객가치를 정의하기 위해서는 고객을 좁게 그리고  구체적으로 정의해야한다."
   ]
  },
  {
   "cell_type": "markdown",
   "id": "47940148",
   "metadata": {},
   "source": [
    "|비교 요소|MASS 마케팅|Personalization|\n",
    "|:---:|:---:|:---:|\n",
    "|대상|대규모 대중|개별 소비자|\n",
    "|커뮤니케이션|매체, 광고, 대규모 켐페인 등|디지털 채널, 이메일, 앱 푸시 알림 등|\n",
    "|비용 효율성|대량 생산과 대량광고로 인해 제품을 저렴하게 제공|개별적인 접근이 필요하기 때문에 생산 및 운영 비용이 높아질 수 있음|\n",
    "|예시|TV, 라디오 광고 등|이메일, 추천 시스템, 행동 기반 광고 등|"
   ]
  },
  {
   "cell_type": "markdown",
   "id": "2727e30e",
   "metadata": {},
   "source": [
    "## 시장 세분화의 목적"
   ]
  },
  {
   "cell_type": "markdown",
   "id": "7f7b3e37",
   "metadata": {},
   "source": [
    "`-` 시장 세분화를 통한 마케팅 효과"
   ]
  },
  {
   "cell_type": "markdown",
   "id": "9cab25c6",
   "metadata": {},
   "source": [
    "1. 경쟁우위 확보\n",
    "\n",
    "2. 마케팅 기회 발견\n",
    "\n",
    "3. 차별화를 통한 가격 경쟁 완화"
   ]
  },
  {
   "cell_type": "markdown",
   "id": "9aa5008f",
   "metadata": {},
   "source": [
    "`-` B2B 고객 세분화를 통한 부가적 효과"
   ]
  },
  {
   "cell_type": "markdown",
   "id": "6bb9fb19",
   "metadata": {},
   "source": [
    "1. 공략 대상 기업에 대한 심도 있는 분석\n",
    "\n",
    "2. 공략 우선순위 선정 & 자원의 효율적 분배\n",
    "\n",
    "3. 실행전략 구체화"
   ]
  },
  {
   "cell_type": "markdown",
   "id": "17c3d4cf",
   "metadata": {},
   "source": [
    "`-` 세분화를 위한 핵심 요소 : `Activity` + `interests` + `opinion`  = `life style`"
   ]
  },
  {
   "cell_type": "markdown",
   "id": "f6f03991",
   "metadata": {},
   "source": [
    "* 즉, 비슷한 `life style`을 가진 사람은 동일한 need를 가질 것이다!"
   ]
  },
  {
   "cell_type": "markdown",
   "id": "3e86db10",
   "metadata": {},
   "source": [
    "`-` 성공적 시장세분화의  5가지 조건"
   ]
  },
  {
   "cell_type": "markdown",
   "id": "1ffb4e50",
   "metadata": {},
   "source": [
    "* 측정 가능성 : 세분화에 사용된 벼수들은 측정 가능하고 Data를 구할 수 있는가?"
   ]
  },
  {
   "cell_type": "markdown",
   "id": "04ca34e7",
   "metadata": {},
   "source": [
    "* 접근 가능성 : 최소한의 비용과 투자로 접근이 가능한가?"
   ]
  },
  {
   "cell_type": "markdown",
   "id": "8d13d8be",
   "metadata": {},
   "source": [
    "* 시장의 중요성 : 이윤을 보장할 만큼 충분히 큰가?"
   ]
  },
  {
   "cell_type": "markdown",
   "id": "3ba43081",
   "metadata": {},
   "source": [
    "* 차별성 : 세분화된 시장들은  마케팅활동에 각각 다르게 반응하는가?"
   ]
  },
  {
   "cell_type": "markdown",
   "id": "885790b2",
   "metadata": {},
   "source": [
    "* 실행가능성 : 세분 시장을 공랴하기 위한 효과적이고 실행 가능한 마케팅 프로그램이 개발될 수 있는가?"
   ]
  },
  {
   "cell_type": "markdown",
   "id": "066c2c8d",
   "metadata": {},
   "source": [
    "## B2B 세분화"
   ]
  },
  {
   "cell_type": "markdown",
   "id": "027eb7e6",
   "metadata": {},
   "source": [
    "`-` B2B 세분화의 핵심은 공통의 니즈를 중심으로 정의하는 것임"
   ]
  },
  {
   "cell_type": "markdown",
   "id": "44674f48",
   "metadata": {},
   "source": [
    "`-` 따라서, 고객을 다양한 집단으로 분류하기 보다는 고객 조지사의 하나의 니즈를 더 깊고 자세하게 분석하여 파악할 필요가 있음"
   ]
  },
  {
   "cell_type": "markdown",
   "id": "521365eb",
   "metadata": {},
   "source": [
    "### (1) 유형"
   ]
  },
  {
   "cell_type": "markdown",
   "id": "825b7d96",
   "metadata": {},
   "source": [
    "1. 프로그램형 (Programmatic): 자동화된 시스템을 사용하여 특정 조건을 충족하는 비즈니스 거래를 식별하고 처리하는 방식. 프로그래밍된 소프트웨어나 알고리즘을 활용하여 효율적인 거래를 이룸.\n",
    "\n",
    "* 예시: 프로그램매틱 광고, 자동화된 주문 및 공급망 관리.\n",
    "\n",
    "\n",
    "2. 관계지향형 (Relationship-Based): 장기적인 협력과 관계 구축을 강조. 고객과의 깊은 관계를 중시하며, 상호 신뢰와 협력이 중요\n",
    "\n",
    "* 예시: 장기 계약, 고객 충성도 프로그램, 맞춤형 서비스 제공.\n",
    "\n",
    "3. 거래중시형 (Transaction-Based): 거래중시형 B2B 세분화에서는 단기적이며 거래 중심의 관계가 강조. 주로 일회성 거래나 특정 거래 이벤트에 중점.\n",
    "\n",
    "* 예시: 온라인 거래 플랫폼을 통한 짧은 기간의 거래, 경매.\n",
    "\n",
    "4. 교섭 사냥꾼형 (Hunters vs. Farmers):  \"사냥꾼\"은 새로운 고객을 발굴하고 획득, \"농부\"는 기존 고객과의 관계를 유지하고 키움.\n",
    "\n",
    "* 예시: 사냥꾼은 신규 고객 확보, 농부는 기존 고객 관리 및 유지.\n",
    "\n",
    "$\\divideontimes$ 그래프 참고 (ppt 116)"
   ]
  },
  {
   "cell_type": "markdown",
   "id": "f0d67279",
   "metadata": {},
   "source": [
    "## (2) Nested Approach"
   ]
  },
  {
   "cell_type": "markdown",
   "id": "964e0ae8",
   "metadata": {},
   "source": [
    "Nested Approach는 조직의 인구통계적인 Macro 변수부터 개인 변수인\n",
    "Micro변수까지 구체화하여 고객을 세분화하는 방법임"
   ]
  },
  {
   "cell_type": "markdown",
   "id": "3c667f25",
   "metadata": {},
   "source": [
    "1. 조직의 인구 통계 : 조직의 크기, 산업 부문, 지리적 위치, 기업 문화 등과 같은 특성\n",
    "\n",
    "2. 운영변수들(구매정책 등) : ex) 삼성과 LG는 서로의 부품을 구매하지 않음\n",
    "\n",
    "* 구매 정책, 협력 관계, 생산 및 공급망 전략 등을 포함\n",
    "\n",
    "3. 구매 접근 \n",
    "\n",
    "* 조직이 상품이나 서비스를 구매하는 방식(중앙 집중형, 분산형, 전략적 관리 등)\n",
    "\n",
    "4. 상황 변수들 : 특정한 시점이나 환경에서 조직이 직면하는 변수들. 이는 특별한 프로젝트, 시장 변동성, 경기 변동 등을 포함\n",
    "\n",
    "* 1개 또는 여러개의 공급 업체 선택\n",
    "\n",
    "5. 개인변수들  : 조직 내 구매 의사 결정에 영향을 미치는 개인들의 특성\n",
    "\n",
    "* 업무단순화, 성과금 등"
   ]
  },
  {
   "cell_type": "markdown",
   "id": "869ce801",
   "metadata": {},
   "source": [
    "***"
   ]
  },
  {
   "cell_type": "markdown",
   "id": "995f20ea",
   "metadata": {},
   "source": [
    "# ch2. 포지셔닝"
   ]
  },
  {
   "cell_type": "markdown",
   "id": "bb25ab6b",
   "metadata": {},
   "source": [
    "`-` 포지션 : 고객의 마음속에 제품이나 기업이 점하고 있는 위치"
   ]
  },
  {
   "cell_type": "markdown",
   "id": "82df69f7",
   "metadata": {},
   "source": [
    "`-` 포지셔닝 : 기업이 고객의 마음속에 원하는 위치를 정하기 위한 일련의 과정"
   ]
  },
  {
   "cell_type": "markdown",
   "id": "28eea4a4",
   "metadata": {},
   "source": [
    "* *포지셔닝은 제품이 아닌 고객의 마음속에 하는 것이다*"
   ]
  },
  {
   "cell_type": "markdown",
   "id": "e3226523",
   "metadata": {},
   "source": [
    "* 범주 : 치약, 조미료 (상품)\n",
    "\n",
    "* 속성 : 편맥나무 등 (상품을 만드는 재료)"
   ]
  },
  {
   "cell_type": "markdown",
   "id": "3b38e795",
   "metadata": {},
   "source": [
    "## 3C"
   ]
  },
  {
   "cell_type": "markdown",
   "id": "197119ff",
   "metadata": {},
   "source": [
    "`1` 고객 : 주요 타겟 고객 KBF 규명"
   ]
  },
  {
   "cell_type": "markdown",
   "id": "53986843",
   "metadata": {},
   "source": [
    "`2` 경쟁 : 경쟁사와의 차별성 확보"
   ]
  },
  {
   "cell_type": "markdown",
   "id": "5e6bb451",
   "metadata": {},
   "source": [
    "`3` 자사 : 자사의 강점 반영"
   ]
  },
  {
   "cell_type": "markdown",
   "id": "346cfae8",
   "metadata": {},
   "source": [
    "## 비교 우위 파악"
   ]
  },
  {
   "cell_type": "markdown",
   "id": "65c2c940",
   "metadata": {},
   "source": [
    "`1` 상품 차별화 : 기능, 성능, 디자인 또는 속성"
   ]
  },
  {
   "cell_type": "markdown",
   "id": "1e920e40",
   "metadata": {},
   "source": [
    "`2` 서비스 차별회 : 배달, 정치, 수리, 고객 교육"
   ]
  },
  {
   "cell_type": "markdown",
   "id": "7214824f",
   "metadata": {},
   "source": [
    "`3` 이미지 차별화 : 상징, 분위기"
   ]
  },
  {
   "cell_type": "markdown",
   "id": "d425fe7e",
   "metadata": {},
   "source": [
    "`4` 인적 차별화 : 고용, 훈련, 우수한 인적 자원"
   ]
  },
  {
   "cell_type": "markdown",
   "id": "eb66532e",
   "metadata": {},
   "source": [
    "$\\divideontimes$ 포지셔닝을 통해 기업은 시장 경쟁구조, 자사제품의 경쟁사대비 위치 파악, 신제품 기회 발견 및 기존 제품의 포지셔닝 변경을 수행한다."
   ]
  },
  {
   "cell_type": "markdown",
   "id": "860d30e6",
   "metadata": {},
   "source": [
    "***"
   ]
  },
  {
   "cell_type": "markdown",
   "id": "2e2b3826",
   "metadata": {},
   "source": [
    "# ch3. 통합적 고객가치"
   ]
  },
  {
   "cell_type": "markdown",
   "id": "057a284b",
   "metadata": {},
   "source": [
    "## 가치제안 구성요소 1. 솔루션"
   ]
  },
  {
   "cell_type": "markdown",
   "id": "43cfb3b5",
   "metadata": {},
   "source": [
    "`-` 고객과 판매자가 `협력`하여 개발해야함"
   ]
  },
  {
   "cell_type": "markdown",
   "id": "153de5ee",
   "metadata": {},
   "source": [
    "* 그렇지 않으면. 고객들은 판매자가 일반적으로 개발한 가치 제안에서 결점을 찾아내거나 가치제안 전체를 거부"
   ]
  },
  {
   "cell_type": "markdown",
   "id": "f9ecce05",
   "metadata": {},
   "source": [
    "## 가치제안 구성요소 2. 차별화"
   ]
  },
  {
   "cell_type": "markdown",
   "id": "ceabf9ec",
   "metadata": {},
   "source": [
    "### (1) 차별화를 위한 기본구조"
   ]
  },
  {
   "cell_type": "markdown",
   "id": "c0d46276",
   "metadata": {},
   "source": [
    "* 독점시장에서 가치 제안 : **Value > Cost**"
   ]
  },
  {
   "cell_type": "markdown",
   "id": "7a9cb603",
   "metadata": {},
   "source": [
    "* 경쟁시장에서 가치 제안 : 자사(**Value-Cost**) > 경쟁사(**Value-Cost**)"
   ]
  },
  {
   "cell_type": "markdown",
   "id": "a5b09051",
   "metadata": {},
   "source": [
    "### (2) 차별화 추구를 위한 고려요소"
   ]
  },
  {
   "cell_type": "markdown",
   "id": "b3c4b6aa",
   "metadata": {},
   "source": [
    "`1` 정서가치 : 사용 가치를 통해 개인의 가치관과 생활에 변화를 주는 심리적 가치(Persona)"
   ]
  },
  {
   "cell_type": "markdown",
   "id": "38e94bab",
   "metadata": {},
   "source": [
    "`2` 기능가치 : 제품/서비스가 고객에게 제공하는 물리적 속성(Attribute)"
   ]
  },
  {
   "cell_type": "markdown",
   "id": "fbd76c3c",
   "metadata": {},
   "source": [
    "`3` 사용가치 : 물리적 속성으로 부터 고객이 얻는 이익(Benefit)"
   ]
  },
  {
   "cell_type": "markdown",
   "id": "b047f5e7",
   "metadata": {},
   "source": [
    "## 효과적인 가치 제안의 3요소"
   ]
  },
  {
   "cell_type": "markdown",
   "id": "0a7a0460",
   "metadata": {},
   "source": [
    "1. Quantify : 예측되는 성과 향상의 정량화\n",
    "\n",
    "2. Timing : 효율의 발생, 비용 부가, 투자금액 회수 시기\n",
    "\n",
    "3. Measurement & Monitoring : 성과의 측정과 추적 방법 명시"
   ]
  }
 ],
 "metadata": {
  "kernelspec": {
   "display_name": "Python 3 (ipykernel)",
   "language": "python",
   "name": "python3"
  },
  "language_info": {
   "codemirror_mode": {
    "name": "ipython",
    "version": 3
   },
   "file_extension": ".py",
   "mimetype": "text/x-python",
   "name": "python",
   "nbconvert_exporter": "python",
   "pygments_lexer": "ipython3",
   "version": "3.11.4"
  },
  "toc": {
   "base_numbering": 1,
   "nav_menu": {},
   "number_sections": false,
   "sideBar": true,
   "skip_h1_title": false,
   "title_cell": "Table of Contents",
   "title_sidebar": "Contents",
   "toc_cell": false,
   "toc_position": {
    "height": "calc(100% - 180px)",
    "left": "10px",
    "top": "150px",
    "width": "341.333px"
   },
   "toc_section_display": true,
   "toc_window_display": true
  }
 },
 "nbformat": 4,
 "nbformat_minor": 5
}
