{
 "cells": [
  {
   "cell_type": "raw",
   "id": "6e60a03a",
   "metadata": {},
   "source": [
    "---\n",
    "title : \"01. 환경분석 기법의 이해\"\n",
    "author : \"gc\"\n",
    "date : \"11/24/23\"\n",
    "categories : [제안전략수립]\n",
    "---"
   ]
  },
  {
   "cell_type": "markdown",
   "id": "1c22f572",
   "metadata": {},
   "source": [
    "# 분석 프레임"
   ]
  },
  {
   "cell_type": "markdown",
   "id": "8ef3ff57",
   "metadata": {},
   "source": [
    "`1` 무엇을 분석할 것인가?"
   ]
  },
  {
   "cell_type": "markdown",
   "id": "14b41f9e",
   "metadata": {},
   "source": [
    "`2` 분석의 범위는 어느 정도가지 봐야 하는가?"
   ]
  },
  {
   "cell_type": "markdown",
   "id": "146b4ad6",
   "metadata": {},
   "source": [
    "`3` 어떻게 분석할 것인가?"
   ]
  },
  {
   "cell_type": "code",
   "execution_count": null,
   "id": "c1d0cb56",
   "metadata": {},
   "outputs": [],
   "source": []
  }
 ],
 "metadata": {
  "kernelspec": {
   "display_name": "Python 3 (ipykernel)",
   "language": "python",
   "name": "python3"
  },
  "language_info": {
   "codemirror_mode": {
    "name": "ipython",
    "version": 3
   },
   "file_extension": ".py",
   "mimetype": "text/x-python",
   "name": "python",
   "nbconvert_exporter": "python",
   "pygments_lexer": "ipython3",
   "version": "3.11.4"
  },
  "toc": {
   "base_numbering": 1,
   "nav_menu": {},
   "number_sections": false,
   "sideBar": true,
   "skip_h1_title": false,
   "title_cell": "Table of Contents",
   "title_sidebar": "Contents",
   "toc_cell": false,
   "toc_position": {},
   "toc_section_display": true,
   "toc_window_display": true
  }
 },
 "nbformat": 4,
 "nbformat_minor": 5
}
