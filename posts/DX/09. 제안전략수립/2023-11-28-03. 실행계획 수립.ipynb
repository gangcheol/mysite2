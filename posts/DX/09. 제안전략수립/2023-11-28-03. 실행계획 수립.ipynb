{
 "cells": [
  {
   "cell_type": "raw",
   "id": "8ae1d15c",
   "metadata": {},
   "source": [
    "---\n",
    "title : \"03. 실행계획 수립\"\n",
    "author : \"gc\"\n",
    "date : \"11/28/23\"\n",
    "categories : [제안전략수립]\n",
    "---"
   ]
  },
  {
   "cell_type": "markdown",
   "id": "172b6dc3",
   "metadata": {},
   "source": [
    "# ch1. 솔루션 컨셉 정의"
   ]
  },
  {
   "cell_type": "markdown",
   "id": "0b6c7296",
   "metadata": {},
   "source": [
    "## 구조"
   ]
  },
  {
   "cell_type": "markdown",
   "id": "19d8f971",
   "metadata": {},
   "source": [
    "3c 분석을 토대로 포지셔닝을 통해 고객이 필요성과 차별성을 인지하도록 솔루션을 만들어야함 (ppt 157)"
   ]
  },
  {
   "cell_type": "markdown",
   "id": "369022cb",
   "metadata": {},
   "source": [
    "## 마케팅 6p"
   ]
  },
  {
   "cell_type": "markdown",
   "id": "25fa7188",
   "metadata": {},
   "source": [
    "`1` 제품 : 제품 개발 or 제품 수명관리"
   ]
  },
  {
   "cell_type": "markdown",
   "id": "4ec8752f",
   "metadata": {},
   "source": [
    "`2` 가격 : 가격책정 or 가격 시나리오 정책"
   ]
  },
  {
   "cell_type": "markdown",
   "id": "81c3aeaf",
   "metadata": {},
   "source": [
    "`3` 유통 : 유통설계, 유통갈등관리"
   ]
  },
  {
   "cell_type": "markdown",
   "id": "dc9ca4cb",
   "metadata": {},
   "source": [
    "`4` 프로모션"
   ]
  },
  {
   "cell_type": "markdown",
   "id": "028bd69a",
   "metadata": {},
   "source": [
    "`5` people"
   ]
  },
  {
   "cell_type": "markdown",
   "id": "c5987e68",
   "metadata": {},
   "source": [
    "`6` Process"
   ]
  },
  {
   "cell_type": "markdown",
   "id": "fe35305b",
   "metadata": {},
   "source": [
    "## 컨셉"
   ]
  },
  {
   "cell_type": "markdown",
   "id": "a4c474fd",
   "metadata": {},
   "source": [
    "con- : 함께, -cept : 잡다"
   ]
  },
  {
   "cell_type": "markdown",
   "id": "392dd35d",
   "metadata": {},
   "source": [
    "`-` 솔루션 컨셉을 정의하기 위해서는 고객과 함께 감각화와 구현을 진행해야함\n",
    "\n",
    "* 고객가치를 반영한 모형 설계\n",
    "\n",
    "* 프로토 타입 개발\n",
    "\n",
    "* 현장 테스트 등"
   ]
  },
  {
   "cell_type": "markdown",
   "id": "2d6987b4",
   "metadata": {},
   "source": [
    "<center><img src = \"양식 7.png\" width = 600></center>"
   ]
  },
  {
   "cell_type": "markdown",
   "id": "70fc8330",
   "metadata": {},
   "source": [
    "* RTB (Reason to Believe) : 자사가 이야기하는 믿음에 대한 근거(연구소의 실험결과 같은거)"
   ]
  },
  {
   "cell_type": "markdown",
   "id": "d6e5ad4e",
   "metadata": {},
   "source": [
    "***"
   ]
  },
  {
   "cell_type": "markdown",
   "id": "994094b2",
   "metadata": {},
   "source": [
    "# ch2. (역)가치사슬과 KSF"
   ]
  },
  {
   "cell_type": "markdown",
   "id": "1d74edea",
   "metadata": {},
   "source": [
    "`-` 가치사슬은 기업이 제품이나 서비스를 생산하고 제공하느 과정에서 발생하는 활동들을 단계적으로 나타낸 모델임"
   ]
  },
  {
   "cell_type": "markdown",
   "id": "4abc1f5b",
   "metadata": {},
   "source": [
    "* 그러나 방향성이 제조사 $\\to$ 고객이기 때문에 고객이 제품이 마음에 들지 않는 경우, 만들 수 있는 제품만 만든다는 단점이 존재 "
   ]
  },
  {
   "cell_type": "markdown",
   "id": "87cb11eb",
   "metadata": {},
   "source": [
    "`-` 그래서 요즘은 역가치사슬을 이용함"
   ]
  },
  {
   "cell_type": "markdown",
   "id": "dd074efe",
   "metadata": {},
   "source": [
    "고객 니즈 파악 $\\to$ 마케팅/세일즈(고객 인지) $\\to$ 생산/개발 $\\to$ 필요기술/설비 $\\to$ 가치사슬 완성"
   ]
  },
  {
   "cell_type": "markdown",
   "id": "7b1fd9fb",
   "metadata": {},
   "source": [
    "<center><img src = \"양식 8.png\" width = 600></center>"
   ]
  },
  {
   "cell_type": "markdown",
   "id": "2d0bc85c",
   "metadata": {},
   "source": [
    "`-` PPT참고(168)"
   ]
  },
  {
   "cell_type": "markdown",
   "id": "ac2caf1c",
   "metadata": {},
   "source": [
    "***"
   ]
  },
  {
   "cell_type": "markdown",
   "id": "7ddc1f15",
   "metadata": {},
   "source": [
    "# ch3. 고객커뮤니케이션"
   ]
  },
  {
   "cell_type": "markdown",
   "id": "1ccd2709",
   "metadata": {},
   "source": [
    "`-` 자사는 매체를 통해 고객과 커뮤니케이션하고 이를 통해 고객은 다시 또 다른 고객들과 소통한다."
   ]
  },
  {
   "cell_type": "markdown",
   "id": "d4fc73c6",
   "metadata": {},
   "source": [
    "* 이를 활성화하도록 하는 것이 스토리텔링임"
   ]
  },
  {
   "cell_type": "markdown",
   "id": "0fffce27",
   "metadata": {},
   "source": [
    "## 감각화와 스토리텔링"
   ]
  },
  {
   "cell_type": "markdown",
   "id": "e3254974",
   "metadata": {},
   "source": [
    "`1` 브랜트 컨셉으로서의 스토리텔링\n",
    "\n",
    "* 전략 측면 : 기업의 핵심 스토리는 내부와 외부를 포함한 기업의 모든 커뮤니케이션 활동에 일관성을 부여 **(기업 브랜드와 제품 브랜드 모두에 적용 가능)**"
   ]
  },
  {
   "cell_type": "markdown",
   "id": "cf277874",
   "metadata": {},
   "source": [
    "`2` 커뮤니케이션 도구로서의 스토리텔링\n",
    "\n",
    "* 기업 운영 측면 : 스토리와 일화는 기업의 메시지를 기업 내부와 외부로 전달할 떄 사용 가능. **(PT와 광고 등에 적용 가능)**"
   ]
  },
  {
   "cell_type": "markdown",
   "id": "0cb7a136",
   "metadata": {},
   "source": [
    "`3`  스토리텔링 4가지 구성요소\n",
    "\n",
    "* 메시지 : 주제, 교훈\n",
    "\n",
    "* 갈등 : 도전, 역경\n",
    "\n",
    "* 등장인물 : 주연, 조연, 적대 세력\n",
    "\n",
    "* 플롯 : 시작, 중간, 끝"
   ]
  },
  {
   "cell_type": "markdown",
   "id": "78db44e3",
   "metadata": {},
   "source": [
    "`4` 스토리텔링 맞춤화"
   ]
  },
  {
   "cell_type": "markdown",
   "id": "38ee5804",
   "metadata": {},
   "source": [
    "보수적 구매와 실용적 구매로 크게 구분하여 설득 메시지를 작성"
   ]
  },
  {
   "cell_type": "markdown",
   "id": "a679999b",
   "metadata": {},
   "source": [
    "* 보수적 구매 : 유지 관리\n",
    "\n",
    "* 실용적 구매 : 성취, 신제품 개발 등"
   ]
  },
  {
   "cell_type": "markdown",
   "id": "840b8ba2",
   "metadata": {},
   "source": [
    "## 세일즈 툴킷"
   ]
  },
  {
   "cell_type": "markdown",
   "id": "fba9d3f2",
   "metadata": {},
   "source": [
    "`-` 정의 : 고객의 구매프로세스 및 각 단계별로 필요한 정보를 정의하여 고객접점의 담당자들이 유사한 수준의 고객커뮤니케이션 활동을 수행할 수 있도록 디자인된 도구의 집합"
   ]
  },
  {
   "cell_type": "markdown",
   "id": "8cd1010e",
   "metadata": {},
   "source": [
    "### 설득을 위한 세일즈 툴킷 내용"
   ]
  },
  {
   "cell_type": "markdown",
   "id": "71cb761c",
   "metadata": {},
   "source": [
    "`1` 로고스 : 이성적 설득, 명료하고 보편 타당한 주장하기"
   ]
  },
  {
   "cell_type": "markdown",
   "id": "bf897cca",
   "metadata": {},
   "source": [
    "`2` 파토스 : 감성적 설득, 인간과 인간의 만남, 자신의 이야기와 비언어적 요소 많이 쓰기(고객과 관련된 사례 서술)"
   ]
  },
  {
   "cell_type": "markdown",
   "id": "b996493d",
   "metadata": {},
   "source": [
    "`3` 에토스 : 진정성, 전문적 식견을 가지고 상대를 배려하며 언행일치하기"
   ]
  },
  {
   "cell_type": "markdown",
   "id": "f3c16b27",
   "metadata": {},
   "source": [
    "### 설득력을 높이는 방법(3요소)"
   ]
  },
  {
   "cell_type": "markdown",
   "id": "1438cf67",
   "metadata": {},
   "source": [
    "`1` 전문성  : 영업사원의 전문성을 증명할 수 있는 구체적인 증거를 제시"
   ]
  },
  {
   "cell_type": "markdown",
   "id": "db54ae6e",
   "metadata": {},
   "source": [
    "`2` 논리성 : 기승전결의 구조를 갖고 말하기"
   ]
  },
  {
   "cell_type": "markdown",
   "id": "55b9cf07",
   "metadata": {},
   "source": [
    "`3` 타 산업의 성공 사레를 보여주며 당신의 문제를 해결할 수 있다는 확신 전달"
   ]
  },
  {
   "cell_type": "markdown",
   "id": "60389ec0",
   "metadata": {},
   "source": [
    "### 세일즈 툴킷 주요 유형"
   ]
  },
  {
   "cell_type": "markdown",
   "id": "e9ad5188",
   "metadata": {},
   "source": [
    "(ppt 186, 187 참고)"
   ]
  },
  {
   "cell_type": "markdown",
   "id": "519fd13d",
   "metadata": {},
   "source": [
    "***"
   ]
  },
  {
   "cell_type": "markdown",
   "id": "67f1f606",
   "metadata": {},
   "source": [
    "## 조사현장에서의 질문"
   ]
  },
  {
   "cell_type": "markdown",
   "id": "1ac56aa5",
   "metadata": {},
   "source": [
    "`-` 모든 대화는 질문과 답변으로 구성되어 있음"
   ]
  },
  {
   "cell_type": "markdown",
   "id": "966f86b0",
   "metadata": {},
   "source": [
    "`-` 대화를 잘하는 것은 `질문`을 잘하는 것임"
   ]
  },
  {
   "cell_type": "markdown",
   "id": "07a5427d",
   "metadata": {},
   "source": [
    "### 좋은 질문"
   ]
  },
  {
   "cell_type": "markdown",
   "id": "6ca108a0",
   "metadata": {},
   "source": [
    "`1` 문제의 본질을 파악하게 해주는 질문"
   ]
  },
  {
   "cell_type": "markdown",
   "id": "d55d1997",
   "metadata": {},
   "source": [
    "`2` 상황을 새로운 눈으로 보게 해주는 질문"
   ]
  },
  {
   "cell_type": "markdown",
   "id": "c42209ac",
   "metadata": {},
   "source": [
    "`3` 생각의 수준을 높여주는 질문"
   ]
  },
  {
   "cell_type": "markdown",
   "id": "847c4a69",
   "metadata": {},
   "source": [
    "`4`  생각 확장 및 상상력을 높여주는 질문"
   ]
  },
  {
   "cell_type": "markdown",
   "id": "4bfb58e6",
   "metadata": {},
   "source": [
    "`5` 미래에 대한 의견, 조직의 강점 및 긍정 요소"
   ]
  },
  {
   "cell_type": "markdown",
   "id": "fddd9667",
   "metadata": {},
   "source": [
    "`6` 구체적으로 묻기"
   ]
  },
  {
   "cell_type": "markdown",
   "id": "8677fac0",
   "metadata": {},
   "source": [
    "### SPNI"
   ]
  },
  {
   "cell_type": "markdown",
   "id": "ddcdc180",
   "metadata": {},
   "source": [
    "`1` 상황질문(situation) : 고객사/사용자의 현재 상황에 대한 사실 정보와 고객사 내에서 일어나고 있는 특정 현상과 활동 또는 사용자의 사용현황에 대한 데이터를 모으기 위한 질문\n",
    "\n",
    "* 문제를 일으킨 영향요소는 무엇인가?"
   ]
  },
  {
   "cell_type": "markdown",
   "id": "4456550e",
   "metadata": {},
   "source": [
    "`2` 문제질문(problem) : 고객사/사용자가 겪고 있는 문제점, 어려움, 불만족을 탐색하고 고객/사용자에게 잠재 니즈를 스스로 말하도록 유도하는 질문\n",
    "\n",
    "* 가치제안이 필요한 문제는 무엇인가?"
   ]
  },
  {
   "cell_type": "markdown",
   "id": "c9348ba8",
   "metadata": {},
   "source": [
    "`3` 시사질문(implication) : 고객/사용자가 대수롭지 않게 여기고 작게 인식하고 있는 문제들을 확대하고 발전시키는 질문\n",
    "\n",
    "* 고객이 추구하는 가치를 올바르게 공략하고 있는가?(물리적/경제적/정서적 가치)"
   ]
  },
  {
   "cell_type": "markdown",
   "id": "be5e12b9",
   "metadata": {},
   "source": [
    "`4` 해결질문(Need-off) : 고객/사용자가 가진 문제를 해결하는 솔루션에 대해 유용성과 가치를 키워주는 질문\n",
    "\n",
    "* 내가 제시하는 또는 고객과 협의한 혜택이 올바른가?"
   ]
  }
 ],
 "metadata": {
  "kernelspec": {
   "display_name": "Python 3 (ipykernel)",
   "language": "python",
   "name": "python3"
  },
  "language_info": {
   "codemirror_mode": {
    "name": "ipython",
    "version": 3
   },
   "file_extension": ".py",
   "mimetype": "text/x-python",
   "name": "python",
   "nbconvert_exporter": "python",
   "pygments_lexer": "ipython3",
   "version": "3.11.4"
  },
  "toc": {
   "base_numbering": 1,
   "nav_menu": {},
   "number_sections": false,
   "sideBar": true,
   "skip_h1_title": false,
   "title_cell": "Table of Contents",
   "title_sidebar": "Contents",
   "toc_cell": false,
   "toc_position": {
    "height": "calc(100% - 180px)",
    "left": "10px",
    "top": "150px",
    "width": "332.25px"
   },
   "toc_section_display": true,
   "toc_window_display": true
  }
 },
 "nbformat": 4,
 "nbformat_minor": 5
}
