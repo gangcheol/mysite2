{
 "cells": [
  {
   "cell_type": "raw",
   "id": "adb943c8-3e45-4212-a3d2-870ea101d19e",
   "metadata": {},
   "source": [
    "---\n",
    "title : \"05. 제안서 작성 (1)\"\n",
    "author : \"gc\"\n",
    "date : \"11/30/23\"\n",
    "categories : [제안서 작성]\n",
    "---"
   ]
  },
  {
   "cell_type": "markdown",
   "id": "3e55daf9-28c0-4e52-95c9-b221ee9a72e9",
   "metadata": {},
   "source": [
    "# ch1. 제안서 작성을 위한 준비"
   ]
  },
  {
   "cell_type": "markdown",
   "id": "bcf2582b-db5c-4146-ad82-f65683ad546b",
   "metadata": {},
   "source": [
    "# 제안서"
   ]
  },
  {
   "cell_type": "markdown",
   "id": "38792df2-3797-4f9f-bd36-886aac12c860",
   "metadata": {},
   "source": [
    "`-` 정의 : 목표, 목적, 타임라인, 예산 등을 포함하여 고객 또는 이해관계자가 프로젝트에 대해 알아야 할 모든 내용을 개략적으로 설명한 문서"
   ]
  },
  {
   "cell_type": "markdown",
   "id": "93ec4761-7fbc-411f-8830-3a19f8580273",
   "metadata": {},
   "source": [
    "1. 문제 정의가 잘 되는 것이 가장 중요\n",
    "\n",
    "2. 솔루션과 방법론이 타당한지( + cost)"
   ]
  },
  {
   "cell_type": "markdown",
   "id": "c64a3653-7c27-416e-8a0f-ca2d038c71a3",
   "metadata": {},
   "source": [
    "## 제안 구성"
   ]
  },
  {
   "cell_type": "markdown",
   "id": "e376d98d-f6c8-47a7-ab73-405aba45cfa0",
   "metadata": {},
   "source": [
    "보고서 - 발표자료 - 청자"
   ]
  },
  {
   "cell_type": "markdown",
   "id": "6ea62f83-d8e7-4f51-a3d8-027b57fdb501",
   "metadata": {},
   "source": [
    "* 발표자료에는 청자가 궁금해 하는 내용이 포함되어 있어야함\n",
    "    * 문제정의 **(point, reason)**\n",
    "    * 해결책 **(example)**\n",
    "    * 실행방안 (인력, 방법론, 비용, 기간 등) **(point)**"
   ]
  },
  {
   "cell_type": "markdown",
   "id": "53411679-a01c-4b22-a430-95821b0a4637",
   "metadata": {},
   "source": [
    "`-` 역사적으로 중심 보고서 작성을 위한 시나리오 구조는 다음과 같다."
   ]
  },
  {
   "cell_type": "markdown",
   "id": "f0b33e8c-ba37-4a1a-a40a-aaa2bd633bd3",
   "metadata": {},
   "source": [
    "1. Point\n",
    "\n",
    "2. Reason\n",
    "\n",
    "3. Example\n",
    "\n",
    "4. Point"
   ]
  },
  {
   "cell_type": "markdown",
   "id": "5750aaa7-1bcb-45b5-823b-62a087540089",
   "metadata": {},
   "source": [
    "## 문제정의"
   ]
  },
  {
   "cell_type": "markdown",
   "id": "7c31fb20-a1b2-43ca-ba5f-caf7c44467db",
   "metadata": {},
   "source": [
    "`-` GAP 분석"
   ]
  },
  {
   "cell_type": "markdown",
   "id": "ffc902d6-30b4-49dd-87e9-d64e3e5ecfcc",
   "metadata": {},
   "source": [
    "1. As-IS : 고정 되어있는 상황, 변화를 가지고 가기가 어려움...\n",
    "\n",
    "2. To-Be : to-be설정을 어떻게 하느냐에 따라서 발생/탐색/설정형의 여부가 정해짐 $\\to$ [문제유형 예시](https://gangcheol.github.io/mysite2/posts/DX/09.%20%EC%A0%9C%EC%95%88%EC%A0%84%EB%9E%B5%EC%88%98%EB%A6%BD/2023-11-23-00.%20%EC%A0%9C%EC%95%88%EC%A0%84%EB%9E%B5%EC%88%98%EB%A6%BD.html#%EB%AC%B8%EC%A0%9C%EC%9D%98-%EC%A2%85%EB%A5%98)"
   ]
  },
  {
   "cell_type": "markdown",
   "id": "29609416-2abc-4710-810b-1b1538610c84",
   "metadata": {},
   "source": [
    "`-` 공고나 제안사의 문제정의에서 **숨어있는 요구사항을 파악**할 줄 알아야한다."
   ]
  },
  {
   "cell_type": "markdown",
   "id": "73421228-405e-42b9-b167-285395e4e3c0",
   "metadata": {},
   "source": [
    "`-` 제안서 작성 시, 사업의 범위를 정한 후 **담당 실무자에게 확인을 거치는 작업**을 해야함."
   ]
  },
  {
   "cell_type": "markdown",
   "id": "21367af7-d463-4c4b-855a-245bd9ca7096",
   "metadata": {},
   "source": [
    "`-` 문서의 내용 외 고객이 말하지 않은 이슈\n",
    "\n",
    "* 개인적 편견 및 이슈, 내부 의사결정구조"
   ]
  },
  {
   "cell_type": "markdown",
   "id": "a44e22e1-00c3-4388-b339-8d3023abe4ae",
   "metadata": {},
   "source": [
    "`-` 핵심 차별화 요소 = `고객의 중요니즈` + `경쟁자 대비 우위점`"
   ]
  },
  {
   "cell_type": "markdown",
   "id": "333f4f3b-05df-49fb-8402-0dd61e8e1bdd",
   "metadata": {},
   "source": [
    "* 고객의 중요 니즈 : 구매센터(이해관계자)별 `포지션 파워 x 핵심이슈`"
   ]
  },
  {
   "cell_type": "markdown",
   "id": "61e9499a-74e3-4a88-86ba-858699bb7c94",
   "metadata": {},
   "source": [
    "* 경쟁자 대비 우위점 : 고객 중요 니즈 기반에서 찾아야함"
   ]
  },
  {
   "cell_type": "markdown",
   "id": "bfa6c7c7-9225-4055-ba76-66b73afd4831",
   "metadata": {},
   "source": [
    "## ex 1. 이슈발굴 및 차별화 요소 도출"
   ]
  }
 ],
 "metadata": {
  "kernelspec": {
   "display_name": "Python 3 (ipykernel)",
   "language": "python",
   "name": "python3"
  },
  "language_info": {
   "codemirror_mode": {
    "name": "ipython",
    "version": 3
   },
   "file_extension": ".py",
   "mimetype": "text/x-python",
   "name": "python",
   "nbconvert_exporter": "python",
   "pygments_lexer": "ipython3",
   "version": "3.11.4"
  }
 },
 "nbformat": 4,
 "nbformat_minor": 5
}
