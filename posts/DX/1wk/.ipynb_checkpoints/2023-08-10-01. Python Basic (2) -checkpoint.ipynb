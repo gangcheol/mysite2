{
 "cells": [
  {
   "cell_type": "raw",
   "metadata": {
    "id": "9zjBswkpfal3"
   },
   "source": [
    "---\n",
    "title : \"01. Python Basic (2)\"\n",
    "author : \"GC\"\n",
    "date : \"08/10/23\"\n",
    "categories : [\"DX\"]\n",
    "---"
   ]
  },
  {
   "cell_type": "markdown",
   "metadata": {
    "id": "9ShvWw-l3A_h"
   },
   "source": [
    "# 드라이브 마운트 및 import"
   ]
  },
  {
   "cell_type": "code",
   "execution_count": 1,
   "metadata": {
    "colab": {
     "base_uri": "https://localhost:8080/"
    },
    "executionInfo": {
     "elapsed": 24394,
     "status": "ok",
     "timestamp": 1691628715100,
     "user": {
      "displayName": "ccc flkwerkdai",
      "userId": "13507850890638580947"
     },
     "user_tz": -540
    },
    "id": "chSjtRXO7TcK",
    "outputId": "c206cf58-2e0b-4db7-f100-e866b567504b"
   },
   "outputs": [
    {
     "name": "stdout",
     "output_type": "stream",
     "text": [
      "Mounted at /content/drive\n"
     ]
    }
   ],
   "source": [
    "from google.colab import drive\n",
    "drive.mount('/content/drive')"
   ]
  },
  {
   "cell_type": "code",
   "execution_count": 3,
   "metadata": {
    "colab": {
     "base_uri": "https://localhost:8080/"
    },
    "executionInfo": {
     "elapsed": 281,
     "status": "ok",
     "timestamp": 1691628759373,
     "user": {
      "displayName": "ccc flkwerkdai",
      "userId": "13507850890638580947"
     },
     "user_tz": -540
    },
    "id": "5rpZvq_z7UzN",
    "outputId": "ef76c98c-d6ff-49b9-adff-cd302c2e1880"
   },
   "outputs": [
    {
     "name": "stdout",
     "output_type": "stream",
     "text": [
      "/content/drive/MyDrive/Colab Notebooks/DX/1wk\n"
     ]
    }
   ],
   "source": [
    "cd /content/drive/MyDrive/Colab Notebooks/DX/1wk"
   ]
  },
  {
   "cell_type": "code",
   "execution_count": 4,
   "metadata": {
    "executionInfo": {
     "elapsed": 746,
     "status": "ok",
     "timestamp": 1691628782357,
     "user": {
      "displayName": "ccc flkwerkdai",
      "userId": "13507850890638580947"
     },
     "user_tz": -540
    },
    "id": "1qqOGRSC7nEc"
   },
   "outputs": [],
   "source": [
    "import pandas as pd\n",
    "import numpy as np\n",
    "import matplotlib.pyplot as plt"
   ]
  },
  {
   "cell_type": "markdown",
   "metadata": {
    "id": "Y7o8FyMsJ71C"
   },
   "source": [
    "# 1. 문자열 슬라이싱"
   ]
  },
  {
   "cell_type": "code",
   "execution_count": 14,
   "metadata": {
    "executionInfo": {
     "elapsed": 432,
     "status": "ok",
     "timestamp": 1691632587435,
     "user": {
      "displayName": "ccc flkwerkdai",
      "userId": "13507850890638580947"
     },
     "user_tz": -540
    },
    "id": "AOf7u9yF7sHM"
   },
   "outputs": [],
   "source": [
    "txt = \"나의 이름은 이강철입니다.\""
   ]
  },
  {
   "cell_type": "markdown",
   "metadata": {
    "id": "8SuFgy8iJx1Q"
   },
   "source": [
    "## 슬라이싱 1"
   ]
  },
  {
   "cell_type": "code",
   "execution_count": 29,
   "metadata": {
    "colab": {
     "base_uri": "https://localhost:8080/",
     "height": 36
    },
    "executionInfo": {
     "elapsed": 482,
     "status": "ok",
     "timestamp": 1691632885130,
     "user": {
      "displayName": "ccc flkwerkdai",
      "userId": "13507850890638580947"
     },
     "user_tz": -540
    },
    "id": "92S0IY5fKOXT",
    "outputId": "0dbed38e-feb2-4624-b296-696477db3a37"
   },
   "outputs": [
    {
     "data": {
      "application/vnd.google.colaboratory.intrinsic+json": {
       "type": "string"
      },
      "text/plain": [
       "' 이름은 이강철입니다.'"
      ]
     },
     "execution_count": 29,
     "metadata": {},
     "output_type": "execute_result"
    }
   ],
   "source": [
    "n = len(txt)\n",
    "txt[2:n]"
   ]
  },
  {
   "cell_type": "markdown",
   "metadata": {
    "id": "_3r6JfcSM47-"
   },
   "source": [
    "`-` 참고 역슬레시는 인데싱에서 제외된다."
   ]
  },
  {
   "cell_type": "code",
   "execution_count": 56,
   "metadata": {
    "colab": {
     "base_uri": "https://localhost:8080/"
    },
    "executionInfo": {
     "elapsed": 461,
     "status": "ok",
     "timestamp": 1691633340090,
     "user": {
      "displayName": "ccc flkwerkdai",
      "userId": "13507850890638580947"
     },
     "user_tz": -540
    },
    "id": "oDfVDkGRM8ai",
    "outputId": "eae9ce3d-a685-43ca-f299-787ad9ec7218"
   },
   "outputs": [
    {
     "name": "stdout",
     "output_type": "stream",
     "text": [
      "he's\n",
      "he's\n"
     ]
    }
   ],
   "source": [
    "print(\"he's\")\n",
    "print(\"he\\'s\")"
   ]
  },
  {
   "cell_type": "markdown",
   "metadata": {
    "id": "_UYn1RkjLVyy"
   },
   "source": [
    "## 슬라이싱 2"
   ]
  },
  {
   "cell_type": "markdown",
   "metadata": {
    "id": "rRKZI34WLduM"
   },
   "source": [
    "`-` 구조 : txt[start : end : stride]"
   ]
  },
  {
   "cell_type": "code",
   "execution_count": 37,
   "metadata": {
    "colab": {
     "base_uri": "https://localhost:8080/",
     "height": 36
    },
    "executionInfo": {
     "elapsed": 448,
     "status": "ok",
     "timestamp": 1691633001945,
     "user": {
      "displayName": "ccc flkwerkdai",
      "userId": "13507850890638580947"
     },
     "user_tz": -540
    },
    "id": "7YpKALROLx5X",
    "outputId": "fcdeac46-ad4c-4985-8949-e4e1b4f0c175"
   },
   "outputs": [
    {
     "data": {
      "application/vnd.google.colaboratory.intrinsic+json": {
       "type": "string"
      },
      "text/plain": [
       "'나의 이름은 이강철입니다.'"
      ]
     },
     "execution_count": 37,
     "metadata": {},
     "output_type": "execute_result"
    }
   ],
   "source": [
    "txt"
   ]
  },
  {
   "cell_type": "code",
   "execution_count": 43,
   "metadata": {
    "colab": {
     "base_uri": "https://localhost:8080/"
    },
    "executionInfo": {
     "elapsed": 443,
     "status": "ok",
     "timestamp": 1691633063282,
     "user": {
      "displayName": "ccc flkwerkdai",
      "userId": "13507850890638580947"
     },
     "user_tz": -540
    },
    "id": "_OZyBgx_LYBR",
    "outputId": "8999f8bf-f713-4a82-dfea-8977998df530"
   },
   "outputs": [
    {
     "name": "stdout",
     "output_type": "stream",
     "text": [
      "나 름 강입다\n",
      "나 름 강입다\n",
      "나이 철다\n",
      ".다니입철강이 은름이 의나\n",
      ".니철이은이의\n"
     ]
    }
   ],
   "source": [
    "print(txt[0:n:2])\n",
    "print(txt[::2])\n",
    "print(txt[::3])\n",
    "print(txt[::-1])\n",
    "print(txt[::-2])"
   ]
  },
  {
   "cell_type": "markdown",
   "metadata": {
    "id": "lJMONQ-GTifT"
   },
   "source": [
    "# 2. 문자열 메소드"
   ]
  },
  {
   "cell_type": "markdown",
   "metadata": {
    "id": "_XZBEajeMBe4"
   },
   "source": [
    "## Count"
   ]
  },
  {
   "cell_type": "code",
   "execution_count": 44,
   "metadata": {
    "colab": {
     "base_uri": "https://localhost:8080/",
     "height": 36
    },
    "executionInfo": {
     "elapsed": 447,
     "status": "ok",
     "timestamp": 1691633129903,
     "user": {
      "displayName": "ccc flkwerkdai",
      "userId": "13507850890638580947"
     },
     "user_tz": -540
    },
    "id": "zmETlc72MQuN",
    "outputId": "e4a89c45-c67d-48d6-e8a2-ca60129b036a"
   },
   "outputs": [
    {
     "data": {
      "application/vnd.google.colaboratory.intrinsic+json": {
       "type": "string"
      },
      "text/plain": [
       "'나의 이름은 이강철입니다.'"
      ]
     },
     "execution_count": 44,
     "metadata": {},
     "output_type": "execute_result"
    }
   ],
   "source": [
    "txt"
   ]
  },
  {
   "cell_type": "markdown",
   "metadata": {
    "id": "-52EcCRMMSxE"
   },
   "source": [
    "`-` 공백 세기"
   ]
  },
  {
   "cell_type": "code",
   "execution_count": 46,
   "metadata": {
    "colab": {
     "base_uri": "https://localhost:8080/"
    },
    "executionInfo": {
     "elapsed": 296,
     "status": "ok",
     "timestamp": 1691633143928,
     "user": {
      "displayName": "ccc flkwerkdai",
      "userId": "13507850890638580947"
     },
     "user_tz": -540
    },
    "id": "lVY9ySG5MRoT",
    "outputId": "c01667ad-3690-41de-b2c5-ca0928adc7b4"
   },
   "outputs": [
    {
     "data": {
      "text/plain": [
       "2"
      ]
     },
     "execution_count": 46,
     "metadata": {},
     "output_type": "execute_result"
    }
   ],
   "source": [
    "txt.count(\" \")"
   ]
  },
  {
   "cell_type": "markdown",
   "metadata": {
    "id": "Mv3SuGf6MiGQ"
   },
   "source": [
    "`-` 특장 문자 세기"
   ]
  },
  {
   "cell_type": "code",
   "execution_count": 50,
   "metadata": {
    "colab": {
     "base_uri": "https://localhost:8080/"
    },
    "executionInfo": {
     "elapsed": 467,
     "status": "ok",
     "timestamp": 1691633209733,
     "user": {
      "displayName": "ccc flkwerkdai",
      "userId": "13507850890638580947"
     },
     "user_tz": -540
    },
    "id": "-pXNbjn1MjhW",
    "outputId": "feb44b3b-f686-4e46-bdc2-5bbacfdddafa"
   },
   "outputs": [
    {
     "data": {
      "text/plain": [
       "2"
      ]
     },
     "execution_count": 50,
     "metadata": {},
     "output_type": "execute_result"
    }
   ],
   "source": [
    "txt.count(\"이\")"
   ]
  },
  {
   "cell_type": "markdown",
   "metadata": {
    "id": "X_rsqOGbMlOU"
   },
   "source": [
    "`-` 리스트나 튜플로 넘겨주면 에러가 발생"
   ]
  },
  {
   "cell_type": "code",
   "execution_count": 55,
   "metadata": {
    "colab": {
     "base_uri": "https://localhost:8080/",
     "height": 187
    },
    "executionInfo": {
     "elapsed": 425,
     "status": "error",
     "timestamp": 1691633258022,
     "user": {
      "displayName": "ccc flkwerkdai",
      "userId": "13507850890638580947"
     },
     "user_tz": -540
    },
    "id": "0T5S5YIIMn1N",
    "outputId": "4ed70a41-c0c8-4ca4-eeb6-9169a5c582fe"
   },
   "outputs": [
    {
     "ename": "TypeError",
     "evalue": "ignored",
     "output_type": "error",
     "traceback": [
      "\u001b[0;31m---------------------------------------------------------------------------\u001b[0m",
      "\u001b[0;31mTypeError\u001b[0m                                 Traceback (most recent call last)",
      "\u001b[0;32m<ipython-input-55-a036b7dba977>\u001b[0m in \u001b[0;36m<cell line: 1>\u001b[0;34m()\u001b[0m\n\u001b[0;32m----> 1\u001b[0;31m \u001b[0mtxt\u001b[0m\u001b[0;34m.\u001b[0m\u001b[0mcount\u001b[0m\u001b[0;34m(\u001b[0m\u001b[0;34m(\u001b[0m\u001b[0;34m\"이\"\u001b[0m\u001b[0;34m,\u001b[0m\u001b[0;34m\" \"\u001b[0m\u001b[0;34m)\u001b[0m\u001b[0;34m)\u001b[0m\u001b[0;34m\u001b[0m\u001b[0;34m\u001b[0m\u001b[0m\n\u001b[0m",
      "\u001b[0;31mTypeError\u001b[0m: must be str, not tuple"
     ]
    }
   ],
   "source": [
    "txt.count((\"이\",\" \"))"
   ]
  },
  {
   "cell_type": "markdown",
   "metadata": {
    "id": "CCY71iZmNGL_"
   },
   "source": [
    "`-` 문자가 아닌 문자열 카운트"
   ]
  },
  {
   "cell_type": "code",
   "execution_count": 57,
   "metadata": {
    "colab": {
     "base_uri": "https://localhost:8080/"
    },
    "executionInfo": {
     "elapsed": 432,
     "status": "ok",
     "timestamp": 1691633392244,
     "user": {
      "displayName": "ccc flkwerkdai",
      "userId": "13507850890638580947"
     },
     "user_tz": -540
    },
    "id": "l7GI0O39NNwP",
    "outputId": "4cbbb537-98ee-4f49-cd1d-336ff8e7b43d"
   },
   "outputs": [
    {
     "name": "stdout",
     "output_type": "stream",
     "text": [
      "나의 이름은 이강철입니다.\n",
      "1\n"
     ]
    }
   ],
   "source": [
    "print(txt)\n",
    "print(txt.count(\"이강철\"))"
   ]
  },
  {
   "cell_type": "markdown",
   "metadata": {
    "id": "UZXRKjc3NSAE"
   },
   "source": [
    "## find"
   ]
  },
  {
   "cell_type": "markdown",
   "metadata": {
    "id": "mpfY1vhVNg7V"
   },
   "source": [
    "`-` 특정 문자의 인덱싱을 반환"
   ]
  },
  {
   "cell_type": "code",
   "execution_count": 60,
   "metadata": {
    "colab": {
     "base_uri": "https://localhost:8080/"
    },
    "executionInfo": {
     "elapsed": 445,
     "status": "ok",
     "timestamp": 1691633453598,
     "user": {
      "displayName": "ccc flkwerkdai",
      "userId": "13507850890638580947"
     },
     "user_tz": -540
    },
    "id": "l5fFBTWrNVCN",
    "outputId": "54371193-49d3-4930-a544-fa8191eb8bc8"
   },
   "outputs": [
    {
     "name": "stdout",
     "output_type": "stream",
     "text": [
      "나의 이름은 이강철입니다.\n",
      "3\n",
      "7\n"
     ]
    }
   ],
   "source": [
    "print(txt)\n",
    "print(txt.find(\"이\"))\n",
    "print(txt.find(\"이강철\"))"
   ]
  },
  {
   "cell_type": "markdown",
   "metadata": {
    "id": "odV5HRFdN6u-"
   },
   "source": [
    "`-` find함수에 문제점은 범위를 지정해주지 않으면 찾고자 하는 문자의 첫 인덱스만 반환한다."
   ]
  },
  {
   "cell_type": "markdown",
   "metadata": {
    "id": "lplxworyNs1b"
   },
   "source": [
    "`-` 특정 문자열을 찾을때 문자열 시작지점과 끝지점을 정해서 인덱싱"
   ]
  },
  {
   "cell_type": "code",
   "execution_count": 63,
   "metadata": {
    "colab": {
     "base_uri": "https://localhost:8080/"
    },
    "executionInfo": {
     "elapsed": 458,
     "status": "ok",
     "timestamp": 1691633557615,
     "user": {
      "displayName": "ccc flkwerkdai",
      "userId": "13507850890638580947"
     },
     "user_tz": -540
    },
    "id": "j2sann6qNy1f",
    "outputId": "5f96503b-f0c1-4b1d-c30a-73ad2786fb82"
   },
   "outputs": [
    {
     "name": "stdout",
     "output_type": "stream",
     "text": [
      "나의 이름은 이강철입니다.\n",
      "7\n"
     ]
    }
   ],
   "source": [
    "print(txt)\n",
    "print(txt.find(\"이\",6,n))"
   ]
  },
  {
   "cell_type": "markdown",
   "metadata": {
    "id": "QJCqq1s6RZZZ"
   },
   "source": [
    "## 잠깐 다른 이야기!"
   ]
  },
  {
   "cell_type": "markdown",
   "metadata": {
    "id": "SsfRb5BxRbsD"
   },
   "source": [
    "`-` 아래를 잘 살펴보자."
   ]
  },
  {
   "cell_type": "code",
   "execution_count": 75,
   "metadata": {
    "colab": {
     "base_uri": "https://localhost:8080/"
    },
    "executionInfo": {
     "elapsed": 487,
     "status": "ok",
     "timestamp": 1691634651845,
     "user": {
      "displayName": "ccc flkwerkdai",
      "userId": "13507850890638580947"
     },
     "user_tz": -540
    },
    "id": "INCnmdkAQJue",
    "outputId": "d102a927-a7ae-494d-cae1-1affb59ee59d"
   },
   "outputs": [
    {
     "name": "stdout",
     "output_type": "stream",
     "text": [
      "138123241308464 138123241308464\n",
      "138123241308496\n",
      "138123241308624\n",
      "138123241308464\n"
     ]
    }
   ],
   "source": [
    "a = 3\n",
    "b = 3\n",
    "print(id(a),id(b))\n",
    "a +=1\n",
    "print(id(a))\n",
    "a *=2\n",
    "print(id(a))\n",
    "a =a-5\n",
    "print(id(a))"
   ]
  },
  {
   "cell_type": "markdown",
   "metadata": {
    "id": "ga7-u0fmReF8"
   },
   "source": [
    "`-` a변수와 b변수에 3이라는 값을 할당하고, 각 메모리 주소를 출력하였다."
   ]
  },
  {
   "cell_type": "markdown",
   "metadata": {
    "id": "aXVbNwaARlMy"
   },
   "source": [
    "`-`  질문 1 : 사칙 연산시 메모리 주소가 바뀐다?"
   ]
  },
  {
   "cell_type": "markdown",
   "metadata": {
    "id": "ZcbLR3AxRqva"
   },
   "source": [
    "`-` 질문 2 : 그런데 동일한 값을 할당하면 같은 주소가 할당된다?"
   ]
  },
  {
   "cell_type": "markdown",
   "metadata": {
    "id": "l4Or2fkFRztd"
   },
   "source": [
    "`-` 질문 3 : 그런데 마지막에 a에서 5를 빼서 처음에 할당한 3과 동일하게 했더니 처음과 동일한 주소가 나왔다?"
   ]
  },
  {
   "cell_type": "markdown",
   "metadata": {
    "id": "4mHw944ISQ2_"
   },
   "source": [
    "`-` 내 생각 : **각각의 값(할당한 정수)들은 이미 각자의 고유한 주소를 가지고 있고, 변수들은 그 값들을 참조하는 포인터 역할을 하는 것 같다. 또한, 이는 정수 뿐이 아니라 단일 값을 가지는 모든 형태의 해당된다.**"
   ]
  },
  {
   "cell_type": "markdown",
   "metadata": {
    "id": "E8Ub_YYsTYru"
   },
   "source": [
    "### 문자열 주소확인"
   ]
  },
  {
   "cell_type": "code",
   "execution_count": 78,
   "metadata": {
    "colab": {
     "base_uri": "https://localhost:8080/"
    },
    "executionInfo": {
     "elapsed": 291,
     "status": "ok",
     "timestamp": 1691635354799,
     "user": {
      "displayName": "ccc flkwerkdai",
      "userId": "13507850890638580947"
     },
     "user_tz": -540
    },
    "id": "fa5Xzg4gUkxA",
    "outputId": "0334bf83-72d5-4a57-f10b-c03ee9026cdc"
   },
   "outputs": [
    {
     "name": "stdout",
     "output_type": "stream",
     "text": [
      "apple\n",
      "138121951987056\n",
      "APPLE\n",
      "138121951989872\n"
     ]
    }
   ],
   "source": [
    "s = \"apple\"\n",
    "print(s)\n",
    "print(id(s))\n",
    "\n",
    "print(s.upper())\n",
    "print(id(s.upper()))"
   ]
  },
  {
   "cell_type": "markdown",
   "metadata": {
    "id": "QUUj-kNJU5Hy"
   },
   "source": [
    "### 그렇다면 리스트도?"
   ]
  },
  {
   "cell_type": "code",
   "execution_count": 85,
   "metadata": {
    "colab": {
     "base_uri": "https://localhost:8080/"
    },
    "executionInfo": {
     "elapsed": 484,
     "status": "ok",
     "timestamp": 1691635540098,
     "user": {
      "displayName": "ccc flkwerkdai",
      "userId": "13507850890638580947"
     },
     "user_tz": -540
    },
    "id": "y2bgbqjxU9FE",
    "outputId": "b92039b5-65f1-45a1-e9c7-81951874f409"
   },
   "outputs": [
    {
     "name": "stdout",
     "output_type": "stream",
     "text": [
      "[0, 1, 2, 3, 4]\n",
      "138121952117504\n",
      "[0, 100, 2, 3, 4]\n",
      "138121952117504\n"
     ]
    }
   ],
   "source": [
    "a = list(range(5))\n",
    "print(a)\n",
    "print(id(a))\n",
    "a[1] = 100\n",
    "print(a)\n",
    "print(id(a))"
   ]
  },
  {
   "cell_type": "markdown",
   "metadata": {
    "id": "4XDjBUwUVezz"
   },
   "source": [
    "`-` 리스트는 바뀌지 않았다!!"
   ]
  },
  {
   "cell_type": "markdown",
   "metadata": {
    "id": "fOvU0QZgVqTN"
   },
   "source": [
    "## capitalize & title"
   ]
  },
  {
   "cell_type": "markdown",
   "metadata": {
    "id": "qo9sFQp0V3Gg"
   },
   "source": [
    "`-` 첫글자만 대문자로 변환"
   ]
  },
  {
   "cell_type": "code",
   "execution_count": 92,
   "metadata": {
    "colab": {
     "base_uri": "https://localhost:8080/"
    },
    "executionInfo": {
     "elapsed": 453,
     "status": "ok",
     "timestamp": 1691635738550,
     "user": {
      "displayName": "ccc flkwerkdai",
      "userId": "13507850890638580947"
     },
     "user_tz": -540
    },
    "id": "RZY6QXTnVwGM",
    "outputId": "17ca4ccd-b6d9-4ede-cbeb-3cf5d66c723d"
   },
   "outputs": [
    {
     "name": "stdout",
     "output_type": "stream",
     "text": [
      "I like apple\n",
      "I Like Apple\n"
     ]
    }
   ],
   "source": [
    "a=\"i like apple\"\n",
    "\n",
    "print(a.capitalize())\n",
    "print(a.title())"
   ]
  },
  {
   "cell_type": "markdown",
   "metadata": {
    "id": "R7u_oEBWWRiW"
   },
   "source": [
    "## rjust, ljust, center"
   ]
  },
  {
   "cell_type": "markdown",
   "metadata": {
    "id": "hOCCozIPWxA1"
   },
   "source": [
    "`-` 각각, 오른쪽, 왼쪽, 중앙정렬을 하고 공백을 만든다"
   ]
  },
  {
   "cell_type": "code",
   "execution_count": 103,
   "metadata": {
    "colab": {
     "base_uri": "https://localhost:8080/"
    },
    "executionInfo": {
     "elapsed": 482,
     "status": "ok",
     "timestamp": 1691636063260,
     "user": {
      "displayName": "ccc flkwerkdai",
      "userId": "13507850890638580947"
     },
     "user_tz": -540
    },
    "id": "yFQ18_DLWPCn",
    "outputId": "431fd696-9c3e-4203-a457-4eaf23116f63"
   },
   "outputs": [
    {
     "name": "stdout",
     "output_type": "stream",
     "text": [
      "[  apple]\n",
      "[apple  ]\n",
      "[ apple ]\n"
     ]
    }
   ],
   "source": [
    "a = \"apple\"\n",
    "print(\"[\"+a.rjust(7)+\"]\",sep=\"\")\n",
    "print(\"[\",a.ljust(7),\"]\",sep=\"\")\n",
    "print(\"[\",a.center(7),\"]\",sep=\"\")"
   ]
  },
  {
   "cell_type": "markdown",
   "metadata": {
    "id": "RcGc2XRyW9pA"
   },
   "source": [
    "`-` 근데 문장 단위로는 적용되지 않는다...."
   ]
  },
  {
   "cell_type": "code",
   "execution_count": 107,
   "metadata": {
    "colab": {
     "base_uri": "https://localhost:8080/"
    },
    "executionInfo": {
     "elapsed": 275,
     "status": "ok",
     "timestamp": 1691636123978,
     "user": {
      "displayName": "ccc flkwerkdai",
      "userId": "13507850890638580947"
     },
     "user_tz": -540
    },
    "id": "INNLaktBW7uz",
    "outputId": "237aca84-58b6-4f58-9e1c-e1aed8301c65"
   },
   "outputs": [
    {
     "name": "stdout",
     "output_type": "stream",
     "text": [
      "[I like apple]\n",
      "[I like apple]\n",
      "[I like apple]\n"
     ]
    }
   ],
   "source": [
    "a = \"I like apple\"\n",
    "print(\"[\"+a.rjust(7)+\"]\",sep=\"\")\n",
    "print(\"[\",a.ljust(7),\"]\",sep=\"\")\n",
    "print(\"[\",a.center(7),\"]\",sep=\"\")"
   ]
  },
  {
   "cell_type": "markdown",
   "metadata": {
    "id": "kbLk6yrfXsjg"
   },
   "source": [
    "`-` 핳 근데 문장길이가 7보다 커서 그런거였당"
   ]
  },
  {
   "cell_type": "code",
   "execution_count": 108,
   "metadata": {
    "colab": {
     "base_uri": "https://localhost:8080/"
    },
    "executionInfo": {
     "elapsed": 442,
     "status": "ok",
     "timestamp": 1691636156617,
     "user": {
      "displayName": "ccc flkwerkdai",
      "userId": "13507850890638580947"
     },
     "user_tz": -540
    },
    "id": "6Uz-TYdjXwyh",
    "outputId": "678cc364-1f3a-4c64-fb8e-a9092f3b8678"
   },
   "outputs": [
    {
     "name": "stdout",
     "output_type": "stream",
     "text": [
      "[       I like apple]\n",
      "[I like apple       ]\n",
      "[    I like apple   ]\n"
     ]
    }
   ],
   "source": [
    "a = \"I like apple\"\n",
    "print(\"[\"+a.rjust(19)+\"]\",sep=\"\")\n",
    "print(\"[\",a.ljust(19),\"]\",sep=\"\")\n",
    "print(\"[\",a.center(19),\"]\",sep=\"\")"
   ]
  },
  {
   "cell_type": "markdown",
   "metadata": {
    "id": "TMtFGK86YAnq"
   },
   "source": [
    "`-` 즉, 전달되는 매개변수는 전체공간을 의미하고, 각각의 메소드는 어디로 정렬할지 정해준다!"
   ]
  },
  {
   "cell_type": "markdown",
   "metadata": {
    "id": "7ChD2zw8YZMz"
   },
   "source": [
    "## replace"
   ]
  },
  {
   "cell_type": "markdown",
   "metadata": {
    "id": "ae77XDSWYpXI"
   },
   "source": [
    "`-` 값을 바꾼다고 객체가 변환되지는 않는다."
   ]
  },
  {
   "cell_type": "code",
   "execution_count": 110,
   "metadata": {
    "colab": {
     "base_uri": "https://localhost:8080/"
    },
    "executionInfo": {
     "elapsed": 473,
     "status": "ok",
     "timestamp": 1691636369582,
     "user": {
      "displayName": "ccc flkwerkdai",
      "userId": "13507850890638580947"
     },
     "user_tz": -540
    },
    "id": "B8adtPPIYa2Z",
    "outputId": "1a19271c-0e2d-4220-c245-a2ee4e0531f5"
   },
   "outputs": [
    {
     "name": "stdout",
     "output_type": "stream",
     "text": [
      "바나나\n",
      "사과\n"
     ]
    }
   ],
   "source": [
    "txt = \"사과\"\n",
    "print(txt.replace(\"사과\",\"바나나\"))\n",
    "print(txt)"
   ]
  },
  {
   "cell_type": "markdown",
   "metadata": {
    "id": "UOIiJjmGZ6Ye"
   },
   "source": [
    "`-` **replace** 함수를 자주 사용하는 이유!\n",
    "\n",
    "`-` 실제 데이터 전처리 시 아래와 같은 구조가 많다."
   ]
  },
  {
   "cell_type": "markdown",
   "metadata": {
    "id": "DJl87esDaCnM"
   },
   "source": [
    "```pyton\n",
    "number = \"123,456\"\n",
    "````"
   ]
  },
  {
   "cell_type": "markdown",
   "metadata": {
    "id": "JIALYMf3aJmg"
   },
   "source": [
    "이러한 상황이 발생했을 때 `replace` 함수를 사용"
   ]
  },
  {
   "cell_type": "code",
   "execution_count": 124,
   "metadata": {
    "colab": {
     "base_uri": "https://localhost:8080/"
    },
    "executionInfo": {
     "elapsed": 455,
     "status": "ok",
     "timestamp": 1691636835389,
     "user": {
      "displayName": "ccc flkwerkdai",
      "userId": "13507850890638580947"
     },
     "user_tz": -540
    },
    "id": "3Cgje1MmaP7F",
    "outputId": "4999c28d-c7d3-4a97-a080-3ef11b93efd3"
   },
   "outputs": [
    {
     "data": {
      "text/plain": [
       "123456"
      ]
     },
     "execution_count": 124,
     "metadata": {},
     "output_type": "execute_result"
    }
   ],
   "source": [
    "number =\"123,456\"\n",
    "\n",
    "int(number.replace(\",\",\"\"))"
   ]
  },
  {
   "cell_type": "markdown",
   "metadata": {
    "id": "wlPN3ivFYuXU"
   },
   "source": [
    "## strip"
   ]
  },
  {
   "cell_type": "markdown",
   "metadata": {
    "id": "DD3_eFR4Zhol"
   },
   "source": [
    "`-` 텍스트 문자열에서 양쪽 끝에 특정 문자(공백포함)를 제거"
   ]
  },
  {
   "cell_type": "code",
   "execution_count": 119,
   "metadata": {
    "colab": {
     "base_uri": "https://localhost:8080/"
    },
    "executionInfo": {
     "elapsed": 447,
     "status": "ok",
     "timestamp": 1691636603132,
     "user": {
      "displayName": "ccc flkwerkdai",
      "userId": "13507850890638580947"
     },
     "user_tz": -540
    },
    "id": "8k7-4z5SYwi7",
    "outputId": "3b7804de-c32f-4813-80ab-e07002c18043"
   },
   "outputs": [
    {
     "name": "stdout",
     "output_type": "stream",
     "text": [
      "  ###사과%%%%  \n",
      "###사과%%%%\n",
      "  ###사과%%%%  \n",
      "사과\n"
     ]
    }
   ],
   "source": [
    "txt = \"  ###사과%%%%  \"\n",
    "print(txt)\n",
    "print(txt.strip(\" \"))\n",
    "print(txt.strip(\"#%\"))  ## 공백이 포함되어 있어서 지워지지 않는 것 같다.\n",
    "print(txt.strip(\" #%\")) ## 공백을 포함하니 깔끔하게 지워졌다."
   ]
  },
  {
   "cell_type": "markdown",
   "metadata": {
    "id": "dNi3mYNkaiUf"
   },
   "source": [
    "## split"
   ]
  },
  {
   "cell_type": "code",
   "execution_count": 160,
   "metadata": {
    "executionInfo": {
     "elapsed": 454,
     "status": "ok",
     "timestamp": 1691637498197,
     "user": {
      "displayName": "ccc flkwerkdai",
      "userId": "13507850890638580947"
     },
     "user_tz": -540
    },
    "id": "o0GdtBYHcyFD"
   },
   "outputs": [],
   "source": [
    "#| code-fold : true\n",
    "df = pd.read_csv(\"https://raw.githubusercontent.com/guebin/2021DV/master/_notebooks/covid19_20211202.csv\").iloc[1:,:]\n",
    "df = df.set_index(\"일자\").iloc[:,1:18]\n",
    "\n",
    "df = df.reset_index()\n",
    "dt = df[\"일자\"].tolist()"
   ]
  },
  {
   "cell_type": "code",
   "execution_count": 174,
   "metadata": {
    "colab": {
     "base_uri": "https://localhost:8080/"
    },
    "executionInfo": {
     "elapsed": 456,
     "status": "ok",
     "timestamp": 1691637691872,
     "user": {
      "displayName": "ccc flkwerkdai",
      "userId": "13507850890638580947"
     },
     "user_tz": -540
    },
    "id": "GbJyJc11dorL",
    "outputId": "17b30a65-8652-4420-9de4-d3c3f5cace62"
   },
   "outputs": [
    {
     "data": {
      "text/plain": [
       "['2020-01-20', '2020-01-21', '2020-01-22', '2020-01-23', '2020-01-24']"
      ]
     },
     "execution_count": 174,
     "metadata": {},
     "output_type": "execute_result"
    }
   ],
   "source": [
    "dt[:5]"
   ]
  },
  {
   "cell_type": "code",
   "execution_count": 166,
   "metadata": {
    "executionInfo": {
     "elapsed": 454,
     "status": "ok",
     "timestamp": 1691637591239,
     "user": {
      "displayName": "ccc flkwerkdai",
      "userId": "13507850890638580947"
     },
     "user_tz": -540
    },
    "id": "iuCLehPnc8bR"
   },
   "outputs": [],
   "source": [
    "year = [i.split(\"-\")[0] for i in dt]\n",
    "month = [i.split(\"-\")[1] for i in dt]\n",
    "day = [i.split(\"-\")[2] for i in dt]"
   ]
  },
  {
   "cell_type": "code",
   "execution_count": 172,
   "metadata": {
    "colab": {
     "base_uri": "https://localhost:8080/",
     "height": 206
    },
    "executionInfo": {
     "elapsed": 664,
     "status": "ok",
     "timestamp": 1691637672170,
     "user": {
      "displayName": "ccc flkwerkdai",
      "userId": "13507850890638580947"
     },
     "user_tz": -540
    },
    "id": "C2HmK8JudTZF",
    "outputId": "0e5844da-a11f-41dd-fa95-6f6579d72dc0"
   },
   "outputs": [
    {
     "data": {
      "text/html": [
       "\n",
       "\n",
       "  <div id=\"df-f3b3143a-d908-4e8c-abe5-89f03dbed630\">\n",
       "    <div class=\"colab-df-container\">\n",
       "      <div>\n",
       "<style scoped>\n",
       "    .dataframe tbody tr th:only-of-type {\n",
       "        vertical-align: middle;\n",
       "    }\n",
       "\n",
       "    .dataframe tbody tr th {\n",
       "        vertical-align: top;\n",
       "    }\n",
       "\n",
       "    .dataframe thead th {\n",
       "        text-align: right;\n",
       "    }\n",
       "</style>\n",
       "<table border=\"1\" class=\"dataframe\">\n",
       "  <thead>\n",
       "    <tr style=\"text-align: right;\">\n",
       "      <th></th>\n",
       "      <th>year</th>\n",
       "      <th>month</th>\n",
       "      <th>day</th>\n",
       "    </tr>\n",
       "  </thead>\n",
       "  <tbody>\n",
       "    <tr>\n",
       "      <th>0</th>\n",
       "      <td>2020</td>\n",
       "      <td>01</td>\n",
       "      <td>20</td>\n",
       "    </tr>\n",
       "    <tr>\n",
       "      <th>1</th>\n",
       "      <td>2020</td>\n",
       "      <td>01</td>\n",
       "      <td>21</td>\n",
       "    </tr>\n",
       "    <tr>\n",
       "      <th>2</th>\n",
       "      <td>2020</td>\n",
       "      <td>01</td>\n",
       "      <td>22</td>\n",
       "    </tr>\n",
       "    <tr>\n",
       "      <th>3</th>\n",
       "      <td>2020</td>\n",
       "      <td>01</td>\n",
       "      <td>23</td>\n",
       "    </tr>\n",
       "    <tr>\n",
       "      <th>4</th>\n",
       "      <td>2020</td>\n",
       "      <td>01</td>\n",
       "      <td>24</td>\n",
       "    </tr>\n",
       "  </tbody>\n",
       "</table>\n",
       "</div>\n",
       "      <button class=\"colab-df-convert\" onclick=\"convertToInteractive('df-f3b3143a-d908-4e8c-abe5-89f03dbed630')\"\n",
       "              title=\"Convert this dataframe to an interactive table.\"\n",
       "              style=\"display:none;\">\n",
       "\n",
       "  <svg xmlns=\"http://www.w3.org/2000/svg\" height=\"24px\"viewBox=\"0 0 24 24\"\n",
       "       width=\"24px\">\n",
       "    <path d=\"M0 0h24v24H0V0z\" fill=\"none\"/>\n",
       "    <path d=\"M18.56 5.44l.94 2.06.94-2.06 2.06-.94-2.06-.94-.94-2.06-.94 2.06-2.06.94zm-11 1L8.5 8.5l.94-2.06 2.06-.94-2.06-.94L8.5 2.5l-.94 2.06-2.06.94zm10 10l.94 2.06.94-2.06 2.06-.94-2.06-.94-.94-2.06-.94 2.06-2.06.94z\"/><path d=\"M17.41 7.96l-1.37-1.37c-.4-.4-.92-.59-1.43-.59-.52 0-1.04.2-1.43.59L10.3 9.45l-7.72 7.72c-.78.78-.78 2.05 0 2.83L4 21.41c.39.39.9.59 1.41.59.51 0 1.02-.2 1.41-.59l7.78-7.78 2.81-2.81c.8-.78.8-2.07 0-2.86zM5.41 20L4 18.59l7.72-7.72 1.47 1.35L5.41 20z\"/>\n",
       "  </svg>\n",
       "      </button>\n",
       "\n",
       "\n",
       "\n",
       "    <div id=\"df-24fc31ef-34f8-4338-bbea-3ca925fe9a5c\">\n",
       "      <button class=\"colab-df-quickchart\" onclick=\"quickchart('df-24fc31ef-34f8-4338-bbea-3ca925fe9a5c')\"\n",
       "              title=\"Suggest charts.\"\n",
       "              style=\"display:none;\">\n",
       "\n",
       "<svg xmlns=\"http://www.w3.org/2000/svg\" height=\"24px\"viewBox=\"0 0 24 24\"\n",
       "     width=\"24px\">\n",
       "    <g>\n",
       "        <path d=\"M19 3H5c-1.1 0-2 .9-2 2v14c0 1.1.9 2 2 2h14c1.1 0 2-.9 2-2V5c0-1.1-.9-2-2-2zM9 17H7v-7h2v7zm4 0h-2V7h2v10zm4 0h-2v-4h2v4z\"/>\n",
       "    </g>\n",
       "</svg>\n",
       "      </button>\n",
       "    </div>\n",
       "\n",
       "<style>\n",
       "  .colab-df-quickchart {\n",
       "    background-color: #E8F0FE;\n",
       "    border: none;\n",
       "    border-radius: 50%;\n",
       "    cursor: pointer;\n",
       "    display: none;\n",
       "    fill: #1967D2;\n",
       "    height: 32px;\n",
       "    padding: 0 0 0 0;\n",
       "    width: 32px;\n",
       "  }\n",
       "\n",
       "  .colab-df-quickchart:hover {\n",
       "    background-color: #E2EBFA;\n",
       "    box-shadow: 0px 1px 2px rgba(60, 64, 67, 0.3), 0px 1px 3px 1px rgba(60, 64, 67, 0.15);\n",
       "    fill: #174EA6;\n",
       "  }\n",
       "\n",
       "  [theme=dark] .colab-df-quickchart {\n",
       "    background-color: #3B4455;\n",
       "    fill: #D2E3FC;\n",
       "  }\n",
       "\n",
       "  [theme=dark] .colab-df-quickchart:hover {\n",
       "    background-color: #434B5C;\n",
       "    box-shadow: 0px 1px 3px 1px rgba(0, 0, 0, 0.15);\n",
       "    filter: drop-shadow(0px 1px 2px rgba(0, 0, 0, 0.3));\n",
       "    fill: #FFFFFF;\n",
       "  }\n",
       "</style>\n",
       "\n",
       "    <script>\n",
       "      async function quickchart(key) {\n",
       "        const containerElement = document.querySelector('#' + key);\n",
       "        const charts = await google.colab.kernel.invokeFunction(\n",
       "            'suggestCharts', [key], {});\n",
       "      }\n",
       "    </script>\n",
       "\n",
       "      <script>\n",
       "\n",
       "function displayQuickchartButton(domScope) {\n",
       "  let quickchartButtonEl =\n",
       "    domScope.querySelector('#df-24fc31ef-34f8-4338-bbea-3ca925fe9a5c button.colab-df-quickchart');\n",
       "  quickchartButtonEl.style.display =\n",
       "    google.colab.kernel.accessAllowed ? 'block' : 'none';\n",
       "}\n",
       "\n",
       "        displayQuickchartButton(document);\n",
       "      </script>\n",
       "      <style>\n",
       "    .colab-df-container {\n",
       "      display:flex;\n",
       "      flex-wrap:wrap;\n",
       "      gap: 12px;\n",
       "    }\n",
       "\n",
       "    .colab-df-convert {\n",
       "      background-color: #E8F0FE;\n",
       "      border: none;\n",
       "      border-radius: 50%;\n",
       "      cursor: pointer;\n",
       "      display: none;\n",
       "      fill: #1967D2;\n",
       "      height: 32px;\n",
       "      padding: 0 0 0 0;\n",
       "      width: 32px;\n",
       "    }\n",
       "\n",
       "    .colab-df-convert:hover {\n",
       "      background-color: #E2EBFA;\n",
       "      box-shadow: 0px 1px 2px rgba(60, 64, 67, 0.3), 0px 1px 3px 1px rgba(60, 64, 67, 0.15);\n",
       "      fill: #174EA6;\n",
       "    }\n",
       "\n",
       "    [theme=dark] .colab-df-convert {\n",
       "      background-color: #3B4455;\n",
       "      fill: #D2E3FC;\n",
       "    }\n",
       "\n",
       "    [theme=dark] .colab-df-convert:hover {\n",
       "      background-color: #434B5C;\n",
       "      box-shadow: 0px 1px 3px 1px rgba(0, 0, 0, 0.15);\n",
       "      filter: drop-shadow(0px 1px 2px rgba(0, 0, 0, 0.3));\n",
       "      fill: #FFFFFF;\n",
       "    }\n",
       "  </style>\n",
       "\n",
       "      <script>\n",
       "        const buttonEl =\n",
       "          document.querySelector('#df-f3b3143a-d908-4e8c-abe5-89f03dbed630 button.colab-df-convert');\n",
       "        buttonEl.style.display =\n",
       "          google.colab.kernel.accessAllowed ? 'block' : 'none';\n",
       "\n",
       "        async function convertToInteractive(key) {\n",
       "          const element = document.querySelector('#df-f3b3143a-d908-4e8c-abe5-89f03dbed630');\n",
       "          const dataTable =\n",
       "            await google.colab.kernel.invokeFunction('convertToInteractive',\n",
       "                                                     [key], {});\n",
       "          if (!dataTable) return;\n",
       "\n",
       "          const docLinkHtml = 'Like what you see? Visit the ' +\n",
       "            '<a target=\"_blank\" href=https://colab.research.google.com/notebooks/data_table.ipynb>data table notebook</a>'\n",
       "            + ' to learn more about interactive tables.';\n",
       "          element.innerHTML = '';\n",
       "          dataTable['output_type'] = 'display_data';\n",
       "          await google.colab.output.renderOutput(dataTable, element);\n",
       "          const docLink = document.createElement('div');\n",
       "          docLink.innerHTML = docLinkHtml;\n",
       "          element.appendChild(docLink);\n",
       "        }\n",
       "      </script>\n",
       "    </div>\n",
       "  </div>\n"
      ],
      "text/plain": [
       "   year month day\n",
       "0  2020    01  20\n",
       "1  2020    01  21\n",
       "2  2020    01  22\n",
       "3  2020    01  23\n",
       "4  2020    01  24"
      ]
     },
     "execution_count": 172,
     "metadata": {},
     "output_type": "execute_result"
    }
   ],
   "source": [
    "new_df = pd.DataFrame({\"year\": year,\n",
    "                       \"month\": month,\n",
    "                       \"day\" : day})\n",
    "new_df.head()"
   ]
  },
  {
   "cell_type": "markdown",
   "metadata": {
    "id": "VVGCGF0ZeGj-"
   },
   "source": [
    "## join"
   ]
  },
  {
   "cell_type": "code",
   "execution_count": 180,
   "metadata": {
    "executionInfo": {
     "elapsed": 301,
     "status": "ok",
     "timestamp": 1691637971675,
     "user": {
      "displayName": "ccc flkwerkdai",
      "userId": "13507850890638580947"
     },
     "user_tz": -540
    },
    "id": "aBhMs9EheIL1"
   },
   "outputs": [],
   "source": [
    "date = [(\"-\").join([year[i],month[i],day[i]]) for i in range(len(dt))]"
   ]
  },
  {
   "cell_type": "code",
   "execution_count": 181,
   "metadata": {
    "colab": {
     "base_uri": "https://localhost:8080/"
    },
    "executionInfo": {
     "elapsed": 466,
     "status": "ok",
     "timestamp": 1691637978726,
     "user": {
      "displayName": "ccc flkwerkdai",
      "userId": "13507850890638580947"
     },
     "user_tz": -540
    },
    "id": "CUeKwuN1evz5",
    "outputId": "7bfdbeaf-0f7a-4516-da92-1131fb8282da"
   },
   "outputs": [
    {
     "data": {
      "text/plain": [
       "['2020-01-20', '2020-01-21', '2020-01-22', '2020-01-23', '2020-01-24']"
      ]
     },
     "execution_count": 181,
     "metadata": {},
     "output_type": "execute_result"
    }
   ],
   "source": [
    "date[:5]"
   ]
  },
  {
   "cell_type": "code",
   "execution_count": null,
   "metadata": {
    "id": "Sr_s6yVex6r6"
   },
   "outputs": [],
   "source": []
  }
 ],
 "metadata": {
  "colab": {
   "authorship_tag": "ABX9TyPjaog4B5D0uoqA+QesWfW/",
   "provenance": [],
   "toc_visible": true
  },
  "kernelspec": {
   "display_name": "Python 3 (ipykernel)",
   "language": "python",
   "name": "python3"
  },
  "language_info": {
   "codemirror_mode": {
    "name": "ipython",
    "version": 3
   },
   "file_extension": ".py",
   "mimetype": "text/x-python",
   "name": "python",
   "nbconvert_exporter": "python",
   "pygments_lexer": "ipython3",
   "version": "3.11.4"
  }
 },
 "nbformat": 4,
 "nbformat_minor": 4
}
