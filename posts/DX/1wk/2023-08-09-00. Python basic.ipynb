{
 "cells": [
  {
   "cell_type": "raw",
   "metadata": {},
   "source": [
    "---\n",
    "title : \"00. Python basic\"\n",
    "author : \"GC\"\n",
    "date : \"08/09/23\"\n",
    "categories : [\"DX\"]\n",
    "---"
   ]
  },
  {
   "cell_type": "markdown",
   "metadata": {
    "id": "kuJSmtdxvoKM"
   },
   "source": [
    "# 드라이브 마운트"
   ]
  },
  {
   "cell_type": "code",
   "execution_count": null,
   "metadata": {
    "colab": {
     "base_uri": "https://localhost:8080/"
    },
    "executionInfo": {
     "elapsed": 1759,
     "status": "ok",
     "timestamp": 1691544162021,
     "user": {
      "displayName": "ccc flkwerkdai",
      "userId": "13507850890638580947"
     },
     "user_tz": -540
    },
    "id": "qFrRq2DhzfxH",
    "outputId": "526bcdc8-d370-4c3f-db41-f16486b2e52e"
   },
   "outputs": [
    {
     "name": "stdout",
     "output_type": "stream",
     "text": [
      "Drive already mounted at /content/drive; to attempt to forcibly remount, call drive.mount(\"/content/drive\", force_remount=True).\n"
     ]
    }
   ],
   "source": [
    "from google.colab import drive\n",
    "drive.mount('/content/drive')"
   ]
  },
  {
   "cell_type": "code",
   "execution_count": null,
   "metadata": {
    "colab": {
     "base_uri": "https://localhost:8080/"
    },
    "executionInfo": {
     "elapsed": 4,
     "status": "ok",
     "timestamp": 1691544170922,
     "user": {
      "displayName": "ccc flkwerkdai",
      "userId": "13507850890638580947"
     },
     "user_tz": -540
    },
    "id": "6vxVo7rRzpdW",
    "outputId": "b189e686-a590-48dc-880a-e78ac860f1ee"
   },
   "outputs": [
    {
     "name": "stdout",
     "output_type": "stream",
     "text": [
      "/content/drive/MyDrive/Colab Notebooks/DX/1wk\n"
     ]
    }
   ],
   "source": [
    "cd /content/drive/MyDrive/Colab Notebooks/DX/1wk"
   ]
  },
  {
   "cell_type": "markdown",
   "metadata": {
    "id": "G5t-yJO7F8Sf"
   },
   "source": [
    "# 1. 연산자"
   ]
  },
  {
   "cell_type": "markdown",
   "metadata": {
    "id": "ZtPy7JJLF_I7"
   },
   "source": [
    "`-` 더하기"
   ]
  },
  {
   "cell_type": "code",
   "execution_count": null,
   "metadata": {
    "colab": {
     "base_uri": "https://localhost:8080/"
    },
    "executionInfo": {
     "elapsed": 3,
     "status": "ok",
     "timestamp": 1691547646776,
     "user": {
      "displayName": "ccc flkwerkdai",
      "userId": "13507850890638580947"
     },
     "user_tz": -540
    },
    "id": "rB06QawzGFKu",
    "outputId": "ad39613f-07d1-490d-9c94-1e0343dd248f"
   },
   "outputs": [
    {
     "data": {
      "text/plain": [
       "27"
      ]
     },
     "execution_count": 10,
     "metadata": {},
     "output_type": "execute_result"
    }
   ],
   "source": [
    "21 + 6"
   ]
  },
  {
   "cell_type": "markdown",
   "metadata": {
    "id": "M-3lmjJuGIO9"
   },
   "source": [
    "`-` 뻬기"
   ]
  },
  {
   "cell_type": "code",
   "execution_count": null,
   "metadata": {
    "colab": {
     "base_uri": "https://localhost:8080/"
    },
    "executionInfo": {
     "elapsed": 5,
     "status": "ok",
     "timestamp": 1691547654766,
     "user": {
      "displayName": "ccc flkwerkdai",
      "userId": "13507850890638580947"
     },
     "user_tz": -540
    },
    "id": "Q9rEPhJWGMR_",
    "outputId": "62992b56-44ae-477b-f0c7-cd6943dad989"
   },
   "outputs": [
    {
     "data": {
      "text/plain": [
       "15"
      ]
     },
     "execution_count": 11,
     "metadata": {},
     "output_type": "execute_result"
    }
   ],
   "source": [
    "21-6"
   ]
  },
  {
   "cell_type": "markdown",
   "metadata": {
    "id": "jxmprMhLGNtL"
   },
   "source": [
    "`-` 곱하기"
   ]
  },
  {
   "cell_type": "code",
   "execution_count": null,
   "metadata": {
    "colab": {
     "base_uri": "https://localhost:8080/"
    },
    "executionInfo": {
     "elapsed": 3,
     "status": "ok",
     "timestamp": 1691547670362,
     "user": {
      "displayName": "ccc flkwerkdai",
      "userId": "13507850890638580947"
     },
     "user_tz": -540
    },
    "id": "uAi6i2giGPiQ",
    "outputId": "fa7864cf-a2e1-4171-b2de-f9846fb1d1d8"
   },
   "outputs": [
    {
     "data": {
      "text/plain": [
       "126"
      ]
     },
     "execution_count": 13,
     "metadata": {},
     "output_type": "execute_result"
    }
   ],
   "source": [
    "21*6"
   ]
  },
  {
   "cell_type": "markdown",
   "metadata": {
    "id": "xlC3_RUPHYnK"
   },
   "source": [
    "`-` 지수승"
   ]
  },
  {
   "cell_type": "code",
   "execution_count": null,
   "metadata": {
    "colab": {
     "base_uri": "https://localhost:8080/"
    },
    "executionInfo": {
     "elapsed": 4,
     "status": "ok",
     "timestamp": 1691547981993,
     "user": {
      "displayName": "ccc flkwerkdai",
      "userId": "13507850890638580947"
     },
     "user_tz": -540
    },
    "id": "8GJMGRftHbzQ",
    "outputId": "0f5d6f59-a5f1-4f84-9e76-3bc9048e4d09"
   },
   "outputs": [
    {
     "data": {
      "text/plain": [
       "1024"
      ]
     },
     "execution_count": 27,
     "metadata": {},
     "output_type": "execute_result"
    }
   ],
   "source": [
    "2**10"
   ]
  },
  {
   "cell_type": "markdown",
   "metadata": {
    "id": "AWjNNJx-GKIN"
   },
   "source": [
    "`-` 나누기"
   ]
  },
  {
   "cell_type": "code",
   "execution_count": null,
   "metadata": {
    "colab": {
     "base_uri": "https://localhost:8080/"
    },
    "executionInfo": {
     "elapsed": 2,
     "status": "ok",
     "timestamp": 1691547688592,
     "user": {
      "displayName": "ccc flkwerkdai",
      "userId": "13507850890638580947"
     },
     "user_tz": -540
    },
    "id": "GFwFpgPLGVEQ",
    "outputId": "791203a1-7503-4be6-cc83-6b71e51daad1"
   },
   "outputs": [
    {
     "data": {
      "text/plain": [
       "3.5"
      ]
     },
     "execution_count": 14,
     "metadata": {},
     "output_type": "execute_result"
    }
   ],
   "source": [
    "21/6"
   ]
  },
  {
   "cell_type": "markdown",
   "metadata": {
    "id": "uGmngUPtGX3j"
   },
   "source": [
    "`-` 나누기(몫)"
   ]
  },
  {
   "cell_type": "code",
   "execution_count": null,
   "metadata": {
    "colab": {
     "base_uri": "https://localhost:8080/"
    },
    "executionInfo": {
     "elapsed": 3,
     "status": "ok",
     "timestamp": 1691547708173,
     "user": {
      "displayName": "ccc flkwerkdai",
      "userId": "13507850890638580947"
     },
     "user_tz": -540
    },
    "id": "DOCZVqAGGZ-k",
    "outputId": "5509a84b-cf93-4454-a992-7d55c4471adc"
   },
   "outputs": [
    {
     "data": {
      "text/plain": [
       "3"
      ]
     },
     "execution_count": 15,
     "metadata": {},
     "output_type": "execute_result"
    }
   ],
   "source": [
    "21//6"
   ]
  },
  {
   "cell_type": "markdown",
   "metadata": {
    "id": "5edc7so4GbAm"
   },
   "source": [
    "`-` 나누기(나머지)"
   ]
  },
  {
   "cell_type": "code",
   "execution_count": null,
   "metadata": {
    "colab": {
     "base_uri": "https://localhost:8080/"
    },
    "executionInfo": {
     "elapsed": 410,
     "status": "ok",
     "timestamp": 1691547755502,
     "user": {
      "displayName": "ccc flkwerkdai",
      "userId": "13507850890638580947"
     },
     "user_tz": -540
    },
    "id": "jqA3gupSGdNC",
    "outputId": "bcbe4c72-f040-4489-f0cb-0cc0cb8351dc"
   },
   "outputs": [
    {
     "data": {
      "text/plain": [
       "3"
      ]
     },
     "execution_count": 18,
     "metadata": {},
     "output_type": "execute_result"
    }
   ],
   "source": [
    "21%6"
   ]
  },
  {
   "cell_type": "markdown",
   "metadata": {
    "id": "9p5AaFs2Gmoj"
   },
   "source": [
    "## ex1) 홀수 짝수 구분"
   ]
  },
  {
   "cell_type": "code",
   "execution_count": null,
   "metadata": {
    "colab": {
     "base_uri": "https://localhost:8080/"
    },
    "executionInfo": {
     "elapsed": 4,
     "status": "ok",
     "timestamp": 1691547820398,
     "user": {
      "displayName": "ccc flkwerkdai",
      "userId": "13507850890638580947"
     },
     "user_tz": -540
    },
    "id": "ZpToYuDsGx8m",
    "outputId": "6775d48f-20c5-4025-b8dc-a102430f44ad"
   },
   "outputs": [
    {
     "data": {
      "text/plain": [
       "[1, 2, 3, 4, 5, 6, 7, 8, 9]"
      ]
     },
     "execution_count": 19,
     "metadata": {},
     "output_type": "execute_result"
    }
   ],
   "source": [
    "lst = list(range(1,10))\n",
    "lst"
   ]
  },
  {
   "cell_type": "markdown",
   "metadata": {
    "id": "URO-7yZYHITY"
   },
   "source": [
    "### sol"
   ]
  },
  {
   "cell_type": "code",
   "execution_count": null,
   "metadata": {
    "id": "yq77VldeG2Dy"
   },
   "outputs": [],
   "source": [
    "odd = [i for i in lst if i % 2 == 1]\n",
    "evn = [i for i in lst if i % 2 == 0]"
   ]
  },
  {
   "cell_type": "code",
   "execution_count": null,
   "metadata": {
    "colab": {
     "base_uri": "https://localhost:8080/"
    },
    "executionInfo": {
     "elapsed": 5,
     "status": "ok",
     "timestamp": 1691547937553,
     "user": {
      "displayName": "ccc flkwerkdai",
      "userId": "13507850890638580947"
     },
     "user_tz": -540
    },
    "id": "VoxHiV_QHGje",
    "outputId": "2dabe8ab-69ad-47c0-bca8-e6c7bf1caf1a"
   },
   "outputs": [
    {
     "data": {
      "text/plain": [
       "[1, 3, 5, 7, 9]"
      ]
     },
     "execution_count": 24,
     "metadata": {},
     "output_type": "execute_result"
    }
   ],
   "source": [
    "odd"
   ]
  },
  {
   "cell_type": "code",
   "execution_count": null,
   "metadata": {
    "colab": {
     "base_uri": "https://localhost:8080/"
    },
    "executionInfo": {
     "elapsed": 3,
     "status": "ok",
     "timestamp": 1691547940540,
     "user": {
      "displayName": "ccc flkwerkdai",
      "userId": "13507850890638580947"
     },
     "user_tz": -540
    },
    "id": "EtKnmtcpHSwK",
    "outputId": "6240f958-8bac-4194-efb1-e1333b821f42"
   },
   "outputs": [
    {
     "data": {
      "text/plain": [
       "[2, 4, 6, 8]"
      ]
     },
     "execution_count": 25,
     "metadata": {},
     "output_type": "execute_result"
    }
   ],
   "source": [
    "evn"
   ]
  },
  {
   "cell_type": "markdown",
   "metadata": {
    "id": "KyiLCcDTL9CT"
   },
   "source": [
    "## ex2) 특정 숫자가 입력되었을 때 각 자리의 숫자를 구하기"
   ]
  },
  {
   "cell_type": "markdown",
   "metadata": {
    "id": "0ioEQK5DM6_W"
   },
   "source": [
    "### sol"
   ]
  },
  {
   "cell_type": "code",
   "execution_count": null,
   "metadata": {
    "colab": {
     "base_uri": "https://localhost:8080/"
    },
    "executionInfo": {
     "elapsed": 1660,
     "status": "ok",
     "timestamp": 1691549409474,
     "user": {
      "displayName": "ccc flkwerkdai",
      "userId": "13507850890638580947"
     },
     "user_tz": -540
    },
    "id": "NLzp2iepMCgv",
    "outputId": "e0b60bc8-e224-4e0f-c0fa-9298cc76c781"
   },
   "outputs": [
    {
     "name": "stdout",
     "output_type": "stream",
     "text": [
      "254\n",
      "백의자리는 2, 십의자리는 5, 일의 자리는 4\n"
     ]
    }
   ],
   "source": [
    "num  = int(input())\n",
    "\n",
    "a = num // 100\n",
    "\n",
    "b = (num - a*100) // 10\n",
    "\n",
    "c = num-(a*100+b*10)\n",
    "\n",
    "print(\"백의자리는 {}, 십의자리는 {}, 일의 자리는 {}\".format(a,b,c))"
   ]
  },
  {
   "cell_type": "markdown",
   "metadata": {
    "id": "8wTXoUWISbWR"
   },
   "source": [
    "## ex3) 합과 평균"
   ]
  },
  {
   "cell_type": "markdown",
   "metadata": {
    "id": "PrCzCdskUXJ9"
   },
   "source": [
    "### sol"
   ]
  },
  {
   "cell_type": "code",
   "execution_count": null,
   "metadata": {
    "id": "fANFXEEwSrXH"
   },
   "outputs": [],
   "source": [
    "import numpy as np"
   ]
  },
  {
   "cell_type": "code",
   "execution_count": null,
   "metadata": {
    "id": "kZks3gMASgbd"
   },
   "outputs": [],
   "source": [
    "s = list(range(1,10))\n",
    "\n",
    "\n",
    "summ = sum(s)\n",
    "\n",
    "ave = np.mean(s)"
   ]
  },
  {
   "cell_type": "code",
   "execution_count": null,
   "metadata": {
    "colab": {
     "base_uri": "https://localhost:8080/"
    },
    "executionInfo": {
     "elapsed": 318,
     "status": "ok",
     "timestamp": 1691551031425,
     "user": {
      "displayName": "ccc flkwerkdai",
      "userId": "13507850890638580947"
     },
     "user_tz": -540
    },
    "id": "225Mi565St8R",
    "outputId": "d46af06e-56f1-4002-b2eb-3b511c231aed"
   },
   "outputs": [
    {
     "name": "stdout",
     "output_type": "stream",
     "text": [
      "합 : 45, 평균: 5.0\n"
     ]
    }
   ],
   "source": [
    "print(\"합 : {}, 평균: {}\".format(summ,ave))"
   ]
  },
  {
   "cell_type": "markdown",
   "metadata": {
    "id": "iMg0GZ0pUWws"
   },
   "source": [
    "## ex4) 비교 연산자"
   ]
  },
  {
   "cell_type": "markdown",
   "metadata": {
    "id": "E5swfXe1Uvyn"
   },
   "source": [
    "`-` 숫자 비교"
   ]
  },
  {
   "cell_type": "code",
   "execution_count": null,
   "metadata": {
    "id": "I-wpyj3SUy_b"
   },
   "outputs": [],
   "source": [
    "a = list(range(1,11))\n",
    "b = list(range(11,21))"
   ]
  },
  {
   "cell_type": "code",
   "execution_count": null,
   "metadata": {
    "colab": {
     "base_uri": "https://localhost:8080/"
    },
    "executionInfo": {
     "elapsed": 3,
     "status": "ok",
     "timestamp": 1691551523137,
     "user": {
      "displayName": "ccc flkwerkdai",
      "userId": "13507850890638580947"
     },
     "user_tz": -540
    },
    "id": "O5-V-YdaU9Ox",
    "outputId": "82f59d9f-1152-4a89-f3f5-9eced9e16797"
   },
   "outputs": [
    {
     "data": {
      "text/plain": [
       "([1, 2, 3, 4, 5, 6, 7, 8, 9, 10], [11, 12, 13, 14, 15, 16, 17, 18, 19, 20])"
      ]
     },
     "execution_count": 49,
     "metadata": {},
     "output_type": "execute_result"
    }
   ],
   "source": [
    "a, b"
   ]
  },
  {
   "cell_type": "code",
   "execution_count": null,
   "metadata": {
    "colab": {
     "base_uri": "https://localhost:8080/"
    },
    "executionInfo": {
     "elapsed": 275,
     "status": "ok",
     "timestamp": 1691551569624,
     "user": {
      "displayName": "ccc flkwerkdai",
      "userId": "13507850890638580947"
     },
     "user_tz": -540
    },
    "id": "psNzdo6eUoJr",
    "outputId": "b5b73602-287e-495e-c9b2-37ee583b1d64"
   },
   "outputs": [
    {
     "data": {
      "text/plain": [
       "[False, False, False, False, False, False, False, False, False, False]"
      ]
     },
     "execution_count": 51,
     "metadata": {},
     "output_type": "execute_result"
    }
   ],
   "source": [
    "[a[i] == b[i] for i in range(10)]"
   ]
  },
  {
   "cell_type": "markdown",
   "metadata": {
    "id": "stp3dixrVKQf"
   },
   "source": [
    "`-` 문자 비교"
   ]
  },
  {
   "cell_type": "code",
   "execution_count": null,
   "metadata": {
    "colab": {
     "base_uri": "https://localhost:8080/"
    },
    "executionInfo": {
     "elapsed": 277,
     "status": "ok",
     "timestamp": 1691551647316,
     "user": {
      "displayName": "ccc flkwerkdai",
      "userId": "13507850890638580947"
     },
     "user_tz": -540
    },
    "id": "qXJbUZYnVLcu",
    "outputId": "6fb7b824-1b39-4128-e4b8-bb3e6fb404d3"
   },
   "outputs": [
    {
     "data": {
      "text/plain": [
       "(False, False)"
      ]
     },
     "execution_count": 56,
     "metadata": {},
     "output_type": "execute_result"
    }
   ],
   "source": [
    "(\"A\" == \"a\"), (\"A\" >\"a\")"
   ]
  },
  {
   "cell_type": "code",
   "execution_count": null,
   "metadata": {
    "colab": {
     "base_uri": "https://localhost:8080/"
    },
    "executionInfo": {
     "elapsed": 277,
     "status": "ok",
     "timestamp": 1691551629272,
     "user": {
      "displayName": "ccc flkwerkdai",
      "userId": "13507850890638580947"
     },
     "user_tz": -540
    },
    "id": "uLZ7nUilVPdG",
    "outputId": "4b4350f6-0e50-4616-b259-ee19e18b177c"
   },
   "outputs": [
    {
     "data": {
      "text/plain": [
       "(65, 97)"
      ]
     },
     "execution_count": 55,
     "metadata": {},
     "output_type": "execute_result"
    }
   ],
   "source": [
    "ord(\"A\"), ord(\"a\")"
   ]
  },
  {
   "cell_type": "markdown",
   "metadata": {
    "id": "ojSfdy3aVYNi"
   },
   "source": [
    "# 2. 자료형"
   ]
  },
  {
   "cell_type": "markdown",
   "metadata": {
    "id": "jqCM3u1ltB32"
   },
   "source": [
    "## 대표적인 자료형"
   ]
  },
  {
   "cell_type": "markdown",
   "metadata": {
    "id": "3H6SwE0utYpw"
   },
   "source": [
    "|int|float|bool|str|complex|\n",
    "|:---:|:---:|:---:|:---:|:---: |\n",
    "|3|3.14|True|\"강철\"|3+2j|\n",
    "|5|3.141551|False|\"이강철\"|2-2j|"
   ]
  },
  {
   "cell_type": "markdown",
   "metadata": {
    "id": "9o1nc-fluDCk"
   },
   "source": [
    "## 형태변환"
   ]
  },
  {
   "cell_type": "markdown",
   "metadata": {
    "id": "ZsZzvkLquR17"
   },
   "source": [
    "### float $\\to$ int"
   ]
  },
  {
   "cell_type": "markdown",
   "metadata": {
    "id": "xTmzjjxSuLsW"
   },
   "source": [
    "`-` 아래의 경우는 형태변환이 되었으나 정보의 손실이 발생한 것임"
   ]
  },
  {
   "cell_type": "code",
   "execution_count": null,
   "metadata": {
    "id": "MTn0ZCZzuGcR"
   },
   "outputs": [],
   "source": [
    "a = 3.4\n",
    "\n",
    "_a = int(a)"
   ]
  },
  {
   "cell_type": "code",
   "execution_count": null,
   "metadata": {
    "colab": {
     "base_uri": "https://localhost:8080/"
    },
    "executionInfo": {
     "elapsed": 3,
     "status": "ok",
     "timestamp": 1691558125650,
     "user": {
      "displayName": "ccc flkwerkdai",
      "userId": "13507850890638580947"
     },
     "user_tz": -540
    },
    "id": "QfGGxAM7uJLr",
    "outputId": "f39aa639-d604-4934-931e-2bcc43829157"
   },
   "outputs": [
    {
     "data": {
      "text/plain": [
       "(float, int)"
      ]
     },
     "execution_count": 66,
     "metadata": {},
     "output_type": "execute_result"
    }
   ],
   "source": [
    "type(a), type(_a)"
   ]
  },
  {
   "cell_type": "markdown",
   "metadata": {
    "id": "-iVoICQNuYQ9"
   },
   "source": [
    "### $\\text{bool} \\to \\text{(float, int)}\\,\\text{and}\\,  \\text{(float, int)}  \\to \\text{bool}$"
   ]
  },
  {
   "cell_type": "markdown",
   "metadata": {
    "id": "un6JyAj3vAN5"
   },
   "source": [
    "`-` bool $\\to$ int, float"
   ]
  },
  {
   "cell_type": "code",
   "execution_count": null,
   "metadata": {
    "id": "4pfeUVHnu7l0"
   },
   "outputs": [],
   "source": [
    "a = True\n",
    "_a1 = float(a)\n",
    "_a2 = int(a)"
   ]
  },
  {
   "cell_type": "code",
   "execution_count": null,
   "metadata": {
    "colab": {
     "base_uri": "https://localhost:8080/"
    },
    "executionInfo": {
     "elapsed": 276,
     "status": "ok",
     "timestamp": 1691558336572,
     "user": {
      "displayName": "ccc flkwerkdai",
      "userId": "13507850890638580947"
     },
     "user_tz": -540
    },
    "id": "PfL9AEnWu84M",
    "outputId": "3feee442-7915-4efc-b66f-e633bd2a52f5"
   },
   "outputs": [
    {
     "data": {
      "text/plain": [
       "(bool, float, int)"
      ]
     },
     "execution_count": 68,
     "metadata": {},
     "output_type": "execute_result"
    }
   ],
   "source": [
    "type(a), type(_a1), type(_a2)"
   ]
  },
  {
   "cell_type": "markdown",
   "metadata": {
    "id": "V-m_NhvhvEdq"
   },
   "source": [
    "`-`  int, float $\\to$ bool"
   ]
  },
  {
   "cell_type": "code",
   "execution_count": null,
   "metadata": {
    "id": "4lkc1v18vJVV"
   },
   "outputs": [],
   "source": [
    "a1 = 1\n",
    "a2 = 1.0\n",
    "\n",
    "_a1 = bool(a1)\n",
    "_a2 = bool(a2)"
   ]
  },
  {
   "cell_type": "code",
   "execution_count": null,
   "metadata": {
    "colab": {
     "base_uri": "https://localhost:8080/"
    },
    "executionInfo": {
     "elapsed": 4,
     "status": "ok",
     "timestamp": 1691558425532,
     "user": {
      "displayName": "ccc flkwerkdai",
      "userId": "13507850890638580947"
     },
     "user_tz": -540
    },
    "id": "aiSA1EnVvKbD",
    "outputId": "36e36546-96b8-4cdd-a8d1-32cb4dac9e29"
   },
   "outputs": [
    {
     "data": {
      "text/plain": [
       "(True, True, bool, bool)"
      ]
     },
     "execution_count": 72,
     "metadata": {},
     "output_type": "execute_result"
    }
   ],
   "source": [
    "_a1, _a2, type(_a1), type(_a2)"
   ]
  },
  {
   "cell_type": "markdown",
   "metadata": {
    "id": "_ZxpfyvZwDqw"
   },
   "source": [
    "`-`  str $\\to$ bool"
   ]
  },
  {
   "cell_type": "code",
   "execution_count": null,
   "metadata": {
    "colab": {
     "base_uri": "https://localhost:8080/"
    },
    "executionInfo": {
     "elapsed": 296,
     "status": "ok",
     "timestamp": 1691558648617,
     "user": {
      "displayName": "ccc flkwerkdai",
      "userId": "13507850890638580947"
     },
     "user_tz": -540
    },
    "id": "OMGkxMKswG7q",
    "outputId": "8ede7b6b-c4ec-42c5-f695-51e73bffd354"
   },
   "outputs": [
    {
     "data": {
      "text/plain": [
       "True"
      ]
     },
     "execution_count": 80,
     "metadata": {},
     "output_type": "execute_result"
    }
   ],
   "source": [
    "bool(\"강철\")"
   ]
  },
  {
   "cell_type": "code",
   "execution_count": null,
   "metadata": {
    "colab": {
     "base_uri": "https://localhost:8080/"
    },
    "executionInfo": {
     "elapsed": 278,
     "status": "ok",
     "timestamp": 1691559790719,
     "user": {
      "displayName": "ccc flkwerkdai",
      "userId": "13507850890638580947"
     },
     "user_tz": -540
    },
    "id": "QnSK4lD00edQ",
    "outputId": "887ea293-15df-478b-ae89-ae972f7afc83"
   },
   "outputs": [
    {
     "data": {
      "text/plain": [
       "False"
      ]
     },
     "execution_count": 84,
     "metadata": {},
     "output_type": "execute_result"
    }
   ],
   "source": [
    "bool(\"\")"
   ]
  },
  {
   "cell_type": "markdown",
   "metadata": {
    "id": "y7kDX2eUvZzY"
   },
   "source": [
    "### 암묵적 형변환"
   ]
  },
  {
   "cell_type": "code",
   "execution_count": null,
   "metadata": {
    "colab": {
     "base_uri": "https://localhost:8080/"
    },
    "executionInfo": {
     "elapsed": 2,
     "status": "ok",
     "timestamp": 1691558472241,
     "user": {
      "displayName": "ccc flkwerkdai",
      "userId": "13507850890638580947"
     },
     "user_tz": -540
    },
    "id": "rQSJHZqqvc32",
    "outputId": "8e2d3c07-a3e3-437f-9251-1d1302d90699"
   },
   "outputs": [
    {
     "data": {
      "text/plain": [
       "2"
      ]
     },
     "execution_count": 73,
     "metadata": {},
     "output_type": "execute_result"
    }
   ],
   "source": [
    "True +1"
   ]
  },
  {
   "cell_type": "code",
   "execution_count": null,
   "metadata": {
    "colab": {
     "base_uri": "https://localhost:8080/"
    },
    "executionInfo": {
     "elapsed": 2,
     "status": "ok",
     "timestamp": 1691558477961,
     "user": {
      "displayName": "ccc flkwerkdai",
      "userId": "13507850890638580947"
     },
     "user_tz": -540
    },
    "id": "2ci4U1rDvevD",
    "outputId": "f177dfdf-6b31-4941-b07c-9762b32bff5d"
   },
   "outputs": [
    {
     "data": {
      "text/plain": [
       "1.0"
      ]
     },
     "execution_count": 74,
     "metadata": {},
     "output_type": "execute_result"
    }
   ],
   "source": [
    "1*1.0"
   ]
  },
  {
   "cell_type": "code",
   "execution_count": null,
   "metadata": {
    "colab": {
     "base_uri": "https://localhost:8080/"
    },
    "executionInfo": {
     "elapsed": 3,
     "status": "ok",
     "timestamp": 1691558482990,
     "user": {
      "displayName": "ccc flkwerkdai",
      "userId": "13507850890638580947"
     },
     "user_tz": -540
    },
    "id": "YsI76cl5vgMX",
    "outputId": "52495ff7-9ad0-4bed-9965-cac98e06f2f9"
   },
   "outputs": [
    {
     "data": {
      "text/plain": [
       "2"
      ]
     },
     "execution_count": 75,
     "metadata": {},
     "output_type": "execute_result"
    }
   ],
   "source": [
    "True + True"
   ]
  },
  {
   "cell_type": "markdown",
   "metadata": {
    "id": "eBJNaF4-vhmd"
   },
   "source": [
    "### 형태변환이 불가능한 경우"
   ]
  },
  {
   "cell_type": "code",
   "execution_count": null,
   "metadata": {
    "colab": {
     "base_uri": "https://localhost:8080/"
    },
    "executionInfo": {
     "elapsed": 2,
     "status": "ok",
     "timestamp": 1691558517033,
     "user": {
      "displayName": "ccc flkwerkdai",
      "userId": "13507850890638580947"
     },
     "user_tz": -540
    },
    "id": "S8PNVyqjvmVu",
    "outputId": "bf92501a-1238-4f11-d3ae-74e1f674fec2"
   },
   "outputs": [
    {
     "data": {
      "text/plain": [
       "(3+0j)"
      ]
     },
     "execution_count": 77,
     "metadata": {},
     "output_type": "execute_result"
    }
   ],
   "source": [
    "complex1 = 3+ 0j\n",
    "complex1"
   ]
  },
  {
   "cell_type": "markdown",
   "metadata": {
    "id": "iud4TZhpv1Mr"
   },
   "source": [
    "```python\n",
    "float(complex1) ## 에러 발생\n",
    "```"
   ]
  },
  {
   "cell_type": "markdown",
   "metadata": {
    "id": "7RwzMzKSv7fU"
   },
   "source": [
    "### 문자열의 사칙연산(O)"
   ]
  },
  {
   "cell_type": "code",
   "execution_count": null,
   "metadata": {
    "colab": {
     "base_uri": "https://localhost:8080/",
     "height": 36
    },
    "executionInfo": {
     "elapsed": 321,
     "status": "ok",
     "timestamp": 1691558690069,
     "user": {
      "displayName": "ccc flkwerkdai",
      "userId": "13507850890638580947"
     },
     "user_tz": -540
    },
    "id": "k3Sczl-OwRJs",
    "outputId": "aa211f41-9ce2-4fcf-ad75-7869913a5618"
   },
   "outputs": [
    {
     "data": {
      "application/vnd.google.colaboratory.intrinsic+json": {
       "type": "string"
      },
      "text/plain": [
       "'X2'"
      ]
     },
     "execution_count": 81,
     "metadata": {},
     "output_type": "execute_result"
    }
   ],
   "source": [
    "\"X\" + \"2\""
   ]
  },
  {
   "cell_type": "code",
   "execution_count": null,
   "metadata": {
    "colab": {
     "base_uri": "https://localhost:8080/",
     "height": 36
    },
    "executionInfo": {
     "elapsed": 4,
     "status": "ok",
     "timestamp": 1691558709957,
     "user": {
      "displayName": "ccc flkwerkdai",
      "userId": "13507850890638580947"
     },
     "user_tz": -540
    },
    "id": "XOif49v1wXer",
    "outputId": "367667bb-4674-436a-f2bc-0d413a5b8632"
   },
   "outputs": [
    {
     "data": {
      "application/vnd.google.colaboratory.intrinsic+json": {
       "type": "string"
      },
      "text/plain": [
       "'XX'"
      ]
     },
     "execution_count": 82,
     "metadata": {},
     "output_type": "execute_result"
    }
   ],
   "source": [
    "\"X\"*2"
   ]
  },
  {
   "cell_type": "markdown",
   "metadata": {
    "id": "bFSguELkwYyt"
   },
   "source": [
    "### 문자열의 사칙연산(x)"
   ]
  },
  {
   "cell_type": "markdown",
   "metadata": {
    "id": "JdK13AIiwmUh"
   },
   "source": [
    "```python\n",
    "\"X\" * \"Y\"\n",
    "\n",
    "\"X\" - \"2\"\n",
    "\n",
    "\"X\" / \"y\"\n",
    "\n",
    "\n",
    "```"
   ]
  },
  {
   "cell_type": "markdown",
   "metadata": {
    "id": "-Bie_9T_w0FJ"
   },
   "source": [
    "`-` 즉 더하기를 제외한 나머지 사칙연산은 문자형 변수에 적용되지 않는다."
   ]
  },
  {
   "cell_type": "markdown",
   "metadata": {
    "id": "-vxMBjGa0mv5"
   },
   "source": [
    "## 날짜형 자료"
   ]
  },
  {
   "cell_type": "code",
   "execution_count": null,
   "metadata": {
    "id": "mp22E8wj0z1Q"
   },
   "outputs": [],
   "source": [
    "from datetime import datetime"
   ]
  },
  {
   "cell_type": "code",
   "execution_count": null,
   "metadata": {
    "id": "Z7EE6YF_0582"
   },
   "outputs": [],
   "source": [
    "now = datetime.now()"
   ]
  },
  {
   "cell_type": "code",
   "execution_count": null,
   "metadata": {
    "colab": {
     "base_uri": "https://localhost:8080/"
    },
    "executionInfo": {
     "elapsed": 2,
     "status": "ok",
     "timestamp": 1691559939281,
     "user": {
      "displayName": "ccc flkwerkdai",
      "userId": "13507850890638580947"
     },
     "user_tz": -540
    },
    "id": "3Itfdfho1EG3",
    "outputId": "a43b5832-933c-411f-e119-04c4acde9e7c"
   },
   "outputs": [
    {
     "data": {
      "text/plain": [
       "datetime.datetime(2023, 8, 9, 5, 45, 24, 616085)"
      ]
     },
     "execution_count": 88,
     "metadata": {},
     "output_type": "execute_result"
    }
   ],
   "source": [
    "now"
   ]
  },
  {
   "cell_type": "code",
   "execution_count": null,
   "metadata": {
    "colab": {
     "base_uri": "https://localhost:8080/"
    },
    "executionInfo": {
     "elapsed": 3,
     "status": "ok",
     "timestamp": 1691559960020,
     "user": {
      "displayName": "ccc flkwerkdai",
      "userId": "13507850890638580947"
     },
     "user_tz": -540
    },
    "id": "oHx7iDqK1FJQ",
    "outputId": "099a484d-18f6-46c1-99f2-04862c94e402"
   },
   "outputs": [
    {
     "name": "stdout",
     "output_type": "stream",
     "text": [
      "2023-08-09 05:45:24.616085\n"
     ]
    }
   ],
   "source": [
    "print(now)"
   ]
  },
  {
   "cell_type": "code",
   "execution_count": null,
   "metadata": {
    "colab": {
     "base_uri": "https://localhost:8080/"
    },
    "executionInfo": {
     "elapsed": 431,
     "status": "ok",
     "timestamp": 1691560066348,
     "user": {
      "displayName": "ccc flkwerkdai",
      "userId": "13507850890638580947"
     },
     "user_tz": -540
    },
    "id": "n_FZur7x1LYL",
    "outputId": "3c367313-df5d-4978-a06b-d5e88221c166"
   },
   "outputs": [
    {
     "name": "stdout",
     "output_type": "stream",
     "text": [
      "2023년 8월 9일 5시 45분 24초\n"
     ]
    }
   ],
   "source": [
    "print(\"{}년 {}월 {}일 {}시 {}분 {}초\".format(now.year,now.month,now.day,now.hour,now.minute,now.second))"
   ]
  },
  {
   "cell_type": "markdown",
   "metadata": {
    "id": "lg01Kq601nbz"
   },
   "source": [
    "## 기타 연산"
   ]
  },
  {
   "cell_type": "code",
   "execution_count": null,
   "metadata": {
    "id": "K7j1Z-xo1pPJ"
   },
   "outputs": [],
   "source": [
    "a = \"ABCD\"\n",
    "b = \"efgh\""
   ]
  },
  {
   "cell_type": "code",
   "execution_count": null,
   "metadata": {
    "colab": {
     "base_uri": "https://localhost:8080/"
    },
    "executionInfo": {
     "elapsed": 3,
     "status": "ok",
     "timestamp": 1691560102101,
     "user": {
      "displayName": "ccc flkwerkdai",
      "userId": "13507850890638580947"
     },
     "user_tz": -540
    },
    "id": "Kqt5Xety1rYm",
    "outputId": "400a7d48-3e0b-4cf7-9e27-5552a3fdfd5a"
   },
   "outputs": [
    {
     "data": {
      "text/plain": [
       "('abcd', 'EFGH')"
      ]
     },
     "execution_count": 93,
     "metadata": {},
     "output_type": "execute_result"
    }
   ],
   "source": [
    "a.lower(),b.upper()"
   ]
  },
  {
   "cell_type": "markdown",
   "metadata": {
    "id": "4IuDyGZF12WO"
   },
   "source": [
    "***"
   ]
  },
  {
   "cell_type": "markdown",
   "metadata": {
    "id": "M9TjBG5ENw3R"
   },
   "source": [
    "# 3. 문자열 다루기 고급"
   ]
  },
  {
   "cell_type": "markdown",
   "metadata": {
    "id": "MzqYh2JgNzFr"
   },
   "source": [
    "## f-string(요즘 쓰는 방식)"
   ]
  },
  {
   "cell_type": "markdown",
   "metadata": {
    "id": "Cz-RmPNkOcrO"
   },
   "source": [
    "### ex1"
   ]
  },
  {
   "cell_type": "code",
   "execution_count": 5,
   "metadata": {
    "executionInfo": {
     "elapsed": 3,
     "status": "ok",
     "timestamp": 1691567382348,
     "user": {
      "displayName": "ccc flkwerkdai",
      "userId": "13507850890638580947"
     },
     "user_tz": -540
    },
    "id": "a6opzZBWOhjN"
   },
   "outputs": [],
   "source": [
    "n = \"이강철\"\n",
    "a = 28\n",
    "s = 100.213141"
   ]
  },
  {
   "cell_type": "code",
   "execution_count": 7,
   "metadata": {
    "colab": {
     "base_uri": "https://localhost:8080/"
    },
    "executionInfo": {
     "elapsed": 2,
     "status": "ok",
     "timestamp": 1691567462666,
     "user": {
      "displayName": "ccc flkwerkdai",
      "userId": "13507850890638580947"
     },
     "user_tz": -540
    },
    "id": "34Rzx8zFRMlc",
    "outputId": "0eb5fdfe-4395-402f-91b3-0a0973d018f9"
   },
   "outputs": [
    {
     "name": "stdout",
     "output_type": "stream",
     "text": [
      "28살의 이강철의 점수는 100.00입니다. \n"
     ]
    }
   ],
   "source": [
    "print(f\"{a}살의 {n}의 점수는 {s:.2f}입니다. \")"
   ]
  },
  {
   "cell_type": "markdown",
   "metadata": {
    "id": "TCnwFciaR2Sb"
   },
   "source": [
    "### ex2"
   ]
  },
  {
   "cell_type": "code",
   "execution_count": 8,
   "metadata": {
    "executionInfo": {
     "elapsed": 2,
     "status": "ok",
     "timestamp": 1691567517633,
     "user": {
      "displayName": "ccc flkwerkdai",
      "userId": "13507850890638580947"
     },
     "user_tz": -540
    },
    "id": "aKpvtRH4R514"
   },
   "outputs": [],
   "source": [
    "n = \"이강철\"\n",
    "a = 28\n",
    "s1 = 100.2\n",
    "s2 = 100.3\n",
    "s3 = 100.4\n",
    "s4 = 100.5\n",
    "s5 = 100.6"
   ]
  },
  {
   "cell_type": "code",
   "execution_count": 27,
   "metadata": {
    "colab": {
     "base_uri": "https://localhost:8080/"
    },
    "executionInfo": {
     "elapsed": 2,
     "status": "ok",
     "timestamp": 1691567890633,
     "user": {
      "displayName": "ccc flkwerkdai",
      "userId": "13507850890638580947"
     },
     "user_tz": -540
    },
    "id": "NHs5MUupSGoK",
    "outputId": "1a48a342-309c-4a56-af75-dc92982c9952"
   },
   "outputs": [
    {
     "name": "stdout",
     "output_type": "stream",
     "text": [
      "\n",
      "이름 : 이강철\n",
      "\n",
      "연령대 : 20\n",
      "\n",
      "점수 : 100.2,100.3,100.4,100.5,100.6\n",
      "\n",
      "합계 : 502 /평균 : 100.40\n",
      "\n"
     ]
    }
   ],
   "source": [
    "txt= f'''\n",
    "이름 : {n}\n",
    "\n",
    "연령대 : {age}\n",
    "\n",
    "점수 : {s1},{s2},{s3},{s4},{s5}\n",
    "\n",
    "합계 : {ts:,.0f} /평균 : {avg:,.2f}\n",
    "'''`\n",
    "\n",
    "print(txt)"
   ]
  }
 ],
 "metadata": {
  "colab": {
   "authorship_tag": "ABX9TyNaUaZPXKv83n8WDUCvBWvx",
   "provenance": [],
   "toc_visible": true
  },
  "kernelspec": {
   "display_name": "Python 3 (ipykernel)",
   "language": "python",
   "name": "python3"
  },
  "language_info": {
   "codemirror_mode": {
    "name": "ipython",
    "version": 3
   },
   "file_extension": ".py",
   "mimetype": "text/x-python",
   "name": "python",
   "nbconvert_exporter": "python",
   "pygments_lexer": "ipython3",
   "version": "3.11.4"
  }
 },
 "nbformat": 4,
 "nbformat_minor": 4
}
