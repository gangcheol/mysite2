{
 "cells": [
  {
   "cell_type": "raw",
   "id": "476eb75d-8715-46ae-9d90-5c5be4137735",
   "metadata": {},
   "source": [
    "---\n",
    "title : \"02. Python Basic (3)\"\n",
    "author : \"GC\"\n",
    "date : \"08/11/23\"\n",
    "categories : [\"DX\"]\n",
    "---"
   ]
  },
  {
   "cell_type": "markdown",
   "id": "56271e7a-a593-4480-b80f-85ce211d81d6",
   "metadata": {},
   "source": [
    "# import"
   ]
  },
  {
   "cell_type": "code",
   "execution_count": 1,
   "id": "ca20543a-ab07-4839-8190-6b8079b66068",
   "metadata": {},
   "outputs": [],
   "source": [
    "import numpy as np\n",
    "import pandas as pd\n",
    "import matplotlib.pyplot as plt"
   ]
  },
  {
   "cell_type": "markdown",
   "id": "b9a8de99-a384-4c0c-8c30-da9967726c94",
   "metadata": {},
   "source": [
    "# 튜플"
   ]
  },
  {
   "cell_type": "markdown",
   "id": "16274897-b63e-4cda-ae4a-9f8b868b0234",
   "metadata": {},
   "source": [
    "## why use(1)?"
   ]
  },
  {
   "cell_type": "markdown",
   "id": "a440af28-4d29-4993-8280-5e0e39aab95a",
   "metadata": {},
   "source": [
    "`-` 빠르고 다중 작업에 유리"
   ]
  },
  {
   "cell_type": "markdown",
   "id": "08c77da7-46f5-4dba-9432-a4cfe4f40fd3",
   "metadata": {},
   "source": [
    "`-` 메모리 관리측면에서도 좋음, 또한 소괄호 생략이 가능하다."
   ]
  },
  {
   "cell_type": "markdown",
   "id": "e8aeb5ff-6575-4411-98b5-e5fb4b1b1670",
   "metadata": {},
   "source": [
    "## 예제 1 : 여러개의 변수를 동시 출력 및 할당"
   ]
  },
  {
   "cell_type": "code",
   "execution_count": 2,
   "id": "3576d7b9-74a2-47fc-a190-5027811a9c6d",
   "metadata": {},
   "outputs": [],
   "source": [
    "n,a,s,h,w = 1,2,3,4,5"
   ]
  },
  {
   "cell_type": "code",
   "execution_count": 3,
   "id": "233cd90a-b506-466f-8734-670833d5d9d5",
   "metadata": {},
   "outputs": [
    {
     "data": {
      "text/plain": [
       "(1, 2, 3, 4, 5)"
      ]
     },
     "execution_count": 3,
     "metadata": {},
     "output_type": "execute_result"
    }
   ],
   "source": [
    "n,a,s,h,w"
   ]
  },
  {
   "cell_type": "code",
   "execution_count": 4,
   "id": "78cbe207-0c33-4616-9f40-1154ac5c1287",
   "metadata": {},
   "outputs": [
    {
     "data": {
      "text/plain": [
       "(3.1,)"
      ]
     },
     "execution_count": 4,
     "metadata": {},
     "output_type": "execute_result"
    }
   ],
   "source": [
    "a = 3.1,\n",
    "a"
   ]
  },
  {
   "cell_type": "markdown",
   "id": "202403ef-fe47-46a7-8f5f-12fdb547ce04",
   "metadata": {},
   "source": [
    "## 예제 2. 서로 다른 타입의 원소들로 튜플?"
   ]
  },
  {
   "cell_type": "code",
   "execution_count": 9,
   "id": "1075e7a2-6df6-4dfa-8b76-ae8da52c9ab2",
   "metadata": {},
   "outputs": [
    {
     "data": {
      "text/plain": [
       "(90, 80, 70, 'A', 'B')"
      ]
     },
     "execution_count": 9,
     "metadata": {},
     "output_type": "execute_result"
    }
   ],
   "source": [
    "s = 90,80,70,\"A\",\"B\"\n",
    "s"
   ]
  },
  {
   "cell_type": "markdown",
   "id": "bee0e7f4-b4ac-4518-b544-09bba45147fb",
   "metadata": {},
   "source": [
    "## 예제 3: 튜플 중첩"
   ]
  },
  {
   "cell_type": "code",
   "execution_count": 10,
   "id": "58df3a84-0993-40b1-ae9a-639a66532ea7",
   "metadata": {},
   "outputs": [
    {
     "data": {
      "text/plain": [
       "(90, 80, 70, ('A', 'B'))"
      ]
     },
     "execution_count": 10,
     "metadata": {},
     "output_type": "execute_result"
    }
   ],
   "source": [
    "s = 90,80,70,(\"A\",\"B\")\n",
    "s"
   ]
  },
  {
   "cell_type": "markdown",
   "id": "f96945b0-80b9-470d-9beb-626ee2d25c14",
   "metadata": {},
   "source": [
    "## 예제 4 : 두 변수의 값을 교환"
   ]
  },
  {
   "cell_type": "code",
   "execution_count": 11,
   "id": "3efb284e-55aa-4447-84a0-98530acfc228",
   "metadata": {},
   "outputs": [],
   "source": [
    "a,b = 1,2"
   ]
  },
  {
   "cell_type": "code",
   "execution_count": 12,
   "id": "a92103ef-2fda-4b60-ae37-3bb7fb7de91b",
   "metadata": {},
   "outputs": [
    {
     "data": {
      "text/plain": [
       "(1, 2)"
      ]
     },
     "execution_count": 12,
     "metadata": {},
     "output_type": "execute_result"
    }
   ],
   "source": [
    "a,b"
   ]
  },
  {
   "cell_type": "code",
   "execution_count": 13,
   "id": "a7607ee9-5d5f-4017-bfde-874fa3c940b2",
   "metadata": {},
   "outputs": [],
   "source": [
    "a,b = b,a"
   ]
  },
  {
   "cell_type": "code",
   "execution_count": 14,
   "id": "3e2cd171-a5bd-41ef-b973-e022561e7365",
   "metadata": {},
   "outputs": [
    {
     "data": {
      "text/plain": [
       "(2, 1)"
      ]
     },
     "execution_count": 14,
     "metadata": {},
     "output_type": "execute_result"
    }
   ],
   "source": [
    "a,b"
   ]
  },
  {
   "cell_type": "markdown",
   "id": "fdfa0d7e-adae-4dc1-bc9e-7305bd8b5382",
   "metadata": {},
   "source": [
    "## 예제 5: for문"
   ]
  },
  {
   "cell_type": "code",
   "execution_count": 15,
   "id": "ba1cf9cb-fac5-419f-a816-fee0c2ffcbf9",
   "metadata": {},
   "outputs": [
    {
     "data": {
      "text/plain": [
       "[['gc', 2021502565, 'M'], ['iu', 202254321, 'F'], ['hodong', 202011223, 'M']]"
      ]
     },
     "execution_count": 15,
     "metadata": {},
     "output_type": "execute_result"
    }
   ],
   "source": [
    "lst = [['gc', 2021502565, 'M'],\n",
    "       ['iu',202254321, 'F'],\n",
    "       ['hodong', 202011223, 'M']]\n",
    "lst"
   ]
  },
  {
   "cell_type": "code",
   "execution_count": 26,
   "id": "7c60925c-1804-42c5-a03a-64f4ebc9bf9f",
   "metadata": {},
   "outputs": [
    {
     "name": "stdout",
     "output_type": "stream",
     "text": [
      "gc 2021502565 M\n",
      "iu 202254321 F\n",
      "hodong 202011223 M\n"
     ]
    }
   ],
   "source": [
    "for name, s, sex in lst :\n",
    "    print(name,s,sex)"
   ]
  },
  {
   "cell_type": "markdown",
   "id": "026a8b38-c8ec-47b2-9dbb-9f0c4c84398d",
   "metadata": {},
   "source": [
    "## 예제 6 : range 함수를 사용해 만들기"
   ]
  },
  {
   "cell_type": "code",
   "execution_count": 37,
   "id": "3d2a4ff5-2ec1-4f23-ab76-a4aacbe7fcdd",
   "metadata": {},
   "outputs": [
    {
     "data": {
      "text/plain": [
       "(1, 2, 3, 4, 5, 6, 7, 8, 9, 10)"
      ]
     },
     "execution_count": 37,
     "metadata": {},
     "output_type": "execute_result"
    }
   ],
   "source": [
    "test = tuple(range(1,11))\n",
    "test"
   ]
  },
  {
   "cell_type": "markdown",
   "id": "90872d32-f464-4308-bb93-6ed9061c6850",
   "metadata": {},
   "source": [
    "## 예제 7 : `for +  tuple + \"_\"`"
   ]
  },
  {
   "cell_type": "code",
   "execution_count": 45,
   "id": "44b50cec-572b-4852-8e6a-408700b2de92",
   "metadata": {},
   "outputs": [
    {
     "data": {
      "text/plain": [
       "[['gc', 2021502565, 'M'], ['iu', 202254321, 'F'], ['hodong', 202011223, 'M']]"
      ]
     },
     "execution_count": 45,
     "metadata": {},
     "output_type": "execute_result"
    }
   ],
   "source": [
    "lst"
   ]
  },
  {
   "cell_type": "code",
   "execution_count": 43,
   "id": "9c0fc449-c8cd-4dba-a53a-24ff6729d8f4",
   "metadata": {},
   "outputs": [
    {
     "name": "stdout",
     "output_type": "stream",
     "text": [
      "2021502565\n",
      "202254321\n",
      "202011223\n"
     ]
    }
   ],
   "source": [
    "for _,s,_ in lst :\n",
    "    print(s)"
   ]
  },
  {
   "cell_type": "code",
   "execution_count": 44,
   "id": "d894f7ee-d245-43fd-aac1-7693bb490fa3",
   "metadata": {},
   "outputs": [
    {
     "name": "stdout",
     "output_type": "stream",
     "text": [
      "M\n",
      "F\n",
      "M\n"
     ]
    }
   ],
   "source": [
    "for _,_,s in lst :\n",
    "    print(s)"
   ]
  },
  {
   "cell_type": "markdown",
   "id": "f74c6aea-c401-4456-aae1-d44bcfebfea1",
   "metadata": {},
   "source": [
    "## 예제 8 : `언패킹 연산자(*) + for` ($\\star\\star$)"
   ]
  },
  {
   "cell_type": "markdown",
   "id": "26cde783-eb44-4cb7-b462-ef28196746f9",
   "metadata": {},
   "source": [
    "* `*`는 특정하지 않은 여러개의 인자를 튜플 형태로 받는다."
   ]
  },
  {
   "cell_type": "code",
   "execution_count": 53,
   "id": "7b73c3f9-3064-4ba7-bd0e-22b9abb2e7cd",
   "metadata": {},
   "outputs": [
    {
     "name": "stdout",
     "output_type": "stream",
     "text": [
      "gc 2021502565 M\n",
      "iu 202254321 F\n",
      "hodong 202011223 M\n"
     ]
    }
   ],
   "source": [
    "for n,*a in lst :\n",
    "    print(n,*a)"
   ]
  },
  {
   "cell_type": "code",
   "execution_count": 54,
   "id": "9551fcd7-502e-47af-a467-317ebd2825c4",
   "metadata": {},
   "outputs": [
    {
     "name": "stdout",
     "output_type": "stream",
     "text": [
      "gc [2021502565, 'M']\n",
      "iu [202254321, 'F']\n",
      "hodong [202011223, 'M']\n"
     ]
    }
   ],
   "source": [
    "for n,*a in lst :\n",
    "    print(n,a)"
   ]
  },
  {
   "cell_type": "code",
   "execution_count": 55,
   "id": "1c75fb9a-3312-4cee-9e00-d5461aa961e1",
   "metadata": {},
   "outputs": [
    {
     "name": "stdout",
     "output_type": "stream",
     "text": [
      "gc\n",
      "iu\n",
      "hodong\n"
     ]
    }
   ],
   "source": [
    "for n,*a in lst :\n",
    "    print(n)"
   ]
  },
  {
   "cell_type": "code",
   "execution_count": 56,
   "id": "e0d00304-3ebf-4514-96b5-8f953378344d",
   "metadata": {},
   "outputs": [],
   "source": [
    "h,b,*t = range(1,11)"
   ]
  },
  {
   "cell_type": "code",
   "execution_count": 57,
   "id": "dee54e9e-8c4b-4082-9582-bdd9639aacad",
   "metadata": {},
   "outputs": [
    {
     "data": {
      "text/plain": [
       "(1, 2, [3, 4, 5, 6, 7, 8, 9, 10])"
      ]
     },
     "execution_count": 57,
     "metadata": {},
     "output_type": "execute_result"
    }
   ],
   "source": [
    "h,b,t"
   ]
  },
  {
   "cell_type": "code",
   "execution_count": 59,
   "id": "68ed7c6e-7f21-43b8-a222-45f759ec4ede",
   "metadata": {},
   "outputs": [
    {
     "data": {
      "text/plain": [
       "(1, 2, 3, 4, 5, 6, 7, 8, 9, 10)"
      ]
     },
     "execution_count": 59,
     "metadata": {},
     "output_type": "execute_result"
    }
   ],
   "source": [
    "h,b,*t"
   ]
  },
  {
   "cell_type": "code",
   "execution_count": 62,
   "id": "46a07057-6a97-48b3-ac1f-8737b6dd66e0",
   "metadata": {},
   "outputs": [
    {
     "data": {
      "text/plain": [
       "[3, 4, 5, 6, 7, 8, 9, 10]"
      ]
     },
     "execution_count": 62,
     "metadata": {},
     "output_type": "execute_result"
    }
   ],
   "source": [
    "t"
   ]
  },
  {
   "cell_type": "markdown",
   "id": "24cfac4b-f641-4c8b-90d0-480ce9a5cf99",
   "metadata": {},
   "source": [
    "`-` 언패킹 연산자를 아래처럼 단일값으로 쓸수는 없다. 대신 print문을 이욯아여 출력!"
   ]
  },
  {
   "cell_type": "code",
   "execution_count": 60,
   "id": "f5c09a88-5d1b-4912-9989-2fc9ba8f8f7d",
   "metadata": {},
   "outputs": [
    {
     "ename": "SyntaxError",
     "evalue": "can't use starred expression here (3801933867.py, line 1)",
     "output_type": "error",
     "traceback": [
      "\u001b[1;36m  Cell \u001b[1;32mIn[60], line 1\u001b[1;36m\u001b[0m\n\u001b[1;33m    *t\u001b[0m\n\u001b[1;37m    ^\u001b[0m\n\u001b[1;31mSyntaxError\u001b[0m\u001b[1;31m:\u001b[0m can't use starred expression here\n"
     ]
    }
   ],
   "source": [
    "*t"
   ]
  },
  {
   "cell_type": "code",
   "execution_count": 61,
   "id": "81d6a0f0-64d1-464f-8856-93025c00751c",
   "metadata": {},
   "outputs": [
    {
     "name": "stdout",
     "output_type": "stream",
     "text": [
      "3 4 5 6 7 8 9 10\n"
     ]
    }
   ],
   "source": [
    "print(*t)"
   ]
  },
  {
   "cell_type": "code",
   "execution_count": 66,
   "id": "c77ae05b-3407-4de8-88c7-b9e6d5f40079",
   "metadata": {},
   "outputs": [],
   "source": [
    "temp = h,b,t"
   ]
  },
  {
   "cell_type": "code",
   "execution_count": 67,
   "id": "84999835-40e2-4757-9ada-aa312ae89dc5",
   "metadata": {},
   "outputs": [
    {
     "data": {
      "text/plain": [
       "(1, 2, [3, 5, 5, 6, 7, 8, 9, 10])"
      ]
     },
     "execution_count": 67,
     "metadata": {},
     "output_type": "execute_result"
    }
   ],
   "source": [
    "temp"
   ]
  },
  {
   "cell_type": "markdown",
   "id": "849948fc-2d5c-4c13-923d-2c8cae0e2126",
   "metadata": {},
   "source": [
    "`-` **튜플안에 선언한 리스트는 수정할 수 있다!**"
   ]
  },
  {
   "cell_type": "code",
   "execution_count": 72,
   "id": "7d73a17e-1de1-486b-afd5-6267a80ced38",
   "metadata": {},
   "outputs": [],
   "source": [
    "temp[2][1]=4"
   ]
  },
  {
   "cell_type": "code",
   "execution_count": 73,
   "id": "bba87d4f-ba13-493c-a43c-c2dd8207f09a",
   "metadata": {},
   "outputs": [
    {
     "data": {
      "text/plain": [
       "(1, 2, [3, 4, 5, 6, 7, 8, 9, 10])"
      ]
     },
     "execution_count": 73,
     "metadata": {},
     "output_type": "execute_result"
    }
   ],
   "source": [
    "temp"
   ]
  },
  {
   "cell_type": "markdown",
   "id": "3803d4c0-92b5-48e7-882f-65e87ee2b944",
   "metadata": {},
   "source": [
    "`-` 단, 튜플안에 선언된 리스트 통째?로는 바꿀 수 없음"
   ]
  },
  {
   "cell_type": "code",
   "execution_count": 76,
   "id": "852f7c37-7f84-4cc9-bdae-d5f763db9bbd",
   "metadata": {},
   "outputs": [
    {
     "ename": "NameError",
     "evalue": "name 'd' is not defined",
     "output_type": "error",
     "traceback": [
      "\u001b[1;31m---------------------------------------------------------------------------\u001b[0m",
      "\u001b[1;31mNameError\u001b[0m                                 Traceback (most recent call last)",
      "Cell \u001b[1;32mIn[76], line 1\u001b[0m\n\u001b[1;32m----> 1\u001b[0m temp[\u001b[38;5;241m2\u001b[39m] \u001b[38;5;241m=\u001b[39m d\n",
      "\u001b[1;31mNameError\u001b[0m: name 'd' is not defined"
     ]
    }
   ],
   "source": [
    "temp[2] = d"
   ]
  },
  {
   "cell_type": "code",
   "execution_count": 78,
   "id": "d42f3179-4354-4a4d-91b0-b4111a5474da",
   "metadata": {},
   "outputs": [
    {
     "ename": "TypeError",
     "evalue": "'tuple' object does not support item assignment",
     "output_type": "error",
     "traceback": [
      "\u001b[1;31m---------------------------------------------------------------------------\u001b[0m",
      "\u001b[1;31mTypeError\u001b[0m                                 Traceback (most recent call last)",
      "Cell \u001b[1;32mIn[78], line 1\u001b[0m\n\u001b[1;32m----> 1\u001b[0m temp[\u001b[38;5;241m2\u001b[39m] \u001b[38;5;241m=\u001b[39m [\u001b[38;5;241m1\u001b[39m,\u001b[38;5;241m2\u001b[39m,\u001b[38;5;241m3\u001b[39m]\n",
      "\u001b[1;31mTypeError\u001b[0m: 'tuple' object does not support item assignment"
     ]
    }
   ],
   "source": [
    "temp[2] = [1,2,3]"
   ]
  },
  {
   "cell_type": "markdown",
   "id": "83ca50e0-06e9-4ee0-96b3-bb8d6e9a0b1b",
   "metadata": {},
   "source": [
    "## 예제 9 : 함수"
   ]
  },
  {
   "cell_type": "markdown",
   "id": "1dfaf7a6-0859-4ae6-aa99-ac6debcce1e5",
   "metadata": {},
   "source": [
    "* 아래의 함수는 여러개의 값을 리턴하는 것처럼 보이나 사실은 길이가 4인, 튜플 1개만을 return한다."
   ]
  },
  {
   "cell_type": "markdown",
   "id": "893c3848-e706-48e6-9ebe-e435f6dc7f54",
   "metadata": {},
   "source": [
    "## 왜 튜플만이 괄호를 생략?"
   ]
  },
  {
   "cell_type": "markdown",
   "id": "b8337e82-b550-438d-b576-81b56a4ad634",
   "metadata": {},
   "source": [
    "1. 튜플을 먼저 만들고, 괄호를 생략하는 문법을 추가한 것은 아닐것이다.\n",
    "\n",
    "2. 원래는 괄호없이 벡터를 만들고 싶었을 것임\n",
    "\n",
    "3. 차피 벡터는 한,두번 쓰고 버리는 경우가 많고, 대부분 이름도 필요없음 $\\to$ (즉, 원소에 접근해서 sorting하고... 순서를 바꿀 필요가 없다는 것임)\n",
    "\n",
    "4. 데이터를 분석하면서 우리에게 필요한것은, 데이터가 벡터 형태로 모여, 하나이 **DataFrame**을 구축하기만 하면된다."
   ]
  },
  {
   "cell_type": "markdown",
   "id": "39fc23d0-2819-4e47-ad01-2fe69ffd96e5",
   "metadata": {},
   "source": [
    "***"
   ]
  },
  {
   "cell_type": "markdown",
   "id": "a683f642-fc74-41ba-8185-3c713227c93e",
   "metadata": {},
   "source": [
    "# 집합"
   ]
  },
  {
   "cell_type": "markdown",
   "id": "0d3587c1-c2a9-4ec2-b81c-7939db690274",
   "metadata": {},
   "source": [
    "`-` 중복을 허용하지 않음 $\\to$ 즉, 어떠한 객체의 유니크한 값을 찾을때 사용"
   ]
  },
  {
   "cell_type": "markdown",
   "id": "be6a8690-9fe0-4fb0-a3bf-afa17b533463",
   "metadata": {},
   "source": [
    "`-` **또한, 원소의 순서가 의마가 없어 인덱스 값을 얻을 수 없음**($\\star\\star\\star$)"
   ]
  },
  {
   "cell_type": "markdown",
   "id": "185ed906-bf37-43f3-b5c4-ef64f3ea7a1e",
   "metadata": {},
   "source": [
    "`-` 리스트, 튜플 ㅓ럼 다양한 형태의 자료형 집합을 가질 수 있다."
   ]
  },
  {
   "cell_type": "markdown",
   "id": "ed325405-d934-4ff0-bdb5-0350cdba6bf9",
   "metadata": {},
   "source": [
    "## 원소 추가"
   ]
  },
  {
   "cell_type": "code",
   "execution_count": 79,
   "id": "05c32340-761e-400a-96dc-d6c2d97d21bf",
   "metadata": {},
   "outputs": [],
   "source": [
    "s = {\"a\",\"b\"}"
   ]
  },
  {
   "cell_type": "code",
   "execution_count": 80,
   "id": "310f3bef-783a-46c6-92ff-622157bf672a",
   "metadata": {},
   "outputs": [
    {
     "data": {
      "text/plain": [
       "{'a', 'b', 'c'}"
      ]
     },
     "execution_count": 80,
     "metadata": {},
     "output_type": "execute_result"
    }
   ],
   "source": [
    "s.add(\"c\")\n",
    "s"
   ]
  },
  {
   "cell_type": "code",
   "execution_count": 101,
   "id": "09cae0f4-2963-4441-9350-0e71c43119ba",
   "metadata": {},
   "outputs": [
    {
     "data": {
      "text/plain": [
       "{'a', 'b', 'c', 'd'}"
      ]
     },
     "execution_count": 101,
     "metadata": {},
     "output_type": "execute_result"
    }
   ],
   "source": [
    "s.update([\"c\",\"d\"])\n",
    "s"
   ]
  },
  {
   "cell_type": "markdown",
   "id": "4ad0d826-13e7-45aa-bc47-d832894cb2d8",
   "metadata": {},
   "source": [
    "## 원소 삭제"
   ]
  },
  {
   "cell_type": "code",
   "execution_count": 102,
   "id": "d0544aa6-241d-4983-9a00-8c0d404a5709",
   "metadata": {},
   "outputs": [
    {
     "data": {
      "text/plain": [
       "{'a', 'b', 'c', 'd'}"
      ]
     },
     "execution_count": 102,
     "metadata": {},
     "output_type": "execute_result"
    }
   ],
   "source": [
    "s"
   ]
  },
  {
   "cell_type": "code",
   "execution_count": 103,
   "id": "86e7c57a-c19c-40ed-8538-48c1d575a347",
   "metadata": {},
   "outputs": [],
   "source": [
    "s.remove(\"c\")"
   ]
  },
  {
   "cell_type": "code",
   "execution_count": 104,
   "id": "a69ae29b-8a07-4960-af0f-6d0c883ae833",
   "metadata": {},
   "outputs": [
    {
     "data": {
      "text/plain": [
       "{'a', 'b', 'd'}"
      ]
     },
     "execution_count": 104,
     "metadata": {},
     "output_type": "execute_result"
    }
   ],
   "source": [
    "s"
   ]
  },
  {
   "cell_type": "markdown",
   "id": "9ca1da9a-d780-4605-947a-290219cd043b",
   "metadata": {},
   "source": [
    "`-` **discard**로 삭제시 에러메세지를 반환하지 않음"
   ]
  },
  {
   "cell_type": "code",
   "execution_count": 106,
   "id": "160609d8-3968-4aa8-88f7-7b240d7b1d4c",
   "metadata": {},
   "outputs": [
    {
     "ename": "KeyError",
     "evalue": "'z'",
     "output_type": "error",
     "traceback": [
      "\u001b[1;31m---------------------------------------------------------------------------\u001b[0m",
      "\u001b[1;31mKeyError\u001b[0m                                  Traceback (most recent call last)",
      "Cell \u001b[1;32mIn[106], line 1\u001b[0m\n\u001b[1;32m----> 1\u001b[0m s\u001b[38;5;241m.\u001b[39mremove(\u001b[38;5;124m\"\u001b[39m\u001b[38;5;124mz\u001b[39m\u001b[38;5;124m\"\u001b[39m)\n",
      "\u001b[1;31mKeyError\u001b[0m: 'z'"
     ]
    }
   ],
   "source": [
    "s.remove(\"z\")"
   ]
  },
  {
   "cell_type": "code",
   "execution_count": 105,
   "id": "bb2576ec-a6a2-4043-8433-0b0748ff010d",
   "metadata": {},
   "outputs": [],
   "source": [
    "s.discard(\"z\")"
   ]
  },
  {
   "cell_type": "markdown",
   "id": "0f8faffa-042d-4b71-8039-5d5c19f00d09",
   "metadata": {},
   "source": [
    "`-` 모든 원소 삭제"
   ]
  },
  {
   "cell_type": "code",
   "execution_count": 107,
   "id": "9b29af9c-2579-4079-b302-78ad3445db29",
   "metadata": {},
   "outputs": [],
   "source": [
    "s.clear()"
   ]
  },
  {
   "cell_type": "code",
   "execution_count": 108,
   "id": "a69d0e2b-7b0d-455b-9811-03c0801c805d",
   "metadata": {},
   "outputs": [
    {
     "data": {
      "text/plain": [
       "set()"
      ]
     },
     "execution_count": 108,
     "metadata": {},
     "output_type": "execute_result"
    }
   ],
   "source": [
    "s"
   ]
  },
  {
   "cell_type": "markdown",
   "id": "e60ca809-4274-45d1-9522-97a5cf2a5143",
   "metadata": {},
   "source": [
    "## in"
   ]
  },
  {
   "cell_type": "code",
   "execution_count": 84,
   "id": "efbce6c0-25a5-41a9-85bd-3a1dcdcb7f6c",
   "metadata": {},
   "outputs": [
    {
     "data": {
      "text/plain": [
       "True"
      ]
     },
     "execution_count": 84,
     "metadata": {},
     "output_type": "execute_result"
    }
   ],
   "source": [
    "\"a\" in s"
   ]
  },
  {
   "cell_type": "markdown",
   "id": "517c6824-4f8b-4963-afe1-7bab39b645ec",
   "metadata": {},
   "source": [
    "### 합,교,차 집합"
   ]
  },
  {
   "cell_type": "code",
   "execution_count": 85,
   "id": "5f2a15d6-7d42-496d-8a4b-0e6dbe43bb25",
   "metadata": {},
   "outputs": [],
   "source": [
    "set1 = {\"a\",\"b\",\"c\"}\n",
    "set2 = {\"b\",\"c\",\"d\"}"
   ]
  },
  {
   "cell_type": "markdown",
   "id": "d27552e2-9d2a-4a79-991d-42426892f769",
   "metadata": {},
   "source": [
    "`-` 합집합"
   ]
  },
  {
   "cell_type": "code",
   "execution_count": 86,
   "id": "865dcd54-8df5-4af5-b668-ea6df7168904",
   "metadata": {},
   "outputs": [
    {
     "data": {
      "text/plain": [
       "{'a', 'b', 'c', 'd'}"
      ]
     },
     "execution_count": 86,
     "metadata": {},
     "output_type": "execute_result"
    }
   ],
   "source": [
    "set1|set2"
   ]
  },
  {
   "cell_type": "code",
   "execution_count": 87,
   "id": "9ac2abcb-a8d0-4bf9-92b9-c2d94a733b8a",
   "metadata": {},
   "outputs": [
    {
     "data": {
      "text/plain": [
       "{'a', 'b', 'c', 'd'}"
      ]
     },
     "execution_count": 87,
     "metadata": {},
     "output_type": "execute_result"
    }
   ],
   "source": [
    "set1.union(set2)"
   ]
  },
  {
   "cell_type": "markdown",
   "id": "cc0261e1-f3a0-47eb-8c59-40c7ab934052",
   "metadata": {},
   "source": [
    "`-` 교집합"
   ]
  },
  {
   "cell_type": "code",
   "execution_count": 88,
   "id": "771e5fe1-31bb-4ff7-bc05-bb26923c81ba",
   "metadata": {},
   "outputs": [
    {
     "data": {
      "text/plain": [
       "{'b', 'c'}"
      ]
     },
     "execution_count": 88,
     "metadata": {},
     "output_type": "execute_result"
    }
   ],
   "source": [
    "set1 & set2"
   ]
  },
  {
   "cell_type": "code",
   "execution_count": 89,
   "id": "ff017432-9756-4d17-a1b8-bdc8ef63bae0",
   "metadata": {},
   "outputs": [
    {
     "data": {
      "text/plain": [
       "{'b', 'c'}"
      ]
     },
     "execution_count": 89,
     "metadata": {},
     "output_type": "execute_result"
    }
   ],
   "source": [
    "set1.intersection(set2)"
   ]
  },
  {
   "cell_type": "markdown",
   "id": "20c942f0-967c-4118-aaed-6960b2a42ef3",
   "metadata": {},
   "source": [
    "`-` 차집합"
   ]
  },
  {
   "cell_type": "code",
   "execution_count": 93,
   "id": "e6944b86-fb27-4a18-acfd-262c1fc233b8",
   "metadata": {},
   "outputs": [
    {
     "data": {
      "text/plain": [
       "({'a', 'b', 'c'}, {'b', 'c', 'd'})"
      ]
     },
     "execution_count": 93,
     "metadata": {},
     "output_type": "execute_result"
    }
   ],
   "source": [
    "set1,set2"
   ]
  },
  {
   "cell_type": "code",
   "execution_count": 94,
   "id": "f5402172-7978-4133-8220-612547ff15f2",
   "metadata": {},
   "outputs": [
    {
     "data": {
      "text/plain": [
       "{'d'}"
      ]
     },
     "execution_count": 94,
     "metadata": {},
     "output_type": "execute_result"
    }
   ],
   "source": [
    "set2-set1"
   ]
  },
  {
   "cell_type": "markdown",
   "id": "089bd965-968a-4922-a43c-fa15384cd578",
   "metadata": {},
   "source": [
    "### 부분 집합"
   ]
  },
  {
   "cell_type": "code",
   "execution_count": 95,
   "id": "32bfd6a0-c8e5-4c8e-acd1-23cff996eb77",
   "metadata": {},
   "outputs": [],
   "source": [
    "set3 = set1|set2"
   ]
  },
  {
   "cell_type": "code",
   "execution_count": 96,
   "id": "d13e40c4-0e78-44b4-b7a0-3c46a6c35aca",
   "metadata": {},
   "outputs": [
    {
     "data": {
      "text/plain": [
       "True"
      ]
     },
     "execution_count": 96,
     "metadata": {},
     "output_type": "execute_result"
    }
   ],
   "source": [
    "set2<set3"
   ]
  },
  {
   "cell_type": "markdown",
   "id": "4f944f54-342a-45e2-a122-2c0873fa01fc",
   "metadata": {},
   "source": [
    "## for문"
   ]
  },
  {
   "cell_type": "markdown",
   "id": "eb8d2753-cc11-4290-94f7-662d1e21cbb4",
   "metadata": {},
   "source": [
    "`-` 다음에 `txt`에서 각 알파벳이 몇 번 사용됬는지 구하기"
   ]
  },
  {
   "cell_type": "code",
   "execution_count": 97,
   "id": "f44f3be7-a2af-46a2-a6c9-1cfd448be0d1",
   "metadata": {},
   "outputs": [
    {
     "data": {
      "text/plain": [
       "'asdkflkjahsdlkjfhlaksglkjdhflkgjhlskdfjhglkajhsdlkfjhalsdkf'"
      ]
     },
     "execution_count": 97,
     "metadata": {},
     "output_type": "execute_result"
    }
   ],
   "source": [
    "txt = 'asdkflkjahsdlkjfhlaksglkjdhflkgjhlskdfjhglkajhsdlkfjhalsdkf'\n",
    "txt"
   ]
  },
  {
   "cell_type": "code",
   "execution_count": 98,
   "id": "c1ff85ff-924f-4bb9-bdb3-490de046ff7d",
   "metadata": {},
   "outputs": [
    {
     "data": {
      "text/plain": [
       "{'l': 9, 'h': 7, 's': 6, 'd': 6, 'a': 5, 'g': 3, 'j': 7, 'f': 6, 'k': 10}"
      ]
     },
     "execution_count": 98,
     "metadata": {},
     "output_type": "execute_result"
    }
   ],
   "source": [
    "{i : list(txt).count(i) for i in set(txt)}"
   ]
  },
  {
   "cell_type": "markdown",
   "id": "5837c2cc-8123-481f-85b0-9e65143cebf8",
   "metadata": {},
   "source": [
    "***"
   ]
  },
  {
   "cell_type": "markdown",
   "id": "6ec2dd94-473a-4577-9058-ce9138ae40d8",
   "metadata": {},
   "source": [
    "# 딕셔너리"
   ]
  },
  {
   "cell_type": "markdown",
   "id": "44b799dd-ff65-43a5-95e9-da73197b840f",
   "metadata": {},
   "source": [
    "`-` 딕셔너리는 `key`값과 `value`로 구성되어 있다."
   ]
  },
  {
   "cell_type": "markdown",
   "id": "4d3b012b-fb38-4a52-95ee-6a975ad50623",
   "metadata": {},
   "source": [
    "`-` 딕셔너리의 키는 중복을 허용하지 않는다."
   ]
  },
  {
   "cell_type": "code",
   "execution_count": 187,
   "id": "4fb2e37d-c3c1-4a92-b3df-4b80d3198308",
   "metadata": {},
   "outputs": [
    {
     "data": {
      "text/plain": [
       "{'a': [3, 4], 'b': [5, 6]}"
      ]
     },
     "execution_count": 187,
     "metadata": {},
     "output_type": "execute_result"
    }
   ],
   "source": [
    "{\"a\" : [1,2],\"a\" : [3,4],\"b\" : [5,6] }"
   ]
  },
  {
   "cell_type": "markdown",
   "id": "7da0e88a-231d-4d78-be5f-9485c3068ac1",
   "metadata": {},
   "source": [
    "`-` 또한,`리스트,dict,set`는 딕셔너리의 키값이 될 수 없음"
   ]
  },
  {
   "cell_type": "code",
   "execution_count": 191,
   "id": "af14f60e-7e66-481e-a7f0-429a452df55e",
   "metadata": {},
   "outputs": [
    {
     "ename": "TypeError",
     "evalue": "unhashable type: 'list'",
     "output_type": "error",
     "traceback": [
      "\u001b[1;31m---------------------------------------------------------------------------\u001b[0m",
      "\u001b[1;31mTypeError\u001b[0m                                 Traceback (most recent call last)",
      "Cell \u001b[1;32mIn[191], line 1\u001b[0m\n\u001b[1;32m----> 1\u001b[0m dct \u001b[38;5;241m=\u001b[39m {[\u001b[38;5;241m10\u001b[39m,\u001b[38;5;241m20\u001b[39m,\u001b[38;5;241m30\u001b[39m,\u001b[38;5;241m40\u001b[39m]: \u001b[38;5;124m'\u001b[39m\u001b[38;5;124mguebin\u001b[39m\u001b[38;5;124m'\u001b[39m, [\u001b[38;5;241m10\u001b[39m,\u001b[38;5;241m20\u001b[39m,\u001b[38;5;241m25\u001b[39m,\u001b[38;5;241m40\u001b[39m]: \u001b[38;5;124m'\u001b[39m\u001b[38;5;124mhanni\u001b[39m\u001b[38;5;124m'\u001b[39m} \n\u001b[0;32m      2\u001b[0m dct\n",
      "\u001b[1;31mTypeError\u001b[0m: unhashable type: 'list'"
     ]
    }
   ],
   "source": [
    "dct = {[10,20,30,40]: 'guebin', [10,20,25,40]: 'hanni'} \n",
    "dct"
   ]
  },
  {
   "cell_type": "code",
   "execution_count": 196,
   "id": "56768488-c316-4880-adb4-dbbef17b2475",
   "metadata": {},
   "outputs": [
    {
     "ename": "TypeError",
     "evalue": "unhashable type: 'dict'",
     "output_type": "error",
     "traceback": [
      "\u001b[1;31m---------------------------------------------------------------------------\u001b[0m",
      "\u001b[1;31mTypeError\u001b[0m                                 Traceback (most recent call last)",
      "Cell \u001b[1;32mIn[196], line 1\u001b[0m\n\u001b[1;32m----> 1\u001b[0m dct \u001b[38;5;241m=\u001b[39m {{\u001b[38;5;124m\"\u001b[39m\u001b[38;5;124ma\u001b[39m\u001b[38;5;124m\"\u001b[39m:\u001b[38;5;241m1\u001b[39m}: \u001b[38;5;124m'\u001b[39m\u001b[38;5;124mguebin\u001b[39m\u001b[38;5;124m'\u001b[39m, {\u001b[38;5;124m\"\u001b[39m\u001b[38;5;124mb\u001b[39m\u001b[38;5;124m\"\u001b[39m:\u001b[38;5;241m1\u001b[39m}: \u001b[38;5;124m'\u001b[39m\u001b[38;5;124mhanni\u001b[39m\u001b[38;5;124m'\u001b[39m} \n\u001b[0;32m      2\u001b[0m dct\n",
      "\u001b[1;31mTypeError\u001b[0m: unhashable type: 'dict'"
     ]
    }
   ],
   "source": [
    "dct = {{\"a\":1}: 'guebin', {\"b\":1}: 'hanni'} \n",
    "dct"
   ]
  },
  {
   "cell_type": "code",
   "execution_count": 195,
   "id": "3a0bb86b-a45e-457c-9f2f-76f6f6946b76",
   "metadata": {},
   "outputs": [
    {
     "ename": "TypeError",
     "evalue": "unhashable type: 'set'",
     "output_type": "error",
     "traceback": [
      "\u001b[1;31m---------------------------------------------------------------------------\u001b[0m",
      "\u001b[1;31mTypeError\u001b[0m                                 Traceback (most recent call last)",
      "Cell \u001b[1;32mIn[195], line 1\u001b[0m\n\u001b[1;32m----> 1\u001b[0m dct \u001b[38;5;241m=\u001b[39m {{\u001b[38;5;124m'\u001b[39m\u001b[38;5;124m샌드위치\u001b[39m\u001b[38;5;124m'\u001b[39m,\u001b[38;5;124m'\u001b[39m\u001b[38;5;124m딸기우유\u001b[39m\u001b[38;5;124m'\u001b[39m}:\u001b[38;5;124m'\u001b[39m\u001b[38;5;124m점심\u001b[39m\u001b[38;5;124m'\u001b[39m, {\u001b[38;5;124m'\u001b[39m\u001b[38;5;124m불고기\u001b[39m\u001b[38;5;124m'\u001b[39m,\u001b[38;5;124m'\u001b[39m\u001b[38;5;124m된장찌개\u001b[39m\u001b[38;5;124m'\u001b[39m,\u001b[38;5;124m'\u001b[39m\u001b[38;5;124m김\u001b[39m\u001b[38;5;124m'\u001b[39m,\u001b[38;5;124m'\u001b[39m\u001b[38;5;124m콩자반\u001b[39m\u001b[38;5;124m'\u001b[39m}: \u001b[38;5;124m'\u001b[39m\u001b[38;5;124m저녁\u001b[39m\u001b[38;5;124m'\u001b[39m}\n\u001b[0;32m      2\u001b[0m dct\n",
      "\u001b[1;31mTypeError\u001b[0m: unhashable type: 'set'"
     ]
    }
   ],
   "source": [
    "dct = {{'샌드위치','딸기우유'}:'점심', {'불고기','된장찌개','김','콩자반'}: '저녁'}\n",
    "dct"
   ]
  },
  {
   "cell_type": "markdown",
   "id": "253b5d8f-44c8-459f-af1d-8007ad47b232",
   "metadata": {},
   "source": [
    "`-` 튜플은 가능!"
   ]
  },
  {
   "cell_type": "code",
   "execution_count": 194,
   "id": "c096ad22-8d05-4864-8040-ca0f962e8e25",
   "metadata": {},
   "outputs": [
    {
     "data": {
      "text/plain": [
       "{(10, 20, 30, 40): 'guebin', (10, 20, 25, 40): 'hanni'}"
      ]
     },
     "execution_count": 194,
     "metadata": {},
     "output_type": "execute_result"
    }
   ],
   "source": [
    "dct = {(10,20,30,40): 'guebin', (10,20,25,40): 'hanni'} \n",
    "dct"
   ]
  },
  {
   "cell_type": "markdown",
   "id": "f7c5c5f0-6a6f-4273-9401-c9af223fd8d7",
   "metadata": {},
   "source": [
    "`-` 순서대로 정리된 자료를 검색할 때는 시퀀스(리스트,튜플,문자열)이 유리하나, 키워드로 검색하고 싶을때는 딕셔너리 타입이 유리하다."
   ]
  },
  {
   "cell_type": "markdown",
   "id": "ac25fa1c-1b16-4319-a5ca-2e7f5a13ba5f",
   "metadata": {},
   "source": [
    "`-` 순서가 의미가 없어, 인덱싱과 슬라이싱이 의미가 없다."
   ]
  },
  {
   "cell_type": "markdown",
   "id": "014290db-ab5f-4e55-8b61-1a8fba2fbe39",
   "metadata": {},
   "source": [
    "## 선언"
   ]
  },
  {
   "cell_type": "markdown",
   "id": "c77f55b0-6344-4053-a9df-2f0c728b9f91",
   "metadata": {},
   "source": [
    "### 방법 1. 가장 일반적 "
   ]
  },
  {
   "cell_type": "code",
   "execution_count": 111,
   "id": "34fd178d-b3de-432a-b07e-2d4aa442342e",
   "metadata": {},
   "outputs": [
    {
     "data": {
      "text/plain": [
       "{'a': 1, 'b': 2}"
      ]
     },
     "execution_count": 111,
     "metadata": {},
     "output_type": "execute_result"
    }
   ],
   "source": [
    "dct=  {\"a\" : 1, \"b\":2}\n",
    "dct"
   ]
  },
  {
   "cell_type": "markdown",
   "id": "e2061657-14d6-42a8-8609-9e6a7551328d",
   "metadata": {},
   "source": [
    "### 방법 2. dict($\\star\\star$)"
   ]
  },
  {
   "cell_type": "code",
   "execution_count": 112,
   "id": "628a9020-d1f4-42e8-8281-2e206948cd9b",
   "metadata": {},
   "outputs": [
    {
     "data": {
      "text/plain": [
       "{'a': 1, 'b': 2}"
      ]
     },
     "execution_count": 112,
     "metadata": {},
     "output_type": "execute_result"
    }
   ],
   "source": [
    "dct = dict(a=1, b=2)\n",
    "dct"
   ]
  },
  {
   "cell_type": "markdown",
   "id": "37bd8249-b5d5-4952-a760-c24e0f04e981",
   "metadata": {},
   "source": [
    "### 방법 3. 중첩된 리스트"
   ]
  },
  {
   "cell_type": "code",
   "execution_count": 113,
   "id": "7276a4ab-088f-4ef3-972c-229e288d7af0",
   "metadata": {},
   "outputs": [
    {
     "data": {
      "text/plain": [
       "{'a': 1, 'b': 2}"
      ]
     },
     "execution_count": 113,
     "metadata": {},
     "output_type": "execute_result"
    }
   ],
   "source": [
    "dct = dict([[\"a\",1],[\"b\",2]])\n",
    "dct"
   ]
  },
  {
   "cell_type": "markdown",
   "id": "78c12444-b04d-4689-bbd9-fdedc6d21a01",
   "metadata": {},
   "source": [
    "### 방법 4. 튜플"
   ]
  },
  {
   "cell_type": "code",
   "execution_count": 114,
   "id": "ee083ac6-fff9-4683-850a-deffab3fcdee",
   "metadata": {},
   "outputs": [
    {
     "data": {
      "text/plain": [
       "{'a': 1, 'b': 2}"
      ]
     },
     "execution_count": 114,
     "metadata": {},
     "output_type": "execute_result"
    }
   ],
   "source": [
    "dct = (\"a\",1),(\"b\",2)\n",
    "dict(dct)"
   ]
  },
  {
   "cell_type": "markdown",
   "id": "cffb700d-1507-41e3-b1dc-816110703563",
   "metadata": {},
   "source": [
    "## 원소 추출"
   ]
  },
  {
   "cell_type": "markdown",
   "id": "a1f175b6-78a6-4b64-b938-9bbdd6ed7e0b",
   "metadata": {},
   "source": [
    "`-` 딕셔너리는 key값을 이용해서 추출해야한다. **(value로 key를 찾는 것은 불가!)**"
   ]
  },
  {
   "cell_type": "code",
   "execution_count": 115,
   "id": "d322393e-0bd0-4fca-b7c7-1303e8b206d3",
   "metadata": {},
   "outputs": [],
   "source": [
    "dct =dict(dct)"
   ]
  },
  {
   "cell_type": "code",
   "execution_count": 117,
   "id": "712d09e3-2570-4780-a373-9094694d8c19",
   "metadata": {},
   "outputs": [
    {
     "data": {
      "text/plain": [
       "(1, 2)"
      ]
     },
     "execution_count": 117,
     "metadata": {},
     "output_type": "execute_result"
    }
   ],
   "source": [
    "dct[\"a\"], dct[\"b\"]"
   ]
  },
  {
   "cell_type": "markdown",
   "id": "6a04203b-8f70-483f-b816-d51ed034304e",
   "metadata": {},
   "source": [
    "### ex1. 딕셔너리를 쓰는 이유?"
   ]
  },
  {
   "cell_type": "markdown",
   "id": "b41caa92-4c85-4785-81f1-492501c0cdba",
   "metadata": {},
   "source": [
    "`-` 아래와 같은 구조가 있다고 하자."
   ]
  },
  {
   "cell_type": "code",
   "execution_count": 118,
   "id": "24670791-f634-44a8-b95b-72a799cd6697",
   "metadata": {},
   "outputs": [
    {
     "data": {
      "text/plain": [
       "[['a', 1], ['b', 2]]"
      ]
     },
     "execution_count": 118,
     "metadata": {},
     "output_type": "execute_result"
    }
   ],
   "source": [
    "lst = [[\"a\",1],[\"b\",2]]\n",
    "lst"
   ]
  },
  {
   "cell_type": "markdown",
   "id": "f4633382-5fcc-4b36-b998-ab73f9509973",
   "metadata": {},
   "source": [
    "`-` 여기에서 a의 값을 알려면?"
   ]
  },
  {
   "cell_type": "code",
   "execution_count": 119,
   "id": "acd0b5b0-cfc3-482b-9090-2ff682bb5741",
   "metadata": {},
   "outputs": [
    {
     "data": {
      "text/plain": [
       "[1]"
      ]
     },
     "execution_count": 119,
     "metadata": {},
     "output_type": "execute_result"
    }
   ],
   "source": [
    "[s for n,s in lst if n==\"a\"]"
   ]
  },
  {
   "cell_type": "markdown",
   "id": "3a2ab21a-b3ee-464e-9f98-ac858a9fc611",
   "metadata": {},
   "source": [
    "`-` 딕셔너리를 이용한 풀이"
   ]
  },
  {
   "cell_type": "code",
   "execution_count": 120,
   "id": "8c5306fc-2de9-432c-bc70-3473004b837f",
   "metadata": {},
   "outputs": [
    {
     "data": {
      "text/plain": [
       "1"
      ]
     },
     "execution_count": 120,
     "metadata": {},
     "output_type": "execute_result"
    }
   ],
   "source": [
    "dict(lst)[\"a\"]"
   ]
  },
  {
   "cell_type": "markdown",
   "id": "092298e1-3417-410c-b021-0aa21b4e88d3",
   "metadata": {},
   "source": [
    "## 원소 추가"
   ]
  },
  {
   "cell_type": "code",
   "execution_count": 122,
   "id": "9432a029-3052-4e7a-bfc5-4adbc7455deb",
   "metadata": {},
   "outputs": [
    {
     "data": {
      "text/plain": [
       "{'a': 1, 'b': 2}"
      ]
     },
     "execution_count": 122,
     "metadata": {},
     "output_type": "execute_result"
    }
   ],
   "source": [
    "dct"
   ]
  },
  {
   "cell_type": "code",
   "execution_count": 123,
   "id": "73adb9d5-9b59-4376-858b-b1569d963cea",
   "metadata": {},
   "outputs": [],
   "source": [
    "dct[\"c\"]=3"
   ]
  },
  {
   "cell_type": "code",
   "execution_count": 124,
   "id": "c7f211e6-0a11-43f9-ab6a-f0b72a25dead",
   "metadata": {},
   "outputs": [
    {
     "data": {
      "text/plain": [
       "{'a': 1, 'b': 2, 'c': 3}"
      ]
     },
     "execution_count": 124,
     "metadata": {},
     "output_type": "execute_result"
    }
   ],
   "source": [
    "dct"
   ]
  },
  {
   "cell_type": "markdown",
   "id": "eb1abe1a-d5e0-433a-8714-00a0873f222f",
   "metadata": {},
   "source": [
    "## 원소 삭제"
   ]
  },
  {
   "cell_type": "markdown",
   "id": "3942389c-42a7-4d3c-a99a-574d918055dd",
   "metadata": {},
   "source": [
    "`-` 방법 1"
   ]
  },
  {
   "cell_type": "code",
   "execution_count": 125,
   "id": "5eb3eed7-5ace-4fb2-8243-f583d715de9d",
   "metadata": {},
   "outputs": [],
   "source": [
    "del dct[\"a\"]"
   ]
  },
  {
   "cell_type": "code",
   "execution_count": 126,
   "id": "5b00a91b-659a-4a2f-9558-a7f30b4b0634",
   "metadata": {},
   "outputs": [
    {
     "data": {
      "text/plain": [
       "{'b': 2, 'c': 3}"
      ]
     },
     "execution_count": 126,
     "metadata": {},
     "output_type": "execute_result"
    }
   ],
   "source": [
    "dct"
   ]
  },
  {
   "cell_type": "markdown",
   "id": "bbb914a3-7311-4e93-ac7c-83b0577c61d3",
   "metadata": {},
   "source": [
    "`-` 방법 2"
   ]
  },
  {
   "cell_type": "code",
   "execution_count": 127,
   "id": "2cee638f-f1aa-4caa-9ca2-1a725a3d8b07",
   "metadata": {},
   "outputs": [
    {
     "data": {
      "text/plain": [
       "2"
      ]
     },
     "execution_count": 127,
     "metadata": {},
     "output_type": "execute_result"
    }
   ],
   "source": [
    "dct.pop(\"b\")"
   ]
  },
  {
   "cell_type": "code",
   "execution_count": 128,
   "id": "c2a85cca-1e86-40f4-835a-12b86ea24819",
   "metadata": {},
   "outputs": [
    {
     "data": {
      "text/plain": [
       "{'c': 3}"
      ]
     },
     "execution_count": 128,
     "metadata": {},
     "output_type": "execute_result"
    }
   ],
   "source": [
    "dct"
   ]
  },
  {
   "cell_type": "markdown",
   "id": "0dba993e-81da-4683-9b00-64f13e9f9987",
   "metadata": {},
   "source": [
    "## 연산"
   ]
  },
  {
   "cell_type": "code",
   "execution_count": 130,
   "id": "b59d591a-bae1-4d55-9412-5d575da9deca",
   "metadata": {},
   "outputs": [],
   "source": [
    "dct = dict(a=1,b=2,c=3)"
   ]
  },
  {
   "cell_type": "code",
   "execution_count": 131,
   "id": "8bda4478-6730-4fb4-9d03-adf6cf6e35d9",
   "metadata": {},
   "outputs": [
    {
     "data": {
      "text/plain": [
       "{'a': 1, 'b': 2, 'c': 3}"
      ]
     },
     "execution_count": 131,
     "metadata": {},
     "output_type": "execute_result"
    }
   ],
   "source": [
    "dct"
   ]
  },
  {
   "cell_type": "code",
   "execution_count": 132,
   "id": "ed3387c3-6494-4223-986d-04a79d983557",
   "metadata": {},
   "outputs": [
    {
     "data": {
      "text/plain": [
       "True"
      ]
     },
     "execution_count": 132,
     "metadata": {},
     "output_type": "execute_result"
    }
   ],
   "source": [
    "\"a\" in dct"
   ]
  },
  {
   "cell_type": "markdown",
   "id": "ab0eb0a0-5f2b-4fd5-8e75-9d17a5a2686a",
   "metadata": {},
   "source": [
    "## 특수 기능"
   ]
  },
  {
   "cell_type": "code",
   "execution_count": 133,
   "id": "a36defa1-019f-4eb9-aafd-78b7bf721545",
   "metadata": {},
   "outputs": [
    {
     "data": {
      "text/plain": [
       "{'a': 1, 'b': 2, 'c': 3}"
      ]
     },
     "execution_count": 133,
     "metadata": {},
     "output_type": "execute_result"
    }
   ],
   "source": [
    "dct"
   ]
  },
  {
   "cell_type": "code",
   "execution_count": 137,
   "id": "df9b165f-efea-4010-8943-b96d2df2c76a",
   "metadata": {},
   "outputs": [
    {
     "data": {
      "text/plain": [
       "dict_keys(['a', 'b', 'c'])"
      ]
     },
     "execution_count": 137,
     "metadata": {},
     "output_type": "execute_result"
    }
   ],
   "source": [
    "dct.keys()"
   ]
  },
  {
   "cell_type": "code",
   "execution_count": 138,
   "id": "95c86d88-eae0-47b1-95cb-fa9086edae4e",
   "metadata": {},
   "outputs": [
    {
     "data": {
      "text/plain": [
       "dict_values([1, 2, 3])"
      ]
     },
     "execution_count": 138,
     "metadata": {},
     "output_type": "execute_result"
    }
   ],
   "source": [
    "dct.values()"
   ]
  },
  {
   "cell_type": "code",
   "execution_count": 139,
   "id": "f0ed7e3a-ff40-4277-8e3e-f7cdc62c42db",
   "metadata": {},
   "outputs": [
    {
     "data": {
      "text/plain": [
       "dict_items([('a', 1), ('b', 2), ('c', 3)])"
      ]
     },
     "execution_count": 139,
     "metadata": {},
     "output_type": "execute_result"
    }
   ],
   "source": [
    "dct.items()"
   ]
  },
  {
   "cell_type": "markdown",
   "id": "1ecbe881-c42f-446c-8dc9-cf979500e849",
   "metadata": {},
   "source": [
    "## for + dict($\\star\\star$)"
   ]
  },
  {
   "cell_type": "code",
   "execution_count": 140,
   "id": "9e1c2e53-cbf4-45e6-90f4-d4f138813331",
   "metadata": {},
   "outputs": [
    {
     "name": "stdout",
     "output_type": "stream",
     "text": [
      "a\n",
      "b\n",
      "c\n"
     ]
    }
   ],
   "source": [
    "for k in dct.keys() :\n",
    "    print(k)"
   ]
  },
  {
   "cell_type": "markdown",
   "id": "fbbd901f-cfb6-4e64-b873-1af742a82beb",
   "metadata": {},
   "source": [
    "`-` 아 딕셔너리는 루프에서 객체 자체로 전달시 key값을 반환한다."
   ]
  },
  {
   "cell_type": "code",
   "execution_count": 142,
   "id": "7893c53a-ba3e-40d9-8965-1ed7e96b8310",
   "metadata": {},
   "outputs": [
    {
     "name": "stdout",
     "output_type": "stream",
     "text": [
      "a\n",
      "b\n",
      "c\n"
     ]
    }
   ],
   "source": [
    "for k in dct:\n",
    "    print(k)"
   ]
  },
  {
   "cell_type": "markdown",
   "id": "55f5106d-cad3-43b4-a63f-9d083257c470",
   "metadata": {},
   "source": [
    "`-` value 접근"
   ]
  },
  {
   "cell_type": "code",
   "execution_count": 143,
   "id": "cad11b5b-6daf-45d0-b9b0-f5df570fccdb",
   "metadata": {},
   "outputs": [
    {
     "name": "stdout",
     "output_type": "stream",
     "text": [
      "1\n",
      "2\n",
      "3\n"
     ]
    }
   ],
   "source": [
    "for i in dct.values():\n",
    "    print(i)"
   ]
  },
  {
   "cell_type": "markdown",
   "id": "f65ba7a4-0d3d-48f9-9f02-129335d79dbc",
   "metadata": {},
   "source": [
    "`-` key,value 동시 접근"
   ]
  },
  {
   "cell_type": "code",
   "execution_count": 144,
   "id": "08457a74-dd67-48aa-be8c-f667c31c2ce4",
   "metadata": {},
   "outputs": [
    {
     "name": "stdout",
     "output_type": "stream",
     "text": [
      "a 1\n",
      "b 2\n",
      "c 3\n"
     ]
    }
   ],
   "source": [
    "for i,j in dct.items():\n",
    "    print(i,j)"
   ]
  },
  {
   "cell_type": "markdown",
   "id": "fbe2a1d4-36eb-415a-b600-e4f1249be9a7",
   "metadata": {},
   "source": [
    "## list $\\to$ dict.values"
   ]
  },
  {
   "cell_type": "markdown",
   "id": "991b1f9b-38b4-488e-8fe0-93a8fac66eba",
   "metadata": {},
   "source": [
    "`-` 아래와 같은 원핫인코딩을 생각"
   ]
  },
  {
   "cell_type": "markdown",
   "id": "ce32656a-a2fe-4d20-8785-1f6d39fb1d46",
   "metadata": {},
   "source": [
    "|변환전|변환후|\n",
    "|:---:|:---:|\n",
    "|a|[1,0,0,0]|\n",
    "|b|[0,1,0,0]|\n",
    "|c|[0,0,1,0]|\n",
    "|d|[0,0,0,1]|"
   ]
  },
  {
   "cell_type": "markdown",
   "id": "b95efc85-a9aa-479d-a89f-0258c8cd85b0",
   "metadata": {},
   "source": [
    "`-` 주어진 리스트를 원핫인코딩하여라"
   ]
  },
  {
   "cell_type": "code",
   "execution_count": 173,
   "id": "17847fd6-2145-4496-96a4-7d6df2308bc4",
   "metadata": {},
   "outputs": [
    {
     "data": {
      "text/plain": [
       "['a', 'b', 'c', 'd', 'a', 'b', 'c', 'd']"
      ]
     },
     "execution_count": 173,
     "metadata": {},
     "output_type": "execute_result"
    }
   ],
   "source": [
    "lst = list(\"abcd\")*2\n",
    "lst"
   ]
  },
  {
   "cell_type": "markdown",
   "id": "61ef1670-2256-4ae1-9f34-ee6b32519fe3",
   "metadata": {},
   "source": [
    "### sol"
   ]
  },
  {
   "cell_type": "code",
   "execution_count": 174,
   "id": "5594d89f-72c7-41ae-8b0b-db9cd66f362d",
   "metadata": {},
   "outputs": [],
   "source": [
    "dct = {\"a\": [1,0,0,0],\n",
    "      \"b\": [0,1,0,0],\n",
    "      \"c\": [0,0,1,0],\n",
    "      \"d\": [0,0,0,1]}"
   ]
  },
  {
   "cell_type": "code",
   "execution_count": 175,
   "id": "43607940-54bf-4578-b5c2-63bf80a16a0e",
   "metadata": {},
   "outputs": [
    {
     "data": {
      "text/plain": [
       "{'a': [1, 0, 0, 0], 'b': [0, 1, 0, 0], 'c': [0, 0, 1, 0], 'd': [0, 0, 0, 1]}"
      ]
     },
     "execution_count": 175,
     "metadata": {},
     "output_type": "execute_result"
    }
   ],
   "source": [
    "dct"
   ]
  },
  {
   "cell_type": "markdown",
   "id": "97e3c361-79e5-4af0-9bbf-abefcf991f62",
   "metadata": {},
   "source": [
    "##  dict.values $\\to$  list"
   ]
  },
  {
   "cell_type": "markdown",
   "id": "6467d256-45b0-48ad-8090-898e969ba9c5",
   "metadata": {},
   "source": [
    "`-` 위 원핫인코딩을 다시 변환 "
   ]
  },
  {
   "cell_type": "markdown",
   "id": "d700e847-b05f-4905-ba31-6e9455f33ee1",
   "metadata": {},
   "source": [
    "### sol"
   ]
  },
  {
   "cell_type": "code",
   "execution_count": 179,
   "id": "f791036b-3f8b-4bc3-80f3-d3403389000e",
   "metadata": {},
   "outputs": [
    {
     "data": {
      "text/plain": [
       "[[1, 0, 0, 0],\n",
       " [0, 1, 0, 0],\n",
       " [0, 0, 1, 0],\n",
       " [0, 0, 0, 1],\n",
       " [1, 0, 0, 0],\n",
       " [0, 1, 0, 0],\n",
       " [0, 0, 1, 0],\n",
       " [0, 0, 0, 1]]"
      ]
     },
     "execution_count": 179,
     "metadata": {},
     "output_type": "execute_result"
    }
   ],
   "source": [
    "value = [v for v in dct.values()] *2\n",
    "value"
   ]
  },
  {
   "cell_type": "code",
   "execution_count": 185,
   "id": "24afd5ca-a0a1-410c-b8e5-bfdc9cc95dce",
   "metadata": {},
   "outputs": [
    {
     "data": {
      "text/plain": [
       "['a', 'b', 'c', 'd', 'a', 'b', 'c', 'd']"
      ]
     },
     "execution_count": 185,
     "metadata": {},
     "output_type": "execute_result"
    }
   ],
   "source": [
    "[i for v in value for i,j in dct.items() if j == v]"
   ]
  },
  {
   "cell_type": "markdown",
   "id": "8c10b65c-7473-4634-acf2-e534f5308d41",
   "metadata": {},
   "source": [
    "# Exercise Link"
   ]
  },
  {
   "cell_type": "markdown",
   "id": "d3a15d1d-91eb-403a-bbf4-95fe87c9f108",
   "metadata": {},
   "source": [
    "`-` [tuple](https://gangcheol.github.io/mysite/post/Lecture/IP/2023-08-03-03.%ED%8A%9C%ED%94%8C.html#excersise)"
   ]
  },
  {
   "cell_type": "markdown",
   "id": "6a91a078-a124-45a5-8929-03771bfa12be",
   "metadata": {},
   "source": [
    "`-` [set](https://gangcheol.github.io/mysite/post/Lecture/IP/2023-08-04-05.%20%EC%A7%91%ED%95%A9.html#exercise)"
   ]
  },
  {
   "cell_type": "markdown",
   "id": "58b4d5b9-0517-4741-ab92-d567cc02039d",
   "metadata": {},
   "source": [
    "`-` [dictionary1](https://gangcheol.github.io/mysite/post/Lecture/IP/2023-08-04-04.%EB%94%95%EC%85%94%EB%84%88%EB%A6%AC.html#exercise)"
   ]
  },
  {
   "cell_type": "markdown",
   "id": "beef612f-b03d-4016-9a13-070cf1118cc0",
   "metadata": {},
   "source": [
    "`-` [dictionary2](https://gangcheol.github.io/mysite/post/Lecture/IP/2023-08-04-04.%EB%94%95%EC%85%94%EB%84%88%EB%A6%AC.html#ex1)"
   ]
  }
 ],
 "metadata": {
  "kernelspec": {
   "display_name": "Python 3 (ipykernel)",
   "language": "python",
   "name": "python3"
  },
  "language_info": {
   "codemirror_mode": {
    "name": "ipython",
    "version": 3
   },
   "file_extension": ".py",
   "mimetype": "text/x-python",
   "name": "python",
   "nbconvert_exporter": "python",
   "pygments_lexer": "ipython3",
   "version": "3.11.4"
  }
 },
 "nbformat": 4,
 "nbformat_minor": 5
}
