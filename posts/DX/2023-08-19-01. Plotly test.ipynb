{
 "cells": [
  {
   "cell_type": "raw",
   "id": "2ca3c491-e013-4167-876d-d35035b45e2b",
   "metadata": {},
   "source": [
    "---\n",
    "title : \"01. Plotly test\"\n",
    "author : \"GC\"\n",
    "date : \"08/19/23\"\n",
    "categories : [python, plotly]\n",
    "---"
   ]
  },
  {
   "cell_type": "markdown",
   "id": "8c8a81de-7ccc-46d7-a895-68062f77ee06",
   "metadata": {},
   "source": [
    "# import"
   ]
  },
  {
   "cell_type": "code",
   "execution_count": 1,
   "id": "43ae6afd-7c59-43d6-b36d-715171ef0711",
   "metadata": {
    "tags": []
   },
   "outputs": [],
   "source": [
    "import plotly.express as ex\n",
    "import plotly.express as px\n",
    "import plotly.io as pio\n",
    "pio.renderers.default = \"plotly_mimetype+notebook_connected\"\n",
    "import numpy as np\n",
    "import pandas as pd"
   ]
  },
  {
   "cell_type": "code",
   "execution_count": 2,
   "id": "16c4eb72-2579-41bd-8b8e-8220c442f873",
   "metadata": {
    "tags": []
   },
   "outputs": [
    {
     "data": {
      "text/html": [
       "<div>\n",
       "<style scoped>\n",
       "    .dataframe tbody tr th:only-of-type {\n",
       "        vertical-align: middle;\n",
       "    }\n",
       "\n",
       "    .dataframe tbody tr th {\n",
       "        vertical-align: top;\n",
       "    }\n",
       "\n",
       "    .dataframe thead th {\n",
       "        text-align: right;\n",
       "    }\n",
       "</style>\n",
       "<table border=\"1\" class=\"dataframe\">\n",
       "  <thead>\n",
       "    <tr style=\"text-align: right;\">\n",
       "      <th></th>\n",
       "      <th>Date</th>\n",
       "      <th>Samsung</th>\n",
       "      <th>Apple</th>\n",
       "      <th>Huawei</th>\n",
       "      <th>Xiaomi</th>\n",
       "      <th>Oppo</th>\n",
       "      <th>Mobicel</th>\n",
       "      <th>Motorola</th>\n",
       "      <th>LG</th>\n",
       "      <th>Others</th>\n",
       "      <th>Realme</th>\n",
       "      <th>Google</th>\n",
       "      <th>Nokia</th>\n",
       "      <th>Lenovo</th>\n",
       "      <th>OnePlus</th>\n",
       "      <th>Sony</th>\n",
       "      <th>Asus</th>\n",
       "    </tr>\n",
       "  </thead>\n",
       "  <tbody>\n",
       "    <tr>\n",
       "      <th>0</th>\n",
       "      <td>2019-10</td>\n",
       "      <td>31.49</td>\n",
       "      <td>22.09</td>\n",
       "      <td>10.02</td>\n",
       "      <td>7.79</td>\n",
       "      <td>4.10</td>\n",
       "      <td>3.15</td>\n",
       "      <td>2.41</td>\n",
       "      <td>2.40</td>\n",
       "      <td>9.51</td>\n",
       "      <td>0.54</td>\n",
       "      <td>2.35</td>\n",
       "      <td>0.95</td>\n",
       "      <td>0.96</td>\n",
       "      <td>0.70</td>\n",
       "      <td>0.84</td>\n",
       "      <td>0.74</td>\n",
       "    </tr>\n",
       "    <tr>\n",
       "      <th>1</th>\n",
       "      <td>2019-11</td>\n",
       "      <td>31.36</td>\n",
       "      <td>22.90</td>\n",
       "      <td>10.18</td>\n",
       "      <td>8.16</td>\n",
       "      <td>4.42</td>\n",
       "      <td>3.41</td>\n",
       "      <td>2.40</td>\n",
       "      <td>2.40</td>\n",
       "      <td>9.10</td>\n",
       "      <td>0.78</td>\n",
       "      <td>0.66</td>\n",
       "      <td>0.97</td>\n",
       "      <td>0.97</td>\n",
       "      <td>0.73</td>\n",
       "      <td>0.83</td>\n",
       "      <td>0.75</td>\n",
       "    </tr>\n",
       "    <tr>\n",
       "      <th>2</th>\n",
       "      <td>2019-12</td>\n",
       "      <td>31.37</td>\n",
       "      <td>24.79</td>\n",
       "      <td>9.95</td>\n",
       "      <td>7.73</td>\n",
       "      <td>4.23</td>\n",
       "      <td>3.19</td>\n",
       "      <td>2.50</td>\n",
       "      <td>2.54</td>\n",
       "      <td>8.13</td>\n",
       "      <td>0.84</td>\n",
       "      <td>0.75</td>\n",
       "      <td>0.90</td>\n",
       "      <td>0.87</td>\n",
       "      <td>0.74</td>\n",
       "      <td>0.77</td>\n",
       "      <td>0.70</td>\n",
       "    </tr>\n",
       "    <tr>\n",
       "      <th>3</th>\n",
       "      <td>2020-01</td>\n",
       "      <td>31.29</td>\n",
       "      <td>24.76</td>\n",
       "      <td>10.61</td>\n",
       "      <td>8.10</td>\n",
       "      <td>4.25</td>\n",
       "      <td>3.02</td>\n",
       "      <td>2.42</td>\n",
       "      <td>2.40</td>\n",
       "      <td>7.55</td>\n",
       "      <td>0.88</td>\n",
       "      <td>0.69</td>\n",
       "      <td>0.88</td>\n",
       "      <td>0.86</td>\n",
       "      <td>0.79</td>\n",
       "      <td>0.80</td>\n",
       "      <td>0.69</td>\n",
       "    </tr>\n",
       "    <tr>\n",
       "      <th>4</th>\n",
       "      <td>2020-02</td>\n",
       "      <td>30.91</td>\n",
       "      <td>25.89</td>\n",
       "      <td>10.98</td>\n",
       "      <td>7.80</td>\n",
       "      <td>4.31</td>\n",
       "      <td>2.89</td>\n",
       "      <td>2.36</td>\n",
       "      <td>2.34</td>\n",
       "      <td>7.06</td>\n",
       "      <td>0.89</td>\n",
       "      <td>0.70</td>\n",
       "      <td>0.81</td>\n",
       "      <td>0.77</td>\n",
       "      <td>0.78</td>\n",
       "      <td>0.80</td>\n",
       "      <td>0.69</td>\n",
       "    </tr>\n",
       "  </tbody>\n",
       "</table>\n",
       "</div>"
      ],
      "text/plain": [
       "      Date  Samsung  Apple  Huawei  Xiaomi  Oppo  Mobicel  Motorola    LG  \\\n",
       "0  2019-10    31.49  22.09   10.02    7.79  4.10     3.15      2.41  2.40   \n",
       "1  2019-11    31.36  22.90   10.18    8.16  4.42     3.41      2.40  2.40   \n",
       "2  2019-12    31.37  24.79    9.95    7.73  4.23     3.19      2.50  2.54   \n",
       "3  2020-01    31.29  24.76   10.61    8.10  4.25     3.02      2.42  2.40   \n",
       "4  2020-02    30.91  25.89   10.98    7.80  4.31     2.89      2.36  2.34   \n",
       "\n",
       "   Others  Realme  Google  Nokia  Lenovo  OnePlus  Sony  Asus  \n",
       "0    9.51    0.54    2.35   0.95    0.96     0.70  0.84  0.74  \n",
       "1    9.10    0.78    0.66   0.97    0.97     0.73  0.83  0.75  \n",
       "2    8.13    0.84    0.75   0.90    0.87     0.74  0.77  0.70  \n",
       "3    7.55    0.88    0.69   0.88    0.86     0.79  0.80  0.69  \n",
       "4    7.06    0.89    0.70   0.81    0.77     0.78  0.80  0.69  "
      ]
     },
     "execution_count": 2,
     "metadata": {},
     "output_type": "execute_result"
    }
   ],
   "source": [
    "df = pd.read_csv('https://raw.githubusercontent.com/kalilurrahman/datasets/main/mobilephonemktshare2020.csv')\n",
    "df.head()"
   ]
  },
  {
   "cell_type": "code",
   "execution_count": 3,
   "id": "68e90325-9df9-432c-b53b-9bd3d0b7192f",
   "metadata": {
    "tags": []
   },
   "outputs": [
    {
     "data": {
      "text/html": [
       "        <script type=\"text/javascript\">\n",
       "        window.PlotlyConfig = {MathJaxConfig: 'local'};\n",
       "        if (window.MathJax && window.MathJax.Hub && window.MathJax.Hub.Config) {window.MathJax.Hub.Config({SVG: {font: \"STIX-Web\"}});}\n",
       "        if (typeof require !== 'undefined') {\n",
       "        require.undef(\"plotly\");\n",
       "        requirejs.config({\n",
       "            paths: {\n",
       "                'plotly': ['https://cdn.plot.ly/plotly-2.25.2.min']\n",
       "            }\n",
       "        });\n",
       "        require(['plotly'], function(Plotly) {\n",
       "            window._Plotly = Plotly;\n",
       "        });\n",
       "        }\n",
       "        </script>\n",
       "        "
      ]
     },
     "metadata": {},
     "output_type": "display_data"
    },
    {
     "data": {
      "application/vnd.plotly.v1+json": {
       "config": {
        "plotlyServerURL": "https://plot.ly"
       },
       "data": [
        {
         "alignmentgroup": "True",
         "hovertemplate": "variable=%{x}<br>value=%{y}<extra></extra>",
         "legendgroup": "",
         "marker": {
          "color": "#636efa"
         },
         "name": "",
         "notched": false,
         "offsetgroup": "",
         "orientation": "v",
         "showlegend": false,
         "type": "box",
         "x": [
          "Samsung",
          "Samsung",
          "Samsung",
          "Samsung",
          "Samsung",
          "Samsung",
          "Samsung",
          "Samsung",
          "Samsung",
          "Samsung",
          "Samsung",
          "Samsung",
          "Apple",
          "Apple",
          "Apple",
          "Apple",
          "Apple",
          "Apple",
          "Apple",
          "Apple",
          "Apple",
          "Apple",
          "Apple",
          "Apple",
          "Huawei",
          "Huawei",
          "Huawei",
          "Huawei",
          "Huawei",
          "Huawei",
          "Huawei",
          "Huawei",
          "Huawei",
          "Huawei",
          "Huawei",
          "Huawei",
          "Xiaomi",
          "Xiaomi",
          "Xiaomi",
          "Xiaomi",
          "Xiaomi",
          "Xiaomi",
          "Xiaomi",
          "Xiaomi",
          "Xiaomi",
          "Xiaomi",
          "Xiaomi",
          "Xiaomi",
          "Oppo",
          "Oppo",
          "Oppo",
          "Oppo",
          "Oppo",
          "Oppo",
          "Oppo",
          "Oppo",
          "Oppo",
          "Oppo",
          "Oppo",
          "Oppo",
          "Mobicel",
          "Mobicel",
          "Mobicel",
          "Mobicel",
          "Mobicel",
          "Mobicel",
          "Mobicel",
          "Mobicel",
          "Mobicel",
          "Mobicel",
          "Mobicel",
          "Mobicel",
          "Motorola",
          "Motorola",
          "Motorola",
          "Motorola",
          "Motorola",
          "Motorola",
          "Motorola",
          "Motorola",
          "Motorola",
          "Motorola",
          "Motorola",
          "Motorola",
          "LG",
          "LG",
          "LG",
          "LG",
          "LG",
          "LG",
          "LG",
          "LG",
          "LG",
          "LG",
          "LG",
          "LG",
          "Others",
          "Others",
          "Others",
          "Others",
          "Others",
          "Others",
          "Others",
          "Others",
          "Others",
          "Others",
          "Others",
          "Others",
          "Realme",
          "Realme",
          "Realme",
          "Realme",
          "Realme",
          "Realme",
          "Realme",
          "Realme",
          "Realme",
          "Realme",
          "Realme",
          "Realme",
          "Google",
          "Google",
          "Google",
          "Google",
          "Google",
          "Google",
          "Google",
          "Google",
          "Google",
          "Google",
          "Google",
          "Google",
          "Nokia",
          "Nokia",
          "Nokia",
          "Nokia",
          "Nokia",
          "Nokia",
          "Nokia",
          "Nokia",
          "Nokia",
          "Nokia",
          "Nokia",
          "Nokia",
          "Lenovo",
          "Lenovo",
          "Lenovo",
          "Lenovo",
          "Lenovo",
          "Lenovo",
          "Lenovo",
          "Lenovo",
          "Lenovo",
          "Lenovo",
          "Lenovo",
          "Lenovo",
          "OnePlus",
          "OnePlus",
          "OnePlus",
          "OnePlus",
          "OnePlus",
          "OnePlus",
          "OnePlus",
          "OnePlus",
          "OnePlus",
          "OnePlus",
          "OnePlus",
          "OnePlus",
          "Sony",
          "Sony",
          "Sony",
          "Sony",
          "Sony",
          "Sony",
          "Sony",
          "Sony",
          "Sony",
          "Sony",
          "Sony",
          "Sony",
          "Asus",
          "Asus",
          "Asus",
          "Asus",
          "Asus",
          "Asus",
          "Asus",
          "Asus",
          "Asus",
          "Asus",
          "Asus",
          "Asus"
         ],
         "x0": " ",
         "xaxis": "x",
         "y": [
          -0.129999999999999,
          0.010000000000001563,
          -0.08000000000000185,
          -0.379999999999999,
          -0.10999999999999943,
          -0.39000000000000057,
          -0.23000000000000043,
          0.879999999999999,
          -0.10999999999999943,
          0.08999999999999986,
          -0.46999999999999886,
          -0.3200000000000003,
          0.8099999999999987,
          1.8900000000000006,
          -0.029999999999997584,
          1.129999999999999,
          1.1400000000000006,
          1.759999999999998,
          -2.0700000000000003,
          -1.4599999999999973,
          -0.4400000000000013,
          0.3299999999999983,
          -0.16999999999999815,
          1.5500000000000007,
          0.16000000000000014,
          -0.23000000000000043,
          0.6600000000000001,
          0.370000000000001,
          -0.28000000000000114,
          -0.41999999999999993,
          0.11000000000000121,
          0.29999999999999893,
          0.0600000000000005,
          -0.019999999999999574,
          -0.15000000000000036,
          -0.14000000000000057,
          0.3700000000000001,
          -0.4299999999999997,
          0.3699999999999992,
          -0.2999999999999998,
          -0.09999999999999964,
          -0.10000000000000053,
          0.7599999999999998,
          0.19000000000000128,
          0.3899999999999988,
          -0.03999999999999915,
          0.5899999999999999,
          0.17999999999999972,
          0.3200000000000003,
          -0.1899999999999995,
          0.019999999999999574,
          0.05999999999999961,
          -0.009999999999999787,
          -0.09999999999999964,
          0.5,
          -0.04999999999999982,
          0.040000000000000036,
          0,
          0.25,
          -0.11000000000000032,
          0.26000000000000023,
          -0.2200000000000002,
          -0.16999999999999993,
          -0.1299999999999999,
          -0.020000000000000018,
          -0.1200000000000001,
          0.3700000000000001,
          0.06000000000000005,
          0.2799999999999998,
          -0.08000000000000007,
          0.1200000000000001,
          -0.96,
          -0.010000000000000231,
          0.10000000000000009,
          -0.08000000000000007,
          -0.06000000000000005,
          -0.009999999999999787,
          0.1599999999999997,
          -0.04999999999999982,
          0.10999999999999988,
          -0.11999999999999966,
          -0.06000000000000005,
          -0.1200000000000001,
          -0.06000000000000005,
          0,
          0.14000000000000012,
          -0.14000000000000012,
          -0.06000000000000005,
          -0.06000000000000005,
          0,
          -0.08999999999999986,
          -0.08000000000000007,
          -0.08000000000000007,
          -0.06999999999999984,
          -0.08000000000000007,
          -0.08999999999999986,
          -0.41000000000000014,
          -0.9699999999999989,
          -0.580000000000001,
          -0.4900000000000002,
          -0.4299999999999997,
          -0.79,
          0.46999999999999975,
          0.08000000000000007,
          0.020000000000000462,
          -0.10000000000000053,
          -0.1899999999999995,
          -0.08000000000000007,
          0.24,
          0.05999999999999994,
          0.040000000000000036,
          0.010000000000000009,
          0.040000000000000036,
          -0.030000000000000027,
          0.14,
          0,
          0.08999999999999986,
          0.050000000000000044,
          0.27,
          0.10000000000000009,
          -1.69,
          0.08999999999999997,
          -0.06000000000000005,
          0.010000000000000009,
          0.030000000000000027,
          0.020000000000000018,
          -0.050000000000000044,
          -0.019999999999999907,
          -0.030000000000000027,
          -0.020000000000000018,
          0,
          0,
          0.020000000000000018,
          -0.06999999999999995,
          -0.020000000000000018,
          -0.06999999999999995,
          -0.09000000000000008,
          -0.030000000000000027,
          0.040000000000000036,
          0.010000000000000009,
          0.020000000000000018,
          -0.020000000000000018,
          0,
          -0.050000000000000044,
          0.010000000000000009,
          -0.09999999999999998,
          -0.010000000000000009,
          -0.08999999999999997,
          -0.030000000000000027,
          -0.030000000000000027,
          0.06000000000000005,
          -0.020000000000000018,
          -0.010000000000000009,
          -0.020000000000000018,
          -0.04999999999999993,
          -0.020000000000000018,
          0.030000000000000027,
          0.010000000000000009,
          0.050000000000000044,
          -0.010000000000000009,
          0,
          0.020000000000000018,
          0.010000000000000009,
          -0.040000000000000036,
          -0.010000000000000009,
          -0.010000000000000009,
          0.06000000000000005,
          0.039999999999999925,
          -0.010000000000000009,
          -0.05999999999999994,
          0.030000000000000027,
          0,
          -0.040000000000000036,
          0,
          0.020000000000000018,
          0,
          -0.030000000000000027,
          -0.020000000000000018,
          -0.040000000000000036,
          -0.019999999999999907,
          0.010000000000000009,
          -0.050000000000000044,
          -0.010000000000000009,
          0,
          -0.029999999999999916,
          0.039999999999999925,
          0.06000000000000005,
          -0.010000000000000009,
          -0.030000000000000027,
          -0.020000000000000018,
          -0.029999999999999916,
          -0.030000000000000027
         ],
         "y0": " ",
         "yaxis": "y"
        }
       ],
       "layout": {
        "autosize": true,
        "boxmode": "group",
        "legend": {
         "tracegroupgap": 0
        },
        "margin": {
         "t": 60
        },
        "template": {
         "data": {
          "bar": [
           {
            "error_x": {
             "color": "#2a3f5f"
            },
            "error_y": {
             "color": "#2a3f5f"
            },
            "marker": {
             "line": {
              "color": "#E5ECF6",
              "width": 0.5
             },
             "pattern": {
              "fillmode": "overlay",
              "size": 10,
              "solidity": 0.2
             }
            },
            "type": "bar"
           }
          ],
          "barpolar": [
           {
            "marker": {
             "line": {
              "color": "#E5ECF6",
              "width": 0.5
             },
             "pattern": {
              "fillmode": "overlay",
              "size": 10,
              "solidity": 0.2
             }
            },
            "type": "barpolar"
           }
          ],
          "carpet": [
           {
            "aaxis": {
             "endlinecolor": "#2a3f5f",
             "gridcolor": "white",
             "linecolor": "white",
             "minorgridcolor": "white",
             "startlinecolor": "#2a3f5f"
            },
            "baxis": {
             "endlinecolor": "#2a3f5f",
             "gridcolor": "white",
             "linecolor": "white",
             "minorgridcolor": "white",
             "startlinecolor": "#2a3f5f"
            },
            "type": "carpet"
           }
          ],
          "choropleth": [
           {
            "colorbar": {
             "outlinewidth": 0,
             "ticks": ""
            },
            "type": "choropleth"
           }
          ],
          "contour": [
           {
            "colorbar": {
             "outlinewidth": 0,
             "ticks": ""
            },
            "colorscale": [
             [
              0,
              "#0d0887"
             ],
             [
              0.1111111111111111,
              "#46039f"
             ],
             [
              0.2222222222222222,
              "#7201a8"
             ],
             [
              0.3333333333333333,
              "#9c179e"
             ],
             [
              0.4444444444444444,
              "#bd3786"
             ],
             [
              0.5555555555555556,
              "#d8576b"
             ],
             [
              0.6666666666666666,
              "#ed7953"
             ],
             [
              0.7777777777777778,
              "#fb9f3a"
             ],
             [
              0.8888888888888888,
              "#fdca26"
             ],
             [
              1,
              "#f0f921"
             ]
            ],
            "type": "contour"
           }
          ],
          "contourcarpet": [
           {
            "colorbar": {
             "outlinewidth": 0,
             "ticks": ""
            },
            "type": "contourcarpet"
           }
          ],
          "heatmap": [
           {
            "colorbar": {
             "outlinewidth": 0,
             "ticks": ""
            },
            "colorscale": [
             [
              0,
              "#0d0887"
             ],
             [
              0.1111111111111111,
              "#46039f"
             ],
             [
              0.2222222222222222,
              "#7201a8"
             ],
             [
              0.3333333333333333,
              "#9c179e"
             ],
             [
              0.4444444444444444,
              "#bd3786"
             ],
             [
              0.5555555555555556,
              "#d8576b"
             ],
             [
              0.6666666666666666,
              "#ed7953"
             ],
             [
              0.7777777777777778,
              "#fb9f3a"
             ],
             [
              0.8888888888888888,
              "#fdca26"
             ],
             [
              1,
              "#f0f921"
             ]
            ],
            "type": "heatmap"
           }
          ],
          "heatmapgl": [
           {
            "colorbar": {
             "outlinewidth": 0,
             "ticks": ""
            },
            "colorscale": [
             [
              0,
              "#0d0887"
             ],
             [
              0.1111111111111111,
              "#46039f"
             ],
             [
              0.2222222222222222,
              "#7201a8"
             ],
             [
              0.3333333333333333,
              "#9c179e"
             ],
             [
              0.4444444444444444,
              "#bd3786"
             ],
             [
              0.5555555555555556,
              "#d8576b"
             ],
             [
              0.6666666666666666,
              "#ed7953"
             ],
             [
              0.7777777777777778,
              "#fb9f3a"
             ],
             [
              0.8888888888888888,
              "#fdca26"
             ],
             [
              1,
              "#f0f921"
             ]
            ],
            "type": "heatmapgl"
           }
          ],
          "histogram": [
           {
            "marker": {
             "pattern": {
              "fillmode": "overlay",
              "size": 10,
              "solidity": 0.2
             }
            },
            "type": "histogram"
           }
          ],
          "histogram2d": [
           {
            "colorbar": {
             "outlinewidth": 0,
             "ticks": ""
            },
            "colorscale": [
             [
              0,
              "#0d0887"
             ],
             [
              0.1111111111111111,
              "#46039f"
             ],
             [
              0.2222222222222222,
              "#7201a8"
             ],
             [
              0.3333333333333333,
              "#9c179e"
             ],
             [
              0.4444444444444444,
              "#bd3786"
             ],
             [
              0.5555555555555556,
              "#d8576b"
             ],
             [
              0.6666666666666666,
              "#ed7953"
             ],
             [
              0.7777777777777778,
              "#fb9f3a"
             ],
             [
              0.8888888888888888,
              "#fdca26"
             ],
             [
              1,
              "#f0f921"
             ]
            ],
            "type": "histogram2d"
           }
          ],
          "histogram2dcontour": [
           {
            "colorbar": {
             "outlinewidth": 0,
             "ticks": ""
            },
            "colorscale": [
             [
              0,
              "#0d0887"
             ],
             [
              0.1111111111111111,
              "#46039f"
             ],
             [
              0.2222222222222222,
              "#7201a8"
             ],
             [
              0.3333333333333333,
              "#9c179e"
             ],
             [
              0.4444444444444444,
              "#bd3786"
             ],
             [
              0.5555555555555556,
              "#d8576b"
             ],
             [
              0.6666666666666666,
              "#ed7953"
             ],
             [
              0.7777777777777778,
              "#fb9f3a"
             ],
             [
              0.8888888888888888,
              "#fdca26"
             ],
             [
              1,
              "#f0f921"
             ]
            ],
            "type": "histogram2dcontour"
           }
          ],
          "mesh3d": [
           {
            "colorbar": {
             "outlinewidth": 0,
             "ticks": ""
            },
            "type": "mesh3d"
           }
          ],
          "parcoords": [
           {
            "line": {
             "colorbar": {
              "outlinewidth": 0,
              "ticks": ""
             }
            },
            "type": "parcoords"
           }
          ],
          "pie": [
           {
            "automargin": true,
            "type": "pie"
           }
          ],
          "scatter": [
           {
            "fillpattern": {
             "fillmode": "overlay",
             "size": 10,
             "solidity": 0.2
            },
            "type": "scatter"
           }
          ],
          "scatter3d": [
           {
            "line": {
             "colorbar": {
              "outlinewidth": 0,
              "ticks": ""
             }
            },
            "marker": {
             "colorbar": {
              "outlinewidth": 0,
              "ticks": ""
             }
            },
            "type": "scatter3d"
           }
          ],
          "scattercarpet": [
           {
            "marker": {
             "colorbar": {
              "outlinewidth": 0,
              "ticks": ""
             }
            },
            "type": "scattercarpet"
           }
          ],
          "scattergeo": [
           {
            "marker": {
             "colorbar": {
              "outlinewidth": 0,
              "ticks": ""
             }
            },
            "type": "scattergeo"
           }
          ],
          "scattergl": [
           {
            "marker": {
             "colorbar": {
              "outlinewidth": 0,
              "ticks": ""
             }
            },
            "type": "scattergl"
           }
          ],
          "scattermapbox": [
           {
            "marker": {
             "colorbar": {
              "outlinewidth": 0,
              "ticks": ""
             }
            },
            "type": "scattermapbox"
           }
          ],
          "scatterpolar": [
           {
            "marker": {
             "colorbar": {
              "outlinewidth": 0,
              "ticks": ""
             }
            },
            "type": "scatterpolar"
           }
          ],
          "scatterpolargl": [
           {
            "marker": {
             "colorbar": {
              "outlinewidth": 0,
              "ticks": ""
             }
            },
            "type": "scatterpolargl"
           }
          ],
          "scatterternary": [
           {
            "marker": {
             "colorbar": {
              "outlinewidth": 0,
              "ticks": ""
             }
            },
            "type": "scatterternary"
           }
          ],
          "surface": [
           {
            "colorbar": {
             "outlinewidth": 0,
             "ticks": ""
            },
            "colorscale": [
             [
              0,
              "#0d0887"
             ],
             [
              0.1111111111111111,
              "#46039f"
             ],
             [
              0.2222222222222222,
              "#7201a8"
             ],
             [
              0.3333333333333333,
              "#9c179e"
             ],
             [
              0.4444444444444444,
              "#bd3786"
             ],
             [
              0.5555555555555556,
              "#d8576b"
             ],
             [
              0.6666666666666666,
              "#ed7953"
             ],
             [
              0.7777777777777778,
              "#fb9f3a"
             ],
             [
              0.8888888888888888,
              "#fdca26"
             ],
             [
              1,
              "#f0f921"
             ]
            ],
            "type": "surface"
           }
          ],
          "table": [
           {
            "cells": {
             "fill": {
              "color": "#EBF0F8"
             },
             "line": {
              "color": "white"
             }
            },
            "header": {
             "fill": {
              "color": "#C8D4E3"
             },
             "line": {
              "color": "white"
             }
            },
            "type": "table"
           }
          ]
         },
         "layout": {
          "annotationdefaults": {
           "arrowcolor": "#2a3f5f",
           "arrowhead": 0,
           "arrowwidth": 1
          },
          "autotypenumbers": "strict",
          "coloraxis": {
           "colorbar": {
            "outlinewidth": 0,
            "ticks": ""
           }
          },
          "colorscale": {
           "diverging": [
            [
             0,
             "#8e0152"
            ],
            [
             0.1,
             "#c51b7d"
            ],
            [
             0.2,
             "#de77ae"
            ],
            [
             0.3,
             "#f1b6da"
            ],
            [
             0.4,
             "#fde0ef"
            ],
            [
             0.5,
             "#f7f7f7"
            ],
            [
             0.6,
             "#e6f5d0"
            ],
            [
             0.7,
             "#b8e186"
            ],
            [
             0.8,
             "#7fbc41"
            ],
            [
             0.9,
             "#4d9221"
            ],
            [
             1,
             "#276419"
            ]
           ],
           "sequential": [
            [
             0,
             "#0d0887"
            ],
            [
             0.1111111111111111,
             "#46039f"
            ],
            [
             0.2222222222222222,
             "#7201a8"
            ],
            [
             0.3333333333333333,
             "#9c179e"
            ],
            [
             0.4444444444444444,
             "#bd3786"
            ],
            [
             0.5555555555555556,
             "#d8576b"
            ],
            [
             0.6666666666666666,
             "#ed7953"
            ],
            [
             0.7777777777777778,
             "#fb9f3a"
            ],
            [
             0.8888888888888888,
             "#fdca26"
            ],
            [
             1,
             "#f0f921"
            ]
           ],
           "sequentialminus": [
            [
             0,
             "#0d0887"
            ],
            [
             0.1111111111111111,
             "#46039f"
            ],
            [
             0.2222222222222222,
             "#7201a8"
            ],
            [
             0.3333333333333333,
             "#9c179e"
            ],
            [
             0.4444444444444444,
             "#bd3786"
            ],
            [
             0.5555555555555556,
             "#d8576b"
            ],
            [
             0.6666666666666666,
             "#ed7953"
            ],
            [
             0.7777777777777778,
             "#fb9f3a"
            ],
            [
             0.8888888888888888,
             "#fdca26"
            ],
            [
             1,
             "#f0f921"
            ]
           ]
          },
          "colorway": [
           "#636efa",
           "#EF553B",
           "#00cc96",
           "#ab63fa",
           "#FFA15A",
           "#19d3f3",
           "#FF6692",
           "#B6E880",
           "#FF97FF",
           "#FECB52"
          ],
          "font": {
           "color": "#2a3f5f"
          },
          "geo": {
           "bgcolor": "white",
           "lakecolor": "white",
           "landcolor": "#E5ECF6",
           "showlakes": true,
           "showland": true,
           "subunitcolor": "white"
          },
          "hoverlabel": {
           "align": "left"
          },
          "hovermode": "closest",
          "mapbox": {
           "style": "light"
          },
          "paper_bgcolor": "white",
          "plot_bgcolor": "#E5ECF6",
          "polar": {
           "angularaxis": {
            "gridcolor": "white",
            "linecolor": "white",
            "ticks": ""
           },
           "bgcolor": "#E5ECF6",
           "radialaxis": {
            "gridcolor": "white",
            "linecolor": "white",
            "ticks": ""
           }
          },
          "scene": {
           "xaxis": {
            "backgroundcolor": "#E5ECF6",
            "gridcolor": "white",
            "gridwidth": 2,
            "linecolor": "white",
            "showbackground": true,
            "ticks": "",
            "zerolinecolor": "white"
           },
           "yaxis": {
            "backgroundcolor": "#E5ECF6",
            "gridcolor": "white",
            "gridwidth": 2,
            "linecolor": "white",
            "showbackground": true,
            "ticks": "",
            "zerolinecolor": "white"
           },
           "zaxis": {
            "backgroundcolor": "#E5ECF6",
            "gridcolor": "white",
            "gridwidth": 2,
            "linecolor": "white",
            "showbackground": true,
            "ticks": "",
            "zerolinecolor": "white"
           }
          },
          "shapedefaults": {
           "line": {
            "color": "#2a3f5f"
           }
          },
          "ternary": {
           "aaxis": {
            "gridcolor": "white",
            "linecolor": "white",
            "ticks": ""
           },
           "baxis": {
            "gridcolor": "white",
            "linecolor": "white",
            "ticks": ""
           },
           "bgcolor": "#E5ECF6",
           "caxis": {
            "gridcolor": "white",
            "linecolor": "white",
            "ticks": ""
           }
          },
          "title": {
           "x": 0.05
          },
          "xaxis": {
           "automargin": true,
           "gridcolor": "white",
           "linecolor": "white",
           "ticks": "",
           "title": {
            "standoff": 15
           },
           "zerolinecolor": "white",
           "zerolinewidth": 2
          },
          "yaxis": {
           "automargin": true,
           "gridcolor": "white",
           "linecolor": "white",
           "ticks": "",
           "title": {
            "standoff": 15
           },
           "zerolinecolor": "white",
           "zerolinewidth": 2
          }
         }
        },
        "xaxis": {
         "anchor": "y",
         "autorange": true,
         "domain": [
          0,
          1
         ],
         "range": [
          -0.5,
          15.5
         ],
         "title": {
          "text": "variable"
         },
         "type": "category"
        },
        "yaxis": {
         "anchor": "x",
         "autorange": true,
         "domain": [
          0,
          1
         ],
         "range": [
          -2.2900000000000005,
          2.1100000000000008
         ],
         "title": {
          "text": "value"
         },
         "type": "linear"
        }
       }
      },
      "image/png": "[encoded data removed]",
      "text/html": [
       "<div>                            <div id=\"0c402984-f333-43fc-a576-ed99f6723de8\" class=\"plotly-graph-div\" style=\"height:525px; width:100%;\"></div>            <script type=\"text/javascript\">                require([\"plotly\"], function(Plotly) {                    window.PLOTLYENV=window.PLOTLYENV || {};                                    if (document.getElementById(\"0c402984-f333-43fc-a576-ed99f6723de8\")) {                    Plotly.newPlot(                        \"0c402984-f333-43fc-a576-ed99f6723de8\",                        [{\"alignmentgroup\":\"True\",\"hovertemplate\":\"variable=%{x}\\u003cbr\\u003evalue=%{y}\\u003cextra\\u003e\\u003c\\u002fextra\\u003e\",\"legendgroup\":\"\",\"marker\":{\"color\":\"#636efa\"},\"name\":\"\",\"notched\":false,\"offsetgroup\":\"\",\"orientation\":\"v\",\"showlegend\":false,\"x\":[\"Samsung\",\"Samsung\",\"Samsung\",\"Samsung\",\"Samsung\",\"Samsung\",\"Samsung\",\"Samsung\",\"Samsung\",\"Samsung\",\"Samsung\",\"Samsung\",\"Apple\",\"Apple\",\"Apple\",\"Apple\",\"Apple\",\"Apple\",\"Apple\",\"Apple\",\"Apple\",\"Apple\",\"Apple\",\"Apple\",\"Huawei\",\"Huawei\",\"Huawei\",\"Huawei\",\"Huawei\",\"Huawei\",\"Huawei\",\"Huawei\",\"Huawei\",\"Huawei\",\"Huawei\",\"Huawei\",\"Xiaomi\",\"Xiaomi\",\"Xiaomi\",\"Xiaomi\",\"Xiaomi\",\"Xiaomi\",\"Xiaomi\",\"Xiaomi\",\"Xiaomi\",\"Xiaomi\",\"Xiaomi\",\"Xiaomi\",\"Oppo\",\"Oppo\",\"Oppo\",\"Oppo\",\"Oppo\",\"Oppo\",\"Oppo\",\"Oppo\",\"Oppo\",\"Oppo\",\"Oppo\",\"Oppo\",\"Mobicel\",\"Mobicel\",\"Mobicel\",\"Mobicel\",\"Mobicel\",\"Mobicel\",\"Mobicel\",\"Mobicel\",\"Mobicel\",\"Mobicel\",\"Mobicel\",\"Mobicel\",\"Motorola\",\"Motorola\",\"Motorola\",\"Motorola\",\"Motorola\",\"Motorola\",\"Motorola\",\"Motorola\",\"Motorola\",\"Motorola\",\"Motorola\",\"Motorola\",\"LG\",\"LG\",\"LG\",\"LG\",\"LG\",\"LG\",\"LG\",\"LG\",\"LG\",\"LG\",\"LG\",\"LG\",\"Others\",\"Others\",\"Others\",\"Others\",\"Others\",\"Others\",\"Others\",\"Others\",\"Others\",\"Others\",\"Others\",\"Others\",\"Realme\",\"Realme\",\"Realme\",\"Realme\",\"Realme\",\"Realme\",\"Realme\",\"Realme\",\"Realme\",\"Realme\",\"Realme\",\"Realme\",\"Google\",\"Google\",\"Google\",\"Google\",\"Google\",\"Google\",\"Google\",\"Google\",\"Google\",\"Google\",\"Google\",\"Google\",\"Nokia\",\"Nokia\",\"Nokia\",\"Nokia\",\"Nokia\",\"Nokia\",\"Nokia\",\"Nokia\",\"Nokia\",\"Nokia\",\"Nokia\",\"Nokia\",\"Lenovo\",\"Lenovo\",\"Lenovo\",\"Lenovo\",\"Lenovo\",\"Lenovo\",\"Lenovo\",\"Lenovo\",\"Lenovo\",\"Lenovo\",\"Lenovo\",\"Lenovo\",\"OnePlus\",\"OnePlus\",\"OnePlus\",\"OnePlus\",\"OnePlus\",\"OnePlus\",\"OnePlus\",\"OnePlus\",\"OnePlus\",\"OnePlus\",\"OnePlus\",\"OnePlus\",\"Sony\",\"Sony\",\"Sony\",\"Sony\",\"Sony\",\"Sony\",\"Sony\",\"Sony\",\"Sony\",\"Sony\",\"Sony\",\"Sony\",\"Asus\",\"Asus\",\"Asus\",\"Asus\",\"Asus\",\"Asus\",\"Asus\",\"Asus\",\"Asus\",\"Asus\",\"Asus\",\"Asus\"],\"x0\":\" \",\"xaxis\":\"x\",\"y\":[-0.129999999999999,0.010000000000001563,-0.08000000000000185,-0.379999999999999,-0.10999999999999943,-0.39000000000000057,-0.23000000000000043,0.879999999999999,-0.10999999999999943,0.08999999999999986,-0.46999999999999886,-0.3200000000000003,0.8099999999999987,1.8900000000000006,-0.029999999999997584,1.129999999999999,1.1400000000000006,1.759999999999998,-2.0700000000000003,-1.4599999999999973,-0.4400000000000013,0.3299999999999983,-0.16999999999999815,1.5500000000000007,0.16000000000000014,-0.23000000000000043,0.6600000000000001,0.370000000000001,-0.28000000000000114,-0.41999999999999993,0.11000000000000121,0.29999999999999893,0.0600000000000005,-0.019999999999999574,-0.15000000000000036,-0.14000000000000057,0.3700000000000001,-0.4299999999999997,0.3699999999999992,-0.2999999999999998,-0.09999999999999964,-0.10000000000000053,0.7599999999999998,0.19000000000000128,0.3899999999999988,-0.03999999999999915,0.5899999999999999,0.17999999999999972,0.3200000000000003,-0.1899999999999995,0.019999999999999574,0.05999999999999961,-0.009999999999999787,-0.09999999999999964,0.5,-0.04999999999999982,0.040000000000000036,0.0,0.25,-0.11000000000000032,0.26000000000000023,-0.2200000000000002,-0.16999999999999993,-0.1299999999999999,-0.020000000000000018,-0.1200000000000001,0.3700000000000001,0.06000000000000005,0.2799999999999998,-0.08000000000000007,0.1200000000000001,-0.96,-0.010000000000000231,0.10000000000000009,-0.08000000000000007,-0.06000000000000005,-0.009999999999999787,0.1599999999999997,-0.04999999999999982,0.10999999999999988,-0.11999999999999966,-0.06000000000000005,-0.1200000000000001,-0.06000000000000005,0.0,0.14000000000000012,-0.14000000000000012,-0.06000000000000005,-0.06000000000000005,0.0,-0.08999999999999986,-0.08000000000000007,-0.08000000000000007,-0.06999999999999984,-0.08000000000000007,-0.08999999999999986,-0.41000000000000014,-0.9699999999999989,-0.580000000000001,-0.4900000000000002,-0.4299999999999997,-0.79,0.46999999999999975,0.08000000000000007,0.020000000000000462,-0.10000000000000053,-0.1899999999999995,-0.08000000000000007,0.24,0.05999999999999994,0.040000000000000036,0.010000000000000009,0.040000000000000036,-0.030000000000000027,0.14,0.0,0.08999999999999986,0.050000000000000044,0.27,0.10000000000000009,-1.69,0.08999999999999997,-0.06000000000000005,0.010000000000000009,0.030000000000000027,0.020000000000000018,-0.050000000000000044,-0.019999999999999907,-0.030000000000000027,-0.020000000000000018,0.0,0.0,0.020000000000000018,-0.06999999999999995,-0.020000000000000018,-0.06999999999999995,-0.09000000000000008,-0.030000000000000027,0.040000000000000036,0.010000000000000009,0.020000000000000018,-0.020000000000000018,0.0,-0.050000000000000044,0.010000000000000009,-0.09999999999999998,-0.010000000000000009,-0.08999999999999997,-0.030000000000000027,-0.030000000000000027,0.06000000000000005,-0.020000000000000018,-0.010000000000000009,-0.020000000000000018,-0.04999999999999993,-0.020000000000000018,0.030000000000000027,0.010000000000000009,0.050000000000000044,-0.010000000000000009,0.0,0.020000000000000018,0.010000000000000009,-0.040000000000000036,-0.010000000000000009,-0.010000000000000009,0.06000000000000005,0.039999999999999925,-0.010000000000000009,-0.05999999999999994,0.030000000000000027,0.0,-0.040000000000000036,0.0,0.020000000000000018,0.0,-0.030000000000000027,-0.020000000000000018,-0.040000000000000036,-0.019999999999999907,0.010000000000000009,-0.050000000000000044,-0.010000000000000009,0.0,-0.029999999999999916,0.039999999999999925,0.06000000000000005,-0.010000000000000009,-0.030000000000000027,-0.020000000000000018,-0.029999999999999916,-0.030000000000000027],\"y0\":\" \",\"yaxis\":\"y\",\"type\":\"box\"}],                        {\"template\":{\"data\":{\"histogram2dcontour\":[{\"type\":\"histogram2dcontour\",\"colorbar\":{\"outlinewidth\":0,\"ticks\":\"\"},\"colorscale\":[[0.0,\"#0d0887\"],[0.1111111111111111,\"#46039f\"],[0.2222222222222222,\"#7201a8\"],[0.3333333333333333,\"#9c179e\"],[0.4444444444444444,\"#bd3786\"],[0.5555555555555556,\"#d8576b\"],[0.6666666666666666,\"#ed7953\"],[0.7777777777777778,\"#fb9f3a\"],[0.8888888888888888,\"#fdca26\"],[1.0,\"#f0f921\"]]}],\"choropleth\":[{\"type\":\"choropleth\",\"colorbar\":{\"outlinewidth\":0,\"ticks\":\"\"}}],\"histogram2d\":[{\"type\":\"histogram2d\",\"colorbar\":{\"outlinewidth\":0,\"ticks\":\"\"},\"colorscale\":[[0.0,\"#0d0887\"],[0.1111111111111111,\"#46039f\"],[0.2222222222222222,\"#7201a8\"],[0.3333333333333333,\"#9c179e\"],[0.4444444444444444,\"#bd3786\"],[0.5555555555555556,\"#d8576b\"],[0.6666666666666666,\"#ed7953\"],[0.7777777777777778,\"#fb9f3a\"],[0.8888888888888888,\"#fdca26\"],[1.0,\"#f0f921\"]]}],\"heatmap\":[{\"type\":\"heatmap\",\"colorbar\":{\"outlinewidth\":0,\"ticks\":\"\"},\"colorscale\":[[0.0,\"#0d0887\"],[0.1111111111111111,\"#46039f\"],[0.2222222222222222,\"#7201a8\"],[0.3333333333333333,\"#9c179e\"],[0.4444444444444444,\"#bd3786\"],[0.5555555555555556,\"#d8576b\"],[0.6666666666666666,\"#ed7953\"],[0.7777777777777778,\"#fb9f3a\"],[0.8888888888888888,\"#fdca26\"],[1.0,\"#f0f921\"]]}],\"heatmapgl\":[{\"type\":\"heatmapgl\",\"colorbar\":{\"outlinewidth\":0,\"ticks\":\"\"},\"colorscale\":[[0.0,\"#0d0887\"],[0.1111111111111111,\"#46039f\"],[0.2222222222222222,\"#7201a8\"],[0.3333333333333333,\"#9c179e\"],[0.4444444444444444,\"#bd3786\"],[0.5555555555555556,\"#d8576b\"],[0.6666666666666666,\"#ed7953\"],[0.7777777777777778,\"#fb9f3a\"],[0.8888888888888888,\"#fdca26\"],[1.0,\"#f0f921\"]]}],\"contourcarpet\":[{\"type\":\"contourcarpet\",\"colorbar\":{\"outlinewidth\":0,\"ticks\":\"\"}}],\"contour\":[{\"type\":\"contour\",\"colorbar\":{\"outlinewidth\":0,\"ticks\":\"\"},\"colorscale\":[[0.0,\"#0d0887\"],[0.1111111111111111,\"#46039f\"],[0.2222222222222222,\"#7201a8\"],[0.3333333333333333,\"#9c179e\"],[0.4444444444444444,\"#bd3786\"],[0.5555555555555556,\"#d8576b\"],[0.6666666666666666,\"#ed7953\"],[0.7777777777777778,\"#fb9f3a\"],[0.8888888888888888,\"#fdca26\"],[1.0,\"#f0f921\"]]}],\"surface\":[{\"type\":\"surface\",\"colorbar\":{\"outlinewidth\":0,\"ticks\":\"\"},\"colorscale\":[[0.0,\"#0d0887\"],[0.1111111111111111,\"#46039f\"],[0.2222222222222222,\"#7201a8\"],[0.3333333333333333,\"#9c179e\"],[0.4444444444444444,\"#bd3786\"],[0.5555555555555556,\"#d8576b\"],[0.6666666666666666,\"#ed7953\"],[0.7777777777777778,\"#fb9f3a\"],[0.8888888888888888,\"#fdca26\"],[1.0,\"#f0f921\"]]}],\"mesh3d\":[{\"type\":\"mesh3d\",\"colorbar\":{\"outlinewidth\":0,\"ticks\":\"\"}}],\"scatter\":[{\"fillpattern\":{\"fillmode\":\"overlay\",\"size\":10,\"solidity\":0.2},\"type\":\"scatter\"}],\"parcoords\":[{\"type\":\"parcoords\",\"line\":{\"colorbar\":{\"outlinewidth\":0,\"ticks\":\"\"}}}],\"scatterpolargl\":[{\"type\":\"scatterpolargl\",\"marker\":{\"colorbar\":{\"outlinewidth\":0,\"ticks\":\"\"}}}],\"bar\":[{\"error_x\":{\"color\":\"#2a3f5f\"},\"error_y\":{\"color\":\"#2a3f5f\"},\"marker\":{\"line\":{\"color\":\"#E5ECF6\",\"width\":0.5},\"pattern\":{\"fillmode\":\"overlay\",\"size\":10,\"solidity\":0.2}},\"type\":\"bar\"}],\"scattergeo\":[{\"type\":\"scattergeo\",\"marker\":{\"colorbar\":{\"outlinewidth\":0,\"ticks\":\"\"}}}],\"scatterpolar\":[{\"type\":\"scatterpolar\",\"marker\":{\"colorbar\":{\"outlinewidth\":0,\"ticks\":\"\"}}}],\"histogram\":[{\"marker\":{\"pattern\":{\"fillmode\":\"overlay\",\"size\":10,\"solidity\":0.2}},\"type\":\"histogram\"}],\"scattergl\":[{\"type\":\"scattergl\",\"marker\":{\"colorbar\":{\"outlinewidth\":0,\"ticks\":\"\"}}}],\"scatter3d\":[{\"type\":\"scatter3d\",\"line\":{\"colorbar\":{\"outlinewidth\":0,\"ticks\":\"\"}},\"marker\":{\"colorbar\":{\"outlinewidth\":0,\"ticks\":\"\"}}}],\"scattermapbox\":[{\"type\":\"scattermapbox\",\"marker\":{\"colorbar\":{\"outlinewidth\":0,\"ticks\":\"\"}}}],\"scatterternary\":[{\"type\":\"scatterternary\",\"marker\":{\"colorbar\":{\"outlinewidth\":0,\"ticks\":\"\"}}}],\"scattercarpet\":[{\"type\":\"scattercarpet\",\"marker\":{\"colorbar\":{\"outlinewidth\":0,\"ticks\":\"\"}}}],\"carpet\":[{\"aaxis\":{\"endlinecolor\":\"#2a3f5f\",\"gridcolor\":\"white\",\"linecolor\":\"white\",\"minorgridcolor\":\"white\",\"startlinecolor\":\"#2a3f5f\"},\"baxis\":{\"endlinecolor\":\"#2a3f5f\",\"gridcolor\":\"white\",\"linecolor\":\"white\",\"minorgridcolor\":\"white\",\"startlinecolor\":\"#2a3f5f\"},\"type\":\"carpet\"}],\"table\":[{\"cells\":{\"fill\":{\"color\":\"#EBF0F8\"},\"line\":{\"color\":\"white\"}},\"header\":{\"fill\":{\"color\":\"#C8D4E3\"},\"line\":{\"color\":\"white\"}},\"type\":\"table\"}],\"barpolar\":[{\"marker\":{\"line\":{\"color\":\"#E5ECF6\",\"width\":0.5},\"pattern\":{\"fillmode\":\"overlay\",\"size\":10,\"solidity\":0.2}},\"type\":\"barpolar\"}],\"pie\":[{\"automargin\":true,\"type\":\"pie\"}]},\"layout\":{\"autotypenumbers\":\"strict\",\"colorway\":[\"#636efa\",\"#EF553B\",\"#00cc96\",\"#ab63fa\",\"#FFA15A\",\"#19d3f3\",\"#FF6692\",\"#B6E880\",\"#FF97FF\",\"#FECB52\"],\"font\":{\"color\":\"#2a3f5f\"},\"hovermode\":\"closest\",\"hoverlabel\":{\"align\":\"left\"},\"paper_bgcolor\":\"white\",\"plot_bgcolor\":\"#E5ECF6\",\"polar\":{\"bgcolor\":\"#E5ECF6\",\"angularaxis\":{\"gridcolor\":\"white\",\"linecolor\":\"white\",\"ticks\":\"\"},\"radialaxis\":{\"gridcolor\":\"white\",\"linecolor\":\"white\",\"ticks\":\"\"}},\"ternary\":{\"bgcolor\":\"#E5ECF6\",\"aaxis\":{\"gridcolor\":\"white\",\"linecolor\":\"white\",\"ticks\":\"\"},\"baxis\":{\"gridcolor\":\"white\",\"linecolor\":\"white\",\"ticks\":\"\"},\"caxis\":{\"gridcolor\":\"white\",\"linecolor\":\"white\",\"ticks\":\"\"}},\"coloraxis\":{\"colorbar\":{\"outlinewidth\":0,\"ticks\":\"\"}},\"colorscale\":{\"sequential\":[[0.0,\"#0d0887\"],[0.1111111111111111,\"#46039f\"],[0.2222222222222222,\"#7201a8\"],[0.3333333333333333,\"#9c179e\"],[0.4444444444444444,\"#bd3786\"],[0.5555555555555556,\"#d8576b\"],[0.6666666666666666,\"#ed7953\"],[0.7777777777777778,\"#fb9f3a\"],[0.8888888888888888,\"#fdca26\"],[1.0,\"#f0f921\"]],\"sequentialminus\":[[0.0,\"#0d0887\"],[0.1111111111111111,\"#46039f\"],[0.2222222222222222,\"#7201a8\"],[0.3333333333333333,\"#9c179e\"],[0.4444444444444444,\"#bd3786\"],[0.5555555555555556,\"#d8576b\"],[0.6666666666666666,\"#ed7953\"],[0.7777777777777778,\"#fb9f3a\"],[0.8888888888888888,\"#fdca26\"],[1.0,\"#f0f921\"]],\"diverging\":[[0,\"#8e0152\"],[0.1,\"#c51b7d\"],[0.2,\"#de77ae\"],[0.3,\"#f1b6da\"],[0.4,\"#fde0ef\"],[0.5,\"#f7f7f7\"],[0.6,\"#e6f5d0\"],[0.7,\"#b8e186\"],[0.8,\"#7fbc41\"],[0.9,\"#4d9221\"],[1,\"#276419\"]]},\"xaxis\":{\"gridcolor\":\"white\",\"linecolor\":\"white\",\"ticks\":\"\",\"title\":{\"standoff\":15},\"zerolinecolor\":\"white\",\"automargin\":true,\"zerolinewidth\":2},\"yaxis\":{\"gridcolor\":\"white\",\"linecolor\":\"white\",\"ticks\":\"\",\"title\":{\"standoff\":15},\"zerolinecolor\":\"white\",\"automargin\":true,\"zerolinewidth\":2},\"scene\":{\"xaxis\":{\"backgroundcolor\":\"#E5ECF6\",\"gridcolor\":\"white\",\"linecolor\":\"white\",\"showbackground\":true,\"ticks\":\"\",\"zerolinecolor\":\"white\",\"gridwidth\":2},\"yaxis\":{\"backgroundcolor\":\"#E5ECF6\",\"gridcolor\":\"white\",\"linecolor\":\"white\",\"showbackground\":true,\"ticks\":\"\",\"zerolinecolor\":\"white\",\"gridwidth\":2},\"zaxis\":{\"backgroundcolor\":\"#E5ECF6\",\"gridcolor\":\"white\",\"linecolor\":\"white\",\"showbackground\":true,\"ticks\":\"\",\"zerolinecolor\":\"white\",\"gridwidth\":2}},\"shapedefaults\":{\"line\":{\"color\":\"#2a3f5f\"}},\"annotationdefaults\":{\"arrowcolor\":\"#2a3f5f\",\"arrowhead\":0,\"arrowwidth\":1},\"geo\":{\"bgcolor\":\"white\",\"landcolor\":\"#E5ECF6\",\"subunitcolor\":\"white\",\"showland\":true,\"showlakes\":true,\"lakecolor\":\"white\"},\"title\":{\"x\":0.05},\"mapbox\":{\"style\":\"light\"}}},\"xaxis\":{\"anchor\":\"y\",\"domain\":[0.0,1.0],\"title\":{\"text\":\"variable\"}},\"yaxis\":{\"anchor\":\"x\",\"domain\":[0.0,1.0],\"title\":{\"text\":\"value\"}},\"legend\":{\"tracegroupgap\":0},\"margin\":{\"t\":60},\"boxmode\":\"group\"},                        {\"responsive\": true}                    ).then(function(){\n",
       "                            \n",
       "var gd = document.getElementById('0c402984-f333-43fc-a576-ed99f6723de8');\n",
       "var x = new MutationObserver(function (mutations, observer) {{\n",
       "        var display = window.getComputedStyle(gd).display;\n",
       "        if (!display || display === 'none') {{\n",
       "            console.log([gd, 'removed!']);\n",
       "            Plotly.purge(gd);\n",
       "            observer.disconnect();\n",
       "        }}\n",
       "}});\n",
       "\n",
       "// Listen for the removal of the full notebook cells\n",
       "var notebookContainer = gd.closest('#notebook-container');\n",
       "if (notebookContainer) {{\n",
       "    x.observe(notebookContainer, {childList: true});\n",
       "}}\n",
       "\n",
       "// Listen for the clearing of the current output cell\n",
       "var outputEl = gd.closest('.output');\n",
       "if (outputEl) {{\n",
       "    x.observe(outputEl, {childList: true});\n",
       "}}\n",
       "\n",
       "                        })                };                });            </script>        </div>"
      ]
     },
     "metadata": {},
     "output_type": "display_data"
    }
   ],
   "source": [
    "df.set_index(\"Date\").diff().\\\n",
    "  dropna().boxplot(backend = \"plotly\")"
   ]
  }
 ],
 "metadata": {
  "kernelspec": {
   "display_name": "Python 3 (ipykernel)",
   "language": "python",
   "name": "python3"
  },
  "language_info": {
   "codemirror_mode": {
    "name": "ipython",
    "version": 3
   },
   "file_extension": ".py",
   "mimetype": "text/x-python",
   "name": "python",
   "nbconvert_exporter": "python",
   "pygments_lexer": "ipython3",
   "version": "3.11.4"
  }
 },
 "nbformat": 4,
 "nbformat_minor": 5
}
