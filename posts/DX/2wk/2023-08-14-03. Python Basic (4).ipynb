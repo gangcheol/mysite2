{
 "cells": [
  {
   "cell_type": "raw",
   "id": "e83c2711-bcc7-4c26-9461-6bd4505f974b",
   "metadata": {},
   "source": [
    "---\n",
    "title : \"03. Python Basic (4)\"\n",
    "author : \"GC\"\n",
    "date : \"08/14/23\"\n",
    "categories : [\"DX\"]\n",
    "---"
   ]
  },
  {
   "cell_type": "markdown",
   "id": "ae750552-61eb-4703-9a79-2d95bc125b76",
   "metadata": {},
   "source": [
    "# if"
   ]
  },
  {
   "cell_type": "markdown",
   "id": "154d956f-02ef-4b2f-95ec-d2326e474b9d",
   "metadata": {},
   "source": [
    "## ex1. 특정 수보다 크거나 같으면 10 더하기"
   ]
  },
  {
   "cell_type": "code",
   "execution_count": 10,
   "id": "2edb5a1a-4028-46c7-8b1d-38263266b773",
   "metadata": {},
   "outputs": [
    {
     "name": "stdin",
     "output_type": "stream",
     "text": [
      "기준값을 입력하시오 :  70\n",
      "비교값을 입력하시오 :  60\n"
     ]
    },
    {
     "name": "stdout",
     "output_type": "stream",
     "text": [
      "입력값 70보다 작은 숫자입니다.\n"
     ]
    }
   ],
   "source": [
    "v = int(input(\"기준값을 입력하시오 : \"))\n",
    "s = int(input(\"비교값을 입력하시오 : \"))\n",
    "if s>= v:\n",
    "    s1 = s+10\n",
    "    print(f\"입력값 {v}보다 크거나 같은 숫자가 입력되었습니다. {s}에 10을 더한값은 {s1}입니다.\")\n",
    "else:\n",
    "    print(f\"입력값 {v}보다 작은 숫자입니다.\")"
   ]
  },
  {
   "cell_type": "code",
   "execution_count": 15,
   "id": "32c2b4b8-a644-4ab7-a5bc-18fd1ccabb95",
   "metadata": {},
   "outputs": [
    {
     "name": "stdin",
     "output_type": "stream",
     "text": [
      "기준값을 입력하시오 :  70\n",
      "비교값을 입력하시오 :  70\n"
     ]
    },
    {
     "name": "stdout",
     "output_type": "stream",
     "text": [
      "입력값 70보다 크거나 같은 숫자가 입력되었습니다. 70에 10을 더한값은 80입니다.\n"
     ]
    }
   ],
   "source": [
    "v = int(input(\"기준값을 입력하시오 : \"))\n",
    "s = int(input(\"비교값을 입력하시오 : \"))\n",
    "if s>= v:\n",
    "    s1 = s+10\n",
    "    print(f\"입력값 {v}보다 크거나 같은 숫자가 입력되었습니다. {s}에 10을 더한값은 {s1}입니다.\")\n",
    "else:\n",
    "    print(f\"입력값 {v}보다 작은 숫자입니다.\")"
   ]
  },
  {
   "cell_type": "markdown",
   "id": "c00e93c0-3f99-416d-bd3b-042f22304391",
   "metadata": {},
   "source": [
    "## ex2. 리스트 요소 확인"
   ]
  },
  {
   "cell_type": "code",
   "execution_count": 20,
   "id": "1b7862ef-1200-4579-b41c-16b0485d3679",
   "metadata": {},
   "outputs": [
    {
     "name": "stdout",
     "output_type": "stream",
     "text": [
      "[1, 2, 3, 4, 5]\n"
     ]
    }
   ],
   "source": [
    "s = [1,2,3,4,5]\n",
    "if s :\n",
    "    print(s)\n",
    "else :\n",
    "    print(\"요소 없음\")"
   ]
  },
  {
   "cell_type": "code",
   "execution_count": 21,
   "id": "3dc87e66-e734-40da-bf0e-76a2e87eabb5",
   "metadata": {},
   "outputs": [
    {
     "name": "stdout",
     "output_type": "stream",
     "text": [
      "요소 없음\n"
     ]
    }
   ],
   "source": [
    "s = []\n",
    "if s :\n",
    "    print(s)\n",
    "else :\n",
    "    print(\"요소 없음\")"
   ]
  },
  {
   "cell_type": "code",
   "execution_count": 22,
   "id": "d27423ea-edb1-4c03-92af-a2b5b382ce18",
   "metadata": {},
   "outputs": [],
   "source": [
    "s = [1,2,3,4,5]\n",
    "if s :\n",
    "    pass ## 나중에 먼가 내가 조건문일 때 정의를 남기려고 `pass`!\n",
    "else :\n",
    "    print(\"요소 없음\")"
   ]
  },
  {
   "cell_type": "markdown",
   "id": "57c81ca3-4008-41dd-a5aa-f1233f17ece5",
   "metadata": {},
   "source": [
    "***"
   ]
  },
  {
   "cell_type": "markdown",
   "id": "d8dedad9-db2e-4b9d-be96-185d6d3ec0d2",
   "metadata": {},
   "source": [
    "# if, elif, else"
   ]
  },
  {
   "cell_type": "markdown",
   "id": "562c08d6-6094-4fe6-8faa-bd626a598491",
   "metadata": {},
   "source": [
    "## ex1. 학점"
   ]
  },
  {
   "cell_type": "code",
   "execution_count": 23,
   "id": "a14f4533-df69-418c-95ec-b2871590bb08",
   "metadata": {},
   "outputs": [],
   "source": [
    "import numpy as np"
   ]
  },
  {
   "cell_type": "code",
   "execution_count": 35,
   "id": "f8e169f6-9d4e-4781-8a39-ee7fd323de38",
   "metadata": {},
   "outputs": [],
   "source": [
    "s = list(range(0,100,10))"
   ]
  },
  {
   "cell_type": "code",
   "execution_count": 36,
   "id": "4bb3151f-e62f-4d7c-b509-dc585a1c26c7",
   "metadata": {},
   "outputs": [],
   "source": [
    "def grade(s) :\n",
    "    if s >= 90:\n",
    "        return \"A\"\n",
    "    elif s>=80:\n",
    "        return \"B\"\n",
    "    elif s>=70:\n",
    "        return \"C\"\n",
    "    elif s>=60:\n",
    "        return \"D\"\n",
    "    else :\n",
    "        return \"F\"        "
   ]
  },
  {
   "cell_type": "code",
   "execution_count": 38,
   "id": "4e76c704-659b-4d1f-9d49-a667ab65a01f",
   "metadata": {},
   "outputs": [
    {
     "data": {
      "text/plain": [
       "[0, 10, 20, 30, 40, 50, 60, 70, 80, 90]"
      ]
     },
     "execution_count": 38,
     "metadata": {},
     "output_type": "execute_result"
    }
   ],
   "source": [
    "s"
   ]
  },
  {
   "cell_type": "code",
   "execution_count": 39,
   "id": "aa5df29d-4e06-4053-8b6e-9db7af31b8c2",
   "metadata": {},
   "outputs": [
    {
     "data": {
      "text/plain": [
       "['F', 'F', 'F', 'F', 'F', 'F', 'D', 'C', 'B', 'A']"
      ]
     },
     "execution_count": 39,
     "metadata": {},
     "output_type": "execute_result"
    }
   ],
   "source": [
    "[grade(i) for i in s]"
   ]
  },
  {
   "cell_type": "markdown",
   "id": "f6713248-a8f6-4320-a4f6-c52ab846a874",
   "metadata": {},
   "source": [
    "## ex2. 아래 인코딩을 수행"
   ]
  },
  {
   "cell_type": "markdown",
   "id": "41c7e997-dd4c-4a0c-8c44-2de5736dbaa5",
   "metadata": {},
   "source": [
    "|숫자|요일|\n",
    "|:---:|:---:|\n",
    "|0|월요일|\n",
    "|1|화요일|\n",
    "|2|수요일|\n",
    "|3|목요일|\n",
    "|4|금요일|\n",
    "|5|토요일|\n",
    "|6|일요일|"
   ]
  },
  {
   "cell_type": "code",
   "execution_count": 50,
   "id": "1880ce30-5e4d-4c86-82a5-d22b346460e7",
   "metadata": {},
   "outputs": [],
   "source": [
    "num = list(np.random.randint(0,7,20))"
   ]
  },
  {
   "cell_type": "code",
   "execution_count": 52,
   "id": "cef9558a-5411-462c-ac26-f78712e7f819",
   "metadata": {},
   "outputs": [],
   "source": [
    "def days(n) :\n",
    "    if n == 0 :\n",
    "        return \"월\"\n",
    "    elif n == 1 :\n",
    "        return \"화\"\n",
    "    elif n == 2 :\n",
    "        return \"수\"\n",
    "    elif n == 3 :\n",
    "        return \"목\"\n",
    "    elif n == 4 :\n",
    "        return \"금\"\n",
    "    elif n == 5 :\n",
    "        return \"토\"\n",
    "    else :\n",
    "        return \"일\""
   ]
  },
  {
   "cell_type": "code",
   "execution_count": 56,
   "id": "42dafb7e-989b-4d0f-9825-26a0fbf2f045",
   "metadata": {},
   "outputs": [],
   "source": [
    "week = [days(n) for n in num]"
   ]
  },
  {
   "cell_type": "code",
   "execution_count": 57,
   "id": "e642f423-f16f-48c0-a76b-6c1735dcea46",
   "metadata": {},
   "outputs": [
    {
     "name": "stdout",
     "output_type": "stream",
     "text": [
      "['월', '일', '토', '수', '월', '금', '일', '목', '월', '월', '토', '금', '일', '수', '화', '월', '수', '목', '일', '일']\n"
     ]
    }
   ],
   "source": [
    "print(week)"
   ]
  },
  {
   "cell_type": "markdown",
   "id": "dc39ff91-7926-4bfb-8238-10f41147bc78",
   "metadata": {},
   "source": [
    "## ex3. 60점 이하 과락"
   ]
  },
  {
   "cell_type": "code",
   "execution_count": 71,
   "id": "6a09cdeb-8f42-4a8d-b9cf-4efc1366d7e9",
   "metadata": {},
   "outputs": [],
   "source": [
    "s = [62,59,70]"
   ]
  },
  {
   "cell_type": "code",
   "execution_count": 76,
   "id": "b7d0de8c-5efa-4a81-baea-fc5c3c56d3b3",
   "metadata": {},
   "outputs": [
    {
     "name": "stdout",
     "output_type": "stream",
     "text": [
      "62\n",
      "59 과락\n",
      "70\n"
     ]
    }
   ],
   "source": [
    "for i in s :\n",
    "    if i <60 :\n",
    "        print (i,\"과락\")\n",
    "    else :\n",
    "        print(i)"
   ]
  }
 ],
 "metadata": {
  "kernelspec": {
   "display_name": "Python 3 (ipykernel)",
   "language": "python",
   "name": "python3"
  },
  "language_info": {
   "codemirror_mode": {
    "name": "ipython",
    "version": 3
   },
   "file_extension": ".py",
   "mimetype": "text/x-python",
   "name": "python",
   "nbconvert_exporter": "python",
   "pygments_lexer": "ipython3",
   "version": "3.11.4"
  }
 },
 "nbformat": 4,
 "nbformat_minor": 5
}
