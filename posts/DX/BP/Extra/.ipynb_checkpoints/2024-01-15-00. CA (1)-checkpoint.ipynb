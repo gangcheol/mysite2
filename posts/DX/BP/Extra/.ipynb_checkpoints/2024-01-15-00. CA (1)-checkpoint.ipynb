{
 "cells": [
  {
   "cell_type": "raw",
   "id": "010946b4-40a5-41b2-95a1-ea11518aecb0",
   "metadata": {},
   "source": [
    "---\n",
    "title : 00. CA (1)\n",
    "author : \"GC\"\n",
    "date : \"01/15/24\"\n",
    "categories : [CA]\n",
    "---"
   ]
  },
  {
   "cell_type": "markdown",
   "id": "a7f5ce9b-d527-4709-bc1e-720e63edf79c",
   "metadata": {},
   "source": [
    "# Info"
   ]
  },
  {
   "cell_type": "markdown",
   "id": "46972cb9-223d-4509-8f34-fc0601e6e12a",
   "metadata": {},
   "source": [
    "`-` DX SUMMIT 2023, KT Enterprise"
   ]
  },
  {
   "cell_type": "markdown",
   "id": "4dc3ae2f-ebc9-4da7-87cc-50952056fe76",
   "metadata": {},
   "source": [
    "`-` 일시 : 2023. 11. 08"
   ]
  },
  {
   "cell_type": "markdown",
   "id": "8c23316a-5140-4262-aa7b-1a2b8c079c39",
   "metadata": {},
   "source": [
    "***"
   ]
  },
  {
   "cell_type": "markdown",
   "id": "fb5dfe07-744a-409a-91df-9c1b9e277ccc",
   "metadata": {},
   "source": [
    "# Opening Keynote"
   ]
  },
  {
   "cell_type": "markdown",
   "id": "9dbbf63a-1206-4341-8ed1-784f89e2f22e",
   "metadata": {},
   "source": [
    "## KT B2B의 변화"
   ]
  },
  {
   "cell_type": "markdown",
   "id": "fb0dfc96-9b62-4fd6-8223-d5f4851dc438",
   "metadata": {},
   "source": [
    "`-` 통신사업(2000s년대) $\\to$ 통신 + ICT사업 (~2020년)$\\to$ 고객 DX 사업자(2021년 이후)"
   ]
  },
  {
   "cell_type": "markdown",
   "id": "c7d40d3b-197e-4e8d-af03-cdca31fb3792",
   "metadata": {},
   "source": [
    "`-` 21년 후에는 통신, ICT, 클라우드, AI 역량을 기반으로 고객들의 DX를 돕는 파트너이자 `Enabler`로서의 역할을 수행함"
   ]
  },
  {
   "cell_type": "markdown",
   "id": "0988e6c4-43b2-40d0-b3cc-e902c39c3fd9",
   "metadata": {},
   "source": [
    "### KT의 역할"
   ]
  },
  {
   "cell_type": "markdown",
   "id": "743bc936-46d3-44e4-ab6d-c8332dee6902",
   "metadata": {},
   "source": [
    "### 1. 고객의 비즈니스 파트너"
   ]
  },
  {
   "cell_type": "markdown",
   "id": "b95a955c-f90b-4959-8e78-30f41df074b4",
   "metadata": {},
   "source": [
    "####  C레벨 컨설팅 사례"
   ]
  },
  {
   "cell_type": "markdown",
   "id": "0c888a1b-fe88-4d6f-bd8f-e8ad1788becd",
   "metadata": {},
   "source": [
    "* DX에 대한 이해부족과 투자 효과 고민\n",
    "    * 고객섹터분석 조직을 만들고 컨설팅 조직을 강화\n",
    "    * 각 도메인 별로 어떤 고민을 가지고 있는지 분석하기 시작함\n",
    "    * 다양한 섹터의 70개 이상 고객 경영진의 Pain point해소(2021년 부터)"
   ]
  },
  {
   "cell_type": "markdown",
   "id": "46c4eb2a-00aa-49ae-b32b-6d11d0b4158d",
   "metadata": {},
   "source": [
    "* C레벨 컨설팅 사례 : 금융, 공공, 운송, 국방, 지자체, 글로벌 등등\n",
    "    * 기업의 DX 전략\n",
    "    * Cloud 기반 IT 최적화 전략\n",
    "    * 고객 서비스 혁신전략\n",
    "    * 심지어 DX 전략을 컨설팅하는데 돈을 받지 않음"
   ]
  },
  {
   "cell_type": "markdown",
   "id": "87a77c3b-9b2e-4b42-9435-f9f01e85e810",
   "metadata": {},
   "source": [
    "#### 파트너쉽 사례"
   ]
  },
  {
   "cell_type": "markdown",
   "id": "31f0d210-79e9-406b-9525-e7ec46fd6da2",
   "metadata": {},
   "source": [
    "KT는 단순히 고객분들이 RFP를 내서 수주하는 방식을 지양함"
   ]
  },
  {
   "cell_type": "markdown",
   "id": "542e41fe-e931-43b0-94b5-4941868546b5",
   "metadata": {},
   "source": [
    "그것보다는 파트너쉽을 통해서 같이 고민하고 필요하면 같이 투자를 하는 방시으로 비즈니스를 만드는 것을 선호함"
   ]
  },
  {
   "cell_type": "markdown",
   "id": "266ab2c8-b501-46d6-9b51-83d3f4739084",
   "metadata": {},
   "source": [
    "`1` IT Infra DX 협력 체계 구축 (H사)\n",
    "\n",
    "* 5G 명품 빌딩 신사옥 구축\n",
    "\n",
    "* 그룹 DR 센터의 KT IDC 전환\n",
    "\n",
    "    * H인프라코어 IDC 협력추진(Cloud MSP, IDC, N/W 등)"
   ]
  },
  {
   "cell_type": "markdown",
   "id": "14545e83-37f8-4c6b-8a97-abf87936d0f7",
   "metadata": {},
   "source": [
    "`2` 디지털 금융상품 파트너십 : S금융지주 (금융 DX)\n",
    "\n",
    "* AICC를 통한 E손보업무 프로세스 혁신\n",
    "\n",
    "* S은행 홈뱅크 상용화\n",
    "\n",
    "    * 보험특화형 DX 패키징 개발(AI OCR + Paperless + 공전소)\n",
    "\n"
   ]
  },
  {
   "cell_type": "markdown",
   "id": "bb654b79-973d-4421-b31e-7ddddcf9c732",
   "metadata": {},
   "source": [
    "`3` 의료업무의 DX 전환 파트너십 : B대학병원 (의료 DX)"
   ]
  }
 ],
 "metadata": {
  "kernelspec": {
   "display_name": "Python 3 (ipykernel)",
   "language": "python",
   "name": "python3"
  },
  "language_info": {
   "codemirror_mode": {
    "name": "ipython",
    "version": 3
   },
   "file_extension": ".py",
   "mimetype": "text/x-python",
   "name": "python",
   "nbconvert_exporter": "python",
   "pygments_lexer": "ipython3",
   "version": "3.11.4"
  }
 },
 "nbformat": 4,
 "nbformat_minor": 5
}
