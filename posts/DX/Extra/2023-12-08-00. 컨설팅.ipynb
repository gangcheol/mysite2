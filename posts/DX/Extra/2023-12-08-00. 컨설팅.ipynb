{
 "cells": [
  {
   "cell_type": "raw",
   "id": "77af19bf-3853-40df-a5e3-2018aebecfb5",
   "metadata": {},
   "source": [
    "---\n",
    "title : \"Extra 0. 컨설팅 (1)\"\n",
    "author : \"gc\"\n",
    "date : \"12/08/23\"\n",
    "categories : [컨설팅]\n",
    "---"
   ]
  },
  {
   "cell_type": "markdown",
   "id": "359c7c6d-dd41-4ef6-a614-a4d95509df76",
   "metadata": {},
   "source": [
    "# 1. 트렌드"
   ]
  },
  {
   "cell_type": "markdown",
   "id": "e1c59e1c-cb1a-467c-8a07-395cfacde52d",
   "metadata": {
    "tags": []
   },
   "source": [
    "## 키워드"
   ]
  },
  {
   "cell_type": "markdown",
   "id": "21f111c8-0fef-4910-814c-fe1e2be83a7a",
   "metadata": {},
   "source": [
    "### 2024"
   ]
  },
  {
   "cell_type": "markdown",
   "id": "4ae2153c-d1e9-4026-a783-3aee6f185534",
   "metadata": {},
   "source": [
    "`1` 컬처핏 시대"
   ]
  },
  {
   "cell_type": "markdown",
   "id": "def31de2-f73d-46cf-9ade-93d3330e2d31",
   "metadata": {},
   "source": [
    "`2` 챗 GPT 자기소개서"
   ]
  },
  {
   "cell_type": "markdown",
   "id": "6f43f855-f9e4-49fb-9c6b-6693e5cf0b5e",
   "metadata": {},
   "source": [
    "`3` MZ세대 면접관"
   ]
  },
  {
   "cell_type": "markdown",
   "id": "294e8e7f-7ee1-4d83-90b7-ce81f44856f8",
   "metadata": {},
   "source": [
    "`4` 다이렉트 소싱"
   ]
  },
  {
   "cell_type": "markdown",
   "id": "e2bea15e-ae29-48c9-a16c-6a054facc29e",
   "metadata": {
    "tags": []
   },
   "source": [
    "`5` 웰니스"
   ]
  },
  {
   "cell_type": "markdown",
   "id": "0730e44c-205a-4dd1-8562-8921a6ec9597",
   "metadata": {},
   "source": [
    "`6` 대체불가능한 인재"
   ]
  },
  {
   "cell_type": "markdown",
   "id": "9cf6fa54-8c51-49e2-bc73-b536b64ac2c3",
   "metadata": {},
   "source": [
    "`7` 직원 리텐션 전략"
   ]
  },
  {
   "cell_type": "markdown",
   "id": "5abde0fe-88dc-4d87-a01c-dc969f0ad560",
   "metadata": {},
   "source": [
    "`8` DEI 채용 "
   ]
  },
  {
   "cell_type": "markdown",
   "id": "da286f99-0093-47dc-ac35-83ddd239afa3",
   "metadata": {},
   "source": [
    "`9` 마이크로코팅 확산"
   ]
  },
  {
   "cell_type": "markdown",
   "id": "cd0bb6fc-ed63-44e9-9075-20019e279fc1",
   "metadata": {
    "tags": []
   },
   "source": [
    "`10` 욜드 시대"
   ]
  },
  {
   "cell_type": "markdown",
   "id": "8001f606-7d4b-4d9f-b8bc-cd0cdf01ba15",
   "metadata": {},
   "source": [
    "# 2. 프로세스"
   ]
  },
  {
   "cell_type": "markdown",
   "id": "dc7aa66d-e2eb-4568-847e-2b0574a443e4",
   "metadata": {},
   "source": [
    "# 3. `3-STEP`"
   ]
  },
  {
   "cell_type": "markdown",
   "id": "9ed9160c-584d-4fe7-8420-cba95d69a277",
   "metadata": {},
   "source": [
    "# 4. AP guide"
   ]
  },
  {
   "cell_type": "markdown",
   "id": "3c440b7d-3e51-40b3-90c7-797f057aa55e",
   "metadata": {},
   "source": [
    "# 5. Case Study"
   ]
  }
 ],
 "metadata": {
  "kernelspec": {
   "display_name": "Python 3 (ipykernel)",
   "language": "python",
   "name": "python3"
  },
  "language_info": {
   "codemirror_mode": {
    "name": "ipython",
    "version": 3
   },
   "file_extension": ".py",
   "mimetype": "text/x-python",
   "name": "python",
   "nbconvert_exporter": "python",
   "pygments_lexer": "ipython3",
   "version": "3.11.4"
  }
 },
 "nbformat": 4,
 "nbformat_minor": 5
}
