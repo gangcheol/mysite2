{
 "cells": [
  {
   "cell_type": "raw",
   "id": "2e9ae514-f426-473e-a96e-8683aa1ee8c1",
   "metadata": {},
   "source": [
    "---\n",
    "title : \"00. MP (1)\"\n",
    "author : \"GC\"\n",
    "date : \"08/24/23\"\n",
    "categories : [python]\n",
    "code-fold : true\n",
    "---"
   ]
  },
  {
   "cell_type": "markdown",
   "id": "c2b250a5-af3f-4766-b6f6-2405d8919d11",
   "metadata": {},
   "source": [
    "# 단계 1 : 데이터 전처리"
   ]
  },
  {
   "cell_type": "markdown",
   "id": "f5dbc85c-1e12-4326-8c83-6e0a8c2cb6c4",
   "metadata": {},
   "source": [
    "## 1. 환경설정"
   ]
  },
  {
   "cell_type": "markdown",
   "id": "587f7b4f-7474-4be3-843e-c07a81d5969e",
   "metadata": {},
   "source": [
    "### (1) 라이브러리 import"
   ]
  },
  {
   "cell_type": "markdown",
   "id": "e1356aef-4d93-4d1c-a899-117c68a882f6",
   "metadata": {},
   "source": [
    "* `pandas`와 `numpy` 라라이브러리를 불러오기 "
   ]
  },
  {
   "cell_type": "code",
   "execution_count": 258,
   "id": "46f4d1cb-e4de-4e5f-8a31-648fc9ccb9c8",
   "metadata": {
    "tags": []
   },
   "outputs": [],
   "source": [
    "import pandas as pd\n",
    "import numpy as np"
   ]
  },
  {
   "cell_type": "markdown",
   "id": "4eaee73e-2d8d-4800-9ef5-8221ab67aa0c",
   "metadata": {},
   "source": [
    "### (2) 데이터 불러오기"
   ]
  },
  {
   "cell_type": "markdown",
   "id": "9df82f92-7f05-4798-a790-62c267dabacf",
   "metadata": {},
   "source": [
    "`-` 데이터를 불러온 후 상위 10개 행 확인"
   ]
  },
  {
   "cell_type": "code",
   "execution_count": 259,
   "id": "6b7dfd03-b5ea-4268-9003-be4abe0ef48c",
   "metadata": {
    "tags": []
   },
   "outputs": [
    {
     "data": {
      "text/html": [
       "<div>\n",
       "<style scoped>\n",
       "    .dataframe tbody tr th:only-of-type {\n",
       "        vertical-align: middle;\n",
       "    }\n",
       "\n",
       "    .dataframe tbody tr th {\n",
       "        vertical-align: top;\n",
       "    }\n",
       "\n",
       "    .dataframe thead th {\n",
       "        text-align: right;\n",
       "    }\n",
       "</style>\n",
       "<table border=\"1\" class=\"dataframe\">\n",
       "  <thead>\n",
       "    <tr style=\"text-align: right;\">\n",
       "      <th></th>\n",
       "      <th>ID</th>\n",
       "      <th>Seq</th>\n",
       "      <th>Gender</th>\n",
       "      <th>Birth_Year</th>\n",
       "      <th>LC_Score</th>\n",
       "      <th>RC_Score</th>\n",
       "      <th>Total Score</th>\n",
       "      <th>학습목표</th>\n",
       "      <th>학습방법</th>\n",
       "      <th>강의 학습 교재 유형</th>\n",
       "      <th>학습빈도</th>\n",
       "      <th>기출문제 공부 횟수</th>\n",
       "      <th>취약분야 인지 여부</th>\n",
       "      <th>토익 모의테스트 횟수</th>\n",
       "      <th>Student ID</th>\n",
       "    </tr>\n",
       "  </thead>\n",
       "  <tbody>\n",
       "    <tr>\n",
       "      <th>0</th>\n",
       "      <td>1</td>\n",
       "      <td>1</td>\n",
       "      <td>M</td>\n",
       "      <td>1973</td>\n",
       "      <td>181</td>\n",
       "      <td>173</td>\n",
       "      <td>354</td>\n",
       "      <td>자기계발</td>\n",
       "      <td>참고서</td>\n",
       "      <td>일반적인 영어 텍스트 기반 교재</td>\n",
       "      <td>주3-4회</td>\n",
       "      <td>6.0</td>\n",
       "      <td>알고 있지 않음</td>\n",
       "      <td>6</td>\n",
       "      <td>student1</td>\n",
       "    </tr>\n",
       "    <tr>\n",
       "      <th>1</th>\n",
       "      <td>1</td>\n",
       "      <td>2</td>\n",
       "      <td>M</td>\n",
       "      <td>1973</td>\n",
       "      <td>227</td>\n",
       "      <td>213</td>\n",
       "      <td>440</td>\n",
       "      <td>자기계발</td>\n",
       "      <td>오프라인강의</td>\n",
       "      <td>뉴스/이슈 기반 교재</td>\n",
       "      <td>주1-2회</td>\n",
       "      <td>3.0</td>\n",
       "      <td>알고 있음</td>\n",
       "      <td>5</td>\n",
       "      <td>student1</td>\n",
       "    </tr>\n",
       "    <tr>\n",
       "      <th>2</th>\n",
       "      <td>1</td>\n",
       "      <td>3</td>\n",
       "      <td>M</td>\n",
       "      <td>1973</td>\n",
       "      <td>345</td>\n",
       "      <td>336</td>\n",
       "      <td>681</td>\n",
       "      <td>승진</td>\n",
       "      <td>온라인강의</td>\n",
       "      <td>영상 교재</td>\n",
       "      <td>주5-6회</td>\n",
       "      <td>7.0</td>\n",
       "      <td>알고 있음</td>\n",
       "      <td>10</td>\n",
       "      <td>student1</td>\n",
       "    </tr>\n",
       "    <tr>\n",
       "      <th>3</th>\n",
       "      <td>2</td>\n",
       "      <td>1</td>\n",
       "      <td>F</td>\n",
       "      <td>1982</td>\n",
       "      <td>330</td>\n",
       "      <td>290</td>\n",
       "      <td>620</td>\n",
       "      <td>자기계발</td>\n",
       "      <td>오프라인강의</td>\n",
       "      <td>뉴스/이슈 기반 교재</td>\n",
       "      <td>매일(주 7회)</td>\n",
       "      <td>8.0</td>\n",
       "      <td>알고 있지 않음</td>\n",
       "      <td>19</td>\n",
       "      <td>student2</td>\n",
       "    </tr>\n",
       "    <tr>\n",
       "      <th>4</th>\n",
       "      <td>2</td>\n",
       "      <td>2</td>\n",
       "      <td>F</td>\n",
       "      <td>1982</td>\n",
       "      <td>354</td>\n",
       "      <td>339</td>\n",
       "      <td>693</td>\n",
       "      <td>승진</td>\n",
       "      <td>온라인강의</td>\n",
       "      <td>영상 교재</td>\n",
       "      <td>주5-6회</td>\n",
       "      <td>2.0</td>\n",
       "      <td>알고 있음</td>\n",
       "      <td>15</td>\n",
       "      <td>student2</td>\n",
       "    </tr>\n",
       "    <tr>\n",
       "      <th>5</th>\n",
       "      <td>2</td>\n",
       "      <td>3</td>\n",
       "      <td>F</td>\n",
       "      <td>1982</td>\n",
       "      <td>380</td>\n",
       "      <td>368</td>\n",
       "      <td>748</td>\n",
       "      <td>승진</td>\n",
       "      <td>온라인강의</td>\n",
       "      <td>뉴스/이슈 기반 교재</td>\n",
       "      <td>주5-6회</td>\n",
       "      <td>4.0</td>\n",
       "      <td>알고 있음</td>\n",
       "      <td>14</td>\n",
       "      <td>student2</td>\n",
       "    </tr>\n",
       "    <tr>\n",
       "      <th>6</th>\n",
       "      <td>3</td>\n",
       "      <td>1</td>\n",
       "      <td>F</td>\n",
       "      <td>1995</td>\n",
       "      <td>367</td>\n",
       "      <td>309</td>\n",
       "      <td>676</td>\n",
       "      <td>취업</td>\n",
       "      <td>온라인강의</td>\n",
       "      <td>영상 교재</td>\n",
       "      <td>매일(주 7회)</td>\n",
       "      <td>9.0</td>\n",
       "      <td>알고 있지 않음</td>\n",
       "      <td>7</td>\n",
       "      <td>student3</td>\n",
       "    </tr>\n",
       "    <tr>\n",
       "      <th>7</th>\n",
       "      <td>3</td>\n",
       "      <td>2</td>\n",
       "      <td>F</td>\n",
       "      <td>1995</td>\n",
       "      <td>396</td>\n",
       "      <td>365</td>\n",
       "      <td>761</td>\n",
       "      <td>자기계발</td>\n",
       "      <td>온라인강의</td>\n",
       "      <td>영상 교재</td>\n",
       "      <td>주3-4회</td>\n",
       "      <td>7.0</td>\n",
       "      <td>알고 있지 않음</td>\n",
       "      <td>6</td>\n",
       "      <td>student3</td>\n",
       "    </tr>\n",
       "    <tr>\n",
       "      <th>8</th>\n",
       "      <td>3</td>\n",
       "      <td>3</td>\n",
       "      <td>F</td>\n",
       "      <td>1995</td>\n",
       "      <td>416</td>\n",
       "      <td>382</td>\n",
       "      <td>798</td>\n",
       "      <td>자기계발</td>\n",
       "      <td>참고서</td>\n",
       "      <td>일반적인 영어 텍스트 기반 교재</td>\n",
       "      <td>주1-2회</td>\n",
       "      <td>4.0</td>\n",
       "      <td>알고 있음</td>\n",
       "      <td>4</td>\n",
       "      <td>student3</td>\n",
       "    </tr>\n",
       "    <tr>\n",
       "      <th>9</th>\n",
       "      <td>4</td>\n",
       "      <td>1</td>\n",
       "      <td>M</td>\n",
       "      <td>1987</td>\n",
       "      <td>470</td>\n",
       "      <td>285</td>\n",
       "      <td>755</td>\n",
       "      <td>자기계발</td>\n",
       "      <td>온라인강의</td>\n",
       "      <td>뉴스/이슈 기반 교재</td>\n",
       "      <td>주1-2회</td>\n",
       "      <td>7.0</td>\n",
       "      <td>알고 있지 않음</td>\n",
       "      <td>4</td>\n",
       "      <td>student4</td>\n",
       "    </tr>\n",
       "  </tbody>\n",
       "</table>\n",
       "</div>"
      ],
      "text/plain": [
       "   ID  Seq Gender  Birth_Year  LC_Score  RC_Score  Total Score  학습목표    학습방법  \\\n",
       "0   1    1      M        1973       181       173          354  자기계발     참고서   \n",
       "1   1    2      M        1973       227       213          440  자기계발  오프라인강의   \n",
       "2   1    3      M        1973       345       336          681    승진   온라인강의   \n",
       "3   2    1      F        1982       330       290          620  자기계발  오프라인강의   \n",
       "4   2    2      F        1982       354       339          693    승진   온라인강의   \n",
       "5   2    3      F        1982       380       368          748    승진   온라인강의   \n",
       "6   3    1      F        1995       367       309          676    취업   온라인강의   \n",
       "7   3    2      F        1995       396       365          761  자기계발   온라인강의   \n",
       "8   3    3      F        1995       416       382          798  자기계발     참고서   \n",
       "9   4    1      M        1987       470       285          755  자기계발   온라인강의   \n",
       "\n",
       "         강의 학습 교재 유형      학습빈도  기출문제 공부 횟수 취약분야 인지 여부  토익 모의테스트 횟수 Student ID  \n",
       "0  일반적인 영어 텍스트 기반 교재     주3-4회         6.0   알고 있지 않음            6   student1  \n",
       "1        뉴스/이슈 기반 교재     주1-2회         3.0      알고 있음            5   student1  \n",
       "2              영상 교재     주5-6회         7.0      알고 있음           10   student1  \n",
       "3        뉴스/이슈 기반 교재  매일(주 7회)         8.0   알고 있지 않음           19   student2  \n",
       "4              영상 교재     주5-6회         2.0      알고 있음           15   student2  \n",
       "5        뉴스/이슈 기반 교재     주5-6회         4.0      알고 있음           14   student2  \n",
       "6              영상 교재  매일(주 7회)         9.0   알고 있지 않음            7   student3  \n",
       "7              영상 교재     주3-4회         7.0   알고 있지 않음            6   student3  \n",
       "8  일반적인 영어 텍스트 기반 교재     주1-2회         4.0      알고 있음            4   student3  \n",
       "9        뉴스/이슈 기반 교재     주1-2회         7.0   알고 있지 않음            4   student4  "
      ]
     },
     "execution_count": 259,
     "metadata": {},
     "output_type": "execute_result"
    }
   ],
   "source": [
    "import openpyxl\n",
    "data = pd.read_excel(\"data04.xlsx\")\n",
    "data.head(10)"
   ]
  },
  {
   "cell_type": "markdown",
   "id": "be852279-e290-419f-bc83-c5c48c406e02",
   "metadata": {},
   "source": [
    "***"
   ]
  },
  {
   "cell_type": "markdown",
   "id": "f611fa8e-3713-4c71-bd16-d4f17a015781",
   "metadata": {},
   "source": [
    "## 2. 데이터프레임 탐색"
   ]
  },
  {
   "cell_type": "markdown",
   "id": "378011ac-b9f7-44eb-932f-b84d8ac2b2a9",
   "metadata": {},
   "source": [
    "### (1) 전체 데이터의 행, 열 개수를 확인"
   ]
  },
  {
   "cell_type": "code",
   "execution_count": 260,
   "id": "1827c387-0f8a-423b-96df-8bc3c3b6706d",
   "metadata": {
    "tags": []
   },
   "outputs": [
    {
     "name": "stdout",
     "output_type": "stream",
     "text": [
      "전체 데이터는 1500개의 행과 15열로 구성되어 있습니다.\n"
     ]
    }
   ],
   "source": [
    "print(f\"전체 데이터는 {data.shape[0]}개의 행과 {data.shape[1]}열로 구성되어 있습니다.\")"
   ]
  },
  {
   "cell_type": "markdown",
   "id": "99ce28f6-6075-46c6-b994-128d78bb615d",
   "metadata": {},
   "source": [
    "### (2) 하위 5개의 행 확인"
   ]
  },
  {
   "cell_type": "code",
   "execution_count": 261,
   "id": "551899cd-25dc-45b6-bcd1-a68cfed4a72e",
   "metadata": {
    "tags": []
   },
   "outputs": [
    {
     "data": {
      "text/html": [
       "<div>\n",
       "<style scoped>\n",
       "    .dataframe tbody tr th:only-of-type {\n",
       "        vertical-align: middle;\n",
       "    }\n",
       "\n",
       "    .dataframe tbody tr th {\n",
       "        vertical-align: top;\n",
       "    }\n",
       "\n",
       "    .dataframe thead th {\n",
       "        text-align: right;\n",
       "    }\n",
       "</style>\n",
       "<table border=\"1\" class=\"dataframe\">\n",
       "  <thead>\n",
       "    <tr style=\"text-align: right;\">\n",
       "      <th></th>\n",
       "      <th>ID</th>\n",
       "      <th>Seq</th>\n",
       "      <th>Gender</th>\n",
       "      <th>Birth_Year</th>\n",
       "      <th>LC_Score</th>\n",
       "      <th>RC_Score</th>\n",
       "      <th>Total Score</th>\n",
       "      <th>학습목표</th>\n",
       "      <th>학습방법</th>\n",
       "      <th>강의 학습 교재 유형</th>\n",
       "      <th>학습빈도</th>\n",
       "      <th>기출문제 공부 횟수</th>\n",
       "      <th>취약분야 인지 여부</th>\n",
       "      <th>토익 모의테스트 횟수</th>\n",
       "      <th>Student ID</th>\n",
       "    </tr>\n",
       "  </thead>\n",
       "  <tbody>\n",
       "    <tr>\n",
       "      <th>1495</th>\n",
       "      <td>499</td>\n",
       "      <td>2</td>\n",
       "      <td>F</td>\n",
       "      <td>1990</td>\n",
       "      <td>378</td>\n",
       "      <td>326</td>\n",
       "      <td>704</td>\n",
       "      <td>승진</td>\n",
       "      <td>온라인강의</td>\n",
       "      <td>뉴스/이슈 기반 교재</td>\n",
       "      <td>주5-6회</td>\n",
       "      <td>6.0</td>\n",
       "      <td>알고 있지 않음</td>\n",
       "      <td>12</td>\n",
       "      <td>student499</td>\n",
       "    </tr>\n",
       "    <tr>\n",
       "      <th>1496</th>\n",
       "      <td>499</td>\n",
       "      <td>3</td>\n",
       "      <td>F</td>\n",
       "      <td>1990</td>\n",
       "      <td>422</td>\n",
       "      <td>370</td>\n",
       "      <td>792</td>\n",
       "      <td>자기계발</td>\n",
       "      <td>오프라인강의</td>\n",
       "      <td>비즈니스 시뮬레이션(Role Play)</td>\n",
       "      <td>주3-4회</td>\n",
       "      <td>4.0</td>\n",
       "      <td>알고 있음</td>\n",
       "      <td>7</td>\n",
       "      <td>student499</td>\n",
       "    </tr>\n",
       "    <tr>\n",
       "      <th>1497</th>\n",
       "      <td>500</td>\n",
       "      <td>1</td>\n",
       "      <td>M</td>\n",
       "      <td>1984</td>\n",
       "      <td>169</td>\n",
       "      <td>188</td>\n",
       "      <td>357</td>\n",
       "      <td>자기계발</td>\n",
       "      <td>참고서</td>\n",
       "      <td>일반적인 영어 텍스트 기반 교재</td>\n",
       "      <td>주3-4회</td>\n",
       "      <td>8.0</td>\n",
       "      <td>알고 있지 않음</td>\n",
       "      <td>2</td>\n",
       "      <td>student500</td>\n",
       "    </tr>\n",
       "    <tr>\n",
       "      <th>1498</th>\n",
       "      <td>500</td>\n",
       "      <td>2</td>\n",
       "      <td>M</td>\n",
       "      <td>1984</td>\n",
       "      <td>172</td>\n",
       "      <td>190</td>\n",
       "      <td>362</td>\n",
       "      <td>자기계발</td>\n",
       "      <td>참고서</td>\n",
       "      <td>뉴스/이슈 기반 교재</td>\n",
       "      <td>매일(주 7회)</td>\n",
       "      <td>10.0</td>\n",
       "      <td>알고 있음</td>\n",
       "      <td>16</td>\n",
       "      <td>student500</td>\n",
       "    </tr>\n",
       "    <tr>\n",
       "      <th>1499</th>\n",
       "      <td>500</td>\n",
       "      <td>3</td>\n",
       "      <td>M</td>\n",
       "      <td>1984</td>\n",
       "      <td>235</td>\n",
       "      <td>226</td>\n",
       "      <td>461</td>\n",
       "      <td>승진</td>\n",
       "      <td>오프라인강의</td>\n",
       "      <td>비즈니스 시뮬레이션(Role Play)</td>\n",
       "      <td>주5-6회</td>\n",
       "      <td>7.0</td>\n",
       "      <td>알고 있음</td>\n",
       "      <td>15</td>\n",
       "      <td>student500</td>\n",
       "    </tr>\n",
       "  </tbody>\n",
       "</table>\n",
       "</div>"
      ],
      "text/plain": [
       "       ID  Seq Gender  Birth_Year  LC_Score  RC_Score  Total Score  학습목표  \\\n",
       "1495  499    2      F        1990       378       326          704    승진   \n",
       "1496  499    3      F        1990       422       370          792  자기계발   \n",
       "1497  500    1      M        1984       169       188          357  자기계발   \n",
       "1498  500    2      M        1984       172       190          362  자기계발   \n",
       "1499  500    3      M        1984       235       226          461    승진   \n",
       "\n",
       "        학습방법            강의 학습 교재 유형      학습빈도  기출문제 공부 횟수 취약분야 인지 여부  \\\n",
       "1495   온라인강의            뉴스/이슈 기반 교재     주5-6회         6.0   알고 있지 않음   \n",
       "1496  오프라인강의  비즈니스 시뮬레이션(Role Play)     주3-4회         4.0      알고 있음   \n",
       "1497     참고서      일반적인 영어 텍스트 기반 교재     주3-4회         8.0   알고 있지 않음   \n",
       "1498     참고서            뉴스/이슈 기반 교재  매일(주 7회)        10.0      알고 있음   \n",
       "1499  오프라인강의  비즈니스 시뮬레이션(Role Play)     주5-6회         7.0      알고 있음   \n",
       "\n",
       "      토익 모의테스트 횟수  Student ID  \n",
       "1495           12  student499  \n",
       "1496            7  student499  \n",
       "1497            2  student500  \n",
       "1498           16  student500  \n",
       "1499           15  student500  "
      ]
     },
     "execution_count": 261,
     "metadata": {},
     "output_type": "execute_result"
    }
   ],
   "source": [
    "data.tail(5)"
   ]
  },
  {
   "cell_type": "markdown",
   "id": "a93ec448-844a-42bf-9565-e9abee5d7dfe",
   "metadata": {},
   "source": [
    "### (3) 전체 데이터의 모든 변수 확인"
   ]
  },
  {
   "cell_type": "code",
   "execution_count": 262,
   "id": "391945d9-934e-46db-bfc7-3c3acea43291",
   "metadata": {
    "tags": []
   },
   "outputs": [
    {
     "name": "stdout",
     "output_type": "stream",
     "text": [
      "['ID', 'Seq', 'Gender', 'Birth_Year', 'LC_Score', 'RC_Score', 'Total Score', '학습목표', '학습방법', '강의 학습 교재 유형', '학습빈도', '기출문제 공부 횟수', '취약분야 인지 여부', '토익 모의테스트 횟수', 'Student ID']\n"
     ]
    }
   ],
   "source": [
    "print(list(data.columns))"
   ]
  },
  {
   "cell_type": "markdown",
   "id": "029d3143-509c-401a-b20a-2e09f79d0fad",
   "metadata": {},
   "source": [
    "### (4) 전체 데이터 정보 확인"
   ]
  },
  {
   "cell_type": "code",
   "execution_count": 263,
   "id": "80958880-d76b-455d-af44-36084505815f",
   "metadata": {
    "tags": []
   },
   "outputs": [
    {
     "name": "stdout",
     "output_type": "stream",
     "text": [
      "<class 'pandas.core.frame.DataFrame'>\n",
      "RangeIndex: 1500 entries, 0 to 1499\n",
      "Data columns (total 15 columns):\n",
      " #   Column       Non-Null Count  Dtype  \n",
      "---  ------       --------------  -----  \n",
      " 0   ID           1500 non-null   int64  \n",
      " 1   Seq          1500 non-null   int64  \n",
      " 2   Gender       1500 non-null   object \n",
      " 3   Birth_Year   1500 non-null   int64  \n",
      " 4   LC_Score     1500 non-null   int64  \n",
      " 5   RC_Score     1500 non-null   int64  \n",
      " 6   Total Score  1500 non-null   int64  \n",
      " 7   학습목표         1500 non-null   object \n",
      " 8   학습방법         1500 non-null   object \n",
      " 9   강의 학습 교재 유형  1500 non-null   object \n",
      " 10  학습빈도         1500 non-null   object \n",
      " 11  기출문제 공부 횟수   1497 non-null   float64\n",
      " 12  취약분야 인지 여부   1500 non-null   object \n",
      " 13  토익 모의테스트 횟수  1500 non-null   int64  \n",
      " 14  Student ID   1500 non-null   object \n",
      "dtypes: float64(1), int64(7), object(7)\n",
      "memory usage: 175.9+ KB\n",
      "None\n"
     ]
    }
   ],
   "source": [
    "print(data.info())"
   ]
  },
  {
   "cell_type": "markdown",
   "id": "117c0e6e-061b-4fec-b49b-ddef67c93684",
   "metadata": {},
   "source": [
    "### (5) 각 열별 Null 데이터 값의 개수를 확인"
   ]
  },
  {
   "cell_type": "markdown",
   "id": "a12b9f9c-834b-4fe3-a88e-ba6250549836",
   "metadata": {},
   "source": [
    "* `기출문제 공부횟수`에서 `총 3개`의 결측치가 확인된다."
   ]
  },
  {
   "cell_type": "code",
   "execution_count": 264,
   "id": "145ecf00-83af-4377-9ecf-0521e2fe30ee",
   "metadata": {
    "tags": []
   },
   "outputs": [
    {
     "data": {
      "text/plain": [
       "ID             0\n",
       "Seq            0\n",
       "Gender         0\n",
       "Birth_Year     0\n",
       "LC_Score       0\n",
       "RC_Score       0\n",
       "Total Score    0\n",
       "학습목표           0\n",
       "학습방법           0\n",
       "강의 학습 교재 유형    0\n",
       "학습빈도           0\n",
       "기출문제 공부 횟수     3\n",
       "취약분야 인지 여부     0\n",
       "토익 모의테스트 횟수    0\n",
       "Student ID     0\n",
       "dtype: int64"
      ]
     },
     "execution_count": 264,
     "metadata": {},
     "output_type": "execute_result"
    }
   ],
   "source": [
    "data.isna().sum()"
   ]
  },
  {
   "cell_type": "markdown",
   "id": "850aed11-09e8-42b3-8756-cb49b623612d",
   "metadata": {},
   "source": [
    "### (6) 데이터의 통계정보를 확인"
   ]
  },
  {
   "cell_type": "code",
   "execution_count": 265,
   "id": "4afc5bc7-1c33-4878-b87f-c437365daa66",
   "metadata": {
    "tags": []
   },
   "outputs": [
    {
     "data": {
      "text/html": [
       "<div>\n",
       "<style scoped>\n",
       "    .dataframe tbody tr th:only-of-type {\n",
       "        vertical-align: middle;\n",
       "    }\n",
       "\n",
       "    .dataframe tbody tr th {\n",
       "        vertical-align: top;\n",
       "    }\n",
       "\n",
       "    .dataframe thead th {\n",
       "        text-align: right;\n",
       "    }\n",
       "</style>\n",
       "<table border=\"1\" class=\"dataframe\">\n",
       "  <thead>\n",
       "    <tr style=\"text-align: right;\">\n",
       "      <th></th>\n",
       "      <th>ID</th>\n",
       "      <th>Seq</th>\n",
       "      <th>Birth_Year</th>\n",
       "      <th>LC_Score</th>\n",
       "      <th>RC_Score</th>\n",
       "      <th>Total Score</th>\n",
       "      <th>기출문제 공부 횟수</th>\n",
       "      <th>토익 모의테스트 횟수</th>\n",
       "    </tr>\n",
       "  </thead>\n",
       "  <tbody>\n",
       "    <tr>\n",
       "      <th>count</th>\n",
       "      <td>1500.000000</td>\n",
       "      <td>1500.000000</td>\n",
       "      <td>1500.000000</td>\n",
       "      <td>1500.000000</td>\n",
       "      <td>1500.000000</td>\n",
       "      <td>1500.000000</td>\n",
       "      <td>1497.000000</td>\n",
       "      <td>1500.000000</td>\n",
       "    </tr>\n",
       "    <tr>\n",
       "      <th>mean</th>\n",
       "      <td>250.500000</td>\n",
       "      <td>2.000000</td>\n",
       "      <td>1992.906000</td>\n",
       "      <td>340.079333</td>\n",
       "      <td>340.164667</td>\n",
       "      <td>680.260667</td>\n",
       "      <td>5.286573</td>\n",
       "      <td>9.784000</td>\n",
       "    </tr>\n",
       "    <tr>\n",
       "      <th>std</th>\n",
       "      <td>144.385415</td>\n",
       "      <td>0.816769</td>\n",
       "      <td>8.218893</td>\n",
       "      <td>86.807523</td>\n",
       "      <td>87.143890</td>\n",
       "      <td>159.110652</td>\n",
       "      <td>2.797303</td>\n",
       "      <td>5.324181</td>\n",
       "    </tr>\n",
       "    <tr>\n",
       "      <th>min</th>\n",
       "      <td>1.000000</td>\n",
       "      <td>1.000000</td>\n",
       "      <td>1973.000000</td>\n",
       "      <td>105.000000</td>\n",
       "      <td>84.000000</td>\n",
       "      <td>250.000000</td>\n",
       "      <td>1.000000</td>\n",
       "      <td>1.000000</td>\n",
       "    </tr>\n",
       "    <tr>\n",
       "      <th>25%</th>\n",
       "      <td>125.750000</td>\n",
       "      <td>1.000000</td>\n",
       "      <td>1986.750000</td>\n",
       "      <td>279.000000</td>\n",
       "      <td>280.000000</td>\n",
       "      <td>564.000000</td>\n",
       "      <td>3.000000</td>\n",
       "      <td>5.000000</td>\n",
       "    </tr>\n",
       "    <tr>\n",
       "      <th>50%</th>\n",
       "      <td>250.500000</td>\n",
       "      <td>2.000000</td>\n",
       "      <td>1992.500000</td>\n",
       "      <td>335.000000</td>\n",
       "      <td>337.000000</td>\n",
       "      <td>687.000000</td>\n",
       "      <td>5.000000</td>\n",
       "      <td>9.000000</td>\n",
       "    </tr>\n",
       "    <tr>\n",
       "      <th>75%</th>\n",
       "      <td>375.250000</td>\n",
       "      <td>3.000000</td>\n",
       "      <td>2000.000000</td>\n",
       "      <td>404.000000</td>\n",
       "      <td>406.000000</td>\n",
       "      <td>800.000000</td>\n",
       "      <td>8.000000</td>\n",
       "      <td>14.000000</td>\n",
       "    </tr>\n",
       "    <tr>\n",
       "      <th>max</th>\n",
       "      <td>500.000000</td>\n",
       "      <td>3.000000</td>\n",
       "      <td>2007.000000</td>\n",
       "      <td>495.000000</td>\n",
       "      <td>495.000000</td>\n",
       "      <td>990.000000</td>\n",
       "      <td>10.000000</td>\n",
       "      <td>20.000000</td>\n",
       "    </tr>\n",
       "  </tbody>\n",
       "</table>\n",
       "</div>"
      ],
      "text/plain": [
       "                ID          Seq   Birth_Year     LC_Score     RC_Score  \\\n",
       "count  1500.000000  1500.000000  1500.000000  1500.000000  1500.000000   \n",
       "mean    250.500000     2.000000  1992.906000   340.079333   340.164667   \n",
       "std     144.385415     0.816769     8.218893    86.807523    87.143890   \n",
       "min       1.000000     1.000000  1973.000000   105.000000    84.000000   \n",
       "25%     125.750000     1.000000  1986.750000   279.000000   280.000000   \n",
       "50%     250.500000     2.000000  1992.500000   335.000000   337.000000   \n",
       "75%     375.250000     3.000000  2000.000000   404.000000   406.000000   \n",
       "max     500.000000     3.000000  2007.000000   495.000000   495.000000   \n",
       "\n",
       "       Total Score   기출문제 공부 횟수  토익 모의테스트 횟수  \n",
       "count  1500.000000  1497.000000  1500.000000  \n",
       "mean    680.260667     5.286573     9.784000  \n",
       "std     159.110652     2.797303     5.324181  \n",
       "min     250.000000     1.000000     1.000000  \n",
       "25%     564.000000     3.000000     5.000000  \n",
       "50%     687.000000     5.000000     9.000000  \n",
       "75%     800.000000     8.000000    14.000000  \n",
       "max     990.000000    10.000000    20.000000  "
      ]
     },
     "execution_count": 265,
     "metadata": {},
     "output_type": "execute_result"
    }
   ],
   "source": [
    "data.describe()"
   ]
  },
  {
   "cell_type": "markdown",
   "id": "08fc2130-c51c-472c-bc14-9f1acaf556f3",
   "metadata": {},
   "source": [
    "***"
   ]
  },
  {
   "cell_type": "markdown",
   "id": "e7f91306-b0bd-4157-8805-856dcd23f4e5",
   "metadata": {},
   "source": [
    "## 3. 데이터 전처리 수행"
   ]
  },
  {
   "cell_type": "markdown",
   "id": "39f1f069-c3e9-4b1d-94bf-98ed7f23541e",
   "metadata": {},
   "source": [
    "### (1)-1. 컬럼별  데이터 타입을 출력"
   ]
  },
  {
   "cell_type": "code",
   "execution_count": 266,
   "id": "eb6076c9-938b-4d09-a488-f69c16df3512",
   "metadata": {
    "tags": []
   },
   "outputs": [
    {
     "name": "stdout",
     "output_type": "stream",
     "text": [
      "ID               int64\n",
      "Seq              int64\n",
      "Gender          object\n",
      "Birth_Year       int64\n",
      "LC_Score         int64\n",
      "RC_Score         int64\n",
      "Total Score      int64\n",
      "학습목표            object\n",
      "학습방법            object\n",
      "강의 학습 교재 유형     object\n",
      "학습빈도            object\n",
      "기출문제 공부 횟수     float64\n",
      "취약분야 인지 여부      object\n",
      "토익 모의테스트 횟수      int64\n",
      "Student ID      object\n",
      "dtype: object\n"
     ]
    }
   ],
   "source": [
    "print(data.dtypes)"
   ]
  },
  {
   "cell_type": "markdown",
   "id": "7c47fcc6-d1e3-43c5-87e7-7a5022ef3af6",
   "metadata": {},
   "source": [
    "### (1)-2. `Student ID` 컬럼을 삭제"
   ]
  },
  {
   "cell_type": "code",
   "execution_count": 267,
   "id": "d09ce930-fa73-42b3-9670-601c59f67896",
   "metadata": {
    "tags": []
   },
   "outputs": [],
   "source": [
    "data.drop(\"Student ID\",axis=1,inplace=True)"
   ]
  },
  {
   "cell_type": "code",
   "execution_count": 268,
   "id": "459cc34b-e8cd-44ee-af6d-79ca672abbcb",
   "metadata": {
    "tags": []
   },
   "outputs": [
    {
     "data": {
      "text/html": [
       "<div>\n",
       "<style scoped>\n",
       "    .dataframe tbody tr th:only-of-type {\n",
       "        vertical-align: middle;\n",
       "    }\n",
       "\n",
       "    .dataframe tbody tr th {\n",
       "        vertical-align: top;\n",
       "    }\n",
       "\n",
       "    .dataframe thead th {\n",
       "        text-align: right;\n",
       "    }\n",
       "</style>\n",
       "<table border=\"1\" class=\"dataframe\">\n",
       "  <thead>\n",
       "    <tr style=\"text-align: right;\">\n",
       "      <th></th>\n",
       "      <th>ID</th>\n",
       "      <th>Seq</th>\n",
       "      <th>Gender</th>\n",
       "      <th>Birth_Year</th>\n",
       "      <th>LC_Score</th>\n",
       "      <th>RC_Score</th>\n",
       "      <th>Total Score</th>\n",
       "      <th>학습목표</th>\n",
       "      <th>학습방법</th>\n",
       "      <th>강의 학습 교재 유형</th>\n",
       "      <th>학습빈도</th>\n",
       "      <th>기출문제 공부 횟수</th>\n",
       "      <th>취약분야 인지 여부</th>\n",
       "      <th>토익 모의테스트 횟수</th>\n",
       "    </tr>\n",
       "  </thead>\n",
       "  <tbody>\n",
       "    <tr>\n",
       "      <th>0</th>\n",
       "      <td>1</td>\n",
       "      <td>1</td>\n",
       "      <td>M</td>\n",
       "      <td>1973</td>\n",
       "      <td>181</td>\n",
       "      <td>173</td>\n",
       "      <td>354</td>\n",
       "      <td>자기계발</td>\n",
       "      <td>참고서</td>\n",
       "      <td>일반적인 영어 텍스트 기반 교재</td>\n",
       "      <td>주3-4회</td>\n",
       "      <td>6.0</td>\n",
       "      <td>알고 있지 않음</td>\n",
       "      <td>6</td>\n",
       "    </tr>\n",
       "    <tr>\n",
       "      <th>1</th>\n",
       "      <td>1</td>\n",
       "      <td>2</td>\n",
       "      <td>M</td>\n",
       "      <td>1973</td>\n",
       "      <td>227</td>\n",
       "      <td>213</td>\n",
       "      <td>440</td>\n",
       "      <td>자기계발</td>\n",
       "      <td>오프라인강의</td>\n",
       "      <td>뉴스/이슈 기반 교재</td>\n",
       "      <td>주1-2회</td>\n",
       "      <td>3.0</td>\n",
       "      <td>알고 있음</td>\n",
       "      <td>5</td>\n",
       "    </tr>\n",
       "    <tr>\n",
       "      <th>2</th>\n",
       "      <td>1</td>\n",
       "      <td>3</td>\n",
       "      <td>M</td>\n",
       "      <td>1973</td>\n",
       "      <td>345</td>\n",
       "      <td>336</td>\n",
       "      <td>681</td>\n",
       "      <td>승진</td>\n",
       "      <td>온라인강의</td>\n",
       "      <td>영상 교재</td>\n",
       "      <td>주5-6회</td>\n",
       "      <td>7.0</td>\n",
       "      <td>알고 있음</td>\n",
       "      <td>10</td>\n",
       "    </tr>\n",
       "    <tr>\n",
       "      <th>3</th>\n",
       "      <td>2</td>\n",
       "      <td>1</td>\n",
       "      <td>F</td>\n",
       "      <td>1982</td>\n",
       "      <td>330</td>\n",
       "      <td>290</td>\n",
       "      <td>620</td>\n",
       "      <td>자기계발</td>\n",
       "      <td>오프라인강의</td>\n",
       "      <td>뉴스/이슈 기반 교재</td>\n",
       "      <td>매일(주 7회)</td>\n",
       "      <td>8.0</td>\n",
       "      <td>알고 있지 않음</td>\n",
       "      <td>19</td>\n",
       "    </tr>\n",
       "    <tr>\n",
       "      <th>4</th>\n",
       "      <td>2</td>\n",
       "      <td>2</td>\n",
       "      <td>F</td>\n",
       "      <td>1982</td>\n",
       "      <td>354</td>\n",
       "      <td>339</td>\n",
       "      <td>693</td>\n",
       "      <td>승진</td>\n",
       "      <td>온라인강의</td>\n",
       "      <td>영상 교재</td>\n",
       "      <td>주5-6회</td>\n",
       "      <td>2.0</td>\n",
       "      <td>알고 있음</td>\n",
       "      <td>15</td>\n",
       "    </tr>\n",
       "  </tbody>\n",
       "</table>\n",
       "</div>"
      ],
      "text/plain": [
       "   ID  Seq Gender  Birth_Year  LC_Score  RC_Score  Total Score  학습목표    학습방법  \\\n",
       "0   1    1      M        1973       181       173          354  자기계발     참고서   \n",
       "1   1    2      M        1973       227       213          440  자기계발  오프라인강의   \n",
       "2   1    3      M        1973       345       336          681    승진   온라인강의   \n",
       "3   2    1      F        1982       330       290          620  자기계발  오프라인강의   \n",
       "4   2    2      F        1982       354       339          693    승진   온라인강의   \n",
       "\n",
       "         강의 학습 교재 유형      학습빈도  기출문제 공부 횟수 취약분야 인지 여부  토익 모의테스트 횟수  \n",
       "0  일반적인 영어 텍스트 기반 교재     주3-4회         6.0   알고 있지 않음            6  \n",
       "1        뉴스/이슈 기반 교재     주1-2회         3.0      알고 있음            5  \n",
       "2              영상 교재     주5-6회         7.0      알고 있음           10  \n",
       "3        뉴스/이슈 기반 교재  매일(주 7회)         8.0   알고 있지 않음           19  \n",
       "4              영상 교재     주5-6회         2.0      알고 있음           15  "
      ]
     },
     "execution_count": 268,
     "metadata": {},
     "output_type": "execute_result"
    }
   ],
   "source": [
    "data.head()"
   ]
  },
  {
   "cell_type": "markdown",
   "id": "e9e3424c-4134-4374-9ad2-c25530d2e2a1",
   "metadata": {},
   "source": [
    "### (1)-3. 14개의 컬럼에서 13개의 컬럼으로 줄어든 것을 확인"
   ]
  },
  {
   "cell_type": "code",
   "execution_count": 269,
   "id": "0291581d-4397-463e-b538-96bf2cdd760d",
   "metadata": {
    "tags": []
   },
   "outputs": [
    {
     "data": {
      "text/plain": [
       "14"
      ]
     },
     "execution_count": 269,
     "metadata": {},
     "output_type": "execute_result"
    }
   ],
   "source": [
    "len(data.columns)"
   ]
  },
  {
   "cell_type": "markdown",
   "id": "b9719ea3-79cb-429a-844e-308dc7a2220e",
   "metadata": {},
   "source": [
    "### (1)-4. 기출문제 공부 횟수의 null값을 0으로 바꾸기"
   ]
  },
  {
   "cell_type": "code",
   "execution_count": 270,
   "id": "5b8d9908-76ba-47e5-9aff-6925699ae5a7",
   "metadata": {
    "tags": []
   },
   "outputs": [],
   "source": [
    "data[\"기출문제 공부 횟수\"].fillna(0,inplace=True)"
   ]
  },
  {
   "cell_type": "markdown",
   "id": "d0ba1422-63a6-4391-99a4-cc4b15189369",
   "metadata": {},
   "source": [
    "### (1)-5. 바꾼 후 결과확인"
   ]
  },
  {
   "cell_type": "code",
   "execution_count": 271,
   "id": "999a551b-41b3-48bc-9db7-6bede9184198",
   "metadata": {
    "tags": []
   },
   "outputs": [
    {
     "data": {
      "text/plain": [
       "array([ 6.,  3.,  7.,  8.,  2.,  4.,  9.,  5., 10.,  1.,  0.])"
      ]
     },
     "execution_count": 271,
     "metadata": {},
     "output_type": "execute_result"
    }
   ],
   "source": [
    "data[\"기출문제 공부 횟수\"].unique()"
   ]
  },
  {
   "cell_type": "markdown",
   "id": "e8bf3565-e6ae-4cce-8784-b3d232c5c835",
   "metadata": {},
   "source": [
    "### (1)-6. 개인정보 데이터와 토익시험학습 데이터를 `df1,df2`로 각각 분리"
   ]
  },
  {
   "cell_type": "markdown",
   "id": "accc379f-7d8d-4680-99a4-b78db9d787a9",
   "metadata": {},
   "source": [
    "1. df1(개인정보 데이터) features : `'ID', 'Gender', 'Birth_Year'`\n",
    "\n",
    "\n",
    "2. df2(토익시험 학습정보 데이터) features : `'ID','Seq', 'LC_Score', 'RC_Score', 'Total Score', '학습목표', '학습방법', '강의 학습 교재 유형', '학습빈도', '기출문제 공부 횟수', '취약분야 인지 여부', '토익 모의테스트 횟수'`\n",
    "\n"
   ]
  },
  {
   "cell_type": "code",
   "execution_count": 272,
   "id": "a0a870ea-4900-44f7-a7c2-4d439590c473",
   "metadata": {
    "tags": []
   },
   "outputs": [
    {
     "name": "stdout",
     "output_type": "stream",
     "text": [
      "df1의 컬럼 : ['ID', 'Gender', 'Birth_Year']\n",
      "\n",
      "****************************************************************************************************\n",
      "\n",
      "df2의 컬럼 : ['ID', 'Seq', 'LC_Score', 'RC_Score', 'Total Score', '학습목표', '학습방법', '강의 학습 교재 유형', '학습빈도', '기출문제 공부 횟수', '취약분야 인지 여부', '토익 모의테스트 횟수']\n"
     ]
    }
   ],
   "source": [
    "col_1 = ['ID', 'Gender', 'Birth_Year']\n",
    "col_2 = ['ID','Seq', 'LC_Score', 'RC_Score', 'Total Score',\n",
    "         '학습목표', '학습방법', '강의 학습 교재 유형', '학습빈도',\n",
    "         '기출문제 공부 횟수', '취약분야 인지 여부', '토익 모의테스트 횟수']\n",
    "\n",
    "df1 = data.loc[:, map(lambda x : x  in col_1,data.columns )]\n",
    "df2 = data.loc[:, map(lambda x : x  in col_2,data.columns )]\n",
    "\n",
    "print(f\"df1의 컬럼 : {list(df1.columns)}\\n\")\n",
    "print(\"*\"*100+\"\\n\")\n",
    "print(f\"df2의 컬럼 : {list(df2.columns)}\")"
   ]
  },
  {
   "cell_type": "markdown",
   "id": "909c2388-2579-41c1-a4f8-cb1e49fd46e9",
   "metadata": {},
   "source": [
    "***"
   ]
  },
  {
   "cell_type": "markdown",
   "id": "9aeadcb4-6054-4aa0-88ef-8684c2c172c0",
   "metadata": {},
   "source": [
    "### (2)-1. 개인정보의 중복값 제거"
   ]
  },
  {
   "cell_type": "code",
   "execution_count": 273,
   "id": "03f21f04-bc3a-4405-b275-0bd099aa5244",
   "metadata": {
    "tags": []
   },
   "outputs": [],
   "source": [
    "df1 = df1.drop_duplicates()"
   ]
  },
  {
   "cell_type": "code",
   "execution_count": 274,
   "id": "7b698fa2-a14c-4962-a222-ed0bfde678d5",
   "metadata": {
    "tags": []
   },
   "outputs": [
    {
     "data": {
      "text/html": [
       "<div>\n",
       "<style scoped>\n",
       "    .dataframe tbody tr th:only-of-type {\n",
       "        vertical-align: middle;\n",
       "    }\n",
       "\n",
       "    .dataframe tbody tr th {\n",
       "        vertical-align: top;\n",
       "    }\n",
       "\n",
       "    .dataframe thead th {\n",
       "        text-align: right;\n",
       "    }\n",
       "</style>\n",
       "<table border=\"1\" class=\"dataframe\">\n",
       "  <thead>\n",
       "    <tr style=\"text-align: right;\">\n",
       "      <th></th>\n",
       "      <th>ID</th>\n",
       "      <th>Gender</th>\n",
       "      <th>Birth_Year</th>\n",
       "    </tr>\n",
       "  </thead>\n",
       "  <tbody>\n",
       "    <tr>\n",
       "      <th>0</th>\n",
       "      <td>1</td>\n",
       "      <td>M</td>\n",
       "      <td>1973</td>\n",
       "    </tr>\n",
       "    <tr>\n",
       "      <th>3</th>\n",
       "      <td>2</td>\n",
       "      <td>F</td>\n",
       "      <td>1982</td>\n",
       "    </tr>\n",
       "    <tr>\n",
       "      <th>6</th>\n",
       "      <td>3</td>\n",
       "      <td>F</td>\n",
       "      <td>1995</td>\n",
       "    </tr>\n",
       "    <tr>\n",
       "      <th>9</th>\n",
       "      <td>4</td>\n",
       "      <td>M</td>\n",
       "      <td>1987</td>\n",
       "    </tr>\n",
       "    <tr>\n",
       "      <th>12</th>\n",
       "      <td>5</td>\n",
       "      <td>M</td>\n",
       "      <td>1994</td>\n",
       "    </tr>\n",
       "  </tbody>\n",
       "</table>\n",
       "</div>"
      ],
      "text/plain": [
       "    ID Gender  Birth_Year\n",
       "0    1      M        1973\n",
       "3    2      F        1982\n",
       "6    3      F        1995\n",
       "9    4      M        1987\n",
       "12   5      M        1994"
      ]
     },
     "execution_count": 274,
     "metadata": {},
     "output_type": "execute_result"
    }
   ],
   "source": [
    "df1.head()"
   ]
  },
  {
   "cell_type": "markdown",
   "id": "180e0695-0f63-488d-9241-f09b6022a063",
   "metadata": {},
   "source": [
    "***"
   ]
  },
  {
   "cell_type": "markdown",
   "id": "43823a6f-a676-47a4-b14f-35de6a2697f7",
   "metadata": {},
   "source": [
    "### (3)-1. `df2`에서 ID별 차시(Seq)가 3인 행을 선택하여 새로운 데이터프레임 `temp`에 할당"
   ]
  },
  {
   "cell_type": "code",
   "execution_count": 275,
   "id": "d2a6a402-0d4c-41d3-8720-3feb738ba0ee",
   "metadata": {
    "tags": []
   },
   "outputs": [
    {
     "data": {
      "text/plain": [
       "array([3], dtype=int64)"
      ]
     },
     "execution_count": 275,
     "metadata": {},
     "output_type": "execute_result"
    }
   ],
   "source": [
    "temp = df2.loc[map(lambda x : x == 3,df2.Seq), :]\n",
    "temp.Seq.unique()"
   ]
  },
  {
   "cell_type": "code",
   "execution_count": 276,
   "id": "e20e80ab-90c6-4598-b47a-4b58149924bc",
   "metadata": {
    "tags": []
   },
   "outputs": [
    {
     "data": {
      "text/html": [
       "<div>\n",
       "<style scoped>\n",
       "    .dataframe tbody tr th:only-of-type {\n",
       "        vertical-align: middle;\n",
       "    }\n",
       "\n",
       "    .dataframe tbody tr th {\n",
       "        vertical-align: top;\n",
       "    }\n",
       "\n",
       "    .dataframe thead th {\n",
       "        text-align: right;\n",
       "    }\n",
       "</style>\n",
       "<table border=\"1\" class=\"dataframe\">\n",
       "  <thead>\n",
       "    <tr style=\"text-align: right;\">\n",
       "      <th></th>\n",
       "      <th>ID</th>\n",
       "      <th>Seq</th>\n",
       "      <th>LC_Score</th>\n",
       "      <th>RC_Score</th>\n",
       "      <th>Total Score</th>\n",
       "      <th>학습목표</th>\n",
       "      <th>학습방법</th>\n",
       "      <th>강의 학습 교재 유형</th>\n",
       "      <th>학습빈도</th>\n",
       "      <th>기출문제 공부 횟수</th>\n",
       "      <th>취약분야 인지 여부</th>\n",
       "      <th>토익 모의테스트 횟수</th>\n",
       "    </tr>\n",
       "  </thead>\n",
       "  <tbody>\n",
       "    <tr>\n",
       "      <th>2</th>\n",
       "      <td>1</td>\n",
       "      <td>3</td>\n",
       "      <td>345</td>\n",
       "      <td>336</td>\n",
       "      <td>681</td>\n",
       "      <td>승진</td>\n",
       "      <td>온라인강의</td>\n",
       "      <td>영상 교재</td>\n",
       "      <td>주5-6회</td>\n",
       "      <td>7.0</td>\n",
       "      <td>알고 있음</td>\n",
       "      <td>10</td>\n",
       "    </tr>\n",
       "    <tr>\n",
       "      <th>5</th>\n",
       "      <td>2</td>\n",
       "      <td>3</td>\n",
       "      <td>380</td>\n",
       "      <td>368</td>\n",
       "      <td>748</td>\n",
       "      <td>승진</td>\n",
       "      <td>온라인강의</td>\n",
       "      <td>뉴스/이슈 기반 교재</td>\n",
       "      <td>주5-6회</td>\n",
       "      <td>4.0</td>\n",
       "      <td>알고 있음</td>\n",
       "      <td>14</td>\n",
       "    </tr>\n",
       "    <tr>\n",
       "      <th>8</th>\n",
       "      <td>3</td>\n",
       "      <td>3</td>\n",
       "      <td>416</td>\n",
       "      <td>382</td>\n",
       "      <td>798</td>\n",
       "      <td>자기계발</td>\n",
       "      <td>참고서</td>\n",
       "      <td>일반적인 영어 텍스트 기반 교재</td>\n",
       "      <td>주1-2회</td>\n",
       "      <td>4.0</td>\n",
       "      <td>알고 있음</td>\n",
       "      <td>4</td>\n",
       "    </tr>\n",
       "    <tr>\n",
       "      <th>11</th>\n",
       "      <td>4</td>\n",
       "      <td>3</td>\n",
       "      <td>495</td>\n",
       "      <td>397</td>\n",
       "      <td>892</td>\n",
       "      <td>승진</td>\n",
       "      <td>온라인강의</td>\n",
       "      <td>뉴스/이슈 기반 교재</td>\n",
       "      <td>주3-4회</td>\n",
       "      <td>9.0</td>\n",
       "      <td>알고 있음</td>\n",
       "      <td>8</td>\n",
       "    </tr>\n",
       "    <tr>\n",
       "      <th>14</th>\n",
       "      <td>5</td>\n",
       "      <td>3</td>\n",
       "      <td>398</td>\n",
       "      <td>437</td>\n",
       "      <td>835</td>\n",
       "      <td>자기계발</td>\n",
       "      <td>온라인강의</td>\n",
       "      <td>영상 교재</td>\n",
       "      <td>주3-4회</td>\n",
       "      <td>6.0</td>\n",
       "      <td>알고 있음</td>\n",
       "      <td>4</td>\n",
       "    </tr>\n",
       "  </tbody>\n",
       "</table>\n",
       "</div>"
      ],
      "text/plain": [
       "    ID  Seq  LC_Score  RC_Score  Total Score  학습목표   학습방법        강의 학습 교재 유형  \\\n",
       "2    1    3       345       336          681    승진  온라인강의              영상 교재   \n",
       "5    2    3       380       368          748    승진  온라인강의        뉴스/이슈 기반 교재   \n",
       "8    3    3       416       382          798  자기계발    참고서  일반적인 영어 텍스트 기반 교재   \n",
       "11   4    3       495       397          892    승진  온라인강의        뉴스/이슈 기반 교재   \n",
       "14   5    3       398       437          835  자기계발  온라인강의              영상 교재   \n",
       "\n",
       "     학습빈도  기출문제 공부 횟수 취약분야 인지 여부  토익 모의테스트 횟수  \n",
       "2   주5-6회         7.0      알고 있음           10  \n",
       "5   주5-6회         4.0      알고 있음           14  \n",
       "8   주1-2회         4.0      알고 있음            4  \n",
       "11  주3-4회         9.0      알고 있음            8  \n",
       "14  주3-4회         6.0      알고 있음            4  "
      ]
     },
     "execution_count": 276,
     "metadata": {},
     "output_type": "execute_result"
    }
   ],
   "source": [
    "temp.head()"
   ]
  },
  {
   "cell_type": "markdown",
   "id": "5d6be5ee-ae9e-4c1c-83c0-c6fd0fb5ae23",
   "metadata": {},
   "source": [
    "### (3)-2. temp 데이터프레임의 열 이름 변경"
   ]
  },
  {
   "cell_type": "markdown",
   "id": "bdf7ad22-bb47-475d-96ee-2f7fdd17b899",
   "metadata": {},
   "source": [
    "* `LC_Score`, `RC_Score`, `Total Score`를 각각 '3st_LC_Score', '3st_RC_Score', '3st_Total_Score'로 변경하고 확인해주세요."
   ]
  },
  {
   "cell_type": "code",
   "execution_count": 277,
   "id": "9a122f15-aacf-41a7-9e84-7218d6dfc5c5",
   "metadata": {
    "tags": []
   },
   "outputs": [
    {
     "data": {
      "text/html": [
       "<div>\n",
       "<style scoped>\n",
       "    .dataframe tbody tr th:only-of-type {\n",
       "        vertical-align: middle;\n",
       "    }\n",
       "\n",
       "    .dataframe tbody tr th {\n",
       "        vertical-align: top;\n",
       "    }\n",
       "\n",
       "    .dataframe thead th {\n",
       "        text-align: right;\n",
       "    }\n",
       "</style>\n",
       "<table border=\"1\" class=\"dataframe\">\n",
       "  <thead>\n",
       "    <tr style=\"text-align: right;\">\n",
       "      <th></th>\n",
       "      <th>ID</th>\n",
       "      <th>Seq</th>\n",
       "      <th>3st_LC_SCcore</th>\n",
       "      <th>3st_RC_SCcore</th>\n",
       "      <th>3st_Total_SCcore</th>\n",
       "      <th>학습목표</th>\n",
       "      <th>학습방법</th>\n",
       "      <th>강의 학습 교재 유형</th>\n",
       "      <th>학습빈도</th>\n",
       "      <th>기출문제 공부 횟수</th>\n",
       "      <th>취약분야 인지 여부</th>\n",
       "      <th>토익 모의테스트 횟수</th>\n",
       "    </tr>\n",
       "  </thead>\n",
       "  <tbody>\n",
       "    <tr>\n",
       "      <th>2</th>\n",
       "      <td>1</td>\n",
       "      <td>3</td>\n",
       "      <td>345</td>\n",
       "      <td>336</td>\n",
       "      <td>681</td>\n",
       "      <td>승진</td>\n",
       "      <td>온라인강의</td>\n",
       "      <td>영상 교재</td>\n",
       "      <td>주5-6회</td>\n",
       "      <td>7.0</td>\n",
       "      <td>알고 있음</td>\n",
       "      <td>10</td>\n",
       "    </tr>\n",
       "    <tr>\n",
       "      <th>5</th>\n",
       "      <td>2</td>\n",
       "      <td>3</td>\n",
       "      <td>380</td>\n",
       "      <td>368</td>\n",
       "      <td>748</td>\n",
       "      <td>승진</td>\n",
       "      <td>온라인강의</td>\n",
       "      <td>뉴스/이슈 기반 교재</td>\n",
       "      <td>주5-6회</td>\n",
       "      <td>4.0</td>\n",
       "      <td>알고 있음</td>\n",
       "      <td>14</td>\n",
       "    </tr>\n",
       "    <tr>\n",
       "      <th>8</th>\n",
       "      <td>3</td>\n",
       "      <td>3</td>\n",
       "      <td>416</td>\n",
       "      <td>382</td>\n",
       "      <td>798</td>\n",
       "      <td>자기계발</td>\n",
       "      <td>참고서</td>\n",
       "      <td>일반적인 영어 텍스트 기반 교재</td>\n",
       "      <td>주1-2회</td>\n",
       "      <td>4.0</td>\n",
       "      <td>알고 있음</td>\n",
       "      <td>4</td>\n",
       "    </tr>\n",
       "    <tr>\n",
       "      <th>11</th>\n",
       "      <td>4</td>\n",
       "      <td>3</td>\n",
       "      <td>495</td>\n",
       "      <td>397</td>\n",
       "      <td>892</td>\n",
       "      <td>승진</td>\n",
       "      <td>온라인강의</td>\n",
       "      <td>뉴스/이슈 기반 교재</td>\n",
       "      <td>주3-4회</td>\n",
       "      <td>9.0</td>\n",
       "      <td>알고 있음</td>\n",
       "      <td>8</td>\n",
       "    </tr>\n",
       "    <tr>\n",
       "      <th>14</th>\n",
       "      <td>5</td>\n",
       "      <td>3</td>\n",
       "      <td>398</td>\n",
       "      <td>437</td>\n",
       "      <td>835</td>\n",
       "      <td>자기계발</td>\n",
       "      <td>온라인강의</td>\n",
       "      <td>영상 교재</td>\n",
       "      <td>주3-4회</td>\n",
       "      <td>6.0</td>\n",
       "      <td>알고 있음</td>\n",
       "      <td>4</td>\n",
       "    </tr>\n",
       "  </tbody>\n",
       "</table>\n",
       "</div>"
      ],
      "text/plain": [
       "    ID  Seq  3st_LC_SCcore  3st_RC_SCcore  3st_Total_SCcore  학습목표   학습방법  \\\n",
       "2    1    3            345            336               681    승진  온라인강의   \n",
       "5    2    3            380            368               748    승진  온라인강의   \n",
       "8    3    3            416            382               798  자기계발    참고서   \n",
       "11   4    3            495            397               892    승진  온라인강의   \n",
       "14   5    3            398            437               835  자기계발  온라인강의   \n",
       "\n",
       "          강의 학습 교재 유형   학습빈도  기출문제 공부 횟수 취약분야 인지 여부  토익 모의테스트 횟수  \n",
       "2               영상 교재  주5-6회         7.0      알고 있음           10  \n",
       "5         뉴스/이슈 기반 교재  주5-6회         4.0      알고 있음           14  \n",
       "8   일반적인 영어 텍스트 기반 교재  주1-2회         4.0      알고 있음            4  \n",
       "11        뉴스/이슈 기반 교재  주3-4회         9.0      알고 있음            8  \n",
       "14              영상 교재  주3-4회         6.0      알고 있음            4  "
      ]
     },
     "execution_count": 277,
     "metadata": {},
     "output_type": "execute_result"
    }
   ],
   "source": [
    "temp = temp.rename(columns = {\"LC_Score\" : \"3st_LC_SCcore\",\n",
    "                        \"RC_Score\" : \"3st_RC_SCcore\",\n",
    "                        \"Total Score\" : \"3st_Total_SCcore\",\n",
    "                        })\n",
    "temp.head()"
   ]
  },
  {
   "cell_type": "markdown",
   "id": "ec8eb9b3-d0d6-4f6e-963b-d388db49b715",
   "metadata": {},
   "source": [
    "### (3)-3. `df2`에서 ID별 차시(Seq)가 1인 행을 선택하여 새로운 데이터프레임 `temp1`에 할당"
   ]
  },
  {
   "cell_type": "code",
   "execution_count": 278,
   "id": "5c52f0fb-6f92-4799-a690-9c9cb623bee2",
   "metadata": {
    "tags": []
   },
   "outputs": [
    {
     "data": {
      "text/plain": [
       "array([1], dtype=int64)"
      ]
     },
     "execution_count": 278,
     "metadata": {},
     "output_type": "execute_result"
    }
   ],
   "source": [
    "temp1 = df2.loc[map(lambda x : x == 1,df2.Seq), :]\n",
    "temp1.Seq.unique()"
   ]
  },
  {
   "cell_type": "markdown",
   "id": "87cb8287-1954-4e35-95a9-2202790a35b0",
   "metadata": {},
   "source": [
    "### (3)-4.`temp1` 에는 df2['ID','LC_Score','RC_Score','Total Score']만 불러오기"
   ]
  },
  {
   "cell_type": "code",
   "execution_count": 279,
   "id": "d72f65b0-d46f-4500-98c8-20c5ed918602",
   "metadata": {
    "tags": []
   },
   "outputs": [],
   "source": [
    "temp1 = temp1.loc[:,['ID','LC_Score','RC_Score','Total Score']]"
   ]
  },
  {
   "cell_type": "markdown",
   "id": "8e589008-76f5-4a12-9155-849dc600904e",
   "metadata": {},
   "source": [
    "### (3)-5. temp1 데이터프레임의 열 이름 변경"
   ]
  },
  {
   "cell_type": "markdown",
   "id": "d8d7d198-5dc9-4102-9db9-7464d491bb6f",
   "metadata": {
    "tags": []
   },
   "source": [
    "* `LC_Score`, `RC_Score`, `Total Score`를 각각 '1st_LC_Score', '1st_RC_Score', '1st_Total_Score'로 변경하고 확인해주세요."
   ]
  },
  {
   "cell_type": "code",
   "execution_count": 280,
   "id": "8fb6d0f1-679d-4c29-9f49-5a28079621dc",
   "metadata": {
    "tags": []
   },
   "outputs": [
    {
     "data": {
      "text/html": [
       "<div>\n",
       "<style scoped>\n",
       "    .dataframe tbody tr th:only-of-type {\n",
       "        vertical-align: middle;\n",
       "    }\n",
       "\n",
       "    .dataframe tbody tr th {\n",
       "        vertical-align: top;\n",
       "    }\n",
       "\n",
       "    .dataframe thead th {\n",
       "        text-align: right;\n",
       "    }\n",
       "</style>\n",
       "<table border=\"1\" class=\"dataframe\">\n",
       "  <thead>\n",
       "    <tr style=\"text-align: right;\">\n",
       "      <th></th>\n",
       "      <th>ID</th>\n",
       "      <th>1st_LC_SCcore</th>\n",
       "      <th>1st_RC_SCcore</th>\n",
       "      <th>1st_Total_SCcore</th>\n",
       "    </tr>\n",
       "  </thead>\n",
       "  <tbody>\n",
       "    <tr>\n",
       "      <th>0</th>\n",
       "      <td>1</td>\n",
       "      <td>181</td>\n",
       "      <td>173</td>\n",
       "      <td>354</td>\n",
       "    </tr>\n",
       "    <tr>\n",
       "      <th>3</th>\n",
       "      <td>2</td>\n",
       "      <td>330</td>\n",
       "      <td>290</td>\n",
       "      <td>620</td>\n",
       "    </tr>\n",
       "    <tr>\n",
       "      <th>6</th>\n",
       "      <td>3</td>\n",
       "      <td>367</td>\n",
       "      <td>309</td>\n",
       "      <td>676</td>\n",
       "    </tr>\n",
       "    <tr>\n",
       "      <th>9</th>\n",
       "      <td>4</td>\n",
       "      <td>470</td>\n",
       "      <td>285</td>\n",
       "      <td>755</td>\n",
       "    </tr>\n",
       "    <tr>\n",
       "      <th>12</th>\n",
       "      <td>5</td>\n",
       "      <td>273</td>\n",
       "      <td>372</td>\n",
       "      <td>645</td>\n",
       "    </tr>\n",
       "  </tbody>\n",
       "</table>\n",
       "</div>"
      ],
      "text/plain": [
       "    ID  1st_LC_SCcore  1st_RC_SCcore  1st_Total_SCcore\n",
       "0    1            181            173               354\n",
       "3    2            330            290               620\n",
       "6    3            367            309               676\n",
       "9    4            470            285               755\n",
       "12   5            273            372               645"
      ]
     },
     "execution_count": 280,
     "metadata": {},
     "output_type": "execute_result"
    }
   ],
   "source": [
    "temp1 = temp1.rename(columns = {\"LC_Score\" : \"1st_LC_SCcore\",\n",
    "                        \"RC_Score\" : \"1st_RC_SCcore\",\n",
    "                        \"Total Score\" : \"1st_Total_SCcore\",\n",
    "                        })\n",
    "temp1.head()"
   ]
  },
  {
   "cell_type": "markdown",
   "id": "361a190d-959c-46a0-bdda-b45cfd20e093",
   "metadata": {},
   "source": [
    "### (3)-6. `df2`에서 ID별 차시(Seq)가 2인 행을 선택하여 새로운 데이터프레임 `temp2`에 할당"
   ]
  },
  {
   "cell_type": "code",
   "execution_count": 281,
   "id": "ec3f16f5-7d87-46d8-b729-3afe680d3850",
   "metadata": {
    "tags": []
   },
   "outputs": [
    {
     "data": {
      "text/plain": [
       "array([2], dtype=int64)"
      ]
     },
     "execution_count": 281,
     "metadata": {},
     "output_type": "execute_result"
    }
   ],
   "source": [
    "temp2 = df2.loc[map(lambda x : x == 2,df2.Seq), :]\n",
    "temp2.Seq.unique()"
   ]
  },
  {
   "cell_type": "markdown",
   "id": "b11c6d72-f3da-4f05-95a0-7d26a4ed7f71",
   "metadata": {},
   "source": [
    "### (3)-7. `temp2` 에는 df2['ID','LC_Score','RC_Score','Total Score']만 불러오기"
   ]
  },
  {
   "cell_type": "code",
   "execution_count": 282,
   "id": "25ad3b7f-f019-4dfc-8099-4867a3d39e50",
   "metadata": {
    "tags": []
   },
   "outputs": [],
   "source": [
    "temp2 =  temp2.loc[:,['ID','LC_Score','RC_Score','Total Score']]"
   ]
  },
  {
   "cell_type": "markdown",
   "id": "c4015078-5658-463c-aa5e-590b1416cc51",
   "metadata": {},
   "source": [
    "### (3)-8. temp2 데이터프레임의 열 이름 변경"
   ]
  },
  {
   "cell_type": "code",
   "execution_count": 283,
   "id": "cd0f7b9c-9043-420e-b8b2-cd55872f75de",
   "metadata": {
    "tags": []
   },
   "outputs": [
    {
     "data": {
      "text/html": [
       "<div>\n",
       "<style scoped>\n",
       "    .dataframe tbody tr th:only-of-type {\n",
       "        vertical-align: middle;\n",
       "    }\n",
       "\n",
       "    .dataframe tbody tr th {\n",
       "        vertical-align: top;\n",
       "    }\n",
       "\n",
       "    .dataframe thead th {\n",
       "        text-align: right;\n",
       "    }\n",
       "</style>\n",
       "<table border=\"1\" class=\"dataframe\">\n",
       "  <thead>\n",
       "    <tr style=\"text-align: right;\">\n",
       "      <th></th>\n",
       "      <th>ID</th>\n",
       "      <th>2st_LC_SCcore</th>\n",
       "      <th>2st_RC_SCcore</th>\n",
       "      <th>2st_Total_SCcore</th>\n",
       "    </tr>\n",
       "  </thead>\n",
       "  <tbody>\n",
       "    <tr>\n",
       "      <th>1</th>\n",
       "      <td>1</td>\n",
       "      <td>227</td>\n",
       "      <td>213</td>\n",
       "      <td>440</td>\n",
       "    </tr>\n",
       "    <tr>\n",
       "      <th>4</th>\n",
       "      <td>2</td>\n",
       "      <td>354</td>\n",
       "      <td>339</td>\n",
       "      <td>693</td>\n",
       "    </tr>\n",
       "    <tr>\n",
       "      <th>7</th>\n",
       "      <td>3</td>\n",
       "      <td>396</td>\n",
       "      <td>365</td>\n",
       "      <td>761</td>\n",
       "    </tr>\n",
       "    <tr>\n",
       "      <th>10</th>\n",
       "      <td>4</td>\n",
       "      <td>495</td>\n",
       "      <td>341</td>\n",
       "      <td>836</td>\n",
       "    </tr>\n",
       "    <tr>\n",
       "      <th>13</th>\n",
       "      <td>5</td>\n",
       "      <td>314</td>\n",
       "      <td>426</td>\n",
       "      <td>740</td>\n",
       "    </tr>\n",
       "  </tbody>\n",
       "</table>\n",
       "</div>"
      ],
      "text/plain": [
       "    ID  2st_LC_SCcore  2st_RC_SCcore  2st_Total_SCcore\n",
       "1    1            227            213               440\n",
       "4    2            354            339               693\n",
       "7    3            396            365               761\n",
       "10   4            495            341               836\n",
       "13   5            314            426               740"
      ]
     },
     "execution_count": 283,
     "metadata": {},
     "output_type": "execute_result"
    }
   ],
   "source": [
    "temp2 = temp2.rename(columns = {\"LC_Score\" : \"2st_LC_SCcore\",\n",
    "                        \"RC_Score\" : \"2st_RC_SCcore\",\n",
    "                        \"Total Score\" : \"2st_Total_SCcore\",\n",
    "                        })\n",
    "temp2.head()"
   ]
  },
  {
   "cell_type": "markdown",
   "id": "9cbd7170-902b-45c4-9fb8-46ac6e30dbcd",
   "metadata": {},
   "source": [
    "### (3)-9. (3차토익시험 점수 `temp`데이터) + (1차토익시험 점수 `temp1`합치기)"
   ]
  },
  {
   "cell_type": "markdown",
   "id": "b181aa2d-45dc-434d-a11c-de7d00152585",
   "metadata": {
    "tags": []
   },
   "source": [
    "`-` 합친 후 'score_merged_data1'에 할당"
   ]
  },
  {
   "cell_type": "code",
   "execution_count": 284,
   "id": "5ac418ef-c3d3-4fba-9017-ca1c9772d537",
   "metadata": {
    "tags": []
   },
   "outputs": [],
   "source": [
    "score_merged_data1 = pd.merge(temp,temp1)"
   ]
  },
  {
   "cell_type": "markdown",
   "id": "ef991b01-b7a6-4f57-a157-271d3b9f2259",
   "metadata": {},
   "source": [
    "### (3)-10. `score_merged_data1`과 `temp2`데이터를 합쳐 `score_merged_data2`에 할당"
   ]
  },
  {
   "cell_type": "code",
   "execution_count": 285,
   "id": "32579368-9bec-4a46-9ef2-069acaa10f90",
   "metadata": {
    "tags": []
   },
   "outputs": [],
   "source": [
    "score_merged_data2 = pd.merge(score_merged_data1,temp2)"
   ]
  },
  {
   "cell_type": "markdown",
   "id": "12ebd1e9-8431-4ef8-b430-f3ae8fd2cdbc",
   "metadata": {},
   "source": [
    "### (3)-10. `score_merged_date2`확인"
   ]
  },
  {
   "cell_type": "code",
   "execution_count": 286,
   "id": "66bafa2a-f28d-4240-9fdc-797b6558a56d",
   "metadata": {
    "tags": []
   },
   "outputs": [
    {
     "name": "stdout",
     "output_type": "stream",
     "text": [
      "<class 'pandas.core.frame.DataFrame'>\n",
      "RangeIndex: 500 entries, 0 to 499\n",
      "Data columns (total 18 columns):\n",
      " #   Column            Non-Null Count  Dtype  \n",
      "---  ------            --------------  -----  \n",
      " 0   ID                500 non-null    int64  \n",
      " 1   Seq               500 non-null    int64  \n",
      " 2   3st_LC_SCcore     500 non-null    int64  \n",
      " 3   3st_RC_SCcore     500 non-null    int64  \n",
      " 4   3st_Total_SCcore  500 non-null    int64  \n",
      " 5   학습목표              500 non-null    object \n",
      " 6   학습방법              500 non-null    object \n",
      " 7   강의 학습 교재 유형       500 non-null    object \n",
      " 8   학습빈도              500 non-null    object \n",
      " 9   기출문제 공부 횟수        500 non-null    float64\n",
      " 10  취약분야 인지 여부        500 non-null    object \n",
      " 11  토익 모의테스트 횟수       500 non-null    int64  \n",
      " 12  1st_LC_SCcore     500 non-null    int64  \n",
      " 13  1st_RC_SCcore     500 non-null    int64  \n",
      " 14  1st_Total_SCcore  500 non-null    int64  \n",
      " 15  2st_LC_SCcore     500 non-null    int64  \n",
      " 16  2st_RC_SCcore     500 non-null    int64  \n",
      " 17  2st_Total_SCcore  500 non-null    int64  \n",
      "dtypes: float64(1), int64(12), object(5)\n",
      "memory usage: 70.4+ KB\n",
      "None\n"
     ]
    }
   ],
   "source": [
    "print(score_merged_data2.info())"
   ]
  },
  {
   "cell_type": "markdown",
   "id": "4738d506-c72d-4cf9-a20d-a0e937276795",
   "metadata": {},
   "source": [
    "***"
   ]
  },
  {
   "cell_type": "markdown",
   "id": "051e6b45-b48e-4471-9d49-f08b3288f764",
   "metadata": {},
   "source": [
    "### (4) 개인정보 데이터(`df1`)와 토익시험 학습정보(`score_merged_data2`) 합치기"
   ]
  },
  {
   "cell_type": "markdown",
   "id": "906aacc3-7666-4527-8535-c4a70a73439c",
   "metadata": {},
   "source": [
    "`-` 합친 데이터를 `baseline_data`에 할당"
   ]
  },
  {
   "cell_type": "code",
   "execution_count": 287,
   "id": "536ae2e1-b384-46a6-8b9c-3f38c2aa098d",
   "metadata": {
    "tags": []
   },
   "outputs": [],
   "source": [
    "baseline_data = pd.merge(df1,score_merged_data2)"
   ]
  },
  {
   "cell_type": "code",
   "execution_count": 288,
   "id": "5eb25a05-61ff-493c-843b-e02aa95be01f",
   "metadata": {
    "tags": []
   },
   "outputs": [
    {
     "name": "stdout",
     "output_type": "stream",
     "text": [
      "<class 'pandas.core.frame.DataFrame'>\n",
      "RangeIndex: 502 entries, 0 to 501\n",
      "Data columns (total 20 columns):\n",
      " #   Column            Non-Null Count  Dtype  \n",
      "---  ------            --------------  -----  \n",
      " 0   ID                502 non-null    int64  \n",
      " 1   Gender            502 non-null    object \n",
      " 2   Birth_Year        502 non-null    int64  \n",
      " 3   Seq               502 non-null    int64  \n",
      " 4   3st_LC_SCcore     502 non-null    int64  \n",
      " 5   3st_RC_SCcore     502 non-null    int64  \n",
      " 6   3st_Total_SCcore  502 non-null    int64  \n",
      " 7   학습목표              502 non-null    object \n",
      " 8   학습방법              502 non-null    object \n",
      " 9   강의 학습 교재 유형       502 non-null    object \n",
      " 10  학습빈도              502 non-null    object \n",
      " 11  기출문제 공부 횟수        502 non-null    float64\n",
      " 12  취약분야 인지 여부        502 non-null    object \n",
      " 13  토익 모의테스트 횟수       502 non-null    int64  \n",
      " 14  1st_LC_SCcore     502 non-null    int64  \n",
      " 15  1st_RC_SCcore     502 non-null    int64  \n",
      " 16  1st_Total_SCcore  502 non-null    int64  \n",
      " 17  2st_LC_SCcore     502 non-null    int64  \n",
      " 18  2st_RC_SCcore     502 non-null    int64  \n",
      " 19  2st_Total_SCcore  502 non-null    int64  \n",
      "dtypes: float64(1), int64(13), object(6)\n",
      "memory usage: 78.6+ KB\n"
     ]
    }
   ],
   "source": [
    "baseline_data.info()"
   ]
  },
  {
   "cell_type": "markdown",
   "id": "057f3f46-c068-4305-b227-21ec1556f9bf",
   "metadata": {},
   "source": [
    "### (5)-1. 2회차 시험과 3회차 시험의 차이를 구하기"
   ]
  },
  {
   "cell_type": "markdown",
   "id": "fc5534bf-6566-4a31-a50a-cdd7a50f55de",
   "metadata": {},
   "source": [
    "* 'Score_diff_total'  = '3st_Total_Score' - '2st_Total_Score' "
   ]
  },
  {
   "cell_type": "code",
   "execution_count": 289,
   "id": "b5e8be39-e828-4f3c-a5b1-7f9a2bd1b82c",
   "metadata": {
    "tags": []
   },
   "outputs": [],
   "source": [
    "baseline_data[\"Score_diff_total\"] = baseline_data[\"3st_Total_SCcore\"] - baseline_data[\"2st_Total_SCcore\"] "
   ]
  },
  {
   "cell_type": "markdown",
   "id": "1074e539-82c3-4e0f-8a24-07786d972051",
   "metadata": {},
   "source": [
    "### (5)-2. 데이터 확인"
   ]
  },
  {
   "cell_type": "code",
   "execution_count": 290,
   "id": "fb3ec879-5676-4f61-b551-73a684fc9166",
   "metadata": {
    "tags": []
   },
   "outputs": [
    {
     "name": "stdout",
     "output_type": "stream",
     "text": [
      "<class 'pandas.core.frame.DataFrame'>\n",
      "RangeIndex: 502 entries, 0 to 501\n",
      "Data columns (total 21 columns):\n",
      " #   Column            Non-Null Count  Dtype  \n",
      "---  ------            --------------  -----  \n",
      " 0   ID                502 non-null    int64  \n",
      " 1   Gender            502 non-null    object \n",
      " 2   Birth_Year        502 non-null    int64  \n",
      " 3   Seq               502 non-null    int64  \n",
      " 4   3st_LC_SCcore     502 non-null    int64  \n",
      " 5   3st_RC_SCcore     502 non-null    int64  \n",
      " 6   3st_Total_SCcore  502 non-null    int64  \n",
      " 7   학습목표              502 non-null    object \n",
      " 8   학습방법              502 non-null    object \n",
      " 9   강의 학습 교재 유형       502 non-null    object \n",
      " 10  학습빈도              502 non-null    object \n",
      " 11  기출문제 공부 횟수        502 non-null    float64\n",
      " 12  취약분야 인지 여부        502 non-null    object \n",
      " 13  토익 모의테스트 횟수       502 non-null    int64  \n",
      " 14  1st_LC_SCcore     502 non-null    int64  \n",
      " 15  1st_RC_SCcore     502 non-null    int64  \n",
      " 16  1st_Total_SCcore  502 non-null    int64  \n",
      " 17  2st_LC_SCcore     502 non-null    int64  \n",
      " 18  2st_RC_SCcore     502 non-null    int64  \n",
      " 19  2st_Total_SCcore  502 non-null    int64  \n",
      " 20  Score_diff_total  502 non-null    int64  \n",
      "dtypes: float64(1), int64(14), object(6)\n",
      "memory usage: 82.5+ KB\n"
     ]
    }
   ],
   "source": [
    "baseline_data.info()"
   ]
  },
  {
   "cell_type": "markdown",
   "id": "b23b3bc1-a31d-4d0a-86df-31fcc997167e",
   "metadata": {},
   "source": [
    "***"
   ]
  },
  {
   "cell_type": "markdown",
   "id": "dcc19fb7-405c-409b-83ed-5d6a11dff072",
   "metadata": {},
   "source": [
    "## 4. 데이터셋 저장하기"
   ]
  },
  {
   "cell_type": "markdown",
   "id": "2f43a2e4-6a24-45c4-9dab-04b2b86c2c69",
   "metadata": {},
   "source": [
    "### (1) 전처리된 데이터 프레임 `baseline_data`를 `CSV`파일로 저장"
   ]
  },
  {
   "cell_type": "code",
   "execution_count": 291,
   "id": "f41bd32d-ecfa-46e5-8e18-588793e5a12e",
   "metadata": {
    "tags": []
   },
   "outputs": [],
   "source": [
    "baseline_data.to_csv(\"data04_baseline.csv\",index=False)"
   ]
  },
  {
   "cell_type": "markdown",
   "id": "01151090-79cf-4d40-bbe1-348e88546944",
   "metadata": {},
   "source": [
    "### (2) 제대로 저장되었는지 확인"
   ]
  },
  {
   "cell_type": "code",
   "execution_count": 292,
   "id": "161edc75-676b-49f7-ac72-ff72c81b087f",
   "metadata": {
    "tags": []
   },
   "outputs": [
    {
     "name": "stdout",
     "output_type": "stream",
     "text": [
      "<class 'pandas.core.frame.DataFrame'>\n",
      "RangeIndex: 502 entries, 0 to 501\n",
      "Data columns (total 21 columns):\n",
      " #   Column            Non-Null Count  Dtype  \n",
      "---  ------            --------------  -----  \n",
      " 0   ID                502 non-null    int64  \n",
      " 1   Gender            502 non-null    object \n",
      " 2   Birth_Year        502 non-null    int64  \n",
      " 3   Seq               502 non-null    int64  \n",
      " 4   3st_LC_SCcore     502 non-null    int64  \n",
      " 5   3st_RC_SCcore     502 non-null    int64  \n",
      " 6   3st_Total_SCcore  502 non-null    int64  \n",
      " 7   학습목표              502 non-null    object \n",
      " 8   학습방법              502 non-null    object \n",
      " 9   강의 학습 교재 유형       502 non-null    object \n",
      " 10  학습빈도              502 non-null    object \n",
      " 11  기출문제 공부 횟수        502 non-null    float64\n",
      " 12  취약분야 인지 여부        502 non-null    object \n",
      " 13  토익 모의테스트 횟수       502 non-null    int64  \n",
      " 14  1st_LC_SCcore     502 non-null    int64  \n",
      " 15  1st_RC_SCcore     502 non-null    int64  \n",
      " 16  1st_Total_SCcore  502 non-null    int64  \n",
      " 17  2st_LC_SCcore     502 non-null    int64  \n",
      " 18  2st_RC_SCcore     502 non-null    int64  \n",
      " 19  2st_Total_SCcore  502 non-null    int64  \n",
      " 20  Score_diff_total  502 non-null    int64  \n",
      "dtypes: float64(1), int64(14), object(6)\n",
      "memory usage: 82.5+ KB\n"
     ]
    }
   ],
   "source": [
    "pd.read_csv(\"data04_baseline.csv\").info()"
   ]
  },
  {
   "cell_type": "markdown",
   "id": "1e05df63-d472-432b-900e-d6c90d7af1ab",
   "metadata": {},
   "source": [
    "***"
   ]
  },
  {
   "cell_type": "markdown",
   "id": "140f7553-bc65-4ffc-8586-b8ba6253b1cc",
   "metadata": {
    "tags": []
   },
   "source": [
    "# 단계 2 : 데이터 프레임 탐색"
   ]
  },
  {
   "cell_type": "markdown",
   "id": "96e416b1-236e-463b-bcf4-cde34c3470a2",
   "metadata": {},
   "source": [
    "## 1. 환경설정"
   ]
  },
  {
   "cell_type": "markdown",
   "id": "0b5b4a19-dd38-4f2b-8696-77b64068802e",
   "metadata": {},
   "source": [
    "### (1) 폰트설치"
   ]
  },
  {
   "cell_type": "code",
   "execution_count": 293,
   "id": "304edb84-c58f-41ea-8d88-ed0d2c33f775",
   "metadata": {
    "tags": []
   },
   "outputs": [
    {
     "name": "stdout",
     "output_type": "stream",
     "text": [
      "Requirement already satisfied: matplotlib in c:\\users\\rkdcj\\anaconda3\\envs\\dx\\lib\\site-packages (3.7.2)\n",
      "Requirement already satisfied: contourpy>=1.0.1 in c:\\users\\rkdcj\\anaconda3\\envs\\dx\\lib\\site-packages (from matplotlib) (1.1.0)\n",
      "Requirement already satisfied: cycler>=0.10 in c:\\users\\rkdcj\\anaconda3\\envs\\dx\\lib\\site-packages (from matplotlib) (0.11.0)\n",
      "Requirement already satisfied: fonttools>=4.22.0 in c:\\users\\rkdcj\\anaconda3\\envs\\dx\\lib\\site-packages (from matplotlib) (4.42.0)\n",
      "Requirement already satisfied: kiwisolver>=1.0.1 in c:\\users\\rkdcj\\anaconda3\\envs\\dx\\lib\\site-packages (from matplotlib) (1.4.4)\n",
      "Requirement already satisfied: numpy>=1.20 in c:\\users\\rkdcj\\anaconda3\\envs\\dx\\lib\\site-packages (from matplotlib) (1.25.2)\n",
      "Requirement already satisfied: packaging>=20.0 in c:\\users\\rkdcj\\anaconda3\\envs\\dx\\lib\\site-packages (from matplotlib) (23.0)\n",
      "Requirement already satisfied: pillow>=6.2.0 in c:\\users\\rkdcj\\anaconda3\\envs\\dx\\lib\\site-packages (from matplotlib) (10.0.0)\n",
      "Requirement already satisfied: pyparsing<3.1,>=2.3.1 in c:\\users\\rkdcj\\anaconda3\\envs\\dx\\lib\\site-packages (from matplotlib) (3.0.9)\n",
      "Requirement already satisfied: python-dateutil>=2.7 in c:\\users\\rkdcj\\anaconda3\\envs\\dx\\lib\\site-packages (from matplotlib) (2.8.2)\n",
      "Requirement already satisfied: six>=1.5 in c:\\users\\rkdcj\\anaconda3\\envs\\dx\\lib\\site-packages (from python-dateutil>=2.7->matplotlib) (1.16.0)\n",
      "Requirement already satisfied: matplotlib in c:\\users\\rkdcj\\anaconda3\\envs\\dx\\lib\\site-packages (3.7.2)\n",
      "Requirement already satisfied: contourpy>=1.0.1 in c:\\users\\rkdcj\\anaconda3\\envs\\dx\\lib\\site-packages (from matplotlib) (1.1.0)\n",
      "Requirement already satisfied: cycler>=0.10 in c:\\users\\rkdcj\\anaconda3\\envs\\dx\\lib\\site-packages (from matplotlib) (0.11.0)\n",
      "Requirement already satisfied: fonttools>=4.22.0 in c:\\users\\rkdcj\\anaconda3\\envs\\dx\\lib\\site-packages (from matplotlib) (4.42.0)\n",
      "Requirement already satisfied: kiwisolver>=1.0.1 in c:\\users\\rkdcj\\anaconda3\\envs\\dx\\lib\\site-packages (from matplotlib) (1.4.4)\n",
      "Requirement already satisfied: numpy>=1.20 in c:\\users\\rkdcj\\anaconda3\\envs\\dx\\lib\\site-packages (from matplotlib) (1.25.2)\n",
      "Requirement already satisfied: packaging>=20.0 in c:\\users\\rkdcj\\anaconda3\\envs\\dx\\lib\\site-packages (from matplotlib) (23.0)\n",
      "Requirement already satisfied: pillow>=6.2.0 in c:\\users\\rkdcj\\anaconda3\\envs\\dx\\lib\\site-packages (from matplotlib) (10.0.0)\n",
      "Requirement already satisfied: pyparsing<3.1,>=2.3.1 in c:\\users\\rkdcj\\anaconda3\\envs\\dx\\lib\\site-packages (from matplotlib) (3.0.9)\n",
      "Requirement already satisfied: python-dateutil>=2.7 in c:\\users\\rkdcj\\anaconda3\\envs\\dx\\lib\\site-packages (from matplotlib) (2.8.2)\n",
      "Requirement already satisfied: six>=1.5 in c:\\users\\rkdcj\\anaconda3\\envs\\dx\\lib\\site-packages (from python-dateutil>=2.7->matplotlib) (1.16.0)\n"
     ]
    }
   ],
   "source": [
    "!pip install matplotlib\n",
    "!pip install --upgrade matplotlib\n",
    "\n",
    "import matplotlib.pyplot as plt"
   ]
  },
  {
   "cell_type": "markdown",
   "id": "d2d17d41-72fa-4e4d-8dda-61d45b42ca97",
   "metadata": {},
   "source": [
    "### (2) 라이브러리 불러오기"
   ]
  },
  {
   "cell_type": "code",
   "execution_count": 294,
   "id": "0c286253-27b9-4f4c-84ee-e5b6ae13ac0a",
   "metadata": {
    "tags": []
   },
   "outputs": [],
   "source": [
    "import pandas as pd\n",
    "import numpy as np\n",
    "import matplotlib.pyplot as plt\n",
    "\n",
    "plt.rc('font', family='Malgun Gothic')"
   ]
  },
  {
   "cell_type": "markdown",
   "id": "bbc4553b-faed-4134-9808-fe9505b30e90",
   "metadata": {},
   "source": [
    "### (3)-1. 데이터 불러오기"
   ]
  },
  {
   "cell_type": "code",
   "execution_count": 295,
   "id": "146e769e-3b92-462f-abfc-e3f2db6de681",
   "metadata": {
    "tags": []
   },
   "outputs": [],
   "source": [
    "data = pd.read_csv(\"data04_baseline.csv\")"
   ]
  },
  {
   "cell_type": "markdown",
   "id": "3aec869e-199f-47b0-8e57-00668a3f7c71",
   "metadata": {},
   "source": [
    "### (3)-2 데이터 확인"
   ]
  },
  {
   "cell_type": "code",
   "execution_count": 296,
   "id": "0db175bd-def5-4eb8-8e61-fd758269a237",
   "metadata": {
    "tags": []
   },
   "outputs": [
    {
     "data": {
      "text/html": [
       "<div>\n",
       "<style scoped>\n",
       "    .dataframe tbody tr th:only-of-type {\n",
       "        vertical-align: middle;\n",
       "    }\n",
       "\n",
       "    .dataframe tbody tr th {\n",
       "        vertical-align: top;\n",
       "    }\n",
       "\n",
       "    .dataframe thead th {\n",
       "        text-align: right;\n",
       "    }\n",
       "</style>\n",
       "<table border=\"1\" class=\"dataframe\">\n",
       "  <thead>\n",
       "    <tr style=\"text-align: right;\">\n",
       "      <th></th>\n",
       "      <th>ID</th>\n",
       "      <th>Gender</th>\n",
       "      <th>Birth_Year</th>\n",
       "      <th>Seq</th>\n",
       "      <th>3st_LC_SCcore</th>\n",
       "      <th>3st_RC_SCcore</th>\n",
       "      <th>3st_Total_SCcore</th>\n",
       "      <th>학습목표</th>\n",
       "      <th>학습방법</th>\n",
       "      <th>강의 학습 교재 유형</th>\n",
       "      <th>...</th>\n",
       "      <th>기출문제 공부 횟수</th>\n",
       "      <th>취약분야 인지 여부</th>\n",
       "      <th>토익 모의테스트 횟수</th>\n",
       "      <th>1st_LC_SCcore</th>\n",
       "      <th>1st_RC_SCcore</th>\n",
       "      <th>1st_Total_SCcore</th>\n",
       "      <th>2st_LC_SCcore</th>\n",
       "      <th>2st_RC_SCcore</th>\n",
       "      <th>2st_Total_SCcore</th>\n",
       "      <th>Score_diff_total</th>\n",
       "    </tr>\n",
       "  </thead>\n",
       "  <tbody>\n",
       "    <tr>\n",
       "      <th>0</th>\n",
       "      <td>1</td>\n",
       "      <td>M</td>\n",
       "      <td>1973</td>\n",
       "      <td>3</td>\n",
       "      <td>345</td>\n",
       "      <td>336</td>\n",
       "      <td>681</td>\n",
       "      <td>승진</td>\n",
       "      <td>온라인강의</td>\n",
       "      <td>영상 교재</td>\n",
       "      <td>...</td>\n",
       "      <td>7.0</td>\n",
       "      <td>알고 있음</td>\n",
       "      <td>10</td>\n",
       "      <td>181</td>\n",
       "      <td>173</td>\n",
       "      <td>354</td>\n",
       "      <td>227</td>\n",
       "      <td>213</td>\n",
       "      <td>440</td>\n",
       "      <td>241</td>\n",
       "    </tr>\n",
       "    <tr>\n",
       "      <th>1</th>\n",
       "      <td>2</td>\n",
       "      <td>F</td>\n",
       "      <td>1982</td>\n",
       "      <td>3</td>\n",
       "      <td>380</td>\n",
       "      <td>368</td>\n",
       "      <td>748</td>\n",
       "      <td>승진</td>\n",
       "      <td>온라인강의</td>\n",
       "      <td>뉴스/이슈 기반 교재</td>\n",
       "      <td>...</td>\n",
       "      <td>4.0</td>\n",
       "      <td>알고 있음</td>\n",
       "      <td>14</td>\n",
       "      <td>330</td>\n",
       "      <td>290</td>\n",
       "      <td>620</td>\n",
       "      <td>354</td>\n",
       "      <td>339</td>\n",
       "      <td>693</td>\n",
       "      <td>55</td>\n",
       "    </tr>\n",
       "    <tr>\n",
       "      <th>2</th>\n",
       "      <td>3</td>\n",
       "      <td>F</td>\n",
       "      <td>1995</td>\n",
       "      <td>3</td>\n",
       "      <td>416</td>\n",
       "      <td>382</td>\n",
       "      <td>798</td>\n",
       "      <td>자기계발</td>\n",
       "      <td>참고서</td>\n",
       "      <td>일반적인 영어 텍스트 기반 교재</td>\n",
       "      <td>...</td>\n",
       "      <td>4.0</td>\n",
       "      <td>알고 있음</td>\n",
       "      <td>4</td>\n",
       "      <td>367</td>\n",
       "      <td>309</td>\n",
       "      <td>676</td>\n",
       "      <td>396</td>\n",
       "      <td>365</td>\n",
       "      <td>761</td>\n",
       "      <td>37</td>\n",
       "    </tr>\n",
       "    <tr>\n",
       "      <th>3</th>\n",
       "      <td>4</td>\n",
       "      <td>M</td>\n",
       "      <td>1987</td>\n",
       "      <td>3</td>\n",
       "      <td>495</td>\n",
       "      <td>397</td>\n",
       "      <td>892</td>\n",
       "      <td>승진</td>\n",
       "      <td>온라인강의</td>\n",
       "      <td>뉴스/이슈 기반 교재</td>\n",
       "      <td>...</td>\n",
       "      <td>9.0</td>\n",
       "      <td>알고 있음</td>\n",
       "      <td>8</td>\n",
       "      <td>470</td>\n",
       "      <td>285</td>\n",
       "      <td>755</td>\n",
       "      <td>495</td>\n",
       "      <td>341</td>\n",
       "      <td>836</td>\n",
       "      <td>56</td>\n",
       "    </tr>\n",
       "    <tr>\n",
       "      <th>4</th>\n",
       "      <td>5</td>\n",
       "      <td>M</td>\n",
       "      <td>1994</td>\n",
       "      <td>3</td>\n",
       "      <td>398</td>\n",
       "      <td>437</td>\n",
       "      <td>835</td>\n",
       "      <td>자기계발</td>\n",
       "      <td>온라인강의</td>\n",
       "      <td>영상 교재</td>\n",
       "      <td>...</td>\n",
       "      <td>6.0</td>\n",
       "      <td>알고 있음</td>\n",
       "      <td>4</td>\n",
       "      <td>273</td>\n",
       "      <td>372</td>\n",
       "      <td>645</td>\n",
       "      <td>314</td>\n",
       "      <td>426</td>\n",
       "      <td>740</td>\n",
       "      <td>95</td>\n",
       "    </tr>\n",
       "  </tbody>\n",
       "</table>\n",
       "<p>5 rows × 21 columns</p>\n",
       "</div>"
      ],
      "text/plain": [
       "   ID Gender  Birth_Year  Seq  3st_LC_SCcore  3st_RC_SCcore  3st_Total_SCcore  \\\n",
       "0   1      M        1973    3            345            336               681   \n",
       "1   2      F        1982    3            380            368               748   \n",
       "2   3      F        1995    3            416            382               798   \n",
       "3   4      M        1987    3            495            397               892   \n",
       "4   5      M        1994    3            398            437               835   \n",
       "\n",
       "   학습목표   학습방법        강의 학습 교재 유형  ... 기출문제 공부 횟수  취약분야 인지 여부 토익 모의테스트 횟수  \\\n",
       "0    승진  온라인강의              영상 교재  ...        7.0       알고 있음          10   \n",
       "1    승진  온라인강의        뉴스/이슈 기반 교재  ...        4.0       알고 있음          14   \n",
       "2  자기계발    참고서  일반적인 영어 텍스트 기반 교재  ...        4.0       알고 있음           4   \n",
       "3    승진  온라인강의        뉴스/이슈 기반 교재  ...        9.0       알고 있음           8   \n",
       "4  자기계발  온라인강의              영상 교재  ...        6.0       알고 있음           4   \n",
       "\n",
       "   1st_LC_SCcore  1st_RC_SCcore  1st_Total_SCcore  2st_LC_SCcore  \\\n",
       "0            181            173               354            227   \n",
       "1            330            290               620            354   \n",
       "2            367            309               676            396   \n",
       "3            470            285               755            495   \n",
       "4            273            372               645            314   \n",
       "\n",
       "   2st_RC_SCcore  2st_Total_SCcore  Score_diff_total  \n",
       "0            213               440               241  \n",
       "1            339               693                55  \n",
       "2            365               761                37  \n",
       "3            341               836                56  \n",
       "4            426               740                95  \n",
       "\n",
       "[5 rows x 21 columns]"
      ]
     },
     "execution_count": 296,
     "metadata": {},
     "output_type": "execute_result"
    }
   ],
   "source": [
    "data.head()"
   ]
  },
  {
   "cell_type": "markdown",
   "id": "9d9d833b-4535-42b8-b270-38b30ab4c67a",
   "metadata": {},
   "source": [
    "### (3)-3. 열과 행확인"
   ]
  },
  {
   "cell_type": "code",
   "execution_count": 297,
   "id": "480daf81-5ada-4f7d-8a38-d1b3bbdf29ef",
   "metadata": {
    "tags": []
   },
   "outputs": [
    {
     "data": {
      "text/plain": [
       "(502, 21)"
      ]
     },
     "execution_count": 297,
     "metadata": {},
     "output_type": "execute_result"
    }
   ],
   "source": [
    "data.shape"
   ]
  },
  {
   "cell_type": "markdown",
   "id": "c9ab1643-b4e3-4b95-b917-706b3f106d8b",
   "metadata": {},
   "source": [
    "### (3)-4. 데이터의 자료구조(Row, Colu,n, Not-null, type)을 확인"
   ]
  },
  {
   "cell_type": "code",
   "execution_count": 298,
   "id": "6add184e-8357-4cd8-b1d4-f795fe2b193f",
   "metadata": {
    "tags": []
   },
   "outputs": [
    {
     "name": "stdout",
     "output_type": "stream",
     "text": [
      "<class 'pandas.core.frame.DataFrame'>\n",
      "RangeIndex: 502 entries, 0 to 501\n",
      "Data columns (total 21 columns):\n",
      " #   Column            Non-Null Count  Dtype  \n",
      "---  ------            --------------  -----  \n",
      " 0   ID                502 non-null    int64  \n",
      " 1   Gender            502 non-null    object \n",
      " 2   Birth_Year        502 non-null    int64  \n",
      " 3   Seq               502 non-null    int64  \n",
      " 4   3st_LC_SCcore     502 non-null    int64  \n",
      " 5   3st_RC_SCcore     502 non-null    int64  \n",
      " 6   3st_Total_SCcore  502 non-null    int64  \n",
      " 7   학습목표              502 non-null    object \n",
      " 8   학습방법              502 non-null    object \n",
      " 9   강의 학습 교재 유형       502 non-null    object \n",
      " 10  학습빈도              502 non-null    object \n",
      " 11  기출문제 공부 횟수        502 non-null    float64\n",
      " 12  취약분야 인지 여부        502 non-null    object \n",
      " 13  토익 모의테스트 횟수       502 non-null    int64  \n",
      " 14  1st_LC_SCcore     502 non-null    int64  \n",
      " 15  1st_RC_SCcore     502 non-null    int64  \n",
      " 16  1st_Total_SCcore  502 non-null    int64  \n",
      " 17  2st_LC_SCcore     502 non-null    int64  \n",
      " 18  2st_RC_SCcore     502 non-null    int64  \n",
      " 19  2st_Total_SCcore  502 non-null    int64  \n",
      " 20  Score_diff_total  502 non-null    int64  \n",
      "dtypes: float64(1), int64(14), object(6)\n",
      "memory usage: 82.5+ KB\n"
     ]
    }
   ],
   "source": [
    "data.info()"
   ]
  },
  {
   "cell_type": "markdown",
   "id": "8c5312e4-2d73-4df9-bb81-afe3f5cbe218",
   "metadata": {},
   "source": [
    "### (3)-5. 인덱스 확인"
   ]
  },
  {
   "cell_type": "code",
   "execution_count": 299,
   "id": "a984f12a-3f5c-466d-8f25-b8555cb45678",
   "metadata": {
    "tags": []
   },
   "outputs": [
    {
     "data": {
      "text/plain": [
       "RangeIndex(start=0, stop=502, step=1)"
      ]
     },
     "execution_count": 299,
     "metadata": {},
     "output_type": "execute_result"
    }
   ],
   "source": [
    "data.index"
   ]
  },
  {
   "cell_type": "markdown",
   "id": "d7d0d9b9-02b9-4ba1-9e6a-0d96eb1cd615",
   "metadata": {
    "tags": []
   },
   "source": [
    "### (3)-6. 컬럼명을 확인"
   ]
  },
  {
   "cell_type": "code",
   "execution_count": 300,
   "id": "ebb66772-bff9-48d8-8212-6bbd8d661af7",
   "metadata": {
    "tags": []
   },
   "outputs": [
    {
     "data": {
      "text/plain": [
       "Index(['ID', 'Gender', 'Birth_Year', 'Seq', '3st_LC_SCcore', '3st_RC_SCcore',\n",
       "       '3st_Total_SCcore', '학습목표', '학습방법', '강의 학습 교재 유형', '학습빈도', '기출문제 공부 횟수',\n",
       "       '취약분야 인지 여부', '토익 모의테스트 횟수', '1st_LC_SCcore', '1st_RC_SCcore',\n",
       "       '1st_Total_SCcore', '2st_LC_SCcore', '2st_RC_SCcore',\n",
       "       '2st_Total_SCcore', 'Score_diff_total'],\n",
       "      dtype='object')"
      ]
     },
     "execution_count": 300,
     "metadata": {},
     "output_type": "execute_result"
    }
   ],
   "source": [
    "data.columns"
   ]
  },
  {
   "cell_type": "markdown",
   "id": "73ba2edf-6d44-4a38-ac02-718d483f2b7a",
   "metadata": {},
   "source": [
    "### (3)-7. 상단 5행을 확인"
   ]
  },
  {
   "cell_type": "code",
   "execution_count": 301,
   "id": "55cd3176-228b-4c0a-951c-52b811c4d0d1",
   "metadata": {
    "tags": []
   },
   "outputs": [
    {
     "data": {
      "text/html": [
       "<div>\n",
       "<style scoped>\n",
       "    .dataframe tbody tr th:only-of-type {\n",
       "        vertical-align: middle;\n",
       "    }\n",
       "\n",
       "    .dataframe tbody tr th {\n",
       "        vertical-align: top;\n",
       "    }\n",
       "\n",
       "    .dataframe thead th {\n",
       "        text-align: right;\n",
       "    }\n",
       "</style>\n",
       "<table border=\"1\" class=\"dataframe\">\n",
       "  <thead>\n",
       "    <tr style=\"text-align: right;\">\n",
       "      <th></th>\n",
       "      <th>ID</th>\n",
       "      <th>Gender</th>\n",
       "      <th>Birth_Year</th>\n",
       "      <th>Seq</th>\n",
       "      <th>3st_LC_SCcore</th>\n",
       "      <th>3st_RC_SCcore</th>\n",
       "      <th>3st_Total_SCcore</th>\n",
       "      <th>학습목표</th>\n",
       "      <th>학습방법</th>\n",
       "      <th>강의 학습 교재 유형</th>\n",
       "      <th>...</th>\n",
       "      <th>기출문제 공부 횟수</th>\n",
       "      <th>취약분야 인지 여부</th>\n",
       "      <th>토익 모의테스트 횟수</th>\n",
       "      <th>1st_LC_SCcore</th>\n",
       "      <th>1st_RC_SCcore</th>\n",
       "      <th>1st_Total_SCcore</th>\n",
       "      <th>2st_LC_SCcore</th>\n",
       "      <th>2st_RC_SCcore</th>\n",
       "      <th>2st_Total_SCcore</th>\n",
       "      <th>Score_diff_total</th>\n",
       "    </tr>\n",
       "  </thead>\n",
       "  <tbody>\n",
       "    <tr>\n",
       "      <th>0</th>\n",
       "      <td>1</td>\n",
       "      <td>M</td>\n",
       "      <td>1973</td>\n",
       "      <td>3</td>\n",
       "      <td>345</td>\n",
       "      <td>336</td>\n",
       "      <td>681</td>\n",
       "      <td>승진</td>\n",
       "      <td>온라인강의</td>\n",
       "      <td>영상 교재</td>\n",
       "      <td>...</td>\n",
       "      <td>7.0</td>\n",
       "      <td>알고 있음</td>\n",
       "      <td>10</td>\n",
       "      <td>181</td>\n",
       "      <td>173</td>\n",
       "      <td>354</td>\n",
       "      <td>227</td>\n",
       "      <td>213</td>\n",
       "      <td>440</td>\n",
       "      <td>241</td>\n",
       "    </tr>\n",
       "    <tr>\n",
       "      <th>1</th>\n",
       "      <td>2</td>\n",
       "      <td>F</td>\n",
       "      <td>1982</td>\n",
       "      <td>3</td>\n",
       "      <td>380</td>\n",
       "      <td>368</td>\n",
       "      <td>748</td>\n",
       "      <td>승진</td>\n",
       "      <td>온라인강의</td>\n",
       "      <td>뉴스/이슈 기반 교재</td>\n",
       "      <td>...</td>\n",
       "      <td>4.0</td>\n",
       "      <td>알고 있음</td>\n",
       "      <td>14</td>\n",
       "      <td>330</td>\n",
       "      <td>290</td>\n",
       "      <td>620</td>\n",
       "      <td>354</td>\n",
       "      <td>339</td>\n",
       "      <td>693</td>\n",
       "      <td>55</td>\n",
       "    </tr>\n",
       "    <tr>\n",
       "      <th>2</th>\n",
       "      <td>3</td>\n",
       "      <td>F</td>\n",
       "      <td>1995</td>\n",
       "      <td>3</td>\n",
       "      <td>416</td>\n",
       "      <td>382</td>\n",
       "      <td>798</td>\n",
       "      <td>자기계발</td>\n",
       "      <td>참고서</td>\n",
       "      <td>일반적인 영어 텍스트 기반 교재</td>\n",
       "      <td>...</td>\n",
       "      <td>4.0</td>\n",
       "      <td>알고 있음</td>\n",
       "      <td>4</td>\n",
       "      <td>367</td>\n",
       "      <td>309</td>\n",
       "      <td>676</td>\n",
       "      <td>396</td>\n",
       "      <td>365</td>\n",
       "      <td>761</td>\n",
       "      <td>37</td>\n",
       "    </tr>\n",
       "    <tr>\n",
       "      <th>3</th>\n",
       "      <td>4</td>\n",
       "      <td>M</td>\n",
       "      <td>1987</td>\n",
       "      <td>3</td>\n",
       "      <td>495</td>\n",
       "      <td>397</td>\n",
       "      <td>892</td>\n",
       "      <td>승진</td>\n",
       "      <td>온라인강의</td>\n",
       "      <td>뉴스/이슈 기반 교재</td>\n",
       "      <td>...</td>\n",
       "      <td>9.0</td>\n",
       "      <td>알고 있음</td>\n",
       "      <td>8</td>\n",
       "      <td>470</td>\n",
       "      <td>285</td>\n",
       "      <td>755</td>\n",
       "      <td>495</td>\n",
       "      <td>341</td>\n",
       "      <td>836</td>\n",
       "      <td>56</td>\n",
       "    </tr>\n",
       "    <tr>\n",
       "      <th>4</th>\n",
       "      <td>5</td>\n",
       "      <td>M</td>\n",
       "      <td>1994</td>\n",
       "      <td>3</td>\n",
       "      <td>398</td>\n",
       "      <td>437</td>\n",
       "      <td>835</td>\n",
       "      <td>자기계발</td>\n",
       "      <td>온라인강의</td>\n",
       "      <td>영상 교재</td>\n",
       "      <td>...</td>\n",
       "      <td>6.0</td>\n",
       "      <td>알고 있음</td>\n",
       "      <td>4</td>\n",
       "      <td>273</td>\n",
       "      <td>372</td>\n",
       "      <td>645</td>\n",
       "      <td>314</td>\n",
       "      <td>426</td>\n",
       "      <td>740</td>\n",
       "      <td>95</td>\n",
       "    </tr>\n",
       "  </tbody>\n",
       "</table>\n",
       "<p>5 rows × 21 columns</p>\n",
       "</div>"
      ],
      "text/plain": [
       "   ID Gender  Birth_Year  Seq  3st_LC_SCcore  3st_RC_SCcore  3st_Total_SCcore  \\\n",
       "0   1      M        1973    3            345            336               681   \n",
       "1   2      F        1982    3            380            368               748   \n",
       "2   3      F        1995    3            416            382               798   \n",
       "3   4      M        1987    3            495            397               892   \n",
       "4   5      M        1994    3            398            437               835   \n",
       "\n",
       "   학습목표   학습방법        강의 학습 교재 유형  ... 기출문제 공부 횟수  취약분야 인지 여부 토익 모의테스트 횟수  \\\n",
       "0    승진  온라인강의              영상 교재  ...        7.0       알고 있음          10   \n",
       "1    승진  온라인강의        뉴스/이슈 기반 교재  ...        4.0       알고 있음          14   \n",
       "2  자기계발    참고서  일반적인 영어 텍스트 기반 교재  ...        4.0       알고 있음           4   \n",
       "3    승진  온라인강의        뉴스/이슈 기반 교재  ...        9.0       알고 있음           8   \n",
       "4  자기계발  온라인강의              영상 교재  ...        6.0       알고 있음           4   \n",
       "\n",
       "   1st_LC_SCcore  1st_RC_SCcore  1st_Total_SCcore  2st_LC_SCcore  \\\n",
       "0            181            173               354            227   \n",
       "1            330            290               620            354   \n",
       "2            367            309               676            396   \n",
       "3            470            285               755            495   \n",
       "4            273            372               645            314   \n",
       "\n",
       "   2st_RC_SCcore  2st_Total_SCcore  Score_diff_total  \n",
       "0            213               440               241  \n",
       "1            339               693                55  \n",
       "2            365               761                37  \n",
       "3            341               836                56  \n",
       "4            426               740                95  \n",
       "\n",
       "[5 rows x 21 columns]"
      ]
     },
     "execution_count": 301,
     "metadata": {},
     "output_type": "execute_result"
    }
   ],
   "source": [
    "data.head(5)"
   ]
  },
  {
   "cell_type": "markdown",
   "id": "d9ddcfbe-cab0-4377-bf87-39672c6f6906",
   "metadata": {},
   "source": [
    "***"
   ]
  },
  {
   "cell_type": "markdown",
   "id": "43c62a72-08ad-4374-a1e1-b9da2bbfcb71",
   "metadata": {},
   "source": [
    "## 2. 데이터프레임 탐색 : 개별 변수 분석"
   ]
  },
  {
   "cell_type": "markdown",
   "id": "c3f398f3-c7fc-4702-b47f-5dd4dda4be04",
   "metadata": {},
   "source": [
    "### (1)-1 : 열별 누락값 확인"
   ]
  },
  {
   "cell_type": "code",
   "execution_count": 302,
   "id": "aea96af8-af81-4ac5-bf74-e217b334eaf5",
   "metadata": {
    "tags": []
   },
   "outputs": [
    {
     "data": {
      "text/plain": [
       "ID                  0\n",
       "Gender              0\n",
       "Birth_Year          0\n",
       "Seq                 0\n",
       "3st_LC_SCcore       0\n",
       "3st_RC_SCcore       0\n",
       "3st_Total_SCcore    0\n",
       "학습목표                0\n",
       "학습방법                0\n",
       "강의 학습 교재 유형         0\n",
       "학습빈도                0\n",
       "기출문제 공부 횟수          0\n",
       "취약분야 인지 여부          0\n",
       "토익 모의테스트 횟수         0\n",
       "1st_LC_SCcore       0\n",
       "1st_RC_SCcore       0\n",
       "1st_Total_SCcore    0\n",
       "2st_LC_SCcore       0\n",
       "2st_RC_SCcore       0\n",
       "2st_Total_SCcore    0\n",
       "Score_diff_total    0\n",
       "dtype: int64"
      ]
     },
     "execution_count": 302,
     "metadata": {},
     "output_type": "execute_result"
    }
   ],
   "source": [
    "data.isna().sum()"
   ]
  },
  {
   "cell_type": "markdown",
   "id": "293da301-136c-4b2a-bdef-f77dedb7bb43",
   "metadata": {},
   "source": [
    "### (1)-2. 열별 통계량 요약하여 출력"
   ]
  },
  {
   "cell_type": "code",
   "execution_count": 303,
   "id": "a9cc1e1c-d491-4ea8-86b7-b6c040eb1eee",
   "metadata": {
    "tags": []
   },
   "outputs": [
    {
     "data": {
      "text/html": [
       "<div>\n",
       "<style scoped>\n",
       "    .dataframe tbody tr th:only-of-type {\n",
       "        vertical-align: middle;\n",
       "    }\n",
       "\n",
       "    .dataframe tbody tr th {\n",
       "        vertical-align: top;\n",
       "    }\n",
       "\n",
       "    .dataframe thead th {\n",
       "        text-align: right;\n",
       "    }\n",
       "</style>\n",
       "<table border=\"1\" class=\"dataframe\">\n",
       "  <thead>\n",
       "    <tr style=\"text-align: right;\">\n",
       "      <th></th>\n",
       "      <th>ID</th>\n",
       "      <th>Birth_Year</th>\n",
       "      <th>Seq</th>\n",
       "      <th>3st_LC_SCcore</th>\n",
       "      <th>3st_RC_SCcore</th>\n",
       "      <th>3st_Total_SCcore</th>\n",
       "      <th>기출문제 공부 횟수</th>\n",
       "      <th>토익 모의테스트 횟수</th>\n",
       "      <th>1st_LC_SCcore</th>\n",
       "      <th>1st_RC_SCcore</th>\n",
       "      <th>1st_Total_SCcore</th>\n",
       "      <th>2st_LC_SCcore</th>\n",
       "      <th>2st_RC_SCcore</th>\n",
       "      <th>2st_Total_SCcore</th>\n",
       "      <th>Score_diff_total</th>\n",
       "    </tr>\n",
       "  </thead>\n",
       "  <tbody>\n",
       "    <tr>\n",
       "      <th>count</th>\n",
       "      <td>502.000000</td>\n",
       "      <td>502.000000</td>\n",
       "      <td>502.0</td>\n",
       "      <td>502.000000</td>\n",
       "      <td>502.000000</td>\n",
       "      <td>502.000000</td>\n",
       "      <td>502.000000</td>\n",
       "      <td>502.000000</td>\n",
       "      <td>502.000000</td>\n",
       "      <td>502.000000</td>\n",
       "      <td>502.000000</td>\n",
       "      <td>502.000000</td>\n",
       "      <td>502.000000</td>\n",
       "      <td>502.000000</td>\n",
       "      <td>502.000000</td>\n",
       "    </tr>\n",
       "    <tr>\n",
       "      <th>mean</th>\n",
       "      <td>250.587649</td>\n",
       "      <td>1992.948207</td>\n",
       "      <td>3.0</td>\n",
       "      <td>368.023904</td>\n",
       "      <td>369.318725</td>\n",
       "      <td>737.382470</td>\n",
       "      <td>5.087649</td>\n",
       "      <td>9.452191</td>\n",
       "      <td>313.697211</td>\n",
       "      <td>312.798805</td>\n",
       "      <td>626.496016</td>\n",
       "      <td>337.868526</td>\n",
       "      <td>338.045817</td>\n",
       "      <td>675.924303</td>\n",
       "      <td>61.458167</td>\n",
       "    </tr>\n",
       "    <tr>\n",
       "      <th>std</th>\n",
       "      <td>144.199862</td>\n",
       "      <td>8.236603</td>\n",
       "      <td>0.0</td>\n",
       "      <td>82.052339</td>\n",
       "      <td>81.659228</td>\n",
       "      <td>155.752174</td>\n",
       "      <td>2.790826</td>\n",
       "      <td>4.952137</td>\n",
       "      <td>85.483105</td>\n",
       "      <td>86.522443</td>\n",
       "      <td>148.318758</td>\n",
       "      <td>84.141542</td>\n",
       "      <td>83.817809</td>\n",
       "      <td>152.986694</td>\n",
       "      <td>39.684902</td>\n",
       "    </tr>\n",
       "    <tr>\n",
       "      <th>min</th>\n",
       "      <td>1.000000</td>\n",
       "      <td>1973.000000</td>\n",
       "      <td>3.0</td>\n",
       "      <td>141.000000</td>\n",
       "      <td>135.000000</td>\n",
       "      <td>280.000000</td>\n",
       "      <td>0.000000</td>\n",
       "      <td>1.000000</td>\n",
       "      <td>105.000000</td>\n",
       "      <td>84.000000</td>\n",
       "      <td>250.000000</td>\n",
       "      <td>120.000000</td>\n",
       "      <td>129.000000</td>\n",
       "      <td>260.000000</td>\n",
       "      <td>0.000000</td>\n",
       "    </tr>\n",
       "    <tr>\n",
       "      <th>25%</th>\n",
       "      <td>126.250000</td>\n",
       "      <td>1987.000000</td>\n",
       "      <td>3.0</td>\n",
       "      <td>295.000000</td>\n",
       "      <td>295.000000</td>\n",
       "      <td>591.250000</td>\n",
       "      <td>3.000000</td>\n",
       "      <td>5.000000</td>\n",
       "      <td>259.250000</td>\n",
       "      <td>250.000000</td>\n",
       "      <td>519.000000</td>\n",
       "      <td>279.000000</td>\n",
       "      <td>280.500000</td>\n",
       "      <td>558.750000</td>\n",
       "      <td>30.000000</td>\n",
       "    </tr>\n",
       "    <tr>\n",
       "      <th>50%</th>\n",
       "      <td>251.500000</td>\n",
       "      <td>1993.000000</td>\n",
       "      <td>3.0</td>\n",
       "      <td>372.000000</td>\n",
       "      <td>375.000000</td>\n",
       "      <td>760.000000</td>\n",
       "      <td>5.000000</td>\n",
       "      <td>8.000000</td>\n",
       "      <td>308.000000</td>\n",
       "      <td>311.500000</td>\n",
       "      <td>641.000000</td>\n",
       "      <td>332.500000</td>\n",
       "      <td>335.000000</td>\n",
       "      <td>690.500000</td>\n",
       "      <td>63.000000</td>\n",
       "    </tr>\n",
       "    <tr>\n",
       "      <th>75%</th>\n",
       "      <td>374.750000</td>\n",
       "      <td>2000.000000</td>\n",
       "      <td>3.0</td>\n",
       "      <td>434.000000</td>\n",
       "      <td>437.000000</td>\n",
       "      <td>860.000000</td>\n",
       "      <td>7.000000</td>\n",
       "      <td>13.000000</td>\n",
       "      <td>369.000000</td>\n",
       "      <td>377.750000</td>\n",
       "      <td>734.750000</td>\n",
       "      <td>395.000000</td>\n",
       "      <td>400.000000</td>\n",
       "      <td>790.000000</td>\n",
       "      <td>83.000000</td>\n",
       "    </tr>\n",
       "    <tr>\n",
       "      <th>max</th>\n",
       "      <td>500.000000</td>\n",
       "      <td>2007.000000</td>\n",
       "      <td>3.0</td>\n",
       "      <td>495.000000</td>\n",
       "      <td>495.000000</td>\n",
       "      <td>990.000000</td>\n",
       "      <td>10.000000</td>\n",
       "      <td>20.000000</td>\n",
       "      <td>495.000000</td>\n",
       "      <td>491.000000</td>\n",
       "      <td>970.000000</td>\n",
       "      <td>495.000000</td>\n",
       "      <td>495.000000</td>\n",
       "      <td>990.000000</td>\n",
       "      <td>281.000000</td>\n",
       "    </tr>\n",
       "  </tbody>\n",
       "</table>\n",
       "</div>"
      ],
      "text/plain": [
       "               ID   Birth_Year    Seq  3st_LC_SCcore  3st_RC_SCcore  \\\n",
       "count  502.000000   502.000000  502.0     502.000000     502.000000   \n",
       "mean   250.587649  1992.948207    3.0     368.023904     369.318725   \n",
       "std    144.199862     8.236603    0.0      82.052339      81.659228   \n",
       "min      1.000000  1973.000000    3.0     141.000000     135.000000   \n",
       "25%    126.250000  1987.000000    3.0     295.000000     295.000000   \n",
       "50%    251.500000  1993.000000    3.0     372.000000     375.000000   \n",
       "75%    374.750000  2000.000000    3.0     434.000000     437.000000   \n",
       "max    500.000000  2007.000000    3.0     495.000000     495.000000   \n",
       "\n",
       "       3st_Total_SCcore  기출문제 공부 횟수  토익 모의테스트 횟수  1st_LC_SCcore  \\\n",
       "count        502.000000  502.000000   502.000000     502.000000   \n",
       "mean         737.382470    5.087649     9.452191     313.697211   \n",
       "std          155.752174    2.790826     4.952137      85.483105   \n",
       "min          280.000000    0.000000     1.000000     105.000000   \n",
       "25%          591.250000    3.000000     5.000000     259.250000   \n",
       "50%          760.000000    5.000000     8.000000     308.000000   \n",
       "75%          860.000000    7.000000    13.000000     369.000000   \n",
       "max          990.000000   10.000000    20.000000     495.000000   \n",
       "\n",
       "       1st_RC_SCcore  1st_Total_SCcore  2st_LC_SCcore  2st_RC_SCcore  \\\n",
       "count     502.000000        502.000000     502.000000     502.000000   \n",
       "mean      312.798805        626.496016     337.868526     338.045817   \n",
       "std        86.522443        148.318758      84.141542      83.817809   \n",
       "min        84.000000        250.000000     120.000000     129.000000   \n",
       "25%       250.000000        519.000000     279.000000     280.500000   \n",
       "50%       311.500000        641.000000     332.500000     335.000000   \n",
       "75%       377.750000        734.750000     395.000000     400.000000   \n",
       "max       491.000000        970.000000     495.000000     495.000000   \n",
       "\n",
       "       2st_Total_SCcore  Score_diff_total  \n",
       "count        502.000000        502.000000  \n",
       "mean         675.924303         61.458167  \n",
       "std          152.986694         39.684902  \n",
       "min          260.000000          0.000000  \n",
       "25%          558.750000         30.000000  \n",
       "50%          690.500000         63.000000  \n",
       "75%          790.000000         83.000000  \n",
       "max          990.000000        281.000000  "
      ]
     },
     "execution_count": 303,
     "metadata": {},
     "output_type": "execute_result"
    }
   ],
   "source": [
    "data.describe()"
   ]
  },
  {
   "cell_type": "markdown",
   "id": "f95d215b-369d-436d-ab29-4cec83388ed0",
   "metadata": {},
   "source": [
    "### (1)-3. 출력한 요약통계량을 행과 열을 바꿔서 출력"
   ]
  },
  {
   "cell_type": "code",
   "execution_count": 304,
   "id": "5e50d02e-e583-49b1-8c49-bf38ab1068e3",
   "metadata": {
    "tags": []
   },
   "outputs": [
    {
     "data": {
      "text/html": [
       "<div>\n",
       "<style scoped>\n",
       "    .dataframe tbody tr th:only-of-type {\n",
       "        vertical-align: middle;\n",
       "    }\n",
       "\n",
       "    .dataframe tbody tr th {\n",
       "        vertical-align: top;\n",
       "    }\n",
       "\n",
       "    .dataframe thead th {\n",
       "        text-align: right;\n",
       "    }\n",
       "</style>\n",
       "<table border=\"1\" class=\"dataframe\">\n",
       "  <thead>\n",
       "    <tr style=\"text-align: right;\">\n",
       "      <th></th>\n",
       "      <th>count</th>\n",
       "      <th>mean</th>\n",
       "      <th>std</th>\n",
       "      <th>min</th>\n",
       "      <th>25%</th>\n",
       "      <th>50%</th>\n",
       "      <th>75%</th>\n",
       "      <th>max</th>\n",
       "    </tr>\n",
       "  </thead>\n",
       "  <tbody>\n",
       "    <tr>\n",
       "      <th>ID</th>\n",
       "      <td>502.0</td>\n",
       "      <td>250.587649</td>\n",
       "      <td>144.199862</td>\n",
       "      <td>1.0</td>\n",
       "      <td>126.25</td>\n",
       "      <td>251.5</td>\n",
       "      <td>374.75</td>\n",
       "      <td>500.0</td>\n",
       "    </tr>\n",
       "    <tr>\n",
       "      <th>Birth_Year</th>\n",
       "      <td>502.0</td>\n",
       "      <td>1992.948207</td>\n",
       "      <td>8.236603</td>\n",
       "      <td>1973.0</td>\n",
       "      <td>1987.00</td>\n",
       "      <td>1993.0</td>\n",
       "      <td>2000.00</td>\n",
       "      <td>2007.0</td>\n",
       "    </tr>\n",
       "    <tr>\n",
       "      <th>Seq</th>\n",
       "      <td>502.0</td>\n",
       "      <td>3.000000</td>\n",
       "      <td>0.000000</td>\n",
       "      <td>3.0</td>\n",
       "      <td>3.00</td>\n",
       "      <td>3.0</td>\n",
       "      <td>3.00</td>\n",
       "      <td>3.0</td>\n",
       "    </tr>\n",
       "    <tr>\n",
       "      <th>3st_LC_SCcore</th>\n",
       "      <td>502.0</td>\n",
       "      <td>368.023904</td>\n",
       "      <td>82.052339</td>\n",
       "      <td>141.0</td>\n",
       "      <td>295.00</td>\n",
       "      <td>372.0</td>\n",
       "      <td>434.00</td>\n",
       "      <td>495.0</td>\n",
       "    </tr>\n",
       "    <tr>\n",
       "      <th>3st_RC_SCcore</th>\n",
       "      <td>502.0</td>\n",
       "      <td>369.318725</td>\n",
       "      <td>81.659228</td>\n",
       "      <td>135.0</td>\n",
       "      <td>295.00</td>\n",
       "      <td>375.0</td>\n",
       "      <td>437.00</td>\n",
       "      <td>495.0</td>\n",
       "    </tr>\n",
       "    <tr>\n",
       "      <th>3st_Total_SCcore</th>\n",
       "      <td>502.0</td>\n",
       "      <td>737.382470</td>\n",
       "      <td>155.752174</td>\n",
       "      <td>280.0</td>\n",
       "      <td>591.25</td>\n",
       "      <td>760.0</td>\n",
       "      <td>860.00</td>\n",
       "      <td>990.0</td>\n",
       "    </tr>\n",
       "    <tr>\n",
       "      <th>기출문제 공부 횟수</th>\n",
       "      <td>502.0</td>\n",
       "      <td>5.087649</td>\n",
       "      <td>2.790826</td>\n",
       "      <td>0.0</td>\n",
       "      <td>3.00</td>\n",
       "      <td>5.0</td>\n",
       "      <td>7.00</td>\n",
       "      <td>10.0</td>\n",
       "    </tr>\n",
       "    <tr>\n",
       "      <th>토익 모의테스트 횟수</th>\n",
       "      <td>502.0</td>\n",
       "      <td>9.452191</td>\n",
       "      <td>4.952137</td>\n",
       "      <td>1.0</td>\n",
       "      <td>5.00</td>\n",
       "      <td>8.0</td>\n",
       "      <td>13.00</td>\n",
       "      <td>20.0</td>\n",
       "    </tr>\n",
       "    <tr>\n",
       "      <th>1st_LC_SCcore</th>\n",
       "      <td>502.0</td>\n",
       "      <td>313.697211</td>\n",
       "      <td>85.483105</td>\n",
       "      <td>105.0</td>\n",
       "      <td>259.25</td>\n",
       "      <td>308.0</td>\n",
       "      <td>369.00</td>\n",
       "      <td>495.0</td>\n",
       "    </tr>\n",
       "    <tr>\n",
       "      <th>1st_RC_SCcore</th>\n",
       "      <td>502.0</td>\n",
       "      <td>312.798805</td>\n",
       "      <td>86.522443</td>\n",
       "      <td>84.0</td>\n",
       "      <td>250.00</td>\n",
       "      <td>311.5</td>\n",
       "      <td>377.75</td>\n",
       "      <td>491.0</td>\n",
       "    </tr>\n",
       "    <tr>\n",
       "      <th>1st_Total_SCcore</th>\n",
       "      <td>502.0</td>\n",
       "      <td>626.496016</td>\n",
       "      <td>148.318758</td>\n",
       "      <td>250.0</td>\n",
       "      <td>519.00</td>\n",
       "      <td>641.0</td>\n",
       "      <td>734.75</td>\n",
       "      <td>970.0</td>\n",
       "    </tr>\n",
       "    <tr>\n",
       "      <th>2st_LC_SCcore</th>\n",
       "      <td>502.0</td>\n",
       "      <td>337.868526</td>\n",
       "      <td>84.141542</td>\n",
       "      <td>120.0</td>\n",
       "      <td>279.00</td>\n",
       "      <td>332.5</td>\n",
       "      <td>395.00</td>\n",
       "      <td>495.0</td>\n",
       "    </tr>\n",
       "    <tr>\n",
       "      <th>2st_RC_SCcore</th>\n",
       "      <td>502.0</td>\n",
       "      <td>338.045817</td>\n",
       "      <td>83.817809</td>\n",
       "      <td>129.0</td>\n",
       "      <td>280.50</td>\n",
       "      <td>335.0</td>\n",
       "      <td>400.00</td>\n",
       "      <td>495.0</td>\n",
       "    </tr>\n",
       "    <tr>\n",
       "      <th>2st_Total_SCcore</th>\n",
       "      <td>502.0</td>\n",
       "      <td>675.924303</td>\n",
       "      <td>152.986694</td>\n",
       "      <td>260.0</td>\n",
       "      <td>558.75</td>\n",
       "      <td>690.5</td>\n",
       "      <td>790.00</td>\n",
       "      <td>990.0</td>\n",
       "    </tr>\n",
       "    <tr>\n",
       "      <th>Score_diff_total</th>\n",
       "      <td>502.0</td>\n",
       "      <td>61.458167</td>\n",
       "      <td>39.684902</td>\n",
       "      <td>0.0</td>\n",
       "      <td>30.00</td>\n",
       "      <td>63.0</td>\n",
       "      <td>83.00</td>\n",
       "      <td>281.0</td>\n",
       "    </tr>\n",
       "  </tbody>\n",
       "</table>\n",
       "</div>"
      ],
      "text/plain": [
       "                  count         mean         std     min      25%     50%  \\\n",
       "ID                502.0   250.587649  144.199862     1.0   126.25   251.5   \n",
       "Birth_Year        502.0  1992.948207    8.236603  1973.0  1987.00  1993.0   \n",
       "Seq               502.0     3.000000    0.000000     3.0     3.00     3.0   \n",
       "3st_LC_SCcore     502.0   368.023904   82.052339   141.0   295.00   372.0   \n",
       "3st_RC_SCcore     502.0   369.318725   81.659228   135.0   295.00   375.0   \n",
       "3st_Total_SCcore  502.0   737.382470  155.752174   280.0   591.25   760.0   \n",
       "기출문제 공부 횟수        502.0     5.087649    2.790826     0.0     3.00     5.0   \n",
       "토익 모의테스트 횟수       502.0     9.452191    4.952137     1.0     5.00     8.0   \n",
       "1st_LC_SCcore     502.0   313.697211   85.483105   105.0   259.25   308.0   \n",
       "1st_RC_SCcore     502.0   312.798805   86.522443    84.0   250.00   311.5   \n",
       "1st_Total_SCcore  502.0   626.496016  148.318758   250.0   519.00   641.0   \n",
       "2st_LC_SCcore     502.0   337.868526   84.141542   120.0   279.00   332.5   \n",
       "2st_RC_SCcore     502.0   338.045817   83.817809   129.0   280.50   335.0   \n",
       "2st_Total_SCcore  502.0   675.924303  152.986694   260.0   558.75   690.5   \n",
       "Score_diff_total  502.0    61.458167   39.684902     0.0    30.00    63.0   \n",
       "\n",
       "                      75%     max  \n",
       "ID                 374.75   500.0  \n",
       "Birth_Year        2000.00  2007.0  \n",
       "Seq                  3.00     3.0  \n",
       "3st_LC_SCcore      434.00   495.0  \n",
       "3st_RC_SCcore      437.00   495.0  \n",
       "3st_Total_SCcore   860.00   990.0  \n",
       "기출문제 공부 횟수           7.00    10.0  \n",
       "토익 모의테스트 횟수         13.00    20.0  \n",
       "1st_LC_SCcore      369.00   495.0  \n",
       "1st_RC_SCcore      377.75   491.0  \n",
       "1st_Total_SCcore   734.75   970.0  \n",
       "2st_LC_SCcore      395.00   495.0  \n",
       "2st_RC_SCcore      400.00   495.0  \n",
       "2st_Total_SCcore   790.00   990.0  \n",
       "Score_diff_total    83.00   281.0  "
      ]
     },
     "execution_count": 304,
     "metadata": {},
     "output_type": "execute_result"
    }
   ],
   "source": [
    "data.describe().T"
   ]
  },
  {
   "cell_type": "markdown",
   "id": "4106b4fb-8abf-46b9-95f3-9b55d64c7fc8",
   "metadata": {},
   "source": [
    "### (1)-4. Gender 컬럼의 값 별 개수를 확인"
   ]
  },
  {
   "cell_type": "code",
   "execution_count": 305,
   "id": "6fb53e8f-0eec-4663-9941-57cd0973e465",
   "metadata": {
    "tags": []
   },
   "outputs": [
    {
     "data": {
      "text/plain": [
       "Gender\n",
       "M    251\n",
       "F    251\n",
       "Name: count, dtype: int64"
      ]
     },
     "execution_count": 305,
     "metadata": {},
     "output_type": "execute_result"
    }
   ],
   "source": [
    "data.Gender.value_counts()"
   ]
  },
  {
   "cell_type": "markdown",
   "id": "aacbe95b-dd7c-4daa-a0df-c37dcbecfa4a",
   "metadata": {},
   "source": [
    "### (1)-5. `Gender` 컬럼의 ['M', 'F'] --> [1,2]로 변경"
   ]
  },
  {
   "cell_type": "code",
   "execution_count": 306,
   "id": "058a77ff-1977-41cb-9d77-058759aaff3f",
   "metadata": {
    "tags": []
   },
   "outputs": [],
   "source": [
    "data.Gender = [1 if i ==\"M\" else 2 for i in data.Gender]"
   ]
  },
  {
   "cell_type": "code",
   "execution_count": 307,
   "id": "eb31f659-3ae9-495b-b8c2-3e4f516bd118",
   "metadata": {
    "tags": []
   },
   "outputs": [
    {
     "data": {
      "text/plain": [
       "array([1, 2], dtype=int64)"
      ]
     },
     "execution_count": 307,
     "metadata": {},
     "output_type": "execute_result"
    }
   ],
   "source": [
    "data.Gender.unique()"
   ]
  },
  {
   "cell_type": "markdown",
   "id": "cfa86478-5df0-42f7-9dca-d948dec70e0e",
   "metadata": {},
   "source": [
    "### (1)-6.  Gender 컬럼의 값 별 개수를 다시 확인해주세요."
   ]
  },
  {
   "cell_type": "code",
   "execution_count": 308,
   "id": "d9035ce5-d094-4495-a9ca-05839e01e501",
   "metadata": {
    "tags": []
   },
   "outputs": [
    {
     "data": {
      "text/plain": [
       "Gender\n",
       "1    251\n",
       "2    251\n",
       "Name: count, dtype: int64"
      ]
     },
     "execution_count": 308,
     "metadata": {},
     "output_type": "execute_result"
    }
   ],
   "source": [
    "data.Gender.value_counts()"
   ]
  },
  {
   "cell_type": "markdown",
   "id": "20112991-1afe-493b-89de-4eb2d57e5f7b",
   "metadata": {},
   "source": [
    "### (1)-7. `Gender`컬럼 타입을 `int`로 변경"
   ]
  },
  {
   "cell_type": "markdown",
   "id": "84f68cb2-7098-4341-b4f6-629d67bed307",
   "metadata": {},
   "source": [
    "`-` 리스트 컴프리헨션을 통해 위에서 수행"
   ]
  },
  {
   "cell_type": "markdown",
   "id": "0bebd3a8-7ac7-4ef7-af8b-6567751093f3",
   "metadata": {},
   "source": [
    "### (1)-8. 데이터 프레임의 Null 데이터가 있는지 확인"
   ]
  },
  {
   "cell_type": "code",
   "execution_count": 309,
   "id": "0603bb8d-3d4b-4c80-9a0a-8a39655e163c",
   "metadata": {
    "tags": []
   },
   "outputs": [
    {
     "data": {
      "text/plain": [
       "ID                  0\n",
       "Gender              0\n",
       "Birth_Year          0\n",
       "Seq                 0\n",
       "3st_LC_SCcore       0\n",
       "3st_RC_SCcore       0\n",
       "3st_Total_SCcore    0\n",
       "학습목표                0\n",
       "학습방법                0\n",
       "강의 학습 교재 유형         0\n",
       "학습빈도                0\n",
       "기출문제 공부 횟수          0\n",
       "취약분야 인지 여부          0\n",
       "토익 모의테스트 횟수         0\n",
       "1st_LC_SCcore       0\n",
       "1st_RC_SCcore       0\n",
       "1st_Total_SCcore    0\n",
       "2st_LC_SCcore       0\n",
       "2st_RC_SCcore       0\n",
       "2st_Total_SCcore    0\n",
       "Score_diff_total    0\n",
       "dtype: int64"
      ]
     },
     "execution_count": 309,
     "metadata": {},
     "output_type": "execute_result"
    }
   ],
   "source": [
    "data.isnull().sum()"
   ]
  },
  {
   "cell_type": "markdown",
   "id": "492f74b7-f20f-4681-a13b-23ea2acdef27",
   "metadata": {},
   "source": [
    "***"
   ]
  },
  {
   "cell_type": "markdown",
   "id": "c7edcdff-7e63-482f-a2e2-c875570cf5a4",
   "metadata": {},
   "source": [
    "### (2)-1. 변수 sdt 문자열 \"Score_diff_total\"을 할당"
   ]
  },
  {
   "cell_type": "code",
   "execution_count": 319,
   "id": "89de184d-416d-4703-9a7e-33cf1d8df68d",
   "metadata": {
    "tags": []
   },
   "outputs": [],
   "source": [
    "sdt  =\"Score_diff_total\""
   ]
  },
  {
   "cell_type": "markdown",
   "id": "ad2d3668-582d-4bc8-ab6b-59d3e154ed7a",
   "metadata": {},
   "source": [
    "### (2)-2. `Score_diff_total`에 대한 기술 통계 정보를 데이터 프레임의 형태로 출력"
   ]
  },
  {
   "cell_type": "code",
   "execution_count": 323,
   "id": "58ec6f83-7fe3-4a71-8f17-03e992b5d70f",
   "metadata": {
    "tags": []
   },
   "outputs": [
    {
     "data": {
      "text/html": [
       "<div>\n",
       "<style scoped>\n",
       "    .dataframe tbody tr th:only-of-type {\n",
       "        vertical-align: middle;\n",
       "    }\n",
       "\n",
       "    .dataframe tbody tr th {\n",
       "        vertical-align: top;\n",
       "    }\n",
       "\n",
       "    .dataframe thead th {\n",
       "        text-align: right;\n",
       "    }\n",
       "</style>\n",
       "<table border=\"1\" class=\"dataframe\">\n",
       "  <thead>\n",
       "    <tr style=\"text-align: right;\">\n",
       "      <th></th>\n",
       "      <th>Score_diff_total</th>\n",
       "    </tr>\n",
       "  </thead>\n",
       "  <tbody>\n",
       "    <tr>\n",
       "      <th>count</th>\n",
       "      <td>502.000000</td>\n",
       "    </tr>\n",
       "    <tr>\n",
       "      <th>mean</th>\n",
       "      <td>61.458167</td>\n",
       "    </tr>\n",
       "    <tr>\n",
       "      <th>std</th>\n",
       "      <td>39.684902</td>\n",
       "    </tr>\n",
       "    <tr>\n",
       "      <th>min</th>\n",
       "      <td>0.000000</td>\n",
       "    </tr>\n",
       "    <tr>\n",
       "      <th>25%</th>\n",
       "      <td>30.000000</td>\n",
       "    </tr>\n",
       "    <tr>\n",
       "      <th>50%</th>\n",
       "      <td>63.000000</td>\n",
       "    </tr>\n",
       "    <tr>\n",
       "      <th>75%</th>\n",
       "      <td>83.000000</td>\n",
       "    </tr>\n",
       "    <tr>\n",
       "      <th>max</th>\n",
       "      <td>281.000000</td>\n",
       "    </tr>\n",
       "  </tbody>\n",
       "</table>\n",
       "</div>"
      ],
      "text/plain": [
       "       Score_diff_total\n",
       "count        502.000000\n",
       "mean          61.458167\n",
       "std           39.684902\n",
       "min            0.000000\n",
       "25%           30.000000\n",
       "50%           63.000000\n",
       "75%           83.000000\n",
       "max          281.000000"
      ]
     },
     "execution_count": 323,
     "metadata": {},
     "output_type": "execute_result"
    }
   ],
   "source": [
    "data[[sdt]].describe()"
   ]
  },
  {
   "cell_type": "markdown",
   "id": "da6918c7-dbf8-46d2-8c34-52e051dd96c7",
   "metadata": {},
   "source": [
    "### (2)-3. 위의 결과를 행과 열을 변환하여 출력"
   ]
  },
  {
   "cell_type": "code",
   "execution_count": 325,
   "id": "9e73e8e6-90ec-46d8-b779-2501c113ed47",
   "metadata": {
    "tags": []
   },
   "outputs": [
    {
     "data": {
      "text/html": [
       "<div>\n",
       "<style scoped>\n",
       "    .dataframe tbody tr th:only-of-type {\n",
       "        vertical-align: middle;\n",
       "    }\n",
       "\n",
       "    .dataframe tbody tr th {\n",
       "        vertical-align: top;\n",
       "    }\n",
       "\n",
       "    .dataframe thead th {\n",
       "        text-align: right;\n",
       "    }\n",
       "</style>\n",
       "<table border=\"1\" class=\"dataframe\">\n",
       "  <thead>\n",
       "    <tr style=\"text-align: right;\">\n",
       "      <th></th>\n",
       "      <th>count</th>\n",
       "      <th>mean</th>\n",
       "      <th>std</th>\n",
       "      <th>min</th>\n",
       "      <th>25%</th>\n",
       "      <th>50%</th>\n",
       "      <th>75%</th>\n",
       "      <th>max</th>\n",
       "    </tr>\n",
       "  </thead>\n",
       "  <tbody>\n",
       "    <tr>\n",
       "      <th>Score_diff_total</th>\n",
       "      <td>502.0</td>\n",
       "      <td>61.458167</td>\n",
       "      <td>39.684902</td>\n",
       "      <td>0.0</td>\n",
       "      <td>30.0</td>\n",
       "      <td>63.0</td>\n",
       "      <td>83.0</td>\n",
       "      <td>281.0</td>\n",
       "    </tr>\n",
       "  </tbody>\n",
       "</table>\n",
       "</div>"
      ],
      "text/plain": [
       "                  count       mean        std  min   25%   50%   75%    max\n",
       "Score_diff_total  502.0  61.458167  39.684902  0.0  30.0  63.0  83.0  281.0"
      ]
     },
     "execution_count": 325,
     "metadata": {},
     "output_type": "execute_result"
    }
   ],
   "source": [
    "data[[sdt]].describe().T"
   ]
  },
  {
   "cell_type": "markdown",
   "id": "a1f4bc83-7d4e-480e-8f3f-0cada408a785",
   "metadata": {},
   "source": [
    "### (2)-4. 변수 BY에 문자열 'Birth_Year'을 할당"
   ]
  },
  {
   "cell_type": "code",
   "execution_count": 326,
   "id": "2bf31fa0-6537-46c8-ba26-289b0eed1684",
   "metadata": {
    "tags": []
   },
   "outputs": [],
   "source": [
    "BY = \"Birth_Year\""
   ]
  },
  {
   "cell_type": "markdown",
   "id": "99b7c2b7-5197-43d8-9fec-f065c8120f96",
   "metadata": {},
   "source": [
    "### (2)-5. 'Birth_Year'열에 대한 기술 통계 정보를 행과열을 변환해 출력"
   ]
  },
  {
   "cell_type": "code",
   "execution_count": 328,
   "id": "17a0593c-0c33-4d8c-8899-fafc9b7f144b",
   "metadata": {
    "tags": []
   },
   "outputs": [
    {
     "data": {
      "text/html": [
       "<div>\n",
       "<style scoped>\n",
       "    .dataframe tbody tr th:only-of-type {\n",
       "        vertical-align: middle;\n",
       "    }\n",
       "\n",
       "    .dataframe tbody tr th {\n",
       "        vertical-align: top;\n",
       "    }\n",
       "\n",
       "    .dataframe thead th {\n",
       "        text-align: right;\n",
       "    }\n",
       "</style>\n",
       "<table border=\"1\" class=\"dataframe\">\n",
       "  <thead>\n",
       "    <tr style=\"text-align: right;\">\n",
       "      <th></th>\n",
       "      <th>count</th>\n",
       "      <th>mean</th>\n",
       "      <th>std</th>\n",
       "      <th>min</th>\n",
       "      <th>25%</th>\n",
       "      <th>50%</th>\n",
       "      <th>75%</th>\n",
       "      <th>max</th>\n",
       "    </tr>\n",
       "  </thead>\n",
       "  <tbody>\n",
       "    <tr>\n",
       "      <th>Birth_Year</th>\n",
       "      <td>502.0</td>\n",
       "      <td>1992.948207</td>\n",
       "      <td>8.236603</td>\n",
       "      <td>1973.0</td>\n",
       "      <td>1987.0</td>\n",
       "      <td>1993.0</td>\n",
       "      <td>2000.0</td>\n",
       "      <td>2007.0</td>\n",
       "    </tr>\n",
       "  </tbody>\n",
       "</table>\n",
       "</div>"
      ],
      "text/plain": [
       "            count         mean       std     min     25%     50%     75%  \\\n",
       "Birth_Year  502.0  1992.948207  8.236603  1973.0  1987.0  1993.0  2000.0   \n",
       "\n",
       "               max  \n",
       "Birth_Year  2007.0  "
      ]
     },
     "execution_count": 328,
     "metadata": {},
     "output_type": "execute_result"
    }
   ],
   "source": [
    "data[[BY]].describe().T"
   ]
  },
  {
   "cell_type": "markdown",
   "id": "a17c4230-9142-4440-baf3-afa1ab589f28",
   "metadata": {},
   "source": [
    "### (2)-6. 'data' 데이터프레임의 'Birth_Year' 컬럼의 연도별 개수를 Bar 차트로 그리세요."
   ]
  },
  {
   "cell_type": "code",
   "execution_count": 369,
   "id": "e7598a90-dc20-4bec-a038-09c68dd94fcb",
   "metadata": {
    "tags": []
   },
   "outputs": [
    {
     "data": {
      "text/plain": [
       "0      1973\n",
       "1      1982\n",
       "2      1995\n",
       "3      1987\n",
       "4      1994\n",
       "       ... \n",
       "497    2006\n",
       "498    1988\n",
       "499    2006\n",
       "500    1990\n",
       "501    1984\n",
       "Name: Birth_Year, Length: 502, dtype: int64"
      ]
     },
     "execution_count": 369,
     "metadata": {},
     "output_type": "execute_result"
    }
   ],
   "source": [
    "data[BY]"
   ]
  },
  {
   "cell_type": "code",
   "execution_count": 374,
   "id": "f5ed7cde-a740-4c50-abdf-43743fa5dfba",
   "metadata": {
    "tags": []
   },
   "outputs": [
    {
     "data": {
      "text/plain": [
       "<Axes: title={'center': 'Count of Birth_Year'}, xlabel='Birth_Year'>"
      ]
     },
     "execution_count": 374,
     "metadata": {},
     "output_type": "execute_result"
    },
    {
     "data": {
      "image/png": "[encoded data removed]",
      "text/plain": [
       "<Figure size 640x480 with 1 Axes>"
      ]
     },
     "metadata": {},
     "output_type": "display_data"
    }
   ],
   "source": [
    "data.groupby(BY)[[BY]].count().\\\n",
    "                    rename(columns = {\"Birth_Year\" : \"Count\"}).\\\n",
    "                    reset_index().plot(kind= \"bar\",x=\"Birth_Year\",y=\"Count\",title=  \"Count of Birth_Year\")"
   ]
  },
  {
   "cell_type": "markdown",
   "id": "1be44f3c-a88f-45a2-a36a-7584cb0c738a",
   "metadata": {},
   "source": [
    "### (2)-7. 데이터 타입이 object인 컬럼만 추출"
   ]
  },
  {
   "cell_type": "code",
   "execution_count": 408,
   "id": "ed51140e-eb36-4047-90e0-862c80a9273d",
   "metadata": {
    "tags": []
   },
   "outputs": [
    {
     "data": {
      "text/html": [
       "<div>\n",
       "<style scoped>\n",
       "    .dataframe tbody tr th:only-of-type {\n",
       "        vertical-align: middle;\n",
       "    }\n",
       "\n",
       "    .dataframe tbody tr th {\n",
       "        vertical-align: top;\n",
       "    }\n",
       "\n",
       "    .dataframe thead th {\n",
       "        text-align: right;\n",
       "    }\n",
       "</style>\n",
       "<table border=\"1\" class=\"dataframe\">\n",
       "  <thead>\n",
       "    <tr style=\"text-align: right;\">\n",
       "      <th></th>\n",
       "      <th>학습목표</th>\n",
       "      <th>학습방법</th>\n",
       "      <th>강의 학습 교재 유형</th>\n",
       "      <th>학습빈도</th>\n",
       "      <th>취약분야 인지 여부</th>\n",
       "    </tr>\n",
       "  </thead>\n",
       "  <tbody>\n",
       "    <tr>\n",
       "      <th>0</th>\n",
       "      <td>승진</td>\n",
       "      <td>온라인강의</td>\n",
       "      <td>영상 교재</td>\n",
       "      <td>주5-6회</td>\n",
       "      <td>알고 있음</td>\n",
       "    </tr>\n",
       "    <tr>\n",
       "      <th>1</th>\n",
       "      <td>승진</td>\n",
       "      <td>온라인강의</td>\n",
       "      <td>뉴스/이슈 기반 교재</td>\n",
       "      <td>주5-6회</td>\n",
       "      <td>알고 있음</td>\n",
       "    </tr>\n",
       "    <tr>\n",
       "      <th>2</th>\n",
       "      <td>자기계발</td>\n",
       "      <td>참고서</td>\n",
       "      <td>일반적인 영어 텍스트 기반 교재</td>\n",
       "      <td>주1-2회</td>\n",
       "      <td>알고 있음</td>\n",
       "    </tr>\n",
       "    <tr>\n",
       "      <th>3</th>\n",
       "      <td>승진</td>\n",
       "      <td>온라인강의</td>\n",
       "      <td>뉴스/이슈 기반 교재</td>\n",
       "      <td>주3-4회</td>\n",
       "      <td>알고 있음</td>\n",
       "    </tr>\n",
       "    <tr>\n",
       "      <th>4</th>\n",
       "      <td>자기계발</td>\n",
       "      <td>온라인강의</td>\n",
       "      <td>영상 교재</td>\n",
       "      <td>주3-4회</td>\n",
       "      <td>알고 있음</td>\n",
       "    </tr>\n",
       "    <tr>\n",
       "      <th>...</th>\n",
       "      <td>...</td>\n",
       "      <td>...</td>\n",
       "      <td>...</td>\n",
       "      <td>...</td>\n",
       "      <td>...</td>\n",
       "    </tr>\n",
       "    <tr>\n",
       "      <th>497</th>\n",
       "      <td>자기계발</td>\n",
       "      <td>온라인강의</td>\n",
       "      <td>일반적인 영어 텍스트 기반 교재</td>\n",
       "      <td>매일(주 7회)</td>\n",
       "      <td>알고 있음</td>\n",
       "    </tr>\n",
       "    <tr>\n",
       "      <th>498</th>\n",
       "      <td>승진</td>\n",
       "      <td>온라인강의</td>\n",
       "      <td>비즈니스 시뮬레이션(Role Play)</td>\n",
       "      <td>매일(주 7회)</td>\n",
       "      <td>알고 있음</td>\n",
       "    </tr>\n",
       "    <tr>\n",
       "      <th>499</th>\n",
       "      <td>자기계발</td>\n",
       "      <td>오프라인강의</td>\n",
       "      <td>일반적인 영어 텍스트 기반 교재</td>\n",
       "      <td>주1-2회</td>\n",
       "      <td>알고 있음</td>\n",
       "    </tr>\n",
       "    <tr>\n",
       "      <th>500</th>\n",
       "      <td>자기계발</td>\n",
       "      <td>오프라인강의</td>\n",
       "      <td>비즈니스 시뮬레이션(Role Play)</td>\n",
       "      <td>주3-4회</td>\n",
       "      <td>알고 있음</td>\n",
       "    </tr>\n",
       "    <tr>\n",
       "      <th>501</th>\n",
       "      <td>승진</td>\n",
       "      <td>오프라인강의</td>\n",
       "      <td>비즈니스 시뮬레이션(Role Play)</td>\n",
       "      <td>주5-6회</td>\n",
       "      <td>알고 있음</td>\n",
       "    </tr>\n",
       "  </tbody>\n",
       "</table>\n",
       "<p>502 rows × 5 columns</p>\n",
       "</div>"
      ],
      "text/plain": [
       "     학습목표    학습방법            강의 학습 교재 유형      학습빈도 취약분야 인지 여부\n",
       "0      승진   온라인강의                  영상 교재     주5-6회      알고 있음\n",
       "1      승진   온라인강의            뉴스/이슈 기반 교재     주5-6회      알고 있음\n",
       "2    자기계발     참고서      일반적인 영어 텍스트 기반 교재     주1-2회      알고 있음\n",
       "3      승진   온라인강의            뉴스/이슈 기반 교재     주3-4회      알고 있음\n",
       "4    자기계발   온라인강의                  영상 교재     주3-4회      알고 있음\n",
       "..    ...     ...                    ...       ...        ...\n",
       "497  자기계발   온라인강의      일반적인 영어 텍스트 기반 교재  매일(주 7회)      알고 있음\n",
       "498    승진   온라인강의  비즈니스 시뮬레이션(Role Play)  매일(주 7회)      알고 있음\n",
       "499  자기계발  오프라인강의      일반적인 영어 텍스트 기반 교재     주1-2회      알고 있음\n",
       "500  자기계발  오프라인강의  비즈니스 시뮬레이션(Role Play)     주3-4회      알고 있음\n",
       "501    승진  오프라인강의  비즈니스 시뮬레이션(Role Play)     주5-6회      알고 있음\n",
       "\n",
       "[502 rows x 5 columns]"
      ]
     },
     "execution_count": 408,
     "metadata": {},
     "output_type": "execute_result"
    }
   ],
   "source": [
    "data.select_dtypes(\"O\")"
   ]
  },
  {
   "cell_type": "markdown",
   "id": "7eebdac2-b771-47d8-824c-5733924e328a",
   "metadata": {},
   "source": [
    "### (2)-8. 데이터 타입이 Object 형태인 컬럼의 컬럼명만 추출해서 출력"
   ]
  },
  {
   "cell_type": "code",
   "execution_count": 416,
   "id": "2a10789a-4743-481e-997a-2416a0fa4944",
   "metadata": {
    "tags": []
   },
   "outputs": [
    {
     "data": {
      "text/plain": [
       "array(['학습목표', '학습방법', '강의 학습 교재 유형', '학습빈도', '취약분야 인지 여부'], dtype=object)"
      ]
     },
     "execution_count": 416,
     "metadata": {},
     "output_type": "execute_result"
    }
   ],
   "source": [
    "data.select_dtypes(\"O\").columns.values"
   ]
  },
  {
   "cell_type": "markdown",
   "id": "c3cc6303-2de1-43f4-9ed0-d0a55d0b8ccc",
   "metadata": {},
   "source": [
    "### (2)-9. `학습목표의` 값들의 빈도수를 계산하여 출력"
   ]
  },
  {
   "cell_type": "code",
   "execution_count": 425,
   "id": "7689a5b3-84c3-4476-b5aa-7841661d6726",
   "metadata": {
    "tags": []
   },
   "outputs": [
    {
     "data": {
      "text/html": [
       "<div>\n",
       "<style scoped>\n",
       "    .dataframe tbody tr th:only-of-type {\n",
       "        vertical-align: middle;\n",
       "    }\n",
       "\n",
       "    .dataframe tbody tr th {\n",
       "        vertical-align: top;\n",
       "    }\n",
       "\n",
       "    .dataframe thead th {\n",
       "        text-align: right;\n",
       "    }\n",
       "</style>\n",
       "<table border=\"1\" class=\"dataframe\">\n",
       "  <thead>\n",
       "    <tr style=\"text-align: right;\">\n",
       "      <th></th>\n",
       "      <th>학습목표</th>\n",
       "      <th>count</th>\n",
       "    </tr>\n",
       "  </thead>\n",
       "  <tbody>\n",
       "    <tr>\n",
       "      <th>0</th>\n",
       "      <td>자기계발</td>\n",
       "      <td>331</td>\n",
       "    </tr>\n",
       "    <tr>\n",
       "      <th>1</th>\n",
       "      <td>승진</td>\n",
       "      <td>155</td>\n",
       "    </tr>\n",
       "    <tr>\n",
       "      <th>2</th>\n",
       "      <td>취업</td>\n",
       "      <td>16</td>\n",
       "    </tr>\n",
       "  </tbody>\n",
       "</table>\n",
       "</div>"
      ],
      "text/plain": [
       "   학습목표  count\n",
       "0  자기계발    331\n",
       "1    승진    155\n",
       "2    취업     16"
      ]
     },
     "execution_count": 425,
     "metadata": {},
     "output_type": "execute_result"
    }
   ],
   "source": [
    "data.select_dtypes(\"O\")[[\"학습목표\"]].value_counts().reset_index()"
   ]
  },
  {
   "cell_type": "markdown",
   "id": "6193d178-e648-4d32-a8f8-93fd38f99ceb",
   "metadata": {},
   "source": [
    "### (2)-10. `data` 데이터 프레임의 전체 열과 행 개수를 출력"
   ]
  },
  {
   "cell_type": "code",
   "execution_count": 427,
   "id": "f61569ea-cd6c-466b-a230-d6c36bc23aed",
   "metadata": {
    "tags": []
   },
   "outputs": [],
   "source": [
    "r,c = data.shape"
   ]
  },
  {
   "cell_type": "code",
   "execution_count": 428,
   "id": "aaa8b9ca-9951-45fd-ac9d-727b452fffc3",
   "metadata": {
    "tags": []
   },
   "outputs": [
    {
     "name": "stdout",
     "output_type": "stream",
     "text": [
      "전체 행의 수 : 502, 전체 열의 수 : 21\n"
     ]
    }
   ],
   "source": [
    "print(f\"전체 행의 수 : {r}, 전체 열의 수 : {c}\")"
   ]
  },
  {
   "cell_type": "markdown",
   "id": "82211323-e2c1-4e34-b723-60fae7216f01",
   "metadata": {},
   "source": [
    "### (2)-10. 변수 '학습목표'의 값들의 빈도수를 전체 데이터의 개수로 나누어서 해당 값들이 전체 데이터에서 차지하는 비율을 구하기"
   ]
  },
  {
   "cell_type": "code",
   "execution_count": 441,
   "id": "91dcd412-39a9-4752-b00d-2c484a11236e",
   "metadata": {
    "tags": []
   },
   "outputs": [],
   "source": [
    "temp = data.select_dtypes(\"O\")[[\"학습목표\"]].value_counts().reset_index()"
   ]
  },
  {
   "cell_type": "code",
   "execution_count": 444,
   "id": "71150e54-ac1c-4507-ae92-9e3dfe814375",
   "metadata": {
    "tags": []
   },
   "outputs": [],
   "source": [
    "temp[\"비율(%)\"] = round(temp[\"count\"]/r*100,2)"
   ]
  },
  {
   "cell_type": "code",
   "execution_count": 446,
   "id": "6c4f7cab-966b-44ce-b147-e3ebd340b2d3",
   "metadata": {
    "tags": []
   },
   "outputs": [
    {
     "data": {
      "text/html": [
       "<div>\n",
       "<style scoped>\n",
       "    .dataframe tbody tr th:only-of-type {\n",
       "        vertical-align: middle;\n",
       "    }\n",
       "\n",
       "    .dataframe tbody tr th {\n",
       "        vertical-align: top;\n",
       "    }\n",
       "\n",
       "    .dataframe thead th {\n",
       "        text-align: right;\n",
       "    }\n",
       "</style>\n",
       "<table border=\"1\" class=\"dataframe\">\n",
       "  <thead>\n",
       "    <tr style=\"text-align: right;\">\n",
       "      <th></th>\n",
       "      <th>학습목표</th>\n",
       "      <th>count</th>\n",
       "      <th>비율(%)</th>\n",
       "    </tr>\n",
       "  </thead>\n",
       "  <tbody>\n",
       "    <tr>\n",
       "      <th>0</th>\n",
       "      <td>자기계발</td>\n",
       "      <td>331</td>\n",
       "      <td>65.94</td>\n",
       "    </tr>\n",
       "    <tr>\n",
       "      <th>1</th>\n",
       "      <td>승진</td>\n",
       "      <td>155</td>\n",
       "      <td>30.88</td>\n",
       "    </tr>\n",
       "    <tr>\n",
       "      <th>2</th>\n",
       "      <td>취업</td>\n",
       "      <td>16</td>\n",
       "      <td>3.19</td>\n",
       "    </tr>\n",
       "  </tbody>\n",
       "</table>\n",
       "</div>"
      ],
      "text/plain": [
       "   학습목표  count  비율(%)\n",
       "0  자기계발    331  65.94\n",
       "1    승진    155  30.88\n",
       "2    취업     16   3.19"
      ]
     },
     "execution_count": 446,
     "metadata": {},
     "output_type": "execute_result"
    }
   ],
   "source": [
    "temp"
   ]
  },
  {
   "cell_type": "markdown",
   "id": "539f4037-6a8b-48c1-9a9d-7ff88617e22f",
   "metadata": {},
   "source": [
    "### (2)-11. `학습목표` 열에 대한 Bar 차트를 확인"
   ]
  },
  {
   "cell_type": "code",
   "execution_count": 448,
   "id": "77ad56fa-b9df-4f25-8e2b-a1cdbddb7e44",
   "metadata": {
    "tags": []
   },
   "outputs": [
    {
     "data": {
      "text/plain": [
       "<Axes: title={'center': '토익 학습 목표 비율'}, xlabel='학습목표'>"
      ]
     },
     "execution_count": 448,
     "metadata": {},
     "output_type": "execute_result"
    },
    {
     "data": {
      "image/png": "[encoded data removed]",
      "text/plain": [
       "<Figure size 640x480 with 1 Axes>"
      ]
     },
     "metadata": {},
     "output_type": "display_data"
    }
   ],
   "source": [
    "temp.plot(kind= \"bar\", x= \"학습목표\",y=\"비율(%)\", title =\"토익 학습 목표 비율\")"
   ]
  },
  {
   "cell_type": "markdown",
   "id": "760f771e-34cc-43c0-86b1-3153b30b3b9d",
   "metadata": {},
   "source": [
    "### (2)-12. `data` 데이터 프레임에서 숫자형 컬럼에 대하여 검색"
   ]
  },
  {
   "cell_type": "code",
   "execution_count": 452,
   "id": "720e27ce-2b53-4505-a12c-646607c7f4ce",
   "metadata": {
    "tags": []
   },
   "outputs": [],
   "source": [
    "#data.info()"
   ]
  },
  {
   "cell_type": "code",
   "execution_count": 451,
   "id": "d9e5e7c2-6d2d-4593-9912-cb24e7f3e2d6",
   "metadata": {
    "tags": []
   },
   "outputs": [
    {
     "data": {
      "text/html": [
       "<div>\n",
       "<style scoped>\n",
       "    .dataframe tbody tr th:only-of-type {\n",
       "        vertical-align: middle;\n",
       "    }\n",
       "\n",
       "    .dataframe tbody tr th {\n",
       "        vertical-align: top;\n",
       "    }\n",
       "\n",
       "    .dataframe thead th {\n",
       "        text-align: right;\n",
       "    }\n",
       "</style>\n",
       "<table border=\"1\" class=\"dataframe\">\n",
       "  <thead>\n",
       "    <tr style=\"text-align: right;\">\n",
       "      <th></th>\n",
       "      <th>ID</th>\n",
       "      <th>Gender</th>\n",
       "      <th>Birth_Year</th>\n",
       "      <th>Seq</th>\n",
       "      <th>3st_LC_SCcore</th>\n",
       "      <th>3st_RC_SCcore</th>\n",
       "      <th>3st_Total_SCcore</th>\n",
       "      <th>기출문제 공부 횟수</th>\n",
       "      <th>토익 모의테스트 횟수</th>\n",
       "      <th>1st_LC_SCcore</th>\n",
       "      <th>1st_RC_SCcore</th>\n",
       "      <th>1st_Total_SCcore</th>\n",
       "      <th>2st_LC_SCcore</th>\n",
       "      <th>2st_RC_SCcore</th>\n",
       "      <th>2st_Total_SCcore</th>\n",
       "      <th>Score_diff_total</th>\n",
       "    </tr>\n",
       "  </thead>\n",
       "  <tbody>\n",
       "    <tr>\n",
       "      <th>0</th>\n",
       "      <td>1</td>\n",
       "      <td>1</td>\n",
       "      <td>1973</td>\n",
       "      <td>3</td>\n",
       "      <td>345</td>\n",
       "      <td>336</td>\n",
       "      <td>681</td>\n",
       "      <td>7.0</td>\n",
       "      <td>10</td>\n",
       "      <td>181</td>\n",
       "      <td>173</td>\n",
       "      <td>354</td>\n",
       "      <td>227</td>\n",
       "      <td>213</td>\n",
       "      <td>440</td>\n",
       "      <td>241</td>\n",
       "    </tr>\n",
       "    <tr>\n",
       "      <th>1</th>\n",
       "      <td>2</td>\n",
       "      <td>2</td>\n",
       "      <td>1982</td>\n",
       "      <td>3</td>\n",
       "      <td>380</td>\n",
       "      <td>368</td>\n",
       "      <td>748</td>\n",
       "      <td>4.0</td>\n",
       "      <td>14</td>\n",
       "      <td>330</td>\n",
       "      <td>290</td>\n",
       "      <td>620</td>\n",
       "      <td>354</td>\n",
       "      <td>339</td>\n",
       "      <td>693</td>\n",
       "      <td>55</td>\n",
       "    </tr>\n",
       "    <tr>\n",
       "      <th>2</th>\n",
       "      <td>3</td>\n",
       "      <td>2</td>\n",
       "      <td>1995</td>\n",
       "      <td>3</td>\n",
       "      <td>416</td>\n",
       "      <td>382</td>\n",
       "      <td>798</td>\n",
       "      <td>4.0</td>\n",
       "      <td>4</td>\n",
       "      <td>367</td>\n",
       "      <td>309</td>\n",
       "      <td>676</td>\n",
       "      <td>396</td>\n",
       "      <td>365</td>\n",
       "      <td>761</td>\n",
       "      <td>37</td>\n",
       "    </tr>\n",
       "    <tr>\n",
       "      <th>3</th>\n",
       "      <td>4</td>\n",
       "      <td>1</td>\n",
       "      <td>1987</td>\n",
       "      <td>3</td>\n",
       "      <td>495</td>\n",
       "      <td>397</td>\n",
       "      <td>892</td>\n",
       "      <td>9.0</td>\n",
       "      <td>8</td>\n",
       "      <td>470</td>\n",
       "      <td>285</td>\n",
       "      <td>755</td>\n",
       "      <td>495</td>\n",
       "      <td>341</td>\n",
       "      <td>836</td>\n",
       "      <td>56</td>\n",
       "    </tr>\n",
       "    <tr>\n",
       "      <th>4</th>\n",
       "      <td>5</td>\n",
       "      <td>1</td>\n",
       "      <td>1994</td>\n",
       "      <td>3</td>\n",
       "      <td>398</td>\n",
       "      <td>437</td>\n",
       "      <td>835</td>\n",
       "      <td>6.0</td>\n",
       "      <td>4</td>\n",
       "      <td>273</td>\n",
       "      <td>372</td>\n",
       "      <td>645</td>\n",
       "      <td>314</td>\n",
       "      <td>426</td>\n",
       "      <td>740</td>\n",
       "      <td>95</td>\n",
       "    </tr>\n",
       "    <tr>\n",
       "      <th>...</th>\n",
       "      <td>...</td>\n",
       "      <td>...</td>\n",
       "      <td>...</td>\n",
       "      <td>...</td>\n",
       "      <td>...</td>\n",
       "      <td>...</td>\n",
       "      <td>...</td>\n",
       "      <td>...</td>\n",
       "      <td>...</td>\n",
       "      <td>...</td>\n",
       "      <td>...</td>\n",
       "      <td>...</td>\n",
       "      <td>...</td>\n",
       "      <td>...</td>\n",
       "      <td>...</td>\n",
       "      <td>...</td>\n",
       "    </tr>\n",
       "    <tr>\n",
       "      <th>497</th>\n",
       "      <td>496</td>\n",
       "      <td>1</td>\n",
       "      <td>2006</td>\n",
       "      <td>3</td>\n",
       "      <td>364</td>\n",
       "      <td>336</td>\n",
       "      <td>700</td>\n",
       "      <td>10.0</td>\n",
       "      <td>13</td>\n",
       "      <td>347</td>\n",
       "      <td>315</td>\n",
       "      <td>662</td>\n",
       "      <td>349</td>\n",
       "      <td>321</td>\n",
       "      <td>670</td>\n",
       "      <td>30</td>\n",
       "    </tr>\n",
       "    <tr>\n",
       "      <th>498</th>\n",
       "      <td>497</td>\n",
       "      <td>2</td>\n",
       "      <td>1988</td>\n",
       "      <td>3</td>\n",
       "      <td>187</td>\n",
       "      <td>252</td>\n",
       "      <td>439</td>\n",
       "      <td>9.0</td>\n",
       "      <td>17</td>\n",
       "      <td>112</td>\n",
       "      <td>250</td>\n",
       "      <td>362</td>\n",
       "      <td>120</td>\n",
       "      <td>251</td>\n",
       "      <td>371</td>\n",
       "      <td>68</td>\n",
       "    </tr>\n",
       "    <tr>\n",
       "      <th>499</th>\n",
       "      <td>498</td>\n",
       "      <td>1</td>\n",
       "      <td>2006</td>\n",
       "      <td>3</td>\n",
       "      <td>255</td>\n",
       "      <td>167</td>\n",
       "      <td>422</td>\n",
       "      <td>0.0</td>\n",
       "      <td>4</td>\n",
       "      <td>252</td>\n",
       "      <td>150</td>\n",
       "      <td>402</td>\n",
       "      <td>254</td>\n",
       "      <td>158</td>\n",
       "      <td>412</td>\n",
       "      <td>10</td>\n",
       "    </tr>\n",
       "    <tr>\n",
       "      <th>500</th>\n",
       "      <td>499</td>\n",
       "      <td>2</td>\n",
       "      <td>1990</td>\n",
       "      <td>3</td>\n",
       "      <td>422</td>\n",
       "      <td>370</td>\n",
       "      <td>792</td>\n",
       "      <td>4.0</td>\n",
       "      <td>7</td>\n",
       "      <td>371</td>\n",
       "      <td>324</td>\n",
       "      <td>695</td>\n",
       "      <td>378</td>\n",
       "      <td>326</td>\n",
       "      <td>704</td>\n",
       "      <td>88</td>\n",
       "    </tr>\n",
       "    <tr>\n",
       "      <th>501</th>\n",
       "      <td>500</td>\n",
       "      <td>1</td>\n",
       "      <td>1984</td>\n",
       "      <td>3</td>\n",
       "      <td>235</td>\n",
       "      <td>226</td>\n",
       "      <td>461</td>\n",
       "      <td>7.0</td>\n",
       "      <td>15</td>\n",
       "      <td>169</td>\n",
       "      <td>188</td>\n",
       "      <td>357</td>\n",
       "      <td>172</td>\n",
       "      <td>190</td>\n",
       "      <td>362</td>\n",
       "      <td>99</td>\n",
       "    </tr>\n",
       "  </tbody>\n",
       "</table>\n",
       "<p>502 rows × 16 columns</p>\n",
       "</div>"
      ],
      "text/plain": [
       "      ID  Gender  Birth_Year  Seq  3st_LC_SCcore  3st_RC_SCcore  \\\n",
       "0      1       1        1973    3            345            336   \n",
       "1      2       2        1982    3            380            368   \n",
       "2      3       2        1995    3            416            382   \n",
       "3      4       1        1987    3            495            397   \n",
       "4      5       1        1994    3            398            437   \n",
       "..   ...     ...         ...  ...            ...            ...   \n",
       "497  496       1        2006    3            364            336   \n",
       "498  497       2        1988    3            187            252   \n",
       "499  498       1        2006    3            255            167   \n",
       "500  499       2        1990    3            422            370   \n",
       "501  500       1        1984    3            235            226   \n",
       "\n",
       "     3st_Total_SCcore  기출문제 공부 횟수  토익 모의테스트 횟수  1st_LC_SCcore  1st_RC_SCcore  \\\n",
       "0                 681         7.0           10            181            173   \n",
       "1                 748         4.0           14            330            290   \n",
       "2                 798         4.0            4            367            309   \n",
       "3                 892         9.0            8            470            285   \n",
       "4                 835         6.0            4            273            372   \n",
       "..                ...         ...          ...            ...            ...   \n",
       "497               700        10.0           13            347            315   \n",
       "498               439         9.0           17            112            250   \n",
       "499               422         0.0            4            252            150   \n",
       "500               792         4.0            7            371            324   \n",
       "501               461         7.0           15            169            188   \n",
       "\n",
       "     1st_Total_SCcore  2st_LC_SCcore  2st_RC_SCcore  2st_Total_SCcore  \\\n",
       "0                 354            227            213               440   \n",
       "1                 620            354            339               693   \n",
       "2                 676            396            365               761   \n",
       "3                 755            495            341               836   \n",
       "4                 645            314            426               740   \n",
       "..                ...            ...            ...               ...   \n",
       "497               662            349            321               670   \n",
       "498               362            120            251               371   \n",
       "499               402            254            158               412   \n",
       "500               695            378            326               704   \n",
       "501               357            172            190               362   \n",
       "\n",
       "     Score_diff_total  \n",
       "0                 241  \n",
       "1                  55  \n",
       "2                  37  \n",
       "3                  56  \n",
       "4                  95  \n",
       "..                ...  \n",
       "497                30  \n",
       "498                68  \n",
       "499                10  \n",
       "500                88  \n",
       "501                99  \n",
       "\n",
       "[502 rows x 16 columns]"
      ]
     },
     "execution_count": 451,
     "metadata": {},
     "output_type": "execute_result"
    }
   ],
   "source": [
    "data.select_dtypes(include= [\"float64\", \"int64\"])"
   ]
  },
  {
   "cell_type": "markdown",
   "id": "c5a00bb9-a7c7-4a1c-bebd-43826b13fcaf",
   "metadata": {},
   "source": [
    "### (2)-13. 변수 '강의 학습 교재 유형'의 값들의 빈도수, 비율을 계산해서 출력"
   ]
  },
  {
   "cell_type": "code",
   "execution_count": 462,
   "id": "096b5922-eafc-4af0-b747-07d263140c24",
   "metadata": {
    "tags": []
   },
   "outputs": [],
   "source": [
    "temp2 = data[[\"강의 학습 교재 유형\"]].value_counts().reset_index()"
   ]
  },
  {
   "cell_type": "code",
   "execution_count": 463,
   "id": "5f3f874c-9c69-4990-8d11-7732e27d565a",
   "metadata": {
    "tags": []
   },
   "outputs": [],
   "source": [
    "temp2[\"비율(%)\"] = temp2[\"count\"]/r"
   ]
  },
  {
   "cell_type": "code",
   "execution_count": 464,
   "id": "b771c5a4-b8f8-4188-a58a-1e27cf8fa179",
   "metadata": {
    "tags": []
   },
   "outputs": [
    {
     "data": {
      "text/html": [
       "<div>\n",
       "<style scoped>\n",
       "    .dataframe tbody tr th:only-of-type {\n",
       "        vertical-align: middle;\n",
       "    }\n",
       "\n",
       "    .dataframe tbody tr th {\n",
       "        vertical-align: top;\n",
       "    }\n",
       "\n",
       "    .dataframe thead th {\n",
       "        text-align: right;\n",
       "    }\n",
       "</style>\n",
       "<table border=\"1\" class=\"dataframe\">\n",
       "  <thead>\n",
       "    <tr style=\"text-align: right;\">\n",
       "      <th></th>\n",
       "      <th>강의 학습 교재 유형</th>\n",
       "      <th>count</th>\n",
       "      <th>비율(%)</th>\n",
       "    </tr>\n",
       "  </thead>\n",
       "  <tbody>\n",
       "    <tr>\n",
       "      <th>0</th>\n",
       "      <td>일반적인 영어 텍스트 기반 교재</td>\n",
       "      <td>137</td>\n",
       "      <td>0.272908</td>\n",
       "    </tr>\n",
       "    <tr>\n",
       "      <th>1</th>\n",
       "      <td>영상 교재</td>\n",
       "      <td>129</td>\n",
       "      <td>0.256972</td>\n",
       "    </tr>\n",
       "    <tr>\n",
       "      <th>2</th>\n",
       "      <td>뉴스/이슈 기반 교재</td>\n",
       "      <td>122</td>\n",
       "      <td>0.243028</td>\n",
       "    </tr>\n",
       "    <tr>\n",
       "      <th>3</th>\n",
       "      <td>비즈니스 시뮬레이션(Role Play)</td>\n",
       "      <td>114</td>\n",
       "      <td>0.227092</td>\n",
       "    </tr>\n",
       "  </tbody>\n",
       "</table>\n",
       "</div>"
      ],
      "text/plain": [
       "             강의 학습 교재 유형  count     비율(%)\n",
       "0      일반적인 영어 텍스트 기반 교재    137  0.272908\n",
       "1                  영상 교재    129  0.256972\n",
       "2            뉴스/이슈 기반 교재    122  0.243028\n",
       "3  비즈니스 시뮬레이션(Role Play)    114  0.227092"
      ]
     },
     "execution_count": 464,
     "metadata": {},
     "output_type": "execute_result"
    }
   ],
   "source": [
    "temp2"
   ]
  },
  {
   "cell_type": "markdown",
   "id": "03d4f384-df23-46e1-be90-ba5ff53aff55",
   "metadata": {
    "tags": []
   },
   "source": [
    "### (2)-14. `취약분야 인지 여부`  문자열의 값을 `알고 있음`은 `1`, `알고 있지 않음`은 `0`으로 변경"
   ]
  },
  {
   "cell_type": "code",
   "execution_count": 469,
   "id": "9459ae4c-8678-4dda-9f89-207f3603727c",
   "metadata": {
    "tags": []
   },
   "outputs": [
    {
     "data": {
      "text/plain": [
       "array(['1', '0'], dtype=object)"
      ]
     },
     "execution_count": 469,
     "metadata": {},
     "output_type": "execute_result"
    }
   ],
   "source": [
    "data[\"취약분야 인지 여부\"].replace(\"알고 있음\",\"1\").replace(\"알고 있지 않음\",\"0\").unique()"
   ]
  },
  {
   "cell_type": "code",
   "execution_count": 470,
   "id": "fbea7b98-de02-45cf-b4cd-fc4dfd1a7981",
   "metadata": {
    "tags": []
   },
   "outputs": [],
   "source": [
    "data[\"취약분야 인지 여부\"] = data[\"취약분야 인지 여부\"].replace(\"알고 있음\",\"1\").replace(\"알고 있지 않음\",\"0\")"
   ]
  },
  {
   "cell_type": "markdown",
   "id": "0b11c6ad-d173-426a-98fa-cf4605824de5",
   "metadata": {},
   "source": [
    "***"
   ]
  },
  {
   "cell_type": "markdown",
   "id": "48b8239d-4a10-47a0-91e2-f77e739cdb2a",
   "metadata": {},
   "source": [
    "## 3. 데이터 저장"
   ]
  },
  {
   "cell_type": "code",
   "execution_count": 471,
   "id": "f033c84b-2772-4dab-a0de-72124fc60ab0",
   "metadata": {
    "tags": []
   },
   "outputs": [],
   "source": [
    "data.to_csv(\"data04_featured.csv\",index=False)"
   ]
  },
  {
   "cell_type": "code",
   "execution_count": 473,
   "id": "10efd967-2a6d-4b44-8c5f-beea8ae11051",
   "metadata": {
    "tags": []
   },
   "outputs": [
    {
     "name": "stdout",
     "output_type": "stream",
     "text": [
      "<class 'pandas.core.frame.DataFrame'>\n",
      "RangeIndex: 502 entries, 0 to 501\n",
      "Data columns (total 21 columns):\n",
      " #   Column            Non-Null Count  Dtype  \n",
      "---  ------            --------------  -----  \n",
      " 0   ID                502 non-null    int64  \n",
      " 1   Gender            502 non-null    int64  \n",
      " 2   Birth_Year        502 non-null    int64  \n",
      " 3   Seq               502 non-null    int64  \n",
      " 4   3st_LC_SCcore     502 non-null    int64  \n",
      " 5   3st_RC_SCcore     502 non-null    int64  \n",
      " 6   3st_Total_SCcore  502 non-null    int64  \n",
      " 7   학습목표              502 non-null    object \n",
      " 8   학습방법              502 non-null    object \n",
      " 9   강의 학습 교재 유형       502 non-null    object \n",
      " 10  학습빈도              502 non-null    object \n",
      " 11  기출문제 공부 횟수        502 non-null    float64\n",
      " 12  취약분야 인지 여부        502 non-null    int64  \n",
      " 13  토익 모의테스트 횟수       502 non-null    int64  \n",
      " 14  1st_LC_SCcore     502 non-null    int64  \n",
      " 15  1st_RC_SCcore     502 non-null    int64  \n",
      " 16  1st_Total_SCcore  502 non-null    int64  \n",
      " 17  2st_LC_SCcore     502 non-null    int64  \n",
      " 18  2st_RC_SCcore     502 non-null    int64  \n",
      " 19  2st_Total_SCcore  502 non-null    int64  \n",
      " 20  Score_diff_total  502 non-null    int64  \n",
      "dtypes: float64(1), int64(16), object(4)\n",
      "memory usage: 82.5+ KB\n"
     ]
    }
   ],
   "source": [
    "pd.read_csv(\"data04_featured.csv\").info()"
   ]
  }
 ],
 "metadata": {
  "kernelspec": {
   "display_name": "Python 3 (ipykernel)",
   "language": "python",
   "name": "python3"
  },
  "language_info": {
   "codemirror_mode": {
    "name": "ipython",
    "version": 3
   },
   "file_extension": ".py",
   "mimetype": "text/x-python",
   "name": "python",
   "nbconvert_exporter": "python",
   "pygments_lexer": "ipython3",
   "version": "3.11.4"
  }
 },
 "nbformat": 4,
 "nbformat_minor": 5
}
