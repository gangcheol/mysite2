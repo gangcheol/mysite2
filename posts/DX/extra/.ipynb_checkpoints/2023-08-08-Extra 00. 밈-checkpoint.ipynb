{
 "cells": [
  {
   "cell_type": "raw",
   "id": "43bd310d-02a5-42d3-b40a-37754117d02e",
   "metadata": {},
   "source": [
    "---\n",
    "title : \"Extra 00. 밈\"\n",
    "date : \"08/08/23\"\n",
    "author : \"GC\"\n",
    "categories : [extra, class]\n",
    "---"
   ]
  },
  {
   "cell_type": "markdown",
   "id": "b6ba61be-3493-492f-80be-c52639f0cb96",
   "metadata": {},
   "source": [
    "# 클래스 정의"
   ]
  },
  {
   "cell_type": "markdown",
   "id": "da6fd3de-ac48-4217-8f84-1ae141490b8d",
   "metadata": {},
   "source": [
    "`-` 점프투파이썬 : 클래스는 과자틀과 비슷하다. 클래스란 똑같은 무엇인가를 계속 만들어 낼 수도 잇는 설계도면이고 객체란 클래스로 만든 피조물을 뜻한다."
   ]
  },
  {
   "cell_type": "markdown",
   "id": "d5001552-0ce2-4b77-907a-2c365ab33eac",
   "metadata": {},
   "source": [
    "`-` 위키피디아 : 객체지향 프로그래밍에서 클래스는 상태(멤버 변수) 및 동작 구현(멤버 함수 또는 메서드)에 대한 초기값을 제공하는 객체 생성을 위한 확장 가능한 프로그램 코드 템플릿이다."
   ]
  },
  {
   "cell_type": "markdown",
   "id": "25cbc6e0-bef0-42e2-9fde-2ee66bd5ebde",
   "metadata": {},
   "source": [
    "`-` TCP 스쿨 : 클래스란 객체를 정의하는 틀 또는 설계도와 같은 의미로 사용"
   ]
  },
  {
   "cell_type": "markdown",
   "id": "b7f9e409-d678-42b9-901d-c2879004725d",
   "metadata": {},
   "source": [
    "`-` **교수님 생각** : 클래스는 복제, 변형, 재생산을 용이하게 하기 위해 만들어진 확장가능한 프로그램이 코드 단위(**extensible program-code-template**)이다."
   ]
  },
  {
   "cell_type": "markdown",
   "id": "95baea67-7822-4ea0-a619-1691f4990782",
   "metadata": {},
   "source": [
    "***"
   ]
  },
  {
   "cell_type": "code",
   "execution_count": 1,
   "id": "b3181b25-6eae-48df-b44c-5951ec76700c",
   "metadata": {},
   "outputs": [],
   "source": [
    "from IPython.core.display import HTML"
   ]
  },
  {
   "cell_type": "markdown",
   "id": "18f4607c-c3b6-4fb3-a7c3-f221b40250a2",
   "metadata": {},
   "source": [
    "# 예비학습"
   ]
  },
  {
   "cell_type": "markdown",
   "id": "3b693665-81b2-4a87-8650-329cf1e8d35a",
   "metadata": {},
   "source": [
    "## $\\sum_{i=1}^{5} a^{i} \\quad a=0.5$"
   ]
  },
  {
   "cell_type": "markdown",
   "id": "a234df6a-6018-4e08-bf0f-cb70607c9861",
   "metadata": {},
   "source": [
    "`-` 방법1"
   ]
  },
  {
   "cell_type": "code",
   "execution_count": 3,
   "id": "2e6aedf3-e22f-4466-aa07-4de2119a3878",
   "metadata": {},
   "outputs": [],
   "source": [
    "a = 0.5"
   ]
  },
  {
   "cell_type": "code",
   "execution_count": 4,
   "id": "3719a894-4a1a-4a88-8d7d-65cac996b1d7",
   "metadata": {},
   "outputs": [
    {
     "data": {
      "text/plain": [
       "0.96875"
      ]
     },
     "execution_count": 4,
     "metadata": {},
     "output_type": "execute_result"
    }
   ],
   "source": [
    "a + a**2 + a**3 + a**4 +a**5"
   ]
  },
  {
   "cell_type": "markdown",
   "id": "5a2f001f-930b-4d94-9889-974e5155be3e",
   "metadata": {},
   "source": [
    "`-` 방법2"
   ]
  },
  {
   "cell_type": "code",
   "execution_count": 6,
   "id": "97fd5d37-cb17-4cd8-ad0b-acb4537e8d85",
   "metadata": {},
   "outputs": [
    {
     "data": {
      "text/plain": [
       "0.96875"
      ]
     },
     "execution_count": 6,
     "metadata": {},
     "output_type": "execute_result"
    }
   ],
   "source": [
    "a + \\\n",
    "a**2 \\\n",
    "+ a**3 \\\n",
    "+ a**4\\\n",
    "+a**5"
   ]
  },
  {
   "cell_type": "markdown",
   "id": "0727e261-db1f-47a5-99f1-774c9ad78dc6",
   "metadata": {},
   "source": [
    "### ```으로 선언하는 문자열"
   ]
  },
  {
   "cell_type": "markdown",
   "id": "e92cb686-a8c5-4098-99e4-3205af88ce00",
   "metadata": {},
   "source": [
    "`-` 에시 1"
   ]
  },
  {
   "cell_type": "code",
   "execution_count": 7,
   "id": "45bb9a6a-ebaf-4275-910f-158462fcbb93",
   "metadata": {},
   "outputs": [
    {
     "name": "stdout",
     "output_type": "stream",
     "text": [
      "\n",
      "1. asdf\n",
      "2. sdfa\n",
      "3. dfas\n",
      "4. fasd\n",
      "\n"
     ]
    }
   ],
   "source": [
    "string = '\\n1. asdf\\n2. sdfa\\n3. dfas\\n4. fasd\\n'\n",
    "print(string)"
   ]
  },
  {
   "cell_type": "code",
   "execution_count": 8,
   "id": "1160da76-25d7-4b1b-b1ef-c5c19bd958ff",
   "metadata": {},
   "outputs": [
    {
     "name": "stdout",
     "output_type": "stream",
     "text": [
      "\n",
      "1. asdf\n",
      "2. sdfa\n",
      "3. dfas\n",
      "4. fasd\n",
      "\n"
     ]
    }
   ],
   "source": [
    "string = \\\n",
    "'''\n",
    "1. asdf\n",
    "2. sdfa\n",
    "3. dfas\n",
    "4. fasd\n",
    "'''\n",
    "print(string)"
   ]
  },
  {
   "cell_type": "markdown",
   "id": "73d75e2b-5b88-4d12-a349-aa947f617126",
   "metadata": {},
   "source": [
    "`-` 예시 2"
   ]
  },
  {
   "cell_type": "code",
   "execution_count": 11,
   "id": "9f7eb5f9-cb8b-4962-9980-261aa2382a45",
   "metadata": {},
   "outputs": [],
   "source": [
    "string = \\\n",
    "'''\n",
    "1. asdf\n",
    "2. sdfa\n",
    "3. dfas\n",
    "4. fasd\n",
    "5. {}\n",
    "6. {}\n",
    "'''"
   ]
  },
  {
   "cell_type": "code",
   "execution_count": 12,
   "id": "96011585-ba80-4ed5-b863-c3ea1d7097cb",
   "metadata": {},
   "outputs": [
    {
     "name": "stdout",
     "output_type": "stream",
     "text": [
      "\n",
      "1. asdf\n",
      "2. sdfa\n",
      "3. dfas\n",
      "4. fasd\n",
      "5. aaa\n",
      "6. bbb\n",
      "\n"
     ]
    }
   ],
   "source": [
    "print(string.format(\"aaa\",\"bbb\"))"
   ]
  },
  {
   "cell_type": "markdown",
   "id": "10782380-1287-40dd-82fb-89c9fbb6a945",
   "metadata": {},
   "source": [
    "### HTML"
   ]
  },
  {
   "cell_type": "markdown",
   "id": "0aa8071d-6325-4587-af7a-62a9c28eb821",
   "metadata": {},
   "source": [
    "`-` 예제1. 텍스트 출력"
   ]
  },
  {
   "cell_type": "code",
   "execution_count": 27,
   "id": "b05c50d4-1d82-446f-8270-d0f3450c17ac",
   "metadata": {},
   "outputs": [],
   "source": [
    "html_str = '''\n",
    "<p> 파이썬 프로그래밍 </p>\n",
    "'''"
   ]
  },
  {
   "cell_type": "code",
   "execution_count": 28,
   "id": "3cc643d9-0c38-4381-b5f2-3b09def584bd",
   "metadata": {},
   "outputs": [
    {
     "data": {
      "text/html": [
       "\n",
       "<p> 파이썬 프로그래밍 </p>\n"
      ],
      "text/plain": [
       "<IPython.core.display.HTML object>"
      ]
     },
     "execution_count": 28,
     "metadata": {},
     "output_type": "execute_result"
    }
   ],
   "source": [
    "HTML(html_str)"
   ]
  },
  {
   "cell_type": "markdown",
   "id": "d4a41d65-f9a5-44c1-81d2-8d270931d504",
   "metadata": {},
   "source": [
    "`-` 예제 2 : 스타일 변경"
   ]
  },
  {
   "cell_type": "code",
   "execution_count": 56,
   "id": "9c1542f9-d8ba-411c-bd53-7d405c86532f",
   "metadata": {},
   "outputs": [],
   "source": [
    "html_str = '''\n",
    "<style>\n",
    "    .title {\n",
    "         font-family : \"Times New Roman\", sefif;\n",
    "         font-size : 30px;\n",
    "         font-weight : 900;\n",
    "        }\n",
    "</style>\n",
    "<p class=\"title\"> 파이썬 프로그래밍 </p>\n",
    "'''"
   ]
  },
  {
   "cell_type": "code",
   "execution_count": 57,
   "id": "011b90d3-2941-4224-8720-62b9eb80de84",
   "metadata": {},
   "outputs": [
    {
     "data": {
      "text/html": [
       "\n",
       "<style>\n",
       "    .title {\n",
       "         font-family : \"Times New Roman\", sefif;\n",
       "         font-size : 30px;\n",
       "         font-weight : 900;\n",
       "        }\n",
       "</style>\n",
       "<p class=\"title\"> 파이썬 프로그래밍 </p>\n"
      ],
      "text/plain": [
       "<IPython.core.display.HTML object>"
      ]
     },
     "execution_count": 57,
     "metadata": {},
     "output_type": "execute_result"
    }
   ],
   "source": [
    "HTML(html_str)"
   ]
  },
  {
   "cell_type": "markdown",
   "id": "b0ee652d-ddd6-4165-9ed3-4ec11ce08cbf",
   "metadata": {},
   "source": [
    "`-` 예제 3 : 이미지 삽입"
   ]
  },
  {
   "cell_type": "code",
   "execution_count": 69,
   "id": "6730d4f3-cac8-4f34-bfc7-99be15f56d6d",
   "metadata": {},
   "outputs": [],
   "source": [
    "html_str = '''\n",
    "\n",
    "<img src = \"hani.jpeg\" width = 300>\n",
    "'''"
   ]
  },
  {
   "cell_type": "code",
   "execution_count": 70,
   "id": "6abd8445-e1b5-47ad-9a78-a635be64f126",
   "metadata": {},
   "outputs": [
    {
     "data": {
      "text/html": [
       "\n",
       "\n",
       "<img src = \"hani.jpeg\" width = 300>\n"
      ],
      "text/plain": [
       "<IPython.core.display.HTML object>"
      ]
     },
     "execution_count": 70,
     "metadata": {},
     "output_type": "execute_result"
    }
   ],
   "source": [
    "HTML(html_str)"
   ]
  },
  {
   "cell_type": "code",
   "execution_count": 71,
   "id": "e3a935ec-3e32-48a8-97f5-670d3e2db280",
   "metadata": {},
   "outputs": [
    {
     "data": {
      "text/html": [
       "\n",
       "\n",
       "<img src = \"hani.jpeg\" width = 300>\n"
      ],
      "text/plain": [
       "<IPython.core.display.HTML object>"
      ]
     },
     "metadata": {},
     "output_type": "display_data"
    }
   ],
   "source": [
    "display(HTML(html_str))"
   ]
  },
  {
   "cell_type": "markdown",
   "id": "3ae575c1-9c25-46c1-94e4-3975386017cc",
   "metadata": {},
   "source": [
    "# 밈 구현"
   ]
  },
  {
   "cell_type": "markdown",
   "id": "7003054b-fa02-4109-b98b-650c2353c7a2",
   "metadata": {},
   "source": [
    "## 1단계 : 밈의 구상 "
   ]
  },
  {
   "cell_type": "markdown",
   "id": "e9540826-59b1-4bbe-a732-d1d945cef5b2",
   "metadata": {},
   "source": [
    "* title :  타이틀에 해당하는 텍스트\n",
    "\n",
    "* img : 데프트의 인터뷰 이미지\n",
    "\n",
    "* Q : 인터뷰 질문에 해당하는 텍스트 **(.text)**\n",
    "\n",
    "* A : 인터뷰 답변에 해당하는 텍스트 **(.text)** \n",
    "\n",
    "* highlight : \"마음\""
   ]
  },
  {
   "cell_type": "code",
   "execution_count": 72,
   "id": "767db2fd-fa0f-4e77-98a2-fce8351e1e60",
   "metadata": {},
   "outputs": [],
   "source": [
    "html_str = '''\n",
    "<style>\n",
    "    .title {\n",
    "        font-family: \"Times New Roman\", serif;\n",
    "        font-size: 30px;\n",
    "        font-weight: 900;\n",
    "    }\n",
    "    .text {\n",
    "        font-family: \"Arial\", sans-serif;\n",
    "        font-size: 20px;\n",
    "        font-style: italic;\n",
    "    }\n",
    "    .highlight {\n",
    "        font-family: \"Montserrat\", monospace;\n",
    "        font-size: 35px;\n",
    "        font-weight: 900;\n",
    "        text-decoration: underline; ## 밑줄\n",
    "        font-style: normal;\n",
    "        color: darkblue;\n",
    "        background-color: #FFFF00;\n",
    "    }\n",
    "</style>\n",
    "\n",
    "<p class=\"title\">RGE전 패배는 괜찮다.</p>\n",
    "<img src=https://github.com/guebin/PP2023/blob/main/posts/03_Class/JungGGuckMa.jpg?raw=true width=\"600\">\n",
    "<p> \\n </p>\n",
    "<p class=\"text\"> Q: 로그와 2라운드 재대결, 어떤 점에 유의해야 할까?</p>\n",
    "<p class=\"text\"> A: 상대팀에 대해서 더 분석할 건 없는 것 같고, 저희가 저희 플레이 잘하는 게 제일 중요한 것 같고 오늘 지긴 했지만 저희끼리만 안 무너지면 충분히 이길 수 있을 것 같아요.\n",
    "<p class=\"title\">중요한 것은 꺾이지 않는 <span class=\"highlight\">마음</span></p>\n",
    "'''"
   ]
  },
  {
   "cell_type": "code",
   "execution_count": 74,
   "id": "5517daae-2e73-44e1-b896-9a7481e15729",
   "metadata": {},
   "outputs": [
    {
     "data": {
      "text/html": [
       "\n",
       "<style>\n",
       "    .title {\n",
       "        font-family: \"Times New Roman\", serif;\n",
       "        font-size: 30px;\n",
       "        font-weight: 900;\n",
       "    }\n",
       "    .text {\n",
       "        font-family: \"Arial\", sans-serif;\n",
       "        font-size: 20px;\n",
       "        font-style: italic;\n",
       "    }\n",
       "    .highlight {\n",
       "        font-family: \"Montserrat\", monospace;\n",
       "        font-size: 35px;\n",
       "        font-weight: 900;\n",
       "        text-decoration: underline;\n",
       "        font-style: normal;\n",
       "        color: darkblue;\n",
       "        background-color: #FFFF00;\n",
       "    }\n",
       "</style>\n",
       "\n",
       "<p class=\"title\">RGE전 패배는 괜찮다.</p>\n",
       "<img src=https://github.com/guebin/PP2023/blob/main/posts/03_Class/JungGGuckMa.jpg?raw=true width=\"600\">\n",
       "<p> \n",
       " </p>\n",
       "<p class=\"text\"> Q: 로그와 2라운드 재대결, 어떤 점에 유의해야 할까?</p>\n",
       "<p class=\"text\"> A: 상대팀에 대해서 더 분석할 건 없는 것 같고, 저희가 저희 플레이 잘하는 게 제일 중요한 것 같고 오늘 지긴 했지만 저희끼리만 안 무너지면 충분히 이길 수 있을 것 같아요.\n",
       "<p class=\"title\">중요한 것은 꺾이지 않는 <span class=\"highlight\">마음</span></p>\n"
      ],
      "text/plain": [
       "<IPython.core.display.HTML object>"
      ]
     },
     "metadata": {},
     "output_type": "display_data"
    }
   ],
   "source": [
    "display(HTML(html_str))"
   ]
  },
  {
   "cell_type": "markdown",
   "id": "c44e5d85-2e4c-465f-a730-83824500fe85",
   "metadata": {},
   "source": [
    "## 2단계 : 양식틀의 완성(함수 이용)"
   ]
  },
  {
   "cell_type": "code",
   "execution_count": 91,
   "id": "d03bc831-2a69-4f83-b02b-08c24a90ae8e",
   "metadata": {},
   "outputs": [],
   "source": [
    "html_str = '''\n",
    "<style>\n",
    "    .title {{\n",
    "        font-family: \"Times New Roman\", serif;\n",
    "        font-size: 30px;\n",
    "        font-weight: 900;\n",
    "    }}\n",
    "    .text {{\n",
    "        font-family: \"Arial\", sans-serif;\n",
    "        font-size: 20px;\n",
    "        font-style: italic;\n",
    "    }}\n",
    "    .highlight {{\n",
    "        font-family: \"Montserrat\", monospace;\n",
    "        font-size: 35px;\n",
    "        font-weight: 900;\n",
    "        text-decoration: underline; ## 밑줄\n",
    "        font-style: normal;\n",
    "        color: darkblue;\n",
    "        background-color: #FFFF00;\n",
    "    }}\n",
    "</style>\n",
    "\n",
    "<p class=\"title\">{tt1}</p>\n",
    "<img src={url} width=\"600\">\n",
    "<p> \\n </p>\n",
    "<p class=\"text\"> {Q}</p>\n",
    "<p class=\"text\"> {A}: 상대팀에 대해서 더 분석할 건 없는 것 같고, 저희가 저희 플레이 잘하는 게 제일 중요한 것 같고 오늘 지긴 했지만 저희끼리만 안 무너지면 충분히 이길 수 있을 것 같아요.\n",
    "<p class=\"title\">중요한 것은 꺾이지 않는 <span class=\"highlight\"> {h1} </span></p>\n",
    "'''"
   ]
  },
  {
   "cell_type": "code",
   "execution_count": 99,
   "id": "90064674-6d28-4a77-a9c1-bdbad0963ea6",
   "metadata": {},
   "outputs": [],
   "source": [
    "title = \"중요한건 꺽이지 않는 마음\"\n",
    "\n",
    "url = \"https://github.com/guebin/PP2023/blob/main/posts/03_Class/JungGGuckMa.jpg?raw=true\"\n",
    "\n",
    "Q = \"Q: 로그와 2라운드 재대결, 어떤 점에 유의해야 할까\"\n",
    "\n",
    "A = \"A: 상대팀에 대해서 더 분석할 건 없는 것 같고, 저희가 저희 플레이 잘하는 게 제일 중요한 것 같고 오늘 지긴 했지만 저희끼리만 안 무너지면 충분히 이길 수 있을 것 같아요.\"\n",
    "\n",
    "h1 = \"마음\""
   ]
  },
  {
   "cell_type": "code",
   "execution_count": 100,
   "id": "1bec93ac-2d85-4b99-8c59-c4b0e93969ef",
   "metadata": {},
   "outputs": [
    {
     "data": {
      "text/html": [
       "\n",
       "<style>\n",
       "    .title {\n",
       "        font-family: \"Times New Roman\", serif;\n",
       "        font-size: 30px;\n",
       "        font-weight: 900;\n",
       "    }\n",
       "    .text {\n",
       "        font-family: \"Arial\", sans-serif;\n",
       "        font-size: 20px;\n",
       "        font-style: italic;\n",
       "    }\n",
       "    .highlight {\n",
       "        font-family: \"Montserrat\", monospace;\n",
       "        font-size: 35px;\n",
       "        font-weight: 900;\n",
       "        text-decoration: underline; ## 밑줄\n",
       "        font-style: normal;\n",
       "        color: darkblue;\n",
       "        background-color: #FFFF00;\n",
       "    }\n",
       "</style>\n",
       "\n",
       "<p class=\"title\">중요한건 꺽이지 않는 마음</p>\n",
       "<img src=https://github.com/guebin/PP2023/blob/main/posts/03_Class/JungGGuckMa.jpg?raw=true width=\"600\">\n",
       "<p> \n",
       " </p>\n",
       "<p class=\"text\"> Q: 로그와 2라운드 재대결, 어떤 점에 유의해야 할까</p>\n",
       "<p class=\"text\"> A: 상대팀에 대해서 더 분석할 건 없는 것 같고, 저희가 저희 플레이 잘하는 게 제일 중요한 것 같고 오늘 지긴 했지만 저희끼리만 안 무너지면 충분히 이길 수 있을 것 같아요.: 상대팀에 대해서 더 분석할 건 없는 것 같고, 저희가 저희 플레이 잘하는 게 제일 중요한 것 같고 오늘 지긴 했지만 저희끼리만 안 무너지면 충분히 이길 수 있을 것 같아요.\n",
       "<p class=\"title\">중요한 것은 꺾이지 않는 <span class=\"highlight\"> 마음 </span></p>\n"
      ],
      "text/plain": [
       "<IPython.core.display.HTML object>"
      ]
     },
     "metadata": {},
     "output_type": "display_data"
    }
   ],
   "source": [
    "_str = html_str.format(\n",
    "    tt1 = title,\n",
    "    url = url,\n",
    "    Q = Q,\n",
    "    A = A,\n",
    "    h1 = h1\n",
    ")\n",
    "display(HTML(_str))"
   ]
  },
  {
   "cell_type": "markdown",
   "id": "0723ea53-d9fa-42e5-beb0-7b8434dc7cde",
   "metadata": {},
   "source": [
    "## 3단계 : 밈놀이(함수)"
   ]
  },
  {
   "cell_type": "code",
   "execution_count": 106,
   "id": "f91ef9a9-bb15-45da-a55a-5f4f82b7ab88",
   "metadata": {},
   "outputs": [],
   "source": [
    "def JM (html_str,title,url,Q,A,h1) : \n",
    "    _str = html_str.format(\n",
    "        tt1 = title,\n",
    "        url = url,\n",
    "        Q = Q,\n",
    "        A = A,\n",
    "        h1 = h1\n",
    "    )\n",
    "    display(HTML(_str))"
   ]
  },
  {
   "cell_type": "code",
   "execution_count": 108,
   "id": "08908101-dd06-4450-be19-8eb15731d042",
   "metadata": {},
   "outputs": [
    {
     "data": {
      "text/html": [
       "\n",
       "<style>\n",
       "    .title {\n",
       "        font-family: \"Times New Roman\", serif;\n",
       "        font-size: 30px;\n",
       "        font-weight: 900;\n",
       "    }\n",
       "    .text {\n",
       "        font-family: \"Arial\", sans-serif;\n",
       "        font-size: 20px;\n",
       "        font-style: italic;\n",
       "    }\n",
       "    .highlight {\n",
       "        font-family: \"Montserrat\", monospace;\n",
       "        font-size: 35px;\n",
       "        font-weight: 900;\n",
       "        text-decoration: underline; ## 밑줄\n",
       "        font-style: normal;\n",
       "        color: darkblue;\n",
       "        background-color: #FFFF00;\n",
       "    }\n",
       "</style>\n",
       "\n",
       "<p class=\"title\">중요한건 꺽이지 않는 마음</p>\n",
       "<img src=https://github.com/guebin/PP2023/blob/main/posts/03_Class/JungGGuckMa.jpg?raw=true width=\"600\">\n",
       "<p> \n",
       " </p>\n",
       "<p class=\"text\"> Q: 로그와 2라운드 재대결, 어떤 점에 유의해야 할까</p>\n",
       "<p class=\"text\"> A: 상대팀에 대해서 더 분석할 건 없는 것 같고, 저희가 저희 플레이 잘하는 게 제일 중요한 것 같고 오늘 지긴 했지만 저희끼리만 안 무너지면 충분히 이길 수 있을 것 같아요.: 상대팀에 대해서 더 분석할 건 없는 것 같고, 저희가 저희 플레이 잘하는 게 제일 중요한 것 같고 오늘 지긴 했지만 저희끼리만 안 무너지면 충분히 이길 수 있을 것 같아요.\n",
       "<p class=\"title\">중요한 것은 꺾이지 않는 <span class=\"highlight\"> 마음 </span></p>\n"
      ],
      "text/plain": [
       "<IPython.core.display.HTML object>"
      ]
     },
     "metadata": {},
     "output_type": "display_data"
    }
   ],
   "source": [
    "JM(html_str,title,url,Q,A,h1)"
   ]
  },
  {
   "cell_type": "markdown",
   "id": "fd7b9837-7e39-490b-ab83-11fe10c9a3ee",
   "metadata": {},
   "source": [
    "### 이러한 코드들의 비판"
   ]
  },
  {
   "cell_type": "markdown",
   "id": "9f6b3854-d286-4cca-87d0-2f4562ff45e5",
   "metadata": {},
   "source": [
    "`-` 변수들이 정리가 되어있지 않고 산만함"
   ]
  },
  {
   "cell_type": "markdown",
   "id": "b3909e24-a8b2-4abc-b7e1-ca00470b543a",
   "metadata": {},
   "source": [
    "## 4단계 밈놀이 (클래스)"
   ]
  },
  {
   "cell_type": "markdown",
   "id": "a3a3fffe-094c-4e72-a8d8-c3edbf5e9175",
   "metadata": {},
   "source": [
    "`-` 클래스 선언 : 도화지 만들기"
   ]
  },
  {
   "cell_type": "code",
   "execution_count": 110,
   "id": "7fec6131-d81b-4de6-969f-2157622284a7",
   "metadata": {},
   "outputs": [],
   "source": [
    "class jkm :\n",
    "     pass"
   ]
  },
  {
   "cell_type": "code",
   "execution_count": 112,
   "id": "1b5511c8-f978-4b42-badc-d3e217332615",
   "metadata": {},
   "outputs": [
    {
     "data": {
      "text/plain": [
       "<__main__.jkm at 0x1c07fdfa2d0>"
      ]
     },
     "execution_count": 112,
     "metadata": {},
     "output_type": "execute_result"
    }
   ],
   "source": [
    "test = jkm()\n",
    "test"
   ]
  },
  {
   "cell_type": "markdown",
   "id": "e1581ec5-b5b8-41fb-bb7f-a12035f7a19e",
   "metadata": {},
   "source": [
    "### 뼈대 생성"
   ]
  },
  {
   "cell_type": "code",
   "execution_count": 113,
   "id": "a6613ecf-1926-4e2f-b378-5428a962f9cb",
   "metadata": {},
   "outputs": [],
   "source": [
    "test.title = \"중요한건 꺽이지 않는 마음\"\n",
    "\n",
    "test.url = \"https://github.com/guebin/PP2023/blob/main/posts/03_Class/JungGGuckMa.jpg?raw=true\"\n",
    "\n",
    "test.Q = \"Q: 로그와 2라운드 재대결, 어떤 점에 유의해야 할까\"\n",
    "\n",
    "test.A = \"A: 상대팀에 대해서 더 분석할 건 없는 것 같고, 저희가 저희 플레이 잘하는 게 제일 중요한 것 같고 오늘 지긴 했지만 저희끼리만 안 무너지면 충분히 이길 수 있을 것 같아요.\"\n",
    "\n",
    "test.h1 = \"마음\"\n",
    "\n",
    "test.html_str =  '''\n",
    "<style>\n",
    "    .title {{\n",
    "        font-family: \"Times New Roman\", serif;\n",
    "        font-size: 30px;\n",
    "        font-weight: 900;\n",
    "    }}\n",
    "    .text {{\n",
    "        font-family: \"Arial\", sans-serif;\n",
    "        font-size: 20px;\n",
    "        font-style: italic;\n",
    "    }}\n",
    "    .highlight {{\n",
    "        font-family: \"Montserrat\", monospace;\n",
    "        font-size: 35px;\n",
    "        font-weight: 900;\n",
    "        text-decoration: underline; ## 밑줄\n",
    "        font-style: normal;\n",
    "        color: darkblue;\n",
    "        background-color: #FFFF00;\n",
    "    }}\n",
    "</style>\n",
    "\n",
    "<p class=\"title\">{tt1}</p>\n",
    "<img src={url} width=\"600\">\n",
    "<p> \\n </p>\n",
    "<p class=\"text\"> {Q}</p>\n",
    "<p class=\"text\"> {A}: 상대팀에 대해서 더 분석할 건 없는 것 같고, 저희가 저희 플레이 잘하는 게 제일 중요한 것 같고 오늘 지긴 했지만 저희끼리만 안 무너지면 충분히 이길 수 있을 것 같아요.\n",
    "<p class=\"title\">중요한 것은 꺾이지 않는 <span class=\"highlight\"> {h1} </span></p>\n",
    "'''"
   ]
  },
  {
   "cell_type": "markdown",
   "id": "b03c0126-e24d-4109-b94a-6fd486278a03",
   "metadata": {},
   "source": [
    "### show 함수선언"
   ]
  },
  {
   "cell_type": "code",
   "execution_count": 117,
   "id": "8fefacb1-255b-4eb2-b445-21ab329b83d5",
   "metadata": {},
   "outputs": [],
   "source": [
    "def show(test):\n",
    "    _str = test.html_str.format(\n",
    "        tt1 = test.title,\n",
    "        url = test.url,\n",
    "        Q = test.Q,\n",
    "        A = test.A,\n",
    "        h1 = test.h1\n",
    "    )\n",
    "    display(HTML(_str))"
   ]
  },
  {
   "cell_type": "code",
   "execution_count": 118,
   "id": "5b4f0efb-1f49-4da4-8935-2010705796d4",
   "metadata": {},
   "outputs": [
    {
     "data": {
      "text/html": [
       "\n",
       "<style>\n",
       "    .title {\n",
       "        font-family: \"Times New Roman\", serif;\n",
       "        font-size: 30px;\n",
       "        font-weight: 900;\n",
       "    }\n",
       "    .text {\n",
       "        font-family: \"Arial\", sans-serif;\n",
       "        font-size: 20px;\n",
       "        font-style: italic;\n",
       "    }\n",
       "    .highlight {\n",
       "        font-family: \"Montserrat\", monospace;\n",
       "        font-size: 35px;\n",
       "        font-weight: 900;\n",
       "        text-decoration: underline; ## 밑줄\n",
       "        font-style: normal;\n",
       "        color: darkblue;\n",
       "        background-color: #FFFF00;\n",
       "    }\n",
       "</style>\n",
       "\n",
       "<p class=\"title\">중요한건 꺽이지 않는 마음</p>\n",
       "<img src=https://github.com/guebin/PP2023/blob/main/posts/03_Class/JungGGuckMa.jpg?raw=true width=\"600\">\n",
       "<p> \n",
       " </p>\n",
       "<p class=\"text\"> Q: 로그와 2라운드 재대결, 어떤 점에 유의해야 할까</p>\n",
       "<p class=\"text\"> A: 상대팀에 대해서 더 분석할 건 없는 것 같고, 저희가 저희 플레이 잘하는 게 제일 중요한 것 같고 오늘 지긴 했지만 저희끼리만 안 무너지면 충분히 이길 수 있을 것 같아요.: 상대팀에 대해서 더 분석할 건 없는 것 같고, 저희가 저희 플레이 잘하는 게 제일 중요한 것 같고 오늘 지긴 했지만 저희끼리만 안 무너지면 충분히 이길 수 있을 것 같아요.\n",
       "<p class=\"title\">중요한 것은 꺾이지 않는 <span class=\"highlight\"> 마음 </span></p>\n"
      ],
      "text/plain": [
       "<IPython.core.display.HTML object>"
      ]
     },
     "metadata": {},
     "output_type": "display_data"
    }
   ],
   "source": [
    "show(test)"
   ]
  }
 ],
 "metadata": {
  "kernelspec": {
   "display_name": "Python 3 (ipykernel)",
   "language": "python",
   "name": "python3"
  },
  "language_info": {
   "codemirror_mode": {
    "name": "ipython",
    "version": 3
   },
   "file_extension": ".py",
   "mimetype": "text/x-python",
   "name": "python",
   "nbconvert_exporter": "python",
   "pygments_lexer": "ipython3",
   "version": "3.11.4"
  }
 },
 "nbformat": 4,
 "nbformat_minor": 5
}
