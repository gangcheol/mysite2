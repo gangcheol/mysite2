{
 "cells": [
  {
   "cell_type": "raw",
   "id": "65333bb0-3fc8-459d-99e4-9229b662b2a2",
   "metadata": {},
   "source": [
    "---\n",
    "title : \"Extra 02. 클래스 탐구 (1)\"\n",
    "author : \"GC\"\n",
    "date : \"08/10/23\"\n",
    "categories : [extra, class]\n",
    "---"
   ]
  },
  {
   "cell_type": "markdown",
   "id": "f16093e3-0b43-4dc7-9050-b3169899b5d1",
   "metadata": {},
   "source": [
    "# import"
   ]
  },
  {
   "cell_type": "code",
   "execution_count": 1,
   "id": "c0a75eea-b261-4429-a31a-7ec87471128c",
   "metadata": {},
   "outputs": [],
   "source": [
    "from IPython.core.display import HTML\n",
    "import numpy as np\n",
    "import pandas as pd\n",
    "import matplotlib.pyplot as plt"
   ]
  },
  {
   "cell_type": "markdown",
   "id": "7bcc2c59-e740-4323-9ece-bc3c5dca1f0e",
   "metadata": {},
   "source": [
    "## 작성한 class 등록"
   ]
  },
  {
   "cell_type": "code",
   "execution_count": 5,
   "id": "30fa70a8-caa6-4254-98cc-950386d95fe5",
   "metadata": {},
   "outputs": [],
   "source": [
    "class jkm:\n",
    "    def __init__(self) :\n",
    "        self.title = \"중요한건 꺽이지 않는 마음\"\n",
    "\n",
    "        self.url = \"https://github.com/guebin/PP2023/blob/main/posts/03_Class/JungGGuckMa.jpg?raw=true\"\n",
    "\n",
    "        self.Q = \"Q: 로그와 2라운드 재대결, 어떤 점에 유의해야 할까\"\n",
    "\n",
    "        self.A = \"A: 상대팀에 대해서 더 분석할 건 없는 것 같고, 저희가 저희 플레이 잘하는 게 제일 중요한 것 같고 오늘 지긴 했지만 저희끼리만 안 무너지면 충분히 이길 수 있을 것 같아요.\"\n",
    "\n",
    "        self.h1 = \"마음\"\n",
    "\n",
    "        self.html_str =  '''\n",
    "                    <style>\n",
    "                        .title {{\n",
    "                            font-family: \"Times New Roman\", serif;\n",
    "                            font-size: 30px;\n",
    "                            font-weight: 900;\n",
    "                        }}\n",
    "                        .text {{\n",
    "                            font-family: \"Arial\", sans-serif;\n",
    "                            font-size: 20px;\n",
    "                            font-style: italic;\n",
    "                        }}\n",
    "                        .highlight {{\n",
    "                            font-family: \"Montserrat\", monospace;\n",
    "                            font-size: 35px;\n",
    "                            font-weight: 900;\n",
    "                            text-decoration: underline; ## 밑줄\n",
    "                            font-style: normal;\n",
    "                            color: darkblue;\n",
    "                            background-color: #FFFF00;\n",
    "                        }}\n",
    "                    </style>\n",
    "\n",
    "                    <p class=\"title\">{tt1}</p>\n",
    "                    <img src={url} width=\"600\">\n",
    "                    <p> \\n </p>\n",
    "                    <p class=\"text\"> {Q}</p>\n",
    "                    <p class=\"text\"> {A}: 상대팀에 대해서 더 분석할 건 없는 것 같고, 저희가 저희 플레이 잘하는 게 제일 중요한 것 같고 오늘 지긴 했지만 저희끼리만 안 무너지면 충분히 이길 수 있을 것 같아요.\n",
    "                    <p class=\"title\">중요한 것은 꺾이지 않는 <span class=\"highlight\"> {h1} </span></p>\n",
    "                    '''\n",
    "        \n",
    "    def show(self):\n",
    "        _str = self.html_str.format(\n",
    "            tt1 = self.title,\n",
    "            url = self.url,\n",
    "            Q = self.Q,\n",
    "            A = self.A,\n",
    "            h1 = self.h1 )\n",
    "        display(HTML(_str))"
   ]
  },
  {
   "cell_type": "code",
   "execution_count": 6,
   "id": "8e966eb3-f988-4fac-9b1b-7d619ccb08e9",
   "metadata": {},
   "outputs": [],
   "source": [
    "test = jkm()"
   ]
  },
  {
   "cell_type": "code",
   "execution_count": 8,
   "id": "6a09a192-58f8-4931-b894-b146ab92129e",
   "metadata": {},
   "outputs": [
    {
     "data": {
      "text/html": [
       "\n",
       "                    <style>\n",
       "                        .title {\n",
       "                            font-family: \"Times New Roman\", serif;\n",
       "                            font-size: 30px;\n",
       "                            font-weight: 900;\n",
       "                        }\n",
       "                        .text {\n",
       "                            font-family: \"Arial\", sans-serif;\n",
       "                            font-size: 20px;\n",
       "                            font-style: italic;\n",
       "                        }\n",
       "                        .highlight {\n",
       "                            font-family: \"Montserrat\", monospace;\n",
       "                            font-size: 35px;\n",
       "                            font-weight: 900;\n",
       "                            text-decoration: underline; ## 밑줄\n",
       "                            font-style: normal;\n",
       "                            color: darkblue;\n",
       "                            background-color: #FFFF00;\n",
       "                        }\n",
       "                    </style>\n",
       "\n",
       "                    <p class=\"title\">중요한건 꺽이지 않는 마음</p>\n",
       "                    <img src=https://github.com/guebin/PP2023/blob/main/posts/03_Class/JungGGuckMa.jpg?raw=true width=\"600\">\n",
       "                    <p> \n",
       " </p>\n",
       "                    <p class=\"text\"> Q: 로그와 2라운드 재대결, 어떤 점에 유의해야 할까</p>\n",
       "                    <p class=\"text\"> A: 상대팀에 대해서 더 분석할 건 없는 것 같고, 저희가 저희 플레이 잘하는 게 제일 중요한 것 같고 오늘 지긴 했지만 저희끼리만 안 무너지면 충분히 이길 수 있을 것 같아요.: 상대팀에 대해서 더 분석할 건 없는 것 같고, 저희가 저희 플레이 잘하는 게 제일 중요한 것 같고 오늘 지긴 했지만 저희끼리만 안 무너지면 충분히 이길 수 있을 것 같아요.\n",
       "                    <p class=\"title\">중요한 것은 꺾이지 않는 <span class=\"highlight\"> 마음 </span></p>\n",
       "                    "
      ],
      "text/plain": [
       "<IPython.core.display.HTML object>"
      ]
     },
     "metadata": {},
     "output_type": "display_data"
    }
   ],
   "source": [
    "test.show()"
   ]
  },
  {
   "cell_type": "markdown",
   "id": "4147bb29-de48-4529-b281-cabcc4623186",
   "metadata": {},
   "source": [
    "## 깨달음 1. type == class?"
   ]
  },
  {
   "cell_type": "markdown",
   "id": "a65b0762-b932-4258-8dfe-5b9806a7eaa8",
   "metadata": {},
   "source": [
    "`-` 아래처럼 우리가 생성한 `test`의 타입을 확인하니 type 이 `jkm` 으로 나온다."
   ]
  },
  {
   "cell_type": "code",
   "execution_count": 11,
   "id": "4e9a9283-b9c8-40aa-b0c4-d16388886898",
   "metadata": {},
   "outputs": [
    {
     "data": {
      "text/plain": [
       "\u001b[1;31mType:\u001b[0m        jkm\n",
       "\u001b[1;31mString form:\u001b[0m <__main__.jkm object at 0x000001E17B1E7850>\n",
       "\u001b[1;31mDocstring:\u001b[0m   <no docstring>"
      ]
     },
     "metadata": {},
     "output_type": "display_data"
    }
   ],
   "source": [
    "test?"
   ]
  },
  {
   "cell_type": "markdown",
   "id": "9f46ae07-91e3-4bc7-8cc4-85d54d1869f4",
   "metadata": {},
   "source": [
    "`-` 아래의 리스트, 튜플, 리스트(튜플)의 타입을 확인해보자."
   ]
  },
  {
   "cell_type": "code",
   "execution_count": 12,
   "id": "65fec081-ed5a-4248-8fcf-aa2a450950df",
   "metadata": {},
   "outputs": [
    {
     "data": {
      "text/plain": [
       "list"
      ]
     },
     "execution_count": 12,
     "metadata": {},
     "output_type": "execute_result"
    }
   ],
   "source": [
    "type([1,2,3])"
   ]
  },
  {
   "cell_type": "code",
   "execution_count": 13,
   "id": "5f383913-ea4d-4987-936b-731e44f4dd17",
   "metadata": {},
   "outputs": [
    {
     "data": {
      "text/plain": [
       "tuple"
      ]
     },
     "execution_count": 13,
     "metadata": {},
     "output_type": "execute_result"
    }
   ],
   "source": [
    "type((1,2,3))"
   ]
  },
  {
   "cell_type": "code",
   "execution_count": 16,
   "id": "05d75a5b-d350-4a16-b001-6a034055c8ce",
   "metadata": {},
   "outputs": [
    {
     "data": {
      "text/plain": [
       "list"
      ]
     },
     "execution_count": 16,
     "metadata": {},
     "output_type": "execute_result"
    }
   ],
   "source": [
    "type(list((1,2,3)))"
   ]
  },
  {
   "cell_type": "markdown",
   "id": "ae015ad8-263d-447e-9a60-7ee468a4f280",
   "metadata": {},
   "source": [
    "`-` **깨달음1. 우리가 어떤 인스턴스 객체를 생성할 떄 그 자료형은  파이썬 내부, 혹은 우리가 작성한 클래스의 이름이다.**"
   ]
  },
  {
   "cell_type": "markdown",
   "id": "e490f6a7-522f-494e-ba18-bbb1355ba4fd",
   "metadata": {},
   "source": [
    "## 깨달음 2.  `__init__`"
   ]
  },
  {
   "cell_type": "code",
   "execution_count": 19,
   "id": "d8a3fdae-e5f0-47e3-92b9-f91a46eab451",
   "metadata": {},
   "outputs": [
    {
     "data": {
      "text/plain": [
       "['1', '2', '3']"
      ]
     },
     "execution_count": 19,
     "metadata": {},
     "output_type": "execute_result"
    }
   ],
   "source": [
    "a = \"123\"\n",
    "list(a)"
   ]
  },
  {
   "cell_type": "code",
   "execution_count": 21,
   "id": "9bb6be9b-d83d-4908-882f-cc817e76cd5d",
   "metadata": {},
   "outputs": [
    {
     "data": {
      "text/plain": [
       "['1', '2', '3']"
      ]
     },
     "execution_count": 21,
     "metadata": {},
     "output_type": "execute_result"
    }
   ],
   "source": [
    "a = list()\n",
    "\n",
    "a.__init__(\"123\")\n",
    "a"
   ]
  },
  {
   "cell_type": "code",
   "execution_count": 24,
   "id": "98ac6e2b-ccb3-43cb-82c4-25d9f9b00494",
   "metadata": {},
   "outputs": [
    {
     "data": {
      "text/plain": [
       "[]"
      ]
     },
     "execution_count": 24,
     "metadata": {},
     "output_type": "execute_result"
    }
   ],
   "source": [
    "a = list()\n",
    "a.__init__('123') \n",
    "a.__init__() # 리스트 최기화\n",
    "a"
   ]
  },
  {
   "cell_type": "markdown",
   "id": "f339dac3-c05a-43fa-a41a-b143520ae31e",
   "metadata": {},
   "source": [
    "`-` 깨달음 2.  우리가 `list(\"123\")` 과 같은 메소드를 입력할 때 사실 자료형을 변환하는 것이 아니라, `list` 라는 클래스의 `__init__()`으로 인스턴스를 생성하는 것이었다."
   ]
  },
  {
   "cell_type": "markdown",
   "id": "3cfc8199-ea0a-41f5-be59-14e9ab0e620f",
   "metadata": {},
   "source": [
    "## 깨달음 3. `__str__`"
   ]
  },
  {
   "cell_type": "markdown",
   "id": "18189288-5858-457f-9be0-79e1c7fbfe92",
   "metadata": {},
   "source": [
    "`-` 아래의 클래스를 관찰하자"
   ]
  },
  {
   "cell_type": "code",
   "execution_count": 27,
   "id": "dd72aab2-8b42-4f43-ab72-f1298bf6c844",
   "metadata": {},
   "outputs": [],
   "source": [
    "class UpJump:\n",
    "    def __init__(self):\n",
    "        self.reset()\n",
    "    def up(self):\n",
    "        self.a = self.a + 1  \n",
    "        print(\"a의 값이 1 증가합니다.\")\n",
    "    def jump(self,jump_size):\n",
    "        self.a = self.a + jump_size      \n",
    "        print(\"a의 값이 {} 증가합니다.\".format(jump_size))\n",
    "    def show(self):\n",
    "        print('a={}'.format(self.a))\n",
    "    def reset(self):\n",
    "        self.a = 0\n",
    "        print(\"a의 값이 0으로 초기화 되었습니다.\")"
   ]
  },
  {
   "cell_type": "code",
   "execution_count": 28,
   "id": "63711717-9218-4cb4-a91f-bc060ea7f889",
   "metadata": {},
   "outputs": [
    {
     "name": "stdout",
     "output_type": "stream",
     "text": [
      "a의 값이 0으로 초기화 되었습니다.\n"
     ]
    }
   ],
   "source": [
    "a = UpJump()"
   ]
  },
  {
   "cell_type": "code",
   "execution_count": 29,
   "id": "bae3a8ef-31e3-47b3-925c-538651cb95e2",
   "metadata": {},
   "outputs": [
    {
     "data": {
      "text/plain": [
       "\u001b[1;31mType:\u001b[0m        UpJump\n",
       "\u001b[1;31mString form:\u001b[0m <__main__.UpJump object at 0x000001E17A4FE650>\n",
       "\u001b[1;31mDocstring:\u001b[0m   <no docstring>"
      ]
     },
     "metadata": {},
     "output_type": "display_data"
    }
   ],
   "source": [
    "a?"
   ]
  },
  {
   "cell_type": "code",
   "execution_count": 30,
   "id": "b667b954-3042-4af4-81b9-d3dd4a91e981",
   "metadata": {},
   "outputs": [
    {
     "name": "stdout",
     "output_type": "stream",
     "text": [
      "a의 값이 1 증가합니다.\n"
     ]
    }
   ],
   "source": [
    "a.up()"
   ]
  },
  {
   "cell_type": "code",
   "execution_count": 33,
   "id": "dc851ccb-3c38-44f0-9ef7-1376e597141a",
   "metadata": {},
   "outputs": [
    {
     "name": "stdout",
     "output_type": "stream",
     "text": [
      "a의 값이 -2 증가합니다.\n"
     ]
    }
   ],
   "source": [
    "a.jump(-2)"
   ]
  },
  {
   "cell_type": "code",
   "execution_count": 35,
   "id": "0b93fb63-ba35-448c-8cbb-32bce5e35661",
   "metadata": {},
   "outputs": [
    {
     "name": "stdout",
     "output_type": "stream",
     "text": [
      "a의 값이 0으로 초기화 되었습니다.\n"
     ]
    }
   ],
   "source": [
    "a.reset()"
   ]
  },
  {
   "cell_type": "code",
   "execution_count": 36,
   "id": "a4709ae8-354c-4815-82bd-0b13c4a887ba",
   "metadata": {},
   "outputs": [
    {
     "name": "stdout",
     "output_type": "stream",
     "text": [
      "a=0\n"
     ]
    }
   ],
   "source": [
    "a.show()"
   ]
  },
  {
   "cell_type": "markdown",
   "id": "e849a517-bc80-4b34-aa3b-c7f0fe7e07ea",
   "metadata": {},
   "source": [
    "`-` show 함수를 살펴보자."
   ]
  },
  {
   "cell_type": "markdown",
   "id": "40822fd8-4c50-45e0-a671-432ba2875523",
   "metadata": {},
   "source": [
    "* show 함수는 print와 비슷하다 $\\to$ 그렇다면....?"
   ]
  },
  {
   "cell_type": "markdown",
   "id": "dfe0d76e-e13d-4f69-ac5a-d71a99498f8e",
   "metadata": {},
   "source": [
    "* `print(a)`를 하면  `a.show()` 와 동일한 효과를 내도록 만들 수 있을까?"
   ]
  },
  {
   "cell_type": "code",
   "execution_count": 37,
   "id": "1c687fb3-b13c-4b3f-a229-0a263ba05812",
   "metadata": {},
   "outputs": [
    {
     "name": "stdout",
     "output_type": "stream",
     "text": [
      "<__main__.UpJump object at 0x000001E17A4FE650>\n"
     ]
    }
   ],
   "source": [
    "print(a)"
   ]
  },
  {
   "cell_type": "markdown",
   "id": "e9db860f-40f2-48eb-bdd6-0ab4682c1f63",
   "metadata": {},
   "source": [
    "* print는 파이썬의 내장기능이다. 내장기능을 우리가 마음대로 변환해서 사용하면 많은 문제들이 생긴다."
   ]
  },
  {
   "cell_type": "markdown",
   "id": "73705a7d-661b-4563-bad0-25622310af26",
   "metadata": {},
   "source": [
    "$\\divideontimes$ **그런데 `a`의 자료형에 해당하는 인스턴스들에 한정하여 print를 수정하는 방법이 있다면?**\n"
   ]
  },
  {
   "cell_type": "markdown",
   "id": "899940b3-bd69-425e-812d-6841906bd562",
   "metadata": {},
   "source": [
    "* 즉, 다른 클래스 오브젝트들은 영향을 받지 않고, `UpJump`로 생성된 오브젝트들만 가능하게끔 하는 것이다."
   ]
  },
  {
   "cell_type": "markdown",
   "id": "821b9f08-772e-480b-a2dc-ff124d1d684a",
   "metadata": {},
   "source": [
    "### 관찰1 : `__str__`"
   ]
  },
  {
   "cell_type": "markdown",
   "id": "b841bf23-c739-4e8f-8e21-96efd6c9207b",
   "metadata": {},
   "source": [
    "`-` 아래둘은 같은 역할을 한다. $\\to$ 즉, print(\"a\")는 `print(\"a\".__str__())`의 축약 버전이다."
   ]
  },
  {
   "cell_type": "code",
   "execution_count": 44,
   "id": "a294a4a4-2157-439d-8c9f-2a898b65b27d",
   "metadata": {},
   "outputs": [
    {
     "name": "stdout",
     "output_type": "stream",
     "text": [
      "a\n"
     ]
    }
   ],
   "source": [
    " print(\"a\")"
   ]
  },
  {
   "cell_type": "code",
   "execution_count": 45,
   "id": "cdb31814-137c-456c-9f2f-ec24f94e563e",
   "metadata": {},
   "outputs": [
    {
     "name": "stdout",
     "output_type": "stream",
     "text": [
      "a\n"
     ]
    }
   ],
   "source": [
    "print(\"a\".__str__())"
   ]
  },
  {
   "cell_type": "markdown",
   "id": "f419066f-6cac-4e25-ad64-a1fff9baa031",
   "metadata": {},
   "source": [
    "`-` 우리가 정의한 show함수는 다음과 같다."
   ]
  },
  {
   "cell_type": "markdown",
   "id": "21234115-1774-4e40-bc0b-bb314daa5b76",
   "metadata": {},
   "source": [
    "```python\n",
    "def show(self):\n",
    "        print('a={}'.format(self.a))\n",
    "```"
   ]
  },
  {
   "cell_type": "markdown",
   "id": "9d1de5a5-4c99-4733-911f-e762dbeabfcc",
   "metadata": {},
   "source": [
    "`-` 즉, 작성한 show함수는 단지 print문을 호출하는 함수이므로, `a.__str__()`의 기능을 재정의하면? `print(a)`의 결과도 바뀌지 않을까?"
   ]
  },
  {
   "cell_type": "markdown",
   "id": "84994437-4e87-42d6-8dc1-0bb741df9e5a",
   "metadata": {},
   "source": [
    "### 관찰 2: 함수 덧씌우기"
   ]
  },
  {
   "cell_type": "code",
   "execution_count": 41,
   "id": "c6f5406b-f020-49cd-9d1b-11e14a40335c",
   "metadata": {},
   "outputs": [
    {
     "name": "stdout",
     "output_type": "stream",
     "text": [
      "강철\n"
     ]
    }
   ],
   "source": [
    "def f():\n",
    "    print(\"강철\")\n",
    "    \n",
    "f()"
   ]
  },
  {
   "cell_type": "code",
   "execution_count": 42,
   "id": "dd9e02c3-785f-4954-99a5-cd06b4e50269",
   "metadata": {},
   "outputs": [
    {
     "name": "stdout",
     "output_type": "stream",
     "text": [
      "DX 강철\n"
     ]
    }
   ],
   "source": [
    "def f() :\n",
    "    print(\"DX 강철\")\n",
    "f()"
   ]
  },
  {
   "cell_type": "markdown",
   "id": "40fc4618-421e-4900-b24b-5ae0f9ff31f5",
   "metadata": {},
   "source": [
    "`-` 함수를 덮어씌울 수 있다는 것을 확인하였다."
   ]
  },
  {
   "cell_type": "markdown",
   "id": "79fda010-122c-4922-ae2a-8ec8e882e072",
   "metadata": {},
   "source": [
    "### 관찰3 : 실제 적용"
   ]
  },
  {
   "cell_type": "markdown",
   "id": "3f586d84-2c59-43d7-81a5-350779ed367e",
   "metadata": {},
   "source": [
    "* `def show()`  $\\to$ `def __str__()`, `print` $\\to$ `return`"
   ]
  },
  {
   "cell_type": "code",
   "execution_count": 68,
   "id": "be1431d0-2d79-4acc-ac53-2fb5d708f601",
   "metadata": {},
   "outputs": [],
   "source": [
    "class UpJump:\n",
    "    def __init__(self):\n",
    "        self.reset()\n",
    "    def up(self):\n",
    "        self.a = self.a + 1  \n",
    "        print(\"a의 값이 1 증가합니다.\")\n",
    "    def jump(self,jump_size):\n",
    "        self.a = self.a + jump_size      \n",
    "        print(\"a의 값이 {} 증가합니다.\".format(jump_size))\n",
    "    def __str__(self):\n",
    "        return 'a={}'.format(self.a)\n",
    "    def reset(self):\n",
    "        self.a = 0\n",
    "        print(\"a의 값이 0으로 초기화 되었습니다.\")"
   ]
  },
  {
   "cell_type": "code",
   "execution_count": 70,
   "id": "50474da8-5d3c-4b20-ba5e-434e0c331e97",
   "metadata": {},
   "outputs": [
    {
     "name": "stdout",
     "output_type": "stream",
     "text": [
      "a의 값이 0으로 초기화 되었습니다.\n"
     ]
    }
   ],
   "source": [
    "a = UpJump()"
   ]
  },
  {
   "cell_type": "code",
   "execution_count": 71,
   "id": "330183ad-eeea-4b4f-a584-6a11a91bd55b",
   "metadata": {},
   "outputs": [
    {
     "data": {
      "text/plain": [
       "'a=0'"
      ]
     },
     "execution_count": 71,
     "metadata": {},
     "output_type": "execute_result"
    }
   ],
   "source": [
    "a.__str__()"
   ]
  },
  {
   "cell_type": "code",
   "execution_count": 74,
   "id": "a724dd77-e59a-4b89-8563-3ef6892e0887",
   "metadata": {},
   "outputs": [
    {
     "name": "stdout",
     "output_type": "stream",
     "text": [
      "a=0\n"
     ]
    }
   ],
   "source": [
    "print(a) ## 성공했다!!"
   ]
  },
  {
   "cell_type": "markdown",
   "id": "928c8c42-ea7c-4c68-bbbf-06d70aaa56c6",
   "metadata": {},
   "source": [
    "## 깨달음 4. `__repr__`"
   ]
  },
  {
   "cell_type": "markdown",
   "id": "48bcebc4-eb54-4f19-bede-36faee7732d2",
   "metadata": {},
   "source": [
    "`-` 우리가 어떤 변수를 할당하고 실행할때 사용되는 내장 함수는 `__repr__()` $\\to$ representation의 약자이다."
   ]
  },
  {
   "cell_type": "markdown",
   "id": "1d22f2cb-9ecf-4e6a-bc84-f2817deb6d80",
   "metadata": {},
   "source": [
    "`-` 그러면 `__repr__`도 우리가 정의할 수 있지 않을까?"
   ]
  },
  {
   "cell_type": "markdown",
   "id": "10eb520d-0b1d-44ca-9172-e404371cbc3c",
   "metadata": {},
   "source": [
    "`-` `__str()__` 과 비교해보자."
   ]
  },
  {
   "cell_type": "code",
   "execution_count": 81,
   "id": "9d3eed8d-8abe-40cd-9745-63ada62d72ec",
   "metadata": {},
   "outputs": [],
   "source": [
    "a = np.arange(4).reshape(2,2)"
   ]
  },
  {
   "cell_type": "code",
   "execution_count": 82,
   "id": "a82bc57b-26fe-4bc4-94b3-72a4912aa9ac",
   "metadata": {},
   "outputs": [
    {
     "data": {
      "text/plain": [
       "'[[0 1]\\n [2 3]]'"
      ]
     },
     "execution_count": 82,
     "metadata": {},
     "output_type": "execute_result"
    }
   ],
   "source": [
    "a.__str__()"
   ]
  },
  {
   "cell_type": "code",
   "execution_count": 83,
   "id": "0117e566-f5db-4fdf-9d02-26beac2733a8",
   "metadata": {},
   "outputs": [
    {
     "data": {
      "text/plain": [
       "'array([[0, 1],\\n       [2, 3]])'"
      ]
     },
     "execution_count": 83,
     "metadata": {},
     "output_type": "execute_result"
    }
   ],
   "source": [
    "a.__repr__()"
   ]
  },
  {
   "cell_type": "markdown",
   "id": "b82f0b0e-409d-4179-8ab8-5a7b1fd4aefa",
   "metadata": {},
   "source": [
    "`-` print 문을 사용한 비교."
   ]
  },
  {
   "cell_type": "code",
   "execution_count": 84,
   "id": "e4fd7896-88c9-4b04-8cd2-56a22764bfd3",
   "metadata": {},
   "outputs": [
    {
     "name": "stdout",
     "output_type": "stream",
     "text": [
      "[[0 1]\n",
      " [2 3]]\n"
     ]
    }
   ],
   "source": [
    "print(a.__str__())"
   ]
  },
  {
   "cell_type": "code",
   "execution_count": 87,
   "id": "0b4bae01-9fff-42e9-afc8-fbfc38bc5857",
   "metadata": {},
   "outputs": [
    {
     "name": "stdout",
     "output_type": "stream",
     "text": [
      "array([[0, 1],\n",
      "       [2, 3]])\n"
     ]
    }
   ],
   "source": [
    "print(a.__repr__())"
   ]
  },
  {
   "cell_type": "markdown",
   "id": "d87f6b93-d3ce-4ae4-ae6f-8f8920696645",
   "metadata": {},
   "source": [
    "### class의 적용"
   ]
  },
  {
   "cell_type": "markdown",
   "id": "c2a147ab-37c5-48da-b319-eb28b873488c",
   "metadata": {},
   "source": [
    "```python\n",
    "def __repr__(self):\n",
    "    return 'a={}'.format(self.a)\n",
    "```"
   ]
  },
  {
   "cell_type": "code",
   "execution_count": 89,
   "id": "05a246e4-3381-4525-96ba-a4107494899c",
   "metadata": {},
   "outputs": [],
   "source": [
    "class UpJump:\n",
    "    def __init__(self):\n",
    "        self.reset()\n",
    "    def up(self):\n",
    "        self.a = self.a + 1  \n",
    "        print(\"a의 값이 1 증가합니다.\")\n",
    "    def jump(self,jump_size):\n",
    "        self.a = self.a + jump_size      \n",
    "        print(\"a의 값이 {} 증가합니다.\".format(jump_size))\n",
    "    def __str__(self):\n",
    "        return 'a의 값은 {}입니다.'.format(self.a)\n",
    "    def reset(self):\n",
    "        self.a = 0\n",
    "        print(\"a의 값이 0으로 초기화 되었습니다.\")\n",
    "    def __repr__(self):\n",
    "        return 'a={}'.format(self.a)  "
   ]
  },
  {
   "cell_type": "code",
   "execution_count": 90,
   "id": "757cbd00-8595-46b3-93d9-6d071f398f28",
   "metadata": {},
   "outputs": [
    {
     "name": "stdout",
     "output_type": "stream",
     "text": [
      "a의 값이 0으로 초기화 되었습니다.\n"
     ]
    }
   ],
   "source": [
    "a = UpJump()"
   ]
  },
  {
   "cell_type": "code",
   "execution_count": 91,
   "id": "73d8062e-0427-4679-a66a-46cfb7db5c9c",
   "metadata": {},
   "outputs": [
    {
     "name": "stdout",
     "output_type": "stream",
     "text": [
      "a의 값은 0입니다.\n"
     ]
    }
   ],
   "source": [
    "print(a)"
   ]
  },
  {
   "cell_type": "code",
   "execution_count": 92,
   "id": "7efe8eda-eec0-42d4-89fe-8b319c07731b",
   "metadata": {},
   "outputs": [
    {
     "data": {
      "text/plain": [
       "a=0"
      ]
     },
     "execution_count": 92,
     "metadata": {},
     "output_type": "execute_result"
    }
   ],
   "source": [
    "a"
   ]
  },
  {
   "cell_type": "markdown",
   "id": "6526d9f4-71bb-4a07-9ea0-5bcd714ccc9a",
   "metadata": {},
   "source": [
    "### 주의!!!! ($\\star \\star$)"
   ]
  },
  {
   "cell_type": "markdown",
   "id": "b81e44fc-7ba6-4199-af77-706bebc0abc6",
   "metadata": {},
   "source": [
    "`-` 만약 `__repr__()`만 정의되어 있고 `__str__()`이 정의되있지 않았다면 `__repr__()`의 내용이 `__str__()`의 내용을 대신한다. **(단, 역은 성립하지 않음)**"
   ]
  },
  {
   "cell_type": "code",
   "execution_count": 97,
   "id": "7a4d2a35-19e0-4de7-ae7a-0742707380be",
   "metadata": {},
   "outputs": [],
   "source": [
    "class UpJump:\n",
    "    def __init__(self):\n",
    "        self.reset()\n",
    "    def up(self):\n",
    "        self.a = self.a + 1  \n",
    "        print(\"a의 값이 1 증가합니다.\")\n",
    "    def jump(self,jump_size):\n",
    "        self.a = self.a + jump_size      \n",
    "        print(\"a의 값이 {} 증가합니다.\".format(jump_size))\n",
    "   # def __str__(self):\n",
    "    #    return 'a의 값은 {}입니다.'.format(self.a)\n",
    "    def reset(self):\n",
    "        self.a = 0\n",
    "        print(\"a의 값이 0으로 초기화 되었습니다.\")\n",
    "    def __repr__(self):\n",
    "        return 'a={}'.format(self.a)  "
   ]
  },
  {
   "cell_type": "code",
   "execution_count": 98,
   "id": "567a3bb6-8f87-4429-83bc-e1821c62c338",
   "metadata": {},
   "outputs": [
    {
     "name": "stdout",
     "output_type": "stream",
     "text": [
      "a의 값이 0으로 초기화 되었습니다.\n"
     ]
    }
   ],
   "source": [
    "a = UpJump()"
   ]
  },
  {
   "cell_type": "code",
   "execution_count": 99,
   "id": "38e41b33-642a-464a-8997-a2d390a70dae",
   "metadata": {},
   "outputs": [
    {
     "data": {
      "text/plain": [
       "a=0"
      ]
     },
     "execution_count": 99,
     "metadata": {},
     "output_type": "execute_result"
    }
   ],
   "source": [
    "a"
   ]
  },
  {
   "cell_type": "code",
   "execution_count": 100,
   "id": "ec6c8e2f-f9df-4b15-ae72-d9be6c63ee5d",
   "metadata": {},
   "outputs": [],
   "source": [
    "class UpJump:\n",
    "    def __init__(self):\n",
    "        self.reset()\n",
    "    def up(self):\n",
    "        self.a = self.a + 1  \n",
    "        print(\"a의 값이 1 증가합니다.\")\n",
    "    def jump(self,jump_size):\n",
    "        self.a = self.a + jump_size      \n",
    "        print(\"a의 값이 {} 증가합니다.\".format(jump_size))\n",
    "    def __str__(self):\n",
    "        return 'a의 값은 {}입니다.'.format(self.a)\n",
    "    def reset(self):\n",
    "        self.a = 0\n",
    "        print(\"a의 값이 0으로 초기화 되었습니다.\")\n",
    "   # def __repr__(self):\n",
    "    #    return 'a={}'.format(self.a)  "
   ]
  },
  {
   "cell_type": "code",
   "execution_count": 101,
   "id": "ed46a7da-ad19-4da5-88ea-029234279cfe",
   "metadata": {},
   "outputs": [
    {
     "name": "stdout",
     "output_type": "stream",
     "text": [
      "a의 값이 0으로 초기화 되었습니다.\n"
     ]
    }
   ],
   "source": [
    "a = UpJump()"
   ]
  },
  {
   "cell_type": "code",
   "execution_count": 102,
   "id": "e4491f37-0acb-4633-ac77-89ded02d9190",
   "metadata": {},
   "outputs": [
    {
     "data": {
      "text/plain": [
       "<__main__.UpJump at 0x1e17b574090>"
      ]
     },
     "execution_count": 102,
     "metadata": {},
     "output_type": "execute_result"
    }
   ],
   "source": [
    "a"
   ]
  },
  {
   "cell_type": "markdown",
   "id": "ece6ec1f-6bae-4771-8f0d-e2f1f817d30d",
   "metadata": {},
   "source": [
    "## 깨달음 5.  `_repr_html_`"
   ]
  },
  {
   "cell_type": "markdown",
   "id": "38107d1f-6e06-47b0-9419-788397432734",
   "metadata": {},
   "source": [
    "### 데이터프레임 출력의 비밀"
   ]
  },
  {
   "cell_type": "code",
   "execution_count": 105,
   "id": "a5ea949d-b16d-46c6-b100-08150196059f",
   "metadata": {},
   "outputs": [
    {
     "data": {
      "text/html": [
       "<div>\n",
       "<style scoped>\n",
       "    .dataframe tbody tr th:only-of-type {\n",
       "        vertical-align: middle;\n",
       "    }\n",
       "\n",
       "    .dataframe tbody tr th {\n",
       "        vertical-align: top;\n",
       "    }\n",
       "\n",
       "    .dataframe thead th {\n",
       "        text-align: right;\n",
       "    }\n",
       "</style>\n",
       "<table border=\"1\" class=\"dataframe\">\n",
       "  <thead>\n",
       "    <tr style=\"text-align: right;\">\n",
       "      <th></th>\n",
       "      <th>a</th>\n",
       "      <th>b</th>\n",
       "    </tr>\n",
       "  </thead>\n",
       "  <tbody>\n",
       "    <tr>\n",
       "      <th>0</th>\n",
       "      <td>1</td>\n",
       "      <td>2</td>\n",
       "    </tr>\n",
       "    <tr>\n",
       "      <th>1</th>\n",
       "      <td>2</td>\n",
       "      <td>3</td>\n",
       "    </tr>\n",
       "    <tr>\n",
       "      <th>2</th>\n",
       "      <td>3</td>\n",
       "      <td>4</td>\n",
       "    </tr>\n",
       "  </tbody>\n",
       "</table>\n",
       "</div>"
      ],
      "text/plain": [
       "   a  b\n",
       "0  1  2\n",
       "1  2  3\n",
       "2  3  4"
      ]
     },
     "execution_count": 105,
     "metadata": {},
     "output_type": "execute_result"
    }
   ],
   "source": [
    "df = pd.DataFrame({'a':[1,2,3],'b':[2,3,4]})\n",
    "df"
   ]
  },
  {
   "cell_type": "code",
   "execution_count": 106,
   "id": "9ecbbce2-e67e-46ce-ab53-ffe200cfa480",
   "metadata": {},
   "outputs": [
    {
     "name": "stdout",
     "output_type": "stream",
     "text": [
      "   a  b\n",
      "0  1  2\n",
      "1  2  3\n",
      "2  3  4\n"
     ]
    }
   ],
   "source": [
    "print(df.__repr__())"
   ]
  },
  {
   "cell_type": "code",
   "execution_count": 107,
   "id": "21a514ac-b5f2-4c01-91b7-310c18d13a10",
   "metadata": {},
   "outputs": [
    {
     "name": "stdout",
     "output_type": "stream",
     "text": [
      "   a  b\n",
      "0  1  2\n",
      "1  2  3\n",
      "2  3  4\n"
     ]
    }
   ],
   "source": [
    "print(df.__str__())"
   ]
  },
  {
   "cell_type": "markdown",
   "id": "0f869764-1a1b-4f46-ace9-62532e58764c",
   "metadata": {},
   "source": [
    "`-` 뭔가 이상하다. 앞서 배운대로라면 코드를 실행할 때 나오는 표처럼 예쁘게 나와야 하는데 그렇지 않다..."
   ]
  },
  {
   "cell_type": "markdown",
   "id": "d8953532-71e8-47b9-b029-f2f7dd391e27",
   "metadata": {},
   "source": [
    "`-` 아래를 살펴보자."
   ]
  },
  {
   "cell_type": "code",
   "execution_count": 109,
   "id": "f0dbebd1-ff58-4fa9-b4de-8afc6afa4c8c",
   "metadata": {},
   "outputs": [
    {
     "data": {
      "text/plain": [
       "'<div>\\n<style scoped>\\n    .dataframe tbody tr th:only-of-type {\\n        vertical-align: middle;\\n    }\\n\\n    .dataframe tbody tr th {\\n        vertical-align: top;\\n    }\\n\\n    .dataframe thead th {\\n        text-align: right;\\n    }\\n</style>\\n<table border=\"1\" class=\"dataframe\">\\n  <thead>\\n    <tr style=\"text-align: right;\">\\n      <th></th>\\n      <th>a</th>\\n      <th>b</th>\\n    </tr>\\n  </thead>\\n  <tbody>\\n    <tr>\\n      <th>0</th>\\n      <td>1</td>\\n      <td>2</td>\\n    </tr>\\n    <tr>\\n      <th>1</th>\\n      <td>2</td>\\n      <td>3</td>\\n    </tr>\\n    <tr>\\n      <th>2</th>\\n      <td>3</td>\\n      <td>4</td>\\n    </tr>\\n  </tbody>\\n</table>\\n</div>'"
      ]
     },
     "execution_count": 109,
     "metadata": {},
     "output_type": "execute_result"
    }
   ],
   "source": [
    "df._repr_html_()"
   ]
  },
  {
   "cell_type": "code",
   "execution_count": 110,
   "id": "168bd2b9-b22f-4428-a4f8-61d24fbad36f",
   "metadata": {},
   "outputs": [
    {
     "data": {
      "text/html": [
       "<div>\n",
       "<style scoped>\n",
       "    .dataframe tbody tr th:only-of-type {\n",
       "        vertical-align: middle;\n",
       "    }\n",
       "\n",
       "    .dataframe tbody tr th {\n",
       "        vertical-align: top;\n",
       "    }\n",
       "\n",
       "    .dataframe thead th {\n",
       "        text-align: right;\n",
       "    }\n",
       "</style>\n",
       "<table border=\"1\" class=\"dataframe\">\n",
       "  <thead>\n",
       "    <tr style=\"text-align: right;\">\n",
       "      <th></th>\n",
       "      <th>a</th>\n",
       "      <th>b</th>\n",
       "    </tr>\n",
       "  </thead>\n",
       "  <tbody>\n",
       "    <tr>\n",
       "      <th>0</th>\n",
       "      <td>1</td>\n",
       "      <td>2</td>\n",
       "    </tr>\n",
       "    <tr>\n",
       "      <th>1</th>\n",
       "      <td>2</td>\n",
       "      <td>3</td>\n",
       "    </tr>\n",
       "    <tr>\n",
       "      <th>2</th>\n",
       "      <td>3</td>\n",
       "      <td>4</td>\n",
       "    </tr>\n",
       "  </tbody>\n",
       "</table>\n",
       "</div>"
      ],
      "text/plain": [
       "<IPython.core.display.HTML object>"
      ]
     },
     "execution_count": 110,
     "metadata": {},
     "output_type": "execute_result"
    }
   ],
   "source": [
    "HTML(df._repr_html_())"
   ]
  },
  {
   "cell_type": "markdown",
   "id": "a82e1e00-8a04-440e-b1fd-210c374fe79a",
   "metadata": {},
   "source": [
    "`-` **깨달음5. 데이터 프레임은 `html`로 작성되어 있으며 `_repr_html_()`은 html 구조를 확인할 수 있는 명령어이다!!**"
   ]
  },
  {
   "cell_type": "markdown",
   "id": "3be8d82f-de40-4457-9529-640a5b6bb277",
   "metadata": {},
   "source": [
    "`-` 그러면 `df.__repr__()`의 역할은?"
   ]
  },
  {
   "cell_type": "markdown",
   "id": "2ad466a2-6ba1-4ff5-abc6-20e78281f00d",
   "metadata": {},
   "source": [
    "* 아 우리가 대화형 콘솔(anaconda prompt)에서 작성하면 나오는 출력형식을 지원한다!"
   ]
  },
  {
   "cell_type": "markdown",
   "id": "f89fe90a-f7cb-43fb-ace7-af0cc8cb9970",
   "metadata": {},
   "source": [
    "<img src= \"repr.png\" width=250>"
   ]
  },
  {
   "cell_type": "markdown",
   "id": "b36d07d3-d6eb-4260-b7b5-69bcf6e7136f",
   "metadata": {},
   "source": [
    "### 적용"
   ]
  },
  {
   "cell_type": "markdown",
   "id": "32051d32-130d-4d63-9c0d-6a8d8c39d6a3",
   "metadata": {},
   "source": [
    "`-` 초기"
   ]
  },
  {
   "cell_type": "markdown",
   "id": "79f78b86-f7fd-414f-9cc9-6844de77f280",
   "metadata": {},
   "source": [
    "```python    \n",
    "def show(self):\n",
    "        _str = self.html_str.format(\n",
    "            tt1 = self.title,\n",
    "            url = self.url,\n",
    "            Q = self.Q,\n",
    "            A = self.A,\n",
    "            h1 = self.h1 )\n",
    "        display(HTML(_str))\n",
    "```"
   ]
  },
  {
   "cell_type": "markdown",
   "id": "ff8eb9d6-9dc6-48b5-9679-63ea4fbbc0ef",
   "metadata": {},
   "source": [
    "`-` 수정후"
   ]
  },
  {
   "cell_type": "markdown",
   "id": "cd6a6c2b-8db2-4e6a-9c07-7f1875b1ed38",
   "metadata": {},
   "source": [
    "```python    \n",
    "def _repr_html_(self):\n",
    "        _str = self.html_str.format(\n",
    "            tt1 = self.title,\n",
    "            url = self.url,\n",
    "            Q = self.Q,\n",
    "            A = self.A,\n",
    "            h1 = self.h1 )\n",
    "        return _str\n",
    "```"
   ]
  },
  {
   "cell_type": "code",
   "execution_count": 124,
   "id": "3380e8d8-0e14-44d6-9f67-d994168d9958",
   "metadata": {},
   "outputs": [],
   "source": [
    "class jkm:\n",
    "    def __init__(self) :\n",
    "        self.title = \"중요한건 꺽이지 않는 마음\"\n",
    "\n",
    "        self.url = \"https://github.com/guebin/PP2023/blob/main/posts/03_Class/JungGGuckMa.jpg?raw=true\"\n",
    "\n",
    "        self.Q = \"Q: 로그와 2라운드 재대결, 어떤 점에 유의해야 할까\"\n",
    "\n",
    "        self.A = \"A: 상대팀에 대해서 더 분석할 건 없는 것 같고, 저희가 저희 플레이 잘하는 게 제일 중요한 것 같고 오늘 지긴 했지만 저희끼리만 안 무너지면 충분히 이길 수 있을 것 같아요.\"\n",
    "\n",
    "        self.h1 = \"마음\"\n",
    "\n",
    "        self.html_str =  '''\n",
    "                    <style>\n",
    "                        .title {{\n",
    "                            font-family: \"Times New Roman\", serif;\n",
    "                            font-size: 30px;\n",
    "                            font-weight: 900;\n",
    "                        }}\n",
    "                        .text {{\n",
    "                            font-family: \"Arial\", sans-serif;\n",
    "                            font-size: 20px;\n",
    "                            font-style: italic;\n",
    "                        }}\n",
    "                        .highlight {{\n",
    "                            font-family: \"Montserrat\", monospace;\n",
    "                            font-size: 35px;\n",
    "                            font-weight: 900;\n",
    "                            text-decoration: underline; ## 밑줄\n",
    "                            font-style: normal;\n",
    "                            color: darkblue;\n",
    "                            background-color: #FFFF00;\n",
    "                        }}\n",
    "                    </style>\n",
    "\n",
    "                    <p class=\"title\">{tt1}</p>\n",
    "                    <img src={url} width=\"600\">\n",
    "                    <p> \\n </p>\n",
    "                    <p class=\"text\"> {Q}</p>\n",
    "                    <p class=\"text\"> {A}: 상대팀에 대해서 더 분석할 건 없는 것 같고, 저희가 저희 플레이 잘하는 게 제일 중요한 것 같고 오늘 지긴 했지만 저희끼리만 안 무너지면 충분히 이길 수 있을 것 같아요.\n",
    "                    <p class=\"title\">중요한 것은 꺾이지 않는 <span class=\"highlight\"> {h1} </span></p>\n",
    "                    '''\n",
    "        \n",
    "    def _repr_html_(self):\n",
    "                _str = self.html_str.format(\n",
    "                    tt1 = self.title,\n",
    "                    url = self.url,\n",
    "                    Q = self.Q,\n",
    "                    A = self.A,\n",
    "                    h1 = self.h1)\n",
    "                return _str"
   ]
  },
  {
   "cell_type": "code",
   "execution_count": 125,
   "id": "5e905eba-8825-4c0d-8046-83915a0124f8",
   "metadata": {},
   "outputs": [
    {
     "data": {
      "text/html": [
       "\n",
       "                    <style>\n",
       "                        .title {\n",
       "                            font-family: \"Times New Roman\", serif;\n",
       "                            font-size: 30px;\n",
       "                            font-weight: 900;\n",
       "                        }\n",
       "                        .text {\n",
       "                            font-family: \"Arial\", sans-serif;\n",
       "                            font-size: 20px;\n",
       "                            font-style: italic;\n",
       "                        }\n",
       "                        .highlight {\n",
       "                            font-family: \"Montserrat\", monospace;\n",
       "                            font-size: 35px;\n",
       "                            font-weight: 900;\n",
       "                            text-decoration: underline; ## 밑줄\n",
       "                            font-style: normal;\n",
       "                            color: darkblue;\n",
       "                            background-color: #FFFF00;\n",
       "                        }\n",
       "                    </style>\n",
       "\n",
       "                    <p class=\"title\">중요한건 꺽이지 않는 마음</p>\n",
       "                    <img src=https://github.com/guebin/PP2023/blob/main/posts/03_Class/JungGGuckMa.jpg?raw=true width=\"600\">\n",
       "                    <p> \n",
       " </p>\n",
       "                    <p class=\"text\"> Q: 로그와 2라운드 재대결, 어떤 점에 유의해야 할까</p>\n",
       "                    <p class=\"text\"> A: 상대팀에 대해서 더 분석할 건 없는 것 같고, 저희가 저희 플레이 잘하는 게 제일 중요한 것 같고 오늘 지긴 했지만 저희끼리만 안 무너지면 충분히 이길 수 있을 것 같아요.: 상대팀에 대해서 더 분석할 건 없는 것 같고, 저희가 저희 플레이 잘하는 게 제일 중요한 것 같고 오늘 지긴 했지만 저희끼리만 안 무너지면 충분히 이길 수 있을 것 같아요.\n",
       "                    <p class=\"title\">중요한 것은 꺾이지 않는 <span class=\"highlight\"> 마음 </span></p>\n",
       "                    "
      ],
      "text/plain": [
       "<__main__.jkm at 0x1e17bb5ba90>"
      ]
     },
     "execution_count": 125,
     "metadata": {},
     "output_type": "execute_result"
    }
   ],
   "source": [
    "a = jkm()\n",
    "a"
   ]
  },
  {
   "cell_type": "code",
   "execution_count": null,
   "id": "db2e18ef-844a-47d8-9beb-9574ceada032",
   "metadata": {},
   "outputs": [],
   "source": []
  }
 ],
 "metadata": {
  "kernelspec": {
   "display_name": "Python 3 (ipykernel)",
   "language": "python",
   "name": "python3"
  },
  "language_info": {
   "codemirror_mode": {
    "name": "ipython",
    "version": 3
   },
   "file_extension": ".py",
   "mimetype": "text/x-python",
   "name": "python",
   "nbconvert_exporter": "python",
   "pygments_lexer": "ipython3",
   "version": "3.11.4"
  }
 },
 "nbformat": 4,
 "nbformat_minor": 5
}
