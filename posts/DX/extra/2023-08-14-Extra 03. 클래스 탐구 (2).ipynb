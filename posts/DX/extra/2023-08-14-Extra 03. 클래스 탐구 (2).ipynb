{
 "cells": [
  {
   "cell_type": "raw",
   "id": "3fbde6d0-d33d-4833-ac31-a48529f4b489",
   "metadata": {},
   "source": [
    "---\n",
    "title : \"Extra 03. 클래스 탐구 (2)\"\n",
    "author : \"GC\"\n",
    "date : \"08/14/23\"\n",
    "categories : [extra, class]\n",
    "---"
   ]
  },
  {
   "cell_type": "markdown",
   "id": "556a0220-6059-40c5-8d66-db6dccf73ea1",
   "metadata": {},
   "source": [
    "# import"
   ]
  },
  {
   "cell_type": "code",
   "execution_count": 2,
   "id": "01998d32-91e2-410d-abd2-5b0ab1cef83b",
   "metadata": {},
   "outputs": [],
   "source": [
    "import numpy as np\n",
    "import matplotlib.pyplot as plt\n",
    "import pandas as pd"
   ]
  },
  {
   "cell_type": "markdown",
   "id": "d1b76d8c-fa21-4eb3-a299-1e354d194daf",
   "metadata": {},
   "source": [
    "# 예비학습"
   ]
  },
  {
   "cell_type": "markdown",
   "id": "0315fe66-f807-4466-b7bc-e3193b755d37",
   "metadata": {},
   "source": [
    "## 모티블 : 클래스를 매번 수정하기 불편해"
   ]
  },
  {
   "cell_type": "markdown",
   "id": "959668d7-41ed-4b26-b23a-208f169d67d9",
   "metadata": {},
   "source": [
    "## UPjump - Ver1"
   ]
  },
  {
   "cell_type": "code",
   "execution_count": 3,
   "id": "068ef54e-eb9a-4276-8842-664c6c3c2d8c",
   "metadata": {},
   "outputs": [],
   "source": [
    "class UpJump:\n",
    "    def __init__(self):\n",
    "        self.value = 0\n",
    "    def up(self):\n",
    "        self.value = self.value + 1  \n",
    "    def jump(self,jump_size):\n",
    "        self.value = self.value + jump_size\n",
    "    def __repr__(self):\n",
    "        return str(self.value)        "
   ]
  },
  {
   "cell_type": "code",
   "execution_count": 4,
   "id": "3d17b245-42a1-4c03-8e4d-6e174c123097",
   "metadata": {},
   "outputs": [],
   "source": [
    "a = UpJump()\n",
    "a.jump(2)"
   ]
  },
  {
   "cell_type": "code",
   "execution_count": 5,
   "id": "dcd57282-1847-46c7-aa2a-5d167a906f91",
   "metadata": {},
   "outputs": [
    {
     "data": {
      "text/plain": [
       "2"
      ]
     },
     "execution_count": 5,
     "metadata": {},
     "output_type": "execute_result"
    }
   ],
   "source": [
    "a"
   ]
  },
  {
   "cell_type": "markdown",
   "id": "760e107a-ed25-4ba8-9a0a-d3e83a7f6154",
   "metadata": {},
   "source": [
    "## Upjump - Ver2"
   ]
  },
  {
   "cell_type": "code",
   "execution_count": 6,
   "id": "d2431f3e-235e-4331-936f-8c64f6380f55",
   "metadata": {},
   "outputs": [],
   "source": [
    "class UpJump_Ver2(UpJump):\n",
    "    def jump(self,jump_size):\n",
    "        self.value = self.value + jump_size"
   ]
  },
  {
   "cell_type": "code",
   "execution_count": 7,
   "id": "9a05f601-4719-4f61-bf00-fff4146ac5ee",
   "metadata": {},
   "outputs": [],
   "source": [
    "a = UpJump_Ver2()"
   ]
  },
  {
   "cell_type": "code",
   "execution_count": 8,
   "id": "1f0455bb-264a-4ad8-8d0f-3b1feebec63b",
   "metadata": {},
   "outputs": [],
   "source": [
    "a.jump(2)"
   ]
  },
  {
   "cell_type": "code",
   "execution_count": 9,
   "id": "0ed8f600-e2d5-4793-961c-f89553ea3224",
   "metadata": {},
   "outputs": [
    {
     "data": {
      "text/plain": [
       "2"
      ]
     },
     "execution_count": 9,
     "metadata": {},
     "output_type": "execute_result"
    }
   ],
   "source": [
    "a"
   ]
  },
  {
   "cell_type": "markdown",
   "id": "4c801959-e3bc-488f-b315-f41e8940f6fb",
   "metadata": {},
   "source": [
    "## tip"
   ]
  },
  {
   "cell_type": "markdown",
   "id": "882a0826-9ee8-4eb2-bbe9-2aa2c86963be",
   "metadata": {},
   "source": [
    "`-` 클래스를 조금 수정하고 싶을때, 아래와 같은 문법을 이용하면 편리하다."
   ]
  },
  {
   "cell_type": "markdown",
   "id": "b68bd522-5933-4ccb-a072-f2b0b0ff3bb4",
   "metadata": {},
   "source": [
    "```python\n",
    "class 새로운 클래스(수정할 클래스):\n",
    "    def 수정 및 추가할 함수(self,parameter):\n",
    "        return ...\n",
    "```"
   ]
  },
  {
   "cell_type": "markdown",
   "id": "ec9697e6-b5f1-4046-9021-e8966d0ec764",
   "metadata": {},
   "source": [
    "`-` 사용에시"
   ]
  },
  {
   "cell_type": "code",
   "execution_count": 10,
   "id": "be800ceb-3109-42b8-88b2-044922693526",
   "metadata": {},
   "outputs": [],
   "source": [
    "class temp(UpJump) :\n",
    "      def __repr__(self) :\n",
    "        return f\"현재 value는 {self.value}입니다.\""
   ]
  },
  {
   "cell_type": "code",
   "execution_count": 11,
   "id": "6f086285-d0a1-4829-85d2-ddce92f355c2",
   "metadata": {},
   "outputs": [],
   "source": [
    "a = temp()"
   ]
  },
  {
   "cell_type": "code",
   "execution_count": 12,
   "id": "5bf4612b-286a-4e9c-9eda-8c01de3a9b22",
   "metadata": {},
   "outputs": [],
   "source": [
    "a.jump(50)"
   ]
  },
  {
   "cell_type": "code",
   "execution_count": 13,
   "id": "43a42bf4-b151-40d4-8fa1-c513a020d097",
   "metadata": {},
   "outputs": [
    {
     "data": {
      "text/plain": [
       "현재 value는 50입니다."
      ]
     },
     "execution_count": 13,
     "metadata": {},
     "output_type": "execute_result"
    }
   ],
   "source": [
    "a"
   ]
  },
  {
   "cell_type": "markdown",
   "id": "78a7e639-d10e-42cb-88b5-37edbbea2870",
   "metadata": {},
   "source": [
    "# 깨달음 6. `__add__`"
   ]
  },
  {
   "cell_type": "markdown",
   "id": "4ae7a303-9bde-4fb7-9a87-f1245908085e",
   "metadata": {},
   "source": [
    "## motive"
   ]
  },
  {
   "cell_type": "markdown",
   "id": "8596410c-a18a-4052-b9ab-6a7ab2d92ec3",
   "metadata": {},
   "source": [
    "1. 클래스를 배우기 전 : `int` 자료형의 `+`는 \"**정수의 덧셈**\"을 의미하고 `list`자료형의 `+`는 **\"자료의 추가\"** 를 의미한다.\n",
    "\n",
    "2. 클래스를 배운 후 : 아마 int, list 클래스의 `+` 라는 연산을 정의하는 숨겨진 메소드가 있을 것이다."
   ]
  },
  {
   "cell_type": "code",
   "execution_count": 14,
   "id": "cfcedbfc-6e55-47e5-aff9-640f27898de6",
   "metadata": {},
   "outputs": [],
   "source": [
    "a,b= 1,2"
   ]
  },
  {
   "cell_type": "markdown",
   "id": "117d15e9-c903-481b-8332-1f1188f137b6",
   "metadata": {},
   "source": [
    "`-`  int  "
   ]
  },
  {
   "cell_type": "code",
   "execution_count": 15,
   "id": "0a273ced-3e2e-4fc8-86e5-61c229218aa0",
   "metadata": {},
   "outputs": [
    {
     "name": "stdout",
     "output_type": "stream",
     "text": [
      "a = 1, b = 2, a+b = 3\n",
      "a = 1, b = 2, a.__add__(b) = 3\n"
     ]
    }
   ],
   "source": [
    "print(f\"a = {a}, b = {b}, a+b = {a+b}\")\n",
    "print(f\"a = {a}, b = {b}, a.__add__(b) = {a.__add__(b)}\")"
   ]
  },
  {
   "cell_type": "markdown",
   "id": "b9fa2da4-9a65-4ffc-925e-661c7b50b5bb",
   "metadata": {},
   "source": [
    "`-` list"
   ]
  },
  {
   "cell_type": "code",
   "execution_count": 16,
   "id": "6973d04f-44ec-47bc-bd09-833c6325348c",
   "metadata": {},
   "outputs": [],
   "source": [
    "a,b = [1,2],[3,4]"
   ]
  },
  {
   "cell_type": "code",
   "execution_count": 17,
   "id": "031e9f3b-fc7d-4ab4-9c05-c68723077ff2",
   "metadata": {},
   "outputs": [
    {
     "name": "stdout",
     "output_type": "stream",
     "text": [
      "a = [1, 2], b = [3, 4], a+b = [1, 2, 3, 4]\n",
      "a = [1, 2], b = [3, 4], a.__add__(b) = [1, 2, 3, 4]\n"
     ]
    }
   ],
   "source": [
    "print(f\"a = {a}, b = {b}, a+b = {a+b}\")\n",
    "print(f\"a = {a}, b = {b}, a.__add__(b) = {a.__add__(b)}\")"
   ]
  },
  {
   "cell_type": "markdown",
   "id": "3ab98b9f-4962-49dd-aff7-06aeac4e320d",
   "metadata": {},
   "source": [
    "`-` 확인 : `a+b`는 사실 내부적으로 `a.__add__(b)`의 축약구문이다."
   ]
  },
  {
   "cell_type": "markdown",
   "id": "3ee22647-3565-4211-8b57-91339f177a3e",
   "metadata": {},
   "source": [
    "`-` 추측 : 따라서 만약 : `a.__add__(b)`의 기능을 재정의 하면 `a+b`의 기능도 바뀔것이다."
   ]
  },
  {
   "cell_type": "markdown",
   "id": "43733fd9-286b-49ce-8ff8-e59a1c981ef6",
   "metadata": {},
   "source": [
    "## ex1. `__add__()`"
   ]
  },
  {
   "cell_type": "markdown",
   "id": "f828802e-f66d-4143-86f9-65acbfdef22d",
   "metadata": {},
   "source": [
    "`-` 클래스 선언"
   ]
  },
  {
   "cell_type": "markdown",
   "id": "52027b96-0c9f-4dd5-897a-2eb53c986d54",
   "metadata": {},
   "source": [
    "* 한 학기를 등록할 때마다. 학생의 나이가 0.5, 학기가 1 증가하는 `__add__` 함수를 클래스 내부에 구현"
   ]
  },
  {
   "cell_type": "code",
   "execution_count": 18,
   "id": "b7513a09-a3c4-4037-9378-2b1affeaa9a4",
   "metadata": {},
   "outputs": [],
   "source": [
    "class s:\n",
    "    def __init__(self, age=20.0, semester=0): \n",
    "        self.age = age\n",
    "        self.semester = semester\n",
    "        print(f\"입학을 축하합니다. 당신의 나이는 {self.age}이고 현재 학기는 {self.semester}학기 입니다.\")\n",
    "    def __add__(self,registration_status):  \n",
    "        if registration_status=='휴학': \n",
    "            self.age=self.age+0.5 \n",
    "        elif registration_status=='등록':\n",
    "            self.age=self.age+0.5 \n",
    "            self.semester= self.semester+1\n",
    "    def _repr_html_(self): ## 코드 출력 정의\n",
    "        html_str = \"\"\"\n",
    "        나이: {} <br/>\n",
    "        학기: {} <br/>\n",
    "        \"\"\"\n",
    "        return html_str.format(self.age,self.semester)"
   ]
  },
  {
   "cell_type": "code",
   "execution_count": 19,
   "id": "83a60d54-66e5-4b2f-8ece-04856b6ff956",
   "metadata": {},
   "outputs": [
    {
     "name": "stdout",
     "output_type": "stream",
     "text": [
      "입학을 축하합니다. 당신의 나이는 20.0이고 현재 학기는 0학기 입니다.\n"
     ]
    }
   ],
   "source": [
    "gc = s()"
   ]
  },
  {
   "cell_type": "code",
   "execution_count": 20,
   "id": "c692f0c0-b8b0-43e5-bf29-ef8f49a18986",
   "metadata": {},
   "outputs": [],
   "source": [
    "gc + \"등록\""
   ]
  },
  {
   "cell_type": "code",
   "execution_count": 21,
   "id": "3e9250cd-f8de-41c6-9ca1-e11e8fec82e3",
   "metadata": {},
   "outputs": [
    {
     "data": {
      "text/html": [
       "\n",
       "        나이: 20.5 <br/>\n",
       "        학기: 1 <br/>\n",
       "        "
      ],
      "text/plain": [
       "<__main__.s at 0x1e2d15c60d0>"
      ]
     },
     "execution_count": 21,
     "metadata": {},
     "output_type": "execute_result"
    }
   ],
   "source": [
    "gc"
   ]
  },
  {
   "cell_type": "code",
   "execution_count": 22,
   "id": "08907857-52ae-4c4e-a0b0-cb4704194179",
   "metadata": {},
   "outputs": [],
   "source": [
    "gc + \"휴학\""
   ]
  },
  {
   "cell_type": "code",
   "execution_count": 23,
   "id": "6f830e99-5a08-4afb-8b4f-a2ff60a20187",
   "metadata": {},
   "outputs": [
    {
     "data": {
      "text/html": [
       "\n",
       "        나이: 21.0 <br/>\n",
       "        학기: 1 <br/>\n",
       "        "
      ],
      "text/plain": [
       "<__main__.s at 0x1e2d15c60d0>"
      ]
     },
     "execution_count": 23,
     "metadata": {},
     "output_type": "execute_result"
    }
   ],
   "source": [
    "gc"
   ]
  },
  {
   "cell_type": "markdown",
   "id": "45d7edb5-a486-4f8c-8973-1e9ad4d68266",
   "metadata": {},
   "source": [
    "## ex2. `__add__` + `return`"
   ]
  },
  {
   "cell_type": "markdown",
   "id": "cf252423-3ab2-43b7-a73b-7b3463d8ec0c",
   "metadata": {},
   "source": [
    "`-` 잘못된 사용"
   ]
  },
  {
   "cell_type": "code",
   "execution_count": 24,
   "id": "2b937e2a-df2f-4e90-a951-8e98fb696edf",
   "metadata": {},
   "outputs": [
    {
     "ename": "TypeError",
     "evalue": "unsupported operand type(s) for +: 'NoneType' and 'str'",
     "output_type": "error",
     "traceback": [
      "\u001b[1;31m---------------------------------------------------------------------------\u001b[0m",
      "\u001b[1;31mTypeError\u001b[0m                                 Traceback (most recent call last)",
      "Cell \u001b[1;32mIn[24], line 1\u001b[0m\n\u001b[1;32m----> 1\u001b[0m gc \u001b[38;5;241m+\u001b[39m \u001b[38;5;124m'\u001b[39m\u001b[38;5;124m등록\u001b[39m\u001b[38;5;124m'\u001b[39m\u001b[38;5;241m+\u001b[39m \u001b[38;5;124m'\u001b[39m\u001b[38;5;124m휴학\u001b[39m\u001b[38;5;124m'\u001b[39m \u001b[38;5;241m+\u001b[39m \u001b[38;5;124m'\u001b[39m\u001b[38;5;124m등록\u001b[39m\u001b[38;5;124m'\u001b[39m \u001b[38;5;241m+\u001b[39m \u001b[38;5;124m'\u001b[39m\u001b[38;5;124m휴학\u001b[39m\u001b[38;5;124m'\u001b[39m\n",
      "\u001b[1;31mTypeError\u001b[0m: unsupported operand type(s) for +: 'NoneType' and 'str'"
     ]
    }
   ],
   "source": [
    "gc + '등록'+ '휴학' + '등록' + '휴학'"
   ]
  },
  {
   "cell_type": "markdown",
   "id": "ca2f0b85-85b4-4da4-a872-cfaa3d72ed9c",
   "metadata": {},
   "source": [
    "`-` Ver 1"
   ]
  },
  {
   "cell_type": "code",
   "execution_count": 25,
   "id": "acdfc7f5-22e4-4922-b547-9647409504c8",
   "metadata": {},
   "outputs": [],
   "source": [
    "class s:\n",
    "    def __init__(self, age=20.0, semester=0): \n",
    "        self.age = age\n",
    "        self.semester = semester\n",
    "        print(f\"입학을 축하합니다. 당신의 나이는 {self.age}이고 현재 학기는 {self.semester}학기 입니다.\")\n",
    "    def __add__(self,registration_status):  \n",
    "        if registration_status=='휴학': \n",
    "            self.age=self.age+0.5 \n",
    "        elif registration_status=='등록':\n",
    "            self.age=self.age+0.5 \n",
    "            self.semester= self.semester+1 \n",
    "        return self  ## return 추가\n",
    "    def _repr_html_(self): ## 코드 출력 정의\n",
    "        html_str = \"\"\"\n",
    "        나이: {} <br/>\n",
    "        학기: {} <br/>\n",
    "        \"\"\"\n",
    "        return html_str.format(self.age,self.semester)"
   ]
  },
  {
   "cell_type": "code",
   "execution_count": 26,
   "id": "a6631d4f-76d1-4c10-aa97-9d8e5e71a207",
   "metadata": {},
   "outputs": [
    {
     "name": "stdout",
     "output_type": "stream",
     "text": [
      "입학을 축하합니다. 당신의 나이는 20.0이고 현재 학기는 0학기 입니다.\n"
     ]
    }
   ],
   "source": [
    "gc = s()"
   ]
  },
  {
   "cell_type": "code",
   "execution_count": 27,
   "id": "1810b149-7054-4b6c-84f7-b5b695c58dc3",
   "metadata": {},
   "outputs": [
    {
     "data": {
      "text/html": [
       "\n",
       "        나이: 22.0 <br/>\n",
       "        학기: 2 <br/>\n",
       "        "
      ],
      "text/plain": [
       "<__main__.s at 0x1e2cee04b90>"
      ]
     },
     "execution_count": 27,
     "metadata": {},
     "output_type": "execute_result"
    }
   ],
   "source": [
    "gc + '등록'+ '휴학' + '등록' + '휴학'"
   ]
  },
  {
   "cell_type": "markdown",
   "id": "4fb9e921-10a4-47a9-ae2d-2240998ca8df",
   "metadata": {},
   "source": [
    "`-` Ver2"
   ]
  },
  {
   "cell_type": "markdown",
   "id": "60f117af-12a8-42bf-a069-e5c4b0ed11c6",
   "metadata": {},
   "source": [
    "## ex2. `__add__` + `super`"
   ]
  },
  {
   "cell_type": "code",
   "execution_count": 28,
   "id": "69f4edf8-df1b-4057-a8cb-4f9b0fb51a40",
   "metadata": {},
   "outputs": [],
   "source": [
    "class s_2(s):\n",
    "    def __add__(self,registration_status): \n",
    "        if registration_status=='휴학': \n",
    "            self.age = self.age+0.5\n",
    "        elif registration_status=='등록':\n",
    "            self.age = self.age+0.5 \n",
    "            self.semester = self.semester+1 \n",
    "        return self"
   ]
  },
  {
   "cell_type": "code",
   "execution_count": 29,
   "id": "5afdbcc5-471b-4c97-8bc4-1c796bba2742",
   "metadata": {},
   "outputs": [
    {
     "name": "stdout",
     "output_type": "stream",
     "text": [
      "입학을 축하합니다. 당신의 나이는 20.0이고 현재 학기는 0학기 입니다.\n"
     ]
    }
   ],
   "source": [
    "gc = s_2()"
   ]
  },
  {
   "cell_type": "code",
   "execution_count": 30,
   "id": "ae25d6b4-54b4-4de6-acb1-d181c5ff85f6",
   "metadata": {},
   "outputs": [
    {
     "data": {
      "text/html": [
       "\n",
       "        나이: 22.0 <br/>\n",
       "        학기: 2 <br/>\n",
       "        "
      ],
      "text/plain": [
       "<__main__.s_2 at 0x1e2d1607bd0>"
      ]
     },
     "execution_count": 30,
     "metadata": {},
     "output_type": "execute_result"
    }
   ],
   "source": [
    "gc + '등록'+ '휴학' + '등록' + '휴학'"
   ]
  },
  {
   "cell_type": "markdown",
   "id": "64440469-01f7-4bae-9f90-1b889ef328e4",
   "metadata": {},
   "source": [
    "***"
   ]
  },
  {
   "cell_type": "markdown",
   "id": "53c178d0-367a-4fd0-b69b-0d1b29f941fe",
   "metadata": {},
   "source": [
    "# 깨달음 7. `__getitem__`"
   ]
  },
  {
   "cell_type": "markdown",
   "id": "37547369-db41-4c23-aa3b-d3b63e62f209",
   "metadata": {},
   "source": [
    "## motive"
   ]
  },
  {
   "cell_type": "code",
   "execution_count": 31,
   "id": "846fc6d4-300f-4554-bec0-156ae465d934",
   "metadata": {},
   "outputs": [
    {
     "data": {
      "text/plain": [
       "[1, 2, 3]"
      ]
     },
     "execution_count": 31,
     "metadata": {},
     "output_type": "execute_result"
    }
   ],
   "source": [
    "a = [1,2,3]\n",
    "a"
   ]
  },
  {
   "cell_type": "code",
   "execution_count": 32,
   "id": "1383c036-8481-4ad4-ac1a-12c4eb6e56f9",
   "metadata": {},
   "outputs": [
    {
     "data": {
      "text/plain": [
       "1"
      ]
     },
     "execution_count": 32,
     "metadata": {},
     "output_type": "execute_result"
    }
   ],
   "source": [
    "a[0]"
   ]
  },
  {
   "cell_type": "code",
   "execution_count": 33,
   "id": "125b36f3-2ca9-4827-8c27-161d56b4f8a8",
   "metadata": {},
   "outputs": [
    {
     "data": {
      "text/plain": [
       "1"
      ]
     },
     "execution_count": 33,
     "metadata": {},
     "output_type": "execute_result"
    }
   ],
   "source": [
    "a.__getitem__(0)"
   ]
  },
  {
   "cell_type": "markdown",
   "id": "577268c3-c005-49d7-b28c-b9f69a2fa61d",
   "metadata": {},
   "source": [
    "## ex1. RPS(가위바위보)"
   ]
  },
  {
   "cell_type": "code",
   "execution_count": 34,
   "id": "830b20f0-4861-4984-92fc-25531819a772",
   "metadata": {},
   "outputs": [],
   "source": [
    "class RPS:\n",
    "    def __init__(self,candidate):\n",
    "        self.candidate = candidate\n",
    "        self.actions = list() \n",
    "    def pick(self):\n",
    "        self.actions.append(np.random.choice(self.candidate))        \n",
    "    def _repr_html_(self):\n",
    "        html_str = \"\"\"\n",
    "        낼 수 있는 패: {} <br/>\n",
    "        기록: {}\n",
    "        \"\"\"        \n",
    "        return html_str.format(self.candidate,self.actions)"
   ]
  },
  {
   "cell_type": "code",
   "execution_count": 36,
   "id": "f4c54afa-1141-4ce5-8e96-c3062e48730a",
   "metadata": {},
   "outputs": [],
   "source": [
    "a = RPS([\"가위\",\"바위\",\"보\"])"
   ]
  },
  {
   "cell_type": "code",
   "execution_count": 37,
   "id": "37ae47ca-a29c-485d-9518-b02318451511",
   "metadata": {},
   "outputs": [],
   "source": [
    "a.pick()\n",
    "a.pick()"
   ]
  },
  {
   "cell_type": "code",
   "execution_count": 38,
   "id": "27b42a98-9441-409e-b186-0b747b16f201",
   "metadata": {},
   "outputs": [
    {
     "data": {
      "text/plain": [
       "['바위', '보']"
      ]
     },
     "execution_count": 38,
     "metadata": {},
     "output_type": "execute_result"
    }
   ],
   "source": [
    "a.actions"
   ]
  },
  {
   "cell_type": "code",
   "execution_count": 39,
   "id": "bd27bc9e-d8c2-4793-aee8-f3deaac6dfbd",
   "metadata": {},
   "outputs": [
    {
     "ename": "TypeError",
     "evalue": "'RPS' object is not subscriptable",
     "output_type": "error",
     "traceback": [
      "\u001b[1;31m---------------------------------------------------------------------------\u001b[0m",
      "\u001b[1;31mTypeError\u001b[0m                                 Traceback (most recent call last)",
      "Cell \u001b[1;32mIn[39], line 1\u001b[0m\n\u001b[1;32m----> 1\u001b[0m a[\u001b[38;5;241m0\u001b[39m], a[\u001b[38;5;241m1\u001b[39m]\n",
      "\u001b[1;31mTypeError\u001b[0m: 'RPS' object is not subscriptable"
     ]
    }
   ],
   "source": [
    "a[0], a[1]"
   ]
  },
  {
   "cell_type": "markdown",
   "id": "bff68bb8-7cba-4e8b-9be2-d2f3615984b5",
   "metadata": {},
   "source": [
    "`-` 위를 에러가 나지않고  리스트처럼 인덱싱 했으면 좋겠음"
   ]
  },
  {
   "cell_type": "markdown",
   "id": "0a25c829-a97f-44ce-b610-79da553c9fa8",
   "metadata": {},
   "source": [
    "## ex2. 리스트 인덱싱 기능 추가"
   ]
  },
  {
   "cell_type": "code",
   "execution_count": 40,
   "id": "1d058536-8140-4edb-b327-257f0444592a",
   "metadata": {},
   "outputs": [],
   "source": [
    "class RPS_Ver2(RPS):\n",
    "    def __getitem__(self,item):\n",
    "        return self.actions[item]"
   ]
  },
  {
   "cell_type": "code",
   "execution_count": 41,
   "id": "362c3641-fd4b-4d8e-9687-af3bb3c51088",
   "metadata": {},
   "outputs": [],
   "source": [
    "a = RPS_Ver2(['가위','바위','보'])"
   ]
  },
  {
   "cell_type": "code",
   "execution_count": 42,
   "id": "41ff4cc8-a9c3-48db-9466-c57620ea00a6",
   "metadata": {},
   "outputs": [],
   "source": [
    "a.pick()\n",
    "a.pick()\n",
    "a.pick()"
   ]
  },
  {
   "cell_type": "code",
   "execution_count": 43,
   "id": "9d445c62-d95e-462c-b283-b2f0ee2df85b",
   "metadata": {},
   "outputs": [
    {
     "data": {
      "text/html": [
       "\n",
       "        낼 수 있는 패: ['가위', '바위', '보'] <br/>\n",
       "        기록: ['가위', '가위', '가위']\n",
       "        "
      ],
      "text/plain": [
       "<__main__.RPS_Ver2 at 0x1e2d1602350>"
      ]
     },
     "execution_count": 43,
     "metadata": {},
     "output_type": "execute_result"
    }
   ],
   "source": [
    "a"
   ]
  },
  {
   "cell_type": "code",
   "execution_count": 44,
   "id": "1faf60fe-67c7-436c-89ed-23db8d31b9c4",
   "metadata": {},
   "outputs": [
    {
     "data": {
      "text/plain": [
       "'가위'"
      ]
     },
     "execution_count": 44,
     "metadata": {},
     "output_type": "execute_result"
    }
   ],
   "source": [
    "a[0]"
   ]
  },
  {
   "cell_type": "markdown",
   "id": "ca77c630-fcca-421f-b548-5f38869c0bdb",
   "metadata": {},
   "source": [
    "***"
   ]
  },
  {
   "cell_type": "markdown",
   "id": "2802f849-2014-4674-95c8-7168a027c6ec",
   "metadata": {},
   "source": [
    "# 깨달음 8. `__setitem__`"
   ]
  },
  {
   "cell_type": "markdown",
   "id": "11e5f2e9-4a69-4d84-9288-b5b9eeaf1fb1",
   "metadata": {},
   "source": [
    "## motive"
   ]
  },
  {
   "cell_type": "code",
   "execution_count": 45,
   "id": "5e36c611-6938-4220-bb2d-d57cdc9d8250",
   "metadata": {},
   "outputs": [
    {
     "data": {
      "text/html": [
       "\n",
       "        낼 수 있는 패: ['가위', '바위'] <br/>\n",
       "        기록: []\n",
       "        "
      ],
      "text/plain": [
       "<__main__.RPS_Ver2 at 0x1e2cf5d43d0>"
      ]
     },
     "execution_count": 45,
     "metadata": {},
     "output_type": "execute_result"
    }
   ],
   "source": [
    "a = RPS_Ver2(['가위','바위'])\n",
    "a"
   ]
  },
  {
   "cell_type": "code",
   "execution_count": 46,
   "id": "8a73b93c-663e-4492-96d8-f82be400a8f3",
   "metadata": {},
   "outputs": [
    {
     "data": {
      "text/html": [
       "\n",
       "        낼 수 있는 패: ['가위', '바위'] <br/>\n",
       "        기록: ['가위', '바위']\n",
       "        "
      ],
      "text/plain": [
       "<__main__.RPS_Ver2 at 0x1e2cf5d43d0>"
      ]
     },
     "execution_count": 46,
     "metadata": {},
     "output_type": "execute_result"
    }
   ],
   "source": [
    "a.pick()\n",
    "a.pick()\n",
    "a"
   ]
  },
  {
   "cell_type": "code",
   "execution_count": 47,
   "id": "ad4f7c1c-524a-40f3-b1d9-88a4712797ba",
   "metadata": {},
   "outputs": [
    {
     "data": {
      "text/plain": [
       "'가위'"
      ]
     },
     "execution_count": 47,
     "metadata": {},
     "output_type": "execute_result"
    }
   ],
   "source": [
    "a[0]"
   ]
  },
  {
   "cell_type": "code",
   "execution_count": 48,
   "id": "1338689b-c426-4c39-b2cd-b3f8900e3482",
   "metadata": {},
   "outputs": [
    {
     "ename": "TypeError",
     "evalue": "'RPS_Ver2' object does not support item assignment",
     "output_type": "error",
     "traceback": [
      "\u001b[1;31m---------------------------------------------------------------------------\u001b[0m",
      "\u001b[1;31mTypeError\u001b[0m                                 Traceback (most recent call last)",
      "Cell \u001b[1;32mIn[48], line 1\u001b[0m\n\u001b[1;32m----> 1\u001b[0m a[\u001b[38;5;241m0\u001b[39m] \u001b[38;5;241m=\u001b[39m \u001b[38;5;124m'\u001b[39m\u001b[38;5;124m보\u001b[39m\u001b[38;5;124m'\u001b[39m\n",
      "\u001b[1;31mTypeError\u001b[0m: 'RPS_Ver2' object does not support item assignment"
     ]
    }
   ],
   "source": [
    "a[0] = '보' "
   ]
  },
  {
   "cell_type": "markdown",
   "id": "ce84bcbe-1923-49f2-a83f-3687dcf78d76",
   "metadata": {},
   "source": [
    "`-` 만약 실수로 기록할 때와 같은 경우가 있을경우 위처럼 수정이 필요할 수도 있겠다."
   ]
  },
  {
   "cell_type": "markdown",
   "id": "8569ea27-cc00-4221-af15-e3b919b94ca7",
   "metadata": {},
   "source": [
    "`-` 리스트 예제 관찰"
   ]
  },
  {
   "cell_type": "code",
   "execution_count": 49,
   "id": "7064ac1f-76aa-41db-b8e7-69cb3f0e5d64",
   "metadata": {},
   "outputs": [
    {
     "data": {
      "text/plain": [
       "[1, 2]"
      ]
     },
     "execution_count": 49,
     "metadata": {},
     "output_type": "execute_result"
    }
   ],
   "source": [
    "l = [1,2]\n",
    "l"
   ]
  },
  {
   "cell_type": "code",
   "execution_count": 50,
   "id": "0b0dbc05-b74e-4ca9-9315-1326227e4f9f",
   "metadata": {},
   "outputs": [],
   "source": [
    "l[0]=2"
   ]
  },
  {
   "cell_type": "code",
   "execution_count": 51,
   "id": "367dcf00-cc11-41e0-9804-0dee2b6cffa8",
   "metadata": {},
   "outputs": [
    {
     "data": {
      "text/plain": [
       "[2, 2]"
      ]
     },
     "execution_count": 51,
     "metadata": {},
     "output_type": "execute_result"
    }
   ],
   "source": [
    "l"
   ]
  },
  {
   "cell_type": "code",
   "execution_count": 52,
   "id": "def55480-98c8-4d12-a685-f8da502b9fee",
   "metadata": {},
   "outputs": [],
   "source": [
    "l.__setitem__(0,1)"
   ]
  },
  {
   "cell_type": "code",
   "execution_count": 53,
   "id": "9ecb2268-820e-4c03-a9c9-af43dae5a65b",
   "metadata": {},
   "outputs": [
    {
     "data": {
      "text/plain": [
       "[1, 2]"
      ]
     },
     "execution_count": 53,
     "metadata": {},
     "output_type": "execute_result"
    }
   ],
   "source": [
    "l"
   ]
  },
  {
   "cell_type": "markdown",
   "id": "7bf5fa5c-df9a-4254-861f-cc5f61c87a03",
   "metadata": {},
   "source": [
    "## ex1. 값을 수정하는 메소드 구현"
   ]
  },
  {
   "cell_type": "code",
   "execution_count": 54,
   "id": "d0e7072c-cb13-4ee7-9bbe-81955b310503",
   "metadata": {},
   "outputs": [],
   "source": [
    "class RPS_Ver3(RPS_Ver2):\n",
    "    def __setitem__(self,index,val):\n",
    "        self.actions[index] = val"
   ]
  },
  {
   "cell_type": "code",
   "execution_count": 55,
   "id": "0afc2947-4ddd-4d0f-9899-e2f9d05752bf",
   "metadata": {},
   "outputs": [],
   "source": [
    "a=RPS_Ver3(['가위','바위','보'])"
   ]
  },
  {
   "cell_type": "code",
   "execution_count": 56,
   "id": "68d8ba29-f16a-4676-9dd7-69f835f7fc0e",
   "metadata": {},
   "outputs": [],
   "source": [
    "a.pick()"
   ]
  },
  {
   "cell_type": "code",
   "execution_count": 57,
   "id": "ad78e00e-78e3-46cb-ae3a-bfcd13412b1f",
   "metadata": {},
   "outputs": [
    {
     "data": {
      "text/html": [
       "\n",
       "        낼 수 있는 패: ['가위', '바위', '보'] <br/>\n",
       "        기록: ['보']\n",
       "        "
      ],
      "text/plain": [
       "<__main__.RPS_Ver3 at 0x1e2cf744250>"
      ]
     },
     "execution_count": 57,
     "metadata": {},
     "output_type": "execute_result"
    }
   ],
   "source": [
    "a"
   ]
  },
  {
   "cell_type": "code",
   "execution_count": 58,
   "id": "37773c96-b81d-43d3-a8ff-a93545911d19",
   "metadata": {},
   "outputs": [],
   "source": [
    "a[0] = \"가위\""
   ]
  },
  {
   "cell_type": "code",
   "execution_count": 59,
   "id": "a2fc0e7c-89a2-4009-9cd7-98a3c1fe27ae",
   "metadata": {},
   "outputs": [
    {
     "data": {
      "text/html": [
       "\n",
       "        낼 수 있는 패: ['가위', '바위', '보'] <br/>\n",
       "        기록: ['가위']\n",
       "        "
      ],
      "text/plain": [
       "<__main__.RPS_Ver3 at 0x1e2cf744250>"
      ]
     },
     "execution_count": 59,
     "metadata": {},
     "output_type": "execute_result"
    }
   ],
   "source": [
    "a"
   ]
  },
  {
   "cell_type": "markdown",
   "id": "0c135f02-0b30-4852-8239-299592bed7e0",
   "metadata": {},
   "source": [
    "# 깨달음 9. `__len__`"
   ]
  },
  {
   "cell_type": "markdown",
   "id": "61c50ebb-ca1d-4880-ad65-1c508ee1a71a",
   "metadata": {},
   "source": [
    "`-` RPS를 몇번이나 했는지 알고 싶은 메소드도 구현하고 싶음"
   ]
  },
  {
   "cell_type": "markdown",
   "id": "a546b10b-39d1-4c15-95b5-fda14071fa9a",
   "metadata": {},
   "source": [
    "`-` 파이썬의 `len`은 `__len__`의 축약형이다."
   ]
  },
  {
   "cell_type": "code",
   "execution_count": 60,
   "id": "0244f375-5240-4a5c-b6cb-2ed09bcce2d8",
   "metadata": {},
   "outputs": [],
   "source": [
    "class RPS_Ver4(RPS_Ver2):\n",
    "    def __len__(self):\n",
    "        return len(self.actions)"
   ]
  },
  {
   "cell_type": "code",
   "execution_count": 61,
   "id": "67a78797-a07e-4792-8eae-614e663e61f6",
   "metadata": {},
   "outputs": [
    {
     "data": {
      "text/html": [
       "\n",
       "        낼 수 있는 패: ['가위', '바위', '보'] <br/>\n",
       "        기록: []\n",
       "        "
      ],
      "text/plain": [
       "<__main__.RPS_Ver4 at 0x1e2cf653fd0>"
      ]
     },
     "execution_count": 61,
     "metadata": {},
     "output_type": "execute_result"
    }
   ],
   "source": [
    "a = RPS_Ver4(['가위','바위','보'])\n",
    "a"
   ]
  },
  {
   "cell_type": "code",
   "execution_count": 62,
   "id": "094b8bec-8c8e-4a99-895c-c63769ee4092",
   "metadata": {},
   "outputs": [],
   "source": [
    "a.pick()\n",
    "a.pick()\n",
    "a.pick()\n",
    "a.pick()"
   ]
  },
  {
   "cell_type": "code",
   "execution_count": 63,
   "id": "ad33611a-5530-4cf2-b6b9-670d83741128",
   "metadata": {},
   "outputs": [
    {
     "data": {
      "text/html": [
       "\n",
       "        낼 수 있는 패: ['가위', '바위', '보'] <br/>\n",
       "        기록: ['가위', '가위', '보', '가위']\n",
       "        "
      ],
      "text/plain": [
       "<__main__.RPS_Ver4 at 0x1e2cf653fd0>"
      ]
     },
     "execution_count": 63,
     "metadata": {},
     "output_type": "execute_result"
    }
   ],
   "source": [
    "a"
   ]
  },
  {
   "cell_type": "code",
   "execution_count": 64,
   "id": "36e42931-6a73-470f-aedd-9f45bba06b7d",
   "metadata": {},
   "outputs": [
    {
     "data": {
      "text/plain": [
       "4"
      ]
     },
     "execution_count": 64,
     "metadata": {},
     "output_type": "execute_result"
    }
   ],
   "source": [
    "len(a)"
   ]
  },
  {
   "cell_type": "markdown",
   "id": "712ba005-df08-4286-94f7-23cb021bee89",
   "metadata": {},
   "source": [
    "***"
   ]
  },
  {
   "cell_type": "markdown",
   "id": "84379f8f-7691-4300-824a-e4020fb4ab4d",
   "metadata": {},
   "source": [
    "# 깨달음 10. 비교 연산자"
   ]
  },
  {
   "cell_type": "markdown",
   "id": "550da8ff-688e-4f9c-945e-4336267af5d4",
   "metadata": {},
   "source": [
    "`-` 비교 연산자 정리"
   ]
  },
  {
   "cell_type": "markdown",
   "id": "62a1c248-a1ce-4ed3-a84c-f700518e6d00",
   "metadata": {},
   "source": [
    "|특수 메소드| 의미|\n",
    "|:---:|:---:|\n",
    "|`__eq__`|`self == other`|\n",
    "|`__gt__`|`self > other`|\n",
    "|`__lt__`|`self < other`|\n",
    "|`__ge__`|`self >= other`|\n",
    "|`__le__`|`self <= other`|"
   ]
  },
  {
   "cell_type": "markdown",
   "id": "44fd6af0-3961-4e07-b3c9-65cd3398c028",
   "metadata": {},
   "source": [
    "## motive1"
   ]
  },
  {
   "cell_type": "markdown",
   "id": "046b632e-181b-4d6e-8a1c-dc1cd337ef8d",
   "metadata": {},
   "source": [
    "* `가위===가위`이면 `True`가 나왔으면 좋겠음."
   ]
  },
  {
   "cell_type": "markdown",
   "id": "f4032726-c6c8-4545-ab72-557c4584643f",
   "metadata": {},
   "source": [
    "### 관찰 : `__eq__`"
   ]
  },
  {
   "cell_type": "code",
   "execution_count": 65,
   "id": "9d529cd1-500d-4649-b7c9-da4e1139fd63",
   "metadata": {},
   "outputs": [
    {
     "data": {
      "text/plain": [
       "1"
      ]
     },
     "execution_count": 65,
     "metadata": {},
     "output_type": "execute_result"
    }
   ],
   "source": [
    "a = 1\n",
    "a"
   ]
  },
  {
   "cell_type": "code",
   "execution_count": 66,
   "id": "e61ddb89-9835-4066-91e3-400ac6ba2eeb",
   "metadata": {},
   "outputs": [
    {
     "data": {
      "text/plain": [
       "True"
      ]
     },
     "execution_count": 66,
     "metadata": {},
     "output_type": "execute_result"
    }
   ],
   "source": [
    "a==1"
   ]
  },
  {
   "cell_type": "code",
   "execution_count": 67,
   "id": "38ad4f22-d932-4739-ae90-1e2fb60b9593",
   "metadata": {},
   "outputs": [
    {
     "data": {
      "text/plain": [
       "True"
      ]
     },
     "execution_count": 67,
     "metadata": {},
     "output_type": "execute_result"
    }
   ],
   "source": [
    "a.__eq__(1)"
   ]
  },
  {
   "cell_type": "markdown",
   "id": "70837794-9051-49cd-b2ba-5eabdb025781",
   "metadata": {},
   "source": [
    "* `a==1`은 `a.__eq__(1)`의 축약버전이다."
   ]
  },
  {
   "cell_type": "markdown",
   "id": "baba2b94-4724-4615-8e92-df4ca008ef0c",
   "metadata": {},
   "source": [
    "### 구현 : `__eq__`"
   ]
  },
  {
   "cell_type": "code",
   "execution_count": 68,
   "id": "c8a2ec04-3f52-4662-910d-9b9f10a59ba4",
   "metadata": {},
   "outputs": [],
   "source": [
    "class RPS_Ver5(RPS_Ver4):\n",
    "    def __eq__(self,other):\n",
    "        return self[-1] == other[-1]"
   ]
  },
  {
   "cell_type": "code",
   "execution_count": 69,
   "id": "5c3a44fc-d985-4c22-9b48-b7f0dc24ef25",
   "metadata": {},
   "outputs": [],
   "source": [
    "a = RPS_Ver5(['가위','바위'])\n",
    "b = RPS_Ver5(['가위','바위'])"
   ]
  },
  {
   "cell_type": "markdown",
   "id": "a41ebfca-5106-456d-9c09-e26184123da8",
   "metadata": {},
   "source": [
    "`-` 1회 대결"
   ]
  },
  {
   "cell_type": "code",
   "execution_count": 70,
   "id": "3ea72ff6-5372-44bf-b4cd-8965a9263126",
   "metadata": {},
   "outputs": [],
   "source": [
    "a.pick()\n",
    "b.pick()"
   ]
  },
  {
   "cell_type": "code",
   "execution_count": 71,
   "id": "9f465cc2-2179-42e9-b74a-ae212377c7e7",
   "metadata": {},
   "outputs": [
    {
     "data": {
      "text/html": [
       "\n",
       "        낼 수 있는 패: ['가위', '바위'] <br/>\n",
       "        기록: ['가위']\n",
       "        "
      ],
      "text/plain": [
       "<__main__.RPS_Ver5 at 0x1e2d166d050>"
      ]
     },
     "execution_count": 71,
     "metadata": {},
     "output_type": "execute_result"
    }
   ],
   "source": [
    "a"
   ]
  },
  {
   "cell_type": "code",
   "execution_count": 72,
   "id": "619aca35-a4c4-4fd3-b533-1865dbe1e94c",
   "metadata": {},
   "outputs": [
    {
     "data": {
      "text/html": [
       "\n",
       "        낼 수 있는 패: ['가위', '바위'] <br/>\n",
       "        기록: ['바위']\n",
       "        "
      ],
      "text/plain": [
       "<__main__.RPS_Ver5 at 0x1e2d11c8fd0>"
      ]
     },
     "execution_count": 72,
     "metadata": {},
     "output_type": "execute_result"
    }
   ],
   "source": [
    "b"
   ]
  },
  {
   "cell_type": "code",
   "execution_count": 73,
   "id": "0dbc3fa6-421a-4797-8c02-5c3934414985",
   "metadata": {},
   "outputs": [
    {
     "data": {
      "text/plain": [
       "False"
      ]
     },
     "execution_count": 73,
     "metadata": {},
     "output_type": "execute_result"
    }
   ],
   "source": [
    "a == b"
   ]
  },
  {
   "cell_type": "markdown",
   "id": "a458a585-a56c-4c76-8494-00b3620b077b",
   "metadata": {},
   "source": [
    "`-` 2회 대결"
   ]
  },
  {
   "cell_type": "code",
   "execution_count": 74,
   "id": "44633d22-8827-4136-b69b-5c19f77db807",
   "metadata": {},
   "outputs": [],
   "source": [
    "a.pick()\n",
    "b.pick()"
   ]
  },
  {
   "cell_type": "code",
   "execution_count": 75,
   "id": "5c5418ff-ac1e-42fe-822a-31098f4408de",
   "metadata": {},
   "outputs": [
    {
     "data": {
      "text/plain": [
       "False"
      ]
     },
     "execution_count": 75,
     "metadata": {},
     "output_type": "execute_result"
    }
   ],
   "source": [
    "a == b"
   ]
  },
  {
   "cell_type": "markdown",
   "id": "41ef6384-412a-4c17-a008-f868781f92a8",
   "metadata": {},
   "source": [
    "`-` 3회 대결"
   ]
  },
  {
   "cell_type": "code",
   "execution_count": 76,
   "id": "8d540432-6d3a-4284-96a4-e16a0e9ec713",
   "metadata": {},
   "outputs": [],
   "source": [
    "a.pick()\n",
    "b.pick()"
   ]
  },
  {
   "cell_type": "code",
   "execution_count": 77,
   "id": "bc660ee3-b1ce-45eb-8b0a-343c03dbfd93",
   "metadata": {},
   "outputs": [
    {
     "data": {
      "text/plain": [
       "True"
      ]
     },
     "execution_count": 77,
     "metadata": {},
     "output_type": "execute_result"
    }
   ],
   "source": [
    "a == b"
   ]
  },
  {
   "cell_type": "markdown",
   "id": "c3d27363-fbe4-493d-9bf4-a7b0aab2c90e",
   "metadata": {},
   "source": [
    "## motive2"
   ]
  },
  {
   "cell_type": "code",
   "execution_count": 80,
   "id": "cbdc0909-13dc-450f-9200-cc73eb6abd2c",
   "metadata": {},
   "outputs": [
    {
     "data": {
      "text/plain": [
       "('가위', '가위')"
      ]
     },
     "execution_count": 80,
     "metadata": {},
     "output_type": "execute_result"
    }
   ],
   "source": [
    "a[-1], b[-1]"
   ]
  },
  {
   "cell_type": "code",
   "execution_count": 81,
   "id": "bacd55c4-7eb2-4515-ade9-65aa4ba6e065",
   "metadata": {},
   "outputs": [
    {
     "ename": "TypeError",
     "evalue": "'>' not supported between instances of 'RPS_Ver5' and 'RPS_Ver5'",
     "output_type": "error",
     "traceback": [
      "\u001b[1;31m---------------------------------------------------------------------------\u001b[0m",
      "\u001b[1;31mTypeError\u001b[0m                                 Traceback (most recent call last)",
      "Cell \u001b[1;32mIn[81], line 1\u001b[0m\n\u001b[1;32m----> 1\u001b[0m a \u001b[38;5;241m>\u001b[39m b\n",
      "\u001b[1;31mTypeError\u001b[0m: '>' not supported between instances of 'RPS_Ver5' and 'RPS_Ver5'"
     ]
    }
   ],
   "source": [
    "a > b"
   ]
  },
  {
   "cell_type": "markdown",
   "id": "f2f90bf4-c1ba-4a91-8958-3ba4f613dbea",
   "metadata": {},
   "source": [
    "`-` 목표 : `False`가 나왔으면 좋겠음"
   ]
  },
  {
   "cell_type": "markdown",
   "id": "d780868e-2df4-4bd8-941a-3133dd9b442d",
   "metadata": {},
   "source": [
    "### 관찰 : `__gt__`"
   ]
  },
  {
   "cell_type": "code",
   "execution_count": 90,
   "id": "7900cf0a-5e94-4714-9497-ce8c9e0689ab",
   "metadata": {},
   "outputs": [],
   "source": [
    "a = 1\n",
    "b = 2"
   ]
  },
  {
   "cell_type": "code",
   "execution_count": 92,
   "id": "793caf49-481a-45dc-9057-8210e011a21e",
   "metadata": {},
   "outputs": [
    {
     "data": {
      "text/plain": [
       "(False, False, True, True)"
      ]
     },
     "execution_count": 92,
     "metadata": {},
     "output_type": "execute_result"
    }
   ],
   "source": [
    "a>1, a.__gt__(1), b>1, b.__gt__(1)"
   ]
  },
  {
   "cell_type": "code",
   "execution_count": 93,
   "id": "e92ee3d6-fa8b-47e9-b27a-19c533706428",
   "metadata": {},
   "outputs": [
    {
     "data": {
      "text/plain": [
       "False"
      ]
     },
     "execution_count": 93,
     "metadata": {},
     "output_type": "execute_result"
    }
   ],
   "source": [
    "a.__gt__(1)"
   ]
  },
  {
   "cell_type": "markdown",
   "id": "c64d938f-d202-4608-8064-c8b28fb9ef9b",
   "metadata": {},
   "source": [
    "### 예비학습"
   ]
  },
  {
   "cell_type": "code",
   "execution_count": 96,
   "id": "7667a9d5-1f10-4b80-aaca-21d773852b9a",
   "metadata": {},
   "outputs": [],
   "source": [
    "a = RPS_Ver5(['가위','바위'])\n",
    "b = RPS_Ver5(['가위','바위'])"
   ]
  },
  {
   "cell_type": "code",
   "execution_count": 97,
   "id": "96cc5d6d-930c-4e5b-a58c-d340c058b21d",
   "metadata": {},
   "outputs": [],
   "source": [
    "for i in range(3) :\n",
    "    a.pick()\n",
    "    b.pick()"
   ]
  },
  {
   "cell_type": "code",
   "execution_count": 102,
   "id": "c3caad9a-0418-4d91-bb1b-7898e796a349",
   "metadata": {},
   "outputs": [
    {
     "data": {
      "text/html": [
       "\n",
       "        낼 수 있는 패: ['가위', '바위'] <br/>\n",
       "        기록: ['가위', '바위', '바위']\n",
       "        "
      ],
      "text/plain": [
       "<__main__.RPS_Ver5 at 0x1e2cf681010>"
      ]
     },
     "execution_count": 102,
     "metadata": {},
     "output_type": "execute_result"
    }
   ],
   "source": [
    "a"
   ]
  },
  {
   "cell_type": "code",
   "execution_count": 103,
   "id": "f5de3bbc-6464-48c3-84c3-bec01c322d29",
   "metadata": {},
   "outputs": [
    {
     "data": {
      "text/html": [
       "\n",
       "        낼 수 있는 패: ['가위', '바위'] <br/>\n",
       "        기록: ['가위', '가위', '바위']\n",
       "        "
      ],
      "text/plain": [
       "<__main__.RPS_Ver5 at 0x1e2ceec4950>"
      ]
     },
     "execution_count": 103,
     "metadata": {},
     "output_type": "execute_result"
    }
   ],
   "source": [
    "b"
   ]
  },
  {
   "cell_type": "code",
   "execution_count": 110,
   "id": "6e42547e-ecae-4289-b492-4dab70a21ad9",
   "metadata": {},
   "outputs": [
    {
     "data": {
      "text/plain": [
       "('바위', '바위')"
      ]
     },
     "execution_count": 110,
     "metadata": {},
     "output_type": "execute_result"
    }
   ],
   "source": [
    "a[-1], b[-1]"
   ]
  },
  {
   "cell_type": "markdown",
   "id": "d51a5d0b-ece8-4c57-86f2-d90e197ddfba",
   "metadata": {},
   "source": [
    "`-` 이기는 요소를 각 리스트 원소에 왼쪽에 배치"
   ]
  },
  {
   "cell_type": "code",
   "execution_count": 111,
   "id": "3dfb0e7a-0b52-465b-825c-2665672683a2",
   "metadata": {},
   "outputs": [
    {
     "data": {
      "text/plain": [
       "False"
      ]
     },
     "execution_count": 111,
     "metadata": {},
     "output_type": "execute_result"
    }
   ],
   "source": [
    "[a[-1],b[-1]] in [['가위','보'],['바위','가위'],['보','바위']]"
   ]
  },
  {
   "cell_type": "markdown",
   "id": "b760ec5b-9ce5-49f1-9254-abf84fc098e5",
   "metadata": {},
   "source": [
    "### 구현 : `__gt__`"
   ]
  },
  {
   "cell_type": "code",
   "execution_count": 113,
   "id": "96045649-bd36-4921-a6d9-0db727239540",
   "metadata": {},
   "outputs": [],
   "source": [
    "class RPS_Ver6(RPS_Ver5):\n",
    "    def __gt__(self,other):\n",
    "        return [self[-1],other[-1]] in [['가위','보'],['바위','가위'],['보','바위']]"
   ]
  },
  {
   "cell_type": "code",
   "execution_count": 116,
   "id": "07a1731e-c791-4292-9fb7-8f7c0335a088",
   "metadata": {},
   "outputs": [],
   "source": [
    "a = RPS_Ver6(['가위','바위','보'])\n",
    "b = RPS_Ver6(['가위','바위','보'])"
   ]
  },
  {
   "cell_type": "markdown",
   "id": "1082998a-1189-4395-b39f-54e647f6d1ce",
   "metadata": {},
   "source": [
    "`-` 1회 대결"
   ]
  },
  {
   "cell_type": "code",
   "execution_count": 117,
   "id": "3e7180f6-96b1-4716-903d-ead8e7e923aa",
   "metadata": {},
   "outputs": [],
   "source": [
    "a.pick()\n",
    "b.pick()"
   ]
  },
  {
   "cell_type": "code",
   "execution_count": 121,
   "id": "7987f957-9c3f-44ae-8383-82ca57d2f649",
   "metadata": {},
   "outputs": [
    {
     "data": {
      "text/plain": [
       "('바위', '가위')"
      ]
     },
     "execution_count": 121,
     "metadata": {},
     "output_type": "execute_result"
    }
   ],
   "source": [
    "a[-1],b[-1]"
   ]
  },
  {
   "cell_type": "code",
   "execution_count": 123,
   "id": "680ab492-8b9e-4c25-8c0b-3d317cf13ba1",
   "metadata": {},
   "outputs": [
    {
     "data": {
      "text/plain": [
       "True"
      ]
     },
     "execution_count": 123,
     "metadata": {},
     "output_type": "execute_result"
    }
   ],
   "source": [
    "a>b"
   ]
  },
  {
   "cell_type": "markdown",
   "id": "1f884b6b-2fa3-4f3c-96e4-8dd1d2adeab3",
   "metadata": {},
   "source": [
    "`-` 2회 대결"
   ]
  },
  {
   "cell_type": "code",
   "execution_count": 124,
   "id": "ae6f77ab-0bc7-4247-b142-bbb03675b506",
   "metadata": {},
   "outputs": [],
   "source": [
    "a.pick()\n",
    "b.pick()"
   ]
  },
  {
   "cell_type": "code",
   "execution_count": 125,
   "id": "e9bf9bba-3874-4641-908a-d57cf1ff295e",
   "metadata": {},
   "outputs": [
    {
     "data": {
      "text/plain": [
       "('바위', '바위')"
      ]
     },
     "execution_count": 125,
     "metadata": {},
     "output_type": "execute_result"
    }
   ],
   "source": [
    "a[-1],b[-1]"
   ]
  },
  {
   "cell_type": "code",
   "execution_count": 126,
   "id": "dbf02d92-571b-43b5-a7ce-ba39478e2390",
   "metadata": {},
   "outputs": [
    {
     "data": {
      "text/plain": [
       "False"
      ]
     },
     "execution_count": 126,
     "metadata": {},
     "output_type": "execute_result"
    }
   ],
   "source": [
    "a>b"
   ]
  },
  {
   "cell_type": "markdown",
   "id": "606de161-8c16-40d2-9536-f71bebc4350b",
   "metadata": {},
   "source": [
    "## motive3"
   ]
  },
  {
   "cell_type": "code",
   "execution_count": 127,
   "id": "ba7db5c5-713f-4183-97b0-011b858896c5",
   "metadata": {},
   "outputs": [
    {
     "data": {
      "text/html": [
       "\n",
       "        낼 수 있는 패: ['가위', '바위', '보'] <br/>\n",
       "        기록: ['바위', '바위']\n",
       "        "
      ],
      "text/plain": [
       "<__main__.RPS_Ver6 at 0x1e2d1691010>"
      ]
     },
     "execution_count": 127,
     "metadata": {},
     "output_type": "execute_result"
    }
   ],
   "source": [
    "a"
   ]
  },
  {
   "cell_type": "code",
   "execution_count": 129,
   "id": "9f56d8f9-a1b1-4d61-8627-bef28f284f03",
   "metadata": {},
   "outputs": [
    {
     "data": {
      "text/html": [
       "\n",
       "        낼 수 있는 패: ['가위', '바위', '보'] <br/>\n",
       "        기록: ['가위', '바위']\n",
       "        "
      ],
      "text/plain": [
       "<__main__.RPS_Ver6 at 0x1e2d1693a50>"
      ]
     },
     "execution_count": 129,
     "metadata": {},
     "output_type": "execute_result"
    }
   ],
   "source": [
    "b"
   ]
  },
  {
   "cell_type": "markdown",
   "id": "a8bcac3b-ab84-42b8-aab0-c48f23605fbc",
   "metadata": {},
   "source": [
    "`-` True로 나왔으면 좋겠음"
   ]
  },
  {
   "cell_type": "code",
   "execution_count": 130,
   "id": "acdac3ba-cf77-42e9-a0ad-60085654b248",
   "metadata": {},
   "outputs": [
    {
     "ename": "TypeError",
     "evalue": "'>=' not supported between instances of 'RPS_Ver6' and 'RPS_Ver6'",
     "output_type": "error",
     "traceback": [
      "\u001b[1;31m---------------------------------------------------------------------------\u001b[0m",
      "\u001b[1;31mTypeError\u001b[0m                                 Traceback (most recent call last)",
      "Cell \u001b[1;32mIn[130], line 1\u001b[0m\n\u001b[1;32m----> 1\u001b[0m a\u001b[38;5;241m>\u001b[39m\u001b[38;5;241m=\u001b[39mb\n",
      "\u001b[1;31mTypeError\u001b[0m: '>=' not supported between instances of 'RPS_Ver6' and 'RPS_Ver6'"
     ]
    }
   ],
   "source": [
    "a>=b"
   ]
  },
  {
   "cell_type": "markdown",
   "id": "c0fc1024-81c1-4609-bf69-6cf6de4543f5",
   "metadata": {},
   "source": [
    "### 구현"
   ]
  },
  {
   "cell_type": "markdown",
   "id": "480fb2df-f5f4-42b5-a4e8-8f54c05887b5",
   "metadata": {},
   "source": [
    "`-` 비교 연산자 정리"
   ]
  },
  {
   "cell_type": "markdown",
   "id": "bc1081c9-5020-4880-9bb6-b587a409f7ae",
   "metadata": {},
   "source": [
    "|특수 메소드| 의미|\n",
    "|:---:|:---:|\n",
    "|`__eq__`|`self == other`|\n",
    "|`__gt__`|`self > other`|\n",
    "|`__lt__`|`self < other`|\n",
    "|`__ge__`|`self >= other`|\n",
    "|`__le__`|`self <= other`|"
   ]
  },
  {
   "cell_type": "code",
   "execution_count": 131,
   "id": "9c245938-a81a-4566-ae57-19770a6683bb",
   "metadata": {},
   "outputs": [],
   "source": [
    "class RPS_Ver7(RPS_Ver6):\n",
    "    def __ge__(self,other):\n",
    "        return (self == other) or (self > other)\n",
    "    def __lt__(self,other):\n",
    "        return not (self >= other)\n",
    "    def __le__(self,other):\n",
    "        return (self == other) or (self < other)"
   ]
  },
  {
   "cell_type": "code",
   "execution_count": 132,
   "id": "56f0200e-7dd3-4b37-83f8-4937594005c0",
   "metadata": {},
   "outputs": [],
   "source": [
    "a = RPS_Ver7(['가위','바위','보'])\n",
    "b = RPS_Ver7(['가위','바위','보'])"
   ]
  },
  {
   "cell_type": "code",
   "execution_count": 133,
   "id": "34dca316-a29f-46fc-98b2-4cc69f372a18",
   "metadata": {},
   "outputs": [],
   "source": [
    "a.pick()\n",
    "b.pick()"
   ]
  },
  {
   "cell_type": "code",
   "execution_count": 134,
   "id": "b859cc3d-4612-4206-8910-a423c5495f65",
   "metadata": {},
   "outputs": [
    {
     "data": {
      "text/html": [
       "\n",
       "        낼 수 있는 패: ['가위', '바위', '보'] <br/>\n",
       "        기록: ['가위']\n",
       "        "
      ],
      "text/plain": [
       "<__main__.RPS_Ver7 at 0x1e2d1686090>"
      ]
     },
     "execution_count": 134,
     "metadata": {},
     "output_type": "execute_result"
    }
   ],
   "source": [
    "a"
   ]
  },
  {
   "cell_type": "code",
   "execution_count": 135,
   "id": "8c3d0082-d658-4581-a904-6d1b66b552e7",
   "metadata": {},
   "outputs": [
    {
     "data": {
      "text/html": [
       "\n",
       "        낼 수 있는 패: ['가위', '바위', '보'] <br/>\n",
       "        기록: ['가위']\n",
       "        "
      ],
      "text/plain": [
       "<__main__.RPS_Ver7 at 0x1e2af63c710>"
      ]
     },
     "execution_count": 135,
     "metadata": {},
     "output_type": "execute_result"
    }
   ],
   "source": [
    "b"
   ]
  },
  {
   "cell_type": "code",
   "execution_count": 136,
   "id": "c19139a2-c313-41e6-97ef-a2ed00a9f102",
   "metadata": {},
   "outputs": [
    {
     "data": {
      "text/plain": [
       "(True, False, False, True, True)"
      ]
     },
     "execution_count": 136,
     "metadata": {},
     "output_type": "execute_result"
    }
   ],
   "source": [
    "a==b, a>b, a<b, a>=b, a<=b "
   ]
  },
  {
   "cell_type": "markdown",
   "id": "fbef02ca-a164-4e37-b7c9-3131cff099dd",
   "metadata": {},
   "source": [
    "# 깨달음 11. `__call__` ($\\star\\star\\star$)"
   ]
  },
  {
   "cell_type": "markdown",
   "id": "34cbe456-c960-49c9-a7a1-c36dfdca4dbe",
   "metadata": {},
   "source": [
    "## 함수"
   ]
  },
  {
   "cell_type": "code",
   "execution_count": 137,
   "id": "1d91ba25-1aff-41b2-b712-6fd44be16a22",
   "metadata": {},
   "outputs": [],
   "source": [
    "def f() :\n",
    "    return \"test\""
   ]
  },
  {
   "cell_type": "code",
   "execution_count": 139,
   "id": "13965b88-b3c6-463d-9b51-c46d484cb1d7",
   "metadata": {},
   "outputs": [
    {
     "data": {
      "text/plain": [
       "'test'"
      ]
     },
     "execution_count": 139,
     "metadata": {},
     "output_type": "execute_result"
    }
   ],
   "source": [
    "f()"
   ]
  },
  {
   "cell_type": "code",
   "execution_count": 141,
   "id": "d9b36b44-c122-4f36-9a0c-a659644dfe70",
   "metadata": {},
   "outputs": [
    {
     "data": {
      "text/plain": [
       "\u001b[1;31mSignature:\u001b[0m \u001b[0mf\u001b[0m\u001b[1;33m(\u001b[0m\u001b[1;33m)\u001b[0m\u001b[1;33m\u001b[0m\u001b[1;33m\u001b[0m\u001b[0m\n",
       "\u001b[1;31mDocstring:\u001b[0m <no docstring>\n",
       "\u001b[1;31mFile:\u001b[0m      c:\\users\\user\\appdata\\local\\temp\\ipykernel_12160\\3092864090.py\n",
       "\u001b[1;31mType:\u001b[0m      function"
      ]
     },
     "metadata": {},
     "output_type": "display_data"
    }
   ],
   "source": [
    "?f"
   ]
  },
  {
   "cell_type": "markdown",
   "id": "610d206c-688d-49ee-a31a-12649ed712bc",
   "metadata": {},
   "source": [
    "`-` 함수 f의 type은 `function`이다."
   ]
  },
  {
   "cell_type": "markdown",
   "id": "1b9b3d36-001c-470a-b0ad-0216254f6ae9",
   "metadata": {},
   "source": [
    "`-` 즉, 우리가 만든 f는 `function`이라는 클래스의 오브젝트에 불과하다."
   ]
  },
  {
   "cell_type": "markdown",
   "id": "c06b2046-cf50-4bc4-9997-a1996467dee9",
   "metadata": {},
   "source": [
    "## ex1)  $(x-a)^2$"
   ]
  },
  {
   "cell_type": "markdown",
   "id": "050b5788-474b-4934-b280-295fab90125e",
   "metadata": {},
   "source": [
    "### 풀이 1. 중첩"
   ]
  },
  {
   "cell_type": "code",
   "execution_count": 142,
   "id": "c82bc45a-9d3e-4420-9933-a00de64bbb52",
   "metadata": {},
   "outputs": [],
   "source": [
    "def f(a) :\n",
    "    def _f(x) :\n",
    "        return (x-a)**2\n",
    "    return _f"
   ]
  },
  {
   "cell_type": "code",
   "execution_count": 149,
   "id": "d813c9e7-c9f5-4b6c-988f-d8d0fc01ed21",
   "metadata": {},
   "outputs": [],
   "source": [
    "g = f(10)"
   ]
  },
  {
   "cell_type": "code",
   "execution_count": 150,
   "id": "7b92af4b-4208-4e64-8ad1-015fb040b584",
   "metadata": {},
   "outputs": [
    {
     "data": {
      "text/plain": [
       "64"
      ]
     },
     "execution_count": 150,
     "metadata": {},
     "output_type": "execute_result"
    }
   ],
   "source": [
    "g(2)"
   ]
  },
  {
   "cell_type": "markdown",
   "id": "154bfb8f-598e-4565-a575-9cde04a13ea9",
   "metadata": {},
   "source": [
    "### 풀이 2. lambda"
   ]
  },
  {
   "cell_type": "code",
   "execution_count": 152,
   "id": "d18a5c84-318e-4ce0-9548-21509848a0ad",
   "metadata": {},
   "outputs": [],
   "source": [
    "def f(a) :\n",
    "    _f = lambda x : (x-a)**2\n",
    "    return _f"
   ]
  },
  {
   "cell_type": "code",
   "execution_count": 153,
   "id": "62dd3f5c-ff92-4ef9-bcf8-1736624fe763",
   "metadata": {},
   "outputs": [],
   "source": [
    "g = f(10)"
   ]
  },
  {
   "cell_type": "code",
   "execution_count": 155,
   "id": "96cdbe4c-d6cf-4ad7-a5e3-286b9d22e80e",
   "metadata": {},
   "outputs": [
    {
     "data": {
      "text/plain": [
       "64"
      ]
     },
     "execution_count": 155,
     "metadata": {},
     "output_type": "execute_result"
    }
   ],
   "source": [
    "g(2)"
   ]
  },
  {
   "cell_type": "markdown",
   "id": "833df291-d071-4836-a60d-fe4437434d02",
   "metadata": {},
   "source": [
    "## ex2) $f\\prime(x)$"
   ]
  },
  {
   "cell_type": "markdown",
   "id": "545e87c2-c21e-40fb-ae4c-473a061eeffd",
   "metadata": {},
   "source": [
    "### 풀이 1. 기본 함수"
   ]
  },
  {
   "cell_type": "code",
   "execution_count": 195,
   "id": "5b78259c-deb3-498c-89d7-f4909696691b",
   "metadata": {},
   "outputs": [],
   "source": [
    "def f(x): \n",
    "    return x**2 "
   ]
  },
  {
   "cell_type": "code",
   "execution_count": 198,
   "id": "e1c60aa1-2497-4bce-bbda-d2c29cb0d310",
   "metadata": {},
   "outputs": [],
   "source": [
    "def d(f,x): \n",
    "    h=0.000000000001\n",
    "    return (f(x+h)-f(x))/h "
   ]
  },
  {
   "cell_type": "code",
   "execution_count": 197,
   "id": "02815de3-a0b0-4e0a-aaa4-92672f2dfe32",
   "metadata": {},
   "outputs": [
    {
     "data": {
      "text/plain": [
       "8.000711204658728"
      ]
     },
     "execution_count": 197,
     "metadata": {},
     "output_type": "execute_result"
    }
   ],
   "source": [
    "d(f,4) # f'(4) = 2*4 = 8"
   ]
  },
  {
   "cell_type": "markdown",
   "id": "2bdce056-0a04-4fa5-9ef0-903ddc189c49",
   "metadata": {},
   "source": [
    "### 풀이 2. 함수 중첩"
   ]
  },
  {
   "cell_type": "code",
   "execution_count": 201,
   "id": "98b7a7a0-ea8e-4536-806a-67b48b854e9e",
   "metadata": {},
   "outputs": [],
   "source": [
    "def f(x): \n",
    "    return x**2 "
   ]
  },
  {
   "cell_type": "code",
   "execution_count": 200,
   "id": "07eafc60-bb03-4897-89d0-1bce6d79a3da",
   "metadata": {},
   "outputs": [],
   "source": [
    "def d(f): \n",
    "    def df(x):  \n",
    "        h=0.000000000001\n",
    "        return (f(x+h)-f(x))/h \n",
    "    return df"
   ]
  },
  {
   "cell_type": "code",
   "execution_count": 202,
   "id": "ff351274-5abd-4bc4-8b3b-6c08cfdbcecd",
   "metadata": {},
   "outputs": [],
   "source": [
    "ff = d(f)"
   ]
  },
  {
   "cell_type": "code",
   "execution_count": 204,
   "id": "596dc11f-edcf-4327-bb90-d4bf35a82067",
   "metadata": {},
   "outputs": [
    {
     "data": {
      "text/plain": [
       "8.000711204658728"
      ]
     },
     "execution_count": 204,
     "metadata": {},
     "output_type": "execute_result"
    }
   ],
   "source": [
    "ff(4)"
   ]
  },
  {
   "cell_type": "markdown",
   "id": "3447ac0b-b1f8-4c22-b0cb-f89d0e158cdc",
   "metadata": {},
   "source": [
    "### 풀이3. lambda"
   ]
  },
  {
   "cell_type": "code",
   "execution_count": 228,
   "id": "95d72ae7-30fd-4346-9ce9-c827ca135531",
   "metadata": {},
   "outputs": [],
   "source": [
    "def f(x): \n",
    "    return x**2 "
   ]
  },
  {
   "cell_type": "code",
   "execution_count": 237,
   "id": "9ee900c3-6540-4721-bd95-cc14f0a8f4e6",
   "metadata": {},
   "outputs": [],
   "source": [
    "def dl(f) :\n",
    "    h=0.000000000001\n",
    "    return lambda x :  (f(x+h)-f(x))/h"
   ]
  },
  {
   "cell_type": "code",
   "execution_count": 238,
   "id": "c6c2b0e2-e8bf-47a1-ab94-71a5b18c3733",
   "metadata": {},
   "outputs": [],
   "source": [
    "dd = dl(f)"
   ]
  },
  {
   "cell_type": "code",
   "execution_count": 239,
   "id": "72628847-ed51-46d4-b841-8811d7f5476f",
   "metadata": {},
   "outputs": [
    {
     "data": {
      "text/plain": [
       "8.000711204658728"
      ]
     },
     "execution_count": 239,
     "metadata": {},
     "output_type": "execute_result"
    }
   ],
   "source": [
    "dd(4)"
   ]
  },
  {
   "cell_type": "markdown",
   "id": "326f1136-dc88-471d-a087-8043d828a673",
   "metadata": {},
   "source": [
    "### 시각화"
   ]
  },
  {
   "cell_type": "code",
   "execution_count": 209,
   "id": "e56062f4-2210-4254-aa13-86a20b67d800",
   "metadata": {},
   "outputs": [],
   "source": [
    "x = np.linspace(-1,1,100)"
   ]
  },
  {
   "cell_type": "code",
   "execution_count": 220,
   "id": "5bbca353-33cf-4efe-ad13-fd6a1f1fc7f3",
   "metadata": {},
   "outputs": [
    {
     "data": {
      "text/plain": [
       "<matplotlib.legend.Legend at 0x1e2d16cbdd0>"
      ]
     },
     "execution_count": 220,
     "metadata": {},
     "output_type": "execute_result"
    },
    {
     "data": {
      "image/png": "[encoded data removed]",
      "text/plain": [
       "<Figure size 640x480 with 1 Axes>"
      ]
     },
     "metadata": {},
     "output_type": "display_data"
    }
   ],
   "source": [
    "plt.plot(x,f(x),label = r\"$f(x)=x^2$\")\n",
    "plt.plot(x,ff(x),label = r\"$f^{\\,\\prime}(x)=2x$\")\n",
    "plt.legend()"
   ]
  },
  {
   "cell_type": "markdown",
   "id": "037c762e-b589-4547-8f54-ca39a837d541",
   "metadata": {},
   "source": [
    "## ex3) 함수들의 리스트"
   ]
  },
  {
   "cell_type": "code",
   "execution_count": 276,
   "id": "dda1b2d5-f5ac-493c-b4d7-06dc1351331b",
   "metadata": {},
   "outputs": [
    {
     "data": {
      "text/plain": [
       "[<function __main__.<lambda>(x)>,\n",
       " <function __main__.<lambda>(x)>,\n",
       " <function __main__.<lambda>(x)>]"
      ]
     },
     "execution_count": 276,
     "metadata": {},
     "output_type": "execute_result"
    }
   ],
   "source": [
    "flst = [lambda x: x, lambda x: x**2, lambda x: x**3] \n",
    "flst"
   ]
  },
  {
   "cell_type": "code",
   "execution_count": 278,
   "id": "ae964304-0d80-4e2e-acfb-5c0361c31abe",
   "metadata": {},
   "outputs": [
    {
     "name": "stdout",
     "output_type": "stream",
     "text": [
      "2\n",
      "4\n",
      "8\n"
     ]
    }
   ],
   "source": [
    "for f in flst : \n",
    "    print(f(2))"
   ]
  },
  {
   "cell_type": "code",
   "execution_count": 294,
   "id": "847cc6de-f413-4019-8065-379efe7fca69",
   "metadata": {},
   "outputs": [
    {
     "data": {
      "image/png": "[encoded data removed]",
      "text/plain": [
       "<Figure size 640x480 with 1 Axes>"
      ]
     },
     "metadata": {},
     "output_type": "display_data"
    }
   ],
   "source": [
    "for f in flst : \n",
    "    plt.plot(x,f(x),\"--\")"
   ]
  },
  {
   "cell_type": "markdown",
   "id": "8da5a3d4-704e-4da9-bf4e-9037cd616328",
   "metadata": {},
   "source": [
    "## `__call__`"
   ]
  },
  {
   "cell_type": "code",
   "execution_count": 298,
   "id": "859a944f-128a-4846-8ef0-9a1293679605",
   "metadata": {},
   "outputs": [],
   "source": [
    "f = lambda x : x+1"
   ]
  },
  {
   "cell_type": "code",
   "execution_count": 299,
   "id": "01eff55b-23f6-44ac-bbbf-a551c0adaa7d",
   "metadata": {},
   "outputs": [
    {
     "data": {
      "text/plain": [
       "4"
      ]
     },
     "execution_count": 299,
     "metadata": {},
     "output_type": "execute_result"
    }
   ],
   "source": [
    "f(3)"
   ]
  },
  {
   "cell_type": "code",
   "execution_count": 300,
   "id": "a6478296-9c6f-4324-9fd7-9d97a2f6dedd",
   "metadata": {},
   "outputs": [
    {
     "data": {
      "text/plain": [
       "4"
      ]
     },
     "execution_count": 300,
     "metadata": {},
     "output_type": "execute_result"
    }
   ],
   "source": [
    "f.__call__(3)"
   ]
  },
  {
   "cell_type": "markdown",
   "id": "e80e6f73-80fe-4298-9f74-aa1714e62813",
   "metadata": {},
   "source": [
    "* `f(3)`은 `f__call__(3)`의 축약버전이다."
   ]
  },
  {
   "cell_type": "markdown",
   "id": "a67c9076-5e4b-4777-a664-63acf4878977",
   "metadata": {},
   "source": [
    "### 관찰"
   ]
  },
  {
   "cell_type": "markdown",
   "id": "5d60027d-b355-4b0d-aa78-b88071666838",
   "metadata": {},
   "source": [
    "`-` 함수처럼 쓸 수없는 인스턴스는 단지 `__call__`이 없을뿐이다. $\\to$ 'A' object is not callable"
   ]
  },
  {
   "cell_type": "code",
   "execution_count": 302,
   "id": "07f3804f-45d8-4f4b-90a0-846ed8ea8f09",
   "metadata": {},
   "outputs": [],
   "source": [
    "class A():\n",
    "    def __init__(self) :\n",
    "        self.n = \"강철\""
   ]
  },
  {
   "cell_type": "code",
   "execution_count": 304,
   "id": "f373f70b-1473-4dda-8c31-6e7a7607e44d",
   "metadata": {},
   "outputs": [],
   "source": [
    "a = A()"
   ]
  },
  {
   "cell_type": "code",
   "execution_count": 305,
   "id": "9dca534d-55b6-4db4-9ca9-bb9aab7a1d93",
   "metadata": {},
   "outputs": [
    {
     "ename": "TypeError",
     "evalue": "'A' object is not callable",
     "output_type": "error",
     "traceback": [
      "\u001b[1;31m---------------------------------------------------------------------------\u001b[0m",
      "\u001b[1;31mTypeError\u001b[0m                                 Traceback (most recent call last)",
      "Cell \u001b[1;32mIn[305], line 1\u001b[0m\n\u001b[1;32m----> 1\u001b[0m a()\n",
      "\u001b[1;31mTypeError\u001b[0m: 'A' object is not callable"
     ]
    }
   ],
   "source": [
    "a()"
   ]
  },
  {
   "cell_type": "markdown",
   "id": "60977241-be73-4434-a429-1489846d31d0",
   "metadata": {},
   "source": [
    "`-` 위 코드 수정"
   ]
  },
  {
   "cell_type": "code",
   "execution_count": 306,
   "id": "f6f281cb-7b2d-4572-9017-6ae78ab89de2",
   "metadata": {},
   "outputs": [],
   "source": [
    "class A2(A):\n",
    "    def __call__(self) :\n",
    "        print(self.n)"
   ]
  },
  {
   "cell_type": "code",
   "execution_count": 307,
   "id": "65e73dd0-e8d7-4ef9-923b-341431463fb3",
   "metadata": {},
   "outputs": [],
   "source": [
    "a = A2()"
   ]
  },
  {
   "cell_type": "code",
   "execution_count": 308,
   "id": "08db6090-175a-49ca-b316-e3284f319f2c",
   "metadata": {},
   "outputs": [
    {
     "name": "stdout",
     "output_type": "stream",
     "text": [
      "강철\n"
     ]
    }
   ],
   "source": [
    "a()"
   ]
  },
  {
   "cell_type": "markdown",
   "id": "478e4570-84e2-4555-a44f-87d2e069ff20",
   "metadata": {},
   "source": [
    "## 구현 : self.상수 + 상수"
   ]
  },
  {
   "cell_type": "code",
   "execution_count": 309,
   "id": "9fce6dee-6b5a-450f-a774-48fb4de71706",
   "metadata": {},
   "outputs": [],
   "source": [
    "class add1:\n",
    "    def __init__(self,c) :\n",
    "        self.c = c\n",
    "    def __call__(self,x) :\n",
    "        return self.c + x"
   ]
  },
  {
   "cell_type": "code",
   "execution_count": 310,
   "id": "cbcd6b60-55dd-4270-b439-eef3f24fdaa4",
   "metadata": {},
   "outputs": [],
   "source": [
    "a = add1(3)"
   ]
  },
  {
   "cell_type": "code",
   "execution_count": 314,
   "id": "86a605e4-fa9e-485c-abc0-78cdbb9643b4",
   "metadata": {},
   "outputs": [
    {
     "data": {
      "text/plain": [
       "8"
      ]
     },
     "execution_count": 314,
     "metadata": {},
     "output_type": "execute_result"
    }
   ],
   "source": [
    "a(5)"
   ]
  },
  {
   "cell_type": "code",
   "execution_count": 315,
   "id": "0173c926-d86a-4ff8-9757-dc008c285557",
   "metadata": {},
   "outputs": [
    {
     "data": {
      "text/plain": [
       "13"
      ]
     },
     "execution_count": 315,
     "metadata": {},
     "output_type": "execute_result"
    }
   ],
   "source": [
    "a(10)"
   ]
  },
  {
   "cell_type": "markdown",
   "id": "12182dc5-00eb-41d3-84d0-f0debff0da04",
   "metadata": {},
   "source": [
    "***"
   ]
  },
  {
   "cell_type": "markdown",
   "id": "70a87701-e413-424b-b60c-99e7714cdd72",
   "metadata": {},
   "source": [
    "# 깨달음 12. `__iter__`($\\star\\star$)"
   ]
  },
  {
   "cell_type": "markdown",
   "id": "91d27e38-5ec7-45d3-876e-6181802832b2",
   "metadata": {},
   "source": [
    "## 관찰 1. iter"
   ]
  },
  {
   "cell_type": "markdown",
   "id": "20486829-d730-46aa-a935-2f0dc7d9356c",
   "metadata": {},
   "source": [
    "`-` 아래 `???`의 자리에 올수 있는것은 `dir(?)`하여 `set(dir(lst)) & {'__iter__'}` 가 있는 오브젝트이다"
   ]
  },
  {
   "cell_type": "markdown",
   "id": "19274913-1e1b-4832-a3e3-86bcbd177e5a",
   "metadata": {},
   "source": [
    "```python\n",
    "for i in ???:\n",
    "    print(i)\n",
    "```"
   ]
  },
  {
   "cell_type": "code",
   "execution_count": 317,
   "id": "02196375-bb53-4fe9-af87-175b978266b7",
   "metadata": {},
   "outputs": [],
   "source": [
    "lst = [1,2,3]"
   ]
  },
  {
   "cell_type": "code",
   "execution_count": 321,
   "id": "229ce5ba-18cf-444b-95f2-b96c2c9570f1",
   "metadata": {},
   "outputs": [
    {
     "data": {
      "text/plain": [
       "{'__iter__'}"
      ]
     },
     "execution_count": 321,
     "metadata": {},
     "output_type": "execute_result"
    }
   ],
   "source": [
    "lst = [1,2,3]\n",
    "set(dir(lst)) & {'__iter__'}"
   ]
  },
  {
   "cell_type": "code",
   "execution_count": 322,
   "id": "57f94fa8-a28b-4a90-8433-60eb1ec6f626",
   "metadata": {},
   "outputs": [
    {
     "data": {
      "text/plain": [
       "{'__iter__'}"
      ]
     },
     "execution_count": 322,
     "metadata": {},
     "output_type": "execute_result"
    }
   ],
   "source": [
    "tpl = 1,2,3\n",
    "set(dir(tpl)) & {'__iter__'}"
   ]
  },
  {
   "cell_type": "code",
   "execution_count": 323,
   "id": "714d130b-c176-4703-94bf-fda008c0ca9b",
   "metadata": {},
   "outputs": [
    {
     "data": {
      "text/plain": [
       "{'__iter__'}"
      ]
     },
     "execution_count": 323,
     "metadata": {},
     "output_type": "execute_result"
    }
   ],
   "source": [
    "string = '123'\n",
    "set(dir(string)) & {'__iter__'}"
   ]
  },
  {
   "cell_type": "code",
   "execution_count": 324,
   "id": "b2d8a53a-449d-41f8-8787-5907f1046638",
   "metadata": {},
   "outputs": [
    {
     "data": {
      "text/plain": [
       "set()"
      ]
     },
     "execution_count": 324,
     "metadata": {},
     "output_type": "execute_result"
    }
   ],
   "source": [
    "a = 5\n",
    "set(dir(a)) & {'__iter__'}"
   ]
  },
  {
   "cell_type": "markdown",
   "id": "b0fd2c98-bea0-43b8-a9f6-099daadd6b9d",
   "metadata": {},
   "source": [
    "## 관찰2. next"
   ]
  },
  {
   "cell_type": "markdown",
   "id": "44405594-24ce-43fb-bc41-15e0ec1dbba4",
   "metadata": {},
   "source": [
    "* `__next__`의 기능은 $\\to$ iterable 객체들의 원소들을 차례대로 꺼내준다 "
   ]
  },
  {
   "cell_type": "markdown",
   "id": "b844202c-9b64-4a7a-980e-b716521b94a5",
   "metadata": {},
   "source": [
    "* 더이상 꺼낼 원소가 없으면 `Stopiteration Error`를 발생시킴"
   ]
  },
  {
   "cell_type": "code",
   "execution_count": 329,
   "id": "536e222a-bc4d-4c2b-b67d-3409f2aa15ba",
   "metadata": {},
   "outputs": [],
   "source": [
    "lst = [1,2,3].__iter__()"
   ]
  },
  {
   "cell_type": "code",
   "execution_count": 330,
   "id": "cb056f2a-d625-4d55-9dd7-c0fdbadb5dd0",
   "metadata": {},
   "outputs": [
    {
     "data": {
      "text/plain": [
       "1"
      ]
     },
     "execution_count": 330,
     "metadata": {},
     "output_type": "execute_result"
    }
   ],
   "source": [
    "next(lst)"
   ]
  },
  {
   "cell_type": "code",
   "execution_count": 331,
   "id": "335d9604-5223-4970-90d3-8b2e3956de03",
   "metadata": {},
   "outputs": [
    {
     "data": {
      "text/plain": [
       "2"
      ]
     },
     "execution_count": 331,
     "metadata": {},
     "output_type": "execute_result"
    }
   ],
   "source": [
    "next(lst)"
   ]
  },
  {
   "cell_type": "code",
   "execution_count": 332,
   "id": "f6959fb5-a89c-40fb-be9a-6067826813a0",
   "metadata": {},
   "outputs": [
    {
     "data": {
      "text/plain": [
       "3"
      ]
     },
     "execution_count": 332,
     "metadata": {},
     "output_type": "execute_result"
    }
   ],
   "source": [
    "next(lst)"
   ]
  },
  {
   "cell_type": "markdown",
   "id": "677a20ea-7df1-493a-b838-8ee2764f02a4",
   "metadata": {},
   "source": [
    "`-` 원소가 3개이기 때문에 3번이상 명령어 입력시 에러 발생"
   ]
  },
  {
   "cell_type": "code",
   "execution_count": 333,
   "id": "b331a909-e920-45c4-b0ac-d4dffe3cde28",
   "metadata": {},
   "outputs": [
    {
     "ename": "StopIteration",
     "evalue": "",
     "output_type": "error",
     "traceback": [
      "\u001b[1;31m---------------------------------------------------------------------------\u001b[0m",
      "\u001b[1;31mStopIteration\u001b[0m                             Traceback (most recent call last)",
      "Cell \u001b[1;32mIn[333], line 1\u001b[0m\n\u001b[1;32m----> 1\u001b[0m \u001b[38;5;28mnext\u001b[39m(lst)\n",
      "\u001b[1;31mStopIteration\u001b[0m: "
     ]
    }
   ],
   "source": [
    "next(lst)"
   ]
  },
  {
   "cell_type": "markdown",
   "id": "d62214f7-2985-4dfd-ac3f-8731249637d8",
   "metadata": {},
   "source": [
    "## 관찰 3. 데이터 프레임"
   ]
  },
  {
   "cell_type": "code",
   "execution_count": 335,
   "id": "1033b1b5-920d-4442-b1be-ab9ab97302bb",
   "metadata": {},
   "outputs": [
    {
     "data": {
      "text/html": [
       "<div>\n",
       "<style scoped>\n",
       "    .dataframe tbody tr th:only-of-type {\n",
       "        vertical-align: middle;\n",
       "    }\n",
       "\n",
       "    .dataframe tbody tr th {\n",
       "        vertical-align: top;\n",
       "    }\n",
       "\n",
       "    .dataframe thead th {\n",
       "        text-align: right;\n",
       "    }\n",
       "</style>\n",
       "<table border=\"1\" class=\"dataframe\">\n",
       "  <thead>\n",
       "    <tr style=\"text-align: right;\">\n",
       "      <th></th>\n",
       "      <th>x</th>\n",
       "      <th>y</th>\n",
       "    </tr>\n",
       "  </thead>\n",
       "  <tbody>\n",
       "    <tr>\n",
       "      <th>0</th>\n",
       "      <td>1</td>\n",
       "      <td>2</td>\n",
       "    </tr>\n",
       "    <tr>\n",
       "      <th>1</th>\n",
       "      <td>2</td>\n",
       "      <td>3</td>\n",
       "    </tr>\n",
       "    <tr>\n",
       "      <th>2</th>\n",
       "      <td>3</td>\n",
       "      <td>4</td>\n",
       "    </tr>\n",
       "  </tbody>\n",
       "</table>\n",
       "</div>"
      ],
      "text/plain": [
       "   x  y\n",
       "0  1  2\n",
       "1  2  3\n",
       "2  3  4"
      ]
     },
     "execution_count": 335,
     "metadata": {},
     "output_type": "execute_result"
    }
   ],
   "source": [
    "df = pd.DataFrame({'x':[1,2,3],'y':[2,3,4]})\n",
    "df"
   ]
  },
  {
   "cell_type": "code",
   "execution_count": 339,
   "id": "e567f4a6-e415-4f19-aa00-68f227a9a1a4",
   "metadata": {},
   "outputs": [
    {
     "data": {
      "text/plain": [
       "{'__iter__'}"
      ]
     },
     "execution_count": 339,
     "metadata": {},
     "output_type": "execute_result"
    }
   ],
   "source": [
    "set(dir(df)) & {'__iter__'}"
   ]
  },
  {
   "cell_type": "markdown",
   "id": "f0f9db4b-4260-4bed-87f4-3f72b63fd23e",
   "metadata": {},
   "source": [
    "`-` 데이터 프레임의 경우는 루프문 수행 시 컬럼 네임을 출력해준다."
   ]
  },
  {
   "cell_type": "code",
   "execution_count": 340,
   "id": "2a6f9356-05c1-4e9a-87a5-430c5b3eb564",
   "metadata": {},
   "outputs": [
    {
     "name": "stdout",
     "output_type": "stream",
     "text": [
      "x\n",
      "y\n"
     ]
    }
   ],
   "source": [
    "for i in df :\n",
    "    print(i)"
   ]
  },
  {
   "cell_type": "markdown",
   "id": "1e5fff9c-ed41-4c08-90e0-5114e6bbcfe4",
   "metadata": {},
   "source": [
    "`-` next 함수 적용"
   ]
  },
  {
   "cell_type": "code",
   "execution_count": 341,
   "id": "6472bf03-84a1-456a-b3ee-88778b3468f0",
   "metadata": {},
   "outputs": [],
   "source": [
    "_df = iter(df)"
   ]
  },
  {
   "cell_type": "code",
   "execution_count": 342,
   "id": "577ac1a9-9785-4318-a4c1-23062218e0b2",
   "metadata": {},
   "outputs": [
    {
     "data": {
      "text/plain": [
       "'x'"
      ]
     },
     "execution_count": 342,
     "metadata": {},
     "output_type": "execute_result"
    }
   ],
   "source": [
    "next(_df)"
   ]
  },
  {
   "cell_type": "code",
   "execution_count": 343,
   "id": "dcab4feb-3e9f-434e-aa30-63be31965bea",
   "metadata": {},
   "outputs": [
    {
     "data": {
      "text/plain": [
       "'y'"
      ]
     },
     "execution_count": 343,
     "metadata": {},
     "output_type": "execute_result"
    }
   ],
   "source": [
    "next(_df)"
   ]
  },
  {
   "cell_type": "markdown",
   "id": "4d69d118-60d5-4dc1-9a71-90853902831b",
   "metadata": {},
   "source": [
    "`-` 컬럼이 2개 밖에 없어 에러 발생"
   ]
  },
  {
   "cell_type": "code",
   "execution_count": 344,
   "id": "4cd417fc-0049-4dab-92f2-6a3013d95766",
   "metadata": {},
   "outputs": [
    {
     "ename": "StopIteration",
     "evalue": "",
     "output_type": "error",
     "traceback": [
      "\u001b[1;31m---------------------------------------------------------------------------\u001b[0m",
      "\u001b[1;31mStopIteration\u001b[0m                             Traceback (most recent call last)",
      "Cell \u001b[1;32mIn[344], line 1\u001b[0m\n\u001b[1;32m----> 1\u001b[0m \u001b[38;5;28mnext\u001b[39m(_df)\n",
      "\u001b[1;31mStopIteration\u001b[0m: "
     ]
    }
   ],
   "source": [
    "next(_df)"
   ]
  },
  {
   "cell_type": "markdown",
   "id": "256f7e22-727e-4fc1-8354-680b8f933622",
   "metadata": {},
   "source": [
    "## 구현"
   ]
  },
  {
   "cell_type": "markdown",
   "id": "26c3b0ad-bd78-43e0-96b2-05154063c4cd",
   "metadata": {},
   "source": [
    "`-` 가찌를 내는 순간 for문이 멈추도록 하는 이터레이터를 만들자"
   ]
  },
  {
   "cell_type": "code",
   "execution_count": 354,
   "id": "d8bc8008-6233-460c-bb4a-f3f536278d85",
   "metadata": {},
   "outputs": [],
   "source": [
    "class RPS_ITERATOR: # 찌를 내는순간 for문이 멈추도록 하는 이터레이터를 만들자\n",
    "    def __init__(self): \n",
    "        self.candidate = [\"묵\",\"찌\",\"빠\"] \n",
    "    def __iter__(self):\n",
    "        return self \n",
    "    def __next__(self):\n",
    "        action = np.random.choice(self.candidate) ## 묵찌빠에서 랜덤 선택\n",
    "        if action == \"찌\":\n",
    "            print(\"찌가 나와서 for문을 멈춥니다\")\n",
    "            raise StopIteration\n",
    "        else:\n",
    "            return action"
   ]
  },
  {
   "cell_type": "code",
   "execution_count": 350,
   "id": "bcd28f53-14d6-4e7c-97e7-5456619457e3",
   "metadata": {},
   "outputs": [],
   "source": [
    "a = RPS_ITERATOR()"
   ]
  },
  {
   "cell_type": "code",
   "execution_count": 351,
   "id": "272eaef6-1280-42ac-bd84-0393cba6f9ae",
   "metadata": {},
   "outputs": [
    {
     "name": "stdout",
     "output_type": "stream",
     "text": [
      "찌가 나와서 for문을 멈춥니다\n"
     ]
    },
    {
     "ename": "StopIteration",
     "evalue": "",
     "output_type": "error",
     "traceback": [
      "\u001b[1;31m---------------------------------------------------------------------------\u001b[0m",
      "\u001b[1;31mStopIteration\u001b[0m                             Traceback (most recent call last)",
      "Cell \u001b[1;32mIn[351], line 1\u001b[0m\n\u001b[1;32m----> 1\u001b[0m \u001b[38;5;28mnext\u001b[39m(a)\n",
      "Cell \u001b[1;32mIn[345], line 10\u001b[0m, in \u001b[0;36mRPS_ITERATOR.__next__\u001b[1;34m(self)\u001b[0m\n\u001b[0;32m      8\u001b[0m \u001b[38;5;28;01mif\u001b[39;00m action \u001b[38;5;241m==\u001b[39m \u001b[38;5;124m\"\u001b[39m\u001b[38;5;124m찌\u001b[39m\u001b[38;5;124m\"\u001b[39m:\n\u001b[0;32m      9\u001b[0m     \u001b[38;5;28mprint\u001b[39m(\u001b[38;5;124m\"\u001b[39m\u001b[38;5;124m찌가 나와서 for문을 멈춥니다\u001b[39m\u001b[38;5;124m\"\u001b[39m)\n\u001b[1;32m---> 10\u001b[0m     \u001b[38;5;28;01mraise\u001b[39;00m \u001b[38;5;167;01mStopIteration\u001b[39;00m\n\u001b[0;32m     11\u001b[0m \u001b[38;5;28;01melse\u001b[39;00m:\n\u001b[0;32m     12\u001b[0m     \u001b[38;5;28;01mreturn\u001b[39;00m action\n",
      "\u001b[1;31mStopIteration\u001b[0m: "
     ]
    }
   ],
   "source": [
    "next(a)"
   ]
  },
  {
   "cell_type": "code",
   "execution_count": 352,
   "id": "e5da0f23-36ca-4839-b880-cc72e01f8278",
   "metadata": {},
   "outputs": [
    {
     "data": {
      "text/plain": [
       "'묵'"
      ]
     },
     "execution_count": 352,
     "metadata": {},
     "output_type": "execute_result"
    }
   ],
   "source": [
    "next(a)"
   ]
  },
  {
   "cell_type": "code",
   "execution_count": 353,
   "id": "49e7eeee-e6cd-4117-a811-92ad53ce0df5",
   "metadata": {},
   "outputs": [
    {
     "data": {
      "text/plain": [
       "'빠'"
      ]
     },
     "execution_count": 353,
     "metadata": {},
     "output_type": "execute_result"
    }
   ],
   "source": [
    "next(a)"
   ]
  },
  {
   "cell_type": "code",
   "execution_count": 357,
   "id": "c918fbe7-aa38-414f-a79f-cfde22b04a73",
   "metadata": {},
   "outputs": [
    {
     "name": "stdout",
     "output_type": "stream",
     "text": [
      "묵\n",
      "빠\n",
      "빠\n",
      "빠\n",
      "찌가 나와서 for문을 멈춥니다\n"
     ]
    }
   ],
   "source": [
    "for i in a :\n",
    "    print (i)"
   ]
  },
  {
   "cell_type": "markdown",
   "id": "1e316633-760d-46d7-87ab-d052904cc486",
   "metadata": {},
   "source": [
    "## range (생략)"
   ]
  },
  {
   "cell_type": "markdown",
   "id": "42efb032-20fe-4544-9df6-a4ed45cf4c44",
   "metadata": {},
   "source": [
    "## zip"
   ]
  },
  {
   "cell_type": "markdown",
   "id": "ac73ae10-5394-4638-b89c-29727b1100c2",
   "metadata": {},
   "source": [
    "`-` 이터레이터엔 개념을 알면 for문에 대한 이해도가 대폭 상승한다."
   ]
  },
  {
   "cell_type": "markdown",
   "id": "eff97429-9b3d-465e-8be7-9d1d617a872b",
   "metadata": {},
   "source": [
    "### 관찰 1. zip?"
   ]
  },
  {
   "cell_type": "markdown",
   "id": "1a661af9-8522-4d1c-870d-2388cf89f35a",
   "metadata": {},
   "source": [
    "`-` 일단 zip으로 만든 객체가 `iterable object`인지 확인하자"
   ]
  },
  {
   "cell_type": "code",
   "execution_count": 360,
   "id": "182f3905-559c-44dc-a60d-c306c4134854",
   "metadata": {},
   "outputs": [],
   "source": [
    "temp = zip([1,2,3],\"abc\")"
   ]
  },
  {
   "cell_type": "code",
   "execution_count": 362,
   "id": "07a54f17-dd7c-4d54-aa9b-3d55a50fd976",
   "metadata": {},
   "outputs": [
    {
     "data": {
      "text/plain": [
       "<zip at 0x1e2d53d2f00>"
      ]
     },
     "execution_count": 362,
     "metadata": {},
     "output_type": "execute_result"
    }
   ],
   "source": [
    "temp"
   ]
  },
  {
   "cell_type": "code",
   "execution_count": 361,
   "id": "f46a2c89-19ee-4e1f-8d30-92a1d02a8dd5",
   "metadata": {},
   "outputs": [
    {
     "data": {
      "text/plain": [
       "{'__iter__', '__next__'}"
      ]
     },
     "execution_count": 361,
     "metadata": {},
     "output_type": "execute_result"
    }
   ],
   "source": [
    "set(dir(temp)) & {\"__iter__\",\"__next__\"}"
   ]
  },
  {
   "cell_type": "markdown",
   "id": "fbb4f12b-2eb9-42a0-924d-a4c81d85fd34",
   "metadata": {},
   "source": [
    "`-` 오 2가지 다있는 것을 보니 `temp`는 iterable 오브젝트이다."
   ]
  },
  {
   "cell_type": "code",
   "execution_count": 363,
   "id": "98c03137-9dd3-4e61-b3ad-3940cec1c633",
   "metadata": {},
   "outputs": [
    {
     "data": {
      "text/plain": [
       "(1, 'a')"
      ]
     },
     "execution_count": 363,
     "metadata": {},
     "output_type": "execute_result"
    }
   ],
   "source": [
    "next(temp)"
   ]
  },
  {
   "cell_type": "code",
   "execution_count": 364,
   "id": "23aabe6b-cf20-4d4a-8176-1a812be01f58",
   "metadata": {},
   "outputs": [
    {
     "data": {
      "text/plain": [
       "(2, 'b')"
      ]
     },
     "execution_count": 364,
     "metadata": {},
     "output_type": "execute_result"
    }
   ],
   "source": [
    "next(temp)"
   ]
  },
  {
   "cell_type": "code",
   "execution_count": 365,
   "id": "d3043091-71bf-4224-b0a4-24e02360cfe0",
   "metadata": {},
   "outputs": [
    {
     "data": {
      "text/plain": [
       "(3, 'c')"
      ]
     },
     "execution_count": 365,
     "metadata": {},
     "output_type": "execute_result"
    }
   ],
   "source": [
    "next(temp)"
   ]
  },
  {
   "cell_type": "markdown",
   "id": "0eb593e9-fed9-4127-ab96-5e5321f24871",
   "metadata": {},
   "source": [
    "`-` 훗, 무슨 느낌인지 알겠음"
   ]
  },
  {
   "cell_type": "code",
   "execution_count": 366,
   "id": "bb01a46a-f8cc-474a-bfcd-dd59e7652d9c",
   "metadata": {},
   "outputs": [
    {
     "ename": "StopIteration",
     "evalue": "",
     "output_type": "error",
     "traceback": [
      "\u001b[1;31m---------------------------------------------------------------------------\u001b[0m",
      "\u001b[1;31mStopIteration\u001b[0m                             Traceback (most recent call last)",
      "Cell \u001b[1;32mIn[366], line 1\u001b[0m\n\u001b[1;32m----> 1\u001b[0m \u001b[38;5;28mnext\u001b[39m(temp)\n",
      "\u001b[1;31mStopIteration\u001b[0m: "
     ]
    }
   ],
   "source": [
    "next(temp)"
   ]
  },
  {
   "cell_type": "markdown",
   "id": "747e269e-d2d2-4f4e-8093-2abb2e00b209",
   "metadata": {},
   "source": [
    "### 관찰 2. 그래서 뭐하는 문법인가?"
   ]
  },
  {
   "cell_type": "code",
   "execution_count": 367,
   "id": "2f87c3fc-e109-40f7-89e3-3274370c3c7c",
   "metadata": {},
   "outputs": [
    {
     "data": {
      "text/plain": [
       "\u001b[1;31mInit signature:\u001b[0m \u001b[0mzip\u001b[0m\u001b[1;33m(\u001b[0m\u001b[0mself\u001b[0m\u001b[1;33m,\u001b[0m \u001b[1;33m/\u001b[0m\u001b[1;33m,\u001b[0m \u001b[1;33m*\u001b[0m\u001b[0margs\u001b[0m\u001b[1;33m,\u001b[0m \u001b[1;33m**\u001b[0m\u001b[0mkwargs\u001b[0m\u001b[1;33m)\u001b[0m\u001b[1;33m\u001b[0m\u001b[1;33m\u001b[0m\u001b[0m\n",
       "\u001b[1;31mDocstring:\u001b[0m     \n",
       "zip(*iterables, strict=False) --> Yield tuples until an input is exhausted.\n",
       "\n",
       "   >>> list(zip('abcdefg', range(3), range(4)))\n",
       "   [('a', 0, 0), ('b', 1, 1), ('c', 2, 2)]\n",
       "\n",
       "The zip object yields n-length tuples, where n is the number of iterables\n",
       "passed as positional arguments to zip().  The i-th element in every tuple\n",
       "comes from the i-th iterable argument to zip().  This continues until the\n",
       "shortest argument is exhausted.\n",
       "\n",
       "If strict is true and one of the arguments is exhausted before the others,\n",
       "raise a ValueError.\n",
       "\u001b[1;31mType:\u001b[0m           type\n",
       "\u001b[1;31mSubclasses:\u001b[0m     "
      ]
     },
     "metadata": {},
     "output_type": "display_data"
    }
   ],
   "source": [
    "zip?"
   ]
  },
  {
   "cell_type": "markdown",
   "id": "c91e2b72-b354-4193-b3a0-1a43e96bbce0",
   "metadata": {},
   "source": [
    "`-` 음, 위에 나온 예제를 싱행해보니 무슨 느낌인지 알겠음"
   ]
  },
  {
   "cell_type": "code",
   "execution_count": 368,
   "id": "f35ec38e-166c-4f9a-96a5-188ac9722f1e",
   "metadata": {},
   "outputs": [
    {
     "data": {
      "text/plain": [
       "[('a', 0, 0), ('b', 1, 1), ('c', 2, 2)]"
      ]
     },
     "execution_count": 368,
     "metadata": {},
     "output_type": "execute_result"
    }
   ],
   "source": [
    "list(zip('abcdefg', range(3), range(4)))"
   ]
  },
  {
   "cell_type": "markdown",
   "id": "82f74afd-c113-49bf-aa6f-3f6f90e12777",
   "metadata": {},
   "source": [
    "### 관찰 3. enumerate"
   ]
  },
  {
   "cell_type": "markdown",
   "id": "7c0c3815-b789-4469-a7ac-c6c8872b794f",
   "metadata": {},
   "source": [
    "`-` 이녀석도 이터러블 객체이다."
   ]
  },
  {
   "cell_type": "code",
   "execution_count": 369,
   "id": "cf64fade-6d6c-418e-ab05-d081b05085c9",
   "metadata": {},
   "outputs": [
    {
     "data": {
      "text/plain": [
       "{'__iter__', '__next__'}"
      ]
     },
     "execution_count": 369,
     "metadata": {},
     "output_type": "execute_result"
    }
   ],
   "source": [
    "set(dir(enumerate('abc'))) & {'__iter__', '__next__'}"
   ]
  },
  {
   "cell_type": "markdown",
   "id": "e4220b30-7cee-49b2-92f5-aaf21192d882",
   "metadata": {},
   "source": [
    "`-` enumerate는 원소와 인덱스를 반환해준다."
   ]
  },
  {
   "cell_type": "code",
   "execution_count": 370,
   "id": "62a8af4e-f09d-4d94-a57b-1f8408dbb667",
   "metadata": {},
   "outputs": [
    {
     "name": "stdout",
     "output_type": "stream",
     "text": [
      "(0, 'a')\n",
      "(1, 'b')\n",
      "(2, 'c')\n"
     ]
    }
   ],
   "source": [
    "for i in enumerate(list(\"abc\")) :\n",
    "    print(i)"
   ]
  },
  {
   "cell_type": "markdown",
   "id": "337ea429-3d59-4a29-80ab-4b9866a10110",
   "metadata": {},
   "source": [
    "## summary"
   ]
  },
  {
   "cell_type": "markdown",
   "id": "13ff1638-78e3-4070-b784-98ccaae8f2c3",
   "metadata": {},
   "source": [
    "`-`  for문을 사용하려면 **\"iterable object\"** 여야만 한다."
   ]
  }
 ],
 "metadata": {
  "kernelspec": {
   "display_name": "Python 3 (ipykernel)",
   "language": "python",
   "name": "python3"
  },
  "language_info": {
   "codemirror_mode": {
    "name": "ipython",
    "version": 3
   },
   "file_extension": ".py",
   "mimetype": "text/x-python",
   "name": "python",
   "nbconvert_exporter": "python",
   "pygments_lexer": "ipython3",
   "version": "3.11.4"
  }
 },
 "nbformat": 4,
 "nbformat_minor": 5
}
