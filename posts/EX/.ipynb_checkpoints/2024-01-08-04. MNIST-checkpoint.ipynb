{
 "cells": [
  {
   "cell_type": "raw",
   "metadata": {},
   "source": [
    "---\n",
    "title : \"04. MNIST\"\n",
    "author : \"gc\"\n",
    "date : \"01/08/24\"\n",
    "categories : [ex]\n",
    "---"
   ]
  },
  {
   "cell_type": "markdown",
   "metadata": {
    "id": "pkChhnCqJ42j"
   },
   "source": [
    "# import"
   ]
  },
  {
   "cell_type": "code",
   "execution_count": 1,
   "metadata": {
    "id": "6xJXNv5bKobk"
   },
   "outputs": [],
   "source": [
    "import tensorflow as tf\n",
    "from tensorflow import keras"
   ]
  },
  {
   "cell_type": "markdown",
   "metadata": {
    "id": "tIIDdtMIKsJ3"
   },
   "source": [
    "# 데이터 로드"
   ]
  },
  {
   "cell_type": "code",
   "execution_count": 2,
   "metadata": {
    "id": "YGtP9HsaKt1Q"
   },
   "outputs": [],
   "source": [
    "from tensorflow.keras.datasets import fashion_mnist"
   ]
  },
  {
   "cell_type": "markdown",
   "metadata": {
    "id": "vImEHm-aKzwo"
   },
   "source": [
    "# train, test 데이터 셋 분리"
   ]
  },
  {
   "cell_type": "code",
   "execution_count": 3,
   "metadata": {
    "colab": {
     "base_uri": "https://localhost:8080/"
    },
    "id": "D1DI_dJ-K221",
    "outputId": "99d32957-1755-4f63-f1f9-394ba01b1467"
   },
   "outputs": [
    {
     "name": "stdout",
     "output_type": "stream",
     "text": [
      "Downloading data from https://storage.googleapis.com/tensorflow/tf-keras-datasets/train-labels-idx1-ubyte.gz\n",
      "29515/29515 [==============================] - 0s 1us/step\n",
      "Downloading data from https://storage.googleapis.com/tensorflow/tf-keras-datasets/train-images-idx3-ubyte.gz\n",
      "26421880/26421880 [==============================] - 2s 0us/step\n",
      "Downloading data from https://storage.googleapis.com/tensorflow/tf-keras-datasets/t10k-labels-idx1-ubyte.gz\n",
      "5148/5148 [==============================] - 0s 0us/step\n",
      "Downloading data from https://storage.googleapis.com/tensorflow/tf-keras-datasets/t10k-images-idx3-ubyte.gz\n",
      "4422102/4422102 [==============================] - 1s 0us/step\n"
     ]
    }
   ],
   "source": [
    "(x_train, y_train), (x_test, y_test) = fashion_mnist.load_data()"
   ]
  },
  {
   "cell_type": "code",
   "execution_count": 4,
   "metadata": {
    "colab": {
     "base_uri": "https://localhost:8080/"
    },
    "id": "CIuhEf88LAEo",
    "outputId": "ee2e2f62-b744-4fec-ef3e-0b0ff24672e2"
   },
   "outputs": [
    {
     "name": "stdout",
     "output_type": "stream",
     "text": [
      "(60000, 28, 28)\n",
      "(60000,)\n"
     ]
    }
   ],
   "source": [
    "print(x_train.shape)\n",
    "print(y_train.shape)"
   ]
  },
  {
   "cell_type": "code",
   "execution_count": 5,
   "metadata": {
    "colab": {
     "base_uri": "https://localhost:8080/"
    },
    "id": "88vkSLyBLF-I",
    "outputId": "b0ac57bc-7078-496b-d461-9bd30a9ed900"
   },
   "outputs": [
    {
     "name": "stdout",
     "output_type": "stream",
     "text": [
      "(10000, 28, 28)\n",
      "(10000,)\n"
     ]
    }
   ],
   "source": [
    "print(x_test.shape)\n",
    "print(y_test.shape)"
   ]
  },
  {
   "cell_type": "markdown",
   "metadata": {
    "id": "-q_WZTDaLJpc"
   },
   "source": [
    "`-` 라벨 지정"
   ]
  },
  {
   "cell_type": "code",
   "execution_count": 6,
   "metadata": {
    "colab": {
     "base_uri": "https://localhost:8080/"
    },
    "id": "Ca84JyY5LQFs",
    "outputId": "4ba98b55-bad5-482d-b4d8-a803c43447c7"
   },
   "outputs": [
    {
     "name": "stdout",
     "output_type": "stream",
     "text": [
      "['T-shirt', 'Trouser', 'Pullover', 'Dress', 'Coat', 'Sandal', 'Shirt', 'Sneaker', 'Bag', 'Ankle boot']\n"
     ]
    }
   ],
   "source": [
    "labels =[\"T-shirt\", \"Trouser\", \"Pullover\",\"Dress\",\n",
    "         \"Coat\", \"Sandal\", \"Shirt\", \"Sneaker\",\"Bag\",\"Ankle boot\"]\n",
    "\n",
    "print(labels)"
   ]
  },
  {
   "cell_type": "markdown",
   "metadata": {
    "id": "atEWoMnILgtG"
   },
   "source": [
    "# 시각화"
   ]
  },
  {
   "cell_type": "code",
   "execution_count": 7,
   "metadata": {
    "id": "UZVJOUjsLk65"
   },
   "outputs": [],
   "source": [
    "import numpy as np\n",
    "import matplotlib.pyplot as plt"
   ]
  },
  {
   "cell_type": "code",
   "execution_count": 8,
   "metadata": {
    "colab": {
     "base_uri": "https://localhost:8080/",
     "height": 430
    },
    "id": "OHO-SjOwLoEG",
    "outputId": "4621c307-c944-49f1-9d96-6bbb95cbb788"
   },
   "outputs": [
    {
     "data": {
      "image/png": "[encoded data removed]",
      "text/plain": [
       "<Figure size 640x480 with 1 Axes>"
      ]
     },
     "metadata": {},
     "output_type": "display_data"
    }
   ],
   "source": [
    "plt.imshow(x_test[1], cmap = \"Greys\")\n",
    "plt.show()"
   ]
  },
  {
   "cell_type": "markdown",
   "metadata": {
    "id": "eGvxX37cLv1X"
   },
   "source": [
    "# 데이터 전처리"
   ]
  },
  {
   "cell_type": "markdown",
   "metadata": {
    "id": "fA2gqRB8Lx8S"
   },
   "source": [
    "`-` Min-Max scaling 금지 $\\to$ 태블러 데이터에 최적화되어 있기 때문"
   ]
  },
  {
   "cell_type": "markdown",
   "metadata": {
    "id": "EtGemfyQL5HK"
   },
   "source": [
    "* 전처리 규칙은 트레인셋을 따라야한다."
   ]
  },
  {
   "cell_type": "code",
   "execution_count": 9,
   "metadata": {
    "colab": {
     "base_uri": "https://localhost:8080/"
    },
    "id": "goFlbd8xL_1P",
    "outputId": "c33fcfa3-86c4-411a-b54d-26287fbf9dc8"
   },
   "outputs": [
    {
     "data": {
      "text/plain": [
       "(255, 0)"
      ]
     },
     "execution_count": 9,
     "metadata": {},
     "output_type": "execute_result"
    }
   ],
   "source": [
    "max_n, min_n = x_train.max(), x_train.min()\n",
    "max_n, min_n"
   ]
  },
  {
   "cell_type": "code",
   "execution_count": 10,
   "metadata": {
    "id": "hAV94sFUMSoN"
   },
   "outputs": [],
   "source": [
    "train_x = (x_train - min_n) / (max_n - min_n)\n",
    "test_x = (x_test - min_n) / (max_n - min_n)"
   ]
  },
  {
   "cell_type": "markdown",
   "metadata": {
    "id": "x8Eq7vJAMgCg"
   },
   "source": [
    "`-` Date reshape(흑백채널 추가)"
   ]
  },
  {
   "cell_type": "code",
   "execution_count": 11,
   "metadata": {
    "id": "tqoI-RLIMj9-"
   },
   "outputs": [],
   "source": [
    "train_x_rel = train_x.reshape(-1,28,28,1)\n",
    "test_x_rel = test_x.reshape(-1,28,28,1)"
   ]
  },
  {
   "cell_type": "markdown",
   "metadata": {
    "id": "-LQEFqqqMw_-"
   },
   "source": [
    "## one-hot encoding"
   ]
  },
  {
   "cell_type": "code",
   "execution_count": 12,
   "metadata": {
    "id": "92El9xKlM3hM"
   },
   "outputs": [],
   "source": [
    "from keras.utils import to_categorical"
   ]
  },
  {
   "cell_type": "code",
   "execution_count": 13,
   "metadata": {
    "id": "cvohOf2PM7UB"
   },
   "outputs": [],
   "source": [
    "train_y_c = to_categorical(y_train, 10)\n",
    "test_y_c = to_categorical(y_test, 10)"
   ]
  },
  {
   "cell_type": "markdown",
   "metadata": {
    "id": "rsPe1ggTNJgd"
   },
   "source": [
    "***"
   ]
  },
  {
   "cell_type": "markdown",
   "metadata": {
    "id": "YvJsePeNNLj8"
   },
   "source": [
    "# 모델링 1. DNN"
   ]
  },
  {
   "cell_type": "markdown",
   "metadata": {
    "id": "uEbAHtvfNloo"
   },
   "source": [
    "## import"
   ]
  },
  {
   "cell_type": "code",
   "execution_count": 14,
   "metadata": {
    "id": "GDz8bs3RNNbX"
   },
   "outputs": [],
   "source": [
    "import tensorflow as tf\n",
    "from tensorflow import keras\n",
    "\n",
    "from tensorflow.keras.backend import clear_session\n",
    "from tensorflow.keras.models import Sequential, Model\n",
    "from tensorflow.keras.layers import Input, Dense, Flatten, BatchNormalization, Dropout"
   ]
  },
  {
   "cell_type": "markdown",
   "metadata": {
    "id": "6LQT-v1CNiAz"
   },
   "source": [
    "## 모델 설계"
   ]
  },
  {
   "cell_type": "code",
   "execution_count": 15,
   "metadata": {
    "id": "0mZ-DUEANpiH"
   },
   "outputs": [],
   "source": [
    "# 1. 세션 클리어\n",
    "clear_session()\n",
    "\n",
    "# 2. 모델 설계\n",
    "\n",
    "model1 = Sequential()\n",
    "\n",
    "model1.add( Input(shape = (28,28,1)))\n",
    "model1.add( Flatten() )\n",
    "model1.add( Dense(1024, activation = \"relu\"))\n",
    "model1.add( Dense(1024, activation = \"relu\"))\n",
    "model1.add( BatchNormalization())\n",
    "model1.add( Dropout(0.25) )\n",
    "\n",
    "model1.add( Dense(512, activation = \"relu\"))\n",
    "model1.add( Dense(512, activation = \"relu\"))\n",
    "model1.add( BatchNormalization())\n",
    "model1.add( Dropout(0.25) )\n",
    "\n",
    "model1.add( Dense (10, activation = \"softmax\"))\n",
    "\n",
    "# 3. 모델 컴파일\n",
    "model1.compile(optimizer = \"adam\", loss = tf.keras.losses.categorical_crossentropy,\n",
    "               metrics = [\"accuracy\"])"
   ]
  },
  {
   "cell_type": "code",
   "execution_count": 16,
   "metadata": {
    "colab": {
     "base_uri": "https://localhost:8080/"
    },
    "id": "8jfMte-wOqi2",
    "outputId": "87adea51-e8f8-417a-fe87-22e571186d57"
   },
   "outputs": [
    {
     "name": "stdout",
     "output_type": "stream",
     "text": [
      "Model: \"sequential\"\n",
      "_________________________________________________________________\n",
      " Layer (type)                Output Shape              Param #   \n",
      "=================================================================\n",
      " flatten (Flatten)           (None, 784)               0         \n",
      "                                                                 \n",
      " dense (Dense)               (None, 1024)              803840    \n",
      "                                                                 \n",
      " dense_1 (Dense)             (None, 1024)              1049600   \n",
      "                                                                 \n",
      " batch_normalization (Batch  (None, 1024)              4096      \n",
      " Normalization)                                                  \n",
      "                                                                 \n",
      " dropout (Dropout)           (None, 1024)              0         \n",
      "                                                                 \n",
      " dense_2 (Dense)             (None, 512)               524800    \n",
      "                                                                 \n",
      " dense_3 (Dense)             (None, 512)               262656    \n",
      "                                                                 \n",
      " batch_normalization_1 (Bat  (None, 512)               2048      \n",
      " chNormalization)                                                \n",
      "                                                                 \n",
      " dropout_1 (Dropout)         (None, 512)               0         \n",
      "                                                                 \n",
      " dense_4 (Dense)             (None, 10)                5130      \n",
      "                                                                 \n",
      "=================================================================\n",
      "Total params: 2652170 (10.12 MB)\n",
      "Trainable params: 2649098 (10.11 MB)\n",
      "Non-trainable params: 3072 (12.00 KB)\n",
      "_________________________________________________________________\n"
     ]
    }
   ],
   "source": [
    "model1.summary()"
   ]
  },
  {
   "cell_type": "markdown",
   "metadata": {
    "id": "4biyCYYSO2yq"
   },
   "source": [
    "## 학습"
   ]
  },
  {
   "cell_type": "code",
   "execution_count": 19,
   "metadata": {
    "id": "xh121PBYPjgZ"
   },
   "outputs": [],
   "source": [
    "from keras.callbacks import EarlyStopping"
   ]
  },
  {
   "cell_type": "code",
   "execution_count": 20,
   "metadata": {
    "id": "wKbdp95gPNLa"
   },
   "outputs": [],
   "source": [
    "es = EarlyStopping(monitor = \"val_loss\",\n",
    "                  min_delta = 0,\n",
    "                  patience = 3,\n",
    "                   verbose = 1,\n",
    "                   restore_best_weights = True)"
   ]
  },
  {
   "cell_type": "code",
   "execution_count": 22,
   "metadata": {
    "colab": {
     "base_uri": "https://localhost:8080/"
    },
    "id": "HOopoKNXPA5A",
    "outputId": "cd32e70e-0525-40b1-83af-72005485e4e8"
   },
   "outputs": [
    {
     "name": "stdout",
     "output_type": "stream",
     "text": [
      "Epoch 1/10000\n",
      "1500/1500 [==============================] - 10s 7ms/step - loss: 0.5921 - accuracy: 0.7939 - val_loss: 0.5014 - val_accuracy: 0.8234\n",
      "Epoch 2/10000\n",
      "1500/1500 [==============================] - 12s 8ms/step - loss: 0.4375 - accuracy: 0.8434 - val_loss: 0.5076 - val_accuracy: 0.8056\n",
      "Epoch 3/10000\n",
      "1500/1500 [==============================] - 14s 9ms/step - loss: 0.3908 - accuracy: 0.8593 - val_loss: 0.4336 - val_accuracy: 0.8573\n",
      "Epoch 4/10000\n",
      "1500/1500 [==============================] - 12s 8ms/step - loss: 0.3534 - accuracy: 0.8709 - val_loss: 0.3595 - val_accuracy: 0.8655\n",
      "Epoch 5/10000\n",
      "1500/1500 [==============================] - 14s 10ms/step - loss: 0.3349 - accuracy: 0.8790 - val_loss: 0.3693 - val_accuracy: 0.8729\n",
      "Epoch 6/10000\n",
      "1500/1500 [==============================] - 13s 9ms/step - loss: 0.3183 - accuracy: 0.8831 - val_loss: 0.3335 - val_accuracy: 0.8810\n",
      "Epoch 7/10000\n",
      "1500/1500 [==============================] - 11s 7ms/step - loss: 0.3068 - accuracy: 0.8870 - val_loss: 0.3397 - val_accuracy: 0.8715\n",
      "Epoch 8/10000\n",
      "1500/1500 [==============================] - 11s 7ms/step - loss: 0.2890 - accuracy: 0.8942 - val_loss: 0.3358 - val_accuracy: 0.8773\n",
      "Epoch 9/10000\n",
      "1500/1500 [==============================] - 12s 8ms/step - loss: 0.2774 - accuracy: 0.8978 - val_loss: 0.3327 - val_accuracy: 0.8827\n",
      "Epoch 10/10000\n",
      "1500/1500 [==============================] - 10s 7ms/step - loss: 0.2664 - accuracy: 0.9011 - val_loss: 0.3199 - val_accuracy: 0.8850\n",
      "Epoch 11/10000\n",
      "1500/1500 [==============================] - 11s 7ms/step - loss: 0.2569 - accuracy: 0.9037 - val_loss: 0.3585 - val_accuracy: 0.8722\n",
      "Epoch 12/10000\n",
      "1500/1500 [==============================] - 15s 10ms/step - loss: 0.2463 - accuracy: 0.9079 - val_loss: 0.3201 - val_accuracy: 0.8879\n",
      "Epoch 13/10000\n",
      "1498/1500 [============================>.] - ETA: 0s - loss: 0.2410 - accuracy: 0.9102Restoring model weights from the end of the best epoch: 10.\n",
      "1500/1500 [==============================] - 10s 6ms/step - loss: 0.2413 - accuracy: 0.9100 - val_loss: 0.3282 - val_accuracy: 0.8843\n",
      "Epoch 13: early stopping\n"
     ]
    }
   ],
   "source": [
    "history = model1.fit(train_x_rel, train_y_c,\n",
    "                     epochs = 10000, verbose = 1,\n",
    "                     validation_split = 0.2,\n",
    "                     callbacks = [es]).history"
   ]
  },
  {
   "cell_type": "markdown",
   "metadata": {
    "id": "Y59wn7EeP1B4"
   },
   "source": [
    "## 결과 시각화"
   ]
  },
  {
   "cell_type": "code",
   "execution_count": 24,
   "metadata": {
    "colab": {
     "base_uri": "https://localhost:8080/",
     "height": 246
    },
    "id": "cvZpwB7pP2d_",
    "outputId": "721432e7-e49b-41d5-eb4c-106458b06104"
   },
   "outputs": [
    {
     "data": {
      "image/png": "[encoded data removed]",
      "text/plain": [
       "<Figure size 1200x400 with 1 Axes>"
      ]
     },
     "metadata": {},
     "output_type": "display_data"
    }
   ],
   "source": [
    "plt.figure(figsize = (12,4))\n",
    "plt.plot(history[\"loss\"],\"--.\",label = \"train_loss\")\n",
    "plt.plot(history[\"val_loss\"], \"--.\",label = \"val_loss\")\n",
    "plt.legend()\n",
    "plt.show()"
   ]
  },
  {
   "cell_type": "markdown",
   "metadata": {
    "id": "ByM6Ss0QPtVz"
   },
   "source": [
    "## 예측"
   ]
  },
  {
   "cell_type": "code",
   "execution_count": 25,
   "metadata": {
    "colab": {
     "base_uri": "https://localhost:8080/"
    },
    "id": "YXe9bnUvPvJ-",
    "outputId": "c145c875-0683-46b0-cd50-62f2650bb07e"
   },
   "outputs": [
    {
     "name": "stdout",
     "output_type": "stream",
     "text": [
      "313/313 [==============================] - 1s 2ms/step\n"
     ]
    }
   ],
   "source": [
    "y_pred =  model1.predict(test_x_rel).argmax(axis = 1)"
   ]
  },
  {
   "cell_type": "code",
   "execution_count": 26,
   "metadata": {
    "id": "hrNXTvDgQK9q"
   },
   "outputs": [],
   "source": [
    "from sklearn.metrics import *"
   ]
  },
  {
   "cell_type": "code",
   "execution_count": 31,
   "metadata": {
    "colab": {
     "base_uri": "https://localhost:8080/"
    },
    "id": "i_kPCznhQNa3",
    "outputId": "54af4f5c-a8c1-46bd-f626-2fbc9f04cc19"
   },
   "outputs": [
    {
     "data": {
      "text/plain": [
       "array([[875,   0,  18,  27,   1,   0,  70,   0,   9,   0],\n",
       "       [  5, 958,   3,  30,   1,   0,   2,   0,   1,   0],\n",
       "       [ 19,   0, 842,  15,  65,   0,  55,   0,   4,   0],\n",
       "       [ 26,   2,   9, 920,  17,   0,  22,   0,   4,   0],\n",
       "       [  1,   0, 146,  52, 721,   0,  73,   0,   7,   0],\n",
       "       [  0,   0,   0,   0,   0, 987,   0,   9,   2,   2],\n",
       "       [162,   0, 109,  31,  48,   0, 639,   0,  11,   0],\n",
       "       [  0,   0,   0,   0,   0,  52,   0, 921,   0,  27],\n",
       "       [  5,   0,  10,   2,   5,   4,   0,   4, 970,   0],\n",
       "       [  0,   0,   0,   0,   0,  17,   1,  27,   0, 955]])"
      ]
     },
     "execution_count": 31,
     "metadata": {},
     "output_type": "execute_result"
    }
   ],
   "source": [
    "confusion_matrix(y_test, y_pred)"
   ]
  },
  {
   "cell_type": "code",
   "execution_count": 33,
   "metadata": {
    "colab": {
     "base_uri": "https://localhost:8080/"
    },
    "id": "Ys_OZi5vQUUu",
    "outputId": "0a2e0148-dd39-4aa9-8cdb-40cbb8ce892f"
   },
   "outputs": [
    {
     "name": "stdout",
     "output_type": "stream",
     "text": [
      "              precision    recall  f1-score   support\n",
      "\n",
      "           0       0.80      0.88      0.84      1000\n",
      "           1       1.00      0.96      0.98      1000\n",
      "           2       0.74      0.84      0.79      1000\n",
      "           3       0.85      0.92      0.89      1000\n",
      "           4       0.84      0.72      0.78      1000\n",
      "           5       0.93      0.99      0.96      1000\n",
      "           6       0.74      0.64      0.69      1000\n",
      "           7       0.96      0.92      0.94      1000\n",
      "           8       0.96      0.97      0.97      1000\n",
      "           9       0.97      0.95      0.96      1000\n",
      "\n",
      "    accuracy                           0.88     10000\n",
      "   macro avg       0.88      0.88      0.88     10000\n",
      "weighted avg       0.88      0.88      0.88     10000\n",
      "\n"
     ]
    }
   ],
   "source": [
    "print(classification_report(y_test, y_pred))"
   ]
  },
  {
   "cell_type": "markdown",
   "metadata": {
    "id": "fuaT1zvzRLJK"
   },
   "source": [
    "***"
   ]
  },
  {
   "cell_type": "markdown",
   "metadata": {
    "id": "AI23qaj0RLuU"
   },
   "source": [
    "# 모델링 2. CNN"
   ]
  },
  {
   "cell_type": "markdown",
   "metadata": {
    "id": "WwyjdxROT4qg"
   },
   "source": [
    "## import"
   ]
  },
  {
   "cell_type": "code",
   "execution_count": 43,
   "metadata": {
    "id": "GCMGigUaRNc2"
   },
   "outputs": [],
   "source": [
    "import tensorflow as tf\n",
    "from tensorflow import keras\n",
    "from keras.backend import clear_session\n",
    "from keras.models import Sequential\n",
    "from keras.layers import Dense, Input, Conv2D, MaxPool2D"
   ]
  },
  {
   "cell_type": "markdown",
   "metadata": {
    "id": "ZAv5-uvmT6Bg"
   },
   "source": [
    "## 모델 설계"
   ]
  },
  {
   "cell_type": "code",
   "execution_count": 62,
   "metadata": {
    "colab": {
     "base_uri": "https://localhost:8080/"
    },
    "id": "LlQbaq15RUye",
    "outputId": "1ba9ccb8-184c-4c9e-9a93-63b648b896fb"
   },
   "outputs": [
    {
     "name": "stdout",
     "output_type": "stream",
     "text": [
      "Model: \"sequential\"\n",
      "_________________________________________________________________\n",
      " Layer (type)                Output Shape              Param #   \n",
      "=================================================================\n",
      " conv2d (Conv2D)             (None, 28, 28, 28)        280       \n",
      "                                                                 \n",
      " conv2d_1 (Conv2D)           (None, 28, 28, 28)        7084      \n",
      "                                                                 \n",
      " batch_normalization (Batch  (None, 28, 28, 28)        112       \n",
      " Normalization)                                                  \n",
      "                                                                 \n",
      " max_pooling2d (MaxPooling2  (None, 14, 14, 28)        0         \n",
      " D)                                                              \n",
      "                                                                 \n",
      " dropout (Dropout)           (None, 14, 14, 28)        0         \n",
      "                                                                 \n",
      " flatten (Flatten)           (None, 5488)              0         \n",
      "                                                                 \n",
      " dense (Dense)               (None, 1024)              5620736   \n",
      "                                                                 \n",
      " batch_normalization_1 (Bat  (None, 1024)              4096      \n",
      " chNormalization)                                                \n",
      "                                                                 \n",
      " dropout_1 (Dropout)         (None, 1024)              0         \n",
      "                                                                 \n",
      " dense_1 (Dense)             (None, 10)                10250     \n",
      "                                                                 \n",
      "=================================================================\n",
      "Total params: 5642558 (21.52 MB)\n",
      "Trainable params: 5640454 (21.52 MB)\n",
      "Non-trainable params: 2104 (8.22 KB)\n",
      "_________________________________________________________________\n"
     ]
    }
   ],
   "source": [
    "\n",
    "# 1. 세션클리어\n",
    "keras.backend.clear_session()\n",
    "\n",
    "# 2. 모델 설계\n",
    "model2 = Sequential()\n",
    "\n",
    "model2.add(Input(shape = (28, 28, 1)))\n",
    "\n",
    "model2.add( Conv2D(filters = 28, kernel_size = (3,3),\n",
    "            strides = (1,1), padding = \"same\",\n",
    "             activation = \"relu\"))\n",
    "\n",
    "model2.add( Conv2D(filters = 28, kernel_size = (3,3),\n",
    "            strides = (1,1), padding = \"same\",\n",
    "             activation = \"relu\"))\n",
    "\n",
    "model2.add( BatchNormalization() )\n",
    "model2.add(MaxPool2D(pool_size = (2,2), strides= (2,2)))\n",
    "model2.add ( keras.layers.Dropout(0.25) )\n",
    "\n",
    "model2.add( keras.layers.Flatten() )\n",
    "# Fully Connected Layer : 노드 1024개\n",
    "model2.add( keras.layers.Dense(1024, activation = \"relu\"))\n",
    "\n",
    "# BatchNormalization\n",
    "\n",
    "model2.add(keras.layers.BatchNormalization())\n",
    "\n",
    "# DropOut : 35% 비활성화\n",
    "\n",
    "model2.add( keras.layers.Dropout(0.35) )\n",
    "\n",
    "# 아웃풋레이어\n",
    "model2.add( keras.layers.Dense(10, activation = \"softmax\"))\n",
    "\n",
    "model2.compile(optimizer = \"adam\",\n",
    "                              loss = keras.losses.categorical_crossentropy,\n",
    "                              metrics = [\"accuracy\"])\n",
    "model2.summary()"
   ]
  },
  {
   "cell_type": "markdown",
   "metadata": {
    "id": "lJ0AkUr-T2mv"
   },
   "source": [
    "## 모델 학습"
   ]
  },
  {
   "cell_type": "code",
   "execution_count": 63,
   "metadata": {
    "id": "FKgyPH_7TzW_"
   },
   "outputs": [],
   "source": [
    "from tensorflow.keras.callbacks import EarlyStopping"
   ]
  },
  {
   "cell_type": "code",
   "execution_count": 64,
   "metadata": {
    "colab": {
     "base_uri": "https://localhost:8080/"
    },
    "id": "4OANYI5AU_Zi",
    "outputId": "9edcb475-429c-46cb-8198-2a4a8126b1aa"
   },
   "outputs": [
    {
     "data": {
      "text/plain": [
       "(60000, 28, 28, 1)"
      ]
     },
     "execution_count": 64,
     "metadata": {},
     "output_type": "execute_result"
    }
   ],
   "source": [
    "train_x_rel.shape"
   ]
  },
  {
   "cell_type": "code",
   "execution_count": 65,
   "metadata": {
    "id": "6CEn36W-T2Of"
   },
   "outputs": [],
   "source": [
    "es = EarlyStopping(\n",
    "      monitor = \"val_loss\",\n",
    "      min_delta = 0,\n",
    "      patience = 3,\n",
    "      verbose = 1,\n",
    "      restore_best_weights  = True\n",
    ")"
   ]
  },
  {
   "cell_type": "code",
   "execution_count": 66,
   "metadata": {
    "colab": {
     "base_uri": "https://localhost:8080/"
    },
    "id": "nR64UgNqUIXH",
    "outputId": "6605db2a-33c6-456b-c0ee-0335be9f4597"
   },
   "outputs": [
    {
     "name": "stdout",
     "output_type": "stream",
     "text": [
      "Epoch 1/10000\n",
      "1500/1500 [==============================] - 15s 7ms/step - loss: 0.4567 - accuracy: 0.8470 - val_loss: 0.2840 - val_accuracy: 0.9010\n",
      "Epoch 2/10000\n",
      "1500/1500 [==============================] - 11s 7ms/step - loss: 0.3097 - accuracy: 0.8893 - val_loss: 0.4721 - val_accuracy: 0.8445\n",
      "Epoch 3/10000\n",
      "1500/1500 [==============================] - 10s 7ms/step - loss: 0.2647 - accuracy: 0.9051 - val_loss: 0.2349 - val_accuracy: 0.9137\n",
      "Epoch 4/10000\n",
      "1500/1500 [==============================] - 10s 7ms/step - loss: 0.2322 - accuracy: 0.9162 - val_loss: 0.2548 - val_accuracy: 0.9100\n",
      "Epoch 5/10000\n",
      "1500/1500 [==============================] - 10s 6ms/step - loss: 0.2109 - accuracy: 0.9235 - val_loss: 0.2960 - val_accuracy: 0.8965\n",
      "Epoch 6/10000\n",
      "1496/1500 [============================>.] - ETA: 0s - loss: 0.1827 - accuracy: 0.9339Restoring model weights from the end of the best epoch: 3.\n",
      "1500/1500 [==============================] - 10s 7ms/step - loss: 0.1826 - accuracy: 0.9339 - val_loss: 0.2662 - val_accuracy: 0.9133\n",
      "Epoch 6: early stopping\n"
     ]
    }
   ],
   "source": [
    "history = model2.fit(train_x_rel, train_y_c,\n",
    "                     epochs = 10000, verbose = 1,\n",
    "                     validation_split = 0.2,\n",
    "                     callbacks = [es]).history"
   ]
  },
  {
   "cell_type": "markdown",
   "metadata": {
    "id": "mpDDD6bVV3Sy"
   },
   "source": [
    "## 결과 시각화"
   ]
  },
  {
   "cell_type": "code",
   "execution_count": 67,
   "metadata": {
    "colab": {
     "base_uri": "https://localhost:8080/",
     "height": 246
    },
    "id": "DlBgefTcV4wT",
    "outputId": "6e7cd3f3-be27-41a7-c851-9b2c41d48e5b"
   },
   "outputs": [
    {
     "data": {
      "image/png": "[encoded data removed]",
      "text/plain": [
       "<Figure size 1200x400 with 1 Axes>"
      ]
     },
     "metadata": {},
     "output_type": "display_data"
    }
   ],
   "source": [
    "plt.figure(figsize = (12,4))\n",
    "plt.plot(history[\"loss\"],\"--.\",label = \"train_loss\")\n",
    "plt.plot(history[\"val_loss\"], \"--.\",label = \"val_loss\")\n",
    "plt.legend()\n",
    "plt.show()"
   ]
  },
  {
   "cell_type": "markdown",
   "metadata": {
    "id": "oLcNtFTVV5vq"
   },
   "source": [
    "## 예측"
   ]
  },
  {
   "cell_type": "code",
   "execution_count": 68,
   "metadata": {
    "colab": {
     "base_uri": "https://localhost:8080/"
    },
    "id": "Q10tQIdtV-NI",
    "outputId": "de074288-7d72-4ecc-9ba2-740b043ad56e"
   },
   "outputs": [
    {
     "name": "stdout",
     "output_type": "stream",
     "text": [
      "313/313 [==============================] - 1s 3ms/step\n"
     ]
    }
   ],
   "source": [
    "y_pred =  model1.predict(test_x_rel).argmax(axis = 1)"
   ]
  },
  {
   "cell_type": "code",
   "execution_count": 69,
   "metadata": {
    "colab": {
     "base_uri": "https://localhost:8080/"
    },
    "id": "asaK7x-uV_HS",
    "outputId": "f81a7b1e-2923-4da7-a193-d338b30c5185"
   },
   "outputs": [
    {
     "name": "stdout",
     "output_type": "stream",
     "text": [
      "              precision    recall  f1-score   support\n",
      "\n",
      "           0       0.80      0.88      0.84      1000\n",
      "           1       1.00      0.96      0.98      1000\n",
      "           2       0.74      0.84      0.79      1000\n",
      "           3       0.85      0.92      0.89      1000\n",
      "           4       0.84      0.72      0.78      1000\n",
      "           5       0.93      0.99      0.96      1000\n",
      "           6       0.74      0.64      0.69      1000\n",
      "           7       0.96      0.92      0.94      1000\n",
      "           8       0.96      0.97      0.97      1000\n",
      "           9       0.97      0.95      0.96      1000\n",
      "\n",
      "    accuracy                           0.88     10000\n",
      "   macro avg       0.88      0.88      0.88     10000\n",
      "weighted avg       0.88      0.88      0.88     10000\n",
      "\n"
     ]
    }
   ],
   "source": [
    "print(classification_report(y_test, y_pred))"
   ]
  }
 ],
 "metadata": {
  "accelerator": "GPU",
  "colab": {
   "gpuType": "T4",
   "provenance": []
  },
  "kernelspec": {
   "display_name": "Python 3 (ipykernel)",
   "language": "python",
   "name": "python3"
  },
  "language_info": {
   "codemirror_mode": {
    "name": "ipython",
    "version": 3
   },
   "file_extension": ".py",
   "mimetype": "text/x-python",
   "name": "python",
   "nbconvert_exporter": "python",
   "pygments_lexer": "ipython3",
   "version": "3.11.4"
  }
 },
 "nbformat": 4,
 "nbformat_minor": 4
}
