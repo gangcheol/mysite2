{
 "cells": [
  {
   "cell_type": "raw",
   "id": "ec9f77c5-134a-48fd-810c-5090d23c0d62",
   "metadata": {},
   "source": [
    "---\n",
    "title : \"01. VOC\"\n",
    "author : \"gc\"\n",
    "date : \"10/31/23\"\n",
    "categories : [ex]\n",
    "---"
   ]
  },
  {
   "cell_type": "markdown",
   "id": "1b58bbf8-80dc-4167-a14d-9a1ecb91a269",
   "metadata": {},
   "source": [
    "# import($\\star$$\\star$$\\star$)"
   ]
  },
  {
   "cell_type": "code",
   "execution_count": 251,
   "id": "f113a7cf-b96f-4f70-bdde-3573b4df571b",
   "metadata": {
    "tags": []
   },
   "outputs": [],
   "source": [
    "#!pip install tensorflow"
   ]
  },
  {
   "cell_type": "code",
   "execution_count": 252,
   "id": "14e9448d-a6d1-488d-938e-8acc4b9b88ff",
   "metadata": {
    "tags": []
   },
   "outputs": [],
   "source": [
    "# | code-fold : true\n",
    "import numpy as np\n",
    "import pandas as pd\n",
    "import matplotlib.pyplot as plt\n",
    "import plotly.express as px\n",
    "import plotly.io as pio\n",
    "pio.renderers.dafault = \"plotly_mimetype+notebook_connected\"\n",
    "import scipy.stats as spst\n",
    "from sklearn.model_selection import train_test_split\n",
    "from sklearn.metrics import *\n",
    "from keras.models import Sequential\n",
    "from keras.layers import Dense, Dropout\n",
    "from keras.optimizers import Adam\n",
    "from keras.callbacks import EarlyStopping, ModelCheckpoint\n",
    "import seaborn as sns\n",
    "from sklearn.preprocessing import MinMaxScaler\n",
    "\n",
    "plt.rcParams[\"font.family\"] = \"Malgun Gothic\"\n",
    "plt.rcParams[\"axes.unicode_minus\"] = False"
   ]
  },
  {
   "cell_type": "code",
   "execution_count": 253,
   "id": "25783d34-7437-4181-af4b-b456e0d0d5dd",
   "metadata": {
    "tags": []
   },
   "outputs": [],
   "source": [
    "import warnings\n",
    "warnings.filterwarnings(action =\"ignore\")"
   ]
  },
  {
   "cell_type": "markdown",
   "id": "35fcf625-0544-4351-8068-93ff9d539839",
   "metadata": {},
   "source": [
    "***"
   ]
  },
  {
   "cell_type": "markdown",
   "id": "ee960659-40d2-4150-b984-b6184ed1d1e5",
   "metadata": {},
   "source": [
    "# 문제 요구사항"
   ]
  },
  {
   "cell_type": "markdown",
   "id": "389cdc79-6036-4d02-a5ef-e488c08f49da",
   "metadata": {},
   "source": [
    "`-` 주제 : 데이터를 분석 및 전처리한 후 머신러닝과 딥러닝으로 VOC를 제기한 고객의 해지여부를 예측하고 결과를 분석하세요.\n",
    "\n",
    "+ 각 문제의 답안코드는 반드시 '# 여기에 답안코드를 작성하세요'로 표시된 cell에 작성해주세요.\n",
    "+ 문제에 제시된 가이드를 읽고 답안 작성하세요.\n",
    "+ 문제에 변수명이 제시된 경우 반드시 해당 변수명을 사용하세요.\n",
    "+ 본 파일과 관련 데이터 파일은 제 3자에게 공유하거나 개인적인 용도로 사용하는 등 외부로 유출할 수 없으며 유출로 인한 책임은 응시자 본인에게 있습니다.\n",
    "<br>"
   ]
  },
  {
   "cell_type": "markdown",
   "id": "9fdf5c90-ea19-49da-9e32-8da9f5b5a596",
   "metadata": {},
   "source": [
    "# 1. Tabular 데이터 로딩"
   ]
  },
  {
   "cell_type": "code",
   "execution_count": 254,
   "id": "5e28b255-39da-4e3e-a844-df9bf3d2d1bf",
   "metadata": {
    "tags": []
   },
   "outputs": [
    {
     "data": {
      "text/html": [
       "<div>\n",
       "<style scoped>\n",
       "    .dataframe tbody tr th:only-of-type {\n",
       "        vertical-align: middle;\n",
       "    }\n",
       "\n",
       "    .dataframe tbody tr th {\n",
       "        vertical-align: top;\n",
       "    }\n",
       "\n",
       "    .dataframe thead th {\n",
       "        text-align: right;\n",
       "    }\n",
       "</style>\n",
       "<table border=\"1\" class=\"dataframe\">\n",
       "  <thead>\n",
       "    <tr style=\"text-align: right;\">\n",
       "      <th></th>\n",
       "      <th>voc_trt_perd_itg_cd</th>\n",
       "      <th>voc_prod_sbt_id</th>\n",
       "      <th>voc_wjt_sorc_id</th>\n",
       "      <th>voc_type_itg_cd</th>\n",
       "      <th>voc_sttus_itg_cd</th>\n",
       "      <th>voc_trt_reslt_itg_cd</th>\n",
       "      <th>cust_clas_itg_cd</th>\n",
       "      <th>bprod_sbt_id</th>\n",
       "      <th>age_itg_cd</th>\n",
       "      <th>cont_sttus_itg_cd</th>\n",
       "      <th>...</th>\n",
       "      <th>voc_dupl_tmscnt</th>\n",
       "      <th>oos_cause_type_itg_cd</th>\n",
       "      <th>voc_trt_need_time_itg_cd</th>\n",
       "      <th>engt_cperd_type_itg_cd</th>\n",
       "      <th>engt_tgt_div_itg_cd</th>\n",
       "      <th>cont_fns_pam_date</th>\n",
       "      <th>voc_mis_pbls_yn</th>\n",
       "      <th>fclt_oos_yn</th>\n",
       "      <th>cust_snsry_base_conf_need_time</th>\n",
       "      <th>trm_yn</th>\n",
       "    </tr>\n",
       "  </thead>\n",
       "  <tbody>\n",
       "    <tr>\n",
       "      <th>0</th>\n",
       "      <td>_</td>\n",
       "      <td>1000665328</td>\n",
       "      <td>2153</td>\n",
       "      <td>10009</td>\n",
       "      <td>10002</td>\n",
       "      <td>_</td>\n",
       "      <td>F</td>\n",
       "      <td>1000001126</td>\n",
       "      <td>36</td>\n",
       "      <td>10001</td>\n",
       "      <td>...</td>\n",
       "      <td>0</td>\n",
       "      <td>_</td>\n",
       "      <td>10001</td>\n",
       "      <td>_</td>\n",
       "      <td>_</td>\n",
       "      <td>99991231</td>\n",
       "      <td>N</td>\n",
       "      <td>_</td>\n",
       "      <td>0</td>\n",
       "      <td>N</td>\n",
       "    </tr>\n",
       "    <tr>\n",
       "      <th>1</th>\n",
       "      <td>_</td>\n",
       "      <td>1001028714</td>\n",
       "      <td>3311</td>\n",
       "      <td>10009</td>\n",
       "      <td>10002</td>\n",
       "      <td>10081</td>\n",
       "      <td>G</td>\n",
       "      <td>1000852226</td>\n",
       "      <td>32</td>\n",
       "      <td>10001</td>\n",
       "      <td>...</td>\n",
       "      <td>0</td>\n",
       "      <td>_</td>\n",
       "      <td>10001</td>\n",
       "      <td>15098</td>\n",
       "      <td>15244</td>\n",
       "      <td>20220319</td>\n",
       "      <td>N</td>\n",
       "      <td>_</td>\n",
       "      <td>0</td>\n",
       "      <td>N</td>\n",
       "    </tr>\n",
       "    <tr>\n",
       "      <th>2</th>\n",
       "      <td>_</td>\n",
       "      <td>1001028567</td>\n",
       "      <td>1575</td>\n",
       "      <td>10009</td>\n",
       "      <td>10002</td>\n",
       "      <td>_</td>\n",
       "      <td>G</td>\n",
       "      <td>1000851875</td>\n",
       "      <td>52</td>\n",
       "      <td>10001</td>\n",
       "      <td>...</td>\n",
       "      <td>0</td>\n",
       "      <td>10268</td>\n",
       "      <td>10001</td>\n",
       "      <td>15097</td>\n",
       "      <td>15244</td>\n",
       "      <td>20220508</td>\n",
       "      <td>N</td>\n",
       "      <td>N</td>\n",
       "      <td>0</td>\n",
       "      <td>N</td>\n",
       "    </tr>\n",
       "    <tr>\n",
       "      <th>3</th>\n",
       "      <td>10000</td>\n",
       "      <td>1000665328</td>\n",
       "      <td>3546</td>\n",
       "      <td>10009</td>\n",
       "      <td>10002</td>\n",
       "      <td>_</td>\n",
       "      <td>_</td>\n",
       "      <td>1000001126</td>\n",
       "      <td>_</td>\n",
       "      <td>10001</td>\n",
       "      <td>...</td>\n",
       "      <td>0</td>\n",
       "      <td>_</td>\n",
       "      <td>10001</td>\n",
       "      <td>_</td>\n",
       "      <td>_</td>\n",
       "      <td>99991231</td>\n",
       "      <td>N</td>\n",
       "      <td>_</td>\n",
       "      <td>0</td>\n",
       "      <td>N</td>\n",
       "    </tr>\n",
       "    <tr>\n",
       "      <th>4</th>\n",
       "      <td>_</td>\n",
       "      <td>1000779276</td>\n",
       "      <td>3086</td>\n",
       "      <td>10009</td>\n",
       "      <td>10002</td>\n",
       "      <td>_</td>\n",
       "      <td>G</td>\n",
       "      <td>1000764639</td>\n",
       "      <td>50</td>\n",
       "      <td>10001</td>\n",
       "      <td>...</td>\n",
       "      <td>0</td>\n",
       "      <td>_</td>\n",
       "      <td>10001</td>\n",
       "      <td>_</td>\n",
       "      <td>_</td>\n",
       "      <td>99991231</td>\n",
       "      <td>N</td>\n",
       "      <td>_</td>\n",
       "      <td>0</td>\n",
       "      <td>N</td>\n",
       "    </tr>\n",
       "  </tbody>\n",
       "</table>\n",
       "<p>5 rows × 24 columns</p>\n",
       "</div>"
      ],
      "text/plain": [
       "  voc_trt_perd_itg_cd  voc_prod_sbt_id  voc_wjt_sorc_id  voc_type_itg_cd  \\\n",
       "0                   _       1000665328             2153            10009   \n",
       "1                   _       1001028714             3311            10009   \n",
       "2                   _       1001028567             1575            10009   \n",
       "3               10000       1000665328             3546            10009   \n",
       "4                   _       1000779276             3086            10009   \n",
       "\n",
       "   voc_sttus_itg_cd voc_trt_reslt_itg_cd cust_clas_itg_cd  bprod_sbt_id  \\\n",
       "0             10002                    _                F    1000001126   \n",
       "1             10002                10081                G    1000852226   \n",
       "2             10002                    _                G    1000851875   \n",
       "3             10002                    _                _    1000001126   \n",
       "4             10002                    _                G    1000764639   \n",
       "\n",
       "  age_itg_cd cont_sttus_itg_cd  ...  voc_dupl_tmscnt  oos_cause_type_itg_cd  \\\n",
       "0         36             10001  ...                0                      _   \n",
       "1         32             10001  ...                0                      _   \n",
       "2         52             10001  ...                0                  10268   \n",
       "3          _             10001  ...                0                      _   \n",
       "4         50             10001  ...                0                      _   \n",
       "\n",
       "  voc_trt_need_time_itg_cd  engt_cperd_type_itg_cd  engt_tgt_div_itg_cd  \\\n",
       "0                    10001                       _                    _   \n",
       "1                    10001                   15098                15244   \n",
       "2                    10001                   15097                15244   \n",
       "3                    10001                       _                    _   \n",
       "4                    10001                       _                    _   \n",
       "\n",
       "  cont_fns_pam_date  voc_mis_pbls_yn fclt_oos_yn  \\\n",
       "0          99991231                N           _   \n",
       "1          20220319                N           _   \n",
       "2          20220508                N           N   \n",
       "3          99991231                N           _   \n",
       "4          99991231                N           _   \n",
       "\n",
       "  cust_snsry_base_conf_need_time  trm_yn  \n",
       "0                              0       N  \n",
       "1                              0       N  \n",
       "2                              0       N  \n",
       "3                              0       N  \n",
       "4                              0       N  \n",
       "\n",
       "[5 rows x 24 columns]"
      ]
     },
     "execution_count": 254,
     "metadata": {},
     "output_type": "execute_result"
    }
   ],
   "source": [
    "df = pd.read_csv(\"voc_data.csv\")\n",
    "df.head()"
   ]
  },
  {
   "cell_type": "markdown",
   "id": "dc1b4657-8b7d-46cb-bf2c-e92cc404acb5",
   "metadata": {},
   "source": [
    "# 2. 데이터 구성확인"
   ]
  },
  {
   "cell_type": "code",
   "execution_count": 255,
   "id": "2bcadb6f-b351-45ec-aed5-90c57b9859cc",
   "metadata": {
    "tags": []
   },
   "outputs": [
    {
     "name": "stdout",
     "output_type": "stream",
     "text": [
      "<class 'pandas.core.frame.DataFrame'>\n",
      "RangeIndex: 10000 entries, 0 to 9999\n",
      "Data columns (total 24 columns):\n",
      " #   Column                          Non-Null Count  Dtype \n",
      "---  ------                          --------------  ----- \n",
      " 0   voc_trt_perd_itg_cd             10000 non-null  object\n",
      " 1   voc_prod_sbt_id                 10000 non-null  int64 \n",
      " 2   voc_wjt_sorc_id                 10000 non-null  int64 \n",
      " 3   voc_type_itg_cd                 10000 non-null  int64 \n",
      " 4   voc_sttus_itg_cd                10000 non-null  int64 \n",
      " 5   voc_trt_reslt_itg_cd            10000 non-null  object\n",
      " 6   cust_clas_itg_cd                10000 non-null  object\n",
      " 7   bprod_sbt_id                    10000 non-null  int64 \n",
      " 8   age_itg_cd                      10000 non-null  object\n",
      " 9   cont_sttus_itg_cd               10000 non-null  object\n",
      " 10  new_date                        10000 non-null  int64 \n",
      " 11  opn_nfl_chg_date                10000 non-null  int64 \n",
      " 12  cust_dtl_ctg_itg_cd             10000 non-null  object\n",
      " 13  voc_trt_degr_div_itg_cd         10000 non-null  int64 \n",
      " 14  voc_dupl_tmscnt                 10000 non-null  int64 \n",
      " 15  oos_cause_type_itg_cd           10000 non-null  object\n",
      " 16  voc_trt_need_time_itg_cd        10000 non-null  int64 \n",
      " 17  engt_cperd_type_itg_cd          10000 non-null  object\n",
      " 18  engt_tgt_div_itg_cd             10000 non-null  object\n",
      " 19  cont_fns_pam_date               10000 non-null  int64 \n",
      " 20  voc_mis_pbls_yn                 10000 non-null  object\n",
      " 21  fclt_oos_yn                     10000 non-null  object\n",
      " 22  cust_snsry_base_conf_need_time  10000 non-null  int64 \n",
      " 23  trm_yn                          10000 non-null  object\n",
      "dtypes: int64(12), object(12)\n",
      "memory usage: 1.8+ MB\n"
     ]
    }
   ],
   "source": [
    "df.info()"
   ]
  },
  {
   "cell_type": "code",
   "execution_count": 256,
   "id": "6a47d93d-6ccf-4118-95be-adfc8fccdcdd",
   "metadata": {
    "tags": []
   },
   "outputs": [
    {
     "data": {
      "text/plain": [
       "RangeIndex(start=0, stop=10000, step=1)"
      ]
     },
     "execution_count": 256,
     "metadata": {},
     "output_type": "execute_result"
    }
   ],
   "source": [
    "df.index"
   ]
  },
  {
   "cell_type": "code",
   "execution_count": 257,
   "id": "d8597f0b-ecc0-4b54-8ab3-2d7fff4647dc",
   "metadata": {
    "tags": []
   },
   "outputs": [
    {
     "data": {
      "text/html": [
       "<div>\n",
       "<style scoped>\n",
       "    .dataframe tbody tr th:only-of-type {\n",
       "        vertical-align: middle;\n",
       "    }\n",
       "\n",
       "    .dataframe tbody tr th {\n",
       "        vertical-align: top;\n",
       "    }\n",
       "\n",
       "    .dataframe thead th {\n",
       "        text-align: right;\n",
       "    }\n",
       "</style>\n",
       "<table border=\"1\" class=\"dataframe\">\n",
       "  <thead>\n",
       "    <tr style=\"text-align: right;\">\n",
       "      <th></th>\n",
       "      <th>voc_prod_sbt_id</th>\n",
       "      <th>voc_wjt_sorc_id</th>\n",
       "      <th>voc_type_itg_cd</th>\n",
       "      <th>voc_sttus_itg_cd</th>\n",
       "      <th>bprod_sbt_id</th>\n",
       "      <th>new_date</th>\n",
       "      <th>opn_nfl_chg_date</th>\n",
       "      <th>voc_trt_degr_div_itg_cd</th>\n",
       "      <th>voc_dupl_tmscnt</th>\n",
       "      <th>voc_trt_need_time_itg_cd</th>\n",
       "      <th>cont_fns_pam_date</th>\n",
       "      <th>cust_snsry_base_conf_need_time</th>\n",
       "    </tr>\n",
       "  </thead>\n",
       "  <tbody>\n",
       "    <tr>\n",
       "      <th>count</th>\n",
       "      <td>1.000000e+04</td>\n",
       "      <td>10000.00000</td>\n",
       "      <td>10000.00000</td>\n",
       "      <td>10000.000000</td>\n",
       "      <td>1.000000e+04</td>\n",
       "      <td>1.000000e+04</td>\n",
       "      <td>1.000000e+04</td>\n",
       "      <td>10000.000000</td>\n",
       "      <td>10000.000000</td>\n",
       "      <td>10000.000000</td>\n",
       "      <td>1.000000e+04</td>\n",
       "      <td>10000.00000</td>\n",
       "    </tr>\n",
       "    <tr>\n",
       "      <th>mean</th>\n",
       "      <td>9.907267e+08</td>\n",
       "      <td>1578.29170</td>\n",
       "      <td>10008.52360</td>\n",
       "      <td>10002.043400</td>\n",
       "      <td>8.838173e+08</td>\n",
       "      <td>1.744283e+07</td>\n",
       "      <td>1.744505e+07</td>\n",
       "      <td>20001.074200</td>\n",
       "      <td>0.008800</td>\n",
       "      <td>10002.656800</td>\n",
       "      <td>7.004469e+07</td>\n",
       "      <td>193.88010</td>\n",
       "    </tr>\n",
       "    <tr>\n",
       "      <th>std</th>\n",
       "      <td>1.005780e+08</td>\n",
       "      <td>1078.63717</td>\n",
       "      <td>1.57927</td>\n",
       "      <td>0.314843</td>\n",
       "      <td>3.214229e+08</td>\n",
       "      <td>6.849207e+06</td>\n",
       "      <td>6.850077e+06</td>\n",
       "      <td>0.262109</td>\n",
       "      <td>0.103555</td>\n",
       "      <td>6.576864</td>\n",
       "      <td>3.863802e+07</td>\n",
       "      <td>6970.03853</td>\n",
       "    </tr>\n",
       "    <tr>\n",
       "      <th>min</th>\n",
       "      <td>-9.980000e+02</td>\n",
       "      <td>126.00000</td>\n",
       "      <td>10003.00000</td>\n",
       "      <td>10002.000000</td>\n",
       "      <td>-9.980000e+02</td>\n",
       "      <td>1.010100e+04</td>\n",
       "      <td>1.010100e+04</td>\n",
       "      <td>20001.000000</td>\n",
       "      <td>0.000000</td>\n",
       "      <td>10001.000000</td>\n",
       "      <td>2.001063e+07</td>\n",
       "      <td>0.00000</td>\n",
       "    </tr>\n",
       "    <tr>\n",
       "      <th>25%</th>\n",
       "      <td>1.000782e+09</td>\n",
       "      <td>360.00000</td>\n",
       "      <td>10009.00000</td>\n",
       "      <td>10002.000000</td>\n",
       "      <td>1.000003e+09</td>\n",
       "      <td>2.008053e+07</td>\n",
       "      <td>2.008123e+07</td>\n",
       "      <td>20001.000000</td>\n",
       "      <td>0.000000</td>\n",
       "      <td>10001.000000</td>\n",
       "      <td>2.021102e+07</td>\n",
       "      <td>0.00000</td>\n",
       "    </tr>\n",
       "    <tr>\n",
       "      <th>50%</th>\n",
       "      <td>1.001028e+09</td>\n",
       "      <td>2056.00000</td>\n",
       "      <td>10009.00000</td>\n",
       "      <td>10002.000000</td>\n",
       "      <td>1.000749e+09</td>\n",
       "      <td>2.014121e+07</td>\n",
       "      <td>2.015031e+07</td>\n",
       "      <td>20001.000000</td>\n",
       "      <td>0.000000</td>\n",
       "      <td>10001.000000</td>\n",
       "      <td>9.999123e+07</td>\n",
       "      <td>0.00000</td>\n",
       "    </tr>\n",
       "    <tr>\n",
       "      <th>75%</th>\n",
       "      <td>1.001036e+09</td>\n",
       "      <td>2153.00000</td>\n",
       "      <td>10009.00000</td>\n",
       "      <td>10002.000000</td>\n",
       "      <td>1.001044e+09</td>\n",
       "      <td>2.018010e+07</td>\n",
       "      <td>2.018032e+07</td>\n",
       "      <td>20001.000000</td>\n",
       "      <td>0.000000</td>\n",
       "      <td>10001.000000</td>\n",
       "      <td>9.999123e+07</td>\n",
       "      <td>0.00000</td>\n",
       "    </tr>\n",
       "    <tr>\n",
       "      <th>max</th>\n",
       "      <td>1.001079e+09</td>\n",
       "      <td>3856.00000</td>\n",
       "      <td>10017.00000</td>\n",
       "      <td>10005.000000</td>\n",
       "      <td>1.001078e+09</td>\n",
       "      <td>2.020041e+07</td>\n",
       "      <td>2.020041e+07</td>\n",
       "      <td>20002.000000</td>\n",
       "      <td>3.000000</td>\n",
       "      <td>10038.000000</td>\n",
       "      <td>9.999123e+07</td>\n",
       "      <td>367991.00000</td>\n",
       "    </tr>\n",
       "  </tbody>\n",
       "</table>\n",
       "</div>"
      ],
      "text/plain": [
       "       voc_prod_sbt_id  voc_wjt_sorc_id  voc_type_itg_cd  voc_sttus_itg_cd  \\\n",
       "count     1.000000e+04      10000.00000      10000.00000      10000.000000   \n",
       "mean      9.907267e+08       1578.29170      10008.52360      10002.043400   \n",
       "std       1.005780e+08       1078.63717          1.57927          0.314843   \n",
       "min      -9.980000e+02        126.00000      10003.00000      10002.000000   \n",
       "25%       1.000782e+09        360.00000      10009.00000      10002.000000   \n",
       "50%       1.001028e+09       2056.00000      10009.00000      10002.000000   \n",
       "75%       1.001036e+09       2153.00000      10009.00000      10002.000000   \n",
       "max       1.001079e+09       3856.00000      10017.00000      10005.000000   \n",
       "\n",
       "       bprod_sbt_id      new_date  opn_nfl_chg_date  voc_trt_degr_div_itg_cd  \\\n",
       "count  1.000000e+04  1.000000e+04      1.000000e+04             10000.000000   \n",
       "mean   8.838173e+08  1.744283e+07      1.744505e+07             20001.074200   \n",
       "std    3.214229e+08  6.849207e+06      6.850077e+06                 0.262109   \n",
       "min   -9.980000e+02  1.010100e+04      1.010100e+04             20001.000000   \n",
       "25%    1.000003e+09  2.008053e+07      2.008123e+07             20001.000000   \n",
       "50%    1.000749e+09  2.014121e+07      2.015031e+07             20001.000000   \n",
       "75%    1.001044e+09  2.018010e+07      2.018032e+07             20001.000000   \n",
       "max    1.001078e+09  2.020041e+07      2.020041e+07             20002.000000   \n",
       "\n",
       "       voc_dupl_tmscnt  voc_trt_need_time_itg_cd  cont_fns_pam_date  \\\n",
       "count     10000.000000              10000.000000       1.000000e+04   \n",
       "mean          0.008800              10002.656800       7.004469e+07   \n",
       "std           0.103555                  6.576864       3.863802e+07   \n",
       "min           0.000000              10001.000000       2.001063e+07   \n",
       "25%           0.000000              10001.000000       2.021102e+07   \n",
       "50%           0.000000              10001.000000       9.999123e+07   \n",
       "75%           0.000000              10001.000000       9.999123e+07   \n",
       "max           3.000000              10038.000000       9.999123e+07   \n",
       "\n",
       "       cust_snsry_base_conf_need_time  \n",
       "count                     10000.00000  \n",
       "mean                        193.88010  \n",
       "std                        6970.03853  \n",
       "min                           0.00000  \n",
       "25%                           0.00000  \n",
       "50%                           0.00000  \n",
       "75%                           0.00000  \n",
       "max                      367991.00000  "
      ]
     },
     "execution_count": 257,
     "metadata": {},
     "output_type": "execute_result"
    }
   ],
   "source": [
    "df.describe()"
   ]
  },
  {
   "cell_type": "code",
   "execution_count": 258,
   "id": "3edbe4f3-cbf0-4f8d-8f88-28e929e2c474",
   "metadata": {
    "tags": []
   },
   "outputs": [
    {
     "data": {
      "text/plain": [
       "voc_trt_perd_itg_cd               0\n",
       "voc_prod_sbt_id                   0\n",
       "voc_wjt_sorc_id                   0\n",
       "voc_type_itg_cd                   0\n",
       "voc_sttus_itg_cd                  0\n",
       "voc_trt_reslt_itg_cd              0\n",
       "cust_clas_itg_cd                  0\n",
       "bprod_sbt_id                      0\n",
       "age_itg_cd                        0\n",
       "cont_sttus_itg_cd                 0\n",
       "new_date                          0\n",
       "opn_nfl_chg_date                  0\n",
       "cust_dtl_ctg_itg_cd               0\n",
       "voc_trt_degr_div_itg_cd           0\n",
       "voc_dupl_tmscnt                   0\n",
       "oos_cause_type_itg_cd             0\n",
       "voc_trt_need_time_itg_cd          0\n",
       "engt_cperd_type_itg_cd            0\n",
       "engt_tgt_div_itg_cd               0\n",
       "cont_fns_pam_date                 0\n",
       "voc_mis_pbls_yn                   0\n",
       "fclt_oos_yn                       0\n",
       "cust_snsry_base_conf_need_time    0\n",
       "trm_yn                            0\n",
       "dtype: int64"
      ]
     },
     "execution_count": 258,
     "metadata": {},
     "output_type": "execute_result"
    }
   ],
   "source": [
    "df.isna().sum()"
   ]
  },
  {
   "cell_type": "markdown",
   "id": "a54218f9-de90-4bc8-8a02-817cb01d9cb8",
   "metadata": {},
   "source": [
    "### `voc_trt_perd_itg_cd` 칼럼에 고유값 count"
   ]
  },
  {
   "cell_type": "code",
   "execution_count": 259,
   "id": "90d47a68-c2a1-4131-898d-d49412f9c541",
   "metadata": {
    "tags": []
   },
   "outputs": [
    {
     "data": {
      "text/plain": [
       "voc_trt_perd_itg_cd\n",
       "_        5422\n",
       "10000    4283\n",
       "10001     163\n",
       "10002      58\n",
       "10003      25\n",
       "10004      16\n",
       "10005      10\n",
       "10006       6\n",
       "10008       3\n",
       "10009       3\n",
       "10016       2\n",
       "10011       2\n",
       "10012       2\n",
       "10007       2\n",
       "10014       1\n",
       "10013       1\n",
       "10015       1\n",
       "Name: count, dtype: int64"
      ]
     },
     "execution_count": 259,
     "metadata": {},
     "output_type": "execute_result"
    }
   ],
   "source": [
    "df[\"voc_trt_perd_itg_cd\"].value_counts()"
   ]
  },
  {
   "cell_type": "code",
   "execution_count": 260,
   "id": "fabf0317-18a1-4873-879d-2ac36c297fea",
   "metadata": {
    "tags": []
   },
   "outputs": [
    {
     "data": {
      "text/plain": [
       "voc_trt_perd_itg_cd\n",
       "_        0.5422\n",
       "10000    0.4283\n",
       "10001    0.0163\n",
       "10002    0.0058\n",
       "10003    0.0025\n",
       "10004    0.0016\n",
       "10005    0.0010\n",
       "10006    0.0006\n",
       "10008    0.0003\n",
       "10009    0.0003\n",
       "10016    0.0002\n",
       "10011    0.0002\n",
       "10012    0.0002\n",
       "10007    0.0002\n",
       "10014    0.0001\n",
       "10013    0.0001\n",
       "10015    0.0001\n",
       "Name: proportion, dtype: float64"
      ]
     },
     "execution_count": 260,
     "metadata": {},
     "output_type": "execute_result"
    }
   ],
   "source": [
    "df[\"voc_trt_perd_itg_cd\"].value_counts(normalize=True)"
   ]
  },
  {
   "cell_type": "markdown",
   "id": "544aeebe-4eaf-4634-b099-9a57886a0675",
   "metadata": {},
   "source": [
    "# 3. 불필요한 칼럼 삭제"
   ]
  },
  {
   "cell_type": "code",
   "execution_count": 261,
   "id": "4e200900-7624-4d12-a09f-886bf362455b",
   "metadata": {
    "tags": []
   },
   "outputs": [],
   "source": [
    "d_c = ['voc_trt_perd_itg_cd', \n",
    "       'voc_trt_reslt_itg_cd', \n",
    "       'oos_cause_type_itg_cd', \n",
    "       'engt_cperd_type_itg_cd', \n",
    "       'engt_tgt_div_itg_cd',\n",
    "       'fclt_oos_yn']"
   ]
  },
  {
   "cell_type": "code",
   "execution_count": 262,
   "id": "4681d4b3-dc16-4a5e-88fe-7564c94b0884",
   "metadata": {
    "tags": []
   },
   "outputs": [],
   "source": [
    "df1 = df.drop(d_c, axis = 1)"
   ]
  },
  {
   "cell_type": "code",
   "execution_count": 263,
   "id": "a9569207-a1a1-49e3-9dc4-74ace8aa317e",
   "metadata": {
    "tags": []
   },
   "outputs": [
    {
     "data": {
      "text/plain": [
       "[1, 0, 0, 0, 0, 1, 0, 0, 0, 0, 0, 0, 0, 0, 0, 1, 0, 1, 1, 0, 0, 1, 0, 0]"
      ]
     },
     "execution_count": 263,
     "metadata": {},
     "output_type": "execute_result"
    }
   ],
   "source": [
    "[1 if i in d_c else 0 for i in df.columns.values]"
   ]
  },
  {
   "cell_type": "markdown",
   "id": "afa51335-96a3-44d1-aa46-2d207bdab14c",
   "metadata": {},
   "source": [
    "`-` 'voc_mis_pbls_yn' 컬럼은 'N' 값이 99% 이상 차지하므로 삭제"
   ]
  },
  {
   "cell_type": "code",
   "execution_count": 264,
   "id": "4ac18ac6-1dbf-44ed-8def-e3da707fd570",
   "metadata": {
    "tags": []
   },
   "outputs": [],
   "source": [
    "df1.drop('voc_mis_pbls_yn', axis = 1, inplace = True)"
   ]
  },
  {
   "cell_type": "markdown",
   "id": "561a8b3b-28c7-48b2-a41f-023ff34431dd",
   "metadata": {},
   "source": [
    "`-` 날짜 관련 컬럼 삭제"
   ]
  },
  {
   "cell_type": "code",
   "execution_count": 265,
   "id": "227c335a-667a-4677-99f9-ffc219b46f3b",
   "metadata": {
    "tags": []
   },
   "outputs": [
    {
     "data": {
      "text/plain": [
       "[0, 0, 0, 0, 0, 0, 0, 0, 0, 0, 0, 0, 0, 0]"
      ]
     },
     "execution_count": 265,
     "metadata": {},
     "output_type": "execute_result"
    }
   ],
   "source": [
    "date_col = ['new_date', 'opn_nfl_chg_date', 'cont_fns_pam_date']\n",
    "df1.drop(date_col, axis = 1, inplace = True)\n",
    "[1 if i in date_col else 0 for i in df1.columns.values]"
   ]
  },
  {
   "cell_type": "markdown",
   "id": "46db3045-631a-47b9-a1fc-b3c491b42477",
   "metadata": {},
   "source": [
    "# 4. 데이터 결측치 처리 "
   ]
  },
  {
   "cell_type": "markdown",
   "id": "eda15354-cb41-486f-955c-0daf1bd00ae3",
   "metadata": {},
   "source": [
    "+ DataFrame replace 함수를 사용해서 모든 컬럼에 대해 '_'값을 null로 변경\n",
    "+ Null 표현: np.nan \n",
    "+ \"df1\" DataFrame 자체에 저장할 것이므로 inplace=True 사용\n",
    "+ 컬럼별 Null 갯수 확인"
   ]
  },
  {
   "cell_type": "code",
   "execution_count": 266,
   "id": "10266153-92a9-4e07-b629-47a339c391d3",
   "metadata": {
    "tags": []
   },
   "outputs": [],
   "source": [
    "df1.replace(\"_\", np.nan,inplace = True)"
   ]
  },
  {
   "cell_type": "code",
   "execution_count": 267,
   "id": "f42b42b1-d7d9-4305-a711-fcee16826968",
   "metadata": {
    "tags": []
   },
   "outputs": [
    {
     "data": {
      "text/plain": [
       "voc_prod_sbt_id                      0\n",
       "voc_wjt_sorc_id                      0\n",
       "voc_type_itg_cd                      0\n",
       "voc_sttus_itg_cd                     0\n",
       "cust_clas_itg_cd                  1934\n",
       "bprod_sbt_id                         0\n",
       "age_itg_cd                        2129\n",
       "cont_sttus_itg_cd                 1168\n",
       "cust_dtl_ctg_itg_cd               1168\n",
       "voc_trt_degr_div_itg_cd              0\n",
       "voc_dupl_tmscnt                      0\n",
       "voc_trt_need_time_itg_cd             0\n",
       "cust_snsry_base_conf_need_time       0\n",
       "trm_yn                               0\n",
       "dtype: int64"
      ]
     },
     "execution_count": 267,
     "metadata": {},
     "output_type": "execute_result"
    }
   ],
   "source": [
    "df1.isna().sum()"
   ]
  },
  {
   "cell_type": "markdown",
   "id": "aacf1ee6-134f-45ec-a1aa-9df85b431f52",
   "metadata": {
    "tags": []
   },
   "source": [
    "# 5. `cust_clas_itg_cd`의 결측치를 최빈값으로 변경"
   ]
  },
  {
   "cell_type": "code",
   "execution_count": 268,
   "id": "902ebbb0-d965-4636-af50-6c6538206b1d",
   "metadata": {
    "tags": []
   },
   "outputs": [
    {
     "data": {
      "text/plain": [
       "cust_clas_itg_cd\n",
       "L    2769\n",
       "G    1777\n",
       "I    1266\n",
       "J    1071\n",
       "F     903\n",
       "O     275\n",
       "H       4\n",
       "M       1\n",
       "Name: count, dtype: int64"
      ]
     },
     "execution_count": 268,
     "metadata": {},
     "output_type": "execute_result"
    }
   ],
   "source": [
    "df1[\"cust_clas_itg_cd\"].value_counts()"
   ]
  },
  {
   "cell_type": "code",
   "execution_count": 269,
   "id": "4c3aceb5-ab1c-4e0d-94ad-307eb6737cf6",
   "metadata": {
    "tags": []
   },
   "outputs": [],
   "source": [
    "m = df1[\"cust_clas_itg_cd\"].mode()[0]\n",
    "df1[\"cust_clas_itg_cd\"].fillna(m,inplace = True)"
   ]
  },
  {
   "cell_type": "code",
   "execution_count": 270,
   "id": "60fea209-20fc-49b7-aab5-b57e93a7a681",
   "metadata": {
    "tags": []
   },
   "outputs": [
    {
     "data": {
      "text/plain": [
       "0"
      ]
     },
     "execution_count": 270,
     "metadata": {},
     "output_type": "execute_result"
    }
   ],
   "source": [
    "df1[\"cust_clas_itg_cd\"].isna().sum()"
   ]
  },
  {
   "cell_type": "code",
   "execution_count": 271,
   "id": "87d832d8-508e-465f-aa90-fd51281abef4",
   "metadata": {
    "tags": []
   },
   "outputs": [
    {
     "name": "stdout",
     "output_type": "stream",
     "text": [
      "<class 'pandas.core.frame.DataFrame'>\n",
      "RangeIndex: 10000 entries, 0 to 9999\n",
      "Data columns (total 14 columns):\n",
      " #   Column                          Non-Null Count  Dtype \n",
      "---  ------                          --------------  ----- \n",
      " 0   voc_prod_sbt_id                 10000 non-null  int64 \n",
      " 1   voc_wjt_sorc_id                 10000 non-null  int64 \n",
      " 2   voc_type_itg_cd                 10000 non-null  int64 \n",
      " 3   voc_sttus_itg_cd                10000 non-null  int64 \n",
      " 4   cust_clas_itg_cd                10000 non-null  object\n",
      " 5   bprod_sbt_id                    10000 non-null  int64 \n",
      " 6   age_itg_cd                      7871 non-null   object\n",
      " 7   cont_sttus_itg_cd               8832 non-null   object\n",
      " 8   cust_dtl_ctg_itg_cd             8832 non-null   object\n",
      " 9   voc_trt_degr_div_itg_cd         10000 non-null  int64 \n",
      " 10  voc_dupl_tmscnt                 10000 non-null  int64 \n",
      " 11  voc_trt_need_time_itg_cd        10000 non-null  int64 \n",
      " 12  cust_snsry_base_conf_need_time  10000 non-null  int64 \n",
      " 13  trm_yn                          10000 non-null  object\n",
      "dtypes: int64(9), object(5)\n",
      "memory usage: 1.1+ MB\n"
     ]
    }
   ],
   "source": [
    "df1.info()"
   ]
  },
  {
   "cell_type": "markdown",
   "id": "1475b731-ed4a-46c0-a32d-e5a0e98a23d7",
   "metadata": {},
   "source": [
    "# 6. `age_itg_cd`의 결측치를 중앙값으로 변경하고 데이터 타입을 정수로 변경"
   ]
  },
  {
   "cell_type": "code",
   "execution_count": 272,
   "id": "3adbc147-778a-403a-b825-5de6548fdb8d",
   "metadata": {
    "tags": []
   },
   "outputs": [],
   "source": [
    "m2 = df1[\"age_itg_cd\"].median()\n",
    "\n",
    "df1[\"age_itg_cd\"].fillna(m2, inplace = True)"
   ]
  },
  {
   "cell_type": "code",
   "execution_count": 273,
   "id": "a69d7cf1-d01d-4d23-8b5c-943c0ada8be2",
   "metadata": {
    "tags": []
   },
   "outputs": [
    {
     "data": {
      "text/plain": [
       "0"
      ]
     },
     "execution_count": 273,
     "metadata": {},
     "output_type": "execute_result"
    }
   ],
   "source": [
    "df1[\"age_itg_cd\"].isna().sum()"
   ]
  },
  {
   "cell_type": "code",
   "execution_count": 274,
   "id": "dc655493-57df-4dd5-a12f-9e9c42bb040e",
   "metadata": {
    "tags": []
   },
   "outputs": [
    {
     "data": {
      "text/plain": [
       "dtype('int32')"
      ]
     },
     "execution_count": 274,
     "metadata": {},
     "output_type": "execute_result"
    }
   ],
   "source": [
    "df1[\"age_itg_cd\"] = df1[\"age_itg_cd\"].astype(int)\n",
    "df1[\"age_itg_cd\"].dtype"
   ]
  },
  {
   "cell_type": "code",
   "execution_count": 275,
   "id": "8f22b252-ec66-4903-95a2-b33bb75b8a81",
   "metadata": {
    "tags": []
   },
   "outputs": [
    {
     "name": "stdout",
     "output_type": "stream",
     "text": [
      "<class 'pandas.core.frame.DataFrame'>\n",
      "RangeIndex: 10000 entries, 0 to 9999\n",
      "Data columns (total 14 columns):\n",
      " #   Column                          Non-Null Count  Dtype \n",
      "---  ------                          --------------  ----- \n",
      " 0   voc_prod_sbt_id                 10000 non-null  int64 \n",
      " 1   voc_wjt_sorc_id                 10000 non-null  int64 \n",
      " 2   voc_type_itg_cd                 10000 non-null  int64 \n",
      " 3   voc_sttus_itg_cd                10000 non-null  int64 \n",
      " 4   cust_clas_itg_cd                10000 non-null  object\n",
      " 5   bprod_sbt_id                    10000 non-null  int64 \n",
      " 6   age_itg_cd                      10000 non-null  int32 \n",
      " 7   cont_sttus_itg_cd               8832 non-null   object\n",
      " 8   cust_dtl_ctg_itg_cd             8832 non-null   object\n",
      " 9   voc_trt_degr_div_itg_cd         10000 non-null  int64 \n",
      " 10  voc_dupl_tmscnt                 10000 non-null  int64 \n",
      " 11  voc_trt_need_time_itg_cd        10000 non-null  int64 \n",
      " 12  cust_snsry_base_conf_need_time  10000 non-null  int64 \n",
      " 13  trm_yn                          10000 non-null  object\n",
      "dtypes: int32(1), int64(9), object(4)\n",
      "memory usage: 1.0+ MB\n"
     ]
    }
   ],
   "source": [
    "df1.info()"
   ]
  },
  {
   "cell_type": "markdown",
   "id": "988a6af2-e33b-45e6-973a-a083a220d051",
   "metadata": {},
   "source": [
    "# 7.  `cont_sttus_itg_cd`의 null 값과 `cust_dtl_ctg_itg_cd`의 null 값을 최빈값(mode)으로 변경"
   ]
  },
  {
   "cell_type": "code",
   "execution_count": 276,
   "id": "207e4347-ec9a-4ee9-8656-c9f36c344f8e",
   "metadata": {
    "tags": []
   },
   "outputs": [
    {
     "data": {
      "text/plain": [
       "('10001', '10003')"
      ]
     },
     "execution_count": 276,
     "metadata": {},
     "output_type": "execute_result"
    }
   ],
   "source": [
    "m3, m4 = df1[\"cont_sttus_itg_cd\"].mode()[0], df1[\"cust_dtl_ctg_itg_cd\"].mode()[0]\n",
    "m3, m4"
   ]
  },
  {
   "cell_type": "code",
   "execution_count": 277,
   "id": "5c9ac724-4f12-40fb-876c-7e890eb40aa3",
   "metadata": {
    "tags": []
   },
   "outputs": [],
   "source": [
    "df1[\"cont_sttus_itg_cd\"].fillna(m3,inplace = True)\n",
    "df1[\"cust_dtl_ctg_itg_cd\"].fillna(m4,inplace = True)"
   ]
  },
  {
   "cell_type": "code",
   "execution_count": 278,
   "id": "6bf68cf9-242e-4949-9385-4c2556532f6f",
   "metadata": {
    "tags": []
   },
   "outputs": [
    {
     "data": {
      "text/plain": [
       "0"
      ]
     },
     "execution_count": 278,
     "metadata": {},
     "output_type": "execute_result"
    }
   ],
   "source": [
    "df1[\"cont_sttus_itg_cd\"].isna().sum()"
   ]
  },
  {
   "cell_type": "code",
   "execution_count": 279,
   "id": "870c4a05-913f-48ad-8e96-58fbc976cf4e",
   "metadata": {
    "tags": []
   },
   "outputs": [
    {
     "data": {
      "text/plain": [
       "0"
      ]
     },
     "execution_count": 279,
     "metadata": {},
     "output_type": "execute_result"
    }
   ],
   "source": [
    "df1[\"cust_dtl_ctg_itg_cd\"].isna().sum()"
   ]
  },
  {
   "cell_type": "markdown",
   "id": "1261ef4d-9ae4-4a63-af98-d9bd19b67147",
   "metadata": {},
   "source": [
    "# 라벨 인코딩, 원핫 인코딩($\\star$$\\star$$\\star$)"
   ]
  },
  {
   "cell_type": "markdown",
   "id": "9327f267-e775-4162-9056-078f43c8e3ac",
   "metadata": {},
   "source": [
    "`-` `df1`에서 문자열(object) 데이터 타입을 가진 열들을 선택하여 `cat_cols`라는 변수에 저장 "
   ]
  },
  {
   "cell_type": "code",
   "execution_count": 280,
   "id": "9b3faadc-b366-4939-8c90-09c0a56a5ba9",
   "metadata": {
    "tags": []
   },
   "outputs": [],
   "source": [
    "cat_cols = df1.select_dtypes(\"O\")"
   ]
  },
  {
   "cell_type": "code",
   "execution_count": 281,
   "id": "78400db1-237d-4aff-9303-392992486404",
   "metadata": {
    "tags": []
   },
   "outputs": [
    {
     "data": {
      "text/html": [
       "<div>\n",
       "<style scoped>\n",
       "    .dataframe tbody tr th:only-of-type {\n",
       "        vertical-align: middle;\n",
       "    }\n",
       "\n",
       "    .dataframe tbody tr th {\n",
       "        vertical-align: top;\n",
       "    }\n",
       "\n",
       "    .dataframe thead th {\n",
       "        text-align: right;\n",
       "    }\n",
       "</style>\n",
       "<table border=\"1\" class=\"dataframe\">\n",
       "  <thead>\n",
       "    <tr style=\"text-align: right;\">\n",
       "      <th></th>\n",
       "      <th>cust_clas_itg_cd</th>\n",
       "      <th>cont_sttus_itg_cd</th>\n",
       "      <th>cust_dtl_ctg_itg_cd</th>\n",
       "      <th>trm_yn</th>\n",
       "    </tr>\n",
       "  </thead>\n",
       "  <tbody>\n",
       "    <tr>\n",
       "      <th>0</th>\n",
       "      <td>F</td>\n",
       "      <td>10001</td>\n",
       "      <td>10003</td>\n",
       "      <td>N</td>\n",
       "    </tr>\n",
       "    <tr>\n",
       "      <th>1</th>\n",
       "      <td>G</td>\n",
       "      <td>10001</td>\n",
       "      <td>10002</td>\n",
       "      <td>N</td>\n",
       "    </tr>\n",
       "    <tr>\n",
       "      <th>2</th>\n",
       "      <td>G</td>\n",
       "      <td>10001</td>\n",
       "      <td>10003</td>\n",
       "      <td>N</td>\n",
       "    </tr>\n",
       "    <tr>\n",
       "      <th>3</th>\n",
       "      <td>L</td>\n",
       "      <td>10001</td>\n",
       "      <td>90024</td>\n",
       "      <td>N</td>\n",
       "    </tr>\n",
       "    <tr>\n",
       "      <th>4</th>\n",
       "      <td>G</td>\n",
       "      <td>10001</td>\n",
       "      <td>90024</td>\n",
       "      <td>N</td>\n",
       "    </tr>\n",
       "  </tbody>\n",
       "</table>\n",
       "</div>"
      ],
      "text/plain": [
       "  cust_clas_itg_cd cont_sttus_itg_cd cust_dtl_ctg_itg_cd trm_yn\n",
       "0                F             10001               10003      N\n",
       "1                G             10001               10002      N\n",
       "2                G             10001               10003      N\n",
       "3                L             10001               90024      N\n",
       "4                G             10001               90024      N"
      ]
     },
     "execution_count": 281,
     "metadata": {},
     "output_type": "execute_result"
    }
   ],
   "source": [
    "cat_cols.head()"
   ]
  },
  {
   "cell_type": "markdown",
   "id": "c035c503-615e-4e15-b5bd-49e1d4749bad",
   "metadata": {},
   "source": [
    "## sklearn의 모듈을 읽어와 범주형 데이터를 카테고리화($\\star\\star\\star$)"
   ]
  },
  {
   "cell_type": "markdown",
   "id": "1bd644fc-11da-4950-bc32-235d0a6d145d",
   "metadata": {},
   "source": [
    "`-` cat_cols 데이터프레임에서 `cust_clas_itg_cd` 열의 범주형 데이터를 숫자로 인코딩하고, 그 결과를 `le_cust_clas_itg_cd` 열에 저장"
   ]
  },
  {
   "cell_type": "code",
   "execution_count": 282,
   "id": "06419807-f93c-4bf1-8a84-d4c61e7c2291",
   "metadata": {
    "tags": []
   },
   "outputs": [],
   "source": [
    "from sklearn.preprocessing import LabelEncoder\n",
    "\n",
    "le = LabelEncoder()\n",
    "cat_cols[\"le_cust_clas_itg_cd\"] = le.fit_transform(cat_cols[\"cust_clas_itg_cd\"])"
   ]
  },
  {
   "cell_type": "code",
   "execution_count": 283,
   "id": "8084fb6b-b4dd-4e7e-8a1a-66fa703c1922",
   "metadata": {
    "tags": []
   },
   "outputs": [
    {
     "data": {
      "text/html": [
       "<div>\n",
       "<style scoped>\n",
       "    .dataframe tbody tr th:only-of-type {\n",
       "        vertical-align: middle;\n",
       "    }\n",
       "\n",
       "    .dataframe tbody tr th {\n",
       "        vertical-align: top;\n",
       "    }\n",
       "\n",
       "    .dataframe thead th {\n",
       "        text-align: right;\n",
       "    }\n",
       "</style>\n",
       "<table border=\"1\" class=\"dataframe\">\n",
       "  <thead>\n",
       "    <tr style=\"text-align: right;\">\n",
       "      <th></th>\n",
       "      <th>cust_clas_itg_cd</th>\n",
       "      <th>cont_sttus_itg_cd</th>\n",
       "      <th>cust_dtl_ctg_itg_cd</th>\n",
       "      <th>trm_yn</th>\n",
       "      <th>le_cust_clas_itg_cd</th>\n",
       "    </tr>\n",
       "  </thead>\n",
       "  <tbody>\n",
       "    <tr>\n",
       "      <th>0</th>\n",
       "      <td>F</td>\n",
       "      <td>10001</td>\n",
       "      <td>10003</td>\n",
       "      <td>N</td>\n",
       "      <td>0</td>\n",
       "    </tr>\n",
       "    <tr>\n",
       "      <th>1</th>\n",
       "      <td>G</td>\n",
       "      <td>10001</td>\n",
       "      <td>10002</td>\n",
       "      <td>N</td>\n",
       "      <td>1</td>\n",
       "    </tr>\n",
       "    <tr>\n",
       "      <th>2</th>\n",
       "      <td>G</td>\n",
       "      <td>10001</td>\n",
       "      <td>10003</td>\n",
       "      <td>N</td>\n",
       "      <td>1</td>\n",
       "    </tr>\n",
       "    <tr>\n",
       "      <th>3</th>\n",
       "      <td>L</td>\n",
       "      <td>10001</td>\n",
       "      <td>90024</td>\n",
       "      <td>N</td>\n",
       "      <td>5</td>\n",
       "    </tr>\n",
       "    <tr>\n",
       "      <th>4</th>\n",
       "      <td>G</td>\n",
       "      <td>10001</td>\n",
       "      <td>90024</td>\n",
       "      <td>N</td>\n",
       "      <td>1</td>\n",
       "    </tr>\n",
       "  </tbody>\n",
       "</table>\n",
       "</div>"
      ],
      "text/plain": [
       "  cust_clas_itg_cd cont_sttus_itg_cd cust_dtl_ctg_itg_cd trm_yn  \\\n",
       "0                F             10001               10003      N   \n",
       "1                G             10001               10002      N   \n",
       "2                G             10001               10003      N   \n",
       "3                L             10001               90024      N   \n",
       "4                G             10001               90024      N   \n",
       "\n",
       "   le_cust_clas_itg_cd  \n",
       "0                    0  \n",
       "1                    1  \n",
       "2                    1  \n",
       "3                    5  \n",
       "4                    1  "
      ]
     },
     "execution_count": 283,
     "metadata": {},
     "output_type": "execute_result"
    }
   ],
   "source": [
    "cat_cols.head()"
   ]
  },
  {
   "cell_type": "markdown",
   "id": "23c48698-cba9-47fc-8a28-8a446caa4c39",
   "metadata": {},
   "source": [
    "# 8. 범주형 컬럼(cat_columns)에 대해서 One-Hot-Encoding될 수 있도록 Pandas의 get_dummies 함수를 적용"
   ]
  },
  {
   "cell_type": "markdown",
   "id": "3dbc9880-fdba-4eed-90aa-b54e32f70e18",
   "metadata": {},
   "source": [
    "+ 범주형 컬럼을 찾아 cat_columns에 저장하세요\n",
    "+ Pandas의 get_dummies 함수 사용\n",
    "+ 대상 데이터프레임 : df1\n",
    "+ columns=cat_columns\n",
    "+ drop_first=True\n",
    "+ 해당 전처리가 반영된 결과를 'df1' DataFrame에 저장해 주세요."
   ]
  },
  {
   "cell_type": "code",
   "execution_count": 284,
   "id": "1b1d7f49-c7b5-4763-b6cb-af0035874aa5",
   "metadata": {
    "tags": []
   },
   "outputs": [],
   "source": [
    "cat_columns = df1.select_dtypes(\"O\").columns.values.tolist()\n",
    "\n",
    "df1 = pd.get_dummies(data = df1, columns = cat_columns, drop_first = True)"
   ]
  },
  {
   "cell_type": "code",
   "execution_count": 285,
   "id": "a831e2ab-3eab-4a9f-83d0-901c67ba3881",
   "metadata": {
    "tags": []
   },
   "outputs": [
    {
     "name": "stdout",
     "output_type": "stream",
     "text": [
      "<class 'pandas.core.frame.DataFrame'>\n",
      "RangeIndex: 10000 entries, 0 to 9999\n",
      "Data columns (total 35 columns):\n",
      " #   Column                          Non-Null Count  Dtype\n",
      "---  ------                          --------------  -----\n",
      " 0   voc_prod_sbt_id                 10000 non-null  int64\n",
      " 1   voc_wjt_sorc_id                 10000 non-null  int64\n",
      " 2   voc_type_itg_cd                 10000 non-null  int64\n",
      " 3   voc_sttus_itg_cd                10000 non-null  int64\n",
      " 4   bprod_sbt_id                    10000 non-null  int64\n",
      " 5   age_itg_cd                      10000 non-null  int32\n",
      " 6   voc_trt_degr_div_itg_cd         10000 non-null  int64\n",
      " 7   voc_dupl_tmscnt                 10000 non-null  int64\n",
      " 8   voc_trt_need_time_itg_cd        10000 non-null  int64\n",
      " 9   cust_snsry_base_conf_need_time  10000 non-null  int64\n",
      " 10  cust_clas_itg_cd_G              10000 non-null  bool \n",
      " 11  cust_clas_itg_cd_H              10000 non-null  bool \n",
      " 12  cust_clas_itg_cd_I              10000 non-null  bool \n",
      " 13  cust_clas_itg_cd_J              10000 non-null  bool \n",
      " 14  cust_clas_itg_cd_L              10000 non-null  bool \n",
      " 15  cust_clas_itg_cd_M              10000 non-null  bool \n",
      " 16  cust_clas_itg_cd_O              10000 non-null  bool \n",
      " 17  cont_sttus_itg_cd_10002         10000 non-null  bool \n",
      " 18  cont_sttus_itg_cd_10003         10000 non-null  bool \n",
      " 19  cont_sttus_itg_cd_10004         10000 non-null  bool \n",
      " 20  cont_sttus_itg_cd_10005         10000 non-null  bool \n",
      " 21  cont_sttus_itg_cd_10006         10000 non-null  bool \n",
      " 22  cont_sttus_itg_cd_10007         10000 non-null  bool \n",
      " 23  cust_dtl_ctg_itg_cd_10002       10000 non-null  bool \n",
      " 24  cust_dtl_ctg_itg_cd_10003       10000 non-null  bool \n",
      " 25  cust_dtl_ctg_itg_cd_10004       10000 non-null  bool \n",
      " 26  cust_dtl_ctg_itg_cd_10011       10000 non-null  bool \n",
      " 27  cust_dtl_ctg_itg_cd_10018       10000 non-null  bool \n",
      " 28  cust_dtl_ctg_itg_cd_10019       10000 non-null  bool \n",
      " 29  cust_dtl_ctg_itg_cd_90024       10000 non-null  bool \n",
      " 30  cust_dtl_ctg_itg_cd_90027       10000 non-null  bool \n",
      " 31  cust_dtl_ctg_itg_cd_90029       10000 non-null  bool \n",
      " 32  cust_dtl_ctg_itg_cd_90030       10000 non-null  bool \n",
      " 33  cust_dtl_ctg_itg_cd_90056       10000 non-null  bool \n",
      " 34  trm_yn_Y                        10000 non-null  bool \n",
      "dtypes: bool(25), int32(1), int64(9)\n",
      "memory usage: 986.5 KB\n"
     ]
    }
   ],
   "source": [
    "df1.info()"
   ]
  },
  {
   "cell_type": "markdown",
   "id": "3e7253ea-e302-4fa0-8ba9-fab0a9617bc6",
   "metadata": {},
   "source": [
    "# x,y 데이터 분리"
   ]
  },
  {
   "cell_type": "markdown",
   "id": "3faf288d-ba4f-4ff5-b16b-134255a613c6",
   "metadata": {},
   "source": [
    "# 9. 아래 조건에 맞게 데이터를 분리"
   ]
  },
  {
   "cell_type": "markdown",
   "id": "70887466-c706-4a2a-b888-1da6e2d1584e",
   "metadata": {},
   "source": [
    "`-` X, y 값을 가지고 8:2 비율로 Train , Test Dataset으로 나누려고 합니다. 아래 조건에 따라 훈련데이터셋과 테스트데이터셋으로 분리하세요.\n",
    "\n",
    "+ 대상 데이터프레임 : df1\n",
    "+ 훈련 데이터셋 label : y_train, 훈련 데이터셋 Feature : X_train\n",
    "+ 테스트 데이터셋 label : y_test, 테스트 데이터셋 Feature : X_test\n",
    "+ X, y, test_size=0.2, stratify=y, random_state=0\n",
    "+ 사이킷런 train_test_split 함수 사용"
   ]
  },
  {
   "cell_type": "code",
   "execution_count": 286,
   "id": "5a20b9e6-207f-4c38-907e-610989207acf",
   "metadata": {
    "tags": []
   },
   "outputs": [],
   "source": [
    "target = \"trm_yn_Y\"\n",
    "\n",
    "X = df1.drop(target, axis = 1)\n",
    "y = df1[target]\n",
    "\n",
    "X_train, X_test, y_train, y_test = train_test_split(X, y, test_size = 0.2, stratify = y, random_state = 0)"
   ]
  },
  {
   "cell_type": "markdown",
   "id": "61bb9fd8-b094-40ef-99d7-e2da472d8c8c",
   "metadata": {},
   "source": [
    "# 데이터 정규분포화, 표준화"
   ]
  },
  {
   "cell_type": "markdown",
   "id": "e730af14-9a5e-4525-b2ee-e245fe1d140e",
   "metadata": {},
   "source": [
    "# 문제 10. 아래 조건에 맞게 데이터를 스케일링"
   ]
  },
  {
   "cell_type": "markdown",
   "id": "b3c97ee9-8b36-4aaf-8d24-b186fff4405d",
   "metadata": {},
   "source": [
    "+ 사이킷런의 MinMaxScaler() 함수 사용, 임포트하세요.\n",
    "+ MinMaxScaler 객체를 초기화하고 mms 변수에 저장\n",
    "+ 훈련 데이터 'X_train'을 최소-최대 스케일링하여 변환, fit_transform 메서드 적용\n",
    "+ 테스트 데이터 'X_test'를 훈련 데이터에 맞춰 스케일링, transform 메서드 적용"
   ]
  },
  {
   "cell_type": "code",
   "execution_count": 287,
   "id": "d92baca5-76d5-4d58-9009-385e34581210",
   "metadata": {
    "tags": []
   },
   "outputs": [],
   "source": [
    "from sklearn.preprocessing import MinMaxScaler\n",
    "\n",
    "scaler = MinMaxScaler()\n",
    "\n",
    "X_train = scaler.fit_transform(X_train)\n",
    "X_test = scaler.transform(X_test)"
   ]
  },
  {
   "cell_type": "markdown",
   "id": "41834358-bbef-4d4f-b740-a6053aeb1701",
   "metadata": {},
   "source": [
    "`-` `voc_prod_sbt_id` 컬럼의 값이 1보다 작은 숫자인 것 확인"
   ]
  },
  {
   "cell_type": "code",
   "execution_count": 295,
   "id": "fa8373d6-c889-403a-9c83-6290b554b615",
   "metadata": {
    "tags": []
   },
   "outputs": [
    {
     "data": {
      "text/plain": [
       "1"
      ]
     },
     "execution_count": 295,
     "metadata": {},
     "output_type": "execute_result"
    }
   ],
   "source": [
    "sum(X_train[:,0]>1)"
   ]
  },
  {
   "cell_type": "markdown",
   "id": "0af71567-4674-42a1-b325-8b20b3004c5f",
   "metadata": {},
   "source": [
    "# 머신러닝 모델링 & 모델 성능평가 및 그래프 출력"
   ]
  },
  {
   "cell_type": "markdown",
   "id": "fb537df4-de25-484e-b565-a5a21e0ff8a7",
   "metadata": {},
   "source": [
    "# 문제 11. 로지스틱 모델을 만들고 학습을 진행"
   ]
  },
  {
   "cell_type": "markdown",
   "id": "516ca39d-0886-43b0-b424-1972449875ae",
   "metadata": {},
   "source": [
    "+ 규제강도C : 1.0으로 설정\n",
    "+ 계산에 사용할 작업수 max_iter : 2000으로 설정\n",
    "+ fit을 활용해 모델을 학습해주세요. 학습 시 훈련데이터 셋을 활용해주세요.\n",
    "+ 모델의 테스트 데이터 X_test에 대한 예측 정확도를 계산해주세요"
   ]
  },
  {
   "cell_type": "code",
   "execution_count": 307,
   "id": "4f98e13e-c1cd-4fd8-be2f-35057833bcb8",
   "metadata": {
    "tags": []
   },
   "outputs": [
    {
     "data": {
      "text/plain": [
       "0.978"
      ]
     },
     "execution_count": 307,
     "metadata": {},
     "output_type": "execute_result"
    }
   ],
   "source": [
    "from sklearn.linear_model import LogisticRegression\n",
    "\n",
    "logit = LogisticRegression(C = 1.0, max_iter = 2000)\n",
    "\n",
    "logit.fit(X_train, y_train)\n",
    "\n",
    "logit_pred = logit.predict(X_test)\n",
    "\n",
    "accuracy_score(y_test, logit_pred)"
   ]
  },
  {
   "cell_type": "markdown",
   "id": "cad36295-3eec-43b6-a25c-30df9a01fd54",
   "metadata": {},
   "source": [
    "# 문제 12. 결과 시각화"
   ]
  },
  {
   "cell_type": "markdown",
   "id": "d00ee489-4828-429e-a8f9-2b178fd1beb8",
   "metadata": {},
   "source": [
    "`-` heatmap괴 classification_report를 사용"
   ]
  },
  {
   "cell_type": "markdown",
   "id": "18b38183-048e-4e82-a313-eaba0d5098fc",
   "metadata": {},
   "source": [
    "+ X_test에 대한 예측 수행, 'y_pred'에 결과를 저장하세요.\n",
    "+ 'y_test'와 'y_pred'를 비교하여 confusion_matrix 생성, 'cf_matrix' 변수에 저장하세요.\n",
    "+ heatmap 옵션 : annot=True, fmt='d'\n",
    "+  'y_test'와 'y_pred'를 비교하여 성능지표 출력"
   ]
  },
  {
   "cell_type": "code",
   "execution_count": 310,
   "id": "5ed55e7c-3ad6-460e-a8d2-6a1b7b829f57",
   "metadata": {
    "tags": []
   },
   "outputs": [
    {
     "name": "stdout",
     "output_type": "stream",
     "text": [
      "              precision    recall  f1-score   support\n",
      "\n",
      "       False       0.98      1.00      0.99      1955\n",
      "        True       1.00      0.02      0.04        45\n",
      "\n",
      "    accuracy                           0.98      2000\n",
      "   macro avg       0.99      0.51      0.52      2000\n",
      "weighted avg       0.98      0.98      0.97      2000\n",
      "\n"
     ]
    },
    {
     "data": {
      "image/png": "[encoded data removed]",
      "text/plain": [
       "<Figure size 640x480 with 2 Axes>"
      ]
     },
     "metadata": {},
     "output_type": "display_data"
    }
   ],
   "source": [
    "y_pred = logit.predict(X_test)\n",
    "\n",
    "cf_matrix = confusion_matrix(y_test, y_pred)\n",
    "\n",
    "sns.heatmap(cf_matrix, annot = True, fmt = \"d\")\n",
    "\n",
    "print(classification_report(y_test, y_pred))"
   ]
  },
  {
   "cell_type": "markdown",
   "id": "e6d88a2b-c456-48b1-9d4b-32ec5ad13f88",
   "metadata": {},
   "source": [
    "# 문제 13. tree"
   ]
  },
  {
   "cell_type": "code",
   "execution_count": 311,
   "id": "3d8197c4-ec0d-4785-849e-b8751c47d883",
   "metadata": {
    "tags": []
   },
   "outputs": [],
   "source": [
    "from sklearn.tree import DecisionTreeClassifier\n",
    "\n",
    "tree = DecisionTreeClassifier(max_depth=10, random_state = 42)\n",
    "\n",
    "tree.fit(X_train, y_train)\n",
    "\n",
    "tree_pred = tree.predict(X_test)"
   ]
  },
  {
   "cell_type": "code",
   "execution_count": 312,
   "id": "2b8bb611-7d75-4165-bdcc-74501219b311",
   "metadata": {
    "tags": []
   },
   "outputs": [
    {
     "data": {
      "text/plain": [
       "0.9705"
      ]
     },
     "execution_count": 312,
     "metadata": {},
     "output_type": "execute_result"
    }
   ],
   "source": [
    "accuracy_score(y_test, tree_pred)"
   ]
  },
  {
   "cell_type": "markdown",
   "id": "43086ff9-d883-433a-b205-c781a2fe3b04",
   "metadata": {},
   "source": [
    "# 문제 14. RF"
   ]
  },
  {
   "cell_type": "code",
   "execution_count": 316,
   "id": "ccdb2bcf-ee8c-40bc-9646-9080a74a049c",
   "metadata": {
    "tags": []
   },
   "outputs": [
    {
     "data": {
      "text/plain": [
       "0.9775"
      ]
     },
     "execution_count": 316,
     "metadata": {},
     "output_type": "execute_result"
    }
   ],
   "source": [
    "from sklearn.ensemble import RandomForestClassifier\n",
    "\n",
    "rf = RandomForestClassifier(max_depth = 10, n_estimators = 100)\n",
    "\n",
    "rf.fit(X_train, y_train)\n",
    "\n",
    "rf_pred = rf.predict(X_test)\n",
    "\n",
    "accuracy_score(y_test, rf_pred)"
   ]
  },
  {
   "cell_type": "markdown",
   "id": "7544fa11-a615-46d9-a56e-15576b7c06f3",
   "metadata": {},
   "source": [
    "# 문제 15. XGBoost"
   ]
  },
  {
   "cell_type": "code",
   "execution_count": 319,
   "id": "62c9d0c4-0537-4e14-b3ae-781d12780581",
   "metadata": {
    "tags": []
   },
   "outputs": [
    {
     "data": {
      "text/plain": [
       "0.974"
      ]
     },
     "execution_count": 319,
     "metadata": {},
     "output_type": "execute_result"
    }
   ],
   "source": [
    "from xgboost import XGBClassifier\n",
    "\n",
    "xgb = XGBClassifier(max_depth = 10, n_estimators = 100)\n",
    "\n",
    "xgb.fit(X_train, y_train)\n",
    "\n",
    "xgb_pred = xgb.predict(X_test)\n",
    "\n",
    "accuracy_score(y_test, xgb_pred)"
   ]
  },
  {
   "cell_type": "markdown",
   "id": "31a2889f-ac19-481d-817c-a1df02b98608",
   "metadata": {},
   "source": [
    "# 문제 16. lightgbm($\\star$$\\star$$\\star$)"
   ]
  },
  {
   "cell_type": "code",
   "execution_count": 322,
   "id": "18737032-449c-450a-800a-1fc372dd7a46",
   "metadata": {
    "tags": []
   },
   "outputs": [
    {
     "name": "stdout",
     "output_type": "stream",
     "text": [
      "[LightGBM] [Warning] Accuracy may be bad since you didn't explicitly set num_leaves OR 2^max_depth > num_leaves. (num_leaves=31).\n",
      "[LightGBM] [Warning] Accuracy may be bad since you didn't explicitly set num_leaves OR 2^max_depth > num_leaves. (num_leaves=31).\n",
      "[LightGBM] [Info] Number of positive: 179, number of negative: 7821\n",
      "[LightGBM] [Info] Auto-choosing row-wise multi-threading, the overhead of testing was 0.000265 seconds.\n",
      "You can set `force_row_wise=true` to remove the overhead.\n",
      "And if memory is not enough, you can set `force_col_wise=true`.\n",
      "[LightGBM] [Info] Total Bins 774\n",
      "[LightGBM] [Info] Number of data points in the train set: 8000, number of used features: 29\n",
      "[LightGBM] [Info] [binary:BoostFromScore]: pavg=0.022375 -> initscore=-3.777182\n",
      "[LightGBM] [Info] Start training from score -3.777182\n",
      "[LightGBM] [Warning] No further splits with positive gain, best gain: -inf\n",
      "[LightGBM] [Warning] Accuracy may be bad since you didn't explicitly set num_leaves OR 2^max_depth > num_leaves. (num_leaves=31).\n"
     ]
    },
    {
     "data": {
      "text/plain": [
       "0.977"
      ]
     },
     "execution_count": 322,
     "metadata": {},
     "output_type": "execute_result"
    }
   ],
   "source": [
    "from lightgbm import LGBMClassifier\n",
    "\n",
    "lgbm = LGBMClassifier(max_depth = 10, n_estimators = 100)\n",
    "\n",
    "lgbm.fit(X_train, y_train)\n",
    "\n",
    "lgbm_pred = lgbm.predict(X_test)\n",
    "accuracy_score(y_test, lgbm_pred)"
   ]
  },
  {
   "cell_type": "markdown",
   "id": "04391a3e-e102-48a0-95b1-eb1b39d3c300",
   "metadata": {},
   "source": [
    "# 문제 17. 아래에 따라 딥러닝 모델을 작성($\\star$$\\star$$\\star$)"
   ]
  },
  {
   "cell_type": "markdown",
   "id": "d4cac08a-60b8-4e73-a567-c94ac692c21e",
   "metadata": {},
   "source": [
    "+ Tensoflow의 Sequential() 함수를 사용하여 model로 저장하세요.\n",
    "+ 첫번째 Hidden Layer : unit 64, activation='relu', input_shape=(34,) 입력\n",
    "+ 두번째 Hidden Layer : unit 32 , activation='relu'\n",
    "+ 세번째 Hidden Layer : unit 16 , activation='relu'\n",
    "+ 각 Hidden Layer 마다 Dropout 0.2 비율로 되도록 하세요.\n",
    "+ 마지막 Dense에서 'sigmoid' 설정하세요. (0.5 이하이면 정상, 아니면 해지)\n",
    "+ 옵티마이저는 adam, 손실함수는 binary_crossentropy를 사용하세요.\n",
    "+ EarlyStopping 콜백으로 정해진 epoch 동안 모니터링 지표가 향상되지 않을 때 훈련을 중지하도록 설정하세요 (모니터링 지표 : val_loss)\n",
    "+ ModelCheckpoint 콜백으로 validation performance가 좋은 모델을 'my_checkpoint.ckpt' 파일로 저장하세요.(모니터링 지표 : val_loss)\n",
    "+ EarlyStopping 객체는 es 변수에 ModelCheckpoint 객체는 mc 변수에 저장해서 활용해 주세요.\n",
    "+ 학습정보는 history 변수에 저장하세요."
   ]
  },
  {
   "cell_type": "code",
   "execution_count": 328,
   "id": "0eda2636-8527-4b03-9cfe-992dbd2af65e",
   "metadata": {
    "tags": []
   },
   "outputs": [],
   "source": [
    "batch_size = 1024\n",
    "epochs = 30"
   ]
  },
  {
   "cell_type": "code",
   "execution_count": 335,
   "id": "7ed7fe8b-27a3-4551-8151-8a1564c6e915",
   "metadata": {
    "tags": []
   },
   "outputs": [],
   "source": [
    "import tensorflow as tf\n",
    "from keras.optimizers import Adam"
   ]
  },
  {
   "cell_type": "code",
   "execution_count": 340,
   "id": "d18ea36b-a14c-4185-a670-4a05477b934e",
   "metadata": {
    "tags": []
   },
   "outputs": [
    {
     "name": "stdout",
     "output_type": "stream",
     "text": [
      "Epoch 1/30\n",
      "1/8 [==>...........................] - ETA: 3s - loss: 0.6334\n",
      "Epoch 1: val_loss improved from inf to 0.50917, saving model to my_checkpoint.ckpt\n",
      "INFO:tensorflow:Assets written to: my_checkpoint.ckpt\\assets\n"
     ]
    },
    {
     "name": "stderr",
     "output_type": "stream",
     "text": [
      "INFO:tensorflow:Assets written to: my_checkpoint.ckpt\\assets\n"
     ]
    },
    {
     "name": "stdout",
     "output_type": "stream",
     "text": [
      "8/8 [==============================] - 2s 180ms/step - loss: 0.5842 - val_loss: 0.5092\n",
      "Epoch 2/30\n",
      "1/8 [==>...........................] - ETA: 0s - loss: 0.5170\n",
      "Epoch 2: val_loss improved from 0.50917 to 0.37632, saving model to my_checkpoint.ckpt\n",
      "INFO:tensorflow:Assets written to: my_checkpoint.ckpt\\assets\n"
     ]
    },
    {
     "name": "stderr",
     "output_type": "stream",
     "text": [
      "INFO:tensorflow:Assets written to: my_checkpoint.ckpt\\assets\n"
     ]
    },
    {
     "name": "stdout",
     "output_type": "stream",
     "text": [
      "8/8 [==============================] - 1s 81ms/step - loss: 0.4604 - val_loss: 0.3763\n",
      "Epoch 3/30\n",
      "1/8 [==>...........................] - ETA: 0s - loss: 0.3828\n",
      "Epoch 3: val_loss improved from 0.37632 to 0.25541, saving model to my_checkpoint.ckpt\n",
      "INFO:tensorflow:Assets written to: my_checkpoint.ckpt\\assets\n"
     ]
    },
    {
     "name": "stderr",
     "output_type": "stream",
     "text": [
      "INFO:tensorflow:Assets written to: my_checkpoint.ckpt\\assets\n"
     ]
    },
    {
     "name": "stdout",
     "output_type": "stream",
     "text": [
      "8/8 [==============================] - 1s 83ms/step - loss: 0.3370 - val_loss: 0.2554\n",
      "Epoch 4/30\n",
      "1/8 [==>...........................] - ETA: 0s - loss: 0.2623\n",
      "Epoch 4: val_loss improved from 0.25541 to 0.16760, saving model to my_checkpoint.ckpt\n",
      "INFO:tensorflow:Assets written to: my_checkpoint.ckpt\\assets\n"
     ]
    },
    {
     "name": "stderr",
     "output_type": "stream",
     "text": [
      "INFO:tensorflow:Assets written to: my_checkpoint.ckpt\\assets\n"
     ]
    },
    {
     "name": "stdout",
     "output_type": "stream",
     "text": [
      "8/8 [==============================] - 1s 86ms/step - loss: 0.2375 - val_loss: 0.1676\n",
      "Epoch 5/30\n",
      "1/8 [==>...........................] - ETA: 0s - loss: 0.2037\n",
      "Epoch 5: val_loss improved from 0.16760 to 0.12569, saving model to my_checkpoint.ckpt\n",
      "INFO:tensorflow:Assets written to: my_checkpoint.ckpt\\assets\n"
     ]
    },
    {
     "name": "stderr",
     "output_type": "stream",
     "text": [
      "INFO:tensorflow:Assets written to: my_checkpoint.ckpt\\assets\n"
     ]
    },
    {
     "name": "stdout",
     "output_type": "stream",
     "text": [
      "8/8 [==============================] - 1s 81ms/step - loss: 0.1720 - val_loss: 0.1257\n",
      "Epoch 6/30\n",
      "1/8 [==>...........................] - ETA: 0s - loss: 0.1531\n",
      "Epoch 6: val_loss improved from 0.12569 to 0.11581, saving model to my_checkpoint.ckpt\n",
      "INFO:tensorflow:Assets written to: my_checkpoint.ckpt\\assets\n"
     ]
    },
    {
     "name": "stderr",
     "output_type": "stream",
     "text": [
      "INFO:tensorflow:Assets written to: my_checkpoint.ckpt\\assets\n"
     ]
    },
    {
     "name": "stdout",
     "output_type": "stream",
     "text": [
      "8/8 [==============================] - 1s 85ms/step - loss: 0.1467 - val_loss: 0.1158\n",
      "Epoch 7/30\n",
      "1/8 [==>...........................] - ETA: 0s - loss: 0.0959\n",
      "Epoch 7: val_loss did not improve from 0.11581\n",
      "8/8 [==============================] - 0s 7ms/step - loss: 0.1375 - val_loss: 0.1165\n",
      "Epoch 8/30\n",
      "1/8 [==>...........................] - ETA: 0s - loss: 0.1383\n",
      "Epoch 8: val_loss did not improve from 0.11581\n",
      "8/8 [==============================] - 0s 7ms/step - loss: 0.1345 - val_loss: 0.1163\n",
      "Epoch 9/30\n",
      "1/8 [==>...........................] - ETA: 0s - loss: 0.0902\n",
      "Epoch 9: val_loss improved from 0.11581 to 0.11382, saving model to my_checkpoint.ckpt\n",
      "INFO:tensorflow:Assets written to: my_checkpoint.ckpt\\assets\n"
     ]
    },
    {
     "name": "stderr",
     "output_type": "stream",
     "text": [
      "INFO:tensorflow:Assets written to: my_checkpoint.ckpt\\assets\n"
     ]
    },
    {
     "name": "stdout",
     "output_type": "stream",
     "text": [
      "8/8 [==============================] - 1s 82ms/step - loss: 0.1331 - val_loss: 0.1138\n",
      "Epoch 10/30\n",
      "1/8 [==>...........................] - ETA: 0s - loss: 0.1454\n",
      "Epoch 10: val_loss improved from 0.11382 to 0.11069, saving model to my_checkpoint.ckpt\n",
      "INFO:tensorflow:Assets written to: my_checkpoint.ckpt\\assets\n"
     ]
    },
    {
     "name": "stderr",
     "output_type": "stream",
     "text": [
      "INFO:tensorflow:Assets written to: my_checkpoint.ckpt\\assets\n"
     ]
    },
    {
     "name": "stdout",
     "output_type": "stream",
     "text": [
      "8/8 [==============================] - 1s 79ms/step - loss: 0.1296 - val_loss: 0.1107\n",
      "Epoch 11/30\n",
      "1/8 [==>...........................] - ETA: 0s - loss: 0.1112\n",
      "Epoch 11: val_loss improved from 0.11069 to 0.10859, saving model to my_checkpoint.ckpt\n",
      "INFO:tensorflow:Assets written to: my_checkpoint.ckpt\\assets\n"
     ]
    },
    {
     "name": "stderr",
     "output_type": "stream",
     "text": [
      "INFO:tensorflow:Assets written to: my_checkpoint.ckpt\\assets\n"
     ]
    },
    {
     "name": "stdout",
     "output_type": "stream",
     "text": [
      "8/8 [==============================] - 1s 83ms/step - loss: 0.1260 - val_loss: 0.1086\n",
      "Epoch 12/30\n",
      "1/8 [==>...........................] - ETA: 0s - loss: 0.1181\n",
      "Epoch 12: val_loss improved from 0.10859 to 0.10655, saving model to my_checkpoint.ckpt\n",
      "INFO:tensorflow:Assets written to: my_checkpoint.ckpt\\assets\n"
     ]
    },
    {
     "name": "stderr",
     "output_type": "stream",
     "text": [
      "INFO:tensorflow:Assets written to: my_checkpoint.ckpt\\assets\n"
     ]
    },
    {
     "name": "stdout",
     "output_type": "stream",
     "text": [
      "8/8 [==============================] - 1s 85ms/step - loss: 0.1262 - val_loss: 0.1065\n",
      "Epoch 13/30\n",
      "1/8 [==>...........................] - ETA: 0s - loss: 0.1667\n",
      "Epoch 13: val_loss improved from 0.10655 to 0.10491, saving model to my_checkpoint.ckpt\n",
      "INFO:tensorflow:Assets written to: my_checkpoint.ckpt\\assets\n"
     ]
    },
    {
     "name": "stderr",
     "output_type": "stream",
     "text": [
      "INFO:tensorflow:Assets written to: my_checkpoint.ckpt\\assets\n"
     ]
    },
    {
     "name": "stdout",
     "output_type": "stream",
     "text": [
      "8/8 [==============================] - 1s 86ms/step - loss: 0.1272 - val_loss: 0.1049\n",
      "Epoch 14/30\n",
      "1/8 [==>...........................] - ETA: 0s - loss: 0.1043\n",
      "Epoch 14: val_loss improved from 0.10491 to 0.10363, saving model to my_checkpoint.ckpt\n",
      "INFO:tensorflow:Assets written to: my_checkpoint.ckpt\\assets\n"
     ]
    },
    {
     "name": "stderr",
     "output_type": "stream",
     "text": [
      "INFO:tensorflow:Assets written to: my_checkpoint.ckpt\\assets\n"
     ]
    },
    {
     "name": "stdout",
     "output_type": "stream",
     "text": [
      "8/8 [==============================] - 1s 88ms/step - loss: 0.1227 - val_loss: 0.1036\n",
      "Epoch 15/30\n",
      "1/8 [==>...........................] - ETA: 0s - loss: 0.1136\n",
      "Epoch 15: val_loss improved from 0.10363 to 0.10254, saving model to my_checkpoint.ckpt\n",
      "INFO:tensorflow:Assets written to: my_checkpoint.ckpt\\assets\n"
     ]
    },
    {
     "name": "stderr",
     "output_type": "stream",
     "text": [
      "INFO:tensorflow:Assets written to: my_checkpoint.ckpt\\assets\n"
     ]
    },
    {
     "name": "stdout",
     "output_type": "stream",
     "text": [
      "8/8 [==============================] - 1s 88ms/step - loss: 0.1219 - val_loss: 0.1025\n",
      "Epoch 16/30\n",
      "1/8 [==>...........................] - ETA: 0s - loss: 0.1085\n",
      "Epoch 16: val_loss improved from 0.10254 to 0.10140, saving model to my_checkpoint.ckpt\n",
      "INFO:tensorflow:Assets written to: my_checkpoint.ckpt\\assets\n"
     ]
    },
    {
     "name": "stderr",
     "output_type": "stream",
     "text": [
      "INFO:tensorflow:Assets written to: my_checkpoint.ckpt\\assets\n"
     ]
    },
    {
     "name": "stdout",
     "output_type": "stream",
     "text": [
      "8/8 [==============================] - 1s 87ms/step - loss: 0.1169 - val_loss: 0.1014\n",
      "Epoch 17/30\n",
      "1/8 [==>...........................] - ETA: 0s - loss: 0.1391\n",
      "Epoch 17: val_loss improved from 0.10140 to 0.10009, saving model to my_checkpoint.ckpt\n",
      "INFO:tensorflow:Assets written to: my_checkpoint.ckpt\\assets\n"
     ]
    },
    {
     "name": "stderr",
     "output_type": "stream",
     "text": [
      "INFO:tensorflow:Assets written to: my_checkpoint.ckpt\\assets\n"
     ]
    },
    {
     "name": "stdout",
     "output_type": "stream",
     "text": [
      "8/8 [==============================] - 1s 85ms/step - loss: 0.1201 - val_loss: 0.1001\n",
      "Epoch 18/30\n",
      "1/8 [==>...........................] - ETA: 0s - loss: 0.1364\n",
      "Epoch 18: val_loss improved from 0.10009 to 0.09912, saving model to my_checkpoint.ckpt\n",
      "INFO:tensorflow:Assets written to: my_checkpoint.ckpt\\assets\n"
     ]
    },
    {
     "name": "stderr",
     "output_type": "stream",
     "text": [
      "INFO:tensorflow:Assets written to: my_checkpoint.ckpt\\assets\n"
     ]
    },
    {
     "name": "stdout",
     "output_type": "stream",
     "text": [
      "8/8 [==============================] - 1s 101ms/step - loss: 0.1159 - val_loss: 0.0991\n",
      "Epoch 19/30\n",
      "1/8 [==>...........................] - ETA: 0s - loss: 0.1430\n",
      "Epoch 19: val_loss improved from 0.09912 to 0.09779, saving model to my_checkpoint.ckpt\n",
      "INFO:tensorflow:Assets written to: my_checkpoint.ckpt\\assets\n"
     ]
    },
    {
     "name": "stderr",
     "output_type": "stream",
     "text": [
      "INFO:tensorflow:Assets written to: my_checkpoint.ckpt\\assets\n"
     ]
    },
    {
     "name": "stdout",
     "output_type": "stream",
     "text": [
      "8/8 [==============================] - 1s 88ms/step - loss: 0.1147 - val_loss: 0.0978\n",
      "Epoch 20/30\n",
      "1/8 [==>...........................] - ETA: 0s - loss: 0.1036\n",
      "Epoch 20: val_loss improved from 0.09779 to 0.09674, saving model to my_checkpoint.ckpt\n",
      "INFO:tensorflow:Assets written to: my_checkpoint.ckpt\\assets\n"
     ]
    },
    {
     "name": "stderr",
     "output_type": "stream",
     "text": [
      "INFO:tensorflow:Assets written to: my_checkpoint.ckpt\\assets\n"
     ]
    },
    {
     "name": "stdout",
     "output_type": "stream",
     "text": [
      "8/8 [==============================] - 1s 83ms/step - loss: 0.1150 - val_loss: 0.0967\n",
      "Epoch 21/30\n",
      "1/8 [==>...........................] - ETA: 0s - loss: 0.0672\n",
      "Epoch 21: val_loss improved from 0.09674 to 0.09569, saving model to my_checkpoint.ckpt\n",
      "INFO:tensorflow:Assets written to: my_checkpoint.ckpt\\assets\n"
     ]
    },
    {
     "name": "stderr",
     "output_type": "stream",
     "text": [
      "INFO:tensorflow:Assets written to: my_checkpoint.ckpt\\assets\n"
     ]
    },
    {
     "name": "stdout",
     "output_type": "stream",
     "text": [
      "8/8 [==============================] - 1s 82ms/step - loss: 0.1146 - val_loss: 0.0957\n",
      "Epoch 22/30\n",
      "1/8 [==>...........................] - ETA: 0s - loss: 0.0748\n",
      "Epoch 22: val_loss improved from 0.09569 to 0.09437, saving model to my_checkpoint.ckpt\n",
      "INFO:tensorflow:Assets written to: my_checkpoint.ckpt\\assets\n"
     ]
    },
    {
     "name": "stderr",
     "output_type": "stream",
     "text": [
      "INFO:tensorflow:Assets written to: my_checkpoint.ckpt\\assets\n"
     ]
    },
    {
     "name": "stdout",
     "output_type": "stream",
     "text": [
      "8/8 [==============================] - 1s 86ms/step - loss: 0.1130 - val_loss: 0.0944\n",
      "Epoch 23/30\n",
      "1/8 [==>...........................] - ETA: 0s - loss: 0.1041\n",
      "Epoch 23: val_loss improved from 0.09437 to 0.09373, saving model to my_checkpoint.ckpt\n",
      "INFO:tensorflow:Assets written to: my_checkpoint.ckpt\\assets\n"
     ]
    },
    {
     "name": "stderr",
     "output_type": "stream",
     "text": [
      "INFO:tensorflow:Assets written to: my_checkpoint.ckpt\\assets\n"
     ]
    },
    {
     "name": "stdout",
     "output_type": "stream",
     "text": [
      "8/8 [==============================] - 1s 84ms/step - loss: 0.1093 - val_loss: 0.0937\n",
      "Epoch 24/30\n",
      "1/8 [==>...........................] - ETA: 0s - loss: 0.1010\n",
      "Epoch 24: val_loss improved from 0.09373 to 0.09314, saving model to my_checkpoint.ckpt\n",
      "INFO:tensorflow:Assets written to: my_checkpoint.ckpt\\assets\n"
     ]
    },
    {
     "name": "stderr",
     "output_type": "stream",
     "text": [
      "INFO:tensorflow:Assets written to: my_checkpoint.ckpt\\assets\n"
     ]
    },
    {
     "name": "stdout",
     "output_type": "stream",
     "text": [
      "8/8 [==============================] - 1s 98ms/step - loss: 0.1087 - val_loss: 0.0931\n",
      "Epoch 25/30\n",
      "1/8 [==>...........................] - ETA: 0s - loss: 0.1121\n",
      "Epoch 25: val_loss improved from 0.09314 to 0.09211, saving model to my_checkpoint.ckpt\n",
      "INFO:tensorflow:Assets written to: my_checkpoint.ckpt\\assets\n"
     ]
    },
    {
     "name": "stderr",
     "output_type": "stream",
     "text": [
      "INFO:tensorflow:Assets written to: my_checkpoint.ckpt\\assets\n"
     ]
    },
    {
     "name": "stdout",
     "output_type": "stream",
     "text": [
      "8/8 [==============================] - 1s 82ms/step - loss: 0.1096 - val_loss: 0.0921\n",
      "Epoch 26/30\n",
      "1/8 [==>...........................] - ETA: 0s - loss: 0.0800\n",
      "Epoch 26: val_loss improved from 0.09211 to 0.09169, saving model to my_checkpoint.ckpt\n",
      "INFO:tensorflow:Assets written to: my_checkpoint.ckpt\\assets\n"
     ]
    },
    {
     "name": "stderr",
     "output_type": "stream",
     "text": [
      "INFO:tensorflow:Assets written to: my_checkpoint.ckpt\\assets\n"
     ]
    },
    {
     "name": "stdout",
     "output_type": "stream",
     "text": [
      "8/8 [==============================] - 1s 86ms/step - loss: 0.1065 - val_loss: 0.0917\n",
      "Epoch 27/30\n",
      "1/8 [==>...........................] - ETA: 0s - loss: 0.1013\n",
      "Epoch 27: val_loss improved from 0.09169 to 0.09138, saving model to my_checkpoint.ckpt\n",
      "INFO:tensorflow:Assets written to: my_checkpoint.ckpt\\assets\n"
     ]
    },
    {
     "name": "stderr",
     "output_type": "stream",
     "text": [
      "INFO:tensorflow:Assets written to: my_checkpoint.ckpt\\assets\n"
     ]
    },
    {
     "name": "stdout",
     "output_type": "stream",
     "text": [
      "8/8 [==============================] - 1s 83ms/step - loss: 0.1056 - val_loss: 0.0914\n",
      "Epoch 28/30\n",
      "1/8 [==>...........................] - ETA: 0s - loss: 0.1090\n",
      "Epoch 28: val_loss improved from 0.09138 to 0.09095, saving model to my_checkpoint.ckpt\n",
      "INFO:tensorflow:Assets written to: my_checkpoint.ckpt\\assets\n"
     ]
    },
    {
     "name": "stderr",
     "output_type": "stream",
     "text": [
      "INFO:tensorflow:Assets written to: my_checkpoint.ckpt\\assets\n"
     ]
    },
    {
     "name": "stdout",
     "output_type": "stream",
     "text": [
      "8/8 [==============================] - 1s 82ms/step - loss: 0.1062 - val_loss: 0.0910\n",
      "Epoch 29/30\n",
      "1/8 [==>...........................] - ETA: 0s - loss: 0.0916\n",
      "Epoch 29: val_loss improved from 0.09095 to 0.09068, saving model to my_checkpoint.ckpt\n",
      "INFO:tensorflow:Assets written to: my_checkpoint.ckpt\\assets\n"
     ]
    },
    {
     "name": "stderr",
     "output_type": "stream",
     "text": [
      "INFO:tensorflow:Assets written to: my_checkpoint.ckpt\\assets\n"
     ]
    },
    {
     "name": "stdout",
     "output_type": "stream",
     "text": [
      "8/8 [==============================] - 1s 86ms/step - loss: 0.1004 - val_loss: 0.0907\n",
      "Epoch 30/30\n",
      "1/8 [==>...........................] - ETA: 0s - loss: 0.0947\n",
      "Epoch 30: val_loss did not improve from 0.09068\n",
      "8/8 [==============================] - 0s 6ms/step - loss: 0.1046 - val_loss: 0.0908\n"
     ]
    }
   ],
   "source": [
    "model = Sequential()\n",
    "model.add(Dense(64, input_shape = (34,), activation = \"relu\"))\n",
    "model.add(Dropout(0.2))\n",
    "model.add(Dense(32, activation = \"relu\"))\n",
    "model.add(Dropout(0.2))\n",
    "model.add(Dense(16, activation = \"relu\"))\n",
    "model.add(Dropout(0.2))\n",
    "model.add(Dense(1, activation=\"sigmoid\"))\n",
    "\n",
    "model.compile(optimizer = \"adam\", loss = tf.keras.losses.binary_crossentropy)\n",
    "\n",
    "es = EarlyStopping(patience = 4, mode = \"min\", verbose = 1)\n",
    "ch = ModelCheckpoint(filepath = \"my_checkpoint.ckpt\", mode = \"min\", save_best_only = True, verbose = 1)\n",
    "\n",
    "history = model.fit(X_train, y_train, epochs = epochs, batch_size = 1024,\n",
    "                    callbacks=[es, ch], validation_data = (X_test, y_test), verbose = 1).history"
   ]
  },
  {
   "cell_type": "markdown",
   "id": "64172ba6-1eeb-4cff-bd8d-d3c86ed01c72",
   "metadata": {},
   "source": [
    "***"
   ]
  },
  {
   "cell_type": "markdown",
   "id": "587d0654-fb8d-4e83-8db4-5db380a9258f",
   "metadata": {},
   "source": [
    "# 문제 18. 성능 시각화"
   ]
  },
  {
   "cell_type": "markdown",
   "id": "b4d56d8c-f3cf-4509-a2e1-4155893263f6",
   "metadata": {},
   "source": [
    "Matplotlib 라이브러리 활용해서 학습 손실과 검증 손실을 그래프로 표시하세요.\n",
    "\n",
    "* 1개의 그래프에 학습 손실과 검증 손실 2가지를 모두 표시하세요.\n",
    "\n",
    "* 가로 10, 세로 5로 그래프 크기 설정, figsize=(10,5)\n",
    "\n",
    "* 범례는 'Train Loss'와 'Validation Loss'로 표시하세요. x축에는 'Epochs', y축에는 'Loss'라고 표시하세요. "
   ]
  },
  {
   "cell_type": "code",
   "execution_count": 346,
   "id": "02d6a475-0289-4658-beff-50ce9e7dea77",
   "metadata": {
    "tags": []
   },
   "outputs": [
    {
     "data": {
      "image/png": "[encoded data removed]",
      "text/plain": [
       "<Figure size 1000x500 with 1 Axes>"
      ]
     },
     "metadata": {},
     "output_type": "display_data"
    }
   ],
   "source": [
    "plt.figure(figsize = (10, 5))\n",
    "plt.plot(history[\"loss\"],label = \"Train loss\")\n",
    "plt.plot(history[\"val_loss\"],label = 'Validation Loss')\n",
    "plt.legend()\n",
    "plt.xlabel(\"Epochs\")\n",
    "plt.ylabel(\"Loss\")\n",
    "plt.show()"
   ]
  },
  {
   "cell_type": "markdown",
   "id": "9eb332b4-dd5e-4733-88ca-69047ed947dc",
   "metadata": {},
   "source": [
    "# 잘 안되는 거"
   ]
  },
  {
   "cell_type": "markdown",
   "id": "9d7eb282-1c1a-4bc7-9be1-5e262bd8d80c",
   "metadata": {},
   "source": [
    "`1` 스케일링"
   ]
  },
  {
   "cell_type": "markdown",
   "id": "0f264072-eedb-4075-af69-9386c7d54500",
   "metadata": {},
   "source": [
    "`2` 원핫인코딩"
   ]
  },
  {
   "cell_type": "markdown",
   "id": "3e58527e-0801-421f-8a1d-f6401247f478",
   "metadata": {},
   "source": [
    "`3` matplotlib 한글폰트 "
   ]
  },
  {
   "cell_type": "markdown",
   "id": "4d01b68c-89f7-4e16-9aeb-61affe95a9ff",
   "metadata": {},
   "source": [
    "`4` Lightgbm"
   ]
  },
  {
   "cell_type": "markdown",
   "id": "e336f667-f46d-4b95-a96b-969a1ad2cde2",
   "metadata": {},
   "source": [
    "`5` 조기종료, 모델 체크포인트"
   ]
  }
 ],
 "metadata": {
  "kernelspec": {
   "display_name": "Python 3 (ipykernel)",
   "language": "python",
   "name": "python3"
  },
  "language_info": {
   "codemirror_mode": {
    "name": "ipython",
    "version": 3
   },
   "file_extension": ".py",
   "mimetype": "text/x-python",
   "name": "python",
   "nbconvert_exporter": "python",
   "pygments_lexer": "ipython3",
   "version": "3.11.4"
  }
 },
 "nbformat": 4,
 "nbformat_minor": 5
}
