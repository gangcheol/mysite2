{
 "cells": [
  {
   "cell_type": "raw",
   "id": "174ca958-5b9a-4b6b-ba3f-cf63fc77a014",
   "metadata": {},
   "source": [
    "---\n",
    "title : \"02. iris\"\n",
    "author : \"gc\"\n",
    "date : \"11/01/23\"\n",
    "categories : [ex]\n",
    "---"
   ]
  },
  {
   "cell_type": "markdown",
   "id": "759ded7b-b19f-4737-80e6-242e8b275d56",
   "metadata": {},
   "source": [
    "# 1. 데이터 로드"
   ]
  },
  {
   "cell_type": "code",
   "execution_count": 6,
   "id": "e8130b57-03ed-465b-b840-0a4e71e61a01",
   "metadata": {
    "tags": []
   },
   "outputs": [],
   "source": [
    "import seaborn as sns\n",
    "import pandas as pd\n",
    "import numpy as np\n",
    "import matplotlib.pyplot as plt\n",
    "plt.rcParams['font.family'] = \"Malgun Gothic\"\n",
    "plt.rcParams['axes.unicode_minus'] = False"
   ]
  },
  {
   "cell_type": "code",
   "execution_count": 7,
   "id": "6703a13c-a400-48d1-8d32-960101726184",
   "metadata": {
    "tags": []
   },
   "outputs": [],
   "source": [
    "iris = sns.load_dataset(\"iris\")"
   ]
  },
  {
   "cell_type": "code",
   "execution_count": 8,
   "id": "ab6e9bd1-ef2e-4161-8946-dd4c40cff190",
   "metadata": {
    "tags": []
   },
   "outputs": [
    {
     "data": {
      "text/html": [
       "<div>\n",
       "<style scoped>\n",
       "    .dataframe tbody tr th:only-of-type {\n",
       "        vertical-align: middle;\n",
       "    }\n",
       "\n",
       "    .dataframe tbody tr th {\n",
       "        vertical-align: top;\n",
       "    }\n",
       "\n",
       "    .dataframe thead th {\n",
       "        text-align: right;\n",
       "    }\n",
       "</style>\n",
       "<table border=\"1\" class=\"dataframe\">\n",
       "  <thead>\n",
       "    <tr style=\"text-align: right;\">\n",
       "      <th></th>\n",
       "      <th>sepal_length</th>\n",
       "      <th>sepal_width</th>\n",
       "      <th>petal_length</th>\n",
       "      <th>petal_width</th>\n",
       "      <th>species</th>\n",
       "    </tr>\n",
       "  </thead>\n",
       "  <tbody>\n",
       "    <tr>\n",
       "      <th>0</th>\n",
       "      <td>5.1</td>\n",
       "      <td>3.5</td>\n",
       "      <td>1.4</td>\n",
       "      <td>0.2</td>\n",
       "      <td>setosa</td>\n",
       "    </tr>\n",
       "    <tr>\n",
       "      <th>1</th>\n",
       "      <td>4.9</td>\n",
       "      <td>3.0</td>\n",
       "      <td>1.4</td>\n",
       "      <td>0.2</td>\n",
       "      <td>setosa</td>\n",
       "    </tr>\n",
       "    <tr>\n",
       "      <th>2</th>\n",
       "      <td>4.7</td>\n",
       "      <td>3.2</td>\n",
       "      <td>1.3</td>\n",
       "      <td>0.2</td>\n",
       "      <td>setosa</td>\n",
       "    </tr>\n",
       "    <tr>\n",
       "      <th>3</th>\n",
       "      <td>4.6</td>\n",
       "      <td>3.1</td>\n",
       "      <td>1.5</td>\n",
       "      <td>0.2</td>\n",
       "      <td>setosa</td>\n",
       "    </tr>\n",
       "    <tr>\n",
       "      <th>4</th>\n",
       "      <td>5.0</td>\n",
       "      <td>3.6</td>\n",
       "      <td>1.4</td>\n",
       "      <td>0.2</td>\n",
       "      <td>setosa</td>\n",
       "    </tr>\n",
       "  </tbody>\n",
       "</table>\n",
       "</div>"
      ],
      "text/plain": [
       "   sepal_length  sepal_width  petal_length  petal_width species\n",
       "0           5.1          3.5           1.4          0.2  setosa\n",
       "1           4.9          3.0           1.4          0.2  setosa\n",
       "2           4.7          3.2           1.3          0.2  setosa\n",
       "3           4.6          3.1           1.5          0.2  setosa\n",
       "4           5.0          3.6           1.4          0.2  setosa"
      ]
     },
     "execution_count": 8,
     "metadata": {},
     "output_type": "execute_result"
    }
   ],
   "source": [
    "iris.head()"
   ]
  },
  {
   "cell_type": "markdown",
   "id": "b9499f2f-f03e-4055-8d5c-ffc3c8f4b907",
   "metadata": {},
   "source": [
    "# 2. 데이터 분석"
   ]
  },
  {
   "cell_type": "markdown",
   "id": "b15650d5-f618-4e4a-9aaf-c8bf7fcb0424",
   "metadata": {},
   "source": [
    "## (1) `species` 분포 확인"
   ]
  },
  {
   "cell_type": "markdown",
   "id": "e5a875a9-f78f-40e2-a595-f65bd2e933d2",
   "metadata": {},
   "source": [
    "`-` barplot"
   ]
  },
  {
   "cell_type": "code",
   "execution_count": 9,
   "id": "baf32478-3958-40ff-b516-09de8a0da7b4",
   "metadata": {
    "tags": []
   },
   "outputs": [
    {
     "data": {
      "image/png": "[encoded data removed]",
      "text/plain": [
       "<Figure size 400x400 with 1 Axes>"
      ]
     },
     "metadata": {},
     "output_type": "display_data"
    }
   ],
   "source": [
    "plt.figure(figsize = (4,4))\n",
    "sns.countplot(x = \"species\", data = iris )\n",
    "plt.show()"
   ]
  },
  {
   "cell_type": "markdown",
   "id": "4f4e4cff-15bf-49d1-84f9-cf6953c49548",
   "metadata": {
    "tags": []
   },
   "source": [
    "`-` scatterplot"
   ]
  },
  {
   "cell_type": "code",
   "execution_count": 10,
   "id": "72c74ddd-a333-4785-864b-9991836ca883",
   "metadata": {
    "tags": []
   },
   "outputs": [
    {
     "data": {
      "text/plain": [
       "<Axes: xlabel='sepal_length', ylabel='petal_length'>"
      ]
     },
     "execution_count": 10,
     "metadata": {},
     "output_type": "execute_result"
    },
    {
     "data": {
      "image/png": "[encoded data removed]",
      "text/plain": [
       "<Figure size 640x480 with 1 Axes>"
      ]
     },
     "metadata": {},
     "output_type": "display_data"
    }
   ],
   "source": [
    "sns.scatterplot(x = \"sepal_length\", y = \"petal_length\", hue = \"species\", data = iris)"
   ]
  },
  {
   "cell_type": "markdown",
   "id": "a53be462-9355-429a-a669-5dcf2a5fd692",
   "metadata": {},
   "source": [
    "# 3. X,y 나누기"
   ]
  },
  {
   "cell_type": "code",
   "execution_count": 11,
   "id": "9be93471-cd97-414e-9170-0a2b31d816a6",
   "metadata": {
    "tags": []
   },
   "outputs": [],
   "source": [
    "target = \"species\"\n",
    "\n",
    "X = iris.drop(target, axis = 1)\n",
    "y = iris[target]"
   ]
  },
  {
   "cell_type": "markdown",
   "id": "202d0afb-7f9a-4486-90ba-1646e218f176",
   "metadata": {},
   "source": [
    "`-` 데이터 타입을 변경"
   ]
  },
  {
   "cell_type": "markdown",
   "id": "535d6039-bc49-476b-9738-0d9e9526e9dd",
   "metadata": {},
   "source": [
    "*  뒤쪽에서 타입이 맞지 않아서 에러가 날 수 있기 때문"
   ]
  },
  {
   "cell_type": "code",
   "execution_count": 12,
   "id": "f07b82ff-f662-4d54-ae1d-0e13f7cba915",
   "metadata": {
    "tags": []
   },
   "outputs": [],
   "source": [
    "X = X.values\n",
    "y = y.values"
   ]
  },
  {
   "cell_type": "markdown",
   "id": "b172efb5-fda3-4176-bc42-0562074c18d1",
   "metadata": {},
   "source": [
    "## (1) species 라벨 인코딩"
   ]
  },
  {
   "cell_type": "code",
   "execution_count": 13,
   "id": "020c6bd5-4cb7-48e2-8bd6-24172a04aa1e",
   "metadata": {
    "tags": []
   },
   "outputs": [],
   "source": [
    "from sklearn.preprocessing import LabelEncoder"
   ]
  },
  {
   "cell_type": "code",
   "execution_count": 15,
   "id": "95b190c1-c01d-4ed6-88f6-317aeff72b97",
   "metadata": {
    "tags": []
   },
   "outputs": [
    {
     "name": "stdout",
     "output_type": "stream",
     "text": [
      "['setosa' 'versicolor' 'virginica']\n"
     ]
    }
   ],
   "source": [
    "le = LabelEncoder()\n",
    "y = le.fit_transform(y)\n",
    "print(le.classes_)"
   ]
  },
  {
   "cell_type": "markdown",
   "id": "53f74f62-ec4a-4155-b4af-480d51c3387c",
   "metadata": {},
   "source": [
    "***"
   ]
  },
  {
   "cell_type": "markdown",
   "id": "5d3d66e0-6f34-437a-9ee9-ccc762b79838",
   "metadata": {},
   "source": [
    "# 4. 머신러닝 모델링"
   ]
  },
  {
   "cell_type": "markdown",
   "id": "b588150f-48cd-4c1d-baf1-90b213ed97ed",
   "metadata": {},
   "source": [
    "## (1) tree"
   ]
  },
  {
   "cell_type": "code",
   "execution_count": 17,
   "id": "7e081d21-b082-4ef1-af46-38d3090543da",
   "metadata": {
    "tags": []
   },
   "outputs": [
    {
     "data": {
      "text/plain": [
       "1.0"
      ]
     },
     "execution_count": 17,
     "metadata": {},
     "output_type": "execute_result"
    }
   ],
   "source": [
    "from sklearn.tree import DecisionTreeClassifier\n",
    "\n",
    "tree = DecisionTreeClassifier(max_depth=5)\n",
    "\n",
    "tree.fit(X, y)\n",
    "\n",
    "tree_pred = tree.predict(X)\n",
    "\n",
    "from sklearn.metrics import *\n",
    "\n",
    "accuracy_score(y, tree_pred)"
   ]
  },
  {
   "cell_type": "markdown",
   "id": "4af88896-94ae-463b-b77f-24b6923ac8df",
   "metadata": {},
   "source": [
    "## (2) RF"
   ]
  },
  {
   "cell_type": "code",
   "execution_count": 18,
   "id": "a6667081-8667-4e1b-ac22-a9d7379f2b04",
   "metadata": {
    "tags": []
   },
   "outputs": [
    {
     "data": {
      "text/plain": [
       "0.98"
      ]
     },
     "execution_count": 18,
     "metadata": {},
     "output_type": "execute_result"
    }
   ],
   "source": [
    "from sklearn.ensemble import RandomForestClassifier\n",
    "\n",
    "rf = RandomForestClassifier(max_depth = 5, n_estimators = 10)\n",
    "\n",
    "rf.fit(X, y)\n",
    "\n",
    "rf_pred = rf.predict(X)\n",
    "\n",
    "accuracy_score(y, rf_pred)"
   ]
  },
  {
   "cell_type": "markdown",
   "id": "b74c488d-5a39-4753-91ba-83192c678790",
   "metadata": {
    "tags": []
   },
   "source": [
    "### predict 후 라벨 추출"
   ]
  },
  {
   "cell_type": "code",
   "execution_count": 25,
   "id": "b9e8a002-05a5-4de2-904b-2a789f48b13b",
   "metadata": {
    "tags": []
   },
   "outputs": [
    {
     "data": {
      "text/plain": [
       "array(['setosa', 'versicolor', 'virginica'], dtype=object)"
      ]
     },
     "execution_count": 25,
     "metadata": {},
     "output_type": "execute_result"
    }
   ],
   "source": [
    "le.classes_"
   ]
  },
  {
   "cell_type": "code",
   "execution_count": 27,
   "id": "106f709b-e157-4972-93b5-6f8bad552136",
   "metadata": {
    "tags": []
   },
   "outputs": [
    {
     "data": {
      "text/plain": [
       "'versicolor'"
      ]
     },
     "execution_count": 27,
     "metadata": {},
     "output_type": "execute_result"
    }
   ],
   "source": [
    "le.classes_[rf.predict([X[50]])[0]]"
   ]
  },
  {
   "cell_type": "markdown",
   "id": "ebab92c5-559b-4d77-a156-4946eb377dae",
   "metadata": {},
   "source": [
    "***"
   ]
  },
  {
   "cell_type": "markdown",
   "id": "a1db86c4-e4f2-4f18-9fd1-1f062175cc77",
   "metadata": {},
   "source": [
    "# 5. 딥러닝 모델링"
   ]
  },
  {
   "cell_type": "code",
   "execution_count": 32,
   "id": "a0b5570a-4a84-4bf8-85e5-c27bd5092c1f",
   "metadata": {
    "tags": []
   },
   "outputs": [],
   "source": [
    "from keras.models import Sequential\n",
    "from keras.layers import Dense\n",
    "from keras.losses import sparse_categorical_crossentropy\n",
    "from keras.backend import clear_session\n",
    "from keras.optimizers import Adam"
   ]
  },
  {
   "cell_type": "code",
   "execution_count": 31,
   "id": "c605f13c-3c9e-449e-a7b5-e281207aef99",
   "metadata": {
    "tags": []
   },
   "outputs": [
    {
     "data": {
      "text/plain": [
       "4"
      ]
     },
     "execution_count": 31,
     "metadata": {},
     "output_type": "execute_result"
    }
   ],
   "source": [
    "nf = X.shape[1]\n",
    "nf"
   ]
  },
  {
   "cell_type": "code",
   "execution_count": 33,
   "id": "f58adc3e-026c-482a-86e0-6e8c3b59399d",
   "metadata": {
    "tags": []
   },
   "outputs": [],
   "source": [
    "# Sequential 모델 만들기 --> model 변수 저장\n",
    "# input layer : (4, )\n",
    "# hidden layer : 6 unit , activation='relu'\n",
    "# output layer : 3 unit , activation\n",
    "clear_session()\n",
    "\n",
    "model = Sequential()\n",
    "\n",
    "model.add(Dense(6, input_shape = (nf,), activation = \"relu\"))\n",
    "model.add(Dense(3, activation = \"softmax\"))\n",
    "\n",
    "model.compile(optimizer = Adam(0.001), loss = sparse_categorical_crossentropy,\n",
    "              metrics = [\"accuracy\"])"
   ]
  },
  {
   "cell_type": "code",
   "execution_count": 35,
   "id": "83fb023f-c4cc-4b56-9fca-5a6f0b8c0ce4",
   "metadata": {
    "tags": []
   },
   "outputs": [],
   "source": [
    "history = model.fit(X,y, epochs = 10, batch_size = 8,\n",
    "                    verbose = 0, validation_split = 0.2).history"
   ]
  },
  {
   "cell_type": "code",
   "execution_count": 42,
   "id": "47ef1378-4e80-47c6-be53-034018549706",
   "metadata": {
    "tags": []
   },
   "outputs": [
    {
     "data": {
      "text/plain": [
       "<matplotlib.legend.Legend at 0x18b8ae44d50>"
      ]
     },
     "execution_count": 42,
     "metadata": {},
     "output_type": "execute_result"
    },
    {
     "data": {
      "image/png": "[encoded data removed]",
      "text/plain": [
       "<Figure size 640x480 with 1 Axes>"
      ]
     },
     "metadata": {},
     "output_type": "display_data"
    }
   ],
   "source": [
    "plt.plot(history[\"loss\"], label = \"Train Loss\")\n",
    "plt.plot(history[\"val_loss\"], label = \"Val Loss\")\n",
    "plt.plot(history[\"accuracy\"], label = \"Train accuracy\")\n",
    "plt.plot(history[\"val_accuracy\"], label = \"Val accuracy\")\n",
    "plt.xlabel(\"epochs\")\n",
    "plt.ylabel(\"loss & accuracy\")\n",
    "\n",
    "plt.legend()"
   ]
  }
 ],
 "metadata": {
  "kernelspec": {
   "display_name": "Python 3 (ipykernel)",
   "language": "python",
   "name": "python3"
  },
  "language_info": {
   "codemirror_mode": {
    "name": "ipython",
    "version": 3
   },
   "file_extension": ".py",
   "mimetype": "text/x-python",
   "name": "python",
   "nbconvert_exporter": "python",
   "pygments_lexer": "ipython3",
   "version": "3.11.4"
  }
 },
 "nbformat": 4,
 "nbformat_minor": 5
}
