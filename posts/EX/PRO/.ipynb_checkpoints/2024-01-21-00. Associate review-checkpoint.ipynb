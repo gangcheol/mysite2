{
 "cells": [
  {
   "cell_type": "raw",
   "metadata": {},
   "source": [
    "---\n",
    "title : \"00. Associate Review\"\n",
    "author : \"GC\"\n",
    "date : \"01/21/24\"\n",
    "categories : [python, PRO]\n",
    "---"
   ]
  },
  {
   "cell_type": "markdown",
   "metadata": {
    "id": "tTa8wdUbvVIW"
   },
   "source": [
    "# 문제 풀의 유의사항"
   ]
  },
  {
   "cell_type": "markdown",
   "metadata": {
    "id": "7I2wrsMxvW-O"
   },
   "source": [
    "`1` 반드시 답안을 작성하라는 셀안에 코드를 작성하기\n",
    "\n",
    "`2` 변수명이 제시된 경우 반드시 해당 변수명을 사용하기"
   ]
  },
  {
   "cell_type": "markdown",
   "metadata": {
    "id": "8u2DHQwBvyMb"
   },
   "source": [
    "`3`  데이터를 분석 및 전처리한 후 머신러닝과 딥러닝으로 VOC를 제기한 고객의 해지여부를 예측하고 결과를 분석하세요."
   ]
  },
  {
   "cell_type": "markdown",
   "metadata": {
    "id": "djui-GMJtQrj"
   },
   "source": [
    "# 데이터 로드"
   ]
  },
  {
   "cell_type": "code",
   "execution_count": 1,
   "metadata": {
    "id": "KxNT9B9fu_Ht"
   },
   "outputs": [],
   "source": [
    "import pandas as pd\n",
    "\n",
    "df = pd.read_csv(\"/content/voc_data.csv\")"
   ]
  },
  {
   "cell_type": "markdown",
   "metadata": {
    "id": "pLxZ8ebevi9M"
   },
   "source": [
    "# 데이터 구성 확인"
   ]
  },
  {
   "cell_type": "code",
   "execution_count": 2,
   "metadata": {
    "colab": {
     "base_uri": "https://localhost:8080/"
    },
    "id": "HP-vRMUMvkV_",
    "outputId": "7abf92a0-2c85-417d-dd1d-866cd0a18ee9"
   },
   "outputs": [
    {
     "name": "stdout",
     "output_type": "stream",
     "text": [
      "<class 'pandas.core.frame.DataFrame'>\n",
      "RangeIndex: 10000 entries, 0 to 9999\n",
      "Data columns (total 24 columns):\n",
      " #   Column                          Non-Null Count  Dtype \n",
      "---  ------                          --------------  ----- \n",
      " 0   voc_trt_perd_itg_cd             10000 non-null  object\n",
      " 1   voc_prod_sbt_id                 10000 non-null  int64 \n",
      " 2   voc_wjt_sorc_id                 10000 non-null  int64 \n",
      " 3   voc_type_itg_cd                 10000 non-null  int64 \n",
      " 4   voc_sttus_itg_cd                10000 non-null  int64 \n",
      " 5   voc_trt_reslt_itg_cd            10000 non-null  object\n",
      " 6   cust_clas_itg_cd                10000 non-null  object\n",
      " 7   bprod_sbt_id                    10000 non-null  int64 \n",
      " 8   age_itg_cd                      10000 non-null  object\n",
      " 9   cont_sttus_itg_cd               10000 non-null  object\n",
      " 10  new_date                        10000 non-null  int64 \n",
      " 11  opn_nfl_chg_date                10000 non-null  int64 \n",
      " 12  cust_dtl_ctg_itg_cd             10000 non-null  object\n",
      " 13  voc_trt_degr_div_itg_cd         10000 non-null  int64 \n",
      " 14  voc_dupl_tmscnt                 10000 non-null  int64 \n",
      " 15  oos_cause_type_itg_cd           10000 non-null  object\n",
      " 16  voc_trt_need_time_itg_cd        10000 non-null  int64 \n",
      " 17  engt_cperd_type_itg_cd          10000 non-null  object\n",
      " 18  engt_tgt_div_itg_cd             10000 non-null  object\n",
      " 19  cont_fns_pam_date               10000 non-null  int64 \n",
      " 20  voc_mis_pbls_yn                 10000 non-null  object\n",
      " 21  fclt_oos_yn                     10000 non-null  object\n",
      " 22  cust_snsry_base_conf_need_time  10000 non-null  int64 \n",
      " 23  trm_yn                          10000 non-null  object\n",
      "dtypes: int64(12), object(12)\n",
      "memory usage: 1.8+ MB\n"
     ]
    }
   ],
   "source": [
    "df.info()"
   ]
  },
  {
   "cell_type": "code",
   "execution_count": 3,
   "metadata": {
    "colab": {
     "base_uri": "https://localhost:8080/",
     "height": 320
    },
    "id": "FrBwuH-4vn89",
    "outputId": "db0d7c06-db90-4a2c-f154-e74aa7d43f23"
   },
   "outputs": [
    {
     "data": {
      "text/html": [
       "\n",
       "  <div id=\"df-dbe5b268-857a-4e09-8759-f66aaad260fb\" class=\"colab-df-container\">\n",
       "    <div>\n",
       "<style scoped>\n",
       "    .dataframe tbody tr th:only-of-type {\n",
       "        vertical-align: middle;\n",
       "    }\n",
       "\n",
       "    .dataframe tbody tr th {\n",
       "        vertical-align: top;\n",
       "    }\n",
       "\n",
       "    .dataframe thead th {\n",
       "        text-align: right;\n",
       "    }\n",
       "</style>\n",
       "<table border=\"1\" class=\"dataframe\">\n",
       "  <thead>\n",
       "    <tr style=\"text-align: right;\">\n",
       "      <th></th>\n",
       "      <th>voc_prod_sbt_id</th>\n",
       "      <th>voc_wjt_sorc_id</th>\n",
       "      <th>voc_type_itg_cd</th>\n",
       "      <th>voc_sttus_itg_cd</th>\n",
       "      <th>bprod_sbt_id</th>\n",
       "      <th>new_date</th>\n",
       "      <th>opn_nfl_chg_date</th>\n",
       "      <th>voc_trt_degr_div_itg_cd</th>\n",
       "      <th>voc_dupl_tmscnt</th>\n",
       "      <th>voc_trt_need_time_itg_cd</th>\n",
       "      <th>cont_fns_pam_date</th>\n",
       "      <th>cust_snsry_base_conf_need_time</th>\n",
       "    </tr>\n",
       "  </thead>\n",
       "  <tbody>\n",
       "    <tr>\n",
       "      <th>count</th>\n",
       "      <td>1.000000e+04</td>\n",
       "      <td>10000.00000</td>\n",
       "      <td>10000.00000</td>\n",
       "      <td>10000.000000</td>\n",
       "      <td>1.000000e+04</td>\n",
       "      <td>1.000000e+04</td>\n",
       "      <td>1.000000e+04</td>\n",
       "      <td>10000.000000</td>\n",
       "      <td>10000.000000</td>\n",
       "      <td>10000.000000</td>\n",
       "      <td>1.000000e+04</td>\n",
       "      <td>10000.00000</td>\n",
       "    </tr>\n",
       "    <tr>\n",
       "      <th>mean</th>\n",
       "      <td>9.907267e+08</td>\n",
       "      <td>1578.29170</td>\n",
       "      <td>10008.52360</td>\n",
       "      <td>10002.043400</td>\n",
       "      <td>8.838173e+08</td>\n",
       "      <td>1.744283e+07</td>\n",
       "      <td>1.744505e+07</td>\n",
       "      <td>20001.074200</td>\n",
       "      <td>0.008800</td>\n",
       "      <td>10002.656800</td>\n",
       "      <td>7.004469e+07</td>\n",
       "      <td>193.88010</td>\n",
       "    </tr>\n",
       "    <tr>\n",
       "      <th>std</th>\n",
       "      <td>1.005780e+08</td>\n",
       "      <td>1078.63717</td>\n",
       "      <td>1.57927</td>\n",
       "      <td>0.314843</td>\n",
       "      <td>3.214229e+08</td>\n",
       "      <td>6.849207e+06</td>\n",
       "      <td>6.850077e+06</td>\n",
       "      <td>0.262109</td>\n",
       "      <td>0.103555</td>\n",
       "      <td>6.576864</td>\n",
       "      <td>3.863802e+07</td>\n",
       "      <td>6970.03853</td>\n",
       "    </tr>\n",
       "    <tr>\n",
       "      <th>min</th>\n",
       "      <td>-9.980000e+02</td>\n",
       "      <td>126.00000</td>\n",
       "      <td>10003.00000</td>\n",
       "      <td>10002.000000</td>\n",
       "      <td>-9.980000e+02</td>\n",
       "      <td>1.010100e+04</td>\n",
       "      <td>1.010100e+04</td>\n",
       "      <td>20001.000000</td>\n",
       "      <td>0.000000</td>\n",
       "      <td>10001.000000</td>\n",
       "      <td>2.001063e+07</td>\n",
       "      <td>0.00000</td>\n",
       "    </tr>\n",
       "    <tr>\n",
       "      <th>25%</th>\n",
       "      <td>1.000782e+09</td>\n",
       "      <td>360.00000</td>\n",
       "      <td>10009.00000</td>\n",
       "      <td>10002.000000</td>\n",
       "      <td>1.000003e+09</td>\n",
       "      <td>2.008053e+07</td>\n",
       "      <td>2.008123e+07</td>\n",
       "      <td>20001.000000</td>\n",
       "      <td>0.000000</td>\n",
       "      <td>10001.000000</td>\n",
       "      <td>2.021102e+07</td>\n",
       "      <td>0.00000</td>\n",
       "    </tr>\n",
       "    <tr>\n",
       "      <th>50%</th>\n",
       "      <td>1.001028e+09</td>\n",
       "      <td>2056.00000</td>\n",
       "      <td>10009.00000</td>\n",
       "      <td>10002.000000</td>\n",
       "      <td>1.000749e+09</td>\n",
       "      <td>2.014121e+07</td>\n",
       "      <td>2.015031e+07</td>\n",
       "      <td>20001.000000</td>\n",
       "      <td>0.000000</td>\n",
       "      <td>10001.000000</td>\n",
       "      <td>9.999123e+07</td>\n",
       "      <td>0.00000</td>\n",
       "    </tr>\n",
       "    <tr>\n",
       "      <th>75%</th>\n",
       "      <td>1.001036e+09</td>\n",
       "      <td>2153.00000</td>\n",
       "      <td>10009.00000</td>\n",
       "      <td>10002.000000</td>\n",
       "      <td>1.001044e+09</td>\n",
       "      <td>2.018010e+07</td>\n",
       "      <td>2.018032e+07</td>\n",
       "      <td>20001.000000</td>\n",
       "      <td>0.000000</td>\n",
       "      <td>10001.000000</td>\n",
       "      <td>9.999123e+07</td>\n",
       "      <td>0.00000</td>\n",
       "    </tr>\n",
       "    <tr>\n",
       "      <th>max</th>\n",
       "      <td>1.001079e+09</td>\n",
       "      <td>3856.00000</td>\n",
       "      <td>10017.00000</td>\n",
       "      <td>10005.000000</td>\n",
       "      <td>1.001078e+09</td>\n",
       "      <td>2.020041e+07</td>\n",
       "      <td>2.020041e+07</td>\n",
       "      <td>20002.000000</td>\n",
       "      <td>3.000000</td>\n",
       "      <td>10038.000000</td>\n",
       "      <td>9.999123e+07</td>\n",
       "      <td>367991.00000</td>\n",
       "    </tr>\n",
       "  </tbody>\n",
       "</table>\n",
       "</div>\n",
       "    <div class=\"colab-df-buttons\">\n",
       "\n",
       "  <div class=\"colab-df-container\">\n",
       "    <button class=\"colab-df-convert\" onclick=\"convertToInteractive('df-dbe5b268-857a-4e09-8759-f66aaad260fb')\"\n",
       "            title=\"Convert this dataframe to an interactive table.\"\n",
       "            style=\"display:none;\">\n",
       "\n",
       "  <svg xmlns=\"http://www.w3.org/2000/svg\" height=\"24px\" viewBox=\"0 -960 960 960\">\n",
       "    <path d=\"M120-120v-720h720v720H120Zm60-500h600v-160H180v160Zm220 220h160v-160H400v160Zm0 220h160v-160H400v160ZM180-400h160v-160H180v160Zm440 0h160v-160H620v160ZM180-180h160v-160H180v160Zm440 0h160v-160H620v160Z\"/>\n",
       "  </svg>\n",
       "    </button>\n",
       "\n",
       "  <style>\n",
       "    .colab-df-container {\n",
       "      display:flex;\n",
       "      gap: 12px;\n",
       "    }\n",
       "\n",
       "    .colab-df-convert {\n",
       "      background-color: #E8F0FE;\n",
       "      border: none;\n",
       "      border-radius: 50%;\n",
       "      cursor: pointer;\n",
       "      display: none;\n",
       "      fill: #1967D2;\n",
       "      height: 32px;\n",
       "      padding: 0 0 0 0;\n",
       "      width: 32px;\n",
       "    }\n",
       "\n",
       "    .colab-df-convert:hover {\n",
       "      background-color: #E2EBFA;\n",
       "      box-shadow: 0px 1px 2px rgba(60, 64, 67, 0.3), 0px 1px 3px 1px rgba(60, 64, 67, 0.15);\n",
       "      fill: #174EA6;\n",
       "    }\n",
       "\n",
       "    .colab-df-buttons div {\n",
       "      margin-bottom: 4px;\n",
       "    }\n",
       "\n",
       "    [theme=dark] .colab-df-convert {\n",
       "      background-color: #3B4455;\n",
       "      fill: #D2E3FC;\n",
       "    }\n",
       "\n",
       "    [theme=dark] .colab-df-convert:hover {\n",
       "      background-color: #434B5C;\n",
       "      box-shadow: 0px 1px 3px 1px rgba(0, 0, 0, 0.15);\n",
       "      filter: drop-shadow(0px 1px 2px rgba(0, 0, 0, 0.3));\n",
       "      fill: #FFFFFF;\n",
       "    }\n",
       "  </style>\n",
       "\n",
       "    <script>\n",
       "      const buttonEl =\n",
       "        document.querySelector('#df-dbe5b268-857a-4e09-8759-f66aaad260fb button.colab-df-convert');\n",
       "      buttonEl.style.display =\n",
       "        google.colab.kernel.accessAllowed ? 'block' : 'none';\n",
       "\n",
       "      async function convertToInteractive(key) {\n",
       "        const element = document.querySelector('#df-dbe5b268-857a-4e09-8759-f66aaad260fb');\n",
       "        const dataTable =\n",
       "          await google.colab.kernel.invokeFunction('convertToInteractive',\n",
       "                                                    [key], {});\n",
       "        if (!dataTable) return;\n",
       "\n",
       "        const docLinkHtml = 'Like what you see? Visit the ' +\n",
       "          '<a target=\"_blank\" href=https://colab.research.google.com/notebooks/data_table.ipynb>data table notebook</a>'\n",
       "          + ' to learn more about interactive tables.';\n",
       "        element.innerHTML = '';\n",
       "        dataTable['output_type'] = 'display_data';\n",
       "        await google.colab.output.renderOutput(dataTable, element);\n",
       "        const docLink = document.createElement('div');\n",
       "        docLink.innerHTML = docLinkHtml;\n",
       "        element.appendChild(docLink);\n",
       "      }\n",
       "    </script>\n",
       "  </div>\n",
       "\n",
       "\n",
       "<div id=\"df-0cf8c72b-e158-4117-833c-27601455f148\">\n",
       "  <button class=\"colab-df-quickchart\" onclick=\"quickchart('df-0cf8c72b-e158-4117-833c-27601455f148')\"\n",
       "            title=\"Suggest charts\"\n",
       "            style=\"display:none;\">\n",
       "\n",
       "<svg xmlns=\"http://www.w3.org/2000/svg\" height=\"24px\"viewBox=\"0 0 24 24\"\n",
       "     width=\"24px\">\n",
       "    <g>\n",
       "        <path d=\"M19 3H5c-1.1 0-2 .9-2 2v14c0 1.1.9 2 2 2h14c1.1 0 2-.9 2-2V5c0-1.1-.9-2-2-2zM9 17H7v-7h2v7zm4 0h-2V7h2v10zm4 0h-2v-4h2v4z\"/>\n",
       "    </g>\n",
       "</svg>\n",
       "  </button>\n",
       "\n",
       "<style>\n",
       "  .colab-df-quickchart {\n",
       "      --bg-color: #E8F0FE;\n",
       "      --fill-color: #1967D2;\n",
       "      --hover-bg-color: #E2EBFA;\n",
       "      --hover-fill-color: #174EA6;\n",
       "      --disabled-fill-color: #AAA;\n",
       "      --disabled-bg-color: #DDD;\n",
       "  }\n",
       "\n",
       "  [theme=dark] .colab-df-quickchart {\n",
       "      --bg-color: #3B4455;\n",
       "      --fill-color: #D2E3FC;\n",
       "      --hover-bg-color: #434B5C;\n",
       "      --hover-fill-color: #FFFFFF;\n",
       "      --disabled-bg-color: #3B4455;\n",
       "      --disabled-fill-color: #666;\n",
       "  }\n",
       "\n",
       "  .colab-df-quickchart {\n",
       "    background-color: var(--bg-color);\n",
       "    border: none;\n",
       "    border-radius: 50%;\n",
       "    cursor: pointer;\n",
       "    display: none;\n",
       "    fill: var(--fill-color);\n",
       "    height: 32px;\n",
       "    padding: 0;\n",
       "    width: 32px;\n",
       "  }\n",
       "\n",
       "  .colab-df-quickchart:hover {\n",
       "    background-color: var(--hover-bg-color);\n",
       "    box-shadow: 0 1px 2px rgba(60, 64, 67, 0.3), 0 1px 3px 1px rgba(60, 64, 67, 0.15);\n",
       "    fill: var(--button-hover-fill-color);\n",
       "  }\n",
       "\n",
       "  .colab-df-quickchart-complete:disabled,\n",
       "  .colab-df-quickchart-complete:disabled:hover {\n",
       "    background-color: var(--disabled-bg-color);\n",
       "    fill: var(--disabled-fill-color);\n",
       "    box-shadow: none;\n",
       "  }\n",
       "\n",
       "  .colab-df-spinner {\n",
       "    border: 2px solid var(--fill-color);\n",
       "    border-color: transparent;\n",
       "    border-bottom-color: var(--fill-color);\n",
       "    animation:\n",
       "      spin 1s steps(1) infinite;\n",
       "  }\n",
       "\n",
       "  @keyframes spin {\n",
       "    0% {\n",
       "      border-color: transparent;\n",
       "      border-bottom-color: var(--fill-color);\n",
       "      border-left-color: var(--fill-color);\n",
       "    }\n",
       "    20% {\n",
       "      border-color: transparent;\n",
       "      border-left-color: var(--fill-color);\n",
       "      border-top-color: var(--fill-color);\n",
       "    }\n",
       "    30% {\n",
       "      border-color: transparent;\n",
       "      border-left-color: var(--fill-color);\n",
       "      border-top-color: var(--fill-color);\n",
       "      border-right-color: var(--fill-color);\n",
       "    }\n",
       "    40% {\n",
       "      border-color: transparent;\n",
       "      border-right-color: var(--fill-color);\n",
       "      border-top-color: var(--fill-color);\n",
       "    }\n",
       "    60% {\n",
       "      border-color: transparent;\n",
       "      border-right-color: var(--fill-color);\n",
       "    }\n",
       "    80% {\n",
       "      border-color: transparent;\n",
       "      border-right-color: var(--fill-color);\n",
       "      border-bottom-color: var(--fill-color);\n",
       "    }\n",
       "    90% {\n",
       "      border-color: transparent;\n",
       "      border-bottom-color: var(--fill-color);\n",
       "    }\n",
       "  }\n",
       "</style>\n",
       "\n",
       "  <script>\n",
       "    async function quickchart(key) {\n",
       "      const quickchartButtonEl =\n",
       "        document.querySelector('#' + key + ' button');\n",
       "      quickchartButtonEl.disabled = true;  // To prevent multiple clicks.\n",
       "      quickchartButtonEl.classList.add('colab-df-spinner');\n",
       "      try {\n",
       "        const charts = await google.colab.kernel.invokeFunction(\n",
       "            'suggestCharts', [key], {});\n",
       "      } catch (error) {\n",
       "        console.error('Error during call to suggestCharts:', error);\n",
       "      }\n",
       "      quickchartButtonEl.classList.remove('colab-df-spinner');\n",
       "      quickchartButtonEl.classList.add('colab-df-quickchart-complete');\n",
       "    }\n",
       "    (() => {\n",
       "      let quickchartButtonEl =\n",
       "        document.querySelector('#df-0cf8c72b-e158-4117-833c-27601455f148 button');\n",
       "      quickchartButtonEl.style.display =\n",
       "        google.colab.kernel.accessAllowed ? 'block' : 'none';\n",
       "    })();\n",
       "  </script>\n",
       "</div>\n",
       "\n",
       "    </div>\n",
       "  </div>\n"
      ],
      "text/plain": [
       "       voc_prod_sbt_id  voc_wjt_sorc_id  voc_type_itg_cd  voc_sttus_itg_cd  \\\n",
       "count     1.000000e+04      10000.00000      10000.00000      10000.000000   \n",
       "mean      9.907267e+08       1578.29170      10008.52360      10002.043400   \n",
       "std       1.005780e+08       1078.63717          1.57927          0.314843   \n",
       "min      -9.980000e+02        126.00000      10003.00000      10002.000000   \n",
       "25%       1.000782e+09        360.00000      10009.00000      10002.000000   \n",
       "50%       1.001028e+09       2056.00000      10009.00000      10002.000000   \n",
       "75%       1.001036e+09       2153.00000      10009.00000      10002.000000   \n",
       "max       1.001079e+09       3856.00000      10017.00000      10005.000000   \n",
       "\n",
       "       bprod_sbt_id      new_date  opn_nfl_chg_date  voc_trt_degr_div_itg_cd  \\\n",
       "count  1.000000e+04  1.000000e+04      1.000000e+04             10000.000000   \n",
       "mean   8.838173e+08  1.744283e+07      1.744505e+07             20001.074200   \n",
       "std    3.214229e+08  6.849207e+06      6.850077e+06                 0.262109   \n",
       "min   -9.980000e+02  1.010100e+04      1.010100e+04             20001.000000   \n",
       "25%    1.000003e+09  2.008053e+07      2.008123e+07             20001.000000   \n",
       "50%    1.000749e+09  2.014121e+07      2.015031e+07             20001.000000   \n",
       "75%    1.001044e+09  2.018010e+07      2.018032e+07             20001.000000   \n",
       "max    1.001078e+09  2.020041e+07      2.020041e+07             20002.000000   \n",
       "\n",
       "       voc_dupl_tmscnt  voc_trt_need_time_itg_cd  cont_fns_pam_date  \\\n",
       "count     10000.000000              10000.000000       1.000000e+04   \n",
       "mean          0.008800              10002.656800       7.004469e+07   \n",
       "std           0.103555                  6.576864       3.863802e+07   \n",
       "min           0.000000              10001.000000       2.001063e+07   \n",
       "25%           0.000000              10001.000000       2.021102e+07   \n",
       "50%           0.000000              10001.000000       9.999123e+07   \n",
       "75%           0.000000              10001.000000       9.999123e+07   \n",
       "max           3.000000              10038.000000       9.999123e+07   \n",
       "\n",
       "       cust_snsry_base_conf_need_time  \n",
       "count                     10000.00000  \n",
       "mean                        193.88010  \n",
       "std                        6970.03853  \n",
       "min                           0.00000  \n",
       "25%                           0.00000  \n",
       "50%                           0.00000  \n",
       "75%                           0.00000  \n",
       "max                      367991.00000  "
      ]
     },
     "execution_count": 3,
     "metadata": {},
     "output_type": "execute_result"
    }
   ],
   "source": [
    "df.describe()"
   ]
  },
  {
   "cell_type": "markdown",
   "metadata": {
    "id": "fWDLou6tvvOt"
   },
   "source": [
    "## `voc_trt_perd_itg_cd` 변수의 고유값 count"
   ]
  },
  {
   "cell_type": "code",
   "execution_count": 4,
   "metadata": {
    "colab": {
     "base_uri": "https://localhost:8080/"
    },
    "id": "aLIYMlp0v-7k",
    "outputId": "561501b5-6157-4e57-a048-2d0429559ef9"
   },
   "outputs": [
    {
     "data": {
      "text/plain": [
       "_        5422\n",
       "10000    4283\n",
       "10001     163\n",
       "10002      58\n",
       "10003      25\n",
       "10004      16\n",
       "10005      10\n",
       "10006       6\n",
       "10008       3\n",
       "10009       3\n",
       "10016       2\n",
       "10011       2\n",
       "10012       2\n",
       "10007       2\n",
       "10014       1\n",
       "10013       1\n",
       "10015       1\n",
       "Name: voc_trt_perd_itg_cd, dtype: int64"
      ]
     },
     "execution_count": 4,
     "metadata": {},
     "output_type": "execute_result"
    }
   ],
   "source": [
    "df[\"voc_trt_perd_itg_cd\"].value_counts()"
   ]
  },
  {
   "cell_type": "code",
   "execution_count": 5,
   "metadata": {
    "colab": {
     "base_uri": "https://localhost:8080/"
    },
    "id": "w4vUZMtNwEzu",
    "outputId": "422bf03b-a9f2-4559-b403-018be9d57db7"
   },
   "outputs": [
    {
     "data": {
      "text/plain": [
       "_        0.5422\n",
       "10000    0.4283\n",
       "10001    0.0163\n",
       "10002    0.0058\n",
       "10003    0.0025\n",
       "10004    0.0016\n",
       "10005    0.0010\n",
       "10006    0.0006\n",
       "10008    0.0003\n",
       "10009    0.0003\n",
       "10016    0.0002\n",
       "10011    0.0002\n",
       "10012    0.0002\n",
       "10007    0.0002\n",
       "10014    0.0001\n",
       "10013    0.0001\n",
       "10015    0.0001\n",
       "Name: voc_trt_perd_itg_cd, dtype: float64"
      ]
     },
     "execution_count": 5,
     "metadata": {},
     "output_type": "execute_result"
    }
   ],
   "source": [
    "df[\"voc_trt_perd_itg_cd\"].value_counts(normalize = True)"
   ]
  },
  {
   "cell_type": "markdown",
   "metadata": {
    "id": "vLcweVIrwJeN"
   },
   "source": [
    "# 불필요한 변수 삭제"
   ]
  },
  {
   "cell_type": "code",
   "execution_count": 6,
   "metadata": {
    "colab": {
     "base_uri": "https://localhost:8080/"
    },
    "id": "nWmqVpjDwMu0",
    "outputId": "cc1bc7c4-8dbe-48c5-f8d7-dbda3c93deb0"
   },
   "outputs": [
    {
     "name": "stdout",
     "output_type": "stream",
     "text": [
      "<class 'pandas.core.frame.DataFrame'>\n",
      "RangeIndex: 10000 entries, 0 to 9999\n",
      "Data columns (total 14 columns):\n",
      " #   Column                          Non-Null Count  Dtype \n",
      "---  ------                          --------------  ----- \n",
      " 0   voc_prod_sbt_id                 10000 non-null  int64 \n",
      " 1   voc_wjt_sorc_id                 10000 non-null  int64 \n",
      " 2   voc_type_itg_cd                 10000 non-null  int64 \n",
      " 3   voc_sttus_itg_cd                10000 non-null  int64 \n",
      " 4   cust_clas_itg_cd                10000 non-null  object\n",
      " 5   bprod_sbt_id                    10000 non-null  int64 \n",
      " 6   age_itg_cd                      10000 non-null  object\n",
      " 7   cont_sttus_itg_cd               10000 non-null  object\n",
      " 8   cust_dtl_ctg_itg_cd             10000 non-null  object\n",
      " 9   voc_trt_degr_div_itg_cd         10000 non-null  int64 \n",
      " 10  voc_dupl_tmscnt                 10000 non-null  int64 \n",
      " 11  voc_trt_need_time_itg_cd        10000 non-null  int64 \n",
      " 12  cust_snsry_base_conf_need_time  10000 non-null  int64 \n",
      " 13  trm_yn                          10000 non-null  object\n",
      "dtypes: int64(9), object(5)\n",
      "memory usage: 1.1+ MB\n"
     ]
    }
   ],
   "source": [
    "d_c = [\"voc_trt_perd_itg_cd\", \"voc_trt_reslt_itg_cd\", \"oos_cause_type_itg_cd\", \"engt_cperd_type_itg_cd\",\n",
    "            \"engt_tgt_div_itg_cd\", \"fclt_oos_yn\", \"voc_mis_pbls_yn\", \"new_date\", \"opn_nfl_chg_date\", 'cont_fns_pam_date']\n",
    "\n",
    "df1 = df.drop(d_c, axis = 1)\n",
    "\n",
    "df1.info()"
   ]
  },
  {
   "cell_type": "markdown",
   "metadata": {
    "id": "dVKAdadWxL8l"
   },
   "source": [
    "# 데이터 결측치 처리"
   ]
  },
  {
   "cell_type": "markdown",
   "metadata": {
    "id": "0f0-iZD6xNt8"
   },
   "source": [
    "`1` DataFrame replace 함수를 사용해서 모든 컬럼에 대해 `_`값을 null로 변경"
   ]
  },
  {
   "cell_type": "markdown",
   "metadata": {
    "id": "XnxWQoPIxVfc"
   },
   "source": [
    "`2` Null 표현 : np.nan"
   ]
  },
  {
   "cell_type": "markdown",
   "metadata": {
    "id": "PhT0FO3_xYf1"
   },
   "source": [
    "`3` `inplace = True` 사용"
   ]
  },
  {
   "cell_type": "markdown",
   "metadata": {
    "id": "7N_ikp5Wxexe"
   },
   "source": [
    "`4` 컬럼별 `Null` count"
   ]
  },
  {
   "cell_type": "code",
   "execution_count": 7,
   "metadata": {
    "id": "uRNRYvsixh28"
   },
   "outputs": [],
   "source": [
    "import numpy as np\n",
    "\n",
    "df1.replace(\"_\", np.nan,inplace = True)"
   ]
  },
  {
   "cell_type": "code",
   "execution_count": 8,
   "metadata": {
    "colab": {
     "base_uri": "https://localhost:8080/"
    },
    "id": "bDVQmDR0xmg0",
    "outputId": "8eb6b751-d4d2-4c8d-f189-55fee6a39881"
   },
   "outputs": [
    {
     "data": {
      "text/plain": [
       "voc_prod_sbt_id                      0\n",
       "voc_wjt_sorc_id                      0\n",
       "voc_type_itg_cd                      0\n",
       "voc_sttus_itg_cd                     0\n",
       "cust_clas_itg_cd                  1934\n",
       "bprod_sbt_id                         0\n",
       "age_itg_cd                        2129\n",
       "cont_sttus_itg_cd                 1168\n",
       "cust_dtl_ctg_itg_cd               1168\n",
       "voc_trt_degr_div_itg_cd              0\n",
       "voc_dupl_tmscnt                      0\n",
       "voc_trt_need_time_itg_cd             0\n",
       "cust_snsry_base_conf_need_time       0\n",
       "trm_yn                               0\n",
       "dtype: int64"
      ]
     },
     "execution_count": 8,
     "metadata": {},
     "output_type": "execute_result"
    }
   ],
   "source": [
    "df1.isna().sum() ## 이 부분 count로 하면 안됌"
   ]
  },
  {
   "cell_type": "markdown",
   "metadata": {
    "id": "MwLke6VmyCBt"
   },
   "source": [
    "# `cust_clas_itf_cd`의 결측치를 최빈값으로 변경"
   ]
  },
  {
   "cell_type": "code",
   "execution_count": 9,
   "metadata": {
    "id": "mOFvOt4WyJLU"
   },
   "outputs": [],
   "source": [
    "m = df1.cust_clas_itg_cd.mode()[0] ## 인덱스 넘버를 명시해주어야함\n",
    "\n",
    "df1.cust_clas_itg_cd.fillna(m, inplace = True)"
   ]
  },
  {
   "cell_type": "code",
   "execution_count": 10,
   "metadata": {
    "colab": {
     "base_uri": "https://localhost:8080/"
    },
    "id": "h_nHdzsxye6k",
    "outputId": "a089f96b-c847-43f2-f716-5768dde214fa"
   },
   "outputs": [
    {
     "data": {
      "text/plain": [
       "0"
      ]
     },
     "execution_count": 10,
     "metadata": {},
     "output_type": "execute_result"
    }
   ],
   "source": [
    "df1.cust_clas_itg_cd.isna().sum()"
   ]
  },
  {
   "cell_type": "markdown",
   "metadata": {
    "id": "T2hgDZsRypYd"
   },
   "source": [
    "#  `age_itg_cd`의 결측치를 중앙값으로 변경하고 데이터 타입을 정수로 변경"
   ]
  },
  {
   "cell_type": "code",
   "execution_count": 11,
   "metadata": {
    "id": "VfCumnA0zYSu"
   },
   "outputs": [],
   "source": [
    "m2 = df1.age_itg_cd.median()\n",
    "\n",
    "df1.age_itg_cd.fillna(m2, inplace = True)"
   ]
  },
  {
   "cell_type": "code",
   "execution_count": 12,
   "metadata": {
    "colab": {
     "base_uri": "https://localhost:8080/"
    },
    "id": "YC0u-RxCziY1",
    "outputId": "5ac2f14d-f0da-4399-dab9-fa076e1d7917"
   },
   "outputs": [
    {
     "data": {
      "text/plain": [
       "0"
      ]
     },
     "execution_count": 12,
     "metadata": {},
     "output_type": "execute_result"
    }
   ],
   "source": [
    "df1.age_itg_cd.isna().sum()"
   ]
  },
  {
   "cell_type": "code",
   "execution_count": 13,
   "metadata": {
    "id": "AvmGq7FOznDt"
   },
   "outputs": [],
   "source": [
    "df1.age_itg_cd = df1.age_itg_cd.astype(int)"
   ]
  },
  {
   "cell_type": "markdown",
   "metadata": {
    "id": "WSetraXmztK8"
   },
   "source": [
    "# `cont_sttus_itg_cd`의 null값과 `cust_dtl_ctg_itg_cd`의 null 값을 최빈값으로 변경"
   ]
  },
  {
   "cell_type": "code",
   "execution_count": 14,
   "metadata": {
    "colab": {
     "base_uri": "https://localhost:8080/"
    },
    "id": "MR0Ha1gJz540",
    "outputId": "7c161014-0c39-408b-951b-86a824dbc247"
   },
   "outputs": [
    {
     "data": {
      "text/plain": [
       "0"
      ]
     },
     "execution_count": 14,
     "metadata": {},
     "output_type": "execute_result"
    }
   ],
   "source": [
    "m3 = df1.cont_sttus_itg_cd.mode()[0]\n",
    "m4 = df1.cust_dtl_ctg_itg_cd.mode()[0]\n",
    "\n",
    "df1.cont_sttus_itg_cd.fillna(m3, inplace = True)\n",
    "df1.cust_dtl_ctg_itg_cd.fillna(m4, inplace = True)\n",
    "\n",
    "df1.cont_sttus_itg_cd.isna().sum()\n",
    "df1.cust_dtl_ctg_itg_cd.isna().sum()"
   ]
  },
  {
   "cell_type": "markdown",
   "metadata": {
    "id": "BP5vb_F30REl"
   },
   "source": [
    "# 라벨 인코딩, 원핫 인코딩($\\star\\star\\star$)"
   ]
  },
  {
   "cell_type": "markdown",
   "metadata": {
    "id": "J4iHJtm60WUd"
   },
   "source": [
    "`Object` 데이터 타입을 가지는 열들을 선택하여 `cat_cols`라는 변수에 저장"
   ]
  },
  {
   "cell_type": "code",
   "execution_count": 15,
   "metadata": {
    "id": "v22D6-Eo0ez1"
   },
   "outputs": [],
   "source": [
    "cat_cols  = df1.select_dtypes(\"O\")\n",
    "#cat_cols.head()"
   ]
  },
  {
   "cell_type": "markdown",
   "metadata": {
    "id": "h02PsISz0kwF"
   },
   "source": [
    "## 라벨인코딩"
   ]
  },
  {
   "cell_type": "markdown",
   "metadata": {
    "id": "egCIoXig0t7d"
   },
   "source": [
    " cat_cols 데이터프레임에서 `cust_clas_itg_cd` 열의 범주형 데이터를 숫자로 인코딩하고, 그 결과를 `le_cust_clas_itg_cd` 열에 저장"
   ]
  },
  {
   "cell_type": "code",
   "execution_count": 16,
   "metadata": {
    "id": "6d1efboo0yeD"
   },
   "outputs": [],
   "source": [
    "from sklearn.preprocessing import LabelEncoder\n",
    "\n",
    "le = LabelEncoder()\n",
    "\n",
    "cat_cols[\"le_cust_clas_itg_cd\"] = le.fit_transform(cat_cols[\"cust_clas_itg_cd\"])"
   ]
  },
  {
   "cell_type": "code",
   "execution_count": 17,
   "metadata": {
    "colab": {
     "base_uri": "https://localhost:8080/",
     "height": 206
    },
    "id": "pNAREAJZ1ZOt",
    "outputId": "57cc70e0-72a2-42a9-ed83-bd32ab4da642"
   },
   "outputs": [
    {
     "data": {
      "text/html": [
       "\n",
       "  <div id=\"df-2a781a72-fab3-4305-b7b6-e9d0957c25eb\" class=\"colab-df-container\">\n",
       "    <div>\n",
       "<style scoped>\n",
       "    .dataframe tbody tr th:only-of-type {\n",
       "        vertical-align: middle;\n",
       "    }\n",
       "\n",
       "    .dataframe tbody tr th {\n",
       "        vertical-align: top;\n",
       "    }\n",
       "\n",
       "    .dataframe thead th {\n",
       "        text-align: right;\n",
       "    }\n",
       "</style>\n",
       "<table border=\"1\" class=\"dataframe\">\n",
       "  <thead>\n",
       "    <tr style=\"text-align: right;\">\n",
       "      <th></th>\n",
       "      <th>cust_clas_itg_cd</th>\n",
       "      <th>cont_sttus_itg_cd</th>\n",
       "      <th>cust_dtl_ctg_itg_cd</th>\n",
       "      <th>trm_yn</th>\n",
       "      <th>le_cust_clas_itg_cd</th>\n",
       "    </tr>\n",
       "  </thead>\n",
       "  <tbody>\n",
       "    <tr>\n",
       "      <th>0</th>\n",
       "      <td>F</td>\n",
       "      <td>10001</td>\n",
       "      <td>10003</td>\n",
       "      <td>N</td>\n",
       "      <td>0</td>\n",
       "    </tr>\n",
       "    <tr>\n",
       "      <th>1</th>\n",
       "      <td>G</td>\n",
       "      <td>10001</td>\n",
       "      <td>10002</td>\n",
       "      <td>N</td>\n",
       "      <td>1</td>\n",
       "    </tr>\n",
       "    <tr>\n",
       "      <th>2</th>\n",
       "      <td>G</td>\n",
       "      <td>10001</td>\n",
       "      <td>10003</td>\n",
       "      <td>N</td>\n",
       "      <td>1</td>\n",
       "    </tr>\n",
       "    <tr>\n",
       "      <th>3</th>\n",
       "      <td>L</td>\n",
       "      <td>10001</td>\n",
       "      <td>90024</td>\n",
       "      <td>N</td>\n",
       "      <td>5</td>\n",
       "    </tr>\n",
       "    <tr>\n",
       "      <th>4</th>\n",
       "      <td>G</td>\n",
       "      <td>10001</td>\n",
       "      <td>90024</td>\n",
       "      <td>N</td>\n",
       "      <td>1</td>\n",
       "    </tr>\n",
       "  </tbody>\n",
       "</table>\n",
       "</div>\n",
       "    <div class=\"colab-df-buttons\">\n",
       "\n",
       "  <div class=\"colab-df-container\">\n",
       "    <button class=\"colab-df-convert\" onclick=\"convertToInteractive('df-2a781a72-fab3-4305-b7b6-e9d0957c25eb')\"\n",
       "            title=\"Convert this dataframe to an interactive table.\"\n",
       "            style=\"display:none;\">\n",
       "\n",
       "  <svg xmlns=\"http://www.w3.org/2000/svg\" height=\"24px\" viewBox=\"0 -960 960 960\">\n",
       "    <path d=\"M120-120v-720h720v720H120Zm60-500h600v-160H180v160Zm220 220h160v-160H400v160Zm0 220h160v-160H400v160ZM180-400h160v-160H180v160Zm440 0h160v-160H620v160ZM180-180h160v-160H180v160Zm440 0h160v-160H620v160Z\"/>\n",
       "  </svg>\n",
       "    </button>\n",
       "\n",
       "  <style>\n",
       "    .colab-df-container {\n",
       "      display:flex;\n",
       "      gap: 12px;\n",
       "    }\n",
       "\n",
       "    .colab-df-convert {\n",
       "      background-color: #E8F0FE;\n",
       "      border: none;\n",
       "      border-radius: 50%;\n",
       "      cursor: pointer;\n",
       "      display: none;\n",
       "      fill: #1967D2;\n",
       "      height: 32px;\n",
       "      padding: 0 0 0 0;\n",
       "      width: 32px;\n",
       "    }\n",
       "\n",
       "    .colab-df-convert:hover {\n",
       "      background-color: #E2EBFA;\n",
       "      box-shadow: 0px 1px 2px rgba(60, 64, 67, 0.3), 0px 1px 3px 1px rgba(60, 64, 67, 0.15);\n",
       "      fill: #174EA6;\n",
       "    }\n",
       "\n",
       "    .colab-df-buttons div {\n",
       "      margin-bottom: 4px;\n",
       "    }\n",
       "\n",
       "    [theme=dark] .colab-df-convert {\n",
       "      background-color: #3B4455;\n",
       "      fill: #D2E3FC;\n",
       "    }\n",
       "\n",
       "    [theme=dark] .colab-df-convert:hover {\n",
       "      background-color: #434B5C;\n",
       "      box-shadow: 0px 1px 3px 1px rgba(0, 0, 0, 0.15);\n",
       "      filter: drop-shadow(0px 1px 2px rgba(0, 0, 0, 0.3));\n",
       "      fill: #FFFFFF;\n",
       "    }\n",
       "  </style>\n",
       "\n",
       "    <script>\n",
       "      const buttonEl =\n",
       "        document.querySelector('#df-2a781a72-fab3-4305-b7b6-e9d0957c25eb button.colab-df-convert');\n",
       "      buttonEl.style.display =\n",
       "        google.colab.kernel.accessAllowed ? 'block' : 'none';\n",
       "\n",
       "      async function convertToInteractive(key) {\n",
       "        const element = document.querySelector('#df-2a781a72-fab3-4305-b7b6-e9d0957c25eb');\n",
       "        const dataTable =\n",
       "          await google.colab.kernel.invokeFunction('convertToInteractive',\n",
       "                                                    [key], {});\n",
       "        if (!dataTable) return;\n",
       "\n",
       "        const docLinkHtml = 'Like what you see? Visit the ' +\n",
       "          '<a target=\"_blank\" href=https://colab.research.google.com/notebooks/data_table.ipynb>data table notebook</a>'\n",
       "          + ' to learn more about interactive tables.';\n",
       "        element.innerHTML = '';\n",
       "        dataTable['output_type'] = 'display_data';\n",
       "        await google.colab.output.renderOutput(dataTable, element);\n",
       "        const docLink = document.createElement('div');\n",
       "        docLink.innerHTML = docLinkHtml;\n",
       "        element.appendChild(docLink);\n",
       "      }\n",
       "    </script>\n",
       "  </div>\n",
       "\n",
       "\n",
       "<div id=\"df-715e7ba5-025c-4512-8eea-eae19c1d57b9\">\n",
       "  <button class=\"colab-df-quickchart\" onclick=\"quickchart('df-715e7ba5-025c-4512-8eea-eae19c1d57b9')\"\n",
       "            title=\"Suggest charts\"\n",
       "            style=\"display:none;\">\n",
       "\n",
       "<svg xmlns=\"http://www.w3.org/2000/svg\" height=\"24px\"viewBox=\"0 0 24 24\"\n",
       "     width=\"24px\">\n",
       "    <g>\n",
       "        <path d=\"M19 3H5c-1.1 0-2 .9-2 2v14c0 1.1.9 2 2 2h14c1.1 0 2-.9 2-2V5c0-1.1-.9-2-2-2zM9 17H7v-7h2v7zm4 0h-2V7h2v10zm4 0h-2v-4h2v4z\"/>\n",
       "    </g>\n",
       "</svg>\n",
       "  </button>\n",
       "\n",
       "<style>\n",
       "  .colab-df-quickchart {\n",
       "      --bg-color: #E8F0FE;\n",
       "      --fill-color: #1967D2;\n",
       "      --hover-bg-color: #E2EBFA;\n",
       "      --hover-fill-color: #174EA6;\n",
       "      --disabled-fill-color: #AAA;\n",
       "      --disabled-bg-color: #DDD;\n",
       "  }\n",
       "\n",
       "  [theme=dark] .colab-df-quickchart {\n",
       "      --bg-color: #3B4455;\n",
       "      --fill-color: #D2E3FC;\n",
       "      --hover-bg-color: #434B5C;\n",
       "      --hover-fill-color: #FFFFFF;\n",
       "      --disabled-bg-color: #3B4455;\n",
       "      --disabled-fill-color: #666;\n",
       "  }\n",
       "\n",
       "  .colab-df-quickchart {\n",
       "    background-color: var(--bg-color);\n",
       "    border: none;\n",
       "    border-radius: 50%;\n",
       "    cursor: pointer;\n",
       "    display: none;\n",
       "    fill: var(--fill-color);\n",
       "    height: 32px;\n",
       "    padding: 0;\n",
       "    width: 32px;\n",
       "  }\n",
       "\n",
       "  .colab-df-quickchart:hover {\n",
       "    background-color: var(--hover-bg-color);\n",
       "    box-shadow: 0 1px 2px rgba(60, 64, 67, 0.3), 0 1px 3px 1px rgba(60, 64, 67, 0.15);\n",
       "    fill: var(--button-hover-fill-color);\n",
       "  }\n",
       "\n",
       "  .colab-df-quickchart-complete:disabled,\n",
       "  .colab-df-quickchart-complete:disabled:hover {\n",
       "    background-color: var(--disabled-bg-color);\n",
       "    fill: var(--disabled-fill-color);\n",
       "    box-shadow: none;\n",
       "  }\n",
       "\n",
       "  .colab-df-spinner {\n",
       "    border: 2px solid var(--fill-color);\n",
       "    border-color: transparent;\n",
       "    border-bottom-color: var(--fill-color);\n",
       "    animation:\n",
       "      spin 1s steps(1) infinite;\n",
       "  }\n",
       "\n",
       "  @keyframes spin {\n",
       "    0% {\n",
       "      border-color: transparent;\n",
       "      border-bottom-color: var(--fill-color);\n",
       "      border-left-color: var(--fill-color);\n",
       "    }\n",
       "    20% {\n",
       "      border-color: transparent;\n",
       "      border-left-color: var(--fill-color);\n",
       "      border-top-color: var(--fill-color);\n",
       "    }\n",
       "    30% {\n",
       "      border-color: transparent;\n",
       "      border-left-color: var(--fill-color);\n",
       "      border-top-color: var(--fill-color);\n",
       "      border-right-color: var(--fill-color);\n",
       "    }\n",
       "    40% {\n",
       "      border-color: transparent;\n",
       "      border-right-color: var(--fill-color);\n",
       "      border-top-color: var(--fill-color);\n",
       "    }\n",
       "    60% {\n",
       "      border-color: transparent;\n",
       "      border-right-color: var(--fill-color);\n",
       "    }\n",
       "    80% {\n",
       "      border-color: transparent;\n",
       "      border-right-color: var(--fill-color);\n",
       "      border-bottom-color: var(--fill-color);\n",
       "    }\n",
       "    90% {\n",
       "      border-color: transparent;\n",
       "      border-bottom-color: var(--fill-color);\n",
       "    }\n",
       "  }\n",
       "</style>\n",
       "\n",
       "  <script>\n",
       "    async function quickchart(key) {\n",
       "      const quickchartButtonEl =\n",
       "        document.querySelector('#' + key + ' button');\n",
       "      quickchartButtonEl.disabled = true;  // To prevent multiple clicks.\n",
       "      quickchartButtonEl.classList.add('colab-df-spinner');\n",
       "      try {\n",
       "        const charts = await google.colab.kernel.invokeFunction(\n",
       "            'suggestCharts', [key], {});\n",
       "      } catch (error) {\n",
       "        console.error('Error during call to suggestCharts:', error);\n",
       "      }\n",
       "      quickchartButtonEl.classList.remove('colab-df-spinner');\n",
       "      quickchartButtonEl.classList.add('colab-df-quickchart-complete');\n",
       "    }\n",
       "    (() => {\n",
       "      let quickchartButtonEl =\n",
       "        document.querySelector('#df-715e7ba5-025c-4512-8eea-eae19c1d57b9 button');\n",
       "      quickchartButtonEl.style.display =\n",
       "        google.colab.kernel.accessAllowed ? 'block' : 'none';\n",
       "    })();\n",
       "  </script>\n",
       "</div>\n",
       "\n",
       "    </div>\n",
       "  </div>\n"
      ],
      "text/plain": [
       "  cust_clas_itg_cd cont_sttus_itg_cd cust_dtl_ctg_itg_cd trm_yn  \\\n",
       "0                F             10001               10003      N   \n",
       "1                G             10001               10002      N   \n",
       "2                G             10001               10003      N   \n",
       "3                L             10001               90024      N   \n",
       "4                G             10001               90024      N   \n",
       "\n",
       "   le_cust_clas_itg_cd  \n",
       "0                    0  \n",
       "1                    1  \n",
       "2                    1  \n",
       "3                    5  \n",
       "4                    1  "
      ]
     },
     "execution_count": 17,
     "metadata": {},
     "output_type": "execute_result"
    }
   ],
   "source": [
    "cat_cols.head()"
   ]
  },
  {
   "cell_type": "markdown",
   "metadata": {
    "id": "IUW_VhiM1eAe"
   },
   "source": [
    "# 범주형 컬럼 one_hot_encoding"
   ]
  },
  {
   "cell_type": "markdown",
   "metadata": {
    "id": "P_ms72BB1t-c"
   },
   "source": [
    "`1` 범주형 컬럼을 찾아 cat_columns에 저장\n",
    "\n",
    "`2` Pandas의 get_dummies 함수 사용\n",
    "\n",
    "`3` 대상 데이터프레임 : df1\n",
    "\n",
    "`4` columns = `cat_columns`\n",
    "\n",
    "`5`  drop_first = True\n",
    "\n",
    "`6` 해당 전처리가 반영된 결과를 `df1` 데이터 프레임에 저장"
   ]
  },
  {
   "cell_type": "code",
   "execution_count": 18,
   "metadata": {
    "id": "-WNBHoMR2Ats"
   },
   "outputs": [],
   "source": [
    "cat_columns = df1.select_dtypes(\"O\").columns.values.tolist()\n",
    "\n",
    "df1 = pd.get_dummies(df1, columns = cat_columns, drop_first = True)"
   ]
  },
  {
   "cell_type": "markdown",
   "metadata": {
    "id": "aAHmjqRV2wNd"
   },
   "source": [
    "# x. y 데이터 분리"
   ]
  },
  {
   "cell_type": "markdown",
   "metadata": {
    "id": "Q3gGtOHu20XM"
   },
   "source": [
    "`1` 대상 데이터프레임 : df1\n",
    "\n",
    "`2` 훈련 데이터셋 label : y_train, 훈련 데이터셋 Feature : X_train\n",
    "\n",
    "`3` 테스트 데이터셋 label : y_test, 테스트 데이터셋 Feature : X_test\n",
    "\n",
    "`4` X, y, test_size=0.2, stratify=y, random_state=0\n",
    "\n",
    "`5` 사이킷런 train_test_split 함수 사용"
   ]
  },
  {
   "cell_type": "code",
   "execution_count": 19,
   "metadata": {
    "id": "IiUrQ-4w3BEk"
   },
   "outputs": [],
   "source": [
    "target = \"trm_yn_Y\"\n",
    "\n",
    "X = df1.drop(target, axis = 1)\n",
    "y = df1[target]\n",
    "\n",
    "\n",
    "from sklearn.model_selection import train_test_split\n",
    "\n",
    "X_train, X_test, y_train, y_test = train_test_split(X, y, test_size = 0.2, stratify = y, random_state = 0)"
   ]
  },
  {
   "cell_type": "markdown",
   "metadata": {
    "id": "jAbUQuII3s-y"
   },
   "source": [
    "# 데이터 스케일링"
   ]
  },
  {
   "cell_type": "markdown",
   "metadata": {
    "id": "612huxH83vvk"
   },
   "source": [
    "`1` 사이킷런의 MinMaxScaler() 함수 사용\n",
    "\n",
    "`2` MinMaxScaler 객체를 초기화하고 mms 변수에 저장\n",
    "\n",
    "`3` 훈련 데이터 ’X_train’을 최소-최대 스케일링하여 변환, fit_transform 메서드 적용\n",
    "\n",
    "`4` 테스트 데이터 ’X_test’를 훈련 데이터에 맞춰 스케일링, transform 메서드 적용"
   ]
  },
  {
   "cell_type": "code",
   "execution_count": 20,
   "metadata": {
    "id": "kEZABmbe33lM"
   },
   "outputs": [],
   "source": [
    "from sklearn.preprocessing import MinMaxScaler\n",
    "\n",
    "mms = MinMaxScaler()\n",
    "\n",
    "X_train = mms.fit_transform(X_train)\n",
    "X_test = mms.transform(X_test)"
   ]
  },
  {
   "cell_type": "markdown",
   "metadata": {
    "id": "zHz9ouiB4iP9"
   },
   "source": [
    "#  로지스틱 모델 설계"
   ]
  },
  {
   "cell_type": "markdown",
   "metadata": {
    "id": "Bn0WGjKn4kkD"
   },
   "source": [
    "`1` 규제강도 C : 1.0으로 설정"
   ]
  },
  {
   "cell_type": "markdown",
   "metadata": {
    "id": "3-O46QNA4oLr"
   },
   "source": [
    "`2` 계산에 사용할 작업수 `max_iter` : 2000으로 설정"
   ]
  },
  {
   "cell_type": "markdown",
   "metadata": {
    "id": "DhxGphXP4uUb"
   },
   "source": [
    "`3` 훈련 데이터셋 학습"
   ]
  },
  {
   "cell_type": "markdown",
   "metadata": {
    "id": "XOGZAbQV43G0"
   },
   "source": [
    "`4` X_test에 대한 예측 정확도를 계산"
   ]
  },
  {
   "cell_type": "code",
   "execution_count": 21,
   "metadata": {
    "colab": {
     "base_uri": "https://localhost:8080/"
    },
    "id": "v2sX5jrt47DM",
    "outputId": "bfbedb2f-1e7d-46e6-ac15-bf03f9bd929f"
   },
   "outputs": [
    {
     "data": {
      "text/plain": [
       "0.978"
      ]
     },
     "execution_count": 21,
     "metadata": {},
     "output_type": "execute_result"
    }
   ],
   "source": [
    "from sklearn.linear_model import LogisticRegression\n",
    "\n",
    "logit = LogisticRegression(C = 1.0, max_iter = 2000)\n",
    "\n",
    "logit.fit(X_train, y_train)\n",
    "\n",
    "logit_pred = logit.predict(X_test)\n",
    "\n",
    "from sklearn.metrics import *\n",
    "\n",
    "accuracy_score(y_test, logit_pred)"
   ]
  },
  {
   "cell_type": "markdown",
   "metadata": {
    "id": "C-Sa31kE5eXj"
   },
   "source": [
    "# 결과 시각화"
   ]
  },
  {
   "cell_type": "markdown",
   "metadata": {
    "id": "VmYW-Dym5h8j"
   },
   "source": [
    "`-` `heatmap`과 `classification_report`를 사용"
   ]
  },
  {
   "cell_type": "markdown",
   "metadata": {
    "id": "iE2VKtHs5wu8"
   },
   "source": [
    "* `cf_matrix` 변수에 `confusion_matrix` 저장\n",
    "\n",
    "*  heatmap 옵션 : `annot = True`, `fmt = \"d\"`\n",
    "\n",
    "* `y_test`와 `y_pred`를 비교하여 성능지표 출력"
   ]
  },
  {
   "cell_type": "code",
   "execution_count": 22,
   "metadata": {
    "colab": {
     "base_uri": "https://localhost:8080/",
     "height": 586
    },
    "id": "I7AIdS-_5nvz",
    "outputId": "19d3f2c1-c555-4c09-abb2-b0ac23837bab"
   },
   "outputs": [
    {
     "name": "stdout",
     "output_type": "stream",
     "text": [
      "              precision    recall  f1-score   support\n",
      "\n",
      "           0       0.98      1.00      0.99      1955\n",
      "           1       1.00      0.02      0.04        45\n",
      "\n",
      "    accuracy                           0.98      2000\n",
      "   macro avg       0.99      0.51      0.52      2000\n",
      "weighted avg       0.98      0.98      0.97      2000\n",
      "\n"
     ]
    },
    {
     "data": {
      "image/png": "[encoded data removed]",
      "text/plain": [
       "<Figure size 640x480 with 2 Axes>"
      ]
     },
     "metadata": {},
     "output_type": "display_data"
    }
   ],
   "source": [
    "import seaborn as sns\n",
    "\n",
    "cf_matrix = confusion_matrix(y_test, logit_pred)\n",
    "\n",
    "sns.heatmap(cf_matrix, annot = True, fmt = \"d\")\n",
    "\n",
    "print(classification_report(y_test, logit_pred))"
   ]
  },
  {
   "cell_type": "markdown",
   "metadata": {
    "id": "krIu_2Cc6oJj"
   },
   "source": [
    "# tree 모형 설계"
   ]
  },
  {
   "cell_type": "code",
   "execution_count": 23,
   "metadata": {
    "colab": {
     "base_uri": "https://localhost:8080/"
    },
    "id": "nfJctCqE6qJ8",
    "outputId": "8042f5fa-6c4e-4de2-ad61-185c841d8a8c"
   },
   "outputs": [
    {
     "data": {
      "text/plain": [
       "0.9705"
      ]
     },
     "execution_count": 23,
     "metadata": {},
     "output_type": "execute_result"
    }
   ],
   "source": [
    "from sklearn.tree import DecisionTreeClassifier\n",
    "\n",
    "tree = DecisionTreeClassifier(max_depth = 10, random_state = 42)\n",
    "\n",
    "tree.fit(X_train, y_train)\n",
    "\n",
    "tree_pred = tree.predict(X_test)\n",
    "\n",
    "accuracy_score(y_test, tree_pred)"
   ]
  },
  {
   "cell_type": "markdown",
   "metadata": {
    "id": "dvEiR5CF673z"
   },
   "source": [
    "# RandomForest"
   ]
  },
  {
   "cell_type": "code",
   "execution_count": 24,
   "metadata": {
    "colab": {
     "base_uri": "https://localhost:8080/"
    },
    "id": "bPEOFp936-5V",
    "outputId": "275c2ec2-dc15-402d-db83-ffb0927e9708"
   },
   "outputs": [
    {
     "data": {
      "text/plain": [
       "0.978"
      ]
     },
     "execution_count": 24,
     "metadata": {},
     "output_type": "execute_result"
    }
   ],
   "source": [
    "from sklearn.ensemble import RandomForestClassifier\n",
    "\n",
    "rf = RandomForestClassifier(max_depth = 10, n_estimators = 100)\n",
    "\n",
    "rf.fit(X_train, y_train)\n",
    "\n",
    "rf_pred = rf.predict(X_test)\n",
    "\n",
    "accuracy_score(y_test, rf_pred)"
   ]
  },
  {
   "cell_type": "markdown",
   "metadata": {
    "id": "99feYRmr7UtV"
   },
   "source": [
    "# XGBoost"
   ]
  },
  {
   "cell_type": "code",
   "execution_count": 25,
   "metadata": {
    "colab": {
     "base_uri": "https://localhost:8080/"
    },
    "id": "31UibJzO80Eb",
    "outputId": "0415ffd2-d19d-4122-d095-1baa650075e2"
   },
   "outputs": [
    {
     "data": {
      "text/plain": [
       "0.974"
      ]
     },
     "execution_count": 25,
     "metadata": {},
     "output_type": "execute_result"
    }
   ],
   "source": [
    "from xgboost import XGBClassifier\n",
    "\n",
    "xg = XGBClassifier(max_depth = 10, n_estimators = 100)\n",
    "\n",
    "xg.fit(X_train, y_train)\n",
    "\n",
    "xg_pred =  xg.predict(X_test)\n",
    "\n",
    "\n",
    "accuracy_score(y_test, xg_pred)"
   ]
  },
  {
   "cell_type": "markdown",
   "metadata": {
    "id": "nJLrGPXY9NPz"
   },
   "source": [
    "# lightgbm"
   ]
  },
  {
   "cell_type": "code",
   "execution_count": 26,
   "metadata": {
    "id": "7GvPzXEK9ngM"
   },
   "outputs": [],
   "source": [
    "import warnings\n",
    "\n",
    "warnings.filterwarnings(\"ignore\")"
   ]
  },
  {
   "cell_type": "code",
   "execution_count": 27,
   "metadata": {
    "colab": {
     "base_uri": "https://localhost:8080/"
    },
    "id": "ReOAH0I49Pli",
    "outputId": "a0373461-c240-4673-e9af-66c410e9d637"
   },
   "outputs": [
    {
     "data": {
      "text/plain": [
       "0.9775"
      ]
     },
     "execution_count": 27,
     "metadata": {},
     "output_type": "execute_result"
    }
   ],
   "source": [
    "from lightgbm import LGBMClassifier\n",
    "\n",
    "lg = LGBMClassifier(max_depth = 5, n_estimators = 10, verbose = -100)\n",
    "\n",
    "lgbm =lg.fit(X_train, y_train)\n",
    "\n",
    "lg_pred = lgbm.predict(X_test)\n",
    "\n",
    "accuracy_score(y_test, lg_pred)"
   ]
  },
  {
   "cell_type": "markdown",
   "metadata": {
    "id": "iVulF4vi-7jz"
   },
   "source": [
    "# 딥러닝 모델 설계"
   ]
  },
  {
   "cell_type": "markdown",
   "metadata": {
    "id": "LOm4TyFo_mwD"
   },
   "source": [
    "`1` Tensoflow의 Sequential() 함수를 사용하여 model로 저장하세요.\n",
    "\n",
    "`2` 첫번째 Hidden Layer : unit 64, activation=‘relu’, input_shape=(34,) 입력\n",
    "\n",
    "`3` 두번째 Hidden Layer : unit 32 , activation=‘relu’\n",
    "\n",
    "`4` 세번째 Hidden Layer : unit 16 , activation=‘relu’\n",
    "\n",
    "`5` 각 Hidden Layer 마다 Dropout 0.2 비율로 되도록 하세요.\n",
    "\n",
    "`6` 마지막 Dense에서 ‘sigmoid’ 설정하세요. (0.5 이하이면 정상, 아니면 해지)\n",
    "\n",
    "`7` 옵티마이저는 adam, 손실함수는 binary_crossentropy를 사용하세요.\n",
    "\n",
    "`8` EarlyStopping 콜백으로 정해진 epoch 동안 모니터링 지표가 향상되지 않을 때 훈련을 중지하도록 설정하세요 (모니터링 지표 : val_loss)\n",
    "\n",
    "`9` ModelCheckpoint 콜백으로 validation performance가 좋은 모델을 ‘my_checkpoint.ckpt’ 파일로 저장하세요.(모니터링 지표 : val_loss)\n",
    "\n",
    "`11` EarlyStopping 객체는 es 변수에 ModelCheckpoint 객체는 mc 변수에 저장해서 활용해 주세요.\n",
    "\n",
    "`12` 학습정보는 history 변수에 저장하세요."
   ]
  },
  {
   "cell_type": "code",
   "execution_count": 36,
   "metadata": {
    "colab": {
     "base_uri": "https://localhost:8080/"
    },
    "id": "0i-e62Sid9qC",
    "outputId": "522dd5dd-81a9-4571-cb54-7fbc89320636"
   },
   "outputs": [
    {
     "name": "stdout",
     "output_type": "stream",
     "text": [
      "Epoch 1/30\n",
      "7/8 [=========================>....] - ETA: 0s - loss: 0.3841 \n",
      "Epoch 1: val_loss improved from inf to 0.13571, saving model to my_checkpoint.ckpt\n",
      "8/8 [==============================] - 3s 215ms/step - loss: 0.3572 - val_loss: 0.1357\n",
      "Epoch 2/30\n",
      "1/8 [==>...........................] - ETA: 0s - loss: 0.1396\n",
      "Epoch 2: val_loss did not improve from 0.13571\n",
      "8/8 [==============================] - 0s 8ms/step - loss: 0.1725 - val_loss: 0.1409\n",
      "Epoch 3/30\n",
      "1/8 [==>...........................] - ETA: 0s - loss: 0.1794\n",
      "Epoch 3: val_loss improved from 0.13571 to 0.10512, saving model to my_checkpoint.ckpt\n",
      "8/8 [==============================] - 1s 117ms/step - loss: 0.1367 - val_loss: 0.1051\n",
      "Epoch 4/30\n",
      "1/8 [==>...........................] - ETA: 0s - loss: 0.1164\n",
      "Epoch 4: val_loss improved from 0.10512 to 0.09992, saving model to my_checkpoint.ckpt\n",
      "8/8 [==============================] - 1s 118ms/step - loss: 0.1232 - val_loss: 0.0999\n",
      "Epoch 5/30\n",
      "1/8 [==>...........................] - ETA: 0s - loss: 0.0769\n",
      "Epoch 5: val_loss improved from 0.09992 to 0.09892, saving model to my_checkpoint.ckpt\n",
      "8/8 [==============================] - 1s 112ms/step - loss: 0.1127 - val_loss: 0.0989\n",
      "Epoch 6/30\n",
      "1/8 [==>...........................] - ETA: 0s - loss: 0.1192\n",
      "Epoch 6: val_loss improved from 0.09892 to 0.09582, saving model to my_checkpoint.ckpt\n",
      "8/8 [==============================] - 1s 115ms/step - loss: 0.1106 - val_loss: 0.0958\n",
      "Epoch 7/30\n",
      "1/8 [==>...........................] - ETA: 0s - loss: 0.1109\n",
      "Epoch 7: val_loss improved from 0.09582 to 0.09456, saving model to my_checkpoint.ckpt\n",
      "8/8 [==============================] - 1s 117ms/step - loss: 0.1053 - val_loss: 0.0946\n",
      "Epoch 8/30\n",
      "1/8 [==>...........................] - ETA: 0s - loss: 0.1078\n",
      "Epoch 8: val_loss improved from 0.09456 to 0.09330, saving model to my_checkpoint.ckpt\n",
      "8/8 [==============================] - 1s 116ms/step - loss: 0.1051 - val_loss: 0.0933\n",
      "Epoch 9/30\n",
      "1/8 [==>...........................] - ETA: 0s - loss: 0.0928\n",
      "Epoch 9: val_loss improved from 0.09330 to 0.09210, saving model to my_checkpoint.ckpt\n",
      "8/8 [==============================] - 1s 116ms/step - loss: 0.1004 - val_loss: 0.0921\n",
      "Epoch 10/30\n",
      "1/8 [==>...........................] - ETA: 0s - loss: 0.1070\n",
      "Epoch 10: val_loss improved from 0.09210 to 0.09164, saving model to my_checkpoint.ckpt\n",
      "8/8 [==============================] - 1s 111ms/step - loss: 0.0985 - val_loss: 0.0916\n",
      "Epoch 11/30\n",
      "1/8 [==>...........................] - ETA: 0s - loss: 0.1130\n",
      "Epoch 11: val_loss did not improve from 0.09164\n",
      "8/8 [==============================] - 0s 8ms/step - loss: 0.0975 - val_loss: 0.0922\n",
      "Epoch 12/30\n",
      "1/8 [==>...........................] - ETA: 0s - loss: 0.0851\n",
      "Epoch 12: val_loss did not improve from 0.09164\n",
      "8/8 [==============================] - 0s 9ms/step - loss: 0.0962 - val_loss: 0.0930\n",
      "Epoch 13/30\n",
      "1/8 [==>...........................] - ETA: 0s - loss: 0.1194\n",
      "Epoch 13: val_loss did not improve from 0.09164\n",
      "8/8 [==============================] - 0s 8ms/step - loss: 0.0949 - val_loss: 0.0963\n",
      "Epoch 14/30\n",
      "1/8 [==>...........................] - ETA: 0s - loss: 0.0872\n",
      "Epoch 14: val_loss did not improve from 0.09164\n",
      "8/8 [==============================] - 0s 10ms/step - loss: 0.0957 - val_loss: 0.0950\n",
      "Epoch 15/30\n",
      "1/8 [==>...........................] - ETA: 0s - loss: 0.0888\n",
      "Epoch 15: val_loss did not improve from 0.09164\n",
      "8/8 [==============================] - 0s 10ms/step - loss: 0.0921 - val_loss: 0.0958\n",
      "Epoch 15: early stopping\n"
     ]
    }
   ],
   "source": [
    "import tensorflow as tf\n",
    "\n",
    "from keras.backend import *\n",
    "from keras.models import *\n",
    "from keras.layers import *\n",
    "from keras.optimizers import *\n",
    "from keras. callbacks import *\n",
    "\n",
    "model = Sequential()\n",
    "\n",
    "model.add(Dense(units = 64, activation  = \"relu\", input_shape = (34, )))\n",
    "model.add(Dropout(0.2))\n",
    "\n",
    "model.add(Dense(units = 32, activation  = \"relu\"))\n",
    "model.add(Dropout(0.2))\n",
    "\n",
    "model.add(Dense(units = 16, activation  = \"relu\"))\n",
    "model.add(Dropout(0.2))\n",
    "model.add(Dense(1, activation = \"sigmoid\"))\n",
    "\n",
    "model.compile(optimizer = Adam(0.01), loss = \"binary_crossentropy\")\n",
    "\n",
    "es =  EarlyStopping(monitor = \"val_loss\", mode  = \"min\", verbose = 1, patience = 5)\n",
    "mc = ModelCheckpoint(mode = \"min\", filepath = \"my_checkpoint.ckpt\",monitor = \"val_loss\", save_best_only= True, verbose = 1)\n",
    "\n",
    "history = model.fit(X_train, y_train, callbacks = [es, mc], epochs = 30,\n",
    "                                batch_size  = 1024, validation_data = (X_test, y_test), verbose = 1).history"
   ]
  },
  {
   "cell_type": "markdown",
   "metadata": {
    "id": "EBF6HhsggTdQ"
   },
   "source": [
    "# 결과 시각화"
   ]
  },
  {
   "cell_type": "code",
   "execution_count": 39,
   "metadata": {
    "colab": {
     "base_uri": "https://localhost:8080/",
     "height": 368
    },
    "id": "-G288JbHgVhA",
    "outputId": "55e45b9c-c004-47c8-98a0-0cb1520912f7"
   },
   "outputs": [
    {
     "data": {
      "image/png": "[encoded data removed]",
      "text/plain": [
       "<Figure size 800x400 with 1 Axes>"
      ]
     },
     "metadata": {},
     "output_type": "display_data"
    }
   ],
   "source": [
    "import  matplotlib.pyplot as plt\n",
    "\n",
    "plt.figure(figsize = (8,4))\n",
    "plt.plot(history[\"loss\"], \"--o\", label = \"train_loss\")\n",
    "plt.plot(history[\"val_loss\"], \"--o\", label = \"val_loss\")\n",
    "plt.legend()\n",
    "plt.show()"
   ]
  },
  {
   "cell_type": "code",
   "execution_count": 55,
   "metadata": {
    "colab": {
     "base_uri": "https://localhost:8080/"
    },
    "id": "uAroG6nag5pD",
    "outputId": "135e0394-77ca-494d-cd89-9ad39d86dc02"
   },
   "outputs": [
    {
     "name": "stdout",
     "output_type": "stream",
     "text": [
      "63/63 [==============================] - 0s 3ms/step\n"
     ]
    }
   ],
   "source": [
    "pred = np.where(model.predict(X_test) > 0.5, 1, 0)"
   ]
  },
  {
   "cell_type": "code",
   "execution_count": 56,
   "metadata": {
    "colab": {
     "base_uri": "https://localhost:8080/",
     "height": 621
    },
    "id": "SyISxPxPg-XA",
    "outputId": "9650c6fe-355d-4e4c-8cbe-b23900113f77"
   },
   "outputs": [
    {
     "name": "stdout",
     "output_type": "stream",
     "text": [
      "[[1955    0]\n",
      " [  45    0]]\n",
      "              precision    recall  f1-score   support\n",
      "\n",
      "           0       0.98      1.00      0.99      1955\n",
      "           1       0.00      0.00      0.00        45\n",
      "\n",
      "    accuracy                           0.98      2000\n",
      "   macro avg       0.49      0.50      0.49      2000\n",
      "weighted avg       0.96      0.98      0.97      2000\n",
      "\n"
     ]
    },
    {
     "data": {
      "image/png": "[encoded data removed]",
      "text/plain": [
       "<Figure size 640x480 with 2 Axes>"
      ]
     },
     "metadata": {},
     "output_type": "display_data"
    }
   ],
   "source": [
    "sns.heatmap(confusion_matrix(y_test, pred),\n",
    "                        annot = True, fmt = \"3d\")\n",
    "\n",
    "\n",
    "print(confusion_matrix(y_test, pred))\n",
    "print(classification_report(y_test, pred))\n"
   ]
  }
 ],
 "metadata": {
  "accelerator": "GPU",
  "colab": {
   "gpuType": "T4",
   "provenance": [],
   "toc_visible": true
  },
  "kernelspec": {
   "display_name": "Python 3 (ipykernel)",
   "language": "python",
   "name": "python3"
  },
  "language_info": {
   "codemirror_mode": {
    "name": "ipython",
    "version": 3
   },
   "file_extension": ".py",
   "mimetype": "text/x-python",
   "name": "python",
   "nbconvert_exporter": "python",
   "pygments_lexer": "ipython3",
   "version": "3.11.4"
  }
 },
 "nbformat": 4,
 "nbformat_minor": 4
}
