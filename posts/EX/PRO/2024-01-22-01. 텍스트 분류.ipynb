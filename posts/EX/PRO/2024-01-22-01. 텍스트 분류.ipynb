{
 "cells": [
  {
   "cell_type": "raw",
   "id": "5be579a0-a55f-4672-8871-8e67d93667db",
   "metadata": {
    "id": "5be579a0-a55f-4672-8871-8e67d93667db"
   },
   "source": [
    "---\n",
    "title : \"01. 텍스트 분류\"\n",
    "author : \"GC\"\n",
    "date : \"01/22/24\"\n",
    "categories : [python, PRO]\n",
    "---"
   ]
  },
  {
   "cell_type": "markdown",
   "id": "ba7862b2-3ee8-4d94-ac3a-237d00e6e6b7",
   "metadata": {
    "id": "ba7862b2-3ee8-4d94-ac3a-237d00e6e6b7"
   },
   "source": [
    "`-` [tensorflow 튜토리얼 : 영화 리뷰를 사용한 텍스트 분류](https://www.tensorflow.org/tutorials/keras/text_classification?hl=ko)"
   ]
  },
  {
   "cell_type": "markdown",
   "id": "usVDNpH3BmjC",
   "metadata": {
    "id": "usVDNpH3BmjC"
   },
   "source": [
    "`-` environment : [colab]"
   ]
  },
  {
   "cell_type": "markdown",
   "id": "4f4aee02-6980-4799-8cc3-af954dc67665",
   "metadata": {
    "id": "4f4aee02-6980-4799-8cc3-af954dc67665"
   },
   "source": [
    "# 데이터 로드"
   ]
  },
  {
   "cell_type": "code",
   "execution_count": 21,
   "id": "6f81cd92-7535-4c33-9c31-c99adb813f5e",
   "metadata": {
    "executionInfo": {
     "elapsed": 5,
     "status": "ok",
     "timestamp": 1705837156839,
     "user": {
      "displayName": "ccc flkwerkdai",
      "userId": "13507850890638580947"
     },
     "user_tz": -540
    },
    "id": "6f81cd92-7535-4c33-9c31-c99adb813f5e",
    "tags": []
   },
   "outputs": [],
   "source": [
    "#| code-fold : true\n",
    "import tensorflow as tf\n",
    "import matplotlib.pyplot as plt\n",
    "#plt.rcParams[\"font.family\"] = \"Malgun Gothic\"  코랩에서는 안됨\n",
    "\n",
    "from tensorflow import keras\n",
    "\n",
    "from keras.models import *\n",
    "from keras.layers import *\n",
    "from keras.losses import *\n",
    "from keras.backend import *\n",
    "from keras.optimizers import *\n",
    "from keras.datasets import *\n",
    "from keras.utils import *\n",
    "from keras.callbacks import *\n",
    "import numpy as np"
   ]
  },
  {
   "cell_type": "markdown",
   "id": "3c39f3bd-57a3-4200-8eef-104e1a9ca43a",
   "metadata": {
    "id": "3c39f3bd-57a3-4200-8eef-104e1a9ca43a",
    "tags": []
   },
   "source": [
    "`-` 데이터 설명"
   ]
  },
  {
   "cell_type": "markdown",
   "id": "7a755a6f-058c-4aae-b826-d664dea617b1",
   "metadata": {
    "id": "7a755a6f-058c-4aae-b826-d664dea617b1"
   },
   "source": [
    "* IMDB : 50,000개의 영화 리뷰 데이터`(train, test 각각 25,000개)`"
   ]
  },
  {
   "cell_type": "code",
   "execution_count": 22,
   "id": "4b6b894d-34e5-4a63-b529-149fdbefa941",
   "metadata": {
    "executionInfo": {
     "elapsed": 4651,
     "status": "ok",
     "timestamp": 1705837161487,
     "user": {
      "displayName": "ccc flkwerkdai",
      "userId": "13507850890638580947"
     },
     "user_tz": -540
    },
    "id": "4b6b894d-34e5-4a63-b529-149fdbefa941",
    "tags": []
   },
   "outputs": [],
   "source": [
    "(x_train, y_train), (x_test, y_test) = imdb.load_data()"
   ]
  },
  {
   "cell_type": "code",
   "execution_count": 23,
   "id": "850f32a1-52e6-49ff-bce0-06786895f3ec",
   "metadata": {
    "colab": {
     "base_uri": "https://localhost:8080/"
    },
    "executionInfo": {
     "elapsed": 292,
     "status": "ok",
     "timestamp": 1705837161774,
     "user": {
      "displayName": "ccc flkwerkdai",
      "userId": "13507850890638580947"
     },
     "user_tz": -540
    },
    "id": "850f32a1-52e6-49ff-bce0-06786895f3ec",
    "outputId": "3e9adb29-8e90-4a88-f691-f668852eb8d2",
    "tags": []
   },
   "outputs": [
    {
     "name": "stdout",
     "output_type": "stream",
     "text": [
      "(25000,)\n",
      "(25000,)\n",
      "(25000,)\n",
      "(25000,)\n"
     ]
    }
   ],
   "source": [
    "print(x_train.shape)\n",
    "print(x_test.shape)\n",
    "print(y_train.shape)\n",
    "print(y_test.shape)"
   ]
  },
  {
   "cell_type": "markdown",
   "id": "11e5550e-fecb-470d-8370-e82b3d05dc9d",
   "metadata": {
    "id": "11e5550e-fecb-470d-8370-e82b3d05dc9d"
   },
   "source": [
    "# EDA"
   ]
  },
  {
   "cell_type": "markdown",
   "id": "af71a827-d9c4-41e9-b648-1e653f019117",
   "metadata": {
    "id": "af71a827-d9c4-41e9-b648-1e653f019117"
   },
   "source": [
    "## 리뷰 길이 분포 확인"
   ]
  },
  {
   "cell_type": "markdown",
   "id": "e74e5eea-910a-4bf5-8dd8-857e97d6dc25",
   "metadata": {
    "id": "e74e5eea-910a-4bf5-8dd8-857e97d6dc25"
   },
   "source": [
    "`-` train 리뷰 길이 분포 시각화"
   ]
  },
  {
   "cell_type": "code",
   "execution_count": 24,
   "id": "wh-N4fpIuWU1",
   "metadata": {
    "executionInfo": {
     "elapsed": 2,
     "status": "ok",
     "timestamp": 1705837161774,
     "user": {
      "displayName": "ccc flkwerkdai",
      "userId": "13507850890638580947"
     },
     "user_tz": -540
    },
    "id": "wh-N4fpIuWU1"
   },
   "outputs": [],
   "source": [
    "import numpy as np"
   ]
  },
  {
   "cell_type": "code",
   "execution_count": 25,
   "id": "67307c65-4019-4af2-88dc-86eb8d41595a",
   "metadata": {
    "colab": {
     "base_uri": "https://localhost:8080/",
     "height": 442
    },
    "executionInfo": {
     "elapsed": 1135,
     "status": "ok",
     "timestamp": 1705837162908,
     "user": {
      "displayName": "ccc flkwerkdai",
      "userId": "13507850890638580947"
     },
     "user_tz": -540
    },
    "id": "67307c65-4019-4af2-88dc-86eb8d41595a",
    "outputId": "45ca09a6-e3e7-48a3-895b-ed93f3c5f6cf",
    "tags": []
   },
   "outputs": [
    {
     "data": {
      "image/png": "[encoded data removed]",
      "text/plain": [
       "<Figure size 1200x400 with 2 Axes>"
      ]
     },
     "metadata": {},
     "output_type": "display_data"
    },
    {
     "name": "stdout",
     "output_type": "stream",
     "text": [
      "리뷰의 최대 길이  : 2494\n",
      "리뷰의 평균 길이  : 238.71364\n"
     ]
    }
   ],
   "source": [
    "review_length = [len(i) for i in x_train]\n",
    "\n",
    "fig,axes = plt.subplots(1,2, figsize = (12,4))\n",
    "\n",
    "ax1, ax2 = axes\n",
    "\n",
    "ax1.hist(review_length)\n",
    "#ax1.set_title(\"리뷰길이 hist\")\n",
    "ax2.boxplot(review_length)\n",
    "#ax2.set_title(\"리뷰길이 boxplot\")\n",
    "fig.tight_layout()\n",
    "plt.show()\n",
    "\n",
    "print(f\"리뷰의 최대 길이  : {max(review_length)}\")\n",
    "print(f\"리뷰의 평균 길이  : {np.mean(review_length)}\")\n"
   ]
  },
  {
   "cell_type": "markdown",
   "id": "9cd55a33-267f-4108-8eeb-0129f3c0ef97",
   "metadata": {
    "id": "9cd55a33-267f-4108-8eeb-0129f3c0ef97"
   },
   "source": [
    "## 라벨 분포 확인"
   ]
  },
  {
   "cell_type": "code",
   "execution_count": 26,
   "id": "ee9accbd-8aae-4eb8-8445-0f03e80a313f",
   "metadata": {
    "colab": {
     "base_uri": "https://localhost:8080/"
    },
    "executionInfo": {
     "elapsed": 10,
     "status": "ok",
     "timestamp": 1705837162908,
     "user": {
      "displayName": "ccc flkwerkdai",
      "userId": "13507850890638580947"
     },
     "user_tz": -540
    },
    "id": "ee9accbd-8aae-4eb8-8445-0f03e80a313f",
    "outputId": "c2744a28-fac7-4cc7-cc3a-8cfc2dd10bba",
    "tags": []
   },
   "outputs": [
    {
     "data": {
      "text/plain": [
       "array([[    0,     1],\n",
       "       [12500, 12500]])"
      ]
     },
     "execution_count": 26,
     "metadata": {},
     "output_type": "execute_result"
    }
   ],
   "source": [
    "index = np.unique(y_train, return_counts=True)[0]\n",
    "counts = np.unique(y_train, return_counts=True)[1]\n",
    "\n",
    "np.asarray((index, counts))"
   ]
  },
  {
   "cell_type": "markdown",
   "id": "c3eb3fae-407b-4555-93f5-fe94923f76e6",
   "metadata": {
    "id": "c3eb3fae-407b-4555-93f5-fe94923f76e6"
   },
   "source": [
    "## 정수 맵핑 단어 확인"
   ]
  },
  {
   "cell_type": "markdown",
   "id": "b16262a0-a3b0-4eb2-99e6-572569f72756",
   "metadata": {
    "id": "b16262a0-a3b0-4eb2-99e6-572569f72756"
   },
   "source": [
    "`-` imdb.get_word_index()에 각 단어와 맵핑되는 정수가 저장되어 있음\n",
    "\n",
    "* 주의 : 저장된 값에 +3을 해야 실제 맵핑되는 정수임 **(이것은 IMDB 리뷰 데이터 셋에서 정한 규칙이다.)**"
   ]
  },
  {
   "cell_type": "code",
   "execution_count": 27,
   "id": "e5f4f041-610c-4aaf-bbaf-f9fd2756ff22",
   "metadata": {
    "executionInfo": {
     "elapsed": 8,
     "status": "ok",
     "timestamp": 1705837162908,
     "user": {
      "displayName": "ccc flkwerkdai",
      "userId": "13507850890638580947"
     },
     "user_tz": -540
    },
    "id": "e5f4f041-610c-4aaf-bbaf-f9fd2756ff22",
    "tags": []
   },
   "outputs": [],
   "source": [
    "word_to_index = imdb.get_word_index()\n",
    "#word_to_index"
   ]
  },
  {
   "cell_type": "code",
   "execution_count": 28,
   "id": "c3725c8a-79bc-44be-bc0a-7336a21bc161",
   "metadata": {
    "executionInfo": {
     "elapsed": 8,
     "status": "ok",
     "timestamp": 1705837162908,
     "user": {
      "displayName": "ccc flkwerkdai",
      "userId": "13507850890638580947"
     },
     "user_tz": -540
    },
    "id": "c3725c8a-79bc-44be-bc0a-7336a21bc161",
    "tags": []
   },
   "outputs": [],
   "source": [
    "index_to_word = {}\n",
    "\n",
    "for key, value in word_to_index.items() :\n",
    "    index_to_word[value+3] = key"
   ]
  },
  {
   "cell_type": "markdown",
   "id": "664c7ff0-72f2-46bc-b297-00a982af590e",
   "metadata": {
    "id": "664c7ff0-72f2-46bc-b297-00a982af590e"
   },
   "source": [
    "* `index_to_word`에 인덱스를 집어넣으면 전처리 전에 어떤 단어였는지 확인할 수 있음.\n",
    "    * 0,1,2,3은  특별토큰, 정수 4부터가 실제 IMDB 리뷰 데이터셋에서 내림차순으로 빈도수가 영단어임"
   ]
  },
  {
   "cell_type": "code",
   "execution_count": 29,
   "id": "72dbb16c-25a0-4f48-b77c-b8234ec674b8",
   "metadata": {
    "colab": {
     "base_uri": "https://localhost:8080/"
    },
    "executionInfo": {
     "elapsed": 8,
     "status": "ok",
     "timestamp": 1705837162909,
     "user": {
      "displayName": "ccc flkwerkdai",
      "userId": "13507850890638580947"
     },
     "user_tz": -540
    },
    "id": "72dbb16c-25a0-4f48-b77c-b8234ec674b8",
    "outputId": "b529adc0-5977-4874-fcb0-8579c4d22684",
    "tags": []
   },
   "outputs": [
    {
     "name": "stdout",
     "output_type": "stream",
     "text": [
      "빈도수 상위 1등 단어 : the\n"
     ]
    }
   ],
   "source": [
    "print(f\"빈도수 상위 1등 단어 : {index_to_word[4]}\" )"
   ]
  },
  {
   "cell_type": "code",
   "execution_count": 30,
   "id": "82e844b0-16ff-4f85-a37b-20d8843c8c33",
   "metadata": {
    "colab": {
     "base_uri": "https://localhost:8080/"
    },
    "executionInfo": {
     "elapsed": 7,
     "status": "ok",
     "timestamp": 1705837162909,
     "user": {
      "displayName": "ccc flkwerkdai",
      "userId": "13507850890638580947"
     },
     "user_tz": -540
    },
    "id": "82e844b0-16ff-4f85-a37b-20d8843c8c33",
    "outputId": "a4767386-c244-4091-d9ca-18785e0b8322",
    "tags": []
   },
   "outputs": [
    {
     "name": "stdout",
     "output_type": "stream",
     "text": [
      "빈도수 상위 3938등 단어 : suited\n"
     ]
    }
   ],
   "source": [
    "print(f\"빈도수 상위 3938등 단어 : {index_to_word[3941]}\")"
   ]
  },
  {
   "cell_type": "markdown",
   "id": "720e11e7-2249-4929-a088-322fb0293cd0",
   "metadata": {
    "id": "720e11e7-2249-4929-a088-322fb0293cd0"
   },
   "source": [
    "`-` 첫 번째 훈련용 리뷰의 각 단어가 정수로 바뀌기 전에 어떤 단어들이 었는지 확인"
   ]
  },
  {
   "cell_type": "markdown",
   "id": "dc2c6a19-2cf6-4776-8521-6b729e32b24e",
   "metadata": {
    "id": "dc2c6a19-2cf6-4776-8521-6b729e32b24e"
   },
   "source": [
    "* 아래작업은 0,1,2,3 특별토큰의 값을 집어넣는 과정"
   ]
  },
  {
   "cell_type": "code",
   "execution_count": 31,
   "id": "9cdf767b-39a7-421a-83e9-e5ab1d9dd8b5",
   "metadata": {
    "executionInfo": {
     "elapsed": 6,
     "status": "ok",
     "timestamp": 1705837162909,
     "user": {
      "displayName": "ccc flkwerkdai",
      "userId": "13507850890638580947"
     },
     "user_tz": -540
    },
    "id": "9cdf767b-39a7-421a-83e9-e5ab1d9dd8b5",
    "tags": []
   },
   "outputs": [],
   "source": [
    "for index, token in enumerate((\"<pad>\", \"<sos>\", \"<unk>\")):\n",
    "  index_to_word[index] = token"
   ]
  },
  {
   "cell_type": "code",
   "execution_count": 32,
   "id": "766e793e-ac9f-4b00-9430-0b1323a3871c",
   "metadata": {
    "colab": {
     "base_uri": "https://localhost:8080/"
    },
    "executionInfo": {
     "elapsed": 6,
     "status": "ok",
     "timestamp": 1705837162909,
     "user": {
      "displayName": "ccc flkwerkdai",
      "userId": "13507850890638580947"
     },
     "user_tz": -540
    },
    "id": "766e793e-ac9f-4b00-9430-0b1323a3871c",
    "outputId": "67b2c912-f4f0-4d4b-95a1-0ae2f826d0b6",
    "tags": []
   },
   "outputs": [
    {
     "data": {
      "text/plain": [
       "('<pad>', '<sos>', '<unk>')"
      ]
     },
     "execution_count": 32,
     "metadata": {},
     "output_type": "execute_result"
    }
   ],
   "source": [
    "index_to_word[0], index_to_word[1], index_to_word[2]"
   ]
  },
  {
   "cell_type": "code",
   "execution_count": 33,
   "id": "f087c469-cf79-4032-b1ad-1f3f56a088da",
   "metadata": {
    "colab": {
     "base_uri": "https://localhost:8080/"
    },
    "executionInfo": {
     "elapsed": 5,
     "status": "ok",
     "timestamp": 1705837162909,
     "user": {
      "displayName": "ccc flkwerkdai",
      "userId": "13507850890638580947"
     },
     "user_tz": -540
    },
    "id": "f087c469-cf79-4032-b1ad-1f3f56a088da",
    "outputId": "2828dbde-cf91-4862-a7f2-34d5eda036f9",
    "tags": []
   },
   "outputs": [
    {
     "name": "stdout",
     "output_type": "stream",
     "text": [
      "<sos> this film was just brilliant casting location scenery story direction everyone's really suited the part they played and you could just imagine being there robert redford's is an amazing actor and now the same being director norman's father came from the same scottish island as myself so i loved the fact there was a real connection with this film the witty remarks throughout the film were great it was just brilliant so much that i bought the film as soon as it was released for retail and would recommend it to everyone to watch and the fly fishing was amazing really cried at the end it was so sad and you know what they say if you cry at a film it must have been good and this definitely was also congratulations to the two little boy's that played the part's of norman and paul they were just brilliant children are often left out of the praising list i think because the stars that play them all grown up are such a big profile for the whole film but these children are amazing and should be praised for what they have done don't you think the whole story was so lovely because it was true and was someone's life after all that was shared with us all\n"
     ]
    }
   ],
   "source": [
    "print(\" \".join([index_to_word[i] for i in x_train[0]]))"
   ]
  },
  {
   "cell_type": "markdown",
   "id": "a2e8d1e2-2f43-45e2-9685-855e1f2c3714",
   "metadata": {
    "id": "a2e8d1e2-2f43-45e2-9685-855e1f2c3714"
   },
   "source": [
    "# 모델 설계 1.SimpleRNN + Embedding"
   ]
  },
  {
   "cell_type": "markdown",
   "id": "74b5320f-8064-4ed4-94ec-5ef5fdf7464f",
   "metadata": {
    "id": "74b5320f-8064-4ed4-94ec-5ef5fdf7464f"
   },
   "source": [
    "`-` 단어집합의 크기를 10,000으로 제한하고, 리뷰 최대 길이는 20으로 제한하여 패딩을 진행"
   ]
  },
  {
   "cell_type": "code",
   "execution_count": 43,
   "id": "2bea1005-9115-4e56-88ce-38199ac0aecf",
   "metadata": {
    "executionInfo": {
     "elapsed": 4888,
     "status": "ok",
     "timestamp": 1705837661819,
     "user": {
      "displayName": "ccc flkwerkdai",
      "userId": "13507850890638580947"
     },
     "user_tz": -540
    },
    "id": "2bea1005-9115-4e56-88ce-38199ac0aecf",
    "tags": []
   },
   "outputs": [],
   "source": [
    "max_len = 20\n",
    "vocab_size = 10000\n",
    "\n",
    "(x_train, y_train), (x_test, y_test) = imdb.load_data(num_words = vocab_size)\n",
    "\n",
    "x_train = pad_sequences(x_train, maxlen= max_len)\n",
    "x_test = pad_sequences(x_test, maxlen= max_len)"
   ]
  },
  {
   "cell_type": "markdown",
   "id": "84a03900-a3fe-4dd2-ad76-3ec77ff649a4",
   "metadata": {
    "id": "84a03900-a3fe-4dd2-ad76-3ec77ff649a4"
   },
   "source": [
    "`-` **임베딩 벡터 차원은** 10,  **은닉노드 수는** 32로 설정"
   ]
  },
  {
   "cell_type": "code",
   "execution_count": 46,
   "id": "thszrCdz3L0E",
   "metadata": {
    "executionInfo": {
     "elapsed": 5,
     "status": "ok",
     "timestamp": 1705837916661,
     "user": {
      "displayName": "ccc flkwerkdai",
      "userId": "13507850890638580947"
     },
     "user_tz": -540
    },
    "id": "thszrCdz3L0E"
   },
   "outputs": [],
   "source": [
    "SimpleRNN?"
   ]
  },
  {
   "cell_type": "code",
   "execution_count": 44,
   "id": "f623de6e-066a-46ff-8dac-59257b425867",
   "metadata": {
    "colab": {
     "base_uri": "https://localhost:8080/"
    },
    "executionInfo": {
     "elapsed": 84825,
     "status": "ok",
     "timestamp": 1705837749065,
     "user": {
      "displayName": "ccc flkwerkdai",
      "userId": "13507850890638580947"
     },
     "user_tz": -540
    },
    "id": "f623de6e-066a-46ff-8dac-59257b425867",
    "outputId": "c59b5c93-71df-48af-ca95-834319ededeb",
    "tags": []
   },
   "outputs": [
    {
     "name": "stdout",
     "output_type": "stream",
     "text": [
      "Epoch 1/10\n",
      "625/625 [==============================] - ETA: 0s - loss: 0.5670 - acc: 0.6936\n",
      "Epoch 1: val_loss improved from inf to 0.50182, saving model to RNN1.h5\n",
      "625/625 [==============================] - 23s 33ms/step - loss: 0.5670 - acc: 0.6936 - val_loss: 0.5018 - val_acc: 0.7490\n",
      "Epoch 2/10\n",
      "  8/625 [..............................] - ETA: 9s - loss: 0.4269 - acc: 0.8086"
     ]
    },
    {
     "name": "stderr",
     "output_type": "stream",
     "text": [
      "/usr/local/lib/python3.10/dist-packages/keras/src/engine/training.py:3103: UserWarning: You are saving your model as an HDF5 file via `model.save()`. This file format is considered legacy. We recommend using instead the native Keras format, e.g. `model.save('my_model.keras')`.\n",
      "  saving_api.save_model(\n"
     ]
    },
    {
     "name": "stdout",
     "output_type": "stream",
     "text": [
      "623/625 [============================>.] - ETA: 0s - loss: 0.4080 - acc: 0.8167\n",
      "Epoch 2: val_loss did not improve from 0.50182\n",
      "625/625 [==============================] - 14s 22ms/step - loss: 0.4082 - acc: 0.8166 - val_loss: 0.5076 - val_acc: 0.7472\n",
      "Epoch 3/10\n",
      "622/625 [============================>.] - ETA: 0s - loss: 0.3067 - acc: 0.8729\n",
      "Epoch 3: val_loss did not improve from 0.50182\n",
      "625/625 [==============================] - 13s 22ms/step - loss: 0.3066 - acc: 0.8727 - val_loss: 0.5756 - val_acc: 0.7404\n",
      "Epoch 4/10\n",
      "622/625 [============================>.] - ETA: 0s - loss: 0.1966 - acc: 0.9280\n",
      "Epoch 4: val_loss did not improve from 0.50182\n",
      "625/625 [==============================] - 11s 18ms/step - loss: 0.1967 - acc: 0.9279 - val_loss: 0.7042 - val_acc: 0.7114\n",
      "Epoch 5/10\n",
      "623/625 [============================>.] - ETA: 0s - loss: 0.1219 - acc: 0.9576\n",
      "Epoch 5: val_loss did not improve from 0.50182\n",
      "625/625 [==============================] - 12s 19ms/step - loss: 0.1221 - acc: 0.9575 - val_loss: 0.8506 - val_acc: 0.7212\n",
      "Epoch 6/10\n",
      "622/625 [============================>.] - ETA: 0s - loss: 0.0707 - acc: 0.9775\n",
      "Epoch 6: val_loss did not improve from 0.50182\n",
      "625/625 [==============================] - 11s 18ms/step - loss: 0.0708 - acc: 0.9775 - val_loss: 1.0163 - val_acc: 0.7092\n",
      "Epoch 6: early stopping\n"
     ]
    }
   ],
   "source": [
    "embedding_dim = 10\n",
    "hidden_units = 20\n",
    "\n",
    "clear_session()\n",
    "model = Sequential()\n",
    "model.add(Embedding(input_dim = vocab_size + 1,  output_dim = embedding_dim, input_length  = max_len ))\n",
    "## input_dim  : 단어 목록의 크기\n",
    "## output_dim : 임베딩 차원\n",
    "## input_length : 인풋 시퀀스의 길이\n",
    "model.add(SimpleRNN(hidden_units))\n",
    "model.add(Dense(1, activation = \"sigmoid\"))\n",
    "\n",
    "model.compile(optimizer = Adam(0.001), loss = \"binary_crossentropy\", metrics = [\"acc\"])\n",
    "\n",
    "es = EarlyStopping(monitor = \"val_loss\", mode =  \"min\", patience = 5, verbose = 1)\n",
    "mc = ModelCheckpoint(\"RNN1.h5\", mode = \"min\", save_best_only = True, verbose = 1 )\n",
    "\n",
    "history1 = model.fit(x_train, y_train, epochs = 10,\n",
    "                   callbacks = [es, mc], validation_split = 0.2).history"
   ]
  },
  {
   "cell_type": "code",
   "execution_count": 45,
   "id": "yiLd_FsC2YRc",
   "metadata": {
    "colab": {
     "base_uri": "https://localhost:8080/"
    },
    "executionInfo": {
     "elapsed": 261,
     "status": "ok",
     "timestamp": 1705837808492,
     "user": {
      "displayName": "ccc flkwerkdai",
      "userId": "13507850890638580947"
     },
     "user_tz": -540
    },
    "id": "yiLd_FsC2YRc",
    "outputId": "d3ecd321-c29e-482c-c87c-be473262dbf5"
   },
   "outputs": [
    {
     "name": "stdout",
     "output_type": "stream",
     "text": [
      "Model: \"sequential\"\n",
      "_________________________________________________________________\n",
      " Layer (type)                Output Shape              Param #   \n",
      "=================================================================\n",
      " embedding (Embedding)       (None, 20, 10)            100010    \n",
      "                                                                 \n",
      " simple_rnn (SimpleRNN)      (None, 20)                620       \n",
      "                                                                 \n",
      " dense (Dense)               (None, 1)                 21        \n",
      "                                                                 \n",
      "=================================================================\n",
      "Total params: 100651 (393.17 KB)\n",
      "Trainable params: 100651 (393.17 KB)\n",
      "Non-trainable params: 0 (0.00 Byte)\n",
      "_________________________________________________________________\n"
     ]
    }
   ],
   "source": [
    "model.summary()"
   ]
  },
  {
   "cell_type": "markdown",
   "id": "FdFtz5_2217L",
   "metadata": {
    "id": "FdFtz5_2217L"
   },
   "source": [
    "`-` 임베딩 층의 파라미터 수 : `(vocab_size +1) x ( embedding output_dim)`"
   ]
  },
  {
   "cell_type": "markdown",
   "id": "H-r0OkZL3BNr",
   "metadata": {
    "id": "H-r0OkZL3BNr"
   },
   "source": [
    "`-`  RNN 파라미터 수 : `(embedding output_dim + RNN output_dim + 1) x ( RNN output_dim)`"
   ]
  },
  {
   "cell_type": "markdown",
   "id": "PnuZCA6M4H5s",
   "metadata": {
    "id": "PnuZCA6M4H5s"
   },
   "source": [
    "* 시계열 데이터로 생각하면 , 20일치 데이터(input_length)를 10개의 차원으로 전달해서 20개의 아웃풋레이어(RNN output_dim)를 가지는 RNN layer에 올린 것"
   ]
  },
  {
   "cell_type": "code",
   "execution_count": 49,
   "id": "NhBGju5y3Ghb",
   "metadata": {
    "colab": {
     "base_uri": "https://localhost:8080/"
    },
    "executionInfo": {
     "elapsed": 291,
     "status": "ok",
     "timestamp": 1705838503601,
     "user": {
      "displayName": "ccc flkwerkdai",
      "userId": "13507850890638580947"
     },
     "user_tz": -540
    },
    "id": "NhBGju5y3Ghb",
    "outputId": "988d20d6-7a89-46e7-927d-93b5a9637dc4"
   },
   "outputs": [
    {
     "data": {
      "text/plain": [
       "620"
      ]
     },
     "execution_count": 49,
     "metadata": {},
     "output_type": "execute_result"
    }
   ],
   "source": [
    "(10 + 20 +1)*20"
   ]
  },
  {
   "cell_type": "markdown",
   "id": "fa5f4c83-388d-40a8-8c05-30f4a09dc093",
   "metadata": {
    "id": "fa5f4c83-388d-40a8-8c05-30f4a09dc093"
   },
   "source": [
    "## loss 시각화"
   ]
  },
  {
   "cell_type": "code",
   "execution_count": 50,
   "id": "b13787f5-6a20-4160-9237-ead252a683ef",
   "metadata": {
    "colab": {
     "base_uri": "https://localhost:8080/",
     "height": 368
    },
    "executionInfo": {
     "elapsed": 1142,
     "status": "ok",
     "timestamp": 1705838682842,
     "user": {
      "displayName": "ccc flkwerkdai",
      "userId": "13507850890638580947"
     },
     "user_tz": -540
    },
    "id": "b13787f5-6a20-4160-9237-ead252a683ef",
    "outputId": "b32be7db-fcb9-4dbb-aea5-473135c48364"
   },
   "outputs": [
    {
     "data": {
      "image/png": "[encoded data removed]",
      "text/plain": [
       "<Figure size 800x400 with 1 Axes>"
      ]
     },
     "metadata": {},
     "output_type": "display_data"
    }
   ],
   "source": [
    "plt.figure(figsize = (8,4))\n",
    "plt.plot(history1[\"loss\"], label = \"train_loss\")\n",
    "plt.plot(history1[\"val_loss\"], label = \"val_loss\")\n",
    "plt.legend()\n",
    "plt.show()"
   ]
  },
  {
   "cell_type": "markdown",
   "id": "0d1f045e-4be9-43d3-a92e-4d08615ca68a",
   "metadata": {
    "id": "0d1f045e-4be9-43d3-a92e-4d08615ca68a"
   },
   "source": [
    "## predict"
   ]
  },
  {
   "cell_type": "code",
   "execution_count": 51,
   "id": "06c07286-03a4-46d1-9d77-e02801492b96",
   "metadata": {
    "colab": {
     "base_uri": "https://localhost:8080/"
    },
    "executionInfo": {
     "elapsed": 5772,
     "status": "ok",
     "timestamp": 1705838694913,
     "user": {
      "displayName": "ccc flkwerkdai",
      "userId": "13507850890638580947"
     },
     "user_tz": -540
    },
    "id": "06c07286-03a4-46d1-9d77-e02801492b96",
    "outputId": "997c6fcc-09f6-434f-bae3-c5dee720378f",
    "tags": []
   },
   "outputs": [
    {
     "name": "stdout",
     "output_type": "stream",
     "text": [
      "782/782 [==============================] - 3s 3ms/step\n"
     ]
    }
   ],
   "source": [
    "rnn_pred1 =  model.predict(x_test)"
   ]
  },
  {
   "cell_type": "code",
   "execution_count": 58,
   "id": "peHFXBkt6Qol",
   "metadata": {
    "executionInfo": {
     "elapsed": 292,
     "status": "ok",
     "timestamp": 1705838820410,
     "user": {
      "displayName": "ccc flkwerkdai",
      "userId": "13507850890638580947"
     },
     "user_tz": -540
    },
    "id": "peHFXBkt6Qol"
   },
   "outputs": [],
   "source": [
    "rnn_pred1 = np.where(rnn_pred1>0.5,1,0)"
   ]
  },
  {
   "cell_type": "code",
   "execution_count": 59,
   "id": "8b8a24a7-5380-4bce-bdb2-37537ce1b220",
   "metadata": {
    "executionInfo": {
     "elapsed": 3,
     "status": "ok",
     "timestamp": 1705838821852,
     "user": {
      "displayName": "ccc flkwerkdai",
      "userId": "13507850890638580947"
     },
     "user_tz": -540
    },
    "id": "8b8a24a7-5380-4bce-bdb2-37537ce1b220",
    "tags": []
   },
   "outputs": [],
   "source": [
    "from sklearn.metrics import *"
   ]
  },
  {
   "cell_type": "code",
   "execution_count": 60,
   "id": "32c0b28c-8441-4f94-81ea-c179b0bb4a27",
   "metadata": {
    "colab": {
     "base_uri": "https://localhost:8080/"
    },
    "executionInfo": {
     "elapsed": 259,
     "status": "ok",
     "timestamp": 1705838823141,
     "user": {
      "displayName": "ccc flkwerkdai",
      "userId": "13507850890638580947"
     },
     "user_tz": -540
    },
    "id": "32c0b28c-8441-4f94-81ea-c179b0bb4a27",
    "outputId": "9620ee7d-c411-4489-840e-32cb6f889328"
   },
   "outputs": [
    {
     "name": "stdout",
     "output_type": "stream",
     "text": [
      "[[8756 3744]\n",
      " [3500 9000]]\n",
      "              precision    recall  f1-score   support\n",
      "\n",
      "           0       0.71      0.70      0.71     12500\n",
      "           1       0.71      0.72      0.71     12500\n",
      "\n",
      "    accuracy                           0.71     25000\n",
      "   macro avg       0.71      0.71      0.71     25000\n",
      "weighted avg       0.71      0.71      0.71     25000\n",
      "\n"
     ]
    }
   ],
   "source": [
    "print(confusion_matrix(y_test, rnn_pred1))\n",
    "print(classification_report(y_test, rnn_pred1))"
   ]
  },
  {
   "cell_type": "markdown",
   "id": "f92d11cf-2322-4adf-aff0-baba2bb0de67",
   "metadata": {
    "id": "f92d11cf-2322-4adf-aff0-baba2bb0de67"
   },
   "source": [
    "# 모델 설계 2. LSTM"
   ]
  },
  {
   "cell_type": "code",
   "execution_count": 61,
   "id": "L_-ISSiH8xRy",
   "metadata": {
    "executionInfo": {
     "elapsed": 449,
     "status": "ok",
     "timestamp": 1705839373142,
     "user": {
      "displayName": "ccc flkwerkdai",
      "userId": "13507850890638580947"
     },
     "user_tz": -540
    },
    "id": "L_-ISSiH8xRy"
   },
   "outputs": [],
   "source": [
    "EarlyStopping?"
   ]
  },
  {
   "cell_type": "code",
   "execution_count": 72,
   "id": "25546542-fa2a-45f9-a760-6c1097d3877d",
   "metadata": {
    "executionInfo": {
     "elapsed": 645,
     "status": "ok",
     "timestamp": 1705839713304,
     "user": {
      "displayName": "ccc flkwerkdai",
      "userId": "13507850890638580947"
     },
     "user_tz": -540
    },
    "id": "25546542-fa2a-45f9-a760-6c1097d3877d"
   },
   "outputs": [],
   "source": [
    "clear_session()\n",
    "\n",
    "model = Sequential()\n",
    "model.add(Embedding(input_dim = vocab_size + 1, output_dim = embedding_dim, input_length = max_len))\n",
    "model.add(LSTM(hidden_units))\n",
    "model.add(Dense(1, activation = \"sigmoid\"))\n",
    "\n",
    "model.compile(optimizer = Adam(0.01), loss = \"binary_crossentropy\", metrics = [\"acc\"])\n",
    "\n",
    "es = EarlyStopping(mode = \"min\", monitor = \"val_loss\", patience = 5, verbose = 1)\n",
    "mc = ModelCheckpoint(\"LSTM.h5\", mode = \"min\", save_best_only = True, verbose = 1 )"
   ]
  },
  {
   "cell_type": "code",
   "execution_count": 73,
   "id": "JCuYgwDg9X3c",
   "metadata": {
    "colab": {
     "base_uri": "https://localhost:8080/"
    },
    "executionInfo": {
     "elapsed": 32807,
     "status": "ok",
     "timestamp": 1705839749017,
     "user": {
      "displayName": "ccc flkwerkdai",
      "userId": "13507850890638580947"
     },
     "user_tz": -540
    },
    "id": "JCuYgwDg9X3c",
    "outputId": "e177a296-fd24-4736-9084-686cb41a36b9"
   },
   "outputs": [
    {
     "name": "stdout",
     "output_type": "stream",
     "text": [
      "Epoch 1/10\n",
      "623/625 [============================>.] - ETA: 0s - loss: 0.5281 - acc: 0.7258\n",
      "Epoch 1: val_loss improved from inf to 0.50094, saving model to LSTM.h5\n",
      "625/625 [==============================] - 12s 15ms/step - loss: 0.5283 - acc: 0.7255 - val_loss: 0.5009 - val_acc: 0.7414\n",
      "Epoch 2/10\n",
      " 34/625 [>.............................] - ETA: 2s - loss: 0.3461 - acc: 0.8493"
     ]
    },
    {
     "name": "stderr",
     "output_type": "stream",
     "text": [
      "/usr/local/lib/python3.10/dist-packages/keras/src/engine/training.py:3103: UserWarning: You are saving your model as an HDF5 file via `model.save()`. This file format is considered legacy. We recommend using instead the native Keras format, e.g. `model.save('my_model.keras')`.\n",
      "  saving_api.save_model(\n"
     ]
    },
    {
     "name": "stdout",
     "output_type": "stream",
     "text": [
      "625/625 [==============================] - ETA: 0s - loss: 0.3804 - acc: 0.8264\n",
      "Epoch 2: val_loss did not improve from 0.50094\n",
      "625/625 [==============================] - 5s 8ms/step - loss: 0.3804 - acc: 0.8264 - val_loss: 0.5033 - val_acc: 0.7534\n",
      "Epoch 3/10\n",
      "618/625 [============================>.] - ETA: 0s - loss: 0.2874 - acc: 0.8742\n",
      "Epoch 3: val_loss did not improve from 0.50094\n",
      "625/625 [==============================] - 4s 6ms/step - loss: 0.2875 - acc: 0.8743 - val_loss: 0.6100 - val_acc: 0.7492\n",
      "Epoch 4/10\n",
      "625/625 [==============================] - ETA: 0s - loss: 0.2162 - acc: 0.9088\n",
      "Epoch 4: val_loss did not improve from 0.50094\n",
      "625/625 [==============================] - 4s 7ms/step - loss: 0.2162 - acc: 0.9088 - val_loss: 0.6736 - val_acc: 0.7470\n",
      "Epoch 5/10\n",
      "619/625 [============================>.] - ETA: 0s - loss: 0.1592 - acc: 0.9352\n",
      "Epoch 5: val_loss did not improve from 0.50094\n",
      "625/625 [==============================] - 4s 7ms/step - loss: 0.1598 - acc: 0.9351 - val_loss: 0.8045 - val_acc: 0.7416\n",
      "Epoch 6/10\n",
      "617/625 [============================>.] - ETA: 0s - loss: 0.1186 - acc: 0.9536\n",
      "Epoch 6: val_loss did not improve from 0.50094\n",
      "625/625 [==============================] - 4s 6ms/step - loss: 0.1186 - acc: 0.9538 - val_loss: 0.9415 - val_acc: 0.7422\n",
      "Epoch 6: early stopping\n"
     ]
    }
   ],
   "source": [
    "history2 = model.fit(x_train, y_train, epochs = 10, callbacks = [es,mc],\n",
    "                     validation_split = 0.2, verbose = 1).history"
   ]
  },
  {
   "cell_type": "code",
   "execution_count": 74,
   "id": "oMnEuaDs9mba",
   "metadata": {
    "colab": {
     "base_uri": "https://localhost:8080/",
     "height": 368
    },
    "executionInfo": {
     "elapsed": 7059,
     "status": "ok",
     "timestamp": 1705839759593,
     "user": {
      "displayName": "ccc flkwerkdai",
      "userId": "13507850890638580947"
     },
     "user_tz": -540
    },
    "id": "oMnEuaDs9mba",
    "outputId": "c22eda44-a893-4423-b973-6f8a51e56cc7"
   },
   "outputs": [
    {
     "data": {
      "image/png": "[encoded data removed]",
      "text/plain": [
       "<Figure size 800x400 with 1 Axes>"
      ]
     },
     "metadata": {},
     "output_type": "display_data"
    }
   ],
   "source": [
    "plt.figure(figsize = (8,4))\n",
    "plt.plot(history2[\"loss\"], label = \"train_loss\")\n",
    "plt.plot(history2[\"val_loss\"], label = \"val_loss\")\n",
    "plt.legend()\n",
    "plt.show()"
   ]
  },
  {
   "cell_type": "code",
   "execution_count": 75,
   "id": "V3cKuVJz9p2r",
   "metadata": {
    "colab": {
     "base_uri": "https://localhost:8080/"
    },
    "executionInfo": {
     "elapsed": 3182,
     "status": "ok",
     "timestamp": 1705839765983,
     "user": {
      "displayName": "ccc flkwerkdai",
      "userId": "13507850890638580947"
     },
     "user_tz": -540
    },
    "id": "V3cKuVJz9p2r",
    "outputId": "ef49155d-7129-4629-b6e2-549fdcc08b96"
   },
   "outputs": [
    {
     "name": "stdout",
     "output_type": "stream",
     "text": [
      "782/782 [==============================] - 2s 2ms/step\n"
     ]
    }
   ],
   "source": [
    "lstm_pred1 =  model.predict(x_test)\n",
    "lstm_pred1 = np.where(lstm_pred1>0.5,1,0)"
   ]
  },
  {
   "cell_type": "code",
   "execution_count": 76,
   "id": "0O9szucL9xYy",
   "metadata": {
    "colab": {
     "base_uri": "https://localhost:8080/"
    },
    "executionInfo": {
     "elapsed": 3,
     "status": "ok",
     "timestamp": 1705839765984,
     "user": {
      "displayName": "ccc flkwerkdai",
      "userId": "13507850890638580947"
     },
     "user_tz": -540
    },
    "id": "0O9szucL9xYy",
    "outputId": "f3a32d27-7b79-441d-ad28-07378c5c95c8"
   },
   "outputs": [
    {
     "name": "stdout",
     "output_type": "stream",
     "text": [
      "[[9545 2955]\n",
      " [3653 8847]]\n",
      "              precision    recall  f1-score   support\n",
      "\n",
      "           0       0.72      0.76      0.74     12500\n",
      "           1       0.75      0.71      0.73     12500\n",
      "\n",
      "    accuracy                           0.74     25000\n",
      "   macro avg       0.74      0.74      0.74     25000\n",
      "weighted avg       0.74      0.74      0.74     25000\n",
      "\n"
     ]
    }
   ],
   "source": [
    "print(confusion_matrix(y_test, lstm_pred1))\n",
    "print(classification_report(y_test, lstm_pred1))"
   ]
  },
  {
   "cell_type": "markdown",
   "id": "ZJzq9mcs-ioC",
   "metadata": {
    "id": "ZJzq9mcs-ioC"
   },
   "source": [
    "`-` 성능이 RNN보다 좋기는 하나 그렇게 막 뛰어나진 않음.."
   ]
  },
  {
   "cell_type": "markdown",
   "id": "tWGeh1Hc-ntb",
   "metadata": {
    "id": "tWGeh1Hc-ntb"
   },
   "source": [
    "# 모델 설계3. CNN"
   ]
  },
  {
   "cell_type": "code",
   "execution_count": 77,
   "id": "9kQ9WFkH_Wbz",
   "metadata": {
    "executionInfo": {
     "elapsed": 277,
     "status": "ok",
     "timestamp": 1705840170566,
     "user": {
      "displayName": "ccc flkwerkdai",
      "userId": "13507850890638580947"
     },
     "user_tz": -540
    },
    "id": "9kQ9WFkH_Wbz"
   },
   "outputs": [],
   "source": [
    "num_filters = 10 ## 새록게 만들려는 커널 수 (feature map의 수) 10개 생성\n",
    "\n",
    "kernel_size = 3 ## 커널의 크기"
   ]
  },
  {
   "cell_type": "code",
   "execution_count": 78,
   "id": "fT6VC8QE-qe6",
   "metadata": {
    "executionInfo": {
     "elapsed": 316,
     "status": "ok",
     "timestamp": 1705840364795,
     "user": {
      "displayName": "ccc flkwerkdai",
      "userId": "13507850890638580947"
     },
     "user_tz": -540
    },
    "id": "fT6VC8QE-qe6"
   },
   "outputs": [],
   "source": [
    "model = Sequential()\n",
    "\n",
    "model.add(Embedding(input_dim = vocab_size + 1, output_dim = embedding_dim, input_length = max_len))\n",
    "model.add(Conv1D(num_filters, kernel_size, padding = \"same\", activation = \"relu\"))\n",
    "model.add(GlobalMaxPooling1D())\n",
    "model.add(Dense(hidden_units, activation = \"relu\"))\n",
    "model.add(Dense(1, activation = \"sigmoid\"))\n",
    "\n",
    "model.compile(optimizer = Adam(0.01), metrics = [\"acc\"], loss = \"binary_crossentropy\")\n",
    "\n",
    "es = EarlyStopping(mode = \"min\", monitor = \"val_loss\", verbose = 1, patience = 5)\n",
    "mc = mc = ModelCheckpoint(\"CNN.h5\", mode = \"min\", save_best_only = True, verbose = 1 )"
   ]
  },
  {
   "cell_type": "code",
   "execution_count": 79,
   "id": "Ea4pA_JaAkxE",
   "metadata": {
    "colab": {
     "base_uri": "https://localhost:8080/"
    },
    "executionInfo": {
     "elapsed": 38979,
     "status": "ok",
     "timestamp": 1705840449362,
     "user": {
      "displayName": "ccc flkwerkdai",
      "userId": "13507850890638580947"
     },
     "user_tz": -540
    },
    "id": "Ea4pA_JaAkxE",
    "outputId": "b7cefe90-bd7a-4f5d-c4ae-3496be59e1b0"
   },
   "outputs": [
    {
     "name": "stdout",
     "output_type": "stream",
     "text": [
      "Epoch 1/10\n",
      "623/625 [============================>.] - ETA: 0s - loss: 0.5519 - acc: 0.7008\n",
      "Epoch 1: val_loss improved from inf to 0.50028, saving model to CNN.h5\n",
      "625/625 [==============================] - 18s 24ms/step - loss: 0.5518 - acc: 0.7009 - val_loss: 0.5003 - val_acc: 0.7370\n",
      "Epoch 2/10\n",
      " 13/625 [..............................] - ETA: 2s - loss: 0.3673 - acc: 0.8269"
     ]
    },
    {
     "name": "stderr",
     "output_type": "stream",
     "text": [
      "/usr/local/lib/python3.10/dist-packages/keras/src/engine/training.py:3103: UserWarning: You are saving your model as an HDF5 file via `model.save()`. This file format is considered legacy. We recommend using instead the native Keras format, e.g. `model.save('my_model.keras')`.\n",
      "  saving_api.save_model(\n"
     ]
    },
    {
     "name": "stdout",
     "output_type": "stream",
     "text": [
      "622/625 [============================>.] - ETA: 0s - loss: 0.4185 - acc: 0.8055\n",
      "Epoch 2: val_loss did not improve from 0.50028\n",
      "625/625 [==============================] - 4s 6ms/step - loss: 0.4183 - acc: 0.8055 - val_loss: 0.5387 - val_acc: 0.7400\n",
      "Epoch 3/10\n",
      "623/625 [============================>.] - ETA: 0s - loss: 0.3108 - acc: 0.8669\n",
      "Epoch 3: val_loss did not improve from 0.50028\n",
      "625/625 [==============================] - 5s 7ms/step - loss: 0.3111 - acc: 0.8669 - val_loss: 0.5776 - val_acc: 0.7450\n",
      "Epoch 4/10\n",
      "616/625 [============================>.] - ETA: 0s - loss: 0.2270 - acc: 0.9083\n",
      "Epoch 4: val_loss did not improve from 0.50028\n",
      "625/625 [==============================] - 3s 5ms/step - loss: 0.2273 - acc: 0.9082 - val_loss: 0.6714 - val_acc: 0.7372\n",
      "Epoch 5/10\n",
      "622/625 [============================>.] - ETA: 0s - loss: 0.1641 - acc: 0.9362\n",
      "Epoch 5: val_loss did not improve from 0.50028\n",
      "625/625 [==============================] - 4s 7ms/step - loss: 0.1643 - acc: 0.9360 - val_loss: 0.7790 - val_acc: 0.7376\n",
      "Epoch 6/10\n",
      "624/625 [============================>.] - ETA: 0s - loss: 0.1187 - acc: 0.9548\n",
      "Epoch 6: val_loss did not improve from 0.50028\n",
      "625/625 [==============================] - 5s 8ms/step - loss: 0.1187 - acc: 0.9549 - val_loss: 0.9241 - val_acc: 0.7348\n",
      "Epoch 6: early stopping\n"
     ]
    }
   ],
   "source": [
    "history3 = model.fit(x_train, y_train, epochs = 10, validation_split = 0.2,\n",
    "              callbacks = [es,mc]).history"
   ]
  },
  {
   "cell_type": "code",
   "execution_count": 80,
   "id": "r2EFBD6aA1Di",
   "metadata": {
    "colab": {
     "base_uri": "https://localhost:8080/"
    },
    "executionInfo": {
     "elapsed": 6,
     "status": "ok",
     "timestamp": 1705840449362,
     "user": {
      "displayName": "ccc flkwerkdai",
      "userId": "13507850890638580947"
     },
     "user_tz": -540
    },
    "id": "r2EFBD6aA1Di",
    "outputId": "9f2403dc-3356-4078-ac30-bf97e3c1df08"
   },
   "outputs": [
    {
     "name": "stdout",
     "output_type": "stream",
     "text": [
      "Model: \"sequential_1\"\n",
      "_________________________________________________________________\n",
      " Layer (type)                Output Shape              Param #   \n",
      "=================================================================\n",
      " embedding_1 (Embedding)     (None, 20, 10)            100010    \n",
      "                                                                 \n",
      " conv1d (Conv1D)             (None, 20, 10)            310       \n",
      "                                                                 \n",
      " global_max_pooling1d (Glob  (None, 10)                0         \n",
      " alMaxPooling1D)                                                 \n",
      "                                                                 \n",
      " dense_1 (Dense)             (None, 20)                220       \n",
      "                                                                 \n",
      " dense_2 (Dense)             (None, 1)                 21        \n",
      "                                                                 \n",
      "=================================================================\n",
      "Total params: 100561 (392.82 KB)\n",
      "Trainable params: 100561 (392.82 KB)\n",
      "Non-trainable params: 0 (0.00 Byte)\n",
      "_________________________________________________________________\n"
     ]
    }
   ],
   "source": [
    "model.summary()"
   ]
  },
  {
   "cell_type": "code",
   "execution_count": 83,
   "id": "ozbjY0NgAw3J",
   "metadata": {
    "colab": {
     "base_uri": "https://localhost:8080/",
     "height": 368
    },
    "executionInfo": {
     "elapsed": 520,
     "status": "ok",
     "timestamp": 1705840482501,
     "user": {
      "displayName": "ccc flkwerkdai",
      "userId": "13507850890638580947"
     },
     "user_tz": -540
    },
    "id": "ozbjY0NgAw3J",
    "outputId": "0a4d45f1-da28-4304-9625-a7978201f397"
   },
   "outputs": [
    {
     "data": {
      "image/png": "[encoded data removed]",
      "text/plain": [
       "<Figure size 800x400 with 1 Axes>"
      ]
     },
     "metadata": {},
     "output_type": "display_data"
    }
   ],
   "source": [
    "plt.figure(figsize = (8,4))\n",
    "plt.plot(history3[\"loss\"], label = \"train_loss\")\n",
    "plt.plot(history3[\"val_loss\"], label = \"val_loss\")\n",
    "plt.legend()\n",
    "plt.show()"
   ]
  },
  {
   "cell_type": "code",
   "execution_count": 82,
   "id": "yNmSBq7tA25J",
   "metadata": {
    "colab": {
     "base_uri": "https://localhost:8080/"
    },
    "executionInfo": {
     "elapsed": 2481,
     "status": "ok",
     "timestamp": 1705840466623,
     "user": {
      "displayName": "ccc flkwerkdai",
      "userId": "13507850890638580947"
     },
     "user_tz": -540
    },
    "id": "yNmSBq7tA25J",
    "outputId": "1274f65e-5359-4c5d-b3d3-a1b068c33d90"
   },
   "outputs": [
    {
     "name": "stdout",
     "output_type": "stream",
     "text": [
      "782/782 [==============================] - 2s 2ms/step\n"
     ]
    }
   ],
   "source": [
    "cnn_pred1 =  model.predict(x_test)\n",
    "cnn_pred1 = np.where(cnn_pred1>0.5,1,0)"
   ]
  },
  {
   "cell_type": "code",
   "execution_count": 85,
   "id": "fpJbmsfKA7ZT",
   "metadata": {
    "colab": {
     "base_uri": "https://localhost:8080/"
    },
    "executionInfo": {
     "elapsed": 313,
     "status": "ok",
     "timestamp": 1705840501794,
     "user": {
      "displayName": "ccc flkwerkdai",
      "userId": "13507850890638580947"
     },
     "user_tz": -540
    },
    "id": "fpJbmsfKA7ZT",
    "outputId": "4b18f7f6-9c36-44ef-c444-7158d3ab5bb5"
   },
   "outputs": [
    {
     "name": "stdout",
     "output_type": "stream",
     "text": [
      "[[9166 3334]\n",
      " [3385 9115]]\n",
      "              precision    recall  f1-score   support\n",
      "\n",
      "           0       0.73      0.73      0.73     12500\n",
      "           1       0.73      0.73      0.73     12500\n",
      "\n",
      "    accuracy                           0.73     25000\n",
      "   macro avg       0.73      0.73      0.73     25000\n",
      "weighted avg       0.73      0.73      0.73     25000\n",
      "\n"
     ]
    }
   ],
   "source": [
    "print(confusion_matrix(y_test, cnn_pred1))\n",
    "print(classification_report(y_test, cnn_pred1))"
   ]
  },
  {
   "cell_type": "markdown",
   "id": "zH0RAlcfBIup",
   "metadata": {
    "id": "zH0RAlcfBIup"
   },
   "source": [
    "# summary"
   ]
  },
  {
   "cell_type": "markdown",
   "id": "CRUA1TsIBM_D",
   "metadata": {
    "id": "CRUA1TsIBM_D"
   },
   "source": [
    "`1` 3가지 모델 전부 그렇게 성능의 차이가 나지는 않음."
   ]
  },
  {
   "cell_type": "markdown",
   "id": "rwi1n52hBRoT",
   "metadata": {
    "id": "rwi1n52hBRoT"
   },
   "source": [
    "`2` 학습 시간 때문에 의도적으로 vocab_size와 `embedding node`의 수를 낮춰서 그런것 같음"
   ]
  },
  {
   "cell_type": "markdown",
   "id": "i8KMCCrgBcKM",
   "metadata": {
    "id": "i8KMCCrgBcKM"
   },
   "source": [
    "# do next"
   ]
  },
  {
   "cell_type": "markdown",
   "id": "jo54eZuBBfGL",
   "metadata": {
    "id": "jo54eZuBBfGL"
   },
   "source": [
    "`1` associate 복습"
   ]
  },
  {
   "cell_type": "markdown",
   "id": "Roq8gwcXBgpi",
   "metadata": {
    "id": "Roq8gwcXBgpi"
   },
   "source": [
    "`2` 이미지 분류 복습"
   ]
  }
 ],
 "metadata": {
  "accelerator": "GPU",
  "colab": {
   "gpuType": "T4",
   "provenance": [],
   "toc_visible": true
  },
  "kernelspec": {
   "display_name": "Python 3 (ipykernel)",
   "language": "python",
   "name": "python3"
  },
  "language_info": {
   "codemirror_mode": {
    "name": "ipython",
    "version": 3
   },
   "file_extension": ".py",
   "mimetype": "text/x-python",
   "name": "python",
   "nbconvert_exporter": "python",
   "pygments_lexer": "ipython3",
   "version": "3.11.4"
  }
 },
 "nbformat": 4,
 "nbformat_minor": 5
}
