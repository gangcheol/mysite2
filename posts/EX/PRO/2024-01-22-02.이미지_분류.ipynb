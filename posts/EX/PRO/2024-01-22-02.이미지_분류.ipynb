{
 "cells": [
  {
   "cell_type": "raw",
   "metadata": {},
   "source": [
    "---\n",
    "title : \"02. 이미지 분류\"\n",
    "author : \"GC\"\n",
    "date : \"01/22/24\"\n",
    "categories : [python, PRO]\n",
    "---"
   ]
  },
  {
   "cell_type": "markdown",
   "metadata": {
    "id": "dXamYng16wdU"
   },
   "source": [
    "# 1. DNN"
   ]
  },
  {
   "cell_type": "markdown",
   "metadata": {
    "id": "QBYqZXHo7K9X"
   },
   "source": [
    " `Fashion_mnist` 자료를 불러온 뒤 아래의 네트워크를 이용하여 적합하라."
   ]
  },
  {
   "cell_type": "markdown",
   "metadata": {
    "id": "lF4p5_-F7hmv"
   },
   "source": [
    "`1` 평가지표로 accuracy를 이용할 것\n",
    "\n",
    "`2`  epoch는 10으로 설정할 것\n",
    "\n",
    "`3` optimizer는 adam을 이용할 것"
   ]
  },
  {
   "cell_type": "markdown",
   "metadata": {
    "id": "Dj4Dui_R7Sz_"
   },
   "source": [
    "### 데이터 로드"
   ]
  },
  {
   "cell_type": "code",
   "execution_count": 1,
   "metadata": {
    "id": "nN4d_1uw7hL_"
   },
   "outputs": [],
   "source": [
    "import tensorflow as tf\n",
    "\n",
    "from keras.backend import *\n",
    "from keras.models import *\n",
    "from keras.layers import *\n",
    "from keras.callbacks import *\n",
    "from keras.datasets import *\n",
    "from keras.losses import *\n",
    "from keras.optimizers import *"
   ]
  },
  {
   "cell_type": "code",
   "execution_count": 4,
   "metadata": {
    "colab": {
     "base_uri": "https://localhost:8080/"
    },
    "id": "I81W-o078AdW",
    "outputId": "01a279ba-82c3-41d8-9e6f-9ebd004ff9c4"
   },
   "outputs": [
    {
     "name": "stdout",
     "output_type": "stream",
     "text": [
      "Downloading data from https://storage.googleapis.com/tensorflow/tf-keras-datasets/train-labels-idx1-ubyte.gz\n",
      "29515/29515 [==============================] - 0s 0us/step\n",
      "Downloading data from https://storage.googleapis.com/tensorflow/tf-keras-datasets/train-images-idx3-ubyte.gz\n",
      "26421880/26421880 [==============================] - 0s 0us/step\n",
      "Downloading data from https://storage.googleapis.com/tensorflow/tf-keras-datasets/t10k-labels-idx1-ubyte.gz\n",
      "5148/5148 [==============================] - 0s 0us/step\n",
      "Downloading data from https://storage.googleapis.com/tensorflow/tf-keras-datasets/t10k-images-idx3-ubyte.gz\n",
      "4422102/4422102 [==============================] - 0s 0us/step\n"
     ]
    }
   ],
   "source": [
    "(x_train, y_train), (x_test, y_test) = fashion_mnist.load_data()"
   ]
  },
  {
   "cell_type": "code",
   "execution_count": 6,
   "metadata": {
    "colab": {
     "base_uri": "https://localhost:8080/"
    },
    "id": "9vVlyjRY8NyW",
    "outputId": "258a2b28-dbc8-4396-b8e0-4f435d18e08f"
   },
   "outputs": [
    {
     "data": {
      "text/plain": [
       "((60000, 28, 28), (60000,))"
      ]
     },
     "execution_count": 6,
     "metadata": {},
     "output_type": "execute_result"
    }
   ],
   "source": [
    "x_train.shape, y_train.shape"
   ]
  },
  {
   "cell_type": "code",
   "execution_count": 9,
   "metadata": {
    "colab": {
     "base_uri": "https://localhost:8080/",
     "height": 448
    },
    "id": "U-2lBVdc8p_e",
    "outputId": "1644a4a9-13a3-4d30-badd-d2c581edc337"
   },
   "outputs": [
    {
     "data": {
      "text/plain": [
       "<matplotlib.image.AxesImage at 0x7ca011e8f970>"
      ]
     },
     "execution_count": 9,
     "metadata": {},
     "output_type": "execute_result"
    },
    {
     "data": {
      "image/png": "[encoded data removed]",
      "text/plain": [
       "<Figure size 640x480 with 1 Axes>"
      ]
     },
     "metadata": {},
     "output_type": "display_data"
    }
   ],
   "source": [
    "import numpy as np\n",
    "import matplotlib.pyplot as plt\n",
    "\n",
    "plt.imshow(x_test[1], cmap = \"Greys\")"
   ]
  },
  {
   "cell_type": "markdown",
   "metadata": {
    "id": "nV4plbWg804t"
   },
   "source": [
    "### 데이터 전처리"
   ]
  },
  {
   "cell_type": "markdown",
   "metadata": {
    "id": "c0N0xNu-817F"
   },
   "source": [
    "`-` MinMax scaler 금지 $\\to$ 태블러 데이터에 최적화되어있기 때문"
   ]
  },
  {
   "cell_type": "markdown",
   "metadata": {
    "id": "Amvj-XWb8_OO"
   },
   "source": [
    "* 전처리 규칙은 train set을 따라야한다!"
   ]
  },
  {
   "cell_type": "code",
   "execution_count": 14,
   "metadata": {
    "id": "t0NwUANo9C9Z"
   },
   "outputs": [],
   "source": [
    "M, m = x_train.max(), x_train.min()\n",
    "\n",
    "train_x  = ((x_train-m)/(M-m)).reshape(-1, 28, 28, 1)\n",
    "test_x  = ((x_test-m)/(M-m)).reshape(-1, 28, 28, 1)"
   ]
  },
  {
   "cell_type": "markdown",
   "metadata": {
    "id": "QUCStZJ_-YpN"
   },
   "source": [
    "### 모델 설계"
   ]
  },
  {
   "cell_type": "code",
   "execution_count": 16,
   "metadata": {
    "colab": {
     "base_uri": "https://localhost:8080/",
     "height": 368
    },
    "id": "xE_oeRfZ-aOX",
    "outputId": "cb0476a3-de3d-4d94-bff4-9f6e11cb4eeb"
   },
   "outputs": [
    {
     "data": {
      "image/svg+xml": [
       "<?xml version=\"1.0\" encoding=\"UTF-8\" standalone=\"no\"?>\n",
       "<!DOCTYPE svg PUBLIC \"-//W3C//DTD SVG 1.1//EN\"\n",
       " \"http://www.w3.org/Graphics/SVG/1.1/DTD/svg11.dtd\">\n",
       "<!-- Generated by graphviz version 2.43.0 (0)\n",
       " -->\n",
       "<!-- Title: G Pages: 1 -->\n",
       "<svg width=\"442pt\" height=\"261pt\"\n",
       " viewBox=\"0.00 0.00 441.98 261.00\" xmlns=\"http://www.w3.org/2000/svg\" xmlns:xlink=\"http://www.w3.org/1999/xlink\">\n",
       "<g id=\"graph0\" class=\"graph\" transform=\"scale(1 1) rotate(0) translate(4 257)\">\n",
       "<title>G</title>\n",
       "<polygon fill=\"white\" stroke=\"transparent\" points=\"-4,4 -4,-257 437.98,-257 437.98,4 -4,4\"/>\n",
       "<g id=\"clust1\" class=\"cluster\">\n",
       "<title>cluster_1</title>\n",
       "<polygon fill=\"lightgrey\" stroke=\"lightgrey\" points=\"8,-8 8,-245 81.19,-245 81.19,-8 8,-8\"/>\n",
       "<text text-anchor=\"middle\" x=\"44.6\" y=\"-229.8\" font-family=\"Times,serif\" font-size=\"14.00\">Layer 0</text>\n",
       "</g>\n",
       "<g id=\"clust2\" class=\"cluster\">\n",
       "<title>cluster_2</title>\n",
       "<polygon fill=\"lightgrey\" stroke=\"lightgrey\" points=\"101.19,-8 101.19,-245 189.99,-245 189.99,-8 101.19,-8\"/>\n",
       "<text text-anchor=\"middle\" x=\"145.59\" y=\"-229.8\" font-family=\"Times,serif\" font-size=\"14.00\">Layer 1: relu</text>\n",
       "</g>\n",
       "<g id=\"clust3\" class=\"cluster\">\n",
       "<title>cluster_3</title>\n",
       "<polygon fill=\"lightgrey\" stroke=\"lightgrey\" points=\"209.99,-8 209.99,-245 303.98,-245 303.98,-8 209.99,-8\"/>\n",
       "<text text-anchor=\"middle\" x=\"256.99\" y=\"-229.8\" font-family=\"Times,serif\" font-size=\"14.00\">Layer 2: relu</text>\n",
       "</g>\n",
       "<g id=\"clust4\" class=\"cluster\">\n",
       "<title>cluster_4</title>\n",
       "<polygon fill=\"lightgrey\" stroke=\"lightgrey\" points=\"323.98,-35 323.98,-218 433.98,-218 433.98,-35 323.98,-35\"/>\n",
       "<text text-anchor=\"middle\" x=\"378.98\" y=\"-202.8\" font-family=\"Times,serif\" font-size=\"14.00\">Layer 3: softmax</text>\n",
       "</g>\n",
       "<!-- x1 -->\n",
       "<g id=\"node1\" class=\"node\">\n",
       "<title>x1</title>\n",
       "<ellipse fill=\"none\" stroke=\"black\" cx=\"44.6\" cy=\"-196\" rx=\"27\" ry=\"18\"/>\n",
       "<text text-anchor=\"middle\" x=\"44.6\" y=\"-192.3\" font-family=\"Times,serif\" font-size=\"14.00\">x1</text>\n",
       "</g>\n",
       "<!-- node1 -->\n",
       "<g id=\"node5\" class=\"node\">\n",
       "<title>node1</title>\n",
       "<ellipse fill=\"none\" stroke=\"black\" cx=\"145.59\" cy=\"-196\" rx=\"32.49\" ry=\"18\"/>\n",
       "<text text-anchor=\"middle\" x=\"145.59\" y=\"-192.3\" font-family=\"Times,serif\" font-size=\"14.00\">node1</text>\n",
       "</g>\n",
       "<!-- x1&#45;&gt;node1 -->\n",
       "<g id=\"edge1\" class=\"edge\">\n",
       "<title>x1&#45;&gt;node1</title>\n",
       "<path fill=\"none\" stroke=\"black\" d=\"M71.61,-196C81.06,-196 92,-196 102.49,-196\"/>\n",
       "<polygon fill=\"black\" stroke=\"black\" points=\"102.75,-199.5 112.75,-196 102.75,-192.5 102.75,-199.5\"/>\n",
       "</g>\n",
       "<!-- node2 -->\n",
       "<g id=\"node6\" class=\"node\">\n",
       "<title>node2</title>\n",
       "<ellipse fill=\"none\" stroke=\"black\" cx=\"145.59\" cy=\"-142\" rx=\"32.49\" ry=\"18\"/>\n",
       "<text text-anchor=\"middle\" x=\"145.59\" y=\"-138.3\" font-family=\"Times,serif\" font-size=\"14.00\">node2</text>\n",
       "</g>\n",
       "<!-- x1&#45;&gt;node2 -->\n",
       "<g id=\"edge5\" class=\"edge\">\n",
       "<title>x1&#45;&gt;node2</title>\n",
       "<path fill=\"none\" stroke=\"black\" d=\"M66.11,-184.81C79.52,-177.49 97.32,-167.79 112.58,-159.46\"/>\n",
       "<polygon fill=\"black\" stroke=\"black\" points=\"114.58,-162.36 121.68,-154.5 111.23,-156.21 114.58,-162.36\"/>\n",
       "</g>\n",
       "<!-- ... -->\n",
       "<g id=\"node7\" class=\"node\">\n",
       "<title>...</title>\n",
       "<ellipse fill=\"none\" stroke=\"black\" cx=\"145.59\" cy=\"-88\" rx=\"27\" ry=\"18\"/>\n",
       "<text text-anchor=\"middle\" x=\"145.59\" y=\"-84.3\" font-family=\"Times,serif\" font-size=\"14.00\">...</text>\n",
       "</g>\n",
       "<!-- x1&#45;&gt;... -->\n",
       "<g id=\"edge9\" class=\"edge\">\n",
       "<title>x1&#45;&gt;...</title>\n",
       "<path fill=\"none\" stroke=\"black\" d=\"M59.78,-180.53C76.56,-162.22 104.65,-131.58 123.86,-110.61\"/>\n",
       "<polygon fill=\"black\" stroke=\"black\" points=\"126.58,-112.83 130.75,-103.1 121.42,-108.1 126.58,-112.83\"/>\n",
       "</g>\n",
       "<!-- node20 -->\n",
       "<g id=\"node8\" class=\"node\">\n",
       "<title>node20</title>\n",
       "<ellipse fill=\"none\" stroke=\"black\" cx=\"145.59\" cy=\"-34\" rx=\"36.29\" ry=\"18\"/>\n",
       "<text text-anchor=\"middle\" x=\"145.59\" y=\"-30.3\" font-family=\"Times,serif\" font-size=\"14.00\">node20</text>\n",
       "</g>\n",
       "<!-- x1&#45;&gt;node20 -->\n",
       "<g id=\"edge13\" class=\"edge\">\n",
       "<title>x1&#45;&gt;node20</title>\n",
       "<path fill=\"none\" stroke=\"black\" d=\"M55.82,-179.27C73.07,-151.05 108.08,-93.75 128.6,-60.17\"/>\n",
       "<polygon fill=\"black\" stroke=\"black\" points=\"131.75,-61.73 133.98,-51.37 125.78,-58.08 131.75,-61.73\"/>\n",
       "</g>\n",
       "<!-- x2 -->\n",
       "<g id=\"node2\" class=\"node\">\n",
       "<title>x2</title>\n",
       "<ellipse fill=\"none\" stroke=\"black\" cx=\"44.6\" cy=\"-142\" rx=\"27\" ry=\"18\"/>\n",
       "<text text-anchor=\"middle\" x=\"44.6\" y=\"-138.3\" font-family=\"Times,serif\" font-size=\"14.00\">x2</text>\n",
       "</g>\n",
       "<!-- x2&#45;&gt;node1 -->\n",
       "<g id=\"edge2\" class=\"edge\">\n",
       "<title>x2&#45;&gt;node1</title>\n",
       "<path fill=\"none\" stroke=\"black\" d=\"M66.11,-153.19C79.52,-160.51 97.32,-170.21 112.58,-178.54\"/>\n",
       "<polygon fill=\"black\" stroke=\"black\" points=\"111.23,-181.79 121.68,-183.5 114.58,-175.64 111.23,-181.79\"/>\n",
       "</g>\n",
       "<!-- x2&#45;&gt;node2 -->\n",
       "<g id=\"edge6\" class=\"edge\">\n",
       "<title>x2&#45;&gt;node2</title>\n",
       "<path fill=\"none\" stroke=\"black\" d=\"M71.61,-142C81.06,-142 92,-142 102.49,-142\"/>\n",
       "<polygon fill=\"black\" stroke=\"black\" points=\"102.75,-145.5 112.75,-142 102.75,-138.5 102.75,-145.5\"/>\n",
       "</g>\n",
       "<!-- x2&#45;&gt;... -->\n",
       "<g id=\"edge10\" class=\"edge\">\n",
       "<title>x2&#45;&gt;...</title>\n",
       "<path fill=\"none\" stroke=\"black\" d=\"M66.11,-130.81C80.31,-123.06 99.43,-112.64 115.24,-104.01\"/>\n",
       "<polygon fill=\"black\" stroke=\"black\" points=\"117,-107.04 124.11,-99.17 113.65,-100.89 117,-107.04\"/>\n",
       "</g>\n",
       "<!-- x2&#45;&gt;node20 -->\n",
       "<g id=\"edge14\" class=\"edge\">\n",
       "<title>x2&#45;&gt;node20</title>\n",
       "<path fill=\"none\" stroke=\"black\" d=\"M59.78,-126.53C76.18,-108.63 103.38,-78.96 122.55,-58.05\"/>\n",
       "<polygon fill=\"black\" stroke=\"black\" points=\"125.28,-60.24 129.46,-50.51 120.12,-55.51 125.28,-60.24\"/>\n",
       "</g>\n",
       "<!-- .. -->\n",
       "<g id=\"node3\" class=\"node\">\n",
       "<title>..</title>\n",
       "<ellipse fill=\"none\" stroke=\"black\" cx=\"44.6\" cy=\"-88\" rx=\"27\" ry=\"18\"/>\n",
       "<text text-anchor=\"middle\" x=\"44.6\" y=\"-84.3\" font-family=\"Times,serif\" font-size=\"14.00\">..</text>\n",
       "</g>\n",
       "<!-- ..&#45;&gt;node1 -->\n",
       "<g id=\"edge3\" class=\"edge\">\n",
       "<title>..&#45;&gt;node1</title>\n",
       "<path fill=\"none\" stroke=\"black\" d=\"M59.78,-103.47C76.28,-121.47 103.7,-151.38 122.88,-172.31\"/>\n",
       "<polygon fill=\"black\" stroke=\"black\" points=\"120.45,-174.84 129.79,-179.85 125.61,-170.11 120.45,-174.84\"/>\n",
       "</g>\n",
       "<!-- ..&#45;&gt;node2 -->\n",
       "<g id=\"edge7\" class=\"edge\">\n",
       "<title>..&#45;&gt;node2</title>\n",
       "<path fill=\"none\" stroke=\"black\" d=\"M66.11,-99.19C79.52,-106.51 97.32,-116.21 112.58,-124.54\"/>\n",
       "<polygon fill=\"black\" stroke=\"black\" points=\"111.23,-127.79 121.68,-129.5 114.58,-121.64 111.23,-127.79\"/>\n",
       "</g>\n",
       "<!-- ..&#45;&gt;... -->\n",
       "<g id=\"edge11\" class=\"edge\">\n",
       "<title>..&#45;&gt;...</title>\n",
       "<path fill=\"none\" stroke=\"black\" d=\"M71.61,-88C82.77,-88 96.01,-88 108.13,-88\"/>\n",
       "<polygon fill=\"black\" stroke=\"black\" points=\"108.41,-91.5 118.41,-88 108.41,-84.5 108.41,-91.5\"/>\n",
       "</g>\n",
       "<!-- ..&#45;&gt;node20 -->\n",
       "<g id=\"edge15\" class=\"edge\">\n",
       "<title>..&#45;&gt;node20</title>\n",
       "<path fill=\"none\" stroke=\"black\" d=\"M66.11,-76.81C79.15,-69.7 96.33,-60.33 111.29,-52.17\"/>\n",
       "<polygon fill=\"black\" stroke=\"black\" points=\"113.16,-55.13 120.26,-47.27 109.81,-48.99 113.16,-55.13\"/>\n",
       "</g>\n",
       "<!-- x784 -->\n",
       "<g id=\"node4\" class=\"node\">\n",
       "<title>x784</title>\n",
       "<ellipse fill=\"none\" stroke=\"black\" cx=\"44.6\" cy=\"-34\" rx=\"28.7\" ry=\"18\"/>\n",
       "<text text-anchor=\"middle\" x=\"44.6\" y=\"-30.3\" font-family=\"Times,serif\" font-size=\"14.00\">x784</text>\n",
       "</g>\n",
       "<!-- x784&#45;&gt;node1 -->\n",
       "<g id=\"edge4\" class=\"edge\">\n",
       "<title>x784&#45;&gt;node1</title>\n",
       "<path fill=\"none\" stroke=\"black\" d=\"M55.82,-50.73C73.16,-79.1 108.44,-136.85 128.92,-170.36\"/>\n",
       "<polygon fill=\"black\" stroke=\"black\" points=\"126.08,-172.41 134.28,-179.12 132.05,-168.76 126.08,-172.41\"/>\n",
       "</g>\n",
       "<!-- x784&#45;&gt;node2 -->\n",
       "<g id=\"edge8\" class=\"edge\">\n",
       "<title>x784&#45;&gt;node2</title>\n",
       "<path fill=\"none\" stroke=\"black\" d=\"M59.78,-49.47C76.28,-67.47 103.7,-97.38 122.88,-118.31\"/>\n",
       "<polygon fill=\"black\" stroke=\"black\" points=\"120.45,-120.84 129.79,-125.85 125.61,-116.11 120.45,-120.84\"/>\n",
       "</g>\n",
       "<!-- x784&#45;&gt;... -->\n",
       "<g id=\"edge12\" class=\"edge\">\n",
       "<title>x784&#45;&gt;...</title>\n",
       "<path fill=\"none\" stroke=\"black\" d=\"M67.08,-45.72C81.11,-53.37 99.62,-63.47 115.04,-71.88\"/>\n",
       "<polygon fill=\"black\" stroke=\"black\" points=\"113.71,-75.14 124.17,-76.86 117.07,-69 113.71,-75.14\"/>\n",
       "</g>\n",
       "<!-- x784&#45;&gt;node20 -->\n",
       "<g id=\"edge16\" class=\"edge\">\n",
       "<title>x784&#45;&gt;node20</title>\n",
       "<path fill=\"none\" stroke=\"black\" d=\"M73.44,-34C81.41,-34 90.32,-34 99.06,-34\"/>\n",
       "<polygon fill=\"black\" stroke=\"black\" points=\"99.18,-37.5 109.18,-34 99.18,-30.5 99.18,-37.5\"/>\n",
       "</g>\n",
       "<!-- node1  -->\n",
       "<g id=\"node9\" class=\"node\">\n",
       "<title>node1 </title>\n",
       "<ellipse fill=\"none\" stroke=\"black\" cx=\"256.99\" cy=\"-196\" rx=\"34.39\" ry=\"18\"/>\n",
       "<text text-anchor=\"middle\" x=\"256.99\" y=\"-192.3\" font-family=\"Times,serif\" font-size=\"14.00\">node1 </text>\n",
       "</g>\n",
       "<!-- node1&#45;&gt;node1  -->\n",
       "<g id=\"edge17\" class=\"edge\">\n",
       "<title>node1&#45;&gt;node1 </title>\n",
       "<path fill=\"none\" stroke=\"black\" d=\"M178.23,-196C188.86,-196 200.91,-196 212.3,-196\"/>\n",
       "<polygon fill=\"black\" stroke=\"black\" points=\"212.51,-199.5 222.51,-196 212.51,-192.5 212.51,-199.5\"/>\n",
       "</g>\n",
       "<!-- node2  -->\n",
       "<g id=\"node10\" class=\"node\">\n",
       "<title>node2 </title>\n",
       "<ellipse fill=\"none\" stroke=\"black\" cx=\"256.99\" cy=\"-142\" rx=\"34.39\" ry=\"18\"/>\n",
       "<text text-anchor=\"middle\" x=\"256.99\" y=\"-138.3\" font-family=\"Times,serif\" font-size=\"14.00\">node2 </text>\n",
       "</g>\n",
       "<!-- node1&#45;&gt;node2  -->\n",
       "<g id=\"edge21\" class=\"edge\">\n",
       "<title>node1&#45;&gt;node2 </title>\n",
       "<path fill=\"none\" stroke=\"black\" d=\"M170.33,-184.28C185.35,-176.87 205.02,-167.16 221.72,-158.91\"/>\n",
       "<polygon fill=\"black\" stroke=\"black\" points=\"223.74,-161.82 231.16,-154.26 220.64,-155.54 223.74,-161.82\"/>\n",
       "</g>\n",
       "<!-- ...  -->\n",
       "<g id=\"node11\" class=\"node\">\n",
       "<title>... </title>\n",
       "<ellipse fill=\"none\" stroke=\"black\" cx=\"256.99\" cy=\"-88\" rx=\"27\" ry=\"18\"/>\n",
       "<text text-anchor=\"middle\" x=\"256.99\" y=\"-84.3\" font-family=\"Times,serif\" font-size=\"14.00\">... </text>\n",
       "</g>\n",
       "<!-- node1&#45;&gt;...  -->\n",
       "<g id=\"edge25\" class=\"edge\">\n",
       "<title>node1&#45;&gt;... </title>\n",
       "<path fill=\"none\" stroke=\"black\" d=\"M162.27,-180.53C181,-162.03 212.47,-130.96 233.72,-109.98\"/>\n",
       "<polygon fill=\"black\" stroke=\"black\" points=\"236.39,-112.27 241.04,-102.75 231.47,-107.29 236.39,-112.27\"/>\n",
       "</g>\n",
       "<!-- node30  -->\n",
       "<g id=\"node12\" class=\"node\">\n",
       "<title>node30 </title>\n",
       "<ellipse fill=\"none\" stroke=\"black\" cx=\"256.99\" cy=\"-34\" rx=\"38.99\" ry=\"18\"/>\n",
       "<text text-anchor=\"middle\" x=\"256.99\" y=\"-30.3\" font-family=\"Times,serif\" font-size=\"14.00\">node30 </text>\n",
       "</g>\n",
       "<!-- node1&#45;&gt;node30  -->\n",
       "<g id=\"edge29\" class=\"edge\">\n",
       "<title>node1&#45;&gt;node30 </title>\n",
       "<path fill=\"none\" stroke=\"black\" d=\"M157.89,-179.27C177.03,-150.93 215.97,-93.26 238.6,-59.74\"/>\n",
       "<polygon fill=\"black\" stroke=\"black\" points=\"241.56,-61.61 244.26,-51.37 235.76,-57.7 241.56,-61.61\"/>\n",
       "</g>\n",
       "<!-- node2&#45;&gt;node1  -->\n",
       "<g id=\"edge18\" class=\"edge\">\n",
       "<title>node2&#45;&gt;node1 </title>\n",
       "<path fill=\"none\" stroke=\"black\" d=\"M170.33,-153.72C185.35,-161.13 205.02,-170.84 221.72,-179.09\"/>\n",
       "<polygon fill=\"black\" stroke=\"black\" points=\"220.64,-182.46 231.16,-183.74 223.74,-176.18 220.64,-182.46\"/>\n",
       "</g>\n",
       "<!-- node2&#45;&gt;node2  -->\n",
       "<g id=\"edge22\" class=\"edge\">\n",
       "<title>node2&#45;&gt;node2 </title>\n",
       "<path fill=\"none\" stroke=\"black\" d=\"M178.23,-142C188.86,-142 200.91,-142 212.3,-142\"/>\n",
       "<polygon fill=\"black\" stroke=\"black\" points=\"212.51,-145.5 222.51,-142 212.51,-138.5 212.51,-145.5\"/>\n",
       "</g>\n",
       "<!-- node2&#45;&gt;...  -->\n",
       "<g id=\"edge26\" class=\"edge\">\n",
       "<title>node2&#45;&gt;... </title>\n",
       "<path fill=\"none\" stroke=\"black\" d=\"M170.33,-130.28C186.55,-122.27 208.2,-111.59 225.67,-102.97\"/>\n",
       "<polygon fill=\"black\" stroke=\"black\" points=\"227.47,-105.98 234.88,-98.42 224.37,-99.7 227.47,-105.98\"/>\n",
       "</g>\n",
       "<!-- node2&#45;&gt;node30  -->\n",
       "<g id=\"edge30\" class=\"edge\">\n",
       "<title>node2&#45;&gt;node30 </title>\n",
       "<path fill=\"none\" stroke=\"black\" d=\"M162.27,-126.53C180.58,-108.45 211.06,-78.35 232.27,-57.41\"/>\n",
       "<polygon fill=\"black\" stroke=\"black\" points=\"234.97,-59.67 239.63,-50.15 230.05,-54.69 234.97,-59.67\"/>\n",
       "</g>\n",
       "<!-- ...&#45;&gt;node1  -->\n",
       "<g id=\"edge19\" class=\"edge\">\n",
       "<title>...&#45;&gt;node1 </title>\n",
       "<path fill=\"none\" stroke=\"black\" d=\"M161.8,-103.02C180.18,-121.16 211.3,-151.89 232.71,-173.02\"/>\n",
       "<polygon fill=\"black\" stroke=\"black\" points=\"230.26,-175.52 239.84,-180.06 235.18,-170.54 230.26,-175.52\"/>\n",
       "</g>\n",
       "<!-- ...&#45;&gt;node2  -->\n",
       "<g id=\"edge23\" class=\"edge\">\n",
       "<title>...&#45;&gt;node2 </title>\n",
       "<path fill=\"none\" stroke=\"black\" d=\"M167.68,-98.41C182.98,-105.96 204,-116.34 221.7,-125.07\"/>\n",
       "<polygon fill=\"black\" stroke=\"black\" points=\"220.61,-128.44 231.13,-129.73 223.71,-122.16 220.61,-128.44\"/>\n",
       "</g>\n",
       "<!-- ...&#45;&gt;...  -->\n",
       "<g id=\"edge27\" class=\"edge\">\n",
       "<title>...&#45;&gt;... </title>\n",
       "<path fill=\"none\" stroke=\"black\" d=\"M172.79,-88C186.76,-88 204.17,-88 219.45,-88\"/>\n",
       "<polygon fill=\"black\" stroke=\"black\" points=\"219.62,-91.5 229.62,-88 219.62,-84.5 219.62,-91.5\"/>\n",
       "</g>\n",
       "<!-- ...&#45;&gt;node30  -->\n",
       "<g id=\"edge31\" class=\"edge\">\n",
       "<title>...&#45;&gt;node30 </title>\n",
       "<path fill=\"none\" stroke=\"black\" d=\"M167.68,-77.59C182.56,-70.24 202.85,-60.23 220.24,-51.65\"/>\n",
       "<polygon fill=\"black\" stroke=\"black\" points=\"222.12,-54.62 229.54,-47.05 219.02,-48.34 222.12,-54.62\"/>\n",
       "</g>\n",
       "<!-- node20&#45;&gt;node1  -->\n",
       "<g id=\"edge20\" class=\"edge\">\n",
       "<title>node20&#45;&gt;node1 </title>\n",
       "<path fill=\"none\" stroke=\"black\" d=\"M158.09,-51.03C177.33,-79.52 216.13,-136.98 238.68,-170.37\"/>\n",
       "<polygon fill=\"black\" stroke=\"black\" points=\"235.81,-172.38 244.31,-178.71 241.61,-168.46 235.81,-172.38\"/>\n",
       "</g>\n",
       "<!-- node20&#45;&gt;node2  -->\n",
       "<g id=\"edge24\" class=\"edge\">\n",
       "<title>node20&#45;&gt;node2 </title>\n",
       "<path fill=\"none\" stroke=\"black\" d=\"M162.73,-49.94C181.15,-68.12 211.44,-98.03 232.48,-118.8\"/>\n",
       "<polygon fill=\"black\" stroke=\"black\" points=\"230.2,-121.46 239.78,-126 235.12,-116.48 230.2,-121.46\"/>\n",
       "</g>\n",
       "<!-- node20&#45;&gt;...  -->\n",
       "<g id=\"edge28\" class=\"edge\">\n",
       "<title>node20&#45;&gt;... </title>\n",
       "<path fill=\"none\" stroke=\"black\" d=\"M171.96,-46.52C187.9,-54.39 208.55,-64.58 225.39,-72.9\"/>\n",
       "<polygon fill=\"black\" stroke=\"black\" points=\"224.28,-76.25 234.8,-77.54 227.38,-69.98 224.28,-76.25\"/>\n",
       "</g>\n",
       "<!-- node20&#45;&gt;node30  -->\n",
       "<g id=\"edge32\" class=\"edge\">\n",
       "<title>node20&#45;&gt;node30 </title>\n",
       "<path fill=\"none\" stroke=\"black\" d=\"M182.11,-34C190.18,-34 198.89,-34 207.4,-34\"/>\n",
       "<polygon fill=\"black\" stroke=\"black\" points=\"207.63,-37.5 217.63,-34 207.63,-30.5 207.63,-37.5\"/>\n",
       "</g>\n",
       "<!-- y10 -->\n",
       "<g id=\"node13\" class=\"node\">\n",
       "<title>y10</title>\n",
       "<ellipse fill=\"none\" stroke=\"black\" cx=\"378.98\" cy=\"-61\" rx=\"27\" ry=\"18\"/>\n",
       "<text text-anchor=\"middle\" x=\"378.98\" y=\"-57.3\" font-family=\"Times,serif\" font-size=\"14.00\">y10</text>\n",
       "</g>\n",
       "<!-- node1 &#45;&gt;y10 -->\n",
       "<g id=\"edge33\" class=\"edge\">\n",
       "<title>node1 &#45;&gt;y10</title>\n",
       "<path fill=\"none\" stroke=\"black\" d=\"M272.46,-179.72C293.68,-155.84 333.32,-111.24 357.52,-84.02\"/>\n",
       "<polygon fill=\"black\" stroke=\"black\" points=\"360.17,-86.31 364.2,-76.51 354.94,-81.66 360.17,-86.31\"/>\n",
       "</g>\n",
       "<!-- y1 -->\n",
       "<g id=\"node14\" class=\"node\">\n",
       "<title>y1</title>\n",
       "<ellipse fill=\"none\" stroke=\"black\" cx=\"378.98\" cy=\"-169\" rx=\"27\" ry=\"18\"/>\n",
       "<text text-anchor=\"middle\" x=\"378.98\" y=\"-165.3\" font-family=\"Times,serif\" font-size=\"14.00\">y1</text>\n",
       "</g>\n",
       "<!-- node1 &#45;&gt;y1 -->\n",
       "<g id=\"edge37\" class=\"edge\">\n",
       "<title>node1 &#45;&gt;y1</title>\n",
       "<path fill=\"none\" stroke=\"black\" d=\"M288.89,-189.05C305.45,-185.32 325.91,-180.72 343.05,-176.86\"/>\n",
       "<polygon fill=\"black\" stroke=\"black\" points=\"344.24,-180.18 353.23,-174.57 342.7,-173.35 344.24,-180.18\"/>\n",
       "</g>\n",
       "<!-- . -->\n",
       "<g id=\"node15\" class=\"node\">\n",
       "<title>.</title>\n",
       "<ellipse fill=\"none\" stroke=\"black\" cx=\"378.98\" cy=\"-115\" rx=\"27\" ry=\"18\"/>\n",
       "<text text-anchor=\"middle\" x=\"378.98\" y=\"-111.3\" font-family=\"Times,serif\" font-size=\"14.00\">.</text>\n",
       "</g>\n",
       "<!-- node1 &#45;&gt;. -->\n",
       "<g id=\"edge41\" class=\"edge\">\n",
       "<title>node1 &#45;&gt;.</title>\n",
       "<path fill=\"none\" stroke=\"black\" d=\"M278.89,-181.89C298.83,-168.43 328.99,-148.07 350.8,-133.35\"/>\n",
       "<polygon fill=\"black\" stroke=\"black\" points=\"352.96,-136.11 359.29,-127.62 349.04,-130.31 352.96,-136.11\"/>\n",
       "</g>\n",
       "<!-- node2 &#45;&gt;y10 -->\n",
       "<g id=\"edge34\" class=\"edge\">\n",
       "<title>node2 &#45;&gt;y10</title>\n",
       "<path fill=\"none\" stroke=\"black\" d=\"M278.89,-127.89C298.83,-114.43 328.99,-94.07 350.8,-79.35\"/>\n",
       "<polygon fill=\"black\" stroke=\"black\" points=\"352.96,-82.11 359.29,-73.62 349.04,-76.31 352.96,-82.11\"/>\n",
       "</g>\n",
       "<!-- node2 &#45;&gt;y1 -->\n",
       "<g id=\"edge38\" class=\"edge\">\n",
       "<title>node2 &#45;&gt;y1</title>\n",
       "<path fill=\"none\" stroke=\"black\" d=\"M288.89,-148.95C305.45,-152.68 325.91,-157.28 343.05,-161.14\"/>\n",
       "<polygon fill=\"black\" stroke=\"black\" points=\"342.7,-164.65 353.23,-163.43 344.24,-157.82 342.7,-164.65\"/>\n",
       "</g>\n",
       "<!-- node2 &#45;&gt;. -->\n",
       "<g id=\"edge42\" class=\"edge\">\n",
       "<title>node2 &#45;&gt;.</title>\n",
       "<path fill=\"none\" stroke=\"black\" d=\"M288.89,-135.05C305.45,-131.32 325.91,-126.72 343.05,-122.86\"/>\n",
       "<polygon fill=\"black\" stroke=\"black\" points=\"344.24,-126.18 353.23,-120.57 342.7,-119.35 344.24,-126.18\"/>\n",
       "</g>\n",
       "<!-- ... &#45;&gt;y10 -->\n",
       "<g id=\"edge35\" class=\"edge\">\n",
       "<title>... &#45;&gt;y10</title>\n",
       "<path fill=\"none\" stroke=\"black\" d=\"M282.85,-82.41C300.31,-78.48 323.89,-73.17 343.21,-68.82\"/>\n",
       "<polygon fill=\"black\" stroke=\"black\" points=\"344.16,-72.2 353.15,-66.59 342.63,-65.37 344.16,-72.2\"/>\n",
       "</g>\n",
       "<!-- ... &#45;&gt;y1 -->\n",
       "<g id=\"edge39\" class=\"edge\">\n",
       "<title>... &#45;&gt;y1</title>\n",
       "<path fill=\"none\" stroke=\"black\" d=\"M276.47,-100.48C296.32,-113.88 328.06,-135.3 350.76,-150.63\"/>\n",
       "<polygon fill=\"black\" stroke=\"black\" points=\"349.03,-153.68 359.28,-156.37 352.95,-147.88 349.03,-153.68\"/>\n",
       "</g>\n",
       "<!-- ... &#45;&gt;. -->\n",
       "<g id=\"edge43\" class=\"edge\">\n",
       "<title>... &#45;&gt;.</title>\n",
       "<path fill=\"none\" stroke=\"black\" d=\"M282.85,-93.59C300.31,-97.52 323.89,-102.83 343.21,-107.18\"/>\n",
       "<polygon fill=\"black\" stroke=\"black\" points=\"342.63,-110.63 353.15,-109.41 344.16,-103.8 342.63,-110.63\"/>\n",
       "</g>\n",
       "<!-- node30 &#45;&gt;y10 -->\n",
       "<g id=\"edge36\" class=\"edge\">\n",
       "<title>node30 &#45;&gt;y10</title>\n",
       "<path fill=\"none\" stroke=\"black\" d=\"M292.37,-41.74C308.28,-45.32 327.14,-49.56 343.11,-53.15\"/>\n",
       "<polygon fill=\"black\" stroke=\"black\" points=\"342.6,-56.63 353.12,-55.41 344.13,-49.8 342.6,-56.63\"/>\n",
       "</g>\n",
       "<!-- node30 &#45;&gt;y1 -->\n",
       "<g id=\"edge40\" class=\"edge\">\n",
       "<title>node30 &#45;&gt;y1</title>\n",
       "<path fill=\"none\" stroke=\"black\" d=\"M272.7,-50.55C294,-74.52 333.52,-118.97 357.61,-146.08\"/>\n",
       "<polygon fill=\"black\" stroke=\"black\" points=\"355,-148.41 364.26,-153.56 360.23,-143.76 355,-148.41\"/>\n",
       "</g>\n",
       "<!-- node30 &#45;&gt;. -->\n",
       "<g id=\"edge44\" class=\"edge\">\n",
       "<title>node30 &#45;&gt;.</title>\n",
       "<path fill=\"none\" stroke=\"black\" d=\"M279.72,-48.67C299.66,-62.13 329.29,-82.13 350.79,-96.65\"/>\n",
       "<polygon fill=\"black\" stroke=\"black\" points=\"348.93,-99.61 359.17,-102.3 352.84,-93.81 348.93,-99.61\"/>\n",
       "</g>\n",
       "</g>\n",
       "</svg>\n"
      ],
      "text/plain": [
       "<graphviz.sources.Source at 0x7ca011ef6e60>"
      ]
     },
     "execution_count": 16,
     "metadata": {},
     "output_type": "execute_result"
    }
   ],
   "source": [
    "#| code-fold : false\n",
    "import graphviz\n",
    "def gv(s): return graphviz.Source('digraph G{ rankdir=\"LR\"'+ s + ';}')\n",
    "\n",
    "#collapse\n",
    "gv('''\n",
    "splines=line\n",
    "subgraph cluster_1{\n",
    "    style=filled;\n",
    "    color=lightgrey;\n",
    "    \"x1\"\n",
    "    \"x2\"\n",
    "    \"..\"\n",
    "    \"x784\"\n",
    "    label = \"Layer 0\"\n",
    "}\n",
    "subgraph cluster_2{\n",
    "    style=filled;\n",
    "    color=lightgrey;\n",
    "    \"x1\" -> \"node1\"\n",
    "    \"x2\" -> \"node1\"\n",
    "    \"..\" -> \"node1\"\n",
    "    \"x784\" -> \"node1\"\n",
    "\n",
    "    \"x1\" -> \"node2\"\n",
    "    \"x2\" -> \"node2\"\n",
    "    \"..\" -> \"node2\"\n",
    "    \"x784\" -> \"node2\"\n",
    "\n",
    "    \"x1\" -> \"...\"\n",
    "    \"x2\" -> \"...\"\n",
    "    \"..\" -> \"...\"\n",
    "    \"x784\" -> \"...\"\n",
    "\n",
    "    \"x1\" -> \"node20\"\n",
    "    \"x2\" -> \"node20\"\n",
    "    \"..\" -> \"node20\"\n",
    "    \"x784\" -> \"node20\"\n",
    "\n",
    "\n",
    "    label = \"Layer 1: relu\"\n",
    "}\n",
    "subgraph cluster_3{\n",
    "    style=filled;\n",
    "    color=lightgrey;\n",
    "    \"node1\" -> \"node1 \"\n",
    "    \"node2\" -> \"node1 \"\n",
    "    \"...\" -> \"node1 \"\n",
    "    \"node20\" -> \"node1 \"\n",
    "\n",
    "    \"node1\" -> \"node2 \"\n",
    "    \"node2\" -> \"node2 \"\n",
    "    \"...\" -> \"node2 \"\n",
    "    \"node20\" -> \"node2 \"\n",
    "\n",
    "    \"node1\" -> \"... \"\n",
    "    \"node2\" -> \"... \"\n",
    "    \"...\" -> \"... \"\n",
    "    \"node20\" -> \"... \"\n",
    "\n",
    "    \"node1\" -> \"node30 \"\n",
    "    \"node2\" -> \"node30 \"\n",
    "    \"...\" -> \"node30 \"\n",
    "    \"node20\" -> \"node30 \"\n",
    "\n",
    "\n",
    "    label = \"Layer 2: relu\"\n",
    "}\n",
    "subgraph cluster_4{\n",
    "    style=filled;\n",
    "    color=lightgrey;\n",
    "\n",
    "    \"node1 \" -> \"y10\"\n",
    "    \"node2 \" -> \"y10\"\n",
    "    \"... \" -> \"y10\"\n",
    "    \"node30 \" -> \"y10\"\n",
    "\n",
    "    \"node1 \" -> \"y1\"\n",
    "    \"node2 \" -> \"y1\"\n",
    "    \"... \" -> \"y1\"\n",
    "    \"node30 \" -> \"y1\"\n",
    "\n",
    "    \"node1 \" -> \".\"\n",
    "    \"node2 \" -> \".\"\n",
    "    \"... \" -> \".\"\n",
    "    \"node30 \" -> \".\"\n",
    "\n",
    "    label = \"Layer 3: softmax\"\n",
    "}\n",
    "''')"
   ]
  },
  {
   "cell_type": "code",
   "execution_count": 17,
   "metadata": {
    "colab": {
     "base_uri": "https://localhost:8080/"
    },
    "id": "MFaSBah2_Uq_",
    "outputId": "458374a2-e6c9-4a38-91ec-0e4fc56ca328"
   },
   "outputs": [
    {
     "data": {
      "text/plain": [
       "784"
      ]
     },
     "execution_count": 17,
     "metadata": {},
     "output_type": "execute_result"
    }
   ],
   "source": [
    "28*28"
   ]
  },
  {
   "cell_type": "code",
   "execution_count": 18,
   "metadata": {
    "colab": {
     "base_uri": "https://localhost:8080/"
    },
    "id": "b3o6BX8__nDI",
    "outputId": "5a985568-200e-42f7-8bbd-1e387cf8ffde"
   },
   "outputs": [
    {
     "data": {
      "text/plain": [
       "array([0, 1, 2, 3, 4, 5, 6, 7, 8, 9], dtype=uint8)"
      ]
     },
     "execution_count": 18,
     "metadata": {},
     "output_type": "execute_result"
    }
   ],
   "source": [
    "np.unique(y_train)"
   ]
  },
  {
   "cell_type": "code",
   "execution_count": 19,
   "metadata": {
    "colab": {
     "base_uri": "https://localhost:8080/"
    },
    "id": "xzJX266j_3FR",
    "outputId": "d610dae0-8828-4326-f311-e56a5ab49ee0"
   },
   "outputs": [
    {
     "name": "stdout",
     "output_type": "stream",
     "text": [
      "Object `model.compile` not found.\n"
     ]
    }
   ],
   "source": [
    "model.compile?"
   ]
  },
  {
   "cell_type": "code",
   "execution_count": 25,
   "metadata": {
    "id": "PD51jKfw-hyV"
   },
   "outputs": [],
   "source": [
    "model = Sequential()\n",
    "\n",
    "model.add(Flatten())\n",
    "model.add(Dense(20, activation = \"relu\"))\n",
    "model.add(Dense(30, activation = \"relu\"))\n",
    "model.add(Dense(10, activation = \"softmax\"))\n",
    "\n",
    "model.compile(optimizer = Adam(0.001), metrics = [\"acc\"], loss =  \"sparse_categorical_crossentropy\")"
   ]
  },
  {
   "cell_type": "code",
   "execution_count": 26,
   "metadata": {
    "id": "NCjAlMsIAl6e"
   },
   "outputs": [],
   "source": [
    "es  = EarlyStopping(monitor = \"val_loss\", mode = \"min\", patience = 5, verbose = 1)\n",
    "\n",
    "mc = ModelCheckpoint(monitor = \"val_loss\", filepath = \"mnist_dnn.ckpt\",\n",
    "                                    save_best_only = True,  mode = \"min\", verbose = 1 )"
   ]
  },
  {
   "cell_type": "markdown",
   "metadata": {
    "id": "18wYm8yQAYK_"
   },
   "source": [
    "### 모델 학습"
   ]
  },
  {
   "cell_type": "code",
   "execution_count": 31,
   "metadata": {
    "colab": {
     "base_uri": "https://localhost:8080/"
    },
    "id": "mYC7Zz95AWR5",
    "outputId": "94ebb9fa-f9a2-4f52-e767-13f88f147126"
   },
   "outputs": [
    {
     "name": "stdout",
     "output_type": "stream",
     "text": [
      "Epoch 1/10\n",
      "1485/1500 [============================>.] - ETA: 0s - loss: 0.3112 - acc: 0.8847\n",
      "Epoch 1: val_loss did not improve from 0.35468\n",
      "1500/1500 [==============================] - 6s 4ms/step - loss: 0.3110 - acc: 0.8849 - val_loss: 0.3716 - val_acc: 0.8689\n",
      "Epoch 2/10\n",
      "1489/1500 [============================>.] - ETA: 0s - loss: 0.3018 - acc: 0.8887\n",
      "Epoch 2: val_loss did not improve from 0.35468\n",
      "1500/1500 [==============================] - 5s 3ms/step - loss: 0.3020 - acc: 0.8888 - val_loss: 0.3825 - val_acc: 0.8664\n",
      "Epoch 3/10\n",
      "1483/1500 [============================>.] - ETA: 0s - loss: 0.2999 - acc: 0.8894\n",
      "Epoch 3: val_loss did not improve from 0.35468\n",
      "1500/1500 [==============================] - 5s 3ms/step - loss: 0.2999 - acc: 0.8895 - val_loss: 0.3568 - val_acc: 0.8772\n",
      "Epoch 4/10\n",
      "1499/1500 [============================>.] - ETA: 0s - loss: 0.2959 - acc: 0.8922\n",
      "Epoch 4: val_loss did not improve from 0.35468\n",
      "1500/1500 [==============================] - 5s 4ms/step - loss: 0.2958 - acc: 0.8923 - val_loss: 0.3665 - val_acc: 0.8738\n",
      "Epoch 5/10\n",
      "1490/1500 [============================>.] - ETA: 0s - loss: 0.2912 - acc: 0.8904\n",
      "Epoch 5: val_loss did not improve from 0.35468\n",
      "1500/1500 [==============================] - 5s 4ms/step - loss: 0.2911 - acc: 0.8905 - val_loss: 0.3589 - val_acc: 0.8723\n",
      "Epoch 6/10\n",
      "1499/1500 [============================>.] - ETA: 0s - loss: 0.2865 - acc: 0.8951\n",
      "Epoch 6: val_loss improved from 0.35468 to 0.35428, saving model to mnist_dnn.ckpt\n",
      "1500/1500 [==============================] - 8s 5ms/step - loss: 0.2865 - acc: 0.8951 - val_loss: 0.3543 - val_acc: 0.8740\n",
      "Epoch 7/10\n",
      "1498/1500 [============================>.] - ETA: 0s - loss: 0.2824 - acc: 0.8946\n",
      "Epoch 7: val_loss did not improve from 0.35428\n",
      "1500/1500 [==============================] - 5s 3ms/step - loss: 0.2823 - acc: 0.8946 - val_loss: 0.3610 - val_acc: 0.8751\n",
      "Epoch 8/10\n",
      "1482/1500 [============================>.] - ETA: 0s - loss: 0.2809 - acc: 0.8966\n",
      "Epoch 8: val_loss improved from 0.35428 to 0.35115, saving model to mnist_dnn.ckpt\n",
      "1500/1500 [==============================] - 6s 4ms/step - loss: 0.2807 - acc: 0.8966 - val_loss: 0.3511 - val_acc: 0.8751\n",
      "Epoch 9/10\n",
      "1485/1500 [============================>.] - ETA: 0s - loss: 0.2759 - acc: 0.8977\n",
      "Epoch 9: val_loss did not improve from 0.35115\n",
      "1500/1500 [==============================] - 5s 3ms/step - loss: 0.2760 - acc: 0.8977 - val_loss: 0.3617 - val_acc: 0.8750\n",
      "Epoch 10/10\n",
      "1495/1500 [============================>.] - ETA: 0s - loss: 0.2708 - acc: 0.9002\n",
      "Epoch 10: val_loss did not improve from 0.35115\n",
      "1500/1500 [==============================] - 5s 3ms/step - loss: 0.2712 - acc: 0.9001 - val_loss: 0.3593 - val_acc: 0.8748\n"
     ]
    }
   ],
   "source": [
    "history = model.fit(train_x, y_train, epochs = 10, validation_split = 0.2,\n",
    "                                  callbacks = [es, mc]).history"
   ]
  },
  {
   "cell_type": "markdown",
   "metadata": {
    "id": "8HUvI4GwBrQu"
   },
   "source": [
    "## (2) 적합된 네트워크를 이용하여 test data의 accuracy를 구하라"
   ]
  },
  {
   "cell_type": "code",
   "execution_count": 36,
   "metadata": {
    "colab": {
     "base_uri": "https://localhost:8080/"
    },
    "id": "TpCyLsOLBvJ-",
    "outputId": "eb83457e-cc7c-4fa7-df7e-595962d4cc95"
   },
   "outputs": [
    {
     "name": "stdout",
     "output_type": "stream",
     "text": [
      "313/313 [==============================] - 1s 2ms/step\n"
     ]
    }
   ],
   "source": [
    "result1 = model.predict(test_x)"
   ]
  },
  {
   "cell_type": "code",
   "execution_count": 38,
   "metadata": {
    "id": "QX5G1GsjCrv2"
   },
   "outputs": [],
   "source": [
    "result1 = np.argmax(result1, axis = 1)"
   ]
  },
  {
   "cell_type": "code",
   "execution_count": 44,
   "metadata": {
    "colab": {
     "base_uri": "https://localhost:8080/"
    },
    "id": "6Ee2CEAuEMC3",
    "outputId": "f58a36c3-29c4-4330-822d-d2de5f16a397"
   },
   "outputs": [
    {
     "data": {
      "text/plain": [
       "0.8652"
      ]
     },
     "execution_count": 44,
     "metadata": {},
     "output_type": "execute_result"
    }
   ],
   "source": [
    "from sklearn.metrics import *\n",
    "\n",
    "accuracy_score(y_test, result1)"
   ]
  },
  {
   "cell_type": "markdown",
   "metadata": {
    "id": "wkBUN5_dB1Bf"
   },
   "source": [
    "## (3) 과적합인지 확인"
   ]
  },
  {
   "cell_type": "markdown",
   "metadata": {
    "id": "ctTTICIDC1Eu"
   },
   "source": [
    "`1` train_loss, val_loss 확인"
   ]
  },
  {
   "cell_type": "code",
   "execution_count": 43,
   "metadata": {
    "colab": {
     "base_uri": "https://localhost:8080/",
     "height": 368
    },
    "id": "Kcv7UJ9hDUE_",
    "outputId": "ad4ce8ee-abb5-48d3-92c1-84d36fd39389"
   },
   "outputs": [
    {
     "data": {
      "image/png": "[encoded data removed]",
      "text/plain": [
       "<Figure size 800x400 with 1 Axes>"
      ]
     },
     "metadata": {},
     "output_type": "display_data"
    }
   ],
   "source": [
    "import matplotlib.pyplot as plt\n",
    "\n",
    "plt.figure(figsize = (8,4))\n",
    "plt.plot(history[\"loss\"], label = \"train_loss\")\n",
    "plt.plot(history[\"val_loss\"], label = \"val_loss\")\n",
    "plt.legend()\n",
    "plt.show()"
   ]
  },
  {
   "cell_type": "markdown",
   "metadata": {
    "id": "bK-YC8R1DX9R"
   },
   "source": [
    "`2` 실젝값, 예측값 비교"
   ]
  },
  {
   "cell_type": "code",
   "execution_count": 45,
   "metadata": {
    "colab": {
     "base_uri": "https://localhost:8080/",
     "height": 736
    },
    "id": "rx6benbeCJHR",
    "outputId": "f89a92e3-a27a-4ea6-d33a-846a21669e54"
   },
   "outputs": [
    {
     "name": "stdout",
     "output_type": "stream",
     "text": [
      "              precision    recall  f1-score   support\n",
      "\n",
      "           0       0.80      0.83      0.81      1000\n",
      "           1       0.96      0.97      0.97      1000\n",
      "           2       0.81      0.73      0.76      1000\n",
      "           3       0.87      0.86      0.87      1000\n",
      "           4       0.75      0.82      0.78      1000\n",
      "           5       0.95      0.96      0.96      1000\n",
      "           6       0.69      0.62      0.65      1000\n",
      "           7       0.93      0.95      0.94      1000\n",
      "           8       0.91      0.97      0.94      1000\n",
      "           9       0.97      0.94      0.95      1000\n",
      "\n",
      "    accuracy                           0.87     10000\n",
      "   macro avg       0.86      0.87      0.86     10000\n",
      "weighted avg       0.86      0.87      0.86     10000\n",
      "\n"
     ]
    },
    {
     "data": {
      "image/png": "[encoded data removed]",
      "text/plain": [
       "<Figure size 640x480 with 2 Axes>"
      ]
     },
     "metadata": {},
     "output_type": "display_data"
    }
   ],
   "source": [
    "from sklearn.metrics import *\n",
    "import seaborn as sns\n",
    "\n",
    "sns.heatmap(confusion_matrix(y_test, result1),\n",
    "                        annot = True, fmt = \"3d\")\n",
    "\n",
    "print(classification_report(y_test, result1))\n",
    "plt.show()"
   ]
  },
  {
   "cell_type": "markdown",
   "metadata": {
    "id": "NJK9XPQOEWig"
   },
   "source": [
    "***"
   ]
  },
  {
   "cell_type": "markdown",
   "metadata": {
    "id": "T7B0X_yVEliV"
   },
   "source": [
    "# 2. CNN"
   ]
  },
  {
   "cell_type": "markdown",
   "metadata": {
    "id": "5alekcb9Eqgu"
   },
   "source": [
    "<center><img src = \"https://editor.analyticsvidhya.com/uploads/90650dnn2.jpeg\"  width = 800></center>"
   ]
  },
  {
   "cell_type": "markdown",
   "metadata": {
    "id": "HW-TK0gNFRcW"
   },
   "source": [
    "`fashion_mnist` 자료를 불러온 뒤 위와 같은 네트워크를 적합하라."
   ]
  },
  {
   "cell_type": "markdown",
   "metadata": {
    "id": "KfDNqetOFaXW"
   },
   "source": [
    "## 데이터 로드 및 전처리"
   ]
  },
  {
   "cell_type": "code",
   "execution_count": 46,
   "metadata": {
    "id": "1L_FGhNjFUIW"
   },
   "outputs": [],
   "source": [
    "(x_train, y_train), (x_test, y_test)  = fashion_mnist.load_data()"
   ]
  },
  {
   "cell_type": "code",
   "execution_count": 48,
   "metadata": {
    "id": "k-Ur2kQNFZWv"
   },
   "outputs": [],
   "source": [
    "M, m = x_train.max(), x_train.min()\n",
    "\n",
    "train_x = ((x_train-m)/(M-m)).reshape(-1, 28, 28, 1)\n",
    "test_x = ((x_test-m)/(M-m)).reshape(-1, 28, 28, 1)"
   ]
  },
  {
   "cell_type": "markdown",
   "metadata": {
    "id": "dguFtjtfF_LH"
   },
   "source": [
    "## 모델 설계 1"
   ]
  },
  {
   "cell_type": "markdown",
   "metadata": {
    "id": "K3Z2GueTGQ6h"
   },
   "source": [
    "이때 n1=6, n2=16, n3=120 으로 설정한다, 드랍아웃비율은 20%로 설정한다."
   ]
  },
  {
   "cell_type": "code",
   "execution_count": 63,
   "metadata": {
    "id": "9StaWlNNGEUm"
   },
   "outputs": [],
   "source": [
    "model  = Sequential()\n",
    "\n",
    "model.add(Conv2D(filters = 6, kernel_size = (5 ,5), input_shape = (28, 28, 1), padding = \"valid\")) ## 패딩은 \"valid\"가 기본값\n",
    "model.add(MaxPool2D(pool_size = (2,2),  padding = \"valid\")) ## 패딩과 pool_size는 입력한 값이 디폴트임\n",
    "model.add(Conv2D(16, (5, 5)))\n",
    "model.add(MaxPool2D())\n",
    "model.add(Flatten())\n",
    "model.add(Dense(120, activation = \"relu\"))\n",
    "model.add(Dropout(0.2))\n",
    "model.add(Dense(10, activation = \"softmax\"))\n",
    "\n",
    "model.compile(optimizer = Adam(0.001), loss = \"sparse_categorical_crossentropy\", metrics = [\"acc\"])"
   ]
  },
  {
   "cell_type": "code",
   "execution_count": 64,
   "metadata": {
    "colab": {
     "base_uri": "https://localhost:8080/"
    },
    "id": "cm9GRwqkIugi",
    "outputId": "a1f40417-dbd3-464b-cd09-5b5a2f51edfd"
   },
   "outputs": [
    {
     "name": "stdout",
     "output_type": "stream",
     "text": [
      "Model: \"sequential_9\"\n",
      "_________________________________________________________________\n",
      " Layer (type)                Output Shape              Param #   \n",
      "=================================================================\n",
      " conv2d_8 (Conv2D)           (None, 24, 24, 6)         156       \n",
      "                                                                 \n",
      " max_pooling2d_7 (MaxPoolin  (None, 12, 12, 6)         0         \n",
      " g2D)                                                            \n",
      "                                                                 \n",
      " conv2d_9 (Conv2D)           (None, 8, 8, 16)          2416      \n",
      "                                                                 \n",
      " max_pooling2d_8 (MaxPoolin  (None, 4, 4, 16)          0         \n",
      " g2D)                                                            \n",
      "                                                                 \n",
      " flatten_6 (Flatten)         (None, 256)               0         \n",
      "                                                                 \n",
      " dense_15 (Dense)            (None, 120)               30840     \n",
      "                                                                 \n",
      " dropout_3 (Dropout)         (None, 120)               0         \n",
      "                                                                 \n",
      " dense_16 (Dense)            (None, 10)                1210      \n",
      "                                                                 \n",
      "=================================================================\n",
      "Total params: 34622 (135.24 KB)\n",
      "Trainable params: 34622 (135.24 KB)\n",
      "Non-trainable params: 0 (0.00 Byte)\n",
      "_________________________________________________________________\n"
     ]
    }
   ],
   "source": [
    "model.summary()"
   ]
  },
  {
   "cell_type": "markdown",
   "metadata": {
    "id": "vACa_HItI0S_"
   },
   "source": [
    "## 모델 설계 2"
   ]
  },
  {
   "cell_type": "markdown",
   "metadata": {
    "id": "5fsqUlRnJCDF"
   },
   "source": [
    " n1=(6,64,128), n2=(16,256)에 대하여 test set의 loss가 최소화되는 조합을 찾아라."
   ]
  },
  {
   "cell_type": "markdown",
   "metadata": {
    "id": "PGKpj58EJC0d"
   },
   "source": [
    "* epoc = 3, validation = 0.2로 설정"
   ]
  },
  {
   "cell_type": "code",
   "execution_count": 67,
   "metadata": {
    "colab": {
     "base_uri": "https://localhost:8080/"
    },
    "id": "qJy8gr09JH-G",
    "outputId": "1d627a04-3f69-4f53-8eb4-35d87d9d9ba8"
   },
   "outputs": [
    {
     "name": "stdout",
     "output_type": "stream",
     "text": [
      "313/313 [==============================] - 1s 2ms/step - loss: 0.3501 - acc: 0.8754\n",
      "n1 : 6, n2 : 16 -> loss : 0.3500571548938751, acc  :  0.8754000067710876\n",
      "313/313 [==============================] - 1s 2ms/step - loss: 0.3233 - acc: 0.8802\n",
      "n1 : 6, n2 : 256 -> loss : 0.32328951358795166, acc  :  0.8802000284194946\n",
      "313/313 [==============================] - 1s 3ms/step - loss: 0.3424 - acc: 0.8788\n",
      "n1 : 64, n2 : 16 -> loss : 0.34240153431892395, acc  :  0.8787999749183655\n",
      "313/313 [==============================] - 1s 3ms/step - loss: 0.3065 - acc: 0.8891\n",
      "n1 : 64, n2 : 256 -> loss : 0.30652520060539246, acc  :  0.8891000151634216\n",
      "313/313 [==============================] - 1s 3ms/step - loss: 0.3387 - acc: 0.8804\n",
      "n1 : 128, n2 : 16 -> loss : 0.3387366831302643, acc  :  0.8804000020027161\n",
      "313/313 [==============================] - 1s 4ms/step - loss: 0.3110 - acc: 0.8912\n",
      "n1 : 128, n2 : 256 -> loss : 0.31100359559059143, acc  :  0.8912000060081482\n"
     ]
    }
   ],
   "source": [
    "n1 = [6, 64, 128]\n",
    "n2 = [16, 256]\n",
    "\n",
    "for i in n1 :\n",
    "  for j in n2 :\n",
    "      model  = Sequential()\n",
    "      model.add(Conv2D(filters = i, kernel_size = (5 ,5), input_shape = (28, 28, 1), padding = \"valid\")) ## 패딩은 \"valid\"가 기본값\n",
    "      model.add(MaxPool2D(pool_size = (2,2),  padding = \"valid\")) ## 패딩과 pool_size는 입력한 값이 디폴트임\n",
    "      model.add(Conv2D(j, (5, 5)))\n",
    "      model.add(MaxPool2D())\n",
    "      model.add(Flatten())\n",
    "      model.add(Dense(120, activation = \"relu\"))\n",
    "      model.add(Dropout(0.2))\n",
    "      model.add(Dense(10, activation = \"softmax\"))\n",
    "\n",
    "      model.compile(optimizer = Adam(0.001), loss = \"sparse_categorical_crossentropy\", metrics = [\"acc\"])\n",
    "      model.fit(train_x, y_train, validation_split = 0.2, epochs = 3, verbose = 0)\n",
    "\n",
    "      result = model.evaluate(test_x, y_test)\n",
    "      print(f\"n1 : {i}, n2 : {j} -> loss : {result[0]}, acc  :  {result[1]}\")"
   ]
  },
  {
   "cell_type": "markdown",
   "metadata": {
    "id": "adNEarmnLdhl"
   },
   "source": [
    "`-` 64, 256 일 때 test_loss가 가장 작음"
   ]
  },
  {
   "cell_type": "markdown",
   "metadata": {
    "id": "w7I-hHlzLhme"
   },
   "source": [
    "# 3. CIFAR10"
   ]
  },
  {
   "cell_type": "markdown",
   "metadata": {
    "id": "AfljWmZBLoGu"
   },
   "source": [
    "`-`  데이터를 로드 후 모델을 자유롭게 설계해서 testset의 정확도를 70%이상 확보"
   ]
  },
  {
   "cell_type": "markdown",
   "metadata": {
    "id": "lEevcQv5NQSF"
   },
   "source": [
    "## 데이터 로드 및 전처리"
   ]
  },
  {
   "cell_type": "code",
   "execution_count": 2,
   "metadata": {
    "id": "qvhMsa3fLveV"
   },
   "outputs": [],
   "source": [
    "(x_train, y_train), (x_test, y_test) = cifar10.load_data()"
   ]
  },
  {
   "cell_type": "code",
   "execution_count": 3,
   "metadata": {
    "colab": {
     "base_uri": "https://localhost:8080/"
    },
    "id": "_MyXWU3mL1v3",
    "outputId": "07c7e4c0-5d7d-44da-f2d5-8cd3c7ef1d05"
   },
   "outputs": [
    {
     "data": {
      "text/plain": [
       "((50000, 32, 32, 3), (50000, 1), (10000, 32, 32, 3), (10000, 1))"
      ]
     },
     "execution_count": 3,
     "metadata": {},
     "output_type": "execute_result"
    }
   ],
   "source": [
    "x_train.shape, y_train.shape, x_test. shape,y_test.shape"
   ]
  },
  {
   "cell_type": "code",
   "execution_count": 4,
   "metadata": {
    "id": "IxF84q3xO06w"
   },
   "outputs": [],
   "source": [
    "train_x = x_train/255.0\n",
    "test_x = x_test/255.0\n",
    "\n",
    "y_train = y_train.reshape(-1,)\n",
    "y_test = y_test.reshape(-1,)"
   ]
  },
  {
   "cell_type": "code",
   "execution_count": 5,
   "metadata": {
    "colab": {
     "base_uri": "https://localhost:8080/"
    },
    "id": "fDhjiRCeRUan",
    "outputId": "994cd35c-731e-4acb-da49-ae86692897f6"
   },
   "outputs": [
    {
     "data": {
      "text/plain": [
       "(10000,)"
      ]
     },
     "execution_count": 5,
     "metadata": {},
     "output_type": "execute_result"
    }
   ],
   "source": [
    "y_test.shape"
   ]
  },
  {
   "cell_type": "markdown",
   "metadata": {
    "id": "mXqModI5PIG2"
   },
   "source": [
    "##  모델 설계"
   ]
  },
  {
   "cell_type": "code",
   "execution_count": 20,
   "metadata": {
    "id": "STXpg4FtPJdL"
   },
   "outputs": [],
   "source": [
    "model  = Sequential()\n",
    "\n",
    "model.add(Conv2D(32, (3,3), input_shape = (32,32, 3)))\n",
    "model.add(Conv2D(32, (3,3)))\n",
    "model.add(BatchNormalization())\n",
    "model.add(MaxPool2D((2, 2), strides = (2,2)))\n",
    "model.add(Dropout(0.25))\n",
    "\n",
    "\n",
    "model.add(Conv2D(64, (3,3)))\n",
    "model.add(Conv2D(64, (3, 3)))\n",
    "model.add(MaxPool2D((2, 2), strides = (2,2)))\n",
    "model.add(BatchNormalization())\n",
    "model.add(Dropout(0.25))\n",
    "\n",
    "model.add(Flatten())\n",
    "model.add(Dense(1024, activation = \"relu\"))\n",
    "model.add(BatchNormalization())\n",
    "model.add(Dropout(0.2))\n",
    "model.add(Dense(10, activation = \"softmax\"))\n",
    "\n",
    "model.compile(optimizer = Adam(0.001), loss = \"sparse_categorical_crossentropy\", metrics = [\"acc\"])"
   ]
  },
  {
   "cell_type": "code",
   "execution_count": 21,
   "metadata": {
    "id": "ARd21L6OQJYd"
   },
   "outputs": [],
   "source": [
    "es = EarlyStopping(monitor = \"val_loss\", mode = \"min\", verbose = 1, patience = 5)\n",
    "ch = ModelCheckpoint(filepath = \"CIFAR.h5\", monitor = \"val_loss\", verbose = 1,  save_best_only= True )"
   ]
  },
  {
   "cell_type": "code",
   "execution_count": 22,
   "metadata": {
    "colab": {
     "base_uri": "https://localhost:8080/"
    },
    "id": "mWNGY7dvQuAU",
    "outputId": "b1d25e93-d34b-448c-cb62-10227a6e08f3"
   },
   "outputs": [
    {
     "name": "stdout",
     "output_type": "stream",
     "text": [
      "Epoch 1/30\n",
      "1243/1250 [============================>.] - ETA: 0s - loss: 1.6670 - acc: 0.4495\n",
      "Epoch 1: val_loss improved from inf to 2.01761, saving model to CIFAR.h5\n",
      "1250/1250 [==============================] - 13s 7ms/step - loss: 1.6649 - acc: 0.4503 - val_loss: 2.0176 - val_acc: 0.3802\n",
      "Epoch 2/30\n",
      "  10/1250 [..............................] - ETA: 7s - loss: 1.4683 - acc: 0.4750 "
     ]
    },
    {
     "name": "stderr",
     "output_type": "stream",
     "text": [
      "/usr/local/lib/python3.10/dist-packages/keras/src/engine/training.py:3103: UserWarning: You are saving your model as an HDF5 file via `model.save()`. This file format is considered legacy. We recommend using instead the native Keras format, e.g. `model.save('my_model.keras')`.\n",
      "  saving_api.save_model(\n"
     ]
    },
    {
     "name": "stdout",
     "output_type": "stream",
     "text": [
      "1250/1250 [==============================] - ETA: 0s - loss: 1.2204 - acc: 0.5806\n",
      "Epoch 2: val_loss improved from 2.01761 to 1.30872, saving model to CIFAR.h5\n",
      "1250/1250 [==============================] - 8s 6ms/step - loss: 1.2204 - acc: 0.5806 - val_loss: 1.3087 - val_acc: 0.5842\n",
      "Epoch 3/30\n",
      "1243/1250 [============================>.] - ETA: 0s - loss: 1.0502 - acc: 0.6359\n",
      "Epoch 3: val_loss improved from 1.30872 to 1.11962, saving model to CIFAR.h5\n",
      "1250/1250 [==============================] - 8s 7ms/step - loss: 1.0508 - acc: 0.6355 - val_loss: 1.1196 - val_acc: 0.6230\n",
      "Epoch 4/30\n",
      "1245/1250 [============================>.] - ETA: 0s - loss: 0.9571 - acc: 0.6714\n",
      "Epoch 4: val_loss improved from 1.11962 to 0.93383, saving model to CIFAR.h5\n",
      "1250/1250 [==============================] - 8s 7ms/step - loss: 0.9571 - acc: 0.6715 - val_loss: 0.9338 - val_acc: 0.6749\n",
      "Epoch 5/30\n",
      "1250/1250 [==============================] - ETA: 0s - loss: 0.8859 - acc: 0.6924\n",
      "Epoch 5: val_loss improved from 0.93383 to 0.86031, saving model to CIFAR.h5\n",
      "1250/1250 [==============================] - 8s 6ms/step - loss: 0.8859 - acc: 0.6924 - val_loss: 0.8603 - val_acc: 0.7047\n",
      "Epoch 6/30\n",
      "1243/1250 [============================>.] - ETA: 0s - loss: 0.8145 - acc: 0.7167\n",
      "Epoch 6: val_loss did not improve from 0.86031\n",
      "1250/1250 [==============================] - 9s 7ms/step - loss: 0.8142 - acc: 0.7168 - val_loss: 0.9080 - val_acc: 0.6976\n",
      "Epoch 7/30\n",
      "1249/1250 [============================>.] - ETA: 0s - loss: 0.7646 - acc: 0.7375\n",
      "Epoch 7: val_loss improved from 0.86031 to 0.84302, saving model to CIFAR.h5\n",
      "1250/1250 [==============================] - 8s 6ms/step - loss: 0.7648 - acc: 0.7375 - val_loss: 0.8430 - val_acc: 0.7168\n",
      "Epoch 8/30\n",
      "1243/1250 [============================>.] - ETA: 0s - loss: 0.7157 - acc: 0.7530\n",
      "Epoch 8: val_loss did not improve from 0.84302\n",
      "1250/1250 [==============================] - 8s 6ms/step - loss: 0.7159 - acc: 0.7528 - val_loss: 0.8542 - val_acc: 0.7174\n",
      "Epoch 9/30\n",
      "1243/1250 [============================>.] - ETA: 0s - loss: 0.6680 - acc: 0.7698\n",
      "Epoch 9: val_loss did not improve from 0.84302\n",
      "1250/1250 [==============================] - 10s 8ms/step - loss: 0.6687 - acc: 0.7694 - val_loss: 0.8723 - val_acc: 0.7212\n",
      "Epoch 10/30\n",
      "1245/1250 [============================>.] - ETA: 0s - loss: 0.6272 - acc: 0.7805\n",
      "Epoch 10: val_loss improved from 0.84302 to 0.78872, saving model to CIFAR.h5\n",
      "1250/1250 [==============================] - 9s 7ms/step - loss: 0.6279 - acc: 0.7804 - val_loss: 0.7887 - val_acc: 0.7422\n",
      "Epoch 11/30\n",
      "1248/1250 [============================>.] - ETA: 0s - loss: 0.5885 - acc: 0.7975\n",
      "Epoch 11: val_loss did not improve from 0.78872\n",
      "1250/1250 [==============================] - 8s 6ms/step - loss: 0.5884 - acc: 0.7974 - val_loss: 0.8317 - val_acc: 0.7329\n",
      "Epoch 12/30\n",
      "1242/1250 [============================>.] - ETA: 0s - loss: 0.5561 - acc: 0.8071\n",
      "Epoch 12: val_loss did not improve from 0.78872\n",
      "1250/1250 [==============================] - 9s 7ms/step - loss: 0.5563 - acc: 0.8072 - val_loss: 0.8331 - val_acc: 0.7350\n",
      "Epoch 13/30\n",
      "1245/1250 [============================>.] - ETA: 0s - loss: 0.5360 - acc: 0.8161\n",
      "Epoch 13: val_loss did not improve from 0.78872\n",
      "1250/1250 [==============================] - 8s 7ms/step - loss: 0.5360 - acc: 0.8161 - val_loss: 0.8569 - val_acc: 0.7379\n",
      "Epoch 14/30\n",
      "1246/1250 [============================>.] - ETA: 0s - loss: 0.5022 - acc: 0.8245\n",
      "Epoch 14: val_loss did not improve from 0.78872\n",
      "1250/1250 [==============================] - 8s 6ms/step - loss: 0.5022 - acc: 0.8244 - val_loss: 0.8388 - val_acc: 0.7460\n",
      "Epoch 15/30\n",
      "1244/1250 [============================>.] - ETA: 0s - loss: 0.4688 - acc: 0.8346\n",
      "Epoch 15: val_loss did not improve from 0.78872\n",
      "1250/1250 [==============================] - 9s 7ms/step - loss: 0.4691 - acc: 0.8344 - val_loss: 0.8866 - val_acc: 0.7282\n",
      "Epoch 15: early stopping\n"
     ]
    },
    {
     "data": {
      "text/plain": [
       "<keras.src.callbacks.History at 0x79059019eb00>"
      ]
     },
     "execution_count": 22,
     "metadata": {},
     "output_type": "execute_result"
    }
   ],
   "source": [
    "model.fit(train_x, y_train, epochs = 30, validation_split = 0.2, callbacks = [es, ch])"
   ]
  },
  {
   "cell_type": "markdown",
   "metadata": {
    "id": "RNQEdrKSRG3-"
   },
   "source": [
    "## 예측"
   ]
  },
  {
   "cell_type": "code",
   "execution_count": 24,
   "metadata": {
    "colab": {
     "base_uri": "https://localhost:8080/"
    },
    "id": "RfSo-q5sRJWe",
    "outputId": "d5e5d114-d5a3-43f0-dbd1-8f8500ac89fa"
   },
   "outputs": [
    {
     "name": "stdout",
     "output_type": "stream",
     "text": [
      "313/313 [==============================] - 2s 5ms/step - loss: 0.9003 - acc: 0.7314\n"
     ]
    },
    {
     "data": {
      "text/plain": [
       "[0.9002749919891357, 0.7314000129699707]"
      ]
     },
     "execution_count": 24,
     "metadata": {},
     "output_type": "execute_result"
    }
   ],
   "source": [
    "model.evaluate(test_x, y_test)"
   ]
  },
  {
   "cell_type": "markdown",
   "metadata": {
    "id": "1hMcXs7lWLhu"
   },
   "source": [
    "## 모델 로드 후 예측 결과 시각화"
   ]
  },
  {
   "cell_type": "code",
   "execution_count": 25,
   "metadata": {
    "id": "S95GpEVwWPKE"
   },
   "outputs": [],
   "source": [
    "load_model = load_model(\"CIFAR.h5\")"
   ]
  },
  {
   "cell_type": "code",
   "execution_count": 27,
   "metadata": {
    "colab": {
     "base_uri": "https://localhost:8080/"
    },
    "id": "lU2PlwOeWfqN",
    "outputId": "2a03baa3-ee0f-48ca-c409-6e7a74e5ef0e"
   },
   "outputs": [
    {
     "name": "stdout",
     "output_type": "stream",
     "text": [
      "313/313 [==============================] - 2s 5ms/step\n"
     ]
    }
   ],
   "source": [
    "import numpy as np\n",
    "pred = np.argmax(load_model.predict(test_x), axis = 1)"
   ]
  },
  {
   "cell_type": "code",
   "execution_count": 30,
   "metadata": {
    "colab": {
     "base_uri": "https://localhost:8080/",
     "height": 448
    },
    "id": "zTUSjsklWmuk",
    "outputId": "cc7c6655-d4c4-4fd0-8771-75d86aa9e6c7"
   },
   "outputs": [
    {
     "data": {
      "text/plain": [
       "<Axes: >"
      ]
     },
     "execution_count": 30,
     "metadata": {},
     "output_type": "execute_result"
    },
    {
     "data": {
      "image/png": "[encoded data removed]",
      "text/plain": [
       "<Figure size 640x480 with 2 Axes>"
      ]
     },
     "metadata": {},
     "output_type": "display_data"
    }
   ],
   "source": [
    "import seaborn as sns\n",
    "from sklearn.metrics import *\n",
    "\n",
    "sns.heatmap(confusion_matrix(y_test, pred),\n",
    "                                                      annot = True, fmt = \"3d\")"
   ]
  }
 ],
 "metadata": {
  "accelerator": "GPU",
  "colab": {
   "gpuType": "T4",
   "provenance": [],
   "toc_visible": true
  },
  "kernelspec": {
   "display_name": "Python 3 (ipykernel)",
   "language": "python",
   "name": "python3"
  },
  "language_info": {
   "codemirror_mode": {
    "name": "ipython",
    "version": 3
   },
   "file_extension": ".py",
   "mimetype": "text/x-python",
   "name": "python",
   "nbconvert_exporter": "python",
   "pygments_lexer": "ipython3",
   "version": "3.11.4"
  }
 },
 "nbformat": 4,
 "nbformat_minor": 4
}
