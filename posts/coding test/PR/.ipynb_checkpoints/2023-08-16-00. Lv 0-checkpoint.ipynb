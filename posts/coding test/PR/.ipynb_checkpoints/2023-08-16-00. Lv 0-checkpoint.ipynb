{
 "cells": [
  {
   "cell_type": "raw",
   "id": "32fb85dc-0ea2-4e9e-9e55-66f5bf9519d3",
   "metadata": {},
   "source": [
    "---\n",
    "title : \"00. Lv. 0\"\n",
    "author : \"GC\"\n",
    "date : \"08/16/23\"\n",
    "categories : [python, coding test]\n",
    "---"
   ]
  },
  {
   "cell_type": "markdown",
   "id": "3c62a3b1-8b7b-480b-b425-9b2e29931701",
   "metadata": {},
   "source": [
    "# ex1. 나이 출력 (2022년 기준)"
   ]
  },
  {
   "cell_type": "code",
   "execution_count": 11,
   "id": "c837b74a-90b3-4319-a277-a5caae18f4bf",
   "metadata": {},
   "outputs": [
    {
     "data": {
      "text/plain": [
       "1983"
      ]
     },
     "execution_count": 11,
     "metadata": {},
     "output_type": "execute_result"
    }
   ],
   "source": [
    "sol = lambda x : 2022-(x-1)\n",
    "\n",
    "sol(40)"
   ]
  },
  {
   "cell_type": "markdown",
   "id": "d41ae898-1a81-49f8-ac6f-07052c194fe9",
   "metadata": {},
   "source": [
    "# ex2. 분수의 덧셈"
   ]
  },
  {
   "cell_type": "markdown",
   "id": "9b2ea977-5a63-47e4-8e39-289b86880e17",
   "metadata": {},
   "source": [
    "$$\\frac{n1}{d1} + \\frac{n2}{d2} = \\text {기약분수}$$"
   ]
  },
  {
   "cell_type": "code",
   "execution_count": 90,
   "id": "9b6ef2d7-7234-4da3-b89d-c37890d13082",
   "metadata": {},
   "outputs": [],
   "source": [
    "import math"
   ]
  },
  {
   "cell_type": "code",
   "execution_count": 91,
   "id": "43c82a3b-a4aa-42e0-9832-c6a078cdb237",
   "metadata": {},
   "outputs": [],
   "source": [
    "n1,d1,n2,d2 = 1,2,3,4"
   ]
  },
  {
   "cell_type": "code",
   "execution_count": 96,
   "id": "7be301e3-d146-4e0e-be31-0fda320dce94",
   "metadata": {},
   "outputs": [],
   "source": [
    "def sol(n1,d1,n2,d2) :\n",
    "    d = d1*d2 ## 분모 \n",
    "    n = n1*d2 + n2*d1 ##분자\n",
    "\n",
    "    gcd = math.gcd(d,n) ## 최대공약수\n",
    "\n",
    "    return [n//gcd,d//gcd]"
   ]
  },
  {
   "cell_type": "code",
   "execution_count": 98,
   "id": "946a1bff-8f3b-49f0-ac76-e61429a3f884",
   "metadata": {},
   "outputs": [
    {
     "data": {
      "text/plain": [
       "[5, 4]"
      ]
     },
     "execution_count": 98,
     "metadata": {},
     "output_type": "execute_result"
    }
   ],
   "source": [
    "sol(n1,d1,n2,d2)"
   ]
  },
  {
   "cell_type": "code",
   "execution_count": 102,
   "id": "5f8b5a6a-c059-4a42-88a7-3d0150e61af3",
   "metadata": {},
   "outputs": [
    {
     "data": {
      "text/plain": [
       "124000"
      ]
     },
     "execution_count": 102,
     "metadata": {},
     "output_type": "execute_result"
    }
   ],
   "source": [
    "n = 10\n",
    "k = 3\n",
    "\n",
    "n1 = 12000*10\n",
    "k1 = (k-n//10)*2000\n",
    "\n",
    "n1+k1"
   ]
  },
  {
   "cell_type": "markdown",
   "id": "8024159c-a331-43dd-80f2-58abee48d2cc",
   "metadata": {},
   "source": [
    "# ex3. 삼각형의 완성조건"
   ]
  },
  {
   "cell_type": "markdown",
   "id": "dc7e956c-22fc-43f3-a7bb-e15f38d144bf",
   "metadata": {},
   "source": [
    "`-` 가장 긴 변의 길이는 다른 두 변이 길이의 합보다 작은지 확인하는 함수를 작성\n",
    "\n",
    "* 조건을 만족할경우 `1`, 아닐경우 `2`를 return"
   ]
  },
  {
   "cell_type": "code",
   "execution_count": 104,
   "id": "ab8a2b0c-ed44-4988-80c7-194ad4c2ec68",
   "metadata": {},
   "outputs": [],
   "source": [
    "lst= [2,10,4]"
   ]
  },
  {
   "cell_type": "code",
   "execution_count": 103,
   "id": "014ca48b-468f-4228-9131-a215b752019c",
   "metadata": {},
   "outputs": [],
   "source": [
    "def solution(sides):\n",
    "    sides.sort() ## 이 부분 주의 !! sides = sides.sort()라고 하면 에러남\n",
    "    if sides[-1] < sum(sides[:-1]) :\n",
    "        return 1\n",
    "    else :\n",
    "        return 2"
   ]
  },
  {
   "cell_type": "code",
   "execution_count": 105,
   "id": "8e1c1018-054a-4299-9f28-8ef3ac9479b9",
   "metadata": {},
   "outputs": [
    {
     "data": {
      "text/plain": [
       "2"
      ]
     },
     "execution_count": 105,
     "metadata": {},
     "output_type": "execute_result"
    }
   ],
   "source": [
    "solution(lst)"
   ]
  },
  {
   "cell_type": "markdown",
   "id": "edf936b8-b871-4be3-92fa-51ff9ff2c28a",
   "metadata": {},
   "source": [
    "# ex4. 배열 뒤집기"
   ]
  },
  {
   "cell_type": "code",
   "execution_count": 128,
   "id": "69db27e7-61b8-4de5-bbd3-29b823426912",
   "metadata": {},
   "outputs": [],
   "source": [
    "def solution(num_list):\n",
    "    num_list.reverse() ## 이 부분도 주의!! reverse와 sort는 함수안에 return 값이 없기 때문\n",
    "    return num_list"
   ]
  },
  {
   "cell_type": "code",
   "execution_count": 129,
   "id": "dfe059a0-2367-4a07-98a9-c7d7adcd1325",
   "metadata": {},
   "outputs": [],
   "source": [
    "lst = [5, 3, 1, 1, 1, 0, 1]"
   ]
  },
  {
   "cell_type": "code",
   "execution_count": 130,
   "id": "96a70a0d-2171-401f-ace2-e34046698d3c",
   "metadata": {},
   "outputs": [
    {
     "data": {
      "text/plain": [
       "[1, 0, 1, 1, 1, 3, 5]"
      ]
     },
     "execution_count": 130,
     "metadata": {},
     "output_type": "execute_result"
    }
   ],
   "source": [
    "solution(lst)"
   ]
  },
  {
   "cell_type": "code",
   "execution_count": 143,
   "id": "d034d772-41e5-414d-8b8c-5f3b6d47ca4b",
   "metadata": {},
   "outputs": [],
   "source": [
    "n = 20"
   ]
  },
  {
   "cell_type": "code",
   "execution_count": 144,
   "id": "fe1a3537-f395-4e19-9ddc-97d1d8a2ed45",
   "metadata": {},
   "outputs": [],
   "source": [
    "result = 0\n",
    "for i in range(1,101) :\n",
    "    if n % i == 0 :\n",
    "        result +=1"
   ]
  },
  {
   "cell_type": "code",
   "execution_count": 145,
   "id": "fc6179e3-274b-4da6-865d-8fd1298680b1",
   "metadata": {},
   "outputs": [
    {
     "data": {
      "text/plain": [
       "6"
      ]
     },
     "execution_count": 145,
     "metadata": {},
     "output_type": "execute_result"
    }
   ],
   "source": [
    "result"
   ]
  },
  {
   "cell_type": "code",
   "execution_count": 146,
   "id": "7c22fe7d-8477-4124-9409-b94265755df1",
   "metadata": {},
   "outputs": [],
   "source": [
    "def solution(price):\n",
    "    \n",
    "    if price >= 100000 :\n",
    "        price = price - 0.05*price\n",
    "        \n",
    "    elif price >= 300000 :\n",
    "        price = price - 0.1*price\n",
    "    \n",
    "    elif price >= 500000 :\n",
    "        price = price - 0.2*price\n",
    "    \n",
    "    else : \n",
    "        pass\n",
    "        \n",
    "    return price"
   ]
  },
  {
   "cell_type": "code",
   "execution_count": 147,
   "id": "547da952-efb1-4a07-a658-d9a36749ba92",
   "metadata": {},
   "outputs": [
    {
     "data": {
      "text/plain": [
       "551000.0"
      ]
     },
     "execution_count": 147,
     "metadata": {},
     "output_type": "execute_result"
    }
   ],
   "source": [
    "solution(580000)"
   ]
  },
  {
   "cell_type": "code",
   "execution_count": 149,
   "id": "c2d4e69d-3273-4294-a4d8-aed4ca4e7b78",
   "metadata": {},
   "outputs": [
    {
     "data": {
      "text/plain": [
       "29000"
      ]
     },
     "execution_count": 149,
     "metadata": {},
     "output_type": "execute_result"
    }
   ],
   "source": [
    "580000-551000"
   ]
  },
  {
   "cell_type": "code",
   "execution_count": 151,
   "id": "0782ca34-76d8-452c-aaa7-91b364aba785",
   "metadata": {},
   "outputs": [
    {
     "data": {
      "text/plain": [
       "29000.0"
      ]
     },
     "execution_count": 151,
     "metadata": {},
     "output_type": "execute_result"
    }
   ],
   "source": [
    "580000*0.05"
   ]
  }
 ],
 "metadata": {
  "kernelspec": {
   "display_name": "Python 3 (ipykernel)",
   "language": "python",
   "name": "python3"
  },
  "language_info": {
   "codemirror_mode": {
    "name": "ipython",
    "version": 3
   },
   "file_extension": ".py",
   "mimetype": "text/x-python",
   "name": "python",
   "nbconvert_exporter": "python",
   "pygments_lexer": "ipython3",
   "version": "3.11.4"
  }
 },
 "nbformat": 4,
 "nbformat_minor": 5
}
