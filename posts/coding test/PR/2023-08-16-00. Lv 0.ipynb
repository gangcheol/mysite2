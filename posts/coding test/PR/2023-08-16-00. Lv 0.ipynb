{
 "cells": [
  {
   "cell_type": "raw",
   "id": "32fb85dc-0ea2-4e9e-9e55-66f5bf9519d3",
   "metadata": {},
   "source": [
    "---\n",
    "title : \"00. Lv. 0\"\n",
    "author : \"GC\"\n",
    "date : \"08/16/23\"\n",
    "categories : [python, coding test]\n",
    "---"
   ]
  },
  {
   "cell_type": "markdown",
   "id": "3c62a3b1-8b7b-480b-b425-9b2e29931701",
   "metadata": {},
   "source": [
    "# ex1. 나이 출력 (2022년 기준)"
   ]
  },
  {
   "cell_type": "code",
   "execution_count": 11,
   "id": "c837b74a-90b3-4319-a277-a5caae18f4bf",
   "metadata": {},
   "outputs": [
    {
     "data": {
      "text/plain": [
       "1983"
      ]
     },
     "execution_count": 11,
     "metadata": {},
     "output_type": "execute_result"
    }
   ],
   "source": [
    "sol = lambda x : 2022-(x-1)\n",
    "\n",
    "sol(40)"
   ]
  },
  {
   "cell_type": "markdown",
   "id": "d41ae898-1a81-49f8-ac6f-07052c194fe9",
   "metadata": {},
   "source": [
    "# ex2. 분수의 덧셈"
   ]
  },
  {
   "cell_type": "markdown",
   "id": "9b2ea977-5a63-47e4-8e39-289b86880e17",
   "metadata": {},
   "source": [
    "$$\\frac{n1}{d1} + \\frac{n2}{d2} = \\text {기약분수}$$"
   ]
  },
  {
   "cell_type": "code",
   "execution_count": 90,
   "id": "9b6ef2d7-7234-4da3-b89d-c37890d13082",
   "metadata": {},
   "outputs": [],
   "source": [
    "import math"
   ]
  },
  {
   "cell_type": "code",
   "execution_count": 91,
   "id": "43c82a3b-a4aa-42e0-9832-c6a078cdb237",
   "metadata": {},
   "outputs": [],
   "source": [
    "n1,d1,n2,d2 = 1,2,3,4"
   ]
  },
  {
   "cell_type": "code",
   "execution_count": 96,
   "id": "7be301e3-d146-4e0e-be31-0fda320dce94",
   "metadata": {},
   "outputs": [],
   "source": [
    "def sol(n1,d1,n2,d2) :\n",
    "    d = d1*d2 ## 분모 \n",
    "    n = n1*d2 + n2*d1 ##분자\n",
    "\n",
    "    gcd = math.gcd(d,n) ## 최대공약수\n",
    "\n",
    "    return [n//gcd,d//gcd]"
   ]
  },
  {
   "cell_type": "code",
   "execution_count": 98,
   "id": "946a1bff-8f3b-49f0-ac76-e61429a3f884",
   "metadata": {},
   "outputs": [
    {
     "data": {
      "text/plain": [
       "[5, 4]"
      ]
     },
     "execution_count": 98,
     "metadata": {},
     "output_type": "execute_result"
    }
   ],
   "source": [
    "sol(n1,d1,n2,d2)"
   ]
  },
  {
   "cell_type": "code",
   "execution_count": 102,
   "id": "5f8b5a6a-c059-4a42-88a7-3d0150e61af3",
   "metadata": {},
   "outputs": [
    {
     "data": {
      "text/plain": [
       "124000"
      ]
     },
     "execution_count": 102,
     "metadata": {},
     "output_type": "execute_result"
    }
   ],
   "source": [
    "n = 10\n",
    "k = 3\n",
    "\n",
    "n1 = 12000*10\n",
    "k1 = (k-n//10)*2000\n",
    "\n",
    "n1+k1"
   ]
  },
  {
   "cell_type": "markdown",
   "id": "8024159c-a331-43dd-80f2-58abee48d2cc",
   "metadata": {},
   "source": [
    "# ex3. 삼각형의 완성조건"
   ]
  },
  {
   "cell_type": "markdown",
   "id": "dc7e956c-22fc-43f3-a7bb-e15f38d144bf",
   "metadata": {},
   "source": [
    "`-` 가장 긴 변의 길이는 다른 두 변이 길이의 합보다 작은지 확인하는 함수를 작성\n",
    "\n",
    "* 조건을 만족할경우 `1`, 아닐경우 `2`를 return"
   ]
  },
  {
   "cell_type": "code",
   "execution_count": 104,
   "id": "ab8a2b0c-ed44-4988-80c7-194ad4c2ec68",
   "metadata": {},
   "outputs": [],
   "source": [
    "lst= [2,10,4]"
   ]
  },
  {
   "cell_type": "code",
   "execution_count": 103,
   "id": "014ca48b-468f-4228-9131-a215b752019c",
   "metadata": {},
   "outputs": [],
   "source": [
    "def solution(sides):\n",
    "    sides.sort() ## 이 부분 주의 !! sides = sides.sort()라고 하면 에러남\n",
    "    if sides[-1] < sum(sides[:-1]) :\n",
    "        return 1\n",
    "    else :\n",
    "        return 2"
   ]
  },
  {
   "cell_type": "code",
   "execution_count": 105,
   "id": "8e1c1018-054a-4299-9f28-8ef3ac9479b9",
   "metadata": {},
   "outputs": [
    {
     "data": {
      "text/plain": [
       "2"
      ]
     },
     "execution_count": 105,
     "metadata": {},
     "output_type": "execute_result"
    }
   ],
   "source": [
    "solution(lst)"
   ]
  },
  {
   "cell_type": "markdown",
   "id": "edf936b8-b871-4be3-92fa-51ff9ff2c28a",
   "metadata": {},
   "source": [
    "# ex4. 배열 뒤집기"
   ]
  },
  {
   "cell_type": "code",
   "execution_count": 128,
   "id": "69db27e7-61b8-4de5-bbd3-29b823426912",
   "metadata": {},
   "outputs": [],
   "source": [
    "def solution(num_list):\n",
    "    num_list.reverse() ## 이 부분도 주의!! reverse와 sort는 함수안에 return 값이 없기 때문\n",
    "    return num_list"
   ]
  },
  {
   "cell_type": "code",
   "execution_count": 129,
   "id": "dfe059a0-2367-4a07-98a9-c7d7adcd1325",
   "metadata": {},
   "outputs": [],
   "source": [
    "lst = [5, 3, 1, 1, 1, 0, 1]"
   ]
  },
  {
   "cell_type": "code",
   "execution_count": 130,
   "id": "96a70a0d-2171-401f-ace2-e34046698d3c",
   "metadata": {},
   "outputs": [
    {
     "data": {
      "text/plain": [
       "[1, 0, 1, 1, 1, 3, 5]"
      ]
     },
     "execution_count": 130,
     "metadata": {},
     "output_type": "execute_result"
    }
   ],
   "source": [
    "solution(lst)"
   ]
  },
  {
   "cell_type": "code",
   "execution_count": 143,
   "id": "d034d772-41e5-414d-8b8c-5f3b6d47ca4b",
   "metadata": {},
   "outputs": [],
   "source": [
    "n = 20"
   ]
  },
  {
   "cell_type": "code",
   "execution_count": 144,
   "id": "fe1a3537-f395-4e19-9ddc-97d1d8a2ed45",
   "metadata": {},
   "outputs": [],
   "source": [
    "result = 0\n",
    "for i in range(1,101) :\n",
    "    if n % i == 0 :\n",
    "        result +=1"
   ]
  },
  {
   "cell_type": "code",
   "execution_count": 145,
   "id": "fc6179e3-274b-4da6-865d-8fd1298680b1",
   "metadata": {},
   "outputs": [
    {
     "data": {
      "text/plain": [
       "6"
      ]
     },
     "execution_count": 145,
     "metadata": {},
     "output_type": "execute_result"
    }
   ],
   "source": [
    "result"
   ]
  },
  {
   "cell_type": "markdown",
   "id": "678da177-8721-46de-b89f-11053cc29a3b",
   "metadata": {},
   "source": [
    "# ex5. 옷가게 할인(소수점 이하 버리기) "
   ]
  },
  {
   "cell_type": "code",
   "execution_count": 157,
   "id": "7c22fe7d-8477-4124-9409-b94265755df1",
   "metadata": {},
   "outputs": [],
   "source": [
    "def solution(price):\n",
    "    if price>=500000:\n",
    "        price = price *0.8\n",
    "    elif price>=300000:\n",
    "        price = price *0.9\n",
    "    elif price>=100000:\n",
    "        price = price * 0.95\n",
    "    return int(price)"
   ]
  },
  {
   "cell_type": "code",
   "execution_count": 153,
   "id": "547da952-efb1-4a07-a658-d9a36749ba92",
   "metadata": {},
   "outputs": [
    {
     "data": {
      "text/plain": [
       "464000.0"
      ]
     },
     "execution_count": 153,
     "metadata": {},
     "output_type": "execute_result"
    }
   ],
   "source": [
    "solution(580000)"
   ]
  },
  {
   "cell_type": "markdown",
   "id": "4e9a640d-022b-4985-ac30-2fb102b882a2",
   "metadata": {},
   "source": [
    "***"
   ]
  },
  {
   "cell_type": "markdown",
   "id": "997a01a2-92b1-40c4-aacc-090588f49450",
   "metadata": {},
   "source": [
    "# ex6. 문자열 반복 출력"
   ]
  },
  {
   "cell_type": "code",
   "execution_count": 277,
   "id": "4d2c4162-51ac-45ee-a4fe-f9ec9bdf9d0d",
   "metadata": {},
   "outputs": [],
   "source": [
    "def solution(my_string, n):\n",
    "    s = [i*n for i in my_string]\n",
    "    return \"\".join(s)\n"
   ]
  },
  {
   "cell_type": "code",
   "execution_count": 279,
   "id": "e7988bd7-c93e-4c13-a582-dbe9cd3d7ab0",
   "metadata": {},
   "outputs": [
    {
     "data": {
      "text/plain": [
       "'hhheeellllllooo'"
      ]
     },
     "execution_count": 279,
     "metadata": {},
     "output_type": "execute_result"
    }
   ],
   "source": [
    "solution(\"hello\",3)"
   ]
  },
  {
   "cell_type": "markdown",
   "id": "1ee41d02-675b-40af-bc70-d8908874d1ef",
   "metadata": {},
   "source": [
    "***"
   ]
  },
  {
   "cell_type": "markdown",
   "id": "24c30446-9ad4-4b4e-b1ec-89728a4d7791",
   "metadata": {},
   "source": [
    "# ex7. 아메리카노를 몇 잔 살 수 있는지"
   ]
  },
  {
   "cell_type": "code",
   "execution_count": 280,
   "id": "cf6ec088-c63f-4619-bee5-19aed6f49f9f",
   "metadata": {},
   "outputs": [],
   "source": [
    "def solution(money):\n",
    "    ice = 5500\n",
    "    x,y =  divmod(money,ice)\n",
    "    return [x,y]"
   ]
  },
  {
   "cell_type": "code",
   "execution_count": 281,
   "id": "27417f21-1867-4ad2-a993-92705f942dc2",
   "metadata": {},
   "outputs": [
    {
     "data": {
      "text/plain": [
       "[1, 0]"
      ]
     },
     "execution_count": 281,
     "metadata": {},
     "output_type": "execute_result"
    }
   ],
   "source": [
    "solution(5500)"
   ]
  },
  {
   "cell_type": "code",
   "execution_count": 282,
   "id": "81253f3f-e08d-499d-8684-ec4d404c1ee1",
   "metadata": {},
   "outputs": [
    {
     "data": {
      "text/plain": [
       "[2, 4000]"
      ]
     },
     "execution_count": 282,
     "metadata": {},
     "output_type": "execute_result"
    }
   ],
   "source": [
    "solution(15000)"
   ]
  },
  {
   "cell_type": "markdown",
   "id": "962f8180-5e6e-43b1-b422-0c2d99c5d64b",
   "metadata": {},
   "source": [
    "***"
   ]
  },
  {
   "cell_type": "code",
   "execution_count": 326,
   "id": "39496705-ae89-459d-8f21-2f7195e7822e",
   "metadata": {},
   "outputs": [],
   "source": [
    "l = list(\"aeiou\")"
   ]
  },
  {
   "cell_type": "code",
   "execution_count": 328,
   "id": "e705b014-2259-4b2f-9689-3b0fa4681546",
   "metadata": {},
   "outputs": [
    {
     "data": {
      "text/plain": [
       "['a', 'e', 'i', 'o', 'u']"
      ]
     },
     "execution_count": 328,
     "metadata": {},
     "output_type": "execute_result"
    }
   ],
   "source": [
    "l"
   ]
  },
  {
   "cell_type": "code",
   "execution_count": 332,
   "id": "2b4c0b48-59a1-4430-a770-875d6b272137",
   "metadata": {},
   "outputs": [],
   "source": [
    "s = \"bus\""
   ]
  },
  {
   "cell_type": "code",
   "execution_count": 341,
   "id": "92a93002-87eb-42e3-b631-3d6a52218909",
   "metadata": {},
   "outputs": [
    {
     "data": {
      "text/plain": [
       "'bs'"
      ]
     },
     "execution_count": 341,
     "metadata": {},
     "output_type": "execute_result"
    }
   ],
   "source": [
    "\"\".join([i for i in s if i not in l])"
   ]
  },
  {
   "cell_type": "markdown",
   "id": "37f9c18c-9c21-40a1-b541-d9ccee0b4a8c",
   "metadata": {},
   "source": [
    "# ex8. 모음제거"
   ]
  },
  {
   "cell_type": "code",
   "execution_count": 342,
   "id": "f1a6486f-cff9-4a74-9f70-0bf90a205576",
   "metadata": {},
   "outputs": [],
   "source": [
    "def solution(my_string):\n",
    "    l = list(\"aeiou\")\n",
    "    return \"\".join([i for i in my_string if i not in l])"
   ]
  },
  {
   "cell_type": "code",
   "execution_count": 344,
   "id": "afed1860-eded-4a9c-b261-cf4f1b428c2d",
   "metadata": {},
   "outputs": [
    {
     "data": {
      "text/plain": [
       "'bs'"
      ]
     },
     "execution_count": 344,
     "metadata": {},
     "output_type": "execute_result"
    }
   ],
   "source": [
    "solution(\"bus\")"
   ]
  },
  {
   "cell_type": "markdown",
   "id": "b60fc60a-521e-496b-ab22-2fa819f40ee7",
   "metadata": {},
   "source": [
    "***"
   ]
  },
  {
   "cell_type": "markdown",
   "id": "243ca84b-57da-48c3-b371-b0237bcdf25a",
   "metadata": {},
   "source": [
    "# ex8. 숨어있는 숫자의 덧셈"
   ]
  },
  {
   "cell_type": "code",
   "execution_count": 370,
   "id": "3f1ebad7-d3c5-4cea-accf-3ffa10fe35f5",
   "metadata": {},
   "outputs": [],
   "source": [
    "def solution(my_string):\n",
    "    l = list(range(0,10))\n",
    "    l = [str(i) for i in l ]\n",
    "    return sum([int(i) for i in my_string if i in l])"
   ]
  },
  {
   "cell_type": "code",
   "execution_count": 371,
   "id": "c4a8d076-ab5a-4816-84f2-451762992a39",
   "metadata": {},
   "outputs": [
    {
     "data": {
      "text/plain": [
       "10"
      ]
     },
     "execution_count": 371,
     "metadata": {},
     "output_type": "execute_result"
    }
   ],
   "source": [
    "solution(\"aAb1B2cC34oOp\")"
   ]
  },
  {
   "cell_type": "markdown",
   "id": "c495455c-1571-46f3-88b2-0349b99fcd5d",
   "metadata": {},
   "source": [
    "***"
   ]
  },
  {
   "cell_type": "markdown",
   "id": "dc2008ff-f0f2-4326-9794-85626d25dfa3",
   "metadata": {},
   "source": [
    "# ex9. 제곱수 판별하기"
   ]
  },
  {
   "cell_type": "code",
   "execution_count": 383,
   "id": "5f494f6a-efbe-4367-9902-d480539e9e4f",
   "metadata": {},
   "outputs": [],
   "source": [
    "import numpy as np\n",
    "def solution(n):\n",
    "    if np.sqrt(n) - int(np.sqrt(n)) == 0 :\n",
    "        return 1\n",
    "    else :\n",
    "        return 2"
   ]
  },
  {
   "cell_type": "code",
   "execution_count": 384,
   "id": "561aa3e4-ee7e-4f79-91d9-ea11302fe8ae",
   "metadata": {},
   "outputs": [
    {
     "data": {
      "text/plain": [
       "1"
      ]
     },
     "execution_count": 384,
     "metadata": {},
     "output_type": "execute_result"
    }
   ],
   "source": [
    "solution(144)"
   ]
  },
  {
   "cell_type": "markdown",
   "id": "8e0b28c9-ff99-475f-ae41-550d9986aeb8",
   "metadata": {},
   "source": [
    "***"
   ]
  },
  {
   "cell_type": "markdown",
   "id": "ddc5ce7d-b6d8-46b5-aa91-821d88cd1b62",
   "metadata": {},
   "source": [
    "# ex10. 홀수짝수(이어붙인 후 더하기)"
   ]
  },
  {
   "cell_type": "code",
   "execution_count": 412,
   "id": "46642a97-748b-41f2-a742-6f6087b8b752",
   "metadata": {},
   "outputs": [],
   "source": [
    "def solution(num_list):\n",
    "    even = [str(i) for i in  num_list if i %2==0]\n",
    "    odd = [str(i) for i in num_list if i %2==1]\n",
    "    even1 = int(\"\".join(even))\n",
    "    odd1 = int(\"\".join(odd))\n",
    "    return even1 + odd1"
   ]
  },
  {
   "cell_type": "code",
   "execution_count": 414,
   "id": "cf884827-7a59-44bb-bf3f-0272e4041d7d",
   "metadata": {},
   "outputs": [],
   "source": [
    "lst = [1,2,3,4]"
   ]
  },
  {
   "cell_type": "code",
   "execution_count": 415,
   "id": "bbebcc1d-8fcf-4dad-b103-a2d778044296",
   "metadata": {},
   "outputs": [
    {
     "data": {
      "text/plain": [
       "37"
      ]
     },
     "execution_count": 415,
     "metadata": {},
     "output_type": "execute_result"
    }
   ],
   "source": [
    "solution(lst)"
   ]
  }
 ],
 "metadata": {
  "kernelspec": {
   "display_name": "Python 3 (ipykernel)",
   "language": "python",
   "name": "python3"
  },
  "language_info": {
   "codemirror_mode": {
    "name": "ipython",
    "version": 3
   },
   "file_extension": ".py",
   "mimetype": "text/x-python",
   "name": "python",
   "nbconvert_exporter": "python",
   "pygments_lexer": "ipython3",
   "version": "3.11.4"
  }
 },
 "nbformat": 4,
 "nbformat_minor": 5
}
