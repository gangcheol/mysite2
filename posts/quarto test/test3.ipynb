{
 "cells": [
  {
   "cell_type": "raw",
   "id": "ac634282",
   "metadata": {},
   "source": [
    "---\n",
    "title: \"test3\"\n",
    "author : \"gangcheol lee\"\n",
    "date : \"07/31/23\"\n",
    "---"
   ]
  },
  {
   "cell_type": "markdown",
   "id": "b4069803",
   "metadata": {},
   "source": [
    "# 1. quarto"
   ]
  },
  {
   "cell_type": "markdown",
   "id": "5b6dd1b4",
   "metadata": {},
   "source": [
    "# 2. github 연결"
   ]
  }
 ],
 "metadata": {
  "kernelspec": {
   "display_name": "Python 3 (ipykernel)",
   "language": "python",
   "name": "python3"
  },
  "language_info": {
   "codemirror_mode": {
    "name": "ipython",
    "version": 3
   },
   "file_extension": ".py",
   "mimetype": "text/x-python",
   "name": "python",
   "nbconvert_exporter": "python",
   "pygments_lexer": "ipython3",
   "version": "3.9.12"
  },
  "toc": {
   "base_numbering": 1,
   "nav_menu": {},
   "number_sections": false,
   "sideBar": true,
   "skip_h1_title": false,
   "title_cell": "Table of Contents",
   "title_sidebar": "Contents",
   "toc_cell": false,
   "toc_position": {},
   "toc_section_display": true,
   "toc_window_display": true
  }
 },
 "nbformat": 4,
 "nbformat_minor": 5
}
